{
 "cells": [
  {
   "cell_type": "markdown",
   "id": "7e41b9a9",
   "metadata": {},
   "source": [
    "# COMPLETE TESS LC INFORMATION FOR CARM_VIS OBJECTS"
   ]
  },
  {
   "cell_type": "code",
   "execution_count": 1,
   "id": "c002a739",
   "metadata": {
    "ExecuteTime": {
     "end_time": "2022-06-17T07:10:24.905483Z",
     "start_time": "2022-06-17T07:10:24.896507Z"
    }
   },
   "outputs": [],
   "source": [
    "# NOTA IMPORTANTE - CÓMO IMPLEMENTAR LO DEL \"TIMEOUT\".\n",
    "# https://stackoverflow.com/questions/25027122/break-the-function-after-certain-time\n",
    "# NO SIRVE - SOLO SIRVE PARA ENTORNOS UNIX"
   ]
  },
  {
   "cell_type": "markdown",
   "id": "68d4ff82",
   "metadata": {},
   "source": [
    "In this notebook we complete the TESS information for CARM_VIS objects, trying to use the values already calculated for the previous batch of GTO objects, so as not to repeat the TESS GLS calculations again, as they computation cost is high."
   ]
  },
  {
   "cell_type": "markdown",
   "id": "fec5c87e",
   "metadata": {},
   "source": [
    "**Calculation conditions:**\n",
    "\n",
    "The stars currently under analysis are in the $He_{3}$ instability band, so they are expected to have effective temperatures in the range $T_{eff}\\in[3300, 4300] K$, $\\log g\\in[4.5, 5.1]$, and masses in the range $M_{star}\\in[0.20, 0.60] M_{Sun}$.\n",
    "\n",
    "According to _Table 2_ in _The theoretical instability strip of M dwarf stars (Rodríguez-López, C., et al. 2014, MNRAS, 438, 2371)_ these stars have typical periods of $20 min$ to $3 h$, so we will set the limits of the periodogram frequencies for periods between $10 min$ and $5 h$. In days, this corresponds to a range of $P\\in[0.006944, 0.208333] d$ or, equivalently, frequencies in the range $f\\in[144, 4.8] d^{-1}$.\n",
    "\n",
    "We will use the _Generalized Lomb Scargle Periodogram_ method, as described in [Zechmeister and Kürster, 2009](https://www.aanda.org/articles/aa/full_html/2009/11/aa11296-08/aa11296-08.html) and implemented by GitHub repository [mzechmeister/GLS](https://github.com/mzechmeister/GLS), using the default _ZK_ normalization."
   ]
  },
  {
   "cell_type": "markdown",
   "id": "9d4512e5",
   "metadata": {},
   "source": [
    "## Modules and configuration"
   ]
  },
  {
   "cell_type": "markdown",
   "id": "a24b300e",
   "metadata": {},
   "source": [
    "### Modules"
   ]
  },
  {
   "cell_type": "code",
   "execution_count": 2,
   "id": "bf7cc337",
   "metadata": {
    "ExecuteTime": {
     "end_time": "2022-06-17T07:10:30.028557Z",
     "start_time": "2022-06-17T07:10:27.535804Z"
    }
   },
   "outputs": [],
   "source": [
    "# Modules import:\n",
    "#from collections import OrderedDict\n",
    "import pandas as pd\n",
    "import numpy as np\n",
    "import time\n",
    "\n",
    "# https://github.com/mzechmeister/GLS\n",
    "from gls import Gls\n",
    "\n",
    "from astropy.table import Table, QTable\n",
    "#from astropy.timeseries import TimeSeries\n",
    "from astropy import units as u\n",
    "from astropy.io import fits\n",
    "#from astropy.time import Time\n",
    "\n",
    "import lightkurve as lk\n",
    "\n",
    "#%matplotlib inline\n",
    "import matplotlib.pyplot as plt\n",
    "\n",
    "from pylab import rcParams\n",
    "rcParams['figure.figsize'] = 11, 11\n",
    "\n",
    "#import seaborn as sns\n",
    "#sns.set_style(\"white\", {'figure.figsize':(15,10)})\n",
    "#sns.set_style(\"whitegrid\")\n",
    "#sns.set(rc={'figure.figsize':(15,8)})"
   ]
  },
  {
   "cell_type": "markdown",
   "id": "be1f4594",
   "metadata": {},
   "source": [
    "### Configuration"
   ]
  },
  {
   "cell_type": "code",
   "execution_count": 3,
   "id": "f3feca3c",
   "metadata": {
    "ExecuteTime": {
     "end_time": "2022-06-17T07:10:30.278733Z",
     "start_time": "2022-06-17T07:10:30.254782Z"
    }
   },
   "outputs": [],
   "source": [
    "# Configuration:\n",
    "# Files and folders:\n",
    "GTO_FILE = \"../data/CARM_VIS_objects_with_PG.csv\"\n",
    "REF_GTO_FILE = \"../data/GTO_objects_with_PG.csv\"\n",
    "IN_LC_FOLDER = \"../data/CARMENES_GTO_TESS_lc/lightcurves/\"\n",
    "OUT_IMG_FOLDER = \"../data/CARMENES_GTO_TESS_PGs/figures/\"\n",
    "OUT_PROCESSED_FOLDER = \"../data/CARMENES_GTO_TESS_PGs/\"\n",
    "TESS_EXCEPTION_FILE = \"../data/CARM_VIS_TESS_Exceptions.csv\"\n",
    "#OUT_GTO_FILE = \"../data/GTO_objects_withRVPG.csv\"\n",
    "#OUT_PG_FILE = \"../data/GTO_PGs.csv\"\n",
    "#OUT_ERROR_FILE = \"../data/GTO_PG_ERRORs.csv\"\n",
    "\n",
    "# Periodogram constants:\n",
    "FBEG = 4.8\n",
    "FEND = 144\n",
    "PBEG = None # Default\n",
    "PEND = None # Default\n",
    "OFAC = 10 # Default\n",
    "HIFAC = 1 # Default\n",
    "FREQ = np.linspace(start=FBEG, stop=FEND, num=1000001) # 1,000,001 points between 4.8 and 144 d^(-1)\n",
    "# Must be compatible with FBEG, FEND values\n",
    "NORM = \"ZK\" # Default\n",
    "LS = False # Default\n",
    "FAST = False # Default\n",
    "VERBOSE = False # Default\n",
    "FAP_LEVELS_PLOT = [0.01, 0.05, 0.10] # FAP reference levels to plot\n",
    "\n",
    "# Initial timeout value (to prevent a stuck file to interrupt the whole process)\n",
    "#INITIAL_TIMEOUT = 600 # Seconds\n"
   ]
  },
  {
   "cell_type": "code",
   "execution_count": 4,
   "id": "39b60e99",
   "metadata": {
    "ExecuteTime": {
     "end_time": "2022-06-17T07:10:30.855979Z",
     "start_time": "2022-06-17T07:10:30.838026Z"
    }
   },
   "outputs": [],
   "source": [
    "def tess_lc_load(filename: str):\n",
    "    '''Load the TESS LC file and returns a lightcurve object with just the three relevant columns\n",
    "    Note: it seems to be necessary to drop 'nan' values for GLS to work properly.'''\n",
    "    lc_lk = lk.read(filename).remove_nans()\n",
    "    return lc_lk"
   ]
  },
  {
   "cell_type": "code",
   "execution_count": 5,
   "id": "3b553ca2",
   "metadata": {
    "ExecuteTime": {
     "end_time": "2022-06-17T07:10:33.073027Z",
     "start_time": "2022-06-17T07:10:33.055050Z"
    }
   },
   "outputs": [],
   "source": [
    "def lc_infer_sampling(lc_lk: lk.LightCurve):\n",
    "    '''Infer sampling period from light curve'''\n",
    "    time_diffs = lc_lk['time'][1:] - lc_lk['time'][:-1]\n",
    "    return np.median(time_diffs)"
   ]
  },
  {
   "cell_type": "markdown",
   "id": "471bf7f4",
   "metadata": {},
   "source": [
    "## Data processing"
   ]
  },
  {
   "cell_type": "markdown",
   "id": "993e3a72",
   "metadata": {},
   "source": [
    "### GTO data loading"
   ]
  },
  {
   "cell_type": "code",
   "execution_count": 6,
   "id": "501a2ffe",
   "metadata": {
    "ExecuteTime": {
     "end_time": "2022-06-17T07:10:48.664592Z",
     "start_time": "2022-06-17T07:10:48.600254Z"
    }
   },
   "outputs": [
    {
     "data": {
      "text/html": [
       "<div>\n",
       "<style scoped>\n",
       "    .dataframe tbody tr th:only-of-type {\n",
       "        vertical-align: middle;\n",
       "    }\n",
       "\n",
       "    .dataframe tbody tr th {\n",
       "        vertical-align: top;\n",
       "    }\n",
       "\n",
       "    .dataframe thead th {\n",
       "        text-align: right;\n",
       "    }\n",
       "</style>\n",
       "<table border=\"1\" class=\"dataframe\">\n",
       "  <thead>\n",
       "    <tr style=\"text-align: right;\">\n",
       "      <th></th>\n",
       "      <th>Karmn</th>\n",
       "      <th>Name</th>\n",
       "      <th>Comp</th>\n",
       "      <th>GJ</th>\n",
       "      <th>RA_J2016_deg</th>\n",
       "      <th>DE_J2016_deg</th>\n",
       "      <th>RA_J2000</th>\n",
       "      <th>DE_J2000</th>\n",
       "      <th>l_J2016_deg</th>\n",
       "      <th>b_J2016_deg</th>\n",
       "      <th>...</th>\n",
       "      <th>T0_PG_TESS</th>\n",
       "      <th>e_T0_PG_TESS</th>\n",
       "      <th>offset_PG_TESS</th>\n",
       "      <th>e_offset_PG_TESS</th>\n",
       "      <th>FAP_PG_TESS</th>\n",
       "      <th>valid_PG_TESS</th>\n",
       "      <th>error_PG_TESS</th>\n",
       "      <th>elapsed_time_PG_TESS</th>\n",
       "      <th>fits_file_TESS</th>\n",
       "      <th>fig_file_TESS</th>\n",
       "    </tr>\n",
       "  </thead>\n",
       "  <tbody>\n",
       "    <tr>\n",
       "      <th>0</th>\n",
       "      <td>J23585+076</td>\n",
       "      <td>Wolf 1051</td>\n",
       "      <td>AB</td>\n",
       "      <td>4383</td>\n",
       "      <td>359.636420</td>\n",
       "      <td>7.656947</td>\n",
       "      <td>23:58:32.65</td>\n",
       "      <td>+07:39:30.1</td>\n",
       "      <td>100.839686</td>\n",
       "      <td>-52.931049</td>\n",
       "      <td>...</td>\n",
       "      <td>NaN</td>\n",
       "      <td>NaN</td>\n",
       "      <td>NaN</td>\n",
       "      <td>NaN</td>\n",
       "      <td>NaN</td>\n",
       "      <td>0.0</td>\n",
       "      <td>Not recognized as a supported data product:\\nn...</td>\n",
       "      <td>0.002992</td>\n",
       "      <td>NaN</td>\n",
       "      <td>NaN</td>\n",
       "    </tr>\n",
       "    <tr>\n",
       "      <th>1</th>\n",
       "      <td>J23556-061</td>\n",
       "      <td>GJ 912</td>\n",
       "      <td>AB</td>\n",
       "      <td>912</td>\n",
       "      <td>358.913617</td>\n",
       "      <td>-6.144283</td>\n",
       "      <td>23:55:39.78</td>\n",
       "      <td>-06:08:33.4</td>\n",
       "      <td>88.129933</td>\n",
       "      <td>-65.175491</td>\n",
       "      <td>...</td>\n",
       "      <td>NaN</td>\n",
       "      <td>NaN</td>\n",
       "      <td>NaN</td>\n",
       "      <td>NaN</td>\n",
       "      <td>NaN</td>\n",
       "      <td>0.0</td>\n",
       "      <td>Not recognized as a supported data product:\\nn...</td>\n",
       "      <td>0.001671</td>\n",
       "      <td>NaN</td>\n",
       "      <td>NaN</td>\n",
       "    </tr>\n",
       "    <tr>\n",
       "      <th>2</th>\n",
       "      <td>J23548+385</td>\n",
       "      <td>RX J2354.8+3831</td>\n",
       "      <td>-</td>\n",
       "      <td>NaN</td>\n",
       "      <td>358.713658</td>\n",
       "      <td>38.526340</td>\n",
       "      <td>23:54:51.46</td>\n",
       "      <td>+38:31:36.2</td>\n",
       "      <td>110.941908</td>\n",
       "      <td>-23.024449</td>\n",
       "      <td>...</td>\n",
       "      <td>1764.609498</td>\n",
       "      <td>0.010704</td>\n",
       "      <td>8262.219751</td>\n",
       "      <td>1.365667</td>\n",
       "      <td>1.000000</td>\n",
       "      <td>1.0</td>\n",
       "      <td>NaN</td>\n",
       "      <td>344.002685</td>\n",
       "      <td>../data/CARMENES_GTO_TESS_PGs/J23548+385_TESS_...</td>\n",
       "      <td>../data/CARMENES_GTO_TESS_PGs/figures/J23548+3...</td>\n",
       "    </tr>\n",
       "    <tr>\n",
       "      <th>3</th>\n",
       "      <td>J23505-095</td>\n",
       "      <td>LP 763-012</td>\n",
       "      <td>-</td>\n",
       "      <td>4367</td>\n",
       "      <td>357.634705</td>\n",
       "      <td>-9.560964</td>\n",
       "      <td>23:50:31.64</td>\n",
       "      <td>-09:33:32.7</td>\n",
       "      <td>80.777067</td>\n",
       "      <td>-67.303426</td>\n",
       "      <td>...</td>\n",
       "      <td>1354.108815</td>\n",
       "      <td>0.001261</td>\n",
       "      <td>7767.134654</td>\n",
       "      <td>0.094298</td>\n",
       "      <td>0.064148</td>\n",
       "      <td>1.0</td>\n",
       "      <td>NaN</td>\n",
       "      <td>473.533042</td>\n",
       "      <td>../data/CARMENES_GTO_TESS_PGs/J23505-095_TESS_...</td>\n",
       "      <td>../data/CARMENES_GTO_TESS_PGs/figures/J23505-0...</td>\n",
       "    </tr>\n",
       "    <tr>\n",
       "      <th>4</th>\n",
       "      <td>J23492+024</td>\n",
       "      <td>BR Psc</td>\n",
       "      <td>-</td>\n",
       "      <td>908</td>\n",
       "      <td>357.306604</td>\n",
       "      <td>2.396918</td>\n",
       "      <td>23:49:12.53</td>\n",
       "      <td>+02:24:04.4</td>\n",
       "      <td>93.567467</td>\n",
       "      <td>-56.885396</td>\n",
       "      <td>...</td>\n",
       "      <td>NaN</td>\n",
       "      <td>NaN</td>\n",
       "      <td>NaN</td>\n",
       "      <td>NaN</td>\n",
       "      <td>NaN</td>\n",
       "      <td>0.0</td>\n",
       "      <td>Not recognized as a supported data product:\\nn...</td>\n",
       "      <td>0.000997</td>\n",
       "      <td>NaN</td>\n",
       "      <td>NaN</td>\n",
       "    </tr>\n",
       "  </tbody>\n",
       "</table>\n",
       "<p>5 rows × 248 columns</p>\n",
       "</div>"
      ],
      "text/plain": [
       "        Karmn             Name Comp    GJ  RA_J2016_deg  DE_J2016_deg  \\\n",
       "0  J23585+076        Wolf 1051   AB  4383    359.636420      7.656947   \n",
       "1  J23556-061           GJ 912   AB   912    358.913617     -6.144283   \n",
       "2  J23548+385  RX J2354.8+3831    -   NaN    358.713658     38.526340   \n",
       "3  J23505-095       LP 763-012    -  4367    357.634705     -9.560964   \n",
       "4  J23492+024           BR Psc    -   908    357.306604      2.396918   \n",
       "\n",
       "      RA_J2000     DE_J2000  l_J2016_deg  b_J2016_deg  ...   T0_PG_TESS  \\\n",
       "0  23:58:32.65  +07:39:30.1   100.839686   -52.931049  ...          NaN   \n",
       "1  23:55:39.78  -06:08:33.4    88.129933   -65.175491  ...          NaN   \n",
       "2  23:54:51.46  +38:31:36.2   110.941908   -23.024449  ...  1764.609498   \n",
       "3  23:50:31.64  -09:33:32.7    80.777067   -67.303426  ...  1354.108815   \n",
       "4  23:49:12.53  +02:24:04.4    93.567467   -56.885396  ...          NaN   \n",
       "\n",
       "  e_T0_PG_TESS  offset_PG_TESS e_offset_PG_TESS  FAP_PG_TESS  valid_PG_TESS  \\\n",
       "0          NaN             NaN              NaN          NaN            0.0   \n",
       "1          NaN             NaN              NaN          NaN            0.0   \n",
       "2     0.010704     8262.219751         1.365667     1.000000            1.0   \n",
       "3     0.001261     7767.134654         0.094298     0.064148            1.0   \n",
       "4          NaN             NaN              NaN          NaN            0.0   \n",
       "\n",
       "                                       error_PG_TESS  elapsed_time_PG_TESS  \\\n",
       "0  Not recognized as a supported data product:\\nn...              0.002992   \n",
       "1  Not recognized as a supported data product:\\nn...              0.001671   \n",
       "2                                                NaN            344.002685   \n",
       "3                                                NaN            473.533042   \n",
       "4  Not recognized as a supported data product:\\nn...              0.000997   \n",
       "\n",
       "                                      fits_file_TESS  \\\n",
       "0                                                NaN   \n",
       "1                                                NaN   \n",
       "2  ../data/CARMENES_GTO_TESS_PGs/J23548+385_TESS_...   \n",
       "3  ../data/CARMENES_GTO_TESS_PGs/J23505-095_TESS_...   \n",
       "4                                                NaN   \n",
       "\n",
       "                                       fig_file_TESS  \n",
       "0                                                NaN  \n",
       "1                                                NaN  \n",
       "2  ../data/CARMENES_GTO_TESS_PGs/figures/J23548+3...  \n",
       "3  ../data/CARMENES_GTO_TESS_PGs/figures/J23505-0...  \n",
       "4                                                NaN  \n",
       "\n",
       "[5 rows x 248 columns]"
      ]
     },
     "execution_count": 6,
     "metadata": {},
     "output_type": "execute_result"
    }
   ],
   "source": [
    "# Load GTO data table:\n",
    "gto = pd.read_csv(GTO_FILE, sep=',', decimal='.')\n",
    "gto.head(5)"
   ]
  },
  {
   "cell_type": "code",
   "execution_count": 7,
   "id": "2e77fa32",
   "metadata": {
    "ExecuteTime": {
     "end_time": "2022-06-17T07:10:49.502072Z",
     "start_time": "2022-06-17T07:10:49.488084Z"
    }
   },
   "outputs": [
    {
     "name": "stdout",
     "output_type": "stream",
     "text": [
      "['Karmn', 'Name', 'Comp', 'GJ', 'RA_J2016_deg', 'DE_J2016_deg', 'RA_J2000', 'DE_J2000', 'l_J2016_deg', 'b_J2016_deg', 'Ref01', 'SpT', 'SpTnum', 'Ref02', 'Teff_K', 'eTeff_K', 'logg', 'elogg', '[Fe/H]', 'e[Fe/H]', 'Ref03', 'L_Lsol', 'eL_Lsol', 'Ref04', 'R_Rsol', 'eR_Rsol', 'Ref05', 'M_Msol', 'eM_Msol', 'Ref06', 'muRA_masa-1', 'emuRA_masa-1', 'muDE_masa-1', 'emuDE_masa-1', 'Ref07', 'pi_mas', 'epi_mas', 'Ref08', 'd_pc', 'ed_pc', 'Ref09', 'Vr_kms-1', 'eVr_kms-1', 'Ref10', 'ruwe', 'Ref11', 'U_kms-1', 'eU_kms-1', 'V_kms-1', 'eV_kms-1', 'W_kms-1', 'eW_kms-1', 'Ref12', 'sa_m/s/a', 'esa_m/s/a', 'Ref13', 'SKG', 'Ref14', 'SKG_lit', 'Ref14_lit', 'Pop', 'Ref15', 'vsini_flag', 'vsini_kms-1', 'evsini_kms-1', 'Ref16', 'P_d', 'eP_d', 'Ref17', 'pEWHalpha_A', 'epEWHalpha_A', 'Ref18', 'log(LHalpha/Lbol)', 'elog(LHalpha/Lbol)', 'Ref19', '1RXS', 'CRT_s-1', 'eCRT_s-1', 'HR1', 'eHR1', 'HR2', 'eHR2', 'Flux_X_E-13_ergcm-2s-1', 'eFlux_X_E-13_ergcm-2s-1', 'LX/LJ', 'eLX/LJ', 'Ref20', 'Activity', 'Ref21', 'FUV_mag', 'eFUV_mag', 'NUV_mag', 'eNUV_mag', 'Ref22', 'u_mag', 'eu_mag', 'Ref23', 'BT_mag', 'eBT_mag', 'Ref24', 'B_mag', 'eB_mag', 'Ref25', 'BP_mag', 'eBP_mag', 'Ref26', 'g_mag', 'eg_mag', 'Ref27', 'VT_mag', 'eVT_mag', 'Ref28', 'V_mag', 'eV_mag', 'Ref29', 'Ra_mag', 'Ref30', 'r_mag', 'er_mag', 'Ref31', 'GG_mag', 'eGG_mag', 'Ref32', 'i_mag', 'ei_mag', 'Ref33', 'RP_mag', 'eRP_mag', 'Ref34', 'IN_mag', 'Ref35', 'J_mag', 'eJ_mag', 'H_mag', 'eH_mag', 'Ks_mag', 'eKs_mag', 'QFlag_2M', 'Ref36', 'W1_mag', 'eW1_mag', 'W2_mag', 'eW2_mag', 'W3_mag', 'eW3_mag', 'W4_mag', 'eW4_mag', 'QFlag_WISE', 'Ref37', 'Multiplicity', 'WideWDS', 'Widerho_arcsec', 'eWiderho_arcsec', 'Ref38', 'WideCompanionName', 'WideCompanionSpT', 'CloseWDS', 'Closerho_arcsec', 'eCloserho_arcsec', 'Ref39', 'CloseCompanionSpT', 'RV', 'Planet', 'Ref40', 'PlanetNum', 'LoRes_spectrum', 'HiRes_spectrum', 'LoRes_imaging', 'HiRes_imaging', 'Class', 'Survey', 'Notes', 'Gaia_id_1', '2MASS_id', 'TIC_id', 'Teff_min_K', 'Teff_max_K', 'logg_min', 'logg_max', 'is_GTO', 'rv_file', 'lc_file', 'has_rv', 'has_lc', 'InstBand_nominal', 'InstBand_ranged', 'n_RV', 'Ps_RV', 'fs_RV', 'wmean_RV', 'wrms_RV', 'info_PG_RV', 'maxP_PG_RV', 'maxSNR_PG_RV', 'rms_PG_RV', 'f_PG_RV', 'e_f_PG_RV', 'Pd_PG_RV', 'e_Pd_PG_RV', 'Ph_PG_RV', 'e_Ph_PG_RV', 'Pm_PG_RV', 'e_Pm_PG_RV', 'A_PG_RV', 'e_A_PG_RV', 'ph_PG_RV', 'e_ph_PG_RV', 'T0_PG_RV', 'e_T0_PG_RV', 'offset_PG_RV', 'e_offset_PG_RV', 'FAP_PG_RV', 'valid_PG_RV', 'error_PG_RV', 'elapsed_time_PG_RV', 'fits_file_RV', 'fig_file_RV', 'n_TESS', 'Ps_TESS', 'fs_TESS', 'wmean_TESS', 'wrms_TESS', 'info_PG_TESS', 'maxP_PG_TESS', 'maxSNR_PG_TESS', 'rms_PG_TESS', 'f_PG_TESS', 'e_f_PG_TESS', 'Pd_PG_TESS', 'e_Pd_PG_TESS', 'Ph_PG_TESS', 'e_Ph_PG_TESS', 'Pm_PG_TESS', 'e_Pm_PG_TESS', 'A_PG_TESS', 'e_A_PG_TESS', 'ph_PG_TESS', 'e_ph_PG_TESS', 'T0_PG_TESS', 'e_T0_PG_TESS', 'offset_PG_TESS', 'e_offset_PG_TESS', 'FAP_PG_TESS', 'valid_PG_TESS', 'error_PG_TESS', 'elapsed_time_PG_TESS', 'fits_file_TESS', 'fig_file_TESS']\n"
     ]
    }
   ],
   "source": [
    "print(list(gto.columns))"
   ]
  },
  {
   "cell_type": "code",
   "execution_count": 8,
   "id": "d1adb3a0",
   "metadata": {
    "ExecuteTime": {
     "end_time": "2022-06-17T07:10:50.727675Z",
     "start_time": "2022-06-17T07:10:50.718701Z"
    }
   },
   "outputs": [
    {
     "data": {
      "text/plain": [
       "Karmn                                             J19025+754\n",
       "has_lc                                                  True\n",
       "lc_file    ../data/CARMENES_GTO_TESS_lc/lightcurves/J1902...\n",
       "Name: 72, dtype: object"
      ]
     },
     "execution_count": 8,
     "metadata": {},
     "output_type": "execute_result"
    }
   ],
   "source": [
    "gto.loc[72, ['Karmn', 'has_lc', 'lc_file']]"
   ]
  },
  {
   "cell_type": "markdown",
   "id": "d9a9a082",
   "metadata": {},
   "source": [
    "Generate the proper auxiliary columns (with the basic periodograms results)."
   ]
  },
  {
   "cell_type": "code",
   "execution_count": 9,
   "id": "19c50c80",
   "metadata": {
    "ExecuteTime": {
     "end_time": "2022-06-17T07:10:51.783042Z",
     "start_time": "2022-06-17T07:10:51.767054Z"
    }
   },
   "outputs": [],
   "source": [
    "# Additional columns:\n",
    "if 'n_TESS' in gto.columns:\n",
    "    pass\n",
    "else:\n",
    "    gto['n_TESS'] = None # Number of points in TESS LC\n",
    "    gto['Ps_TESS'] = None # Sampling period (d)\n",
    "    gto['fs_TESS'] = None # Sampling frequency (d^(-1))\n",
    "    gto['wmean_TESS'] = None # Mean of TESS LC\n",
    "    gto['wrms_TESS'] = None # RMS of TESS LC\n",
    "    gto['info_PG_TESS'] = None # Information text about the PG\n",
    "    gto['maxP_PG_TESS'] = None # Max power value in the PG\n",
    "    gto['maxSNR_PG_TESS'] = None # Max power value in the PG\n",
    "    gto['rms_PG_TESS'] = None # RMS value in the PG residuals\n",
    "    gto['f_PG_TESS'] = None # Best frequency in the PG (d^(-1))\n",
    "    gto['e_f_PG_TESS'] = None # Error of the best frequency in the PG (d^(-1))\n",
    "    gto['Pd_PG_TESS'] = None # Best period in the PG (d)\n",
    "    gto['e_Pd_PG_TESS'] = None # Error of the best period in the PG (d)\n",
    "    gto['Ph_PG_TESS'] = None # Best period in the PG (hours)\n",
    "    gto['e_Ph_PG_TESS'] = None # Error of the best period in the PG (hours)\n",
    "    gto['Pm_PG_TESS'] = None # Best period in the PG (minutes)\n",
    "    gto['e_Pm_PG_TESS'] = None # Error of the best period in the PG (minutes)\n",
    "    gto['A_PG_TESS'] = None # Amplitude of the best frequency\n",
    "    gto['e_A_PG_TESS'] = None # Error of the amplitude of the best frequency\n",
    "    gto['ph_PG_TESS'] = None # Amplitude of the best frequency\n",
    "    gto['e_ph_PG_TESS'] = None # Error of the amplitude of the best frequency\n",
    "    gto['T0_PG_TESS'] = None # Reference epoch of the best frequency\n",
    "    gto['e_T0_PG_TESS'] = None # Error of the epoch of the best frequency\n",
    "    gto['offset_PG_TESS'] = None # Offset of the best frequency\n",
    "    gto['e_offset_PG_TESS'] = None # Error of the offset of the best frequency\n",
    "    gto['FAP_PG_TESS'] = None # False alarm probability\n",
    "    gto['valid_PG_TESS'] = None # Flag to indicate if the periodogram calculation succeeded (1) or not (0).\n",
    "    gto['error_PG_TESS'] = None # The error raised during processing. Empty if processing was successful.\n",
    "    gto['elapsed_time_PG_TESS'] = None # The time elapsed in calculation\n",
    "    gto['fits_file_TESS'] = None # The name of the processed file.\n",
    "    gto['fig_file_TESS'] = None # The name of the figure file.\n"
   ]
  },
  {
   "cell_type": "code",
   "execution_count": 10,
   "id": "bedb2b0c",
   "metadata": {
    "ExecuteTime": {
     "end_time": "2022-06-17T07:10:53.116734Z",
     "start_time": "2022-06-17T07:10:53.111748Z"
    }
   },
   "outputs": [
    {
     "name": "stdout",
     "output_type": "stream",
     "text": [
      "['Karmn', 'Name', 'Comp', 'GJ', 'RA_J2016_deg', 'DE_J2016_deg', 'RA_J2000', 'DE_J2000', 'l_J2016_deg', 'b_J2016_deg', 'Ref01', 'SpT', 'SpTnum', 'Ref02', 'Teff_K', 'eTeff_K', 'logg', 'elogg', '[Fe/H]', 'e[Fe/H]', 'Ref03', 'L_Lsol', 'eL_Lsol', 'Ref04', 'R_Rsol', 'eR_Rsol', 'Ref05', 'M_Msol', 'eM_Msol', 'Ref06', 'muRA_masa-1', 'emuRA_masa-1', 'muDE_masa-1', 'emuDE_masa-1', 'Ref07', 'pi_mas', 'epi_mas', 'Ref08', 'd_pc', 'ed_pc', 'Ref09', 'Vr_kms-1', 'eVr_kms-1', 'Ref10', 'ruwe', 'Ref11', 'U_kms-1', 'eU_kms-1', 'V_kms-1', 'eV_kms-1', 'W_kms-1', 'eW_kms-1', 'Ref12', 'sa_m/s/a', 'esa_m/s/a', 'Ref13', 'SKG', 'Ref14', 'SKG_lit', 'Ref14_lit', 'Pop', 'Ref15', 'vsini_flag', 'vsini_kms-1', 'evsini_kms-1', 'Ref16', 'P_d', 'eP_d', 'Ref17', 'pEWHalpha_A', 'epEWHalpha_A', 'Ref18', 'log(LHalpha/Lbol)', 'elog(LHalpha/Lbol)', 'Ref19', '1RXS', 'CRT_s-1', 'eCRT_s-1', 'HR1', 'eHR1', 'HR2', 'eHR2', 'Flux_X_E-13_ergcm-2s-1', 'eFlux_X_E-13_ergcm-2s-1', 'LX/LJ', 'eLX/LJ', 'Ref20', 'Activity', 'Ref21', 'FUV_mag', 'eFUV_mag', 'NUV_mag', 'eNUV_mag', 'Ref22', 'u_mag', 'eu_mag', 'Ref23', 'BT_mag', 'eBT_mag', 'Ref24', 'B_mag', 'eB_mag', 'Ref25', 'BP_mag', 'eBP_mag', 'Ref26', 'g_mag', 'eg_mag', 'Ref27', 'VT_mag', 'eVT_mag', 'Ref28', 'V_mag', 'eV_mag', 'Ref29', 'Ra_mag', 'Ref30', 'r_mag', 'er_mag', 'Ref31', 'GG_mag', 'eGG_mag', 'Ref32', 'i_mag', 'ei_mag', 'Ref33', 'RP_mag', 'eRP_mag', 'Ref34', 'IN_mag', 'Ref35', 'J_mag', 'eJ_mag', 'H_mag', 'eH_mag', 'Ks_mag', 'eKs_mag', 'QFlag_2M', 'Ref36', 'W1_mag', 'eW1_mag', 'W2_mag', 'eW2_mag', 'W3_mag', 'eW3_mag', 'W4_mag', 'eW4_mag', 'QFlag_WISE', 'Ref37', 'Multiplicity', 'WideWDS', 'Widerho_arcsec', 'eWiderho_arcsec', 'Ref38', 'WideCompanionName', 'WideCompanionSpT', 'CloseWDS', 'Closerho_arcsec', 'eCloserho_arcsec', 'Ref39', 'CloseCompanionSpT', 'RV', 'Planet', 'Ref40', 'PlanetNum', 'LoRes_spectrum', 'HiRes_spectrum', 'LoRes_imaging', 'HiRes_imaging', 'Class', 'Survey', 'Notes', 'Gaia_id_1', '2MASS_id', 'TIC_id', 'Teff_min_K', 'Teff_max_K', 'logg_min', 'logg_max', 'is_GTO', 'rv_file', 'lc_file', 'has_rv', 'has_lc', 'InstBand_nominal', 'InstBand_ranged', 'n_RV', 'Ps_RV', 'fs_RV', 'wmean_RV', 'wrms_RV', 'info_PG_RV', 'maxP_PG_RV', 'maxSNR_PG_RV', 'rms_PG_RV', 'f_PG_RV', 'e_f_PG_RV', 'Pd_PG_RV', 'e_Pd_PG_RV', 'Ph_PG_RV', 'e_Ph_PG_RV', 'Pm_PG_RV', 'e_Pm_PG_RV', 'A_PG_RV', 'e_A_PG_RV', 'ph_PG_RV', 'e_ph_PG_RV', 'T0_PG_RV', 'e_T0_PG_RV', 'offset_PG_RV', 'e_offset_PG_RV', 'FAP_PG_RV', 'valid_PG_RV', 'error_PG_RV', 'elapsed_time_PG_RV', 'fits_file_RV', 'fig_file_RV', 'n_TESS', 'Ps_TESS', 'fs_TESS', 'wmean_TESS', 'wrms_TESS', 'info_PG_TESS', 'maxP_PG_TESS', 'maxSNR_PG_TESS', 'rms_PG_TESS', 'f_PG_TESS', 'e_f_PG_TESS', 'Pd_PG_TESS', 'e_Pd_PG_TESS', 'Ph_PG_TESS', 'e_Ph_PG_TESS', 'Pm_PG_TESS', 'e_Pm_PG_TESS', 'A_PG_TESS', 'e_A_PG_TESS', 'ph_PG_TESS', 'e_ph_PG_TESS', 'T0_PG_TESS', 'e_T0_PG_TESS', 'offset_PG_TESS', 'e_offset_PG_TESS', 'FAP_PG_TESS', 'valid_PG_TESS', 'error_PG_TESS', 'elapsed_time_PG_TESS', 'fits_file_TESS', 'fig_file_TESS']\n"
     ]
    }
   ],
   "source": [
    "print(list(gto.columns))"
   ]
  },
  {
   "cell_type": "markdown",
   "id": "526417fd",
   "metadata": {},
   "source": [
    "### Load previous reference GTO objetcs data"
   ]
  },
  {
   "cell_type": "code",
   "execution_count": 11,
   "id": "9099fe67",
   "metadata": {
    "ExecuteTime": {
     "end_time": "2022-06-17T07:10:58.616644Z",
     "start_time": "2022-06-17T07:10:58.567380Z"
    }
   },
   "outputs": [
    {
     "data": {
      "text/html": [
       "<div>\n",
       "<style scoped>\n",
       "    .dataframe tbody tr th:only-of-type {\n",
       "        vertical-align: middle;\n",
       "    }\n",
       "\n",
       "    .dataframe tbody tr th {\n",
       "        vertical-align: top;\n",
       "    }\n",
       "\n",
       "    .dataframe thead th {\n",
       "        text-align: right;\n",
       "    }\n",
       "</style>\n",
       "<table border=\"1\" class=\"dataframe\">\n",
       "  <thead>\n",
       "    <tr style=\"text-align: right;\">\n",
       "      <th></th>\n",
       "      <th>Karmn</th>\n",
       "      <th>Name</th>\n",
       "      <th>Comp</th>\n",
       "      <th>GJ</th>\n",
       "      <th>RA_J2016_deg</th>\n",
       "      <th>DE_J2016_deg</th>\n",
       "      <th>RA_J2000</th>\n",
       "      <th>DE_J2000</th>\n",
       "      <th>l_J2016_deg</th>\n",
       "      <th>b_J2016_deg</th>\n",
       "      <th>...</th>\n",
       "      <th>T0_PG_TESS</th>\n",
       "      <th>e_T0_PG_TESS</th>\n",
       "      <th>offset_PG_TESS</th>\n",
       "      <th>e_offset_PG_TESS</th>\n",
       "      <th>FAP_PG_TESS</th>\n",
       "      <th>valid_PG_TESS</th>\n",
       "      <th>error_PG_TESS</th>\n",
       "      <th>elapsed_time_PG_TESS</th>\n",
       "      <th>fits_file_TESS</th>\n",
       "      <th>fig_file_TESS</th>\n",
       "    </tr>\n",
       "  </thead>\n",
       "  <tbody>\n",
       "    <tr>\n",
       "      <th>0</th>\n",
       "      <td>J23585+076</td>\n",
       "      <td>Wolf 1051</td>\n",
       "      <td>AB</td>\n",
       "      <td>4383</td>\n",
       "      <td>359.636420</td>\n",
       "      <td>7.656947</td>\n",
       "      <td>23:58:32.65</td>\n",
       "      <td>+07:39:30.1</td>\n",
       "      <td>100.839686</td>\n",
       "      <td>-52.931049</td>\n",
       "      <td>...</td>\n",
       "      <td>NaN</td>\n",
       "      <td>NaN</td>\n",
       "      <td>NaN</td>\n",
       "      <td>NaN</td>\n",
       "      <td>NaN</td>\n",
       "      <td>0.0</td>\n",
       "      <td>Not recognized as a supported data product:\\nn...</td>\n",
       "      <td>0.002199</td>\n",
       "      <td>NaN</td>\n",
       "      <td>NaN</td>\n",
       "    </tr>\n",
       "    <tr>\n",
       "      <th>1</th>\n",
       "      <td>J23556-061</td>\n",
       "      <td>GJ 912</td>\n",
       "      <td>AB</td>\n",
       "      <td>912</td>\n",
       "      <td>358.913617</td>\n",
       "      <td>-6.144283</td>\n",
       "      <td>23:55:39.78</td>\n",
       "      <td>-06:08:33.4</td>\n",
       "      <td>88.129933</td>\n",
       "      <td>-65.175491</td>\n",
       "      <td>...</td>\n",
       "      <td>NaN</td>\n",
       "      <td>NaN</td>\n",
       "      <td>NaN</td>\n",
       "      <td>NaN</td>\n",
       "      <td>NaN</td>\n",
       "      <td>0.0</td>\n",
       "      <td>Not recognized as a supported data product:\\nn...</td>\n",
       "      <td>0.000974</td>\n",
       "      <td>NaN</td>\n",
       "      <td>NaN</td>\n",
       "    </tr>\n",
       "    <tr>\n",
       "      <th>2</th>\n",
       "      <td>J23548+385</td>\n",
       "      <td>RX J2354.8+3831</td>\n",
       "      <td>-</td>\n",
       "      <td>NaN</td>\n",
       "      <td>358.713658</td>\n",
       "      <td>38.526340</td>\n",
       "      <td>23:54:51.46</td>\n",
       "      <td>+38:31:36.2</td>\n",
       "      <td>110.941908</td>\n",
       "      <td>-23.024449</td>\n",
       "      <td>...</td>\n",
       "      <td>1764.609498</td>\n",
       "      <td>0.010704</td>\n",
       "      <td>8262.219751</td>\n",
       "      <td>1.365667</td>\n",
       "      <td>1.000000</td>\n",
       "      <td>1.0</td>\n",
       "      <td>NaN</td>\n",
       "      <td>344.002685</td>\n",
       "      <td>../data/CARMENES_GTO_TESS_PGs/J23548+385_TESS_...</td>\n",
       "      <td>../data/CARMENES_GTO_TESS_PGs/figures/J23548+3...</td>\n",
       "    </tr>\n",
       "    <tr>\n",
       "      <th>3</th>\n",
       "      <td>J23505-095</td>\n",
       "      <td>LP 763-012</td>\n",
       "      <td>-</td>\n",
       "      <td>4367</td>\n",
       "      <td>357.634705</td>\n",
       "      <td>-9.560964</td>\n",
       "      <td>23:50:31.64</td>\n",
       "      <td>-09:33:32.7</td>\n",
       "      <td>80.777067</td>\n",
       "      <td>-67.303426</td>\n",
       "      <td>...</td>\n",
       "      <td>1354.108815</td>\n",
       "      <td>0.001261</td>\n",
       "      <td>7767.134654</td>\n",
       "      <td>0.094298</td>\n",
       "      <td>0.064148</td>\n",
       "      <td>1.0</td>\n",
       "      <td>NaN</td>\n",
       "      <td>473.533042</td>\n",
       "      <td>../data/CARMENES_GTO_TESS_PGs/J23505-095_TESS_...</td>\n",
       "      <td>../data/CARMENES_GTO_TESS_PGs/figures/J23505-0...</td>\n",
       "    </tr>\n",
       "    <tr>\n",
       "      <th>4</th>\n",
       "      <td>J23492+024</td>\n",
       "      <td>BR Psc</td>\n",
       "      <td>-</td>\n",
       "      <td>908</td>\n",
       "      <td>357.306604</td>\n",
       "      <td>2.396918</td>\n",
       "      <td>23:49:12.53</td>\n",
       "      <td>+02:24:04.4</td>\n",
       "      <td>93.567467</td>\n",
       "      <td>-56.885396</td>\n",
       "      <td>...</td>\n",
       "      <td>NaN</td>\n",
       "      <td>NaN</td>\n",
       "      <td>NaN</td>\n",
       "      <td>NaN</td>\n",
       "      <td>NaN</td>\n",
       "      <td>0.0</td>\n",
       "      <td>Not recognized as a supported data product:\\nn...</td>\n",
       "      <td>0.000984</td>\n",
       "      <td>NaN</td>\n",
       "      <td>NaN</td>\n",
       "    </tr>\n",
       "  </tbody>\n",
       "</table>\n",
       "<p>5 rows × 248 columns</p>\n",
       "</div>"
      ],
      "text/plain": [
       "        Karmn             Name Comp    GJ  RA_J2016_deg  DE_J2016_deg  \\\n",
       "0  J23585+076        Wolf 1051   AB  4383    359.636420      7.656947   \n",
       "1  J23556-061           GJ 912   AB   912    358.913617     -6.144283   \n",
       "2  J23548+385  RX J2354.8+3831    -   NaN    358.713658     38.526340   \n",
       "3  J23505-095       LP 763-012    -  4367    357.634705     -9.560964   \n",
       "4  J23492+024           BR Psc    -   908    357.306604      2.396918   \n",
       "\n",
       "      RA_J2000     DE_J2000  l_J2016_deg  b_J2016_deg  ...   T0_PG_TESS  \\\n",
       "0  23:58:32.65  +07:39:30.1   100.839686   -52.931049  ...          NaN   \n",
       "1  23:55:39.78  -06:08:33.4    88.129933   -65.175491  ...          NaN   \n",
       "2  23:54:51.46  +38:31:36.2   110.941908   -23.024449  ...  1764.609498   \n",
       "3  23:50:31.64  -09:33:32.7    80.777067   -67.303426  ...  1354.108815   \n",
       "4  23:49:12.53  +02:24:04.4    93.567467   -56.885396  ...          NaN   \n",
       "\n",
       "  e_T0_PG_TESS  offset_PG_TESS e_offset_PG_TESS  FAP_PG_TESS  valid_PG_TESS  \\\n",
       "0          NaN             NaN              NaN          NaN            0.0   \n",
       "1          NaN             NaN              NaN          NaN            0.0   \n",
       "2     0.010704     8262.219751         1.365667     1.000000            1.0   \n",
       "3     0.001261     7767.134654         0.094298     0.064148            1.0   \n",
       "4          NaN             NaN              NaN          NaN            0.0   \n",
       "\n",
       "                                       error_PG_TESS  elapsed_time_PG_TESS  \\\n",
       "0  Not recognized as a supported data product:\\nn...              0.002199   \n",
       "1  Not recognized as a supported data product:\\nn...              0.000974   \n",
       "2                                                NaN            344.002685   \n",
       "3                                                NaN            473.533042   \n",
       "4  Not recognized as a supported data product:\\nn...              0.000984   \n",
       "\n",
       "                                      fits_file_TESS  \\\n",
       "0                                                NaN   \n",
       "1                                                NaN   \n",
       "2  ../data/CARMENES_GTO_TESS_PGs/J23548+385_TESS_...   \n",
       "3  ../data/CARMENES_GTO_TESS_PGs/J23505-095_TESS_...   \n",
       "4                                                NaN   \n",
       "\n",
       "                                       fig_file_TESS  \n",
       "0                                                NaN  \n",
       "1                                                NaN  \n",
       "2  ../data/CARMENES_GTO_TESS_PGs/figures/J23548+3...  \n",
       "3  ../data/CARMENES_GTO_TESS_PGs/figures/J23505-0...  \n",
       "4                                                NaN  \n",
       "\n",
       "[5 rows x 248 columns]"
      ]
     },
     "execution_count": 11,
     "metadata": {},
     "output_type": "execute_result"
    }
   ],
   "source": [
    "ref_gto = pd.read_csv(REF_GTO_FILE, sep=',', decimal='.')\n",
    "ref_gto.head(5)"
   ]
  },
  {
   "cell_type": "markdown",
   "id": "597c96b4",
   "metadata": {},
   "source": [
    "### Batch processing of all TESS files"
   ]
  },
  {
   "cell_type": "code",
   "execution_count": 12,
   "id": "69a20e73",
   "metadata": {
    "ExecuteTime": {
     "end_time": "2022-06-17T07:10:59.531461Z",
     "start_time": "2022-06-17T07:10:59.518495Z"
    }
   },
   "outputs": [
    {
     "data": {
      "text/plain": [
       "390"
      ]
     },
     "execution_count": 12,
     "metadata": {},
     "output_type": "execute_result"
    }
   ],
   "source": [
    "n = len(gto)\n",
    "n"
   ]
  },
  {
   "cell_type": "raw",
   "id": "386e26b3",
   "metadata": {
    "ExecuteTime": {
     "end_time": "2022-06-16T15:20:41.958908Z",
     "start_time": "2022-06-16T15:20:41.936556Z"
    }
   },
   "source": [
    "a = pd.DataFrame(data=[[1, 2, 3], [4, 5, 6], [7, 8, 9]], columns=['A','B', 'C'])\n",
    "a"
   ]
  },
  {
   "cell_type": "raw",
   "id": "6b26fc73",
   "metadata": {
    "ExecuteTime": {
     "end_time": "2022-06-16T15:21:37.644558Z",
     "start_time": "2022-06-16T15:21:37.625608Z"
    }
   },
   "source": [
    "b = pd.DataFrame(data=[[10, 20, 30], [40, None, None], [70, 80, 90]], columns=['A','B', 'C'])\n",
    "b"
   ]
  },
  {
   "cell_type": "raw",
   "id": "8fa623cd",
   "metadata": {
    "ExecuteTime": {
     "end_time": "2022-06-16T15:21:38.310486Z",
     "start_time": "2022-06-16T15:21:38.305508Z"
    }
   },
   "source": [
    "a['B'] == 2"
   ]
  },
  {
   "cell_type": "raw",
   "id": "e2db947f",
   "metadata": {
    "ExecuteTime": {
     "end_time": "2022-06-16T15:21:39.096593Z",
     "start_time": "2022-06-16T15:21:39.088612Z"
    }
   },
   "source": [
    "a[a['B']==2].index"
   ]
  },
  {
   "cell_type": "raw",
   "id": "47e50630",
   "metadata": {
    "ExecuteTime": {
     "end_time": "2022-06-16T15:21:39.730134Z",
     "start_time": "2022-06-16T15:21:39.712181Z"
    }
   },
   "source": [
    "a.loc[a['B']==2][['B', 'C']]"
   ]
  },
  {
   "cell_type": "raw",
   "id": "c7984504",
   "metadata": {
    "ExecuteTime": {
     "end_time": "2022-06-16T15:21:40.059123Z",
     "start_time": "2022-06-16T15:21:40.040189Z"
    }
   },
   "source": [
    "a[a['B']==2][['B', 'C']]"
   ]
  },
  {
   "cell_type": "raw",
   "id": "64df76e0",
   "metadata": {
    "ExecuteTime": {
     "end_time": "2022-06-16T15:21:40.353356Z",
     "start_time": "2022-06-16T15:21:40.346374Z"
    }
   },
   "source": [
    "b.iloc[1][['B', 'C']]"
   ]
  },
  {
   "cell_type": "raw",
   "id": "839c1cc8",
   "metadata": {
    "ExecuteTime": {
     "end_time": "2022-06-16T15:21:41.975584Z",
     "start_time": "2022-06-16T15:21:41.953643Z"
    }
   },
   "source": [
    "b.loc[1, ['B', 'C']] = a.loc[a['B']==2, ['B', 'C']].values\n",
    "b"
   ]
  },
  {
   "cell_type": "raw",
   "id": "26f61788",
   "metadata": {
    "ExecuteTime": {
     "end_time": "2022-06-15T17:16:16.468590Z",
     "start_time": "2022-06-15T17:16:16.448644Z"
    }
   },
   "source": [
    "a"
   ]
  },
  {
   "cell_type": "raw",
   "id": "e4019c83",
   "metadata": {
    "ExecuteTime": {
     "end_time": "2022-06-15T17:16:17.386592Z",
     "start_time": "2022-06-15T17:16:17.376619Z"
    }
   },
   "source": [
    "a = a * 2\n",
    "a"
   ]
  },
  {
   "cell_type": "raw",
   "id": "cce81244",
   "metadata": {
    "ExecuteTime": {
     "end_time": "2022-06-15T17:16:19.015815Z",
     "start_time": "2022-06-15T17:16:19.008833Z"
    }
   },
   "source": [
    "b"
   ]
  },
  {
   "cell_type": "raw",
   "id": "f505ee67",
   "metadata": {
    "ExecuteTime": {
     "end_time": "2022-06-16T15:23:17.851454Z",
     "start_time": "2022-06-16T15:23:17.841480Z"
    }
   },
   "source": [
    "type(ref_gto.loc[3, 'fig_file_TESS'])"
   ]
  },
  {
   "cell_type": "raw",
   "id": "14713dd3",
   "metadata": {
    "ExecuteTime": {
     "end_time": "2022-06-16T15:28:06.556906Z",
     "start_time": "2022-06-16T15:28:06.552917Z"
    }
   },
   "source": [
    "type(gto.loc[3, 'fig_file_TESS'])"
   ]
  },
  {
   "cell_type": "raw",
   "id": "593254c5",
   "metadata": {
    "ExecuteTime": {
     "end_time": "2022-06-16T15:28:25.017793Z",
     "start_time": "2022-06-16T15:28:25.001837Z"
    }
   },
   "source": [
    "ref_gto['fig_file_TESS']"
   ]
  },
  {
   "cell_type": "raw",
   "id": "118cfd69",
   "metadata": {
    "ExecuteTime": {
     "end_time": "2022-06-16T15:28:36.999235Z",
     "start_time": "2022-06-16T15:28:36.994248Z"
    }
   },
   "source": [
    "gto['fig_file_TESS']"
   ]
  },
  {
   "cell_type": "raw",
   "id": "029c0ca8",
   "metadata": {
    "ExecuteTime": {
     "end_time": "2022-06-16T16:22:00.856235Z",
     "start_time": "2022-06-16T16:22:00.840278Z"
    }
   },
   "source": [
    "gto['Karmn']"
   ]
  },
  {
   "cell_type": "raw",
   "id": "b3917b18",
   "metadata": {
    "ExecuteTime": {
     "end_time": "2022-06-16T16:17:19.399817Z",
     "start_time": "2022-06-16T16:17:19.382387Z"
    }
   },
   "source": [
    "gto.iloc[385][['Karmn', 'fig_file_TESS']]"
   ]
  },
  {
   "cell_type": "raw",
   "id": "a05e7423",
   "metadata": {
    "ExecuteTime": {
     "end_time": "2022-06-16T16:17:20.722271Z",
     "start_time": "2022-06-16T16:17:20.711268Z"
    }
   },
   "source": [
    "ref_gto[ref_gto['Karmn']=='J00183+440'][['Karmn', 'fig_file_TESS']]"
   ]
  },
  {
   "cell_type": "raw",
   "id": "1881cfb8",
   "metadata": {
    "ExecuteTime": {
     "end_time": "2022-06-16T16:20:47.244901Z",
     "start_time": "2022-06-16T16:20:47.231936Z"
    }
   },
   "source": [
    "gto.loc[385]"
   ]
  },
  {
   "cell_type": "raw",
   "id": "a68c16aa",
   "metadata": {
    "ExecuteTime": {
     "end_time": "2022-06-16T15:45:14.764521Z",
     "start_time": "2022-06-16T15:45:14.747565Z"
    }
   },
   "source": [
    "gto.loc[385, 'fig_file_TESS'] = ref_gto.loc[ref_gto['Karmn']==\"J00183+440\", 'fig_file_TESS'].values"
   ]
  },
  {
   "cell_type": "markdown",
   "id": "d26c8d44",
   "metadata": {},
   "source": [
    "#### Batch processing"
   ]
  },
  {
   "cell_type": "raw",
   "id": "11148582",
   "metadata": {
    "ExecuteTime": {
     "end_time": "2022-06-16T16:17:01.289004Z",
     "start_time": "2022-06-16T16:17:01.279030Z"
    }
   },
   "source": [
    "gto.loc[385, 'valid_PG_TESS'] = 0"
   ]
  },
  {
   "cell_type": "code",
   "execution_count": 13,
   "id": "74284415",
   "metadata": {
    "ExecuteTime": {
     "end_time": "2022-06-17T08:20:55.906780Z",
     "start_time": "2022-06-17T07:11:39.880265Z"
    },
    "scrolled": true
   },
   "outputs": [
    {
     "name": "stdout",
     "output_type": "stream",
     "text": [
      "Record: 0, started at 17/06/2022, 09:11:39\n",
      "Previous median lapse time: None\n",
      "Processing J23585+076 star (TIC: 408486498)...\n",
      "filename: nan\n",
      "--- Some ERROR happened with record #0, J23585+076 star. Error=Not recognized as a supported data product:\n",
      "nan\n",
      "This file may be corrupt due to an interrupted download. Please remove it from your disk and try again.\n",
      "Elapsed time: 0.00 seconds\n",
      "Record: 1, started at 17/06/2022, 09:11:40\n",
      "Previous median lapse time: 0.00 seconds\n",
      "Processing J23556-061 star (TIC: 9759680)...\n",
      "filename: nan\n",
      "--- Some ERROR happened with record #1, J23556-061 star. Error=Not recognized as a supported data product:\n",
      "nan\n",
      "This file may be corrupt due to an interrupted download. Please remove it from your disk and try again.\n",
      "Elapsed time: 0.00 seconds\n",
      "Record: 4, started at 17/06/2022, 09:11:40\n",
      "Previous median lapse time: 0.00 seconds\n",
      "Processing J23492+024 star (TIC: 267255253)...\n",
      "filename: nan\n",
      "--- Some ERROR happened with record #4, J23492+024 star. Error=Not recognized as a supported data product:\n",
      "nan\n",
      "This file may be corrupt due to an interrupted download. Please remove it from your disk and try again.\n",
      "Elapsed time: 0.00 seconds\n",
      "Record: 6, started at 17/06/2022, 09:11:40\n",
      "Previous median lapse time: 0.00 seconds\n",
      "Processing J23419+441 star (TIC: 2041185141)...\n",
      "filename: nan\n",
      "--- Some ERROR happened with record #6, J23419+441 star. Error=Not recognized as a supported data product:\n",
      "nan\n",
      "This file may be corrupt due to an interrupted download. Please remove it from your disk and try again.\n",
      "Elapsed time: 0.00 seconds\n",
      "Record: 8, started at 17/06/2022, 09:11:40\n",
      "Previous median lapse time: 0.00 seconds\n",
      "Processing J23351-023 star (TIC: 471016474)...\n",
      "filename: nan\n",
      "--- Some ERROR happened with record #8, J23351-023 star. Error=Not recognized as a supported data product:\n",
      "nan\n",
      "This file may be corrupt due to an interrupted download. Please remove it from your disk and try again.\n",
      "Elapsed time: 0.00 seconds\n",
      "Record: 9, started at 17/06/2022, 09:11:40\n",
      "Previous median lapse time: 0.00 seconds\n",
      "Processing J23340+001 star (TIC: 422604600)...\n",
      "filename: nan\n",
      "--- Some ERROR happened with record #9, J23340+001 star. Error=Not recognized as a supported data product:\n",
      "nan\n",
      "This file may be corrupt due to an interrupted download. Please remove it from your disk and try again.\n",
      "Elapsed time: 0.00 seconds\n",
      "Record: 11, started at 17/06/2022, 09:11:40\n",
      "Previous median lapse time: 0.00 seconds\n",
      "Processing J23216+172 star (TIC: 435198528)...\n",
      "filename: nan\n",
      "--- Some ERROR happened with record #11, J23216+172 star. Error=Not recognized as a supported data product:\n",
      "nan\n",
      "This file may be corrupt due to an interrupted download. Please remove it from your disk and try again.\n",
      "Elapsed time: 0.00 seconds\n",
      "Record: 12, started at 17/06/2022, 09:11:40\n",
      "Previous median lapse time: 0.00 seconds\n",
      "Processing J23113+085 star (TIC: 402934167)...\n",
      "filename: nan\n",
      "--- Some ERROR happened with record #12, J23113+085 star. Error=Not recognized as a supported data product:\n",
      "nan\n",
      "This file may be corrupt due to an interrupted download. Please remove it from your disk and try again.\n",
      "Elapsed time: 0.00 seconds\n",
      "Record: 13, started at 17/06/2022, 09:11:40\n",
      "Previous median lapse time: 0.00 seconds\n",
      "Processing J23064-050 star (TIC: 278892590)...\n",
      "filename: nan\n",
      "--- Some ERROR happened with record #13, J23064-050 star. Error=Not recognized as a supported data product:\n",
      "nan\n",
      "This file may be corrupt due to an interrupted download. Please remove it from your disk and try again.\n",
      "Elapsed time: 0.00 seconds\n",
      "Record: 14, started at 17/06/2022, 09:11:40\n",
      "Previous median lapse time: 0.00 seconds\n",
      "Processing J22565+165 star (TIC: 217331269)...\n",
      "filename: nan\n",
      "--- Some ERROR happened with record #14, J22565+165 star. Error=Not recognized as a supported data product:\n",
      "nan\n",
      "This file may be corrupt due to an interrupted download. Please remove it from your disk and try again.\n",
      "Elapsed time: 0.00 seconds\n",
      "Record: 15, started at 17/06/2022, 09:11:40\n",
      "Previous median lapse time: 0.00 seconds\n",
      "Processing J22559+178 star (TIC: 91210226)...\n",
      "filename: nan\n",
      "--- Some ERROR happened with record #15, J22559+178 star. Error=Not recognized as a supported data product:\n",
      "nan\n",
      "This file may be corrupt due to an interrupted download. Please remove it from your disk and try again.\n",
      "Elapsed time: 0.00 seconds\n",
      "Record: 17, started at 17/06/2022, 09:11:40\n",
      "Previous median lapse time: 0.00 seconds\n",
      "Processing J22518+317 star (TIC: 188878355)...\n",
      "filename: nan\n",
      "--- Some ERROR happened with record #17, J22518+317 star. Error=Not recognized as a supported data product:\n",
      "nan\n",
      "This file may be corrupt due to an interrupted download. Please remove it from your disk and try again.\n",
      "Elapsed time: 0.00 seconds\n",
      "Record: 18, started at 17/06/2022, 09:11:40\n",
      "Previous median lapse time: 0.00 seconds\n",
      "Processing J22503-070 star (TIC: 36595140)...\n",
      "filename: nan\n",
      "--- Some ERROR happened with record #18, J22503-070 star. Error=Not recognized as a supported data product:\n",
      "nan\n",
      "This file may be corrupt due to an interrupted download. Please remove it from your disk and try again.\n",
      "Elapsed time: 0.00 seconds\n",
      "Record: 20, started at 17/06/2022, 09:11:40\n",
      "Previous median lapse time: 0.00 seconds\n",
      "Processing J22330+093 star (TIC: 418978178)...\n",
      "filename: nan\n",
      "--- Some ERROR happened with record #20, J22330+093 star. Error=Not recognized as a supported data product:\n",
      "nan\n",
      "This file may be corrupt due to an interrupted download. Please remove it from your disk and try again.\n",
      "Elapsed time: 0.00 seconds\n",
      "Record: 25, started at 17/06/2022, 09:11:40\n",
      "Previous median lapse time: 0.00 seconds\n",
      "Processing J22125+085 star (TIC: 468309671)...\n",
      "filename: nan\n",
      "--- Some ERROR happened with record #25, J22125+085 star. Error=Not recognized as a supported data product:\n",
      "nan\n",
      "This file may be corrupt due to an interrupted download. Please remove it from your disk and try again.\n",
      "Elapsed time: 0.00 seconds\n",
      "Record: 26, started at 17/06/2022, 09:11:40\n",
      "Previous median lapse time: 0.00 seconds\n",
      "Processing J22115+184 star (TIC: 258822427)...\n",
      "filename: nan\n",
      "--- Some ERROR happened with record #26, J22115+184 star. Error=Not recognized as a supported data product:\n",
      "nan\n",
      "This file may be corrupt due to an interrupted download. Please remove it from your disk and try again.\n",
      "Elapsed time: 0.00 seconds\n",
      "Record: 29, started at 17/06/2022, 09:11:40\n",
      "Previous median lapse time: 0.00 seconds\n",
      "Processing J22096-046 star (TIC: 248027247)...\n",
      "filename: nan\n",
      "--- Some ERROR happened with record #29, J22096-046 star. Error=Not recognized as a supported data product:\n",
      "nan\n",
      "This file may be corrupt due to an interrupted download. Please remove it from your disk and try again.\n",
      "Elapsed time: 0.00 seconds\n",
      "Record: 31, started at 17/06/2022, 09:11:40\n",
      "Previous median lapse time: 0.00 seconds\n",
      "Processing J22021+014 star (TIC: 292987389)...\n",
      "filename: nan\n",
      "--- Some ERROR happened with record #31, J22021+014 star. Error=Not recognized as a supported data product:\n",
      "nan\n",
      "This file may be corrupt due to an interrupted download. Please remove it from your disk and try again.\n",
      "Elapsed time: 0.00 seconds\n",
      "Record: 35, started at 17/06/2022, 09:11:40\n",
      "Previous median lapse time: 0.00 seconds\n",
      "Processing J21466-001 star (TIC: 24350161)...\n",
      "filename: nan\n",
      "--- Some ERROR happened with record #35, J21466-001 star. Error=Not recognized as a supported data product:\n",
      "nan\n",
      "This file may be corrupt due to an interrupted download. Please remove it from your disk and try again.\n",
      "Elapsed time: 0.00 seconds\n",
      "Record: 39, started at 17/06/2022, 09:11:40\n",
      "Previous median lapse time: 0.00 seconds\n",
      "Processing J21221+229 star (TIC: 283031851)...\n",
      "filename: nan\n",
      "--- Some ERROR happened with record #39, J21221+229 star. Error=Not recognized as a supported data product:\n",
      "nan\n",
      "This file may be corrupt due to an interrupted download. Please remove it from your disk and try again.\n",
      "Elapsed time: 0.00 seconds\n",
      "Record: 40, started at 17/06/2022, 09:11:41\n",
      "Previous median lapse time: 0.00 seconds\n",
      "Processing J21164+025 star (TIC: 387518186)...\n",
      "filename: nan\n",
      "--- Some ERROR happened with record #40, J21164+025 star. Error=Not recognized as a supported data product:\n",
      "nan\n",
      "This file may be corrupt due to an interrupted download. Please remove it from your disk and try again.\n",
      "Elapsed time: 0.00 seconds\n",
      "Record: 42, started at 17/06/2022, 09:11:41\n",
      "Previous median lapse time: 0.00 seconds\n",
      "Processing J21019-063 star (TIC: 35400809)...\n",
      "filename: nan\n",
      "--- Some ERROR happened with record #42, J21019-063 star. Error=Not recognized as a supported data product:\n",
      "nan\n",
      "This file may be corrupt due to an interrupted download. Please remove it from your disk and try again.\n",
      "Elapsed time: 0.00 seconds\n",
      "Record: 43, started at 17/06/2022, 09:11:41\n",
      "Previous median lapse time: 0.00 seconds\n",
      "Processing J20567-104 star (TIC: 24086676)...\n",
      "filename: nan\n",
      "--- Some ERROR happened with record #43, J20567-104 star. Error=Not recognized as a supported data product:\n",
      "nan\n",
      "This file may be corrupt due to an interrupted download. Please remove it from your disk and try again.\n",
      "Elapsed time: 0.00 seconds\n",
      "Record: 44, started at 17/06/2022, 09:11:41\n",
      "Previous median lapse time: 0.00 seconds\n",
      "Processing J20556-140S star (TIC: 206169489)...\n",
      "filename: nan\n",
      "--- Some ERROR happened with record #44, J20556-140S star. Error=Not recognized as a supported data product:\n",
      "nan\n",
      "This file may be corrupt due to an interrupted download. Please remove it from your disk and try again.\n",
      "Elapsed time: 0.00 seconds\n"
     ]
    },
    {
     "name": "stdout",
     "output_type": "stream",
     "text": [
      "Record: 45, started at 17/06/2022, 09:11:41\n",
      "Previous median lapse time: 0.00 seconds\n",
      "Processing J20556-140N star (TIC: 1995862013)...\n",
      "filename: nan\n",
      "--- Some ERROR happened with record #45, J20556-140N star. Error=Not recognized as a supported data product:\n",
      "nan\n",
      "This file may be corrupt due to an interrupted download. Please remove it from your disk and try again.\n",
      "Elapsed time: 0.00 seconds\n",
      "Record: 47, started at 17/06/2022, 09:11:41\n",
      "Previous median lapse time: 0.00 seconds\n",
      "Processing J20525-169 star (TIC: 262016943)...\n",
      "filename: nan\n",
      "--- Some ERROR happened with record #47, J20525-169 star. Error=Not recognized as a supported data product:\n",
      "nan\n",
      "This file may be corrupt due to an interrupted download. Please remove it from your disk and try again.\n",
      "Elapsed time: 0.00 seconds\n",
      "Record: 49, started at 17/06/2022, 09:11:41\n",
      "Previous median lapse time: 0.00 seconds\n",
      "Processing J20450+444 star (TIC: 239332587)...\n",
      "filename: ../data/CARMENES_GTO_TESS_lc/lightcurves/J20450+444/J20450+444_TESS_TIC239332587_S15.fits\n"
     ]
    },
    {
     "name": "stderr",
     "output_type": "stream",
     "text": [
      "c:\\users\\ciroe\\gls.py:368: RuntimeWarning: invalid value encountered in sqrt\n",
      "  self.rms = rms = sqrt(self._YY*(1.-pmax))\n",
      "c:\\users\\ciroe\\gls.py:394: RuntimeWarning: invalid value encountered in sqrt\n",
      "  p[\"e_f\"] = e_f = sqrt(-2./self.N / aa * (1.-self.pmax))\n",
      "WARNING: The unit 'electron / s' could not be saved in native FITS format and cannot be recovered in reading. If pyyaml is installed, it can roundtrip within astropy by using QTable both to write and read back, though one has to enable the unit before reading. [astropy.io.fits.convenience]\n",
      "WARNING: Meta-data keyword BITPIX will be ignored since it conflicts with a FITS reserved keyword [astropy.io.fits.convenience]\n",
      "WARNING: Meta-data keyword NAXIS will be ignored since it conflicts with a FITS reserved keyword [astropy.io.fits.convenience]\n",
      "WARNING: VerifyWarning: Keyword name 'FLUX_ORIGIN' is greater than 8 characters or contains characters not allowed by the FITS standard; a HIERARCH card will be created. [astropy.io.fits.card]\n",
      "WARNING: VerifyWarning: Keyword name 'QUALITY_BITMASK' is greater than 8 characters or contains characters not allowed by the FITS standard; a HIERARCH card will be created. [astropy.io.fits.card]\n",
      "WARNING: VerifyWarning: Keyword name 'QUALITY_MASK' is greater than 8 characters or contains characters not allowed by the FITS standard; a HIERARCH card will be created. [astropy.io.fits.card]\n",
      "WARNING: Attribute `QUALITY_MASK` of type <class 'numpy.ndarray'> cannot be added to FITS Header - skipping [astropy.io.fits.convenience]\n",
      "WARNING: The unit 'electron2 / s2' could not be saved in native FITS format and cannot be recovered in reading. If pyyaml is installed, it can roundtrip within astropy by using QTable both to write and read back, though one has to enable the unit before reading. [astropy.io.fits.convenience]\n"
     ]
    },
    {
     "name": "stdout",
     "output_type": "stream",
     "text": [
      "--- Some ERROR happened with record #49, J20450+444 star. Error=Floating point nan values are not allowed in FITS headers.\n",
      "Elapsed time: 28.10 seconds\n",
      "Record: 50, started at 17/06/2022, 09:12:09\n",
      "Previous median lapse time: 0.00 seconds\n",
      "Processing J20405+154 star (TIC: 340807280)...\n",
      "filename: nan\n",
      "--- Some ERROR happened with record #50, J20405+154 star. Error=Not recognized as a supported data product:\n",
      "nan\n",
      "This file may be corrupt due to an interrupted download. Please remove it from your disk and try again.\n",
      "Elapsed time: 0.00 seconds\n",
      "Record: 56, started at 17/06/2022, 09:12:09\n",
      "Previous median lapse time: 0.00 seconds\n",
      "Processing J20093-012 star (TIC: 243800364)...\n",
      "filename: nan\n",
      "--- Some ERROR happened with record #56, J20093-012 star. Error=Not recognized as a supported data product:\n",
      "nan\n",
      "This file may be corrupt due to an interrupted download. Please remove it from your disk and try again.\n",
      "Elapsed time: 0.00 seconds\n",
      "Record: 57, started at 17/06/2022, 09:12:09\n",
      "Previous median lapse time: 0.00 seconds\n",
      "Processing J19573-125 star (TIC: 48769737)...\n",
      "filename: nan\n",
      "--- Some ERROR happened with record #57, J19573-125 star. Error=Not recognized as a supported data product:\n",
      "nan\n",
      "This file may be corrupt due to an interrupted download. Please remove it from your disk and try again.\n",
      "Elapsed time: 0.00 seconds\n",
      "Record: 59, started at 17/06/2022, 09:12:09\n",
      "Previous median lapse time: 0.00 seconds\n",
      "Processing J19422-207 star (TIC: 68795767)...\n",
      "filename: nan\n",
      "--- Some ERROR happened with record #59, J19422-207 star. Error=Not recognized as a supported data product:\n",
      "nan\n",
      "This file may be corrupt due to an interrupted download. Please remove it from your disk and try again.\n",
      "Elapsed time: 0.00 seconds\n",
      "Record: 60, started at 17/06/2022, 09:12:09\n",
      "Previous median lapse time: 0.00 seconds\n",
      "Processing J19346+045 star (TIC: 1900192621)...\n",
      "filename: nan\n",
      "--- Some ERROR happened with record #60, J19346+045 star. Error=Not recognized as a supported data product:\n",
      "nan\n",
      "This file may be corrupt due to an interrupted download. Please remove it from your disk and try again.\n",
      "Elapsed time: 0.00 seconds\n",
      "Record: 61, started at 17/06/2022, 09:12:09\n",
      "Previous median lapse time: 0.00 seconds\n",
      "Processing J19255+096 star (TIC: 133312726)...\n",
      "filename: nan\n",
      "--- Some ERROR happened with record #61, J19255+096 star. Error=Not recognized as a supported data product:\n",
      "nan\n",
      "This file may be corrupt due to an interrupted download. Please remove it from your disk and try again.\n",
      "Elapsed time: 0.00 seconds\n",
      "Record: 62, started at 17/06/2022, 09:12:09\n",
      "Previous median lapse time: 0.00 seconds\n",
      "Processing J19251+283 star (TIC: 110220637)...\n",
      "filename: ../data/CARMENES_GTO_TESS_lc/lightcurves/J19251+283/J19251+283_TESS_TIC110220637_S14.fits\n"
     ]
    },
    {
     "name": "stderr",
     "output_type": "stream",
     "text": [
      "c:\\users\\ciroe\\gls.py:368: RuntimeWarning: invalid value encountered in sqrt\n",
      "  self.rms = rms = sqrt(self._YY*(1.-pmax))\n",
      "c:\\users\\ciroe\\gls.py:394: RuntimeWarning: invalid value encountered in sqrt\n",
      "  p[\"e_f\"] = e_f = sqrt(-2./self.N / aa * (1.-self.pmax))\n",
      "WARNING: The unit 'electron / s' could not be saved in native FITS format and cannot be recovered in reading. If pyyaml is installed, it can roundtrip within astropy by using QTable both to write and read back, though one has to enable the unit before reading. [astropy.io.fits.convenience]\n",
      "WARNING: Meta-data keyword BITPIX will be ignored since it conflicts with a FITS reserved keyword [astropy.io.fits.convenience]\n",
      "WARNING: Meta-data keyword NAXIS will be ignored since it conflicts with a FITS reserved keyword [astropy.io.fits.convenience]\n",
      "WARNING: VerifyWarning: Keyword name 'FLUX_ORIGIN' is greater than 8 characters or contains characters not allowed by the FITS standard; a HIERARCH card will be created. [astropy.io.fits.card]\n",
      "WARNING: VerifyWarning: Keyword name 'QUALITY_BITMASK' is greater than 8 characters or contains characters not allowed by the FITS standard; a HIERARCH card will be created. [astropy.io.fits.card]\n",
      "WARNING: VerifyWarning: Keyword name 'QUALITY_MASK' is greater than 8 characters or contains characters not allowed by the FITS standard; a HIERARCH card will be created. [astropy.io.fits.card]\n",
      "WARNING: Attribute `QUALITY_MASK` of type <class 'numpy.ndarray'> cannot be added to FITS Header - skipping [astropy.io.fits.convenience]\n"
     ]
    },
    {
     "name": "stdout",
     "output_type": "stream",
     "text": [
      "--- Some ERROR happened with record #62, J19251+283 star. Error=Floating point nan values are not allowed in FITS headers.\n",
      "Elapsed time: 25.65 seconds\n",
      "Record: 63, started at 17/06/2022, 09:12:35\n",
      "Previous median lapse time: 0.00 seconds\n",
      "Processing J19242+755 star (TIC: 420130591)...\n",
      "filename: ../data/CARMENES_GTO_TESS_lc/lightcurves/J19242+755/J19242+755_TESS_TIC420130591_S14.fits\n"
     ]
    },
    {
     "name": "stderr",
     "output_type": "stream",
     "text": [
      "WARNING: The unit 'electron2 / s2' could not be saved in native FITS format and cannot be recovered in reading. If pyyaml is installed, it can roundtrip within astropy by using QTable both to write and read back, though one has to enable the unit before reading. [astropy.io.fits.convenience]\n",
      "c:\\users\\ciroe\\gls.py:368: RuntimeWarning: invalid value encountered in sqrt\n",
      "  self.rms = rms = sqrt(self._YY*(1.-pmax))\n",
      "c:\\users\\ciroe\\gls.py:394: RuntimeWarning: invalid value encountered in sqrt\n",
      "  p[\"e_f\"] = e_f = sqrt(-2./self.N / aa * (1.-self.pmax))\n",
      "WARNING: The unit 'electron / s' could not be saved in native FITS format and cannot be recovered in reading. If pyyaml is installed, it can roundtrip within astropy by using QTable both to write and read back, though one has to enable the unit before reading. [astropy.io.fits.convenience]\n",
      "WARNING: Meta-data keyword BITPIX will be ignored since it conflicts with a FITS reserved keyword [astropy.io.fits.convenience]\n",
      "WARNING: Meta-data keyword NAXIS will be ignored since it conflicts with a FITS reserved keyword [astropy.io.fits.convenience]\n",
      "WARNING: VerifyWarning: Keyword name 'FLUX_ORIGIN' is greater than 8 characters or contains characters not allowed by the FITS standard; a HIERARCH card will be created. [astropy.io.fits.card]\n",
      "WARNING: VerifyWarning: Keyword name 'QUALITY_BITMASK' is greater than 8 characters or contains characters not allowed by the FITS standard; a HIERARCH card will be created. [astropy.io.fits.card]\n",
      "WARNING: VerifyWarning: Keyword name 'QUALITY_MASK' is greater than 8 characters or contains characters not allowed by the FITS standard; a HIERARCH card will be created. [astropy.io.fits.card]\n",
      "WARNING: Attribute `QUALITY_MASK` of type <class 'numpy.ndarray'> cannot be added to FITS Header - skipping [astropy.io.fits.convenience]\n",
      "WARNING: The unit 'electron2 / s2' could not be saved in native FITS format and cannot be recovered in reading. If pyyaml is installed, it can roundtrip within astropy by using QTable both to write and read back, though one has to enable the unit before reading. [astropy.io.fits.convenience]\n"
     ]
    },
    {
     "name": "stdout",
     "output_type": "stream",
     "text": [
      "--- Some ERROR happened with record #63, J19242+755 star. Error=Floating point nan values are not allowed in FITS headers.\n",
      "Elapsed time: 35.39 seconds\n",
      "Record: 65, started at 17/06/2022, 09:13:11\n",
      "Previous median lapse time: 0.00 seconds\n",
      "Processing J19206+731S star (TIC: 420112589)...\n",
      "filename: ../data/CARMENES_GTO_TESS_lc/lightcurves/J19206+731S/J19206+731S_TESS_TIC420112587_S14.fits\n"
     ]
    },
    {
     "name": "stderr",
     "output_type": "stream",
     "text": [
      "WARNING: The unit 'electron / s' could not be saved in native FITS format and cannot be recovered in reading. If pyyaml is installed, it can roundtrip within astropy by using QTable both to write and read back, though one has to enable the unit before reading. [astropy.io.fits.convenience]\n",
      "WARNING: Meta-data keyword BITPIX will be ignored since it conflicts with a FITS reserved keyword [astropy.io.fits.convenience]\n",
      "WARNING: Meta-data keyword NAXIS will be ignored since it conflicts with a FITS reserved keyword [astropy.io.fits.convenience]\n",
      "WARNING: VerifyWarning: Keyword name 'FLUX_ORIGIN' is greater than 8 characters or contains characters not allowed by the FITS standard; a HIERARCH card will be created. [astropy.io.fits.card]\n",
      "WARNING: VerifyWarning: Keyword name 'QUALITY_BITMASK' is greater than 8 characters or contains characters not allowed by the FITS standard; a HIERARCH card will be created. [astropy.io.fits.card]\n",
      "WARNING: VerifyWarning: Keyword name 'QUALITY_MASK' is greater than 8 characters or contains characters not allowed by the FITS standard; a HIERARCH card will be created. [astropy.io.fits.card]\n",
      "WARNING: Attribute `QUALITY_MASK` of type <class 'numpy.ndarray'> cannot be added to FITS Header - skipping [astropy.io.fits.convenience]\n",
      "WARNING: The unit 'electron2 / s2' could not be saved in native FITS format and cannot be recovered in reading. If pyyaml is installed, it can roundtrip within astropy by using QTable both to write and read back, though one has to enable the unit before reading. [astropy.io.fits.convenience]\n",
      "c:\\users\\ciroe\\gls.py:642: UserWarning: Matplotlib is currently using module://ipykernel.pylab.backend_inline, which is a non-GUI backend, so cannot show the figure.\n",
      "  fig.show()\n"
     ]
    },
    {
     "name": "stdout",
     "output_type": "stream",
     "text": [
      "Elapsed time: 461.49 seconds\n",
      "... SUCCESS.\n",
      "Record: 66, started at 17/06/2022, 09:20:52\n",
      "Previous median lapse time: 0.00 seconds\n",
      "Processing J19169+051S star (TIC: 176178205)...\n",
      "filename: nan\n",
      "--- Some ERROR happened with record #66, J19169+051S star. Error=Not recognized as a supported data product:\n",
      "nan\n",
      "This file may be corrupt due to an interrupted download. Please remove it from your disk and try again.\n",
      "Elapsed time: 0.00 seconds\n",
      "Record: 67, started at 17/06/2022, 09:20:52\n",
      "Previous median lapse time: 0.00 seconds\n",
      "Processing J19169+051N star (TIC: 176188045)...\n",
      "filename: nan\n",
      "--- Some ERROR happened with record #67, J19169+051N star. Error=Not recognized as a supported data product:\n",
      "nan\n",
      "This file may be corrupt due to an interrupted download. Please remove it from your disk and try again.\n",
      "Elapsed time: 0.00 seconds\n",
      "Record: 68, started at 17/06/2022, 09:20:52\n",
      "Previous median lapse time: 0.00 seconds\n",
      "Processing J19098+176 star (TIC: 395665737)...\n",
      "filename: nan\n",
      "--- Some ERROR happened with record #68, J19098+176 star. Error=Not recognized as a supported data product:\n",
      "nan\n",
      "This file may be corrupt due to an interrupted download. Please remove it from your disk and try again.\n",
      "Elapsed time: 0.00 seconds\n",
      "Record: 70, started at 17/06/2022, 09:20:52\n",
      "Previous median lapse time: 0.00 seconds\n",
      "Processing J19072+208 star (TIC: 384673951)...\n",
      "filename: nan\n",
      "--- Some ERROR happened with record #70, J19072+208 star. Error=Not recognized as a supported data product:\n",
      "nan\n",
      "This file may be corrupt due to an interrupted download. Please remove it from your disk and try again.\n",
      "Elapsed time: 0.00 seconds\n",
      "Record: 71, started at 17/06/2022, 09:20:52\n",
      "Previous median lapse time: 0.00 seconds\n",
      "Processing J19070+208 star (TIC: 384491142)...\n",
      "filename: nan\n",
      "--- Some ERROR happened with record #71, J19070+208 star. Error=Not recognized as a supported data product:\n",
      "nan\n",
      "This file may be corrupt due to an interrupted download. Please remove it from your disk and try again.\n",
      "Elapsed time: 0.00 seconds\n",
      "Record: 73, started at 17/06/2022, 09:20:52\n",
      "Previous median lapse time: 0.00 seconds\n",
      "Processing J18580+059 star (TIC: 227642705)...\n",
      "filename: nan\n",
      "--- Some ERROR happened with record #73, J18580+059 star. Error=Not recognized as a supported data product:\n",
      "nan\n",
      "This file may be corrupt due to an interrupted download. Please remove it from your disk and try again.\n",
      "Elapsed time: 0.00 seconds\n",
      "Record: 74, started at 17/06/2022, 09:20:52\n",
      "Previous median lapse time: 0.00 seconds\n",
      "Processing J18498-238 star (TIC: 224752354)...\n",
      "filename: nan\n",
      "--- Some ERROR happened with record #74, J18498-238 star. Error=Not recognized as a supported data product:\n",
      "nan\n",
      "This file may be corrupt due to an interrupted download. Please remove it from your disk and try again.\n",
      "Elapsed time: 0.00 seconds\n",
      "Record: 75, started at 17/06/2022, 09:20:52\n",
      "Previous median lapse time: 0.00 seconds\n",
      "Processing J18482+076 star (TIC: 92923185)...\n",
      "filename: nan\n",
      "--- Some ERROR happened with record #75, J18482+076 star. Error=Not recognized as a supported data product:\n",
      "nan\n",
      "This file may be corrupt due to an interrupted download. Please remove it from your disk and try again.\n",
      "Elapsed time: 0.00 seconds\n",
      "Record: 76, started at 17/06/2022, 09:20:53\n",
      "Previous median lapse time: 0.00 seconds\n",
      "Processing J18480-145 star (TIC: 427835460)...\n",
      "filename: nan\n",
      "--- Some ERROR happened with record #76, J18480-145 star. Error=Not recognized as a supported data product:\n",
      "nan\n",
      "This file may be corrupt due to an interrupted download. Please remove it from your disk and try again.\n",
      "Elapsed time: 0.00 seconds\n",
      "Record: 77, started at 17/06/2022, 09:20:53\n",
      "Previous median lapse time: 0.00 seconds\n",
      "Processing J18427+596S star (TIC: 1717842912)...\n",
      "filename: ../data/CARMENES_GTO_TESS_lc/lightcurves/J18427+596S/J18427+596S_TESS_TIC392572237_S15.fits\n"
     ]
    },
    {
     "name": "stderr",
     "output_type": "stream",
     "text": [
      "WARNING: The unit 'electron / s' could not be saved in native FITS format and cannot be recovered in reading. If pyyaml is installed, it can roundtrip within astropy by using QTable both to write and read back, though one has to enable the unit before reading. [astropy.io.fits.convenience]\n",
      "WARNING: Meta-data keyword BITPIX will be ignored since it conflicts with a FITS reserved keyword [astropy.io.fits.convenience]\n",
      "WARNING: Meta-data keyword NAXIS will be ignored since it conflicts with a FITS reserved keyword [astropy.io.fits.convenience]\n",
      "WARNING: VerifyWarning: Keyword name 'FLUX_ORIGIN' is greater than 8 characters or contains characters not allowed by the FITS standard; a HIERARCH card will be created. [astropy.io.fits.card]\n",
      "WARNING: VerifyWarning: Keyword name 'QUALITY_BITMASK' is greater than 8 characters or contains characters not allowed by the FITS standard; a HIERARCH card will be created. [astropy.io.fits.card]\n",
      "WARNING: VerifyWarning: Keyword name 'QUALITY_MASK' is greater than 8 characters or contains characters not allowed by the FITS standard; a HIERARCH card will be created. [astropy.io.fits.card]\n",
      "WARNING: Attribute `QUALITY_MASK` of type <class 'numpy.ndarray'> cannot be added to FITS Header - skipping [astropy.io.fits.convenience]\n",
      "WARNING: The unit 'electron2 / s2' could not be saved in native FITS format and cannot be recovered in reading. If pyyaml is installed, it can roundtrip within astropy by using QTable both to write and read back, though one has to enable the unit before reading. [astropy.io.fits.convenience]\n",
      "c:\\users\\ciroe\\gls.py:642: UserWarning: Matplotlib is currently using module://ipykernel.pylab.backend_inline, which is a non-GUI backend, so cannot show the figure.\n",
      "  fig.show()\n"
     ]
    },
    {
     "name": "stdout",
     "output_type": "stream",
     "text": [
      "Elapsed time: 363.81 seconds\n",
      "... SUCCESS.\n",
      "Record: 78, started at 17/06/2022, 09:26:56\n",
      "Previous median lapse time: 0.00 seconds\n",
      "Processing J18427+596N star (TIC: 359676790)...\n",
      "filename: ../data/CARMENES_GTO_TESS_lc/lightcurves/J18427+596N/J18427+596N_TESS_TIC359676790_S15.fits\n"
     ]
    },
    {
     "name": "stderr",
     "output_type": "stream",
     "text": [
      "WARNING: The unit 'electron / s' could not be saved in native FITS format and cannot be recovered in reading. If pyyaml is installed, it can roundtrip within astropy by using QTable both to write and read back, though one has to enable the unit before reading. [astropy.io.fits.convenience]\n",
      "WARNING: Meta-data keyword BITPIX will be ignored since it conflicts with a FITS reserved keyword [astropy.io.fits.convenience]\n",
      "WARNING: Meta-data keyword NAXIS will be ignored since it conflicts with a FITS reserved keyword [astropy.io.fits.convenience]\n",
      "WARNING: VerifyWarning: Keyword name 'FLUX_ORIGIN' is greater than 8 characters or contains characters not allowed by the FITS standard; a HIERARCH card will be created. [astropy.io.fits.card]\n",
      "WARNING: VerifyWarning: Keyword name 'QUALITY_BITMASK' is greater than 8 characters or contains characters not allowed by the FITS standard; a HIERARCH card will be created. [astropy.io.fits.card]\n",
      "WARNING: VerifyWarning: Keyword name 'QUALITY_MASK' is greater than 8 characters or contains characters not allowed by the FITS standard; a HIERARCH card will be created. [astropy.io.fits.card]\n",
      "WARNING: Attribute `QUALITY_MASK` of type <class 'numpy.ndarray'> cannot be added to FITS Header - skipping [astropy.io.fits.convenience]\n",
      "WARNING: The unit 'electron2 / s2' could not be saved in native FITS format and cannot be recovered in reading. If pyyaml is installed, it can roundtrip within astropy by using QTable both to write and read back, though one has to enable the unit before reading. [astropy.io.fits.convenience]\n",
      "c:\\users\\ciroe\\gls.py:642: UserWarning: Matplotlib is currently using module://ipykernel.pylab.backend_inline, which is a non-GUI backend, so cannot show the figure.\n",
      "  fig.show()\n"
     ]
    },
    {
     "name": "stdout",
     "output_type": "stream",
     "text": [
      "Elapsed time: 404.05 seconds\n",
      "... SUCCESS.\n",
      "Record: 80, started at 17/06/2022, 09:33:41\n",
      "Previous median lapse time: 0.00 seconds\n",
      "Processing J18409-133 star (TIC: 424934357)...\n",
      "filename: nan\n",
      "--- Some ERROR happened with record #80, J18409-133 star. Error=Not recognized as a supported data product:\n",
      "nan\n",
      "This file may be corrupt due to an interrupted download. Please remove it from your disk and try again.\n",
      "Elapsed time: 0.00 seconds\n",
      "Record: 87, started at 17/06/2022, 09:33:41\n",
      "Previous median lapse time: 0.00 seconds\n",
      "Processing J18221+063 star (TIC: 318639201)...\n",
      "filename: nan\n",
      "--- Some ERROR happened with record #87, J18221+063 star. Error=Not recognized as a supported data product:\n",
      "nan\n",
      "This file may be corrupt due to an interrupted download. Please remove it from your disk and try again.\n",
      "Elapsed time: 0.00 seconds\n",
      "Record: 88, started at 17/06/2022, 09:33:41\n",
      "Previous median lapse time: 0.00 seconds\n",
      "Processing J18198-019 star (TIC: 167913198)...\n",
      "filename: nan\n",
      "--- Some ERROR happened with record #88, J18198-019 star. Error=Not recognized as a supported data product:\n",
      "nan\n",
      "This file may be corrupt due to an interrupted download. Please remove it from your disk and try again.\n",
      "Elapsed time: 0.00 seconds\n",
      "Record: 92, started at 17/06/2022, 09:33:41\n",
      "Previous median lapse time: 0.00 seconds\n",
      "Processing J18165+048 star (TIC: 19667455)...\n",
      "filename: nan\n",
      "--- Some ERROR happened with record #92, J18165+048 star. Error=Not recognized as a supported data product:\n",
      "nan\n",
      "This file may be corrupt due to an interrupted download. Please remove it from your disk and try again.\n",
      "Elapsed time: 0.00 seconds\n",
      "Record: 94, started at 17/06/2022, 09:33:41\n",
      "Previous median lapse time: 0.00 seconds\n",
      "Processing J18075-159 star (TIC: 363838130)...\n",
      "filename: nan\n",
      "--- Some ERROR happened with record #94, J18075-159 star. Error=Not recognized as a supported data product:\n",
      "nan\n",
      "This file may be corrupt due to an interrupted download. Please remove it from your disk and try again.\n",
      "Elapsed time: 0.00 seconds\n",
      "Record: 95, started at 17/06/2022, 09:33:41\n",
      "Previous median lapse time: 0.00 seconds\n",
      "Processing J18051-030 star (TIC: 41378014)...\n",
      "filename: nan\n",
      "--- Some ERROR happened with record #95, J18051-030 star. Error=Not recognized as a supported data product:\n",
      "nan\n",
      "This file may be corrupt due to an interrupted download. Please remove it from your disk and try again.\n",
      "Elapsed time: 0.00 seconds\n",
      "Record: 96, started at 17/06/2022, 09:33:41\n",
      "Previous median lapse time: 0.00 seconds\n",
      "Processing J18027+375 star (TIC: 75627178)...\n",
      "filename: nan\n",
      "--- Some ERROR happened with record #96, J18027+375 star. Error=Not recognized as a supported data product:\n",
      "nan\n",
      "This file may be corrupt due to an interrupted download. Please remove it from your disk and try again.\n",
      "Elapsed time: 0.00 seconds\n",
      "Record: 99, started at 17/06/2022, 09:33:41\n",
      "Previous median lapse time: 0.00 seconds\n",
      "Processing J17578+046 star (TIC: 325554331)...\n",
      "filename: nan\n",
      "--- Some ERROR happened with record #99, J17578+046 star. Error=Not recognized as a supported data product:\n",
      "nan\n",
      "This file may be corrupt due to an interrupted download. Please remove it from your disk and try again.\n",
      "Elapsed time: 0.00 seconds\n",
      "Record: 101, started at 17/06/2022, 09:33:41\n",
      "Previous median lapse time: 0.00 seconds\n",
      "Processing J17542+073 star (TIC: 277491425)...\n",
      "filename: nan\n",
      "--- Some ERROR happened with record #101, J17542+073 star. Error=Not recognized as a supported data product:\n",
      "nan\n",
      "This file may be corrupt due to an interrupted download. Please remove it from your disk and try again.\n",
      "Elapsed time: 0.00 seconds\n",
      "Record: 106, started at 17/06/2022, 09:33:41\n",
      "Previous median lapse time: 0.00 seconds\n",
      "Processing J17303+055 star (TIC: 348277669)...\n",
      "filename: nan\n",
      "--- Some ERROR happened with record #106, J17303+055 star. Error=Not recognized as a supported data product:\n",
      "nan\n",
      "This file may be corrupt due to an interrupted download. Please remove it from your disk and try again.\n",
      "Elapsed time: 0.00 seconds\n",
      "Record: 108, started at 17/06/2022, 09:33:41\n",
      "Previous median lapse time: 0.00 seconds\n",
      "Processing J17166+080 star (TIC: 459565648)...\n",
      "filename: nan\n",
      "--- Some ERROR happened with record #108, J17166+080 star. Error=Not recognized as a supported data product:\n",
      "nan\n",
      "This file may be corrupt due to an interrupted download. Please remove it from your disk and try again.\n",
      "Elapsed time: 0.00 seconds\n",
      "Record: 111, started at 17/06/2022, 09:33:41\n",
      "Previous median lapse time: 0.00 seconds\n",
      "Processing J17052-050 star (TIC: 142494324)...\n",
      "filename: nan\n",
      "--- Some ERROR happened with record #111, J17052-050 star. Error=Not recognized as a supported data product:\n",
      "nan\n",
      "This file may be corrupt due to an interrupted download. Please remove it from your disk and try again.\n",
      "Elapsed time: 0.00 seconds\n",
      "Record: 115, started at 17/06/2022, 09:33:41\n",
      "Previous median lapse time: 0.00 seconds\n",
      "Processing J16570-043 star (TIC: 189843364)...\n",
      "filename: nan\n",
      "--- Some ERROR happened with record #115, J16570-043 star. Error=Not recognized as a supported data product:\n",
      "nan\n",
      "This file may be corrupt due to an interrupted download. Please remove it from your disk and try again.\n",
      "Elapsed time: 0.00 seconds\n",
      "Record: 116, started at 17/06/2022, 09:33:41\n",
      "Previous median lapse time: 0.00 seconds\n",
      "Processing J16555-083 star (TIC: 181609153)...\n",
      "filename: nan\n",
      "--- Some ERROR happened with record #116, J16555-083 star. Error=Not recognized as a supported data product:\n",
      "nan\n",
      "This file may be corrupt due to an interrupted download. Please remove it from your disk and try again.\n",
      "Elapsed time: 0.00 seconds\n",
      "Record: 117, started at 17/06/2022, 09:33:41\n",
      "Previous median lapse time: 0.00 seconds\n",
      "Processing J16554-083N star (TIC: 181589885)...\n",
      "filename: nan\n",
      "--- Some ERROR happened with record #117, J16554-083N star. Error=Not recognized as a supported data product:\n",
      "nan\n",
      "This file may be corrupt due to an interrupted download. Please remove it from your disk and try again.\n",
      "Elapsed time: 0.00 seconds\n",
      "Record: 120, started at 17/06/2022, 09:33:42\n",
      "Previous median lapse time: 0.00 seconds\n",
      "Processing J16327+126 star (TIC: 148077721)...\n",
      "filename: nan\n",
      "--- Some ERROR happened with record #120, J16327+126 star. Error=Not recognized as a supported data product:\n",
      "nan\n",
      "This file may be corrupt due to an interrupted download. Please remove it from your disk and try again.\n",
      "Elapsed time: 0.00 seconds\n",
      "Record: 122, started at 17/06/2022, 09:33:42\n",
      "Previous median lapse time: 0.00 seconds\n",
      "Processing J16303-126 star (TIC: 413948621)...\n",
      "filename: nan\n",
      "--- Some ERROR happened with record #122, J16303-126 star. Error=Not recognized as a supported data product:\n",
      "nan\n",
      "This file may be corrupt due to an interrupted download. Please remove it from your disk and try again.\n",
      "Elapsed time: 0.00 seconds\n",
      "Record: 124, started at 17/06/2022, 09:33:42\n",
      "Previous median lapse time: 0.00 seconds\n",
      "Processing J16167+672S star (TIC: 230073581)...\n",
      "filename: ../data/CARMENES_GTO_TESS_lc/lightcurves/J16167+672S/J16167+672S_TESS_TIC230073581_S14.fits\n"
     ]
    },
    {
     "name": "stderr",
     "output_type": "stream",
     "text": [
      "WARNING: The unit 'electron / s' could not be saved in native FITS format and cannot be recovered in reading. If pyyaml is installed, it can roundtrip within astropy by using QTable both to write and read back, though one has to enable the unit before reading. [astropy.io.fits.convenience]\n",
      "WARNING: Meta-data keyword BITPIX will be ignored since it conflicts with a FITS reserved keyword [astropy.io.fits.convenience]\n",
      "WARNING: Meta-data keyword NAXIS will be ignored since it conflicts with a FITS reserved keyword [astropy.io.fits.convenience]\n",
      "WARNING: VerifyWarning: Keyword name 'FLUX_ORIGIN' is greater than 8 characters or contains characters not allowed by the FITS standard; a HIERARCH card will be created. [astropy.io.fits.card]\n",
      "WARNING: VerifyWarning: Keyword name 'QUALITY_BITMASK' is greater than 8 characters or contains characters not allowed by the FITS standard; a HIERARCH card will be created. [astropy.io.fits.card]\n",
      "WARNING: VerifyWarning: Keyword name 'QUALITY_MASK' is greater than 8 characters or contains characters not allowed by the FITS standard; a HIERARCH card will be created. [astropy.io.fits.card]\n",
      "WARNING: Attribute `QUALITY_MASK` of type <class 'numpy.ndarray'> cannot be added to FITS Header - skipping [astropy.io.fits.convenience]\n",
      "WARNING: The unit 'electron2 / s2' could not be saved in native FITS format and cannot be recovered in reading. If pyyaml is installed, it can roundtrip within astropy by using QTable both to write and read back, though one has to enable the unit before reading. [astropy.io.fits.convenience]\n",
      "c:\\users\\ciroe\\gls.py:642: UserWarning: Matplotlib is currently using module://ipykernel.pylab.backend_inline, which is a non-GUI backend, so cannot show the figure.\n",
      "  fig.show()\n"
     ]
    },
    {
     "name": "stdout",
     "output_type": "stream",
     "text": [
      "Elapsed time: 486.77 seconds\n",
      "... SUCCESS.\n",
      "Record: 125, started at 17/06/2022, 09:41:48\n",
      "Previous median lapse time: 0.00 seconds\n",
      "Processing J16167+672N star (TIC: 230073588)...\n",
      "filename: ../data/CARMENES_GTO_TESS_lc/lightcurves/J16167+672N/J16167+672N_TESS_TIC230073588_S14.fits\n"
     ]
    },
    {
     "name": "stderr",
     "output_type": "stream",
     "text": [
      "WARNING: The unit 'electron / s' could not be saved in native FITS format and cannot be recovered in reading. If pyyaml is installed, it can roundtrip within astropy by using QTable both to write and read back, though one has to enable the unit before reading. [astropy.io.fits.convenience]\n",
      "WARNING: Meta-data keyword BITPIX will be ignored since it conflicts with a FITS reserved keyword [astropy.io.fits.convenience]\n",
      "WARNING: Meta-data keyword NAXIS will be ignored since it conflicts with a FITS reserved keyword [astropy.io.fits.convenience]\n",
      "WARNING: VerifyWarning: Keyword name 'FLUX_ORIGIN' is greater than 8 characters or contains characters not allowed by the FITS standard; a HIERARCH card will be created. [astropy.io.fits.card]\n",
      "WARNING: VerifyWarning: Keyword name 'QUALITY_BITMASK' is greater than 8 characters or contains characters not allowed by the FITS standard; a HIERARCH card will be created. [astropy.io.fits.card]\n",
      "WARNING: VerifyWarning: Keyword name 'QUALITY_MASK' is greater than 8 characters or contains characters not allowed by the FITS standard; a HIERARCH card will be created. [astropy.io.fits.card]\n",
      "WARNING: Attribute `QUALITY_MASK` of type <class 'numpy.ndarray'> cannot be added to FITS Header - skipping [astropy.io.fits.convenience]\n",
      "WARNING: The unit 'electron2 / s2' could not be saved in native FITS format and cannot be recovered in reading. If pyyaml is installed, it can roundtrip within astropy by using QTable both to write and read back, though one has to enable the unit before reading. [astropy.io.fits.convenience]\n",
      "c:\\users\\ciroe\\gls.py:642: UserWarning: Matplotlib is currently using module://ipykernel.pylab.backend_inline, which is a non-GUI backend, so cannot show the figure.\n",
      "  fig.show()\n"
     ]
    },
    {
     "name": "stdout",
     "output_type": "stream",
     "text": [
      "Elapsed time: 34.90 seconds\n",
      "... SUCCESS.\n",
      "Record: 126, started at 17/06/2022, 09:42:23\n",
      "Previous median lapse time: 0.00 seconds\n",
      "Processing J16102-193 star (TIC: 49040478)...\n",
      "filename: nan\n",
      "--- Some ERROR happened with record #126, J16102-193 star. Error=Not recognized as a supported data product:\n",
      "nan\n",
      "This file may be corrupt due to an interrupted download. Please remove it from your disk and try again.\n",
      "Elapsed time: 0.00 seconds\n",
      "Record: 127, started at 17/06/2022, 09:42:23\n",
      "Previous median lapse time: 0.00 seconds\n",
      "Processing J16092+093 star (TIC: 277549382)...\n",
      "filename: nan\n",
      "--- Some ERROR happened with record #127, J16092+093 star. Error=Not recognized as a supported data product:\n",
      "nan\n",
      "This file may be corrupt due to an interrupted download. Please remove it from your disk and try again.\n",
      "Elapsed time: 0.00 seconds\n",
      "Record: 129, started at 17/06/2022, 09:42:24\n",
      "Previous median lapse time: 0.00 seconds\n",
      "Processing J15598-082 star (TIC: 49511355)...\n",
      "filename: nan\n",
      "--- Some ERROR happened with record #129, J15598-082 star. Error=Not recognized as a supported data product:\n",
      "nan\n",
      "This file may be corrupt due to an interrupted download. Please remove it from your disk and try again.\n",
      "Elapsed time: 0.00 seconds\n",
      "Record: 132, started at 17/06/2022, 09:42:24\n",
      "Previous median lapse time: 0.00 seconds\n",
      "Processing J15474-108 star (TIC: 1179015038)...\n",
      "filename: nan\n",
      "--- Some ERROR happened with record #132, J15474-108 star. Error=Not recognized as a supported data product:\n",
      "nan\n",
      "This file may be corrupt due to an interrupted download. Please remove it from your disk and try again.\n",
      "Elapsed time: 0.00 seconds\n",
      "Record: 134, started at 17/06/2022, 09:42:24\n",
      "Previous median lapse time: 0.00 seconds\n",
      "Processing J15369-141 star (TIC: 471012749)...\n",
      "filename: nan\n",
      "--- Some ERROR happened with record #134, J15369-141 star. Error=Not recognized as a supported data product:\n",
      "nan\n",
      "This file may be corrupt due to an interrupted download. Please remove it from your disk and try again.\n",
      "Elapsed time: 0.00 seconds\n",
      "Record: 135, started at 17/06/2022, 09:42:24\n",
      "Previous median lapse time: 0.00 seconds\n",
      "Processing J15305+094 star (TIC: 393018418)...\n",
      "filename: nan\n",
      "--- Some ERROR happened with record #135, J15305+094 star. Error=Not recognized as a supported data product:\n",
      "nan\n",
      "This file may be corrupt due to an interrupted download. Please remove it from your disk and try again.\n",
      "Elapsed time: 0.00 seconds\n",
      "Record: 137, started at 17/06/2022, 09:42:24\n",
      "Previous median lapse time: 0.00 seconds\n",
      "Processing J15194-077 star (TIC: 36853511)...\n",
      "filename: nan\n",
      "--- Some ERROR happened with record #137, J15194-077 star. Error=Not recognized as a supported data product:\n",
      "nan\n",
      "This file may be corrupt due to an interrupted download. Please remove it from your disk and try again.\n",
      "Elapsed time: 0.00 seconds\n",
      "Record: 138, started at 17/06/2022, 09:42:24\n",
      "Previous median lapse time: 0.00 seconds\n",
      "Processing J15100+193 star (TIC: 351346161)...\n",
      "filename: nan\n",
      "--- Some ERROR happened with record #138, J15100+193 star. Error=Not recognized as a supported data product:\n",
      "nan\n",
      "This file may be corrupt due to an interrupted download. Please remove it from your disk and try again.\n",
      "Elapsed time: 0.00 seconds\n",
      "Record: 139, started at 17/06/2022, 09:42:24\n",
      "Previous median lapse time: 0.00 seconds\n",
      "Processing J15095+031 star (TIC: 460418429)...\n",
      "filename: nan\n",
      "--- Some ERROR happened with record #139, J15095+031 star. Error=Not recognized as a supported data product:\n",
      "nan\n",
      "This file may be corrupt due to an interrupted download. Please remove it from your disk and try again.\n",
      "Elapsed time: 0.00 seconds\n",
      "Record: 140, started at 17/06/2022, 09:42:24\n",
      "Previous median lapse time: 0.00 seconds\n",
      "Processing J15013+055 star (TIC: 460356719)...\n",
      "filename: nan\n",
      "--- Some ERROR happened with record #140, J15013+055 star. Error=Not recognized as a supported data product:\n",
      "nan\n",
      "This file may be corrupt due to an interrupted download. Please remove it from your disk and try again.\n",
      "Elapsed time: 0.00 seconds\n",
      "Record: 142, started at 17/06/2022, 09:42:24\n",
      "Previous median lapse time: 0.00 seconds\n",
      "Processing J14524+123 star (TIC: 229550884)...\n",
      "filename: nan\n",
      "--- Some ERROR happened with record #142, J14524+123 star. Error=Not recognized as a supported data product:\n",
      "nan\n",
      "This file may be corrupt due to an interrupted download. Please remove it from your disk and try again.\n",
      "Elapsed time: 0.00 seconds\n",
      "Record: 143, started at 17/06/2022, 09:42:24\n",
      "Previous median lapse time: 0.00 seconds\n",
      "Processing J14342-125 star (TIC: 294401924)...\n",
      "filename: nan\n",
      "--- Some ERROR happened with record #143, J14342-125 star. Error=Not recognized as a supported data product:\n",
      "nan\n",
      "This file may be corrupt due to an interrupted download. Please remove it from your disk and try again.\n",
      "Elapsed time: 0.00 seconds\n",
      "Record: 144, started at 17/06/2022, 09:42:24\n",
      "Previous median lapse time: 0.00 seconds\n",
      "Processing J14321+081 star (TIC: 349568452)...\n",
      "filename: nan\n",
      "--- Some ERROR happened with record #144, J14321+081 star. Error=Not recognized as a supported data product:\n",
      "nan\n",
      "This file may be corrupt due to an interrupted download. Please remove it from your disk and try again.\n",
      "Elapsed time: 0.00 seconds\n",
      "Record: 145, started at 17/06/2022, 09:42:24\n",
      "Previous median lapse time: 0.00 seconds\n",
      "Processing J14310-122 star (TIC: 297175954)...\n",
      "filename: nan\n",
      "--- Some ERROR happened with record #145, J14310-122 star. Error=Not recognized as a supported data product:\n",
      "nan\n",
      "This file may be corrupt due to an interrupted download. Please remove it from your disk and try again.\n",
      "Elapsed time: 0.00 seconds\n",
      "Record: 146, started at 17/06/2022, 09:42:24\n",
      "Previous median lapse time: 0.00 seconds\n",
      "Processing J14307-086 star (TIC: 23741668)...\n",
      "filename: nan\n",
      "--- Some ERROR happened with record #146, J14307-086 star. Error=Not recognized as a supported data product:\n",
      "nan\n",
      "This file may be corrupt due to an interrupted download. Please remove it from your disk and try again.\n",
      "Elapsed time: 0.00 seconds\n",
      "Record: 147, started at 17/06/2022, 09:42:24\n",
      "Previous median lapse time: 0.00 seconds\n",
      "Processing J14294+155 star (TIC: 450352108)...\n",
      "filename: nan\n",
      "--- Some ERROR happened with record #147, J14294+155 star. Error=Not recognized as a supported data product:\n",
      "nan\n",
      "This file may be corrupt due to an interrupted download. Please remove it from your disk and try again.\n",
      "Elapsed time: 0.00 seconds\n",
      "Record: 152, started at 17/06/2022, 09:42:24\n",
      "Previous median lapse time: 0.00 seconds\n",
      "Processing J14155+046 star (TIC: 446416116)...\n",
      "filename: nan\n",
      "--- Some ERROR happened with record #152, J14155+046 star. Error=Not recognized as a supported data product:\n",
      "nan\n",
      "This file may be corrupt due to an interrupted download. Please remove it from your disk and try again.\n",
      "Elapsed time: 0.00 seconds\n",
      "Record: 155, started at 17/06/2022, 09:42:24\n",
      "Previous median lapse time: 0.00 seconds\n",
      "Processing J14010-026 star (TIC: 119147875)...\n",
      "filename: nan\n",
      "--- Some ERROR happened with record #155, J14010-026 star. Error=Not recognized as a supported data product:\n",
      "nan\n",
      "This file may be corrupt due to an interrupted download. Please remove it from your disk and try again.\n",
      "Elapsed time: 0.00 seconds\n",
      "Record: 174, started at 17/06/2022, 09:42:24\n",
      "Previous median lapse time: 0.00 seconds\n",
      "Processing J12428+418 star (TIC: 115920948)...\n",
      "filename: nan\n",
      "--- Some ERROR happened with record #174, J12428+418 star. Error=Not recognized as a supported data product:\n",
      "nan\n",
      "This file may be corrupt due to an interrupted download. Please remove it from your disk and try again.\n",
      "Elapsed time: 0.00 seconds\n",
      "Record: 181, started at 17/06/2022, 09:42:25\n",
      "Previous median lapse time: 0.00 seconds\n",
      "Processing J12189+111 star (TIC: 389356212)...\n",
      "filename: nan\n",
      "--- Some ERROR happened with record #181, J12189+111 star. Error=Not recognized as a supported data product:\n",
      "nan\n",
      "This file may be corrupt due to an interrupted download. Please remove it from your disk and try again.\n",
      "Elapsed time: 0.00 seconds\n",
      "Record: 183, started at 17/06/2022, 09:42:25\n",
      "Previous median lapse time: 0.00 seconds\n",
      "Processing J12123+544S star (TIC: 224289449)...\n",
      "filename: ../data/CARMENES_GTO_TESS_lc/lightcurves/J12123+544S/J12123+544S_TESS_TIC224289449_S15.fits\n"
     ]
    },
    {
     "name": "stderr",
     "output_type": "stream",
     "text": [
      "WARNING: The unit 'electron / s' could not be saved in native FITS format and cannot be recovered in reading. If pyyaml is installed, it can roundtrip within astropy by using QTable both to write and read back, though one has to enable the unit before reading. [astropy.io.fits.convenience]\n",
      "WARNING: Meta-data keyword BITPIX will be ignored since it conflicts with a FITS reserved keyword [astropy.io.fits.convenience]\n",
      "WARNING: Meta-data keyword NAXIS will be ignored since it conflicts with a FITS reserved keyword [astropy.io.fits.convenience]\n",
      "WARNING: VerifyWarning: Keyword name 'FLUX_ORIGIN' is greater than 8 characters or contains characters not allowed by the FITS standard; a HIERARCH card will be created. [astropy.io.fits.card]\n",
      "WARNING: VerifyWarning: Keyword name 'QUALITY_BITMASK' is greater than 8 characters or contains characters not allowed by the FITS standard; a HIERARCH card will be created. [astropy.io.fits.card]\n",
      "WARNING: VerifyWarning: Keyword name 'QUALITY_MASK' is greater than 8 characters or contains characters not allowed by the FITS standard; a HIERARCH card will be created. [astropy.io.fits.card]\n",
      "WARNING: Attribute `QUALITY_MASK` of type <class 'numpy.ndarray'> cannot be added to FITS Header - skipping [astropy.io.fits.convenience]\n",
      "WARNING: The unit 'electron2 / s2' could not be saved in native FITS format and cannot be recovered in reading. If pyyaml is installed, it can roundtrip within astropy by using QTable both to write and read back, though one has to enable the unit before reading. [astropy.io.fits.convenience]\n",
      "c:\\users\\ciroe\\gls.py:642: UserWarning: Matplotlib is currently using module://ipykernel.pylab.backend_inline, which is a non-GUI backend, so cannot show the figure.\n",
      "  fig.show()\n"
     ]
    },
    {
     "name": "stdout",
     "output_type": "stream",
     "text": [
      "Elapsed time: 490.67 seconds\n",
      "... SUCCESS.\n",
      "Record: 189, started at 17/06/2022, 09:50:35\n",
      "Previous median lapse time: 0.00 seconds\n",
      "Processing J11477+008 star (TIC: 325275315)...\n",
      "filename: nan\n",
      "--- Some ERROR happened with record #189, J11477+008 star. Error=Not recognized as a supported data product:\n",
      "nan\n",
      "This file may be corrupt due to an interrupted download. Please remove it from your disk and try again.\n",
      "Elapsed time: 0.00 seconds\n",
      "Record: 191, started at 17/06/2022, 09:50:35\n",
      "Previous median lapse time: 0.00 seconds\n",
      "Processing J11476+002 star (TIC: 325273691)...\n",
      "filename: nan\n",
      "--- Some ERROR happened with record #191, J11476+002 star. Error=Not recognized as a supported data product:\n",
      "nan\n",
      "This file may be corrupt due to an interrupted download. Please remove it from your disk and try again.\n",
      "Elapsed time: 0.00 seconds\n",
      "Record: 198, started at 17/06/2022, 09:50:35\n",
      "Previous median lapse time: 0.00 seconds\n",
      "Processing J11302+076 star (TIC: 388804061)...\n",
      "filename: nan\n",
      "--- Some ERROR happened with record #198, J11302+076 star. Error=Not recognized as a supported data product:\n",
      "nan\n",
      "This file may be corrupt due to an interrupted download. Please remove it from your disk and try again.\n",
      "Elapsed time: 0.00 seconds\n",
      "Record: 202, started at 17/06/2022, 09:50:36\n",
      "Previous median lapse time: 0.00 seconds\n",
      "Processing J11110+304W star (TIC: 9001924)...\n",
      "filename: ../data/CARMENES_GTO_TESS_lc/lightcurves/J11110+304W/J11110+304W_TESS_TIC9001924_S22.fits\n"
     ]
    },
    {
     "name": "stderr",
     "output_type": "stream",
     "text": [
      "WARNING: The unit 'electron / s' could not be saved in native FITS format and cannot be recovered in reading. If pyyaml is installed, it can roundtrip within astropy by using QTable both to write and read back, though one has to enable the unit before reading. [astropy.io.fits.convenience]\n",
      "WARNING: Meta-data keyword BITPIX will be ignored since it conflicts with a FITS reserved keyword [astropy.io.fits.convenience]\n",
      "WARNING: Meta-data keyword NAXIS will be ignored since it conflicts with a FITS reserved keyword [astropy.io.fits.convenience]\n",
      "WARNING: VerifyWarning: Keyword name 'FLUX_ORIGIN' is greater than 8 characters or contains characters not allowed by the FITS standard; a HIERARCH card will be created. [astropy.io.fits.card]\n",
      "WARNING: VerifyWarning: Keyword name 'QUALITY_BITMASK' is greater than 8 characters or contains characters not allowed by the FITS standard; a HIERARCH card will be created. [astropy.io.fits.card]\n",
      "WARNING: VerifyWarning: Keyword name 'QUALITY_MASK' is greater than 8 characters or contains characters not allowed by the FITS standard; a HIERARCH card will be created. [astropy.io.fits.card]\n",
      "WARNING: Attribute `QUALITY_MASK` of type <class 'numpy.ndarray'> cannot be added to FITS Header - skipping [astropy.io.fits.convenience]\n",
      "WARNING: The unit 'electron2 / s2' could not be saved in native FITS format and cannot be recovered in reading. If pyyaml is installed, it can roundtrip within astropy by using QTable both to write and read back, though one has to enable the unit before reading. [astropy.io.fits.convenience]\n",
      "c:\\users\\ciroe\\gls.py:642: UserWarning: Matplotlib is currently using module://ipykernel.pylab.backend_inline, which is a non-GUI backend, so cannot show the figure.\n",
      "  fig.show()\n"
     ]
    },
    {
     "name": "stdout",
     "output_type": "stream",
     "text": [
      "Elapsed time: 35.26 seconds\n",
      "... SUCCESS.\n",
      "Record: 204, started at 17/06/2022, 09:51:11\n",
      "Previous median lapse time: 0.00 seconds\n",
      "Processing J11055+435 star (TIC: 252803606)...\n",
      "filename: nan\n",
      "--- Some ERROR happened with record #204, J11055+435 star. Error=Not recognized as a supported data product:\n",
      "nan\n",
      "This file may be corrupt due to an interrupted download. Please remove it from your disk and try again.\n",
      "Elapsed time: 0.00 seconds\n",
      "Record: 211, started at 17/06/2022, 09:51:11\n",
      "Previous median lapse time: 0.00 seconds\n",
      "Processing J10564+070 star (TIC: 365006789)...\n",
      "filename: nan\n",
      "--- Some ERROR happened with record #211, J10564+070 star. Error=Not recognized as a supported data product:\n",
      "nan\n",
      "This file may be corrupt due to an interrupted download. Please remove it from your disk and try again.\n",
      "Elapsed time: 0.00 seconds\n",
      "Record: 212, started at 17/06/2022, 09:51:11\n",
      "Previous median lapse time: 0.00 seconds\n",
      "Processing J10508+068 star (TIC: 393584005)...\n",
      "filename: nan\n",
      "--- Some ERROR happened with record #212, J10508+068 star. Error=Not recognized as a supported data product:\n",
      "nan\n",
      "This file may be corrupt due to an interrupted download. Please remove it from your disk and try again.\n",
      "Elapsed time: 0.00 seconds\n",
      "Record: 213, started at 17/06/2022, 09:51:11\n",
      "Previous median lapse time: 0.00 seconds\n",
      "Processing J10504+331 star (TIC: 165654322)...\n",
      "filename: nan\n",
      "--- Some ERROR happened with record #213, J10504+331 star. Error=Not recognized as a supported data product:\n",
      "nan\n",
      "This file may be corrupt due to an interrupted download. Please remove it from your disk and try again.\n",
      "Elapsed time: 0.00 seconds\n",
      "Record: 217, started at 17/06/2022, 09:51:11\n",
      "Previous median lapse time: 0.00 seconds\n",
      "Processing J10360+051 star (TIC: 374267666)...\n",
      "filename: nan\n",
      "--- Some ERROR happened with record #217, J10360+051 star. Error=Not recognized as a supported data product:\n",
      "nan\n",
      "This file may be corrupt due to an interrupted download. Please remove it from your disk and try again.\n",
      "Elapsed time: 0.00 seconds\n",
      "Record: 222, started at 17/06/2022, 09:51:11\n",
      "Previous median lapse time: 0.00 seconds\n",
      "Processing J10238+438 star (TIC: 392365135)...\n",
      "filename: ../data/CARMENES_GTO_TESS_lc/lightcurves/J10238+438/J10238+438_TESS_TIC392365135_S21.fits\n"
     ]
    },
    {
     "name": "stderr",
     "output_type": "stream",
     "text": [
      "WARNING: The unit 'electron / s' could not be saved in native FITS format and cannot be recovered in reading. If pyyaml is installed, it can roundtrip within astropy by using QTable both to write and read back, though one has to enable the unit before reading. [astropy.io.fits.convenience]\n",
      "WARNING: Meta-data keyword BITPIX will be ignored since it conflicts with a FITS reserved keyword [astropy.io.fits.convenience]\n",
      "WARNING: Meta-data keyword NAXIS will be ignored since it conflicts with a FITS reserved keyword [astropy.io.fits.convenience]\n",
      "WARNING: VerifyWarning: Keyword name 'FLUX_ORIGIN' is greater than 8 characters or contains characters not allowed by the FITS standard; a HIERARCH card will be created. [astropy.io.fits.card]\n",
      "WARNING: VerifyWarning: Keyword name 'QUALITY_BITMASK' is greater than 8 characters or contains characters not allowed by the FITS standard; a HIERARCH card will be created. [astropy.io.fits.card]\n",
      "WARNING: VerifyWarning: Keyword name 'QUALITY_MASK' is greater than 8 characters or contains characters not allowed by the FITS standard; a HIERARCH card will be created. [astropy.io.fits.card]\n",
      "WARNING: Attribute `QUALITY_MASK` of type <class 'numpy.ndarray'> cannot be added to FITS Header - skipping [astropy.io.fits.convenience]\n",
      "WARNING: The unit 'electron2 / s2' could not be saved in native FITS format and cannot be recovered in reading. If pyyaml is installed, it can roundtrip within astropy by using QTable both to write and read back, though one has to enable the unit before reading. [astropy.io.fits.convenience]\n",
      "c:\\users\\ciroe\\gls.py:642: UserWarning: Matplotlib is currently using module://ipykernel.pylab.backend_inline, which is a non-GUI backend, so cannot show the figure.\n",
      "  fig.show()\n"
     ]
    },
    {
     "name": "stdout",
     "output_type": "stream",
     "text": [
      "Elapsed time: 39.50 seconds\n",
      "... SUCCESS.\n",
      "Record: 223, started at 17/06/2022, 09:51:51\n",
      "Previous median lapse time: 0.00 seconds\n",
      "Processing J10196+198 star (TIC: 95431305)...\n",
      "filename: nan\n",
      "--- Some ERROR happened with record #223, J10196+198 star. Error=Not recognized as a supported data product:\n",
      "nan\n",
      "This file may be corrupt due to an interrupted download. Please remove it from your disk and try again.\n",
      "Elapsed time: 0.00 seconds\n",
      "Record: 227, started at 17/06/2022, 09:51:51\n",
      "Previous median lapse time: 0.00 seconds\n",
      "Processing J10125+570 star (TIC: 137958028)...\n",
      "filename: ../data/CARMENES_GTO_TESS_lc/lightcurves/J10125+570/J10125+570_TESS_TIC137958028_S21.fits\n"
     ]
    },
    {
     "name": "stderr",
     "output_type": "stream",
     "text": [
      "c:\\users\\ciroe\\gls.py:368: RuntimeWarning: invalid value encountered in sqrt\n",
      "  self.rms = rms = sqrt(self._YY*(1.-pmax))\n",
      "c:\\users\\ciroe\\gls.py:394: RuntimeWarning: invalid value encountered in sqrt\n",
      "  p[\"e_f\"] = e_f = sqrt(-2./self.N / aa * (1.-self.pmax))\n",
      "WARNING: The unit 'electron / s' could not be saved in native FITS format and cannot be recovered in reading. If pyyaml is installed, it can roundtrip within astropy by using QTable both to write and read back, though one has to enable the unit before reading. [astropy.io.fits.convenience]\n",
      "WARNING: Meta-data keyword BITPIX will be ignored since it conflicts with a FITS reserved keyword [astropy.io.fits.convenience]\n",
      "WARNING: Meta-data keyword NAXIS will be ignored since it conflicts with a FITS reserved keyword [astropy.io.fits.convenience]\n",
      "WARNING: VerifyWarning: Keyword name 'FLUX_ORIGIN' is greater than 8 characters or contains characters not allowed by the FITS standard; a HIERARCH card will be created. [astropy.io.fits.card]\n",
      "WARNING: VerifyWarning: Keyword name 'QUALITY_BITMASK' is greater than 8 characters or contains characters not allowed by the FITS standard; a HIERARCH card will be created. [astropy.io.fits.card]\n",
      "WARNING: VerifyWarning: Keyword name 'QUALITY_MASK' is greater than 8 characters or contains characters not allowed by the FITS standard; a HIERARCH card will be created. [astropy.io.fits.card]\n",
      "WARNING: Attribute `QUALITY_MASK` of type <class 'numpy.ndarray'> cannot be added to FITS Header - skipping [astropy.io.fits.convenience]\n",
      "WARNING: The unit 'electron2 / s2' could not be saved in native FITS format and cannot be recovered in reading. If pyyaml is installed, it can roundtrip within astropy by using QTable both to write and read back, though one has to enable the unit before reading. [astropy.io.fits.convenience]\n"
     ]
    },
    {
     "name": "stdout",
     "output_type": "stream",
     "text": [
      "--- Some ERROR happened with record #227, J10125+570 star. Error=Floating point nan values are not allowed in FITS headers.\n",
      "Elapsed time: 37.97 seconds\n",
      "Record: 231, started at 17/06/2022, 09:52:29\n",
      "Previous median lapse time: 0.00 seconds\n",
      "Processing J09597+472 star (TIC: 157835914)...\n",
      "filename: ../data/CARMENES_GTO_TESS_lc/lightcurves/J09597+472/J09597+472_TESS_TIC157835914_S21.fits\n"
     ]
    },
    {
     "name": "stderr",
     "output_type": "stream",
     "text": [
      "WARNING: The unit 'electron / s' could not be saved in native FITS format and cannot be recovered in reading. If pyyaml is installed, it can roundtrip within astropy by using QTable both to write and read back, though one has to enable the unit before reading. [astropy.io.fits.convenience]\n",
      "WARNING: Meta-data keyword BITPIX will be ignored since it conflicts with a FITS reserved keyword [astropy.io.fits.convenience]\n",
      "WARNING: Meta-data keyword NAXIS will be ignored since it conflicts with a FITS reserved keyword [astropy.io.fits.convenience]\n",
      "WARNING: VerifyWarning: Keyword name 'FLUX_ORIGIN' is greater than 8 characters or contains characters not allowed by the FITS standard; a HIERARCH card will be created. [astropy.io.fits.card]\n",
      "WARNING: VerifyWarning: Keyword name 'QUALITY_BITMASK' is greater than 8 characters or contains characters not allowed by the FITS standard; a HIERARCH card will be created. [astropy.io.fits.card]\n",
      "WARNING: VerifyWarning: Keyword name 'QUALITY_MASK' is greater than 8 characters or contains characters not allowed by the FITS standard; a HIERARCH card will be created. [astropy.io.fits.card]\n",
      "WARNING: Attribute `QUALITY_MASK` of type <class 'numpy.ndarray'> cannot be added to FITS Header - skipping [astropy.io.fits.convenience]\n",
      "WARNING: The unit 'electron2 / s2' could not be saved in native FITS format and cannot be recovered in reading. If pyyaml is installed, it can roundtrip within astropy by using QTable both to write and read back, though one has to enable the unit before reading. [astropy.io.fits.convenience]\n",
      "c:\\users\\ciroe\\gls.py:642: UserWarning: Matplotlib is currently using module://ipykernel.pylab.backend_inline, which is a non-GUI backend, so cannot show the figure.\n",
      "  fig.show()\n"
     ]
    },
    {
     "name": "stdout",
     "output_type": "stream",
     "text": [
      "Elapsed time: 40.04 seconds\n",
      "... SUCCESS.\n",
      "Record: 241, started at 17/06/2022, 09:53:09\n",
      "Previous median lapse time: 0.00 seconds\n",
      "Processing J09411+132 star (TIC: 307646256)...\n",
      "filename: nan\n",
      "--- Some ERROR happened with record #241, J09411+132 star. Error=Not recognized as a supported data product:\n",
      "nan\n",
      "This file may be corrupt due to an interrupted download. Please remove it from your disk and try again.\n",
      "Elapsed time: 0.00 seconds\n",
      "Record: 243, started at 17/06/2022, 09:53:09\n",
      "Previous median lapse time: 0.00 seconds\n",
      "Processing J09307+003 star (TIC: 383218397)...\n",
      "filename: ../data/CARMENES_GTO_TESS_lc/lightcurves/J09307+003/J09307+003_TESS_TIC383218397_S08.fits\n",
      "WARNING: Highest peak is at the edge of the frequency range.\n",
      "No output of frequency error.\n",
      "Increase frequency range to sample the peak maximum.\n"
     ]
    },
    {
     "name": "stderr",
     "output_type": "stream",
     "text": [
      "WARNING: The unit 'electron / s' could not be saved in native FITS format and cannot be recovered in reading. If pyyaml is installed, it can roundtrip within astropy by using QTable both to write and read back, though one has to enable the unit before reading. [astropy.io.fits.convenience]\n",
      "WARNING: Meta-data keyword BITPIX will be ignored since it conflicts with a FITS reserved keyword [astropy.io.fits.convenience]\n",
      "WARNING: Meta-data keyword NAXIS will be ignored since it conflicts with a FITS reserved keyword [astropy.io.fits.convenience]\n",
      "WARNING: VerifyWarning: Keyword name 'FLUX_ORIGIN' is greater than 8 characters or contains characters not allowed by the FITS standard; a HIERARCH card will be created. [astropy.io.fits.card]\n",
      "WARNING: VerifyWarning: Keyword name 'QUALITY_BITMASK' is greater than 8 characters or contains characters not allowed by the FITS standard; a HIERARCH card will be created. [astropy.io.fits.card]\n",
      "WARNING: VerifyWarning: Keyword name 'QUALITY_MASK' is greater than 8 characters or contains characters not allowed by the FITS standard; a HIERARCH card will be created. [astropy.io.fits.card]\n",
      "WARNING: Attribute `QUALITY_MASK` of type <class 'numpy.ndarray'> cannot be added to FITS Header - skipping [astropy.io.fits.convenience]\n",
      "WARNING: The unit 'electron2 / s2' could not be saved in native FITS format and cannot be recovered in reading. If pyyaml is installed, it can roundtrip within astropy by using QTable both to write and read back, though one has to enable the unit before reading. [astropy.io.fits.convenience]\n"
     ]
    },
    {
     "name": "stdout",
     "output_type": "stream",
     "text": [
      "--- Some ERROR happened with record #243, J09307+003 star. Error=Floating point nan values are not allowed in FITS headers.\n",
      "Elapsed time: 382.24 seconds\n",
      "Record: 249, started at 17/06/2022, 09:59:31\n",
      "Previous median lapse time: 0.00 seconds\n",
      "Processing J09140+196 star (TIC: 85993728)...\n",
      "filename: nan\n",
      "--- Some ERROR happened with record #249, J09140+196 star. Error=Not recognized as a supported data product:\n",
      "nan\n",
      "This file may be corrupt due to an interrupted download. Please remove it from your disk and try again.\n",
      "Elapsed time: 0.00 seconds\n",
      "Record: 250, started at 17/06/2022, 09:59:31\n",
      "Previous median lapse time: 0.00 seconds\n",
      "Processing J09133+688 star (TIC: 802602073)...\n",
      "filename: nan\n",
      "--- Some ERROR happened with record #250, J09133+688 star. Error=Not recognized as a supported data product:\n",
      "nan\n",
      "This file may be corrupt due to an interrupted download. Please remove it from your disk and try again.\n",
      "Elapsed time: 0.00 seconds\n",
      "Record: 254, started at 17/06/2022, 09:59:31\n",
      "Previous median lapse time: 0.00 seconds\n",
      "Processing J09003+218 star (TIC: 203225829)...\n",
      "filename: nan\n",
      "--- Some ERROR happened with record #254, J09003+218 star. Error=Not recognized as a supported data product:\n",
      "nan\n",
      "This file may be corrupt due to an interrupted download. Please remove it from your disk and try again.\n",
      "Elapsed time: 0.00 seconds\n",
      "Record: 265, started at 17/06/2022, 09:59:31\n",
      "Previous median lapse time: 0.00 seconds\n",
      "Processing J08161+013 star (TIC: 455139555)...\n",
      "filename: nan\n",
      "--- Some ERROR happened with record #265, J08161+013 star. Error=Not recognized as a supported data product:\n",
      "nan\n",
      "This file may be corrupt due to an interrupted download. Please remove it from your disk and try again.\n",
      "Elapsed time: 0.00 seconds\n",
      "Record: 269, started at 17/06/2022, 09:59:31\n",
      "Previous median lapse time: 0.00 seconds\n",
      "Processing J07590+153 star (TIC: 19028197)...\n",
      "filename: nan\n",
      "--- Some ERROR happened with record #269, J07590+153 star. Error=Not recognized as a supported data product:\n",
      "nan\n",
      "This file may be corrupt due to an interrupted download. Please remove it from your disk and try again.\n",
      "Elapsed time: 0.00 seconds\n",
      "Record: 271, started at 17/06/2022, 09:59:32\n",
      "Previous median lapse time: 0.00 seconds\n",
      "Processing J07558+833 star (TIC: 289972535)...\n",
      "filename: ../data/CARMENES_GTO_TESS_lc/lightcurves/J07558+833/J07558+833_TESS_TIC289972535_S19.fits\n"
     ]
    },
    {
     "name": "stderr",
     "output_type": "stream",
     "text": [
      "WARNING: The unit 'electron / s' could not be saved in native FITS format and cannot be recovered in reading. If pyyaml is installed, it can roundtrip within astropy by using QTable both to write and read back, though one has to enable the unit before reading. [astropy.io.fits.convenience]\n",
      "WARNING: Meta-data keyword BITPIX will be ignored since it conflicts with a FITS reserved keyword [astropy.io.fits.convenience]\n",
      "WARNING: Meta-data keyword NAXIS will be ignored since it conflicts with a FITS reserved keyword [astropy.io.fits.convenience]\n",
      "WARNING: VerifyWarning: Keyword name 'FLUX_ORIGIN' is greater than 8 characters or contains characters not allowed by the FITS standard; a HIERARCH card will be created. [astropy.io.fits.card]\n",
      "WARNING: VerifyWarning: Keyword name 'QUALITY_BITMASK' is greater than 8 characters or contains characters not allowed by the FITS standard; a HIERARCH card will be created. [astropy.io.fits.card]\n",
      "WARNING: VerifyWarning: Keyword name 'QUALITY_MASK' is greater than 8 characters or contains characters not allowed by the FITS standard; a HIERARCH card will be created. [astropy.io.fits.card]\n",
      "WARNING: Attribute `QUALITY_MASK` of type <class 'numpy.ndarray'> cannot be added to FITS Header - skipping [astropy.io.fits.convenience]\n",
      "WARNING: The unit 'electron2 / s2' could not be saved in native FITS format and cannot be recovered in reading. If pyyaml is installed, it can roundtrip within astropy by using QTable both to write and read back, though one has to enable the unit before reading. [astropy.io.fits.convenience]\n",
      "c:\\users\\ciroe\\gls.py:642: UserWarning: Matplotlib is currently using module://ipykernel.pylab.backend_inline, which is a non-GUI backend, so cannot show the figure.\n",
      "  fig.show()\n"
     ]
    },
    {
     "name": "stdout",
     "output_type": "stream",
     "text": [
      "Elapsed time: 444.88 seconds\n",
      "... SUCCESS.\n",
      "Record: 276, started at 17/06/2022, 10:06:56\n",
      "Previous median lapse time: 0.00 seconds\n",
      "Processing J07386-212 star (TIC: 415085843)...\n",
      "filename: nan\n",
      "--- Some ERROR happened with record #276, J07386-212 star. Error=Not recognized as a supported data product:\n",
      "nan\n",
      "This file may be corrupt due to an interrupted download. Please remove it from your disk and try again.\n",
      "Elapsed time: 0.00 seconds\n",
      "Record: 278, started at 17/06/2022, 10:06:57\n",
      "Previous median lapse time: 0.00 seconds\n",
      "Processing J07353+548 star (TIC: 355061271)...\n",
      "filename: nan\n",
      "--- Some ERROR happened with record #278, J07353+548 star. Error=Not recognized as a supported data product:\n",
      "nan\n",
      "This file may be corrupt due to an interrupted download. Please remove it from your disk and try again.\n",
      "Elapsed time: 0.00 seconds\n",
      "Record: 286, started at 17/06/2022, 10:06:57\n",
      "Previous median lapse time: 0.00 seconds\n",
      "Processing J06594+193 star (TIC: 58998044)...\n",
      "filename: nan\n",
      "--- Some ERROR happened with record #286, J06594+193 star. Error=Not recognized as a supported data product:\n",
      "nan\n",
      "This file may be corrupt due to an interrupted download. Please remove it from your disk and try again.\n",
      "Elapsed time: 0.00 seconds\n",
      "Record: 291, started at 17/06/2022, 10:06:57\n",
      "Previous median lapse time: 0.00 seconds\n",
      "Processing J06371+175 star (TIC: 307809773)...\n",
      "filename: nan\n",
      "--- Some ERROR happened with record #291, J06371+175 star. Error=Not recognized as a supported data product:\n",
      "nan\n",
      "This file may be corrupt due to an interrupted download. Please remove it from your disk and try again.\n",
      "Elapsed time: 0.00 seconds\n",
      "Record: 293, started at 17/06/2022, 10:06:57\n",
      "Previous median lapse time: 0.00 seconds\n",
      "Processing J06246+234 star (TIC: 430044614)...\n",
      "filename: nan\n",
      "--- Some ERROR happened with record #293, J06246+234 star. Error=Not recognized as a supported data product:\n",
      "nan\n",
      "This file may be corrupt due to an interrupted download. Please remove it from your disk and try again.\n",
      "Elapsed time: 0.00 seconds\n",
      "Record: 299, started at 17/06/2022, 10:06:57\n",
      "Previous median lapse time: 0.00 seconds\n",
      "Processing J05532+242 star (TIC: 720817989)...\n",
      "filename: nan\n",
      "--- Some ERROR happened with record #299, J05532+242 star. Error=Not recognized as a supported data product:\n",
      "nan\n",
      "This file may be corrupt due to an interrupted download. Please remove it from your disk and try again.\n",
      "Elapsed time: 0.00 seconds\n",
      "Record: 310, started at 17/06/2022, 10:06:57\n",
      "Previous median lapse time: 0.00 seconds\n",
      "Processing J05127+196 star (TIC: 467611768)...\n",
      "filename: nan\n",
      "--- Some ERROR happened with record #310, J05127+196 star. Error=Not recognized as a supported data product:\n",
      "nan\n",
      "This file may be corrupt due to an interrupted download. Please remove it from your disk and try again.\n",
      "Elapsed time: 0.00 seconds\n",
      "Record: 319, started at 17/06/2022, 10:06:57\n",
      "Previous median lapse time: 0.00 seconds\n",
      "Processing J04472+206 star (TIC: 238413768)...\n",
      "filename: nan\n",
      "--- Some ERROR happened with record #319, J04472+206 star. Error=Not recognized as a supported data product:\n",
      "nan\n",
      "This file may be corrupt due to an interrupted download. Please remove it from your disk and try again.\n",
      "Elapsed time: 0.00 seconds\n",
      "Record: 320, started at 17/06/2022, 10:06:57\n",
      "Previous median lapse time: 0.00 seconds\n",
      "Processing J04429+214 star (TIC: 397356212)...\n",
      "filename: nan\n",
      "--- Some ERROR happened with record #320, J04429+214 star. Error=Not recognized as a supported data product:\n",
      "nan\n",
      "This file may be corrupt due to an interrupted download. Please remove it from your disk and try again.\n",
      "Elapsed time: 0.00 seconds\n",
      "Record: 321, started at 17/06/2022, 10:06:57\n",
      "Previous median lapse time: 0.00 seconds\n",
      "Processing J04429+189 star (TIC: 397354290)...\n",
      "filename: nan\n",
      "--- Some ERROR happened with record #321, J04429+189 star. Error=Not recognized as a supported data product:\n",
      "nan\n",
      "This file may be corrupt due to an interrupted download. Please remove it from your disk and try again.\n",
      "Elapsed time: 0.00 seconds\n",
      "Record: 327, started at 17/06/2022, 10:06:57\n",
      "Previous median lapse time: 0.00 seconds\n",
      "Processing J04290+219 star (TIC: 17558287)...\n",
      "filename: nan\n",
      "--- Some ERROR happened with record #327, J04290+219 star. Error=Not recognized as a supported data product:\n",
      "nan\n",
      "This file may be corrupt due to an interrupted download. Please remove it from your disk and try again.\n",
      "Elapsed time: 0.00 seconds\n",
      "Record: 329, started at 17/06/2022, 10:06:57\n",
      "Previous median lapse time: 0.00 seconds\n",
      "Processing J04219+213 star (TIC: 17307715)...\n",
      "filename: nan\n",
      "--- Some ERROR happened with record #329, J04219+213 star. Error=Not recognized as a supported data product:\n",
      "nan\n",
      "This file may be corrupt due to an interrupted download. Please remove it from your disk and try again.\n",
      "Elapsed time: 0.00 seconds\n",
      "Record: 340, started at 17/06/2022, 10:06:57\n",
      "Previous median lapse time: 0.00 seconds\n",
      "Processing J03213+799 star (TIC: 357936741)...\n",
      "filename: nan\n",
      "--- Some ERROR happened with record #340, J03213+799 star. Error=Not recognized as a supported data product:\n",
      "nan\n",
      "This file may be corrupt due to an interrupted download. Please remove it from your disk and try again.\n",
      "Elapsed time: 0.00 seconds\n",
      "Record: 348, started at 17/06/2022, 10:06:57\n",
      "Previous median lapse time: 0.00 seconds\n",
      "Processing J02530+168 star (TIC: 257870150)...\n",
      "filename: nan\n",
      "--- Some ERROR happened with record #348, J02530+168 star. Error=Not recognized as a supported data product:\n",
      "nan\n",
      "This file may be corrupt due to an interrupted download. Please remove it from your disk and try again.\n",
      "Elapsed time: 0.00 seconds\n",
      "Record: 349, started at 17/06/2022, 10:06:57\n",
      "Previous median lapse time: 0.00 seconds\n",
      "Processing J02519+224 star (TIC: 371422484)...\n",
      "filename: nan\n",
      "--- Some ERROR happened with record #349, J02519+224 star. Error=Not recognized as a supported data product:\n",
      "nan\n",
      "This file may be corrupt due to an interrupted download. Please remove it from your disk and try again.\n",
      "Elapsed time: 0.00 seconds\n",
      "Record: 350, started at 17/06/2022, 10:06:57\n",
      "Previous median lapse time: 0.00 seconds\n",
      "Processing J02489-145W star (TIC: 29960110)...\n",
      "filename: ../data/CARMENES_GTO_TESS_lc/lightcurves/J02489-145W/J02489-145W_TESS_TIC29960110_S04.fits\n"
     ]
    },
    {
     "name": "stderr",
     "output_type": "stream",
     "text": [
      "WARNING: The unit 'electron / s' could not be saved in native FITS format and cannot be recovered in reading. If pyyaml is installed, it can roundtrip within astropy by using QTable both to write and read back, though one has to enable the unit before reading. [astropy.io.fits.convenience]\n",
      "WARNING: Meta-data keyword BITPIX will be ignored since it conflicts with a FITS reserved keyword [astropy.io.fits.convenience]\n",
      "WARNING: Meta-data keyword NAXIS will be ignored since it conflicts with a FITS reserved keyword [astropy.io.fits.convenience]\n",
      "WARNING: VerifyWarning: Keyword name 'FLUX_ORIGIN' is greater than 8 characters or contains characters not allowed by the FITS standard; a HIERARCH card will be created. [astropy.io.fits.card]\n",
      "WARNING: VerifyWarning: Keyword name 'QUALITY_BITMASK' is greater than 8 characters or contains characters not allowed by the FITS standard; a HIERARCH card will be created. [astropy.io.fits.card]\n",
      "WARNING: VerifyWarning: Keyword name 'QUALITY_MASK' is greater than 8 characters or contains characters not allowed by the FITS standard; a HIERARCH card will be created. [astropy.io.fits.card]\n",
      "WARNING: Attribute `QUALITY_MASK` of type <class 'numpy.ndarray'> cannot be added to FITS Header - skipping [astropy.io.fits.convenience]\n",
      "WARNING: The unit 'electron2 / s2' could not be saved in native FITS format and cannot be recovered in reading. If pyyaml is installed, it can roundtrip within astropy by using QTable both to write and read back, though one has to enable the unit before reading. [astropy.io.fits.convenience]\n",
      "c:\\users\\ciroe\\gls.py:642: UserWarning: Matplotlib is currently using module://ipykernel.pylab.backend_inline, which is a non-GUI backend, so cannot show the figure.\n",
      "  fig.show()\n"
     ]
    },
    {
     "name": "stdout",
     "output_type": "stream",
     "text": [
      "Elapsed time: 407.50 seconds\n",
      "... SUCCESS.\n",
      "Record: 351, started at 17/06/2022, 10:13:45\n",
      "Previous median lapse time: 0.00 seconds\n",
      "Processing J02489-145E star (TIC: 29960109)...\n",
      "filename: ../data/CARMENES_GTO_TESS_lc/lightcurves/J02489-145E/J02489-145E_TESS_TIC29960109_S04.fits\n"
     ]
    },
    {
     "name": "stderr",
     "output_type": "stream",
     "text": [
      "WARNING: The unit 'electron / s' could not be saved in native FITS format and cannot be recovered in reading. If pyyaml is installed, it can roundtrip within astropy by using QTable both to write and read back, though one has to enable the unit before reading. [astropy.io.fits.convenience]\n",
      "WARNING: Meta-data keyword BITPIX will be ignored since it conflicts with a FITS reserved keyword [astropy.io.fits.convenience]\n",
      "WARNING: Meta-data keyword NAXIS will be ignored since it conflicts with a FITS reserved keyword [astropy.io.fits.convenience]\n",
      "WARNING: VerifyWarning: Keyword name 'FLUX_ORIGIN' is greater than 8 characters or contains characters not allowed by the FITS standard; a HIERARCH card will be created. [astropy.io.fits.card]\n",
      "WARNING: VerifyWarning: Keyword name 'QUALITY_BITMASK' is greater than 8 characters or contains characters not allowed by the FITS standard; a HIERARCH card will be created. [astropy.io.fits.card]\n",
      "WARNING: VerifyWarning: Keyword name 'QUALITY_MASK' is greater than 8 characters or contains characters not allowed by the FITS standard; a HIERARCH card will be created. [astropy.io.fits.card]\n",
      "WARNING: Attribute `QUALITY_MASK` of type <class 'numpy.ndarray'> cannot be added to FITS Header - skipping [astropy.io.fits.convenience]\n",
      "WARNING: The unit 'electron2 / s2' could not be saved in native FITS format and cannot be recovered in reading. If pyyaml is installed, it can roundtrip within astropy by using QTable both to write and read back, though one has to enable the unit before reading. [astropy.io.fits.convenience]\n",
      "c:\\users\\ciroe\\gls.py:642: UserWarning: Matplotlib is currently using module://ipykernel.pylab.backend_inline, which is a non-GUI backend, so cannot show the figure.\n",
      "  fig.show()\n"
     ]
    },
    {
     "name": "stdout",
     "output_type": "stream",
     "text": [
      "Elapsed time: 429.79 seconds\n",
      "... SUCCESS.\n",
      "Record: 353, started at 17/06/2022, 10:20:55\n",
      "Previous median lapse time: 0.00 seconds\n",
      "Processing J02465+164 star (TIC: 218088471)...\n",
      "filename: nan\n",
      "--- Some ERROR happened with record #353, J02465+164 star. Error=Not recognized as a supported data product:\n",
      "nan\n",
      "This file may be corrupt due to an interrupted download. Please remove it from your disk and try again.\n",
      "Elapsed time: 0.00 seconds\n",
      "Record: 356, started at 17/06/2022, 10:20:55\n",
      "Previous median lapse time: 0.00 seconds\n",
      "Processing J02358+202 star (TIC: 247042708)...\n",
      "filename: nan\n",
      "--- Some ERROR happened with record #356, J02358+202 star. Error=Not recognized as a supported data product:\n",
      "nan\n",
      "This file may be corrupt due to an interrupted download. Please remove it from your disk and try again.\n",
      "Elapsed time: 0.00 seconds\n",
      "Record: 359, started at 17/06/2022, 10:20:55\n",
      "Previous median lapse time: 0.00 seconds\n",
      "Processing J02164+135 star (TIC: 408587159)...\n",
      "filename: nan\n",
      "--- Some ERROR happened with record #359, J02164+135 star. Error=Not recognized as a supported data product:\n",
      "nan\n",
      "This file may be corrupt due to an interrupted download. Please remove it from your disk and try again.\n",
      "Elapsed time: 0.00 seconds\n",
      "Record: 363, started at 17/06/2022, 10:20:55\n",
      "Previous median lapse time: 0.00 seconds\n",
      "Processing J02022+103 star (TIC: 347509900)...\n",
      "filename: nan\n",
      "--- Some ERROR happened with record #363, J02022+103 star. Error=Not recognized as a supported data product:\n",
      "nan\n",
      "This file may be corrupt due to an interrupted download. Please remove it from your disk and try again.\n",
      "Elapsed time: 0.00 seconds\n",
      "Record: 365, started at 17/06/2022, 10:20:55\n",
      "Previous median lapse time: 0.00 seconds\n",
      "Processing J02002+130 star (TIC: 404715018)...\n",
      "filename: nan\n",
      "--- Some ERROR happened with record #365, J02002+130 star. Error=Not recognized as a supported data product:\n",
      "nan\n",
      "This file may be corrupt due to an interrupted download. Please remove it from your disk and try again.\n",
      "Elapsed time: 0.00 seconds\n",
      "Record: 368, started at 17/06/2022, 10:20:55\n",
      "Previous median lapse time: 0.00 seconds\n",
      "Processing J01433+043 star (TIC: 369534824)...\n",
      "filename: nan\n",
      "--- Some ERROR happened with record #368, J01433+043 star. Error=Not recognized as a supported data product:\n",
      "nan\n",
      "This file may be corrupt due to an interrupted download. Please remove it from your disk and try again.\n",
      "Elapsed time: 0.00 seconds\n",
      "Record: 373, started at 17/06/2022, 10:20:55\n",
      "Previous median lapse time: 0.00 seconds\n",
      "Processing J01056+284 star (TIC: 15615674)...\n",
      "filename: nan\n",
      "--- Some ERROR happened with record #373, J01056+284 star. Error=Not recognized as a supported data product:\n",
      "nan\n",
      "This file may be corrupt due to an interrupted download. Please remove it from your disk and try again.\n",
      "Elapsed time: 0.00 seconds\n",
      "Record: 384, started at 17/06/2022, 10:20:55\n",
      "Previous median lapse time: 0.00 seconds\n",
      "Processing J00184+440 star (TIC: 440109718)...\n",
      "filename: nan\n",
      "--- Some ERROR happened with record #384, J00184+440 star. Error=Not recognized as a supported data product:\n",
      "nan\n",
      "This file may be corrupt due to an interrupted download. Please remove it from your disk and try again.\n",
      "Elapsed time: 0.00 seconds\n",
      "Record: 386, started at 17/06/2022, 10:20:55\n",
      "Previous median lapse time: 0.00 seconds\n",
      "Processing J00162+198W star (TIC: 150899679)...\n",
      "filename: nan\n",
      "--- Some ERROR happened with record #386, J00162+198W star. Error=Not recognized as a supported data product:\n",
      "nan\n",
      "This file may be corrupt due to an interrupted download. Please remove it from your disk and try again.\n",
      "Elapsed time: 0.00 seconds\n",
      "Record: 387, started at 17/06/2022, 10:20:55\n",
      "Previous median lapse time: 0.00 seconds\n",
      "Processing J00162+198E star (TIC: 150899677)...\n",
      "filename: nan\n",
      "--- Some ERROR happened with record #387, J00162+198E star. Error=Not recognized as a supported data product:\n",
      "nan\n",
      "This file may be corrupt due to an interrupted download. Please remove it from your disk and try again.\n",
      "Elapsed time: 0.00 seconds\n",
      "Record: 388, started at 17/06/2022, 10:20:55\n",
      "Previous median lapse time: 0.00 seconds\n",
      "Processing J00067-075 star (TIC: 176287658)...\n",
      "filename: nan\n",
      "--- Some ERROR happened with record #388, J00067-075 star. Error=Not recognized as a supported data product:\n",
      "nan\n",
      "This file may be corrupt due to an interrupted download. Please remove it from your disk and try again.\n",
      "Elapsed time: 0.00 seconds\n"
     ]
    }
   ],
   "source": [
    "# Batch processing:\n",
    "lapse_list = []\n",
    "median_lapse = None\n",
    "previous_objects = ref_gto['Karmn'].to_list()\n",
    "tess_columns = [c for c in list(gto.columns) if '_TESS' in c]\n",
    "#for i in range(0, 3): # TEST\n",
    "#for i in range(0, 72): # Record 72 took too long to complete.\n",
    "#for i in range(73, 176): # The final records were taking much longer to complete.\n",
    "#for i in range(176, 246): # Aborted at 246 for convenience\n",
    "#for i in range(246, 250): # Record 250 took too long to complete.\n",
    "#for i in range(251, 300): # Record 250 took too long to complete.\n",
    "#for i in range(300, len(gto)):\n",
    "for i in range(0, len(gto)):\n",
    "#for i in range(385, 386): # TEST\n",
    "    start_time = time.time()\n",
    "    # Names:\n",
    "    karmn = gto.loc[i, 'Karmn'] # KARMENES name\n",
    "    commn = gto.loc[i, 'Name'] # Common name\n",
    "    tic_id = str(gto.loc[i, 'TIC_id']) # TESS TIC identifier\n",
    "    # Check if this record already has correct values:\n",
    "    if gto.loc[i, 'valid_PG_TESS'] == 1:\n",
    "        # Skip the already calculated record:\n",
    "        continue # Go to the next element in the loop\n",
    "    # Check if the TESS curves have been calculated previously:\n",
    "    if karmn in previous_objects and ref_gto[ref_gto['Karmn']==karmn]['valid_PG_TESS'].values == 1:\n",
    "        # Just copy the values (periodogram files and figures should already be in the relevant folders):\n",
    "        #print(\"Record: %d already calculated in previous objects, copying values...\" %i)\n",
    "\n",
    "        for col in tess_columns:\n",
    "            gto.loc[i, col] = ref_gto.loc[ref_gto['Karmn']==karmn, col].values\n",
    "        #gto.loc[i, tess_columns] = ref_gto.loc[ref_gto['Karmn']==karmn, tess_columns].values\n",
    "\n",
    "        continue # Go to the next element in the loop\n",
    "\n",
    "    print(\"Record: %d, started at %s\"\n",
    "          %(i, time.strftime('%d/%m/%Y, %H:%M:%S', time.localtime(start_time))))\n",
    "    if median_lapse is None:\n",
    "        print(\"Previous median lapse time: %s\" %median_lapse)\n",
    "    else:\n",
    "        print(\"Previous median lapse time: %.2f seconds\" %median_lapse)\n",
    "    print(\"Processing %s star (TIC: %s)...\" %(karmn, tic_id))\n",
    "    try:\n",
    "        # LOAD LC FILE:\n",
    "        lc_file = gto.loc[i, 'lc_file']\n",
    "        print(\"filename: %s\" %lc_file)\n",
    "        lc_lk = tess_lc_load(lc_file)\n",
    "        \n",
    "        # GENERATE PERIODOGRAM:\n",
    "        gls = Gls((lc_lk['time'].value, lc_lk['flux'].value, lc_lk['flux_err'].value),\n",
    "              fbeg=FBEG, fend=FEND, Pbeg=PBEG, Pend=PEND, ofac=OFAC, hifac=HIFAC, freq=FREQ,\n",
    "              norm=NORM, ls=LS, fast=FAST, verbose=VERBOSE)\n",
    "        \n",
    "        # GENERATE THE FITS FILE:\n",
    "        # Prepare the fits primary HDU (only header):\n",
    "        primary_header = fits.Header()\n",
    "        primary_header['OBJECT'] = (karmn, \"KARMENES target name\")\n",
    "        primary_header['NAME'] = (commn, \"Object common name\")\n",
    "        primary_header['TIC'] = (tic_id, \"Object TESS identifier\")\n",
    "        primary_header['RA_J2000'] = (\"00:05:10.89\", \"Object right ascension (J2000)\")\n",
    "        primary_header['DE_J2000'] = (\"+45:47:11.6\", \"Object declination (J2000)\")\n",
    "        primary_header['SPTYPE'] = (\"M1.0 V\", \"Spectral type\")\n",
    "        primary_header['TEFF_K'] = (3773, \"Effective temperature in Kelvin\")\n",
    "        primary_header['LOGG'] = (5.07, \"Logarithm of surface gravity\")\n",
    "        primary_header['FEH'] = (-0.04, \"Metallicity\")\n",
    "        primary_header['L_LSUN'] = (0.0436229, \"Luminosity in Solar luminosities\")\n",
    "        primary_header['R_RSUN'] = (0.48881, \"Radius in Solar radii\")\n",
    "        primary_header['M_MSUN'] = (0.4918, \"Mass in Solar masses\")\n",
    "        primary_header['D_PC'] = (11.50352803, \"Distance in parsec\")\n",
    "        hdu_primary = fits.PrimaryHDU(header=primary_header)\n",
    "\n",
    "        # Prepare the LC HDU:\n",
    "        hdu_lc = fits.table_to_hdu(QTable(lc_lk.to_table()))\n",
    "        hdu_lc.name = \"TESS_LC\"\n",
    "        psample = lc_infer_sampling(lc_lk).value\n",
    "        fsample = 1.0 / psample\n",
    "        fnyq = 2.0 * fsample\n",
    "        freq_units = u.d ** (-1)\n",
    "        hdu_lc.header['OBJECT'] = (karmn, \"KARMENES target name\")\n",
    "        hdu_lc.header['PUNIT'] = u.d.to_string(format='fits')\n",
    "        hdu_lc.header['FUNIT'] = freq_units.to_string(format='fits')\n",
    "        hdu_lc.header['RVPOINTS'] = (gls.N, \"Number of points in the RV curve\")\n",
    "        hdu_lc.header['AVGFLUX'] = (gls._Y, \"Average flux of RV curve\")\n",
    "        hdu_lc.header['RMSFLUX'] = (gls._YY, \"Flux RMS of RV curve\")\n",
    "        hdu_lc.header['PSAMPLE'] = (psample, \"Inferred cadence in RV curve\")\n",
    "        hdu_lc.header['FSAMPLE'] = (fsample, \"Inferred sampling frequency in RV curve\")\n",
    "        hdu_lc.header['FNYQUIST'] = (fnyq, \"Calculated Nyquist frequency value\")\n",
    "                \n",
    "        # Prepare the PG HDU:\n",
    "        hdu_pg = fits.table_to_hdu(\n",
    "            QTable(data=[gls.freq, gls.power], names=['freq', 'power'], \n",
    "                   units=[1.0 / u.d, (u.electron / u.s) ** 2]))\n",
    "        hdu_pg.name = \"GLS_PG\"\n",
    "        fpoints = len(gls.f)\n",
    "        fres = (gls.fend - gls.fbeg) / (fpoints - 1)\n",
    "        hdu_pg.header['OBJECT'] = (karmn, \"KARMENES target name\")\n",
    "        hdu_pg.header['FUNIT'] = (freq_units.to_string(format='fits'), \"Unit for frequencies\")\n",
    "        hdu_pg.header['PUNIT'] = (u.d.to_string(format='fits'), \"Unit for periods\")\n",
    "        hdu_pg.header['PK_FREQ'] = (gls.best['f'], \"Frequency of the peak in periodogram\")\n",
    "        hdu_pg.header['PK_POW'] = (gls.pmax, \"Power of the peak in periodogram\")\n",
    "        hdu_pg.header['PK_SNR'] = (gls.best['amp'] / gls.rms, \"SNR of the peak in periodogram\")\n",
    "        hdu_pg.header['PK_FAP'] = (gls.FAP(Pn=None), \"FAP of the peak in periodogram\")\n",
    "        hdu_pg.header['RES_RMS'] = (gls.rms, \"RMS of residuals in periodogram\")\n",
    "        hdu_pg.header['FSAMPLE'] = (fsample, \"Inferred sampling frequency in TESS curve\")\n",
    "        hdu_pg.header['FNYQUIST'] = (fnyq, \"Calculated Nyquist frequency value\")\n",
    "        hdu_pg.header['FPOINTS'] = (fpoints, \"Number of points in periodogram\")\n",
    "        hdu_pg.header['FBEG'] = (gls.fbeg, \"Start frequency in periodogram\")\n",
    "        hdu_pg.header['FEND'] = (gls.fend, \"End frequency in periodogram\")\n",
    "        hdu_pg.header['FRES'] = (fres, \"Frequency resolution in periodogram\")\n",
    "        hdu_pg.header['F'] = (gls.best['f'], \"Peak best estimate: frequency\")\n",
    "        hdu_pg.header['E_F'] = (gls.best['e_f'], \"Peak best estimate: frequency error\")\n",
    "        hdu_pg.header['P'] = (gls.best['P'], \"Peak best estimate: period\")\n",
    "        hdu_pg.header['E_P'] = (gls.best['e_P'], \"Peak best estimate: period error\")\n",
    "        hdu_pg.header['A'] = (gls.best['amp'], \"Peak best estimate: amplitude\")\n",
    "        hdu_pg.header['E_A'] = (gls.best['e_amp'], \"Peak best estimate: amplitude error\")\n",
    "        hdu_pg.header['PH'] = (gls.best['ph'], \"Peak best estimate: phase\")\n",
    "        hdu_pg.header['E_PH'] = (gls.best['e_ph'], \"Peak best estimate: phase error\")\n",
    "        hdu_pg.header['T0'] = (gls.best['T0'], \"Peak best estimate: frequency\")\n",
    "        hdu_pg.header['E_T0'] = (gls.best['e_T0'], \"Peak best estimate: frequency error\")\n",
    "        hdu_pg.header['OFF'] = (gls.best['offset'], \"Peak best estimate: offset\")\n",
    "        hdu_pg.header['E_OFF'] = (gls.best['e_offset'], \"Peak best estimate: offset error\")\n",
    "        hdu_pg.header['OFAC'] = (gls.ofac, \"Setup: oversampling factor\")\n",
    "        hdu_pg.header['HIFAC'] = (gls.ofac, \"Setup: maximum frequency factor\")\n",
    "        hdu_pg.header['NORM'] = (gls.norm, \"Setup: normalization type\")\n",
    "        hdu_pg.header['LS'] = (gls.ls, \"Setup: conventional Lomb-Scargle calculation\")\n",
    "        hdu_pg.header['FAST'] = (gls.fast, \"Setup: fast evaluation, recursive trigonometric\")\n",
    "        \n",
    "        # Create and save the fits file:\n",
    "        fits_filename = OUT_PROCESSED_FOLDER + karmn + \"_TESS_PG.fits\"\n",
    "        hdul = fits.HDUList([hdu_primary, hdu_lc, hdu_pg])\n",
    "        hdul.writeto(fits_filename, overwrite=True)\n",
    "        \n",
    "        # Delete all the HDUs:\n",
    "        del hdul\n",
    "        del hdu_primary\n",
    "        del hdu_lc\n",
    "        del hdu_pg\n",
    "\n",
    "        # FILL IN THE DATA IN THE GTO TABLE:\n",
    "        gto.loc[i, 'n_TESS'] = gls.N\n",
    "        gto.loc[i, 'Ps_TESS'] = psample\n",
    "        gto.loc[i, 'fs_TESS'] = fsample\n",
    "        gto.loc[i, 'wmean_TESS'] = gls._Y\n",
    "        gto.loc[i, 'wrms_TESS'] = gls._YY\n",
    "        gto.loc[i, 'info_PG_TESS'] = gls.info(stdout=False)\n",
    "        gto.loc[i, 'maxP_PG_TESS'] = gls.power.max()\n",
    "        gto.loc[i, 'maxSNR_PG_TESS'] = gls.best['amp'] / gls.rms\n",
    "        gto.loc[i, 'rms_PG_TESS'] = gls.rms\n",
    "        gto.loc[i, 'f_PG_TESS'] = gls.best['f']\n",
    "        gto.loc[i, 'e_f_PG_TESS'] = gls.best['e_f']\n",
    "        gto.loc[i, 'Pd_PG_TESS'] = gls.best['P']\n",
    "        gto.loc[i, 'e_Pd_PG_TESS'] = gls.best['e_P']\n",
    "        gto.loc[i, 'Ph_PG_TESS'] = 24.0 * gls.best['P']\n",
    "        gto.loc[i, 'e_Ph_PG_TESS'] = 24.0 * gls.best['e_P']\n",
    "        gto.loc[i, 'Pm_PG_TESS'] = 24.0 * 60.0 * gls.best['P']\n",
    "        gto.loc[i, 'e_Pm_PG_TESS'] = 24.0 * 60.0 * gls.best['e_P']\n",
    "        gto.loc[i, 'A_PG_TESS'] = gls.best['amp']\n",
    "        gto.loc[i, 'e_A_PG_TESS'] = gls.best['e_amp']\n",
    "        gto.loc[i, 'ph_PG_TESS'] = gls.best['ph']\n",
    "        gto.loc[i, 'e_ph_PG_TESS'] = gls.best['e_ph']\n",
    "        gto.loc[i, 'T0_PG_TESS'] = gls.best['T0']\n",
    "        gto.loc[i, 'e_T0_PG_TESS'] = gls.best['e_T0']\n",
    "        gto.loc[i, 'offset_PG_TESS'] = gls.best['offset']\n",
    "        gto.loc[i, 'e_offset_PG_TESS'] = gls.best['e_offset']\n",
    "        gto.loc[i, 'FAP_PG_TESS'] = gls.FAP(Pn=None)\n",
    "\n",
    "        # GENERATE THE FIGURE:\n",
    "        fig = gls.plot(block=False, period=False,\n",
    "                       fap=FAP_LEVELS_PLOT, gls=True, data=True, residuals=True)\n",
    "        figure_title = \"TESS LC: %s (TIC %s), P=%.4f [min], FAP=%.4f%%\" \\\n",
    "            %(karmn, tic_id, gto.loc[i, 'Pm_PG_TESS'], 100.0 * gto.loc[i, 'FAP_PG_TESS'])\n",
    "        fig.suptitle(figure_title, fontdict = {'fontsize' : 36})\n",
    "        fig.tight_layout()\n",
    "        # Save the figure to disk:\n",
    "        fig_file = OUT_IMG_FOLDER + karmn + \"_TESS_PG.png\"\n",
    "        fig.savefig(fig_file)\n",
    "        plt.close() # Prevent the figure from showing.\n",
    "\n",
    "        # SET THE RECORD CALCULATION AS VALID AND STORE THE REULTING FILENAMES\n",
    "        gto.loc[i, 'valid_PG_TESS'] = 1\n",
    "        gto.loc[i, 'error_PG_TESS'] = \"\"\n",
    "        gto.loc[i, 'fits_file_TESS'] = fits_filename\n",
    "        gto.loc[i, 'fig_file_TESS'] = fig_file\n",
    "\n",
    "        # UPDATE THE AVERAGE RECORD PROCESSING TIME:\n",
    "        lapse = time.time() - start_time\n",
    "        lapse_list.append(lapse)\n",
    "        median_lapse = np.nanmedian(lapse_list)\n",
    "        gto.loc[i, 'elapsed_time_PG_TESS'] = lapse\n",
    "        \n",
    "        # SAVE THE UPDATED GTO TABLE TO DISK:\n",
    "        gto.to_csv(GTO_FILE, sep=',', decimal='.', index=False)\n",
    "        \n",
    "        # Report successful execution:\n",
    "        print(\"Elapsed time: %.2f seconds\" %lapse)\n",
    "        print(\"... SUCCESS.\")\n",
    "        \n",
    "    except Exception as e:\n",
    "        # Some error happened, establish the record as not valid and record the error:\n",
    "        error = \"--- Some ERROR happened with record #%d, %s star. Error=%s\" %(i, karmn, e)\n",
    "        print(error)\n",
    "        gto.loc[i, 'valid_PG_TESS'] = 0\n",
    "        gto.loc[i, 'error_PG_TESS'] = e\n",
    "        \n",
    "        # Try to update the record, and save the file:\n",
    "        try:\n",
    "            # UPDATE THE AVERAGE RECORD PROCESSING TIME:\n",
    "            lapse = time.time() - start_time\n",
    "            lapse_list.append(lapse)\n",
    "            median_lapse = np.nanmedian(lapse_list)\n",
    "            gto.loc[i, 'elapsed_time_PG_TESS'] = lapse\n",
    "            print(\"Elapsed time: %.2f seconds\" %lapse)\n",
    "\n",
    "            # SAVE THE UPDATED GTO TABLE TO DISK:\n",
    "            gto.to_csv(GTO_FILE, sep=',', decimal='.', index=False)\n",
    "        except Exception as e2:\n",
    "            error_2 = \"--- Additional ERROR happened with record #%d, %s star. Error=%s\" %(i, karmn, str(e2))\n",
    "            print(error)\n",
    "            gto.loc[i, 'error_PG_TESS'] = gto.loc[i, 'error_PG_TESS'] + \"/\" + str(e2)\n",
    "\n"
   ]
  },
  {
   "cell_type": "raw",
   "id": "3cb8b2aa",
   "metadata": {
    "ExecuteTime": {
     "end_time": "2022-03-27T08:49:29.221142Z",
     "start_time": "2022-03-27T08:49:29.201196Z"
    }
   },
   "source": [
    "gto.loc[0:72, ['lc_file', 'error_PG_TESS']]"
   ]
  },
  {
   "cell_type": "raw",
   "id": "e799507d",
   "metadata": {
    "ExecuteTime": {
     "end_time": "2022-03-27T08:50:59.014733Z",
     "start_time": "2022-03-27T08:50:58.999776Z"
    }
   },
   "source": [
    "gto.loc[gto['lc_file'] == '<ambiguous>', ['Karmn']]"
   ]
  },
  {
   "cell_type": "markdown",
   "id": "6dee85cb",
   "metadata": {},
   "source": [
    "## Review a given file"
   ]
  },
  {
   "cell_type": "code",
   "execution_count": 14,
   "id": "fc313c4a",
   "metadata": {
    "ExecuteTime": {
     "end_time": "2022-06-17T10:29:45.118760Z",
     "start_time": "2022-06-17T10:29:45.096819Z"
    }
   },
   "outputs": [],
   "source": [
    "object_name = \"J23548+385\""
   ]
  },
  {
   "cell_type": "code",
   "execution_count": 15,
   "id": "b38f1025",
   "metadata": {
    "ExecuteTime": {
     "end_time": "2022-06-17T10:29:45.924403Z",
     "start_time": "2022-06-17T10:29:45.893486Z"
    }
   },
   "outputs": [
    {
     "data": {
      "text/plain": [
       "[<astropy.io.fits.hdu.image.PrimaryHDU object at 0x000001755C4FB940>, <astropy.io.fits.hdu.table.BinTableHDU object at 0x000001755C474250>, <astropy.io.fits.hdu.table.BinTableHDU object at 0x0000017556396640>]"
      ]
     },
     "execution_count": 15,
     "metadata": {},
     "output_type": "execute_result"
    }
   ],
   "source": [
    "read_hdul = fits.open(OUT_PROCESSED_FOLDER + object_name + \"_TESS_PG.fits\",\n",
    "                      mode='update', memmap=False)\n",
    "read_hdul"
   ]
  },
  {
   "cell_type": "code",
   "execution_count": 16,
   "id": "af53d9ed",
   "metadata": {
    "ExecuteTime": {
     "end_time": "2022-06-17T10:29:46.793861Z",
     "start_time": "2022-06-17T10:29:46.780895Z"
    }
   },
   "outputs": [
    {
     "name": "stdout",
     "output_type": "stream",
     "text": [
      "Filename: ../data/CARMENES_GTO_TESS_PGs/J23548+385_TESS_PG.fits\n",
      "No.    Name      Ver    Type      Cards   Dimensions   Format\n",
      "  0  PRIMARY       1 PrimaryHDU      17   ()      \n",
      "  1  TESS_LC       1 BinTableHDU    217   12878R x 24C   [2D, E, E, E, J, D, D, E, E, E, E, E, E, J, D, E, D, E, D, E, D, E, E, E]   \n",
      "  2  GLS_PG        1 BinTableHDU     45   1000001R x 2C   [D, D]   \n"
     ]
    }
   ],
   "source": [
    "read_hdul.info()"
   ]
  },
  {
   "cell_type": "markdown",
   "id": "b64bfc19",
   "metadata": {
    "ExecuteTime": {
     "end_time": "2022-03-13T10:44:13.485181Z",
     "start_time": "2022-03-13T10:44:13.467228Z"
    }
   },
   "source": [
    "### Retrieve basic information"
   ]
  },
  {
   "cell_type": "code",
   "execution_count": 17,
   "id": "bf8ec911",
   "metadata": {
    "ExecuteTime": {
     "end_time": "2022-06-17T10:29:49.645012Z",
     "start_time": "2022-06-17T10:29:49.636035Z"
    }
   },
   "outputs": [
    {
     "data": {
      "text/plain": [
       "SIMPLE  =                    T / conforms to FITS standard                      \n",
       "BITPIX  =                    8 / array data type                                \n",
       "NAXIS   =                    0 / number of array dimensions                     \n",
       "EXTEND  =                    T                                                  \n",
       "OBJECT  = 'J23548+385'         / KARMENES target name                           \n",
       "NAME    = 'RX J2354.8+3831'    / Object common name                             \n",
       "TIC     = '291689873'          / Object TESS identifier                         \n",
       "RA_J2000= '00:05:10.89'        / Object right ascension (J2000)                 \n",
       "DE_J2000= '+45:47:11.6'        / Object declination (J2000)                     \n",
       "SPTYPE  = 'M1.0 V  '           / Spectral type                                  \n",
       "TEFF_K  =                 3773 / Effective temperature in Kelvin                \n",
       "LOGG    =                 5.07 / Logarithm of surface gravity                   \n",
       "FEH     =                -0.04 / Metallicity                                    \n",
       "L_LSUN  =            0.0436229 / Luminosity in Solar luminosities               \n",
       "R_RSUN  =              0.48881 / Radius in Solar radii                          \n",
       "M_MSUN  =               0.4918 / Mass in Solar masses                           \n",
       "D_PC    =          11.50352803 / Distance in parsec                             "
      ]
     },
     "execution_count": 17,
     "metadata": {},
     "output_type": "execute_result"
    }
   ],
   "source": [
    "read_hdul['PRIMARY'].header"
   ]
  },
  {
   "cell_type": "markdown",
   "id": "faa3d359",
   "metadata": {},
   "source": [
    "### Retrieve time series curve information"
   ]
  },
  {
   "cell_type": "code",
   "execution_count": 18,
   "id": "3b196156",
   "metadata": {
    "ExecuteTime": {
     "end_time": "2022-06-17T10:29:50.967586Z",
     "start_time": "2022-06-17T10:29:50.948637Z"
    }
   },
   "outputs": [
    {
     "data": {
      "text/plain": [
       "<astropy.io.fits.hdu.table.BinTableHDU at 0x1755c474250>"
      ]
     },
     "execution_count": 18,
     "metadata": {},
     "output_type": "execute_result"
    }
   ],
   "source": [
    "read_hdul['TESS_LC']"
   ]
  },
  {
   "cell_type": "code",
   "execution_count": 19,
   "id": "ad8b26e9",
   "metadata": {
    "ExecuteTime": {
     "end_time": "2022-06-17T10:29:51.602939Z",
     "start_time": "2022-06-17T10:29:51.588976Z"
    },
    "scrolled": false
   },
   "outputs": [
    {
     "data": {
      "text/plain": [
       "XTENSION= 'BINTABLE'           / binary table extension                         \n",
       "BITPIX  =                    8 / array data type                                \n",
       "NAXIS   =                    2 / number of array dimensions                     \n",
       "NAXIS1  =                  132 / length of dimension 1                          \n",
       "NAXIS2  =                12878 / length of dimension 2                          \n",
       "PCOUNT  =                    0 / number of group parameters                     \n",
       "GCOUNT  =                    1 / number of groups                               \n",
       "TFIELDS =                   24 / number of table fields                         \n",
       "TIMESYS = 'TDB     '           / Default time scale                             \n",
       "JDREF   =                  0.0 / Time columns are jd = jd1 + jd2                \n",
       "TREFPOS = 'TOPOCENTER'         / Time reference position                        \n",
       "TTYPE1  = 'time    '                                                            \n",
       "TFORM1  = '2D      '                                                            \n",
       "TUNIT1  = 'd       '                                                            \n",
       "TDIM1   = '(2)     '                                                            \n",
       "TCTYP1  = 'TDB     '                                                            \n",
       "TCUNI1  = 'd       '                                                            \n",
       "TTYPE2  = 'flux    '                                                            \n",
       "TFORM2  = 'E       '                                                            \n",
       "TDISP2  = 'E14.7   '                                                            \n",
       "TTYPE3  = 'flux_err'                                                            \n",
       "TFORM3  = 'E       '                                                            \n",
       "TDISP3  = 'E14.7   '                                                            \n",
       "TTYPE4  = 'timecorr'                                                            \n",
       "TFORM4  = 'E       '                                                            \n",
       "TUNIT4  = 'd       '                                                            \n",
       "TDISP4  = 'E14.7   '                                                            \n",
       "TTYPE5  = 'cadenceno'                                                           \n",
       "TFORM5  = 'J       '                                                            \n",
       "TDISP5  = 'I10     '                                                            \n",
       "TTYPE6  = 'centroid_col'                                                        \n",
       "TFORM6  = 'D       '                                                            \n",
       "TUNIT6  = 'pix     '                                                            \n",
       "TDISP6  = 'F10.5   '                                                            \n",
       "TTYPE7  = 'centroid_row'                                                        \n",
       "TFORM7  = 'D       '                                                            \n",
       "TUNIT7  = 'pix     '                                                            \n",
       "TDISP7  = 'F10.5   '                                                            \n",
       "TTYPE8  = 'sap_flux'                                                            \n",
       "TFORM8  = 'E       '                                                            \n",
       "TDISP8  = 'E14.7   '                                                            \n",
       "TTYPE9  = 'sap_flux_err'                                                        \n",
       "TFORM9  = 'E       '                                                            \n",
       "TDISP9  = 'E14.7   '                                                            \n",
       "TTYPE10 = 'sap_bkg '                                                            \n",
       "TFORM10 = 'E       '                                                            \n",
       "TDISP10 = 'E14.7   '                                                            \n",
       "TTYPE11 = 'sap_bkg_err'                                                         \n",
       "TFORM11 = 'E       '                                                            \n",
       "TDISP11 = 'E14.7   '                                                            \n",
       "TTYPE12 = 'pdcsap_flux'                                                         \n",
       "TFORM12 = 'E       '                                                            \n",
       "TDISP12 = 'E14.7   '                                                            \n",
       "TTYPE13 = 'pdcsap_flux_err'                                                     \n",
       "TFORM13 = 'E       '                                                            \n",
       "TDISP13 = 'E14.7   '                                                            \n",
       "TTYPE14 = 'quality '                                                            \n",
       "TFORM14 = 'J       '                                                            \n",
       "TDISP14 = 'B16     '                                                            \n",
       "TTYPE15 = 'psf_centr1'                                                          \n",
       "TFORM15 = 'D       '                                                            \n",
       "TUNIT15 = 'pix     '                                                            \n",
       "TDISP15 = 'F10.5   '                                                            \n",
       "TTYPE16 = 'psf_centr1_err'                                                      \n",
       "TFORM16 = 'E       '                                                            \n",
       "TUNIT16 = 'pix     '                                                            \n",
       "TDISP16 = 'E14.7   '                                                            \n",
       "TTYPE17 = 'psf_centr2'                                                          \n",
       "TFORM17 = 'D       '                                                            \n",
       "TUNIT17 = 'pix     '                                                            \n",
       "TDISP17 = 'F10.5   '                                                            \n",
       "TTYPE18 = 'psf_centr2_err'                                                      \n",
       "TFORM18 = 'E       '                                                            \n",
       "TUNIT18 = 'pix     '                                                            \n",
       "TDISP18 = 'E14.7   '                                                            \n",
       "TTYPE19 = 'mom_centr1'                                                          \n",
       "TFORM19 = 'D       '                                                            \n",
       "TUNIT19 = 'pix     '                                                            \n",
       "TDISP19 = 'F10.5   '                                                            \n",
       "TTYPE20 = 'mom_centr1_err'                                                      \n",
       "TFORM20 = 'E       '                                                            \n",
       "TUNIT20 = 'pix     '                                                            \n",
       "TDISP20 = 'E14.7   '                                                            \n",
       "TTYPE21 = 'mom_centr2'                                                          \n",
       "TFORM21 = 'D       '                                                            \n",
       "TUNIT21 = 'pix     '                                                            \n",
       "TDISP21 = 'F10.5   '                                                            \n",
       "TTYPE22 = 'mom_centr2_err'                                                      \n",
       "TFORM22 = 'E       '                                                            \n",
       "TUNIT22 = 'pix     '                                                            \n",
       "TDISP22 = 'E14.7   '                                                            \n",
       "TTYPE23 = 'pos_corr1'                                                           \n",
       "TFORM23 = 'E       '                                                            \n",
       "TUNIT23 = 'pix     '                                                            \n",
       "TDISP23 = 'E14.7   '                                                            \n",
       "TTYPE24 = 'pos_corr2'                                                           \n",
       "TFORM24 = 'E       '                                                            \n",
       "TUNIT24 = 'pix     '                                                            \n",
       "TDISP24 = 'E14.7   '                                                            \n",
       "INHERIT =                    T                                                  \n",
       "EXTNAME = 'TESS_LC '                                                            \n",
       "EXTVER  =                    1                                                  \n",
       "SIMDATA =                    F                                                  \n",
       "TELESCOP= 'TESS    '                                                            \n",
       "INSTRUME= 'TESS Photometer'                                                     \n",
       "OBJECT  = 'J23548+385'         / KARMENES target name                           \n",
       "TICID   =            291689873                                                  \n",
       "RADESYS = 'ICRS    '                                                            \n",
       "RA_OBJ  =     358.714405881017                                                  \n",
       "DEC_OBJ =     38.5267223811979                                                  \n",
       "EQUINOX =               2000.0                                                  \n",
       "EXPOSURE=      19.795277102165                                                  \n",
       "TIMEREF = 'SOLARSYSTEM'                                                         \n",
       "TASSIGN = 'SPACECRAFT'                                                          \n",
       "BJDREFI =              2457000                                                  \n",
       "BJDREFF =                  0.0                                                  \n",
       "TIMEUNIT= 'd       '                                                            \n",
       "TELAPSE =      24.994036745158                                                  \n",
       "LIVETIME=    19.79527710216508                                                  \n",
       "TSTART  =    1764.688450244272                                                  \n",
       "TSTOP   =    1789.682486757948                                                  \n",
       "DATE-OBS= '2019-10-08T04:30:12.917'                                             \n",
       "DATE-END= '2019-11-02T04:21:37.672'                                             \n",
       "DEADC   =                0.792                                                  \n",
       "TIMEPIXR=                  0.5                                                  \n",
       "TIERRELA=             1.16E-05                                                  \n",
       "INT_TIME=                 1.98                                                  \n",
       "READTIME=                 0.02                                                  \n",
       "FRAMETIM=                  2.0                                                  \n",
       "NUM_FRM =                   60                                                  \n",
       "TIMEDEL = 0.001388888888888889                                                  \n",
       "BACKAPP =                    T                                                  \n",
       "DEADAPP =                    T                                                  \n",
       "VIGNAPP =                    T                                                  \n",
       "GAINA   =     5.28000020980835                                                  \n",
       "GAINB   =    5.260000228881836                                                  \n",
       "GAINC   =                 5.25                                                  \n",
       "GAIND   =    5.210000038146973                                                  \n",
       "READNOIA=    9.873600006103516                                                  \n",
       "READNOIB=     7.62700080871582                                                  \n",
       "READNOIC=     7.71750020980835                                                  \n",
       "READNOID=     9.89900016784668                                                  \n",
       "NREADOUT=                   48                                                  \n",
       "FXDOFF  =               209700                                                  \n",
       "CDPP0_5 =         763.78967285                                                  \n",
       "CDPP1_0 =         706.14562988                                                  \n",
       "CDPP2_0 =         707.93939209                                                  \n",
       "CROWDSAP=           0.98093069                                                  \n",
       "FLFRCSAP=           0.90509367                                                  \n",
       "NSPSDDET=                    0                                                  \n",
       "NSPSDCOR=                    0                                                  \n",
       "PDCVAR  =    13.75225659057207                                                  \n",
       "PDCMETHD= 'MAP     '                                                            \n",
       "NUMBAND =                    1                                                  \n",
       "FITTYPE1= 'prior   '                                                            \n",
       "PR_GOOD1=    0.999993622303009                                                  \n",
       "PR_WGHT1=     217.627685546875                                                  \n",
       "PDC_TOT =   0.8131865262985229                                                  \n",
       "PDC_TOTP=    7.549610137939453                                                  \n",
       "PDC_COR =   0.5627501606941223                                                  \n",
       "PDC_CORP=    4.018634796142578                                                  \n",
       "PDC_VAR =                                                                       \n",
       "PDC_VARP=                                                                       \n",
       "PDC_NOI =   0.9610631465911865                                                  \n",
       "PDC_NOIP=    10.81311130523682                                                  \n",
       "PDC_EPT =                                                                       \n",
       "PDC_EPTP=                                                                       \n",
       "TMOFST23=    1.539999961853027                                                  \n",
       "MEANBLCA=                 6812                                                  \n",
       "MEANBLCB=                 6724                                                  \n",
       "MEANBLCC=                 6753                                                  \n",
       "MEANBLCD=                 6433                                                  \n",
       "SIMPLE  =                    T                                                  \n",
       "EXTEND  =                    T                                                  \n",
       "NEXTEND =                    2                                                  \n",
       "ORIGIN  = 'NASA/Ames'                                                           \n",
       "DATE    = '2020-04-11'                                                          \n",
       "CREATOR = '21226 LightCurveExporterPipelineModule'                              \n",
       "PROCVER = 'spoc-4.0.28-20200407'                                                \n",
       "FILEVER = '1.0     '                                                            \n",
       "TIMVERSN= 'OGIP/93-003'                                                         \n",
       "DATA_REL=                   30                                                  \n",
       "SECTOR  =                   17                                                  \n",
       "CAMERA  =                    2                                                  \n",
       "CCD     =                    3                                                  \n",
       "PXTABLE =                  176                                                  \n",
       "PMRA    =              -131.57                                                  \n",
       "PMDEC   =             -86.1095                                                  \n",
       "PMTOTAL =         157.24347646                                                  \n",
       "TESSMAG =          10.58430004                                                  \n",
       "TEFF    =               3269.0                                                  \n",
       "LOGG    =           4.90846014                                                  \n",
       "MH      =                                                                       \n",
       "RADIUS  =           0.31598601                                                  \n",
       "TICVER  =                    8                                                  \n",
       "CRMITEN =                    T                                                  \n",
       "CRBLKSZ =                   10                                                  \n",
       "CRSPOC  =                    F                                                  \n",
       "LABEL   = 'TIC 291689873'                                                       \n",
       "MISSION = 'TESS    '                                                            \n",
       "RA      =     358.714405881017                                                  \n",
       "DEC     =     38.5267223811979                                                  \n",
       "FILENAME= '../data/CARMENES_GTO_TESS_lc/lightcurves/J23548+385/J23548+385_TESS&'\n",
       "CONTINUE  '_TIC291689873_S17.fits'                                              \n",
       "HIERARCH FLUX_ORIGIN = 'pdcsap_flux'                                            \n",
       "AUTHOR  = 'SPOC    '                                                            \n",
       "TARGETID=            291689873                                                  \n",
       "HIERARCH QUALITY_BITMASK = 'default '                                           \n",
       "PUNIT   = 'd       '                                                            \n",
       "FUNIT   = 'd-1     '                                                            \n",
       "RVPOINTS=                12878 / Number of points in the RV curve               \n",
       "AVGFLUX =      8262.2080078125 / Average flux of RV curve                       \n",
       "RMSFLUX =            24030.125 / Flux RMS of RV curve                           \n",
       "PSAMPLE = 0.001388863605825463 / Inferred cadence in RV curve                   \n",
       "FSAMPLE =    720.0131069786767 / Inferred sampling frequency in RV curve        \n",
       "FNYQUIST=    1440.026213957353 / Calculated Nyquist frequency value             \n",
       "CHECKSUM= 'ZpaGamZFTmaFZmYF'   / HDU checksum updated 2022-06-16T15:54:56       \n",
       "DATASUM = '1151732815'         / data unit checksum updated 2022-06-16T15:54:56 "
      ]
     },
     "execution_count": 19,
     "metadata": {},
     "output_type": "execute_result"
    }
   ],
   "source": [
    "read_hdul['TESS_LC'].header"
   ]
  },
  {
   "cell_type": "code",
   "execution_count": 20,
   "id": "1ac50efb",
   "metadata": {
    "ExecuteTime": {
     "end_time": "2022-06-17T10:29:52.484104Z",
     "start_time": "2022-06-17T10:29:52.421204Z"
    }
   },
   "outputs": [
    {
     "data": {
      "text/plain": [
       "FITS_rec([([ 2.45876500e+06, -3.10855424e-01], 8036.715 , 14.602657, 0.0047049 , 386805, 743.37405765, 1030.75688962, 7419.3154, 13.216773, 1896.0168, 6.645701 , 8036.715 , 14.602657, 0, nan, nan, nan, nan, 743.37405765, 0.00165376, 1030.75688962, 0.00156959, 0.04306674, 0.08566172),\n",
       "          ([ 2.45876500e+06, -3.09466527e-01], 8045.7295, 14.630568, 0.00470491, 386806, 743.37714375, 1030.75655315, 7433.0312, 13.242034, 1900.8579, 6.6685295, 8045.7295, 14.630568, 0, nan, nan, nan, nan, 743.37714375, 0.00165215, 1030.75655315, 0.0015669 , 0.04319848, 0.08758464),\n",
       "          ([ 2.45876500e+06, -3.08077632e-01], 8045.2686, 14.622687, 0.00470492, 386807, 743.38027732, 1030.75631546, 7430.282 , 13.234902, 1898.9921, 6.6640596, 8045.2686, 14.622687, 0, nan, nan, nan, nan, 743.38027732, 0.00165761, 1030.75631546, 0.00156569, 0.04801591, 0.08800385),\n",
       "          ([ 2.45876500e+06, -3.06688735e-01], 8035.3765, 14.61121 , 0.00470493, 386808, 743.37142282, 1030.75155629, 7416.531 , 13.224514, 1900.3071, 6.6757946, 8035.3765, 14.61121 , 0, nan, nan, nan, nan, 743.37142282, 0.00165821, 1030.75155629, 0.00156726, 0.03946783, 0.0811476 ),\n",
       "          ([ 2.45876500e+06, -3.05299839e-01], 8045.5757, 14.600376, 0.00470493, 386809, 743.37578696, 1030.75774684, 7428.515 , 13.214708, 1897.5846, 6.649689 , 8045.5757, 14.600376, 0, nan, nan, nan, nan, 743.37578696, 0.00165113, 1030.75774684, 0.00156591, 0.04288413, 0.08679936),\n",
       "          ([ 2.45876500e+06, -3.03910944e-01], 8057.849 , 14.61195 , 0.00470494, 386810, 743.38068269, 1030.75562846, 7440.0063, 13.225183, 1885.1906, 6.6451707, 8057.849 , 14.61195 , 0, nan, nan, nan, nan, 743.38068269, 0.00164874, 1030.75562846, 0.00156667, 0.04636824, 0.08713852),\n",
       "          ([ 2.45876500e+06, -3.02522047e-01], 8019.945 , 14.623798, 0.00470495, 386811, 743.38077413, 1030.75485808, 7410.8506, 13.235908, 1893.2153, 6.6664557, 8019.945 , 14.623798, 0, nan, nan, nan, nan, 743.38077413, 0.00166381, 1030.75485808, 0.00157117, 0.04395806, 0.08726585),\n",
       "          ([ 2.45876500e+06, -3.01133151e-01], 8021.466 , 14.593859, 0.00470496, 386812, 743.37517998, 1030.75433674, 7412.9116, 13.208809, 1898.373 , 6.6483836, 8021.466 , 14.593859, 0, nan, nan, nan, nan, 743.37517998, 0.00165443, 1030.75433674, 0.00156728, 0.04407893, 0.08488221),\n",
       "          ([ 2.45876500e+06, -2.99744255e-01], 8023.449 , 14.611629, 0.00470496, 386813, 743.37256641, 1030.75632478, 7409.788 , 13.224893, 1902.6969, 6.6640005, 8023.449 , 14.611629, 0, nan, nan, nan, nan, 743.37256641, 0.00166069, 1030.75632478, 0.00156945, 0.0399594 , 0.08138748),\n",
       "          ([ 2.45876500e+06, -2.98355359e-01], 8044.087 , 14.643314, 0.00470497, 386814, 743.37913755, 1030.75879023, 7429.2417, 13.253571, 1888.0557, 6.657132 , 8044.087 , 14.643314, 0, nan, nan, nan, nan, 743.37913755, 0.0016555 , 1030.75879023, 0.00157512, 0.04594935, 0.08638962)],\n",
       "         dtype=(numpy.record, [('time', '>f8', (2,)), ('flux', '>f4'), ('flux_err', '>f4'), ('timecorr', '>f4'), ('cadenceno', '>i4'), ('centroid_col', '>f8'), ('centroid_row', '>f8'), ('sap_flux', '>f4'), ('sap_flux_err', '>f4'), ('sap_bkg', '>f4'), ('sap_bkg_err', '>f4'), ('pdcsap_flux', '>f4'), ('pdcsap_flux_err', '>f4'), ('quality', '>i4'), ('psf_centr1', '>f8'), ('psf_centr1_err', '>f4'), ('psf_centr2', '>f8'), ('psf_centr2_err', '>f4'), ('mom_centr1', '>f8'), ('mom_centr1_err', '>f4'), ('mom_centr2', '>f8'), ('mom_centr2_err', '>f4'), ('pos_corr1', '>f4'), ('pos_corr2', '>f4')]))"
      ]
     },
     "execution_count": 20,
     "metadata": {},
     "output_type": "execute_result"
    }
   ],
   "source": [
    "read_hdul['TESS_LC'].data[:10]"
   ]
  },
  {
   "cell_type": "code",
   "execution_count": 21,
   "id": "d9cf03e7",
   "metadata": {
    "ExecuteTime": {
     "end_time": "2022-06-17T10:29:55.055068Z",
     "start_time": "2022-06-17T10:29:54.916494Z"
    }
   },
   "outputs": [
    {
     "data": {
      "text/html": [
       "<i>QTable length=12878</i>\n",
       "<table id=\"table1603570970928\" class=\"table-striped table-bordered table-condensed\">\n",
       "<thead><tr><th>time [2]</th><th>flux</th><th>flux_err</th><th>timecorr</th><th>cadenceno</th><th>centroid_col</th><th>centroid_row</th><th>sap_flux</th><th>sap_flux_err</th><th>sap_bkg</th><th>sap_bkg_err</th><th>pdcsap_flux</th><th>pdcsap_flux_err</th><th>quality</th><th>psf_centr1</th><th>psf_centr1_err</th><th>psf_centr2</th><th>psf_centr2_err</th><th>mom_centr1</th><th>mom_centr1_err</th><th>mom_centr2</th><th>mom_centr2_err</th><th>pos_corr1</th><th>pos_corr2</th></tr></thead>\n",
       "<thead><tr><th>d</th><th></th><th></th><th>d</th><th></th><th>pix</th><th>pix</th><th></th><th></th><th></th><th></th><th></th><th></th><th></th><th>pix</th><th>pix</th><th>pix</th><th>pix</th><th>pix</th><th>pix</th><th>pix</th><th>pix</th><th>pix</th><th>pix</th></tr></thead>\n",
       "<thead><tr><th>float64</th><th>float32</th><th>float32</th><th>float32</th><th>int32</th><th>float64</th><th>float64</th><th>float32</th><th>float32</th><th>float32</th><th>float32</th><th>float32</th><th>float32</th><th>int32</th><th>float64</th><th>float32</th><th>float64</th><th>float32</th><th>float64</th><th>float32</th><th>float64</th><th>float32</th><th>float32</th><th>float32</th></tr></thead>\n",
       "<tr><td>2458765.0 .. -0.3108554236009695</td><td>8.0367148e+03</td><td>1.4602657e+01</td><td>4.7049029e-03</td><td>386805</td><td>743.37406</td><td>1030.75689</td><td>7.4193154e+03</td><td>1.3216773e+01</td><td>1.8960168e+03</td><td>6.6457009e+00</td><td>8.0367148e+03</td><td>1.4602657e+01</td><td>0</td><td>nan</td><td>nan</td><td>nan</td><td>nan</td><td>743.37406</td><td>1.6537585e-03</td><td>1030.75689</td><td>1.5695895e-03</td><td>4.3066736e-02</td><td>8.5661724e-02</td></tr>\n",
       "<tr><td>2458765.0 .. -0.30946652739862657</td><td>8.0457295e+03</td><td>1.4630568e+01</td><td>4.7049108e-03</td><td>386806</td><td>743.37714</td><td>1030.75655</td><td>7.4330312e+03</td><td>1.3242034e+01</td><td>1.9008579e+03</td><td>6.6685295e+00</td><td>8.0457295e+03</td><td>1.4630568e+01</td><td>0</td><td>nan</td><td>nan</td><td>nan</td><td>nan</td><td>743.37714</td><td>1.6521512e-03</td><td>1030.75655</td><td>1.5668995e-03</td><td>4.3198477e-02</td><td>8.7584637e-02</td></tr>\n",
       "<tr><td>2458765.0 .. -0.3080776316621723</td><td>8.0452686e+03</td><td>1.4622687e+01</td><td>4.7049182e-03</td><td>386807</td><td>743.38028</td><td>1030.75632</td><td>7.4302822e+03</td><td>1.3234902e+01</td><td>1.8989921e+03</td><td>6.6640596e+00</td><td>8.0452686e+03</td><td>1.4622687e+01</td><td>0</td><td>nan</td><td>nan</td><td>nan</td><td>nan</td><td>743.38028</td><td>1.6576147e-03</td><td>1030.75632</td><td>1.5656911e-03</td><td>4.8015915e-02</td><td>8.8003851e-02</td></tr>\n",
       "<tr><td>2458765.0 .. -0.3066887354593746</td><td>8.0353765e+03</td><td>1.4611210e+01</td><td>4.7049262e-03</td><td>386808</td><td>743.37142</td><td>1030.75156</td><td>7.4165308e+03</td><td>1.3224514e+01</td><td>1.9003071e+03</td><td>6.6757946e+00</td><td>8.0353765e+03</td><td>1.4611210e+01</td><td>0</td><td>nan</td><td>nan</td><td>nan</td><td>nan</td><td>743.37142</td><td>1.6582146e-03</td><td>1030.75156</td><td>1.5672606e-03</td><td>3.9467834e-02</td><td>8.1147596e-02</td></tr>\n",
       "<tr><td>2458765.0 .. -0.3052998392563495</td><td>8.0455757e+03</td><td>1.4600376e+01</td><td>4.7049341e-03</td><td>386809</td><td>743.37579</td><td>1030.75775</td><td>7.4285151e+03</td><td>1.3214708e+01</td><td>1.8975846e+03</td><td>6.6496892e+00</td><td>8.0455757e+03</td><td>1.4600376e+01</td><td>0</td><td>nan</td><td>nan</td><td>nan</td><td>nan</td><td>743.37579</td><td>1.6511347e-03</td><td>1030.75775</td><td>1.5659113e-03</td><td>4.2884134e-02</td><td>8.6799361e-02</td></tr>\n",
       "<tr><td>2458765.0 .. -0.3039109435198952</td><td>8.0578491e+03</td><td>1.4611950e+01</td><td>4.7049415e-03</td><td>386810</td><td>743.38068</td><td>1030.75563</td><td>7.4400063e+03</td><td>1.3225183e+01</td><td>1.8851906e+03</td><td>6.6451707e+00</td><td>8.0578491e+03</td><td>1.4611950e+01</td><td>0</td><td>nan</td><td>nan</td><td>nan</td><td>nan</td><td>743.38068</td><td>1.6487412e-03</td><td>1030.75563</td><td>1.5666722e-03</td><td>4.6368241e-02</td><td>8.7138519e-02</td></tr>\n",
       "<tr><td>2458765.0 .. -0.30252204731777965</td><td>8.0199448e+03</td><td>1.4623798e+01</td><td>4.7049494e-03</td><td>386811</td><td>743.38077</td><td>1030.75486</td><td>7.4108506e+03</td><td>1.3235908e+01</td><td>1.8932153e+03</td><td>6.6664557e+00</td><td>8.0199448e+03</td><td>1.4623798e+01</td><td>0</td><td>nan</td><td>nan</td><td>nan</td><td>nan</td><td>743.38077</td><td>1.6638068e-03</td><td>1030.75486</td><td>1.5711738e-03</td><td>4.3958057e-02</td><td>8.7265849e-02</td></tr>\n",
       "<tr><td>2458765.0 .. -0.3011331511154367</td><td>8.0214658e+03</td><td>1.4593859e+01</td><td>4.7049574e-03</td><td>386812</td><td>743.37518</td><td>1030.75434</td><td>7.4129116e+03</td><td>1.3208809e+01</td><td>1.8983730e+03</td><td>6.6483836e+00</td><td>8.0214658e+03</td><td>1.4593859e+01</td><td>0</td><td>nan</td><td>nan</td><td>nan</td><td>nan</td><td>743.37518</td><td>1.6544337e-03</td><td>1030.75434</td><td>1.5672805e-03</td><td>4.4078931e-02</td><td>8.4882207e-02</td></tr>\n",
       "<tr><td>2458765.0 .. -0.2997442553789824</td><td>8.0234492e+03</td><td>1.4611629e+01</td><td>4.7049648e-03</td><td>386813</td><td>743.37257</td><td>1030.75632</td><td>7.4097881e+03</td><td>1.3224893e+01</td><td>1.9026969e+03</td><td>6.6640005e+00</td><td>8.0234492e+03</td><td>1.4611629e+01</td><td>0</td><td>nan</td><td>nan</td><td>nan</td><td>nan</td><td>743.37257</td><td>1.6606862e-03</td><td>1030.75632</td><td>1.5694479e-03</td><td>3.9959405e-02</td><td>8.1387483e-02</td></tr>\n",
       "<tr><td>...</td><td>...</td><td>...</td><td>...</td><td>...</td><td>...</td><td>...</td><td>...</td><td>...</td><td>...</td><td>...</td><td>...</td><td>...</td><td>...</td><td>...</td><td>...</td><td>...</td><td>...</td><td>...</td><td>...</td><td>...</td><td>...</td><td>...</td><td>...</td></tr>\n",
       "<tr><td>2458788.0 .. -0.2931503452944071</td><td>8.0933594e+03</td><td>1.6194559e+01</td><td>4.3644137e-03</td><td>403378</td><td>743.28654</td><td>1030.62989</td><td>7.4809316e+03</td><td>1.4657593e+01</td><td>3.7004600e+03</td><td>7.9628358e+00</td><td>8.0933594e+03</td><td>1.6194559e+01</td><td>0</td><td>nan</td><td>nan</td><td>nan</td><td>nan</td><td>743.28654</td><td>1.8721060e-03</td><td>1030.62989</td><td>1.7456290e-03</td><td>-6.7812257e-02</td><td>-7.0814878e-02</td></tr>\n",
       "<tr><td>2458788.0 .. -0.29176149891736713</td><td>8.1047861e+03</td><td>1.6223404e+01</td><td>4.3643718e-03</td><td>403379</td><td>743.28550</td><td>1030.63784</td><td>7.4925083e+03</td><td>1.4683700e+01</td><td>3.6956650e+03</td><td>7.9891791e+00</td><td>8.1047861e+03</td><td>1.6223404e+01</td><td>0</td><td>nan</td><td>nan</td><td>nan</td><td>nan</td><td>743.28550</td><td>1.8681762e-03</td><td>1030.63784</td><td>1.7458693e-03</td><td>-6.7442589e-02</td><td>-6.1851311e-02</td></tr>\n",
       "<tr><td>2458788.0 .. -0.2903726525400998</td><td>8.0784951e+03</td><td>1.6215017e+01</td><td>4.3643299e-03</td><td>403380</td><td>743.28795</td><td>1030.63781</td><td>7.4720132e+03</td><td>1.4676108e+01</td><td>3.7161628e+03</td><td>7.9940023e+00</td><td>8.0784951e+03</td><td>1.6215017e+01</td><td>0</td><td>nan</td><td>nan</td><td>nan</td><td>nan</td><td>743.28795</td><td>1.8746348e-03</td><td>1030.63781</td><td>1.7475161e-03</td><td>-6.3237205e-02</td><td>-5.9418954e-02</td></tr>\n",
       "<tr><td>2458788.0 .. -0.2889838056980807</td><td>8.0909316e+03</td><td>1.6231716e+01</td><td>4.3642884e-03</td><td>403381</td><td>743.28839</td><td>1030.63645</td><td>7.4827671e+03</td><td>1.4691224e+01</td><td>3.7081414e+03</td><td>7.9972234e+00</td><td>8.0909316e+03</td><td>1.6231716e+01</td><td>0</td><td>nan</td><td>nan</td><td>nan</td><td>nan</td><td>743.28839</td><td>1.8710849e-03</td><td>1030.63645</td><td>1.7500113e-03</td><td>-6.5992430e-02</td><td>-6.2866651e-02</td></tr>\n",
       "<tr><td>2458788.0 .. -0.28759495932081336</td><td>8.1014028e+03</td><td>1.6213665e+01</td><td>4.3642465e-03</td><td>403382</td><td>743.28961</td><td>1030.64268</td><td>7.4859170e+03</td><td>1.4674885e+01</td><td>3.7073472e+03</td><td>7.9831595e+00</td><td>8.1014028e+03</td><td>1.6213665e+01</td><td>0</td><td>nan</td><td>nan</td><td>nan</td><td>nan</td><td>743.28961</td><td>1.8731370e-03</td><td>1030.64268</td><td>1.7454056e-03</td><td>-6.9358699e-02</td><td>-5.4396100e-02</td></tr>\n",
       "<tr><td>2458788.0 .. -0.2862061129437734</td><td>8.0795264e+03</td><td>1.6216850e+01</td><td>4.3642046e-03</td><td>403383</td><td>743.28692</td><td>1030.63911</td><td>7.4719678e+03</td><td>1.4677770e+01</td><td>3.7282007e+03</td><td>7.9835024e+00</td><td>8.0795264e+03</td><td>1.6216850e+01</td><td>0</td><td>nan</td><td>nan</td><td>nan</td><td>nan</td><td>743.28692</td><td>1.8767248e-03</td><td>1030.63911</td><td>1.7488670e-03</td><td>-6.7064710e-02</td><td>-6.1651886e-02</td></tr>\n",
       "<tr><td>2458788.0 .. -0.2848172661017543</td><td>8.0780571e+03</td><td>1.6210417e+01</td><td>4.3641631e-03</td><td>403384</td><td>743.28669</td><td>1030.63201</td><td>7.4648433e+03</td><td>1.4671945e+01</td><td>3.7228657e+03</td><td>7.9874482e+00</td><td>8.0780571e+03</td><td>1.6210417e+01</td><td>0</td><td>nan</td><td>nan</td><td>nan</td><td>nan</td><td>743.28669</td><td>1.8762137e-03</td><td>1030.63201</td><td>1.7523624e-03</td><td>-6.6819042e-02</td><td>-6.7011043e-02</td></tr>\n",
       "<tr><td>2458788.0 .. -0.28342841972539645</td><td>8.0913271e+03</td><td>1.6226820e+01</td><td>4.3641212e-03</td><td>403385</td><td>743.28557</td><td>1030.63436</td><td>7.4759136e+03</td><td>1.4686792e+01</td><td>3.7266069e+03</td><td>7.9984984e+00</td><td>8.0913271e+03</td><td>1.6226820e+01</td><td>0</td><td>nan</td><td>nan</td><td>nan</td><td>nan</td><td>743.28557</td><td>1.8753355e-03</td><td>1030.63436</td><td>1.7494367e-03</td><td>-6.7065291e-02</td><td>-6.7367688e-02</td></tr>\n",
       "<tr><td>2458788.0 .. -0.28203957334881125</td><td>8.0956543e+03</td><td>1.6216490e+01</td><td>4.3640793e-03</td><td>403386</td><td>743.28758</td><td>1030.64725</td><td>7.4871382e+03</td><td>1.4677442e+01</td><td>3.7190090e+03</td><td>7.9857874e+00</td><td>8.0956543e+03</td><td>1.6216490e+01</td><td>0</td><td>nan</td><td>nan</td><td>nan</td><td>nan</td><td>743.28758</td><td>1.8704236e-03</td><td>1030.64725</td><td>1.7446291e-03</td><td>-6.6449851e-02</td><td>-5.1465672e-02</td></tr>\n",
       "<tr><td>2458788.0 .. -0.2806507269717713</td><td>8.0822212e+03</td><td>1.6244389e+01</td><td>4.3640374e-03</td><td>403387</td><td>743.28716</td><td>1030.63902</td><td>7.4738052e+03</td><td>1.4702694e+01</td><td>3.7332004e+03</td><td>7.9975300e+00</td><td>8.0822212e+03</td><td>1.6244389e+01</td><td>0</td><td>nan</td><td>nan</td><td>nan</td><td>nan</td><td>743.28716</td><td>1.8780001e-03</td><td>1030.63902</td><td>1.7550424e-03</td><td>-6.8450630e-02</td><td>-6.1715052e-02</td></tr>\n",
       "</table>"
      ],
      "text/plain": [
       "<QTable length=12878>\n",
       "             time [2]                  flux      ...   pos_corr2   \n",
       "                d                                ...      pix      \n",
       "             float64                 float32     ...    float32    \n",
       "--------------------------------- -------------- ... --------------\n",
       " 2458765.0 .. -0.3108554236009695  8.0367148e+03 ...  8.5661724e-02\n",
       "2458765.0 .. -0.30946652739862657  8.0457295e+03 ...  8.7584637e-02\n",
       " 2458765.0 .. -0.3080776316621723  8.0452686e+03 ...  8.8003851e-02\n",
       " 2458765.0 .. -0.3066887354593746  8.0353765e+03 ...  8.1147596e-02\n",
       " 2458765.0 .. -0.3052998392563495  8.0455757e+03 ...  8.6799361e-02\n",
       " 2458765.0 .. -0.3039109435198952  8.0578491e+03 ...  8.7138519e-02\n",
       "2458765.0 .. -0.30252204731777965  8.0199448e+03 ...  8.7265849e-02\n",
       " 2458765.0 .. -0.3011331511154367  8.0214658e+03 ...  8.4882207e-02\n",
       " 2458765.0 .. -0.2997442553789824  8.0234492e+03 ...  8.1387483e-02\n",
       "                              ...            ... ...            ...\n",
       " 2458788.0 .. -0.2931503452944071  8.0933594e+03 ... -7.0814878e-02\n",
       "2458788.0 .. -0.29176149891736713  8.1047861e+03 ... -6.1851311e-02\n",
       " 2458788.0 .. -0.2903726525400998  8.0784951e+03 ... -5.9418954e-02\n",
       " 2458788.0 .. -0.2889838056980807  8.0909316e+03 ... -6.2866651e-02\n",
       "2458788.0 .. -0.28759495932081336  8.1014028e+03 ... -5.4396100e-02\n",
       " 2458788.0 .. -0.2862061129437734  8.0795264e+03 ... -6.1651886e-02\n",
       " 2458788.0 .. -0.2848172661017543  8.0780571e+03 ... -6.7011043e-02\n",
       "2458788.0 .. -0.28342841972539645  8.0913271e+03 ... -6.7367688e-02\n",
       "2458788.0 .. -0.28203957334881125  8.0956543e+03 ... -5.1465672e-02\n",
       " 2458788.0 .. -0.2806507269717713  8.0822212e+03 ... -6.1715052e-02"
      ]
     },
     "execution_count": 21,
     "metadata": {},
     "output_type": "execute_result"
    }
   ],
   "source": [
    "read_rv_table = QTable.read(read_hdul['TESS_LC'])\n",
    "read_rv_table"
   ]
  },
  {
   "cell_type": "markdown",
   "id": "a8ffe2fb",
   "metadata": {},
   "source": [
    "### Retrieve periodogram information"
   ]
  },
  {
   "cell_type": "code",
   "execution_count": 22,
   "id": "1d967fcb",
   "metadata": {
    "ExecuteTime": {
     "end_time": "2022-06-17T10:30:01.093347Z",
     "start_time": "2022-06-17T10:30:01.076405Z"
    }
   },
   "outputs": [
    {
     "data": {
      "text/plain": [
       "<astropy.io.fits.hdu.table.BinTableHDU at 0x17556396640>"
      ]
     },
     "execution_count": 22,
     "metadata": {},
     "output_type": "execute_result"
    }
   ],
   "source": [
    "read_hdul['GLS_PG']"
   ]
  },
  {
   "cell_type": "code",
   "execution_count": 23,
   "id": "c4ae8cb2",
   "metadata": {
    "ExecuteTime": {
     "end_time": "2022-06-17T10:30:01.708054Z",
     "start_time": "2022-06-17T10:30:01.701072Z"
    }
   },
   "outputs": [
    {
     "data": {
      "text/plain": [
       "XTENSION= 'BINTABLE'           / binary table extension                         \n",
       "BITPIX  =                    8 / array data type                                \n",
       "NAXIS   =                    2 / number of array dimensions                     \n",
       "NAXIS1  =                   16 / length of dimension 1                          \n",
       "NAXIS2  =              1000001 / length of dimension 2                          \n",
       "PCOUNT  =                    0 / number of group parameters                     \n",
       "GCOUNT  =                    1 / number of groups                               \n",
       "TFIELDS =                    2 / number of table fields                         \n",
       "TTYPE1  = 'freq    '                                                            \n",
       "TFORM1  = 'D       '                                                            \n",
       "TUNIT1  = 'd-1     '                                                            \n",
       "TTYPE2  = 'power   '                                                            \n",
       "TFORM2  = 'D       '                                                            \n",
       "EXTNAME = 'GLS_PG  '           / extension name                                 \n",
       "OBJECT  = 'J23548+385'         / KARMENES target name                           \n",
       "FUNIT   = 'd-1     '           / Unit for frequencies                           \n",
       "PUNIT   = 'd       '           / Unit for periods                               \n",
       "PK_FREQ =            5.8473408 / Frequency of the peak in periodogram           \n",
       "PK_POW  = 0.000501569154113078 / Power of the peak in periodogram               \n",
       "PK_SNR  =  0.03168784879566322 / SNR of the peak in periodogram                 \n",
       "PK_FAP  =                  1.0 / FAP of the peak in periodogram                 \n",
       "RES_RMS =    154.9776507452946 / RMS of residuals in periodogram                \n",
       "FSAMPLE =    720.0131069786767 / Inferred sampling frequency in TESS curve      \n",
       "FNYQUIST=    1440.026213957353 / Calculated Nyquist frequency value             \n",
       "FPOINTS =              1000001 / Number of points in periodogram                \n",
       "FBEG    =                  4.8 / Start frequency in periodogram                 \n",
       "FEND    =                  144 / End frequency in periodogram                   \n",
       "FRES    =            0.0001392 / Frequency resolution in periodogram            \n",
       "F       =            5.8473408 / Peak best estimate: frequency                  \n",
       "E_F     = 0.009664250952468163 / Peak best estimate: frequency error            \n",
       "P       =   0.1710179095427447 / Peak best estimate: period                     \n",
       "E_P     = 0.000282651559352857 / Peak best estimate: period error               \n",
       "A       =    4.910908363523999 / Peak best estimate: amplitude                  \n",
       "E_A     =    1.931345005062691 / Peak best estimate: amplitude error            \n",
       "PH      =    0.465722309055908 / Peak best estimate: phase                      \n",
       "E_PH    =  0.06259190390410686 / Peak best estimate: phase error                \n",
       "T0      =    1764.609497720677 / Peak best estimate: frequency                  \n",
       "E_T0    =  0.01070433655998071 / Peak best estimate: frequency error            \n",
       "OFF     =    8262.219751287155 / Peak best estimate: offset                     \n",
       "E_OFF   =    1.365667149890596 / Peak best estimate: offset error               \n",
       "OFAC    =                   10 / Setup: oversampling factor                     \n",
       "HIFAC   =                   10 / Setup: maximum frequency factor                \n",
       "NORM    = 'ZK      '           / Setup: normalization type                      \n",
       "LS      =                    F / Setup: conventional Lomb-Scargle calculation   \n",
       "FAST    =                    F / Setup: fast evaluation, recursive trigonometric"
      ]
     },
     "execution_count": 23,
     "metadata": {},
     "output_type": "execute_result"
    }
   ],
   "source": [
    "read_hdul['GLS_PG'].header"
   ]
  },
  {
   "cell_type": "code",
   "execution_count": 24,
   "id": "4b1064ba",
   "metadata": {
    "ExecuteTime": {
     "end_time": "2022-06-17T10:30:02.310640Z",
     "start_time": "2022-06-17T10:30:02.285707Z"
    }
   },
   "outputs": [
    {
     "data": {
      "text/plain": [
       "FITS_rec([(4.8      , 0.00024938), (4.8001392, 0.00024974),\n",
       "          (4.8002784, 0.00025008), (4.8004176, 0.00025039),\n",
       "          (4.8005568, 0.00025069), (4.800696 , 0.00025097),\n",
       "          (4.8008352, 0.00025122), (4.8009744, 0.00025146),\n",
       "          (4.8011136, 0.00025167), (4.8012528, 0.00025186)],\n",
       "         dtype=(numpy.record, [('freq', '>f8'), ('power', '>f8')]))"
      ]
     },
     "execution_count": 24,
     "metadata": {},
     "output_type": "execute_result"
    }
   ],
   "source": [
    "read_hdul['GLS_PG'].data[:10]"
   ]
  },
  {
   "cell_type": "code",
   "execution_count": 25,
   "id": "d52143a8",
   "metadata": {
    "ExecuteTime": {
     "end_time": "2022-06-17T10:30:02.341558Z",
     "start_time": "2022-06-17T10:30:02.311639Z"
    }
   },
   "outputs": [
    {
     "data": {
      "text/html": [
       "<i>QTable length=1000001</i>\n",
       "<table id=\"table1603595824192\" class=\"table-striped table-bordered table-condensed\">\n",
       "<thead><tr><th>freq</th><th>power</th></tr></thead>\n",
       "<thead><tr><th>1 / d</th><th></th></tr></thead>\n",
       "<thead><tr><th>float64</th><th>float64</th></tr></thead>\n",
       "<tr><td>4.8</td><td>0.0002493765538039762</td></tr>\n",
       "<tr><td>4.800139199999999</td><td>0.00024973683565817766</td></tr>\n",
       "<tr><td>4.8002784</td><td>0.0002500762492685541</td></tr>\n",
       "<tr><td>4.800417599999999</td><td>0.0002503947399286319</td></tr>\n",
       "<tr><td>4.8005568</td><td>0.00025069225989698</td></tr>\n",
       "<tr><td>4.800695999999999</td><td>0.00025096876841448684</td></tr>\n",
       "<tr><td>4.8008352</td><td>0.00025122423171862506</td></tr>\n",
       "<tr><td>4.800974399999999</td><td>0.0002514586230550532</td></tr>\n",
       "<tr><td>4.8011136</td><td>0.00025167192268642355</td></tr>\n",
       "<tr><td>...</td><td>...</td></tr>\n",
       "<tr><td>143.9987472</td><td>1.1125051277077884e-05</td></tr>\n",
       "<tr><td>143.9988864</td><td>1.1174331367914543e-05</td></tr>\n",
       "<tr><td>143.9990256</td><td>1.122244310011814e-05</td></tr>\n",
       "<tr><td>143.99916480000002</td><td>1.1269376112669045e-05</td></tr>\n",
       "<tr><td>143.999304</td><td>1.1315120324318644e-05</td></tr>\n",
       "<tr><td>143.9994432</td><td>1.1359665935608462e-05</td></tr>\n",
       "<tr><td>143.9995824</td><td>1.1403003430878815e-05</td></tr>\n",
       "<tr><td>143.99972160000002</td><td>1.1445123580700599e-05</td></tr>\n",
       "<tr><td>143.9998608</td><td>1.1486017442974765e-05</td></tr>\n",
       "<tr><td>144.0</td><td>1.15256763654712e-05</td></tr>\n",
       "</table>"
      ],
      "text/plain": [
       "<QTable length=1000001>\n",
       "       freq                power         \n",
       "      1 / d                              \n",
       "     float64              float64        \n",
       "------------------ ----------------------\n",
       "               4.8  0.0002493765538039762\n",
       " 4.800139199999999 0.00024973683565817766\n",
       "         4.8002784  0.0002500762492685541\n",
       " 4.800417599999999  0.0002503947399286319\n",
       "         4.8005568    0.00025069225989698\n",
       " 4.800695999999999 0.00025096876841448684\n",
       "         4.8008352 0.00025122423171862506\n",
       " 4.800974399999999  0.0002514586230550532\n",
       "         4.8011136 0.00025167192268642355\n",
       "               ...                    ...\n",
       "       143.9987472 1.1125051277077884e-05\n",
       "       143.9988864 1.1174331367914543e-05\n",
       "       143.9990256  1.122244310011814e-05\n",
       "143.99916480000002 1.1269376112669045e-05\n",
       "        143.999304 1.1315120324318644e-05\n",
       "       143.9994432 1.1359665935608462e-05\n",
       "       143.9995824 1.1403003430878815e-05\n",
       "143.99972160000002 1.1445123580700599e-05\n",
       "       143.9998608 1.1486017442974765e-05\n",
       "             144.0   1.15256763654712e-05"
      ]
     },
     "execution_count": 25,
     "metadata": {},
     "output_type": "execute_result"
    }
   ],
   "source": [
    "read_pg_table = QTable.read(read_hdul['GLS_PG'])\n",
    "read_pg_table"
   ]
  },
  {
   "cell_type": "code",
   "execution_count": 26,
   "id": "6ef2a413",
   "metadata": {
    "ExecuteTime": {
     "end_time": "2022-06-17T10:30:05.355211Z",
     "start_time": "2022-06-17T10:30:05.348230Z"
    }
   },
   "outputs": [
    {
     "data": {
      "text/latex": [
       "$[4.8,~4.8001392,~4.8002784,~\\dots,~143.99958,~143.99972,~143.99986] \\; \\mathrm{\\frac{1}{d}}$"
      ],
      "text/plain": [
       "<Quantity [  4.8      ,   4.8001392,   4.8002784, ..., 143.9995824,\n",
       "           143.9997216, 143.9998608] 1 / d>"
      ]
     },
     "execution_count": 26,
     "metadata": {},
     "output_type": "execute_result"
    }
   ],
   "source": [
    "read_pg_table['freq'][:-1]"
   ]
  },
  {
   "cell_type": "code",
   "execution_count": 27,
   "id": "05dbbc26",
   "metadata": {
    "ExecuteTime": {
     "end_time": "2022-06-17T10:30:10.297288Z",
     "start_time": "2022-06-17T10:30:10.284321Z"
    }
   },
   "outputs": [
    {
     "data": {
      "text/latex": [
       "$[-0.0001392,~-0.0001392,~-0.0001392,~\\dots,~-0.0001392,~-0.0001392,~-0.0001392] \\; \\mathrm{\\frac{1}{d}}$"
      ],
      "text/plain": [
       "<Quantity [-0.0001392, -0.0001392, -0.0001392, ..., -0.0001392, -0.0001392,\n",
       "           -0.0001392] 1 / d>"
      ]
     },
     "execution_count": 27,
     "metadata": {},
     "output_type": "execute_result"
    }
   ],
   "source": [
    "diff_frecs = read_pg_table['freq'][:-1] - read_pg_table['freq'][1:]\n",
    "diff_frecs"
   ]
  },
  {
   "cell_type": "markdown",
   "id": "3d57e6fb",
   "metadata": {},
   "source": [
    "### Delete read information"
   ]
  },
  {
   "cell_type": "code",
   "execution_count": 28,
   "id": "b9968559",
   "metadata": {
    "ExecuteTime": {
     "end_time": "2022-06-17T10:30:11.847676Z",
     "start_time": "2022-06-17T10:30:11.811889Z"
    }
   },
   "outputs": [],
   "source": [
    "read_hdul.close()"
   ]
  },
  {
   "cell_type": "code",
   "execution_count": 29,
   "id": "12f40111",
   "metadata": {
    "ExecuteTime": {
     "end_time": "2022-06-17T10:30:12.448794Z",
     "start_time": "2022-06-17T10:30:12.436957Z"
    }
   },
   "outputs": [],
   "source": [
    "del read_hdul"
   ]
  },
  {
   "cell_type": "markdown",
   "id": "72675a7a",
   "metadata": {},
   "source": [
    "## Check final results that yielded error"
   ]
  },
  {
   "cell_type": "code",
   "execution_count": 30,
   "id": "973da844",
   "metadata": {
    "ExecuteTime": {
     "end_time": "2022-06-17T10:30:16.207111Z",
     "start_time": "2022-06-17T10:30:16.164225Z"
    }
   },
   "outputs": [
    {
     "data": {
      "text/html": [
       "<div>\n",
       "<style scoped>\n",
       "    .dataframe tbody tr th:only-of-type {\n",
       "        vertical-align: middle;\n",
       "    }\n",
       "\n",
       "    .dataframe tbody tr th {\n",
       "        vertical-align: top;\n",
       "    }\n",
       "\n",
       "    .dataframe thead th {\n",
       "        text-align: right;\n",
       "    }\n",
       "</style>\n",
       "<table border=\"1\" class=\"dataframe\">\n",
       "  <thead>\n",
       "    <tr style=\"text-align: right;\">\n",
       "      <th></th>\n",
       "      <th>Karmn</th>\n",
       "      <th>error_PG_TESS</th>\n",
       "    </tr>\n",
       "  </thead>\n",
       "  <tbody>\n",
       "    <tr>\n",
       "      <th>0</th>\n",
       "      <td>J23585+076</td>\n",
       "      <td>Not recognized as a supported data product:\\nn...</td>\n",
       "    </tr>\n",
       "    <tr>\n",
       "      <th>1</th>\n",
       "      <td>J23556-061</td>\n",
       "      <td>Not recognized as a supported data product:\\nn...</td>\n",
       "    </tr>\n",
       "    <tr>\n",
       "      <th>4</th>\n",
       "      <td>J23492+024</td>\n",
       "      <td>Not recognized as a supported data product:\\nn...</td>\n",
       "    </tr>\n",
       "    <tr>\n",
       "      <th>6</th>\n",
       "      <td>J23419+441</td>\n",
       "      <td>Not recognized as a supported data product:\\nn...</td>\n",
       "    </tr>\n",
       "    <tr>\n",
       "      <th>8</th>\n",
       "      <td>J23351-023</td>\n",
       "      <td>Not recognized as a supported data product:\\nn...</td>\n",
       "    </tr>\n",
       "    <tr>\n",
       "      <th>...</th>\n",
       "      <td>...</td>\n",
       "      <td>...</td>\n",
       "    </tr>\n",
       "    <tr>\n",
       "      <th>373</th>\n",
       "      <td>J01056+284</td>\n",
       "      <td>Not recognized as a supported data product:\\nn...</td>\n",
       "    </tr>\n",
       "    <tr>\n",
       "      <th>384</th>\n",
       "      <td>J00184+440</td>\n",
       "      <td>Not recognized as a supported data product:\\nn...</td>\n",
       "    </tr>\n",
       "    <tr>\n",
       "      <th>386</th>\n",
       "      <td>J00162+198W</td>\n",
       "      <td>Not recognized as a supported data product:\\nn...</td>\n",
       "    </tr>\n",
       "    <tr>\n",
       "      <th>387</th>\n",
       "      <td>J00162+198E</td>\n",
       "      <td>Not recognized as a supported data product:\\nn...</td>\n",
       "    </tr>\n",
       "    <tr>\n",
       "      <th>388</th>\n",
       "      <td>J00067-075</td>\n",
       "      <td>Not recognized as a supported data product:\\nn...</td>\n",
       "    </tr>\n",
       "  </tbody>\n",
       "</table>\n",
       "<p>124 rows × 2 columns</p>\n",
       "</div>"
      ],
      "text/plain": [
       "           Karmn                                      error_PG_TESS\n",
       "0     J23585+076  Not recognized as a supported data product:\\nn...\n",
       "1     J23556-061  Not recognized as a supported data product:\\nn...\n",
       "4     J23492+024  Not recognized as a supported data product:\\nn...\n",
       "6     J23419+441  Not recognized as a supported data product:\\nn...\n",
       "8     J23351-023  Not recognized as a supported data product:\\nn...\n",
       "..           ...                                                ...\n",
       "373   J01056+284  Not recognized as a supported data product:\\nn...\n",
       "384   J00184+440  Not recognized as a supported data product:\\nn...\n",
       "386  J00162+198W  Not recognized as a supported data product:\\nn...\n",
       "387  J00162+198E  Not recognized as a supported data product:\\nn...\n",
       "388   J00067-075  Not recognized as a supported data product:\\nn...\n",
       "\n",
       "[124 rows x 2 columns]"
      ]
     },
     "execution_count": 30,
     "metadata": {},
     "output_type": "execute_result"
    }
   ],
   "source": [
    "invalid_tess_pg = gto.loc[gto['valid_PG_TESS']==0, ['Karmn', 'error_PG_TESS']]\n",
    "invalid_tess_pg"
   ]
  },
  {
   "cell_type": "code",
   "execution_count": 31,
   "id": "692a9923",
   "metadata": {
    "ExecuteTime": {
     "end_time": "2022-06-17T10:30:21.026007Z",
     "start_time": "2022-06-17T10:30:21.021021Z"
    }
   },
   "outputs": [],
   "source": [
    "invalid_tess_pg['error_PG_TESS'] = invalid_tess_pg['error_PG_TESS'].astype(str)"
   ]
  },
  {
   "cell_type": "code",
   "execution_count": 32,
   "id": "7c7c1f8c",
   "metadata": {
    "ExecuteTime": {
     "end_time": "2022-06-17T10:30:27.033656Z",
     "start_time": "2022-06-17T10:30:27.020690Z"
    }
   },
   "outputs": [
    {
     "data": {
      "text/html": [
       "<div>\n",
       "<style scoped>\n",
       "    .dataframe tbody tr th:only-of-type {\n",
       "        vertical-align: middle;\n",
       "    }\n",
       "\n",
       "    .dataframe tbody tr th {\n",
       "        vertical-align: top;\n",
       "    }\n",
       "\n",
       "    .dataframe thead th {\n",
       "        text-align: right;\n",
       "    }\n",
       "</style>\n",
       "<table border=\"1\" class=\"dataframe\">\n",
       "  <thead>\n",
       "    <tr style=\"text-align: right;\">\n",
       "      <th></th>\n",
       "      <th>Karmn</th>\n",
       "    </tr>\n",
       "    <tr>\n",
       "      <th>error_PG_TESS</th>\n",
       "      <th></th>\n",
       "    </tr>\n",
       "  </thead>\n",
       "  <tbody>\n",
       "    <tr>\n",
       "      <th>Floating point nan values are not allowed in FITS headers.</th>\n",
       "      <td>5</td>\n",
       "    </tr>\n",
       "    <tr>\n",
       "      <th>Not recognized as a supported data product:\\nnan\\nThis file may be corrupt due to an interrupted download. Please remove it from your disk and try again.</th>\n",
       "      <td>119</td>\n",
       "    </tr>\n",
       "  </tbody>\n",
       "</table>\n",
       "</div>"
      ],
      "text/plain": [
       "                                                    Karmn\n",
       "error_PG_TESS                                            \n",
       "Floating point nan values are not allowed in FI...      5\n",
       "Not recognized as a supported data product:\\nna...    119"
      ]
     },
     "execution_count": 32,
     "metadata": {},
     "output_type": "execute_result"
    }
   ],
   "source": [
    "invalid_tess_pg.groupby(by=['error_PG_TESS']).count()"
   ]
  },
  {
   "cell_type": "markdown",
   "id": "721507b7",
   "metadata": {},
   "source": [
    "**Observation:** We have: \n",
    "- 5 objects for which the _TESS_ _FITS_ header is not correctly identifiable.\n",
    "- 0 objects for which there seems to be more than one _TESS_ file under the relevant data folder, but...\n",
    "  - **IMPORTANT NOTE:** two approaches have been used for the objects that have more than one file available:\n",
    "    - For the _TESS_ lightcurves already proveded initially: the first file under the folder is selected (sorted by sector name, so that the sector with the higher number is selected).\n",
    "    - For the additional _TESS_ light curves downloaded from _MAST_ server, teh light curve with the larger total exposition time was selected.\n",
    "- 123 objects for which there is no TESS file available."
   ]
  },
  {
   "cell_type": "markdown",
   "id": "6b3be6d6",
   "metadata": {},
   "source": [
    "These are the 5 objects for which the _FITS_ header seems incorrect. We will try to open them with another, alternative program."
   ]
  },
  {
   "cell_type": "code",
   "execution_count": 33,
   "id": "5149ca85",
   "metadata": {
    "ExecuteTime": {
     "end_time": "2022-06-17T10:34:12.813304Z",
     "start_time": "2022-06-17T10:34:12.797836Z"
    }
   },
   "outputs": [
    {
     "data": {
      "text/plain": [
       "49     J20450+444\n",
       "62     J19251+283\n",
       "63     J19242+755\n",
       "227    J10125+570\n",
       "243    J09307+003\n",
       "Name: Karmn, dtype: object"
      ]
     },
     "execution_count": 33,
     "metadata": {},
     "output_type": "execute_result"
    }
   ],
   "source": [
    "invalid_tess_pg[invalid_tess_pg['error_PG_TESS'].str.contains(\"Floating\")]['Karmn']"
   ]
  },
  {
   "cell_type": "markdown",
   "id": "e51d72f1",
   "metadata": {},
   "source": [
    "**NO OBJECTS FOUND WITH THIS ERROR:** These are the \\*9\\* objects for which the _TESS_ folder seems to have more than one file. We will look individually to each one of them."
   ]
  },
  {
   "cell_type": "code",
   "execution_count": 34,
   "id": "43932935",
   "metadata": {
    "ExecuteTime": {
     "end_time": "2022-06-17T10:35:21.685348Z",
     "start_time": "2022-06-17T10:35:21.668394Z"
    }
   },
   "outputs": [
    {
     "data": {
      "text/plain": [
       "Series([], Name: Karmn, dtype: object)"
      ]
     },
     "execution_count": 34,
     "metadata": {},
     "output_type": "execute_result"
    }
   ],
   "source": [
    "invalid_tess_pg[invalid_tess_pg['error_PG_TESS'].str.contains(\"ambiguous\")]['Karmn']"
   ]
  },
  {
   "cell_type": "code",
   "execution_count": 35,
   "id": "a7a00fda",
   "metadata": {
    "ExecuteTime": {
     "end_time": "2022-06-17T10:35:26.224142Z",
     "start_time": "2022-06-17T10:35:26.206191Z"
    }
   },
   "outputs": [
    {
     "data": {
      "text/html": [
       "<div>\n",
       "<style scoped>\n",
       "    .dataframe tbody tr th:only-of-type {\n",
       "        vertical-align: middle;\n",
       "    }\n",
       "\n",
       "    .dataframe tbody tr th {\n",
       "        vertical-align: top;\n",
       "    }\n",
       "\n",
       "    .dataframe thead th {\n",
       "        text-align: right;\n",
       "    }\n",
       "</style>\n",
       "<table border=\"1\" class=\"dataframe\">\n",
       "  <thead>\n",
       "    <tr style=\"text-align: right;\">\n",
       "      <th></th>\n",
       "      <th>Karmn</th>\n",
       "      <th>error_PG_TESS</th>\n",
       "    </tr>\n",
       "  </thead>\n",
       "  <tbody>\n",
       "    <tr>\n",
       "      <th>0</th>\n",
       "      <td>J09307+003</td>\n",
       "      <td>Floating point nan values are not allowed in F...</td>\n",
       "    </tr>\n",
       "    <tr>\n",
       "      <th>1</th>\n",
       "      <td>J10125+570</td>\n",
       "      <td>Floating point nan values are not allowed in F...</td>\n",
       "    </tr>\n",
       "    <tr>\n",
       "      <th>2</th>\n",
       "      <td>J19242+755</td>\n",
       "      <td>Floating point nan values are not allowed in F...</td>\n",
       "    </tr>\n",
       "    <tr>\n",
       "      <th>3</th>\n",
       "      <td>J19251+283</td>\n",
       "      <td>Floating point nan values are not allowed in F...</td>\n",
       "    </tr>\n",
       "    <tr>\n",
       "      <th>4</th>\n",
       "      <td>J20450+444</td>\n",
       "      <td>Floating point nan values are not allowed in F...</td>\n",
       "    </tr>\n",
       "  </tbody>\n",
       "</table>\n",
       "</div>"
      ],
      "text/plain": [
       "        Karmn                                      error_PG_TESS\n",
       "0  J09307+003  Floating point nan values are not allowed in F...\n",
       "1  J10125+570  Floating point nan values are not allowed in F...\n",
       "2  J19242+755  Floating point nan values are not allowed in F...\n",
       "3  J19251+283  Floating point nan values are not allowed in F...\n",
       "4  J20450+444  Floating point nan values are not allowed in F..."
      ]
     },
     "execution_count": 35,
     "metadata": {},
     "output_type": "execute_result"
    }
   ],
   "source": [
    "mask = invalid_tess_pg['error_PG_TESS'].str.contains(\"ambiguous\") | \\\n",
    "    invalid_tess_pg['error_PG_TESS'].str.contains(\"FITS\")\n",
    "objects_to_check = invalid_tess_pg[mask][['Karmn', 'error_PG_TESS']] \\\n",
    "    .sort_values(by=['error_PG_TESS', 'Karmn']) \\\n",
    "    .reset_index(drop=True)\n",
    "objects_to_check"
   ]
  },
  {
   "cell_type": "code",
   "execution_count": 36,
   "id": "9b834635",
   "metadata": {
    "ExecuteTime": {
     "end_time": "2022-06-17T10:35:48.743522Z",
     "start_time": "2022-06-17T10:35:48.724573Z"
    }
   },
   "outputs": [],
   "source": [
    "objects_to_check.to_csv(TESS_EXCEPTION_FILE, sep=',', decimal='.', index=False)"
   ]
  },
  {
   "cell_type": "markdown",
   "id": "4fe95649",
   "metadata": {},
   "source": [
    "# Summary"
   ]
  },
  {
   "cell_type": "markdown",
   "id": "9c14f82f",
   "metadata": {},
   "source": [
    "**OBSERVATIONS AND CONCLUSIONS:**\n",
    "- We have completed the basic GLS periodogram calculation for the available TESS light curves for CARM_VIS objetcs, and stored the results.\n",
    "- Some of the objects yielded errors, and some others yielded warnings. Those objects should be analized individually.\n",
    "  - Errors in _TESS_ file _FITS_ header:\n",
    "    - J20450+444\n",
    "    - J19251+283\n",
    "    - J19242+755\n",
    "    - J10125+570\n",
    "    - J09307+003\n",
    "  - No objects were left with several possible, available files, after selecting the first available file, or the downloaded file with the larget total exposition time.\n"
   ]
  },
  {
   "cell_type": "code",
   "execution_count": null,
   "id": "b6a548c3",
   "metadata": {},
   "outputs": [],
   "source": []
  }
 ],
 "metadata": {
  "kernelspec": {
   "display_name": "Python 3",
   "language": "python",
   "name": "python3"
  },
  "language_info": {
   "codemirror_mode": {
    "name": "ipython",
    "version": 3
   },
   "file_extension": ".py",
   "mimetype": "text/x-python",
   "name": "python",
   "nbconvert_exporter": "python",
   "pygments_lexer": "ipython3",
   "version": "3.8.8"
  },
  "toc": {
   "base_numbering": 1,
   "nav_menu": {},
   "number_sections": true,
   "sideBar": true,
   "skip_h1_title": true,
   "title_cell": "Table of Contents",
   "title_sidebar": "Contents",
   "toc_cell": false,
   "toc_position": {
    "height": "calc(100% - 180px)",
    "left": "10px",
    "top": "150px",
    "width": "303.837px"
   },
   "toc_section_display": true,
   "toc_window_display": true
  }
 },
 "nbformat": 4,
 "nbformat_minor": 5
}
