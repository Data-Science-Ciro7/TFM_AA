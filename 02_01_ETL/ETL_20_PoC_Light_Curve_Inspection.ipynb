{
 "cells": [
  {
   "cell_type": "markdown",
   "id": "7e41b9a9",
   "metadata": {},
   "source": [
    "# TESS / CARMENES-GTO DATABASE LOADING AND INSPECTION\n",
    "\n",
    "PoC - Light curve and radial velocity curve inspection and processing"
   ]
  },
  {
   "cell_type": "markdown",
   "id": "9d4512e5",
   "metadata": {},
   "source": [
    "## Modules and configuration"
   ]
  },
  {
   "cell_type": "markdown",
   "id": "a24b300e",
   "metadata": {},
   "source": [
    "### Modules"
   ]
  },
  {
   "cell_type": "code",
   "execution_count": 515,
   "id": "bf7cc337",
   "metadata": {
    "ExecuteTime": {
     "end_time": "2022-01-31T19:25:26.101896Z",
     "start_time": "2022-01-31T19:25:26.095912Z"
    }
   },
   "outputs": [],
   "source": [
    "# Modules import:\n",
    "#from collections import OrderedDict\n",
    "\n",
    "import numpy as np\n",
    "\n",
    "from scipy import stats\n",
    "\n",
    "from astropy.table import Table\n",
    "from astropy.timeseries import TimeSeries\n",
    "from astropy import units as u\n",
    "from astropy.time import Time\n",
    "from astropy.io import fits\n",
    "\n",
    "import lightkurve as lk\n",
    "\n",
    "import matplotlib.pyplot as plt\n",
    "\n",
    "#import seaborn as sns\n",
    "#sns.set_style(\"white\", {'figure.figsize':(15,10)})\n",
    "#sns.set_style(\"whitegrid\")\n",
    "#sns.set(rc={'figure.figsize':(15,8)})"
   ]
  },
  {
   "cell_type": "markdown",
   "id": "be1f4594",
   "metadata": {},
   "source": [
    "### Configuration"
   ]
  },
  {
   "cell_type": "code",
   "execution_count": 516,
   "id": "f3feca3c",
   "metadata": {
    "ExecuteTime": {
     "end_time": "2022-01-31T19:25:26.116856Z",
     "start_time": "2022-01-31T19:25:26.102895Z"
    }
   },
   "outputs": [],
   "source": [
    "# Configuration:\n",
    "# Files:\n",
    "LC_INPUT_FILE = \"../data/CARMENES_GTO_TESS_lc/lightcurves/J00051+457/J00051+457_TESS_TIC439946126_S17.fits\"\n",
    "RV_INPUT_FILE = \"../data/CARMENES_GTO_RVs/J00051+457.dat\"\n",
    "\n",
    "IMAGE_LC_OUT = \"./img/ETL_20_01_Test_graph_TESS_Light_curve.png\"\n",
    "IMAGE_RV_OUT = \"./img/ETL_20_02_Test_graph_Radial_velocity_curve.png\"\n"
   ]
  },
  {
   "cell_type": "raw",
   "id": "8b89e6b4",
   "metadata": {
    "ExecuteTime": {
     "end_time": "2022-01-31T08:43:07.552300Z",
     "start_time": "2022-01-31T08:43:07.538343Z"
    }
   },
   "source": [
    "Table.read.list_formats()"
   ]
  },
  {
   "cell_type": "markdown",
   "id": "23973b4f",
   "metadata": {},
   "source": [
    "## TESS light curve inspection"
   ]
  },
  {
   "cell_type": "markdown",
   "id": "18a76a10",
   "metadata": {},
   "source": [
    "### TESS file initial inspection"
   ]
  },
  {
   "cell_type": "code",
   "execution_count": 517,
   "id": "8df60789",
   "metadata": {
    "ExecuteTime": {
     "end_time": "2022-01-31T19:25:26.163731Z",
     "start_time": "2022-01-31T19:25:26.117854Z"
    }
   },
   "outputs": [
    {
     "data": {
      "text/html": [
       "<i>Table length=5</i>\n",
       "<table id=\"table1220672541120\" class=\"table-striped table-bordered table-condensed\">\n",
       "<thead><tr><th>TIME</th><th>TIMECORR</th><th>CADENCENO</th><th>SAP_FLUX</th><th>SAP_FLUX_ERR</th><th>SAP_BKG</th><th>SAP_BKG_ERR</th><th>PDCSAP_FLUX</th><th>PDCSAP_FLUX_ERR</th><th>QUALITY</th><th>PSF_CENTR1</th><th>PSF_CENTR1_ERR</th><th>PSF_CENTR2</th><th>PSF_CENTR2_ERR</th><th>MOM_CENTR1</th><th>MOM_CENTR1_ERR</th><th>MOM_CENTR2</th><th>MOM_CENTR2_ERR</th><th>POS_CORR1</th><th>POS_CORR2</th></tr></thead>\n",
       "<thead><tr><th>BJD - 2457000, days</th><th>d</th><th></th><th>e-/s</th><th>e-/s</th><th>e-/s</th><th>e-/s</th><th>e-/s</th><th>e-/s</th><th></th><th>pix</th><th>pix</th><th>pix</th><th>pix</th><th>pix</th><th>pix</th><th>pix</th><th>pix</th><th>pixels</th><th>pixels</th></tr></thead>\n",
       "<thead><tr><th>float64</th><th>float32</th><th>int32</th><th>float32</th><th>float32</th><th>float32</th><th>float32</th><th>float32</th><th>float32</th><th>int32</th><th>float64</th><th>float32</th><th>float64</th><th>float32</th><th>float64</th><th>float32</th><th>float64</th><th>float32</th><th>float32</th><th>float32</th></tr></thead>\n",
       "<tr><td>1.7646832e+03</td><td>4.3311133e-03</td><td>386801</td><td>nan</td><td>nan</td><td>nan</td><td>nan</td><td>nan</td><td>nan</td><td>10101000</td><td>nan</td><td>nan</td><td>nan</td><td>nan</td><td>nan</td><td>nan</td><td>nan</td><td>nan</td><td>nan</td><td>nan</td></tr>\n",
       "<tr><td>1.7646846e+03</td><td>4.3311333e-03</td><td>386802</td><td>nan</td><td>nan</td><td>nan</td><td>nan</td><td>nan</td><td>nan</td><td>100000</td><td>nan</td><td>nan</td><td>nan</td><td>nan</td><td>nan</td><td>nan</td><td>nan</td><td>nan</td><td>nan</td><td>nan</td></tr>\n",
       "<tr><td>1.7646860e+03</td><td>4.3311534e-03</td><td>386803</td><td>nan</td><td>nan</td><td>nan</td><td>nan</td><td>nan</td><td>nan</td><td>100000</td><td>nan</td><td>nan</td><td>nan</td><td>nan</td><td>nan</td><td>nan</td><td>nan</td><td>nan</td><td>nan</td><td>nan</td></tr>\n",
       "<tr><td>1.7646874e+03</td><td>4.3311729e-03</td><td>386804</td><td>nan</td><td>nan</td><td>nan</td><td>nan</td><td>nan</td><td>nan</td><td>100000</td><td>nan</td><td>nan</td><td>nan</td><td>nan</td><td>nan</td><td>nan</td><td>nan</td><td>nan</td><td>nan</td><td>nan</td></tr>\n",
       "<tr><td>1.7646888e+03</td><td>4.3311929e-03</td><td>386805</td><td>8.5791609e+04</td><td>3.4615158e+01</td><td>2.7479731e+03</td><td>1.0910882e+01</td><td>8.9227219e+04</td><td>3.6116268e+01</td><td>0</td><td>nan</td><td>nan</td><td>nan</td><td>nan</td><td>1735.52932</td><td>3.3758229e-04</td><td>1882.66595</td><td>3.3336986e-04</td><td>9.4317487e-03</td><td>5.7261843e-02</td></tr>\n",
       "</table>"
      ],
      "text/plain": [
       "<Table length=5>\n",
       "        TIME           TIMECORR    CADENCENO  ...   POS_CORR1      POS_CORR2   \n",
       "BJD - 2457000, days       d                   ...     pixels         pixels    \n",
       "      float64          float32       int32    ...    float32        float32    \n",
       "------------------- -------------- ---------- ... -------------- --------------\n",
       "      1.7646832e+03  4.3311133e-03     386801 ...            nan            nan\n",
       "      1.7646846e+03  4.3311333e-03     386802 ...            nan            nan\n",
       "      1.7646860e+03  4.3311534e-03     386803 ...            nan            nan\n",
       "      1.7646874e+03  4.3311729e-03     386804 ...            nan            nan\n",
       "      1.7646888e+03  4.3311929e-03     386805 ...  9.4317487e-03  5.7261843e-02"
      ]
     },
     "execution_count": 517,
     "metadata": {},
     "output_type": "execute_result"
    }
   ],
   "source": [
    "tess_fits = Table.read(LC_INPUT_FILE, format='fits')\n",
    "tess_fits[:5]"
   ]
  },
  {
   "cell_type": "code",
   "execution_count": 518,
   "id": "0185674b",
   "metadata": {
    "ExecuteTime": {
     "end_time": "2022-01-31T19:25:26.179196Z",
     "start_time": "2022-01-31T19:25:26.164728Z"
    }
   },
   "outputs": [
    {
     "name": "stdout",
     "output_type": "stream",
     "text": [
      "<astropy.io.fits.hdu.image.PrimaryHDU object at 0x0000011C323BC2B0>\n",
      "<astropy.io.fits.hdu.table.BinTableHDU object at 0x0000011C31FEFC10>\n",
      "<astropy.io.fits.hdu.image.ImageHDU object at 0x0000011C306A0E50>\n"
     ]
    }
   ],
   "source": [
    "tess_fits = fits.open(LC_INPUT_FILE, format='tess.fits')\n",
    "print(tess_fits[0])\n",
    "print(tess_fits[1])\n",
    "print(tess_fits[2])"
   ]
  },
  {
   "cell_type": "markdown",
   "id": "d78c717e",
   "metadata": {},
   "source": [
    "The first HDU header contains general information for the object (non-dependent of acquisition time), including the object identification (`TICID`). First HDU has no data."
   ]
  },
  {
   "cell_type": "code",
   "execution_count": 519,
   "id": "f1e20d87",
   "metadata": {
    "ExecuteTime": {
     "end_time": "2022-01-31T19:25:26.195154Z",
     "start_time": "2022-01-31T19:25:26.180193Z"
    }
   },
   "outputs": [
    {
     "data": {
      "text/plain": [
       "SIMPLE  =                    T / conforms to FITS standards                     \n",
       "BITPIX  =                    8 / array data type                                \n",
       "NAXIS   =                    0 / number of array dimensions                     \n",
       "EXTEND  =                    T / file contains extensions                       \n",
       "NEXTEND =                    2 / number of standard extensions                  \n",
       "EXTNAME = 'PRIMARY '           / name of extension                              \n",
       "EXTVER  =                    1 / extension version number (not format version)  \n",
       "SIMDATA =                    F / file is based on simulated data                \n",
       "ORIGIN  = 'NASA/Ames'          / institution responsible for creating this file \n",
       "DATE    = '2020-04-11'         / file creation date.                            \n",
       "TSTART  =    1764.688076527806 / observation start time in BTJD                 \n",
       "TSTOP   =    1789.682359955120 / observation stop time in BTJD                  \n",
       "DATE-OBS= '2019-10-08T04:29:40.628' / TSTART as UTC calendar date               \n",
       "DATE-END= '2019-11-02T04:21:26.716' / TSTOP as UTC calendar date                \n",
       "CREATOR = '21228 LightCurveExporterPipelineModule' / pipeline job and program us\n",
       "PROCVER = 'spoc-4.0.28-20200407' / SW version                                   \n",
       "FILEVER = '1.0     '           / file format version                            \n",
       "TIMVERSN= 'OGIP/93-003'        / OGIP memo number for file format               \n",
       "TELESCOP= 'TESS    '           / telescope                                      \n",
       "INSTRUME= 'TESS Photometer'    / detector type                                  \n",
       "DATA_REL=                   30 / data release version number                    \n",
       "OBJECT  = 'TIC 439946126'      / string version of target id                    \n",
       "TICID   =            439946126 / unique tess target identifier                  \n",
       "SECTOR  =                   17 / Observing sector                               \n",
       "CAMERA  =                    2 / Camera number                                  \n",
       "CCD     =                    3 / CCD chip number                                \n",
       "PXTABLE =                  176 / pixel table id                                 \n",
       "RADESYS = 'ICRS    '           / reference frame of celestial coordinates       \n",
       "RA_OBJ  =   1.2953715625718100 / [deg] right ascension                          \n",
       "DEC_OBJ =  45.7865665447841000 / [deg] declination                              \n",
       "EQUINOX =               2000.0 / equinox of celestial coordinate system         \n",
       "PMRA    =         870.75300000 / [mas/yr] RA proper motion                      \n",
       "PMDEC   =        -151.26700000 / [mas/yr] Dec proper motion                     \n",
       "PMTOTAL =         883.79437218 / [mas/yr] total proper motion                   \n",
       "TESSMAG =           8.02890015 / [mag] TESS magnitude                           \n",
       "TEFF    =        3661.00000000 / [K] Effective temperature                      \n",
       "LOGG    =           4.72399998 / [cm/s2] log10 surface gravity                  \n",
       "MH      =                      / [log10([M/H])] metallicity                     \n",
       "RADIUS  =           0.51534301 / [solar radii] stellar radius                   \n",
       "TICVER  =                    8 / TICVER                                         \n",
       "CRMITEN =                    T / spacecraft cosmic ray mitigation enabled       \n",
       "CRBLKSZ =                   10 / [exposures] s/c cosmic ray mitigation block siz\n",
       "CRSPOC  =                    F / SPOC cosmic ray cleaning enabled               \n",
       "CHECKSUM= 'brNHdoKEboKEboKE'   / HDU checksum updated 2020-04-11T04:11:11Z      "
      ]
     },
     "execution_count": 519,
     "metadata": {},
     "output_type": "execute_result"
    }
   ],
   "source": [
    "tess_fits[0].header"
   ]
  },
  {
   "cell_type": "code",
   "execution_count": 520,
   "id": "8df6f8a0",
   "metadata": {
    "ExecuteTime": {
     "end_time": "2022-01-31T19:25:26.211112Z",
     "start_time": "2022-01-31T19:25:26.196156Z"
    }
   },
   "outputs": [],
   "source": [
    "tess_fits[0].data"
   ]
  },
  {
   "cell_type": "markdown",
   "id": "c31f2d14",
   "metadata": {},
   "source": [
    "The second HDU contains the light curve data proper. The header contains mainly the column descriptions, the object identification (`TICID`) and the necessary data to know when the observation has been done, the total time spent on target, etc. The data is the light curve data with all the measured points.\n",
    "\n",
    "According to the documentation, the column type should always be on `BJD - 2457000, days` units, but maybe better to individually double-check the `BJDREFI` and `BJDREFF` keywords, containing the time reference values."
   ]
  },
  {
   "cell_type": "code",
   "execution_count": 521,
   "id": "50fd11bf",
   "metadata": {
    "ExecuteTime": {
     "end_time": "2022-01-31T19:25:26.227069Z",
     "start_time": "2022-01-31T19:25:26.212108Z"
    },
    "scrolled": false
   },
   "outputs": [
    {
     "data": {
      "text/plain": [
       "XTENSION= 'BINTABLE'           / marks the beginning of a new HDU               \n",
       "BITPIX  =                    8 / array data type                                \n",
       "NAXIS   =                    2 / number of array dimensions                     \n",
       "NAXIS1  =                  100 / length of first array dimension                \n",
       "NAXIS2  =                18012 / length of second array dimension               \n",
       "PCOUNT  =                    0 / group parameter count (not used)               \n",
       "GCOUNT  =                    1 / group count (not used)                         \n",
       "TFIELDS =                   20 / number of table fields                         \n",
       "TTYPE1  = 'TIME    '           / column title: data time stamps                 \n",
       "TFORM1  = 'D       '           / column format: 64-bit floating point           \n",
       "TUNIT1  = 'BJD - 2457000, days' / column units: Barycenter corrected TESS Julian\n",
       "TDISP1  = 'D14.7   '           / column display format                          \n",
       "TTYPE2  = 'TIMECORR'           / column title: barycentric correction           \n",
       "TFORM2  = 'E       '           / column format: 32-bit floating point           \n",
       "TUNIT2  = 'd       '           / column units: Days                             \n",
       "TDISP2  = 'E14.7   '           / column display format                          \n",
       "TTYPE3  = 'CADENCENO'          / column title: unique cadence number            \n",
       "TFORM3  = 'J       '           / column format: signed 32-bit integer           \n",
       "TDISP3  = 'I10     '           / column display format                          \n",
       "TTYPE4  = 'SAP_FLUX'           / column title: aperture photometry flux         \n",
       "TFORM4  = 'E       '           / column format: 32-bit floating point           \n",
       "TUNIT4  = 'e-/s    '           / column units: electrons per second             \n",
       "TDISP4  = 'E14.7   '           / column display format                          \n",
       "TTYPE5  = 'SAP_FLUX_ERR'       / column title: aperture phot. flux error        \n",
       "TFORM5  = 'E       '           / column format: 32-bit floating point           \n",
       "TUNIT5  = 'e-/s    '           / column units: electrons per second (1-sigma)   \n",
       "TDISP5  = 'E14.7   '           / column display format                          \n",
       "TTYPE6  = 'SAP_BKG '           / column title: aperture phot. background flux   \n",
       "TFORM6  = 'E       '           / column format: 32-bit floating point           \n",
       "TUNIT6  = 'e-/s    '           / column units: electrons per second             \n",
       "TDISP6  = 'E14.7   '           / column display format                          \n",
       "TTYPE7  = 'SAP_BKG_ERR'        / column title: ap. phot. background flux error  \n",
       "TFORM7  = 'E       '           / column format: 32-bit floating point           \n",
       "TUNIT7  = 'e-/s    '           / column units: electrons per second (1-sigma)   \n",
       "TDISP7  = 'E14.7   '           / column display format                          \n",
       "TTYPE8  = 'PDCSAP_FLUX'        / column title: aperture phot. PDC flux          \n",
       "TFORM8  = 'E       '           / column format: 32-bit floating point           \n",
       "TUNIT8  = 'e-/s    '           / column units: electrons per second             \n",
       "TDISP8  = 'E14.7   '           / column display format                          \n",
       "TTYPE9  = 'PDCSAP_FLUX_ERR'    / column title: ap. phot. PDC flux error         \n",
       "TFORM9  = 'E       '           / column format: 32-bit floating point           \n",
       "TUNIT9  = 'e-/s    '           / column units: electrons per second (1-sigma)   \n",
       "TDISP9  = 'E14.7   '           / column display format                          \n",
       "TTYPE10 = 'QUALITY '           / column title: aperture photometry quality flag \n",
       "TFORM10 = 'J       '           / column format: signed 32-bit integer           \n",
       "TDISP10 = 'B16.16  '           / column display format                          \n",
       "TTYPE11 = 'PSF_CENTR1'         / column title: PSF-fitted column centroid       \n",
       "TFORM11 = 'D       '           / column format: 64-bit floating point           \n",
       "TUNIT11 = 'pixel   '           / column units: pixel                            \n",
       "TDISP11 = 'F10.5   '           / column display format                          \n",
       "TTYPE12 = 'PSF_CENTR1_ERR'     / column title: PSF-fitted column error          \n",
       "TFORM12 = 'E       '           / column format: 32-bit floating point           \n",
       "TUNIT12 = 'pixel   '           / column units: pixel (1-sigma)                  \n",
       "TDISP12 = 'E14.7   '           / column display format                          \n",
       "TTYPE13 = 'PSF_CENTR2'         / column title: PSF-fitted row centroid          \n",
       "TFORM13 = 'D       '           / column format: 64-bit floating point           \n",
       "TUNIT13 = 'pixel   '           / column units: pixel                            \n",
       "TDISP13 = 'F10.5   '           / column display format                          \n",
       "TTYPE14 = 'PSF_CENTR2_ERR'     / column title: PSF-fitted row error             \n",
       "TFORM14 = 'E       '           / column format: 32-bit floating point           \n",
       "TUNIT14 = 'pixel   '           / column units: pixel (1-sigma)                  \n",
       "TDISP14 = 'E14.7   '           / column display format                          \n",
       "TTYPE15 = 'MOM_CENTR1'         / column title: moment-derived column centroid   \n",
       "TFORM15 = 'D       '           / column format: 64-bit floating point           \n",
       "TUNIT15 = 'pixel   '           / column units: pixel                            \n",
       "TDISP15 = 'F10.5   '           / column display format                          \n",
       "TTYPE16 = 'MOM_CENTR1_ERR'     / column title: moment-derived column error      \n",
       "TFORM16 = 'E       '           / column format: 32-bit floating point           \n",
       "TUNIT16 = 'pixel   '           / column units: pixel (1-sigma)                  \n",
       "TDISP16 = 'E14.7   '           / column display format                          \n",
       "TTYPE17 = 'MOM_CENTR2'         / column title: moment-derived row centroid      \n",
       "TFORM17 = 'D       '           / column format: 64-bit floating point           \n",
       "TUNIT17 = 'pixel   '           / column units: pixel                            \n",
       "TDISP17 = 'F10.5   '           / column display format                          \n",
       "TTYPE18 = 'MOM_CENTR2_ERR'     / column title: moment-derived row error         \n",
       "TFORM18 = 'E       '           / column format: 32-bit floating point           \n",
       "TUNIT18 = 'pixel   '           / column units: pixel (1-sigma)                  \n",
       "TDISP18 = 'E14.7   '           / column display format                          \n",
       "TTYPE19 = 'POS_CORR1'          / column title: column position correction       \n",
       "TFORM19 = 'E       '           / column format: 32-bit floating point           \n",
       "TUNIT19 = 'pixels  '           / column units: pixel                            \n",
       "TDISP19 = 'E14.7   '           / column display format                          \n",
       "TTYPE20 = 'POS_CORR2'          / column title: row position correction          \n",
       "TFORM20 = 'E       '           / column format: 32-bit floating point           \n",
       "TUNIT20 = 'pixels  '           / column units: pixel                            \n",
       "TDISP20 = 'E14.7   '           / column display format                          \n",
       "INHERIT =                    T / inherit the primary header                     \n",
       "EXTNAME = 'LIGHTCURVE'         / name of extension                              \n",
       "EXTVER  =                    1 / extension version number (not format version)  \n",
       "SIMDATA =                    F / file is based on simulated data                \n",
       "TELESCOP= 'TESS    '           / telescope                                      \n",
       "INSTRUME= 'TESS Photometer'    / detector type                                  \n",
       "OBJECT  = 'TIC 439946126'      / string version of target id                    \n",
       "TICID   =            439946126 / unique tess target identifier                  \n",
       "RADESYS = 'ICRS    '           / reference frame of celestial coordinates       \n",
       "RA_OBJ  =   1.3022395818344232 / [deg] right ascension                          \n",
       "DEC_OBJ =  45.7865665447841000 / [deg] declination                              \n",
       "EQUINOX =               2000.0 / equinox of celestial coordinate system         \n",
       "EXPOSURE=      19.795472657766 / [d] time on source                             \n",
       "TIMEREF = 'SOLARSYSTEM'        / barycentric correction applied to times        \n",
       "TASSIGN = 'SPACECRAFT'         / where time is assigned                         \n",
       "TIMESYS = 'TDB     '           / time system is Barycentric Dynamical Time (TDB)\n",
       "BJDREFI =              2457000 / integer part of BTJD reference date            \n",
       "BJDREFF =           0.00000000 / fraction of the day in BTJD reference date     \n",
       "TIMEUNIT= 'd       '           / time unit for TIME, TSTART and TSTOP           \n",
       "TELAPSE =      24.994283658796 / [d] TSTOP - TSTART                             \n",
       "LIVETIME=  19.7954726577663500 / [d] TELAPSE multiplied by DEADC                \n",
       "TSTART  =    1764.688076527806 / observation start time in BTJD                 \n",
       "TSTOP   =    1789.682359955120 / observation stop time in BTJD                  \n",
       "DATE-OBS= '2019-10-08T04:29:40.628' / TSTART as UTC calendar date               \n",
       "DATE-END= '2019-11-02T04:21:26.716' / TSTOP as UTC calendar date                \n",
       "DEADC   =   0.7920000000000000 / deadtime correction                            \n",
       "TIMEPIXR=                  0.5 / bin time beginning=0 middle=0.5 end=1          \n",
       "TIERRELA=             1.16E-05 / [d] relative time error                        \n",
       "INT_TIME=       1.980000000000 / [s] photon accumulation time per frame         \n",
       "READTIME=       0.020000000000 / [s] readout time per frame                     \n",
       "FRAMETIM=       2.000000000000 / [s] frame time (INT_TIME + READTIME)           \n",
       "NUM_FRM =                   60 / number of frames per time stamp                \n",
       "TIMEDEL = 0.001388888888888889 / [d] time resolution of data                    \n",
       "BACKAPP =                    T / background is subtracted                       \n",
       "DEADAPP =                    T / deadtime applied                               \n",
       "VIGNAPP =                    T / vignetting or collimator correction applied    \n",
       "GAINA   =     5.28000020980835 / [electrons/count] CCD output A gain            \n",
       "GAINB   =    5.260000228881836 / [electrons/count] CCD output B gain            \n",
       "GAINC   =                 5.25 / [electrons/count] CCD output C gain            \n",
       "GAIND   =    5.210000038146973 / [electrons/count] CCD output D gain            \n",
       "READNOIA=    9.873600006103516 / [electrons] read noise CCD output A            \n",
       "READNOIB=     7.62700080871582 / [electrons] read noise CCD output B            \n",
       "READNOIC=     7.71750020980835 / [electrons] read noise CCD output C            \n",
       "READNOID=     9.89900016784668 / [electrons] read noise CCD output D            \n",
       "NREADOUT=                   48 / number of read per cadence                     \n",
       "FXDOFF  =               209700 / compression fixed offset                       \n",
       "CDPP0_5 =         172.42916870 / RMS CDPP on 0.5-hr time scales                 \n",
       "CDPP1_0 =         132.69975281 / RMS CDPP on 1.0-hr time scales                 \n",
       "CDPP2_0 =         109.48915100 / RMS CDPP on 2.0-hr time scales                 \n",
       "CROWDSAP=           0.99789518 / Ratio of target flux to total flux in op. ap.  \n",
       "FLFRCSAP=           0.95843679 / Frac. of target flux w/in the op. aperture     \n",
       "NSPSDDET=                    0 / Number of SPSDs detected                       \n",
       "NSPSDCOR=                    0 / Number of SPSDs corrected                      \n",
       "PDCVAR  =    2.697172212175447 / Target variability                             \n",
       "PDCMETHD= 'msMAP   '           / PDC algorithm used for target                  \n",
       "NUMBAND =                    3 / Number of scale bands                          \n",
       "FITTYPE1= 'reducedRobust'      / Fit type used for band 1                       \n",
       "PR_GOOD1=   0.9907383918762207 / Prior goodness for band 1                      \n",
       "PR_WGHT1=                  0.0 / Prior weight for band 1                        \n",
       "FITTYPE2= 'prior   '           / Fit type used for band 2                       \n",
       "PR_GOOD2=   0.9702998995780945 / Prior goodness for band 2                      \n",
       "PR_WGHT2=    265.2621765136719 / Prior weight for band 2                        \n",
       "FITTYPE3= 'prior   '           / Fit type used for band 3                       \n",
       "PR_GOOD3=    0.499786913394928 / Prior goodness for band 3                      \n",
       "PR_WGHT3=     136.632568359375 / Prior weight for band 3                        \n",
       "PDC_TOT =   0.9177185297012329 / PDC total goodness metric for target           \n",
       "PDC_TOTP=    18.34314727783203 / PDC_TOT percentile compared to mod/out         \n",
       "PDC_COR =   0.9594070315361023 / PDC correlation goodness metric for target     \n",
       "PDC_CORP=   25.952043533325195 / PDC_COR percentile compared to mod/out         \n",
       "PDC_VAR =                      / PDC variability goodness metric for target     \n",
       "PDC_VARP=                      / PDC_VAR percentile compared to mod/out         \n",
       "PDC_NOI =   0.9935827255249023 / PDC noise goodness metric for target           \n",
       "PDC_NOIP=    28.01312828063965 / PDC_NOI percentile compared to mod/out         \n",
       "PDC_EPT =                      / PDC earth point goodness metric for target     \n",
       "PDC_EPTP=                      / PDC_EPT percentile compared to mod/out         \n",
       "CHECKSUM= '9hG8JfF79fF7GfF7'   / HDU checksum updated 2020-04-11T04:11:11Z      \n",
       "TMOFST23=   1.5399999618530273 / (s) readout delay for camera 2 and ccd 3       \n",
       "MEANBLCA=                 6812 / [count] FSW mean black level CCD output A      \n",
       "MEANBLCB=                 6724 / [count] FSW mean black level CCD output B      \n",
       "MEANBLCC=                 6753 / [count] FSW mean black level CCD output C      \n",
       "MEANBLCD=                 6433 / [count] FSW mean black level CCD output D      "
      ]
     },
     "execution_count": 521,
     "metadata": {},
     "output_type": "execute_result"
    }
   ],
   "source": [
    "tess_fits[1].header"
   ]
  },
  {
   "cell_type": "markdown",
   "id": "00801f8d",
   "metadata": {},
   "source": [
    "Extracting time references and object ID from FITS header:"
   ]
  },
  {
   "cell_type": "code",
   "execution_count": 522,
   "id": "92a280e8",
   "metadata": {
    "ExecuteTime": {
     "end_time": "2022-01-31T19:25:26.243026Z",
     "start_time": "2022-01-31T19:25:26.228066Z"
    }
   },
   "outputs": [
    {
     "name": "stdout",
     "output_type": "stream",
     "text": [
      "OBJECT = TIC 439946126\n",
      "BJDREFI = 2457000; BJDREFF = 0.000000\n"
     ]
    }
   ],
   "source": [
    "object_id = tess_fits[1].header['OBJECT']\n",
    "bjdrefi = tess_fits[1].header['BJDREFI']\n",
    "bjdreff = tess_fits[1].header['BJDREFF']\n",
    "print(\"OBJECT = %s\" %object_id)\n",
    "print(\"BJDREFI = %d; BJDREFF = %f\" %(bjdrefi,bjdreff))"
   ]
  },
  {
   "cell_type": "code",
   "execution_count": 523,
   "id": "bff0f756",
   "metadata": {
    "ExecuteTime": {
     "end_time": "2022-01-31T19:25:26.273944Z",
     "start_time": "2022-01-31T19:25:26.244024Z"
    }
   },
   "outputs": [
    {
     "data": {
      "text/html": [
       "<i>Table length=18012</i>\n",
       "<table id=\"table1220640639872\" class=\"table-striped table-bordered table-condensed\">\n",
       "<thead><tr><th>TIME</th><th>TIMECORR</th><th>CADENCENO</th><th>SAP_FLUX</th><th>SAP_FLUX_ERR</th><th>SAP_BKG</th><th>SAP_BKG_ERR</th><th>PDCSAP_FLUX</th><th>PDCSAP_FLUX_ERR</th><th>QUALITY</th><th>PSF_CENTR1</th><th>PSF_CENTR1_ERR</th><th>PSF_CENTR2</th><th>PSF_CENTR2_ERR</th><th>MOM_CENTR1</th><th>MOM_CENTR1_ERR</th><th>MOM_CENTR2</th><th>MOM_CENTR2_ERR</th><th>POS_CORR1</th><th>POS_CORR2</th></tr></thead>\n",
       "<thead><tr><th>float64</th><th>float32</th><th>int32</th><th>float32</th><th>float32</th><th>float32</th><th>float32</th><th>float32</th><th>float32</th><th>int32</th><th>float64</th><th>float32</th><th>float64</th><th>float32</th><th>float64</th><th>float32</th><th>float64</th><th>float32</th><th>float32</th><th>float32</th></tr></thead>\n",
       "<tr><td>1764.6832152336806</td><td>0.0043311133</td><td>386801</td><td>nan</td><td>nan</td><td>nan</td><td>nan</td><td>nan</td><td>nan</td><td>168</td><td>nan</td><td>nan</td><td>nan</td><td>nan</td><td>nan</td><td>nan</td><td>nan</td><td>nan</td><td>nan</td><td>nan</td></tr>\n",
       "<tr><td>1764.68460414199</td><td>0.0043311333</td><td>386802</td><td>nan</td><td>nan</td><td>nan</td><td>nan</td><td>nan</td><td>nan</td><td>32</td><td>nan</td><td>nan</td><td>nan</td><td>nan</td><td>nan</td><td>nan</td><td>nan</td><td>nan</td><td>nan</td><td>nan</td></tr>\n",
       "<tr><td>1764.6859930502992</td><td>0.0043311534</td><td>386803</td><td>nan</td><td>nan</td><td>nan</td><td>nan</td><td>nan</td><td>nan</td><td>32</td><td>nan</td><td>nan</td><td>nan</td><td>nan</td><td>nan</td><td>nan</td><td>nan</td><td>nan</td><td>nan</td><td>nan</td></tr>\n",
       "<tr><td>1764.6873819581429</td><td>0.004331173</td><td>386804</td><td>nan</td><td>nan</td><td>nan</td><td>nan</td><td>nan</td><td>nan</td><td>32</td><td>nan</td><td>nan</td><td>nan</td><td>nan</td><td>nan</td><td>nan</td><td>nan</td><td>nan</td><td>nan</td><td>nan</td></tr>\n",
       "<tr><td>1764.6887708664522</td><td>0.004331193</td><td>386805</td><td>85791.61</td><td>34.615158</td><td>2747.9731</td><td>10.910882</td><td>89227.22</td><td>36.11627</td><td>0</td><td>nan</td><td>nan</td><td>nan</td><td>nan</td><td>1735.5293227528875</td><td>0.00033758229</td><td>1882.6659477150336</td><td>0.00033336986</td><td>0.009431749</td><td>0.057261843</td></tr>\n",
       "<tr><td>1764.6901597747617</td><td>0.004331213</td><td>386806</td><td>85780.03</td><td>34.611183</td><td>2745.1716</td><td>10.87844</td><td>89208.914</td><td>36.112118</td><td>0</td><td>nan</td><td>nan</td><td>nan</td><td>nan</td><td>1735.5293176414175</td><td>0.000338021</td><td>1882.6678256370465</td><td>0.0003332272</td><td>0.009436345</td><td>0.0592886</td></tr>\n",
       "<tr><td>1764.691548683071</td><td>0.004331233</td><td>386807</td><td>85705.44</td><td>34.62287</td><td>2747.186</td><td>10.951503</td><td>89153.25</td><td>36.124313</td><td>0</td><td>nan</td><td>nan</td><td>nan</td><td>nan</td><td>1735.535090082888</td><td>0.000338426</td><td>1882.6683138167946</td><td>0.00033349846</td><td>0.014921385</td><td>0.059195742</td></tr>\n",
       "<tr><td>1764.692937591381</td><td>0.004331253</td><td>386808</td><td>85627.46</td><td>34.613247</td><td>2746.4187</td><td>10.939362</td><td>89087.57</td><td>36.11427</td><td>0</td><td>nan</td><td>nan</td><td>nan</td><td>nan</td><td>1735.5261484955818</td><td>0.0003392005</td><td>1882.661519918828</td><td>0.00033427303</td><td>0.006309681</td><td>0.052819252</td></tr>\n",
       "<tr><td>1764.6943264996912</td><td>0.004331273</td><td>386809</td><td>85788.51</td><td>34.634773</td><td>2756.085</td><td>10.93817</td><td>89209.93</td><td>36.136734</td><td>0</td><td>nan</td><td>nan</td><td>nan</td><td>nan</td><td>1735.529772883562</td><td>0.00033840782</td><td>1882.6658577586154</td><td>0.00033353933</td><td>0.01005409</td><td>0.058345847</td></tr>\n",
       "<tr><td>1764.6957154075349</td><td>0.0043312926</td><td>386810</td><td>85803.26</td><td>34.61946</td><td>2750.2805</td><td>10.927849</td><td>89232.195</td><td>36.120758</td><td>0</td><td>nan</td><td>nan</td><td>nan</td><td>nan</td><td>1735.533133770552</td><td>0.0003375125</td><td>1882.6678720235486</td><td>0.00033296234</td><td>0.01333972</td><td>0.058859117</td></tr>\n",
       "<tr><td>...</td><td>...</td><td>...</td><td>...</td><td>...</td><td>...</td><td>...</td><td>...</td><td>...</td><td>...</td><td>...</td><td>...</td><td>...</td><td>...</td><td>...</td><td>...</td><td>...</td><td>...</td><td>...</td><td>...</td></tr>\n",
       "<tr><td>1789.685832244078</td><td>0.004181195</td><td>404803</td><td>nan</td><td>nan</td><td>nan</td><td>nan</td><td>nan</td><td>nan</td><td>16</td><td>nan</td><td>nan</td><td>nan</td><td>nan</td><td>nan</td><td>nan</td><td>nan</td><td>nan</td><td>nan</td><td>nan</td></tr>\n",
       "<tr><td>1789.6872211132727</td><td>0.004181176</td><td>404804</td><td>nan</td><td>nan</td><td>nan</td><td>nan</td><td>nan</td><td>nan</td><td>16</td><td>nan</td><td>nan</td><td>nan</td><td>nan</td><td>nan</td><td>nan</td><td>nan</td><td>nan</td><td>nan</td><td>nan</td></tr>\n",
       "<tr><td>1789.6886099824678</td><td>0.004181157</td><td>404805</td><td>nan</td><td>nan</td><td>nan</td><td>nan</td><td>nan</td><td>nan</td><td>16</td><td>nan</td><td>nan</td><td>nan</td><td>nan</td><td>nan</td><td>nan</td><td>nan</td><td>nan</td><td>nan</td><td>nan</td></tr>\n",
       "<tr><td>1789.6899988516623</td><td>0.004181138</td><td>404806</td><td>nan</td><td>nan</td><td>nan</td><td>nan</td><td>nan</td><td>nan</td><td>16</td><td>nan</td><td>nan</td><td>nan</td><td>nan</td><td>nan</td><td>nan</td><td>nan</td><td>nan</td><td>nan</td><td>nan</td></tr>\n",
       "<tr><td>1789.691387721322</td><td>0.004181119</td><td>404807</td><td>nan</td><td>nan</td><td>nan</td><td>nan</td><td>nan</td><td>nan</td><td>16</td><td>nan</td><td>nan</td><td>nan</td><td>nan</td><td>nan</td><td>nan</td><td>nan</td><td>nan</td><td>nan</td><td>nan</td></tr>\n",
       "<tr><td>1789.6927765905157</td><td>0.0041811</td><td>404808</td><td>nan</td><td>nan</td><td>nan</td><td>nan</td><td>nan</td><td>nan</td><td>16</td><td>nan</td><td>nan</td><td>nan</td><td>nan</td><td>nan</td><td>nan</td><td>nan</td><td>nan</td><td>nan</td><td>nan</td></tr>\n",
       "<tr><td>1789.6941654597094</td><td>0.004181081</td><td>404809</td><td>nan</td><td>nan</td><td>nan</td><td>nan</td><td>nan</td><td>nan</td><td>16</td><td>nan</td><td>nan</td><td>nan</td><td>nan</td><td>nan</td><td>nan</td><td>nan</td><td>nan</td><td>nan</td><td>nan</td></tr>\n",
       "<tr><td>1789.695554328904</td><td>0.004181062</td><td>404810</td><td>nan</td><td>nan</td><td>nan</td><td>nan</td><td>nan</td><td>nan</td><td>16</td><td>nan</td><td>nan</td><td>nan</td><td>nan</td><td>nan</td><td>nan</td><td>nan</td><td>nan</td><td>nan</td><td>nan</td></tr>\n",
       "<tr><td>1789.6969431980986</td><td>0.004181043</td><td>404811</td><td>nan</td><td>nan</td><td>nan</td><td>nan</td><td>nan</td><td>nan</td><td>16</td><td>nan</td><td>nan</td><td>nan</td><td>nan</td><td>nan</td><td>nan</td><td>nan</td><td>nan</td><td>nan</td><td>nan</td></tr>\n",
       "<tr><td>1789.6983320672923</td><td>0.0041810237</td><td>404812</td><td>nan</td><td>nan</td><td>nan</td><td>nan</td><td>nan</td><td>nan</td><td>16</td><td>nan</td><td>nan</td><td>nan</td><td>nan</td><td>nan</td><td>nan</td><td>nan</td><td>nan</td><td>nan</td><td>nan</td></tr>\n",
       "</table>"
      ],
      "text/plain": [
       "<Table length=18012>\n",
       "       TIME          TIMECORR   CADENCENO ...  POS_CORR1   POS_CORR2 \n",
       "     float64         float32      int32   ...   float32     float32  \n",
       "------------------ ------------ --------- ... ----------- -----------\n",
       "1764.6832152336806 0.0043311133    386801 ...         nan         nan\n",
       "  1764.68460414199 0.0043311333    386802 ...         nan         nan\n",
       "1764.6859930502992 0.0043311534    386803 ...         nan         nan\n",
       "1764.6873819581429  0.004331173    386804 ...         nan         nan\n",
       "1764.6887708664522  0.004331193    386805 ... 0.009431749 0.057261843\n",
       "1764.6901597747617  0.004331213    386806 ... 0.009436345   0.0592886\n",
       " 1764.691548683071  0.004331233    386807 ... 0.014921385 0.059195742\n",
       " 1764.692937591381  0.004331253    386808 ... 0.006309681 0.052819252\n",
       "1764.6943264996912  0.004331273    386809 ...  0.01005409 0.058345847\n",
       "1764.6957154075349 0.0043312926    386810 ...  0.01333972 0.058859117\n",
       "               ...          ...       ... ...         ...         ...\n",
       " 1789.685832244078  0.004181195    404803 ...         nan         nan\n",
       "1789.6872211132727  0.004181176    404804 ...         nan         nan\n",
       "1789.6886099824678  0.004181157    404805 ...         nan         nan\n",
       "1789.6899988516623  0.004181138    404806 ...         nan         nan\n",
       " 1789.691387721322  0.004181119    404807 ...         nan         nan\n",
       "1789.6927765905157    0.0041811    404808 ...         nan         nan\n",
       "1789.6941654597094  0.004181081    404809 ...         nan         nan\n",
       " 1789.695554328904  0.004181062    404810 ...         nan         nan\n",
       "1789.6969431980986  0.004181043    404811 ...         nan         nan\n",
       "1789.6983320672923 0.0041810237    404812 ...         nan         nan"
      ]
     },
     "execution_count": 523,
     "metadata": {},
     "output_type": "execute_result"
    }
   ],
   "source": [
    "Table(tess_fits[1].data)"
   ]
  },
  {
   "cell_type": "code",
   "execution_count": 524,
   "id": "a8cd8e0f",
   "metadata": {
    "ExecuteTime": {
     "end_time": "2022-01-31T19:25:26.288903Z",
     "start_time": "2022-01-31T19:25:26.274951Z"
    }
   },
   "outputs": [
    {
     "data": {
      "text/plain": [
       "dtype((numpy.record, [('TIME', '>f8'), ('TIMECORR', '>f4'), ('CADENCENO', '>i4'), ('SAP_FLUX', '>f4'), ('SAP_FLUX_ERR', '>f4'), ('SAP_BKG', '>f4'), ('SAP_BKG_ERR', '>f4'), ('PDCSAP_FLUX', '>f4'), ('PDCSAP_FLUX_ERR', '>f4'), ('QUALITY', '>i4'), ('PSF_CENTR1', '>f8'), ('PSF_CENTR1_ERR', '>f4'), ('PSF_CENTR2', '>f8'), ('PSF_CENTR2_ERR', '>f4'), ('MOM_CENTR1', '>f8'), ('MOM_CENTR1_ERR', '>f4'), ('MOM_CENTR2', '>f8'), ('MOM_CENTR2_ERR', '>f4'), ('POS_CORR1', '>f4'), ('POS_CORR2', '>f4')]))"
      ]
     },
     "execution_count": 524,
     "metadata": {},
     "output_type": "execute_result"
    }
   ],
   "source": [
    "tess_fits[1].data.dtype"
   ]
  },
  {
   "cell_type": "markdown",
   "id": "01574a66",
   "metadata": {},
   "source": [
    "The third HDU contains the aperture mask. Header also includes object identification (`TICID`), and data is the mask itself."
   ]
  },
  {
   "cell_type": "code",
   "execution_count": 525,
   "id": "6d6aad01",
   "metadata": {
    "ExecuteTime": {
     "end_time": "2022-01-31T19:25:26.304860Z",
     "start_time": "2022-01-31T19:25:26.289901Z"
    }
   },
   "outputs": [
    {
     "data": {
      "text/plain": [
       "XTENSION= 'IMAGE   '           / marks the beginning of a new HDU               \n",
       "BITPIX  =                   32 / array data type                                \n",
       "NAXIS   =                    2 / number of array dimensions                     \n",
       "NAXIS1  =                   11 / length of first array dimension                \n",
       "NAXIS2  =                   13 / length of second array dimension               \n",
       "PCOUNT  =                    0 / group parameter count (not used)               \n",
       "GCOUNT  =                    1 / group count (not used)                         \n",
       "INHERIT =                    T / inherit the primary header                     \n",
       "EXTNAME = 'APERTURE'           / name of extension                              \n",
       "EXTVER  =                    1 / extension version number (not format version)  \n",
       "SIMDATA =                    F / file is based on simulated data                \n",
       "TELESCOP= 'TESS    '           / telescope                                      \n",
       "INSTRUME= 'TESS Photometer'    / detector type                                  \n",
       "OBJECT  = 'TIC 439946126'      / string version of target id                    \n",
       "TICID   =            439946126 / unique tess target identifier                  \n",
       "RADESYS = 'ICRS    '           / reference frame of celestial coordinates       \n",
       "RA_OBJ  =   1.3022395818344232 / [deg] right ascension                          \n",
       "DEC_OBJ =  45.7865665447841000 / [deg] declination                              \n",
       "EQUINOX =               2000.0 / equinox of celestial coordinate system         \n",
       "WCSAXES =                    2 / number of WCS axes                             \n",
       "CTYPE1  = 'RA---TAN'           / right ascension coordinate type                \n",
       "CTYPE2  = 'DEC--TAN'           / declination coordinate type                    \n",
       "CRPIX1  =   6.5036216640144175 / [pixel] reference pixel along image axis 1     \n",
       "CRPIX2  =    7.597043965552302 / [pixel] reference pixel along image axis 2     \n",
       "CRVAL1  =   1.3022395818344232 / [deg] right ascension at reference pixel       \n",
       "CRVAL2  =  45.7857345491598340 / [deg] declination at reference pixel           \n",
       "CUNIT1  = 'deg     '           / physical unit in column dimension              \n",
       "CUNIT2  = 'deg     '           / physical unit in row dimension                 \n",
       "CDELT1  = -0.00587073752698941 / [deg] pixel scale in RA dimension              \n",
       "CDELT2  =  0.00587073752698941 / [deg] pixel scale in Dec dimension             \n",
       "PC1_1   =  -0.8327595079180101 / linear transformation element cos(th)          \n",
       "PC1_2   =   0.5547098820683035 / linear transformation element -sin(th)         \n",
       "PC2_1   =   0.5525233405322845 / linear transformation element sin(th)          \n",
       "PC2_2   =   0.8327852595369363 / linear transformation element cos(th)          \n",
       "WCSNAMEP= 'PHYSICAL'           / name of world coordinate system alternate P    \n",
       "WCSAXESP=                    2 / number of WCS physical axes                    \n",
       "CTYPE1P = 'RAWX    '           / physical WCS axis 1 type CCD col               \n",
       "CUNIT1P = 'PIXEL   '           / physical WCS axis 1 unit                       \n",
       "CRPIX1P =                    1 / reference CCD column                           \n",
       "CRVAL1P =                 1730 / value at reference CCD column                  \n",
       "CDELT1P =                  1.0 / physical WCS axis 1 step                       \n",
       "CTYPE2P = 'RAWY    '           / physical WCS axis 2 type CCD row               \n",
       "CUNIT2P = 'PIXEL   '           / physical WCS axis 2 units                      \n",
       "CRPIX2P =                    1 / reference CCD row                              \n",
       "CRVAL2P =                 1876 / value at reference CCD row                     \n",
       "CDELT2P =                  1.0 / physical WCS axis 2 step                       \n",
       "NPIXSAP =                   26 / Number of pixels in optimal aperture           \n",
       "NPIXMISS=                    0 / Number of op. aperture pixels not collected    \n",
       "CHECKSUM= 'U5pFU3oCU3oCU3oC'   / HDU checksum updated 2020-04-11T04:11:11Z      "
      ]
     },
     "execution_count": 525,
     "metadata": {},
     "output_type": "execute_result"
    }
   ],
   "source": [
    "tess_fits[2].header"
   ]
  },
  {
   "cell_type": "code",
   "execution_count": 526,
   "id": "1f3e7bd1",
   "metadata": {
    "ExecuteTime": {
     "end_time": "2022-01-31T19:25:26.320818Z",
     "start_time": "2022-01-31T19:25:26.305858Z"
    }
   },
   "outputs": [
    {
     "data": {
      "text/plain": [
       "array([[257, 257, 257, 257, 257, 257, 257, 257, 257, 257, 257],\n",
       "       [257, 257, 261, 261, 261, 261, 261, 261, 261, 261, 257],\n",
       "       [257, 261, 261, 261, 257, 257, 257, 257, 257, 261, 261],\n",
       "       [257, 257, 261, 261, 257, 257, 257, 257, 257, 261, 261],\n",
       "       [257, 257, 261, 257, 257, 267, 267, 257, 257, 257, 257],\n",
       "       [257, 257, 257, 257, 267, 267, 267, 267, 257, 257, 257],\n",
       "       [257, 257, 257, 267, 267, 267, 267, 267, 267, 257, 257],\n",
       "       [257, 257, 257, 267, 267, 267, 267, 267, 267, 257, 257],\n",
       "       [261, 261, 257, 257, 267, 267, 267, 267, 267, 257, 257],\n",
       "       [257, 257, 257, 257, 257, 267, 267, 267, 257, 257, 261],\n",
       "       [257, 257, 261, 261, 257, 257, 257, 257, 257, 257, 261],\n",
       "       [257, 261, 257, 261, 261, 257, 257, 257, 261, 261, 261],\n",
       "       [257, 257, 257, 261, 261, 261, 261, 261, 257, 261, 257]])"
      ]
     },
     "execution_count": 526,
     "metadata": {},
     "output_type": "execute_result"
    }
   ],
   "source": [
    "tess_fits[2].data"
   ]
  },
  {
   "cell_type": "code",
   "execution_count": 527,
   "id": "addc1a2a",
   "metadata": {
    "ExecuteTime": {
     "end_time": "2022-01-31T19:25:26.335778Z",
     "start_time": "2022-01-31T19:25:26.321835Z"
    }
   },
   "outputs": [],
   "source": [
    "tess_fits.close()"
   ]
  },
  {
   "cell_type": "markdown",
   "id": "aa555fc2",
   "metadata": {},
   "source": [
    "### Load TESS light curve"
   ]
  },
  {
   "cell_type": "code",
   "execution_count": 528,
   "id": "99252b70",
   "metadata": {
    "ExecuteTime": {
     "end_time": "2022-01-31T19:25:26.443489Z",
     "start_time": "2022-01-31T19:25:26.336807Z"
    }
   },
   "outputs": [
    {
     "data": {
      "text/html": [
       "<i>TessLightCurve length=7 LABEL=&quot;TIC 439946126&quot; SECTOR=17 AUTHOR=SPOC FLUX_ORIGIN=pdcsap_flux</i>\n",
       "<table id=\"table1220615148640\" class=\"table-striped table-bordered table-condensed\">\n",
       "<thead><tr><th>time</th><th>flux</th><th>flux_err</th><th>timecorr</th><th>cadenceno</th><th>centroid_col</th><th>centroid_row</th><th>sap_flux</th><th>sap_flux_err</th><th>sap_bkg</th><th>sap_bkg_err</th><th>pdcsap_flux</th><th>pdcsap_flux_err</th><th>quality</th><th>psf_centr1</th><th>psf_centr1_err</th><th>psf_centr2</th><th>psf_centr2_err</th><th>mom_centr1</th><th>mom_centr1_err</th><th>mom_centr2</th><th>mom_centr2_err</th><th>pos_corr1</th><th>pos_corr2</th></tr></thead>\n",
       "<thead><tr><th></th><th>electron / s</th><th>electron / s</th><th>d</th><th></th><th>pix</th><th>pix</th><th>electron / s</th><th>electron / s</th><th>electron / s</th><th>electron / s</th><th>electron / s</th><th>electron / s</th><th></th><th>pix</th><th>pix</th><th>pix</th><th>pix</th><th>pix</th><th>pix</th><th>pix</th><th>pix</th><th>pix</th><th>pix</th></tr></thead>\n",
       "<thead><tr><th>object</th><th>float32</th><th>float32</th><th>float32</th><th>int32</th><th>float64</th><th>float64</th><th>float32</th><th>float32</th><th>float32</th><th>float32</th><th>float32</th><th>float32</th><th>int32</th><th>float64</th><th>float32</th><th>float64</th><th>float32</th><th>float64</th><th>float32</th><th>float64</th><th>float32</th><th>float32</th><th>float32</th></tr></thead>\n",
       "<tr><td>1764.6887708664522</td><td>8.9227219e+04</td><td>3.6116268e+01</td><td>4.3311929e-03</td><td>386805</td><td>1735.52932</td><td>1882.66595</td><td>8.5791609e+04</td><td>3.4615158e+01</td><td>2.7479731e+03</td><td>1.0910882e+01</td><td>8.9227219e+04</td><td>3.6116268e+01</td><td>0</td><td>nan</td><td>nan</td><td>nan</td><td>nan</td><td>1735.52932</td><td>3.3758229e-04</td><td>1882.66595</td><td>3.3336986e-04</td><td>9.4317487e-03</td><td>5.7261843e-02</td></tr>\n",
       "<tr><td>1764.6901597747617</td><td>8.9208914e+04</td><td>3.6112118e+01</td><td>4.3312130e-03</td><td>386806</td><td>1735.52932</td><td>1882.66783</td><td>8.5780031e+04</td><td>3.4611183e+01</td><td>2.7451716e+03</td><td>1.0878440e+01</td><td>8.9208914e+04</td><td>3.6112118e+01</td><td>0</td><td>nan</td><td>nan</td><td>nan</td><td>nan</td><td>1735.52932</td><td>3.3802100e-04</td><td>1882.66783</td><td>3.3322719e-04</td><td>9.4363447e-03</td><td>5.9288599e-02</td></tr>\n",
       "<tr><td>1764.691548683071</td><td>8.9153250e+04</td><td>3.6124313e+01</td><td>4.3312330e-03</td><td>386807</td><td>1735.53509</td><td>1882.66831</td><td>8.5705438e+04</td><td>3.4622871e+01</td><td>2.7471860e+03</td><td>1.0951503e+01</td><td>8.9153250e+04</td><td>3.6124313e+01</td><td>0</td><td>nan</td><td>nan</td><td>nan</td><td>nan</td><td>1735.53509</td><td>3.3842601e-04</td><td>1882.66831</td><td>3.3349846e-04</td><td>1.4921385e-02</td><td>5.9195742e-02</td></tr>\n",
       "<tr><td>1764.692937591381</td><td>8.9087570e+04</td><td>3.6114269e+01</td><td>4.3312530e-03</td><td>386808</td><td>1735.52615</td><td>1882.66152</td><td>8.5627461e+04</td><td>3.4613247e+01</td><td>2.7464187e+03</td><td>1.0939362e+01</td><td>8.9087570e+04</td><td>3.6114269e+01</td><td>0</td><td>nan</td><td>nan</td><td>nan</td><td>nan</td><td>1735.52615</td><td>3.3920049e-04</td><td>1882.66152</td><td>3.3427303e-04</td><td>6.3096811e-03</td><td>5.2819252e-02</td></tr>\n",
       "<tr><td>1764.6943264996912</td><td>8.9209930e+04</td><td>3.6136734e+01</td><td>4.3312730e-03</td><td>386809</td><td>1735.52977</td><td>1882.66586</td><td>8.5788508e+04</td><td>3.4634773e+01</td><td>2.7560850e+03</td><td>1.0938170e+01</td><td>8.9209930e+04</td><td>3.6136734e+01</td><td>0</td><td>nan</td><td>nan</td><td>nan</td><td>nan</td><td>1735.52977</td><td>3.3840782e-04</td><td>1882.66586</td><td>3.3353933e-04</td><td>1.0054090e-02</td><td>5.8345847e-02</td></tr>\n",
       "<tr><td>1764.6957154075349</td><td>8.9232195e+04</td><td>3.6120758e+01</td><td>4.3312926e-03</td><td>386810</td><td>1735.53313</td><td>1882.66787</td><td>8.5803258e+04</td><td>3.4619461e+01</td><td>2.7502805e+03</td><td>1.0927849e+01</td><td>8.9232195e+04</td><td>3.6120758e+01</td><td>0</td><td>nan</td><td>nan</td><td>nan</td><td>nan</td><td>1735.53313</td><td>3.3751249e-04</td><td>1882.66787</td><td>3.3296234e-04</td><td>1.3339720e-02</td><td>5.8859117e-02</td></tr>\n",
       "<tr><td>1764.6971043158442</td><td>8.9126555e+04</td><td>3.6123978e+01</td><td>4.3313126e-03</td><td>386811</td><td>1735.53014</td><td>1882.66736</td><td>8.5712211e+04</td><td>3.4622551e+01</td><td>2.7457996e+03</td><td>1.0923735e+01</td><td>8.9126555e+04</td><td>3.6123978e+01</td><td>0</td><td>nan</td><td>nan</td><td>nan</td><td>nan</td><td>1735.53014</td><td>3.3785202e-04</td><td>1882.66736</td><td>3.3398034e-04</td><td>1.0210144e-02</td><td>5.8872852e-02</td></tr>\n",
       "</table>"
      ],
      "text/plain": [
       "<TessLightCurve length=7 LABEL=\"TIC 439946126\" SECTOR=17 AUTHOR=SPOC FLUX_ORIGIN=pdcsap_flux>\n",
       "       time             flux      ...   pos_corr1      pos_corr2   \n",
       "                    electron / s  ...      pix            pix      \n",
       "      object          float32     ...    float32        float32    \n",
       "------------------ -------------- ... -------------- --------------\n",
       "1764.6887708664522  8.9227219e+04 ...  9.4317487e-03  5.7261843e-02\n",
       "1764.6901597747617  8.9208914e+04 ...  9.4363447e-03  5.9288599e-02\n",
       " 1764.691548683071  8.9153250e+04 ...  1.4921385e-02  5.9195742e-02\n",
       " 1764.692937591381  8.9087570e+04 ...  6.3096811e-03  5.2819252e-02\n",
       "1764.6943264996912  8.9209930e+04 ...  1.0054090e-02  5.8345847e-02\n",
       "1764.6957154075349  8.9232195e+04 ...  1.3339720e-02  5.8859117e-02\n",
       "1764.6971043158442  8.9126555e+04 ...  1.0210144e-02  5.8872852e-02"
      ]
     },
     "execution_count": 528,
     "metadata": {},
     "output_type": "execute_result"
    }
   ],
   "source": [
    "tess_lk = lk.read(LC_INPUT_FILE)\n",
    "tess_lk[:7]"
   ]
  },
  {
   "cell_type": "markdown",
   "id": "623e7a78",
   "metadata": {},
   "source": [
    "### Change time to `BJD` in TESS light curve"
   ]
  },
  {
   "cell_type": "code",
   "execution_count": 529,
   "id": "a9f3384e",
   "metadata": {
    "ExecuteTime": {
     "end_time": "2022-01-31T19:25:26.458480Z",
     "start_time": "2022-01-31T19:25:26.444487Z"
    }
   },
   "outputs": [
    {
     "data": {
      "text/plain": [
       "2457000"
      ]
     },
     "execution_count": 529,
     "metadata": {},
     "output_type": "execute_result"
    }
   ],
   "source": [
    "bjdrefi"
   ]
  },
  {
   "cell_type": "code",
   "execution_count": 530,
   "id": "a491fb7f",
   "metadata": {
    "ExecuteTime": {
     "end_time": "2022-01-31T19:25:26.473410Z",
     "start_time": "2022-01-31T19:25:26.459478Z"
    }
   },
   "outputs": [
    {
     "data": {
      "text/plain": [
       "0.0"
      ]
     },
     "execution_count": 530,
     "metadata": {},
     "output_type": "execute_result"
    }
   ],
   "source": [
    "bjdreff"
   ]
  },
  {
   "cell_type": "code",
   "execution_count": 531,
   "id": "01dd5703",
   "metadata": {
    "ExecuteTime": {
     "end_time": "2022-01-31T19:25:26.489368Z",
     "start_time": "2022-01-31T19:25:26.474407Z"
    }
   },
   "outputs": [
    {
     "data": {
      "text/html": [
       "<i>TessLightCurve length=7 LABEL=&quot;TIC 439946126&quot; SECTOR=17 AUTHOR=SPOC FLUX_ORIGIN=pdcsap_flux</i>\n",
       "<table id=\"table1220613669600\" class=\"table-striped table-bordered table-condensed\">\n",
       "<thead><tr><th>time</th><th>flux</th><th>flux_err</th><th>timecorr</th><th>cadenceno</th><th>centroid_col</th><th>centroid_row</th><th>sap_flux</th><th>sap_flux_err</th><th>sap_bkg</th><th>sap_bkg_err</th><th>pdcsap_flux</th><th>pdcsap_flux_err</th><th>quality</th><th>psf_centr1</th><th>psf_centr1_err</th><th>psf_centr2</th><th>psf_centr2_err</th><th>mom_centr1</th><th>mom_centr1_err</th><th>mom_centr2</th><th>mom_centr2_err</th><th>pos_corr1</th><th>pos_corr2</th></tr></thead>\n",
       "<thead><tr><th></th><th>electron / s</th><th>electron / s</th><th>d</th><th></th><th>pix</th><th>pix</th><th>electron / s</th><th>electron / s</th><th>electron / s</th><th>electron / s</th><th>electron / s</th><th>electron / s</th><th></th><th>pix</th><th>pix</th><th>pix</th><th>pix</th><th>pix</th><th>pix</th><th>pix</th><th>pix</th><th>pix</th><th>pix</th></tr></thead>\n",
       "<thead><tr><th>object</th><th>float32</th><th>float32</th><th>float32</th><th>int32</th><th>float64</th><th>float64</th><th>float32</th><th>float32</th><th>float32</th><th>float32</th><th>float32</th><th>float32</th><th>int32</th><th>float64</th><th>float32</th><th>float64</th><th>float32</th><th>float64</th><th>float32</th><th>float64</th><th>float32</th><th>float32</th><th>float32</th></tr></thead>\n",
       "<tr><td>2458764.6887708665</td><td>8.9227219e+04</td><td>3.6116268e+01</td><td>4.3311929e-03</td><td>386805</td><td>1735.52932</td><td>1882.66595</td><td>8.5791609e+04</td><td>3.4615158e+01</td><td>2.7479731e+03</td><td>1.0910882e+01</td><td>8.9227219e+04</td><td>3.6116268e+01</td><td>0</td><td>nan</td><td>nan</td><td>nan</td><td>nan</td><td>1735.52932</td><td>3.3758229e-04</td><td>1882.66595</td><td>3.3336986e-04</td><td>9.4317487e-03</td><td>5.7261843e-02</td></tr>\n",
       "<tr><td>2458764.690159775</td><td>8.9208914e+04</td><td>3.6112118e+01</td><td>4.3312130e-03</td><td>386806</td><td>1735.52932</td><td>1882.66783</td><td>8.5780031e+04</td><td>3.4611183e+01</td><td>2.7451716e+03</td><td>1.0878440e+01</td><td>8.9208914e+04</td><td>3.6112118e+01</td><td>0</td><td>nan</td><td>nan</td><td>nan</td><td>nan</td><td>1735.52932</td><td>3.3802100e-04</td><td>1882.66783</td><td>3.3322719e-04</td><td>9.4363447e-03</td><td>5.9288599e-02</td></tr>\n",
       "<tr><td>2458764.691548683</td><td>8.9153250e+04</td><td>3.6124313e+01</td><td>4.3312330e-03</td><td>386807</td><td>1735.53509</td><td>1882.66831</td><td>8.5705438e+04</td><td>3.4622871e+01</td><td>2.7471860e+03</td><td>1.0951503e+01</td><td>8.9153250e+04</td><td>3.6124313e+01</td><td>0</td><td>nan</td><td>nan</td><td>nan</td><td>nan</td><td>1735.53509</td><td>3.3842601e-04</td><td>1882.66831</td><td>3.3349846e-04</td><td>1.4921385e-02</td><td>5.9195742e-02</td></tr>\n",
       "<tr><td>2458764.6929375916</td><td>8.9087570e+04</td><td>3.6114269e+01</td><td>4.3312530e-03</td><td>386808</td><td>1735.52615</td><td>1882.66152</td><td>8.5627461e+04</td><td>3.4613247e+01</td><td>2.7464187e+03</td><td>1.0939362e+01</td><td>8.9087570e+04</td><td>3.6114269e+01</td><td>0</td><td>nan</td><td>nan</td><td>nan</td><td>nan</td><td>1735.52615</td><td>3.3920049e-04</td><td>1882.66152</td><td>3.3427303e-04</td><td>6.3096811e-03</td><td>5.2819252e-02</td></tr>\n",
       "<tr><td>2458764.6943264995</td><td>8.9209930e+04</td><td>3.6136734e+01</td><td>4.3312730e-03</td><td>386809</td><td>1735.52977</td><td>1882.66586</td><td>8.5788508e+04</td><td>3.4634773e+01</td><td>2.7560850e+03</td><td>1.0938170e+01</td><td>8.9209930e+04</td><td>3.6136734e+01</td><td>0</td><td>nan</td><td>nan</td><td>nan</td><td>nan</td><td>1735.52977</td><td>3.3840782e-04</td><td>1882.66586</td><td>3.3353933e-04</td><td>1.0054090e-02</td><td>5.8345847e-02</td></tr>\n",
       "<tr><td>2458764.6957154074</td><td>8.9232195e+04</td><td>3.6120758e+01</td><td>4.3312926e-03</td><td>386810</td><td>1735.53313</td><td>1882.66787</td><td>8.5803258e+04</td><td>3.4619461e+01</td><td>2.7502805e+03</td><td>1.0927849e+01</td><td>8.9232195e+04</td><td>3.6120758e+01</td><td>0</td><td>nan</td><td>nan</td><td>nan</td><td>nan</td><td>1735.53313</td><td>3.3751249e-04</td><td>1882.66787</td><td>3.3296234e-04</td><td>1.3339720e-02</td><td>5.8859117e-02</td></tr>\n",
       "<tr><td>2458764.6971043157</td><td>8.9126555e+04</td><td>3.6123978e+01</td><td>4.3313126e-03</td><td>386811</td><td>1735.53014</td><td>1882.66736</td><td>8.5712211e+04</td><td>3.4622551e+01</td><td>2.7457996e+03</td><td>1.0923735e+01</td><td>8.9126555e+04</td><td>3.6123978e+01</td><td>0</td><td>nan</td><td>nan</td><td>nan</td><td>nan</td><td>1735.53014</td><td>3.3785202e-04</td><td>1882.66736</td><td>3.3398034e-04</td><td>1.0210144e-02</td><td>5.8872852e-02</td></tr>\n",
       "</table>"
      ],
      "text/plain": [
       "<TessLightCurve length=7 LABEL=\"TIC 439946126\" SECTOR=17 AUTHOR=SPOC FLUX_ORIGIN=pdcsap_flux>\n",
       "       time             flux      ...   pos_corr1      pos_corr2   \n",
       "                    electron / s  ...      pix            pix      \n",
       "      object          float32     ...    float32        float32    \n",
       "------------------ -------------- ... -------------- --------------\n",
       "2458764.6887708665  8.9227219e+04 ...  9.4317487e-03  5.7261843e-02\n",
       " 2458764.690159775  8.9208914e+04 ...  9.4363447e-03  5.9288599e-02\n",
       " 2458764.691548683  8.9153250e+04 ...  1.4921385e-02  5.9195742e-02\n",
       "2458764.6929375916  8.9087570e+04 ...  6.3096811e-03  5.2819252e-02\n",
       "2458764.6943264995  8.9209930e+04 ...  1.0054090e-02  5.8345847e-02\n",
       "2458764.6957154074  8.9232195e+04 ...  1.3339720e-02  5.8859117e-02\n",
       "2458764.6971043157  8.9126555e+04 ...  1.0210144e-02  5.8872852e-02"
      ]
     },
     "execution_count": 531,
     "metadata": {},
     "output_type": "execute_result"
    }
   ],
   "source": [
    "tess_lk['time'] = tess_lk['time'] + bjdrefi + bjdreff\n",
    "tess_lk[:7]"
   ]
  },
  {
   "cell_type": "code",
   "execution_count": 532,
   "id": "0cb8421a",
   "metadata": {
    "ExecuteTime": {
     "end_time": "2022-01-31T19:25:26.504327Z",
     "start_time": "2022-01-31T19:25:26.491361Z"
    }
   },
   "outputs": [
    {
     "data": {
      "text/plain": [
       "<TableColumns names=('time','flux','flux_err','timecorr','cadenceno','centroid_col','centroid_row','sap_flux','sap_flux_err','sap_bkg','sap_bkg_err','pdcsap_flux','pdcsap_flux_err','quality','psf_centr1','psf_centr1_err','psf_centr2','psf_centr2_err','mom_centr1','mom_centr1_err','mom_centr2','mom_centr2_err','pos_corr1','pos_corr2')>"
      ]
     },
     "execution_count": 532,
     "metadata": {},
     "output_type": "execute_result"
    }
   ],
   "source": [
    "tess_lk.columns"
   ]
  },
  {
   "cell_type": "code",
   "execution_count": 533,
   "id": "ad65aad8",
   "metadata": {
    "ExecuteTime": {
     "end_time": "2022-01-31T19:25:26.520318Z",
     "start_time": "2022-01-31T19:25:26.505325Z"
    }
   },
   "outputs": [
    {
     "data": {
      "text/plain": [
       "'btjd'"
      ]
     },
     "execution_count": 533,
     "metadata": {},
     "output_type": "execute_result"
    }
   ],
   "source": [
    "tess_lk['time'].format"
   ]
  },
  {
   "cell_type": "markdown",
   "id": "3754a8de",
   "metadata": {},
   "source": [
    "No need to change the format for the time column at the moment (which is related to time as measured by TESS). Only if we had TESS and CARMENES curves for the same object, at the same timewe would need to convert."
   ]
  },
  {
   "cell_type": "markdown",
   "id": "1b237936",
   "metadata": {},
   "source": [
    "### Analize the cadence of TESS light curve"
   ]
  },
  {
   "cell_type": "code",
   "execution_count": 534,
   "id": "c83b1e3f",
   "metadata": {
    "ExecuteTime": {
     "end_time": "2022-01-31T19:25:26.536242Z",
     "start_time": "2022-01-31T19:25:26.521297Z"
    }
   },
   "outputs": [
    {
     "data": {
      "text/plain": [
       "<TimeDelta object: scale='tdb' format='jd' value=[0.00138891 0.00138891 0.00138891 ... 0.00138887 0.00138887 0.00138887]>"
      ]
     },
     "execution_count": 534,
     "metadata": {},
     "output_type": "execute_result"
    }
   ],
   "source": [
    "tess_td = tess_lk['time'][1:] - tess_lk['time'][:-1]\n",
    "tess_td"
   ]
  },
  {
   "cell_type": "code",
   "execution_count": 535,
   "id": "40b01a3e",
   "metadata": {
    "ExecuteTime": {
     "end_time": "2022-01-31T19:25:26.552200Z",
     "start_time": "2022-01-31T19:25:26.537257Z"
    }
   },
   "outputs": [
    {
     "name": "stdout",
     "output_type": "stream",
     "text": [
      "[[0.0013888608118577395, 0.0013888608118577395, 0.0013888608118577395, 0.0013888608118577395, 0.0013888608118577395] ... [0.011111147267001797, 0.016666406582771742, 0.020832996935951087, 0.024999565402822554, 1.4444444835710328]]\n"
     ]
    }
   ],
   "source": [
    "print(\"[%s ... %s]\" %(sorted(tess_td.value)[:5], sorted(tess_td.value)[-5:]))"
   ]
  },
  {
   "cell_type": "markdown",
   "id": "01ff73f8",
   "metadata": {},
   "source": [
    "In seconds:"
   ]
  },
  {
   "cell_type": "code",
   "execution_count": 536,
   "id": "accfb647",
   "metadata": {
    "ExecuteTime": {
     "end_time": "2022-01-31T19:25:26.568157Z",
     "start_time": "2022-01-31T19:25:26.553197Z"
    }
   },
   "outputs": [
    {
     "data": {
      "text/plain": [
       "<TimeDelta object: scale='tdb' format='sec' value=[120.00167794 120.00167792 120.00167798 ... 119.99829842 119.9982984\n",
       " 119.99829834]>"
      ]
     },
     "execution_count": 536,
     "metadata": {},
     "output_type": "execute_result"
    }
   ],
   "source": [
    "tess_td.format = 'sec'\n",
    "tess_td"
   ]
  },
  {
   "cell_type": "code",
   "execution_count": 537,
   "id": "ade1d79f",
   "metadata": {
    "ExecuteTime": {
     "end_time": "2022-01-31T19:25:26.584114Z",
     "start_time": "2022-01-31T19:25:26.569155Z"
    }
   },
   "outputs": [
    {
     "data": {
      "text/plain": [
       "array([120.00167794, 120.00167792, 120.00167798, ..., 119.99829842,\n",
       "       119.9982984 , 119.99829834])"
      ]
     },
     "execution_count": 537,
     "metadata": {},
     "output_type": "execute_result"
    }
   ],
   "source": [
    "tess_np= np.array(tess_td.value)\n",
    "tess_np"
   ]
  },
  {
   "cell_type": "code",
   "execution_count": 538,
   "id": "a6335074",
   "metadata": {
    "ExecuteTime": {
     "end_time": "2022-01-31T19:25:26.600071Z",
     "start_time": "2022-01-31T19:25:26.585112Z"
    }
   },
   "outputs": [
    {
     "data": {
      "text/plain": [
       "(array([16661,     0,     0,     0,     0,     0,     0,     0,     0,\n",
       "            1], dtype=int64),\n",
       " array([1.19997574e+02, 1.25879982e+04, 2.50559987e+04, 3.75239993e+04,\n",
       "        4.99919999e+04, 6.24600005e+04, 7.49280011e+04, 8.73960016e+04,\n",
       "        9.98640022e+04, 1.12332003e+05, 1.24800003e+05]))"
      ]
     },
     "execution_count": 538,
     "metadata": {},
     "output_type": "execute_result"
    }
   ],
   "source": [
    "tess_hist = np.histogram(tess_np)\n",
    "tess_hist"
   ]
  },
  {
   "cell_type": "code",
   "execution_count": 539,
   "id": "4aee3789",
   "metadata": {
    "ExecuteTime": {
     "end_time": "2022-01-31T19:25:26.616028Z",
     "start_time": "2022-01-31T19:25:26.601069Z"
    }
   },
   "outputs": [
    {
     "data": {
      "text/plain": [
       "ModeResult(mode=array([119.99962603]), count=array([375]))"
      ]
     },
     "execution_count": 539,
     "metadata": {},
     "output_type": "execute_result"
    }
   ],
   "source": [
    "stats.mode(tess_np)"
   ]
  },
  {
   "cell_type": "code",
   "execution_count": 540,
   "id": "7b6f9807",
   "metadata": {
    "ExecuteTime": {
     "end_time": "2022-01-31T19:25:26.630988Z",
     "start_time": "2022-01-31T19:25:26.617026Z"
    }
   },
   "outputs": [
    {
     "data": {
      "text/plain": [
       "119.99946510186419"
      ]
     },
     "execution_count": 540,
     "metadata": {},
     "output_type": "execute_result"
    }
   ],
   "source": [
    "np.median(tess_np)"
   ]
  },
  {
   "cell_type": "code",
   "execution_count": 541,
   "id": "c5cf2663",
   "metadata": {
    "ExecuteTime": {
     "end_time": "2022-01-31T19:25:26.645949Z",
     "start_time": "2022-01-31T19:25:26.631986Z"
    },
    "scrolled": true
   },
   "outputs": [
    {
     "data": {
      "text/plain": [
       "129.68587731080237"
      ]
     },
     "execution_count": 541,
     "metadata": {},
     "output_type": "execute_result"
    }
   ],
   "source": [
    "np.mean(tess_np)"
   ]
  },
  {
   "cell_type": "markdown",
   "id": "846335e3",
   "metadata": {},
   "source": [
    "### Converting flux to magnitudes in TESS light curve"
   ]
  },
  {
   "cell_type": "markdown",
   "id": "445d9587",
   "metadata": {},
   "source": [
    "For the flux nominal value, we use the plain approximation:\n",
    "\n",
    "$$mag=-2.5log(flux)$$\n",
    "\n",
    "For the error (standard deviation) in _flux_, the following expression applies. This expression is derived through a Taylor series expansion of the errors in a random variable (_magnitude_) when this quantity is expressed as a function of another random variable (_flux_). A gaussian distribution is assumed for the _flux_ random variable.\n",
    "\n",
    "$$\\sigma_{mag}=2.5\\frac{\\sigma_{flux}}{flux}$$\n"
   ]
  },
  {
   "cell_type": "code",
   "execution_count": 542,
   "id": "4561d940",
   "metadata": {
    "ExecuteTime": {
     "end_time": "2022-01-31T19:25:26.661906Z",
     "start_time": "2022-01-31T19:25:26.646946Z"
    }
   },
   "outputs": [
    {
     "data": {
      "text/html": [
       "<i>TessLightCurve length=7 LABEL=&quot;TIC 439946126&quot; SECTOR=17 AUTHOR=SPOC FLUX_ORIGIN=pdcsap_flux</i>\n",
       "<table id=\"table1220626408880\" class=\"table-striped table-bordered table-condensed\">\n",
       "<thead><tr><th>time</th><th>flux</th><th>flux_err</th><th>timecorr</th><th>cadenceno</th><th>centroid_col</th><th>centroid_row</th><th>sap_flux</th><th>sap_flux_err</th><th>sap_bkg</th><th>sap_bkg_err</th><th>pdcsap_flux</th><th>pdcsap_flux_err</th><th>quality</th><th>psf_centr1</th><th>psf_centr1_err</th><th>psf_centr2</th><th>psf_centr2_err</th><th>mom_centr1</th><th>mom_centr1_err</th><th>mom_centr2</th><th>mom_centr2_err</th><th>pos_corr1</th><th>pos_corr2</th><th>MAG_pdcsap</th><th>MAG_pdcsap_err</th></tr></thead>\n",
       "<thead><tr><th></th><th>electron / s</th><th>electron / s</th><th>d</th><th></th><th>pix</th><th>pix</th><th>electron / s</th><th>electron / s</th><th>electron / s</th><th>electron / s</th><th>electron / s</th><th>electron / s</th><th></th><th>pix</th><th>pix</th><th>pix</th><th>pix</th><th>pix</th><th>pix</th><th>pix</th><th>pix</th><th>pix</th><th>pix</th><th></th><th></th></tr></thead>\n",
       "<thead><tr><th>object</th><th>float32</th><th>float32</th><th>float32</th><th>int32</th><th>float64</th><th>float64</th><th>float32</th><th>float32</th><th>float32</th><th>float32</th><th>float32</th><th>float32</th><th>int32</th><th>float64</th><th>float32</th><th>float64</th><th>float32</th><th>float64</th><th>float32</th><th>float64</th><th>float32</th><th>float32</th><th>float32</th><th>float32</th><th>float32</th></tr></thead>\n",
       "<tr><td>2458764.6887708665</td><td>8.9227219e+04</td><td>3.6116268e+01</td><td>4.3311929e-03</td><td>386805</td><td>1735.52932</td><td>1882.66595</td><td>8.5791609e+04</td><td>3.4615158e+01</td><td>2.7479731e+03</td><td>1.0910882e+01</td><td>8.9227219e+04</td><td>3.6116268e+01</td><td>0</td><td>nan</td><td>nan</td><td>nan</td><td>nan</td><td>1735.52932</td><td>3.3758229e-04</td><td>1882.66595</td><td>3.3336986e-04</td><td>9.4317487e-03</td><td>5.7261843e-02</td><td>-1.2376243e+01</td><td>1.0119185e-03</td></tr>\n",
       "<tr><td>2458764.690159775</td><td>8.9208914e+04</td><td>3.6112118e+01</td><td>4.3312130e-03</td><td>386806</td><td>1735.52932</td><td>1882.66783</td><td>8.5780031e+04</td><td>3.4611183e+01</td><td>2.7451716e+03</td><td>1.0878440e+01</td><td>8.9208914e+04</td><td>3.6112118e+01</td><td>0</td><td>nan</td><td>nan</td><td>nan</td><td>nan</td><td>1735.52932</td><td>3.3802100e-04</td><td>1882.66783</td><td>3.3322719e-04</td><td>9.4363447e-03</td><td>5.9288599e-02</td><td>-1.2376021e+01</td><td>1.0120098e-03</td></tr>\n",
       "<tr><td>2458764.691548683</td><td>8.9153250e+04</td><td>3.6124313e+01</td><td>4.3312330e-03</td><td>386807</td><td>1735.53509</td><td>1882.66831</td><td>8.5705438e+04</td><td>3.4622871e+01</td><td>2.7471860e+03</td><td>1.0951503e+01</td><td>8.9153250e+04</td><td>3.6124313e+01</td><td>0</td><td>nan</td><td>nan</td><td>nan</td><td>nan</td><td>1735.53509</td><td>3.3842601e-04</td><td>1882.66831</td><td>3.3349846e-04</td><td>1.4921385e-02</td><td>5.9195742e-02</td><td>-1.2375343e+01</td><td>1.0129836e-03</td></tr>\n",
       "<tr><td>2458764.6929375916</td><td>8.9087570e+04</td><td>3.6114269e+01</td><td>4.3312530e-03</td><td>386808</td><td>1735.52615</td><td>1882.66152</td><td>8.5627461e+04</td><td>3.4613247e+01</td><td>2.7464187e+03</td><td>1.0939362e+01</td><td>8.9087570e+04</td><td>3.6114269e+01</td><td>0</td><td>nan</td><td>nan</td><td>nan</td><td>nan</td><td>1735.52615</td><td>3.3920049e-04</td><td>1882.66152</td><td>3.3427303e-04</td><td>6.3096811e-03</td><td>5.2819252e-02</td><td>-1.2374543e+01</td><td>1.0134486e-03</td></tr>\n",
       "<tr><td>2458764.6943264995</td><td>8.9209930e+04</td><td>3.6136734e+01</td><td>4.3312730e-03</td><td>386809</td><td>1735.52977</td><td>1882.66586</td><td>8.5788508e+04</td><td>3.4634773e+01</td><td>2.7560850e+03</td><td>1.0938170e+01</td><td>8.9209930e+04</td><td>3.6136734e+01</td><td>0</td><td>nan</td><td>nan</td><td>nan</td><td>nan</td><td>1735.52977</td><td>3.3840782e-04</td><td>1882.66586</td><td>3.3353933e-04</td><td>1.0054090e-02</td><td>5.8345847e-02</td><td>-1.2376033e+01</td><td>1.0126882e-03</td></tr>\n",
       "<tr><td>2458764.6957154074</td><td>8.9232195e+04</td><td>3.6120758e+01</td><td>4.3312926e-03</td><td>386810</td><td>1735.53313</td><td>1882.66787</td><td>8.5803258e+04</td><td>3.4619461e+01</td><td>2.7502805e+03</td><td>1.0927849e+01</td><td>8.9232195e+04</td><td>3.6120758e+01</td><td>0</td><td>nan</td><td>nan</td><td>nan</td><td>nan</td><td>1735.53313</td><td>3.3751249e-04</td><td>1882.66787</td><td>3.3296234e-04</td><td>1.3339720e-02</td><td>5.8859117e-02</td><td>-1.2376304e+01</td><td>1.0119878e-03</td></tr>\n",
       "<tr><td>2458764.6971043157</td><td>8.9126555e+04</td><td>3.6123978e+01</td><td>4.3313126e-03</td><td>386811</td><td>1735.53014</td><td>1882.66736</td><td>8.5712211e+04</td><td>3.4622551e+01</td><td>2.7457996e+03</td><td>1.0923735e+01</td><td>8.9126555e+04</td><td>3.6123978e+01</td><td>0</td><td>nan</td><td>nan</td><td>nan</td><td>nan</td><td>1735.53014</td><td>3.3785202e-04</td><td>1882.66736</td><td>3.3398034e-04</td><td>1.0210144e-02</td><td>5.8872852e-02</td><td>-1.2375017e+01</td><td>1.0132777e-03</td></tr>\n",
       "</table>"
      ],
      "text/plain": [
       "<TessLightCurve length=7 LABEL=\"TIC 439946126\" SECTOR=17 AUTHOR=SPOC FLUX_ORIGIN=pdcsap_flux>\n",
       "       time             flux      ...   MAG_pdcsap   MAG_pdcsap_err\n",
       "                    electron / s  ...                              \n",
       "      object          float32     ...    float32        float32    \n",
       "------------------ -------------- ... -------------- --------------\n",
       "2458764.6887708665  8.9227219e+04 ... -1.2376243e+01  1.0119185e-03\n",
       " 2458764.690159775  8.9208914e+04 ... -1.2376021e+01  1.0120098e-03\n",
       " 2458764.691548683  8.9153250e+04 ... -1.2375343e+01  1.0129836e-03\n",
       "2458764.6929375916  8.9087570e+04 ... -1.2374543e+01  1.0134486e-03\n",
       "2458764.6943264995  8.9209930e+04 ... -1.2376033e+01  1.0126882e-03\n",
       "2458764.6957154074  8.9232195e+04 ... -1.2376304e+01  1.0119878e-03\n",
       "2458764.6971043157  8.9126555e+04 ... -1.2375017e+01  1.0132777e-03"
      ]
     },
     "execution_count": 542,
     "metadata": {},
     "output_type": "execute_result"
    }
   ],
   "source": [
    "tess_lk['MAG_pdcsap'] = -2.5 * np.log10(tess_lk['pdcsap_flux'] / (1 * u.electron / (1.0 * u.second)))\n",
    "tess_lk['MAG_pdcsap_err'] = 2.5 * tess_lk['pdcsap_flux_err'] / tess_lk['pdcsap_flux']\n",
    "tess_lk[:7]"
   ]
  },
  {
   "cell_type": "markdown",
   "id": "fb0476a5",
   "metadata": {},
   "source": [
    "Now, we must tell the TESS light curve that the magnitudes are the 'flux'."
   ]
  },
  {
   "cell_type": "code",
   "execution_count": 543,
   "id": "bb48f57c",
   "metadata": {
    "ExecuteTime": {
     "end_time": "2022-01-31T19:25:26.677863Z",
     "start_time": "2022-01-31T19:25:26.662903Z"
    },
    "scrolled": false
   },
   "outputs": [
    {
     "data": {
      "text/plain": [
       "{'INHERIT': True,\n",
       " 'EXTNAME': 'PRIMARY',\n",
       " 'EXTVER': 1,\n",
       " 'SIMDATA': False,\n",
       " 'TELESCOP': 'TESS',\n",
       " 'INSTRUME': 'TESS Photometer',\n",
       " 'OBJECT': 'TIC 439946126',\n",
       " 'TICID': 439946126,\n",
       " 'RADESYS': 'ICRS',\n",
       " 'RA_OBJ': 1.29537156257181,\n",
       " 'DEC_OBJ': 45.7865665447841,\n",
       " 'EQUINOX': 2000.0,\n",
       " 'EXPOSURE': 19.795472657766,\n",
       " 'TIMEREF': 'SOLARSYSTEM',\n",
       " 'TASSIGN': 'SPACECRAFT',\n",
       " 'TIMESYS': 'TDB',\n",
       " 'BJDREFI': 2457000,\n",
       " 'BJDREFF': 0.0,\n",
       " 'TIMEUNIT': 'd',\n",
       " 'TELAPSE': 24.994283658796,\n",
       " 'LIVETIME': 19.79547265776635,\n",
       " 'TSTART': 1764.688076527806,\n",
       " 'TSTOP': 1789.68235995512,\n",
       " 'DATE-OBS': '2019-10-08T04:29:40.628',\n",
       " 'DATE-END': '2019-11-02T04:21:26.716',\n",
       " 'DEADC': 0.792,\n",
       " 'TIMEPIXR': 0.5,\n",
       " 'TIERRELA': 1.16e-05,\n",
       " 'INT_TIME': 1.98,\n",
       " 'READTIME': 0.02,\n",
       " 'FRAMETIM': 2.0,\n",
       " 'NUM_FRM': 60,\n",
       " 'TIMEDEL': 0.001388888888888889,\n",
       " 'BACKAPP': True,\n",
       " 'DEADAPP': True,\n",
       " 'VIGNAPP': True,\n",
       " 'GAINA': 5.28000020980835,\n",
       " 'GAINB': 5.260000228881836,\n",
       " 'GAINC': 5.25,\n",
       " 'GAIND': 5.210000038146973,\n",
       " 'READNOIA': 9.873600006103516,\n",
       " 'READNOIB': 7.62700080871582,\n",
       " 'READNOIC': 7.71750020980835,\n",
       " 'READNOID': 9.89900016784668,\n",
       " 'NREADOUT': 48,\n",
       " 'FXDOFF': 209700,\n",
       " 'CDPP0_5': 172.4291687,\n",
       " 'CDPP1_0': 132.69975281,\n",
       " 'CDPP2_0': 109.489151,\n",
       " 'CROWDSAP': 0.99789518,\n",
       " 'FLFRCSAP': 0.95843679,\n",
       " 'NSPSDDET': 0,\n",
       " 'NSPSDCOR': 0,\n",
       " 'PDCVAR': 2.697172212175447,\n",
       " 'PDCMETHD': 'msMAP',\n",
       " 'NUMBAND': 3,\n",
       " 'FITTYPE1': 'reducedRobust',\n",
       " 'PR_GOOD1': 0.9907383918762207,\n",
       " 'PR_WGHT1': 0.0,\n",
       " 'FITTYPE2': 'prior',\n",
       " 'PR_GOOD2': 0.9702998995780945,\n",
       " 'PR_WGHT2': 265.2621765136719,\n",
       " 'FITTYPE3': 'prior',\n",
       " 'PR_GOOD3': 0.499786913394928,\n",
       " 'PR_WGHT3': 136.632568359375,\n",
       " 'PDC_TOT': 0.9177185297012329,\n",
       " 'PDC_TOTP': 18.34314727783203,\n",
       " 'PDC_COR': 0.9594070315361023,\n",
       " 'PDC_CORP': 25.952043533325195,\n",
       " 'PDC_VAR': <astropy.io.fits.card.Undefined at 0x11c32fe0760>,\n",
       " 'PDC_VARP': <astropy.io.fits.card.Undefined at 0x11c32fe0760>,\n",
       " 'PDC_NOI': 0.9935827255249023,\n",
       " 'PDC_NOIP': 28.01312828063965,\n",
       " 'PDC_EPT': <astropy.io.fits.card.Undefined at 0x11c32fe0760>,\n",
       " 'PDC_EPTP': <astropy.io.fits.card.Undefined at 0x11c32fe0760>,\n",
       " 'CHECKSUM': 'brNHdoKEboKEboKE',\n",
       " 'TMOFST23': 1.5399999618530273,\n",
       " 'MEANBLCA': 6812,\n",
       " 'MEANBLCB': 6724,\n",
       " 'MEANBLCC': 6753,\n",
       " 'MEANBLCD': 6433,\n",
       " 'SIMPLE': True,\n",
       " 'BITPIX': 8,\n",
       " 'NAXIS': 0,\n",
       " 'EXTEND': True,\n",
       " 'NEXTEND': 2,\n",
       " 'ORIGIN': 'NASA/Ames',\n",
       " 'DATE': '2020-04-11',\n",
       " 'CREATOR': '21228 LightCurveExporterPipelineModule',\n",
       " 'PROCVER': 'spoc-4.0.28-20200407',\n",
       " 'FILEVER': '1.0',\n",
       " 'TIMVERSN': 'OGIP/93-003',\n",
       " 'DATA_REL': 30,\n",
       " 'SECTOR': 17,\n",
       " 'CAMERA': 2,\n",
       " 'CCD': 3,\n",
       " 'PXTABLE': 176,\n",
       " 'PMRA': 870.753,\n",
       " 'PMDEC': -151.267,\n",
       " 'PMTOTAL': 883.79437218,\n",
       " 'TESSMAG': 8.02890015,\n",
       " 'TEFF': 3661.0,\n",
       " 'LOGG': 4.72399998,\n",
       " 'MH': None,\n",
       " 'RADIUS': 0.51534301,\n",
       " 'TICVER': 8,\n",
       " 'CRMITEN': True,\n",
       " 'CRBLKSZ': 10,\n",
       " 'CRSPOC': False,\n",
       " 'LABEL': 'TIC 439946126',\n",
       " 'MISSION': 'TESS',\n",
       " 'RA': 1.29537156257181,\n",
       " 'DEC': 45.7865665447841,\n",
       " 'FILENAME': '../data/CARMENES_GTO_TESS_lc/lightcurves/J00051+457/J00051+457_TESS_TIC439946126_S17.fits',\n",
       " 'FLUX_ORIGIN': 'pdcsap_flux',\n",
       " 'AUTHOR': 'SPOC',\n",
       " 'TARGETID': 439946126,\n",
       " 'QUALITY_BITMASK': 'default',\n",
       " 'QUALITY_MASK': array([False, False, False, ...,  True,  True,  True])}"
      ]
     },
     "execution_count": 543,
     "metadata": {},
     "output_type": "execute_result"
    }
   ],
   "source": [
    "tess_lk.meta"
   ]
  },
  {
   "cell_type": "markdown",
   "id": "d0fc7536",
   "metadata": {},
   "source": [
    "We must tell the class to select magnitudes as the \"flux\"."
   ]
  },
  {
   "cell_type": "code",
   "execution_count": 544,
   "id": "4e446084",
   "metadata": {
    "ExecuteTime": {
     "end_time": "2022-01-31T19:25:26.709778Z",
     "start_time": "2022-01-31T19:25:26.678860Z"
    }
   },
   "outputs": [
    {
     "data": {
      "text/html": [
       "<i>TessLightCurve length=7 LABEL=&quot;TIC 439946126&quot; SECTOR=17 AUTHOR=SPOC FLUX_ORIGIN=MAG_pdcsap</i>\n",
       "<table id=\"table1220613451440\" class=\"table-striped table-bordered table-condensed\">\n",
       "<thead><tr><th>time</th><th>flux</th><th>flux_err</th><th>timecorr</th><th>cadenceno</th><th>centroid_col</th><th>centroid_row</th><th>sap_flux</th><th>sap_flux_err</th><th>sap_bkg</th><th>sap_bkg_err</th><th>pdcsap_flux</th><th>pdcsap_flux_err</th><th>quality</th><th>psf_centr1</th><th>psf_centr1_err</th><th>psf_centr2</th><th>psf_centr2_err</th><th>mom_centr1</th><th>mom_centr1_err</th><th>mom_centr2</th><th>mom_centr2_err</th><th>pos_corr1</th><th>pos_corr2</th><th>MAG_pdcsap</th><th>MAG_pdcsap_err</th></tr></thead>\n",
       "<thead><tr><th></th><th></th><th></th><th>d</th><th></th><th>pix</th><th>pix</th><th>electron / s</th><th>electron / s</th><th>electron / s</th><th>electron / s</th><th>electron / s</th><th>electron / s</th><th></th><th>pix</th><th>pix</th><th>pix</th><th>pix</th><th>pix</th><th>pix</th><th>pix</th><th>pix</th><th>pix</th><th>pix</th><th></th><th></th></tr></thead>\n",
       "<thead><tr><th>object</th><th>float32</th><th>float32</th><th>float32</th><th>int32</th><th>float64</th><th>float64</th><th>float32</th><th>float32</th><th>float32</th><th>float32</th><th>float32</th><th>float32</th><th>int32</th><th>float64</th><th>float32</th><th>float64</th><th>float32</th><th>float64</th><th>float32</th><th>float64</th><th>float32</th><th>float32</th><th>float32</th><th>float32</th><th>float32</th></tr></thead>\n",
       "<tr><td>2458764.6887708665</td><td>-1.2376243e+01</td><td>1.0119185e-03</td><td>4.3311929e-03</td><td>386805</td><td>1735.52932</td><td>1882.66595</td><td>8.5791609e+04</td><td>3.4615158e+01</td><td>2.7479731e+03</td><td>1.0910882e+01</td><td>8.9227219e+04</td><td>3.6116268e+01</td><td>0</td><td>nan</td><td>nan</td><td>nan</td><td>nan</td><td>1735.52932</td><td>3.3758229e-04</td><td>1882.66595</td><td>3.3336986e-04</td><td>9.4317487e-03</td><td>5.7261843e-02</td><td>-1.2376243e+01</td><td>1.0119185e-03</td></tr>\n",
       "<tr><td>2458764.690159775</td><td>-1.2376021e+01</td><td>1.0120098e-03</td><td>4.3312130e-03</td><td>386806</td><td>1735.52932</td><td>1882.66783</td><td>8.5780031e+04</td><td>3.4611183e+01</td><td>2.7451716e+03</td><td>1.0878440e+01</td><td>8.9208914e+04</td><td>3.6112118e+01</td><td>0</td><td>nan</td><td>nan</td><td>nan</td><td>nan</td><td>1735.52932</td><td>3.3802100e-04</td><td>1882.66783</td><td>3.3322719e-04</td><td>9.4363447e-03</td><td>5.9288599e-02</td><td>-1.2376021e+01</td><td>1.0120098e-03</td></tr>\n",
       "<tr><td>2458764.691548683</td><td>-1.2375343e+01</td><td>1.0129836e-03</td><td>4.3312330e-03</td><td>386807</td><td>1735.53509</td><td>1882.66831</td><td>8.5705438e+04</td><td>3.4622871e+01</td><td>2.7471860e+03</td><td>1.0951503e+01</td><td>8.9153250e+04</td><td>3.6124313e+01</td><td>0</td><td>nan</td><td>nan</td><td>nan</td><td>nan</td><td>1735.53509</td><td>3.3842601e-04</td><td>1882.66831</td><td>3.3349846e-04</td><td>1.4921385e-02</td><td>5.9195742e-02</td><td>-1.2375343e+01</td><td>1.0129836e-03</td></tr>\n",
       "<tr><td>2458764.6929375916</td><td>-1.2374543e+01</td><td>1.0134486e-03</td><td>4.3312530e-03</td><td>386808</td><td>1735.52615</td><td>1882.66152</td><td>8.5627461e+04</td><td>3.4613247e+01</td><td>2.7464187e+03</td><td>1.0939362e+01</td><td>8.9087570e+04</td><td>3.6114269e+01</td><td>0</td><td>nan</td><td>nan</td><td>nan</td><td>nan</td><td>1735.52615</td><td>3.3920049e-04</td><td>1882.66152</td><td>3.3427303e-04</td><td>6.3096811e-03</td><td>5.2819252e-02</td><td>-1.2374543e+01</td><td>1.0134486e-03</td></tr>\n",
       "<tr><td>2458764.6943264995</td><td>-1.2376033e+01</td><td>1.0126882e-03</td><td>4.3312730e-03</td><td>386809</td><td>1735.52977</td><td>1882.66586</td><td>8.5788508e+04</td><td>3.4634773e+01</td><td>2.7560850e+03</td><td>1.0938170e+01</td><td>8.9209930e+04</td><td>3.6136734e+01</td><td>0</td><td>nan</td><td>nan</td><td>nan</td><td>nan</td><td>1735.52977</td><td>3.3840782e-04</td><td>1882.66586</td><td>3.3353933e-04</td><td>1.0054090e-02</td><td>5.8345847e-02</td><td>-1.2376033e+01</td><td>1.0126882e-03</td></tr>\n",
       "<tr><td>2458764.6957154074</td><td>-1.2376304e+01</td><td>1.0119878e-03</td><td>4.3312926e-03</td><td>386810</td><td>1735.53313</td><td>1882.66787</td><td>8.5803258e+04</td><td>3.4619461e+01</td><td>2.7502805e+03</td><td>1.0927849e+01</td><td>8.9232195e+04</td><td>3.6120758e+01</td><td>0</td><td>nan</td><td>nan</td><td>nan</td><td>nan</td><td>1735.53313</td><td>3.3751249e-04</td><td>1882.66787</td><td>3.3296234e-04</td><td>1.3339720e-02</td><td>5.8859117e-02</td><td>-1.2376304e+01</td><td>1.0119878e-03</td></tr>\n",
       "<tr><td>2458764.6971043157</td><td>-1.2375017e+01</td><td>1.0132777e-03</td><td>4.3313126e-03</td><td>386811</td><td>1735.53014</td><td>1882.66736</td><td>8.5712211e+04</td><td>3.4622551e+01</td><td>2.7457996e+03</td><td>1.0923735e+01</td><td>8.9126555e+04</td><td>3.6123978e+01</td><td>0</td><td>nan</td><td>nan</td><td>nan</td><td>nan</td><td>1735.53014</td><td>3.3785202e-04</td><td>1882.66736</td><td>3.3398034e-04</td><td>1.0210144e-02</td><td>5.8872852e-02</td><td>-1.2375017e+01</td><td>1.0132777e-03</td></tr>\n",
       "</table>"
      ],
      "text/plain": [
       "<TessLightCurve length=7 LABEL=\"TIC 439946126\" SECTOR=17 AUTHOR=SPOC FLUX_ORIGIN=MAG_pdcsap>\n",
       "       time             flux      ...   MAG_pdcsap   MAG_pdcsap_err\n",
       "                                  ...                              \n",
       "      object          float32     ...    float32        float32    \n",
       "------------------ -------------- ... -------------- --------------\n",
       "2458764.6887708665 -1.2376243e+01 ... -1.2376243e+01  1.0119185e-03\n",
       " 2458764.690159775 -1.2376021e+01 ... -1.2376021e+01  1.0120098e-03\n",
       " 2458764.691548683 -1.2375343e+01 ... -1.2375343e+01  1.0129836e-03\n",
       "2458764.6929375916 -1.2374543e+01 ... -1.2374543e+01  1.0134486e-03\n",
       "2458764.6943264995 -1.2376033e+01 ... -1.2376033e+01  1.0126882e-03\n",
       "2458764.6957154074 -1.2376304e+01 ... -1.2376304e+01  1.0119878e-03\n",
       "2458764.6971043157 -1.2375017e+01 ... -1.2375017e+01  1.0132777e-03"
      ]
     },
     "execution_count": 544,
     "metadata": {},
     "output_type": "execute_result"
    }
   ],
   "source": [
    "tess_lk_2 = tess_lk.select_flux(flux_column='MAG_pdcsap', flux_err_column='MAG_pdcsap_err')\n",
    "tess_lk_2.meta['FLUX_ORIGIN'] = 'MAG_pdcsap'\n",
    "tess_lk_2[:7]"
   ]
  },
  {
   "cell_type": "markdown",
   "id": "3b557499",
   "metadata": {},
   "source": [
    "### Plot and store the TESS light curve"
   ]
  },
  {
   "cell_type": "code",
   "execution_count": 545,
   "id": "c61f5f81",
   "metadata": {
    "ExecuteTime": {
     "end_time": "2022-01-31T19:25:28.269401Z",
     "start_time": "2022-01-31T19:25:26.711773Z"
    }
   },
   "outputs": [
    {
     "data": {
      "image/png": "[encoded data removed]",
      "text/plain": [
       "<Figure size 1000x500 with 1 Axes>"
      ]
     },
     "metadata": {},
     "output_type": "display_data"
    }
   ],
   "source": [
    "ax = tess_lk_2.errorbar(marker='o', ms=0.2, color='darkblue', ecolor='gray')\n",
    "ax.figure.set_size_inches(10,5)\n",
    "ax.invert_yaxis()\n",
    "ax.set_ylabel(\"MAG\")\n",
    "ax.set_title(\"%s - TESS LIGHT CURVE\\n\"\n",
    "             \"<some_summary_data_here - cadence, spread, etc...>\" %object_id)\n",
    "plt.savefig(IMAGE_LC_OUT)\n",
    "plt.show();"
   ]
  },
  {
   "cell_type": "markdown",
   "id": "e1f70a9a",
   "metadata": {},
   "source": [
    "### Calculate and store the periodogram of TESS light curve"
   ]
  },
  {
   "cell_type": "code",
   "execution_count": 1,
   "id": "ffae15c3",
   "metadata": {
    "ExecuteTime": {
     "end_time": "2022-02-02T21:40:32.730366Z",
     "start_time": "2022-02-02T21:40:32.726376Z"
    }
   },
   "outputs": [],
   "source": [
    "def tess_get_info():\n",
    "    '''Gets information of the TESS object and light curve from FITS header'''\n",
    "    return None"
   ]
  },
  {
   "cell_type": "code",
   "execution_count": 2,
   "id": "1805ba3f",
   "metadata": {
    "ExecuteTime": {
     "end_time": "2022-02-02T21:41:58.469908Z",
     "start_time": "2022-02-02T21:41:58.453950Z"
    }
   },
   "outputs": [],
   "source": [
    "def tess_adjust_time():\n",
    "    '''Adjust TESS light curve time column to absolute BJD values'''\n",
    "    return None"
   ]
  },
  {
   "cell_type": "code",
   "execution_count": 3,
   "id": "cf659add",
   "metadata": {
    "ExecuteTime": {
     "end_time": "2022-02-02T21:43:31.726001Z",
     "start_time": "2022-02-02T21:43:31.718049Z"
    }
   },
   "outputs": [],
   "source": [
    "def tess_cadence():\n",
    "    '''Infers the cadence of the light curve from the data'''\n",
    "    return None"
   ]
  },
  {
   "cell_type": "code",
   "execution_count": null,
   "id": "ced5a3cb",
   "metadata": {},
   "outputs": [],
   "source": [
    "def tess_periodogram():\n",
    "    '''Calculates the periodogram for a TESS light curve'''\n",
    "    return None"
   ]
  },
  {
   "cell_type": "code",
   "execution_count": 4,
   "id": "ca8a715c",
   "metadata": {
    "ExecuteTime": {
     "end_time": "2022-02-02T21:47:42.029585Z",
     "start_time": "2022-02-02T21:47:42.025595Z"
    }
   },
   "outputs": [],
   "source": [
    "def tess_plot_save():\n",
    "    '''Plots and/or save the TESS light curve with additional info'''\n",
    "    return None"
   ]
  },
  {
   "cell_type": "code",
   "execution_count": null,
   "id": "7ad97e5a",
   "metadata": {},
   "outputs": [],
   "source": [
    "def tess_process(filename):\n",
    "    '''Processes a TESS light curve file'''\n",
    "    \n",
    "    "
   ]
  },
  {
   "cell_type": "markdown",
   "id": "34742da0",
   "metadata": {},
   "source": [
    "## CARMENES radial velocity curve inspection"
   ]
  },
  {
   "cell_type": "markdown",
   "id": "2d8b924c",
   "metadata": {},
   "source": [
    "These are very simple files: just plain text, three columns, no header. First column is time ($BJD$), second column is radial velocity ($ms^{-1}$), third column is radial velocity error ($ms^{-1}$). \\<TBC\\>"
   ]
  },
  {
   "cell_type": "markdown",
   "id": "9f84c5cc",
   "metadata": {},
   "source": [
    "### Load radial velocity curve"
   ]
  },
  {
   "cell_type": "code",
   "execution_count": 546,
   "id": "7b5d6ef5",
   "metadata": {
    "ExecuteTime": {
     "end_time": "2022-01-31T19:25:28.301322Z",
     "start_time": "2022-01-31T19:25:28.271404Z"
    }
   },
   "outputs": [
    {
     "data": {
      "text/html": [
       "<i>Table length=10</i>\n",
       "<table id=\"table1220589260464\" class=\"table-striped table-bordered table-condensed\">\n",
       "<thead><tr><th>time</th><th>RV</th><th>eRV</th></tr></thead>\n",
       "<thead><tr><th>d</th><th>m / s</th><th>m / s</th></tr></thead>\n",
       "<thead><tr><th>float64</th><th>float64</th><th>float64</th></tr></thead>\n",
       "<tr><td>2457400.28515</td><td>22.3283340297</td><td>1.4018315418</td></tr>\n",
       "<tr><td>2457421.26037</td><td>23.7637567866</td><td>1.48502877524</td></tr>\n",
       "<tr><td>2457588.68128</td><td>31.8136290804</td><td>1.45941122559</td></tr>\n",
       "<tr><td>2457605.66563</td><td>27.1810782306</td><td>1.39936379403</td></tr>\n",
       "<tr><td>2457609.66891</td><td>30.8604332996</td><td>0.853789077456</td></tr>\n",
       "<tr><td>2457610.67461</td><td>26.5174127112</td><td>2.42228045236</td></tr>\n",
       "<tr><td>2457611.62235</td><td>33.7972831499</td><td>2.1215444299</td></tr>\n",
       "<tr><td>2457620.43878</td><td>18.2264721274</td><td>2.49049263079</td></tr>\n",
       "<tr><td>2457633.58722</td><td>22.4747612442</td><td>2.79460770758</td></tr>\n",
       "<tr><td>2457636.57224</td><td>22.6310504627</td><td>2.32164747469</td></tr>\n",
       "</table>"
      ],
      "text/plain": [
       "<Table length=10>\n",
       "     time           RV           eRV      \n",
       "      d           m / s         m / s     \n",
       "   float64       float64       float64    \n",
       "------------- ------------- --------------\n",
       "2457400.28515 22.3283340297   1.4018315418\n",
       "2457421.26037 23.7637567866  1.48502877524\n",
       "2457588.68128 31.8136290804  1.45941122559\n",
       "2457605.66563 27.1810782306  1.39936379403\n",
       "2457609.66891 30.8604332996 0.853789077456\n",
       "2457610.67461 26.5174127112  2.42228045236\n",
       "2457611.62235 33.7972831499   2.1215444299\n",
       "2457620.43878 18.2264721274  2.49049263079\n",
       "2457633.58722 22.4747612442  2.79460770758\n",
       "2457636.57224 22.6310504627  2.32164747469"
      ]
     },
     "execution_count": 546,
     "metadata": {},
     "output_type": "execute_result"
    }
   ],
   "source": [
    "rv = Table.read(RV_INPUT_FILE, format='ascii',\n",
    "                names = ['time', 'RV', 'eRV'], units=[u.d, u.meter / u.second, u.meter / u.second])\n",
    "rv[:10]"
   ]
  },
  {
   "cell_type": "markdown",
   "id": "68edfe8b",
   "metadata": {},
   "source": [
    "### Convert to `LightCurve` object"
   ]
  },
  {
   "cell_type": "code",
   "execution_count": 547,
   "id": "8c83924e",
   "metadata": {
    "ExecuteTime": {
     "end_time": "2022-01-31T19:25:28.317278Z",
     "start_time": "2022-01-31T19:25:28.302319Z"
    }
   },
   "outputs": [
    {
     "data": {
      "text/html": [
       "<i>LightCurve length=10</i>\n",
       "<table id=\"table1220626204560\" class=\"table-striped table-bordered table-condensed\">\n",
       "<thead><tr><th>time</th><th>flux</th><th>flux_err</th></tr></thead>\n",
       "<thead><tr><th></th><th>m / s</th><th>m / s</th></tr></thead>\n",
       "<thead><tr><th>object</th><th>float64</th><th>float64</th></tr></thead>\n",
       "<tr><td>2457400.28515</td><td>22.3283340297</td><td>1.4018315418</td></tr>\n",
       "<tr><td>2457421.26037</td><td>23.7637567866</td><td>1.48502877524</td></tr>\n",
       "<tr><td>2457588.68128</td><td>31.8136290804</td><td>1.45941122559</td></tr>\n",
       "<tr><td>2457605.66563</td><td>27.1810782306</td><td>1.39936379403</td></tr>\n",
       "<tr><td>2457609.66891</td><td>30.8604332996</td><td>0.853789077456</td></tr>\n",
       "<tr><td>2457610.67461</td><td>26.5174127112</td><td>2.42228045236</td></tr>\n",
       "<tr><td>2457611.62235</td><td>33.7972831499</td><td>2.1215444299</td></tr>\n",
       "<tr><td>2457620.43878</td><td>18.2264721274</td><td>2.49049263079</td></tr>\n",
       "<tr><td>2457633.58722</td><td>22.4747612442</td><td>2.79460770758</td></tr>\n",
       "<tr><td>2457636.57224</td><td>22.6310504627</td><td>2.32164747469</td></tr>\n",
       "</table>"
      ],
      "text/plain": [
       "<LightCurve length=10>\n",
       "     time          flux        flux_err   \n",
       "                  m / s         m / s     \n",
       "    object       float64       float64    \n",
       "------------- ------------- --------------\n",
       "2457400.28515 22.3283340297   1.4018315418\n",
       "2457421.26037 23.7637567866  1.48502877524\n",
       "2457588.68128 31.8136290804  1.45941122559\n",
       "2457605.66563 27.1810782306  1.39936379403\n",
       "2457609.66891 30.8604332996 0.853789077456\n",
       "2457610.67461 26.5174127112  2.42228045236\n",
       "2457611.62235 33.7972831499   2.1215444299\n",
       "2457620.43878 18.2264721274  2.49049263079\n",
       "2457633.58722 22.4747612442  2.79460770758\n",
       "2457636.57224 22.6310504627  2.32164747469"
      ]
     },
     "execution_count": 547,
     "metadata": {},
     "output_type": "execute_result"
    }
   ],
   "source": [
    "rv_lk = lk.LightCurve(time=rv['time'], flux=rv['RV'], flux_err=rv['eRV'])\n",
    "rv_lk[:10]"
   ]
  },
  {
   "cell_type": "markdown",
   "id": "0147a443",
   "metadata": {},
   "source": [
    "### Analize cadence of radial velocity curve"
   ]
  },
  {
   "cell_type": "markdown",
   "id": "22b35fc1",
   "metadata": {},
   "source": [
    "Intervals between adjacent points:"
   ]
  },
  {
   "cell_type": "code",
   "execution_count": 548,
   "id": "b1912c9e",
   "metadata": {
    "ExecuteTime": {
     "end_time": "2022-01-31T19:25:28.332238Z",
     "start_time": "2022-01-31T19:25:28.318276Z"
    }
   },
   "outputs": [
    {
     "data": {
      "text/plain": [
       "<TimeDelta object: scale='tdb' format='jd' value=[ 20.97522 167.42091  16.98435   4.00328   1.0057    0.94774   8.81643\n",
       "  13.14844   2.98502   9.01831   1.90263   1.15332   0.96316   3.91321\n",
       "   4.00658  20.88559   7.06932   2.9823    6.93578   9.94764   6.0013\n",
       " 199.23861  26.03098   0.99561   1.88958   7.11871   4.86134   2.97754\n",
       "   2.03042   4.12329   0.97153   1.02686   1.9748    1.02175   3.0242\n",
       "   2.03349   0.95415   5.83405  10.12784   9.94196   3.02198   1.00256\n",
       "   1.04182   2.93061   2.04231   1.95442  20.93976  27.96075   1.01493\n",
       "   0.95115  33.11325]>"
      ]
     },
     "execution_count": 548,
     "metadata": {},
     "output_type": "execute_result"
    }
   ],
   "source": [
    "td_rv = rv_lk['time'][1:] - rv_lk['time'][:-1]\n",
    "td_rv"
   ]
  },
  {
   "cell_type": "code",
   "execution_count": 549,
   "id": "5455b4ef",
   "metadata": {
    "ExecuteTime": {
     "end_time": "2022-01-31T19:25:28.347198Z",
     "start_time": "2022-01-31T19:25:28.333250Z"
    }
   },
   "outputs": [
    {
     "data": {
      "text/plain": [
       "array([ 20.97522, 167.42091,  16.98435,   4.00328,   1.0057 ,   0.94774,\n",
       "         8.81643,  13.14844,   2.98502,   9.01831,   1.90263,   1.15332,\n",
       "         0.96316,   3.91321,   4.00658,  20.88559,   7.06932,   2.9823 ,\n",
       "         6.93578,   9.94764,   6.0013 , 199.23861,  26.03098,   0.99561,\n",
       "         1.88958,   7.11871,   4.86134,   2.97754,   2.03042,   4.12329,\n",
       "         0.97153,   1.02686,   1.9748 ,   1.02175,   3.0242 ,   2.03349,\n",
       "         0.95415,   5.83405,  10.12784,   9.94196,   3.02198,   1.00256,\n",
       "         1.04182,   2.93061,   2.04231,   1.95442,  20.93976,  27.96075,\n",
       "         1.01493,   0.95115,  33.11325])"
      ]
     },
     "execution_count": 549,
     "metadata": {},
     "output_type": "execute_result"
    }
   ],
   "source": [
    "carmenes_np= np.array(td_rv.value)\n",
    "carmenes_np"
   ]
  },
  {
   "cell_type": "code",
   "execution_count": 550,
   "id": "700e26c3",
   "metadata": {
    "ExecuteTime": {
     "end_time": "2022-01-31T19:25:28.363155Z",
     "start_time": "2022-01-31T19:25:28.348195Z"
    }
   },
   "outputs": [
    {
     "data": {
      "text/plain": [
       "(array([43,  6,  0,  0,  0,  0,  0,  0,  1,  1], dtype=int64),\n",
       " array([  0.94774 ,  20.776827,  40.605914,  60.435001,  80.264088,\n",
       "        100.093175, 119.922262, 139.751349, 159.580436, 179.409523,\n",
       "        199.23861 ]))"
      ]
     },
     "execution_count": 550,
     "metadata": {},
     "output_type": "execute_result"
    }
   ],
   "source": [
    "carmenes_hist = np.histogram(carmenes_np)\n",
    "carmenes_hist"
   ]
  },
  {
   "cell_type": "code",
   "execution_count": 551,
   "id": "d961545c",
   "metadata": {
    "ExecuteTime": {
     "end_time": "2022-01-31T19:25:28.379113Z",
     "start_time": "2022-01-31T19:25:28.364154Z"
    },
    "scrolled": true
   },
   "outputs": [
    {
     "data": {
      "text/plain": [
       "ModeResult(mode=array([0.94774]), count=array([1]))"
      ]
     },
     "execution_count": 551,
     "metadata": {},
     "output_type": "execute_result"
    }
   ],
   "source": [
    "stats.mode(carmenes_np)"
   ]
  },
  {
   "cell_type": "code",
   "execution_count": 552,
   "id": "b9b5863c",
   "metadata": {
    "ExecuteTime": {
     "end_time": "2022-01-31T19:25:28.395069Z",
     "start_time": "2022-01-31T19:25:28.380111Z"
    }
   },
   "outputs": [
    {
     "data": {
      "text/plain": [
       "3.02419999986887"
      ]
     },
     "execution_count": 552,
     "metadata": {},
     "output_type": "execute_result"
    }
   ],
   "source": [
    "np.median(carmenes_np)"
   ]
  },
  {
   "cell_type": "code",
   "execution_count": 553,
   "id": "c5b93096",
   "metadata": {
    "ExecuteTime": {
     "end_time": "2022-01-31T19:25:28.411027Z",
     "start_time": "2022-01-31T19:25:28.396068Z"
    },
    "scrolled": true
   },
   "outputs": [
    {
     "data": {
      "text/plain": [
       "13.592479999998913"
      ]
     },
     "execution_count": 553,
     "metadata": {},
     "output_type": "execute_result"
    }
   ],
   "source": [
    "np.mean(carmenes_np)"
   ]
  },
  {
   "cell_type": "code",
   "execution_count": 554,
   "id": "778b88d9",
   "metadata": {
    "ExecuteTime": {
     "end_time": "2022-01-31T19:25:28.426985Z",
     "start_time": "2022-01-31T19:25:28.412025Z"
    }
   },
   "outputs": [
    {
     "name": "stdout",
     "output_type": "stream",
     "text": [
      "[[0.9477399997413158, 0.9511500000953674, 0.9541499996557832, 0.9631600002758205, 0.9715300002135336] ... [26.030980000272393, 27.96075000008568, 33.11324999993667, 167.42091000033543, 199.23860999988392]]\n"
     ]
    }
   ],
   "source": [
    "print(\"[%s ... %s]\" %(sorted(carmenes_np)[:5], sorted(carmenes_np)[-5:]))"
   ]
  },
  {
   "cell_type": "code",
   "execution_count": 555,
   "id": "e68c4427",
   "metadata": {
    "ExecuteTime": {
     "end_time": "2022-01-31T19:25:28.442942Z",
     "start_time": "2022-01-31T19:25:28.427982Z"
    }
   },
   "outputs": [
    {
     "data": {
      "text/plain": [
       "astropy.time.core.TimeDelta"
      ]
     },
     "execution_count": 555,
     "metadata": {},
     "output_type": "execute_result"
    }
   ],
   "source": [
    "type(td_rv)"
   ]
  },
  {
   "cell_type": "code",
   "execution_count": 556,
   "id": "e8b941df",
   "metadata": {
    "ExecuteTime": {
     "end_time": "2022-01-31T19:25:28.457902Z",
     "start_time": "2022-01-31T19:25:28.443940Z"
    },
    "scrolled": false
   },
   "outputs": [
    {
     "data": {
      "text/plain": [
       "{'INHERIT': True,\n",
       " 'EXTNAME': 'PRIMARY',\n",
       " 'EXTVER': 1,\n",
       " 'SIMDATA': False,\n",
       " 'TELESCOP': 'TESS',\n",
       " 'INSTRUME': 'TESS Photometer',\n",
       " 'OBJECT': 'TIC 439946126',\n",
       " 'TICID': 439946126,\n",
       " 'RADESYS': 'ICRS',\n",
       " 'RA_OBJ': 1.29537156257181,\n",
       " 'DEC_OBJ': 45.7865665447841,\n",
       " 'EQUINOX': 2000.0,\n",
       " 'EXPOSURE': 19.795472657766,\n",
       " 'TIMEREF': 'SOLARSYSTEM',\n",
       " 'TASSIGN': 'SPACECRAFT',\n",
       " 'TIMESYS': 'TDB',\n",
       " 'BJDREFI': 2457000,\n",
       " 'BJDREFF': 0.0,\n",
       " 'TIMEUNIT': 'd',\n",
       " 'TELAPSE': 24.994283658796,\n",
       " 'LIVETIME': 19.79547265776635,\n",
       " 'TSTART': 1764.688076527806,\n",
       " 'TSTOP': 1789.68235995512,\n",
       " 'DATE-OBS': '2019-10-08T04:29:40.628',\n",
       " 'DATE-END': '2019-11-02T04:21:26.716',\n",
       " 'DEADC': 0.792,\n",
       " 'TIMEPIXR': 0.5,\n",
       " 'TIERRELA': 1.16e-05,\n",
       " 'INT_TIME': 1.98,\n",
       " 'READTIME': 0.02,\n",
       " 'FRAMETIM': 2.0,\n",
       " 'NUM_FRM': 60,\n",
       " 'TIMEDEL': 0.001388888888888889,\n",
       " 'BACKAPP': True,\n",
       " 'DEADAPP': True,\n",
       " 'VIGNAPP': True,\n",
       " 'GAINA': 5.28000020980835,\n",
       " 'GAINB': 5.260000228881836,\n",
       " 'GAINC': 5.25,\n",
       " 'GAIND': 5.210000038146973,\n",
       " 'READNOIA': 9.873600006103516,\n",
       " 'READNOIB': 7.62700080871582,\n",
       " 'READNOIC': 7.71750020980835,\n",
       " 'READNOID': 9.89900016784668,\n",
       " 'NREADOUT': 48,\n",
       " 'FXDOFF': 209700,\n",
       " 'CDPP0_5': 172.4291687,\n",
       " 'CDPP1_0': 132.69975281,\n",
       " 'CDPP2_0': 109.489151,\n",
       " 'CROWDSAP': 0.99789518,\n",
       " 'FLFRCSAP': 0.95843679,\n",
       " 'NSPSDDET': 0,\n",
       " 'NSPSDCOR': 0,\n",
       " 'PDCVAR': 2.697172212175447,\n",
       " 'PDCMETHD': 'msMAP',\n",
       " 'NUMBAND': 3,\n",
       " 'FITTYPE1': 'reducedRobust',\n",
       " 'PR_GOOD1': 0.9907383918762207,\n",
       " 'PR_WGHT1': 0.0,\n",
       " 'FITTYPE2': 'prior',\n",
       " 'PR_GOOD2': 0.9702998995780945,\n",
       " 'PR_WGHT2': 265.2621765136719,\n",
       " 'FITTYPE3': 'prior',\n",
       " 'PR_GOOD3': 0.499786913394928,\n",
       " 'PR_WGHT3': 136.632568359375,\n",
       " 'PDC_TOT': 0.9177185297012329,\n",
       " 'PDC_TOTP': 18.34314727783203,\n",
       " 'PDC_COR': 0.9594070315361023,\n",
       " 'PDC_CORP': 25.952043533325195,\n",
       " 'PDC_VAR': <astropy.io.fits.card.Undefined at 0x11c32fe0760>,\n",
       " 'PDC_VARP': <astropy.io.fits.card.Undefined at 0x11c32fe0760>,\n",
       " 'PDC_NOI': 0.9935827255249023,\n",
       " 'PDC_NOIP': 28.01312828063965,\n",
       " 'PDC_EPT': <astropy.io.fits.card.Undefined at 0x11c32fe0760>,\n",
       " 'PDC_EPTP': <astropy.io.fits.card.Undefined at 0x11c32fe0760>,\n",
       " 'CHECKSUM': 'brNHdoKEboKEboKE',\n",
       " 'TMOFST23': 1.5399999618530273,\n",
       " 'MEANBLCA': 6812,\n",
       " 'MEANBLCB': 6724,\n",
       " 'MEANBLCC': 6753,\n",
       " 'MEANBLCD': 6433,\n",
       " 'SIMPLE': True,\n",
       " 'BITPIX': 8,\n",
       " 'NAXIS': 0,\n",
       " 'EXTEND': True,\n",
       " 'NEXTEND': 2,\n",
       " 'ORIGIN': 'NASA/Ames',\n",
       " 'DATE': '2020-04-11',\n",
       " 'CREATOR': '21228 LightCurveExporterPipelineModule',\n",
       " 'PROCVER': 'spoc-4.0.28-20200407',\n",
       " 'FILEVER': '1.0',\n",
       " 'TIMVERSN': 'OGIP/93-003',\n",
       " 'DATA_REL': 30,\n",
       " 'SECTOR': 17,\n",
       " 'CAMERA': 2,\n",
       " 'CCD': 3,\n",
       " 'PXTABLE': 176,\n",
       " 'PMRA': 870.753,\n",
       " 'PMDEC': -151.267,\n",
       " 'PMTOTAL': 883.79437218,\n",
       " 'TESSMAG': 8.02890015,\n",
       " 'TEFF': 3661.0,\n",
       " 'LOGG': 4.72399998,\n",
       " 'MH': None,\n",
       " 'RADIUS': 0.51534301,\n",
       " 'TICVER': 8,\n",
       " 'CRMITEN': True,\n",
       " 'CRBLKSZ': 10,\n",
       " 'CRSPOC': False,\n",
       " 'LABEL': 'TIC 439946126',\n",
       " 'MISSION': 'TESS',\n",
       " 'RA': 1.29537156257181,\n",
       " 'DEC': 45.7865665447841,\n",
       " 'FILENAME': '../data/CARMENES_GTO_TESS_lc/lightcurves/J00051+457/J00051+457_TESS_TIC439946126_S17.fits',\n",
       " 'FLUX_ORIGIN': 'pdcsap_flux',\n",
       " 'AUTHOR': 'SPOC',\n",
       " 'TARGETID': 439946126,\n",
       " 'QUALITY_BITMASK': 'default',\n",
       " 'QUALITY_MASK': array([False, False, False, ...,  True,  True,  True])}"
      ]
     },
     "execution_count": 556,
     "metadata": {},
     "output_type": "execute_result"
    }
   ],
   "source": [
    "tess_lk.meta"
   ]
  },
  {
   "cell_type": "markdown",
   "id": "42324aff",
   "metadata": {},
   "source": [
    "### Set key fields in metadata for the radial velocity curve"
   ]
  },
  {
   "cell_type": "code",
   "execution_count": 557,
   "id": "53af7609",
   "metadata": {
    "ExecuteTime": {
     "end_time": "2022-01-31T19:25:28.473859Z",
     "start_time": "2022-01-31T19:25:28.458900Z"
    }
   },
   "outputs": [
    {
     "data": {
      "text/plain": [
       "OrderedDict()"
      ]
     },
     "execution_count": 557,
     "metadata": {},
     "output_type": "execute_result"
    }
   ],
   "source": [
    "rv_lk.meta"
   ]
  },
  {
   "cell_type": "code",
   "execution_count": 558,
   "id": "c8bfcd37",
   "metadata": {
    "ExecuteTime": {
     "end_time": "2022-01-31T19:25:28.488819Z",
     "start_time": "2022-01-31T19:25:28.474857Z"
    }
   },
   "outputs": [
    {
     "data": {
      "text/plain": [
       "{'OBJECT': '<put_name_here>',\n",
       " 'BJDREFI': 2457000,\n",
       " 'BJDREFF': 0.0,\n",
       " 'TIMEUNIT': 'd'}"
      ]
     },
     "execution_count": 558,
     "metadata": {},
     "output_type": "execute_result"
    }
   ],
   "source": [
    "rv_lk.meta = dict({\n",
    "    'OBJECT':\"<put_name_here>\",\n",
    "    'BJDREFI': 2457000,\n",
    "    'BJDREFF': 0.0,\n",
    "    'TIMEUNIT':'d'\n",
    "})\n",
    "rv_lk.meta"
   ]
  },
  {
   "cell_type": "code",
   "execution_count": 559,
   "id": "9b5e98a8",
   "metadata": {
    "ExecuteTime": {
     "end_time": "2022-01-31T19:25:28.504776Z",
     "start_time": "2022-01-31T19:25:28.489817Z"
    }
   },
   "outputs": [
    {
     "data": {
      "text/plain": [
       "{'OBJECT': '<put_name_here>',\n",
       " 'BJDREFI': 2457000,\n",
       " 'BJDREFF': 0.0,\n",
       " 'TIMEUNIT': 'd'}"
      ]
     },
     "execution_count": 559,
     "metadata": {},
     "output_type": "execute_result"
    }
   ],
   "source": [
    "rv_lk.meta"
   ]
  },
  {
   "cell_type": "markdown",
   "id": "48c9fba7",
   "metadata": {},
   "source": [
    "### Calculate periodogram"
   ]
  },
  {
   "cell_type": "code",
   "execution_count": null,
   "id": "20ccad01",
   "metadata": {},
   "outputs": [],
   "source": []
  },
  {
   "cell_type": "code",
   "execution_count": null,
   "id": "bea6e4d1",
   "metadata": {},
   "outputs": [],
   "source": []
  },
  {
   "cell_type": "code",
   "execution_count": null,
   "id": "8b055480",
   "metadata": {},
   "outputs": [],
   "source": []
  },
  {
   "cell_type": "code",
   "execution_count": null,
   "id": "36a1c1b8",
   "metadata": {},
   "outputs": [],
   "source": []
  },
  {
   "cell_type": "markdown",
   "id": "79a93367",
   "metadata": {},
   "source": [
    "### Plot and store the radial velocity curve"
   ]
  },
  {
   "cell_type": "code",
   "execution_count": 560,
   "id": "82ac9454",
   "metadata": {
    "ExecuteTime": {
     "end_time": "2022-01-31T19:25:28.519736Z",
     "start_time": "2022-01-31T19:25:28.505774Z"
    }
   },
   "outputs": [
    {
     "name": "stdout",
     "output_type": "stream",
     "text": [
      "['time', 'flux', 'flux_err']\n"
     ]
    }
   ],
   "source": [
    "print(list(rv_lk.columns))"
   ]
  },
  {
   "cell_type": "code",
   "execution_count": 561,
   "id": "4c7c2455",
   "metadata": {
    "ExecuteTime": {
     "end_time": "2022-01-31T19:25:28.534697Z",
     "start_time": "2022-01-31T19:25:28.520735Z"
    }
   },
   "outputs": [
    {
     "data": {
      "text/plain": [
       "{'OBJECT': '<put_name_here>',\n",
       " 'BJDREFI': 2457000,\n",
       " 'BJDREFF': 0.0,\n",
       " 'TIMEUNIT': 'd'}"
      ]
     },
     "execution_count": 561,
     "metadata": {},
     "output_type": "execute_result"
    }
   ],
   "source": [
    "rv_lk.meta"
   ]
  },
  {
   "cell_type": "code",
   "execution_count": 562,
   "id": "28161ed0",
   "metadata": {
    "ExecuteTime": {
     "end_time": "2022-01-31T19:25:28.550653Z",
     "start_time": "2022-01-31T19:25:28.535694Z"
    }
   },
   "outputs": [
    {
     "data": {
      "text/html": [
       "<i>LightCurve length=7</i>\n",
       "<table id=\"table1220605363296\" class=\"table-striped table-bordered table-condensed\">\n",
       "<thead><tr><th>time</th><th>flux</th><th>flux_err</th></tr></thead>\n",
       "<thead><tr><th></th><th>m / s</th><th>m / s</th></tr></thead>\n",
       "<thead><tr><th>object</th><th>float64</th><th>float64</th></tr></thead>\n",
       "<tr><td>2457400.28515</td><td>22.3283340297</td><td>1.4018315418</td></tr>\n",
       "<tr><td>2457421.26037</td><td>23.7637567866</td><td>1.48502877524</td></tr>\n",
       "<tr><td>2457588.68128</td><td>31.8136290804</td><td>1.45941122559</td></tr>\n",
       "<tr><td>2457605.66563</td><td>27.1810782306</td><td>1.39936379403</td></tr>\n",
       "<tr><td>2457609.66891</td><td>30.8604332996</td><td>0.853789077456</td></tr>\n",
       "<tr><td>2457610.67461</td><td>26.5174127112</td><td>2.42228045236</td></tr>\n",
       "<tr><td>2457611.62235</td><td>33.7972831499</td><td>2.1215444299</td></tr>\n",
       "</table>"
      ],
      "text/plain": [
       "<LightCurve length=7>\n",
       "     time          flux        flux_err   \n",
       "                  m / s         m / s     \n",
       "    object       float64       float64    \n",
       "------------- ------------- --------------\n",
       "2457400.28515 22.3283340297   1.4018315418\n",
       "2457421.26037 23.7637567866  1.48502877524\n",
       "2457588.68128 31.8136290804  1.45941122559\n",
       "2457605.66563 27.1810782306  1.39936379403\n",
       "2457609.66891 30.8604332996 0.853789077456\n",
       "2457610.67461 26.5174127112  2.42228045236\n",
       "2457611.62235 33.7972831499   2.1215444299"
      ]
     },
     "execution_count": 562,
     "metadata": {},
     "output_type": "execute_result"
    }
   ],
   "source": [
    "rv_lk[:7]"
   ]
  },
  {
   "cell_type": "code",
   "execution_count": 563,
   "id": "089d634d",
   "metadata": {
    "ExecuteTime": {
     "end_time": "2022-01-31T19:25:29.192936Z",
     "start_time": "2022-01-31T19:25:28.552649Z"
    },
    "scrolled": false
   },
   "outputs": [
    {
     "data": {
      "image/png": "[encoded data removed]",
      "text/plain": [
       "<Figure size 1000x500 with 1 Axes>"
      ]
     },
     "metadata": {},
     "output_type": "display_data"
    }
   ],
   "source": [
    "ax = rv_lk.errorbar(marker='o', ms=1.0, color='darkred', ecolor='gray')\n",
    "ax.figure.set_size_inches(10,5)\n",
    "ax.set_xlabel(\"Time [BJD]\")\n",
    "ax.set_ylabel(\"RV [$ms^{-1}$]\")\n",
    "ax.set_title(\"<objet_name_here> - CARMENES GTO RV CURVE\\n\"\n",
    "             \"<some_summary_data_here - cadence, spread, etc...>\")\n",
    "plt.savefig(IMAGE_RV_OUT)\n",
    "plt.show();"
   ]
  },
  {
   "cell_type": "code",
   "execution_count": null,
   "id": "d5fcc7f8",
   "metadata": {},
   "outputs": [],
   "source": []
  },
  {
   "cell_type": "code",
   "execution_count": null,
   "id": "aeb0a429",
   "metadata": {},
   "outputs": [],
   "source": []
  },
  {
   "cell_type": "code",
   "execution_count": null,
   "id": "eccae62e",
   "metadata": {},
   "outputs": [],
   "source": []
  },
  {
   "cell_type": "code",
   "execution_count": null,
   "id": "4089e634",
   "metadata": {},
   "outputs": [],
   "source": []
  },
  {
   "cell_type": "markdown",
   "id": "4fe95649",
   "metadata": {},
   "source": [
    "## Summary --- pending ---"
   ]
  },
  {
   "cell_type": "markdown",
   "id": "9c14f82f",
   "metadata": {},
   "source": [
    "**OBSERVATIONS AND CONCLUSIONS:** -----------------\n",
    "- From the GTO sample, we have 224 stars in the _\"He3-burning\"_ instability band ($\\approx62\\%$ of the sample).\n",
    "- If we take into account the error margins in the `logg` and `Teff_K` variables, the number increases slightly to 259 stars ($\\approx71\\%$ of the sample))\n",
    "- The percentages in the _\"He3-burning\"_ instability bands for the sample of non-GTO stars are $\\approx41\\%$ (nominal) and $\\approx49\\%$ (ranged).\n",
    "- Hence, a greater fraction of GTO stars are prone to belong to the _\"He3-burning\"_ instability band.\n",
    "- No star in the total _CARMENES_ sample is located in the _\"D-burning\"_ stability band.\n",
    "- Notice that some stars in the database have no `Teff_K` or `logg` values, so their belonging to instability bands is unknown:\n",
    "  - 4 GTO stars have no `logg`value.\n",
    "  - 555 non-GTO stars have no `Teff_K`value; 556 non-GTO stars have no `logg` value."
   ]
  },
  {
   "cell_type": "code",
   "execution_count": null,
   "id": "b6a548c3",
   "metadata": {},
   "outputs": [],
   "source": []
  }
 ],
 "metadata": {
  "kernelspec": {
   "display_name": "Python 3",
   "language": "python",
   "name": "python3"
  },
  "language_info": {
   "codemirror_mode": {
    "name": "ipython",
    "version": 3
   },
   "file_extension": ".py",
   "mimetype": "text/x-python",
   "name": "python",
   "nbconvert_exporter": "python",
   "pygments_lexer": "ipython3",
   "version": "3.8.8"
  },
  "toc": {
   "base_numbering": 1,
   "nav_menu": {},
   "number_sections": true,
   "sideBar": true,
   "skip_h1_title": false,
   "title_cell": "Table of Contents",
   "title_sidebar": "Contents",
   "toc_cell": false,
   "toc_position": {},
   "toc_section_display": true,
   "toc_window_display": false
  }
 },
 "nbformat": 4,
 "nbformat_minor": 5
}
