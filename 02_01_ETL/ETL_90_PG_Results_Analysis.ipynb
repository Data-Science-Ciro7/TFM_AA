{
 "cells": [
  {
   "cell_type": "markdown",
   "id": "b5caaf89",
   "metadata": {},
   "source": [
    "# INDIVIDUAL PERIODOGRAM RESULTS ANALYSIS"
   ]
  },
  {
   "cell_type": "markdown",
   "id": "6972f1f2",
   "metadata": {},
   "source": [
    "Once all periodograms have been calculated for both RV time series and TESS light curves, we make a quick inspection of the periodogram results for PG subsample, focusing on the results for CARMENES RV time series with _TESS_ light curves."
   ]
  },
  {
   "cell_type": "markdown",
   "id": "48ee49ec",
   "metadata": {},
   "source": [
    "## Modules and configuration"
   ]
  },
  {
   "cell_type": "markdown",
   "id": "2a9d8662",
   "metadata": {},
   "source": [
    "### Modules"
   ]
  },
  {
   "cell_type": "code",
   "execution_count": 1,
   "id": "ce772529",
   "metadata": {
    "ExecuteTime": {
     "end_time": "2023-01-17T09:45:42.005513Z",
     "start_time": "2023-01-17T09:45:40.351938Z"
    }
   },
   "outputs": [],
   "source": [
    "import numpy as np\n",
    "import pandas as pd\n",
    "\n",
    "from scipy.stats import mode, normaltest, ttest_ind\n",
    "\n",
    "import matplotlib.pyplot as plt\n",
    "import matplotlib.patches as mpatches\n",
    "\n",
    "import seaborn as sns\n",
    "sns.set_style(\"white\", {'figure.figsize':(15,10)})"
   ]
  },
  {
   "cell_type": "markdown",
   "id": "57f0b7d7",
   "metadata": {},
   "source": [
    "### Configuration"
   ]
  },
  {
   "cell_type": "code",
   "execution_count": 1,
   "id": "4268e282",
   "metadata": {
    "ExecuteTime": {
     "end_time": "2023-01-17T09:53:20.325082Z",
     "start_time": "2023-01-17T09:53:20.320096Z"
    }
   },
   "outputs": [],
   "source": [
    "INPUT_FILE = \"../data/SELECTION_for_PG_CARM_VIS_objects_with_PG.csv\"\n",
    "#SYNTH_POP_FILE = \"../data/Auxiliary_data/ETLed__NoLimit_TFM_02_MW_2022-01-13-19-18-22_hdr.csv\"\n",
    "\n",
    "IMAGE_FOLDER = \"./img/\"\n",
    "\n",
    "#IMAGE_RANGED_OUT_FULL_HR = \"./img/ETL_46_03_ML_subsample_Instability_bands_Ranged_Full_HR.png\"\n",
    "#IMAGE_RANGED_OUT_ZOOM_HR = \"./img/ETL_46_03B_ML_subsample_Instability_bands_Ranged_Zoom_HR.png\"\n",
    "\n",
    "ALPHA = 1e-3 # Significance threshold for statistical tests"
   ]
  },
  {
   "cell_type": "markdown",
   "id": "4b092068",
   "metadata": {
    "ExecuteTime": {
     "end_time": "2022-08-11T18:48:28.190243Z",
     "start_time": "2022-08-11T18:48:28.180761Z"
    }
   },
   "source": [
    "### Functions"
   ]
  },
  {
   "cell_type": "raw",
   "id": "f159523b",
   "metadata": {
    "ExecuteTime": {
     "end_time": "2023-01-17T09:45:48.705633Z",
     "start_time": "2023-01-17T09:45:48.693665Z"
    }
   },
   "source": [
    "def draw_hist(d1, d1_label, fig_filename=None):\n",
    "    '''Draws an histogram of the values passed. It also calulates the statistics\n",
    "    and tests the goodness of fit by a Gaussian distribution'''\n",
    "    # Plots and saves the figure\n",
    "    kwargs = dict(hist_kws={'alpha':.4}, kde_kws={'linewidth':2})\n",
    "    plt.figure(figsize=(10,7))\n",
    "    plt.title(d1_label + \" values distribution\", fontsize=16)\n",
    "    plt.grid(axis='x', alpha=0.75)\n",
    "    plt.xlabel(d1_label, fontsize=12)\n",
    "    plt.ylabel('Frequency', fontsize=12)\n",
    "    sns.distplot(d1, label=d1_label, **kwargs)\n",
    "    #sns.histplot(d1, label=d1_label)\n",
    "    #plt.xlim(0,100)\n",
    "    #plt.legend(loc='upper right');\n",
    "    # Save the image:\n",
    "    if fig_filename is None:\n",
    "        pass\n",
    "    else:\n",
    "        plt.savefig(fig_filename, format='png')\n",
    "    # Display basic statistics:\n",
    "    print(pd.Series(d1).describe())\n",
    "    # Perform the normaltest (D'Agostino and Pearson) for Gaussian distribution fit:\n",
    "    k2, p = normaltest(d1)\n",
    "    alpha = ALPHA\n",
    "    print(\"p = {:g}\".format(p))\n",
    "    if p < alpha:  # null hypothesis: x comes from a normal distribution\n",
    "        print(\"***This distribution does NOT come from a Gaussian distribution\" \\\n",
    "              \"(with significance level = %.6f)\" %(1.0 - alpha))\n",
    "    else:\n",
    "        print(\"This distribution MIGHT COME come from Gaussian distribution\" \\\n",
    "              \"(with significance level = %.6f)\" %(1.0 - alpha))"
   ]
  },
  {
   "cell_type": "code",
   "execution_count": 4,
   "id": "c329c6f8",
   "metadata": {
    "ExecuteTime": {
     "end_time": "2023-01-17T09:45:49.767170Z",
     "start_time": "2023-01-17T09:45:49.757197Z"
    }
   },
   "outputs": [],
   "source": [
    "def compare_dist(d1, d2, d1_label, d2_label, varname=None, fig_title=None, fig_filename=None):\n",
    "    '''Plots and saves overlapped histograms.\n",
    "    It also shows the result of a t-Student test.'''\n",
    "    # Plots and saves the figure\n",
    "    kwargs = dict(hist_kws={'alpha':.4}, kde_kws={'linewidth':2})\n",
    "    plt.figure(figsize=(10,7))\n",
    "    if fig_title is None:\n",
    "        plt.title(\"Comparison of distributions\", fontsize=16)\n",
    "    else:\n",
    "        plt.title(fig_title, fontsize=16)\n",
    "    plt.grid(axis='x', alpha=0.75)\n",
    "    if varname is None:\n",
    "        plt.xlabel(\"%s / %s\" %(d1_label, d2_label), fontsize=12)\n",
    "    else:\n",
    "        plt.xlabel(varname, fontsize=12)\n",
    "    plt.ylabel('Frequency', fontsize=12)\n",
    "    sns.distplot(d1, label=d1_label, **kwargs)\n",
    "    sns.distplot(d2, label=d2_label, **kwargs)\n",
    "    #plt.xlim(0,100)\n",
    "    plt.legend(loc='upper right');\n",
    "    # Save the image:\n",
    "    if fig_filename is None:\n",
    "        pass\n",
    "    else:\n",
    "        plt.savefig(fig_filename, format='png')\n",
    "    # Perform the t-Student test (as independent samples):\n",
    "    stat, p = ttest_ind(d1, d2)\n",
    "    print('stat=%.3f, p=%.3f' % (stat, p))\n",
    "    if p > 0.05:\n",
    "        print('Probably the same distribution')\n",
    "    else:\n",
    "        print('***Probably different distributions')"
   ]
  },
  {
   "cell_type": "markdown",
   "id": "7d0118ea",
   "metadata": {},
   "source": [
    "##  Load the CARMENES PG subsample with all the results"
   ]
  },
  {
   "cell_type": "code",
   "execution_count": 5,
   "id": "495a1038",
   "metadata": {
    "ExecuteTime": {
     "end_time": "2023-01-17T09:45:51.027341Z",
     "start_time": "2023-01-17T09:45:50.931099Z"
    }
   },
   "outputs": [
    {
     "data": {
      "text/html": [
       "<div>\n",
       "<style scoped>\n",
       "    .dataframe tbody tr th:only-of-type {\n",
       "        vertical-align: middle;\n",
       "    }\n",
       "\n",
       "    .dataframe tbody tr th {\n",
       "        vertical-align: top;\n",
       "    }\n",
       "\n",
       "    .dataframe thead th {\n",
       "        text-align: right;\n",
       "    }\n",
       "</style>\n",
       "<table border=\"1\" class=\"dataframe\">\n",
       "  <thead>\n",
       "    <tr style=\"text-align: right;\">\n",
       "      <th></th>\n",
       "      <th>Karmn</th>\n",
       "      <th>Name</th>\n",
       "      <th>Comp</th>\n",
       "      <th>GJ</th>\n",
       "      <th>RA_J2016_deg</th>\n",
       "      <th>DE_J2016_deg</th>\n",
       "      <th>RA_J2000</th>\n",
       "      <th>DE_J2000</th>\n",
       "      <th>l_J2016_deg</th>\n",
       "      <th>b_J2016_deg</th>\n",
       "      <th>...</th>\n",
       "      <th>WF_offset_PG_TESS</th>\n",
       "      <th>WF_e_offset_PG_TESS</th>\n",
       "      <th>WF_FAP_PG_TESS</th>\n",
       "      <th>WF_valid_PG_TESS</th>\n",
       "      <th>WF_error_PG_TESS</th>\n",
       "      <th>WF_elapsed_time_PG_TESS</th>\n",
       "      <th>WF_plain_file_TESS</th>\n",
       "      <th>WF_fig_file_TESS</th>\n",
       "      <th>PG_file_RV</th>\n",
       "      <th>PG_file_TESS</th>\n",
       "    </tr>\n",
       "  </thead>\n",
       "  <tbody>\n",
       "    <tr>\n",
       "      <th>0</th>\n",
       "      <td>J23585+076</td>\n",
       "      <td>Wolf 1051</td>\n",
       "      <td>AB</td>\n",
       "      <td>4383</td>\n",
       "      <td>359.636420</td>\n",
       "      <td>7.656947</td>\n",
       "      <td>23:58:32.65</td>\n",
       "      <td>+07:39:30.1</td>\n",
       "      <td>100.839686</td>\n",
       "      <td>-52.931049</td>\n",
       "      <td>...</td>\n",
       "      <td>NaN</td>\n",
       "      <td>NaN</td>\n",
       "      <td>NaN</td>\n",
       "      <td>0.0</td>\n",
       "      <td>Not recognized as a supported data product:\\nn...</td>\n",
       "      <td>0.000997</td>\n",
       "      <td>NaN</td>\n",
       "      <td>NaN</td>\n",
       "      <td>../data/CARM_VIS_RVs_PGs/J23585+076_RV_PG.dat</td>\n",
       "      <td>NaN</td>\n",
       "    </tr>\n",
       "    <tr>\n",
       "      <th>1</th>\n",
       "      <td>J23556-061</td>\n",
       "      <td>GJ 912</td>\n",
       "      <td>AB</td>\n",
       "      <td>912</td>\n",
       "      <td>358.913617</td>\n",
       "      <td>-6.144283</td>\n",
       "      <td>23:55:39.78</td>\n",
       "      <td>-06:08:33.4</td>\n",
       "      <td>88.129933</td>\n",
       "      <td>-65.175491</td>\n",
       "      <td>...</td>\n",
       "      <td>NaN</td>\n",
       "      <td>NaN</td>\n",
       "      <td>NaN</td>\n",
       "      <td>0.0</td>\n",
       "      <td>Not recognized as a supported data product:\\nn...</td>\n",
       "      <td>0.000998</td>\n",
       "      <td>NaN</td>\n",
       "      <td>NaN</td>\n",
       "      <td>../data/CARM_VIS_RVs_PGs/J23556-061_RV_PG.dat</td>\n",
       "      <td>NaN</td>\n",
       "    </tr>\n",
       "    <tr>\n",
       "      <th>2</th>\n",
       "      <td>J23548+385</td>\n",
       "      <td>RX J2354.8+3831</td>\n",
       "      <td>-</td>\n",
       "      <td>NaN</td>\n",
       "      <td>358.713658</td>\n",
       "      <td>38.526340</td>\n",
       "      <td>23:54:51.46</td>\n",
       "      <td>+38:31:36.2</td>\n",
       "      <td>110.941908</td>\n",
       "      <td>-23.024449</td>\n",
       "      <td>...</td>\n",
       "      <td>999.999756</td>\n",
       "      <td>2.151008e-06</td>\n",
       "      <td>1.0</td>\n",
       "      <td>1.0</td>\n",
       "      <td>NaN</td>\n",
       "      <td>94.758838</td>\n",
       "      <td>../data/CARM_VIS_TESS_WinFunc_PGs/WF_J23548+38...</td>\n",
       "      <td>../data/CARM_VIS_TESS_WinFunc_PGs/figures/WF_J...</td>\n",
       "      <td>../data/CARM_VIS_RVs_PGs/J23548+385_RV_PG.dat</td>\n",
       "      <td>../data/CARM_VIS_TESS_PGs/J23548+385_RV_PG.dat</td>\n",
       "    </tr>\n",
       "    <tr>\n",
       "      <th>3</th>\n",
       "      <td>J23505-095</td>\n",
       "      <td>LP 763-012</td>\n",
       "      <td>-</td>\n",
       "      <td>4367</td>\n",
       "      <td>357.634705</td>\n",
       "      <td>-9.560964</td>\n",
       "      <td>23:50:31.64</td>\n",
       "      <td>-09:33:32.7</td>\n",
       "      <td>80.777067</td>\n",
       "      <td>-67.303426</td>\n",
       "      <td>...</td>\n",
       "      <td>1000.000122</td>\n",
       "      <td>9.022946e-07</td>\n",
       "      <td>1.0</td>\n",
       "      <td>1.0</td>\n",
       "      <td>NaN</td>\n",
       "      <td>132.607176</td>\n",
       "      <td>../data/CARM_VIS_TESS_WinFunc_PGs/WF_J23505-09...</td>\n",
       "      <td>../data/CARM_VIS_TESS_WinFunc_PGs/figures/WF_J...</td>\n",
       "      <td>../data/CARM_VIS_RVs_PGs/J23505-095_RV_PG.dat</td>\n",
       "      <td>../data/CARM_VIS_TESS_PGs/J23505-095_RV_PG.dat</td>\n",
       "    </tr>\n",
       "    <tr>\n",
       "      <th>4</th>\n",
       "      <td>J23492+024</td>\n",
       "      <td>BR Psc</td>\n",
       "      <td>-</td>\n",
       "      <td>908</td>\n",
       "      <td>357.306604</td>\n",
       "      <td>2.396918</td>\n",
       "      <td>23:49:12.53</td>\n",
       "      <td>+02:24:04.4</td>\n",
       "      <td>93.567467</td>\n",
       "      <td>-56.885396</td>\n",
       "      <td>...</td>\n",
       "      <td>NaN</td>\n",
       "      <td>NaN</td>\n",
       "      <td>NaN</td>\n",
       "      <td>0.0</td>\n",
       "      <td>Not recognized as a supported data product:\\nn...</td>\n",
       "      <td>0.001995</td>\n",
       "      <td>NaN</td>\n",
       "      <td>NaN</td>\n",
       "      <td>../data/CARM_VIS_RVs_PGs/J23492+024_RV_PG.dat</td>\n",
       "      <td>NaN</td>\n",
       "    </tr>\n",
       "  </tbody>\n",
       "</table>\n",
       "<p>5 rows × 300 columns</p>\n",
       "</div>"
      ],
      "text/plain": [
       "        Karmn             Name Comp    GJ  RA_J2016_deg  DE_J2016_deg  \\\n",
       "0  J23585+076        Wolf 1051   AB  4383    359.636420      7.656947   \n",
       "1  J23556-061           GJ 912   AB   912    358.913617     -6.144283   \n",
       "2  J23548+385  RX J2354.8+3831    -   NaN    358.713658     38.526340   \n",
       "3  J23505-095       LP 763-012    -  4367    357.634705     -9.560964   \n",
       "4  J23492+024           BR Psc    -   908    357.306604      2.396918   \n",
       "\n",
       "      RA_J2000     DE_J2000  l_J2016_deg  b_J2016_deg  ... WF_offset_PG_TESS  \\\n",
       "0  23:58:32.65  +07:39:30.1   100.839686   -52.931049  ...               NaN   \n",
       "1  23:55:39.78  -06:08:33.4    88.129933   -65.175491  ...               NaN   \n",
       "2  23:54:51.46  +38:31:36.2   110.941908   -23.024449  ...        999.999756   \n",
       "3  23:50:31.64  -09:33:32.7    80.777067   -67.303426  ...       1000.000122   \n",
       "4  23:49:12.53  +02:24:04.4    93.567467   -56.885396  ...               NaN   \n",
       "\n",
       "  WF_e_offset_PG_TESS  WF_FAP_PG_TESS WF_valid_PG_TESS  \\\n",
       "0                 NaN             NaN              0.0   \n",
       "1                 NaN             NaN              0.0   \n",
       "2        2.151008e-06             1.0              1.0   \n",
       "3        9.022946e-07             1.0              1.0   \n",
       "4                 NaN             NaN              0.0   \n",
       "\n",
       "                                    WF_error_PG_TESS  WF_elapsed_time_PG_TESS  \\\n",
       "0  Not recognized as a supported data product:\\nn...                 0.000997   \n",
       "1  Not recognized as a supported data product:\\nn...                 0.000998   \n",
       "2                                                NaN                94.758838   \n",
       "3                                                NaN               132.607176   \n",
       "4  Not recognized as a supported data product:\\nn...                 0.001995   \n",
       "\n",
       "                                  WF_plain_file_TESS  \\\n",
       "0                                                NaN   \n",
       "1                                                NaN   \n",
       "2  ../data/CARM_VIS_TESS_WinFunc_PGs/WF_J23548+38...   \n",
       "3  ../data/CARM_VIS_TESS_WinFunc_PGs/WF_J23505-09...   \n",
       "4                                                NaN   \n",
       "\n",
       "                                    WF_fig_file_TESS  \\\n",
       "0                                                NaN   \n",
       "1                                                NaN   \n",
       "2  ../data/CARM_VIS_TESS_WinFunc_PGs/figures/WF_J...   \n",
       "3  ../data/CARM_VIS_TESS_WinFunc_PGs/figures/WF_J...   \n",
       "4                                                NaN   \n",
       "\n",
       "                                      PG_file_RV  \\\n",
       "0  ../data/CARM_VIS_RVs_PGs/J23585+076_RV_PG.dat   \n",
       "1  ../data/CARM_VIS_RVs_PGs/J23556-061_RV_PG.dat   \n",
       "2  ../data/CARM_VIS_RVs_PGs/J23548+385_RV_PG.dat   \n",
       "3  ../data/CARM_VIS_RVs_PGs/J23505-095_RV_PG.dat   \n",
       "4  ../data/CARM_VIS_RVs_PGs/J23492+024_RV_PG.dat   \n",
       "\n",
       "                                     PG_file_TESS  \n",
       "0                                             NaN  \n",
       "1                                             NaN  \n",
       "2  ../data/CARM_VIS_TESS_PGs/J23548+385_RV_PG.dat  \n",
       "3  ../data/CARM_VIS_TESS_PGs/J23505-095_RV_PG.dat  \n",
       "4                                             NaN  \n",
       "\n",
       "[5 rows x 300 columns]"
      ]
     },
     "execution_count": 5,
     "metadata": {},
     "output_type": "execute_result"
    }
   ],
   "source": [
    "df = pd.read_csv(INPUT_FILE, sep=',', decimal='.')\n",
    "df.head()"
   ]
  },
  {
   "cell_type": "code",
   "execution_count": 6,
   "id": "889820d7",
   "metadata": {
    "ExecuteTime": {
     "end_time": "2023-01-17T09:45:51.607282Z",
     "start_time": "2023-01-17T09:45:51.589330Z"
    }
   },
   "outputs": [
    {
     "name": "stdout",
     "output_type": "stream",
     "text": [
      "['Karmn', 'Name', 'Comp', 'GJ', 'RA_J2016_deg', 'DE_J2016_deg', 'RA_J2000', 'DE_J2000', 'l_J2016_deg', 'b_J2016_deg', 'Ref01', 'SpT', 'SpTnum', 'Ref02', 'Teff_K', 'eTeff_K', 'logg', 'elogg', '[Fe/H]', 'e[Fe/H]', 'Ref03', 'L_Lsol', 'eL_Lsol', 'Ref04', 'R_Rsol', 'eR_Rsol', 'Ref05', 'M_Msol', 'eM_Msol', 'Ref06', 'muRA_masa-1', 'emuRA_masa-1', 'muDE_masa-1', 'emuDE_masa-1', 'Ref07', 'pi_mas', 'epi_mas', 'Ref08', 'd_pc', 'ed_pc', 'Ref09', 'Vr_kms-1', 'eVr_kms-1', 'Ref10', 'ruwe', 'Ref11', 'U_kms-1', 'eU_kms-1', 'V_kms-1', 'eV_kms-1', 'W_kms-1', 'eW_kms-1', 'Ref12', 'sa_m/s/a', 'esa_m/s/a', 'Ref13', 'SKG', 'Ref14', 'SKG_lit', 'Ref14_lit', 'Pop', 'Ref15', 'vsini_flag', 'vsini_kms-1', 'evsini_kms-1', 'Ref16', 'P_d', 'eP_d', 'Ref17', 'pEWHalpha_A', 'epEWHalpha_A', 'Ref18', 'log(LHalpha/Lbol)', 'elog(LHalpha/Lbol)', 'Ref19', '1RXS', 'CRT_s-1', 'eCRT_s-1', 'HR1', 'eHR1', 'HR2', 'eHR2', 'Flux_X_E-13_ergcm-2s-1', 'eFlux_X_E-13_ergcm-2s-1', 'LX/LJ', 'eLX/LJ', 'Ref20', 'Activity', 'Ref21', 'FUV_mag', 'eFUV_mag', 'NUV_mag', 'eNUV_mag', 'Ref22', 'u_mag', 'eu_mag', 'Ref23', 'BT_mag', 'eBT_mag', 'Ref24', 'B_mag', 'eB_mag', 'Ref25', 'BP_mag', 'eBP_mag', 'Ref26', 'g_mag', 'eg_mag', 'Ref27', 'VT_mag', 'eVT_mag', 'Ref28', 'V_mag', 'eV_mag', 'Ref29', 'Ra_mag', 'Ref30', 'r_mag', 'er_mag', 'Ref31', 'GG_mag', 'eGG_mag', 'Ref32', 'i_mag', 'ei_mag', 'Ref33', 'RP_mag', 'eRP_mag', 'Ref34', 'IN_mag', 'Ref35', 'J_mag', 'eJ_mag', 'H_mag', 'eH_mag', 'Ks_mag', 'eKs_mag', 'QFlag_2M', 'Ref36', 'W1_mag', 'eW1_mag', 'W2_mag', 'eW2_mag', 'W3_mag', 'eW3_mag', 'W4_mag', 'eW4_mag', 'QFlag_WISE', 'Ref37', 'Multiplicity', 'WideWDS', 'Widerho_arcsec', 'eWiderho_arcsec', 'Ref38', 'WideCompanionName', 'WideCompanionSpT', 'CloseWDS', 'Closerho_arcsec', 'eCloserho_arcsec', 'Ref39', 'CloseCompanionSpT', 'RV', 'Planet', 'Ref40', 'PlanetNum', 'LoRes_spectrum', 'HiRes_spectrum', 'LoRes_imaging', 'HiRes_imaging', 'Class', 'Survey', 'Notes', 'Gaia_id_1', '2MASS_id', 'TIC_id', 'Teff_min_K', 'Teff_max_K', 'logg_min', 'logg_max', 'is_GTO', 'rv_file', 'lc_file', 'has_rv', 'has_lc', 'InstBand_nominal', 'InstBand_ranged', 'n_RV', 'Ps_RV', 'fs_RV', 'wmean_RV', 'wrms_RV', 'info_PG_RV', 'maxP_PG_RV', 'maxSNR_PG_RV', 'rms_PG_RV', 'f_PG_RV', 'e_f_PG_RV', 'Pd_PG_RV', 'e_Pd_PG_RV', 'Ph_PG_RV', 'e_Ph_PG_RV', 'Pm_PG_RV', 'e_Pm_PG_RV', 'A_PG_RV', 'e_A_PG_RV', 'ph_PG_RV', 'e_ph_PG_RV', 'T0_PG_RV', 'e_T0_PG_RV', 'offset_PG_RV', 'e_offset_PG_RV', 'FAP_PG_RV', 'valid_PG_RV', 'error_PG_RV', 'elapsed_time_PG_RV', 'fits_file_RV', 'fig_file_RV', 'n_TESS', 'Ps_TESS', 'fs_TESS', 'wmean_TESS', 'wrms_TESS', 'info_PG_TESS', 'maxP_PG_TESS', 'maxSNR_PG_TESS', 'rms_PG_TESS', 'f_PG_TESS', 'e_f_PG_TESS', 'Pd_PG_TESS', 'e_Pd_PG_TESS', 'Ph_PG_TESS', 'e_Ph_PG_TESS', 'Pm_PG_TESS', 'e_Pm_PG_TESS', 'A_PG_TESS', 'e_A_PG_TESS', 'ph_PG_TESS', 'e_ph_PG_TESS', 'T0_PG_TESS', 'e_T0_PG_TESS', 'offset_PG_TESS', 'e_offset_PG_TESS', 'FAP_PG_TESS', 'valid_PG_TESS', 'error_PG_TESS', 'elapsed_time_PG_TESS', 'fits_file_TESS', 'fig_file_TESS', 'WF_maxP_PG_RV', 'WF_maxSNR_PG_RV', 'WF_rms_PG_RV', 'WF_f_PG_RV', 'WF_e_f_PG_RV', 'WF_Pd_PG_RV', 'WF_e_Pd_PG_RV', 'WF_Ph_PG_RV', 'WF_e_Ph_PG_RV', 'WF_Pm_PG_RV', 'WF_e_Pm_PG_RV', 'WF_A_PG_RV', 'WF_e_A_PG_RV', 'WF_ph_PG_RV', 'WF_e_ph_PG_RV', 'WF_T0_PG_RV', 'WF_e_T0_PG_RV', 'WF_offset_PG_RV', 'WF_e_offset_PG_RV', 'WF_FAP_PG_RV', 'WF_valid_PG_RV', 'WF_error_PG_RV', 'WF_elapsed_time_PG_RV', 'WF_plain_file_RV', 'WF_fig_file_RV', 'WF_maxP_PG_TESS', 'WF_maxSNR_PG_TESS', 'WF_rms_PG_TESS', 'WF_f_PG_TESS', 'WF_e_f_PG_TESS', 'WF_Pd_PG_TESS', 'WF_e_Pd_PG_TESS', 'WF_Ph_PG_TESS', 'WF_e_Ph_PG_TESS', 'WF_Pm_PG_TESS', 'WF_e_Pm_PG_TESS', 'WF_A_PG_TESS', 'WF_e_A_PG_TESS', 'WF_ph_PG_TESS', 'WF_e_ph_PG_TESS', 'WF_T0_PG_TESS', 'WF_e_T0_PG_TESS', 'WF_offset_PG_TESS', 'WF_e_offset_PG_TESS', 'WF_FAP_PG_TESS', 'WF_valid_PG_TESS', 'WF_error_PG_TESS', 'WF_elapsed_time_PG_TESS', 'WF_plain_file_TESS', 'WF_fig_file_TESS', 'PG_file_RV', 'PG_file_TESS']\n"
     ]
    }
   ],
   "source": [
    "print(list(df.columns))"
   ]
  },
  {
   "cell_type": "markdown",
   "id": "6c8b1d21",
   "metadata": {},
   "source": [
    "## Data statistics"
   ]
  },
  {
   "cell_type": "markdown",
   "id": "d4c011a4",
   "metadata": {},
   "source": [
    "### Overall data statistics"
   ]
  },
  {
   "cell_type": "markdown",
   "id": "6eeee237",
   "metadata": {},
   "source": [
    "#### Instability band analysis (Overall) "
   ]
  },
  {
   "cell_type": "code",
   "execution_count": 7,
   "id": "1ff24b6b",
   "metadata": {
    "ExecuteTime": {
     "end_time": "2023-01-17T09:45:54.038515Z",
     "start_time": "2023-01-17T09:45:54.004606Z"
    }
   },
   "outputs": [
    {
     "data": {
      "text/html": [
       "<div>\n",
       "<style scoped>\n",
       "    .dataframe tbody tr th:only-of-type {\n",
       "        vertical-align: middle;\n",
       "    }\n",
       "\n",
       "    .dataframe tbody tr th {\n",
       "        vertical-align: top;\n",
       "    }\n",
       "\n",
       "    .dataframe thead th {\n",
       "        text-align: right;\n",
       "    }\n",
       "</style>\n",
       "<table border=\"1\" class=\"dataframe\">\n",
       "  <thead>\n",
       "    <tr style=\"text-align: right;\">\n",
       "      <th></th>\n",
       "      <th>InstBand_nominal</th>\n",
       "      <th>InstBand_ranged</th>\n",
       "    </tr>\n",
       "  </thead>\n",
       "  <tbody>\n",
       "    <tr>\n",
       "      <th>count</th>\n",
       "      <td>390</td>\n",
       "      <td>390</td>\n",
       "    </tr>\n",
       "    <tr>\n",
       "      <th>unique</th>\n",
       "      <td>2</td>\n",
       "      <td>2</td>\n",
       "    </tr>\n",
       "    <tr>\n",
       "      <th>top</th>\n",
       "      <td>He3-burning</td>\n",
       "      <td>He3-burning</td>\n",
       "    </tr>\n",
       "    <tr>\n",
       "      <th>freq</th>\n",
       "      <td>243</td>\n",
       "      <td>279</td>\n",
       "    </tr>\n",
       "  </tbody>\n",
       "</table>\n",
       "</div>"
      ],
      "text/plain": [
       "       InstBand_nominal InstBand_ranged\n",
       "count               390             390\n",
       "unique                2               2\n",
       "top         He3-burning     He3-burning\n",
       "freq                243             279"
      ]
     },
     "execution_count": 7,
     "metadata": {},
     "output_type": "execute_result"
    }
   ],
   "source": [
    "df[['InstBand_nominal', 'InstBand_ranged']].describe()"
   ]
  },
  {
   "cell_type": "markdown",
   "id": "aaa4c039",
   "metadata": {},
   "source": [
    "**OBSERVATION:** we have 243 stars inside the instability band ($\\approx62\\%$). If we consider the value ranges given by the errors in the variables, the number rises to 279 stars ($\\approx72\\%$)."
   ]
  },
  {
   "cell_type": "markdown",
   "id": "e5739417",
   "metadata": {},
   "source": [
    "#### RV curves characteristics (Overall)"
   ]
  },
  {
   "cell_type": "code",
   "execution_count": 8,
   "id": "c3733530",
   "metadata": {
    "ExecuteTime": {
     "end_time": "2023-01-17T09:46:08.345334Z",
     "start_time": "2023-01-17T09:46:08.334363Z"
    }
   },
   "outputs": [],
   "source": [
    "rv_main_vars = df[['Karmn', 'n_RV', 'Ps_RV', 'fs_RV', 'wmean_RV', 'wrms_RV',\n",
    "                   'rms_PG_RV', 'f_PG_RV', 'Pd_PG_RV', 'FAP_PG_RV']] \\\n",
    "    .copy()"
   ]
  },
  {
   "cell_type": "code",
   "execution_count": 9,
   "id": "95e295bc",
   "metadata": {
    "ExecuteTime": {
     "end_time": "2023-01-17T09:46:12.339963Z",
     "start_time": "2023-01-17T09:46:12.302064Z"
    }
   },
   "outputs": [
    {
     "data": {
      "text/html": [
       "<div>\n",
       "<style scoped>\n",
       "    .dataframe tbody tr th:only-of-type {\n",
       "        vertical-align: middle;\n",
       "    }\n",
       "\n",
       "    .dataframe tbody tr th {\n",
       "        vertical-align: top;\n",
       "    }\n",
       "\n",
       "    .dataframe thead th {\n",
       "        text-align: right;\n",
       "    }\n",
       "</style>\n",
       "<table border=\"1\" class=\"dataframe\">\n",
       "  <thead>\n",
       "    <tr style=\"text-align: right;\">\n",
       "      <th></th>\n",
       "      <th>n_RV</th>\n",
       "      <th>Ps_RV</th>\n",
       "      <th>fs_RV</th>\n",
       "      <th>wmean_RV</th>\n",
       "      <th>wrms_RV</th>\n",
       "      <th>rms_PG_RV</th>\n",
       "      <th>f_PG_RV</th>\n",
       "      <th>Pd_PG_RV</th>\n",
       "      <th>FAP_PG_RV</th>\n",
       "    </tr>\n",
       "  </thead>\n",
       "  <tbody>\n",
       "    <tr>\n",
       "      <th>count</th>\n",
       "      <td>387.000000</td>\n",
       "      <td>387.000000</td>\n",
       "      <td>387.000000</td>\n",
       "      <td>3.870000e+02</td>\n",
       "      <td>387.000000</td>\n",
       "      <td>3.870000e+02</td>\n",
       "      <td>387.000000</td>\n",
       "      <td>387.000000</td>\n",
       "      <td>3.870000e+02</td>\n",
       "    </tr>\n",
       "    <tr>\n",
       "      <th>mean</th>\n",
       "      <td>51.979328</td>\n",
       "      <td>15.805441</td>\n",
       "      <td>1.431340</td>\n",
       "      <td>-1.651589e+00</td>\n",
       "      <td>361.871528</td>\n",
       "      <td>7.720542e+01</td>\n",
       "      <td>129.676001</td>\n",
       "      <td>0.055950</td>\n",
       "      <td>1.891508e-01</td>\n",
       "    </tr>\n",
       "    <tr>\n",
       "      <th>std</th>\n",
       "      <td>76.124792</td>\n",
       "      <td>28.078791</td>\n",
       "      <td>17.256361</td>\n",
       "      <td>4.359460e+01</td>\n",
       "      <td>2564.902866</td>\n",
       "      <td>4.348958e+02</td>\n",
       "      <td>90.337377</td>\n",
       "      <td>0.109089</td>\n",
       "      <td>2.670231e-01</td>\n",
       "    </tr>\n",
       "    <tr>\n",
       "      <th>min</th>\n",
       "      <td>4.000000</td>\n",
       "      <td>0.003176</td>\n",
       "      <td>0.003251</td>\n",
       "      <td>-4.853787e+02</td>\n",
       "      <td>0.666710</td>\n",
       "      <td>1.075686e-07</td>\n",
       "      <td>2.523040</td>\n",
       "      <td>0.003474</td>\n",
       "      <td>7.762397e-23</td>\n",
       "    </tr>\n",
       "    <tr>\n",
       "      <th>25%</th>\n",
       "      <td>14.000000</td>\n",
       "      <td>3.294005</td>\n",
       "      <td>0.054617</td>\n",
       "      <td>-1.322098e-01</td>\n",
       "      <td>2.684700</td>\n",
       "      <td>1.213657e+00</td>\n",
       "      <td>44.390640</td>\n",
       "      <td>0.004842</td>\n",
       "      <td>9.308827e-03</td>\n",
       "    </tr>\n",
       "    <tr>\n",
       "      <th>50%</th>\n",
       "      <td>30.000000</td>\n",
       "      <td>8.830573</td>\n",
       "      <td>0.113243</td>\n",
       "      <td>-1.110223e-16</td>\n",
       "      <td>4.015005</td>\n",
       "      <td>2.450123e+00</td>\n",
       "      <td>136.619040</td>\n",
       "      <td>0.007320</td>\n",
       "      <td>6.484606e-02</td>\n",
       "    </tr>\n",
       "    <tr>\n",
       "      <th>75%</th>\n",
       "      <td>60.000000</td>\n",
       "      <td>18.311180</td>\n",
       "      <td>0.304807</td>\n",
       "      <td>2.498002e-16</td>\n",
       "      <td>11.644566</td>\n",
       "      <td>5.280105e+00</td>\n",
       "      <td>206.529200</td>\n",
       "      <td>0.022528</td>\n",
       "      <td>2.476015e-01</td>\n",
       "    </tr>\n",
       "    <tr>\n",
       "      <th>max</th>\n",
       "      <td>768.000000</td>\n",
       "      <td>307.604864</td>\n",
       "      <td>314.907497</td>\n",
       "      <td>5.132076e+02</td>\n",
       "      <td>31233.301918</td>\n",
       "      <td>5.173615e+03</td>\n",
       "      <td>287.816080</td>\n",
       "      <td>0.396347</td>\n",
       "      <td>1.000000e+00</td>\n",
       "    </tr>\n",
       "  </tbody>\n",
       "</table>\n",
       "</div>"
      ],
      "text/plain": [
       "             n_RV       Ps_RV       fs_RV      wmean_RV       wrms_RV  \\\n",
       "count  387.000000  387.000000  387.000000  3.870000e+02    387.000000   \n",
       "mean    51.979328   15.805441    1.431340 -1.651589e+00    361.871528   \n",
       "std     76.124792   28.078791   17.256361  4.359460e+01   2564.902866   \n",
       "min      4.000000    0.003176    0.003251 -4.853787e+02      0.666710   \n",
       "25%     14.000000    3.294005    0.054617 -1.322098e-01      2.684700   \n",
       "50%     30.000000    8.830573    0.113243 -1.110223e-16      4.015005   \n",
       "75%     60.000000   18.311180    0.304807  2.498002e-16     11.644566   \n",
       "max    768.000000  307.604864  314.907497  5.132076e+02  31233.301918   \n",
       "\n",
       "          rms_PG_RV     f_PG_RV    Pd_PG_RV     FAP_PG_RV  \n",
       "count  3.870000e+02  387.000000  387.000000  3.870000e+02  \n",
       "mean   7.720542e+01  129.676001    0.055950  1.891508e-01  \n",
       "std    4.348958e+02   90.337377    0.109089  2.670231e-01  \n",
       "min    1.075686e-07    2.523040    0.003474  7.762397e-23  \n",
       "25%    1.213657e+00   44.390640    0.004842  9.308827e-03  \n",
       "50%    2.450123e+00  136.619040    0.007320  6.484606e-02  \n",
       "75%    5.280105e+00  206.529200    0.022528  2.476015e-01  \n",
       "max    5.173615e+03  287.816080    0.396347  1.000000e+00  "
      ]
     },
     "execution_count": 9,
     "metadata": {},
     "output_type": "execute_result"
    }
   ],
   "source": [
    "rv_main_vars.describe()"
   ]
  },
  {
   "cell_type": "markdown",
   "id": "1c60b8ff",
   "metadata": {},
   "source": [
    "**OBSERVATION:** RV times series values (Minimum - Median - Maximum) for the whole sample:\n",
    "- `n_RV`, number of RV points: (4 - 30 - 768)\n",
    "- `Ps_RV`, sampling period: (0.0032 - 8.83 - 308) days\n",
    "- `wrms_RV`, RMS value of the RV time series: (0.67 / 4.02 / 31233) m/s\n",
    "- `Pd_PG_RV`, detected periodogram periods: (0.0035 - 0.0073 - 0.3964) d = (5 min - 11 min - 9.5 h)\n",
    "- `FAP_PG_RV`, False Alarm Probability for calculated peak: (7.76e-23 - 0.065 - 1.00)"
   ]
  },
  {
   "cell_type": "markdown",
   "id": "c83f6ea3",
   "metadata": {},
   "source": [
    "##### Number of points analysis (RV curves - Overall)"
   ]
  },
  {
   "cell_type": "code",
   "execution_count": 10,
   "id": "9be30823",
   "metadata": {
    "ExecuteTime": {
     "end_time": "2023-01-17T09:46:18.101199Z",
     "start_time": "2023-01-17T09:46:17.758117Z"
    }
   },
   "outputs": [
    {
     "name": "stderr",
     "output_type": "stream",
     "text": [
      "C:\\Users\\ciroe\\anaconda3\\lib\\site-packages\\seaborn\\distributions.py:2557: FutureWarning: `distplot` is a deprecated function and will be removed in a future version. Please adapt your code to use either `displot` (a figure-level function with similar flexibility) or `histplot` (an axes-level function for histograms).\n",
      "  warnings.warn(msg, FutureWarning)\n"
     ]
    },
    {
     "name": "stdout",
     "output_type": "stream",
     "text": [
      "count    387.000000\n",
      "mean      51.979328\n",
      "std       76.124792\n",
      "min        4.000000\n",
      "25%       14.000000\n",
      "50%       30.000000\n",
      "75%       60.000000\n",
      "max      768.000000\n",
      "Name: n_RV, dtype: float64\n",
      "p = nan\n",
      "This distribution MIGHT COME come from Gaussian distribution(with significance level = 0.999000)\n"
     ]
    },
    {
     "data": {
      "image/png": "[encoded data removed]",
      "text/plain": [
       "<Figure size 720x504 with 1 Axes>"
      ]
     },
     "metadata": {},
     "output_type": "display_data"
    }
   ],
   "source": [
    "draw_hist(rv_main_vars['n_RV'], \"Number of points in CARMENES RV time series\\nFull Sample\",\n",
    "          fig_filename=IMAGE_FOLDER + \"ETL_46_01_RV_Number_of_points_distribution.png\")"
   ]
  },
  {
   "cell_type": "code",
   "execution_count": 11,
   "id": "e9449c1d",
   "metadata": {
    "ExecuteTime": {
     "end_time": "2023-01-17T09:46:18.556345Z",
     "start_time": "2023-01-17T09:46:18.540388Z"
    }
   },
   "outputs": [
    {
     "data": {
      "text/plain": [
       "122.83999999999997"
      ]
     },
     "execution_count": 11,
     "metadata": {},
     "output_type": "execute_result"
    }
   ],
   "source": [
    "np.nanquantile(rv_main_vars['n_RV'], q=0.94)"
   ]
  },
  {
   "cell_type": "code",
   "execution_count": 12,
   "id": "70cee936",
   "metadata": {
    "ExecuteTime": {
     "end_time": "2023-01-17T09:46:19.391202Z",
     "start_time": "2023-01-17T09:46:19.373250Z"
    }
   },
   "outputs": [
    {
     "data": {
      "text/plain": [
       "139.19999999999982"
      ]
     },
     "execution_count": 12,
     "metadata": {},
     "output_type": "execute_result"
    }
   ],
   "source": [
    "np.nanquantile(rv_main_vars['n_RV'], q=0.95)"
   ]
  },
  {
   "cell_type": "code",
   "execution_count": 13,
   "id": "e715b126",
   "metadata": {
    "ExecuteTime": {
     "end_time": "2023-01-17T09:46:20.110845Z",
     "start_time": "2023-01-17T09:46:20.092894Z"
    }
   },
   "outputs": [
    {
     "data": {
      "text/plain": [
       "159.0"
      ]
     },
     "execution_count": 13,
     "metadata": {},
     "output_type": "execute_result"
    }
   ],
   "source": [
    "np.nanquantile(rv_main_vars['n_RV'], q=0.96)"
   ]
  },
  {
   "cell_type": "markdown",
   "id": "22969b46",
   "metadata": {},
   "source": [
    "**OBSERVATION:**\n",
    "- Most of the RV time series ($95\\%$) have less than $\\approx140$ points."
   ]
  },
  {
   "cell_type": "markdown",
   "id": "b915888a",
   "metadata": {},
   "source": [
    "##### Sampling period analysis (RV curves - Overall)"
   ]
  },
  {
   "cell_type": "code",
   "execution_count": 14,
   "id": "b0fdcd44",
   "metadata": {
    "ExecuteTime": {
     "end_time": "2023-01-17T09:46:59.276048Z",
     "start_time": "2023-01-17T09:46:58.972859Z"
    }
   },
   "outputs": [
    {
     "name": "stderr",
     "output_type": "stream",
     "text": [
      "C:\\Users\\ciroe\\anaconda3\\lib\\site-packages\\seaborn\\distributions.py:2557: FutureWarning: `distplot` is a deprecated function and will be removed in a future version. Please adapt your code to use either `displot` (a figure-level function with similar flexibility) or `histplot` (an axes-level function for histograms).\n",
      "  warnings.warn(msg, FutureWarning)\n"
     ]
    },
    {
     "name": "stdout",
     "output_type": "stream",
     "text": [
      "count    387.000000\n",
      "mean      15.805441\n",
      "std       28.078791\n",
      "min        0.003176\n",
      "25%        3.294005\n",
      "50%        8.830573\n",
      "75%       18.311180\n",
      "max      307.604864\n",
      "Name: Ps_RV, dtype: float64\n",
      "p = nan\n",
      "This distribution MIGHT COME come from Gaussian distribution(with significance level = 0.999000)\n"
     ]
    },
    {
     "data": {
      "image/png": "[encoded data removed]",
      "text/plain": [
       "<Figure size 720x504 with 1 Axes>"
      ]
     },
     "metadata": {},
     "output_type": "display_data"
    }
   ],
   "source": [
    "draw_hist(rv_main_vars['Ps_RV'], \"Sampling periods in CARMENES RV time series\\nFull sample\",\n",
    "          fig_filename=IMAGE_FOLDER + \"ETL_46_02_RV_Sampling_period_distribution.png\")"
   ]
  },
  {
   "cell_type": "code",
   "execution_count": 15,
   "id": "6f874fea",
   "metadata": {
    "ExecuteTime": {
     "end_time": "2023-01-17T09:46:59.529519Z",
     "start_time": "2023-01-17T09:46:59.516554Z"
    }
   },
   "outputs": [
    {
     "data": {
      "text/plain": [
       "0.9830872804718092"
      ]
     },
     "execution_count": 15,
     "metadata": {},
     "output_type": "execute_result"
    }
   ],
   "source": [
    "np.nanquantile(rv_main_vars['Ps_RV'], q=0.03)"
   ]
  },
  {
   "cell_type": "code",
   "execution_count": 16,
   "id": "99415875",
   "metadata": {
    "ExecuteTime": {
     "end_time": "2023-01-17T09:47:00.107712Z",
     "start_time": "2023-01-17T09:47:00.100730Z"
    }
   },
   "outputs": [
    {
     "data": {
      "text/plain": [
       "1.0073478420823812"
      ]
     },
     "execution_count": 16,
     "metadata": {},
     "output_type": "execute_result"
    }
   ],
   "source": [
    "np.nanquantile(rv_main_vars['Ps_RV'], q=0.04)"
   ]
  },
  {
   "cell_type": "markdown",
   "id": "5f2c9c90",
   "metadata": {},
   "source": [
    "**OBSERVATION:**\n",
    "- Most of the RV time series ($96\\%$) have sampling periods greater than $\\approx1$ day."
   ]
  },
  {
   "cell_type": "markdown",
   "id": "d22534d9",
   "metadata": {},
   "source": [
    "##### RMS analysis (RV curves - Overall)"
   ]
  },
  {
   "cell_type": "code",
   "execution_count": 17,
   "id": "76dce67f",
   "metadata": {
    "ExecuteTime": {
     "end_time": "2023-01-17T09:47:05.702477Z",
     "start_time": "2023-01-17T09:47:05.381336Z"
    }
   },
   "outputs": [
    {
     "name": "stderr",
     "output_type": "stream",
     "text": [
      "C:\\Users\\ciroe\\anaconda3\\lib\\site-packages\\seaborn\\distributions.py:2557: FutureWarning: `distplot` is a deprecated function and will be removed in a future version. Please adapt your code to use either `displot` (a figure-level function with similar flexibility) or `histplot` (an axes-level function for histograms).\n",
      "  warnings.warn(msg, FutureWarning)\n"
     ]
    },
    {
     "name": "stdout",
     "output_type": "stream",
     "text": [
      "count      387.000000\n",
      "mean       361.871528\n",
      "std       2564.902866\n",
      "min          0.666710\n",
      "25%          2.684700\n",
      "50%          4.015005\n",
      "75%         11.644566\n",
      "max      31233.301918\n",
      "Name: wrms_RV, dtype: float64\n",
      "p = nan\n",
      "This distribution MIGHT COME come from Gaussian distribution(with significance level = 0.999000)\n"
     ]
    },
    {
     "data": {
      "image/png": "[encoded data removed]",
      "text/plain": [
       "<Figure size 720x504 with 1 Axes>"
      ]
     },
     "metadata": {},
     "output_type": "display_data"
    }
   ],
   "source": [
    "draw_hist(rv_main_vars['wrms_RV'], \"RMS values in CARMENES RV time series\\nFull sample\",\n",
    "          fig_filename=IMAGE_FOLDER + \"ETL_46_03_RV_RMS_values_distribution.png\")"
   ]
  },
  {
   "cell_type": "code",
   "execution_count": 18,
   "id": "ed3abce4",
   "metadata": {
    "ExecuteTime": {
     "end_time": "2023-01-17T09:47:06.094948Z",
     "start_time": "2023-01-17T09:47:06.084975Z"
    }
   },
   "outputs": [
    {
     "data": {
      "text/plain": [
       "4.9766402479075476"
      ]
     },
     "execution_count": 18,
     "metadata": {},
     "output_type": "execute_result"
    }
   ],
   "source": [
    "np.nanquantile(rv_main_vars['wrms_RV'], q=0.60)"
   ]
  },
  {
   "cell_type": "code",
   "execution_count": 19,
   "id": "95174c59",
   "metadata": {
    "ExecuteTime": {
     "end_time": "2023-01-17T09:47:06.659437Z",
     "start_time": "2023-01-17T09:47:06.645476Z"
    }
   },
   "outputs": [
    {
     "data": {
      "text/plain": [
       "5.178084680528026"
      ]
     },
     "execution_count": 19,
     "metadata": {},
     "output_type": "execute_result"
    }
   ],
   "source": [
    "np.nanquantile(rv_main_vars['wrms_RV'], q=0.61)"
   ]
  },
  {
   "cell_type": "markdown",
   "id": "e22ce2e2",
   "metadata": {},
   "source": [
    "**OBSERVATION:**\n",
    "- $60\\%$ of the time series show RMS values (outliers removed) lower than $5\\;m\\;s^{-1}$."
   ]
  },
  {
   "cell_type": "code",
   "execution_count": 20,
   "id": "3094539d",
   "metadata": {
    "ExecuteTime": {
     "end_time": "2023-01-17T09:47:07.820331Z",
     "start_time": "2023-01-17T09:47:07.813350Z"
    }
   },
   "outputs": [
    {
     "data": {
      "text/plain": [
       "10.916976682359135"
      ]
     },
     "execution_count": 20,
     "metadata": {},
     "output_type": "execute_result"
    }
   ],
   "source": [
    "np.nanquantile(rv_main_vars['wrms_RV'], q=0.74)"
   ]
  },
  {
   "cell_type": "code",
   "execution_count": 21,
   "id": "66431772",
   "metadata": {
    "ExecuteTime": {
     "end_time": "2023-01-17T09:47:08.309923Z",
     "start_time": "2023-01-17T09:47:08.300947Z"
    }
   },
   "outputs": [
    {
     "data": {
      "text/plain": [
       "11.644566417612893"
      ]
     },
     "execution_count": 21,
     "metadata": {},
     "output_type": "execute_result"
    }
   ],
   "source": [
    "np.nanquantile(rv_main_vars['wrms_RV'], q=0.75)"
   ]
  },
  {
   "cell_type": "code",
   "execution_count": 22,
   "id": "88cb5efa",
   "metadata": {
    "ExecuteTime": {
     "end_time": "2023-01-17T09:47:08.918230Z",
     "start_time": "2023-01-17T09:47:08.901275Z"
    }
   },
   "outputs": [
    {
     "data": {
      "text/plain": [
       "12.41713513867993"
      ]
     },
     "execution_count": 22,
     "metadata": {},
     "output_type": "execute_result"
    }
   ],
   "source": [
    "np.nanquantile(rv_main_vars['wrms_RV'], q=0.76)"
   ]
  },
  {
   "cell_type": "markdown",
   "id": "53f8fbd9",
   "metadata": {},
   "source": [
    "**OBSERVATION:**\n",
    "- $75\\%$ of the time series show RMS values (outliers removed) lower than $12\\;m\\;s^{-1}$."
   ]
  },
  {
   "cell_type": "markdown",
   "id": "759baf39",
   "metadata": {},
   "source": [
    "### Select objects for periodogram analysis"
   ]
  },
  {
   "cell_type": "code",
   "execution_count": 23,
   "id": "a4b45b76",
   "metadata": {
    "ExecuteTime": {
     "end_time": "2023-01-17T09:47:10.750136Z",
     "start_time": "2023-01-17T09:47:10.733182Z"
    }
   },
   "outputs": [
    {
     "data": {
      "text/plain": [
       "269"
      ]
     },
     "execution_count": 23,
     "metadata": {},
     "output_type": "execute_result"
    }
   ],
   "source": [
    "pg_df = df[(df['valid_PG_TESS'] == 1.0) & (df['valid_PG_RV'] == 1.0)].copy()\n",
    "len(pg_df)"
   ]
  },
  {
   "cell_type": "markdown",
   "id": "7a10498f",
   "metadata": {},
   "source": [
    "### PG subsample statistics"
   ]
  },
  {
   "cell_type": "markdown",
   "id": "ac1b25ee",
   "metadata": {},
   "source": [
    "#### Instability band analysis (PG subsample) "
   ]
  },
  {
   "cell_type": "code",
   "execution_count": 24,
   "id": "8f8f71b2",
   "metadata": {
    "ExecuteTime": {
     "end_time": "2023-01-17T09:47:14.316487Z",
     "start_time": "2023-01-17T09:47:14.306515Z"
    }
   },
   "outputs": [
    {
     "data": {
      "text/html": [
       "<div>\n",
       "<style scoped>\n",
       "    .dataframe tbody tr th:only-of-type {\n",
       "        vertical-align: middle;\n",
       "    }\n",
       "\n",
       "    .dataframe tbody tr th {\n",
       "        vertical-align: top;\n",
       "    }\n",
       "\n",
       "    .dataframe thead th {\n",
       "        text-align: right;\n",
       "    }\n",
       "</style>\n",
       "<table border=\"1\" class=\"dataframe\">\n",
       "  <thead>\n",
       "    <tr style=\"text-align: right;\">\n",
       "      <th></th>\n",
       "      <th>InstBand_nominal</th>\n",
       "      <th>InstBand_ranged</th>\n",
       "    </tr>\n",
       "  </thead>\n",
       "  <tbody>\n",
       "    <tr>\n",
       "      <th>count</th>\n",
       "      <td>269</td>\n",
       "      <td>269</td>\n",
       "    </tr>\n",
       "    <tr>\n",
       "      <th>unique</th>\n",
       "      <td>2</td>\n",
       "      <td>2</td>\n",
       "    </tr>\n",
       "    <tr>\n",
       "      <th>top</th>\n",
       "      <td>He3-burning</td>\n",
       "      <td>He3-burning</td>\n",
       "    </tr>\n",
       "    <tr>\n",
       "      <th>freq</th>\n",
       "      <td>173</td>\n",
       "      <td>199</td>\n",
       "    </tr>\n",
       "  </tbody>\n",
       "</table>\n",
       "</div>"
      ],
      "text/plain": [
       "       InstBand_nominal InstBand_ranged\n",
       "count               269             269\n",
       "unique                2               2\n",
       "top         He3-burning     He3-burning\n",
       "freq                173             199"
      ]
     },
     "execution_count": 24,
     "metadata": {},
     "output_type": "execute_result"
    }
   ],
   "source": [
    "pg_df[['InstBand_nominal', 'InstBand_ranged']].describe()"
   ]
  },
  {
   "cell_type": "markdown",
   "id": "e82512f4",
   "metadata": {},
   "source": [
    "**OBSERVATION:** we have 173 stars inside the instability band ($\\approx64\\%$). If we consider the value ranges given by the errors in the variables, the number rises to 199 stars ($\\approx74\\%$). This values are similar to the ones calculated for the overall sample ($\\approx62\\%$ and $\\approx72\\%$, respectively)."
   ]
  },
  {
   "cell_type": "markdown",
   "id": "70f11668",
   "metadata": {},
   "source": [
    "#### RV curves characteristics (PG subsample)"
   ]
  },
  {
   "cell_type": "code",
   "execution_count": 25,
   "id": "359736ed",
   "metadata": {
    "ExecuteTime": {
     "end_time": "2023-01-17T09:47:25.390886Z",
     "start_time": "2023-01-17T09:47:25.381910Z"
    }
   },
   "outputs": [],
   "source": [
    "pg_rv_main_vars = pg_df[['Karmn', 'n_RV', 'Ps_RV', 'fs_RV', 'wmean_RV', 'wrms_RV',\n",
    "                         'rms_PG_RV', 'f_PG_RV', 'Pd_PG_RV', 'FAP_PG_RV']] \\\n",
    "    .copy()"
   ]
  },
  {
   "cell_type": "code",
   "execution_count": 26,
   "id": "ba2ecab0",
   "metadata": {
    "ExecuteTime": {
     "end_time": "2023-01-17T09:47:25.877592Z",
     "start_time": "2023-01-17T09:47:25.844680Z"
    }
   },
   "outputs": [
    {
     "data": {
      "text/html": [
       "<div>\n",
       "<style scoped>\n",
       "    .dataframe tbody tr th:only-of-type {\n",
       "        vertical-align: middle;\n",
       "    }\n",
       "\n",
       "    .dataframe tbody tr th {\n",
       "        vertical-align: top;\n",
       "    }\n",
       "\n",
       "    .dataframe thead th {\n",
       "        text-align: right;\n",
       "    }\n",
       "</style>\n",
       "<table border=\"1\" class=\"dataframe\">\n",
       "  <thead>\n",
       "    <tr style=\"text-align: right;\">\n",
       "      <th></th>\n",
       "      <th>n_RV</th>\n",
       "      <th>Ps_RV</th>\n",
       "      <th>fs_RV</th>\n",
       "      <th>wmean_RV</th>\n",
       "      <th>wrms_RV</th>\n",
       "      <th>rms_PG_RV</th>\n",
       "      <th>f_PG_RV</th>\n",
       "      <th>Pd_PG_RV</th>\n",
       "      <th>FAP_PG_RV</th>\n",
       "    </tr>\n",
       "  </thead>\n",
       "  <tbody>\n",
       "    <tr>\n",
       "      <th>count</th>\n",
       "      <td>269.000000</td>\n",
       "      <td>269.000000</td>\n",
       "      <td>269.000000</td>\n",
       "      <td>2.690000e+02</td>\n",
       "      <td>269.000000</td>\n",
       "      <td>2.690000e+02</td>\n",
       "      <td>269.000000</td>\n",
       "      <td>269.000000</td>\n",
       "      <td>2.690000e+02</td>\n",
       "    </tr>\n",
       "    <tr>\n",
       "      <th>mean</th>\n",
       "      <td>50.048327</td>\n",
       "      <td>16.728466</td>\n",
       "      <td>1.444508</td>\n",
       "      <td>-1.786416e-01</td>\n",
       "      <td>358.983143</td>\n",
       "      <td>7.722953e+01</td>\n",
       "      <td>131.958813</td>\n",
       "      <td>0.056387</td>\n",
       "      <td>1.902993e-01</td>\n",
       "    </tr>\n",
       "    <tr>\n",
       "      <th>std</th>\n",
       "      <td>71.123667</td>\n",
       "      <td>32.342565</td>\n",
       "      <td>19.199433</td>\n",
       "      <td>4.331982e+01</td>\n",
       "      <td>2761.133869</td>\n",
       "      <td>4.784281e+02</td>\n",
       "      <td>91.563990</td>\n",
       "      <td>0.110383</td>\n",
       "      <td>2.639847e-01</td>\n",
       "    </tr>\n",
       "    <tr>\n",
       "      <th>min</th>\n",
       "      <td>4.000000</td>\n",
       "      <td>0.003176</td>\n",
       "      <td>0.003251</td>\n",
       "      <td>-4.853787e+02</td>\n",
       "      <td>0.666710</td>\n",
       "      <td>2.028377e-07</td>\n",
       "      <td>2.523040</td>\n",
       "      <td>0.003474</td>\n",
       "      <td>7.762397e-23</td>\n",
       "    </tr>\n",
       "    <tr>\n",
       "      <th>25%</th>\n",
       "      <td>14.000000</td>\n",
       "      <td>3.045991</td>\n",
       "      <td>0.055488</td>\n",
       "      <td>-9.268733e-02</td>\n",
       "      <td>2.629892</td>\n",
       "      <td>1.098082e+00</td>\n",
       "      <td>46.136480</td>\n",
       "      <td>0.004718</td>\n",
       "      <td>9.142226e-03</td>\n",
       "    </tr>\n",
       "    <tr>\n",
       "      <th>50%</th>\n",
       "      <td>30.000000</td>\n",
       "      <td>8.935142</td>\n",
       "      <td>0.111918</td>\n",
       "      <td>-5.551115e-17</td>\n",
       "      <td>4.042970</td>\n",
       "      <td>2.562199e+00</td>\n",
       "      <td>138.875520</td>\n",
       "      <td>0.007201</td>\n",
       "      <td>6.533983e-02</td>\n",
       "    </tr>\n",
       "    <tr>\n",
       "      <th>75%</th>\n",
       "      <td>58.000000</td>\n",
       "      <td>18.022019</td>\n",
       "      <td>0.328300</td>\n",
       "      <td>2.220446e-16</td>\n",
       "      <td>10.918993</td>\n",
       "      <td>5.200497e+00</td>\n",
       "      <td>211.958400</td>\n",
       "      <td>0.021675</td>\n",
       "      <td>2.488470e-01</td>\n",
       "    </tr>\n",
       "    <tr>\n",
       "      <th>max</th>\n",
       "      <td>768.000000</td>\n",
       "      <td>307.604864</td>\n",
       "      <td>314.907497</td>\n",
       "      <td>5.132076e+02</td>\n",
       "      <td>31233.301918</td>\n",
       "      <td>5.173615e+03</td>\n",
       "      <td>287.816080</td>\n",
       "      <td>0.396347</td>\n",
       "      <td>1.000000e+00</td>\n",
       "    </tr>\n",
       "  </tbody>\n",
       "</table>\n",
       "</div>"
      ],
      "text/plain": [
       "             n_RV       Ps_RV       fs_RV      wmean_RV       wrms_RV  \\\n",
       "count  269.000000  269.000000  269.000000  2.690000e+02    269.000000   \n",
       "mean    50.048327   16.728466    1.444508 -1.786416e-01    358.983143   \n",
       "std     71.123667   32.342565   19.199433  4.331982e+01   2761.133869   \n",
       "min      4.000000    0.003176    0.003251 -4.853787e+02      0.666710   \n",
       "25%     14.000000    3.045991    0.055488 -9.268733e-02      2.629892   \n",
       "50%     30.000000    8.935142    0.111918 -5.551115e-17      4.042970   \n",
       "75%     58.000000   18.022019    0.328300  2.220446e-16     10.918993   \n",
       "max    768.000000  307.604864  314.907497  5.132076e+02  31233.301918   \n",
       "\n",
       "          rms_PG_RV     f_PG_RV    Pd_PG_RV     FAP_PG_RV  \n",
       "count  2.690000e+02  269.000000  269.000000  2.690000e+02  \n",
       "mean   7.722953e+01  131.958813    0.056387  1.902993e-01  \n",
       "std    4.784281e+02   91.563990    0.110383  2.639847e-01  \n",
       "min    2.028377e-07    2.523040    0.003474  7.762397e-23  \n",
       "25%    1.098082e+00   46.136480    0.004718  9.142226e-03  \n",
       "50%    2.562199e+00  138.875520    0.007201  6.533983e-02  \n",
       "75%    5.200497e+00  211.958400    0.021675  2.488470e-01  \n",
       "max    5.173615e+03  287.816080    0.396347  1.000000e+00  "
      ]
     },
     "execution_count": 26,
     "metadata": {},
     "output_type": "execute_result"
    }
   ],
   "source": [
    "pg_rv_main_vars.describe()"
   ]
  },
  {
   "cell_type": "markdown",
   "id": "38b3ad85",
   "metadata": {},
   "source": [
    "**OBSERVATION:** RV time series values (Minimum - Median - Maximum) for periodogram analysis subsample (in **bold**, the changes relative to the stats of the overall sample):\n",
    "- `n_RV`, number of RV points: (4 - 30 - 768)\n",
    "- `Ps_RV`, sampling period: (0.0032 - **8.93** - 308) days\n",
    "- `wrms_RV`, RMS value of the RV time series: (0.67 / **4.04** / **5174**) m/s\n",
    "- `Pd_PG_RV`, detected periodogram periods: (0.0035 - **0.0072** - 0.3964) d = (5 min - 10 min - 9.5 h)\n",
    "- `FAP_PG_RV`, False Alarm Probability for calculated peak: (7.76e-23 - **0.065** - 1.00)"
   ]
  },
  {
   "cell_type": "markdown",
   "id": "c31a4a48",
   "metadata": {},
   "source": [
    "##### Number of points analysis (RV curves - PG subsample)"
   ]
  },
  {
   "cell_type": "code",
   "execution_count": 27,
   "id": "27a7021b",
   "metadata": {
    "ExecuteTime": {
     "end_time": "2023-01-17T09:47:27.950004Z",
     "start_time": "2023-01-17T09:47:27.676735Z"
    }
   },
   "outputs": [
    {
     "name": "stderr",
     "output_type": "stream",
     "text": [
      "C:\\Users\\ciroe\\anaconda3\\lib\\site-packages\\seaborn\\distributions.py:2557: FutureWarning: `distplot` is a deprecated function and will be removed in a future version. Please adapt your code to use either `displot` (a figure-level function with similar flexibility) or `histplot` (an axes-level function for histograms).\n",
      "  warnings.warn(msg, FutureWarning)\n"
     ]
    },
    {
     "name": "stdout",
     "output_type": "stream",
     "text": [
      "count    269.000000\n",
      "mean      50.048327\n",
      "std       71.123667\n",
      "min        4.000000\n",
      "25%       14.000000\n",
      "50%       30.000000\n",
      "75%       58.000000\n",
      "max      768.000000\n",
      "Name: n_RV, dtype: float64\n",
      "p = 3.77515e-74\n",
      "***This distribution does NOT come from a Gaussian distribution(with significance level = 0.999000)\n"
     ]
    },
    {
     "data": {
      "image/png": "[encoded data removed]",
      "text/plain": [
       "<Figure size 720x504 with 1 Axes>"
      ]
     },
     "metadata": {},
     "output_type": "display_data"
    }
   ],
   "source": [
    "draw_hist(pg_rv_main_vars['n_RV'],\n",
    "          \"Number of points in CARMENES RV time series\\nSubsample for PG analysis\",\n",
    "          fig_filename=IMAGE_FOLDER + \"ETL_46_04_PG_SUBSAMPLE_RV_Number_of_points_distribution.png\")"
   ]
  },
  {
   "cell_type": "code",
   "execution_count": 28,
   "id": "a5b44286",
   "metadata": {
    "ExecuteTime": {
     "end_time": "2023-01-17T09:47:28.360905Z",
     "start_time": "2023-01-17T09:47:28.356916Z"
    }
   },
   "outputs": [
    {
     "data": {
      "text/plain": [
       "116.83999999999997"
      ]
     },
     "execution_count": 28,
     "metadata": {},
     "output_type": "execute_result"
    }
   ],
   "source": [
    "np.nanquantile(pg_rv_main_vars['n_RV'], q=0.94)"
   ]
  },
  {
   "cell_type": "code",
   "execution_count": 29,
   "id": "8933746a",
   "metadata": {
    "ExecuteTime": {
     "end_time": "2023-01-17T09:47:28.931378Z",
     "start_time": "2023-01-17T09:47:28.924397Z"
    }
   },
   "outputs": [
    {
     "data": {
      "text/plain": [
       "127.19999999999999"
      ]
     },
     "execution_count": 29,
     "metadata": {},
     "output_type": "execute_result"
    }
   ],
   "source": [
    "np.nanquantile(pg_rv_main_vars['n_RV'], q=0.95)"
   ]
  },
  {
   "cell_type": "code",
   "execution_count": 30,
   "id": "38e2ba09",
   "metadata": {
    "ExecuteTime": {
     "end_time": "2023-01-17T09:47:29.400123Z",
     "start_time": "2023-01-17T09:47:29.389154Z"
    }
   },
   "outputs": [
    {
     "data": {
      "text/plain": [
       "157.55999999999995"
      ]
     },
     "execution_count": 30,
     "metadata": {},
     "output_type": "execute_result"
    }
   ],
   "source": [
    "np.nanquantile(pg_rv_main_vars['n_RV'], q=0.96)"
   ]
  },
  {
   "cell_type": "markdown",
   "id": "349faff3",
   "metadata": {},
   "source": [
    "**OBSERVATION:**\n",
    "- Most of the RV time series ($95\\%$) have less than $\\approx127$ points."
   ]
  },
  {
   "cell_type": "markdown",
   "id": "c07cbc10",
   "metadata": {},
   "source": [
    "##### Sampling period analysis (RV curves - PG subsample)"
   ]
  },
  {
   "cell_type": "code",
   "execution_count": 31,
   "id": "0b4821e9",
   "metadata": {
    "ExecuteTime": {
     "end_time": "2023-01-17T09:47:31.336425Z",
     "start_time": "2023-01-17T09:47:31.021268Z"
    }
   },
   "outputs": [
    {
     "name": "stderr",
     "output_type": "stream",
     "text": [
      "C:\\Users\\ciroe\\anaconda3\\lib\\site-packages\\seaborn\\distributions.py:2557: FutureWarning: `distplot` is a deprecated function and will be removed in a future version. Please adapt your code to use either `displot` (a figure-level function with similar flexibility) or `histplot` (an axes-level function for histograms).\n",
      "  warnings.warn(msg, FutureWarning)\n"
     ]
    },
    {
     "name": "stdout",
     "output_type": "stream",
     "text": [
      "count    269.000000\n",
      "mean      16.728466\n",
      "std       32.342565\n",
      "min        0.003176\n",
      "25%        3.045991\n",
      "50%        8.935142\n",
      "75%       18.022019\n",
      "max      307.604864\n",
      "Name: Ps_RV, dtype: float64\n",
      "p = 2.39851e-77\n",
      "***This distribution does NOT come from a Gaussian distribution(with significance level = 0.999000)\n"
     ]
    },
    {
     "data": {
      "image/png": "[encoded data removed]",
      "text/plain": [
       "<Figure size 720x504 with 1 Axes>"
      ]
     },
     "metadata": {},
     "output_type": "display_data"
    }
   ],
   "source": [
    "draw_hist(pg_rv_main_vars['Ps_RV'],\n",
    "          \"Sampling periods in CARMENES RV time series\\nSubsample for PG analysis\",\n",
    "          fig_filename=IMAGE_FOLDER + \"ETL_46_05_PG_SUBSAMPLE_RV_Sampling_period_distribution.png\")"
   ]
  },
  {
   "cell_type": "code",
   "execution_count": 32,
   "id": "3a7e03ef",
   "metadata": {
    "ExecuteTime": {
     "end_time": "2023-01-17T09:47:31.918128Z",
     "start_time": "2023-01-17T09:47:31.909152Z"
    }
   },
   "outputs": [
    {
     "data": {
      "text/plain": [
       "0.9800206009112299"
      ]
     },
     "execution_count": 32,
     "metadata": {},
     "output_type": "execute_result"
    }
   ],
   "source": [
    "np.nanquantile(pg_rv_main_vars['Ps_RV'], q=0.03)"
   ]
  },
  {
   "cell_type": "code",
   "execution_count": 33,
   "id": "11f3fafc",
   "metadata": {
    "ExecuteTime": {
     "end_time": "2023-01-17T09:47:32.675632Z",
     "start_time": "2023-01-17T09:47:32.669648Z"
    }
   },
   "outputs": [
    {
     "data": {
      "text/plain": [
       "1.005794213572517"
      ]
     },
     "execution_count": 33,
     "metadata": {},
     "output_type": "execute_result"
    }
   ],
   "source": [
    "np.nanquantile(pg_rv_main_vars['Ps_RV'], q=0.04)"
   ]
  },
  {
   "cell_type": "markdown",
   "id": "484e5660",
   "metadata": {},
   "source": [
    "**OBSERVATION:**\n",
    "- Most of the RV time series ($96\\%$) have sampling periods greater than $\\approx1$ day."
   ]
  },
  {
   "cell_type": "markdown",
   "id": "e46ececb",
   "metadata": {},
   "source": [
    "##### RMS analysis (RV curves - PG subsample)"
   ]
  },
  {
   "cell_type": "code",
   "execution_count": 34,
   "id": "320b1ce1",
   "metadata": {
    "ExecuteTime": {
     "end_time": "2023-01-17T09:47:34.749850Z",
     "start_time": "2023-01-17T09:47:34.365880Z"
    }
   },
   "outputs": [
    {
     "name": "stderr",
     "output_type": "stream",
     "text": [
      "C:\\Users\\ciroe\\anaconda3\\lib\\site-packages\\seaborn\\distributions.py:2557: FutureWarning: `distplot` is a deprecated function and will be removed in a future version. Please adapt your code to use either `displot` (a figure-level function with similar flexibility) or `histplot` (an axes-level function for histograms).\n",
      "  warnings.warn(msg, FutureWarning)\n"
     ]
    },
    {
     "name": "stdout",
     "output_type": "stream",
     "text": [
      "count      269.000000\n",
      "mean       358.983143\n",
      "std       2761.133869\n",
      "min          0.666710\n",
      "25%          2.629892\n",
      "50%          4.042970\n",
      "75%         10.918993\n",
      "max      31233.301918\n",
      "Name: wrms_RV, dtype: float64\n",
      "p = 4.78514e-100\n",
      "***This distribution does NOT come from a Gaussian distribution(with significance level = 0.999000)\n"
     ]
    },
    {
     "data": {
      "image/png": "[encoded data removed]",
      "text/plain": [
       "<Figure size 720x504 with 1 Axes>"
      ]
     },
     "metadata": {},
     "output_type": "display_data"
    }
   ],
   "source": [
    "draw_hist(pg_rv_main_vars['wrms_RV'],\n",
    "          \"RMS values in CARMENES RV time series\\nSubsample for PG analysis\",\n",
    "          fig_filename=IMAGE_FOLDER + \"ETL_46_06_PG_SUBSAMPLE_RV_RMS_values_distribution.png\")"
   ]
  },
  {
   "cell_type": "code",
   "execution_count": 35,
   "id": "c5123397",
   "metadata": {
    "ExecuteTime": {
     "end_time": "2023-01-17T09:47:35.251813Z",
     "start_time": "2023-01-17T09:47:35.244832Z"
    }
   },
   "outputs": [
    {
     "data": {
      "text/plain": [
       "4.853492673361452"
      ]
     },
     "execution_count": 35,
     "metadata": {},
     "output_type": "execute_result"
    }
   ],
   "source": [
    "np.nanquantile(pg_rv_main_vars['rms_PG_RV'], q=0.72)"
   ]
  },
  {
   "cell_type": "code",
   "execution_count": 36,
   "id": "714b0730",
   "metadata": {
    "ExecuteTime": {
     "end_time": "2023-01-17T09:47:35.907294Z",
     "start_time": "2023-01-17T09:47:35.893331Z"
    }
   },
   "outputs": [
    {
     "data": {
      "text/plain": [
       "5.042266327278396"
      ]
     },
     "execution_count": 36,
     "metadata": {},
     "output_type": "execute_result"
    }
   ],
   "source": [
    "np.nanquantile(pg_rv_main_vars['rms_PG_RV'], q=0.73)"
   ]
  },
  {
   "cell_type": "markdown",
   "id": "e7fb0196",
   "metadata": {},
   "source": [
    "**OBSERVATION:**\n",
    "- $72\\%$ of the time series show RMS values (outliers removed) lower than $5\\;m\\;s^{-1}$."
   ]
  },
  {
   "cell_type": "markdown",
   "id": "2fa2b25c",
   "metadata": {},
   "source": [
    "#### TESS curves characteristics"
   ]
  },
  {
   "cell_type": "code",
   "execution_count": 37,
   "id": "be9c14ed",
   "metadata": {
    "ExecuteTime": {
     "end_time": "2023-01-17T09:47:37.703275Z",
     "start_time": "2023-01-17T09:47:37.685324Z"
    }
   },
   "outputs": [],
   "source": [
    "pg_tess_main_vars = pg_df[['Karmn', 'n_TESS', 'Ps_TESS', 'fs_TESS', 'wmean_TESS', 'wrms_TESS',\n",
    "                           'rms_PG_TESS', 'f_PG_TESS', 'Pd_PG_TESS', 'FAP_PG_TESS']] \\\n",
    "    .copy()"
   ]
  },
  {
   "cell_type": "code",
   "execution_count": 38,
   "id": "35a50b76",
   "metadata": {
    "ExecuteTime": {
     "end_time": "2023-01-17T09:47:38.414417Z",
     "start_time": "2023-01-17T09:47:38.378514Z"
    }
   },
   "outputs": [
    {
     "data": {
      "text/html": [
       "<div>\n",
       "<style scoped>\n",
       "    .dataframe tbody tr th:only-of-type {\n",
       "        vertical-align: middle;\n",
       "    }\n",
       "\n",
       "    .dataframe tbody tr th {\n",
       "        vertical-align: top;\n",
       "    }\n",
       "\n",
       "    .dataframe thead th {\n",
       "        text-align: right;\n",
       "    }\n",
       "</style>\n",
       "<table border=\"1\" class=\"dataframe\">\n",
       "  <thead>\n",
       "    <tr style=\"text-align: right;\">\n",
       "      <th></th>\n",
       "      <th>n_TESS</th>\n",
       "      <th>Ps_TESS</th>\n",
       "      <th>fs_TESS</th>\n",
       "      <th>wmean_TESS</th>\n",
       "      <th>wrms_TESS</th>\n",
       "      <th>rms_PG_TESS</th>\n",
       "      <th>f_PG_TESS</th>\n",
       "      <th>Pd_PG_TESS</th>\n",
       "      <th>FAP_PG_TESS</th>\n",
       "    </tr>\n",
       "  </thead>\n",
       "  <tbody>\n",
       "    <tr>\n",
       "      <th>count</th>\n",
       "      <td>269.000000</td>\n",
       "      <td>269.000000</td>\n",
       "      <td>269.000000</td>\n",
       "      <td>269.000000</td>\n",
       "      <td>269.000000</td>\n",
       "      <td>268.000000</td>\n",
       "      <td>269.000000</td>\n",
       "      <td>269.000000</td>\n",
       "      <td>2.680000e+02</td>\n",
       "    </tr>\n",
       "    <tr>\n",
       "      <th>mean</th>\n",
       "      <td>14215.910781</td>\n",
       "      <td>0.003134</td>\n",
       "      <td>653.977754</td>\n",
       "      <td>53439.481095</td>\n",
       "      <td>129.826990</td>\n",
       "      <td>127.764802</td>\n",
       "      <td>61.938491</td>\n",
       "      <td>0.182249</td>\n",
       "      <td>1.902460e-01</td>\n",
       "    </tr>\n",
       "    <tr>\n",
       "      <th>std</th>\n",
       "      <td>4644.388166</td>\n",
       "      <td>0.005464</td>\n",
       "      <td>198.323013</td>\n",
       "      <td>98811.975259</td>\n",
       "      <td>577.017548</td>\n",
       "      <td>576.523588</td>\n",
       "      <td>89.546294</td>\n",
       "      <td>0.153464</td>\n",
       "      <td>2.907751e-01</td>\n",
       "    </tr>\n",
       "    <tr>\n",
       "      <th>min</th>\n",
       "      <td>694.000000</td>\n",
       "      <td>0.001389</td>\n",
       "      <td>47.999082</td>\n",
       "      <td>-315455.875000</td>\n",
       "      <td>2.188334</td>\n",
       "      <td>2.057648</td>\n",
       "      <td>2.400000</td>\n",
       "      <td>0.003472</td>\n",
       "      <td>0.000000e+00</td>\n",
       "    </tr>\n",
       "    <tr>\n",
       "      <th>25%</th>\n",
       "      <td>13420.000000</td>\n",
       "      <td>0.001389</td>\n",
       "      <td>719.989932</td>\n",
       "      <td>8436.399414</td>\n",
       "      <td>16.514788</td>\n",
       "      <td>16.481823</td>\n",
       "      <td>3.057000</td>\n",
       "      <td>0.009471</td>\n",
       "      <td>2.982253e-09</td>\n",
       "    </tr>\n",
       "    <tr>\n",
       "      <th>50%</th>\n",
       "      <td>15602.000000</td>\n",
       "      <td>0.001389</td>\n",
       "      <td>719.997672</td>\n",
       "      <td>21288.244141</td>\n",
       "      <td>29.356222</td>\n",
       "      <td>28.499061</td>\n",
       "      <td>4.959000</td>\n",
       "      <td>0.201654</td>\n",
       "      <td>3.363451e-02</td>\n",
       "    </tr>\n",
       "    <tr>\n",
       "      <th>75%</th>\n",
       "      <td>16941.000000</td>\n",
       "      <td>0.001389</td>\n",
       "      <td>720.006838</td>\n",
       "      <td>57992.523438</td>\n",
       "      <td>68.504135</td>\n",
       "      <td>67.928839</td>\n",
       "      <td>105.588000</td>\n",
       "      <td>0.327118</td>\n",
       "      <td>2.580571e-01</td>\n",
       "    </tr>\n",
       "    <tr>\n",
       "      <th>max</th>\n",
       "      <td>18711.000000</td>\n",
       "      <td>0.020834</td>\n",
       "      <td>720.017204</td>\n",
       "      <td>661204.500000</td>\n",
       "      <td>8249.875000</td>\n",
       "      <td>8248.894960</td>\n",
       "      <td>288.000000</td>\n",
       "      <td>0.416667</td>\n",
       "      <td>1.000000e+00</td>\n",
       "    </tr>\n",
       "  </tbody>\n",
       "</table>\n",
       "</div>"
      ],
      "text/plain": [
       "             n_TESS     Ps_TESS     fs_TESS     wmean_TESS    wrms_TESS  \\\n",
       "count    269.000000  269.000000  269.000000     269.000000   269.000000   \n",
       "mean   14215.910781    0.003134  653.977754   53439.481095   129.826990   \n",
       "std     4644.388166    0.005464  198.323013   98811.975259   577.017548   \n",
       "min      694.000000    0.001389   47.999082 -315455.875000     2.188334   \n",
       "25%    13420.000000    0.001389  719.989932    8436.399414    16.514788   \n",
       "50%    15602.000000    0.001389  719.997672   21288.244141    29.356222   \n",
       "75%    16941.000000    0.001389  720.006838   57992.523438    68.504135   \n",
       "max    18711.000000    0.020834  720.017204  661204.500000  8249.875000   \n",
       "\n",
       "       rms_PG_TESS   f_PG_TESS  Pd_PG_TESS   FAP_PG_TESS  \n",
       "count   268.000000  269.000000  269.000000  2.680000e+02  \n",
       "mean    127.764802   61.938491    0.182249  1.902460e-01  \n",
       "std     576.523588   89.546294    0.153464  2.907751e-01  \n",
       "min       2.057648    2.400000    0.003472  0.000000e+00  \n",
       "25%      16.481823    3.057000    0.009471  2.982253e-09  \n",
       "50%      28.499061    4.959000    0.201654  3.363451e-02  \n",
       "75%      67.928839  105.588000    0.327118  2.580571e-01  \n",
       "max    8248.894960  288.000000    0.416667  1.000000e+00  "
      ]
     },
     "execution_count": 38,
     "metadata": {},
     "output_type": "execute_result"
    }
   ],
   "source": [
    "pg_tess_main_vars.describe()"
   ]
  },
  {
   "cell_type": "markdown",
   "id": "edceae31",
   "metadata": {},
   "source": [
    "**OBSERVATION:** TESS light curves values (Minimum - Median - Maximum) for periodogram analysis subsample:\n",
    "- `n_TESS`, number of RV points: (694 - 15602 - 18711)\n",
    "- `Ps_TESS`, sampling period: (0.0014 - 0.0014 - 0.0208) days\n",
    "- `wrms_TESS`, RMS value of the TESS light curves: (2.18 / 29.4 / 8250) e/s\n",
    "- `Pd_PG_TESS`, detected periodogram periods: (0.0035 - 0.2017 - 0.4167) d = (5 min - 4.8 h - 10 h)\n",
    "- `FAP_PG_TESS`, False Alarm Probability for calculated peak: (0.000 - 0.034 - 1.00)"
   ]
  },
  {
   "cell_type": "markdown",
   "id": "ba58f19e",
   "metadata": {},
   "source": [
    "##### Number of points analysis (TESS curves - PG subsample)"
   ]
  },
  {
   "cell_type": "code",
   "execution_count": 39,
   "id": "8358e637",
   "metadata": {
    "ExecuteTime": {
     "end_time": "2023-01-17T09:47:41.937895Z",
     "start_time": "2023-01-17T09:47:41.676594Z"
    }
   },
   "outputs": [
    {
     "name": "stderr",
     "output_type": "stream",
     "text": [
      "C:\\Users\\ciroe\\anaconda3\\lib\\site-packages\\seaborn\\distributions.py:2557: FutureWarning: `distplot` is a deprecated function and will be removed in a future version. Please adapt your code to use either `displot` (a figure-level function with similar flexibility) or `histplot` (an axes-level function for histograms).\n",
      "  warnings.warn(msg, FutureWarning)\n"
     ]
    },
    {
     "name": "stdout",
     "output_type": "stream",
     "text": [
      "count      269.000000\n",
      "mean     14215.910781\n",
      "std       4644.388166\n",
      "min        694.000000\n",
      "25%      13420.000000\n",
      "50%      15602.000000\n",
      "75%      16941.000000\n",
      "max      18711.000000\n",
      "Name: n_TESS, dtype: float64\n",
      "p = 2.76257e-25\n",
      "***This distribution does NOT come from a Gaussian distribution(with significance level = 0.999000)\n"
     ]
    },
    {
     "data": {
      "image/png": "[encoded data removed]",
      "text/plain": [
       "<Figure size 720x504 with 1 Axes>"
      ]
     },
     "metadata": {},
     "output_type": "display_data"
    }
   ],
   "source": [
    "draw_hist(pg_tess_main_vars['n_TESS'],\n",
    "          \"Number of points in TESS light curves\\nSubsample for PG analysis\",\n",
    "          fig_filename=IMAGE_FOLDER + \"ETL_46_07_PG_SUBSAMPLE_TESS_Number_of_points_distribution.png\")"
   ]
  },
  {
   "cell_type": "code",
   "execution_count": 40,
   "id": "0f0651bc",
   "metadata": {
    "ExecuteTime": {
     "end_time": "2023-01-17T09:47:42.312891Z",
     "start_time": "2023-01-17T09:47:42.300923Z"
    }
   },
   "outputs": [
    {
     "data": {
      "text/plain": [
       "18424.0"
      ]
     },
     "execution_count": 40,
     "metadata": {},
     "output_type": "execute_result"
    }
   ],
   "source": [
    "np.nanquantile(pg_tess_main_vars['n_TESS'], q=0.95)"
   ]
  },
  {
   "cell_type": "markdown",
   "id": "b1329df6",
   "metadata": {},
   "source": [
    "**OBSERVATION:**\n",
    "- Most of the TESS light curves ($95\\%$) have at least $18424$ points."
   ]
  },
  {
   "cell_type": "markdown",
   "id": "89f859fd",
   "metadata": {},
   "source": [
    "##### Sampling period analysis (TESS curves - PG subsample)"
   ]
  },
  {
   "cell_type": "code",
   "execution_count": 41,
   "id": "19aad912",
   "metadata": {
    "ExecuteTime": {
     "end_time": "2023-01-17T09:47:44.423824Z",
     "start_time": "2023-01-17T09:47:44.133600Z"
    }
   },
   "outputs": [
    {
     "name": "stderr",
     "output_type": "stream",
     "text": [
      "C:\\Users\\ciroe\\anaconda3\\lib\\site-packages\\seaborn\\distributions.py:2557: FutureWarning: `distplot` is a deprecated function and will be removed in a future version. Please adapt your code to use either `displot` (a figure-level function with similar flexibility) or `histplot` (an axes-level function for histograms).\n",
      "  warnings.warn(msg, FutureWarning)\n"
     ]
    },
    {
     "name": "stdout",
     "output_type": "stream",
     "text": [
      "count    269.000000\n",
      "mean       0.003134\n",
      "std        0.005464\n",
      "min        0.001389\n",
      "25%        0.001389\n",
      "50%        0.001389\n",
      "75%        0.001389\n",
      "max        0.020834\n",
      "Name: Ps_TESS, dtype: float64\n",
      "p = 1.79621e-38\n",
      "***This distribution does NOT come from a Gaussian distribution(with significance level = 0.999000)\n"
     ]
    },
    {
     "data": {
      "image/png": "[encoded data removed]",
      "text/plain": [
       "<Figure size 720x504 with 1 Axes>"
      ]
     },
     "metadata": {},
     "output_type": "display_data"
    }
   ],
   "source": [
    "draw_hist(pg_tess_main_vars['Ps_TESS'],\n",
    "          \"Sampling periods in TESS light curves\\nSubsample for PG analysis\",\n",
    "          fig_filename=IMAGE_FOLDER + \"ETL_46_08_PG_SUBSAMPLE_TESS_Sampling_period_distribution.png\")"
   ]
  },
  {
   "cell_type": "code",
   "execution_count": 42,
   "id": "ba90c5d6",
   "metadata": {
    "ExecuteTime": {
     "end_time": "2023-01-17T09:47:46.457991Z",
     "start_time": "2023-01-17T09:47:46.453004Z"
    }
   },
   "outputs": [
    {
     "data": {
      "text/plain": [
       "0.0069444321879927"
      ]
     },
     "execution_count": 42,
     "metadata": {},
     "output_type": "execute_result"
    }
   ],
   "source": [
    "np.nanquantile(pg_tess_main_vars['Ps_TESS'], q=0.91)"
   ]
  },
  {
   "cell_type": "code",
   "execution_count": 43,
   "id": "6c7a9788",
   "metadata": {
    "ExecuteTime": {
     "end_time": "2023-01-17T09:47:48.518338Z",
     "start_time": "2023-01-17T09:47:48.501383Z"
    }
   },
   "outputs": [
    {
     "data": {
      "text/plain": [
       "0.020832953005792625"
      ]
     },
     "execution_count": 43,
     "metadata": {},
     "output_type": "execute_result"
    }
   ],
   "source": [
    "np.nanquantile(pg_tess_main_vars['Ps_TESS'], q=0.92)"
   ]
  },
  {
   "cell_type": "code",
   "execution_count": 44,
   "id": "ea946e49",
   "metadata": {
    "ExecuteTime": {
     "end_time": "2023-01-17T09:47:49.273676Z",
     "start_time": "2023-01-17T09:47:49.268690Z"
    }
   },
   "outputs": [
    {
     "data": {
      "text/plain": [
       "0.8996282527881041"
      ]
     },
     "execution_count": 44,
     "metadata": {},
     "output_type": "execute_result"
    }
   ],
   "source": [
    "len(pg_tess_main_vars[pg_tess_main_vars['Ps_TESS'] < 0.0014]) / len(pg_tess_main_vars)"
   ]
  },
  {
   "cell_type": "code",
   "execution_count": 45,
   "id": "f8fdbbc1",
   "metadata": {
    "ExecuteTime": {
     "end_time": "2023-01-17T09:47:49.963804Z",
     "start_time": "2023-01-17T09:47:49.957822Z"
    }
   },
   "outputs": [
    {
     "data": {
      "text/plain": [
       "0.10037174721189591"
      ]
     },
     "execution_count": 45,
     "metadata": {},
     "output_type": "execute_result"
    }
   ],
   "source": [
    "len(pg_tess_main_vars[pg_tess_main_vars['Ps_TESS'] >= 0.0014]) / len(pg_tess_main_vars)"
   ]
  },
  {
   "cell_type": "code",
   "execution_count": 46,
   "id": "c7283d79",
   "metadata": {
    "ExecuteTime": {
     "end_time": "2023-01-17T09:47:50.610373Z",
     "start_time": "2023-01-17T09:47:50.596410Z"
    }
   },
   "outputs": [
    {
     "data": {
      "text/plain": [
       "1.0"
      ]
     },
     "execution_count": 46,
     "metadata": {},
     "output_type": "execute_result"
    }
   ],
   "source": [
    "len(pg_tess_main_vars[pg_tess_main_vars['Ps_TESS'] < 0.0014]) / len(pg_tess_main_vars) + \\\n",
    "    len(pg_tess_main_vars[pg_tess_main_vars['Ps_TESS'] >= 0.0014]) / len(pg_tess_main_vars)"
   ]
  },
  {
   "cell_type": "markdown",
   "id": "be72cdf1",
   "metadata": {},
   "source": [
    "**OBSERVATION:**\n",
    "- Most of the TESS time series ($90\\%$) have sampling periods equal to $\\approx0.001389\\;day$ ($\\approx2\\;min$)."
   ]
  },
  {
   "cell_type": "markdown",
   "id": "c6c4bf0c",
   "metadata": {},
   "source": [
    "##### RMS analysis (TESS curves - PG subsample)"
   ]
  },
  {
   "cell_type": "code",
   "execution_count": 47,
   "id": "e52e537f",
   "metadata": {
    "ExecuteTime": {
     "end_time": "2023-01-17T09:47:53.644987Z",
     "start_time": "2023-01-17T09:47:53.381692Z"
    }
   },
   "outputs": [
    {
     "name": "stderr",
     "output_type": "stream",
     "text": [
      "C:\\Users\\ciroe\\anaconda3\\lib\\site-packages\\seaborn\\distributions.py:2557: FutureWarning: `distplot` is a deprecated function and will be removed in a future version. Please adapt your code to use either `displot` (a figure-level function with similar flexibility) or `histplot` (an axes-level function for histograms).\n",
      "  warnings.warn(msg, FutureWarning)\n"
     ]
    },
    {
     "name": "stdout",
     "output_type": "stream",
     "text": [
      "count     269.000000\n",
      "mean      129.826990\n",
      "std       577.017548\n",
      "min         2.188334\n",
      "25%        16.514788\n",
      "50%        29.356222\n",
      "75%        68.504135\n",
      "max      8249.875000\n",
      "Name: wrms_TESS, dtype: float64\n",
      "p = 7.2337e-114\n",
      "***This distribution does NOT come from a Gaussian distribution(with significance level = 0.999000)\n"
     ]
    },
    {
     "data": {
      "image/png": "[encoded data removed]",
      "text/plain": [
       "<Figure size 720x504 with 1 Axes>"
      ]
     },
     "metadata": {},
     "output_type": "display_data"
    }
   ],
   "source": [
    "draw_hist(pg_tess_main_vars['wrms_TESS'],\n",
    "          \"RMS values in TESS light curves\\nSubsample for PG analysis\",\n",
    "          fig_filename=IMAGE_FOLDER + \"ETL_46_09_PG_SUBSAMPLE_TESS_RMS_values_distribution.png\")"
   ]
  },
  {
   "cell_type": "code",
   "execution_count": 48,
   "id": "099a4e9f",
   "metadata": {
    "ExecuteTime": {
     "end_time": "2023-01-17T09:47:54.177341Z",
     "start_time": "2023-01-17T09:47:54.165374Z"
    }
   },
   "outputs": [
    {
     "data": {
      "text/plain": [
       "67.92883930590446"
      ]
     },
     "execution_count": 48,
     "metadata": {},
     "output_type": "execute_result"
    }
   ],
   "source": [
    "np.nanquantile(pg_tess_main_vars['rms_PG_TESS'], q=0.75)"
   ]
  },
  {
   "cell_type": "code",
   "execution_count": 49,
   "id": "26769378",
   "metadata": {
    "ExecuteTime": {
     "end_time": "2023-01-17T09:47:54.914966Z",
     "start_time": "2023-01-17T09:47:54.908983Z"
    }
   },
   "outputs": [
    {
     "data": {
      "text/plain": [
       "69.28166357206263"
      ]
     },
     "execution_count": 49,
     "metadata": {},
     "output_type": "execute_result"
    }
   ],
   "source": [
    "np.nanquantile(pg_tess_main_vars['rms_PG_TESS'], q=0.76)"
   ]
  },
  {
   "cell_type": "markdown",
   "id": "b8989de9",
   "metadata": {},
   "source": [
    "**OBSERVATION:**\n",
    "- $75\\%$ of the light curves show RMS values (outliers removed) lower than $68\\;\\rm{e\\;s^{-1}}$."
   ]
  },
  {
   "cell_type": "markdown",
   "id": "8715a40f",
   "metadata": {},
   "source": [
    "### Select objects for Machine Learning (ML) analysis"
   ]
  },
  {
   "cell_type": "code",
   "execution_count": 50,
   "id": "a89e81a2",
   "metadata": {
    "ExecuteTime": {
     "end_time": "2023-01-17T09:48:02.876063Z",
     "start_time": "2023-01-17T09:48:02.869082Z"
    },
    "scrolled": true
   },
   "outputs": [
    {
     "data": {
      "text/plain": [
       "233"
      ]
     },
     "execution_count": 50,
     "metadata": {},
     "output_type": "execute_result"
    }
   ],
   "source": [
    "ml_df = df[df['wrms_RV'] <= 5.0].copy()\n",
    "len(ml_df)"
   ]
  },
  {
   "cell_type": "markdown",
   "id": "b5b945f4",
   "metadata": {},
   "source": [
    "### ML subsample statistics"
   ]
  },
  {
   "cell_type": "markdown",
   "id": "95ab6d60",
   "metadata": {},
   "source": [
    "#### Instability band analysis (ML subsample) "
   ]
  },
  {
   "cell_type": "code",
   "execution_count": 51,
   "id": "0ff917bf",
   "metadata": {
    "ExecuteTime": {
     "end_time": "2023-01-17T09:48:05.123859Z",
     "start_time": "2023-01-17T09:48:05.105906Z"
    }
   },
   "outputs": [
    {
     "data": {
      "text/html": [
       "<div>\n",
       "<style scoped>\n",
       "    .dataframe tbody tr th:only-of-type {\n",
       "        vertical-align: middle;\n",
       "    }\n",
       "\n",
       "    .dataframe tbody tr th {\n",
       "        vertical-align: top;\n",
       "    }\n",
       "\n",
       "    .dataframe thead th {\n",
       "        text-align: right;\n",
       "    }\n",
       "</style>\n",
       "<table border=\"1\" class=\"dataframe\">\n",
       "  <thead>\n",
       "    <tr style=\"text-align: right;\">\n",
       "      <th></th>\n",
       "      <th>InstBand_nominal</th>\n",
       "      <th>InstBand_ranged</th>\n",
       "    </tr>\n",
       "  </thead>\n",
       "  <tbody>\n",
       "    <tr>\n",
       "      <th>count</th>\n",
       "      <td>233</td>\n",
       "      <td>233</td>\n",
       "    </tr>\n",
       "    <tr>\n",
       "      <th>unique</th>\n",
       "      <td>2</td>\n",
       "      <td>2</td>\n",
       "    </tr>\n",
       "    <tr>\n",
       "      <th>top</th>\n",
       "      <td>He3-burning</td>\n",
       "      <td>He3-burning</td>\n",
       "    </tr>\n",
       "    <tr>\n",
       "      <th>freq</th>\n",
       "      <td>180</td>\n",
       "      <td>202</td>\n",
       "    </tr>\n",
       "  </tbody>\n",
       "</table>\n",
       "</div>"
      ],
      "text/plain": [
       "       InstBand_nominal InstBand_ranged\n",
       "count               233             233\n",
       "unique                2               2\n",
       "top         He3-burning     He3-burning\n",
       "freq                180             202"
      ]
     },
     "execution_count": 51,
     "metadata": {},
     "output_type": "execute_result"
    }
   ],
   "source": [
    "ml_df[['InstBand_nominal', 'InstBand_ranged']].describe()"
   ]
  },
  {
   "cell_type": "markdown",
   "id": "0c85e23b",
   "metadata": {},
   "source": [
    "**IMPORTANT OBSERVATION:** we have 180 stars inside the instability band ($\\approx77\\%$). If we consider the value ranges given by the errors in the variables, the number rises to 202 stars ($\\approx87\\%$).\n",
    "\n",
    "Notice that these values differ significantly from the ones calculated for the overall sample ($\\approx62\\%$ and $\\approx72\\%$, respectively).\n",
    "\n",
    "As this is the sample that we will be using for the ML approach, **this new percentage value (namely $\\approx87\\%$) will be the one that we will use as a prior for the ratio of pulsating stars in our synthetic datasets**."
   ]
  },
  {
   "cell_type": "markdown",
   "id": "0de81ee5",
   "metadata": {},
   "source": [
    "##### Load synthetic stellar population"
   ]
  },
  {
   "cell_type": "markdown",
   "id": "906ab054",
   "metadata": {
    "ExecuteTime": {
     "end_time": "2022-11-14T10:10:50.250724Z",
     "start_time": "2022-11-14T10:10:50.238746Z"
    }
   },
   "source": [
    "This is a synthetic star population generated with BaSTI tool (http://basti-iac.oa-abruzzo.inaf.it/), with the following parameters:\n",
    "\n",
    "\\##########################################\n",
    "\n",
    "\\#     STAR FORMATION HISTORY              \n",
    "\n",
    "\\#                                         \n",
    "\n",
    "\\# t(Gyr)relative SFR [Fe/H]sigma([Fe/H])  \n",
    "\n",
    "\\#  9.50000  1.00000 -1.27000  0.30000\n",
    "\n",
    "\\#  7.00000  0.00000  0.00000  0.00000\n",
    "\n",
    "\\#  5.00000  0.98165 -0.55000  0.15000\n",
    "\n",
    "\\#  2.00000  0.00000  0.00000  0.00000\n",
    "\n",
    "\\#  1.00000  0.75229  0.00000  0.10000\n",
    "\n",
    "\\#  0.02000  0.75229  0.00000  0.10000\n",
    "\n",
    "\\##########################################\n",
    "\n",
    "\\#Model: Scaled solar models & Sloan transformations                        \n",
    "\n",
    "\\#Model: Overshooting: True, Diffusion: True, Mass loss: True, He: 0.247    \n",
    "\n",
    "\\##########################################\n",
    "\n",
    "The file has been previously preprocessed with notebook `ETL_07_BaSTI_SynthPop_File_Preprocessing_v2.0.ipynb`"
   ]
  },
  {
   "cell_type": "code",
   "execution_count": 52,
   "id": "5068e217",
   "metadata": {
    "ExecuteTime": {
     "end_time": "2023-01-17T09:48:08.317438Z",
     "start_time": "2023-01-17T09:48:07.587392Z"
    }
   },
   "outputs": [
    {
     "data": {
      "text/html": [
       "<div>\n",
       "<style scoped>\n",
       "    .dataframe tbody tr th:only-of-type {\n",
       "        vertical-align: middle;\n",
       "    }\n",
       "\n",
       "    .dataframe tbody tr th {\n",
       "        vertical-align: top;\n",
       "    }\n",
       "\n",
       "    .dataframe thead th {\n",
       "        text-align: right;\n",
       "    }\n",
       "</style>\n",
       "<table border=\"1\" class=\"dataframe\">\n",
       "  <thead>\n",
       "    <tr style=\"text-align: right;\">\n",
       "      <th></th>\n",
       "      <th>star_number</th>\n",
       "      <th>log(t[years])</th>\n",
       "      <th>Metallicity[Fe/H]</th>\n",
       "      <th>Mass[Mo]</th>\n",
       "      <th>log(L/Lo)</th>\n",
       "      <th>log(Teff[K])</th>\n",
       "      <th>InitMassSec[Mo]</th>\n",
       "      <th>VarStarIdx</th>\n",
       "      <th>Pulsating_log(P[days])</th>\n",
       "      <th>u</th>\n",
       "      <th>...</th>\n",
       "      <th>g-r</th>\n",
       "      <th>r-i</th>\n",
       "      <th>i-z</th>\n",
       "      <th>log_g</th>\n",
       "      <th>Teff</th>\n",
       "      <th>Age [Gyr]</th>\n",
       "      <th>Age Range [Gyr]</th>\n",
       "      <th>ID Age Range</th>\n",
       "      <th>Metallicity Range [Fe/H]</th>\n",
       "      <th>ID Metallicity Range</th>\n",
       "    </tr>\n",
       "  </thead>\n",
       "  <tbody>\n",
       "    <tr>\n",
       "      <th>0</th>\n",
       "      <td>1</td>\n",
       "      <td>9.924415</td>\n",
       "      <td>-1.4575</td>\n",
       "      <td>0.1090</td>\n",
       "      <td>-2.8361</td>\n",
       "      <td>3.5084</td>\n",
       "      <td>0.0928</td>\n",
       "      <td>0</td>\n",
       "      <td>99.99</td>\n",
       "      <td>18.0943</td>\n",
       "      <td>...</td>\n",
       "      <td>1.8538</td>\n",
       "      <td>0.8023</td>\n",
       "      <td>0.4662</td>\n",
       "      <td>5.296607</td>\n",
       "      <td>3224.036872</td>\n",
       "      <td>8.402622</td>\n",
       "      <td>from 7.5 to 10.0 Gyr</td>\n",
       "      <td>Age_3</td>\n",
       "      <td>from -2.0 to -1.0 [Fe/H]</td>\n",
       "      <td>Met_1</td>\n",
       "    </tr>\n",
       "    <tr>\n",
       "      <th>1</th>\n",
       "      <td>2</td>\n",
       "      <td>9.947005</td>\n",
       "      <td>-1.2202</td>\n",
       "      <td>0.1081</td>\n",
       "      <td>-2.8307</td>\n",
       "      <td>3.5138</td>\n",
       "      <td>0.0867</td>\n",
       "      <td>0</td>\n",
       "      <td>99.99</td>\n",
       "      <td>17.9405</td>\n",
       "      <td>...</td>\n",
       "      <td>1.8141</td>\n",
       "      <td>0.7850</td>\n",
       "      <td>0.4546</td>\n",
       "      <td>5.309206</td>\n",
       "      <td>3264.374675</td>\n",
       "      <td>8.851255</td>\n",
       "      <td>from 7.5 to 10.0 Gyr</td>\n",
       "      <td>Age_3</td>\n",
       "      <td>from -2.0 to -1.0 [Fe/H]</td>\n",
       "      <td>Met_1</td>\n",
       "    </tr>\n",
       "    <tr>\n",
       "      <th>2</th>\n",
       "      <td>4</td>\n",
       "      <td>9.913869</td>\n",
       "      <td>-0.7478</td>\n",
       "      <td>0.2711</td>\n",
       "      <td>-1.8518</td>\n",
       "      <td>3.5874</td>\n",
       "      <td>0.2057</td>\n",
       "      <td>0</td>\n",
       "      <td>99.99</td>\n",
       "      <td>13.1454</td>\n",
       "      <td>...</td>\n",
       "      <td>1.4078</td>\n",
       "      <td>0.5379</td>\n",
       "      <td>0.3096</td>\n",
       "      <td>5.024010</td>\n",
       "      <td>3867.229981</td>\n",
       "      <td>8.201037</td>\n",
       "      <td>from 7.5 to 10.0 Gyr</td>\n",
       "      <td>Age_3</td>\n",
       "      <td>from -1.0 to -0.5 [Fe/H]</td>\n",
       "      <td>Met_2</td>\n",
       "    </tr>\n",
       "    <tr>\n",
       "      <th>3</th>\n",
       "      <td>6</td>\n",
       "      <td>9.965860</td>\n",
       "      <td>-1.0048</td>\n",
       "      <td>0.2449</td>\n",
       "      <td>-1.8871</td>\n",
       "      <td>3.5979</td>\n",
       "      <td>0.2222</td>\n",
       "      <td>0</td>\n",
       "      <td>99.99</td>\n",
       "      <td>12.7719</td>\n",
       "      <td>...</td>\n",
       "      <td>1.2943</td>\n",
       "      <td>0.5010</td>\n",
       "      <td>0.2886</td>\n",
       "      <td>5.057169</td>\n",
       "      <td>3961.867984</td>\n",
       "      <td>9.244008</td>\n",
       "      <td>from 7.5 to 10.0 Gyr</td>\n",
       "      <td>Age_3</td>\n",
       "      <td>from -2.0 to -1.0 [Fe/H]</td>\n",
       "      <td>Met_1</td>\n",
       "    </tr>\n",
       "    <tr>\n",
       "      <th>4</th>\n",
       "      <td>8</td>\n",
       "      <td>9.919496</td>\n",
       "      <td>-1.4860</td>\n",
       "      <td>0.1656</td>\n",
       "      <td>-2.2855</td>\n",
       "      <td>3.5691</td>\n",
       "      <td>0.1339</td>\n",
       "      <td>0</td>\n",
       "      <td>99.99</td>\n",
       "      <td>14.7574</td>\n",
       "      <td>...</td>\n",
       "      <td>1.6028</td>\n",
       "      <td>0.6053</td>\n",
       "      <td>0.3360</td>\n",
       "      <td>5.170441</td>\n",
       "      <td>3707.660840</td>\n",
       "      <td>8.308000</td>\n",
       "      <td>from 7.5 to 10.0 Gyr</td>\n",
       "      <td>Age_3</td>\n",
       "      <td>from -2.0 to -1.0 [Fe/H]</td>\n",
       "      <td>Met_1</td>\n",
       "    </tr>\n",
       "  </tbody>\n",
       "</table>\n",
       "<p>5 rows × 25 columns</p>\n",
       "</div>"
      ],
      "text/plain": [
       "   star_number  log(t[years])  Metallicity[Fe/H]  Mass[Mo]  log(L/Lo)  \\\n",
       "0            1       9.924415            -1.4575    0.1090    -2.8361   \n",
       "1            2       9.947005            -1.2202    0.1081    -2.8307   \n",
       "2            4       9.913869            -0.7478    0.2711    -1.8518   \n",
       "3            6       9.965860            -1.0048    0.2449    -1.8871   \n",
       "4            8       9.919496            -1.4860    0.1656    -2.2855   \n",
       "\n",
       "   log(Teff[K])  InitMassSec[Mo]  VarStarIdx  Pulsating_log(P[days])        u  \\\n",
       "0        3.5084           0.0928           0                   99.99  18.0943   \n",
       "1        3.5138           0.0867           0                   99.99  17.9405   \n",
       "2        3.5874           0.2057           0                   99.99  13.1454   \n",
       "3        3.5979           0.2222           0                   99.99  12.7719   \n",
       "4        3.5691           0.1339           0                   99.99  14.7574   \n",
       "\n",
       "   ...     g-r     r-i     i-z     log_g         Teff  Age [Gyr]  \\\n",
       "0  ...  1.8538  0.8023  0.4662  5.296607  3224.036872   8.402622   \n",
       "1  ...  1.8141  0.7850  0.4546  5.309206  3264.374675   8.851255   \n",
       "2  ...  1.4078  0.5379  0.3096  5.024010  3867.229981   8.201037   \n",
       "3  ...  1.2943  0.5010  0.2886  5.057169  3961.867984   9.244008   \n",
       "4  ...  1.6028  0.6053  0.3360  5.170441  3707.660840   8.308000   \n",
       "\n",
       "        Age Range [Gyr]  ID Age Range  Metallicity Range [Fe/H]  \\\n",
       "0  from 7.5 to 10.0 Gyr         Age_3  from -2.0 to -1.0 [Fe/H]   \n",
       "1  from 7.5 to 10.0 Gyr         Age_3  from -2.0 to -1.0 [Fe/H]   \n",
       "2  from 7.5 to 10.0 Gyr         Age_3  from -1.0 to -0.5 [Fe/H]   \n",
       "3  from 7.5 to 10.0 Gyr         Age_3  from -2.0 to -1.0 [Fe/H]   \n",
       "4  from 7.5 to 10.0 Gyr         Age_3  from -2.0 to -1.0 [Fe/H]   \n",
       "\n",
       "   ID Metallicity Range  \n",
       "0                 Met_1  \n",
       "1                 Met_1  \n",
       "2                 Met_2  \n",
       "3                 Met_1  \n",
       "4                 Met_1  \n",
       "\n",
       "[5 rows x 25 columns]"
      ]
     },
     "execution_count": 52,
     "metadata": {},
     "output_type": "execute_result"
    }
   ],
   "source": [
    "stellar_pop = pd.read_csv(SYNTH_POP_FILE, sep=',', decimal='.')\n",
    "stellar_pop.head()"
   ]
  },
  {
   "cell_type": "markdown",
   "id": "f3bdb1e6",
   "metadata": {},
   "source": [
    "##### He-Fb IS visualization (HR diagram typical ranges)"
   ]
  },
  {
   "cell_type": "code",
   "execution_count": 53,
   "id": "7f2fdc59",
   "metadata": {
    "ExecuteTime": {
     "end_time": "2023-01-17T09:48:18.309928Z",
     "start_time": "2023-01-17T09:48:09.917377Z"
    }
   },
   "outputs": [
    {
     "data": {
      "image/png": "[encoded data removed]",
      "text/plain": [
       "<Figure size 720x720 with 1 Axes>"
      ]
     },
     "metadata": {},
     "output_type": "display_data"
    }
   ],
   "source": [
    "plt.figure(figsize=(10,10))\n",
    "#ax = sns.scatterplot(data=gto, x='Teff_K', y='logg', hue='InstBand_ranged')\n",
    "# Draw the synthetic population:\n",
    "ax = sns.scatterplot(data=stellar_pop, x='Teff', y='log_g', color='gray', size=1.0, alpha=0.1,\n",
    "                     legend=False)\n",
    "\n",
    "# Set plot limits as per typical logg and Teff values in HR diagram.\n",
    "x_min = 2200\n",
    "x_max = 20000\n",
    "y_min = 0.50\n",
    "y_max = 6.00\n",
    "ax.set_xlim((x_min, x_max))\n",
    "ax.set_ylim((y_min, y_max))\n",
    "\n",
    "# Add the synthetic population:\n",
    "#sns.scatterplot(data=stellar_pop, x='Teff', y='log_g', color='gray', size=1.0, alpha=0.1,\n",
    "#                ax=ax, legend=False)\n",
    "# Add the ML sample objetcs:\n",
    "sns.scatterplot(data=ml_df, x='Teff_K', y='logg', hue='InstBand_ranged',\n",
    "                ax=ax, legend=True)\n",
    "\n",
    "# Add patches and label for instability regions:\n",
    "ax.add_patch(mpatches.Rectangle((2800, 3.1), 700, 0.5, facecolor=\"green\", alpha=0.30))\n",
    "ax.text(3500, 3.6, \"D-burning instability band\", color=\"green\", fontsize=12, ha='right')\n",
    "ax.add_patch(mpatches.Rectangle((3300, 4.5), 1000, 0.6, facecolor=\"purple\", alpha=0.30))\n",
    "ax.text(4300, 5.1, \"He3-burning and flux blocking instability band\", color=\"purple\", fontsize=12, ha='right')\n",
    "\n",
    "# Set titles, sizes etc.\n",
    "ax.set_title(\"ML subsample objects instability bands - Ranged $T_{eff}$ and $log(g)$\\n\"\n",
    "             \"With reference synthetic stellar population in gray\", fontsize=16)\n",
    "ax.set_xlabel(\"$T_{eff}$ [K]\", fontsize=12)\n",
    "ax.set_ylabel(\"$log(g)$\", fontsize=12)\n",
    "ax.tick_params(axis='both', which='major', bottom=True, left=True, labelsize=12)\n",
    "ax.invert_xaxis()\n",
    "ax.invert_yaxis()\n",
    "plt.legend(title=\"Instability band for ML subsample objects\", title_fontsize='large',\n",
    "           loc='upper left', fontsize=12)\n",
    "plt.savefig(IMAGE_RANGED_OUT_FULL_HR)\n",
    "plt.show();"
   ]
  },
  {
   "cell_type": "markdown",
   "id": "fbd944fd",
   "metadata": {},
   "source": [
    "##### He-Fb IS visualization (zoom in HR ranges of interest)"
   ]
  },
  {
   "cell_type": "code",
   "execution_count": 54,
   "id": "068f3f15",
   "metadata": {
    "ExecuteTime": {
     "end_time": "2023-01-17T09:48:26.489349Z",
     "start_time": "2023-01-17T09:48:18.310926Z"
    }
   },
   "outputs": [
    {
     "data": {
      "image/png": "[encoded data removed]",
      "text/plain": [
       "<Figure size 720x720 with 1 Axes>"
      ]
     },
     "metadata": {},
     "output_type": "display_data"
    }
   ],
   "source": [
    "plt.figure(figsize=(10,10))\n",
    "#ax = sns.scatterplot(data=gto, x='Teff_K', y='logg', hue='InstBand_ranged')\n",
    "# Draw the synthetic population:\n",
    "ax = sns.scatterplot(data=stellar_pop, x='Teff', y='log_g', color='gray', size=1.0, alpha=0.1,\n",
    "                     legend=False)\n",
    "\n",
    "# Set plot limits as per typical logg and Teff values in HR diagram.\n",
    "x_min = 2200\n",
    "x_max = 12000\n",
    "y_min = 2.00\n",
    "y_max = 6.00\n",
    "ax.set_xlim((x_min, x_max))\n",
    "ax.set_ylim((y_min, y_max))\n",
    "\n",
    "# Add the synthetic population:\n",
    "#sns.scatterplot(data=stellar_pop, x='Teff', y='log_g', color='gray', size=1.0, alpha=0.1,\n",
    "#                ax=ax, legend=False)\n",
    "# Add the GTO objetcs:\n",
    "sns.scatterplot(data=ml_df, x='Teff_K', y='logg', hue='InstBand_ranged',\n",
    "                ax=ax, legend=True)\n",
    "\n",
    "# Add patches and label for instability regions:\n",
    "ax.add_patch(mpatches.Rectangle((2800, 3.1), 700, 0.5, facecolor=\"green\", alpha=0.30))\n",
    "ax.text(3500, 3.6, \"D-burning instability band\", color=\"green\", fontsize=12, ha='right')\n",
    "ax.add_patch(mpatches.Rectangle((3300, 4.5), 1000, 0.6, facecolor=\"purple\", alpha=0.30))\n",
    "ax.text(4300, 5.1, \"He3-burning and flux blocking instability band\", color=\"purple\", fontsize=12, ha='right')\n",
    "\n",
    "# Set titles, sizes etc.\n",
    "ax.set_title(\"ML subsample objects instability bands - Ranged $T_{eff}$ and $log(g)$\\n\"\n",
    "             \"With reference synthetic stellar population in gray\", fontsize=16)\n",
    "ax.set_xlabel(\"$T_{eff}$ [K]\", fontsize=12)\n",
    "ax.set_ylabel(\"$log(g)$\", fontsize=12)\n",
    "ax.tick_params(axis='both', which='major', bottom=True, left=True, labelsize=12)\n",
    "ax.invert_xaxis()\n",
    "ax.invert_yaxis()\n",
    "plt.legend(title=\"Instability band for ML subsample\", title_fontsize='large',\n",
    "           loc='upper left', fontsize=12)\n",
    "plt.savefig(IMAGE_RANGED_OUT_ZOOM_HR)\n",
    "plt.show();"
   ]
  },
  {
   "cell_type": "markdown",
   "id": "07f4d6f8",
   "metadata": {},
   "source": [
    "#### RV curves characteristics (ML subsample)"
   ]
  },
  {
   "cell_type": "code",
   "execution_count": 55,
   "id": "8f7f745e",
   "metadata": {
    "ExecuteTime": {
     "end_time": "2023-01-17T09:48:26.505307Z",
     "start_time": "2023-01-17T09:48:26.491345Z"
    }
   },
   "outputs": [],
   "source": [
    "ml_rv_main_vars = ml_df[['Karmn', 'n_RV', 'Ps_RV', 'fs_RV', 'wmean_RV', 'wrms_RV',\n",
    "                         'rms_PG_RV', 'f_PG_RV', 'Pd_PG_RV', 'FAP_PG_RV']] \\\n",
    "    .copy()"
   ]
  },
  {
   "cell_type": "code",
   "execution_count": 56,
   "id": "aaede9a9",
   "metadata": {
    "ExecuteTime": {
     "end_time": "2023-01-17T09:48:26.537221Z",
     "start_time": "2023-01-17T09:48:26.507301Z"
    }
   },
   "outputs": [
    {
     "data": {
      "text/html": [
       "<div>\n",
       "<style scoped>\n",
       "    .dataframe tbody tr th:only-of-type {\n",
       "        vertical-align: middle;\n",
       "    }\n",
       "\n",
       "    .dataframe tbody tr th {\n",
       "        vertical-align: top;\n",
       "    }\n",
       "\n",
       "    .dataframe thead th {\n",
       "        text-align: right;\n",
       "    }\n",
       "</style>\n",
       "<table border=\"1\" class=\"dataframe\">\n",
       "  <thead>\n",
       "    <tr style=\"text-align: right;\">\n",
       "      <th></th>\n",
       "      <th>n_RV</th>\n",
       "      <th>Ps_RV</th>\n",
       "      <th>fs_RV</th>\n",
       "      <th>wmean_RV</th>\n",
       "      <th>wrms_RV</th>\n",
       "      <th>rms_PG_RV</th>\n",
       "      <th>f_PG_RV</th>\n",
       "      <th>Pd_PG_RV</th>\n",
       "      <th>FAP_PG_RV</th>\n",
       "    </tr>\n",
       "  </thead>\n",
       "  <tbody>\n",
       "    <tr>\n",
       "      <th>count</th>\n",
       "      <td>233.000000</td>\n",
       "      <td>233.000000</td>\n",
       "      <td>233.000000</td>\n",
       "      <td>2.330000e+02</td>\n",
       "      <td>233.000000</td>\n",
       "      <td>2.330000e+02</td>\n",
       "      <td>233.000000</td>\n",
       "      <td>233.000000</td>\n",
       "      <td>2.330000e+02</td>\n",
       "    </tr>\n",
       "    <tr>\n",
       "      <th>mean</th>\n",
       "      <td>59.437768</td>\n",
       "      <td>17.210224</td>\n",
       "      <td>1.568448</td>\n",
       "      <td>-9.194841e-02</td>\n",
       "      <td>3.021702</td>\n",
       "      <td>1.647894e+00</td>\n",
       "      <td>142.591264</td>\n",
       "      <td>0.031638</td>\n",
       "      <td>1.995063e-01</td>\n",
       "    </tr>\n",
       "    <tr>\n",
       "      <th>std</th>\n",
       "      <td>92.828200</td>\n",
       "      <td>28.710020</td>\n",
       "      <td>20.617796</td>\n",
       "      <td>3.369681e-01</td>\n",
       "      <td>0.879263</td>\n",
       "      <td>1.076858e+00</td>\n",
       "      <td>87.030603</td>\n",
       "      <td>0.074612</td>\n",
       "      <td>2.552891e-01</td>\n",
       "    </tr>\n",
       "    <tr>\n",
       "      <th>min</th>\n",
       "      <td>4.000000</td>\n",
       "      <td>0.003176</td>\n",
       "      <td>0.003577</td>\n",
       "      <td>-2.736329e+00</td>\n",
       "      <td>0.666710</td>\n",
       "      <td>1.075686e-07</td>\n",
       "      <td>2.644480</td>\n",
       "      <td>0.003491</td>\n",
       "      <td>7.762397e-23</td>\n",
       "    </tr>\n",
       "    <tr>\n",
       "      <th>25%</th>\n",
       "      <td>16.000000</td>\n",
       "      <td>3.807657</td>\n",
       "      <td>0.047681</td>\n",
       "      <td>-1.124968e-01</td>\n",
       "      <td>2.365640</td>\n",
       "      <td>7.492616e-01</td>\n",
       "      <td>66.076960</td>\n",
       "      <td>0.004470</td>\n",
       "      <td>2.615290e-02</td>\n",
       "    </tr>\n",
       "    <tr>\n",
       "      <th>50%</th>\n",
       "      <td>33.000000</td>\n",
       "      <td>9.939187</td>\n",
       "      <td>0.100612</td>\n",
       "      <td>-1.110223e-16</td>\n",
       "      <td>2.812982</td>\n",
       "      <td>1.558639e+00</td>\n",
       "      <td>149.889920</td>\n",
       "      <td>0.006672</td>\n",
       "      <td>8.811776e-02</td>\n",
       "    </tr>\n",
       "    <tr>\n",
       "      <th>75%</th>\n",
       "      <td>65.000000</td>\n",
       "      <td>20.972757</td>\n",
       "      <td>0.262629</td>\n",
       "      <td>1.387779e-16</td>\n",
       "      <td>3.593585</td>\n",
       "      <td>2.538085e+00</td>\n",
       "      <td>223.732720</td>\n",
       "      <td>0.015134</td>\n",
       "      <td>2.512788e-01</td>\n",
       "    </tr>\n",
       "    <tr>\n",
       "      <th>max</th>\n",
       "      <td>768.000000</td>\n",
       "      <td>279.563572</td>\n",
       "      <td>314.907497</td>\n",
       "      <td>1.351190e+00</td>\n",
       "      <td>4.977859</td>\n",
       "      <td>4.260121e+00</td>\n",
       "      <td>286.430560</td>\n",
       "      <td>0.378146</td>\n",
       "      <td>9.999998e-01</td>\n",
       "    </tr>\n",
       "  </tbody>\n",
       "</table>\n",
       "</div>"
      ],
      "text/plain": [
       "             n_RV       Ps_RV       fs_RV      wmean_RV     wrms_RV  \\\n",
       "count  233.000000  233.000000  233.000000  2.330000e+02  233.000000   \n",
       "mean    59.437768   17.210224    1.568448 -9.194841e-02    3.021702   \n",
       "std     92.828200   28.710020   20.617796  3.369681e-01    0.879263   \n",
       "min      4.000000    0.003176    0.003577 -2.736329e+00    0.666710   \n",
       "25%     16.000000    3.807657    0.047681 -1.124968e-01    2.365640   \n",
       "50%     33.000000    9.939187    0.100612 -1.110223e-16    2.812982   \n",
       "75%     65.000000   20.972757    0.262629  1.387779e-16    3.593585   \n",
       "max    768.000000  279.563572  314.907497  1.351190e+00    4.977859   \n",
       "\n",
       "          rms_PG_RV     f_PG_RV    Pd_PG_RV     FAP_PG_RV  \n",
       "count  2.330000e+02  233.000000  233.000000  2.330000e+02  \n",
       "mean   1.647894e+00  142.591264    0.031638  1.995063e-01  \n",
       "std    1.076858e+00   87.030603    0.074612  2.552891e-01  \n",
       "min    1.075686e-07    2.644480    0.003491  7.762397e-23  \n",
       "25%    7.492616e-01   66.076960    0.004470  2.615290e-02  \n",
       "50%    1.558639e+00  149.889920    0.006672  8.811776e-02  \n",
       "75%    2.538085e+00  223.732720    0.015134  2.512788e-01  \n",
       "max    4.260121e+00  286.430560    0.378146  9.999998e-01  "
      ]
     },
     "execution_count": 56,
     "metadata": {},
     "output_type": "execute_result"
    }
   ],
   "source": [
    "ml_rv_main_vars.describe()"
   ]
  },
  {
   "cell_type": "markdown",
   "id": "77548ef5",
   "metadata": {},
   "source": [
    "**OBSERVATION:** RV time series values (Minimum - Median - Maximum) for ML analysis subsample (in **bold**, the changes relative to the overall sample stats):\n",
    "- `n_RV`, number of RV points: (4 - **33** - 768)\n",
    "- `Ps_RV`, sampling period: (0.0032 - **9.94** - **279**) days\n",
    "- `wrms_RV`, RMS value of the RV time series: (0.67 / **2.81** / **4.98**) m/s\n",
    "- `Pd_PG_RV`, detected periodogram periods: (0.0035 - **0.0067** - **0.3781**) d = (5 min - **9.7** min - **9.1** h)\n",
    "- `FAP_PG_RV`, False Alarm Probability for calculated peak: (7.76e-23 - **0.088** - 1.00)"
   ]
  },
  {
   "cell_type": "markdown",
   "id": "5d9e5951",
   "metadata": {},
   "source": [
    "##### Number of points analysis (RV curves - ML subsample)"
   ]
  },
  {
   "cell_type": "code",
   "execution_count": 57,
   "id": "8e6c0b1a",
   "metadata": {
    "ExecuteTime": {
     "end_time": "2023-01-17T09:48:27.575584Z",
     "start_time": "2023-01-17T09:48:27.237490Z"
    }
   },
   "outputs": [
    {
     "name": "stderr",
     "output_type": "stream",
     "text": [
      "C:\\Users\\ciroe\\anaconda3\\lib\\site-packages\\seaborn\\distributions.py:2557: FutureWarning: `distplot` is a deprecated function and will be removed in a future version. Please adapt your code to use either `displot` (a figure-level function with similar flexibility) or `histplot` (an axes-level function for histograms).\n",
      "  warnings.warn(msg, FutureWarning)\n"
     ]
    },
    {
     "name": "stdout",
     "output_type": "stream",
     "text": [
      "count    233.000000\n",
      "mean      59.437768\n",
      "std       92.828200\n",
      "min        4.000000\n",
      "25%       16.000000\n",
      "50%       33.000000\n",
      "75%       65.000000\n",
      "max      768.000000\n",
      "Name: n_RV, dtype: float64\n",
      "p = 7.52668e-55\n",
      "***This distribution does NOT come from a Gaussian distribution(with significance level = 0.999000)\n"
     ]
    },
    {
     "data": {
      "image/png": "[encoded data removed]",
      "text/plain": [
       "<Figure size 720x504 with 1 Axes>"
      ]
     },
     "metadata": {},
     "output_type": "display_data"
    }
   ],
   "source": [
    "draw_hist(ml_rv_main_vars['n_RV'],\n",
    "          \"Number of points in CARMENES RV time series\\nSubsample for ML analysis\",\n",
    "          fig_filename=IMAGE_FOLDER + \"ETL_46_10_ML_SUBSAMPLE_RV_Number_of_points_distribution.png\")"
   ]
  },
  {
   "cell_type": "code",
   "execution_count": 58,
   "id": "02b596c9",
   "metadata": {
    "ExecuteTime": {
     "end_time": "2023-01-17T09:48:28.080596Z",
     "start_time": "2023-01-17T09:48:28.068627Z"
    }
   },
   "outputs": [
    {
     "data": {
      "text/plain": [
       "157.15999999999997"
      ]
     },
     "execution_count": 58,
     "metadata": {},
     "output_type": "execute_result"
    }
   ],
   "source": [
    "np.nanquantile(ml_rv_main_vars['n_RV'], q=0.94)"
   ]
  },
  {
   "cell_type": "code",
   "execution_count": 59,
   "id": "f9e2b1a8",
   "metadata": {
    "ExecuteTime": {
     "end_time": "2023-01-17T09:48:28.817238Z",
     "start_time": "2023-01-17T09:48:28.812251Z"
    }
   },
   "outputs": [
    {
     "data": {
      "text/plain": [
       "175.59999999999934"
      ]
     },
     "execution_count": 59,
     "metadata": {},
     "output_type": "execute_result"
    }
   ],
   "source": [
    "np.nanquantile(ml_rv_main_vars['n_RV'], q=0.95)"
   ]
  },
  {
   "cell_type": "code",
   "execution_count": 60,
   "id": "ef322a3a",
   "metadata": {
    "ExecuteTime": {
     "end_time": "2023-01-17T09:48:29.348954Z",
     "start_time": "2023-01-17T09:48:29.332997Z"
    }
   },
   "outputs": [
    {
     "data": {
      "text/plain": [
       "239.03999999999996"
      ]
     },
     "execution_count": 60,
     "metadata": {},
     "output_type": "execute_result"
    }
   ],
   "source": [
    "np.nanquantile(ml_rv_main_vars['n_RV'], q=0.96)"
   ]
  },
  {
   "cell_type": "markdown",
   "id": "0573c236",
   "metadata": {},
   "source": [
    "**OBSERVATION:**\n",
    "- Most of the RV time series ($95\\%$) have less than $176$ points."
   ]
  },
  {
   "cell_type": "markdown",
   "id": "deef4281",
   "metadata": {},
   "source": [
    "##### Sampling period analysis (RV curves - ML subsample)"
   ]
  },
  {
   "cell_type": "code",
   "execution_count": 61,
   "id": "ab43f2bd",
   "metadata": {
    "ExecuteTime": {
     "end_time": "2023-01-17T09:48:31.530680Z",
     "start_time": "2023-01-17T09:48:31.244445Z"
    }
   },
   "outputs": [
    {
     "name": "stderr",
     "output_type": "stream",
     "text": [
      "C:\\Users\\ciroe\\anaconda3\\lib\\site-packages\\seaborn\\distributions.py:2557: FutureWarning: `distplot` is a deprecated function and will be removed in a future version. Please adapt your code to use either `displot` (a figure-level function with similar flexibility) or `histplot` (an axes-level function for histograms).\n",
      "  warnings.warn(msg, FutureWarning)\n"
     ]
    },
    {
     "name": "stdout",
     "output_type": "stream",
     "text": [
      "count    233.000000\n",
      "mean      17.210224\n",
      "std       28.710020\n",
      "min        0.003176\n",
      "25%        3.807657\n",
      "50%        9.939187\n",
      "75%       20.972757\n",
      "max      279.563572\n",
      "Name: Ps_RV, dtype: float64\n",
      "p = 2.22429e-64\n",
      "***This distribution does NOT come from a Gaussian distribution(with significance level = 0.999000)\n"
     ]
    },
    {
     "data": {
      "image/png": "[encoded data removed]",
      "text/plain": [
       "<Figure size 720x504 with 1 Axes>"
      ]
     },
     "metadata": {},
     "output_type": "display_data"
    }
   ],
   "source": [
    "draw_hist(ml_rv_main_vars['Ps_RV'],\n",
    "          \"Sampling periods in CARMENES RV time series\\nSubsample for ML analysis\",\n",
    "          fig_filename=IMAGE_FOLDER + \"ETL_46_11_ML_SUBSAMPLE_RV_Sampling_period_distribution.png\")"
   ]
  },
  {
   "cell_type": "code",
   "execution_count": 62,
   "id": "2a6213ad",
   "metadata": {
    "ExecuteTime": {
     "end_time": "2023-01-17T09:48:32.083724Z",
     "start_time": "2023-01-17T09:48:32.076742Z"
    }
   },
   "outputs": [
    {
     "data": {
      "text/plain": [
       "0.9800206009112299"
      ]
     },
     "execution_count": 62,
     "metadata": {},
     "output_type": "execute_result"
    }
   ],
   "source": [
    "np.nanquantile(pg_rv_main_vars['Ps_RV'], q=0.03)"
   ]
  },
  {
   "cell_type": "code",
   "execution_count": 63,
   "id": "8ff6f062",
   "metadata": {
    "ExecuteTime": {
     "end_time": "2023-01-17T09:48:32.928081Z",
     "start_time": "2023-01-17T09:48:32.917111Z"
    }
   },
   "outputs": [
    {
     "data": {
      "text/plain": [
       "1.005794213572517"
      ]
     },
     "execution_count": 63,
     "metadata": {},
     "output_type": "execute_result"
    }
   ],
   "source": [
    "np.nanquantile(pg_rv_main_vars['Ps_RV'], q=0.04)"
   ]
  },
  {
   "cell_type": "markdown",
   "id": "bb4e6bcf",
   "metadata": {},
   "source": [
    "**OBSERVATION:**\n",
    "- Most of the RV time series ($96\\%$) have sampling periods greater than $\\approx1$ day."
   ]
  },
  {
   "cell_type": "markdown",
   "id": "dd1591d3",
   "metadata": {},
   "source": [
    "##### RMS analysis (RV curves - ML subsample)"
   ]
  },
  {
   "cell_type": "code",
   "execution_count": 64,
   "id": "1bb5a46f",
   "metadata": {
    "ExecuteTime": {
     "end_time": "2023-01-17T09:48:35.028893Z",
     "start_time": "2023-01-17T09:48:34.773543Z"
    }
   },
   "outputs": [
    {
     "name": "stderr",
     "output_type": "stream",
     "text": [
      "C:\\Users\\ciroe\\anaconda3\\lib\\site-packages\\seaborn\\distributions.py:2557: FutureWarning: `distplot` is a deprecated function and will be removed in a future version. Please adapt your code to use either `displot` (a figure-level function with similar flexibility) or `histplot` (an axes-level function for histograms).\n",
      "  warnings.warn(msg, FutureWarning)\n"
     ]
    },
    {
     "name": "stdout",
     "output_type": "stream",
     "text": [
      "count    2.330000e+02\n",
      "mean     1.647894e+00\n",
      "std      1.076858e+00\n",
      "min      1.075686e-07\n",
      "25%      7.492616e-01\n",
      "50%      1.558639e+00\n",
      "75%      2.538085e+00\n",
      "max      4.260121e+00\n",
      "Name: rms_PG_RV, dtype: float64\n",
      "p = 5.62924e-07\n",
      "***This distribution does NOT come from a Gaussian distribution(with significance level = 0.999000)\n"
     ]
    },
    {
     "data": {
      "image/png": "[encoded data removed]",
      "text/plain": [
       "<Figure size 720x504 with 1 Axes>"
      ]
     },
     "metadata": {},
     "output_type": "display_data"
    }
   ],
   "source": [
    "draw_hist(ml_rv_main_vars['rms_PG_RV'],\n",
    "          \"RMS values in CARMENES RV time series\\nSubsample for ML analysis\",\n",
    "          fig_filename=IMAGE_FOLDER + \"ETL_46_12_ML_SUBSAMPLE_RV_RMS_values_distribution.png\")"
   ]
  },
  {
   "cell_type": "code",
   "execution_count": 65,
   "id": "9268c99f",
   "metadata": {
    "ExecuteTime": {
     "end_time": "2023-01-17T09:48:35.575405Z",
     "start_time": "2023-01-17T09:48:35.556456Z"
    }
   },
   "outputs": [
    {
     "data": {
      "text/plain": [
       "2.45291552378823"
      ]
     },
     "execution_count": 65,
     "metadata": {},
     "output_type": "execute_result"
    }
   ],
   "source": [
    "np.nanquantile(ml_rv_main_vars['rms_PG_RV'], q=0.74)"
   ]
  },
  {
   "cell_type": "code",
   "execution_count": 66,
   "id": "6fc3de0d",
   "metadata": {
    "ExecuteTime": {
     "end_time": "2023-01-17T09:48:36.159112Z",
     "start_time": "2023-01-17T09:48:36.141160Z"
    }
   },
   "outputs": [
    {
     "data": {
      "text/plain": [
       "2.538085278212751"
      ]
     },
     "execution_count": 66,
     "metadata": {},
     "output_type": "execute_result"
    }
   ],
   "source": [
    "np.nanquantile(ml_rv_main_vars['rms_PG_RV'], q=0.75)"
   ]
  },
  {
   "cell_type": "code",
   "execution_count": 67,
   "id": "f99fb410",
   "metadata": {
    "ExecuteTime": {
     "end_time": "2023-01-17T09:48:36.555053Z",
     "start_time": "2023-01-17T09:48:36.549069Z"
    }
   },
   "outputs": [
    {
     "data": {
      "text/plain": [
       "2.559384879812065"
      ]
     },
     "execution_count": 67,
     "metadata": {},
     "output_type": "execute_result"
    }
   ],
   "source": [
    "np.nanquantile(ml_rv_main_vars['rms_PG_RV'], q=0.76)"
   ]
  },
  {
   "cell_type": "markdown",
   "id": "1bf8096a",
   "metadata": {},
   "source": [
    "**OBSERVATION:**\n",
    "- $75\\%$ of the time series show RMS values lower than $2.54\\;m\\;s^{-1}$."
   ]
  },
  {
   "cell_type": "markdown",
   "id": "463d0215",
   "metadata": {},
   "source": [
    "# Summary"
   ]
  },
  {
   "cell_type": "markdown",
   "id": "5146b348",
   "metadata": {},
   "source": [
    "**OBSERVATIONS AND CONCLUSIONS:**\n",
    "From the 390 objects (387 in practice, as 3 objects have empty RV files) of the CARMENES NZP-corrected RV time series, we have inspected the values of the more relevant variables:\n",
    "\n",
    "- 269 objects for periodogram analysis (for them, both RV and _TESS_ periodograms are available).\n",
    "- 233 objects for Machine Learning analysis (objects with RMS < 5 $ms^{-1}$).\n",
    "- The prior value for the fraction of pulsating stars will be taken as $\\approx87\\%$, in line with the fraction of stars located inside the instability band for the subsample selected for ML analysis (as opposed to the $\\approx74\\%$ value yielded for the overall CARM\\_VIS sample).\n"
   ]
  },
  {
   "cell_type": "code",
   "execution_count": null,
   "id": "6a6bb827",
   "metadata": {},
   "outputs": [],
   "source": []
  }
 ],
 "metadata": {
  "kernelspec": {
   "display_name": "Python 3 (ipykernel)",
   "language": "python",
   "name": "python3"
  },
  "language_info": {
   "codemirror_mode": {
    "name": "ipython",
    "version": 3
   },
   "file_extension": ".py",
   "mimetype": "text/x-python",
   "name": "python",
   "nbconvert_exporter": "python",
   "pygments_lexer": "ipython3",
   "version": "3.8.8"
  },
  "latex_envs": {
   "LaTeX_envs_menu_present": true,
   "autoclose": false,
   "autocomplete": true,
   "bibliofile": "biblio.bib",
   "cite_by": "apalike",
   "current_citInitial": 1,
   "eqLabelWithNumbers": true,
   "eqNumInitial": 1,
   "hotkeys": {
    "equation": "Ctrl-E",
    "itemize": "Ctrl-I"
   },
   "labels_anchors": false,
   "latex_user_defs": false,
   "report_style_numbering": false,
   "user_envs_cfg": false
  },
  "toc": {
   "base_numbering": 1,
   "nav_menu": {},
   "number_sections": true,
   "sideBar": true,
   "skip_h1_title": true,
   "title_cell": "Table of Contents",
   "title_sidebar": "Contents",
   "toc_cell": false,
   "toc_position": {
    "height": "calc(100% - 180px)",
    "left": "10px",
    "top": "150px",
    "width": "384px"
   },
   "toc_section_display": true,
   "toc_window_display": true
  }
 },
 "nbformat": 4,
 "nbformat_minor": 5
}
