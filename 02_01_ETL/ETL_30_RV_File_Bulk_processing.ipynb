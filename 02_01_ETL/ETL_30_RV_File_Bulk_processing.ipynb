{
 "cells": [
  {
   "cell_type": "markdown",
   "id": "7e41b9a9",
   "metadata": {},
   "source": [
    "# RV BATCH FILE PROCESSING"
   ]
  },
  {
   "cell_type": "code",
   "execution_count": 1,
   "id": "c002a739",
   "metadata": {
    "ExecuteTime": {
     "end_time": "2022-06-15T15:19:19.507335Z",
     "start_time": "2022-06-15T15:19:19.495367Z"
    }
   },
   "outputs": [],
   "source": [
    "# NOTA IMPORTANTE - CÓMO IMPLEMENTAR LO DEL \"TIMEOUT\".\n",
    "# https://stackoverflow.com/questions/25027122/break-the-function-after-certain-time\n",
    "# NO SIRVE - SOLO SIRVE PARA ENTORNOS UNIX"
   ]
  },
  {
   "cell_type": "markdown",
   "id": "68d4ff82",
   "metadata": {},
   "source": [
    "This notebook takes the GTO objects table and calculates the Lomb-Scargle periodogram for each of the RV curves, storing the results in `FITS` files with a primary header and two additional header data units, one with the RV curve itself and another with the periodogram.\n",
    "\n",
    "Additionally, the GTO objects table and file is updated with new columns storing the results for each object.\n",
    "\n",
    "Error control is implemented to prevent exceptions and timeouts to interrupt the processing. In case any of these errors happen, it is so recorded in the results table. Timeout value is dinamically updated, as the calculation for each record is completed.\n",
    "\n",
    "**NOTE:** there seems to be some kind of memory leak or something similar, because the browser crashes if you try to execute al loop iterations at once. Hence, it is necessary to execute the loop in batches of 100 elements, for example."
   ]
  },
  {
   "cell_type": "markdown",
   "id": "fec5c87e",
   "metadata": {},
   "source": [
    "**Calculation conditions:**\n",
    "\n",
    "The stars currently under analysis are in the $He_{3}$ instability band, so they are expected to have effective temperatures in the range $T_{eff}\\in[3300, 4300] K$, $\\log g\\in[4.5, 5.1]$, and masses in the range $M_{star}\\in[0.20, 0.60] M_{Sun}$.\n",
    "\n",
    "According to _Table 2_ in _The theoretical instability strip of M dwarf stars (Rodríguez-López, C., et al. 2014, MNRAS, 438, 2371)_ these stars have typical periods of $20 min$ to $3 h$, so we will set the limits of the periodogram frequencies for periods between $10 min$ and $5 h$. In days, this corresponds to a range of $P\\in[0.006944, 0.208333] d$ or, equivalently, frequencies in the range $f\\in[144, 4.8] d^{-1}$.\n",
    "\n",
    "We will use the _Generalized Lomb Scargle Periodogram_ method, as described in [Zechmeister and Kürster, 2009](https://www.aanda.org/articles/aa/full_html/2009/11/aa11296-08/aa11296-08.html) and implemented by GitHub repository [mzechmeister/GLS](https://github.com/mzechmeister/GLS), using the default _ZK_ normalization."
   ]
  },
  {
   "cell_type": "markdown",
   "id": "9d4512e5",
   "metadata": {},
   "source": [
    "## Modules and configuration"
   ]
  },
  {
   "cell_type": "markdown",
   "id": "a24b300e",
   "metadata": {},
   "source": [
    "### Modules"
   ]
  },
  {
   "cell_type": "code",
   "execution_count": 27,
   "id": "bf7cc337",
   "metadata": {
    "ExecuteTime": {
     "end_time": "2022-06-15T15:49:36.623494Z",
     "start_time": "2022-06-15T15:49:36.605542Z"
    }
   },
   "outputs": [],
   "source": [
    "# Modules import:\n",
    "#from collections import OrderedDict\n",
    "import pandas as pd\n",
    "import numpy as np\n",
    "import time\n",
    "\n",
    "from scipy import stats\n",
    "\n",
    "# https://github.com/mzechmeister/GLS\n",
    "from gls import Gls\n",
    "\n",
    "from astropy.table import Table, QTable\n",
    "#from astropy.timeseries import TimeSeries\n",
    "from astropy import units as u\n",
    "from astropy.io import fits\n",
    "#from astropy.time import Time\n",
    "\n",
    "import lightkurve as lk\n",
    "\n",
    "#%matplotlib inline\n",
    "import matplotlib.pyplot as plt\n",
    "\n",
    "from pylab import rcParams\n",
    "rcParams['figure.figsize'] = 11, 11\n",
    "\n",
    "#import seaborn as sns\n",
    "#sns.set_style(\"white\", {'figure.figsize':(15,10)})\n",
    "#sns.set_style(\"whitegrid\")\n",
    "#sns.set(rc={'figure.figsize':(15,8)})"
   ]
  },
  {
   "cell_type": "markdown",
   "id": "be1f4594",
   "metadata": {},
   "source": [
    "### Configuration"
   ]
  },
  {
   "cell_type": "code",
   "execution_count": 3,
   "id": "f3feca3c",
   "metadata": {
    "ExecuteTime": {
     "end_time": "2022-06-15T15:19:24.366672Z",
     "start_time": "2022-06-15T15:19:24.340871Z"
    }
   },
   "outputs": [],
   "source": [
    "# Configuration:\n",
    "# Files and folders (WARNING: THIS FOLDER STRUCTURE MUST EXIST PREVIOUSLY):\n",
    "GTO_FILE = \"../data/CARM_VIS_objects_with_PG.csv\" # NOTE: initially this should be a copy of the previous file.\n",
    "IN_RV_FOLDER = \"../data/CARM_VIS_RVs/\"\n",
    "OUT_IMG_FOLDER = \"../data/CARM_VIS_RVs_PGs/figures/\"\n",
    "OUT_PROCESSED_FOLDER = \"../data/CARM_VIS_RVs_PGs/\"\n",
    "#OUT_GTO_FILE = \"../data/GTO_objects_withRVPG.csv\"\n",
    "#OUT_PG_FILE = \"../data/GTO_PGs.csv\"\n",
    "#OUT_ERROR_FILE = \"../data/GTO_PG_ERRORs.csv\"\n",
    "\n",
    "# Periodogram constants:\n",
    "FBEG = 4.8\n",
    "FEND = 144\n",
    "PBEG = None # Default\n",
    "PEND = None # Default\n",
    "OFAC = 10 # Default\n",
    "HIFAC = 1 # Default\n",
    "FREQ = np.linspace(start=FBEG, stop=FEND, num=1000001) # 1,000,001 points between 4.8 and 144 d^(-1)\n",
    "# Must be compatible with FBEG, FEND values\n",
    "NORM = \"ZK\" # Default\n",
    "LS = False # Default\n",
    "FAST = False # Default\n",
    "VERBOSE = False # Default\n",
    "FAP_LEVELS_PLOT = [0.01, 0.05, 0.10] # FAP reference levels to plot\n",
    "\n",
    "# Initial timeout value (to prevent a stuck file to interrupt the whole process)\n",
    "#INITIAL_TIMEOUT = 600 # Seconds\n"
   ]
  },
  {
   "cell_type": "code",
   "execution_count": 4,
   "id": "39b60e99",
   "metadata": {
    "ExecuteTime": {
     "end_time": "2022-06-15T15:19:24.382073Z",
     "start_time": "2022-06-15T15:19:24.368227Z"
    }
   },
   "outputs": [],
   "source": [
    "def rv_load(filename: str):\n",
    "    '''Load the RV file and returns a lightcurve object'''\n",
    "    rv_lk = Table.read(filename, format='ascii',\n",
    "                    names = ['time', 'RV', 'eRV'], units=[u.d, u.meter / u.second, u.meter / u.second])\n",
    "    rv_lk = lk.LightCurve(time=rv_lk['time'], flux=rv_lk['RV'], flux_err=rv_lk['eRV'])\n",
    "    return rv_lk"
   ]
  },
  {
   "cell_type": "code",
   "execution_count": 5,
   "id": "3b553ca2",
   "metadata": {
    "ExecuteTime": {
     "end_time": "2022-06-15T15:19:24.398027Z",
     "start_time": "2022-06-15T15:19:24.383067Z"
    }
   },
   "outputs": [],
   "source": [
    "def rv_infer_sampling(rv_lk: lk.LightCurve):\n",
    "    '''Infer sampling period from light curve'''\n",
    "    time_diffs = rv_lk['time'][1:] - rv_lk['time'][:-1]\n",
    "    return np.median(time_diffs)"
   ]
  },
  {
   "cell_type": "raw",
   "id": "f78aea29",
   "metadata": {
    "ExecuteTime": {
     "end_time": "2022-06-15T16:03:32.554651Z",
     "start_time": "2022-06-15T16:03:32.536699Z"
    }
   },
   "source": [
    "def get_rms(ts, sigma=None):\n",
    "    '''\n",
    "    Calculates the RMS of the values of a time series, removing the indicated outliers, i.e. points\n",
    "    further away from the mean than a number of sigmas given by the \"sigma\" paremeters.\n",
    "    If \"sigma\" is set to 'None', no point in the time series is discarded.\n",
    "    Notice the 'ddof'=1 parameter for 'zscore', which means the estimate for the full sime series is employed.\n",
    "    '''\n",
    "    if sigma is None:\n",
    "        pass\n",
    "    else:\n",
    "        # Remove outliers:\n",
    "        zscores = stats.zscore(ts, ddof=1)\n",
    "        ts = ts[zscores <= sigma].copy()\n",
    "    ts_mean = ts.mean()\n",
    "    ts_rms = np.sqrt((ts - ts_mean) ** 2).mean()\n",
    "    \n",
    "    return ts_rms"
   ]
  },
  {
   "cell_type": "markdown",
   "id": "471bf7f4",
   "metadata": {},
   "source": [
    "## Data processing"
   ]
  },
  {
   "cell_type": "markdown",
   "id": "993e3a72",
   "metadata": {},
   "source": [
    "### GTO data loading"
   ]
  },
  {
   "cell_type": "code",
   "execution_count": 98,
   "id": "501a2ffe",
   "metadata": {
    "ExecuteTime": {
     "end_time": "2022-06-15T16:04:18.285309Z",
     "start_time": "2022-06-15T16:04:18.232944Z"
    }
   },
   "outputs": [
    {
     "data": {
      "text/html": [
       "<div>\n",
       "<style scoped>\n",
       "    .dataframe tbody tr th:only-of-type {\n",
       "        vertical-align: middle;\n",
       "    }\n",
       "\n",
       "    .dataframe tbody tr th {\n",
       "        vertical-align: top;\n",
       "    }\n",
       "\n",
       "    .dataframe thead th {\n",
       "        text-align: right;\n",
       "    }\n",
       "</style>\n",
       "<table border=\"1\" class=\"dataframe\">\n",
       "  <thead>\n",
       "    <tr style=\"text-align: right;\">\n",
       "      <th></th>\n",
       "      <th>Karmn</th>\n",
       "      <th>Name</th>\n",
       "      <th>Comp</th>\n",
       "      <th>GJ</th>\n",
       "      <th>RA_J2016_deg</th>\n",
       "      <th>DE_J2016_deg</th>\n",
       "      <th>RA_J2000</th>\n",
       "      <th>DE_J2000</th>\n",
       "      <th>l_J2016_deg</th>\n",
       "      <th>b_J2016_deg</th>\n",
       "      <th>...</th>\n",
       "      <th>T0_PG_RV</th>\n",
       "      <th>e_T0_PG_RV</th>\n",
       "      <th>offset_PG_RV</th>\n",
       "      <th>e_offset_PG_RV</th>\n",
       "      <th>FAP_PG_RV</th>\n",
       "      <th>valid_PG_RV</th>\n",
       "      <th>error_PG_RV</th>\n",
       "      <th>elapsed_time_PG_RV</th>\n",
       "      <th>fits_file_RV</th>\n",
       "      <th>fig_file_RV</th>\n",
       "    </tr>\n",
       "  </thead>\n",
       "  <tbody>\n",
       "    <tr>\n",
       "      <th>0</th>\n",
       "      <td>J23585+076</td>\n",
       "      <td>Wolf 1051</td>\n",
       "      <td>AB</td>\n",
       "      <td>4383</td>\n",
       "      <td>359.636420</td>\n",
       "      <td>7.656947</td>\n",
       "      <td>23:58:32.65</td>\n",
       "      <td>+07:39:30.1</td>\n",
       "      <td>100.839686</td>\n",
       "      <td>-52.931049</td>\n",
       "      <td>...</td>\n",
       "      <td>2.457588e+06</td>\n",
       "      <td>0.000131</td>\n",
       "      <td>82.662521</td>\n",
       "      <td>155.773872</td>\n",
       "      <td>0.000068</td>\n",
       "      <td>1.0</td>\n",
       "      <td>NaN</td>\n",
       "      <td>13.063302</td>\n",
       "      <td>../data/CARM_VIS_RVs_PGs/J23585+076_RV_PG.fits</td>\n",
       "      <td>../data/CARM_VIS_RVs_PGs/figures/J23585+076_RV...</td>\n",
       "    </tr>\n",
       "    <tr>\n",
       "      <th>1</th>\n",
       "      <td>J23556-061</td>\n",
       "      <td>GJ 912</td>\n",
       "      <td>AB</td>\n",
       "      <td>912</td>\n",
       "      <td>358.913617</td>\n",
       "      <td>-6.144283</td>\n",
       "      <td>23:55:39.78</td>\n",
       "      <td>-06:08:33.4</td>\n",
       "      <td>88.129933</td>\n",
       "      <td>-65.175491</td>\n",
       "      <td>...</td>\n",
       "      <td>2.457594e+06</td>\n",
       "      <td>0.001158</td>\n",
       "      <td>1.347250</td>\n",
       "      <td>39.485671</td>\n",
       "      <td>0.601966</td>\n",
       "      <td>1.0</td>\n",
       "      <td>NaN</td>\n",
       "      <td>11.500704</td>\n",
       "      <td>../data/CARM_VIS_RVs_PGs/J23556-061_RV_PG.fits</td>\n",
       "      <td>../data/CARM_VIS_RVs_PGs/figures/J23556-061_RV...</td>\n",
       "    </tr>\n",
       "    <tr>\n",
       "      <th>2</th>\n",
       "      <td>J23548+385</td>\n",
       "      <td>RX J2354.8+3831</td>\n",
       "      <td>-</td>\n",
       "      <td>NaN</td>\n",
       "      <td>358.713658</td>\n",
       "      <td>38.526340</td>\n",
       "      <td>23:54:51.46</td>\n",
       "      <td>+38:31:36.2</td>\n",
       "      <td>110.941908</td>\n",
       "      <td>-23.024449</td>\n",
       "      <td>...</td>\n",
       "      <td>2.457593e+06</td>\n",
       "      <td>0.000200</td>\n",
       "      <td>-12.399802</td>\n",
       "      <td>2.693680</td>\n",
       "      <td>0.334775</td>\n",
       "      <td>1.0</td>\n",
       "      <td>NaN</td>\n",
       "      <td>11.086118</td>\n",
       "      <td>../data/CARM_VIS_RVs_PGs/J23548+385_RV_PG.fits</td>\n",
       "      <td>../data/CARM_VIS_RVs_PGs/figures/J23548+385_RV...</td>\n",
       "    </tr>\n",
       "    <tr>\n",
       "      <th>3</th>\n",
       "      <td>J23505-095</td>\n",
       "      <td>LP 763-012</td>\n",
       "      <td>-</td>\n",
       "      <td>4367</td>\n",
       "      <td>357.634705</td>\n",
       "      <td>-9.560964</td>\n",
       "      <td>23:50:31.64</td>\n",
       "      <td>-09:33:32.7</td>\n",
       "      <td>80.777067</td>\n",
       "      <td>-67.303426</td>\n",
       "      <td>...</td>\n",
       "      <td>2.457595e+06</td>\n",
       "      <td>0.005440</td>\n",
       "      <td>-0.272751</td>\n",
       "      <td>0.332384</td>\n",
       "      <td>0.584035</td>\n",
       "      <td>1.0</td>\n",
       "      <td>NaN</td>\n",
       "      <td>12.240123</td>\n",
       "      <td>../data/CARM_VIS_RVs_PGs/J23505-095_RV_PG.fits</td>\n",
       "      <td>../data/CARM_VIS_RVs_PGs/figures/J23505-095_RV...</td>\n",
       "    </tr>\n",
       "    <tr>\n",
       "      <th>4</th>\n",
       "      <td>J23492+024</td>\n",
       "      <td>BR Psc</td>\n",
       "      <td>-</td>\n",
       "      <td>908</td>\n",
       "      <td>357.306604</td>\n",
       "      <td>2.396918</td>\n",
       "      <td>23:49:12.53</td>\n",
       "      <td>+02:24:04.4</td>\n",
       "      <td>93.567467</td>\n",
       "      <td>-56.885396</td>\n",
       "      <td>...</td>\n",
       "      <td>2.457395e+06</td>\n",
       "      <td>0.000552</td>\n",
       "      <td>-0.068362</td>\n",
       "      <td>0.109119</td>\n",
       "      <td>0.443303</td>\n",
       "      <td>1.0</td>\n",
       "      <td>NaN</td>\n",
       "      <td>20.056579</td>\n",
       "      <td>../data/CARM_VIS_RVs_PGs/J23492+024_RV_PG.fits</td>\n",
       "      <td>../data/CARM_VIS_RVs_PGs/figures/J23492+024_RV...</td>\n",
       "    </tr>\n",
       "  </tbody>\n",
       "</table>\n",
       "<p>5 rows × 217 columns</p>\n",
       "</div>"
      ],
      "text/plain": [
       "        Karmn             Name Comp    GJ  RA_J2016_deg  DE_J2016_deg  \\\n",
       "0  J23585+076        Wolf 1051   AB  4383    359.636420      7.656947   \n",
       "1  J23556-061           GJ 912   AB   912    358.913617     -6.144283   \n",
       "2  J23548+385  RX J2354.8+3831    -   NaN    358.713658     38.526340   \n",
       "3  J23505-095       LP 763-012    -  4367    357.634705     -9.560964   \n",
       "4  J23492+024           BR Psc    -   908    357.306604      2.396918   \n",
       "\n",
       "      RA_J2000     DE_J2000  l_J2016_deg  b_J2016_deg  ...      T0_PG_RV  \\\n",
       "0  23:58:32.65  +07:39:30.1   100.839686   -52.931049  ...  2.457588e+06   \n",
       "1  23:55:39.78  -06:08:33.4    88.129933   -65.175491  ...  2.457594e+06   \n",
       "2  23:54:51.46  +38:31:36.2   110.941908   -23.024449  ...  2.457593e+06   \n",
       "3  23:50:31.64  -09:33:32.7    80.777067   -67.303426  ...  2.457595e+06   \n",
       "4  23:49:12.53  +02:24:04.4    93.567467   -56.885396  ...  2.457395e+06   \n",
       "\n",
       "  e_T0_PG_RV  offset_PG_RV e_offset_PG_RV  FAP_PG_RV  valid_PG_RV  \\\n",
       "0   0.000131     82.662521     155.773872   0.000068          1.0   \n",
       "1   0.001158      1.347250      39.485671   0.601966          1.0   \n",
       "2   0.000200    -12.399802       2.693680   0.334775          1.0   \n",
       "3   0.005440     -0.272751       0.332384   0.584035          1.0   \n",
       "4   0.000552     -0.068362       0.109119   0.443303          1.0   \n",
       "\n",
       "   error_PG_RV  elapsed_time_PG_RV  \\\n",
       "0          NaN           13.063302   \n",
       "1          NaN           11.500704   \n",
       "2          NaN           11.086118   \n",
       "3          NaN           12.240123   \n",
       "4          NaN           20.056579   \n",
       "\n",
       "                                     fits_file_RV  \\\n",
       "0  ../data/CARM_VIS_RVs_PGs/J23585+076_RV_PG.fits   \n",
       "1  ../data/CARM_VIS_RVs_PGs/J23556-061_RV_PG.fits   \n",
       "2  ../data/CARM_VIS_RVs_PGs/J23548+385_RV_PG.fits   \n",
       "3  ../data/CARM_VIS_RVs_PGs/J23505-095_RV_PG.fits   \n",
       "4  ../data/CARM_VIS_RVs_PGs/J23492+024_RV_PG.fits   \n",
       "\n",
       "                                         fig_file_RV  \n",
       "0  ../data/CARM_VIS_RVs_PGs/figures/J23585+076_RV...  \n",
       "1  ../data/CARM_VIS_RVs_PGs/figures/J23556-061_RV...  \n",
       "2  ../data/CARM_VIS_RVs_PGs/figures/J23548+385_RV...  \n",
       "3  ../data/CARM_VIS_RVs_PGs/figures/J23505-095_RV...  \n",
       "4  ../data/CARM_VIS_RVs_PGs/figures/J23492+024_RV...  \n",
       "\n",
       "[5 rows x 217 columns]"
      ]
     },
     "execution_count": 98,
     "metadata": {},
     "output_type": "execute_result"
    }
   ],
   "source": [
    "# Load GTO data table:\n",
    "gto = pd.read_csv(GTO_FILE, sep=',', decimal='.')\n",
    "gto.head(5)"
   ]
  },
  {
   "cell_type": "code",
   "execution_count": 103,
   "id": "3c926966",
   "metadata": {
    "ExecuteTime": {
     "end_time": "2022-06-15T16:12:43.866882Z",
     "start_time": "2022-06-15T16:12:43.849928Z"
    }
   },
   "outputs": [
    {
     "data": {
      "text/html": [
       "<div>\n",
       "<style scoped>\n",
       "    .dataframe tbody tr th:only-of-type {\n",
       "        vertical-align: middle;\n",
       "    }\n",
       "\n",
       "    .dataframe tbody tr th {\n",
       "        vertical-align: top;\n",
       "    }\n",
       "\n",
       "    .dataframe thead th {\n",
       "        text-align: right;\n",
       "    }\n",
       "</style>\n",
       "<table border=\"1\" class=\"dataframe\">\n",
       "  <thead>\n",
       "    <tr style=\"text-align: right;\">\n",
       "      <th></th>\n",
       "      <th>Karmn</th>\n",
       "      <th>wrms_RV</th>\n",
       "    </tr>\n",
       "  </thead>\n",
       "  <tbody>\n",
       "    <tr>\n",
       "      <th>0</th>\n",
       "      <td>J23585+076</td>\n",
       "      <td>3.982350e+06</td>\n",
       "    </tr>\n",
       "    <tr>\n",
       "      <th>1</th>\n",
       "      <td>J23556-061</td>\n",
       "      <td>1.189797e+05</td>\n",
       "    </tr>\n",
       "    <tr>\n",
       "      <th>2</th>\n",
       "      <td>J23548+385</td>\n",
       "      <td>8.457554e+02</td>\n",
       "    </tr>\n",
       "    <tr>\n",
       "      <th>3</th>\n",
       "      <td>J23505-095</td>\n",
       "      <td>1.130713e+01</td>\n",
       "    </tr>\n",
       "    <tr>\n",
       "      <th>4</th>\n",
       "      <td>J23492+024</td>\n",
       "      <td>4.769276e+00</td>\n",
       "    </tr>\n",
       "    <tr>\n",
       "      <th>...</th>\n",
       "      <td>...</td>\n",
       "      <td>...</td>\n",
       "    </tr>\n",
       "    <tr>\n",
       "      <th>385</th>\n",
       "      <td>J00183+440</td>\n",
       "      <td>6.852464e+00</td>\n",
       "    </tr>\n",
       "    <tr>\n",
       "      <th>386</th>\n",
       "      <td>J00162+198W</td>\n",
       "      <td>4.000712e+08</td>\n",
       "    </tr>\n",
       "    <tr>\n",
       "      <th>387</th>\n",
       "      <td>J00162+198E</td>\n",
       "      <td>8.189307e+00</td>\n",
       "    </tr>\n",
       "    <tr>\n",
       "      <th>388</th>\n",
       "      <td>J00067-075</td>\n",
       "      <td>5.954006e+00</td>\n",
       "    </tr>\n",
       "    <tr>\n",
       "      <th>389</th>\n",
       "      <td>J00051+457</td>\n",
       "      <td>8.041901e+00</td>\n",
       "    </tr>\n",
       "  </tbody>\n",
       "</table>\n",
       "<p>390 rows × 2 columns</p>\n",
       "</div>"
      ],
      "text/plain": [
       "           Karmn       wrms_RV\n",
       "0     J23585+076  3.982350e+06\n",
       "1     J23556-061  1.189797e+05\n",
       "2     J23548+385  8.457554e+02\n",
       "3     J23505-095  1.130713e+01\n",
       "4     J23492+024  4.769276e+00\n",
       "..           ...           ...\n",
       "385   J00183+440  6.852464e+00\n",
       "386  J00162+198W  4.000712e+08\n",
       "387  J00162+198E  8.189307e+00\n",
       "388   J00067-075  5.954006e+00\n",
       "389   J00051+457  8.041901e+00\n",
       "\n",
       "[390 rows x 2 columns]"
      ]
     },
     "execution_count": 103,
     "metadata": {},
     "output_type": "execute_result"
    }
   ],
   "source": [
    "gto[['Karmn','wrms_RV']]"
   ]
  },
  {
   "cell_type": "code",
   "execution_count": 99,
   "id": "c17dcb96",
   "metadata": {
    "ExecuteTime": {
     "end_time": "2022-06-15T16:04:23.315740Z",
     "start_time": "2022-06-15T16:04:23.305793Z"
    }
   },
   "outputs": [
    {
     "data": {
      "text/plain": [
       "(390, 217)"
      ]
     },
     "execution_count": 99,
     "metadata": {},
     "output_type": "execute_result"
    }
   ],
   "source": [
    "gto.shape"
   ]
  },
  {
   "cell_type": "code",
   "execution_count": 100,
   "id": "2e77fa32",
   "metadata": {
    "ExecuteTime": {
     "end_time": "2022-06-15T16:04:28.986436Z",
     "start_time": "2022-06-15T16:04:28.969481Z"
    }
   },
   "outputs": [
    {
     "name": "stdout",
     "output_type": "stream",
     "text": [
      "['Karmn', 'Name', 'Comp', 'GJ', 'RA_J2016_deg', 'DE_J2016_deg', 'RA_J2000', 'DE_J2000', 'l_J2016_deg', 'b_J2016_deg', 'Ref01', 'SpT', 'SpTnum', 'Ref02', 'Teff_K', 'eTeff_K', 'logg', 'elogg', '[Fe/H]', 'e[Fe/H]', 'Ref03', 'L_Lsol', 'eL_Lsol', 'Ref04', 'R_Rsol', 'eR_Rsol', 'Ref05', 'M_Msol', 'eM_Msol', 'Ref06', 'muRA_masa-1', 'emuRA_masa-1', 'muDE_masa-1', 'emuDE_masa-1', 'Ref07', 'pi_mas', 'epi_mas', 'Ref08', 'd_pc', 'ed_pc', 'Ref09', 'Vr_kms-1', 'eVr_kms-1', 'Ref10', 'ruwe', 'Ref11', 'U_kms-1', 'eU_kms-1', 'V_kms-1', 'eV_kms-1', 'W_kms-1', 'eW_kms-1', 'Ref12', 'sa_m/s/a', 'esa_m/s/a', 'Ref13', 'SKG', 'Ref14', 'SKG_lit', 'Ref14_lit', 'Pop', 'Ref15', 'vsini_flag', 'vsini_kms-1', 'evsini_kms-1', 'Ref16', 'P_d', 'eP_d', 'Ref17', 'pEWHalpha_A', 'epEWHalpha_A', 'Ref18', 'log(LHalpha/Lbol)', 'elog(LHalpha/Lbol)', 'Ref19', '1RXS', 'CRT_s-1', 'eCRT_s-1', 'HR1', 'eHR1', 'HR2', 'eHR2', 'Flux_X_E-13_ergcm-2s-1', 'eFlux_X_E-13_ergcm-2s-1', 'LX/LJ', 'eLX/LJ', 'Ref20', 'Activity', 'Ref21', 'FUV_mag', 'eFUV_mag', 'NUV_mag', 'eNUV_mag', 'Ref22', 'u_mag', 'eu_mag', 'Ref23', 'BT_mag', 'eBT_mag', 'Ref24', 'B_mag', 'eB_mag', 'Ref25', 'BP_mag', 'eBP_mag', 'Ref26', 'g_mag', 'eg_mag', 'Ref27', 'VT_mag', 'eVT_mag', 'Ref28', 'V_mag', 'eV_mag', 'Ref29', 'Ra_mag', 'Ref30', 'r_mag', 'er_mag', 'Ref31', 'GG_mag', 'eGG_mag', 'Ref32', 'i_mag', 'ei_mag', 'Ref33', 'RP_mag', 'eRP_mag', 'Ref34', 'IN_mag', 'Ref35', 'J_mag', 'eJ_mag', 'H_mag', 'eH_mag', 'Ks_mag', 'eKs_mag', 'QFlag_2M', 'Ref36', 'W1_mag', 'eW1_mag', 'W2_mag', 'eW2_mag', 'W3_mag', 'eW3_mag', 'W4_mag', 'eW4_mag', 'QFlag_WISE', 'Ref37', 'Multiplicity', 'WideWDS', 'Widerho_arcsec', 'eWiderho_arcsec', 'Ref38', 'WideCompanionName', 'WideCompanionSpT', 'CloseWDS', 'Closerho_arcsec', 'eCloserho_arcsec', 'Ref39', 'CloseCompanionSpT', 'RV', 'Planet', 'Ref40', 'PlanetNum', 'LoRes_spectrum', 'HiRes_spectrum', 'LoRes_imaging', 'HiRes_imaging', 'Class', 'Survey', 'Notes', 'Gaia_id_1', '2MASS_id', 'TIC_id', 'Teff_min_K', 'Teff_max_K', 'logg_min', 'logg_max', 'is_GTO', 'rv_file', 'lc_file', 'has_rv', 'has_lc', 'InstBand_nominal', 'InstBand_ranged', 'n_RV', 'Ps_RV', 'fs_RV', 'wmean_RV', 'wrms_RV', 'info_PG_RV', 'maxP_PG_RV', 'maxSNR_PG_RV', 'rms_PG_RV', 'f_PG_RV', 'e_f_PG_RV', 'Pd_PG_RV', 'e_Pd_PG_RV', 'Ph_PG_RV', 'e_Ph_PG_RV', 'Pm_PG_RV', 'e_Pm_PG_RV', 'A_PG_RV', 'e_A_PG_RV', 'ph_PG_RV', 'e_ph_PG_RV', 'T0_PG_RV', 'e_T0_PG_RV', 'offset_PG_RV', 'e_offset_PG_RV', 'FAP_PG_RV', 'valid_PG_RV', 'error_PG_RV', 'elapsed_time_PG_RV', 'fits_file_RV', 'fig_file_RV']\n"
     ]
    }
   ],
   "source": [
    "print(list(gto.columns))"
   ]
  },
  {
   "cell_type": "markdown",
   "id": "d9a9a082",
   "metadata": {},
   "source": [
    "Generate the proper auxiliary columns (with the basic periodograms results)."
   ]
  },
  {
   "cell_type": "code",
   "execution_count": 9,
   "id": "19c50c80",
   "metadata": {
    "ExecuteTime": {
     "end_time": "2022-06-04T21:36:04.878227Z",
     "start_time": "2022-06-04T21:36:04.868253Z"
    }
   },
   "outputs": [],
   "source": [
    "# Additional columns:\n",
    "if 'n_RV' in gto.columns:\n",
    "    pass\n",
    "else:\n",
    "    gto['n_RV'] = None # Number of points in RV curve\n",
    "    gto['Ps_RV'] = None # Sampling period (d)\n",
    "    gto['fs_RV'] = None # Sampling frequency (d^(-1))\n",
    "    gto['wmean_RV'] = None # Mean of RV\n",
    "    gto['wrms_RV'] = None # RMS of RV\n",
    "    gto['info_PG_RV'] = None # Information text about the PG\n",
    "    gto['maxP_PG_RV'] = None # Max power value in the PG\n",
    "    gto['maxSNR_PG_RV'] = None # Max power value in the PG\n",
    "    gto['rms_PG_RV'] = None # RMS value in the PG residuals\n",
    "    gto['f_PG_RV'] = None # Best frequency in the PG (d^(-1))\n",
    "    gto['e_f_PG_RV'] = None # Error of the best frequency in the PG (d^(-1))\n",
    "    gto['Pd_PG_RV'] = None # Best period in the PG (d)\n",
    "    gto['e_Pd_PG_RV'] = None # Error of the best period in the PG (d)\n",
    "    gto['Ph_PG_RV'] = None # Best period in the PG (hours)\n",
    "    gto['e_Ph_PG_RV'] = None # Error of the best period in the PG (hours)\n",
    "    gto['Pm_PG_RV'] = None # Best period in the PG (minutes)\n",
    "    gto['e_Pm_PG_RV'] = None # Error of the best period in the PG (minutes)\n",
    "    gto['A_PG_RV'] = None # Amplitude of the best frequency\n",
    "    gto['e_A_PG_RV'] = None # Error of the amplitude of the best frequency\n",
    "    gto['ph_PG_RV'] = None # Amplitude of the best frequency\n",
    "    gto['e_ph_PG_RV'] = None # Error of the amplitude of the best frequency\n",
    "    gto['T0_PG_RV'] = None # Reference epoch of the best frequency\n",
    "    gto['e_T0_PG_RV'] = None # Error of the epoch of the best frequency\n",
    "    gto['offset_PG_RV'] = None # Offset of the best frequency\n",
    "    gto['e_offset_PG_RV'] = None # Error of the offset of the best frequency\n",
    "    gto['FAP_PG_RV'] = None # False alarm probability\n",
    "    gto['valid_PG_RV'] = None # Flag to indicate if the periodogram calculation succeeded (1) or not (0).\n",
    "    gto['error_PG_RV'] = None # The error raised during processing. Empty if processing was successful.\n",
    "    gto['elapsed_time_PG_RV'] = None # The time elapsed in calculation\n",
    "    gto['fits_file_RV'] = None # The name of the processed file.\n",
    "    gto['fig_file_RV'] = None # The name of the figure file.\n"
   ]
  },
  {
   "cell_type": "markdown",
   "id": "597c96b4",
   "metadata": {},
   "source": [
    "### Batch processing of all RV files"
   ]
  },
  {
   "cell_type": "code",
   "execution_count": 10,
   "id": "69a20e73",
   "metadata": {
    "ExecuteTime": {
     "end_time": "2022-06-04T21:36:06.139536Z",
     "start_time": "2022-06-04T21:36:06.132555Z"
    }
   },
   "outputs": [
    {
     "data": {
      "text/plain": [
       "390"
      ]
     },
     "execution_count": 10,
     "metadata": {},
     "output_type": "execute_result"
    }
   ],
   "source": [
    "n = len(gto)\n",
    "n"
   ]
  },
  {
   "cell_type": "markdown",
   "id": "d26c8d44",
   "metadata": {},
   "source": [
    "#### Batch processing"
   ]
  },
  {
   "cell_type": "markdown",
   "id": "d5410f5e",
   "metadata": {},
   "source": [
    "**Note:** previous data (not NZP-corrected) failed on indexes: 99, 273 and 344."
   ]
  },
  {
   "cell_type": "code",
   "execution_count": 11,
   "id": "74284415",
   "metadata": {
    "ExecuteTime": {
     "end_time": "2022-06-04T21:55:24.531304Z",
     "start_time": "2022-06-04T21:36:21.509715Z"
    },
    "scrolled": false
   },
   "outputs": [
    {
     "name": "stdout",
     "output_type": "stream",
     "text": [
      "Record: 300, started at 04/06/2022, 23:36:21\n",
      "Previous median lapse time: None\n",
      "Processing J05421+124 star...\n",
      "filename: ../data/CARM_VIS_RVs/J05421+124.avc.dat\n"
     ]
    },
    {
     "name": "stderr",
     "output_type": "stream",
     "text": [
      "c:\\users\\ciroe\\gls.py:642: UserWarning: Matplotlib is currently using module://ipykernel.pylab.backend_inline, which is a non-GUI backend, so cannot show the figure.\n",
      "  fig.show()\n"
     ]
    },
    {
     "name": "stdout",
     "output_type": "stream",
     "text": [
      "Elapsed time: 12.29 seconds\n",
      "... SUCCESS.\n",
      "Record: 301, started at 04/06/2022, 23:36:33\n",
      "Previous median lapse time: 12.29 seconds\n",
      "Processing J05415+534 star...\n",
      "filename: ../data/CARM_VIS_RVs/J05415+534.avc.dat\n"
     ]
    },
    {
     "name": "stderr",
     "output_type": "stream",
     "text": [
      "c:\\users\\ciroe\\gls.py:642: UserWarning: Matplotlib is currently using module://ipykernel.pylab.backend_inline, which is a non-GUI backend, so cannot show the figure.\n",
      "  fig.show()\n"
     ]
    },
    {
     "name": "stdout",
     "output_type": "stream",
     "text": [
      "Elapsed time: 14.23 seconds\n",
      "... SUCCESS.\n",
      "Record: 302, started at 04/06/2022, 23:36:48\n",
      "Previous median lapse time: 13.26 seconds\n",
      "Processing J05394+406 star...\n",
      "filename: ../data/CARM_VIS_RVs/J05394+406.avc.dat\n"
     ]
    },
    {
     "name": "stderr",
     "output_type": "stream",
     "text": [
      "c:\\users\\ciroe\\gls.py:642: UserWarning: Matplotlib is currently using module://ipykernel.pylab.backend_inline, which is a non-GUI backend, so cannot show the figure.\n",
      "  fig.show()\n"
     ]
    },
    {
     "name": "stdout",
     "output_type": "stream",
     "text": [
      "Elapsed time: 12.33 seconds\n",
      "... SUCCESS.\n",
      "Record: 303, started at 04/06/2022, 23:37:00\n",
      "Previous median lapse time: 12.33 seconds\n",
      "Processing J05366+112 star...\n",
      "filename: ../data/CARM_VIS_RVs/J05366+112.avc.dat\n"
     ]
    },
    {
     "name": "stderr",
     "output_type": "stream",
     "text": [
      "c:\\users\\ciroe\\gls.py:642: UserWarning: Matplotlib is currently using module://ipykernel.pylab.backend_inline, which is a non-GUI backend, so cannot show the figure.\n",
      "  fig.show()\n"
     ]
    },
    {
     "name": "stdout",
     "output_type": "stream",
     "text": [
      "Elapsed time: 13.42 seconds\n",
      "... SUCCESS.\n",
      "Record: 304, started at 04/06/2022, 23:37:13\n",
      "Previous median lapse time: 12.88 seconds\n",
      "Processing J05365+113 star...\n",
      "filename: ../data/CARM_VIS_RVs/J05365+113.avc.dat\n"
     ]
    },
    {
     "name": "stderr",
     "output_type": "stream",
     "text": [
      "c:\\users\\ciroe\\gls.py:642: UserWarning: Matplotlib is currently using module://ipykernel.pylab.backend_inline, which is a non-GUI backend, so cannot show the figure.\n",
      "  fig.show()\n"
     ]
    },
    {
     "name": "stdout",
     "output_type": "stream",
     "text": [
      "Elapsed time: 14.65 seconds\n",
      "... SUCCESS.\n",
      "Record: 305, started at 04/06/2022, 23:37:28\n",
      "Previous median lapse time: 13.42 seconds\n",
      "Processing J05360-076 star...\n",
      "filename: ../data/CARM_VIS_RVs/J05360-076.avc.dat\n"
     ]
    },
    {
     "name": "stderr",
     "output_type": "stream",
     "text": [
      "c:\\users\\ciroe\\gls.py:642: UserWarning: Matplotlib is currently using module://ipykernel.pylab.backend_inline, which is a non-GUI backend, so cannot show the figure.\n",
      "  fig.show()\n"
     ]
    },
    {
     "name": "stdout",
     "output_type": "stream",
     "text": [
      "Elapsed time: 12.20 seconds\n",
      "... SUCCESS.\n",
      "Record: 306, started at 04/06/2022, 23:37:40\n",
      "Previous median lapse time: 12.88 seconds\n",
      "Processing J05348+138 star...\n",
      "filename: ../data/CARM_VIS_RVs/J05348+138.avc.dat\n"
     ]
    },
    {
     "name": "stderr",
     "output_type": "stream",
     "text": [
      "c:\\users\\ciroe\\gls.py:642: UserWarning: Matplotlib is currently using module://ipykernel.pylab.backend_inline, which is a non-GUI backend, so cannot show the figure.\n",
      "  fig.show()\n"
     ]
    },
    {
     "name": "stdout",
     "output_type": "stream",
     "text": [
      "Elapsed time: 11.66 seconds\n",
      "... SUCCESS.\n",
      "Record: 307, started at 04/06/2022, 23:37:52\n",
      "Previous median lapse time: 12.33 seconds\n",
      "Processing J05337+019 star...\n",
      "filename: ../data/CARM_VIS_RVs/J05337+019.avc.dat\n"
     ]
    },
    {
     "name": "stderr",
     "output_type": "stream",
     "text": [
      "c:\\users\\ciroe\\gls.py:642: UserWarning: Matplotlib is currently using module://ipykernel.pylab.backend_inline, which is a non-GUI backend, so cannot show the figure.\n",
      "  fig.show()\n"
     ]
    },
    {
     "name": "stdout",
     "output_type": "stream",
     "text": [
      "Elapsed time: 12.30 seconds\n",
      "... SUCCESS.\n",
      "Record: 308, started at 04/06/2022, 23:38:04\n",
      "Previous median lapse time: 12.31 seconds\n",
      "Processing J05314-036 star...\n",
      "filename: ../data/CARM_VIS_RVs/J05314-036.avc.dat\n"
     ]
    },
    {
     "name": "stderr",
     "output_type": "stream",
     "text": [
      "c:\\users\\ciroe\\gls.py:642: UserWarning: Matplotlib is currently using module://ipykernel.pylab.backend_inline, which is a non-GUI backend, so cannot show the figure.\n",
      "  fig.show()\n"
     ]
    },
    {
     "name": "stdout",
     "output_type": "stream",
     "text": [
      "Elapsed time: 13.51 seconds\n",
      "... SUCCESS.\n",
      "Record: 309, started at 04/06/2022, 23:38:18\n",
      "Previous median lapse time: 12.33 seconds\n",
      "Processing J05280+096 star...\n",
      "filename: ../data/CARM_VIS_RVs/J05280+096.avc.dat\n"
     ]
    },
    {
     "name": "stderr",
     "output_type": "stream",
     "text": [
      "c:\\users\\ciroe\\gls.py:642: UserWarning: Matplotlib is currently using module://ipykernel.pylab.backend_inline, which is a non-GUI backend, so cannot show the figure.\n",
      "  fig.show()\n"
     ]
    },
    {
     "name": "stdout",
     "output_type": "stream",
     "text": [
      "Elapsed time: 12.20 seconds\n",
      "... SUCCESS.\n",
      "Record: 310, started at 04/06/2022, 23:38:30\n",
      "Previous median lapse time: 12.31 seconds\n",
      "Processing J05127+196 star...\n",
      "filename: ../data/CARM_VIS_RVs/J05127+196.avc.dat\n"
     ]
    },
    {
     "name": "stderr",
     "output_type": "stream",
     "text": [
      "c:\\users\\ciroe\\gls.py:642: UserWarning: Matplotlib is currently using module://ipykernel.pylab.backend_inline, which is a non-GUI backend, so cannot show the figure.\n",
      "  fig.show()\n"
     ]
    },
    {
     "name": "stdout",
     "output_type": "stream",
     "text": [
      "Elapsed time: 12.70 seconds\n",
      "... SUCCESS.\n",
      "Record: 311, started at 04/06/2022, 23:38:43\n",
      "Previous median lapse time: 12.33 seconds\n",
      "Processing J05084-210 star...\n",
      "filename: ../data/CARM_VIS_RVs/J05084-210.avc.dat\n"
     ]
    },
    {
     "name": "stderr",
     "output_type": "stream",
     "text": [
      "c:\\users\\ciroe\\gls.py:642: UserWarning: Matplotlib is currently using module://ipykernel.pylab.backend_inline, which is a non-GUI backend, so cannot show the figure.\n",
      "  fig.show()\n"
     ]
    },
    {
     "name": "stdout",
     "output_type": "stream",
     "text": [
      "Elapsed time: 12.02 seconds\n",
      "... SUCCESS.\n",
      "Record: 312, started at 04/06/2022, 23:38:55\n",
      "Previous median lapse time: 12.31 seconds\n",
      "Processing J05062+046 star...\n",
      "filename: ../data/CARM_VIS_RVs/J05062+046.avc.dat\n"
     ]
    },
    {
     "name": "stderr",
     "output_type": "stream",
     "text": [
      "c:\\users\\ciroe\\gls.py:642: UserWarning: Matplotlib is currently using module://ipykernel.pylab.backend_inline, which is a non-GUI backend, so cannot show the figure.\n",
      "  fig.show()\n"
     ]
    },
    {
     "name": "stdout",
     "output_type": "stream",
     "text": [
      "Elapsed time: 11.64 seconds\n",
      "... SUCCESS.\n",
      "Record: 313, started at 04/06/2022, 23:39:07\n",
      "Previous median lapse time: 12.30 seconds\n",
      "Processing J05033-173 star...\n",
      "filename: ../data/CARM_VIS_RVs/J05033-173.avc.dat\n"
     ]
    },
    {
     "name": "stderr",
     "output_type": "stream",
     "text": [
      "c:\\users\\ciroe\\gls.py:642: UserWarning: Matplotlib is currently using module://ipykernel.pylab.backend_inline, which is a non-GUI backend, so cannot show the figure.\n",
      "  fig.show()\n"
     ]
    },
    {
     "name": "stdout",
     "output_type": "stream",
     "text": [
      "Elapsed time: 12.71 seconds\n",
      "... SUCCESS.\n",
      "Record: 314, started at 04/06/2022, 23:39:19\n",
      "Previous median lapse time: 12.31 seconds\n",
      "Processing J05019-069 star...\n",
      "filename: ../data/CARM_VIS_RVs/J05019-069.avc.dat\n"
     ]
    },
    {
     "name": "stderr",
     "output_type": "stream",
     "text": [
      "c:\\users\\ciroe\\gls.py:642: UserWarning: Matplotlib is currently using module://ipykernel.pylab.backend_inline, which is a non-GUI backend, so cannot show the figure.\n",
      "  fig.show()\n"
     ]
    },
    {
     "name": "stdout",
     "output_type": "stream",
     "text": [
      "Elapsed time: 11.39 seconds\n",
      "... SUCCESS.\n",
      "Record: 315, started at 04/06/2022, 23:39:31\n",
      "Previous median lapse time: 12.30 seconds\n",
      "Processing J05019+011 star...\n",
      "filename: ../data/CARM_VIS_RVs/J05019+011.avc.dat\n"
     ]
    },
    {
     "name": "stderr",
     "output_type": "stream",
     "text": [
      "c:\\users\\ciroe\\gls.py:642: UserWarning: Matplotlib is currently using module://ipykernel.pylab.backend_inline, which is a non-GUI backend, so cannot show the figure.\n",
      "  fig.show()\n"
     ]
    },
    {
     "name": "stdout",
     "output_type": "stream",
     "text": [
      "Elapsed time: 12.10 seconds\n",
      "... SUCCESS.\n",
      "Record: 316, started at 04/06/2022, 23:39:43\n",
      "Previous median lapse time: 12.30 seconds\n",
      "Processing J04588+498 star...\n",
      "filename: ../data/CARM_VIS_RVs/J04588+498.avc.dat\n"
     ]
    },
    {
     "name": "stderr",
     "output_type": "stream",
     "text": [
      "c:\\users\\ciroe\\gls.py:642: UserWarning: Matplotlib is currently using module://ipykernel.pylab.backend_inline, which is a non-GUI backend, so cannot show the figure.\n",
      "  fig.show()\n"
     ]
    },
    {
     "name": "stdout",
     "output_type": "stream",
     "text": [
      "Elapsed time: 13.00 seconds\n",
      "... SUCCESS.\n",
      "Record: 317, started at 04/06/2022, 23:39:56\n",
      "Previous median lapse time: 12.30 seconds\n",
      "Processing J04538-177 star...\n",
      "filename: ../data/CARM_VIS_RVs/J04538-177.avc.dat\n"
     ]
    },
    {
     "name": "stderr",
     "output_type": "stream",
     "text": [
      "c:\\users\\ciroe\\gls.py:642: UserWarning: Matplotlib is currently using module://ipykernel.pylab.backend_inline, which is a non-GUI backend, so cannot show the figure.\n",
      "  fig.show()\n"
     ]
    },
    {
     "name": "stdout",
     "output_type": "stream",
     "text": [
      "Elapsed time: 12.30 seconds\n",
      "... SUCCESS.\n",
      "Record: 318, started at 04/06/2022, 23:40:08\n",
      "Previous median lapse time: 12.30 seconds\n",
      "Processing J04520+064 star...\n",
      "filename: ../data/CARM_VIS_RVs/J04520+064.avc.dat\n"
     ]
    },
    {
     "name": "stderr",
     "output_type": "stream",
     "text": [
      "c:\\users\\ciroe\\gls.py:642: UserWarning: Matplotlib is currently using module://ipykernel.pylab.backend_inline, which is a non-GUI backend, so cannot show the figure.\n",
      "  fig.show()\n"
     ]
    },
    {
     "name": "stdout",
     "output_type": "stream",
     "text": [
      "Elapsed time: 11.65 seconds\n",
      "... SUCCESS.\n",
      "Record: 319, started at 04/06/2022, 23:40:20\n",
      "Previous median lapse time: 12.30 seconds\n",
      "Processing J04472+206 star...\n",
      "filename: ../data/CARM_VIS_RVs/J04472+206.avc.dat\n"
     ]
    },
    {
     "name": "stderr",
     "output_type": "stream",
     "text": [
      "c:\\users\\ciroe\\gls.py:642: UserWarning: Matplotlib is currently using module://ipykernel.pylab.backend_inline, which is a non-GUI backend, so cannot show the figure.\n",
      "  fig.show()\n"
     ]
    },
    {
     "name": "stdout",
     "output_type": "stream",
     "text": [
      "Elapsed time: 11.36 seconds\n",
      "... SUCCESS.\n",
      "Record: 320, started at 04/06/2022, 23:40:32\n",
      "Previous median lapse time: 12.30 seconds\n",
      "Processing J04429+214 star...\n",
      "filename: ../data/CARM_VIS_RVs/J04429+214.avc.dat\n"
     ]
    },
    {
     "name": "stderr",
     "output_type": "stream",
     "text": [
      "c:\\users\\ciroe\\gls.py:642: UserWarning: Matplotlib is currently using module://ipykernel.pylab.backend_inline, which is a non-GUI backend, so cannot show the figure.\n",
      "  fig.show()\n"
     ]
    },
    {
     "name": "stdout",
     "output_type": "stream",
     "text": [
      "Elapsed time: 12.42 seconds\n",
      "... SUCCESS.\n",
      "Record: 321, started at 04/06/2022, 23:40:44\n",
      "Previous median lapse time: 12.30 seconds\n",
      "Processing J04429+189 star...\n",
      "filename: ../data/CARM_VIS_RVs/J04429+189.avc.dat\n"
     ]
    },
    {
     "name": "stderr",
     "output_type": "stream",
     "text": [
      "c:\\users\\ciroe\\gls.py:642: UserWarning: Matplotlib is currently using module://ipykernel.pylab.backend_inline, which is a non-GUI backend, so cannot show the figure.\n",
      "  fig.show()\n"
     ]
    },
    {
     "name": "stdout",
     "output_type": "stream",
     "text": [
      "Elapsed time: 11.82 seconds\n",
      "... SUCCESS.\n",
      "Record: 322, started at 04/06/2022, 23:40:56\n",
      "Previous median lapse time: 12.30 seconds\n",
      "Processing J04406-128 star...\n",
      "filename: ../data/CARM_VIS_RVs/J04406-128.avc.dat\n"
     ]
    },
    {
     "name": "stderr",
     "output_type": "stream",
     "text": [
      "c:\\users\\ciroe\\gls.py:642: UserWarning: Matplotlib is currently using module://ipykernel.pylab.backend_inline, which is a non-GUI backend, so cannot show the figure.\n",
      "  fig.show()\n"
     ]
    },
    {
     "name": "stdout",
     "output_type": "stream",
     "text": [
      "Elapsed time: 12.14 seconds\n",
      "... SUCCESS.\n",
      "Record: 323, started at 04/06/2022, 23:41:08\n",
      "Previous median lapse time: 12.29 seconds\n",
      "Processing J04376-110 star...\n",
      "filename: ../data/CARM_VIS_RVs/J04376-110.avc.dat\n"
     ]
    },
    {
     "name": "stderr",
     "output_type": "stream",
     "text": [
      "c:\\users\\ciroe\\gls.py:642: UserWarning: Matplotlib is currently using module://ipykernel.pylab.backend_inline, which is a non-GUI backend, so cannot show the figure.\n",
      "  fig.show()\n"
     ]
    },
    {
     "name": "stdout",
     "output_type": "stream",
     "text": [
      "Elapsed time: 13.19 seconds\n",
      "... SUCCESS.\n",
      "Record: 324, started at 04/06/2022, 23:41:21\n",
      "Previous median lapse time: 12.30 seconds\n",
      "Processing J04376+528 star...\n",
      "filename: ../data/CARM_VIS_RVs/J04376+528.avc.dat\n"
     ]
    },
    {
     "name": "stderr",
     "output_type": "stream",
     "text": [
      "c:\\users\\ciroe\\gls.py:642: UserWarning: Matplotlib is currently using module://ipykernel.pylab.backend_inline, which is a non-GUI backend, so cannot show the figure.\n",
      "  fig.show()\n"
     ]
    },
    {
     "name": "stdout",
     "output_type": "stream",
     "text": [
      "Elapsed time: 14.59 seconds\n",
      "... SUCCESS.\n",
      "Record: 325, started at 04/06/2022, 23:41:36\n",
      "Previous median lapse time: 12.30 seconds\n",
      "Processing J04343+430 star...\n",
      "filename: ../data/CARM_VIS_RVs/J04343+430.avc.dat\n"
     ]
    },
    {
     "name": "stderr",
     "output_type": "stream",
     "text": [
      "c:\\users\\ciroe\\gls.py:642: UserWarning: Matplotlib is currently using module://ipykernel.pylab.backend_inline, which is a non-GUI backend, so cannot show the figure.\n",
      "  fig.show()\n"
     ]
    },
    {
     "name": "stdout",
     "output_type": "stream",
     "text": [
      "Elapsed time: 11.93 seconds\n",
      "... SUCCESS.\n",
      "Record: 326, started at 04/06/2022, 23:41:48\n",
      "Previous median lapse time: 12.30 seconds\n",
      "Processing J04311+589 star...\n",
      "filename: ../data/CARM_VIS_RVs/J04311+589.avc.dat\n"
     ]
    },
    {
     "name": "stderr",
     "output_type": "stream",
     "text": [
      "c:\\users\\ciroe\\gls.py:642: UserWarning: Matplotlib is currently using module://ipykernel.pylab.backend_inline, which is a non-GUI backend, so cannot show the figure.\n",
      "  fig.show()\n"
     ]
    },
    {
     "name": "stdout",
     "output_type": "stream",
     "text": [
      "Elapsed time: 11.77 seconds\n",
      "... SUCCESS.\n",
      "Record: 327, started at 04/06/2022, 23:42:00\n",
      "Previous median lapse time: 12.29 seconds\n",
      "Processing J04290+219 star...\n",
      "filename: ../data/CARM_VIS_RVs/J04290+219.avc.dat\n"
     ]
    },
    {
     "name": "stderr",
     "output_type": "stream",
     "text": [
      "c:\\users\\ciroe\\gls.py:642: UserWarning: Matplotlib is currently using module://ipykernel.pylab.backend_inline, which is a non-GUI backend, so cannot show the figure.\n",
      "  fig.show()\n"
     ]
    },
    {
     "name": "stdout",
     "output_type": "stream",
     "text": [
      "Elapsed time: 15.05 seconds\n",
      "... SUCCESS.\n",
      "Record: 328, started at 04/06/2022, 23:42:15\n",
      "Previous median lapse time: 12.30 seconds\n",
      "Processing J04225+105 star...\n",
      "filename: ../data/CARM_VIS_RVs/J04225+105.avc.dat\n"
     ]
    },
    {
     "name": "stderr",
     "output_type": "stream",
     "text": [
      "c:\\users\\ciroe\\gls.py:642: UserWarning: Matplotlib is currently using module://ipykernel.pylab.backend_inline, which is a non-GUI backend, so cannot show the figure.\n",
      "  fig.show()\n"
     ]
    },
    {
     "name": "stdout",
     "output_type": "stream",
     "text": [
      "Elapsed time: 11.44 seconds\n",
      "... SUCCESS.\n",
      "Record: 329, started at 04/06/2022, 23:42:26\n",
      "Previous median lapse time: 12.29 seconds\n",
      "Processing J04219+213 star...\n",
      "filename: ../data/CARM_VIS_RVs/J04219+213.avc.dat\n"
     ]
    },
    {
     "name": "stderr",
     "output_type": "stream",
     "text": [
      "c:\\users\\ciroe\\gls.py:642: UserWarning: Matplotlib is currently using module://ipykernel.pylab.backend_inline, which is a non-GUI backend, so cannot show the figure.\n",
      "  fig.show()\n"
     ]
    },
    {
     "name": "stdout",
     "output_type": "stream",
     "text": [
      "Elapsed time: 10.95 seconds\n",
      "... SUCCESS.\n",
      "Record: 330, started at 04/06/2022, 23:42:37\n",
      "Previous median lapse time: 12.25 seconds\n",
      "Processing J04198+425 star...\n",
      "filename: ../data/CARM_VIS_RVs/J04198+425.avc.dat\n"
     ]
    },
    {
     "name": "stderr",
     "output_type": "stream",
     "text": [
      "c:\\users\\ciroe\\gls.py:642: UserWarning: Matplotlib is currently using module://ipykernel.pylab.backend_inline, which is a non-GUI backend, so cannot show the figure.\n",
      "  fig.show()\n"
     ]
    },
    {
     "name": "stdout",
     "output_type": "stream",
     "text": [
      "Elapsed time: 11.84 seconds\n",
      "... SUCCESS.\n",
      "Record: 331, started at 04/06/2022, 23:42:49\n",
      "Previous median lapse time: 12.20 seconds\n",
      "Processing J04173+088 star...\n",
      "filename: ../data/CARM_VIS_RVs/J04173+088.avc.dat\n",
      "*** Some ERROR happened with record #331, J04173+088 star. Error=zero-size array to reduction operation minimum which has no identity\n",
      "Elapsed time: 0.00 seconds\n",
      "Record: 332, started at 04/06/2022, 23:42:49\n",
      "Previous median lapse time: 12.20 seconds\n",
      "Processing J04167-120 star...\n",
      "filename: ../data/CARM_VIS_RVs/J04167-120.avc.dat\n"
     ]
    },
    {
     "name": "stderr",
     "output_type": "stream",
     "text": [
      "c:\\users\\ciroe\\gls.py:642: UserWarning: Matplotlib is currently using module://ipykernel.pylab.backend_inline, which is a non-GUI backend, so cannot show the figure.\n",
      "  fig.show()\n"
     ]
    },
    {
     "name": "stdout",
     "output_type": "stream",
     "text": [
      "Elapsed time: 11.65 seconds\n",
      "... SUCCESS.\n",
      "Record: 333, started at 04/06/2022, 23:43:01\n",
      "Previous median lapse time: 12.20 seconds\n",
      "Processing J04153-076 star...\n",
      "filename: ../data/CARM_VIS_RVs/J04153-076.avc.dat\n"
     ]
    },
    {
     "name": "stderr",
     "output_type": "stream",
     "text": [
      "c:\\users\\ciroe\\gls.py:642: UserWarning: Matplotlib is currently using module://ipykernel.pylab.backend_inline, which is a non-GUI backend, so cannot show the figure.\n",
      "  fig.show()\n"
     ]
    },
    {
     "name": "stdout",
     "output_type": "stream",
     "text": [
      "Elapsed time: 12.75 seconds\n",
      "... SUCCESS.\n",
      "Record: 334, started at 04/06/2022, 23:43:14\n",
      "Previous median lapse time: 12.20 seconds\n",
      "Processing J03531+625 star...\n",
      "filename: ../data/CARM_VIS_RVs/J03531+625.avc.dat\n"
     ]
    },
    {
     "name": "stderr",
     "output_type": "stream",
     "text": [
      "c:\\users\\ciroe\\gls.py:642: UserWarning: Matplotlib is currently using module://ipykernel.pylab.backend_inline, which is a non-GUI backend, so cannot show the figure.\n",
      "  fig.show()\n"
     ]
    },
    {
     "name": "stdout",
     "output_type": "stream",
     "text": [
      "Elapsed time: 12.13 seconds\n",
      "... SUCCESS.\n",
      "Record: 335, started at 04/06/2022, 23:43:26\n",
      "Previous median lapse time: 12.20 seconds\n",
      "Processing J03473-019 star...\n",
      "filename: ../data/CARM_VIS_RVs/J03473-019.avc.dat\n"
     ]
    },
    {
     "name": "stderr",
     "output_type": "stream",
     "text": [
      "c:\\users\\ciroe\\gls.py:642: UserWarning: Matplotlib is currently using module://ipykernel.pylab.backend_inline, which is a non-GUI backend, so cannot show the figure.\n",
      "  fig.show()\n"
     ]
    },
    {
     "name": "stdout",
     "output_type": "stream",
     "text": [
      "Elapsed time: 11.81 seconds\n",
      "... SUCCESS.\n",
      "Record: 336, started at 04/06/2022, 23:43:38\n",
      "Previous median lapse time: 12.17 seconds\n",
      "Processing J03473+086 star...\n",
      "filename: ../data/CARM_VIS_RVs/J03473+086.avc.dat\n"
     ]
    },
    {
     "name": "stderr",
     "output_type": "stream",
     "text": [
      "c:\\users\\ciroe\\gls.py:642: UserWarning: Matplotlib is currently using module://ipykernel.pylab.backend_inline, which is a non-GUI backend, so cannot show the figure.\n",
      "  fig.show()\n"
     ]
    },
    {
     "name": "stdout",
     "output_type": "stream",
     "text": [
      "Elapsed time: 11.40 seconds\n",
      "... SUCCESS.\n",
      "Record: 337, started at 04/06/2022, 23:43:49\n",
      "Previous median lapse time: 12.14 seconds\n",
      "Processing J03463+262 star...\n",
      "filename: ../data/CARM_VIS_RVs/J03463+262.avc.dat\n"
     ]
    },
    {
     "name": "stderr",
     "output_type": "stream",
     "text": [
      "c:\\users\\ciroe\\gls.py:642: UserWarning: Matplotlib is currently using module://ipykernel.pylab.backend_inline, which is a non-GUI backend, so cannot show the figure.\n",
      "  fig.show()\n"
     ]
    },
    {
     "name": "stdout",
     "output_type": "stream",
     "text": [
      "Elapsed time: 13.21 seconds\n",
      "... SUCCESS.\n",
      "Record: 338, started at 04/06/2022, 23:44:02\n",
      "Previous median lapse time: 12.17 seconds\n",
      "Processing J03230+420 star...\n",
      "filename: ../data/CARM_VIS_RVs/J03230+420.avc.dat\n"
     ]
    },
    {
     "name": "stderr",
     "output_type": "stream",
     "text": [
      "c:\\users\\ciroe\\gls.py:642: UserWarning: Matplotlib is currently using module://ipykernel.pylab.backend_inline, which is a non-GUI backend, so cannot show the figure.\n",
      "  fig.show()\n"
     ]
    },
    {
     "name": "stdout",
     "output_type": "stream",
     "text": [
      "Elapsed time: 11.64 seconds\n",
      "... SUCCESS.\n",
      "Record: 339, started at 04/06/2022, 23:44:14\n",
      "Previous median lapse time: 12.14 seconds\n",
      "Processing J03217-066 star...\n",
      "filename: ../data/CARM_VIS_RVs/J03217-066.avc.dat\n"
     ]
    },
    {
     "name": "stderr",
     "output_type": "stream",
     "text": [
      "c:\\users\\ciroe\\gls.py:642: UserWarning: Matplotlib is currently using module://ipykernel.pylab.backend_inline, which is a non-GUI backend, so cannot show the figure.\n",
      "  fig.show()\n"
     ]
    },
    {
     "name": "stdout",
     "output_type": "stream",
     "text": [
      "Elapsed time: 12.77 seconds\n",
      "... SUCCESS.\n",
      "Record: 340, started at 04/06/2022, 23:44:27\n",
      "Previous median lapse time: 12.17 seconds\n",
      "Processing J03213+799 star...\n",
      "filename: ../data/CARM_VIS_RVs/J03213+799.avc.dat\n"
     ]
    },
    {
     "name": "stderr",
     "output_type": "stream",
     "text": [
      "c:\\users\\ciroe\\gls.py:642: UserWarning: Matplotlib is currently using module://ipykernel.pylab.backend_inline, which is a non-GUI backend, so cannot show the figure.\n",
      "  fig.show()\n"
     ]
    },
    {
     "name": "stdout",
     "output_type": "stream",
     "text": [
      "Elapsed time: 13.50 seconds\n",
      "... SUCCESS.\n",
      "Record: 341, started at 04/06/2022, 23:44:40\n",
      "Previous median lapse time: 12.20 seconds\n",
      "Processing J03181+382 star...\n",
      "filename: ../data/CARM_VIS_RVs/J03181+382.avc.dat\n"
     ]
    },
    {
     "name": "stderr",
     "output_type": "stream",
     "text": [
      "c:\\users\\ciroe\\gls.py:642: UserWarning: Matplotlib is currently using module://ipykernel.pylab.backend_inline, which is a non-GUI backend, so cannot show the figure.\n",
      "  fig.show()\n"
     ]
    },
    {
     "name": "stdout",
     "output_type": "stream",
     "text": [
      "Elapsed time: 12.59 seconds\n",
      "... SUCCESS.\n",
      "Record: 342, started at 04/06/2022, 23:44:53\n",
      "Previous median lapse time: 12.20 seconds\n",
      "Processing J03142+286 star...\n",
      "filename: ../data/CARM_VIS_RVs/J03142+286.avc.dat\n"
     ]
    },
    {
     "name": "stderr",
     "output_type": "stream",
     "text": [
      "c:\\users\\ciroe\\gls.py:642: UserWarning: Matplotlib is currently using module://ipykernel.pylab.backend_inline, which is a non-GUI backend, so cannot show the figure.\n",
      "  fig.show()\n"
     ]
    },
    {
     "name": "stdout",
     "output_type": "stream",
     "text": [
      "Elapsed time: 11.85 seconds\n",
      "... SUCCESS.\n",
      "Record: 343, started at 04/06/2022, 23:45:05\n",
      "Previous median lapse time: 12.20 seconds\n",
      "Processing J03133+047 star...\n",
      "filename: ../data/CARM_VIS_RVs/J03133+047.avc.dat\n"
     ]
    },
    {
     "name": "stderr",
     "output_type": "stream",
     "text": [
      "c:\\users\\ciroe\\gls.py:642: UserWarning: Matplotlib is currently using module://ipykernel.pylab.backend_inline, which is a non-GUI backend, so cannot show the figure.\n",
      "  fig.show()\n"
     ]
    },
    {
     "name": "stdout",
     "output_type": "stream",
     "text": [
      "Elapsed time: 12.55 seconds\n",
      "... SUCCESS.\n",
      "Record: 344, started at 04/06/2022, 23:45:18\n",
      "Previous median lapse time: 12.20 seconds\n",
      "Processing J03090+100 star...\n",
      "filename: ../data/CARM_VIS_RVs/J03090+100.avc.dat\n"
     ]
    },
    {
     "name": "stderr",
     "output_type": "stream",
     "text": [
      "c:\\users\\ciroe\\gls.py:642: UserWarning: Matplotlib is currently using module://ipykernel.pylab.backend_inline, which is a non-GUI backend, so cannot show the figure.\n",
      "  fig.show()\n"
     ]
    },
    {
     "name": "stdout",
     "output_type": "stream",
     "text": [
      "Elapsed time: 11.49 seconds\n",
      "... SUCCESS.\n",
      "Record: 345, started at 04/06/2022, 23:45:29\n",
      "Previous median lapse time: 12.20 seconds\n",
      "Processing J02573+765 star...\n",
      "filename: ../data/CARM_VIS_RVs/J02573+765.avc.dat\n"
     ]
    },
    {
     "name": "stderr",
     "output_type": "stream",
     "text": [
      "c:\\users\\ciroe\\gls.py:642: UserWarning: Matplotlib is currently using module://ipykernel.pylab.backend_inline, which is a non-GUI backend, so cannot show the figure.\n",
      "  fig.show()\n"
     ]
    },
    {
     "name": "stdout",
     "output_type": "stream",
     "text": [
      "Elapsed time: 12.56 seconds\n",
      "... SUCCESS.\n",
      "Record: 346, started at 04/06/2022, 23:45:42\n",
      "Previous median lapse time: 12.20 seconds\n",
      "Processing J02565+554W star...\n",
      "filename: ../data/CARM_VIS_RVs/J02565+554W.avc.dat\n"
     ]
    },
    {
     "name": "stderr",
     "output_type": "stream",
     "text": [
      "c:\\users\\ciroe\\gls.py:642: UserWarning: Matplotlib is currently using module://ipykernel.pylab.backend_inline, which is a non-GUI backend, so cannot show the figure.\n",
      "  fig.show()\n"
     ]
    },
    {
     "name": "stdout",
     "output_type": "stream",
     "text": [
      "Elapsed time: 11.60 seconds\n",
      "... SUCCESS.\n",
      "Record: 347, started at 04/06/2022, 23:45:53\n",
      "Previous median lapse time: 12.20 seconds\n",
      "Processing J02560-006 star...\n",
      "filename: ../data/CARM_VIS_RVs/J02560-006.avc.dat\n"
     ]
    },
    {
     "name": "stderr",
     "output_type": "stream",
     "text": [
      "c:\\users\\ciroe\\gls.py:642: UserWarning: Matplotlib is currently using module://ipykernel.pylab.backend_inline, which is a non-GUI backend, so cannot show the figure.\n",
      "  fig.show()\n"
     ]
    },
    {
     "name": "stdout",
     "output_type": "stream",
     "text": [
      "Elapsed time: 11.69 seconds\n",
      "... SUCCESS.\n",
      "Record: 348, started at 04/06/2022, 23:46:05\n",
      "Previous median lapse time: 12.17 seconds\n",
      "Processing J02530+168 star...\n",
      "filename: ../data/CARM_VIS_RVs/J02530+168.avc.dat\n"
     ]
    },
    {
     "name": "stderr",
     "output_type": "stream",
     "text": [
      "c:\\users\\ciroe\\gls.py:642: UserWarning: Matplotlib is currently using module://ipykernel.pylab.backend_inline, which is a non-GUI backend, so cannot show the figure.\n",
      "  fig.show()\n"
     ]
    },
    {
     "name": "stdout",
     "output_type": "stream",
     "text": [
      "Elapsed time: 17.44 seconds\n",
      "... SUCCESS.\n",
      "Record: 349, started at 04/06/2022, 23:46:22\n",
      "Previous median lapse time: 12.20 seconds\n",
      "Processing J02519+224 star...\n",
      "filename: ../data/CARM_VIS_RVs/J02519+224.avc.dat\n"
     ]
    },
    {
     "name": "stderr",
     "output_type": "stream",
     "text": [
      "c:\\users\\ciroe\\gls.py:642: UserWarning: Matplotlib is currently using module://ipykernel.pylab.backend_inline, which is a non-GUI backend, so cannot show the figure.\n",
      "  fig.show()\n"
     ]
    },
    {
     "name": "stdout",
     "output_type": "stream",
     "text": [
      "Elapsed time: 11.46 seconds\n",
      "... SUCCESS.\n",
      "Record: 350, started at 04/06/2022, 23:46:34\n",
      "Previous median lapse time: 12.17 seconds\n",
      "Processing J02489-145W star...\n",
      "filename: ../data/CARM_VIS_RVs/J02489-145W.avc.dat\n"
     ]
    },
    {
     "name": "stderr",
     "output_type": "stream",
     "text": [
      "c:\\users\\ciroe\\gls.py:642: UserWarning: Matplotlib is currently using module://ipykernel.pylab.backend_inline, which is a non-GUI backend, so cannot show the figure.\n",
      "  fig.show()\n"
     ]
    },
    {
     "name": "stdout",
     "output_type": "stream",
     "text": [
      "Elapsed time: 11.55 seconds\n",
      "... SUCCESS.\n",
      "Record: 351, started at 04/06/2022, 23:46:46\n",
      "Previous median lapse time: 12.14 seconds\n",
      "Processing J02489-145E star...\n",
      "filename: ../data/CARM_VIS_RVs/J02489-145E.avc.dat\n"
     ]
    },
    {
     "name": "stderr",
     "output_type": "stream",
     "text": [
      "c:\\users\\ciroe\\gls.py:642: UserWarning: Matplotlib is currently using module://ipykernel.pylab.backend_inline, which is a non-GUI backend, so cannot show the figure.\n",
      "  fig.show()\n"
     ]
    },
    {
     "name": "stdout",
     "output_type": "stream",
     "text": [
      "Elapsed time: 11.65 seconds\n",
      "... SUCCESS.\n",
      "Record: 352, started at 04/06/2022, 23:46:57\n",
      "Previous median lapse time: 12.13 seconds\n",
      "Processing J02486+621 star...\n",
      "filename: ../data/CARM_VIS_RVs/J02486+621.avc.dat\n"
     ]
    },
    {
     "name": "stderr",
     "output_type": "stream",
     "text": [
      "c:\\users\\ciroe\\gls.py:642: UserWarning: Matplotlib is currently using module://ipykernel.pylab.backend_inline, which is a non-GUI backend, so cannot show the figure.\n",
      "  fig.show()\n"
     ]
    },
    {
     "name": "stdout",
     "output_type": "stream",
     "text": [
      "Elapsed time: 11.10 seconds\n",
      "... SUCCESS.\n",
      "Record: 353, started at 04/06/2022, 23:47:08\n",
      "Previous median lapse time: 12.13 seconds\n",
      "Processing J02465+164 star...\n",
      "filename: ../data/CARM_VIS_RVs/J02465+164.avc.dat\n"
     ]
    },
    {
     "name": "stderr",
     "output_type": "stream",
     "text": [
      "c:\\users\\ciroe\\gls.py:642: UserWarning: Matplotlib is currently using module://ipykernel.pylab.backend_inline, which is a non-GUI backend, so cannot show the figure.\n",
      "  fig.show()\n"
     ]
    },
    {
     "name": "stdout",
     "output_type": "stream",
     "text": [
      "Elapsed time: 11.70 seconds\n",
      "... SUCCESS.\n",
      "Record: 354, started at 04/06/2022, 23:47:20\n",
      "Previous median lapse time: 12.12 seconds\n",
      "Processing J02442+255 star...\n",
      "filename: ../data/CARM_VIS_RVs/J02442+255.avc.dat\n"
     ]
    },
    {
     "name": "stderr",
     "output_type": "stream",
     "text": [
      "c:\\users\\ciroe\\gls.py:642: UserWarning: Matplotlib is currently using module://ipykernel.pylab.backend_inline, which is a non-GUI backend, so cannot show the figure.\n",
      "  fig.show()\n"
     ]
    },
    {
     "name": "stdout",
     "output_type": "stream",
     "text": [
      "Elapsed time: 12.66 seconds\n",
      "... SUCCESS.\n",
      "Record: 355, started at 04/06/2022, 23:47:33\n",
      "Previous median lapse time: 12.13 seconds\n",
      "Processing J02362+068 star...\n",
      "filename: ../data/CARM_VIS_RVs/J02362+068.avc.dat\n"
     ]
    },
    {
     "name": "stderr",
     "output_type": "stream",
     "text": [
      "c:\\users\\ciroe\\gls.py:642: UserWarning: Matplotlib is currently using module://ipykernel.pylab.backend_inline, which is a non-GUI backend, so cannot show the figure.\n",
      "  fig.show()\n"
     ]
    },
    {
     "name": "stdout",
     "output_type": "stream",
     "text": [
      "Elapsed time: 12.56 seconds\n",
      "... SUCCESS.\n",
      "Record: 356, started at 04/06/2022, 23:47:45\n",
      "Previous median lapse time: 12.13 seconds\n",
      "Processing J02358+202 star...\n",
      "filename: ../data/CARM_VIS_RVs/J02358+202.avc.dat\n"
     ]
    },
    {
     "name": "stderr",
     "output_type": "stream",
     "text": [
      "c:\\users\\ciroe\\gls.py:642: UserWarning: Matplotlib is currently using module://ipykernel.pylab.backend_inline, which is a non-GUI backend, so cannot show the figure.\n",
      "  fig.show()\n"
     ]
    },
    {
     "name": "stdout",
     "output_type": "stream",
     "text": [
      "Elapsed time: 14.81 seconds\n",
      "... SUCCESS.\n",
      "Record: 357, started at 04/06/2022, 23:48:00\n",
      "Previous median lapse time: 12.14 seconds\n",
      "Processing J02336+249 star...\n",
      "filename: ../data/CARM_VIS_RVs/J02336+249.avc.dat\n"
     ]
    },
    {
     "name": "stderr",
     "output_type": "stream",
     "text": [
      "c:\\users\\ciroe\\gls.py:642: UserWarning: Matplotlib is currently using module://ipykernel.pylab.backend_inline, which is a non-GUI backend, so cannot show the figure.\n",
      "  fig.show()\n"
     ]
    },
    {
     "name": "stdout",
     "output_type": "stream",
     "text": [
      "Elapsed time: 15.52 seconds\n",
      "... SUCCESS.\n",
      "Record: 358, started at 04/06/2022, 23:48:16\n",
      "Previous median lapse time: 12.17 seconds\n",
      "Processing J02222+478 star...\n",
      "filename: ../data/CARM_VIS_RVs/J02222+478.avc.dat\n"
     ]
    },
    {
     "name": "stderr",
     "output_type": "stream",
     "text": [
      "c:\\users\\ciroe\\gls.py:642: UserWarning: Matplotlib is currently using module://ipykernel.pylab.backend_inline, which is a non-GUI backend, so cannot show the figure.\n",
      "  fig.show()\n"
     ]
    },
    {
     "name": "stdout",
     "output_type": "stream",
     "text": [
      "Elapsed time: 13.15 seconds\n",
      "... SUCCESS.\n",
      "Record: 359, started at 04/06/2022, 23:48:29\n",
      "Previous median lapse time: 12.20 seconds\n",
      "Processing J02164+135 star...\n",
      "filename: ../data/CARM_VIS_RVs/J02164+135.avc.dat\n"
     ]
    },
    {
     "name": "stderr",
     "output_type": "stream",
     "text": [
      "c:\\users\\ciroe\\gls.py:642: UserWarning: Matplotlib is currently using module://ipykernel.pylab.backend_inline, which is a non-GUI backend, so cannot show the figure.\n",
      "  fig.show()\n"
     ]
    },
    {
     "name": "stdout",
     "output_type": "stream",
     "text": [
      "Elapsed time: 11.86 seconds\n",
      "... SUCCESS.\n",
      "Record: 360, started at 04/06/2022, 23:48:41\n",
      "Previous median lapse time: 12.17 seconds\n",
      "Processing J02123+035 star...\n",
      "filename: ../data/CARM_VIS_RVs/J02123+035.avc.dat\n"
     ]
    },
    {
     "name": "stderr",
     "output_type": "stream",
     "text": [
      "c:\\users\\ciroe\\gls.py:642: UserWarning: Matplotlib is currently using module://ipykernel.pylab.backend_inline, which is a non-GUI backend, so cannot show the figure.\n",
      "  fig.show()\n"
     ]
    },
    {
     "name": "stdout",
     "output_type": "stream",
     "text": [
      "Elapsed time: 13.72 seconds\n",
      "... SUCCESS.\n",
      "Record: 361, started at 04/06/2022, 23:48:55\n",
      "Previous median lapse time: 12.20 seconds\n",
      "Processing J02088+494 star...\n",
      "filename: ../data/CARM_VIS_RVs/J02088+494.avc.dat\n"
     ]
    },
    {
     "name": "stderr",
     "output_type": "stream",
     "text": [
      "c:\\users\\ciroe\\gls.py:642: UserWarning: Matplotlib is currently using module://ipykernel.pylab.backend_inline, which is a non-GUI backend, so cannot show the figure.\n",
      "  fig.show()\n"
     ]
    },
    {
     "name": "stdout",
     "output_type": "stream",
     "text": [
      "Elapsed time: 11.46 seconds\n",
      "... SUCCESS.\n",
      "Record: 362, started at 04/06/2022, 23:49:06\n",
      "Previous median lapse time: 12.17 seconds\n",
      "Processing J02070+496 star...\n",
      "filename: ../data/CARM_VIS_RVs/J02070+496.avc.dat\n"
     ]
    },
    {
     "name": "stderr",
     "output_type": "stream",
     "text": [
      "c:\\users\\ciroe\\gls.py:642: UserWarning: Matplotlib is currently using module://ipykernel.pylab.backend_inline, which is a non-GUI backend, so cannot show the figure.\n",
      "  fig.show()\n"
     ]
    },
    {
     "name": "stdout",
     "output_type": "stream",
     "text": [
      "Elapsed time: 12.96 seconds\n",
      "... SUCCESS.\n",
      "Record: 363, started at 04/06/2022, 23:49:19\n",
      "Previous median lapse time: 12.20 seconds\n",
      "Processing J02022+103 star...\n",
      "filename: ../data/CARM_VIS_RVs/J02022+103.avc.dat\n"
     ]
    },
    {
     "name": "stderr",
     "output_type": "stream",
     "text": [
      "c:\\users\\ciroe\\gls.py:642: UserWarning: Matplotlib is currently using module://ipykernel.pylab.backend_inline, which is a non-GUI backend, so cannot show the figure.\n",
      "  fig.show()\n"
     ]
    },
    {
     "name": "stdout",
     "output_type": "stream",
     "text": [
      "Elapsed time: 11.55 seconds\n",
      "... SUCCESS.\n",
      "Record: 364, started at 04/06/2022, 23:49:31\n",
      "Previous median lapse time: 12.17 seconds\n",
      "Processing J02015+637 star...\n",
      "filename: ../data/CARM_VIS_RVs/J02015+637.avc.dat\n"
     ]
    },
    {
     "name": "stderr",
     "output_type": "stream",
     "text": [
      "c:\\users\\ciroe\\gls.py:642: UserWarning: Matplotlib is currently using module://ipykernel.pylab.backend_inline, which is a non-GUI backend, so cannot show the figure.\n",
      "  fig.show()\n"
     ]
    },
    {
     "name": "stdout",
     "output_type": "stream",
     "text": [
      "Elapsed time: 14.31 seconds\n",
      "... SUCCESS.\n",
      "Record: 365, started at 04/06/2022, 23:49:45\n",
      "Previous median lapse time: 12.20 seconds\n",
      "Processing J02002+130 star...\n",
      "filename: ../data/CARM_VIS_RVs/J02002+130.avc.dat\n"
     ]
    },
    {
     "name": "stderr",
     "output_type": "stream",
     "text": [
      "c:\\users\\ciroe\\gls.py:642: UserWarning: Matplotlib is currently using module://ipykernel.pylab.backend_inline, which is a non-GUI backend, so cannot show the figure.\n",
      "  fig.show()\n"
     ]
    },
    {
     "name": "stdout",
     "output_type": "stream",
     "text": [
      "Elapsed time: 13.21 seconds\n",
      "... SUCCESS.\n",
      "Record: 366, started at 04/06/2022, 23:49:58\n",
      "Previous median lapse time: 12.20 seconds\n",
      "Processing J01550+379 star...\n",
      "filename: ../data/CARM_VIS_RVs/J01550+379.avc.dat\n"
     ]
    },
    {
     "name": "stderr",
     "output_type": "stream",
     "text": [
      "c:\\users\\ciroe\\gls.py:642: UserWarning: Matplotlib is currently using module://ipykernel.pylab.backend_inline, which is a non-GUI backend, so cannot show the figure.\n",
      "  fig.show()\n"
     ]
    },
    {
     "name": "stdout",
     "output_type": "stream",
     "text": [
      "Elapsed time: 11.52 seconds\n",
      "... SUCCESS.\n",
      "Record: 367, started at 04/06/2022, 23:50:10\n",
      "Previous median lapse time: 12.20 seconds\n",
      "Processing J01518+644 star...\n",
      "filename: ../data/CARM_VIS_RVs/J01518+644.avc.dat\n"
     ]
    },
    {
     "name": "stderr",
     "output_type": "stream",
     "text": [
      "c:\\users\\ciroe\\gls.py:642: UserWarning: Matplotlib is currently using module://ipykernel.pylab.backend_inline, which is a non-GUI backend, so cannot show the figure.\n",
      "  fig.show()\n"
     ]
    },
    {
     "name": "stdout",
     "output_type": "stream",
     "text": [
      "Elapsed time: 16.17 seconds\n",
      "... SUCCESS.\n",
      "Record: 368, started at 04/06/2022, 23:50:26\n",
      "Previous median lapse time: 12.20 seconds\n",
      "Processing J01433+043 star...\n",
      "filename: ../data/CARM_VIS_RVs/J01433+043.avc.dat\n"
     ]
    },
    {
     "name": "stderr",
     "output_type": "stream",
     "text": [
      "c:\\users\\ciroe\\gls.py:642: UserWarning: Matplotlib is currently using module://ipykernel.pylab.backend_inline, which is a non-GUI backend, so cannot show the figure.\n",
      "  fig.show()\n"
     ]
    },
    {
     "name": "stdout",
     "output_type": "stream",
     "text": [
      "Elapsed time: 12.79 seconds\n",
      "... SUCCESS.\n",
      "Record: 369, started at 04/06/2022, 23:50:39\n",
      "Previous median lapse time: 12.20 seconds\n",
      "Processing J01352-072 star...\n",
      "filename: ../data/CARM_VIS_RVs/J01352-072.avc.dat\n"
     ]
    },
    {
     "name": "stderr",
     "output_type": "stream",
     "text": [
      "c:\\users\\ciroe\\gls.py:642: UserWarning: Matplotlib is currently using module://ipykernel.pylab.backend_inline, which is a non-GUI backend, so cannot show the figure.\n",
      "  fig.show()\n"
     ]
    },
    {
     "name": "stdout",
     "output_type": "stream",
     "text": [
      "Elapsed time: 11.57 seconds\n",
      "... SUCCESS.\n",
      "Record: 370, started at 04/06/2022, 23:50:51\n",
      "Previous median lapse time: 12.20 seconds\n",
      "Processing J01339-176 star...\n",
      "filename: ../data/CARM_VIS_RVs/J01339-176.avc.dat\n"
     ]
    },
    {
     "name": "stderr",
     "output_type": "stream",
     "text": [
      "c:\\users\\ciroe\\gls.py:642: UserWarning: Matplotlib is currently using module://ipykernel.pylab.backend_inline, which is a non-GUI backend, so cannot show the figure.\n",
      "  fig.show()\n"
     ]
    },
    {
     "name": "stdout",
     "output_type": "stream",
     "text": [
      "Elapsed time: 12.76 seconds\n",
      "... SUCCESS.\n",
      "Record: 371, started at 04/06/2022, 23:51:03\n",
      "Previous median lapse time: 12.20 seconds\n",
      "Processing J01125-169 star...\n",
      "filename: ../data/CARM_VIS_RVs/J01125-169.avc.dat\n"
     ]
    },
    {
     "name": "stderr",
     "output_type": "stream",
     "text": [
      "c:\\users\\ciroe\\gls.py:642: UserWarning: Matplotlib is currently using module://ipykernel.pylab.backend_inline, which is a non-GUI backend, so cannot show the figure.\n",
      "  fig.show()\n"
     ]
    },
    {
     "name": "stdout",
     "output_type": "stream",
     "text": [
      "Elapsed time: 15.19 seconds\n",
      "... SUCCESS.\n",
      "Record: 372, started at 04/06/2022, 23:51:19\n",
      "Previous median lapse time: 12.25 seconds\n",
      "Processing J01066+192 star...\n",
      "filename: ../data/CARM_VIS_RVs/J01066+192.avc.dat\n"
     ]
    },
    {
     "name": "stderr",
     "output_type": "stream",
     "text": [
      "c:\\users\\ciroe\\gls.py:642: UserWarning: Matplotlib is currently using module://ipykernel.pylab.backend_inline, which is a non-GUI backend, so cannot show the figure.\n",
      "  fig.show()\n"
     ]
    },
    {
     "name": "stdout",
     "output_type": "stream",
     "text": [
      "Elapsed time: 12.79 seconds\n",
      "... SUCCESS.\n",
      "Record: 373, started at 04/06/2022, 23:51:32\n",
      "Previous median lapse time: 12.29 seconds\n",
      "Processing J01056+284 star...\n",
      "filename: ../data/CARM_VIS_RVs/J01056+284.avc.dat\n"
     ]
    },
    {
     "name": "stderr",
     "output_type": "stream",
     "text": [
      "c:\\users\\ciroe\\gls.py:642: UserWarning: Matplotlib is currently using module://ipykernel.pylab.backend_inline, which is a non-GUI backend, so cannot show the figure.\n",
      "  fig.show()\n"
     ]
    },
    {
     "name": "stdout",
     "output_type": "stream",
     "text": [
      "Elapsed time: 12.15 seconds\n",
      "... SUCCESS.\n",
      "Record: 374, started at 04/06/2022, 23:51:44\n",
      "Previous median lapse time: 12.25 seconds\n",
      "Processing J01048-181 star...\n",
      "filename: ../data/CARM_VIS_RVs/J01048-181.avc.dat\n"
     ]
    },
    {
     "name": "stderr",
     "output_type": "stream",
     "text": [
      "c:\\users\\ciroe\\gls.py:642: UserWarning: Matplotlib is currently using module://ipykernel.pylab.backend_inline, which is a non-GUI backend, so cannot show the figure.\n",
      "  fig.show()\n"
     ]
    },
    {
     "name": "stdout",
     "output_type": "stream",
     "text": [
      "Elapsed time: 14.72 seconds\n",
      "... SUCCESS.\n",
      "Record: 375, started at 04/06/2022, 23:51:58\n",
      "Previous median lapse time: 12.29 seconds\n",
      "Processing J01033+623 star...\n",
      "filename: ../data/CARM_VIS_RVs/J01033+623.avc.dat\n"
     ]
    },
    {
     "name": "stderr",
     "output_type": "stream",
     "text": [
      "c:\\users\\ciroe\\gls.py:642: UserWarning: Matplotlib is currently using module://ipykernel.pylab.backend_inline, which is a non-GUI backend, so cannot show the figure.\n",
      "  fig.show()\n"
     ]
    },
    {
     "name": "stdout",
     "output_type": "stream",
     "text": [
      "Elapsed time: 12.44 seconds\n",
      "... SUCCESS.\n",
      "Record: 376, started at 04/06/2022, 23:52:11\n",
      "Previous median lapse time: 12.30 seconds\n",
      "Processing J01026+623 star...\n",
      "filename: ../data/CARM_VIS_RVs/J01026+623.avc.dat\n"
     ]
    },
    {
     "name": "stderr",
     "output_type": "stream",
     "text": [
      "c:\\users\\ciroe\\gls.py:642: UserWarning: Matplotlib is currently using module://ipykernel.pylab.backend_inline, which is a non-GUI backend, so cannot show the figure.\n",
      "  fig.show()\n"
     ]
    },
    {
     "name": "stdout",
     "output_type": "stream",
     "text": [
      "Elapsed time: 13.58 seconds\n",
      "... SUCCESS.\n",
      "Record: 377, started at 04/06/2022, 23:52:25\n",
      "Previous median lapse time: 12.30 seconds\n",
      "Processing J01025+716 star...\n",
      "filename: ../data/CARM_VIS_RVs/J01025+716.avc.dat\n"
     ]
    },
    {
     "name": "stderr",
     "output_type": "stream",
     "text": [
      "c:\\users\\ciroe\\gls.py:642: UserWarning: Matplotlib is currently using module://ipykernel.pylab.backend_inline, which is a non-GUI backend, so cannot show the figure.\n",
      "  fig.show()\n"
     ]
    },
    {
     "name": "stdout",
     "output_type": "stream",
     "text": [
      "Elapsed time: 14.21 seconds\n",
      "... SUCCESS.\n",
      "Record: 378, started at 04/06/2022, 23:52:39\n",
      "Previous median lapse time: 12.30 seconds\n",
      "Processing J01019+541 star...\n",
      "filename: ../data/CARM_VIS_RVs/J01019+541.avc.dat\n"
     ]
    },
    {
     "name": "stderr",
     "output_type": "stream",
     "text": [
      "c:\\users\\ciroe\\gls.py:642: UserWarning: Matplotlib is currently using module://ipykernel.pylab.backend_inline, which is a non-GUI backend, so cannot show the figure.\n",
      "  fig.show()\n"
     ]
    },
    {
     "name": "stdout",
     "output_type": "stream",
     "text": [
      "Elapsed time: 11.52 seconds\n",
      "... SUCCESS.\n",
      "Record: 379, started at 04/06/2022, 23:52:50\n",
      "Previous median lapse time: 12.30 seconds\n",
      "Processing J01013+613 star...\n",
      "filename: ../data/CARM_VIS_RVs/J01013+613.avc.dat\n"
     ]
    },
    {
     "name": "stderr",
     "output_type": "stream",
     "text": [
      "c:\\users\\ciroe\\gls.py:642: UserWarning: Matplotlib is currently using module://ipykernel.pylab.backend_inline, which is a non-GUI backend, so cannot show the figure.\n",
      "  fig.show()\n"
     ]
    },
    {
     "name": "stdout",
     "output_type": "stream",
     "text": [
      "Elapsed time: 12.08 seconds\n",
      "... SUCCESS.\n",
      "Record: 380, started at 04/06/2022, 23:53:02\n",
      "Previous median lapse time: 12.30 seconds\n",
      "Processing J00570+450 star...\n",
      "filename: ../data/CARM_VIS_RVs/J00570+450.avc.dat\n"
     ]
    },
    {
     "name": "stderr",
     "output_type": "stream",
     "text": [
      "c:\\users\\ciroe\\gls.py:642: UserWarning: Matplotlib is currently using module://ipykernel.pylab.backend_inline, which is a non-GUI backend, so cannot show the figure.\n",
      "  fig.show()\n"
     ]
    },
    {
     "name": "stdout",
     "output_type": "stream",
     "text": [
      "Elapsed time: 13.26 seconds\n",
      "... SUCCESS.\n",
      "Record: 381, started at 04/06/2022, 23:53:16\n",
      "Previous median lapse time: 12.30 seconds\n",
      "Processing J00403+612 star...\n",
      "filename: ../data/CARM_VIS_RVs/J00403+612.avc.dat\n"
     ]
    },
    {
     "name": "stderr",
     "output_type": "stream",
     "text": [
      "c:\\users\\ciroe\\gls.py:642: UserWarning: Matplotlib is currently using module://ipykernel.pylab.backend_inline, which is a non-GUI backend, so cannot show the figure.\n",
      "  fig.show()\n"
     ]
    },
    {
     "name": "stdout",
     "output_type": "stream",
     "text": [
      "Elapsed time: 12.01 seconds\n",
      "... SUCCESS.\n",
      "Record: 382, started at 04/06/2022, 23:53:28\n",
      "Previous median lapse time: 12.30 seconds\n",
      "Processing J00389+306 star...\n",
      "filename: ../data/CARM_VIS_RVs/J00389+306.avc.dat\n"
     ]
    },
    {
     "name": "stderr",
     "output_type": "stream",
     "text": [
      "c:\\users\\ciroe\\gls.py:642: UserWarning: Matplotlib is currently using module://ipykernel.pylab.backend_inline, which is a non-GUI backend, so cannot show the figure.\n",
      "  fig.show()\n"
     ]
    },
    {
     "name": "stdout",
     "output_type": "stream",
     "text": [
      "Elapsed time: 12.45 seconds\n",
      "... SUCCESS.\n",
      "Record: 383, started at 04/06/2022, 23:53:40\n",
      "Previous median lapse time: 12.30 seconds\n",
      "Processing J00286-066 star...\n",
      "filename: ../data/CARM_VIS_RVs/J00286-066.avc.dat\n"
     ]
    },
    {
     "name": "stderr",
     "output_type": "stream",
     "text": [
      "c:\\users\\ciroe\\gls.py:642: UserWarning: Matplotlib is currently using module://ipykernel.pylab.backend_inline, which is a non-GUI backend, so cannot show the figure.\n",
      "  fig.show()\n"
     ]
    },
    {
     "name": "stdout",
     "output_type": "stream",
     "text": [
      "Elapsed time: 12.91 seconds\n",
      "... SUCCESS.\n",
      "Record: 384, started at 04/06/2022, 23:53:53\n",
      "Previous median lapse time: 12.30 seconds\n",
      "Processing J00184+440 star...\n",
      "filename: ../data/CARM_VIS_RVs/J00184+440.avc.dat\n"
     ]
    },
    {
     "name": "stderr",
     "output_type": "stream",
     "text": [
      "c:\\users\\ciroe\\gls.py:642: UserWarning: Matplotlib is currently using module://ipykernel.pylab.backend_inline, which is a non-GUI backend, so cannot show the figure.\n",
      "  fig.show()\n"
     ]
    },
    {
     "name": "stdout",
     "output_type": "stream",
     "text": [
      "Elapsed time: 19.56 seconds\n",
      "... SUCCESS.\n",
      "Record: 385, started at 04/06/2022, 23:54:13\n",
      "Previous median lapse time: 12.30 seconds\n",
      "Processing J00183+440 star...\n",
      "filename: ../data/CARM_VIS_RVs/J00183+440.avc.dat\n"
     ]
    },
    {
     "name": "stderr",
     "output_type": "stream",
     "text": [
      "c:\\users\\ciroe\\gls.py:642: UserWarning: Matplotlib is currently using module://ipykernel.pylab.backend_inline, which is a non-GUI backend, so cannot show the figure.\n",
      "  fig.show()\n"
     ]
    },
    {
     "name": "stdout",
     "output_type": "stream",
     "text": [
      "Elapsed time: 17.45 seconds\n",
      "... SUCCESS.\n",
      "Record: 386, started at 04/06/2022, 23:54:31\n",
      "Previous median lapse time: 12.31 seconds\n",
      "Processing J00162+198W star...\n",
      "filename: ../data/CARM_VIS_RVs/J00162+198W.avc.dat\n"
     ]
    },
    {
     "name": "stderr",
     "output_type": "stream",
     "text": [
      "c:\\users\\ciroe\\gls.py:642: UserWarning: Matplotlib is currently using module://ipykernel.pylab.backend_inline, which is a non-GUI backend, so cannot show the figure.\n",
      "  fig.show()\n"
     ]
    },
    {
     "name": "stdout",
     "output_type": "stream",
     "text": [
      "Elapsed time: 11.82 seconds\n",
      "... SUCCESS.\n",
      "Record: 387, started at 04/06/2022, 23:54:42\n",
      "Previous median lapse time: 12.30 seconds\n",
      "Processing J00162+198E star...\n",
      "filename: ../data/CARM_VIS_RVs/J00162+198E.avc.dat\n"
     ]
    },
    {
     "name": "stderr",
     "output_type": "stream",
     "text": [
      "c:\\users\\ciroe\\gls.py:642: UserWarning: Matplotlib is currently using module://ipykernel.pylab.backend_inline, which is a non-GUI backend, so cannot show the figure.\n",
      "  fig.show()\n"
     ]
    },
    {
     "name": "stdout",
     "output_type": "stream",
     "text": [
      "Elapsed time: 11.84 seconds\n",
      "... SUCCESS.\n",
      "Record: 388, started at 04/06/2022, 23:54:54\n",
      "Previous median lapse time: 12.30 seconds\n",
      "Processing J00067-075 star...\n",
      "filename: ../data/CARM_VIS_RVs/J00067-075.avc.dat\n"
     ]
    },
    {
     "name": "stderr",
     "output_type": "stream",
     "text": [
      "c:\\users\\ciroe\\gls.py:642: UserWarning: Matplotlib is currently using module://ipykernel.pylab.backend_inline, which is a non-GUI backend, so cannot show the figure.\n",
      "  fig.show()\n"
     ]
    },
    {
     "name": "stdout",
     "output_type": "stream",
     "text": [
      "Elapsed time: 16.81 seconds\n",
      "... SUCCESS.\n",
      "Record: 389, started at 04/06/2022, 23:55:11\n",
      "Previous median lapse time: 12.30 seconds\n",
      "Processing J00051+457 star...\n",
      "filename: ../data/CARM_VIS_RVs/J00051+457.avc.dat\n"
     ]
    },
    {
     "name": "stderr",
     "output_type": "stream",
     "text": [
      "c:\\users\\ciroe\\gls.py:642: UserWarning: Matplotlib is currently using module://ipykernel.pylab.backend_inline, which is a non-GUI backend, so cannot show the figure.\n",
      "  fig.show()\n"
     ]
    },
    {
     "name": "stdout",
     "output_type": "stream",
     "text": [
      "Elapsed time: 12.83 seconds\n",
      "... SUCCESS.\n"
     ]
    }
   ],
   "source": [
    "# Batch processing:\n",
    "lapse_list = []\n",
    "median_lapse = None\n",
    "# NOTE THE FOR LOOP IS SEPARATED INTO SEVERAL \"BATCHES\", SO AS TO PREVENT POTENTIAL MEMORY PROBLEMS\n",
    "# OR TOO MUCH TIME ELAPSED\n",
    "#for i in range(0, 3): # TEST\n",
    "#for i in range(0, len(gto)): # ALL RECORDS\n",
    "#for i in range(0, 100):\n",
    "#for i in range(100, 200):\n",
    "#for i in range(200, 300):\n",
    "for i in range(300, len(gto)):\n",
    "#for i in range(n, len(gto)): # If record n-1 fails and gets stuck.\n",
    "    start_time = time.time()\n",
    "    # Names:\n",
    "    karmn = gto.loc[i, 'Karmn'] # KARMENES name\n",
    "    commn = gto.loc[i, 'Name'] # Common name\n",
    "    tic_id = str(gto.loc[i, 'TIC_id']) # TESS TIC identifier\n",
    "    print(\"Record: %d, started at %s\"\n",
    "          %(i, time.strftime('%d/%m/%Y, %H:%M:%S', time.localtime(start_time))))\n",
    "    if median_lapse is None:\n",
    "        print(\"Previous median lapse time: %s\" %median_lapse)\n",
    "    else:\n",
    "        print(\"Previous median lapse time: %.2f seconds\" %median_lapse)\n",
    "    print(\"Processing %s star...\" %karmn)\n",
    "    try:\n",
    "        # LOAD RV FILE:\n",
    "        rv_file = gto.loc[i, 'rv_file']\n",
    "        print(\"filename: %s\" %rv_file)\n",
    "        rv_lk = rv_load(rv_file)\n",
    "        \n",
    "        # GENERATE PERIODOGRAM:\n",
    "        gls = Gls((rv_lk['time'].value, rv_lk['flux'].value, rv_lk['flux_err'].value),\n",
    "              fbeg=FBEG, fend=FEND, Pbeg=PBEG, Pend=PEND, ofac=OFAC, hifac=HIFAC, freq=FREQ,\n",
    "              norm=NORM, ls=LS, fast=FAST, verbose=VERBOSE)\n",
    "        \n",
    "        # GENERATE THE FITS FILE:\n",
    "        # Prepare the fits primary HDU (only header):\n",
    "        primary_header = fits.Header()\n",
    "        primary_header['OBJECT'] = (karmn, \"KARMENES target name\")\n",
    "        primary_header['NAME'] = (commn, \"Object common name\")\n",
    "        primary_header['TIC'] = (tic_id, \"Object TESS identifier\")\n",
    "        primary_header['RA_J2000'] = (\"00:05:10.89\", \"Object right ascension (J2000)\")\n",
    "        primary_header['DE_J2000'] = (\"+45:47:11.6\", \"Object declination (J2000)\")\n",
    "        primary_header['SPTYPE'] = (\"M1.0 V\", \"Spectral type\")\n",
    "        primary_header['TEFF_K'] = (3773, \"Effective temperature in Kelvin\")\n",
    "        primary_header['LOGG'] = (5.07, \"Logarithm of surface gravity\")\n",
    "        primary_header['FEH'] = (-0.04, \"Metallicity\")\n",
    "        primary_header['L_LSUN'] = (0.0436229, \"Luminosity in Solar luminosities\")\n",
    "        primary_header['R_RSUN'] = (0.48881, \"Radius in Solar radii\")\n",
    "        primary_header['M_MSUN'] = (0.4918, \"Mass in Solar masses\")\n",
    "        primary_header['D_PC'] = (11.50352803, \"Distance in parsec\")\n",
    "        hdu_primary = fits.PrimaryHDU(header=primary_header)\n",
    "\n",
    "        # Prepare the RV HDU:\n",
    "        hdu_rv = fits.table_to_hdu(QTable(rv_lk.to_table()))\n",
    "        hdu_rv.name = \"RV_CURVE\"\n",
    "        psample = rv_infer_sampling(rv_lk).value\n",
    "        fsample = 1.0 / psample\n",
    "        fnyq = 2.0 * fsample\n",
    "        freq_units = u.d ** (-1)\n",
    "        hdu_rv.header['OBJECT'] = (karmn, \"KARMENES target name\")\n",
    "        hdu_rv.header['PUNIT'] = u.d.to_string(format='fits')\n",
    "        hdu_rv.header['FUNIT'] = freq_units.to_string(format='fits')\n",
    "        hdu_rv.header['RVPOINTS'] = (gls.N, \"Number of points in the RV curve\")\n",
    "        hdu_rv.header['AVGFLUX'] = (gls._Y, \"Average flux of RV curve\")\n",
    "        hdu_rv.header['RMSFLUX'] = (np.sqrt(gls._YY), \"Flux RMS of RV curve\")\n",
    "        hdu_rv.header['PSAMPLE'] = (psample, \"Inferred cadence in RV curve\")\n",
    "        hdu_rv.header['FSAMPLE'] = (fsample, \"Inferred sampling frequency in RV curve\")\n",
    "        hdu_rv.header['FNYQUIST'] = (fnyq, \"Calculated Nyquist frequency value\")\n",
    "                \n",
    "        # Prepare the PG HDU:\n",
    "        hdu_pg = fits.table_to_hdu(\n",
    "            QTable(data=[gls.freq, gls.power], names=['freq', 'power'], \n",
    "                   units=[1.0 / u.d, (u.m / u.s) ** 2]))\n",
    "        hdu_pg.name = \"GLS_PG\"\n",
    "        fpoints = len(gls.f)\n",
    "        fres = (gls.fend - gls.fbeg) / (fpoints - 1)\n",
    "        hdu_pg.header['OBJECT'] = (karmn, \"KARMENES target name\")\n",
    "        hdu_pg.header['FUNIT'] = (freq_units.to_string(format='fits'), \"Unit for frequencies\")\n",
    "        hdu_pg.header['PUNIT'] = (u.d.to_string(format='fits'), \"Unit for periods\")\n",
    "        hdu_pg.header['PK_FREQ'] = (gls.best['f'], \"Frequency of the peak in periodogram\")\n",
    "        hdu_pg.header['PK_POW'] = (gls.pmax, \"Power of the peak in periodogram\")\n",
    "        hdu_pg.header['PK_SNR'] = (gls.best['amp'] / gls.rms, \"SNR of the peak in periodogram\")\n",
    "        hdu_pg.header['PK_FAP'] = (gls.FAP(Pn=None), \"FAP of the peak in periodogram\")\n",
    "        hdu_pg.header['RES_RMS'] = (gls.rms, \"RMS of residuals in periodogram\")\n",
    "        hdu_pg.header['FSAMPLE'] = (fsample, \"Inferred sampling frequency in RV curve\")\n",
    "        hdu_pg.header['FNYQUIST'] = (fnyq, \"Calculated Nyquist frequency value\")\n",
    "        hdu_pg.header['FPOINTS'] = (fpoints, \"Number of points in periodogram\")\n",
    "        hdu_pg.header['FBEG'] = (gls.fbeg, \"Start frequency in periodogram\")\n",
    "        hdu_pg.header['FEND'] = (gls.fend, \"End frequency in periodogram\")\n",
    "        hdu_pg.header['FRES'] = (fres, \"Frequency resolution in periodogram\")\n",
    "        hdu_pg.header['F'] = (gls.best['f'], \"Peak best estimate: frequency\")\n",
    "        hdu_pg.header['E_F'] = (gls.best['e_f'], \"Peak best estimate: frequency error\")\n",
    "        hdu_pg.header['P'] = (gls.best['P'], \"Peak best estimate: period\")\n",
    "        hdu_pg.header['E_P'] = (gls.best['e_P'], \"Peak best estimate: period error\")\n",
    "        hdu_pg.header['A'] = (gls.best['amp'], \"Peak best estimate: amplitude\")\n",
    "        hdu_pg.header['E_A'] = (gls.best['e_amp'], \"Peak best estimate: amplitude error\")\n",
    "        hdu_pg.header['PH'] = (gls.best['ph'], \"Peak best estimate: phase\")\n",
    "        hdu_pg.header['E_PH'] = (gls.best['e_ph'], \"Peak best estimate: phase error\")\n",
    "        hdu_pg.header['T0'] = (gls.best['T0'], \"Peak best estimate: frequency\")\n",
    "        hdu_pg.header['E_T0'] = (gls.best['e_T0'], \"Peak best estimate: frequency error\")\n",
    "        hdu_pg.header['OFF'] = (gls.best['offset'], \"Peak best estimate: offset\")\n",
    "        hdu_pg.header['E_OFF'] = (gls.best['e_offset'], \"Peak best estimate: offset error\")\n",
    "        hdu_pg.header['OFAC'] = (gls.ofac, \"Setup: oversampling factor\")\n",
    "        hdu_pg.header['HIFAC'] = (gls.ofac, \"Setup: maximum frequency factor\")\n",
    "        hdu_pg.header['NORM'] = (gls.norm, \"Setup: normalization type\")\n",
    "        hdu_pg.header['LS'] = (gls.ls, \"Setup: conventional Lomb-Scargle calculation\")\n",
    "        hdu_pg.header['FAST'] = (gls.fast, \"Setup: fast evaluation, recursive trigonometric\")\n",
    "        \n",
    "        # Create and save the fits file:\n",
    "        fits_filename = OUT_PROCESSED_FOLDER + karmn + \"_RV_PG.fits\"\n",
    "        hdul = fits.HDUList([hdu_primary, hdu_rv, hdu_pg])\n",
    "        hdul.writeto(fits_filename, overwrite=True)\n",
    "        \n",
    "        # Delete all the HDUs:\n",
    "        del hdul\n",
    "        del hdu_primary\n",
    "        del hdu_rv\n",
    "        del hdu_pg\n",
    "\n",
    "        # FILL IN THE DATA IN THE GTO TABLE:\n",
    "        gto.loc[i, 'n_RV'] = gls.N\n",
    "        gto.loc[i, 'Ps_RV'] = psample\n",
    "        gto.loc[i, 'fs_RV'] = fsample\n",
    "        gto.loc[i, 'wmean_RV'] = gls._Y\n",
    "        gto.loc[i, 'wrms_RV'] = np.sqrt(gls._YY)\n",
    "        gto.loc[i, 'info_PG_RV'] = gls.info(stdout=False)\n",
    "        gto.loc[i, 'maxP_PG_RV'] = gls.power.max()\n",
    "        gto.loc[i, 'maxSNR_PG_RV'] = gls.best['amp'] / gls.rms\n",
    "        gto.loc[i, 'rms_PG_RV'] = gls.rms\n",
    "        gto.loc[i, 'f_PG_RV'] = gls.best['f']\n",
    "        gto.loc[i, 'e_f_PG_RV'] = gls.best['e_f']\n",
    "        gto.loc[i, 'Pd_PG_RV'] = gls.best['P']\n",
    "        gto.loc[i, 'e_Pd_PG_RV'] = gls.best['e_P']\n",
    "        gto.loc[i, 'Ph_PG_RV'] = 24.0 * gls.best['P']\n",
    "        gto.loc[i, 'e_Ph_PG_RV'] = 24.0 * gls.best['e_P']\n",
    "        gto.loc[i, 'Pm_PG_RV'] = 24.0 * 60.0 * gls.best['P']\n",
    "        gto.loc[i, 'e_Pm_PG_RV'] = 24.0 * 60.0 * gls.best['e_P']\n",
    "        gto.loc[i, 'A_PG_RV'] = gls.best['amp']\n",
    "        gto.loc[i, 'e_A_PG_RV'] = gls.best['e_amp']\n",
    "        gto.loc[i, 'ph_PG_RV'] = gls.best['ph']\n",
    "        gto.loc[i, 'e_ph_PG_RV'] = gls.best['e_ph']\n",
    "        gto.loc[i, 'T0_PG_RV'] = gls.best['T0']\n",
    "        gto.loc[i, 'e_T0_PG_RV'] = gls.best['e_T0']\n",
    "        gto.loc[i, 'offset_PG_RV'] = gls.best['offset']\n",
    "        gto.loc[i, 'e_offset_PG_RV'] = gls.best['e_offset']\n",
    "        gto.loc[i, 'FAP_PG_RV'] = gls.FAP(Pn=None)\n",
    "        \n",
    "        # GENERATE THE FIGURE:\n",
    "        fig = gls.plot(block=False, period=False,\n",
    "                       fap=FAP_LEVELS_PLOT, gls=True, data=True, residuals=True)\n",
    "        figure_title = \"%s, P=%.4f [min], FAP=%.4f%%\" \\\n",
    "            %(karmn, gto.loc[i, 'Pm_PG_RV'], 100.0 * gto.loc[i, 'FAP_PG_RV'])\n",
    "        fig.suptitle(figure_title, fontdict = {'fontsize' : 36})\n",
    "        fig.tight_layout()\n",
    "        # Save the figure to disk:\n",
    "        fig_file = OUT_IMG_FOLDER + karmn + \"_RV_PG.png\"\n",
    "        fig.savefig(fig_file)\n",
    "        plt.close() # Prevent the figure from showing.\n",
    "\n",
    "        # SET THE RECORD CALCULATION AS VALID AND STORE THE REULTING FILENAMES\n",
    "        gto.loc[i, 'valid_PG_RV'] = 1\n",
    "        gto.loc[i, 'error_PG_RV'] = \"\"\n",
    "        gto.loc[i, 'fits_file_RV'] = fits_filename\n",
    "        gto.loc[i, 'fig_file_RV'] = fig_file\n",
    "\n",
    "        # UPDATE THE AVERAGE RECORD PROCESSING TIME:\n",
    "        lapse = time.time() - start_time\n",
    "        lapse_list.append(lapse)\n",
    "        median_lapse = np.nanmedian(lapse_list)\n",
    "        gto.loc[i, 'elapsed_time_PG_RV'] = lapse\n",
    "        \n",
    "        # SAVE THE UPDATED GTO TABLE TO DISK:\n",
    "        gto.to_csv(GTO_FILE, sep=',', decimal='.', index=False)\n",
    "        \n",
    "        # Report successful execution:\n",
    "        print(\"Elapsed time: %.2f seconds\" %lapse)\n",
    "        print(\"... SUCCESS.\")\n",
    "        \n",
    "    except Exception as e:\n",
    "        # Some error happened, establish the record as not valid and record the error:\n",
    "        error = \"*** Some ERROR happened with record #%d, %s star. Error=%s\" %(i, karmn, e)\n",
    "        print(error)\n",
    "        gto.loc[i, 'valid_PG_RV'] = 0\n",
    "        gto.loc[i, 'error_PG_RV'] = e\n",
    "        \n",
    "        # Try to update the record, and save the file:\n",
    "        try:\n",
    "            # UPDATE THE AVERAGE RECORD PROCESSING TIME:\n",
    "            lapse = time.time() - start_time\n",
    "            lapse_list.append(lapse)\n",
    "            median_lapse = np.nanmedian(lapse_list)\n",
    "            gto.loc[i, 'elapsed_time_PG_RV'] = lapse\n",
    "            print(\"Elapsed time: %.2f seconds\" %lapse)\n",
    "\n",
    "            # SAVE THE UPDATED GTO TABLE TO DISK:\n",
    "            gto.to_csv(GTO_FILE, sep=',', decimal='.', index=False)\n",
    "        except Exception as e2:\n",
    "            error_2 = \"*** Additional ERROR happened with record #%d, %s star. Error=%s\" %(i, karmn, str(e2))\n",
    "            print(error)\n",
    "            gto.loc[i, 'error_PG_RV'] = gto.loc[i, 'error_PG_RV'] + \"/\" + str(e2)\n",
    "\n"
   ]
  },
  {
   "cell_type": "markdown",
   "id": "6dee85cb",
   "metadata": {},
   "source": [
    "## Review a given file"
   ]
  },
  {
   "cell_type": "code",
   "execution_count": 12,
   "id": "fc313c4a",
   "metadata": {
    "ExecuteTime": {
     "end_time": "2022-06-04T22:34:05.477091Z",
     "start_time": "2022-06-04T22:34:05.467117Z"
    }
   },
   "outputs": [],
   "source": [
    "object_name = \"J23556-061\""
   ]
  },
  {
   "cell_type": "code",
   "execution_count": 13,
   "id": "b38f1025",
   "metadata": {
    "ExecuteTime": {
     "end_time": "2022-06-04T22:34:06.925245Z",
     "start_time": "2022-06-04T22:34:06.898607Z"
    }
   },
   "outputs": [
    {
     "data": {
      "text/plain": [
       "[<astropy.io.fits.hdu.image.PrimaryHDU object at 0x000002286203A340>, <astropy.io.fits.hdu.table.BinTableHDU object at 0x00000228638DFBB0>, <astropy.io.fits.hdu.table.BinTableHDU object at 0x000002286225CE50>]"
      ]
     },
     "execution_count": 13,
     "metadata": {},
     "output_type": "execute_result"
    }
   ],
   "source": [
    "read_hdul = fits.open(OUT_PROCESSED_FOLDER + object_name + \"_RV_PG.fits\", mode='update', memmap=False)\n",
    "read_hdul"
   ]
  },
  {
   "cell_type": "code",
   "execution_count": 14,
   "id": "af53d9ed",
   "metadata": {
    "ExecuteTime": {
     "end_time": "2022-06-04T22:34:08.368600Z",
     "start_time": "2022-06-04T22:34:08.361619Z"
    }
   },
   "outputs": [
    {
     "name": "stdout",
     "output_type": "stream",
     "text": [
      "Filename: ../data/CARM_VIS_RVs_PGs/J23556-061_RV_PG.fits\n",
      "No.    Name      Ver    Type      Cards   Dimensions   Format\n",
      "  0  PRIMARY       1 PrimaryHDU      17   ()      \n",
      "  1  RV_CURVE      1 BinTableHDU     33   30R x 3C   [2D, D, D]   \n",
      "  2  GLS_PG        1 BinTableHDU     46   1000001R x 2C   [D, D]   \n"
     ]
    }
   ],
   "source": [
    "read_hdul.info()"
   ]
  },
  {
   "cell_type": "markdown",
   "id": "b64bfc19",
   "metadata": {
    "ExecuteTime": {
     "end_time": "2022-03-13T10:44:13.485181Z",
     "start_time": "2022-03-13T10:44:13.467228Z"
    }
   },
   "source": [
    "### Retrieve basic information"
   ]
  },
  {
   "cell_type": "code",
   "execution_count": 15,
   "id": "bf8ec911",
   "metadata": {
    "ExecuteTime": {
     "end_time": "2022-06-04T22:34:12.241212Z",
     "start_time": "2022-06-04T22:34:12.232236Z"
    }
   },
   "outputs": [
    {
     "data": {
      "text/plain": [
       "SIMPLE  =                    T / conforms to FITS standard                      \n",
       "BITPIX  =                    8 / array data type                                \n",
       "NAXIS   =                    0 / number of array dimensions                     \n",
       "EXTEND  =                    T                                                  \n",
       "OBJECT  = 'J23556-061'         / KARMENES target name                           \n",
       "NAME    = 'GJ 912  '           / Object common name                             \n",
       "TIC     = '9759680 '           / Object TESS identifier                         \n",
       "RA_J2000= '00:05:10.89'        / Object right ascension (J2000)                 \n",
       "DE_J2000= '+45:47:11.6'        / Object declination (J2000)                     \n",
       "SPTYPE  = 'M1.0 V  '           / Spectral type                                  \n",
       "TEFF_K  =                 3773 / Effective temperature in Kelvin                \n",
       "LOGG    =                 5.07 / Logarithm of surface gravity                   \n",
       "FEH     =                -0.04 / Metallicity                                    \n",
       "L_LSUN  =            0.0436229 / Luminosity in Solar luminosities               \n",
       "R_RSUN  =              0.48881 / Radius in Solar radii                          \n",
       "M_MSUN  =               0.4918 / Mass in Solar masses                           \n",
       "D_PC    =          11.50352803 / Distance in parsec                             "
      ]
     },
     "execution_count": 15,
     "metadata": {},
     "output_type": "execute_result"
    }
   ],
   "source": [
    "read_hdul['PRIMARY'].header"
   ]
  },
  {
   "cell_type": "markdown",
   "id": "faa3d359",
   "metadata": {},
   "source": [
    "### Retrieve RV curve information"
   ]
  },
  {
   "cell_type": "code",
   "execution_count": 16,
   "id": "3b196156",
   "metadata": {
    "ExecuteTime": {
     "end_time": "2022-06-04T22:34:13.764169Z",
     "start_time": "2022-06-04T22:34:13.745990Z"
    }
   },
   "outputs": [
    {
     "data": {
      "text/plain": [
       "<astropy.io.fits.hdu.table.BinTableHDU at 0x228638dfbb0>"
      ]
     },
     "execution_count": 16,
     "metadata": {},
     "output_type": "execute_result"
    }
   ],
   "source": [
    "read_hdul['RV_CURVE']"
   ]
  },
  {
   "cell_type": "code",
   "execution_count": 17,
   "id": "ad8b26e9",
   "metadata": {
    "ExecuteTime": {
     "end_time": "2022-06-04T22:34:15.912640Z",
     "start_time": "2022-06-04T22:34:15.897733Z"
    }
   },
   "outputs": [
    {
     "data": {
      "text/plain": [
       "XTENSION= 'BINTABLE'           / binary table extension                         \n",
       "BITPIX  =                    8 / array data type                                \n",
       "NAXIS   =                    2 / number of array dimensions                     \n",
       "NAXIS1  =                   32 / length of dimension 1                          \n",
       "NAXIS2  =                   30 / length of dimension 2                          \n",
       "PCOUNT  =                    0 / number of group parameters                     \n",
       "GCOUNT  =                    1 / number of groups                               \n",
       "TFIELDS =                    3 / number of table fields                         \n",
       "TIMESYS = 'UTC     '           / Default time scale                             \n",
       "JDREF   =                  0.0 / Time columns are jd = jd1 + jd2                \n",
       "TREFPOS = 'TOPOCENTER'         / Time reference position                        \n",
       "TTYPE1  = 'time    '                                                            \n",
       "TFORM1  = '2D      '                                                            \n",
       "TUNIT1  = 'd       '                                                            \n",
       "TDIM1   = '(2)     '                                                            \n",
       "TCTYP1  = 'TDB     '                                                            \n",
       "TCUNI1  = 'd       '                                                            \n",
       "TTYPE2  = 'flux    '                                                            \n",
       "TFORM2  = 'D       '                                                            \n",
       "TUNIT2  = 'm s-1   '                                                            \n",
       "TTYPE3  = 'flux_err'                                                            \n",
       "TFORM3  = 'D       '                                                            \n",
       "TUNIT3  = 'm s-1   '                                                            \n",
       "EXTNAME = 'RV_CURVE'           / extension name                                 \n",
       "OBJECT  = 'J23556-061'         / KARMENES target name                           \n",
       "PUNIT   = 'd       '                                                            \n",
       "FUNIT   = 'd-1     '                                                            \n",
       "RVPOINTS=                   30 / Number of points in the RV curve               \n",
       "AVGFLUX =    8.177400010194297 / Average flux of RV curve                       \n",
       "RMSFLUX =    118979.7036184569 / Flux RMS of RV curve                           \n",
       "PSAMPLE =    59.82831327058375 / Inferred cadence in RV curve                   \n",
       "FSAMPLE =  0.01671449428094905 / Inferred sampling frequency in RV curve        \n",
       "FNYQUIST=  0.03342898856189809 / Calculated Nyquist frequency value             "
      ]
     },
     "execution_count": 17,
     "metadata": {},
     "output_type": "execute_result"
    }
   ],
   "source": [
    "read_hdul['RV_CURVE'].header"
   ]
  },
  {
   "cell_type": "code",
   "execution_count": 18,
   "id": "1ac50efb",
   "metadata": {
    "ExecuteTime": {
     "end_time": "2022-06-04T22:34:18.281548Z",
     "start_time": "2022-06-04T22:34:18.257588Z"
    }
   },
   "outputs": [
    {
     "data": {
      "text/plain": [
       "FITS_rec([([ 2.45759400e+06, -3.41206829e-01], 368.57269438, 2.11976458),\n",
       "          ([ 2.45759600e+06, -3.31648916e-01], 363.74366739, 1.92925593),\n",
       "          ([ 2.45760500e+06, -3.59053629e-01], 363.29476099, 2.43537069),\n",
       "          ([ 2.45760900e+06, -3.55222573e-01], 363.44968482, 2.071301  ),\n",
       "          ([ 2.45762600e+06, -3.96350565e-01], 357.61959182, 2.28650246),\n",
       "          ([ 2.45763500e+06, -4.27978922e-01], 345.47360276, 2.72104472),\n",
       "          ([ 2.45764500e+06, -4.58771974e-01], 343.73727152, 2.40985396),\n",
       "          ([ 2.45767300e+06, -4.85209939e-01], 338.86742184, 1.77064468),\n",
       "          ([ 2.45775300e+06,  2.83939595e-01], 308.38480361, 2.24009984),\n",
       "          ([ 2.45793200e+06, -3.60266469e-01], 218.29813027, 2.16691784)],\n",
       "         dtype=(numpy.record, [('time', '>f8', (2,)), ('flux', '>f8'), ('flux_err', '>f8')]))"
      ]
     },
     "execution_count": 18,
     "metadata": {},
     "output_type": "execute_result"
    }
   ],
   "source": [
    "read_hdul['RV_CURVE'].data[:10]"
   ]
  },
  {
   "cell_type": "code",
   "execution_count": 19,
   "id": "d9cf03e7",
   "metadata": {
    "ExecuteTime": {
     "end_time": "2022-06-04T22:34:22.776378Z",
     "start_time": "2022-06-04T22:34:22.609467Z"
    }
   },
   "outputs": [
    {
     "data": {
      "text/html": [
       "<i>QTable length=30</i>\n",
       "<table id=\"table2372467619680\" class=\"table-striped table-bordered table-condensed\">\n",
       "<thead><tr><th>time [2]</th><th>flux</th><th>flux_err</th></tr></thead>\n",
       "<thead><tr><th>d</th><th>m / s</th><th>m / s</th></tr></thead>\n",
       "<thead><tr><th>float64</th><th>float64</th><th>float64</th></tr></thead>\n",
       "<tr><td>2457594.0 .. -0.34120682859793305</td><td>368.57269437885606</td><td>2.1197645791859014</td></tr>\n",
       "<tr><td>2457596.0 .. -0.33164891554042697</td><td>363.7436673901377</td><td>1.9292559320919738</td></tr>\n",
       "<tr><td>2457605.0 .. -0.35905362851917744</td><td>363.2947609879404</td><td>2.4353706850341275</td></tr>\n",
       "<tr><td>2457609.0 .. -0.3552225725725293</td><td>363.44968482330813</td><td>2.071301001326418</td></tr>\n",
       "<tr><td>2457626.0 .. -0.39635056536644697</td><td>357.6195918175518</td><td>2.2865024646363756</td></tr>\n",
       "<tr><td>2457635.0 .. -0.4279789221473038</td><td>345.47360275795796</td><td>2.7210447228094123</td></tr>\n",
       "<tr><td>2457645.0 .. -0.4587719738483429</td><td>343.7372715200439</td><td>2.4098539557767973</td></tr>\n",
       "<tr><td>2457673.0 .. -0.48520993907004595</td><td>338.86742184033426</td><td>1.770644680944298</td></tr>\n",
       "<tr><td>2457753.0 .. 0.28393959533423185</td><td>308.38480360714016</td><td>2.240099835951476</td></tr>\n",
       "<tr><td>...</td><td>...</td><td>...</td></tr>\n",
       "<tr><td>2458476.0 .. 0.3298227833583951</td><td>-52.93605943241846</td><td>1.352336007953663</td></tr>\n",
       "<tr><td>2458664.0 .. -0.3386825602501631</td><td>-161.622647584823</td><td>1.8286660386030946</td></tr>\n",
       "<tr><td>2458724.0 .. -0.4168454185128212</td><td>-201.93449488670575</td><td>2.0077362571025397</td></tr>\n",
       "<tr><td>2458783.0 .. 0.44582826970145106</td><td>-245.82852768766043</td><td>1.778411438234725</td></tr>\n",
       "<tr><td>2458844.0 .. 0.2612771149724722</td><td>-292.6374384856392</td><td>3.6201349783414707</td></tr>\n",
       "<tr><td>2459034.0 .. -0.3513846383430064</td><td>-448.35662687586574</td><td>2.1445382422322568</td></tr>\n",
       "<tr><td>2459094.0 .. -0.4196603070013225</td><td>-509.72579913282163</td><td>2.060765226291087</td></tr>\n",
       "<tr><td>2459153.0 .. 0.4086529635824263</td><td>-568.9937161030304</td><td>2.5426901880442503</td></tr>\n",
       "<tr><td>2459414.0 .. -0.38700402015820146</td><td>-890.393571124307</td><td>1.8348910233038194</td></tr>\n",
       "<tr><td>2459564.0 .. 0.2751815845258534</td><td>-1129.5559472471546</td><td>2.0343942285249623</td></tr>\n",
       "</table>"
      ],
      "text/plain": [
       "<QTable length=30>\n",
       "             time [2]                     flux             flux_err     \n",
       "                d                        m / s              m / s       \n",
       "             float64                    float64            float64      \n",
       "--------------------------------- ------------------- ------------------\n",
       "2457594.0 .. -0.34120682859793305  368.57269437885606 2.1197645791859014\n",
       "2457596.0 .. -0.33164891554042697   363.7436673901377 1.9292559320919738\n",
       "2457605.0 .. -0.35905362851917744   363.2947609879404 2.4353706850341275\n",
       " 2457609.0 .. -0.3552225725725293  363.44968482330813  2.071301001326418\n",
       "2457626.0 .. -0.39635056536644697   357.6195918175518 2.2865024646363756\n",
       " 2457635.0 .. -0.4279789221473038  345.47360275795796 2.7210447228094123\n",
       " 2457645.0 .. -0.4587719738483429   343.7372715200439 2.4098539557767973\n",
       "2457673.0 .. -0.48520993907004595  338.86742184033426  1.770644680944298\n",
       " 2457753.0 .. 0.28393959533423185  308.38480360714016  2.240099835951476\n",
       "                              ...                 ...                ...\n",
       "  2458476.0 .. 0.3298227833583951  -52.93605943241846  1.352336007953663\n",
       " 2458664.0 .. -0.3386825602501631   -161.622647584823 1.8286660386030946\n",
       " 2458724.0 .. -0.4168454185128212 -201.93449488670575 2.0077362571025397\n",
       " 2458783.0 .. 0.44582826970145106 -245.82852768766043  1.778411438234725\n",
       "  2458844.0 .. 0.2612771149724722  -292.6374384856392 3.6201349783414707\n",
       " 2459034.0 .. -0.3513846383430064 -448.35662687586574 2.1445382422322568\n",
       " 2459094.0 .. -0.4196603070013225 -509.72579913282163  2.060765226291087\n",
       "  2459153.0 .. 0.4086529635824263  -568.9937161030304 2.5426901880442503\n",
       "2459414.0 .. -0.38700402015820146   -890.393571124307 1.8348910233038194\n",
       "  2459564.0 .. 0.2751815845258534 -1129.5559472471546 2.0343942285249623"
      ]
     },
     "execution_count": 19,
     "metadata": {},
     "output_type": "execute_result"
    }
   ],
   "source": [
    "read_rv_table = QTable.read(read_hdul['RV_CURVE'])\n",
    "read_rv_table"
   ]
  },
  {
   "cell_type": "markdown",
   "id": "a8ffe2fb",
   "metadata": {},
   "source": [
    "### Retrieve periodogram information"
   ]
  },
  {
   "cell_type": "code",
   "execution_count": 20,
   "id": "1d967fcb",
   "metadata": {
    "ExecuteTime": {
     "end_time": "2022-06-04T22:34:27.556822Z",
     "start_time": "2022-06-04T22:34:27.545824Z"
    }
   },
   "outputs": [
    {
     "data": {
      "text/plain": [
       "<astropy.io.fits.hdu.table.BinTableHDU at 0x2286225ce50>"
      ]
     },
     "execution_count": 20,
     "metadata": {},
     "output_type": "execute_result"
    }
   ],
   "source": [
    "read_hdul['GLS_PG']"
   ]
  },
  {
   "cell_type": "code",
   "execution_count": 21,
   "id": "c4ae8cb2",
   "metadata": {
    "ExecuteTime": {
     "end_time": "2022-06-04T22:34:29.711932Z",
     "start_time": "2022-06-04T22:34:29.697970Z"
    }
   },
   "outputs": [
    {
     "data": {
      "text/plain": [
       "XTENSION= 'BINTABLE'           / binary table extension                         \n",
       "BITPIX  =                    8 / array data type                                \n",
       "NAXIS   =                    2 / number of array dimensions                     \n",
       "NAXIS1  =                   16 / length of dimension 1                          \n",
       "NAXIS2  =              1000001 / length of dimension 2                          \n",
       "PCOUNT  =                    0 / number of group parameters                     \n",
       "GCOUNT  =                    1 / number of groups                               \n",
       "TFIELDS =                    2 / number of table fields                         \n",
       "TTYPE1  = 'freq    '                                                            \n",
       "TFORM1  = 'D       '                                                            \n",
       "TUNIT1  = 'd-1     '                                                            \n",
       "TTYPE2  = 'power   '                                                            \n",
       "TFORM2  = 'D       '                                                            \n",
       "TUNIT2  = 'm2 s-2  '                                                            \n",
       "EXTNAME = 'GLS_PG  '           / extension name                                 \n",
       "OBJECT  = 'J23556-061'         / KARMENES target name                           \n",
       "FUNIT   = 'd-1     '           / Unit for frequencies                           \n",
       "PUNIT   = 'd       '           / Unit for periods                               \n",
       "PK_FREQ =           17.2703712 / Frequency of the peak in periodogram           \n",
       "PK_POW  =   0.6068779440023848 / Power of the peak in periodogram               \n",
       "PK_SNR  =    2.053993623569572 / SNR of the peak in periodogram                 \n",
       "PK_FAP  =   0.6019657901778399 / FAP of the peak in periodogram                 \n",
       "RES_RMS =    216.2719253820862 / RMS of residuals in periodogram                \n",
       "FSAMPLE =  0.01671449428094905 / Inferred sampling frequency in RV curve        \n",
       "FNYQUIST=  0.03342898856189809 / Calculated Nyquist frequency value             \n",
       "FPOINTS =              1000001 / Number of points in periodogram                \n",
       "FBEG    =                  4.8 / Start frequency in periodogram                 \n",
       "FEND    =                  144 / End frequency in periodogram                   \n",
       "FRES    =            0.0001392 / Frequency resolution in periodogram            \n",
       "F       =           17.2703712 / Peak best estimate: frequency                  \n",
       "E_F     = 4.72827663336144E-05 / Peak best estimate: frequency error            \n",
       "P       =  0.05790263500532056 / Peak best estimate: period                     \n",
       "E_P     = 1.58525646574240E-07 / Peak best estimate: period error               \n",
       "A       =    444.2211556919194 / Peak best estimate: amplitude                  \n",
       "E_A     =    55.84117101713554 / Peak best estimate: amplitude error            \n",
       "PH      =   0.4564157145559132 / Peak best estimate: phase                      \n",
       "E_PH    =  0.02000669774849867 / Peak best estimate: phase error                \n",
       "T0      =    2457593.632365499 / Peak best estimate: frequency                  \n",
       "E_T0    = 0.001158440517393087 / Peak best estimate: frequency error            \n",
       "OFF     =    1.347249957760447 / Peak best estimate: offset                     \n",
       "E_OFF   =    39.48567069561424 / Peak best estimate: offset error               \n",
       "OFAC    =                   10 / Setup: oversampling factor                     \n",
       "HIFAC   =                   10 / Setup: maximum frequency factor                \n",
       "NORM    = 'ZK      '           / Setup: normalization type                      \n",
       "LS      =                    F / Setup: conventional Lomb-Scargle calculation   \n",
       "FAST    =                    F / Setup: fast evaluation, recursive trigonometric"
      ]
     },
     "execution_count": 21,
     "metadata": {},
     "output_type": "execute_result"
    }
   ],
   "source": [
    "read_hdul['GLS_PG'].header"
   ]
  },
  {
   "cell_type": "code",
   "execution_count": 22,
   "id": "4b1064ba",
   "metadata": {
    "ExecuteTime": {
     "end_time": "2022-06-04T22:34:33.263086Z",
     "start_time": "2022-06-04T22:34:33.225922Z"
    }
   },
   "outputs": [
    {
     "data": {
      "text/plain": [
       "FITS_rec([(4.8      , 0.13683312), (4.8001392, 0.09487836),\n",
       "          (4.8002784, 0.05846778), (4.8004176, 0.06067101),\n",
       "          (4.8005568, 0.05140661), (4.800696 , 0.0271297 ),\n",
       "          (4.8008352, 0.01164413), (4.8009744, 0.03357411),\n",
       "          (4.8011136, 0.04985145), (4.8012528, 0.02115892)],\n",
       "         dtype=(numpy.record, [('freq', '>f8'), ('power', '>f8')]))"
      ]
     },
     "execution_count": 22,
     "metadata": {},
     "output_type": "execute_result"
    }
   ],
   "source": [
    "read_hdul['GLS_PG'].data[:10]"
   ]
  },
  {
   "cell_type": "code",
   "execution_count": 23,
   "id": "d52143a8",
   "metadata": {
    "ExecuteTime": {
     "end_time": "2022-06-04T22:34:35.483543Z",
     "start_time": "2022-06-04T22:34:35.457573Z"
    }
   },
   "outputs": [
    {
     "data": {
      "text/html": [
       "<i>QTable length=1000001</i>\n",
       "<table id=\"table2372467620640\" class=\"table-striped table-bordered table-condensed\">\n",
       "<thead><tr><th>freq</th><th>power</th></tr></thead>\n",
       "<thead><tr><th>1 / d</th><th>m2 / s2</th></tr></thead>\n",
       "<thead><tr><th>float64</th><th>float64</th></tr></thead>\n",
       "<tr><td>4.8</td><td>0.13683311796629055</td></tr>\n",
       "<tr><td>4.800139199999999</td><td>0.0948783605035098</td></tr>\n",
       "<tr><td>4.8002784</td><td>0.05846777525653696</td></tr>\n",
       "<tr><td>4.800417599999999</td><td>0.06067101198181726</td></tr>\n",
       "<tr><td>4.8005568</td><td>0.05140660643892177</td></tr>\n",
       "<tr><td>4.800695999999999</td><td>0.027129703791002758</td></tr>\n",
       "<tr><td>4.8008352</td><td>0.011644130315211403</td></tr>\n",
       "<tr><td>4.800974399999999</td><td>0.03357410937868982</td></tr>\n",
       "<tr><td>4.8011136</td><td>0.049851445470453545</td></tr>\n",
       "<tr><td>...</td><td>...</td></tr>\n",
       "<tr><td>143.9987472</td><td>0.001205085712794423</td></tr>\n",
       "<tr><td>143.9988864</td><td>0.038647539800689704</td></tr>\n",
       "<tr><td>143.9990256</td><td>0.04728129400786243</td></tr>\n",
       "<tr><td>143.99916480000002</td><td>0.009368351734446622</td></tr>\n",
       "<tr><td>143.999304</td><td>0.042652567914807905</td></tr>\n",
       "<tr><td>143.9994432</td><td>0.12517680667142184</td></tr>\n",
       "<tr><td>143.9995824</td><td>0.10056690035097184</td></tr>\n",
       "<tr><td>143.99972160000002</td><td>0.014049011945264932</td></tr>\n",
       "<tr><td>143.9998608</td><td>0.015099429158556495</td></tr>\n",
       "<tr><td>144.0</td><td>0.050463816664207885</td></tr>\n",
       "</table>"
      ],
      "text/plain": [
       "<QTable length=1000001>\n",
       "       freq               power        \n",
       "      1 / d              m2 / s2       \n",
       "     float64             float64       \n",
       "------------------ --------------------\n",
       "               4.8  0.13683311796629055\n",
       " 4.800139199999999   0.0948783605035098\n",
       "         4.8002784  0.05846777525653696\n",
       " 4.800417599999999  0.06067101198181726\n",
       "         4.8005568  0.05140660643892177\n",
       " 4.800695999999999 0.027129703791002758\n",
       "         4.8008352 0.011644130315211403\n",
       " 4.800974399999999  0.03357410937868982\n",
       "         4.8011136 0.049851445470453545\n",
       "               ...                  ...\n",
       "       143.9987472 0.001205085712794423\n",
       "       143.9988864 0.038647539800689704\n",
       "       143.9990256  0.04728129400786243\n",
       "143.99916480000002 0.009368351734446622\n",
       "        143.999304 0.042652567914807905\n",
       "       143.9994432  0.12517680667142184\n",
       "       143.9995824  0.10056690035097184\n",
       "143.99972160000002 0.014049011945264932\n",
       "       143.9998608 0.015099429158556495\n",
       "             144.0 0.050463816664207885"
      ]
     },
     "execution_count": 23,
     "metadata": {},
     "output_type": "execute_result"
    }
   ],
   "source": [
    "read_pg_table = QTable.read(read_hdul['GLS_PG'])\n",
    "read_pg_table"
   ]
  },
  {
   "cell_type": "code",
   "execution_count": 24,
   "id": "6ef2a413",
   "metadata": {
    "ExecuteTime": {
     "end_time": "2022-06-04T22:34:37.591173Z",
     "start_time": "2022-06-04T22:34:37.577211Z"
    }
   },
   "outputs": [
    {
     "data": {
      "text/latex": [
       "$[4.8,~4.8001392,~4.8002784,~\\dots,~143.99958,~143.99972,~143.99986] \\; \\mathrm{\\frac{1}{d}}$"
      ],
      "text/plain": [
       "<Quantity [  4.8      ,   4.8001392,   4.8002784, ..., 143.9995824,\n",
       "           143.9997216, 143.9998608] 1 / d>"
      ]
     },
     "execution_count": 24,
     "metadata": {},
     "output_type": "execute_result"
    }
   ],
   "source": [
    "read_pg_table['freq'][:-1]"
   ]
  },
  {
   "cell_type": "code",
   "execution_count": 25,
   "id": "05dbbc26",
   "metadata": {
    "ExecuteTime": {
     "end_time": "2022-06-04T22:34:40.859583Z",
     "start_time": "2022-06-04T22:34:40.841630Z"
    }
   },
   "outputs": [
    {
     "data": {
      "text/latex": [
       "$[-0.0001392,~-0.0001392,~-0.0001392,~\\dots,~-0.0001392,~-0.0001392,~-0.0001392] \\; \\mathrm{\\frac{1}{d}}$"
      ],
      "text/plain": [
       "<Quantity [-0.0001392, -0.0001392, -0.0001392, ..., -0.0001392, -0.0001392,\n",
       "           -0.0001392] 1 / d>"
      ]
     },
     "execution_count": 25,
     "metadata": {},
     "output_type": "execute_result"
    }
   ],
   "source": [
    "diff_frecs = read_pg_table['freq'][:-1] - read_pg_table['freq'][1:]\n",
    "diff_frecs"
   ]
  },
  {
   "cell_type": "markdown",
   "id": "3d57e6fb",
   "metadata": {},
   "source": [
    "### Delete read information"
   ]
  },
  {
   "cell_type": "code",
   "execution_count": 26,
   "id": "b9968559",
   "metadata": {
    "ExecuteTime": {
     "end_time": "2022-06-04T22:35:23.983752Z",
     "start_time": "2022-06-04T22:35:23.961806Z"
    }
   },
   "outputs": [],
   "source": [
    "read_hdul.close()"
   ]
  },
  {
   "cell_type": "code",
   "execution_count": 27,
   "id": "12f40111",
   "metadata": {
    "ExecuteTime": {
     "end_time": "2022-06-04T22:35:25.474421Z",
     "start_time": "2022-06-04T22:35:25.457467Z"
    }
   },
   "outputs": [],
   "source": [
    "del read_hdul"
   ]
  },
  {
   "cell_type": "markdown",
   "id": "4fe95649",
   "metadata": {},
   "source": [
    "# Summary"
   ]
  },
  {
   "cell_type": "markdown",
   "id": "9c14f82f",
   "metadata": {},
   "source": [
    "**OBSERVATIONS AND CONCLUSIONS:**\n",
    "- We have completed the basic GLS periodogram calculation for the radial velocity (RV) curves of CARM_VIS GTO objetcs (NZP-corrected), and stored the results.\n",
    "- Some of the objects yielded errors, and some others yielded warnings. Those objects should be analized individually."
   ]
  },
  {
   "cell_type": "code",
   "execution_count": null,
   "id": "b6a548c3",
   "metadata": {},
   "outputs": [],
   "source": []
  }
 ],
 "metadata": {
  "kernelspec": {
   "display_name": "Python 3",
   "language": "python",
   "name": "python3"
  },
  "language_info": {
   "codemirror_mode": {
    "name": "ipython",
    "version": 3
   },
   "file_extension": ".py",
   "mimetype": "text/x-python",
   "name": "python",
   "nbconvert_exporter": "python",
   "pygments_lexer": "ipython3",
   "version": "3.8.8"
  },
  "toc": {
   "base_numbering": 1,
   "nav_menu": {},
   "number_sections": true,
   "sideBar": true,
   "skip_h1_title": true,
   "title_cell": "Table of Contents",
   "title_sidebar": "Contents",
   "toc_cell": false,
   "toc_position": {
    "height": "757px",
    "left": "66px",
    "top": "111.125px",
    "width": "292.797px"
   },
   "toc_section_display": true,
   "toc_window_display": true
  }
 },
 "nbformat": 4,
 "nbformat_minor": 5
}
