{
 "cells": [
  {
   "cell_type": "markdown",
   "id": "7e41b9a9",
   "metadata": {},
   "source": [
    "# RV BATCH FILE PROCESSING"
   ]
  },
  {
   "cell_type": "code",
   "execution_count": 1,
   "id": "c002a739",
   "metadata": {
    "ExecuteTime": {
     "end_time": "2022-03-26T09:13:06.954415Z",
     "start_time": "2022-03-26T09:13:06.942425Z"
    }
   },
   "outputs": [],
   "source": [
    "# NOTA IMPORTANTE - CÓMO IMPLEMENTAR LO DEL \"TIMEOUT\".\n",
    "# https://stackoverflow.com/questions/25027122/break-the-function-after-certain-time\n",
    "# NO SIRVE - SOLO SIRVE PARA ENTORNOS UNIX"
   ]
  },
  {
   "cell_type": "markdown",
   "id": "68d4ff82",
   "metadata": {},
   "source": [
    "This notebook takes the GTO objects table and calculates the Lomb-Scargle periodogram for each of the RV curves, storing the results in `FITS` files with a primary header and two additional header data units, one with the RV curve itself and another with the periodogram.\n",
    "\n",
    "Additionally, the GTO objects table and file is updated with new columns storing the results for each object.\n",
    "\n",
    "Error control is implemented to prevent exceptions and timeouts to interrupt the processing. In case any of these errors happen, it is so recorded in the results table. Timeout value is dinamically updated, as the calculation for each record is completed."
   ]
  },
  {
   "cell_type": "markdown",
   "id": "fec5c87e",
   "metadata": {},
   "source": [
    "**Calculation conditions:**\n",
    "\n",
    "The stars currently under analysis are in the $He_{3}$ instability band, so they are expected to have effective temperatures in the range $T_{eff}\\in[3300, 4300] K$, $\\log g\\in[4.5, 5.1]$, and masses in the range $M_{star}\\in[0.20, 0.60] M_{Sun}$.\n",
    "\n",
    "According to _Table 2_ in _The theoretical instability strip of M dwarf stars (Rodríguez-López, C., et al. 2014, MNRAS, 438, 2371)_ these stars have typical periods of $20 min$ to $3 h$, so we will set the limits of the periodogram frequencies for periods between $10 min$ and $5 h$. In days, this corresponds to a range of $P\\in[0.006944, 0.208333] d$ or, equivalently, frequencies in the range $f\\in[144, 4.8] d^{-1}$.\n",
    "\n",
    "We will use the _Generalized Lomb Scargle Periodogram_ method, as described in [Zechmeister and Kürster, 2009](https://www.aanda.org/articles/aa/full_html/2009/11/aa11296-08/aa11296-08.html) and implemented by GitHub repository [mzechmeister/GLS](https://github.com/mzechmeister/GLS), using the default _ZK_ normalization."
   ]
  },
  {
   "cell_type": "markdown",
   "id": "9d4512e5",
   "metadata": {},
   "source": [
    "## Modules and configuration"
   ]
  },
  {
   "cell_type": "markdown",
   "id": "a24b300e",
   "metadata": {},
   "source": [
    "### Modules"
   ]
  },
  {
   "cell_type": "code",
   "execution_count": 2,
   "id": "bf7cc337",
   "metadata": {
    "ExecuteTime": {
     "end_time": "2022-03-26T09:13:12.079371Z",
     "start_time": "2022-03-26T09:13:08.549526Z"
    }
   },
   "outputs": [],
   "source": [
    "# Modules import:\n",
    "#from collections import OrderedDict\n",
    "import pandas as pd\n",
    "import numpy as np\n",
    "import time\n",
    "\n",
    "#from scipy import stats\n",
    "\n",
    "# https://github.com/mzechmeister/GLS\n",
    "from gls import Gls\n",
    "\n",
    "from astropy.table import Table, QTable\n",
    "#from astropy.timeseries import TimeSeries\n",
    "from astropy import units as u\n",
    "from astropy.io import fits\n",
    "#from astropy.time import Time\n",
    "\n",
    "import lightkurve as lk\n",
    "\n",
    "#%matplotlib inline\n",
    "import matplotlib.pyplot as plt\n",
    "\n",
    "from pylab import rcParams\n",
    "rcParams['figure.figsize'] = 11, 11\n",
    "\n",
    "#import seaborn as sns\n",
    "#sns.set_style(\"white\", {'figure.figsize':(15,10)})\n",
    "#sns.set_style(\"whitegrid\")\n",
    "#sns.set(rc={'figure.figsize':(15,8)})"
   ]
  },
  {
   "cell_type": "markdown",
   "id": "be1f4594",
   "metadata": {},
   "source": [
    "### Configuration"
   ]
  },
  {
   "cell_type": "code",
   "execution_count": 3,
   "id": "f3feca3c",
   "metadata": {
    "ExecuteTime": {
     "end_time": "2022-03-26T09:13:12.095329Z",
     "start_time": "2022-03-26T09:13:12.080380Z"
    }
   },
   "outputs": [],
   "source": [
    "# Configuration:\n",
    "# Files and folders (WARNING: THIS FOLDER STRUCTURE MUST EXIST PREVIOUSLY):\n",
    "GTO_FILE = \"../data/GTO_objects_with_PG.csv\"\n",
    "IN_RV_FOLDER = \"../data/CARMENES_GTO_RVs/\"\n",
    "OUT_IMG_FOLDER = \"../data/CARMENES_GTO_RVs_PGs/figures/\"\n",
    "OUT_PROCESSED_FOLDER = \"../data/CARMENES_GTO_RVs_PGs/\"\n",
    "#OUT_GTO_FILE = \"../data/GTO_objects_withRVPG.csv\"\n",
    "#OUT_PG_FILE = \"../data/GTO_PGs.csv\"\n",
    "#OUT_ERROR_FILE = \"../data/GTO_PG_ERRORs.csv\"\n",
    "\n",
    "# Periodogram constants:\n",
    "FBEG = 4.8\n",
    "FEND = 144\n",
    "PBEG = None # Default\n",
    "PEND = None # Default\n",
    "OFAC = 10 # Default\n",
    "HIFAC = 1 # Default\n",
    "FREQ = np.linspace(start=FBEG, stop=FEND, num=1000001) # 1,000,001 points between 4.8 and 144 d^(-1)\n",
    "# Must be compatible with FBEG, FEND values\n",
    "NORM = \"ZK\" # Default\n",
    "LS = False # Default\n",
    "FAST = False # Default\n",
    "VERBOSE = False # Default\n",
    "FAP_LEVELS_PLOT = [0.01, 0.05, 0.10] # FAP reference levels to plot\n",
    "\n",
    "# Initial timeout value (to prevent a stuck file to interrupt the whole process)\n",
    "#INITIAL_TIMEOUT = 600 # Seconds\n"
   ]
  },
  {
   "cell_type": "code",
   "execution_count": 4,
   "id": "39b60e99",
   "metadata": {
    "ExecuteTime": {
     "end_time": "2022-03-26T09:13:12.111151Z",
     "start_time": "2022-03-26T09:13:12.097324Z"
    }
   },
   "outputs": [],
   "source": [
    "def rv_load(filename: str):\n",
    "    '''Load the RV file and returns a lightcurve object'''\n",
    "    rv_lk = Table.read(filename, format='ascii',\n",
    "                    names = ['time', 'RV', 'eRV'], units=[u.d, u.meter / u.second, u.meter / u.second])\n",
    "    rv_lk = lk.LightCurve(time=rv_lk['time'], flux=rv_lk['RV'], flux_err=rv_lk['eRV'])\n",
    "    return rv_lk"
   ]
  },
  {
   "cell_type": "code",
   "execution_count": 5,
   "id": "3b553ca2",
   "metadata": {
    "ExecuteTime": {
     "end_time": "2022-03-26T09:13:13.532311Z",
     "start_time": "2022-03-26T09:13:13.527325Z"
    }
   },
   "outputs": [],
   "source": [
    "def rv_infer_sampling(rv_lk: lk.LightCurve):\n",
    "    '''Infer sampling period from light curve'''\n",
    "    time_diffs = rv_lk['time'][1:] - rv_lk['time'][:-1]\n",
    "    return np.median(time_diffs)"
   ]
  },
  {
   "cell_type": "markdown",
   "id": "471bf7f4",
   "metadata": {},
   "source": [
    "## Data processing"
   ]
  },
  {
   "cell_type": "markdown",
   "id": "993e3a72",
   "metadata": {},
   "source": [
    "### GTO data loading"
   ]
  },
  {
   "cell_type": "code",
   "execution_count": 6,
   "id": "501a2ffe",
   "metadata": {
    "ExecuteTime": {
     "end_time": "2022-03-26T09:13:39.482124Z",
     "start_time": "2022-03-26T09:13:39.414215Z"
    }
   },
   "outputs": [
    {
     "data": {
      "text/html": [
       "<div>\n",
       "<style scoped>\n",
       "    .dataframe tbody tr th:only-of-type {\n",
       "        vertical-align: middle;\n",
       "    }\n",
       "\n",
       "    .dataframe tbody tr th {\n",
       "        vertical-align: top;\n",
       "    }\n",
       "\n",
       "    .dataframe thead th {\n",
       "        text-align: right;\n",
       "    }\n",
       "</style>\n",
       "<table border=\"1\" class=\"dataframe\">\n",
       "  <thead>\n",
       "    <tr style=\"text-align: right;\">\n",
       "      <th></th>\n",
       "      <th>Karmn</th>\n",
       "      <th>Name</th>\n",
       "      <th>Comp</th>\n",
       "      <th>GJ</th>\n",
       "      <th>RA_J2016_deg</th>\n",
       "      <th>DE_J2016_deg</th>\n",
       "      <th>RA_J2000</th>\n",
       "      <th>DE_J2000</th>\n",
       "      <th>l_J2016_deg</th>\n",
       "      <th>b_J2016_deg</th>\n",
       "      <th>...</th>\n",
       "      <th>T0_PG_RV</th>\n",
       "      <th>e_T0_PG_RV</th>\n",
       "      <th>offset_PG_RV</th>\n",
       "      <th>e_offset_PG_RV</th>\n",
       "      <th>FAP_PG_RV</th>\n",
       "      <th>valid_PG_RV</th>\n",
       "      <th>error_PG_RV</th>\n",
       "      <th>elapsed_time_PG_RV</th>\n",
       "      <th>fits_file_RV</th>\n",
       "      <th>fig_file_RV</th>\n",
       "    </tr>\n",
       "  </thead>\n",
       "  <tbody>\n",
       "    <tr>\n",
       "      <th>0</th>\n",
       "      <td>J23585+076</td>\n",
       "      <td>Wolf 1051</td>\n",
       "      <td>AB</td>\n",
       "      <td>4383</td>\n",
       "      <td>359.636420</td>\n",
       "      <td>7.656947</td>\n",
       "      <td>23:58:32.65</td>\n",
       "      <td>+07:39:30.1</td>\n",
       "      <td>100.839686</td>\n",
       "      <td>-52.931049</td>\n",
       "      <td>...</td>\n",
       "      <td>2.457588e+06</td>\n",
       "      <td>0.000316</td>\n",
       "      <td>115.722817</td>\n",
       "      <td>156.608198</td>\n",
       "      <td>0.000103</td>\n",
       "      <td>1.0</td>\n",
       "      <td>NaN</td>\n",
       "      <td>12.416590</td>\n",
       "      <td>../data/CARMENES_GTO_RVs_PGs/J23585+076_RV_PG....</td>\n",
       "      <td>../data/CARMENES_GTO_RVs_PGs/figures/J23585+07...</td>\n",
       "    </tr>\n",
       "    <tr>\n",
       "      <th>1</th>\n",
       "      <td>J23556-061</td>\n",
       "      <td>GJ 912</td>\n",
       "      <td>AB</td>\n",
       "      <td>912</td>\n",
       "      <td>358.913617</td>\n",
       "      <td>-6.144283</td>\n",
       "      <td>23:55:39.78</td>\n",
       "      <td>-06:08:33.4</td>\n",
       "      <td>88.129933</td>\n",
       "      <td>-65.175491</td>\n",
       "      <td>...</td>\n",
       "      <td>2.457594e+06</td>\n",
       "      <td>0.000186</td>\n",
       "      <td>-318.903353</td>\n",
       "      <td>39.740539</td>\n",
       "      <td>0.388162</td>\n",
       "      <td>1.0</td>\n",
       "      <td>NaN</td>\n",
       "      <td>12.882091</td>\n",
       "      <td>../data/CARMENES_GTO_RVs_PGs/J23556-061_RV_PG....</td>\n",
       "      <td>../data/CARMENES_GTO_RVs_PGs/figures/J23556-06...</td>\n",
       "    </tr>\n",
       "    <tr>\n",
       "      <th>2</th>\n",
       "      <td>J23548+385</td>\n",
       "      <td>RX J2354.8+3831</td>\n",
       "      <td>-</td>\n",
       "      <td>NaN</td>\n",
       "      <td>358.713658</td>\n",
       "      <td>38.526340</td>\n",
       "      <td>23:54:51.46</td>\n",
       "      <td>+38:31:36.2</td>\n",
       "      <td>110.941908</td>\n",
       "      <td>-23.024449</td>\n",
       "      <td>...</td>\n",
       "      <td>2.457593e+06</td>\n",
       "      <td>0.000215</td>\n",
       "      <td>-30.744512</td>\n",
       "      <td>2.841462</td>\n",
       "      <td>0.572330</td>\n",
       "      <td>1.0</td>\n",
       "      <td>NaN</td>\n",
       "      <td>11.376183</td>\n",
       "      <td>../data/CARMENES_GTO_RVs_PGs/J23548+385_RV_PG....</td>\n",
       "      <td>../data/CARMENES_GTO_RVs_PGs/figures/J23548+38...</td>\n",
       "    </tr>\n",
       "    <tr>\n",
       "      <th>3</th>\n",
       "      <td>J23505-095</td>\n",
       "      <td>LP 763-012</td>\n",
       "      <td>-</td>\n",
       "      <td>4367</td>\n",
       "      <td>357.634705</td>\n",
       "      <td>-9.560964</td>\n",
       "      <td>23:50:31.64</td>\n",
       "      <td>-09:33:32.7</td>\n",
       "      <td>80.777067</td>\n",
       "      <td>-67.303426</td>\n",
       "      <td>...</td>\n",
       "      <td>2.457595e+06</td>\n",
       "      <td>0.000766</td>\n",
       "      <td>-0.832199</td>\n",
       "      <td>0.426622</td>\n",
       "      <td>0.361327</td>\n",
       "      <td>1.0</td>\n",
       "      <td>NaN</td>\n",
       "      <td>12.862077</td>\n",
       "      <td>../data/CARMENES_GTO_RVs_PGs/J23505-095_RV_PG....</td>\n",
       "      <td>../data/CARMENES_GTO_RVs_PGs/figures/J23505-09...</td>\n",
       "    </tr>\n",
       "    <tr>\n",
       "      <th>4</th>\n",
       "      <td>J23492+024</td>\n",
       "      <td>BR Psc</td>\n",
       "      <td>-</td>\n",
       "      <td>908</td>\n",
       "      <td>357.306604</td>\n",
       "      <td>2.396918</td>\n",
       "      <td>23:49:12.53</td>\n",
       "      <td>+02:24:04.4</td>\n",
       "      <td>93.567467</td>\n",
       "      <td>-56.885396</td>\n",
       "      <td>...</td>\n",
       "      <td>2.457395e+06</td>\n",
       "      <td>0.005702</td>\n",
       "      <td>-2.146832</td>\n",
       "      <td>0.167937</td>\n",
       "      <td>0.020497</td>\n",
       "      <td>1.0</td>\n",
       "      <td>NaN</td>\n",
       "      <td>20.084430</td>\n",
       "      <td>../data/CARMENES_GTO_RVs_PGs/J23492+024_RV_PG....</td>\n",
       "      <td>../data/CARMENES_GTO_RVs_PGs/figures/J23492+02...</td>\n",
       "    </tr>\n",
       "  </tbody>\n",
       "</table>\n",
       "<p>5 rows × 217 columns</p>\n",
       "</div>"
      ],
      "text/plain": [
       "        Karmn             Name Comp    GJ  RA_J2016_deg  DE_J2016_deg  \\\n",
       "0  J23585+076        Wolf 1051   AB  4383    359.636420      7.656947   \n",
       "1  J23556-061           GJ 912   AB   912    358.913617     -6.144283   \n",
       "2  J23548+385  RX J2354.8+3831    -   NaN    358.713658     38.526340   \n",
       "3  J23505-095       LP 763-012    -  4367    357.634705     -9.560964   \n",
       "4  J23492+024           BR Psc    -   908    357.306604      2.396918   \n",
       "\n",
       "      RA_J2000     DE_J2000  l_J2016_deg  b_J2016_deg  ...      T0_PG_RV  \\\n",
       "0  23:58:32.65  +07:39:30.1   100.839686   -52.931049  ...  2.457588e+06   \n",
       "1  23:55:39.78  -06:08:33.4    88.129933   -65.175491  ...  2.457594e+06   \n",
       "2  23:54:51.46  +38:31:36.2   110.941908   -23.024449  ...  2.457593e+06   \n",
       "3  23:50:31.64  -09:33:32.7    80.777067   -67.303426  ...  2.457595e+06   \n",
       "4  23:49:12.53  +02:24:04.4    93.567467   -56.885396  ...  2.457395e+06   \n",
       "\n",
       "  e_T0_PG_RV  offset_PG_RV e_offset_PG_RV  FAP_PG_RV  valid_PG_RV  \\\n",
       "0   0.000316    115.722817     156.608198   0.000103          1.0   \n",
       "1   0.000186   -318.903353      39.740539   0.388162          1.0   \n",
       "2   0.000215    -30.744512       2.841462   0.572330          1.0   \n",
       "3   0.000766     -0.832199       0.426622   0.361327          1.0   \n",
       "4   0.005702     -2.146832       0.167937   0.020497          1.0   \n",
       "\n",
       "   error_PG_RV  elapsed_time_PG_RV  \\\n",
       "0          NaN           12.416590   \n",
       "1          NaN           12.882091   \n",
       "2          NaN           11.376183   \n",
       "3          NaN           12.862077   \n",
       "4          NaN           20.084430   \n",
       "\n",
       "                                        fits_file_RV  \\\n",
       "0  ../data/CARMENES_GTO_RVs_PGs/J23585+076_RV_PG....   \n",
       "1  ../data/CARMENES_GTO_RVs_PGs/J23556-061_RV_PG....   \n",
       "2  ../data/CARMENES_GTO_RVs_PGs/J23548+385_RV_PG....   \n",
       "3  ../data/CARMENES_GTO_RVs_PGs/J23505-095_RV_PG....   \n",
       "4  ../data/CARMENES_GTO_RVs_PGs/J23492+024_RV_PG....   \n",
       "\n",
       "                                         fig_file_RV  \n",
       "0  ../data/CARMENES_GTO_RVs_PGs/figures/J23585+07...  \n",
       "1  ../data/CARMENES_GTO_RVs_PGs/figures/J23556-06...  \n",
       "2  ../data/CARMENES_GTO_RVs_PGs/figures/J23548+38...  \n",
       "3  ../data/CARMENES_GTO_RVs_PGs/figures/J23505-09...  \n",
       "4  ../data/CARMENES_GTO_RVs_PGs/figures/J23492+02...  \n",
       "\n",
       "[5 rows x 217 columns]"
      ]
     },
     "execution_count": 6,
     "metadata": {},
     "output_type": "execute_result"
    }
   ],
   "source": [
    "# Load GTO data table:\n",
    "gto = pd.read_csv(GTO_FILE, sep=',', decimal='.')\n",
    "gto.head(5)"
   ]
  },
  {
   "cell_type": "code",
   "execution_count": 7,
   "id": "2e77fa32",
   "metadata": {
    "ExecuteTime": {
     "end_time": "2022-03-26T09:13:40.147326Z",
     "start_time": "2022-03-26T09:13:40.134361Z"
    }
   },
   "outputs": [
    {
     "name": "stdout",
     "output_type": "stream",
     "text": [
      "['Karmn', 'Name', 'Comp', 'GJ', 'RA_J2016_deg', 'DE_J2016_deg', 'RA_J2000', 'DE_J2000', 'l_J2016_deg', 'b_J2016_deg', 'Ref01', 'SpT', 'SpTnum', 'Ref02', 'Teff_K', 'eTeff_K', 'logg', 'elogg', '[Fe/H]', 'e[Fe/H]', 'Ref03', 'L_Lsol', 'eL_Lsol', 'Ref04', 'R_Rsol', 'eR_Rsol', 'Ref05', 'M_Msol', 'eM_Msol', 'Ref06', 'muRA_masa-1', 'emuRA_masa-1', 'muDE_masa-1', 'emuDE_masa-1', 'Ref07', 'pi_mas', 'epi_mas', 'Ref08', 'd_pc', 'ed_pc', 'Ref09', 'Vr_kms-1', 'eVr_kms-1', 'Ref10', 'ruwe', 'Ref11', 'U_kms-1', 'eU_kms-1', 'V_kms-1', 'eV_kms-1', 'W_kms-1', 'eW_kms-1', 'Ref12', 'sa_m/s/a', 'esa_m/s/a', 'Ref13', 'SKG', 'Ref14', 'SKG_lit', 'Ref14_lit', 'Pop', 'Ref15', 'vsini_flag', 'vsini_kms-1', 'evsini_kms-1', 'Ref16', 'P_d', 'eP_d', 'Ref17', 'pEWHalpha_A', 'epEWHalpha_A', 'Ref18', 'log(LHalpha/Lbol)', 'elog(LHalpha/Lbol)', 'Ref19', '1RXS', 'CRT_s-1', 'eCRT_s-1', 'HR1', 'eHR1', 'HR2', 'eHR2', 'Flux_X_E-13_ergcm-2s-1', 'eFlux_X_E-13_ergcm-2s-1', 'LX/LJ', 'eLX/LJ', 'Ref20', 'Activity', 'Ref21', 'FUV_mag', 'eFUV_mag', 'NUV_mag', 'eNUV_mag', 'Ref22', 'u_mag', 'eu_mag', 'Ref23', 'BT_mag', 'eBT_mag', 'Ref24', 'B_mag', 'eB_mag', 'Ref25', 'BP_mag', 'eBP_mag', 'Ref26', 'g_mag', 'eg_mag', 'Ref27', 'VT_mag', 'eVT_mag', 'Ref28', 'V_mag', 'eV_mag', 'Ref29', 'Ra_mag', 'Ref30', 'r_mag', 'er_mag', 'Ref31', 'GG_mag', 'eGG_mag', 'Ref32', 'i_mag', 'ei_mag', 'Ref33', 'RP_mag', 'eRP_mag', 'Ref34', 'IN_mag', 'Ref35', 'J_mag', 'eJ_mag', 'H_mag', 'eH_mag', 'Ks_mag', 'eKs_mag', 'QFlag_2M', 'Ref36', 'W1_mag', 'eW1_mag', 'W2_mag', 'eW2_mag', 'W3_mag', 'eW3_mag', 'W4_mag', 'eW4_mag', 'QFlag_WISE', 'Ref37', 'Multiplicity', 'WideWDS', 'Widerho_arcsec', 'eWiderho_arcsec', 'Ref38', 'WideCompanionName', 'WideCompanionSpT', 'CloseWDS', 'Closerho_arcsec', 'eCloserho_arcsec', 'Ref39', 'CloseCompanionSpT', 'RV', 'Planet', 'Ref40', 'PlanetNum', 'LoRes_spectrum', 'HiRes_spectrum', 'LoRes_imaging', 'HiRes_imaging', 'Class', 'Survey', 'Notes', 'Gaia_id_1', '2MASS_id', 'TIC_id', 'Teff_min_K', 'Teff_max_K', 'logg_min', 'logg_max', 'is_GTO', 'rv_file', 'lc_file', 'has_rv', 'has_lc', 'InstBand_nominal', 'InstBand_ranged', 'n_RV', 'Ps_RV', 'fs_RV', 'wmean_RV', 'wrms_RV', 'info_PG_RV', 'maxP_PG_RV', 'maxSNR_PG_RV', 'rms_PG_RV', 'f_PG_RV', 'e_f_PG_RV', 'Pd_PG_RV', 'e_Pd_PG_RV', 'Ph_PG_RV', 'e_Ph_PG_RV', 'Pm_PG_RV', 'e_Pm_PG_RV', 'A_PG_RV', 'e_A_PG_RV', 'ph_PG_RV', 'e_ph_PG_RV', 'T0_PG_RV', 'e_T0_PG_RV', 'offset_PG_RV', 'e_offset_PG_RV', 'FAP_PG_RV', 'valid_PG_RV', 'error_PG_RV', 'elapsed_time_PG_RV', 'fits_file_RV', 'fig_file_RV']\n"
     ]
    }
   ],
   "source": [
    "print(list(gto.columns))"
   ]
  },
  {
   "cell_type": "markdown",
   "id": "d9a9a082",
   "metadata": {},
   "source": [
    "Generate the proper auxiliary columns (with the basic periodograms results)."
   ]
  },
  {
   "cell_type": "code",
   "execution_count": 8,
   "id": "19c50c80",
   "metadata": {
    "ExecuteTime": {
     "end_time": "2022-03-26T09:13:41.301419Z",
     "start_time": "2022-03-26T09:13:41.290449Z"
    }
   },
   "outputs": [],
   "source": [
    "# Additional columns:\n",
    "if 'n_RV' in gto.columns:\n",
    "    pass\n",
    "else:\n",
    "    gto['n_RV'] = None # Number of points in RV curve\n",
    "    gto['Ps_RV'] = None # Sampling period (d)\n",
    "    gto['fs_RV'] = None # Sampling frequency (d^(-1))\n",
    "    gto['wmean_RV'] = None # Mean of RV\n",
    "    gto['wrms_RV'] = None # RMS of RV\n",
    "    gto['info_PG_RV'] = None # Information text about the PG\n",
    "    gto['maxP_PG_RV'] = None # Max power value in the PG\n",
    "    gto['maxSNR_PG_RV'] = None # Max power value in the PG\n",
    "    gto['rms_PG_RV'] = None # RMS value in the PG residuals\n",
    "    gto['f_PG_RV'] = None # Best frequency in the PG (d^(-1))\n",
    "    gto['e_f_PG_RV'] = None # Error of the best frequency in the PG (d^(-1))\n",
    "    gto['Pd_PG_RV'] = None # Best period in the PG (d)\n",
    "    gto['e_Pd_PG_RV'] = None # Error of the best period in the PG (d)\n",
    "    gto['Ph_PG_RV'] = None # Best period in the PG (hours)\n",
    "    gto['e_Ph_PG_RV'] = None # Error of the best period in the PG (hours)\n",
    "    gto['Pm_PG_RV'] = None # Best period in the PG (minutes)\n",
    "    gto['e_Pm_PG_RV'] = None # Error of the best period in the PG (minutes)\n",
    "    gto['A_PG_RV'] = None # Amplitude of the best frequency\n",
    "    gto['e_A_PG_RV'] = None # Error of the amplitude of the best frequency\n",
    "    gto['ph_PG_RV'] = None # Amplitude of the best frequency\n",
    "    gto['e_ph_PG_RV'] = None # Error of the amplitude of the best frequency\n",
    "    gto['T0_PG_RV'] = None # Reference epoch of the best frequency\n",
    "    gto['e_T0_PG_RV'] = None # Error of the epoch of the best frequency\n",
    "    gto['offset_PG_RV'] = None # Offset of the best frequency\n",
    "    gto['e_offset_PG_RV'] = None # Error of the offset of the best frequency\n",
    "    gto['FAP_PG_RV'] = None # False alarm probability\n",
    "    gto['valid_PG_RV'] = None # Flag to indicate if the periodogram calculation succeeded (1) or not (0).\n",
    "    gto['error_PG_RV'] = None # The error raised during processing. Empty if processing was successful.\n",
    "    gto['elapsed_time_PG_RV'] = None # The time elapsed in calculation\n",
    "    gto['fits_file_RV'] = None # The name of the processed file.\n",
    "    gto['fig_file_RV'] = None # The name of the figure file.\n"
   ]
  },
  {
   "cell_type": "markdown",
   "id": "597c96b4",
   "metadata": {},
   "source": [
    "### Batch processing of all RV files"
   ]
  },
  {
   "cell_type": "code",
   "execution_count": 9,
   "id": "69a20e73",
   "metadata": {
    "ExecuteTime": {
     "end_time": "2022-03-26T09:13:42.309267Z",
     "start_time": "2022-03-26T09:13:42.294308Z"
    }
   },
   "outputs": [
    {
     "data": {
      "text/plain": [
       "363"
      ]
     },
     "execution_count": 9,
     "metadata": {},
     "output_type": "execute_result"
    }
   ],
   "source": [
    "n = len(gto)\n",
    "n"
   ]
  },
  {
   "cell_type": "markdown",
   "id": "d26c8d44",
   "metadata": {},
   "source": [
    "#### Batch processing"
   ]
  },
  {
   "cell_type": "code",
   "execution_count": 10,
   "id": "74284415",
   "metadata": {
    "ExecuteTime": {
     "end_time": "2022-03-26T09:17:46.749197Z",
     "start_time": "2022-03-26T09:13:45.758945Z"
    },
    "scrolled": false
   },
   "outputs": [
    {
     "name": "stdout",
     "output_type": "stream",
     "text": [
      "Record: 345, started at 26/03/2022, 10:13:45\n",
      "Previous median lapse time: None\n",
      "Processing J01339-176 star...\n",
      "filename: ../data/CARMENES_GTO_RVs/J01339-176.dat\n"
     ]
    },
    {
     "name": "stderr",
     "output_type": "stream",
     "text": [
      "c:\\users\\ciroe\\gls.py:642: UserWarning: Matplotlib is currently using module://ipykernel.pylab.backend_inline, which is a non-GUI backend, so cannot show the figure.\n",
      "  fig.show()\n"
     ]
    },
    {
     "name": "stdout",
     "output_type": "stream",
     "text": [
      "Elapsed time: 13.37 seconds\n",
      "... SUCCESS.\n",
      "Record: 346, started at 26/03/2022, 10:13:59\n",
      "Previous median lapse time: 13.37 seconds\n",
      "Processing J01125-169 star...\n",
      "filename: ../data/CARMENES_GTO_RVs/J01125-169.dat\n"
     ]
    },
    {
     "name": "stderr",
     "output_type": "stream",
     "text": [
      "c:\\users\\ciroe\\gls.py:642: UserWarning: Matplotlib is currently using module://ipykernel.pylab.backend_inline, which is a non-GUI backend, so cannot show the figure.\n",
      "  fig.show()\n"
     ]
    },
    {
     "name": "stdout",
     "output_type": "stream",
     "text": [
      "Elapsed time: 13.66 seconds\n",
      "... SUCCESS.\n",
      "Record: 347, started at 26/03/2022, 10:14:12\n",
      "Previous median lapse time: 13.52 seconds\n",
      "Processing J01066+192 star...\n",
      "filename: ../data/CARMENES_GTO_RVs/J01066+192.dat\n"
     ]
    },
    {
     "name": "stderr",
     "output_type": "stream",
     "text": [
      "c:\\users\\ciroe\\gls.py:642: UserWarning: Matplotlib is currently using module://ipykernel.pylab.backend_inline, which is a non-GUI backend, so cannot show the figure.\n",
      "  fig.show()\n"
     ]
    },
    {
     "name": "stdout",
     "output_type": "stream",
     "text": [
      "Elapsed time: 12.59 seconds\n",
      "... SUCCESS.\n",
      "Record: 348, started at 26/03/2022, 10:14:25\n",
      "Previous median lapse time: 13.37 seconds\n",
      "Processing J01056+284 star...\n",
      "filename: ../data/CARMENES_GTO_RVs/J01056+284.dat\n"
     ]
    },
    {
     "name": "stderr",
     "output_type": "stream",
     "text": [
      "c:\\users\\ciroe\\gls.py:642: UserWarning: Matplotlib is currently using module://ipykernel.pylab.backend_inline, which is a non-GUI backend, so cannot show the figure.\n",
      "  fig.show()\n"
     ]
    },
    {
     "name": "stdout",
     "output_type": "stream",
     "text": [
      "Elapsed time: 12.15 seconds\n",
      "... SUCCESS.\n",
      "Record: 349, started at 26/03/2022, 10:14:37\n",
      "Previous median lapse time: 12.98 seconds\n",
      "Processing J01048-181 star...\n",
      "filename: ../data/CARMENES_GTO_RVs/J01048-181.dat\n"
     ]
    },
    {
     "name": "stderr",
     "output_type": "stream",
     "text": [
      "c:\\users\\ciroe\\gls.py:642: UserWarning: Matplotlib is currently using module://ipykernel.pylab.backend_inline, which is a non-GUI backend, so cannot show the figure.\n",
      "  fig.show()\n"
     ]
    },
    {
     "name": "stdout",
     "output_type": "stream",
     "text": [
      "Elapsed time: 14.23 seconds\n",
      "... SUCCESS.\n",
      "Record: 350, started at 26/03/2022, 10:14:52\n",
      "Previous median lapse time: 13.37 seconds\n",
      "Processing J01033+623 star...\n",
      "filename: ../data/CARMENES_GTO_RVs/J01033+623.dat\n"
     ]
    },
    {
     "name": "stderr",
     "output_type": "stream",
     "text": [
      "c:\\users\\ciroe\\gls.py:642: UserWarning: Matplotlib is currently using module://ipykernel.pylab.backend_inline, which is a non-GUI backend, so cannot show the figure.\n",
      "  fig.show()\n"
     ]
    },
    {
     "name": "stdout",
     "output_type": "stream",
     "text": [
      "Elapsed time: 12.41 seconds\n",
      "... SUCCESS.\n",
      "Record: 351, started at 26/03/2022, 10:15:04\n",
      "Previous median lapse time: 12.98 seconds\n",
      "Processing J01026+623 star...\n",
      "filename: ../data/CARMENES_GTO_RVs/J01026+623.dat\n"
     ]
    },
    {
     "name": "stderr",
     "output_type": "stream",
     "text": [
      "c:\\users\\ciroe\\gls.py:642: UserWarning: Matplotlib is currently using module://ipykernel.pylab.backend_inline, which is a non-GUI backend, so cannot show the figure.\n",
      "  fig.show()\n"
     ]
    },
    {
     "name": "stdout",
     "output_type": "stream",
     "text": [
      "Elapsed time: 13.48 seconds\n",
      "... SUCCESS.\n",
      "Record: 352, started at 26/03/2022, 10:15:17\n",
      "Previous median lapse time: 13.37 seconds\n",
      "Processing J01025+716 star...\n",
      "filename: ../data/CARMENES_GTO_RVs/J01025+716.dat\n"
     ]
    },
    {
     "name": "stderr",
     "output_type": "stream",
     "text": [
      "c:\\users\\ciroe\\gls.py:642: UserWarning: Matplotlib is currently using module://ipykernel.pylab.backend_inline, which is a non-GUI backend, so cannot show the figure.\n",
      "  fig.show()\n"
     ]
    },
    {
     "name": "stdout",
     "output_type": "stream",
     "text": [
      "Elapsed time: 13.68 seconds\n",
      "... SUCCESS.\n",
      "Record: 353, started at 26/03/2022, 10:15:31\n",
      "Previous median lapse time: 13.42 seconds\n",
      "Processing J01019+541 star...\n",
      "filename: ../data/CARMENES_GTO_RVs/J01019+541.dat\n"
     ]
    },
    {
     "name": "stderr",
     "output_type": "stream",
     "text": [
      "c:\\users\\ciroe\\gls.py:642: UserWarning: Matplotlib is currently using module://ipykernel.pylab.backend_inline, which is a non-GUI backend, so cannot show the figure.\n",
      "  fig.show()\n"
     ]
    },
    {
     "name": "stdout",
     "output_type": "stream",
     "text": [
      "Elapsed time: 11.64 seconds\n",
      "... SUCCESS.\n",
      "Record: 354, started at 26/03/2022, 10:15:43\n",
      "Previous median lapse time: 13.37 seconds\n",
      "Processing J01013+613 star...\n",
      "filename: ../data/CARMENES_GTO_RVs/J01013+613.dat\n"
     ]
    },
    {
     "name": "stderr",
     "output_type": "stream",
     "text": [
      "c:\\users\\ciroe\\gls.py:642: UserWarning: Matplotlib is currently using module://ipykernel.pylab.backend_inline, which is a non-GUI backend, so cannot show the figure.\n",
      "  fig.show()\n"
     ]
    },
    {
     "name": "stdout",
     "output_type": "stream",
     "text": [
      "Elapsed time: 12.50 seconds\n",
      "... SUCCESS.\n",
      "Record: 355, started at 26/03/2022, 10:15:55\n",
      "Previous median lapse time: 12.98 seconds\n",
      "Processing J00570+450 star...\n",
      "filename: ../data/CARMENES_GTO_RVs/J00570+450.dat\n"
     ]
    },
    {
     "name": "stderr",
     "output_type": "stream",
     "text": [
      "c:\\users\\ciroe\\gls.py:642: UserWarning: Matplotlib is currently using module://ipykernel.pylab.backend_inline, which is a non-GUI backend, so cannot show the figure.\n",
      "  fig.show()\n"
     ]
    },
    {
     "name": "stdout",
     "output_type": "stream",
     "text": [
      "Elapsed time: 12.01 seconds\n",
      "... SUCCESS.\n",
      "Record: 356, started at 26/03/2022, 10:16:07\n",
      "Previous median lapse time: 12.59 seconds\n",
      "Processing J00403+612 star...\n",
      "filename: ../data/CARMENES_GTO_RVs/J00403+612.dat\n"
     ]
    },
    {
     "name": "stderr",
     "output_type": "stream",
     "text": [
      "c:\\users\\ciroe\\gls.py:642: UserWarning: Matplotlib is currently using module://ipykernel.pylab.backend_inline, which is a non-GUI backend, so cannot show the figure.\n",
      "  fig.show()\n"
     ]
    },
    {
     "name": "stdout",
     "output_type": "stream",
     "text": [
      "Elapsed time: 12.45 seconds\n",
      "... SUCCESS.\n",
      "Record: 357, started at 26/03/2022, 10:16:20\n",
      "Previous median lapse time: 12.54 seconds\n",
      "Processing J00389+306 star...\n",
      "filename: ../data/CARMENES_GTO_RVs/J00389+306.dat\n"
     ]
    },
    {
     "name": "stderr",
     "output_type": "stream",
     "text": [
      "c:\\users\\ciroe\\gls.py:642: UserWarning: Matplotlib is currently using module://ipykernel.pylab.backend_inline, which is a non-GUI backend, so cannot show the figure.\n",
      "  fig.show()\n"
     ]
    },
    {
     "name": "stdout",
     "output_type": "stream",
     "text": [
      "Elapsed time: 13.06 seconds\n",
      "... SUCCESS.\n",
      "Record: 358, started at 26/03/2022, 10:16:33\n",
      "Previous median lapse time: 12.59 seconds\n",
      "Processing J00286-066 star...\n",
      "filename: ../data/CARMENES_GTO_RVs/J00286-066.dat\n"
     ]
    },
    {
     "name": "stderr",
     "output_type": "stream",
     "text": [
      "c:\\users\\ciroe\\gls.py:642: UserWarning: Matplotlib is currently using module://ipykernel.pylab.backend_inline, which is a non-GUI backend, so cannot show the figure.\n",
      "  fig.show()\n"
     ]
    },
    {
     "name": "stdout",
     "output_type": "stream",
     "text": [
      "Elapsed time: 13.76 seconds\n",
      "... SUCCESS.\n",
      "Record: 359, started at 26/03/2022, 10:16:47\n",
      "Previous median lapse time: 12.83 seconds\n",
      "Processing J00184+440 star...\n",
      "filename: ../data/CARMENES_GTO_RVs/J00184+440.dat\n"
     ]
    },
    {
     "name": "stderr",
     "output_type": "stream",
     "text": [
      "c:\\users\\ciroe\\gls.py:642: UserWarning: Matplotlib is currently using module://ipykernel.pylab.backend_inline, which is a non-GUI backend, so cannot show the figure.\n",
      "  fig.show()\n"
     ]
    },
    {
     "name": "stdout",
     "output_type": "stream",
     "text": [
      "Elapsed time: 16.59 seconds\n",
      "... SUCCESS.\n",
      "Record: 360, started at 26/03/2022, 10:17:03\n",
      "Previous median lapse time: 13.06 seconds\n",
      "Processing J00183+440 star...\n",
      "filename: ../data/CARMENES_GTO_RVs/J00183+440.dat\n"
     ]
    },
    {
     "name": "stderr",
     "output_type": "stream",
     "text": [
      "c:\\users\\ciroe\\gls.py:642: UserWarning: Matplotlib is currently using module://ipykernel.pylab.backend_inline, which is a non-GUI backend, so cannot show the figure.\n",
      "  fig.show()\n"
     ]
    },
    {
     "name": "stdout",
     "output_type": "stream",
     "text": [
      "Elapsed time: 17.00 seconds\n",
      "... SUCCESS.\n",
      "Record: 361, started at 26/03/2022, 10:17:21\n",
      "Previous median lapse time: 13.22 seconds\n",
      "Processing J00067-075 star...\n",
      "filename: ../data/CARMENES_GTO_RVs/J00067-075.dat\n"
     ]
    },
    {
     "name": "stderr",
     "output_type": "stream",
     "text": [
      "c:\\users\\ciroe\\gls.py:642: UserWarning: Matplotlib is currently using module://ipykernel.pylab.backend_inline, which is a non-GUI backend, so cannot show the figure.\n",
      "  fig.show()\n"
     ]
    },
    {
     "name": "stdout",
     "output_type": "stream",
     "text": [
      "Elapsed time: 13.37 seconds\n",
      "... SUCCESS.\n",
      "Record: 362, started at 26/03/2022, 10:17:34\n",
      "Previous median lapse time: 13.37 seconds\n",
      "Processing J00051+457 star...\n",
      "filename: ../data/CARMENES_GTO_RVs/J00051+457.dat\n"
     ]
    },
    {
     "name": "stderr",
     "output_type": "stream",
     "text": [
      "c:\\users\\ciroe\\gls.py:642: UserWarning: Matplotlib is currently using module://ipykernel.pylab.backend_inline, which is a non-GUI backend, so cannot show the figure.\n",
      "  fig.show()\n"
     ]
    },
    {
     "name": "stdout",
     "output_type": "stream",
     "text": [
      "Elapsed time: 12.27 seconds\n",
      "... SUCCESS.\n"
     ]
    }
   ],
   "source": [
    "# Batch processing:\n",
    "lapse_list = []\n",
    "median_lapse = None\n",
    "# NOTE THE FOR LOOP IS SEPARATED INTO SEVERAL \"BATCHES\", SO AS TO PREVENT POTENTIAL MEMORY PROBLEMS\n",
    "# OR TOO MUCH TIME ELAPSED\n",
    "#for i in range(0, 3):\n",
    "#for i in range(0, 99): # Record 99 fails and takes too long to complete.\n",
    "#for i in range(100, 200): # Record 99 fails and takes too long to complete.\n",
    "#for i in range(200, 273): # Record 273 fails and gets stuck.\n",
    "#for i in range(274, 344): # Records 273 and 344 fail and get stuck.\n",
    "for i in range(345, len(gto)): # Record 344 fails and gets stuck.\n",
    "    start_time = time.time()\n",
    "    # Names:\n",
    "    karmn = gto.loc[i, 'Karmn'] # KARMENES name\n",
    "    commn = gto.loc[i, 'Name'] # Common name\n",
    "    tic_id = str(gto.loc[i, 'TIC_id']) # TESS TIC identifier\n",
    "    print(\"Record: %d, started at %s\"\n",
    "          %(i, time.strftime('%d/%m/%Y, %H:%M:%S', time.localtime(start_time))))\n",
    "    if median_lapse is None:\n",
    "        print(\"Previous median lapse time: %s\" %median_lapse)\n",
    "    else:\n",
    "        print(\"Previous median lapse time: %.2f seconds\" %median_lapse)\n",
    "    print(\"Processing %s star...\" %karmn)\n",
    "    try:\n",
    "        # LOAD RV FILE:\n",
    "        rv_file = gto.loc[i, 'rv_file']\n",
    "        print(\"filename: %s\" %rv_file)\n",
    "        rv_lk = rv_load(rv_file)\n",
    "        \n",
    "        # GENERATE PERIODOGRAM:\n",
    "        gls = Gls((rv_lk['time'].value, rv_lk['flux'].value, rv_lk['flux_err'].value),\n",
    "              fbeg=FBEG, fend=FEND, Pbeg=PBEG, Pend=PEND, ofac=OFAC, hifac=HIFAC, freq=FREQ,\n",
    "              norm=NORM, ls=LS, fast=FAST, verbose=VERBOSE)\n",
    "        \n",
    "        # GENERATE THE FITS FILE:\n",
    "        # Prepare the fits primary HDU (only header):\n",
    "        primary_header = fits.Header()\n",
    "        primary_header['OBJECT'] = (karmn, \"KARMENES target name\")\n",
    "        primary_header['NAME'] = (commn, \"Object common name\")\n",
    "        primary_header['TIC'] = (tic_id, \"Object TESS identifier\")\n",
    "        primary_header['RA_J2000'] = (\"00:05:10.89\", \"Object right ascension (J2000)\")\n",
    "        primary_header['DE_J2000'] = (\"+45:47:11.6\", \"Object declination (J2000)\")\n",
    "        primary_header['SPTYPE'] = (\"M1.0 V\", \"Spectral type\")\n",
    "        primary_header['TEFF_K'] = (3773, \"Effective temperature in Kelvin\")\n",
    "        primary_header['LOGG'] = (5.07, \"Logarithm of surface gravity\")\n",
    "        primary_header['FEH'] = (-0.04, \"Metallicity\")\n",
    "        primary_header['L_LSUN'] = (0.0436229, \"Luminosity in Solar luminosities\")\n",
    "        primary_header['R_RSUN'] = (0.48881, \"Radius in Solar radii\")\n",
    "        primary_header['M_MSUN'] = (0.4918, \"Mass in Solar masses\")\n",
    "        primary_header['D_PC'] = (11.50352803, \"Distance in parsec\")\n",
    "        hdu_primary = fits.PrimaryHDU(header=primary_header)\n",
    "\n",
    "        # Prepare the RV HDU:\n",
    "        hdu_rv = fits.table_to_hdu(QTable(rv_lk.to_table()))\n",
    "        hdu_rv.name = \"RV_CURVE\"\n",
    "        psample = rv_infer_sampling(rv_lk).value\n",
    "        fsample = 1.0 / psample\n",
    "        fnyq = 2.0 * fsample\n",
    "        freq_units = u.d ** (-1)\n",
    "        hdu_rv.header['OBJECT'] = (karmn, \"KARMENES target name\")\n",
    "        hdu_rv.header['PUNIT'] = u.d.to_string(format='fits')\n",
    "        hdu_rv.header['FUNIT'] = freq_units.to_string(format='fits')\n",
    "        hdu_rv.header['RVPOINTS'] = (gls.N, \"Number of points in the RV curve\")\n",
    "        hdu_rv.header['AVGFLUX'] = (gls._Y, \"Average flux of RV curve\")\n",
    "        hdu_rv.header['RMSFLUX'] = (gls._YY, \"Flux RMS of RV curve\")\n",
    "        hdu_rv.header['PSAMPLE'] = (psample, \"Inferred cadence in RV curve\")\n",
    "        hdu_rv.header['FSAMPLE'] = (fsample, \"Inferred sampling frequency in RV curve\")\n",
    "        hdu_rv.header['FNYQUIST'] = (fnyq, \"Calculated Nyquist frequency value\")\n",
    "                \n",
    "        # Prepare the PG HDU:\n",
    "        hdu_pg = fits.table_to_hdu(\n",
    "            QTable(data=[gls.freq, gls.power], names=['freq', 'power'], \n",
    "                   units=[1.0 / u.d, (u.m / u.s) ** 2]))\n",
    "        hdu_pg.name = \"GLS_PG\"\n",
    "        fpoints = len(gls.f)\n",
    "        fres = (gls.fend - gls.fbeg) / (fpoints - 1)\n",
    "        hdu_pg.header['OBJECT'] = (karmn, \"KARMENES target name\")\n",
    "        hdu_pg.header['FUNIT'] = (freq_units.to_string(format='fits'), \"Unit for frequencies\")\n",
    "        hdu_pg.header['PUNIT'] = (u.d.to_string(format='fits'), \"Unit for periods\")\n",
    "        hdu_pg.header['PK_FREQ'] = (gls.best['f'], \"Frequency of the peak in periodogram\")\n",
    "        hdu_pg.header['PK_POW'] = (gls.pmax, \"Power of the peak in periodogram\")\n",
    "        hdu_pg.header['PK_SNR'] = (gls.best['amp'] / gls.rms, \"SNR of the peak in periodogram\")\n",
    "        hdu_pg.header['PK_FAP'] = (gls.FAP(Pn=None), \"FAP of the peak in periodogram\")\n",
    "        hdu_pg.header['RES_RMS'] = (gls.rms, \"RMS of residuals in periodogram\")\n",
    "        hdu_pg.header['FSAMPLE'] = (fsample, \"Inferred sampling frequency in RV curve\")\n",
    "        hdu_pg.header['FNYQUIST'] = (fnyq, \"Calculated Nyquist frequency value\")\n",
    "        hdu_pg.header['FPOINTS'] = (fpoints, \"Number of points in periodogram\")\n",
    "        hdu_pg.header['FBEG'] = (gls.fbeg, \"Start frequency in periodogram\")\n",
    "        hdu_pg.header['FEND'] = (gls.fend, \"End frequency in periodogram\")\n",
    "        hdu_pg.header['FRES'] = (fres, \"Frequency resolution in periodogram\")\n",
    "        hdu_pg.header['F'] = (gls.best['f'], \"Peak best estimate: frequency\")\n",
    "        hdu_pg.header['E_F'] = (gls.best['e_f'], \"Peak best estimate: frequency error\")\n",
    "        hdu_pg.header['P'] = (gls.best['P'], \"Peak best estimate: period\")\n",
    "        hdu_pg.header['E_P'] = (gls.best['e_P'], \"Peak best estimate: period error\")\n",
    "        hdu_pg.header['A'] = (gls.best['amp'], \"Peak best estimate: amplitude\")\n",
    "        hdu_pg.header['E_A'] = (gls.best['e_amp'], \"Peak best estimate: amplitude error\")\n",
    "        hdu_pg.header['PH'] = (gls.best['ph'], \"Peak best estimate: phase\")\n",
    "        hdu_pg.header['E_PH'] = (gls.best['e_ph'], \"Peak best estimate: phase error\")\n",
    "        hdu_pg.header['T0'] = (gls.best['T0'], \"Peak best estimate: frequency\")\n",
    "        hdu_pg.header['E_T0'] = (gls.best['e_T0'], \"Peak best estimate: frequency error\")\n",
    "        hdu_pg.header['OFF'] = (gls.best['offset'], \"Peak best estimate: offset\")\n",
    "        hdu_pg.header['E_OFF'] = (gls.best['e_offset'], \"Peak best estimate: offset error\")\n",
    "        hdu_pg.header['OFAC'] = (gls.ofac, \"Setup: oversampling factor\")\n",
    "        hdu_pg.header['HIFAC'] = (gls.ofac, \"Setup: maximum frequency factor\")\n",
    "        hdu_pg.header['NORM'] = (gls.norm, \"Setup: normalization type\")\n",
    "        hdu_pg.header['LS'] = (gls.ls, \"Setup: conventional Lomb-Scargle calculation\")\n",
    "        hdu_pg.header['FAST'] = (gls.fast, \"Setup: fast evaluation, recursive trigonometric\")\n",
    "        \n",
    "        # Create and save the fits file:\n",
    "        fits_filename = OUT_PROCESSED_FOLDER + karmn + \"_RV_PG.fits\"\n",
    "        hdul = fits.HDUList([hdu_primary, hdu_rv, hdu_pg])\n",
    "        hdul.writeto(fits_filename, overwrite=True)\n",
    "        \n",
    "        # Delete all the HDUs:\n",
    "        del hdul\n",
    "        del hdu_primary\n",
    "        del hdu_rv\n",
    "        del hdu_pg\n",
    "\n",
    "        # FILL IN THE DATA IN THE GTO TABLE:\n",
    "        gto.loc[i, 'n_RV'] = gls.N\n",
    "        gto.loc[i, 'Ps_RV'] = psample\n",
    "        gto.loc[i, 'fs_RV'] = fsample\n",
    "        gto.loc[i, 'wmean_RV'] = gls._Y\n",
    "        gto.loc[i, 'wrms_RV'] = gls._YY\n",
    "        gto.loc[i, 'info_PG_RV'] = gls.info(stdout=False)\n",
    "        gto.loc[i, 'maxP_PG_RV'] = gls.power.max()\n",
    "        gto.loc[i, 'maxSNR_PG_RV'] = gls.best['amp'] / gls.rms\n",
    "        gto.loc[i, 'rms_PG_RV'] = gls.rms\n",
    "        gto.loc[i, 'f_PG_RV'] = gls.best['f']\n",
    "        gto.loc[i, 'e_f_PG_RV'] = gls.best['e_f']\n",
    "        gto.loc[i, 'Pd_PG_RV'] = gls.best['P']\n",
    "        gto.loc[i, 'e_Pd_PG_RV'] = gls.best['e_P']\n",
    "        gto.loc[i, 'Ph_PG_RV'] = 24.0 * gls.best['P']\n",
    "        gto.loc[i, 'e_Ph_PG_RV'] = 24.0 * gls.best['e_P']\n",
    "        gto.loc[i, 'Pm_PG_RV'] = 24.0 * 60.0 * gls.best['P']\n",
    "        gto.loc[i, 'e_Pm_PG_RV'] = 24.0 * 60.0 * gls.best['e_P']\n",
    "        gto.loc[i, 'A_PG_RV'] = gls.best['amp']\n",
    "        gto.loc[i, 'e_A_PG_RV'] = gls.best['e_amp']\n",
    "        gto.loc[i, 'ph_PG_RV'] = gls.best['ph']\n",
    "        gto.loc[i, 'e_ph_PG_RV'] = gls.best['e_ph']\n",
    "        gto.loc[i, 'T0_PG_RV'] = gls.best['T0']\n",
    "        gto.loc[i, 'e_T0_PG_RV'] = gls.best['e_T0']\n",
    "        gto.loc[i, 'offset_PG_RV'] = gls.best['offset']\n",
    "        gto.loc[i, 'e_offset_PG_RV'] = gls.best['e_offset']\n",
    "        gto.loc[i, 'FAP_PG_RV'] = gls.FAP(Pn=None)\n",
    "        \n",
    "        # GENERATE THE FIGURE:\n",
    "        fig = gls.plot(block=False, period=False,\n",
    "                       fap=FAP_LEVELS_PLOT, gls=True, data=True, residuals=True)\n",
    "        figure_title = \"%s, P=%.4f [min], FAP=%.4f%%\" \\\n",
    "            %(karmn, gto.loc[i, 'Pm_PG_RV'], 100.0 * gto.loc[i, 'FAP_PG_RV'])\n",
    "        fig.suptitle(figure_title, fontdict = {'fontsize' : 36})\n",
    "        fig.tight_layout()\n",
    "        # Save the figure to disk:\n",
    "        fig_file = OUT_IMG_FOLDER + karmn + \"_RV_PG.png\"\n",
    "        fig.savefig(fig_file)\n",
    "        plt.close() # Prevent the figure from showing.\n",
    "\n",
    "        # SET THE RECORD CALCULATION AS VALID AND STORE THE REULTING FILENAMES\n",
    "        gto.loc[i, 'valid_PG_RV'] = 1\n",
    "        gto.loc[i, 'error_PG_RV'] = \"\"\n",
    "        gto.loc[i, 'fits_file_RV'] = fits_filename\n",
    "        gto.loc[i, 'fig_file_RV'] = fig_file\n",
    "\n",
    "        # UPDATE THE AVERAGE RECORD PROCESSING TIME:\n",
    "        lapse = time.time() - start_time\n",
    "        lapse_list.append(lapse)\n",
    "        median_lapse = np.nanmedian(lapse_list)\n",
    "        gto.loc[i, 'elapsed_time_PG_RV'] = lapse\n",
    "        \n",
    "        # SAVE THE UPDATED GTO TABLE TO DISK:\n",
    "        gto.to_csv(GTO_FILE, sep=',', decimal='.', index=False)\n",
    "        \n",
    "        # Report successful execution:\n",
    "        print(\"Elapsed time: %.2f seconds\" %lapse)\n",
    "        print(\"... SUCCESS.\")\n",
    "        \n",
    "    except Exception as e:\n",
    "        # Some error happened, establish the record as not valid and record the error:\n",
    "        error = \"*** Some ERROR happened with record #%d, %s star. Error=%s\" %(i, karmn, e)\n",
    "        print(error)\n",
    "        gto.loc[i, 'valid_PG_RV'] = 0\n",
    "        gto.loc[i, 'error_PG_RV'] = e\n",
    "        \n",
    "        # Try to update the record, and save the file:\n",
    "        try:\n",
    "            # UPDATE THE AVERAGE RECORD PROCESSING TIME:\n",
    "            lapse = time.time() - start_time\n",
    "            lapse_list.append(lapse)\n",
    "            median_lapse = np.nanmedian(lapse_list)\n",
    "            gto.loc[i, 'elapsed_time_PG_RV'] = lapse\n",
    "            print(\"Elapsed time: %.2f seconds\" %lapse)\n",
    "\n",
    "            # SAVE THE UPDATED GTO TABLE TO DISK:\n",
    "            gto.to_csv(GTO_FILE, sep=',', decimal='.', index=False)\n",
    "        except Exception as e2:\n",
    "            error_2 = \"*** Additional ERROR happened with record #%d, %s star. Error=%s\" %(i, karmn, str(e2))\n",
    "            print(error)\n",
    "            gto.loc[i, 'error_PG_RV'] = gto.loc[i, 'error_PG_RV'] + \"/\" + str(e2)\n",
    "\n"
   ]
  },
  {
   "cell_type": "markdown",
   "id": "6dee85cb",
   "metadata": {},
   "source": [
    "## Review a given file"
   ]
  },
  {
   "cell_type": "code",
   "execution_count": 11,
   "id": "fc313c4a",
   "metadata": {
    "ExecuteTime": {
     "end_time": "2022-03-26T09:28:14.924811Z",
     "start_time": "2022-03-26T09:28:14.911858Z"
    }
   },
   "outputs": [],
   "source": [
    "object_name = \"J23556-061\""
   ]
  },
  {
   "cell_type": "code",
   "execution_count": 12,
   "id": "b38f1025",
   "metadata": {
    "ExecuteTime": {
     "end_time": "2022-03-26T09:28:15.534445Z",
     "start_time": "2022-03-26T09:28:15.510536Z"
    }
   },
   "outputs": [
    {
     "data": {
      "text/plain": [
       "[<astropy.io.fits.hdu.image.PrimaryHDU object at 0x00000140A428B3D0>, <astropy.io.fits.hdu.table.BinTableHDU object at 0x000001409E073670>, <astropy.io.fits.hdu.table.BinTableHDU object at 0x00000140A436CC70>]"
      ]
     },
     "execution_count": 12,
     "metadata": {},
     "output_type": "execute_result"
    }
   ],
   "source": [
    "read_hdul = fits.open(OUT_PROCESSED_FOLDER + object_name + \"_RV_PG.fits\", mode='update', memmap=False)\n",
    "read_hdul"
   ]
  },
  {
   "cell_type": "code",
   "execution_count": 13,
   "id": "af53d9ed",
   "metadata": {
    "ExecuteTime": {
     "end_time": "2022-03-26T09:28:16.185352Z",
     "start_time": "2022-03-26T09:28:16.174380Z"
    }
   },
   "outputs": [
    {
     "name": "stdout",
     "output_type": "stream",
     "text": [
      "Filename: ../data/CARMENES_GTO_RVs_PGs/J23556-061_RV_PG.fits\n",
      "No.    Name      Ver    Type      Cards   Dimensions   Format\n",
      "  0  PRIMARY       1 PrimaryHDU      17   ()      \n",
      "  1  RV_CURVE      1 BinTableHDU     33   30R x 3C   [2D, D, D]   \n",
      "  2  GLS_PG        1 BinTableHDU     45   1000001R x 2C   [D, D]   \n"
     ]
    }
   ],
   "source": [
    "read_hdul.info()"
   ]
  },
  {
   "cell_type": "markdown",
   "id": "b64bfc19",
   "metadata": {
    "ExecuteTime": {
     "end_time": "2022-03-13T10:44:13.485181Z",
     "start_time": "2022-03-13T10:44:13.467228Z"
    }
   },
   "source": [
    "### Retrieve basic information"
   ]
  },
  {
   "cell_type": "code",
   "execution_count": 14,
   "id": "bf8ec911",
   "metadata": {
    "ExecuteTime": {
     "end_time": "2022-03-26T09:28:17.973218Z",
     "start_time": "2022-03-26T09:28:17.966236Z"
    }
   },
   "outputs": [
    {
     "data": {
      "text/plain": [
       "SIMPLE  =                    T / conforms to FITS standard                      \n",
       "BITPIX  =                    8 / array data type                                \n",
       "NAXIS   =                    0 / number of array dimensions                     \n",
       "EXTEND  =                    T                                                  \n",
       "OBJECT  = 'J23556-061'         / KARMENES target name                           \n",
       "NAME    = 'GJ 912  '           / Object common name                             \n",
       "TIC     = '9759680 '           / Object TESS identifier                         \n",
       "RA_J2000= '00:05:10.89'        / Object right ascension (J2000)                 \n",
       "DE_J2000= '+45:47:11.6'        / Object declination (J2000)                     \n",
       "SPTYPE  = 'M1.0 V  '           / Spectral type                                  \n",
       "TEFF_K  =                 3773 / Effective temperature in Kelvin                \n",
       "LOGG    =                 5.07 / Logarithm of surface gravity                   \n",
       "FEH     =                -0.04 / Metallicity                                    \n",
       "L_LSUN  =            0.0436229 / Luminosity in Solar luminosities               \n",
       "R_RSUN  =              0.48881 / Radius in Solar radii                          \n",
       "M_MSUN  =               0.4918 / Mass in Solar masses                           \n",
       "D_PC    =          11.50352803 / Distance in parsec                             "
      ]
     },
     "execution_count": 14,
     "metadata": {},
     "output_type": "execute_result"
    }
   ],
   "source": [
    "read_hdul['PRIMARY'].header"
   ]
  },
  {
   "cell_type": "markdown",
   "id": "faa3d359",
   "metadata": {},
   "source": [
    "### Retrieve RV curve information"
   ]
  },
  {
   "cell_type": "code",
   "execution_count": 15,
   "id": "3b196156",
   "metadata": {
    "ExecuteTime": {
     "end_time": "2022-03-26T09:28:19.210988Z",
     "start_time": "2022-03-26T09:28:19.199020Z"
    }
   },
   "outputs": [
    {
     "data": {
      "text/plain": [
       "<astropy.io.fits.hdu.table.BinTableHDU at 0x1409e073670>"
      ]
     },
     "execution_count": 15,
     "metadata": {},
     "output_type": "execute_result"
    }
   ],
   "source": [
    "read_hdul['RV_CURVE']"
   ]
  },
  {
   "cell_type": "code",
   "execution_count": 16,
   "id": "ad8b26e9",
   "metadata": {
    "ExecuteTime": {
     "end_time": "2022-03-26T09:28:19.597442Z",
     "start_time": "2022-03-26T09:28:19.582484Z"
    }
   },
   "outputs": [
    {
     "data": {
      "text/plain": [
       "XTENSION= 'BINTABLE'           / binary table extension                         \n",
       "BITPIX  =                    8 / array data type                                \n",
       "NAXIS   =                    2 / number of array dimensions                     \n",
       "NAXIS1  =                   32 / length of dimension 1                          \n",
       "NAXIS2  =                   30 / length of dimension 2                          \n",
       "PCOUNT  =                    0 / number of group parameters                     \n",
       "GCOUNT  =                    1 / number of groups                               \n",
       "TFIELDS =                    3 / number of table fields                         \n",
       "TIMESYS = 'UTC     '           / Default time scale                             \n",
       "JDREF   =                  0.0 / Time columns are jd = jd1 + jd2                \n",
       "TREFPOS = 'TOPOCENTER'         / Time reference position                        \n",
       "TTYPE1  = 'time    '                                                            \n",
       "TFORM1  = '2D      '                                                            \n",
       "TUNIT1  = 'd       '                                                            \n",
       "TDIM1   = '(2)     '                                                            \n",
       "TCTYP1  = 'TDB     '                                                            \n",
       "TCUNI1  = 'd       '                                                            \n",
       "TTYPE2  = 'flux    '                                                            \n",
       "TFORM2  = 'D       '                                                            \n",
       "TUNIT2  = 'm s-1   '                                                            \n",
       "TTYPE3  = 'flux_err'                                                            \n",
       "TFORM3  = 'D       '                                                            \n",
       "TUNIT3  = 'm s-1   '                                                            \n",
       "EXTNAME = 'RV_CURVE'           / extension name                                 \n",
       "OBJECT  = 'J23556-061'         / KARMENES target name                           \n",
       "PUNIT   = 'd       '                                                            \n",
       "FUNIT   = 'd-1     '                                                            \n",
       "RVPOINTS=                   30 / Number of points in the RV curve               \n",
       "AVGFLUX =   -181.8068431333531 / Average flux of RV curve                       \n",
       "RMSFLUX =    126265.7236629535 / Flux RMS of RV curve                           \n",
       "PSAMPLE =    59.82831000024453 / Inferred cadence in RV curve                   \n",
       "FSAMPLE =  0.01671449519459789 / Inferred sampling frequency in RV curve        \n",
       "FNYQUIST=  0.03342899038919578 / Calculated Nyquist frequency value             "
      ]
     },
     "execution_count": 16,
     "metadata": {},
     "output_type": "execute_result"
    }
   ],
   "source": [
    "read_hdul['RV_CURVE'].header"
   ]
  },
  {
   "cell_type": "code",
   "execution_count": 17,
   "id": "1ac50efb",
   "metadata": {
    "ExecuteTime": {
     "end_time": "2022-03-26T09:28:20.143890Z",
     "start_time": "2022-03-26T09:28:20.126934Z"
    }
   },
   "outputs": [
    {
     "data": {
      "text/plain": [
       "FITS_rec([([ 2.457594e+06, -3.412100e-01], 195.56986007, 1.85112283),\n",
       "          ([ 2.457596e+06, -3.316500e-01], 192.46123284, 1.88503475),\n",
       "          ([ 2.457605e+06, -3.590500e-01], 189.27936195, 1.72742755),\n",
       "          ([ 2.457609e+06, -3.552200e-01], 186.0802168 , 1.83573092),\n",
       "          ([ 2.457626e+06, -3.963500e-01], 178.80402101, 1.93055664),\n",
       "          ([ 2.457635e+06, -4.279800e-01], 166.50448593, 2.33815054),\n",
       "          ([ 2.457645e+06, -4.587700e-01], 166.28886297, 2.22307642),\n",
       "          ([ 2.457673e+06, -4.852100e-01], 162.55695165, 1.66384634),\n",
       "          ([ 2.457753e+06,  2.839400e-01], 134.57988318, 1.78942741),\n",
       "          ([ 2.457932e+06, -3.602700e-01],  46.79777861, 2.11953017)],\n",
       "         dtype=(numpy.record, [('time', '>f8', (2,)), ('flux', '>f8'), ('flux_err', '>f8')]))"
      ]
     },
     "execution_count": 17,
     "metadata": {},
     "output_type": "execute_result"
    }
   ],
   "source": [
    "read_hdul['RV_CURVE'].data[:10]"
   ]
  },
  {
   "cell_type": "code",
   "execution_count": 18,
   "id": "d9cf03e7",
   "metadata": {
    "ExecuteTime": {
     "end_time": "2022-03-26T09:28:21.244696Z",
     "start_time": "2022-03-26T09:28:21.114854Z"
    }
   },
   "outputs": [
    {
     "data": {
      "text/html": [
       "<i>QTable length=30</i>\n",
       "<table id=\"table1382621475888\" class=\"table-striped table-bordered table-condensed\">\n",
       "<thead><tr><th>time [2]</th><th>flux</th><th>flux_err</th></tr></thead>\n",
       "<thead><tr><th>d</th><th>m / s</th><th>m / s</th></tr></thead>\n",
       "<thead><tr><th>float64</th><th>float64</th><th>float64</th></tr></thead>\n",
       "<tr><td>2457594.0 .. -0.3412100002169609</td><td>195.569860066</td><td>1.85112283278</td></tr>\n",
       "<tr><td>2457596.0 .. -0.3316500000655651</td><td>192.461232841</td><td>1.88503475377</td></tr>\n",
       "<tr><td>2457605.0 .. -0.35905000008642673</td><td>189.279361954</td><td>1.72742754679</td></tr>\n",
       "<tr><td>2457609.0 .. -0.35521999979391694</td><td>186.080216805</td><td>1.83573091694</td></tr>\n",
       "<tr><td>2457626.0 .. -0.3963500000536442</td><td>178.804021008</td><td>1.93055664008</td></tr>\n",
       "<tr><td>2457635.0 .. -0.42798000015318394</td><td>166.504485934</td><td>2.33815054118</td></tr>\n",
       "<tr><td>2457645.0 .. -0.458769999910146</td><td>166.288862972</td><td>2.22307641691</td></tr>\n",
       "<tr><td>2457673.0 .. -0.4852100000716746</td><td>162.556951648</td><td>1.66384634491</td></tr>\n",
       "<tr><td>2457753.0 .. 0.2839399999938905</td><td>134.57988318</td><td>1.78942740512</td></tr>\n",
       "<tr><td>...</td><td>...</td><td>...</td></tr>\n",
       "<tr><td>2458476.0 .. 0.32982000010088086</td><td>-226.070404696</td><td>1.11381018399</td></tr>\n",
       "<tr><td>2458664.0 .. -0.33868000004440546</td><td>-334.54644851</td><td>1.71298765418</td></tr>\n",
       "<tr><td>2458724.0 .. -0.416850000154227</td><td>-374.812798497</td><td>1.53476410136</td></tr>\n",
       "<tr><td>2458783.0 .. 0.4458300000987947</td><td>-419.469871074</td><td>1.56597136688</td></tr>\n",
       "<tr><td>2458844.0 .. 0.26128000020980835</td><td>-466.053845422</td><td>2.09107973747</td></tr>\n",
       "<tr><td>2459034.0 .. -0.3513799998909235</td><td>-622.075418229</td><td>1.83953135508</td></tr>\n",
       "<tr><td>2459094.0 .. -0.41966000013053417</td><td>-681.540055337</td><td>1.92693729905</td></tr>\n",
       "<tr><td>2459153.0 .. 0.4086500001139939</td><td>-743.466174739</td><td>2.28445503651</td></tr>\n",
       "<tr><td>2459414.0 .. -0.38700000010430813</td><td>-1063.59318992</td><td>1.62776326512</td></tr>\n",
       "<tr><td>2459564.0 .. 0.2751799998804927</td><td>-1304.64003767</td><td>1.50938003765</td></tr>\n",
       "</table>"
      ],
      "text/plain": [
       "<QTable length=30>\n",
       "             time [2]                  flux         flux_err  \n",
       "                d                     m / s          m / s    \n",
       "             float64                 float64        float64   \n",
       "--------------------------------- -------------- -------------\n",
       " 2457594.0 .. -0.3412100002169609  195.569860066 1.85112283278\n",
       " 2457596.0 .. -0.3316500000655651  192.461232841 1.88503475377\n",
       "2457605.0 .. -0.35905000008642673  189.279361954 1.72742754679\n",
       "2457609.0 .. -0.35521999979391694  186.080216805 1.83573091694\n",
       " 2457626.0 .. -0.3963500000536442  178.804021008 1.93055664008\n",
       "2457635.0 .. -0.42798000015318394  166.504485934 2.33815054118\n",
       "  2457645.0 .. -0.458769999910146  166.288862972 2.22307641691\n",
       " 2457673.0 .. -0.4852100000716746  162.556951648 1.66384634491\n",
       "  2457753.0 .. 0.2839399999938905   134.57988318 1.78942740512\n",
       "                              ...            ...           ...\n",
       " 2458476.0 .. 0.32982000010088086 -226.070404696 1.11381018399\n",
       "2458664.0 .. -0.33868000004440546  -334.54644851 1.71298765418\n",
       "  2458724.0 .. -0.416850000154227 -374.812798497 1.53476410136\n",
       "  2458783.0 .. 0.4458300000987947 -419.469871074 1.56597136688\n",
       " 2458844.0 .. 0.26128000020980835 -466.053845422 2.09107973747\n",
       " 2459034.0 .. -0.3513799998909235 -622.075418229 1.83953135508\n",
       "2459094.0 .. -0.41966000013053417 -681.540055337 1.92693729905\n",
       "  2459153.0 .. 0.4086500001139939 -743.466174739 2.28445503651\n",
       "2459414.0 .. -0.38700000010430813 -1063.59318992 1.62776326512\n",
       "  2459564.0 .. 0.2751799998804927 -1304.64003767 1.50938003765"
      ]
     },
     "execution_count": 18,
     "metadata": {},
     "output_type": "execute_result"
    }
   ],
   "source": [
    "read_rv_table = QTable.read(read_hdul['RV_CURVE'])\n",
    "read_rv_table"
   ]
  },
  {
   "cell_type": "markdown",
   "id": "a8ffe2fb",
   "metadata": {},
   "source": [
    "### Retrieve periodogram information"
   ]
  },
  {
   "cell_type": "code",
   "execution_count": 19,
   "id": "1d967fcb",
   "metadata": {
    "ExecuteTime": {
     "end_time": "2022-03-26T09:28:24.181238Z",
     "start_time": "2022-03-26T09:28:24.175254Z"
    }
   },
   "outputs": [
    {
     "data": {
      "text/plain": [
       "<astropy.io.fits.hdu.table.BinTableHDU at 0x140a436cc70>"
      ]
     },
     "execution_count": 19,
     "metadata": {},
     "output_type": "execute_result"
    }
   ],
   "source": [
    "read_hdul['GLS_PG']"
   ]
  },
  {
   "cell_type": "code",
   "execution_count": 20,
   "id": "c4ae8cb2",
   "metadata": {
    "ExecuteTime": {
     "end_time": "2022-03-26T09:28:24.632558Z",
     "start_time": "2022-03-26T09:28:24.613609Z"
    }
   },
   "outputs": [
    {
     "data": {
      "text/plain": [
       "XTENSION= 'BINTABLE'           / binary table extension                         \n",
       "BITPIX  =                    8 / array data type                                \n",
       "NAXIS   =                    2 / number of array dimensions                     \n",
       "NAXIS1  =                   16 / length of dimension 1                          \n",
       "NAXIS2  =              1000001 / length of dimension 2                          \n",
       "PCOUNT  =                    0 / number of group parameters                     \n",
       "GCOUNT  =                    1 / number of groups                               \n",
       "TFIELDS =                    2 / number of table fields                         \n",
       "TTYPE1  = 'freq    '                                                            \n",
       "TFORM1  = 'D       '                                                            \n",
       "TUNIT1  = 'd-1     '                                                            \n",
       "TTYPE2  = 'power   '                                                            \n",
       "TFORM2  = 'D       '                                                            \n",
       "TUNIT2  = 'm2 s-2  '                                                            \n",
       "EXTNAME = 'GLS_PG  '           / extension name                                 \n",
       "OBJECT  = 'J23556-061'         / KARMENES target name                           \n",
       "FUNIT   = 'd-1     '           / Unit for frequencies                           \n",
       "PUNIT   = 'd       '           / Unit for periods                               \n",
       "PK_FREQ =           85.4953536 / Frequency of the peak in periodogram           \n",
       "PK_POW  =   0.6247650441921376 / Power of the peak in periodogram               \n",
       "PK_SNR  =    2.579027821078437 / SNR of the peak in periodogram                 \n",
       "RES_RMS =    217.6678966653468 / RMS of residuals in periodogram                \n",
       "FSAMPLE =  0.01671449519459789 / Inferred sampling frequency in RV curve        \n",
       "FNYQUIST=  0.03342899038919578 / Calculated Nyquist frequency value             \n",
       "FPOINTS =              1000001 / Number of points in periodogram                \n",
       "FBEG    =                  4.8 / Start frequency in periodogram                 \n",
       "FEND    =                  144 / End frequency in periodogram                   \n",
       "FRES    =            0.0001392 / Frequency resolution in periodogram            \n",
       "F       =           85.4953536 / Peak best estimate: frequency                  \n",
       "E_F     = 3.85913353314469E-05 / Peak best estimate: frequency error            \n",
       "P       =  0.01169654206798906 / Peak best estimate: period                     \n",
       "E_P     = 5.27964571356708E-09 / Peak best estimate: period error               \n",
       "A       =    561.3715612555558 / Peak best estimate: amplitude                  \n",
       "E_A     =    56.20160925259234 / Peak best estimate: amplitude error            \n",
       "PH      =    0.219145005757418 / Peak best estimate: phase                      \n",
       "E_PH    =  0.01593376747169653 / Peak best estimate: phase error                \n",
       "T0      =    2457593.656226761 / Peak best estimate: frequency                  \n",
       "E_T0    = 0.000186369981534254 / Peak best estimate: frequency error            \n",
       "OFF     =   -318.9033533829309 / Peak best estimate: offset                     \n",
       "E_OFF   =    39.74053901610466 / Peak best estimate: offset error               \n",
       "OFAC    =                   10 / Setup: oversampling factor                     \n",
       "HIFAC   =                   10 / Setup: maximum frequency factor                \n",
       "NORM    = 'ZK      '           / Setup: normalization type                      \n",
       "LS      =                    F / Setup: conventional Lomb-Scargle calculation   \n",
       "FAST    =                    F / Setup: fast evaluation, recursive trigonometric"
      ]
     },
     "execution_count": 20,
     "metadata": {},
     "output_type": "execute_result"
    }
   ],
   "source": [
    "read_hdul['GLS_PG'].header"
   ]
  },
  {
   "cell_type": "code",
   "execution_count": 21,
   "id": "4b1064ba",
   "metadata": {
    "ExecuteTime": {
     "end_time": "2022-03-26T09:28:25.314244Z",
     "start_time": "2022-03-26T09:28:25.287184Z"
    }
   },
   "outputs": [
    {
     "data": {
      "text/plain": [
       "FITS_rec([(4.8      , 0.12799914), (4.8001392, 0.09985237),\n",
       "          (4.8002784, 0.06952694), (4.8004176, 0.06138789),\n",
       "          (4.8005568, 0.03964894), (4.800696 , 0.01273945),\n",
       "          (4.8008352, 0.00875169), (4.8009744, 0.05022524),\n",
       "          (4.8011136, 0.06408642), (4.8012528, 0.02046232)],\n",
       "         dtype=(numpy.record, [('freq', '>f8'), ('power', '>f8')]))"
      ]
     },
     "execution_count": 21,
     "metadata": {},
     "output_type": "execute_result"
    }
   ],
   "source": [
    "read_hdul['GLS_PG'].data[:10]"
   ]
  },
  {
   "cell_type": "code",
   "execution_count": 22,
   "id": "d52143a8",
   "metadata": {
    "ExecuteTime": {
     "end_time": "2022-03-26T09:28:26.058983Z",
     "start_time": "2022-03-26T09:28:26.031840Z"
    }
   },
   "outputs": [
    {
     "data": {
      "text/html": [
       "<i>QTable length=1000001</i>\n",
       "<table id=\"table1376931549488\" class=\"table-striped table-bordered table-condensed\">\n",
       "<thead><tr><th>freq</th><th>power</th></tr></thead>\n",
       "<thead><tr><th>1 / d</th><th>m2 / s2</th></tr></thead>\n",
       "<thead><tr><th>float64</th><th>float64</th></tr></thead>\n",
       "<tr><td>4.8</td><td>0.12799913602578103</td></tr>\n",
       "<tr><td>4.800139199999999</td><td>0.09985237299792721</td></tr>\n",
       "<tr><td>4.8002784</td><td>0.06952694083381224</td></tr>\n",
       "<tr><td>4.800417599999999</td><td>0.06138788996233141</td></tr>\n",
       "<tr><td>4.8005568</td><td>0.03964893838246647</td></tr>\n",
       "<tr><td>4.800695999999999</td><td>0.012739452471143798</td></tr>\n",
       "<tr><td>4.8008352</td><td>0.00875169139046003</td></tr>\n",
       "<tr><td>4.800974399999999</td><td>0.050225237454027974</td></tr>\n",
       "<tr><td>4.8011136</td><td>0.06408642475244636</td></tr>\n",
       "<tr><td>...</td><td>...</td></tr>\n",
       "<tr><td>143.9987472</td><td>0.00793306809850482</td></tr>\n",
       "<tr><td>143.9988864</td><td>0.05081913176951652</td></tr>\n",
       "<tr><td>143.9990256</td><td>0.04763233422497996</td></tr>\n",
       "<tr><td>143.99916480000002</td><td>0.0006382739632212138</td></tr>\n",
       "<tr><td>143.999304</td><td>0.042612583602673185</td></tr>\n",
       "<tr><td>143.9994432</td><td>0.12494790730001423</td></tr>\n",
       "<tr><td>143.9995824</td><td>0.08735623234245984</td></tr>\n",
       "<tr><td>143.99972160000002</td><td>0.012045567674477366</td></tr>\n",
       "<tr><td>143.9998608</td><td>0.02258091555776169</td></tr>\n",
       "<tr><td>144.0</td><td>0.06247611085618004</td></tr>\n",
       "</table>"
      ],
      "text/plain": [
       "<QTable length=1000001>\n",
       "       freq                power        \n",
       "      1 / d               m2 / s2       \n",
       "     float64              float64       \n",
       "------------------ ---------------------\n",
       "               4.8   0.12799913602578103\n",
       " 4.800139199999999   0.09985237299792721\n",
       "         4.8002784   0.06952694083381224\n",
       " 4.800417599999999   0.06138788996233141\n",
       "         4.8005568   0.03964893838246647\n",
       " 4.800695999999999  0.012739452471143798\n",
       "         4.8008352   0.00875169139046003\n",
       " 4.800974399999999  0.050225237454027974\n",
       "         4.8011136   0.06408642475244636\n",
       "               ...                   ...\n",
       "       143.9987472   0.00793306809850482\n",
       "       143.9988864   0.05081913176951652\n",
       "       143.9990256   0.04763233422497996\n",
       "143.99916480000002 0.0006382739632212138\n",
       "        143.999304  0.042612583602673185\n",
       "       143.9994432   0.12494790730001423\n",
       "       143.9995824   0.08735623234245984\n",
       "143.99972160000002  0.012045567674477366\n",
       "       143.9998608   0.02258091555776169\n",
       "             144.0   0.06247611085618004"
      ]
     },
     "execution_count": 22,
     "metadata": {},
     "output_type": "execute_result"
    }
   ],
   "source": [
    "read_pg_table = QTable.read(read_hdul['GLS_PG'])\n",
    "read_pg_table"
   ]
  },
  {
   "cell_type": "code",
   "execution_count": 23,
   "id": "6ef2a413",
   "metadata": {
    "ExecuteTime": {
     "end_time": "2022-03-26T09:28:26.463501Z",
     "start_time": "2022-03-26T09:28:26.454525Z"
    }
   },
   "outputs": [
    {
     "data": {
      "text/latex": [
       "$[4.8,~4.8001392,~4.8002784,~\\dots,~143.99958,~143.99972,~143.99986] \\; \\mathrm{\\frac{1}{d}}$"
      ],
      "text/plain": [
       "<Quantity [  4.8      ,   4.8001392,   4.8002784, ..., 143.9995824,\n",
       "           143.9997216, 143.9998608] 1 / d>"
      ]
     },
     "execution_count": 23,
     "metadata": {},
     "output_type": "execute_result"
    }
   ],
   "source": [
    "read_pg_table['freq'][:-1]"
   ]
  },
  {
   "cell_type": "code",
   "execution_count": 24,
   "id": "05dbbc26",
   "metadata": {
    "ExecuteTime": {
     "end_time": "2022-03-26T09:28:27.190261Z",
     "start_time": "2022-03-26T09:28:27.175333Z"
    }
   },
   "outputs": [
    {
     "data": {
      "text/latex": [
       "$[-0.0001392,~-0.0001392,~-0.0001392,~\\dots,~-0.0001392,~-0.0001392,~-0.0001392] \\; \\mathrm{\\frac{1}{d}}$"
      ],
      "text/plain": [
       "<Quantity [-0.0001392, -0.0001392, -0.0001392, ..., -0.0001392, -0.0001392,\n",
       "           -0.0001392] 1 / d>"
      ]
     },
     "execution_count": 24,
     "metadata": {},
     "output_type": "execute_result"
    }
   ],
   "source": [
    "diff_frecs = read_pg_table['freq'][:-1] - read_pg_table['freq'][1:]\n",
    "diff_frecs"
   ]
  },
  {
   "cell_type": "markdown",
   "id": "3d57e6fb",
   "metadata": {},
   "source": [
    "### Delete read information"
   ]
  },
  {
   "cell_type": "code",
   "execution_count": 25,
   "id": "b9968559",
   "metadata": {
    "ExecuteTime": {
     "end_time": "2022-03-26T09:28:28.445189Z",
     "start_time": "2022-03-26T09:28:28.422251Z"
    }
   },
   "outputs": [],
   "source": [
    "read_hdul.close()"
   ]
  },
  {
   "cell_type": "code",
   "execution_count": 26,
   "id": "12f40111",
   "metadata": {
    "ExecuteTime": {
     "end_time": "2022-03-26T09:28:32.406045Z",
     "start_time": "2022-03-26T09:28:32.391087Z"
    }
   },
   "outputs": [],
   "source": [
    "del read_hdul"
   ]
  },
  {
   "cell_type": "markdown",
   "id": "4fe95649",
   "metadata": {},
   "source": [
    "# Summary"
   ]
  },
  {
   "cell_type": "markdown",
   "id": "9c14f82f",
   "metadata": {},
   "source": [
    "**OBSERVATIONS AND CONCLUSIONS:**\n",
    "- We have completed the basic GLS periodogram calculation for the radial velocity (RV) curves of GTO objetcs, and stored the results.\n",
    "- Some of the objects yielded errors, and some others yielded warnings. Those objects should be analized individually."
   ]
  },
  {
   "cell_type": "code",
   "execution_count": null,
   "id": "b6a548c3",
   "metadata": {},
   "outputs": [],
   "source": []
  }
 ],
 "metadata": {
  "kernelspec": {
   "display_name": "Python 3",
   "language": "python",
   "name": "python3"
  },
  "language_info": {
   "codemirror_mode": {
    "name": "ipython",
    "version": 3
   },
   "file_extension": ".py",
   "mimetype": "text/x-python",
   "name": "python",
   "nbconvert_exporter": "python",
   "pygments_lexer": "ipython3",
   "version": "3.8.8"
  },
  "toc": {
   "base_numbering": 1,
   "nav_menu": {},
   "number_sections": true,
   "sideBar": true,
   "skip_h1_title": true,
   "title_cell": "Table of Contents",
   "title_sidebar": "Contents",
   "toc_cell": false,
   "toc_position": {
    "height": "calc(100% - 180px)",
    "left": "10px",
    "top": "150px",
    "width": "303.837px"
   },
   "toc_section_display": true,
   "toc_window_display": true
  }
 },
 "nbformat": 4,
 "nbformat_minor": 5
}
