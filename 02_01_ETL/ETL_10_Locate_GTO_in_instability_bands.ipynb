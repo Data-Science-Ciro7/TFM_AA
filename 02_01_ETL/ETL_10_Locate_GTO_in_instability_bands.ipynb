{
 "cells": [
  {
   "cell_type": "markdown",
   "id": "7e41b9a9",
   "metadata": {},
   "source": [
    "# CARMENES / GTO DATABASE LOADING AND INSPECTION\n",
    "# Locating GTO objects in instability strips\n",
    "(With pandas)"
   ]
  },
  {
   "cell_type": "markdown",
   "id": "9d4512e5",
   "metadata": {},
   "source": [
    "## Modules and configuration"
   ]
  },
  {
   "cell_type": "markdown",
   "id": "a24b300e",
   "metadata": {},
   "source": [
    "### Modules"
   ]
  },
  {
   "cell_type": "code",
   "execution_count": 1,
   "id": "bf7cc337",
   "metadata": {},
   "outputs": [],
   "source": [
    "# Modules import:\n",
    "import numpy as np\n",
    "\n",
    "import pandas as pd\n",
    "from os import listdir\n",
    "from os.path import isfile, join\n",
    "\n",
    "import matplotlib.pyplot as plt\n",
    "import matplotlib.patches as mpatches\n",
    "\n",
    "import seaborn as sns\n",
    "sns.set_style(\"white\", {'figure.figsize':(15,10)})\n",
    "#sns.set_style(\"whitegrid\")\n",
    "#sns.set(rc={'figure.figsize':(15,8)})"
   ]
  },
  {
   "cell_type": "markdown",
   "id": "be1f4594",
   "metadata": {},
   "source": [
    "### Configuration"
   ]
  },
  {
   "cell_type": "code",
   "execution_count": 2,
   "id": "f3feca3c",
   "metadata": {},
   "outputs": [],
   "source": [
    "# Configuration:\n",
    "# Files:\n",
    "INPUT_FILE = \"../data/carmencita.102_mod.csv\"\n",
    "OUTPUT_FILE = INPUT_FILE[:-4] + \"2.csv\"\n",
    "GTO_OUTPUT_FILE = INPUT_FILE[:-4] + \"2_GTO.csv\"\n",
    "IMAGE_NOMINAL_OUT = \"./img/ETL_10_01_GTO_Instability_bands_Nominal.png\"\n",
    "IMAGE_RANGED_OUT = \"./img/ETL_10_02_GTO_Instability_bands_Ranged.png\"\n",
    "\n",
    "# Instability bands:\n",
    "INST_B = {\n",
    "    'D-burning': {\n",
    "        'logg': {\n",
    "            'min': 3.1,\n",
    "            'max': 3.6\n",
    "        },\n",
    "        'Teff': {\n",
    "            'min': 2800,\n",
    "            'max': 3500\n",
    "        }\n",
    "    },\n",
    "    'He3-burning': {\n",
    "        'logg': {\n",
    "            'min': 4.5,\n",
    "            'max': 5.1\n",
    "        },\n",
    "        'Teff': {\n",
    "            'min': 3300,\n",
    "            'max': 4300\n",
    "        }\n",
    "    }\n",
    "}\n",
    "\n",
    "\n"
   ]
  },
  {
   "cell_type": "markdown",
   "id": "e60c8e8d",
   "metadata": {},
   "source": [
    "## Data loading"
   ]
  },
  {
   "cell_type": "code",
   "execution_count": 3,
   "id": "63b338bd",
   "metadata": {},
   "outputs": [
    {
     "data": {
      "text/html": [
       "<div>\n",
       "<style scoped>\n",
       "    .dataframe tbody tr th:only-of-type {\n",
       "        vertical-align: middle;\n",
       "    }\n",
       "\n",
       "    .dataframe tbody tr th {\n",
       "        vertical-align: top;\n",
       "    }\n",
       "\n",
       "    .dataframe thead th {\n",
       "        text-align: right;\n",
       "    }\n",
       "</style>\n",
       "<table border=\"1\" class=\"dataframe\">\n",
       "  <thead>\n",
       "    <tr style=\"text-align: right;\">\n",
       "      <th></th>\n",
       "      <th>Karmn</th>\n",
       "      <th>Name</th>\n",
       "      <th>Comp</th>\n",
       "      <th>GJ</th>\n",
       "      <th>RA_J2016_deg</th>\n",
       "      <th>DE_J2016_deg</th>\n",
       "      <th>RA_J2000</th>\n",
       "      <th>DE_J2000</th>\n",
       "      <th>l_J2016_deg</th>\n",
       "      <th>b_J2016_deg</th>\n",
       "      <th>...</th>\n",
       "      <th>Survey</th>\n",
       "      <th>Notes</th>\n",
       "      <th>Gaia_id_1</th>\n",
       "      <th>2MASS_id</th>\n",
       "      <th>TIC_id</th>\n",
       "      <th>Teff_min_K</th>\n",
       "      <th>Teff_max_K</th>\n",
       "      <th>logg_min</th>\n",
       "      <th>logg_max</th>\n",
       "      <th>is_GTO</th>\n",
       "    </tr>\n",
       "  </thead>\n",
       "  <tbody>\n",
       "    <tr>\n",
       "      <th>0</th>\n",
       "      <td>J23598+477</td>\n",
       "      <td>LP 149-014</td>\n",
       "      <td>-</td>\n",
       "      <td>4385</td>\n",
       "      <td>359.962056</td>\n",
       "      <td>47.761478</td>\n",
       "      <td>23:59:49.51</td>\n",
       "      <td>+47:45:44.5</td>\n",
       "      <td>114.027674</td>\n",
       "      <td>-14.216353</td>\n",
       "      <td>...</td>\n",
       "      <td>NaN</td>\n",
       "      <td>NaN</td>\n",
       "      <td>1927517417630958208</td>\n",
       "      <td>23594940+4745447</td>\n",
       "      <td>177697529</td>\n",
       "      <td>2950.0</td>\n",
       "      <td>3050.0</td>\n",
       "      <td>4.50</td>\n",
       "      <td>5.50</td>\n",
       "      <td>False</td>\n",
       "    </tr>\n",
       "    <tr>\n",
       "      <th>1</th>\n",
       "      <td>J23590+208</td>\n",
       "      <td>G 129-051</td>\n",
       "      <td>-</td>\n",
       "      <td>NaN</td>\n",
       "      <td>359.753066</td>\n",
       "      <td>20.860336</td>\n",
       "      <td>23:59:00.42</td>\n",
       "      <td>+20:51:39.0</td>\n",
       "      <td>106.785616</td>\n",
       "      <td>-40.361996</td>\n",
       "      <td>...</td>\n",
       "      <td>NaN</td>\n",
       "      <td>NaN</td>\n",
       "      <td>2846620421604285568</td>\n",
       "      <td>23590042+2051387</td>\n",
       "      <td>2053997903</td>\n",
       "      <td>NaN</td>\n",
       "      <td>NaN</td>\n",
       "      <td>NaN</td>\n",
       "      <td>NaN</td>\n",
       "      <td>False</td>\n",
       "    </tr>\n",
       "    <tr>\n",
       "      <th>2</th>\n",
       "      <td>J23587+467</td>\n",
       "      <td>BD+45 4378 AB</td>\n",
       "      <td>AB</td>\n",
       "      <td>913</td>\n",
       "      <td>359.685432</td>\n",
       "      <td>46.729152</td>\n",
       "      <td>23:58:43.49</td>\n",
       "      <td>+46:43:44.7</td>\n",
       "      <td>113.616244</td>\n",
       "      <td>-15.187224</td>\n",
       "      <td>...</td>\n",
       "      <td>NaN</td>\n",
       "      <td># WDS BAG34 consistent wtih Hei415.</td>\n",
       "      <td>1927184643563033856</td>\n",
       "      <td>23584342+4643452</td>\n",
       "      <td>2041238829</td>\n",
       "      <td>NaN</td>\n",
       "      <td>NaN</td>\n",
       "      <td>NaN</td>\n",
       "      <td>NaN</td>\n",
       "      <td>False</td>\n",
       "    </tr>\n",
       "    <tr>\n",
       "      <th>3</th>\n",
       "      <td>J23585+076</td>\n",
       "      <td>Wolf 1051</td>\n",
       "      <td>AB</td>\n",
       "      <td>4383</td>\n",
       "      <td>359.636420</td>\n",
       "      <td>7.656947</td>\n",
       "      <td>23:58:32.65</td>\n",
       "      <td>+07:39:30.1</td>\n",
       "      <td>100.839686</td>\n",
       "      <td>-52.931049</td>\n",
       "      <td>...</td>\n",
       "      <td>GTO</td>\n",
       "      <td>NaN</td>\n",
       "      <td>2746709861572970624</td>\n",
       "      <td>23583264+0739304</td>\n",
       "      <td>408486498</td>\n",
       "      <td>3476.0</td>\n",
       "      <td>3516.0</td>\n",
       "      <td>4.89</td>\n",
       "      <td>5.05</td>\n",
       "      <td>True</td>\n",
       "    </tr>\n",
       "    <tr>\n",
       "      <th>4</th>\n",
       "      <td>J23582-174</td>\n",
       "      <td>LP 764-040</td>\n",
       "      <td>AB</td>\n",
       "      <td>NaN</td>\n",
       "      <td>359.558095</td>\n",
       "      <td>-17.409041</td>\n",
       "      <td>23:58:13.69</td>\n",
       "      <td>-17:24:32.9</td>\n",
       "      <td>68.527865</td>\n",
       "      <td>-74.336758</td>\n",
       "      <td>...</td>\n",
       "      <td>NaN</td>\n",
       "      <td>#20-150Ma Shk09.</td>\n",
       "      <td>2414454421367861376</td>\n",
       "      <td>23581366-1724338</td>\n",
       "      <td>2052312661</td>\n",
       "      <td>NaN</td>\n",
       "      <td>NaN</td>\n",
       "      <td>NaN</td>\n",
       "      <td>NaN</td>\n",
       "      <td>False</td>\n",
       "    </tr>\n",
       "  </tbody>\n",
       "</table>\n",
       "<p>5 rows × 180 columns</p>\n",
       "</div>"
      ],
      "text/plain": [
       "        Karmn           Name Comp    GJ  RA_J2016_deg  DE_J2016_deg  \\\n",
       "0  J23598+477     LP 149-014    -  4385    359.962056     47.761478   \n",
       "1  J23590+208      G 129-051    -   NaN    359.753066     20.860336   \n",
       "2  J23587+467  BD+45 4378 AB   AB   913    359.685432     46.729152   \n",
       "3  J23585+076      Wolf 1051   AB  4383    359.636420      7.656947   \n",
       "4  J23582-174     LP 764-040   AB   NaN    359.558095    -17.409041   \n",
       "\n",
       "      RA_J2000     DE_J2000  l_J2016_deg  b_J2016_deg  ... Survey  \\\n",
       "0  23:59:49.51  +47:45:44.5   114.027674   -14.216353  ...    NaN   \n",
       "1  23:59:00.42  +20:51:39.0   106.785616   -40.361996  ...    NaN   \n",
       "2  23:58:43.49  +46:43:44.7   113.616244   -15.187224  ...    NaN   \n",
       "3  23:58:32.65  +07:39:30.1   100.839686   -52.931049  ...    GTO   \n",
       "4  23:58:13.69  -17:24:32.9    68.527865   -74.336758  ...    NaN   \n",
       "\n",
       "                                 Notes            Gaia_id_1          2MASS_id  \\\n",
       "0                                  NaN  1927517417630958208  23594940+4745447   \n",
       "1                                  NaN  2846620421604285568  23590042+2051387   \n",
       "2  # WDS BAG34 consistent wtih Hei415.  1927184643563033856  23584342+4643452   \n",
       "3                                  NaN  2746709861572970624  23583264+0739304   \n",
       "4                     #20-150Ma Shk09.  2414454421367861376  23581366-1724338   \n",
       "\n",
       "       TIC_id  Teff_min_K  Teff_max_K  logg_min  logg_max  is_GTO  \n",
       "0   177697529      2950.0      3050.0      4.50      5.50   False  \n",
       "1  2053997903         NaN         NaN       NaN       NaN   False  \n",
       "2  2041238829         NaN         NaN       NaN       NaN   False  \n",
       "3   408486498      3476.0      3516.0      4.89      5.05    True  \n",
       "4  2052312661         NaN         NaN       NaN       NaN   False  \n",
       "\n",
       "[5 rows x 180 columns]"
      ]
     },
     "execution_count": 3,
     "metadata": {},
     "output_type": "execute_result"
    }
   ],
   "source": [
    "carmenes = pd.read_csv(INPUT_FILE, sep=',', decimal='.')\n",
    "carmenes.head()"
   ]
  },
  {
   "cell_type": "code",
   "execution_count": 4,
   "id": "b9336940",
   "metadata": {},
   "outputs": [
    {
     "name": "stdout",
     "output_type": "stream",
     "text": [
      "['Karmn', 'Name', 'Comp', 'GJ', 'RA_J2016_deg', 'DE_J2016_deg', 'RA_J2000', 'DE_J2000', 'l_J2016_deg', 'b_J2016_deg', 'Ref01', 'SpT', 'SpTnum', 'Ref02', 'Teff_K', 'eTeff_K', 'logg', 'elogg', '[Fe/H]', 'e[Fe/H]', 'Ref03', 'L_Lsol', 'eL_Lsol', 'Ref04', 'R_Rsol', 'eR_Rsol', 'Ref05', 'M_Msol', 'eM_Msol', 'Ref06', 'muRA_masa-1', 'emuRA_masa-1', 'muDE_masa-1', 'emuDE_masa-1', 'Ref07', 'pi_mas', 'epi_mas', 'Ref08', 'd_pc', 'ed_pc', 'Ref09', 'Vr_kms-1', 'eVr_kms-1', 'Ref10', 'ruwe', 'Ref11', 'U_kms-1', 'eU_kms-1', 'V_kms-1', 'eV_kms-1', 'W_kms-1', 'eW_kms-1', 'Ref12', 'sa_m/s/a', 'esa_m/s/a', 'Ref13', 'SKG', 'Ref14', 'SKG_lit', 'Ref14_lit', 'Pop', 'Ref15', 'vsini_flag', 'vsini_kms-1', 'evsini_kms-1', 'Ref16', 'P_d', 'eP_d', 'Ref17', 'pEWHalpha_A', 'epEWHalpha_A', 'Ref18', 'log(LHalpha/Lbol)', 'elog(LHalpha/Lbol)', 'Ref19', '1RXS', 'CRT_s-1', 'eCRT_s-1', 'HR1', 'eHR1', 'HR2', 'eHR2', 'Flux_X_E-13_ergcm-2s-1', 'eFlux_X_E-13_ergcm-2s-1', 'LX/LJ', 'eLX/LJ', 'Ref20', 'Activity', 'Ref21', 'FUV_mag', 'eFUV_mag', 'NUV_mag', 'eNUV_mag', 'Ref22', 'u_mag', 'eu_mag', 'Ref23', 'BT_mag', 'eBT_mag', 'Ref24', 'B_mag', 'eB_mag', 'Ref25', 'BP_mag', 'eBP_mag', 'Ref26', 'g_mag', 'eg_mag', 'Ref27', 'VT_mag', 'eVT_mag', 'Ref28', 'V_mag', 'eV_mag', 'Ref29', 'Ra_mag', 'Ref30', 'r_mag', 'er_mag', 'Ref31', 'GG_mag', 'eGG_mag', 'Ref32', 'i_mag', 'ei_mag', 'Ref33', 'RP_mag', 'eRP_mag', 'Ref34', 'IN_mag', 'Ref35', 'J_mag', 'eJ_mag', 'H_mag', 'eH_mag', 'Ks_mag', 'eKs_mag', 'QFlag_2M', 'Ref36', 'W1_mag', 'eW1_mag', 'W2_mag', 'eW2_mag', 'W3_mag', 'eW3_mag', 'W4_mag', 'eW4_mag', 'QFlag_WISE', 'Ref37', 'Multiplicity', 'WideWDS', 'Widerho_arcsec', 'eWiderho_arcsec', 'Ref38', 'WideCompanionName', 'WideCompanionSpT', 'CloseWDS', 'Closerho_arcsec', 'eCloserho_arcsec', 'Ref39', 'CloseCompanionSpT', 'RV', 'Planet', 'Ref40', 'PlanetNum', 'LoRes_spectrum', 'HiRes_spectrum', 'LoRes_imaging', 'HiRes_imaging', 'Class', 'Survey', 'Notes', 'Gaia_id_1', '2MASS_id', 'TIC_id', 'Teff_min_K', 'Teff_max_K', 'logg_min', 'logg_max', 'is_GTO']\n"
     ]
    }
   ],
   "source": [
    "print(carmenes.columns.tolist())"
   ]
  },
  {
   "cell_type": "markdown",
   "id": "6d839c2e",
   "metadata": {},
   "source": [
    "## Mark instability band (if appropriate)"
   ]
  },
  {
   "cell_type": "markdown",
   "id": "2ed50a22",
   "metadata": {},
   "source": [
    "### With nominal values (using just `logg` variable)"
   ]
  },
  {
   "cell_type": "code",
   "execution_count": 5,
   "id": "86e66135",
   "metadata": {},
   "outputs": [],
   "source": [
    "carmenes['InstBand_nominal'] = \"none\""
   ]
  },
  {
   "cell_type": "code",
   "execution_count": 6,
   "id": "c0f61a7b",
   "metadata": {},
   "outputs": [
    {
     "data": {
      "text/html": [
       "<div>\n",
       "<style scoped>\n",
       "    .dataframe tbody tr th:only-of-type {\n",
       "        vertical-align: middle;\n",
       "    }\n",
       "\n",
       "    .dataframe tbody tr th {\n",
       "        vertical-align: top;\n",
       "    }\n",
       "\n",
       "    .dataframe thead th {\n",
       "        text-align: right;\n",
       "    }\n",
       "</style>\n",
       "<table border=\"1\" class=\"dataframe\">\n",
       "  <thead>\n",
       "    <tr style=\"text-align: right;\">\n",
       "      <th></th>\n",
       "      <th>Karmn</th>\n",
       "      <th>Name</th>\n",
       "      <th>Comp</th>\n",
       "      <th>GJ</th>\n",
       "      <th>RA_J2016_deg</th>\n",
       "      <th>DE_J2016_deg</th>\n",
       "      <th>RA_J2000</th>\n",
       "      <th>DE_J2000</th>\n",
       "      <th>l_J2016_deg</th>\n",
       "      <th>b_J2016_deg</th>\n",
       "      <th>...</th>\n",
       "      <th>Notes</th>\n",
       "      <th>Gaia_id_1</th>\n",
       "      <th>2MASS_id</th>\n",
       "      <th>TIC_id</th>\n",
       "      <th>Teff_min_K</th>\n",
       "      <th>Teff_max_K</th>\n",
       "      <th>logg_min</th>\n",
       "      <th>logg_max</th>\n",
       "      <th>is_GTO</th>\n",
       "      <th>InstBand_nominal</th>\n",
       "    </tr>\n",
       "  </thead>\n",
       "  <tbody>\n",
       "    <tr>\n",
       "      <th>0</th>\n",
       "      <td>J23598+477</td>\n",
       "      <td>LP 149-014</td>\n",
       "      <td>-</td>\n",
       "      <td>4385</td>\n",
       "      <td>359.962056</td>\n",
       "      <td>47.761478</td>\n",
       "      <td>23:59:49.51</td>\n",
       "      <td>+47:45:44.5</td>\n",
       "      <td>114.027674</td>\n",
       "      <td>-14.216353</td>\n",
       "      <td>...</td>\n",
       "      <td>NaN</td>\n",
       "      <td>1927517417630958208</td>\n",
       "      <td>23594940+4745447</td>\n",
       "      <td>177697529</td>\n",
       "      <td>2950.0</td>\n",
       "      <td>3050.0</td>\n",
       "      <td>4.50</td>\n",
       "      <td>5.50</td>\n",
       "      <td>False</td>\n",
       "      <td>none</td>\n",
       "    </tr>\n",
       "    <tr>\n",
       "      <th>1</th>\n",
       "      <td>J23590+208</td>\n",
       "      <td>G 129-051</td>\n",
       "      <td>-</td>\n",
       "      <td>NaN</td>\n",
       "      <td>359.753066</td>\n",
       "      <td>20.860336</td>\n",
       "      <td>23:59:00.42</td>\n",
       "      <td>+20:51:39.0</td>\n",
       "      <td>106.785616</td>\n",
       "      <td>-40.361996</td>\n",
       "      <td>...</td>\n",
       "      <td>NaN</td>\n",
       "      <td>2846620421604285568</td>\n",
       "      <td>23590042+2051387</td>\n",
       "      <td>2053997903</td>\n",
       "      <td>NaN</td>\n",
       "      <td>NaN</td>\n",
       "      <td>NaN</td>\n",
       "      <td>NaN</td>\n",
       "      <td>False</td>\n",
       "      <td>none</td>\n",
       "    </tr>\n",
       "    <tr>\n",
       "      <th>2</th>\n",
       "      <td>J23587+467</td>\n",
       "      <td>BD+45 4378 AB</td>\n",
       "      <td>AB</td>\n",
       "      <td>913</td>\n",
       "      <td>359.685432</td>\n",
       "      <td>46.729152</td>\n",
       "      <td>23:58:43.49</td>\n",
       "      <td>+46:43:44.7</td>\n",
       "      <td>113.616244</td>\n",
       "      <td>-15.187224</td>\n",
       "      <td>...</td>\n",
       "      <td># WDS BAG34 consistent wtih Hei415.</td>\n",
       "      <td>1927184643563033856</td>\n",
       "      <td>23584342+4643452</td>\n",
       "      <td>2041238829</td>\n",
       "      <td>NaN</td>\n",
       "      <td>NaN</td>\n",
       "      <td>NaN</td>\n",
       "      <td>NaN</td>\n",
       "      <td>False</td>\n",
       "      <td>none</td>\n",
       "    </tr>\n",
       "    <tr>\n",
       "      <th>3</th>\n",
       "      <td>J23585+076</td>\n",
       "      <td>Wolf 1051</td>\n",
       "      <td>AB</td>\n",
       "      <td>4383</td>\n",
       "      <td>359.636420</td>\n",
       "      <td>7.656947</td>\n",
       "      <td>23:58:32.65</td>\n",
       "      <td>+07:39:30.1</td>\n",
       "      <td>100.839686</td>\n",
       "      <td>-52.931049</td>\n",
       "      <td>...</td>\n",
       "      <td>NaN</td>\n",
       "      <td>2746709861572970624</td>\n",
       "      <td>23583264+0739304</td>\n",
       "      <td>408486498</td>\n",
       "      <td>3476.0</td>\n",
       "      <td>3516.0</td>\n",
       "      <td>4.89</td>\n",
       "      <td>5.05</td>\n",
       "      <td>True</td>\n",
       "      <td>He3-burning</td>\n",
       "    </tr>\n",
       "    <tr>\n",
       "      <th>4</th>\n",
       "      <td>J23582-174</td>\n",
       "      <td>LP 764-040</td>\n",
       "      <td>AB</td>\n",
       "      <td>NaN</td>\n",
       "      <td>359.558095</td>\n",
       "      <td>-17.409041</td>\n",
       "      <td>23:58:13.69</td>\n",
       "      <td>-17:24:32.9</td>\n",
       "      <td>68.527865</td>\n",
       "      <td>-74.336758</td>\n",
       "      <td>...</td>\n",
       "      <td>#20-150Ma Shk09.</td>\n",
       "      <td>2414454421367861376</td>\n",
       "      <td>23581366-1724338</td>\n",
       "      <td>2052312661</td>\n",
       "      <td>NaN</td>\n",
       "      <td>NaN</td>\n",
       "      <td>NaN</td>\n",
       "      <td>NaN</td>\n",
       "      <td>False</td>\n",
       "      <td>none</td>\n",
       "    </tr>\n",
       "  </tbody>\n",
       "</table>\n",
       "<p>5 rows × 181 columns</p>\n",
       "</div>"
      ],
      "text/plain": [
       "        Karmn           Name Comp    GJ  RA_J2016_deg  DE_J2016_deg  \\\n",
       "0  J23598+477     LP 149-014    -  4385    359.962056     47.761478   \n",
       "1  J23590+208      G 129-051    -   NaN    359.753066     20.860336   \n",
       "2  J23587+467  BD+45 4378 AB   AB   913    359.685432     46.729152   \n",
       "3  J23585+076      Wolf 1051   AB  4383    359.636420      7.656947   \n",
       "4  J23582-174     LP 764-040   AB   NaN    359.558095    -17.409041   \n",
       "\n",
       "      RA_J2000     DE_J2000  l_J2016_deg  b_J2016_deg  ...  \\\n",
       "0  23:59:49.51  +47:45:44.5   114.027674   -14.216353  ...   \n",
       "1  23:59:00.42  +20:51:39.0   106.785616   -40.361996  ...   \n",
       "2  23:58:43.49  +46:43:44.7   113.616244   -15.187224  ...   \n",
       "3  23:58:32.65  +07:39:30.1   100.839686   -52.931049  ...   \n",
       "4  23:58:13.69  -17:24:32.9    68.527865   -74.336758  ...   \n",
       "\n",
       "                                 Notes            Gaia_id_1          2MASS_id  \\\n",
       "0                                  NaN  1927517417630958208  23594940+4745447   \n",
       "1                                  NaN  2846620421604285568  23590042+2051387   \n",
       "2  # WDS BAG34 consistent wtih Hei415.  1927184643563033856  23584342+4643452   \n",
       "3                                  NaN  2746709861572970624  23583264+0739304   \n",
       "4                     #20-150Ma Shk09.  2414454421367861376  23581366-1724338   \n",
       "\n",
       "       TIC_id  Teff_min_K  Teff_max_K  logg_min  logg_max  is_GTO  \\\n",
       "0   177697529      2950.0      3050.0      4.50      5.50   False   \n",
       "1  2053997903         NaN         NaN       NaN       NaN   False   \n",
       "2  2041238829         NaN         NaN       NaN       NaN   False   \n",
       "3   408486498      3476.0      3516.0      4.89      5.05    True   \n",
       "4  2052312661         NaN         NaN       NaN       NaN   False   \n",
       "\n",
       "   InstBand_nominal  \n",
       "0              none  \n",
       "1              none  \n",
       "2              none  \n",
       "3       He3-burning  \n",
       "4              none  \n",
       "\n",
       "[5 rows x 181 columns]"
      ]
     },
     "execution_count": 6,
     "metadata": {},
     "output_type": "execute_result"
    }
   ],
   "source": [
    "# Mark stars in instability bands (using nominal values):\n",
    "for ib in INST_B.keys():\n",
    "    carmenes.loc[(carmenes['logg'] >= INST_B[ib]['logg']['min']) &\n",
    "                 (carmenes['logg'] <= INST_B[ib]['logg']['max']) &\n",
    "                 (carmenes['Teff_K'] >= INST_B[ib]['Teff']['min']) &\n",
    "                 (carmenes['Teff_K'] <= INST_B[ib]['Teff']['max']),\n",
    "                 'InstBand_nominal'] = ib\n",
    "\n",
    "carmenes.head()"
   ]
  },
  {
   "cell_type": "markdown",
   "id": "5b9b445c",
   "metadata": {},
   "source": [
    "Check the total number of stars in instability bands (nominal):"
   ]
  },
  {
   "cell_type": "code",
   "execution_count": 7,
   "id": "175d0a40",
   "metadata": {},
   "outputs": [
    {
     "data": {
      "text/plain": [
       "none           1231\n",
       "He3-burning     981\n",
       "Name: InstBand_nominal, dtype: int64"
      ]
     },
     "execution_count": 7,
     "metadata": {},
     "output_type": "execute_result"
    }
   ],
   "source": [
    "carmenes['InstBand_nominal'].value_counts()"
   ]
  },
  {
   "cell_type": "markdown",
   "id": "6bbd88be",
   "metadata": {},
   "source": [
    "**OBSERVATION:** no star at all is in the instability strip of _\"D-burning\"_ cases."
   ]
  },
  {
   "cell_type": "markdown",
   "id": "17c4e611",
   "metadata": {},
   "source": [
    "Check the GTO stars in instability bands (nominal):"
   ]
  },
  {
   "cell_type": "code",
   "execution_count": 8,
   "id": "718e566a",
   "metadata": {
    "scrolled": true
   },
   "outputs": [
    {
     "data": {
      "text/plain": [
       "He3-burning    224\n",
       "none           139\n",
       "Name: InstBand_nominal, dtype: int64"
      ]
     },
     "execution_count": 8,
     "metadata": {},
     "output_type": "execute_result"
    }
   ],
   "source": [
    "carmenes.loc[carmenes['is_GTO'] == True, 'InstBand_nominal'].value_counts()"
   ]
  },
  {
   "cell_type": "markdown",
   "id": "eda3462c",
   "metadata": {},
   "source": [
    "### With ranged values (including  `elogg` variable)"
   ]
  },
  {
   "cell_type": "markdown",
   "id": "b585e1ed",
   "metadata": {},
   "source": [
    "We first check the max values of `eTeff_K` and `elogg`, just in case the instability bands could overlap and hence provoke ambiguous band assignation."
   ]
  },
  {
   "cell_type": "code",
   "execution_count": 9,
   "id": "fdebfd31",
   "metadata": {
    "scrolled": true
   },
   "outputs": [
    {
     "data": {
      "text/plain": [
       "{'D-burning': {'logg': {'min': 3.1, 'max': 3.6},\n",
       "  'Teff': {'min': 2800, 'max': 3500}},\n",
       " 'He3-burning': {'logg': {'min': 4.5, 'max': 5.1},\n",
       "  'Teff': {'min': 3300, 'max': 4300}}}"
      ]
     },
     "execution_count": 9,
     "metadata": {},
     "output_type": "execute_result"
    }
   ],
   "source": [
    "INST_B"
   ]
  },
  {
   "cell_type": "code",
   "execution_count": 10,
   "id": "3beb9a36",
   "metadata": {},
   "outputs": [
    {
     "data": {
      "text/html": [
       "<div>\n",
       "<style scoped>\n",
       "    .dataframe tbody tr th:only-of-type {\n",
       "        vertical-align: middle;\n",
       "    }\n",
       "\n",
       "    .dataframe tbody tr th {\n",
       "        vertical-align: top;\n",
       "    }\n",
       "\n",
       "    .dataframe thead th {\n",
       "        text-align: right;\n",
       "    }\n",
       "</style>\n",
       "<table border=\"1\" class=\"dataframe\">\n",
       "  <thead>\n",
       "    <tr style=\"text-align: right;\">\n",
       "      <th></th>\n",
       "      <th>eTeff_K</th>\n",
       "      <th>elogg</th>\n",
       "    </tr>\n",
       "  </thead>\n",
       "  <tbody>\n",
       "    <tr>\n",
       "      <th>count</th>\n",
       "      <td>1657.000000</td>\n",
       "      <td>1652.000000</td>\n",
       "    </tr>\n",
       "    <tr>\n",
       "      <th>mean</th>\n",
       "      <td>45.379602</td>\n",
       "      <td>0.410533</td>\n",
       "    </tr>\n",
       "    <tr>\n",
       "      <th>std</th>\n",
       "      <td>11.216744</td>\n",
       "      <td>0.160944</td>\n",
       "    </tr>\n",
       "    <tr>\n",
       "      <th>min</th>\n",
       "      <td>9.000000</td>\n",
       "      <td>0.030000</td>\n",
       "    </tr>\n",
       "    <tr>\n",
       "      <th>25%</th>\n",
       "      <td>50.000000</td>\n",
       "      <td>0.500000</td>\n",
       "    </tr>\n",
       "    <tr>\n",
       "      <th>50%</th>\n",
       "      <td>50.000000</td>\n",
       "      <td>0.500000</td>\n",
       "    </tr>\n",
       "    <tr>\n",
       "      <th>75%</th>\n",
       "      <td>50.000000</td>\n",
       "      <td>0.500000</td>\n",
       "    </tr>\n",
       "    <tr>\n",
       "      <th>max</th>\n",
       "      <td>97.000000</td>\n",
       "      <td>0.500000</td>\n",
       "    </tr>\n",
       "  </tbody>\n",
       "</table>\n",
       "</div>"
      ],
      "text/plain": [
       "           eTeff_K        elogg\n",
       "count  1657.000000  1652.000000\n",
       "mean     45.379602     0.410533\n",
       "std      11.216744     0.160944\n",
       "min       9.000000     0.030000\n",
       "25%      50.000000     0.500000\n",
       "50%      50.000000     0.500000\n",
       "75%      50.000000     0.500000\n",
       "max      97.000000     0.500000"
      ]
     },
     "execution_count": 10,
     "metadata": {},
     "output_type": "execute_result"
    }
   ],
   "source": [
    "carmenes[['eTeff_K', 'elogg']].describe()"
   ]
  },
  {
   "cell_type": "markdown",
   "id": "bc0de018",
   "metadata": {},
   "source": [
    "Maximum value of `elogg` is $0.5$, so the assignment to instability bands will not be ambiguous."
   ]
  },
  {
   "cell_type": "code",
   "execution_count": 11,
   "id": "4604e0fc",
   "metadata": {},
   "outputs": [
    {
     "data": {
      "text/plain": [
       "Index(['Karmn', 'Name', 'Comp', 'GJ', 'RA_J2016_deg', 'DE_J2016_deg',\n",
       "       'RA_J2000', 'DE_J2000', 'l_J2016_deg', 'b_J2016_deg',\n",
       "       ...\n",
       "       'Notes', 'Gaia_id_1', '2MASS_id', 'TIC_id', 'Teff_min_K', 'Teff_max_K',\n",
       "       'logg_min', 'logg_max', 'is_GTO', 'InstBand_nominal'],\n",
       "      dtype='object', length=181)"
      ]
     },
     "execution_count": 11,
     "metadata": {},
     "output_type": "execute_result"
    }
   ],
   "source": [
    "carmenes.columns"
   ]
  },
  {
   "cell_type": "code",
   "execution_count": 12,
   "id": "1049a050",
   "metadata": {},
   "outputs": [],
   "source": [
    "carmenes['InstBand_ranged'] = \"none\""
   ]
  },
  {
   "cell_type": "code",
   "execution_count": 13,
   "id": "049baeeb",
   "metadata": {},
   "outputs": [
    {
     "data": {
      "text/html": [
       "<div>\n",
       "<style scoped>\n",
       "    .dataframe tbody tr th:only-of-type {\n",
       "        vertical-align: middle;\n",
       "    }\n",
       "\n",
       "    .dataframe tbody tr th {\n",
       "        vertical-align: top;\n",
       "    }\n",
       "\n",
       "    .dataframe thead th {\n",
       "        text-align: right;\n",
       "    }\n",
       "</style>\n",
       "<table border=\"1\" class=\"dataframe\">\n",
       "  <thead>\n",
       "    <tr style=\"text-align: right;\">\n",
       "      <th></th>\n",
       "      <th>Karmn</th>\n",
       "      <th>Name</th>\n",
       "      <th>Comp</th>\n",
       "      <th>GJ</th>\n",
       "      <th>RA_J2016_deg</th>\n",
       "      <th>DE_J2016_deg</th>\n",
       "      <th>RA_J2000</th>\n",
       "      <th>DE_J2000</th>\n",
       "      <th>l_J2016_deg</th>\n",
       "      <th>b_J2016_deg</th>\n",
       "      <th>...</th>\n",
       "      <th>Gaia_id_1</th>\n",
       "      <th>2MASS_id</th>\n",
       "      <th>TIC_id</th>\n",
       "      <th>Teff_min_K</th>\n",
       "      <th>Teff_max_K</th>\n",
       "      <th>logg_min</th>\n",
       "      <th>logg_max</th>\n",
       "      <th>is_GTO</th>\n",
       "      <th>InstBand_nominal</th>\n",
       "      <th>InstBand_ranged</th>\n",
       "    </tr>\n",
       "  </thead>\n",
       "  <tbody>\n",
       "    <tr>\n",
       "      <th>0</th>\n",
       "      <td>J23598+477</td>\n",
       "      <td>LP 149-014</td>\n",
       "      <td>-</td>\n",
       "      <td>4385</td>\n",
       "      <td>359.962056</td>\n",
       "      <td>47.761478</td>\n",
       "      <td>23:59:49.51</td>\n",
       "      <td>+47:45:44.5</td>\n",
       "      <td>114.027674</td>\n",
       "      <td>-14.216353</td>\n",
       "      <td>...</td>\n",
       "      <td>1927517417630958208</td>\n",
       "      <td>23594940+4745447</td>\n",
       "      <td>177697529</td>\n",
       "      <td>2950.0</td>\n",
       "      <td>3050.0</td>\n",
       "      <td>4.50</td>\n",
       "      <td>5.50</td>\n",
       "      <td>False</td>\n",
       "      <td>none</td>\n",
       "      <td>none</td>\n",
       "    </tr>\n",
       "    <tr>\n",
       "      <th>1</th>\n",
       "      <td>J23590+208</td>\n",
       "      <td>G 129-051</td>\n",
       "      <td>-</td>\n",
       "      <td>NaN</td>\n",
       "      <td>359.753066</td>\n",
       "      <td>20.860336</td>\n",
       "      <td>23:59:00.42</td>\n",
       "      <td>+20:51:39.0</td>\n",
       "      <td>106.785616</td>\n",
       "      <td>-40.361996</td>\n",
       "      <td>...</td>\n",
       "      <td>2846620421604285568</td>\n",
       "      <td>23590042+2051387</td>\n",
       "      <td>2053997903</td>\n",
       "      <td>NaN</td>\n",
       "      <td>NaN</td>\n",
       "      <td>NaN</td>\n",
       "      <td>NaN</td>\n",
       "      <td>False</td>\n",
       "      <td>none</td>\n",
       "      <td>none</td>\n",
       "    </tr>\n",
       "    <tr>\n",
       "      <th>2</th>\n",
       "      <td>J23587+467</td>\n",
       "      <td>BD+45 4378 AB</td>\n",
       "      <td>AB</td>\n",
       "      <td>913</td>\n",
       "      <td>359.685432</td>\n",
       "      <td>46.729152</td>\n",
       "      <td>23:58:43.49</td>\n",
       "      <td>+46:43:44.7</td>\n",
       "      <td>113.616244</td>\n",
       "      <td>-15.187224</td>\n",
       "      <td>...</td>\n",
       "      <td>1927184643563033856</td>\n",
       "      <td>23584342+4643452</td>\n",
       "      <td>2041238829</td>\n",
       "      <td>NaN</td>\n",
       "      <td>NaN</td>\n",
       "      <td>NaN</td>\n",
       "      <td>NaN</td>\n",
       "      <td>False</td>\n",
       "      <td>none</td>\n",
       "      <td>none</td>\n",
       "    </tr>\n",
       "    <tr>\n",
       "      <th>3</th>\n",
       "      <td>J23585+076</td>\n",
       "      <td>Wolf 1051</td>\n",
       "      <td>AB</td>\n",
       "      <td>4383</td>\n",
       "      <td>359.636420</td>\n",
       "      <td>7.656947</td>\n",
       "      <td>23:58:32.65</td>\n",
       "      <td>+07:39:30.1</td>\n",
       "      <td>100.839686</td>\n",
       "      <td>-52.931049</td>\n",
       "      <td>...</td>\n",
       "      <td>2746709861572970624</td>\n",
       "      <td>23583264+0739304</td>\n",
       "      <td>408486498</td>\n",
       "      <td>3476.0</td>\n",
       "      <td>3516.0</td>\n",
       "      <td>4.89</td>\n",
       "      <td>5.05</td>\n",
       "      <td>True</td>\n",
       "      <td>He3-burning</td>\n",
       "      <td>He3-burning</td>\n",
       "    </tr>\n",
       "    <tr>\n",
       "      <th>4</th>\n",
       "      <td>J23582-174</td>\n",
       "      <td>LP 764-040</td>\n",
       "      <td>AB</td>\n",
       "      <td>NaN</td>\n",
       "      <td>359.558095</td>\n",
       "      <td>-17.409041</td>\n",
       "      <td>23:58:13.69</td>\n",
       "      <td>-17:24:32.9</td>\n",
       "      <td>68.527865</td>\n",
       "      <td>-74.336758</td>\n",
       "      <td>...</td>\n",
       "      <td>2414454421367861376</td>\n",
       "      <td>23581366-1724338</td>\n",
       "      <td>2052312661</td>\n",
       "      <td>NaN</td>\n",
       "      <td>NaN</td>\n",
       "      <td>NaN</td>\n",
       "      <td>NaN</td>\n",
       "      <td>False</td>\n",
       "      <td>none</td>\n",
       "      <td>none</td>\n",
       "    </tr>\n",
       "  </tbody>\n",
       "</table>\n",
       "<p>5 rows × 182 columns</p>\n",
       "</div>"
      ],
      "text/plain": [
       "        Karmn           Name Comp    GJ  RA_J2016_deg  DE_J2016_deg  \\\n",
       "0  J23598+477     LP 149-014    -  4385    359.962056     47.761478   \n",
       "1  J23590+208      G 129-051    -   NaN    359.753066     20.860336   \n",
       "2  J23587+467  BD+45 4378 AB   AB   913    359.685432     46.729152   \n",
       "3  J23585+076      Wolf 1051   AB  4383    359.636420      7.656947   \n",
       "4  J23582-174     LP 764-040   AB   NaN    359.558095    -17.409041   \n",
       "\n",
       "      RA_J2000     DE_J2000  l_J2016_deg  b_J2016_deg  ...  \\\n",
       "0  23:59:49.51  +47:45:44.5   114.027674   -14.216353  ...   \n",
       "1  23:59:00.42  +20:51:39.0   106.785616   -40.361996  ...   \n",
       "2  23:58:43.49  +46:43:44.7   113.616244   -15.187224  ...   \n",
       "3  23:58:32.65  +07:39:30.1   100.839686   -52.931049  ...   \n",
       "4  23:58:13.69  -17:24:32.9    68.527865   -74.336758  ...   \n",
       "\n",
       "             Gaia_id_1          2MASS_id      TIC_id Teff_min_K  Teff_max_K  \\\n",
       "0  1927517417630958208  23594940+4745447   177697529     2950.0      3050.0   \n",
       "1  2846620421604285568  23590042+2051387  2053997903        NaN         NaN   \n",
       "2  1927184643563033856  23584342+4643452  2041238829        NaN         NaN   \n",
       "3  2746709861572970624  23583264+0739304   408486498     3476.0      3516.0   \n",
       "4  2414454421367861376  23581366-1724338  2052312661        NaN         NaN   \n",
       "\n",
       "   logg_min  logg_max  is_GTO  InstBand_nominal  InstBand_ranged  \n",
       "0      4.50      5.50   False              none             none  \n",
       "1       NaN       NaN   False              none             none  \n",
       "2       NaN       NaN   False              none             none  \n",
       "3      4.89      5.05    True       He3-burning      He3-burning  \n",
       "4       NaN       NaN   False              none             none  \n",
       "\n",
       "[5 rows x 182 columns]"
      ]
     },
     "execution_count": 13,
     "metadata": {},
     "output_type": "execute_result"
    }
   ],
   "source": [
    "# Mark stars in instability bands (ussing range of values):\n",
    "for ib in INST_B.keys():\n",
    "    mask_range_logg = ((carmenes['logg_min'] >= INST_B[ib]['logg']['min']) & \\\n",
    "                   (carmenes['logg_min'] <= INST_B[ib]['logg']['max'])) | \\\n",
    "                ((carmenes['logg_max'] >= INST_B[ib]['logg']['min']) & \\\n",
    "                 (carmenes['logg_max'] <= INST_B[ib]['logg']['max']))\n",
    "    mask_range_Teff = ((carmenes['Teff_min_K'] >= INST_B[ib]['Teff']['min']) & \\\n",
    "                   (carmenes['Teff_min_K'] <= INST_B[ib]['Teff']['max'])) | \\\n",
    "                ((carmenes['Teff_max_K'] >= INST_B[ib]['Teff']['min']) & \\\n",
    "                 (carmenes['Teff_max_K'] <= INST_B[ib]['Teff']['max']))\n",
    "    carmenes.loc[mask_range_logg & mask_range_Teff,\n",
    "                 'InstBand_ranged'] = ib\n",
    "\n",
    "carmenes.head()"
   ]
  },
  {
   "cell_type": "markdown",
   "id": "22d8d774",
   "metadata": {},
   "source": [
    "Check the total number of stars in instability bands (ranged):"
   ]
  },
  {
   "cell_type": "code",
   "execution_count": 14,
   "id": "7766899c",
   "metadata": {},
   "outputs": [
    {
     "data": {
      "text/plain": [
       "He3-burning    1157\n",
       "none           1055\n",
       "Name: InstBand_ranged, dtype: int64"
      ]
     },
     "execution_count": 14,
     "metadata": {},
     "output_type": "execute_result"
    }
   ],
   "source": [
    "carmenes['InstBand_ranged'].value_counts()"
   ]
  },
  {
   "cell_type": "markdown",
   "id": "0b4ec0ea",
   "metadata": {},
   "source": [
    "Check the GTO stars in instability bands (nominal):"
   ]
  },
  {
   "cell_type": "code",
   "execution_count": 15,
   "id": "a9ce64a7",
   "metadata": {
    "scrolled": true
   },
   "outputs": [
    {
     "data": {
      "text/plain": [
       "He3-burning    259\n",
       "none           104\n",
       "Name: InstBand_ranged, dtype: int64"
      ]
     },
     "execution_count": 15,
     "metadata": {},
     "output_type": "execute_result"
    }
   ],
   "source": [
    "carmenes.loc[carmenes['is_GTO'] == True, 'InstBand_ranged'].value_counts()"
   ]
  },
  {
   "cell_type": "markdown",
   "id": "7f0682dc",
   "metadata": {},
   "source": [
    "### Summary of stats"
   ]
  },
  {
   "cell_type": "code",
   "execution_count": 16,
   "id": "34ee2c2d",
   "metadata": {},
   "outputs": [
    {
     "data": {
      "text/html": [
       "<div>\n",
       "<style scoped>\n",
       "    .dataframe tbody tr th:only-of-type {\n",
       "        vertical-align: middle;\n",
       "    }\n",
       "\n",
       "    .dataframe tbody tr th {\n",
       "        vertical-align: top;\n",
       "    }\n",
       "\n",
       "    .dataframe thead th {\n",
       "        text-align: right;\n",
       "    }\n",
       "</style>\n",
       "<table border=\"1\" class=\"dataframe\">\n",
       "  <thead>\n",
       "    <tr style=\"text-align: right;\">\n",
       "      <th></th>\n",
       "      <th></th>\n",
       "      <th>Karmn</th>\n",
       "    </tr>\n",
       "    <tr>\n",
       "      <th>is_GTO</th>\n",
       "      <th>InstBand_nominal</th>\n",
       "      <th></th>\n",
       "    </tr>\n",
       "  </thead>\n",
       "  <tbody>\n",
       "    <tr>\n",
       "      <th rowspan=\"2\" valign=\"top\">False</th>\n",
       "      <th>He3-burning</th>\n",
       "      <td>757</td>\n",
       "    </tr>\n",
       "    <tr>\n",
       "      <th>none</th>\n",
       "      <td>1092</td>\n",
       "    </tr>\n",
       "    <tr>\n",
       "      <th rowspan=\"2\" valign=\"top\">True</th>\n",
       "      <th>He3-burning</th>\n",
       "      <td>224</td>\n",
       "    </tr>\n",
       "    <tr>\n",
       "      <th>none</th>\n",
       "      <td>139</td>\n",
       "    </tr>\n",
       "  </tbody>\n",
       "</table>\n",
       "</div>"
      ],
      "text/plain": [
       "                         Karmn\n",
       "is_GTO InstBand_nominal       \n",
       "False  He3-burning         757\n",
       "       none               1092\n",
       "True   He3-burning         224\n",
       "       none                139"
      ]
     },
     "execution_count": 16,
     "metadata": {},
     "output_type": "execute_result"
    }
   ],
   "source": [
    "carmenes[['is_GTO', 'InstBand_nominal', 'Karmn']] \\\n",
    "    .groupby(by=['is_GTO', 'InstBand_nominal']).count()"
   ]
  },
  {
   "cell_type": "code",
   "execution_count": 17,
   "id": "4a5c3584",
   "metadata": {},
   "outputs": [
    {
     "data": {
      "text/html": [
       "<div>\n",
       "<style scoped>\n",
       "    .dataframe tbody tr th:only-of-type {\n",
       "        vertical-align: middle;\n",
       "    }\n",
       "\n",
       "    .dataframe tbody tr th {\n",
       "        vertical-align: top;\n",
       "    }\n",
       "\n",
       "    .dataframe thead th {\n",
       "        text-align: right;\n",
       "    }\n",
       "</style>\n",
       "<table border=\"1\" class=\"dataframe\">\n",
       "  <thead>\n",
       "    <tr style=\"text-align: right;\">\n",
       "      <th></th>\n",
       "      <th></th>\n",
       "      <th>Karmn</th>\n",
       "    </tr>\n",
       "    <tr>\n",
       "      <th>is_GTO</th>\n",
       "      <th>InstBand_ranged</th>\n",
       "      <th></th>\n",
       "    </tr>\n",
       "  </thead>\n",
       "  <tbody>\n",
       "    <tr>\n",
       "      <th rowspan=\"2\" valign=\"top\">False</th>\n",
       "      <th>He3-burning</th>\n",
       "      <td>898</td>\n",
       "    </tr>\n",
       "    <tr>\n",
       "      <th>none</th>\n",
       "      <td>951</td>\n",
       "    </tr>\n",
       "    <tr>\n",
       "      <th rowspan=\"2\" valign=\"top\">True</th>\n",
       "      <th>He3-burning</th>\n",
       "      <td>259</td>\n",
       "    </tr>\n",
       "    <tr>\n",
       "      <th>none</th>\n",
       "      <td>104</td>\n",
       "    </tr>\n",
       "  </tbody>\n",
       "</table>\n",
       "</div>"
      ],
      "text/plain": [
       "                        Karmn\n",
       "is_GTO InstBand_ranged       \n",
       "False  He3-burning        898\n",
       "       none               951\n",
       "True   He3-burning        259\n",
       "       none               104"
      ]
     },
     "execution_count": 17,
     "metadata": {},
     "output_type": "execute_result"
    }
   ],
   "source": [
    "carmenes[['is_GTO', 'InstBand_ranged', 'Karmn']] \\\n",
    "    .groupby(by=['is_GTO', 'InstBand_ranged']).count()"
   ]
  },
  {
   "cell_type": "markdown",
   "id": "7e63387c",
   "metadata": {},
   "source": [
    "Check `Nan` values of the data (`Teff_K` and `logg`variables):"
   ]
  },
  {
   "cell_type": "code",
   "execution_count": 18,
   "id": "5815faa4",
   "metadata": {},
   "outputs": [
    {
     "data": {
      "text/html": [
       "<div>\n",
       "<style scoped>\n",
       "    .dataframe tbody tr th:only-of-type {\n",
       "        vertical-align: middle;\n",
       "    }\n",
       "\n",
       "    .dataframe tbody tr th {\n",
       "        vertical-align: top;\n",
       "    }\n",
       "\n",
       "    .dataframe thead th {\n",
       "        text-align: right;\n",
       "    }\n",
       "</style>\n",
       "<table border=\"1\" class=\"dataframe\">\n",
       "  <thead>\n",
       "    <tr style=\"text-align: right;\">\n",
       "      <th></th>\n",
       "      <th>index</th>\n",
       "      <th>0</th>\n",
       "    </tr>\n",
       "  </thead>\n",
       "  <tbody>\n",
       "    <tr>\n",
       "      <th>0</th>\n",
       "      <td>Teff_K</td>\n",
       "      <td>555</td>\n",
       "    </tr>\n",
       "    <tr>\n",
       "      <th>1</th>\n",
       "      <td>logg</td>\n",
       "      <td>560</td>\n",
       "    </tr>\n",
       "  </tbody>\n",
       "</table>\n",
       "</div>"
      ],
      "text/plain": [
       "    index    0\n",
       "0  Teff_K  555\n",
       "1    logg  560"
      ]
     },
     "execution_count": 18,
     "metadata": {},
     "output_type": "execute_result"
    }
   ],
   "source": [
    "carmenes[['Teff_K', 'logg']].isna().sum().reset_index()"
   ]
  },
  {
   "cell_type": "code",
   "execution_count": 19,
   "id": "d3a21b80",
   "metadata": {},
   "outputs": [
    {
     "data": {
      "text/html": [
       "<div>\n",
       "<style scoped>\n",
       "    .dataframe tbody tr th:only-of-type {\n",
       "        vertical-align: middle;\n",
       "    }\n",
       "\n",
       "    .dataframe tbody tr th {\n",
       "        vertical-align: top;\n",
       "    }\n",
       "\n",
       "    .dataframe thead th {\n",
       "        text-align: right;\n",
       "    }\n",
       "</style>\n",
       "<table border=\"1\" class=\"dataframe\">\n",
       "  <thead>\n",
       "    <tr style=\"text-align: right;\">\n",
       "      <th></th>\n",
       "      <th>index</th>\n",
       "      <th>0</th>\n",
       "    </tr>\n",
       "  </thead>\n",
       "  <tbody>\n",
       "    <tr>\n",
       "      <th>0</th>\n",
       "      <td>Teff_K</td>\n",
       "      <td>0</td>\n",
       "    </tr>\n",
       "    <tr>\n",
       "      <th>1</th>\n",
       "      <td>logg</td>\n",
       "      <td>4</td>\n",
       "    </tr>\n",
       "  </tbody>\n",
       "</table>\n",
       "</div>"
      ],
      "text/plain": [
       "    index  0\n",
       "0  Teff_K  0\n",
       "1    logg  4"
      ]
     },
     "execution_count": 19,
     "metadata": {},
     "output_type": "execute_result"
    }
   ],
   "source": [
    "carmenes[carmenes['is_GTO'] == True][['Teff_K', 'logg']].isna().sum().reset_index()"
   ]
  },
  {
   "cell_type": "markdown",
   "id": "872bddf8",
   "metadata": {},
   "source": [
    "## Data visualization"
   ]
  },
  {
   "cell_type": "code",
   "execution_count": 20,
   "id": "ecc604a6",
   "metadata": {},
   "outputs": [
    {
     "data": {
      "text/plain": [
       "(363, 182)"
      ]
     },
     "execution_count": 20,
     "metadata": {},
     "output_type": "execute_result"
    }
   ],
   "source": [
    "gto = carmenes[carmenes['is_GTO'] == True].copy()\n",
    "\n",
    "gto.shape"
   ]
  },
  {
   "cell_type": "markdown",
   "id": "e0892369",
   "metadata": {},
   "source": [
    "### Only GTO objects"
   ]
  },
  {
   "cell_type": "code",
   "execution_count": 21,
   "id": "cbb4d5ba",
   "metadata": {
    "scrolled": false
   },
   "outputs": [
    {
     "data": {
      "image/png": "[encoded data removed]",
      "text/plain": [
       "<Figure size 720x720 with 1 Axes>"
      ]
     },
     "metadata": {},
     "output_type": "display_data"
    }
   ],
   "source": [
    "plt.figure(figsize=(10,10))\n",
    "ax = sns.scatterplot(data=gto, x='Teff_K', y='logg', hue='InstBand_nominal')\n",
    "# Set plot limits as per global CARMENES data values.\n",
    "x_min = min([INST_B['He3-burning']['Teff']['min'], INST_B['D-burning']['Teff']['min'],\n",
    "             carmenes['Teff_min_K'].min()])\n",
    "x_max = max([INST_B['He3-burning']['Teff']['max'], INST_B['D-burning']['Teff']['max'],\n",
    "             carmenes['Teff_max_K'].max()])\n",
    "y_min = min([INST_B['He3-burning']['logg']['min'], INST_B['D-burning']['logg']['min'],\n",
    "             carmenes['logg_min'].min()])\n",
    "y_max = max([INST_B['He3-burning']['logg']['max'], INST_B['D-burning']['logg']['max'],\n",
    "             carmenes['logg_max'].max()])\n",
    "ax.set_xlim((x_min, x_max))\n",
    "ax.set_ylim((y_min, y_max))\n",
    "# Add and label instability regions:\n",
    "ax.add_patch(mpatches.Rectangle((2800, 3.1), 700, 0.5, facecolor=\"green\", alpha=0.10))\n",
    "ax.text(3500, 3.6, \"D-burning instability band\", color=\"green\", fontsize=12)\n",
    "ax.add_patch(mpatches.Rectangle((3300, 4.5), 1000, 0.6, facecolor=\"purple\", alpha=0.10))\n",
    "ax.text(4300, 5.1, \"He3-burning instability band\", color=\"purple\", fontsize=12)\n",
    "# Set titles, sizes etc.\n",
    "ax.set_title(\"GTO database objects instability bands - Nominal $T_{eff}$ and $log(g)$\", fontsize=16)\n",
    "ax.set_xlabel(\"$T_{eff}$ [K]\", fontsize=12)\n",
    "ax.set_ylabel(\"$log(g)$\", fontsize=12)\n",
    "ax.tick_params(axis='both', which='major', labelsize=12)\n",
    "ax.invert_xaxis()\n",
    "ax.invert_yaxis()\n",
    "plt.legend(title=\"GTO objects in instability band\", title_fontsize='large',\n",
    "           loc='best', fontsize=12)\n",
    "plt.savefig(IMAGE_NOMINAL_OUT)\n",
    "plt.show();"
   ]
  },
  {
   "cell_type": "code",
   "execution_count": 22,
   "id": "561863a5",
   "metadata": {
    "scrolled": false
   },
   "outputs": [
    {
     "data": {
      "image/png": "[encoded data removed]",
      "text/plain": [
       "<Figure size 720x720 with 1 Axes>"
      ]
     },
     "metadata": {},
     "output_type": "display_data"
    }
   ],
   "source": [
    "plt.figure(figsize=(10,10))\n",
    "ax = sns.scatterplot(data=gto, x='Teff_K', y='logg', hue='InstBand_ranged')\n",
    "# Set plot limits as per global CARMENES data values.\n",
    "x_min = min([INST_B['He3-burning']['Teff']['min'], INST_B['D-burning']['Teff']['min'],\n",
    "             carmenes['Teff_min_K'].min()])\n",
    "x_max = max([INST_B['He3-burning']['Teff']['max'], INST_B['D-burning']['Teff']['max'],\n",
    "             carmenes['Teff_max_K'].max()])\n",
    "y_min = min([INST_B['He3-burning']['logg']['min'], INST_B['D-burning']['logg']['min'],\n",
    "             carmenes['logg_min'].min()])\n",
    "y_max = max([INST_B['He3-burning']['logg']['max'], INST_B['D-burning']['logg']['max'],\n",
    "             carmenes['logg_max'].max()])\n",
    "ax.set_xlim((x_min, x_max))\n",
    "ax.set_ylim((y_min, y_max))\n",
    "# Add and label instability regions:\n",
    "ax.add_patch(mpatches.Rectangle((2800, 3.1), 700, 0.5, facecolor=\"green\", alpha=0.10))\n",
    "ax.text(3500, 3.6, \"D-burning instability band\", color=\"green\", fontsize=12)\n",
    "ax.add_patch(mpatches.Rectangle((3300, 4.5), 1000, 0.6, facecolor=\"purple\", alpha=0.10))\n",
    "ax.text(4300, 5.1, \"He3-burning instability band\", color=\"purple\", fontsize=12)\n",
    "# Set titles, sizes etc.\n",
    "ax.set_title(\"GTO database objects instability bands - Ranged $T_{eff}$ and $log(g)$\", fontsize=16)\n",
    "ax.set_xlabel(\"$T_{eff}$ [K]\", fontsize=12)\n",
    "ax.set_ylabel(\"$log(g)$\", fontsize=12)\n",
    "ax.tick_params(axis='both', which='major', labelsize=12)\n",
    "ax.invert_xaxis()\n",
    "ax.invert_yaxis()\n",
    "plt.legend(title=\"GTO objects in instability band\", title_fontsize='large',\n",
    "           loc='best', fontsize=12)\n",
    "plt.savefig(IMAGE_RANGED_OUT)\n",
    "plt.show();"
   ]
  },
  {
   "cell_type": "markdown",
   "id": "465f0088",
   "metadata": {},
   "source": [
    "## Save newly modified data"
   ]
  },
  {
   "cell_type": "code",
   "execution_count": 23,
   "id": "f7a067f2",
   "metadata": {},
   "outputs": [],
   "source": [
    "carmenes.to_csv(OUTPUT_FILE, sep=',', decimal='.', index=False)"
   ]
  },
  {
   "cell_type": "code",
   "execution_count": 24,
   "id": "309c3467",
   "metadata": {},
   "outputs": [],
   "source": [
    "carmenes[carmenes['is_GTO'] == True].to_csv(GTO_OUTPUT_FILE, sep=',', decimal='.', index=False)"
   ]
  },
  {
   "cell_type": "markdown",
   "id": "4fe95649",
   "metadata": {},
   "source": [
    "## Summary"
   ]
  },
  {
   "cell_type": "markdown",
   "id": "9c14f82f",
   "metadata": {},
   "source": [
    "**OBSERVATIONS AND CONCLUSSIONS:**\n",
    "- From the GTO sample, we have 224 stars in the _\"He3-burning\"_ instability band ($\\approx62\\%$ of the sample).\n",
    "- If we take into account the error margins in the `logg` and `Teff_K` variables, the number increases slightly to 259 stars ($\\approx71\\%$ of the sample))\n",
    "- The percentages in the _\"He3-burning\"_ instability bands for the sample of non-GTO stars are $\\approx41\\%$ (nominal) and $\\approx49\\%$ (ranged).\n",
    "- Hence, a greater fraction of GTO stars are prone to belong to the _\"He3-burning\"_ instability band.\n",
    "- No star in the total _CARMENES_ sample is located in the _\"D-burning\"_ stability band.\n",
    "- Notice that some stars in the database have no `Teff_K` or `logg` values, so their belonging to instability bands is unknown:\n",
    "  - 4 GTO stars have no `logg`value.\n",
    "  - 555 non-GTO stars have no `Teff_K`value; 556 non-GTO stars have no `logg` value."
   ]
  },
  {
   "cell_type": "code",
   "execution_count": null,
   "id": "b6a548c3",
   "metadata": {},
   "outputs": [],
   "source": []
  }
 ],
 "metadata": {
  "kernelspec": {
   "display_name": "Python 3",
   "language": "python",
   "name": "python3"
  },
  "language_info": {
   "codemirror_mode": {
    "name": "ipython",
    "version": 3
   },
   "file_extension": ".py",
   "mimetype": "text/x-python",
   "name": "python",
   "nbconvert_exporter": "python",
   "pygments_lexer": "ipython3",
   "version": "3.8.8"
  }
 },
 "nbformat": 4,
 "nbformat_minor": 5
}
