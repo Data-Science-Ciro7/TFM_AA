{
 "cells": [
  {
   "cell_type": "markdown",
   "id": "7e41b9a9",
   "metadata": {},
   "source": [
    "# Carmencita / CARM_VIS DATABASE LOADING AND INSPECTION\n",
    "Identifying CARM_VIS objects in Carmencita database, and checking if TESS light curve (LC) exist for each object\n",
    "(With pandas)"
   ]
  },
  {
   "cell_type": "markdown",
   "id": "9d4512e5",
   "metadata": {},
   "source": [
    "## Modules and configuration"
   ]
  },
  {
   "cell_type": "markdown",
   "id": "a24b300e",
   "metadata": {},
   "source": [
    "### Modules"
   ]
  },
  {
   "cell_type": "code",
   "execution_count": 1,
   "id": "bf7cc337",
   "metadata": {
    "ExecuteTime": {
     "end_time": "2022-06-04T09:09:33.106070Z",
     "start_time": "2022-06-04T09:09:32.230441Z"
    }
   },
   "outputs": [],
   "source": [
    "# Modules import:\n",
    "import numpy as np\n",
    "import pandas as pd\n",
    "from os import listdir\n",
    "from os.path import isfile, join"
   ]
  },
  {
   "cell_type": "markdown",
   "id": "be1f4594",
   "metadata": {},
   "source": [
    "### Configuration"
   ]
  },
  {
   "cell_type": "code",
   "execution_count": 2,
   "id": "f3feca3c",
   "metadata": {
    "ExecuteTime": {
     "end_time": "2022-06-04T09:13:38.466163Z",
     "start_time": "2022-06-04T09:13:38.452202Z"
    }
   },
   "outputs": [],
   "source": [
    "# Configuration:\n",
    "# Files:\n",
    "CARMENES_DBFILE = \"../data/carmencita.102.csv\"\n",
    "CARMENES_MODDBFILE = CARMENES_DBFILE[:-4] + \"_mod_CARM_VIS.csv\"\n",
    "CARMENES_STATS_OUT = CARMENES_DBFILE[:-4] + \"_stats_CARM_VIS.csv\"\n",
    "CARMENES_NAN_OUT = CARMENES_DBFILE[:-4] + \"_nan_CARM_VIS.csv\"\n",
    "\n",
    "GTO_FOLDER = \"../data/CARM_VIS_RVs/\"\n",
    "GTO_FOLDER_LC = \"../data/CARMENES_GTO_TESS_lc/lightcurves\"\n",
    "LATE_GTO_FOLDER_LC = \"../data/CARMENES_GTO_TESS_lc/CARMENES_late\""
   ]
  },
  {
   "cell_type": "markdown",
   "id": "16ea0306",
   "metadata": {},
   "source": [
    "## Functions"
   ]
  },
  {
   "cell_type": "markdown",
   "id": "0eaa4291",
   "metadata": {},
   "source": [
    "### Get a range from two columns (nominal and error)"
   ]
  },
  {
   "cell_type": "raw",
   "id": "8f0c83e2",
   "metadata": {},
   "source": [
    "def get_range(nominal, error):\n",
    "    return (nominal - error, nominal + error)"
   ]
  },
  {
   "cell_type": "markdown",
   "id": "f6f6e43e",
   "metadata": {},
   "source": [
    "### Locate TESS light curve"
   ]
  },
  {
   "cell_type": "code",
   "execution_count": 3,
   "id": "cd05c055",
   "metadata": {
    "ExecuteTime": {
     "end_time": "2022-06-04T09:13:45.809915Z",
     "start_time": "2022-06-04T09:13:45.794955Z"
    }
   },
   "outputs": [],
   "source": [
    "def locate_lc(obj_name, folder):\n",
    "    try:\n",
    "        files_in_folder = \"/\".join([folder, obj_name])\n",
    "        #print(files_in_folder)\n",
    "        files_in_folder = listdir(files_in_folder)\n",
    "        #print(files_in_folder)\n",
    "        if len(files_in_folder) > 1:\n",
    "            filename = \"<ambiguous>\"\n",
    "        else:\n",
    "            filename = \"/\".join([folder, obj_name, files_in_folder[0]])\n",
    "    except:\n",
    "        filename = None\n",
    "    return filename"
   ]
  },
  {
   "cell_type": "code",
   "execution_count": 4,
   "id": "e5a3fa45",
   "metadata": {
    "ExecuteTime": {
     "end_time": "2022-06-04T09:13:47.070048Z",
     "start_time": "2022-06-04T09:13:47.044118Z"
    }
   },
   "outputs": [
    {
     "data": {
      "text/plain": [
       "'../data/CARMENES_GTO_TESS_lc/lightcurves/J00051+457/J00051+457_TESS_TIC439946126_S17.fits'"
      ]
     },
     "execution_count": 4,
     "metadata": {},
     "output_type": "execute_result"
    }
   ],
   "source": [
    "# TEST:\n",
    "locate_lc(\"J00051+457\", GTO_FOLDER_LC)"
   ]
  },
  {
   "cell_type": "code",
   "execution_count": 5,
   "id": "479cef5e",
   "metadata": {
    "ExecuteTime": {
     "end_time": "2022-06-04T09:13:48.874412Z",
     "start_time": "2022-06-04T09:13:48.859451Z"
    }
   },
   "outputs": [
    {
     "data": {
      "text/plain": [
       "True"
      ]
     },
     "execution_count": 5,
     "metadata": {},
     "output_type": "execute_result"
    }
   ],
   "source": [
    "# TEST:\n",
    "a = locate_lc(\"unknown_name\", GTO_FOLDER_LC)\n",
    "a is None"
   ]
  },
  {
   "cell_type": "markdown",
   "id": "e60c8e8d",
   "metadata": {},
   "source": [
    "## Data loading and combining"
   ]
  },
  {
   "cell_type": "markdown",
   "id": "6f843119",
   "metadata": {},
   "source": [
    "### Load CARMENES database file"
   ]
  },
  {
   "cell_type": "code",
   "execution_count": 6,
   "id": "63b338bd",
   "metadata": {
    "ExecuteTime": {
     "end_time": "2022-06-04T09:13:58.921780Z",
     "start_time": "2022-06-04T09:13:58.834193Z"
    }
   },
   "outputs": [
    {
     "data": {
      "text/html": [
       "<div>\n",
       "<style scoped>\n",
       "    .dataframe tbody tr th:only-of-type {\n",
       "        vertical-align: middle;\n",
       "    }\n",
       "\n",
       "    .dataframe tbody tr th {\n",
       "        vertical-align: top;\n",
       "    }\n",
       "\n",
       "    .dataframe thead th {\n",
       "        text-align: right;\n",
       "    }\n",
       "</style>\n",
       "<table border=\"1\" class=\"dataframe\">\n",
       "  <thead>\n",
       "    <tr style=\"text-align: right;\">\n",
       "      <th></th>\n",
       "      <th>Karmn</th>\n",
       "      <th>Name</th>\n",
       "      <th>Comp</th>\n",
       "      <th>GJ</th>\n",
       "      <th>RA_J2016_deg</th>\n",
       "      <th>DE_J2016_deg</th>\n",
       "      <th>RA_J2000</th>\n",
       "      <th>DE_J2000</th>\n",
       "      <th>l_J2016_deg</th>\n",
       "      <th>b_J2016_deg</th>\n",
       "      <th>...</th>\n",
       "      <th>LoRes_spectrum</th>\n",
       "      <th>HiRes_spectrum</th>\n",
       "      <th>LoRes_imaging</th>\n",
       "      <th>HiRes_imaging</th>\n",
       "      <th>Class</th>\n",
       "      <th>Survey</th>\n",
       "      <th>Notes</th>\n",
       "      <th>Gaia_id_1</th>\n",
       "      <th>2MASS_id</th>\n",
       "      <th>TIC_id</th>\n",
       "    </tr>\n",
       "  </thead>\n",
       "  <tbody>\n",
       "    <tr>\n",
       "      <th>0</th>\n",
       "      <td>J23598+477</td>\n",
       "      <td>LP 149-014</td>\n",
       "      <td>-</td>\n",
       "      <td>4385</td>\n",
       "      <td>359.962056</td>\n",
       "      <td>47.761478</td>\n",
       "      <td>23:59:49.51</td>\n",
       "      <td>+47:45:44.5</td>\n",
       "      <td>114.027674</td>\n",
       "      <td>-14.216353</td>\n",
       "      <td>...</td>\n",
       "      <td>NaN</td>\n",
       "      <td>NaN</td>\n",
       "      <td>NaN</td>\n",
       "      <td>NaN</td>\n",
       "      <td>Gamma</td>\n",
       "      <td>NaN</td>\n",
       "      <td>NaN</td>\n",
       "      <td>1927517417630958208</td>\n",
       "      <td>23594940+4745447</td>\n",
       "      <td>177697529</td>\n",
       "    </tr>\n",
       "    <tr>\n",
       "      <th>1</th>\n",
       "      <td>J23590+208</td>\n",
       "      <td>G 129-051</td>\n",
       "      <td>-</td>\n",
       "      <td>NaN</td>\n",
       "      <td>359.753066</td>\n",
       "      <td>20.860336</td>\n",
       "      <td>23:59:00.42</td>\n",
       "      <td>+20:51:39.0</td>\n",
       "      <td>106.785616</td>\n",
       "      <td>-40.361996</td>\n",
       "      <td>...</td>\n",
       "      <td>CAFOS</td>\n",
       "      <td>NaN</td>\n",
       "      <td>NaN</td>\n",
       "      <td>NaN</td>\n",
       "      <td>Delta</td>\n",
       "      <td>NaN</td>\n",
       "      <td>NaN</td>\n",
       "      <td>2846620421604285568</td>\n",
       "      <td>23590042+2051387</td>\n",
       "      <td>2053997903</td>\n",
       "    </tr>\n",
       "    <tr>\n",
       "      <th>2</th>\n",
       "      <td>J23587+467</td>\n",
       "      <td>BD+45 4378 AB</td>\n",
       "      <td>AB</td>\n",
       "      <td>913</td>\n",
       "      <td>359.685432</td>\n",
       "      <td>46.729152</td>\n",
       "      <td>23:58:43.49</td>\n",
       "      <td>+46:43:44.7</td>\n",
       "      <td>113.616244</td>\n",
       "      <td>-15.187224</td>\n",
       "      <td>...</td>\n",
       "      <td>NaN</td>\n",
       "      <td>NaN</td>\n",
       "      <td>NaN</td>\n",
       "      <td>(FastCam) [Bale07]</td>\n",
       "      <td>Delta</td>\n",
       "      <td>NaN</td>\n",
       "      <td># WDS BAG34 consistent wtih Hei415.</td>\n",
       "      <td>1927184643563033856</td>\n",
       "      <td>23584342+4643452</td>\n",
       "      <td>2041238829</td>\n",
       "    </tr>\n",
       "    <tr>\n",
       "      <th>3</th>\n",
       "      <td>J23585+076</td>\n",
       "      <td>Wolf 1051</td>\n",
       "      <td>AB</td>\n",
       "      <td>4383</td>\n",
       "      <td>359.636420</td>\n",
       "      <td>7.656947</td>\n",
       "      <td>23:58:32.65</td>\n",
       "      <td>+07:39:30.1</td>\n",
       "      <td>100.839686</td>\n",
       "      <td>-52.931049</td>\n",
       "      <td>...</td>\n",
       "      <td>NaN</td>\n",
       "      <td>FEROS</td>\n",
       "      <td>NaN</td>\n",
       "      <td>(FastCam)</td>\n",
       "      <td>Delta+</td>\n",
       "      <td>GTO</td>\n",
       "      <td>NaN</td>\n",
       "      <td>2746709861572970624</td>\n",
       "      <td>23583264+0739304</td>\n",
       "      <td>408486498</td>\n",
       "    </tr>\n",
       "    <tr>\n",
       "      <th>4</th>\n",
       "      <td>J23582-174</td>\n",
       "      <td>LP 764-040</td>\n",
       "      <td>AB</td>\n",
       "      <td>NaN</td>\n",
       "      <td>359.558095</td>\n",
       "      <td>-17.409041</td>\n",
       "      <td>23:58:13.69</td>\n",
       "      <td>-17:24:32.9</td>\n",
       "      <td>68.527865</td>\n",
       "      <td>-74.336758</td>\n",
       "      <td>...</td>\n",
       "      <td>NaN</td>\n",
       "      <td>NaN</td>\n",
       "      <td>NaN</td>\n",
       "      <td>[Dae07 AstraLux]</td>\n",
       "      <td>Delta</td>\n",
       "      <td>NaN</td>\n",
       "      <td>#20-150Ma Shk09.</td>\n",
       "      <td>2414454421367861376</td>\n",
       "      <td>23581366-1724338</td>\n",
       "      <td>2052312661</td>\n",
       "    </tr>\n",
       "  </tbody>\n",
       "</table>\n",
       "<p>5 rows × 175 columns</p>\n",
       "</div>"
      ],
      "text/plain": [
       "        Karmn           Name Comp    GJ  RA_J2016_deg  DE_J2016_deg  \\\n",
       "0  J23598+477     LP 149-014    -  4385    359.962056     47.761478   \n",
       "1  J23590+208      G 129-051    -   NaN    359.753066     20.860336   \n",
       "2  J23587+467  BD+45 4378 AB   AB   913    359.685432     46.729152   \n",
       "3  J23585+076      Wolf 1051   AB  4383    359.636420      7.656947   \n",
       "4  J23582-174     LP 764-040   AB   NaN    359.558095    -17.409041   \n",
       "\n",
       "      RA_J2000     DE_J2000  l_J2016_deg  b_J2016_deg  ... LoRes_spectrum  \\\n",
       "0  23:59:49.51  +47:45:44.5   114.027674   -14.216353  ...            NaN   \n",
       "1  23:59:00.42  +20:51:39.0   106.785616   -40.361996  ...          CAFOS   \n",
       "2  23:58:43.49  +46:43:44.7   113.616244   -15.187224  ...            NaN   \n",
       "3  23:58:32.65  +07:39:30.1   100.839686   -52.931049  ...            NaN   \n",
       "4  23:58:13.69  -17:24:32.9    68.527865   -74.336758  ...            NaN   \n",
       "\n",
       "  HiRes_spectrum  LoRes_imaging       HiRes_imaging   Class  Survey  \\\n",
       "0            NaN            NaN                 NaN   Gamma     NaN   \n",
       "1            NaN            NaN                 NaN   Delta     NaN   \n",
       "2            NaN            NaN  (FastCam) [Bale07]   Delta     NaN   \n",
       "3          FEROS            NaN           (FastCam)  Delta+     GTO   \n",
       "4            NaN            NaN    [Dae07 AstraLux]   Delta     NaN   \n",
       "\n",
       "                                 Notes            Gaia_id_1          2MASS_id  \\\n",
       "0                                  NaN  1927517417630958208  23594940+4745447   \n",
       "1                                  NaN  2846620421604285568  23590042+2051387   \n",
       "2  # WDS BAG34 consistent wtih Hei415.  1927184643563033856  23584342+4643452   \n",
       "3                                  NaN  2746709861572970624  23583264+0739304   \n",
       "4                     #20-150Ma Shk09.  2414454421367861376  23581366-1724338   \n",
       "\n",
       "       TIC_id  \n",
       "0   177697529  \n",
       "1  2053997903  \n",
       "2  2041238829  \n",
       "3   408486498  \n",
       "4  2052312661  \n",
       "\n",
       "[5 rows x 175 columns]"
      ]
     },
     "execution_count": 6,
     "metadata": {},
     "output_type": "execute_result"
    }
   ],
   "source": [
    "carmenes = pd.read_csv(CARMENES_DBFILE, sep=',', decimal='.')\n",
    "carmenes.head()"
   ]
  },
  {
   "cell_type": "code",
   "execution_count": 7,
   "id": "b9336940",
   "metadata": {
    "ExecuteTime": {
     "end_time": "2022-06-04T09:14:00.737060Z",
     "start_time": "2022-06-04T09:14:00.724095Z"
    }
   },
   "outputs": [
    {
     "name": "stdout",
     "output_type": "stream",
     "text": [
      "['Karmn', 'Name', 'Comp', 'GJ', 'RA_J2016_deg', 'DE_J2016_deg', 'RA_J2000', 'DE_J2000', 'l_J2016_deg', 'b_J2016_deg', 'Ref01', 'SpT', 'SpTnum', 'Ref02', 'Teff_K', 'eTeff_K', 'logg', 'elogg', '[Fe/H]', 'e[Fe/H]', 'Ref03', 'L_Lsol', 'eL_Lsol', 'Ref04', 'R_Rsol', 'eR_Rsol', 'Ref05', 'M_Msol', 'eM_Msol', 'Ref06', 'muRA_masa-1', 'emuRA_masa-1', 'muDE_masa-1', 'emuDE_masa-1', 'Ref07', 'pi_mas', 'epi_mas', 'Ref08', 'd_pc', 'ed_pc', 'Ref09', 'Vr_kms-1', 'eVr_kms-1', 'Ref10', 'ruwe', 'Ref11', 'U_kms-1', 'eU_kms-1', 'V_kms-1', 'eV_kms-1', 'W_kms-1', 'eW_kms-1', 'Ref12', 'sa_m/s/a', 'esa_m/s/a', 'Ref13', 'SKG', 'Ref14', 'SKG_lit', 'Ref14_lit', 'Pop', 'Ref15', 'vsini_flag', 'vsini_kms-1', 'evsini_kms-1', 'Ref16', 'P_d', 'eP_d', 'Ref17', 'pEWHalpha_A', 'epEWHalpha_A', 'Ref18', 'log(LHalpha/Lbol)', 'elog(LHalpha/Lbol)', 'Ref19', '1RXS', 'CRT_s-1', 'eCRT_s-1', 'HR1', 'eHR1', 'HR2', 'eHR2', 'Flux_X_E-13_ergcm-2s-1', 'eFlux_X_E-13_ergcm-2s-1', 'LX/LJ', 'eLX/LJ', 'Ref20', 'Activity', 'Ref21', 'FUV_mag', 'eFUV_mag', 'NUV_mag', 'eNUV_mag', 'Ref22', 'u_mag', 'eu_mag', 'Ref23', 'BT_mag', 'eBT_mag', 'Ref24', 'B_mag', 'eB_mag', 'Ref25', 'BP_mag', 'eBP_mag', 'Ref26', 'g_mag', 'eg_mag', 'Ref27', 'VT_mag', 'eVT_mag', 'Ref28', 'V_mag', 'eV_mag', 'Ref29', 'Ra_mag', 'Ref30', 'r_mag', 'er_mag', 'Ref31', 'GG_mag', 'eGG_mag', 'Ref32', 'i_mag', 'ei_mag', 'Ref33', 'RP_mag', 'eRP_mag', 'Ref34', 'IN_mag', 'Ref35', 'J_mag', 'eJ_mag', 'H_mag', 'eH_mag', 'Ks_mag', 'eKs_mag', 'QFlag_2M', 'Ref36', 'W1_mag', 'eW1_mag', 'W2_mag', 'eW2_mag', 'W3_mag', 'eW3_mag', 'W4_mag', 'eW4_mag', 'QFlag_WISE', 'Ref37', 'Multiplicity', 'WideWDS', 'Widerho_arcsec', 'eWiderho_arcsec', 'Ref38', 'WideCompanionName', 'WideCompanionSpT', 'CloseWDS', 'Closerho_arcsec', 'eCloserho_arcsec', 'Ref39', 'CloseCompanionSpT', 'RV', 'Planet', 'Ref40', 'PlanetNum', 'LoRes_spectrum', 'HiRes_spectrum', 'LoRes_imaging', 'HiRes_imaging', 'Class', 'Survey', 'Notes', 'Gaia_id_1', '2MASS_id', 'TIC_id']\n"
     ]
    }
   ],
   "source": [
    "print(carmenes.columns.tolist())"
   ]
  },
  {
   "cell_type": "markdown",
   "id": "7b0dda1f",
   "metadata": {},
   "source": [
    "### Basic statistics"
   ]
  },
  {
   "cell_type": "code",
   "execution_count": 8,
   "id": "1b4451b7",
   "metadata": {
    "ExecuteTime": {
     "end_time": "2022-06-04T09:14:01.912491Z",
     "start_time": "2022-06-04T09:14:01.764535Z"
    }
   },
   "outputs": [
    {
     "data": {
      "text/html": [
       "<div>\n",
       "<style scoped>\n",
       "    .dataframe tbody tr th:only-of-type {\n",
       "        vertical-align: middle;\n",
       "    }\n",
       "\n",
       "    .dataframe tbody tr th {\n",
       "        vertical-align: top;\n",
       "    }\n",
       "\n",
       "    .dataframe thead th {\n",
       "        text-align: right;\n",
       "    }\n",
       "</style>\n",
       "<table border=\"1\" class=\"dataframe\">\n",
       "  <thead>\n",
       "    <tr style=\"text-align: right;\">\n",
       "      <th></th>\n",
       "      <th>RA_J2016_deg</th>\n",
       "      <th>DE_J2016_deg</th>\n",
       "      <th>l_J2016_deg</th>\n",
       "      <th>b_J2016_deg</th>\n",
       "      <th>SpTnum</th>\n",
       "      <th>Teff_K</th>\n",
       "      <th>eTeff_K</th>\n",
       "      <th>logg</th>\n",
       "      <th>elogg</th>\n",
       "      <th>[Fe/H]</th>\n",
       "      <th>...</th>\n",
       "      <th>eW1_mag</th>\n",
       "      <th>W2_mag</th>\n",
       "      <th>eW2_mag</th>\n",
       "      <th>W3_mag</th>\n",
       "      <th>eW3_mag</th>\n",
       "      <th>W4_mag</th>\n",
       "      <th>eW4_mag</th>\n",
       "      <th>PlanetNum</th>\n",
       "      <th>Gaia_id_1</th>\n",
       "      <th>TIC_id</th>\n",
       "    </tr>\n",
       "  </thead>\n",
       "  <tbody>\n",
       "    <tr>\n",
       "      <th>count</th>\n",
       "      <td>2212.000000</td>\n",
       "      <td>2212.000000</td>\n",
       "      <td>2211.000000</td>\n",
       "      <td>2211.000000</td>\n",
       "      <td>2212.000000</td>\n",
       "      <td>1657.000000</td>\n",
       "      <td>1657.000000</td>\n",
       "      <td>1652.000000</td>\n",
       "      <td>1652.000000</td>\n",
       "      <td>1652.000000</td>\n",
       "      <td>...</td>\n",
       "      <td>2193.000000</td>\n",
       "      <td>2194.000000</td>\n",
       "      <td>2194.000000</td>\n",
       "      <td>2194.000000</td>\n",
       "      <td>2194.000000</td>\n",
       "      <td>2194.000000</td>\n",
       "      <td>2115.000000</td>\n",
       "      <td>2206.000000</td>\n",
       "      <td>2.212000e+03</td>\n",
       "      <td>2.212000e+03</td>\n",
       "    </tr>\n",
       "    <tr>\n",
       "      <th>mean</th>\n",
       "      <td>174.478191</td>\n",
       "      <td>25.033073</td>\n",
       "      <td>141.530909</td>\n",
       "      <td>10.808282</td>\n",
       "      <td>2.804566</td>\n",
       "      <td>3422.496077</td>\n",
       "      <td>45.379602</td>\n",
       "      <td>4.978553</td>\n",
       "      <td>0.410533</td>\n",
       "      <td>-0.030448</td>\n",
       "      <td>...</td>\n",
       "      <td>0.043555</td>\n",
       "      <td>7.536307</td>\n",
       "      <td>0.025103</td>\n",
       "      <td>7.454438</td>\n",
       "      <td>0.019887</td>\n",
       "      <td>7.309170</td>\n",
       "      <td>0.146526</td>\n",
       "      <td>0.036718</td>\n",
       "      <td>2.313430e+18</td>\n",
       "      <td>3.593196e+08</td>\n",
       "    </tr>\n",
       "    <tr>\n",
       "      <th>std</th>\n",
       "      <td>105.175380</td>\n",
       "      <td>25.873700</td>\n",
       "      <td>77.624600</td>\n",
       "      <td>38.548382</td>\n",
       "      <td>1.571185</td>\n",
       "      <td>283.857097</td>\n",
       "      <td>11.216744</td>\n",
       "      <td>0.355109</td>\n",
       "      <td>0.160944</td>\n",
       "      <td>0.092074</td>\n",
       "      <td>...</td>\n",
       "      <td>0.045817</td>\n",
       "      <td>1.038403</td>\n",
       "      <td>0.021990</td>\n",
       "      <td>0.962119</td>\n",
       "      <td>0.005868</td>\n",
       "      <td>0.934874</td>\n",
       "      <td>0.097991</td>\n",
       "      <td>0.284143</td>\n",
       "      <td>1.567342e+18</td>\n",
       "      <td>3.709552e+08</td>\n",
       "    </tr>\n",
       "    <tr>\n",
       "      <th>min</th>\n",
       "      <td>0.303710</td>\n",
       "      <td>-32.437037</td>\n",
       "      <td>0.297124</td>\n",
       "      <td>-85.781428</td>\n",
       "      <td>-2.000000</td>\n",
       "      <td>2400.000000</td>\n",
       "      <td>9.000000</td>\n",
       "      <td>4.000000</td>\n",
       "      <td>0.030000</td>\n",
       "      <td>-0.620000</td>\n",
       "      <td>...</td>\n",
       "      <td>0.011000</td>\n",
       "      <td>2.360000</td>\n",
       "      <td>0.010000</td>\n",
       "      <td>3.045000</td>\n",
       "      <td>0.010000</td>\n",
       "      <td>2.934000</td>\n",
       "      <td>0.015000</td>\n",
       "      <td>0.000000</td>\n",
       "      <td>3.179036e+15</td>\n",
       "      <td>7.073460e+05</td>\n",
       "    </tr>\n",
       "    <tr>\n",
       "      <th>25%</th>\n",
       "      <td>79.220264</td>\n",
       "      <td>5.438041</td>\n",
       "      <td>80.737176</td>\n",
       "      <td>-18.876011</td>\n",
       "      <td>1.500000</td>\n",
       "      <td>3200.000000</td>\n",
       "      <td>50.000000</td>\n",
       "      <td>4.687500</td>\n",
       "      <td>0.500000</td>\n",
       "      <td>0.000000</td>\n",
       "      <td>...</td>\n",
       "      <td>0.023000</td>\n",
       "      <td>7.061250</td>\n",
       "      <td>0.020000</td>\n",
       "      <td>6.988250</td>\n",
       "      <td>0.016000</td>\n",
       "      <td>6.852250</td>\n",
       "      <td>0.077000</td>\n",
       "      <td>0.000000</td>\n",
       "      <td>9.819256e+17</td>\n",
       "      <td>1.442746e+08</td>\n",
       "    </tr>\n",
       "    <tr>\n",
       "      <th>50%</th>\n",
       "      <td>170.592594</td>\n",
       "      <td>22.680032</td>\n",
       "      <td>137.796626</td>\n",
       "      <td>12.442436</td>\n",
       "      <td>3.000000</td>\n",
       "      <td>3400.000000</td>\n",
       "      <td>50.000000</td>\n",
       "      <td>5.000000</td>\n",
       "      <td>0.500000</td>\n",
       "      <td>0.000000</td>\n",
       "      <td>...</td>\n",
       "      <td>0.027000</td>\n",
       "      <td>7.678500</td>\n",
       "      <td>0.020000</td>\n",
       "      <td>7.576500</td>\n",
       "      <td>0.018000</td>\n",
       "      <td>7.444000</td>\n",
       "      <td>0.121000</td>\n",
       "      <td>0.000000</td>\n",
       "      <td>2.104625e+18</td>\n",
       "      <td>2.859379e+08</td>\n",
       "    </tr>\n",
       "    <tr>\n",
       "      <th>75%</th>\n",
       "      <td>265.664080</td>\n",
       "      <td>44.133004</td>\n",
       "      <td>191.232163</td>\n",
       "      <td>42.360953</td>\n",
       "      <td>4.000000</td>\n",
       "      <td>3600.000000</td>\n",
       "      <td>50.000000</td>\n",
       "      <td>5.140000</td>\n",
       "      <td>0.500000</td>\n",
       "      <td>0.000000</td>\n",
       "      <td>...</td>\n",
       "      <td>0.039000</td>\n",
       "      <td>8.204250</td>\n",
       "      <td>0.021000</td>\n",
       "      <td>8.082750</td>\n",
       "      <td>0.021000</td>\n",
       "      <td>7.920750</td>\n",
       "      <td>0.188000</td>\n",
       "      <td>0.000000</td>\n",
       "      <td>3.409167e+18</td>\n",
       "      <td>4.173732e+08</td>\n",
       "    </tr>\n",
       "    <tr>\n",
       "      <th>max</th>\n",
       "      <td>359.962056</td>\n",
       "      <td>88.405627</td>\n",
       "      <td>359.808867</td>\n",
       "      <td>89.717950</td>\n",
       "      <td>9.500000</td>\n",
       "      <td>4500.000000</td>\n",
       "      <td>97.000000</td>\n",
       "      <td>5.500000</td>\n",
       "      <td>0.500000</td>\n",
       "      <td>0.420000</td>\n",
       "      <td>...</td>\n",
       "      <td>0.524000</td>\n",
       "      <td>11.316000</td>\n",
       "      <td>0.429000</td>\n",
       "      <td>10.313000</td>\n",
       "      <td>0.091000</td>\n",
       "      <td>9.495000</td>\n",
       "      <td>0.540000</td>\n",
       "      <td>7.000000</td>\n",
       "      <td>6.916735e+18</td>\n",
       "      <td>2.054010e+09</td>\n",
       "    </tr>\n",
       "  </tbody>\n",
       "</table>\n",
       "<p>8 rows × 99 columns</p>\n",
       "</div>"
      ],
      "text/plain": [
       "       RA_J2016_deg  DE_J2016_deg  l_J2016_deg  b_J2016_deg       SpTnum  \\\n",
       "count   2212.000000   2212.000000  2211.000000  2211.000000  2212.000000   \n",
       "mean     174.478191     25.033073   141.530909    10.808282     2.804566   \n",
       "std      105.175380     25.873700    77.624600    38.548382     1.571185   \n",
       "min        0.303710    -32.437037     0.297124   -85.781428    -2.000000   \n",
       "25%       79.220264      5.438041    80.737176   -18.876011     1.500000   \n",
       "50%      170.592594     22.680032   137.796626    12.442436     3.000000   \n",
       "75%      265.664080     44.133004   191.232163    42.360953     4.000000   \n",
       "max      359.962056     88.405627   359.808867    89.717950     9.500000   \n",
       "\n",
       "            Teff_K      eTeff_K         logg        elogg       [Fe/H]  ...  \\\n",
       "count  1657.000000  1657.000000  1652.000000  1652.000000  1652.000000  ...   \n",
       "mean   3422.496077    45.379602     4.978553     0.410533    -0.030448  ...   \n",
       "std     283.857097    11.216744     0.355109     0.160944     0.092074  ...   \n",
       "min    2400.000000     9.000000     4.000000     0.030000    -0.620000  ...   \n",
       "25%    3200.000000    50.000000     4.687500     0.500000     0.000000  ...   \n",
       "50%    3400.000000    50.000000     5.000000     0.500000     0.000000  ...   \n",
       "75%    3600.000000    50.000000     5.140000     0.500000     0.000000  ...   \n",
       "max    4500.000000    97.000000     5.500000     0.500000     0.420000  ...   \n",
       "\n",
       "           eW1_mag       W2_mag      eW2_mag       W3_mag      eW3_mag  \\\n",
       "count  2193.000000  2194.000000  2194.000000  2194.000000  2194.000000   \n",
       "mean      0.043555     7.536307     0.025103     7.454438     0.019887   \n",
       "std       0.045817     1.038403     0.021990     0.962119     0.005868   \n",
       "min       0.011000     2.360000     0.010000     3.045000     0.010000   \n",
       "25%       0.023000     7.061250     0.020000     6.988250     0.016000   \n",
       "50%       0.027000     7.678500     0.020000     7.576500     0.018000   \n",
       "75%       0.039000     8.204250     0.021000     8.082750     0.021000   \n",
       "max       0.524000    11.316000     0.429000    10.313000     0.091000   \n",
       "\n",
       "            W4_mag      eW4_mag    PlanetNum     Gaia_id_1        TIC_id  \n",
       "count  2194.000000  2115.000000  2206.000000  2.212000e+03  2.212000e+03  \n",
       "mean      7.309170     0.146526     0.036718  2.313430e+18  3.593196e+08  \n",
       "std       0.934874     0.097991     0.284143  1.567342e+18  3.709552e+08  \n",
       "min       2.934000     0.015000     0.000000  3.179036e+15  7.073460e+05  \n",
       "25%       6.852250     0.077000     0.000000  9.819256e+17  1.442746e+08  \n",
       "50%       7.444000     0.121000     0.000000  2.104625e+18  2.859379e+08  \n",
       "75%       7.920750     0.188000     0.000000  3.409167e+18  4.173732e+08  \n",
       "max       9.495000     0.540000     7.000000  6.916735e+18  2.054010e+09  \n",
       "\n",
       "[8 rows x 99 columns]"
      ]
     },
     "execution_count": 8,
     "metadata": {},
     "output_type": "execute_result"
    }
   ],
   "source": [
    "carmenes_stats = carmenes.describe()\n",
    "carmenes_stats"
   ]
  },
  {
   "cell_type": "code",
   "execution_count": 9,
   "id": "7caa2f27",
   "metadata": {
    "ExecuteTime": {
     "end_time": "2022-06-04T09:14:03.982137Z",
     "start_time": "2022-06-04T09:14:03.964185Z"
    }
   },
   "outputs": [
    {
     "data": {
      "text/plain": [
       "Karmn              0\n",
       "Name               0\n",
       "Comp               0\n",
       "GJ               914\n",
       "RA_J2016_deg       0\n",
       "                ... \n",
       "Survey          1811\n",
       "Notes           1868\n",
       "Gaia_id_1          0\n",
       "2MASS_id           0\n",
       "TIC_id             0\n",
       "Length: 175, dtype: int64"
      ]
     },
     "execution_count": 9,
     "metadata": {},
     "output_type": "execute_result"
    }
   ],
   "source": [
    "carmenes_nan = carmenes.isnull().sum()\n",
    "carmenes_nan"
   ]
  },
  {
   "cell_type": "markdown",
   "id": "0e2a4b55",
   "metadata": {},
   "source": [
    "### Add ranges for `Teff_K` and `logg`variables"
   ]
  },
  {
   "cell_type": "code",
   "execution_count": 10,
   "id": "12a2a5c1",
   "metadata": {
    "ExecuteTime": {
     "end_time": "2022-06-04T09:14:12.982433Z",
     "start_time": "2022-06-04T09:14:12.947485Z"
    }
   },
   "outputs": [],
   "source": [
    "carmenes['Teff_min_K'] = carmenes['Teff_K'] - carmenes['eTeff_K']\n",
    "carmenes['Teff_max_K'] = carmenes['Teff_K'] + carmenes['eTeff_K']\n",
    "carmenes['logg_min'] = carmenes['logg'] - carmenes['elogg']\n",
    "carmenes['logg_max'] = carmenes['logg'] + carmenes['elogg']\n"
   ]
  },
  {
   "cell_type": "raw",
   "id": "33a5cf83",
   "metadata": {},
   "source": [
    "carmenes['Teff_K_range'] = carmenes.apply(lambda x: get_range(x.Teff_K, x.eTeff_K), axis=1)\n",
    "carmenes['logg_range'] = carmenes.apply(lambda x: get_range(x.logg, x.elogg), axis=1)\n",
    "\n",
    "carmenes[['Teff_K', 'eTeff_K', 'Teff_K_range', 'logg', 'elogg', 'logg_range']].head()"
   ]
  },
  {
   "cell_type": "markdown",
   "id": "3522ff85",
   "metadata": {},
   "source": [
    "### Retrieve GTO object names"
   ]
  },
  {
   "cell_type": "code",
   "execution_count": 16,
   "id": "f41c32be",
   "metadata": {
    "ExecuteTime": {
     "end_time": "2022-06-04T09:20:32.792144Z",
     "start_time": "2022-06-04T09:20:32.754154Z"
    }
   },
   "outputs": [
    {
     "name": "stdout",
     "output_type": "stream",
     "text": [
      "390 GTO objects found.\n",
      "10 first GTO objects: ['J00051+457', 'J00067-075', 'J00162+198E', 'J00162+198W', 'J00183+440', 'J00184+440', 'J00286-066', 'J00389+306', 'J00403+612', 'J00570+450']\n"
     ]
    }
   ],
   "source": [
    "dir_items = listdir(GTO_FOLDER)\n",
    "gto_names = []\n",
    "for f in dir_items:\n",
    "    try:\n",
    "        if isfile(join(GTO_FOLDER, f)) and f[-7:] == \"avc.dat\":\n",
    "            # Incorporate object name:\n",
    "            gto_names.append(f[:f.find('.')])\n",
    "        else:\n",
    "            pass\n",
    "    except:\n",
    "        pass\n",
    "print(\"%d GTO objects found.\" %len(gto_names))\n",
    "print(\"10 first GTO objects: %s\" %gto_names[:10])"
   ]
  },
  {
   "cell_type": "markdown",
   "id": "57284911",
   "metadata": {},
   "source": [
    "### Identify GTO objects in CARMENES database and locate RV files"
   ]
  },
  {
   "cell_type": "code",
   "execution_count": 17,
   "id": "2687e00d",
   "metadata": {
    "ExecuteTime": {
     "end_time": "2022-06-04T09:21:23.579702Z",
     "start_time": "2022-06-04T09:21:23.554763Z"
    }
   },
   "outputs": [
    {
     "name": "stdout",
     "output_type": "stream",
     "text": [
      "GTO objects identified in CARMENES database: 390\n"
     ]
    }
   ],
   "source": [
    "carmenes['is_GTO'] = False\n",
    "carmenes.loc[carmenes['Karmn'].isin(gto_names), 'is_GTO'] = True\n",
    "print(\"GTO objects identified in CARMENES database: %d\" %carmenes[carmenes['is_GTO']].shape[0])"
   ]
  },
  {
   "cell_type": "code",
   "execution_count": 18,
   "id": "f208edcb",
   "metadata": {
    "ExecuteTime": {
     "end_time": "2022-06-04T09:32:41.732429Z",
     "start_time": "2022-06-04T09:32:41.724452Z"
    }
   },
   "outputs": [],
   "source": [
    "carmenes['rv_file'] = None\n",
    "carmenes.loc[carmenes['is_GTO'] == True, 'rv_file'] = GTO_FOLDER + \\\n",
    "    carmenes.loc[carmenes['is_GTO'] == True, 'Karmn'] + \".dat\""
   ]
  },
  {
   "cell_type": "markdown",
   "id": "af199cd6",
   "metadata": {},
   "source": [
    "### Locate TESS light curve files"
   ]
  },
  {
   "cell_type": "markdown",
   "id": "efa7c089",
   "metadata": {},
   "source": [
    "We first try with CARMENES \"late\" folder, with only 16 files."
   ]
  },
  {
   "cell_type": "code",
   "execution_count": 19,
   "id": "c17078f9",
   "metadata": {
    "ExecuteTime": {
     "end_time": "2022-06-04T09:32:52.206293Z",
     "start_time": "2022-06-04T09:32:52.121006Z"
    }
   },
   "outputs": [
    {
     "data": {
      "text/html": [
       "<div>\n",
       "<style scoped>\n",
       "    .dataframe tbody tr th:only-of-type {\n",
       "        vertical-align: middle;\n",
       "    }\n",
       "\n",
       "    .dataframe tbody tr th {\n",
       "        vertical-align: top;\n",
       "    }\n",
       "\n",
       "    .dataframe thead th {\n",
       "        text-align: right;\n",
       "    }\n",
       "</style>\n",
       "<table border=\"1\" class=\"dataframe\">\n",
       "  <thead>\n",
       "    <tr style=\"text-align: right;\">\n",
       "      <th></th>\n",
       "      <th>Karmn</th>\n",
       "      <th>Name</th>\n",
       "      <th>Comp</th>\n",
       "      <th>GJ</th>\n",
       "      <th>RA_J2016_deg</th>\n",
       "      <th>DE_J2016_deg</th>\n",
       "      <th>RA_J2000</th>\n",
       "      <th>DE_J2000</th>\n",
       "      <th>l_J2016_deg</th>\n",
       "      <th>b_J2016_deg</th>\n",
       "      <th>...</th>\n",
       "      <th>Gaia_id_1</th>\n",
       "      <th>2MASS_id</th>\n",
       "      <th>TIC_id</th>\n",
       "      <th>Teff_min_K</th>\n",
       "      <th>Teff_max_K</th>\n",
       "      <th>logg_min</th>\n",
       "      <th>logg_max</th>\n",
       "      <th>is_GTO</th>\n",
       "      <th>rv_file</th>\n",
       "      <th>lc_file</th>\n",
       "    </tr>\n",
       "  </thead>\n",
       "  <tbody>\n",
       "    <tr>\n",
       "      <th>0</th>\n",
       "      <td>J23598+477</td>\n",
       "      <td>LP 149-014</td>\n",
       "      <td>-</td>\n",
       "      <td>4385</td>\n",
       "      <td>359.962056</td>\n",
       "      <td>47.761478</td>\n",
       "      <td>23:59:49.51</td>\n",
       "      <td>+47:45:44.5</td>\n",
       "      <td>114.027674</td>\n",
       "      <td>-14.216353</td>\n",
       "      <td>...</td>\n",
       "      <td>1927517417630958208</td>\n",
       "      <td>23594940+4745447</td>\n",
       "      <td>177697529</td>\n",
       "      <td>2950.0</td>\n",
       "      <td>3050.0</td>\n",
       "      <td>4.50</td>\n",
       "      <td>5.50</td>\n",
       "      <td>False</td>\n",
       "      <td>None</td>\n",
       "      <td>None</td>\n",
       "    </tr>\n",
       "    <tr>\n",
       "      <th>1</th>\n",
       "      <td>J23590+208</td>\n",
       "      <td>G 129-051</td>\n",
       "      <td>-</td>\n",
       "      <td>NaN</td>\n",
       "      <td>359.753066</td>\n",
       "      <td>20.860336</td>\n",
       "      <td>23:59:00.42</td>\n",
       "      <td>+20:51:39.0</td>\n",
       "      <td>106.785616</td>\n",
       "      <td>-40.361996</td>\n",
       "      <td>...</td>\n",
       "      <td>2846620421604285568</td>\n",
       "      <td>23590042+2051387</td>\n",
       "      <td>2053997903</td>\n",
       "      <td>NaN</td>\n",
       "      <td>NaN</td>\n",
       "      <td>NaN</td>\n",
       "      <td>NaN</td>\n",
       "      <td>False</td>\n",
       "      <td>None</td>\n",
       "      <td>None</td>\n",
       "    </tr>\n",
       "    <tr>\n",
       "      <th>2</th>\n",
       "      <td>J23587+467</td>\n",
       "      <td>BD+45 4378 AB</td>\n",
       "      <td>AB</td>\n",
       "      <td>913</td>\n",
       "      <td>359.685432</td>\n",
       "      <td>46.729152</td>\n",
       "      <td>23:58:43.49</td>\n",
       "      <td>+46:43:44.7</td>\n",
       "      <td>113.616244</td>\n",
       "      <td>-15.187224</td>\n",
       "      <td>...</td>\n",
       "      <td>1927184643563033856</td>\n",
       "      <td>23584342+4643452</td>\n",
       "      <td>2041238829</td>\n",
       "      <td>NaN</td>\n",
       "      <td>NaN</td>\n",
       "      <td>NaN</td>\n",
       "      <td>NaN</td>\n",
       "      <td>False</td>\n",
       "      <td>None</td>\n",
       "      <td>None</td>\n",
       "    </tr>\n",
       "    <tr>\n",
       "      <th>3</th>\n",
       "      <td>J23585+076</td>\n",
       "      <td>Wolf 1051</td>\n",
       "      <td>AB</td>\n",
       "      <td>4383</td>\n",
       "      <td>359.636420</td>\n",
       "      <td>7.656947</td>\n",
       "      <td>23:58:32.65</td>\n",
       "      <td>+07:39:30.1</td>\n",
       "      <td>100.839686</td>\n",
       "      <td>-52.931049</td>\n",
       "      <td>...</td>\n",
       "      <td>2746709861572970624</td>\n",
       "      <td>23583264+0739304</td>\n",
       "      <td>408486498</td>\n",
       "      <td>3476.0</td>\n",
       "      <td>3516.0</td>\n",
       "      <td>4.89</td>\n",
       "      <td>5.05</td>\n",
       "      <td>True</td>\n",
       "      <td>../data/CARM_VIS_RVs/J23585+076.dat</td>\n",
       "      <td>None</td>\n",
       "    </tr>\n",
       "    <tr>\n",
       "      <th>4</th>\n",
       "      <td>J23582-174</td>\n",
       "      <td>LP 764-040</td>\n",
       "      <td>AB</td>\n",
       "      <td>NaN</td>\n",
       "      <td>359.558095</td>\n",
       "      <td>-17.409041</td>\n",
       "      <td>23:58:13.69</td>\n",
       "      <td>-17:24:32.9</td>\n",
       "      <td>68.527865</td>\n",
       "      <td>-74.336758</td>\n",
       "      <td>...</td>\n",
       "      <td>2414454421367861376</td>\n",
       "      <td>23581366-1724338</td>\n",
       "      <td>2052312661</td>\n",
       "      <td>NaN</td>\n",
       "      <td>NaN</td>\n",
       "      <td>NaN</td>\n",
       "      <td>NaN</td>\n",
       "      <td>False</td>\n",
       "      <td>None</td>\n",
       "      <td>None</td>\n",
       "    </tr>\n",
       "  </tbody>\n",
       "</table>\n",
       "<p>5 rows × 182 columns</p>\n",
       "</div>"
      ],
      "text/plain": [
       "        Karmn           Name Comp    GJ  RA_J2016_deg  DE_J2016_deg  \\\n",
       "0  J23598+477     LP 149-014    -  4385    359.962056     47.761478   \n",
       "1  J23590+208      G 129-051    -   NaN    359.753066     20.860336   \n",
       "2  J23587+467  BD+45 4378 AB   AB   913    359.685432     46.729152   \n",
       "3  J23585+076      Wolf 1051   AB  4383    359.636420      7.656947   \n",
       "4  J23582-174     LP 764-040   AB   NaN    359.558095    -17.409041   \n",
       "\n",
       "      RA_J2000     DE_J2000  l_J2016_deg  b_J2016_deg  ...  \\\n",
       "0  23:59:49.51  +47:45:44.5   114.027674   -14.216353  ...   \n",
       "1  23:59:00.42  +20:51:39.0   106.785616   -40.361996  ...   \n",
       "2  23:58:43.49  +46:43:44.7   113.616244   -15.187224  ...   \n",
       "3  23:58:32.65  +07:39:30.1   100.839686   -52.931049  ...   \n",
       "4  23:58:13.69  -17:24:32.9    68.527865   -74.336758  ...   \n",
       "\n",
       "             Gaia_id_1          2MASS_id      TIC_id Teff_min_K  Teff_max_K  \\\n",
       "0  1927517417630958208  23594940+4745447   177697529     2950.0      3050.0   \n",
       "1  2846620421604285568  23590042+2051387  2053997903        NaN         NaN   \n",
       "2  1927184643563033856  23584342+4643452  2041238829        NaN         NaN   \n",
       "3  2746709861572970624  23583264+0739304   408486498     3476.0      3516.0   \n",
       "4  2414454421367861376  23581366-1724338  2052312661        NaN         NaN   \n",
       "\n",
       "   logg_min  logg_max  is_GTO                              rv_file  lc_file  \n",
       "0      4.50      5.50   False                                 None     None  \n",
       "1       NaN       NaN   False                                 None     None  \n",
       "2       NaN       NaN   False                                 None     None  \n",
       "3      4.89      5.05    True  ../data/CARM_VIS_RVs/J23585+076.dat     None  \n",
       "4       NaN       NaN   False                                 None     None  \n",
       "\n",
       "[5 rows x 182 columns]"
      ]
     },
     "execution_count": 19,
     "metadata": {},
     "output_type": "execute_result"
    }
   ],
   "source": [
    "carmenes['lc_file'] = carmenes['Karmn'].map(lambda x: locate_lc(x, LATE_GTO_FOLDER_LC))\n",
    "carmenes.head()"
   ]
  },
  {
   "cell_type": "code",
   "execution_count": 20,
   "id": "f7288adf",
   "metadata": {
    "ExecuteTime": {
     "end_time": "2022-06-04T09:32:58.899229Z",
     "start_time": "2022-06-04T09:32:58.884270Z"
    }
   },
   "outputs": [
    {
     "data": {
      "text/plain": [
       "(379, 182)"
      ]
     },
     "execution_count": 20,
     "metadata": {},
     "output_type": "execute_result"
    }
   ],
   "source": [
    "carmenes[(carmenes['is_GTO'] == True) & (carmenes['lc_file'].isna())].shape"
   ]
  },
  {
   "cell_type": "code",
   "execution_count": 21,
   "id": "3b311fbc",
   "metadata": {
    "ExecuteTime": {
     "end_time": "2022-06-04T09:33:28.354250Z",
     "start_time": "2022-06-04T09:33:28.236500Z"
    }
   },
   "outputs": [
    {
     "data": {
      "text/html": [
       "<div>\n",
       "<style scoped>\n",
       "    .dataframe tbody tr th:only-of-type {\n",
       "        vertical-align: middle;\n",
       "    }\n",
       "\n",
       "    .dataframe tbody tr th {\n",
       "        vertical-align: top;\n",
       "    }\n",
       "\n",
       "    .dataframe thead th {\n",
       "        text-align: right;\n",
       "    }\n",
       "</style>\n",
       "<table border=\"1\" class=\"dataframe\">\n",
       "  <thead>\n",
       "    <tr style=\"text-align: right;\">\n",
       "      <th></th>\n",
       "      <th>Karmn</th>\n",
       "      <th>Name</th>\n",
       "      <th>Comp</th>\n",
       "      <th>GJ</th>\n",
       "      <th>RA_J2016_deg</th>\n",
       "      <th>DE_J2016_deg</th>\n",
       "      <th>RA_J2000</th>\n",
       "      <th>DE_J2000</th>\n",
       "      <th>l_J2016_deg</th>\n",
       "      <th>b_J2016_deg</th>\n",
       "      <th>...</th>\n",
       "      <th>Gaia_id_1</th>\n",
       "      <th>2MASS_id</th>\n",
       "      <th>TIC_id</th>\n",
       "      <th>Teff_min_K</th>\n",
       "      <th>Teff_max_K</th>\n",
       "      <th>logg_min</th>\n",
       "      <th>logg_max</th>\n",
       "      <th>is_GTO</th>\n",
       "      <th>rv_file</th>\n",
       "      <th>lc_file</th>\n",
       "    </tr>\n",
       "  </thead>\n",
       "  <tbody>\n",
       "    <tr>\n",
       "      <th>0</th>\n",
       "      <td>J23598+477</td>\n",
       "      <td>LP 149-014</td>\n",
       "      <td>-</td>\n",
       "      <td>4385</td>\n",
       "      <td>359.962056</td>\n",
       "      <td>47.761478</td>\n",
       "      <td>23:59:49.51</td>\n",
       "      <td>+47:45:44.5</td>\n",
       "      <td>114.027674</td>\n",
       "      <td>-14.216353</td>\n",
       "      <td>...</td>\n",
       "      <td>1927517417630958208</td>\n",
       "      <td>23594940+4745447</td>\n",
       "      <td>177697529</td>\n",
       "      <td>2950.0</td>\n",
       "      <td>3050.0</td>\n",
       "      <td>4.50</td>\n",
       "      <td>5.50</td>\n",
       "      <td>False</td>\n",
       "      <td>None</td>\n",
       "      <td>None</td>\n",
       "    </tr>\n",
       "    <tr>\n",
       "      <th>1</th>\n",
       "      <td>J23590+208</td>\n",
       "      <td>G 129-051</td>\n",
       "      <td>-</td>\n",
       "      <td>NaN</td>\n",
       "      <td>359.753066</td>\n",
       "      <td>20.860336</td>\n",
       "      <td>23:59:00.42</td>\n",
       "      <td>+20:51:39.0</td>\n",
       "      <td>106.785616</td>\n",
       "      <td>-40.361996</td>\n",
       "      <td>...</td>\n",
       "      <td>2846620421604285568</td>\n",
       "      <td>23590042+2051387</td>\n",
       "      <td>2053997903</td>\n",
       "      <td>NaN</td>\n",
       "      <td>NaN</td>\n",
       "      <td>NaN</td>\n",
       "      <td>NaN</td>\n",
       "      <td>False</td>\n",
       "      <td>None</td>\n",
       "      <td>None</td>\n",
       "    </tr>\n",
       "    <tr>\n",
       "      <th>2</th>\n",
       "      <td>J23587+467</td>\n",
       "      <td>BD+45 4378 AB</td>\n",
       "      <td>AB</td>\n",
       "      <td>913</td>\n",
       "      <td>359.685432</td>\n",
       "      <td>46.729152</td>\n",
       "      <td>23:58:43.49</td>\n",
       "      <td>+46:43:44.7</td>\n",
       "      <td>113.616244</td>\n",
       "      <td>-15.187224</td>\n",
       "      <td>...</td>\n",
       "      <td>1927184643563033856</td>\n",
       "      <td>23584342+4643452</td>\n",
       "      <td>2041238829</td>\n",
       "      <td>NaN</td>\n",
       "      <td>NaN</td>\n",
       "      <td>NaN</td>\n",
       "      <td>NaN</td>\n",
       "      <td>False</td>\n",
       "      <td>None</td>\n",
       "      <td>None</td>\n",
       "    </tr>\n",
       "    <tr>\n",
       "      <th>3</th>\n",
       "      <td>J23585+076</td>\n",
       "      <td>Wolf 1051</td>\n",
       "      <td>AB</td>\n",
       "      <td>4383</td>\n",
       "      <td>359.636420</td>\n",
       "      <td>7.656947</td>\n",
       "      <td>23:58:32.65</td>\n",
       "      <td>+07:39:30.1</td>\n",
       "      <td>100.839686</td>\n",
       "      <td>-52.931049</td>\n",
       "      <td>...</td>\n",
       "      <td>2746709861572970624</td>\n",
       "      <td>23583264+0739304</td>\n",
       "      <td>408486498</td>\n",
       "      <td>3476.0</td>\n",
       "      <td>3516.0</td>\n",
       "      <td>4.89</td>\n",
       "      <td>5.05</td>\n",
       "      <td>True</td>\n",
       "      <td>../data/CARM_VIS_RVs/J23585+076.dat</td>\n",
       "      <td>None</td>\n",
       "    </tr>\n",
       "    <tr>\n",
       "      <th>4</th>\n",
       "      <td>J23582-174</td>\n",
       "      <td>LP 764-040</td>\n",
       "      <td>AB</td>\n",
       "      <td>NaN</td>\n",
       "      <td>359.558095</td>\n",
       "      <td>-17.409041</td>\n",
       "      <td>23:58:13.69</td>\n",
       "      <td>-17:24:32.9</td>\n",
       "      <td>68.527865</td>\n",
       "      <td>-74.336758</td>\n",
       "      <td>...</td>\n",
       "      <td>2414454421367861376</td>\n",
       "      <td>23581366-1724338</td>\n",
       "      <td>2052312661</td>\n",
       "      <td>NaN</td>\n",
       "      <td>NaN</td>\n",
       "      <td>NaN</td>\n",
       "      <td>NaN</td>\n",
       "      <td>False</td>\n",
       "      <td>None</td>\n",
       "      <td>None</td>\n",
       "    </tr>\n",
       "  </tbody>\n",
       "</table>\n",
       "<p>5 rows × 182 columns</p>\n",
       "</div>"
      ],
      "text/plain": [
       "        Karmn           Name Comp    GJ  RA_J2016_deg  DE_J2016_deg  \\\n",
       "0  J23598+477     LP 149-014    -  4385    359.962056     47.761478   \n",
       "1  J23590+208      G 129-051    -   NaN    359.753066     20.860336   \n",
       "2  J23587+467  BD+45 4378 AB   AB   913    359.685432     46.729152   \n",
       "3  J23585+076      Wolf 1051   AB  4383    359.636420      7.656947   \n",
       "4  J23582-174     LP 764-040   AB   NaN    359.558095    -17.409041   \n",
       "\n",
       "      RA_J2000     DE_J2000  l_J2016_deg  b_J2016_deg  ...  \\\n",
       "0  23:59:49.51  +47:45:44.5   114.027674   -14.216353  ...   \n",
       "1  23:59:00.42  +20:51:39.0   106.785616   -40.361996  ...   \n",
       "2  23:58:43.49  +46:43:44.7   113.616244   -15.187224  ...   \n",
       "3  23:58:32.65  +07:39:30.1   100.839686   -52.931049  ...   \n",
       "4  23:58:13.69  -17:24:32.9    68.527865   -74.336758  ...   \n",
       "\n",
       "             Gaia_id_1          2MASS_id      TIC_id Teff_min_K  Teff_max_K  \\\n",
       "0  1927517417630958208  23594940+4745447   177697529     2950.0      3050.0   \n",
       "1  2846620421604285568  23590042+2051387  2053997903        NaN         NaN   \n",
       "2  1927184643563033856  23584342+4643452  2041238829        NaN         NaN   \n",
       "3  2746709861572970624  23583264+0739304   408486498     3476.0      3516.0   \n",
       "4  2414454421367861376  23581366-1724338  2052312661        NaN         NaN   \n",
       "\n",
       "   logg_min  logg_max  is_GTO                              rv_file  lc_file  \n",
       "0      4.50      5.50   False                                 None     None  \n",
       "1       NaN       NaN   False                                 None     None  \n",
       "2       NaN       NaN   False                                 None     None  \n",
       "3      4.89      5.05    True  ../data/CARM_VIS_RVs/J23585+076.dat     None  \n",
       "4       NaN       NaN   False                                 None     None  \n",
       "\n",
       "[5 rows x 182 columns]"
      ]
     },
     "execution_count": 21,
     "metadata": {},
     "output_type": "execute_result"
    }
   ],
   "source": [
    "carmenes['lc_file'] = carmenes['Karmn'].map(lambda x: locate_lc(x, GTO_FOLDER_LC))\n",
    "carmenes.head()"
   ]
  },
  {
   "cell_type": "code",
   "execution_count": 22,
   "id": "a838d29c",
   "metadata": {
    "ExecuteTime": {
     "end_time": "2022-06-04T09:33:32.133163Z",
     "start_time": "2022-06-04T09:33:32.124187Z"
    }
   },
   "outputs": [
    {
     "data": {
      "text/plain": [
       "(123, 182)"
      ]
     },
     "execution_count": 22,
     "metadata": {},
     "output_type": "execute_result"
    }
   ],
   "source": [
    "carmenes[(carmenes['is_GTO'] == True) & (carmenes['lc_file'].isna())].shape"
   ]
  },
  {
   "cell_type": "code",
   "execution_count": 23,
   "id": "bdb6c1c8",
   "metadata": {
    "ExecuteTime": {
     "end_time": "2022-06-04T09:34:33.573291Z",
     "start_time": "2022-06-04T09:34:33.548757Z"
    }
   },
   "outputs": [
    {
     "data": {
      "text/html": [
       "<div>\n",
       "<style scoped>\n",
       "    .dataframe tbody tr th:only-of-type {\n",
       "        vertical-align: middle;\n",
       "    }\n",
       "\n",
       "    .dataframe tbody tr th {\n",
       "        vertical-align: top;\n",
       "    }\n",
       "\n",
       "    .dataframe thead th {\n",
       "        text-align: right;\n",
       "    }\n",
       "</style>\n",
       "<table border=\"1\" class=\"dataframe\">\n",
       "  <thead>\n",
       "    <tr style=\"text-align: right;\">\n",
       "      <th></th>\n",
       "      <th>Karmn</th>\n",
       "      <th>Name</th>\n",
       "      <th>Comp</th>\n",
       "      <th>GJ</th>\n",
       "      <th>RA_J2016_deg</th>\n",
       "      <th>DE_J2016_deg</th>\n",
       "      <th>RA_J2000</th>\n",
       "      <th>DE_J2000</th>\n",
       "      <th>l_J2016_deg</th>\n",
       "      <th>b_J2016_deg</th>\n",
       "      <th>...</th>\n",
       "      <th>Gaia_id_1</th>\n",
       "      <th>2MASS_id</th>\n",
       "      <th>TIC_id</th>\n",
       "      <th>Teff_min_K</th>\n",
       "      <th>Teff_max_K</th>\n",
       "      <th>logg_min</th>\n",
       "      <th>logg_max</th>\n",
       "      <th>is_GTO</th>\n",
       "      <th>rv_file</th>\n",
       "      <th>lc_file</th>\n",
       "    </tr>\n",
       "  </thead>\n",
       "  <tbody>\n",
       "    <tr>\n",
       "      <th>2207</th>\n",
       "      <td>J00051+457</td>\n",
       "      <td>GJ 2</td>\n",
       "      <td>C</td>\n",
       "      <td>2</td>\n",
       "      <td>1.300921</td>\n",
       "      <td>45.785894</td>\n",
       "      <td>00:05:10.89</td>\n",
       "      <td>+45:47:11.6</td>\n",
       "      <td>114.559789</td>\n",
       "      <td>-16.332933</td>\n",
       "      <td>...</td>\n",
       "      <td>386655019234959872</td>\n",
       "      <td>00051079+4547116</td>\n",
       "      <td>439946126</td>\n",
       "      <td>3757.0</td>\n",
       "      <td>3789.0</td>\n",
       "      <td>4.99</td>\n",
       "      <td>5.15</td>\n",
       "      <td>True</td>\n",
       "      <td>../data/CARM_VIS_RVs/J00051+457.dat</td>\n",
       "      <td>../data/CARMENES_GTO_TESS_lc/lightcurves/J0005...</td>\n",
       "    </tr>\n",
       "    <tr>\n",
       "      <th>2208</th>\n",
       "      <td>J00033+046</td>\n",
       "      <td>StKM 1-2199</td>\n",
       "      <td>-</td>\n",
       "      <td>NaN</td>\n",
       "      <td>0.829061</td>\n",
       "      <td>4.686556</td>\n",
       "      <td>00:03:19.00</td>\n",
       "      <td>+04:41:13.0</td>\n",
       "      <td>101.048765</td>\n",
       "      <td>-56.127008</td>\n",
       "      <td>...</td>\n",
       "      <td>2741901697224268928</td>\n",
       "      <td>00031900+0441128</td>\n",
       "      <td>257503361</td>\n",
       "      <td>3650.0</td>\n",
       "      <td>3750.0</td>\n",
       "      <td>4.50</td>\n",
       "      <td>5.50</td>\n",
       "      <td>False</td>\n",
       "      <td>None</td>\n",
       "      <td>None</td>\n",
       "    </tr>\n",
       "    <tr>\n",
       "      <th>2209</th>\n",
       "      <td>J00026+383</td>\n",
       "      <td>2MASS J00024011+3821453</td>\n",
       "      <td>-</td>\n",
       "      <td>NaN</td>\n",
       "      <td>0.666656</td>\n",
       "      <td>38.362250</td>\n",
       "      <td>00:02:40.09</td>\n",
       "      <td>+38:21:44.5</td>\n",
       "      <td>112.526509</td>\n",
       "      <td>-23.522080</td>\n",
       "      <td>...</td>\n",
       "      <td>2880923878720791680</td>\n",
       "      <td>00024011+3821453</td>\n",
       "      <td>612030125</td>\n",
       "      <td>NaN</td>\n",
       "      <td>NaN</td>\n",
       "      <td>NaN</td>\n",
       "      <td>NaN</td>\n",
       "      <td>False</td>\n",
       "      <td>None</td>\n",
       "      <td>None</td>\n",
       "    </tr>\n",
       "    <tr>\n",
       "      <th>2210</th>\n",
       "      <td>J00012+139S</td>\n",
       "      <td>BD+13 5195B</td>\n",
       "      <td>B</td>\n",
       "      <td>NaN</td>\n",
       "      <td>0.303710</td>\n",
       "      <td>13.972782</td>\n",
       "      <td>00:01:12.86</td>\n",
       "      <td>+13:58:19.6</td>\n",
       "      <td>104.868071</td>\n",
       "      <td>-47.129826</td>\n",
       "      <td>...</td>\n",
       "      <td>2767384425386994048</td>\n",
       "      <td>00011286+1358196</td>\n",
       "      <td>405230222</td>\n",
       "      <td>3950.0</td>\n",
       "      <td>4050.0</td>\n",
       "      <td>4.50</td>\n",
       "      <td>5.50</td>\n",
       "      <td>False</td>\n",
       "      <td>None</td>\n",
       "      <td>None</td>\n",
       "    </tr>\n",
       "    <tr>\n",
       "      <th>2211</th>\n",
       "      <td>J00012+139N</td>\n",
       "      <td>BD+13 5195</td>\n",
       "      <td>-</td>\n",
       "      <td>NaN</td>\n",
       "      <td>0.305059</td>\n",
       "      <td>13.975743</td>\n",
       "      <td>00:01:13.20</td>\n",
       "      <td>+13:58:30.3</td>\n",
       "      <td>104.871154</td>\n",
       "      <td>-47.127359</td>\n",
       "      <td>...</td>\n",
       "      <td>2767387380324493184</td>\n",
       "      <td>00011318+1358302</td>\n",
       "      <td>405230221</td>\n",
       "      <td>NaN</td>\n",
       "      <td>NaN</td>\n",
       "      <td>NaN</td>\n",
       "      <td>NaN</td>\n",
       "      <td>False</td>\n",
       "      <td>None</td>\n",
       "      <td>None</td>\n",
       "    </tr>\n",
       "  </tbody>\n",
       "</table>\n",
       "<p>5 rows × 182 columns</p>\n",
       "</div>"
      ],
      "text/plain": [
       "            Karmn                     Name Comp   GJ  RA_J2016_deg  \\\n",
       "2207   J00051+457                     GJ 2    C    2      1.300921   \n",
       "2208   J00033+046              StKM 1-2199    -  NaN      0.829061   \n",
       "2209   J00026+383  2MASS J00024011+3821453    -  NaN      0.666656   \n",
       "2210  J00012+139S              BD+13 5195B    B  NaN      0.303710   \n",
       "2211  J00012+139N               BD+13 5195    -  NaN      0.305059   \n",
       "\n",
       "      DE_J2016_deg     RA_J2000     DE_J2000  l_J2016_deg  b_J2016_deg  ...  \\\n",
       "2207     45.785894  00:05:10.89  +45:47:11.6   114.559789   -16.332933  ...   \n",
       "2208      4.686556  00:03:19.00  +04:41:13.0   101.048765   -56.127008  ...   \n",
       "2209     38.362250  00:02:40.09  +38:21:44.5   112.526509   -23.522080  ...   \n",
       "2210     13.972782  00:01:12.86  +13:58:19.6   104.868071   -47.129826  ...   \n",
       "2211     13.975743  00:01:13.20  +13:58:30.3   104.871154   -47.127359  ...   \n",
       "\n",
       "                Gaia_id_1          2MASS_id     TIC_id Teff_min_K  Teff_max_K  \\\n",
       "2207   386655019234959872  00051079+4547116  439946126     3757.0      3789.0   \n",
       "2208  2741901697224268928  00031900+0441128  257503361     3650.0      3750.0   \n",
       "2209  2880923878720791680  00024011+3821453  612030125        NaN         NaN   \n",
       "2210  2767384425386994048  00011286+1358196  405230222     3950.0      4050.0   \n",
       "2211  2767387380324493184  00011318+1358302  405230221        NaN         NaN   \n",
       "\n",
       "      logg_min  logg_max  is_GTO                              rv_file  \\\n",
       "2207      4.99      5.15    True  ../data/CARM_VIS_RVs/J00051+457.dat   \n",
       "2208      4.50      5.50   False                                 None   \n",
       "2209       NaN       NaN   False                                 None   \n",
       "2210      4.50      5.50   False                                 None   \n",
       "2211       NaN       NaN   False                                 None   \n",
       "\n",
       "                                                lc_file  \n",
       "2207  ../data/CARMENES_GTO_TESS_lc/lightcurves/J0005...  \n",
       "2208                                               None  \n",
       "2209                                               None  \n",
       "2210                                               None  \n",
       "2211                                               None  \n",
       "\n",
       "[5 rows x 182 columns]"
      ]
     },
     "execution_count": 23,
     "metadata": {},
     "output_type": "execute_result"
    }
   ],
   "source": [
    "carmenes.tail()"
   ]
  },
  {
   "cell_type": "markdown",
   "id": "218e6b25",
   "metadata": {},
   "source": [
    "Now we check the numbers:\n",
    "\n",
    "Number of records with RV file (should be all GTO objects):"
   ]
  },
  {
   "cell_type": "code",
   "execution_count": 24,
   "id": "20062ee9",
   "metadata": {
    "ExecuteTime": {
     "end_time": "2022-06-04T09:34:35.970224Z",
     "start_time": "2022-06-04T09:34:35.964240Z"
    }
   },
   "outputs": [
    {
     "data": {
      "text/plain": [
       "390"
      ]
     },
     "execution_count": 24,
     "metadata": {},
     "output_type": "execute_result"
    }
   ],
   "source": [
    "carmenes[~carmenes['rv_file'].isna()].shape[0]"
   ]
  },
  {
   "cell_type": "markdown",
   "id": "2632a6e7",
   "metadata": {},
   "source": [
    "Number of records with TESS LC file:"
   ]
  },
  {
   "cell_type": "code",
   "execution_count": 25,
   "id": "0283c2ad",
   "metadata": {
    "ExecuteTime": {
     "end_time": "2022-06-04T09:34:40.168453Z",
     "start_time": "2022-06-04T09:34:40.156510Z"
    }
   },
   "outputs": [
    {
     "data": {
      "text/plain": [
       "267"
      ]
     },
     "execution_count": 25,
     "metadata": {},
     "output_type": "execute_result"
    }
   ],
   "source": [
    "carmenes[~carmenes['lc_file'].isna()].shape[0]"
   ]
  },
  {
   "cell_type": "markdown",
   "id": "e4c2b3b0",
   "metadata": {},
   "source": [
    "Number of GTO records without RV file (shouldn't be any):"
   ]
  },
  {
   "cell_type": "code",
   "execution_count": 26,
   "id": "2118a3bf",
   "metadata": {
    "ExecuteTime": {
     "end_time": "2022-06-04T09:35:16.915577Z",
     "start_time": "2022-06-04T09:35:16.900613Z"
    }
   },
   "outputs": [
    {
     "data": {
      "text/plain": [
       "0"
      ]
     },
     "execution_count": 26,
     "metadata": {},
     "output_type": "execute_result"
    }
   ],
   "source": [
    "carmenes[(carmenes['is_GTO'] == True) & (carmenes['rv_file'].isna())].shape[0]"
   ]
  },
  {
   "cell_type": "markdown",
   "id": "8f232f1e",
   "metadata": {},
   "source": [
    "Number of GTO records without TESS LC file:"
   ]
  },
  {
   "cell_type": "code",
   "execution_count": 27,
   "id": "d33510db",
   "metadata": {
    "ExecuteTime": {
     "end_time": "2022-06-04T09:35:19.608894Z",
     "start_time": "2022-06-04T09:35:19.595929Z"
    }
   },
   "outputs": [
    {
     "data": {
      "text/plain": [
       "123"
      ]
     },
     "execution_count": 27,
     "metadata": {},
     "output_type": "execute_result"
    }
   ],
   "source": [
    "carmenes[(carmenes['is_GTO'] == True) & (carmenes['lc_file'].isna())].shape[0]"
   ]
  },
  {
   "cell_type": "markdown",
   "id": "fc4ee2f2",
   "metadata": {},
   "source": [
    "Number of records with the light curve under \"late\" folder:"
   ]
  },
  {
   "cell_type": "code",
   "execution_count": 28,
   "id": "7768e6ef",
   "metadata": {
    "ExecuteTime": {
     "end_time": "2022-06-04T09:37:47.173292Z",
     "start_time": "2022-06-04T09:37:47.156811Z"
    }
   },
   "outputs": [
    {
     "data": {
      "text/plain": [
       "0"
      ]
     },
     "execution_count": 28,
     "metadata": {},
     "output_type": "execute_result"
    }
   ],
   "source": [
    "carmenes[(carmenes['is_GTO'] == True) & (carmenes['lc_file'].str.contains(\"CARMENES_late\"))].shape[0]"
   ]
  },
  {
   "cell_type": "markdown",
   "id": "3f02a1e8",
   "metadata": {},
   "source": [
    "**OBSERVATION:** we have 123 GTO objects for which we do not have TESS light curve. This could be normal, as some GTO objects are out of the TESS field."
   ]
  },
  {
   "cell_type": "markdown",
   "id": "e77f0e85",
   "metadata": {},
   "source": [
    "### Add RV file and LC file flags"
   ]
  },
  {
   "cell_type": "code",
   "execution_count": 29,
   "id": "208c4f6c",
   "metadata": {
    "ExecuteTime": {
     "end_time": "2022-06-04T09:38:03.651034Z",
     "start_time": "2022-06-04T09:38:03.620566Z"
    }
   },
   "outputs": [
    {
     "data": {
      "text/html": [
       "<div>\n",
       "<style scoped>\n",
       "    .dataframe tbody tr th:only-of-type {\n",
       "        vertical-align: middle;\n",
       "    }\n",
       "\n",
       "    .dataframe tbody tr th {\n",
       "        vertical-align: top;\n",
       "    }\n",
       "\n",
       "    .dataframe thead th {\n",
       "        text-align: right;\n",
       "    }\n",
       "</style>\n",
       "<table border=\"1\" class=\"dataframe\">\n",
       "  <thead>\n",
       "    <tr style=\"text-align: right;\">\n",
       "      <th></th>\n",
       "      <th>Karmn</th>\n",
       "      <th>Name</th>\n",
       "      <th>Comp</th>\n",
       "      <th>GJ</th>\n",
       "      <th>RA_J2016_deg</th>\n",
       "      <th>DE_J2016_deg</th>\n",
       "      <th>RA_J2000</th>\n",
       "      <th>DE_J2000</th>\n",
       "      <th>l_J2016_deg</th>\n",
       "      <th>b_J2016_deg</th>\n",
       "      <th>...</th>\n",
       "      <th>TIC_id</th>\n",
       "      <th>Teff_min_K</th>\n",
       "      <th>Teff_max_K</th>\n",
       "      <th>logg_min</th>\n",
       "      <th>logg_max</th>\n",
       "      <th>is_GTO</th>\n",
       "      <th>rv_file</th>\n",
       "      <th>lc_file</th>\n",
       "      <th>has_rv</th>\n",
       "      <th>has_lc</th>\n",
       "    </tr>\n",
       "  </thead>\n",
       "  <tbody>\n",
       "    <tr>\n",
       "      <th>0</th>\n",
       "      <td>J23598+477</td>\n",
       "      <td>LP 149-014</td>\n",
       "      <td>-</td>\n",
       "      <td>4385</td>\n",
       "      <td>359.962056</td>\n",
       "      <td>47.761478</td>\n",
       "      <td>23:59:49.51</td>\n",
       "      <td>+47:45:44.5</td>\n",
       "      <td>114.027674</td>\n",
       "      <td>-14.216353</td>\n",
       "      <td>...</td>\n",
       "      <td>177697529</td>\n",
       "      <td>2950.0</td>\n",
       "      <td>3050.0</td>\n",
       "      <td>4.50</td>\n",
       "      <td>5.50</td>\n",
       "      <td>False</td>\n",
       "      <td>None</td>\n",
       "      <td>None</td>\n",
       "      <td>False</td>\n",
       "      <td>False</td>\n",
       "    </tr>\n",
       "    <tr>\n",
       "      <th>1</th>\n",
       "      <td>J23590+208</td>\n",
       "      <td>G 129-051</td>\n",
       "      <td>-</td>\n",
       "      <td>NaN</td>\n",
       "      <td>359.753066</td>\n",
       "      <td>20.860336</td>\n",
       "      <td>23:59:00.42</td>\n",
       "      <td>+20:51:39.0</td>\n",
       "      <td>106.785616</td>\n",
       "      <td>-40.361996</td>\n",
       "      <td>...</td>\n",
       "      <td>2053997903</td>\n",
       "      <td>NaN</td>\n",
       "      <td>NaN</td>\n",
       "      <td>NaN</td>\n",
       "      <td>NaN</td>\n",
       "      <td>False</td>\n",
       "      <td>None</td>\n",
       "      <td>None</td>\n",
       "      <td>False</td>\n",
       "      <td>False</td>\n",
       "    </tr>\n",
       "    <tr>\n",
       "      <th>2</th>\n",
       "      <td>J23587+467</td>\n",
       "      <td>BD+45 4378 AB</td>\n",
       "      <td>AB</td>\n",
       "      <td>913</td>\n",
       "      <td>359.685432</td>\n",
       "      <td>46.729152</td>\n",
       "      <td>23:58:43.49</td>\n",
       "      <td>+46:43:44.7</td>\n",
       "      <td>113.616244</td>\n",
       "      <td>-15.187224</td>\n",
       "      <td>...</td>\n",
       "      <td>2041238829</td>\n",
       "      <td>NaN</td>\n",
       "      <td>NaN</td>\n",
       "      <td>NaN</td>\n",
       "      <td>NaN</td>\n",
       "      <td>False</td>\n",
       "      <td>None</td>\n",
       "      <td>None</td>\n",
       "      <td>False</td>\n",
       "      <td>False</td>\n",
       "    </tr>\n",
       "    <tr>\n",
       "      <th>3</th>\n",
       "      <td>J23585+076</td>\n",
       "      <td>Wolf 1051</td>\n",
       "      <td>AB</td>\n",
       "      <td>4383</td>\n",
       "      <td>359.636420</td>\n",
       "      <td>7.656947</td>\n",
       "      <td>23:58:32.65</td>\n",
       "      <td>+07:39:30.1</td>\n",
       "      <td>100.839686</td>\n",
       "      <td>-52.931049</td>\n",
       "      <td>...</td>\n",
       "      <td>408486498</td>\n",
       "      <td>3476.0</td>\n",
       "      <td>3516.0</td>\n",
       "      <td>4.89</td>\n",
       "      <td>5.05</td>\n",
       "      <td>True</td>\n",
       "      <td>../data/CARM_VIS_RVs/J23585+076.dat</td>\n",
       "      <td>None</td>\n",
       "      <td>True</td>\n",
       "      <td>False</td>\n",
       "    </tr>\n",
       "    <tr>\n",
       "      <th>4</th>\n",
       "      <td>J23582-174</td>\n",
       "      <td>LP 764-040</td>\n",
       "      <td>AB</td>\n",
       "      <td>NaN</td>\n",
       "      <td>359.558095</td>\n",
       "      <td>-17.409041</td>\n",
       "      <td>23:58:13.69</td>\n",
       "      <td>-17:24:32.9</td>\n",
       "      <td>68.527865</td>\n",
       "      <td>-74.336758</td>\n",
       "      <td>...</td>\n",
       "      <td>2052312661</td>\n",
       "      <td>NaN</td>\n",
       "      <td>NaN</td>\n",
       "      <td>NaN</td>\n",
       "      <td>NaN</td>\n",
       "      <td>False</td>\n",
       "      <td>None</td>\n",
       "      <td>None</td>\n",
       "      <td>False</td>\n",
       "      <td>False</td>\n",
       "    </tr>\n",
       "  </tbody>\n",
       "</table>\n",
       "<p>5 rows × 184 columns</p>\n",
       "</div>"
      ],
      "text/plain": [
       "        Karmn           Name Comp    GJ  RA_J2016_deg  DE_J2016_deg  \\\n",
       "0  J23598+477     LP 149-014    -  4385    359.962056     47.761478   \n",
       "1  J23590+208      G 129-051    -   NaN    359.753066     20.860336   \n",
       "2  J23587+467  BD+45 4378 AB   AB   913    359.685432     46.729152   \n",
       "3  J23585+076      Wolf 1051   AB  4383    359.636420      7.656947   \n",
       "4  J23582-174     LP 764-040   AB   NaN    359.558095    -17.409041   \n",
       "\n",
       "      RA_J2000     DE_J2000  l_J2016_deg  b_J2016_deg  ...      TIC_id  \\\n",
       "0  23:59:49.51  +47:45:44.5   114.027674   -14.216353  ...   177697529   \n",
       "1  23:59:00.42  +20:51:39.0   106.785616   -40.361996  ...  2053997903   \n",
       "2  23:58:43.49  +46:43:44.7   113.616244   -15.187224  ...  2041238829   \n",
       "3  23:58:32.65  +07:39:30.1   100.839686   -52.931049  ...   408486498   \n",
       "4  23:58:13.69  -17:24:32.9    68.527865   -74.336758  ...  2052312661   \n",
       "\n",
       "  Teff_min_K  Teff_max_K logg_min  logg_max  is_GTO  \\\n",
       "0     2950.0      3050.0     4.50      5.50   False   \n",
       "1        NaN         NaN      NaN       NaN   False   \n",
       "2        NaN         NaN      NaN       NaN   False   \n",
       "3     3476.0      3516.0     4.89      5.05    True   \n",
       "4        NaN         NaN      NaN       NaN   False   \n",
       "\n",
       "                               rv_file  lc_file  has_rv  has_lc  \n",
       "0                                 None     None   False   False  \n",
       "1                                 None     None   False   False  \n",
       "2                                 None     None   False   False  \n",
       "3  ../data/CARM_VIS_RVs/J23585+076.dat     None    True   False  \n",
       "4                                 None     None   False   False  \n",
       "\n",
       "[5 rows x 184 columns]"
      ]
     },
     "execution_count": 29,
     "metadata": {},
     "output_type": "execute_result"
    }
   ],
   "source": [
    "carmenes['has_rv'] = carmenes['rv_file'].map(lambda x: False if x is None else True)\n",
    "carmenes['has_lc'] = carmenes['lc_file'].map(lambda x: False if x is None else True)\n",
    "carmenes.head()"
   ]
  },
  {
   "cell_type": "markdown",
   "id": "d6f23613",
   "metadata": {},
   "source": [
    "### Save the modified information"
   ]
  },
  {
   "cell_type": "code",
   "execution_count": 30,
   "id": "af08c8b2",
   "metadata": {
    "ExecuteTime": {
     "end_time": "2022-06-04T09:38:16.515950Z",
     "start_time": "2022-06-04T09:38:16.507971Z"
    }
   },
   "outputs": [
    {
     "data": {
      "text/plain": [
       "(2212, 184)"
      ]
     },
     "execution_count": 30,
     "metadata": {},
     "output_type": "execute_result"
    }
   ],
   "source": [
    "carmenes.shape"
   ]
  },
  {
   "cell_type": "code",
   "execution_count": 31,
   "id": "406ff3d6",
   "metadata": {
    "ExecuteTime": {
     "end_time": "2022-06-04T09:38:17.674960Z",
     "start_time": "2022-06-04T09:38:17.660998Z"
    }
   },
   "outputs": [],
   "source": [
    "carmenes_stats.to_csv(CARMENES_STATS_OUT, sep=',', decimal='.')"
   ]
  },
  {
   "cell_type": "code",
   "execution_count": 32,
   "id": "1c35868c",
   "metadata": {
    "ExecuteTime": {
     "end_time": "2022-06-04T09:38:19.032467Z",
     "start_time": "2022-06-04T09:38:19.028551Z"
    }
   },
   "outputs": [],
   "source": [
    "carmenes_nan.to_csv(CARMENES_NAN_OUT, sep=',', decimal='.')"
   ]
  },
  {
   "cell_type": "code",
   "execution_count": 33,
   "id": "9fa6432e",
   "metadata": {
    "ExecuteTime": {
     "end_time": "2022-06-04T09:38:20.220403Z",
     "start_time": "2022-06-04T09:38:20.076265Z"
    }
   },
   "outputs": [],
   "source": [
    "carmenes.to_csv(CARMENES_MODDBFILE, sep=',', decimal='.', index=False)"
   ]
  },
  {
   "cell_type": "code",
   "execution_count": null,
   "id": "f7aeebdc",
   "metadata": {},
   "outputs": [],
   "source": []
  }
 ],
 "metadata": {
  "kernelspec": {
   "display_name": "Python 3",
   "language": "python",
   "name": "python3"
  },
  "language_info": {
   "codemirror_mode": {
    "name": "ipython",
    "version": 3
   },
   "file_extension": ".py",
   "mimetype": "text/x-python",
   "name": "python",
   "nbconvert_exporter": "python",
   "pygments_lexer": "ipython3",
   "version": "3.8.8"
  },
  "toc": {
   "base_numbering": 1,
   "nav_menu": {},
   "number_sections": true,
   "sideBar": true,
   "skip_h1_title": true,
   "title_cell": "Table of Contents",
   "title_sidebar": "Contents",
   "toc_cell": false,
   "toc_position": {},
   "toc_section_display": true,
   "toc_window_display": true
  }
 },
 "nbformat": 4,
 "nbformat_minor": 5
}
