{
 "cells": [
  {
   "cell_type": "markdown",
   "id": "b3afdf31",
   "metadata": {},
   "source": [
    "# BASTI CMD FILES DATA PREPROCESSING\n",
    "\n",
    "This notebook cleans-up the output file from BASTI CMD generation tool, generating a clean, comma separated file.\n",
    "\n",
    "v2.0: included the limited magnitude factos for the CM diagram."
   ]
  },
  {
   "cell_type": "markdown",
   "id": "d595ae87",
   "metadata": {},
   "source": [
    "## Modules import"
   ]
  },
  {
   "cell_type": "code",
   "execution_count": 18,
   "id": "b77519fa",
   "metadata": {
    "ExecuteTime": {
     "end_time": "2022-01-22T12:18:01.599164Z",
     "start_time": "2022-01-22T12:18:01.595175Z"
    }
   },
   "outputs": [],
   "source": [
    "# MODULES IMPORT\n",
    "import pandas as pd\n",
    "import numpy as np\n",
    "\n",
    "import numba\n",
    "\n",
    "from sklearn.model_selection import train_test_split\n",
    "\n",
    "import matplotlib.pyplot as plt\n",
    "\n",
    "import seaborn as sns\n",
    "\n",
    "sns.set(rc={'figure.figsize':(20.0, 10.0)})"
   ]
  },
  {
   "cell_type": "markdown",
   "id": "777475cf",
   "metadata": {},
   "source": [
    "## Configuration"
   ]
  },
  {
   "cell_type": "code",
   "execution_count": 19,
   "id": "b6de887e",
   "metadata": {
    "ExecuteTime": {
     "end_time": "2022-01-22T12:18:02.373896Z",
     "start_time": "2022-01-22T12:18:02.362925Z"
    }
   },
   "outputs": [],
   "source": [
    "# CONFIGURATION:\n",
    "AUX_INPUT_FOLDER = \"../data/Auxiliary_data/\"\n",
    "INPUT_FILE = \"TFM_02_MW_2022-01-13-19-18-22_hdr.txt\"\n",
    "AUX_OUTPUT_FOLDER = \"../data/Auxiliary_data/\"\n",
    "\n",
    "# PHOTOMETRY SYSTEM - UNCOMMENT THE CHOSEN ONE:\n",
    "# Johnson-Cousins / Sloan / HST (ACS)\n",
    "#PHOTO_SYS = \"Johnson-Cousins\" # Default\n",
    "PHOTO_SYS = \"Sloan\"\n",
    "#PHOTO_SYS = \"HST (ACS)\"\n",
    "\n",
    "# AGE RANGES - Just a flag to assign to each star\n",
    "AGE_RANGES = [1.0, 2.5e+9, 5.0e+9, 7.5e+9, 10.0e+9, 12.5e+9, 15.0e+9]\n",
    "LOG_AGE_RANGES = [np.log10(i) for i in AGE_RANGES]\n",
    "\n",
    "# METALLICITY RANGES - Just a flag to assign to each star\n",
    "METAL_RANGES = [-3.0 -2.5, -2.0, -1.0, -0.5, 0.0, 0.5]\n",
    "\n",
    "# LIMIT ABSOLUTE MAGNITUDE IN 'g' BAND FOR mg > +0.0 (v2.0)\n",
    "MAX_G = 20000 # No efective limit\n",
    "#MAX_G = 6.5\n",
    "#MAX_G = 3.5\n",
    "#MAX_G = 2.0\n",
    "#MAX_G = 0.5\n",
    "if MAX_G == 20000:\n",
    "    OUTPUT_FILEMARK = \"_NoLimit_\"\n",
    "else:\n",
    "    OUTPUT_FILEMARK = \"_\" + str(MAX_G) + \"_\"\n",
    "    \n",
    "# CONSTANTS (DO NOT CHANGE)\n",
    "#LOGG_SUN = 2.438694 # log10(274.596 m/s^2)\n",
    "### WRONG VALUE, SEE SUMMARY ON 'NOTEBOOKETL_15_PoC_Low_mass_logg_Calculation.ipynb\n",
    "LOGG_SUN = 4.438694 # log10(27459.6 m/s^2) # CORRECTED VALUE\n",
    "TEFF_SUN = 5785 # K"
   ]
  },
  {
   "cell_type": "code",
   "execution_count": 20,
   "id": "b863b20a",
   "metadata": {
    "ExecuteTime": {
     "end_time": "2022-01-22T12:18:02.901215Z",
     "start_time": "2022-01-22T12:18:02.883263Z"
    }
   },
   "outputs": [
    {
     "data": {
      "text/plain": [
       "[1.0,\n",
       " 2500000000.0,\n",
       " 5000000000.0,\n",
       " 7500000000.0,\n",
       " 10000000000.0,\n",
       " 12500000000.0,\n",
       " 15000000000.0]"
      ]
     },
     "execution_count": 20,
     "metadata": {},
     "output_type": "execute_result"
    }
   ],
   "source": [
    "AGE_RANGES"
   ]
  },
  {
   "cell_type": "code",
   "execution_count": 21,
   "id": "b6364a8f",
   "metadata": {
    "ExecuteTime": {
     "end_time": "2022-01-22T12:18:03.117425Z",
     "start_time": "2022-01-22T12:18:03.106455Z"
    }
   },
   "outputs": [
    {
     "data": {
      "text/plain": [
       "[0.0,\n",
       " 9.397940008672037,\n",
       " 9.698970004336019,\n",
       " 9.8750612633917,\n",
       " 10.0,\n",
       " 10.096910013008056,\n",
       " 10.176091259055681]"
      ]
     },
     "execution_count": 21,
     "metadata": {},
     "output_type": "execute_result"
    }
   ],
   "source": [
    "LOG_AGE_RANGES"
   ]
  },
  {
   "cell_type": "code",
   "execution_count": 22,
   "id": "2ca340e4",
   "metadata": {
    "ExecuteTime": {
     "end_time": "2022-01-22T12:18:03.338609Z",
     "start_time": "2022-01-22T12:18:03.330600Z"
    }
   },
   "outputs": [],
   "source": [
    "# COLUMN NAMES - DO **NOT** CHANGE:\n",
    "# Common columns\n",
    "#( 1) star number (+ 2 if unres. binary)\n",
    "#( 2) log(t) years\n",
    "#( 3) [Fe/H]        \n",
    "#( 4) value of evolving mass in Mo\n",
    "#( 5) log(L/Lo)\n",
    "#( 6) log(Teff)\n",
    "#( 7) initial mass of unresolved secondary (in Mo) if different from 0.0\n",
    "#( 8) Index variable star type (0 no var)\n",
    "#( 9) log(P) in days of pulsating stars if different from 99.99\n",
    "#(10...) <columns depending on the photometric system\n",
    "COLUMN_MAPPING = {\n",
    "        0: \"star_number\",\n",
    "        1: \"log(t[years])\",\n",
    "        2: \"Metallicity[Fe/H]\",\n",
    "        3: \"Mass[Mo]\",\n",
    "        4: \"log(L/Lo)\",\n",
    "        5: \"log(Teff[K])\",\n",
    "        6: \"InitMassSec[Mo]\",\n",
    "        7: \"VarStarIdx\",\n",
    "        8: \"Pulsating_log(P[days])\"\n",
    "}\n",
    "if PHOTO_SYS == \"HST (ACS)\":\n",
    "    # Photometric columns:\n",
    "    #(10) G_BP\n",
    "    #(11) G\n",
    "    #(12) G_RP\n",
    "    #(13) G_RVS\n",
    "    COL_IDX = [i for i in range(0, 13)]\n",
    "    COLUMN_MAPPING[9] = \"G_BP\"\n",
    "    COLUMN_MAPPING[10] = \"G\"\n",
    "    COLUMN_MAPPING[11] = \"G_RP\"\n",
    "    COLUMN_MAPPING[12] = \"G_RVS\"\n",
    "elif PHOTO_SYS == \"Sloan\":\n",
    "    # Photometric columns:\n",
    "    #(10) u       \n",
    "    #(11) g       \n",
    "    #(12) r       \n",
    "    #(13) i       \n",
    "    #(14) z       \n",
    "    COL_IDX = [i for i in range(0, 14)]\n",
    "    COLUMN_MAPPING[9] = \"u\"\n",
    "    COLUMN_MAPPING[10] = \"g\"\n",
    "    COLUMN_MAPPING[11] = \"r\"\n",
    "    COLUMN_MAPPING[12] = \"i\"\n",
    "    COLUMN_MAPPING[13] = \"z\"    \n",
    "elif PHOTO_SYS == \"Johnson-Cousins\":\n",
    "    # Photometric columns:\n",
    "    #(10) U       \n",
    "    #(11) BX      \n",
    "    #(12) B       \n",
    "    #(13) V       \n",
    "    #(14) R       \n",
    "    #(15) I       \n",
    "    #(16) J       \n",
    "    #(17) H       \n",
    "    #(18) K       \n",
    "    #(19) L'      \n",
    "    #(20) L       \n",
    "    #(21) M       \n",
    "    COL_IDX = [i for i in range(0, 21)]\n",
    "    COLUMN_MAPPING[9] = \"U\"\n",
    "    COLUMN_MAPPING[10] = \"BX\"\n",
    "    COLUMN_MAPPING[11] = \"B\"\n",
    "    COLUMN_MAPPING[12] = \"V\"\n",
    "    COLUMN_MAPPING[13] = \"R\"\n",
    "    COLUMN_MAPPING[14] = \"I\"\n",
    "    COLUMN_MAPPING[15] = \"J\"\n",
    "    COLUMN_MAPPING[16] = \"H\"\n",
    "    COLUMN_MAPPING[17] = \"K\"\n",
    "    COLUMN_MAPPING[18] = \"L\"\n",
    "    COLUMN_MAPPING[19] = \"L'\"\n",
    "    COLUMN_MAPPING[20] = \"M\"\n",
    "else:\n",
    "    # Default - Johnson-Cousins:\n",
    "    # Photometric columns:\n",
    "    #(10) U       \n",
    "    #(11) BX      \n",
    "    #(12) B       \n",
    "    #(13) V       \n",
    "    #(14) R       \n",
    "    #(15) I       \n",
    "    #(16) J       \n",
    "    #(17) H       \n",
    "    #(18) K       \n",
    "    #(19) L'      \n",
    "    #(20) L       \n",
    "    #(21) M       \n",
    "    COL_IDX = [i for i in range(0, 21)]\n",
    "    COLUMN_MAPPING[9] = \"U\"\n",
    "    COLUMN_MAPPING[10] = \"BX\"\n",
    "    COLUMN_MAPPING[11] = \"B\"\n",
    "    COLUMN_MAPPING[12] = \"V\"\n",
    "    COLUMN_MAPPING[13] = \"R\"\n",
    "    COLUMN_MAPPING[14] = \"I\"\n",
    "    COLUMN_MAPPING[15] = \"J\"\n",
    "    COLUMN_MAPPING[16] = \"H\"\n",
    "    COLUMN_MAPPING[17] = \"K\"\n",
    "    COLUMN_MAPPING[18] = \"L\"\n",
    "    COLUMN_MAPPING[19] = \"L'\"\n",
    "    COLUMN_MAPPING[20] = \"M\"\n"
   ]
  },
  {
   "cell_type": "markdown",
   "id": "4aef1c76",
   "metadata": {},
   "source": [
    "## Functions"
   ]
  },
  {
   "cell_type": "code",
   "execution_count": 23,
   "id": "1dab837b",
   "metadata": {
    "ExecuteTime": {
     "end_time": "2022-01-22T12:18:04.038337Z",
     "start_time": "2022-01-22T12:18:04.034348Z"
    }
   },
   "outputs": [],
   "source": [
    "def logg_star(logg_Sun, Teff_Sun, m_star_in_suns, log_L_star_in_suns, log_Teff_star):\n",
    "    '''Calculates the log(g) of a star from other parameters of the star and the Sun's (refernce) values'''\n",
    "    return logg_Sun + np.log10(m_star_in_suns) - log_L_star_in_suns + 4.0 * log_Teff_star - 4.0 * np.log10(Teff_Sun)\n",
    "vector_logg_star = np.vectorize(logg_star)"
   ]
  },
  {
   "cell_type": "code",
   "execution_count": 24,
   "id": "4a9f590b",
   "metadata": {
    "ExecuteTime": {
     "end_time": "2022-01-22T12:18:04.286581Z",
     "start_time": "2022-01-22T12:18:04.276607Z"
    }
   },
   "outputs": [],
   "source": [
    "@numba.jit\n",
    "def logg_star_numba(logg_Sun, Teff_Sun, m_star_in_suns, log_L_star_in_suns, log_Teff_star):\n",
    "    '''Calculates the log(g) of a star from other parameters of the star and the Sun's (refernce) values'''\n",
    "    return logg_Sun + np.log10(m_star_in_suns) - log_L_star_in_suns + 4.0 * log_Teff_star - 4.0 * np.log10(Teff_Sun)\n",
    "vector_logg_star = np.vectorize(logg_star)"
   ]
  },
  {
   "cell_type": "markdown",
   "id": "080f1b44",
   "metadata": {},
   "source": [
    "## Data loading and cleaning"
   ]
  },
  {
   "cell_type": "code",
   "execution_count": 25,
   "id": "4fa61bca",
   "metadata": {
    "ExecuteTime": {
     "end_time": "2022-01-22T12:18:04.983972Z",
     "start_time": "2022-01-22T12:18:04.962860Z"
    }
   },
   "outputs": [
    {
     "name": "stdout",
     "output_type": "stream",
     "text": [
      "First data line found at position 32\n"
     ]
    }
   ],
   "source": [
    "# DATA LOADING:\n",
    "# Search for the first data line:\n",
    "file_handler = open(AUX_INPUT_FOLDER + INPUT_FILE, 'r')\n",
    "first_data = -1\n",
    "is_data = False\n",
    "while is_data == False:\n",
    "    first_data += 1\n",
    "    # Get next line from file\n",
    "    line = file_handler.readline()\n",
    "    if line[0] == '#':\n",
    "        # It is still a comment line\n",
    "        pass\n",
    "    else:\n",
    "        # A data line was found\n",
    "        is_data = True\n",
    "file_handler.close()\n",
    "print(\"First data line found at position %d\" %first_data)"
   ]
  },
  {
   "cell_type": "code",
   "execution_count": 27,
   "id": "8af5b82e",
   "metadata": {
    "ExecuteTime": {
     "end_time": "2022-01-22T12:18:19.318181Z",
     "start_time": "2022-01-22T12:18:19.027202Z"
    }
   },
   "outputs": [
    {
     "data": {
      "text/html": [
       "<div>\n",
       "<style scoped>\n",
       "    .dataframe tbody tr th:only-of-type {\n",
       "        vertical-align: middle;\n",
       "    }\n",
       "\n",
       "    .dataframe tbody tr th {\n",
       "        vertical-align: top;\n",
       "    }\n",
       "\n",
       "    .dataframe thead th {\n",
       "        text-align: right;\n",
       "    }\n",
       "</style>\n",
       "<table border=\"1\" class=\"dataframe\">\n",
       "  <thead>\n",
       "    <tr style=\"text-align: right;\">\n",
       "      <th></th>\n",
       "      <th>star_number</th>\n",
       "      <th>log(t[years])</th>\n",
       "      <th>Metallicity[Fe/H]</th>\n",
       "      <th>Mass[Mo]</th>\n",
       "      <th>log(L/Lo)</th>\n",
       "      <th>log(Teff[K])</th>\n",
       "      <th>InitMassSec[Mo]</th>\n",
       "      <th>VarStarIdx</th>\n",
       "      <th>Pulsating_log(P[days])</th>\n",
       "      <th>u</th>\n",
       "      <th>g</th>\n",
       "      <th>r</th>\n",
       "      <th>i</th>\n",
       "      <th>z</th>\n",
       "    </tr>\n",
       "  </thead>\n",
       "  <tbody>\n",
       "    <tr>\n",
       "      <th>0</th>\n",
       "      <td>1</td>\n",
       "      <td>9.924415</td>\n",
       "      <td>-1.4575</td>\n",
       "      <td>0.1090</td>\n",
       "      <td>-2.8361</td>\n",
       "      <td>3.5084</td>\n",
       "      <td>0.0928</td>\n",
       "      <td>0</td>\n",
       "      <td>99.99</td>\n",
       "      <td>18.0943</td>\n",
       "      <td>14.4492</td>\n",
       "      <td>12.5954</td>\n",
       "      <td>11.7931</td>\n",
       "      <td>11.3269</td>\n",
       "    </tr>\n",
       "    <tr>\n",
       "      <th>1</th>\n",
       "      <td>2</td>\n",
       "      <td>9.947005</td>\n",
       "      <td>-1.2202</td>\n",
       "      <td>0.1081</td>\n",
       "      <td>-2.8307</td>\n",
       "      <td>3.5138</td>\n",
       "      <td>0.0867</td>\n",
       "      <td>0</td>\n",
       "      <td>99.99</td>\n",
       "      <td>17.9405</td>\n",
       "      <td>14.3751</td>\n",
       "      <td>12.5610</td>\n",
       "      <td>11.7760</td>\n",
       "      <td>11.3214</td>\n",
       "    </tr>\n",
       "    <tr>\n",
       "      <th>2</th>\n",
       "      <td>4</td>\n",
       "      <td>9.913869</td>\n",
       "      <td>-0.7478</td>\n",
       "      <td>0.2711</td>\n",
       "      <td>-1.8518</td>\n",
       "      <td>3.5874</td>\n",
       "      <td>0.2057</td>\n",
       "      <td>0</td>\n",
       "      <td>99.99</td>\n",
       "      <td>13.1454</td>\n",
       "      <td>10.7053</td>\n",
       "      <td>9.2975</td>\n",
       "      <td>8.7596</td>\n",
       "      <td>8.4500</td>\n",
       "    </tr>\n",
       "    <tr>\n",
       "      <th>3</th>\n",
       "      <td>6</td>\n",
       "      <td>9.965860</td>\n",
       "      <td>-1.0048</td>\n",
       "      <td>0.2449</td>\n",
       "      <td>-1.8871</td>\n",
       "      <td>3.5979</td>\n",
       "      <td>0.2222</td>\n",
       "      <td>0</td>\n",
       "      <td>99.99</td>\n",
       "      <td>12.7719</td>\n",
       "      <td>10.4675</td>\n",
       "      <td>9.1732</td>\n",
       "      <td>8.6722</td>\n",
       "      <td>8.3836</td>\n",
       "    </tr>\n",
       "    <tr>\n",
       "      <th>4</th>\n",
       "      <td>8</td>\n",
       "      <td>9.919496</td>\n",
       "      <td>-1.4860</td>\n",
       "      <td>0.1656</td>\n",
       "      <td>-2.2855</td>\n",
       "      <td>3.5691</td>\n",
       "      <td>0.1339</td>\n",
       "      <td>0</td>\n",
       "      <td>99.99</td>\n",
       "      <td>14.7574</td>\n",
       "      <td>12.0461</td>\n",
       "      <td>10.4433</td>\n",
       "      <td>9.8380</td>\n",
       "      <td>9.5020</td>\n",
       "    </tr>\n",
       "  </tbody>\n",
       "</table>\n",
       "</div>"
      ],
      "text/plain": [
       "   star_number  log(t[years])  Metallicity[Fe/H]  Mass[Mo]  log(L/Lo)  \\\n",
       "0            1       9.924415            -1.4575    0.1090    -2.8361   \n",
       "1            2       9.947005            -1.2202    0.1081    -2.8307   \n",
       "2            4       9.913869            -0.7478    0.2711    -1.8518   \n",
       "3            6       9.965860            -1.0048    0.2449    -1.8871   \n",
       "4            8       9.919496            -1.4860    0.1656    -2.2855   \n",
       "\n",
       "   log(Teff[K])  InitMassSec[Mo]  VarStarIdx  Pulsating_log(P[days])        u  \\\n",
       "0        3.5084           0.0928           0                   99.99  18.0943   \n",
       "1        3.5138           0.0867           0                   99.99  17.9405   \n",
       "2        3.5874           0.2057           0                   99.99  13.1454   \n",
       "3        3.5979           0.2222           0                   99.99  12.7719   \n",
       "4        3.5691           0.1339           0                   99.99  14.7574   \n",
       "\n",
       "         g        r        i        z  \n",
       "0  14.4492  12.5954  11.7931  11.3269  \n",
       "1  14.3751  12.5610  11.7760  11.3214  \n",
       "2  10.7053   9.2975   8.7596   8.4500  \n",
       "3  10.4675   9.1732   8.6722   8.3836  \n",
       "4  12.0461  10.4433   9.8380   9.5020  "
      ]
     },
     "execution_count": 27,
     "metadata": {},
     "output_type": "execute_result"
    }
   ],
   "source": [
    "# Data loading and cleaning\n",
    "df = pd.read_csv(AUX_INPUT_FOLDER + INPUT_FILE, sep=' ', skiprows=first_data, names=COL_IDX, skipinitialspace=True)\n",
    "df.rename(columns=COLUMN_MAPPING, inplace=True)\n",
    "df.head()"
   ]
  },
  {
   "cell_type": "code",
   "execution_count": 28,
   "id": "32c1f89f",
   "metadata": {
    "ExecuteTime": {
     "end_time": "2022-01-22T12:18:21.041995Z",
     "start_time": "2022-01-22T12:18:21.027035Z"
    }
   },
   "outputs": [
    {
     "data": {
      "text/plain": [
       "(264732, 14)"
      ]
     },
     "execution_count": 28,
     "metadata": {},
     "output_type": "execute_result"
    }
   ],
   "source": [
    "df.shape"
   ]
  },
  {
   "cell_type": "code",
   "execution_count": 29,
   "id": "21965827",
   "metadata": {
    "ExecuteTime": {
     "end_time": "2022-01-22T12:18:21.400046Z",
     "start_time": "2022-01-22T12:18:21.387081Z"
    }
   },
   "outputs": [
    {
     "data": {
      "text/plain": [
       "Index(['star_number', 'log(t[years])', 'Metallicity[Fe/H]', 'Mass[Mo]',\n",
       "       'log(L/Lo)', 'log(Teff[K])', 'InitMassSec[Mo]', 'VarStarIdx',\n",
       "       'Pulsating_log(P[days])', 'u', 'g', 'r', 'i', 'z'],\n",
       "      dtype='object')"
      ]
     },
     "execution_count": 29,
     "metadata": {},
     "output_type": "execute_result"
    }
   ],
   "source": [
    "df.columns"
   ]
  },
  {
   "cell_type": "markdown",
   "id": "f13caac5",
   "metadata": {},
   "source": [
    "## Data processing"
   ]
  },
  {
   "cell_type": "markdown",
   "id": "fd7bcfbb",
   "metadata": {},
   "source": [
    "### Colour indices"
   ]
  },
  {
   "cell_type": "code",
   "execution_count": 30,
   "id": "ac53ad6f",
   "metadata": {
    "ExecuteTime": {
     "end_time": "2022-01-22T12:18:22.426226Z",
     "start_time": "2022-01-22T12:18:22.395309Z"
    }
   },
   "outputs": [],
   "source": [
    "if PHOTO_SYS == \"Johnson-Cousins\":\n",
    "    df['U-B'] = df['U'] - df['B']\n",
    "    df['B-V'] = df['B'] - df['V']\n",
    "    #df['B-R'] = df['B'] - df['R']\n",
    "    #df['B-I'] = df['B'] - df['I']\n",
    "    df['V-R'] = df['V'] - df['R']\n",
    "    #df['V-I'] = df['V'] - df['I']\n",
    "    df['R-I'] = df['R'] - df['I']\n",
    "elif PHOTO_SYS == \"Sloan\":\n",
    "    # TODO: complete with some other color indices for Sloan.\n",
    "    df['u-g'] = df['u'] - df['g']\n",
    "    df['g-r'] = df['g'] - df['r']\n",
    "    #df['g-i'] = df['g'] - df['i']\n",
    "    df['r-i'] = df['r'] - df['i']\n",
    "    df['i-z'] = df['i'] - df['z']\n",
    "elif PHOTO_SYS == \"HST (ACS)\":\n",
    "    # TODO: color indices for HST (ACS).\n",
    "    pass\n",
    "else:\n",
    "    print(\"Invalid photometric option!\")\n",
    "    pass\n"
   ]
  },
  {
   "cell_type": "code",
   "execution_count": 31,
   "id": "deb802ed",
   "metadata": {
    "ExecuteTime": {
     "end_time": "2022-01-22T12:18:23.140604Z",
     "start_time": "2022-01-22T12:18:23.122652Z"
    }
   },
   "outputs": [
    {
     "data": {
      "text/plain": [
       "Index(['star_number', 'log(t[years])', 'Metallicity[Fe/H]', 'Mass[Mo]',\n",
       "       'log(L/Lo)', 'log(Teff[K])', 'InitMassSec[Mo]', 'VarStarIdx',\n",
       "       'Pulsating_log(P[days])', 'u', 'g', 'r', 'i', 'z', 'u-g', 'g-r', 'r-i',\n",
       "       'i-z'],\n",
       "      dtype='object')"
      ]
     },
     "execution_count": 31,
     "metadata": {},
     "output_type": "execute_result"
    }
   ],
   "source": [
    "df.columns"
   ]
  },
  {
   "cell_type": "markdown",
   "id": "fe4bf202",
   "metadata": {},
   "source": [
    " ### Value of `log(g)` for each star:"
   ]
  },
  {
   "cell_type": "code",
   "execution_count": 32,
   "id": "251db2f9",
   "metadata": {
    "ExecuteTime": {
     "end_time": "2022-01-22T12:18:23.856683Z",
     "start_time": "2022-01-22T12:18:23.850698Z"
    }
   },
   "outputs": [
    {
     "data": {
      "text/plain": [
       "(264732, 18)"
      ]
     },
     "execution_count": 32,
     "metadata": {},
     "output_type": "execute_result"
    }
   ],
   "source": [
    "df.shape"
   ]
  },
  {
   "cell_type": "code",
   "execution_count": 33,
   "id": "14e4161f",
   "metadata": {
    "ExecuteTime": {
     "end_time": "2022-01-22T12:18:24.451071Z",
     "start_time": "2022-01-22T12:18:24.435088Z"
    }
   },
   "outputs": [
    {
     "data": {
      "text/plain": [
       "(2000, 18)"
      ]
     },
     "execution_count": 33,
     "metadata": {},
     "output_type": "execute_result"
    }
   ],
   "source": [
    "###### TRIAL WITH LESS COLUMNS\n",
    "df_small = df.iloc[:2000, ].copy()\n",
    "df_small.shape"
   ]
  },
  {
   "cell_type": "code",
   "execution_count": 34,
   "id": "e96a2a50",
   "metadata": {
    "ExecuteTime": {
     "end_time": "2022-01-22T12:18:33.117360Z",
     "start_time": "2022-01-22T12:18:25.698950Z"
    }
   },
   "outputs": [
    {
     "name": "stdout",
     "output_type": "stream",
     "text": [
      "Wall time: 7.39 s\n"
     ]
    },
    {
     "data": {
      "text/html": [
       "<div>\n",
       "<style scoped>\n",
       "    .dataframe tbody tr th:only-of-type {\n",
       "        vertical-align: middle;\n",
       "    }\n",
       "\n",
       "    .dataframe tbody tr th {\n",
       "        vertical-align: top;\n",
       "    }\n",
       "\n",
       "    .dataframe thead th {\n",
       "        text-align: right;\n",
       "    }\n",
       "</style>\n",
       "<table border=\"1\" class=\"dataframe\">\n",
       "  <thead>\n",
       "    <tr style=\"text-align: right;\">\n",
       "      <th></th>\n",
       "      <th>star_number</th>\n",
       "      <th>log(t[years])</th>\n",
       "      <th>Metallicity[Fe/H]</th>\n",
       "      <th>Mass[Mo]</th>\n",
       "      <th>log(L/Lo)</th>\n",
       "      <th>log(Teff[K])</th>\n",
       "      <th>InitMassSec[Mo]</th>\n",
       "      <th>VarStarIdx</th>\n",
       "      <th>Pulsating_log(P[days])</th>\n",
       "      <th>u</th>\n",
       "      <th>g</th>\n",
       "      <th>r</th>\n",
       "      <th>i</th>\n",
       "      <th>z</th>\n",
       "      <th>u-g</th>\n",
       "      <th>g-r</th>\n",
       "      <th>r-i</th>\n",
       "      <th>i-z</th>\n",
       "      <th>log_g</th>\n",
       "    </tr>\n",
       "  </thead>\n",
       "  <tbody>\n",
       "    <tr>\n",
       "      <th>0</th>\n",
       "      <td>1</td>\n",
       "      <td>9.924415</td>\n",
       "      <td>-1.4575</td>\n",
       "      <td>0.1090</td>\n",
       "      <td>-2.8361</td>\n",
       "      <td>3.5084</td>\n",
       "      <td>0.0928</td>\n",
       "      <td>0</td>\n",
       "      <td>99.99</td>\n",
       "      <td>18.0943</td>\n",
       "      <td>14.4492</td>\n",
       "      <td>12.5954</td>\n",
       "      <td>11.7931</td>\n",
       "      <td>11.3269</td>\n",
       "      <td>3.6451</td>\n",
       "      <td>1.8538</td>\n",
       "      <td>0.8023</td>\n",
       "      <td>0.4662</td>\n",
       "      <td>[5.296607044789548, 5.309206240802235, 5.02401...</td>\n",
       "    </tr>\n",
       "    <tr>\n",
       "      <th>1</th>\n",
       "      <td>2</td>\n",
       "      <td>9.947005</td>\n",
       "      <td>-1.2202</td>\n",
       "      <td>0.1081</td>\n",
       "      <td>-2.8307</td>\n",
       "      <td>3.5138</td>\n",
       "      <td>0.0867</td>\n",
       "      <td>0</td>\n",
       "      <td>99.99</td>\n",
       "      <td>17.9405</td>\n",
       "      <td>14.3751</td>\n",
       "      <td>12.5610</td>\n",
       "      <td>11.7760</td>\n",
       "      <td>11.3214</td>\n",
       "      <td>3.5654</td>\n",
       "      <td>1.8141</td>\n",
       "      <td>0.7850</td>\n",
       "      <td>0.4546</td>\n",
       "      <td>[5.296607044789548, 5.309206240802235, 5.02401...</td>\n",
       "    </tr>\n",
       "    <tr>\n",
       "      <th>2</th>\n",
       "      <td>4</td>\n",
       "      <td>9.913869</td>\n",
       "      <td>-0.7478</td>\n",
       "      <td>0.2711</td>\n",
       "      <td>-1.8518</td>\n",
       "      <td>3.5874</td>\n",
       "      <td>0.2057</td>\n",
       "      <td>0</td>\n",
       "      <td>99.99</td>\n",
       "      <td>13.1454</td>\n",
       "      <td>10.7053</td>\n",
       "      <td>9.2975</td>\n",
       "      <td>8.7596</td>\n",
       "      <td>8.4500</td>\n",
       "      <td>2.4401</td>\n",
       "      <td>1.4078</td>\n",
       "      <td>0.5379</td>\n",
       "      <td>0.3096</td>\n",
       "      <td>[5.296607044789548, 5.309206240802235, 5.02401...</td>\n",
       "    </tr>\n",
       "    <tr>\n",
       "      <th>3</th>\n",
       "      <td>6</td>\n",
       "      <td>9.965860</td>\n",
       "      <td>-1.0048</td>\n",
       "      <td>0.2449</td>\n",
       "      <td>-1.8871</td>\n",
       "      <td>3.5979</td>\n",
       "      <td>0.2222</td>\n",
       "      <td>0</td>\n",
       "      <td>99.99</td>\n",
       "      <td>12.7719</td>\n",
       "      <td>10.4675</td>\n",
       "      <td>9.1732</td>\n",
       "      <td>8.6722</td>\n",
       "      <td>8.3836</td>\n",
       "      <td>2.3044</td>\n",
       "      <td>1.2943</td>\n",
       "      <td>0.5010</td>\n",
       "      <td>0.2886</td>\n",
       "      <td>[5.296607044789548, 5.309206240802235, 5.02401...</td>\n",
       "    </tr>\n",
       "    <tr>\n",
       "      <th>4</th>\n",
       "      <td>8</td>\n",
       "      <td>9.919496</td>\n",
       "      <td>-1.4860</td>\n",
       "      <td>0.1656</td>\n",
       "      <td>-2.2855</td>\n",
       "      <td>3.5691</td>\n",
       "      <td>0.1339</td>\n",
       "      <td>0</td>\n",
       "      <td>99.99</td>\n",
       "      <td>14.7574</td>\n",
       "      <td>12.0461</td>\n",
       "      <td>10.4433</td>\n",
       "      <td>9.8380</td>\n",
       "      <td>9.5020</td>\n",
       "      <td>2.7113</td>\n",
       "      <td>1.6028</td>\n",
       "      <td>0.6053</td>\n",
       "      <td>0.3360</td>\n",
       "      <td>[5.296607044789548, 5.309206240802235, 5.02401...</td>\n",
       "    </tr>\n",
       "  </tbody>\n",
       "</table>\n",
       "</div>"
      ],
      "text/plain": [
       "   star_number  log(t[years])  Metallicity[Fe/H]  Mass[Mo]  log(L/Lo)  \\\n",
       "0            1       9.924415            -1.4575    0.1090    -2.8361   \n",
       "1            2       9.947005            -1.2202    0.1081    -2.8307   \n",
       "2            4       9.913869            -0.7478    0.2711    -1.8518   \n",
       "3            6       9.965860            -1.0048    0.2449    -1.8871   \n",
       "4            8       9.919496            -1.4860    0.1656    -2.2855   \n",
       "\n",
       "   log(Teff[K])  InitMassSec[Mo]  VarStarIdx  Pulsating_log(P[days])        u  \\\n",
       "0        3.5084           0.0928           0                   99.99  18.0943   \n",
       "1        3.5138           0.0867           0                   99.99  17.9405   \n",
       "2        3.5874           0.2057           0                   99.99  13.1454   \n",
       "3        3.5979           0.2222           0                   99.99  12.7719   \n",
       "4        3.5691           0.1339           0                   99.99  14.7574   \n",
       "\n",
       "         g        r        i        z     u-g     g-r     r-i     i-z  \\\n",
       "0  14.4492  12.5954  11.7931  11.3269  3.6451  1.8538  0.8023  0.4662   \n",
       "1  14.3751  12.5610  11.7760  11.3214  3.5654  1.8141  0.7850  0.4546   \n",
       "2  10.7053   9.2975   8.7596   8.4500  2.4401  1.4078  0.5379  0.3096   \n",
       "3  10.4675   9.1732   8.6722   8.3836  2.3044  1.2943  0.5010  0.2886   \n",
       "4  12.0461  10.4433   9.8380   9.5020  2.7113  1.6028  0.6053  0.3360   \n",
       "\n",
       "                                               log_g  \n",
       "0  [5.296607044789548, 5.309206240802235, 5.02401...  \n",
       "1  [5.296607044789548, 5.309206240802235, 5.02401...  \n",
       "2  [5.296607044789548, 5.309206240802235, 5.02401...  \n",
       "3  [5.296607044789548, 5.309206240802235, 5.02401...  \n",
       "4  [5.296607044789548, 5.309206240802235, 5.02401...  "
      ]
     },
     "execution_count": 34,
     "metadata": {},
     "output_type": "execute_result"
    }
   ],
   "source": [
    "%%time\n",
    "# Just pandas:\n",
    "df_small['log_g'] = df_small.apply(\n",
    "    lambda x: vector_logg_star(LOGG_SUN, TEFF_SUN, df_small['Mass[Mo]'], df_small['log(L/Lo)'], df_small['log(Teff[K])']),\n",
    "    axis=1)\n",
    "df_small.head()\n",
    "#df['fee'] = df.apply(lambda x: feez(x['total_rides'], x['plan_name']), axis=1)"
   ]
  },
  {
   "cell_type": "code",
   "execution_count": 35,
   "id": "297538ef",
   "metadata": {
    "ExecuteTime": {
     "end_time": "2022-01-22T12:18:33.558532Z",
     "start_time": "2022-01-22T12:18:33.119372Z"
    }
   },
   "outputs": [
    {
     "name": "stdout",
     "output_type": "stream",
     "text": [
      "Wall time: 407 ms\n"
     ]
    },
    {
     "data": {
      "text/html": [
       "<div>\n",
       "<style scoped>\n",
       "    .dataframe tbody tr th:only-of-type {\n",
       "        vertical-align: middle;\n",
       "    }\n",
       "\n",
       "    .dataframe tbody tr th {\n",
       "        vertical-align: top;\n",
       "    }\n",
       "\n",
       "    .dataframe thead th {\n",
       "        text-align: right;\n",
       "    }\n",
       "</style>\n",
       "<table border=\"1\" class=\"dataframe\">\n",
       "  <thead>\n",
       "    <tr style=\"text-align: right;\">\n",
       "      <th></th>\n",
       "      <th>star_number</th>\n",
       "      <th>log(t[years])</th>\n",
       "      <th>Metallicity[Fe/H]</th>\n",
       "      <th>Mass[Mo]</th>\n",
       "      <th>log(L/Lo)</th>\n",
       "      <th>log(Teff[K])</th>\n",
       "      <th>InitMassSec[Mo]</th>\n",
       "      <th>VarStarIdx</th>\n",
       "      <th>Pulsating_log(P[days])</th>\n",
       "      <th>u</th>\n",
       "      <th>g</th>\n",
       "      <th>r</th>\n",
       "      <th>i</th>\n",
       "      <th>z</th>\n",
       "      <th>u-g</th>\n",
       "      <th>g-r</th>\n",
       "      <th>r-i</th>\n",
       "      <th>i-z</th>\n",
       "      <th>log_g</th>\n",
       "    </tr>\n",
       "  </thead>\n",
       "  <tbody>\n",
       "    <tr>\n",
       "      <th>0</th>\n",
       "      <td>1</td>\n",
       "      <td>9.924415</td>\n",
       "      <td>-1.4575</td>\n",
       "      <td>0.1090</td>\n",
       "      <td>-2.8361</td>\n",
       "      <td>3.5084</td>\n",
       "      <td>0.0928</td>\n",
       "      <td>0</td>\n",
       "      <td>99.99</td>\n",
       "      <td>18.0943</td>\n",
       "      <td>14.4492</td>\n",
       "      <td>12.5954</td>\n",
       "      <td>11.7931</td>\n",
       "      <td>11.3269</td>\n",
       "      <td>3.6451</td>\n",
       "      <td>1.8538</td>\n",
       "      <td>0.8023</td>\n",
       "      <td>0.4662</td>\n",
       "      <td>[5.296607044789548, 5.309206240802235, 5.02401...</td>\n",
       "    </tr>\n",
       "    <tr>\n",
       "      <th>1</th>\n",
       "      <td>2</td>\n",
       "      <td>9.947005</td>\n",
       "      <td>-1.2202</td>\n",
       "      <td>0.1081</td>\n",
       "      <td>-2.8307</td>\n",
       "      <td>3.5138</td>\n",
       "      <td>0.0867</td>\n",
       "      <td>0</td>\n",
       "      <td>99.99</td>\n",
       "      <td>17.9405</td>\n",
       "      <td>14.3751</td>\n",
       "      <td>12.5610</td>\n",
       "      <td>11.7760</td>\n",
       "      <td>11.3214</td>\n",
       "      <td>3.5654</td>\n",
       "      <td>1.8141</td>\n",
       "      <td>0.7850</td>\n",
       "      <td>0.4546</td>\n",
       "      <td>[5.296607044789548, 5.309206240802235, 5.02401...</td>\n",
       "    </tr>\n",
       "    <tr>\n",
       "      <th>2</th>\n",
       "      <td>4</td>\n",
       "      <td>9.913869</td>\n",
       "      <td>-0.7478</td>\n",
       "      <td>0.2711</td>\n",
       "      <td>-1.8518</td>\n",
       "      <td>3.5874</td>\n",
       "      <td>0.2057</td>\n",
       "      <td>0</td>\n",
       "      <td>99.99</td>\n",
       "      <td>13.1454</td>\n",
       "      <td>10.7053</td>\n",
       "      <td>9.2975</td>\n",
       "      <td>8.7596</td>\n",
       "      <td>8.4500</td>\n",
       "      <td>2.4401</td>\n",
       "      <td>1.4078</td>\n",
       "      <td>0.5379</td>\n",
       "      <td>0.3096</td>\n",
       "      <td>[5.296607044789548, 5.309206240802235, 5.02401...</td>\n",
       "    </tr>\n",
       "    <tr>\n",
       "      <th>3</th>\n",
       "      <td>6</td>\n",
       "      <td>9.965860</td>\n",
       "      <td>-1.0048</td>\n",
       "      <td>0.2449</td>\n",
       "      <td>-1.8871</td>\n",
       "      <td>3.5979</td>\n",
       "      <td>0.2222</td>\n",
       "      <td>0</td>\n",
       "      <td>99.99</td>\n",
       "      <td>12.7719</td>\n",
       "      <td>10.4675</td>\n",
       "      <td>9.1732</td>\n",
       "      <td>8.6722</td>\n",
       "      <td>8.3836</td>\n",
       "      <td>2.3044</td>\n",
       "      <td>1.2943</td>\n",
       "      <td>0.5010</td>\n",
       "      <td>0.2886</td>\n",
       "      <td>[5.296607044789548, 5.309206240802235, 5.02401...</td>\n",
       "    </tr>\n",
       "    <tr>\n",
       "      <th>4</th>\n",
       "      <td>8</td>\n",
       "      <td>9.919496</td>\n",
       "      <td>-1.4860</td>\n",
       "      <td>0.1656</td>\n",
       "      <td>-2.2855</td>\n",
       "      <td>3.5691</td>\n",
       "      <td>0.1339</td>\n",
       "      <td>0</td>\n",
       "      <td>99.99</td>\n",
       "      <td>14.7574</td>\n",
       "      <td>12.0461</td>\n",
       "      <td>10.4433</td>\n",
       "      <td>9.8380</td>\n",
       "      <td>9.5020</td>\n",
       "      <td>2.7113</td>\n",
       "      <td>1.6028</td>\n",
       "      <td>0.6053</td>\n",
       "      <td>0.3360</td>\n",
       "      <td>[5.296607044789548, 5.309206240802235, 5.02401...</td>\n",
       "    </tr>\n",
       "  </tbody>\n",
       "</table>\n",
       "</div>"
      ],
      "text/plain": [
       "   star_number  log(t[years])  Metallicity[Fe/H]  Mass[Mo]  log(L/Lo)  \\\n",
       "0            1       9.924415            -1.4575    0.1090    -2.8361   \n",
       "1            2       9.947005            -1.2202    0.1081    -2.8307   \n",
       "2            4       9.913869            -0.7478    0.2711    -1.8518   \n",
       "3            6       9.965860            -1.0048    0.2449    -1.8871   \n",
       "4            8       9.919496            -1.4860    0.1656    -2.2855   \n",
       "\n",
       "   log(Teff[K])  InitMassSec[Mo]  VarStarIdx  Pulsating_log(P[days])        u  \\\n",
       "0        3.5084           0.0928           0                   99.99  18.0943   \n",
       "1        3.5138           0.0867           0                   99.99  17.9405   \n",
       "2        3.5874           0.2057           0                   99.99  13.1454   \n",
       "3        3.5979           0.2222           0                   99.99  12.7719   \n",
       "4        3.5691           0.1339           0                   99.99  14.7574   \n",
       "\n",
       "         g        r        i        z     u-g     g-r     r-i     i-z  \\\n",
       "0  14.4492  12.5954  11.7931  11.3269  3.6451  1.8538  0.8023  0.4662   \n",
       "1  14.3751  12.5610  11.7760  11.3214  3.5654  1.8141  0.7850  0.4546   \n",
       "2  10.7053   9.2975   8.7596   8.4500  2.4401  1.4078  0.5379  0.3096   \n",
       "3  10.4675   9.1732   8.6722   8.3836  2.3044  1.2943  0.5010  0.2886   \n",
       "4  12.0461  10.4433   9.8380   9.5020  2.7113  1.6028  0.6053  0.3360   \n",
       "\n",
       "                                               log_g  \n",
       "0  [5.296607044789548, 5.309206240802235, 5.02401...  \n",
       "1  [5.296607044789548, 5.309206240802235, 5.02401...  \n",
       "2  [5.296607044789548, 5.309206240802235, 5.02401...  \n",
       "3  [5.296607044789548, 5.309206240802235, 5.02401...  \n",
       "4  [5.296607044789548, 5.309206240802235, 5.02401...  "
      ]
     },
     "execution_count": 35,
     "metadata": {},
     "output_type": "execute_result"
    }
   ],
   "source": [
    "%%time\n",
    "# With numba:\n",
    "df_small['log_g'] = df_small.apply(\n",
    "    lambda x: logg_star_numba(LOGG_SUN, TEFF_SUN,\n",
    "                              df_small['Mass[Mo]'].to_numpy(),\n",
    "                              df_small['log(L/Lo)'].to_numpy(),\n",
    "                              df_small['log(Teff[K])'].to_numpy()),\n",
    "    axis=1)\n",
    "df_small.head()"
   ]
  },
  {
   "cell_type": "raw",
   "id": "ef515893",
   "metadata": {},
   "source": [
    "%%time\n",
    "# Try full dataset with numba:\n",
    "df['log_g'] = df.apply(\n",
    "    lambda x: logg_star_numba(LOGG_SUN, TEFF_SUN,\n",
    "                              df['Mass[Mo]'].to_numpy(), df['log(L/Lo)'].to_numpy(),\n",
    "                              df['log(Teff[K])'].to_numpy()),\n",
    "    axis=1)\n",
    "df.head()\n",
    "##### THE KERNEL DIES"
   ]
  },
  {
   "cell_type": "code",
   "execution_count": 36,
   "id": "3554b75e",
   "metadata": {
    "ExecuteTime": {
     "end_time": "2022-01-22T12:18:33.574490Z",
     "start_time": "2022-01-22T12:18:33.559530Z"
    }
   },
   "outputs": [
    {
     "name": "stdout",
     "output_type": "stream",
     "text": [
      "Wall time: 997 µs\n"
     ]
    }
   ],
   "source": [
    "%%time\n",
    "# We try to do the calculation sequentially, instead of using a complex function\n",
    "#def logg_star(logg_Sun, Teff_Sun, m_star_in_suns, log_L_star_in_suns, log_Teff_star):\n",
    "#    '''Calculates the log(g) of a star from other parameters of the star and the Sun's (refernce) values'''\n",
    "#    return logg_Sun + np.log10(m_star_in_suns) + log_L_star_in_suns - 4.0 * log_Teff_star + 4.0 * np.log10(Teff_Sun)\n",
    "df['log_g'] = -4.0 * np.log10(TEFF_SUN)"
   ]
  },
  {
   "cell_type": "code",
   "execution_count": 37,
   "id": "128cea0c",
   "metadata": {
    "ExecuteTime": {
     "end_time": "2022-01-22T12:18:33.790856Z",
     "start_time": "2022-01-22T12:18:33.778166Z"
    }
   },
   "outputs": [
    {
     "name": "stdout",
     "output_type": "stream",
     "text": [
      "Wall time: 2.99 ms\n"
     ]
    }
   ],
   "source": [
    "%%time\n",
    "df['log_g'] = df['log_g'] + 4.0 * df['log(Teff[K])']"
   ]
  },
  {
   "cell_type": "code",
   "execution_count": 38,
   "id": "4d1c0942",
   "metadata": {
    "ExecuteTime": {
     "end_time": "2022-01-22T12:18:34.369042Z",
     "start_time": "2022-01-22T12:18:34.363059Z"
    }
   },
   "outputs": [
    {
     "name": "stdout",
     "output_type": "stream",
     "text": [
      "Wall time: 2 ms\n"
     ]
    }
   ],
   "source": [
    "%%time\n",
    "df['log_g'] = df['log_g'] - df['log(L/Lo)']"
   ]
  },
  {
   "cell_type": "code",
   "execution_count": 39,
   "id": "97ced3e1",
   "metadata": {
    "ExecuteTime": {
     "end_time": "2022-01-22T12:18:34.757926Z",
     "start_time": "2022-01-22T12:18:34.745958Z"
    }
   },
   "outputs": [
    {
     "name": "stdout",
     "output_type": "stream",
     "text": [
      "Wall time: 4.01 ms\n"
     ]
    }
   ],
   "source": [
    "%%time\n",
    "df['log_g'] = df['log_g'] + np.log10(df['Mass[Mo]'])"
   ]
  },
  {
   "cell_type": "code",
   "execution_count": 40,
   "id": "a4b0f6fe",
   "metadata": {
    "ExecuteTime": {
     "end_time": "2022-01-22T12:18:35.067680Z",
     "start_time": "2022-01-22T12:18:35.050725Z"
    }
   },
   "outputs": [
    {
     "name": "stdout",
     "output_type": "stream",
     "text": [
      "Wall time: 2.01 ms\n"
     ]
    }
   ],
   "source": [
    "%%time\n",
    "df['log_g'] = df['log_g'] + LOGG_SUN"
   ]
  },
  {
   "cell_type": "code",
   "execution_count": 41,
   "id": "b9dcdfaa",
   "metadata": {
    "ExecuteTime": {
     "end_time": "2022-01-22T12:18:35.739055Z",
     "start_time": "2022-01-22T12:18:35.716117Z"
    }
   },
   "outputs": [
    {
     "data": {
      "text/html": [
       "<div>\n",
       "<style scoped>\n",
       "    .dataframe tbody tr th:only-of-type {\n",
       "        vertical-align: middle;\n",
       "    }\n",
       "\n",
       "    .dataframe tbody tr th {\n",
       "        vertical-align: top;\n",
       "    }\n",
       "\n",
       "    .dataframe thead th {\n",
       "        text-align: right;\n",
       "    }\n",
       "</style>\n",
       "<table border=\"1\" class=\"dataframe\">\n",
       "  <thead>\n",
       "    <tr style=\"text-align: right;\">\n",
       "      <th></th>\n",
       "      <th>star_number</th>\n",
       "      <th>log(t[years])</th>\n",
       "      <th>Metallicity[Fe/H]</th>\n",
       "      <th>Mass[Mo]</th>\n",
       "      <th>log(L/Lo)</th>\n",
       "      <th>log(Teff[K])</th>\n",
       "      <th>InitMassSec[Mo]</th>\n",
       "      <th>VarStarIdx</th>\n",
       "      <th>Pulsating_log(P[days])</th>\n",
       "      <th>u</th>\n",
       "      <th>g</th>\n",
       "      <th>r</th>\n",
       "      <th>i</th>\n",
       "      <th>z</th>\n",
       "      <th>u-g</th>\n",
       "      <th>g-r</th>\n",
       "      <th>r-i</th>\n",
       "      <th>i-z</th>\n",
       "      <th>log_g</th>\n",
       "    </tr>\n",
       "  </thead>\n",
       "  <tbody>\n",
       "    <tr>\n",
       "      <th>0</th>\n",
       "      <td>1</td>\n",
       "      <td>9.924415</td>\n",
       "      <td>-1.4575</td>\n",
       "      <td>0.1090</td>\n",
       "      <td>-2.8361</td>\n",
       "      <td>3.5084</td>\n",
       "      <td>0.0928</td>\n",
       "      <td>0</td>\n",
       "      <td>99.99</td>\n",
       "      <td>18.0943</td>\n",
       "      <td>14.4492</td>\n",
       "      <td>12.5954</td>\n",
       "      <td>11.7931</td>\n",
       "      <td>11.3269</td>\n",
       "      <td>3.6451</td>\n",
       "      <td>1.8538</td>\n",
       "      <td>0.8023</td>\n",
       "      <td>0.4662</td>\n",
       "      <td>5.296607</td>\n",
       "    </tr>\n",
       "    <tr>\n",
       "      <th>1</th>\n",
       "      <td>2</td>\n",
       "      <td>9.947005</td>\n",
       "      <td>-1.2202</td>\n",
       "      <td>0.1081</td>\n",
       "      <td>-2.8307</td>\n",
       "      <td>3.5138</td>\n",
       "      <td>0.0867</td>\n",
       "      <td>0</td>\n",
       "      <td>99.99</td>\n",
       "      <td>17.9405</td>\n",
       "      <td>14.3751</td>\n",
       "      <td>12.5610</td>\n",
       "      <td>11.7760</td>\n",
       "      <td>11.3214</td>\n",
       "      <td>3.5654</td>\n",
       "      <td>1.8141</td>\n",
       "      <td>0.7850</td>\n",
       "      <td>0.4546</td>\n",
       "      <td>5.309206</td>\n",
       "    </tr>\n",
       "    <tr>\n",
       "      <th>2</th>\n",
       "      <td>4</td>\n",
       "      <td>9.913869</td>\n",
       "      <td>-0.7478</td>\n",
       "      <td>0.2711</td>\n",
       "      <td>-1.8518</td>\n",
       "      <td>3.5874</td>\n",
       "      <td>0.2057</td>\n",
       "      <td>0</td>\n",
       "      <td>99.99</td>\n",
       "      <td>13.1454</td>\n",
       "      <td>10.7053</td>\n",
       "      <td>9.2975</td>\n",
       "      <td>8.7596</td>\n",
       "      <td>8.4500</td>\n",
       "      <td>2.4401</td>\n",
       "      <td>1.4078</td>\n",
       "      <td>0.5379</td>\n",
       "      <td>0.3096</td>\n",
       "      <td>5.024010</td>\n",
       "    </tr>\n",
       "    <tr>\n",
       "      <th>3</th>\n",
       "      <td>6</td>\n",
       "      <td>9.965860</td>\n",
       "      <td>-1.0048</td>\n",
       "      <td>0.2449</td>\n",
       "      <td>-1.8871</td>\n",
       "      <td>3.5979</td>\n",
       "      <td>0.2222</td>\n",
       "      <td>0</td>\n",
       "      <td>99.99</td>\n",
       "      <td>12.7719</td>\n",
       "      <td>10.4675</td>\n",
       "      <td>9.1732</td>\n",
       "      <td>8.6722</td>\n",
       "      <td>8.3836</td>\n",
       "      <td>2.3044</td>\n",
       "      <td>1.2943</td>\n",
       "      <td>0.5010</td>\n",
       "      <td>0.2886</td>\n",
       "      <td>5.057169</td>\n",
       "    </tr>\n",
       "    <tr>\n",
       "      <th>4</th>\n",
       "      <td>8</td>\n",
       "      <td>9.919496</td>\n",
       "      <td>-1.4860</td>\n",
       "      <td>0.1656</td>\n",
       "      <td>-2.2855</td>\n",
       "      <td>3.5691</td>\n",
       "      <td>0.1339</td>\n",
       "      <td>0</td>\n",
       "      <td>99.99</td>\n",
       "      <td>14.7574</td>\n",
       "      <td>12.0461</td>\n",
       "      <td>10.4433</td>\n",
       "      <td>9.8380</td>\n",
       "      <td>9.5020</td>\n",
       "      <td>2.7113</td>\n",
       "      <td>1.6028</td>\n",
       "      <td>0.6053</td>\n",
       "      <td>0.3360</td>\n",
       "      <td>5.170441</td>\n",
       "    </tr>\n",
       "  </tbody>\n",
       "</table>\n",
       "</div>"
      ],
      "text/plain": [
       "   star_number  log(t[years])  Metallicity[Fe/H]  Mass[Mo]  log(L/Lo)  \\\n",
       "0            1       9.924415            -1.4575    0.1090    -2.8361   \n",
       "1            2       9.947005            -1.2202    0.1081    -2.8307   \n",
       "2            4       9.913869            -0.7478    0.2711    -1.8518   \n",
       "3            6       9.965860            -1.0048    0.2449    -1.8871   \n",
       "4            8       9.919496            -1.4860    0.1656    -2.2855   \n",
       "\n",
       "   log(Teff[K])  InitMassSec[Mo]  VarStarIdx  Pulsating_log(P[days])        u  \\\n",
       "0        3.5084           0.0928           0                   99.99  18.0943   \n",
       "1        3.5138           0.0867           0                   99.99  17.9405   \n",
       "2        3.5874           0.2057           0                   99.99  13.1454   \n",
       "3        3.5979           0.2222           0                   99.99  12.7719   \n",
       "4        3.5691           0.1339           0                   99.99  14.7574   \n",
       "\n",
       "         g        r        i        z     u-g     g-r     r-i     i-z  \\\n",
       "0  14.4492  12.5954  11.7931  11.3269  3.6451  1.8538  0.8023  0.4662   \n",
       "1  14.3751  12.5610  11.7760  11.3214  3.5654  1.8141  0.7850  0.4546   \n",
       "2  10.7053   9.2975   8.7596   8.4500  2.4401  1.4078  0.5379  0.3096   \n",
       "3  10.4675   9.1732   8.6722   8.3836  2.3044  1.2943  0.5010  0.2886   \n",
       "4  12.0461  10.4433   9.8380   9.5020  2.7113  1.6028  0.6053  0.3360   \n",
       "\n",
       "      log_g  \n",
       "0  5.296607  \n",
       "1  5.309206  \n",
       "2  5.024010  \n",
       "3  5.057169  \n",
       "4  5.170441  "
      ]
     },
     "execution_count": 41,
     "metadata": {},
     "output_type": "execute_result"
    }
   ],
   "source": [
    "df.head()"
   ]
  },
  {
   "cell_type": "code",
   "execution_count": 42,
   "id": "74fa6f16",
   "metadata": {
    "ExecuteTime": {
     "end_time": "2022-01-22T12:18:36.363153Z",
     "start_time": "2022-01-22T12:18:36.338220Z"
    }
   },
   "outputs": [
    {
     "data": {
      "text/plain": [
       "count    264732.000000\n",
       "mean          5.070244\n",
       "std           0.220097\n",
       "min           0.665406\n",
       "25%           5.003494\n",
       "50%           5.110949\n",
       "75%           5.214531\n",
       "max           5.385102\n",
       "Name: log_g, dtype: float64"
      ]
     },
     "execution_count": 42,
     "metadata": {},
     "output_type": "execute_result"
    }
   ],
   "source": [
    "df['log_g'].describe()"
   ]
  },
  {
   "cell_type": "code",
   "execution_count": 43,
   "id": "bcae25c1",
   "metadata": {
    "ExecuteTime": {
     "end_time": "2022-01-22T12:18:37.249156Z",
     "start_time": "2022-01-22T12:18:37.227217Z"
    }
   },
   "outputs": [
    {
     "data": {
      "text/plain": [
       "count    264732.000000\n",
       "mean          0.240257\n",
       "std           0.225625\n",
       "min           0.100000\n",
       "25%           0.122900\n",
       "50%           0.163400\n",
       "75%           0.261200\n",
       "max           6.819200\n",
       "Name: Mass[Mo], dtype: float64"
      ]
     },
     "execution_count": 43,
     "metadata": {},
     "output_type": "execute_result"
    }
   ],
   "source": [
    "df['Mass[Mo]'].describe()"
   ]
  },
  {
   "cell_type": "code",
   "execution_count": 44,
   "id": "d8d570f8",
   "metadata": {
    "ExecuteTime": {
     "end_time": "2022-01-22T12:18:37.869441Z",
     "start_time": "2022-01-22T12:18:37.851489Z"
    }
   },
   "outputs": [
    {
     "data": {
      "text/plain": [
       "count    264732.000000\n",
       "mean         -2.188406\n",
       "std           0.698589\n",
       "min          -3.087300\n",
       "25%          -2.663200\n",
       "50%          -2.362650\n",
       "75%          -1.945400\n",
       "max           3.401800\n",
       "Name: log(L/Lo), dtype: float64"
      ]
     },
     "execution_count": 44,
     "metadata": {},
     "output_type": "execute_result"
    }
   ],
   "source": [
    "df['log(L/Lo)'].describe()"
   ]
  },
  {
   "cell_type": "code",
   "execution_count": 45,
   "id": "0924fe16",
   "metadata": {
    "ExecuteTime": {
     "end_time": "2022-01-22T12:18:38.514800Z",
     "start_time": "2022-01-22T12:18:38.490830Z"
    }
   },
   "outputs": [
    {
     "data": {
      "text/plain": [
       "count    264732.000000\n",
       "mean          3.551418\n",
       "std           0.068866\n",
       "min           3.438200\n",
       "25%           3.507600\n",
       "50%           3.541300\n",
       "75%           3.576100\n",
       "max           4.308900\n",
       "Name: log(Teff[K]), dtype: float64"
      ]
     },
     "execution_count": 45,
     "metadata": {},
     "output_type": "execute_result"
    }
   ],
   "source": [
    "df['log(Teff[K])'].describe()"
   ]
  },
  {
   "cell_type": "code",
   "execution_count": 46,
   "id": "4efb4436",
   "metadata": {
    "ExecuteTime": {
     "end_time": "2022-01-22T12:18:39.356564Z",
     "start_time": "2022-01-22T12:18:39.338613Z"
    }
   },
   "outputs": [
    {
     "data": {
      "text/plain": [
       "3.7623033632877685"
      ]
     },
     "execution_count": 46,
     "metadata": {},
     "output_type": "execute_result"
    }
   ],
   "source": [
    "np.log10(TEFF_SUN)"
   ]
  },
  {
   "cell_type": "code",
   "execution_count": 47,
   "id": "337b8fc9",
   "metadata": {
    "ExecuteTime": {
     "end_time": "2022-01-22T12:18:40.321607Z",
     "start_time": "2022-01-22T12:18:40.306647Z"
    }
   },
   "outputs": [
    {
     "data": {
      "text/plain": [
       "4.438694"
      ]
     },
     "execution_count": 47,
     "metadata": {},
     "output_type": "execute_result"
    }
   ],
   "source": [
    "# Check Sun:\n",
    "#def logg_star(logg_Sun, Teff_Sun, m_star_in_suns, log_L_star_in_suns, log_Teff_star):\n",
    "#    '''Calculates the log(g) of a star from other parameters of the star and the Sun's (refernce) values'''\n",
    "#    return logg_Sun + np.log10(m_star_in_suns) + log_L_star_in_suns - 4.0 * log_Teff_star + 4.0 * np.log10(Teff_Sun)\n",
    "logg_star(LOGG_SUN, TEFF_SUN, 1.0, 0.0, np.log10(5785))"
   ]
  },
  {
   "cell_type": "code",
   "execution_count": 48,
   "id": "0479baf2",
   "metadata": {
    "ExecuteTime": {
     "end_time": "2022-01-22T12:18:40.788876Z",
     "start_time": "2022-01-22T12:18:40.770957Z"
    }
   },
   "outputs": [
    {
     "data": {
      "text/plain": [
       "4.438694"
      ]
     },
     "execution_count": 48,
     "metadata": {},
     "output_type": "execute_result"
    }
   ],
   "source": [
    "LOGG_SUN"
   ]
  },
  {
   "cell_type": "markdown",
   "id": "abeea1bd",
   "metadata": {},
   "source": [
    "### Add effective temperature"
   ]
  },
  {
   "cell_type": "code",
   "execution_count": 50,
   "id": "a1981201",
   "metadata": {
    "ExecuteTime": {
     "end_time": "2022-01-22T12:18:49.727487Z",
     "start_time": "2022-01-22T12:18:49.714521Z"
    }
   },
   "outputs": [],
   "source": [
    "df['Teff'] = 10.0 ** df['log(Teff[K])']"
   ]
  },
  {
   "cell_type": "markdown",
   "id": "0fab0f5d",
   "metadata": {},
   "source": [
    "### Add raw years values"
   ]
  },
  {
   "cell_type": "code",
   "execution_count": 51,
   "id": "b9476b90",
   "metadata": {
    "ExecuteTime": {
     "end_time": "2022-01-22T12:18:50.505701Z",
     "start_time": "2022-01-22T12:18:50.401751Z"
    }
   },
   "outputs": [
    {
     "data": {
      "text/html": [
       "<div>\n",
       "<style scoped>\n",
       "    .dataframe tbody tr th:only-of-type {\n",
       "        vertical-align: middle;\n",
       "    }\n",
       "\n",
       "    .dataframe tbody tr th {\n",
       "        vertical-align: top;\n",
       "    }\n",
       "\n",
       "    .dataframe thead th {\n",
       "        text-align: right;\n",
       "    }\n",
       "</style>\n",
       "<table border=\"1\" class=\"dataframe\">\n",
       "  <thead>\n",
       "    <tr style=\"text-align: right;\">\n",
       "      <th></th>\n",
       "      <th>star_number</th>\n",
       "      <th>log(t[years])</th>\n",
       "      <th>Metallicity[Fe/H]</th>\n",
       "      <th>Mass[Mo]</th>\n",
       "      <th>log(L/Lo)</th>\n",
       "      <th>log(Teff[K])</th>\n",
       "      <th>InitMassSec[Mo]</th>\n",
       "      <th>VarStarIdx</th>\n",
       "      <th>Pulsating_log(P[days])</th>\n",
       "      <th>u</th>\n",
       "      <th>...</th>\n",
       "      <th>r</th>\n",
       "      <th>i</th>\n",
       "      <th>z</th>\n",
       "      <th>u-g</th>\n",
       "      <th>g-r</th>\n",
       "      <th>r-i</th>\n",
       "      <th>i-z</th>\n",
       "      <th>log_g</th>\n",
       "      <th>Teff</th>\n",
       "      <th>Age [Gyr]</th>\n",
       "    </tr>\n",
       "  </thead>\n",
       "  <tbody>\n",
       "    <tr>\n",
       "      <th>0</th>\n",
       "      <td>1</td>\n",
       "      <td>9.924415</td>\n",
       "      <td>-1.4575</td>\n",
       "      <td>0.1090</td>\n",
       "      <td>-2.8361</td>\n",
       "      <td>3.5084</td>\n",
       "      <td>0.0928</td>\n",
       "      <td>0</td>\n",
       "      <td>99.99</td>\n",
       "      <td>18.0943</td>\n",
       "      <td>...</td>\n",
       "      <td>12.5954</td>\n",
       "      <td>11.7931</td>\n",
       "      <td>11.3269</td>\n",
       "      <td>3.6451</td>\n",
       "      <td>1.8538</td>\n",
       "      <td>0.8023</td>\n",
       "      <td>0.4662</td>\n",
       "      <td>5.296607</td>\n",
       "      <td>3224.036872</td>\n",
       "      <td>8.402622</td>\n",
       "    </tr>\n",
       "    <tr>\n",
       "      <th>1</th>\n",
       "      <td>2</td>\n",
       "      <td>9.947005</td>\n",
       "      <td>-1.2202</td>\n",
       "      <td>0.1081</td>\n",
       "      <td>-2.8307</td>\n",
       "      <td>3.5138</td>\n",
       "      <td>0.0867</td>\n",
       "      <td>0</td>\n",
       "      <td>99.99</td>\n",
       "      <td>17.9405</td>\n",
       "      <td>...</td>\n",
       "      <td>12.5610</td>\n",
       "      <td>11.7760</td>\n",
       "      <td>11.3214</td>\n",
       "      <td>3.5654</td>\n",
       "      <td>1.8141</td>\n",
       "      <td>0.7850</td>\n",
       "      <td>0.4546</td>\n",
       "      <td>5.309206</td>\n",
       "      <td>3264.374675</td>\n",
       "      <td>8.851255</td>\n",
       "    </tr>\n",
       "    <tr>\n",
       "      <th>2</th>\n",
       "      <td>4</td>\n",
       "      <td>9.913869</td>\n",
       "      <td>-0.7478</td>\n",
       "      <td>0.2711</td>\n",
       "      <td>-1.8518</td>\n",
       "      <td>3.5874</td>\n",
       "      <td>0.2057</td>\n",
       "      <td>0</td>\n",
       "      <td>99.99</td>\n",
       "      <td>13.1454</td>\n",
       "      <td>...</td>\n",
       "      <td>9.2975</td>\n",
       "      <td>8.7596</td>\n",
       "      <td>8.4500</td>\n",
       "      <td>2.4401</td>\n",
       "      <td>1.4078</td>\n",
       "      <td>0.5379</td>\n",
       "      <td>0.3096</td>\n",
       "      <td>5.024010</td>\n",
       "      <td>3867.229981</td>\n",
       "      <td>8.201037</td>\n",
       "    </tr>\n",
       "    <tr>\n",
       "      <th>3</th>\n",
       "      <td>6</td>\n",
       "      <td>9.965860</td>\n",
       "      <td>-1.0048</td>\n",
       "      <td>0.2449</td>\n",
       "      <td>-1.8871</td>\n",
       "      <td>3.5979</td>\n",
       "      <td>0.2222</td>\n",
       "      <td>0</td>\n",
       "      <td>99.99</td>\n",
       "      <td>12.7719</td>\n",
       "      <td>...</td>\n",
       "      <td>9.1732</td>\n",
       "      <td>8.6722</td>\n",
       "      <td>8.3836</td>\n",
       "      <td>2.3044</td>\n",
       "      <td>1.2943</td>\n",
       "      <td>0.5010</td>\n",
       "      <td>0.2886</td>\n",
       "      <td>5.057169</td>\n",
       "      <td>3961.867984</td>\n",
       "      <td>9.244008</td>\n",
       "    </tr>\n",
       "    <tr>\n",
       "      <th>4</th>\n",
       "      <td>8</td>\n",
       "      <td>9.919496</td>\n",
       "      <td>-1.4860</td>\n",
       "      <td>0.1656</td>\n",
       "      <td>-2.2855</td>\n",
       "      <td>3.5691</td>\n",
       "      <td>0.1339</td>\n",
       "      <td>0</td>\n",
       "      <td>99.99</td>\n",
       "      <td>14.7574</td>\n",
       "      <td>...</td>\n",
       "      <td>10.4433</td>\n",
       "      <td>9.8380</td>\n",
       "      <td>9.5020</td>\n",
       "      <td>2.7113</td>\n",
       "      <td>1.6028</td>\n",
       "      <td>0.6053</td>\n",
       "      <td>0.3360</td>\n",
       "      <td>5.170441</td>\n",
       "      <td>3707.660840</td>\n",
       "      <td>8.308000</td>\n",
       "    </tr>\n",
       "  </tbody>\n",
       "</table>\n",
       "<p>5 rows × 21 columns</p>\n",
       "</div>"
      ],
      "text/plain": [
       "   star_number  log(t[years])  Metallicity[Fe/H]  Mass[Mo]  log(L/Lo)  \\\n",
       "0            1       9.924415            -1.4575    0.1090    -2.8361   \n",
       "1            2       9.947005            -1.2202    0.1081    -2.8307   \n",
       "2            4       9.913869            -0.7478    0.2711    -1.8518   \n",
       "3            6       9.965860            -1.0048    0.2449    -1.8871   \n",
       "4            8       9.919496            -1.4860    0.1656    -2.2855   \n",
       "\n",
       "   log(Teff[K])  InitMassSec[Mo]  VarStarIdx  Pulsating_log(P[days])        u  \\\n",
       "0        3.5084           0.0928           0                   99.99  18.0943   \n",
       "1        3.5138           0.0867           0                   99.99  17.9405   \n",
       "2        3.5874           0.2057           0                   99.99  13.1454   \n",
       "3        3.5979           0.2222           0                   99.99  12.7719   \n",
       "4        3.5691           0.1339           0                   99.99  14.7574   \n",
       "\n",
       "   ...        r        i        z     u-g     g-r     r-i     i-z     log_g  \\\n",
       "0  ...  12.5954  11.7931  11.3269  3.6451  1.8538  0.8023  0.4662  5.296607   \n",
       "1  ...  12.5610  11.7760  11.3214  3.5654  1.8141  0.7850  0.4546  5.309206   \n",
       "2  ...   9.2975   8.7596   8.4500  2.4401  1.4078  0.5379  0.3096  5.024010   \n",
       "3  ...   9.1732   8.6722   8.3836  2.3044  1.2943  0.5010  0.2886  5.057169   \n",
       "4  ...  10.4433   9.8380   9.5020  2.7113  1.6028  0.6053  0.3360  5.170441   \n",
       "\n",
       "          Teff  Age [Gyr]  \n",
       "0  3224.036872   8.402622  \n",
       "1  3264.374675   8.851255  \n",
       "2  3867.229981   8.201037  \n",
       "3  3961.867984   9.244008  \n",
       "4  3707.660840   8.308000  \n",
       "\n",
       "[5 rows x 21 columns]"
      ]
     },
     "execution_count": 51,
     "metadata": {},
     "output_type": "execute_result"
    }
   ],
   "source": [
    "df['Age [Gyr]'] = df['log(t[years])'].map(lambda x: 10**x / 1.0e+9)\n",
    "df.head()"
   ]
  },
  {
   "cell_type": "markdown",
   "id": "65090509",
   "metadata": {},
   "source": [
    "### Age ranges"
   ]
  },
  {
   "cell_type": "code",
   "execution_count": 52,
   "id": "1fa8ae34",
   "metadata": {
    "ExecuteTime": {
     "end_time": "2022-01-22T12:18:51.624081Z",
     "start_time": "2022-01-22T12:18:51.531558Z"
    }
   },
   "outputs": [
    {
     "data": {
      "text/html": [
       "<div>\n",
       "<style scoped>\n",
       "    .dataframe tbody tr th:only-of-type {\n",
       "        vertical-align: middle;\n",
       "    }\n",
       "\n",
       "    .dataframe tbody tr th {\n",
       "        vertical-align: top;\n",
       "    }\n",
       "\n",
       "    .dataframe thead th {\n",
       "        text-align: right;\n",
       "    }\n",
       "</style>\n",
       "<table border=\"1\" class=\"dataframe\">\n",
       "  <thead>\n",
       "    <tr style=\"text-align: right;\">\n",
       "      <th></th>\n",
       "      <th>star_number</th>\n",
       "      <th>log(t[years])</th>\n",
       "      <th>Metallicity[Fe/H]</th>\n",
       "      <th>Mass[Mo]</th>\n",
       "      <th>log(L/Lo)</th>\n",
       "      <th>log(Teff[K])</th>\n",
       "      <th>InitMassSec[Mo]</th>\n",
       "      <th>VarStarIdx</th>\n",
       "      <th>Pulsating_log(P[days])</th>\n",
       "      <th>u</th>\n",
       "      <th>...</th>\n",
       "      <th>z</th>\n",
       "      <th>u-g</th>\n",
       "      <th>g-r</th>\n",
       "      <th>r-i</th>\n",
       "      <th>i-z</th>\n",
       "      <th>log_g</th>\n",
       "      <th>Teff</th>\n",
       "      <th>Age [Gyr]</th>\n",
       "      <th>Age Range [Gyr]</th>\n",
       "      <th>ID Age Range</th>\n",
       "    </tr>\n",
       "  </thead>\n",
       "  <tbody>\n",
       "    <tr>\n",
       "      <th>0</th>\n",
       "      <td>1</td>\n",
       "      <td>9.924415</td>\n",
       "      <td>-1.4575</td>\n",
       "      <td>0.1090</td>\n",
       "      <td>-2.8361</td>\n",
       "      <td>3.5084</td>\n",
       "      <td>0.0928</td>\n",
       "      <td>0</td>\n",
       "      <td>99.99</td>\n",
       "      <td>18.0943</td>\n",
       "      <td>...</td>\n",
       "      <td>11.3269</td>\n",
       "      <td>3.6451</td>\n",
       "      <td>1.8538</td>\n",
       "      <td>0.8023</td>\n",
       "      <td>0.4662</td>\n",
       "      <td>5.296607</td>\n",
       "      <td>3224.036872</td>\n",
       "      <td>8.402622</td>\n",
       "      <td>from 7.5 to 10.0 Gyr</td>\n",
       "      <td>Age_3</td>\n",
       "    </tr>\n",
       "    <tr>\n",
       "      <th>1</th>\n",
       "      <td>2</td>\n",
       "      <td>9.947005</td>\n",
       "      <td>-1.2202</td>\n",
       "      <td>0.1081</td>\n",
       "      <td>-2.8307</td>\n",
       "      <td>3.5138</td>\n",
       "      <td>0.0867</td>\n",
       "      <td>0</td>\n",
       "      <td>99.99</td>\n",
       "      <td>17.9405</td>\n",
       "      <td>...</td>\n",
       "      <td>11.3214</td>\n",
       "      <td>3.5654</td>\n",
       "      <td>1.8141</td>\n",
       "      <td>0.7850</td>\n",
       "      <td>0.4546</td>\n",
       "      <td>5.309206</td>\n",
       "      <td>3264.374675</td>\n",
       "      <td>8.851255</td>\n",
       "      <td>from 7.5 to 10.0 Gyr</td>\n",
       "      <td>Age_3</td>\n",
       "    </tr>\n",
       "    <tr>\n",
       "      <th>2</th>\n",
       "      <td>4</td>\n",
       "      <td>9.913869</td>\n",
       "      <td>-0.7478</td>\n",
       "      <td>0.2711</td>\n",
       "      <td>-1.8518</td>\n",
       "      <td>3.5874</td>\n",
       "      <td>0.2057</td>\n",
       "      <td>0</td>\n",
       "      <td>99.99</td>\n",
       "      <td>13.1454</td>\n",
       "      <td>...</td>\n",
       "      <td>8.4500</td>\n",
       "      <td>2.4401</td>\n",
       "      <td>1.4078</td>\n",
       "      <td>0.5379</td>\n",
       "      <td>0.3096</td>\n",
       "      <td>5.024010</td>\n",
       "      <td>3867.229981</td>\n",
       "      <td>8.201037</td>\n",
       "      <td>from 7.5 to 10.0 Gyr</td>\n",
       "      <td>Age_3</td>\n",
       "    </tr>\n",
       "    <tr>\n",
       "      <th>3</th>\n",
       "      <td>6</td>\n",
       "      <td>9.965860</td>\n",
       "      <td>-1.0048</td>\n",
       "      <td>0.2449</td>\n",
       "      <td>-1.8871</td>\n",
       "      <td>3.5979</td>\n",
       "      <td>0.2222</td>\n",
       "      <td>0</td>\n",
       "      <td>99.99</td>\n",
       "      <td>12.7719</td>\n",
       "      <td>...</td>\n",
       "      <td>8.3836</td>\n",
       "      <td>2.3044</td>\n",
       "      <td>1.2943</td>\n",
       "      <td>0.5010</td>\n",
       "      <td>0.2886</td>\n",
       "      <td>5.057169</td>\n",
       "      <td>3961.867984</td>\n",
       "      <td>9.244008</td>\n",
       "      <td>from 7.5 to 10.0 Gyr</td>\n",
       "      <td>Age_3</td>\n",
       "    </tr>\n",
       "    <tr>\n",
       "      <th>4</th>\n",
       "      <td>8</td>\n",
       "      <td>9.919496</td>\n",
       "      <td>-1.4860</td>\n",
       "      <td>0.1656</td>\n",
       "      <td>-2.2855</td>\n",
       "      <td>3.5691</td>\n",
       "      <td>0.1339</td>\n",
       "      <td>0</td>\n",
       "      <td>99.99</td>\n",
       "      <td>14.7574</td>\n",
       "      <td>...</td>\n",
       "      <td>9.5020</td>\n",
       "      <td>2.7113</td>\n",
       "      <td>1.6028</td>\n",
       "      <td>0.6053</td>\n",
       "      <td>0.3360</td>\n",
       "      <td>5.170441</td>\n",
       "      <td>3707.660840</td>\n",
       "      <td>8.308000</td>\n",
       "      <td>from 7.5 to 10.0 Gyr</td>\n",
       "      <td>Age_3</td>\n",
       "    </tr>\n",
       "  </tbody>\n",
       "</table>\n",
       "<p>5 rows × 23 columns</p>\n",
       "</div>"
      ],
      "text/plain": [
       "   star_number  log(t[years])  Metallicity[Fe/H]  Mass[Mo]  log(L/Lo)  \\\n",
       "0            1       9.924415            -1.4575    0.1090    -2.8361   \n",
       "1            2       9.947005            -1.2202    0.1081    -2.8307   \n",
       "2            4       9.913869            -0.7478    0.2711    -1.8518   \n",
       "3            6       9.965860            -1.0048    0.2449    -1.8871   \n",
       "4            8       9.919496            -1.4860    0.1656    -2.2855   \n",
       "\n",
       "   log(Teff[K])  InitMassSec[Mo]  VarStarIdx  Pulsating_log(P[days])        u  \\\n",
       "0        3.5084           0.0928           0                   99.99  18.0943   \n",
       "1        3.5138           0.0867           0                   99.99  17.9405   \n",
       "2        3.5874           0.2057           0                   99.99  13.1454   \n",
       "3        3.5979           0.2222           0                   99.99  12.7719   \n",
       "4        3.5691           0.1339           0                   99.99  14.7574   \n",
       "\n",
       "   ...        z     u-g     g-r     r-i     i-z     log_g         Teff  \\\n",
       "0  ...  11.3269  3.6451  1.8538  0.8023  0.4662  5.296607  3224.036872   \n",
       "1  ...  11.3214  3.5654  1.8141  0.7850  0.4546  5.309206  3264.374675   \n",
       "2  ...   8.4500  2.4401  1.4078  0.5379  0.3096  5.024010  3867.229981   \n",
       "3  ...   8.3836  2.3044  1.2943  0.5010  0.2886  5.057169  3961.867984   \n",
       "4  ...   9.5020  2.7113  1.6028  0.6053  0.3360  5.170441  3707.660840   \n",
       "\n",
       "   Age [Gyr]       Age Range [Gyr]  ID Age Range  \n",
       "0   8.402622  from 7.5 to 10.0 Gyr         Age_3  \n",
       "1   8.851255  from 7.5 to 10.0 Gyr         Age_3  \n",
       "2   8.201037  from 7.5 to 10.0 Gyr         Age_3  \n",
       "3   9.244008  from 7.5 to 10.0 Gyr         Age_3  \n",
       "4   8.308000  from 7.5 to 10.0 Gyr         Age_3  \n",
       "\n",
       "[5 rows x 23 columns]"
      ]
     },
     "execution_count": 52,
     "metadata": {},
     "output_type": "execute_result"
    }
   ],
   "source": [
    "df['Age Range [Gyr]'] = \"\"\n",
    "df['ID Age Range'] = -1\n",
    "sorted_age = []\n",
    "for i in range(0, len(LOG_AGE_RANGES) - 1):\n",
    "    if i == 0:\n",
    "        range_id = \"< \" + str(AGE_RANGES[i + 1] / 1.0e+9) + \" Gyr\"\n",
    "    elif i == len(LOG_AGE_RANGES) - 2:\n",
    "        range_id = \"> \" + str(AGE_RANGES[i] / 1.0e+9) + \" Gyr\"\n",
    "    else:\n",
    "        range_id = \"from \" + str(AGE_RANGES[i] / 1.0e+9) + \" to \" + str(AGE_RANGES[i + 1] / 1.0e+9) + \" Gyr\"\n",
    "    #print(\"i = %d\" %i)\n",
    "    #print(\"range_id = %s\" %range_id)\n",
    "    #print(\"RANGE (Gyr): %.2f - %.2f\\n\" %(AGE_RANGES[i] / 1.0e+9, AGE_RANGES[i+1] / 1.0e+9))\n",
    "    sorted_age.append(range_id)\n",
    "    df.loc[(df['log(t[years])'] >= LOG_AGE_RANGES[i]) & (df['log(t[years])'] < LOG_AGE_RANGES[i+1]),\n",
    "           'Age Range [Gyr]'] = range_id    \n",
    "    df.loc[(df['log(t[years])'] >= LOG_AGE_RANGES[i]) & (df['log(t[years])'] < LOG_AGE_RANGES[i+1]),\n",
    "           'ID Age Range'] = \"Age_\" + str(i)\n",
    "# Establish an order to the column:\n",
    "df['Age Range [Gyr]'] = pd.Categorical(df['Age Range [Gyr]'],\n",
    "                                       categories=sorted_age,\n",
    "                                       ordered=True)\n",
    "df.head()"
   ]
  },
  {
   "cell_type": "raw",
   "id": "98ff254b",
   "metadata": {},
   "source": [
    "df['Age Range [Gyr]'].unique()"
   ]
  },
  {
   "cell_type": "raw",
   "id": "81cf0746",
   "metadata": {},
   "source": [
    "df['log(t[years])'].describe()"
   ]
  },
  {
   "cell_type": "markdown",
   "id": "8290f0cd",
   "metadata": {},
   "source": [
    "### Metallicity ranges"
   ]
  },
  {
   "cell_type": "code",
   "execution_count": 53,
   "id": "60ed0778",
   "metadata": {
    "ExecuteTime": {
     "end_time": "2022-01-22T12:18:54.317803Z",
     "start_time": "2022-01-22T12:18:54.226746Z"
    },
    "scrolled": false
   },
   "outputs": [
    {
     "data": {
      "text/html": [
       "<div>\n",
       "<style scoped>\n",
       "    .dataframe tbody tr th:only-of-type {\n",
       "        vertical-align: middle;\n",
       "    }\n",
       "\n",
       "    .dataframe tbody tr th {\n",
       "        vertical-align: top;\n",
       "    }\n",
       "\n",
       "    .dataframe thead th {\n",
       "        text-align: right;\n",
       "    }\n",
       "</style>\n",
       "<table border=\"1\" class=\"dataframe\">\n",
       "  <thead>\n",
       "    <tr style=\"text-align: right;\">\n",
       "      <th></th>\n",
       "      <th>star_number</th>\n",
       "      <th>log(t[years])</th>\n",
       "      <th>Metallicity[Fe/H]</th>\n",
       "      <th>Mass[Mo]</th>\n",
       "      <th>log(L/Lo)</th>\n",
       "      <th>log(Teff[K])</th>\n",
       "      <th>InitMassSec[Mo]</th>\n",
       "      <th>VarStarIdx</th>\n",
       "      <th>Pulsating_log(P[days])</th>\n",
       "      <th>u</th>\n",
       "      <th>...</th>\n",
       "      <th>g-r</th>\n",
       "      <th>r-i</th>\n",
       "      <th>i-z</th>\n",
       "      <th>log_g</th>\n",
       "      <th>Teff</th>\n",
       "      <th>Age [Gyr]</th>\n",
       "      <th>Age Range [Gyr]</th>\n",
       "      <th>ID Age Range</th>\n",
       "      <th>Metallicity Range [Fe/H]</th>\n",
       "      <th>ID Metallicity Range</th>\n",
       "    </tr>\n",
       "  </thead>\n",
       "  <tbody>\n",
       "    <tr>\n",
       "      <th>0</th>\n",
       "      <td>1</td>\n",
       "      <td>9.924415</td>\n",
       "      <td>-1.4575</td>\n",
       "      <td>0.1090</td>\n",
       "      <td>-2.8361</td>\n",
       "      <td>3.5084</td>\n",
       "      <td>0.0928</td>\n",
       "      <td>0</td>\n",
       "      <td>99.99</td>\n",
       "      <td>18.0943</td>\n",
       "      <td>...</td>\n",
       "      <td>1.8538</td>\n",
       "      <td>0.8023</td>\n",
       "      <td>0.4662</td>\n",
       "      <td>5.296607</td>\n",
       "      <td>3224.036872</td>\n",
       "      <td>8.402622</td>\n",
       "      <td>from 7.5 to 10.0 Gyr</td>\n",
       "      <td>Age_3</td>\n",
       "      <td>from -2.0 to -1.0 [Fe/H]</td>\n",
       "      <td>Met_1</td>\n",
       "    </tr>\n",
       "    <tr>\n",
       "      <th>1</th>\n",
       "      <td>2</td>\n",
       "      <td>9.947005</td>\n",
       "      <td>-1.2202</td>\n",
       "      <td>0.1081</td>\n",
       "      <td>-2.8307</td>\n",
       "      <td>3.5138</td>\n",
       "      <td>0.0867</td>\n",
       "      <td>0</td>\n",
       "      <td>99.99</td>\n",
       "      <td>17.9405</td>\n",
       "      <td>...</td>\n",
       "      <td>1.8141</td>\n",
       "      <td>0.7850</td>\n",
       "      <td>0.4546</td>\n",
       "      <td>5.309206</td>\n",
       "      <td>3264.374675</td>\n",
       "      <td>8.851255</td>\n",
       "      <td>from 7.5 to 10.0 Gyr</td>\n",
       "      <td>Age_3</td>\n",
       "      <td>from -2.0 to -1.0 [Fe/H]</td>\n",
       "      <td>Met_1</td>\n",
       "    </tr>\n",
       "    <tr>\n",
       "      <th>2</th>\n",
       "      <td>4</td>\n",
       "      <td>9.913869</td>\n",
       "      <td>-0.7478</td>\n",
       "      <td>0.2711</td>\n",
       "      <td>-1.8518</td>\n",
       "      <td>3.5874</td>\n",
       "      <td>0.2057</td>\n",
       "      <td>0</td>\n",
       "      <td>99.99</td>\n",
       "      <td>13.1454</td>\n",
       "      <td>...</td>\n",
       "      <td>1.4078</td>\n",
       "      <td>0.5379</td>\n",
       "      <td>0.3096</td>\n",
       "      <td>5.024010</td>\n",
       "      <td>3867.229981</td>\n",
       "      <td>8.201037</td>\n",
       "      <td>from 7.5 to 10.0 Gyr</td>\n",
       "      <td>Age_3</td>\n",
       "      <td>from -1.0 to -0.5 [Fe/H]</td>\n",
       "      <td>Met_2</td>\n",
       "    </tr>\n",
       "    <tr>\n",
       "      <th>3</th>\n",
       "      <td>6</td>\n",
       "      <td>9.965860</td>\n",
       "      <td>-1.0048</td>\n",
       "      <td>0.2449</td>\n",
       "      <td>-1.8871</td>\n",
       "      <td>3.5979</td>\n",
       "      <td>0.2222</td>\n",
       "      <td>0</td>\n",
       "      <td>99.99</td>\n",
       "      <td>12.7719</td>\n",
       "      <td>...</td>\n",
       "      <td>1.2943</td>\n",
       "      <td>0.5010</td>\n",
       "      <td>0.2886</td>\n",
       "      <td>5.057169</td>\n",
       "      <td>3961.867984</td>\n",
       "      <td>9.244008</td>\n",
       "      <td>from 7.5 to 10.0 Gyr</td>\n",
       "      <td>Age_3</td>\n",
       "      <td>from -2.0 to -1.0 [Fe/H]</td>\n",
       "      <td>Met_1</td>\n",
       "    </tr>\n",
       "    <tr>\n",
       "      <th>4</th>\n",
       "      <td>8</td>\n",
       "      <td>9.919496</td>\n",
       "      <td>-1.4860</td>\n",
       "      <td>0.1656</td>\n",
       "      <td>-2.2855</td>\n",
       "      <td>3.5691</td>\n",
       "      <td>0.1339</td>\n",
       "      <td>0</td>\n",
       "      <td>99.99</td>\n",
       "      <td>14.7574</td>\n",
       "      <td>...</td>\n",
       "      <td>1.6028</td>\n",
       "      <td>0.6053</td>\n",
       "      <td>0.3360</td>\n",
       "      <td>5.170441</td>\n",
       "      <td>3707.660840</td>\n",
       "      <td>8.308000</td>\n",
       "      <td>from 7.5 to 10.0 Gyr</td>\n",
       "      <td>Age_3</td>\n",
       "      <td>from -2.0 to -1.0 [Fe/H]</td>\n",
       "      <td>Met_1</td>\n",
       "    </tr>\n",
       "  </tbody>\n",
       "</table>\n",
       "<p>5 rows × 25 columns</p>\n",
       "</div>"
      ],
      "text/plain": [
       "   star_number  log(t[years])  Metallicity[Fe/H]  Mass[Mo]  log(L/Lo)  \\\n",
       "0            1       9.924415            -1.4575    0.1090    -2.8361   \n",
       "1            2       9.947005            -1.2202    0.1081    -2.8307   \n",
       "2            4       9.913869            -0.7478    0.2711    -1.8518   \n",
       "3            6       9.965860            -1.0048    0.2449    -1.8871   \n",
       "4            8       9.919496            -1.4860    0.1656    -2.2855   \n",
       "\n",
       "   log(Teff[K])  InitMassSec[Mo]  VarStarIdx  Pulsating_log(P[days])        u  \\\n",
       "0        3.5084           0.0928           0                   99.99  18.0943   \n",
       "1        3.5138           0.0867           0                   99.99  17.9405   \n",
       "2        3.5874           0.2057           0                   99.99  13.1454   \n",
       "3        3.5979           0.2222           0                   99.99  12.7719   \n",
       "4        3.5691           0.1339           0                   99.99  14.7574   \n",
       "\n",
       "   ...     g-r     r-i     i-z     log_g         Teff  Age [Gyr]  \\\n",
       "0  ...  1.8538  0.8023  0.4662  5.296607  3224.036872   8.402622   \n",
       "1  ...  1.8141  0.7850  0.4546  5.309206  3264.374675   8.851255   \n",
       "2  ...  1.4078  0.5379  0.3096  5.024010  3867.229981   8.201037   \n",
       "3  ...  1.2943  0.5010  0.2886  5.057169  3961.867984   9.244008   \n",
       "4  ...  1.6028  0.6053  0.3360  5.170441  3707.660840   8.308000   \n",
       "\n",
       "        Age Range [Gyr]  ID Age Range  Metallicity Range [Fe/H]  \\\n",
       "0  from 7.5 to 10.0 Gyr         Age_3  from -2.0 to -1.0 [Fe/H]   \n",
       "1  from 7.5 to 10.0 Gyr         Age_3  from -2.0 to -1.0 [Fe/H]   \n",
       "2  from 7.5 to 10.0 Gyr         Age_3  from -1.0 to -0.5 [Fe/H]   \n",
       "3  from 7.5 to 10.0 Gyr         Age_3  from -2.0 to -1.0 [Fe/H]   \n",
       "4  from 7.5 to 10.0 Gyr         Age_3  from -2.0 to -1.0 [Fe/H]   \n",
       "\n",
       "   ID Metallicity Range  \n",
       "0                 Met_1  \n",
       "1                 Met_1  \n",
       "2                 Met_2  \n",
       "3                 Met_1  \n",
       "4                 Met_1  \n",
       "\n",
       "[5 rows x 25 columns]"
      ]
     },
     "execution_count": 53,
     "metadata": {},
     "output_type": "execute_result"
    }
   ],
   "source": [
    "df['Metallicity Range [Fe/H]'] = \"\"\n",
    "df['ID Metallicity Range'] = -1\n",
    "sorted_metallicity = []\n",
    "for i in range(0, len(METAL_RANGES) - 1):\n",
    "    if i == 0:\n",
    "        range_id = \"< \" + str(METAL_RANGES[i + 1]) + \" [Fe/H]\"\n",
    "    elif i == len(METAL_RANGES) - 2:\n",
    "        range_id = \"> \" + str(METAL_RANGES[i]) + \" [Fe/H]\"\n",
    "    else:\n",
    "        range_id = \"from \" + str(METAL_RANGES[i]) + \" to \" + str(METAL_RANGES[i + 1]) + \" [Fe/H]\"\n",
    "    #print(\"i = %d\" %i)\n",
    "    #print(\"range_id = %s\" %range_id)\n",
    "    #print(\"RANGE ([Fe/H]): %.2f - %.2f\\n\" %(METAL_RANGE[i], METAL_RANGE[i+1]))\n",
    "    sorted_metallicity.append(range_id)\n",
    "    df.loc[(df['Metallicity[Fe/H]'] >= METAL_RANGES[i]) & (df['Metallicity[Fe/H]'] < METAL_RANGES[i+1]),\n",
    "           'Metallicity Range [Fe/H]'] = range_id\n",
    "    df.loc[(df['Metallicity[Fe/H]'] >= METAL_RANGES[i]) & (df['Metallicity[Fe/H]'] < METAL_RANGES[i+1]),\n",
    "           'ID Metallicity Range'] = \"Met_\" + str(i)\n",
    "# Reorder the column:\n",
    "df['Metallicity Range [Fe/H]'] = pd.Categorical(df['Metallicity Range [Fe/H]'],\n",
    "                                                categories=sorted_metallicity,\n",
    "                                                ordered=True)\n",
    "\n",
    "df.head()"
   ]
  },
  {
   "cell_type": "markdown",
   "id": "614d9974",
   "metadata": {},
   "source": [
    "### Check results"
   ]
  },
  {
   "cell_type": "markdown",
   "id": "90f698a4",
   "metadata": {},
   "source": [
    "#### Check age range preprocessing"
   ]
  },
  {
   "cell_type": "code",
   "execution_count": 54,
   "id": "f9ade543",
   "metadata": {
    "ExecuteTime": {
     "end_time": "2022-01-22T12:18:56.856801Z",
     "start_time": "2022-01-22T12:18:56.826854Z"
    }
   },
   "outputs": [
    {
     "data": {
      "text/html": [
       "<div>\n",
       "<style scoped>\n",
       "    .dataframe tbody tr th:only-of-type {\n",
       "        vertical-align: middle;\n",
       "    }\n",
       "\n",
       "    .dataframe tbody tr th {\n",
       "        vertical-align: top;\n",
       "    }\n",
       "\n",
       "    .dataframe thead th {\n",
       "        text-align: right;\n",
       "    }\n",
       "</style>\n",
       "<table border=\"1\" class=\"dataframe\">\n",
       "  <thead>\n",
       "    <tr style=\"text-align: right;\">\n",
       "      <th></th>\n",
       "      <th>star_number</th>\n",
       "    </tr>\n",
       "    <tr>\n",
       "      <th>Age Range [Gyr]</th>\n",
       "      <th></th>\n",
       "    </tr>\n",
       "  </thead>\n",
       "  <tbody>\n",
       "    <tr>\n",
       "      <th>&lt; 2.5 Gyr</th>\n",
       "      <td>90446</td>\n",
       "    </tr>\n",
       "    <tr>\n",
       "      <th>from 2.5 to 5.0 Gyr</th>\n",
       "      <td>79188</td>\n",
       "    </tr>\n",
       "    <tr>\n",
       "      <th>from 5.0 to 7.5 Gyr</th>\n",
       "      <td>18980</td>\n",
       "    </tr>\n",
       "    <tr>\n",
       "      <th>from 7.5 to 10.0 Gyr</th>\n",
       "      <td>76118</td>\n",
       "    </tr>\n",
       "    <tr>\n",
       "      <th>from 10.0 to 12.5 Gyr</th>\n",
       "      <td>0</td>\n",
       "    </tr>\n",
       "    <tr>\n",
       "      <th>&gt; 12.5 Gyr</th>\n",
       "      <td>0</td>\n",
       "    </tr>\n",
       "  </tbody>\n",
       "</table>\n",
       "</div>"
      ],
      "text/plain": [
       "                       star_number\n",
       "Age Range [Gyr]                   \n",
       "< 2.5 Gyr                    90446\n",
       "from 2.5 to 5.0 Gyr          79188\n",
       "from 5.0 to 7.5 Gyr          18980\n",
       "from 7.5 to 10.0 Gyr         76118\n",
       "from 10.0 to 12.5 Gyr            0\n",
       "> 12.5 Gyr                       0"
      ]
     },
     "execution_count": 54,
     "metadata": {},
     "output_type": "execute_result"
    }
   ],
   "source": [
    "# Count occurrences:\n",
    "df[['Age Range [Gyr]', 'star_number']].groupby(by='Age Range [Gyr]').count()"
   ]
  },
  {
   "cell_type": "code",
   "execution_count": 55,
   "id": "2166d53d",
   "metadata": {
    "ExecuteTime": {
     "end_time": "2022-01-22T12:18:58.771225Z",
     "start_time": "2022-01-22T12:18:57.651078Z"
    }
   },
   "outputs": [
    {
     "data": {
      "text/plain": [
       "<AxesSubplot:xlabel='Age Range [Gyr]', ylabel='Age [Gyr]'>"
      ]
     },
     "execution_count": 55,
     "metadata": {},
     "output_type": "execute_result"
    },
    {
     "data": {
      "image/png": "[encoded data removed]",
      "text/plain": [
       "<Figure size 1440x720 with 1 Axes>"
      ]
     },
     "metadata": {},
     "output_type": "display_data"
    }
   ],
   "source": [
    "# Check Age range preprocessing\n",
    "#plt.scatter(df['log(t[years])'], df['Age Range [Gyr]'])\n",
    "sns.stripplot(data = df,\n",
    "              x='Age Range [Gyr]', y='Age [Gyr]', \n",
    "              order=sorted_age, jitter=False)"
   ]
  },
  {
   "cell_type": "markdown",
   "id": "5a76d3cf",
   "metadata": {},
   "source": [
    "#### Check metallicity range preprocessing"
   ]
  },
  {
   "cell_type": "code",
   "execution_count": 56,
   "id": "bd50450d",
   "metadata": {
    "ExecuteTime": {
     "end_time": "2022-01-22T12:19:00.206808Z",
     "start_time": "2022-01-22T12:19:00.186862Z"
    }
   },
   "outputs": [
    {
     "data": {
      "text/html": [
       "<div>\n",
       "<style scoped>\n",
       "    .dataframe tbody tr th:only-of-type {\n",
       "        vertical-align: middle;\n",
       "    }\n",
       "\n",
       "    .dataframe tbody tr th {\n",
       "        vertical-align: top;\n",
       "    }\n",
       "\n",
       "    .dataframe thead th {\n",
       "        text-align: right;\n",
       "    }\n",
       "</style>\n",
       "<table border=\"1\" class=\"dataframe\">\n",
       "  <thead>\n",
       "    <tr style=\"text-align: right;\">\n",
       "      <th></th>\n",
       "      <th>star_number</th>\n",
       "    </tr>\n",
       "    <tr>\n",
       "      <th>Metallicity Range [Fe/H]</th>\n",
       "      <th></th>\n",
       "    </tr>\n",
       "  </thead>\n",
       "  <tbody>\n",
       "    <tr>\n",
       "      <th>&lt; -2.0 [Fe/H]</th>\n",
       "      <td>4080</td>\n",
       "    </tr>\n",
       "    <tr>\n",
       "      <th>from -2.0 to -1.0 [Fe/H]</th>\n",
       "      <td>67726</td>\n",
       "    </tr>\n",
       "    <tr>\n",
       "      <th>from -1.0 to -0.5 [Fe/H]</th>\n",
       "      <td>76580</td>\n",
       "    </tr>\n",
       "    <tr>\n",
       "      <th>from -0.5 to 0.0 [Fe/H]</th>\n",
       "      <td>78594</td>\n",
       "    </tr>\n",
       "    <tr>\n",
       "      <th>&gt; 0.0 [Fe/H]</th>\n",
       "      <td>37739</td>\n",
       "    </tr>\n",
       "  </tbody>\n",
       "</table>\n",
       "</div>"
      ],
      "text/plain": [
       "                          star_number\n",
       "Metallicity Range [Fe/H]             \n",
       "< -2.0 [Fe/H]                    4080\n",
       "from -2.0 to -1.0 [Fe/H]        67726\n",
       "from -1.0 to -0.5 [Fe/H]        76580\n",
       "from -0.5 to 0.0 [Fe/H]         78594\n",
       "> 0.0 [Fe/H]                    37739"
      ]
     },
     "execution_count": 56,
     "metadata": {},
     "output_type": "execute_result"
    }
   ],
   "source": [
    "# Count occurrences:\n",
    "df[['Metallicity Range [Fe/H]', 'star_number']].groupby(by='Metallicity Range [Fe/H]').count()"
   ]
  },
  {
   "cell_type": "code",
   "execution_count": 57,
   "id": "2bee57ed",
   "metadata": {
    "ExecuteTime": {
     "end_time": "2022-01-22T12:19:01.749710Z",
     "start_time": "2022-01-22T12:19:00.650010Z"
    }
   },
   "outputs": [
    {
     "data": {
      "text/plain": [
       "<AxesSubplot:xlabel='Metallicity Range [Fe/H]', ylabel='Metallicity[Fe/H]'>"
      ]
     },
     "execution_count": 57,
     "metadata": {},
     "output_type": "execute_result"
    },
    {
     "data": {
      "image/png": "[encoded data removed]",
      "text/plain": [
       "<Figure size 1440x720 with 1 Axes>"
      ]
     },
     "metadata": {},
     "output_type": "display_data"
    }
   ],
   "source": [
    "# Check Metallicity range preprocessing\n",
    "#plt.scatter(df['Metallicity[Fe/H])'], df['Metallicity Range [Fe/H]'])\n",
    "sns.stripplot(data = df,\n",
    "              x='Metallicity Range [Fe/H]', y='Metallicity[Fe/H]', \n",
    "              order=sorted_metallicity, jitter=False)"
   ]
  },
  {
   "cell_type": "markdown",
   "id": "924c11ac",
   "metadata": {},
   "source": [
    "#### Check Metallicity vs Age (sample stratified by Age Range)"
   ]
  },
  {
   "cell_type": "code",
   "execution_count": 58,
   "id": "4b085128",
   "metadata": {
    "ExecuteTime": {
     "end_time": "2022-01-22T12:19:02.159526Z",
     "start_time": "2022-01-22T12:19:01.751740Z"
    }
   },
   "outputs": [
    {
     "data": {
      "text/plain": [
       "<AxesSubplot:xlabel='Age [Gyr]', ylabel='Metallicity[Fe/H]'>"
      ]
     },
     "execution_count": 58,
     "metadata": {},
     "output_type": "execute_result"
    },
    {
     "data": {
      "image/png": "[encoded data removed]",
      "text/plain": [
       "<Figure size 1440x720 with 1 Axes>"
      ]
     },
     "metadata": {},
     "output_type": "display_data"
    }
   ],
   "source": [
    "_, x_age, _, y_met = train_test_split(df['Age [Gyr]'], df['Metallicity[Fe/H]'],\n",
    "                                      test_size=0.05, stratify=df['Age Range [Gyr]'])\n",
    "\n",
    "#sns.stripplot(data = df, x=x_age, y=y_met, jitter=False)\n",
    "sns.scatterplot(data = df, x=x_age, y=y_met)\n"
   ]
  },
  {
   "cell_type": "markdown",
   "id": "c614d05f",
   "metadata": {},
   "source": [
    "#### Check Age vs Metallicity (sample stratified by Metallicity Range)"
   ]
  },
  {
   "cell_type": "code",
   "execution_count": 59,
   "id": "d39e38a0",
   "metadata": {
    "ExecuteTime": {
     "end_time": "2022-01-22T12:19:03.047119Z",
     "start_time": "2022-01-22T12:19:03.011135Z"
    }
   },
   "outputs": [
    {
     "ename": "ValueError",
     "evalue": "Input contains NaN",
     "output_type": "error",
     "traceback": [
      "\u001b[1;31m---------------------------------------------------------------------------\u001b[0m",
      "\u001b[1;31mValueError\u001b[0m                                Traceback (most recent call last)",
      "\u001b[1;32m<ipython-input-59-0ec42e562abd>\u001b[0m in \u001b[0;36m<module>\u001b[1;34m\u001b[0m\n\u001b[1;32m----> 1\u001b[1;33m _, x_met, _, y_age = train_test_split(df['Metallicity[Fe/H]'], df['Age [Gyr]'],\n\u001b[0m\u001b[0;32m      2\u001b[0m                                       test_size=0.05, stratify=df['Metallicity Range [Fe/H]'])\n\u001b[0;32m      3\u001b[0m \u001b[1;33m\u001b[0m\u001b[0m\n\u001b[0;32m      4\u001b[0m \u001b[1;31m#sns.stripplot(data = df, x=x_age, y=y_met, jitter=False)\u001b[0m\u001b[1;33m\u001b[0m\u001b[1;33m\u001b[0m\u001b[1;33m\u001b[0m\u001b[0m\n\u001b[0;32m      5\u001b[0m \u001b[0msns\u001b[0m\u001b[1;33m.\u001b[0m\u001b[0mscatterplot\u001b[0m\u001b[1;33m(\u001b[0m\u001b[0mdata\u001b[0m \u001b[1;33m=\u001b[0m \u001b[0mdf\u001b[0m\u001b[1;33m,\u001b[0m \u001b[0mx\u001b[0m\u001b[1;33m=\u001b[0m\u001b[0mx_met\u001b[0m\u001b[1;33m,\u001b[0m \u001b[0my\u001b[0m\u001b[1;33m=\u001b[0m\u001b[0my_age\u001b[0m\u001b[1;33m)\u001b[0m\u001b[1;33m\u001b[0m\u001b[1;33m\u001b[0m\u001b[0m\n",
      "\u001b[1;32m~\\anaconda3\\lib\\site-packages\\sklearn\\model_selection\\_split.py\u001b[0m in \u001b[0;36mtrain_test_split\u001b[1;34m(test_size, train_size, random_state, shuffle, stratify, *arrays)\u001b[0m\n\u001b[0;32m   2195\u001b[0m                      random_state=random_state)\n\u001b[0;32m   2196\u001b[0m \u001b[1;33m\u001b[0m\u001b[0m\n\u001b[1;32m-> 2197\u001b[1;33m         \u001b[0mtrain\u001b[0m\u001b[1;33m,\u001b[0m \u001b[0mtest\u001b[0m \u001b[1;33m=\u001b[0m \u001b[0mnext\u001b[0m\u001b[1;33m(\u001b[0m\u001b[0mcv\u001b[0m\u001b[1;33m.\u001b[0m\u001b[0msplit\u001b[0m\u001b[1;33m(\u001b[0m\u001b[0mX\u001b[0m\u001b[1;33m=\u001b[0m\u001b[0marrays\u001b[0m\u001b[1;33m[\u001b[0m\u001b[1;36m0\u001b[0m\u001b[1;33m]\u001b[0m\u001b[1;33m,\u001b[0m \u001b[0my\u001b[0m\u001b[1;33m=\u001b[0m\u001b[0mstratify\u001b[0m\u001b[1;33m)\u001b[0m\u001b[1;33m)\u001b[0m\u001b[1;33m\u001b[0m\u001b[1;33m\u001b[0m\u001b[0m\n\u001b[0m\u001b[0;32m   2198\u001b[0m \u001b[1;33m\u001b[0m\u001b[0m\n\u001b[0;32m   2199\u001b[0m     return list(chain.from_iterable((_safe_indexing(a, train),\n",
      "\u001b[1;32m~\\anaconda3\\lib\\site-packages\\sklearn\\model_selection\\_split.py\u001b[0m in \u001b[0;36msplit\u001b[1;34m(self, X, y, groups)\u001b[0m\n\u001b[0;32m   1791\u001b[0m         \u001b[0mto\u001b[0m \u001b[0man\u001b[0m \u001b[0minteger\u001b[0m\u001b[1;33m.\u001b[0m\u001b[1;33m\u001b[0m\u001b[1;33m\u001b[0m\u001b[0m\n\u001b[0;32m   1792\u001b[0m         \"\"\"\n\u001b[1;32m-> 1793\u001b[1;33m         \u001b[0my\u001b[0m \u001b[1;33m=\u001b[0m \u001b[0mcheck_array\u001b[0m\u001b[1;33m(\u001b[0m\u001b[0my\u001b[0m\u001b[1;33m,\u001b[0m \u001b[0mensure_2d\u001b[0m\u001b[1;33m=\u001b[0m\u001b[1;32mFalse\u001b[0m\u001b[1;33m,\u001b[0m \u001b[0mdtype\u001b[0m\u001b[1;33m=\u001b[0m\u001b[1;32mNone\u001b[0m\u001b[1;33m)\u001b[0m\u001b[1;33m\u001b[0m\u001b[1;33m\u001b[0m\u001b[0m\n\u001b[0m\u001b[0;32m   1794\u001b[0m         \u001b[1;32mreturn\u001b[0m \u001b[0msuper\u001b[0m\u001b[1;33m(\u001b[0m\u001b[1;33m)\u001b[0m\u001b[1;33m.\u001b[0m\u001b[0msplit\u001b[0m\u001b[1;33m(\u001b[0m\u001b[0mX\u001b[0m\u001b[1;33m,\u001b[0m \u001b[0my\u001b[0m\u001b[1;33m,\u001b[0m \u001b[0mgroups\u001b[0m\u001b[1;33m)\u001b[0m\u001b[1;33m\u001b[0m\u001b[1;33m\u001b[0m\u001b[0m\n\u001b[0;32m   1795\u001b[0m \u001b[1;33m\u001b[0m\u001b[0m\n",
      "\u001b[1;32m~\\anaconda3\\lib\\site-packages\\sklearn\\utils\\validation.py\u001b[0m in \u001b[0;36minner_f\u001b[1;34m(*args, **kwargs)\u001b[0m\n\u001b[0;32m     61\u001b[0m             \u001b[0mextra_args\u001b[0m \u001b[1;33m=\u001b[0m \u001b[0mlen\u001b[0m\u001b[1;33m(\u001b[0m\u001b[0margs\u001b[0m\u001b[1;33m)\u001b[0m \u001b[1;33m-\u001b[0m \u001b[0mlen\u001b[0m\u001b[1;33m(\u001b[0m\u001b[0mall_args\u001b[0m\u001b[1;33m)\u001b[0m\u001b[1;33m\u001b[0m\u001b[1;33m\u001b[0m\u001b[0m\n\u001b[0;32m     62\u001b[0m             \u001b[1;32mif\u001b[0m \u001b[0mextra_args\u001b[0m \u001b[1;33m<=\u001b[0m \u001b[1;36m0\u001b[0m\u001b[1;33m:\u001b[0m\u001b[1;33m\u001b[0m\u001b[1;33m\u001b[0m\u001b[0m\n\u001b[1;32m---> 63\u001b[1;33m                 \u001b[1;32mreturn\u001b[0m \u001b[0mf\u001b[0m\u001b[1;33m(\u001b[0m\u001b[1;33m*\u001b[0m\u001b[0margs\u001b[0m\u001b[1;33m,\u001b[0m \u001b[1;33m**\u001b[0m\u001b[0mkwargs\u001b[0m\u001b[1;33m)\u001b[0m\u001b[1;33m\u001b[0m\u001b[1;33m\u001b[0m\u001b[0m\n\u001b[0m\u001b[0;32m     64\u001b[0m \u001b[1;33m\u001b[0m\u001b[0m\n\u001b[0;32m     65\u001b[0m             \u001b[1;31m# extra_args > 0\u001b[0m\u001b[1;33m\u001b[0m\u001b[1;33m\u001b[0m\u001b[1;33m\u001b[0m\u001b[0m\n",
      "\u001b[1;32m~\\anaconda3\\lib\\site-packages\\sklearn\\utils\\validation.py\u001b[0m in \u001b[0;36mcheck_array\u001b[1;34m(array, accept_sparse, accept_large_sparse, dtype, order, copy, force_all_finite, ensure_2d, allow_nd, ensure_min_samples, ensure_min_features, estimator)\u001b[0m\n\u001b[0;32m    661\u001b[0m \u001b[1;33m\u001b[0m\u001b[0m\n\u001b[0;32m    662\u001b[0m         \u001b[1;32mif\u001b[0m \u001b[0mforce_all_finite\u001b[0m\u001b[1;33m:\u001b[0m\u001b[1;33m\u001b[0m\u001b[1;33m\u001b[0m\u001b[0m\n\u001b[1;32m--> 663\u001b[1;33m             _assert_all_finite(array,\n\u001b[0m\u001b[0;32m    664\u001b[0m                                allow_nan=force_all_finite == 'allow-nan')\n\u001b[0;32m    665\u001b[0m \u001b[1;33m\u001b[0m\u001b[0m\n",
      "\u001b[1;32m~\\anaconda3\\lib\\site-packages\\sklearn\\utils\\validation.py\u001b[0m in \u001b[0;36m_assert_all_finite\u001b[1;34m(X, allow_nan, msg_dtype)\u001b[0m\n\u001b[0;32m    109\u001b[0m     \u001b[1;32melif\u001b[0m \u001b[0mX\u001b[0m\u001b[1;33m.\u001b[0m\u001b[0mdtype\u001b[0m \u001b[1;33m==\u001b[0m \u001b[0mnp\u001b[0m\u001b[1;33m.\u001b[0m\u001b[0mdtype\u001b[0m\u001b[1;33m(\u001b[0m\u001b[1;34m'object'\u001b[0m\u001b[1;33m)\u001b[0m \u001b[1;32mand\u001b[0m \u001b[1;32mnot\u001b[0m \u001b[0mallow_nan\u001b[0m\u001b[1;33m:\u001b[0m\u001b[1;33m\u001b[0m\u001b[1;33m\u001b[0m\u001b[0m\n\u001b[0;32m    110\u001b[0m         \u001b[1;32mif\u001b[0m \u001b[0m_object_dtype_isnan\u001b[0m\u001b[1;33m(\u001b[0m\u001b[0mX\u001b[0m\u001b[1;33m)\u001b[0m\u001b[1;33m.\u001b[0m\u001b[0many\u001b[0m\u001b[1;33m(\u001b[0m\u001b[1;33m)\u001b[0m\u001b[1;33m:\u001b[0m\u001b[1;33m\u001b[0m\u001b[1;33m\u001b[0m\u001b[0m\n\u001b[1;32m--> 111\u001b[1;33m             \u001b[1;32mraise\u001b[0m \u001b[0mValueError\u001b[0m\u001b[1;33m(\u001b[0m\u001b[1;34m\"Input contains NaN\"\u001b[0m\u001b[1;33m)\u001b[0m\u001b[1;33m\u001b[0m\u001b[1;33m\u001b[0m\u001b[0m\n\u001b[0m\u001b[0;32m    112\u001b[0m \u001b[1;33m\u001b[0m\u001b[0m\n\u001b[0;32m    113\u001b[0m \u001b[1;33m\u001b[0m\u001b[0m\n",
      "\u001b[1;31mValueError\u001b[0m: Input contains NaN"
     ]
    }
   ],
   "source": [
    "_, x_met, _, y_age = train_test_split(df['Metallicity[Fe/H]'], df['Age [Gyr]'],\n",
    "                                      test_size=0.05, stratify=df['Metallicity Range [Fe/H]'])\n",
    "\n",
    "#sns.stripplot(data = df, x=x_age, y=y_met, jitter=False)\n",
    "sns.scatterplot(data = df, x=x_met, y=y_age)\n"
   ]
  },
  {
   "cell_type": "markdown",
   "id": "98899d05",
   "metadata": {},
   "source": [
    "### Setting up the distance limit for the CMD (only for 'g' band of Sloan photometric system)"
   ]
  },
  {
   "cell_type": "code",
   "execution_count": 60,
   "id": "00c4c4c1",
   "metadata": {
    "ExecuteTime": {
     "end_time": "2022-01-22T12:19:09.127466Z",
     "start_time": "2022-01-22T12:19:09.114501Z"
    }
   },
   "outputs": [
    {
     "data": {
      "text/plain": [
       "Index(['star_number', 'log(t[years])', 'Metallicity[Fe/H]', 'Mass[Mo]',\n",
       "       'log(L/Lo)', 'log(Teff[K])', 'InitMassSec[Mo]', 'VarStarIdx',\n",
       "       'Pulsating_log(P[days])', 'u', 'g', 'r', 'i', 'z', 'u-g', 'g-r', 'r-i',\n",
       "       'i-z', 'log_g', 'Teff', 'Age [Gyr]', 'Age Range [Gyr]', 'ID Age Range',\n",
       "       'Metallicity Range [Fe/H]', 'ID Metallicity Range'],\n",
       "      dtype='object')"
      ]
     },
     "execution_count": 60,
     "metadata": {},
     "output_type": "execute_result"
    }
   ],
   "source": [
    "df.columns"
   ]
  },
  {
   "cell_type": "code",
   "execution_count": 61,
   "id": "4e71a2fb",
   "metadata": {
    "ExecuteTime": {
     "end_time": "2022-01-22T12:19:09.577512Z",
     "start_time": "2022-01-22T12:19:09.538463Z"
    }
   },
   "outputs": [],
   "source": [
    "try:\n",
    "    df = df[df['g'] <= MAX_G]\n",
    "except Exception as e:\n",
    "    print(\"--- Some error happened. Remember that this part is only valid for 'Sloan' photometric system\")\n",
    "    print(\"--- Eror details: %s\", e)"
   ]
  },
  {
   "cell_type": "markdown",
   "id": "25cb4fa9",
   "metadata": {},
   "source": [
    "## Store the cleaned-up file"
   ]
  },
  {
   "cell_type": "code",
   "execution_count": 62,
   "id": "db6122fd",
   "metadata": {
    "ExecuteTime": {
     "end_time": "2022-01-22T12:19:14.678326Z",
     "start_time": "2022-01-22T12:19:10.785945Z"
    }
   },
   "outputs": [],
   "source": [
    "df.to_csv(AUX_OUTPUT_FOLDER + \"ETLed_\" + OUTPUT_FILEMARK + INPUT_FILE[:-4] + \".csv\", sep=',', decimal='.', index=False)"
   ]
  },
  {
   "cell_type": "code",
   "execution_count": null,
   "id": "149ba91d",
   "metadata": {},
   "outputs": [],
   "source": []
  }
 ],
 "metadata": {
  "kernelspec": {
   "display_name": "Python 3",
   "language": "python",
   "name": "python3"
  },
  "language_info": {
   "codemirror_mode": {
    "name": "ipython",
    "version": 3
   },
   "file_extension": ".py",
   "mimetype": "text/x-python",
   "name": "python",
   "nbconvert_exporter": "python",
   "pygments_lexer": "ipython3",
   "version": "3.8.8"
  },
  "toc": {
   "base_numbering": 1,
   "nav_menu": {},
   "number_sections": true,
   "sideBar": true,
   "skip_h1_title": false,
   "title_cell": "Table of Contents",
   "title_sidebar": "Contents",
   "toc_cell": false,
   "toc_position": {},
   "toc_section_display": true,
   "toc_window_display": false
  }
 },
 "nbformat": 4,
 "nbformat_minor": 5
}
