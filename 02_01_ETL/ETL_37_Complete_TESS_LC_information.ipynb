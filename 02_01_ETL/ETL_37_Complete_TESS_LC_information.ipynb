{
 "cells": [
  {
   "cell_type": "markdown",
   "id": "7e41b9a9",
   "metadata": {},
   "source": [
    "# COMPLETE TESS LIGHT CURVE INFORMATION"
   ]
  },
  {
   "cell_type": "markdown",
   "id": "d5087d56",
   "metadata": {},
   "source": [
    "This notebook takes the GTO objects list and tries to first simply resolve the ambiguity, taking the first file in folder. If not, try to complete the TESS light curve information."
   ]
  },
  {
   "cell_type": "markdown",
   "id": "9d4512e5",
   "metadata": {},
   "source": [
    "## Modules and configuration"
   ]
  },
  {
   "cell_type": "markdown",
   "id": "a24b300e",
   "metadata": {},
   "source": [
    "### Modules"
   ]
  },
  {
   "cell_type": "code",
   "execution_count": 1,
   "id": "bf7cc337",
   "metadata": {
    "ExecuteTime": {
     "end_time": "2022-06-17T06:28:22.421401Z",
     "start_time": "2022-06-17T06:28:19.850266Z"
    }
   },
   "outputs": [],
   "source": [
    "# Modules import:\n",
    "import pandas as pd\n",
    "import numpy as np\n",
    "import os\n",
    "from time import sleep\n",
    "\n",
    "#from astropy.table import Table, QTable\n",
    "#from astropy.timeseries import TimeSeries\n",
    "#from astropy import units as u\n",
    "#from astropy.time import Time\n",
    "from astropy.io import fits\n",
    "\n",
    "import lightkurve as lk\n",
    "\n",
    "#%matplotlib inline\n",
    "#import matplotlib.pyplot as plt\n",
    "\n",
    "#from pylab import rcParams\n",
    "#rcParams['figure.figsize'] = 11, 11\n",
    "\n",
    "#import seaborn as sns\n",
    "#sns.set_style(\"white\", {'figure.figsize':(15,10)})\n",
    "#sns.set_style(\"whitegrid\")\n",
    "#sns.set(rc={'figure.figsize':(15,8)})"
   ]
  },
  {
   "cell_type": "markdown",
   "id": "be1f4594",
   "metadata": {},
   "source": [
    "### Configuration"
   ]
  },
  {
   "cell_type": "code",
   "execution_count": 2,
   "id": "f3feca3c",
   "metadata": {
    "ExecuteTime": {
     "end_time": "2022-06-17T06:28:22.437359Z",
     "start_time": "2022-06-17T06:28:22.422399Z"
    }
   },
   "outputs": [],
   "source": [
    "# Configuration:\n",
    "DATA_FILE = \"../data/CARM_VIS_objects_with_PG.csv\"\n",
    "TESS_LC_FOLDER = \"../data/CARMENES_GTO_TESS_lc/lightcurves/\"\n"
   ]
  },
  {
   "cell_type": "raw",
   "id": "e59a70f9",
   "metadata": {
    "ExecuteTime": {
     "end_time": "2022-03-27T06:47:28.105909Z",
     "start_time": "2022-03-27T06:47:28.090889Z"
    }
   },
   "source": [
    "def tess_lc_load(filename: str):\n",
    "    '''Load the TESS LC file and returns a lightcurve object with just the three relevant columns\n",
    "    Note: it seems to be necessary to drop 'nan' values for GLS to work properly.'''\n",
    "    lc_lk = lk.read(filename).remove_nans()\n",
    "    return lc_lk"
   ]
  },
  {
   "cell_type": "raw",
   "id": "12f6ba49",
   "metadata": {
    "ExecuteTime": {
     "end_time": "2022-03-27T06:47:28.153663Z",
     "start_time": "2022-03-27T06:47:28.140792Z"
    }
   },
   "source": [
    "def lc_infer_sampling(lc_lk: lk.LightCurve):\n",
    "    '''Infer sampling period from light curve'''\n",
    "    time_diffs = lc_lk['time'][1:] - lc_lk['time'][:-1]\n",
    "    return np.median(time_diffs)"
   ]
  },
  {
   "cell_type": "markdown",
   "id": "5c4e1a33",
   "metadata": {},
   "source": [
    "## TESS file correction"
   ]
  },
  {
   "cell_type": "code",
   "execution_count": 3,
   "id": "96ec9736",
   "metadata": {
    "ExecuteTime": {
     "end_time": "2022-06-17T06:28:22.979312Z",
     "start_time": "2022-06-17T06:28:22.914561Z"
    }
   },
   "outputs": [
    {
     "data": {
      "text/html": [
       "<div>\n",
       "<style scoped>\n",
       "    .dataframe tbody tr th:only-of-type {\n",
       "        vertical-align: middle;\n",
       "    }\n",
       "\n",
       "    .dataframe tbody tr th {\n",
       "        vertical-align: top;\n",
       "    }\n",
       "\n",
       "    .dataframe thead th {\n",
       "        text-align: right;\n",
       "    }\n",
       "</style>\n",
       "<table border=\"1\" class=\"dataframe\">\n",
       "  <thead>\n",
       "    <tr style=\"text-align: right;\">\n",
       "      <th></th>\n",
       "      <th>Karmn</th>\n",
       "      <th>Name</th>\n",
       "      <th>Comp</th>\n",
       "      <th>GJ</th>\n",
       "      <th>RA_J2016_deg</th>\n",
       "      <th>DE_J2016_deg</th>\n",
       "      <th>RA_J2000</th>\n",
       "      <th>DE_J2000</th>\n",
       "      <th>l_J2016_deg</th>\n",
       "      <th>b_J2016_deg</th>\n",
       "      <th>...</th>\n",
       "      <th>T0_PG_TESS</th>\n",
       "      <th>e_T0_PG_TESS</th>\n",
       "      <th>offset_PG_TESS</th>\n",
       "      <th>e_offset_PG_TESS</th>\n",
       "      <th>FAP_PG_TESS</th>\n",
       "      <th>valid_PG_TESS</th>\n",
       "      <th>error_PG_TESS</th>\n",
       "      <th>elapsed_time_PG_TESS</th>\n",
       "      <th>fits_file_TESS</th>\n",
       "      <th>fig_file_TESS</th>\n",
       "    </tr>\n",
       "  </thead>\n",
       "  <tbody>\n",
       "    <tr>\n",
       "      <th>0</th>\n",
       "      <td>J23585+076</td>\n",
       "      <td>Wolf 1051</td>\n",
       "      <td>AB</td>\n",
       "      <td>4383</td>\n",
       "      <td>359.636420</td>\n",
       "      <td>7.656947</td>\n",
       "      <td>23:58:32.65</td>\n",
       "      <td>+07:39:30.1</td>\n",
       "      <td>100.839686</td>\n",
       "      <td>-52.931049</td>\n",
       "      <td>...</td>\n",
       "      <td>NaN</td>\n",
       "      <td>NaN</td>\n",
       "      <td>NaN</td>\n",
       "      <td>NaN</td>\n",
       "      <td>NaN</td>\n",
       "      <td>0.0</td>\n",
       "      <td>Not recognized as a supported data product:\\nn...</td>\n",
       "      <td>0.002992</td>\n",
       "      <td>NaN</td>\n",
       "      <td>NaN</td>\n",
       "    </tr>\n",
       "    <tr>\n",
       "      <th>1</th>\n",
       "      <td>J23556-061</td>\n",
       "      <td>GJ 912</td>\n",
       "      <td>AB</td>\n",
       "      <td>912</td>\n",
       "      <td>358.913617</td>\n",
       "      <td>-6.144283</td>\n",
       "      <td>23:55:39.78</td>\n",
       "      <td>-06:08:33.4</td>\n",
       "      <td>88.129933</td>\n",
       "      <td>-65.175491</td>\n",
       "      <td>...</td>\n",
       "      <td>NaN</td>\n",
       "      <td>NaN</td>\n",
       "      <td>NaN</td>\n",
       "      <td>NaN</td>\n",
       "      <td>NaN</td>\n",
       "      <td>0.0</td>\n",
       "      <td>Not recognized as a supported data product:\\nn...</td>\n",
       "      <td>0.001671</td>\n",
       "      <td>NaN</td>\n",
       "      <td>NaN</td>\n",
       "    </tr>\n",
       "    <tr>\n",
       "      <th>2</th>\n",
       "      <td>J23548+385</td>\n",
       "      <td>RX J2354.8+3831</td>\n",
       "      <td>-</td>\n",
       "      <td>NaN</td>\n",
       "      <td>358.713658</td>\n",
       "      <td>38.526340</td>\n",
       "      <td>23:54:51.46</td>\n",
       "      <td>+38:31:36.2</td>\n",
       "      <td>110.941908</td>\n",
       "      <td>-23.024449</td>\n",
       "      <td>...</td>\n",
       "      <td>1764.609498</td>\n",
       "      <td>0.010704</td>\n",
       "      <td>8262.219751</td>\n",
       "      <td>1.365667</td>\n",
       "      <td>1.000000</td>\n",
       "      <td>1.0</td>\n",
       "      <td>NaN</td>\n",
       "      <td>344.002685</td>\n",
       "      <td>../data/CARMENES_GTO_TESS_PGs/J23548+385_TESS_...</td>\n",
       "      <td>../data/CARMENES_GTO_TESS_PGs/figures/J23548+3...</td>\n",
       "    </tr>\n",
       "    <tr>\n",
       "      <th>3</th>\n",
       "      <td>J23505-095</td>\n",
       "      <td>LP 763-012</td>\n",
       "      <td>-</td>\n",
       "      <td>4367</td>\n",
       "      <td>357.634705</td>\n",
       "      <td>-9.560964</td>\n",
       "      <td>23:50:31.64</td>\n",
       "      <td>-09:33:32.7</td>\n",
       "      <td>80.777067</td>\n",
       "      <td>-67.303426</td>\n",
       "      <td>...</td>\n",
       "      <td>1354.108815</td>\n",
       "      <td>0.001261</td>\n",
       "      <td>7767.134654</td>\n",
       "      <td>0.094298</td>\n",
       "      <td>0.064148</td>\n",
       "      <td>1.0</td>\n",
       "      <td>NaN</td>\n",
       "      <td>473.533042</td>\n",
       "      <td>../data/CARMENES_GTO_TESS_PGs/J23505-095_TESS_...</td>\n",
       "      <td>../data/CARMENES_GTO_TESS_PGs/figures/J23505-0...</td>\n",
       "    </tr>\n",
       "    <tr>\n",
       "      <th>4</th>\n",
       "      <td>J23492+024</td>\n",
       "      <td>BR Psc</td>\n",
       "      <td>-</td>\n",
       "      <td>908</td>\n",
       "      <td>357.306604</td>\n",
       "      <td>2.396918</td>\n",
       "      <td>23:49:12.53</td>\n",
       "      <td>+02:24:04.4</td>\n",
       "      <td>93.567467</td>\n",
       "      <td>-56.885396</td>\n",
       "      <td>...</td>\n",
       "      <td>NaN</td>\n",
       "      <td>NaN</td>\n",
       "      <td>NaN</td>\n",
       "      <td>NaN</td>\n",
       "      <td>NaN</td>\n",
       "      <td>0.0</td>\n",
       "      <td>Not recognized as a supported data product:\\nn...</td>\n",
       "      <td>0.000997</td>\n",
       "      <td>NaN</td>\n",
       "      <td>NaN</td>\n",
       "    </tr>\n",
       "  </tbody>\n",
       "</table>\n",
       "<p>5 rows × 248 columns</p>\n",
       "</div>"
      ],
      "text/plain": [
       "        Karmn             Name Comp    GJ  RA_J2016_deg  DE_J2016_deg  \\\n",
       "0  J23585+076        Wolf 1051   AB  4383    359.636420      7.656947   \n",
       "1  J23556-061           GJ 912   AB   912    358.913617     -6.144283   \n",
       "2  J23548+385  RX J2354.8+3831    -   NaN    358.713658     38.526340   \n",
       "3  J23505-095       LP 763-012    -  4367    357.634705     -9.560964   \n",
       "4  J23492+024           BR Psc    -   908    357.306604      2.396918   \n",
       "\n",
       "      RA_J2000     DE_J2000  l_J2016_deg  b_J2016_deg  ...   T0_PG_TESS  \\\n",
       "0  23:58:32.65  +07:39:30.1   100.839686   -52.931049  ...          NaN   \n",
       "1  23:55:39.78  -06:08:33.4    88.129933   -65.175491  ...          NaN   \n",
       "2  23:54:51.46  +38:31:36.2   110.941908   -23.024449  ...  1764.609498   \n",
       "3  23:50:31.64  -09:33:32.7    80.777067   -67.303426  ...  1354.108815   \n",
       "4  23:49:12.53  +02:24:04.4    93.567467   -56.885396  ...          NaN   \n",
       "\n",
       "  e_T0_PG_TESS  offset_PG_TESS e_offset_PG_TESS  FAP_PG_TESS  valid_PG_TESS  \\\n",
       "0          NaN             NaN              NaN          NaN            0.0   \n",
       "1          NaN             NaN              NaN          NaN            0.0   \n",
       "2     0.010704     8262.219751         1.365667     1.000000            1.0   \n",
       "3     0.001261     7767.134654         0.094298     0.064148            1.0   \n",
       "4          NaN             NaN              NaN          NaN            0.0   \n",
       "\n",
       "                                       error_PG_TESS  elapsed_time_PG_TESS  \\\n",
       "0  Not recognized as a supported data product:\\nn...              0.002992   \n",
       "1  Not recognized as a supported data product:\\nn...              0.001671   \n",
       "2                                                NaN            344.002685   \n",
       "3                                                NaN            473.533042   \n",
       "4  Not recognized as a supported data product:\\nn...              0.000997   \n",
       "\n",
       "                                      fits_file_TESS  \\\n",
       "0                                                NaN   \n",
       "1                                                NaN   \n",
       "2  ../data/CARMENES_GTO_TESS_PGs/J23548+385_TESS_...   \n",
       "3  ../data/CARMENES_GTO_TESS_PGs/J23505-095_TESS_...   \n",
       "4                                                NaN   \n",
       "\n",
       "                                       fig_file_TESS  \n",
       "0                                                NaN  \n",
       "1                                                NaN  \n",
       "2  ../data/CARMENES_GTO_TESS_PGs/figures/J23548+3...  \n",
       "3  ../data/CARMENES_GTO_TESS_PGs/figures/J23505-0...  \n",
       "4                                                NaN  \n",
       "\n",
       "[5 rows x 248 columns]"
      ]
     },
     "execution_count": 3,
     "metadata": {},
     "output_type": "execute_result"
    }
   ],
   "source": [
    "gto = pd.read_csv(DATA_FILE, sep=',', decimal='.')\n",
    "gto.head()"
   ]
  },
  {
   "cell_type": "code",
   "execution_count": 4,
   "id": "d83c367f",
   "metadata": {
    "ExecuteTime": {
     "end_time": "2022-06-17T06:28:23.570065Z",
     "start_time": "2022-06-17T06:28:23.554108Z"
    }
   },
   "outputs": [
    {
     "data": {
      "text/plain": [
       "0      False\n",
       "1      False\n",
       "2       True\n",
       "3       True\n",
       "4      False\n",
       "       ...  \n",
       "385     True\n",
       "386    False\n",
       "387    False\n",
       "388    False\n",
       "389     True\n",
       "Name: has_lc, Length: 390, dtype: bool"
      ]
     },
     "execution_count": 4,
     "metadata": {},
     "output_type": "execute_result"
    }
   ],
   "source": [
    "gto['has_lc']"
   ]
  },
  {
   "cell_type": "code",
   "execution_count": 5,
   "id": "bfa76516",
   "metadata": {
    "ExecuteTime": {
     "end_time": "2022-06-17T06:28:24.049114Z",
     "start_time": "2022-06-17T06:28:24.042134Z"
    }
   },
   "outputs": [
    {
     "data": {
      "text/plain": [
       "0                                                    NaN\n",
       "1                                                    NaN\n",
       "2      ../data/CARMENES_GTO_TESS_lc/lightcurves/J2354...\n",
       "3      ../data/CARMENES_GTO_TESS_lc/lightcurves/J2350...\n",
       "4                                                    NaN\n",
       "                             ...                        \n",
       "385    ../data/CARMENES_GTO_TESS_lc/lightcurves/J0018...\n",
       "386                                                  NaN\n",
       "387                                                  NaN\n",
       "388                                                  NaN\n",
       "389    ../data/CARMENES_GTO_TESS_lc/lightcurves/J0005...\n",
       "Name: lc_file, Length: 390, dtype: object"
      ]
     },
     "execution_count": 5,
     "metadata": {},
     "output_type": "execute_result"
    }
   ],
   "source": [
    "gto['lc_file']"
   ]
  },
  {
   "cell_type": "code",
   "execution_count": 6,
   "id": "2543c2e3",
   "metadata": {
    "ExecuteTime": {
     "end_time": "2022-06-17T06:28:24.656789Z",
     "start_time": "2022-06-17T06:28:24.642800Z"
    }
   },
   "outputs": [
    {
     "name": "stdout",
     "output_type": "stream",
     "text": [
      "['Karmn', 'Name', 'Comp', 'GJ', 'RA_J2016_deg', 'DE_J2016_deg', 'RA_J2000', 'DE_J2000', 'l_J2016_deg', 'b_J2016_deg', 'Ref01', 'SpT', 'SpTnum', 'Ref02', 'Teff_K', 'eTeff_K', 'logg', 'elogg', '[Fe/H]', 'e[Fe/H]', 'Ref03', 'L_Lsol', 'eL_Lsol', 'Ref04', 'R_Rsol', 'eR_Rsol', 'Ref05', 'M_Msol', 'eM_Msol', 'Ref06', 'muRA_masa-1', 'emuRA_masa-1', 'muDE_masa-1', 'emuDE_masa-1', 'Ref07', 'pi_mas', 'epi_mas', 'Ref08', 'd_pc', 'ed_pc', 'Ref09', 'Vr_kms-1', 'eVr_kms-1', 'Ref10', 'ruwe', 'Ref11', 'U_kms-1', 'eU_kms-1', 'V_kms-1', 'eV_kms-1', 'W_kms-1', 'eW_kms-1', 'Ref12', 'sa_m/s/a', 'esa_m/s/a', 'Ref13', 'SKG', 'Ref14', 'SKG_lit', 'Ref14_lit', 'Pop', 'Ref15', 'vsini_flag', 'vsini_kms-1', 'evsini_kms-1', 'Ref16', 'P_d', 'eP_d', 'Ref17', 'pEWHalpha_A', 'epEWHalpha_A', 'Ref18', 'log(LHalpha/Lbol)', 'elog(LHalpha/Lbol)', 'Ref19', '1RXS', 'CRT_s-1', 'eCRT_s-1', 'HR1', 'eHR1', 'HR2', 'eHR2', 'Flux_X_E-13_ergcm-2s-1', 'eFlux_X_E-13_ergcm-2s-1', 'LX/LJ', 'eLX/LJ', 'Ref20', 'Activity', 'Ref21', 'FUV_mag', 'eFUV_mag', 'NUV_mag', 'eNUV_mag', 'Ref22', 'u_mag', 'eu_mag', 'Ref23', 'BT_mag', 'eBT_mag', 'Ref24', 'B_mag', 'eB_mag', 'Ref25', 'BP_mag', 'eBP_mag', 'Ref26', 'g_mag', 'eg_mag', 'Ref27', 'VT_mag', 'eVT_mag', 'Ref28', 'V_mag', 'eV_mag', 'Ref29', 'Ra_mag', 'Ref30', 'r_mag', 'er_mag', 'Ref31', 'GG_mag', 'eGG_mag', 'Ref32', 'i_mag', 'ei_mag', 'Ref33', 'RP_mag', 'eRP_mag', 'Ref34', 'IN_mag', 'Ref35', 'J_mag', 'eJ_mag', 'H_mag', 'eH_mag', 'Ks_mag', 'eKs_mag', 'QFlag_2M', 'Ref36', 'W1_mag', 'eW1_mag', 'W2_mag', 'eW2_mag', 'W3_mag', 'eW3_mag', 'W4_mag', 'eW4_mag', 'QFlag_WISE', 'Ref37', 'Multiplicity', 'WideWDS', 'Widerho_arcsec', 'eWiderho_arcsec', 'Ref38', 'WideCompanionName', 'WideCompanionSpT', 'CloseWDS', 'Closerho_arcsec', 'eCloserho_arcsec', 'Ref39', 'CloseCompanionSpT', 'RV', 'Planet', 'Ref40', 'PlanetNum', 'LoRes_spectrum', 'HiRes_spectrum', 'LoRes_imaging', 'HiRes_imaging', 'Class', 'Survey', 'Notes', 'Gaia_id_1', '2MASS_id', 'TIC_id', 'Teff_min_K', 'Teff_max_K', 'logg_min', 'logg_max', 'is_GTO', 'rv_file', 'lc_file', 'has_rv', 'has_lc', 'InstBand_nominal', 'InstBand_ranged', 'n_RV', 'Ps_RV', 'fs_RV', 'wmean_RV', 'wrms_RV', 'info_PG_RV', 'maxP_PG_RV', 'maxSNR_PG_RV', 'rms_PG_RV', 'f_PG_RV', 'e_f_PG_RV', 'Pd_PG_RV', 'e_Pd_PG_RV', 'Ph_PG_RV', 'e_Ph_PG_RV', 'Pm_PG_RV', 'e_Pm_PG_RV', 'A_PG_RV', 'e_A_PG_RV', 'ph_PG_RV', 'e_ph_PG_RV', 'T0_PG_RV', 'e_T0_PG_RV', 'offset_PG_RV', 'e_offset_PG_RV', 'FAP_PG_RV', 'valid_PG_RV', 'error_PG_RV', 'elapsed_time_PG_RV', 'fits_file_RV', 'fig_file_RV', 'n_TESS', 'Ps_TESS', 'fs_TESS', 'wmean_TESS', 'wrms_TESS', 'info_PG_TESS', 'maxP_PG_TESS', 'maxSNR_PG_TESS', 'rms_PG_TESS', 'f_PG_TESS', 'e_f_PG_TESS', 'Pd_PG_TESS', 'e_Pd_PG_TESS', 'Ph_PG_TESS', 'e_Ph_PG_TESS', 'Pm_PG_TESS', 'e_Pm_PG_TESS', 'A_PG_TESS', 'e_A_PG_TESS', 'ph_PG_TESS', 'e_ph_PG_TESS', 'T0_PG_TESS', 'e_T0_PG_TESS', 'offset_PG_TESS', 'e_offset_PG_TESS', 'FAP_PG_TESS', 'valid_PG_TESS', 'error_PG_TESS', 'elapsed_time_PG_TESS', 'fits_file_TESS', 'fig_file_TESS']\n"
     ]
    }
   ],
   "source": [
    "print(list(gto.columns))"
   ]
  },
  {
   "cell_type": "code",
   "execution_count": 7,
   "id": "21af7aa2",
   "metadata": {
    "ExecuteTime": {
     "end_time": "2022-06-17T06:28:26.543071Z",
     "start_time": "2022-06-17T06:28:26.539084Z"
    }
   },
   "outputs": [
    {
     "data": {
      "text/plain": [
       "numpy.int64"
      ]
     },
     "execution_count": 7,
     "metadata": {},
     "output_type": "execute_result"
    }
   ],
   "source": [
    "type(gto.loc[0, 'TIC_id'])"
   ]
  },
  {
   "cell_type": "code",
   "execution_count": 8,
   "id": "dec98d54",
   "metadata": {
    "ExecuteTime": {
     "end_time": "2022-06-17T06:57:22.439968Z",
     "start_time": "2022-06-17T06:28:28.145898Z"
    },
    "scrolled": false
   },
   "outputs": [
    {
     "name": "stdout",
     "output_type": "stream",
     "text": [
      "../data/CARMENES_GTO_TESS_lc/lightcurves/J15218+209/J15218+209_TESS_TIC355793860_S24.fits filename DOES exist\n"
     ]
    },
    {
     "name": "stderr",
     "output_type": "stream",
     "text": [
      "Started querying MAST for observations with the exact target_name='036853511'.\n"
     ]
    },
    {
     "name": "stdout",
     "output_type": "stream",
     "text": [
      "nan filename DOES NOT exist, trying to look and download\n"
     ]
    },
    {
     "name": "stderr",
     "output_type": "stream",
     "text": [
      "No observations found. Now performing a cone search instead.\n",
      "Started querying MAST for observations within 0.0001 arcsec arcsec of objectname='TIC36853511'.\n",
      "MAST found 0 observations. Now querying MAST for the corresponding data products.\n",
      "No data found for target \"TIC36853511\".\n"
     ]
    },
    {
     "name": "stdout",
     "output_type": "stream",
     "text": [
      "** WARNING: no results found for J15194-077 star\n"
     ]
    },
    {
     "name": "stderr",
     "output_type": "stream",
     "text": [
      "Started querying MAST for observations with the exact target_name='351346161'.\n",
      "No observations found. Now performing a cone search instead.\n",
      "Started querying MAST for observations within 0.0001 arcsec arcsec of objectname='TIC351346161'.\n"
     ]
    },
    {
     "name": "stdout",
     "output_type": "stream",
     "text": [
      "nan filename DOES NOT exist, trying to look and download\n"
     ]
    },
    {
     "name": "stderr",
     "output_type": "stream",
     "text": [
      "MAST found 0 observations. Now querying MAST for the corresponding data products.\n",
      "No data found for target \"TIC351346161\".\n"
     ]
    },
    {
     "name": "stdout",
     "output_type": "stream",
     "text": [
      "** WARNING: no results found for J15100+193 star\n"
     ]
    },
    {
     "name": "stderr",
     "output_type": "stream",
     "text": [
      "Started querying MAST for observations with the exact target_name='460418429'.\n",
      "No observations found. Now performing a cone search instead.\n"
     ]
    },
    {
     "name": "stdout",
     "output_type": "stream",
     "text": [
      "nan filename DOES NOT exist, trying to look and download\n"
     ]
    },
    {
     "name": "stderr",
     "output_type": "stream",
     "text": [
      "Started querying MAST for observations within 0.0001 arcsec arcsec of objectname='TIC460418429'.\n",
      "MAST found 0 observations. Now querying MAST for the corresponding data products.\n",
      "No data found for target \"TIC460418429\".\n"
     ]
    },
    {
     "name": "stdout",
     "output_type": "stream",
     "text": [
      "** WARNING: no results found for J15095+031 star\n"
     ]
    },
    {
     "name": "stderr",
     "output_type": "stream",
     "text": [
      "Started querying MAST for observations with the exact target_name='460356719'.\n",
      "No observations found. Now performing a cone search instead.\n"
     ]
    },
    {
     "name": "stdout",
     "output_type": "stream",
     "text": [
      "nan filename DOES NOT exist, trying to look and download\n"
     ]
    },
    {
     "name": "stderr",
     "output_type": "stream",
     "text": [
      "Started querying MAST for observations within 0.0001 arcsec arcsec of objectname='TIC460356719'.\n",
      "MAST found 0 observations. Now querying MAST for the corresponding data products.\n",
      "No data found for target \"TIC460356719\".\n"
     ]
    },
    {
     "name": "stdout",
     "output_type": "stream",
     "text": [
      "** WARNING: no results found for J15013+055 star\n",
      "../data/CARMENES_GTO_TESS_lc/lightcurves/J14544+355/J14544+355_TESS_TIC284700100_S23.fits filename DOES exist\n"
     ]
    },
    {
     "name": "stderr",
     "output_type": "stream",
     "text": [
      "Started querying MAST for observations with the exact target_name='229550884'.\n",
      "No observations found. Now performing a cone search instead.\n",
      "Started querying MAST for observations within 0.0001 arcsec arcsec of objectname='TIC229550884'.\n"
     ]
    },
    {
     "name": "stdout",
     "output_type": "stream",
     "text": [
      "nan filename DOES NOT exist, trying to look and download\n"
     ]
    },
    {
     "name": "stderr",
     "output_type": "stream",
     "text": [
      "MAST found 0 observations. Now querying MAST for the corresponding data products.\n",
      "No data found for target \"TIC229550884\".\n"
     ]
    },
    {
     "name": "stdout",
     "output_type": "stream",
     "text": [
      "** WARNING: no results found for J14524+123 star\n"
     ]
    },
    {
     "name": "stderr",
     "output_type": "stream",
     "text": [
      "Started querying MAST for observations with the exact target_name='294401924'.\n",
      "No observations found. Now performing a cone search instead.\n",
      "Started querying MAST for observations within 0.0001 arcsec arcsec of objectname='TIC294401924'.\n"
     ]
    },
    {
     "name": "stdout",
     "output_type": "stream",
     "text": [
      "nan filename DOES NOT exist, trying to look and download\n"
     ]
    },
    {
     "name": "stderr",
     "output_type": "stream",
     "text": [
      "MAST found 0 observations. Now querying MAST for the corresponding data products.\n",
      "No data found for target \"TIC294401924\".\n"
     ]
    },
    {
     "name": "stdout",
     "output_type": "stream",
     "text": [
      "** WARNING: no results found for J14342-125 star\n"
     ]
    },
    {
     "name": "stderr",
     "output_type": "stream",
     "text": [
      "Started querying MAST for observations with the exact target_name='349568452'.\n",
      "No observations found. Now performing a cone search instead.\n",
      "Started querying MAST for observations within 0.0001 arcsec arcsec of objectname='TIC349568452'.\n"
     ]
    },
    {
     "name": "stdout",
     "output_type": "stream",
     "text": [
      "nan filename DOES NOT exist, trying to look and download\n"
     ]
    },
    {
     "name": "stderr",
     "output_type": "stream",
     "text": [
      "MAST found 0 observations. Now querying MAST for the corresponding data products.\n",
      "No data found for target \"TIC349568452\".\n"
     ]
    },
    {
     "name": "stdout",
     "output_type": "stream",
     "text": [
      "** WARNING: no results found for J14321+081 star\n"
     ]
    },
    {
     "name": "stderr",
     "output_type": "stream",
     "text": [
      "Started querying MAST for observations with the exact target_name='297175954'.\n",
      "No observations found. Now performing a cone search instead.\n"
     ]
    },
    {
     "name": "stdout",
     "output_type": "stream",
     "text": [
      "nan filename DOES NOT exist, trying to look and download\n"
     ]
    },
    {
     "name": "stderr",
     "output_type": "stream",
     "text": [
      "Started querying MAST for observations within 0.0001 arcsec arcsec of objectname='TIC297175954'.\n",
      "MAST found 0 observations. Now querying MAST for the corresponding data products.\n",
      "No data found for target \"TIC297175954\".\n"
     ]
    },
    {
     "name": "stdout",
     "output_type": "stream",
     "text": [
      "** WARNING: no results found for J14310-122 star\n"
     ]
    },
    {
     "name": "stderr",
     "output_type": "stream",
     "text": [
      "Started querying MAST for observations with the exact target_name='023741668'.\n",
      "No observations found. Now performing a cone search instead.\n"
     ]
    },
    {
     "name": "stdout",
     "output_type": "stream",
     "text": [
      "nan filename DOES NOT exist, trying to look and download\n"
     ]
    },
    {
     "name": "stderr",
     "output_type": "stream",
     "text": [
      "Started querying MAST for observations within 0.0001 arcsec arcsec of objectname='TIC23741668'.\n",
      "MAST found 0 observations. Now querying MAST for the corresponding data products.\n",
      "No data found for target \"TIC23741668\".\n"
     ]
    },
    {
     "name": "stdout",
     "output_type": "stream",
     "text": [
      "** WARNING: no results found for J14307-086 star\n"
     ]
    },
    {
     "name": "stderr",
     "output_type": "stream",
     "text": [
      "Started querying MAST for observations with the exact target_name='450352108'.\n",
      "MAST found 2 observations. Now querying MAST for the corresponding data products.\n"
     ]
    },
    {
     "name": "stdout",
     "output_type": "stream",
     "text": [
      "nan filename DOES NOT exist, trying to look and download\n"
     ]
    },
    {
     "name": "stderr",
     "output_type": "stream",
     "text": [
      "MAST found 0 matching data products.\n"
     ]
    },
    {
     "name": "stdout",
     "output_type": "stream",
     "text": [
      "** WARNING: no results found for J14294+155 star\n",
      "../data/CARMENES_GTO_TESS_lc/lightcurves/J14257+236W/J14257+236W_TESS_TIC298434280_S23.fits filename DOES exist\n",
      "../data/CARMENES_GTO_TESS_lc/lightcurves/J14257+236E/J14257+236E_TESS_TIC298434278_S23.fits filename DOES exist\n",
      "../data/CARMENES_GTO_TESS_lc/lightcurves/J14251+518/J14251+518_TESS_TIC441709023_S16.fits filename DOES exist\n",
      "../data/CARMENES_GTO_TESS_lc/lightcurves/J14173+454/J14173+454_TESS_TIC168747450_S16.fits filename DOES exist\n"
     ]
    },
    {
     "name": "stderr",
     "output_type": "stream",
     "text": [
      "Started querying MAST for observations with the exact target_name='446416116'.\n",
      "MAST found 2 observations. Now querying MAST for the corresponding data products.\n"
     ]
    },
    {
     "name": "stdout",
     "output_type": "stream",
     "text": [
      "nan filename DOES NOT exist, trying to look and download\n"
     ]
    },
    {
     "name": "stderr",
     "output_type": "stream",
     "text": [
      "MAST found 0 matching data products.\n"
     ]
    },
    {
     "name": "stdout",
     "output_type": "stream",
     "text": [
      "** WARNING: no results found for J14155+046 star\n",
      "../data/CARMENES_GTO_TESS_lc/lightcurves/J14152+450/J14152+450_TESS_TIC168707044_S16.fits filename DOES exist\n",
      "../data/CARMENES_GTO_TESS_lc/lightcurves/J14082+805/J14082+805_TESS_TIC310000679_S14.fits filename DOES exist\n"
     ]
    },
    {
     "name": "stderr",
     "output_type": "stream",
     "text": [
      "Started querying MAST for observations with the exact target_name='119147875'.\n",
      "MAST found 2 observations. Now querying MAST for the corresponding data products.\n"
     ]
    },
    {
     "name": "stdout",
     "output_type": "stream",
     "text": [
      "nan filename DOES NOT exist, trying to look and download\n"
     ]
    },
    {
     "name": "stderr",
     "output_type": "stream",
     "text": [
      "MAST found 0 matching data products.\n"
     ]
    },
    {
     "name": "stdout",
     "output_type": "stream",
     "text": [
      "** WARNING: no results found for J14010-026 star\n",
      "../data/CARMENES_GTO_TESS_lc/lightcurves/J13591-198/J13591-198_TESS_TIC125421413_S11.fits filename DOES exist\n",
      "../data/CARMENES_GTO_TESS_lc/lightcurves/J13582+125/J13582+125_TESS_TIC387009593_S23.fits filename DOES exist\n",
      "../data/CARMENES_GTO_TESS_lc/lightcurves/J13536+776/J13536+776_TESS_TIC219463771_S14.fits filename DOES exist\n",
      "../data/CARMENES_GTO_TESS_lc/lightcurves/J13458-179/J13458-179_TESS_TIC286942673_S37.fits filename DOES exist\n",
      "../data/CARMENES_GTO_TESS_lc/lightcurves/J13457+148/J13457+148_TESS_TIC72465347_S23.fits filename DOES exist\n",
      "../data/CARMENES_GTO_TESS_lc/lightcurves/J13450+176/J13450+176_TESS_TIC72464819_S23.fits filename DOES exist\n",
      "../data/CARMENES_GTO_TESS_lc/lightcurves/J13427+332/J13427+332_TESS_TIC173095595_S23.fits filename DOES exist\n",
      "../data/CARMENES_GTO_TESS_lc/lightcurves/J13299+102/J13299+102_TESS_TIC404519959_S23.fits filename DOES exist\n",
      "../data/CARMENES_GTO_TESS_lc/lightcurves/J13293+114/J13293+114_TESS_TIC404510606_S23.fits filename DOES exist\n",
      "../data/CARMENES_GTO_TESS_lc/lightcurves/J13283-023W/J13283-023W_TESS_TIC115070878_S23.fits filename DOES exist\n",
      "../data/CARMENES_GTO_TESS_lc/lightcurves/J13255+688/J13255+688_TESS_TIC153951307_S14.fits filename DOES exist\n",
      "../data/CARMENES_GTO_TESS_lc/lightcurves/J13229+244/J13229+244_TESS_TIC459826435_S23.fits filename DOES exist\n",
      "../data/CARMENES_GTO_TESS_lc/lightcurves/J13209+342/J13209+342_TESS_TIC43133318_S23.fits filename DOES exist\n",
      "../data/CARMENES_GTO_TESS_lc/lightcurves/J13196+333/J13196+333_TESS_TIC105618383_S23.fits filename DOES exist\n",
      "../data/CARMENES_GTO_TESS_lc/lightcurves/J13119+658/J13119+658_TESS_TIC467179528_S14.fits filename DOES exist\n",
      "../data/CARMENES_GTO_TESS_lc/lightcurves/J13102+477/J13102+477_TESS_TIC137025855_S15.fits filename DOES exist\n",
      "../data/CARMENES_GTO_TESS_lc/lightcurves/J13005+056/J13005+056_TESS_TIC411248800_S23.fits filename DOES exist\n",
      "../data/CARMENES_GTO_TESS_lc/lightcurves/J12479+097/J12479+097_TESS_TIC390651552_S23.fits filename DOES exist\n"
     ]
    },
    {
     "name": "stderr",
     "output_type": "stream",
     "text": [
      "Started querying MAST for observations with the exact target_name='115920948'.\n",
      "No observations found. Now performing a cone search instead.\n",
      "Started querying MAST for observations within 0.0001 arcsec arcsec of objectname='TIC115920948'.\n"
     ]
    },
    {
     "name": "stdout",
     "output_type": "stream",
     "text": [
      "nan filename DOES NOT exist, trying to look and download\n"
     ]
    },
    {
     "name": "stderr",
     "output_type": "stream",
     "text": [
      "MAST found 0 observations. Now querying MAST for the corresponding data products.\n",
      "No data found for target \"TIC115920948\".\n"
     ]
    },
    {
     "name": "stdout",
     "output_type": "stream",
     "text": [
      "** WARNING: no results found for J12428+418 star\n",
      "../data/CARMENES_GTO_TESS_lc/lightcurves/J12388+116/J12388+116_TESS_TIC399119319_S23.fits filename DOES exist\n",
      "../data/CARMENES_GTO_TESS_lc/lightcurves/J12373-208/J12373-208_TESS_TIC434508218_S10.fits filename DOES exist\n",
      "../data/CARMENES_GTO_TESS_lc/lightcurves/J12350+098/J12350+098_TESS_TIC399089737_S23.fits filename DOES exist\n",
      "../data/CARMENES_GTO_TESS_lc/lightcurves/J12312+086/J12312+086_TESS_TIC399057352_S23.fits filename DOES exist\n",
      "../data/CARMENES_GTO_TESS_lc/lightcurves/J12248-182/J12248-182_TESS_TIC22395594_S10.fits filename DOES exist\n",
      "../data/CARMENES_GTO_TESS_lc/lightcurves/J12230+640/J12230+640_TESS_TIC147670988_S14.fits filename DOES exist\n"
     ]
    },
    {
     "name": "stderr",
     "output_type": "stream",
     "text": [
      "Started querying MAST for observations with the exact target_name='389356212'.\n",
      "MAST found 2 observations. Now querying MAST for the corresponding data products.\n"
     ]
    },
    {
     "name": "stdout",
     "output_type": "stream",
     "text": [
      "nan filename DOES NOT exist, trying to look and download\n"
     ]
    },
    {
     "name": "stderr",
     "output_type": "stream",
     "text": [
      "MAST found 0 matching data products.\n"
     ]
    },
    {
     "name": "stdout",
     "output_type": "stream",
     "text": [
      "** WARNING: no results found for J12189+111 star\n",
      "../data/CARMENES_GTO_TESS_lc/lightcurves/J12156+526/J12156+526_TESS_TIC416538839_S22.fits filename DOES exist\n",
      "../data/CARMENES_GTO_TESS_lc/lightcurves/J12123+544S/J12123+544S_TESS_TIC224289449_S15.fits filename DOES exist\n",
      "../data/CARMENES_GTO_TESS_lc/lightcurves/J12111-199/J12111-199_TESS_TIC422382572_S10.fits filename DOES exist\n",
      "../data/CARMENES_GTO_TESS_lc/lightcurves/J12100-150/J12100-150_TESS_TIC347694620_S10.fits filename DOES exist\n",
      "../data/CARMENES_GTO_TESS_lc/lightcurves/J12054+695/J12054+695_TESS_TIC142963210_S14.fits filename DOES exist\n",
      "../data/CARMENES_GTO_TESS_lc/lightcurves/J11511+352/J11511+352_TESS_TIC144400022_S22.fits filename DOES exist\n",
      "../data/CARMENES_GTO_TESS_lc/lightcurves/J11509+483/J11509+483_TESS_TIC11893637_S22.fits filename DOES exist\n"
     ]
    },
    {
     "name": "stderr",
     "output_type": "stream",
     "text": [
      "Started querying MAST for observations with the exact target_name='325275315'.\n",
      "MAST found 2 observations. Now querying MAST for the corresponding data products.\n"
     ]
    },
    {
     "name": "stdout",
     "output_type": "stream",
     "text": [
      "nan filename DOES NOT exist, trying to look and download\n"
     ]
    },
    {
     "name": "stderr",
     "output_type": "stream",
     "text": [
      "MAST found 0 matching data products.\n"
     ]
    },
    {
     "name": "stdout",
     "output_type": "stream",
     "text": [
      "** WARNING: no results found for J11477+008 star\n",
      "../data/CARMENES_GTO_TESS_lc/lightcurves/J11476+786/J11476+786_TESS_TIC358615829_S14.fits filename DOES exist\n"
     ]
    },
    {
     "name": "stderr",
     "output_type": "stream",
     "text": [
      "Started querying MAST for observations with the exact target_name='325273691'.\n",
      "MAST found 1 observations. Now querying MAST for the corresponding data products.\n"
     ]
    },
    {
     "name": "stdout",
     "output_type": "stream",
     "text": [
      "nan filename DOES NOT exist, trying to look and download\n"
     ]
    },
    {
     "name": "stderr",
     "output_type": "stream",
     "text": [
      "MAST found 0 matching data products.\n"
     ]
    },
    {
     "name": "stdout",
     "output_type": "stream",
     "text": [
      "** WARNING: no results found for J11476+002 star\n",
      "../data/CARMENES_GTO_TESS_lc/lightcurves/J11474+667/J11474+667_TESS_TIC142878895_S14.fits filename DOES exist\n",
      "../data/CARMENES_GTO_TESS_lc/lightcurves/J11467-140/J11467-140_TESS_TIC386627655_S09.fits filename DOES exist\n",
      "../data/CARMENES_GTO_TESS_lc/lightcurves/J11423+230/J11423+230_TESS_TIC119584412_S22.fits filename DOES exist\n",
      "../data/CARMENES_GTO_TESS_lc/lightcurves/J11421+267/J11421+267_TESS_TIC138819293_S22.fits filename DOES exist\n",
      "../data/CARMENES_GTO_TESS_lc/lightcurves/J11417+427/J11417+427_TESS_TIC115869504_S22.fits filename DOES exist\n",
      "../data/CARMENES_GTO_TESS_lc/lightcurves/J11306-080/J11306-080_TESS_TIC285972083_S09.fits filename DOES exist\n"
     ]
    },
    {
     "name": "stderr",
     "output_type": "stream",
     "text": [
      "Started querying MAST for observations with the exact target_name='388804061'.\n",
      "MAST found 3 observations. Now querying MAST for the corresponding data products.\n"
     ]
    },
    {
     "name": "stdout",
     "output_type": "stream",
     "text": [
      "nan filename DOES NOT exist, trying to look and download\n"
     ]
    },
    {
     "name": "stderr",
     "output_type": "stream",
     "text": [
      "MAST found 0 matching data products.\n"
     ]
    },
    {
     "name": "stdout",
     "output_type": "stream",
     "text": [
      "** WARNING: no results found for J11302+076 star\n",
      "../data/CARMENES_GTO_TESS_lc/lightcurves/J11289+101/J11289+101_TESS_TIC388802555_S22.fits filename DOES exist\n",
      "../data/CARMENES_GTO_TESS_lc/lightcurves/J11201-104/J11201-104_TESS_TIC453465810_S09.fits filename DOES exist\n",
      "../data/CARMENES_GTO_TESS_lc/lightcurves/J11126+189/J11126+189_TESS_TIC356668126_S22.fits filename DOES exist\n",
      "../data/CARMENES_GTO_TESS_lc/lightcurves/J11110+304W/J11110+304W_TESS_TIC9001924_S22.fits filename DOES exist\n",
      "../data/CARMENES_GTO_TESS_lc/lightcurves/J11110+304E/J11110+304E_TESS_TIC9001920_S22.fits filename DOES exist\n"
     ]
    },
    {
     "name": "stderr",
     "output_type": "stream",
     "text": [
      "Started querying MAST for observations with the exact target_name='252803606'.\n",
      "MAST found 1 observations. Now querying MAST for the corresponding data products.\n"
     ]
    },
    {
     "name": "stdout",
     "output_type": "stream",
     "text": [
      "nan filename DOES NOT exist, trying to look and download\n"
     ]
    },
    {
     "name": "stderr",
     "output_type": "stream",
     "text": [
      "MAST found 1 matching data products.\n",
      "File found in local cache.\n"
     ]
    },
    {
     "name": "stdout",
     "output_type": "stream",
     "text": [
      "*** SOME ERROR happened. Error = object has no attribute centroid_col\n",
      "../data/CARMENES_GTO_TESS_lc/lightcurves/J11054+435/J11054+435_TESS_TIC252803603_S21.fits filename DOES exist\n",
      "../data/CARMENES_GTO_TESS_lc/lightcurves/J11044+304/J11044+304_TESS_TIC166648874_S22.fits filename DOES exist\n",
      "../data/CARMENES_GTO_TESS_lc/lightcurves/J11033+359/J11033+359_TESS_TIC166646191_S22.fits filename DOES exist\n",
      "../data/CARMENES_GTO_TESS_lc/lightcurves/J11026+219/J11026+219_TESS_TIC97488127_S22.fits filename DOES exist\n",
      "../data/CARMENES_GTO_TESS_lc/lightcurves/J11000+228/J11000+228_TESS_TIC97472519_S22.fits filename DOES exist\n",
      "../data/CARMENES_GTO_TESS_lc/lightcurves/J10584-107/J10584-107_TESS_TIC148563078_S09.fits filename DOES exist\n"
     ]
    },
    {
     "name": "stderr",
     "output_type": "stream",
     "text": [
      "Started querying MAST for observations with the exact target_name='365006789'.\n",
      "MAST found 5 observations. Now querying MAST for the corresponding data products.\n"
     ]
    },
    {
     "name": "stdout",
     "output_type": "stream",
     "text": [
      "nan filename DOES NOT exist, trying to look and download\n"
     ]
    },
    {
     "name": "stderr",
     "output_type": "stream",
     "text": [
      "MAST found 0 matching data products.\n"
     ]
    },
    {
     "name": "stdout",
     "output_type": "stream",
     "text": [
      "** WARNING: no results found for J10564+070 star\n"
     ]
    },
    {
     "name": "stderr",
     "output_type": "stream",
     "text": [
      "Started querying MAST for observations with the exact target_name='393584005'.\n",
      "MAST found 4 observations. Now querying MAST for the corresponding data products.\n"
     ]
    },
    {
     "name": "stdout",
     "output_type": "stream",
     "text": [
      "nan filename DOES NOT exist, trying to look and download\n"
     ]
    },
    {
     "name": "stderr",
     "output_type": "stream",
     "text": [
      "MAST found 0 matching data products.\n"
     ]
    },
    {
     "name": "stdout",
     "output_type": "stream",
     "text": [
      "** WARNING: no results found for J10508+068 star\n"
     ]
    },
    {
     "name": "stderr",
     "output_type": "stream",
     "text": [
      "Started querying MAST for observations with the exact target_name='165654322'.\n",
      "MAST found 2 observations. Now querying MAST for the corresponding data products.\n"
     ]
    },
    {
     "name": "stdout",
     "output_type": "stream",
     "text": [
      "nan filename DOES NOT exist, trying to look and download\n"
     ]
    },
    {
     "name": "stderr",
     "output_type": "stream",
     "text": [
      "MAST found 0 matching data products.\n"
     ]
    },
    {
     "name": "stdout",
     "output_type": "stream",
     "text": [
      "** WARNING: no results found for J10504+331 star\n",
      "../data/CARMENES_GTO_TESS_lc/lightcurves/J10482-113/J10482-113_TESS_TIC471015913_S09.fits filename DOES exist\n",
      "../data/CARMENES_GTO_TESS_lc/lightcurves/J10416+376/J10416+376_TESS_TIC17299996_S21.fits filename DOES exist\n",
      "../data/CARMENES_GTO_TESS_lc/lightcurves/J10396-069/J10396-069_TESS_TIC54959262_S09.fits filename DOES exist\n"
     ]
    },
    {
     "name": "stderr",
     "output_type": "stream",
     "text": [
      "Started querying MAST for observations with the exact target_name='374267666'.\n"
     ]
    },
    {
     "name": "stdout",
     "output_type": "stream",
     "text": [
      "nan filename DOES NOT exist, trying to look and download\n"
     ]
    },
    {
     "name": "stderr",
     "output_type": "stream",
     "text": [
      "MAST found 5 observations. Now querying MAST for the corresponding data products.\n",
      "MAST found 0 matching data products.\n"
     ]
    },
    {
     "name": "stdout",
     "output_type": "stream",
     "text": [
      "** WARNING: no results found for J10360+051 star\n",
      "../data/CARMENES_GTO_TESS_lc/lightcurves/J10354+694/J10354+694_TESS_TIC103803629_S14.fits filename DOES exist\n",
      "../data/CARMENES_GTO_TESS_lc/lightcurves/J10350-094/J10350-094_TESS_TIC56665956_S09.fits filename DOES exist\n",
      "../data/CARMENES_GTO_TESS_lc/lightcurves/J10289+008/J10289+008_TESS_TIC277888583_S35.fits filename DOES exist\n",
      "../data/CARMENES_GTO_TESS_lc/lightcurves/J10251-102/J10251-102_TESS_TIC36879392_S09.fits filename DOES exist\n",
      "../data/CARMENES_GTO_TESS_lc/lightcurves/J10238+438/J10238+438_TESS_TIC392365135_S21.fits filename DOES exist\n"
     ]
    },
    {
     "name": "stderr",
     "output_type": "stream",
     "text": [
      "Started querying MAST for observations with the exact target_name='095431305'.\n",
      "No observations found. Now performing a cone search instead.\n",
      "Started querying MAST for observations within 0.0001 arcsec arcsec of objectname='TIC95431305'.\n"
     ]
    },
    {
     "name": "stdout",
     "output_type": "stream",
     "text": [
      "nan filename DOES NOT exist, trying to look and download\n"
     ]
    },
    {
     "name": "stderr",
     "output_type": "stream",
     "text": [
      "MAST found 7 observations. Now querying MAST for the corresponding data products.\n",
      "MAST found 0 matching data products.\n"
     ]
    },
    {
     "name": "stdout",
     "output_type": "stream",
     "text": [
      "** WARNING: no results found for J10196+198 star\n",
      "../data/CARMENES_GTO_TESS_lc/lightcurves/J10185-117/J10185-117_TESS_TIC36724087_S09.fits filename DOES exist\n",
      "../data/CARMENES_GTO_TESS_lc/lightcurves/J10182-204/J10182-204_TESS_TIC192543856_S09.fits filename DOES exist\n",
      "../data/CARMENES_GTO_TESS_lc/lightcurves/J10167-119/J10167-119_TESS_TIC385194991_S09.fits filename DOES exist\n",
      "../data/CARMENES_GTO_TESS_lc/lightcurves/J10125+570/J10125+570_TESS_TIC137958028_S21.fits filename DOES exist\n",
      "../data/CARMENES_GTO_TESS_lc/lightcurves/J10122-037/J10122-037_TESS_TIC77612635_S08.fits filename DOES exist\n",
      "../data/CARMENES_GTO_TESS_lc/lightcurves/J10088+692/J10088+692_TESS_TIC103633434_S14.fits filename DOES exist\n",
      "../data/CARMENES_GTO_TESS_lc/lightcurves/J10023+480/J10023+480_TESS_TIC252470070_S21.fits filename DOES exist\n",
      "../data/CARMENES_GTO_TESS_lc/lightcurves/J09597+472/J09597+472_TESS_TIC157835914_S21.fits filename DOES exist\n",
      "../data/CARMENES_GTO_TESS_lc/lightcurves/J09561+627/J09561+627_TESS_TIC287165117_S21.fits filename DOES exist\n",
      "../data/CARMENES_GTO_TESS_lc/lightcurves/J09511-123/J09511-123_TESS_TIC396810588_S08.fits filename DOES exist\n",
      "../data/CARMENES_GTO_TESS_lc/lightcurves/J09468+760/J09468+760_TESS_TIC219431676_S14.fits filename DOES exist\n",
      "../data/CARMENES_GTO_TESS_lc/lightcurves/J09449-123/J09449-123_TESS_TIC289706625_S08.fits filename DOES exist\n",
      "../data/CARMENES_GTO_TESS_lc/lightcurves/J09447-182/J09447-182_TESS_TIC418096656_S08.fits filename DOES exist\n",
      "../data/CARMENES_GTO_TESS_lc/lightcurves/J09439+269/J09439+269_TESS_TIC233635503_S21.fits filename DOES exist\n",
      "../data/CARMENES_GTO_TESS_lc/lightcurves/J09428+700/J09428+700_TESS_TIC142439883_S14.fits filename DOES exist\n",
      "../data/CARMENES_GTO_TESS_lc/lightcurves/J09425+700/J09425+700_TESS_TIC142439879_S14.fits filename DOES exist\n",
      "../data/CARMENES_GTO_TESS_lc/lightcurves/J09423+559/J09423+559_TESS_TIC328629163_S21.fits filename DOES exist\n"
     ]
    },
    {
     "name": "stderr",
     "output_type": "stream",
     "text": [
      "Started querying MAST for observations with the exact target_name='307646256'.\n",
      "MAST found 4 observations. Now querying MAST for the corresponding data products.\n"
     ]
    },
    {
     "name": "stdout",
     "output_type": "stream",
     "text": [
      "nan filename DOES NOT exist, trying to look and download\n"
     ]
    },
    {
     "name": "stderr",
     "output_type": "stream",
     "text": [
      "MAST found 0 matching data products.\n"
     ]
    },
    {
     "name": "stdout",
     "output_type": "stream",
     "text": [
      "** WARNING: no results found for J09411+132 star\n",
      "../data/CARMENES_GTO_TESS_lc/lightcurves/J09360-216/J09360-216_TESS_TIC413248763_S08.fits filename DOES exist\n",
      "../data/CARMENES_GTO_TESS_lc/lightcurves/J09307+003/J09307+003_TESS_TIC383218397_S08.fits filename DOES exist\n",
      "../data/CARMENES_GTO_TESS_lc/lightcurves/J09286-121/J09286-121_TESS_TIC296739893_S35.fits filename DOES exist\n",
      "../data/CARMENES_GTO_TESS_lc/lightcurves/J09163-186/J09163-186_TESS_TIC5362024_S08.fits filename DOES exist\n",
      "../data/CARMENES_GTO_TESS_lc/lightcurves/J09161+018/J09161+018_TESS_TIC290474796_S08.fits filename DOES exist\n",
      "../data/CARMENES_GTO_TESS_lc/lightcurves/J09144+526/J09144+526_TESS_TIC251078597_S21.fits filename DOES exist\n",
      "../data/CARMENES_GTO_TESS_lc/lightcurves/J09143+526/J09143+526_TESS_TIC251078595_S21.fits filename DOES exist\n"
     ]
    },
    {
     "name": "stderr",
     "output_type": "stream",
     "text": [
      "Started querying MAST for observations with the exact target_name='085993728'.\n",
      "No observations found. Now performing a cone search instead.\n",
      "Started querying MAST for observations within 0.0001 arcsec arcsec of objectname='TIC85993728'.\n"
     ]
    },
    {
     "name": "stdout",
     "output_type": "stream",
     "text": [
      "nan filename DOES NOT exist, trying to look and download\n"
     ]
    },
    {
     "name": "stderr",
     "output_type": "stream",
     "text": [
      "MAST found 3 observations. Now querying MAST for the corresponding data products.\n",
      "MAST found 0 matching data products.\n"
     ]
    },
    {
     "name": "stdout",
     "output_type": "stream",
     "text": [
      "** WARNING: no results found for J09140+196 star\n"
     ]
    },
    {
     "name": "stderr",
     "output_type": "stream",
     "text": [
      "Started querying MAST for observations with the exact target_name='802602073'.\n",
      "MAST found 2 observations. Now querying MAST for the corresponding data products.\n"
     ]
    },
    {
     "name": "stdout",
     "output_type": "stream",
     "text": [
      "nan filename DOES NOT exist, trying to look and download\n"
     ]
    },
    {
     "name": "stderr",
     "output_type": "stream",
     "text": [
      "MAST found 2 matching data products.\n",
      "File found in local cache.\n"
     ]
    },
    {
     "name": "stdout",
     "output_type": "stream",
     "text": [
      "*** SOME ERROR happened. Error = object has no attribute centroid_col\n",
      "../data/CARMENES_GTO_TESS_lc/lightcurves/J09033+056/J09033+056_TESS_TIC270511002_S08.fits filename DOES exist\n",
      "../data/CARMENES_GTO_TESS_lc/lightcurves/J09028+680/J09028+680_TESS_TIC219704346_S14.fits filename DOES exist\n",
      "../data/CARMENES_GTO_TESS_lc/lightcurves/J09005+465/J09005+465_TESS_TIC29168887_S21.fits filename DOES exist\n"
     ]
    },
    {
     "name": "stderr",
     "output_type": "stream",
     "text": [
      "Started querying MAST for observations with the exact target_name='203225829'.\n"
     ]
    },
    {
     "name": "stdout",
     "output_type": "stream",
     "text": [
      "nan filename DOES NOT exist, trying to look and download\n"
     ]
    },
    {
     "name": "stderr",
     "output_type": "stream",
     "text": [
      "MAST found 7 observations. Now querying MAST for the corresponding data products.\n",
      "MAST found 0 matching data products.\n"
     ]
    },
    {
     "name": "stdout",
     "output_type": "stream",
     "text": [
      "** WARNING: no results found for J09003+218 star\n",
      "../data/CARMENES_GTO_TESS_lc/lightcurves/J08599+729/J08599+729_TESS_TIC207339173_S14.fits filename DOES exist\n",
      "../data/CARMENES_GTO_TESS_lc/lightcurves/J08536-034/J08536-034_TESS_TIC7975441_S08.fits filename DOES exist\n",
      "../data/CARMENES_GTO_TESS_lc/lightcurves/J08526+283/J08526+283_TESS_TIC332064684_S21.fits filename DOES exist\n",
      "../data/CARMENES_GTO_TESS_lc/lightcurves/J08413+594/J08413+594_TESS_TIC445064836_S20.fits filename DOES exist\n",
      "../data/CARMENES_GTO_TESS_lc/lightcurves/J08409-234/J08409-234_TESS_TIC118608254_S08.fits filename DOES exist\n",
      "../data/CARMENES_GTO_TESS_lc/lightcurves/J08402+314/J08402+314_TESS_TIC341526939_S21.fits filename DOES exist\n",
      "../data/CARMENES_GTO_TESS_lc/lightcurves/J08358+680/J08358+680_TESS_TIC102885744_S20.fits filename DOES exist\n",
      "../data/CARMENES_GTO_TESS_lc/lightcurves/J08315+730/J08315+730_TESS_TIC312885008_S20.fits filename DOES exist\n",
      "../data/CARMENES_GTO_TESS_lc/lightcurves/J08298+267/J08298+267_TESS_TIC3664898_S21.fits filename DOES exist\n",
      "../data/CARMENES_GTO_TESS_lc/lightcurves/J08293+039/J08293+039_TESS_TIC265130794_S07.fits filename DOES exist\n"
     ]
    },
    {
     "name": "stderr",
     "output_type": "stream",
     "text": [
      "Started querying MAST for observations with the exact target_name='455139555'.\n",
      "No observations found. Now performing a cone search instead.\n",
      "Started querying MAST for observations within 0.0001 arcsec arcsec of objectname='TIC455139555'.\n"
     ]
    },
    {
     "name": "stdout",
     "output_type": "stream",
     "text": [
      "nan filename DOES NOT exist, trying to look and download\n"
     ]
    },
    {
     "name": "stderr",
     "output_type": "stream",
     "text": [
      "MAST found 0 observations. Now querying MAST for the corresponding data products.\n",
      "No data found for target \"TIC455139555\".\n"
     ]
    },
    {
     "name": "stdout",
     "output_type": "stream",
     "text": [
      "** WARNING: no results found for J08161+013 star\n",
      "../data/CARMENES_GTO_TESS_lc/lightcurves/J08126-215/J08126-215_TESS_TIC437127546_S07.fits filename DOES exist\n",
      "../data/CARMENES_GTO_TESS_lc/lightcurves/J08119+087/J08119+087_TESS_TIC334415465_S07.fits filename DOES exist\n",
      "../data/CARMENES_GTO_TESS_lc/lightcurves/J08023+033/J08023+033_TESS_TIC452866790_S07.fits filename DOES exist\n"
     ]
    },
    {
     "name": "stderr",
     "output_type": "stream",
     "text": [
      "Started querying MAST for observations with the exact target_name='019028197'.\n",
      "No observations found. Now performing a cone search instead.\n",
      "Started querying MAST for observations within 0.0001 arcsec arcsec of objectname='TIC19028197'.\n"
     ]
    },
    {
     "name": "stdout",
     "output_type": "stream",
     "text": [
      "nan filename DOES NOT exist, trying to look and download\n"
     ]
    },
    {
     "name": "stderr",
     "output_type": "stream",
     "text": [
      "MAST found 7 observations. Now querying MAST for the corresponding data products.\n",
      "MAST found 0 matching data products.\n"
     ]
    },
    {
     "name": "stdout",
     "output_type": "stream",
     "text": [
      "** WARNING: no results found for J07590+153 star\n",
      "../data/CARMENES_GTO_TESS_lc/lightcurves/J07582+413/J07582+413_TESS_TIC371272665_S20.fits filename DOES exist\n",
      "../data/CARMENES_GTO_TESS_lc/lightcurves/J07558+833/J07558+833_TESS_TIC289972535_S19.fits filename DOES exist\n",
      "../data/CARMENES_GTO_TESS_lc/lightcurves/J07472+503/J07472+503_TESS_TIC309661100_S20.fits filename DOES exist\n",
      "../data/CARMENES_GTO_TESS_lc/lightcurves/J07446+035/J07446+035_TESS_TIC266744225_S07.fits filename DOES exist\n",
      "../data/CARMENES_GTO_TESS_lc/lightcurves/J07403-174/J07403-174_TESS_TIC289113766_S07.fits filename DOES exist\n",
      "../data/CARMENES_GTO_TESS_lc/lightcurves/J07393+021/J07393+021_TESS_TIC280313260_S07.fits filename DOES exist\n"
     ]
    },
    {
     "name": "stderr",
     "output_type": "stream",
     "text": [
      "Started querying MAST for observations with the exact target_name='415085843'.\n",
      "No observations found. Now performing a cone search instead.\n",
      "Started querying MAST for observations within 0.0001 arcsec arcsec of objectname='TIC415085843'.\n"
     ]
    },
    {
     "name": "stdout",
     "output_type": "stream",
     "text": [
      "nan filename DOES NOT exist, trying to look and download\n"
     ]
    },
    {
     "name": "stderr",
     "output_type": "stream",
     "text": [
      "MAST found 0 observations. Now querying MAST for the corresponding data products.\n",
      "No data found for target \"TIC415085843\".\n"
     ]
    },
    {
     "name": "stdout",
     "output_type": "stream",
     "text": [
      "** WARNING: no results found for J07386-212 star\n",
      "../data/CARMENES_GTO_TESS_lc/lightcurves/J07361-031/J07361-031_TESS_TIC65673065_S07.fits filename DOES exist\n"
     ]
    },
    {
     "name": "stderr",
     "output_type": "stream",
     "text": [
      "Started querying MAST for observations with the exact target_name='355061271'.\n",
      "MAST found 1 observations. Now querying MAST for the corresponding data products.\n"
     ]
    },
    {
     "name": "stdout",
     "output_type": "stream",
     "text": [
      "nan filename DOES NOT exist, trying to look and download\n"
     ]
    },
    {
     "name": "stderr",
     "output_type": "stream",
     "text": [
      "MAST found 0 matching data products.\n"
     ]
    },
    {
     "name": "stdout",
     "output_type": "stream",
     "text": [
      "** WARNING: no results found for J07353+548 star\n",
      "../data/CARMENES_GTO_TESS_lc/lightcurves/J07319+362N/J07319+362N_TESS_TIC16034007_S20.fits filename DOES exist\n",
      "../data/CARMENES_GTO_TESS_lc/lightcurves/J07287-032/J07287-032_TESS_TIC64910894_S07.fits filename DOES exist\n",
      "../data/CARMENES_GTO_TESS_lc/lightcurves/J07274+052/J07274+052_TESS_TIC318686860_S07.fits filename DOES exist\n",
      "../data/CARMENES_GTO_TESS_lc/lightcurves/J07051-101/J07051-101_TESS_TIC177122224_S07.fits filename DOES exist\n",
      "../data/CARMENES_GTO_TESS_lc/lightcurves/J07044+682/J07044+682_TESS_TIC417758604_S20.fits filename DOES exist\n",
      "../data/CARMENES_GTO_TESS_lc/lightcurves/J07033+346/J07033+346_TESS_TIC165204611_S20.fits filename DOES exist\n",
      "../data/CARMENES_GTO_TESS_lc/lightcurves/J07001-190/J07001-190_TESS_TIC80033631_S06.fits filename DOES exist\n"
     ]
    },
    {
     "name": "stderr",
     "output_type": "stream",
     "text": [
      "Started querying MAST for observations with the exact target_name='058998044'.\n",
      "No observations found. Now performing a cone search instead.\n",
      "Started querying MAST for observations within 0.0001 arcsec arcsec of objectname='TIC58998044'.\n"
     ]
    },
    {
     "name": "stdout",
     "output_type": "stream",
     "text": [
      "nan filename DOES NOT exist, trying to look and download\n"
     ]
    },
    {
     "name": "stderr",
     "output_type": "stream",
     "text": [
      "MAST found 4 observations. Now querying MAST for the corresponding data products.\n",
      "MAST found 0 matching data products.\n"
     ]
    },
    {
     "name": "stdout",
     "output_type": "stream",
     "text": [
      "** WARNING: no results found for J06594+193 star\n",
      "../data/CARMENES_GTO_TESS_lc/lightcurves/J06574+740/J06574+740_TESS_TIC141476700_S19.fits filename DOES exist\n",
      "../data/CARMENES_GTO_TESS_lc/lightcurves/J06548+332/J06548+332_TESS_TIC68581262_S20.fits filename DOES exist\n",
      "../data/CARMENES_GTO_TESS_lc/lightcurves/J06421+035/J06421+035_TESS_TIC233975043_S06.fits filename DOES exist\n",
      "../data/CARMENES_GTO_TESS_lc/lightcurves/J06396-210/J06396-210_TESS_TIC48523939_S06.fits filename DOES exist\n"
     ]
    },
    {
     "name": "stderr",
     "output_type": "stream",
     "text": [
      "Started querying MAST for observations with the exact target_name='307809773'.\n",
      "MAST found 4 observations. Now querying MAST for the corresponding data products.\n"
     ]
    },
    {
     "name": "stdout",
     "output_type": "stream",
     "text": [
      "nan filename DOES NOT exist, trying to look and download\n"
     ]
    },
    {
     "name": "stderr",
     "output_type": "stream",
     "text": [
      "MAST found 0 matching data products.\n"
     ]
    },
    {
     "name": "stdout",
     "output_type": "stream",
     "text": [
      "** WARNING: no results found for J06371+175 star\n",
      "../data/CARMENES_GTO_TESS_lc/lightcurves/J06318+414/J06318+414_TESS_TIC144282456_S20.fits filename DOES exist\n"
     ]
    },
    {
     "name": "stderr",
     "output_type": "stream",
     "text": [
      "Started querying MAST for observations with the exact target_name='430044614'.\n",
      "MAST found 6 observations. Now querying MAST for the corresponding data products.\n"
     ]
    },
    {
     "name": "stdout",
     "output_type": "stream",
     "text": [
      "nan filename DOES NOT exist, trying to look and download\n"
     ]
    },
    {
     "name": "stderr",
     "output_type": "stream",
     "text": [
      "MAST found 0 matching data products.\n"
     ]
    },
    {
     "name": "stdout",
     "output_type": "stream",
     "text": [
      "** WARNING: no results found for J06246+234 star\n",
      "../data/CARMENES_GTO_TESS_lc/lightcurves/J06105-218/J06105-218_TESS_TIC124279525_S06.fits filename DOES exist\n",
      "../data/CARMENES_GTO_TESS_lc/lightcurves/J06103+821/J06103+821_TESS_TIC138421058_S19.fits filename DOES exist\n",
      "../data/CARMENES_GTO_TESS_lc/lightcurves/J06024+498/J06024+498_TESS_TIC467119250_S19.fits filename DOES exist\n",
      "../data/CARMENES_GTO_TESS_lc/lightcurves/J06011+595/J06011+595_TESS_TIC322347050_S19.fits filename DOES exist\n",
      "../data/CARMENES_GTO_TESS_lc/lightcurves/J06000+027/J06000+027_TESS_TIC282501711_S06.fits filename DOES exist\n"
     ]
    },
    {
     "name": "stderr",
     "output_type": "stream",
     "text": [
      "Started querying MAST for observations with the exact target_name='720817989'.\n",
      "No observations found. Now performing a cone search instead.\n",
      "Started querying MAST for observations within 0.0001 arcsec arcsec of objectname='TIC720817989'.\n"
     ]
    },
    {
     "name": "stdout",
     "output_type": "stream",
     "text": [
      "nan filename DOES NOT exist, trying to look and download\n"
     ]
    },
    {
     "name": "stderr",
     "output_type": "stream",
     "text": [
      "MAST found 0 observations. Now querying MAST for the corresponding data products.\n",
      "No data found for target \"TIC720817989\".\n"
     ]
    },
    {
     "name": "stdout",
     "output_type": "stream",
     "text": [
      "** WARNING: no results found for J05532+242 star\n",
      "../data/CARMENES_GTO_TESS_lc/lightcurves/J05421+124/J05421+124_TESS_TIC247463344_S06.fits filename DOES exist\n",
      "../data/CARMENES_GTO_TESS_lc/lightcurves/J05415+534/J05415+534_TESS_TIC311064351_S19.fits filename DOES exist\n",
      "../data/CARMENES_GTO_TESS_lc/lightcurves/J05394+406/J05394+406_TESS_TIC239097694_S19.fits filename DOES exist\n",
      "../data/CARMENES_GTO_TESS_lc/lightcurves/J05366+112/J05366+112_TESS_TIC436248798_S06.fits filename DOES exist\n",
      "../data/CARMENES_GTO_TESS_lc/lightcurves/J05365+113/J05365+113_TESS_TIC436248822_S06.fits filename DOES exist\n",
      "../data/CARMENES_GTO_TESS_lc/lightcurves/J05360-076/J05360-076_TESS_TIC388934726_S06.fits filename DOES exist\n",
      "../data/CARMENES_GTO_TESS_lc/lightcurves/J05348+138/J05348+138_TESS_TIC52373734_S06.fits filename DOES exist\n",
      "../data/CARMENES_GTO_TESS_lc/lightcurves/J05337+019/J05337+019_TESS_TIC220044948_S06.fits filename DOES exist\n",
      "../data/CARMENES_GTO_TESS_lc/lightcurves/J05314-036/J05314-036_TESS_TIC50726077_S06.fits filename DOES exist\n",
      "../data/CARMENES_GTO_TESS_lc/lightcurves/J05280+096/J05280+096_TESS_TIC365779699_S06.fits filename DOES exist\n"
     ]
    },
    {
     "name": "stderr",
     "output_type": "stream",
     "text": [
      "Started querying MAST for observations with the exact target_name='467611768'.\n",
      "MAST found 2 observations. Now querying MAST for the corresponding data products.\n"
     ]
    },
    {
     "name": "stdout",
     "output_type": "stream",
     "text": [
      "nan filename DOES NOT exist, trying to look and download\n"
     ]
    },
    {
     "name": "stderr",
     "output_type": "stream",
     "text": [
      "MAST found 0 matching data products.\n"
     ]
    },
    {
     "name": "stdout",
     "output_type": "stream",
     "text": [
      "** WARNING: no results found for J05127+196 star\n",
      "../data/CARMENES_GTO_TESS_lc/lightcurves/J05084-210/J05084-210_TESS_TIC146539195_S05.fits filename DOES exist\n",
      "../data/CARMENES_GTO_TESS_lc/lightcurves/J05062+046/J05062+046_TESS_TIC455029978_S05.fits filename DOES exist\n",
      "../data/CARMENES_GTO_TESS_lc/lightcurves/J05033-173/J05033-173_TESS_TIC169304560_S05.fits filename DOES exist\n",
      "../data/CARMENES_GTO_TESS_lc/lightcurves/J05019-069/J05019-069_TESS_TIC43605290_S05.fits filename DOES exist\n",
      "../data/CARMENES_GTO_TESS_lc/lightcurves/J05019+011/J05019+011_TESS_TIC269077806_S05.fits filename DOES exist\n",
      "../data/CARMENES_GTO_TESS_lc/lightcurves/J04588+498/J04588+498_TESS_TIC354432728_S19.fits filename DOES exist\n",
      "../data/CARMENES_GTO_TESS_lc/lightcurves/J04538-177/J04538-177_TESS_TIC246902275_S05.fits filename DOES exist\n",
      "../data/CARMENES_GTO_TESS_lc/lightcurves/J04520+064/J04520+064_TESS_TIC450102450_S05.fits filename DOES exist\n"
     ]
    },
    {
     "name": "stderr",
     "output_type": "stream",
     "text": [
      "Started querying MAST for observations with the exact target_name='238413768'.\n"
     ]
    },
    {
     "name": "stdout",
     "output_type": "stream",
     "text": [
      "nan filename DOES NOT exist, trying to look and download\n"
     ]
    },
    {
     "name": "stderr",
     "output_type": "stream",
     "text": [
      "MAST found 2 observations. Now querying MAST for the corresponding data products.\n",
      "MAST found 0 matching data products.\n"
     ]
    },
    {
     "name": "stdout",
     "output_type": "stream",
     "text": [
      "** WARNING: no results found for J04472+206 star\n"
     ]
    },
    {
     "name": "stderr",
     "output_type": "stream",
     "text": [
      "Started querying MAST for observations with the exact target_name='397356212'.\n",
      "MAST found 2 observations. Now querying MAST for the corresponding data products.\n"
     ]
    },
    {
     "name": "stdout",
     "output_type": "stream",
     "text": [
      "nan filename DOES NOT exist, trying to look and download\n"
     ]
    },
    {
     "name": "stderr",
     "output_type": "stream",
     "text": [
      "MAST found 0 matching data products.\n"
     ]
    },
    {
     "name": "stdout",
     "output_type": "stream",
     "text": [
      "** WARNING: no results found for J04429+214 star\n"
     ]
    },
    {
     "name": "stderr",
     "output_type": "stream",
     "text": [
      "Started querying MAST for observations with the exact target_name='397354290'.\n",
      "MAST found 4 observations. Now querying MAST for the corresponding data products.\n"
     ]
    },
    {
     "name": "stdout",
     "output_type": "stream",
     "text": [
      "nan filename DOES NOT exist, trying to look and download\n"
     ]
    },
    {
     "name": "stderr",
     "output_type": "stream",
     "text": [
      "MAST found 0 matching data products.\n"
     ]
    },
    {
     "name": "stdout",
     "output_type": "stream",
     "text": [
      "** WARNING: no results found for J04429+189 star\n",
      "../data/CARMENES_GTO_TESS_lc/lightcurves/J04406-128/J04406-128_TESS_TIC117799904_S32.fits filename DOES exist\n",
      "../data/CARMENES_GTO_TESS_lc/lightcurves/J04376-110/J04376-110_TESS_TIC55997717_S32.fits filename DOES exist\n",
      "../data/CARMENES_GTO_TESS_lc/lightcurves/J04376+528/J04376+528_TESS_TIC274545692_S19.fits filename DOES exist\n",
      "../data/CARMENES_GTO_TESS_lc/lightcurves/J04343+430/J04343+430_TESS_TIC28900646_S19.fits filename DOES exist\n",
      "../data/CARMENES_GTO_TESS_lc/lightcurves/J04311+589/J04311+589_TESS_TIC356322721_S19.fits filename DOES exist\n"
     ]
    },
    {
     "name": "stderr",
     "output_type": "stream",
     "text": [
      "Started querying MAST for observations with the exact target_name='017558287'.\n",
      "No observations found. Now performing a cone search instead.\n"
     ]
    },
    {
     "name": "stdout",
     "output_type": "stream",
     "text": [
      "nan filename DOES NOT exist, trying to look and download\n"
     ]
    },
    {
     "name": "stderr",
     "output_type": "stream",
     "text": [
      "Started querying MAST for observations within 0.0001 arcsec arcsec of objectname='TIC17558287'.\n",
      "MAST found 2 observations. Now querying MAST for the corresponding data products.\n",
      "MAST found 0 matching data products.\n"
     ]
    },
    {
     "name": "stdout",
     "output_type": "stream",
     "text": [
      "** WARNING: no results found for J04290+219 star\n",
      "../data/CARMENES_GTO_TESS_lc/lightcurves/J04225+105/J04225+105_TESS_TIC372896796_S32.fits filename DOES exist\n"
     ]
    },
    {
     "name": "stderr",
     "output_type": "stream",
     "text": [
      "Started querying MAST for observations with the exact target_name='017307715'.\n",
      "No observations found. Now performing a cone search instead.\n"
     ]
    },
    {
     "name": "stdout",
     "output_type": "stream",
     "text": [
      "nan filename DOES NOT exist, trying to look and download\n"
     ]
    },
    {
     "name": "stderr",
     "output_type": "stream",
     "text": [
      "Started querying MAST for observations within 0.0001 arcsec arcsec of objectname='TIC17307715'.\n",
      "MAST found 5 observations. Now querying MAST for the corresponding data products.\n",
      "MAST found 0 matching data products.\n"
     ]
    },
    {
     "name": "stdout",
     "output_type": "stream",
     "text": [
      "** WARNING: no results found for J04219+213 star\n",
      "../data/CARMENES_GTO_TESS_lc/lightcurves/J04198+425/J04198+425_TESS_TIC347994537_S19.fits filename DOES exist\n",
      "../data/CARMENES_GTO_TESS_lc/lightcurves/J04173+088/J04173+088_TESS_TIC283866910_S05.fits filename DOES exist\n",
      "../data/CARMENES_GTO_TESS_lc/lightcurves/J04167-120/J04167-120_TESS_TIC70899085_S05.fits filename DOES exist\n",
      "../data/CARMENES_GTO_TESS_lc/lightcurves/J04153-076/J04153-076_TESS_TIC671834302_S32.fits filename DOES exist\n",
      "../data/CARMENES_GTO_TESS_lc/lightcurves/J03531+625/J03531+625_TESS_TIC393080288_S19.fits filename DOES exist\n",
      "../data/CARMENES_GTO_TESS_lc/lightcurves/J03473-019/J03473-019_TESS_TIC333680372_S05.fits filename DOES exist\n",
      "../data/CARMENES_GTO_TESS_lc/lightcurves/J03473+086/J03473+086_TESS_TIC468889408_S05.fits filename DOES exist\n",
      "../data/CARMENES_GTO_TESS_lc/lightcurves/J03463+262/J03463+262_TESS_TIC125736050_S18.fits filename DOES exist\n",
      "../data/CARMENES_GTO_TESS_lc/lightcurves/J03230+420/J03230+420_TESS_TIC385048602_S18.fits filename DOES exist\n",
      "../data/CARMENES_GTO_TESS_lc/lightcurves/J03217-066/J03217-066_TESS_TIC9964140_S04.fits filename DOES exist\n"
     ]
    },
    {
     "name": "stderr",
     "output_type": "stream",
     "text": [
      "Started querying MAST for observations with the exact target_name='357936741'.\n",
      "No observations found. Now performing a cone search instead.\n"
     ]
    },
    {
     "name": "stdout",
     "output_type": "stream",
     "text": [
      "nan filename DOES NOT exist, trying to look and download\n"
     ]
    },
    {
     "name": "stderr",
     "output_type": "stream",
     "text": [
      "Started querying MAST for observations within 0.0001 arcsec arcsec of objectname='TIC357936741'.\n",
      "MAST found 0 observations. Now querying MAST for the corresponding data products.\n",
      "No data found for target \"TIC357936741\".\n"
     ]
    },
    {
     "name": "stdout",
     "output_type": "stream",
     "text": [
      "** WARNING: no results found for J03213+799 star\n",
      "../data/CARMENES_GTO_TESS_lc/lightcurves/J03181+382/J03181+382_TESS_TIC178078333_S18.fits filename DOES exist\n",
      "../data/CARMENES_GTO_TESS_lc/lightcurves/J03142+286/J03142+286_TESS_TIC35025268_S18.fits filename DOES exist\n",
      "../data/CARMENES_GTO_TESS_lc/lightcurves/J03133+047/J03133+047_TESS_TIC328465904_S04.fits filename DOES exist\n",
      "../data/CARMENES_GTO_TESS_lc/lightcurves/J03090+100/J03090+100_TESS_TIC365369408_S31.fits filename DOES exist\n",
      "../data/CARMENES_GTO_TESS_lc/lightcurves/J02573+765/J02573+765_TESS_TIC396562848_S18.fits filename DOES exist\n",
      "../data/CARMENES_GTO_TESS_lc/lightcurves/J02565+554W/J02565+554W_TESS_TIC251281112_S18.fits filename DOES exist\n",
      "../data/CARMENES_GTO_TESS_lc/lightcurves/J02560-006/J02560-006_TESS_TIC439874904_S31.fits filename DOES exist\n"
     ]
    },
    {
     "name": "stderr",
     "output_type": "stream",
     "text": [
      "Started querying MAST for observations with the exact target_name='257870150'.\n",
      "MAST found 1 observations. Now querying MAST for the corresponding data products.\n"
     ]
    },
    {
     "name": "stdout",
     "output_type": "stream",
     "text": [
      "nan filename DOES NOT exist, trying to look and download\n"
     ]
    },
    {
     "name": "stderr",
     "output_type": "stream",
     "text": [
      "MAST found 0 matching data products.\n"
     ]
    },
    {
     "name": "stdout",
     "output_type": "stream",
     "text": [
      "** WARNING: no results found for J02530+168 star\n"
     ]
    },
    {
     "name": "stderr",
     "output_type": "stream",
     "text": [
      "Started querying MAST for observations with the exact target_name='371422484'.\n",
      "MAST found 3 observations. Now querying MAST for the corresponding data products.\n"
     ]
    },
    {
     "name": "stdout",
     "output_type": "stream",
     "text": [
      "nan filename DOES NOT exist, trying to look and download\n"
     ]
    },
    {
     "name": "stderr",
     "output_type": "stream",
     "text": [
      "MAST found 0 matching data products.\n"
     ]
    },
    {
     "name": "stdout",
     "output_type": "stream",
     "text": [
      "** WARNING: no results found for J02519+224 star\n",
      "../data/CARMENES_GTO_TESS_lc/lightcurves/J02489-145W/J02489-145W_TESS_TIC29960110_S04.fits filename DOES exist\n",
      "../data/CARMENES_GTO_TESS_lc/lightcurves/J02489-145E/J02489-145E_TESS_TIC29960109_S04.fits filename DOES exist\n",
      "../data/CARMENES_GTO_TESS_lc/lightcurves/J02486+621/J02486+621_TESS_TIC51024887_S18.fits filename DOES exist\n"
     ]
    },
    {
     "name": "stderr",
     "output_type": "stream",
     "text": [
      "Started querying MAST for observations with the exact target_name='218088471'.\n",
      "No observations found. Now performing a cone search instead.\n",
      "Started querying MAST for observations within 0.0001 arcsec arcsec of objectname='TIC218088471'.\n"
     ]
    },
    {
     "name": "stdout",
     "output_type": "stream",
     "text": [
      "nan filename DOES NOT exist, trying to look and download\n"
     ]
    },
    {
     "name": "stderr",
     "output_type": "stream",
     "text": [
      "MAST found 0 observations. Now querying MAST for the corresponding data products.\n",
      "No data found for target \"TIC218088471\".\n"
     ]
    },
    {
     "name": "stdout",
     "output_type": "stream",
     "text": [
      "** WARNING: no results found for J02465+164 star\n",
      "../data/CARMENES_GTO_TESS_lc/lightcurves/J02442+255/J02442+255_TESS_TIC436856183_S18.fits filename DOES exist\n",
      "../data/CARMENES_GTO_TESS_lc/lightcurves/J02362+068/J02362+068_TESS_TIC278962913_S31.fits filename DOES exist\n"
     ]
    },
    {
     "name": "stderr",
     "output_type": "stream",
     "text": [
      "Started querying MAST for observations with the exact target_name='247042708'.\n",
      "MAST found 3 observations. Now querying MAST for the corresponding data products.\n"
     ]
    },
    {
     "name": "stdout",
     "output_type": "stream",
     "text": [
      "nan filename DOES NOT exist, trying to look and download\n"
     ]
    },
    {
     "name": "stderr",
     "output_type": "stream",
     "text": [
      "MAST found 0 matching data products.\n"
     ]
    },
    {
     "name": "stdout",
     "output_type": "stream",
     "text": [
      "** WARNING: no results found for J02358+202 star\n",
      "../data/CARMENES_GTO_TESS_lc/lightcurves/J02336+249/J02336+249_TESS_TIC22750743_S18.fits filename DOES exist\n",
      "../data/CARMENES_GTO_TESS_lc/lightcurves/J02222+478/J02222+478_TESS_TIC409527090_S18.fits filename DOES exist\n"
     ]
    },
    {
     "name": "stderr",
     "output_type": "stream",
     "text": [
      "Started querying MAST for observations with the exact target_name='408587159'.\n",
      "MAST found 4 observations. Now querying MAST for the corresponding data products.\n"
     ]
    },
    {
     "name": "stdout",
     "output_type": "stream",
     "text": [
      "nan filename DOES NOT exist, trying to look and download\n"
     ]
    },
    {
     "name": "stderr",
     "output_type": "stream",
     "text": [
      "MAST found 0 matching data products.\n"
     ]
    },
    {
     "name": "stdout",
     "output_type": "stream",
     "text": [
      "** WARNING: no results found for J02164+135 star\n",
      "../data/CARMENES_GTO_TESS_lc/lightcurves/J02123+035/J02123+035_TESS_TIC270415707_S04.fits filename DOES exist\n",
      "../data/CARMENES_GTO_TESS_lc/lightcurves/J02088+494/J02088+494_TESS_TIC250602194_S18.fits filename DOES exist\n",
      "../data/CARMENES_GTO_TESS_lc/lightcurves/J02070+496/J02070+496_TESS_TIC250559611_S18.fits filename DOES exist\n"
     ]
    },
    {
     "name": "stderr",
     "output_type": "stream",
     "text": [
      "Started querying MAST for observations with the exact target_name='347509900'.\n",
      "MAST found 4 observations. Now querying MAST for the corresponding data products.\n"
     ]
    },
    {
     "name": "stdout",
     "output_type": "stream",
     "text": [
      "nan filename DOES NOT exist, trying to look and download\n"
     ]
    },
    {
     "name": "stderr",
     "output_type": "stream",
     "text": [
      "MAST found 0 matching data products.\n"
     ]
    },
    {
     "name": "stdout",
     "output_type": "stream",
     "text": [
      "** WARNING: no results found for J02022+103 star\n",
      "../data/CARMENES_GTO_TESS_lc/lightcurves/J02015+637/J02015+637_TESS_TIC374029463_S18.fits filename DOES exist\n"
     ]
    },
    {
     "name": "stderr",
     "output_type": "stream",
     "text": [
      "Started querying MAST for observations with the exact target_name='404715018'.\n",
      "No observations found. Now performing a cone search instead.\n",
      "Started querying MAST for observations within 0.0001 arcsec arcsec of objectname='TIC404715018'.\n"
     ]
    },
    {
     "name": "stdout",
     "output_type": "stream",
     "text": [
      "nan filename DOES NOT exist, trying to look and download\n"
     ]
    },
    {
     "name": "stderr",
     "output_type": "stream",
     "text": [
      "MAST found 0 observations. Now querying MAST for the corresponding data products.\n",
      "No data found for target \"TIC404715018\".\n"
     ]
    },
    {
     "name": "stdout",
     "output_type": "stream",
     "text": [
      "** WARNING: no results found for J02002+130 star\n",
      "../data/CARMENES_GTO_TESS_lc/lightcurves/J01550+379/J01550+379_TESS_TIC67390998_S18.fits filename DOES exist\n",
      "../data/CARMENES_GTO_TESS_lc/lightcurves/J01518+644/J01518+644_TESS_TIC10352491_S18.fits filename DOES exist\n"
     ]
    },
    {
     "name": "stderr",
     "output_type": "stream",
     "text": [
      "Started querying MAST for observations with the exact target_name='369534824'.\n",
      "MAST found 2 observations. Now querying MAST for the corresponding data products.\n"
     ]
    },
    {
     "name": "stdout",
     "output_type": "stream",
     "text": [
      "nan filename DOES NOT exist, trying to look and download\n"
     ]
    },
    {
     "name": "stderr",
     "output_type": "stream",
     "text": [
      "MAST found 0 matching data products.\n"
     ]
    },
    {
     "name": "stdout",
     "output_type": "stream",
     "text": [
      "** WARNING: no results found for J01433+043 star\n",
      "../data/CARMENES_GTO_TESS_lc/lightcurves/J01352-072/J01352-072_TESS_TIC29853348_S03.fits filename DOES exist\n",
      "../data/CARMENES_GTO_TESS_lc/lightcurves/J01339-176/J01339-176_TESS_TIC54003038_S03.fits filename DOES exist\n",
      "../data/CARMENES_GTO_TESS_lc/lightcurves/J01125-169/J01125-169_TESS_TIC439403362_S03.fits filename DOES exist\n",
      "../data/CARMENES_GTO_TESS_lc/lightcurves/J01066+192/J01066+192_TESS_TIC243185500_S17.fits filename DOES exist\n"
     ]
    },
    {
     "name": "stderr",
     "output_type": "stream",
     "text": [
      "Started querying MAST for observations with the exact target_name='015615674'.\n",
      "No observations found. Now performing a cone search instead.\n",
      "Started querying MAST for observations within 0.0001 arcsec arcsec of objectname='TIC15615674'.\n"
     ]
    },
    {
     "name": "stdout",
     "output_type": "stream",
     "text": [
      "nan filename DOES NOT exist, trying to look and download\n"
     ]
    },
    {
     "name": "stderr",
     "output_type": "stream",
     "text": [
      "MAST found 0 observations. Now querying MAST for the corresponding data products.\n",
      "No data found for target \"TIC15615674\".\n"
     ]
    },
    {
     "name": "stdout",
     "output_type": "stream",
     "text": [
      "** WARNING: no results found for J01056+284 star\n",
      "../data/CARMENES_GTO_TESS_lc/lightcurves/J01048-181/J01048-181_TESS_TIC268633473_S03.fits filename DOES exist\n",
      "../data/CARMENES_GTO_TESS_lc/lightcurves/J01033+623/J01033+623_TESS_TIC52183206_S18.fits filename DOES exist\n",
      "../data/CARMENES_GTO_TESS_lc/lightcurves/J01026+623/J01026+623_TESS_TIC256419669_S18.fits filename DOES exist\n",
      "../data/CARMENES_GTO_TESS_lc/lightcurves/J01025+716/J01025+716_TESS_TIC379084450_S18.fits filename DOES exist\n",
      "../data/CARMENES_GTO_TESS_lc/lightcurves/J01019+541/J01019+541_TESS_TIC252110114_S17.fits filename DOES exist\n",
      "../data/CARMENES_GTO_TESS_lc/lightcurves/J01013+613/J01013+613_TESS_TIC256316623_S18.fits filename DOES exist\n",
      "../data/CARMENES_GTO_TESS_lc/lightcurves/J00570+450/J00570+450_TESS_TIC196293610_S17.fits filename DOES exist\n",
      "../data/CARMENES_GTO_TESS_lc/lightcurves/J00403+612/J00403+612_TESS_TIC284441182_S17.fits filename DOES exist\n",
      "../data/CARMENES_GTO_TESS_lc/lightcurves/J00389+306/J00389+306_TESS_TIC267688052_S17.fits filename DOES exist\n",
      "../data/CARMENES_GTO_TESS_lc/lightcurves/J00286-066/J00286-066_TESS_TIC40082634_S03.fits filename DOES exist\n"
     ]
    },
    {
     "name": "stderr",
     "output_type": "stream",
     "text": [
      "Started querying MAST for observations with the exact target_name='440109718'.\n",
      "MAST found 1 observations. Now querying MAST for the corresponding data products.\n"
     ]
    },
    {
     "name": "stdout",
     "output_type": "stream",
     "text": [
      "nan filename DOES NOT exist, trying to look and download\n"
     ]
    },
    {
     "name": "stderr",
     "output_type": "stream",
     "text": [
      "MAST found 1 matching data products.\n",
      "File found in local cache.\n"
     ]
    },
    {
     "name": "stdout",
     "output_type": "stream",
     "text": [
      "*** SOME ERROR happened. Error = object has no attribute centroid_col\n",
      "../data/CARMENES_GTO_TESS_lc/lightcurves/J00183+440/J00183+440_TESS_TIC440109725_S17.fits filename DOES exist\n"
     ]
    },
    {
     "name": "stderr",
     "output_type": "stream",
     "text": [
      "Started querying MAST for observations with the exact target_name='150899679'.\n",
      "No observations found. Now performing a cone search instead.\n",
      "Started querying MAST for observations within 0.0001 arcsec arcsec of objectname='TIC150899679'.\n"
     ]
    },
    {
     "name": "stdout",
     "output_type": "stream",
     "text": [
      "nan filename DOES NOT exist, trying to look and download\n"
     ]
    },
    {
     "name": "stderr",
     "output_type": "stream",
     "text": [
      "MAST found 0 observations. Now querying MAST for the corresponding data products.\n",
      "No data found for target \"TIC150899679\".\n"
     ]
    },
    {
     "name": "stdout",
     "output_type": "stream",
     "text": [
      "** WARNING: no results found for J00162+198W star\n"
     ]
    },
    {
     "name": "stderr",
     "output_type": "stream",
     "text": [
      "Started querying MAST for observations with the exact target_name='150899677'.\n",
      "No observations found. Now performing a cone search instead.\n",
      "Started querying MAST for observations within 0.0001 arcsec arcsec of objectname='TIC150899677'.\n"
     ]
    },
    {
     "name": "stdout",
     "output_type": "stream",
     "text": [
      "nan filename DOES NOT exist, trying to look and download\n"
     ]
    },
    {
     "name": "stderr",
     "output_type": "stream",
     "text": [
      "MAST found 0 observations. Now querying MAST for the corresponding data products.\n",
      "No data found for target \"TIC150899677\".\n"
     ]
    },
    {
     "name": "stdout",
     "output_type": "stream",
     "text": [
      "** WARNING: no results found for J00162+198E star\n"
     ]
    },
    {
     "name": "stderr",
     "output_type": "stream",
     "text": [
      "Started querying MAST for observations with the exact target_name='176287658'.\n",
      "MAST found 2 observations. Now querying MAST for the corresponding data products.\n"
     ]
    },
    {
     "name": "stdout",
     "output_type": "stream",
     "text": [
      "nan filename DOES NOT exist, trying to look and download\n"
     ]
    },
    {
     "name": "stderr",
     "output_type": "stream",
     "text": [
      "MAST found 0 matching data products.\n"
     ]
    },
    {
     "name": "stdout",
     "output_type": "stream",
     "text": [
      "** WARNING: no results found for J00067-075 star\n",
      "../data/CARMENES_GTO_TESS_lc/lightcurves/J00051+457/J00051+457_TESS_TIC439946126_S17.fits filename DOES exist\n"
     ]
    }
   ],
   "source": [
    "#for i in range (0,20):\n",
    "for i in range (136, len(gto)):\n",
    "    filename = gto.loc[i, 'lc_file']\n",
    "    # See if it exists:\n",
    "    try:\n",
    "        karmn_name = gto.loc[i, 'Karmn']\n",
    "        object_name = gto.loc[i, 'Name']\n",
    "        tic_id = \"TIC\" + str(gto.loc[i, 'TIC_id'])\n",
    "        target_folder = TESS_LC_FOLDER + karmn_name + \"/\"\n",
    "        if filename == \"<ambiguous>\":\n",
    "            # Select the first file in folder:\n",
    "            files = os.listdir(target_folder)\n",
    "            selected_file = files[0]\n",
    "            print(\"<ambiguous>: selecting the first file in %s folder: %s\" \n",
    "                  %(target_folder, selected_file))\n",
    "            gto.loc[i, 'lc_file'] = target_folder + selected_file\n",
    "            gto.loc[i, 'has_lc'] = True\n",
    "        elif filename is np.nan or not os.path.exists(filename):\n",
    "            sleep(30)\n",
    "            print(\"%s filename DOES NOT exist, trying to look and download\" %filename)\n",
    "            lk.search.log.setLevel(\"DEBUG\")\n",
    "            #search_result = lk.search_lightcurve(object_name, mission='TESS', exptime=600)\n",
    "            search_result = lk.search_lightcurve(tic_id, mission='TESS', exptime=1800)\n",
    "            if len(search_result) > 0:\n",
    "                # Select the item with greater exposition time, download it and remove NaN values:\n",
    "                exp_times = np.array(search_result.exptime.value)\n",
    "                max_idx = np.argmax(exp_times)\n",
    "                lc = search_result[max_idx].download().remove_nans()\n",
    "                sector = search_result[max_idx].mission[0][-2:]\n",
    "                # Store it and update the info in the file:\n",
    "                if not os.path.exists(target_folder):\n",
    "                    os.makedirs(target_folder)\n",
    "                else:\n",
    "                    pass\n",
    "                target_filename = target_folder + \\\n",
    "                    karmn_name + \"_TESS_\" + tic_id + \"_S\" + sector + \".fits\"\n",
    "                lc.to_fits(path=target_filename, overwrite=True, flux_column_name='flux')\n",
    "                gto.loc[i, 'lc_file'] = target_filename\n",
    "                gto.loc[i, 'has_lc'] = True\n",
    "                print(\"...SUCCESS: found object and stored file %s\" %target_filename)\n",
    "            else:\n",
    "                # No results returned\n",
    "                print(\"** WARNING: no results found for %s star\" %karmn_name)\n",
    "        else:\n",
    "            print(\"%s filename DOES exist\" %filename)\n",
    "    except Exception as e:\n",
    "            print(\"*** SOME ERROR happened. Error = %s\" %str(e))\n",
    "        \n"
   ]
  },
  {
   "cell_type": "code",
   "execution_count": 9,
   "id": "6b265fa4",
   "metadata": {
    "ExecuteTime": {
     "end_time": "2022-06-17T07:09:47.006845Z",
     "start_time": "2022-06-17T07:09:46.988928Z"
    }
   },
   "outputs": [
    {
     "data": {
      "text/plain": [
       "389"
      ]
     },
     "execution_count": 9,
     "metadata": {},
     "output_type": "execute_result"
    }
   ],
   "source": [
    "i"
   ]
  },
  {
   "cell_type": "raw",
   "id": "cda6e233",
   "metadata": {
    "ExecuteTime": {
     "end_time": "2022-03-27T08:23:07.366560Z",
     "start_time": "2022-03-27T08:19:30.927365Z"
    },
    "scrolled": false
   },
   "source": [
    "success = 0\n",
    "fail = 0\n",
    "total = 0\n",
    "#for i in range (0,20):\n",
    "for i in range (0, len(gto)):\n",
    "    filename = gto.loc[i, 'lc_file']\n",
    "    # See if it exists:\n",
    "    if filename is np.nan or not os.path.exists(filename):\n",
    "        total += 1\n",
    "        print(\"%s filename DOES NOT exist, trying to look and download\" %filename)\n",
    "        try:\n",
    "            karmn_name = gto.loc[i, 'Karmn']\n",
    "            object_name = gto.loc[i, 'Name']\n",
    "            tic_id = \"TIC\" + str(gto.loc[i, 'TIC_id'])\n",
    "            lk.search.log.setLevel(\"DEBUG\")\n",
    "            #search_result = lk.search_lightcurve(object_name, mission='TESS', exptime=600)\n",
    "            search_result = lk.search_lightcurve(tic_id, mission='TESS', exptime=600)\n",
    "            if len(search_result) > 0:\n",
    "                # Select the item with greater exposition time, download it and remove NaN values:\n",
    "                exp_times = np.array(search_result.exptime.value)\n",
    "                max_idx = np.argmax(exp_times)\n",
    "                lc = search_result[max_idx].download().remove_nans()\n",
    "                sector = search_result[max_idx].mission[0][-2:]\n",
    "                # Store it and update the info in the file:\n",
    "                target_folder = TESS_LC_FOLDER + karmn_name + \"/\"\n",
    "                if not os.path.exists(target_folder):\n",
    "                    os.makedirs(target_folder)\n",
    "                else:\n",
    "                    pass\n",
    "                target_filename = target_folder + \\\n",
    "                    karmn_name + \"_TESS_\" + tic_id + \"_S\" + sector + \".fits\"\n",
    "                lc.to_fits(path=target_filename, overwrite=True, flux_column_name='flux')\n",
    "                gto.loc[i, 'lc_file'] = target_filename\n",
    "                gto.loc[i, 'has_lc'] = True\n",
    "                success += 1\n",
    "                print(\"...SUCCESS: found object and stored file %s\" %target_filename)\n",
    "            else:\n",
    "                # No results returned\n",
    "                print(\"** WARNING: no results found for %s star\" %karmn_name)\n",
    "                if filename == \"<ambiguous>\":\n",
    "                    # Just take the first returned file:\n",
    "                    files = os.listdir(target_folder)\n",
    "                    selected_file = files[0]\n",
    "                    print(\"<ambiguous>: selecting the first file in %s folder: %s\" \n",
    "                          %(target_folder, selected_file))\n",
    "                    gto.loc[i, 'lc_file'] = target_folder + selected_file\n",
    "                    gto.loc[i, 'has_lc'] = True\n",
    "                    success += 1\n",
    "                else:\n",
    "                    print(\"Unable to resolve.\")\n",
    "                    fail += 1                \n",
    "        except Exception as e:\n",
    "            print(\"*** SOME ERROR happened. Error = %s\" %str(e))\n",
    "            fail += 1\n",
    "    else:\n",
    "        print(\"%s filename DOES exist\" %filename)\n",
    "        \n",
    "print(\"SUMMARY: Searched = %d, found = %d, failed = %d\" %(total, success, fail))"
   ]
  },
  {
   "cell_type": "markdown",
   "id": "c1631961",
   "metadata": {},
   "source": [
    "### Check final numbers:"
   ]
  },
  {
   "cell_type": "code",
   "execution_count": 10,
   "id": "1b021864",
   "metadata": {
    "ExecuteTime": {
     "end_time": "2022-06-17T07:09:52.102046Z",
     "start_time": "2022-06-17T07:09:52.079051Z"
    }
   },
   "outputs": [
    {
     "data": {
      "text/html": [
       "<div>\n",
       "<style scoped>\n",
       "    .dataframe tbody tr th:only-of-type {\n",
       "        vertical-align: middle;\n",
       "    }\n",
       "\n",
       "    .dataframe tbody tr th {\n",
       "        vertical-align: top;\n",
       "    }\n",
       "\n",
       "    .dataframe thead th {\n",
       "        text-align: right;\n",
       "    }\n",
       "</style>\n",
       "<table border=\"1\" class=\"dataframe\">\n",
       "  <thead>\n",
       "    <tr style=\"text-align: right;\">\n",
       "      <th></th>\n",
       "      <th>Karmn</th>\n",
       "      <th>Name</th>\n",
       "      <th>Comp</th>\n",
       "      <th>GJ</th>\n",
       "      <th>RA_J2016_deg</th>\n",
       "      <th>DE_J2016_deg</th>\n",
       "      <th>RA_J2000</th>\n",
       "      <th>DE_J2000</th>\n",
       "      <th>l_J2016_deg</th>\n",
       "      <th>b_J2016_deg</th>\n",
       "      <th>...</th>\n",
       "      <th>T0_PG_TESS</th>\n",
       "      <th>e_T0_PG_TESS</th>\n",
       "      <th>offset_PG_TESS</th>\n",
       "      <th>e_offset_PG_TESS</th>\n",
       "      <th>FAP_PG_TESS</th>\n",
       "      <th>valid_PG_TESS</th>\n",
       "      <th>error_PG_TESS</th>\n",
       "      <th>elapsed_time_PG_TESS</th>\n",
       "      <th>fits_file_TESS</th>\n",
       "      <th>fig_file_TESS</th>\n",
       "    </tr>\n",
       "  </thead>\n",
       "  <tbody>\n",
       "  </tbody>\n",
       "</table>\n",
       "<p>0 rows × 248 columns</p>\n",
       "</div>"
      ],
      "text/plain": [
       "Empty DataFrame\n",
       "Columns: [Karmn, Name, Comp, GJ, RA_J2016_deg, DE_J2016_deg, RA_J2000, DE_J2000, l_J2016_deg, b_J2016_deg, Ref01, SpT, SpTnum, Ref02, Teff_K, eTeff_K, logg, elogg, [Fe/H], e[Fe/H], Ref03, L_Lsol, eL_Lsol, Ref04, R_Rsol, eR_Rsol, Ref05, M_Msol, eM_Msol, Ref06, muRA_masa-1, emuRA_masa-1, muDE_masa-1, emuDE_masa-1, Ref07, pi_mas, epi_mas, Ref08, d_pc, ed_pc, Ref09, Vr_kms-1, eVr_kms-1, Ref10, ruwe, Ref11, U_kms-1, eU_kms-1, V_kms-1, eV_kms-1, W_kms-1, eW_kms-1, Ref12, sa_m/s/a, esa_m/s/a, Ref13, SKG, Ref14, SKG_lit, Ref14_lit, Pop, Ref15, vsini_flag, vsini_kms-1, evsini_kms-1, Ref16, P_d, eP_d, Ref17, pEWHalpha_A, epEWHalpha_A, Ref18, log(LHalpha/Lbol), elog(LHalpha/Lbol), Ref19, 1RXS, CRT_s-1, eCRT_s-1, HR1, eHR1, HR2, eHR2, Flux_X_E-13_ergcm-2s-1, eFlux_X_E-13_ergcm-2s-1, LX/LJ, eLX/LJ, Ref20, Activity, Ref21, FUV_mag, eFUV_mag, NUV_mag, eNUV_mag, Ref22, u_mag, eu_mag, Ref23, BT_mag, eBT_mag, Ref24, ...]\n",
       "Index: []\n",
       "\n",
       "[0 rows x 248 columns]"
      ]
     },
     "execution_count": 10,
     "metadata": {},
     "output_type": "execute_result"
    }
   ],
   "source": [
    "gto[gto['lc_file'] == \"<ambiguous>\"]"
   ]
  },
  {
   "cell_type": "code",
   "execution_count": 11,
   "id": "ee3bb3f2",
   "metadata": {
    "ExecuteTime": {
     "end_time": "2022-06-17T07:09:52.831329Z",
     "start_time": "2022-06-17T07:09:52.806264Z"
    }
   },
   "outputs": [
    {
     "data": {
      "text/html": [
       "<div>\n",
       "<style scoped>\n",
       "    .dataframe tbody tr th:only-of-type {\n",
       "        vertical-align: middle;\n",
       "    }\n",
       "\n",
       "    .dataframe tbody tr th {\n",
       "        vertical-align: top;\n",
       "    }\n",
       "\n",
       "    .dataframe thead th {\n",
       "        text-align: right;\n",
       "    }\n",
       "</style>\n",
       "<table border=\"1\" class=\"dataframe\">\n",
       "  <thead>\n",
       "    <tr style=\"text-align: right;\">\n",
       "      <th></th>\n",
       "      <th>has_lc</th>\n",
       "      <th>lc_file</th>\n",
       "    </tr>\n",
       "  </thead>\n",
       "  <tbody>\n",
       "    <tr>\n",
       "      <th>0</th>\n",
       "      <td>False</td>\n",
       "      <td>NaN</td>\n",
       "    </tr>\n",
       "    <tr>\n",
       "      <th>1</th>\n",
       "      <td>False</td>\n",
       "      <td>NaN</td>\n",
       "    </tr>\n",
       "    <tr>\n",
       "      <th>4</th>\n",
       "      <td>False</td>\n",
       "      <td>NaN</td>\n",
       "    </tr>\n",
       "    <tr>\n",
       "      <th>6</th>\n",
       "      <td>False</td>\n",
       "      <td>NaN</td>\n",
       "    </tr>\n",
       "    <tr>\n",
       "      <th>8</th>\n",
       "      <td>False</td>\n",
       "      <td>NaN</td>\n",
       "    </tr>\n",
       "    <tr>\n",
       "      <th>...</th>\n",
       "      <td>...</td>\n",
       "      <td>...</td>\n",
       "    </tr>\n",
       "    <tr>\n",
       "      <th>373</th>\n",
       "      <td>False</td>\n",
       "      <td>NaN</td>\n",
       "    </tr>\n",
       "    <tr>\n",
       "      <th>384</th>\n",
       "      <td>False</td>\n",
       "      <td>NaN</td>\n",
       "    </tr>\n",
       "    <tr>\n",
       "      <th>386</th>\n",
       "      <td>False</td>\n",
       "      <td>NaN</td>\n",
       "    </tr>\n",
       "    <tr>\n",
       "      <th>387</th>\n",
       "      <td>False</td>\n",
       "      <td>NaN</td>\n",
       "    </tr>\n",
       "    <tr>\n",
       "      <th>388</th>\n",
       "      <td>False</td>\n",
       "      <td>NaN</td>\n",
       "    </tr>\n",
       "  </tbody>\n",
       "</table>\n",
       "<p>119 rows × 2 columns</p>\n",
       "</div>"
      ],
      "text/plain": [
       "     has_lc lc_file\n",
       "0     False     NaN\n",
       "1     False     NaN\n",
       "4     False     NaN\n",
       "6     False     NaN\n",
       "8     False     NaN\n",
       "..      ...     ...\n",
       "373   False     NaN\n",
       "384   False     NaN\n",
       "386   False     NaN\n",
       "387   False     NaN\n",
       "388   False     NaN\n",
       "\n",
       "[119 rows x 2 columns]"
      ]
     },
     "execution_count": 11,
     "metadata": {},
     "output_type": "execute_result"
    }
   ],
   "source": [
    "gto[gto['has_lc'] == False][['has_lc', 'lc_file']]"
   ]
  },
  {
   "cell_type": "markdown",
   "id": "7c781ccb",
   "metadata": {},
   "source": [
    "## Store the result"
   ]
  },
  {
   "cell_type": "code",
   "execution_count": 12,
   "id": "ab272b26",
   "metadata": {
    "ExecuteTime": {
     "end_time": "2022-06-17T07:09:58.381811Z",
     "start_time": "2022-06-17T07:09:58.318664Z"
    }
   },
   "outputs": [],
   "source": [
    "gto.to_csv(DATA_FILE, sep=',', decimal='.', index=False)"
   ]
  },
  {
   "cell_type": "markdown",
   "id": "9c14f82f",
   "metadata": {},
   "source": [
    "**OBSERVATIONS AND CONCLUSIONS:**\n",
    "- We have tried to complete the TESS light curves.\n",
    "- Noticed that downloaded files were much smaller than the existing ones, so later decided to just keep the existing ones, and only try to downlñoad if no file existed previously.\n",
    "- Finally, 110 objects (about one third of the total) remained with no available TESS light curve."
   ]
  },
  {
   "cell_type": "code",
   "execution_count": null,
   "id": "b6a548c3",
   "metadata": {},
   "outputs": [],
   "source": []
  }
 ],
 "metadata": {
  "kernelspec": {
   "display_name": "Python 3",
   "language": "python",
   "name": "python3"
  },
  "language_info": {
   "codemirror_mode": {
    "name": "ipython",
    "version": 3
   },
   "file_extension": ".py",
   "mimetype": "text/x-python",
   "name": "python",
   "nbconvert_exporter": "python",
   "pygments_lexer": "ipython3",
   "version": "3.8.8"
  },
  "toc": {
   "base_numbering": 1,
   "nav_menu": {},
   "number_sections": true,
   "sideBar": true,
   "skip_h1_title": true,
   "title_cell": "Table of Contents",
   "title_sidebar": "Contents",
   "toc_cell": false,
   "toc_position": {},
   "toc_section_display": true,
   "toc_window_display": true
  }
 },
 "nbformat": 4,
 "nbformat_minor": 5
}
