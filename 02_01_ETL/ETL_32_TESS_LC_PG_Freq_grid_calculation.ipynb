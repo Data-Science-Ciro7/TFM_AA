{
 "cells": [
  {
   "cell_type": "markdown",
   "id": "7e41b9a9",
   "metadata": {},
   "source": [
    "# CALCULATION OF FREQUENCY GRID FOR TESS LC PERIODOGRAM"
   ]
  },
  {
   "cell_type": "markdown",
   "id": "fec5c87e",
   "metadata": {},
   "source": [
    "This notebook calculates the desirable frequency grid for periodogram calculations, based on the characteristics of the TESS LC time series.\n",
    "\n",
    "**Calculation details:**\n",
    "\n",
    "For the establishment of the frequency grid for periodogram calculation, we need to define three values: the minimum frequency, the maximum frequency, and the frequency grid spacing, as per the recommendations on section 7.1 of _Understanding the Lomb–Scargle Periodogram (VanderPlas, J. T. 2018, APJS, 236(1), 16)_. In this work, the recommendations are the following ones:\n",
    "\n",
    "- For the lower frequency limit, set it to 0, it would not do any difference in terms of computation load.\n",
    "- For the upper frequency limit, set it to the Nyquist (uniform sampling) or pseudo-Nyquist (non-uniform sampling) or, even better, according to the specific scientific case (i.e. set it according to the periods we are searching for in the signals). \n",
    "- For the frequency grid spacing, use the inverse of the observation window, applying an additional factor between 1/5 and 1/10.\n",
    "\n",
    "The stars currently under analysis are in the $He_{3}$ instability band, so they are expected to have effective temperatures in the range $T_{eff}\\in[3300, 4300] K$, $\\log g\\in[4.5, 5.1]$, and masses in the range $M_{star}\\in[0.20, 0.60] M_{Sun}$.\n",
    "\n",
    "According to _Table 2_ in _The theoretical instability strip of M dwarf stars (Rodríguez-López, C., et al. 2014, MNRAS, 438, 2371)_ these stars have typical periods of $20 min$ to $4 h$, so we could set the limits of the periodogram frequencies for periods between $5 min$ and $10 h$, so as to perfectly cover the target range and to leave enough margins if the stacked periodogram is to show some \"plateau\". In days, this corresponds to a range of $P\\in[0.003472, 0.416667] d$ or, equivalently, frequencies in the range $f\\in[288.0, 2.4] d^{-1}$.\n",
    "\n",
    "For the grid spacing, we need to cover all the observation windows present in the objects under study, as they will all be different. We will hence calculate it looking into each of the source TESS LC files. For easier calculation, we consider just the overall observation time of objects, instead of the length of multiple different observation periods that exist in each object. In any case, the value used will be a maximum possible observation time, yielding the smallest possible grip spacing (i.e. more resolution). As opposed to the case of RV time series, there are a lot more points, and probably of more continuous observation time, so we will use the 1/10 factor.\n"
   ]
  },
  {
   "cell_type": "markdown",
   "id": "9d4512e5",
   "metadata": {},
   "source": [
    "## Modules and configuration"
   ]
  },
  {
   "cell_type": "markdown",
   "id": "a24b300e",
   "metadata": {},
   "source": [
    "### Modules"
   ]
  },
  {
   "cell_type": "code",
   "execution_count": 1,
   "id": "bf7cc337",
   "metadata": {
    "ExecuteTime": {
     "end_time": "2022-08-01T17:30:22.161121Z",
     "start_time": "2022-08-01T17:30:19.775400Z"
    }
   },
   "outputs": [],
   "source": [
    "# Modules import:\n",
    "import pandas as pd\n",
    "\n",
    "import lightkurve as lk"
   ]
  },
  {
   "cell_type": "markdown",
   "id": "be1f4594",
   "metadata": {},
   "source": [
    "### Configuration"
   ]
  },
  {
   "cell_type": "code",
   "execution_count": 2,
   "id": "f3feca3c",
   "metadata": {
    "ExecuteTime": {
     "end_time": "2022-08-01T17:30:22.177082Z",
     "start_time": "2022-08-01T17:30:22.165114Z"
    }
   },
   "outputs": [],
   "source": [
    "# Configuration:\n",
    "# Files and folders (WARNING: THIS FOLDER STRUCTURE MUST EXIST PREVIOUSLY):\n",
    "GTO_FILE = \"../data/CARM_VIS_objects_with_PG.csv\" # NOTE: initially this should be a copy of the previous file.\n",
    "\n",
    "N0 = 10 # For the factor (1/N0 = 1/5, 1/10,...)\n"
   ]
  },
  {
   "cell_type": "markdown",
   "id": "6fbf6e6d",
   "metadata": {},
   "source": [
    "### Functions"
   ]
  },
  {
   "cell_type": "code",
   "execution_count": 3,
   "id": "3a0ea2db",
   "metadata": {
    "ExecuteTime": {
     "end_time": "2022-08-01T17:30:22.193088Z",
     "start_time": "2022-08-01T17:30:22.179076Z"
    }
   },
   "outputs": [],
   "source": [
    "def tess_lc_load(filename: str):\n",
    "    '''Load the TESS LC file and returns a lightcurve object with just the three relevant columns\n",
    "    Note: it seems to be necessary to drop 'nan' values for GLS to work properly.'''\n",
    "    lc_lk = lk.read(filename).remove_nans()\n",
    "    return lc_lk"
   ]
  },
  {
   "cell_type": "markdown",
   "id": "471bf7f4",
   "metadata": {},
   "source": [
    "## Data processing"
   ]
  },
  {
   "cell_type": "markdown",
   "id": "993e3a72",
   "metadata": {},
   "source": [
    "### GTO data loading"
   ]
  },
  {
   "cell_type": "code",
   "execution_count": 4,
   "id": "501a2ffe",
   "metadata": {
    "ExecuteTime": {
     "end_time": "2022-08-01T17:30:23.439367Z",
     "start_time": "2022-08-01T17:30:23.382963Z"
    }
   },
   "outputs": [
    {
     "data": {
      "text/html": [
       "<div>\n",
       "<style scoped>\n",
       "    .dataframe tbody tr th:only-of-type {\n",
       "        vertical-align: middle;\n",
       "    }\n",
       "\n",
       "    .dataframe tbody tr th {\n",
       "        vertical-align: top;\n",
       "    }\n",
       "\n",
       "    .dataframe thead th {\n",
       "        text-align: right;\n",
       "    }\n",
       "</style>\n",
       "<table border=\"1\" class=\"dataframe\">\n",
       "  <thead>\n",
       "    <tr style=\"text-align: right;\">\n",
       "      <th></th>\n",
       "      <th>Karmn</th>\n",
       "      <th>Name</th>\n",
       "      <th>Comp</th>\n",
       "      <th>GJ</th>\n",
       "      <th>RA_J2016_deg</th>\n",
       "      <th>DE_J2016_deg</th>\n",
       "      <th>RA_J2000</th>\n",
       "      <th>DE_J2000</th>\n",
       "      <th>l_J2016_deg</th>\n",
       "      <th>b_J2016_deg</th>\n",
       "      <th>...</th>\n",
       "      <th>T0_PG_TESS</th>\n",
       "      <th>e_T0_PG_TESS</th>\n",
       "      <th>offset_PG_TESS</th>\n",
       "      <th>e_offset_PG_TESS</th>\n",
       "      <th>FAP_PG_TESS</th>\n",
       "      <th>valid_PG_TESS</th>\n",
       "      <th>error_PG_TESS</th>\n",
       "      <th>elapsed_time_PG_TESS</th>\n",
       "      <th>fits_file_TESS</th>\n",
       "      <th>fig_file_TESS</th>\n",
       "    </tr>\n",
       "  </thead>\n",
       "  <tbody>\n",
       "    <tr>\n",
       "      <th>0</th>\n",
       "      <td>J23585+076</td>\n",
       "      <td>Wolf 1051</td>\n",
       "      <td>AB</td>\n",
       "      <td>4383</td>\n",
       "      <td>359.636420</td>\n",
       "      <td>7.656947</td>\n",
       "      <td>23:58:32.65</td>\n",
       "      <td>+07:39:30.1</td>\n",
       "      <td>100.839686</td>\n",
       "      <td>-52.931049</td>\n",
       "      <td>...</td>\n",
       "      <td>NaN</td>\n",
       "      <td>NaN</td>\n",
       "      <td>NaN</td>\n",
       "      <td>NaN</td>\n",
       "      <td>NaN</td>\n",
       "      <td>0.0</td>\n",
       "      <td>Not recognized as a supported data product:\\nn...</td>\n",
       "      <td>0.002958</td>\n",
       "      <td>NaN</td>\n",
       "      <td>NaN</td>\n",
       "    </tr>\n",
       "    <tr>\n",
       "      <th>1</th>\n",
       "      <td>J23556-061</td>\n",
       "      <td>GJ 912</td>\n",
       "      <td>AB</td>\n",
       "      <td>912</td>\n",
       "      <td>358.913617</td>\n",
       "      <td>-6.144283</td>\n",
       "      <td>23:55:39.78</td>\n",
       "      <td>-06:08:33.4</td>\n",
       "      <td>88.129933</td>\n",
       "      <td>-65.175491</td>\n",
       "      <td>...</td>\n",
       "      <td>NaN</td>\n",
       "      <td>NaN</td>\n",
       "      <td>NaN</td>\n",
       "      <td>NaN</td>\n",
       "      <td>NaN</td>\n",
       "      <td>0.0</td>\n",
       "      <td>Not recognized as a supported data product:\\nn...</td>\n",
       "      <td>0.000998</td>\n",
       "      <td>NaN</td>\n",
       "      <td>NaN</td>\n",
       "    </tr>\n",
       "    <tr>\n",
       "      <th>2</th>\n",
       "      <td>J23548+385</td>\n",
       "      <td>RX J2354.8+3831</td>\n",
       "      <td>-</td>\n",
       "      <td>NaN</td>\n",
       "      <td>358.713658</td>\n",
       "      <td>38.526340</td>\n",
       "      <td>23:54:51.46</td>\n",
       "      <td>+38:31:36.2</td>\n",
       "      <td>110.941908</td>\n",
       "      <td>-23.024449</td>\n",
       "      <td>...</td>\n",
       "      <td>1764.609498</td>\n",
       "      <td>0.010704</td>\n",
       "      <td>8262.219751</td>\n",
       "      <td>1.365667</td>\n",
       "      <td>1.000000</td>\n",
       "      <td>1.0</td>\n",
       "      <td>NaN</td>\n",
       "      <td>344.002685</td>\n",
       "      <td>../data/CARMENES_GTO_TESS_PGs/J23548+385_TESS_...</td>\n",
       "      <td>../data/CARMENES_GTO_TESS_PGs/figures/J23548+3...</td>\n",
       "    </tr>\n",
       "    <tr>\n",
       "      <th>3</th>\n",
       "      <td>J23505-095</td>\n",
       "      <td>LP 763-012</td>\n",
       "      <td>-</td>\n",
       "      <td>4367</td>\n",
       "      <td>357.634705</td>\n",
       "      <td>-9.560964</td>\n",
       "      <td>23:50:31.64</td>\n",
       "      <td>-09:33:32.7</td>\n",
       "      <td>80.777067</td>\n",
       "      <td>-67.303426</td>\n",
       "      <td>...</td>\n",
       "      <td>1354.108815</td>\n",
       "      <td>0.001261</td>\n",
       "      <td>7767.134654</td>\n",
       "      <td>0.094298</td>\n",
       "      <td>0.064148</td>\n",
       "      <td>1.0</td>\n",
       "      <td>NaN</td>\n",
       "      <td>473.533042</td>\n",
       "      <td>../data/CARMENES_GTO_TESS_PGs/J23505-095_TESS_...</td>\n",
       "      <td>../data/CARMENES_GTO_TESS_PGs/figures/J23505-0...</td>\n",
       "    </tr>\n",
       "    <tr>\n",
       "      <th>4</th>\n",
       "      <td>J23492+024</td>\n",
       "      <td>BR Psc</td>\n",
       "      <td>-</td>\n",
       "      <td>908</td>\n",
       "      <td>357.306604</td>\n",
       "      <td>2.396918</td>\n",
       "      <td>23:49:12.53</td>\n",
       "      <td>+02:24:04.4</td>\n",
       "      <td>93.567467</td>\n",
       "      <td>-56.885396</td>\n",
       "      <td>...</td>\n",
       "      <td>NaN</td>\n",
       "      <td>NaN</td>\n",
       "      <td>NaN</td>\n",
       "      <td>NaN</td>\n",
       "      <td>NaN</td>\n",
       "      <td>0.0</td>\n",
       "      <td>Not recognized as a supported data product:\\nn...</td>\n",
       "      <td>0.001986</td>\n",
       "      <td>NaN</td>\n",
       "      <td>NaN</td>\n",
       "    </tr>\n",
       "  </tbody>\n",
       "</table>\n",
       "<p>5 rows × 248 columns</p>\n",
       "</div>"
      ],
      "text/plain": [
       "        Karmn             Name Comp    GJ  RA_J2016_deg  DE_J2016_deg  \\\n",
       "0  J23585+076        Wolf 1051   AB  4383    359.636420      7.656947   \n",
       "1  J23556-061           GJ 912   AB   912    358.913617     -6.144283   \n",
       "2  J23548+385  RX J2354.8+3831    -   NaN    358.713658     38.526340   \n",
       "3  J23505-095       LP 763-012    -  4367    357.634705     -9.560964   \n",
       "4  J23492+024           BR Psc    -   908    357.306604      2.396918   \n",
       "\n",
       "      RA_J2000     DE_J2000  l_J2016_deg  b_J2016_deg  ...   T0_PG_TESS  \\\n",
       "0  23:58:32.65  +07:39:30.1   100.839686   -52.931049  ...          NaN   \n",
       "1  23:55:39.78  -06:08:33.4    88.129933   -65.175491  ...          NaN   \n",
       "2  23:54:51.46  +38:31:36.2   110.941908   -23.024449  ...  1764.609498   \n",
       "3  23:50:31.64  -09:33:32.7    80.777067   -67.303426  ...  1354.108815   \n",
       "4  23:49:12.53  +02:24:04.4    93.567467   -56.885396  ...          NaN   \n",
       "\n",
       "  e_T0_PG_TESS  offset_PG_TESS e_offset_PG_TESS  FAP_PG_TESS  valid_PG_TESS  \\\n",
       "0          NaN             NaN              NaN          NaN            0.0   \n",
       "1          NaN             NaN              NaN          NaN            0.0   \n",
       "2     0.010704     8262.219751         1.365667     1.000000            1.0   \n",
       "3     0.001261     7767.134654         0.094298     0.064148            1.0   \n",
       "4          NaN             NaN              NaN          NaN            0.0   \n",
       "\n",
       "                                       error_PG_TESS  elapsed_time_PG_TESS  \\\n",
       "0  Not recognized as a supported data product:\\nn...              0.002958   \n",
       "1  Not recognized as a supported data product:\\nn...              0.000998   \n",
       "2                                                NaN            344.002685   \n",
       "3                                                NaN            473.533042   \n",
       "4  Not recognized as a supported data product:\\nn...              0.001986   \n",
       "\n",
       "                                      fits_file_TESS  \\\n",
       "0                                                NaN   \n",
       "1                                                NaN   \n",
       "2  ../data/CARMENES_GTO_TESS_PGs/J23548+385_TESS_...   \n",
       "3  ../data/CARMENES_GTO_TESS_PGs/J23505-095_TESS_...   \n",
       "4                                                NaN   \n",
       "\n",
       "                                       fig_file_TESS  \n",
       "0                                                NaN  \n",
       "1                                                NaN  \n",
       "2  ../data/CARMENES_GTO_TESS_PGs/figures/J23548+3...  \n",
       "3  ../data/CARMENES_GTO_TESS_PGs/figures/J23505-0...  \n",
       "4                                                NaN  \n",
       "\n",
       "[5 rows x 248 columns]"
      ]
     },
     "execution_count": 4,
     "metadata": {},
     "output_type": "execute_result"
    }
   ],
   "source": [
    "# Load GTO data table:\n",
    "gto = pd.read_csv(GTO_FILE, sep=',', decimal='.')\n",
    "gto.head(5)"
   ]
  },
  {
   "cell_type": "code",
   "execution_count": 5,
   "id": "c17dcb96",
   "metadata": {
    "ExecuteTime": {
     "end_time": "2022-08-01T17:30:23.968023Z",
     "start_time": "2022-08-01T17:30:23.951073Z"
    }
   },
   "outputs": [
    {
     "data": {
      "text/plain": [
       "(390, 248)"
      ]
     },
     "execution_count": 5,
     "metadata": {},
     "output_type": "execute_result"
    }
   ],
   "source": [
    "gto.shape"
   ]
  },
  {
   "cell_type": "code",
   "execution_count": 6,
   "id": "2e77fa32",
   "metadata": {
    "ExecuteTime": {
     "end_time": "2022-08-01T17:30:24.527599Z",
     "start_time": "2022-08-01T17:30:24.510320Z"
    }
   },
   "outputs": [
    {
     "name": "stdout",
     "output_type": "stream",
     "text": [
      "['Karmn', 'Name', 'Comp', 'GJ', 'RA_J2016_deg', 'DE_J2016_deg', 'RA_J2000', 'DE_J2000', 'l_J2016_deg', 'b_J2016_deg', 'Ref01', 'SpT', 'SpTnum', 'Ref02', 'Teff_K', 'eTeff_K', 'logg', 'elogg', '[Fe/H]', 'e[Fe/H]', 'Ref03', 'L_Lsol', 'eL_Lsol', 'Ref04', 'R_Rsol', 'eR_Rsol', 'Ref05', 'M_Msol', 'eM_Msol', 'Ref06', 'muRA_masa-1', 'emuRA_masa-1', 'muDE_masa-1', 'emuDE_masa-1', 'Ref07', 'pi_mas', 'epi_mas', 'Ref08', 'd_pc', 'ed_pc', 'Ref09', 'Vr_kms-1', 'eVr_kms-1', 'Ref10', 'ruwe', 'Ref11', 'U_kms-1', 'eU_kms-1', 'V_kms-1', 'eV_kms-1', 'W_kms-1', 'eW_kms-1', 'Ref12', 'sa_m/s/a', 'esa_m/s/a', 'Ref13', 'SKG', 'Ref14', 'SKG_lit', 'Ref14_lit', 'Pop', 'Ref15', 'vsini_flag', 'vsini_kms-1', 'evsini_kms-1', 'Ref16', 'P_d', 'eP_d', 'Ref17', 'pEWHalpha_A', 'epEWHalpha_A', 'Ref18', 'log(LHalpha/Lbol)', 'elog(LHalpha/Lbol)', 'Ref19', '1RXS', 'CRT_s-1', 'eCRT_s-1', 'HR1', 'eHR1', 'HR2', 'eHR2', 'Flux_X_E-13_ergcm-2s-1', 'eFlux_X_E-13_ergcm-2s-1', 'LX/LJ', 'eLX/LJ', 'Ref20', 'Activity', 'Ref21', 'FUV_mag', 'eFUV_mag', 'NUV_mag', 'eNUV_mag', 'Ref22', 'u_mag', 'eu_mag', 'Ref23', 'BT_mag', 'eBT_mag', 'Ref24', 'B_mag', 'eB_mag', 'Ref25', 'BP_mag', 'eBP_mag', 'Ref26', 'g_mag', 'eg_mag', 'Ref27', 'VT_mag', 'eVT_mag', 'Ref28', 'V_mag', 'eV_mag', 'Ref29', 'Ra_mag', 'Ref30', 'r_mag', 'er_mag', 'Ref31', 'GG_mag', 'eGG_mag', 'Ref32', 'i_mag', 'ei_mag', 'Ref33', 'RP_mag', 'eRP_mag', 'Ref34', 'IN_mag', 'Ref35', 'J_mag', 'eJ_mag', 'H_mag', 'eH_mag', 'Ks_mag', 'eKs_mag', 'QFlag_2M', 'Ref36', 'W1_mag', 'eW1_mag', 'W2_mag', 'eW2_mag', 'W3_mag', 'eW3_mag', 'W4_mag', 'eW4_mag', 'QFlag_WISE', 'Ref37', 'Multiplicity', 'WideWDS', 'Widerho_arcsec', 'eWiderho_arcsec', 'Ref38', 'WideCompanionName', 'WideCompanionSpT', 'CloseWDS', 'Closerho_arcsec', 'eCloserho_arcsec', 'Ref39', 'CloseCompanionSpT', 'RV', 'Planet', 'Ref40', 'PlanetNum', 'LoRes_spectrum', 'HiRes_spectrum', 'LoRes_imaging', 'HiRes_imaging', 'Class', 'Survey', 'Notes', 'Gaia_id_1', '2MASS_id', 'TIC_id', 'Teff_min_K', 'Teff_max_K', 'logg_min', 'logg_max', 'is_GTO', 'rv_file', 'lc_file', 'has_rv', 'has_lc', 'InstBand_nominal', 'InstBand_ranged', 'n_RV', 'Ps_RV', 'fs_RV', 'wmean_RV', 'wrms_RV', 'info_PG_RV', 'maxP_PG_RV', 'maxSNR_PG_RV', 'rms_PG_RV', 'f_PG_RV', 'e_f_PG_RV', 'Pd_PG_RV', 'e_Pd_PG_RV', 'Ph_PG_RV', 'e_Ph_PG_RV', 'Pm_PG_RV', 'e_Pm_PG_RV', 'A_PG_RV', 'e_A_PG_RV', 'ph_PG_RV', 'e_ph_PG_RV', 'T0_PG_RV', 'e_T0_PG_RV', 'offset_PG_RV', 'e_offset_PG_RV', 'FAP_PG_RV', 'valid_PG_RV', 'error_PG_RV', 'elapsed_time_PG_RV', 'fits_file_RV', 'fig_file_RV', 'n_TESS', 'Ps_TESS', 'fs_TESS', 'wmean_TESS', 'wrms_TESS', 'info_PG_TESS', 'maxP_PG_TESS', 'maxSNR_PG_TESS', 'rms_PG_TESS', 'f_PG_TESS', 'e_f_PG_TESS', 'Pd_PG_TESS', 'e_Pd_PG_TESS', 'Ph_PG_TESS', 'e_Ph_PG_TESS', 'Pm_PG_TESS', 'e_Pm_PG_TESS', 'A_PG_TESS', 'e_A_PG_TESS', 'ph_PG_TESS', 'e_ph_PG_TESS', 'T0_PG_TESS', 'e_T0_PG_TESS', 'offset_PG_TESS', 'e_offset_PG_TESS', 'FAP_PG_TESS', 'valid_PG_TESS', 'error_PG_TESS', 'elapsed_time_PG_TESS', 'fits_file_TESS', 'fig_file_TESS']\n"
     ]
    }
   ],
   "source": [
    "print(list(gto.columns))"
   ]
  },
  {
   "cell_type": "markdown",
   "id": "91ba1fdd",
   "metadata": {},
   "source": [
    "### Calculate the maximum observation window length present in the data"
   ]
  },
  {
   "cell_type": "code",
   "execution_count": 7,
   "id": "d2f73454",
   "metadata": {
    "ExecuteTime": {
     "end_time": "2022-08-01T17:30:49.976223Z",
     "start_time": "2022-08-01T17:30:25.663719Z"
    }
   },
   "outputs": [
    {
     "name": "stderr",
     "output_type": "stream",
     "text": [
      "Warning: 30% (5871/19412) of the cadences will be ignored due to the quality mask (quality_bitmask=175).\n",
      "Warning: 30% (5871/19412) of the cadences will be ignored due to the quality mask (quality_bitmask=175).\n",
      "Warning: 30% (5871/19412) of the cadences will be ignored due to the quality mask (quality_bitmask=175).\n",
      "Warning: 30% (5871/19412) of the cadences will be ignored due to the quality mask (quality_bitmask=175).\n",
      "Warning: 30% (5871/19412) of the cadences will be ignored due to the quality mask (quality_bitmask=175).\n"
     ]
    },
    {
     "name": "stdout",
     "output_type": "stream",
     "text": [
      "Correctly processed files: 271\n",
      "Max. RV observation time in days: 27.417075\n"
     ]
    }
   ],
   "source": [
    "max_T = 0\n",
    "correct_lc = 0\n",
    "for i in range(0, len(gto)):\n",
    "    try:\n",
    "        # Read the TESS LC file:\n",
    "        lc = tess_lc_load(gto.loc[i, 'lc_file'])\n",
    "        # Calculate the observation time:\n",
    "        T = lc.time.max().value - lc.time.min().value\n",
    "        # Update the maximum:\n",
    "        max_T = max(max_T, T)\n",
    "        correct_lc += 1\n",
    "    except:\n",
    "        # Error, most probably because no LC file exists for this object.\n",
    "        pass\n",
    "\n",
    "print(\"Correctly processed files: %d\" %correct_lc)\n",
    "print(\"Max. RV observation time in days: %f\" %max_T)"
   ]
  },
  {
   "cell_type": "markdown",
   "id": "9ba3275f",
   "metadata": {},
   "source": [
    "### Calculate the minimum frequency grid spacing"
   ]
  },
  {
   "cell_type": "code",
   "execution_count": 8,
   "id": "2278634b",
   "metadata": {
    "ExecuteTime": {
     "end_time": "2022-08-01T17:30:49.992148Z",
     "start_time": "2022-08-01T17:30:49.978185Z"
    }
   },
   "outputs": [
    {
     "name": "stdout",
     "output_type": "stream",
     "text": [
      "Frequency grid spacing must be smaller than 0.003647 d^(-1)\n"
     ]
    }
   ],
   "source": [
    "delta_f = 1.0 / (N0 * max_T)\n",
    "print(\"Frequency grid spacing must be smaller than %f d^(-1)\" %delta_f)"
   ]
  },
  {
   "cell_type": "markdown",
   "id": "e86e741b",
   "metadata": {},
   "source": [
    "Hence, about a 0.001 frequency grid spacing should do well:"
   ]
  },
  {
   "cell_type": "code",
   "execution_count": 9,
   "id": "141ee990",
   "metadata": {
    "ExecuteTime": {
     "end_time": "2022-08-01T17:30:50.008105Z",
     "start_time": "2022-08-01T17:30:49.994142Z"
    }
   },
   "outputs": [
    {
     "name": "stdout",
     "output_type": "stream",
     "text": [
      "Estimated number of points for each periodogram: 285600\n"
     ]
    }
   ],
   "source": [
    "n = int((288.0 - 2.4) / 0.001)\n",
    "print(\"Estimated number of points for each periodogram: %d\" %n)"
   ]
  },
  {
   "cell_type": "markdown",
   "id": "75998842",
   "metadata": {},
   "source": [
    "This is $\\approx300000$ points for each periodogram, which seems reasonable, althougn in this case of TESS LC, the number of time points is much larger than in the cas of RV time series, so calculation will also take time, probably."
   ]
  },
  {
   "cell_type": "markdown",
   "id": "4fe95649",
   "metadata": {},
   "source": [
    "# Summary"
   ]
  },
  {
   "cell_type": "markdown",
   "id": "9c14f82f",
   "metadata": {},
   "source": [
    "**OBSERVATIONS AND CONCLUSIONS:**\n",
    "- For the TESS LC periodogram calculations, we will set:\n",
    "  - A lower frequency of 2.4 d^(-1).\n",
    "  - An upper frequency of 288.0 d^(-1).\n",
    "  - A grid spacing of 0.001 d^(-1). This would yield a total of 285600 frequency points to calculate for each periodogram."
   ]
  },
  {
   "cell_type": "code",
   "execution_count": null,
   "id": "b6a548c3",
   "metadata": {},
   "outputs": [],
   "source": []
  }
 ],
 "metadata": {
  "kernelspec": {
   "display_name": "Python 3",
   "language": "python",
   "name": "python3"
  },
  "language_info": {
   "codemirror_mode": {
    "name": "ipython",
    "version": 3
   },
   "file_extension": ".py",
   "mimetype": "text/x-python",
   "name": "python",
   "nbconvert_exporter": "python",
   "pygments_lexer": "ipython3",
   "version": "3.8.8"
  },
  "latex_envs": {
   "LaTeX_envs_menu_present": true,
   "autoclose": false,
   "autocomplete": true,
   "bibliofile": "biblio.bib",
   "cite_by": "apalike",
   "current_citInitial": 1,
   "eqLabelWithNumbers": true,
   "eqNumInitial": 1,
   "hotkeys": {
    "equation": "Ctrl-E",
    "itemize": "Ctrl-I"
   },
   "labels_anchors": false,
   "latex_user_defs": false,
   "report_style_numbering": false,
   "user_envs_cfg": false
  },
  "toc": {
   "base_numbering": 1,
   "nav_menu": {},
   "number_sections": true,
   "sideBar": true,
   "skip_h1_title": true,
   "title_cell": "Table of Contents",
   "title_sidebar": "Contents",
   "toc_cell": false,
   "toc_position": {
    "height": "757px",
    "left": "66px",
    "top": "111.125px",
    "width": "292.797px"
   },
   "toc_section_display": true,
   "toc_window_display": true
  }
 },
 "nbformat": 4,
 "nbformat_minor": 5
}
