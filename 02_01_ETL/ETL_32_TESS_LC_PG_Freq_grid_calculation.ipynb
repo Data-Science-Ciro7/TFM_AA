{
 "cells": [
  {
   "cell_type": "markdown",
   "id": "7e41b9a9",
   "metadata": {},
   "source": [
    "# CALCULATION OF FREQUENCY GRID FOR TESS LC PERIODOGRAM"
   ]
  },
  {
   "cell_type": "markdown",
   "id": "fec5c87e",
   "metadata": {},
   "source": [
    "This notebook calculates the desirable frequency grid for periodogram calculations, based on the characteristics of the TESS LC time series.\n",
    "\n",
    "**Calculation details:**\n",
    "\n",
    "For the establishment of the frequency grid for periodogram calculation, we need to define three values: the minimum frequency, the maximum frequency, and the frequency grid spacing, as per the recommendations on section 7.1 of _Understanding the Lomb–Scargle Periodogram (VanderPlas, J. T. 2018, APJS, 236(1), 16)_. In this work, the recommendations are the following ones:\n",
    "\n",
    "- For the lower frequency limit, set it to 0, it would not do any difference in terms of computation load.\n",
    "- For the upper frequency limit, set it to the Nyquist (uniform sampling) or pseudo-Nyquist (non-uniform sampling) or, even better, according to the specific scientific case (i.e. set it according to the periods we are searching for in the signals). \n",
    "- For the frequency grid spacing, use the inverse of the observation window, applying an additional factor between 1/5 and 1/10.\n",
    "\n",
    "The stars currently under analysis are in the $He_{3}$ instability band, so they are expected to have effective temperatures in the range $T_{eff}\\in[3300, 4300] K$, $\\log g\\in[4.5, 5.1]$, and masses in the range $M_{star}\\in[0.20, 0.60] M_{Sun}$.\n",
    "\n",
    "According to _Table 2_ in _The theoretical instability strip of M dwarf stars (Rodríguez-López, C., et al. 2014, MNRAS, 438, 2371)_ these stars have typical periods of $20 min$ to $4 h$, so we could set the limits of the periodogram frequencies for periods between $5 min$ and $10 h$, so as to perfectly cover the target range and to leave enough margins if the stacked periodogram is to show some \"plateau\". In days, this corresponds to a range of $P\\in[0.003472, 0.416667] d$ or, equivalently, frequencies in the range $f\\in[288.0, 2.4] d^{-1}$.\n",
    "\n",
    "For the grid spacing, we need to cover all the observation windows present in the objects under study, as they will all be different. We will hence calculate it looking into each of the source TESS LC files. For easier calculation, we consider just the overall observation time of objects, instead of the length of multiple different observation periods that exist in each object. In any case, the value used will be a maximum possible observation time, yielding the smallest possible grip spacing (i.e. more resolution). As opposed to the case of RV time series, there are a lot more points, and probably of more continuous observation time, so we will use the 1/10 factor.\n"
   ]
  },
  {
   "cell_type": "markdown",
   "id": "9d4512e5",
   "metadata": {},
   "source": [
    "## Modules and configuration"
   ]
  },
  {
   "cell_type": "markdown",
   "id": "a24b300e",
   "metadata": {},
   "source": [
    "### Modules"
   ]
  },
  {
   "cell_type": "code",
   "execution_count": 6,
   "id": "bf7cc337",
   "metadata": {
    "ExecuteTime": {
     "end_time": "2022-11-16T09:21:02.457544Z",
     "start_time": "2022-11-16T09:21:02.442555Z"
    }
   },
   "outputs": [],
   "source": [
    "# Modules import:\n",
    "import numpy as np\n",
    "import pandas as pd\n",
    "\n",
    "from astropy.time.core import TimeDelta\n",
    "\n",
    "#from scipy import stats\n",
    "\n",
    "import lightkurve as lk\n",
    "\n",
    "from matplotlib import pyplot as plt\n",
    "from matplotlib import lines\n",
    "import seaborn as sns\n",
    "\n",
    "sns.set_style(\"white\", {'figure.figsize':(16,9)})\n"
   ]
  },
  {
   "cell_type": "markdown",
   "id": "be1f4594",
   "metadata": {},
   "source": [
    "### Configuration"
   ]
  },
  {
   "cell_type": "code",
   "execution_count": 7,
   "id": "f3feca3c",
   "metadata": {
    "ExecuteTime": {
     "end_time": "2022-11-16T09:21:03.098050Z",
     "start_time": "2022-11-16T09:21:03.092067Z"
    }
   },
   "outputs": [],
   "source": [
    "# Configuration:\n",
    "# Files and folders (WARNING: THIS FOLDER STRUCTURE MUST EXIST PREVIOUSLY):\n",
    "#GTO_FILE = \"../data/CARM_VIS_objects_with_PG.csv\" # NOTE: initially this should be a copy of the previous file.\n",
    "GTO_FILE = \"../data/SELECTION_for_PG_CARM_VIS_objects_with_PG.csv\" # NOTE: initially this should be a copy of the previous file.\n",
    "\n",
    "N0 = 10 # For the factor (1/N0 = 1/5, 1/10,...)\n"
   ]
  },
  {
   "cell_type": "markdown",
   "id": "6fbf6e6d",
   "metadata": {},
   "source": [
    "### Functions"
   ]
  },
  {
   "cell_type": "code",
   "execution_count": 8,
   "id": "3a0ea2db",
   "metadata": {
    "ExecuteTime": {
     "end_time": "2022-11-16T09:21:04.285142Z",
     "start_time": "2022-11-16T09:21:04.275169Z"
    }
   },
   "outputs": [],
   "source": [
    "def tess_lc_load(filename: str):\n",
    "    '''Load the TESS LC file and returns a lightcurve object with just the three relevant columns\n",
    "    Note: it seems to be necessary to drop 'nan' values for GLS to work properly.'''\n",
    "    lc_lk = lk.read(filename).remove_nans()\n",
    "    return lc_lk"
   ]
  },
  {
   "cell_type": "code",
   "execution_count": 9,
   "id": "62a0434f",
   "metadata": {
    "ExecuteTime": {
     "end_time": "2022-11-16T09:21:04.893755Z",
     "start_time": "2022-11-16T09:21:04.878812Z"
    }
   },
   "outputs": [],
   "source": [
    "def draw_scatter(data, x, y, hue=None, size=None, alpha=None,\n",
    "                 href_lines=[], href_label=\"\", href_color=\"darkred\",\n",
    "                 vref_lines=[], vref_label=\"\", vref_color=\"darkblue\",                 \n",
    "                 title_override=None,\n",
    "                 fig_filename=None):\n",
    "    '''Draws a scatter plot as per the data passed, setting the title'''\n",
    "    sns.set_style(\"white\", {'figure.figsize':(16,9)})\n",
    "    ax = sns.scatterplot(data=data, x=x, y=y, hue=hue, size=size, alpha=alpha)\n",
    "    handles=[]\n",
    "    for i in range(0, len(href_lines)):\n",
    "        if i == 0:\n",
    "            handles.append(lines.Line2D([], [], color=href_color, label=href_label))\n",
    "        else:\n",
    "            pass\n",
    "        ax.axhline(y=href_lines[i], color=href_color)\n",
    "    for i in range(0, len(vref_lines)):\n",
    "        if i == 0:\n",
    "            handles.append(lines.Line2D([], [], color=vref_color, label=vref_label))\n",
    "        else:\n",
    "            pass\n",
    "        ax.axvline(x=vref_lines[i], color=vref_color)\n",
    "\n",
    "    if title_override is None:\n",
    "        title = \"Correlation - \" + x + \" vs. \" + y\n",
    "    else:\n",
    "        title = title_override\n",
    "    if hue is not None:\n",
    "        title = title + \"\\nBy \" + hue + \" (colour)\"\n",
    "    if size is not None:\n",
    "        title = title + \"\\nBy \" + size + \" (size)\"\n",
    "    ax.set_title(title, fontsize='x-large')\n",
    "    ax.set_xlabel(x, fontsize='large')\n",
    "    ax.set_ylabel(y, fontsize='large')\n",
    "    ax.figure.set_size_inches(16, 9)\n",
    "    ax.legend(handles=handles, loc='upper right')\n",
    "    \n",
    "    if fig_filename == None:\n",
    "        pass\n",
    "    else:\n",
    "        ax.figure.savefig(fig_filename, format='jpg')"
   ]
  },
  {
   "cell_type": "markdown",
   "id": "471bf7f4",
   "metadata": {},
   "source": [
    "## Data processing"
   ]
  },
  {
   "cell_type": "markdown",
   "id": "993e3a72",
   "metadata": {},
   "source": [
    "### GTO data loading"
   ]
  },
  {
   "cell_type": "code",
   "execution_count": 10,
   "id": "501a2ffe",
   "metadata": {
    "ExecuteTime": {
     "end_time": "2022-11-16T09:21:06.882171Z",
     "start_time": "2022-11-16T09:21:06.786320Z"
    }
   },
   "outputs": [
    {
     "data": {
      "text/html": [
       "<div>\n",
       "<style scoped>\n",
       "    .dataframe tbody tr th:only-of-type {\n",
       "        vertical-align: middle;\n",
       "    }\n",
       "\n",
       "    .dataframe tbody tr th {\n",
       "        vertical-align: top;\n",
       "    }\n",
       "\n",
       "    .dataframe thead th {\n",
       "        text-align: right;\n",
       "    }\n",
       "</style>\n",
       "<table border=\"1\" class=\"dataframe\">\n",
       "  <thead>\n",
       "    <tr style=\"text-align: right;\">\n",
       "      <th></th>\n",
       "      <th>Karmn</th>\n",
       "      <th>Name</th>\n",
       "      <th>Comp</th>\n",
       "      <th>GJ</th>\n",
       "      <th>RA_J2016_deg</th>\n",
       "      <th>DE_J2016_deg</th>\n",
       "      <th>RA_J2000</th>\n",
       "      <th>DE_J2000</th>\n",
       "      <th>l_J2016_deg</th>\n",
       "      <th>b_J2016_deg</th>\n",
       "      <th>...</th>\n",
       "      <th>WF_offset_PG_TESS</th>\n",
       "      <th>WF_e_offset_PG_TESS</th>\n",
       "      <th>WF_FAP_PG_TESS</th>\n",
       "      <th>WF_valid_PG_TESS</th>\n",
       "      <th>WF_error_PG_TESS</th>\n",
       "      <th>WF_elapsed_time_PG_TESS</th>\n",
       "      <th>WF_plain_file_TESS</th>\n",
       "      <th>WF_fig_file_TESS</th>\n",
       "      <th>PG_file_RV</th>\n",
       "      <th>PG_file_TESS</th>\n",
       "    </tr>\n",
       "  </thead>\n",
       "  <tbody>\n",
       "    <tr>\n",
       "      <th>0</th>\n",
       "      <td>J23548+385</td>\n",
       "      <td>RX J2354.8+3831</td>\n",
       "      <td>-</td>\n",
       "      <td>NaN</td>\n",
       "      <td>358.713658</td>\n",
       "      <td>38.526340</td>\n",
       "      <td>23:54:51.46</td>\n",
       "      <td>+38:31:36.2</td>\n",
       "      <td>110.941908</td>\n",
       "      <td>-23.024449</td>\n",
       "      <td>...</td>\n",
       "      <td>999.999756</td>\n",
       "      <td>2.151008e-06</td>\n",
       "      <td>1.0</td>\n",
       "      <td>1.0</td>\n",
       "      <td>NaN</td>\n",
       "      <td>94.758838</td>\n",
       "      <td>../data/CARM_VIS_TESS_WinFunc_PGs/WF_J23548+38...</td>\n",
       "      <td>../data/CARM_VIS_TESS_WinFunc_PGs/figures/WF_J...</td>\n",
       "      <td>../data/CARM_VIS_RVs_PGs/J23548+385_RV_PG.dat</td>\n",
       "      <td>../data/CARM_VIS_TESS_PGs/J23548+385_RV_PG.dat</td>\n",
       "    </tr>\n",
       "    <tr>\n",
       "      <th>1</th>\n",
       "      <td>J23505-095</td>\n",
       "      <td>LP 763-012</td>\n",
       "      <td>-</td>\n",
       "      <td>4367</td>\n",
       "      <td>357.634705</td>\n",
       "      <td>-9.560964</td>\n",
       "      <td>23:50:31.64</td>\n",
       "      <td>-09:33:32.7</td>\n",
       "      <td>80.777067</td>\n",
       "      <td>-67.303426</td>\n",
       "      <td>...</td>\n",
       "      <td>1000.000122</td>\n",
       "      <td>9.022946e-07</td>\n",
       "      <td>1.0</td>\n",
       "      <td>1.0</td>\n",
       "      <td>NaN</td>\n",
       "      <td>132.607176</td>\n",
       "      <td>../data/CARM_VIS_TESS_WinFunc_PGs/WF_J23505-09...</td>\n",
       "      <td>../data/CARM_VIS_TESS_WinFunc_PGs/figures/WF_J...</td>\n",
       "      <td>../data/CARM_VIS_RVs_PGs/J23505-095_RV_PG.dat</td>\n",
       "      <td>../data/CARM_VIS_TESS_PGs/J23505-095_RV_PG.dat</td>\n",
       "    </tr>\n",
       "    <tr>\n",
       "      <th>2</th>\n",
       "      <td>J23431+365</td>\n",
       "      <td>GJ 1289</td>\n",
       "      <td>-</td>\n",
       "      <td>1289</td>\n",
       "      <td>355.781509</td>\n",
       "      <td>36.536310</td>\n",
       "      <td>23:43:06.31</td>\n",
       "      <td>+36:32:13.1</td>\n",
       "      <td>107.922839</td>\n",
       "      <td>-24.336479</td>\n",
       "      <td>...</td>\n",
       "      <td>999.999512</td>\n",
       "      <td>4.306074e-06</td>\n",
       "      <td>1.0</td>\n",
       "      <td>1.0</td>\n",
       "      <td>NaN</td>\n",
       "      <td>97.939914</td>\n",
       "      <td>../data/CARM_VIS_TESS_WinFunc_PGs/WF_J23431+36...</td>\n",
       "      <td>../data/CARM_VIS_TESS_WinFunc_PGs/figures/WF_J...</td>\n",
       "      <td>../data/CARM_VIS_RVs_PGs/J23431+365_RV_PG.dat</td>\n",
       "      <td>../data/CARM_VIS_TESS_PGs/J23431+365_RV_PG.dat</td>\n",
       "    </tr>\n",
       "    <tr>\n",
       "      <th>3</th>\n",
       "      <td>J23381-162</td>\n",
       "      <td>G 273-093</td>\n",
       "      <td>-</td>\n",
       "      <td>4352</td>\n",
       "      <td>354.532687</td>\n",
       "      <td>-16.236514</td>\n",
       "      <td>23:38:08.16</td>\n",
       "      <td>-16:14:10.2</td>\n",
       "      <td>61.845437</td>\n",
       "      <td>-69.825220</td>\n",
       "      <td>...</td>\n",
       "      <td>1000.000122</td>\n",
       "      <td>9.022946e-07</td>\n",
       "      <td>1.0</td>\n",
       "      <td>1.0</td>\n",
       "      <td>NaN</td>\n",
       "      <td>136.603404</td>\n",
       "      <td>../data/CARM_VIS_TESS_WinFunc_PGs/WF_J23381-16...</td>\n",
       "      <td>../data/CARM_VIS_TESS_WinFunc_PGs/figures/WF_J...</td>\n",
       "      <td>../data/CARM_VIS_RVs_PGs/J23381-162_RV_PG.dat</td>\n",
       "      <td>../data/CARM_VIS_TESS_PGs/J23381-162_RV_PG.dat</td>\n",
       "    </tr>\n",
       "    <tr>\n",
       "      <th>4</th>\n",
       "      <td>J23245+578</td>\n",
       "      <td>BD+57 2735</td>\n",
       "      <td>-</td>\n",
       "      <td>895</td>\n",
       "      <td>351.126628</td>\n",
       "      <td>57.853057</td>\n",
       "      <td>23:24:30.51</td>\n",
       "      <td>+57:51:15.5</td>\n",
       "      <td>111.552287</td>\n",
       "      <td>-3.085183</td>\n",
       "      <td>...</td>\n",
       "      <td>999.999512</td>\n",
       "      <td>3.720858e-06</td>\n",
       "      <td>1.0</td>\n",
       "      <td>1.0</td>\n",
       "      <td>NaN</td>\n",
       "      <td>131.327304</td>\n",
       "      <td>../data/CARM_VIS_TESS_WinFunc_PGs/WF_J23245+57...</td>\n",
       "      <td>../data/CARM_VIS_TESS_WinFunc_PGs/figures/WF_J...</td>\n",
       "      <td>../data/CARM_VIS_RVs_PGs/J23245+578_RV_PG.dat</td>\n",
       "      <td>../data/CARM_VIS_TESS_PGs/J23245+578_RV_PG.dat</td>\n",
       "    </tr>\n",
       "  </tbody>\n",
       "</table>\n",
       "<p>5 rows × 300 columns</p>\n",
       "</div>"
      ],
      "text/plain": [
       "        Karmn             Name Comp    GJ  RA_J2016_deg  DE_J2016_deg  \\\n",
       "0  J23548+385  RX J2354.8+3831    -   NaN    358.713658     38.526340   \n",
       "1  J23505-095       LP 763-012    -  4367    357.634705     -9.560964   \n",
       "2  J23431+365          GJ 1289    -  1289    355.781509     36.536310   \n",
       "3  J23381-162        G 273-093    -  4352    354.532687    -16.236514   \n",
       "4  J23245+578       BD+57 2735    -   895    351.126628     57.853057   \n",
       "\n",
       "      RA_J2000     DE_J2000  l_J2016_deg  b_J2016_deg  ... WF_offset_PG_TESS  \\\n",
       "0  23:54:51.46  +38:31:36.2   110.941908   -23.024449  ...        999.999756   \n",
       "1  23:50:31.64  -09:33:32.7    80.777067   -67.303426  ...       1000.000122   \n",
       "2  23:43:06.31  +36:32:13.1   107.922839   -24.336479  ...        999.999512   \n",
       "3  23:38:08.16  -16:14:10.2    61.845437   -69.825220  ...       1000.000122   \n",
       "4  23:24:30.51  +57:51:15.5   111.552287    -3.085183  ...        999.999512   \n",
       "\n",
       "  WF_e_offset_PG_TESS  WF_FAP_PG_TESS WF_valid_PG_TESS  WF_error_PG_TESS  \\\n",
       "0        2.151008e-06             1.0              1.0               NaN   \n",
       "1        9.022946e-07             1.0              1.0               NaN   \n",
       "2        4.306074e-06             1.0              1.0               NaN   \n",
       "3        9.022946e-07             1.0              1.0               NaN   \n",
       "4        3.720858e-06             1.0              1.0               NaN   \n",
       "\n",
       "   WF_elapsed_time_PG_TESS                                 WF_plain_file_TESS  \\\n",
       "0                94.758838  ../data/CARM_VIS_TESS_WinFunc_PGs/WF_J23548+38...   \n",
       "1               132.607176  ../data/CARM_VIS_TESS_WinFunc_PGs/WF_J23505-09...   \n",
       "2                97.939914  ../data/CARM_VIS_TESS_WinFunc_PGs/WF_J23431+36...   \n",
       "3               136.603404  ../data/CARM_VIS_TESS_WinFunc_PGs/WF_J23381-16...   \n",
       "4               131.327304  ../data/CARM_VIS_TESS_WinFunc_PGs/WF_J23245+57...   \n",
       "\n",
       "                                    WF_fig_file_TESS  \\\n",
       "0  ../data/CARM_VIS_TESS_WinFunc_PGs/figures/WF_J...   \n",
       "1  ../data/CARM_VIS_TESS_WinFunc_PGs/figures/WF_J...   \n",
       "2  ../data/CARM_VIS_TESS_WinFunc_PGs/figures/WF_J...   \n",
       "3  ../data/CARM_VIS_TESS_WinFunc_PGs/figures/WF_J...   \n",
       "4  ../data/CARM_VIS_TESS_WinFunc_PGs/figures/WF_J...   \n",
       "\n",
       "                                      PG_file_RV  \\\n",
       "0  ../data/CARM_VIS_RVs_PGs/J23548+385_RV_PG.dat   \n",
       "1  ../data/CARM_VIS_RVs_PGs/J23505-095_RV_PG.dat   \n",
       "2  ../data/CARM_VIS_RVs_PGs/J23431+365_RV_PG.dat   \n",
       "3  ../data/CARM_VIS_RVs_PGs/J23381-162_RV_PG.dat   \n",
       "4  ../data/CARM_VIS_RVs_PGs/J23245+578_RV_PG.dat   \n",
       "\n",
       "                                     PG_file_TESS  \n",
       "0  ../data/CARM_VIS_TESS_PGs/J23548+385_RV_PG.dat  \n",
       "1  ../data/CARM_VIS_TESS_PGs/J23505-095_RV_PG.dat  \n",
       "2  ../data/CARM_VIS_TESS_PGs/J23431+365_RV_PG.dat  \n",
       "3  ../data/CARM_VIS_TESS_PGs/J23381-162_RV_PG.dat  \n",
       "4  ../data/CARM_VIS_TESS_PGs/J23245+578_RV_PG.dat  \n",
       "\n",
       "[5 rows x 300 columns]"
      ]
     },
     "execution_count": 10,
     "metadata": {},
     "output_type": "execute_result"
    }
   ],
   "source": [
    "# Load GTO data table:\n",
    "gto = pd.read_csv(GTO_FILE, sep=',', decimal='.')\n",
    "gto.head(5)"
   ]
  },
  {
   "cell_type": "code",
   "execution_count": 11,
   "id": "c17dcb96",
   "metadata": {
    "ExecuteTime": {
     "end_time": "2022-11-16T09:21:09.755181Z",
     "start_time": "2022-11-16T09:21:09.749197Z"
    }
   },
   "outputs": [
    {
     "data": {
      "text/plain": [
       "(269, 300)"
      ]
     },
     "execution_count": 11,
     "metadata": {},
     "output_type": "execute_result"
    }
   ],
   "source": [
    "gto.shape"
   ]
  },
  {
   "cell_type": "code",
   "execution_count": 12,
   "id": "2e77fa32",
   "metadata": {
    "ExecuteTime": {
     "end_time": "2022-11-16T09:21:11.903568Z",
     "start_time": "2022-11-16T09:21:11.889605Z"
    }
   },
   "outputs": [
    {
     "name": "stdout",
     "output_type": "stream",
     "text": [
      "['Karmn', 'Name', 'Comp', 'GJ', 'RA_J2016_deg', 'DE_J2016_deg', 'RA_J2000', 'DE_J2000', 'l_J2016_deg', 'b_J2016_deg', 'Ref01', 'SpT', 'SpTnum', 'Ref02', 'Teff_K', 'eTeff_K', 'logg', 'elogg', '[Fe/H]', 'e[Fe/H]', 'Ref03', 'L_Lsol', 'eL_Lsol', 'Ref04', 'R_Rsol', 'eR_Rsol', 'Ref05', 'M_Msol', 'eM_Msol', 'Ref06', 'muRA_masa-1', 'emuRA_masa-1', 'muDE_masa-1', 'emuDE_masa-1', 'Ref07', 'pi_mas', 'epi_mas', 'Ref08', 'd_pc', 'ed_pc', 'Ref09', 'Vr_kms-1', 'eVr_kms-1', 'Ref10', 'ruwe', 'Ref11', 'U_kms-1', 'eU_kms-1', 'V_kms-1', 'eV_kms-1', 'W_kms-1', 'eW_kms-1', 'Ref12', 'sa_m/s/a', 'esa_m/s/a', 'Ref13', 'SKG', 'Ref14', 'SKG_lit', 'Ref14_lit', 'Pop', 'Ref15', 'vsini_flag', 'vsini_kms-1', 'evsini_kms-1', 'Ref16', 'P_d', 'eP_d', 'Ref17', 'pEWHalpha_A', 'epEWHalpha_A', 'Ref18', 'log(LHalpha/Lbol)', 'elog(LHalpha/Lbol)', 'Ref19', '1RXS', 'CRT_s-1', 'eCRT_s-1', 'HR1', 'eHR1', 'HR2', 'eHR2', 'Flux_X_E-13_ergcm-2s-1', 'eFlux_X_E-13_ergcm-2s-1', 'LX/LJ', 'eLX/LJ', 'Ref20', 'Activity', 'Ref21', 'FUV_mag', 'eFUV_mag', 'NUV_mag', 'eNUV_mag', 'Ref22', 'u_mag', 'eu_mag', 'Ref23', 'BT_mag', 'eBT_mag', 'Ref24', 'B_mag', 'eB_mag', 'Ref25', 'BP_mag', 'eBP_mag', 'Ref26', 'g_mag', 'eg_mag', 'Ref27', 'VT_mag', 'eVT_mag', 'Ref28', 'V_mag', 'eV_mag', 'Ref29', 'Ra_mag', 'Ref30', 'r_mag', 'er_mag', 'Ref31', 'GG_mag', 'eGG_mag', 'Ref32', 'i_mag', 'ei_mag', 'Ref33', 'RP_mag', 'eRP_mag', 'Ref34', 'IN_mag', 'Ref35', 'J_mag', 'eJ_mag', 'H_mag', 'eH_mag', 'Ks_mag', 'eKs_mag', 'QFlag_2M', 'Ref36', 'W1_mag', 'eW1_mag', 'W2_mag', 'eW2_mag', 'W3_mag', 'eW3_mag', 'W4_mag', 'eW4_mag', 'QFlag_WISE', 'Ref37', 'Multiplicity', 'WideWDS', 'Widerho_arcsec', 'eWiderho_arcsec', 'Ref38', 'WideCompanionName', 'WideCompanionSpT', 'CloseWDS', 'Closerho_arcsec', 'eCloserho_arcsec', 'Ref39', 'CloseCompanionSpT', 'RV', 'Planet', 'Ref40', 'PlanetNum', 'LoRes_spectrum', 'HiRes_spectrum', 'LoRes_imaging', 'HiRes_imaging', 'Class', 'Survey', 'Notes', 'Gaia_id_1', '2MASS_id', 'TIC_id', 'Teff_min_K', 'Teff_max_K', 'logg_min', 'logg_max', 'is_GTO', 'rv_file', 'lc_file', 'has_rv', 'has_lc', 'InstBand_nominal', 'InstBand_ranged', 'n_RV', 'Ps_RV', 'fs_RV', 'wmean_RV', 'wrms_RV', 'info_PG_RV', 'maxP_PG_RV', 'maxSNR_PG_RV', 'rms_PG_RV', 'f_PG_RV', 'e_f_PG_RV', 'Pd_PG_RV', 'e_Pd_PG_RV', 'Ph_PG_RV', 'e_Ph_PG_RV', 'Pm_PG_RV', 'e_Pm_PG_RV', 'A_PG_RV', 'e_A_PG_RV', 'ph_PG_RV', 'e_ph_PG_RV', 'T0_PG_RV', 'e_T0_PG_RV', 'offset_PG_RV', 'e_offset_PG_RV', 'FAP_PG_RV', 'valid_PG_RV', 'error_PG_RV', 'elapsed_time_PG_RV', 'fits_file_RV', 'fig_file_RV', 'n_TESS', 'Ps_TESS', 'fs_TESS', 'wmean_TESS', 'wrms_TESS', 'info_PG_TESS', 'maxP_PG_TESS', 'maxSNR_PG_TESS', 'rms_PG_TESS', 'f_PG_TESS', 'e_f_PG_TESS', 'Pd_PG_TESS', 'e_Pd_PG_TESS', 'Ph_PG_TESS', 'e_Ph_PG_TESS', 'Pm_PG_TESS', 'e_Pm_PG_TESS', 'A_PG_TESS', 'e_A_PG_TESS', 'ph_PG_TESS', 'e_ph_PG_TESS', 'T0_PG_TESS', 'e_T0_PG_TESS', 'offset_PG_TESS', 'e_offset_PG_TESS', 'FAP_PG_TESS', 'valid_PG_TESS', 'error_PG_TESS', 'elapsed_time_PG_TESS', 'fits_file_TESS', 'fig_file_TESS', 'WF_maxP_PG_RV', 'WF_maxSNR_PG_RV', 'WF_rms_PG_RV', 'WF_f_PG_RV', 'WF_e_f_PG_RV', 'WF_Pd_PG_RV', 'WF_e_Pd_PG_RV', 'WF_Ph_PG_RV', 'WF_e_Ph_PG_RV', 'WF_Pm_PG_RV', 'WF_e_Pm_PG_RV', 'WF_A_PG_RV', 'WF_e_A_PG_RV', 'WF_ph_PG_RV', 'WF_e_ph_PG_RV', 'WF_T0_PG_RV', 'WF_e_T0_PG_RV', 'WF_offset_PG_RV', 'WF_e_offset_PG_RV', 'WF_FAP_PG_RV', 'WF_valid_PG_RV', 'WF_error_PG_RV', 'WF_elapsed_time_PG_RV', 'WF_plain_file_RV', 'WF_fig_file_RV', 'WF_maxP_PG_TESS', 'WF_maxSNR_PG_TESS', 'WF_rms_PG_TESS', 'WF_f_PG_TESS', 'WF_e_f_PG_TESS', 'WF_Pd_PG_TESS', 'WF_e_Pd_PG_TESS', 'WF_Ph_PG_TESS', 'WF_e_Ph_PG_TESS', 'WF_Pm_PG_TESS', 'WF_e_Pm_PG_TESS', 'WF_A_PG_TESS', 'WF_e_A_PG_TESS', 'WF_ph_PG_TESS', 'WF_e_ph_PG_TESS', 'WF_T0_PG_TESS', 'WF_e_T0_PG_TESS', 'WF_offset_PG_TESS', 'WF_e_offset_PG_TESS', 'WF_FAP_PG_TESS', 'WF_valid_PG_TESS', 'WF_error_PG_TESS', 'WF_elapsed_time_PG_TESS', 'WF_plain_file_TESS', 'WF_fig_file_TESS', 'PG_file_RV', 'PG_file_TESS']\n"
     ]
    }
   ],
   "source": [
    "print(list(gto.columns))"
   ]
  },
  {
   "cell_type": "markdown",
   "id": "80e959f3",
   "metadata": {},
   "source": [
    "### Calculate the main sampling parameters for each time series"
   ]
  },
  {
   "cell_type": "code",
   "execution_count": 13,
   "id": "7e5c79eb",
   "metadata": {
    "ExecuteTime": {
     "end_time": "2022-11-16T09:21:18.253700Z",
     "start_time": "2022-11-16T09:21:18.238740Z"
    }
   },
   "outputs": [
    {
     "data": {
      "text/html": [
       "<div>\n",
       "<style scoped>\n",
       "    .dataframe tbody tr th:only-of-type {\n",
       "        vertical-align: middle;\n",
       "    }\n",
       "\n",
       "    .dataframe tbody tr th {\n",
       "        vertical-align: top;\n",
       "    }\n",
       "\n",
       "    .dataframe thead th {\n",
       "        text-align: right;\n",
       "    }\n",
       "</style>\n",
       "<table border=\"1\" class=\"dataframe\">\n",
       "  <thead>\n",
       "    <tr style=\"text-align: right;\">\n",
       "      <th></th>\n",
       "      <th>Karmn</th>\n",
       "      <th>T_obs</th>\n",
       "      <th>delta_t</th>\n",
       "      <th>f_nyq</th>\n",
       "      <th>valid_for_PG</th>\n",
       "    </tr>\n",
       "  </thead>\n",
       "  <tbody>\n",
       "  </tbody>\n",
       "</table>\n",
       "</div>"
      ],
      "text/plain": [
       "Empty DataFrame\n",
       "Columns: [Karmn, T_obs, delta_t, f_nyq, valid_for_PG]\n",
       "Index: []"
      ]
     },
     "execution_count": 13,
     "metadata": {},
     "output_type": "execute_result"
    }
   ],
   "source": [
    "sampling_df = pd.DataFrame(columns=['Karmn', 'T_obs',\n",
    "                                    'delta_t', 'f_nyq',\n",
    "                                    'valid_for_PG'],\n",
    "                           dtype=float)\n",
    "sampling_df"
   ]
  },
  {
   "cell_type": "markdown",
   "id": "0f2a5046",
   "metadata": {},
   "source": [
    "#### Calculate the observation period for each curve"
   ]
  },
  {
   "cell_type": "markdown",
   "id": "4a4dd798",
   "metadata": {},
   "source": [
    "This could be somehow misleading, as many of the TESS light curves are indeed composed by two periods of continuous data points, with a gap between them, and we are taking the overall observation period, without taking into account those gaps.\n",
    "\n",
    "However, this approach allows us to be on the safe side when it comes to choose the spacing of the frequency grid for periodogram analysis, because larger periods of observation forces us to choose even  closer frequency spacings."
   ]
  },
  {
   "cell_type": "code",
   "execution_count": 14,
   "id": "05581c18",
   "metadata": {
    "ExecuteTime": {
     "end_time": "2022-11-16T09:22:12.492348Z",
     "start_time": "2022-11-16T09:21:44.404294Z"
    }
   },
   "outputs": [
    {
     "name": "stderr",
     "output_type": "stream",
     "text": [
      "Warning: 30% (5871/19412) of the cadences will be ignored due to the quality mask (quality_bitmask=175).\n",
      "Warning: 30% (5871/19412) of the cadences will be ignored due to the quality mask (quality_bitmask=175).\n",
      "Warning: 30% (5871/19412) of the cadences will be ignored due to the quality mask (quality_bitmask=175).\n",
      "Warning: 30% (5871/19412) of the cadences will be ignored due to the quality mask (quality_bitmask=175).\n",
      "Warning: 30% (5871/19412) of the cadences will be ignored due to the quality mask (quality_bitmask=175).\n"
     ]
    }
   ],
   "source": [
    "#for i in range(2, 4): # TEST\n",
    "for i in range(0, len(gto)):\n",
    "    karmn = gto.loc[i, 'Karmn']\n",
    "    try:\n",
    "        # Read the TESS LC file:\n",
    "        lc = tess_lc_load(gto.loc[i, 'lc_file'])\n",
    "        # Calculate the observation time:\n",
    "        t_obs = lc.time.max() - lc.time.min()\n",
    "    except:\n",
    "        t_obs = np.nan\n",
    "    # Populate a new row:\n",
    "    # (Is this \"pythonic\"? Using \"loc\" for a row that is not there yet?)\n",
    "    sampling_df.loc[i, 'Karmn'] = karmn\n",
    "    sampling_df.loc[i, 'T_obs'] = t_obs\n",
    "    sampling_df.loc[i, 'valid_for_PG'] = (gto.loc[i, 'valid_PG_RV'] == 1) & \\\n",
    "        (gto.loc[i, 'valid_PG_TESS'] == 1)"
   ]
  },
  {
   "cell_type": "code",
   "execution_count": 15,
   "id": "598bdde4",
   "metadata": {
    "ExecuteTime": {
     "end_time": "2022-11-16T09:22:14.592507Z",
     "start_time": "2022-11-16T09:22:14.574696Z"
    }
   },
   "outputs": [
    {
     "data": {
      "text/plain": [
       "269"
      ]
     },
     "execution_count": 15,
     "metadata": {},
     "output_type": "execute_result"
    }
   ],
   "source": [
    "len(sampling_df)"
   ]
  },
  {
   "cell_type": "code",
   "execution_count": 16,
   "id": "e6703918",
   "metadata": {
    "ExecuteTime": {
     "end_time": "2022-11-16T09:22:16.565821Z",
     "start_time": "2022-11-16T09:22:16.551858Z"
    }
   },
   "outputs": [
    {
     "data": {
      "text/html": [
       "<div>\n",
       "<style scoped>\n",
       "    .dataframe tbody tr th:only-of-type {\n",
       "        vertical-align: middle;\n",
       "    }\n",
       "\n",
       "    .dataframe tbody tr th {\n",
       "        vertical-align: top;\n",
       "    }\n",
       "\n",
       "    .dataframe thead th {\n",
       "        text-align: right;\n",
       "    }\n",
       "</style>\n",
       "<table border=\"1\" class=\"dataframe\">\n",
       "  <thead>\n",
       "    <tr style=\"text-align: right;\">\n",
       "      <th></th>\n",
       "      <th>Karmn</th>\n",
       "      <th>T_obs</th>\n",
       "      <th>delta_t</th>\n",
       "      <th>f_nyq</th>\n",
       "      <th>valid_for_PG</th>\n",
       "    </tr>\n",
       "  </thead>\n",
       "  <tbody>\n",
       "    <tr>\n",
       "      <th>0</th>\n",
       "      <td>J23548+385</td>\n",
       "      <td>23.0302046966292</td>\n",
       "      <td>NaN</td>\n",
       "      <td>NaN</td>\n",
       "      <td>True</td>\n",
       "    </tr>\n",
       "    <tr>\n",
       "      <th>1</th>\n",
       "      <td>J23505-095</td>\n",
       "      <td>27.405986226444384</td>\n",
       "      <td>NaN</td>\n",
       "      <td>NaN</td>\n",
       "      <td>True</td>\n",
       "    </tr>\n",
       "    <tr>\n",
       "      <th>2</th>\n",
       "      <td>J23431+365</td>\n",
       "      <td>22.9884193984758</td>\n",
       "      <td>NaN</td>\n",
       "      <td>NaN</td>\n",
       "      <td>True</td>\n",
       "    </tr>\n",
       "    <tr>\n",
       "      <th>3</th>\n",
       "      <td>J23381-162</td>\n",
       "      <td>27.40572921401008</td>\n",
       "      <td>NaN</td>\n",
       "      <td>NaN</td>\n",
       "      <td>True</td>\n",
       "    </tr>\n",
       "    <tr>\n",
       "      <th>4</th>\n",
       "      <td>J23245+578</td>\n",
       "      <td>26.485023145324476</td>\n",
       "      <td>NaN</td>\n",
       "      <td>NaN</td>\n",
       "      <td>True</td>\n",
       "    </tr>\n",
       "  </tbody>\n",
       "</table>\n",
       "</div>"
      ],
      "text/plain": [
       "        Karmn               T_obs  delta_t  f_nyq valid_for_PG\n",
       "0  J23548+385    23.0302046966292      NaN    NaN         True\n",
       "1  J23505-095  27.405986226444384      NaN    NaN         True\n",
       "2  J23431+365    22.9884193984758      NaN    NaN         True\n",
       "3  J23381-162   27.40572921401008      NaN    NaN         True\n",
       "4  J23245+578  26.485023145324476      NaN    NaN         True"
      ]
     },
     "execution_count": 16,
     "metadata": {},
     "output_type": "execute_result"
    }
   ],
   "source": [
    "sampling_df.head()"
   ]
  },
  {
   "cell_type": "code",
   "execution_count": 17,
   "id": "1703713a",
   "metadata": {
    "ExecuteTime": {
     "end_time": "2022-11-16T09:22:20.112705Z",
     "start_time": "2022-11-16T09:22:20.098823Z"
    }
   },
   "outputs": [
    {
     "data": {
      "text/plain": [
       "Karmn            object\n",
       "T_obs            object\n",
       "delta_t         float64\n",
       "f_nyq           float64\n",
       "valid_for_PG     object\n",
       "dtype: object"
      ]
     },
     "execution_count": 17,
     "metadata": {},
     "output_type": "execute_result"
    }
   ],
   "source": [
    "sampling_df.dtypes"
   ]
  },
  {
   "cell_type": "markdown",
   "id": "efba6cf3",
   "metadata": {},
   "source": [
    "Convert the time deltas to values:"
   ]
  },
  {
   "cell_type": "code",
   "execution_count": 18,
   "id": "21120fe2",
   "metadata": {
    "ExecuteTime": {
     "end_time": "2022-11-16T09:22:23.942923Z",
     "start_time": "2022-11-16T09:22:23.924783Z"
    }
   },
   "outputs": [],
   "source": [
    "sampling_df['T_obs'] = sampling_df['T_obs'] \\\n",
    "    .map(lambda x: x.value if isinstance(x, TimeDelta) else float(x))\n",
    "sampling_df['T_obs'] = sampling_df['T_obs'].astype(float)"
   ]
  },
  {
   "cell_type": "code",
   "execution_count": 19,
   "id": "667375e2",
   "metadata": {
    "ExecuteTime": {
     "end_time": "2022-11-16T09:22:25.906700Z",
     "start_time": "2022-11-16T09:22:25.891740Z"
    }
   },
   "outputs": [
    {
     "data": {
      "text/plain": [
       "Karmn            object\n",
       "T_obs           float64\n",
       "delta_t         float64\n",
       "f_nyq           float64\n",
       "valid_for_PG     object\n",
       "dtype: object"
      ]
     },
     "execution_count": 19,
     "metadata": {},
     "output_type": "execute_result"
    }
   ],
   "source": [
    "sampling_df.dtypes"
   ]
  },
  {
   "cell_type": "code",
   "execution_count": 20,
   "id": "b6679554",
   "metadata": {
    "ExecuteTime": {
     "end_time": "2022-11-16T09:22:30.588381Z",
     "start_time": "2022-11-16T09:22:30.569431Z"
    }
   },
   "outputs": [
    {
     "data": {
      "text/html": [
       "<div>\n",
       "<style scoped>\n",
       "    .dataframe tbody tr th:only-of-type {\n",
       "        vertical-align: middle;\n",
       "    }\n",
       "\n",
       "    .dataframe tbody tr th {\n",
       "        vertical-align: top;\n",
       "    }\n",
       "\n",
       "    .dataframe thead th {\n",
       "        text-align: right;\n",
       "    }\n",
       "</style>\n",
       "<table border=\"1\" class=\"dataframe\">\n",
       "  <thead>\n",
       "    <tr style=\"text-align: right;\">\n",
       "      <th></th>\n",
       "      <th>T_obs</th>\n",
       "    </tr>\n",
       "  </thead>\n",
       "  <tbody>\n",
       "    <tr>\n",
       "      <th>count</th>\n",
       "      <td>269.000000</td>\n",
       "    </tr>\n",
       "    <tr>\n",
       "      <th>mean</th>\n",
       "      <td>24.923213</td>\n",
       "    </tr>\n",
       "    <tr>\n",
       "      <th>std</th>\n",
       "      <td>1.626958</td>\n",
       "    </tr>\n",
       "    <tr>\n",
       "      <th>min</th>\n",
       "      <td>20.277481</td>\n",
       "    </tr>\n",
       "    <tr>\n",
       "      <th>25%</th>\n",
       "      <td>23.807982</td>\n",
       "    </tr>\n",
       "    <tr>\n",
       "      <th>50%</th>\n",
       "      <td>24.867013</td>\n",
       "    </tr>\n",
       "    <tr>\n",
       "      <th>75%</th>\n",
       "      <td>26.318173</td>\n",
       "    </tr>\n",
       "    <tr>\n",
       "      <th>max</th>\n",
       "      <td>27.417075</td>\n",
       "    </tr>\n",
       "  </tbody>\n",
       "</table>\n",
       "</div>"
      ],
      "text/plain": [
       "            T_obs\n",
       "count  269.000000\n",
       "mean    24.923213\n",
       "std      1.626958\n",
       "min     20.277481\n",
       "25%     23.807982\n",
       "50%     24.867013\n",
       "75%     26.318173\n",
       "max     27.417075"
      ]
     },
     "execution_count": 20,
     "metadata": {},
     "output_type": "execute_result"
    }
   ],
   "source": [
    "sampling_df[['T_obs']].describe()"
   ]
  },
  {
   "cell_type": "markdown",
   "id": "36482d02",
   "metadata": {},
   "source": [
    "#### Forcing sampling period to its fixed (and almost unique) value"
   ]
  },
  {
   "cell_type": "markdown",
   "id": "26ffdad9",
   "metadata": {},
   "source": [
    "In this case, as opposed to the RV time series case, we just take a fixed value for the sampling period in TESS light curves, set to $0.001389\\;d$, ignoring the very few exceptions to this rule found in that database."
   ]
  },
  {
   "cell_type": "code",
   "execution_count": 21,
   "id": "cb7a267d",
   "metadata": {
    "ExecuteTime": {
     "end_time": "2022-11-16T09:22:56.530498Z",
     "start_time": "2022-11-16T09:22:56.520527Z"
    }
   },
   "outputs": [],
   "source": [
    "sampling_df['delta_t'] = 0.001389\n",
    "sampling_df.loc[sampling_df['T_obs'].isna(), 'delta_t'] = np.nan"
   ]
  },
  {
   "cell_type": "code",
   "execution_count": 22,
   "id": "c499e42f",
   "metadata": {
    "ExecuteTime": {
     "end_time": "2022-11-16T09:22:58.785383Z",
     "start_time": "2022-11-16T09:22:58.775410Z"
    }
   },
   "outputs": [
    {
     "data": {
      "text/html": [
       "<div>\n",
       "<style scoped>\n",
       "    .dataframe tbody tr th:only-of-type {\n",
       "        vertical-align: middle;\n",
       "    }\n",
       "\n",
       "    .dataframe tbody tr th {\n",
       "        vertical-align: top;\n",
       "    }\n",
       "\n",
       "    .dataframe thead th {\n",
       "        text-align: right;\n",
       "    }\n",
       "</style>\n",
       "<table border=\"1\" class=\"dataframe\">\n",
       "  <thead>\n",
       "    <tr style=\"text-align: right;\">\n",
       "      <th></th>\n",
       "      <th>Karmn</th>\n",
       "      <th>T_obs</th>\n",
       "      <th>delta_t</th>\n",
       "      <th>f_nyq</th>\n",
       "      <th>valid_for_PG</th>\n",
       "    </tr>\n",
       "  </thead>\n",
       "  <tbody>\n",
       "    <tr>\n",
       "      <th>0</th>\n",
       "      <td>J23548+385</td>\n",
       "      <td>23.030205</td>\n",
       "      <td>0.001389</td>\n",
       "      <td>NaN</td>\n",
       "      <td>True</td>\n",
       "    </tr>\n",
       "    <tr>\n",
       "      <th>1</th>\n",
       "      <td>J23505-095</td>\n",
       "      <td>27.405986</td>\n",
       "      <td>0.001389</td>\n",
       "      <td>NaN</td>\n",
       "      <td>True</td>\n",
       "    </tr>\n",
       "    <tr>\n",
       "      <th>2</th>\n",
       "      <td>J23431+365</td>\n",
       "      <td>22.988419</td>\n",
       "      <td>0.001389</td>\n",
       "      <td>NaN</td>\n",
       "      <td>True</td>\n",
       "    </tr>\n",
       "    <tr>\n",
       "      <th>3</th>\n",
       "      <td>J23381-162</td>\n",
       "      <td>27.405729</td>\n",
       "      <td>0.001389</td>\n",
       "      <td>NaN</td>\n",
       "      <td>True</td>\n",
       "    </tr>\n",
       "    <tr>\n",
       "      <th>4</th>\n",
       "      <td>J23245+578</td>\n",
       "      <td>26.485023</td>\n",
       "      <td>0.001389</td>\n",
       "      <td>NaN</td>\n",
       "      <td>True</td>\n",
       "    </tr>\n",
       "  </tbody>\n",
       "</table>\n",
       "</div>"
      ],
      "text/plain": [
       "        Karmn      T_obs   delta_t  f_nyq valid_for_PG\n",
       "0  J23548+385  23.030205  0.001389    NaN         True\n",
       "1  J23505-095  27.405986  0.001389    NaN         True\n",
       "2  J23431+365  22.988419  0.001389    NaN         True\n",
       "3  J23381-162  27.405729  0.001389    NaN         True\n",
       "4  J23245+578  26.485023  0.001389    NaN         True"
      ]
     },
     "execution_count": 22,
     "metadata": {},
     "output_type": "execute_result"
    }
   ],
   "source": [
    "sampling_df.head()\n"
   ]
  },
  {
   "cell_type": "markdown",
   "id": "3bccb8ca",
   "metadata": {},
   "source": [
    "#### Calculate the Nyquist frequencies"
   ]
  },
  {
   "cell_type": "code",
   "execution_count": 23,
   "id": "36051621",
   "metadata": {
    "ExecuteTime": {
     "end_time": "2022-11-16T09:23:11.002580Z",
     "start_time": "2022-11-16T09:23:10.972431Z"
    }
   },
   "outputs": [
    {
     "data": {
      "text/html": [
       "<div>\n",
       "<style scoped>\n",
       "    .dataframe tbody tr th:only-of-type {\n",
       "        vertical-align: middle;\n",
       "    }\n",
       "\n",
       "    .dataframe tbody tr th {\n",
       "        vertical-align: top;\n",
       "    }\n",
       "\n",
       "    .dataframe thead th {\n",
       "        text-align: right;\n",
       "    }\n",
       "</style>\n",
       "<table border=\"1\" class=\"dataframe\">\n",
       "  <thead>\n",
       "    <tr style=\"text-align: right;\">\n",
       "      <th></th>\n",
       "      <th>Karmn</th>\n",
       "      <th>T_obs</th>\n",
       "      <th>delta_t</th>\n",
       "      <th>f_nyq</th>\n",
       "      <th>valid_for_PG</th>\n",
       "    </tr>\n",
       "  </thead>\n",
       "  <tbody>\n",
       "    <tr>\n",
       "      <th>0</th>\n",
       "      <td>J23548+385</td>\n",
       "      <td>23.030205</td>\n",
       "      <td>0.001389</td>\n",
       "      <td>359.971202</td>\n",
       "      <td>True</td>\n",
       "    </tr>\n",
       "    <tr>\n",
       "      <th>1</th>\n",
       "      <td>J23505-095</td>\n",
       "      <td>27.405986</td>\n",
       "      <td>0.001389</td>\n",
       "      <td>359.971202</td>\n",
       "      <td>True</td>\n",
       "    </tr>\n",
       "    <tr>\n",
       "      <th>2</th>\n",
       "      <td>J23431+365</td>\n",
       "      <td>22.988419</td>\n",
       "      <td>0.001389</td>\n",
       "      <td>359.971202</td>\n",
       "      <td>True</td>\n",
       "    </tr>\n",
       "    <tr>\n",
       "      <th>3</th>\n",
       "      <td>J23381-162</td>\n",
       "      <td>27.405729</td>\n",
       "      <td>0.001389</td>\n",
       "      <td>359.971202</td>\n",
       "      <td>True</td>\n",
       "    </tr>\n",
       "    <tr>\n",
       "      <th>4</th>\n",
       "      <td>J23245+578</td>\n",
       "      <td>26.485023</td>\n",
       "      <td>0.001389</td>\n",
       "      <td>359.971202</td>\n",
       "      <td>True</td>\n",
       "    </tr>\n",
       "  </tbody>\n",
       "</table>\n",
       "</div>"
      ],
      "text/plain": [
       "        Karmn      T_obs   delta_t       f_nyq valid_for_PG\n",
       "0  J23548+385  23.030205  0.001389  359.971202         True\n",
       "1  J23505-095  27.405986  0.001389  359.971202         True\n",
       "2  J23431+365  22.988419  0.001389  359.971202         True\n",
       "3  J23381-162  27.405729  0.001389  359.971202         True\n",
       "4  J23245+578  26.485023  0.001389  359.971202         True"
      ]
     },
     "execution_count": 23,
     "metadata": {},
     "output_type": "execute_result"
    }
   ],
   "source": [
    "sampling_df['f_nyq'] = 1.0 / (2.0 * sampling_df['delta_t'])\n",
    "sampling_df.head()"
   ]
  },
  {
   "cell_type": "markdown",
   "id": "5bb17f47",
   "metadata": {
    "ExecuteTime": {
     "end_time": "2022-09-06T09:13:58.224036Z",
     "start_time": "2022-09-06T09:13:58.211665Z"
    }
   },
   "source": [
    "#### Statistics"
   ]
  },
  {
   "cell_type": "code",
   "execution_count": 24,
   "id": "d62848af",
   "metadata": {
    "ExecuteTime": {
     "end_time": "2022-11-16T09:23:13.290643Z",
     "start_time": "2022-11-16T09:23:13.263409Z"
    }
   },
   "outputs": [
    {
     "data": {
      "text/html": [
       "<div>\n",
       "<style scoped>\n",
       "    .dataframe tbody tr th:only-of-type {\n",
       "        vertical-align: middle;\n",
       "    }\n",
       "\n",
       "    .dataframe tbody tr th {\n",
       "        vertical-align: top;\n",
       "    }\n",
       "\n",
       "    .dataframe thead th {\n",
       "        text-align: right;\n",
       "    }\n",
       "</style>\n",
       "<table border=\"1\" class=\"dataframe\">\n",
       "  <thead>\n",
       "    <tr style=\"text-align: right;\">\n",
       "      <th></th>\n",
       "      <th>T_obs</th>\n",
       "      <th>delta_t</th>\n",
       "      <th>f_nyq</th>\n",
       "    </tr>\n",
       "  </thead>\n",
       "  <tbody>\n",
       "    <tr>\n",
       "      <th>count</th>\n",
       "      <td>269.000000</td>\n",
       "      <td>2.690000e+02</td>\n",
       "      <td>2.690000e+02</td>\n",
       "    </tr>\n",
       "    <tr>\n",
       "      <th>mean</th>\n",
       "      <td>24.923213</td>\n",
       "      <td>1.389000e-03</td>\n",
       "      <td>3.599712e+02</td>\n",
       "    </tr>\n",
       "    <tr>\n",
       "      <th>std</th>\n",
       "      <td>1.626958</td>\n",
       "      <td>8.038051e-18</td>\n",
       "      <td>1.138987e-13</td>\n",
       "    </tr>\n",
       "    <tr>\n",
       "      <th>min</th>\n",
       "      <td>20.277481</td>\n",
       "      <td>1.389000e-03</td>\n",
       "      <td>3.599712e+02</td>\n",
       "    </tr>\n",
       "    <tr>\n",
       "      <th>25%</th>\n",
       "      <td>23.807982</td>\n",
       "      <td>1.389000e-03</td>\n",
       "      <td>3.599712e+02</td>\n",
       "    </tr>\n",
       "    <tr>\n",
       "      <th>50%</th>\n",
       "      <td>24.867013</td>\n",
       "      <td>1.389000e-03</td>\n",
       "      <td>3.599712e+02</td>\n",
       "    </tr>\n",
       "    <tr>\n",
       "      <th>75%</th>\n",
       "      <td>26.318173</td>\n",
       "      <td>1.389000e-03</td>\n",
       "      <td>3.599712e+02</td>\n",
       "    </tr>\n",
       "    <tr>\n",
       "      <th>max</th>\n",
       "      <td>27.417075</td>\n",
       "      <td>1.389000e-03</td>\n",
       "      <td>3.599712e+02</td>\n",
       "    </tr>\n",
       "  </tbody>\n",
       "</table>\n",
       "</div>"
      ],
      "text/plain": [
       "            T_obs       delta_t         f_nyq\n",
       "count  269.000000  2.690000e+02  2.690000e+02\n",
       "mean    24.923213  1.389000e-03  3.599712e+02\n",
       "std      1.626958  8.038051e-18  1.138987e-13\n",
       "min     20.277481  1.389000e-03  3.599712e+02\n",
       "25%     23.807982  1.389000e-03  3.599712e+02\n",
       "50%     24.867013  1.389000e-03  3.599712e+02\n",
       "75%     26.318173  1.389000e-03  3.599712e+02\n",
       "max     27.417075  1.389000e-03  3.599712e+02"
      ]
     },
     "execution_count": 24,
     "metadata": {},
     "output_type": "execute_result"
    }
   ],
   "source": [
    "sampling_df.describe()"
   ]
  },
  {
   "cell_type": "markdown",
   "id": "d943d187",
   "metadata": {},
   "source": [
    "In this TESS case, the Nyquist frequency for all the samples is above the expected pulsation frequency range of $f_{Pulsation}\\in[8.0,\\;72.0]\\;d^{-1}$ and even of the frequency range of calculation chosen of $f\\in[2.4,\\;288.0]\\;d^{-1}$.\n",
    "\n",
    "Hence, TESS curves should be fine to detect the searched for pulsation frequencies, if present. The problem will probably lie with the very low power amplitude of those detected frequencies, which should be solved by the stacked periodogram."
   ]
  },
  {
   "cell_type": "markdown",
   "id": "9ba3275f",
   "metadata": {},
   "source": [
    "### Calculate the minimum frequency grid spacing"
   ]
  },
  {
   "cell_type": "code",
   "execution_count": 25,
   "id": "944ab3a2",
   "metadata": {
    "ExecuteTime": {
     "end_time": "2022-11-16T09:34:55.738983Z",
     "start_time": "2022-11-16T09:34:55.721027Z"
    }
   },
   "outputs": [
    {
     "data": {
      "text/plain": [
       "27.417074908569248"
      ]
     },
     "execution_count": 25,
     "metadata": {},
     "output_type": "execute_result"
    }
   ],
   "source": [
    "max_T = np.nanmax(sampling_df['T_obs'])\n",
    "max_T"
   ]
  },
  {
   "cell_type": "code",
   "execution_count": 26,
   "id": "2278634b",
   "metadata": {
    "ExecuteTime": {
     "end_time": "2022-11-16T09:34:57.663150Z",
     "start_time": "2022-11-16T09:34:57.658163Z"
    }
   },
   "outputs": [
    {
     "name": "stdout",
     "output_type": "stream",
     "text": [
      "Frequency grid spacing must be smaller than 0.003647 d^(-1)\n"
     ]
    }
   ],
   "source": [
    "delta_f = 1.0 / (N0 * max_T)\n",
    "print(\"Frequency grid spacing must be smaller than %f d^(-1)\" %delta_f)"
   ]
  },
  {
   "cell_type": "markdown",
   "id": "e86e741b",
   "metadata": {},
   "source": [
    "Hence, about a 0.003 frequency grid spacing should do well:"
   ]
  },
  {
   "cell_type": "code",
   "execution_count": 27,
   "id": "141ee990",
   "metadata": {
    "ExecuteTime": {
     "end_time": "2022-11-16T09:35:02.392629Z",
     "start_time": "2022-11-16T09:35:02.388640Z"
    }
   },
   "outputs": [
    {
     "name": "stdout",
     "output_type": "stream",
     "text": [
      "Estimated number of points for each periodogram: 95200\n"
     ]
    }
   ],
   "source": [
    "n = int((288.0 - 2.4) / 0.003)\n",
    "print(\"Estimated number of points for each periodogram: %d\" %n)"
   ]
  },
  {
   "cell_type": "markdown",
   "id": "75998842",
   "metadata": {},
   "source": [
    "This is $\\approx95000$ points for each periodogram, which seems reasonable, althougn in this case of TESS LC, the number of time points is much larger than in the case of RV time series, so calculation will also take time, probably."
   ]
  },
  {
   "cell_type": "markdown",
   "id": "5adf9fc2",
   "metadata": {},
   "source": [
    "### Checking of the Nyquist criteria"
   ]
  },
  {
   "cell_type": "markdown",
   "id": "160b2270",
   "metadata": {},
   "source": [
    "As we saw, we assumed the same Nyquist frequency for all the curves."
   ]
  },
  {
   "cell_type": "code",
   "execution_count": 28,
   "id": "b51073b1",
   "metadata": {
    "ExecuteTime": {
     "end_time": "2022-11-16T09:35:09.982928Z",
     "start_time": "2022-11-16T09:35:09.961559Z"
    }
   },
   "outputs": [
    {
     "data": {
      "text/html": [
       "<div>\n",
       "<style scoped>\n",
       "    .dataframe tbody tr th:only-of-type {\n",
       "        vertical-align: middle;\n",
       "    }\n",
       "\n",
       "    .dataframe tbody tr th {\n",
       "        vertical-align: top;\n",
       "    }\n",
       "\n",
       "    .dataframe thead th {\n",
       "        text-align: right;\n",
       "    }\n",
       "</style>\n",
       "<table border=\"1\" class=\"dataframe\">\n",
       "  <thead>\n",
       "    <tr style=\"text-align: right;\">\n",
       "      <th></th>\n",
       "      <th>f_nyq</th>\n",
       "    </tr>\n",
       "  </thead>\n",
       "  <tbody>\n",
       "    <tr>\n",
       "      <th>count</th>\n",
       "      <td>2.690000e+02</td>\n",
       "    </tr>\n",
       "    <tr>\n",
       "      <th>mean</th>\n",
       "      <td>3.599712e+02</td>\n",
       "    </tr>\n",
       "    <tr>\n",
       "      <th>std</th>\n",
       "      <td>1.138987e-13</td>\n",
       "    </tr>\n",
       "    <tr>\n",
       "      <th>min</th>\n",
       "      <td>3.599712e+02</td>\n",
       "    </tr>\n",
       "    <tr>\n",
       "      <th>25%</th>\n",
       "      <td>3.599712e+02</td>\n",
       "    </tr>\n",
       "    <tr>\n",
       "      <th>50%</th>\n",
       "      <td>3.599712e+02</td>\n",
       "    </tr>\n",
       "    <tr>\n",
       "      <th>75%</th>\n",
       "      <td>3.599712e+02</td>\n",
       "    </tr>\n",
       "    <tr>\n",
       "      <th>max</th>\n",
       "      <td>3.599712e+02</td>\n",
       "    </tr>\n",
       "  </tbody>\n",
       "</table>\n",
       "</div>"
      ],
      "text/plain": [
       "              f_nyq\n",
       "count  2.690000e+02\n",
       "mean   3.599712e+02\n",
       "std    1.138987e-13\n",
       "min    3.599712e+02\n",
       "25%    3.599712e+02\n",
       "50%    3.599712e+02\n",
       "75%    3.599712e+02\n",
       "max    3.599712e+02"
      ]
     },
     "execution_count": 28,
     "metadata": {},
     "output_type": "execute_result"
    }
   ],
   "source": [
    "sampling_df[['f_nyq']].describe()"
   ]
  },
  {
   "cell_type": "markdown",
   "id": "9ea63c8b",
   "metadata": {},
   "source": [
    "We see that the Nyquist frequency is $\\approx359\\;d^{-1}$. This Nyquist frequency is above the searched for range of $f\\in[288.0, 2.4] d^{-1}$, so ideally _TESS_ light curves should be appropriate to do a periodogram analysis, and could serve as a benchmark for the results of periodogram analysis over the RV time series."
   ]
  },
  {
   "cell_type": "markdown",
   "id": "4fe95649",
   "metadata": {},
   "source": [
    "# Summary"
   ]
  },
  {
   "cell_type": "markdown",
   "id": "9c14f82f",
   "metadata": {},
   "source": [
    "**OBSERVATIONS AND CONCLUSIONS:**\n",
    "- For the TESS LC periodogram calculations, we will set:\n",
    "  - A lower frequency of $2.4\\;d^{-1}$.\n",
    "  - An upper frequency of $288.0\\;d^{-1}$.\n",
    "  - A grid spacing of $0.003\\;d^{-1}$. This would yield a total of 95200 frequency points to calculate for each periodogram.\n",
    "- Also, we have seen that the Nyquist frequency of $\\approx359\\;d^{-1}$ is above the frequency range to be considered, so _TESS_ light curves should be more appropriate for a peeriodogram analysis."
   ]
  },
  {
   "cell_type": "code",
   "execution_count": null,
   "id": "b6a548c3",
   "metadata": {},
   "outputs": [],
   "source": []
  }
 ],
 "metadata": {
  "kernelspec": {
   "display_name": "Python 3",
   "language": "python",
   "name": "python3"
  },
  "language_info": {
   "codemirror_mode": {
    "name": "ipython",
    "version": 3
   },
   "file_extension": ".py",
   "mimetype": "text/x-python",
   "name": "python",
   "nbconvert_exporter": "python",
   "pygments_lexer": "ipython3",
   "version": "3.8.8"
  },
  "latex_envs": {
   "LaTeX_envs_menu_present": true,
   "autoclose": false,
   "autocomplete": true,
   "bibliofile": "biblio.bib",
   "cite_by": "apalike",
   "current_citInitial": 1,
   "eqLabelWithNumbers": true,
   "eqNumInitial": 1,
   "hotkeys": {
    "equation": "Ctrl-E",
    "itemize": "Ctrl-I"
   },
   "labels_anchors": false,
   "latex_user_defs": false,
   "report_style_numbering": false,
   "user_envs_cfg": false
  },
  "toc": {
   "base_numbering": 1,
   "nav_menu": {},
   "number_sections": true,
   "sideBar": true,
   "skip_h1_title": true,
   "title_cell": "Table of Contents",
   "title_sidebar": "Contents",
   "toc_cell": false,
   "toc_position": {
    "height": "757px",
    "left": "66px",
    "top": "111.125px",
    "width": "292.797px"
   },
   "toc_section_display": true,
   "toc_window_display": true
  }
 },
 "nbformat": 4,
 "nbformat_minor": 5
}
