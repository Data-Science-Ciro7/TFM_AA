{
 "cells": [
  {
   "cell_type": "markdown",
   "id": "7e41b9a9",
   "metadata": {},
   "source": [
    "# PoC - RV FILE PROCESSING"
   ]
  },
  {
   "cell_type": "markdown",
   "id": "26c80d04",
   "metadata": {},
   "source": [
    "**IMPORTANT NOTE:** changed locally line 499 from `gls.py` from https://github.com/mzechmeister/GLS/blob/master/python/gls.py (accessed 2023/02/18), for compatibility with Matplotlib 3.4 (as per https://github.com/raysect/source/issues/383#issue-848246478)\n",
    "\n",
    "<<< fig.canvas.set_window_title('GLS periodogram') \n",
    "\n",
    "\\>>> fig.canvas.manager.set_window_title('GLS periodogram')"
   ]
  },
  {
   "cell_type": "markdown",
   "id": "d5087d56",
   "metadata": {},
   "source": [
    "This notebook uses the `Gls` class to calculate and manage the Lomb-Scargle periodogram for a given RV curve.<<"
   ]
  },
  {
   "cell_type": "markdown",
   "id": "f1b951f9",
   "metadata": {},
   "source": [
    "We will generate and store the file in a `fits` file, containing a main header and 2 _HDUs_:\n",
    "\n",
    "- Header:\n",
    "    - Object name (OBJECT = (KARMENES name))\n",
    "    - Object common name (NAME = (Object common name) or None).\n",
    "    - Object TIC id (TIC = (TESS identifier) or None).\n",
    "    - Object right ascension, J2000 (RA_J2000 = 'RA_J2000')\n",
    "    - Object declination, J2000 (DE_J2000 = 'DE_J2000')\n",
    "    - Spectral type (SPTYPE = 'SpT')\n",
    "    - Effective temperature in Kelvin (TEFF_K = 'Teff_K')\n",
    "    - Logarithm of surface gravity (LOGG = 'logg')\n",
    "    - Metallicity (FEH = '\\[FeH\\]'\n",
    "    - Luminosity compared to Sun's (L_LSUN = 'L_Lsol')\n",
    "    - Radius compared to Sun's (R_RSUN = 'R_Rsol')\n",
    "    - Mass compared to Sun's (M_MSUN = 'M_Msol')\n",
    "    - Distance in parsec (D_PC = 'd_pc')\n",
    "- HDU 1:\n",
    "  - Data - The light curve, three columns:\n",
    "    - time\n",
    "    - flux\n",
    "    - flux_err\n",
    "  - Header - Must include at least the following values:\n",
    "    - Object KARMENES name (OBJECT = (KARMENES name)).\n",
    "    - Time units (PUNIT = u.d).\n",
    "    - Frequency units (FUNIT = 1 / u.d).\n",
    "    - Number of points in the light curve (RVPOINTS = gls.N).\n",
    "    - Mean of RV (AGVFLUX = gls.\\_Y)\n",
    "    - RMS of RV (RMSFLUX = gls.\\_YY).\n",
    "    - Sampling period (the median of the difference values) (PSAMPLE = (calculated value)).\n",
    "    - Sampling frequency (FSAMPLE = (1.0 / PSAMPLE).\n",
    "    - Nyquist frequency (FNYQUIST = 0.5 * FSAMPLE).\n",
    "- HDU 2:\n",
    "  - Data - The calculated periodogram of the light curve, two columns:\n",
    "    - freq\n",
    "    - power\n",
    "  - Header - Must include at least the following values:\n",
    "    - Object KARMENES name (OBJECT = (KARMENES name).\n",
    "    - Frequency units (FUNIT = 1 / u.d).\n",
    "    - Period units (PUNIT = u.d).\n",
    "    - Peak frequency (PK_FREQ = gls.best.e\\_f).\n",
    "    - Peak power (PK_POWER = gls.pmax).\n",
    "    - Peak SNR (PK_SNR = BEST_A / gls.rms)\n",
    "    - RMS of residuals (RES_RMS = gls.rms).\n",
    "    - Sampling frequency (FSAMPLE = (1.0 / PSAMPLE)).\n",
    "    - Nyquist frequency (FNYQUIST = 0.5 * FSAMPLE).\n",
    "    - Number of frequency points (FPOINTS = (as chosen))\n",
    "    - Start frequency (FBEG = gls.fbeg).\n",
    "    - End frequency (FEND = gls.fend).\n",
    "    - Frequency resolution (FRES = (calculated)).\n",
    "    - Best frequency (F = gls.best.f).\n",
    "    - Best frequency error (E_F = gls.best.e\\_f).\n",
    "    - Best period (P = gls.best.P).\n",
    "    - Best period error (E_P = gls.best.e\\_P).\n",
    "    - Best amplitude (A = gls.best.A).\n",
    "    - Best amplitude error (E_A = gls.best.e\\_A).\n",
    "    - Best phase (PH = gls.best.ph).\n",
    "    - Best phase error (E_PH = gls.best.e\\_ph).\n",
    "    - Best reference epoch (T0 = gls.best.T0).\n",
    "    - Best reference epoch error (E_T0 = gls.best.e\\_T0).\n",
    "    - Best offset (OFF = gls.best.offset).\n",
    "    - Best offset error (E_OFF = gls.best.e\\_offset).\n",
    "    - Oversampling factor (OFAC = gls.ofac).\n",
    "    - Maximum frequency factor (HIFAC = gls.hifac).\n",
    "    - Normalization value (FNORM = gls.norm).\n",
    "    - Lomb-Scargle calculation (i.e. not GLS) (LS = gls.ls (as chosen)).\n",
    "    - Fast, recursive trigonometric calculations (FAST = gsl.fast (as chosen)).\n"
   ]
  },
  {
   "cell_type": "markdown",
   "id": "9d4512e5",
   "metadata": {},
   "source": [
    "## Modules and configuration"
   ]
  },
  {
   "cell_type": "markdown",
   "id": "a24b300e",
   "metadata": {},
   "source": [
    "### Modules"
   ]
  },
  {
   "cell_type": "code",
   "execution_count": 1,
   "id": "bf7cc337",
   "metadata": {
    "ExecuteTime": {
     "end_time": "2023-03-21T17:59:37.497955Z",
     "start_time": "2023-03-21T17:59:33.828451Z"
    }
   },
   "outputs": [],
   "source": [
    "# Modules import:\n",
    "from collections import OrderedDict\n",
    "import pandas as pd\n",
    "\n",
    "# https://github.com/mzechmeister/GLS\n",
    "from gls import Gls\n",
    "\n",
    "import numpy as np\n",
    "\n",
    "from scipy import stats\n",
    "\n",
    "from astropy.table import Table, QTable\n",
    "from astropy.timeseries import TimeSeries\n",
    "from astropy import units as u\n",
    "from astropy.time import Time\n",
    "from astropy.io import fits\n",
    "\n",
    "import lightkurve as lk\n",
    "\n",
    "%matplotlib inline\n",
    "import matplotlib.pyplot as plt\n",
    "\n",
    "from pylab import rcParams\n",
    "rcParams['figure.figsize'] = 11, 11\n",
    "\n",
    "#import seaborn as sns\n",
    "#sns.set_style(\"white\", {'figure.figsize':(15,10)})\n",
    "#sns.set_style(\"whitegrid\")\n",
    "#sns.set(rc={'figure.figsize':(15,8)})"
   ]
  },
  {
   "cell_type": "markdown",
   "id": "be1f4594",
   "metadata": {},
   "source": [
    "### Configuration"
   ]
  },
  {
   "cell_type": "code",
   "execution_count": 2,
   "id": "f3feca3c",
   "metadata": {
    "ExecuteTime": {
     "end_time": "2023-03-21T17:59:37.513913Z",
     "start_time": "2023-03-21T17:59:37.499951Z"
    }
   },
   "outputs": [],
   "source": [
    "# Configuration:\n",
    "DATA_FILE = \"../data/GTO_objects.csv\"\n",
    "# Files:\n",
    "RV_INPUT_FILE = \"../data/CARM_VIS_RVs/J00051+457.avc.dat\"\n",
    "\n",
    "PG_OUT_FILE = \"../data/CARM_VIS_RVs_PGs/ETL_25_01_Test_RV_and_PG.fits\"\n",
    "IMAGE_RV_OUT = \"./img/ETL_25_02_Test_Graph_Radial_velocity_curve.png\"\n"
   ]
  },
  {
   "cell_type": "code",
   "execution_count": 3,
   "id": "39b60e99",
   "metadata": {
    "ExecuteTime": {
     "end_time": "2023-03-21T17:59:37.529870Z",
     "start_time": "2023-03-21T17:59:37.514909Z"
    }
   },
   "outputs": [],
   "source": [
    "def rv_load(filename: str):\n",
    "    '''Load the RV file and returns a lightcurve object'''\n",
    "    rv_lk = Table.read(filename, format='ascii',\n",
    "                    names = ['time', 'RV', 'eRV'], units=[u.d, u.meter / u.second, u.meter / u.second])\n",
    "    rv_lk = lk.LightCurve(time=rv_lk['time'], flux=rv_lk['RV'], flux_err=rv_lk['eRV'])\n",
    "    return rv_lk"
   ]
  },
  {
   "cell_type": "raw",
   "id": "d119a713",
   "metadata": {
    "ExecuteTime": {
     "end_time": "2022-03-04T19:12:01.155528Z",
     "start_time": "2022-03-04T19:12:01.140564Z"
    }
   },
   "source": [
    "def rv_set_keywords(rv_lk: lk.LightCurve, keys_dict: dict):\n",
    "    '''Sets metadata for a light curve'''\n",
    "    rv_lk.meta = keys_dict"
   ]
  },
  {
   "cell_type": "code",
   "execution_count": 4,
   "id": "f87e34d3",
   "metadata": {
    "ExecuteTime": {
     "end_time": "2023-03-21T17:59:37.545827Z",
     "start_time": "2023-03-21T17:59:37.531865Z"
    }
   },
   "outputs": [],
   "source": [
    "def rv_infer_sampling(rv_lk: lk.LightCurve):\n",
    "    '''Infer sampling period from light curve'''\n",
    "    time_diffs = rv_lk['time'][1:] - rv_lk['time'][:-1]\n",
    "    return np.median(time_diffs)"
   ]
  },
  {
   "cell_type": "raw",
   "id": "ce1795ea",
   "metadata": {
    "ExecuteTime": {
     "end_time": "2022-02-24T21:27:34.752091Z",
     "start_time": "2022-02-24T21:27:34.740705Z"
    }
   },
   "source": [
    "def rv_stats(rv_lk: lk.LightCurve, precision: int=3):\n",
    "    '''Calculates the cadence of an RV curve from the data.\n",
    "    Returns the mode of the differences between the (with the number of decimals; negative values also possible),\n",
    "    and the percentage of that result (as an indication about the confidence of the calculated cadence value)'''\n",
    "    results = OrderedDict()\n",
    "    results['Points'] = len(rv_lk)\n",
    "    time_diffs = rv_lk['time'][1:] - rv_lk['time'][:-1]\n",
    "    time_diffs.format = 'sec'\n",
    "    time_diffs = np.round(time_diffs.value, precision)\n",
    "    counts = np.unique(time_diffs, return_counts=True)\n",
    "    max_id = np.argmax(counts[1])\n",
    "    results['Cadence mode [sec]'] = counts[0][max_id]\n",
    "    results['Cadence mode numpoints'] = counts[1][max_id]\n",
    "    results['Cadence mode confidence'] = round(counts[1][max_id] / time_diffs.size, abs(precision))\n",
    "#    results['Time kurtosis'] = stats.kurtosis(rv_lk['time'].value)\n",
    "    results['Time diff kurtosis'] = stats.kurtosis(time_diffs)\n",
    "    results['Time diff histogram'] = np.histogram(time_diffs)\n",
    "    #### SOME MORE STATS TO EXTRACT:\n",
    "    # dispersion --> we could compare, for example, the median of errors with the STDEV of nominal values\n",
    "    #                if the median of ERRORS are comparable to the signal dispersion, there is probably\n",
    "    #                no variability in the signal.\n",
    "    # kurtosis['time'] --> if kurtosis is low, sampling is probably homogeneous. If high, very heterogeneous\n",
    "    results['Signal dispersion'] = \\\n",
    "        stats.tstd(rv_lk['flux'].value) / np.median(rv_lk['flux_err'].value)\n",
    "    \n",
    "    return results\n",
    "    "
   ]
  },
  {
   "cell_type": "raw",
   "id": "2ead23c3",
   "metadata": {
    "ExecuteTime": {
     "end_time": "2022-02-24T21:27:34.923176Z",
     "start_time": "2022-02-24T21:27:34.902205Z"
    }
   },
   "source": [
    "def rv_clean_lc(rv_lk: lk.LightCurve, sigmas: float=5.0):\n",
    "    '''Clean the light curve from outliers before applying the periodogram'''"
   ]
  },
  {
   "cell_type": "raw",
   "id": "c19a52db",
   "metadata": {
    "ExecuteTime": {
     "end_time": "2022-02-24T21:27:35.067214Z",
     "start_time": "2022-02-24T21:27:35.061187Z"
    }
   },
   "source": [
    "def rv_periodogram():\n",
    "    '''Calculates the periodogram of an RV curve'''\n",
    "    "
   ]
  },
  {
   "cell_type": "raw",
   "id": "c58b3efb",
   "metadata": {
    "ExecuteTime": {
     "end_time": "2022-02-24T21:27:35.352349Z",
     "start_time": "2022-02-24T21:27:35.347847Z"
    }
   },
   "source": [
    "def rv_plot():\n",
    "    '''Plots and/or stores the image of the RV curve'''\n",
    "    "
   ]
  },
  {
   "cell_type": "raw",
   "id": "ece0a7d3",
   "metadata": {
    "ExecuteTime": {
     "end_time": "2022-02-24T21:27:35.621475Z",
     "start_time": "2022-02-24T21:27:35.603549Z"
    }
   },
   "source": [
    "def rv_processing():\n",
    "    '''Process the RV curve file'''\n",
    "    "
   ]
  },
  {
   "cell_type": "markdown",
   "id": "471bf7f4",
   "metadata": {},
   "source": [
    "## Sequential testing"
   ]
  },
  {
   "cell_type": "markdown",
   "id": "46ad1c2c",
   "metadata": {},
   "source": [
    "### Data loading"
   ]
  },
  {
   "cell_type": "code",
   "execution_count": 5,
   "id": "70057ba0",
   "metadata": {
    "ExecuteTime": {
     "end_time": "2023-03-21T17:59:39.791253Z",
     "start_time": "2023-03-21T17:59:39.746372Z"
    }
   },
   "outputs": [
    {
     "data": {
      "text/html": [
       "<div><i>LightCurve length=52</i>\n",
       "<table id=\"table2969057759136\" class=\"table-striped table-bordered table-condensed\">\n",
       "<thead><tr><th>time</th><th>flux</th><th>flux_err</th></tr></thead>\n",
       "<thead><tr><th></th><th>m / s</th><th>m / s</th></tr></thead>\n",
       "<thead><tr><th>Time</th><th>float64</th><th>float64</th></tr></thead>\n",
       "<tr><td>2457400.285149251</td><td>-7.699507225686425</td><td>1.518085090707883</td></tr>\n",
       "<tr><td>2457421.2603704045</td><td>-2.206803928034396</td><td>1.7542602861873953</td></tr>\n",
       "<tr><td>2457588.6812777855</td><td>3.9463531997833456</td><td>1.6999474316532919</td></tr>\n",
       "<tr><td>2457605.665631484</td><td>-0.24865047388008532</td><td>1.5273324594779027</td></tr>\n",
       "<tr><td>2457609.668912377</td><td>2.899844972125228</td><td>2.300501097508865</td></tr>\n",
       "<tr><td>2457610.6746126967</td><td>0.1274551116349898</td><td>2.591715002116716</td></tr>\n",
       "<tr><td>2457611.622353685</td><td>-0.5321407073330857</td><td>2.4855980080476785</td></tr>\n",
       "<tr><td>2457620.4387825723</td><td>-5.589271196225743</td><td>2.6719922616824587</td></tr>\n",
       "<tr><td>2457633.587217013</td><td>-0.5912901163939923</td><td>2.8187013587162766</td></tr>\n",
       "<tr><td>...</td><td>...</td><td>...</td></tr>\n",
       "<tr><td>2458001.552633953</td><td>0.4692109850469064</td><td>1.256330392439282</td></tr>\n",
       "<tr><td>2458002.5944546075</td><td>-3.0233943478948504</td><td>1.365244983494327</td></tr>\n",
       "<tr><td>2458005.525056351</td><td>-2.4292235854661595</td><td>1.3790949517074547</td></tr>\n",
       "<tr><td>2458007.5673712958</td><td>0.23701783720863023</td><td>1.3359154461579925</td></tr>\n",
       "<tr><td>2458009.5217915084</td><td>0.5945647050173866</td><td>1.2659012595653445</td></tr>\n",
       "<tr><td>2458030.461554242</td><td>-1.2994798975928659</td><td>1.8147590076292106</td></tr>\n",
       "<tr><td>2458058.4223037614</td><td>-0.3771589755446858</td><td>1.7140371422924052</td></tr>\n",
       "<tr><td>2458059.4372275616</td><td>-0.975518154924709</td><td>1.3652931119313778</td></tr>\n",
       "<tr><td>2458060.3883806723</td><td>-1.164722256651164</td><td>1.2733237053967026</td></tr>\n",
       "<tr><td>2458093.5016282564</td><td>-1.2522444567151885</td><td>1.0539131018440808</td></tr>\n",
       "</table></div>"
      ],
      "text/plain": [
       "<LightCurve length=52>\n",
       "       time                flux              flux_err     \n",
       "                          m / s               m / s       \n",
       "       Time              float64             float64      \n",
       "------------------ -------------------- ------------------\n",
       " 2457400.285149251   -7.699507225686425  1.518085090707883\n",
       "2457421.2603704045   -2.206803928034396 1.7542602861873953\n",
       "2457588.6812777855   3.9463531997833456 1.6999474316532919\n",
       " 2457605.665631484 -0.24865047388008532 1.5273324594779027\n",
       " 2457609.668912377    2.899844972125228  2.300501097508865\n",
       "2457610.6746126967   0.1274551116349898  2.591715002116716\n",
       " 2457611.622353685  -0.5321407073330857 2.4855980080476785\n",
       "2457620.4387825723   -5.589271196225743 2.6719922616824587\n",
       " 2457633.587217013  -0.5912901163939923 2.8187013587162766\n",
       "               ...                  ...                ...\n",
       " 2458001.552633953   0.4692109850469064  1.256330392439282\n",
       "2458002.5944546075  -3.0233943478948504  1.365244983494327\n",
       " 2458005.525056351  -2.4292235854661595 1.3790949517074547\n",
       "2458007.5673712958  0.23701783720863023 1.3359154461579925\n",
       "2458009.5217915084   0.5945647050173866 1.2659012595653445\n",
       " 2458030.461554242  -1.2994798975928659 1.8147590076292106\n",
       "2458058.4223037614  -0.3771589755446858 1.7140371422924052\n",
       "2458059.4372275616   -0.975518154924709 1.3652931119313778\n",
       "2458060.3883806723   -1.164722256651164 1.2733237053967026\n",
       "2458093.5016282564  -1.2522444567151885 1.0539131018440808"
      ]
     },
     "execution_count": 5,
     "metadata": {},
     "output_type": "execute_result"
    }
   ],
   "source": [
    "# Load data:\n",
    "rv_lk = rv_load(RV_INPUT_FILE)\n",
    "rv_lk"
   ]
  },
  {
   "cell_type": "raw",
   "id": "56f713b0",
   "metadata": {
    "ExecuteTime": {
     "end_time": "2022-02-21T22:18:40.376762Z",
     "start_time": "2022-02-21T22:18:40.356307Z"
    }
   },
   "source": [
    "# Set the keywords:\n",
    "metadata = dict({\n",
    "    'OBJECT':\"J00051+457\",\n",
    "    'BJDREFI': 2457000,\n",
    "    'BJDREFF': 0.0,\n",
    "    'TIMEUNIT':'d'\n",
    "})\n",
    "rv_set_keywords(rv_lk, metadata)\n",
    "rv_lk.meta"
   ]
  },
  {
   "cell_type": "raw",
   "id": "ab6d5a01",
   "metadata": {
    "ExecuteTime": {
     "end_time": "2022-02-21T22:18:41.723023Z",
     "start_time": "2022-02-21T22:18:41.708525Z"
    }
   },
   "source": [
    "# Calculate light kurve stats:\n",
    "rv_stats(rv_lk, precision=-3)"
   ]
  },
  {
   "cell_type": "markdown",
   "id": "2955eff5",
   "metadata": {},
   "source": [
    "### GLS Periodogram"
   ]
  },
  {
   "cell_type": "markdown",
   "id": "6e4ac883",
   "metadata": {},
   "source": [
    "#### Calculation conditions"
   ]
  },
  {
   "cell_type": "markdown",
   "id": "47e058bf",
   "metadata": {},
   "source": [
    "The stars currently under analysis are in the $He_{3}$ instability band, so they are expected to have effective temperatures in the range $T_{eff}\\in[3300, 4300] K$, $\\log g\\in[4.5, 5.1]$, and masses in the range $M_{star}\\in[0.20, 0.60] M_{Sun}$.\n",
    "\n",
    "According to _Table 2_ in _The theoretical instability strip of M dwarf stars (Rodríguez-López, C., et al. 2014, MNRAS, 438, 2371)_ these stars have typical periods of $20 min$ to $3 h$, so we will set the limits of the periodogram frequencies for periods between $10 min$ and $5 h$. In days, this corresponds to a range of $P\\in[0.006944, 0.208333] d$ or, equivalently, frequencies in the range $f\\in[144, 4.8] d^{-1}$.\n",
    "\n",
    "We will use the default \"ZK\" normalization."
   ]
  },
  {
   "cell_type": "markdown",
   "id": "6b507af8",
   "metadata": {},
   "source": [
    "#### Create instance"
   ]
  },
  {
   "cell_type": "markdown",
   "id": "b2047632",
   "metadata": {},
   "source": [
    "**Note:** we write all the parameters even if we use the default values, just to have them as a reference."
   ]
  },
  {
   "cell_type": "code",
   "execution_count": 6,
   "id": "266923ae",
   "metadata": {
    "ExecuteTime": {
     "end_time": "2023-03-21T17:59:52.345790Z",
     "start_time": "2023-03-21T17:59:41.907082Z"
    },
    "scrolled": false
   },
   "outputs": [
    {
     "data": {
      "text/plain": [
       "<gls.Gls at 0x2b352b20b80>"
      ]
     },
     "execution_count": 6,
     "metadata": {},
     "output_type": "execute_result"
    }
   ],
   "source": [
    "# Create GLS instance:\n",
    "gls = Gls((rv_lk['time'].value, rv_lk['flux'].value, rv_lk['flux_err'].value),\n",
    "          fbeg=4.8, fend=144, Pbeg=None, Pend=None, ofac=10, hifac=1, freq=None,\n",
    "          norm=\"ZK\", ls=False, fast=False, verbose=False)\n",
    "gls"
   ]
  },
  {
   "cell_type": "markdown",
   "id": "ab073433",
   "metadata": {},
   "source": [
    "####  Check some attributes"
   ]
  },
  {
   "cell_type": "markdown",
   "id": "06c5cc44",
   "metadata": {},
   "source": [
    "The time series in array form:"
   ]
  },
  {
   "cell_type": "code",
   "execution_count": 7,
   "id": "bb55ae5a",
   "metadata": {
    "ExecuteTime": {
     "end_time": "2023-03-21T17:59:52.360750Z",
     "start_time": "2023-03-21T17:59:52.347785Z"
    }
   },
   "outputs": [
    {
     "data": {
      "text/plain": [
       "array([2457400.28514925, 2457421.2603704 , 2457588.68127779,\n",
       "       2457605.66563148, 2457609.66891238, 2457610.6746127 ,\n",
       "       2457611.62235369, 2457620.43878257, 2457633.58721701,\n",
       "       2457636.57223794, 2457645.5905544 , 2457647.49317724,\n",
       "       2457648.64650153, 2457649.609663  , 2457653.52287052,\n",
       "       2457657.52945386, 2457678.41504316, 2457685.48435945,\n",
       "       2457688.46666075, 2457695.40243521, 2457705.35007876,\n",
       "       2457711.35138445, 2457910.58999352, 2457936.62096702,\n",
       "       2457937.6165758 , 2457939.50616032, 2457946.62486882,\n",
       "       2457951.48621326, 2457954.46375037, 2457956.49417135,\n",
       "       2457960.61745801, 2457961.58898518, 2457962.61584783,\n",
       "       2457964.59065309, 2457965.61240031, 2457968.63660116,\n",
       "       2457970.6700896 , 2457971.62424086, 2457977.45829154,\n",
       "       2457987.58612915, 2457997.52808947, 2458000.55007322,\n",
       "       2458001.55263395, 2458002.59445461, 2458005.52505635,\n",
       "       2458007.5673713 , 2458009.52179151, 2458030.46155424,\n",
       "       2458058.42230376, 2458059.43722756, 2458060.38838067,\n",
       "       2458093.50162826])"
      ]
     },
     "execution_count": 7,
     "metadata": {},
     "output_type": "execute_result"
    }
   ],
   "source": [
    "gls.t"
   ]
  },
  {
   "cell_type": "code",
   "execution_count": 8,
   "id": "4f22acbd",
   "metadata": {
    "ExecuteTime": {
     "end_time": "2023-03-21T17:59:52.375710Z",
     "start_time": "2023-03-21T17:59:52.362745Z"
    }
   },
   "outputs": [
    {
     "data": {
      "text/plain": [
       "array([-7.69950723, -2.20680393,  3.9463532 , -0.24865047,  2.89984497,\n",
       "        0.12745511, -0.53214071, -5.5892712 , -0.59129012, -0.19704525,\n",
       "       -6.16417413,  4.3476666 ,  3.546218  ,  0.30304323, -1.2912066 ,\n",
       "       -0.38364498,  2.92447322,  6.03275881, -2.62496105,  1.7601651 ,\n",
       "       -6.74152291,  5.16233776, -3.10275872,  3.19058099,  3.95722303,\n",
       "       -0.57446   ,  5.28847678, -0.68896417,  0.34084262,  4.49683953,\n",
       "       -1.61597259, -0.44210673, -0.78198647, -1.26252311, -0.05003086,\n",
       "        3.4830356 ,  3.46357387,  1.55443989,  3.4635761 , -0.85153877,\n",
       "       -1.15543609,  1.97272918,  0.46921099, -3.02339435, -2.42922359,\n",
       "        0.23701784,  0.59456471, -1.2994799 , -0.37715898, -0.97551815,\n",
       "       -1.16472226, -1.25224446])"
      ]
     },
     "execution_count": 8,
     "metadata": {},
     "output_type": "execute_result"
    }
   ],
   "source": [
    "gls.y"
   ]
  },
  {
   "cell_type": "code",
   "execution_count": 9,
   "id": "0792bc8c",
   "metadata": {
    "ExecuteTime": {
     "end_time": "2023-03-21T17:59:52.391667Z",
     "start_time": "2023-03-21T17:59:52.377704Z"
    }
   },
   "outputs": [
    {
     "data": {
      "text/plain": [
       "array([1.51808509, 1.75426029, 1.69994743, 1.52733246, 2.3005011 ,\n",
       "       2.591715  , 2.48559801, 2.67199226, 2.81870136, 2.53750907,\n",
       "       1.69897104, 1.76027105, 2.51366057, 2.18639801, 1.86075409,\n",
       "       1.98058133, 2.31782575, 5.40691386, 1.46157322, 2.2045434 ,\n",
       "       1.39041225, 1.77161381, 2.47371416, 1.75381942, 1.72798743,\n",
       "       1.85083034, 1.7336894 , 1.90074898, 1.91203283, 2.06648852,\n",
       "       1.51660274, 1.40640933, 1.34216173, 1.25188075, 1.45962721,\n",
       "       1.1628978 , 1.23650884, 1.09176479, 1.67938852, 1.42362665,\n",
       "       1.29625799, 1.27602068, 1.25633039, 1.36524498, 1.37909495,\n",
       "       1.33591545, 1.26590126, 1.81475901, 1.71403714, 1.36529311,\n",
       "       1.27332371, 1.0539131 ])"
      ]
     },
     "execution_count": 9,
     "metadata": {},
     "output_type": "execute_result"
    }
   ],
   "source": [
    "gls.e_y"
   ]
  },
  {
   "cell_type": "markdown",
   "id": "6eba45e0",
   "metadata": {},
   "source": [
    "The periodogram power in array form:"
   ]
  },
  {
   "cell_type": "code",
   "execution_count": 10,
   "id": "2ca16f4d",
   "metadata": {
    "ExecuteTime": {
     "end_time": "2023-03-21T17:59:52.407624Z",
     "start_time": "2023-03-21T17:59:52.392665Z"
    }
   },
   "outputs": [
    {
     "data": {
      "text/plain": [
       "array([0.00302243, 0.00390817, 0.00437203, ..., 0.03423988, 0.03212901,\n",
       "       0.02792323])"
      ]
     },
     "execution_count": 10,
     "metadata": {},
     "output_type": "execute_result"
    }
   ],
   "source": [
    "gls.power"
   ]
  },
  {
   "cell_type": "markdown",
   "id": "a86190dd",
   "metadata": {},
   "source": [
    "The periodogram frequencies (x axis) in array form:"
   ]
  },
  {
   "cell_type": "code",
   "execution_count": 11,
   "id": "5b9dca0a",
   "metadata": {
    "ExecuteTime": {
     "end_time": "2023-03-21T17:59:52.423581Z",
     "start_time": "2023-03-21T17:59:52.408623Z"
    },
    "scrolled": true
   },
   "outputs": [
    {
     "data": {
      "text/plain": [
       "array([  4.8       ,   4.80014426,   4.80028851, ..., 143.99966262,\n",
       "       143.99980688, 143.99995113])"
      ]
     },
     "execution_count": 11,
     "metadata": {},
     "output_type": "execute_result"
    }
   ],
   "source": [
    "gls.freq"
   ]
  },
  {
   "cell_type": "code",
   "execution_count": 12,
   "id": "834d369a",
   "metadata": {
    "ExecuteTime": {
     "end_time": "2023-03-21T17:59:52.439540Z",
     "start_time": "2023-03-21T17:59:52.425577Z"
    }
   },
   "outputs": [
    {
     "data": {
      "text/plain": [
       "numpy.ndarray"
      ]
     },
     "execution_count": 12,
     "metadata": {},
     "output_type": "execute_result"
    }
   ],
   "source": [
    "type(gls.freq)"
   ]
  },
  {
   "cell_type": "code",
   "execution_count": 13,
   "id": "aebdf622",
   "metadata": {
    "ExecuteTime": {
     "end_time": "2023-03-21T17:59:53.441080Z",
     "start_time": "2023-03-21T17:59:53.427118Z"
    }
   },
   "outputs": [
    {
     "data": {
      "text/plain": [
       "(964958,)"
      ]
     },
     "execution_count": 13,
     "metadata": {},
     "output_type": "execute_result"
    }
   ],
   "source": [
    "gls.freq.shape"
   ]
  },
  {
   "cell_type": "markdown",
   "id": "c12e745c",
   "metadata": {},
   "source": [
    "#### Full information on the `GLS` object"
   ]
  },
  {
   "cell_type": "code",
   "execution_count": 14,
   "id": "10b4da07",
   "metadata": {
    "ExecuteTime": {
     "end_time": "2023-03-21T17:59:54.425938Z",
     "start_time": "2023-03-21T17:59:54.410978Z"
    }
   },
   "outputs": [
    {
     "name": "stdout",
     "output_type": "stream",
     "text": [
      "Generalized LS - statistical output\n",
      "-----------------------------------\n",
      "Number of input points:         52\n",
      "Weighted mean of dataset:   -0.050943\n",
      "Weighted rms of dataset:    2.835825\n",
      "Time base:                  693.216479\n",
      "Number of frequency points: 964958\n",
      "\n",
      "Maximum power p [ZK]: 0.424227\n",
      "FAP(pmax):            0.12104561467930286\n",
      "RMS of residuals:     2.151815\n",
      "  Mean weighted internal error:  1.593912\n",
      "Best sine frequency:  79.553993 +/- 0.000168\n",
      "Best sine period:     0.012570 +/- 0.000000\n",
      "Amplitude:            2.794887 +/- 0.422006\n",
      "-----------------------------------\n"
     ]
    }
   ],
   "source": [
    "gls.info(stdout=True)"
   ]
  },
  {
   "cell_type": "markdown",
   "id": "c5b68bd1",
   "metadata": {},
   "source": [
    "And with a return value (interesting to store in the results array for all GTO stars):"
   ]
  },
  {
   "cell_type": "code",
   "execution_count": 15,
   "id": "3e360367",
   "metadata": {
    "ExecuteTime": {
     "end_time": "2023-03-21T17:59:55.077609Z",
     "start_time": "2023-03-21T17:59:55.058659Z"
    }
   },
   "outputs": [
    {
     "data": {
      "text/plain": [
       "'Generalized LS - statistical output\\n-----------------------------------\\nNumber of input points:         52\\nWeighted mean of dataset:   -0.050943\\nWeighted rms of dataset:    2.835825\\nTime base:                  693.216479\\nNumber of frequency points: 964958\\n\\nMaximum power p [ZK]: 0.424227\\nFAP(pmax):            0.12104561467930286\\nRMS of residuals:     2.151815\\n  Mean weighted internal error:  1.593912\\nBest sine frequency:  79.553993 +/- 0.000168\\nBest sine period:     0.012570 +/- 0.000000\\nAmplitude:            2.794887 +/- 0.422006\\n-----------------------------------'"
      ]
     },
     "execution_count": 15,
     "metadata": {},
     "output_type": "execute_result"
    }
   ],
   "source": [
    "gls_info = gls.info(stdout=False)\n",
    "gls_info"
   ]
  },
  {
   "cell_type": "markdown",
   "id": "1b174141",
   "metadata": {},
   "source": [
    "#### Recover and calculate interesting values"
   ]
  },
  {
   "cell_type": "markdown",
   "id": "a0a90a3a",
   "metadata": {},
   "source": [
    "It can be interesting to store some or all of the following key values in their own, separate columns in the results table for all GTO objects."
   ]
  },
  {
   "cell_type": "markdown",
   "id": "b6c81661",
   "metadata": {},
   "source": [
    "Number of points in RV curve:"
   ]
  },
  {
   "cell_type": "code",
   "execution_count": 16,
   "id": "abc8a0cc",
   "metadata": {
    "ExecuteTime": {
     "end_time": "2023-03-21T17:59:56.015194Z",
     "start_time": "2023-03-21T17:59:56.003225Z"
    }
   },
   "outputs": [
    {
     "data": {
      "text/plain": [
       "52"
      ]
     },
     "execution_count": 16,
     "metadata": {},
     "output_type": "execute_result"
    }
   ],
   "source": [
    "gls.N"
   ]
  },
  {
   "cell_type": "markdown",
   "id": "313d75b5",
   "metadata": {},
   "source": [
    "Weighted mean of RV curve:"
   ]
  },
  {
   "cell_type": "code",
   "execution_count": 17,
   "id": "e1c33fa4",
   "metadata": {
    "ExecuteTime": {
     "end_time": "2023-03-21T17:59:56.418923Z",
     "start_time": "2023-03-21T17:59:56.409947Z"
    }
   },
   "outputs": [
    {
     "data": {
      "text/plain": [
       "-0.05094310699246005"
      ]
     },
     "execution_count": 17,
     "metadata": {},
     "output_type": "execute_result"
    }
   ],
   "source": [
    "gls._Y"
   ]
  },
  {
   "cell_type": "markdown",
   "id": "1e7596a3",
   "metadata": {},
   "source": [
    "Weighted rms of RV curve:"
   ]
  },
  {
   "cell_type": "code",
   "execution_count": 18,
   "id": "c7152b45",
   "metadata": {
    "ExecuteTime": {
     "end_time": "2023-03-21T17:59:56.869352Z",
     "start_time": "2023-03-21T17:59:56.850402Z"
    }
   },
   "outputs": [
    {
     "data": {
      "text/plain": [
       "8.041901388025053"
      ]
     },
     "execution_count": 18,
     "metadata": {},
     "output_type": "execute_result"
    }
   ],
   "source": [
    "gls._YY"
   ]
  },
  {
   "cell_type": "markdown",
   "id": "857331c8",
   "metadata": {},
   "source": [
    "Best period in days and error:"
   ]
  },
  {
   "cell_type": "code",
   "execution_count": 19,
   "id": "eb40de18",
   "metadata": {
    "ExecuteTime": {
     "end_time": "2023-03-21T17:59:57.318640Z",
     "start_time": "2023-03-21T17:59:57.313653Z"
    }
   },
   "outputs": [
    {
     "data": {
      "text/plain": [
       "0.012570079250658017"
      ]
     },
     "execution_count": 19,
     "metadata": {},
     "output_type": "execute_result"
    }
   ],
   "source": [
    "gls.best['P']"
   ]
  },
  {
   "cell_type": "code",
   "execution_count": 20,
   "id": "176abc45",
   "metadata": {
    "ExecuteTime": {
     "end_time": "2023-03-21T17:59:57.520387Z",
     "start_time": "2023-03-21T17:59:57.513407Z"
    }
   },
   "outputs": [
    {
     "data": {
      "text/plain": [
       "2.6481080348217134e-08"
      ]
     },
     "execution_count": 20,
     "metadata": {},
     "output_type": "execute_result"
    }
   ],
   "source": [
    "gls.best['e_P']"
   ]
  },
  {
   "cell_type": "markdown",
   "id": "468714c7",
   "metadata": {},
   "source": [
    "Best period in hours and error:"
   ]
  },
  {
   "cell_type": "code",
   "execution_count": 21,
   "id": "3f920a9c",
   "metadata": {
    "ExecuteTime": {
     "end_time": "2023-03-21T17:59:57.973496Z",
     "start_time": "2023-03-21T17:59:57.961529Z"
    }
   },
   "outputs": [
    {
     "data": {
      "text/plain": [
       "0.30168190201579237"
      ]
     },
     "execution_count": 21,
     "metadata": {},
     "output_type": "execute_result"
    }
   ],
   "source": [
    "24.0 * gls.best['P']"
   ]
  },
  {
   "cell_type": "code",
   "execution_count": 22,
   "id": "dd3b5ae2",
   "metadata": {
    "ExecuteTime": {
     "end_time": "2023-03-21T17:59:58.190405Z",
     "start_time": "2023-03-21T17:59:58.178437Z"
    }
   },
   "outputs": [
    {
     "data": {
      "text/plain": [
       "6.355459283572112e-07"
      ]
     },
     "execution_count": 22,
     "metadata": {},
     "output_type": "execute_result"
    }
   ],
   "source": [
    "24.0 * gls.best['e_P']"
   ]
  },
  {
   "cell_type": "markdown",
   "id": "05b3acd5",
   "metadata": {},
   "source": [
    "Best period in minutes and error:"
   ]
  },
  {
   "cell_type": "code",
   "execution_count": 23,
   "id": "2abb7d74",
   "metadata": {
    "ExecuteTime": {
     "end_time": "2023-03-21T17:59:58.655925Z",
     "start_time": "2023-03-21T17:59:58.641963Z"
    }
   },
   "outputs": [
    {
     "data": {
      "text/plain": [
       "18.100914120947543"
      ]
     },
     "execution_count": 23,
     "metadata": {},
     "output_type": "execute_result"
    }
   ],
   "source": [
    "24.0 * 60.0 * gls.best['P']"
   ]
  },
  {
   "cell_type": "code",
   "execution_count": 24,
   "id": "bb52cead",
   "metadata": {
    "ExecuteTime": {
     "end_time": "2023-03-21T17:59:58.873900Z",
     "start_time": "2023-03-21T17:59:58.866918Z"
    }
   },
   "outputs": [
    {
     "data": {
      "text/plain": [
       "3.813275570143267e-05"
      ]
     },
     "execution_count": 24,
     "metadata": {},
     "output_type": "execute_result"
    }
   ],
   "source": [
    "24.0 * 60.0 * gls.best['e_P']"
   ]
  },
  {
   "cell_type": "markdown",
   "id": "578dbe0b",
   "metadata": {},
   "source": [
    "Signal amplitude and error:"
   ]
  },
  {
   "cell_type": "code",
   "execution_count": 25,
   "id": "f840f530",
   "metadata": {
    "ExecuteTime": {
     "end_time": "2023-03-21T17:59:59.295558Z",
     "start_time": "2023-03-21T17:59:59.290572Z"
    }
   },
   "outputs": [
    {
     "data": {
      "text/plain": [
       "2.794886736597751"
      ]
     },
     "execution_count": 25,
     "metadata": {},
     "output_type": "execute_result"
    }
   ],
   "source": [
    "gls.best['amp']"
   ]
  },
  {
   "cell_type": "code",
   "execution_count": 26,
   "id": "4e7431a5",
   "metadata": {
    "ExecuteTime": {
     "end_time": "2023-03-21T17:59:59.529919Z",
     "start_time": "2023-03-21T17:59:59.513962Z"
    }
   },
   "outputs": [
    {
     "data": {
      "text/plain": [
       "0.42200571886801413"
      ]
     },
     "execution_count": 26,
     "metadata": {},
     "output_type": "execute_result"
    }
   ],
   "source": [
    "gls.best['e_amp']"
   ]
  },
  {
   "cell_type": "markdown",
   "id": "5d3b9760",
   "metadata": {},
   "source": [
    "Maximum periodogram power:"
   ]
  },
  {
   "cell_type": "code",
   "execution_count": 27,
   "id": "59c7c782",
   "metadata": {
    "ExecuteTime": {
     "end_time": "2023-03-21T18:00:00.747302Z",
     "start_time": "2023-03-21T18:00:00.740320Z"
    }
   },
   "outputs": [
    {
     "data": {
      "text/plain": [
       "0.42422702389948536"
      ]
     },
     "execution_count": 27,
     "metadata": {},
     "output_type": "execute_result"
    }
   ],
   "source": [
    "gls.power.max()"
   ]
  },
  {
   "cell_type": "markdown",
   "id": "8b5e8093",
   "metadata": {},
   "source": [
    "RMS of residuals:"
   ]
  },
  {
   "cell_type": "code",
   "execution_count": 28,
   "id": "77ad02c3",
   "metadata": {
    "ExecuteTime": {
     "end_time": "2023-03-21T18:00:01.470988Z",
     "start_time": "2023-03-21T18:00:01.466999Z"
    }
   },
   "outputs": [
    {
     "data": {
      "text/plain": [
       "2.151815395355755"
      ]
     },
     "execution_count": 28,
     "metadata": {},
     "output_type": "execute_result"
    }
   ],
   "source": [
    "gls.rms"
   ]
  },
  {
   "cell_type": "markdown",
   "id": "789255c1",
   "metadata": {},
   "source": [
    "#### Modified plot of the light curve"
   ]
  },
  {
   "cell_type": "markdown",
   "id": "8ce5f6f3",
   "metadata": {},
   "source": [
    "As in the case of instance creation, we put all the paremeters as a reference, even if default values are used."
   ]
  },
  {
   "cell_type": "code",
   "execution_count": 29,
   "id": "b3531ec2",
   "metadata": {
    "ExecuteTime": {
     "end_time": "2023-03-21T18:00:06.511451Z",
     "start_time": "2023-03-21T18:00:02.634674Z"
    }
   },
   "outputs": [
    {
     "name": "stderr",
     "output_type": "stream",
     "text": [
      "c:\\users\\ciroe\\gls.py:645: UserWarning: Matplotlib is currently using module://matplotlib_inline.backend_inline, which is a non-GUI backend, so cannot show the figure.\n",
      "  fig.show()\n"
     ]
    },
    {
     "data": {
      "image/png": "[encoded data removed]",
      "text/plain": [
       "<Figure size 1100x1100 with 6 Axes>"
      ]
     },
     "metadata": {},
     "output_type": "display_data"
    }
   ],
   "source": [
    "# Standard plot:\n",
    "fig = gls.plot(block=False, period=False, fap=None, gls=True, data=True, residuals=True);"
   ]
  },
  {
   "cell_type": "markdown",
   "id": "5f70e30a",
   "metadata": {},
   "source": [
    "We now elaborate a slightly customized plot:"
   ]
  },
  {
   "cell_type": "code",
   "execution_count": 30,
   "id": "d3167118",
   "metadata": {
    "ExecuteTime": {
     "end_time": "2023-03-21T18:00:13.367536Z",
     "start_time": "2023-03-21T18:00:07.650816Z"
    }
   },
   "outputs": [
    {
     "data": {
      "image/png": "[encoded data removed]",
      "text/plain": [
       "<Figure size 1100x1100 with 6 Axes>"
      ]
     },
     "metadata": {},
     "output_type": "display_data"
    }
   ],
   "source": [
    "# Standard plot:\n",
    "fig = gls.plot(block=False, period=False,\n",
    "               fap=[0.3200, 0.0460], gls=True, data=True, residuals=True);"
   ]
  },
  {
   "cell_type": "code",
   "execution_count": 31,
   "id": "a2da13ae",
   "metadata": {
    "ExecuteTime": {
     "end_time": "2023-03-21T18:00:15.194235Z",
     "start_time": "2023-03-21T18:00:13.369532Z"
    }
   },
   "outputs": [],
   "source": [
    "fig.suptitle(\"J00051+457\")\n",
    "fig.tight_layout()\n",
    "fig.savefig(IMAGE_RV_OUT)"
   ]
  },
  {
   "cell_type": "markdown",
   "id": "14559744",
   "metadata": {},
   "source": [
    "## Store the lightcurve and periodogram in 'fits' format"
   ]
  },
  {
   "cell_type": "markdown",
   "id": "78fbd2f6",
   "metadata": {},
   "source": [
    "We will generate and store the file in a `fits` file, containing a main header and 2 _HDUs_, as described above:    "
   ]
  },
  {
   "cell_type": "markdown",
   "id": "f547bb90",
   "metadata": {},
   "source": [
    "### Generate a primary `HDU` for basic header information"
   ]
  },
  {
   "cell_type": "markdown",
   "id": "94afae00",
   "metadata": {},
   "source": [
    "At the moment, the header contains just the object name:"
   ]
  },
  {
   "cell_type": "code",
   "execution_count": 32,
   "id": "5aa79953",
   "metadata": {
    "ExecuteTime": {
     "end_time": "2023-03-21T18:00:15.209168Z",
     "start_time": "2023-03-21T18:00:15.196202Z"
    }
   },
   "outputs": [],
   "source": [
    "primary_header = fits.Header()"
   ]
  },
  {
   "cell_type": "code",
   "execution_count": 33,
   "id": "9c47dec9",
   "metadata": {
    "ExecuteTime": {
     "end_time": "2023-03-21T18:00:15.225125Z",
     "start_time": "2023-03-21T18:00:15.211163Z"
    }
   },
   "outputs": [],
   "source": [
    "primary_header['OBJECT'] = (\"J00051+457\", \"KARMENES target name\")\n",
    "primary_header['NAME'] = (\"GJ 2\", \"Object common name\")\n",
    "primary_header['TIC'] = (\"439946126\", \"Object TESS identifier\")\n",
    "primary_header['RA_J2000'] = (\"00:05:10.89\", \"Object right ascension (J2000)\")\n",
    "primary_header['DE_J2000'] = (\"+45:47:11.6\", \"Object declination (J2000)\")\n",
    "primary_header['SPTYPE'] = (\"M1.0 V\", \"Spectral type\")\n",
    "primary_header['TEFF_K'] = (3773, \"Effective temperature in Kelvin\")\n",
    "primary_header['LOGG'] = (5.07, \"Logarithm of surface gravity\")\n",
    "primary_header['FEH'] = (-0.04, \"Metallicity\")\n",
    "primary_header['L_LSUN'] = (0.0436229, \"Luminosity in Solar luminosities\")\n",
    "primary_header['R_RSUN'] = (0.48881, \"Radius in Solar radii\")\n",
    "primary_header['M_MSUN'] = (0.4918, \"Mass in Solar masses\")\n",
    "primary_header['D_PC'] = (11.50352803, \"Distance in parsec\")\n"
   ]
  },
  {
   "cell_type": "code",
   "execution_count": 34,
   "id": "2a8bcda6",
   "metadata": {
    "ExecuteTime": {
     "end_time": "2023-03-21T18:00:15.240085Z",
     "start_time": "2023-03-21T18:00:15.226123Z"
    }
   },
   "outputs": [],
   "source": [
    "hdu_primary = fits.PrimaryHDU(header=primary_header)"
   ]
  },
  {
   "cell_type": "code",
   "execution_count": 35,
   "id": "bfc6624d",
   "metadata": {
    "ExecuteTime": {
     "end_time": "2023-03-21T18:00:15.256043Z",
     "start_time": "2023-03-21T18:00:15.241083Z"
    }
   },
   "outputs": [
    {
     "data": {
      "text/plain": [
       "SIMPLE  =                    T / conforms to FITS standard                      \n",
       "BITPIX  =                    8 / array data type                                \n",
       "NAXIS   =                    0 / number of array dimensions                     \n",
       "OBJECT  = 'J00051+457'         / KARMENES target name                           \n",
       "NAME    = 'GJ 2    '           / Object common name                             \n",
       "TIC     = '439946126'          / Object TESS identifier                         \n",
       "RA_J2000= '00:05:10.89'        / Object right ascension (J2000)                 \n",
       "DE_J2000= '+45:47:11.6'        / Object declination (J2000)                     \n",
       "SPTYPE  = 'M1.0 V  '           / Spectral type                                  \n",
       "TEFF_K  =                 3773 / Effective temperature in Kelvin                \n",
       "LOGG    =                 5.07 / Logarithm of surface gravity                   \n",
       "FEH     =                -0.04 / Metallicity                                    \n",
       "L_LSUN  =            0.0436229 / Luminosity in Solar luminosities               \n",
       "R_RSUN  =              0.48881 / Radius in Solar radii                          \n",
       "M_MSUN  =               0.4918 / Mass in Solar masses                           \n",
       "D_PC    =          11.50352803 / Distance in parsec                             "
      ]
     },
     "execution_count": 35,
     "metadata": {},
     "output_type": "execute_result"
    }
   ],
   "source": [
    "hdu_primary.header"
   ]
  },
  {
   "cell_type": "markdown",
   "id": "62f2f102",
   "metadata": {},
   "source": [
    "### Generate the `QTable` instances"
   ]
  },
  {
   "cell_type": "markdown",
   "id": "488e08a8",
   "metadata": {},
   "source": [
    "Generate a `QTable` object containing the RV curve."
   ]
  },
  {
   "cell_type": "code",
   "execution_count": 36,
   "id": "34e545ac",
   "metadata": {
    "ExecuteTime": {
     "end_time": "2023-03-21T18:00:15.272000Z",
     "start_time": "2023-03-21T18:00:15.257040Z"
    }
   },
   "outputs": [
    {
     "data": {
      "text/html": [
       "<div><i>LightCurve length=5</i>\n",
       "<table id=\"table2967962950720\" class=\"table-striped table-bordered table-condensed\">\n",
       "<thead><tr><th>time</th><th>flux</th><th>flux_err</th></tr></thead>\n",
       "<thead><tr><th></th><th>m / s</th><th>m / s</th></tr></thead>\n",
       "<thead><tr><th>Time</th><th>float64</th><th>float64</th></tr></thead>\n",
       "<tr><td>2457400.285149251</td><td>-7.699507225686425</td><td>1.518085090707883</td></tr>\n",
       "<tr><td>2457421.2603704045</td><td>-2.206803928034396</td><td>1.7542602861873953</td></tr>\n",
       "<tr><td>2457588.6812777855</td><td>3.9463531997833456</td><td>1.6999474316532919</td></tr>\n",
       "<tr><td>2457605.665631484</td><td>-0.24865047388008532</td><td>1.5273324594779027</td></tr>\n",
       "<tr><td>2457609.668912377</td><td>2.899844972125228</td><td>2.300501097508865</td></tr>\n",
       "</table></div>"
      ],
      "text/plain": [
       "<LightCurve length=5>\n",
       "       time                flux              flux_err     \n",
       "                          m / s               m / s       \n",
       "       Time              float64             float64      \n",
       "------------------ -------------------- ------------------\n",
       " 2457400.285149251   -7.699507225686425  1.518085090707883\n",
       "2457421.2603704045   -2.206803928034396 1.7542602861873953\n",
       "2457588.6812777855   3.9463531997833456 1.6999474316532919\n",
       " 2457605.665631484 -0.24865047388008532 1.5273324594779027\n",
       " 2457609.668912377    2.899844972125228  2.300501097508865"
      ]
     },
     "execution_count": 36,
     "metadata": {},
     "output_type": "execute_result"
    }
   ],
   "source": [
    "rv_lk.head()"
   ]
  },
  {
   "cell_type": "code",
   "execution_count": 37,
   "id": "d1498f10",
   "metadata": {
    "ExecuteTime": {
     "end_time": "2023-03-21T18:00:15.286960Z",
     "start_time": "2023-03-21T18:00:15.272997Z"
    }
   },
   "outputs": [
    {
     "data": {
      "text/html": [
       "<div><i>QTable length=52</i>\n",
       "<table id=\"table2967963265200\" class=\"table-striped table-bordered table-condensed\">\n",
       "<thead><tr><th>time</th><th>flux</th><th>flux_err</th></tr></thead>\n",
       "<thead><tr><th></th><th>m / s</th><th>m / s</th></tr></thead>\n",
       "<thead><tr><th>Time</th><th>float64</th><th>float64</th></tr></thead>\n",
       "<tr><td>2457400.285149251</td><td>-7.699507225686425</td><td>1.518085090707883</td></tr>\n",
       "<tr><td>2457421.2603704045</td><td>-2.206803928034396</td><td>1.7542602861873953</td></tr>\n",
       "<tr><td>2457588.6812777855</td><td>3.9463531997833456</td><td>1.6999474316532919</td></tr>\n",
       "<tr><td>2457605.665631484</td><td>-0.24865047388008532</td><td>1.5273324594779027</td></tr>\n",
       "<tr><td>2457609.668912377</td><td>2.899844972125228</td><td>2.300501097508865</td></tr>\n",
       "<tr><td>2457610.6746126967</td><td>0.1274551116349898</td><td>2.591715002116716</td></tr>\n",
       "<tr><td>2457611.622353685</td><td>-0.5321407073330857</td><td>2.4855980080476785</td></tr>\n",
       "<tr><td>2457620.4387825723</td><td>-5.589271196225743</td><td>2.6719922616824587</td></tr>\n",
       "<tr><td>2457633.587217013</td><td>-0.5912901163939923</td><td>2.8187013587162766</td></tr>\n",
       "<tr><td>...</td><td>...</td><td>...</td></tr>\n",
       "<tr><td>2458001.552633953</td><td>0.4692109850469064</td><td>1.256330392439282</td></tr>\n",
       "<tr><td>2458002.5944546075</td><td>-3.0233943478948504</td><td>1.365244983494327</td></tr>\n",
       "<tr><td>2458005.525056351</td><td>-2.4292235854661595</td><td>1.3790949517074547</td></tr>\n",
       "<tr><td>2458007.5673712958</td><td>0.23701783720863023</td><td>1.3359154461579925</td></tr>\n",
       "<tr><td>2458009.5217915084</td><td>0.5945647050173866</td><td>1.2659012595653445</td></tr>\n",
       "<tr><td>2458030.461554242</td><td>-1.2994798975928659</td><td>1.8147590076292106</td></tr>\n",
       "<tr><td>2458058.4223037614</td><td>-0.3771589755446858</td><td>1.7140371422924052</td></tr>\n",
       "<tr><td>2458059.4372275616</td><td>-0.975518154924709</td><td>1.3652931119313778</td></tr>\n",
       "<tr><td>2458060.3883806723</td><td>-1.164722256651164</td><td>1.2733237053967026</td></tr>\n",
       "<tr><td>2458093.5016282564</td><td>-1.2522444567151885</td><td>1.0539131018440808</td></tr>\n",
       "</table></div>"
      ],
      "text/plain": [
       "<QTable length=52>\n",
       "       time                flux              flux_err     \n",
       "                          m / s               m / s       \n",
       "       Time              float64             float64      \n",
       "------------------ -------------------- ------------------\n",
       " 2457400.285149251   -7.699507225686425  1.518085090707883\n",
       "2457421.2603704045   -2.206803928034396 1.7542602861873953\n",
       "2457588.6812777855   3.9463531997833456 1.6999474316532919\n",
       " 2457605.665631484 -0.24865047388008532 1.5273324594779027\n",
       " 2457609.668912377    2.899844972125228  2.300501097508865\n",
       "2457610.6746126967   0.1274551116349898  2.591715002116716\n",
       " 2457611.622353685  -0.5321407073330857 2.4855980080476785\n",
       "2457620.4387825723   -5.589271196225743 2.6719922616824587\n",
       " 2457633.587217013  -0.5912901163939923 2.8187013587162766\n",
       "               ...                  ...                ...\n",
       " 2458001.552633953   0.4692109850469064  1.256330392439282\n",
       "2458002.5944546075  -3.0233943478948504  1.365244983494327\n",
       " 2458005.525056351  -2.4292235854661595 1.3790949517074547\n",
       "2458007.5673712958  0.23701783720863023 1.3359154461579925\n",
       "2458009.5217915084   0.5945647050173866 1.2659012595653445\n",
       " 2458030.461554242  -1.2994798975928659 1.8147590076292106\n",
       "2458058.4223037614  -0.3771589755446858 1.7140371422924052\n",
       "2458059.4372275616   -0.975518154924709 1.3652931119313778\n",
       "2458060.3883806723   -1.164722256651164 1.2733237053967026\n",
       "2458093.5016282564  -1.2522444567151885 1.0539131018440808"
      ]
     },
     "execution_count": 37,
     "metadata": {},
     "output_type": "execute_result"
    }
   ],
   "source": [
    "rv_tbl = QTable(rv_lk.to_table())\n",
    "rv_tbl"
   ]
  },
  {
   "cell_type": "markdown",
   "id": "48b3cbfb",
   "metadata": {},
   "source": [
    "Generate a `QTable` object containing the periodogram."
   ]
  },
  {
   "cell_type": "code",
   "execution_count": 38,
   "id": "a344b8e8",
   "metadata": {
    "ExecuteTime": {
     "end_time": "2023-03-21T18:00:15.302918Z",
     "start_time": "2023-03-21T18:00:15.287958Z"
    }
   },
   "outputs": [
    {
     "data": {
      "text/html": [
       "<div><i>QTable length=964958</i>\n",
       "<table id=\"table2967926138048\" class=\"table-striped table-bordered table-condensed\">\n",
       "<thead><tr><th>freq</th><th>power</th></tr></thead>\n",
       "<thead><tr><th>1 / d</th><th>m2 / s2</th></tr></thead>\n",
       "<thead><tr><th>float64</th><th>float64</th></tr></thead>\n",
       "<tr><td>4.8</td><td>0.003022433798356641</td></tr>\n",
       "<tr><td>4.8001442550819675</td><td>0.003908165328127241</td></tr>\n",
       "<tr><td>4.800288510163935</td><td>0.004372034928360511</td></tr>\n",
       "<tr><td>4.800432765245903</td><td>0.004210087321191156</td></tr>\n",
       "<tr><td>4.800577020327871</td><td>0.004146853519391315</td></tr>\n",
       "<tr><td>4.800721275409838</td><td>0.0052309388284144335</td></tr>\n",
       "<tr><td>4.800865530491806</td><td>0.007971885393028188</td></tr>\n",
       "<tr><td>4.801009785573774</td><td>0.012555012636867934</td></tr>\n",
       "<tr><td>4.801154040655741</td><td>0.020266951513714746</td></tr>\n",
       "<tr><td>...</td><td>...</td></tr>\n",
       "<tr><td>143.9986528345609</td><td>0.023522022044344858</td></tr>\n",
       "<tr><td>143.99879708964286</td><td>0.024790664424274564</td></tr>\n",
       "<tr><td>143.9989413447248</td><td>0.025060487329393467</td></tr>\n",
       "<tr><td>143.9990855998068</td><td>0.025938960739725465</td></tr>\n",
       "<tr><td>143.99922985488877</td><td>0.02825231775949377</td></tr>\n",
       "<tr><td>143.99937410997072</td><td>0.03136956911009843</td></tr>\n",
       "<tr><td>143.9995183650527</td><td>0.03380991930713107</td></tr>\n",
       "<tr><td>143.99966262013467</td><td>0.034239879212868064</td></tr>\n",
       "<tr><td>143.99980687521662</td><td>0.032129011739395086</td></tr>\n",
       "<tr><td>143.9999511302986</td><td>0.02792323207394943</td></tr>\n",
       "</table></div>"
      ],
      "text/plain": [
       "<QTable length=964958>\n",
       "       freq                power        \n",
       "      1 / d               m2 / s2       \n",
       "     float64              float64       \n",
       "------------------ ---------------------\n",
       "               4.8  0.003022433798356641\n",
       "4.8001442550819675  0.003908165328127241\n",
       " 4.800288510163935  0.004372034928360511\n",
       " 4.800432765245903  0.004210087321191156\n",
       " 4.800577020327871  0.004146853519391315\n",
       " 4.800721275409838 0.0052309388284144335\n",
       " 4.800865530491806  0.007971885393028188\n",
       " 4.801009785573774  0.012555012636867934\n",
       " 4.801154040655741  0.020266951513714746\n",
       "               ...                   ...\n",
       " 143.9986528345609  0.023522022044344858\n",
       "143.99879708964286  0.024790664424274564\n",
       " 143.9989413447248  0.025060487329393467\n",
       " 143.9990855998068  0.025938960739725465\n",
       "143.99922985488877   0.02825231775949377\n",
       "143.99937410997072   0.03136956911009843\n",
       " 143.9995183650527   0.03380991930713107\n",
       "143.99966262013467  0.034239879212868064\n",
       "143.99980687521662  0.032129011739395086\n",
       " 143.9999511302986   0.02792323207394943"
      ]
     },
     "execution_count": 38,
     "metadata": {},
     "output_type": "execute_result"
    }
   ],
   "source": [
    "pg_tbl = QTable(data=[gls.freq, gls.power], names=['freq', 'power'], units=[1.0 / u.d, (u.m / u.s) ** 2])\n",
    "pg_tbl"
   ]
  },
  {
   "cell_type": "markdown",
   "id": "4aaf4dfd",
   "metadata": {},
   "source": [
    "### Generate the header units"
   ]
  },
  {
   "cell_type": "markdown",
   "id": "52c37c5b",
   "metadata": {},
   "source": [
    "#### Radial velocity curve"
   ]
  },
  {
   "cell_type": "code",
   "execution_count": 39,
   "id": "1a5c3b0e",
   "metadata": {
    "ExecuteTime": {
     "end_time": "2023-03-21T18:00:15.317877Z",
     "start_time": "2023-03-21T18:00:15.304912Z"
    }
   },
   "outputs": [],
   "source": [
    "hdu_rv = fits.table_to_hdu(rv_tbl)"
   ]
  },
  {
   "cell_type": "code",
   "execution_count": 40,
   "id": "004567c1",
   "metadata": {
    "ExecuteTime": {
     "end_time": "2023-03-21T18:00:15.365750Z",
     "start_time": "2023-03-21T18:00:15.361760Z"
    }
   },
   "outputs": [],
   "source": [
    "hdu_rv.name = \"RV_CURVE\""
   ]
  },
  {
   "cell_type": "code",
   "execution_count": 41,
   "id": "5f9f0ac6",
   "metadata": {
    "ExecuteTime": {
     "end_time": "2023-03-21T18:00:15.656971Z",
     "start_time": "2023-03-21T18:00:15.642011Z"
    }
   },
   "outputs": [
    {
     "data": {
      "text/plain": [
       "XTENSION= 'BINTABLE'           / binary table extension                         \n",
       "BITPIX  =                    8 / array data type                                \n",
       "NAXIS   =                    2 / number of array dimensions                     \n",
       "NAXIS1  =                   32 / length of dimension 1                          \n",
       "NAXIS2  =                   52 / length of dimension 2                          \n",
       "PCOUNT  =                    0 / number of group parameters                     \n",
       "GCOUNT  =                    1 / number of groups                               \n",
       "TFIELDS =                    3 / number of table fields                         \n",
       "TIMESYS = 'UTC     '           / Default time scale                             \n",
       "JDREF   =                  0.0 / Time columns are jd = jd1 + jd2                \n",
       "TREFPOS = 'TOPOCENTER'         / Time reference position                        \n",
       "TTYPE1  = 'time    '                                                            \n",
       "TFORM1  = '2D      '                                                            \n",
       "TUNIT1  = 'd       '                                                            \n",
       "TDIM1   = '(2)     '                                                            \n",
       "TCTYP1  = 'TDB     '                                                            \n",
       "TCUNI1  = 'd       '                                                            \n",
       "TTYPE2  = 'flux    '                                                            \n",
       "TFORM2  = 'D       '                                                            \n",
       "TUNIT2  = 'm s-1   '                                                            \n",
       "TTYPE3  = 'flux_err'                                                            \n",
       "TFORM3  = 'D       '                                                            \n",
       "TUNIT3  = 'm s-1   '                                                            \n",
       "EXTNAME = 'RV_CURVE'           / extension name                                 "
      ]
     },
     "execution_count": 41,
     "metadata": {},
     "output_type": "execute_result"
    }
   ],
   "source": [
    "hdu_rv.header"
   ]
  },
  {
   "cell_type": "code",
   "execution_count": 42,
   "id": "f5af4282",
   "metadata": {
    "ExecuteTime": {
     "end_time": "2023-03-21T18:00:15.949190Z",
     "start_time": "2023-03-21T18:00:15.930241Z"
    }
   },
   "outputs": [
    {
     "data": {
      "text/plain": [
       "FITS_rec([([ 2.45740000e+06,  2.85149251e-01], -7.69950723, 1.51808509),\n",
       "          ([ 2.45742100e+06,  2.60370404e-01], -2.20680393, 1.75426029),\n",
       "          ([ 2.45758900e+06, -3.18722215e-01],  3.9463532 , 1.69994743),\n",
       "          ([ 2.45760600e+06, -3.34368516e-01], -0.24865047, 1.52733246),\n",
       "          ([ 2.45761000e+06, -3.31087623e-01],  2.89984497, 2.3005011 ),\n",
       "          ([ 2.45761100e+06, -3.25387303e-01],  0.12745511, 2.591715  ),\n",
       "          ([ 2.45761200e+06, -3.77646315e-01], -0.53214071, 2.48559801),\n",
       "          ([ 2.45762000e+06,  4.38782572e-01], -5.5892712 , 2.67199226),\n",
       "          ([ 2.45763400e+06, -4.12782987e-01], -0.59129012, 2.81870136),\n",
       "          ([ 2.45763700e+06, -4.27762062e-01], -0.19704525, 2.53750907)],\n",
       "         dtype=(numpy.record, [('time', '<f8', (2,)), ('flux', '<f8'), ('flux_err', '<f8')]))"
      ]
     },
     "execution_count": 42,
     "metadata": {},
     "output_type": "execute_result"
    }
   ],
   "source": [
    "hdu_rv.data[:10]"
   ]
  },
  {
   "cell_type": "code",
   "execution_count": 43,
   "id": "0db13f01",
   "metadata": {
    "ExecuteTime": {
     "end_time": "2023-03-21T18:00:16.197713Z",
     "start_time": "2023-03-21T18:00:16.185744Z"
    }
   },
   "outputs": [],
   "source": [
    "psample = rv_infer_sampling(rv_lk).value\n",
    "fsample = 1.0 / psample\n",
    "fnyq = 2.0 * fsample\n",
    "freq_units = u.d ** (-1)"
   ]
  },
  {
   "cell_type": "code",
   "execution_count": 44,
   "id": "54ef341b",
   "metadata": {
    "ExecuteTime": {
     "end_time": "2023-03-21T18:00:16.430575Z",
     "start_time": "2023-03-21T18:00:16.409631Z"
    }
   },
   "outputs": [
    {
     "data": {
      "text/plain": [
       "XTENSION= 'BINTABLE'           / binary table extension                         \n",
       "BITPIX  =                    8 / array data type                                \n",
       "NAXIS   =                    2 / number of array dimensions                     \n",
       "NAXIS1  =                   32 / length of dimension 1                          \n",
       "NAXIS2  =                   52 / length of dimension 2                          \n",
       "PCOUNT  =                    0 / number of group parameters                     \n",
       "GCOUNT  =                    1 / number of groups                               \n",
       "TFIELDS =                    3 / number of table fields                         \n",
       "TIMESYS = 'UTC     '           / Default time scale                             \n",
       "JDREF   =                  0.0 / Time columns are jd = jd1 + jd2                \n",
       "TREFPOS = 'TOPOCENTER'         / Time reference position                        \n",
       "TTYPE1  = 'time    '                                                            \n",
       "TFORM1  = '2D      '                                                            \n",
       "TUNIT1  = 'd       '                                                            \n",
       "TDIM1   = '(2)     '                                                            \n",
       "TCTYP1  = 'TDB     '                                                            \n",
       "TCUNI1  = 'd       '                                                            \n",
       "TTYPE2  = 'flux    '                                                            \n",
       "TFORM2  = 'D       '                                                            \n",
       "TUNIT2  = 'm s-1   '                                                            \n",
       "TTYPE3  = 'flux_err'                                                            \n",
       "TFORM3  = 'D       '                                                            \n",
       "TUNIT3  = 'm s-1   '                                                            \n",
       "EXTNAME = 'RV_CURVE'           / extension name                                 \n",
       "OBJECT  = 'J00051+457'         / KARMENES target name                           \n",
       "PUNIT   = 'd       '                                                            \n",
       "FUNIT   = 'd-1     '                                                            \n",
       "RVPOINTS=                   52 / Number of points in the RV curve               \n",
       "AVGFLUX = -0.05094310699246005 / Average flux of RV curve                       \n",
       "RMSFLUX =    8.041901388025053 / Flux RMS of RV curve                           \n",
       "PSAMPLE =     3.02420084644109 / Inferred cadence in RV curve                   \n",
       "FSAMPLE =   0.3306658686961251 / Inferred sampling frequency in RV curve        \n",
       "FNYQUIST=   0.6613317373922503 / Calculated Nyquist frequency value             "
      ]
     },
     "execution_count": 44,
     "metadata": {},
     "output_type": "execute_result"
    }
   ],
   "source": [
    "# Add values to header:\n",
    "hdu_rv.header['OBJECT'] = (\"J00051+457\", \"KARMENES target name\")\n",
    "hdu_rv.header['PUNIT'] = u.d.to_string(format='fits')\n",
    "hdu_rv.header['FUNIT'] = freq_units.to_string(format='fits')\n",
    "hdu_rv.header['RVPOINTS'] = (gls.N, \"Number of points in the RV curve\")\n",
    "hdu_rv.header['AVGFLUX'] = (gls._Y, \"Average flux of RV curve\")\n",
    "hdu_rv.header['RMSFLUX'] = (gls._YY, \"Flux RMS of RV curve\")\n",
    "hdu_rv.header['PSAMPLE'] = (psample, \"Inferred cadence in RV curve\")\n",
    "hdu_rv.header['FSAMPLE'] = (fsample, \"Inferred sampling frequency in RV curve\")\n",
    "hdu_rv.header['FNYQUIST'] = (fnyq, \"Calculated Nyquist frequency value\")\n",
    "hdu_rv.header"
   ]
  },
  {
   "cell_type": "markdown",
   "id": "8df84e9c",
   "metadata": {},
   "source": [
    "#### Periodogram"
   ]
  },
  {
   "cell_type": "code",
   "execution_count": 45,
   "id": "bb142148",
   "metadata": {
    "ExecuteTime": {
     "end_time": "2023-03-21T18:00:16.896159Z",
     "start_time": "2023-03-21T18:00:16.874217Z"
    }
   },
   "outputs": [],
   "source": [
    "hdu_pg = fits.table_to_hdu(pg_tbl)"
   ]
  },
  {
   "cell_type": "code",
   "execution_count": 46,
   "id": "c9c49c40",
   "metadata": {
    "ExecuteTime": {
     "end_time": "2023-03-21T18:00:17.128560Z",
     "start_time": "2023-03-21T18:00:17.114598Z"
    }
   },
   "outputs": [],
   "source": [
    "hdu_pg.name = \"GLS_PG\""
   ]
  },
  {
   "cell_type": "code",
   "execution_count": 47,
   "id": "b99bae6d",
   "metadata": {
    "ExecuteTime": {
     "end_time": "2023-03-21T18:00:17.374903Z",
     "start_time": "2023-03-21T18:00:17.355954Z"
    }
   },
   "outputs": [
    {
     "data": {
      "text/plain": [
       "XTENSION= 'BINTABLE'           / binary table extension                         \n",
       "BITPIX  =                    8 / array data type                                \n",
       "NAXIS   =                    2 / number of array dimensions                     \n",
       "NAXIS1  =                   16 / length of dimension 1                          \n",
       "NAXIS2  =               964958 / length of dimension 2                          \n",
       "PCOUNT  =                    0 / number of group parameters                     \n",
       "GCOUNT  =                    1 / number of groups                               \n",
       "TFIELDS =                    2 / number of table fields                         \n",
       "TTYPE1  = 'freq    '                                                            \n",
       "TFORM1  = 'D       '                                                            \n",
       "TUNIT1  = 'd-1     '                                                            \n",
       "TTYPE2  = 'power   '                                                            \n",
       "TFORM2  = 'D       '                                                            \n",
       "TUNIT2  = 'm2 s-2  '                                                            \n",
       "EXTNAME = 'GLS_PG  '           / extension name                                 "
      ]
     },
     "execution_count": 47,
     "metadata": {},
     "output_type": "execute_result"
    }
   ],
   "source": [
    "hdu_pg.header"
   ]
  },
  {
   "cell_type": "code",
   "execution_count": 48,
   "id": "305cbbf3",
   "metadata": {
    "ExecuteTime": {
     "end_time": "2023-03-21T18:00:17.609923Z",
     "start_time": "2023-03-21T18:00:17.602941Z"
    }
   },
   "outputs": [
    {
     "data": {
      "text/plain": [
       "FITS_rec([(4.8       , 0.00302243), (4.80014426, 0.00390817),\n",
       "          (4.80028851, 0.00437203), (4.80043277, 0.00421009),\n",
       "          (4.80057702, 0.00414685), (4.80072128, 0.00523094),\n",
       "          (4.80086553, 0.00797189), (4.80100979, 0.01255501),\n",
       "          (4.80115404, 0.02026695), (4.8012983 , 0.03398342)],\n",
       "         dtype=(numpy.record, [('freq', '<f8'), ('power', '<f8')]))"
      ]
     },
     "execution_count": 48,
     "metadata": {},
     "output_type": "execute_result"
    }
   ],
   "source": [
    "hdu_pg.data[:10]"
   ]
  },
  {
   "cell_type": "code",
   "execution_count": 49,
   "id": "9e44d46e",
   "metadata": {
    "ExecuteTime": {
     "end_time": "2023-03-21T18:00:17.854824Z",
     "start_time": "2023-03-21T18:00:17.841860Z"
    }
   },
   "outputs": [],
   "source": [
    "fpoints = len(gls.f)\n",
    "fres = (gls.fend - gls.fbeg) / (fpoints - 1)"
   ]
  },
  {
   "cell_type": "code",
   "execution_count": 50,
   "id": "187b5682",
   "metadata": {
    "ExecuteTime": {
     "end_time": "2023-03-21T18:00:18.134377Z",
     "start_time": "2023-03-21T18:00:18.107449Z"
    }
   },
   "outputs": [
    {
     "data": {
      "text/plain": [
       "XTENSION= 'BINTABLE'           / binary table extension                         \n",
       "BITPIX  =                    8 / array data type                                \n",
       "NAXIS   =                    2 / number of array dimensions                     \n",
       "NAXIS1  =                   16 / length of dimension 1                          \n",
       "NAXIS2  =               964958 / length of dimension 2                          \n",
       "PCOUNT  =                    0 / number of group parameters                     \n",
       "GCOUNT  =                    1 / number of groups                               \n",
       "TFIELDS =                    2 / number of table fields                         \n",
       "TTYPE1  = 'freq    '                                                            \n",
       "TFORM1  = 'D       '                                                            \n",
       "TUNIT1  = 'd-1     '                                                            \n",
       "TTYPE2  = 'power   '                                                            \n",
       "TFORM2  = 'D       '                                                            \n",
       "TUNIT2  = 'm2 s-2  '                                                            \n",
       "EXTNAME = 'GLS_PG  '           / extension name                                 \n",
       "OBJECT  = 'J00051+457'         / KARMENES target name                           \n",
       "FUNIT   = 'd-1     '           / Unit for frequencies                           \n",
       "PUNIT   = 'd       '           / Unit for periods                               \n",
       "PK_FREQ =    79.55399326123199 / Frequency of the peak in periodogram           \n",
       "PK_POW  =   0.4242270238994854 / Power of the peak in periodogram               \n",
       "PK_SNR  =   0.4242270238994854 / Power of the peak in periodogram               \n",
       "RES_RMS =    2.151815395355755 / RMS of residuals in periodogram                \n",
       "FSAMPLE =   0.3306658686961251 / Inferred sampling frequency in RV curve        \n",
       "FNYQUIST=   0.6613317373922503 / Calculated Nyquist frequency value             \n",
       "FPOINTS =               964958 / Number of points in periodogram                \n",
       "FBEG    =                  4.8 / Start frequency in periodogram                 \n",
       "FEND    =                  144 / End frequency in periodogram                   \n",
       "FRES    = 0.000144255132612126 / Frequency resolution in periodogram            \n",
       "F       =    79.55399326123199 / Peak best estimate: frequency                  \n",
       "E_F     = 0.000167594463452720 / Peak best estimate: frequency error            \n",
       "P       =  0.01257007925065802 / Peak best estimate: period                     \n",
       "E_P     = 2.64810803482171E-08 / Peak best estimate: period error               \n",
       "A       =    2.794886736597751 / Peak best estimate: amplitude                  \n",
       "E_A     =   0.4220057188680141 / Peak best estimate: amplitude error            \n",
       "PH      =  -0.2495553999805767 / Peak best estimate: phase                      \n",
       "E_PH    =  0.02403113345933047 / Peak best estimate: phase error                \n",
       "T0      =    2457400.288286182 / Peak best estimate: frequency                  \n",
       "E_T0    = 0.000302073252066923 / Peak best estimate: frequency error            \n",
       "OFF     =   0.2076457428319727 / Peak best estimate: offset                     \n",
       "E_OFF   =   0.2984031055110766 / Peak best estimate: offset error               \n",
       "OFAC    =                   10 / Setup: oversampling factor                     \n",
       "HIFAC   =                   10 / Setup: maximum frequency factor                \n",
       "NORM    = 'ZK      '           / Setup: normalization type                      \n",
       "LS      =                    F / Setup: conventional Lomb-Scargle calculation   \n",
       "FAST    =                   10 / Setup: fast evaluation, recursive trigonometric"
      ]
     },
     "execution_count": 50,
     "metadata": {},
     "output_type": "execute_result"
    }
   ],
   "source": [
    "# Add values to header:\n",
    "hdu_pg.header['OBJECT'] = (\"J00051+457\", \"KARMENES target name\")\n",
    "hdu_pg.header['FUNIT'] = (freq_units.to_string(format='fits'), \"Unit for frequencies\")\n",
    "hdu_pg.header['PUNIT'] = (u.d.to_string(format='fits'), \"Unit for periods\")\n",
    "hdu_pg.header['PK_FREQ'] = (gls.best['f'], \"Frequency of the peak in periodogram\")\n",
    "hdu_pg.header['PK_POW'] = (gls.pmax, \"Power of the peak in periodogram\")\n",
    "hdu_pg.header['PK_SNR'] = (gls.pmax, \"Power of the peak in periodogram\")\n",
    "hdu_pg.header['RES_RMS'] = (gls.rms, \"RMS of residuals in periodogram\")\n",
    "hdu_pg.header['FSAMPLE'] = (fsample, \"Inferred sampling frequency in RV curve\")\n",
    "hdu_pg.header['FNYQUIST'] = (fnyq, \"Calculated Nyquist frequency value\")\n",
    "hdu_pg.header['FPOINTS'] = (fpoints, \"Number of points in periodogram\")\n",
    "hdu_pg.header['FBEG'] = (gls.fbeg, \"Start frequency in periodogram\")\n",
    "hdu_pg.header['FEND'] = (gls.fend, \"End frequency in periodogram\")\n",
    "hdu_pg.header['FRES'] = (fres, \"Frequency resolution in periodogram\")\n",
    "hdu_pg.header['F'] = (gls.best['f'], \"Peak best estimate: frequency\")\n",
    "hdu_pg.header['E_F'] = (gls.best['e_f'], \"Peak best estimate: frequency error\")\n",
    "hdu_pg.header['P'] = (gls.best['P'], \"Peak best estimate: period\")\n",
    "hdu_pg.header['E_P'] = (gls.best['e_P'], \"Peak best estimate: period error\")\n",
    "hdu_pg.header['A'] = (gls.best['amp'], \"Peak best estimate: amplitude\")\n",
    "hdu_pg.header['E_A'] = (gls.best['e_amp'], \"Peak best estimate: amplitude error\")\n",
    "hdu_pg.header['PH'] = (gls.best['ph'], \"Peak best estimate: phase\")\n",
    "hdu_pg.header['E_PH'] = (gls.best['e_ph'], \"Peak best estimate: phase error\")\n",
    "hdu_pg.header['T0'] = (gls.best['T0'], \"Peak best estimate: frequency\")\n",
    "hdu_pg.header['E_T0'] = (gls.best['e_T0'], \"Peak best estimate: frequency error\")\n",
    "hdu_pg.header['OFF'] = (gls.best['offset'], \"Peak best estimate: offset\")\n",
    "hdu_pg.header['E_OFF'] = (gls.best['e_offset'], \"Peak best estimate: offset error\")\n",
    "hdu_pg.header['OFAC'] = (gls.ofac, \"Setup: oversampling factor\")\n",
    "hdu_pg.header['HIFAC'] = (gls.ofac, \"Setup: maximum frequency factor\")\n",
    "hdu_pg.header['NORM'] = (gls.norm, \"Setup: normalization type\")\n",
    "hdu_pg.header['LS'] = (gls.ls, \"Setup: conventional Lomb-Scargle calculation\")\n",
    "hdu_pg.header['FAST'] = (gls.ofac, \"Setup: fast evaluation, recursive trigonometric\")\n",
    "hdu_pg.header"
   ]
  },
  {
   "cell_type": "markdown",
   "id": "b64763d9",
   "metadata": {},
   "source": [
    "### Create the fits object with the header and the two `HDU`"
   ]
  },
  {
   "cell_type": "code",
   "execution_count": 51,
   "id": "1df34f14",
   "metadata": {
    "ExecuteTime": {
     "end_time": "2023-03-21T18:00:19.133706Z",
     "start_time": "2023-03-21T18:00:19.129718Z"
    }
   },
   "outputs": [],
   "source": [
    "hdul = fits.HDUList([hdu_primary, hdu_rv, hdu_pg])"
   ]
  },
  {
   "cell_type": "code",
   "execution_count": 52,
   "id": "671c53bc",
   "metadata": {
    "ExecuteTime": {
     "end_time": "2023-03-21T18:00:19.414953Z",
     "start_time": "2023-03-21T18:00:19.409967Z"
    }
   },
   "outputs": [
    {
     "data": {
      "text/plain": [
       "[<astropy.io.fits.hdu.image.PrimaryHDU object at 0x000002B3062E7970>, <astropy.io.fits.hdu.table.BinTableHDU object at 0x000002B34BD2EF10>, <astropy.io.fits.hdu.table.BinTableHDU object at 0x000002B305607D30>]"
      ]
     },
     "execution_count": 52,
     "metadata": {},
     "output_type": "execute_result"
    }
   ],
   "source": [
    "hdul"
   ]
  },
  {
   "cell_type": "markdown",
   "id": "b37a0e05",
   "metadata": {},
   "source": [
    "### Write the `fits` object to file"
   ]
  },
  {
   "cell_type": "code",
   "execution_count": 53,
   "id": "1c404882",
   "metadata": {
    "ExecuteTime": {
     "end_time": "2023-03-21T18:00:20.039285Z",
     "start_time": "2023-03-21T18:00:20.034298Z"
    }
   },
   "outputs": [],
   "source": [
    "hdul.close()"
   ]
  },
  {
   "cell_type": "code",
   "execution_count": 54,
   "id": "f960362c",
   "metadata": {
    "ExecuteTime": {
     "end_time": "2023-03-21T18:00:20.584019Z",
     "start_time": "2023-03-21T18:00:20.539140Z"
    }
   },
   "outputs": [],
   "source": [
    "hdul.writeto(PG_OUT_FILE, overwrite=True)"
   ]
  },
  {
   "cell_type": "markdown",
   "id": "17bfa247",
   "metadata": {},
   "source": [
    "**NOTE:** it is important to close the `HDUList` object after use, as well as also delete the read data, so as to eliminate all the pointers to the file (see https://docs.astropy.org/en/stable/io/fits/index.html#working-with-large-files)."
   ]
  },
  {
   "cell_type": "code",
   "execution_count": 55,
   "id": "54c04a59",
   "metadata": {
    "ExecuteTime": {
     "end_time": "2023-03-21T18:00:21.395285Z",
     "start_time": "2023-03-21T18:00:21.387306Z"
    }
   },
   "outputs": [],
   "source": [
    "hdul.close()"
   ]
  },
  {
   "cell_type": "code",
   "execution_count": 56,
   "id": "33a76f27",
   "metadata": {
    "ExecuteTime": {
     "end_time": "2023-03-21T18:00:21.955559Z",
     "start_time": "2023-03-21T18:00:21.946583Z"
    }
   },
   "outputs": [],
   "source": [
    "del hdul"
   ]
  },
  {
   "cell_type": "code",
   "execution_count": 57,
   "id": "2e5a6770",
   "metadata": {
    "ExecuteTime": {
     "end_time": "2023-03-21T18:00:22.376719Z",
     "start_time": "2023-03-21T18:00:22.370736Z"
    }
   },
   "outputs": [],
   "source": [
    "del hdu_primary"
   ]
  },
  {
   "cell_type": "code",
   "execution_count": 58,
   "id": "7c19dd01",
   "metadata": {
    "ExecuteTime": {
     "end_time": "2023-03-21T18:00:22.923979Z",
     "start_time": "2023-03-21T18:00:22.916015Z"
    }
   },
   "outputs": [],
   "source": [
    "del hdu_rv"
   ]
  },
  {
   "cell_type": "code",
   "execution_count": 59,
   "id": "a4b10eb5",
   "metadata": {
    "ExecuteTime": {
     "end_time": "2023-03-21T18:00:23.299371Z",
     "start_time": "2023-03-21T18:00:23.281421Z"
    }
   },
   "outputs": [],
   "source": [
    "del hdu_pg"
   ]
  },
  {
   "cell_type": "markdown",
   "id": "0d05d266",
   "metadata": {},
   "source": [
    "### Test opening recently created `fits`file and working with it"
   ]
  },
  {
   "cell_type": "code",
   "execution_count": 60,
   "id": "c55f3794",
   "metadata": {
    "ExecuteTime": {
     "end_time": "2023-03-21T18:00:23.889903Z",
     "start_time": "2023-03-21T18:00:23.865967Z"
    }
   },
   "outputs": [
    {
     "data": {
      "text/plain": [
       "[<astropy.io.fits.hdu.image.PrimaryHDU object at 0x000002B305612CD0>, <astropy.io.fits.hdu.table.BinTableHDU object at 0x000002B3056124F0>, <astropy.io.fits.hdu.table.BinTableHDU object at 0x000002B305612970>]"
      ]
     },
     "execution_count": 60,
     "metadata": {},
     "output_type": "execute_result"
    }
   ],
   "source": [
    "read_hdul = fits.open(PG_OUT_FILE, mode='update', memmap=False)\n",
    "read_hdul"
   ]
  },
  {
   "cell_type": "code",
   "execution_count": 61,
   "id": "2ed25489",
   "metadata": {
    "ExecuteTime": {
     "end_time": "2023-03-21T18:00:24.203955Z",
     "start_time": "2023-03-21T18:00:24.187002Z"
    }
   },
   "outputs": [
    {
     "name": "stdout",
     "output_type": "stream",
     "text": [
      "Filename: ./img/ETL_25_01_Test_RV_and_PG.fits\n",
      "No.    Name      Ver    Type      Cards   Dimensions   Format\n",
      "  0  PRIMARY       1 PrimaryHDU      17   ()      \n",
      "  1  RV_CURVE      1 BinTableHDU     33   52R x 3C   [2D, D, D]   \n",
      "  2  GLS_PG        1 BinTableHDU     45   964958R x 2C   [D, D]   \n"
     ]
    }
   ],
   "source": [
    "read_hdul.info()"
   ]
  },
  {
   "cell_type": "markdown",
   "id": "1740aebe",
   "metadata": {},
   "source": [
    "#### Retrieve basic information"
   ]
  },
  {
   "cell_type": "code",
   "execution_count": 62,
   "id": "0b841a62",
   "metadata": {
    "ExecuteTime": {
     "end_time": "2023-03-21T18:00:24.970882Z",
     "start_time": "2023-03-21T18:00:24.954924Z"
    }
   },
   "outputs": [
    {
     "data": {
      "text/plain": [
       "SIMPLE  =                    T / conforms to FITS standard                      \n",
       "BITPIX  =                    8 / array data type                                \n",
       "NAXIS   =                    0 / number of array dimensions                     \n",
       "EXTEND  =                    T                                                  \n",
       "OBJECT  = 'J00051+457'         / KARMENES target name                           \n",
       "NAME    = 'GJ 2    '           / Object common name                             \n",
       "TIC     = '439946126'          / Object TESS identifier                         \n",
       "RA_J2000= '00:05:10.89'        / Object right ascension (J2000)                 \n",
       "DE_J2000= '+45:47:11.6'        / Object declination (J2000)                     \n",
       "SPTYPE  = 'M1.0 V  '           / Spectral type                                  \n",
       "TEFF_K  =                 3773 / Effective temperature in Kelvin                \n",
       "LOGG    =                 5.07 / Logarithm of surface gravity                   \n",
       "FEH     =                -0.04 / Metallicity                                    \n",
       "L_LSUN  =            0.0436229 / Luminosity in Solar luminosities               \n",
       "R_RSUN  =              0.48881 / Radius in Solar radii                          \n",
       "M_MSUN  =               0.4918 / Mass in Solar masses                           \n",
       "D_PC    =          11.50352803 / Distance in parsec                             "
      ]
     },
     "execution_count": 62,
     "metadata": {},
     "output_type": "execute_result"
    }
   ],
   "source": [
    "read_hdul['PRIMARY'].header"
   ]
  },
  {
   "cell_type": "code",
   "execution_count": 63,
   "id": "10df788c",
   "metadata": {
    "ExecuteTime": {
     "end_time": "2023-03-21T18:00:25.286907Z",
     "start_time": "2023-03-21T18:00:25.274940Z"
    }
   },
   "outputs": [
    {
     "data": {
      "text/plain": [
       "SIMPLE  =                    T / conforms to FITS standard                      \n",
       "BITPIX  =                    8 / array data type                                \n",
       "NAXIS   =                    0 / number of array dimensions                     \n",
       "EXTEND  =                    T                                                  \n",
       "OBJECT  = 'J00051+457'         / KARMENES target name                           \n",
       "NAME    = 'GJ 2    '           / Object common name                             \n",
       "TIC     = '439946126'          / Object TESS identifier                         \n",
       "RA_J2000= '00:05:10.89'        / Object right ascension (J2000)                 \n",
       "DE_J2000= '+45:47:11.6'        / Object declination (J2000)                     \n",
       "SPTYPE  = 'M1.0 V  '           / Spectral type                                  \n",
       "TEFF_K  =                 3773 / Effective temperature in Kelvin                \n",
       "LOGG    =                 5.07 / Logarithm of surface gravity                   \n",
       "FEH     =                -0.04 / Metallicity                                    \n",
       "L_LSUN  =            0.0436229 / Luminosity in Solar luminosities               \n",
       "R_RSUN  =              0.48881 / Radius in Solar radii                          \n",
       "M_MSUN  =               0.4918 / Mass in Solar masses                           \n",
       "D_PC    =          11.50352803 / Distance in parsec                             "
      ]
     },
     "execution_count": 63,
     "metadata": {},
     "output_type": "execute_result"
    }
   ],
   "source": [
    "read_hdul[0].header"
   ]
  },
  {
   "cell_type": "markdown",
   "id": "d2923876",
   "metadata": {},
   "source": [
    "#### Retrieve RV curve information"
   ]
  },
  {
   "cell_type": "code",
   "execution_count": 64,
   "id": "d99f7f20",
   "metadata": {
    "ExecuteTime": {
     "end_time": "2023-03-21T18:00:26.037777Z",
     "start_time": "2023-03-21T18:00:26.018830Z"
    }
   },
   "outputs": [
    {
     "data": {
      "text/plain": [
       "<astropy.io.fits.hdu.table.BinTableHDU at 0x2b3056124f0>"
      ]
     },
     "execution_count": 64,
     "metadata": {},
     "output_type": "execute_result"
    }
   ],
   "source": [
    "read_hdul['RV_CURVE']"
   ]
  },
  {
   "cell_type": "code",
   "execution_count": 65,
   "id": "55a69263",
   "metadata": {
    "ExecuteTime": {
     "end_time": "2023-03-21T18:00:26.332551Z",
     "start_time": "2023-03-21T18:00:26.323575Z"
    }
   },
   "outputs": [
    {
     "data": {
      "text/plain": [
       "XTENSION= 'BINTABLE'           / binary table extension                         \n",
       "BITPIX  =                    8 / array data type                                \n",
       "NAXIS   =                    2 / number of array dimensions                     \n",
       "NAXIS1  =                   32 / length of dimension 1                          \n",
       "NAXIS2  =                   52 / length of dimension 2                          \n",
       "PCOUNT  =                    0 / number of group parameters                     \n",
       "GCOUNT  =                    1 / number of groups                               \n",
       "TFIELDS =                    3 / number of table fields                         \n",
       "TIMESYS = 'UTC     '           / Default time scale                             \n",
       "JDREF   =                  0.0 / Time columns are jd = jd1 + jd2                \n",
       "TREFPOS = 'TOPOCENTER'         / Time reference position                        \n",
       "TTYPE1  = 'time    '                                                            \n",
       "TFORM1  = '2D      '                                                            \n",
       "TUNIT1  = 'd       '                                                            \n",
       "TDIM1   = '(2)     '                                                            \n",
       "TCTYP1  = 'TDB     '                                                            \n",
       "TCUNI1  = 'd       '                                                            \n",
       "TTYPE2  = 'flux    '                                                            \n",
       "TFORM2  = 'D       '                                                            \n",
       "TUNIT2  = 'm s-1   '                                                            \n",
       "TTYPE3  = 'flux_err'                                                            \n",
       "TFORM3  = 'D       '                                                            \n",
       "TUNIT3  = 'm s-1   '                                                            \n",
       "EXTNAME = 'RV_CURVE'           / extension name                                 \n",
       "OBJECT  = 'J00051+457'         / KARMENES target name                           \n",
       "PUNIT   = 'd       '                                                            \n",
       "FUNIT   = 'd-1     '                                                            \n",
       "RVPOINTS=                   52 / Number of points in the RV curve               \n",
       "AVGFLUX = -0.05094310699246005 / Average flux of RV curve                       \n",
       "RMSFLUX =    8.041901388025053 / Flux RMS of RV curve                           \n",
       "PSAMPLE =     3.02420084644109 / Inferred cadence in RV curve                   \n",
       "FSAMPLE =   0.3306658686961251 / Inferred sampling frequency in RV curve        \n",
       "FNYQUIST=   0.6613317373922503 / Calculated Nyquist frequency value             "
      ]
     },
     "execution_count": 65,
     "metadata": {},
     "output_type": "execute_result"
    }
   ],
   "source": [
    "read_hdul['RV_CURVE'].header"
   ]
  },
  {
   "cell_type": "code",
   "execution_count": 66,
   "id": "10a01320",
   "metadata": {
    "ExecuteTime": {
     "end_time": "2023-03-21T18:00:26.658322Z",
     "start_time": "2023-03-21T18:00:26.642364Z"
    }
   },
   "outputs": [
    {
     "data": {
      "text/plain": [
       "FITS_rec([([ 2.45740000e+06,  2.85149251e-01], -7.69950723, 1.51808509),\n",
       "          ([ 2.45742100e+06,  2.60370404e-01], -2.20680393, 1.75426029),\n",
       "          ([ 2.45758900e+06, -3.18722215e-01],  3.9463532 , 1.69994743),\n",
       "          ([ 2.45760600e+06, -3.34368516e-01], -0.24865047, 1.52733246),\n",
       "          ([ 2.45761000e+06, -3.31087623e-01],  2.89984497, 2.3005011 ),\n",
       "          ([ 2.45761100e+06, -3.25387303e-01],  0.12745511, 2.591715  ),\n",
       "          ([ 2.45761200e+06, -3.77646315e-01], -0.53214071, 2.48559801),\n",
       "          ([ 2.45762000e+06,  4.38782572e-01], -5.5892712 , 2.67199226),\n",
       "          ([ 2.45763400e+06, -4.12782987e-01], -0.59129012, 2.81870136),\n",
       "          ([ 2.45763700e+06, -4.27762062e-01], -0.19704525, 2.53750907)],\n",
       "         dtype=(numpy.record, [('time', '>f8', (2,)), ('flux', '>f8'), ('flux_err', '>f8')]))"
      ]
     },
     "execution_count": 66,
     "metadata": {},
     "output_type": "execute_result"
    }
   ],
   "source": [
    "read_hdul['RV_CURVE'].data[:10]"
   ]
  },
  {
   "cell_type": "code",
   "execution_count": 67,
   "id": "abcd1830",
   "metadata": {
    "ExecuteTime": {
     "end_time": "2023-03-21T18:00:27.108319Z",
     "start_time": "2023-03-21T18:00:26.986644Z"
    }
   },
   "outputs": [
    {
     "data": {
      "text/html": [
       "<div><i>QTable length=52</i>\n",
       "<table id=\"table2967912740560\" class=\"table-striped table-bordered table-condensed\">\n",
       "<thead><tr><th>time</th><th>flux</th><th>flux_err</th></tr></thead>\n",
       "<thead><tr><th>d</th><th>m / s</th><th>m / s</th></tr></thead>\n",
       "<thead><tr><th>float64[2]</th><th>float64</th><th>float64</th></tr></thead>\n",
       "<tr><td>2457400.0 .. 0.28514925111085176</td><td>-7.699507225686425</td><td>1.518085090707883</td></tr>\n",
       "<tr><td>2457421.0 .. 0.2603704044595361</td><td>-2.206803928034396</td><td>1.7542602861873953</td></tr>\n",
       "<tr><td>2457589.0 .. -0.3187222145497799</td><td>3.9463531997833456</td><td>1.6999474316532919</td></tr>\n",
       "<tr><td>2457606.0 .. -0.3343685162253678</td><td>-0.24865047388008532</td><td>1.5273324594779027</td></tr>\n",
       "<tr><td>2457610.0 .. -0.3310876227915287</td><td>2.899844972125228</td><td>2.300501097508865</td></tr>\n",
       "<tr><td>2457611.0 .. -0.3253873032517731</td><td>0.1274551116349898</td><td>2.591715002116716</td></tr>\n",
       "<tr><td>2457612.0 .. -0.3776463149115443</td><td>-0.5321407073330857</td><td>2.4855980080476785</td></tr>\n",
       "<tr><td>2457620.0 .. 0.43878257228061557</td><td>-5.589271196225743</td><td>2.6719922616824587</td></tr>\n",
       "<tr><td>2457634.0 .. -0.41278298711404204</td><td>-0.5912901163939923</td><td>2.8187013587162766</td></tr>\n",
       "<tr><td>...</td><td>...</td><td>...</td></tr>\n",
       "<tr><td>2458002.0 .. -0.44736604718491435</td><td>0.4692109850469064</td><td>1.256330392439282</td></tr>\n",
       "<tr><td>2458003.0 .. -0.4055453925393522</td><td>-3.0233943478948504</td><td>1.365244983494327</td></tr>\n",
       "<tr><td>2458006.0 .. -0.4749436490237713</td><td>-2.4292235854661595</td><td>1.3790949517074547</td></tr>\n",
       "<tr><td>2458008.0 .. -0.4326287042349577</td><td>0.23701783720863023</td><td>1.3359154461579925</td></tr>\n",
       "<tr><td>2458010.0 .. -0.47820849157869816</td><td>0.5945647050173866</td><td>1.2659012595653445</td></tr>\n",
       "<tr><td>2458030.0 .. 0.4615542418323457</td><td>-1.2994798975928659</td><td>1.8147590076292106</td></tr>\n",
       "<tr><td>2458058.0 .. 0.4223037613555789</td><td>-0.3771589755446858</td><td>1.7140371422924052</td></tr>\n",
       "<tr><td>2458059.0 .. 0.4372275616042316</td><td>-0.975518154924709</td><td>1.3652931119313778</td></tr>\n",
       "<tr><td>2458060.0 .. 0.38838067231699824</td><td>-1.164722256651164</td><td>1.2733237053967026</td></tr>\n",
       "<tr><td>2458094.0 .. -0.49837174359709024</td><td>-1.2522444567151885</td><td>1.0539131018440808</td></tr>\n",
       "</table></div>"
      ],
      "text/plain": [
       "<QTable length=52>\n",
       "               time                       flux              flux_err     \n",
       "                d                        m / s               m / s       \n",
       "            float64[2]                  float64             float64      \n",
       "--------------------------------- -------------------- ------------------\n",
       " 2457400.0 .. 0.28514925111085176   -7.699507225686425  1.518085090707883\n",
       "  2457421.0 .. 0.2603704044595361   -2.206803928034396 1.7542602861873953\n",
       " 2457589.0 .. -0.3187222145497799   3.9463531997833456 1.6999474316532919\n",
       " 2457606.0 .. -0.3343685162253678 -0.24865047388008532 1.5273324594779027\n",
       " 2457610.0 .. -0.3310876227915287    2.899844972125228  2.300501097508865\n",
       " 2457611.0 .. -0.3253873032517731   0.1274551116349898  2.591715002116716\n",
       " 2457612.0 .. -0.3776463149115443  -0.5321407073330857 2.4855980080476785\n",
       " 2457620.0 .. 0.43878257228061557   -5.589271196225743 2.6719922616824587\n",
       "2457634.0 .. -0.41278298711404204  -0.5912901163939923 2.8187013587162766\n",
       "                              ...                  ...                ...\n",
       "2458002.0 .. -0.44736604718491435   0.4692109850469064  1.256330392439282\n",
       " 2458003.0 .. -0.4055453925393522  -3.0233943478948504  1.365244983494327\n",
       " 2458006.0 .. -0.4749436490237713  -2.4292235854661595 1.3790949517074547\n",
       " 2458008.0 .. -0.4326287042349577  0.23701783720863023 1.3359154461579925\n",
       "2458010.0 .. -0.47820849157869816   0.5945647050173866 1.2659012595653445\n",
       "  2458030.0 .. 0.4615542418323457  -1.2994798975928659 1.8147590076292106\n",
       "  2458058.0 .. 0.4223037613555789  -0.3771589755446858 1.7140371422924052\n",
       "  2458059.0 .. 0.4372275616042316   -0.975518154924709 1.3652931119313778\n",
       " 2458060.0 .. 0.38838067231699824   -1.164722256651164 1.2733237053967026\n",
       "2458094.0 .. -0.49837174359709024  -1.2522444567151885 1.0539131018440808"
      ]
     },
     "execution_count": 67,
     "metadata": {},
     "output_type": "execute_result"
    }
   ],
   "source": [
    "read_rv_table = QTable.read(read_hdul['RV_CURVE'])\n",
    "read_rv_table"
   ]
  },
  {
   "cell_type": "markdown",
   "id": "d13a0b9c",
   "metadata": {},
   "source": [
    "#### Retrieve periodogram information"
   ]
  },
  {
   "cell_type": "code",
   "execution_count": 68,
   "id": "c2fda6b5",
   "metadata": {
    "ExecuteTime": {
     "end_time": "2023-03-21T18:00:27.657029Z",
     "start_time": "2023-03-21T18:00:27.651064Z"
    }
   },
   "outputs": [
    {
     "data": {
      "text/plain": [
       "<astropy.io.fits.hdu.table.BinTableHDU at 0x2b305612970>"
      ]
     },
     "execution_count": 68,
     "metadata": {},
     "output_type": "execute_result"
    }
   ],
   "source": [
    "read_hdul['GLS_PG']"
   ]
  },
  {
   "cell_type": "code",
   "execution_count": 69,
   "id": "4e82ed65",
   "metadata": {
    "ExecuteTime": {
     "end_time": "2023-03-21T18:00:27.982379Z",
     "start_time": "2023-03-21T18:00:27.970412Z"
    }
   },
   "outputs": [
    {
     "data": {
      "text/plain": [
       "XTENSION= 'BINTABLE'           / binary table extension                         \n",
       "BITPIX  =                    8 / array data type                                \n",
       "NAXIS   =                    2 / number of array dimensions                     \n",
       "NAXIS1  =                   16 / length of dimension 1                          \n",
       "NAXIS2  =               964958 / length of dimension 2                          \n",
       "PCOUNT  =                    0 / number of group parameters                     \n",
       "GCOUNT  =                    1 / number of groups                               \n",
       "TFIELDS =                    2 / number of table fields                         \n",
       "TTYPE1  = 'freq    '                                                            \n",
       "TFORM1  = 'D       '                                                            \n",
       "TUNIT1  = 'd-1     '                                                            \n",
       "TTYPE2  = 'power   '                                                            \n",
       "TFORM2  = 'D       '                                                            \n",
       "TUNIT2  = 'm2 s-2  '                                                            \n",
       "EXTNAME = 'GLS_PG  '           / extension name                                 \n",
       "OBJECT  = 'J00051+457'         / KARMENES target name                           \n",
       "FUNIT   = 'd-1     '           / Unit for frequencies                           \n",
       "PUNIT   = 'd       '           / Unit for periods                               \n",
       "PK_FREQ =    79.55399326123199 / Frequency of the peak in periodogram           \n",
       "PK_POW  =   0.4242270238994854 / Power of the peak in periodogram               \n",
       "PK_SNR  =   0.4242270238994854 / Power of the peak in periodogram               \n",
       "RES_RMS =    2.151815395355755 / RMS of residuals in periodogram                \n",
       "FSAMPLE =   0.3306658686961251 / Inferred sampling frequency in RV curve        \n",
       "FNYQUIST=   0.6613317373922503 / Calculated Nyquist frequency value             \n",
       "FPOINTS =               964958 / Number of points in periodogram                \n",
       "FBEG    =                  4.8 / Start frequency in periodogram                 \n",
       "FEND    =                  144 / End frequency in periodogram                   \n",
       "FRES    = 0.000144255132612126 / Frequency resolution in periodogram            \n",
       "F       =    79.55399326123199 / Peak best estimate: frequency                  \n",
       "E_F     = 0.000167594463452720 / Peak best estimate: frequency error            \n",
       "P       =  0.01257007925065802 / Peak best estimate: period                     \n",
       "E_P     = 2.64810803482171E-08 / Peak best estimate: period error               \n",
       "A       =    2.794886736597751 / Peak best estimate: amplitude                  \n",
       "E_A     =   0.4220057188680141 / Peak best estimate: amplitude error            \n",
       "PH      =  -0.2495553999805767 / Peak best estimate: phase                      \n",
       "E_PH    =  0.02403113345933047 / Peak best estimate: phase error                \n",
       "T0      =    2457400.288286182 / Peak best estimate: frequency                  \n",
       "E_T0    = 0.000302073252066923 / Peak best estimate: frequency error            \n",
       "OFF     =   0.2076457428319727 / Peak best estimate: offset                     \n",
       "E_OFF   =   0.2984031055110766 / Peak best estimate: offset error               \n",
       "OFAC    =                   10 / Setup: oversampling factor                     \n",
       "HIFAC   =                   10 / Setup: maximum frequency factor                \n",
       "NORM    = 'ZK      '           / Setup: normalization type                      \n",
       "LS      =                    F / Setup: conventional Lomb-Scargle calculation   \n",
       "FAST    =                   10 / Setup: fast evaluation, recursive trigonometric"
      ]
     },
     "execution_count": 69,
     "metadata": {},
     "output_type": "execute_result"
    }
   ],
   "source": [
    "read_hdul['GLS_PG'].header"
   ]
  },
  {
   "cell_type": "code",
   "execution_count": 70,
   "id": "7d039dbe",
   "metadata": {
    "ExecuteTime": {
     "end_time": "2023-03-21T18:00:28.370655Z",
     "start_time": "2023-03-21T18:00:28.354699Z"
    }
   },
   "outputs": [
    {
     "data": {
      "text/plain": [
       "FITS_rec([(4.8       , 0.00302243), (4.80014426, 0.00390817),\n",
       "          (4.80028851, 0.00437203), (4.80043277, 0.00421009),\n",
       "          (4.80057702, 0.00414685), (4.80072128, 0.00523094),\n",
       "          (4.80086553, 0.00797189), (4.80100979, 0.01255501),\n",
       "          (4.80115404, 0.02026695), (4.8012983 , 0.03398342)],\n",
       "         dtype=(numpy.record, [('freq', '>f8'), ('power', '>f8')]))"
      ]
     },
     "execution_count": 70,
     "metadata": {},
     "output_type": "execute_result"
    }
   ],
   "source": [
    "read_hdul['GLS_PG'].data[:10]"
   ]
  },
  {
   "cell_type": "code",
   "execution_count": 71,
   "id": "592998e6",
   "metadata": {
    "ExecuteTime": {
     "end_time": "2023-03-21T18:00:28.846879Z",
     "start_time": "2023-03-21T18:00:28.818954Z"
    }
   },
   "outputs": [
    {
     "data": {
      "text/html": [
       "<div><i>QTable length=964958</i>\n",
       "<table id=\"table2967912738976\" class=\"table-striped table-bordered table-condensed\">\n",
       "<thead><tr><th>freq</th><th>power</th></tr></thead>\n",
       "<thead><tr><th>1 / d</th><th>m2 / s2</th></tr></thead>\n",
       "<thead><tr><th>float64</th><th>float64</th></tr></thead>\n",
       "<tr><td>4.8</td><td>0.003022433798356641</td></tr>\n",
       "<tr><td>4.8001442550819675</td><td>0.003908165328127241</td></tr>\n",
       "<tr><td>4.800288510163935</td><td>0.004372034928360511</td></tr>\n",
       "<tr><td>4.800432765245903</td><td>0.004210087321191156</td></tr>\n",
       "<tr><td>4.800577020327871</td><td>0.004146853519391315</td></tr>\n",
       "<tr><td>4.800721275409838</td><td>0.0052309388284144335</td></tr>\n",
       "<tr><td>4.800865530491806</td><td>0.007971885393028188</td></tr>\n",
       "<tr><td>4.801009785573774</td><td>0.012555012636867934</td></tr>\n",
       "<tr><td>4.801154040655741</td><td>0.020266951513714746</td></tr>\n",
       "<tr><td>...</td><td>...</td></tr>\n",
       "<tr><td>143.9986528345609</td><td>0.023522022044344858</td></tr>\n",
       "<tr><td>143.99879708964286</td><td>0.024790664424274564</td></tr>\n",
       "<tr><td>143.9989413447248</td><td>0.025060487329393467</td></tr>\n",
       "<tr><td>143.9990855998068</td><td>0.025938960739725465</td></tr>\n",
       "<tr><td>143.99922985488877</td><td>0.02825231775949377</td></tr>\n",
       "<tr><td>143.99937410997072</td><td>0.03136956911009843</td></tr>\n",
       "<tr><td>143.9995183650527</td><td>0.03380991930713107</td></tr>\n",
       "<tr><td>143.99966262013467</td><td>0.034239879212868064</td></tr>\n",
       "<tr><td>143.99980687521662</td><td>0.032129011739395086</td></tr>\n",
       "<tr><td>143.9999511302986</td><td>0.02792323207394943</td></tr>\n",
       "</table></div>"
      ],
      "text/plain": [
       "<QTable length=964958>\n",
       "       freq                power        \n",
       "      1 / d               m2 / s2       \n",
       "     float64              float64       \n",
       "------------------ ---------------------\n",
       "               4.8  0.003022433798356641\n",
       "4.8001442550819675  0.003908165328127241\n",
       " 4.800288510163935  0.004372034928360511\n",
       " 4.800432765245903  0.004210087321191156\n",
       " 4.800577020327871  0.004146853519391315\n",
       " 4.800721275409838 0.0052309388284144335\n",
       " 4.800865530491806  0.007971885393028188\n",
       " 4.801009785573774  0.012555012636867934\n",
       " 4.801154040655741  0.020266951513714746\n",
       "               ...                   ...\n",
       " 143.9986528345609  0.023522022044344858\n",
       "143.99879708964286  0.024790664424274564\n",
       " 143.9989413447248  0.025060487329393467\n",
       " 143.9990855998068  0.025938960739725465\n",
       "143.99922985488877   0.02825231775949377\n",
       "143.99937410997072   0.03136956911009843\n",
       " 143.9995183650527   0.03380991930713107\n",
       "143.99966262013467  0.034239879212868064\n",
       "143.99980687521662  0.032129011739395086\n",
       " 143.9999511302986   0.02792323207394943"
      ]
     },
     "execution_count": 71,
     "metadata": {},
     "output_type": "execute_result"
    }
   ],
   "source": [
    "read_pg_table = QTable.read(read_hdul['GLS_PG'])\n",
    "read_pg_table"
   ]
  },
  {
   "cell_type": "markdown",
   "id": "5cf09e90",
   "metadata": {},
   "source": [
    "**NOTE:** it is important to close the `HDUList` object after use, as well as also delete the read data, so as to eliminate all the pointers to the file (see https://docs.astropy.org/en/stable/io/fits/index.html#working-with-large-files).\n",
    "\n",
    "Reading the file with the option `memmap=False` prevents this problem form happening, even if you don't clear all the possible pointers to the file, but this could be not an option for large files, i.e. those which can not be fully loaded into memory."
   ]
  },
  {
   "cell_type": "code",
   "execution_count": 72,
   "id": "99ed3a5c",
   "metadata": {
    "ExecuteTime": {
     "end_time": "2023-03-21T18:00:29.686817Z",
     "start_time": "2023-03-21T18:00:29.666869Z"
    }
   },
   "outputs": [],
   "source": [
    "read_hdul.close()"
   ]
  },
  {
   "cell_type": "code",
   "execution_count": 73,
   "id": "c0e3ccff",
   "metadata": {
    "ExecuteTime": {
     "end_time": "2023-03-21T18:00:30.065169Z",
     "start_time": "2023-03-21T18:00:30.051206Z"
    }
   },
   "outputs": [],
   "source": [
    "del read_hdul"
   ]
  },
  {
   "cell_type": "markdown",
   "id": "fe27ef06",
   "metadata": {},
   "source": [
    "## Summary"
   ]
  },
  {
   "cell_type": "markdown",
   "id": "9c14f82f",
   "metadata": {},
   "source": [
    "**OBSERVATIONS AND CONCLUSIONS:**\n",
    "- We have tested the GLS class.\n",
    "- We have stored all the information about an object (RV curve, periodogram, and basic results) in a `fits` file. **NOTE:** `fits`file was finally dropped in favour of storing just the periodogram data in plain text, with a \".dat\" extension (`fits` generation was left as an option, though).\n",
    "- Now we should be ready to apply this process to all CARMENES objects in a batch processing."
   ]
  },
  {
   "cell_type": "code",
   "execution_count": null,
   "id": "b6a548c3",
   "metadata": {},
   "outputs": [],
   "source": []
  }
 ],
 "metadata": {
  "kernelspec": {
   "display_name": "Python 3 (ipykernel)",
   "language": "python",
   "name": "python3"
  },
  "language_info": {
   "codemirror_mode": {
    "name": "ipython",
    "version": 3
   },
   "file_extension": ".py",
   "mimetype": "text/x-python",
   "name": "python",
   "nbconvert_exporter": "python",
   "pygments_lexer": "ipython3",
   "version": "3.8.8"
  },
  "latex_envs": {
   "LaTeX_envs_menu_present": true,
   "autoclose": false,
   "autocomplete": true,
   "bibliofile": "biblio.bib",
   "cite_by": "apalike",
   "current_citInitial": 1,
   "eqLabelWithNumbers": true,
   "eqNumInitial": 1,
   "hotkeys": {
    "equation": "Ctrl-E",
    "itemize": "Ctrl-I"
   },
   "labels_anchors": false,
   "latex_user_defs": false,
   "report_style_numbering": false,
   "user_envs_cfg": false
  },
  "toc": {
   "base_numbering": 1,
   "nav_menu": {},
   "number_sections": true,
   "sideBar": true,
   "skip_h1_title": true,
   "title_cell": "Table of Contents",
   "title_sidebar": "Contents",
   "toc_cell": false,
   "toc_position": {},
   "toc_section_display": true,
   "toc_window_display": true
  }
 },
 "nbformat": 4,
 "nbformat_minor": 5
}
