{
 "cells": [
  {
   "cell_type": "markdown",
   "id": "7e41b9a9",
   "metadata": {},
   "source": [
    "# PoC - RV FILE PROCESSING"
   ]
  },
  {
   "cell_type": "markdown",
   "id": "d5087d56",
   "metadata": {},
   "source": [
    "This notebook uses the `Gls` class to calculate and manage the Lomb-Scargle periodogram for a given RV curve."
   ]
  },
  {
   "cell_type": "markdown",
   "id": "f1b951f9",
   "metadata": {},
   "source": [
    "We will generate and store the file in a `fits` file, containing a main header and 2 _HDUs_:\n",
    "\n",
    "- Header:\n",
    "    - Object name (OBJECT = (KARMENES name))\n",
    "    - Object common name (NAME = (Object common name) or None).\n",
    "    - Object TIC id (TIC = (TESS identifier) or None).\n",
    "    - Object right ascension, J2000 (RA_J2000 = 'RA_J2000')\n",
    "    - Object declination, J2000 (DE_J2000 = 'DE_J2000')\n",
    "    - Spectral type (SPTYPE = 'SpT')\n",
    "    - Effective temperature in Kelvin (TEFF_K = 'Teff_K')\n",
    "    - Logarithm of surface gravity (LOGG = 'logg')\n",
    "    - Metallicity (FEH = '\\[FeH\\]'\n",
    "    - Luminosity compared to Sun's (L_LSUN = 'L_Lsol')\n",
    "    - Radius compared to Sun's (R_RSUN = 'R_Rsol')\n",
    "    - Mass compared to Sun's (M_MSUN = 'M_Msol')\n",
    "    - Distance in parsec (D_PC = 'd_pc')\n",
    "- HDU 1:\n",
    "  - Data - The light curve, three columns:\n",
    "    - time\n",
    "    - flux\n",
    "    - flux_err\n",
    "  - Header - Must include at least the following values:\n",
    "    - Object KARMENES name (OBJECT = (KARMENES name)).\n",
    "    - Time units (PUNIT = u.d).\n",
    "    - Frequency units (FUNIT = 1 / u.d).\n",
    "    - Number of points in the light curve (RVPOINTS = gls.N).\n",
    "    - Mean of RV (AGVFLUX = gls.\\_Y)\n",
    "    - RMS of RV (RMSFLUX = gls.\\_YY).\n",
    "    - Sampling period (the median of the difference values) (PSAMPLE = (calculated value)).\n",
    "    - Sampling frequency (FSAMPLE = (1.0 / PSAMPLE).\n",
    "    - Nyquist frequency (FNYQUIST = 0.5 * FSAMPLE).\n",
    "- HDU 2:\n",
    "  - Data - The calculated periodogram of the light curve, two columns:\n",
    "    - freq\n",
    "    - power\n",
    "  - Header - Must include at least the following values:\n",
    "    - Object KARMENES name (OBJECT = (KARMENES name).\n",
    "    - Frequency units (FUNIT = 1 / u.d).\n",
    "    - Period units (PUNIT = u.d).\n",
    "    - Peak frequency (PK_FREQ = gls.best\\[e\\_f\\]).\n",
    "    - Peak power (PK_POWER = gls.pmax).\n",
    "    - Peak SNR (PK_SNR = BEST_A / gls.rms)\n",
    "    - RMS of residuals (RES_RMS = gls.rms).\n",
    "    - Sampling frequency (FSAMPLE = (1.0 / PSAMPLE)).\n",
    "    - Nyquist frequency (FNYQUIST = 0.5 * FSAMPLE).\n",
    "    - Number of frequency points (FPOINTS = (as chosen))\n",
    "    - Start frequency (FBEG = gls.fbeg).\n",
    "    - End frequency (FEND = gls.fend).\n",
    "    - Frequency resolution (FRES = (calculated)).\n",
    "    - Best frequency (F = gls.best\\[f\\]).\n",
    "    - Best frequency error (E_F = gls.best\\[e\\_f\\]).\n",
    "    - Best period (P = gls.best\\[P\\]).\n",
    "    - Best period error (E_P = gls.best\\[e\\_P\\]).\n",
    "    - Best amplitude (A = gls.best\\[A\\]).\n",
    "    - Best amplitude error (E_A = gls.best\\[e\\_A\\]).\n",
    "    - Best phase (PH = gls.best\\[ph\\]).\n",
    "    - Best phase error (E_PH = gls.best\\[e\\_ph\\]).\n",
    "    - Best reference epoch (T0 = gls.best\\[T0\\]).\n",
    "    - Best reference epoch error (E_T0 = gls.best\\[e\\_T0\\]).\n",
    "    - Best offset (OFF = gls.best\\[offset\\]).\n",
    "    - Best offset error (E_OFF = gls.best\\[e\\_offset\\]).\n",
    "    - Oversampling factor (OFAC = gls.ofac).\n",
    "    - Maximum frequency factor (HIFAC = gls.hifac).\n",
    "    - Normalization value (FNORM = gls.norm).\n",
    "    - Lomb-Scargle calculation (i.e. not GLS) (LS = gls.ls (as chosen)).\n",
    "    - Fast, recursive trigonometric calculations (FAST = gsl.fast (as chosen)).\n"
   ]
  },
  {
   "cell_type": "markdown",
   "id": "9d4512e5",
   "metadata": {},
   "source": [
    "## Modules and configuration"
   ]
  },
  {
   "cell_type": "markdown",
   "id": "a24b300e",
   "metadata": {},
   "source": [
    "### Modules"
   ]
  },
  {
   "cell_type": "code",
   "execution_count": 1,
   "id": "bf7cc337",
   "metadata": {
    "ExecuteTime": {
     "end_time": "2022-03-11T08:06:02.039629Z",
     "start_time": "2022-03-11T08:05:58.408468Z"
    }
   },
   "outputs": [],
   "source": [
    "# Modules import:\n",
    "from collections import OrderedDict\n",
    "import pandas as pd\n",
    "\n",
    "# https://github.com/mzechmeister/GLS\n",
    "from gls import Gls\n",
    "\n",
    "import numpy as np\n",
    "\n",
    "from scipy import stats\n",
    "\n",
    "from astropy.table import Table, QTable\n",
    "from astropy.timeseries import TimeSeries\n",
    "from astropy import units as u\n",
    "from astropy.time import Time\n",
    "from astropy.io import fits\n",
    "\n",
    "import lightkurve as lk\n",
    "\n",
    "%matplotlib inline\n",
    "import matplotlib.pyplot as plt\n",
    "\n",
    "from pylab import rcParams\n",
    "rcParams['figure.figsize'] = 11, 11\n",
    "\n",
    "#import seaborn as sns\n",
    "#sns.set_style(\"white\", {'figure.figsize':(15,10)})\n",
    "#sns.set_style(\"whitegrid\")\n",
    "#sns.set(rc={'figure.figsize':(15,8)})"
   ]
  },
  {
   "cell_type": "markdown",
   "id": "be1f4594",
   "metadata": {},
   "source": [
    "### Configuration"
   ]
  },
  {
   "cell_type": "code",
   "execution_count": 2,
   "id": "f3feca3c",
   "metadata": {
    "ExecuteTime": {
     "end_time": "2022-03-11T08:06:02.102505Z",
     "start_time": "2022-03-11T08:06:02.041590Z"
    }
   },
   "outputs": [],
   "source": [
    "# Configuration:\n",
    "DATA_FILE = \"../data/GTO_objects.csv\"\n",
    "# Files:\n",
    "RV_INPUT_FILE = \"../data/CARMENES_GTO_RVs/J00051+457.dat\"\n",
    "\n",
    "PG_OUT_FILE = \"../data/CARMENES_GTO_RVs_PGs/ETL_25_01_Test_RV_and_PG.fits\"\n",
    "IMAGE_RV_OUT = \"./img/ETL_25_02_Test_Graph_Radial_velocity_curve.png\"\n"
   ]
  },
  {
   "cell_type": "code",
   "execution_count": 3,
   "id": "39b60e99",
   "metadata": {
    "ExecuteTime": {
     "end_time": "2022-03-11T08:06:02.117388Z",
     "start_time": "2022-03-11T08:06:02.103425Z"
    }
   },
   "outputs": [],
   "source": [
    "def rv_load(filename: str):\n",
    "    '''Load the RV file and returns a lightcurve object'''\n",
    "    rv_lk = Table.read(filename, format='ascii',\n",
    "                    names = ['time', 'RV', 'eRV'], units=[u.d, u.meter / u.second, u.meter / u.second])\n",
    "    rv_lk = lk.LightCurve(time=rv_lk['time'], flux=rv_lk['RV'], flux_err=rv_lk['eRV'])\n",
    "    return rv_lk"
   ]
  },
  {
   "cell_type": "raw",
   "id": "d119a713",
   "metadata": {
    "ExecuteTime": {
     "end_time": "2022-03-04T19:12:01.155528Z",
     "start_time": "2022-03-04T19:12:01.140564Z"
    }
   },
   "source": [
    "def rv_set_keywords(rv_lk: lk.LightCurve, keys_dict: dict):\n",
    "    '''Sets metadata for a light curve'''\n",
    "    rv_lk.meta = keys_dict"
   ]
  },
  {
   "cell_type": "code",
   "execution_count": 4,
   "id": "f87e34d3",
   "metadata": {
    "ExecuteTime": {
     "end_time": "2022-03-11T08:06:02.132348Z",
     "start_time": "2022-03-11T08:06:02.118385Z"
    }
   },
   "outputs": [],
   "source": [
    "def rv_infer_sampling(rv_lk: lk.LightCurve):\n",
    "    '''Infer sampling period from light curve'''\n",
    "    time_diffs = rv_lk['time'][1:] - rv_lk['time'][:-1]\n",
    "    return np.median(time_diffs)"
   ]
  },
  {
   "cell_type": "raw",
   "id": "ce1795ea",
   "metadata": {
    "ExecuteTime": {
     "end_time": "2022-02-24T21:27:34.752091Z",
     "start_time": "2022-02-24T21:27:34.740705Z"
    }
   },
   "source": [
    "def rv_stats(rv_lk: lk.LightCurve, precision: int=3):\n",
    "    '''Calculates the cadence of an RV curve from the data.\n",
    "    Returns the mode of the differences between the (with the number of decimals; negative values also possible),\n",
    "    and the percentage of that result (as an indication about the confidence of the calculated cadence value)'''\n",
    "    results = OrderedDict()\n",
    "    results['Points'] = len(rv_lk)\n",
    "    time_diffs = rv_lk['time'][1:] - rv_lk['time'][:-1]\n",
    "    time_diffs.format = 'sec'\n",
    "    time_diffs = np.round(time_diffs.value, precision)\n",
    "    counts = np.unique(time_diffs, return_counts=True)\n",
    "    max_id = np.argmax(counts[1])\n",
    "    results['Cadence mode [sec]'] = counts[0][max_id]\n",
    "    results['Cadence mode numpoints'] = counts[1][max_id]\n",
    "    results['Cadence mode confidence'] = round(counts[1][max_id] / time_diffs.size, abs(precision))\n",
    "#    results['Time kurtosis'] = stats.kurtosis(rv_lk['time'].value)\n",
    "    results['Time diff kurtosis'] = stats.kurtosis(time_diffs)\n",
    "    results['Time diff histogram'] = np.histogram(time_diffs)\n",
    "    #### SOME MORE STATS TO EXTRACT:\n",
    "    # dispersion --> we could compare, for example, the median of errors with the STDEV of nominal values\n",
    "    #                if the median of ERRORS are comparable to the signal dispersion, there is probably\n",
    "    #                no variability in the signal.\n",
    "    # kurtosis['time'] --> if kurtosis is low, sampling is probably homogeneous. If high, very heterogeneous\n",
    "    results['Signal dispersion'] = \\\n",
    "        stats.tstd(rv_lk['flux'].value) / np.median(rv_lk['flux_err'].value)\n",
    "    \n",
    "    return results\n",
    "    "
   ]
  },
  {
   "cell_type": "raw",
   "id": "2ead23c3",
   "metadata": {
    "ExecuteTime": {
     "end_time": "2022-02-24T21:27:34.923176Z",
     "start_time": "2022-02-24T21:27:34.902205Z"
    }
   },
   "source": [
    "def rv_clean_lc(rv_lk: lk.LightCurve, sigmas: float=5.0):\n",
    "    '''Clean the light curve from outliers before applying the periodogram'''"
   ]
  },
  {
   "cell_type": "raw",
   "id": "c19a52db",
   "metadata": {
    "ExecuteTime": {
     "end_time": "2022-02-24T21:27:35.067214Z",
     "start_time": "2022-02-24T21:27:35.061187Z"
    }
   },
   "source": [
    "def rv_periodogram():\n",
    "    '''Calculates the periodogram of an RV curve'''\n",
    "    "
   ]
  },
  {
   "cell_type": "raw",
   "id": "c58b3efb",
   "metadata": {
    "ExecuteTime": {
     "end_time": "2022-02-24T21:27:35.352349Z",
     "start_time": "2022-02-24T21:27:35.347847Z"
    }
   },
   "source": [
    "def rv_plot():\n",
    "    '''Plots and/or stores the image of the RV curve'''\n",
    "    "
   ]
  },
  {
   "cell_type": "raw",
   "id": "ece0a7d3",
   "metadata": {
    "ExecuteTime": {
     "end_time": "2022-02-24T21:27:35.621475Z",
     "start_time": "2022-02-24T21:27:35.603549Z"
    }
   },
   "source": [
    "def rv_processing():\n",
    "    '''Process the RV curve file'''\n",
    "    "
   ]
  },
  {
   "cell_type": "markdown",
   "id": "471bf7f4",
   "metadata": {},
   "source": [
    "## Sequential testing"
   ]
  },
  {
   "cell_type": "markdown",
   "id": "46ad1c2c",
   "metadata": {},
   "source": [
    "### Data loading"
   ]
  },
  {
   "cell_type": "code",
   "execution_count": 5,
   "id": "70057ba0",
   "metadata": {
    "ExecuteTime": {
     "end_time": "2022-03-11T08:06:02.180251Z",
     "start_time": "2022-03-11T08:06:02.133345Z"
    }
   },
   "outputs": [
    {
     "data": {
      "text/html": [
       "<i>LightCurve length=52</i>\n",
       "<table id=\"table1745663657872\" class=\"table-striped table-bordered table-condensed\">\n",
       "<thead><tr><th>time</th><th>flux</th><th>flux_err</th></tr></thead>\n",
       "<thead><tr><th></th><th>m / s</th><th>m / s</th></tr></thead>\n",
       "<thead><tr><th>object</th><th>float64</th><th>float64</th></tr></thead>\n",
       "<tr><td>2457400.28515</td><td>22.3283340297</td><td>1.4018315418</td></tr>\n",
       "<tr><td>2457421.26037</td><td>23.7637567866</td><td>1.48502877524</td></tr>\n",
       "<tr><td>2457588.68128</td><td>31.8136290804</td><td>1.45941122559</td></tr>\n",
       "<tr><td>2457605.66563</td><td>27.1810782306</td><td>1.39936379403</td></tr>\n",
       "<tr><td>2457609.66891</td><td>30.8604332996</td><td>0.853789077456</td></tr>\n",
       "<tr><td>2457610.67461</td><td>26.5174127112</td><td>2.42228045236</td></tr>\n",
       "<tr><td>2457611.62235</td><td>33.7972831499</td><td>2.1215444299</td></tr>\n",
       "<tr><td>2457620.43878</td><td>18.2264721274</td><td>2.49049263079</td></tr>\n",
       "<tr><td>2457633.58722</td><td>22.4747612442</td><td>2.79460770758</td></tr>\n",
       "<tr><td>...</td><td>...</td><td>...</td></tr>\n",
       "<tr><td>2458001.55263</td><td>18.3903554336</td><td>0.813810072198</td></tr>\n",
       "<tr><td>2458002.59445</td><td>16.5791415523</td><td>1.06072775992</td></tr>\n",
       "<tr><td>2458005.52506</td><td>26.8790436596</td><td>1.11194817338</td></tr>\n",
       "<tr><td>2458007.56737</td><td>30.047892479</td><td>1.03289355436</td></tr>\n",
       "<tr><td>2458009.52179</td><td>33.4542780955</td><td>0.96776903705</td></tr>\n",
       "<tr><td>2458030.46155</td><td>16.715123548</td><td>1.60315306662</td></tr>\n",
       "<tr><td>2458058.4223</td><td>28.664588853</td><td>1.19160367038</td></tr>\n",
       "<tr><td>2458059.43723</td><td>31.4384627643</td><td>1.02148080861</td></tr>\n",
       "<tr><td>2458060.38838</td><td>31.6302150729</td><td>1.09188545229</td></tr>\n",
       "<tr><td>2458093.50163</td><td>25.6352744625</td><td>1.08441740932</td></tr>\n",
       "</table>"
      ],
      "text/plain": [
       "<LightCurve length=52>\n",
       "     time          flux        flux_err   \n",
       "                  m / s         m / s     \n",
       "    object       float64       float64    \n",
       "------------- ------------- --------------\n",
       "2457400.28515 22.3283340297   1.4018315418\n",
       "2457421.26037 23.7637567866  1.48502877524\n",
       "2457588.68128 31.8136290804  1.45941122559\n",
       "2457605.66563 27.1810782306  1.39936379403\n",
       "2457609.66891 30.8604332996 0.853789077456\n",
       "2457610.67461 26.5174127112  2.42228045236\n",
       "2457611.62235 33.7972831499   2.1215444299\n",
       "2457620.43878 18.2264721274  2.49049263079\n",
       "2457633.58722 22.4747612442  2.79460770758\n",
       "          ...           ...            ...\n",
       "2458001.55263 18.3903554336 0.813810072198\n",
       "2458002.59445 16.5791415523  1.06072775992\n",
       "2458005.52506 26.8790436596  1.11194817338\n",
       "2458007.56737  30.047892479  1.03289355436\n",
       "2458009.52179 33.4542780955  0.96776903705\n",
       "2458030.46155  16.715123548  1.60315306662\n",
       " 2458058.4223  28.664588853  1.19160367038\n",
       "2458059.43723 31.4384627643  1.02148080861\n",
       "2458060.38838 31.6302150729  1.09188545229\n",
       "2458093.50163 25.6352744625  1.08441740932"
      ]
     },
     "execution_count": 5,
     "metadata": {},
     "output_type": "execute_result"
    }
   ],
   "source": [
    "# Load data:\n",
    "rv_lk = rv_load(RV_INPUT_FILE)\n",
    "rv_lk"
   ]
  },
  {
   "cell_type": "raw",
   "id": "56f713b0",
   "metadata": {
    "ExecuteTime": {
     "end_time": "2022-02-21T22:18:40.376762Z",
     "start_time": "2022-02-21T22:18:40.356307Z"
    }
   },
   "source": [
    "# Set the keywords:\n",
    "metadata = dict({\n",
    "    'OBJECT':\"J00051+457\",\n",
    "    'BJDREFI': 2457000,\n",
    "    'BJDREFF': 0.0,\n",
    "    'TIMEUNIT':'d'\n",
    "})\n",
    "rv_set_keywords(rv_lk, metadata)\n",
    "rv_lk.meta"
   ]
  },
  {
   "cell_type": "raw",
   "id": "ab6d5a01",
   "metadata": {
    "ExecuteTime": {
     "end_time": "2022-02-21T22:18:41.723023Z",
     "start_time": "2022-02-21T22:18:41.708525Z"
    }
   },
   "source": [
    "# Calculate light kurve stats:\n",
    "rv_stats(rv_lk, precision=-3)"
   ]
  },
  {
   "cell_type": "markdown",
   "id": "2955eff5",
   "metadata": {},
   "source": [
    "### GLS Periodogram"
   ]
  },
  {
   "cell_type": "markdown",
   "id": "6e4ac883",
   "metadata": {},
   "source": [
    "#### Calculation conditions"
   ]
  },
  {
   "cell_type": "markdown",
   "id": "47e058bf",
   "metadata": {},
   "source": [
    "The stars currently under analysis are in the $He_{3}$ instability band, so they are expected to have effective temperatures in the range $T_{eff}\\in[3300, 4300] K$, $\\log g\\in[4.5, 5.1]$, and masses in the range $M_{star}\\in[0.20, 0.60] M_{Sun}$.\n",
    "\n",
    "According to _Table 2_ in _The theoretical instability strip of M dwarf stars (Rodríguez-López, C., et al. 2014, MNRAS, 438, 2371)_ these stars have typical periods of $20 min$ to $3 h$, so we will set the limits of the periodogram frequencies for periods between $10 min$ and $5 h$. In days, this corresponds to a range of $P\\in[0.006944, 0.208333] d$ or, equivalently, frequencies in the range $f\\in[144, 4.8] d^{-1}$.\n",
    "\n",
    "We will use the default \"ZK\" normalization."
   ]
  },
  {
   "cell_type": "markdown",
   "id": "6b507af8",
   "metadata": {},
   "source": [
    "#### Create instance"
   ]
  },
  {
   "cell_type": "markdown",
   "id": "b2047632",
   "metadata": {},
   "source": [
    "**Note:** we write all the parameters even if we use the default values, just to have them as a reference."
   ]
  },
  {
   "cell_type": "code",
   "execution_count": 6,
   "id": "266923ae",
   "metadata": {
    "ExecuteTime": {
     "end_time": "2022-03-11T08:06:11.310012Z",
     "start_time": "2022-03-11T08:06:02.181217Z"
    },
    "scrolled": false
   },
   "outputs": [
    {
     "data": {
      "text/plain": [
       "<gls.Gls at 0x19672ad3430>"
      ]
     },
     "execution_count": 6,
     "metadata": {},
     "output_type": "execute_result"
    }
   ],
   "source": [
    "# Create GLS instance:\n",
    "gls = Gls((rv_lk['time'].value, rv_lk['flux'].value, rv_lk['flux_err'].value),\n",
    "          fbeg=4.8, fend=144, Pbeg=None, Pend=None, ofac=10, hifac=1, freq=None,\n",
    "          norm=\"ZK\", ls=False, fast=False, verbose=False)\n",
    "gls"
   ]
  },
  {
   "cell_type": "markdown",
   "id": "ab073433",
   "metadata": {},
   "source": [
    "####  Check some attributes"
   ]
  },
  {
   "cell_type": "markdown",
   "id": "06c5cc44",
   "metadata": {},
   "source": [
    "The time series in array form:"
   ]
  },
  {
   "cell_type": "code",
   "execution_count": 7,
   "id": "bb55ae5a",
   "metadata": {
    "ExecuteTime": {
     "end_time": "2022-03-11T08:06:11.325970Z",
     "start_time": "2022-03-11T08:06:11.311010Z"
    }
   },
   "outputs": [
    {
     "data": {
      "text/plain": [
       "array([2457400.28515, 2457421.26037, 2457588.68128, 2457605.66563,\n",
       "       2457609.66891, 2457610.67461, 2457611.62235, 2457620.43878,\n",
       "       2457633.58722, 2457636.57224, 2457645.59055, 2457647.49318,\n",
       "       2457648.6465 , 2457649.60966, 2457653.52287, 2457657.52945,\n",
       "       2457678.41504, 2457685.48436, 2457688.46666, 2457695.40244,\n",
       "       2457705.35008, 2457711.35138, 2457910.58999, 2457936.62097,\n",
       "       2457937.61658, 2457939.50616, 2457946.62487, 2457951.48621,\n",
       "       2457954.46375, 2457956.49417, 2457960.61746, 2457961.58899,\n",
       "       2457962.61585, 2457964.59065, 2457965.6124 , 2457968.6366 ,\n",
       "       2457970.67009, 2457971.62424, 2457977.45829, 2457987.58613,\n",
       "       2457997.52809, 2458000.55007, 2458001.55263, 2458002.59445,\n",
       "       2458005.52506, 2458007.56737, 2458009.52179, 2458030.46155,\n",
       "       2458058.4223 , 2458059.43723, 2458060.38838, 2458093.50163])"
      ]
     },
     "execution_count": 7,
     "metadata": {},
     "output_type": "execute_result"
    }
   ],
   "source": [
    "gls.t"
   ]
  },
  {
   "cell_type": "code",
   "execution_count": 8,
   "id": "4f22acbd",
   "metadata": {
    "ExecuteTime": {
     "end_time": "2022-03-11T08:06:11.341927Z",
     "start_time": "2022-03-11T08:06:11.327966Z"
    }
   },
   "outputs": [
    {
     "data": {
      "text/plain": [
       "array([22.32833403, 23.76375679, 31.81362908, 27.18107823, 30.8604333 ,\n",
       "       26.51741271, 33.79728315, 18.22647213, 22.47476124, 22.63105046,\n",
       "       18.81535961, 28.61290044, 31.3230295 , 28.5191504 , 25.83978357,\n",
       "       25.99517477, 35.40855898, 37.08489505, 31.03834249, 31.88243696,\n",
       "       23.4291534 , 34.56797292, 27.09162681, 22.96585241, 21.7578294 ,\n",
       "       17.85548986, 23.08665529, 28.06515666, 23.62572234, 30.21719381,\n",
       "       30.41911064, 29.17175428, 32.81780161, 28.53282957, 30.86227916,\n",
       "       32.58974532, 32.80600133, 30.28557539, 35.08568535, 28.42011325,\n",
       "       15.07723132, 20.24017557, 18.39035543, 16.57914155, 26.87904366,\n",
       "       30.04789248, 33.4542781 , 16.71512355, 28.66458885, 31.43846276,\n",
       "       31.63021507, 25.63527446])"
      ]
     },
     "execution_count": 8,
     "metadata": {},
     "output_type": "execute_result"
    }
   ],
   "source": [
    "gls.y"
   ]
  },
  {
   "cell_type": "code",
   "execution_count": 9,
   "id": "0792bc8c",
   "metadata": {
    "ExecuteTime": {
     "end_time": "2022-03-11T08:06:11.357884Z",
     "start_time": "2022-03-11T08:06:11.343922Z"
    }
   },
   "outputs": [
    {
     "data": {
      "text/plain": [
       "array([1.40183154, 1.48502878, 1.45941123, 1.39936379, 0.85378908,\n",
       "       2.42228045, 2.12154443, 2.49049263, 2.79460771, 2.32164747,\n",
       "       1.38217092, 1.63555934, 2.16103275, 1.79289162, 1.77607486,\n",
       "       2.04375515, 2.14615499, 5.31603097, 1.20428056, 2.08163697,\n",
       "       1.21475922, 1.51370133, 1.45600442, 1.13543122, 1.10927769,\n",
       "       1.42894543, 1.48239722, 1.49444274, 1.25015629, 1.20600522,\n",
       "       1.3602146 , 1.21774566, 1.14956875, 1.09058329, 1.08017561,\n",
       "       0.76828024, 0.87808468, 0.82711492, 1.14569967, 1.28857395,\n",
       "       1.01640825, 1.03924863, 0.81381007, 1.06072776, 1.11194817,\n",
       "       1.03289355, 0.96776904, 1.60315307, 1.19160367, 1.02148081,\n",
       "       1.09188545, 1.08441741])"
      ]
     },
     "execution_count": 9,
     "metadata": {},
     "output_type": "execute_result"
    }
   ],
   "source": [
    "gls.e_y"
   ]
  },
  {
   "cell_type": "markdown",
   "id": "6eba45e0",
   "metadata": {},
   "source": [
    "The periodogram power in array form:"
   ]
  },
  {
   "cell_type": "code",
   "execution_count": 10,
   "id": "2ca16f4d",
   "metadata": {
    "ExecuteTime": {
     "end_time": "2022-03-11T08:06:11.373841Z",
     "start_time": "2022-03-11T08:06:11.358882Z"
    }
   },
   "outputs": [
    {
     "data": {
      "text/plain": [
       "array([0.00577445, 0.00452406, 0.00672556, ..., 0.02563625, 0.0223588 ,\n",
       "       0.01900756])"
      ]
     },
     "execution_count": 10,
     "metadata": {},
     "output_type": "execute_result"
    }
   ],
   "source": [
    "gls.power"
   ]
  },
  {
   "cell_type": "markdown",
   "id": "a86190dd",
   "metadata": {},
   "source": [
    "The periodogram frequencies (x axis) in array form:"
   ]
  },
  {
   "cell_type": "code",
   "execution_count": 11,
   "id": "5b9dca0a",
   "metadata": {
    "ExecuteTime": {
     "end_time": "2022-03-11T08:06:11.389799Z",
     "start_time": "2022-03-11T08:06:11.374855Z"
    },
    "scrolled": true
   },
   "outputs": [
    {
     "data": {
      "text/plain": [
       "array([  4.8       ,   4.80014426,   4.80028851, ..., 143.99966242,\n",
       "       143.99980668, 143.99995093])"
      ]
     },
     "execution_count": 11,
     "metadata": {},
     "output_type": "execute_result"
    }
   ],
   "source": [
    "gls.freq"
   ]
  },
  {
   "cell_type": "code",
   "execution_count": 12,
   "id": "834d369a",
   "metadata": {
    "ExecuteTime": {
     "end_time": "2022-03-11T08:06:11.405756Z",
     "start_time": "2022-03-11T08:06:11.390797Z"
    }
   },
   "outputs": [
    {
     "data": {
      "text/plain": [
       "numpy.ndarray"
      ]
     },
     "execution_count": 12,
     "metadata": {},
     "output_type": "execute_result"
    }
   ],
   "source": [
    "type(gls.freq)"
   ]
  },
  {
   "cell_type": "code",
   "execution_count": 13,
   "id": "aebdf622",
   "metadata": {
    "ExecuteTime": {
     "end_time": "2022-03-11T08:06:11.421713Z",
     "start_time": "2022-03-11T08:06:11.406755Z"
    }
   },
   "outputs": [
    {
     "data": {
      "text/plain": [
       "(964958,)"
      ]
     },
     "execution_count": 13,
     "metadata": {},
     "output_type": "execute_result"
    }
   ],
   "source": [
    "gls.freq.shape"
   ]
  },
  {
   "cell_type": "markdown",
   "id": "c12e745c",
   "metadata": {},
   "source": [
    "#### Full information on the `GLS` object"
   ]
  },
  {
   "cell_type": "code",
   "execution_count": 14,
   "id": "10b4da07",
   "metadata": {
    "ExecuteTime": {
     "end_time": "2022-03-11T08:06:11.437671Z",
     "start_time": "2022-03-11T08:06:11.422713Z"
    }
   },
   "outputs": [
    {
     "name": "stdout",
     "output_type": "stream",
     "text": [
      "Generalized LS - statistical output\n",
      "-----------------------------------\n",
      "Number of input points:         52\n",
      "Weighted mean of dataset:   27.247465\n",
      "Weighted rms of dataset:    5.510212\n",
      "Time base:                  693.216480\n",
      "Number of frequency points: 964958\n",
      "\n",
      "Maximum power p [ZK]: 0.485902\n",
      "RMS of residuals:     3.950856\n",
      "  Mean weighted internal error:  1.244753\n",
      "Best sine frequency:  77.730465 +/- 0.000216\n",
      "Best sine period:     0.012865 +/- 0.000000\n",
      "Amplitude:            5.241495 +/- 0.774827\n",
      "-----------------------------------\n"
     ]
    }
   ],
   "source": [
    "gls.info(stdout=True)"
   ]
  },
  {
   "cell_type": "markdown",
   "id": "c5b68bd1",
   "metadata": {},
   "source": [
    "And with a return value (interesting to store in the results array for all GTO stars):"
   ]
  },
  {
   "cell_type": "code",
   "execution_count": 15,
   "id": "3e360367",
   "metadata": {
    "ExecuteTime": {
     "end_time": "2022-03-11T08:06:11.453628Z",
     "start_time": "2022-03-11T08:06:11.438670Z"
    }
   },
   "outputs": [
    {
     "data": {
      "text/plain": [
       "'Generalized LS - statistical output\\n-----------------------------------\\nNumber of input points:         52\\nWeighted mean of dataset:   27.247465\\nWeighted rms of dataset:    5.510212\\nTime base:                  693.216480\\nNumber of frequency points: 964958\\n\\nMaximum power p [ZK]: 0.485902\\nRMS of residuals:     3.950856\\n  Mean weighted internal error:  1.244753\\nBest sine frequency:  77.730465 +/- 0.000216\\nBest sine period:     0.012865 +/- 0.000000\\nAmplitude:            5.241495 +/- 0.774827\\n-----------------------------------'"
      ]
     },
     "execution_count": 15,
     "metadata": {},
     "output_type": "execute_result"
    }
   ],
   "source": [
    "gls_info = gls.info(stdout=False)\n",
    "gls_info"
   ]
  },
  {
   "cell_type": "markdown",
   "id": "1b174141",
   "metadata": {},
   "source": [
    "#### Recover and calculate interesting values"
   ]
  },
  {
   "cell_type": "markdown",
   "id": "a0a90a3a",
   "metadata": {},
   "source": [
    "It can be interesting to store some or all of the following key values in their own, separate columns in the results table for all GTO objects."
   ]
  },
  {
   "cell_type": "markdown",
   "id": "b6c81661",
   "metadata": {},
   "source": [
    "Number of points in RV curve:"
   ]
  },
  {
   "cell_type": "code",
   "execution_count": 16,
   "id": "abc8a0cc",
   "metadata": {
    "ExecuteTime": {
     "end_time": "2022-03-11T08:06:11.469585Z",
     "start_time": "2022-03-11T08:06:11.454633Z"
    }
   },
   "outputs": [
    {
     "data": {
      "text/plain": [
       "52"
      ]
     },
     "execution_count": 16,
     "metadata": {},
     "output_type": "execute_result"
    }
   ],
   "source": [
    "gls.N"
   ]
  },
  {
   "cell_type": "markdown",
   "id": "313d75b5",
   "metadata": {},
   "source": [
    "Weighted mean of RV curve:"
   ]
  },
  {
   "cell_type": "code",
   "execution_count": 17,
   "id": "e1c33fa4",
   "metadata": {
    "ExecuteTime": {
     "end_time": "2022-03-11T08:06:11.485542Z",
     "start_time": "2022-03-11T08:06:11.470584Z"
    }
   },
   "outputs": [
    {
     "data": {
      "text/plain": [
       "27.247464593831943"
      ]
     },
     "execution_count": 17,
     "metadata": {},
     "output_type": "execute_result"
    }
   ],
   "source": [
    "gls._Y"
   ]
  },
  {
   "cell_type": "markdown",
   "id": "1e7596a3",
   "metadata": {},
   "source": [
    "Weighted rms of RV curve:"
   ]
  },
  {
   "cell_type": "code",
   "execution_count": 18,
   "id": "c7152b45",
   "metadata": {
    "ExecuteTime": {
     "end_time": "2022-03-11T08:06:11.501500Z",
     "start_time": "2022-03-11T08:06:11.486541Z"
    }
   },
   "outputs": [
    {
     "data": {
      "text/plain": [
       "30.362433658520494"
      ]
     },
     "execution_count": 18,
     "metadata": {},
     "output_type": "execute_result"
    }
   ],
   "source": [
    "gls._YY"
   ]
  },
  {
   "cell_type": "markdown",
   "id": "857331c8",
   "metadata": {},
   "source": [
    "Best period in days and error:"
   ]
  },
  {
   "cell_type": "code",
   "execution_count": 19,
   "id": "eb40de18",
   "metadata": {
    "ExecuteTime": {
     "end_time": "2022-03-11T08:06:11.517457Z",
     "start_time": "2022-03-11T08:06:11.502497Z"
    }
   },
   "outputs": [
    {
     "data": {
      "text/plain": [
       "0.01286496876487137"
      ]
     },
     "execution_count": 19,
     "metadata": {},
     "output_type": "execute_result"
    }
   ],
   "source": [
    "gls.best['P']"
   ]
  },
  {
   "cell_type": "code",
   "execution_count": 20,
   "id": "176abc45",
   "metadata": {
    "ExecuteTime": {
     "end_time": "2022-03-11T08:06:11.533415Z",
     "start_time": "2022-03-11T08:06:11.518456Z"
    }
   },
   "outputs": [
    {
     "data": {
      "text/plain": [
       "3.5809796308134984e-08"
      ]
     },
     "execution_count": 20,
     "metadata": {},
     "output_type": "execute_result"
    }
   ],
   "source": [
    "gls.best['e_P']"
   ]
  },
  {
   "cell_type": "markdown",
   "id": "468714c7",
   "metadata": {},
   "source": [
    "Best period in hours and error:"
   ]
  },
  {
   "cell_type": "code",
   "execution_count": 21,
   "id": "3f920a9c",
   "metadata": {
    "ExecuteTime": {
     "end_time": "2022-03-11T08:06:11.549375Z",
     "start_time": "2022-03-11T08:06:11.534413Z"
    }
   },
   "outputs": [
    {
     "data": {
      "text/plain": [
       "0.3087592503569129"
      ]
     },
     "execution_count": 21,
     "metadata": {},
     "output_type": "execute_result"
    }
   ],
   "source": [
    "24.0 * gls.best['P']"
   ]
  },
  {
   "cell_type": "code",
   "execution_count": 22,
   "id": "dd3b5ae2",
   "metadata": {
    "ExecuteTime": {
     "end_time": "2022-03-11T08:06:11.565087Z",
     "start_time": "2022-03-11T08:06:11.550370Z"
    }
   },
   "outputs": [
    {
     "data": {
      "text/plain": [
       "8.594351113952396e-07"
      ]
     },
     "execution_count": 22,
     "metadata": {},
     "output_type": "execute_result"
    }
   ],
   "source": [
    "24.0 * gls.best['e_P']"
   ]
  },
  {
   "cell_type": "markdown",
   "id": "05b3acd5",
   "metadata": {},
   "source": [
    "Best period in minutes and error:"
   ]
  },
  {
   "cell_type": "code",
   "execution_count": 23,
   "id": "2abb7d74",
   "metadata": {
    "ExecuteTime": {
     "end_time": "2022-03-11T08:06:11.581045Z",
     "start_time": "2022-03-11T08:06:11.568080Z"
    }
   },
   "outputs": [
    {
     "data": {
      "text/plain": [
       "18.525555021414775"
      ]
     },
     "execution_count": 23,
     "metadata": {},
     "output_type": "execute_result"
    }
   ],
   "source": [
    "24.0 * 60.0 * gls.best['P']"
   ]
  },
  {
   "cell_type": "code",
   "execution_count": 24,
   "id": "bb52cead",
   "metadata": {
    "ExecuteTime": {
     "end_time": "2022-03-11T08:06:11.597001Z",
     "start_time": "2022-03-11T08:06:11.583040Z"
    }
   },
   "outputs": [
    {
     "data": {
      "text/plain": [
       "5.156610668371438e-05"
      ]
     },
     "execution_count": 24,
     "metadata": {},
     "output_type": "execute_result"
    }
   ],
   "source": [
    "24.0 * 60.0 * gls.best['e_P']"
   ]
  },
  {
   "cell_type": "markdown",
   "id": "578dbe0b",
   "metadata": {},
   "source": [
    "Signal amplitude and error:"
   ]
  },
  {
   "cell_type": "code",
   "execution_count": 25,
   "id": "f840f530",
   "metadata": {
    "ExecuteTime": {
     "end_time": "2022-03-11T08:06:11.612958Z",
     "start_time": "2022-03-11T08:06:11.598007Z"
    }
   },
   "outputs": [
    {
     "data": {
      "text/plain": [
       "5.2414954348052785"
      ]
     },
     "execution_count": 25,
     "metadata": {},
     "output_type": "execute_result"
    }
   ],
   "source": [
    "gls.best['amp']"
   ]
  },
  {
   "cell_type": "code",
   "execution_count": 26,
   "id": "4e7431a5",
   "metadata": {
    "ExecuteTime": {
     "end_time": "2022-03-11T08:06:11.628916Z",
     "start_time": "2022-03-11T08:06:11.613956Z"
    }
   },
   "outputs": [
    {
     "data": {
      "text/plain": [
       "0.7748266520061922"
      ]
     },
     "execution_count": 26,
     "metadata": {},
     "output_type": "execute_result"
    }
   ],
   "source": [
    "gls.best['e_amp']"
   ]
  },
  {
   "cell_type": "markdown",
   "id": "5d3b9760",
   "metadata": {},
   "source": [
    "Maximum periodogram power:"
   ]
  },
  {
   "cell_type": "code",
   "execution_count": 27,
   "id": "59c7c782",
   "metadata": {
    "ExecuteTime": {
     "end_time": "2022-03-11T08:06:11.644873Z",
     "start_time": "2022-03-11T08:06:11.629913Z"
    }
   },
   "outputs": [
    {
     "data": {
      "text/plain": [
       "0.4859020514399091"
      ]
     },
     "execution_count": 27,
     "metadata": {},
     "output_type": "execute_result"
    }
   ],
   "source": [
    "gls.power.max()"
   ]
  },
  {
   "cell_type": "markdown",
   "id": "8b5e8093",
   "metadata": {},
   "source": [
    "RMS of residuals:"
   ]
  },
  {
   "cell_type": "code",
   "execution_count": 28,
   "id": "77ad02c3",
   "metadata": {
    "ExecuteTime": {
     "end_time": "2022-03-11T08:06:11.660830Z",
     "start_time": "2022-03-11T08:06:11.645887Z"
    }
   },
   "outputs": [
    {
     "data": {
      "text/plain": [
       "3.9508562182313396"
      ]
     },
     "execution_count": 28,
     "metadata": {},
     "output_type": "execute_result"
    }
   ],
   "source": [
    "gls.rms"
   ]
  },
  {
   "cell_type": "markdown",
   "id": "789255c1",
   "metadata": {},
   "source": [
    "#### Modified plot of the light curve"
   ]
  },
  {
   "cell_type": "markdown",
   "id": "8ce5f6f3",
   "metadata": {},
   "source": [
    "As in the case of instance creation, we put all the paremeters as a reference, even if default values are used."
   ]
  },
  {
   "cell_type": "code",
   "execution_count": 29,
   "id": "b3531ec2",
   "metadata": {
    "ExecuteTime": {
     "end_time": "2022-03-11T08:06:14.501162Z",
     "start_time": "2022-03-11T08:06:11.662826Z"
    }
   },
   "outputs": [
    {
     "name": "stderr",
     "output_type": "stream",
     "text": [
      "c:\\users\\ciroe\\gls.py:642: UserWarning: Matplotlib is currently using module://ipykernel.pylab.backend_inline, which is a non-GUI backend, so cannot show the figure.\n",
      "  fig.show()\n"
     ]
    },
    {
     "data": {
      "image/png": "[encoded data removed]",
      "text/plain": [
       "<Figure size 792x792 with 6 Axes>"
      ]
     },
     "metadata": {
      "needs_background": "light"
     },
     "output_type": "display_data"
    }
   ],
   "source": [
    "# Standard plot:\n",
    "fig = gls.plot(block=False, period=False, fap=None, gls=True, data=True, residuals=True);"
   ]
  },
  {
   "cell_type": "markdown",
   "id": "5f70e30a",
   "metadata": {},
   "source": [
    "We now elaborate a slightly customized plot:"
   ]
  },
  {
   "cell_type": "code",
   "execution_count": 30,
   "id": "d3167118",
   "metadata": {
    "ExecuteTime": {
     "end_time": "2022-03-11T08:06:18.664882Z",
     "start_time": "2022-03-11T08:06:14.502160Z"
    }
   },
   "outputs": [
    {
     "name": "stderr",
     "output_type": "stream",
     "text": [
      "c:\\users\\ciroe\\gls.py:642: UserWarning: Matplotlib is currently using module://ipykernel.pylab.backend_inline, which is a non-GUI backend, so cannot show the figure.\n",
      "  fig.show()\n"
     ]
    },
    {
     "data": {
      "image/png": "[encoded data removed]",
      "text/plain": [
       "<Figure size 792x792 with 6 Axes>"
      ]
     },
     "metadata": {
      "needs_background": "light"
     },
     "output_type": "display_data"
    }
   ],
   "source": [
    "# Standard plot:\n",
    "fig = gls.plot(block=False, period=False,\n",
    "               fap=[0.3200, 0.0460], gls=True, data=True, residuals=True);"
   ]
  },
  {
   "cell_type": "code",
   "execution_count": 31,
   "id": "a2da13ae",
   "metadata": {
    "ExecuteTime": {
     "end_time": "2022-03-11T08:06:20.229927Z",
     "start_time": "2022-03-11T08:06:18.665878Z"
    }
   },
   "outputs": [],
   "source": [
    "fig.suptitle(\"J00051+457\")\n",
    "fig.tight_layout()\n",
    "fig.savefig(IMAGE_RV_OUT)"
   ]
  },
  {
   "cell_type": "markdown",
   "id": "14559744",
   "metadata": {},
   "source": [
    "## Store the lightcurve and periodogram in 'fits' format"
   ]
  },
  {
   "cell_type": "markdown",
   "id": "78fbd2f6",
   "metadata": {},
   "source": [
    "We will generate and store the file in a `fits` file, containing a main header and 2 _HDUs_, as described above:    "
   ]
  },
  {
   "cell_type": "markdown",
   "id": "f547bb90",
   "metadata": {},
   "source": [
    "### Generate a primary `HDU` for basic header information"
   ]
  },
  {
   "cell_type": "markdown",
   "id": "94afae00",
   "metadata": {},
   "source": [
    "At the moment, the header contains just the object name:"
   ]
  },
  {
   "cell_type": "code",
   "execution_count": 32,
   "id": "5aa79953",
   "metadata": {
    "ExecuteTime": {
     "end_time": "2022-03-11T08:06:20.245882Z",
     "start_time": "2022-03-11T08:06:20.230921Z"
    }
   },
   "outputs": [],
   "source": [
    "primary_header = fits.Header()"
   ]
  },
  {
   "cell_type": "code",
   "execution_count": 33,
   "id": "9c47dec9",
   "metadata": {
    "ExecuteTime": {
     "end_time": "2022-03-11T08:06:20.261839Z",
     "start_time": "2022-03-11T08:06:20.246879Z"
    }
   },
   "outputs": [],
   "source": [
    "primary_header['OBJECT'] = (\"J00051+457\", \"KARMENES target name\")\n",
    "primary_header['NAME'] = (\"GJ 2\", \"Object common name\")\n",
    "primary_header['TIC'] = (\"439946126\", \"Object TESS identifier\")\n",
    "primary_header['RA_J2000'] = (\"00:05:10.89\", \"Object right ascension (J2000)\")\n",
    "primary_header['DE_J2000'] = (\"+45:47:11.6\", \"Object declination (J2000)\")\n",
    "primary_header['SPTYPE'] = (\"M1.0 V\", \"Spectral type\")\n",
    "primary_header['TEFF_K'] = (3773, \"Effective temperature in Kelvin\")\n",
    "primary_header['LOGG'] = (5.07, \"Logarithm of surface gravity\")\n",
    "primary_header['FEH'] = (-0.04, \"Metallicity\")\n",
    "primary_header['L_LSUN'] = (0.0436229, \"Luminosity in Solar luminosities\")\n",
    "primary_header['R_RSUN'] = (0.48881, \"Radius in Solar radii\")\n",
    "primary_header['M_MSUN'] = (0.4918, \"Mass in Solar masses\")\n",
    "primary_header['D_PC'] = (11.50352803, \"Distance in parsec\")\n"
   ]
  },
  {
   "cell_type": "code",
   "execution_count": 34,
   "id": "2a8bcda6",
   "metadata": {
    "ExecuteTime": {
     "end_time": "2022-03-11T08:06:20.277796Z",
     "start_time": "2022-03-11T08:06:20.262836Z"
    }
   },
   "outputs": [],
   "source": [
    "hdu_primary = fits.PrimaryHDU(header=primary_header)"
   ]
  },
  {
   "cell_type": "code",
   "execution_count": 35,
   "id": "bfc6624d",
   "metadata": {
    "ExecuteTime": {
     "end_time": "2022-03-11T08:06:20.293753Z",
     "start_time": "2022-03-11T08:06:20.278793Z"
    }
   },
   "outputs": [
    {
     "data": {
      "text/plain": [
       "SIMPLE  =                    T / conforms to FITS standard                      \n",
       "BITPIX  =                    8 / array data type                                \n",
       "NAXIS   =                    0 / number of array dimensions                     \n",
       "OBJECT  = 'J00051+457'         / KARMENES target name                           \n",
       "NAME    = 'GJ 2    '           / Object common name                             \n",
       "TIC     = '439946126'          / Object TESS identifier                         \n",
       "RA_J2000= '00:05:10.89'        / Object right ascension (J2000)                 \n",
       "DE_J2000= '+45:47:11.6'        / Object declination (J2000)                     \n",
       "SPTYPE  = 'M1.0 V  '           / Spectral type                                  \n",
       "TEFF_K  =                 3773 / Effective temperature in Kelvin                \n",
       "LOGG    =                 5.07 / Logarithm of surface gravity                   \n",
       "FEH     =                -0.04 / Metallicity                                    \n",
       "L_LSUN  =            0.0436229 / Luminosity in Solar luminosities               \n",
       "R_RSUN  =              0.48881 / Radius in Solar radii                          \n",
       "M_MSUN  =               0.4918 / Mass in Solar masses                           \n",
       "D_PC    =          11.50352803 / Distance in parsec                             "
      ]
     },
     "execution_count": 35,
     "metadata": {},
     "output_type": "execute_result"
    }
   ],
   "source": [
    "hdu_primary.header"
   ]
  },
  {
   "cell_type": "markdown",
   "id": "62f2f102",
   "metadata": {},
   "source": [
    "### Generate the `QTable` instances"
   ]
  },
  {
   "cell_type": "markdown",
   "id": "488e08a8",
   "metadata": {},
   "source": [
    "Generate a `QTable` object containing the RV curve."
   ]
  },
  {
   "cell_type": "code",
   "execution_count": 36,
   "id": "34e545ac",
   "metadata": {
    "ExecuteTime": {
     "end_time": "2022-03-11T08:06:20.309711Z",
     "start_time": "2022-03-11T08:06:20.294750Z"
    }
   },
   "outputs": [
    {
     "data": {
      "text/html": [
       "<i>LightCurve length=5</i>\n",
       "<table id=\"table1744093730176\" class=\"table-striped table-bordered table-condensed\">\n",
       "<thead><tr><th>time</th><th>flux</th><th>flux_err</th></tr></thead>\n",
       "<thead><tr><th></th><th>m / s</th><th>m / s</th></tr></thead>\n",
       "<thead><tr><th>object</th><th>float64</th><th>float64</th></tr></thead>\n",
       "<tr><td>2457400.28515</td><td>22.3283340297</td><td>1.4018315418</td></tr>\n",
       "<tr><td>2457421.26037</td><td>23.7637567866</td><td>1.48502877524</td></tr>\n",
       "<tr><td>2457588.68128</td><td>31.8136290804</td><td>1.45941122559</td></tr>\n",
       "<tr><td>2457605.66563</td><td>27.1810782306</td><td>1.39936379403</td></tr>\n",
       "<tr><td>2457609.66891</td><td>30.8604332996</td><td>0.853789077456</td></tr>\n",
       "</table>"
      ],
      "text/plain": [
       "<LightCurve length=5>\n",
       "     time          flux        flux_err   \n",
       "                  m / s         m / s     \n",
       "    object       float64       float64    \n",
       "------------- ------------- --------------\n",
       "2457400.28515 22.3283340297   1.4018315418\n",
       "2457421.26037 23.7637567866  1.48502877524\n",
       "2457588.68128 31.8136290804  1.45941122559\n",
       "2457605.66563 27.1810782306  1.39936379403\n",
       "2457609.66891 30.8604332996 0.853789077456"
      ]
     },
     "execution_count": 36,
     "metadata": {},
     "output_type": "execute_result"
    }
   ],
   "source": [
    "rv_lk.head()"
   ]
  },
  {
   "cell_type": "code",
   "execution_count": 37,
   "id": "d1498f10",
   "metadata": {
    "ExecuteTime": {
     "end_time": "2022-03-11T08:06:20.325667Z",
     "start_time": "2022-03-11T08:06:20.310707Z"
    }
   },
   "outputs": [
    {
     "data": {
      "text/html": [
       "<i>QTable length=52</i>\n",
       "<table id=\"table1744093731040\" class=\"table-striped table-bordered table-condensed\">\n",
       "<thead><tr><th>time</th><th>flux</th><th>flux_err</th></tr></thead>\n",
       "<thead><tr><th></th><th>m / s</th><th>m / s</th></tr></thead>\n",
       "<thead><tr><th>object</th><th>float64</th><th>float64</th></tr></thead>\n",
       "<tr><td>2457400.28515</td><td>22.3283340297</td><td>1.4018315418</td></tr>\n",
       "<tr><td>2457421.26037</td><td>23.7637567866</td><td>1.48502877524</td></tr>\n",
       "<tr><td>2457588.68128</td><td>31.8136290804</td><td>1.45941122559</td></tr>\n",
       "<tr><td>2457605.66563</td><td>27.1810782306</td><td>1.39936379403</td></tr>\n",
       "<tr><td>2457609.66891</td><td>30.8604332996</td><td>0.853789077456</td></tr>\n",
       "<tr><td>2457610.67461</td><td>26.5174127112</td><td>2.42228045236</td></tr>\n",
       "<tr><td>2457611.62235</td><td>33.7972831499</td><td>2.1215444299</td></tr>\n",
       "<tr><td>2457620.43878</td><td>18.2264721274</td><td>2.49049263079</td></tr>\n",
       "<tr><td>2457633.58722</td><td>22.4747612442</td><td>2.79460770758</td></tr>\n",
       "<tr><td>...</td><td>...</td><td>...</td></tr>\n",
       "<tr><td>2458001.55263</td><td>18.3903554336</td><td>0.813810072198</td></tr>\n",
       "<tr><td>2458002.59445</td><td>16.5791415523</td><td>1.06072775992</td></tr>\n",
       "<tr><td>2458005.52506</td><td>26.8790436596</td><td>1.11194817338</td></tr>\n",
       "<tr><td>2458007.56737</td><td>30.047892479</td><td>1.03289355436</td></tr>\n",
       "<tr><td>2458009.52179</td><td>33.4542780955</td><td>0.96776903705</td></tr>\n",
       "<tr><td>2458030.46155</td><td>16.715123548</td><td>1.60315306662</td></tr>\n",
       "<tr><td>2458058.4223</td><td>28.664588853</td><td>1.19160367038</td></tr>\n",
       "<tr><td>2458059.43723</td><td>31.4384627643</td><td>1.02148080861</td></tr>\n",
       "<tr><td>2458060.38838</td><td>31.6302150729</td><td>1.09188545229</td></tr>\n",
       "<tr><td>2458093.50163</td><td>25.6352744625</td><td>1.08441740932</td></tr>\n",
       "</table>"
      ],
      "text/plain": [
       "<QTable length=52>\n",
       "     time          flux        flux_err   \n",
       "                  m / s         m / s     \n",
       "    object       float64       float64    \n",
       "------------- ------------- --------------\n",
       "2457400.28515 22.3283340297   1.4018315418\n",
       "2457421.26037 23.7637567866  1.48502877524\n",
       "2457588.68128 31.8136290804  1.45941122559\n",
       "2457605.66563 27.1810782306  1.39936379403\n",
       "2457609.66891 30.8604332996 0.853789077456\n",
       "2457610.67461 26.5174127112  2.42228045236\n",
       "2457611.62235 33.7972831499   2.1215444299\n",
       "2457620.43878 18.2264721274  2.49049263079\n",
       "2457633.58722 22.4747612442  2.79460770758\n",
       "          ...           ...            ...\n",
       "2458001.55263 18.3903554336 0.813810072198\n",
       "2458002.59445 16.5791415523  1.06072775992\n",
       "2458005.52506 26.8790436596  1.11194817338\n",
       "2458007.56737  30.047892479  1.03289355436\n",
       "2458009.52179 33.4542780955  0.96776903705\n",
       "2458030.46155  16.715123548  1.60315306662\n",
       " 2458058.4223  28.664588853  1.19160367038\n",
       "2458059.43723 31.4384627643  1.02148080861\n",
       "2458060.38838 31.6302150729  1.09188545229\n",
       "2458093.50163 25.6352744625  1.08441740932"
      ]
     },
     "execution_count": 37,
     "metadata": {},
     "output_type": "execute_result"
    }
   ],
   "source": [
    "rv_tbl = QTable(rv_lk.to_table())\n",
    "rv_tbl"
   ]
  },
  {
   "cell_type": "markdown",
   "id": "48b3cbfb",
   "metadata": {},
   "source": [
    "Generate a `QTable` object containing the periodogram."
   ]
  },
  {
   "cell_type": "code",
   "execution_count": 38,
   "id": "a344b8e8",
   "metadata": {
    "ExecuteTime": {
     "end_time": "2022-03-11T08:06:20.341624Z",
     "start_time": "2022-03-11T08:06:20.326664Z"
    }
   },
   "outputs": [
    {
     "data": {
      "text/html": [
       "<i>QTable length=964958</i>\n",
       "<table id=\"table1744093748816\" class=\"table-striped table-bordered table-condensed\">\n",
       "<thead><tr><th>freq</th><th>power</th></tr></thead>\n",
       "<thead><tr><th>1 / d</th><th>m2 / s2</th></tr></thead>\n",
       "<thead><tr><th>float64</th><th>float64</th></tr></thead>\n",
       "<tr><td>4.8</td><td>0.005774450897705034</td></tr>\n",
       "<tr><td>4.800144255081761</td><td>0.004524057182412366</td></tr>\n",
       "<tr><td>4.800288510163521</td><td>0.006725559165677542</td></tr>\n",
       "<tr><td>4.800432765245282</td><td>0.013052840142900151</td></tr>\n",
       "<tr><td>4.800577020327043</td><td>0.023647802807107262</td></tr>\n",
       "<tr><td>4.800721275408804</td><td>0.03797471586527501</td></tr>\n",
       "<tr><td>4.800865530490564</td><td>0.054567089552546584</td></tr>\n",
       "<tr><td>4.801009785572325</td><td>0.07117456732038212</td></tr>\n",
       "<tr><td>4.801154040654086</td><td>0.08561055816339229</td></tr>\n",
       "<tr><td>...</td><td>...</td></tr>\n",
       "<tr><td>143.9986526348692</td><td>0.02887092308832602</td></tr>\n",
       "<tr><td>143.99879688995094</td><td>0.031984979666708525</td></tr>\n",
       "<tr><td>143.9989411450327</td><td>0.034233179035531455</td></tr>\n",
       "<tr><td>143.99908540011447</td><td>0.034561049794708726</td></tr>\n",
       "<tr><td>143.99922965519622</td><td>0.033110984858368754</td></tr>\n",
       "<tr><td>143.99937391027797</td><td>0.030845022355265685</td></tr>\n",
       "<tr><td>143.99951816535975</td><td>0.028391139106247097</td></tr>\n",
       "<tr><td>143.9996624204415</td><td>0.025636251413264772</td></tr>\n",
       "<tr><td>143.99980667552325</td><td>0.0223587988178795</td></tr>\n",
       "<tr><td>143.99995093060502</td><td>0.01900756003700223</td></tr>\n",
       "</table>"
      ],
      "text/plain": [
       "<QTable length=964958>\n",
       "       freq               power        \n",
       "      1 / d              m2 / s2       \n",
       "     float64             float64       \n",
       "------------------ --------------------\n",
       "               4.8 0.005774450897705034\n",
       " 4.800144255081761 0.004524057182412366\n",
       " 4.800288510163521 0.006725559165677542\n",
       " 4.800432765245282 0.013052840142900151\n",
       " 4.800577020327043 0.023647802807107262\n",
       " 4.800721275408804  0.03797471586527501\n",
       " 4.800865530490564 0.054567089552546584\n",
       " 4.801009785572325  0.07117456732038212\n",
       " 4.801154040654086  0.08561055816339229\n",
       "               ...                  ...\n",
       " 143.9986526348692  0.02887092308832602\n",
       "143.99879688995094 0.031984979666708525\n",
       " 143.9989411450327 0.034233179035531455\n",
       "143.99908540011447 0.034561049794708726\n",
       "143.99922965519622 0.033110984858368754\n",
       "143.99937391027797 0.030845022355265685\n",
       "143.99951816535975 0.028391139106247097\n",
       " 143.9996624204415 0.025636251413264772\n",
       "143.99980667552325   0.0223587988178795\n",
       "143.99995093060502  0.01900756003700223"
      ]
     },
     "execution_count": 38,
     "metadata": {},
     "output_type": "execute_result"
    }
   ],
   "source": [
    "pg_tbl = QTable(data=[gls.freq, gls.power], names=['freq', 'power'], units=[1.0 / u.d, (u.m / u.s) ** 2])\n",
    "pg_tbl"
   ]
  },
  {
   "cell_type": "markdown",
   "id": "4aaf4dfd",
   "metadata": {},
   "source": [
    "### Generate the header units"
   ]
  },
  {
   "cell_type": "markdown",
   "id": "52c37c5b",
   "metadata": {},
   "source": [
    "#### Radial velocity curve"
   ]
  },
  {
   "cell_type": "code",
   "execution_count": 39,
   "id": "1a5c3b0e",
   "metadata": {
    "ExecuteTime": {
     "end_time": "2022-03-11T08:06:20.357582Z",
     "start_time": "2022-03-11T08:06:20.342621Z"
    }
   },
   "outputs": [],
   "source": [
    "hdu_rv = fits.table_to_hdu(rv_tbl)"
   ]
  },
  {
   "cell_type": "code",
   "execution_count": 40,
   "id": "004567c1",
   "metadata": {
    "ExecuteTime": {
     "end_time": "2022-03-11T08:06:20.373538Z",
     "start_time": "2022-03-11T08:06:20.358579Z"
    }
   },
   "outputs": [],
   "source": [
    "hdu_rv.name = \"RV_CURVE\""
   ]
  },
  {
   "cell_type": "code",
   "execution_count": 41,
   "id": "5f9f0ac6",
   "metadata": {
    "ExecuteTime": {
     "end_time": "2022-03-11T08:06:20.389497Z",
     "start_time": "2022-03-11T08:06:20.374536Z"
    }
   },
   "outputs": [
    {
     "data": {
      "text/plain": [
       "XTENSION= 'BINTABLE'           / binary table extension                         \n",
       "BITPIX  =                    8 / array data type                                \n",
       "NAXIS   =                    2 / number of array dimensions                     \n",
       "NAXIS1  =                   32 / length of dimension 1                          \n",
       "NAXIS2  =                   52 / length of dimension 2                          \n",
       "PCOUNT  =                    0 / number of group parameters                     \n",
       "GCOUNT  =                    1 / number of groups                               \n",
       "TFIELDS =                    3 / number of table fields                         \n",
       "TIMESYS = 'UTC     '           / Default time scale                             \n",
       "JDREF   =                  0.0 / Time columns are jd = jd1 + jd2                \n",
       "TREFPOS = 'TOPOCENTER'         / Time reference position                        \n",
       "TTYPE1  = 'time    '                                                            \n",
       "TFORM1  = '2D      '                                                            \n",
       "TUNIT1  = 'd       '                                                            \n",
       "TDIM1   = '(2)     '                                                            \n",
       "TCTYP1  = 'TDB     '                                                            \n",
       "TCUNI1  = 'd       '                                                            \n",
       "TTYPE2  = 'flux    '                                                            \n",
       "TFORM2  = 'D       '                                                            \n",
       "TUNIT2  = 'm s-1   '                                                            \n",
       "TTYPE3  = 'flux_err'                                                            \n",
       "TFORM3  = 'D       '                                                            \n",
       "TUNIT3  = 'm s-1   '                                                            \n",
       "EXTNAME = 'RV_CURVE'           / extension name                                 "
      ]
     },
     "execution_count": 41,
     "metadata": {},
     "output_type": "execute_result"
    }
   ],
   "source": [
    "hdu_rv.header"
   ]
  },
  {
   "cell_type": "code",
   "execution_count": 42,
   "id": "f5af4282",
   "metadata": {
    "ExecuteTime": {
     "end_time": "2022-03-11T08:06:20.405454Z",
     "start_time": "2022-03-11T08:06:20.390495Z"
    }
   },
   "outputs": [
    {
     "data": {
      "text/plain": [
       "FITS_rec([([ 2.457400e+06,  2.851500e-01], 22.32833403, 1.40183154),\n",
       "          ([ 2.457421e+06,  2.603700e-01], 23.76375679, 1.48502878),\n",
       "          ([ 2.457589e+06, -3.187200e-01], 31.81362908, 1.45941123),\n",
       "          ([ 2.457606e+06, -3.343700e-01], 27.18107823, 1.39936379),\n",
       "          ([ 2.457610e+06, -3.310900e-01], 30.8604333 , 0.85378908),\n",
       "          ([ 2.457611e+06, -3.253900e-01], 26.51741271, 2.42228045),\n",
       "          ([ 2.457612e+06, -3.776500e-01], 33.79728315, 2.12154443),\n",
       "          ([ 2.457620e+06,  4.387800e-01], 18.22647213, 2.49049263),\n",
       "          ([ 2.457634e+06, -4.127800e-01], 22.47476124, 2.79460771),\n",
       "          ([ 2.457637e+06, -4.277600e-01], 22.63105046, 2.32164747)],\n",
       "         dtype=(numpy.record, [('time', '<f8', (2,)), ('flux', '<f8'), ('flux_err', '<f8')]))"
      ]
     },
     "execution_count": 42,
     "metadata": {},
     "output_type": "execute_result"
    }
   ],
   "source": [
    "hdu_rv.data[:10]"
   ]
  },
  {
   "cell_type": "code",
   "execution_count": 43,
   "id": "0db13f01",
   "metadata": {
    "ExecuteTime": {
     "end_time": "2022-03-11T08:06:20.421411Z",
     "start_time": "2022-03-11T08:06:20.406451Z"
    }
   },
   "outputs": [],
   "source": [
    "psample = rv_infer_sampling(rv_lk).value\n",
    "fsample = 1.0 / psample\n",
    "fnyq = 2.0 * fsample\n",
    "freq_units = u.d ** (-1)"
   ]
  },
  {
   "cell_type": "code",
   "execution_count": 44,
   "id": "54ef341b",
   "metadata": {
    "ExecuteTime": {
     "end_time": "2022-03-11T08:06:20.437370Z",
     "start_time": "2022-03-11T08:06:20.422422Z"
    }
   },
   "outputs": [
    {
     "data": {
      "text/plain": [
       "XTENSION= 'BINTABLE'           / binary table extension                         \n",
       "BITPIX  =                    8 / array data type                                \n",
       "NAXIS   =                    2 / number of array dimensions                     \n",
       "NAXIS1  =                   32 / length of dimension 1                          \n",
       "NAXIS2  =                   52 / length of dimension 2                          \n",
       "PCOUNT  =                    0 / number of group parameters                     \n",
       "GCOUNT  =                    1 / number of groups                               \n",
       "TFIELDS =                    3 / number of table fields                         \n",
       "TIMESYS = 'UTC     '           / Default time scale                             \n",
       "JDREF   =                  0.0 / Time columns are jd = jd1 + jd2                \n",
       "TREFPOS = 'TOPOCENTER'         / Time reference position                        \n",
       "TTYPE1  = 'time    '                                                            \n",
       "TFORM1  = '2D      '                                                            \n",
       "TUNIT1  = 'd       '                                                            \n",
       "TDIM1   = '(2)     '                                                            \n",
       "TCTYP1  = 'TDB     '                                                            \n",
       "TCUNI1  = 'd       '                                                            \n",
       "TTYPE2  = 'flux    '                                                            \n",
       "TFORM2  = 'D       '                                                            \n",
       "TUNIT2  = 'm s-1   '                                                            \n",
       "TTYPE3  = 'flux_err'                                                            \n",
       "TFORM3  = 'D       '                                                            \n",
       "TUNIT3  = 'm s-1   '                                                            \n",
       "EXTNAME = 'RV_CURVE'           / extension name                                 \n",
       "OBJECT  = 'J00051+457'         / KARMENES target name                           \n",
       "PUNIT   = 'd       '                                                            \n",
       "FUNIT   = 'd-1     '                                                            \n",
       "RVPOINTS=                   52 / Number of points in the RV curve               \n",
       "AVGFLUX =    27.24746459383194 / Average flux of RV curve                       \n",
       "RMSFLUX =    30.36243365852049 / Flux RMS of RV curve                           \n",
       "PSAMPLE =     3.02419999986887 / Inferred cadence in RV curve                   \n",
       "FSAMPLE =   0.3306659612602871 / Inferred sampling frequency in RV curve        \n",
       "FNYQUIST=   0.6613319225205743 / Calculated Nyquist frequency value             "
      ]
     },
     "execution_count": 44,
     "metadata": {},
     "output_type": "execute_result"
    }
   ],
   "source": [
    "# Add values to header:\n",
    "hdu_rv.header['OBJECT'] = (\"J00051+457\", \"KARMENES target name\")\n",
    "hdu_rv.header['PUNIT'] = u.d.to_string(format='fits')\n",
    "hdu_rv.header['FUNIT'] = freq_units.to_string(format='fits')\n",
    "hdu_rv.header['RVPOINTS'] = (gls.N, \"Number of points in the RV curve\")\n",
    "hdu_rv.header['AVGFLUX'] = (gls._Y, \"Average flux of RV curve\")\n",
    "hdu_rv.header['RMSFLUX'] = (gls._YY, \"Flux RMS of RV curve\")\n",
    "hdu_rv.header['PSAMPLE'] = (psample, \"Inferred cadence in RV curve\")\n",
    "hdu_rv.header['FSAMPLE'] = (fsample, \"Inferred sampling frequency in RV curve\")\n",
    "hdu_rv.header['FNYQUIST'] = (fnyq, \"Calculated Nyquist frequency value\")\n",
    "hdu_rv.header"
   ]
  },
  {
   "cell_type": "markdown",
   "id": "8df84e9c",
   "metadata": {},
   "source": [
    "#### Periodogram"
   ]
  },
  {
   "cell_type": "code",
   "execution_count": 45,
   "id": "bb142148",
   "metadata": {
    "ExecuteTime": {
     "end_time": "2022-03-11T08:06:20.468311Z",
     "start_time": "2022-03-11T08:06:20.438367Z"
    }
   },
   "outputs": [],
   "source": [
    "hdu_pg = fits.table_to_hdu(pg_tbl)"
   ]
  },
  {
   "cell_type": "code",
   "execution_count": 46,
   "id": "c9c49c40",
   "metadata": {
    "ExecuteTime": {
     "end_time": "2022-03-11T08:06:20.483246Z",
     "start_time": "2022-03-11T08:06:20.469283Z"
    }
   },
   "outputs": [],
   "source": [
    "hdu_pg.name = \"GLS_PG\""
   ]
  },
  {
   "cell_type": "code",
   "execution_count": 47,
   "id": "b99bae6d",
   "metadata": {
    "ExecuteTime": {
     "end_time": "2022-03-11T08:06:20.499203Z",
     "start_time": "2022-03-11T08:06:20.484245Z"
    }
   },
   "outputs": [
    {
     "data": {
      "text/plain": [
       "XTENSION= 'BINTABLE'           / binary table extension                         \n",
       "BITPIX  =                    8 / array data type                                \n",
       "NAXIS   =                    2 / number of array dimensions                     \n",
       "NAXIS1  =                   16 / length of dimension 1                          \n",
       "NAXIS2  =               964958 / length of dimension 2                          \n",
       "PCOUNT  =                    0 / number of group parameters                     \n",
       "GCOUNT  =                    1 / number of groups                               \n",
       "TFIELDS =                    2 / number of table fields                         \n",
       "TTYPE1  = 'freq    '                                                            \n",
       "TFORM1  = 'D       '                                                            \n",
       "TUNIT1  = 'd-1     '                                                            \n",
       "TTYPE2  = 'power   '                                                            \n",
       "TFORM2  = 'D       '                                                            \n",
       "TUNIT2  = 'm2 s-2  '                                                            \n",
       "EXTNAME = 'GLS_PG  '           / extension name                                 "
      ]
     },
     "execution_count": 47,
     "metadata": {},
     "output_type": "execute_result"
    }
   ],
   "source": [
    "hdu_pg.header"
   ]
  },
  {
   "cell_type": "code",
   "execution_count": 48,
   "id": "305cbbf3",
   "metadata": {
    "ExecuteTime": {
     "end_time": "2022-03-11T08:06:20.515161Z",
     "start_time": "2022-03-11T08:06:20.500201Z"
    }
   },
   "outputs": [
    {
     "data": {
      "text/plain": [
       "FITS_rec([(4.8       , 0.00577445), (4.80014426, 0.00452406),\n",
       "          (4.80028851, 0.00672556), (4.80043277, 0.01305284),\n",
       "          (4.80057702, 0.0236478 ), (4.80072128, 0.03797472),\n",
       "          (4.80086553, 0.05456709), (4.80100979, 0.07117457),\n",
       "          (4.80115404, 0.08561056), (4.8012983 , 0.09654946)],\n",
       "         dtype=(numpy.record, [('freq', '<f8'), ('power', '<f8')]))"
      ]
     },
     "execution_count": 48,
     "metadata": {},
     "output_type": "execute_result"
    }
   ],
   "source": [
    "hdu_pg.data[:10]"
   ]
  },
  {
   "cell_type": "code",
   "execution_count": 49,
   "id": "9e44d46e",
   "metadata": {
    "ExecuteTime": {
     "end_time": "2022-03-11T08:06:20.531118Z",
     "start_time": "2022-03-11T08:06:20.516158Z"
    }
   },
   "outputs": [],
   "source": [
    "fpoints = len(gls.f)\n",
    "fres = (gls.fend - gls.fbeg) / (fpoints - 1)"
   ]
  },
  {
   "cell_type": "code",
   "execution_count": 50,
   "id": "187b5682",
   "metadata": {
    "ExecuteTime": {
     "end_time": "2022-03-11T08:06:20.547083Z",
     "start_time": "2022-03-11T08:06:20.532115Z"
    }
   },
   "outputs": [
    {
     "data": {
      "text/plain": [
       "XTENSION= 'BINTABLE'           / binary table extension                         \n",
       "BITPIX  =                    8 / array data type                                \n",
       "NAXIS   =                    2 / number of array dimensions                     \n",
       "NAXIS1  =                   16 / length of dimension 1                          \n",
       "NAXIS2  =               964958 / length of dimension 2                          \n",
       "PCOUNT  =                    0 / number of group parameters                     \n",
       "GCOUNT  =                    1 / number of groups                               \n",
       "TFIELDS =                    2 / number of table fields                         \n",
       "TTYPE1  = 'freq    '                                                            \n",
       "TFORM1  = 'D       '                                                            \n",
       "TUNIT1  = 'd-1     '                                                            \n",
       "TTYPE2  = 'power   '                                                            \n",
       "TFORM2  = 'D       '                                                            \n",
       "TUNIT2  = 'm2 s-2  '                                                            \n",
       "EXTNAME = 'GLS_PG  '           / extension name                                 \n",
       "OBJECT  = 'J00051+457'         / KARMENES target name                           \n",
       "FUNIT   = 'd-1     '           / Unit for frequencies                           \n",
       "PUNIT   = 'd       '           / Unit for periods                               \n",
       "PK_FREQ =    77.73046466545374 / Frequency of the peak in periodogram           \n",
       "PK_POW  =   0.4859020514399091 / Power of the peak in periodogram               \n",
       "PK_SNR  =   0.4859020514399091 / Power of the peak in periodogram               \n",
       "RES_RMS =     3.95085621823134 / RMS of residuals in periodogram                \n",
       "FSAMPLE =   0.3306659612602871 / Inferred sampling frequency in RV curve        \n",
       "FNYQUIST=   0.6613319225205743 / Calculated Nyquist frequency value             \n",
       "FPOINTS =               964958 / Number of points in periodogram                \n",
       "FBEG    =                  4.8 / Start frequency in periodogram                 \n",
       "FEND    =                  144 / End frequency in periodogram                   \n",
       "FRES    = 0.000144255132612126 / Frequency resolution in periodogram            \n",
       "F       =    77.73046466545374 / Peak best estimate: frequency                  \n",
       "E_F     = 0.000216363689448445 / Peak best estimate: frequency error            \n",
       "P       =  0.01286496876487137 / Peak best estimate: period                     \n",
       "E_P     = 3.58097963081349E-08 / Peak best estimate: period error               \n",
       "A       =    5.241495434805278 / Peak best estimate: amplitude                  \n",
       "E_A     =   0.7748266520061922 / Peak best estimate: amplitude error            \n",
       "PH      = -0.06456286989271257 / Peak best estimate: phase                      \n",
       "E_PH    =  0.02352715808684293 / Peak best estimate: phase error                \n",
       "T0      =    2457400.285980599 / Peak best estimate: frequency                  \n",
       "E_T0    = 0.000302676153913425 / Peak best estimate: frequency error            \n",
       "OFF     =    26.43689598497934 / Peak best estimate: offset                     \n",
       "E_OFF   =   0.5478851798776477 / Peak best estimate: offset error               \n",
       "OFAC    =                   10 / Setup: oversampling factor                     \n",
       "HIFAC   =                   10 / Setup: maximum frequency factor                \n",
       "NORM    = 'ZK      '           / Setup: normalization type                      \n",
       "LS      =                    F / Setup: conventional Lomb-Scargle calculation   \n",
       "FAST    =                   10 / Setup: fast evaluation, recursive trigonometric"
      ]
     },
     "execution_count": 50,
     "metadata": {},
     "output_type": "execute_result"
    }
   ],
   "source": [
    "# Add values to header:\n",
    "hdu_pg.header['OBJECT'] = (\"J00051+457\", \"KARMENES target name\")\n",
    "hdu_pg.header['FUNIT'] = (freq_units.to_string(format='fits'), \"Unit for frequencies\")\n",
    "hdu_pg.header['PUNIT'] = (u.d.to_string(format='fits'), \"Unit for periods\")\n",
    "hdu_pg.header['PK_FREQ'] = (gls.best['f'], \"Frequency of the peak in periodogram\")\n",
    "hdu_pg.header['PK_POW'] = (gls.pmax, \"Power of the peak in periodogram\")\n",
    "hdu_pg.header['PK_SNR'] = (gls.pmax, \"Power of the peak in periodogram\")\n",
    "hdu_pg.header['RES_RMS'] = (gls.rms, \"RMS of residuals in periodogram\")\n",
    "hdu_pg.header['FSAMPLE'] = (fsample, \"Inferred sampling frequency in RV curve\")\n",
    "hdu_pg.header['FNYQUIST'] = (fnyq, \"Calculated Nyquist frequency value\")\n",
    "hdu_pg.header['FPOINTS'] = (fpoints, \"Number of points in periodogram\")\n",
    "hdu_pg.header['FBEG'] = (gls.fbeg, \"Start frequency in periodogram\")\n",
    "hdu_pg.header['FEND'] = (gls.fend, \"End frequency in periodogram\")\n",
    "hdu_pg.header['FRES'] = (fres, \"Frequency resolution in periodogram\")\n",
    "hdu_pg.header['F'] = (gls.best['f'], \"Peak best estimate: frequency\")\n",
    "hdu_pg.header['E_F'] = (gls.best['e_f'], \"Peak best estimate: frequency error\")\n",
    "hdu_pg.header['P'] = (gls.best['P'], \"Peak best estimate: period\")\n",
    "hdu_pg.header['E_P'] = (gls.best['e_P'], \"Peak best estimate: period error\")\n",
    "hdu_pg.header['A'] = (gls.best['amp'], \"Peak best estimate: amplitude\")\n",
    "hdu_pg.header['E_A'] = (gls.best['e_amp'], \"Peak best estimate: amplitude error\")\n",
    "hdu_pg.header['PH'] = (gls.best['ph'], \"Peak best estimate: phase\")\n",
    "hdu_pg.header['E_PH'] = (gls.best['e_ph'], \"Peak best estimate: phase error\")\n",
    "hdu_pg.header['T0'] = (gls.best['T0'], \"Peak best estimate: frequency\")\n",
    "hdu_pg.header['E_T0'] = (gls.best['e_T0'], \"Peak best estimate: frequency error\")\n",
    "hdu_pg.header['OFF'] = (gls.best['offset'], \"Peak best estimate: offset\")\n",
    "hdu_pg.header['E_OFF'] = (gls.best['e_offset'], \"Peak best estimate: offset error\")\n",
    "hdu_pg.header['OFAC'] = (gls.ofac, \"Setup: oversampling factor\")\n",
    "hdu_pg.header['HIFAC'] = (gls.ofac, \"Setup: maximum frequency factor\")\n",
    "hdu_pg.header['NORM'] = (gls.norm, \"Setup: normalization type\")\n",
    "hdu_pg.header['LS'] = (gls.ls, \"Setup: conventional Lomb-Scargle calculation\")\n",
    "hdu_pg.header['FAST'] = (gls.ofac, \"Setup: fast evaluation, recursive trigonometric\")\n",
    "hdu_pg.header"
   ]
  },
  {
   "cell_type": "markdown",
   "id": "b64763d9",
   "metadata": {},
   "source": [
    "### Create the fits object with the header and the two `HDU`"
   ]
  },
  {
   "cell_type": "code",
   "execution_count": 51,
   "id": "1df34f14",
   "metadata": {
    "ExecuteTime": {
     "end_time": "2022-03-11T08:06:20.563033Z",
     "start_time": "2022-03-11T08:06:20.548072Z"
    }
   },
   "outputs": [],
   "source": [
    "hdul = fits.HDUList([hdu_primary, hdu_rv, hdu_pg])"
   ]
  },
  {
   "cell_type": "code",
   "execution_count": 52,
   "id": "671c53bc",
   "metadata": {
    "ExecuteTime": {
     "end_time": "2022-03-11T08:06:20.578990Z",
     "start_time": "2022-03-11T08:06:20.564030Z"
    }
   },
   "outputs": [
    {
     "data": {
      "text/plain": [
       "[<astropy.io.fits.hdu.image.PrimaryHDU object at 0x0000019613ED70D0>, <astropy.io.fits.hdu.table.BinTableHDU object at 0x0000019614169460>, <astropy.io.fits.hdu.table.BinTableHDU object at 0x0000019613F10BE0>]"
      ]
     },
     "execution_count": 52,
     "metadata": {},
     "output_type": "execute_result"
    }
   ],
   "source": [
    "hdul"
   ]
  },
  {
   "cell_type": "code",
   "execution_count": null,
   "id": "6c36617d",
   "metadata": {},
   "outputs": [],
   "source": []
  },
  {
   "cell_type": "markdown",
   "id": "b37a0e05",
   "metadata": {},
   "source": [
    "### Write the `fits` object to file"
   ]
  },
  {
   "cell_type": "code",
   "execution_count": 53,
   "id": "1c404882",
   "metadata": {
    "ExecuteTime": {
     "end_time": "2022-03-11T08:06:20.594947Z",
     "start_time": "2022-03-11T08:06:20.580005Z"
    }
   },
   "outputs": [],
   "source": [
    "hdul.close()"
   ]
  },
  {
   "cell_type": "code",
   "execution_count": 54,
   "id": "f960362c",
   "metadata": {
    "ExecuteTime": {
     "end_time": "2022-03-11T08:06:20.642845Z",
     "start_time": "2022-03-11T08:06:20.595945Z"
    }
   },
   "outputs": [],
   "source": [
    "hdul.writeto(PG_OUT_FILE, overwrite=True)"
   ]
  },
  {
   "cell_type": "markdown",
   "id": "17bfa247",
   "metadata": {},
   "source": [
    "**NOTE:** it is important to close the `HDUList` object after use, as well as also delete the read data, so as to eliminate all the pointers to the file (see https://docs.astropy.org/en/stable/io/fits/index.html#working-with-large-files)."
   ]
  },
  {
   "cell_type": "code",
   "execution_count": 55,
   "id": "54c04a59",
   "metadata": {
    "ExecuteTime": {
     "end_time": "2022-03-11T08:06:20.658778Z",
     "start_time": "2022-03-11T08:06:20.643818Z"
    }
   },
   "outputs": [],
   "source": [
    "hdul.close()"
   ]
  },
  {
   "cell_type": "code",
   "execution_count": 56,
   "id": "33a76f27",
   "metadata": {
    "ExecuteTime": {
     "end_time": "2022-03-11T08:06:20.674735Z",
     "start_time": "2022-03-11T08:06:20.659773Z"
    }
   },
   "outputs": [],
   "source": [
    "del hdul"
   ]
  },
  {
   "cell_type": "code",
   "execution_count": 57,
   "id": "2e5a6770",
   "metadata": {
    "ExecuteTime": {
     "end_time": "2022-03-11T08:06:20.690692Z",
     "start_time": "2022-03-11T08:06:20.675731Z"
    }
   },
   "outputs": [],
   "source": [
    "del hdu_primary"
   ]
  },
  {
   "cell_type": "code",
   "execution_count": 58,
   "id": "7c19dd01",
   "metadata": {
    "ExecuteTime": {
     "end_time": "2022-03-11T08:06:20.706649Z",
     "start_time": "2022-03-11T08:06:20.691705Z"
    }
   },
   "outputs": [],
   "source": [
    "del hdu_rv"
   ]
  },
  {
   "cell_type": "code",
   "execution_count": 59,
   "id": "a4b10eb5",
   "metadata": {
    "ExecuteTime": {
     "end_time": "2022-03-11T08:06:20.722632Z",
     "start_time": "2022-03-11T08:06:20.707647Z"
    }
   },
   "outputs": [],
   "source": [
    "del hdu_pg"
   ]
  },
  {
   "cell_type": "markdown",
   "id": "0d05d266",
   "metadata": {},
   "source": [
    "### Test opening recently created `fits`file and working with it"
   ]
  },
  {
   "cell_type": "code",
   "execution_count": 60,
   "id": "c55f3794",
   "metadata": {
    "ExecuteTime": {
     "end_time": "2022-03-11T08:06:20.738563Z",
     "start_time": "2022-03-11T08:06:20.723604Z"
    }
   },
   "outputs": [
    {
     "data": {
      "text/plain": [
       "[<astropy.io.fits.hdu.image.PrimaryHDU object at 0x0000019613F00640>, <astropy.io.fits.hdu.table.BinTableHDU object at 0x0000019613EF6400>, <astropy.io.fits.hdu.table.BinTableHDU object at 0x0000019613EF69D0>]"
      ]
     },
     "execution_count": 60,
     "metadata": {},
     "output_type": "execute_result"
    }
   ],
   "source": [
    "read_hdul = fits.open(PG_OUT_FILE, mode='update', memmap=False)\n",
    "read_hdul"
   ]
  },
  {
   "cell_type": "code",
   "execution_count": 61,
   "id": "2ed25489",
   "metadata": {
    "ExecuteTime": {
     "end_time": "2022-03-11T08:06:20.754521Z",
     "start_time": "2022-03-11T08:06:20.739560Z"
    }
   },
   "outputs": [
    {
     "name": "stdout",
     "output_type": "stream",
     "text": [
      "Filename: ../data/CARMENES_GTO_RVs_PGs/ETL_25_01_Test_RV_and_PG.fits\n",
      "No.    Name      Ver    Type      Cards   Dimensions   Format\n",
      "  0  PRIMARY       1 PrimaryHDU      17   ()      \n",
      "  1  RV_CURVE      1 BinTableHDU     33   52R x 3C   [2D, D, D]   \n",
      "  2  GLS_PG        1 BinTableHDU     45   964958R x 2C   [D, D]   \n"
     ]
    }
   ],
   "source": [
    "read_hdul.info()"
   ]
  },
  {
   "cell_type": "markdown",
   "id": "1740aebe",
   "metadata": {},
   "source": [
    "#### Retrieve basic information"
   ]
  },
  {
   "cell_type": "code",
   "execution_count": 62,
   "id": "0b841a62",
   "metadata": {
    "ExecuteTime": {
     "end_time": "2022-03-11T08:06:20.770478Z",
     "start_time": "2022-03-11T08:06:20.755518Z"
    }
   },
   "outputs": [
    {
     "data": {
      "text/plain": [
       "SIMPLE  =                    T / conforms to FITS standard                      \n",
       "BITPIX  =                    8 / array data type                                \n",
       "NAXIS   =                    0 / number of array dimensions                     \n",
       "EXTEND  =                    T                                                  \n",
       "OBJECT  = 'J00051+457'         / KARMENES target name                           \n",
       "NAME    = 'GJ 2    '           / Object common name                             \n",
       "TIC     = '439946126'          / Object TESS identifier                         \n",
       "RA_J2000= '00:05:10.89'        / Object right ascension (J2000)                 \n",
       "DE_J2000= '+45:47:11.6'        / Object declination (J2000)                     \n",
       "SPTYPE  = 'M1.0 V  '           / Spectral type                                  \n",
       "TEFF_K  =                 3773 / Effective temperature in Kelvin                \n",
       "LOGG    =                 5.07 / Logarithm of surface gravity                   \n",
       "FEH     =                -0.04 / Metallicity                                    \n",
       "L_LSUN  =            0.0436229 / Luminosity in Solar luminosities               \n",
       "R_RSUN  =              0.48881 / Radius in Solar radii                          \n",
       "M_MSUN  =               0.4918 / Mass in Solar masses                           \n",
       "D_PC    =          11.50352803 / Distance in parsec                             "
      ]
     },
     "execution_count": 62,
     "metadata": {},
     "output_type": "execute_result"
    }
   ],
   "source": [
    "read_hdul['PRIMARY'].header"
   ]
  },
  {
   "cell_type": "code",
   "execution_count": 63,
   "id": "10df788c",
   "metadata": {
    "ExecuteTime": {
     "end_time": "2022-03-11T08:06:20.786435Z",
     "start_time": "2022-03-11T08:06:20.771476Z"
    }
   },
   "outputs": [
    {
     "data": {
      "text/plain": [
       "SIMPLE  =                    T / conforms to FITS standard                      \n",
       "BITPIX  =                    8 / array data type                                \n",
       "NAXIS   =                    0 / number of array dimensions                     \n",
       "EXTEND  =                    T                                                  \n",
       "OBJECT  = 'J00051+457'         / KARMENES target name                           \n",
       "NAME    = 'GJ 2    '           / Object common name                             \n",
       "TIC     = '439946126'          / Object TESS identifier                         \n",
       "RA_J2000= '00:05:10.89'        / Object right ascension (J2000)                 \n",
       "DE_J2000= '+45:47:11.6'        / Object declination (J2000)                     \n",
       "SPTYPE  = 'M1.0 V  '           / Spectral type                                  \n",
       "TEFF_K  =                 3773 / Effective temperature in Kelvin                \n",
       "LOGG    =                 5.07 / Logarithm of surface gravity                   \n",
       "FEH     =                -0.04 / Metallicity                                    \n",
       "L_LSUN  =            0.0436229 / Luminosity in Solar luminosities               \n",
       "R_RSUN  =              0.48881 / Radius in Solar radii                          \n",
       "M_MSUN  =               0.4918 / Mass in Solar masses                           \n",
       "D_PC    =          11.50352803 / Distance in parsec                             "
      ]
     },
     "execution_count": 63,
     "metadata": {},
     "output_type": "execute_result"
    }
   ],
   "source": [
    "read_hdul[0].header"
   ]
  },
  {
   "cell_type": "markdown",
   "id": "d2923876",
   "metadata": {},
   "source": [
    "#### Retrieve RV curve information"
   ]
  },
  {
   "cell_type": "code",
   "execution_count": 64,
   "id": "d99f7f20",
   "metadata": {
    "ExecuteTime": {
     "end_time": "2022-03-11T08:06:20.802393Z",
     "start_time": "2022-03-11T08:06:20.787456Z"
    }
   },
   "outputs": [
    {
     "data": {
      "text/plain": [
       "<astropy.io.fits.hdu.table.BinTableHDU at 0x19613ef6400>"
      ]
     },
     "execution_count": 64,
     "metadata": {},
     "output_type": "execute_result"
    }
   ],
   "source": [
    "read_hdul['RV_CURVE']"
   ]
  },
  {
   "cell_type": "code",
   "execution_count": 65,
   "id": "55a69263",
   "metadata": {
    "ExecuteTime": {
     "end_time": "2022-03-11T08:06:20.818350Z",
     "start_time": "2022-03-11T08:06:20.803390Z"
    }
   },
   "outputs": [
    {
     "data": {
      "text/plain": [
       "XTENSION= 'BINTABLE'           / binary table extension                         \n",
       "BITPIX  =                    8 / array data type                                \n",
       "NAXIS   =                    2 / number of array dimensions                     \n",
       "NAXIS1  =                   32 / length of dimension 1                          \n",
       "NAXIS2  =                   52 / length of dimension 2                          \n",
       "PCOUNT  =                    0 / number of group parameters                     \n",
       "GCOUNT  =                    1 / number of groups                               \n",
       "TFIELDS =                    3 / number of table fields                         \n",
       "TIMESYS = 'UTC     '           / Default time scale                             \n",
       "JDREF   =                  0.0 / Time columns are jd = jd1 + jd2                \n",
       "TREFPOS = 'TOPOCENTER'         / Time reference position                        \n",
       "TTYPE1  = 'time    '                                                            \n",
       "TFORM1  = '2D      '                                                            \n",
       "TUNIT1  = 'd       '                                                            \n",
       "TDIM1   = '(2)     '                                                            \n",
       "TCTYP1  = 'TDB     '                                                            \n",
       "TCUNI1  = 'd       '                                                            \n",
       "TTYPE2  = 'flux    '                                                            \n",
       "TFORM2  = 'D       '                                                            \n",
       "TUNIT2  = 'm s-1   '                                                            \n",
       "TTYPE3  = 'flux_err'                                                            \n",
       "TFORM3  = 'D       '                                                            \n",
       "TUNIT3  = 'm s-1   '                                                            \n",
       "EXTNAME = 'RV_CURVE'           / extension name                                 \n",
       "OBJECT  = 'J00051+457'         / KARMENES target name                           \n",
       "PUNIT   = 'd       '                                                            \n",
       "FUNIT   = 'd-1     '                                                            \n",
       "RVPOINTS=                   52 / Number of points in the RV curve               \n",
       "AVGFLUX =    27.24746459383194 / Average flux of RV curve                       \n",
       "RMSFLUX =    30.36243365852049 / Flux RMS of RV curve                           \n",
       "PSAMPLE =     3.02419999986887 / Inferred cadence in RV curve                   \n",
       "FSAMPLE =   0.3306659612602871 / Inferred sampling frequency in RV curve        \n",
       "FNYQUIST=   0.6613319225205743 / Calculated Nyquist frequency value             "
      ]
     },
     "execution_count": 65,
     "metadata": {},
     "output_type": "execute_result"
    }
   ],
   "source": [
    "read_hdul['RV_CURVE'].header"
   ]
  },
  {
   "cell_type": "code",
   "execution_count": 66,
   "id": "10a01320",
   "metadata": {
    "ExecuteTime": {
     "end_time": "2022-03-11T08:06:20.834308Z",
     "start_time": "2022-03-11T08:06:20.819349Z"
    }
   },
   "outputs": [
    {
     "data": {
      "text/plain": [
       "FITS_rec([([ 2.457400e+06,  2.851500e-01], 22.32833403, 1.40183154),\n",
       "          ([ 2.457421e+06,  2.603700e-01], 23.76375679, 1.48502878),\n",
       "          ([ 2.457589e+06, -3.187200e-01], 31.81362908, 1.45941123),\n",
       "          ([ 2.457606e+06, -3.343700e-01], 27.18107823, 1.39936379),\n",
       "          ([ 2.457610e+06, -3.310900e-01], 30.8604333 , 0.85378908),\n",
       "          ([ 2.457611e+06, -3.253900e-01], 26.51741271, 2.42228045),\n",
       "          ([ 2.457612e+06, -3.776500e-01], 33.79728315, 2.12154443),\n",
       "          ([ 2.457620e+06,  4.387800e-01], 18.22647213, 2.49049263),\n",
       "          ([ 2.457634e+06, -4.127800e-01], 22.47476124, 2.79460771),\n",
       "          ([ 2.457637e+06, -4.277600e-01], 22.63105046, 2.32164747)],\n",
       "         dtype=(numpy.record, [('time', '>f8', (2,)), ('flux', '>f8'), ('flux_err', '>f8')]))"
      ]
     },
     "execution_count": 66,
     "metadata": {},
     "output_type": "execute_result"
    }
   ],
   "source": [
    "read_hdul['RV_CURVE'].data[:10]"
   ]
  },
  {
   "cell_type": "code",
   "execution_count": 67,
   "id": "abcd1830",
   "metadata": {
    "ExecuteTime": {
     "end_time": "2022-03-11T08:06:20.975521Z",
     "start_time": "2022-03-11T08:06:20.835304Z"
    }
   },
   "outputs": [
    {
     "data": {
      "text/html": [
       "<i>QTable length=52</i>\n",
       "<table id=\"table1744093704000\" class=\"table-striped table-bordered table-condensed\">\n",
       "<thead><tr><th>time [2]</th><th>flux</th><th>flux_err</th></tr></thead>\n",
       "<thead><tr><th>d</th><th>m / s</th><th>m / s</th></tr></thead>\n",
       "<thead><tr><th>float64</th><th>float64</th><th>float64</th></tr></thead>\n",
       "<tr><td>2457400.0 .. 0.28514999989420176</td><td>22.3283340297</td><td>1.4018315418</td></tr>\n",
       "<tr><td>2457421.0 .. 0.2603699997998774</td><td>23.7637567866</td><td>1.48502877524</td></tr>\n",
       "<tr><td>2457589.0 .. -0.31871999986469746</td><td>31.8136290804</td><td>1.45941122559</td></tr>\n",
       "<tr><td>2457606.0 .. -0.33436999982222915</td><td>27.1810782306</td><td>1.39936379403</td></tr>\n",
       "<tr><td>2457610.0 .. -0.3310899999924004</td><td>30.8604332996</td><td>0.853789077456</td></tr>\n",
       "<tr><td>2457611.0 .. -0.3253899998962879</td><td>26.5174127112</td><td>2.42228045236</td></tr>\n",
       "<tr><td>2457612.0 .. -0.3776500001549721</td><td>33.7972831499</td><td>2.1215444299</td></tr>\n",
       "<tr><td>2457620.0 .. 0.4387799999676645</td><td>18.2264721274</td><td>2.49049263079</td></tr>\n",
       "<tr><td>2457634.0 .. -0.41277999989688396</td><td>22.4747612442</td><td>2.79460770758</td></tr>\n",
       "<tr><td>...</td><td>...</td><td>...</td></tr>\n",
       "<tr><td>2458002.0 .. -0.4473700001835823</td><td>18.3903554336</td><td>0.813810072198</td></tr>\n",
       "<tr><td>2458003.0 .. -0.4055499997921288</td><td>16.5791415523</td><td>1.06072775992</td></tr>\n",
       "<tr><td>2458006.0 .. -0.47494000010192394</td><td>26.8790436596</td><td>1.11194817338</td></tr>\n",
       "<tr><td>2458008.0 .. -0.4326300001703203</td><td>30.047892479</td><td>1.03289355436</td></tr>\n",
       "<tr><td>2458010.0 .. -0.47820999985560775</td><td>33.4542780955</td><td>0.96776903705</td></tr>\n",
       "<tr><td>2458030.0 .. 0.46155000012367964</td><td>16.715123548</td><td>1.60315306662</td></tr>\n",
       "<tr><td>2458058.0 .. 0.4223000002093613</td><td>28.664588853</td><td>1.19160367038</td></tr>\n",
       "<tr><td>2458059.0 .. 0.43722999980673194</td><td>31.4384627643</td><td>1.02148080861</td></tr>\n",
       "<tr><td>2458060.0 .. 0.38837999990209937</td><td>31.6302150729</td><td>1.09188545229</td></tr>\n",
       "<tr><td>2458094.0 .. -0.49837000016123056</td><td>25.6352744625</td><td>1.08441740932</td></tr>\n",
       "</table>"
      ],
      "text/plain": [
       "<QTable length=52>\n",
       "             time [2]                  flux        flux_err   \n",
       "                d                     m / s         m / s     \n",
       "             float64                 float64       float64    \n",
       "--------------------------------- ------------- --------------\n",
       " 2457400.0 .. 0.28514999989420176 22.3283340297   1.4018315418\n",
       "  2457421.0 .. 0.2603699997998774 23.7637567866  1.48502877524\n",
       "2457589.0 .. -0.31871999986469746 31.8136290804  1.45941122559\n",
       "2457606.0 .. -0.33436999982222915 27.1810782306  1.39936379403\n",
       " 2457610.0 .. -0.3310899999924004 30.8604332996 0.853789077456\n",
       " 2457611.0 .. -0.3253899998962879 26.5174127112  2.42228045236\n",
       " 2457612.0 .. -0.3776500001549721 33.7972831499   2.1215444299\n",
       "  2457620.0 .. 0.4387799999676645 18.2264721274  2.49049263079\n",
       "2457634.0 .. -0.41277999989688396 22.4747612442  2.79460770758\n",
       "                              ...           ...            ...\n",
       " 2458002.0 .. -0.4473700001835823 18.3903554336 0.813810072198\n",
       " 2458003.0 .. -0.4055499997921288 16.5791415523  1.06072775992\n",
       "2458006.0 .. -0.47494000010192394 26.8790436596  1.11194817338\n",
       " 2458008.0 .. -0.4326300001703203  30.047892479  1.03289355436\n",
       "2458010.0 .. -0.47820999985560775 33.4542780955  0.96776903705\n",
       " 2458030.0 .. 0.46155000012367964  16.715123548  1.60315306662\n",
       "  2458058.0 .. 0.4223000002093613  28.664588853  1.19160367038\n",
       " 2458059.0 .. 0.43722999980673194 31.4384627643  1.02148080861\n",
       " 2458060.0 .. 0.38837999990209937 31.6302150729  1.09188545229\n",
       "2458094.0 .. -0.49837000016123056 25.6352744625  1.08441740932"
      ]
     },
     "execution_count": 67,
     "metadata": {},
     "output_type": "execute_result"
    }
   ],
   "source": [
    "read_rv_table = QTable.read(read_hdul['RV_CURVE'])\n",
    "read_rv_table"
   ]
  },
  {
   "cell_type": "markdown",
   "id": "d13a0b9c",
   "metadata": {},
   "source": [
    "#### Retrieve periodogram information"
   ]
  },
  {
   "cell_type": "code",
   "execution_count": 68,
   "id": "c2fda6b5",
   "metadata": {
    "ExecuteTime": {
     "end_time": "2022-03-11T08:06:20.991479Z",
     "start_time": "2022-03-11T08:06:20.981505Z"
    }
   },
   "outputs": [
    {
     "data": {
      "text/plain": [
       "<astropy.io.fits.hdu.table.BinTableHDU at 0x19613ef69d0>"
      ]
     },
     "execution_count": 68,
     "metadata": {},
     "output_type": "execute_result"
    }
   ],
   "source": [
    "read_hdul['GLS_PG']"
   ]
  },
  {
   "cell_type": "code",
   "execution_count": 69,
   "id": "4e82ed65",
   "metadata": {
    "ExecuteTime": {
     "end_time": "2022-03-11T08:06:21.007435Z",
     "start_time": "2022-03-11T08:06:20.992475Z"
    }
   },
   "outputs": [
    {
     "data": {
      "text/plain": [
       "XTENSION= 'BINTABLE'           / binary table extension                         \n",
       "BITPIX  =                    8 / array data type                                \n",
       "NAXIS   =                    2 / number of array dimensions                     \n",
       "NAXIS1  =                   16 / length of dimension 1                          \n",
       "NAXIS2  =               964958 / length of dimension 2                          \n",
       "PCOUNT  =                    0 / number of group parameters                     \n",
       "GCOUNT  =                    1 / number of groups                               \n",
       "TFIELDS =                    2 / number of table fields                         \n",
       "TTYPE1  = 'freq    '                                                            \n",
       "TFORM1  = 'D       '                                                            \n",
       "TUNIT1  = 'd-1     '                                                            \n",
       "TTYPE2  = 'power   '                                                            \n",
       "TFORM2  = 'D       '                                                            \n",
       "TUNIT2  = 'm2 s-2  '                                                            \n",
       "EXTNAME = 'GLS_PG  '           / extension name                                 \n",
       "OBJECT  = 'J00051+457'         / KARMENES target name                           \n",
       "FUNIT   = 'd-1     '           / Unit for frequencies                           \n",
       "PUNIT   = 'd       '           / Unit for periods                               \n",
       "PK_FREQ =    77.73046466545374 / Frequency of the peak in periodogram           \n",
       "PK_POW  =   0.4859020514399091 / Power of the peak in periodogram               \n",
       "PK_SNR  =   0.4859020514399091 / Power of the peak in periodogram               \n",
       "RES_RMS =     3.95085621823134 / RMS of residuals in periodogram                \n",
       "FSAMPLE =   0.3306659612602871 / Inferred sampling frequency in RV curve        \n",
       "FNYQUIST=   0.6613319225205743 / Calculated Nyquist frequency value             \n",
       "FPOINTS =               964958 / Number of points in periodogram                \n",
       "FBEG    =                  4.8 / Start frequency in periodogram                 \n",
       "FEND    =                  144 / End frequency in periodogram                   \n",
       "FRES    = 0.000144255132612126 / Frequency resolution in periodogram            \n",
       "F       =    77.73046466545374 / Peak best estimate: frequency                  \n",
       "E_F     = 0.000216363689448445 / Peak best estimate: frequency error            \n",
       "P       =  0.01286496876487137 / Peak best estimate: period                     \n",
       "E_P     = 3.58097963081349E-08 / Peak best estimate: period error               \n",
       "A       =    5.241495434805278 / Peak best estimate: amplitude                  \n",
       "E_A     =   0.7748266520061922 / Peak best estimate: amplitude error            \n",
       "PH      = -0.06456286989271257 / Peak best estimate: phase                      \n",
       "E_PH    =  0.02352715808684293 / Peak best estimate: phase error                \n",
       "T0      =    2457400.285980599 / Peak best estimate: frequency                  \n",
       "E_T0    = 0.000302676153913425 / Peak best estimate: frequency error            \n",
       "OFF     =    26.43689598497934 / Peak best estimate: offset                     \n",
       "E_OFF   =   0.5478851798776477 / Peak best estimate: offset error               \n",
       "OFAC    =                   10 / Setup: oversampling factor                     \n",
       "HIFAC   =                   10 / Setup: maximum frequency factor                \n",
       "NORM    = 'ZK      '           / Setup: normalization type                      \n",
       "LS      =                    F / Setup: conventional Lomb-Scargle calculation   \n",
       "FAST    =                   10 / Setup: fast evaluation, recursive trigonometric"
      ]
     },
     "execution_count": 69,
     "metadata": {},
     "output_type": "execute_result"
    }
   ],
   "source": [
    "read_hdul['GLS_PG'].header"
   ]
  },
  {
   "cell_type": "code",
   "execution_count": 70,
   "id": "7d039dbe",
   "metadata": {
    "ExecuteTime": {
     "end_time": "2022-03-11T08:06:21.023426Z",
     "start_time": "2022-03-11T08:06:21.008433Z"
    }
   },
   "outputs": [
    {
     "data": {
      "text/plain": [
       "FITS_rec([(4.8       , 0.00577445), (4.80014426, 0.00452406),\n",
       "          (4.80028851, 0.00672556), (4.80043277, 0.01305284),\n",
       "          (4.80057702, 0.0236478 ), (4.80072128, 0.03797472),\n",
       "          (4.80086553, 0.05456709), (4.80100979, 0.07117457),\n",
       "          (4.80115404, 0.08561056), (4.8012983 , 0.09654946)],\n",
       "         dtype=(numpy.record, [('freq', '>f8'), ('power', '>f8')]))"
      ]
     },
     "execution_count": 70,
     "metadata": {},
     "output_type": "execute_result"
    }
   ],
   "source": [
    "read_hdul['GLS_PG'].data[:10]"
   ]
  },
  {
   "cell_type": "code",
   "execution_count": 71,
   "id": "592998e6",
   "metadata": {
    "ExecuteTime": {
     "end_time": "2022-03-11T08:06:21.055308Z",
     "start_time": "2022-03-11T08:06:21.024390Z"
    }
   },
   "outputs": [
    {
     "data": {
      "text/html": [
       "<i>QTable length=964958</i>\n",
       "<table id=\"table1743799218336\" class=\"table-striped table-bordered table-condensed\">\n",
       "<thead><tr><th>freq</th><th>power</th></tr></thead>\n",
       "<thead><tr><th>1 / d</th><th>m2 / s2</th></tr></thead>\n",
       "<thead><tr><th>float64</th><th>float64</th></tr></thead>\n",
       "<tr><td>4.8</td><td>0.005774450897705034</td></tr>\n",
       "<tr><td>4.800144255081761</td><td>0.004524057182412366</td></tr>\n",
       "<tr><td>4.800288510163521</td><td>0.006725559165677542</td></tr>\n",
       "<tr><td>4.800432765245282</td><td>0.013052840142900151</td></tr>\n",
       "<tr><td>4.800577020327043</td><td>0.023647802807107262</td></tr>\n",
       "<tr><td>4.800721275408804</td><td>0.03797471586527501</td></tr>\n",
       "<tr><td>4.800865530490564</td><td>0.054567089552546584</td></tr>\n",
       "<tr><td>4.801009785572325</td><td>0.07117456732038212</td></tr>\n",
       "<tr><td>4.801154040654086</td><td>0.08561055816339229</td></tr>\n",
       "<tr><td>...</td><td>...</td></tr>\n",
       "<tr><td>143.9986526348692</td><td>0.02887092308832602</td></tr>\n",
       "<tr><td>143.99879688995094</td><td>0.031984979666708525</td></tr>\n",
       "<tr><td>143.9989411450327</td><td>0.034233179035531455</td></tr>\n",
       "<tr><td>143.99908540011447</td><td>0.034561049794708726</td></tr>\n",
       "<tr><td>143.99922965519622</td><td>0.033110984858368754</td></tr>\n",
       "<tr><td>143.99937391027797</td><td>0.030845022355265685</td></tr>\n",
       "<tr><td>143.99951816535975</td><td>0.028391139106247097</td></tr>\n",
       "<tr><td>143.9996624204415</td><td>0.025636251413264772</td></tr>\n",
       "<tr><td>143.99980667552325</td><td>0.0223587988178795</td></tr>\n",
       "<tr><td>143.99995093060502</td><td>0.01900756003700223</td></tr>\n",
       "</table>"
      ],
      "text/plain": [
       "<QTable length=964958>\n",
       "       freq               power        \n",
       "      1 / d              m2 / s2       \n",
       "     float64             float64       \n",
       "------------------ --------------------\n",
       "               4.8 0.005774450897705034\n",
       " 4.800144255081761 0.004524057182412366\n",
       " 4.800288510163521 0.006725559165677542\n",
       " 4.800432765245282 0.013052840142900151\n",
       " 4.800577020327043 0.023647802807107262\n",
       " 4.800721275408804  0.03797471586527501\n",
       " 4.800865530490564 0.054567089552546584\n",
       " 4.801009785572325  0.07117456732038212\n",
       " 4.801154040654086  0.08561055816339229\n",
       "               ...                  ...\n",
       " 143.9986526348692  0.02887092308832602\n",
       "143.99879688995094 0.031984979666708525\n",
       " 143.9989411450327 0.034233179035531455\n",
       "143.99908540011447 0.034561049794708726\n",
       "143.99922965519622 0.033110984858368754\n",
       "143.99937391027797 0.030845022355265685\n",
       "143.99951816535975 0.028391139106247097\n",
       " 143.9996624204415 0.025636251413264772\n",
       "143.99980667552325   0.0223587988178795\n",
       "143.99995093060502  0.01900756003700223"
      ]
     },
     "execution_count": 71,
     "metadata": {},
     "output_type": "execute_result"
    }
   ],
   "source": [
    "read_pg_table = QTable.read(read_hdul['GLS_PG'])\n",
    "read_pg_table"
   ]
  },
  {
   "cell_type": "markdown",
   "id": "5cf09e90",
   "metadata": {},
   "source": [
    "**NOTE:** it is important to close the `HDUList` object after use, as well as also delete the read data, so as to eliminate all the pointers to the file (see https://docs.astropy.org/en/stable/io/fits/index.html#working-with-large-files).\n",
    "\n",
    "Reading the file with the option `memmap=False` prevents this problem form happening, even if you don't clear all the possible pointers to the file, but this could be not an option for large files, i.e. those which can not be fully loaded into memory."
   ]
  },
  {
   "cell_type": "code",
   "execution_count": 72,
   "id": "99ed3a5c",
   "metadata": {
    "ExecuteTime": {
     "end_time": "2022-03-11T08:06:21.071293Z",
     "start_time": "2022-03-11T08:06:21.056305Z"
    }
   },
   "outputs": [],
   "source": [
    "read_hdul.close()"
   ]
  },
  {
   "cell_type": "code",
   "execution_count": 73,
   "id": "c0e3ccff",
   "metadata": {
    "ExecuteTime": {
     "end_time": "2022-03-11T08:06:21.087222Z",
     "start_time": "2022-03-11T08:06:21.072262Z"
    }
   },
   "outputs": [],
   "source": [
    "del read_hdul"
   ]
  },
  {
   "cell_type": "markdown",
   "id": "9c14f82f",
   "metadata": {},
   "source": [
    "**OBSERVATIONS AND CONCLUSIONS:**\n",
    "- We have tested the GLS class.\n",
    "- We have stored all the information about an object (RV curve, periodogram, and basic results) in a `fits` file.\n",
    "- Now we should be ready to apply this process to all GTO objects in a batch processing."
   ]
  },
  {
   "cell_type": "code",
   "execution_count": null,
   "id": "b6a548c3",
   "metadata": {},
   "outputs": [],
   "source": []
  }
 ],
 "metadata": {
  "kernelspec": {
   "display_name": "Python 3",
   "language": "python",
   "name": "python3"
  },
  "language_info": {
   "codemirror_mode": {
    "name": "ipython",
    "version": 3
   },
   "file_extension": ".py",
   "mimetype": "text/x-python",
   "name": "python",
   "nbconvert_exporter": "python",
   "pygments_lexer": "ipython3",
   "version": "3.8.8"
  },
  "toc": {
   "base_numbering": 1,
   "nav_menu": {},
   "number_sections": true,
   "sideBar": true,
   "skip_h1_title": true,
   "title_cell": "Table of Contents",
   "title_sidebar": "Contents",
   "toc_cell": false,
   "toc_position": {},
   "toc_section_display": true,
   "toc_window_display": true
  }
 },
 "nbformat": 4,
 "nbformat_minor": 5
}
