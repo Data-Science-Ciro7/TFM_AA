{
 "cells": [
  {
   "cell_type": "markdown",
   "id": "f8ff0a61",
   "metadata": {},
   "source": [
    "# COMPARISON OF STAR LISTS\n",
    "\n",
    "In this notebook we compare the list of CARMENES stars available now (NZP-corrected, 390 stars) with the list of CARMENES stars previously available (363 stars)."
   ]
  },
  {
   "cell_type": "markdown",
   "id": "8b275968",
   "metadata": {},
   "source": [
    "## Modules and configuration"
   ]
  },
  {
   "cell_type": "markdown",
   "id": "feacaff0",
   "metadata": {},
   "source": [
    "### Modules"
   ]
  },
  {
   "cell_type": "code",
   "execution_count": 1,
   "id": "ed26a531",
   "metadata": {
    "ExecuteTime": {
     "end_time": "2022-06-04T12:45:42.202372Z",
     "start_time": "2022-06-04T12:45:41.906073Z"
    }
   },
   "outputs": [],
   "source": [
    "import pandas as pd"
   ]
  },
  {
   "cell_type": "markdown",
   "id": "f66360ee",
   "metadata": {},
   "source": [
    "### Configuration"
   ]
  },
  {
   "cell_type": "code",
   "execution_count": 20,
   "id": "54b2047c",
   "metadata": {
    "ExecuteTime": {
     "end_time": "2022-06-04T12:55:20.805441Z",
     "start_time": "2022-06-04T12:55:20.792287Z"
    }
   },
   "outputs": [],
   "source": [
    "GTO_DB_FILE = \"../data/GTO_objects.csv\"\n",
    "CARM_VIS_DB_FILE = \"../data/CARM_VIS_objects.csv\"\n",
    "\n",
    "NEW_STARS_FILE = \"../data/New_stars_CARM_VIS.txt\""
   ]
  },
  {
   "cell_type": "markdown",
   "id": "afcb789b",
   "metadata": {},
   "source": [
    "## Load both databases"
   ]
  },
  {
   "cell_type": "code",
   "execution_count": 3,
   "id": "71cabfd1",
   "metadata": {
    "ExecuteTime": {
     "end_time": "2022-06-04T12:45:45.303846Z",
     "start_time": "2022-06-04T12:45:45.247365Z"
    }
   },
   "outputs": [
    {
     "data": {
      "text/html": [
       "<div>\n",
       "<style scoped>\n",
       "    .dataframe tbody tr th:only-of-type {\n",
       "        vertical-align: middle;\n",
       "    }\n",
       "\n",
       "    .dataframe tbody tr th {\n",
       "        vertical-align: top;\n",
       "    }\n",
       "\n",
       "    .dataframe thead th {\n",
       "        text-align: right;\n",
       "    }\n",
       "</style>\n",
       "<table border=\"1\" class=\"dataframe\">\n",
       "  <thead>\n",
       "    <tr style=\"text-align: right;\">\n",
       "      <th></th>\n",
       "      <th>Karmn</th>\n",
       "      <th>Name</th>\n",
       "      <th>Comp</th>\n",
       "      <th>GJ</th>\n",
       "      <th>RA_J2016_deg</th>\n",
       "      <th>DE_J2016_deg</th>\n",
       "      <th>RA_J2000</th>\n",
       "      <th>DE_J2000</th>\n",
       "      <th>l_J2016_deg</th>\n",
       "      <th>b_J2016_deg</th>\n",
       "      <th>...</th>\n",
       "      <th>Teff_max_K</th>\n",
       "      <th>logg_min</th>\n",
       "      <th>logg_max</th>\n",
       "      <th>is_GTO</th>\n",
       "      <th>rv_file</th>\n",
       "      <th>lc_file</th>\n",
       "      <th>has_rv</th>\n",
       "      <th>has_lc</th>\n",
       "      <th>InstBand_nominal</th>\n",
       "      <th>InstBand_ranged</th>\n",
       "    </tr>\n",
       "  </thead>\n",
       "  <tbody>\n",
       "    <tr>\n",
       "      <th>0</th>\n",
       "      <td>J23585+076</td>\n",
       "      <td>Wolf 1051</td>\n",
       "      <td>AB</td>\n",
       "      <td>4383</td>\n",
       "      <td>359.636420</td>\n",
       "      <td>7.656947</td>\n",
       "      <td>23:58:32.65</td>\n",
       "      <td>+07:39:30.1</td>\n",
       "      <td>100.839686</td>\n",
       "      <td>-52.931049</td>\n",
       "      <td>...</td>\n",
       "      <td>3516.0</td>\n",
       "      <td>4.89</td>\n",
       "      <td>5.05</td>\n",
       "      <td>True</td>\n",
       "      <td>../data/CARMENES_GTO_RVs/J23585+076.dat</td>\n",
       "      <td>NaN</td>\n",
       "      <td>True</td>\n",
       "      <td>False</td>\n",
       "      <td>He3-burning</td>\n",
       "      <td>He3-burning</td>\n",
       "    </tr>\n",
       "    <tr>\n",
       "      <th>1</th>\n",
       "      <td>J23556-061</td>\n",
       "      <td>GJ 912</td>\n",
       "      <td>AB</td>\n",
       "      <td>912</td>\n",
       "      <td>358.913617</td>\n",
       "      <td>-6.144283</td>\n",
       "      <td>23:55:39.78</td>\n",
       "      <td>-06:08:33.4</td>\n",
       "      <td>88.129933</td>\n",
       "      <td>-65.175491</td>\n",
       "      <td>...</td>\n",
       "      <td>3669.0</td>\n",
       "      <td>4.70</td>\n",
       "      <td>4.98</td>\n",
       "      <td>True</td>\n",
       "      <td>../data/CARMENES_GTO_RVs/J23556-061.dat</td>\n",
       "      <td>NaN</td>\n",
       "      <td>True</td>\n",
       "      <td>False</td>\n",
       "      <td>He3-burning</td>\n",
       "      <td>He3-burning</td>\n",
       "    </tr>\n",
       "    <tr>\n",
       "      <th>2</th>\n",
       "      <td>J23548+385</td>\n",
       "      <td>RX J2354.8+3831</td>\n",
       "      <td>-</td>\n",
       "      <td>NaN</td>\n",
       "      <td>358.713658</td>\n",
       "      <td>38.526340</td>\n",
       "      <td>23:54:51.46</td>\n",
       "      <td>+38:31:36.2</td>\n",
       "      <td>110.941908</td>\n",
       "      <td>-23.024449</td>\n",
       "      <td>...</td>\n",
       "      <td>3279.0</td>\n",
       "      <td>5.03</td>\n",
       "      <td>5.23</td>\n",
       "      <td>True</td>\n",
       "      <td>../data/CARMENES_GTO_RVs/J23548+385.dat</td>\n",
       "      <td>../data/CARMENES_GTO_TESS_lc/lightcurves/J2354...</td>\n",
       "      <td>True</td>\n",
       "      <td>True</td>\n",
       "      <td>none</td>\n",
       "      <td>none</td>\n",
       "    </tr>\n",
       "    <tr>\n",
       "      <th>3</th>\n",
       "      <td>J23505-095</td>\n",
       "      <td>LP 763-012</td>\n",
       "      <td>-</td>\n",
       "      <td>4367</td>\n",
       "      <td>357.634705</td>\n",
       "      <td>-9.560964</td>\n",
       "      <td>23:50:31.64</td>\n",
       "      <td>-09:33:32.7</td>\n",
       "      <td>80.777067</td>\n",
       "      <td>-67.303426</td>\n",
       "      <td>...</td>\n",
       "      <td>3411.0</td>\n",
       "      <td>4.73</td>\n",
       "      <td>4.93</td>\n",
       "      <td>True</td>\n",
       "      <td>../data/CARMENES_GTO_RVs/J23505-095.dat</td>\n",
       "      <td>&lt;ambiguous&gt;</td>\n",
       "      <td>True</td>\n",
       "      <td>True</td>\n",
       "      <td>He3-burning</td>\n",
       "      <td>He3-burning</td>\n",
       "    </tr>\n",
       "    <tr>\n",
       "      <th>4</th>\n",
       "      <td>J23492+024</td>\n",
       "      <td>BR Psc</td>\n",
       "      <td>-</td>\n",
       "      <td>908</td>\n",
       "      <td>357.306604</td>\n",
       "      <td>2.396918</td>\n",
       "      <td>23:49:12.53</td>\n",
       "      <td>+02:24:04.4</td>\n",
       "      <td>93.567467</td>\n",
       "      <td>-56.885396</td>\n",
       "      <td>...</td>\n",
       "      <td>3596.0</td>\n",
       "      <td>4.81</td>\n",
       "      <td>5.07</td>\n",
       "      <td>True</td>\n",
       "      <td>../data/CARMENES_GTO_RVs/J23492+024.dat</td>\n",
       "      <td>NaN</td>\n",
       "      <td>True</td>\n",
       "      <td>False</td>\n",
       "      <td>He3-burning</td>\n",
       "      <td>He3-burning</td>\n",
       "    </tr>\n",
       "  </tbody>\n",
       "</table>\n",
       "<p>5 rows × 186 columns</p>\n",
       "</div>"
      ],
      "text/plain": [
       "        Karmn             Name Comp    GJ  RA_J2016_deg  DE_J2016_deg  \\\n",
       "0  J23585+076        Wolf 1051   AB  4383    359.636420      7.656947   \n",
       "1  J23556-061           GJ 912   AB   912    358.913617     -6.144283   \n",
       "2  J23548+385  RX J2354.8+3831    -   NaN    358.713658     38.526340   \n",
       "3  J23505-095       LP 763-012    -  4367    357.634705     -9.560964   \n",
       "4  J23492+024           BR Psc    -   908    357.306604      2.396918   \n",
       "\n",
       "      RA_J2000     DE_J2000  l_J2016_deg  b_J2016_deg  ... Teff_max_K  \\\n",
       "0  23:58:32.65  +07:39:30.1   100.839686   -52.931049  ...     3516.0   \n",
       "1  23:55:39.78  -06:08:33.4    88.129933   -65.175491  ...     3669.0   \n",
       "2  23:54:51.46  +38:31:36.2   110.941908   -23.024449  ...     3279.0   \n",
       "3  23:50:31.64  -09:33:32.7    80.777067   -67.303426  ...     3411.0   \n",
       "4  23:49:12.53  +02:24:04.4    93.567467   -56.885396  ...     3596.0   \n",
       "\n",
       "  logg_min  logg_max is_GTO                                  rv_file  \\\n",
       "0     4.89      5.05   True  ../data/CARMENES_GTO_RVs/J23585+076.dat   \n",
       "1     4.70      4.98   True  ../data/CARMENES_GTO_RVs/J23556-061.dat   \n",
       "2     5.03      5.23   True  ../data/CARMENES_GTO_RVs/J23548+385.dat   \n",
       "3     4.73      4.93   True  ../data/CARMENES_GTO_RVs/J23505-095.dat   \n",
       "4     4.81      5.07   True  ../data/CARMENES_GTO_RVs/J23492+024.dat   \n",
       "\n",
       "                                             lc_file  has_rv  has_lc  \\\n",
       "0                                                NaN    True   False   \n",
       "1                                                NaN    True   False   \n",
       "2  ../data/CARMENES_GTO_TESS_lc/lightcurves/J2354...    True    True   \n",
       "3                                        <ambiguous>    True    True   \n",
       "4                                                NaN    True   False   \n",
       "\n",
       "   InstBand_nominal  InstBand_ranged  \n",
       "0       He3-burning      He3-burning  \n",
       "1       He3-burning      He3-burning  \n",
       "2              none             none  \n",
       "3       He3-burning      He3-burning  \n",
       "4       He3-burning      He3-burning  \n",
       "\n",
       "[5 rows x 186 columns]"
      ]
     },
     "execution_count": 3,
     "metadata": {},
     "output_type": "execute_result"
    }
   ],
   "source": [
    "gto = pd.read_csv(GTO_DB_FILE, sep=',', decimal='.')\n",
    "gto.head()"
   ]
  },
  {
   "cell_type": "code",
   "execution_count": 4,
   "id": "c3dbc8c3",
   "metadata": {
    "ExecuteTime": {
     "end_time": "2022-06-04T12:45:47.644247Z",
     "start_time": "2022-06-04T12:45:47.639262Z"
    }
   },
   "outputs": [
    {
     "data": {
      "text/plain": [
       "(363, 186)"
      ]
     },
     "execution_count": 4,
     "metadata": {},
     "output_type": "execute_result"
    }
   ],
   "source": [
    "gto.shape"
   ]
  },
  {
   "cell_type": "code",
   "execution_count": 7,
   "id": "bb1f6421",
   "metadata": {
    "ExecuteTime": {
     "end_time": "2022-06-04T12:46:30.908766Z",
     "start_time": "2022-06-04T12:46:30.863860Z"
    }
   },
   "outputs": [
    {
     "data": {
      "text/html": [
       "<div>\n",
       "<style scoped>\n",
       "    .dataframe tbody tr th:only-of-type {\n",
       "        vertical-align: middle;\n",
       "    }\n",
       "\n",
       "    .dataframe tbody tr th {\n",
       "        vertical-align: top;\n",
       "    }\n",
       "\n",
       "    .dataframe thead th {\n",
       "        text-align: right;\n",
       "    }\n",
       "</style>\n",
       "<table border=\"1\" class=\"dataframe\">\n",
       "  <thead>\n",
       "    <tr style=\"text-align: right;\">\n",
       "      <th></th>\n",
       "      <th>Karmn</th>\n",
       "      <th>Name</th>\n",
       "      <th>Comp</th>\n",
       "      <th>GJ</th>\n",
       "      <th>RA_J2016_deg</th>\n",
       "      <th>DE_J2016_deg</th>\n",
       "      <th>RA_J2000</th>\n",
       "      <th>DE_J2000</th>\n",
       "      <th>l_J2016_deg</th>\n",
       "      <th>b_J2016_deg</th>\n",
       "      <th>...</th>\n",
       "      <th>Teff_max_K</th>\n",
       "      <th>logg_min</th>\n",
       "      <th>logg_max</th>\n",
       "      <th>is_GTO</th>\n",
       "      <th>rv_file</th>\n",
       "      <th>lc_file</th>\n",
       "      <th>has_rv</th>\n",
       "      <th>has_lc</th>\n",
       "      <th>InstBand_nominal</th>\n",
       "      <th>InstBand_ranged</th>\n",
       "    </tr>\n",
       "  </thead>\n",
       "  <tbody>\n",
       "    <tr>\n",
       "      <th>0</th>\n",
       "      <td>J23585+076</td>\n",
       "      <td>Wolf 1051</td>\n",
       "      <td>AB</td>\n",
       "      <td>4383</td>\n",
       "      <td>359.636420</td>\n",
       "      <td>7.656947</td>\n",
       "      <td>23:58:32.65</td>\n",
       "      <td>+07:39:30.1</td>\n",
       "      <td>100.839686</td>\n",
       "      <td>-52.931049</td>\n",
       "      <td>...</td>\n",
       "      <td>3516.0</td>\n",
       "      <td>4.89</td>\n",
       "      <td>5.05</td>\n",
       "      <td>True</td>\n",
       "      <td>../data/CARM_VIS_RVs/J23585+076.dat</td>\n",
       "      <td>NaN</td>\n",
       "      <td>True</td>\n",
       "      <td>False</td>\n",
       "      <td>He3-burning</td>\n",
       "      <td>He3-burning</td>\n",
       "    </tr>\n",
       "    <tr>\n",
       "      <th>1</th>\n",
       "      <td>J23556-061</td>\n",
       "      <td>GJ 912</td>\n",
       "      <td>AB</td>\n",
       "      <td>912</td>\n",
       "      <td>358.913617</td>\n",
       "      <td>-6.144283</td>\n",
       "      <td>23:55:39.78</td>\n",
       "      <td>-06:08:33.4</td>\n",
       "      <td>88.129933</td>\n",
       "      <td>-65.175491</td>\n",
       "      <td>...</td>\n",
       "      <td>3669.0</td>\n",
       "      <td>4.70</td>\n",
       "      <td>4.98</td>\n",
       "      <td>True</td>\n",
       "      <td>../data/CARM_VIS_RVs/J23556-061.dat</td>\n",
       "      <td>NaN</td>\n",
       "      <td>True</td>\n",
       "      <td>False</td>\n",
       "      <td>He3-burning</td>\n",
       "      <td>He3-burning</td>\n",
       "    </tr>\n",
       "    <tr>\n",
       "      <th>2</th>\n",
       "      <td>J23548+385</td>\n",
       "      <td>RX J2354.8+3831</td>\n",
       "      <td>-</td>\n",
       "      <td>NaN</td>\n",
       "      <td>358.713658</td>\n",
       "      <td>38.526340</td>\n",
       "      <td>23:54:51.46</td>\n",
       "      <td>+38:31:36.2</td>\n",
       "      <td>110.941908</td>\n",
       "      <td>-23.024449</td>\n",
       "      <td>...</td>\n",
       "      <td>3279.0</td>\n",
       "      <td>5.03</td>\n",
       "      <td>5.23</td>\n",
       "      <td>True</td>\n",
       "      <td>../data/CARM_VIS_RVs/J23548+385.dat</td>\n",
       "      <td>../data/CARMENES_GTO_TESS_lc/lightcurves/J2354...</td>\n",
       "      <td>True</td>\n",
       "      <td>True</td>\n",
       "      <td>none</td>\n",
       "      <td>none</td>\n",
       "    </tr>\n",
       "    <tr>\n",
       "      <th>3</th>\n",
       "      <td>J23505-095</td>\n",
       "      <td>LP 763-012</td>\n",
       "      <td>-</td>\n",
       "      <td>4367</td>\n",
       "      <td>357.634705</td>\n",
       "      <td>-9.560964</td>\n",
       "      <td>23:50:31.64</td>\n",
       "      <td>-09:33:32.7</td>\n",
       "      <td>80.777067</td>\n",
       "      <td>-67.303426</td>\n",
       "      <td>...</td>\n",
       "      <td>3411.0</td>\n",
       "      <td>4.73</td>\n",
       "      <td>4.93</td>\n",
       "      <td>True</td>\n",
       "      <td>../data/CARM_VIS_RVs/J23505-095.dat</td>\n",
       "      <td>&lt;ambiguous&gt;</td>\n",
       "      <td>True</td>\n",
       "      <td>True</td>\n",
       "      <td>He3-burning</td>\n",
       "      <td>He3-burning</td>\n",
       "    </tr>\n",
       "    <tr>\n",
       "      <th>4</th>\n",
       "      <td>J23492+024</td>\n",
       "      <td>BR Psc</td>\n",
       "      <td>-</td>\n",
       "      <td>908</td>\n",
       "      <td>357.306604</td>\n",
       "      <td>2.396918</td>\n",
       "      <td>23:49:12.53</td>\n",
       "      <td>+02:24:04.4</td>\n",
       "      <td>93.567467</td>\n",
       "      <td>-56.885396</td>\n",
       "      <td>...</td>\n",
       "      <td>3596.0</td>\n",
       "      <td>4.81</td>\n",
       "      <td>5.07</td>\n",
       "      <td>True</td>\n",
       "      <td>../data/CARM_VIS_RVs/J23492+024.dat</td>\n",
       "      <td>NaN</td>\n",
       "      <td>True</td>\n",
       "      <td>False</td>\n",
       "      <td>He3-burning</td>\n",
       "      <td>He3-burning</td>\n",
       "    </tr>\n",
       "  </tbody>\n",
       "</table>\n",
       "<p>5 rows × 186 columns</p>\n",
       "</div>"
      ],
      "text/plain": [
       "        Karmn             Name Comp    GJ  RA_J2016_deg  DE_J2016_deg  \\\n",
       "0  J23585+076        Wolf 1051   AB  4383    359.636420      7.656947   \n",
       "1  J23556-061           GJ 912   AB   912    358.913617     -6.144283   \n",
       "2  J23548+385  RX J2354.8+3831    -   NaN    358.713658     38.526340   \n",
       "3  J23505-095       LP 763-012    -  4367    357.634705     -9.560964   \n",
       "4  J23492+024           BR Psc    -   908    357.306604      2.396918   \n",
       "\n",
       "      RA_J2000     DE_J2000  l_J2016_deg  b_J2016_deg  ... Teff_max_K  \\\n",
       "0  23:58:32.65  +07:39:30.1   100.839686   -52.931049  ...     3516.0   \n",
       "1  23:55:39.78  -06:08:33.4    88.129933   -65.175491  ...     3669.0   \n",
       "2  23:54:51.46  +38:31:36.2   110.941908   -23.024449  ...     3279.0   \n",
       "3  23:50:31.64  -09:33:32.7    80.777067   -67.303426  ...     3411.0   \n",
       "4  23:49:12.53  +02:24:04.4    93.567467   -56.885396  ...     3596.0   \n",
       "\n",
       "  logg_min  logg_max is_GTO                              rv_file  \\\n",
       "0     4.89      5.05   True  ../data/CARM_VIS_RVs/J23585+076.dat   \n",
       "1     4.70      4.98   True  ../data/CARM_VIS_RVs/J23556-061.dat   \n",
       "2     5.03      5.23   True  ../data/CARM_VIS_RVs/J23548+385.dat   \n",
       "3     4.73      4.93   True  ../data/CARM_VIS_RVs/J23505-095.dat   \n",
       "4     4.81      5.07   True  ../data/CARM_VIS_RVs/J23492+024.dat   \n",
       "\n",
       "                                             lc_file  has_rv  has_lc  \\\n",
       "0                                                NaN    True   False   \n",
       "1                                                NaN    True   False   \n",
       "2  ../data/CARMENES_GTO_TESS_lc/lightcurves/J2354...    True    True   \n",
       "3                                        <ambiguous>    True    True   \n",
       "4                                                NaN    True   False   \n",
       "\n",
       "   InstBand_nominal  InstBand_ranged  \n",
       "0       He3-burning      He3-burning  \n",
       "1       He3-burning      He3-burning  \n",
       "2              none             none  \n",
       "3       He3-burning      He3-burning  \n",
       "4       He3-burning      He3-burning  \n",
       "\n",
       "[5 rows x 186 columns]"
      ]
     },
     "execution_count": 7,
     "metadata": {},
     "output_type": "execute_result"
    }
   ],
   "source": [
    "carmvis = pd.read_csv(CARM_VIS_DB_FILE, sep=',', decimal='.')\n",
    "carmvis.head()"
   ]
  },
  {
   "cell_type": "code",
   "execution_count": 8,
   "id": "3daaeca8",
   "metadata": {
    "ExecuteTime": {
     "end_time": "2022-06-04T12:46:31.498478Z",
     "start_time": "2022-06-04T12:46:31.487476Z"
    }
   },
   "outputs": [
    {
     "data": {
      "text/plain": [
       "(390, 186)"
      ]
     },
     "execution_count": 8,
     "metadata": {},
     "output_type": "execute_result"
    }
   ],
   "source": [
    "carmvis.shape"
   ]
  },
  {
   "cell_type": "markdown",
   "id": "45ec0103",
   "metadata": {},
   "source": [
    "## Compare the star lists"
   ]
  },
  {
   "cell_type": "code",
   "execution_count": 9,
   "id": "bb5d6911",
   "metadata": {
    "ExecuteTime": {
     "end_time": "2022-06-04T12:50:12.562918Z",
     "start_time": "2022-06-04T12:50:12.543967Z"
    }
   },
   "outputs": [
    {
     "data": {
      "text/plain": [
       "363"
      ]
     },
     "execution_count": 9,
     "metadata": {},
     "output_type": "execute_result"
    }
   ],
   "source": [
    "gto_stars = set(gto['Karmn'])\n",
    "len(gto_stars)"
   ]
  },
  {
   "cell_type": "code",
   "execution_count": 11,
   "id": "19203bcb",
   "metadata": {
    "ExecuteTime": {
     "end_time": "2022-06-04T12:50:46.569292Z",
     "start_time": "2022-06-04T12:50:46.551313Z"
    }
   },
   "outputs": [
    {
     "data": {
      "text/plain": [
       "390"
      ]
     },
     "execution_count": 11,
     "metadata": {},
     "output_type": "execute_result"
    }
   ],
   "source": [
    "cvis_stars = set(carmvis['Karmn'])\n",
    "len(cvis_stars)"
   ]
  },
  {
   "cell_type": "markdown",
   "id": "6bbb2440",
   "metadata": {},
   "source": [
    "### Stars in GTO, not in CARM_VIS"
   ]
  },
  {
   "cell_type": "code",
   "execution_count": 15,
   "id": "4e5b0857",
   "metadata": {
    "ExecuteTime": {
     "end_time": "2022-06-04T12:52:45.979360Z",
     "start_time": "2022-06-04T12:52:45.974373Z"
    }
   },
   "outputs": [
    {
     "data": {
      "text/plain": [
       "set()"
      ]
     },
     "execution_count": 15,
     "metadata": {},
     "output_type": "execute_result"
    }
   ],
   "source": [
    "g_notin_c = gto_stars - cvis_stars\n",
    "g_notin_c"
   ]
  },
  {
   "cell_type": "markdown",
   "id": "560d5d10",
   "metadata": {},
   "source": [
    "### Stars in CARM_VIS, not in GTO"
   ]
  },
  {
   "cell_type": "code",
   "execution_count": 16,
   "id": "e17aad95",
   "metadata": {
    "ExecuteTime": {
     "end_time": "2022-06-04T12:53:00.712341Z",
     "start_time": "2022-06-04T12:53:00.703397Z"
    }
   },
   "outputs": [
    {
     "data": {
      "text/plain": [
       "{'J00162+198E',\n",
       " 'J00162+198W',\n",
       " 'J02489-145E',\n",
       " 'J02489-145W',\n",
       " 'J02565+554W',\n",
       " 'J07319+362N',\n",
       " 'J07590+153',\n",
       " 'J09597+472',\n",
       " 'J10238+438',\n",
       " 'J11110+304E',\n",
       " 'J11110+304W',\n",
       " 'J12123+544S',\n",
       " 'J13283-023W',\n",
       " 'J14257+236E',\n",
       " 'J14257+236W',\n",
       " 'J15100+193',\n",
       " 'J16167+672N',\n",
       " 'J16167+672S',\n",
       " 'J16554-083N',\n",
       " 'J18180+387E',\n",
       " 'J18427+596N',\n",
       " 'J18427+596S',\n",
       " 'J19169+051N',\n",
       " 'J19169+051S',\n",
       " 'J19206+731S',\n",
       " 'J20556-140N',\n",
       " 'J20556-140S'}"
      ]
     },
     "execution_count": 16,
     "metadata": {},
     "output_type": "execute_result"
    }
   ],
   "source": [
    "c_notin_g = cvis_stars - gto_stars\n",
    "c_notin_g"
   ]
  },
  {
   "cell_type": "code",
   "execution_count": 23,
   "id": "9a38a45a",
   "metadata": {
    "ExecuteTime": {
     "end_time": "2022-06-04T12:56:22.507648Z",
     "start_time": "2022-06-04T12:56:22.503659Z"
    }
   },
   "outputs": [
    {
     "name": "stdout",
     "output_type": "stream",
     "text": [
      "['J20556-140N', 'J18427+596N', 'J16554-083N', 'J02489-145E', 'J12123+544S', 'J18427+596S', 'J19169+051N', 'J16167+672N', 'J11110+304W', 'J00162+198W', 'J07590+153', 'J19206+731S', 'J10238+438', 'J07319+362N', 'J02489-145W', 'J00162+198E', 'J18180+387E', 'J09597+472', 'J16167+672S', 'J15100+193', 'J02565+554W', 'J20556-140S', 'J19169+051S', 'J14257+236E', 'J14257+236W', 'J13283-023W', 'J11110+304E']\n"
     ]
    }
   ],
   "source": [
    "print(list(c_notin_g))"
   ]
  },
  {
   "cell_type": "code",
   "execution_count": 21,
   "id": "2b4b80ab",
   "metadata": {
    "ExecuteTime": {
     "end_time": "2022-06-04T12:55:28.409023Z",
     "start_time": "2022-06-04T12:55:28.388078Z"
    }
   },
   "outputs": [
    {
     "data": {
      "text/html": [
       "<div>\n",
       "<style scoped>\n",
       "    .dataframe tbody tr th:only-of-type {\n",
       "        vertical-align: middle;\n",
       "    }\n",
       "\n",
       "    .dataframe tbody tr th {\n",
       "        vertical-align: top;\n",
       "    }\n",
       "\n",
       "    .dataframe thead th {\n",
       "        text-align: right;\n",
       "    }\n",
       "</style>\n",
       "<table border=\"1\" class=\"dataframe\">\n",
       "  <thead>\n",
       "    <tr style=\"text-align: right;\">\n",
       "      <th></th>\n",
       "      <th>New_stars</th>\n",
       "    </tr>\n",
       "  </thead>\n",
       "  <tbody>\n",
       "    <tr>\n",
       "      <th>0</th>\n",
       "      <td>J20556-140N</td>\n",
       "    </tr>\n",
       "    <tr>\n",
       "      <th>1</th>\n",
       "      <td>J18427+596N</td>\n",
       "    </tr>\n",
       "    <tr>\n",
       "      <th>2</th>\n",
       "      <td>J16554-083N</td>\n",
       "    </tr>\n",
       "    <tr>\n",
       "      <th>3</th>\n",
       "      <td>J02489-145E</td>\n",
       "    </tr>\n",
       "    <tr>\n",
       "      <th>4</th>\n",
       "      <td>J12123+544S</td>\n",
       "    </tr>\n",
       "    <tr>\n",
       "      <th>5</th>\n",
       "      <td>J18427+596S</td>\n",
       "    </tr>\n",
       "    <tr>\n",
       "      <th>6</th>\n",
       "      <td>J19169+051N</td>\n",
       "    </tr>\n",
       "    <tr>\n",
       "      <th>7</th>\n",
       "      <td>J16167+672N</td>\n",
       "    </tr>\n",
       "    <tr>\n",
       "      <th>8</th>\n",
       "      <td>J11110+304W</td>\n",
       "    </tr>\n",
       "    <tr>\n",
       "      <th>9</th>\n",
       "      <td>J00162+198W</td>\n",
       "    </tr>\n",
       "    <tr>\n",
       "      <th>10</th>\n",
       "      <td>J07590+153</td>\n",
       "    </tr>\n",
       "    <tr>\n",
       "      <th>11</th>\n",
       "      <td>J19206+731S</td>\n",
       "    </tr>\n",
       "    <tr>\n",
       "      <th>12</th>\n",
       "      <td>J10238+438</td>\n",
       "    </tr>\n",
       "    <tr>\n",
       "      <th>13</th>\n",
       "      <td>J07319+362N</td>\n",
       "    </tr>\n",
       "    <tr>\n",
       "      <th>14</th>\n",
       "      <td>J02489-145W</td>\n",
       "    </tr>\n",
       "    <tr>\n",
       "      <th>15</th>\n",
       "      <td>J00162+198E</td>\n",
       "    </tr>\n",
       "    <tr>\n",
       "      <th>16</th>\n",
       "      <td>J18180+387E</td>\n",
       "    </tr>\n",
       "    <tr>\n",
       "      <th>17</th>\n",
       "      <td>J09597+472</td>\n",
       "    </tr>\n",
       "    <tr>\n",
       "      <th>18</th>\n",
       "      <td>J16167+672S</td>\n",
       "    </tr>\n",
       "    <tr>\n",
       "      <th>19</th>\n",
       "      <td>J15100+193</td>\n",
       "    </tr>\n",
       "    <tr>\n",
       "      <th>20</th>\n",
       "      <td>J02565+554W</td>\n",
       "    </tr>\n",
       "    <tr>\n",
       "      <th>21</th>\n",
       "      <td>J20556-140S</td>\n",
       "    </tr>\n",
       "    <tr>\n",
       "      <th>22</th>\n",
       "      <td>J19169+051S</td>\n",
       "    </tr>\n",
       "    <tr>\n",
       "      <th>23</th>\n",
       "      <td>J14257+236E</td>\n",
       "    </tr>\n",
       "    <tr>\n",
       "      <th>24</th>\n",
       "      <td>J14257+236W</td>\n",
       "    </tr>\n",
       "    <tr>\n",
       "      <th>25</th>\n",
       "      <td>J13283-023W</td>\n",
       "    </tr>\n",
       "    <tr>\n",
       "      <th>26</th>\n",
       "      <td>J11110+304E</td>\n",
       "    </tr>\n",
       "  </tbody>\n",
       "</table>\n",
       "</div>"
      ],
      "text/plain": [
       "      New_stars\n",
       "0   J20556-140N\n",
       "1   J18427+596N\n",
       "2   J16554-083N\n",
       "3   J02489-145E\n",
       "4   J12123+544S\n",
       "5   J18427+596S\n",
       "6   J19169+051N\n",
       "7   J16167+672N\n",
       "8   J11110+304W\n",
       "9   J00162+198W\n",
       "10   J07590+153\n",
       "11  J19206+731S\n",
       "12   J10238+438\n",
       "13  J07319+362N\n",
       "14  J02489-145W\n",
       "15  J00162+198E\n",
       "16  J18180+387E\n",
       "17   J09597+472\n",
       "18  J16167+672S\n",
       "19   J15100+193\n",
       "20  J02565+554W\n",
       "21  J20556-140S\n",
       "22  J19169+051S\n",
       "23  J14257+236E\n",
       "24  J14257+236W\n",
       "25  J13283-023W\n",
       "26  J11110+304E"
      ]
     },
     "execution_count": 21,
     "metadata": {},
     "output_type": "execute_result"
    }
   ],
   "source": [
    "new_stars = pd.DataFrame(c_notin_g, columns=['New_stars'])\n",
    "new_stars"
   ]
  },
  {
   "cell_type": "code",
   "execution_count": 22,
   "id": "8017beed",
   "metadata": {
    "ExecuteTime": {
     "end_time": "2022-06-04T12:56:06.523020Z",
     "start_time": "2022-06-04T12:56:06.503074Z"
    }
   },
   "outputs": [],
   "source": [
    "new_stars.to_csv(NEW_STARS_FILE, sep=',', decimal='.', index=False, header=False)"
   ]
  },
  {
   "cell_type": "code",
   "execution_count": null,
   "id": "0b7b228a",
   "metadata": {},
   "outputs": [],
   "source": []
  }
 ],
 "metadata": {
  "kernelspec": {
   "display_name": "Python 3",
   "language": "python",
   "name": "python3"
  },
  "language_info": {
   "codemirror_mode": {
    "name": "ipython",
    "version": 3
   },
   "file_extension": ".py",
   "mimetype": "text/x-python",
   "name": "python",
   "nbconvert_exporter": "python",
   "pygments_lexer": "ipython3",
   "version": "3.8.8"
  },
  "toc": {
   "base_numbering": 1,
   "nav_menu": {},
   "number_sections": true,
   "sideBar": true,
   "skip_h1_title": true,
   "title_cell": "Table of Contents",
   "title_sidebar": "Contents",
   "toc_cell": false,
   "toc_position": {},
   "toc_section_display": true,
   "toc_window_display": true
  }
 },
 "nbformat": 4,
 "nbformat_minor": 5
}
