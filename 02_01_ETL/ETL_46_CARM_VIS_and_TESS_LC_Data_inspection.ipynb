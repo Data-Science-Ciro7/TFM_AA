{
 "cells": [
  {
   "cell_type": "markdown",
   "id": "b5caaf89",
   "metadata": {},
   "source": [
    "# DATA INSPECTION"
   ]
  },
  {
   "cell_type": "markdown",
   "id": "6972f1f2",
   "metadata": {},
   "source": [
    "Once all periodograms have been calculated for both RV time series and TESS light curves, we make a quick inspection of the resulting input data and results."
   ]
  },
  {
   "cell_type": "markdown",
   "id": "48ee49ec",
   "metadata": {},
   "source": [
    "## Modules and configuration"
   ]
  },
  {
   "cell_type": "markdown",
   "id": "2a9d8662",
   "metadata": {},
   "source": [
    "### Modules"
   ]
  },
  {
   "cell_type": "code",
   "execution_count": 1,
   "id": "ce772529",
   "metadata": {
    "ExecuteTime": {
     "end_time": "2022-08-15T11:53:59.404003Z",
     "start_time": "2022-08-15T11:53:58.479471Z"
    }
   },
   "outputs": [],
   "source": [
    "import numpy as np\n",
    "import pandas as pd\n",
    "\n",
    "from scipy.stats import mode, normaltest, ttest_ind\n",
    "\n",
    "import matplotlib.pyplot as plt\n",
    "import seaborn as sns\n",
    "sns.set_style(\"white\", {'figure.figsize':(15,10)})"
   ]
  },
  {
   "cell_type": "markdown",
   "id": "57f0b7d7",
   "metadata": {},
   "source": [
    "### Configuration"
   ]
  },
  {
   "cell_type": "code",
   "execution_count": 2,
   "id": "4268e282",
   "metadata": {
    "ExecuteTime": {
     "end_time": "2022-08-15T11:53:59.419958Z",
     "start_time": "2022-08-15T11:53:59.404968Z"
    }
   },
   "outputs": [],
   "source": [
    "INPUT_FILE = \"../data/CARM_VIS_objects_with_PG.csv\"\n",
    "\n",
    "IMAGE_FOLDER = \"./img/\"\n",
    "\n",
    "ALPHA = 1e-3 # Significance threshold for statistical tests"
   ]
  },
  {
   "cell_type": "markdown",
   "id": "4b092068",
   "metadata": {
    "ExecuteTime": {
     "end_time": "2022-08-11T18:48:28.190243Z",
     "start_time": "2022-08-11T18:48:28.180761Z"
    }
   },
   "source": [
    "### Functions"
   ]
  },
  {
   "cell_type": "code",
   "execution_count": 3,
   "id": "d77469cd",
   "metadata": {
    "ExecuteTime": {
     "end_time": "2022-08-15T11:53:59.434889Z",
     "start_time": "2022-08-15T11:53:59.421924Z"
    }
   },
   "outputs": [],
   "source": [
    "def draw_hist(d1, d1_label, fig_filename=None):\n",
    "    '''Draws an histogram of the values passed. It also calulates the statistics\n",
    "    and tests the goodness of fit by a Gaussian distribution'''\n",
    "    # Plots and saves the figure\n",
    "    kwargs = dict(hist_kws={'alpha':.4}, kde_kws={'linewidth':2})\n",
    "    plt.figure(figsize=(10,7))\n",
    "    plt.title(d1_label + \" values distribution\", fontsize=16)\n",
    "    plt.grid(axis='x', alpha=0.75)\n",
    "    plt.xlabel(d1_label, fontsize=12)\n",
    "    plt.ylabel('Frequency', fontsize=12)\n",
    "    sns.distplot(d1, label=d1_label, **kwargs)\n",
    "    #sns.histplot(d1, label=d1_label)\n",
    "    #plt.xlim(0,100)\n",
    "    #plt.legend(loc='upper right');\n",
    "    # Save the image:\n",
    "    if fig_filename is None:\n",
    "        pass\n",
    "    else:\n",
    "        plt.savefig(fig_filename, format='png')\n",
    "    # Display basic statistics:\n",
    "    print(pd.Series(d1).describe())\n",
    "    # Perform the normaltest (D'Agostino and Pearson) for Gaussian distribution fit:\n",
    "    k2, p = normaltest(d1)\n",
    "    alpha = ALPHA\n",
    "    print(\"p = {:g}\".format(p))\n",
    "    if p < alpha:  # null hypothesis: x comes from a normal distribution\n",
    "        print(\"***This distribution does NOT come from a Gaussian distribution\" \\\n",
    "              \"(with significance level = %.6f)\" %(1.0 - alpha))\n",
    "    else:\n",
    "        print(\"This distribution MIGHT COME come from Gaussian distribution\" \\\n",
    "              \"(with significance level = %.6f)\" %(1.0 - alpha))"
   ]
  },
  {
   "cell_type": "code",
   "execution_count": 4,
   "id": "c329c6f8",
   "metadata": {
    "ExecuteTime": {
     "end_time": "2022-08-15T11:53:59.449849Z",
     "start_time": "2022-08-15T11:53:59.435887Z"
    }
   },
   "outputs": [],
   "source": [
    "def compare_dist(d1, d2, d1_label, d2_label, varname=None, fig_title=None, fig_filename=None):\n",
    "    '''Plots and saves overlapped histograms.\n",
    "    It also shows the result of a t-Student test.'''\n",
    "    # Plots and saves the figure\n",
    "    kwargs = dict(hist_kws={'alpha':.4}, kde_kws={'linewidth':2})\n",
    "    plt.figure(figsize=(10,7))\n",
    "    if fig_title is None:\n",
    "        plt.title(\"Comparison of distributions\", fontsize=16)\n",
    "    else:\n",
    "        plt.title(fig_title, fontsize=16)\n",
    "    plt.grid(axis='x', alpha=0.75)\n",
    "    if varname is None:\n",
    "        plt.xlabel(\"%s / %s\" %(d1_label, d2_label), fontsize=12)\n",
    "    else:\n",
    "        plt.xlabel(varname, fontsize=12)\n",
    "    plt.ylabel('Frequency', fontsize=12)\n",
    "    sns.distplot(d1, label=d1_label, **kwargs)\n",
    "    sns.distplot(d2, label=d2_label, **kwargs)\n",
    "    #plt.xlim(0,100)\n",
    "    plt.legend(loc='upper right');\n",
    "    # Save the image:\n",
    "    if fig_filename is None:\n",
    "        pass\n",
    "    else:\n",
    "        plt.savefig(fig_filename, format='png')\n",
    "    # Perform the t-Student test (as independent samples):\n",
    "    stat, p = ttest_ind(d1, d2)\n",
    "    print('stat=%.3f, p=%.3f' % (stat, p))\n",
    "    if p > 0.05:\n",
    "        print('Probably the same distribution')\n",
    "    else:\n",
    "        print('***Probably different distributions')"
   ]
  },
  {
   "cell_type": "markdown",
   "id": "7d0118ea",
   "metadata": {},
   "source": [
    "##  Load the CARM_VIS objects"
   ]
  },
  {
   "cell_type": "code",
   "execution_count": 5,
   "id": "495a1038",
   "metadata": {
    "ExecuteTime": {
     "end_time": "2022-08-15T11:53:59.513659Z",
     "start_time": "2022-08-15T11:53:59.450847Z"
    }
   },
   "outputs": [
    {
     "data": {
      "text/html": [
       "<div>\n",
       "<style scoped>\n",
       "    .dataframe tbody tr th:only-of-type {\n",
       "        vertical-align: middle;\n",
       "    }\n",
       "\n",
       "    .dataframe tbody tr th {\n",
       "        vertical-align: top;\n",
       "    }\n",
       "\n",
       "    .dataframe thead th {\n",
       "        text-align: right;\n",
       "    }\n",
       "</style>\n",
       "<table border=\"1\" class=\"dataframe\">\n",
       "  <thead>\n",
       "    <tr style=\"text-align: right;\">\n",
       "      <th></th>\n",
       "      <th>Karmn</th>\n",
       "      <th>Name</th>\n",
       "      <th>Comp</th>\n",
       "      <th>GJ</th>\n",
       "      <th>RA_J2016_deg</th>\n",
       "      <th>DE_J2016_deg</th>\n",
       "      <th>RA_J2000</th>\n",
       "      <th>DE_J2000</th>\n",
       "      <th>l_J2016_deg</th>\n",
       "      <th>b_J2016_deg</th>\n",
       "      <th>...</th>\n",
       "      <th>WF_T0_PG_TESS</th>\n",
       "      <th>WF_e_T0_PG_TESS</th>\n",
       "      <th>WF_offset_PG_TESS</th>\n",
       "      <th>WF_e_offset_PG_TESS</th>\n",
       "      <th>WF_FAP_PG_TESS</th>\n",
       "      <th>WF_valid_PG_TESS</th>\n",
       "      <th>WF_error_PG_TESS</th>\n",
       "      <th>WF_elapsed_time_PG_TESS</th>\n",
       "      <th>WF_plain_file_TESS</th>\n",
       "      <th>WF_fig_file_TESS</th>\n",
       "    </tr>\n",
       "  </thead>\n",
       "  <tbody>\n",
       "    <tr>\n",
       "      <th>0</th>\n",
       "      <td>J23585+076</td>\n",
       "      <td>Wolf 1051</td>\n",
       "      <td>AB</td>\n",
       "      <td>4383</td>\n",
       "      <td>359.636420</td>\n",
       "      <td>7.656947</td>\n",
       "      <td>23:58:32.65</td>\n",
       "      <td>+07:39:30.1</td>\n",
       "      <td>100.839686</td>\n",
       "      <td>-52.931049</td>\n",
       "      <td>...</td>\n",
       "      <td>NaN</td>\n",
       "      <td>NaN</td>\n",
       "      <td>NaN</td>\n",
       "      <td>NaN</td>\n",
       "      <td>NaN</td>\n",
       "      <td>0.0</td>\n",
       "      <td>Not recognized as a supported data product:\\nn...</td>\n",
       "      <td>0.000997</td>\n",
       "      <td>NaN</td>\n",
       "      <td>NaN</td>\n",
       "    </tr>\n",
       "    <tr>\n",
       "      <th>1</th>\n",
       "      <td>J23556-061</td>\n",
       "      <td>GJ 912</td>\n",
       "      <td>AB</td>\n",
       "      <td>912</td>\n",
       "      <td>358.913617</td>\n",
       "      <td>-6.144283</td>\n",
       "      <td>23:55:39.78</td>\n",
       "      <td>-06:08:33.4</td>\n",
       "      <td>88.129933</td>\n",
       "      <td>-65.175491</td>\n",
       "      <td>...</td>\n",
       "      <td>NaN</td>\n",
       "      <td>NaN</td>\n",
       "      <td>NaN</td>\n",
       "      <td>NaN</td>\n",
       "      <td>NaN</td>\n",
       "      <td>0.0</td>\n",
       "      <td>Not recognized as a supported data product:\\nn...</td>\n",
       "      <td>0.000998</td>\n",
       "      <td>NaN</td>\n",
       "      <td>NaN</td>\n",
       "    </tr>\n",
       "    <tr>\n",
       "      <th>2</th>\n",
       "      <td>J23548+385</td>\n",
       "      <td>RX J2354.8+3831</td>\n",
       "      <td>-</td>\n",
       "      <td>NaN</td>\n",
       "      <td>358.713658</td>\n",
       "      <td>38.526340</td>\n",
       "      <td>23:54:51.46</td>\n",
       "      <td>+38:31:36.2</td>\n",
       "      <td>110.941908</td>\n",
       "      <td>-23.024449</td>\n",
       "      <td>...</td>\n",
       "      <td>1764.689208</td>\n",
       "      <td>0.027575</td>\n",
       "      <td>999.999756</td>\n",
       "      <td>2.151008e-06</td>\n",
       "      <td>1.0</td>\n",
       "      <td>1.0</td>\n",
       "      <td>NaN</td>\n",
       "      <td>94.758838</td>\n",
       "      <td>../data/CARM_VIS_TESS_WinFunc_PGs/WF_J23548+38...</td>\n",
       "      <td>../data/CARM_VIS_TESS_WinFunc_PGs/figures/WF_J...</td>\n",
       "    </tr>\n",
       "    <tr>\n",
       "      <th>3</th>\n",
       "      <td>J23505-095</td>\n",
       "      <td>LP 763-012</td>\n",
       "      <td>-</td>\n",
       "      <td>4367</td>\n",
       "      <td>357.634705</td>\n",
       "      <td>-9.560964</td>\n",
       "      <td>23:50:31.64</td>\n",
       "      <td>-09:33:32.7</td>\n",
       "      <td>80.777067</td>\n",
       "      <td>-67.303426</td>\n",
       "      <td>...</td>\n",
       "      <td>1353.926624</td>\n",
       "      <td>0.036481</td>\n",
       "      <td>1000.000122</td>\n",
       "      <td>9.022946e-07</td>\n",
       "      <td>1.0</td>\n",
       "      <td>1.0</td>\n",
       "      <td>NaN</td>\n",
       "      <td>132.607176</td>\n",
       "      <td>../data/CARM_VIS_TESS_WinFunc_PGs/WF_J23505-09...</td>\n",
       "      <td>../data/CARM_VIS_TESS_WinFunc_PGs/figures/WF_J...</td>\n",
       "    </tr>\n",
       "    <tr>\n",
       "      <th>4</th>\n",
       "      <td>J23492+024</td>\n",
       "      <td>BR Psc</td>\n",
       "      <td>-</td>\n",
       "      <td>908</td>\n",
       "      <td>357.306604</td>\n",
       "      <td>2.396918</td>\n",
       "      <td>23:49:12.53</td>\n",
       "      <td>+02:24:04.4</td>\n",
       "      <td>93.567467</td>\n",
       "      <td>-56.885396</td>\n",
       "      <td>...</td>\n",
       "      <td>NaN</td>\n",
       "      <td>NaN</td>\n",
       "      <td>NaN</td>\n",
       "      <td>NaN</td>\n",
       "      <td>NaN</td>\n",
       "      <td>0.0</td>\n",
       "      <td>Not recognized as a supported data product:\\nn...</td>\n",
       "      <td>0.001995</td>\n",
       "      <td>NaN</td>\n",
       "      <td>NaN</td>\n",
       "    </tr>\n",
       "  </tbody>\n",
       "</table>\n",
       "<p>5 rows × 298 columns</p>\n",
       "</div>"
      ],
      "text/plain": [
       "        Karmn             Name Comp    GJ  RA_J2016_deg  DE_J2016_deg  \\\n",
       "0  J23585+076        Wolf 1051   AB  4383    359.636420      7.656947   \n",
       "1  J23556-061           GJ 912   AB   912    358.913617     -6.144283   \n",
       "2  J23548+385  RX J2354.8+3831    -   NaN    358.713658     38.526340   \n",
       "3  J23505-095       LP 763-012    -  4367    357.634705     -9.560964   \n",
       "4  J23492+024           BR Psc    -   908    357.306604      2.396918   \n",
       "\n",
       "      RA_J2000     DE_J2000  l_J2016_deg  b_J2016_deg  ... WF_T0_PG_TESS  \\\n",
       "0  23:58:32.65  +07:39:30.1   100.839686   -52.931049  ...           NaN   \n",
       "1  23:55:39.78  -06:08:33.4    88.129933   -65.175491  ...           NaN   \n",
       "2  23:54:51.46  +38:31:36.2   110.941908   -23.024449  ...   1764.689208   \n",
       "3  23:50:31.64  -09:33:32.7    80.777067   -67.303426  ...   1353.926624   \n",
       "4  23:49:12.53  +02:24:04.4    93.567467   -56.885396  ...           NaN   \n",
       "\n",
       "  WF_e_T0_PG_TESS  WF_offset_PG_TESS WF_e_offset_PG_TESS  WF_FAP_PG_TESS  \\\n",
       "0             NaN                NaN                 NaN             NaN   \n",
       "1             NaN                NaN                 NaN             NaN   \n",
       "2        0.027575         999.999756        2.151008e-06             1.0   \n",
       "3        0.036481        1000.000122        9.022946e-07             1.0   \n",
       "4             NaN                NaN                 NaN             NaN   \n",
       "\n",
       "   WF_valid_PG_TESS                                   WF_error_PG_TESS  \\\n",
       "0               0.0  Not recognized as a supported data product:\\nn...   \n",
       "1               0.0  Not recognized as a supported data product:\\nn...   \n",
       "2               1.0                                                NaN   \n",
       "3               1.0                                                NaN   \n",
       "4               0.0  Not recognized as a supported data product:\\nn...   \n",
       "\n",
       "   WF_elapsed_time_PG_TESS                                 WF_plain_file_TESS  \\\n",
       "0                 0.000997                                                NaN   \n",
       "1                 0.000998                                                NaN   \n",
       "2                94.758838  ../data/CARM_VIS_TESS_WinFunc_PGs/WF_J23548+38...   \n",
       "3               132.607176  ../data/CARM_VIS_TESS_WinFunc_PGs/WF_J23505-09...   \n",
       "4                 0.001995                                                NaN   \n",
       "\n",
       "                                    WF_fig_file_TESS  \n",
       "0                                                NaN  \n",
       "1                                                NaN  \n",
       "2  ../data/CARM_VIS_TESS_WinFunc_PGs/figures/WF_J...  \n",
       "3  ../data/CARM_VIS_TESS_WinFunc_PGs/figures/WF_J...  \n",
       "4                                                NaN  \n",
       "\n",
       "[5 rows x 298 columns]"
      ]
     },
     "execution_count": 5,
     "metadata": {},
     "output_type": "execute_result"
    }
   ],
   "source": [
    "df = pd.read_csv(INPUT_FILE, sep=',', decimal='.')\n",
    "df.head()"
   ]
  },
  {
   "cell_type": "code",
   "execution_count": 6,
   "id": "889820d7",
   "metadata": {
    "ExecuteTime": {
     "end_time": "2022-08-15T11:53:59.529646Z",
     "start_time": "2022-08-15T11:53:59.514659Z"
    }
   },
   "outputs": [
    {
     "name": "stdout",
     "output_type": "stream",
     "text": [
      "['Karmn', 'Name', 'Comp', 'GJ', 'RA_J2016_deg', 'DE_J2016_deg', 'RA_J2000', 'DE_J2000', 'l_J2016_deg', 'b_J2016_deg', 'Ref01', 'SpT', 'SpTnum', 'Ref02', 'Teff_K', 'eTeff_K', 'logg', 'elogg', '[Fe/H]', 'e[Fe/H]', 'Ref03', 'L_Lsol', 'eL_Lsol', 'Ref04', 'R_Rsol', 'eR_Rsol', 'Ref05', 'M_Msol', 'eM_Msol', 'Ref06', 'muRA_masa-1', 'emuRA_masa-1', 'muDE_masa-1', 'emuDE_masa-1', 'Ref07', 'pi_mas', 'epi_mas', 'Ref08', 'd_pc', 'ed_pc', 'Ref09', 'Vr_kms-1', 'eVr_kms-1', 'Ref10', 'ruwe', 'Ref11', 'U_kms-1', 'eU_kms-1', 'V_kms-1', 'eV_kms-1', 'W_kms-1', 'eW_kms-1', 'Ref12', 'sa_m/s/a', 'esa_m/s/a', 'Ref13', 'SKG', 'Ref14', 'SKG_lit', 'Ref14_lit', 'Pop', 'Ref15', 'vsini_flag', 'vsini_kms-1', 'evsini_kms-1', 'Ref16', 'P_d', 'eP_d', 'Ref17', 'pEWHalpha_A', 'epEWHalpha_A', 'Ref18', 'log(LHalpha/Lbol)', 'elog(LHalpha/Lbol)', 'Ref19', '1RXS', 'CRT_s-1', 'eCRT_s-1', 'HR1', 'eHR1', 'HR2', 'eHR2', 'Flux_X_E-13_ergcm-2s-1', 'eFlux_X_E-13_ergcm-2s-1', 'LX/LJ', 'eLX/LJ', 'Ref20', 'Activity', 'Ref21', 'FUV_mag', 'eFUV_mag', 'NUV_mag', 'eNUV_mag', 'Ref22', 'u_mag', 'eu_mag', 'Ref23', 'BT_mag', 'eBT_mag', 'Ref24', 'B_mag', 'eB_mag', 'Ref25', 'BP_mag', 'eBP_mag', 'Ref26', 'g_mag', 'eg_mag', 'Ref27', 'VT_mag', 'eVT_mag', 'Ref28', 'V_mag', 'eV_mag', 'Ref29', 'Ra_mag', 'Ref30', 'r_mag', 'er_mag', 'Ref31', 'GG_mag', 'eGG_mag', 'Ref32', 'i_mag', 'ei_mag', 'Ref33', 'RP_mag', 'eRP_mag', 'Ref34', 'IN_mag', 'Ref35', 'J_mag', 'eJ_mag', 'H_mag', 'eH_mag', 'Ks_mag', 'eKs_mag', 'QFlag_2M', 'Ref36', 'W1_mag', 'eW1_mag', 'W2_mag', 'eW2_mag', 'W3_mag', 'eW3_mag', 'W4_mag', 'eW4_mag', 'QFlag_WISE', 'Ref37', 'Multiplicity', 'WideWDS', 'Widerho_arcsec', 'eWiderho_arcsec', 'Ref38', 'WideCompanionName', 'WideCompanionSpT', 'CloseWDS', 'Closerho_arcsec', 'eCloserho_arcsec', 'Ref39', 'CloseCompanionSpT', 'RV', 'Planet', 'Ref40', 'PlanetNum', 'LoRes_spectrum', 'HiRes_spectrum', 'LoRes_imaging', 'HiRes_imaging', 'Class', 'Survey', 'Notes', 'Gaia_id_1', '2MASS_id', 'TIC_id', 'Teff_min_K', 'Teff_max_K', 'logg_min', 'logg_max', 'is_GTO', 'rv_file', 'lc_file', 'has_rv', 'has_lc', 'InstBand_nominal', 'InstBand_ranged', 'n_RV', 'Ps_RV', 'fs_RV', 'wmean_RV', 'wrms_RV', 'info_PG_RV', 'maxP_PG_RV', 'maxSNR_PG_RV', 'rms_PG_RV', 'f_PG_RV', 'e_f_PG_RV', 'Pd_PG_RV', 'e_Pd_PG_RV', 'Ph_PG_RV', 'e_Ph_PG_RV', 'Pm_PG_RV', 'e_Pm_PG_RV', 'A_PG_RV', 'e_A_PG_RV', 'ph_PG_RV', 'e_ph_PG_RV', 'T0_PG_RV', 'e_T0_PG_RV', 'offset_PG_RV', 'e_offset_PG_RV', 'FAP_PG_RV', 'valid_PG_RV', 'error_PG_RV', 'elapsed_time_PG_RV', 'fits_file_RV', 'fig_file_RV', 'n_TESS', 'Ps_TESS', 'fs_TESS', 'wmean_TESS', 'wrms_TESS', 'info_PG_TESS', 'maxP_PG_TESS', 'maxSNR_PG_TESS', 'rms_PG_TESS', 'f_PG_TESS', 'e_f_PG_TESS', 'Pd_PG_TESS', 'e_Pd_PG_TESS', 'Ph_PG_TESS', 'e_Ph_PG_TESS', 'Pm_PG_TESS', 'e_Pm_PG_TESS', 'A_PG_TESS', 'e_A_PG_TESS', 'ph_PG_TESS', 'e_ph_PG_TESS', 'T0_PG_TESS', 'e_T0_PG_TESS', 'offset_PG_TESS', 'e_offset_PG_TESS', 'FAP_PG_TESS', 'valid_PG_TESS', 'error_PG_TESS', 'elapsed_time_PG_TESS', 'fits_file_TESS', 'fig_file_TESS', 'WF_maxP_PG_RV', 'WF_maxSNR_PG_RV', 'WF_rms_PG_RV', 'WF_f_PG_RV', 'WF_e_f_PG_RV', 'WF_Pd_PG_RV', 'WF_e_Pd_PG_RV', 'WF_Ph_PG_RV', 'WF_e_Ph_PG_RV', 'WF_Pm_PG_RV', 'WF_e_Pm_PG_RV', 'WF_A_PG_RV', 'WF_e_A_PG_RV', 'WF_ph_PG_RV', 'WF_e_ph_PG_RV', 'WF_T0_PG_RV', 'WF_e_T0_PG_RV', 'WF_offset_PG_RV', 'WF_e_offset_PG_RV', 'WF_FAP_PG_RV', 'WF_valid_PG_RV', 'WF_error_PG_RV', 'WF_elapsed_time_PG_RV', 'WF_plain_file_RV', 'WF_fig_file_RV', 'WF_maxP_PG_TESS', 'WF_maxSNR_PG_TESS', 'WF_rms_PG_TESS', 'WF_f_PG_TESS', 'WF_e_f_PG_TESS', 'WF_Pd_PG_TESS', 'WF_e_Pd_PG_TESS', 'WF_Ph_PG_TESS', 'WF_e_Ph_PG_TESS', 'WF_Pm_PG_TESS', 'WF_e_Pm_PG_TESS', 'WF_A_PG_TESS', 'WF_e_A_PG_TESS', 'WF_ph_PG_TESS', 'WF_e_ph_PG_TESS', 'WF_T0_PG_TESS', 'WF_e_T0_PG_TESS', 'WF_offset_PG_TESS', 'WF_e_offset_PG_TESS', 'WF_FAP_PG_TESS', 'WF_valid_PG_TESS', 'WF_error_PG_TESS', 'WF_elapsed_time_PG_TESS', 'WF_plain_file_TESS', 'WF_fig_file_TESS']\n"
     ]
    }
   ],
   "source": [
    "print(list(df.columns))"
   ]
  },
  {
   "cell_type": "markdown",
   "id": "6c8b1d21",
   "metadata": {},
   "source": [
    "## Data statistics"
   ]
  },
  {
   "cell_type": "markdown",
   "id": "d4c011a4",
   "metadata": {},
   "source": [
    "### Overall data statistics for RV curves"
   ]
  },
  {
   "cell_type": "code",
   "execution_count": 7,
   "id": "c3733530",
   "metadata": {
    "ExecuteTime": {
     "end_time": "2022-08-15T11:53:59.544970Z",
     "start_time": "2022-08-15T11:53:59.530618Z"
    }
   },
   "outputs": [],
   "source": [
    "rv_main_vars = df[['Karmn', 'n_RV', 'Ps_RV', 'fs_RV', 'wmean_RV', 'wrms_RV',\n",
    "                   'rms_PG_RV', 'f_PG_RV', 'Pd_PG_RV', 'FAP_PG_RV']] \\\n",
    "    .copy()"
   ]
  },
  {
   "cell_type": "code",
   "execution_count": 8,
   "id": "95e295bc",
   "metadata": {
    "ExecuteTime": {
     "end_time": "2022-08-15T11:53:59.576888Z",
     "start_time": "2022-08-15T11:53:59.546969Z"
    }
   },
   "outputs": [
    {
     "data": {
      "text/html": [
       "<div>\n",
       "<style scoped>\n",
       "    .dataframe tbody tr th:only-of-type {\n",
       "        vertical-align: middle;\n",
       "    }\n",
       "\n",
       "    .dataframe tbody tr th {\n",
       "        vertical-align: top;\n",
       "    }\n",
       "\n",
       "    .dataframe thead th {\n",
       "        text-align: right;\n",
       "    }\n",
       "</style>\n",
       "<table border=\"1\" class=\"dataframe\">\n",
       "  <thead>\n",
       "    <tr style=\"text-align: right;\">\n",
       "      <th></th>\n",
       "      <th>n_RV</th>\n",
       "      <th>Ps_RV</th>\n",
       "      <th>fs_RV</th>\n",
       "      <th>wmean_RV</th>\n",
       "      <th>wrms_RV</th>\n",
       "      <th>rms_PG_RV</th>\n",
       "      <th>f_PG_RV</th>\n",
       "      <th>Pd_PG_RV</th>\n",
       "      <th>FAP_PG_RV</th>\n",
       "    </tr>\n",
       "  </thead>\n",
       "  <tbody>\n",
       "    <tr>\n",
       "      <th>count</th>\n",
       "      <td>387.000000</td>\n",
       "      <td>387.000000</td>\n",
       "      <td>387.000000</td>\n",
       "      <td>3.870000e+02</td>\n",
       "      <td>387.000000</td>\n",
       "      <td>3.870000e+02</td>\n",
       "      <td>387.000000</td>\n",
       "      <td>387.000000</td>\n",
       "      <td>3.870000e+02</td>\n",
       "    </tr>\n",
       "    <tr>\n",
       "      <th>mean</th>\n",
       "      <td>51.979328</td>\n",
       "      <td>15.805441</td>\n",
       "      <td>1.431340</td>\n",
       "      <td>-1.651589e+00</td>\n",
       "      <td>361.871528</td>\n",
       "      <td>7.719652e+01</td>\n",
       "      <td>134.312746</td>\n",
       "      <td>0.054413</td>\n",
       "      <td>1.995298e-01</td>\n",
       "    </tr>\n",
       "    <tr>\n",
       "      <th>std</th>\n",
       "      <td>76.124792</td>\n",
       "      <td>28.078791</td>\n",
       "      <td>17.256361</td>\n",
       "      <td>4.359460e+01</td>\n",
       "      <td>2564.902866</td>\n",
       "      <td>4.336978e+02</td>\n",
       "      <td>90.245640</td>\n",
       "      <td>0.108212</td>\n",
       "      <td>2.786815e-01</td>\n",
       "    </tr>\n",
       "    <tr>\n",
       "      <th>min</th>\n",
       "      <td>4.000000</td>\n",
       "      <td>0.003176</td>\n",
       "      <td>0.003251</td>\n",
       "      <td>-4.853787e+02</td>\n",
       "      <td>0.666710</td>\n",
       "      <td>3.687434e-07</td>\n",
       "      <td>2.523000</td>\n",
       "      <td>0.003474</td>\n",
       "      <td>8.912285e-23</td>\n",
       "    </tr>\n",
       "    <tr>\n",
       "      <th>25%</th>\n",
       "      <td>14.000000</td>\n",
       "      <td>3.294005</td>\n",
       "      <td>0.054617</td>\n",
       "      <td>-1.322098e-01</td>\n",
       "      <td>2.684700</td>\n",
       "      <td>1.213286e+00</td>\n",
       "      <td>52.477050</td>\n",
       "      <td>0.004725</td>\n",
       "      <td>1.080136e-02</td>\n",
       "    </tr>\n",
       "    <tr>\n",
       "      <th>50%</th>\n",
       "      <td>30.000000</td>\n",
       "      <td>8.830573</td>\n",
       "      <td>0.113243</td>\n",
       "      <td>-1.110223e-16</td>\n",
       "      <td>4.015005</td>\n",
       "      <td>2.538584e+00</td>\n",
       "      <td>143.029100</td>\n",
       "      <td>0.006992</td>\n",
       "      <td>6.585773e-02</td>\n",
       "    </tr>\n",
       "    <tr>\n",
       "      <th>75%</th>\n",
       "      <td>60.000000</td>\n",
       "      <td>18.311180</td>\n",
       "      <td>0.304807</td>\n",
       "      <td>2.498002e-16</td>\n",
       "      <td>11.644566</td>\n",
       "      <td>5.282460e+00</td>\n",
       "      <td>211.649700</td>\n",
       "      <td>0.019058</td>\n",
       "      <td>2.628137e-01</td>\n",
       "    </tr>\n",
       "    <tr>\n",
       "      <th>max</th>\n",
       "      <td>768.000000</td>\n",
       "      <td>307.604864</td>\n",
       "      <td>314.907497</td>\n",
       "      <td>5.132076e+02</td>\n",
       "      <td>31233.301918</td>\n",
       "      <td>5.173615e+03</td>\n",
       "      <td>287.875900</td>\n",
       "      <td>0.396354</td>\n",
       "      <td>1.000000e+00</td>\n",
       "    </tr>\n",
       "  </tbody>\n",
       "</table>\n",
       "</div>"
      ],
      "text/plain": [
       "             n_RV       Ps_RV       fs_RV      wmean_RV       wrms_RV  \\\n",
       "count  387.000000  387.000000  387.000000  3.870000e+02    387.000000   \n",
       "mean    51.979328   15.805441    1.431340 -1.651589e+00    361.871528   \n",
       "std     76.124792   28.078791   17.256361  4.359460e+01   2564.902866   \n",
       "min      4.000000    0.003176    0.003251 -4.853787e+02      0.666710   \n",
       "25%     14.000000    3.294005    0.054617 -1.322098e-01      2.684700   \n",
       "50%     30.000000    8.830573    0.113243 -1.110223e-16      4.015005   \n",
       "75%     60.000000   18.311180    0.304807  2.498002e-16     11.644566   \n",
       "max    768.000000  307.604864  314.907497  5.132076e+02  31233.301918   \n",
       "\n",
       "          rms_PG_RV     f_PG_RV    Pd_PG_RV     FAP_PG_RV  \n",
       "count  3.870000e+02  387.000000  387.000000  3.870000e+02  \n",
       "mean   7.719652e+01  134.312746    0.054413  1.995298e-01  \n",
       "std    4.336978e+02   90.245640    0.108212  2.786815e-01  \n",
       "min    3.687434e-07    2.523000    0.003474  8.912285e-23  \n",
       "25%    1.213286e+00   52.477050    0.004725  1.080136e-02  \n",
       "50%    2.538584e+00  143.029100    0.006992  6.585773e-02  \n",
       "75%    5.282460e+00  211.649700    0.019058  2.628137e-01  \n",
       "max    5.173615e+03  287.875900    0.396354  1.000000e+00  "
      ]
     },
     "execution_count": 8,
     "metadata": {},
     "output_type": "execute_result"
    }
   ],
   "source": [
    "rv_main_vars.describe()"
   ]
  },
  {
   "cell_type": "markdown",
   "id": "1c60b8ff",
   "metadata": {},
   "source": [
    "**OBSERVATION:** RV times series values (Minimum - Median - Maximum) for the whole sample:\n",
    "- `n_RV`, number of RV points: (4 - 30 - 768)\n",
    "- `Ps_RV`, sampling period: (0.0032 - 8.83 - 308) days\n",
    "- `rms_PG_RV`, RMS value of the RV time series, with outliers already discarded: (3.69e-07 / 2.54 / 5174) m/s\n",
    "- `Pd_PG_RV`, detected periodogram periods: (0.0035 - 0.0070 - 0.3963) d = (5 min - 10 min - 9.5 h)\n",
    "- `FAP_PG_RV`, False Alarm Probability for calculated peak: (8.91e-23 - 0.066 - 1.00)"
   ]
  },
  {
   "cell_type": "markdown",
   "id": "c83f6ea3",
   "metadata": {},
   "source": [
    "#### Number of points analysis (RV - Overall)"
   ]
  },
  {
   "cell_type": "code",
   "execution_count": 9,
   "id": "9be30823",
   "metadata": {
    "ExecuteTime": {
     "end_time": "2022-08-15T11:53:59.909266Z",
     "start_time": "2022-08-15T11:53:59.577885Z"
    }
   },
   "outputs": [
    {
     "name": "stderr",
     "output_type": "stream",
     "text": [
      "C:\\Users\\ciroe\\anaconda3\\lib\\site-packages\\seaborn\\distributions.py:2557: FutureWarning: `distplot` is a deprecated function and will be removed in a future version. Please adapt your code to use either `displot` (a figure-level function with similar flexibility) or `histplot` (an axes-level function for histograms).\n",
      "  warnings.warn(msg, FutureWarning)\n"
     ]
    },
    {
     "name": "stdout",
     "output_type": "stream",
     "text": [
      "count    387.000000\n",
      "mean      51.979328\n",
      "std       76.124792\n",
      "min        4.000000\n",
      "25%       14.000000\n",
      "50%       30.000000\n",
      "75%       60.000000\n",
      "max      768.000000\n",
      "Name: n_RV, dtype: float64\n",
      "p = nan\n",
      "This distribution MIGHT COME come from Gaussian distribution(with significance level = 0.999000)\n"
     ]
    },
    {
     "data": {
      "image/png": "[encoded data removed]",
      "text/plain": [
       "<Figure size 720x504 with 1 Axes>"
      ]
     },
     "metadata": {},
     "output_type": "display_data"
    }
   ],
   "source": [
    "draw_hist(rv_main_vars['n_RV'], \"Number of points in CARMENES RV time series\\nFull Sample\",\n",
    "          fig_filename=IMAGE_FOLDER + \"ETL_46_01_RV_Number_of_points_distribution.png\")"
   ]
  },
  {
   "cell_type": "code",
   "execution_count": 10,
   "id": "70cee936",
   "metadata": {
    "ExecuteTime": {
     "end_time": "2022-08-15T11:53:59.925272Z",
     "start_time": "2022-08-15T11:53:59.910264Z"
    }
   },
   "outputs": [
    {
     "data": {
      "text/plain": [
       "139.19999999999982"
      ]
     },
     "execution_count": 10,
     "metadata": {},
     "output_type": "execute_result"
    }
   ],
   "source": [
    "np.nanquantile(rv_main_vars['n_RV'], q=0.95)"
   ]
  },
  {
   "cell_type": "markdown",
   "id": "22969b46",
   "metadata": {},
   "source": [
    "**OBSERVATION:**\n",
    "- Most of the RV time series ($95\\%$) have less than $\\approx139$ points."
   ]
  },
  {
   "cell_type": "markdown",
   "id": "b915888a",
   "metadata": {},
   "source": [
    "#### Sampling period analysis (RV - Overall)"
   ]
  },
  {
   "cell_type": "code",
   "execution_count": 11,
   "id": "b0fdcd44",
   "metadata": {
    "ExecuteTime": {
     "end_time": "2022-08-15T11:54:00.243421Z",
     "start_time": "2022-08-15T11:53:59.926269Z"
    }
   },
   "outputs": [
    {
     "name": "stderr",
     "output_type": "stream",
     "text": [
      "C:\\Users\\ciroe\\anaconda3\\lib\\site-packages\\seaborn\\distributions.py:2557: FutureWarning: `distplot` is a deprecated function and will be removed in a future version. Please adapt your code to use either `displot` (a figure-level function with similar flexibility) or `histplot` (an axes-level function for histograms).\n",
      "  warnings.warn(msg, FutureWarning)\n"
     ]
    },
    {
     "name": "stdout",
     "output_type": "stream",
     "text": [
      "count    387.000000\n",
      "mean      15.805441\n",
      "std       28.078791\n",
      "min        0.003176\n",
      "25%        3.294005\n",
      "50%        8.830573\n",
      "75%       18.311180\n",
      "max      307.604864\n",
      "Name: Ps_RV, dtype: float64\n",
      "p = nan\n",
      "This distribution MIGHT COME come from Gaussian distribution(with significance level = 0.999000)\n"
     ]
    },
    {
     "data": {
      "image/png": "[encoded data removed]",
      "text/plain": [
       "<Figure size 720x504 with 1 Axes>"
      ]
     },
     "metadata": {},
     "output_type": "display_data"
    }
   ],
   "source": [
    "draw_hist(rv_main_vars['Ps_RV'], \"Sampling periods in CARMENES RV time series\\nFull sample\",\n",
    "          fig_filename=IMAGE_FOLDER + \"ETL_46_02_RV_Sampling_period_distribution.png\")"
   ]
  },
  {
   "cell_type": "code",
   "execution_count": 12,
   "id": "6f874fea",
   "metadata": {
    "ExecuteTime": {
     "end_time": "2022-08-15T11:54:00.259378Z",
     "start_time": "2022-08-15T11:54:00.244418Z"
    }
   },
   "outputs": [
    {
     "data": {
      "text/plain": [
       "0.9830872804718092"
      ]
     },
     "execution_count": 12,
     "metadata": {},
     "output_type": "execute_result"
    }
   ],
   "source": [
    "np.nanquantile(rv_main_vars['Ps_RV'], q=0.03)"
   ]
  },
  {
   "cell_type": "code",
   "execution_count": 13,
   "id": "99415875",
   "metadata": {
    "ExecuteTime": {
     "end_time": "2022-08-15T11:54:00.275336Z",
     "start_time": "2022-08-15T11:54:00.260375Z"
    }
   },
   "outputs": [
    {
     "data": {
      "text/plain": [
       "1.0073478420823812"
      ]
     },
     "execution_count": 13,
     "metadata": {},
     "output_type": "execute_result"
    }
   ],
   "source": [
    "np.nanquantile(rv_main_vars['Ps_RV'], q=0.04)"
   ]
  },
  {
   "cell_type": "markdown",
   "id": "5f2c9c90",
   "metadata": {},
   "source": [
    "**OBSERVATION:**\n",
    "- Most of the RV time series ($97\\%$) have sampling periods greater than $\\approx1$ day."
   ]
  },
  {
   "cell_type": "markdown",
   "id": "d22534d9",
   "metadata": {},
   "source": [
    "#### RMS analysis (RV - Overall)"
   ]
  },
  {
   "cell_type": "code",
   "execution_count": 14,
   "id": "76dce67f",
   "metadata": {
    "ExecuteTime": {
     "end_time": "2022-08-15T11:54:00.558578Z",
     "start_time": "2022-08-15T11:54:00.276332Z"
    }
   },
   "outputs": [
    {
     "name": "stderr",
     "output_type": "stream",
     "text": [
      "C:\\Users\\ciroe\\anaconda3\\lib\\site-packages\\seaborn\\distributions.py:2557: FutureWarning: `distplot` is a deprecated function and will be removed in a future version. Please adapt your code to use either `displot` (a figure-level function with similar flexibility) or `histplot` (an axes-level function for histograms).\n",
      "  warnings.warn(msg, FutureWarning)\n"
     ]
    },
    {
     "name": "stdout",
     "output_type": "stream",
     "text": [
      "count    3.870000e+02\n",
      "mean     7.719652e+01\n",
      "std      4.336978e+02\n",
      "min      3.687434e-07\n",
      "25%      1.213286e+00\n",
      "50%      2.538584e+00\n",
      "75%      5.282460e+00\n",
      "max      5.173615e+03\n",
      "Name: rms_PG_RV, dtype: float64\n",
      "p = nan\n",
      "This distribution MIGHT COME come from Gaussian distribution(with significance level = 0.999000)\n"
     ]
    },
    {
     "data": {
      "image/png": "[encoded data removed]",
      "text/plain": [
       "<Figure size 720x504 with 1 Axes>"
      ]
     },
     "metadata": {},
     "output_type": "display_data"
    }
   ],
   "source": [
    "draw_hist(rv_main_vars['rms_PG_RV'], \"RMS values in CARMENES RV time series\\nFull sample\",\n",
    "          fig_filename=IMAGE_FOLDER + \"ETL_46_03_RV_RMS_values_distribution.png\")"
   ]
  },
  {
   "cell_type": "code",
   "execution_count": 15,
   "id": "ed3abce4",
   "metadata": {
    "ExecuteTime": {
     "end_time": "2022-08-15T11:54:00.574536Z",
     "start_time": "2022-08-15T11:54:00.559575Z"
    }
   },
   "outputs": [
    {
     "data": {
      "text/plain": [
       "4.769560731811519"
      ]
     },
     "execution_count": 15,
     "metadata": {},
     "output_type": "execute_result"
    }
   ],
   "source": [
    "np.nanquantile(rv_main_vars['rms_PG_RV'], q=0.72)"
   ]
  },
  {
   "cell_type": "code",
   "execution_count": 16,
   "id": "95174c59",
   "metadata": {
    "ExecuteTime": {
     "end_time": "2022-08-15T11:54:00.589497Z",
     "start_time": "2022-08-15T11:54:00.575532Z"
    }
   },
   "outputs": [
    {
     "data": {
      "text/plain": [
       "5.001284517612093"
      ]
     },
     "execution_count": 16,
     "metadata": {},
     "output_type": "execute_result"
    }
   ],
   "source": [
    "np.nanquantile(rv_main_vars['rms_PG_RV'], q=0.73)"
   ]
  },
  {
   "cell_type": "markdown",
   "id": "e22ce2e2",
   "metadata": {},
   "source": [
    "**OBSERVATION:**\n",
    "- $72\\%$ of the time series show RMS values (outliers removed) lower than $5\\;m\\;s^{-1}$."
   ]
  },
  {
   "cell_type": "markdown",
   "id": "429d79a0",
   "metadata": {},
   "source": [
    "### Select objects for periodogram analysis"
   ]
  },
  {
   "cell_type": "code",
   "execution_count": 17,
   "id": "a4b45b76",
   "metadata": {
    "ExecuteTime": {
     "end_time": "2022-08-15T11:54:00.604456Z",
     "start_time": "2022-08-15T11:54:00.590494Z"
    }
   },
   "outputs": [
    {
     "data": {
      "text/plain": [
       "265"
      ]
     },
     "execution_count": 17,
     "metadata": {},
     "output_type": "execute_result"
    }
   ],
   "source": [
    "pg_df = df[(df['valid_PG_TESS'] == 1.0) & (df['valid_PG_RV'] == 1.0)].copy()\n",
    "len(pg_df)"
   ]
  },
  {
   "cell_type": "markdown",
   "id": "7a10498f",
   "metadata": {},
   "source": [
    "### PG subsample statistics for RV curves"
   ]
  },
  {
   "cell_type": "code",
   "execution_count": 18,
   "id": "359736ed",
   "metadata": {
    "ExecuteTime": {
     "end_time": "2022-08-15T11:54:00.620412Z",
     "start_time": "2022-08-15T11:54:00.606451Z"
    }
   },
   "outputs": [],
   "source": [
    "pg_rv_main_vars = pg_df[['Karmn', 'n_RV', 'Ps_RV', 'fs_RV', 'wmean_RV', 'wrms_RV',\n",
    "                         'rms_PG_RV', 'f_PG_RV', 'Pd_PG_RV', 'FAP_PG_RV']] \\\n",
    "    .copy()"
   ]
  },
  {
   "cell_type": "code",
   "execution_count": 19,
   "id": "ba2ecab0",
   "metadata": {
    "ExecuteTime": {
     "end_time": "2022-08-15T11:54:00.650333Z",
     "start_time": "2022-08-15T11:54:00.621410Z"
    }
   },
   "outputs": [
    {
     "data": {
      "text/html": [
       "<div>\n",
       "<style scoped>\n",
       "    .dataframe tbody tr th:only-of-type {\n",
       "        vertical-align: middle;\n",
       "    }\n",
       "\n",
       "    .dataframe tbody tr th {\n",
       "        vertical-align: top;\n",
       "    }\n",
       "\n",
       "    .dataframe thead th {\n",
       "        text-align: right;\n",
       "    }\n",
       "</style>\n",
       "<table border=\"1\" class=\"dataframe\">\n",
       "  <thead>\n",
       "    <tr style=\"text-align: right;\">\n",
       "      <th></th>\n",
       "      <th>n_RV</th>\n",
       "      <th>Ps_RV</th>\n",
       "      <th>fs_RV</th>\n",
       "      <th>wmean_RV</th>\n",
       "      <th>wrms_RV</th>\n",
       "      <th>rms_PG_RV</th>\n",
       "      <th>f_PG_RV</th>\n",
       "      <th>Pd_PG_RV</th>\n",
       "      <th>FAP_PG_RV</th>\n",
       "    </tr>\n",
       "  </thead>\n",
       "  <tbody>\n",
       "    <tr>\n",
       "      <th>count</th>\n",
       "      <td>265.000000</td>\n",
       "      <td>265.000000</td>\n",
       "      <td>265.000000</td>\n",
       "      <td>2.650000e+02</td>\n",
       "      <td>265.000000</td>\n",
       "      <td>2.650000e+02</td>\n",
       "      <td>265.000000</td>\n",
       "      <td>265.000000</td>\n",
       "      <td>2.650000e+02</td>\n",
       "    </tr>\n",
       "    <tr>\n",
       "      <th>mean</th>\n",
       "      <td>50.301887</td>\n",
       "      <td>16.817766</td>\n",
       "      <td>1.463204</td>\n",
       "      <td>-1.782737e-01</td>\n",
       "      <td>363.805366</td>\n",
       "      <td>7.807460e+01</td>\n",
       "      <td>134.774081</td>\n",
       "      <td>0.054837</td>\n",
       "      <td>1.954754e-01</td>\n",
       "    </tr>\n",
       "    <tr>\n",
       "      <th>std</th>\n",
       "      <td>71.579206</td>\n",
       "      <td>32.564589</td>\n",
       "      <td>19.343713</td>\n",
       "      <td>4.364674e+01</td>\n",
       "      <td>2781.680734</td>\n",
       "      <td>4.802483e+02</td>\n",
       "      <td>91.089186</td>\n",
       "      <td>0.109417</td>\n",
       "      <td>2.676930e-01</td>\n",
       "    </tr>\n",
       "    <tr>\n",
       "      <th>min</th>\n",
       "      <td>4.000000</td>\n",
       "      <td>0.003176</td>\n",
       "      <td>0.003251</td>\n",
       "      <td>-4.853787e+02</td>\n",
       "      <td>0.666710</td>\n",
       "      <td>3.687434e-07</td>\n",
       "      <td>2.523000</td>\n",
       "      <td>0.003491</td>\n",
       "      <td>8.912285e-23</td>\n",
       "    </tr>\n",
       "    <tr>\n",
       "      <th>25%</th>\n",
       "      <td>14.000000</td>\n",
       "      <td>3.045991</td>\n",
       "      <td>0.055488</td>\n",
       "      <td>-9.268733e-02</td>\n",
       "      <td>2.627072</td>\n",
       "      <td>1.082274e+00</td>\n",
       "      <td>52.987300</td>\n",
       "      <td>0.004744</td>\n",
       "      <td>9.839303e-03</td>\n",
       "    </tr>\n",
       "    <tr>\n",
       "      <th>50%</th>\n",
       "      <td>30.000000</td>\n",
       "      <td>8.935142</td>\n",
       "      <td>0.111918</td>\n",
       "      <td>-5.551115e-17</td>\n",
       "      <td>4.015005</td>\n",
       "      <td>2.561934e+00</td>\n",
       "      <td>143.772600</td>\n",
       "      <td>0.006955</td>\n",
       "      <td>6.562565e-02</td>\n",
       "    </tr>\n",
       "    <tr>\n",
       "      <th>75%</th>\n",
       "      <td>58.000000</td>\n",
       "      <td>18.022019</td>\n",
       "      <td>0.328300</td>\n",
       "      <td>2.220446e-16</td>\n",
       "      <td>10.918993</td>\n",
       "      <td>5.200497e+00</td>\n",
       "      <td>210.803000</td>\n",
       "      <td>0.018872</td>\n",
       "      <td>2.612674e-01</td>\n",
       "    </tr>\n",
       "    <tr>\n",
       "      <th>max</th>\n",
       "      <td>768.000000</td>\n",
       "      <td>307.604864</td>\n",
       "      <td>314.907497</td>\n",
       "      <td>5.132076e+02</td>\n",
       "      <td>31233.301918</td>\n",
       "      <td>5.173615e+03</td>\n",
       "      <td>286.430500</td>\n",
       "      <td>0.396354</td>\n",
       "      <td>1.000000e+00</td>\n",
       "    </tr>\n",
       "  </tbody>\n",
       "</table>\n",
       "</div>"
      ],
      "text/plain": [
       "             n_RV       Ps_RV       fs_RV      wmean_RV       wrms_RV  \\\n",
       "count  265.000000  265.000000  265.000000  2.650000e+02    265.000000   \n",
       "mean    50.301887   16.817766    1.463204 -1.782737e-01    363.805366   \n",
       "std     71.579206   32.564589   19.343713  4.364674e+01   2781.680734   \n",
       "min      4.000000    0.003176    0.003251 -4.853787e+02      0.666710   \n",
       "25%     14.000000    3.045991    0.055488 -9.268733e-02      2.627072   \n",
       "50%     30.000000    8.935142    0.111918 -5.551115e-17      4.015005   \n",
       "75%     58.000000   18.022019    0.328300  2.220446e-16     10.918993   \n",
       "max    768.000000  307.604864  314.907497  5.132076e+02  31233.301918   \n",
       "\n",
       "          rms_PG_RV     f_PG_RV    Pd_PG_RV     FAP_PG_RV  \n",
       "count  2.650000e+02  265.000000  265.000000  2.650000e+02  \n",
       "mean   7.807460e+01  134.774081    0.054837  1.954754e-01  \n",
       "std    4.802483e+02   91.089186    0.109417  2.676930e-01  \n",
       "min    3.687434e-07    2.523000    0.003491  8.912285e-23  \n",
       "25%    1.082274e+00   52.987300    0.004744  9.839303e-03  \n",
       "50%    2.561934e+00  143.772600    0.006955  6.562565e-02  \n",
       "75%    5.200497e+00  210.803000    0.018872  2.612674e-01  \n",
       "max    5.173615e+03  286.430500    0.396354  1.000000e+00  "
      ]
     },
     "execution_count": 19,
     "metadata": {},
     "output_type": "execute_result"
    }
   ],
   "source": [
    "pg_rv_main_vars.describe()"
   ]
  },
  {
   "cell_type": "markdown",
   "id": "38b3ad85",
   "metadata": {},
   "source": [
    "**OBSERVATION:** RV time series values (Minimum - Median - Maximum) for periodogram analysis subsample (in **bold**, the changes relative to the stats of the overall sample):\n",
    "- `n_RV`, number of RV points: (4 - 30 - 768)\n",
    "- `Ps_RV`, sampling period: (0.0032 - **8.93** - 308) days\n",
    "- `rms_PG_RV`, RMS value of the RV time series, with outliers already discarded: (3.69e-07 / **2.56** / 5174) m/s\n",
    "- `Pd_PG_RV`, detected periodogram periods: (0.0035 - 0.0070 - 0.3963) d = (5 min - 10 min - 9.5 h)\n",
    "- `FAP_PG_RV`, False Alarm Probability for calculated peak: (8.91e-23 - 0.066 - 1.00)"
   ]
  },
  {
   "cell_type": "markdown",
   "id": "c31a4a48",
   "metadata": {},
   "source": [
    "#### Number of points analysis (RV - PG subsample)"
   ]
  },
  {
   "cell_type": "code",
   "execution_count": 20,
   "id": "27a7021b",
   "metadata": {
    "ExecuteTime": {
     "end_time": "2022-08-15T11:54:00.931228Z",
     "start_time": "2022-08-15T11:54:00.651334Z"
    }
   },
   "outputs": [
    {
     "name": "stderr",
     "output_type": "stream",
     "text": [
      "C:\\Users\\ciroe\\anaconda3\\lib\\site-packages\\seaborn\\distributions.py:2557: FutureWarning: `distplot` is a deprecated function and will be removed in a future version. Please adapt your code to use either `displot` (a figure-level function with similar flexibility) or `histplot` (an axes-level function for histograms).\n",
      "  warnings.warn(msg, FutureWarning)\n"
     ]
    },
    {
     "name": "stdout",
     "output_type": "stream",
     "text": [
      "count    265.000000\n",
      "mean      50.301887\n",
      "std       71.579206\n",
      "min        4.000000\n",
      "25%       14.000000\n",
      "50%       30.000000\n",
      "75%       58.000000\n",
      "max      768.000000\n",
      "Name: n_RV, dtype: float64\n",
      "p = 6.71652e-73\n",
      "***This distribution does NOT come from a Gaussian distribution(with significance level = 0.999000)\n"
     ]
    },
    {
     "data": {
      "image/png": "[encoded data removed]",
      "text/plain": [
       "<Figure size 720x504 with 1 Axes>"
      ]
     },
     "metadata": {},
     "output_type": "display_data"
    }
   ],
   "source": [
    "draw_hist(pg_rv_main_vars['n_RV'],\n",
    "          \"Number of points in CARMENES RV time series\\nSubsample for PG analysis\",\n",
    "          fig_filename=IMAGE_FOLDER + \"ETL_46_04_PG_SUBSAMPLE_RV_Number_of_points_distribution.png\")"
   ]
  },
  {
   "cell_type": "code",
   "execution_count": 21,
   "id": "8933746a",
   "metadata": {
    "ExecuteTime": {
     "end_time": "2022-08-15T11:54:00.947189Z",
     "start_time": "2022-08-15T11:54:00.932225Z"
    }
   },
   "outputs": [
    {
     "data": {
      "text/plain": [
       "127.59999999999997"
      ]
     },
     "execution_count": 21,
     "metadata": {},
     "output_type": "execute_result"
    }
   ],
   "source": [
    "np.nanquantile(pg_rv_main_vars['n_RV'], q=0.95)"
   ]
  },
  {
   "cell_type": "markdown",
   "id": "349faff3",
   "metadata": {},
   "source": [
    "**OBSERVATION:**\n",
    "- Most of the RV time series ($95\\%$) have less than $\\approx127$ points."
   ]
  },
  {
   "cell_type": "markdown",
   "id": "c07cbc10",
   "metadata": {},
   "source": [
    "#### Sampling period analysis (RV - PG subsample)"
   ]
  },
  {
   "cell_type": "code",
   "execution_count": 22,
   "id": "0b4821e9",
   "metadata": {
    "ExecuteTime": {
     "end_time": "2022-08-15T11:54:01.263340Z",
     "start_time": "2022-08-15T11:54:00.948183Z"
    }
   },
   "outputs": [
    {
     "name": "stderr",
     "output_type": "stream",
     "text": [
      "C:\\Users\\ciroe\\anaconda3\\lib\\site-packages\\seaborn\\distributions.py:2557: FutureWarning: `distplot` is a deprecated function and will be removed in a future version. Please adapt your code to use either `displot` (a figure-level function with similar flexibility) or `histplot` (an axes-level function for histograms).\n",
      "  warnings.warn(msg, FutureWarning)\n"
     ]
    },
    {
     "name": "stdout",
     "output_type": "stream",
     "text": [
      "count    265.000000\n",
      "mean      16.817766\n",
      "std       32.564589\n",
      "min        0.003176\n",
      "25%        3.045991\n",
      "50%        8.935142\n",
      "75%       18.022019\n",
      "max      307.604864\n",
      "Name: Ps_RV, dtype: float64\n",
      "p = 5.31346e-76\n",
      "***This distribution does NOT come from a Gaussian distribution(with significance level = 0.999000)\n"
     ]
    },
    {
     "data": {
      "image/png": "[encoded data removed]",
      "text/plain": [
       "<Figure size 720x504 with 1 Axes>"
      ]
     },
     "metadata": {},
     "output_type": "display_data"
    }
   ],
   "source": [
    "draw_hist(pg_rv_main_vars['Ps_RV'],\n",
    "          \"Sampling periods in CARMENES RV time series\\nSubsample for PG analysis\",\n",
    "          fig_filename=IMAGE_FOLDER + \"ETL_46_05_PG_SUBSAMPLE_RV_Sampling_period_distribution.png\")"
   ]
  },
  {
   "cell_type": "code",
   "execution_count": 23,
   "id": "3a7e03ef",
   "metadata": {
    "ExecuteTime": {
     "end_time": "2022-08-15T11:54:01.278300Z",
     "start_time": "2022-08-15T11:54:01.266332Z"
    }
   },
   "outputs": [
    {
     "data": {
      "text/plain": [
       "0.9787316022440791"
      ]
     },
     "execution_count": 23,
     "metadata": {},
     "output_type": "execute_result"
    }
   ],
   "source": [
    "np.nanquantile(pg_rv_main_vars['Ps_RV'], q=0.03)"
   ]
  },
  {
   "cell_type": "code",
   "execution_count": 24,
   "id": "11f3fafc",
   "metadata": {
    "ExecuteTime": {
     "end_time": "2022-08-15T11:54:01.293260Z",
     "start_time": "2022-08-15T11:54:01.279298Z"
    }
   },
   "outputs": [
    {
     "data": {
      "text/plain": [
       "1.0052504100371151"
      ]
     },
     "execution_count": 24,
     "metadata": {},
     "output_type": "execute_result"
    }
   ],
   "source": [
    "np.nanquantile(pg_rv_main_vars['Ps_RV'], q=0.04)"
   ]
  },
  {
   "cell_type": "markdown",
   "id": "484e5660",
   "metadata": {},
   "source": [
    "**OBSERVATION:**\n",
    "- Most of the RV time series ($97\\%$) have sampling periods greater than $\\approx1$ day."
   ]
  },
  {
   "cell_type": "markdown",
   "id": "e46ececb",
   "metadata": {},
   "source": [
    "#### RMS analysis (RV - PG subsample)"
   ]
  },
  {
   "cell_type": "code",
   "execution_count": 25,
   "id": "320b1ce1",
   "metadata": {
    "ExecuteTime": {
     "end_time": "2022-08-15T11:54:01.576718Z",
     "start_time": "2022-08-15T11:54:01.294267Z"
    }
   },
   "outputs": [
    {
     "name": "stderr",
     "output_type": "stream",
     "text": [
      "C:\\Users\\ciroe\\anaconda3\\lib\\site-packages\\seaborn\\distributions.py:2557: FutureWarning: `distplot` is a deprecated function and will be removed in a future version. Please adapt your code to use either `displot` (a figure-level function with similar flexibility) or `histplot` (an axes-level function for histograms).\n",
      "  warnings.warn(msg, FutureWarning)\n"
     ]
    },
    {
     "name": "stdout",
     "output_type": "stream",
     "text": [
      "count    2.650000e+02\n",
      "mean     7.807460e+01\n",
      "std      4.802483e+02\n",
      "min      3.687434e-07\n",
      "25%      1.082274e+00\n",
      "50%      2.561934e+00\n",
      "75%      5.200497e+00\n",
      "max      5.173615e+03\n",
      "Name: rms_PG_RV, dtype: float64\n",
      "p = 3.41428e-91\n",
      "***This distribution does NOT come from a Gaussian distribution(with significance level = 0.999000)\n"
     ]
    },
    {
     "data": {
      "image/png": "[encoded data removed]",
      "text/plain": [
       "<Figure size 720x504 with 1 Axes>"
      ]
     },
     "metadata": {},
     "output_type": "display_data"
    }
   ],
   "source": [
    "draw_hist(pg_rv_main_vars['rms_PG_RV'],\n",
    "          \"RMS values in CARMENES RV time series\\nSubsample for PG analysis\",\n",
    "          fig_filename=IMAGE_FOLDER + \"ETL_46_06_PG_SUBSAMPLE_RV_RMS_values_distribution.png\")"
   ]
  },
  {
   "cell_type": "code",
   "execution_count": 26,
   "id": "c5123397",
   "metadata": {
    "ExecuteTime": {
     "end_time": "2022-08-15T11:54:01.591679Z",
     "start_time": "2022-08-15T11:54:01.578725Z"
    }
   },
   "outputs": [
    {
     "data": {
      "text/plain": [
       "4.868921368014436"
      ]
     },
     "execution_count": 26,
     "metadata": {},
     "output_type": "execute_result"
    }
   ],
   "source": [
    "np.nanquantile(pg_rv_main_vars['rms_PG_RV'], q=0.72)"
   ]
  },
  {
   "cell_type": "code",
   "execution_count": 27,
   "id": "714b0730",
   "metadata": {
    "ExecuteTime": {
     "end_time": "2022-08-15T11:54:01.606640Z",
     "start_time": "2022-08-15T11:54:01.592679Z"
    }
   },
   "outputs": [
    {
     "data": {
      "text/plain": [
       "5.044396944919181"
      ]
     },
     "execution_count": 27,
     "metadata": {},
     "output_type": "execute_result"
    }
   ],
   "source": [
    "np.nanquantile(pg_rv_main_vars['rms_PG_RV'], q=0.73)"
   ]
  },
  {
   "cell_type": "markdown",
   "id": "e7fb0196",
   "metadata": {},
   "source": [
    "**OBSERVATION:**\n",
    "- $72\\%$ of the time series show RMS values (outliers removed) lower than $5\\;m\\;s^{-1}$."
   ]
  },
  {
   "cell_type": "markdown",
   "id": "080a3aa3",
   "metadata": {},
   "source": [
    "### PG subsample statistics for TESS curves"
   ]
  },
  {
   "cell_type": "code",
   "execution_count": 28,
   "id": "be9c14ed",
   "metadata": {
    "ExecuteTime": {
     "end_time": "2022-08-15T11:54:01.622676Z",
     "start_time": "2022-08-15T11:54:01.608635Z"
    }
   },
   "outputs": [],
   "source": [
    "pg_tess_main_vars = pg_df[['Karmn', 'n_TESS', 'Ps_TESS', 'fs_TESS', 'wmean_TESS', 'wrms_TESS',\n",
    "                           'rms_PG_TESS', 'f_PG_TESS', 'Pd_PG_TESS', 'FAP_PG_TESS']] \\\n",
    "    .copy()"
   ]
  },
  {
   "cell_type": "code",
   "execution_count": 29,
   "id": "35a50b76",
   "metadata": {
    "ExecuteTime": {
     "end_time": "2022-08-15T11:54:01.654654Z",
     "start_time": "2022-08-15T11:54:01.624671Z"
    }
   },
   "outputs": [
    {
     "data": {
      "text/html": [
       "<div>\n",
       "<style scoped>\n",
       "    .dataframe tbody tr th:only-of-type {\n",
       "        vertical-align: middle;\n",
       "    }\n",
       "\n",
       "    .dataframe tbody tr th {\n",
       "        vertical-align: top;\n",
       "    }\n",
       "\n",
       "    .dataframe thead th {\n",
       "        text-align: right;\n",
       "    }\n",
       "</style>\n",
       "<table border=\"1\" class=\"dataframe\">\n",
       "  <thead>\n",
       "    <tr style=\"text-align: right;\">\n",
       "      <th></th>\n",
       "      <th>n_TESS</th>\n",
       "      <th>Ps_TESS</th>\n",
       "      <th>fs_TESS</th>\n",
       "      <th>wmean_TESS</th>\n",
       "      <th>wrms_TESS</th>\n",
       "      <th>rms_PG_TESS</th>\n",
       "      <th>f_PG_TESS</th>\n",
       "      <th>Pd_PG_TESS</th>\n",
       "      <th>FAP_PG_TESS</th>\n",
       "    </tr>\n",
       "  </thead>\n",
       "  <tbody>\n",
       "    <tr>\n",
       "      <th>count</th>\n",
       "      <td>265.000000</td>\n",
       "      <td>265.000000</td>\n",
       "      <td>265.000000</td>\n",
       "      <td>265.000000</td>\n",
       "      <td>265.000000</td>\n",
       "      <td>265.000000</td>\n",
       "      <td>265.000000</td>\n",
       "      <td>265.000000</td>\n",
       "      <td>2.650000e+02</td>\n",
       "    </tr>\n",
       "    <tr>\n",
       "      <th>mean</th>\n",
       "      <td>14370.943396</td>\n",
       "      <td>0.002940</td>\n",
       "      <td>660.588762</td>\n",
       "      <td>53863.121199</td>\n",
       "      <td>130.661291</td>\n",
       "      <td>128.196854</td>\n",
       "      <td>60.284785</td>\n",
       "      <td>0.183636</td>\n",
       "      <td>1.871869e-01</td>\n",
       "    </tr>\n",
       "    <tr>\n",
       "      <th>std</th>\n",
       "      <td>4453.805052</td>\n",
       "      <td>0.005167</td>\n",
       "      <td>188.930553</td>\n",
       "      <td>99482.882105</td>\n",
       "      <td>581.231128</td>\n",
       "      <td>579.683850</td>\n",
       "      <td>87.550680</td>\n",
       "      <td>0.153104</td>\n",
       "      <td>2.868329e-01</td>\n",
       "    </tr>\n",
       "    <tr>\n",
       "      <th>min</th>\n",
       "      <td>833.000000</td>\n",
       "      <td>0.001389</td>\n",
       "      <td>47.999082</td>\n",
       "      <td>-315455.875000</td>\n",
       "      <td>2.188334</td>\n",
       "      <td>2.057648</td>\n",
       "      <td>2.420000</td>\n",
       "      <td>0.003473</td>\n",
       "      <td>0.000000e+00</td>\n",
       "    </tr>\n",
       "    <tr>\n",
       "      <th>25%</th>\n",
       "      <td>13420.000000</td>\n",
       "      <td>0.001389</td>\n",
       "      <td>719.990407</td>\n",
       "      <td>8400.630859</td>\n",
       "      <td>16.650694</td>\n",
       "      <td>16.500482</td>\n",
       "      <td>3.051000</td>\n",
       "      <td>0.010417</td>\n",
       "      <td>3.369252e-09</td>\n",
       "    </tr>\n",
       "    <tr>\n",
       "      <th>50%</th>\n",
       "      <td>15602.000000</td>\n",
       "      <td>0.001389</td>\n",
       "      <td>719.998141</td>\n",
       "      <td>21288.244141</td>\n",
       "      <td>29.356222</td>\n",
       "      <td>28.108767</td>\n",
       "      <td>4.811000</td>\n",
       "      <td>0.207857</td>\n",
       "      <td>3.302558e-02</td>\n",
       "    </tr>\n",
       "    <tr>\n",
       "      <th>75%</th>\n",
       "      <td>16941.000000</td>\n",
       "      <td>0.001389</td>\n",
       "      <td>720.007062</td>\n",
       "      <td>59913.949219</td>\n",
       "      <td>68.504135</td>\n",
       "      <td>67.758607</td>\n",
       "      <td>96.000000</td>\n",
       "      <td>0.327761</td>\n",
       "      <td>2.577993e-01</td>\n",
       "    </tr>\n",
       "    <tr>\n",
       "      <th>max</th>\n",
       "      <td>18711.000000</td>\n",
       "      <td>0.020834</td>\n",
       "      <td>720.017204</td>\n",
       "      <td>661204.500000</td>\n",
       "      <td>8249.875000</td>\n",
       "      <td>8248.891468</td>\n",
       "      <td>287.916000</td>\n",
       "      <td>0.413223</td>\n",
       "      <td>1.000000e+00</td>\n",
       "    </tr>\n",
       "  </tbody>\n",
       "</table>\n",
       "</div>"
      ],
      "text/plain": [
       "             n_TESS     Ps_TESS     fs_TESS     wmean_TESS    wrms_TESS  \\\n",
       "count    265.000000  265.000000  265.000000     265.000000   265.000000   \n",
       "mean   14370.943396    0.002940  660.588762   53863.121199   130.661291   \n",
       "std     4453.805052    0.005167  188.930553   99482.882105   581.231128   \n",
       "min      833.000000    0.001389   47.999082 -315455.875000     2.188334   \n",
       "25%    13420.000000    0.001389  719.990407    8400.630859    16.650694   \n",
       "50%    15602.000000    0.001389  719.998141   21288.244141    29.356222   \n",
       "75%    16941.000000    0.001389  720.007062   59913.949219    68.504135   \n",
       "max    18711.000000    0.020834  720.017204  661204.500000  8249.875000   \n",
       "\n",
       "       rms_PG_TESS   f_PG_TESS  Pd_PG_TESS   FAP_PG_TESS  \n",
       "count   265.000000  265.000000  265.000000  2.650000e+02  \n",
       "mean    128.196854   60.284785    0.183636  1.871869e-01  \n",
       "std     579.683850   87.550680    0.153104  2.868329e-01  \n",
       "min       2.057648    2.420000    0.003473  0.000000e+00  \n",
       "25%      16.500482    3.051000    0.010417  3.369252e-09  \n",
       "50%      28.108767    4.811000    0.207857  3.302558e-02  \n",
       "75%      67.758607   96.000000    0.327761  2.577993e-01  \n",
       "max    8248.891468  287.916000    0.413223  1.000000e+00  "
      ]
     },
     "execution_count": 29,
     "metadata": {},
     "output_type": "execute_result"
    }
   ],
   "source": [
    "pg_tess_main_vars.describe()"
   ]
  },
  {
   "cell_type": "markdown",
   "id": "edceae31",
   "metadata": {},
   "source": [
    "**OBSERVATION:** TESS light curves values (Minimum - Median - Maximum) for periodogram analysis subsample:\n",
    "- `n_TESS`, number of RV points: (833 - 15602 - 18711)\n",
    "- `Ps_TESS`, sampling period: (0.0014 - 0.0014 - 0.0208) days\n",
    "- `rms_PG_TESS`, RMS value of the TESS light curves, with outliers already discarded: (2.06 / 28.1 / 8249) e/s\n",
    "- `Pd_PG_TESS`, detected periodogram periods: (0.0035 - 0.0070 - 0.3963) d (0.0035 - 0.2079 - 0.4132) d = (5 min - 5.0 h - 9.9 h)\n",
    "- `FAP_PG_TESS`, False Alarm Probability for calculated peak: (0.000 - 0.033 - 1.00)"
   ]
  },
  {
   "cell_type": "markdown",
   "id": "ba58f19e",
   "metadata": {},
   "source": [
    "#### Number of points analysis (TESS - PG subsample)"
   ]
  },
  {
   "cell_type": "code",
   "execution_count": 30,
   "id": "8358e637",
   "metadata": {
    "ExecuteTime": {
     "end_time": "2022-08-15T11:54:01.953976Z",
     "start_time": "2022-08-15T11:54:01.655645Z"
    }
   },
   "outputs": [
    {
     "name": "stderr",
     "output_type": "stream",
     "text": [
      "C:\\Users\\ciroe\\anaconda3\\lib\\site-packages\\seaborn\\distributions.py:2557: FutureWarning: `distplot` is a deprecated function and will be removed in a future version. Please adapt your code to use either `displot` (a figure-level function with similar flexibility) or `histplot` (an axes-level function for histograms).\n",
      "  warnings.warn(msg, FutureWarning)\n"
     ]
    },
    {
     "name": "stdout",
     "output_type": "stream",
     "text": [
      "count      265.000000\n",
      "mean     14370.943396\n",
      "std       4453.805052\n",
      "min        833.000000\n",
      "25%      13420.000000\n",
      "50%      15602.000000\n",
      "75%      16941.000000\n",
      "max      18711.000000\n",
      "Name: n_TESS, dtype: float64\n",
      "p = 5.84446e-27\n",
      "***This distribution does NOT come from a Gaussian distribution(with significance level = 0.999000)\n"
     ]
    },
    {
     "data": {
      "image/png": "[encoded data removed]",
      "text/plain": [
       "<Figure size 720x504 with 1 Axes>"
      ]
     },
     "metadata": {},
     "output_type": "display_data"
    }
   ],
   "source": [
    "draw_hist(pg_tess_main_vars['n_TESS'],\n",
    "          \"Number of points in TESS light curves\\nSubsample for PG analysis\",\n",
    "          fig_filename=IMAGE_FOLDER + \"ETL_46_07_PG_SUBSAMPLE_TESS_Number_of_points_distribution.png\")"
   ]
  },
  {
   "cell_type": "code",
   "execution_count": 31,
   "id": "0f0651bc",
   "metadata": {
    "ExecuteTime": {
     "end_time": "2022-08-15T11:54:01.968939Z",
     "start_time": "2022-08-15T11:54:01.955974Z"
    }
   },
   "outputs": [
    {
     "data": {
      "text/plain": [
       "18424.0"
      ]
     },
     "execution_count": 31,
     "metadata": {},
     "output_type": "execute_result"
    }
   ],
   "source": [
    "np.nanquantile(pg_tess_main_vars['n_TESS'], q=0.95)"
   ]
  },
  {
   "cell_type": "markdown",
   "id": "b1329df6",
   "metadata": {},
   "source": [
    "**OBSERVATION:**\n",
    "- Most of the TESS light curves ($95\\%$) have at least $18424$ points."
   ]
  },
  {
   "cell_type": "markdown",
   "id": "89f859fd",
   "metadata": {},
   "source": [
    "#### Sampling period analysis (TESS - PG subsample)"
   ]
  },
  {
   "cell_type": "code",
   "execution_count": 32,
   "id": "19aad912",
   "metadata": {
    "ExecuteTime": {
     "end_time": "2022-08-15T11:54:02.266773Z",
     "start_time": "2022-08-15T11:54:01.969938Z"
    }
   },
   "outputs": [
    {
     "name": "stderr",
     "output_type": "stream",
     "text": [
      "C:\\Users\\ciroe\\anaconda3\\lib\\site-packages\\seaborn\\distributions.py:2557: FutureWarning: `distplot` is a deprecated function and will be removed in a future version. Please adapt your code to use either `displot` (a figure-level function with similar flexibility) or `histplot` (an axes-level function for histograms).\n",
      "  warnings.warn(msg, FutureWarning)\n"
     ]
    },
    {
     "name": "stdout",
     "output_type": "stream",
     "text": [
      "count    265.000000\n",
      "mean       0.002940\n",
      "std        0.005167\n",
      "min        0.001389\n",
      "25%        0.001389\n",
      "50%        0.001389\n",
      "75%        0.001389\n",
      "max        0.020834\n",
      "Name: Ps_TESS, dtype: float64\n",
      "p = 1.50477e-41\n",
      "***This distribution does NOT come from a Gaussian distribution(with significance level = 0.999000)\n"
     ]
    },
    {
     "data": {
      "image/png": "[encoded data removed]",
      "text/plain": [
       "<Figure size 720x504 with 1 Axes>"
      ]
     },
     "metadata": {},
     "output_type": "display_data"
    }
   ],
   "source": [
    "draw_hist(pg_tess_main_vars['Ps_TESS'],\n",
    "          \"Sampling periods in TESS light curves\\nSubsample for PG analysis\",\n",
    "          fig_filename=IMAGE_FOLDER + \"ETL_46_08_PG_SUBSAMPLE_TESS_Sampling_period_distribution.png\")"
   ]
  },
  {
   "cell_type": "code",
   "execution_count": 33,
   "id": "ba90c5d6",
   "metadata": {
    "ExecuteTime": {
     "end_time": "2022-08-15T11:54:02.281732Z",
     "start_time": "2022-08-15T11:54:02.267771Z"
    }
   },
   "outputs": [
    {
     "data": {
      "text/plain": [
       "0.00138891888327628"
      ]
     },
     "execution_count": 33,
     "metadata": {},
     "output_type": "execute_result"
    }
   ],
   "source": [
    "np.nanquantile(pg_tess_main_vars['Ps_TESS'], q=0.90)"
   ]
  },
  {
   "cell_type": "code",
   "execution_count": 34,
   "id": "6c7a9788",
   "metadata": {
    "ExecuteTime": {
     "end_time": "2022-08-15T11:54:02.297690Z",
     "start_time": "2022-08-15T11:54:02.282730Z"
    }
   },
   "outputs": [
    {
     "data": {
      "text/plain": [
       "0.0027222313587571788"
      ]
     },
     "execution_count": 34,
     "metadata": {},
     "output_type": "execute_result"
    }
   ],
   "source": [
    "np.nanquantile(pg_tess_main_vars['Ps_TESS'], q=0.91)"
   ]
  },
  {
   "cell_type": "code",
   "execution_count": 35,
   "id": "ea946e49",
   "metadata": {
    "ExecuteTime": {
     "end_time": "2022-08-15T11:54:02.313647Z",
     "start_time": "2022-08-15T11:54:02.298687Z"
    }
   },
   "outputs": [
    {
     "data": {
      "text/plain": [
       "0.909433962264151"
      ]
     },
     "execution_count": 35,
     "metadata": {},
     "output_type": "execute_result"
    }
   ],
   "source": [
    "len(pg_tess_main_vars[pg_tess_main_vars['Ps_TESS'] < 0.0014]) / len(pg_tess_main_vars)"
   ]
  },
  {
   "cell_type": "markdown",
   "id": "be72cdf1",
   "metadata": {},
   "source": [
    "**OBSERVATION:**\n",
    "- Most of the TESS time series ($90\\%$) have sampling periods equal to $\\approx0.001389\\;day$ ($\\approx2\\;min$)."
   ]
  },
  {
   "cell_type": "markdown",
   "id": "c6c4bf0c",
   "metadata": {},
   "source": [
    "#### RMS analysis (RV - PG subsample)"
   ]
  },
  {
   "cell_type": "code",
   "execution_count": 36,
   "id": "e52e537f",
   "metadata": {
    "ExecuteTime": {
     "end_time": "2022-08-15T11:54:02.580935Z",
     "start_time": "2022-08-15T11:54:02.314650Z"
    }
   },
   "outputs": [
    {
     "name": "stderr",
     "output_type": "stream",
     "text": [
      "C:\\Users\\ciroe\\anaconda3\\lib\\site-packages\\seaborn\\distributions.py:2557: FutureWarning: `distplot` is a deprecated function and will be removed in a future version. Please adapt your code to use either `displot` (a figure-level function with similar flexibility) or `histplot` (an axes-level function for histograms).\n",
      "  warnings.warn(msg, FutureWarning)\n"
     ]
    },
    {
     "name": "stdout",
     "output_type": "stream",
     "text": [
      "count     265.000000\n",
      "mean      128.196854\n",
      "std       579.683850\n",
      "min         2.057648\n",
      "25%        16.500482\n",
      "50%        28.108767\n",
      "75%        67.758607\n",
      "max      8248.891468\n",
      "Name: rms_PG_TESS, dtype: float64\n",
      "p = 1.97225e-112\n",
      "***This distribution does NOT come from a Gaussian distribution(with significance level = 0.999000)\n"
     ]
    },
    {
     "data": {
      "image/png": "[encoded data removed]",
      "text/plain": [
       "<Figure size 720x504 with 1 Axes>"
      ]
     },
     "metadata": {},
     "output_type": "display_data"
    }
   ],
   "source": [
    "draw_hist(pg_tess_main_vars['rms_PG_TESS'],\n",
    "          \"RMS values in TESS light curves\\nSubsample for PG analysis\",\n",
    "          fig_filename=IMAGE_FOLDER + \"ETL_46_09_PG_SUBSAMPLE_TESS_RMS_values_distribution.png\")"
   ]
  },
  {
   "cell_type": "code",
   "execution_count": 37,
   "id": "099a4e9f",
   "metadata": {
    "ExecuteTime": {
     "end_time": "2022-08-15T11:54:02.596894Z",
     "start_time": "2022-08-15T11:54:02.581929Z"
    }
   },
   "outputs": [
    {
     "data": {
      "text/plain": [
       "69.21360295584196"
      ]
     },
     "execution_count": 37,
     "metadata": {},
     "output_type": "execute_result"
    }
   ],
   "source": [
    "np.nanquantile(pg_tess_main_vars['rms_PG_TESS'], q=0.76)"
   ]
  },
  {
   "cell_type": "code",
   "execution_count": 38,
   "id": "26769378",
   "metadata": {
    "ExecuteTime": {
     "end_time": "2022-08-15T11:54:02.612851Z",
     "start_time": "2022-08-15T11:54:02.598884Z"
    }
   },
   "outputs": [
    {
     "data": {
      "text/plain": [
       "72.4984194994649"
      ]
     },
     "execution_count": 38,
     "metadata": {},
     "output_type": "execute_result"
    }
   ],
   "source": [
    "np.nanquantile(pg_tess_main_vars['rms_PG_TESS'], q=0.77)"
   ]
  },
  {
   "cell_type": "markdown",
   "id": "b8989de9",
   "metadata": {},
   "source": [
    "**OBSERVATION:**\n",
    "- $76\\%$ of the light curves show RMS values (outliers removed) lower than $70\\;e\\;s^{-1}$."
   ]
  },
  {
   "cell_type": "markdown",
   "id": "8715a40f",
   "metadata": {},
   "source": [
    "### Select objects for Machine Learning (ML) analysis"
   ]
  },
  {
   "cell_type": "code",
   "execution_count": 39,
   "id": "a89e81a2",
   "metadata": {
    "ExecuteTime": {
     "end_time": "2022-08-15T11:54:02.628810Z",
     "start_time": "2022-08-15T11:54:02.613845Z"
    },
    "scrolled": true
   },
   "outputs": [
    {
     "data": {
      "text/plain": [
       "282"
      ]
     },
     "execution_count": 39,
     "metadata": {},
     "output_type": "execute_result"
    }
   ],
   "source": [
    "ml_df = df[df['rms_PG_RV'] <= 5.0].copy()\n",
    "len(ml_df)"
   ]
  },
  {
   "cell_type": "markdown",
   "id": "b5b945f4",
   "metadata": {},
   "source": [
    "### ML subsample statistics for RV curves"
   ]
  },
  {
   "cell_type": "code",
   "execution_count": 40,
   "id": "8f7f745e",
   "metadata": {
    "ExecuteTime": {
     "end_time": "2022-08-15T11:54:02.644819Z",
     "start_time": "2022-08-15T11:54:02.629827Z"
    }
   },
   "outputs": [],
   "source": [
    "ml_rv_main_vars = ml_df[['Karmn', 'n_RV', 'Ps_RV', 'fs_RV', 'wmean_RV', 'wrms_RV',\n",
    "                         'rms_PG_RV', 'f_PG_RV', 'Pd_PG_RV', 'FAP_PG_RV']] \\\n",
    "    .copy()"
   ]
  },
  {
   "cell_type": "code",
   "execution_count": 41,
   "id": "aaede9a9",
   "metadata": {
    "ExecuteTime": {
     "end_time": "2022-08-15T11:54:02.675733Z",
     "start_time": "2022-08-15T11:54:02.645813Z"
    }
   },
   "outputs": [
    {
     "data": {
      "text/html": [
       "<div>\n",
       "<style scoped>\n",
       "    .dataframe tbody tr th:only-of-type {\n",
       "        vertical-align: middle;\n",
       "    }\n",
       "\n",
       "    .dataframe tbody tr th {\n",
       "        vertical-align: top;\n",
       "    }\n",
       "\n",
       "    .dataframe thead th {\n",
       "        text-align: right;\n",
       "    }\n",
       "</style>\n",
       "<table border=\"1\" class=\"dataframe\">\n",
       "  <thead>\n",
       "    <tr style=\"text-align: right;\">\n",
       "      <th></th>\n",
       "      <th>n_RV</th>\n",
       "      <th>Ps_RV</th>\n",
       "      <th>fs_RV</th>\n",
       "      <th>wmean_RV</th>\n",
       "      <th>wrms_RV</th>\n",
       "      <th>rms_PG_RV</th>\n",
       "      <th>f_PG_RV</th>\n",
       "      <th>Pd_PG_RV</th>\n",
       "      <th>FAP_PG_RV</th>\n",
       "    </tr>\n",
       "  </thead>\n",
       "  <tbody>\n",
       "    <tr>\n",
       "      <th>count</th>\n",
       "      <td>282.000000</td>\n",
       "      <td>282.000000</td>\n",
       "      <td>282.000000</td>\n",
       "      <td>2.820000e+02</td>\n",
       "      <td>282.000000</td>\n",
       "      <td>2.820000e+02</td>\n",
       "      <td>282.000000</td>\n",
       "      <td>282.000000</td>\n",
       "      <td>2.820000e+02</td>\n",
       "    </tr>\n",
       "    <tr>\n",
       "      <th>mean</th>\n",
       "      <td>55.315603</td>\n",
       "      <td>18.008678</td>\n",
       "      <td>1.355029</td>\n",
       "      <td>-1.222530e-01</td>\n",
       "      <td>6.779567</td>\n",
       "      <td>1.832941e+00</td>\n",
       "      <td>149.239405</td>\n",
       "      <td>0.031549</td>\n",
       "      <td>2.068832e-01</td>\n",
       "    </tr>\n",
       "    <tr>\n",
       "      <th>std</th>\n",
       "      <td>86.399612</td>\n",
       "      <td>32.018035</td>\n",
       "      <td>18.746231</td>\n",
       "      <td>5.487557e-01</td>\n",
       "      <td>25.301545</td>\n",
       "      <td>1.278094e+00</td>\n",
       "      <td>85.793741</td>\n",
       "      <td>0.076353</td>\n",
       "      <td>2.738776e-01</td>\n",
       "    </tr>\n",
       "    <tr>\n",
       "      <th>min</th>\n",
       "      <td>4.000000</td>\n",
       "      <td>0.003176</td>\n",
       "      <td>0.003251</td>\n",
       "      <td>-5.685637e+00</td>\n",
       "      <td>0.666710</td>\n",
       "      <td>3.687434e-07</td>\n",
       "      <td>2.644500</td>\n",
       "      <td>0.003474</td>\n",
       "      <td>8.912285e-23</td>\n",
       "    </tr>\n",
       "    <tr>\n",
       "      <th>25%</th>\n",
       "      <td>14.000000</td>\n",
       "      <td>3.936369</td>\n",
       "      <td>0.047639</td>\n",
       "      <td>-1.190748e-01</td>\n",
       "      <td>2.450216</td>\n",
       "      <td>7.371487e-01</td>\n",
       "      <td>76.169625</td>\n",
       "      <td>0.004432</td>\n",
       "      <td>2.002628e-02</td>\n",
       "    </tr>\n",
       "    <tr>\n",
       "      <th>50%</th>\n",
       "      <td>28.500000</td>\n",
       "      <td>9.949019</td>\n",
       "      <td>0.100512</td>\n",
       "      <td>-1.110223e-16</td>\n",
       "      <td>3.122069</td>\n",
       "      <td>1.675366e+00</td>\n",
       "      <td>158.263300</td>\n",
       "      <td>0.006319</td>\n",
       "      <td>7.218240e-02</td>\n",
       "    </tr>\n",
       "    <tr>\n",
       "      <th>75%</th>\n",
       "      <td>64.000000</td>\n",
       "      <td>20.991051</td>\n",
       "      <td>0.254041</td>\n",
       "      <td>1.387779e-16</td>\n",
       "      <td>4.451724</td>\n",
       "      <td>2.783865e+00</td>\n",
       "      <td>225.657150</td>\n",
       "      <td>0.013129</td>\n",
       "      <td>2.737257e-01</td>\n",
       "    </tr>\n",
       "    <tr>\n",
       "      <th>max</th>\n",
       "      <td>768.000000</td>\n",
       "      <td>307.604864</td>\n",
       "      <td>314.907497</td>\n",
       "      <td>1.539758e+00</td>\n",
       "      <td>376.801447</td>\n",
       "      <td>4.976458e+00</td>\n",
       "      <td>287.875900</td>\n",
       "      <td>0.378143</td>\n",
       "      <td>9.999997e-01</td>\n",
       "    </tr>\n",
       "  </tbody>\n",
       "</table>\n",
       "</div>"
      ],
      "text/plain": [
       "             n_RV       Ps_RV       fs_RV      wmean_RV     wrms_RV  \\\n",
       "count  282.000000  282.000000  282.000000  2.820000e+02  282.000000   \n",
       "mean    55.315603   18.008678    1.355029 -1.222530e-01    6.779567   \n",
       "std     86.399612   32.018035   18.746231  5.487557e-01   25.301545   \n",
       "min      4.000000    0.003176    0.003251 -5.685637e+00    0.666710   \n",
       "25%     14.000000    3.936369    0.047639 -1.190748e-01    2.450216   \n",
       "50%     28.500000    9.949019    0.100512 -1.110223e-16    3.122069   \n",
       "75%     64.000000   20.991051    0.254041  1.387779e-16    4.451724   \n",
       "max    768.000000  307.604864  314.907497  1.539758e+00  376.801447   \n",
       "\n",
       "          rms_PG_RV     f_PG_RV    Pd_PG_RV     FAP_PG_RV  \n",
       "count  2.820000e+02  282.000000  282.000000  2.820000e+02  \n",
       "mean   1.832941e+00  149.239405    0.031549  2.068832e-01  \n",
       "std    1.278094e+00   85.793741    0.076353  2.738776e-01  \n",
       "min    3.687434e-07    2.644500    0.003474  8.912285e-23  \n",
       "25%    7.371487e-01   76.169625    0.004432  2.002628e-02  \n",
       "50%    1.675366e+00  158.263300    0.006319  7.218240e-02  \n",
       "75%    2.783865e+00  225.657150    0.013129  2.737257e-01  \n",
       "max    4.976458e+00  287.875900    0.378143  9.999997e-01  "
      ]
     },
     "execution_count": 41,
     "metadata": {},
     "output_type": "execute_result"
    }
   ],
   "source": [
    "ml_rv_main_vars.describe()"
   ]
  },
  {
   "cell_type": "markdown",
   "id": "77548ef5",
   "metadata": {},
   "source": [
    "**OBSERVATION:** RV time series values (Minimum - Median - Maximum) for ML analysis subsample (in **bold**, the changes relative to the overall sample stats):\n",
    "- `n_RV`, number of RV points: (4 - **29** - 768)\n",
    "- `Ps_RV`, sampling period: (0.0032 - **9.94** - 308) days\n",
    "- `rms_PG_RV`, RMS value of the RV time series, with outliers already discarded: (3.69e-07 / **1.67** / **4.97**) m/s\n",
    "- `Pd_PG_RV`, detected periodogram periods: (0.0035 - **0.0063** - **0.3781**) d = (5 min - **9 min** - **9.1** h)\n",
    "- `FAP_PG_RV`, False Alarm Probability for calculated peak: (8.91e-23 - 0.066 - 1.00)"
   ]
  },
  {
   "cell_type": "markdown",
   "id": "5d9e5951",
   "metadata": {},
   "source": [
    "#### Number of points analysis (RV - ML subsample)"
   ]
  },
  {
   "cell_type": "code",
   "execution_count": 42,
   "id": "8e6c0b1a",
   "metadata": {
    "ExecuteTime": {
     "end_time": "2022-08-15T11:54:02.958976Z",
     "start_time": "2022-08-15T11:54:02.677727Z"
    }
   },
   "outputs": [
    {
     "name": "stderr",
     "output_type": "stream",
     "text": [
      "C:\\Users\\ciroe\\anaconda3\\lib\\site-packages\\seaborn\\distributions.py:2557: FutureWarning: `distplot` is a deprecated function and will be removed in a future version. Please adapt your code to use either `displot` (a figure-level function with similar flexibility) or `histplot` (an axes-level function for histograms).\n",
      "  warnings.warn(msg, FutureWarning)\n"
     ]
    },
    {
     "name": "stdout",
     "output_type": "stream",
     "text": [
      "count    282.000000\n",
      "mean      55.315603\n",
      "std       86.399612\n",
      "min        4.000000\n",
      "25%       14.000000\n",
      "50%       28.500000\n",
      "75%       64.000000\n",
      "max      768.000000\n",
      "Name: n_RV, dtype: float64\n",
      "p = 1.54805e-67\n",
      "***This distribution does NOT come from a Gaussian distribution(with significance level = 0.999000)\n"
     ]
    },
    {
     "data": {
      "image/png": "[encoded data removed]",
      "text/plain": [
       "<Figure size 720x504 with 1 Axes>"
      ]
     },
     "metadata": {},
     "output_type": "display_data"
    }
   ],
   "source": [
    "draw_hist(ml_rv_main_vars['n_RV'],\n",
    "          \"Number of points in CARMENES RV time series\\nSubsample for ML analysis\",\n",
    "          fig_filename=IMAGE_FOLDER + \"ETL_46_10_ML_SUBSAMPLE_RV_Number_of_points_distribution.png\")"
   ]
  },
  {
   "cell_type": "code",
   "execution_count": 43,
   "id": "f9e2b1a8",
   "metadata": {
    "ExecuteTime": {
     "end_time": "2022-08-15T11:54:02.973967Z",
     "start_time": "2022-08-15T11:54:02.960971Z"
    }
   },
   "outputs": [
    {
     "data": {
      "text/plain": [
       "159.0"
      ]
     },
     "execution_count": 43,
     "metadata": {},
     "output_type": "execute_result"
    }
   ],
   "source": [
    "np.nanquantile(ml_rv_main_vars['n_RV'], q=0.95)"
   ]
  },
  {
   "cell_type": "markdown",
   "id": "0573c236",
   "metadata": {},
   "source": [
    "**OBSERVATION:**\n",
    "- Most of the RV time series ($95\\%$) have less than $\\approx159$ points."
   ]
  },
  {
   "cell_type": "markdown",
   "id": "deef4281",
   "metadata": {},
   "source": [
    "#### Sampling period analysis (RV - ML subsample)"
   ]
  },
  {
   "cell_type": "code",
   "execution_count": 44,
   "id": "ab43f2bd",
   "metadata": {
    "ExecuteTime": {
     "end_time": "2022-08-15T11:54:03.270348Z",
     "start_time": "2022-08-15T11:54:02.974965Z"
    }
   },
   "outputs": [
    {
     "name": "stderr",
     "output_type": "stream",
     "text": [
      "C:\\Users\\ciroe\\anaconda3\\lib\\site-packages\\seaborn\\distributions.py:2557: FutureWarning: `distplot` is a deprecated function and will be removed in a future version. Please adapt your code to use either `displot` (a figure-level function with similar flexibility) or `histplot` (an axes-level function for histograms).\n",
      "  warnings.warn(msg, FutureWarning)\n"
     ]
    },
    {
     "name": "stdout",
     "output_type": "stream",
     "text": [
      "count    282.000000\n",
      "mean      18.008678\n",
      "std       32.018035\n",
      "min        0.003176\n",
      "25%        3.936369\n",
      "50%        9.949019\n",
      "75%       20.991051\n",
      "max      307.604864\n",
      "Name: Ps_RV, dtype: float64\n",
      "p = 3.98527e-79\n",
      "***This distribution does NOT come from a Gaussian distribution(with significance level = 0.999000)\n"
     ]
    },
    {
     "data": {
      "image/png": "[encoded data removed]",
      "text/plain": [
       "<Figure size 720x504 with 1 Axes>"
      ]
     },
     "metadata": {},
     "output_type": "display_data"
    }
   ],
   "source": [
    "draw_hist(ml_rv_main_vars['Ps_RV'],\n",
    "          \"Sampling periods in CARMENES RV time series\\nSubsample for ML analysis\",\n",
    "          fig_filename=IMAGE_FOLDER + \"ETL_46_11_ML_SUBSAMPLE_RV_Sampling_period_distribution.png\")"
   ]
  },
  {
   "cell_type": "code",
   "execution_count": 45,
   "id": "2a6213ad",
   "metadata": {
    "ExecuteTime": {
     "end_time": "2022-08-15T11:54:03.285310Z",
     "start_time": "2022-08-15T11:54:03.271350Z"
    }
   },
   "outputs": [
    {
     "data": {
      "text/plain": [
       "0.9787316022440791"
      ]
     },
     "execution_count": 45,
     "metadata": {},
     "output_type": "execute_result"
    }
   ],
   "source": [
    "np.nanquantile(pg_rv_main_vars['Ps_RV'], q=0.03)"
   ]
  },
  {
   "cell_type": "code",
   "execution_count": 46,
   "id": "8ff6f062",
   "metadata": {
    "ExecuteTime": {
     "end_time": "2022-08-15T11:54:03.300270Z",
     "start_time": "2022-08-15T11:54:03.286307Z"
    }
   },
   "outputs": [
    {
     "data": {
      "text/plain": [
       "1.0052504100371151"
      ]
     },
     "execution_count": 46,
     "metadata": {},
     "output_type": "execute_result"
    }
   ],
   "source": [
    "np.nanquantile(pg_rv_main_vars['Ps_RV'], q=0.04)"
   ]
  },
  {
   "cell_type": "markdown",
   "id": "bb4e6bcf",
   "metadata": {},
   "source": [
    "**OBSERVATION:**\n",
    "- Most of the RV time series ($97\\%$) have sampling periods greater than $\\approx1$ day."
   ]
  },
  {
   "cell_type": "markdown",
   "id": "dd1591d3",
   "metadata": {},
   "source": [
    "#### RMS analysis (RV - ML subsample)"
   ]
  },
  {
   "cell_type": "code",
   "execution_count": 47,
   "id": "1bb5a46f",
   "metadata": {
    "ExecuteTime": {
     "end_time": "2022-08-15T11:54:03.552209Z",
     "start_time": "2022-08-15T11:54:03.301274Z"
    }
   },
   "outputs": [
    {
     "name": "stderr",
     "output_type": "stream",
     "text": [
      "C:\\Users\\ciroe\\anaconda3\\lib\\site-packages\\seaborn\\distributions.py:2557: FutureWarning: `distplot` is a deprecated function and will be removed in a future version. Please adapt your code to use either `displot` (a figure-level function with similar flexibility) or `histplot` (an axes-level function for histograms).\n",
      "  warnings.warn(msg, FutureWarning)\n"
     ]
    },
    {
     "name": "stdout",
     "output_type": "stream",
     "text": [
      "count    2.820000e+02\n",
      "mean     1.832941e+00\n",
      "std      1.278094e+00\n",
      "min      3.687434e-07\n",
      "25%      7.371487e-01\n",
      "50%      1.675366e+00\n",
      "75%      2.783865e+00\n",
      "max      4.976458e+00\n",
      "Name: rms_PG_RV, dtype: float64\n",
      "p = 5.07366e-05\n",
      "***This distribution does NOT come from a Gaussian distribution(with significance level = 0.999000)\n"
     ]
    },
    {
     "data": {
      "image/png": "[encoded data removed]",
      "text/plain": [
       "<Figure size 720x504 with 1 Axes>"
      ]
     },
     "metadata": {},
     "output_type": "display_data"
    }
   ],
   "source": [
    "draw_hist(ml_rv_main_vars['rms_PG_RV'],\n",
    "          \"RMS values in CARMENES RV time series\\nSubsample for ML analysis\",\n",
    "          fig_filename=IMAGE_FOLDER + \"ETL_46_12_ML_SUBSAMPLE_RV_RMS_values_distribution.png\")"
   ]
  },
  {
   "cell_type": "code",
   "execution_count": 48,
   "id": "9268c99f",
   "metadata": {
    "ExecuteTime": {
     "end_time": "2022-08-15T11:54:03.568168Z",
     "start_time": "2022-08-15T11:54:03.553251Z"
    }
   },
   "outputs": [
    {
     "data": {
      "text/plain": [
       "2.9830431763638003"
      ]
     },
     "execution_count": 48,
     "metadata": {},
     "output_type": "execute_result"
    }
   ],
   "source": [
    "np.nanquantile(ml_rv_main_vars['rms_PG_RV'], q=0.80)"
   ]
  },
  {
   "cell_type": "code",
   "execution_count": 49,
   "id": "6fc3de0d",
   "metadata": {
    "ExecuteTime": {
     "end_time": "2022-08-15T11:54:03.583333Z",
     "start_time": "2022-08-15T11:54:03.569165Z"
    }
   },
   "outputs": [
    {
     "data": {
      "text/plain": [
       "3.064821633108206"
      ]
     },
     "execution_count": 49,
     "metadata": {},
     "output_type": "execute_result"
    }
   ],
   "source": [
    "np.nanquantile(ml_rv_main_vars['rms_PG_RV'], q=0.81)"
   ]
  },
  {
   "cell_type": "markdown",
   "id": "1bf8096a",
   "metadata": {},
   "source": [
    "**OBSERVATION:**\n",
    "- $80\\%$ of the time series show RMS values (outliers removed) lower than $5\\;m\\;s^{-1}$."
   ]
  },
  {
   "cell_type": "markdown",
   "id": "463d0215",
   "metadata": {},
   "source": [
    "# Summary"
   ]
  },
  {
   "cell_type": "markdown",
   "id": "5146b348",
   "metadata": {},
   "source": [
    "**OBSERVATIONS AND CONCLUSIONS:**\n",
    "From the 390 objects (387 in practice, as 3 objects have empty RV files) of the CARMENES NZP-corrected RV time series, we have inspected the values of the more relevant variables:\n",
    "\n",
    "- 265 objects for periodogram analysis (for them, both RV and _TESS_ periodograms are available).\n",
    "- 286 objects for Machine Learning analysis (objects with RMS < 5 $ms^{-1}$).\n"
   ]
  },
  {
   "cell_type": "code",
   "execution_count": null,
   "id": "6a6bb827",
   "metadata": {},
   "outputs": [],
   "source": []
  }
 ],
 "metadata": {
  "kernelspec": {
   "display_name": "Python 3",
   "language": "python",
   "name": "python3"
  },
  "language_info": {
   "codemirror_mode": {
    "name": "ipython",
    "version": 3
   },
   "file_extension": ".py",
   "mimetype": "text/x-python",
   "name": "python",
   "nbconvert_exporter": "python",
   "pygments_lexer": "ipython3",
   "version": "3.8.8"
  },
  "latex_envs": {
   "LaTeX_envs_menu_present": true,
   "autoclose": false,
   "autocomplete": true,
   "bibliofile": "biblio.bib",
   "cite_by": "apalike",
   "current_citInitial": 1,
   "eqLabelWithNumbers": true,
   "eqNumInitial": 1,
   "hotkeys": {
    "equation": "Ctrl-E",
    "itemize": "Ctrl-I"
   },
   "labels_anchors": false,
   "latex_user_defs": false,
   "report_style_numbering": false,
   "user_envs_cfg": false
  },
  "toc": {
   "base_numbering": 1,
   "nav_menu": {},
   "number_sections": true,
   "sideBar": true,
   "skip_h1_title": true,
   "title_cell": "Table of Contents",
   "title_sidebar": "Contents",
   "toc_cell": false,
   "toc_position": {
    "height": "calc(100% - 180px)",
    "left": "10px",
    "top": "150px",
    "width": "384px"
   },
   "toc_section_display": true,
   "toc_window_display": true
  }
 },
 "nbformat": 4,
 "nbformat_minor": 5
}
