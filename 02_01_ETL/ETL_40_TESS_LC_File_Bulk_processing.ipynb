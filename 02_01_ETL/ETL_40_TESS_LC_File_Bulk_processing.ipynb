{
 "cells": [
  {
   "cell_type": "markdown",
   "id": "7e41b9a9",
   "metadata": {},
   "source": [
    "# TESS LC BATCH FILE PROCESSING"
   ]
  },
  {
   "cell_type": "code",
   "execution_count": 1,
   "id": "c002a739",
   "metadata": {
    "ExecuteTime": {
     "end_time": "2022-03-29T14:35:22.114339Z",
     "start_time": "2022-03-29T14:35:22.111346Z"
    }
   },
   "outputs": [],
   "source": [
    "# NOTA IMPORTANTE - CÓMO IMPLEMENTAR LO DEL \"TIMEOUT\".\n",
    "# https://stackoverflow.com/questions/25027122/break-the-function-after-certain-time\n",
    "# NO SIRVE - SOLO SIRVE PARA ENTORNOS UNIX"
   ]
  },
  {
   "cell_type": "markdown",
   "id": "68d4ff82",
   "metadata": {},
   "source": [
    "This notebook takes the GTO objects table and calculates the Lomb-Scargle periodogram for each of the available TESS light curves, storing the results in `FITS` files with a primary header and two additional header data units, one with the light curve itself and another with the periodogram.\n",
    "\n",
    "Additionally, the GTO objects table and file is updated with new columns storing the results for each object.\n",
    "\n",
    "Error control is implemented to prevent exceptions and timeouts to interrupt the processing. In case any of these errors happen, it is so recorded in the results table. Timeout value is dinamically updated, as the calculation for each record is completed."
   ]
  },
  {
   "cell_type": "markdown",
   "id": "fec5c87e",
   "metadata": {},
   "source": [
    "**Calculation conditions:**\n",
    "\n",
    "The stars currently under analysis are in the $He_{3}$ instability band, so they are expected to have effective temperatures in the range $T_{eff}\\in[3300, 4300] K$, $\\log g\\in[4.5, 5.1]$, and masses in the range $M_{star}\\in[0.20, 0.60] M_{Sun}$.\n",
    "\n",
    "According to _Table 2_ in _The theoretical instability strip of M dwarf stars (Rodríguez-López, C., et al. 2014, MNRAS, 438, 2371)_ these stars have typical periods of $20 min$ to $3 h$, so we will set the limits of the periodogram frequencies for periods between $10 min$ and $5 h$. In days, this corresponds to a range of $P\\in[0.006944, 0.208333] d$ or, equivalently, frequencies in the range $f\\in[144, 4.8] d^{-1}$.\n",
    "\n",
    "We will use the _Generalized Lomb Scargle Periodogram_ method, as described in [Zechmeister and Kürster, 2009](https://www.aanda.org/articles/aa/full_html/2009/11/aa11296-08/aa11296-08.html) and implemented by GitHub repository [mzechmeister/GLS](https://github.com/mzechmeister/GLS), using the default _ZK_ normalization."
   ]
  },
  {
   "cell_type": "markdown",
   "id": "9d4512e5",
   "metadata": {},
   "source": [
    "## Modules and configuration"
   ]
  },
  {
   "cell_type": "markdown",
   "id": "a24b300e",
   "metadata": {},
   "source": [
    "### Modules"
   ]
  },
  {
   "cell_type": "code",
   "execution_count": 2,
   "id": "bf7cc337",
   "metadata": {
    "ExecuteTime": {
     "end_time": "2022-03-29T14:35:26.108669Z",
     "start_time": "2022-03-29T14:35:23.560734Z"
    }
   },
   "outputs": [],
   "source": [
    "# Modules import:\n",
    "#from collections import OrderedDict\n",
    "import pandas as pd\n",
    "import numpy as np\n",
    "import time\n",
    "\n",
    "#from scipy import stats\n",
    "\n",
    "# https://github.com/mzechmeister/GLS\n",
    "from gls import Gls\n",
    "\n",
    "from astropy.table import Table, QTable\n",
    "#from astropy.timeseries import TimeSeries\n",
    "from astropy import units as u\n",
    "from astropy.io import fits\n",
    "#from astropy.time import Time\n",
    "\n",
    "import lightkurve as lk\n",
    "\n",
    "#%matplotlib inline\n",
    "import matplotlib.pyplot as plt\n",
    "\n",
    "from pylab import rcParams\n",
    "rcParams['figure.figsize'] = 11, 11\n",
    "\n",
    "#import seaborn as sns\n",
    "#sns.set_style(\"white\", {'figure.figsize':(15,10)})\n",
    "#sns.set_style(\"whitegrid\")\n",
    "#sns.set(rc={'figure.figsize':(15,8)})"
   ]
  },
  {
   "cell_type": "markdown",
   "id": "be1f4594",
   "metadata": {},
   "source": [
    "### Configuration"
   ]
  },
  {
   "cell_type": "code",
   "execution_count": 3,
   "id": "f3feca3c",
   "metadata": {
    "ExecuteTime": {
     "end_time": "2022-03-29T14:35:26.124627Z",
     "start_time": "2022-03-29T14:35:26.111675Z"
    }
   },
   "outputs": [],
   "source": [
    "# Configuration:\n",
    "# Files and folders:\n",
    "GTO_FILE = \"../data/GTO_objects_with_PG.csv\"\n",
    "IN_LC_FOLDER = \"../data/CARMENES_GTO_TESS_lc/lightcurves/\"\n",
    "OUT_IMG_FOLDER = \"../data/CARMENES_GTO_TESS_PGs/figures/\"\n",
    "OUT_PROCESSED_FOLDER = \"../data/CARMENES_GTO_TESS_PGs/\"\n",
    "#OUT_GTO_FILE = \"../data/GTO_objects_withRVPG.csv\"\n",
    "#OUT_PG_FILE = \"../data/GTO_PGs.csv\"\n",
    "#OUT_ERROR_FILE = \"../data/GTO_PG_ERRORs.csv\"\n",
    "\n",
    "# Periodogram constants:\n",
    "FBEG = 4.8\n",
    "FEND = 144\n",
    "PBEG = None # Default\n",
    "PEND = None # Default\n",
    "OFAC = 10 # Default\n",
    "HIFAC = 1 # Default\n",
    "FREQ = np.linspace(start=FBEG, stop=FEND, num=1000001) # 1,000,001 points between 4.8 and 144 d^(-1)\n",
    "# Must be compatible with FBEG, FEND values\n",
    "NORM = \"ZK\" # Default\n",
    "LS = False # Default\n",
    "FAST = False # Default\n",
    "VERBOSE = False # Default\n",
    "FAP_LEVELS_PLOT = [0.01, 0.05, 0.10] # FAP reference levels to plot\n",
    "\n",
    "# Initial timeout value (to prevent a stuck file to interrupt the whole process)\n",
    "#INITIAL_TIMEOUT = 600 # Seconds\n"
   ]
  },
  {
   "cell_type": "code",
   "execution_count": 4,
   "id": "39b60e99",
   "metadata": {
    "ExecuteTime": {
     "end_time": "2022-03-29T14:35:26.140598Z",
     "start_time": "2022-03-29T14:35:26.126624Z"
    }
   },
   "outputs": [],
   "source": [
    "def tess_lc_load(filename: str):\n",
    "    '''Load the TESS LC file and returns a lightcurve object with just the three relevant columns\n",
    "    Note: it seems to be necessary to drop 'nan' values for GLS to work properly.'''\n",
    "    lc_lk = lk.read(filename).remove_nans()\n",
    "    return lc_lk"
   ]
  },
  {
   "cell_type": "code",
   "execution_count": 5,
   "id": "3b553ca2",
   "metadata": {
    "ExecuteTime": {
     "end_time": "2022-03-29T14:35:26.156542Z",
     "start_time": "2022-03-29T14:35:26.141583Z"
    }
   },
   "outputs": [],
   "source": [
    "def lc_infer_sampling(lc_lk: lk.LightCurve):\n",
    "    '''Infer sampling period from light curve'''\n",
    "    time_diffs = lc_lk['time'][1:] - lc_lk['time'][:-1]\n",
    "    return np.median(time_diffs)"
   ]
  },
  {
   "cell_type": "markdown",
   "id": "471bf7f4",
   "metadata": {},
   "source": [
    "## Data processing"
   ]
  },
  {
   "cell_type": "markdown",
   "id": "993e3a72",
   "metadata": {},
   "source": [
    "### GTO data loading"
   ]
  },
  {
   "cell_type": "code",
   "execution_count": 6,
   "id": "501a2ffe",
   "metadata": {
    "ExecuteTime": {
     "end_time": "2022-03-29T14:35:26.776620Z",
     "start_time": "2022-03-29T14:35:26.720503Z"
    }
   },
   "outputs": [
    {
     "data": {
      "text/html": [
       "<div>\n",
       "<style scoped>\n",
       "    .dataframe tbody tr th:only-of-type {\n",
       "        vertical-align: middle;\n",
       "    }\n",
       "\n",
       "    .dataframe tbody tr th {\n",
       "        vertical-align: top;\n",
       "    }\n",
       "\n",
       "    .dataframe thead th {\n",
       "        text-align: right;\n",
       "    }\n",
       "</style>\n",
       "<table border=\"1\" class=\"dataframe\">\n",
       "  <thead>\n",
       "    <tr style=\"text-align: right;\">\n",
       "      <th></th>\n",
       "      <th>Karmn</th>\n",
       "      <th>Name</th>\n",
       "      <th>Comp</th>\n",
       "      <th>GJ</th>\n",
       "      <th>RA_J2016_deg</th>\n",
       "      <th>DE_J2016_deg</th>\n",
       "      <th>RA_J2000</th>\n",
       "      <th>DE_J2000</th>\n",
       "      <th>l_J2016_deg</th>\n",
       "      <th>b_J2016_deg</th>\n",
       "      <th>...</th>\n",
       "      <th>T0_PG_TESS</th>\n",
       "      <th>e_T0_PG_TESS</th>\n",
       "      <th>offset_PG_TESS</th>\n",
       "      <th>e_offset_PG_TESS</th>\n",
       "      <th>FAP_PG_TESS</th>\n",
       "      <th>valid_PG_TESS</th>\n",
       "      <th>error_PG_TESS</th>\n",
       "      <th>elapsed_time_PG_TESS</th>\n",
       "      <th>fits_file_TESS</th>\n",
       "      <th>fig_file_TESS</th>\n",
       "    </tr>\n",
       "  </thead>\n",
       "  <tbody>\n",
       "    <tr>\n",
       "      <th>0</th>\n",
       "      <td>J23585+076</td>\n",
       "      <td>Wolf 1051</td>\n",
       "      <td>AB</td>\n",
       "      <td>4383</td>\n",
       "      <td>359.636420</td>\n",
       "      <td>7.656947</td>\n",
       "      <td>23:58:32.65</td>\n",
       "      <td>+07:39:30.1</td>\n",
       "      <td>100.839686</td>\n",
       "      <td>-52.931049</td>\n",
       "      <td>...</td>\n",
       "      <td>NaN</td>\n",
       "      <td>NaN</td>\n",
       "      <td>NaN</td>\n",
       "      <td>NaN</td>\n",
       "      <td>NaN</td>\n",
       "      <td>0.0</td>\n",
       "      <td>Not recognized as a supported data product:\\nn...</td>\n",
       "      <td>0.002199</td>\n",
       "      <td>NaN</td>\n",
       "      <td>NaN</td>\n",
       "    </tr>\n",
       "    <tr>\n",
       "      <th>1</th>\n",
       "      <td>J23556-061</td>\n",
       "      <td>GJ 912</td>\n",
       "      <td>AB</td>\n",
       "      <td>912</td>\n",
       "      <td>358.913617</td>\n",
       "      <td>-6.144283</td>\n",
       "      <td>23:55:39.78</td>\n",
       "      <td>-06:08:33.4</td>\n",
       "      <td>88.129933</td>\n",
       "      <td>-65.175491</td>\n",
       "      <td>...</td>\n",
       "      <td>NaN</td>\n",
       "      <td>NaN</td>\n",
       "      <td>NaN</td>\n",
       "      <td>NaN</td>\n",
       "      <td>NaN</td>\n",
       "      <td>0.0</td>\n",
       "      <td>Not recognized as a supported data product:\\nn...</td>\n",
       "      <td>0.000974</td>\n",
       "      <td>NaN</td>\n",
       "      <td>NaN</td>\n",
       "    </tr>\n",
       "    <tr>\n",
       "      <th>2</th>\n",
       "      <td>J23548+385</td>\n",
       "      <td>RX J2354.8+3831</td>\n",
       "      <td>-</td>\n",
       "      <td>NaN</td>\n",
       "      <td>358.713658</td>\n",
       "      <td>38.526340</td>\n",
       "      <td>23:54:51.46</td>\n",
       "      <td>+38:31:36.2</td>\n",
       "      <td>110.941908</td>\n",
       "      <td>-23.024449</td>\n",
       "      <td>...</td>\n",
       "      <td>1764.609498</td>\n",
       "      <td>0.010704</td>\n",
       "      <td>8262.219751</td>\n",
       "      <td>1.365667</td>\n",
       "      <td>1.000000</td>\n",
       "      <td>1.0</td>\n",
       "      <td>NaN</td>\n",
       "      <td>344.002685</td>\n",
       "      <td>../data/CARMENES_GTO_TESS_PGs/J23548+385_TESS_...</td>\n",
       "      <td>../data/CARMENES_GTO_TESS_PGs/figures/J23548+3...</td>\n",
       "    </tr>\n",
       "    <tr>\n",
       "      <th>3</th>\n",
       "      <td>J23505-095</td>\n",
       "      <td>LP 763-012</td>\n",
       "      <td>-</td>\n",
       "      <td>4367</td>\n",
       "      <td>357.634705</td>\n",
       "      <td>-9.560964</td>\n",
       "      <td>23:50:31.64</td>\n",
       "      <td>-09:33:32.7</td>\n",
       "      <td>80.777067</td>\n",
       "      <td>-67.303426</td>\n",
       "      <td>...</td>\n",
       "      <td>1354.108815</td>\n",
       "      <td>0.001261</td>\n",
       "      <td>7767.134654</td>\n",
       "      <td>0.094298</td>\n",
       "      <td>0.064148</td>\n",
       "      <td>1.0</td>\n",
       "      <td>NaN</td>\n",
       "      <td>473.533042</td>\n",
       "      <td>../data/CARMENES_GTO_TESS_PGs/J23505-095_TESS_...</td>\n",
       "      <td>../data/CARMENES_GTO_TESS_PGs/figures/J23505-0...</td>\n",
       "    </tr>\n",
       "    <tr>\n",
       "      <th>4</th>\n",
       "      <td>J23492+024</td>\n",
       "      <td>BR Psc</td>\n",
       "      <td>-</td>\n",
       "      <td>908</td>\n",
       "      <td>357.306604</td>\n",
       "      <td>2.396918</td>\n",
       "      <td>23:49:12.53</td>\n",
       "      <td>+02:24:04.4</td>\n",
       "      <td>93.567467</td>\n",
       "      <td>-56.885396</td>\n",
       "      <td>...</td>\n",
       "      <td>NaN</td>\n",
       "      <td>NaN</td>\n",
       "      <td>NaN</td>\n",
       "      <td>NaN</td>\n",
       "      <td>NaN</td>\n",
       "      <td>0.0</td>\n",
       "      <td>Not recognized as a supported data product:\\nn...</td>\n",
       "      <td>0.000984</td>\n",
       "      <td>NaN</td>\n",
       "      <td>NaN</td>\n",
       "    </tr>\n",
       "  </tbody>\n",
       "</table>\n",
       "<p>5 rows × 248 columns</p>\n",
       "</div>"
      ],
      "text/plain": [
       "        Karmn             Name Comp    GJ  RA_J2016_deg  DE_J2016_deg  \\\n",
       "0  J23585+076        Wolf 1051   AB  4383    359.636420      7.656947   \n",
       "1  J23556-061           GJ 912   AB   912    358.913617     -6.144283   \n",
       "2  J23548+385  RX J2354.8+3831    -   NaN    358.713658     38.526340   \n",
       "3  J23505-095       LP 763-012    -  4367    357.634705     -9.560964   \n",
       "4  J23492+024           BR Psc    -   908    357.306604      2.396918   \n",
       "\n",
       "      RA_J2000     DE_J2000  l_J2016_deg  b_J2016_deg  ...   T0_PG_TESS  \\\n",
       "0  23:58:32.65  +07:39:30.1   100.839686   -52.931049  ...          NaN   \n",
       "1  23:55:39.78  -06:08:33.4    88.129933   -65.175491  ...          NaN   \n",
       "2  23:54:51.46  +38:31:36.2   110.941908   -23.024449  ...  1764.609498   \n",
       "3  23:50:31.64  -09:33:32.7    80.777067   -67.303426  ...  1354.108815   \n",
       "4  23:49:12.53  +02:24:04.4    93.567467   -56.885396  ...          NaN   \n",
       "\n",
       "  e_T0_PG_TESS  offset_PG_TESS e_offset_PG_TESS  FAP_PG_TESS  valid_PG_TESS  \\\n",
       "0          NaN             NaN              NaN          NaN            0.0   \n",
       "1          NaN             NaN              NaN          NaN            0.0   \n",
       "2     0.010704     8262.219751         1.365667     1.000000            1.0   \n",
       "3     0.001261     7767.134654         0.094298     0.064148            1.0   \n",
       "4          NaN             NaN              NaN          NaN            0.0   \n",
       "\n",
       "                                       error_PG_TESS  elapsed_time_PG_TESS  \\\n",
       "0  Not recognized as a supported data product:\\nn...              0.002199   \n",
       "1  Not recognized as a supported data product:\\nn...              0.000974   \n",
       "2                                                NaN            344.002685   \n",
       "3                                                NaN            473.533042   \n",
       "4  Not recognized as a supported data product:\\nn...              0.000984   \n",
       "\n",
       "                                      fits_file_TESS  \\\n",
       "0                                                NaN   \n",
       "1                                                NaN   \n",
       "2  ../data/CARMENES_GTO_TESS_PGs/J23548+385_TESS_...   \n",
       "3  ../data/CARMENES_GTO_TESS_PGs/J23505-095_TESS_...   \n",
       "4                                                NaN   \n",
       "\n",
       "                                       fig_file_TESS  \n",
       "0                                                NaN  \n",
       "1                                                NaN  \n",
       "2  ../data/CARMENES_GTO_TESS_PGs/figures/J23548+3...  \n",
       "3  ../data/CARMENES_GTO_TESS_PGs/figures/J23505-0...  \n",
       "4                                                NaN  \n",
       "\n",
       "[5 rows x 248 columns]"
      ]
     },
     "execution_count": 6,
     "metadata": {},
     "output_type": "execute_result"
    }
   ],
   "source": [
    "# Load GTO data table:\n",
    "gto = pd.read_csv(GTO_FILE, sep=',', decimal='.')\n",
    "gto.head(5)"
   ]
  },
  {
   "cell_type": "code",
   "execution_count": 7,
   "id": "2e77fa32",
   "metadata": {
    "ExecuteTime": {
     "end_time": "2022-03-29T14:35:27.258800Z",
     "start_time": "2022-03-29T14:35:27.246832Z"
    }
   },
   "outputs": [
    {
     "name": "stdout",
     "output_type": "stream",
     "text": [
      "['Karmn', 'Name', 'Comp', 'GJ', 'RA_J2016_deg', 'DE_J2016_deg', 'RA_J2000', 'DE_J2000', 'l_J2016_deg', 'b_J2016_deg', 'Ref01', 'SpT', 'SpTnum', 'Ref02', 'Teff_K', 'eTeff_K', 'logg', 'elogg', '[Fe/H]', 'e[Fe/H]', 'Ref03', 'L_Lsol', 'eL_Lsol', 'Ref04', 'R_Rsol', 'eR_Rsol', 'Ref05', 'M_Msol', 'eM_Msol', 'Ref06', 'muRA_masa-1', 'emuRA_masa-1', 'muDE_masa-1', 'emuDE_masa-1', 'Ref07', 'pi_mas', 'epi_mas', 'Ref08', 'd_pc', 'ed_pc', 'Ref09', 'Vr_kms-1', 'eVr_kms-1', 'Ref10', 'ruwe', 'Ref11', 'U_kms-1', 'eU_kms-1', 'V_kms-1', 'eV_kms-1', 'W_kms-1', 'eW_kms-1', 'Ref12', 'sa_m/s/a', 'esa_m/s/a', 'Ref13', 'SKG', 'Ref14', 'SKG_lit', 'Ref14_lit', 'Pop', 'Ref15', 'vsini_flag', 'vsini_kms-1', 'evsini_kms-1', 'Ref16', 'P_d', 'eP_d', 'Ref17', 'pEWHalpha_A', 'epEWHalpha_A', 'Ref18', 'log(LHalpha/Lbol)', 'elog(LHalpha/Lbol)', 'Ref19', '1RXS', 'CRT_s-1', 'eCRT_s-1', 'HR1', 'eHR1', 'HR2', 'eHR2', 'Flux_X_E-13_ergcm-2s-1', 'eFlux_X_E-13_ergcm-2s-1', 'LX/LJ', 'eLX/LJ', 'Ref20', 'Activity', 'Ref21', 'FUV_mag', 'eFUV_mag', 'NUV_mag', 'eNUV_mag', 'Ref22', 'u_mag', 'eu_mag', 'Ref23', 'BT_mag', 'eBT_mag', 'Ref24', 'B_mag', 'eB_mag', 'Ref25', 'BP_mag', 'eBP_mag', 'Ref26', 'g_mag', 'eg_mag', 'Ref27', 'VT_mag', 'eVT_mag', 'Ref28', 'V_mag', 'eV_mag', 'Ref29', 'Ra_mag', 'Ref30', 'r_mag', 'er_mag', 'Ref31', 'GG_mag', 'eGG_mag', 'Ref32', 'i_mag', 'ei_mag', 'Ref33', 'RP_mag', 'eRP_mag', 'Ref34', 'IN_mag', 'Ref35', 'J_mag', 'eJ_mag', 'H_mag', 'eH_mag', 'Ks_mag', 'eKs_mag', 'QFlag_2M', 'Ref36', 'W1_mag', 'eW1_mag', 'W2_mag', 'eW2_mag', 'W3_mag', 'eW3_mag', 'W4_mag', 'eW4_mag', 'QFlag_WISE', 'Ref37', 'Multiplicity', 'WideWDS', 'Widerho_arcsec', 'eWiderho_arcsec', 'Ref38', 'WideCompanionName', 'WideCompanionSpT', 'CloseWDS', 'Closerho_arcsec', 'eCloserho_arcsec', 'Ref39', 'CloseCompanionSpT', 'RV', 'Planet', 'Ref40', 'PlanetNum', 'LoRes_spectrum', 'HiRes_spectrum', 'LoRes_imaging', 'HiRes_imaging', 'Class', 'Survey', 'Notes', 'Gaia_id_1', '2MASS_id', 'TIC_id', 'Teff_min_K', 'Teff_max_K', 'logg_min', 'logg_max', 'is_GTO', 'rv_file', 'lc_file', 'has_rv', 'has_lc', 'InstBand_nominal', 'InstBand_ranged', 'n_RV', 'Ps_RV', 'fs_RV', 'wmean_RV', 'wrms_RV', 'info_PG_RV', 'maxP_PG_RV', 'maxSNR_PG_RV', 'rms_PG_RV', 'f_PG_RV', 'e_f_PG_RV', 'Pd_PG_RV', 'e_Pd_PG_RV', 'Ph_PG_RV', 'e_Ph_PG_RV', 'Pm_PG_RV', 'e_Pm_PG_RV', 'A_PG_RV', 'e_A_PG_RV', 'ph_PG_RV', 'e_ph_PG_RV', 'T0_PG_RV', 'e_T0_PG_RV', 'offset_PG_RV', 'e_offset_PG_RV', 'FAP_PG_RV', 'valid_PG_RV', 'error_PG_RV', 'elapsed_time_PG_RV', 'fits_file_RV', 'fig_file_RV', 'n_TESS', 'Ps_TESS', 'fs_TESS', 'wmean_TESS', 'wrms_TESS', 'info_PG_TESS', 'maxP_PG_TESS', 'maxSNR_PG_TESS', 'rms_PG_TESS', 'f_PG_TESS', 'e_f_PG_TESS', 'Pd_PG_TESS', 'e_Pd_PG_TESS', 'Ph_PG_TESS', 'e_Ph_PG_TESS', 'Pm_PG_TESS', 'e_Pm_PG_TESS', 'A_PG_TESS', 'e_A_PG_TESS', 'ph_PG_TESS', 'e_ph_PG_TESS', 'T0_PG_TESS', 'e_T0_PG_TESS', 'offset_PG_TESS', 'e_offset_PG_TESS', 'FAP_PG_TESS', 'valid_PG_TESS', 'error_PG_TESS', 'elapsed_time_PG_TESS', 'fits_file_TESS', 'fig_file_TESS']\n"
     ]
    }
   ],
   "source": [
    "print(list(gto.columns))"
   ]
  },
  {
   "cell_type": "code",
   "execution_count": 8,
   "id": "d1adb3a0",
   "metadata": {
    "ExecuteTime": {
     "end_time": "2022-03-29T14:35:27.848430Z",
     "start_time": "2022-03-29T14:35:27.832499Z"
    }
   },
   "outputs": [
    {
     "data": {
      "text/plain": [
       "Karmn                                             J18419+318\n",
       "has_lc                                                  True\n",
       "lc_file    ../data/CARMENES_GTO_TESS_lc/lightcurves/J1841...\n",
       "Name: 72, dtype: object"
      ]
     },
     "execution_count": 8,
     "metadata": {},
     "output_type": "execute_result"
    }
   ],
   "source": [
    "gto.loc[72, ['Karmn', 'has_lc', 'lc_file']]"
   ]
  },
  {
   "cell_type": "markdown",
   "id": "d9a9a082",
   "metadata": {},
   "source": [
    "Generate the proper auxiliary columns (with the basic periodograms results)."
   ]
  },
  {
   "cell_type": "code",
   "execution_count": 9,
   "id": "19c50c80",
   "metadata": {
    "ExecuteTime": {
     "end_time": "2022-03-29T14:35:29.757949Z",
     "start_time": "2022-03-29T14:35:29.744983Z"
    }
   },
   "outputs": [],
   "source": [
    "# Additional columns:\n",
    "if 'n_TESS' in gto.columns:\n",
    "    pass\n",
    "else:\n",
    "    gto['n_TESS'] = None # Number of points in TESS LC\n",
    "    gto['Ps_TESS'] = None # Sampling period (d)\n",
    "    gto['fs_TESS'] = None # Sampling frequency (d^(-1))\n",
    "    gto['wmean_TESS'] = None # Mean of TESS LC\n",
    "    gto['wrms_TESS'] = None # RMS of TESS LC\n",
    "    gto['info_PG_TESS'] = None # Information text about the PG\n",
    "    gto['maxP_PG_TESS'] = None # Max power value in the PG\n",
    "    gto['maxSNR_PG_TESS'] = None # Max power value in the PG\n",
    "    gto['rms_PG_TESS'] = None # RMS value in the PG residuals\n",
    "    gto['f_PG_TESS'] = None # Best frequency in the PG (d^(-1))\n",
    "    gto['e_f_PG_TESS'] = None # Error of the best frequency in the PG (d^(-1))\n",
    "    gto['Pd_PG_TESS'] = None # Best period in the PG (d)\n",
    "    gto['e_Pd_PG_TESS'] = None # Error of the best period in the PG (d)\n",
    "    gto['Ph_PG_TESS'] = None # Best period in the PG (hours)\n",
    "    gto['e_Ph_PG_TESS'] = None # Error of the best period in the PG (hours)\n",
    "    gto['Pm_PG_TESS'] = None # Best period in the PG (minutes)\n",
    "    gto['e_Pm_PG_TESS'] = None # Error of the best period in the PG (minutes)\n",
    "    gto['A_PG_TESS'] = None # Amplitude of the best frequency\n",
    "    gto['e_A_PG_TESS'] = None # Error of the amplitude of the best frequency\n",
    "    gto['ph_PG_TESS'] = None # Amplitude of the best frequency\n",
    "    gto['e_ph_PG_TESS'] = None # Error of the amplitude of the best frequency\n",
    "    gto['T0_PG_TESS'] = None # Reference epoch of the best frequency\n",
    "    gto['e_T0_PG_TESS'] = None # Error of the epoch of the best frequency\n",
    "    gto['offset_PG_TESS'] = None # Offset of the best frequency\n",
    "    gto['e_offset_PG_TESS'] = None # Error of the offset of the best frequency\n",
    "    gto['FAP_PG_TESS'] = None # False alarm probability\n",
    "    gto['valid_PG_TESS'] = None # Flag to indicate if the periodogram calculation succeeded (1) or not (0).\n",
    "    gto['error_PG_TESS'] = None # The error raised during processing. Empty if processing was successful.\n",
    "    gto['elapsed_time_PG_TESS'] = None # The time elapsed in calculation\n",
    "    gto['fits_file_TESS'] = None # The name of the processed file.\n",
    "    gto['fig_file_TESS'] = None # The name of the figure file.\n"
   ]
  },
  {
   "cell_type": "code",
   "execution_count": 10,
   "id": "bedb2b0c",
   "metadata": {
    "ExecuteTime": {
     "end_time": "2022-03-29T14:35:30.255984Z",
     "start_time": "2022-03-29T14:35:30.248006Z"
    }
   },
   "outputs": [
    {
     "name": "stdout",
     "output_type": "stream",
     "text": [
      "['Karmn', 'Name', 'Comp', 'GJ', 'RA_J2016_deg', 'DE_J2016_deg', 'RA_J2000', 'DE_J2000', 'l_J2016_deg', 'b_J2016_deg', 'Ref01', 'SpT', 'SpTnum', 'Ref02', 'Teff_K', 'eTeff_K', 'logg', 'elogg', '[Fe/H]', 'e[Fe/H]', 'Ref03', 'L_Lsol', 'eL_Lsol', 'Ref04', 'R_Rsol', 'eR_Rsol', 'Ref05', 'M_Msol', 'eM_Msol', 'Ref06', 'muRA_masa-1', 'emuRA_masa-1', 'muDE_masa-1', 'emuDE_masa-1', 'Ref07', 'pi_mas', 'epi_mas', 'Ref08', 'd_pc', 'ed_pc', 'Ref09', 'Vr_kms-1', 'eVr_kms-1', 'Ref10', 'ruwe', 'Ref11', 'U_kms-1', 'eU_kms-1', 'V_kms-1', 'eV_kms-1', 'W_kms-1', 'eW_kms-1', 'Ref12', 'sa_m/s/a', 'esa_m/s/a', 'Ref13', 'SKG', 'Ref14', 'SKG_lit', 'Ref14_lit', 'Pop', 'Ref15', 'vsini_flag', 'vsini_kms-1', 'evsini_kms-1', 'Ref16', 'P_d', 'eP_d', 'Ref17', 'pEWHalpha_A', 'epEWHalpha_A', 'Ref18', 'log(LHalpha/Lbol)', 'elog(LHalpha/Lbol)', 'Ref19', '1RXS', 'CRT_s-1', 'eCRT_s-1', 'HR1', 'eHR1', 'HR2', 'eHR2', 'Flux_X_E-13_ergcm-2s-1', 'eFlux_X_E-13_ergcm-2s-1', 'LX/LJ', 'eLX/LJ', 'Ref20', 'Activity', 'Ref21', 'FUV_mag', 'eFUV_mag', 'NUV_mag', 'eNUV_mag', 'Ref22', 'u_mag', 'eu_mag', 'Ref23', 'BT_mag', 'eBT_mag', 'Ref24', 'B_mag', 'eB_mag', 'Ref25', 'BP_mag', 'eBP_mag', 'Ref26', 'g_mag', 'eg_mag', 'Ref27', 'VT_mag', 'eVT_mag', 'Ref28', 'V_mag', 'eV_mag', 'Ref29', 'Ra_mag', 'Ref30', 'r_mag', 'er_mag', 'Ref31', 'GG_mag', 'eGG_mag', 'Ref32', 'i_mag', 'ei_mag', 'Ref33', 'RP_mag', 'eRP_mag', 'Ref34', 'IN_mag', 'Ref35', 'J_mag', 'eJ_mag', 'H_mag', 'eH_mag', 'Ks_mag', 'eKs_mag', 'QFlag_2M', 'Ref36', 'W1_mag', 'eW1_mag', 'W2_mag', 'eW2_mag', 'W3_mag', 'eW3_mag', 'W4_mag', 'eW4_mag', 'QFlag_WISE', 'Ref37', 'Multiplicity', 'WideWDS', 'Widerho_arcsec', 'eWiderho_arcsec', 'Ref38', 'WideCompanionName', 'WideCompanionSpT', 'CloseWDS', 'Closerho_arcsec', 'eCloserho_arcsec', 'Ref39', 'CloseCompanionSpT', 'RV', 'Planet', 'Ref40', 'PlanetNum', 'LoRes_spectrum', 'HiRes_spectrum', 'LoRes_imaging', 'HiRes_imaging', 'Class', 'Survey', 'Notes', 'Gaia_id_1', '2MASS_id', 'TIC_id', 'Teff_min_K', 'Teff_max_K', 'logg_min', 'logg_max', 'is_GTO', 'rv_file', 'lc_file', 'has_rv', 'has_lc', 'InstBand_nominal', 'InstBand_ranged', 'n_RV', 'Ps_RV', 'fs_RV', 'wmean_RV', 'wrms_RV', 'info_PG_RV', 'maxP_PG_RV', 'maxSNR_PG_RV', 'rms_PG_RV', 'f_PG_RV', 'e_f_PG_RV', 'Pd_PG_RV', 'e_Pd_PG_RV', 'Ph_PG_RV', 'e_Ph_PG_RV', 'Pm_PG_RV', 'e_Pm_PG_RV', 'A_PG_RV', 'e_A_PG_RV', 'ph_PG_RV', 'e_ph_PG_RV', 'T0_PG_RV', 'e_T0_PG_RV', 'offset_PG_RV', 'e_offset_PG_RV', 'FAP_PG_RV', 'valid_PG_RV', 'error_PG_RV', 'elapsed_time_PG_RV', 'fits_file_RV', 'fig_file_RV', 'n_TESS', 'Ps_TESS', 'fs_TESS', 'wmean_TESS', 'wrms_TESS', 'info_PG_TESS', 'maxP_PG_TESS', 'maxSNR_PG_TESS', 'rms_PG_TESS', 'f_PG_TESS', 'e_f_PG_TESS', 'Pd_PG_TESS', 'e_Pd_PG_TESS', 'Ph_PG_TESS', 'e_Ph_PG_TESS', 'Pm_PG_TESS', 'e_Pm_PG_TESS', 'A_PG_TESS', 'e_A_PG_TESS', 'ph_PG_TESS', 'e_ph_PG_TESS', 'T0_PG_TESS', 'e_T0_PG_TESS', 'offset_PG_TESS', 'e_offset_PG_TESS', 'FAP_PG_TESS', 'valid_PG_TESS', 'error_PG_TESS', 'elapsed_time_PG_TESS', 'fits_file_TESS', 'fig_file_TESS']\n"
     ]
    }
   ],
   "source": [
    "print(list(gto.columns))"
   ]
  },
  {
   "cell_type": "markdown",
   "id": "597c96b4",
   "metadata": {},
   "source": [
    "### Batch processing of all TESS files"
   ]
  },
  {
   "cell_type": "code",
   "execution_count": 11,
   "id": "69a20e73",
   "metadata": {
    "ExecuteTime": {
     "end_time": "2022-03-29T14:35:31.152413Z",
     "start_time": "2022-03-29T14:35:31.135483Z"
    }
   },
   "outputs": [
    {
     "data": {
      "text/plain": [
       "363"
      ]
     },
     "execution_count": 11,
     "metadata": {},
     "output_type": "execute_result"
    }
   ],
   "source": [
    "n = len(gto)\n",
    "n"
   ]
  },
  {
   "cell_type": "markdown",
   "id": "d26c8d44",
   "metadata": {},
   "source": [
    "#### Batch processing"
   ]
  },
  {
   "cell_type": "code",
   "execution_count": 12,
   "id": "74284415",
   "metadata": {
    "ExecuteTime": {
     "end_time": "2022-03-29T21:24:26.305994Z",
     "start_time": "2022-03-29T14:35:40.100811Z"
    },
    "scrolled": true
   },
   "outputs": [
    {
     "name": "stdout",
     "output_type": "stream",
     "text": [
      "Record: 300, started at 29/03/2022, 16:35:40\n",
      "Previous median lapse time: None\n",
      "Processing J04406-128 star (TIC: 117799904)...\n",
      "filename: ../data/CARMENES_GTO_TESS_lc/lightcurves/J04406-128/J04406-128_TESS_TIC117799904_S32.fits\n"
     ]
    },
    {
     "name": "stderr",
     "output_type": "stream",
     "text": [
      "WARNING: The unit 'electron / s' could not be saved in native FITS format and cannot be recovered in reading. If pyyaml is installed, it can roundtrip within astropy by using QTable both to write and read back, though one has to enable the unit before reading. [astropy.io.fits.convenience]\n",
      "WARNING: Meta-data keyword BITPIX will be ignored since it conflicts with a FITS reserved keyword [astropy.io.fits.convenience]\n",
      "WARNING: Meta-data keyword NAXIS will be ignored since it conflicts with a FITS reserved keyword [astropy.io.fits.convenience]\n",
      "WARNING: VerifyWarning: Keyword name 'FLUX_ORIGIN' is greater than 8 characters or contains characters not allowed by the FITS standard; a HIERARCH card will be created. [astropy.io.fits.card]\n",
      "WARNING: VerifyWarning: Keyword name 'QUALITY_BITMASK' is greater than 8 characters or contains characters not allowed by the FITS standard; a HIERARCH card will be created. [astropy.io.fits.card]\n",
      "WARNING: VerifyWarning: Keyword name 'QUALITY_MASK' is greater than 8 characters or contains characters not allowed by the FITS standard; a HIERARCH card will be created. [astropy.io.fits.card]\n",
      "WARNING: Attribute `QUALITY_MASK` of type <class 'numpy.ndarray'> cannot be added to FITS Header - skipping [astropy.io.fits.convenience]\n",
      "WARNING: The unit 'electron2 / s2' could not be saved in native FITS format and cannot be recovered in reading. If pyyaml is installed, it can roundtrip within astropy by using QTable both to write and read back, though one has to enable the unit before reading. [astropy.io.fits.convenience]\n",
      "c:\\users\\ciroe\\gls.py:642: UserWarning: Matplotlib is currently using module://ipykernel.pylab.backend_inline, which is a non-GUI backend, so cannot show the figure.\n",
      "  fig.show()\n"
     ]
    },
    {
     "name": "stdout",
     "output_type": "stream",
     "text": [
      "Elapsed time: 80.75 seconds\n",
      "... SUCCESS.\n",
      "Record: 301, started at 29/03/2022, 16:37:00\n",
      "Previous median lapse time: 80.75 seconds\n",
      "Processing J04376-110 star (TIC: 55997717)...\n",
      "filename: ../data/CARMENES_GTO_TESS_lc/lightcurves/J04376-110/J04376-110_TESS_TIC55997717_S32.fits\n"
     ]
    },
    {
     "name": "stderr",
     "output_type": "stream",
     "text": [
      "WARNING: The unit 'electron / s' could not be saved in native FITS format and cannot be recovered in reading. If pyyaml is installed, it can roundtrip within astropy by using QTable both to write and read back, though one has to enable the unit before reading. [astropy.io.fits.convenience]\n",
      "WARNING: Meta-data keyword BITPIX will be ignored since it conflicts with a FITS reserved keyword [astropy.io.fits.convenience]\n",
      "WARNING: Meta-data keyword NAXIS will be ignored since it conflicts with a FITS reserved keyword [astropy.io.fits.convenience]\n",
      "WARNING: VerifyWarning: Keyword name 'FLUX_ORIGIN' is greater than 8 characters or contains characters not allowed by the FITS standard; a HIERARCH card will be created. [astropy.io.fits.card]\n",
      "WARNING: VerifyWarning: Keyword name 'QUALITY_BITMASK' is greater than 8 characters or contains characters not allowed by the FITS standard; a HIERARCH card will be created. [astropy.io.fits.card]\n",
      "WARNING: VerifyWarning: Keyword name 'QUALITY_MASK' is greater than 8 characters or contains characters not allowed by the FITS standard; a HIERARCH card will be created. [astropy.io.fits.card]\n",
      "WARNING: Attribute `QUALITY_MASK` of type <class 'numpy.ndarray'> cannot be added to FITS Header - skipping [astropy.io.fits.convenience]\n",
      "WARNING: The unit 'electron2 / s2' could not be saved in native FITS format and cannot be recovered in reading. If pyyaml is installed, it can roundtrip within astropy by using QTable both to write and read back, though one has to enable the unit before reading. [astropy.io.fits.convenience]\n",
      "c:\\users\\ciroe\\gls.py:642: UserWarning: Matplotlib is currently using module://ipykernel.pylab.backend_inline, which is a non-GUI backend, so cannot show the figure.\n",
      "  fig.show()\n"
     ]
    },
    {
     "name": "stdout",
     "output_type": "stream",
     "text": [
      "Elapsed time: 456.39 seconds\n",
      "... SUCCESS.\n",
      "Record: 302, started at 29/03/2022, 16:44:37\n",
      "Previous median lapse time: 268.57 seconds\n",
      "Processing J04376+528 star (TIC: 274545692)...\n",
      "filename: ../data/CARMENES_GTO_TESS_lc/lightcurves/J04376+528/J04376+528_TESS_TIC274545692_S19.fits\n"
     ]
    },
    {
     "name": "stderr",
     "output_type": "stream",
     "text": [
      "WARNING: The unit 'electron / s' could not be saved in native FITS format and cannot be recovered in reading. If pyyaml is installed, it can roundtrip within astropy by using QTable both to write and read back, though one has to enable the unit before reading. [astropy.io.fits.convenience]\n",
      "WARNING: Meta-data keyword BITPIX will be ignored since it conflicts with a FITS reserved keyword [astropy.io.fits.convenience]\n",
      "WARNING: Meta-data keyword NAXIS will be ignored since it conflicts with a FITS reserved keyword [astropy.io.fits.convenience]\n",
      "WARNING: VerifyWarning: Keyword name 'FLUX_ORIGIN' is greater than 8 characters or contains characters not allowed by the FITS standard; a HIERARCH card will be created. [astropy.io.fits.card]\n",
      "WARNING: VerifyWarning: Keyword name 'QUALITY_BITMASK' is greater than 8 characters or contains characters not allowed by the FITS standard; a HIERARCH card will be created. [astropy.io.fits.card]\n",
      "WARNING: VerifyWarning: Keyword name 'QUALITY_MASK' is greater than 8 characters or contains characters not allowed by the FITS standard; a HIERARCH card will be created. [astropy.io.fits.card]\n",
      "WARNING: Attribute `QUALITY_MASK` of type <class 'numpy.ndarray'> cannot be added to FITS Header - skipping [astropy.io.fits.convenience]\n",
      "WARNING: The unit 'electron2 / s2' could not be saved in native FITS format and cannot be recovered in reading. If pyyaml is installed, it can roundtrip within astropy by using QTable both to write and read back, though one has to enable the unit before reading. [astropy.io.fits.convenience]\n",
      "c:\\users\\ciroe\\gls.py:642: UserWarning: Matplotlib is currently using module://ipykernel.pylab.backend_inline, which is a non-GUI backend, so cannot show the figure.\n",
      "  fig.show()\n"
     ]
    },
    {
     "name": "stdout",
     "output_type": "stream",
     "text": [
      "Elapsed time: 446.29 seconds\n",
      "... SUCCESS.\n",
      "Record: 303, started at 29/03/2022, 16:52:03\n",
      "Previous median lapse time: 446.29 seconds\n",
      "Processing J04343+430 star (TIC: 28900646)...\n",
      "filename: ../data/CARMENES_GTO_TESS_lc/lightcurves/J04343+430/J04343+430_TESS_TIC28900646_S19.fits\n"
     ]
    },
    {
     "name": "stderr",
     "output_type": "stream",
     "text": [
      "WARNING: The unit 'electron / s' could not be saved in native FITS format and cannot be recovered in reading. If pyyaml is installed, it can roundtrip within astropy by using QTable both to write and read back, though one has to enable the unit before reading. [astropy.io.fits.convenience]\n",
      "WARNING: Meta-data keyword BITPIX will be ignored since it conflicts with a FITS reserved keyword [astropy.io.fits.convenience]\n",
      "WARNING: Meta-data keyword NAXIS will be ignored since it conflicts with a FITS reserved keyword [astropy.io.fits.convenience]\n",
      "WARNING: VerifyWarning: Keyword name 'FLUX_ORIGIN' is greater than 8 characters or contains characters not allowed by the FITS standard; a HIERARCH card will be created. [astropy.io.fits.card]\n",
      "WARNING: VerifyWarning: Keyword name 'QUALITY_BITMASK' is greater than 8 characters or contains characters not allowed by the FITS standard; a HIERARCH card will be created. [astropy.io.fits.card]\n",
      "WARNING: VerifyWarning: Keyword name 'QUALITY_MASK' is greater than 8 characters or contains characters not allowed by the FITS standard; a HIERARCH card will be created. [astropy.io.fits.card]\n",
      "WARNING: Attribute `QUALITY_MASK` of type <class 'numpy.ndarray'> cannot be added to FITS Header - skipping [astropy.io.fits.convenience]\n",
      "WARNING: The unit 'electron2 / s2' could not be saved in native FITS format and cannot be recovered in reading. If pyyaml is installed, it can roundtrip within astropy by using QTable both to write and read back, though one has to enable the unit before reading. [astropy.io.fits.convenience]\n",
      "c:\\users\\ciroe\\gls.py:642: UserWarning: Matplotlib is currently using module://ipykernel.pylab.backend_inline, which is a non-GUI backend, so cannot show the figure.\n",
      "  fig.show()\n"
     ]
    },
    {
     "name": "stdout",
     "output_type": "stream",
     "text": [
      "Elapsed time: 446.05 seconds\n",
      "... SUCCESS.\n",
      "Record: 304, started at 29/03/2022, 16:59:29\n",
      "Previous median lapse time: 446.17 seconds\n",
      "Processing J04311+589 star (TIC: 356322721)...\n",
      "filename: ../data/CARMENES_GTO_TESS_lc/lightcurves/J04311+589/J04311+589_TESS_TIC356322721_S19.fits\n"
     ]
    },
    {
     "name": "stderr",
     "output_type": "stream",
     "text": [
      "WARNING: The unit 'electron / s' could not be saved in native FITS format and cannot be recovered in reading. If pyyaml is installed, it can roundtrip within astropy by using QTable both to write and read back, though one has to enable the unit before reading. [astropy.io.fits.convenience]\n",
      "WARNING: Meta-data keyword BITPIX will be ignored since it conflicts with a FITS reserved keyword [astropy.io.fits.convenience]\n",
      "WARNING: Meta-data keyword NAXIS will be ignored since it conflicts with a FITS reserved keyword [astropy.io.fits.convenience]\n",
      "WARNING: VerifyWarning: Keyword name 'FLUX_ORIGIN' is greater than 8 characters or contains characters not allowed by the FITS standard; a HIERARCH card will be created. [astropy.io.fits.card]\n",
      "WARNING: VerifyWarning: Keyword name 'QUALITY_BITMASK' is greater than 8 characters or contains characters not allowed by the FITS standard; a HIERARCH card will be created. [astropy.io.fits.card]\n",
      "WARNING: VerifyWarning: Keyword name 'QUALITY_MASK' is greater than 8 characters or contains characters not allowed by the FITS standard; a HIERARCH card will be created. [astropy.io.fits.card]\n",
      "WARNING: Attribute `QUALITY_MASK` of type <class 'numpy.ndarray'> cannot be added to FITS Header - skipping [astropy.io.fits.convenience]\n",
      "WARNING: The unit 'electron2 / s2' could not be saved in native FITS format and cannot be recovered in reading. If pyyaml is installed, it can roundtrip within astropy by using QTable both to write and read back, though one has to enable the unit before reading. [astropy.io.fits.convenience]\n",
      "c:\\users\\ciroe\\gls.py:642: UserWarning: Matplotlib is currently using module://ipykernel.pylab.backend_inline, which is a non-GUI backend, so cannot show the figure.\n",
      "  fig.show()\n"
     ]
    },
    {
     "name": "stdout",
     "output_type": "stream",
     "text": [
      "Elapsed time: 468.71 seconds\n",
      "... SUCCESS.\n",
      "Record: 305, started at 29/03/2022, 17:07:18\n",
      "Previous median lapse time: 446.29 seconds\n",
      "Processing J04290+219 star (TIC: 17558287)...\n",
      "filename: nan\n",
      "--- Some ERROR happened with record #305, J04290+219 star. Error=Not recognized as a supported data product:\n",
      "nan\n",
      "This file may be corrupt due to an interrupted download. Please remove it from your disk and try again.\n",
      "Elapsed time: 0.00 seconds\n",
      "Record: 306, started at 29/03/2022, 17:07:18\n",
      "Previous median lapse time: 446.17 seconds\n",
      "Processing J04225+105 star (TIC: 372896796)...\n",
      "filename: ../data/CARMENES_GTO_TESS_lc/lightcurves/J04225+105/J04225+105_TESS_TIC372896796_S32.fits\n"
     ]
    },
    {
     "name": "stderr",
     "output_type": "stream",
     "text": [
      "WARNING: The unit 'electron / s' could not be saved in native FITS format and cannot be recovered in reading. If pyyaml is installed, it can roundtrip within astropy by using QTable both to write and read back, though one has to enable the unit before reading. [astropy.io.fits.convenience]\n",
      "WARNING: Meta-data keyword BITPIX will be ignored since it conflicts with a FITS reserved keyword [astropy.io.fits.convenience]\n",
      "WARNING: Meta-data keyword NAXIS will be ignored since it conflicts with a FITS reserved keyword [astropy.io.fits.convenience]\n",
      "WARNING: VerifyWarning: Keyword name 'FLUX_ORIGIN' is greater than 8 characters or contains characters not allowed by the FITS standard; a HIERARCH card will be created. [astropy.io.fits.card]\n",
      "WARNING: VerifyWarning: Keyword name 'QUALITY_BITMASK' is greater than 8 characters or contains characters not allowed by the FITS standard; a HIERARCH card will be created. [astropy.io.fits.card]\n",
      "WARNING: VerifyWarning: Keyword name 'QUALITY_MASK' is greater than 8 characters or contains characters not allowed by the FITS standard; a HIERARCH card will be created. [astropy.io.fits.card]\n",
      "WARNING: Attribute `QUALITY_MASK` of type <class 'numpy.ndarray'> cannot be added to FITS Header - skipping [astropy.io.fits.convenience]\n",
      "WARNING: The unit 'electron2 / s2' could not be saved in native FITS format and cannot be recovered in reading. If pyyaml is installed, it can roundtrip within astropy by using QTable both to write and read back, though one has to enable the unit before reading. [astropy.io.fits.convenience]\n",
      "c:\\users\\ciroe\\gls.py:642: UserWarning: Matplotlib is currently using module://ipykernel.pylab.backend_inline, which is a non-GUI backend, so cannot show the figure.\n",
      "  fig.show()\n"
     ]
    },
    {
     "name": "stdout",
     "output_type": "stream",
     "text": [
      "Elapsed time: 490.67 seconds\n",
      "... SUCCESS.\n",
      "Record: 307, started at 29/03/2022, 17:15:29\n",
      "Previous median lapse time: 446.29 seconds\n",
      "Processing J04219+213 star (TIC: 17307715)...\n",
      "filename: nan\n",
      "--- Some ERROR happened with record #307, J04219+213 star. Error=Not recognized as a supported data product:\n",
      "nan\n",
      "This file may be corrupt due to an interrupted download. Please remove it from your disk and try again.\n",
      "Elapsed time: 0.00 seconds\n",
      "Record: 308, started at 29/03/2022, 17:15:29\n",
      "Previous median lapse time: 446.17 seconds\n",
      "Processing J04198+425 star (TIC: 347994537)...\n",
      "filename: ../data/CARMENES_GTO_TESS_lc/lightcurves/J04198+425/J04198+425_TESS_TIC347994537_S19.fits\n"
     ]
    },
    {
     "name": "stderr",
     "output_type": "stream",
     "text": [
      "WARNING: The unit 'electron / s' could not be saved in native FITS format and cannot be recovered in reading. If pyyaml is installed, it can roundtrip within astropy by using QTable both to write and read back, though one has to enable the unit before reading. [astropy.io.fits.convenience]\n",
      "WARNING: Meta-data keyword BITPIX will be ignored since it conflicts with a FITS reserved keyword [astropy.io.fits.convenience]\n",
      "WARNING: Meta-data keyword NAXIS will be ignored since it conflicts with a FITS reserved keyword [astropy.io.fits.convenience]\n",
      "WARNING: VerifyWarning: Keyword name 'FLUX_ORIGIN' is greater than 8 characters or contains characters not allowed by the FITS standard; a HIERARCH card will be created. [astropy.io.fits.card]\n",
      "WARNING: VerifyWarning: Keyword name 'QUALITY_BITMASK' is greater than 8 characters or contains characters not allowed by the FITS standard; a HIERARCH card will be created. [astropy.io.fits.card]\n",
      "WARNING: VerifyWarning: Keyword name 'QUALITY_MASK' is greater than 8 characters or contains characters not allowed by the FITS standard; a HIERARCH card will be created. [astropy.io.fits.card]\n",
      "WARNING: Attribute `QUALITY_MASK` of type <class 'numpy.ndarray'> cannot be added to FITS Header - skipping [astropy.io.fits.convenience]\n",
      "WARNING: The unit 'electron2 / s2' could not be saved in native FITS format and cannot be recovered in reading. If pyyaml is installed, it can roundtrip within astropy by using QTable both to write and read back, though one has to enable the unit before reading. [astropy.io.fits.convenience]\n",
      "c:\\users\\ciroe\\gls.py:642: UserWarning: Matplotlib is currently using module://ipykernel.pylab.backend_inline, which is a non-GUI backend, so cannot show the figure.\n",
      "  fig.show()\n"
     ]
    },
    {
     "name": "stdout",
     "output_type": "stream",
     "text": [
      "Elapsed time: 498.92 seconds\n",
      "... SUCCESS.\n",
      "Record: 309, started at 29/03/2022, 17:23:48\n",
      "Previous median lapse time: 446.29 seconds\n",
      "Processing J04173+088 star (TIC: 283866910)...\n",
      "filename: ../data/CARMENES_GTO_TESS_lc/lightcurves/J04173+088/J04173+088_TESS_TIC283866910_S05.fits\n"
     ]
    },
    {
     "name": "stderr",
     "output_type": "stream",
     "text": [
      "WARNING: The unit 'electron / s' could not be saved in native FITS format and cannot be recovered in reading. If pyyaml is installed, it can roundtrip within astropy by using QTable both to write and read back, though one has to enable the unit before reading. [astropy.io.fits.convenience]\n",
      "WARNING: Meta-data keyword BITPIX will be ignored since it conflicts with a FITS reserved keyword [astropy.io.fits.convenience]\n",
      "WARNING: Meta-data keyword NAXIS will be ignored since it conflicts with a FITS reserved keyword [astropy.io.fits.convenience]\n",
      "WARNING: VerifyWarning: Keyword name 'FLUX_ORIGIN' is greater than 8 characters or contains characters not allowed by the FITS standard; a HIERARCH card will be created. [astropy.io.fits.card]\n",
      "WARNING: VerifyWarning: Keyword name 'QUALITY_BITMASK' is greater than 8 characters or contains characters not allowed by the FITS standard; a HIERARCH card will be created. [astropy.io.fits.card]\n",
      "WARNING: VerifyWarning: Keyword name 'QUALITY_MASK' is greater than 8 characters or contains characters not allowed by the FITS standard; a HIERARCH card will be created. [astropy.io.fits.card]\n",
      "WARNING: Attribute `QUALITY_MASK` of type <class 'numpy.ndarray'> cannot be added to FITS Header - skipping [astropy.io.fits.convenience]\n",
      "WARNING: The unit 'electron2 / s2' could not be saved in native FITS format and cannot be recovered in reading. If pyyaml is installed, it can roundtrip within astropy by using QTable both to write and read back, though one has to enable the unit before reading. [astropy.io.fits.convenience]\n",
      "c:\\users\\ciroe\\gls.py:642: UserWarning: Matplotlib is currently using module://ipykernel.pylab.backend_inline, which is a non-GUI backend, so cannot show the figure.\n",
      "  fig.show()\n"
     ]
    },
    {
     "name": "stdout",
     "output_type": "stream",
     "text": [
      "Elapsed time: 519.47 seconds\n",
      "... SUCCESS.\n",
      "Record: 310, started at 29/03/2022, 17:32:27\n",
      "Previous median lapse time: 451.34 seconds\n",
      "Processing J04167-120 star (TIC: 70899085)...\n",
      "filename: ../data/CARMENES_GTO_TESS_lc/lightcurves/J04167-120/J04167-120_TESS_TIC70899085_S05.fits\n"
     ]
    },
    {
     "name": "stderr",
     "output_type": "stream",
     "text": [
      "WARNING: The unit 'electron / s' could not be saved in native FITS format and cannot be recovered in reading. If pyyaml is installed, it can roundtrip within astropy by using QTable both to write and read back, though one has to enable the unit before reading. [astropy.io.fits.convenience]\n",
      "WARNING: Meta-data keyword BITPIX will be ignored since it conflicts with a FITS reserved keyword [astropy.io.fits.convenience]\n",
      "WARNING: Meta-data keyword NAXIS will be ignored since it conflicts with a FITS reserved keyword [astropy.io.fits.convenience]\n",
      "WARNING: VerifyWarning: Keyword name 'FLUX_ORIGIN' is greater than 8 characters or contains characters not allowed by the FITS standard; a HIERARCH card will be created. [astropy.io.fits.card]\n",
      "WARNING: VerifyWarning: Keyword name 'QUALITY_BITMASK' is greater than 8 characters or contains characters not allowed by the FITS standard; a HIERARCH card will be created. [astropy.io.fits.card]\n",
      "WARNING: VerifyWarning: Keyword name 'QUALITY_MASK' is greater than 8 characters or contains characters not allowed by the FITS standard; a HIERARCH card will be created. [astropy.io.fits.card]\n",
      "WARNING: Attribute `QUALITY_MASK` of type <class 'numpy.ndarray'> cannot be added to FITS Header - skipping [astropy.io.fits.convenience]\n",
      "WARNING: The unit 'electron2 / s2' could not be saved in native FITS format and cannot be recovered in reading. If pyyaml is installed, it can roundtrip within astropy by using QTable both to write and read back, though one has to enable the unit before reading. [astropy.io.fits.convenience]\n",
      "c:\\users\\ciroe\\gls.py:642: UserWarning: Matplotlib is currently using module://ipykernel.pylab.backend_inline, which is a non-GUI backend, so cannot show the figure.\n",
      "  fig.show()\n"
     ]
    },
    {
     "name": "stdout",
     "output_type": "stream",
     "text": [
      "Elapsed time: 518.36 seconds\n",
      "... SUCCESS.\n",
      "Record: 311, started at 29/03/2022, 17:41:06\n",
      "Previous median lapse time: 456.39 seconds\n",
      "Processing J04153-076 star (TIC: 671834302)...\n",
      "filename: ../data/CARMENES_GTO_TESS_lc/lightcurves/J04153-076/J04153-076_TESS_TIC671834302_S32.fits\n"
     ]
    },
    {
     "name": "stderr",
     "output_type": "stream",
     "text": [
      "WARNING: The unit 'electron / s' could not be saved in native FITS format and cannot be recovered in reading. If pyyaml is installed, it can roundtrip within astropy by using QTable both to write and read back, though one has to enable the unit before reading. [astropy.io.fits.convenience]\n",
      "WARNING: Meta-data keyword BITPIX will be ignored since it conflicts with a FITS reserved keyword [astropy.io.fits.convenience]\n",
      "WARNING: Meta-data keyword NAXIS will be ignored since it conflicts with a FITS reserved keyword [astropy.io.fits.convenience]\n",
      "WARNING: VerifyWarning: Keyword name 'FLUX_ORIGIN' is greater than 8 characters or contains characters not allowed by the FITS standard; a HIERARCH card will be created. [astropy.io.fits.card]\n",
      "WARNING: VerifyWarning: Keyword name 'QUALITY_BITMASK' is greater than 8 characters or contains characters not allowed by the FITS standard; a HIERARCH card will be created. [astropy.io.fits.card]\n",
      "WARNING: VerifyWarning: Keyword name 'QUALITY_MASK' is greater than 8 characters or contains characters not allowed by the FITS standard; a HIERARCH card will be created. [astropy.io.fits.card]\n",
      "WARNING: Attribute `QUALITY_MASK` of type <class 'numpy.ndarray'> cannot be added to FITS Header - skipping [astropy.io.fits.convenience]\n",
      "WARNING: The unit 'electron2 / s2' could not be saved in native FITS format and cannot be recovered in reading. If pyyaml is installed, it can roundtrip within astropy by using QTable both to write and read back, though one has to enable the unit before reading. [astropy.io.fits.convenience]\n",
      "c:\\users\\ciroe\\gls.py:642: UserWarning: Matplotlib is currently using module://ipykernel.pylab.backend_inline, which is a non-GUI backend, so cannot show the figure.\n",
      "  fig.show()\n"
     ]
    },
    {
     "name": "stdout",
     "output_type": "stream",
     "text": [
      "Elapsed time: 547.48 seconds\n",
      "... SUCCESS.\n",
      "Record: 312, started at 29/03/2022, 17:50:13\n",
      "Previous median lapse time: 462.55 seconds\n",
      "Processing J03531+625 star (TIC: 393080288)...\n",
      "filename: ../data/CARMENES_GTO_TESS_lc/lightcurves/J03531+625/J03531+625_TESS_TIC393080288_S19.fits\n"
     ]
    },
    {
     "name": "stderr",
     "output_type": "stream",
     "text": [
      "WARNING: The unit 'electron / s' could not be saved in native FITS format and cannot be recovered in reading. If pyyaml is installed, it can roundtrip within astropy by using QTable both to write and read back, though one has to enable the unit before reading. [astropy.io.fits.convenience]\n",
      "WARNING: Meta-data keyword BITPIX will be ignored since it conflicts with a FITS reserved keyword [astropy.io.fits.convenience]\n",
      "WARNING: Meta-data keyword NAXIS will be ignored since it conflicts with a FITS reserved keyword [astropy.io.fits.convenience]\n",
      "WARNING: VerifyWarning: Keyword name 'FLUX_ORIGIN' is greater than 8 characters or contains characters not allowed by the FITS standard; a HIERARCH card will be created. [astropy.io.fits.card]\n",
      "WARNING: VerifyWarning: Keyword name 'QUALITY_BITMASK' is greater than 8 characters or contains characters not allowed by the FITS standard; a HIERARCH card will be created. [astropy.io.fits.card]\n",
      "WARNING: VerifyWarning: Keyword name 'QUALITY_MASK' is greater than 8 characters or contains characters not allowed by the FITS standard; a HIERARCH card will be created. [astropy.io.fits.card]\n",
      "WARNING: Attribute `QUALITY_MASK` of type <class 'numpy.ndarray'> cannot be added to FITS Header - skipping [astropy.io.fits.convenience]\n",
      "WARNING: The unit 'electron2 / s2' could not be saved in native FITS format and cannot be recovered in reading. If pyyaml is installed, it can roundtrip within astropy by using QTable both to write and read back, though one has to enable the unit before reading. [astropy.io.fits.convenience]\n",
      "c:\\users\\ciroe\\gls.py:642: UserWarning: Matplotlib is currently using module://ipykernel.pylab.backend_inline, which is a non-GUI backend, so cannot show the figure.\n",
      "  fig.show()\n"
     ]
    },
    {
     "name": "stdout",
     "output_type": "stream",
     "text": [
      "Elapsed time: 526.24 seconds\n",
      "... SUCCESS.\n",
      "Record: 313, started at 29/03/2022, 17:59:00\n",
      "Previous median lapse time: 468.71 seconds\n",
      "Processing J03473-019 star (TIC: 333680372)...\n",
      "filename: ../data/CARMENES_GTO_TESS_lc/lightcurves/J03473-019/J03473-019_TESS_TIC333680372_S05.fits\n"
     ]
    },
    {
     "name": "stderr",
     "output_type": "stream",
     "text": [
      "WARNING: The unit 'electron / s' could not be saved in native FITS format and cannot be recovered in reading. If pyyaml is installed, it can roundtrip within astropy by using QTable both to write and read back, though one has to enable the unit before reading. [astropy.io.fits.convenience]\n",
      "WARNING: Meta-data keyword BITPIX will be ignored since it conflicts with a FITS reserved keyword [astropy.io.fits.convenience]\n",
      "WARNING: Meta-data keyword NAXIS will be ignored since it conflicts with a FITS reserved keyword [astropy.io.fits.convenience]\n",
      "WARNING: VerifyWarning: Keyword name 'FLUX_ORIGIN' is greater than 8 characters or contains characters not allowed by the FITS standard; a HIERARCH card will be created. [astropy.io.fits.card]\n",
      "WARNING: VerifyWarning: Keyword name 'QUALITY_BITMASK' is greater than 8 characters or contains characters not allowed by the FITS standard; a HIERARCH card will be created. [astropy.io.fits.card]\n",
      "WARNING: VerifyWarning: Keyword name 'QUALITY_MASK' is greater than 8 characters or contains characters not allowed by the FITS standard; a HIERARCH card will be created. [astropy.io.fits.card]\n",
      "WARNING: Attribute `QUALITY_MASK` of type <class 'numpy.ndarray'> cannot be added to FITS Header - skipping [astropy.io.fits.convenience]\n",
      "WARNING: The unit 'electron2 / s2' could not be saved in native FITS format and cannot be recovered in reading. If pyyaml is installed, it can roundtrip within astropy by using QTable both to write and read back, though one has to enable the unit before reading. [astropy.io.fits.convenience]\n",
      "c:\\users\\ciroe\\gls.py:642: UserWarning: Matplotlib is currently using module://ipykernel.pylab.backend_inline, which is a non-GUI backend, so cannot show the figure.\n",
      "  fig.show()\n"
     ]
    },
    {
     "name": "stdout",
     "output_type": "stream",
     "text": [
      "Elapsed time: 527.41 seconds\n",
      "... SUCCESS.\n",
      "Record: 314, started at 29/03/2022, 18:07:47\n",
      "Previous median lapse time: 479.69 seconds\n",
      "Processing J03473+086 star (TIC: 468889408)...\n",
      "filename: ../data/CARMENES_GTO_TESS_lc/lightcurves/J03473+086/J03473+086_TESS_TIC468889408_S05.fits\n"
     ]
    },
    {
     "name": "stderr",
     "output_type": "stream",
     "text": [
      "WARNING: The unit 'electron / s' could not be saved in native FITS format and cannot be recovered in reading. If pyyaml is installed, it can roundtrip within astropy by using QTable both to write and read back, though one has to enable the unit before reading. [astropy.io.fits.convenience]\n",
      "WARNING: Meta-data keyword BITPIX will be ignored since it conflicts with a FITS reserved keyword [astropy.io.fits.convenience]\n",
      "WARNING: Meta-data keyword NAXIS will be ignored since it conflicts with a FITS reserved keyword [astropy.io.fits.convenience]\n",
      "WARNING: VerifyWarning: Keyword name 'FLUX_ORIGIN' is greater than 8 characters or contains characters not allowed by the FITS standard; a HIERARCH card will be created. [astropy.io.fits.card]\n",
      "WARNING: VerifyWarning: Keyword name 'QUALITY_BITMASK' is greater than 8 characters or contains characters not allowed by the FITS standard; a HIERARCH card will be created. [astropy.io.fits.card]\n",
      "WARNING: VerifyWarning: Keyword name 'QUALITY_MASK' is greater than 8 characters or contains characters not allowed by the FITS standard; a HIERARCH card will be created. [astropy.io.fits.card]\n",
      "WARNING: Attribute `QUALITY_MASK` of type <class 'numpy.ndarray'> cannot be added to FITS Header - skipping [astropy.io.fits.convenience]\n",
      "WARNING: The unit 'electron2 / s2' could not be saved in native FITS format and cannot be recovered in reading. If pyyaml is installed, it can roundtrip within astropy by using QTable both to write and read back, though one has to enable the unit before reading. [astropy.io.fits.convenience]\n",
      "c:\\users\\ciroe\\gls.py:642: UserWarning: Matplotlib is currently using module://ipykernel.pylab.backend_inline, which is a non-GUI backend, so cannot show the figure.\n",
      "  fig.show()\n"
     ]
    },
    {
     "name": "stdout",
     "output_type": "stream",
     "text": [
      "Elapsed time: 34.94 seconds\n",
      "... SUCCESS.\n",
      "Record: 315, started at 29/03/2022, 18:08:22\n",
      "Previous median lapse time: 468.71 seconds\n",
      "Processing J03463+262 star (TIC: 125736050)...\n",
      "filename: ../data/CARMENES_GTO_TESS_lc/lightcurves/J03463+262/J03463+262_TESS_TIC125736050_S18.fits\n"
     ]
    },
    {
     "name": "stderr",
     "output_type": "stream",
     "text": [
      "WARNING: The unit 'electron / s' could not be saved in native FITS format and cannot be recovered in reading. If pyyaml is installed, it can roundtrip within astropy by using QTable both to write and read back, though one has to enable the unit before reading. [astropy.io.fits.convenience]\n",
      "WARNING: Meta-data keyword BITPIX will be ignored since it conflicts with a FITS reserved keyword [astropy.io.fits.convenience]\n",
      "WARNING: Meta-data keyword NAXIS will be ignored since it conflicts with a FITS reserved keyword [astropy.io.fits.convenience]\n",
      "WARNING: VerifyWarning: Keyword name 'FLUX_ORIGIN' is greater than 8 characters or contains characters not allowed by the FITS standard; a HIERARCH card will be created. [astropy.io.fits.card]\n",
      "WARNING: VerifyWarning: Keyword name 'QUALITY_BITMASK' is greater than 8 characters or contains characters not allowed by the FITS standard; a HIERARCH card will be created. [astropy.io.fits.card]\n",
      "WARNING: VerifyWarning: Keyword name 'QUALITY_MASK' is greater than 8 characters or contains characters not allowed by the FITS standard; a HIERARCH card will be created. [astropy.io.fits.card]\n",
      "WARNING: Attribute `QUALITY_MASK` of type <class 'numpy.ndarray'> cannot be added to FITS Header - skipping [astropy.io.fits.convenience]\n",
      "WARNING: The unit 'electron2 / s2' could not be saved in native FITS format and cannot be recovered in reading. If pyyaml is installed, it can roundtrip within astropy by using QTable both to write and read back, though one has to enable the unit before reading. [astropy.io.fits.convenience]\n",
      "c:\\users\\ciroe\\gls.py:642: UserWarning: Matplotlib is currently using module://ipykernel.pylab.backend_inline, which is a non-GUI backend, so cannot show the figure.\n",
      "  fig.show()\n"
     ]
    },
    {
     "name": "stdout",
     "output_type": "stream",
     "text": [
      "Elapsed time: 450.16 seconds\n",
      "... SUCCESS.\n",
      "Record: 316, started at 29/03/2022, 18:15:52\n",
      "Previous median lapse time: 462.55 seconds\n",
      "Processing J03230+420 star (TIC: 385048602)...\n",
      "filename: ../data/CARMENES_GTO_TESS_lc/lightcurves/J03230+420/J03230+420_TESS_TIC385048602_S18.fits\n"
     ]
    },
    {
     "name": "stderr",
     "output_type": "stream",
     "text": [
      "WARNING: The unit 'electron / s' could not be saved in native FITS format and cannot be recovered in reading. If pyyaml is installed, it can roundtrip within astropy by using QTable both to write and read back, though one has to enable the unit before reading. [astropy.io.fits.convenience]\n",
      "WARNING: Meta-data keyword BITPIX will be ignored since it conflicts with a FITS reserved keyword [astropy.io.fits.convenience]\n",
      "WARNING: Meta-data keyword NAXIS will be ignored since it conflicts with a FITS reserved keyword [astropy.io.fits.convenience]\n",
      "WARNING: VerifyWarning: Keyword name 'FLUX_ORIGIN' is greater than 8 characters or contains characters not allowed by the FITS standard; a HIERARCH card will be created. [astropy.io.fits.card]\n",
      "WARNING: VerifyWarning: Keyword name 'QUALITY_BITMASK' is greater than 8 characters or contains characters not allowed by the FITS standard; a HIERARCH card will be created. [astropy.io.fits.card]\n",
      "WARNING: VerifyWarning: Keyword name 'QUALITY_MASK' is greater than 8 characters or contains characters not allowed by the FITS standard; a HIERARCH card will be created. [astropy.io.fits.card]\n",
      "WARNING: Attribute `QUALITY_MASK` of type <class 'numpy.ndarray'> cannot be added to FITS Header - skipping [astropy.io.fits.convenience]\n",
      "WARNING: The unit 'electron2 / s2' could not be saved in native FITS format and cannot be recovered in reading. If pyyaml is installed, it can roundtrip within astropy by using QTable both to write and read back, though one has to enable the unit before reading. [astropy.io.fits.convenience]\n",
      "c:\\users\\ciroe\\gls.py:642: UserWarning: Matplotlib is currently using module://ipykernel.pylab.backend_inline, which is a non-GUI backend, so cannot show the figure.\n",
      "  fig.show()\n"
     ]
    },
    {
     "name": "stdout",
     "output_type": "stream",
     "text": [
      "Elapsed time: 451.70 seconds\n",
      "... SUCCESS.\n",
      "Record: 317, started at 29/03/2022, 18:23:24\n",
      "Previous median lapse time: 456.39 seconds\n",
      "Processing J03217-066 star (TIC: 9964140)...\n",
      "filename: ../data/CARMENES_GTO_TESS_lc/lightcurves/J03217-066/J03217-066_TESS_TIC9964140_S04.fits\n"
     ]
    },
    {
     "name": "stderr",
     "output_type": "stream",
     "text": [
      "WARNING: The unit 'electron / s' could not be saved in native FITS format and cannot be recovered in reading. If pyyaml is installed, it can roundtrip within astropy by using QTable both to write and read back, though one has to enable the unit before reading. [astropy.io.fits.convenience]\n",
      "WARNING: Meta-data keyword BITPIX will be ignored since it conflicts with a FITS reserved keyword [astropy.io.fits.convenience]\n",
      "WARNING: Meta-data keyword NAXIS will be ignored since it conflicts with a FITS reserved keyword [astropy.io.fits.convenience]\n",
      "WARNING: VerifyWarning: Keyword name 'FLUX_ORIGIN' is greater than 8 characters or contains characters not allowed by the FITS standard; a HIERARCH card will be created. [astropy.io.fits.card]\n",
      "WARNING: VerifyWarning: Keyword name 'QUALITY_BITMASK' is greater than 8 characters or contains characters not allowed by the FITS standard; a HIERARCH card will be created. [astropy.io.fits.card]\n",
      "WARNING: VerifyWarning: Keyword name 'QUALITY_MASK' is greater than 8 characters or contains characters not allowed by the FITS standard; a HIERARCH card will be created. [astropy.io.fits.card]\n",
      "WARNING: Attribute `QUALITY_MASK` of type <class 'numpy.ndarray'> cannot be added to FITS Header - skipping [astropy.io.fits.convenience]\n",
      "WARNING: The unit 'electron2 / s2' could not be saved in native FITS format and cannot be recovered in reading. If pyyaml is installed, it can roundtrip within astropy by using QTable both to write and read back, though one has to enable the unit before reading. [astropy.io.fits.convenience]\n",
      "c:\\users\\ciroe\\gls.py:642: UserWarning: Matplotlib is currently using module://ipykernel.pylab.backend_inline, which is a non-GUI backend, so cannot show the figure.\n",
      "  fig.show()\n"
     ]
    },
    {
     "name": "stdout",
     "output_type": "stream",
     "text": [
      "Elapsed time: 466.19 seconds\n",
      "... SUCCESS.\n",
      "Record: 318, started at 29/03/2022, 18:31:10\n",
      "Previous median lapse time: 461.29 seconds\n",
      "Processing J03213+799 star (TIC: 357936741)...\n",
      "filename: nan\n",
      "--- Some ERROR happened with record #318, J03213+799 star. Error=Not recognized as a supported data product:\n",
      "nan\n",
      "This file may be corrupt due to an interrupted download. Please remove it from your disk and try again.\n",
      "Elapsed time: 0.00 seconds\n",
      "Record: 319, started at 29/03/2022, 18:31:10\n",
      "Previous median lapse time: 456.39 seconds\n",
      "Processing J03181+382 star (TIC: 178078333)...\n",
      "filename: ../data/CARMENES_GTO_TESS_lc/lightcurves/J03181+382/J03181+382_TESS_TIC178078333_S18.fits\n"
     ]
    },
    {
     "name": "stderr",
     "output_type": "stream",
     "text": [
      "WARNING: The unit 'electron / s' could not be saved in native FITS format and cannot be recovered in reading. If pyyaml is installed, it can roundtrip within astropy by using QTable both to write and read back, though one has to enable the unit before reading. [astropy.io.fits.convenience]\n",
      "WARNING: Meta-data keyword BITPIX will be ignored since it conflicts with a FITS reserved keyword [astropy.io.fits.convenience]\n",
      "WARNING: Meta-data keyword NAXIS will be ignored since it conflicts with a FITS reserved keyword [astropy.io.fits.convenience]\n",
      "WARNING: VerifyWarning: Keyword name 'FLUX_ORIGIN' is greater than 8 characters or contains characters not allowed by the FITS standard; a HIERARCH card will be created. [astropy.io.fits.card]\n",
      "WARNING: VerifyWarning: Keyword name 'QUALITY_BITMASK' is greater than 8 characters or contains characters not allowed by the FITS standard; a HIERARCH card will be created. [astropy.io.fits.card]\n",
      "WARNING: VerifyWarning: Keyword name 'QUALITY_MASK' is greater than 8 characters or contains characters not allowed by the FITS standard; a HIERARCH card will be created. [astropy.io.fits.card]\n",
      "WARNING: Attribute `QUALITY_MASK` of type <class 'numpy.ndarray'> cannot be added to FITS Header - skipping [astropy.io.fits.convenience]\n",
      "WARNING: The unit 'electron2 / s2' could not be saved in native FITS format and cannot be recovered in reading. If pyyaml is installed, it can roundtrip within astropy by using QTable both to write and read back, though one has to enable the unit before reading. [astropy.io.fits.convenience]\n",
      "c:\\users\\ciroe\\gls.py:642: UserWarning: Matplotlib is currently using module://ipykernel.pylab.backend_inline, which is a non-GUI backend, so cannot show the figure.\n",
      "  fig.show()\n"
     ]
    },
    {
     "name": "stdout",
     "output_type": "stream",
     "text": [
      "Elapsed time: 472.85 seconds\n",
      "... SUCCESS.\n",
      "Record: 320, started at 29/03/2022, 18:39:03\n",
      "Previous median lapse time: 461.29 seconds\n",
      "Processing J03142+286 star (TIC: 35025268)...\n",
      "filename: ../data/CARMENES_GTO_TESS_lc/lightcurves/J03142+286/J03142+286_TESS_TIC35025268_S18.fits\n"
     ]
    },
    {
     "name": "stderr",
     "output_type": "stream",
     "text": [
      "WARNING: The unit 'electron / s' could not be saved in native FITS format and cannot be recovered in reading. If pyyaml is installed, it can roundtrip within astropy by using QTable both to write and read back, though one has to enable the unit before reading. [astropy.io.fits.convenience]\n",
      "WARNING: Meta-data keyword BITPIX will be ignored since it conflicts with a FITS reserved keyword [astropy.io.fits.convenience]\n",
      "WARNING: Meta-data keyword NAXIS will be ignored since it conflicts with a FITS reserved keyword [astropy.io.fits.convenience]\n",
      "WARNING: VerifyWarning: Keyword name 'FLUX_ORIGIN' is greater than 8 characters or contains characters not allowed by the FITS standard; a HIERARCH card will be created. [astropy.io.fits.card]\n",
      "WARNING: VerifyWarning: Keyword name 'QUALITY_BITMASK' is greater than 8 characters or contains characters not allowed by the FITS standard; a HIERARCH card will be created. [astropy.io.fits.card]\n",
      "WARNING: VerifyWarning: Keyword name 'QUALITY_MASK' is greater than 8 characters or contains characters not allowed by the FITS standard; a HIERARCH card will be created. [astropy.io.fits.card]\n",
      "WARNING: Attribute `QUALITY_MASK` of type <class 'numpy.ndarray'> cannot be added to FITS Header - skipping [astropy.io.fits.convenience]\n",
      "WARNING: The unit 'electron2 / s2' could not be saved in native FITS format and cannot be recovered in reading. If pyyaml is installed, it can roundtrip within astropy by using QTable both to write and read back, though one has to enable the unit before reading. [astropy.io.fits.convenience]\n",
      "c:\\users\\ciroe\\gls.py:642: UserWarning: Matplotlib is currently using module://ipykernel.pylab.backend_inline, which is a non-GUI backend, so cannot show the figure.\n",
      "  fig.show()\n"
     ]
    },
    {
     "name": "stdout",
     "output_type": "stream",
     "text": [
      "Elapsed time: 31.82 seconds\n",
      "... SUCCESS.\n",
      "Record: 321, started at 29/03/2022, 18:39:35\n",
      "Previous median lapse time: 456.39 seconds\n",
      "Processing J03133+047 star (TIC: 328465904)...\n",
      "filename: ../data/CARMENES_GTO_TESS_lc/lightcurves/J03133+047/J03133+047_TESS_TIC328465904_S04.fits\n"
     ]
    },
    {
     "name": "stderr",
     "output_type": "stream",
     "text": [
      "WARNING: The unit 'electron / s' could not be saved in native FITS format and cannot be recovered in reading. If pyyaml is installed, it can roundtrip within astropy by using QTable both to write and read back, though one has to enable the unit before reading. [astropy.io.fits.convenience]\n",
      "WARNING: Meta-data keyword BITPIX will be ignored since it conflicts with a FITS reserved keyword [astropy.io.fits.convenience]\n",
      "WARNING: Meta-data keyword NAXIS will be ignored since it conflicts with a FITS reserved keyword [astropy.io.fits.convenience]\n",
      "WARNING: VerifyWarning: Keyword name 'FLUX_ORIGIN' is greater than 8 characters or contains characters not allowed by the FITS standard; a HIERARCH card will be created. [astropy.io.fits.card]\n",
      "WARNING: VerifyWarning: Keyword name 'QUALITY_BITMASK' is greater than 8 characters or contains characters not allowed by the FITS standard; a HIERARCH card will be created. [astropy.io.fits.card]\n",
      "WARNING: VerifyWarning: Keyword name 'QUALITY_MASK' is greater than 8 characters or contains characters not allowed by the FITS standard; a HIERARCH card will be created. [astropy.io.fits.card]\n",
      "WARNING: Attribute `QUALITY_MASK` of type <class 'numpy.ndarray'> cannot be added to FITS Header - skipping [astropy.io.fits.convenience]\n",
      "WARNING: The unit 'electron2 / s2' could not be saved in native FITS format and cannot be recovered in reading. If pyyaml is installed, it can roundtrip within astropy by using QTable both to write and read back, though one has to enable the unit before reading. [astropy.io.fits.convenience]\n",
      "c:\\users\\ciroe\\gls.py:642: UserWarning: Matplotlib is currently using module://ipykernel.pylab.backend_inline, which is a non-GUI backend, so cannot show the figure.\n",
      "  fig.show()\n"
     ]
    },
    {
     "name": "stdout",
     "output_type": "stream",
     "text": [
      "Elapsed time: 466.49 seconds\n",
      "... SUCCESS.\n",
      "Record: 322, started at 29/03/2022, 18:47:22\n",
      "Previous median lapse time: 461.29 seconds\n",
      "Processing J03090+100 star (TIC: 365369408)...\n",
      "filename: ../data/CARMENES_GTO_TESS_lc/lightcurves/J03090+100/J03090+100_TESS_TIC365369408_S31.fits\n"
     ]
    },
    {
     "name": "stderr",
     "output_type": "stream",
     "text": [
      "WARNING: The unit 'electron / s' could not be saved in native FITS format and cannot be recovered in reading. If pyyaml is installed, it can roundtrip within astropy by using QTable both to write and read back, though one has to enable the unit before reading. [astropy.io.fits.convenience]\n",
      "WARNING: Meta-data keyword BITPIX will be ignored since it conflicts with a FITS reserved keyword [astropy.io.fits.convenience]\n",
      "WARNING: Meta-data keyword NAXIS will be ignored since it conflicts with a FITS reserved keyword [astropy.io.fits.convenience]\n",
      "WARNING: VerifyWarning: Keyword name 'FLUX_ORIGIN' is greater than 8 characters or contains characters not allowed by the FITS standard; a HIERARCH card will be created. [astropy.io.fits.card]\n",
      "WARNING: VerifyWarning: Keyword name 'QUALITY_BITMASK' is greater than 8 characters or contains characters not allowed by the FITS standard; a HIERARCH card will be created. [astropy.io.fits.card]\n",
      "WARNING: VerifyWarning: Keyword name 'QUALITY_MASK' is greater than 8 characters or contains characters not allowed by the FITS standard; a HIERARCH card will be created. [astropy.io.fits.card]\n",
      "WARNING: Attribute `QUALITY_MASK` of type <class 'numpy.ndarray'> cannot be added to FITS Header - skipping [astropy.io.fits.convenience]\n",
      "WARNING: The unit 'electron2 / s2' could not be saved in native FITS format and cannot be recovered in reading. If pyyaml is installed, it can roundtrip within astropy by using QTable both to write and read back, though one has to enable the unit before reading. [astropy.io.fits.convenience]\n",
      "c:\\users\\ciroe\\gls.py:642: UserWarning: Matplotlib is currently using module://ipykernel.pylab.backend_inline, which is a non-GUI backend, so cannot show the figure.\n",
      "  fig.show()\n"
     ]
    },
    {
     "name": "stdout",
     "output_type": "stream",
     "text": [
      "Elapsed time: 106.52 seconds\n",
      "... SUCCESS.\n",
      "Record: 323, started at 29/03/2022, 18:49:08\n",
      "Previous median lapse time: 456.39 seconds\n",
      "Processing J02573+765 star (TIC: 396562848)...\n",
      "filename: ../data/CARMENES_GTO_TESS_lc/lightcurves/J02573+765/J02573+765_TESS_TIC396562848_S18.fits\n"
     ]
    },
    {
     "name": "stderr",
     "output_type": "stream",
     "text": [
      "WARNING: The unit 'electron / s' could not be saved in native FITS format and cannot be recovered in reading. If pyyaml is installed, it can roundtrip within astropy by using QTable both to write and read back, though one has to enable the unit before reading. [astropy.io.fits.convenience]\n",
      "WARNING: Meta-data keyword BITPIX will be ignored since it conflicts with a FITS reserved keyword [astropy.io.fits.convenience]\n",
      "WARNING: Meta-data keyword NAXIS will be ignored since it conflicts with a FITS reserved keyword [astropy.io.fits.convenience]\n",
      "WARNING: VerifyWarning: Keyword name 'FLUX_ORIGIN' is greater than 8 characters or contains characters not allowed by the FITS standard; a HIERARCH card will be created. [astropy.io.fits.card]\n",
      "WARNING: VerifyWarning: Keyword name 'QUALITY_BITMASK' is greater than 8 characters or contains characters not allowed by the FITS standard; a HIERARCH card will be created. [astropy.io.fits.card]\n",
      "WARNING: VerifyWarning: Keyword name 'QUALITY_MASK' is greater than 8 characters or contains characters not allowed by the FITS standard; a HIERARCH card will be created. [astropy.io.fits.card]\n",
      "WARNING: Attribute `QUALITY_MASK` of type <class 'numpy.ndarray'> cannot be added to FITS Header - skipping [astropy.io.fits.convenience]\n",
      "WARNING: The unit 'electron2 / s2' could not be saved in native FITS format and cannot be recovered in reading. If pyyaml is installed, it can roundtrip within astropy by using QTable both to write and read back, though one has to enable the unit before reading. [astropy.io.fits.convenience]\n",
      "c:\\users\\ciroe\\gls.py:642: UserWarning: Matplotlib is currently using module://ipykernel.pylab.backend_inline, which is a non-GUI backend, so cannot show the figure.\n",
      "  fig.show()\n"
     ]
    },
    {
     "name": "stdout",
     "output_type": "stream",
     "text": [
      "Elapsed time: 478.35 seconds\n",
      "... SUCCESS.\n",
      "Record: 324, started at 29/03/2022, 18:57:07\n",
      "Previous median lapse time: 461.29 seconds\n",
      "Processing J02560-006 star (TIC: 439874904)...\n",
      "filename: ../data/CARMENES_GTO_TESS_lc/lightcurves/J02560-006/J02560-006_TESS_TIC439874904_S31.fits\n"
     ]
    },
    {
     "name": "stderr",
     "output_type": "stream",
     "text": [
      "WARNING: The unit 'electron / s' could not be saved in native FITS format and cannot be recovered in reading. If pyyaml is installed, it can roundtrip within astropy by using QTable both to write and read back, though one has to enable the unit before reading. [astropy.io.fits.convenience]\n",
      "WARNING: Meta-data keyword BITPIX will be ignored since it conflicts with a FITS reserved keyword [astropy.io.fits.convenience]\n",
      "WARNING: Meta-data keyword NAXIS will be ignored since it conflicts with a FITS reserved keyword [astropy.io.fits.convenience]\n",
      "WARNING: VerifyWarning: Keyword name 'FLUX_ORIGIN' is greater than 8 characters or contains characters not allowed by the FITS standard; a HIERARCH card will be created. [astropy.io.fits.card]\n",
      "WARNING: VerifyWarning: Keyword name 'QUALITY_BITMASK' is greater than 8 characters or contains characters not allowed by the FITS standard; a HIERARCH card will be created. [astropy.io.fits.card]\n",
      "WARNING: VerifyWarning: Keyword name 'QUALITY_MASK' is greater than 8 characters or contains characters not allowed by the FITS standard; a HIERARCH card will be created. [astropy.io.fits.card]\n",
      "WARNING: Attribute `QUALITY_MASK` of type <class 'numpy.ndarray'> cannot be added to FITS Header - skipping [astropy.io.fits.convenience]\n",
      "WARNING: The unit 'electron2 / s2' could not be saved in native FITS format and cannot be recovered in reading. If pyyaml is installed, it can roundtrip within astropy by using QTable both to write and read back, though one has to enable the unit before reading. [astropy.io.fits.convenience]\n",
      "c:\\users\\ciroe\\gls.py:642: UserWarning: Matplotlib is currently using module://ipykernel.pylab.backend_inline, which is a non-GUI backend, so cannot show the figure.\n",
      "  fig.show()\n"
     ]
    },
    {
     "name": "stdout",
     "output_type": "stream",
     "text": [
      "Elapsed time: 106.61 seconds\n",
      "... SUCCESS.\n",
      "Record: 325, started at 29/03/2022, 18:58:53\n",
      "Previous median lapse time: 456.39 seconds\n",
      "Processing J02530+168 star (TIC: 257870150)...\n",
      "filename: nan\n",
      "--- Some ERROR happened with record #325, J02530+168 star. Error=Not recognized as a supported data product:\n",
      "nan\n",
      "This file may be corrupt due to an interrupted download. Please remove it from your disk and try again.\n",
      "Elapsed time: 0.00 seconds\n",
      "Record: 326, started at 29/03/2022, 18:58:53\n",
      "Previous median lapse time: 454.04 seconds\n",
      "Processing J02519+224 star (TIC: 371422484)...\n",
      "filename: nan\n",
      "--- Some ERROR happened with record #326, J02519+224 star. Error=Not recognized as a supported data product:\n",
      "nan\n",
      "This file may be corrupt due to an interrupted download. Please remove it from your disk and try again.\n",
      "Elapsed time: 0.00 seconds\n",
      "Record: 327, started at 29/03/2022, 18:58:53\n",
      "Previous median lapse time: 451.70 seconds\n",
      "Processing J02486+621 star (TIC: 51024887)...\n",
      "filename: ../data/CARMENES_GTO_TESS_lc/lightcurves/J02486+621/J02486+621_TESS_TIC51024887_S18.fits\n"
     ]
    },
    {
     "name": "stderr",
     "output_type": "stream",
     "text": [
      "WARNING: The unit 'electron / s' could not be saved in native FITS format and cannot be recovered in reading. If pyyaml is installed, it can roundtrip within astropy by using QTable both to write and read back, though one has to enable the unit before reading. [astropy.io.fits.convenience]\n",
      "WARNING: Meta-data keyword BITPIX will be ignored since it conflicts with a FITS reserved keyword [astropy.io.fits.convenience]\n",
      "WARNING: Meta-data keyword NAXIS will be ignored since it conflicts with a FITS reserved keyword [astropy.io.fits.convenience]\n",
      "WARNING: VerifyWarning: Keyword name 'FLUX_ORIGIN' is greater than 8 characters or contains characters not allowed by the FITS standard; a HIERARCH card will be created. [astropy.io.fits.card]\n",
      "WARNING: VerifyWarning: Keyword name 'QUALITY_BITMASK' is greater than 8 characters or contains characters not allowed by the FITS standard; a HIERARCH card will be created. [astropy.io.fits.card]\n",
      "WARNING: VerifyWarning: Keyword name 'QUALITY_MASK' is greater than 8 characters or contains characters not allowed by the FITS standard; a HIERARCH card will be created. [astropy.io.fits.card]\n",
      "WARNING: Attribute `QUALITY_MASK` of type <class 'numpy.ndarray'> cannot be added to FITS Header - skipping [astropy.io.fits.convenience]\n",
      "WARNING: The unit 'electron2 / s2' could not be saved in native FITS format and cannot be recovered in reading. If pyyaml is installed, it can roundtrip within astropy by using QTable both to write and read back, though one has to enable the unit before reading. [astropy.io.fits.convenience]\n",
      "c:\\users\\ciroe\\gls.py:642: UserWarning: Matplotlib is currently using module://ipykernel.pylab.backend_inline, which is a non-GUI backend, so cannot show the figure.\n",
      "  fig.show()\n"
     ]
    },
    {
     "name": "stdout",
     "output_type": "stream",
     "text": [
      "Elapsed time: 457.51 seconds\n",
      "... SUCCESS.\n",
      "Record: 328, started at 29/03/2022, 19:06:31\n",
      "Previous median lapse time: 454.04 seconds\n",
      "Processing J02465+164 star (TIC: 218088471)...\n",
      "filename: nan\n",
      "--- Some ERROR happened with record #328, J02465+164 star. Error=Not recognized as a supported data product:\n",
      "nan\n",
      "This file may be corrupt due to an interrupted download. Please remove it from your disk and try again.\n",
      "Elapsed time: 0.00 seconds\n",
      "Record: 329, started at 29/03/2022, 19:06:31\n",
      "Previous median lapse time: 451.70 seconds\n",
      "Processing J02442+255 star (TIC: 436856183)...\n",
      "filename: ../data/CARMENES_GTO_TESS_lc/lightcurves/J02442+255/J02442+255_TESS_TIC436856183_S18.fits\n"
     ]
    },
    {
     "name": "stderr",
     "output_type": "stream",
     "text": [
      "WARNING: The unit 'electron / s' could not be saved in native FITS format and cannot be recovered in reading. If pyyaml is installed, it can roundtrip within astropy by using QTable both to write and read back, though one has to enable the unit before reading. [astropy.io.fits.convenience]\n",
      "WARNING: Meta-data keyword BITPIX will be ignored since it conflicts with a FITS reserved keyword [astropy.io.fits.convenience]\n",
      "WARNING: Meta-data keyword NAXIS will be ignored since it conflicts with a FITS reserved keyword [astropy.io.fits.convenience]\n",
      "WARNING: VerifyWarning: Keyword name 'FLUX_ORIGIN' is greater than 8 characters or contains characters not allowed by the FITS standard; a HIERARCH card will be created. [astropy.io.fits.card]\n",
      "WARNING: VerifyWarning: Keyword name 'QUALITY_BITMASK' is greater than 8 characters or contains characters not allowed by the FITS standard; a HIERARCH card will be created. [astropy.io.fits.card]\n",
      "WARNING: VerifyWarning: Keyword name 'QUALITY_MASK' is greater than 8 characters or contains characters not allowed by the FITS standard; a HIERARCH card will be created. [astropy.io.fits.card]\n",
      "WARNING: Attribute `QUALITY_MASK` of type <class 'numpy.ndarray'> cannot be added to FITS Header - skipping [astropy.io.fits.convenience]\n",
      "WARNING: The unit 'electron2 / s2' could not be saved in native FITS format and cannot be recovered in reading. If pyyaml is installed, it can roundtrip within astropy by using QTable both to write and read back, though one has to enable the unit before reading. [astropy.io.fits.convenience]\n",
      "c:\\users\\ciroe\\gls.py:642: UserWarning: Matplotlib is currently using module://ipykernel.pylab.backend_inline, which is a non-GUI backend, so cannot show the figure.\n",
      "  fig.show()\n"
     ]
    },
    {
     "name": "stdout",
     "output_type": "stream",
     "text": [
      "Elapsed time: 479.56 seconds\n",
      "... SUCCESS.\n",
      "Record: 330, started at 29/03/2022, 19:14:31\n",
      "Previous median lapse time: 454.04 seconds\n",
      "Processing J02362+068 star (TIC: 278962913)...\n",
      "filename: ../data/CARMENES_GTO_TESS_lc/lightcurves/J02362+068/J02362+068_TESS_TIC278962913_S31.fits\n"
     ]
    },
    {
     "name": "stderr",
     "output_type": "stream",
     "text": [
      "WARNING: The unit 'electron / s' could not be saved in native FITS format and cannot be recovered in reading. If pyyaml is installed, it can roundtrip within astropy by using QTable both to write and read back, though one has to enable the unit before reading. [astropy.io.fits.convenience]\n",
      "WARNING: Meta-data keyword BITPIX will be ignored since it conflicts with a FITS reserved keyword [astropy.io.fits.convenience]\n",
      "WARNING: Meta-data keyword NAXIS will be ignored since it conflicts with a FITS reserved keyword [astropy.io.fits.convenience]\n",
      "WARNING: VerifyWarning: Keyword name 'FLUX_ORIGIN' is greater than 8 characters or contains characters not allowed by the FITS standard; a HIERARCH card will be created. [astropy.io.fits.card]\n",
      "WARNING: VerifyWarning: Keyword name 'QUALITY_BITMASK' is greater than 8 characters or contains characters not allowed by the FITS standard; a HIERARCH card will be created. [astropy.io.fits.card]\n",
      "WARNING: VerifyWarning: Keyword name 'QUALITY_MASK' is greater than 8 characters or contains characters not allowed by the FITS standard; a HIERARCH card will be created. [astropy.io.fits.card]\n",
      "WARNING: Attribute `QUALITY_MASK` of type <class 'numpy.ndarray'> cannot be added to FITS Header - skipping [astropy.io.fits.convenience]\n",
      "WARNING: The unit 'electron2 / s2' could not be saved in native FITS format and cannot be recovered in reading. If pyyaml is installed, it can roundtrip within astropy by using QTable both to write and read back, though one has to enable the unit before reading. [astropy.io.fits.convenience]\n",
      "c:\\users\\ciroe\\gls.py:642: UserWarning: Matplotlib is currently using module://ipykernel.pylab.backend_inline, which is a non-GUI backend, so cannot show the figure.\n",
      "  fig.show()\n"
     ]
    },
    {
     "name": "stdout",
     "output_type": "stream",
     "text": [
      "Elapsed time: 523.02 seconds\n",
      "... SUCCESS.\n",
      "Record: 331, started at 29/03/2022, 19:23:14\n",
      "Previous median lapse time: 456.39 seconds\n",
      "Processing J02358+202 star (TIC: 247042708)...\n",
      "filename: nan\n",
      "--- Some ERROR happened with record #331, J02358+202 star. Error=Not recognized as a supported data product:\n",
      "nan\n",
      "This file may be corrupt due to an interrupted download. Please remove it from your disk and try again.\n",
      "Elapsed time: 0.00 seconds\n",
      "Record: 332, started at 29/03/2022, 19:23:14\n",
      "Previous median lapse time: 454.04 seconds\n",
      "Processing J02336+249 star (TIC: 22750743)...\n",
      "filename: ../data/CARMENES_GTO_TESS_lc/lightcurves/J02336+249/J02336+249_TESS_TIC22750743_S18.fits\n"
     ]
    },
    {
     "name": "stderr",
     "output_type": "stream",
     "text": [
      "WARNING: The unit 'electron / s' could not be saved in native FITS format and cannot be recovered in reading. If pyyaml is installed, it can roundtrip within astropy by using QTable both to write and read back, though one has to enable the unit before reading. [astropy.io.fits.convenience]\n",
      "WARNING: Meta-data keyword BITPIX will be ignored since it conflicts with a FITS reserved keyword [astropy.io.fits.convenience]\n",
      "WARNING: Meta-data keyword NAXIS will be ignored since it conflicts with a FITS reserved keyword [astropy.io.fits.convenience]\n",
      "WARNING: VerifyWarning: Keyword name 'FLUX_ORIGIN' is greater than 8 characters or contains characters not allowed by the FITS standard; a HIERARCH card will be created. [astropy.io.fits.card]\n",
      "WARNING: VerifyWarning: Keyword name 'QUALITY_BITMASK' is greater than 8 characters or contains characters not allowed by the FITS standard; a HIERARCH card will be created. [astropy.io.fits.card]\n",
      "WARNING: VerifyWarning: Keyword name 'QUALITY_MASK' is greater than 8 characters or contains characters not allowed by the FITS standard; a HIERARCH card will be created. [astropy.io.fits.card]\n",
      "WARNING: Attribute `QUALITY_MASK` of type <class 'numpy.ndarray'> cannot be added to FITS Header - skipping [astropy.io.fits.convenience]\n",
      "WARNING: The unit 'electron2 / s2' could not be saved in native FITS format and cannot be recovered in reading. If pyyaml is installed, it can roundtrip within astropy by using QTable both to write and read back, though one has to enable the unit before reading. [astropy.io.fits.convenience]\n",
      "c:\\users\\ciroe\\gls.py:642: UserWarning: Matplotlib is currently using module://ipykernel.pylab.backend_inline, which is a non-GUI backend, so cannot show the figure.\n",
      "  fig.show()\n"
     ]
    },
    {
     "name": "stdout",
     "output_type": "stream",
     "text": [
      "Elapsed time: 499.12 seconds\n",
      "... SUCCESS.\n",
      "Record: 333, started at 29/03/2022, 19:31:33\n",
      "Previous median lapse time: 456.39 seconds\n",
      "Processing J02222+478 star (TIC: 409527090)...\n",
      "filename: ../data/CARMENES_GTO_TESS_lc/lightcurves/J02222+478/J02222+478_TESS_TIC409527090_S18.fits\n"
     ]
    },
    {
     "name": "stderr",
     "output_type": "stream",
     "text": [
      "WARNING: The unit 'electron / s' could not be saved in native FITS format and cannot be recovered in reading. If pyyaml is installed, it can roundtrip within astropy by using QTable both to write and read back, though one has to enable the unit before reading. [astropy.io.fits.convenience]\n",
      "WARNING: Meta-data keyword BITPIX will be ignored since it conflicts with a FITS reserved keyword [astropy.io.fits.convenience]\n",
      "WARNING: Meta-data keyword NAXIS will be ignored since it conflicts with a FITS reserved keyword [astropy.io.fits.convenience]\n",
      "WARNING: VerifyWarning: Keyword name 'FLUX_ORIGIN' is greater than 8 characters or contains characters not allowed by the FITS standard; a HIERARCH card will be created. [astropy.io.fits.card]\n",
      "WARNING: VerifyWarning: Keyword name 'QUALITY_BITMASK' is greater than 8 characters or contains characters not allowed by the FITS standard; a HIERARCH card will be created. [astropy.io.fits.card]\n",
      "WARNING: VerifyWarning: Keyword name 'QUALITY_MASK' is greater than 8 characters or contains characters not allowed by the FITS standard; a HIERARCH card will be created. [astropy.io.fits.card]\n",
      "WARNING: Attribute `QUALITY_MASK` of type <class 'numpy.ndarray'> cannot be added to FITS Header - skipping [astropy.io.fits.convenience]\n",
      "WARNING: The unit 'electron2 / s2' could not be saved in native FITS format and cannot be recovered in reading. If pyyaml is installed, it can roundtrip within astropy by using QTable both to write and read back, though one has to enable the unit before reading. [astropy.io.fits.convenience]\n",
      "c:\\users\\ciroe\\gls.py:642: UserWarning: Matplotlib is currently using module://ipykernel.pylab.backend_inline, which is a non-GUI backend, so cannot show the figure.\n",
      "  fig.show()\n"
     ]
    },
    {
     "name": "stdout",
     "output_type": "stream",
     "text": [
      "Elapsed time: 520.19 seconds\n",
      "... SUCCESS.\n",
      "Record: 334, started at 29/03/2022, 19:40:13\n",
      "Previous median lapse time: 456.95 seconds\n",
      "Processing J02164+135 star (TIC: 408587159)...\n",
      "filename: nan\n",
      "--- Some ERROR happened with record #334, J02164+135 star. Error=Not recognized as a supported data product:\n",
      "nan\n",
      "This file may be corrupt due to an interrupted download. Please remove it from your disk and try again.\n",
      "Elapsed time: 0.00 seconds\n",
      "Record: 335, started at 29/03/2022, 19:40:13\n",
      "Previous median lapse time: 456.39 seconds\n",
      "Processing J02123+035 star (TIC: 270415707)...\n",
      "filename: ../data/CARMENES_GTO_TESS_lc/lightcurves/J02123+035/J02123+035_TESS_TIC270415707_S04.fits\n"
     ]
    },
    {
     "name": "stderr",
     "output_type": "stream",
     "text": [
      "WARNING: The unit 'electron / s' could not be saved in native FITS format and cannot be recovered in reading. If pyyaml is installed, it can roundtrip within astropy by using QTable both to write and read back, though one has to enable the unit before reading. [astropy.io.fits.convenience]\n",
      "WARNING: Meta-data keyword BITPIX will be ignored since it conflicts with a FITS reserved keyword [astropy.io.fits.convenience]\n",
      "WARNING: Meta-data keyword NAXIS will be ignored since it conflicts with a FITS reserved keyword [astropy.io.fits.convenience]\n",
      "WARNING: VerifyWarning: Keyword name 'FLUX_ORIGIN' is greater than 8 characters or contains characters not allowed by the FITS standard; a HIERARCH card will be created. [astropy.io.fits.card]\n",
      "WARNING: VerifyWarning: Keyword name 'QUALITY_BITMASK' is greater than 8 characters or contains characters not allowed by the FITS standard; a HIERARCH card will be created. [astropy.io.fits.card]\n",
      "WARNING: VerifyWarning: Keyword name 'QUALITY_MASK' is greater than 8 characters or contains characters not allowed by the FITS standard; a HIERARCH card will be created. [astropy.io.fits.card]\n",
      "WARNING: Attribute `QUALITY_MASK` of type <class 'numpy.ndarray'> cannot be added to FITS Header - skipping [astropy.io.fits.convenience]\n",
      "WARNING: The unit 'electron2 / s2' could not be saved in native FITS format and cannot be recovered in reading. If pyyaml is installed, it can roundtrip within astropy by using QTable both to write and read back, though one has to enable the unit before reading. [astropy.io.fits.convenience]\n",
      "c:\\users\\ciroe\\gls.py:642: UserWarning: Matplotlib is currently using module://ipykernel.pylab.backend_inline, which is a non-GUI backend, so cannot show the figure.\n",
      "  fig.show()\n"
     ]
    },
    {
     "name": "stdout",
     "output_type": "stream",
     "text": [
      "Elapsed time: 519.60 seconds\n",
      "... SUCCESS.\n",
      "Record: 336, started at 29/03/2022, 19:48:53\n",
      "Previous median lapse time: 456.95 seconds\n",
      "Processing J02088+494 star (TIC: 250602194)...\n",
      "filename: ../data/CARMENES_GTO_TESS_lc/lightcurves/J02088+494/J02088+494_TESS_TIC250602194_S18.fits\n"
     ]
    },
    {
     "name": "stderr",
     "output_type": "stream",
     "text": [
      "WARNING: The unit 'electron / s' could not be saved in native FITS format and cannot be recovered in reading. If pyyaml is installed, it can roundtrip within astropy by using QTable both to write and read back, though one has to enable the unit before reading. [astropy.io.fits.convenience]\n",
      "WARNING: Meta-data keyword BITPIX will be ignored since it conflicts with a FITS reserved keyword [astropy.io.fits.convenience]\n",
      "WARNING: Meta-data keyword NAXIS will be ignored since it conflicts with a FITS reserved keyword [astropy.io.fits.convenience]\n",
      "WARNING: VerifyWarning: Keyword name 'FLUX_ORIGIN' is greater than 8 characters or contains characters not allowed by the FITS standard; a HIERARCH card will be created. [astropy.io.fits.card]\n",
      "WARNING: VerifyWarning: Keyword name 'QUALITY_BITMASK' is greater than 8 characters or contains characters not allowed by the FITS standard; a HIERARCH card will be created. [astropy.io.fits.card]\n",
      "WARNING: VerifyWarning: Keyword name 'QUALITY_MASK' is greater than 8 characters or contains characters not allowed by the FITS standard; a HIERARCH card will be created. [astropy.io.fits.card]\n",
      "WARNING: Attribute `QUALITY_MASK` of type <class 'numpy.ndarray'> cannot be added to FITS Header - skipping [astropy.io.fits.convenience]\n",
      "WARNING: The unit 'electron2 / s2' could not be saved in native FITS format and cannot be recovered in reading. If pyyaml is installed, it can roundtrip within astropy by using QTable both to write and read back, though one has to enable the unit before reading. [astropy.io.fits.convenience]\n",
      "c:\\users\\ciroe\\gls.py:642: UserWarning: Matplotlib is currently using module://ipykernel.pylab.backend_inline, which is a non-GUI backend, so cannot show the figure.\n",
      "  fig.show()\n"
     ]
    },
    {
     "name": "stdout",
     "output_type": "stream",
     "text": [
      "Elapsed time: 506.08 seconds\n",
      "... SUCCESS.\n",
      "Record: 337, started at 29/03/2022, 19:57:19\n",
      "Previous median lapse time: 457.51 seconds\n",
      "Processing J02070+496 star (TIC: 250559611)...\n",
      "filename: ../data/CARMENES_GTO_TESS_lc/lightcurves/J02070+496/J02070+496_TESS_TIC250559611_S18.fits\n"
     ]
    },
    {
     "name": "stderr",
     "output_type": "stream",
     "text": [
      "WARNING: The unit 'electron / s' could not be saved in native FITS format and cannot be recovered in reading. If pyyaml is installed, it can roundtrip within astropy by using QTable both to write and read back, though one has to enable the unit before reading. [astropy.io.fits.convenience]\n",
      "WARNING: Meta-data keyword BITPIX will be ignored since it conflicts with a FITS reserved keyword [astropy.io.fits.convenience]\n",
      "WARNING: Meta-data keyword NAXIS will be ignored since it conflicts with a FITS reserved keyword [astropy.io.fits.convenience]\n",
      "WARNING: VerifyWarning: Keyword name 'FLUX_ORIGIN' is greater than 8 characters or contains characters not allowed by the FITS standard; a HIERARCH card will be created. [astropy.io.fits.card]\n",
      "WARNING: VerifyWarning: Keyword name 'QUALITY_BITMASK' is greater than 8 characters or contains characters not allowed by the FITS standard; a HIERARCH card will be created. [astropy.io.fits.card]\n",
      "WARNING: VerifyWarning: Keyword name 'QUALITY_MASK' is greater than 8 characters or contains characters not allowed by the FITS standard; a HIERARCH card will be created. [astropy.io.fits.card]\n",
      "WARNING: Attribute `QUALITY_MASK` of type <class 'numpy.ndarray'> cannot be added to FITS Header - skipping [astropy.io.fits.convenience]\n",
      "WARNING: The unit 'electron2 / s2' could not be saved in native FITS format and cannot be recovered in reading. If pyyaml is installed, it can roundtrip within astropy by using QTable both to write and read back, though one has to enable the unit before reading. [astropy.io.fits.convenience]\n",
      "c:\\users\\ciroe\\gls.py:642: UserWarning: Matplotlib is currently using module://ipykernel.pylab.backend_inline, which is a non-GUI backend, so cannot show the figure.\n",
      "  fig.show()\n"
     ]
    },
    {
     "name": "stdout",
     "output_type": "stream",
     "text": [
      "Elapsed time: 33.14 seconds\n",
      "... SUCCESS.\n",
      "Record: 338, started at 29/03/2022, 19:57:52\n",
      "Previous median lapse time: 456.95 seconds\n",
      "Processing J02022+103 star (TIC: 347509900)...\n",
      "filename: nan\n",
      "--- Some ERROR happened with record #338, J02022+103 star. Error=Not recognized as a supported data product:\n",
      "nan\n",
      "This file may be corrupt due to an interrupted download. Please remove it from your disk and try again.\n",
      "Elapsed time: 0.00 seconds\n",
      "Record: 339, started at 29/03/2022, 19:57:52\n",
      "Previous median lapse time: 456.39 seconds\n",
      "Processing J02015+637 star (TIC: 374029463)...\n",
      "filename: ../data/CARMENES_GTO_TESS_lc/lightcurves/J02015+637/J02015+637_TESS_TIC374029463_S18.fits\n"
     ]
    },
    {
     "name": "stderr",
     "output_type": "stream",
     "text": [
      "WARNING: The unit 'electron / s' could not be saved in native FITS format and cannot be recovered in reading. If pyyaml is installed, it can roundtrip within astropy by using QTable both to write and read back, though one has to enable the unit before reading. [astropy.io.fits.convenience]\n",
      "WARNING: Meta-data keyword BITPIX will be ignored since it conflicts with a FITS reserved keyword [astropy.io.fits.convenience]\n",
      "WARNING: Meta-data keyword NAXIS will be ignored since it conflicts with a FITS reserved keyword [astropy.io.fits.convenience]\n",
      "WARNING: VerifyWarning: Keyword name 'FLUX_ORIGIN' is greater than 8 characters or contains characters not allowed by the FITS standard; a HIERARCH card will be created. [astropy.io.fits.card]\n",
      "WARNING: VerifyWarning: Keyword name 'QUALITY_BITMASK' is greater than 8 characters or contains characters not allowed by the FITS standard; a HIERARCH card will be created. [astropy.io.fits.card]\n",
      "WARNING: VerifyWarning: Keyword name 'QUALITY_MASK' is greater than 8 characters or contains characters not allowed by the FITS standard; a HIERARCH card will be created. [astropy.io.fits.card]\n",
      "WARNING: Attribute `QUALITY_MASK` of type <class 'numpy.ndarray'> cannot be added to FITS Header - skipping [astropy.io.fits.convenience]\n",
      "WARNING: The unit 'electron2 / s2' could not be saved in native FITS format and cannot be recovered in reading. If pyyaml is installed, it can roundtrip within astropy by using QTable both to write and read back, though one has to enable the unit before reading. [astropy.io.fits.convenience]\n",
      "c:\\users\\ciroe\\gls.py:642: UserWarning: Matplotlib is currently using module://ipykernel.pylab.backend_inline, which is a non-GUI backend, so cannot show the figure.\n",
      "  fig.show()\n"
     ]
    },
    {
     "name": "stdout",
     "output_type": "stream",
     "text": [
      "Elapsed time: 529.93 seconds\n",
      "... SUCCESS.\n",
      "Record: 340, started at 29/03/2022, 20:06:42\n",
      "Previous median lapse time: 456.95 seconds\n",
      "Processing J02002+130 star (TIC: 404715018)...\n",
      "filename: nan\n",
      "--- Some ERROR happened with record #340, J02002+130 star. Error=Not recognized as a supported data product:\n",
      "nan\n",
      "This file may be corrupt due to an interrupted download. Please remove it from your disk and try again.\n",
      "Elapsed time: 0.00 seconds\n",
      "Record: 341, started at 29/03/2022, 20:06:42\n",
      "Previous median lapse time: 456.39 seconds\n",
      "Processing J01550+379 star (TIC: 67390998)...\n",
      "filename: ../data/CARMENES_GTO_TESS_lc/lightcurves/J01550+379/J01550+379_TESS_TIC67390998_S18.fits\n"
     ]
    },
    {
     "name": "stderr",
     "output_type": "stream",
     "text": [
      "WARNING: The unit 'electron / s' could not be saved in native FITS format and cannot be recovered in reading. If pyyaml is installed, it can roundtrip within astropy by using QTable both to write and read back, though one has to enable the unit before reading. [astropy.io.fits.convenience]\n",
      "WARNING: Meta-data keyword BITPIX will be ignored since it conflicts with a FITS reserved keyword [astropy.io.fits.convenience]\n",
      "WARNING: Meta-data keyword NAXIS will be ignored since it conflicts with a FITS reserved keyword [astropy.io.fits.convenience]\n",
      "WARNING: VerifyWarning: Keyword name 'FLUX_ORIGIN' is greater than 8 characters or contains characters not allowed by the FITS standard; a HIERARCH card will be created. [astropy.io.fits.card]\n",
      "WARNING: VerifyWarning: Keyword name 'QUALITY_BITMASK' is greater than 8 characters or contains characters not allowed by the FITS standard; a HIERARCH card will be created. [astropy.io.fits.card]\n",
      "WARNING: VerifyWarning: Keyword name 'QUALITY_MASK' is greater than 8 characters or contains characters not allowed by the FITS standard; a HIERARCH card will be created. [astropy.io.fits.card]\n",
      "WARNING: Attribute `QUALITY_MASK` of type <class 'numpy.ndarray'> cannot be added to FITS Header - skipping [astropy.io.fits.convenience]\n",
      "WARNING: The unit 'electron2 / s2' could not be saved in native FITS format and cannot be recovered in reading. If pyyaml is installed, it can roundtrip within astropy by using QTable both to write and read back, though one has to enable the unit before reading. [astropy.io.fits.convenience]\n",
      "c:\\users\\ciroe\\gls.py:642: UserWarning: Matplotlib is currently using module://ipykernel.pylab.backend_inline, which is a non-GUI backend, so cannot show the figure.\n",
      "  fig.show()\n"
     ]
    },
    {
     "name": "stdout",
     "output_type": "stream",
     "text": [
      "Elapsed time: 31.84 seconds\n",
      "... SUCCESS.\n",
      "Record: 342, started at 29/03/2022, 20:07:14\n",
      "Previous median lapse time: 454.04 seconds\n",
      "Processing J01518+644 star (TIC: 10352491)...\n",
      "filename: ../data/CARMENES_GTO_TESS_lc/lightcurves/J01518+644/J01518+644_TESS_TIC10352491_S18.fits\n"
     ]
    },
    {
     "name": "stderr",
     "output_type": "stream",
     "text": [
      "WARNING: The unit 'electron / s' could not be saved in native FITS format and cannot be recovered in reading. If pyyaml is installed, it can roundtrip within astropy by using QTable both to write and read back, though one has to enable the unit before reading. [astropy.io.fits.convenience]\n",
      "WARNING: Meta-data keyword BITPIX will be ignored since it conflicts with a FITS reserved keyword [astropy.io.fits.convenience]\n",
      "WARNING: Meta-data keyword NAXIS will be ignored since it conflicts with a FITS reserved keyword [astropy.io.fits.convenience]\n",
      "WARNING: VerifyWarning: Keyword name 'FLUX_ORIGIN' is greater than 8 characters or contains characters not allowed by the FITS standard; a HIERARCH card will be created. [astropy.io.fits.card]\n",
      "WARNING: VerifyWarning: Keyword name 'QUALITY_BITMASK' is greater than 8 characters or contains characters not allowed by the FITS standard; a HIERARCH card will be created. [astropy.io.fits.card]\n",
      "WARNING: VerifyWarning: Keyword name 'QUALITY_MASK' is greater than 8 characters or contains characters not allowed by the FITS standard; a HIERARCH card will be created. [astropy.io.fits.card]\n",
      "WARNING: Attribute `QUALITY_MASK` of type <class 'numpy.ndarray'> cannot be added to FITS Header - skipping [astropy.io.fits.convenience]\n",
      "WARNING: The unit 'electron2 / s2' could not be saved in native FITS format and cannot be recovered in reading. If pyyaml is installed, it can roundtrip within astropy by using QTable both to write and read back, though one has to enable the unit before reading. [astropy.io.fits.convenience]\n",
      "c:\\users\\ciroe\\gls.py:642: UserWarning: Matplotlib is currently using module://ipykernel.pylab.backend_inline, which is a non-GUI backend, so cannot show the figure.\n",
      "  fig.show()\n",
      "Warning: 30% (5871/19412) of the cadences will be ignored due to the quality mask (quality_bitmask=175).\n"
     ]
    },
    {
     "name": "stdout",
     "output_type": "stream",
     "text": [
      "Elapsed time: 525.75 seconds\n",
      "... SUCCESS.\n",
      "Record: 343, started at 29/03/2022, 20:16:00\n",
      "Previous median lapse time: 456.39 seconds\n",
      "Processing J01433+043 star (TIC: 369534824)...\n",
      "filename: nan\n",
      "--- Some ERROR happened with record #343, J01433+043 star. Error=Not recognized as a supported data product:\n",
      "nan\n",
      "This file may be corrupt due to an interrupted download. Please remove it from your disk and try again.\n",
      "Elapsed time: 0.00 seconds\n",
      "Record: 344, started at 29/03/2022, 20:16:00\n",
      "Previous median lapse time: 454.04 seconds\n",
      "Processing J01352-072 star (TIC: 29853348)...\n",
      "filename: ../data/CARMENES_GTO_TESS_lc/lightcurves/J01352-072/J01352-072_TESS_TIC29853348_S03.fits\n"
     ]
    },
    {
     "name": "stderr",
     "output_type": "stream",
     "text": [
      "WARNING: The unit 'electron / s' could not be saved in native FITS format and cannot be recovered in reading. If pyyaml is installed, it can roundtrip within astropy by using QTable both to write and read back, though one has to enable the unit before reading. [astropy.io.fits.convenience]\n",
      "WARNING: Meta-data keyword BITPIX will be ignored since it conflicts with a FITS reserved keyword [astropy.io.fits.convenience]\n",
      "WARNING: Meta-data keyword NAXIS will be ignored since it conflicts with a FITS reserved keyword [astropy.io.fits.convenience]\n",
      "WARNING: VerifyWarning: Keyword name 'FLUX_ORIGIN' is greater than 8 characters or contains characters not allowed by the FITS standard; a HIERARCH card will be created. [astropy.io.fits.card]\n",
      "WARNING: VerifyWarning: Keyword name 'QUALITY_BITMASK' is greater than 8 characters or contains characters not allowed by the FITS standard; a HIERARCH card will be created. [astropy.io.fits.card]\n",
      "WARNING: VerifyWarning: Keyword name 'QUALITY_MASK' is greater than 8 characters or contains characters not allowed by the FITS standard; a HIERARCH card will be created. [astropy.io.fits.card]\n",
      "WARNING: Attribute `QUALITY_MASK` of type <class 'numpy.ndarray'> cannot be added to FITS Header - skipping [astropy.io.fits.convenience]\n",
      "WARNING: The unit 'electron2 / s2' could not be saved in native FITS format and cannot be recovered in reading. If pyyaml is installed, it can roundtrip within astropy by using QTable both to write and read back, though one has to enable the unit before reading. [astropy.io.fits.convenience]\n",
      "c:\\users\\ciroe\\gls.py:642: UserWarning: Matplotlib is currently using module://ipykernel.pylab.backend_inline, which is a non-GUI backend, so cannot show the figure.\n",
      "  fig.show()\n",
      "Warning: 30% (5871/19412) of the cadences will be ignored due to the quality mask (quality_bitmask=175).\n"
     ]
    },
    {
     "name": "stdout",
     "output_type": "stream",
     "text": [
      "Elapsed time: 481.18 seconds\n",
      "... SUCCESS.\n",
      "Record: 345, started at 29/03/2022, 20:24:01\n",
      "Previous median lapse time: 456.39 seconds\n",
      "Processing J01339-176 star (TIC: 54003038)...\n",
      "filename: ../data/CARMENES_GTO_TESS_lc/lightcurves/J01339-176/J01339-176_TESS_TIC54003038_S03.fits\n"
     ]
    },
    {
     "name": "stderr",
     "output_type": "stream",
     "text": [
      "WARNING: The unit 'electron / s' could not be saved in native FITS format and cannot be recovered in reading. If pyyaml is installed, it can roundtrip within astropy by using QTable both to write and read back, though one has to enable the unit before reading. [astropy.io.fits.convenience]\n",
      "WARNING: Meta-data keyword BITPIX will be ignored since it conflicts with a FITS reserved keyword [astropy.io.fits.convenience]\n",
      "WARNING: Meta-data keyword NAXIS will be ignored since it conflicts with a FITS reserved keyword [astropy.io.fits.convenience]\n",
      "WARNING: VerifyWarning: Keyword name 'FLUX_ORIGIN' is greater than 8 characters or contains characters not allowed by the FITS standard; a HIERARCH card will be created. [astropy.io.fits.card]\n",
      "WARNING: VerifyWarning: Keyword name 'QUALITY_BITMASK' is greater than 8 characters or contains characters not allowed by the FITS standard; a HIERARCH card will be created. [astropy.io.fits.card]\n",
      "WARNING: VerifyWarning: Keyword name 'QUALITY_MASK' is greater than 8 characters or contains characters not allowed by the FITS standard; a HIERARCH card will be created. [astropy.io.fits.card]\n",
      "WARNING: Attribute `QUALITY_MASK` of type <class 'numpy.ndarray'> cannot be added to FITS Header - skipping [astropy.io.fits.convenience]\n",
      "WARNING: The unit 'electron2 / s2' could not be saved in native FITS format and cannot be recovered in reading. If pyyaml is installed, it can roundtrip within astropy by using QTable both to write and read back, though one has to enable the unit before reading. [astropy.io.fits.convenience]\n",
      "c:\\users\\ciroe\\gls.py:642: UserWarning: Matplotlib is currently using module://ipykernel.pylab.backend_inline, which is a non-GUI backend, so cannot show the figure.\n",
      "  fig.show()\n",
      "Warning: 30% (5871/19412) of the cadences will be ignored due to the quality mask (quality_bitmask=175).\n"
     ]
    },
    {
     "name": "stdout",
     "output_type": "stream",
     "text": [
      "Elapsed time: 456.15 seconds\n",
      "... SUCCESS.\n",
      "Record: 346, started at 29/03/2022, 20:31:38\n",
      "Previous median lapse time: 456.27 seconds\n",
      "Processing J01125-169 star (TIC: 610210976)...\n",
      "filename: ../data/CARMENES_GTO_TESS_lc/lightcurves/J01125-169/J01125-169_TESS_TIC439403362_S03.fits\n"
     ]
    },
    {
     "name": "stderr",
     "output_type": "stream",
     "text": [
      "WARNING: The unit 'electron / s' could not be saved in native FITS format and cannot be recovered in reading. If pyyaml is installed, it can roundtrip within astropy by using QTable both to write and read back, though one has to enable the unit before reading. [astropy.io.fits.convenience]\n",
      "WARNING: Meta-data keyword BITPIX will be ignored since it conflicts with a FITS reserved keyword [astropy.io.fits.convenience]\n",
      "WARNING: Meta-data keyword NAXIS will be ignored since it conflicts with a FITS reserved keyword [astropy.io.fits.convenience]\n",
      "WARNING: VerifyWarning: Keyword name 'FLUX_ORIGIN' is greater than 8 characters or contains characters not allowed by the FITS standard; a HIERARCH card will be created. [astropy.io.fits.card]\n",
      "WARNING: VerifyWarning: Keyword name 'QUALITY_BITMASK' is greater than 8 characters or contains characters not allowed by the FITS standard; a HIERARCH card will be created. [astropy.io.fits.card]\n",
      "WARNING: VerifyWarning: Keyword name 'QUALITY_MASK' is greater than 8 characters or contains characters not allowed by the FITS standard; a HIERARCH card will be created. [astropy.io.fits.card]\n",
      "WARNING: Attribute `QUALITY_MASK` of type <class 'numpy.ndarray'> cannot be added to FITS Header - skipping [astropy.io.fits.convenience]\n",
      "WARNING: The unit 'electron2 / s2' could not be saved in native FITS format and cannot be recovered in reading. If pyyaml is installed, it can roundtrip within astropy by using QTable both to write and read back, though one has to enable the unit before reading. [astropy.io.fits.convenience]\n",
      "c:\\users\\ciroe\\gls.py:642: UserWarning: Matplotlib is currently using module://ipykernel.pylab.backend_inline, which is a non-GUI backend, so cannot show the figure.\n",
      "  fig.show()\n"
     ]
    },
    {
     "name": "stdout",
     "output_type": "stream",
     "text": [
      "Elapsed time: 479.42 seconds\n",
      "... SUCCESS.\n",
      "Record: 347, started at 29/03/2022, 20:39:37\n",
      "Previous median lapse time: 456.39 seconds\n",
      "Processing J01066+192 star (TIC: 243185500)...\n",
      "filename: ../data/CARMENES_GTO_TESS_lc/lightcurves/J01066+192/J01066+192_TESS_TIC243185500_S17.fits\n"
     ]
    },
    {
     "name": "stderr",
     "output_type": "stream",
     "text": [
      "WARNING: The unit 'electron / s' could not be saved in native FITS format and cannot be recovered in reading. If pyyaml is installed, it can roundtrip within astropy by using QTable both to write and read back, though one has to enable the unit before reading. [astropy.io.fits.convenience]\n",
      "WARNING: Meta-data keyword BITPIX will be ignored since it conflicts with a FITS reserved keyword [astropy.io.fits.convenience]\n",
      "WARNING: Meta-data keyword NAXIS will be ignored since it conflicts with a FITS reserved keyword [astropy.io.fits.convenience]\n",
      "WARNING: VerifyWarning: Keyword name 'FLUX_ORIGIN' is greater than 8 characters or contains characters not allowed by the FITS standard; a HIERARCH card will be created. [astropy.io.fits.card]\n",
      "WARNING: VerifyWarning: Keyword name 'QUALITY_BITMASK' is greater than 8 characters or contains characters not allowed by the FITS standard; a HIERARCH card will be created. [astropy.io.fits.card]\n",
      "WARNING: VerifyWarning: Keyword name 'QUALITY_MASK' is greater than 8 characters or contains characters not allowed by the FITS standard; a HIERARCH card will be created. [astropy.io.fits.card]\n",
      "WARNING: Attribute `QUALITY_MASK` of type <class 'numpy.ndarray'> cannot be added to FITS Header - skipping [astropy.io.fits.convenience]\n",
      "WARNING: The unit 'electron2 / s2' could not be saved in native FITS format and cannot be recovered in reading. If pyyaml is installed, it can roundtrip within astropy by using QTable both to write and read back, though one has to enable the unit before reading. [astropy.io.fits.convenience]\n",
      "c:\\users\\ciroe\\gls.py:642: UserWarning: Matplotlib is currently using module://ipykernel.pylab.backend_inline, which is a non-GUI backend, so cannot show the figure.\n",
      "  fig.show()\n",
      "Warning: 30% (5871/19412) of the cadences will be ignored due to the quality mask (quality_bitmask=175).\n"
     ]
    },
    {
     "name": "stdout",
     "output_type": "stream",
     "text": [
      "Elapsed time: 482.00 seconds\n",
      "... SUCCESS.\n",
      "Record: 348, started at 29/03/2022, 20:47:39\n",
      "Previous median lapse time: 456.95 seconds\n",
      "Processing J01056+284 star (TIC: 15615674)...\n",
      "filename: nan\n",
      "--- Some ERROR happened with record #348, J01056+284 star. Error=Not recognized as a supported data product:\n",
      "nan\n",
      "This file may be corrupt due to an interrupted download. Please remove it from your disk and try again.\n",
      "Elapsed time: 0.00 seconds\n",
      "Record: 349, started at 29/03/2022, 20:47:39\n",
      "Previous median lapse time: 456.39 seconds\n",
      "Processing J01048-181 star (TIC: 268633473)...\n",
      "filename: ../data/CARMENES_GTO_TESS_lc/lightcurves/J01048-181/J01048-181_TESS_TIC268633473_S03.fits\n"
     ]
    },
    {
     "name": "stderr",
     "output_type": "stream",
     "text": [
      "WARNING: The unit 'electron / s' could not be saved in native FITS format and cannot be recovered in reading. If pyyaml is installed, it can roundtrip within astropy by using QTable both to write and read back, though one has to enable the unit before reading. [astropy.io.fits.convenience]\n",
      "WARNING: Meta-data keyword BITPIX will be ignored since it conflicts with a FITS reserved keyword [astropy.io.fits.convenience]\n",
      "WARNING: Meta-data keyword NAXIS will be ignored since it conflicts with a FITS reserved keyword [astropy.io.fits.convenience]\n",
      "WARNING: VerifyWarning: Keyword name 'FLUX_ORIGIN' is greater than 8 characters or contains characters not allowed by the FITS standard; a HIERARCH card will be created. [astropy.io.fits.card]\n",
      "WARNING: VerifyWarning: Keyword name 'QUALITY_BITMASK' is greater than 8 characters or contains characters not allowed by the FITS standard; a HIERARCH card will be created. [astropy.io.fits.card]\n",
      "WARNING: VerifyWarning: Keyword name 'QUALITY_MASK' is greater than 8 characters or contains characters not allowed by the FITS standard; a HIERARCH card will be created. [astropy.io.fits.card]\n",
      "WARNING: Attribute `QUALITY_MASK` of type <class 'numpy.ndarray'> cannot be added to FITS Header - skipping [astropy.io.fits.convenience]\n",
      "WARNING: The unit 'electron2 / s2' could not be saved in native FITS format and cannot be recovered in reading. If pyyaml is installed, it can roundtrip within astropy by using QTable both to write and read back, though one has to enable the unit before reading. [astropy.io.fits.convenience]\n",
      "c:\\users\\ciroe\\gls.py:642: UserWarning: Matplotlib is currently using module://ipykernel.pylab.backend_inline, which is a non-GUI backend, so cannot show the figure.\n",
      "  fig.show()\n"
     ]
    },
    {
     "name": "stdout",
     "output_type": "stream",
     "text": [
      "Elapsed time: 487.38 seconds\n",
      "... SUCCESS.\n",
      "Record: 350, started at 29/03/2022, 20:55:47\n",
      "Previous median lapse time: 456.95 seconds\n",
      "Processing J01033+623 star (TIC: 52183206)...\n",
      "filename: ../data/CARMENES_GTO_TESS_lc/lightcurves/J01033+623/J01033+623_TESS_TIC52183206_S18.fits\n"
     ]
    },
    {
     "name": "stderr",
     "output_type": "stream",
     "text": [
      "WARNING: The unit 'electron / s' could not be saved in native FITS format and cannot be recovered in reading. If pyyaml is installed, it can roundtrip within astropy by using QTable both to write and read back, though one has to enable the unit before reading. [astropy.io.fits.convenience]\n",
      "WARNING: Meta-data keyword BITPIX will be ignored since it conflicts with a FITS reserved keyword [astropy.io.fits.convenience]\n",
      "WARNING: Meta-data keyword NAXIS will be ignored since it conflicts with a FITS reserved keyword [astropy.io.fits.convenience]\n",
      "WARNING: VerifyWarning: Keyword name 'FLUX_ORIGIN' is greater than 8 characters or contains characters not allowed by the FITS standard; a HIERARCH card will be created. [astropy.io.fits.card]\n",
      "WARNING: VerifyWarning: Keyword name 'QUALITY_BITMASK' is greater than 8 characters or contains characters not allowed by the FITS standard; a HIERARCH card will be created. [astropy.io.fits.card]\n",
      "WARNING: VerifyWarning: Keyword name 'QUALITY_MASK' is greater than 8 characters or contains characters not allowed by the FITS standard; a HIERARCH card will be created. [astropy.io.fits.card]\n",
      "WARNING: Attribute `QUALITY_MASK` of type <class 'numpy.ndarray'> cannot be added to FITS Header - skipping [astropy.io.fits.convenience]\n",
      "WARNING: The unit 'electron2 / s2' could not be saved in native FITS format and cannot be recovered in reading. If pyyaml is installed, it can roundtrip within astropy by using QTable both to write and read back, though one has to enable the unit before reading. [astropy.io.fits.convenience]\n",
      "c:\\users\\ciroe\\gls.py:642: UserWarning: Matplotlib is currently using module://ipykernel.pylab.backend_inline, which is a non-GUI backend, so cannot show the figure.\n",
      "  fig.show()\n"
     ]
    },
    {
     "name": "stdout",
     "output_type": "stream",
     "text": [
      "Elapsed time: 557.80 seconds\n",
      "... SUCCESS.\n",
      "Record: 351, started at 29/03/2022, 21:05:04\n",
      "Previous median lapse time: 457.51 seconds\n",
      "Processing J01026+623 star (TIC: 256419669)...\n",
      "filename: ../data/CARMENES_GTO_TESS_lc/lightcurves/J01026+623/J01026+623_TESS_TIC256419669_S18.fits\n"
     ]
    },
    {
     "name": "stderr",
     "output_type": "stream",
     "text": [
      "WARNING: The unit 'electron / s' could not be saved in native FITS format and cannot be recovered in reading. If pyyaml is installed, it can roundtrip within astropy by using QTable both to write and read back, though one has to enable the unit before reading. [astropy.io.fits.convenience]\n",
      "WARNING: Meta-data keyword BITPIX will be ignored since it conflicts with a FITS reserved keyword [astropy.io.fits.convenience]\n",
      "WARNING: Meta-data keyword NAXIS will be ignored since it conflicts with a FITS reserved keyword [astropy.io.fits.convenience]\n",
      "WARNING: VerifyWarning: Keyword name 'FLUX_ORIGIN' is greater than 8 characters or contains characters not allowed by the FITS standard; a HIERARCH card will be created. [astropy.io.fits.card]\n",
      "WARNING: VerifyWarning: Keyword name 'QUALITY_BITMASK' is greater than 8 characters or contains characters not allowed by the FITS standard; a HIERARCH card will be created. [astropy.io.fits.card]\n",
      "WARNING: VerifyWarning: Keyword name 'QUALITY_MASK' is greater than 8 characters or contains characters not allowed by the FITS standard; a HIERARCH card will be created. [astropy.io.fits.card]\n",
      "WARNING: Attribute `QUALITY_MASK` of type <class 'numpy.ndarray'> cannot be added to FITS Header - skipping [astropy.io.fits.convenience]\n",
      "WARNING: The unit 'electron2 / s2' could not be saved in native FITS format and cannot be recovered in reading. If pyyaml is installed, it can roundtrip within astropy by using QTable both to write and read back, though one has to enable the unit before reading. [astropy.io.fits.convenience]\n",
      "c:\\users\\ciroe\\gls.py:642: UserWarning: Matplotlib is currently using module://ipykernel.pylab.backend_inline, which is a non-GUI backend, so cannot show the figure.\n",
      "  fig.show()\n"
     ]
    },
    {
     "name": "stdout",
     "output_type": "stream",
     "text": [
      "Elapsed time: 525.31 seconds\n",
      "... SUCCESS.\n",
      "Record: 352, started at 29/03/2022, 21:13:50\n",
      "Previous median lapse time: 461.85 seconds\n",
      "Processing J01025+716 star (TIC: 379084450)...\n",
      "filename: ../data/CARMENES_GTO_TESS_lc/lightcurves/J01025+716/J01025+716_TESS_TIC379084450_S18.fits\n"
     ]
    },
    {
     "name": "stderr",
     "output_type": "stream",
     "text": [
      "WARNING: The unit 'electron / s' could not be saved in native FITS format and cannot be recovered in reading. If pyyaml is installed, it can roundtrip within astropy by using QTable both to write and read back, though one has to enable the unit before reading. [astropy.io.fits.convenience]\n",
      "WARNING: Meta-data keyword BITPIX will be ignored since it conflicts with a FITS reserved keyword [astropy.io.fits.convenience]\n",
      "WARNING: Meta-data keyword NAXIS will be ignored since it conflicts with a FITS reserved keyword [astropy.io.fits.convenience]\n",
      "WARNING: VerifyWarning: Keyword name 'FLUX_ORIGIN' is greater than 8 characters or contains characters not allowed by the FITS standard; a HIERARCH card will be created. [astropy.io.fits.card]\n",
      "WARNING: VerifyWarning: Keyword name 'QUALITY_BITMASK' is greater than 8 characters or contains characters not allowed by the FITS standard; a HIERARCH card will be created. [astropy.io.fits.card]\n",
      "WARNING: VerifyWarning: Keyword name 'QUALITY_MASK' is greater than 8 characters or contains characters not allowed by the FITS standard; a HIERARCH card will be created. [astropy.io.fits.card]\n",
      "WARNING: Attribute `QUALITY_MASK` of type <class 'numpy.ndarray'> cannot be added to FITS Header - skipping [astropy.io.fits.convenience]\n",
      "WARNING: The unit 'electron2 / s2' could not be saved in native FITS format and cannot be recovered in reading. If pyyaml is installed, it can roundtrip within astropy by using QTable both to write and read back, though one has to enable the unit before reading. [astropy.io.fits.convenience]\n",
      "c:\\users\\ciroe\\gls.py:642: UserWarning: Matplotlib is currently using module://ipykernel.pylab.backend_inline, which is a non-GUI backend, so cannot show the figure.\n",
      "  fig.show()\n"
     ]
    },
    {
     "name": "stdout",
     "output_type": "stream",
     "text": [
      "Elapsed time: 542.07 seconds\n",
      "... SUCCESS.\n",
      "Record: 353, started at 29/03/2022, 21:22:52\n",
      "Previous median lapse time: 466.19 seconds\n",
      "Processing J01019+541 star (TIC: 252110114)...\n",
      "filename: ../data/CARMENES_GTO_TESS_lc/lightcurves/J01019+541/J01019+541_TESS_TIC252110114_S17.fits\n"
     ]
    },
    {
     "name": "stderr",
     "output_type": "stream",
     "text": [
      "WARNING: The unit 'electron / s' could not be saved in native FITS format and cannot be recovered in reading. If pyyaml is installed, it can roundtrip within astropy by using QTable both to write and read back, though one has to enable the unit before reading. [astropy.io.fits.convenience]\n",
      "WARNING: Meta-data keyword BITPIX will be ignored since it conflicts with a FITS reserved keyword [astropy.io.fits.convenience]\n",
      "WARNING: Meta-data keyword NAXIS will be ignored since it conflicts with a FITS reserved keyword [astropy.io.fits.convenience]\n",
      "WARNING: VerifyWarning: Keyword name 'FLUX_ORIGIN' is greater than 8 characters or contains characters not allowed by the FITS standard; a HIERARCH card will be created. [astropy.io.fits.card]\n",
      "WARNING: VerifyWarning: Keyword name 'QUALITY_BITMASK' is greater than 8 characters or contains characters not allowed by the FITS standard; a HIERARCH card will be created. [astropy.io.fits.card]\n",
      "WARNING: VerifyWarning: Keyword name 'QUALITY_MASK' is greater than 8 characters or contains characters not allowed by the FITS standard; a HIERARCH card will be created. [astropy.io.fits.card]\n",
      "WARNING: Attribute `QUALITY_MASK` of type <class 'numpy.ndarray'> cannot be added to FITS Header - skipping [astropy.io.fits.convenience]\n",
      "WARNING: The unit 'electron2 / s2' could not be saved in native FITS format and cannot be recovered in reading. If pyyaml is installed, it can roundtrip within astropy by using QTable both to write and read back, though one has to enable the unit before reading. [astropy.io.fits.convenience]\n",
      "c:\\users\\ciroe\\gls.py:642: UserWarning: Matplotlib is currently using module://ipykernel.pylab.backend_inline, which is a non-GUI backend, so cannot show the figure.\n",
      "  fig.show()\n"
     ]
    },
    {
     "name": "stdout",
     "output_type": "stream",
     "text": [
      "Elapsed time: 486.87 seconds\n",
      "... SUCCESS.\n",
      "Record: 354, started at 29/03/2022, 21:30:59\n",
      "Previous median lapse time: 466.34 seconds\n",
      "Processing J01013+613 star (TIC: 256316623)...\n",
      "filename: ../data/CARMENES_GTO_TESS_lc/lightcurves/J01013+613/J01013+613_TESS_TIC256316623_S18.fits\n"
     ]
    },
    {
     "name": "stderr",
     "output_type": "stream",
     "text": [
      "WARNING: The unit 'electron / s' could not be saved in native FITS format and cannot be recovered in reading. If pyyaml is installed, it can roundtrip within astropy by using QTable both to write and read back, though one has to enable the unit before reading. [astropy.io.fits.convenience]\n",
      "WARNING: Meta-data keyword BITPIX will be ignored since it conflicts with a FITS reserved keyword [astropy.io.fits.convenience]\n",
      "WARNING: Meta-data keyword NAXIS will be ignored since it conflicts with a FITS reserved keyword [astropy.io.fits.convenience]\n",
      "WARNING: VerifyWarning: Keyword name 'FLUX_ORIGIN' is greater than 8 characters or contains characters not allowed by the FITS standard; a HIERARCH card will be created. [astropy.io.fits.card]\n",
      "WARNING: VerifyWarning: Keyword name 'QUALITY_BITMASK' is greater than 8 characters or contains characters not allowed by the FITS standard; a HIERARCH card will be created. [astropy.io.fits.card]\n",
      "WARNING: VerifyWarning: Keyword name 'QUALITY_MASK' is greater than 8 characters or contains characters not allowed by the FITS standard; a HIERARCH card will be created. [astropy.io.fits.card]\n",
      "WARNING: Attribute `QUALITY_MASK` of type <class 'numpy.ndarray'> cannot be added to FITS Header - skipping [astropy.io.fits.convenience]\n",
      "WARNING: The unit 'electron2 / s2' could not be saved in native FITS format and cannot be recovered in reading. If pyyaml is installed, it can roundtrip within astropy by using QTable both to write and read back, though one has to enable the unit before reading. [astropy.io.fits.convenience]\n",
      "c:\\users\\ciroe\\gls.py:642: UserWarning: Matplotlib is currently using module://ipykernel.pylab.backend_inline, which is a non-GUI backend, so cannot show the figure.\n",
      "  fig.show()\n"
     ]
    },
    {
     "name": "stdout",
     "output_type": "stream",
     "text": [
      "Elapsed time: 3051.53 seconds\n",
      "... SUCCESS.\n",
      "Record: 355, started at 29/03/2022, 22:21:50\n",
      "Previous median lapse time: 466.49 seconds\n",
      "Processing J00570+450 star (TIC: 196293610)...\n",
      "filename: ../data/CARMENES_GTO_TESS_lc/lightcurves/J00570+450/J00570+450_TESS_TIC196293610_S17.fits\n"
     ]
    },
    {
     "name": "stderr",
     "output_type": "stream",
     "text": [
      "WARNING: The unit 'electron / s' could not be saved in native FITS format and cannot be recovered in reading. If pyyaml is installed, it can roundtrip within astropy by using QTable both to write and read back, though one has to enable the unit before reading. [astropy.io.fits.convenience]\n",
      "WARNING: Meta-data keyword BITPIX will be ignored since it conflicts with a FITS reserved keyword [astropy.io.fits.convenience]\n",
      "WARNING: Meta-data keyword NAXIS will be ignored since it conflicts with a FITS reserved keyword [astropy.io.fits.convenience]\n",
      "WARNING: VerifyWarning: Keyword name 'FLUX_ORIGIN' is greater than 8 characters or contains characters not allowed by the FITS standard; a HIERARCH card will be created. [astropy.io.fits.card]\n",
      "WARNING: VerifyWarning: Keyword name 'QUALITY_BITMASK' is greater than 8 characters or contains characters not allowed by the FITS standard; a HIERARCH card will be created. [astropy.io.fits.card]\n",
      "WARNING: VerifyWarning: Keyword name 'QUALITY_MASK' is greater than 8 characters or contains characters not allowed by the FITS standard; a HIERARCH card will be created. [astropy.io.fits.card]\n",
      "WARNING: Attribute `QUALITY_MASK` of type <class 'numpy.ndarray'> cannot be added to FITS Header - skipping [astropy.io.fits.convenience]\n",
      "WARNING: The unit 'electron2 / s2' could not be saved in native FITS format and cannot be recovered in reading. If pyyaml is installed, it can roundtrip within astropy by using QTable both to write and read back, though one has to enable the unit before reading. [astropy.io.fits.convenience]\n",
      "c:\\users\\ciroe\\gls.py:642: UserWarning: Matplotlib is currently using module://ipykernel.pylab.backend_inline, which is a non-GUI backend, so cannot show the figure.\n",
      "  fig.show()\n"
     ]
    },
    {
     "name": "stdout",
     "output_type": "stream",
     "text": [
      "Elapsed time: 736.04 seconds\n",
      "... SUCCESS.\n",
      "Record: 356, started at 29/03/2022, 22:34:06\n",
      "Previous median lapse time: 467.60 seconds\n",
      "Processing J00403+612 star (TIC: 284441182)...\n",
      "filename: ../data/CARMENES_GTO_TESS_lc/lightcurves/J00403+612/J00403+612_TESS_TIC284441182_S17.fits\n"
     ]
    },
    {
     "name": "stderr",
     "output_type": "stream",
     "text": [
      "WARNING: The unit 'electron / s' could not be saved in native FITS format and cannot be recovered in reading. If pyyaml is installed, it can roundtrip within astropy by using QTable both to write and read back, though one has to enable the unit before reading. [astropy.io.fits.convenience]\n",
      "WARNING: Meta-data keyword BITPIX will be ignored since it conflicts with a FITS reserved keyword [astropy.io.fits.convenience]\n",
      "WARNING: Meta-data keyword NAXIS will be ignored since it conflicts with a FITS reserved keyword [astropy.io.fits.convenience]\n",
      "WARNING: VerifyWarning: Keyword name 'FLUX_ORIGIN' is greater than 8 characters or contains characters not allowed by the FITS standard; a HIERARCH card will be created. [astropy.io.fits.card]\n",
      "WARNING: VerifyWarning: Keyword name 'QUALITY_BITMASK' is greater than 8 characters or contains characters not allowed by the FITS standard; a HIERARCH card will be created. [astropy.io.fits.card]\n",
      "WARNING: VerifyWarning: Keyword name 'QUALITY_MASK' is greater than 8 characters or contains characters not allowed by the FITS standard; a HIERARCH card will be created. [astropy.io.fits.card]\n",
      "WARNING: Attribute `QUALITY_MASK` of type <class 'numpy.ndarray'> cannot be added to FITS Header - skipping [astropy.io.fits.convenience]\n",
      "WARNING: The unit 'electron2 / s2' could not be saved in native FITS format and cannot be recovered in reading. If pyyaml is installed, it can roundtrip within astropy by using QTable both to write and read back, though one has to enable the unit before reading. [astropy.io.fits.convenience]\n",
      "c:\\users\\ciroe\\gls.py:642: UserWarning: Matplotlib is currently using module://ipykernel.pylab.backend_inline, which is a non-GUI backend, so cannot show the figure.\n",
      "  fig.show()\n"
     ]
    },
    {
     "name": "stdout",
     "output_type": "stream",
     "text": [
      "Elapsed time: 713.77 seconds\n",
      "... SUCCESS.\n",
      "Record: 357, started at 29/03/2022, 22:46:00\n",
      "Previous median lapse time: 468.71 seconds\n",
      "Processing J00389+306 star (TIC: 267688052)...\n",
      "filename: ../data/CARMENES_GTO_TESS_lc/lightcurves/J00389+306/J00389+306_TESS_TIC267688052_S17.fits\n"
     ]
    },
    {
     "name": "stderr",
     "output_type": "stream",
     "text": [
      "WARNING: The unit 'electron / s' could not be saved in native FITS format and cannot be recovered in reading. If pyyaml is installed, it can roundtrip within astropy by using QTable both to write and read back, though one has to enable the unit before reading. [astropy.io.fits.convenience]\n",
      "WARNING: Meta-data keyword BITPIX will be ignored since it conflicts with a FITS reserved keyword [astropy.io.fits.convenience]\n",
      "WARNING: Meta-data keyword NAXIS will be ignored since it conflicts with a FITS reserved keyword [astropy.io.fits.convenience]\n",
      "WARNING: VerifyWarning: Keyword name 'FLUX_ORIGIN' is greater than 8 characters or contains characters not allowed by the FITS standard; a HIERARCH card will be created. [astropy.io.fits.card]\n",
      "WARNING: VerifyWarning: Keyword name 'QUALITY_BITMASK' is greater than 8 characters or contains characters not allowed by the FITS standard; a HIERARCH card will be created. [astropy.io.fits.card]\n",
      "WARNING: VerifyWarning: Keyword name 'QUALITY_MASK' is greater than 8 characters or contains characters not allowed by the FITS standard; a HIERARCH card will be created. [astropy.io.fits.card]\n",
      "WARNING: Attribute `QUALITY_MASK` of type <class 'numpy.ndarray'> cannot be added to FITS Header - skipping [astropy.io.fits.convenience]\n",
      "WARNING: The unit 'electron2 / s2' could not be saved in native FITS format and cannot be recovered in reading. If pyyaml is installed, it can roundtrip within astropy by using QTable both to write and read back, though one has to enable the unit before reading. [astropy.io.fits.convenience]\n",
      "c:\\users\\ciroe\\gls.py:642: UserWarning: Matplotlib is currently using module://ipykernel.pylab.backend_inline, which is a non-GUI backend, so cannot show the figure.\n",
      "  fig.show()\n",
      "Warning: 30% (5871/19412) of the cadences will be ignored due to the quality mask (quality_bitmask=175).\n"
     ]
    },
    {
     "name": "stdout",
     "output_type": "stream",
     "text": [
      "Elapsed time: 662.35 seconds\n",
      "... SUCCESS.\n",
      "Record: 358, started at 29/03/2022, 22:57:03\n",
      "Previous median lapse time: 470.78 seconds\n",
      "Processing J00286-066 star (TIC: 40082634)...\n",
      "filename: ../data/CARMENES_GTO_TESS_lc/lightcurves/J00286-066/J00286-066_TESS_TIC40082634_S03.fits\n"
     ]
    },
    {
     "name": "stderr",
     "output_type": "stream",
     "text": [
      "WARNING: The unit 'electron / s' could not be saved in native FITS format and cannot be recovered in reading. If pyyaml is installed, it can roundtrip within astropy by using QTable both to write and read back, though one has to enable the unit before reading. [astropy.io.fits.convenience]\n",
      "WARNING: Meta-data keyword BITPIX will be ignored since it conflicts with a FITS reserved keyword [astropy.io.fits.convenience]\n",
      "WARNING: Meta-data keyword NAXIS will be ignored since it conflicts with a FITS reserved keyword [astropy.io.fits.convenience]\n",
      "WARNING: VerifyWarning: Keyword name 'FLUX_ORIGIN' is greater than 8 characters or contains characters not allowed by the FITS standard; a HIERARCH card will be created. [astropy.io.fits.card]\n",
      "WARNING: VerifyWarning: Keyword name 'QUALITY_BITMASK' is greater than 8 characters or contains characters not allowed by the FITS standard; a HIERARCH card will be created. [astropy.io.fits.card]\n",
      "WARNING: VerifyWarning: Keyword name 'QUALITY_MASK' is greater than 8 characters or contains characters not allowed by the FITS standard; a HIERARCH card will be created. [astropy.io.fits.card]\n",
      "WARNING: Attribute `QUALITY_MASK` of type <class 'numpy.ndarray'> cannot be added to FITS Header - skipping [astropy.io.fits.convenience]\n",
      "WARNING: The unit 'electron2 / s2' could not be saved in native FITS format and cannot be recovered in reading. If pyyaml is installed, it can roundtrip within astropy by using QTable both to write and read back, though one has to enable the unit before reading. [astropy.io.fits.convenience]\n",
      "c:\\users\\ciroe\\gls.py:642: UserWarning: Matplotlib is currently using module://ipykernel.pylab.backend_inline, which is a non-GUI backend, so cannot show the figure.\n",
      "  fig.show()\n"
     ]
    },
    {
     "name": "stdout",
     "output_type": "stream",
     "text": [
      "Elapsed time: 533.30 seconds\n",
      "... SUCCESS.\n",
      "Record: 359, started at 29/03/2022, 23:05:56\n",
      "Previous median lapse time: 472.85 seconds\n",
      "Processing J00184+440 star (TIC: 440109718)...\n",
      "filename: nan\n",
      "--- Some ERROR happened with record #359, J00184+440 star. Error=Not recognized as a supported data product:\n",
      "nan\n",
      "This file may be corrupt due to an interrupted download. Please remove it from your disk and try again.\n",
      "Elapsed time: 0.00 seconds\n",
      "Record: 360, started at 29/03/2022, 23:05:56\n",
      "Previous median lapse time: 470.78 seconds\n",
      "Processing J00183+440 star (TIC: 440109725)...\n",
      "filename: ../data/CARMENES_GTO_TESS_lc/lightcurves/J00183+440/J00183+440_TESS_TIC440109725_S17.fits\n"
     ]
    },
    {
     "name": "stderr",
     "output_type": "stream",
     "text": [
      "WARNING: The unit 'electron / s' could not be saved in native FITS format and cannot be recovered in reading. If pyyaml is installed, it can roundtrip within astropy by using QTable both to write and read back, though one has to enable the unit before reading. [astropy.io.fits.convenience]\n",
      "WARNING: Meta-data keyword BITPIX will be ignored since it conflicts with a FITS reserved keyword [astropy.io.fits.convenience]\n",
      "WARNING: Meta-data keyword NAXIS will be ignored since it conflicts with a FITS reserved keyword [astropy.io.fits.convenience]\n",
      "WARNING: VerifyWarning: Keyword name 'FLUX_ORIGIN' is greater than 8 characters or contains characters not allowed by the FITS standard; a HIERARCH card will be created. [astropy.io.fits.card]\n",
      "WARNING: VerifyWarning: Keyword name 'QUALITY_BITMASK' is greater than 8 characters or contains characters not allowed by the FITS standard; a HIERARCH card will be created. [astropy.io.fits.card]\n",
      "WARNING: VerifyWarning: Keyword name 'QUALITY_MASK' is greater than 8 characters or contains characters not allowed by the FITS standard; a HIERARCH card will be created. [astropy.io.fits.card]\n",
      "WARNING: Attribute `QUALITY_MASK` of type <class 'numpy.ndarray'> cannot be added to FITS Header - skipping [astropy.io.fits.convenience]\n",
      "WARNING: The unit 'electron2 / s2' could not be saved in native FITS format and cannot be recovered in reading. If pyyaml is installed, it can roundtrip within astropy by using QTable both to write and read back, though one has to enable the unit before reading. [astropy.io.fits.convenience]\n",
      "c:\\users\\ciroe\\gls.py:642: UserWarning: Matplotlib is currently using module://ipykernel.pylab.backend_inline, which is a non-GUI backend, so cannot show the figure.\n",
      "  fig.show()\n"
     ]
    },
    {
     "name": "stdout",
     "output_type": "stream",
     "text": [
      "Elapsed time: 550.93 seconds\n",
      "... SUCCESS.\n",
      "Record: 361, started at 29/03/2022, 23:15:07\n",
      "Previous median lapse time: 472.85 seconds\n",
      "Processing J00067-075 star (TIC: 176287658)...\n",
      "filename: nan\n",
      "--- Some ERROR happened with record #361, J00067-075 star. Error=Not recognized as a supported data product:\n",
      "nan\n",
      "This file may be corrupt due to an interrupted download. Please remove it from your disk and try again.\n",
      "Elapsed time: 0.00 seconds\n",
      "Record: 362, started at 29/03/2022, 23:15:07\n",
      "Previous median lapse time: 470.78 seconds\n",
      "Processing J00051+457 star (TIC: 439946126)...\n",
      "filename: ../data/CARMENES_GTO_TESS_lc/lightcurves/J00051+457/J00051+457_TESS_TIC439946126_S17.fits\n"
     ]
    },
    {
     "name": "stderr",
     "output_type": "stream",
     "text": [
      "WARNING: The unit 'electron / s' could not be saved in native FITS format and cannot be recovered in reading. If pyyaml is installed, it can roundtrip within astropy by using QTable both to write and read back, though one has to enable the unit before reading. [astropy.io.fits.convenience]\n",
      "WARNING: Meta-data keyword BITPIX will be ignored since it conflicts with a FITS reserved keyword [astropy.io.fits.convenience]\n",
      "WARNING: Meta-data keyword NAXIS will be ignored since it conflicts with a FITS reserved keyword [astropy.io.fits.convenience]\n",
      "WARNING: VerifyWarning: Keyword name 'FLUX_ORIGIN' is greater than 8 characters or contains characters not allowed by the FITS standard; a HIERARCH card will be created. [astropy.io.fits.card]\n",
      "WARNING: VerifyWarning: Keyword name 'QUALITY_BITMASK' is greater than 8 characters or contains characters not allowed by the FITS standard; a HIERARCH card will be created. [astropy.io.fits.card]\n",
      "WARNING: VerifyWarning: Keyword name 'QUALITY_MASK' is greater than 8 characters or contains characters not allowed by the FITS standard; a HIERARCH card will be created. [astropy.io.fits.card]\n",
      "WARNING: Attribute `QUALITY_MASK` of type <class 'numpy.ndarray'> cannot be added to FITS Header - skipping [astropy.io.fits.convenience]\n",
      "WARNING: The unit 'electron2 / s2' could not be saved in native FITS format and cannot be recovered in reading. If pyyaml is installed, it can roundtrip within astropy by using QTable both to write and read back, though one has to enable the unit before reading. [astropy.io.fits.convenience]\n",
      "c:\\users\\ciroe\\gls.py:642: UserWarning: Matplotlib is currently using module://ipykernel.pylab.backend_inline, which is a non-GUI backend, so cannot show the figure.\n",
      "  fig.show()\n"
     ]
    },
    {
     "name": "stdout",
     "output_type": "stream",
     "text": [
      "Elapsed time: 558.62 seconds\n",
      "... SUCCESS.\n"
     ]
    }
   ],
   "source": [
    "# Batch processing:\n",
    "lapse_list = []\n",
    "median_lapse = None\n",
    "#for i in range(0, 3):\n",
    "#for i in range(0, 72): # Record 72 took too long to complete.\n",
    "#for i in range(73, 176): # The final records were taking much longer to complete.\n",
    "#for i in range(176, 246): # Aborted at 246 for convenience\n",
    "#for i in range(246, 250): # Record 250 took too long to complete.\n",
    "#for i in range(251, 300): # Record 250 took too long to complete.\n",
    "for i in range(300, len(gto)):\n",
    "    start_time = time.time()\n",
    "    # Names:\n",
    "    karmn = gto.loc[i, 'Karmn'] # KARMENES name\n",
    "    commn = gto.loc[i, 'Name'] # Common name\n",
    "    tic_id = str(gto.loc[i, 'TIC_id']) # TESS TIC identifier\n",
    "    print(\"Record: %d, started at %s\"\n",
    "          %(i, time.strftime('%d/%m/%Y, %H:%M:%S', time.localtime(start_time))))\n",
    "    if median_lapse is None:\n",
    "        print(\"Previous median lapse time: %s\" %median_lapse)\n",
    "    else:\n",
    "        print(\"Previous median lapse time: %.2f seconds\" %median_lapse)\n",
    "    print(\"Processing %s star (TIC: %s)...\" %(karmn, tic_id))\n",
    "    try:\n",
    "        # LOAD LC FILE:\n",
    "        lc_file = gto.loc[i, 'lc_file']\n",
    "        print(\"filename: %s\" %lc_file)\n",
    "        lc_lk = tess_lc_load(lc_file)\n",
    "        \n",
    "        # GENERATE PERIODOGRAM:\n",
    "        gls = Gls((lc_lk['time'].value, lc_lk['flux'].value, lc_lk['flux_err'].value),\n",
    "              fbeg=FBEG, fend=FEND, Pbeg=PBEG, Pend=PEND, ofac=OFAC, hifac=HIFAC, freq=FREQ,\n",
    "              norm=NORM, ls=LS, fast=FAST, verbose=VERBOSE)\n",
    "        \n",
    "        # GENERATE THE FITS FILE:\n",
    "        # Prepare the fits primary HDU (only header):\n",
    "        primary_header = fits.Header()\n",
    "        primary_header['OBJECT'] = (karmn, \"KARMENES target name\")\n",
    "        primary_header['NAME'] = (commn, \"Object common name\")\n",
    "        primary_header['TIC'] = (tic_id, \"Object TESS identifier\")\n",
    "        primary_header['RA_J2000'] = (\"00:05:10.89\", \"Object right ascension (J2000)\")\n",
    "        primary_header['DE_J2000'] = (\"+45:47:11.6\", \"Object declination (J2000)\")\n",
    "        primary_header['SPTYPE'] = (\"M1.0 V\", \"Spectral type\")\n",
    "        primary_header['TEFF_K'] = (3773, \"Effective temperature in Kelvin\")\n",
    "        primary_header['LOGG'] = (5.07, \"Logarithm of surface gravity\")\n",
    "        primary_header['FEH'] = (-0.04, \"Metallicity\")\n",
    "        primary_header['L_LSUN'] = (0.0436229, \"Luminosity in Solar luminosities\")\n",
    "        primary_header['R_RSUN'] = (0.48881, \"Radius in Solar radii\")\n",
    "        primary_header['M_MSUN'] = (0.4918, \"Mass in Solar masses\")\n",
    "        primary_header['D_PC'] = (11.50352803, \"Distance in parsec\")\n",
    "        hdu_primary = fits.PrimaryHDU(header=primary_header)\n",
    "\n",
    "        # Prepare the LC HDU:\n",
    "        hdu_lc = fits.table_to_hdu(QTable(lc_lk.to_table()))\n",
    "        hdu_lc.name = \"TESS_LC\"\n",
    "        psample = lc_infer_sampling(lc_lk).value\n",
    "        fsample = 1.0 / psample\n",
    "        fnyq = 2.0 * fsample\n",
    "        freq_units = u.d ** (-1)\n",
    "        hdu_lc.header['OBJECT'] = (karmn, \"KARMENES target name\")\n",
    "        hdu_lc.header['PUNIT'] = u.d.to_string(format='fits')\n",
    "        hdu_lc.header['FUNIT'] = freq_units.to_string(format='fits')\n",
    "        hdu_lc.header['RVPOINTS'] = (gls.N, \"Number of points in the RV curve\")\n",
    "        hdu_lc.header['AVGFLUX'] = (gls._Y, \"Average flux of RV curve\")\n",
    "        hdu_lc.header['RMSFLUX'] = (np.sqrt(gls._YY), \"Flux RMS of RV curve\")\n",
    "        hdu_lc.header['PSAMPLE'] = (psample, \"Inferred cadence in RV curve\")\n",
    "        hdu_lc.header['FSAMPLE'] = (fsample, \"Inferred sampling frequency in RV curve\")\n",
    "        hdu_lc.header['FNYQUIST'] = (fnyq, \"Calculated Nyquist frequency value\")\n",
    "                \n",
    "        # Prepare the PG HDU:\n",
    "        hdu_pg = fits.table_to_hdu(\n",
    "            QTable(data=[gls.freq, gls.power], names=['freq', 'power'], \n",
    "                   units=[1.0 / u.d, (u.electron / u.s) ** 2]))\n",
    "        hdu_pg.name = \"GLS_PG\"\n",
    "        fpoints = len(gls.f)\n",
    "        fres = (gls.fend - gls.fbeg) / (fpoints - 1)\n",
    "        hdu_pg.header['OBJECT'] = (karmn, \"KARMENES target name\")\n",
    "        hdu_pg.header['FUNIT'] = (freq_units.to_string(format='fits'), \"Unit for frequencies\")\n",
    "        hdu_pg.header['PUNIT'] = (u.d.to_string(format='fits'), \"Unit for periods\")\n",
    "        hdu_pg.header['PK_FREQ'] = (gls.best['f'], \"Frequency of the peak in periodogram\")\n",
    "        hdu_pg.header['PK_POW'] = (gls.pmax, \"Power of the peak in periodogram\")\n",
    "        hdu_pg.header['PK_SNR'] = (gls.best['amp'] / gls.rms, \"SNR of the peak in periodogram\")\n",
    "        hdu_pg.header['PK_FAP'] = (gls.FAP(Pn=None), \"FAP of the peak in periodogram\")\n",
    "        hdu_pg.header['RES_RMS'] = (gls.rms, \"RMS of residuals in periodogram\")\n",
    "        hdu_pg.header['FSAMPLE'] = (fsample, \"Inferred sampling frequency in TESS curve\")\n",
    "        hdu_pg.header['FNYQUIST'] = (fnyq, \"Calculated Nyquist frequency value\")\n",
    "        hdu_pg.header['FPOINTS'] = (fpoints, \"Number of points in periodogram\")\n",
    "        hdu_pg.header['FBEG'] = (gls.fbeg, \"Start frequency in periodogram\")\n",
    "        hdu_pg.header['FEND'] = (gls.fend, \"End frequency in periodogram\")\n",
    "        hdu_pg.header['FRES'] = (fres, \"Frequency resolution in periodogram\")\n",
    "        hdu_pg.header['F'] = (gls.best['f'], \"Peak best estimate: frequency\")\n",
    "        hdu_pg.header['E_F'] = (gls.best['e_f'], \"Peak best estimate: frequency error\")\n",
    "        hdu_pg.header['P'] = (gls.best['P'], \"Peak best estimate: period\")\n",
    "        hdu_pg.header['E_P'] = (gls.best['e_P'], \"Peak best estimate: period error\")\n",
    "        hdu_pg.header['A'] = (gls.best['amp'], \"Peak best estimate: amplitude\")\n",
    "        hdu_pg.header['E_A'] = (gls.best['e_amp'], \"Peak best estimate: amplitude error\")\n",
    "        hdu_pg.header['PH'] = (gls.best['ph'], \"Peak best estimate: phase\")\n",
    "        hdu_pg.header['E_PH'] = (gls.best['e_ph'], \"Peak best estimate: phase error\")\n",
    "        hdu_pg.header['T0'] = (gls.best['T0'], \"Peak best estimate: frequency\")\n",
    "        hdu_pg.header['E_T0'] = (gls.best['e_T0'], \"Peak best estimate: frequency error\")\n",
    "        hdu_pg.header['OFF'] = (gls.best['offset'], \"Peak best estimate: offset\")\n",
    "        hdu_pg.header['E_OFF'] = (gls.best['e_offset'], \"Peak best estimate: offset error\")\n",
    "        hdu_pg.header['OFAC'] = (gls.ofac, \"Setup: oversampling factor\")\n",
    "        hdu_pg.header['HIFAC'] = (gls.ofac, \"Setup: maximum frequency factor\")\n",
    "        hdu_pg.header['NORM'] = (gls.norm, \"Setup: normalization type\")\n",
    "        hdu_pg.header['LS'] = (gls.ls, \"Setup: conventional Lomb-Scargle calculation\")\n",
    "        hdu_pg.header['FAST'] = (gls.fast, \"Setup: fast evaluation, recursive trigonometric\")\n",
    "        \n",
    "        # Create and save the fits file:\n",
    "        fits_filename = OUT_PROCESSED_FOLDER + karmn + \"_TESS_PG.fits\"\n",
    "        hdul = fits.HDUList([hdu_primary, hdu_lc, hdu_pg])\n",
    "        hdul.writeto(fits_filename, overwrite=True)\n",
    "        \n",
    "        # Delete all the HDUs:\n",
    "        del hdul\n",
    "        del hdu_primary\n",
    "        del hdu_lc\n",
    "        del hdu_pg\n",
    "\n",
    "        # FILL IN THE DATA IN THE GTO TABLE:\n",
    "        gto.loc[i, 'n_TESS'] = gls.N\n",
    "        gto.loc[i, 'Ps_TESS'] = psample\n",
    "        gto.loc[i, 'fs_TESS'] = fsample\n",
    "        gto.loc[i, 'wmean_TESS'] = gls._Y\n",
    "        gto.loc[i, 'wrms_TESS'] = np.sqrt(gls._YY)\n",
    "        gto.loc[i, 'info_PG_TESS'] = gls.info(stdout=False)\n",
    "        gto.loc[i, 'maxP_PG_TESS'] = gls.power.max()\n",
    "        gto.loc[i, 'maxSNR_PG_TESS'] = gls.best['amp'] / gls.rms\n",
    "        gto.loc[i, 'rms_PG_TESS'] = gls.rms\n",
    "        gto.loc[i, 'f_PG_TESS'] = gls.best['f']\n",
    "        gto.loc[i, 'e_f_PG_TESS'] = gls.best['e_f']\n",
    "        gto.loc[i, 'Pd_PG_TESS'] = gls.best['P']\n",
    "        gto.loc[i, 'e_Pd_PG_TESS'] = gls.best['e_P']\n",
    "        gto.loc[i, 'Ph_PG_TESS'] = 24.0 * gls.best['P']\n",
    "        gto.loc[i, 'e_Ph_PG_TESS'] = 24.0 * gls.best['e_P']\n",
    "        gto.loc[i, 'Pm_PG_TESS'] = 24.0 * 60.0 * gls.best['P']\n",
    "        gto.loc[i, 'e_Pm_PG_TESS'] = 24.0 * 60.0 * gls.best['e_P']\n",
    "        gto.loc[i, 'A_PG_TESS'] = gls.best['amp']\n",
    "        gto.loc[i, 'e_A_PG_TESS'] = gls.best['e_amp']\n",
    "        gto.loc[i, 'ph_PG_TESS'] = gls.best['ph']\n",
    "        gto.loc[i, 'e_ph_PG_TESS'] = gls.best['e_ph']\n",
    "        gto.loc[i, 'T0_PG_TESS'] = gls.best['T0']\n",
    "        gto.loc[i, 'e_T0_PG_TESS'] = gls.best['e_T0']\n",
    "        gto.loc[i, 'offset_PG_TESS'] = gls.best['offset']\n",
    "        gto.loc[i, 'e_offset_PG_TESS'] = gls.best['e_offset']\n",
    "        gto.loc[i, 'FAP_PG_TESS'] = gls.FAP(Pn=None)\n",
    "\n",
    "        # GENERATE THE FIGURE:\n",
    "        fig = gls.plot(block=False, period=False,\n",
    "                       fap=FAP_LEVELS_PLOT, gls=True, data=True, residuals=True)\n",
    "        figure_title = \"TESS LC: %s (TIC %s), P=%.4f [min], FAP=%.4f%%\" \\\n",
    "            %(karmn, tic_id, gto.loc[i, 'Pm_PG_TESS'], 100.0 * gto.loc[i, 'FAP_PG_TESS'])\n",
    "        fig.suptitle(figure_title, fontdict = {'fontsize' : 36})\n",
    "        fig.tight_layout()\n",
    "        # Save the figure to disk:\n",
    "        fig_file = OUT_IMG_FOLDER + karmn + \"_TESS_PG.png\"\n",
    "        fig.savefig(fig_file)\n",
    "        plt.close() # Prevent the figure from showing.\n",
    "\n",
    "        # SET THE RECORD CALCULATION AS VALID AND STORE THE REULTING FILENAMES\n",
    "        gto.loc[i, 'valid_PG_TESS'] = 1\n",
    "        gto.loc[i, 'error_PG_TESS'] = \"\"\n",
    "        gto.loc[i, 'fits_file_TESS'] = fits_filename\n",
    "        gto.loc[i, 'fig_file_TESS'] = fig_file\n",
    "\n",
    "        # UPDATE THE AVERAGE RECORD PROCESSING TIME:\n",
    "        lapse = time.time() - start_time\n",
    "        lapse_list.append(lapse)\n",
    "        median_lapse = np.nanmedian(lapse_list)\n",
    "        gto.loc[i, 'elapsed_time_PG_TESS'] = lapse\n",
    "        \n",
    "        # SAVE THE UPDATED GTO TABLE TO DISK:\n",
    "        gto.to_csv(GTO_FILE, sep=',', decimal='.', index=False)\n",
    "        \n",
    "        # Report successful execution:\n",
    "        print(\"Elapsed time: %.2f seconds\" %lapse)\n",
    "        print(\"... SUCCESS.\")\n",
    "        \n",
    "    except Exception as e:\n",
    "        # Some error happened, establish the record as not valid and record the error:\n",
    "        error = \"--- Some ERROR happened with record #%d, %s star. Error=%s\" %(i, karmn, e)\n",
    "        print(error)\n",
    "        gto.loc[i, 'valid_PG_TESS'] = 0\n",
    "        gto.loc[i, 'error_PG_TESS'] = e\n",
    "        \n",
    "        # Try to update the record, and save the file:\n",
    "        try:\n",
    "            # UPDATE THE AVERAGE RECORD PROCESSING TIME:\n",
    "            lapse = time.time() - start_time\n",
    "            lapse_list.append(lapse)\n",
    "            median_lapse = np.nanmedian(lapse_list)\n",
    "            gto.loc[i, 'elapsed_time_PG_TESS'] = lapse\n",
    "            print(\"Elapsed time: %.2f seconds\" %lapse)\n",
    "\n",
    "            # SAVE THE UPDATED GTO TABLE TO DISK:\n",
    "            gto.to_csv(GTO_FILE, sep=',', decimal='.', index=False)\n",
    "        except Exception as e2:\n",
    "            error_2 = \"--- Additional ERROR happened with record #%d, %s star. Error=%s\" %(i, karmn, str(e2))\n",
    "            print(error)\n",
    "            gto.loc[i, 'error_PG_TESS'] = gto.loc[i, 'error_PG_TESS'] + \"/\" + str(e2)\n",
    "\n"
   ]
  },
  {
   "cell_type": "code",
   "execution_count": null,
   "id": "24faa833",
   "metadata": {
    "ExecuteTime": {
     "end_time": "2022-03-27T08:49:29.221142Z",
     "start_time": "2022-03-27T08:49:29.201196Z"
    }
   },
   "outputs": [],
   "source": [
    "gto.loc[0:72, ['lc_file', 'error_PG_TESS']]"
   ]
  },
  {
   "cell_type": "code",
   "execution_count": null,
   "id": "c2ac7b2b",
   "metadata": {
    "ExecuteTime": {
     "end_time": "2022-03-27T08:50:59.014733Z",
     "start_time": "2022-03-27T08:50:58.999776Z"
    }
   },
   "outputs": [],
   "source": [
    "gto.loc[gto['lc_file'] == '<ambiguous>', ['Karmn']]"
   ]
  },
  {
   "cell_type": "markdown",
   "id": "6dee85cb",
   "metadata": {},
   "source": [
    "## Review a given file"
   ]
  },
  {
   "cell_type": "code",
   "execution_count": null,
   "id": "fc313c4a",
   "metadata": {
    "ExecuteTime": {
     "end_time": "2022-03-26T22:17:55.511687Z",
     "start_time": "2022-03-26T22:17:55.505736Z"
    }
   },
   "outputs": [],
   "source": [
    "object_name = \"J23548+385\""
   ]
  },
  {
   "cell_type": "code",
   "execution_count": null,
   "id": "b38f1025",
   "metadata": {
    "ExecuteTime": {
     "end_time": "2022-03-26T22:17:56.416355Z",
     "start_time": "2022-03-26T22:17:56.393416Z"
    }
   },
   "outputs": [],
   "source": [
    "read_hdul = fits.open(OUT_PROCESSED_FOLDER + object_name + \"_TESS_PG.fits\",\n",
    "                      mode='update', memmap=False)\n",
    "read_hdul"
   ]
  },
  {
   "cell_type": "code",
   "execution_count": null,
   "id": "af53d9ed",
   "metadata": {
    "ExecuteTime": {
     "end_time": "2022-03-26T22:17:58.245219Z",
     "start_time": "2022-03-26T22:17:58.225274Z"
    }
   },
   "outputs": [],
   "source": [
    "read_hdul.info()"
   ]
  },
  {
   "cell_type": "markdown",
   "id": "b64bfc19",
   "metadata": {
    "ExecuteTime": {
     "end_time": "2022-03-13T10:44:13.485181Z",
     "start_time": "2022-03-13T10:44:13.467228Z"
    }
   },
   "source": [
    "### Retrieve basic information"
   ]
  },
  {
   "cell_type": "code",
   "execution_count": null,
   "id": "bf8ec911",
   "metadata": {
    "ExecuteTime": {
     "end_time": "2022-03-26T22:17:59.588358Z",
     "start_time": "2022-03-26T22:17:59.577387Z"
    }
   },
   "outputs": [],
   "source": [
    "read_hdul['PRIMARY'].header"
   ]
  },
  {
   "cell_type": "markdown",
   "id": "faa3d359",
   "metadata": {},
   "source": [
    "### Retrieve RV curve information"
   ]
  },
  {
   "cell_type": "code",
   "execution_count": null,
   "id": "3b196156",
   "metadata": {
    "ExecuteTime": {
     "end_time": "2022-03-26T22:19:18.079883Z",
     "start_time": "2022-03-26T22:19:18.073901Z"
    }
   },
   "outputs": [],
   "source": [
    "read_hdul['TESS_LC']"
   ]
  },
  {
   "cell_type": "code",
   "execution_count": null,
   "id": "ad8b26e9",
   "metadata": {
    "ExecuteTime": {
     "end_time": "2022-03-26T22:19:19.932197Z",
     "start_time": "2022-03-26T22:19:19.922224Z"
    },
    "scrolled": false
   },
   "outputs": [],
   "source": [
    "read_hdul['TESS_LC'].header"
   ]
  },
  {
   "cell_type": "code",
   "execution_count": null,
   "id": "1ac50efb",
   "metadata": {
    "ExecuteTime": {
     "end_time": "2022-03-26T22:19:31.660953Z",
     "start_time": "2022-03-26T22:19:31.625479Z"
    }
   },
   "outputs": [],
   "source": [
    "read_hdul['TESS_LC'].data[:10]"
   ]
  },
  {
   "cell_type": "code",
   "execution_count": null,
   "id": "d9cf03e7",
   "metadata": {
    "ExecuteTime": {
     "end_time": "2022-03-26T22:19:35.465553Z",
     "start_time": "2022-03-26T22:19:35.377780Z"
    }
   },
   "outputs": [],
   "source": [
    "read_rv_table = QTable.read(read_hdul['TESS_LC'])\n",
    "read_rv_table"
   ]
  },
  {
   "cell_type": "markdown",
   "id": "a8ffe2fb",
   "metadata": {},
   "source": [
    "### Retrieve periodogram information"
   ]
  },
  {
   "cell_type": "code",
   "execution_count": null,
   "id": "1d967fcb",
   "metadata": {
    "ExecuteTime": {
     "end_time": "2022-03-26T22:19:40.526390Z",
     "start_time": "2022-03-26T22:19:40.513426Z"
    }
   },
   "outputs": [],
   "source": [
    "read_hdul['GLS_PG']"
   ]
  },
  {
   "cell_type": "code",
   "execution_count": null,
   "id": "c4ae8cb2",
   "metadata": {
    "ExecuteTime": {
     "end_time": "2022-03-26T22:19:41.395874Z",
     "start_time": "2022-03-26T22:19:41.377755Z"
    }
   },
   "outputs": [],
   "source": [
    "read_hdul['GLS_PG'].header"
   ]
  },
  {
   "cell_type": "code",
   "execution_count": null,
   "id": "4b1064ba",
   "metadata": {
    "ExecuteTime": {
     "end_time": "2022-03-26T22:19:44.983613Z",
     "start_time": "2022-03-26T22:19:44.969650Z"
    }
   },
   "outputs": [],
   "source": [
    "read_hdul['GLS_PG'].data[:10]"
   ]
  },
  {
   "cell_type": "code",
   "execution_count": null,
   "id": "d52143a8",
   "metadata": {
    "ExecuteTime": {
     "end_time": "2022-03-26T22:19:45.571971Z",
     "start_time": "2022-03-26T22:19:45.553984Z"
    }
   },
   "outputs": [],
   "source": [
    "read_pg_table = QTable.read(read_hdul['GLS_PG'])\n",
    "read_pg_table"
   ]
  },
  {
   "cell_type": "code",
   "execution_count": null,
   "id": "6ef2a413",
   "metadata": {
    "ExecuteTime": {
     "end_time": "2022-03-26T22:19:46.209991Z",
     "start_time": "2022-03-26T22:19:46.193074Z"
    }
   },
   "outputs": [],
   "source": [
    "read_pg_table['freq'][:-1]"
   ]
  },
  {
   "cell_type": "code",
   "execution_count": null,
   "id": "05dbbc26",
   "metadata": {
    "ExecuteTime": {
     "end_time": "2022-03-26T22:19:48.293790Z",
     "start_time": "2022-03-26T22:19:48.273830Z"
    }
   },
   "outputs": [],
   "source": [
    "diff_frecs = read_pg_table['freq'][:-1] - read_pg_table['freq'][1:]\n",
    "diff_frecs"
   ]
  },
  {
   "cell_type": "markdown",
   "id": "3d57e6fb",
   "metadata": {},
   "source": [
    "### Delete read information"
   ]
  },
  {
   "cell_type": "code",
   "execution_count": null,
   "id": "b9968559",
   "metadata": {
    "ExecuteTime": {
     "end_time": "2022-03-26T22:19:53.238388Z",
     "start_time": "2022-03-26T22:19:53.210503Z"
    }
   },
   "outputs": [],
   "source": [
    "read_hdul.close()"
   ]
  },
  {
   "cell_type": "code",
   "execution_count": null,
   "id": "12f40111",
   "metadata": {
    "ExecuteTime": {
     "end_time": "2022-03-26T22:19:53.861289Z",
     "start_time": "2022-03-26T22:19:53.850318Z"
    }
   },
   "outputs": [],
   "source": [
    "del read_hdul"
   ]
  },
  {
   "cell_type": "markdown",
   "id": "4fe95649",
   "metadata": {},
   "source": [
    "# Summary"
   ]
  },
  {
   "cell_type": "markdown",
   "id": "9c14f82f",
   "metadata": {},
   "source": [
    "**OBSERVATIONS AND CONCLUSIONS:**\n",
    "- We have completed the basic GLS periodogram calculation for the available TESS light curves for GTO objetcs, and stored the results.\n",
    "- Some of the objects yielded errors, and some others yielded warnings. Those objects should be analized individually."
   ]
  },
  {
   "cell_type": "code",
   "execution_count": null,
   "id": "b6a548c3",
   "metadata": {},
   "outputs": [],
   "source": []
  }
 ],
 "metadata": {
  "kernelspec": {
   "display_name": "Python 3",
   "language": "python",
   "name": "python3"
  },
  "language_info": {
   "codemirror_mode": {
    "name": "ipython",
    "version": 3
   },
   "file_extension": ".py",
   "mimetype": "text/x-python",
   "name": "python",
   "nbconvert_exporter": "python",
   "pygments_lexer": "ipython3",
   "version": "3.8.8"
  },
  "toc": {
   "base_numbering": 1,
   "nav_menu": {},
   "number_sections": true,
   "sideBar": true,
   "skip_h1_title": true,
   "title_cell": "Table of Contents",
   "title_sidebar": "Contents",
   "toc_cell": false,
   "toc_position": {
    "height": "calc(100% - 180px)",
    "left": "10px",
    "top": "150px",
    "width": "303.837px"
   },
   "toc_section_display": true,
   "toc_window_display": true
  }
 },
 "nbformat": 4,
 "nbformat_minor": 5
}
