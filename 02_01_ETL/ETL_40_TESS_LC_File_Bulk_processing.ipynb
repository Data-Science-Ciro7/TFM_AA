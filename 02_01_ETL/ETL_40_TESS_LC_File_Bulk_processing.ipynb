{
 "cells": [
  {
   "cell_type": "markdown",
   "id": "7e41b9a9",
   "metadata": {},
   "source": [
    "# GSL PERIODOGRAMS - TESS LC BATCH FILE PROCESSING"
   ]
  },
  {
   "cell_type": "code",
   "execution_count": 1,
   "id": "c002a739",
   "metadata": {
    "ExecuteTime": {
     "end_time": "2022-08-20T04:42:12.210068Z",
     "start_time": "2022-08-20T04:42:12.199590Z"
    }
   },
   "outputs": [],
   "source": [
    "# NOTA IMPORTANTE - CÓMO IMPLEMENTAR LO DEL \"TIMEOUT\".\n",
    "# https://stackoverflow.com/questions/25027122/break-the-function-after-certain-time\n",
    "# NO SIRVE - SOLO SIRVE PARA ENTORNOS UNIX"
   ]
  },
  {
   "cell_type": "markdown",
   "id": "68d4ff82",
   "metadata": {},
   "source": [
    "This notebook takes the GTO objects table and calculates the Lomb-Scargle periodogram for each of the available TESS light curves, storing the results in `FITS` files with a primary header and two additional header data units, one with the light curve itself and another with the periodogram.\n",
    "\n",
    "Additionally, the GTO objects table and file is updated with new columns storing the results for each object.\n",
    "\n",
    "Error control is implemented to prevent exceptions and timeouts to interrupt the processing. In case any of these errors happen, it is so recorded in the results table. Timeout value is dinamically updated, as the calculation for each record is completed."
   ]
  },
  {
   "cell_type": "markdown",
   "id": "fec5c87e",
   "metadata": {},
   "source": [
    "**Calculation conditions:**\n",
    "\n",
    "The stars currently under analysis are in the $He_{3}$ instability band, so they are expected to have effective temperatures in the range $T_{eff}\\in[3300, 4300] K$, $\\log g\\in[4.5, 5.1]$, and masses in the range $M_{star}\\in[0.20, 0.60] M_{Sun}$.\n",
    "\n",
    "According to _Table 2_ in _The theoretical instability strip of M dwarf stars (Rodríguez-López, C., et al. 2014, MNRAS, 438, 2371)_ these stars have typical periods of $20 min$ to $3 h$, so we will set the limits of the periodogram frequencies for periods between $5 min$ and $10 h$. In days, this corresponds to a range of $P\\in[0.003472, 0.416667] d$ or, equivalently, frequencies in the range $f\\in[288.0, 2.4] d^{-1}$.\n",
    "\n",
    "We will use the _Generalized Lomb Scargle Periodogram_ method, as described in [Zechmeister and Kürster, 2009](https://www.aanda.org/articles/aa/full_html/2009/11/aa11296-08/aa11296-08.html) and implemented by GitHub repository [mzechmeister/GLS](https://github.com/mzechmeister/GLS), using the default _ZK_ normalization."
   ]
  },
  {
   "cell_type": "markdown",
   "id": "9d4512e5",
   "metadata": {},
   "source": [
    "## Modules and configuration"
   ]
  },
  {
   "cell_type": "markdown",
   "id": "a24b300e",
   "metadata": {},
   "source": [
    "### Modules"
   ]
  },
  {
   "cell_type": "code",
   "execution_count": 2,
   "id": "bf7cc337",
   "metadata": {
    "ExecuteTime": {
     "end_time": "2022-08-20T04:42:17.265992Z",
     "start_time": "2022-08-20T04:42:14.760657Z"
    }
   },
   "outputs": [],
   "source": [
    "# Modules import:\n",
    "#from collections import OrderedDict\n",
    "import pandas as pd\n",
    "import numpy as np\n",
    "import time\n",
    "\n",
    "import warnings\n",
    "\n",
    "#from scipy import stats\n",
    "\n",
    "# https://github.com/mzechmeister/GLS\n",
    "from gls import Gls\n",
    "\n",
    "from astropy.table import Table, QTable\n",
    "#from astropy.timeseries import TimeSeries\n",
    "from astropy import units as u\n",
    "from astropy.io import fits\n",
    "#from astropy.time import Time\n",
    "\n",
    "import lightkurve as lk\n",
    "\n",
    "#%matplotlib inline\n",
    "import matplotlib.pyplot as plt\n",
    "\n",
    "from pylab import rcParams\n",
    "rcParams['figure.figsize'] = 11, 11\n",
    "\n",
    "#import seaborn as sns\n",
    "#sns.set_style(\"white\", {'figure.figsize':(15,10)})\n",
    "#sns.set_style(\"whitegrid\")\n",
    "#sns.set(rc={'figure.figsize':(15,8)})"
   ]
  },
  {
   "cell_type": "markdown",
   "id": "be1f4594",
   "metadata": {},
   "source": [
    "### Configuration"
   ]
  },
  {
   "cell_type": "code",
   "execution_count": 3,
   "id": "f3feca3c",
   "metadata": {
    "ExecuteTime": {
     "end_time": "2022-08-20T04:42:17.281793Z",
     "start_time": "2022-08-20T04:42:17.267962Z"
    }
   },
   "outputs": [],
   "source": [
    "# Configuration:\n",
    "# Files and folders:\n",
    "GTO_FILE = \"../data/CARM_VIS_objects_with_PG.csv\"\n",
    "IN_LC_FOLDER = \"../data/CARMENES_GTO_TESS_lc/lightcurves/\"\n",
    "OUT_IMG_FOLDER = \"../data/CARM_VIS_TESS_PGs/figures/\"\n",
    "OUT_PROCESSED_FOLDER = \"../data/CARM_VIS_TESS_PGs/\"\n",
    "#OUT_GTO_FILE = \"../data/GTO_objects_withRVPG.csv\"\n",
    "#OUT_PG_FILE = \"../data/GTO_PGs.csv\"\n",
    "#OUT_ERROR_FILE = \"../data/GTO_PG_ERRORs.csv\"\n",
    "\n",
    "# Periodogram constants:\n",
    "# Periodogram constants:\n",
    "FBEG = 2.4 # d^{-1}, corresponds to a period P=10 hours\n",
    "FEND = 288 # d^{-1}, corresponds to a period P=5 min\n",
    "NUM_POINTS = 285601 # 285600 for TESS LC time-series\n",
    "PBEG = None # Default\n",
    "PEND = None # Default\n",
    "OFAC = 10 # Default\n",
    "HIFAC = 1 # Default\n",
    "#FREQ = np.linspace(start=FBEG, stop=FEND, num=1000001) # 1,000,001 points between 4.8 and 144 d^(-1)\n",
    "FREQ = np.linspace(start=FBEG, stop=FEND, num=NUM_POINTS)\n",
    "# Must be compatible with FBEG, FEND values\n",
    "NORM = \"ZK\" # Default\n",
    "LS = False # Default\n",
    "FAST = False # Default\n",
    "VERBOSE = False # Default\n",
    "FAP_LEVELS_PLOT = [0.01, 0.05, 0.10] # FAP reference levels to plot\n",
    "\n",
    "# PULSATION RANGE OF INTEREST (FOR THE PLOTS):\n",
    "F_LOW = 8 # P=0.1250 d (3 h)\n",
    "F_HIGH = 72 # P=0.0139 d (20 min)\n",
    "\n",
    "# Initial timeout value (to prevent a stuck file to interrupt the whole process)\n",
    "#INITIAL_TIMEOUT = 600 # Seconds\n"
   ]
  },
  {
   "cell_type": "code",
   "execution_count": 4,
   "id": "39b60e99",
   "metadata": {
    "ExecuteTime": {
     "end_time": "2022-08-20T04:42:17.297741Z",
     "start_time": "2022-08-20T04:42:17.282753Z"
    }
   },
   "outputs": [],
   "source": [
    "def tess_lc_load(filename: str):\n",
    "    '''Load the TESS LC file and returns a lightcurve object with just the three relevant columns\n",
    "    Note: it seems to be necessary to drop 'nan' values for GLS to work properly.'''\n",
    "    lc_lk = lk.read(filename).remove_nans()\n",
    "    return lc_lk"
   ]
  },
  {
   "cell_type": "code",
   "execution_count": 5,
   "id": "3b553ca2",
   "metadata": {
    "ExecuteTime": {
     "end_time": "2022-08-20T04:42:17.313697Z",
     "start_time": "2022-08-20T04:42:17.298745Z"
    }
   },
   "outputs": [],
   "source": [
    "def lc_infer_sampling(lc_lk: lk.LightCurve):\n",
    "    '''Infer sampling period from light curve'''\n",
    "    time_diffs = lc_lk['time'][1:] - lc_lk['time'][:-1]\n",
    "    return np.median(time_diffs)"
   ]
  },
  {
   "cell_type": "markdown",
   "id": "471bf7f4",
   "metadata": {},
   "source": [
    "## Data processing"
   ]
  },
  {
   "cell_type": "markdown",
   "id": "993e3a72",
   "metadata": {},
   "source": [
    "### GTO data loading"
   ]
  },
  {
   "cell_type": "code",
   "execution_count": 6,
   "id": "501a2ffe",
   "metadata": {
    "ExecuteTime": {
     "end_time": "2022-08-20T04:42:18.273725Z",
     "start_time": "2022-08-20T04:42:18.206904Z"
    }
   },
   "outputs": [
    {
     "data": {
      "text/html": [
       "<div>\n",
       "<style scoped>\n",
       "    .dataframe tbody tr th:only-of-type {\n",
       "        vertical-align: middle;\n",
       "    }\n",
       "\n",
       "    .dataframe tbody tr th {\n",
       "        vertical-align: top;\n",
       "    }\n",
       "\n",
       "    .dataframe thead th {\n",
       "        text-align: right;\n",
       "    }\n",
       "</style>\n",
       "<table border=\"1\" class=\"dataframe\">\n",
       "  <thead>\n",
       "    <tr style=\"text-align: right;\">\n",
       "      <th></th>\n",
       "      <th>Karmn</th>\n",
       "      <th>Name</th>\n",
       "      <th>Comp</th>\n",
       "      <th>GJ</th>\n",
       "      <th>RA_J2016_deg</th>\n",
       "      <th>DE_J2016_deg</th>\n",
       "      <th>RA_J2000</th>\n",
       "      <th>DE_J2000</th>\n",
       "      <th>l_J2016_deg</th>\n",
       "      <th>b_J2016_deg</th>\n",
       "      <th>...</th>\n",
       "      <th>WF_T0_PG_TESS</th>\n",
       "      <th>WF_e_T0_PG_TESS</th>\n",
       "      <th>WF_offset_PG_TESS</th>\n",
       "      <th>WF_e_offset_PG_TESS</th>\n",
       "      <th>WF_FAP_PG_TESS</th>\n",
       "      <th>WF_valid_PG_TESS</th>\n",
       "      <th>WF_error_PG_TESS</th>\n",
       "      <th>WF_elapsed_time_PG_TESS</th>\n",
       "      <th>WF_plain_file_TESS</th>\n",
       "      <th>WF_fig_file_TESS</th>\n",
       "    </tr>\n",
       "  </thead>\n",
       "  <tbody>\n",
       "    <tr>\n",
       "      <th>0</th>\n",
       "      <td>J23585+076</td>\n",
       "      <td>Wolf 1051</td>\n",
       "      <td>AB</td>\n",
       "      <td>4383</td>\n",
       "      <td>359.636420</td>\n",
       "      <td>7.656947</td>\n",
       "      <td>23:58:32.65</td>\n",
       "      <td>+07:39:30.1</td>\n",
       "      <td>100.839686</td>\n",
       "      <td>-52.931049</td>\n",
       "      <td>...</td>\n",
       "      <td>NaN</td>\n",
       "      <td>NaN</td>\n",
       "      <td>NaN</td>\n",
       "      <td>NaN</td>\n",
       "      <td>NaN</td>\n",
       "      <td>0.0</td>\n",
       "      <td>Not recognized as a supported data product:\\nn...</td>\n",
       "      <td>0.000997</td>\n",
       "      <td>NaN</td>\n",
       "      <td>NaN</td>\n",
       "    </tr>\n",
       "    <tr>\n",
       "      <th>1</th>\n",
       "      <td>J23556-061</td>\n",
       "      <td>GJ 912</td>\n",
       "      <td>AB</td>\n",
       "      <td>912</td>\n",
       "      <td>358.913617</td>\n",
       "      <td>-6.144283</td>\n",
       "      <td>23:55:39.78</td>\n",
       "      <td>-06:08:33.4</td>\n",
       "      <td>88.129933</td>\n",
       "      <td>-65.175491</td>\n",
       "      <td>...</td>\n",
       "      <td>NaN</td>\n",
       "      <td>NaN</td>\n",
       "      <td>NaN</td>\n",
       "      <td>NaN</td>\n",
       "      <td>NaN</td>\n",
       "      <td>0.0</td>\n",
       "      <td>Not recognized as a supported data product:\\nn...</td>\n",
       "      <td>0.000998</td>\n",
       "      <td>NaN</td>\n",
       "      <td>NaN</td>\n",
       "    </tr>\n",
       "    <tr>\n",
       "      <th>2</th>\n",
       "      <td>J23548+385</td>\n",
       "      <td>RX J2354.8+3831</td>\n",
       "      <td>-</td>\n",
       "      <td>NaN</td>\n",
       "      <td>358.713658</td>\n",
       "      <td>38.526340</td>\n",
       "      <td>23:54:51.46</td>\n",
       "      <td>+38:31:36.2</td>\n",
       "      <td>110.941908</td>\n",
       "      <td>-23.024449</td>\n",
       "      <td>...</td>\n",
       "      <td>1764.689208</td>\n",
       "      <td>0.027575</td>\n",
       "      <td>999.999756</td>\n",
       "      <td>2.151008e-06</td>\n",
       "      <td>1.0</td>\n",
       "      <td>1.0</td>\n",
       "      <td>NaN</td>\n",
       "      <td>94.758838</td>\n",
       "      <td>../data/CARM_VIS_TESS_WinFunc_PGs/WF_J23548+38...</td>\n",
       "      <td>../data/CARM_VIS_TESS_WinFunc_PGs/figures/WF_J...</td>\n",
       "    </tr>\n",
       "    <tr>\n",
       "      <th>3</th>\n",
       "      <td>J23505-095</td>\n",
       "      <td>LP 763-012</td>\n",
       "      <td>-</td>\n",
       "      <td>4367</td>\n",
       "      <td>357.634705</td>\n",
       "      <td>-9.560964</td>\n",
       "      <td>23:50:31.64</td>\n",
       "      <td>-09:33:32.7</td>\n",
       "      <td>80.777067</td>\n",
       "      <td>-67.303426</td>\n",
       "      <td>...</td>\n",
       "      <td>1353.926624</td>\n",
       "      <td>0.036481</td>\n",
       "      <td>1000.000122</td>\n",
       "      <td>9.022946e-07</td>\n",
       "      <td>1.0</td>\n",
       "      <td>1.0</td>\n",
       "      <td>NaN</td>\n",
       "      <td>132.607176</td>\n",
       "      <td>../data/CARM_VIS_TESS_WinFunc_PGs/WF_J23505-09...</td>\n",
       "      <td>../data/CARM_VIS_TESS_WinFunc_PGs/figures/WF_J...</td>\n",
       "    </tr>\n",
       "    <tr>\n",
       "      <th>4</th>\n",
       "      <td>J23492+024</td>\n",
       "      <td>BR Psc</td>\n",
       "      <td>-</td>\n",
       "      <td>908</td>\n",
       "      <td>357.306604</td>\n",
       "      <td>2.396918</td>\n",
       "      <td>23:49:12.53</td>\n",
       "      <td>+02:24:04.4</td>\n",
       "      <td>93.567467</td>\n",
       "      <td>-56.885396</td>\n",
       "      <td>...</td>\n",
       "      <td>NaN</td>\n",
       "      <td>NaN</td>\n",
       "      <td>NaN</td>\n",
       "      <td>NaN</td>\n",
       "      <td>NaN</td>\n",
       "      <td>0.0</td>\n",
       "      <td>Not recognized as a supported data product:\\nn...</td>\n",
       "      <td>0.001995</td>\n",
       "      <td>NaN</td>\n",
       "      <td>NaN</td>\n",
       "    </tr>\n",
       "  </tbody>\n",
       "</table>\n",
       "<p>5 rows × 298 columns</p>\n",
       "</div>"
      ],
      "text/plain": [
       "        Karmn             Name Comp    GJ  RA_J2016_deg  DE_J2016_deg  \\\n",
       "0  J23585+076        Wolf 1051   AB  4383    359.636420      7.656947   \n",
       "1  J23556-061           GJ 912   AB   912    358.913617     -6.144283   \n",
       "2  J23548+385  RX J2354.8+3831    -   NaN    358.713658     38.526340   \n",
       "3  J23505-095       LP 763-012    -  4367    357.634705     -9.560964   \n",
       "4  J23492+024           BR Psc    -   908    357.306604      2.396918   \n",
       "\n",
       "      RA_J2000     DE_J2000  l_J2016_deg  b_J2016_deg  ... WF_T0_PG_TESS  \\\n",
       "0  23:58:32.65  +07:39:30.1   100.839686   -52.931049  ...           NaN   \n",
       "1  23:55:39.78  -06:08:33.4    88.129933   -65.175491  ...           NaN   \n",
       "2  23:54:51.46  +38:31:36.2   110.941908   -23.024449  ...   1764.689208   \n",
       "3  23:50:31.64  -09:33:32.7    80.777067   -67.303426  ...   1353.926624   \n",
       "4  23:49:12.53  +02:24:04.4    93.567467   -56.885396  ...           NaN   \n",
       "\n",
       "  WF_e_T0_PG_TESS  WF_offset_PG_TESS WF_e_offset_PG_TESS  WF_FAP_PG_TESS  \\\n",
       "0             NaN                NaN                 NaN             NaN   \n",
       "1             NaN                NaN                 NaN             NaN   \n",
       "2        0.027575         999.999756        2.151008e-06             1.0   \n",
       "3        0.036481        1000.000122        9.022946e-07             1.0   \n",
       "4             NaN                NaN                 NaN             NaN   \n",
       "\n",
       "   WF_valid_PG_TESS                                   WF_error_PG_TESS  \\\n",
       "0               0.0  Not recognized as a supported data product:\\nn...   \n",
       "1               0.0  Not recognized as a supported data product:\\nn...   \n",
       "2               1.0                                                NaN   \n",
       "3               1.0                                                NaN   \n",
       "4               0.0  Not recognized as a supported data product:\\nn...   \n",
       "\n",
       "   WF_elapsed_time_PG_TESS                                 WF_plain_file_TESS  \\\n",
       "0                 0.000997                                                NaN   \n",
       "1                 0.000998                                                NaN   \n",
       "2                94.758838  ../data/CARM_VIS_TESS_WinFunc_PGs/WF_J23548+38...   \n",
       "3               132.607176  ../data/CARM_VIS_TESS_WinFunc_PGs/WF_J23505-09...   \n",
       "4                 0.001995                                                NaN   \n",
       "\n",
       "                                    WF_fig_file_TESS  \n",
       "0                                                NaN  \n",
       "1                                                NaN  \n",
       "2  ../data/CARM_VIS_TESS_WinFunc_PGs/figures/WF_J...  \n",
       "3  ../data/CARM_VIS_TESS_WinFunc_PGs/figures/WF_J...  \n",
       "4                                                NaN  \n",
       "\n",
       "[5 rows x 298 columns]"
      ]
     },
     "execution_count": 6,
     "metadata": {},
     "output_type": "execute_result"
    }
   ],
   "source": [
    "# Load GTO data table:\n",
    "gto = pd.read_csv(GTO_FILE, sep=',', decimal='.')\n",
    "gto.head(5)"
   ]
  },
  {
   "cell_type": "code",
   "execution_count": 7,
   "id": "2e77fa32",
   "metadata": {
    "ExecuteTime": {
     "end_time": "2022-08-20T04:42:18.558980Z",
     "start_time": "2022-08-20T04:42:18.542025Z"
    }
   },
   "outputs": [
    {
     "name": "stdout",
     "output_type": "stream",
     "text": [
      "['Karmn', 'Name', 'Comp', 'GJ', 'RA_J2016_deg', 'DE_J2016_deg', 'RA_J2000', 'DE_J2000', 'l_J2016_deg', 'b_J2016_deg', 'Ref01', 'SpT', 'SpTnum', 'Ref02', 'Teff_K', 'eTeff_K', 'logg', 'elogg', '[Fe/H]', 'e[Fe/H]', 'Ref03', 'L_Lsol', 'eL_Lsol', 'Ref04', 'R_Rsol', 'eR_Rsol', 'Ref05', 'M_Msol', 'eM_Msol', 'Ref06', 'muRA_masa-1', 'emuRA_masa-1', 'muDE_masa-1', 'emuDE_masa-1', 'Ref07', 'pi_mas', 'epi_mas', 'Ref08', 'd_pc', 'ed_pc', 'Ref09', 'Vr_kms-1', 'eVr_kms-1', 'Ref10', 'ruwe', 'Ref11', 'U_kms-1', 'eU_kms-1', 'V_kms-1', 'eV_kms-1', 'W_kms-1', 'eW_kms-1', 'Ref12', 'sa_m/s/a', 'esa_m/s/a', 'Ref13', 'SKG', 'Ref14', 'SKG_lit', 'Ref14_lit', 'Pop', 'Ref15', 'vsini_flag', 'vsini_kms-1', 'evsini_kms-1', 'Ref16', 'P_d', 'eP_d', 'Ref17', 'pEWHalpha_A', 'epEWHalpha_A', 'Ref18', 'log(LHalpha/Lbol)', 'elog(LHalpha/Lbol)', 'Ref19', '1RXS', 'CRT_s-1', 'eCRT_s-1', 'HR1', 'eHR1', 'HR2', 'eHR2', 'Flux_X_E-13_ergcm-2s-1', 'eFlux_X_E-13_ergcm-2s-1', 'LX/LJ', 'eLX/LJ', 'Ref20', 'Activity', 'Ref21', 'FUV_mag', 'eFUV_mag', 'NUV_mag', 'eNUV_mag', 'Ref22', 'u_mag', 'eu_mag', 'Ref23', 'BT_mag', 'eBT_mag', 'Ref24', 'B_mag', 'eB_mag', 'Ref25', 'BP_mag', 'eBP_mag', 'Ref26', 'g_mag', 'eg_mag', 'Ref27', 'VT_mag', 'eVT_mag', 'Ref28', 'V_mag', 'eV_mag', 'Ref29', 'Ra_mag', 'Ref30', 'r_mag', 'er_mag', 'Ref31', 'GG_mag', 'eGG_mag', 'Ref32', 'i_mag', 'ei_mag', 'Ref33', 'RP_mag', 'eRP_mag', 'Ref34', 'IN_mag', 'Ref35', 'J_mag', 'eJ_mag', 'H_mag', 'eH_mag', 'Ks_mag', 'eKs_mag', 'QFlag_2M', 'Ref36', 'W1_mag', 'eW1_mag', 'W2_mag', 'eW2_mag', 'W3_mag', 'eW3_mag', 'W4_mag', 'eW4_mag', 'QFlag_WISE', 'Ref37', 'Multiplicity', 'WideWDS', 'Widerho_arcsec', 'eWiderho_arcsec', 'Ref38', 'WideCompanionName', 'WideCompanionSpT', 'CloseWDS', 'Closerho_arcsec', 'eCloserho_arcsec', 'Ref39', 'CloseCompanionSpT', 'RV', 'Planet', 'Ref40', 'PlanetNum', 'LoRes_spectrum', 'HiRes_spectrum', 'LoRes_imaging', 'HiRes_imaging', 'Class', 'Survey', 'Notes', 'Gaia_id_1', '2MASS_id', 'TIC_id', 'Teff_min_K', 'Teff_max_K', 'logg_min', 'logg_max', 'is_GTO', 'rv_file', 'lc_file', 'has_rv', 'has_lc', 'InstBand_nominal', 'InstBand_ranged', 'n_RV', 'Ps_RV', 'fs_RV', 'wmean_RV', 'wrms_RV', 'info_PG_RV', 'maxP_PG_RV', 'maxSNR_PG_RV', 'rms_PG_RV', 'f_PG_RV', 'e_f_PG_RV', 'Pd_PG_RV', 'e_Pd_PG_RV', 'Ph_PG_RV', 'e_Ph_PG_RV', 'Pm_PG_RV', 'e_Pm_PG_RV', 'A_PG_RV', 'e_A_PG_RV', 'ph_PG_RV', 'e_ph_PG_RV', 'T0_PG_RV', 'e_T0_PG_RV', 'offset_PG_RV', 'e_offset_PG_RV', 'FAP_PG_RV', 'valid_PG_RV', 'error_PG_RV', 'elapsed_time_PG_RV', 'fits_file_RV', 'fig_file_RV', 'n_TESS', 'Ps_TESS', 'fs_TESS', 'wmean_TESS', 'wrms_TESS', 'info_PG_TESS', 'maxP_PG_TESS', 'maxSNR_PG_TESS', 'rms_PG_TESS', 'f_PG_TESS', 'e_f_PG_TESS', 'Pd_PG_TESS', 'e_Pd_PG_TESS', 'Ph_PG_TESS', 'e_Ph_PG_TESS', 'Pm_PG_TESS', 'e_Pm_PG_TESS', 'A_PG_TESS', 'e_A_PG_TESS', 'ph_PG_TESS', 'e_ph_PG_TESS', 'T0_PG_TESS', 'e_T0_PG_TESS', 'offset_PG_TESS', 'e_offset_PG_TESS', 'FAP_PG_TESS', 'valid_PG_TESS', 'error_PG_TESS', 'elapsed_time_PG_TESS', 'fits_file_TESS', 'fig_file_TESS', 'WF_maxP_PG_RV', 'WF_maxSNR_PG_RV', 'WF_rms_PG_RV', 'WF_f_PG_RV', 'WF_e_f_PG_RV', 'WF_Pd_PG_RV', 'WF_e_Pd_PG_RV', 'WF_Ph_PG_RV', 'WF_e_Ph_PG_RV', 'WF_Pm_PG_RV', 'WF_e_Pm_PG_RV', 'WF_A_PG_RV', 'WF_e_A_PG_RV', 'WF_ph_PG_RV', 'WF_e_ph_PG_RV', 'WF_T0_PG_RV', 'WF_e_T0_PG_RV', 'WF_offset_PG_RV', 'WF_e_offset_PG_RV', 'WF_FAP_PG_RV', 'WF_valid_PG_RV', 'WF_error_PG_RV', 'WF_elapsed_time_PG_RV', 'WF_plain_file_RV', 'WF_fig_file_RV', 'WF_maxP_PG_TESS', 'WF_maxSNR_PG_TESS', 'WF_rms_PG_TESS', 'WF_f_PG_TESS', 'WF_e_f_PG_TESS', 'WF_Pd_PG_TESS', 'WF_e_Pd_PG_TESS', 'WF_Ph_PG_TESS', 'WF_e_Ph_PG_TESS', 'WF_Pm_PG_TESS', 'WF_e_Pm_PG_TESS', 'WF_A_PG_TESS', 'WF_e_A_PG_TESS', 'WF_ph_PG_TESS', 'WF_e_ph_PG_TESS', 'WF_T0_PG_TESS', 'WF_e_T0_PG_TESS', 'WF_offset_PG_TESS', 'WF_e_offset_PG_TESS', 'WF_FAP_PG_TESS', 'WF_valid_PG_TESS', 'WF_error_PG_TESS', 'WF_elapsed_time_PG_TESS', 'WF_plain_file_TESS', 'WF_fig_file_TESS']\n"
     ]
    }
   ],
   "source": [
    "print(list(gto.columns))"
   ]
  },
  {
   "cell_type": "code",
   "execution_count": 8,
   "id": "d1adb3a0",
   "metadata": {
    "ExecuteTime": {
     "end_time": "2022-08-20T04:42:18.954844Z",
     "start_time": "2022-08-20T04:42:18.949858Z"
    }
   },
   "outputs": [
    {
     "data": {
      "text/plain": [
       "Karmn                                             J19025+754\n",
       "has_lc                                                  True\n",
       "lc_file    ../data/CARMENES_GTO_TESS_lc/lightcurves/J1902...\n",
       "Name: 72, dtype: object"
      ]
     },
     "execution_count": 8,
     "metadata": {},
     "output_type": "execute_result"
    }
   ],
   "source": [
    "gto.loc[72, ['Karmn', 'has_lc', 'lc_file']]"
   ]
  },
  {
   "cell_type": "markdown",
   "id": "d9a9a082",
   "metadata": {},
   "source": [
    "Generate the proper auxiliary columns (with the basic periodograms results)."
   ]
  },
  {
   "cell_type": "code",
   "execution_count": 9,
   "id": "19c50c80",
   "metadata": {
    "ExecuteTime": {
     "end_time": "2022-08-20T04:42:19.928852Z",
     "start_time": "2022-08-20T04:42:19.919877Z"
    }
   },
   "outputs": [],
   "source": [
    "# Additional columns:\n",
    "if 'n_TESS' in gto.columns:\n",
    "    pass\n",
    "else:\n",
    "    gto['n_TESS'] = None # Number of points in TESS LC\n",
    "    gto['Ps_TESS'] = None # Sampling period (d)\n",
    "    gto['fs_TESS'] = None # Sampling frequency (d^(-1))\n",
    "    gto['wmean_TESS'] = None # Mean of TESS LC\n",
    "    gto['wrms_TESS'] = None # RMS of TESS LC\n",
    "    gto['info_PG_TESS'] = None # Information text about the PG\n",
    "    gto['maxP_PG_TESS'] = None # Max power value in the PG\n",
    "    gto['maxSNR_PG_TESS'] = None # Max power value in the PG\n",
    "    gto['rms_PG_TESS'] = None # RMS value in the PG residuals\n",
    "    gto['f_PG_TESS'] = None # Best frequency in the PG (d^(-1))\n",
    "    gto['e_f_PG_TESS'] = None # Error of the best frequency in the PG (d^(-1))\n",
    "    gto['Pd_PG_TESS'] = None # Best period in the PG (d)\n",
    "    gto['e_Pd_PG_TESS'] = None # Error of the best period in the PG (d)\n",
    "    gto['Ph_PG_TESS'] = None # Best period in the PG (hours)\n",
    "    gto['e_Ph_PG_TESS'] = None # Error of the best period in the PG (hours)\n",
    "    gto['Pm_PG_TESS'] = None # Best period in the PG (minutes)\n",
    "    gto['e_Pm_PG_TESS'] = None # Error of the best period in the PG (minutes)\n",
    "    gto['A_PG_TESS'] = None # Amplitude of the best frequency\n",
    "    gto['e_A_PG_TESS'] = None # Error of the amplitude of the best frequency\n",
    "    gto['ph_PG_TESS'] = None # Amplitude of the best frequency\n",
    "    gto['e_ph_PG_TESS'] = None # Error of the amplitude of the best frequency\n",
    "    gto['T0_PG_TESS'] = None # Reference epoch of the best frequency\n",
    "    gto['e_T0_PG_TESS'] = None # Error of the epoch of the best frequency\n",
    "    gto['offset_PG_TESS'] = None # Offset of the best frequency\n",
    "    gto['e_offset_PG_TESS'] = None # Error of the offset of the best frequency\n",
    "    gto['FAP_PG_TESS'] = None # False alarm probability\n",
    "    gto['valid_PG_TESS'] = None # Flag to indicate if the periodogram calculation succeeded (1) or not (0).\n",
    "    gto['error_PG_TESS'] = None # The error raised during processing. Empty if processing was successful.\n",
    "    gto['elapsed_time_PG_TESS'] = None # The time elapsed in calculation\n",
    "    gto['fits_file_TESS'] = None # The name of the processed file.\n",
    "    gto['fig_file_TESS'] = None # The name of the figure file.\n"
   ]
  },
  {
   "cell_type": "code",
   "execution_count": 10,
   "id": "bedb2b0c",
   "metadata": {
    "ExecuteTime": {
     "end_time": "2022-08-20T04:42:20.920168Z",
     "start_time": "2022-08-20T04:42:20.903185Z"
    }
   },
   "outputs": [
    {
     "name": "stdout",
     "output_type": "stream",
     "text": [
      "['Karmn', 'Name', 'Comp', 'GJ', 'RA_J2016_deg', 'DE_J2016_deg', 'RA_J2000', 'DE_J2000', 'l_J2016_deg', 'b_J2016_deg', 'Ref01', 'SpT', 'SpTnum', 'Ref02', 'Teff_K', 'eTeff_K', 'logg', 'elogg', '[Fe/H]', 'e[Fe/H]', 'Ref03', 'L_Lsol', 'eL_Lsol', 'Ref04', 'R_Rsol', 'eR_Rsol', 'Ref05', 'M_Msol', 'eM_Msol', 'Ref06', 'muRA_masa-1', 'emuRA_masa-1', 'muDE_masa-1', 'emuDE_masa-1', 'Ref07', 'pi_mas', 'epi_mas', 'Ref08', 'd_pc', 'ed_pc', 'Ref09', 'Vr_kms-1', 'eVr_kms-1', 'Ref10', 'ruwe', 'Ref11', 'U_kms-1', 'eU_kms-1', 'V_kms-1', 'eV_kms-1', 'W_kms-1', 'eW_kms-1', 'Ref12', 'sa_m/s/a', 'esa_m/s/a', 'Ref13', 'SKG', 'Ref14', 'SKG_lit', 'Ref14_lit', 'Pop', 'Ref15', 'vsini_flag', 'vsini_kms-1', 'evsini_kms-1', 'Ref16', 'P_d', 'eP_d', 'Ref17', 'pEWHalpha_A', 'epEWHalpha_A', 'Ref18', 'log(LHalpha/Lbol)', 'elog(LHalpha/Lbol)', 'Ref19', '1RXS', 'CRT_s-1', 'eCRT_s-1', 'HR1', 'eHR1', 'HR2', 'eHR2', 'Flux_X_E-13_ergcm-2s-1', 'eFlux_X_E-13_ergcm-2s-1', 'LX/LJ', 'eLX/LJ', 'Ref20', 'Activity', 'Ref21', 'FUV_mag', 'eFUV_mag', 'NUV_mag', 'eNUV_mag', 'Ref22', 'u_mag', 'eu_mag', 'Ref23', 'BT_mag', 'eBT_mag', 'Ref24', 'B_mag', 'eB_mag', 'Ref25', 'BP_mag', 'eBP_mag', 'Ref26', 'g_mag', 'eg_mag', 'Ref27', 'VT_mag', 'eVT_mag', 'Ref28', 'V_mag', 'eV_mag', 'Ref29', 'Ra_mag', 'Ref30', 'r_mag', 'er_mag', 'Ref31', 'GG_mag', 'eGG_mag', 'Ref32', 'i_mag', 'ei_mag', 'Ref33', 'RP_mag', 'eRP_mag', 'Ref34', 'IN_mag', 'Ref35', 'J_mag', 'eJ_mag', 'H_mag', 'eH_mag', 'Ks_mag', 'eKs_mag', 'QFlag_2M', 'Ref36', 'W1_mag', 'eW1_mag', 'W2_mag', 'eW2_mag', 'W3_mag', 'eW3_mag', 'W4_mag', 'eW4_mag', 'QFlag_WISE', 'Ref37', 'Multiplicity', 'WideWDS', 'Widerho_arcsec', 'eWiderho_arcsec', 'Ref38', 'WideCompanionName', 'WideCompanionSpT', 'CloseWDS', 'Closerho_arcsec', 'eCloserho_arcsec', 'Ref39', 'CloseCompanionSpT', 'RV', 'Planet', 'Ref40', 'PlanetNum', 'LoRes_spectrum', 'HiRes_spectrum', 'LoRes_imaging', 'HiRes_imaging', 'Class', 'Survey', 'Notes', 'Gaia_id_1', '2MASS_id', 'TIC_id', 'Teff_min_K', 'Teff_max_K', 'logg_min', 'logg_max', 'is_GTO', 'rv_file', 'lc_file', 'has_rv', 'has_lc', 'InstBand_nominal', 'InstBand_ranged', 'n_RV', 'Ps_RV', 'fs_RV', 'wmean_RV', 'wrms_RV', 'info_PG_RV', 'maxP_PG_RV', 'maxSNR_PG_RV', 'rms_PG_RV', 'f_PG_RV', 'e_f_PG_RV', 'Pd_PG_RV', 'e_Pd_PG_RV', 'Ph_PG_RV', 'e_Ph_PG_RV', 'Pm_PG_RV', 'e_Pm_PG_RV', 'A_PG_RV', 'e_A_PG_RV', 'ph_PG_RV', 'e_ph_PG_RV', 'T0_PG_RV', 'e_T0_PG_RV', 'offset_PG_RV', 'e_offset_PG_RV', 'FAP_PG_RV', 'valid_PG_RV', 'error_PG_RV', 'elapsed_time_PG_RV', 'fits_file_RV', 'fig_file_RV', 'n_TESS', 'Ps_TESS', 'fs_TESS', 'wmean_TESS', 'wrms_TESS', 'info_PG_TESS', 'maxP_PG_TESS', 'maxSNR_PG_TESS', 'rms_PG_TESS', 'f_PG_TESS', 'e_f_PG_TESS', 'Pd_PG_TESS', 'e_Pd_PG_TESS', 'Ph_PG_TESS', 'e_Ph_PG_TESS', 'Pm_PG_TESS', 'e_Pm_PG_TESS', 'A_PG_TESS', 'e_A_PG_TESS', 'ph_PG_TESS', 'e_ph_PG_TESS', 'T0_PG_TESS', 'e_T0_PG_TESS', 'offset_PG_TESS', 'e_offset_PG_TESS', 'FAP_PG_TESS', 'valid_PG_TESS', 'error_PG_TESS', 'elapsed_time_PG_TESS', 'fits_file_TESS', 'fig_file_TESS', 'WF_maxP_PG_RV', 'WF_maxSNR_PG_RV', 'WF_rms_PG_RV', 'WF_f_PG_RV', 'WF_e_f_PG_RV', 'WF_Pd_PG_RV', 'WF_e_Pd_PG_RV', 'WF_Ph_PG_RV', 'WF_e_Ph_PG_RV', 'WF_Pm_PG_RV', 'WF_e_Pm_PG_RV', 'WF_A_PG_RV', 'WF_e_A_PG_RV', 'WF_ph_PG_RV', 'WF_e_ph_PG_RV', 'WF_T0_PG_RV', 'WF_e_T0_PG_RV', 'WF_offset_PG_RV', 'WF_e_offset_PG_RV', 'WF_FAP_PG_RV', 'WF_valid_PG_RV', 'WF_error_PG_RV', 'WF_elapsed_time_PG_RV', 'WF_plain_file_RV', 'WF_fig_file_RV', 'WF_maxP_PG_TESS', 'WF_maxSNR_PG_TESS', 'WF_rms_PG_TESS', 'WF_f_PG_TESS', 'WF_e_f_PG_TESS', 'WF_Pd_PG_TESS', 'WF_e_Pd_PG_TESS', 'WF_Ph_PG_TESS', 'WF_e_Ph_PG_TESS', 'WF_Pm_PG_TESS', 'WF_e_Pm_PG_TESS', 'WF_A_PG_TESS', 'WF_e_A_PG_TESS', 'WF_ph_PG_TESS', 'WF_e_ph_PG_TESS', 'WF_T0_PG_TESS', 'WF_e_T0_PG_TESS', 'WF_offset_PG_TESS', 'WF_e_offset_PG_TESS', 'WF_FAP_PG_TESS', 'WF_valid_PG_TESS', 'WF_error_PG_TESS', 'WF_elapsed_time_PG_TESS', 'WF_plain_file_TESS', 'WF_fig_file_TESS']\n"
     ]
    }
   ],
   "source": [
    "print(list(gto.columns))"
   ]
  },
  {
   "cell_type": "markdown",
   "id": "597c96b4",
   "metadata": {},
   "source": [
    "### Batch processing of all TESS files"
   ]
  },
  {
   "cell_type": "code",
   "execution_count": 11,
   "id": "69a20e73",
   "metadata": {
    "ExecuteTime": {
     "end_time": "2022-08-20T04:42:21.930700Z",
     "start_time": "2022-08-20T04:42:21.926712Z"
    }
   },
   "outputs": [
    {
     "data": {
      "text/plain": [
       "390"
      ]
     },
     "execution_count": 11,
     "metadata": {},
     "output_type": "execute_result"
    }
   ],
   "source": [
    "n = len(gto)\n",
    "n"
   ]
  },
  {
   "cell_type": "markdown",
   "id": "d26c8d44",
   "metadata": {},
   "source": [
    "#### Batch processing"
   ]
  },
  {
   "cell_type": "code",
   "execution_count": 12,
   "id": "74284415",
   "metadata": {
    "ExecuteTime": {
     "end_time": "2022-08-20T08:05:45.273555Z",
     "start_time": "2022-08-20T04:42:23.279523Z"
    },
    "scrolled": false
   },
   "outputs": [
    {
     "name": "stdout",
     "output_type": "stream",
     "text": [
      "Record: 300, started at 20/08/2022, 06:42:23\n",
      "Previous median lapse time: None\n",
      "Processing J05421+124 star (TIC: 247463344)...\n",
      "filename: ../data/CARMENES_GTO_TESS_lc/lightcurves/J05421+124/J05421+124_TESS_TIC247463344_S06.fits\n",
      "Elapsed time: 114.55 seconds\n",
      "... SUCCESS.\n",
      "Record: 301, started at 20/08/2022, 06:44:17\n",
      "Previous median lapse time: 114.55 seconds\n",
      "Processing J05415+534 star (TIC: 311064351)...\n",
      "filename: ../data/CARMENES_GTO_TESS_lc/lightcurves/J05415+534/J05415+534_TESS_TIC311064351_S19.fits\n",
      "Elapsed time: 10.85 seconds\n",
      "... SUCCESS.\n",
      "Record: 302, started at 20/08/2022, 06:44:28\n",
      "Previous median lapse time: 62.70 seconds\n",
      "Processing J05394+406 star (TIC: 239097694)...\n",
      "filename: ../data/CARMENES_GTO_TESS_lc/lightcurves/J05394+406/J05394+406_TESS_TIC239097694_S19.fits\n",
      "Elapsed time: 125.79 seconds\n",
      "... SUCCESS.\n",
      "Record: 303, started at 20/08/2022, 06:46:34\n",
      "Previous median lapse time: 114.55 seconds\n",
      "Processing J05366+112 star (TIC: 436248798)...\n",
      "filename: ../data/CARMENES_GTO_TESS_lc/lightcurves/J05366+112/J05366+112_TESS_TIC436248798_S06.fits\n",
      "Elapsed time: 10.05 seconds\n",
      "... SUCCESS.\n",
      "Record: 304, started at 20/08/2022, 06:46:44\n",
      "Previous median lapse time: 62.70 seconds\n",
      "Processing J05365+113 star (TIC: 436248822)...\n",
      "filename: ../data/CARMENES_GTO_TESS_lc/lightcurves/J05365+113/J05365+113_TESS_TIC436248822_S06.fits\n",
      "Elapsed time: 117.15 seconds\n",
      "... SUCCESS.\n",
      "Record: 305, started at 20/08/2022, 06:48:42\n",
      "Previous median lapse time: 114.55 seconds\n",
      "Processing J05360-076 star (TIC: 388934726)...\n",
      "filename: ../data/CARMENES_GTO_TESS_lc/lightcurves/J05360-076/J05360-076_TESS_TIC388934726_S06.fits\n",
      "Elapsed time: 119.27 seconds\n",
      "... SUCCESS.\n",
      "Record: 306, started at 20/08/2022, 06:50:41\n",
      "Previous median lapse time: 115.85 seconds\n",
      "Processing J05348+138 star (TIC: 52373734)...\n",
      "filename: ../data/CARMENES_GTO_TESS_lc/lightcurves/J05348+138/J05348+138_TESS_TIC52373734_S06.fits\n",
      "Elapsed time: 122.57 seconds\n",
      "... SUCCESS.\n",
      "Record: 307, started at 20/08/2022, 06:52:44\n",
      "Previous median lapse time: 117.15 seconds\n",
      "Processing J05337+019 star (TIC: 220044948)...\n",
      "filename: ../data/CARMENES_GTO_TESS_lc/lightcurves/J05337+019/J05337+019_TESS_TIC220044948_S06.fits\n",
      "Elapsed time: 123.31 seconds\n",
      "... SUCCESS.\n",
      "Record: 308, started at 20/08/2022, 06:54:47\n",
      "Previous median lapse time: 118.21 seconds\n",
      "Processing J05314-036 star (TIC: 50726077)...\n",
      "filename: ../data/CARMENES_GTO_TESS_lc/lightcurves/J05314-036/J05314-036_TESS_TIC50726077_S06.fits\n",
      "Elapsed time: 125.13 seconds\n",
      "... SUCCESS.\n",
      "Record: 309, started at 20/08/2022, 06:56:52\n",
      "Previous median lapse time: 119.27 seconds\n",
      "Processing J05280+096 star (TIC: 365779699)...\n",
      "filename: ../data/CARMENES_GTO_TESS_lc/lightcurves/J05280+096/J05280+096_TESS_TIC365779699_S06.fits\n",
      "Elapsed time: 127.55 seconds\n",
      "... SUCCESS.\n",
      "Record: 310, started at 20/08/2022, 06:59:00\n",
      "Previous median lapse time: 120.92 seconds\n",
      "Processing J05127+196 star (TIC: 467611768)...\n",
      "filename: nan\n",
      "--- Some ERROR happened with record #310, J05127+196 star. Error=Not recognized as a supported data product:\n",
      "nan\n",
      "This file may be corrupt due to an interrupted download. Please remove it from your disk and try again.\n",
      "Elapsed time: 0.00 seconds\n",
      "Record: 311, started at 20/08/2022, 06:59:00\n",
      "Previous median lapse time: 119.27 seconds\n",
      "Processing J05084-210 star (TIC: 146539195)...\n",
      "filename: ../data/CARMENES_GTO_TESS_lc/lightcurves/J05084-210/J05084-210_TESS_TIC146539195_S05.fits\n",
      "Elapsed time: 150.39 seconds\n",
      "... SUCCESS.\n",
      "Record: 312, started at 20/08/2022, 07:01:30\n",
      "Previous median lapse time: 120.92 seconds\n",
      "Processing J05062+046 star (TIC: 455029978)...\n",
      "filename: ../data/CARMENES_GTO_TESS_lc/lightcurves/J05062+046/J05062+046_TESS_TIC455029978_S05.fits\n",
      "Elapsed time: 154.57 seconds\n",
      "... SUCCESS.\n",
      "Record: 313, started at 20/08/2022, 07:04:05\n",
      "Previous median lapse time: 122.57 seconds\n",
      "Processing J05033-173 star (TIC: 169304560)...\n",
      "filename: ../data/CARMENES_GTO_TESS_lc/lightcurves/J05033-173/J05033-173_TESS_TIC169304560_S05.fits\n",
      "Elapsed time: 156.54 seconds\n",
      "... SUCCESS.\n",
      "Record: 314, started at 20/08/2022, 07:06:41\n",
      "Previous median lapse time: 122.94 seconds\n",
      "Processing J05019-069 star (TIC: 43605290)...\n",
      "filename: ../data/CARMENES_GTO_TESS_lc/lightcurves/J05019-069/J05019-069_TESS_TIC43605290_S05.fits\n",
      "Elapsed time: 156.14 seconds\n",
      "... SUCCESS.\n",
      "Record: 315, started at 20/08/2022, 07:09:18\n",
      "Previous median lapse time: 123.31 seconds\n",
      "Processing J05019+011 star (TIC: 269077806)...\n",
      "filename: ../data/CARMENES_GTO_TESS_lc/lightcurves/J05019+011/J05019+011_TESS_TIC269077806_S05.fits\n",
      "Elapsed time: 155.64 seconds\n",
      "... SUCCESS.\n",
      "Record: 316, started at 20/08/2022, 07:11:53\n",
      "Previous median lapse time: 124.22 seconds\n",
      "Processing J04588+498 star (TIC: 354432728)...\n",
      "filename: ../data/CARMENES_GTO_TESS_lc/lightcurves/J04588+498/J04588+498_TESS_TIC354432728_S19.fits\n",
      "Elapsed time: 160.90 seconds\n",
      "... SUCCESS.\n",
      "Record: 317, started at 20/08/2022, 07:14:34\n",
      "Previous median lapse time: 125.13 seconds\n",
      "Processing J04538-177 star (TIC: 246902275)...\n",
      "filename: ../data/CARMENES_GTO_TESS_lc/lightcurves/J04538-177/J04538-177_TESS_TIC246902275_S05.fits\n",
      "Elapsed time: 167.70 seconds\n",
      "... SUCCESS.\n",
      "Record: 318, started at 20/08/2022, 07:17:22\n",
      "Previous median lapse time: 125.46 seconds\n",
      "Processing J04520+064 star (TIC: 450102450)...\n",
      "filename: ../data/CARMENES_GTO_TESS_lc/lightcurves/J04520+064/J04520+064_TESS_TIC450102450_S05.fits\n",
      "Elapsed time: 168.57 seconds\n",
      "... SUCCESS.\n",
      "Record: 319, started at 20/08/2022, 07:20:11\n",
      "Previous median lapse time: 125.79 seconds\n",
      "Processing J04472+206 star (TIC: 238413768)...\n",
      "filename: nan\n",
      "--- Some ERROR happened with record #319, J04472+206 star. Error=Not recognized as a supported data product:\n",
      "nan\n",
      "This file may be corrupt due to an interrupted download. Please remove it from your disk and try again.\n",
      "Elapsed time: 0.00 seconds\n",
      "Record: 320, started at 20/08/2022, 07:20:11\n",
      "Previous median lapse time: 125.46 seconds\n",
      "Processing J04429+214 star (TIC: 397356212)...\n",
      "filename: nan\n",
      "--- Some ERROR happened with record #320, J04429+214 star. Error=Not recognized as a supported data product:\n",
      "nan\n",
      "This file may be corrupt due to an interrupted download. Please remove it from your disk and try again.\n",
      "Elapsed time: 0.00 seconds\n",
      "Record: 321, started at 20/08/2022, 07:20:11\n",
      "Previous median lapse time: 125.13 seconds\n",
      "Processing J04429+189 star (TIC: 397354290)...\n",
      "filename: nan\n",
      "--- Some ERROR happened with record #321, J04429+189 star. Error=Not recognized as a supported data product:\n",
      "nan\n",
      "This file may be corrupt due to an interrupted download. Please remove it from your disk and try again.\n",
      "Elapsed time: 0.00 seconds\n",
      "Record: 322, started at 20/08/2022, 07:20:11\n",
      "Previous median lapse time: 124.22 seconds\n",
      "Processing J04406-128 star (TIC: 117799904)...\n",
      "filename: ../data/CARMENES_GTO_TESS_lc/lightcurves/J04406-128/J04406-128_TESS_TIC117799904_S32.fits\n",
      "Elapsed time: 32.49 seconds\n",
      "... SUCCESS.\n",
      "Record: 323, started at 20/08/2022, 07:20:44\n",
      "Previous median lapse time: 123.31 seconds\n",
      "Processing J04376-110 star (TIC: 55997717)...\n",
      "filename: ../data/CARMENES_GTO_TESS_lc/lightcurves/J04376-110/J04376-110_TESS_TIC55997717_S32.fits\n",
      "Elapsed time: 170.79 seconds\n",
      "... SUCCESS.\n",
      "Record: 324, started at 20/08/2022, 07:23:34\n",
      "Previous median lapse time: 124.22 seconds\n",
      "Processing J04376+528 star (TIC: 274545692)...\n",
      "filename: ../data/CARMENES_GTO_TESS_lc/lightcurves/J04376+528/J04376+528_TESS_TIC274545692_S19.fits\n",
      "Elapsed time: 174.30 seconds\n",
      "... SUCCESS.\n",
      "Record: 325, started at 20/08/2022, 07:26:29\n",
      "Previous median lapse time: 125.13 seconds\n",
      "Processing J04343+430 star (TIC: 28900646)...\n",
      "filename: ../data/CARMENES_GTO_TESS_lc/lightcurves/J04343+430/J04343+430_TESS_TIC28900646_S19.fits\n",
      "Elapsed time: 174.64 seconds\n",
      "... SUCCESS.\n",
      "Record: 326, started at 20/08/2022, 07:29:23\n",
      "Previous median lapse time: 125.46 seconds\n",
      "Processing J04311+589 star (TIC: 356322721)...\n",
      "filename: ../data/CARMENES_GTO_TESS_lc/lightcurves/J04311+589/J04311+589_TESS_TIC356322721_S19.fits\n",
      "Elapsed time: 177.92 seconds\n",
      "... SUCCESS.\n",
      "Record: 327, started at 20/08/2022, 07:32:21\n",
      "Previous median lapse time: 125.79 seconds\n",
      "Processing J04290+219 star (TIC: 17558287)...\n",
      "filename: nan\n",
      "--- Some ERROR happened with record #327, J04290+219 star. Error=Not recognized as a supported data product:\n",
      "nan\n",
      "This file may be corrupt due to an interrupted download. Please remove it from your disk and try again.\n",
      "Elapsed time: 0.00 seconds\n",
      "Record: 328, started at 20/08/2022, 07:32:22\n",
      "Previous median lapse time: 125.46 seconds\n",
      "Processing J04225+105 star (TIC: 372896796)...\n",
      "filename: ../data/CARMENES_GTO_TESS_lc/lightcurves/J04225+105/J04225+105_TESS_TIC372896796_S32.fits\n"
     ]
    },
    {
     "name": "stdout",
     "output_type": "stream",
     "text": [
      "Elapsed time: 189.46 seconds\n",
      "... SUCCESS.\n",
      "Record: 329, started at 20/08/2022, 07:35:31\n",
      "Previous median lapse time: 125.79 seconds\n",
      "Processing J04219+213 star (TIC: 17307715)...\n",
      "filename: nan\n",
      "--- Some ERROR happened with record #329, J04219+213 star. Error=Not recognized as a supported data product:\n",
      "nan\n",
      "This file may be corrupt due to an interrupted download. Please remove it from your disk and try again.\n",
      "Elapsed time: 0.00 seconds\n",
      "Record: 330, started at 20/08/2022, 07:35:31\n",
      "Previous median lapse time: 125.46 seconds\n",
      "Processing J04198+425 star (TIC: 347994537)...\n",
      "filename: ../data/CARMENES_GTO_TESS_lc/lightcurves/J04198+425/J04198+425_TESS_TIC347994537_S19.fits\n",
      "Elapsed time: 183.04 seconds\n",
      "... SUCCESS.\n",
      "Record: 331, started at 20/08/2022, 07:38:34\n",
      "Previous median lapse time: 125.79 seconds\n",
      "Processing J04173+088 star (TIC: 283866910)...\n",
      "filename: ../data/CARMENES_GTO_TESS_lc/lightcurves/J04173+088/J04173+088_TESS_TIC283866910_S05.fits\n",
      "Elapsed time: 196.49 seconds\n",
      "... SUCCESS.\n",
      "Record: 332, started at 20/08/2022, 07:41:51\n",
      "Previous median lapse time: 126.67 seconds\n",
      "Processing J04167-120 star (TIC: 70899085)...\n",
      "filename: ../data/CARMENES_GTO_TESS_lc/lightcurves/J04167-120/J04167-120_TESS_TIC70899085_S05.fits\n",
      "Elapsed time: 189.87 seconds\n",
      "... SUCCESS.\n",
      "Record: 333, started at 20/08/2022, 07:45:01\n",
      "Previous median lapse time: 127.55 seconds\n",
      "Processing J04153-076 star (TIC: 671834302)...\n",
      "filename: ../data/CARMENES_GTO_TESS_lc/lightcurves/J04153-076/J04153-076_TESS_TIC671834302_S32.fits\n",
      "Elapsed time: 194.67 seconds\n",
      "... SUCCESS.\n",
      "Record: 334, started at 20/08/2022, 07:48:15\n",
      "Previous median lapse time: 138.97 seconds\n",
      "Processing J03531+625 star (TIC: 393080288)...\n",
      "filename: ../data/CARMENES_GTO_TESS_lc/lightcurves/J03531+625/J03531+625_TESS_TIC393080288_S19.fits\n",
      "Elapsed time: 197.80 seconds\n",
      "... SUCCESS.\n",
      "Record: 335, started at 20/08/2022, 07:51:33\n",
      "Previous median lapse time: 150.39 seconds\n",
      "Processing J03473-019 star (TIC: 333680372)...\n",
      "filename: ../data/CARMENES_GTO_TESS_lc/lightcurves/J03473-019/J03473-019_TESS_TIC333680372_S05.fits\n",
      "Elapsed time: 205.10 seconds\n",
      "... SUCCESS.\n",
      "Record: 336, started at 20/08/2022, 07:54:58\n",
      "Previous median lapse time: 152.48 seconds\n",
      "Processing J03473+086 star (TIC: 468889408)...\n",
      "filename: ../data/CARMENES_GTO_TESS_lc/lightcurves/J03473+086/J03473+086_TESS_TIC468889408_S05.fits\n",
      "Elapsed time: 11.08 seconds\n",
      "... SUCCESS.\n",
      "Record: 337, started at 20/08/2022, 07:55:10\n",
      "Previous median lapse time: 150.39 seconds\n",
      "Processing J03463+262 star (TIC: 125736050)...\n",
      "filename: ../data/CARMENES_GTO_TESS_lc/lightcurves/J03463+262/J03463+262_TESS_TIC125736050_S18.fits\n",
      "Elapsed time: 183.16 seconds\n",
      "... SUCCESS.\n",
      "Record: 338, started at 20/08/2022, 07:58:13\n",
      "Previous median lapse time: 152.48 seconds\n",
      "Processing J03230+420 star (TIC: 385048602)...\n",
      "filename: ../data/CARMENES_GTO_TESS_lc/lightcurves/J03230+420/J03230+420_TESS_TIC385048602_S18.fits\n",
      "Elapsed time: 179.48 seconds\n",
      "... SUCCESS.\n",
      "Record: 339, started at 20/08/2022, 08:01:12\n",
      "Previous median lapse time: 154.57 seconds\n",
      "Processing J03217-066 star (TIC: 9964140)...\n",
      "filename: ../data/CARMENES_GTO_TESS_lc/lightcurves/J03217-066/J03217-066_TESS_TIC9964140_S04.fits\n",
      "Elapsed time: 187.19 seconds\n",
      "... SUCCESS.\n",
      "Record: 340, started at 20/08/2022, 08:04:20\n",
      "Previous median lapse time: 155.11 seconds\n",
      "Processing J03213+799 star (TIC: 357936741)...\n",
      "filename: nan\n",
      "--- Some ERROR happened with record #340, J03213+799 star. Error=Not recognized as a supported data product:\n",
      "nan\n",
      "This file may be corrupt due to an interrupted download. Please remove it from your disk and try again.\n",
      "Elapsed time: 0.00 seconds\n",
      "Record: 341, started at 20/08/2022, 08:04:20\n",
      "Previous median lapse time: 154.57 seconds\n",
      "Processing J03181+382 star (TIC: 178078333)...\n",
      "filename: ../data/CARMENES_GTO_TESS_lc/lightcurves/J03181+382/J03181+382_TESS_TIC178078333_S18.fits\n",
      "Elapsed time: 196.28 seconds\n",
      "... SUCCESS.\n",
      "Record: 342, started at 20/08/2022, 08:07:36\n",
      "Previous median lapse time: 155.11 seconds\n",
      "Processing J03142+286 star (TIC: 35025268)...\n",
      "filename: ../data/CARMENES_GTO_TESS_lc/lightcurves/J03142+286/J03142+286_TESS_TIC35025268_S18.fits\n",
      "Elapsed time: 9.91 seconds\n",
      "... SUCCESS.\n",
      "Record: 343, started at 20/08/2022, 08:07:46\n",
      "Previous median lapse time: 154.57 seconds\n",
      "Processing J03133+047 star (TIC: 328465904)...\n",
      "filename: ../data/CARMENES_GTO_TESS_lc/lightcurves/J03133+047/J03133+047_TESS_TIC328465904_S04.fits\n",
      "Elapsed time: 191.64 seconds\n",
      "... SUCCESS.\n",
      "Record: 344, started at 20/08/2022, 08:10:58\n",
      "Previous median lapse time: 155.11 seconds\n",
      "Processing J03090+100 star (TIC: 365369408)...\n",
      "filename: ../data/CARMENES_GTO_TESS_lc/lightcurves/J03090+100/J03090+100_TESS_TIC365369408_S31.fits\n",
      "Elapsed time: 40.11 seconds\n",
      "... SUCCESS.\n",
      "Record: 345, started at 20/08/2022, 08:11:38\n",
      "Previous median lapse time: 154.57 seconds\n",
      "Processing J02573+765 star (TIC: 396562848)...\n",
      "filename: ../data/CARMENES_GTO_TESS_lc/lightcurves/J02573+765/J02573+765_TESS_TIC396562848_S18.fits\n",
      "Elapsed time: 194.08 seconds\n",
      "... SUCCESS.\n",
      "Record: 346, started at 20/08/2022, 08:14:52\n",
      "Previous median lapse time: 155.11 seconds\n",
      "Processing J02565+554W star (TIC: 251281112)...\n",
      "filename: ../data/CARMENES_GTO_TESS_lc/lightcurves/J02565+554W/J02565+554W_TESS_TIC251281112_S18.fits\n",
      "Elapsed time: 193.26 seconds\n",
      "... SUCCESS.\n",
      "Record: 347, started at 20/08/2022, 08:18:05\n",
      "Previous median lapse time: 155.64 seconds\n",
      "Processing J02560-006 star (TIC: 439874904)...\n",
      "filename: ../data/CARMENES_GTO_TESS_lc/lightcurves/J02560-006/J02560-006_TESS_TIC439874904_S31.fits\n",
      "Elapsed time: 38.92 seconds\n",
      "... SUCCESS.\n",
      "Record: 348, started at 20/08/2022, 08:18:44\n",
      "Previous median lapse time: 155.11 seconds\n",
      "Processing J02530+168 star (TIC: 257870150)...\n",
      "filename: nan\n",
      "--- Some ERROR happened with record #348, J02530+168 star. Error=Not recognized as a supported data product:\n",
      "nan\n",
      "This file may be corrupt due to an interrupted download. Please remove it from your disk and try again.\n",
      "Elapsed time: 0.00 seconds\n",
      "Record: 349, started at 20/08/2022, 08:18:44\n",
      "Previous median lapse time: 154.57 seconds\n",
      "Processing J02519+224 star (TIC: 371422484)...\n",
      "filename: nan\n",
      "--- Some ERROR happened with record #349, J02519+224 star. Error=Not recognized as a supported data product:\n",
      "nan\n",
      "This file may be corrupt due to an interrupted download. Please remove it from your disk and try again.\n",
      "Elapsed time: 0.00 seconds\n",
      "Record: 350, started at 20/08/2022, 08:18:44\n",
      "Previous median lapse time: 152.48 seconds\n",
      "Processing J02489-145W star (TIC: 29960110)...\n",
      "filename: ../data/CARMENES_GTO_TESS_lc/lightcurves/J02489-145W/J02489-145W_TESS_TIC29960110_S04.fits\n",
      "Elapsed time: 199.37 seconds\n",
      "... SUCCESS.\n",
      "Record: 351, started at 20/08/2022, 08:22:04\n",
      "Previous median lapse time: 154.57 seconds\n",
      "Processing J02489-145E star (TIC: 29960109)...\n",
      "filename: ../data/CARMENES_GTO_TESS_lc/lightcurves/J02489-145E/J02489-145E_TESS_TIC29960109_S04.fits\n",
      "Elapsed time: 190.19 seconds\n",
      "... SUCCESS.\n",
      "Record: 352, started at 20/08/2022, 08:25:14\n",
      "Previous median lapse time: 155.11 seconds\n",
      "Processing J02486+621 star (TIC: 51024887)...\n",
      "filename: ../data/CARMENES_GTO_TESS_lc/lightcurves/J02486+621/J02486+621_TESS_TIC51024887_S18.fits\n",
      "Elapsed time: 200.17 seconds\n",
      "... SUCCESS.\n",
      "Record: 353, started at 20/08/2022, 08:28:34\n",
      "Previous median lapse time: 155.64 seconds\n",
      "Processing J02465+164 star (TIC: 218088471)...\n",
      "filename: nan\n",
      "--- Some ERROR happened with record #353, J02465+164 star. Error=Not recognized as a supported data product:\n",
      "nan\n",
      "This file may be corrupt due to an interrupted download. Please remove it from your disk and try again.\n",
      "Elapsed time: 0.00 seconds\n",
      "Record: 354, started at 20/08/2022, 08:28:34\n",
      "Previous median lapse time: 155.11 seconds\n",
      "Processing J02442+255 star (TIC: 436856183)...\n",
      "filename: ../data/CARMENES_GTO_TESS_lc/lightcurves/J02442+255/J02442+255_TESS_TIC436856183_S18.fits\n",
      "Elapsed time: 209.27 seconds\n",
      "... SUCCESS.\n",
      "Record: 355, started at 20/08/2022, 08:32:04\n",
      "Previous median lapse time: 155.64 seconds\n",
      "Processing J02362+068 star (TIC: 278962913)...\n",
      "filename: ../data/CARMENES_GTO_TESS_lc/lightcurves/J02362+068/J02362+068_TESS_TIC278962913_S31.fits\n",
      "Elapsed time: 212.56 seconds\n",
      "... SUCCESS.\n",
      "Record: 356, started at 20/08/2022, 08:35:36\n",
      "Previous median lapse time: 155.89 seconds\n",
      "Processing J02358+202 star (TIC: 247042708)...\n",
      "filename: nan\n",
      "--- Some ERROR happened with record #356, J02358+202 star. Error=Not recognized as a supported data product:\n",
      "nan\n",
      "This file may be corrupt due to an interrupted download. Please remove it from your disk and try again.\n",
      "Elapsed time: 0.00 seconds\n",
      "Record: 357, started at 20/08/2022, 08:35:37\n",
      "Previous median lapse time: 155.64 seconds\n",
      "Processing J02336+249 star (TIC: 22750743)...\n",
      "filename: ../data/CARMENES_GTO_TESS_lc/lightcurves/J02336+249/J02336+249_TESS_TIC22750743_S18.fits\n"
     ]
    },
    {
     "name": "stdout",
     "output_type": "stream",
     "text": [
      "Elapsed time: 223.69 seconds\n",
      "... SUCCESS.\n",
      "Record: 358, started at 20/08/2022, 08:39:20\n",
      "Previous median lapse time: 155.89 seconds\n",
      "Processing J02222+478 star (TIC: 409527090)...\n",
      "filename: ../data/CARMENES_GTO_TESS_lc/lightcurves/J02222+478/J02222+478_TESS_TIC409527090_S18.fits\n",
      "Elapsed time: 225.74 seconds\n",
      "... SUCCESS.\n",
      "Record: 359, started at 20/08/2022, 08:43:06\n",
      "Previous median lapse time: 156.14 seconds\n",
      "Processing J02164+135 star (TIC: 408587159)...\n",
      "filename: nan\n",
      "--- Some ERROR happened with record #359, J02164+135 star. Error=Not recognized as a supported data product:\n",
      "nan\n",
      "This file may be corrupt due to an interrupted download. Please remove it from your disk and try again.\n",
      "Elapsed time: 0.00 seconds\n",
      "Record: 360, started at 20/08/2022, 08:43:06\n",
      "Previous median lapse time: 155.89 seconds\n",
      "Processing J02123+035 star (TIC: 270415707)...\n",
      "filename: ../data/CARMENES_GTO_TESS_lc/lightcurves/J02123+035/J02123+035_TESS_TIC270415707_S04.fits\n",
      "Elapsed time: 216.19 seconds\n",
      "... SUCCESS.\n",
      "Record: 361, started at 20/08/2022, 08:46:42\n",
      "Previous median lapse time: 156.14 seconds\n",
      "Processing J02088+494 star (TIC: 250602194)...\n",
      "filename: ../data/CARMENES_GTO_TESS_lc/lightcurves/J02088+494/J02088+494_TESS_TIC250602194_S18.fits\n",
      "Elapsed time: 226.43 seconds\n",
      "... SUCCESS.\n",
      "Record: 362, started at 20/08/2022, 08:50:29\n",
      "Previous median lapse time: 156.34 seconds\n",
      "Processing J02070+496 star (TIC: 250559611)...\n",
      "filename: ../data/CARMENES_GTO_TESS_lc/lightcurves/J02070+496/J02070+496_TESS_TIC250559611_S18.fits\n",
      "WARNING: Highest peak is at the edge of the frequency range.\n",
      "No output of frequency error.\n",
      "Increase frequency range to sample the peak maximum.\n",
      "--- Some ERROR happened with record #362, J02070+496 star. Error=Floating point nan values are not allowed in FITS headers.\n",
      "Elapsed time: 8.78 seconds\n",
      "Record: 363, started at 20/08/2022, 08:50:38\n",
      "Previous median lapse time: 156.14 seconds\n",
      "Processing J02022+103 star (TIC: 347509900)...\n",
      "filename: nan\n",
      "--- Some ERROR happened with record #363, J02022+103 star. Error=Not recognized as a supported data product:\n",
      "nan\n",
      "This file may be corrupt due to an interrupted download. Please remove it from your disk and try again.\n",
      "Elapsed time: 0.00 seconds\n",
      "Record: 364, started at 20/08/2022, 08:50:38\n",
      "Previous median lapse time: 155.89 seconds\n",
      "Processing J02015+637 star (TIC: 374029463)...\n",
      "filename: ../data/CARMENES_GTO_TESS_lc/lightcurves/J02015+637/J02015+637_TESS_TIC374029463_S18.fits\n",
      "Elapsed time: 222.20 seconds\n",
      "... SUCCESS.\n",
      "Record: 365, started at 20/08/2022, 08:54:20\n",
      "Previous median lapse time: 156.14 seconds\n",
      "Processing J02002+130 star (TIC: 404715018)...\n",
      "filename: nan\n",
      "--- Some ERROR happened with record #365, J02002+130 star. Error=Not recognized as a supported data product:\n",
      "nan\n",
      "This file may be corrupt due to an interrupted download. Please remove it from your disk and try again.\n",
      "Elapsed time: 0.00 seconds\n",
      "Record: 366, started at 20/08/2022, 08:54:20\n",
      "Previous median lapse time: 155.89 seconds\n",
      "Processing J01550+379 star (TIC: 67390998)...\n",
      "filename: ../data/CARMENES_GTO_TESS_lc/lightcurves/J01550+379/J01550+379_TESS_TIC67390998_S18.fits\n",
      "Elapsed time: 10.08 seconds\n",
      "... SUCCESS.\n",
      "Record: 367, started at 20/08/2022, 08:54:30\n",
      "Previous median lapse time: 155.64 seconds\n",
      "Processing J01518+644 star (TIC: 10352491)...\n",
      "filename: ../data/CARMENES_GTO_TESS_lc/lightcurves/J01518+644/J01518+644_TESS_TIC10352491_S18.fits\n"
     ]
    },
    {
     "name": "stderr",
     "output_type": "stream",
     "text": [
      "Warning: 30% (5871/19412) of the cadences will be ignored due to the quality mask (quality_bitmask=175).\n"
     ]
    },
    {
     "name": "stdout",
     "output_type": "stream",
     "text": [
      "Elapsed time: 231.98 seconds\n",
      "... SUCCESS.\n",
      "Record: 368, started at 20/08/2022, 08:58:22\n",
      "Previous median lapse time: 155.89 seconds\n",
      "Processing J01433+043 star (TIC: 369534824)...\n",
      "filename: nan\n",
      "--- Some ERROR happened with record #368, J01433+043 star. Error=Not recognized as a supported data product:\n",
      "nan\n",
      "This file may be corrupt due to an interrupted download. Please remove it from your disk and try again.\n",
      "Elapsed time: 0.00 seconds\n",
      "Record: 369, started at 20/08/2022, 08:58:22\n",
      "Previous median lapse time: 155.64 seconds\n",
      "Processing J01352-072 star (TIC: 29853348)...\n",
      "filename: ../data/CARMENES_GTO_TESS_lc/lightcurves/J01352-072/J01352-072_TESS_TIC29853348_S03.fits\n"
     ]
    },
    {
     "name": "stderr",
     "output_type": "stream",
     "text": [
      "Warning: 30% (5871/19412) of the cadences will be ignored due to the quality mask (quality_bitmask=175).\n"
     ]
    },
    {
     "name": "stdout",
     "output_type": "stream",
     "text": [
      "Elapsed time: 223.72 seconds\n",
      "... SUCCESS.\n",
      "Record: 370, started at 20/08/2022, 09:02:06\n",
      "Previous median lapse time: 155.89 seconds\n",
      "Processing J01339-176 star (TIC: 54003038)...\n",
      "filename: ../data/CARMENES_GTO_TESS_lc/lightcurves/J01339-176/J01339-176_TESS_TIC54003038_S03.fits\n"
     ]
    },
    {
     "name": "stderr",
     "output_type": "stream",
     "text": [
      "Warning: 30% (5871/19412) of the cadences will be ignored due to the quality mask (quality_bitmask=175).\n"
     ]
    },
    {
     "name": "stdout",
     "output_type": "stream",
     "text": [
      "Elapsed time: 217.42 seconds\n",
      "... SUCCESS.\n",
      "Record: 371, started at 20/08/2022, 09:05:44\n",
      "Previous median lapse time: 156.14 seconds\n",
      "Processing J01125-169 star (TIC: 610210976)...\n",
      "filename: ../data/CARMENES_GTO_TESS_lc/lightcurves/J01125-169/J01125-169_TESS_TIC439403362_S03.fits\n",
      "Elapsed time: 226.81 seconds\n",
      "... SUCCESS.\n",
      "Record: 372, started at 20/08/2022, 09:09:31\n",
      "Previous median lapse time: 156.34 seconds\n",
      "Processing J01066+192 star (TIC: 243185500)...\n",
      "filename: ../data/CARMENES_GTO_TESS_lc/lightcurves/J01066+192/J01066+192_TESS_TIC243185500_S17.fits\n"
     ]
    },
    {
     "name": "stderr",
     "output_type": "stream",
     "text": [
      "Warning: 30% (5871/19412) of the cadences will be ignored due to the quality mask (quality_bitmask=175).\n"
     ]
    },
    {
     "name": "stdout",
     "output_type": "stream",
     "text": [
      "Elapsed time: 245.39 seconds\n",
      "... SUCCESS.\n",
      "Record: 373, started at 20/08/2022, 09:13:36\n",
      "Previous median lapse time: 156.54 seconds\n",
      "Processing J01056+284 star (TIC: 15615674)...\n",
      "filename: nan\n",
      "--- Some ERROR happened with record #373, J01056+284 star. Error=Not recognized as a supported data product:\n",
      "nan\n",
      "This file may be corrupt due to an interrupted download. Please remove it from your disk and try again.\n",
      "Elapsed time: 0.00 seconds\n",
      "Record: 374, started at 20/08/2022, 09:13:36\n",
      "Previous median lapse time: 156.34 seconds\n",
      "Processing J01048-181 star (TIC: 268633473)...\n",
      "filename: ../data/CARMENES_GTO_TESS_lc/lightcurves/J01048-181/J01048-181_TESS_TIC268633473_S03.fits\n",
      "Elapsed time: 226.02 seconds\n",
      "... SUCCESS.\n",
      "Record: 375, started at 20/08/2022, 09:17:22\n",
      "Previous median lapse time: 156.54 seconds\n",
      "Processing J01033+623 star (TIC: 52183206)...\n",
      "filename: ../data/CARMENES_GTO_TESS_lc/lightcurves/J01033+623/J01033+623_TESS_TIC52183206_S18.fits\n",
      "Elapsed time: 268.36 seconds\n",
      "... SUCCESS.\n",
      "Record: 376, started at 20/08/2022, 09:21:51\n",
      "Previous median lapse time: 158.72 seconds\n",
      "Processing J01026+623 star (TIC: 256419669)...\n",
      "filename: ../data/CARMENES_GTO_TESS_lc/lightcurves/J01026+623/J01026+623_TESS_TIC256419669_S18.fits\n",
      "Elapsed time: 249.48 seconds\n",
      "... SUCCESS.\n",
      "Record: 377, started at 20/08/2022, 09:26:00\n",
      "Previous median lapse time: 160.90 seconds\n",
      "Processing J01025+716 star (TIC: 379084450)...\n",
      "filename: ../data/CARMENES_GTO_TESS_lc/lightcurves/J01025+716/J01025+716_TESS_TIC379084450_S18.fits\n",
      "Elapsed time: 256.90 seconds\n",
      "... SUCCESS.\n",
      "Record: 378, started at 20/08/2022, 09:30:17\n",
      "Previous median lapse time: 164.30 seconds\n",
      "Processing J01019+541 star (TIC: 252110114)...\n",
      "filename: ../data/CARMENES_GTO_TESS_lc/lightcurves/J01019+541/J01019+541_TESS_TIC252110114_S17.fits\n",
      "Elapsed time: 244.64 seconds\n",
      "... SUCCESS.\n",
      "Record: 379, started at 20/08/2022, 09:34:22\n",
      "Previous median lapse time: 167.70 seconds\n",
      "Processing J01013+613 star (TIC: 256316623)...\n",
      "filename: ../data/CARMENES_GTO_TESS_lc/lightcurves/J01013+613/J01013+613_TESS_TIC256316623_S18.fits\n",
      "Elapsed time: 291.00 seconds\n",
      "... SUCCESS.\n",
      "Record: 380, started at 20/08/2022, 09:39:13\n",
      "Previous median lapse time: 168.14 seconds\n",
      "Processing J00570+450 star (TIC: 196293610)...\n",
      "filename: ../data/CARMENES_GTO_TESS_lc/lightcurves/J00570+450/J00570+450_TESS_TIC196293610_S17.fits\n",
      "Elapsed time: 265.46 seconds\n",
      "... SUCCESS.\n",
      "Record: 381, started at 20/08/2022, 09:43:38\n",
      "Previous median lapse time: 168.57 seconds\n",
      "Processing J00403+612 star (TIC: 284441182)...\n",
      "filename: ../data/CARMENES_GTO_TESS_lc/lightcurves/J00403+612/J00403+612_TESS_TIC284441182_S17.fits\n",
      "Elapsed time: 255.06 seconds\n",
      "... SUCCESS.\n",
      "Record: 382, started at 20/08/2022, 09:47:54\n",
      "Previous median lapse time: 169.68 seconds\n",
      "Processing J00389+306 star (TIC: 267688052)...\n",
      "filename: ../data/CARMENES_GTO_TESS_lc/lightcurves/J00389+306/J00389+306_TESS_TIC267688052_S17.fits\n"
     ]
    },
    {
     "name": "stderr",
     "output_type": "stream",
     "text": [
      "Warning: 30% (5871/19412) of the cadences will be ignored due to the quality mask (quality_bitmask=175).\n"
     ]
    },
    {
     "name": "stdout",
     "output_type": "stream",
     "text": [
      "Elapsed time: 269.93 seconds\n",
      "... SUCCESS.\n",
      "Record: 383, started at 20/08/2022, 09:52:24\n",
      "Previous median lapse time: 170.79 seconds\n",
      "Processing J00286-066 star (TIC: 40082634)...\n",
      "filename: ../data/CARMENES_GTO_TESS_lc/lightcurves/J00286-066/J00286-066_TESS_TIC40082634_S03.fits\n",
      "Elapsed time: 250.10 seconds\n",
      "... SUCCESS.\n",
      "Record: 384, started at 20/08/2022, 09:56:34\n",
      "Previous median lapse time: 172.55 seconds\n",
      "Processing J00184+440 star (TIC: 440109718)...\n",
      "filename: nan\n",
      "--- Some ERROR happened with record #384, J00184+440 star. Error=Not recognized as a supported data product:\n",
      "nan\n",
      "This file may be corrupt due to an interrupted download. Please remove it from your disk and try again.\n",
      "Elapsed time: 0.00 seconds\n",
      "Record: 385, started at 20/08/2022, 09:56:34\n",
      "Previous median lapse time: 170.79 seconds\n",
      "Processing J00183+440 star (TIC: 440109725)...\n",
      "filename: ../data/CARMENES_GTO_TESS_lc/lightcurves/J00183+440/J00183+440_TESS_TIC440109725_S17.fits\n",
      "Elapsed time: 266.65 seconds\n",
      "... SUCCESS.\n",
      "Record: 386, started at 20/08/2022, 10:01:01\n",
      "Previous median lapse time: 172.55 seconds\n",
      "Processing J00162+198W star (TIC: 150899679)...\n",
      "filename: nan\n",
      "--- Some ERROR happened with record #386, J00162+198W star. Error=Not recognized as a supported data product:\n",
      "nan\n",
      "This file may be corrupt due to an interrupted download. Please remove it from your disk and try again.\n",
      "Elapsed time: 0.00 seconds\n",
      "Record: 387, started at 20/08/2022, 10:01:01\n",
      "Previous median lapse time: 170.79 seconds\n",
      "Processing J00162+198E star (TIC: 150899677)...\n",
      "filename: nan\n",
      "--- Some ERROR happened with record #387, J00162+198E star. Error=Not recognized as a supported data product:\n",
      "nan\n",
      "This file may be corrupt due to an interrupted download. Please remove it from your disk and try again.\n",
      "Elapsed time: 0.00 seconds\n",
      "Record: 388, started at 20/08/2022, 10:01:01\n",
      "Previous median lapse time: 169.68 seconds\n",
      "Processing J00067-075 star (TIC: 176287658)...\n",
      "filename: nan\n",
      "--- Some ERROR happened with record #388, J00067-075 star. Error=Not recognized as a supported data product:\n",
      "nan\n",
      "This file may be corrupt due to an interrupted download. Please remove it from your disk and try again.\n",
      "Elapsed time: 0.00 seconds\n",
      "Record: 389, started at 20/08/2022, 10:01:01\n",
      "Previous median lapse time: 168.57 seconds\n",
      "Processing J00051+457 star (TIC: 439946126)...\n",
      "filename: ../data/CARMENES_GTO_TESS_lc/lightcurves/J00051+457/J00051+457_TESS_TIC439946126_S17.fits\n",
      "Elapsed time: 283.99 seconds\n",
      "... SUCCESS.\n"
     ]
    }
   ],
   "source": [
    "# Prevent warnings to produce too much output\n",
    "warnings.filterwarnings('ignore')\n",
    "\n",
    "# Batch processing:\n",
    "lapse_list = []\n",
    "median_lapse = None\n",
    "#for i in range(0, 3): # FOR TESTING\n",
    "#for i in [123, 167]: # To repeat the calculation for specific objects.\n",
    "#for i in range(0, 100):\n",
    "#for i in range(100, 200):\n",
    "#for i in range(200, 300):\n",
    "for i in range(300, len(gto)):\n",
    "    start_time = time.time()\n",
    "    # Names:\n",
    "    karmn = gto.loc[i, 'Karmn'] # KARMENES name\n",
    "    commn = gto.loc[i, 'Name'] # Common name\n",
    "    tic_id = str(gto.loc[i, 'TIC_id']) # TESS TIC identifier\n",
    "    print(\"Record: %d, started at %s\"\n",
    "          %(i, time.strftime('%d/%m/%Y, %H:%M:%S', time.localtime(start_time))))\n",
    "    if median_lapse is None:\n",
    "        print(\"Previous median lapse time: %s\" %median_lapse)\n",
    "    else:\n",
    "        print(\"Previous median lapse time: %.2f seconds\" %median_lapse)\n",
    "    print(\"Processing %s star (TIC: %s)...\" %(karmn, tic_id))\n",
    "    try:\n",
    "        # LOAD LC FILE:\n",
    "        lc_file = gto.loc[i, 'lc_file']\n",
    "        print(\"filename: %s\" %lc_file)\n",
    "        lc_lk = tess_lc_load(lc_file)\n",
    "        \n",
    "        # GENERATE PERIODOGRAM:\n",
    "        gls = Gls((lc_lk['time'].value, lc_lk['flux'].value, lc_lk['flux_err'].value),\n",
    "              fbeg=FBEG, fend=FEND, Pbeg=PBEG, Pend=PEND, ofac=OFAC, hifac=HIFAC, freq=FREQ,\n",
    "              norm=NORM, ls=LS, fast=FAST, verbose=VERBOSE)\n",
    "        \n",
    "        # GENERATE THE FITS FILE:\n",
    "        # Prepare the fits primary HDU (only header):\n",
    "        primary_header = fits.Header()\n",
    "        primary_header['OBJECT'] = (karmn, \"KARMENES target name\")\n",
    "        primary_header['NAME'] = (commn, \"Object common name\")\n",
    "        primary_header['TIC'] = (tic_id, \"Object TESS identifier\")\n",
    "        primary_header['RA_J2000'] = (\"00:05:10.89\", \"Object right ascension (J2000)\")\n",
    "        primary_header['DE_J2000'] = (\"+45:47:11.6\", \"Object declination (J2000)\")\n",
    "        primary_header['SPTYPE'] = (\"M1.0 V\", \"Spectral type\")\n",
    "        primary_header['TEFF_K'] = (3773, \"Effective temperature in Kelvin\")\n",
    "        primary_header['LOGG'] = (5.07, \"Logarithm of surface gravity\")\n",
    "        primary_header['FEH'] = (-0.04, \"Metallicity\")\n",
    "        primary_header['L_LSUN'] = (0.0436229, \"Luminosity in Solar luminosities\")\n",
    "        primary_header['R_RSUN'] = (0.48881, \"Radius in Solar radii\")\n",
    "        primary_header['M_MSUN'] = (0.4918, \"Mass in Solar masses\")\n",
    "        primary_header['D_PC'] = (11.50352803, \"Distance in parsec\")\n",
    "        hdu_primary = fits.PrimaryHDU(header=primary_header)\n",
    "\n",
    "        # Prepare the LC HDU:\n",
    "        hdu_lc = fits.table_to_hdu(QTable(lc_lk.to_table()))\n",
    "        hdu_lc.name = \"TESS_LC\"\n",
    "        psample = lc_infer_sampling(lc_lk).value\n",
    "        fsample = 1.0 / psample\n",
    "        fnyq = 2.0 * fsample\n",
    "        freq_units = u.d ** (-1)\n",
    "        hdu_lc.header['OBJECT'] = (karmn, \"KARMENES target name\")\n",
    "        hdu_lc.header['PUNIT'] = u.d.to_string(format='fits')\n",
    "        hdu_lc.header['FUNIT'] = freq_units.to_string(format='fits')\n",
    "        hdu_lc.header['RVPOINTS'] = (gls.N, \"Number of points in the TESS curve\")\n",
    "        hdu_lc.header['AVGFLUX'] = (gls._Y, \"Average flux of TESS curve\")\n",
    "        hdu_lc.header['RMSFLUX'] = (np.sqrt(gls._YY), \"Flux RMS of TESS curve\")\n",
    "        hdu_lc.header['PSAMPLE'] = (psample, \"Inferred cadence in TESS curve\")\n",
    "        hdu_lc.header['FSAMPLE'] = (fsample, \"Inferred sampling frequency in TESS curve\")\n",
    "        hdu_lc.header['FNYQUIST'] = (fnyq, \"Calculated Nyquist frequency value\")\n",
    "                \n",
    "        # Prepare the PG HDU:\n",
    "        hdu_pg = fits.table_to_hdu(\n",
    "            QTable(data=[gls.freq, gls.power], names=['freq', 'power'], \n",
    "                   units=[1.0 / u.d, (u.electron / u.s) ** 2]))\n",
    "        hdu_pg.name = \"GLS_PG\"\n",
    "        fpoints = len(gls.f)\n",
    "        fres = (gls.fend - gls.fbeg) / (fpoints - 1)\n",
    "        hdu_pg.header['OBJECT'] = (karmn, \"KARMENES target name\")\n",
    "        hdu_pg.header['FUNIT'] = (freq_units.to_string(format='fits'), \"Unit for frequencies\")\n",
    "        hdu_pg.header['PUNIT'] = (u.d.to_string(format='fits'), \"Unit for periods\")\n",
    "        hdu_pg.header['PK_FREQ'] = (gls.best['f'], \"Frequency of the peak in periodogram\")\n",
    "        hdu_pg.header['PK_POW'] = (gls.pmax, \"Power of the peak in periodogram\")\n",
    "        hdu_pg.header['PK_SNR'] = (gls.best['amp'] / gls.rms, \"SNR of the peak in periodogram\")\n",
    "        hdu_pg.header['PK_FAP'] = (gls.FAP(Pn=None), \"FAP of the peak in periodogram\")\n",
    "        hdu_pg.header['RES_RMS'] = (gls.rms, \"RMS of residuals in periodogram\")\n",
    "        hdu_pg.header['FSAMPLE'] = (fsample, \"Inferred sampling frequency in TESS curve\")\n",
    "        hdu_pg.header['FNYQUIST'] = (fnyq, \"Calculated Nyquist frequency value\")\n",
    "        hdu_pg.header['FPOINTS'] = (fpoints, \"Number of points in periodogram\")\n",
    "        hdu_pg.header['FBEG'] = (gls.fbeg, \"Start frequency in periodogram\")\n",
    "        hdu_pg.header['FEND'] = (gls.fend, \"End frequency in periodogram\")\n",
    "        hdu_pg.header['FRES'] = (fres, \"Frequency resolution in periodogram\")\n",
    "        hdu_pg.header['F'] = (gls.best['f'], \"Peak best estimate: frequency\")\n",
    "        hdu_pg.header['E_F'] = (gls.best['e_f'], \"Peak best estimate: frequency error\")\n",
    "        hdu_pg.header['P'] = (gls.best['P'], \"Peak best estimate: period\")\n",
    "        hdu_pg.header['E_P'] = (gls.best['e_P'], \"Peak best estimate: period error\")\n",
    "        hdu_pg.header['A'] = (gls.best['amp'], \"Peak best estimate: amplitude\")\n",
    "        hdu_pg.header['E_A'] = (gls.best['e_amp'], \"Peak best estimate: amplitude error\")\n",
    "        hdu_pg.header['PH'] = (gls.best['ph'], \"Peak best estimate: phase\")\n",
    "        hdu_pg.header['E_PH'] = (gls.best['e_ph'], \"Peak best estimate: phase error\")\n",
    "        hdu_pg.header['T0'] = (gls.best['T0'], \"Peak best estimate: frequency\")\n",
    "        hdu_pg.header['E_T0'] = (gls.best['e_T0'], \"Peak best estimate: frequency error\")\n",
    "        hdu_pg.header['OFF'] = (gls.best['offset'], \"Peak best estimate: offset\")\n",
    "        hdu_pg.header['E_OFF'] = (gls.best['e_offset'], \"Peak best estimate: offset error\")\n",
    "        hdu_pg.header['OFAC'] = (gls.ofac, \"Setup: oversampling factor\")\n",
    "        hdu_pg.header['HIFAC'] = (gls.ofac, \"Setup: maximum frequency factor\")\n",
    "        hdu_pg.header['NORM'] = (gls.norm, \"Setup: normalization type\")\n",
    "        hdu_pg.header['LS'] = (gls.ls, \"Setup: conventional Lomb-Scargle calculation\")\n",
    "        hdu_pg.header['FAST'] = (gls.fast, \"Setup: fast evaluation, recursive trigonometric\")\n",
    "        \n",
    "        # Create and save the fits file:\n",
    "        fits_filename = OUT_PROCESSED_FOLDER + karmn + \"_TESS_PG.fits\"\n",
    "        hdul = fits.HDUList([hdu_primary, hdu_lc, hdu_pg])\n",
    "        hdul.writeto(fits_filename, overwrite=True)\n",
    "        \n",
    "        # Delete all the HDUs:\n",
    "        del hdul\n",
    "        del hdu_primary\n",
    "        del hdu_lc\n",
    "        del hdu_pg\n",
    "\n",
    "        # FILL IN THE DATA IN THE GTO TABLE:\n",
    "        gto.loc[i, 'n_TESS'] = gls.N\n",
    "        gto.loc[i, 'Ps_TESS'] = psample\n",
    "        gto.loc[i, 'fs_TESS'] = fsample\n",
    "        gto.loc[i, 'wmean_TESS'] = gls._Y\n",
    "        gto.loc[i, 'wrms_TESS'] = np.sqrt(gls._YY)\n",
    "        gto.loc[i, 'info_PG_TESS'] = gls.info(stdout=False)\n",
    "        gto.loc[i, 'maxP_PG_TESS'] = gls.power.max()\n",
    "        gto.loc[i, 'maxSNR_PG_TESS'] = gls.best['amp'] / gls.rms\n",
    "        gto.loc[i, 'rms_PG_TESS'] = gls.rms\n",
    "        gto.loc[i, 'f_PG_TESS'] = gls.best['f']\n",
    "        gto.loc[i, 'e_f_PG_TESS'] = gls.best['e_f']\n",
    "        gto.loc[i, 'Pd_PG_TESS'] = gls.best['P']\n",
    "        gto.loc[i, 'e_Pd_PG_TESS'] = gls.best['e_P']\n",
    "        gto.loc[i, 'Ph_PG_TESS'] = 24.0 * gls.best['P']\n",
    "        gto.loc[i, 'e_Ph_PG_TESS'] = 24.0 * gls.best['e_P']\n",
    "        gto.loc[i, 'Pm_PG_TESS'] = 24.0 * 60.0 * gls.best['P']\n",
    "        gto.loc[i, 'e_Pm_PG_TESS'] = 24.0 * 60.0 * gls.best['e_P']\n",
    "        gto.loc[i, 'A_PG_TESS'] = gls.best['amp']\n",
    "        gto.loc[i, 'e_A_PG_TESS'] = gls.best['e_amp']\n",
    "        gto.loc[i, 'ph_PG_TESS'] = gls.best['ph']\n",
    "        gto.loc[i, 'e_ph_PG_TESS'] = gls.best['e_ph']\n",
    "        gto.loc[i, 'T0_PG_TESS'] = gls.best['T0']\n",
    "        gto.loc[i, 'e_T0_PG_TESS'] = gls.best['e_T0']\n",
    "        gto.loc[i, 'offset_PG_TESS'] = gls.best['offset']\n",
    "        gto.loc[i, 'e_offset_PG_TESS'] = gls.best['e_offset']\n",
    "        gto.loc[i, 'FAP_PG_TESS'] = gls.FAP(Pn=None)\n",
    "\n",
    "        # GENERATE THE FIGURE:\n",
    "        fig = gls.plot(block=False, period=False,\n",
    "                       fap=FAP_LEVELS_PLOT, gls=True, data=True, residuals=True)\n",
    "        # Add the reference lines for predicted pulsations:\n",
    "        fig.axes[0].axvline(F_LOW, color=\"darkgray\", linestyle=\"--\")\n",
    "        fig.axes[0].axvline(F_HIGH, color=\"darkgray\", linestyle=\"--\")\n",
    "        figure_title = \"TESS LC: %s (TIC %s), P=%.4f [min], FAP=%.4f%%\" \\\n",
    "            %(karmn, tic_id, gto.loc[i, 'Pm_PG_TESS'], 100.0 * gto.loc[i, 'FAP_PG_TESS'])\n",
    "        fig.suptitle(figure_title, fontdict = {'fontsize' : 36})\n",
    "        fig.tight_layout()\n",
    "        # Save the figure to disk:\n",
    "        fig_file = OUT_IMG_FOLDER + karmn + \"_TESS_PG.jpg\"\n",
    "        fig.savefig(fig_file)\n",
    "        plt.close() # Prevent the figure from showing.\n",
    "\n",
    "        # SET THE RECORD CALCULATION AS VALID AND STORE THE REULTING FILENAMES\n",
    "        gto.loc[i, 'valid_PG_TESS'] = 1\n",
    "        gto.loc[i, 'error_PG_TESS'] = \"\"\n",
    "        gto.loc[i, 'fits_file_TESS'] = fits_filename\n",
    "        gto.loc[i, 'fig_file_TESS'] = fig_file\n",
    "\n",
    "        # UPDATE THE AVERAGE RECORD PROCESSING TIME:\n",
    "        lapse = time.time() - start_time\n",
    "        lapse_list.append(lapse)\n",
    "        median_lapse = np.nanmedian(lapse_list)\n",
    "        gto.loc[i, 'elapsed_time_PG_TESS'] = lapse\n",
    "        \n",
    "        # SAVE THE UPDATED GTO TABLE TO DISK:\n",
    "        gto.to_csv(GTO_FILE, sep=',', decimal='.', index=False)\n",
    "        \n",
    "        # Report successful execution:\n",
    "        print(\"Elapsed time: %.2f seconds\" %lapse)\n",
    "        print(\"... SUCCESS.\")\n",
    "\n",
    "        # Clear memory (delete the 'gls' object'):\n",
    "        try:\n",
    "            del gls\n",
    "        except:\n",
    "            pass\n",
    "\n",
    "    except Exception as e:\n",
    "        # Some error happened, establish the record as not valid and record the error:\n",
    "        error = \"--- Some ERROR happened with record #%d, %s star. Error=%s\" %(i, karmn, e)\n",
    "        print(error)\n",
    "        gto.loc[i, 'valid_PG_TESS'] = 0\n",
    "        gto.loc[i, 'error_PG_TESS'] = e\n",
    "        \n",
    "        # Try to update the record, and save the file:\n",
    "        try:\n",
    "            # UPDATE THE AVERAGE RECORD PROCESSING TIME:\n",
    "            lapse = time.time() - start_time\n",
    "            lapse_list.append(lapse)\n",
    "            median_lapse = np.nanmedian(lapse_list)\n",
    "            gto.loc[i, 'elapsed_time_PG_TESS'] = lapse\n",
    "            print(\"Elapsed time: %.2f seconds\" %lapse)\n",
    "\n",
    "            # SAVE THE UPDATED GTO TABLE TO DISK:\n",
    "            gto.to_csv(GTO_FILE, sep=',', decimal='.', index=False)\n",
    "        except Exception as e2:\n",
    "            error_2 = \"--- Additional ERROR happened with record #%d, %s star. Error=%s\" %(i, karmn, str(e2))\n",
    "            print(error)\n",
    "            gto.loc[i, 'error_PG_TESS'] = gto.loc[i, 'error_PG_TESS'] + \"/\" + str(e2)\n",
    "\n",
    "        # Clear memory (delete the 'gls' object'):\n",
    "        try:\n",
    "            del gls\n",
    "        except:\n",
    "            pass\n"
   ]
  },
  {
   "cell_type": "raw",
   "id": "fa08d8d5",
   "metadata": {
    "ExecuteTime": {
     "end_time": "2022-03-27T08:49:29.221142Z",
     "start_time": "2022-03-27T08:49:29.201196Z"
    }
   },
   "source": [
    "gto.loc[0:72, ['lc_file', 'error_PG_TESS']]"
   ]
  },
  {
   "cell_type": "code",
   "execution_count": 13,
   "id": "c2ac7b2b",
   "metadata": {
    "ExecuteTime": {
     "end_time": "2022-08-20T11:35:33.262050Z",
     "start_time": "2022-08-20T11:35:33.237116Z"
    }
   },
   "outputs": [
    {
     "data": {
      "text/html": [
       "<div>\n",
       "<style scoped>\n",
       "    .dataframe tbody tr th:only-of-type {\n",
       "        vertical-align: middle;\n",
       "    }\n",
       "\n",
       "    .dataframe tbody tr th {\n",
       "        vertical-align: top;\n",
       "    }\n",
       "\n",
       "    .dataframe thead th {\n",
       "        text-align: right;\n",
       "    }\n",
       "</style>\n",
       "<table border=\"1\" class=\"dataframe\">\n",
       "  <thead>\n",
       "    <tr style=\"text-align: right;\">\n",
       "      <th></th>\n",
       "      <th>Karmn</th>\n",
       "    </tr>\n",
       "  </thead>\n",
       "  <tbody>\n",
       "  </tbody>\n",
       "</table>\n",
       "</div>"
      ],
      "text/plain": [
       "Empty DataFrame\n",
       "Columns: [Karmn]\n",
       "Index: []"
      ]
     },
     "execution_count": 13,
     "metadata": {},
     "output_type": "execute_result"
    }
   ],
   "source": [
    "gto.loc[gto['lc_file'] == '<ambiguous>', ['Karmn']]"
   ]
  },
  {
   "cell_type": "markdown",
   "id": "42015a6c",
   "metadata": {},
   "source": [
    "## Check the calculations that took longer to complete"
   ]
  },
  {
   "cell_type": "markdown",
   "id": "2172c635",
   "metadata": {},
   "source": [
    "We now check the calcultions that took longer, so as to try to repeat them (as it could be due to a problem with the computer itself - for example, the program stopped when the computer went into \"sleep\" mode)."
   ]
  },
  {
   "cell_type": "code",
   "execution_count": 14,
   "id": "f7d28814",
   "metadata": {
    "ExecuteTime": {
     "end_time": "2022-08-20T11:35:36.360410Z",
     "start_time": "2022-08-20T11:35:36.338468Z"
    }
   },
   "outputs": [
    {
     "data": {
      "text/html": [
       "<div>\n",
       "<style scoped>\n",
       "    .dataframe tbody tr th:only-of-type {\n",
       "        vertical-align: middle;\n",
       "    }\n",
       "\n",
       "    .dataframe tbody tr th {\n",
       "        vertical-align: top;\n",
       "    }\n",
       "\n",
       "    .dataframe thead th {\n",
       "        text-align: right;\n",
       "    }\n",
       "</style>\n",
       "<table border=\"1\" class=\"dataframe\">\n",
       "  <thead>\n",
       "    <tr style=\"text-align: right;\">\n",
       "      <th></th>\n",
       "      <th>Karmn</th>\n",
       "      <th>elapsed_time_PG_TESS</th>\n",
       "    </tr>\n",
       "  </thead>\n",
       "  <tbody>\n",
       "    <tr>\n",
       "      <th>298</th>\n",
       "      <td>J06000+027</td>\n",
       "      <td>409.811453</td>\n",
       "    </tr>\n",
       "    <tr>\n",
       "      <th>296</th>\n",
       "      <td>J06024+498</td>\n",
       "      <td>405.184140</td>\n",
       "    </tr>\n",
       "    <tr>\n",
       "      <th>297</th>\n",
       "      <td>J06011+595</td>\n",
       "      <td>386.011730</td>\n",
       "    </tr>\n",
       "    <tr>\n",
       "      <th>288</th>\n",
       "      <td>J06548+332</td>\n",
       "      <td>368.194157</td>\n",
       "    </tr>\n",
       "    <tr>\n",
       "      <th>292</th>\n",
       "      <td>J06318+414</td>\n",
       "      <td>367.667636</td>\n",
       "    </tr>\n",
       "    <tr>\n",
       "      <th>289</th>\n",
       "      <td>J06421+035</td>\n",
       "      <td>365.088064</td>\n",
       "    </tr>\n",
       "    <tr>\n",
       "      <th>295</th>\n",
       "      <td>J06103+821</td>\n",
       "      <td>363.638667</td>\n",
       "    </tr>\n",
       "    <tr>\n",
       "      <th>284</th>\n",
       "      <td>J07033+346</td>\n",
       "      <td>362.037632</td>\n",
       "    </tr>\n",
       "    <tr>\n",
       "      <th>294</th>\n",
       "      <td>J06105-218</td>\n",
       "      <td>350.003743</td>\n",
       "    </tr>\n",
       "    <tr>\n",
       "      <th>283</th>\n",
       "      <td>J07044+682</td>\n",
       "      <td>346.088966</td>\n",
       "    </tr>\n",
       "  </tbody>\n",
       "</table>\n",
       "</div>"
      ],
      "text/plain": [
       "          Karmn  elapsed_time_PG_TESS\n",
       "298  J06000+027            409.811453\n",
       "296  J06024+498            405.184140\n",
       "297  J06011+595            386.011730\n",
       "288  J06548+332            368.194157\n",
       "292  J06318+414            367.667636\n",
       "289  J06421+035            365.088064\n",
       "295  J06103+821            363.638667\n",
       "284  J07033+346            362.037632\n",
       "294  J06105-218            350.003743\n",
       "283  J07044+682            346.088966"
      ]
     },
     "execution_count": 14,
     "metadata": {},
     "output_type": "execute_result"
    }
   ],
   "source": [
    "gto[['Karmn', 'elapsed_time_PG_TESS']].sort_values(by='elapsed_time_PG_TESS', ascending=False) \\\n",
    "    .head(10)"
   ]
  },
  {
   "cell_type": "code",
   "execution_count": 16,
   "id": "ac3d4fda",
   "metadata": {
    "ExecuteTime": {
     "end_time": "2022-08-20T11:36:08.231677Z",
     "start_time": "2022-08-20T11:36:08.207740Z"
    }
   },
   "outputs": [
    {
     "data": {
      "text/html": [
       "<div>\n",
       "<style scoped>\n",
       "    .dataframe tbody tr th:only-of-type {\n",
       "        vertical-align: middle;\n",
       "    }\n",
       "\n",
       "    .dataframe tbody tr th {\n",
       "        vertical-align: top;\n",
       "    }\n",
       "\n",
       "    .dataframe thead th {\n",
       "        text-align: right;\n",
       "    }\n",
       "</style>\n",
       "<table border=\"1\" class=\"dataframe\">\n",
       "  <thead>\n",
       "    <tr style=\"text-align: right;\">\n",
       "      <th></th>\n",
       "      <th>Karmn</th>\n",
       "      <th>elapsed_time_PG_TESS</th>\n",
       "      <th>valid_PG_TESS</th>\n",
       "    </tr>\n",
       "  </thead>\n",
       "  <tbody>\n",
       "    <tr>\n",
       "      <th>95</th>\n",
       "      <td>J18051-030</td>\n",
       "      <td>0.000971</td>\n",
       "      <td>0.0</td>\n",
       "    </tr>\n",
       "    <tr>\n",
       "      <th>45</th>\n",
       "      <td>J20556-140N</td>\n",
       "      <td>0.000969</td>\n",
       "      <td>0.0</td>\n",
       "    </tr>\n",
       "    <tr>\n",
       "      <th>68</th>\n",
       "      <td>J19098+176</td>\n",
       "      <td>0.000968</td>\n",
       "      <td>0.0</td>\n",
       "    </tr>\n",
       "    <tr>\n",
       "      <th>4</th>\n",
       "      <td>J23492+024</td>\n",
       "      <td>0.000967</td>\n",
       "      <td>0.0</td>\n",
       "    </tr>\n",
       "    <tr>\n",
       "      <th>9</th>\n",
       "      <td>J23340+001</td>\n",
       "      <td>0.000966</td>\n",
       "      <td>0.0</td>\n",
       "    </tr>\n",
       "    <tr>\n",
       "      <th>349</th>\n",
       "      <td>J02519+224</td>\n",
       "      <td>0.000966</td>\n",
       "      <td>0.0</td>\n",
       "    </tr>\n",
       "    <tr>\n",
       "      <th>356</th>\n",
       "      <td>J02358+202</td>\n",
       "      <td>0.000965</td>\n",
       "      <td>0.0</td>\n",
       "    </tr>\n",
       "    <tr>\n",
       "      <th>43</th>\n",
       "      <td>J20567-104</td>\n",
       "      <td>0.000964</td>\n",
       "      <td>0.0</td>\n",
       "    </tr>\n",
       "    <tr>\n",
       "      <th>387</th>\n",
       "      <td>J00162+198E</td>\n",
       "      <td>0.000963</td>\n",
       "      <td>0.0</td>\n",
       "    </tr>\n",
       "    <tr>\n",
       "      <th>106</th>\n",
       "      <td>J17303+055</td>\n",
       "      <td>0.000000</td>\n",
       "      <td>0.0</td>\n",
       "    </tr>\n",
       "  </tbody>\n",
       "</table>\n",
       "</div>"
      ],
      "text/plain": [
       "           Karmn  elapsed_time_PG_TESS  valid_PG_TESS\n",
       "95    J18051-030              0.000971            0.0\n",
       "45   J20556-140N              0.000969            0.0\n",
       "68    J19098+176              0.000968            0.0\n",
       "4     J23492+024              0.000967            0.0\n",
       "9     J23340+001              0.000966            0.0\n",
       "349   J02519+224              0.000966            0.0\n",
       "356   J02358+202              0.000965            0.0\n",
       "43    J20567-104              0.000964            0.0\n",
       "387  J00162+198E              0.000963            0.0\n",
       "106   J17303+055              0.000000            0.0"
      ]
     },
     "execution_count": 16,
     "metadata": {},
     "output_type": "execute_result"
    }
   ],
   "source": [
    "gto[['Karmn', 'elapsed_time_PG_TESS', 'valid_PG_TESS']].sort_values(by='elapsed_time_PG_TESS', ascending=False) \\\n",
    "    .tail(10)"
   ]
  },
  {
   "cell_type": "markdown",
   "id": "6dee85cb",
   "metadata": {},
   "source": [
    "## Review a given file"
   ]
  },
  {
   "cell_type": "code",
   "execution_count": 17,
   "id": "fc313c4a",
   "metadata": {
    "ExecuteTime": {
     "end_time": "2022-08-20T11:36:12.540209Z",
     "start_time": "2022-08-20T11:36:12.522225Z"
    }
   },
   "outputs": [],
   "source": [
    "object_name = \"J23548+385\""
   ]
  },
  {
   "cell_type": "code",
   "execution_count": 18,
   "id": "b38f1025",
   "metadata": {
    "ExecuteTime": {
     "end_time": "2022-08-20T11:36:12.961037Z",
     "start_time": "2022-08-20T11:36:12.938099Z"
    }
   },
   "outputs": [
    {
     "data": {
      "text/plain": [
       "[<astropy.io.fits.hdu.image.PrimaryHDU object at 0x000001A2856EA3A0>, <astropy.io.fits.hdu.table.BinTableHDU object at 0x000001A2853A5190>, <astropy.io.fits.hdu.table.BinTableHDU object at 0x000001A2FF40CEB0>]"
      ]
     },
     "execution_count": 18,
     "metadata": {},
     "output_type": "execute_result"
    }
   ],
   "source": [
    "read_hdul = fits.open(OUT_PROCESSED_FOLDER + object_name + \"_TESS_PG.fits\",\n",
    "                      mode='update', memmap=False)\n",
    "read_hdul"
   ]
  },
  {
   "cell_type": "code",
   "execution_count": 19,
   "id": "af53d9ed",
   "metadata": {
    "ExecuteTime": {
     "end_time": "2022-08-20T11:36:13.368433Z",
     "start_time": "2022-08-20T11:36:13.346493Z"
    }
   },
   "outputs": [
    {
     "name": "stdout",
     "output_type": "stream",
     "text": [
      "Filename: ../data/CARM_VIS_TESS_PGs/J23548+385_TESS_PG.fits\n",
      "No.    Name      Ver    Type      Cards   Dimensions   Format\n",
      "  0  PRIMARY       1 PrimaryHDU      17   ()      \n",
      "  1  TESS_LC       1 BinTableHDU    216   12878R x 24C   [2D, E, E, E, J, D, D, E, E, E, E, E, E, J, D, E, D, E, D, E, D, E, E, E]   \n",
      "  2  GLS_PG        1 BinTableHDU     45   285601R x 2C   [D, D]   \n"
     ]
    }
   ],
   "source": [
    "read_hdul.info()"
   ]
  },
  {
   "cell_type": "markdown",
   "id": "b64bfc19",
   "metadata": {
    "ExecuteTime": {
     "end_time": "2022-03-13T10:44:13.485181Z",
     "start_time": "2022-03-13T10:44:13.467228Z"
    }
   },
   "source": [
    "### Retrieve basic information"
   ]
  },
  {
   "cell_type": "code",
   "execution_count": 20,
   "id": "bf8ec911",
   "metadata": {
    "ExecuteTime": {
     "end_time": "2022-08-20T11:36:14.283545Z",
     "start_time": "2022-08-20T11:36:14.265600Z"
    }
   },
   "outputs": [
    {
     "data": {
      "text/plain": [
       "SIMPLE  =                    T / conforms to FITS standard                      \n",
       "BITPIX  =                    8 / array data type                                \n",
       "NAXIS   =                    0 / number of array dimensions                     \n",
       "EXTEND  =                    T                                                  \n",
       "OBJECT  = 'J23548+385'         / KARMENES target name                           \n",
       "NAME    = 'RX J2354.8+3831'    / Object common name                             \n",
       "TIC     = '291689873'          / Object TESS identifier                         \n",
       "RA_J2000= '00:05:10.89'        / Object right ascension (J2000)                 \n",
       "DE_J2000= '+45:47:11.6'        / Object declination (J2000)                     \n",
       "SPTYPE  = 'M1.0 V  '           / Spectral type                                  \n",
       "TEFF_K  =                 3773 / Effective temperature in Kelvin                \n",
       "LOGG    =                 5.07 / Logarithm of surface gravity                   \n",
       "FEH     =                -0.04 / Metallicity                                    \n",
       "L_LSUN  =            0.0436229 / Luminosity in Solar luminosities               \n",
       "R_RSUN  =              0.48881 / Radius in Solar radii                          \n",
       "M_MSUN  =               0.4918 / Mass in Solar masses                           \n",
       "D_PC    =          11.50352803 / Distance in parsec                             "
      ]
     },
     "execution_count": 20,
     "metadata": {},
     "output_type": "execute_result"
    }
   ],
   "source": [
    "read_hdul['PRIMARY'].header"
   ]
  },
  {
   "cell_type": "markdown",
   "id": "faa3d359",
   "metadata": {},
   "source": [
    "### Retrieve RV curve information"
   ]
  },
  {
   "cell_type": "code",
   "execution_count": 21,
   "id": "3b196156",
   "metadata": {
    "ExecuteTime": {
     "end_time": "2022-08-20T11:36:16.662519Z",
     "start_time": "2022-08-20T11:36:16.642573Z"
    }
   },
   "outputs": [
    {
     "data": {
      "text/plain": [
       "<astropy.io.fits.hdu.table.BinTableHDU at 0x1a2853a5190>"
      ]
     },
     "execution_count": 21,
     "metadata": {},
     "output_type": "execute_result"
    }
   ],
   "source": [
    "read_hdul['TESS_LC']"
   ]
  },
  {
   "cell_type": "code",
   "execution_count": 22,
   "id": "ad8b26e9",
   "metadata": {
    "ExecuteTime": {
     "end_time": "2022-08-20T11:36:17.261906Z",
     "start_time": "2022-08-20T11:36:17.250936Z"
    },
    "scrolled": false
   },
   "outputs": [
    {
     "data": {
      "text/plain": [
       "XTENSION= 'BINTABLE'           / binary table extension                         \n",
       "BITPIX  =                    8 / array data type                                \n",
       "NAXIS   =                    2 / number of array dimensions                     \n",
       "NAXIS1  =                  132 / length of dimension 1                          \n",
       "NAXIS2  =                12878 / length of dimension 2                          \n",
       "PCOUNT  =                    0 / number of group parameters                     \n",
       "GCOUNT  =                    1 / number of groups                               \n",
       "TFIELDS =                   24 / number of table fields                         \n",
       "TIMESYS = 'TDB     '           / Default time scale                             \n",
       "JDREF   =                  0.0 / Time columns are jd = jd1 + jd2                \n",
       "TREFPOS = 'TOPOCENTER'         / Time reference position                        \n",
       "TTYPE1  = 'time    '                                                            \n",
       "TFORM1  = '2D      '                                                            \n",
       "TUNIT1  = 'd       '                                                            \n",
       "TDIM1   = '(2)     '                                                            \n",
       "TCTYP1  = 'TDB     '                                                            \n",
       "TCUNI1  = 'd       '                                                            \n",
       "TTYPE2  = 'flux    '                                                            \n",
       "TFORM2  = 'E       '                                                            \n",
       "TDISP2  = 'E14.7   '                                                            \n",
       "TTYPE3  = 'flux_err'                                                            \n",
       "TFORM3  = 'E       '                                                            \n",
       "TDISP3  = 'E14.7   '                                                            \n",
       "TTYPE4  = 'timecorr'                                                            \n",
       "TFORM4  = 'E       '                                                            \n",
       "TUNIT4  = 'd       '                                                            \n",
       "TDISP4  = 'E14.7   '                                                            \n",
       "TTYPE5  = 'cadenceno'                                                           \n",
       "TFORM5  = 'J       '                                                            \n",
       "TDISP5  = 'I10     '                                                            \n",
       "TTYPE6  = 'centroid_col'                                                        \n",
       "TFORM6  = 'D       '                                                            \n",
       "TUNIT6  = 'pix     '                                                            \n",
       "TDISP6  = 'F10.5   '                                                            \n",
       "TTYPE7  = 'centroid_row'                                                        \n",
       "TFORM7  = 'D       '                                                            \n",
       "TUNIT7  = 'pix     '                                                            \n",
       "TDISP7  = 'F10.5   '                                                            \n",
       "TTYPE8  = 'sap_flux'                                                            \n",
       "TFORM8  = 'E       '                                                            \n",
       "TDISP8  = 'E14.7   '                                                            \n",
       "TTYPE9  = 'sap_flux_err'                                                        \n",
       "TFORM9  = 'E       '                                                            \n",
       "TDISP9  = 'E14.7   '                                                            \n",
       "TTYPE10 = 'sap_bkg '                                                            \n",
       "TFORM10 = 'E       '                                                            \n",
       "TDISP10 = 'E14.7   '                                                            \n",
       "TTYPE11 = 'sap_bkg_err'                                                         \n",
       "TFORM11 = 'E       '                                                            \n",
       "TDISP11 = 'E14.7   '                                                            \n",
       "TTYPE12 = 'pdcsap_flux'                                                         \n",
       "TFORM12 = 'E       '                                                            \n",
       "TDISP12 = 'E14.7   '                                                            \n",
       "TTYPE13 = 'pdcsap_flux_err'                                                     \n",
       "TFORM13 = 'E       '                                                            \n",
       "TDISP13 = 'E14.7   '                                                            \n",
       "TTYPE14 = 'quality '                                                            \n",
       "TFORM14 = 'J       '                                                            \n",
       "TDISP14 = 'B16     '                                                            \n",
       "TTYPE15 = 'psf_centr1'                                                          \n",
       "TFORM15 = 'D       '                                                            \n",
       "TUNIT15 = 'pix     '                                                            \n",
       "TDISP15 = 'F10.5   '                                                            \n",
       "TTYPE16 = 'psf_centr1_err'                                                      \n",
       "TFORM16 = 'E       '                                                            \n",
       "TUNIT16 = 'pix     '                                                            \n",
       "TDISP16 = 'E14.7   '                                                            \n",
       "TTYPE17 = 'psf_centr2'                                                          \n",
       "TFORM17 = 'D       '                                                            \n",
       "TUNIT17 = 'pix     '                                                            \n",
       "TDISP17 = 'F10.5   '                                                            \n",
       "TTYPE18 = 'psf_centr2_err'                                                      \n",
       "TFORM18 = 'E       '                                                            \n",
       "TUNIT18 = 'pix     '                                                            \n",
       "TDISP18 = 'E14.7   '                                                            \n",
       "TTYPE19 = 'mom_centr1'                                                          \n",
       "TFORM19 = 'D       '                                                            \n",
       "TUNIT19 = 'pix     '                                                            \n",
       "TDISP19 = 'F10.5   '                                                            \n",
       "TTYPE20 = 'mom_centr1_err'                                                      \n",
       "TFORM20 = 'E       '                                                            \n",
       "TUNIT20 = 'pix     '                                                            \n",
       "TDISP20 = 'E14.7   '                                                            \n",
       "TTYPE21 = 'mom_centr2'                                                          \n",
       "TFORM21 = 'D       '                                                            \n",
       "TUNIT21 = 'pix     '                                                            \n",
       "TDISP21 = 'F10.5   '                                                            \n",
       "TTYPE22 = 'mom_centr2_err'                                                      \n",
       "TFORM22 = 'E       '                                                            \n",
       "TUNIT22 = 'pix     '                                                            \n",
       "TDISP22 = 'E14.7   '                                                            \n",
       "TTYPE23 = 'pos_corr1'                                                           \n",
       "TFORM23 = 'E       '                                                            \n",
       "TUNIT23 = 'pix     '                                                            \n",
       "TDISP23 = 'E14.7   '                                                            \n",
       "TTYPE24 = 'pos_corr2'                                                           \n",
       "TFORM24 = 'E       '                                                            \n",
       "TUNIT24 = 'pix     '                                                            \n",
       "TDISP24 = 'E14.7   '                                                            \n",
       "INHERIT =                    T                                                  \n",
       "EXTNAME = 'TESS_LC '                                                            \n",
       "EXTVER  =                    1                                                  \n",
       "SIMDATA =                    F                                                  \n",
       "TELESCOP= 'TESS    '                                                            \n",
       "INSTRUME= 'TESS Photometer'                                                     \n",
       "OBJECT  = 'J23548+385'         / KARMENES target name                           \n",
       "TICID   =            291689873                                                  \n",
       "RADESYS = 'ICRS    '                                                            \n",
       "RA_OBJ  =     358.714405881017                                                  \n",
       "DEC_OBJ =     38.5267223811979                                                  \n",
       "EQUINOX =               2000.0                                                  \n",
       "EXPOSURE=      19.795277102165                                                  \n",
       "TIMEREF = 'SOLARSYSTEM'                                                         \n",
       "TASSIGN = 'SPACECRAFT'                                                          \n",
       "BJDREFI =              2457000                                                  \n",
       "BJDREFF =                  0.0                                                  \n",
       "TIMEUNIT= 'd       '                                                            \n",
       "TELAPSE =      24.994036745158                                                  \n",
       "LIVETIME=    19.79527710216508                                                  \n",
       "TSTART  =    1764.688450244272                                                  \n",
       "TSTOP   =    1789.682486757948                                                  \n",
       "DATE-OBS= '2019-10-08T04:30:12.917'                                             \n",
       "DATE-END= '2019-11-02T04:21:37.672'                                             \n",
       "DEADC   =                0.792                                                  \n",
       "TIMEPIXR=                  0.5                                                  \n",
       "TIERRELA=             1.16E-05                                                  \n",
       "INT_TIME=                 1.98                                                  \n",
       "READTIME=                 0.02                                                  \n",
       "FRAMETIM=                  2.0                                                  \n",
       "NUM_FRM =                   60                                                  \n",
       "TIMEDEL = 0.001388888888888889                                                  \n",
       "BACKAPP =                    T                                                  \n",
       "DEADAPP =                    T                                                  \n",
       "VIGNAPP =                    T                                                  \n",
       "GAINA   =     5.28000020980835                                                  \n",
       "GAINB   =    5.260000228881836                                                  \n",
       "GAINC   =                 5.25                                                  \n",
       "GAIND   =    5.210000038146973                                                  \n",
       "READNOIA=    9.873600006103516                                                  \n",
       "READNOIB=     7.62700080871582                                                  \n",
       "READNOIC=     7.71750020980835                                                  \n",
       "READNOID=     9.89900016784668                                                  \n",
       "NREADOUT=                   48                                                  \n",
       "FXDOFF  =               209700                                                  \n",
       "CDPP0_5 =         763.78967285                                                  \n",
       "CDPP1_0 =         706.14562988                                                  \n",
       "CDPP2_0 =         707.93939209                                                  \n",
       "CROWDSAP=           0.98093069                                                  \n",
       "FLFRCSAP=           0.90509367                                                  \n",
       "NSPSDDET=                    0                                                  \n",
       "NSPSDCOR=                    0                                                  \n",
       "PDCVAR  =    13.75225659057207                                                  \n",
       "PDCMETHD= 'MAP     '                                                            \n",
       "NUMBAND =                    1                                                  \n",
       "FITTYPE1= 'prior   '                                                            \n",
       "PR_GOOD1=    0.999993622303009                                                  \n",
       "PR_WGHT1=     217.627685546875                                                  \n",
       "PDC_TOT =   0.8131865262985229                                                  \n",
       "PDC_TOTP=    7.549610137939453                                                  \n",
       "PDC_COR =   0.5627501606941223                                                  \n",
       "PDC_CORP=    4.018634796142578                                                  \n",
       "PDC_VAR =                                                                       \n",
       "PDC_VARP=                                                                       \n",
       "PDC_NOI =   0.9610631465911865                                                  \n",
       "PDC_NOIP=    10.81311130523682                                                  \n",
       "PDC_EPT =                                                                       \n",
       "PDC_EPTP=                                                                       \n",
       "CHECKSUM= 'dkIKdhFIdhFIdhFI'                                                    \n",
       "TMOFST23=    1.539999961853027                                                  \n",
       "MEANBLCA=                 6812                                                  \n",
       "MEANBLCB=                 6724                                                  \n",
       "MEANBLCC=                 6753                                                  \n",
       "MEANBLCD=                 6433                                                  \n",
       "SIMPLE  =                    T                                                  \n",
       "EXTEND  =                    T                                                  \n",
       "NEXTEND =                    2                                                  \n",
       "ORIGIN  = 'NASA/Ames'                                                           \n",
       "DATE    = '2020-04-11'                                                          \n",
       "CREATOR = '21226 LightCurveExporterPipelineModule'                              \n",
       "PROCVER = 'spoc-4.0.28-20200407'                                                \n",
       "FILEVER = '1.0     '                                                            \n",
       "TIMVERSN= 'OGIP/93-003'                                                         \n",
       "DATA_REL=                   30                                                  \n",
       "SECTOR  =                   17                                                  \n",
       "CAMERA  =                    2                                                  \n",
       "CCD     =                    3                                                  \n",
       "PXTABLE =                  176                                                  \n",
       "PMRA    =              -131.57                                                  \n",
       "PMDEC   =             -86.1095                                                  \n",
       "PMTOTAL =         157.24347646                                                  \n",
       "TESSMAG =          10.58430004                                                  \n",
       "TEFF    =               3269.0                                                  \n",
       "LOGG    =           4.90846014                                                  \n",
       "MH      =                                                                       \n",
       "RADIUS  =           0.31598601                                                  \n",
       "TICVER  =                    8                                                  \n",
       "CRMITEN =                    T                                                  \n",
       "CRBLKSZ =                   10                                                  \n",
       "CRSPOC  =                    F                                                  \n",
       "LABEL   = 'TIC 291689873'                                                       \n",
       "MISSION = 'TESS    '                                                            \n",
       "RA      =     358.714405881017                                                  \n",
       "DEC     =     38.5267223811979                                                  \n",
       "FILENAME= '../data/CARMENES_GTO_TESS_lc/lightcurves/J23548+385/J23548+385_TESS&'\n",
       "CONTINUE  '_TIC291689873_S17.fits'                                              \n",
       "HIERARCH FLUX_ORIGIN = 'pdcsap_flux'                                            \n",
       "AUTHOR  = 'SPOC    '                                                            \n",
       "TARGETID=            291689873                                                  \n",
       "HIERARCH QUALITY_BITMASK = 'default '                                           \n",
       "PUNIT   = 'd       '                                                            \n",
       "FUNIT   = 'd-1     '                                                            \n",
       "RVPOINTS=                12878 / Number of points in the TESS curve             \n",
       "AVGFLUX =      8262.2080078125 / Average flux of TESS curve                     \n",
       "RMSFLUX =    155.0165252685547 / Flux RMS of TESS curve                         \n",
       "PSAMPLE = 0.001388863605825463 / Inferred cadence in TESS curve                 \n",
       "FSAMPLE =    720.0131069786767 / Inferred sampling frequency in TESS curve      \n",
       "FNYQUIST=    1440.026213957353 / Calculated Nyquist frequency value             "
      ]
     },
     "execution_count": 22,
     "metadata": {},
     "output_type": "execute_result"
    }
   ],
   "source": [
    "read_hdul['TESS_LC'].header"
   ]
  },
  {
   "cell_type": "code",
   "execution_count": 23,
   "id": "1ac50efb",
   "metadata": {
    "ExecuteTime": {
     "end_time": "2022-08-20T11:36:17.844476Z",
     "start_time": "2022-08-20T11:36:17.810566Z"
    }
   },
   "outputs": [
    {
     "data": {
      "text/plain": [
       "FITS_rec([([ 2.45876500e+06, -3.10855424e-01], 8036.715 , 14.602657, 0.0047049 , 386805, 743.37405765, 1030.75688962, 7419.3154, 13.216773, 1896.0168, 6.645701 , 8036.715 , 14.602657, 0, nan, nan, nan, nan, 743.37405765, 0.00165376, 1030.75688962, 0.00156959, 0.04306674, 0.08566172),\n",
       "          ([ 2.45876500e+06, -3.09466527e-01], 8045.7295, 14.630568, 0.00470491, 386806, 743.37714375, 1030.75655315, 7433.0312, 13.242034, 1900.8579, 6.6685295, 8045.7295, 14.630568, 0, nan, nan, nan, nan, 743.37714375, 0.00165215, 1030.75655315, 0.0015669 , 0.04319848, 0.08758464),\n",
       "          ([ 2.45876500e+06, -3.08077632e-01], 8045.2686, 14.622687, 0.00470492, 386807, 743.38027732, 1030.75631546, 7430.282 , 13.234902, 1898.9921, 6.6640596, 8045.2686, 14.622687, 0, nan, nan, nan, nan, 743.38027732, 0.00165761, 1030.75631546, 0.00156569, 0.04801591, 0.08800385),\n",
       "          ([ 2.45876500e+06, -3.06688735e-01], 8035.3765, 14.61121 , 0.00470493, 386808, 743.37142282, 1030.75155629, 7416.531 , 13.224514, 1900.3071, 6.6757946, 8035.3765, 14.61121 , 0, nan, nan, nan, nan, 743.37142282, 0.00165821, 1030.75155629, 0.00156726, 0.03946783, 0.0811476 ),\n",
       "          ([ 2.45876500e+06, -3.05299839e-01], 8045.5757, 14.600376, 0.00470493, 386809, 743.37578696, 1030.75774684, 7428.515 , 13.214708, 1897.5846, 6.649689 , 8045.5757, 14.600376, 0, nan, nan, nan, nan, 743.37578696, 0.00165113, 1030.75774684, 0.00156591, 0.04288413, 0.08679936),\n",
       "          ([ 2.45876500e+06, -3.03910944e-01], 8057.849 , 14.61195 , 0.00470494, 386810, 743.38068269, 1030.75562846, 7440.0063, 13.225183, 1885.1906, 6.6451707, 8057.849 , 14.61195 , 0, nan, nan, nan, nan, 743.38068269, 0.00164874, 1030.75562846, 0.00156667, 0.04636824, 0.08713852),\n",
       "          ([ 2.45876500e+06, -3.02522047e-01], 8019.945 , 14.623798, 0.00470495, 386811, 743.38077413, 1030.75485808, 7410.8506, 13.235908, 1893.2153, 6.6664557, 8019.945 , 14.623798, 0, nan, nan, nan, nan, 743.38077413, 0.00166381, 1030.75485808, 0.00157117, 0.04395806, 0.08726585),\n",
       "          ([ 2.45876500e+06, -3.01133151e-01], 8021.466 , 14.593859, 0.00470496, 386812, 743.37517998, 1030.75433674, 7412.9116, 13.208809, 1898.373 , 6.6483836, 8021.466 , 14.593859, 0, nan, nan, nan, nan, 743.37517998, 0.00165443, 1030.75433674, 0.00156728, 0.04407893, 0.08488221),\n",
       "          ([ 2.45876500e+06, -2.99744255e-01], 8023.449 , 14.611629, 0.00470496, 386813, 743.37256641, 1030.75632478, 7409.788 , 13.224893, 1902.6969, 6.6640005, 8023.449 , 14.611629, 0, nan, nan, nan, nan, 743.37256641, 0.00166069, 1030.75632478, 0.00156945, 0.0399594 , 0.08138748),\n",
       "          ([ 2.45876500e+06, -2.98355359e-01], 8044.087 , 14.643314, 0.00470497, 386814, 743.37913755, 1030.75879023, 7429.2417, 13.253571, 1888.0557, 6.657132 , 8044.087 , 14.643314, 0, nan, nan, nan, nan, 743.37913755, 0.0016555 , 1030.75879023, 0.00157512, 0.04594935, 0.08638962)],\n",
       "         dtype=(numpy.record, [('time', '>f8', (2,)), ('flux', '>f4'), ('flux_err', '>f4'), ('timecorr', '>f4'), ('cadenceno', '>i4'), ('centroid_col', '>f8'), ('centroid_row', '>f8'), ('sap_flux', '>f4'), ('sap_flux_err', '>f4'), ('sap_bkg', '>f4'), ('sap_bkg_err', '>f4'), ('pdcsap_flux', '>f4'), ('pdcsap_flux_err', '>f4'), ('quality', '>i4'), ('psf_centr1', '>f8'), ('psf_centr1_err', '>f4'), ('psf_centr2', '>f8'), ('psf_centr2_err', '>f4'), ('mom_centr1', '>f8'), ('mom_centr1_err', '>f4'), ('mom_centr2', '>f8'), ('mom_centr2_err', '>f4'), ('pos_corr1', '>f4'), ('pos_corr2', '>f4')]))"
      ]
     },
     "execution_count": 23,
     "metadata": {},
     "output_type": "execute_result"
    }
   ],
   "source": [
    "read_hdul['TESS_LC'].data[:10]"
   ]
  },
  {
   "cell_type": "code",
   "execution_count": 24,
   "id": "d9cf03e7",
   "metadata": {
    "ExecuteTime": {
     "end_time": "2022-08-20T11:36:19.359787Z",
     "start_time": "2022-08-20T11:36:19.202796Z"
    }
   },
   "outputs": [
    {
     "data": {
      "text/html": [
       "<i>QTable length=12878</i>\n",
       "<table id=\"table1799578723136\" class=\"table-striped table-bordered table-condensed\">\n",
       "<thead><tr><th>time [2]</th><th>flux</th><th>flux_err</th><th>timecorr</th><th>cadenceno</th><th>centroid_col</th><th>centroid_row</th><th>sap_flux</th><th>sap_flux_err</th><th>sap_bkg</th><th>sap_bkg_err</th><th>pdcsap_flux</th><th>pdcsap_flux_err</th><th>quality</th><th>psf_centr1</th><th>psf_centr1_err</th><th>psf_centr2</th><th>psf_centr2_err</th><th>mom_centr1</th><th>mom_centr1_err</th><th>mom_centr2</th><th>mom_centr2_err</th><th>pos_corr1</th><th>pos_corr2</th></tr></thead>\n",
       "<thead><tr><th>d</th><th></th><th></th><th>d</th><th></th><th>pix</th><th>pix</th><th></th><th></th><th></th><th></th><th></th><th></th><th></th><th>pix</th><th>pix</th><th>pix</th><th>pix</th><th>pix</th><th>pix</th><th>pix</th><th>pix</th><th>pix</th><th>pix</th></tr></thead>\n",
       "<thead><tr><th>float64</th><th>float32</th><th>float32</th><th>float32</th><th>int32</th><th>float64</th><th>float64</th><th>float32</th><th>float32</th><th>float32</th><th>float32</th><th>float32</th><th>float32</th><th>int32</th><th>float64</th><th>float32</th><th>float64</th><th>float32</th><th>float64</th><th>float32</th><th>float64</th><th>float32</th><th>float32</th><th>float32</th></tr></thead>\n",
       "<tr><td>2458765.0 .. -0.3108554236009695</td><td>8.0367148e+03</td><td>1.4602657e+01</td><td>4.7049029e-03</td><td>386805</td><td>743.37406</td><td>1030.75689</td><td>7.4193154e+03</td><td>1.3216773e+01</td><td>1.8960168e+03</td><td>6.6457009e+00</td><td>8.0367148e+03</td><td>1.4602657e+01</td><td>0</td><td>nan</td><td>nan</td><td>nan</td><td>nan</td><td>743.37406</td><td>1.6537585e-03</td><td>1030.75689</td><td>1.5695895e-03</td><td>4.3066736e-02</td><td>8.5661724e-02</td></tr>\n",
       "<tr><td>2458765.0 .. -0.30946652739862657</td><td>8.0457295e+03</td><td>1.4630568e+01</td><td>4.7049108e-03</td><td>386806</td><td>743.37714</td><td>1030.75655</td><td>7.4330312e+03</td><td>1.3242034e+01</td><td>1.9008579e+03</td><td>6.6685295e+00</td><td>8.0457295e+03</td><td>1.4630568e+01</td><td>0</td><td>nan</td><td>nan</td><td>nan</td><td>nan</td><td>743.37714</td><td>1.6521512e-03</td><td>1030.75655</td><td>1.5668995e-03</td><td>4.3198477e-02</td><td>8.7584637e-02</td></tr>\n",
       "<tr><td>2458765.0 .. -0.3080776316621723</td><td>8.0452686e+03</td><td>1.4622687e+01</td><td>4.7049182e-03</td><td>386807</td><td>743.38028</td><td>1030.75632</td><td>7.4302822e+03</td><td>1.3234902e+01</td><td>1.8989921e+03</td><td>6.6640596e+00</td><td>8.0452686e+03</td><td>1.4622687e+01</td><td>0</td><td>nan</td><td>nan</td><td>nan</td><td>nan</td><td>743.38028</td><td>1.6576147e-03</td><td>1030.75632</td><td>1.5656911e-03</td><td>4.8015915e-02</td><td>8.8003851e-02</td></tr>\n",
       "<tr><td>2458765.0 .. -0.3066887354593746</td><td>8.0353765e+03</td><td>1.4611210e+01</td><td>4.7049262e-03</td><td>386808</td><td>743.37142</td><td>1030.75156</td><td>7.4165308e+03</td><td>1.3224514e+01</td><td>1.9003071e+03</td><td>6.6757946e+00</td><td>8.0353765e+03</td><td>1.4611210e+01</td><td>0</td><td>nan</td><td>nan</td><td>nan</td><td>nan</td><td>743.37142</td><td>1.6582146e-03</td><td>1030.75156</td><td>1.5672606e-03</td><td>3.9467834e-02</td><td>8.1147596e-02</td></tr>\n",
       "<tr><td>2458765.0 .. -0.3052998392563495</td><td>8.0455757e+03</td><td>1.4600376e+01</td><td>4.7049341e-03</td><td>386809</td><td>743.37579</td><td>1030.75775</td><td>7.4285151e+03</td><td>1.3214708e+01</td><td>1.8975846e+03</td><td>6.6496892e+00</td><td>8.0455757e+03</td><td>1.4600376e+01</td><td>0</td><td>nan</td><td>nan</td><td>nan</td><td>nan</td><td>743.37579</td><td>1.6511347e-03</td><td>1030.75775</td><td>1.5659113e-03</td><td>4.2884134e-02</td><td>8.6799361e-02</td></tr>\n",
       "<tr><td>2458765.0 .. -0.3039109435198952</td><td>8.0578491e+03</td><td>1.4611950e+01</td><td>4.7049415e-03</td><td>386810</td><td>743.38068</td><td>1030.75563</td><td>7.4400063e+03</td><td>1.3225183e+01</td><td>1.8851906e+03</td><td>6.6451707e+00</td><td>8.0578491e+03</td><td>1.4611950e+01</td><td>0</td><td>nan</td><td>nan</td><td>nan</td><td>nan</td><td>743.38068</td><td>1.6487412e-03</td><td>1030.75563</td><td>1.5666722e-03</td><td>4.6368241e-02</td><td>8.7138519e-02</td></tr>\n",
       "<tr><td>2458765.0 .. -0.30252204731777965</td><td>8.0199448e+03</td><td>1.4623798e+01</td><td>4.7049494e-03</td><td>386811</td><td>743.38077</td><td>1030.75486</td><td>7.4108506e+03</td><td>1.3235908e+01</td><td>1.8932153e+03</td><td>6.6664557e+00</td><td>8.0199448e+03</td><td>1.4623798e+01</td><td>0</td><td>nan</td><td>nan</td><td>nan</td><td>nan</td><td>743.38077</td><td>1.6638068e-03</td><td>1030.75486</td><td>1.5711738e-03</td><td>4.3958057e-02</td><td>8.7265849e-02</td></tr>\n",
       "<tr><td>2458765.0 .. -0.3011331511154367</td><td>8.0214658e+03</td><td>1.4593859e+01</td><td>4.7049574e-03</td><td>386812</td><td>743.37518</td><td>1030.75434</td><td>7.4129116e+03</td><td>1.3208809e+01</td><td>1.8983730e+03</td><td>6.6483836e+00</td><td>8.0214658e+03</td><td>1.4593859e+01</td><td>0</td><td>nan</td><td>nan</td><td>nan</td><td>nan</td><td>743.37518</td><td>1.6544337e-03</td><td>1030.75434</td><td>1.5672805e-03</td><td>4.4078931e-02</td><td>8.4882207e-02</td></tr>\n",
       "<tr><td>2458765.0 .. -0.2997442553789824</td><td>8.0234492e+03</td><td>1.4611629e+01</td><td>4.7049648e-03</td><td>386813</td><td>743.37257</td><td>1030.75632</td><td>7.4097881e+03</td><td>1.3224893e+01</td><td>1.9026969e+03</td><td>6.6640005e+00</td><td>8.0234492e+03</td><td>1.4611629e+01</td><td>0</td><td>nan</td><td>nan</td><td>nan</td><td>nan</td><td>743.37257</td><td>1.6606862e-03</td><td>1030.75632</td><td>1.5694479e-03</td><td>3.9959405e-02</td><td>8.1387483e-02</td></tr>\n",
       "<tr><td>...</td><td>...</td><td>...</td><td>...</td><td>...</td><td>...</td><td>...</td><td>...</td><td>...</td><td>...</td><td>...</td><td>...</td><td>...</td><td>...</td><td>...</td><td>...</td><td>...</td><td>...</td><td>...</td><td>...</td><td>...</td><td>...</td><td>...</td><td>...</td></tr>\n",
       "<tr><td>2458788.0 .. -0.2931503452944071</td><td>8.0933594e+03</td><td>1.6194559e+01</td><td>4.3644137e-03</td><td>403378</td><td>743.28654</td><td>1030.62989</td><td>7.4809316e+03</td><td>1.4657593e+01</td><td>3.7004600e+03</td><td>7.9628358e+00</td><td>8.0933594e+03</td><td>1.6194559e+01</td><td>0</td><td>nan</td><td>nan</td><td>nan</td><td>nan</td><td>743.28654</td><td>1.8721060e-03</td><td>1030.62989</td><td>1.7456290e-03</td><td>-6.7812257e-02</td><td>-7.0814878e-02</td></tr>\n",
       "<tr><td>2458788.0 .. -0.29176149891736713</td><td>8.1047861e+03</td><td>1.6223404e+01</td><td>4.3643718e-03</td><td>403379</td><td>743.28550</td><td>1030.63784</td><td>7.4925083e+03</td><td>1.4683700e+01</td><td>3.6956650e+03</td><td>7.9891791e+00</td><td>8.1047861e+03</td><td>1.6223404e+01</td><td>0</td><td>nan</td><td>nan</td><td>nan</td><td>nan</td><td>743.28550</td><td>1.8681762e-03</td><td>1030.63784</td><td>1.7458693e-03</td><td>-6.7442589e-02</td><td>-6.1851311e-02</td></tr>\n",
       "<tr><td>2458788.0 .. -0.2903726525400998</td><td>8.0784951e+03</td><td>1.6215017e+01</td><td>4.3643299e-03</td><td>403380</td><td>743.28795</td><td>1030.63781</td><td>7.4720132e+03</td><td>1.4676108e+01</td><td>3.7161628e+03</td><td>7.9940023e+00</td><td>8.0784951e+03</td><td>1.6215017e+01</td><td>0</td><td>nan</td><td>nan</td><td>nan</td><td>nan</td><td>743.28795</td><td>1.8746348e-03</td><td>1030.63781</td><td>1.7475161e-03</td><td>-6.3237205e-02</td><td>-5.9418954e-02</td></tr>\n",
       "<tr><td>2458788.0 .. -0.2889838056980807</td><td>8.0909316e+03</td><td>1.6231716e+01</td><td>4.3642884e-03</td><td>403381</td><td>743.28839</td><td>1030.63645</td><td>7.4827671e+03</td><td>1.4691224e+01</td><td>3.7081414e+03</td><td>7.9972234e+00</td><td>8.0909316e+03</td><td>1.6231716e+01</td><td>0</td><td>nan</td><td>nan</td><td>nan</td><td>nan</td><td>743.28839</td><td>1.8710849e-03</td><td>1030.63645</td><td>1.7500113e-03</td><td>-6.5992430e-02</td><td>-6.2866651e-02</td></tr>\n",
       "<tr><td>2458788.0 .. -0.28759495932081336</td><td>8.1014028e+03</td><td>1.6213665e+01</td><td>4.3642465e-03</td><td>403382</td><td>743.28961</td><td>1030.64268</td><td>7.4859170e+03</td><td>1.4674885e+01</td><td>3.7073472e+03</td><td>7.9831595e+00</td><td>8.1014028e+03</td><td>1.6213665e+01</td><td>0</td><td>nan</td><td>nan</td><td>nan</td><td>nan</td><td>743.28961</td><td>1.8731370e-03</td><td>1030.64268</td><td>1.7454056e-03</td><td>-6.9358699e-02</td><td>-5.4396100e-02</td></tr>\n",
       "<tr><td>2458788.0 .. -0.2862061129437734</td><td>8.0795264e+03</td><td>1.6216850e+01</td><td>4.3642046e-03</td><td>403383</td><td>743.28692</td><td>1030.63911</td><td>7.4719678e+03</td><td>1.4677770e+01</td><td>3.7282007e+03</td><td>7.9835024e+00</td><td>8.0795264e+03</td><td>1.6216850e+01</td><td>0</td><td>nan</td><td>nan</td><td>nan</td><td>nan</td><td>743.28692</td><td>1.8767248e-03</td><td>1030.63911</td><td>1.7488670e-03</td><td>-6.7064710e-02</td><td>-6.1651886e-02</td></tr>\n",
       "<tr><td>2458788.0 .. -0.2848172661017543</td><td>8.0780571e+03</td><td>1.6210417e+01</td><td>4.3641631e-03</td><td>403384</td><td>743.28669</td><td>1030.63201</td><td>7.4648433e+03</td><td>1.4671945e+01</td><td>3.7228657e+03</td><td>7.9874482e+00</td><td>8.0780571e+03</td><td>1.6210417e+01</td><td>0</td><td>nan</td><td>nan</td><td>nan</td><td>nan</td><td>743.28669</td><td>1.8762137e-03</td><td>1030.63201</td><td>1.7523624e-03</td><td>-6.6819042e-02</td><td>-6.7011043e-02</td></tr>\n",
       "<tr><td>2458788.0 .. -0.28342841972539645</td><td>8.0913271e+03</td><td>1.6226820e+01</td><td>4.3641212e-03</td><td>403385</td><td>743.28557</td><td>1030.63436</td><td>7.4759136e+03</td><td>1.4686792e+01</td><td>3.7266069e+03</td><td>7.9984984e+00</td><td>8.0913271e+03</td><td>1.6226820e+01</td><td>0</td><td>nan</td><td>nan</td><td>nan</td><td>nan</td><td>743.28557</td><td>1.8753355e-03</td><td>1030.63436</td><td>1.7494367e-03</td><td>-6.7065291e-02</td><td>-6.7367688e-02</td></tr>\n",
       "<tr><td>2458788.0 .. -0.28203957334881125</td><td>8.0956543e+03</td><td>1.6216490e+01</td><td>4.3640793e-03</td><td>403386</td><td>743.28758</td><td>1030.64725</td><td>7.4871382e+03</td><td>1.4677442e+01</td><td>3.7190090e+03</td><td>7.9857874e+00</td><td>8.0956543e+03</td><td>1.6216490e+01</td><td>0</td><td>nan</td><td>nan</td><td>nan</td><td>nan</td><td>743.28758</td><td>1.8704236e-03</td><td>1030.64725</td><td>1.7446291e-03</td><td>-6.6449851e-02</td><td>-5.1465672e-02</td></tr>\n",
       "<tr><td>2458788.0 .. -0.2806507269717713</td><td>8.0822212e+03</td><td>1.6244389e+01</td><td>4.3640374e-03</td><td>403387</td><td>743.28716</td><td>1030.63902</td><td>7.4738052e+03</td><td>1.4702694e+01</td><td>3.7332004e+03</td><td>7.9975300e+00</td><td>8.0822212e+03</td><td>1.6244389e+01</td><td>0</td><td>nan</td><td>nan</td><td>nan</td><td>nan</td><td>743.28716</td><td>1.8780001e-03</td><td>1030.63902</td><td>1.7550424e-03</td><td>-6.8450630e-02</td><td>-6.1715052e-02</td></tr>\n",
       "</table>"
      ],
      "text/plain": [
       "<QTable length=12878>\n",
       "             time [2]                  flux      ...   pos_corr2   \n",
       "                d                                ...      pix      \n",
       "             float64                 float32     ...    float32    \n",
       "--------------------------------- -------------- ... --------------\n",
       " 2458765.0 .. -0.3108554236009695  8.0367148e+03 ...  8.5661724e-02\n",
       "2458765.0 .. -0.30946652739862657  8.0457295e+03 ...  8.7584637e-02\n",
       " 2458765.0 .. -0.3080776316621723  8.0452686e+03 ...  8.8003851e-02\n",
       " 2458765.0 .. -0.3066887354593746  8.0353765e+03 ...  8.1147596e-02\n",
       " 2458765.0 .. -0.3052998392563495  8.0455757e+03 ...  8.6799361e-02\n",
       " 2458765.0 .. -0.3039109435198952  8.0578491e+03 ...  8.7138519e-02\n",
       "2458765.0 .. -0.30252204731777965  8.0199448e+03 ...  8.7265849e-02\n",
       " 2458765.0 .. -0.3011331511154367  8.0214658e+03 ...  8.4882207e-02\n",
       " 2458765.0 .. -0.2997442553789824  8.0234492e+03 ...  8.1387483e-02\n",
       "                              ...            ... ...            ...\n",
       " 2458788.0 .. -0.2931503452944071  8.0933594e+03 ... -7.0814878e-02\n",
       "2458788.0 .. -0.29176149891736713  8.1047861e+03 ... -6.1851311e-02\n",
       " 2458788.0 .. -0.2903726525400998  8.0784951e+03 ... -5.9418954e-02\n",
       " 2458788.0 .. -0.2889838056980807  8.0909316e+03 ... -6.2866651e-02\n",
       "2458788.0 .. -0.28759495932081336  8.1014028e+03 ... -5.4396100e-02\n",
       " 2458788.0 .. -0.2862061129437734  8.0795264e+03 ... -6.1651886e-02\n",
       " 2458788.0 .. -0.2848172661017543  8.0780571e+03 ... -6.7011043e-02\n",
       "2458788.0 .. -0.28342841972539645  8.0913271e+03 ... -6.7367688e-02\n",
       "2458788.0 .. -0.28203957334881125  8.0956543e+03 ... -5.1465672e-02\n",
       " 2458788.0 .. -0.2806507269717713  8.0822212e+03 ... -6.1715052e-02"
      ]
     },
     "execution_count": 24,
     "metadata": {},
     "output_type": "execute_result"
    }
   ],
   "source": [
    "read_rv_table = QTable.read(read_hdul['TESS_LC'])\n",
    "read_rv_table"
   ]
  },
  {
   "cell_type": "markdown",
   "id": "a8ffe2fb",
   "metadata": {},
   "source": [
    "### Retrieve periodogram information"
   ]
  },
  {
   "cell_type": "code",
   "execution_count": 25,
   "id": "1d967fcb",
   "metadata": {
    "ExecuteTime": {
     "end_time": "2022-08-20T11:36:21.675753Z",
     "start_time": "2022-08-20T11:36:21.658772Z"
    }
   },
   "outputs": [
    {
     "data": {
      "text/plain": [
       "<astropy.io.fits.hdu.table.BinTableHDU at 0x1a2ff40ceb0>"
      ]
     },
     "execution_count": 25,
     "metadata": {},
     "output_type": "execute_result"
    }
   ],
   "source": [
    "read_hdul['GLS_PG']"
   ]
  },
  {
   "cell_type": "code",
   "execution_count": 26,
   "id": "c4ae8cb2",
   "metadata": {
    "ExecuteTime": {
     "end_time": "2022-08-20T11:36:22.081642Z",
     "start_time": "2022-08-20T11:36:22.065685Z"
    }
   },
   "outputs": [
    {
     "data": {
      "text/plain": [
       "XTENSION= 'BINTABLE'           / binary table extension                         \n",
       "BITPIX  =                    8 / array data type                                \n",
       "NAXIS   =                    2 / number of array dimensions                     \n",
       "NAXIS1  =                   16 / length of dimension 1                          \n",
       "NAXIS2  =               285601 / length of dimension 2                          \n",
       "PCOUNT  =                    0 / number of group parameters                     \n",
       "GCOUNT  =                    1 / number of groups                               \n",
       "TFIELDS =                    2 / number of table fields                         \n",
       "TTYPE1  = 'freq    '                                                            \n",
       "TFORM1  = 'D       '                                                            \n",
       "TUNIT1  = 'd-1     '                                                            \n",
       "TTYPE2  = 'power   '                                                            \n",
       "TFORM2  = 'D       '                                                            \n",
       "EXTNAME = 'GLS_PG  '           / extension name                                 \n",
       "OBJECT  = 'J23548+385'         / KARMENES target name                           \n",
       "FUNIT   = 'd-1     '           / Unit for frequencies                           \n",
       "PUNIT   = 'd       '           / Unit for periods                               \n",
       "PK_FREQ =                3.798 / Frequency of the peak in periodogram           \n",
       "PK_POW  = 0.001026715371264516 / Power of the peak in periodogram               \n",
       "PK_SNR  =  0.04533213026106746 / SNR of the peak in periodogram                 \n",
       "PK_FAP  =     0.99985505976263 / FAP of the peak in periodogram                 \n",
       "RES_RMS =    154.9369320119935 / RMS of residuals in periodogram                \n",
       "FSAMPLE =    720.0131069786767 / Inferred sampling frequency in TESS curve      \n",
       "FNYQUIST=    1440.026213957353 / Calculated Nyquist frequency value             \n",
       "FPOINTS =               285601 / Number of points in periodogram                \n",
       "FBEG    =                  2.4 / Start frequency in periodogram                 \n",
       "FEND    =                  288 / End frequency in periodogram                   \n",
       "FRES    =                0.001 / Frequency resolution in periodogram            \n",
       "F       =                3.798 / Peak best estimate: frequency                  \n",
       "E_F     = 0.006565310927200758 / Peak best estimate: frequency error            \n",
       "P       =   0.2632964718272775 / Peak best estimate: period                     \n",
       "E_P     = 0.000455140390621651 / Peak best estimate: period error               \n",
       "A       =    7.023621184217842 / Peak best estimate: amplitude                  \n",
       "E_A     =    1.930837564655668 / Peak best estimate: amplitude error            \n",
       "PH      =  -0.4269283352287488 / Peak best estimate: phase                      \n",
       "E_PH    =  0.04375269318524447 / Peak best estimate: phase error                \n",
       "T0      =    1764.801553300788 / Peak best estimate: frequency                  \n",
       "E_T0    =  0.01151992974861624 / Peak best estimate: frequency error            \n",
       "OFF     =    8262.210930254761 / Peak best estimate: offset                     \n",
       "E_OFF   =    1.365308335337742 / Peak best estimate: offset error               \n",
       "OFAC    =                   10 / Setup: oversampling factor                     \n",
       "HIFAC   =                   10 / Setup: maximum frequency factor                \n",
       "NORM    = 'ZK      '           / Setup: normalization type                      \n",
       "LS      =                    F / Setup: conventional Lomb-Scargle calculation   \n",
       "FAST    =                    F / Setup: fast evaluation, recursive trigonometric"
      ]
     },
     "execution_count": 26,
     "metadata": {},
     "output_type": "execute_result"
    }
   ],
   "source": [
    "read_hdul['GLS_PG'].header"
   ]
  },
  {
   "cell_type": "code",
   "execution_count": 27,
   "id": "4b1064ba",
   "metadata": {
    "ExecuteTime": {
     "end_time": "2022-08-20T11:36:22.427718Z",
     "start_time": "2022-08-20T11:36:22.409764Z"
    }
   },
   "outputs": [
    {
     "data": {
      "text/plain": [
       "FITS_rec([(2.4  , 0.00036205), (2.401, 0.00034928), (2.402, 0.00033384),\n",
       "          (2.403, 0.00031599), (2.404, 0.00029605), (2.405, 0.00027439),\n",
       "          (2.406, 0.0002514 ), (2.407, 0.00022753), (2.408, 0.00020322),\n",
       "          (2.409, 0.00017894)],\n",
       "         dtype=(numpy.record, [('freq', '>f8'), ('power', '>f8')]))"
      ]
     },
     "execution_count": 27,
     "metadata": {},
     "output_type": "execute_result"
    }
   ],
   "source": [
    "read_hdul['GLS_PG'].data[:10]"
   ]
  },
  {
   "cell_type": "code",
   "execution_count": 28,
   "id": "d52143a8",
   "metadata": {
    "ExecuteTime": {
     "end_time": "2022-08-20T11:36:22.979953Z",
     "start_time": "2022-08-20T11:36:22.953026Z"
    }
   },
   "outputs": [
    {
     "data": {
      "text/html": [
       "<i>QTable length=285601</i>\n",
       "<table id=\"table1807690552656\" class=\"table-striped table-bordered table-condensed\">\n",
       "<thead><tr><th>freq</th><th>power</th></tr></thead>\n",
       "<thead><tr><th>1 / d</th><th></th></tr></thead>\n",
       "<thead><tr><th>float64</th><th>float64</th></tr></thead>\n",
       "<tr><td>2.4</td><td>0.0003620468555181106</td></tr>\n",
       "<tr><td>2.401</td><td>0.0003492843937411185</td></tr>\n",
       "<tr><td>2.4019999999999997</td><td>0.0003338406612508559</td></tr>\n",
       "<tr><td>2.403</td><td>0.0003159883997529411</td></tr>\n",
       "<tr><td>2.404</td><td>0.0002960486655904126</td></tr>\n",
       "<tr><td>2.405</td><td>0.00027438570758704726</td></tr>\n",
       "<tr><td>2.4059999999999997</td><td>0.000251401013662915</td></tr>\n",
       "<tr><td>2.407</td><td>0.00022752661318749132</td></tr>\n",
       "<tr><td>2.408</td><td>0.00020321773646314077</td></tr>\n",
       "<tr><td>...</td><td>...</td></tr>\n",
       "<tr><td>287.991</td><td>1.048008459284103e-06</td></tr>\n",
       "<tr><td>287.99199999999996</td><td>7.847410480418913e-07</td></tr>\n",
       "<tr><td>287.993</td><td>5.882495322595671e-07</td></tr>\n",
       "<tr><td>287.99399999999997</td><td>4.601329455240228e-07</td></tr>\n",
       "<tr><td>287.995</td><td>4.0101101458628634e-07</td></tr>\n",
       "<tr><td>287.996</td><td>4.105187691127881e-07</td></tr>\n",
       "<tr><td>287.99699999999996</td><td>4.873157852551761e-07</td></tr>\n",
       "<tr><td>287.998</td><td>6.291098937266079e-07</td></tr>\n",
       "<tr><td>287.99899999999997</td><td>8.326949644035316e-07</td></tr>\n",
       "<tr><td>288.0</td><td>1.094002164942962e-06</td></tr>\n",
       "</table>"
      ],
      "text/plain": [
       "<QTable length=285601>\n",
       "       freq                power         \n",
       "      1 / d                              \n",
       "     float64              float64        \n",
       "------------------ ----------------------\n",
       "               2.4  0.0003620468555181106\n",
       "             2.401  0.0003492843937411185\n",
       "2.4019999999999997  0.0003338406612508559\n",
       "             2.403  0.0003159883997529411\n",
       "             2.404  0.0002960486655904126\n",
       "             2.405 0.00027438570758704726\n",
       "2.4059999999999997   0.000251401013662915\n",
       "             2.407 0.00022752661318749132\n",
       "             2.408 0.00020321773646314077\n",
       "               ...                    ...\n",
       "           287.991  1.048008459284103e-06\n",
       "287.99199999999996  7.847410480418913e-07\n",
       "           287.993  5.882495322595671e-07\n",
       "287.99399999999997  4.601329455240228e-07\n",
       "           287.995 4.0101101458628634e-07\n",
       "           287.996  4.105187691127881e-07\n",
       "287.99699999999996  4.873157852551761e-07\n",
       "           287.998  6.291098937266079e-07\n",
       "287.99899999999997  8.326949644035316e-07\n",
       "             288.0  1.094002164942962e-06"
      ]
     },
     "execution_count": 28,
     "metadata": {},
     "output_type": "execute_result"
    }
   ],
   "source": [
    "read_pg_table = QTable.read(read_hdul['GLS_PG'])\n",
    "read_pg_table"
   ]
  },
  {
   "cell_type": "code",
   "execution_count": 29,
   "id": "6ef2a413",
   "metadata": {
    "ExecuteTime": {
     "end_time": "2022-08-20T11:36:23.450747Z",
     "start_time": "2022-08-20T11:36:23.434764Z"
    }
   },
   "outputs": [
    {
     "data": {
      "text/latex": [
       "$[2.4,~2.401,~2.402,~\\dots,~287.998,~287.999,~288] \\; \\mathrm{\\frac{1}{d}}$"
      ],
      "text/plain": [
       "<Quantity [  2.4  ,   2.401,   2.402, ..., 287.998, 287.999, 288.   ] 1 / d>"
      ]
     },
     "execution_count": 29,
     "metadata": {},
     "output_type": "execute_result"
    }
   ],
   "source": [
    "read_pg_table['freq']"
   ]
  },
  {
   "cell_type": "code",
   "execution_count": 30,
   "id": "05dbbc26",
   "metadata": {
    "ExecuteTime": {
     "end_time": "2022-08-20T11:36:24.172853Z",
     "start_time": "2022-08-20T11:36:24.161883Z"
    }
   },
   "outputs": [
    {
     "data": {
      "text/latex": [
       "$[-0.001,~-0.001,~-0.001,~\\dots,~-0.001,~-0.001,~-0.001] \\; \\mathrm{\\frac{1}{d}}$"
      ],
      "text/plain": [
       "<Quantity [-0.001, -0.001, -0.001, ..., -0.001, -0.001, -0.001] 1 / d>"
      ]
     },
     "execution_count": 30,
     "metadata": {},
     "output_type": "execute_result"
    }
   ],
   "source": [
    "diff_frecs = read_pg_table['freq'][:-1] - read_pg_table['freq'][1:]\n",
    "diff_frecs"
   ]
  },
  {
   "cell_type": "markdown",
   "id": "3d57e6fb",
   "metadata": {},
   "source": [
    "### Delete read information"
   ]
  },
  {
   "cell_type": "code",
   "execution_count": 31,
   "id": "b9968559",
   "metadata": {
    "ExecuteTime": {
     "end_time": "2022-08-20T11:36:26.208887Z",
     "start_time": "2022-08-20T11:36:26.170988Z"
    }
   },
   "outputs": [],
   "source": [
    "read_hdul.close()"
   ]
  },
  {
   "cell_type": "code",
   "execution_count": 32,
   "id": "12f40111",
   "metadata": {
    "ExecuteTime": {
     "end_time": "2022-08-20T11:36:26.792264Z",
     "start_time": "2022-08-20T11:36:26.778302Z"
    }
   },
   "outputs": [],
   "source": [
    "del read_hdul"
   ]
  },
  {
   "cell_type": "markdown",
   "id": "437a92fe",
   "metadata": {},
   "source": [
    "## Summary of calculated periodograms"
   ]
  },
  {
   "cell_type": "markdown",
   "id": "f3cae94f",
   "metadata": {},
   "source": [
    "Number of objects with a TESS file available:"
   ]
  },
  {
   "cell_type": "code",
   "execution_count": 33,
   "id": "521bd612",
   "metadata": {
    "ExecuteTime": {
     "end_time": "2022-08-20T11:36:42.571776Z",
     "start_time": "2022-08-20T11:36:42.555802Z"
    }
   },
   "outputs": [
    {
     "data": {
      "text/plain": [
       "2      ../data/CARMENES_GTO_TESS_lc/lightcurves/J2354...\n",
       "3      ../data/CARMENES_GTO_TESS_lc/lightcurves/J2350...\n",
       "5      ../data/CARMENES_GTO_TESS_lc/lightcurves/J2343...\n",
       "7      ../data/CARMENES_GTO_TESS_lc/lightcurves/J2338...\n",
       "10     ../data/CARMENES_GTO_TESS_lc/lightcurves/J2324...\n",
       "                             ...                        \n",
       "381    ../data/CARMENES_GTO_TESS_lc/lightcurves/J0040...\n",
       "382    ../data/CARMENES_GTO_TESS_lc/lightcurves/J0038...\n",
       "383    ../data/CARMENES_GTO_TESS_lc/lightcurves/J0028...\n",
       "385    ../data/CARMENES_GTO_TESS_lc/lightcurves/J0018...\n",
       "389    ../data/CARMENES_GTO_TESS_lc/lightcurves/J0005...\n",
       "Name: lc_file, Length: 271, dtype: object"
      ]
     },
     "execution_count": 33,
     "metadata": {},
     "output_type": "execute_result"
    }
   ],
   "source": [
    "gto[~gto['lc_file'].isna()]['lc_file']"
   ]
  },
  {
   "cell_type": "markdown",
   "id": "d66e9242",
   "metadata": {},
   "source": [
    "There are 271 objects in the initial sample that do have a TESS light curve file available."
   ]
  },
  {
   "cell_type": "markdown",
   "id": "afc59d89",
   "metadata": {},
   "source": [
    "Number of objects with TESS PG properly calculated:"
   ]
  },
  {
   "cell_type": "code",
   "execution_count": 34,
   "id": "b9f72eff",
   "metadata": {
    "ExecuteTime": {
     "end_time": "2022-08-20T11:36:49.040152Z",
     "start_time": "2022-08-20T11:36:48.995272Z"
    }
   },
   "outputs": [
    {
     "data": {
      "text/html": [
       "<div>\n",
       "<style scoped>\n",
       "    .dataframe tbody tr th:only-of-type {\n",
       "        vertical-align: middle;\n",
       "    }\n",
       "\n",
       "    .dataframe tbody tr th {\n",
       "        vertical-align: top;\n",
       "    }\n",
       "\n",
       "    .dataframe thead th {\n",
       "        text-align: right;\n",
       "    }\n",
       "</style>\n",
       "<table border=\"1\" class=\"dataframe\">\n",
       "  <thead>\n",
       "    <tr style=\"text-align: right;\">\n",
       "      <th></th>\n",
       "      <th>Karmn</th>\n",
       "      <th>Name</th>\n",
       "      <th>Comp</th>\n",
       "      <th>GJ</th>\n",
       "      <th>RA_J2016_deg</th>\n",
       "      <th>DE_J2016_deg</th>\n",
       "      <th>RA_J2000</th>\n",
       "      <th>DE_J2000</th>\n",
       "      <th>l_J2016_deg</th>\n",
       "      <th>b_J2016_deg</th>\n",
       "      <th>...</th>\n",
       "      <th>WF_T0_PG_TESS</th>\n",
       "      <th>WF_e_T0_PG_TESS</th>\n",
       "      <th>WF_offset_PG_TESS</th>\n",
       "      <th>WF_e_offset_PG_TESS</th>\n",
       "      <th>WF_FAP_PG_TESS</th>\n",
       "      <th>WF_valid_PG_TESS</th>\n",
       "      <th>WF_error_PG_TESS</th>\n",
       "      <th>WF_elapsed_time_PG_TESS</th>\n",
       "      <th>WF_plain_file_TESS</th>\n",
       "      <th>WF_fig_file_TESS</th>\n",
       "    </tr>\n",
       "  </thead>\n",
       "  <tbody>\n",
       "    <tr>\n",
       "      <th>2</th>\n",
       "      <td>J23548+385</td>\n",
       "      <td>RX J2354.8+3831</td>\n",
       "      <td>-</td>\n",
       "      <td>NaN</td>\n",
       "      <td>358.713658</td>\n",
       "      <td>38.526340</td>\n",
       "      <td>23:54:51.46</td>\n",
       "      <td>+38:31:36.2</td>\n",
       "      <td>110.941908</td>\n",
       "      <td>-23.024449</td>\n",
       "      <td>...</td>\n",
       "      <td>1764.689208</td>\n",
       "      <td>0.027575</td>\n",
       "      <td>999.999756</td>\n",
       "      <td>2.151008e-06</td>\n",
       "      <td>1.0</td>\n",
       "      <td>1.0</td>\n",
       "      <td>NaN</td>\n",
       "      <td>94.758838</td>\n",
       "      <td>../data/CARM_VIS_TESS_WinFunc_PGs/WF_J23548+38...</td>\n",
       "      <td>../data/CARM_VIS_TESS_WinFunc_PGs/figures/WF_J...</td>\n",
       "    </tr>\n",
       "    <tr>\n",
       "      <th>3</th>\n",
       "      <td>J23505-095</td>\n",
       "      <td>LP 763-012</td>\n",
       "      <td>-</td>\n",
       "      <td>4367</td>\n",
       "      <td>357.634705</td>\n",
       "      <td>-9.560964</td>\n",
       "      <td>23:50:31.64</td>\n",
       "      <td>-09:33:32.7</td>\n",
       "      <td>80.777067</td>\n",
       "      <td>-67.303426</td>\n",
       "      <td>...</td>\n",
       "      <td>1353.926624</td>\n",
       "      <td>0.036481</td>\n",
       "      <td>1000.000122</td>\n",
       "      <td>9.022946e-07</td>\n",
       "      <td>1.0</td>\n",
       "      <td>1.0</td>\n",
       "      <td>NaN</td>\n",
       "      <td>132.607176</td>\n",
       "      <td>../data/CARM_VIS_TESS_WinFunc_PGs/WF_J23505-09...</td>\n",
       "      <td>../data/CARM_VIS_TESS_WinFunc_PGs/figures/WF_J...</td>\n",
       "    </tr>\n",
       "    <tr>\n",
       "      <th>5</th>\n",
       "      <td>J23431+365</td>\n",
       "      <td>GJ 1289</td>\n",
       "      <td>-</td>\n",
       "      <td>1289</td>\n",
       "      <td>355.781509</td>\n",
       "      <td>36.536310</td>\n",
       "      <td>23:43:06.31</td>\n",
       "      <td>+36:32:13.1</td>\n",
       "      <td>107.922839</td>\n",
       "      <td>-24.336479</td>\n",
       "      <td>...</td>\n",
       "      <td>1764.702841</td>\n",
       "      <td>0.028355</td>\n",
       "      <td>999.999512</td>\n",
       "      <td>4.306074e-06</td>\n",
       "      <td>1.0</td>\n",
       "      <td>1.0</td>\n",
       "      <td>NaN</td>\n",
       "      <td>97.939914</td>\n",
       "      <td>../data/CARM_VIS_TESS_WinFunc_PGs/WF_J23431+36...</td>\n",
       "      <td>../data/CARM_VIS_TESS_WinFunc_PGs/figures/WF_J...</td>\n",
       "    </tr>\n",
       "    <tr>\n",
       "      <th>7</th>\n",
       "      <td>J23381-162</td>\n",
       "      <td>G 273-093</td>\n",
       "      <td>-</td>\n",
       "      <td>4352</td>\n",
       "      <td>354.532687</td>\n",
       "      <td>-16.236514</td>\n",
       "      <td>23:38:08.16</td>\n",
       "      <td>-16:14:10.2</td>\n",
       "      <td>61.845437</td>\n",
       "      <td>-69.825220</td>\n",
       "      <td>...</td>\n",
       "      <td>1353.926631</td>\n",
       "      <td>0.036480</td>\n",
       "      <td>1000.000122</td>\n",
       "      <td>9.022946e-07</td>\n",
       "      <td>1.0</td>\n",
       "      <td>1.0</td>\n",
       "      <td>NaN</td>\n",
       "      <td>136.603404</td>\n",
       "      <td>../data/CARM_VIS_TESS_WinFunc_PGs/WF_J23381-16...</td>\n",
       "      <td>../data/CARM_VIS_TESS_WinFunc_PGs/figures/WF_J...</td>\n",
       "    </tr>\n",
       "    <tr>\n",
       "      <th>10</th>\n",
       "      <td>J23245+578</td>\n",
       "      <td>BD+57 2735</td>\n",
       "      <td>-</td>\n",
       "      <td>895</td>\n",
       "      <td>351.126628</td>\n",
       "      <td>57.853057</td>\n",
       "      <td>23:24:30.51</td>\n",
       "      <td>+57:51:15.5</td>\n",
       "      <td>111.552287</td>\n",
       "      <td>-3.085183</td>\n",
       "      <td>...</td>\n",
       "      <td>1955.851155</td>\n",
       "      <td>0.018437</td>\n",
       "      <td>999.999512</td>\n",
       "      <td>3.720858e-06</td>\n",
       "      <td>1.0</td>\n",
       "      <td>1.0</td>\n",
       "      <td>NaN</td>\n",
       "      <td>131.327304</td>\n",
       "      <td>../data/CARM_VIS_TESS_WinFunc_PGs/WF_J23245+57...</td>\n",
       "      <td>../data/CARM_VIS_TESS_WinFunc_PGs/figures/WF_J...</td>\n",
       "    </tr>\n",
       "    <tr>\n",
       "      <th>...</th>\n",
       "      <td>...</td>\n",
       "      <td>...</td>\n",
       "      <td>...</td>\n",
       "      <td>...</td>\n",
       "      <td>...</td>\n",
       "      <td>...</td>\n",
       "      <td>...</td>\n",
       "      <td>...</td>\n",
       "      <td>...</td>\n",
       "      <td>...</td>\n",
       "      <td>...</td>\n",
       "      <td>...</td>\n",
       "      <td>...</td>\n",
       "      <td>...</td>\n",
       "      <td>...</td>\n",
       "      <td>...</td>\n",
       "      <td>...</td>\n",
       "      <td>...</td>\n",
       "      <td>...</td>\n",
       "      <td>...</td>\n",
       "      <td>...</td>\n",
       "    </tr>\n",
       "    <tr>\n",
       "      <th>381</th>\n",
       "      <td>J00403+612</td>\n",
       "      <td>2MASS J00402129+6112490</td>\n",
       "      <td>-</td>\n",
       "      <td>NaN</td>\n",
       "      <td>10.089157</td>\n",
       "      <td>61.213379</td>\n",
       "      <td>00:40:21.29</td>\n",
       "      <td>+61:12:49.1</td>\n",
       "      <td>121.597733</td>\n",
       "      <td>-1.629661</td>\n",
       "      <td>...</td>\n",
       "      <td>1764.687712</td>\n",
       "      <td>NaN</td>\n",
       "      <td>1000.000000</td>\n",
       "      <td>NaN</td>\n",
       "      <td>NaN</td>\n",
       "      <td>1.0</td>\n",
       "      <td>NaN</td>\n",
       "      <td>176.113404</td>\n",
       "      <td>../data/CARM_VIS_TESS_WinFunc_PGs/WF_J00403+61...</td>\n",
       "      <td>../data/CARM_VIS_TESS_WinFunc_PGs/figures/WF_J...</td>\n",
       "    </tr>\n",
       "    <tr>\n",
       "      <th>382</th>\n",
       "      <td>J00389+306</td>\n",
       "      <td>Wolf 1056</td>\n",
       "      <td>-</td>\n",
       "      <td>26</td>\n",
       "      <td>9.754064</td>\n",
       "      <td>30.616338</td>\n",
       "      <td>00:38:59.04</td>\n",
       "      <td>+30:36:58.4</td>\n",
       "      <td>119.774312</td>\n",
       "      <td>-32.179243</td>\n",
       "      <td>...</td>\n",
       "      <td>1764.682476</td>\n",
       "      <td>0.027265</td>\n",
       "      <td>999.999878</td>\n",
       "      <td>1.071631e-06</td>\n",
       "      <td>1.0</td>\n",
       "      <td>1.0</td>\n",
       "      <td>NaN</td>\n",
       "      <td>191.575017</td>\n",
       "      <td>../data/CARM_VIS_TESS_WinFunc_PGs/WF_J00389+30...</td>\n",
       "      <td>../data/CARM_VIS_TESS_WinFunc_PGs/figures/WF_J...</td>\n",
       "    </tr>\n",
       "    <tr>\n",
       "      <th>383</th>\n",
       "      <td>J00286-066</td>\n",
       "      <td>GJ 1012</td>\n",
       "      <td>-</td>\n",
       "      <td>1012</td>\n",
       "      <td>7.162970</td>\n",
       "      <td>-6.667219</td>\n",
       "      <td>00:28:39.46</td>\n",
       "      <td>-06:39:49.2</td>\n",
       "      <td>107.085752</td>\n",
       "      <td>-68.835040</td>\n",
       "      <td>...</td>\n",
       "      <td>1385.744584</td>\n",
       "      <td>0.030548</td>\n",
       "      <td>1000.000305</td>\n",
       "      <td>2.678387e-06</td>\n",
       "      <td>1.0</td>\n",
       "      <td>1.0</td>\n",
       "      <td>NaN</td>\n",
       "      <td>175.054456</td>\n",
       "      <td>../data/CARM_VIS_TESS_WinFunc_PGs/WF_J00286-06...</td>\n",
       "      <td>../data/CARM_VIS_TESS_WinFunc_PGs/figures/WF_J...</td>\n",
       "    </tr>\n",
       "    <tr>\n",
       "      <th>385</th>\n",
       "      <td>J00183+440</td>\n",
       "      <td>GX And</td>\n",
       "      <td>A</td>\n",
       "      <td>15A</td>\n",
       "      <td>4.613226</td>\n",
       "      <td>44.024787</td>\n",
       "      <td>00:18:22.88</td>\n",
       "      <td>+44:01:22.6</td>\n",
       "      <td>116.690592</td>\n",
       "      <td>-18.446865</td>\n",
       "      <td>...</td>\n",
       "      <td>1764.644951</td>\n",
       "      <td>0.030860</td>\n",
       "      <td>999.999756</td>\n",
       "      <td>2.134945e-06</td>\n",
       "      <td>1.0</td>\n",
       "      <td>1.0</td>\n",
       "      <td>NaN</td>\n",
       "      <td>191.241441</td>\n",
       "      <td>../data/CARM_VIS_TESS_WinFunc_PGs/WF_J00183+44...</td>\n",
       "      <td>../data/CARM_VIS_TESS_WinFunc_PGs/figures/WF_J...</td>\n",
       "    </tr>\n",
       "    <tr>\n",
       "      <th>389</th>\n",
       "      <td>J00051+457</td>\n",
       "      <td>GJ 2</td>\n",
       "      <td>C</td>\n",
       "      <td>2</td>\n",
       "      <td>1.300921</td>\n",
       "      <td>45.785894</td>\n",
       "      <td>00:05:10.89</td>\n",
       "      <td>+45:47:11.6</td>\n",
       "      <td>114.559789</td>\n",
       "      <td>-16.332933</td>\n",
       "      <td>...</td>\n",
       "      <td>1764.644774</td>\n",
       "      <td>0.030860</td>\n",
       "      <td>999.999756</td>\n",
       "      <td>2.134945e-06</td>\n",
       "      <td>1.0</td>\n",
       "      <td>1.0</td>\n",
       "      <td>NaN</td>\n",
       "      <td>187.918468</td>\n",
       "      <td>../data/CARM_VIS_TESS_WinFunc_PGs/WF_J00051+45...</td>\n",
       "      <td>../data/CARM_VIS_TESS_WinFunc_PGs/figures/WF_J...</td>\n",
       "    </tr>\n",
       "  </tbody>\n",
       "</table>\n",
       "<p>267 rows × 298 columns</p>\n",
       "</div>"
      ],
      "text/plain": [
       "          Karmn                     Name Comp    GJ  RA_J2016_deg  \\\n",
       "2    J23548+385          RX J2354.8+3831    -   NaN    358.713658   \n",
       "3    J23505-095               LP 763-012    -  4367    357.634705   \n",
       "5    J23431+365                  GJ 1289    -  1289    355.781509   \n",
       "7    J23381-162                G 273-093    -  4352    354.532687   \n",
       "10   J23245+578               BD+57 2735    -   895    351.126628   \n",
       "..          ...                      ...  ...   ...           ...   \n",
       "381  J00403+612  2MASS J00402129+6112490    -   NaN     10.089157   \n",
       "382  J00389+306                Wolf 1056    -    26      9.754064   \n",
       "383  J00286-066                  GJ 1012    -  1012      7.162970   \n",
       "385  J00183+440                   GX And    A   15A      4.613226   \n",
       "389  J00051+457                     GJ 2    C     2      1.300921   \n",
       "\n",
       "     DE_J2016_deg     RA_J2000     DE_J2000  l_J2016_deg  b_J2016_deg  ...  \\\n",
       "2       38.526340  23:54:51.46  +38:31:36.2   110.941908   -23.024449  ...   \n",
       "3       -9.560964  23:50:31.64  -09:33:32.7    80.777067   -67.303426  ...   \n",
       "5       36.536310  23:43:06.31  +36:32:13.1   107.922839   -24.336479  ...   \n",
       "7      -16.236514  23:38:08.16  -16:14:10.2    61.845437   -69.825220  ...   \n",
       "10      57.853057  23:24:30.51  +57:51:15.5   111.552287    -3.085183  ...   \n",
       "..            ...          ...          ...          ...          ...  ...   \n",
       "381     61.213379  00:40:21.29  +61:12:49.1   121.597733    -1.629661  ...   \n",
       "382     30.616338  00:38:59.04  +30:36:58.4   119.774312   -32.179243  ...   \n",
       "383     -6.667219  00:28:39.46  -06:39:49.2   107.085752   -68.835040  ...   \n",
       "385     44.024787  00:18:22.88  +44:01:22.6   116.690592   -18.446865  ...   \n",
       "389     45.785894  00:05:10.89  +45:47:11.6   114.559789   -16.332933  ...   \n",
       "\n",
       "    WF_T0_PG_TESS WF_e_T0_PG_TESS  WF_offset_PG_TESS WF_e_offset_PG_TESS  \\\n",
       "2     1764.689208        0.027575         999.999756        2.151008e-06   \n",
       "3     1353.926624        0.036481        1000.000122        9.022946e-07   \n",
       "5     1764.702841        0.028355         999.999512        4.306074e-06   \n",
       "7     1353.926631        0.036480        1000.000122        9.022946e-07   \n",
       "10    1955.851155        0.018437         999.999512        3.720858e-06   \n",
       "..            ...             ...                ...                 ...   \n",
       "381   1764.687712             NaN        1000.000000                 NaN   \n",
       "382   1764.682476        0.027265         999.999878        1.071631e-06   \n",
       "383   1385.744584        0.030548        1000.000305        2.678387e-06   \n",
       "385   1764.644951        0.030860         999.999756        2.134945e-06   \n",
       "389   1764.644774        0.030860         999.999756        2.134945e-06   \n",
       "\n",
       "     WF_FAP_PG_TESS  WF_valid_PG_TESS  WF_error_PG_TESS  \\\n",
       "2               1.0               1.0               NaN   \n",
       "3               1.0               1.0               NaN   \n",
       "5               1.0               1.0               NaN   \n",
       "7               1.0               1.0               NaN   \n",
       "10              1.0               1.0               NaN   \n",
       "..              ...               ...               ...   \n",
       "381             NaN               1.0               NaN   \n",
       "382             1.0               1.0               NaN   \n",
       "383             1.0               1.0               NaN   \n",
       "385             1.0               1.0               NaN   \n",
       "389             1.0               1.0               NaN   \n",
       "\n",
       "     WF_elapsed_time_PG_TESS  \\\n",
       "2                  94.758838   \n",
       "3                 132.607176   \n",
       "5                  97.939914   \n",
       "7                 136.603404   \n",
       "10                131.327304   \n",
       "..                       ...   \n",
       "381               176.113404   \n",
       "382               191.575017   \n",
       "383               175.054456   \n",
       "385               191.241441   \n",
       "389               187.918468   \n",
       "\n",
       "                                    WF_plain_file_TESS  \\\n",
       "2    ../data/CARM_VIS_TESS_WinFunc_PGs/WF_J23548+38...   \n",
       "3    ../data/CARM_VIS_TESS_WinFunc_PGs/WF_J23505-09...   \n",
       "5    ../data/CARM_VIS_TESS_WinFunc_PGs/WF_J23431+36...   \n",
       "7    ../data/CARM_VIS_TESS_WinFunc_PGs/WF_J23381-16...   \n",
       "10   ../data/CARM_VIS_TESS_WinFunc_PGs/WF_J23245+57...   \n",
       "..                                                 ...   \n",
       "381  ../data/CARM_VIS_TESS_WinFunc_PGs/WF_J00403+61...   \n",
       "382  ../data/CARM_VIS_TESS_WinFunc_PGs/WF_J00389+30...   \n",
       "383  ../data/CARM_VIS_TESS_WinFunc_PGs/WF_J00286-06...   \n",
       "385  ../data/CARM_VIS_TESS_WinFunc_PGs/WF_J00183+44...   \n",
       "389  ../data/CARM_VIS_TESS_WinFunc_PGs/WF_J00051+45...   \n",
       "\n",
       "                                      WF_fig_file_TESS  \n",
       "2    ../data/CARM_VIS_TESS_WinFunc_PGs/figures/WF_J...  \n",
       "3    ../data/CARM_VIS_TESS_WinFunc_PGs/figures/WF_J...  \n",
       "5    ../data/CARM_VIS_TESS_WinFunc_PGs/figures/WF_J...  \n",
       "7    ../data/CARM_VIS_TESS_WinFunc_PGs/figures/WF_J...  \n",
       "10   ../data/CARM_VIS_TESS_WinFunc_PGs/figures/WF_J...  \n",
       "..                                                 ...  \n",
       "381  ../data/CARM_VIS_TESS_WinFunc_PGs/figures/WF_J...  \n",
       "382  ../data/CARM_VIS_TESS_WinFunc_PGs/figures/WF_J...  \n",
       "383  ../data/CARM_VIS_TESS_WinFunc_PGs/figures/WF_J...  \n",
       "385  ../data/CARM_VIS_TESS_WinFunc_PGs/figures/WF_J...  \n",
       "389  ../data/CARM_VIS_TESS_WinFunc_PGs/figures/WF_J...  \n",
       "\n",
       "[267 rows x 298 columns]"
      ]
     },
     "execution_count": 34,
     "metadata": {},
     "output_type": "execute_result"
    }
   ],
   "source": [
    "gto[gto['valid_PG_TESS'] == 1.0]"
   ]
  },
  {
   "cell_type": "markdown",
   "id": "00af90e5",
   "metadata": {},
   "source": [
    "But there are only 267 objects out of the 271 for wich periodogram was calculated without trouble. Let's see the exceptions:"
   ]
  },
  {
   "cell_type": "code",
   "execution_count": 35,
   "id": "88fece86",
   "metadata": {
    "ExecuteTime": {
     "end_time": "2022-08-20T11:36:56.788027Z",
     "start_time": "2022-08-20T11:36:56.772070Z"
    }
   },
   "outputs": [
    {
     "data": {
      "text/plain": [
       "267"
      ]
     },
     "execution_count": 35,
     "metadata": {},
     "output_type": "execute_result"
    }
   ],
   "source": [
    "len(gto[(gto['valid_PG_TESS'] == 1.0) & (~gto['lc_file'].isna())])"
   ]
  },
  {
   "cell_type": "code",
   "execution_count": 36,
   "id": "581a0960",
   "metadata": {
    "ExecuteTime": {
     "end_time": "2022-08-20T11:36:58.115880Z",
     "start_time": "2022-08-20T11:36:58.098925Z"
    }
   },
   "outputs": [
    {
     "data": {
      "text/html": [
       "<div>\n",
       "<style scoped>\n",
       "    .dataframe tbody tr th:only-of-type {\n",
       "        vertical-align: middle;\n",
       "    }\n",
       "\n",
       "    .dataframe tbody tr th {\n",
       "        vertical-align: top;\n",
       "    }\n",
       "\n",
       "    .dataframe thead th {\n",
       "        text-align: right;\n",
       "    }\n",
       "</style>\n",
       "<table border=\"1\" class=\"dataframe\">\n",
       "  <thead>\n",
       "    <tr style=\"text-align: right;\">\n",
       "      <th></th>\n",
       "      <th>Karmn</th>\n",
       "      <th>lc_file</th>\n",
       "      <th>error_PG_TESS</th>\n",
       "    </tr>\n",
       "  </thead>\n",
       "  <tbody>\n",
       "    <tr>\n",
       "      <th>33</th>\n",
       "      <td>J22012+283</td>\n",
       "      <td>../data/CARMENES_GTO_TESS_lc/lightcurves/J2201...</td>\n",
       "      <td>Floating point nan values are not allowed in F...</td>\n",
       "    </tr>\n",
       "    <tr>\n",
       "      <th>49</th>\n",
       "      <td>J20450+444</td>\n",
       "      <td>../data/CARMENES_GTO_TESS_lc/lightcurves/J2045...</td>\n",
       "      <td>Floating point nan values are not allowed in F...</td>\n",
       "    </tr>\n",
       "    <tr>\n",
       "      <th>62</th>\n",
       "      <td>J19251+283</td>\n",
       "      <td>../data/CARMENES_GTO_TESS_lc/lightcurves/J1925...</td>\n",
       "      <td>Floating point nan values are not allowed in F...</td>\n",
       "    </tr>\n",
       "    <tr>\n",
       "      <th>362</th>\n",
       "      <td>J02070+496</td>\n",
       "      <td>../data/CARMENES_GTO_TESS_lc/lightcurves/J0207...</td>\n",
       "      <td>Floating point nan values are not allowed in F...</td>\n",
       "    </tr>\n",
       "  </tbody>\n",
       "</table>\n",
       "</div>"
      ],
      "text/plain": [
       "          Karmn                                            lc_file  \\\n",
       "33   J22012+283  ../data/CARMENES_GTO_TESS_lc/lightcurves/J2201...   \n",
       "49   J20450+444  ../data/CARMENES_GTO_TESS_lc/lightcurves/J2045...   \n",
       "62   J19251+283  ../data/CARMENES_GTO_TESS_lc/lightcurves/J1925...   \n",
       "362  J02070+496  ../data/CARMENES_GTO_TESS_lc/lightcurves/J0207...   \n",
       "\n",
       "                                         error_PG_TESS  \n",
       "33   Floating point nan values are not allowed in F...  \n",
       "49   Floating point nan values are not allowed in F...  \n",
       "62   Floating point nan values are not allowed in F...  \n",
       "362  Floating point nan values are not allowed in F...  "
      ]
     },
     "execution_count": 36,
     "metadata": {},
     "output_type": "execute_result"
    }
   ],
   "source": [
    "gto[(gto['valid_PG_TESS'] == 0.0) & (~gto['lc_file'].isna())][['Karmn', 'lc_file', 'error_PG_TESS']]"
   ]
  },
  {
   "cell_type": "code",
   "execution_count": 37,
   "id": "ec53a130",
   "metadata": {
    "ExecuteTime": {
     "end_time": "2022-08-20T11:37:02.416953Z",
     "start_time": "2022-08-20T11:37:02.394506Z"
    }
   },
   "outputs": [
    {
     "data": {
      "text/plain": [
       "array(['../data/CARMENES_GTO_TESS_lc/lightcurves/J22012+283/J22012+283_TESS_TIC283410775_S15.fits',\n",
       "       '../data/CARMENES_GTO_TESS_lc/lightcurves/J20450+444/J20450+444_TESS_TIC239332587_S15.fits',\n",
       "       '../data/CARMENES_GTO_TESS_lc/lightcurves/J19251+283/J19251+283_TESS_TIC110220637_S14.fits',\n",
       "       '../data/CARMENES_GTO_TESS_lc/lightcurves/J02070+496/J02070+496_TESS_TIC250559611_S18.fits'],\n",
       "      dtype=object)"
      ]
     },
     "execution_count": 37,
     "metadata": {},
     "output_type": "execute_result"
    }
   ],
   "source": [
    "gto[(gto['valid_PG_TESS'] == 0.0) & (~gto['lc_file'].isna())]['lc_file'].values"
   ]
  },
  {
   "cell_type": "code",
   "execution_count": 38,
   "id": "eea424e1",
   "metadata": {
    "ExecuteTime": {
     "end_time": "2022-08-20T11:37:03.999115Z",
     "start_time": "2022-08-20T11:37:03.986150Z"
    }
   },
   "outputs": [
    {
     "data": {
      "text/plain": [
       "array(['Floating point nan values are not allowed in FITS headers.',\n",
       "       'Floating point nan values are not allowed in FITS headers.',\n",
       "       'Floating point nan values are not allowed in FITS headers.',\n",
       "       ValueError('Floating point nan values are not allowed in FITS headers.')],\n",
       "      dtype=object)"
      ]
     },
     "execution_count": 38,
     "metadata": {},
     "output_type": "execute_result"
    }
   ],
   "source": [
    "gto[(gto['valid_PG_TESS'] == 0.0) & (~gto['lc_file'].isna())]['error_PG_TESS'].values"
   ]
  },
  {
   "cell_type": "markdown",
   "id": "bb746768",
   "metadata": {
    "ExecuteTime": {
     "end_time": "2022-08-06T19:03:22.053077Z",
     "start_time": "2022-08-06T19:03:22.047093Z"
    }
   },
   "source": [
    "Maybe it seems to be something to do with the generation of the fits files."
   ]
  },
  {
   "cell_type": "markdown",
   "id": "4fe95649",
   "metadata": {},
   "source": [
    "# Summary"
   ]
  },
  {
   "cell_type": "markdown",
   "id": "9c14f82f",
   "metadata": {},
   "source": [
    "**OBSERVATIONS AND CONCLUSIONS:**\n",
    "- We have completed the basic GLS periodogram calculation for the available TESS light curves for GTO objetcs, and stored the results.\n",
    "- Out of the initial 390 objects:\n",
    "  - 271 stars do have a TESS light curve available. Of these:\n",
    "    - 267 stars had their TESS periodogram calculated correctly.\n",
    "    - 4 stars gave trouble during periodogram calculation. Probably it has something to do with the code (fits header generation), rather than the data in the star itself. Given the low impact, these 4 exceptions won't be further analyzed:\n",
    "      - J22012+283\n",
    "      - J20450+444\n",
    "      - J19251+283\n",
    "      - J02070+496"
   ]
  },
  {
   "cell_type": "code",
   "execution_count": null,
   "id": "b6a548c3",
   "metadata": {},
   "outputs": [],
   "source": []
  }
 ],
 "metadata": {
  "kernelspec": {
   "display_name": "Python 3",
   "language": "python",
   "name": "python3"
  },
  "language_info": {
   "codemirror_mode": {
    "name": "ipython",
    "version": 3
   },
   "file_extension": ".py",
   "mimetype": "text/x-python",
   "name": "python",
   "nbconvert_exporter": "python",
   "pygments_lexer": "ipython3",
   "version": "3.8.8"
  },
  "latex_envs": {
   "LaTeX_envs_menu_present": true,
   "autoclose": false,
   "autocomplete": true,
   "bibliofile": "biblio.bib",
   "cite_by": "apalike",
   "current_citInitial": 1,
   "eqLabelWithNumbers": true,
   "eqNumInitial": 1,
   "hotkeys": {
    "equation": "Ctrl-E",
    "itemize": "Ctrl-I"
   },
   "labels_anchors": false,
   "latex_user_defs": false,
   "report_style_numbering": false,
   "user_envs_cfg": false
  },
  "toc": {
   "base_numbering": 1,
   "nav_menu": {},
   "number_sections": true,
   "sideBar": true,
   "skip_h1_title": true,
   "title_cell": "Table of Contents",
   "title_sidebar": "Contents",
   "toc_cell": false,
   "toc_position": {
    "height": "calc(100% - 180px)",
    "left": "10px",
    "top": "150px",
    "width": "303.828px"
   },
   "toc_section_display": true,
   "toc_window_display": true
  }
 },
 "nbformat": 4,
 "nbformat_minor": 5
}
