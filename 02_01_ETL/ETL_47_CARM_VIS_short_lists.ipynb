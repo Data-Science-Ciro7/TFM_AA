{
 "cells": [
  {
   "cell_type": "markdown",
   "id": "b5caaf89",
   "metadata": {},
   "source": [
    "# SHORT LISTS OF CARM_VIS OBJECTS"
   ]
  },
  {
   "cell_type": "markdown",
   "id": "6972f1f2",
   "metadata": {},
   "source": [
    "This small notebook just gets and stores short lists of the CARM_VIS objets, making two subsamples:\n",
    "\n",
    "- The first subsample chooses those objects that have correctly calculated GLS periodograms (for both RV and TESS curves), that will be the input to the periodogram / stacked periodogram analysis. \n",
    "- The second subsample, choose the RV curves with low RMS values (no matter if they have the GLS periodograms correctly calculated or not).\n"
   ]
  },
  {
   "cell_type": "markdown",
   "id": "48ee49ec",
   "metadata": {},
   "source": [
    "## Modules and configuration"
   ]
  },
  {
   "cell_type": "markdown",
   "id": "2a9d8662",
   "metadata": {},
   "source": [
    "### Modules"
   ]
  },
  {
   "cell_type": "code",
   "execution_count": 1,
   "id": "ce772529",
   "metadata": {
    "ExecuteTime": {
     "end_time": "2022-08-11T18:35:31.843029Z",
     "start_time": "2022-08-11T18:35:30.496394Z"
    }
   },
   "outputs": [],
   "source": [
    "import pandas as pd\n",
    "import numpy as np"
   ]
  },
  {
   "cell_type": "markdown",
   "id": "57f0b7d7",
   "metadata": {},
   "source": [
    "### Configuration"
   ]
  },
  {
   "cell_type": "code",
   "execution_count": 2,
   "id": "4268e282",
   "metadata": {
    "ExecuteTime": {
     "end_time": "2022-08-11T18:35:32.773151Z",
     "start_time": "2022-08-11T18:35:32.763657Z"
    }
   },
   "outputs": [],
   "source": [
    "INPUT_FILE = \"../data/CARM_VIS_objects_with_PG.csv\"\n",
    "OUTPUT_FILE_PG = \"../data/SELECTION_for_PG_CARM_VIS_objects_with_PG.csv\"\n",
    "OUTPUT_FILE_ML = \"../data/SELECTION_for_ML_CARM_VIS_objects_with_PG.csv\"\n",
    "\n",
    "MAX_RMS = 5.0 #  Maximum value allowed for RMS to select the record as input to ML analysis."
   ]
  },
  {
   "cell_type": "markdown",
   "id": "7d0118ea",
   "metadata": {},
   "source": [
    "##  Load the CARM_VIS objects"
   ]
  },
  {
   "cell_type": "code",
   "execution_count": 3,
   "id": "495a1038",
   "metadata": {
    "ExecuteTime": {
     "end_time": "2022-08-11T18:35:35.796178Z",
     "start_time": "2022-08-11T18:35:35.668069Z"
    }
   },
   "outputs": [
    {
     "data": {
      "text/html": [
       "<div>\n",
       "<style scoped>\n",
       "    .dataframe tbody tr th:only-of-type {\n",
       "        vertical-align: middle;\n",
       "    }\n",
       "\n",
       "    .dataframe tbody tr th {\n",
       "        vertical-align: top;\n",
       "    }\n",
       "\n",
       "    .dataframe thead th {\n",
       "        text-align: right;\n",
       "    }\n",
       "</style>\n",
       "<table border=\"1\" class=\"dataframe\">\n",
       "  <thead>\n",
       "    <tr style=\"text-align: right;\">\n",
       "      <th></th>\n",
       "      <th>Karmn</th>\n",
       "      <th>Name</th>\n",
       "      <th>Comp</th>\n",
       "      <th>GJ</th>\n",
       "      <th>RA_J2016_deg</th>\n",
       "      <th>DE_J2016_deg</th>\n",
       "      <th>RA_J2000</th>\n",
       "      <th>DE_J2000</th>\n",
       "      <th>l_J2016_deg</th>\n",
       "      <th>b_J2016_deg</th>\n",
       "      <th>...</th>\n",
       "      <th>WF_T0_PG_TESS</th>\n",
       "      <th>WF_e_T0_PG_TESS</th>\n",
       "      <th>WF_offset_PG_TESS</th>\n",
       "      <th>WF_e_offset_PG_TESS</th>\n",
       "      <th>WF_FAP_PG_TESS</th>\n",
       "      <th>WF_valid_PG_TESS</th>\n",
       "      <th>WF_error_PG_TESS</th>\n",
       "      <th>WF_elapsed_time_PG_TESS</th>\n",
       "      <th>WF_plain_file_TESS</th>\n",
       "      <th>WF_fig_file_TESS</th>\n",
       "    </tr>\n",
       "  </thead>\n",
       "  <tbody>\n",
       "    <tr>\n",
       "      <th>0</th>\n",
       "      <td>J23585+076</td>\n",
       "      <td>Wolf 1051</td>\n",
       "      <td>AB</td>\n",
       "      <td>4383</td>\n",
       "      <td>359.636420</td>\n",
       "      <td>7.656947</td>\n",
       "      <td>23:58:32.65</td>\n",
       "      <td>+07:39:30.1</td>\n",
       "      <td>100.839686</td>\n",
       "      <td>-52.931049</td>\n",
       "      <td>...</td>\n",
       "      <td>NaN</td>\n",
       "      <td>NaN</td>\n",
       "      <td>NaN</td>\n",
       "      <td>NaN</td>\n",
       "      <td>NaN</td>\n",
       "      <td>0.0</td>\n",
       "      <td>Not recognized as a supported data product:\\nn...</td>\n",
       "      <td>0.000997</td>\n",
       "      <td>NaN</td>\n",
       "      <td>NaN</td>\n",
       "    </tr>\n",
       "    <tr>\n",
       "      <th>1</th>\n",
       "      <td>J23556-061</td>\n",
       "      <td>GJ 912</td>\n",
       "      <td>AB</td>\n",
       "      <td>912</td>\n",
       "      <td>358.913617</td>\n",
       "      <td>-6.144283</td>\n",
       "      <td>23:55:39.78</td>\n",
       "      <td>-06:08:33.4</td>\n",
       "      <td>88.129933</td>\n",
       "      <td>-65.175491</td>\n",
       "      <td>...</td>\n",
       "      <td>NaN</td>\n",
       "      <td>NaN</td>\n",
       "      <td>NaN</td>\n",
       "      <td>NaN</td>\n",
       "      <td>NaN</td>\n",
       "      <td>0.0</td>\n",
       "      <td>Not recognized as a supported data product:\\nn...</td>\n",
       "      <td>0.000998</td>\n",
       "      <td>NaN</td>\n",
       "      <td>NaN</td>\n",
       "    </tr>\n",
       "    <tr>\n",
       "      <th>2</th>\n",
       "      <td>J23548+385</td>\n",
       "      <td>RX J2354.8+3831</td>\n",
       "      <td>-</td>\n",
       "      <td>NaN</td>\n",
       "      <td>358.713658</td>\n",
       "      <td>38.526340</td>\n",
       "      <td>23:54:51.46</td>\n",
       "      <td>+38:31:36.2</td>\n",
       "      <td>110.941908</td>\n",
       "      <td>-23.024449</td>\n",
       "      <td>...</td>\n",
       "      <td>1764.689208</td>\n",
       "      <td>0.027575</td>\n",
       "      <td>999.999756</td>\n",
       "      <td>2.151008e-06</td>\n",
       "      <td>1.0</td>\n",
       "      <td>1.0</td>\n",
       "      <td>NaN</td>\n",
       "      <td>94.758838</td>\n",
       "      <td>../data/CARM_VIS_TESS_WinFunc_PGs/WF_J23548+38...</td>\n",
       "      <td>../data/CARM_VIS_TESS_WinFunc_PGs/figures/WF_J...</td>\n",
       "    </tr>\n",
       "    <tr>\n",
       "      <th>3</th>\n",
       "      <td>J23505-095</td>\n",
       "      <td>LP 763-012</td>\n",
       "      <td>-</td>\n",
       "      <td>4367</td>\n",
       "      <td>357.634705</td>\n",
       "      <td>-9.560964</td>\n",
       "      <td>23:50:31.64</td>\n",
       "      <td>-09:33:32.7</td>\n",
       "      <td>80.777067</td>\n",
       "      <td>-67.303426</td>\n",
       "      <td>...</td>\n",
       "      <td>1353.926624</td>\n",
       "      <td>0.036481</td>\n",
       "      <td>1000.000122</td>\n",
       "      <td>9.022946e-07</td>\n",
       "      <td>1.0</td>\n",
       "      <td>1.0</td>\n",
       "      <td>NaN</td>\n",
       "      <td>132.607176</td>\n",
       "      <td>../data/CARM_VIS_TESS_WinFunc_PGs/WF_J23505-09...</td>\n",
       "      <td>../data/CARM_VIS_TESS_WinFunc_PGs/figures/WF_J...</td>\n",
       "    </tr>\n",
       "    <tr>\n",
       "      <th>4</th>\n",
       "      <td>J23492+024</td>\n",
       "      <td>BR Psc</td>\n",
       "      <td>-</td>\n",
       "      <td>908</td>\n",
       "      <td>357.306604</td>\n",
       "      <td>2.396918</td>\n",
       "      <td>23:49:12.53</td>\n",
       "      <td>+02:24:04.4</td>\n",
       "      <td>93.567467</td>\n",
       "      <td>-56.885396</td>\n",
       "      <td>...</td>\n",
       "      <td>NaN</td>\n",
       "      <td>NaN</td>\n",
       "      <td>NaN</td>\n",
       "      <td>NaN</td>\n",
       "      <td>NaN</td>\n",
       "      <td>0.0</td>\n",
       "      <td>Not recognized as a supported data product:\\nn...</td>\n",
       "      <td>0.001995</td>\n",
       "      <td>NaN</td>\n",
       "      <td>NaN</td>\n",
       "    </tr>\n",
       "  </tbody>\n",
       "</table>\n",
       "<p>5 rows × 298 columns</p>\n",
       "</div>"
      ],
      "text/plain": [
       "        Karmn             Name Comp    GJ  RA_J2016_deg  DE_J2016_deg  \\\n",
       "0  J23585+076        Wolf 1051   AB  4383    359.636420      7.656947   \n",
       "1  J23556-061           GJ 912   AB   912    358.913617     -6.144283   \n",
       "2  J23548+385  RX J2354.8+3831    -   NaN    358.713658     38.526340   \n",
       "3  J23505-095       LP 763-012    -  4367    357.634705     -9.560964   \n",
       "4  J23492+024           BR Psc    -   908    357.306604      2.396918   \n",
       "\n",
       "      RA_J2000     DE_J2000  l_J2016_deg  b_J2016_deg  ... WF_T0_PG_TESS  \\\n",
       "0  23:58:32.65  +07:39:30.1   100.839686   -52.931049  ...           NaN   \n",
       "1  23:55:39.78  -06:08:33.4    88.129933   -65.175491  ...           NaN   \n",
       "2  23:54:51.46  +38:31:36.2   110.941908   -23.024449  ...   1764.689208   \n",
       "3  23:50:31.64  -09:33:32.7    80.777067   -67.303426  ...   1353.926624   \n",
       "4  23:49:12.53  +02:24:04.4    93.567467   -56.885396  ...           NaN   \n",
       "\n",
       "  WF_e_T0_PG_TESS  WF_offset_PG_TESS WF_e_offset_PG_TESS  WF_FAP_PG_TESS  \\\n",
       "0             NaN                NaN                 NaN             NaN   \n",
       "1             NaN                NaN                 NaN             NaN   \n",
       "2        0.027575         999.999756        2.151008e-06             1.0   \n",
       "3        0.036481        1000.000122        9.022946e-07             1.0   \n",
       "4             NaN                NaN                 NaN             NaN   \n",
       "\n",
       "   WF_valid_PG_TESS                                   WF_error_PG_TESS  \\\n",
       "0               0.0  Not recognized as a supported data product:\\nn...   \n",
       "1               0.0  Not recognized as a supported data product:\\nn...   \n",
       "2               1.0                                                NaN   \n",
       "3               1.0                                                NaN   \n",
       "4               0.0  Not recognized as a supported data product:\\nn...   \n",
       "\n",
       "   WF_elapsed_time_PG_TESS                                 WF_plain_file_TESS  \\\n",
       "0                 0.000997                                                NaN   \n",
       "1                 0.000998                                                NaN   \n",
       "2                94.758838  ../data/CARM_VIS_TESS_WinFunc_PGs/WF_J23548+38...   \n",
       "3               132.607176  ../data/CARM_VIS_TESS_WinFunc_PGs/WF_J23505-09...   \n",
       "4                 0.001995                                                NaN   \n",
       "\n",
       "                                    WF_fig_file_TESS  \n",
       "0                                                NaN  \n",
       "1                                                NaN  \n",
       "2  ../data/CARM_VIS_TESS_WinFunc_PGs/figures/WF_J...  \n",
       "3  ../data/CARM_VIS_TESS_WinFunc_PGs/figures/WF_J...  \n",
       "4                                                NaN  \n",
       "\n",
       "[5 rows x 298 columns]"
      ]
     },
     "execution_count": 3,
     "metadata": {},
     "output_type": "execute_result"
    }
   ],
   "source": [
    "df = pd.read_csv(INPUT_FILE, sep=',', decimal='.')\n",
    "df.head()"
   ]
  },
  {
   "cell_type": "code",
   "execution_count": 4,
   "id": "889820d7",
   "metadata": {
    "ExecuteTime": {
     "end_time": "2022-08-11T18:35:37.911379Z",
     "start_time": "2022-08-11T18:35:37.899381Z"
    }
   },
   "outputs": [
    {
     "name": "stdout",
     "output_type": "stream",
     "text": [
      "['Karmn', 'Name', 'Comp', 'GJ', 'RA_J2016_deg', 'DE_J2016_deg', 'RA_J2000', 'DE_J2000', 'l_J2016_deg', 'b_J2016_deg', 'Ref01', 'SpT', 'SpTnum', 'Ref02', 'Teff_K', 'eTeff_K', 'logg', 'elogg', '[Fe/H]', 'e[Fe/H]', 'Ref03', 'L_Lsol', 'eL_Lsol', 'Ref04', 'R_Rsol', 'eR_Rsol', 'Ref05', 'M_Msol', 'eM_Msol', 'Ref06', 'muRA_masa-1', 'emuRA_masa-1', 'muDE_masa-1', 'emuDE_masa-1', 'Ref07', 'pi_mas', 'epi_mas', 'Ref08', 'd_pc', 'ed_pc', 'Ref09', 'Vr_kms-1', 'eVr_kms-1', 'Ref10', 'ruwe', 'Ref11', 'U_kms-1', 'eU_kms-1', 'V_kms-1', 'eV_kms-1', 'W_kms-1', 'eW_kms-1', 'Ref12', 'sa_m/s/a', 'esa_m/s/a', 'Ref13', 'SKG', 'Ref14', 'SKG_lit', 'Ref14_lit', 'Pop', 'Ref15', 'vsini_flag', 'vsini_kms-1', 'evsini_kms-1', 'Ref16', 'P_d', 'eP_d', 'Ref17', 'pEWHalpha_A', 'epEWHalpha_A', 'Ref18', 'log(LHalpha/Lbol)', 'elog(LHalpha/Lbol)', 'Ref19', '1RXS', 'CRT_s-1', 'eCRT_s-1', 'HR1', 'eHR1', 'HR2', 'eHR2', 'Flux_X_E-13_ergcm-2s-1', 'eFlux_X_E-13_ergcm-2s-1', 'LX/LJ', 'eLX/LJ', 'Ref20', 'Activity', 'Ref21', 'FUV_mag', 'eFUV_mag', 'NUV_mag', 'eNUV_mag', 'Ref22', 'u_mag', 'eu_mag', 'Ref23', 'BT_mag', 'eBT_mag', 'Ref24', 'B_mag', 'eB_mag', 'Ref25', 'BP_mag', 'eBP_mag', 'Ref26', 'g_mag', 'eg_mag', 'Ref27', 'VT_mag', 'eVT_mag', 'Ref28', 'V_mag', 'eV_mag', 'Ref29', 'Ra_mag', 'Ref30', 'r_mag', 'er_mag', 'Ref31', 'GG_mag', 'eGG_mag', 'Ref32', 'i_mag', 'ei_mag', 'Ref33', 'RP_mag', 'eRP_mag', 'Ref34', 'IN_mag', 'Ref35', 'J_mag', 'eJ_mag', 'H_mag', 'eH_mag', 'Ks_mag', 'eKs_mag', 'QFlag_2M', 'Ref36', 'W1_mag', 'eW1_mag', 'W2_mag', 'eW2_mag', 'W3_mag', 'eW3_mag', 'W4_mag', 'eW4_mag', 'QFlag_WISE', 'Ref37', 'Multiplicity', 'WideWDS', 'Widerho_arcsec', 'eWiderho_arcsec', 'Ref38', 'WideCompanionName', 'WideCompanionSpT', 'CloseWDS', 'Closerho_arcsec', 'eCloserho_arcsec', 'Ref39', 'CloseCompanionSpT', 'RV', 'Planet', 'Ref40', 'PlanetNum', 'LoRes_spectrum', 'HiRes_spectrum', 'LoRes_imaging', 'HiRes_imaging', 'Class', 'Survey', 'Notes', 'Gaia_id_1', '2MASS_id', 'TIC_id', 'Teff_min_K', 'Teff_max_K', 'logg_min', 'logg_max', 'is_GTO', 'rv_file', 'lc_file', 'has_rv', 'has_lc', 'InstBand_nominal', 'InstBand_ranged', 'n_RV', 'Ps_RV', 'fs_RV', 'wmean_RV', 'wrms_RV', 'info_PG_RV', 'maxP_PG_RV', 'maxSNR_PG_RV', 'rms_PG_RV', 'f_PG_RV', 'e_f_PG_RV', 'Pd_PG_RV', 'e_Pd_PG_RV', 'Ph_PG_RV', 'e_Ph_PG_RV', 'Pm_PG_RV', 'e_Pm_PG_RV', 'A_PG_RV', 'e_A_PG_RV', 'ph_PG_RV', 'e_ph_PG_RV', 'T0_PG_RV', 'e_T0_PG_RV', 'offset_PG_RV', 'e_offset_PG_RV', 'FAP_PG_RV', 'valid_PG_RV', 'error_PG_RV', 'elapsed_time_PG_RV', 'fits_file_RV', 'fig_file_RV', 'n_TESS', 'Ps_TESS', 'fs_TESS', 'wmean_TESS', 'wrms_TESS', 'info_PG_TESS', 'maxP_PG_TESS', 'maxSNR_PG_TESS', 'rms_PG_TESS', 'f_PG_TESS', 'e_f_PG_TESS', 'Pd_PG_TESS', 'e_Pd_PG_TESS', 'Ph_PG_TESS', 'e_Ph_PG_TESS', 'Pm_PG_TESS', 'e_Pm_PG_TESS', 'A_PG_TESS', 'e_A_PG_TESS', 'ph_PG_TESS', 'e_ph_PG_TESS', 'T0_PG_TESS', 'e_T0_PG_TESS', 'offset_PG_TESS', 'e_offset_PG_TESS', 'FAP_PG_TESS', 'valid_PG_TESS', 'error_PG_TESS', 'elapsed_time_PG_TESS', 'fits_file_TESS', 'fig_file_TESS', 'WF_maxP_PG_RV', 'WF_maxSNR_PG_RV', 'WF_rms_PG_RV', 'WF_f_PG_RV', 'WF_e_f_PG_RV', 'WF_Pd_PG_RV', 'WF_e_Pd_PG_RV', 'WF_Ph_PG_RV', 'WF_e_Ph_PG_RV', 'WF_Pm_PG_RV', 'WF_e_Pm_PG_RV', 'WF_A_PG_RV', 'WF_e_A_PG_RV', 'WF_ph_PG_RV', 'WF_e_ph_PG_RV', 'WF_T0_PG_RV', 'WF_e_T0_PG_RV', 'WF_offset_PG_RV', 'WF_e_offset_PG_RV', 'WF_FAP_PG_RV', 'WF_valid_PG_RV', 'WF_error_PG_RV', 'WF_elapsed_time_PG_RV', 'WF_plain_file_RV', 'WF_fig_file_RV', 'WF_maxP_PG_TESS', 'WF_maxSNR_PG_TESS', 'WF_rms_PG_TESS', 'WF_f_PG_TESS', 'WF_e_f_PG_TESS', 'WF_Pd_PG_TESS', 'WF_e_Pd_PG_TESS', 'WF_Ph_PG_TESS', 'WF_e_Ph_PG_TESS', 'WF_Pm_PG_TESS', 'WF_e_Pm_PG_TESS', 'WF_A_PG_TESS', 'WF_e_A_PG_TESS', 'WF_ph_PG_TESS', 'WF_e_ph_PG_TESS', 'WF_T0_PG_TESS', 'WF_e_T0_PG_TESS', 'WF_offset_PG_TESS', 'WF_e_offset_PG_TESS', 'WF_FAP_PG_TESS', 'WF_valid_PG_TESS', 'WF_error_PG_TESS', 'WF_elapsed_time_PG_TESS', 'WF_plain_file_TESS', 'WF_fig_file_TESS']\n"
     ]
    }
   ],
   "source": [
    "print(list(df.columns))"
   ]
  },
  {
   "cell_type": "code",
   "execution_count": 5,
   "id": "46ee0f37",
   "metadata": {
    "ExecuteTime": {
     "end_time": "2022-08-11T18:35:41.461912Z",
     "start_time": "2022-08-11T18:35:41.443453Z"
    }
   },
   "outputs": [
    {
     "data": {
      "text/plain": [
       "0                                                    NaN\n",
       "1                                                    NaN\n",
       "2      ../data/CARMENES_GTO_TESS_lc/lightcurves/J2354...\n",
       "3      ../data/CARMENES_GTO_TESS_lc/lightcurves/J2350...\n",
       "4                                                    NaN\n",
       "                             ...                        \n",
       "385    ../data/CARMENES_GTO_TESS_lc/lightcurves/J0018...\n",
       "386                                                  NaN\n",
       "387                                                  NaN\n",
       "388                                                  NaN\n",
       "389    ../data/CARMENES_GTO_TESS_lc/lightcurves/J0005...\n",
       "Name: lc_file, Length: 390, dtype: object"
      ]
     },
     "execution_count": 5,
     "metadata": {},
     "output_type": "execute_result"
    }
   ],
   "source": [
    "df['lc_file']"
   ]
  },
  {
   "cell_type": "markdown",
   "id": "68e0441e",
   "metadata": {},
   "source": [
    "Number of CARM_VIS objects without an RV file name:"
   ]
  },
  {
   "cell_type": "code",
   "execution_count": 6,
   "id": "1f6417a8",
   "metadata": {
    "ExecuteTime": {
     "end_time": "2022-08-11T18:35:43.526742Z",
     "start_time": "2022-08-11T18:35:43.516187Z"
    }
   },
   "outputs": [
    {
     "data": {
      "text/plain": [
       "0"
      ]
     },
     "execution_count": 6,
     "metadata": {},
     "output_type": "execute_result"
    }
   ],
   "source": [
    "sum(df['rv_file'].isna())"
   ]
  },
  {
   "cell_type": "markdown",
   "id": "996aad6e",
   "metadata": {},
   "source": [
    "Number of CARM_VIS objects without an LC file name:"
   ]
  },
  {
   "cell_type": "code",
   "execution_count": 7,
   "id": "e4f97911",
   "metadata": {
    "ExecuteTime": {
     "end_time": "2022-08-11T18:35:51.646377Z",
     "start_time": "2022-08-11T18:35:51.635890Z"
    }
   },
   "outputs": [
    {
     "data": {
      "text/plain": [
       "119"
      ]
     },
     "execution_count": 7,
     "metadata": {},
     "output_type": "execute_result"
    }
   ],
   "source": [
    "sum(df['lc_file'].isna())"
   ]
  },
  {
   "cell_type": "markdown",
   "id": "5d12f5a7",
   "metadata": {},
   "source": [
    "## Select the CARM_VIS object with valid PG calculated"
   ]
  },
  {
   "cell_type": "markdown",
   "id": "2b51a328",
   "metadata": {},
   "source": [
    "Total number of CARM_VIS objects in the original table:"
   ]
  },
  {
   "cell_type": "code",
   "execution_count": 8,
   "id": "773a1071",
   "metadata": {
    "ExecuteTime": {
     "end_time": "2022-08-11T18:36:06.971099Z",
     "start_time": "2022-08-11T18:36:06.963613Z"
    }
   },
   "outputs": [
    {
     "data": {
      "text/plain": [
       "390"
      ]
     },
     "execution_count": 8,
     "metadata": {},
     "output_type": "execute_result"
    }
   ],
   "source": [
    "len(df)"
   ]
  },
  {
   "cell_type": "markdown",
   "id": "3f1cab8d",
   "metadata": {},
   "source": [
    "Number of CARM_VIS objects with correctly calculated periodogram for CARMENES RV curves:"
   ]
  },
  {
   "cell_type": "code",
   "execution_count": 9,
   "id": "8c44a80b",
   "metadata": {
    "ExecuteTime": {
     "end_time": "2022-08-11T18:36:09.175131Z",
     "start_time": "2022-08-11T18:36:09.138321Z"
    },
    "scrolled": true
   },
   "outputs": [
    {
     "data": {
      "text/plain": [
       "387"
      ]
     },
     "execution_count": 9,
     "metadata": {},
     "output_type": "execute_result"
    }
   ],
   "source": [
    "len(df[df['valid_PG_RV'] == 1.0])"
   ]
  },
  {
   "cell_type": "markdown",
   "id": "e1889948",
   "metadata": {},
   "source": [
    "Number of CARM_VIS objects with correctly calculated periodogram for TESS LC:"
   ]
  },
  {
   "cell_type": "code",
   "execution_count": 10,
   "id": "a6bd82c7",
   "metadata": {
    "ExecuteTime": {
     "end_time": "2022-08-11T18:36:11.308319Z",
     "start_time": "2022-08-11T18:36:11.291367Z"
    }
   },
   "outputs": [
    {
     "data": {
      "text/plain": [
       "267"
      ]
     },
     "execution_count": 10,
     "metadata": {},
     "output_type": "execute_result"
    }
   ],
   "source": [
    "len(df[df['valid_PG_TESS'] == 1.0])"
   ]
  },
  {
   "cell_type": "markdown",
   "id": "3dab782b",
   "metadata": {},
   "source": [
    "Combined number of CARM_VIS objects with correctly calculated periodograms for both CARMENES RV curves and TESS LC:"
   ]
  },
  {
   "cell_type": "code",
   "execution_count": 11,
   "id": "fe6e3553",
   "metadata": {
    "ExecuteTime": {
     "end_time": "2022-08-11T18:36:15.527973Z",
     "start_time": "2022-08-11T18:36:15.507210Z"
    }
   },
   "outputs": [
    {
     "data": {
      "text/plain": [
       "265"
      ]
     },
     "execution_count": 11,
     "metadata": {},
     "output_type": "execute_result"
    }
   ],
   "source": [
    "len(df[(df['valid_PG_RV'] == 1.0) & (df['valid_PG_TESS'] == 1.0)])"
   ]
  },
  {
   "cell_type": "markdown",
   "id": "99a5a12d",
   "metadata": {},
   "source": [
    "These 265 objects will be the main target of the periodogram analysis:"
   ]
  },
  {
   "cell_type": "code",
   "execution_count": 12,
   "id": "0e0dc8b0",
   "metadata": {
    "ExecuteTime": {
     "end_time": "2022-08-11T18:36:18.482158Z",
     "start_time": "2022-08-11T18:36:18.443679Z"
    }
   },
   "outputs": [
    {
     "data": {
      "text/html": [
       "<div>\n",
       "<style scoped>\n",
       "    .dataframe tbody tr th:only-of-type {\n",
       "        vertical-align: middle;\n",
       "    }\n",
       "\n",
       "    .dataframe tbody tr th {\n",
       "        vertical-align: top;\n",
       "    }\n",
       "\n",
       "    .dataframe thead th {\n",
       "        text-align: right;\n",
       "    }\n",
       "</style>\n",
       "<table border=\"1\" class=\"dataframe\">\n",
       "  <thead>\n",
       "    <tr style=\"text-align: right;\">\n",
       "      <th></th>\n",
       "      <th>Karmn</th>\n",
       "      <th>Name</th>\n",
       "      <th>Comp</th>\n",
       "      <th>GJ</th>\n",
       "      <th>RA_J2016_deg</th>\n",
       "      <th>DE_J2016_deg</th>\n",
       "      <th>RA_J2000</th>\n",
       "      <th>DE_J2000</th>\n",
       "      <th>l_J2016_deg</th>\n",
       "      <th>b_J2016_deg</th>\n",
       "      <th>...</th>\n",
       "      <th>WF_T0_PG_TESS</th>\n",
       "      <th>WF_e_T0_PG_TESS</th>\n",
       "      <th>WF_offset_PG_TESS</th>\n",
       "      <th>WF_e_offset_PG_TESS</th>\n",
       "      <th>WF_FAP_PG_TESS</th>\n",
       "      <th>WF_valid_PG_TESS</th>\n",
       "      <th>WF_error_PG_TESS</th>\n",
       "      <th>WF_elapsed_time_PG_TESS</th>\n",
       "      <th>WF_plain_file_TESS</th>\n",
       "      <th>WF_fig_file_TESS</th>\n",
       "    </tr>\n",
       "  </thead>\n",
       "  <tbody>\n",
       "    <tr>\n",
       "      <th>2</th>\n",
       "      <td>J23548+385</td>\n",
       "      <td>RX J2354.8+3831</td>\n",
       "      <td>-</td>\n",
       "      <td>NaN</td>\n",
       "      <td>358.713658</td>\n",
       "      <td>38.526340</td>\n",
       "      <td>23:54:51.46</td>\n",
       "      <td>+38:31:36.2</td>\n",
       "      <td>110.941908</td>\n",
       "      <td>-23.024449</td>\n",
       "      <td>...</td>\n",
       "      <td>1764.689208</td>\n",
       "      <td>0.027575</td>\n",
       "      <td>999.999756</td>\n",
       "      <td>2.151008e-06</td>\n",
       "      <td>1.0</td>\n",
       "      <td>1.0</td>\n",
       "      <td>NaN</td>\n",
       "      <td>94.758838</td>\n",
       "      <td>../data/CARM_VIS_TESS_WinFunc_PGs/WF_J23548+38...</td>\n",
       "      <td>../data/CARM_VIS_TESS_WinFunc_PGs/figures/WF_J...</td>\n",
       "    </tr>\n",
       "    <tr>\n",
       "      <th>3</th>\n",
       "      <td>J23505-095</td>\n",
       "      <td>LP 763-012</td>\n",
       "      <td>-</td>\n",
       "      <td>4367</td>\n",
       "      <td>357.634705</td>\n",
       "      <td>-9.560964</td>\n",
       "      <td>23:50:31.64</td>\n",
       "      <td>-09:33:32.7</td>\n",
       "      <td>80.777067</td>\n",
       "      <td>-67.303426</td>\n",
       "      <td>...</td>\n",
       "      <td>1353.926624</td>\n",
       "      <td>0.036481</td>\n",
       "      <td>1000.000122</td>\n",
       "      <td>9.022946e-07</td>\n",
       "      <td>1.0</td>\n",
       "      <td>1.0</td>\n",
       "      <td>NaN</td>\n",
       "      <td>132.607176</td>\n",
       "      <td>../data/CARM_VIS_TESS_WinFunc_PGs/WF_J23505-09...</td>\n",
       "      <td>../data/CARM_VIS_TESS_WinFunc_PGs/figures/WF_J...</td>\n",
       "    </tr>\n",
       "    <tr>\n",
       "      <th>5</th>\n",
       "      <td>J23431+365</td>\n",
       "      <td>GJ 1289</td>\n",
       "      <td>-</td>\n",
       "      <td>1289</td>\n",
       "      <td>355.781509</td>\n",
       "      <td>36.536310</td>\n",
       "      <td>23:43:06.31</td>\n",
       "      <td>+36:32:13.1</td>\n",
       "      <td>107.922839</td>\n",
       "      <td>-24.336479</td>\n",
       "      <td>...</td>\n",
       "      <td>1764.702841</td>\n",
       "      <td>0.028355</td>\n",
       "      <td>999.999512</td>\n",
       "      <td>4.306074e-06</td>\n",
       "      <td>1.0</td>\n",
       "      <td>1.0</td>\n",
       "      <td>NaN</td>\n",
       "      <td>97.939914</td>\n",
       "      <td>../data/CARM_VIS_TESS_WinFunc_PGs/WF_J23431+36...</td>\n",
       "      <td>../data/CARM_VIS_TESS_WinFunc_PGs/figures/WF_J...</td>\n",
       "    </tr>\n",
       "    <tr>\n",
       "      <th>7</th>\n",
       "      <td>J23381-162</td>\n",
       "      <td>G 273-093</td>\n",
       "      <td>-</td>\n",
       "      <td>4352</td>\n",
       "      <td>354.532687</td>\n",
       "      <td>-16.236514</td>\n",
       "      <td>23:38:08.16</td>\n",
       "      <td>-16:14:10.2</td>\n",
       "      <td>61.845437</td>\n",
       "      <td>-69.825220</td>\n",
       "      <td>...</td>\n",
       "      <td>1353.926631</td>\n",
       "      <td>0.036480</td>\n",
       "      <td>1000.000122</td>\n",
       "      <td>9.022946e-07</td>\n",
       "      <td>1.0</td>\n",
       "      <td>1.0</td>\n",
       "      <td>NaN</td>\n",
       "      <td>136.603404</td>\n",
       "      <td>../data/CARM_VIS_TESS_WinFunc_PGs/WF_J23381-16...</td>\n",
       "      <td>../data/CARM_VIS_TESS_WinFunc_PGs/figures/WF_J...</td>\n",
       "    </tr>\n",
       "    <tr>\n",
       "      <th>10</th>\n",
       "      <td>J23245+578</td>\n",
       "      <td>BD+57 2735</td>\n",
       "      <td>-</td>\n",
       "      <td>895</td>\n",
       "      <td>351.126628</td>\n",
       "      <td>57.853057</td>\n",
       "      <td>23:24:30.51</td>\n",
       "      <td>+57:51:15.5</td>\n",
       "      <td>111.552287</td>\n",
       "      <td>-3.085183</td>\n",
       "      <td>...</td>\n",
       "      <td>1955.851155</td>\n",
       "      <td>0.018437</td>\n",
       "      <td>999.999512</td>\n",
       "      <td>3.720858e-06</td>\n",
       "      <td>1.0</td>\n",
       "      <td>1.0</td>\n",
       "      <td>NaN</td>\n",
       "      <td>131.327304</td>\n",
       "      <td>../data/CARM_VIS_TESS_WinFunc_PGs/WF_J23245+57...</td>\n",
       "      <td>../data/CARM_VIS_TESS_WinFunc_PGs/figures/WF_J...</td>\n",
       "    </tr>\n",
       "  </tbody>\n",
       "</table>\n",
       "<p>5 rows × 298 columns</p>\n",
       "</div>"
      ],
      "text/plain": [
       "         Karmn             Name Comp    GJ  RA_J2016_deg  DE_J2016_deg  \\\n",
       "2   J23548+385  RX J2354.8+3831    -   NaN    358.713658     38.526340   \n",
       "3   J23505-095       LP 763-012    -  4367    357.634705     -9.560964   \n",
       "5   J23431+365          GJ 1289    -  1289    355.781509     36.536310   \n",
       "7   J23381-162        G 273-093    -  4352    354.532687    -16.236514   \n",
       "10  J23245+578       BD+57 2735    -   895    351.126628     57.853057   \n",
       "\n",
       "       RA_J2000     DE_J2000  l_J2016_deg  b_J2016_deg  ... WF_T0_PG_TESS  \\\n",
       "2   23:54:51.46  +38:31:36.2   110.941908   -23.024449  ...   1764.689208   \n",
       "3   23:50:31.64  -09:33:32.7    80.777067   -67.303426  ...   1353.926624   \n",
       "5   23:43:06.31  +36:32:13.1   107.922839   -24.336479  ...   1764.702841   \n",
       "7   23:38:08.16  -16:14:10.2    61.845437   -69.825220  ...   1353.926631   \n",
       "10  23:24:30.51  +57:51:15.5   111.552287    -3.085183  ...   1955.851155   \n",
       "\n",
       "   WF_e_T0_PG_TESS  WF_offset_PG_TESS WF_e_offset_PG_TESS  WF_FAP_PG_TESS  \\\n",
       "2         0.027575         999.999756        2.151008e-06             1.0   \n",
       "3         0.036481        1000.000122        9.022946e-07             1.0   \n",
       "5         0.028355         999.999512        4.306074e-06             1.0   \n",
       "7         0.036480        1000.000122        9.022946e-07             1.0   \n",
       "10        0.018437         999.999512        3.720858e-06             1.0   \n",
       "\n",
       "    WF_valid_PG_TESS  WF_error_PG_TESS  WF_elapsed_time_PG_TESS  \\\n",
       "2                1.0               NaN                94.758838   \n",
       "3                1.0               NaN               132.607176   \n",
       "5                1.0               NaN                97.939914   \n",
       "7                1.0               NaN               136.603404   \n",
       "10               1.0               NaN               131.327304   \n",
       "\n",
       "                                   WF_plain_file_TESS  \\\n",
       "2   ../data/CARM_VIS_TESS_WinFunc_PGs/WF_J23548+38...   \n",
       "3   ../data/CARM_VIS_TESS_WinFunc_PGs/WF_J23505-09...   \n",
       "5   ../data/CARM_VIS_TESS_WinFunc_PGs/WF_J23431+36...   \n",
       "7   ../data/CARM_VIS_TESS_WinFunc_PGs/WF_J23381-16...   \n",
       "10  ../data/CARM_VIS_TESS_WinFunc_PGs/WF_J23245+57...   \n",
       "\n",
       "                                     WF_fig_file_TESS  \n",
       "2   ../data/CARM_VIS_TESS_WinFunc_PGs/figures/WF_J...  \n",
       "3   ../data/CARM_VIS_TESS_WinFunc_PGs/figures/WF_J...  \n",
       "5   ../data/CARM_VIS_TESS_WinFunc_PGs/figures/WF_J...  \n",
       "7   ../data/CARM_VIS_TESS_WinFunc_PGs/figures/WF_J...  \n",
       "10  ../data/CARM_VIS_TESS_WinFunc_PGs/figures/WF_J...  \n",
       "\n",
       "[5 rows x 298 columns]"
      ]
     },
     "execution_count": 12,
     "metadata": {},
     "output_type": "execute_result"
    }
   ],
   "source": [
    "selected_df = df[(df['valid_PG_RV'] == 1.0) & (df['valid_PG_TESS'] == 1.0)].copy()\n",
    "selected_df.head()"
   ]
  },
  {
   "cell_type": "code",
   "execution_count": 13,
   "id": "53c43923",
   "metadata": {
    "ExecuteTime": {
     "end_time": "2022-08-11T18:36:19.431085Z",
     "start_time": "2022-08-11T18:36:19.411011Z"
    }
   },
   "outputs": [
    {
     "data": {
      "text/plain": [
       "265"
      ]
     },
     "execution_count": 13,
     "metadata": {},
     "output_type": "execute_result"
    }
   ],
   "source": [
    "len(selected_df)"
   ]
  },
  {
   "cell_type": "markdown",
   "id": "97734f36",
   "metadata": {},
   "source": [
    "### Store the filtered results"
   ]
  },
  {
   "cell_type": "code",
   "execution_count": 14,
   "id": "c49a5fa3",
   "metadata": {
    "ExecuteTime": {
     "end_time": "2022-08-11T18:36:20.477155Z",
     "start_time": "2022-08-11T18:36:20.379616Z"
    }
   },
   "outputs": [],
   "source": [
    "selected_df.to_csv(OUTPUT_FILE_PG, sep=',', decimal='.', index=False)"
   ]
  },
  {
   "cell_type": "markdown",
   "id": "6f1fc866",
   "metadata": {},
   "source": [
    "## Select the CARM_VIS objects with lower RMS values"
   ]
  },
  {
   "cell_type": "markdown",
   "id": "c8fd079c",
   "metadata": {},
   "source": [
    "Total number of CARM_VIS objects in the original table:"
   ]
  },
  {
   "cell_type": "code",
   "execution_count": 15,
   "id": "5796439b",
   "metadata": {
    "ExecuteTime": {
     "end_time": "2022-08-11T18:36:22.968883Z",
     "start_time": "2022-08-11T18:36:22.955411Z"
    }
   },
   "outputs": [
    {
     "data": {
      "text/plain": [
       "390"
      ]
     },
     "execution_count": 15,
     "metadata": {},
     "output_type": "execute_result"
    }
   ],
   "source": [
    "len(df)"
   ]
  },
  {
   "cell_type": "markdown",
   "id": "42c45e35",
   "metadata": {},
   "source": [
    "RMS values statistics:"
   ]
  },
  {
   "cell_type": "code",
   "execution_count": 16,
   "id": "09db2b89",
   "metadata": {
    "ExecuteTime": {
     "end_time": "2022-08-11T18:36:24.639073Z",
     "start_time": "2022-08-11T18:36:24.611099Z"
    }
   },
   "outputs": [
    {
     "data": {
      "text/plain": [
       "count      387.000000\n",
       "mean       361.871528\n",
       "std       2564.902866\n",
       "min          0.666710\n",
       "25%          2.684700\n",
       "50%          4.015005\n",
       "75%         11.644566\n",
       "max      31233.301918\n",
       "Name: wrms_RV, dtype: float64"
      ]
     },
     "execution_count": 16,
     "metadata": {},
     "output_type": "execute_result"
    }
   ],
   "source": [
    "df['wrms_RV'].describe()"
   ]
  },
  {
   "cell_type": "code",
   "execution_count": 17,
   "id": "66f3bee0",
   "metadata": {
    "ExecuteTime": {
     "end_time": "2022-08-11T18:36:25.650867Z",
     "start_time": "2022-08-11T18:36:25.635400Z"
    }
   },
   "outputs": [
    {
     "data": {
      "text/plain": [
       "233"
      ]
     },
     "execution_count": 17,
     "metadata": {},
     "output_type": "execute_result"
    }
   ],
   "source": [
    "len(df[df['wrms_RV'] < MAX_RMS])"
   ]
  },
  {
   "cell_type": "markdown",
   "id": "c29d98a1",
   "metadata": {},
   "source": [
    "These 233 objects will be the main target for the Machine Learning approach:"
   ]
  },
  {
   "cell_type": "code",
   "execution_count": 19,
   "id": "4148ff03",
   "metadata": {
    "ExecuteTime": {
     "end_time": "2022-08-06T19:25:50.492129Z",
     "start_time": "2022-08-06T19:25:50.464203Z"
    }
   },
   "outputs": [
    {
     "data": {
      "text/html": [
       "<div>\n",
       "<style scoped>\n",
       "    .dataframe tbody tr th:only-of-type {\n",
       "        vertical-align: middle;\n",
       "    }\n",
       "\n",
       "    .dataframe tbody tr th {\n",
       "        vertical-align: top;\n",
       "    }\n",
       "\n",
       "    .dataframe thead th {\n",
       "        text-align: right;\n",
       "    }\n",
       "</style>\n",
       "<table border=\"1\" class=\"dataframe\">\n",
       "  <thead>\n",
       "    <tr style=\"text-align: right;\">\n",
       "      <th></th>\n",
       "      <th>Karmn</th>\n",
       "      <th>Name</th>\n",
       "      <th>Comp</th>\n",
       "      <th>GJ</th>\n",
       "      <th>RA_J2016_deg</th>\n",
       "      <th>DE_J2016_deg</th>\n",
       "      <th>RA_J2000</th>\n",
       "      <th>DE_J2000</th>\n",
       "      <th>l_J2016_deg</th>\n",
       "      <th>b_J2016_deg</th>\n",
       "      <th>...</th>\n",
       "      <th>T0_PG_TESS</th>\n",
       "      <th>e_T0_PG_TESS</th>\n",
       "      <th>offset_PG_TESS</th>\n",
       "      <th>e_offset_PG_TESS</th>\n",
       "      <th>FAP_PG_TESS</th>\n",
       "      <th>valid_PG_TESS</th>\n",
       "      <th>error_PG_TESS</th>\n",
       "      <th>elapsed_time_PG_TESS</th>\n",
       "      <th>fits_file_TESS</th>\n",
       "      <th>fig_file_TESS</th>\n",
       "    </tr>\n",
       "  </thead>\n",
       "  <tbody>\n",
       "    <tr>\n",
       "      <th>3</th>\n",
       "      <td>J23505-095</td>\n",
       "      <td>LP 763-012</td>\n",
       "      <td>-</td>\n",
       "      <td>4367</td>\n",
       "      <td>357.634705</td>\n",
       "      <td>-9.560964</td>\n",
       "      <td>23:50:31.64</td>\n",
       "      <td>-09:33:32.7</td>\n",
       "      <td>80.777067</td>\n",
       "      <td>-67.303426</td>\n",
       "      <td>...</td>\n",
       "      <td>1354.001496</td>\n",
       "      <td>0.011641</td>\n",
       "      <td>7767.134369</td>\n",
       "      <td>0.094293</td>\n",
       "      <td>0.049768</td>\n",
       "      <td>1.0</td>\n",
       "      <td>NaN</td>\n",
       "      <td>133.687905</td>\n",
       "      <td>../data/CARM_VIS_TESS_PGs/J23505-095_TESS_PG.fits</td>\n",
       "      <td>../data/CARM_VIS_TESS_PGs/figures/J23505-095_T...</td>\n",
       "    </tr>\n",
       "    <tr>\n",
       "      <th>4</th>\n",
       "      <td>J23492+024</td>\n",
       "      <td>BR Psc</td>\n",
       "      <td>-</td>\n",
       "      <td>908</td>\n",
       "      <td>357.306604</td>\n",
       "      <td>2.396918</td>\n",
       "      <td>23:49:12.53</td>\n",
       "      <td>+02:24:04.4</td>\n",
       "      <td>93.567467</td>\n",
       "      <td>-56.885396</td>\n",
       "      <td>...</td>\n",
       "      <td>NaN</td>\n",
       "      <td>NaN</td>\n",
       "      <td>NaN</td>\n",
       "      <td>NaN</td>\n",
       "      <td>NaN</td>\n",
       "      <td>0.0</td>\n",
       "      <td>Not recognized as a supported data product:\\nn...</td>\n",
       "      <td>0.000997</td>\n",
       "      <td>NaN</td>\n",
       "      <td>NaN</td>\n",
       "    </tr>\n",
       "    <tr>\n",
       "      <th>5</th>\n",
       "      <td>J23431+365</td>\n",
       "      <td>GJ 1289</td>\n",
       "      <td>-</td>\n",
       "      <td>1289</td>\n",
       "      <td>355.781509</td>\n",
       "      <td>36.536310</td>\n",
       "      <td>23:43:06.31</td>\n",
       "      <td>+36:32:13.1</td>\n",
       "      <td>107.922839</td>\n",
       "      <td>-24.336479</td>\n",
       "      <td>...</td>\n",
       "      <td>1764.717379</td>\n",
       "      <td>0.006457</td>\n",
       "      <td>16158.285568</td>\n",
       "      <td>0.164666</td>\n",
       "      <td>0.000484</td>\n",
       "      <td>1.0</td>\n",
       "      <td>NaN</td>\n",
       "      <td>99.903255</td>\n",
       "      <td>../data/CARM_VIS_TESS_PGs/J23431+365_TESS_PG.fits</td>\n",
       "      <td>../data/CARM_VIS_TESS_PGs/figures/J23431+365_T...</td>\n",
       "    </tr>\n",
       "    <tr>\n",
       "      <th>6</th>\n",
       "      <td>J23419+441</td>\n",
       "      <td>HH And</td>\n",
       "      <td>-</td>\n",
       "      <td>905</td>\n",
       "      <td>355.480015</td>\n",
       "      <td>44.170376</td>\n",
       "      <td>23:41:55.04</td>\n",
       "      <td>+44:10:38.8</td>\n",
       "      <td>109.989338</td>\n",
       "      <td>-16.947350</td>\n",
       "      <td>...</td>\n",
       "      <td>NaN</td>\n",
       "      <td>NaN</td>\n",
       "      <td>NaN</td>\n",
       "      <td>NaN</td>\n",
       "      <td>NaN</td>\n",
       "      <td>0.0</td>\n",
       "      <td>Not recognized as a supported data product:\\nn...</td>\n",
       "      <td>0.001995</td>\n",
       "      <td>NaN</td>\n",
       "      <td>NaN</td>\n",
       "    </tr>\n",
       "    <tr>\n",
       "      <th>7</th>\n",
       "      <td>J23381-162</td>\n",
       "      <td>G 273-093</td>\n",
       "      <td>-</td>\n",
       "      <td>4352</td>\n",
       "      <td>354.532687</td>\n",
       "      <td>-16.236514</td>\n",
       "      <td>23:38:08.16</td>\n",
       "      <td>-16:14:10.2</td>\n",
       "      <td>61.845437</td>\n",
       "      <td>-69.825220</td>\n",
       "      <td>...</td>\n",
       "      <td>1354.111110</td>\n",
       "      <td>0.000422</td>\n",
       "      <td>30353.147895</td>\n",
       "      <td>0.175123</td>\n",
       "      <td>0.063028</td>\n",
       "      <td>1.0</td>\n",
       "      <td>NaN</td>\n",
       "      <td>137.140038</td>\n",
       "      <td>../data/CARM_VIS_TESS_PGs/J23381-162_TESS_PG.fits</td>\n",
       "      <td>../data/CARM_VIS_TESS_PGs/figures/J23381-162_T...</td>\n",
       "    </tr>\n",
       "  </tbody>\n",
       "</table>\n",
       "<p>5 rows × 248 columns</p>\n",
       "</div>"
      ],
      "text/plain": [
       "        Karmn        Name Comp    GJ  RA_J2016_deg  DE_J2016_deg     RA_J2000  \\\n",
       "3  J23505-095  LP 763-012    -  4367    357.634705     -9.560964  23:50:31.64   \n",
       "4  J23492+024      BR Psc    -   908    357.306604      2.396918  23:49:12.53   \n",
       "5  J23431+365     GJ 1289    -  1289    355.781509     36.536310  23:43:06.31   \n",
       "6  J23419+441      HH And    -   905    355.480015     44.170376  23:41:55.04   \n",
       "7  J23381-162   G 273-093    -  4352    354.532687    -16.236514  23:38:08.16   \n",
       "\n",
       "      DE_J2000  l_J2016_deg  b_J2016_deg  ...   T0_PG_TESS e_T0_PG_TESS  \\\n",
       "3  -09:33:32.7    80.777067   -67.303426  ...  1354.001496     0.011641   \n",
       "4  +02:24:04.4    93.567467   -56.885396  ...          NaN          NaN   \n",
       "5  +36:32:13.1   107.922839   -24.336479  ...  1764.717379     0.006457   \n",
       "6  +44:10:38.8   109.989338   -16.947350  ...          NaN          NaN   \n",
       "7  -16:14:10.2    61.845437   -69.825220  ...  1354.111110     0.000422   \n",
       "\n",
       "   offset_PG_TESS e_offset_PG_TESS  FAP_PG_TESS  valid_PG_TESS  \\\n",
       "3     7767.134369         0.094293     0.049768            1.0   \n",
       "4             NaN              NaN          NaN            0.0   \n",
       "5    16158.285568         0.164666     0.000484            1.0   \n",
       "6             NaN              NaN          NaN            0.0   \n",
       "7    30353.147895         0.175123     0.063028            1.0   \n",
       "\n",
       "                                       error_PG_TESS  elapsed_time_PG_TESS  \\\n",
       "3                                                NaN            133.687905   \n",
       "4  Not recognized as a supported data product:\\nn...              0.000997   \n",
       "5                                                NaN             99.903255   \n",
       "6  Not recognized as a supported data product:\\nn...              0.001995   \n",
       "7                                                NaN            137.140038   \n",
       "\n",
       "                                      fits_file_TESS  \\\n",
       "3  ../data/CARM_VIS_TESS_PGs/J23505-095_TESS_PG.fits   \n",
       "4                                                NaN   \n",
       "5  ../data/CARM_VIS_TESS_PGs/J23431+365_TESS_PG.fits   \n",
       "6                                                NaN   \n",
       "7  ../data/CARM_VIS_TESS_PGs/J23381-162_TESS_PG.fits   \n",
       "\n",
       "                                       fig_file_TESS  \n",
       "3  ../data/CARM_VIS_TESS_PGs/figures/J23505-095_T...  \n",
       "4                                                NaN  \n",
       "5  ../data/CARM_VIS_TESS_PGs/figures/J23431+365_T...  \n",
       "6                                                NaN  \n",
       "7  ../data/CARM_VIS_TESS_PGs/figures/J23381-162_T...  \n",
       "\n",
       "[5 rows x 248 columns]"
      ]
     },
     "execution_count": 19,
     "metadata": {},
     "output_type": "execute_result"
    }
   ],
   "source": [
    "selected_df = df[df['wrms_RV'] < MAX_RMS].copy()\n",
    "selected_df.head()"
   ]
  },
  {
   "cell_type": "code",
   "execution_count": 21,
   "id": "6f7d7c2e",
   "metadata": {
    "ExecuteTime": {
     "end_time": "2022-08-06T19:26:26.109068Z",
     "start_time": "2022-08-06T19:26:26.103084Z"
    }
   },
   "outputs": [
    {
     "data": {
      "text/plain": [
       "233"
      ]
     },
     "execution_count": 21,
     "metadata": {},
     "output_type": "execute_result"
    }
   ],
   "source": [
    "len(selected_df)"
   ]
  },
  {
   "cell_type": "markdown",
   "id": "b2dd7662",
   "metadata": {},
   "source": [
    "### Store the filtered results"
   ]
  },
  {
   "cell_type": "code",
   "execution_count": 25,
   "id": "a54804c5",
   "metadata": {
    "ExecuteTime": {
     "end_time": "2022-08-06T19:28:21.534466Z",
     "start_time": "2022-08-06T19:28:21.496296Z"
    }
   },
   "outputs": [],
   "source": [
    "selected_df.to_csv(OUTPUT_FILE_ML, sep=',', decimal='.', index=False)"
   ]
  },
  {
   "cell_type": "markdown",
   "id": "630a00ac",
   "metadata": {},
   "source": [
    "**Note:** no matter if RV periodograms were correctly calculated or not, although in this case all the selected objects have correctly calculated RV periodogrms."
   ]
  },
  {
   "cell_type": "code",
   "execution_count": 24,
   "id": "a1f1d11f",
   "metadata": {
    "ExecuteTime": {
     "end_time": "2022-08-06T19:28:13.946474Z",
     "start_time": "2022-08-06T19:28:13.925503Z"
    }
   },
   "outputs": [
    {
     "data": {
      "text/html": [
       "<div>\n",
       "<style scoped>\n",
       "    .dataframe tbody tr th:only-of-type {\n",
       "        vertical-align: middle;\n",
       "    }\n",
       "\n",
       "    .dataframe tbody tr th {\n",
       "        vertical-align: top;\n",
       "    }\n",
       "\n",
       "    .dataframe thead th {\n",
       "        text-align: right;\n",
       "    }\n",
       "</style>\n",
       "<table border=\"1\" class=\"dataframe\">\n",
       "  <thead>\n",
       "    <tr style=\"text-align: right;\">\n",
       "      <th></th>\n",
       "      <th>Karmn</th>\n",
       "      <th>Name</th>\n",
       "      <th>Comp</th>\n",
       "      <th>GJ</th>\n",
       "      <th>RA_J2016_deg</th>\n",
       "      <th>DE_J2016_deg</th>\n",
       "      <th>RA_J2000</th>\n",
       "      <th>DE_J2000</th>\n",
       "      <th>l_J2016_deg</th>\n",
       "      <th>b_J2016_deg</th>\n",
       "      <th>...</th>\n",
       "      <th>T0_PG_TESS</th>\n",
       "      <th>e_T0_PG_TESS</th>\n",
       "      <th>offset_PG_TESS</th>\n",
       "      <th>e_offset_PG_TESS</th>\n",
       "      <th>FAP_PG_TESS</th>\n",
       "      <th>valid_PG_TESS</th>\n",
       "      <th>error_PG_TESS</th>\n",
       "      <th>elapsed_time_PG_TESS</th>\n",
       "      <th>fits_file_TESS</th>\n",
       "      <th>fig_file_TESS</th>\n",
       "    </tr>\n",
       "  </thead>\n",
       "  <tbody>\n",
       "  </tbody>\n",
       "</table>\n",
       "<p>0 rows × 248 columns</p>\n",
       "</div>"
      ],
      "text/plain": [
       "Empty DataFrame\n",
       "Columns: [Karmn, Name, Comp, GJ, RA_J2016_deg, DE_J2016_deg, RA_J2000, DE_J2000, l_J2016_deg, b_J2016_deg, Ref01, SpT, SpTnum, Ref02, Teff_K, eTeff_K, logg, elogg, [Fe/H], e[Fe/H], Ref03, L_Lsol, eL_Lsol, Ref04, R_Rsol, eR_Rsol, Ref05, M_Msol, eM_Msol, Ref06, muRA_masa-1, emuRA_masa-1, muDE_masa-1, emuDE_masa-1, Ref07, pi_mas, epi_mas, Ref08, d_pc, ed_pc, Ref09, Vr_kms-1, eVr_kms-1, Ref10, ruwe, Ref11, U_kms-1, eU_kms-1, V_kms-1, eV_kms-1, W_kms-1, eW_kms-1, Ref12, sa_m/s/a, esa_m/s/a, Ref13, SKG, Ref14, SKG_lit, Ref14_lit, Pop, Ref15, vsini_flag, vsini_kms-1, evsini_kms-1, Ref16, P_d, eP_d, Ref17, pEWHalpha_A, epEWHalpha_A, Ref18, log(LHalpha/Lbol), elog(LHalpha/Lbol), Ref19, 1RXS, CRT_s-1, eCRT_s-1, HR1, eHR1, HR2, eHR2, Flux_X_E-13_ergcm-2s-1, eFlux_X_E-13_ergcm-2s-1, LX/LJ, eLX/LJ, Ref20, Activity, Ref21, FUV_mag, eFUV_mag, NUV_mag, eNUV_mag, Ref22, u_mag, eu_mag, Ref23, BT_mag, eBT_mag, Ref24, ...]\n",
       "Index: []\n",
       "\n",
       "[0 rows x 248 columns]"
      ]
     },
     "execution_count": 24,
     "metadata": {},
     "output_type": "execute_result"
    }
   ],
   "source": [
    "selected_df[selected_df['valid_PG_RV'] == 0.0]"
   ]
  },
  {
   "cell_type": "markdown",
   "id": "faeb83dc",
   "metadata": {},
   "source": [
    "Of these objects, in case we would like to combine periodograms with Machine Learning, we have the following objects with all the information:"
   ]
  },
  {
   "cell_type": "code",
   "execution_count": 26,
   "id": "f5b2a53f",
   "metadata": {
    "ExecuteTime": {
     "end_time": "2022-08-06T19:28:33.419089Z",
     "start_time": "2022-08-06T19:28:33.408120Z"
    }
   },
   "outputs": [
    {
     "data": {
      "text/plain": [
       "161"
      ]
     },
     "execution_count": 26,
     "metadata": {},
     "output_type": "execute_result"
    }
   ],
   "source": [
    "len(selected_df[(selected_df['valid_PG_RV'] == 1) & (selected_df['valid_PG_TESS'] == 1)])"
   ]
  },
  {
   "cell_type": "markdown",
   "id": "463d0215",
   "metadata": {},
   "source": [
    "# Summary"
   ]
  },
  {
   "cell_type": "markdown",
   "id": "5146b348",
   "metadata": {},
   "source": [
    "**OBSERVATIONS AND CONCLUSIONS:**\n",
    "From the 390 objects of the CARMENES NZP-corrected RV time series, we can use:\n",
    "- 265 objects for periodogram analysis (for them, both RV and _TESS_ periodograms are available).\n",
    "- 233 objects for Machine Learning analysis (objects with RMS < 5 $ms^{-1}$).\n",
    "- Maybe we can use just the more limited 161 objects with RMS < 5 $ms^{-1}$ for a combined Periodogram / Machine Learning analysis, as all the relevant information is available for these objects."
   ]
  },
  {
   "cell_type": "code",
   "execution_count": null,
   "id": "6a6bb827",
   "metadata": {},
   "outputs": [],
   "source": []
  }
 ],
 "metadata": {
  "kernelspec": {
   "display_name": "Python 3",
   "language": "python",
   "name": "python3"
  },
  "language_info": {
   "codemirror_mode": {
    "name": "ipython",
    "version": 3
   },
   "file_extension": ".py",
   "mimetype": "text/x-python",
   "name": "python",
   "nbconvert_exporter": "python",
   "pygments_lexer": "ipython3",
   "version": "3.8.8"
  },
  "latex_envs": {
   "LaTeX_envs_menu_present": true,
   "autoclose": false,
   "autocomplete": true,
   "bibliofile": "biblio.bib",
   "cite_by": "apalike",
   "current_citInitial": 1,
   "eqLabelWithNumbers": true,
   "eqNumInitial": 1,
   "hotkeys": {
    "equation": "Ctrl-E",
    "itemize": "Ctrl-I"
   },
   "labels_anchors": false,
   "latex_user_defs": false,
   "report_style_numbering": false,
   "user_envs_cfg": false
  },
  "toc": {
   "base_numbering": 1,
   "nav_menu": {},
   "number_sections": true,
   "sideBar": true,
   "skip_h1_title": true,
   "title_cell": "Table of Contents",
   "title_sidebar": "Contents",
   "toc_cell": false,
   "toc_position": {
    "height": "calc(100% - 180px)",
    "left": "10px",
    "top": "150px",
    "width": "384px"
   },
   "toc_section_display": true,
   "toc_window_display": true
  }
 },
 "nbformat": 4,
 "nbformat_minor": 5
}
