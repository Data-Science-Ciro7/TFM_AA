{
 "cells": [
  {
   "cell_type": "markdown",
   "id": "b5caaf89",
   "metadata": {},
   "source": [
    "# SHORT LIST OF CARM_VIS OBJECTS"
   ]
  },
  {
   "cell_type": "markdown",
   "id": "6972f1f2",
   "metadata": {},
   "source": [
    "This small notebook just gets and stores a short list of the CARM_VIS objets, making two subsamples:\n",
    "\n",
    "- The first one choosing those with the choosing only those that have correct GLS periodograms calculated. \n",
    "- For the second subsample, choose the RV curves with the lower RMS values (no matter if they have the GLS periodograms correctly calculated or not).\n"
   ]
  },
  {
   "cell_type": "markdown",
   "id": "48ee49ec",
   "metadata": {},
   "source": [
    "## Modules and configuration"
   ]
  },
  {
   "cell_type": "markdown",
   "id": "2a9d8662",
   "metadata": {},
   "source": [
    "### Modules"
   ]
  },
  {
   "cell_type": "code",
   "execution_count": 15,
   "id": "ce772529",
   "metadata": {
    "ExecuteTime": {
     "end_time": "2022-04-14T10:19:05.363389Z",
     "start_time": "2022-04-14T10:19:05.354407Z"
    }
   },
   "outputs": [],
   "source": [
    "import pandas as pd\n",
    "import numpy as np"
   ]
  },
  {
   "cell_type": "markdown",
   "id": "57f0b7d7",
   "metadata": {},
   "source": [
    "### Configuration"
   ]
  },
  {
   "cell_type": "code",
   "execution_count": 2,
   "id": "4268e282",
   "metadata": {
    "ExecuteTime": {
     "end_time": "2022-04-14T10:12:19.581126Z",
     "start_time": "2022-04-14T10:12:19.564170Z"
    }
   },
   "outputs": [],
   "source": [
    "INPUT_FILE = \"../data/GTO_objects_with_PG.csv\"\n",
    "OUTPUT_FILE = \"../data/SELECTION_GTO_objects_with_PG.csv\""
   ]
  },
  {
   "cell_type": "markdown",
   "id": "7d0118ea",
   "metadata": {},
   "source": [
    "##  Load the GTO objects"
   ]
  },
  {
   "cell_type": "code",
   "execution_count": 3,
   "id": "495a1038",
   "metadata": {
    "ExecuteTime": {
     "end_time": "2022-04-14T10:13:03.467699Z",
     "start_time": "2022-04-14T10:13:03.396754Z"
    }
   },
   "outputs": [
    {
     "data": {
      "text/html": [
       "<div>\n",
       "<style scoped>\n",
       "    .dataframe tbody tr th:only-of-type {\n",
       "        vertical-align: middle;\n",
       "    }\n",
       "\n",
       "    .dataframe tbody tr th {\n",
       "        vertical-align: top;\n",
       "    }\n",
       "\n",
       "    .dataframe thead th {\n",
       "        text-align: right;\n",
       "    }\n",
       "</style>\n",
       "<table border=\"1\" class=\"dataframe\">\n",
       "  <thead>\n",
       "    <tr style=\"text-align: right;\">\n",
       "      <th></th>\n",
       "      <th>Karmn</th>\n",
       "      <th>Name</th>\n",
       "      <th>Comp</th>\n",
       "      <th>GJ</th>\n",
       "      <th>RA_J2016_deg</th>\n",
       "      <th>DE_J2016_deg</th>\n",
       "      <th>RA_J2000</th>\n",
       "      <th>DE_J2000</th>\n",
       "      <th>l_J2016_deg</th>\n",
       "      <th>b_J2016_deg</th>\n",
       "      <th>...</th>\n",
       "      <th>T0_PG_TESS</th>\n",
       "      <th>e_T0_PG_TESS</th>\n",
       "      <th>offset_PG_TESS</th>\n",
       "      <th>e_offset_PG_TESS</th>\n",
       "      <th>FAP_PG_TESS</th>\n",
       "      <th>valid_PG_TESS</th>\n",
       "      <th>error_PG_TESS</th>\n",
       "      <th>elapsed_time_PG_TESS</th>\n",
       "      <th>fits_file_TESS</th>\n",
       "      <th>fig_file_TESS</th>\n",
       "    </tr>\n",
       "  </thead>\n",
       "  <tbody>\n",
       "    <tr>\n",
       "      <th>0</th>\n",
       "      <td>J23585+076</td>\n",
       "      <td>Wolf 1051</td>\n",
       "      <td>AB</td>\n",
       "      <td>4383</td>\n",
       "      <td>359.636420</td>\n",
       "      <td>7.656947</td>\n",
       "      <td>23:58:32.65</td>\n",
       "      <td>+07:39:30.1</td>\n",
       "      <td>100.839686</td>\n",
       "      <td>-52.931049</td>\n",
       "      <td>...</td>\n",
       "      <td>NaN</td>\n",
       "      <td>NaN</td>\n",
       "      <td>NaN</td>\n",
       "      <td>NaN</td>\n",
       "      <td>NaN</td>\n",
       "      <td>0.0</td>\n",
       "      <td>Not recognized as a supported data product:\\nn...</td>\n",
       "      <td>0.002199</td>\n",
       "      <td>NaN</td>\n",
       "      <td>NaN</td>\n",
       "    </tr>\n",
       "    <tr>\n",
       "      <th>1</th>\n",
       "      <td>J23556-061</td>\n",
       "      <td>GJ 912</td>\n",
       "      <td>AB</td>\n",
       "      <td>912</td>\n",
       "      <td>358.913617</td>\n",
       "      <td>-6.144283</td>\n",
       "      <td>23:55:39.78</td>\n",
       "      <td>-06:08:33.4</td>\n",
       "      <td>88.129933</td>\n",
       "      <td>-65.175491</td>\n",
       "      <td>...</td>\n",
       "      <td>NaN</td>\n",
       "      <td>NaN</td>\n",
       "      <td>NaN</td>\n",
       "      <td>NaN</td>\n",
       "      <td>NaN</td>\n",
       "      <td>0.0</td>\n",
       "      <td>Not recognized as a supported data product:\\nn...</td>\n",
       "      <td>0.000974</td>\n",
       "      <td>NaN</td>\n",
       "      <td>NaN</td>\n",
       "    </tr>\n",
       "    <tr>\n",
       "      <th>2</th>\n",
       "      <td>J23548+385</td>\n",
       "      <td>RX J2354.8+3831</td>\n",
       "      <td>-</td>\n",
       "      <td>NaN</td>\n",
       "      <td>358.713658</td>\n",
       "      <td>38.526340</td>\n",
       "      <td>23:54:51.46</td>\n",
       "      <td>+38:31:36.2</td>\n",
       "      <td>110.941908</td>\n",
       "      <td>-23.024449</td>\n",
       "      <td>...</td>\n",
       "      <td>1764.609498</td>\n",
       "      <td>0.010704</td>\n",
       "      <td>8262.219751</td>\n",
       "      <td>1.365667</td>\n",
       "      <td>1.000000</td>\n",
       "      <td>1.0</td>\n",
       "      <td>NaN</td>\n",
       "      <td>344.002685</td>\n",
       "      <td>../data/CARMENES_GTO_TESS_PGs/J23548+385_TESS_...</td>\n",
       "      <td>../data/CARMENES_GTO_TESS_PGs/figures/J23548+3...</td>\n",
       "    </tr>\n",
       "    <tr>\n",
       "      <th>3</th>\n",
       "      <td>J23505-095</td>\n",
       "      <td>LP 763-012</td>\n",
       "      <td>-</td>\n",
       "      <td>4367</td>\n",
       "      <td>357.634705</td>\n",
       "      <td>-9.560964</td>\n",
       "      <td>23:50:31.64</td>\n",
       "      <td>-09:33:32.7</td>\n",
       "      <td>80.777067</td>\n",
       "      <td>-67.303426</td>\n",
       "      <td>...</td>\n",
       "      <td>1354.108815</td>\n",
       "      <td>0.001261</td>\n",
       "      <td>7767.134654</td>\n",
       "      <td>0.094298</td>\n",
       "      <td>0.064148</td>\n",
       "      <td>1.0</td>\n",
       "      <td>NaN</td>\n",
       "      <td>473.533042</td>\n",
       "      <td>../data/CARMENES_GTO_TESS_PGs/J23505-095_TESS_...</td>\n",
       "      <td>../data/CARMENES_GTO_TESS_PGs/figures/J23505-0...</td>\n",
       "    </tr>\n",
       "    <tr>\n",
       "      <th>4</th>\n",
       "      <td>J23492+024</td>\n",
       "      <td>BR Psc</td>\n",
       "      <td>-</td>\n",
       "      <td>908</td>\n",
       "      <td>357.306604</td>\n",
       "      <td>2.396918</td>\n",
       "      <td>23:49:12.53</td>\n",
       "      <td>+02:24:04.4</td>\n",
       "      <td>93.567467</td>\n",
       "      <td>-56.885396</td>\n",
       "      <td>...</td>\n",
       "      <td>NaN</td>\n",
       "      <td>NaN</td>\n",
       "      <td>NaN</td>\n",
       "      <td>NaN</td>\n",
       "      <td>NaN</td>\n",
       "      <td>0.0</td>\n",
       "      <td>Not recognized as a supported data product:\\nn...</td>\n",
       "      <td>0.000984</td>\n",
       "      <td>NaN</td>\n",
       "      <td>NaN</td>\n",
       "    </tr>\n",
       "  </tbody>\n",
       "</table>\n",
       "<p>5 rows × 248 columns</p>\n",
       "</div>"
      ],
      "text/plain": [
       "        Karmn             Name Comp    GJ  RA_J2016_deg  DE_J2016_deg  \\\n",
       "0  J23585+076        Wolf 1051   AB  4383    359.636420      7.656947   \n",
       "1  J23556-061           GJ 912   AB   912    358.913617     -6.144283   \n",
       "2  J23548+385  RX J2354.8+3831    -   NaN    358.713658     38.526340   \n",
       "3  J23505-095       LP 763-012    -  4367    357.634705     -9.560964   \n",
       "4  J23492+024           BR Psc    -   908    357.306604      2.396918   \n",
       "\n",
       "      RA_J2000     DE_J2000  l_J2016_deg  b_J2016_deg  ...   T0_PG_TESS  \\\n",
       "0  23:58:32.65  +07:39:30.1   100.839686   -52.931049  ...          NaN   \n",
       "1  23:55:39.78  -06:08:33.4    88.129933   -65.175491  ...          NaN   \n",
       "2  23:54:51.46  +38:31:36.2   110.941908   -23.024449  ...  1764.609498   \n",
       "3  23:50:31.64  -09:33:32.7    80.777067   -67.303426  ...  1354.108815   \n",
       "4  23:49:12.53  +02:24:04.4    93.567467   -56.885396  ...          NaN   \n",
       "\n",
       "  e_T0_PG_TESS  offset_PG_TESS e_offset_PG_TESS  FAP_PG_TESS  valid_PG_TESS  \\\n",
       "0          NaN             NaN              NaN          NaN            0.0   \n",
       "1          NaN             NaN              NaN          NaN            0.0   \n",
       "2     0.010704     8262.219751         1.365667     1.000000            1.0   \n",
       "3     0.001261     7767.134654         0.094298     0.064148            1.0   \n",
       "4          NaN             NaN              NaN          NaN            0.0   \n",
       "\n",
       "                                       error_PG_TESS  elapsed_time_PG_TESS  \\\n",
       "0  Not recognized as a supported data product:\\nn...              0.002199   \n",
       "1  Not recognized as a supported data product:\\nn...              0.000974   \n",
       "2                                                NaN            344.002685   \n",
       "3                                                NaN            473.533042   \n",
       "4  Not recognized as a supported data product:\\nn...              0.000984   \n",
       "\n",
       "                                      fits_file_TESS  \\\n",
       "0                                                NaN   \n",
       "1                                                NaN   \n",
       "2  ../data/CARMENES_GTO_TESS_PGs/J23548+385_TESS_...   \n",
       "3  ../data/CARMENES_GTO_TESS_PGs/J23505-095_TESS_...   \n",
       "4                                                NaN   \n",
       "\n",
       "                                       fig_file_TESS  \n",
       "0                                                NaN  \n",
       "1                                                NaN  \n",
       "2  ../data/CARMENES_GTO_TESS_PGs/figures/J23548+3...  \n",
       "3  ../data/CARMENES_GTO_TESS_PGs/figures/J23505-0...  \n",
       "4                                                NaN  \n",
       "\n",
       "[5 rows x 248 columns]"
      ]
     },
     "execution_count": 3,
     "metadata": {},
     "output_type": "execute_result"
    }
   ],
   "source": [
    "df = pd.read_csv(INPUT_FILE, sep=',', decimal='.')\n",
    "df.head()"
   ]
  },
  {
   "cell_type": "code",
   "execution_count": 9,
   "id": "889820d7",
   "metadata": {
    "ExecuteTime": {
     "end_time": "2022-04-14T10:16:53.984164Z",
     "start_time": "2022-04-14T10:16:53.966216Z"
    }
   },
   "outputs": [
    {
     "name": "stdout",
     "output_type": "stream",
     "text": [
      "['Karmn', 'Name', 'Comp', 'GJ', 'RA_J2016_deg', 'DE_J2016_deg', 'RA_J2000', 'DE_J2000', 'l_J2016_deg', 'b_J2016_deg', 'Ref01', 'SpT', 'SpTnum', 'Ref02', 'Teff_K', 'eTeff_K', 'logg', 'elogg', '[Fe/H]', 'e[Fe/H]', 'Ref03', 'L_Lsol', 'eL_Lsol', 'Ref04', 'R_Rsol', 'eR_Rsol', 'Ref05', 'M_Msol', 'eM_Msol', 'Ref06', 'muRA_masa-1', 'emuRA_masa-1', 'muDE_masa-1', 'emuDE_masa-1', 'Ref07', 'pi_mas', 'epi_mas', 'Ref08', 'd_pc', 'ed_pc', 'Ref09', 'Vr_kms-1', 'eVr_kms-1', 'Ref10', 'ruwe', 'Ref11', 'U_kms-1', 'eU_kms-1', 'V_kms-1', 'eV_kms-1', 'W_kms-1', 'eW_kms-1', 'Ref12', 'sa_m/s/a', 'esa_m/s/a', 'Ref13', 'SKG', 'Ref14', 'SKG_lit', 'Ref14_lit', 'Pop', 'Ref15', 'vsini_flag', 'vsini_kms-1', 'evsini_kms-1', 'Ref16', 'P_d', 'eP_d', 'Ref17', 'pEWHalpha_A', 'epEWHalpha_A', 'Ref18', 'log(LHalpha/Lbol)', 'elog(LHalpha/Lbol)', 'Ref19', '1RXS', 'CRT_s-1', 'eCRT_s-1', 'HR1', 'eHR1', 'HR2', 'eHR2', 'Flux_X_E-13_ergcm-2s-1', 'eFlux_X_E-13_ergcm-2s-1', 'LX/LJ', 'eLX/LJ', 'Ref20', 'Activity', 'Ref21', 'FUV_mag', 'eFUV_mag', 'NUV_mag', 'eNUV_mag', 'Ref22', 'u_mag', 'eu_mag', 'Ref23', 'BT_mag', 'eBT_mag', 'Ref24', 'B_mag', 'eB_mag', 'Ref25', 'BP_mag', 'eBP_mag', 'Ref26', 'g_mag', 'eg_mag', 'Ref27', 'VT_mag', 'eVT_mag', 'Ref28', 'V_mag', 'eV_mag', 'Ref29', 'Ra_mag', 'Ref30', 'r_mag', 'er_mag', 'Ref31', 'GG_mag', 'eGG_mag', 'Ref32', 'i_mag', 'ei_mag', 'Ref33', 'RP_mag', 'eRP_mag', 'Ref34', 'IN_mag', 'Ref35', 'J_mag', 'eJ_mag', 'H_mag', 'eH_mag', 'Ks_mag', 'eKs_mag', 'QFlag_2M', 'Ref36', 'W1_mag', 'eW1_mag', 'W2_mag', 'eW2_mag', 'W3_mag', 'eW3_mag', 'W4_mag', 'eW4_mag', 'QFlag_WISE', 'Ref37', 'Multiplicity', 'WideWDS', 'Widerho_arcsec', 'eWiderho_arcsec', 'Ref38', 'WideCompanionName', 'WideCompanionSpT', 'CloseWDS', 'Closerho_arcsec', 'eCloserho_arcsec', 'Ref39', 'CloseCompanionSpT', 'RV', 'Planet', 'Ref40', 'PlanetNum', 'LoRes_spectrum', 'HiRes_spectrum', 'LoRes_imaging', 'HiRes_imaging', 'Class', 'Survey', 'Notes', 'Gaia_id_1', '2MASS_id', 'TIC_id', 'Teff_min_K', 'Teff_max_K', 'logg_min', 'logg_max', 'is_GTO', 'rv_file', 'lc_file', 'has_rv', 'has_lc', 'InstBand_nominal', 'InstBand_ranged', 'n_RV', 'Ps_RV', 'fs_RV', 'wmean_RV', 'wrms_RV', 'info_PG_RV', 'maxP_PG_RV', 'maxSNR_PG_RV', 'rms_PG_RV', 'f_PG_RV', 'e_f_PG_RV', 'Pd_PG_RV', 'e_Pd_PG_RV', 'Ph_PG_RV', 'e_Ph_PG_RV', 'Pm_PG_RV', 'e_Pm_PG_RV', 'A_PG_RV', 'e_A_PG_RV', 'ph_PG_RV', 'e_ph_PG_RV', 'T0_PG_RV', 'e_T0_PG_RV', 'offset_PG_RV', 'e_offset_PG_RV', 'FAP_PG_RV', 'valid_PG_RV', 'error_PG_RV', 'elapsed_time_PG_RV', 'fits_file_RV', 'fig_file_RV', 'n_TESS', 'Ps_TESS', 'fs_TESS', 'wmean_TESS', 'wrms_TESS', 'info_PG_TESS', 'maxP_PG_TESS', 'maxSNR_PG_TESS', 'rms_PG_TESS', 'f_PG_TESS', 'e_f_PG_TESS', 'Pd_PG_TESS', 'e_Pd_PG_TESS', 'Ph_PG_TESS', 'e_Ph_PG_TESS', 'Pm_PG_TESS', 'e_Pm_PG_TESS', 'A_PG_TESS', 'e_A_PG_TESS', 'ph_PG_TESS', 'e_ph_PG_TESS', 'T0_PG_TESS', 'e_T0_PG_TESS', 'offset_PG_TESS', 'e_offset_PG_TESS', 'FAP_PG_TESS', 'valid_PG_TESS', 'error_PG_TESS', 'elapsed_time_PG_TESS', 'fits_file_TESS', 'fig_file_TESS']\n"
     ]
    }
   ],
   "source": [
    "print(list(df.columns))"
   ]
  },
  {
   "cell_type": "code",
   "execution_count": 13,
   "id": "46ee0f37",
   "metadata": {
    "ExecuteTime": {
     "end_time": "2022-04-14T10:18:45.566270Z",
     "start_time": "2022-04-14T10:18:45.547176Z"
    }
   },
   "outputs": [
    {
     "data": {
      "text/plain": [
       "0                                                    NaN\n",
       "1                                                    NaN\n",
       "2      ../data/CARMENES_GTO_TESS_lc/lightcurves/J2354...\n",
       "3      ../data/CARMENES_GTO_TESS_lc/lightcurves/J2350...\n",
       "4                                                    NaN\n",
       "                             ...                        \n",
       "358    ../data/CARMENES_GTO_TESS_lc/lightcurves/J0028...\n",
       "359                                                  NaN\n",
       "360    ../data/CARMENES_GTO_TESS_lc/lightcurves/J0018...\n",
       "361                                                  NaN\n",
       "362    ../data/CARMENES_GTO_TESS_lc/lightcurves/J0005...\n",
       "Name: lc_file, Length: 363, dtype: object"
      ]
     },
     "execution_count": 13,
     "metadata": {},
     "output_type": "execute_result"
    }
   ],
   "source": [
    "df['lc_file']"
   ]
  },
  {
   "cell_type": "markdown",
   "id": "68e0441e",
   "metadata": {},
   "source": [
    "Number of GTO objects without an RV file name:"
   ]
  },
  {
   "cell_type": "code",
   "execution_count": 19,
   "id": "1f6417a8",
   "metadata": {
    "ExecuteTime": {
     "end_time": "2022-04-14T10:19:32.612071Z",
     "start_time": "2022-04-14T10:19:32.603095Z"
    }
   },
   "outputs": [
    {
     "data": {
      "text/plain": [
       "0"
      ]
     },
     "execution_count": 19,
     "metadata": {},
     "output_type": "execute_result"
    }
   ],
   "source": [
    "sum(df['rv_file'].isna())"
   ]
  },
  {
   "cell_type": "markdown",
   "id": "996aad6e",
   "metadata": {},
   "source": [
    "Number of GTO objects without an LC file name:"
   ]
  },
  {
   "cell_type": "code",
   "execution_count": 20,
   "id": "e4f97911",
   "metadata": {
    "ExecuteTime": {
     "end_time": "2022-04-14T10:20:01.741281Z",
     "start_time": "2022-04-14T10:20:01.737291Z"
    }
   },
   "outputs": [
    {
     "data": {
      "text/plain": [
       "110"
      ]
     },
     "execution_count": 20,
     "metadata": {},
     "output_type": "execute_result"
    }
   ],
   "source": [
    "sum(df['lc_file'].isna())"
   ]
  },
  {
   "cell_type": "markdown",
   "id": "5d12f5a7",
   "metadata": {},
   "source": [
    "## Select the GTO object with valid PG calculated"
   ]
  },
  {
   "cell_type": "markdown",
   "id": "2b51a328",
   "metadata": {},
   "source": [
    "Total number of GTO objects in the original table:"
   ]
  },
  {
   "cell_type": "code",
   "execution_count": 5,
   "id": "773a1071",
   "metadata": {
    "ExecuteTime": {
     "end_time": "2022-04-14T10:13:48.849380Z",
     "start_time": "2022-04-14T10:13:48.843395Z"
    }
   },
   "outputs": [
    {
     "data": {
      "text/plain": [
       "363"
      ]
     },
     "execution_count": 5,
     "metadata": {},
     "output_type": "execute_result"
    }
   ],
   "source": [
    "len(df)"
   ]
  },
  {
   "cell_type": "markdown",
   "id": "3f1cab8d",
   "metadata": {},
   "source": [
    "Number of GTO objects with correctly calculated periodogram for CARMENES RV curves:"
   ]
  },
  {
   "cell_type": "code",
   "execution_count": 7,
   "id": "8c44a80b",
   "metadata": {
    "ExecuteTime": {
     "end_time": "2022-04-14T10:15:23.447742Z",
     "start_time": "2022-04-14T10:15:23.423914Z"
    },
    "scrolled": true
   },
   "outputs": [
    {
     "data": {
      "text/plain": [
       "355"
      ]
     },
     "execution_count": 7,
     "metadata": {},
     "output_type": "execute_result"
    }
   ],
   "source": [
    "len(df[df['valid_PG_RV'] == 1.0])"
   ]
  },
  {
   "cell_type": "markdown",
   "id": "e1889948",
   "metadata": {},
   "source": [
    "Number of GTO objects with correctly calculated periodogram for TESS LC:"
   ]
  },
  {
   "cell_type": "code",
   "execution_count": 8,
   "id": "a6bd82c7",
   "metadata": {
    "ExecuteTime": {
     "end_time": "2022-04-14T10:15:50.055768Z",
     "start_time": "2022-04-14T10:15:50.042804Z"
    }
   },
   "outputs": [
    {
     "data": {
      "text/plain": [
       "246"
      ]
     },
     "execution_count": 8,
     "metadata": {},
     "output_type": "execute_result"
    }
   ],
   "source": [
    "len(df[df['valid_PG_TESS'] == 1.0])"
   ]
  },
  {
   "cell_type": "markdown",
   "id": "3dab782b",
   "metadata": {},
   "source": [
    "Combined number of GTO objects with correctly calculated periodograms for both CARMENES RV curves and TESS LC:"
   ]
  },
  {
   "cell_type": "code",
   "execution_count": 21,
   "id": "fe6e3553",
   "metadata": {
    "ExecuteTime": {
     "end_time": "2022-04-14T10:21:32.726973Z",
     "start_time": "2022-04-14T10:21:32.708023Z"
    }
   },
   "outputs": [
    {
     "data": {
      "text/plain": [
       "239"
      ]
     },
     "execution_count": 21,
     "metadata": {},
     "output_type": "execute_result"
    }
   ],
   "source": [
    "len(df[(df['valid_PG_RV'] == 1.0) & (df['valid_PG_TESS'] == 1.0)])"
   ]
  },
  {
   "cell_type": "markdown",
   "id": "99a5a12d",
   "metadata": {},
   "source": [
    "These 239 object will be the main target of the analysis:"
   ]
  },
  {
   "cell_type": "code",
   "execution_count": 22,
   "id": "0e0dc8b0",
   "metadata": {
    "ExecuteTime": {
     "end_time": "2022-04-14T10:22:37.506381Z",
     "start_time": "2022-04-14T10:22:37.481446Z"
    }
   },
   "outputs": [
    {
     "data": {
      "text/html": [
       "<div>\n",
       "<style scoped>\n",
       "    .dataframe tbody tr th:only-of-type {\n",
       "        vertical-align: middle;\n",
       "    }\n",
       "\n",
       "    .dataframe tbody tr th {\n",
       "        vertical-align: top;\n",
       "    }\n",
       "\n",
       "    .dataframe thead th {\n",
       "        text-align: right;\n",
       "    }\n",
       "</style>\n",
       "<table border=\"1\" class=\"dataframe\">\n",
       "  <thead>\n",
       "    <tr style=\"text-align: right;\">\n",
       "      <th></th>\n",
       "      <th>Karmn</th>\n",
       "      <th>Name</th>\n",
       "      <th>Comp</th>\n",
       "      <th>GJ</th>\n",
       "      <th>RA_J2016_deg</th>\n",
       "      <th>DE_J2016_deg</th>\n",
       "      <th>RA_J2000</th>\n",
       "      <th>DE_J2000</th>\n",
       "      <th>l_J2016_deg</th>\n",
       "      <th>b_J2016_deg</th>\n",
       "      <th>...</th>\n",
       "      <th>T0_PG_TESS</th>\n",
       "      <th>e_T0_PG_TESS</th>\n",
       "      <th>offset_PG_TESS</th>\n",
       "      <th>e_offset_PG_TESS</th>\n",
       "      <th>FAP_PG_TESS</th>\n",
       "      <th>valid_PG_TESS</th>\n",
       "      <th>error_PG_TESS</th>\n",
       "      <th>elapsed_time_PG_TESS</th>\n",
       "      <th>fits_file_TESS</th>\n",
       "      <th>fig_file_TESS</th>\n",
       "    </tr>\n",
       "  </thead>\n",
       "  <tbody>\n",
       "    <tr>\n",
       "      <th>2</th>\n",
       "      <td>J23548+385</td>\n",
       "      <td>RX J2354.8+3831</td>\n",
       "      <td>-</td>\n",
       "      <td>NaN</td>\n",
       "      <td>358.713658</td>\n",
       "      <td>38.526340</td>\n",
       "      <td>23:54:51.46</td>\n",
       "      <td>+38:31:36.2</td>\n",
       "      <td>110.941908</td>\n",
       "      <td>-23.024449</td>\n",
       "      <td>...</td>\n",
       "      <td>1764.609498</td>\n",
       "      <td>0.010704</td>\n",
       "      <td>8262.219751</td>\n",
       "      <td>1.365667</td>\n",
       "      <td>1.000000</td>\n",
       "      <td>1.0</td>\n",
       "      <td>NaN</td>\n",
       "      <td>344.002685</td>\n",
       "      <td>../data/CARMENES_GTO_TESS_PGs/J23548+385_TESS_...</td>\n",
       "      <td>../data/CARMENES_GTO_TESS_PGs/figures/J23548+3...</td>\n",
       "    </tr>\n",
       "    <tr>\n",
       "      <th>3</th>\n",
       "      <td>J23505-095</td>\n",
       "      <td>LP 763-012</td>\n",
       "      <td>-</td>\n",
       "      <td>4367</td>\n",
       "      <td>357.634705</td>\n",
       "      <td>-9.560964</td>\n",
       "      <td>23:50:31.64</td>\n",
       "      <td>-09:33:32.7</td>\n",
       "      <td>80.777067</td>\n",
       "      <td>-67.303426</td>\n",
       "      <td>...</td>\n",
       "      <td>1354.108815</td>\n",
       "      <td>0.001261</td>\n",
       "      <td>7767.134654</td>\n",
       "      <td>0.094298</td>\n",
       "      <td>0.064148</td>\n",
       "      <td>1.0</td>\n",
       "      <td>NaN</td>\n",
       "      <td>473.533042</td>\n",
       "      <td>../data/CARMENES_GTO_TESS_PGs/J23505-095_TESS_...</td>\n",
       "      <td>../data/CARMENES_GTO_TESS_PGs/figures/J23505-0...</td>\n",
       "    </tr>\n",
       "    <tr>\n",
       "      <th>5</th>\n",
       "      <td>J23431+365</td>\n",
       "      <td>GJ 1289</td>\n",
       "      <td>-</td>\n",
       "      <td>1289</td>\n",
       "      <td>355.781509</td>\n",
       "      <td>36.536310</td>\n",
       "      <td>23:43:06.31</td>\n",
       "      <td>+36:32:13.1</td>\n",
       "      <td>107.922839</td>\n",
       "      <td>-24.336479</td>\n",
       "      <td>...</td>\n",
       "      <td>1764.717539</td>\n",
       "      <td>0.003720</td>\n",
       "      <td>16158.288258</td>\n",
       "      <td>0.164698</td>\n",
       "      <td>0.002785</td>\n",
       "      <td>1.0</td>\n",
       "      <td>NaN</td>\n",
       "      <td>352.262793</td>\n",
       "      <td>../data/CARMENES_GTO_TESS_PGs/J23431+365_TESS_...</td>\n",
       "      <td>../data/CARMENES_GTO_TESS_PGs/figures/J23431+3...</td>\n",
       "    </tr>\n",
       "    <tr>\n",
       "      <th>7</th>\n",
       "      <td>J23381-162</td>\n",
       "      <td>G 273-093</td>\n",
       "      <td>-</td>\n",
       "      <td>4352</td>\n",
       "      <td>354.532687</td>\n",
       "      <td>-16.236514</td>\n",
       "      <td>23:38:08.16</td>\n",
       "      <td>-16:14:10.2</td>\n",
       "      <td>61.845437</td>\n",
       "      <td>-69.825220</td>\n",
       "      <td>...</td>\n",
       "      <td>1354.111098</td>\n",
       "      <td>0.000422</td>\n",
       "      <td>30353.147900</td>\n",
       "      <td>0.175123</td>\n",
       "      <td>0.031223</td>\n",
       "      <td>1.0</td>\n",
       "      <td>NaN</td>\n",
       "      <td>485.008036</td>\n",
       "      <td>../data/CARMENES_GTO_TESS_PGs/J23381-162_TESS_...</td>\n",
       "      <td>../data/CARMENES_GTO_TESS_PGs/figures/J23381-1...</td>\n",
       "    </tr>\n",
       "    <tr>\n",
       "      <th>10</th>\n",
       "      <td>J23245+578</td>\n",
       "      <td>BD+57 2735</td>\n",
       "      <td>-</td>\n",
       "      <td>895</td>\n",
       "      <td>351.126628</td>\n",
       "      <td>57.853057</td>\n",
       "      <td>23:24:30.51</td>\n",
       "      <td>+57:51:15.5</td>\n",
       "      <td>111.552287</td>\n",
       "      <td>-3.085183</td>\n",
       "      <td>...</td>\n",
       "      <td>1955.800582</td>\n",
       "      <td>0.001420</td>\n",
       "      <td>84823.865767</td>\n",
       "      <td>0.391298</td>\n",
       "      <td>0.799167</td>\n",
       "      <td>1.0</td>\n",
       "      <td>NaN</td>\n",
       "      <td>476.798646</td>\n",
       "      <td>../data/CARMENES_GTO_TESS_PGs/J23245+578_TESS_...</td>\n",
       "      <td>../data/CARMENES_GTO_TESS_PGs/figures/J23245+5...</td>\n",
       "    </tr>\n",
       "  </tbody>\n",
       "</table>\n",
       "<p>5 rows × 248 columns</p>\n",
       "</div>"
      ],
      "text/plain": [
       "         Karmn             Name Comp    GJ  RA_J2016_deg  DE_J2016_deg  \\\n",
       "2   J23548+385  RX J2354.8+3831    -   NaN    358.713658     38.526340   \n",
       "3   J23505-095       LP 763-012    -  4367    357.634705     -9.560964   \n",
       "5   J23431+365          GJ 1289    -  1289    355.781509     36.536310   \n",
       "7   J23381-162        G 273-093    -  4352    354.532687    -16.236514   \n",
       "10  J23245+578       BD+57 2735    -   895    351.126628     57.853057   \n",
       "\n",
       "       RA_J2000     DE_J2000  l_J2016_deg  b_J2016_deg  ...   T0_PG_TESS  \\\n",
       "2   23:54:51.46  +38:31:36.2   110.941908   -23.024449  ...  1764.609498   \n",
       "3   23:50:31.64  -09:33:32.7    80.777067   -67.303426  ...  1354.108815   \n",
       "5   23:43:06.31  +36:32:13.1   107.922839   -24.336479  ...  1764.717539   \n",
       "7   23:38:08.16  -16:14:10.2    61.845437   -69.825220  ...  1354.111098   \n",
       "10  23:24:30.51  +57:51:15.5   111.552287    -3.085183  ...  1955.800582   \n",
       "\n",
       "   e_T0_PG_TESS  offset_PG_TESS e_offset_PG_TESS  FAP_PG_TESS  valid_PG_TESS  \\\n",
       "2      0.010704     8262.219751         1.365667     1.000000            1.0   \n",
       "3      0.001261     7767.134654         0.094298     0.064148            1.0   \n",
       "5      0.003720    16158.288258         0.164698     0.002785            1.0   \n",
       "7      0.000422    30353.147900         0.175123     0.031223            1.0   \n",
       "10     0.001420    84823.865767         0.391298     0.799167            1.0   \n",
       "\n",
       "    error_PG_TESS  elapsed_time_PG_TESS  \\\n",
       "2             NaN            344.002685   \n",
       "3             NaN            473.533042   \n",
       "5             NaN            352.262793   \n",
       "7             NaN            485.008036   \n",
       "10            NaN            476.798646   \n",
       "\n",
       "                                       fits_file_TESS  \\\n",
       "2   ../data/CARMENES_GTO_TESS_PGs/J23548+385_TESS_...   \n",
       "3   ../data/CARMENES_GTO_TESS_PGs/J23505-095_TESS_...   \n",
       "5   ../data/CARMENES_GTO_TESS_PGs/J23431+365_TESS_...   \n",
       "7   ../data/CARMENES_GTO_TESS_PGs/J23381-162_TESS_...   \n",
       "10  ../data/CARMENES_GTO_TESS_PGs/J23245+578_TESS_...   \n",
       "\n",
       "                                        fig_file_TESS  \n",
       "2   ../data/CARMENES_GTO_TESS_PGs/figures/J23548+3...  \n",
       "3   ../data/CARMENES_GTO_TESS_PGs/figures/J23505-0...  \n",
       "5   ../data/CARMENES_GTO_TESS_PGs/figures/J23431+3...  \n",
       "7   ../data/CARMENES_GTO_TESS_PGs/figures/J23381-1...  \n",
       "10  ../data/CARMENES_GTO_TESS_PGs/figures/J23245+5...  \n",
       "\n",
       "[5 rows x 248 columns]"
      ]
     },
     "execution_count": 22,
     "metadata": {},
     "output_type": "execute_result"
    }
   ],
   "source": [
    "selected_df = df[(df['valid_PG_RV'] == 1.0) & (df['valid_PG_TESS'] == 1.0)].copy()\n",
    "selected_df.head()"
   ]
  },
  {
   "cell_type": "markdown",
   "id": "97734f36",
   "metadata": {},
   "source": [
    "## Store the filtered results"
   ]
  },
  {
   "cell_type": "code",
   "execution_count": 23,
   "id": "c49a5fa3",
   "metadata": {
    "ExecuteTime": {
     "end_time": "2022-04-14T10:24:02.797667Z",
     "start_time": "2022-04-14T10:24:02.739522Z"
    }
   },
   "outputs": [],
   "source": [
    "selected_df.to_csv(OUTPUT_FILE, sep=',', decimal='.', index=False)"
   ]
  },
  {
   "cell_type": "markdown",
   "id": "4d7261d8",
   "metadata": {},
   "source": [
    "# Summary"
   ]
  },
  {
   "cell_type": "markdown",
   "id": "6bc9d787",
   "metadata": {},
   "source": [
    "**OBSERVATIONS AND CONCLUSIONS:**\n",
    "- We have 239 GTO objects for which we were able to correctly calculate the periodograms for both CARMENES RV curves and TESS Light Curves.\n",
    "- These 239 objects will be the source data to compare the results obtained for both types of curves, and also for further analysis."
   ]
  },
  {
   "cell_type": "code",
   "execution_count": null,
   "id": "6a6bb827",
   "metadata": {},
   "outputs": [],
   "source": []
  }
 ],
 "metadata": {
  "kernelspec": {
   "display_name": "Python 3",
   "language": "python",
   "name": "python3"
  },
  "language_info": {
   "codemirror_mode": {
    "name": "ipython",
    "version": 3
   },
   "file_extension": ".py",
   "mimetype": "text/x-python",
   "name": "python",
   "nbconvert_exporter": "python",
   "pygments_lexer": "ipython3",
   "version": "3.8.8"
  },
  "toc": {
   "base_numbering": 1,
   "nav_menu": {},
   "number_sections": true,
   "sideBar": true,
   "skip_h1_title": true,
   "title_cell": "Table of Contents",
   "title_sidebar": "Contents",
   "toc_cell": false,
   "toc_position": {
    "height": "calc(100% - 180px)",
    "left": "10px",
    "top": "150px",
    "width": "384px"
   },
   "toc_section_display": true,
   "toc_window_display": true
  }
 },
 "nbformat": 4,
 "nbformat_minor": 5
}
