{
 "cells": [
  {
   "cell_type": "markdown",
   "id": "7e41b9a9",
   "metadata": {},
   "source": [
    "# CARMENES / GTO DATABASE LOADING AND INSPECTION\n",
    "**Purpose:** locating GTO objects in instability strips and check for missing light curve data\n",
    "(With pandas)"
   ]
  },
  {
   "cell_type": "markdown",
   "id": "9d4512e5",
   "metadata": {},
   "source": [
    "## Modules and configuration"
   ]
  },
  {
   "cell_type": "markdown",
   "id": "a24b300e",
   "metadata": {},
   "source": [
    "### Modules"
   ]
  },
  {
   "cell_type": "code",
   "execution_count": 1,
   "id": "bf7cc337",
   "metadata": {
    "ExecuteTime": {
     "end_time": "2022-03-14T19:40:06.926076Z",
     "start_time": "2022-03-14T19:40:05.994824Z"
    }
   },
   "outputs": [],
   "source": [
    "# Modules import:\n",
    "import numpy as np\n",
    "\n",
    "import pandas as pd\n",
    "from os import listdir\n",
    "from os.path import isfile, join\n",
    "\n",
    "import matplotlib.pyplot as plt\n",
    "import matplotlib.patches as mpatches\n",
    "\n",
    "import seaborn as sns\n",
    "sns.set_style(\"white\", {'figure.figsize':(15,10)})\n",
    "#sns.set_style(\"whitegrid\")\n",
    "#sns.set(rc={'figure.figsize':(15,8)})"
   ]
  },
  {
   "cell_type": "markdown",
   "id": "be1f4594",
   "metadata": {},
   "source": [
    "### Configuration"
   ]
  },
  {
   "cell_type": "code",
   "execution_count": 2,
   "id": "f3feca3c",
   "metadata": {
    "ExecuteTime": {
     "end_time": "2022-03-14T19:40:06.942033Z",
     "start_time": "2022-03-14T19:40:06.927092Z"
    }
   },
   "outputs": [],
   "source": [
    "# Configuration:\n",
    "# Files:\n",
    "INPUT_FILE = \"../data/carmencita.102_mod.csv\"\n",
    "SYNTH_POP_FILE = \"../data/Auxiliary_data/ETLed__NoLimit_TFM_02_MW_2022-01-13-19-18-22_hdr.csv\"\n",
    "OUTPUT_FILE = \"../data/carmencita.102_mod.csv\"\n",
    "GTO_OUTPUT_FILE = \"../data/GTO_objects.csv\"\n",
    "GTO_NAN_RECORD_FILE = \"../data/GTO_NaN_logg_objects.csv\"\n",
    "GTO_NAN_FILE = \"../data/GTO_NaN_Count.csv\"\n",
    "GTO_NO_LC_FILE = \"../data/GTO_With_no_LC_Data.csv\"\n",
    "\n",
    "IMAGE_NOMINAL_OUT = \"./img/ETL_10_01_GTO_Instability_bands_Nominal.png\"\n",
    "IMAGE_RANGED_OUT = \"./img/ETL_10_02_GTO_Instability_bands_Ranged.png\"\n",
    "IMAGE_RANGED_OUT_FULL_HR = \"./img/ETL_10_03_GTO_Instability_bands_Ranged_Full_HR.png\"\n",
    "IMAGE_NO_LC_GTO_LOCATION = \"./img/ETL_10_04_Location_of_GTO_without_LC.png\"\n",
    "IMAGE_HR_TEFF = \"./img/ETL_10_05_Carmenes_objects_in_HR_diagram.png\"\n",
    "\n",
    "# Instability bands:\n",
    "INST_B = {\n",
    "    'D-burning': {\n",
    "        'logg': {\n",
    "            'min': 3.1,\n",
    "            'max': 3.6\n",
    "        },\n",
    "        'Teff': {\n",
    "            'min': 2800,\n",
    "            'max': 3500\n",
    "        }\n",
    "    },\n",
    "    'He3-burning': {\n",
    "        'logg': {\n",
    "            'min': 4.5,\n",
    "            'max': 5.1\n",
    "        },\n",
    "        'Teff': {\n",
    "            'min': 3300,\n",
    "            'max': 4300\n",
    "        }\n",
    "    }\n",
    "}\n",
    "\n",
    "# Star physical parameters:\n",
    "PHYS_PARAMS = []\n",
    "\n"
   ]
  },
  {
   "cell_type": "markdown",
   "id": "e60c8e8d",
   "metadata": {},
   "source": [
    "## Data loading"
   ]
  },
  {
   "cell_type": "markdown",
   "id": "779f4835",
   "metadata": {},
   "source": [
    "### Load CARMENES data"
   ]
  },
  {
   "cell_type": "code",
   "execution_count": 3,
   "id": "63b338bd",
   "metadata": {
    "ExecuteTime": {
     "end_time": "2022-03-14T19:40:07.021820Z",
     "start_time": "2022-03-14T19:40:06.943030Z"
    }
   },
   "outputs": [
    {
     "data": {
      "text/html": [
       "<div>\n",
       "<style scoped>\n",
       "    .dataframe tbody tr th:only-of-type {\n",
       "        vertical-align: middle;\n",
       "    }\n",
       "\n",
       "    .dataframe tbody tr th {\n",
       "        vertical-align: top;\n",
       "    }\n",
       "\n",
       "    .dataframe thead th {\n",
       "        text-align: right;\n",
       "    }\n",
       "</style>\n",
       "<table border=\"1\" class=\"dataframe\">\n",
       "  <thead>\n",
       "    <tr style=\"text-align: right;\">\n",
       "      <th></th>\n",
       "      <th>Karmn</th>\n",
       "      <th>Name</th>\n",
       "      <th>Comp</th>\n",
       "      <th>GJ</th>\n",
       "      <th>RA_J2016_deg</th>\n",
       "      <th>DE_J2016_deg</th>\n",
       "      <th>RA_J2000</th>\n",
       "      <th>DE_J2000</th>\n",
       "      <th>l_J2016_deg</th>\n",
       "      <th>b_J2016_deg</th>\n",
       "      <th>...</th>\n",
       "      <th>Teff_max_K</th>\n",
       "      <th>logg_min</th>\n",
       "      <th>logg_max</th>\n",
       "      <th>is_GTO</th>\n",
       "      <th>rv_file</th>\n",
       "      <th>lc_file</th>\n",
       "      <th>has_rv</th>\n",
       "      <th>has_lc</th>\n",
       "      <th>InstBand_nominal</th>\n",
       "      <th>InstBand_ranged</th>\n",
       "    </tr>\n",
       "  </thead>\n",
       "  <tbody>\n",
       "    <tr>\n",
       "      <th>0</th>\n",
       "      <td>J23598+477</td>\n",
       "      <td>LP 149-014</td>\n",
       "      <td>-</td>\n",
       "      <td>4385</td>\n",
       "      <td>359.962056</td>\n",
       "      <td>47.761478</td>\n",
       "      <td>23:59:49.51</td>\n",
       "      <td>+47:45:44.5</td>\n",
       "      <td>114.027674</td>\n",
       "      <td>-14.216353</td>\n",
       "      <td>...</td>\n",
       "      <td>3050.0</td>\n",
       "      <td>4.50</td>\n",
       "      <td>5.50</td>\n",
       "      <td>False</td>\n",
       "      <td>NaN</td>\n",
       "      <td>NaN</td>\n",
       "      <td>False</td>\n",
       "      <td>False</td>\n",
       "      <td>none</td>\n",
       "      <td>none</td>\n",
       "    </tr>\n",
       "    <tr>\n",
       "      <th>1</th>\n",
       "      <td>J23590+208</td>\n",
       "      <td>G 129-051</td>\n",
       "      <td>-</td>\n",
       "      <td>NaN</td>\n",
       "      <td>359.753066</td>\n",
       "      <td>20.860336</td>\n",
       "      <td>23:59:00.42</td>\n",
       "      <td>+20:51:39.0</td>\n",
       "      <td>106.785616</td>\n",
       "      <td>-40.361996</td>\n",
       "      <td>...</td>\n",
       "      <td>NaN</td>\n",
       "      <td>NaN</td>\n",
       "      <td>NaN</td>\n",
       "      <td>False</td>\n",
       "      <td>NaN</td>\n",
       "      <td>NaN</td>\n",
       "      <td>False</td>\n",
       "      <td>False</td>\n",
       "      <td>none</td>\n",
       "      <td>none</td>\n",
       "    </tr>\n",
       "    <tr>\n",
       "      <th>2</th>\n",
       "      <td>J23587+467</td>\n",
       "      <td>BD+45 4378 AB</td>\n",
       "      <td>AB</td>\n",
       "      <td>913</td>\n",
       "      <td>359.685432</td>\n",
       "      <td>46.729152</td>\n",
       "      <td>23:58:43.49</td>\n",
       "      <td>+46:43:44.7</td>\n",
       "      <td>113.616244</td>\n",
       "      <td>-15.187224</td>\n",
       "      <td>...</td>\n",
       "      <td>NaN</td>\n",
       "      <td>NaN</td>\n",
       "      <td>NaN</td>\n",
       "      <td>False</td>\n",
       "      <td>NaN</td>\n",
       "      <td>NaN</td>\n",
       "      <td>False</td>\n",
       "      <td>False</td>\n",
       "      <td>none</td>\n",
       "      <td>none</td>\n",
       "    </tr>\n",
       "    <tr>\n",
       "      <th>3</th>\n",
       "      <td>J23585+076</td>\n",
       "      <td>Wolf 1051</td>\n",
       "      <td>AB</td>\n",
       "      <td>4383</td>\n",
       "      <td>359.636420</td>\n",
       "      <td>7.656947</td>\n",
       "      <td>23:58:32.65</td>\n",
       "      <td>+07:39:30.1</td>\n",
       "      <td>100.839686</td>\n",
       "      <td>-52.931049</td>\n",
       "      <td>...</td>\n",
       "      <td>3516.0</td>\n",
       "      <td>4.89</td>\n",
       "      <td>5.05</td>\n",
       "      <td>True</td>\n",
       "      <td>../data/CARMENES_GTO_RVs/J23585+076.dat</td>\n",
       "      <td>NaN</td>\n",
       "      <td>True</td>\n",
       "      <td>False</td>\n",
       "      <td>He3-burning</td>\n",
       "      <td>He3-burning</td>\n",
       "    </tr>\n",
       "    <tr>\n",
       "      <th>4</th>\n",
       "      <td>J23582-174</td>\n",
       "      <td>LP 764-040</td>\n",
       "      <td>AB</td>\n",
       "      <td>NaN</td>\n",
       "      <td>359.558095</td>\n",
       "      <td>-17.409041</td>\n",
       "      <td>23:58:13.69</td>\n",
       "      <td>-17:24:32.9</td>\n",
       "      <td>68.527865</td>\n",
       "      <td>-74.336758</td>\n",
       "      <td>...</td>\n",
       "      <td>NaN</td>\n",
       "      <td>NaN</td>\n",
       "      <td>NaN</td>\n",
       "      <td>False</td>\n",
       "      <td>NaN</td>\n",
       "      <td>NaN</td>\n",
       "      <td>False</td>\n",
       "      <td>False</td>\n",
       "      <td>none</td>\n",
       "      <td>none</td>\n",
       "    </tr>\n",
       "  </tbody>\n",
       "</table>\n",
       "<p>5 rows × 186 columns</p>\n",
       "</div>"
      ],
      "text/plain": [
       "        Karmn           Name Comp    GJ  RA_J2016_deg  DE_J2016_deg  \\\n",
       "0  J23598+477     LP 149-014    -  4385    359.962056     47.761478   \n",
       "1  J23590+208      G 129-051    -   NaN    359.753066     20.860336   \n",
       "2  J23587+467  BD+45 4378 AB   AB   913    359.685432     46.729152   \n",
       "3  J23585+076      Wolf 1051   AB  4383    359.636420      7.656947   \n",
       "4  J23582-174     LP 764-040   AB   NaN    359.558095    -17.409041   \n",
       "\n",
       "      RA_J2000     DE_J2000  l_J2016_deg  b_J2016_deg  ... Teff_max_K  \\\n",
       "0  23:59:49.51  +47:45:44.5   114.027674   -14.216353  ...     3050.0   \n",
       "1  23:59:00.42  +20:51:39.0   106.785616   -40.361996  ...        NaN   \n",
       "2  23:58:43.49  +46:43:44.7   113.616244   -15.187224  ...        NaN   \n",
       "3  23:58:32.65  +07:39:30.1   100.839686   -52.931049  ...     3516.0   \n",
       "4  23:58:13.69  -17:24:32.9    68.527865   -74.336758  ...        NaN   \n",
       "\n",
       "  logg_min  logg_max is_GTO                                  rv_file  lc_file  \\\n",
       "0     4.50      5.50  False                                      NaN      NaN   \n",
       "1      NaN       NaN  False                                      NaN      NaN   \n",
       "2      NaN       NaN  False                                      NaN      NaN   \n",
       "3     4.89      5.05   True  ../data/CARMENES_GTO_RVs/J23585+076.dat      NaN   \n",
       "4      NaN       NaN  False                                      NaN      NaN   \n",
       "\n",
       "   has_rv  has_lc  InstBand_nominal  InstBand_ranged  \n",
       "0   False   False              none             none  \n",
       "1   False   False              none             none  \n",
       "2   False   False              none             none  \n",
       "3    True   False       He3-burning      He3-burning  \n",
       "4   False   False              none             none  \n",
       "\n",
       "[5 rows x 186 columns]"
      ]
     },
     "execution_count": 3,
     "metadata": {},
     "output_type": "execute_result"
    }
   ],
   "source": [
    "carmenes = pd.read_csv(INPUT_FILE, sep=',', decimal='.')\n",
    "carmenes.head()"
   ]
  },
  {
   "cell_type": "code",
   "execution_count": 4,
   "id": "b9336940",
   "metadata": {
    "ExecuteTime": {
     "end_time": "2022-03-14T19:40:07.036780Z",
     "start_time": "2022-03-14T19:40:07.022816Z"
    }
   },
   "outputs": [
    {
     "name": "stdout",
     "output_type": "stream",
     "text": [
      "['Karmn', 'Name', 'Comp', 'GJ', 'RA_J2016_deg', 'DE_J2016_deg', 'RA_J2000', 'DE_J2000', 'l_J2016_deg', 'b_J2016_deg', 'Ref01', 'SpT', 'SpTnum', 'Ref02', 'Teff_K', 'eTeff_K', 'logg', 'elogg', '[Fe/H]', 'e[Fe/H]', 'Ref03', 'L_Lsol', 'eL_Lsol', 'Ref04', 'R_Rsol', 'eR_Rsol', 'Ref05', 'M_Msol', 'eM_Msol', 'Ref06', 'muRA_masa-1', 'emuRA_masa-1', 'muDE_masa-1', 'emuDE_masa-1', 'Ref07', 'pi_mas', 'epi_mas', 'Ref08', 'd_pc', 'ed_pc', 'Ref09', 'Vr_kms-1', 'eVr_kms-1', 'Ref10', 'ruwe', 'Ref11', 'U_kms-1', 'eU_kms-1', 'V_kms-1', 'eV_kms-1', 'W_kms-1', 'eW_kms-1', 'Ref12', 'sa_m/s/a', 'esa_m/s/a', 'Ref13', 'SKG', 'Ref14', 'SKG_lit', 'Ref14_lit', 'Pop', 'Ref15', 'vsini_flag', 'vsini_kms-1', 'evsini_kms-1', 'Ref16', 'P_d', 'eP_d', 'Ref17', 'pEWHalpha_A', 'epEWHalpha_A', 'Ref18', 'log(LHalpha/Lbol)', 'elog(LHalpha/Lbol)', 'Ref19', '1RXS', 'CRT_s-1', 'eCRT_s-1', 'HR1', 'eHR1', 'HR2', 'eHR2', 'Flux_X_E-13_ergcm-2s-1', 'eFlux_X_E-13_ergcm-2s-1', 'LX/LJ', 'eLX/LJ', 'Ref20', 'Activity', 'Ref21', 'FUV_mag', 'eFUV_mag', 'NUV_mag', 'eNUV_mag', 'Ref22', 'u_mag', 'eu_mag', 'Ref23', 'BT_mag', 'eBT_mag', 'Ref24', 'B_mag', 'eB_mag', 'Ref25', 'BP_mag', 'eBP_mag', 'Ref26', 'g_mag', 'eg_mag', 'Ref27', 'VT_mag', 'eVT_mag', 'Ref28', 'V_mag', 'eV_mag', 'Ref29', 'Ra_mag', 'Ref30', 'r_mag', 'er_mag', 'Ref31', 'GG_mag', 'eGG_mag', 'Ref32', 'i_mag', 'ei_mag', 'Ref33', 'RP_mag', 'eRP_mag', 'Ref34', 'IN_mag', 'Ref35', 'J_mag', 'eJ_mag', 'H_mag', 'eH_mag', 'Ks_mag', 'eKs_mag', 'QFlag_2M', 'Ref36', 'W1_mag', 'eW1_mag', 'W2_mag', 'eW2_mag', 'W3_mag', 'eW3_mag', 'W4_mag', 'eW4_mag', 'QFlag_WISE', 'Ref37', 'Multiplicity', 'WideWDS', 'Widerho_arcsec', 'eWiderho_arcsec', 'Ref38', 'WideCompanionName', 'WideCompanionSpT', 'CloseWDS', 'Closerho_arcsec', 'eCloserho_arcsec', 'Ref39', 'CloseCompanionSpT', 'RV', 'Planet', 'Ref40', 'PlanetNum', 'LoRes_spectrum', 'HiRes_spectrum', 'LoRes_imaging', 'HiRes_imaging', 'Class', 'Survey', 'Notes', 'Gaia_id_1', '2MASS_id', 'TIC_id', 'Teff_min_K', 'Teff_max_K', 'logg_min', 'logg_max', 'is_GTO', 'rv_file', 'lc_file', 'has_rv', 'has_lc', 'InstBand_nominal', 'InstBand_ranged']\n"
     ]
    }
   ],
   "source": [
    "print(carmenes.columns.tolist())"
   ]
  },
  {
   "cell_type": "markdown",
   "id": "f7cd8970",
   "metadata": {},
   "source": [
    "### Load synthetic stellar population"
   ]
  },
  {
   "cell_type": "markdown",
   "id": "b86bc1e7",
   "metadata": {},
   "source": [
    "This is a synthetic star population generated with BaSTI tool (), with the following parameters:\n",
    "\n",
    "\n",
    "The file has been previously preprocessed with notebook `ETL_07_BaSTI_SynthPop_File_Preprocessing_v2.0.ipynb`"
   ]
  },
  {
   "cell_type": "code",
   "execution_count": 5,
   "id": "b6a81886",
   "metadata": {
    "ExecuteTime": {
     "end_time": "2022-03-14T19:40:07.795633Z",
     "start_time": "2022-03-14T19:40:07.037778Z"
    }
   },
   "outputs": [
    {
     "data": {
      "text/html": [
       "<div>\n",
       "<style scoped>\n",
       "    .dataframe tbody tr th:only-of-type {\n",
       "        vertical-align: middle;\n",
       "    }\n",
       "\n",
       "    .dataframe tbody tr th {\n",
       "        vertical-align: top;\n",
       "    }\n",
       "\n",
       "    .dataframe thead th {\n",
       "        text-align: right;\n",
       "    }\n",
       "</style>\n",
       "<table border=\"1\" class=\"dataframe\">\n",
       "  <thead>\n",
       "    <tr style=\"text-align: right;\">\n",
       "      <th></th>\n",
       "      <th>star_number</th>\n",
       "      <th>log(t[years])</th>\n",
       "      <th>Metallicity[Fe/H]</th>\n",
       "      <th>Mass[Mo]</th>\n",
       "      <th>log(L/Lo)</th>\n",
       "      <th>log(Teff[K])</th>\n",
       "      <th>InitMassSec[Mo]</th>\n",
       "      <th>VarStarIdx</th>\n",
       "      <th>Pulsating_log(P[days])</th>\n",
       "      <th>u</th>\n",
       "      <th>...</th>\n",
       "      <th>g-r</th>\n",
       "      <th>r-i</th>\n",
       "      <th>i-z</th>\n",
       "      <th>log_g</th>\n",
       "      <th>Teff</th>\n",
       "      <th>Age [Gyr]</th>\n",
       "      <th>Age Range [Gyr]</th>\n",
       "      <th>ID Age Range</th>\n",
       "      <th>Metallicity Range [Fe/H]</th>\n",
       "      <th>ID Metallicity Range</th>\n",
       "    </tr>\n",
       "  </thead>\n",
       "  <tbody>\n",
       "    <tr>\n",
       "      <th>0</th>\n",
       "      <td>1</td>\n",
       "      <td>9.924415</td>\n",
       "      <td>-1.4575</td>\n",
       "      <td>0.1090</td>\n",
       "      <td>-2.8361</td>\n",
       "      <td>3.5084</td>\n",
       "      <td>0.0928</td>\n",
       "      <td>0</td>\n",
       "      <td>99.99</td>\n",
       "      <td>18.0943</td>\n",
       "      <td>...</td>\n",
       "      <td>1.8538</td>\n",
       "      <td>0.8023</td>\n",
       "      <td>0.4662</td>\n",
       "      <td>5.296607</td>\n",
       "      <td>3224.036872</td>\n",
       "      <td>8.402622</td>\n",
       "      <td>from 7.5 to 10.0 Gyr</td>\n",
       "      <td>Age_3</td>\n",
       "      <td>from -2.0 to -1.0 [Fe/H]</td>\n",
       "      <td>Met_1</td>\n",
       "    </tr>\n",
       "    <tr>\n",
       "      <th>1</th>\n",
       "      <td>2</td>\n",
       "      <td>9.947005</td>\n",
       "      <td>-1.2202</td>\n",
       "      <td>0.1081</td>\n",
       "      <td>-2.8307</td>\n",
       "      <td>3.5138</td>\n",
       "      <td>0.0867</td>\n",
       "      <td>0</td>\n",
       "      <td>99.99</td>\n",
       "      <td>17.9405</td>\n",
       "      <td>...</td>\n",
       "      <td>1.8141</td>\n",
       "      <td>0.7850</td>\n",
       "      <td>0.4546</td>\n",
       "      <td>5.309206</td>\n",
       "      <td>3264.374675</td>\n",
       "      <td>8.851255</td>\n",
       "      <td>from 7.5 to 10.0 Gyr</td>\n",
       "      <td>Age_3</td>\n",
       "      <td>from -2.0 to -1.0 [Fe/H]</td>\n",
       "      <td>Met_1</td>\n",
       "    </tr>\n",
       "    <tr>\n",
       "      <th>2</th>\n",
       "      <td>4</td>\n",
       "      <td>9.913869</td>\n",
       "      <td>-0.7478</td>\n",
       "      <td>0.2711</td>\n",
       "      <td>-1.8518</td>\n",
       "      <td>3.5874</td>\n",
       "      <td>0.2057</td>\n",
       "      <td>0</td>\n",
       "      <td>99.99</td>\n",
       "      <td>13.1454</td>\n",
       "      <td>...</td>\n",
       "      <td>1.4078</td>\n",
       "      <td>0.5379</td>\n",
       "      <td>0.3096</td>\n",
       "      <td>5.024010</td>\n",
       "      <td>3867.229981</td>\n",
       "      <td>8.201037</td>\n",
       "      <td>from 7.5 to 10.0 Gyr</td>\n",
       "      <td>Age_3</td>\n",
       "      <td>from -1.0 to -0.5 [Fe/H]</td>\n",
       "      <td>Met_2</td>\n",
       "    </tr>\n",
       "    <tr>\n",
       "      <th>3</th>\n",
       "      <td>6</td>\n",
       "      <td>9.965860</td>\n",
       "      <td>-1.0048</td>\n",
       "      <td>0.2449</td>\n",
       "      <td>-1.8871</td>\n",
       "      <td>3.5979</td>\n",
       "      <td>0.2222</td>\n",
       "      <td>0</td>\n",
       "      <td>99.99</td>\n",
       "      <td>12.7719</td>\n",
       "      <td>...</td>\n",
       "      <td>1.2943</td>\n",
       "      <td>0.5010</td>\n",
       "      <td>0.2886</td>\n",
       "      <td>5.057169</td>\n",
       "      <td>3961.867984</td>\n",
       "      <td>9.244008</td>\n",
       "      <td>from 7.5 to 10.0 Gyr</td>\n",
       "      <td>Age_3</td>\n",
       "      <td>from -2.0 to -1.0 [Fe/H]</td>\n",
       "      <td>Met_1</td>\n",
       "    </tr>\n",
       "    <tr>\n",
       "      <th>4</th>\n",
       "      <td>8</td>\n",
       "      <td>9.919496</td>\n",
       "      <td>-1.4860</td>\n",
       "      <td>0.1656</td>\n",
       "      <td>-2.2855</td>\n",
       "      <td>3.5691</td>\n",
       "      <td>0.1339</td>\n",
       "      <td>0</td>\n",
       "      <td>99.99</td>\n",
       "      <td>14.7574</td>\n",
       "      <td>...</td>\n",
       "      <td>1.6028</td>\n",
       "      <td>0.6053</td>\n",
       "      <td>0.3360</td>\n",
       "      <td>5.170441</td>\n",
       "      <td>3707.660840</td>\n",
       "      <td>8.308000</td>\n",
       "      <td>from 7.5 to 10.0 Gyr</td>\n",
       "      <td>Age_3</td>\n",
       "      <td>from -2.0 to -1.0 [Fe/H]</td>\n",
       "      <td>Met_1</td>\n",
       "    </tr>\n",
       "  </tbody>\n",
       "</table>\n",
       "<p>5 rows × 25 columns</p>\n",
       "</div>"
      ],
      "text/plain": [
       "   star_number  log(t[years])  Metallicity[Fe/H]  Mass[Mo]  log(L/Lo)  \\\n",
       "0            1       9.924415            -1.4575    0.1090    -2.8361   \n",
       "1            2       9.947005            -1.2202    0.1081    -2.8307   \n",
       "2            4       9.913869            -0.7478    0.2711    -1.8518   \n",
       "3            6       9.965860            -1.0048    0.2449    -1.8871   \n",
       "4            8       9.919496            -1.4860    0.1656    -2.2855   \n",
       "\n",
       "   log(Teff[K])  InitMassSec[Mo]  VarStarIdx  Pulsating_log(P[days])        u  \\\n",
       "0        3.5084           0.0928           0                   99.99  18.0943   \n",
       "1        3.5138           0.0867           0                   99.99  17.9405   \n",
       "2        3.5874           0.2057           0                   99.99  13.1454   \n",
       "3        3.5979           0.2222           0                   99.99  12.7719   \n",
       "4        3.5691           0.1339           0                   99.99  14.7574   \n",
       "\n",
       "   ...     g-r     r-i     i-z     log_g         Teff  Age [Gyr]  \\\n",
       "0  ...  1.8538  0.8023  0.4662  5.296607  3224.036872   8.402622   \n",
       "1  ...  1.8141  0.7850  0.4546  5.309206  3264.374675   8.851255   \n",
       "2  ...  1.4078  0.5379  0.3096  5.024010  3867.229981   8.201037   \n",
       "3  ...  1.2943  0.5010  0.2886  5.057169  3961.867984   9.244008   \n",
       "4  ...  1.6028  0.6053  0.3360  5.170441  3707.660840   8.308000   \n",
       "\n",
       "        Age Range [Gyr]  ID Age Range  Metallicity Range [Fe/H]  \\\n",
       "0  from 7.5 to 10.0 Gyr         Age_3  from -2.0 to -1.0 [Fe/H]   \n",
       "1  from 7.5 to 10.0 Gyr         Age_3  from -2.0 to -1.0 [Fe/H]   \n",
       "2  from 7.5 to 10.0 Gyr         Age_3  from -1.0 to -0.5 [Fe/H]   \n",
       "3  from 7.5 to 10.0 Gyr         Age_3  from -2.0 to -1.0 [Fe/H]   \n",
       "4  from 7.5 to 10.0 Gyr         Age_3  from -2.0 to -1.0 [Fe/H]   \n",
       "\n",
       "   ID Metallicity Range  \n",
       "0                 Met_1  \n",
       "1                 Met_1  \n",
       "2                 Met_2  \n",
       "3                 Met_1  \n",
       "4                 Met_1  \n",
       "\n",
       "[5 rows x 25 columns]"
      ]
     },
     "execution_count": 5,
     "metadata": {},
     "output_type": "execute_result"
    }
   ],
   "source": [
    "stellar_pop = pd.read_csv(SYNTH_POP_FILE, sep=',', decimal='.')\n",
    "stellar_pop.head()"
   ]
  },
  {
   "cell_type": "code",
   "execution_count": 6,
   "id": "3bc7824e",
   "metadata": {
    "ExecuteTime": {
     "end_time": "2022-03-14T19:40:07.810593Z",
     "start_time": "2022-03-14T19:40:07.796630Z"
    }
   },
   "outputs": [
    {
     "data": {
      "text/plain": [
       "Index(['star_number', 'log(t[years])', 'Metallicity[Fe/H]', 'Mass[Mo]',\n",
       "       'log(L/Lo)', 'log(Teff[K])', 'InitMassSec[Mo]', 'VarStarIdx',\n",
       "       'Pulsating_log(P[days])', 'u', 'g', 'r', 'i', 'z', 'u-g', 'g-r', 'r-i',\n",
       "       'i-z', 'log_g', 'Teff', 'Age [Gyr]', 'Age Range [Gyr]', 'ID Age Range',\n",
       "       'Metallicity Range [Fe/H]', 'ID Metallicity Range'],\n",
       "      dtype='object')"
      ]
     },
     "execution_count": 6,
     "metadata": {},
     "output_type": "execute_result"
    }
   ],
   "source": [
    "stellar_pop.columns"
   ]
  },
  {
   "cell_type": "markdown",
   "id": "6d839c2e",
   "metadata": {},
   "source": [
    "## Mark instability band (if appropriate)"
   ]
  },
  {
   "cell_type": "markdown",
   "id": "2ed50a22",
   "metadata": {},
   "source": [
    "### With nominal values (using just `logg` variable)"
   ]
  },
  {
   "cell_type": "code",
   "execution_count": 7,
   "id": "86e66135",
   "metadata": {
    "ExecuteTime": {
     "end_time": "2022-03-14T19:40:07.826550Z",
     "start_time": "2022-03-14T19:40:07.811591Z"
    }
   },
   "outputs": [],
   "source": [
    "carmenes['InstBand_nominal'] = \"none\""
   ]
  },
  {
   "cell_type": "code",
   "execution_count": 8,
   "id": "c0f61a7b",
   "metadata": {
    "ExecuteTime": {
     "end_time": "2022-03-14T19:40:07.857468Z",
     "start_time": "2022-03-14T19:40:07.828545Z"
    }
   },
   "outputs": [
    {
     "data": {
      "text/html": [
       "<div>\n",
       "<style scoped>\n",
       "    .dataframe tbody tr th:only-of-type {\n",
       "        vertical-align: middle;\n",
       "    }\n",
       "\n",
       "    .dataframe tbody tr th {\n",
       "        vertical-align: top;\n",
       "    }\n",
       "\n",
       "    .dataframe thead th {\n",
       "        text-align: right;\n",
       "    }\n",
       "</style>\n",
       "<table border=\"1\" class=\"dataframe\">\n",
       "  <thead>\n",
       "    <tr style=\"text-align: right;\">\n",
       "      <th></th>\n",
       "      <th>Karmn</th>\n",
       "      <th>Name</th>\n",
       "      <th>Comp</th>\n",
       "      <th>GJ</th>\n",
       "      <th>RA_J2016_deg</th>\n",
       "      <th>DE_J2016_deg</th>\n",
       "      <th>RA_J2000</th>\n",
       "      <th>DE_J2000</th>\n",
       "      <th>l_J2016_deg</th>\n",
       "      <th>b_J2016_deg</th>\n",
       "      <th>...</th>\n",
       "      <th>Teff_max_K</th>\n",
       "      <th>logg_min</th>\n",
       "      <th>logg_max</th>\n",
       "      <th>is_GTO</th>\n",
       "      <th>rv_file</th>\n",
       "      <th>lc_file</th>\n",
       "      <th>has_rv</th>\n",
       "      <th>has_lc</th>\n",
       "      <th>InstBand_nominal</th>\n",
       "      <th>InstBand_ranged</th>\n",
       "    </tr>\n",
       "  </thead>\n",
       "  <tbody>\n",
       "    <tr>\n",
       "      <th>0</th>\n",
       "      <td>J23598+477</td>\n",
       "      <td>LP 149-014</td>\n",
       "      <td>-</td>\n",
       "      <td>4385</td>\n",
       "      <td>359.962056</td>\n",
       "      <td>47.761478</td>\n",
       "      <td>23:59:49.51</td>\n",
       "      <td>+47:45:44.5</td>\n",
       "      <td>114.027674</td>\n",
       "      <td>-14.216353</td>\n",
       "      <td>...</td>\n",
       "      <td>3050.0</td>\n",
       "      <td>4.50</td>\n",
       "      <td>5.50</td>\n",
       "      <td>False</td>\n",
       "      <td>NaN</td>\n",
       "      <td>NaN</td>\n",
       "      <td>False</td>\n",
       "      <td>False</td>\n",
       "      <td>none</td>\n",
       "      <td>none</td>\n",
       "    </tr>\n",
       "    <tr>\n",
       "      <th>1</th>\n",
       "      <td>J23590+208</td>\n",
       "      <td>G 129-051</td>\n",
       "      <td>-</td>\n",
       "      <td>NaN</td>\n",
       "      <td>359.753066</td>\n",
       "      <td>20.860336</td>\n",
       "      <td>23:59:00.42</td>\n",
       "      <td>+20:51:39.0</td>\n",
       "      <td>106.785616</td>\n",
       "      <td>-40.361996</td>\n",
       "      <td>...</td>\n",
       "      <td>NaN</td>\n",
       "      <td>NaN</td>\n",
       "      <td>NaN</td>\n",
       "      <td>False</td>\n",
       "      <td>NaN</td>\n",
       "      <td>NaN</td>\n",
       "      <td>False</td>\n",
       "      <td>False</td>\n",
       "      <td>none</td>\n",
       "      <td>none</td>\n",
       "    </tr>\n",
       "    <tr>\n",
       "      <th>2</th>\n",
       "      <td>J23587+467</td>\n",
       "      <td>BD+45 4378 AB</td>\n",
       "      <td>AB</td>\n",
       "      <td>913</td>\n",
       "      <td>359.685432</td>\n",
       "      <td>46.729152</td>\n",
       "      <td>23:58:43.49</td>\n",
       "      <td>+46:43:44.7</td>\n",
       "      <td>113.616244</td>\n",
       "      <td>-15.187224</td>\n",
       "      <td>...</td>\n",
       "      <td>NaN</td>\n",
       "      <td>NaN</td>\n",
       "      <td>NaN</td>\n",
       "      <td>False</td>\n",
       "      <td>NaN</td>\n",
       "      <td>NaN</td>\n",
       "      <td>False</td>\n",
       "      <td>False</td>\n",
       "      <td>none</td>\n",
       "      <td>none</td>\n",
       "    </tr>\n",
       "    <tr>\n",
       "      <th>3</th>\n",
       "      <td>J23585+076</td>\n",
       "      <td>Wolf 1051</td>\n",
       "      <td>AB</td>\n",
       "      <td>4383</td>\n",
       "      <td>359.636420</td>\n",
       "      <td>7.656947</td>\n",
       "      <td>23:58:32.65</td>\n",
       "      <td>+07:39:30.1</td>\n",
       "      <td>100.839686</td>\n",
       "      <td>-52.931049</td>\n",
       "      <td>...</td>\n",
       "      <td>3516.0</td>\n",
       "      <td>4.89</td>\n",
       "      <td>5.05</td>\n",
       "      <td>True</td>\n",
       "      <td>../data/CARMENES_GTO_RVs/J23585+076.dat</td>\n",
       "      <td>NaN</td>\n",
       "      <td>True</td>\n",
       "      <td>False</td>\n",
       "      <td>He3-burning</td>\n",
       "      <td>He3-burning</td>\n",
       "    </tr>\n",
       "    <tr>\n",
       "      <th>4</th>\n",
       "      <td>J23582-174</td>\n",
       "      <td>LP 764-040</td>\n",
       "      <td>AB</td>\n",
       "      <td>NaN</td>\n",
       "      <td>359.558095</td>\n",
       "      <td>-17.409041</td>\n",
       "      <td>23:58:13.69</td>\n",
       "      <td>-17:24:32.9</td>\n",
       "      <td>68.527865</td>\n",
       "      <td>-74.336758</td>\n",
       "      <td>...</td>\n",
       "      <td>NaN</td>\n",
       "      <td>NaN</td>\n",
       "      <td>NaN</td>\n",
       "      <td>False</td>\n",
       "      <td>NaN</td>\n",
       "      <td>NaN</td>\n",
       "      <td>False</td>\n",
       "      <td>False</td>\n",
       "      <td>none</td>\n",
       "      <td>none</td>\n",
       "    </tr>\n",
       "  </tbody>\n",
       "</table>\n",
       "<p>5 rows × 186 columns</p>\n",
       "</div>"
      ],
      "text/plain": [
       "        Karmn           Name Comp    GJ  RA_J2016_deg  DE_J2016_deg  \\\n",
       "0  J23598+477     LP 149-014    -  4385    359.962056     47.761478   \n",
       "1  J23590+208      G 129-051    -   NaN    359.753066     20.860336   \n",
       "2  J23587+467  BD+45 4378 AB   AB   913    359.685432     46.729152   \n",
       "3  J23585+076      Wolf 1051   AB  4383    359.636420      7.656947   \n",
       "4  J23582-174     LP 764-040   AB   NaN    359.558095    -17.409041   \n",
       "\n",
       "      RA_J2000     DE_J2000  l_J2016_deg  b_J2016_deg  ... Teff_max_K  \\\n",
       "0  23:59:49.51  +47:45:44.5   114.027674   -14.216353  ...     3050.0   \n",
       "1  23:59:00.42  +20:51:39.0   106.785616   -40.361996  ...        NaN   \n",
       "2  23:58:43.49  +46:43:44.7   113.616244   -15.187224  ...        NaN   \n",
       "3  23:58:32.65  +07:39:30.1   100.839686   -52.931049  ...     3516.0   \n",
       "4  23:58:13.69  -17:24:32.9    68.527865   -74.336758  ...        NaN   \n",
       "\n",
       "  logg_min  logg_max is_GTO                                  rv_file  lc_file  \\\n",
       "0     4.50      5.50  False                                      NaN      NaN   \n",
       "1      NaN       NaN  False                                      NaN      NaN   \n",
       "2      NaN       NaN  False                                      NaN      NaN   \n",
       "3     4.89      5.05   True  ../data/CARMENES_GTO_RVs/J23585+076.dat      NaN   \n",
       "4      NaN       NaN  False                                      NaN      NaN   \n",
       "\n",
       "   has_rv  has_lc  InstBand_nominal  InstBand_ranged  \n",
       "0   False   False              none             none  \n",
       "1   False   False              none             none  \n",
       "2   False   False              none             none  \n",
       "3    True   False       He3-burning      He3-burning  \n",
       "4   False   False              none             none  \n",
       "\n",
       "[5 rows x 186 columns]"
      ]
     },
     "execution_count": 8,
     "metadata": {},
     "output_type": "execute_result"
    }
   ],
   "source": [
    "# Mark stars in instability bands (using nominal values):\n",
    "for ib in INST_B.keys():\n",
    "    carmenes.loc[(carmenes['logg'] >= INST_B[ib]['logg']['min']) &\n",
    "                 (carmenes['logg'] <= INST_B[ib]['logg']['max']) &\n",
    "                 (carmenes['Teff_K'] >= INST_B[ib]['Teff']['min']) &\n",
    "                 (carmenes['Teff_K'] <= INST_B[ib]['Teff']['max']),\n",
    "                 'InstBand_nominal'] = ib\n",
    "\n",
    "carmenes.head()"
   ]
  },
  {
   "cell_type": "markdown",
   "id": "5b9b445c",
   "metadata": {},
   "source": [
    "Check the total number of stars in instability bands (nominal):"
   ]
  },
  {
   "cell_type": "code",
   "execution_count": 9,
   "id": "175d0a40",
   "metadata": {
    "ExecuteTime": {
     "end_time": "2022-03-14T19:40:07.873425Z",
     "start_time": "2022-03-14T19:40:07.858465Z"
    }
   },
   "outputs": [
    {
     "data": {
      "text/plain": [
       "none           1231\n",
       "He3-burning     981\n",
       "Name: InstBand_nominal, dtype: int64"
      ]
     },
     "execution_count": 9,
     "metadata": {},
     "output_type": "execute_result"
    }
   ],
   "source": [
    "carmenes['InstBand_nominal'].value_counts()"
   ]
  },
  {
   "cell_type": "markdown",
   "id": "6bbd88be",
   "metadata": {},
   "source": [
    "**OBSERVATION:** no star at all is in the instability strip of _\"D-burning\"_ cases."
   ]
  },
  {
   "cell_type": "markdown",
   "id": "17c4e611",
   "metadata": {},
   "source": [
    "Check the GTO stars in instability bands (nominal):"
   ]
  },
  {
   "cell_type": "code",
   "execution_count": 10,
   "id": "718e566a",
   "metadata": {
    "ExecuteTime": {
     "end_time": "2022-03-14T19:40:07.889383Z",
     "start_time": "2022-03-14T19:40:07.874423Z"
    },
    "scrolled": true
   },
   "outputs": [
    {
     "data": {
      "text/plain": [
       "He3-burning    224\n",
       "none           139\n",
       "Name: InstBand_nominal, dtype: int64"
      ]
     },
     "execution_count": 10,
     "metadata": {},
     "output_type": "execute_result"
    }
   ],
   "source": [
    "carmenes.loc[carmenes['is_GTO'] == True, 'InstBand_nominal'].value_counts()"
   ]
  },
  {
   "cell_type": "markdown",
   "id": "eda3462c",
   "metadata": {},
   "source": [
    "### With ranged values (including  `elogg` variable)"
   ]
  },
  {
   "cell_type": "markdown",
   "id": "b585e1ed",
   "metadata": {},
   "source": [
    "We first check the max values of `eTeff_K` and `elogg`, just in case the instability bands could overlap and hence provoke ambiguous band assignation."
   ]
  },
  {
   "cell_type": "code",
   "execution_count": 11,
   "id": "fdebfd31",
   "metadata": {
    "ExecuteTime": {
     "end_time": "2022-03-14T19:40:07.905348Z",
     "start_time": "2022-03-14T19:40:07.890382Z"
    },
    "scrolled": true
   },
   "outputs": [
    {
     "data": {
      "text/plain": [
       "{'D-burning': {'logg': {'min': 3.1, 'max': 3.6},\n",
       "  'Teff': {'min': 2800, 'max': 3500}},\n",
       " 'He3-burning': {'logg': {'min': 4.5, 'max': 5.1},\n",
       "  'Teff': {'min': 3300, 'max': 4300}}}"
      ]
     },
     "execution_count": 11,
     "metadata": {},
     "output_type": "execute_result"
    }
   ],
   "source": [
    "INST_B"
   ]
  },
  {
   "cell_type": "code",
   "execution_count": 12,
   "id": "3beb9a36",
   "metadata": {
    "ExecuteTime": {
     "end_time": "2022-03-14T19:40:07.921298Z",
     "start_time": "2022-03-14T19:40:07.906357Z"
    }
   },
   "outputs": [
    {
     "data": {
      "text/html": [
       "<div>\n",
       "<style scoped>\n",
       "    .dataframe tbody tr th:only-of-type {\n",
       "        vertical-align: middle;\n",
       "    }\n",
       "\n",
       "    .dataframe tbody tr th {\n",
       "        vertical-align: top;\n",
       "    }\n",
       "\n",
       "    .dataframe thead th {\n",
       "        text-align: right;\n",
       "    }\n",
       "</style>\n",
       "<table border=\"1\" class=\"dataframe\">\n",
       "  <thead>\n",
       "    <tr style=\"text-align: right;\">\n",
       "      <th></th>\n",
       "      <th>eTeff_K</th>\n",
       "      <th>elogg</th>\n",
       "    </tr>\n",
       "  </thead>\n",
       "  <tbody>\n",
       "    <tr>\n",
       "      <th>count</th>\n",
       "      <td>1657.000000</td>\n",
       "      <td>1652.000000</td>\n",
       "    </tr>\n",
       "    <tr>\n",
       "      <th>mean</th>\n",
       "      <td>45.379602</td>\n",
       "      <td>0.410533</td>\n",
       "    </tr>\n",
       "    <tr>\n",
       "      <th>std</th>\n",
       "      <td>11.216744</td>\n",
       "      <td>0.160944</td>\n",
       "    </tr>\n",
       "    <tr>\n",
       "      <th>min</th>\n",
       "      <td>9.000000</td>\n",
       "      <td>0.030000</td>\n",
       "    </tr>\n",
       "    <tr>\n",
       "      <th>25%</th>\n",
       "      <td>50.000000</td>\n",
       "      <td>0.500000</td>\n",
       "    </tr>\n",
       "    <tr>\n",
       "      <th>50%</th>\n",
       "      <td>50.000000</td>\n",
       "      <td>0.500000</td>\n",
       "    </tr>\n",
       "    <tr>\n",
       "      <th>75%</th>\n",
       "      <td>50.000000</td>\n",
       "      <td>0.500000</td>\n",
       "    </tr>\n",
       "    <tr>\n",
       "      <th>max</th>\n",
       "      <td>97.000000</td>\n",
       "      <td>0.500000</td>\n",
       "    </tr>\n",
       "  </tbody>\n",
       "</table>\n",
       "</div>"
      ],
      "text/plain": [
       "           eTeff_K        elogg\n",
       "count  1657.000000  1652.000000\n",
       "mean     45.379602     0.410533\n",
       "std      11.216744     0.160944\n",
       "min       9.000000     0.030000\n",
       "25%      50.000000     0.500000\n",
       "50%      50.000000     0.500000\n",
       "75%      50.000000     0.500000\n",
       "max      97.000000     0.500000"
      ]
     },
     "execution_count": 12,
     "metadata": {},
     "output_type": "execute_result"
    }
   ],
   "source": [
    "carmenes[['eTeff_K', 'elogg']].describe()"
   ]
  },
  {
   "cell_type": "markdown",
   "id": "bc0de018",
   "metadata": {},
   "source": [
    "Maximum value of `elogg` is $0.5$, so the assignment to instability bands will not be ambiguous."
   ]
  },
  {
   "cell_type": "code",
   "execution_count": 13,
   "id": "4604e0fc",
   "metadata": {
    "ExecuteTime": {
     "end_time": "2022-03-14T19:40:07.937254Z",
     "start_time": "2022-03-14T19:40:07.922295Z"
    }
   },
   "outputs": [
    {
     "data": {
      "text/plain": [
       "Index(['Karmn', 'Name', 'Comp', 'GJ', 'RA_J2016_deg', 'DE_J2016_deg',\n",
       "       'RA_J2000', 'DE_J2000', 'l_J2016_deg', 'b_J2016_deg',\n",
       "       ...\n",
       "       'Teff_max_K', 'logg_min', 'logg_max', 'is_GTO', 'rv_file', 'lc_file',\n",
       "       'has_rv', 'has_lc', 'InstBand_nominal', 'InstBand_ranged'],\n",
       "      dtype='object', length=186)"
      ]
     },
     "execution_count": 13,
     "metadata": {},
     "output_type": "execute_result"
    }
   ],
   "source": [
    "carmenes.columns"
   ]
  },
  {
   "cell_type": "code",
   "execution_count": 14,
   "id": "1049a050",
   "metadata": {
    "ExecuteTime": {
     "end_time": "2022-03-14T19:40:07.953212Z",
     "start_time": "2022-03-14T19:40:07.938252Z"
    }
   },
   "outputs": [],
   "source": [
    "carmenes['InstBand_ranged'] = \"none\""
   ]
  },
  {
   "cell_type": "code",
   "execution_count": 15,
   "id": "049baeeb",
   "metadata": {
    "ExecuteTime": {
     "end_time": "2022-03-14T19:40:07.985127Z",
     "start_time": "2022-03-14T19:40:07.954209Z"
    }
   },
   "outputs": [
    {
     "data": {
      "text/html": [
       "<div>\n",
       "<style scoped>\n",
       "    .dataframe tbody tr th:only-of-type {\n",
       "        vertical-align: middle;\n",
       "    }\n",
       "\n",
       "    .dataframe tbody tr th {\n",
       "        vertical-align: top;\n",
       "    }\n",
       "\n",
       "    .dataframe thead th {\n",
       "        text-align: right;\n",
       "    }\n",
       "</style>\n",
       "<table border=\"1\" class=\"dataframe\">\n",
       "  <thead>\n",
       "    <tr style=\"text-align: right;\">\n",
       "      <th></th>\n",
       "      <th>Karmn</th>\n",
       "      <th>Name</th>\n",
       "      <th>Comp</th>\n",
       "      <th>GJ</th>\n",
       "      <th>RA_J2016_deg</th>\n",
       "      <th>DE_J2016_deg</th>\n",
       "      <th>RA_J2000</th>\n",
       "      <th>DE_J2000</th>\n",
       "      <th>l_J2016_deg</th>\n",
       "      <th>b_J2016_deg</th>\n",
       "      <th>...</th>\n",
       "      <th>Teff_max_K</th>\n",
       "      <th>logg_min</th>\n",
       "      <th>logg_max</th>\n",
       "      <th>is_GTO</th>\n",
       "      <th>rv_file</th>\n",
       "      <th>lc_file</th>\n",
       "      <th>has_rv</th>\n",
       "      <th>has_lc</th>\n",
       "      <th>InstBand_nominal</th>\n",
       "      <th>InstBand_ranged</th>\n",
       "    </tr>\n",
       "  </thead>\n",
       "  <tbody>\n",
       "    <tr>\n",
       "      <th>0</th>\n",
       "      <td>J23598+477</td>\n",
       "      <td>LP 149-014</td>\n",
       "      <td>-</td>\n",
       "      <td>4385</td>\n",
       "      <td>359.962056</td>\n",
       "      <td>47.761478</td>\n",
       "      <td>23:59:49.51</td>\n",
       "      <td>+47:45:44.5</td>\n",
       "      <td>114.027674</td>\n",
       "      <td>-14.216353</td>\n",
       "      <td>...</td>\n",
       "      <td>3050.0</td>\n",
       "      <td>4.50</td>\n",
       "      <td>5.50</td>\n",
       "      <td>False</td>\n",
       "      <td>NaN</td>\n",
       "      <td>NaN</td>\n",
       "      <td>False</td>\n",
       "      <td>False</td>\n",
       "      <td>none</td>\n",
       "      <td>none</td>\n",
       "    </tr>\n",
       "    <tr>\n",
       "      <th>1</th>\n",
       "      <td>J23590+208</td>\n",
       "      <td>G 129-051</td>\n",
       "      <td>-</td>\n",
       "      <td>NaN</td>\n",
       "      <td>359.753066</td>\n",
       "      <td>20.860336</td>\n",
       "      <td>23:59:00.42</td>\n",
       "      <td>+20:51:39.0</td>\n",
       "      <td>106.785616</td>\n",
       "      <td>-40.361996</td>\n",
       "      <td>...</td>\n",
       "      <td>NaN</td>\n",
       "      <td>NaN</td>\n",
       "      <td>NaN</td>\n",
       "      <td>False</td>\n",
       "      <td>NaN</td>\n",
       "      <td>NaN</td>\n",
       "      <td>False</td>\n",
       "      <td>False</td>\n",
       "      <td>none</td>\n",
       "      <td>none</td>\n",
       "    </tr>\n",
       "    <tr>\n",
       "      <th>2</th>\n",
       "      <td>J23587+467</td>\n",
       "      <td>BD+45 4378 AB</td>\n",
       "      <td>AB</td>\n",
       "      <td>913</td>\n",
       "      <td>359.685432</td>\n",
       "      <td>46.729152</td>\n",
       "      <td>23:58:43.49</td>\n",
       "      <td>+46:43:44.7</td>\n",
       "      <td>113.616244</td>\n",
       "      <td>-15.187224</td>\n",
       "      <td>...</td>\n",
       "      <td>NaN</td>\n",
       "      <td>NaN</td>\n",
       "      <td>NaN</td>\n",
       "      <td>False</td>\n",
       "      <td>NaN</td>\n",
       "      <td>NaN</td>\n",
       "      <td>False</td>\n",
       "      <td>False</td>\n",
       "      <td>none</td>\n",
       "      <td>none</td>\n",
       "    </tr>\n",
       "    <tr>\n",
       "      <th>3</th>\n",
       "      <td>J23585+076</td>\n",
       "      <td>Wolf 1051</td>\n",
       "      <td>AB</td>\n",
       "      <td>4383</td>\n",
       "      <td>359.636420</td>\n",
       "      <td>7.656947</td>\n",
       "      <td>23:58:32.65</td>\n",
       "      <td>+07:39:30.1</td>\n",
       "      <td>100.839686</td>\n",
       "      <td>-52.931049</td>\n",
       "      <td>...</td>\n",
       "      <td>3516.0</td>\n",
       "      <td>4.89</td>\n",
       "      <td>5.05</td>\n",
       "      <td>True</td>\n",
       "      <td>../data/CARMENES_GTO_RVs/J23585+076.dat</td>\n",
       "      <td>NaN</td>\n",
       "      <td>True</td>\n",
       "      <td>False</td>\n",
       "      <td>He3-burning</td>\n",
       "      <td>He3-burning</td>\n",
       "    </tr>\n",
       "    <tr>\n",
       "      <th>4</th>\n",
       "      <td>J23582-174</td>\n",
       "      <td>LP 764-040</td>\n",
       "      <td>AB</td>\n",
       "      <td>NaN</td>\n",
       "      <td>359.558095</td>\n",
       "      <td>-17.409041</td>\n",
       "      <td>23:58:13.69</td>\n",
       "      <td>-17:24:32.9</td>\n",
       "      <td>68.527865</td>\n",
       "      <td>-74.336758</td>\n",
       "      <td>...</td>\n",
       "      <td>NaN</td>\n",
       "      <td>NaN</td>\n",
       "      <td>NaN</td>\n",
       "      <td>False</td>\n",
       "      <td>NaN</td>\n",
       "      <td>NaN</td>\n",
       "      <td>False</td>\n",
       "      <td>False</td>\n",
       "      <td>none</td>\n",
       "      <td>none</td>\n",
       "    </tr>\n",
       "  </tbody>\n",
       "</table>\n",
       "<p>5 rows × 186 columns</p>\n",
       "</div>"
      ],
      "text/plain": [
       "        Karmn           Name Comp    GJ  RA_J2016_deg  DE_J2016_deg  \\\n",
       "0  J23598+477     LP 149-014    -  4385    359.962056     47.761478   \n",
       "1  J23590+208      G 129-051    -   NaN    359.753066     20.860336   \n",
       "2  J23587+467  BD+45 4378 AB   AB   913    359.685432     46.729152   \n",
       "3  J23585+076      Wolf 1051   AB  4383    359.636420      7.656947   \n",
       "4  J23582-174     LP 764-040   AB   NaN    359.558095    -17.409041   \n",
       "\n",
       "      RA_J2000     DE_J2000  l_J2016_deg  b_J2016_deg  ... Teff_max_K  \\\n",
       "0  23:59:49.51  +47:45:44.5   114.027674   -14.216353  ...     3050.0   \n",
       "1  23:59:00.42  +20:51:39.0   106.785616   -40.361996  ...        NaN   \n",
       "2  23:58:43.49  +46:43:44.7   113.616244   -15.187224  ...        NaN   \n",
       "3  23:58:32.65  +07:39:30.1   100.839686   -52.931049  ...     3516.0   \n",
       "4  23:58:13.69  -17:24:32.9    68.527865   -74.336758  ...        NaN   \n",
       "\n",
       "  logg_min  logg_max is_GTO                                  rv_file  lc_file  \\\n",
       "0     4.50      5.50  False                                      NaN      NaN   \n",
       "1      NaN       NaN  False                                      NaN      NaN   \n",
       "2      NaN       NaN  False                                      NaN      NaN   \n",
       "3     4.89      5.05   True  ../data/CARMENES_GTO_RVs/J23585+076.dat      NaN   \n",
       "4      NaN       NaN  False                                      NaN      NaN   \n",
       "\n",
       "   has_rv  has_lc  InstBand_nominal  InstBand_ranged  \n",
       "0   False   False              none             none  \n",
       "1   False   False              none             none  \n",
       "2   False   False              none             none  \n",
       "3    True   False       He3-burning      He3-burning  \n",
       "4   False   False              none             none  \n",
       "\n",
       "[5 rows x 186 columns]"
      ]
     },
     "execution_count": 15,
     "metadata": {},
     "output_type": "execute_result"
    }
   ],
   "source": [
    "# Mark stars in instability bands (ussing range of values):\n",
    "for ib in INST_B.keys():\n",
    "    mask_range_logg = ((carmenes['logg_min'] >= INST_B[ib]['logg']['min']) & \\\n",
    "                   (carmenes['logg_min'] <= INST_B[ib]['logg']['max'])) | \\\n",
    "                ((carmenes['logg_max'] >= INST_B[ib]['logg']['min']) & \\\n",
    "                 (carmenes['logg_max'] <= INST_B[ib]['logg']['max']))\n",
    "    mask_range_Teff = ((carmenes['Teff_min_K'] >= INST_B[ib]['Teff']['min']) & \\\n",
    "                   (carmenes['Teff_min_K'] <= INST_B[ib]['Teff']['max'])) | \\\n",
    "                ((carmenes['Teff_max_K'] >= INST_B[ib]['Teff']['min']) & \\\n",
    "                 (carmenes['Teff_max_K'] <= INST_B[ib]['Teff']['max']))\n",
    "    carmenes.loc[mask_range_logg & mask_range_Teff,\n",
    "                 'InstBand_ranged'] = ib\n",
    "\n",
    "carmenes.head()"
   ]
  },
  {
   "cell_type": "markdown",
   "id": "22d8d774",
   "metadata": {},
   "source": [
    "Check the total number of stars in instability bands (ranged):"
   ]
  },
  {
   "cell_type": "code",
   "execution_count": 16,
   "id": "7766899c",
   "metadata": {
    "ExecuteTime": {
     "end_time": "2022-03-14T19:40:08.001083Z",
     "start_time": "2022-03-14T19:40:07.986124Z"
    }
   },
   "outputs": [
    {
     "data": {
      "text/plain": [
       "He3-burning    1157\n",
       "none           1055\n",
       "Name: InstBand_ranged, dtype: int64"
      ]
     },
     "execution_count": 16,
     "metadata": {},
     "output_type": "execute_result"
    }
   ],
   "source": [
    "carmenes['InstBand_ranged'].value_counts()"
   ]
  },
  {
   "cell_type": "markdown",
   "id": "0b4ec0ea",
   "metadata": {},
   "source": [
    "Check the GTO stars in instability bands (nominal):"
   ]
  },
  {
   "cell_type": "code",
   "execution_count": 17,
   "id": "a9ce64a7",
   "metadata": {
    "ExecuteTime": {
     "end_time": "2022-03-14T19:40:08.016044Z",
     "start_time": "2022-03-14T19:40:08.002081Z"
    },
    "scrolled": true
   },
   "outputs": [
    {
     "data": {
      "text/plain": [
       "He3-burning    259\n",
       "none           104\n",
       "Name: InstBand_ranged, dtype: int64"
      ]
     },
     "execution_count": 17,
     "metadata": {},
     "output_type": "execute_result"
    }
   ],
   "source": [
    "carmenes.loc[carmenes['is_GTO'] == True, 'InstBand_ranged'].value_counts()"
   ]
  },
  {
   "cell_type": "markdown",
   "id": "7f0682dc",
   "metadata": {},
   "source": [
    "### Summary of stats"
   ]
  },
  {
   "cell_type": "code",
   "execution_count": 18,
   "id": "34ee2c2d",
   "metadata": {
    "ExecuteTime": {
     "end_time": "2022-03-14T19:40:08.031004Z",
     "start_time": "2022-03-14T19:40:08.017042Z"
    }
   },
   "outputs": [
    {
     "data": {
      "text/html": [
       "<div>\n",
       "<style scoped>\n",
       "    .dataframe tbody tr th:only-of-type {\n",
       "        vertical-align: middle;\n",
       "    }\n",
       "\n",
       "    .dataframe tbody tr th {\n",
       "        vertical-align: top;\n",
       "    }\n",
       "\n",
       "    .dataframe thead th {\n",
       "        text-align: right;\n",
       "    }\n",
       "</style>\n",
       "<table border=\"1\" class=\"dataframe\">\n",
       "  <thead>\n",
       "    <tr style=\"text-align: right;\">\n",
       "      <th></th>\n",
       "      <th></th>\n",
       "      <th>Karmn</th>\n",
       "    </tr>\n",
       "    <tr>\n",
       "      <th>is_GTO</th>\n",
       "      <th>InstBand_nominal</th>\n",
       "      <th></th>\n",
       "    </tr>\n",
       "  </thead>\n",
       "  <tbody>\n",
       "    <tr>\n",
       "      <th rowspan=\"2\" valign=\"top\">False</th>\n",
       "      <th>He3-burning</th>\n",
       "      <td>757</td>\n",
       "    </tr>\n",
       "    <tr>\n",
       "      <th>none</th>\n",
       "      <td>1092</td>\n",
       "    </tr>\n",
       "    <tr>\n",
       "      <th rowspan=\"2\" valign=\"top\">True</th>\n",
       "      <th>He3-burning</th>\n",
       "      <td>224</td>\n",
       "    </tr>\n",
       "    <tr>\n",
       "      <th>none</th>\n",
       "      <td>139</td>\n",
       "    </tr>\n",
       "  </tbody>\n",
       "</table>\n",
       "</div>"
      ],
      "text/plain": [
       "                         Karmn\n",
       "is_GTO InstBand_nominal       \n",
       "False  He3-burning         757\n",
       "       none               1092\n",
       "True   He3-burning         224\n",
       "       none                139"
      ]
     },
     "execution_count": 18,
     "metadata": {},
     "output_type": "execute_result"
    }
   ],
   "source": [
    "carmenes[['is_GTO', 'InstBand_nominal', 'Karmn']] \\\n",
    "    .groupby(by=['is_GTO', 'InstBand_nominal']).count()"
   ]
  },
  {
   "cell_type": "code",
   "execution_count": 19,
   "id": "4a5c3584",
   "metadata": {
    "ExecuteTime": {
     "end_time": "2022-03-14T19:40:08.046961Z",
     "start_time": "2022-03-14T19:40:08.032003Z"
    }
   },
   "outputs": [
    {
     "data": {
      "text/html": [
       "<div>\n",
       "<style scoped>\n",
       "    .dataframe tbody tr th:only-of-type {\n",
       "        vertical-align: middle;\n",
       "    }\n",
       "\n",
       "    .dataframe tbody tr th {\n",
       "        vertical-align: top;\n",
       "    }\n",
       "\n",
       "    .dataframe thead th {\n",
       "        text-align: right;\n",
       "    }\n",
       "</style>\n",
       "<table border=\"1\" class=\"dataframe\">\n",
       "  <thead>\n",
       "    <tr style=\"text-align: right;\">\n",
       "      <th></th>\n",
       "      <th></th>\n",
       "      <th>Karmn</th>\n",
       "    </tr>\n",
       "    <tr>\n",
       "      <th>is_GTO</th>\n",
       "      <th>InstBand_ranged</th>\n",
       "      <th></th>\n",
       "    </tr>\n",
       "  </thead>\n",
       "  <tbody>\n",
       "    <tr>\n",
       "      <th rowspan=\"2\" valign=\"top\">False</th>\n",
       "      <th>He3-burning</th>\n",
       "      <td>898</td>\n",
       "    </tr>\n",
       "    <tr>\n",
       "      <th>none</th>\n",
       "      <td>951</td>\n",
       "    </tr>\n",
       "    <tr>\n",
       "      <th rowspan=\"2\" valign=\"top\">True</th>\n",
       "      <th>He3-burning</th>\n",
       "      <td>259</td>\n",
       "    </tr>\n",
       "    <tr>\n",
       "      <th>none</th>\n",
       "      <td>104</td>\n",
       "    </tr>\n",
       "  </tbody>\n",
       "</table>\n",
       "</div>"
      ],
      "text/plain": [
       "                        Karmn\n",
       "is_GTO InstBand_ranged       \n",
       "False  He3-burning        898\n",
       "       none               951\n",
       "True   He3-burning        259\n",
       "       none               104"
      ]
     },
     "execution_count": 19,
     "metadata": {},
     "output_type": "execute_result"
    }
   ],
   "source": [
    "carmenes[['is_GTO', 'InstBand_ranged', 'Karmn']] \\\n",
    "    .groupby(by=['is_GTO', 'InstBand_ranged']).count()"
   ]
  },
  {
   "cell_type": "markdown",
   "id": "e6a1249b",
   "metadata": {},
   "source": [
    "### Check `NaN` values"
   ]
  },
  {
   "cell_type": "markdown",
   "id": "7e63387c",
   "metadata": {},
   "source": [
    "Check `Nan` values of the data (`Teff_K` and `logg`variables):"
   ]
  },
  {
   "cell_type": "code",
   "execution_count": 20,
   "id": "5815faa4",
   "metadata": {
    "ExecuteTime": {
     "end_time": "2022-03-14T19:40:08.062919Z",
     "start_time": "2022-03-14T19:40:08.047958Z"
    }
   },
   "outputs": [
    {
     "data": {
      "text/html": [
       "<div>\n",
       "<style scoped>\n",
       "    .dataframe tbody tr th:only-of-type {\n",
       "        vertical-align: middle;\n",
       "    }\n",
       "\n",
       "    .dataframe tbody tr th {\n",
       "        vertical-align: top;\n",
       "    }\n",
       "\n",
       "    .dataframe thead th {\n",
       "        text-align: right;\n",
       "    }\n",
       "</style>\n",
       "<table border=\"1\" class=\"dataframe\">\n",
       "  <thead>\n",
       "    <tr style=\"text-align: right;\">\n",
       "      <th></th>\n",
       "      <th>index</th>\n",
       "      <th>0</th>\n",
       "    </tr>\n",
       "  </thead>\n",
       "  <tbody>\n",
       "    <tr>\n",
       "      <th>0</th>\n",
       "      <td>Teff_K</td>\n",
       "      <td>555</td>\n",
       "    </tr>\n",
       "    <tr>\n",
       "      <th>1</th>\n",
       "      <td>logg</td>\n",
       "      <td>560</td>\n",
       "    </tr>\n",
       "  </tbody>\n",
       "</table>\n",
       "</div>"
      ],
      "text/plain": [
       "    index    0\n",
       "0  Teff_K  555\n",
       "1    logg  560"
      ]
     },
     "execution_count": 20,
     "metadata": {},
     "output_type": "execute_result"
    }
   ],
   "source": [
    "carmenes[['Teff_K', 'logg']].isna().sum().reset_index()"
   ]
  },
  {
   "cell_type": "code",
   "execution_count": 21,
   "id": "0e66591b",
   "metadata": {
    "ExecuteTime": {
     "end_time": "2022-03-14T19:40:08.078876Z",
     "start_time": "2022-03-14T19:40:08.063916Z"
    }
   },
   "outputs": [
    {
     "data": {
      "text/plain": [
       "(2212, 186)"
      ]
     },
     "execution_count": 21,
     "metadata": {},
     "output_type": "execute_result"
    }
   ],
   "source": [
    "carmenes.shape"
   ]
  },
  {
   "cell_type": "markdown",
   "id": "cfcdfbe4",
   "metadata": {},
   "source": [
    "Hence, about $25\\%$ of the whole dataset is missing `logg` and/or `Teff` values."
   ]
  },
  {
   "cell_type": "code",
   "execution_count": 22,
   "id": "d3a21b80",
   "metadata": {
    "ExecuteTime": {
     "end_time": "2022-03-14T19:40:08.094834Z",
     "start_time": "2022-03-14T19:40:08.079875Z"
    }
   },
   "outputs": [
    {
     "data": {
      "text/html": [
       "<div>\n",
       "<style scoped>\n",
       "    .dataframe tbody tr th:only-of-type {\n",
       "        vertical-align: middle;\n",
       "    }\n",
       "\n",
       "    .dataframe tbody tr th {\n",
       "        vertical-align: top;\n",
       "    }\n",
       "\n",
       "    .dataframe thead th {\n",
       "        text-align: right;\n",
       "    }\n",
       "</style>\n",
       "<table border=\"1\" class=\"dataframe\">\n",
       "  <thead>\n",
       "    <tr style=\"text-align: right;\">\n",
       "      <th></th>\n",
       "      <th>index</th>\n",
       "      <th>0</th>\n",
       "    </tr>\n",
       "  </thead>\n",
       "  <tbody>\n",
       "    <tr>\n",
       "      <th>0</th>\n",
       "      <td>Teff_K</td>\n",
       "      <td>0</td>\n",
       "    </tr>\n",
       "    <tr>\n",
       "      <th>1</th>\n",
       "      <td>logg</td>\n",
       "      <td>4</td>\n",
       "    </tr>\n",
       "  </tbody>\n",
       "</table>\n",
       "</div>"
      ],
      "text/plain": [
       "    index  0\n",
       "0  Teff_K  0\n",
       "1    logg  4"
      ]
     },
     "execution_count": 22,
     "metadata": {},
     "output_type": "execute_result"
    }
   ],
   "source": [
    "carmenes[carmenes['is_GTO'] == True][['Teff_K', 'logg']].isna().sum().reset_index()"
   ]
  },
  {
   "cell_type": "code",
   "execution_count": 23,
   "id": "12d2635f",
   "metadata": {
    "ExecuteTime": {
     "end_time": "2022-03-14T19:40:08.110790Z",
     "start_time": "2022-03-14T19:40:08.096829Z"
    }
   },
   "outputs": [
    {
     "data": {
      "text/plain": [
       "(363, 186)"
      ]
     },
     "execution_count": 23,
     "metadata": {},
     "output_type": "execute_result"
    }
   ],
   "source": [
    "carmenes[carmenes['is_GTO'] == True].shape"
   ]
  },
  {
   "cell_type": "markdown",
   "id": "2570bd7d",
   "metadata": {},
   "source": [
    "Hence, only about $1\\%$ is missing `logg` values."
   ]
  },
  {
   "cell_type": "code",
   "execution_count": 24,
   "id": "5af7bb1f",
   "metadata": {
    "ExecuteTime": {
     "end_time": "2022-03-14T19:40:08.142706Z",
     "start_time": "2022-03-14T19:40:08.111788Z"
    }
   },
   "outputs": [
    {
     "data": {
      "text/html": [
       "<div>\n",
       "<style scoped>\n",
       "    .dataframe tbody tr th:only-of-type {\n",
       "        vertical-align: middle;\n",
       "    }\n",
       "\n",
       "    .dataframe tbody tr th {\n",
       "        vertical-align: top;\n",
       "    }\n",
       "\n",
       "    .dataframe thead th {\n",
       "        text-align: right;\n",
       "    }\n",
       "</style>\n",
       "<table border=\"1\" class=\"dataframe\">\n",
       "  <thead>\n",
       "    <tr style=\"text-align: right;\">\n",
       "      <th></th>\n",
       "      <th>Karmn</th>\n",
       "      <th>Name</th>\n",
       "      <th>Comp</th>\n",
       "      <th>GJ</th>\n",
       "      <th>RA_J2016_deg</th>\n",
       "      <th>DE_J2016_deg</th>\n",
       "      <th>RA_J2000</th>\n",
       "      <th>DE_J2000</th>\n",
       "      <th>l_J2016_deg</th>\n",
       "      <th>b_J2016_deg</th>\n",
       "      <th>...</th>\n",
       "      <th>Teff_max_K</th>\n",
       "      <th>logg_min</th>\n",
       "      <th>logg_max</th>\n",
       "      <th>is_GTO</th>\n",
       "      <th>rv_file</th>\n",
       "      <th>lc_file</th>\n",
       "      <th>has_rv</th>\n",
       "      <th>has_lc</th>\n",
       "      <th>InstBand_nominal</th>\n",
       "      <th>InstBand_ranged</th>\n",
       "    </tr>\n",
       "  </thead>\n",
       "  <tbody>\n",
       "    <tr>\n",
       "      <th>180</th>\n",
       "      <td>J22102+587</td>\n",
       "      <td>TOI-2285</td>\n",
       "      <td>-</td>\n",
       "      <td>NaN</td>\n",
       "      <td>332.563270</td>\n",
       "      <td>58.706090</td>\n",
       "      <td>22:10:15.14</td>\n",
       "      <td>+58:42:22.2</td>\n",
       "      <td>103.288489</td>\n",
       "      <td>2.123561</td>\n",
       "      <td>...</td>\n",
       "      <td>3550.0</td>\n",
       "      <td>NaN</td>\n",
       "      <td>NaN</td>\n",
       "      <td>True</td>\n",
       "      <td>../data/CARMENES_GTO_RVs/J22102+587.dat</td>\n",
       "      <td>NaN</td>\n",
       "      <td>True</td>\n",
       "      <td>False</td>\n",
       "      <td>none</td>\n",
       "      <td>none</td>\n",
       "    </tr>\n",
       "    <tr>\n",
       "      <th>345</th>\n",
       "      <td>J20109+708</td>\n",
       "      <td>TYC 4450-1440-1</td>\n",
       "      <td>-</td>\n",
       "      <td>NaN</td>\n",
       "      <td>302.737507</td>\n",
       "      <td>70.869661</td>\n",
       "      <td>20:10:57.12</td>\n",
       "      <td>+70:52:09.8</td>\n",
       "      <td>103.864573</td>\n",
       "      <td>19.367775</td>\n",
       "      <td>...</td>\n",
       "      <td>4550.0</td>\n",
       "      <td>NaN</td>\n",
       "      <td>NaN</td>\n",
       "      <td>True</td>\n",
       "      <td>../data/CARMENES_GTO_RVs/J20109+708.dat</td>\n",
       "      <td>NaN</td>\n",
       "      <td>True</td>\n",
       "      <td>False</td>\n",
       "      <td>none</td>\n",
       "      <td>none</td>\n",
       "    </tr>\n",
       "    <tr>\n",
       "      <th>436</th>\n",
       "      <td>J19025+754</td>\n",
       "      <td>LSPM J1902+7525</td>\n",
       "      <td>-</td>\n",
       "      <td>NaN</td>\n",
       "      <td>285.636636</td>\n",
       "      <td>75.418511</td>\n",
       "      <td>19:02:31.93</td>\n",
       "      <td>+75:25:07.0</td>\n",
       "      <td>106.755821</td>\n",
       "      <td>25.495532</td>\n",
       "      <td>...</td>\n",
       "      <td>3750.0</td>\n",
       "      <td>NaN</td>\n",
       "      <td>NaN</td>\n",
       "      <td>True</td>\n",
       "      <td>../data/CARMENES_GTO_RVs/J19025+754.dat</td>\n",
       "      <td>NaN</td>\n",
       "      <td>True</td>\n",
       "      <td>False</td>\n",
       "      <td>none</td>\n",
       "      <td>none</td>\n",
       "    </tr>\n",
       "    <tr>\n",
       "      <th>1282</th>\n",
       "      <td>J09286-121</td>\n",
       "      <td>G 161-32</td>\n",
       "      <td>-</td>\n",
       "      <td>NaN</td>\n",
       "      <td>142.173451</td>\n",
       "      <td>-12.167219</td>\n",
       "      <td>09:28:41.58</td>\n",
       "      <td>-12:09:55.1</td>\n",
       "      <td>244.789722</td>\n",
       "      <td>27.071193</td>\n",
       "      <td>...</td>\n",
       "      <td>3550.0</td>\n",
       "      <td>NaN</td>\n",
       "      <td>NaN</td>\n",
       "      <td>True</td>\n",
       "      <td>../data/CARMENES_GTO_RVs/J09286-121.dat</td>\n",
       "      <td>NaN</td>\n",
       "      <td>True</td>\n",
       "      <td>False</td>\n",
       "      <td>none</td>\n",
       "      <td>none</td>\n",
       "    </tr>\n",
       "  </tbody>\n",
       "</table>\n",
       "<p>4 rows × 186 columns</p>\n",
       "</div>"
      ],
      "text/plain": [
       "           Karmn             Name Comp   GJ  RA_J2016_deg  DE_J2016_deg  \\\n",
       "180   J22102+587         TOI-2285    -  NaN    332.563270     58.706090   \n",
       "345   J20109+708  TYC 4450-1440-1    -  NaN    302.737507     70.869661   \n",
       "436   J19025+754  LSPM J1902+7525    -  NaN    285.636636     75.418511   \n",
       "1282  J09286-121         G 161-32    -  NaN    142.173451    -12.167219   \n",
       "\n",
       "         RA_J2000     DE_J2000  l_J2016_deg  b_J2016_deg  ... Teff_max_K  \\\n",
       "180   22:10:15.14  +58:42:22.2   103.288489     2.123561  ...     3550.0   \n",
       "345   20:10:57.12  +70:52:09.8   103.864573    19.367775  ...     4550.0   \n",
       "436   19:02:31.93  +75:25:07.0   106.755821    25.495532  ...     3750.0   \n",
       "1282  09:28:41.58  -12:09:55.1   244.789722    27.071193  ...     3550.0   \n",
       "\n",
       "     logg_min  logg_max is_GTO                                  rv_file  \\\n",
       "180       NaN       NaN   True  ../data/CARMENES_GTO_RVs/J22102+587.dat   \n",
       "345       NaN       NaN   True  ../data/CARMENES_GTO_RVs/J20109+708.dat   \n",
       "436       NaN       NaN   True  ../data/CARMENES_GTO_RVs/J19025+754.dat   \n",
       "1282      NaN       NaN   True  ../data/CARMENES_GTO_RVs/J09286-121.dat   \n",
       "\n",
       "      lc_file  has_rv  has_lc  InstBand_nominal  InstBand_ranged  \n",
       "180       NaN    True   False              none             none  \n",
       "345       NaN    True   False              none             none  \n",
       "436       NaN    True   False              none             none  \n",
       "1282      NaN    True   False              none             none  \n",
       "\n",
       "[4 rows x 186 columns]"
      ]
     },
     "execution_count": 24,
     "metadata": {},
     "output_type": "execute_result"
    }
   ],
   "source": [
    "gto_nan_logg_teff = carmenes[(carmenes['is_GTO'] == True) &\n",
    "                            ((carmenes['logg'].isna()) | (carmenes['Teff_K'].isna()))].copy()\n",
    "gto_nan_logg_teff"
   ]
  },
  {
   "cell_type": "markdown",
   "id": "d7278fd7",
   "metadata": {},
   "source": [
    "Check `Nan` values in any of the variables"
   ]
  },
  {
   "cell_type": "code",
   "execution_count": 25,
   "id": "64fcb953",
   "metadata": {
    "ExecuteTime": {
     "end_time": "2022-03-14T19:40:08.158663Z",
     "start_time": "2022-03-14T19:40:08.143703Z"
    }
   },
   "outputs": [
    {
     "data": {
      "text/plain": [
       "GJ           91\n",
       "logg          4\n",
       "elogg         4\n",
       "[Fe/H]        4\n",
       "e[Fe/H]      36\n",
       "           ... \n",
       "Survey        2\n",
       "Notes       324\n",
       "logg_min      4\n",
       "logg_max      4\n",
       "lc_file     133\n",
       "Length: 130, dtype: int64"
      ]
     },
     "execution_count": 25,
     "metadata": {},
     "output_type": "execute_result"
    }
   ],
   "source": [
    "gto_nan = carmenes[carmenes['is_GTO'] == True].isna().sum()\n",
    "gto_nan = gto_nan[gto_nan > 0]\n",
    "gto_nan"
   ]
  },
  {
   "cell_type": "code",
   "execution_count": 26,
   "id": "93a5d012",
   "metadata": {
    "ExecuteTime": {
     "end_time": "2022-03-14T19:40:08.174620Z",
     "start_time": "2022-03-14T19:40:08.159660Z"
    }
   },
   "outputs": [
    {
     "name": "stdout",
     "output_type": "stream",
     "text": [
      "['GJ', 'logg', 'elogg', '[Fe/H]', 'e[Fe/H]', 'R_Rsol', 'eR_Rsol', 'Ref05', 'M_Msol', 'eM_Msol', 'Ref06', 'pi_mas', 'epi_mas', 'Ref08', 'Vr_kms-1', 'eVr_kms-1', 'Ref10', 'ruwe', 'Ref11', 'U_kms-1', 'eU_kms-1', 'V_kms-1', 'eV_kms-1', 'W_kms-1', 'eW_kms-1', 'Ref12', 'sa_m/s/a', 'esa_m/s/a', 'Ref13', 'SKG', 'Ref14', 'SKG_lit', 'Ref14_lit', 'Pop', 'Ref15', 'vsini_flag', 'vsini_kms-1', 'evsini_kms-1', 'Ref16', 'P_d', 'eP_d', 'Ref17', 'pEWHalpha_A', 'epEWHalpha_A', 'Ref18', 'log(LHalpha/Lbol)', 'elog(LHalpha/Lbol)', 'Ref19', '1RXS', 'CRT_s-1', 'eCRT_s-1', 'HR1', 'eHR1', 'HR2', 'eHR2', 'Flux_X_E-13_ergcm-2s-1', 'eFlux_X_E-13_ergcm-2s-1', 'LX/LJ', 'eLX/LJ', 'Ref20', 'Activity', 'Ref21', 'FUV_mag', 'eFUV_mag', 'NUV_mag', 'eNUV_mag', 'Ref22', 'u_mag', 'eu_mag', 'Ref23', 'BT_mag', 'eBT_mag', 'Ref24', 'B_mag', 'eB_mag', 'Ref25', 'g_mag', 'eg_mag', 'Ref27', 'VT_mag', 'eVT_mag', 'Ref28', 'V_mag', 'eV_mag', 'Ref29', 'Ra_mag', 'Ref30', 'r_mag', 'er_mag', 'Ref31', 'i_mag', 'ei_mag', 'Ref33', 'IN_mag', 'Ref35', 'eJ_mag', 'eKs_mag', 'W1_mag', 'eW1_mag', 'W2_mag', 'eW2_mag', 'W3_mag', 'eW3_mag', 'W4_mag', 'eW4_mag', 'QFlag_WISE', 'Ref37', 'WideWDS', 'Widerho_arcsec', 'eWiderho_arcsec', 'Ref38', 'WideCompanionName', 'WideCompanionSpT', 'CloseWDS', 'Closerho_arcsec', 'eCloserho_arcsec', 'Ref39', 'CloseCompanionSpT', 'RV', 'Ref40', 'PlanetNum', 'LoRes_spectrum', 'HiRes_spectrum', 'LoRes_imaging', 'HiRes_imaging', 'Survey', 'Notes', 'logg_min', 'logg_max', 'lc_file']\n"
     ]
    }
   ],
   "source": [
    "print(gto_nan.index.to_list())"
   ]
  },
  {
   "cell_type": "code",
   "execution_count": 27,
   "id": "a68cadf0",
   "metadata": {
    "ExecuteTime": {
     "end_time": "2022-03-14T19:40:08.190577Z",
     "start_time": "2022-03-14T19:40:08.175618Z"
    }
   },
   "outputs": [
    {
     "data": {
      "text/plain": [
       "130"
      ]
     },
     "execution_count": 27,
     "metadata": {},
     "output_type": "execute_result"
    }
   ],
   "source": [
    "len(gto_nan)"
   ]
  },
  {
   "cell_type": "markdown",
   "id": "a34da1c8",
   "metadata": {},
   "source": [
    "### GTO objects without light curve data"
   ]
  },
  {
   "cell_type": "code",
   "execution_count": 28,
   "id": "6ebff4c6",
   "metadata": {
    "ExecuteTime": {
     "end_time": "2022-03-14T19:40:08.206535Z",
     "start_time": "2022-03-14T19:40:08.191576Z"
    }
   },
   "outputs": [
    {
     "data": {
      "text/plain": [
       "(133, 186)"
      ]
     },
     "execution_count": 28,
     "metadata": {},
     "output_type": "execute_result"
    }
   ],
   "source": [
    "gto_no_lc = carmenes[(carmenes['is_GTO'] == True) &\n",
    "                     (carmenes['has_lc'] == False)].copy()\n",
    "gto_no_lc.shape"
   ]
  },
  {
   "cell_type": "markdown",
   "id": "0f1a1699",
   "metadata": {},
   "source": [
    "Grouped by instability band or not:"
   ]
  },
  {
   "cell_type": "code",
   "execution_count": 29,
   "id": "de3421cb",
   "metadata": {
    "ExecuteTime": {
     "end_time": "2022-03-14T19:40:08.222528Z",
     "start_time": "2022-03-14T19:40:08.207532Z"
    }
   },
   "outputs": [
    {
     "data": {
      "text/html": [
       "<div>\n",
       "<style scoped>\n",
       "    .dataframe tbody tr th:only-of-type {\n",
       "        vertical-align: middle;\n",
       "    }\n",
       "\n",
       "    .dataframe tbody tr th {\n",
       "        vertical-align: top;\n",
       "    }\n",
       "\n",
       "    .dataframe thead th {\n",
       "        text-align: right;\n",
       "    }\n",
       "</style>\n",
       "<table border=\"1\" class=\"dataframe\">\n",
       "  <thead>\n",
       "    <tr style=\"text-align: right;\">\n",
       "      <th></th>\n",
       "      <th>Karmn</th>\n",
       "    </tr>\n",
       "    <tr>\n",
       "      <th>InstBand_ranged</th>\n",
       "      <th></th>\n",
       "    </tr>\n",
       "  </thead>\n",
       "  <tbody>\n",
       "    <tr>\n",
       "      <th>He3-burning</th>\n",
       "      <td>87</td>\n",
       "    </tr>\n",
       "    <tr>\n",
       "      <th>none</th>\n",
       "      <td>46</td>\n",
       "    </tr>\n",
       "  </tbody>\n",
       "</table>\n",
       "</div>"
      ],
      "text/plain": [
       "                 Karmn\n",
       "InstBand_ranged       \n",
       "He3-burning         87\n",
       "none                46"
      ]
     },
     "execution_count": 29,
     "metadata": {},
     "output_type": "execute_result"
    }
   ],
   "source": [
    "gto_no_lc[['Karmn', 'InstBand_ranged']].groupby('InstBand_ranged').count()"
   ]
  },
  {
   "cell_type": "markdown",
   "id": "872bddf8",
   "metadata": {},
   "source": [
    "## Data visualization"
   ]
  },
  {
   "cell_type": "code",
   "execution_count": 30,
   "id": "ecc604a6",
   "metadata": {
    "ExecuteTime": {
     "end_time": "2022-03-14T19:40:08.238450Z",
     "start_time": "2022-03-14T19:40:08.223489Z"
    }
   },
   "outputs": [
    {
     "data": {
      "text/plain": [
       "(363, 186)"
      ]
     },
     "execution_count": 30,
     "metadata": {},
     "output_type": "execute_result"
    }
   ],
   "source": [
    "gto = carmenes[carmenes['is_GTO'] == True].copy()\n",
    "\n",
    "gto.shape"
   ]
  },
  {
   "cell_type": "markdown",
   "id": "e0892369",
   "metadata": {},
   "source": [
    "### Only GTO objects (_zoom_)"
   ]
  },
  {
   "cell_type": "code",
   "execution_count": 31,
   "id": "cbb4d5ba",
   "metadata": {
    "ExecuteTime": {
     "end_time": "2022-03-14T19:40:08.959347Z",
     "start_time": "2022-03-14T19:40:08.239447Z"
    },
    "scrolled": false
   },
   "outputs": [
    {
     "data": {
      "image/png": "[encoded data removed]",
      "text/plain": [
       "<Figure size 720x720 with 1 Axes>"
      ]
     },
     "metadata": {},
     "output_type": "display_data"
    }
   ],
   "source": [
    "plt.figure(figsize=(10,10))\n",
    "ax = sns.scatterplot(data=gto, x='Teff_K', y='logg', hue='InstBand_nominal')\n",
    "# Set plot limits as per global CARMENES data values.\n",
    "x_min = min([INST_B['He3-burning']['Teff']['min'], INST_B['D-burning']['Teff']['min'],\n",
    "             carmenes['Teff_min_K'].min()])\n",
    "x_max = max([INST_B['He3-burning']['Teff']['max'], INST_B['D-burning']['Teff']['max'],\n",
    "             carmenes['Teff_max_K'].max()])\n",
    "y_min = min([INST_B['He3-burning']['logg']['min'], INST_B['D-burning']['logg']['min'],\n",
    "             carmenes['logg_min'].min()])\n",
    "y_max = max([INST_B['He3-burning']['logg']['max'], INST_B['D-burning']['logg']['max'],\n",
    "             carmenes['logg_max'].max()])\n",
    "ax.set_xlim((x_min, x_max))\n",
    "ax.set_ylim((y_min, y_max))\n",
    "# Add and label instability regions:\n",
    "ax.add_patch(mpatches.Rectangle((2800, 3.1), 700, 0.5, facecolor=\"green\", alpha=0.10))\n",
    "ax.text(3500, 3.6, \"D-burning instability band\", color=\"green\", fontsize=12)\n",
    "ax.add_patch(mpatches.Rectangle((3300, 4.5), 1000, 0.6, facecolor=\"purple\", alpha=0.10))\n",
    "ax.text(4300, 5.1, \"He3-burning instability band\", color=\"purple\", fontsize=12)\n",
    "# Set titles, sizes etc.\n",
    "ax.set_title(\"GTO database objects instability bands - Nominal $T_{eff}$ and $log(g)$\", fontsize=16)\n",
    "ax.set_xlabel(\"$T_{eff}$ [K]\", fontsize=12)\n",
    "ax.set_ylabel(\"$log(g)$\", fontsize=12)\n",
    "ax.tick_params(axis='both', which='major', bottom=True, left=True, labelsize=12)\n",
    "ax.invert_xaxis()\n",
    "ax.invert_yaxis()\n",
    "plt.legend(title=\"GTO objects in instability band\", title_fontsize='large',\n",
    "           loc='best', fontsize=12)\n",
    "plt.savefig(IMAGE_NOMINAL_OUT)\n",
    "plt.show();"
   ]
  },
  {
   "cell_type": "code",
   "execution_count": 32,
   "id": "561863a5",
   "metadata": {
    "ExecuteTime": {
     "end_time": "2022-03-14T19:40:09.387448Z",
     "start_time": "2022-03-14T19:40:08.960345Z"
    },
    "scrolled": false
   },
   "outputs": [
    {
     "data": {
      "image/png": "[encoded data removed]",
      "text/plain": [
       "<Figure size 720x720 with 1 Axes>"
      ]
     },
     "metadata": {},
     "output_type": "display_data"
    }
   ],
   "source": [
    "plt.figure(figsize=(10,10))\n",
    "ax = sns.scatterplot(data=gto, x='Teff_K', y='logg', hue='InstBand_ranged')\n",
    "# Set plot limits as per global CARMENES data values.\n",
    "x_min = min([INST_B['He3-burning']['Teff']['min'], INST_B['D-burning']['Teff']['min'],\n",
    "             carmenes['Teff_min_K'].min()])\n",
    "x_max = max([INST_B['He3-burning']['Teff']['max'], INST_B['D-burning']['Teff']['max'],\n",
    "             carmenes['Teff_max_K'].max()])\n",
    "y_min = min([INST_B['He3-burning']['logg']['min'], INST_B['D-burning']['logg']['min'],\n",
    "             carmenes['logg_min'].min()])\n",
    "y_max = max([INST_B['He3-burning']['logg']['max'], INST_B['D-burning']['logg']['max'],\n",
    "             carmenes['logg_max'].max()])\n",
    "ax.set_xlim((x_min, x_max))\n",
    "ax.set_ylim((y_min, y_max))\n",
    "# Add and label instability regions:\n",
    "ax.add_patch(mpatches.Rectangle((2800, 3.1), 700, 0.5, facecolor=\"green\", alpha=0.10))\n",
    "ax.text(3500, 3.6, \"D-burning instability band\", color=\"green\", fontsize=12)\n",
    "ax.add_patch(mpatches.Rectangle((3300, 4.5), 1000, 0.6, facecolor=\"purple\", alpha=0.10))\n",
    "ax.text(4300, 5.1, \"He3-burning and flux blocking instability band\", color=\"purple\", fontsize=12)\n",
    "# Set titles, sizes etc.\n",
    "ax.set_title(\"GTO database objects instability bands - Ranged $T_{eff}$ and $log(g)$\", fontsize=16)\n",
    "ax.set_xlabel(\"$T_{eff}$ [K]\", fontsize=12)\n",
    "ax.set_ylabel(\"$log(g)$\", fontsize=12)\n",
    "ax.tick_params(axis='both', which='major', bottom=True, left=True, labelsize=12)\n",
    "ax.invert_xaxis()\n",
    "ax.invert_yaxis()\n",
    "plt.legend(title=\"GTO objects in instability band\", title_fontsize='large',\n",
    "           loc='best', fontsize=12)\n",
    "plt.savefig(IMAGE_RANGED_OUT)\n",
    "plt.show();"
   ]
  },
  {
   "cell_type": "markdown",
   "id": "d9b1a435",
   "metadata": {},
   "source": [
    "### Only GTO objects (HR diagram typical ranges)"
   ]
  },
  {
   "cell_type": "code",
   "execution_count": 33,
   "id": "88a07496",
   "metadata": {
    "ExecuteTime": {
     "end_time": "2022-03-14T19:40:09.402377Z",
     "start_time": "2022-03-14T19:40:09.388416Z"
    }
   },
   "outputs": [
    {
     "data": {
      "text/html": [
       "<div>\n",
       "<style scoped>\n",
       "    .dataframe tbody tr th:only-of-type {\n",
       "        vertical-align: middle;\n",
       "    }\n",
       "\n",
       "    .dataframe tbody tr th {\n",
       "        vertical-align: top;\n",
       "    }\n",
       "\n",
       "    .dataframe thead th {\n",
       "        text-align: right;\n",
       "    }\n",
       "</style>\n",
       "<table border=\"1\" class=\"dataframe\">\n",
       "  <thead>\n",
       "    <tr style=\"text-align: right;\">\n",
       "      <th></th>\n",
       "      <th>Teff_K</th>\n",
       "      <th>logg</th>\n",
       "    </tr>\n",
       "  </thead>\n",
       "  <tbody>\n",
       "    <tr>\n",
       "      <th>count</th>\n",
       "      <td>363.000000</td>\n",
       "      <td>359.000000</td>\n",
       "    </tr>\n",
       "    <tr>\n",
       "      <th>mean</th>\n",
       "      <td>3438.807163</td>\n",
       "      <td>4.934206</td>\n",
       "    </tr>\n",
       "    <tr>\n",
       "      <th>std</th>\n",
       "      <td>296.667655</td>\n",
       "      <td>0.227844</td>\n",
       "    </tr>\n",
       "    <tr>\n",
       "      <th>min</th>\n",
       "      <td>2400.000000</td>\n",
       "      <td>4.000000</td>\n",
       "    </tr>\n",
       "    <tr>\n",
       "      <th>25%</th>\n",
       "      <td>3255.000000</td>\n",
       "      <td>4.840000</td>\n",
       "    </tr>\n",
       "    <tr>\n",
       "      <th>50%</th>\n",
       "      <td>3455.000000</td>\n",
       "      <td>4.940000</td>\n",
       "    </tr>\n",
       "    <tr>\n",
       "      <th>75%</th>\n",
       "      <td>3593.500000</td>\n",
       "      <td>5.060000</td>\n",
       "    </tr>\n",
       "    <tr>\n",
       "      <th>max</th>\n",
       "      <td>4500.000000</td>\n",
       "      <td>5.500000</td>\n",
       "    </tr>\n",
       "  </tbody>\n",
       "</table>\n",
       "</div>"
      ],
      "text/plain": [
       "            Teff_K        logg\n",
       "count   363.000000  359.000000\n",
       "mean   3438.807163    4.934206\n",
       "std     296.667655    0.227844\n",
       "min    2400.000000    4.000000\n",
       "25%    3255.000000    4.840000\n",
       "50%    3455.000000    4.940000\n",
       "75%    3593.500000    5.060000\n",
       "max    4500.000000    5.500000"
      ]
     },
     "execution_count": 33,
     "metadata": {},
     "output_type": "execute_result"
    }
   ],
   "source": [
    "gto[['Teff_K', 'logg']].describe()"
   ]
  },
  {
   "cell_type": "code",
   "execution_count": 34,
   "id": "fda8591a",
   "metadata": {
    "ExecuteTime": {
     "end_time": "2022-03-14T19:40:09.434416Z",
     "start_time": "2022-03-14T19:40:09.403375Z"
    }
   },
   "outputs": [
    {
     "data": {
      "text/html": [
       "<div>\n",
       "<style scoped>\n",
       "    .dataframe tbody tr th:only-of-type {\n",
       "        vertical-align: middle;\n",
       "    }\n",
       "\n",
       "    .dataframe tbody tr th {\n",
       "        vertical-align: top;\n",
       "    }\n",
       "\n",
       "    .dataframe thead th {\n",
       "        text-align: right;\n",
       "    }\n",
       "</style>\n",
       "<table border=\"1\" class=\"dataframe\">\n",
       "  <thead>\n",
       "    <tr style=\"text-align: right;\">\n",
       "      <th></th>\n",
       "      <th>Teff</th>\n",
       "      <th>log_g</th>\n",
       "    </tr>\n",
       "  </thead>\n",
       "  <tbody>\n",
       "    <tr>\n",
       "      <th>count</th>\n",
       "      <td>264732.000000</td>\n",
       "      <td>264732.000000</td>\n",
       "    </tr>\n",
       "    <tr>\n",
       "      <th>mean</th>\n",
       "      <td>3611.013316</td>\n",
       "      <td>5.070244</td>\n",
       "    </tr>\n",
       "    <tr>\n",
       "      <th>std</th>\n",
       "      <td>712.185099</td>\n",
       "      <td>0.220097</td>\n",
       "    </tr>\n",
       "    <tr>\n",
       "      <th>min</th>\n",
       "      <td>2742.837004</td>\n",
       "      <td>0.665406</td>\n",
       "    </tr>\n",
       "    <tr>\n",
       "      <th>25%</th>\n",
       "      <td>3218.103443</td>\n",
       "      <td>5.003494</td>\n",
       "    </tr>\n",
       "    <tr>\n",
       "      <th>50%</th>\n",
       "      <td>3477.763139</td>\n",
       "      <td>5.110949</td>\n",
       "    </tr>\n",
       "    <tr>\n",
       "      <th>75%</th>\n",
       "      <td>3767.905482</td>\n",
       "      <td>5.214531</td>\n",
       "    </tr>\n",
       "    <tr>\n",
       "      <th>max</th>\n",
       "      <td>20365.730854</td>\n",
       "      <td>5.385102</td>\n",
       "    </tr>\n",
       "  </tbody>\n",
       "</table>\n",
       "</div>"
      ],
      "text/plain": [
       "                Teff          log_g\n",
       "count  264732.000000  264732.000000\n",
       "mean     3611.013316       5.070244\n",
       "std       712.185099       0.220097\n",
       "min      2742.837004       0.665406\n",
       "25%      3218.103443       5.003494\n",
       "50%      3477.763139       5.110949\n",
       "75%      3767.905482       5.214531\n",
       "max     20365.730854       5.385102"
      ]
     },
     "execution_count": 34,
     "metadata": {},
     "output_type": "execute_result"
    }
   ],
   "source": [
    "stellar_pop[['Teff', 'log_g']].describe()"
   ]
  },
  {
   "cell_type": "code",
   "execution_count": 35,
   "id": "a7cbb9a2",
   "metadata": {
    "ExecuteTime": {
     "end_time": "2022-03-14T19:40:17.111823Z",
     "start_time": "2022-03-14T19:40:09.436408Z"
    }
   },
   "outputs": [
    {
     "data": {
      "image/png": "[encoded data removed]",
      "text/plain": [
       "<Figure size 720x720 with 1 Axes>"
      ]
     },
     "metadata": {},
     "output_type": "display_data"
    }
   ],
   "source": [
    "plt.figure(figsize=(10,10))\n",
    "#ax = sns.scatterplot(data=gto, x='Teff_K', y='logg', hue='InstBand_ranged')\n",
    "# Draw the synthetic population:\n",
    "ax = sns.scatterplot(data=stellar_pop, x='Teff', y='log_g', color='gray', size=1.0, alpha=0.1,\n",
    "                     legend=False)\n",
    "\n",
    "# Set plot limits as per typical logg and Teff values in HR diagram.\n",
    "x_min = 2200\n",
    "x_max = 20000\n",
    "y_min = 0.50\n",
    "y_max = 6.00\n",
    "ax.set_xlim((x_min, x_max))\n",
    "ax.set_ylim((y_min, y_max))\n",
    "\n",
    "# Add the synthetic population:\n",
    "#sns.scatterplot(data=stellar_pop, x='Teff', y='log_g', color='gray', size=1.0, alpha=0.1,\n",
    "#                ax=ax, legend=False)\n",
    "# Add the GTO objetcs:\n",
    "sns.scatterplot(data=gto, x='Teff_K', y='logg', hue='InstBand_ranged',\n",
    "                ax=ax, legend=True)\n",
    "\n",
    "# Add patches and label for instability regions:\n",
    "ax.add_patch(mpatches.Rectangle((2800, 3.1), 700, 0.5, facecolor=\"green\", alpha=0.30))\n",
    "ax.text(3500, 3.6, \"D-burning instability band\", color=\"green\", fontsize=12, ha='right')\n",
    "ax.add_patch(mpatches.Rectangle((3300, 4.5), 1000, 0.6, facecolor=\"purple\", alpha=0.30))\n",
    "ax.text(4300, 5.1, \"He3-burning and flux blocking instability band\", color=\"purple\", fontsize=12, ha='right')\n",
    "\n",
    "# Set titles, sizes etc.\n",
    "ax.set_title(\"GTO database objects instability bands - Ranged $T_{eff}$ and $log(g)$\\n\"\n",
    "             \"With reference synthetic stellar population in gray\", fontsize=16)\n",
    "ax.set_xlabel(\"$T_{eff}$ [K]\", fontsize=12)\n",
    "ax.set_ylabel(\"$log(g)$\", fontsize=12)\n",
    "ax.tick_params(axis='both', which='major', bottom=True, left=True, labelsize=12)\n",
    "ax.invert_xaxis()\n",
    "ax.invert_yaxis()\n",
    "plt.legend(title=\"GTO objects in instability band\", title_fontsize='large',\n",
    "           loc='upper left', fontsize=12)\n",
    "plt.savefig(IMAGE_RANGED_OUT_FULL_HR)\n",
    "plt.show();"
   ]
  },
  {
   "cell_type": "markdown",
   "id": "9ebd2682",
   "metadata": {},
   "source": [
    "**Observation:** some strange shape appears at the right end of the sysnthetic stellar population."
   ]
  },
  {
   "cell_type": "markdown",
   "id": "023384cc",
   "metadata": {},
   "source": [
    "### Visualization of GTO objects with no light curve data"
   ]
  },
  {
   "cell_type": "code",
   "execution_count": 36,
   "id": "18e743f1",
   "metadata": {
    "ExecuteTime": {
     "end_time": "2022-03-14T19:40:17.460255Z",
     "start_time": "2022-03-14T19:40:17.112821Z"
    }
   },
   "outputs": [
    {
     "data": {
      "image/png": "[encoded data removed]",
      "text/plain": [
       "<Figure size 720x720 with 1 Axes>"
      ]
     },
     "metadata": {},
     "output_type": "display_data"
    }
   ],
   "source": [
    "plt.figure(figsize=(10,10))\n",
    "ax = sns.scatterplot(data=gto_no_lc, x='RA_J2016_deg', y='DE_J2016_deg',\n",
    "                     color='red', label='Without LC data')\n",
    "sns.scatterplot(data=gto[gto['has_lc'] == True], x='RA_J2016_deg', y='DE_J2016_deg',\n",
    "                color='blue', label='With LC data', ax=ax)\n",
    "# Set plot limits as per typical logg and Teff values in HR diagram.\n",
    "x_min = 0.0\n",
    "x_max = 360.0\n",
    "y_min = -90.0\n",
    "y_max = 90.0\n",
    "ax.set_xlim((x_min, x_max))\n",
    "ax.set_ylim((y_min, y_max))\n",
    "# Set titles, sizes, etc.\n",
    "ax.set_title(\"Coordinates of GTO objects with & without light curve (LC) data\", fontsize=16)\n",
    "ax.set_xlabel(\"RA [deg]\", fontsize=12)\n",
    "ax.set_ylabel(\"Dec [deg]\", fontsize=12)\n",
    "ax.tick_params(axis='both', which='major', bottom=True, left=True, labelsize=12)\n",
    "ax.invert_xaxis()\n",
    "plt.legend(title=\"GTO objects in instability band\", title_fontsize='large',\n",
    "           loc='best', fontsize=12)\n",
    "plt.savefig(IMAGE_NO_LC_GTO_LOCATION)\n",
    "plt.show();"
   ]
  },
  {
   "cell_type": "raw",
   "id": "652522ee",
   "metadata": {
    "ExecuteTime": {
     "end_time": "2022-01-22T12:25:30.736820Z",
     "start_time": "2022-01-22T12:25:30.406677Z"
    }
   },
   "source": [
    "#### PENDING --- TRY TO IMPROVE VISUALIZATION: USE ANOTHER PROJECTION: \"AITOFF\"\n",
    "plt.figure(figsize=(10,10))\n",
    "# Set up a grid of axes with a polar projection\n",
    "#g = sns.FacetGrid(df, col=\"speed\", hue=\"speed\",\n",
    "#                  subplot_kws=dict(projection='polar'), height=4.5,\n",
    "#                  sharex=False, sharey=False, despine=False)\n",
    "#\n",
    "# Draw a scatterplot onto each axes in the grid\n",
    "#g.map(sns.scatterplot, \"theta\", \"r\")\n",
    "g = sns.FacetGrid(data=gto, color='has_lc',\n",
    "                  subplot_kws=dict(projection='aitoff'))\n",
    "g.map(sns.scatterplot, 'RA_J2016_deg', 'DE_J2016_deg')\n",
    "\n",
    "\n",
    "#ax = sns.scatterplot(data=gto_no_lc, x='RA_J2016_deg', y='DE_J2016_deg',\n",
    "#                     color='red', label='Without LC data')\n",
    "#sns.scatterplot(data=gto[gto['has_lc'] == True], x='RA_J2016_deg', y='DE_J2016_deg',\n",
    "#                color='blue', label='With LC data', ax=ax)\n",
    "# Set plot limits as per typical logg and Teff values in HR diagram.\n",
    "x_min = 0.0\n",
    "x_max = 360.0\n",
    "y_min = -90.0\n",
    "y_max = 90.0\n",
    "ax.set_xlim((x_min, x_max))\n",
    "ax.set_ylim((y_min, y_max))\n",
    "# Set titles, sizes, etc.\n",
    "ax.set_title(\"Coordinates of GTO objects with & without light curve (LC) data\", fontsize=16)\n",
    "ax.set_xlabel(\"RA [deg]\", fontsize=12)\n",
    "ax.set_ylabel(\"Dec [deg]\", fontsize=12)\n",
    "ax.tick_params(axis='both', which='major', labelsize=12)\n",
    "ax.invert_xaxis()\n",
    "plt.legend(title=\"GTO objects in instability band\", title_fontsize='large',\n",
    "           loc='best', fontsize=12)\n",
    "plt.savefig(IMAGE_NO_LC_GTO_LOCATION)\n",
    "plt.show();"
   ]
  },
  {
   "cell_type": "markdown",
   "id": "9c7673b7",
   "metadata": {},
   "source": [
    "### CARMENES and GTO objects, located in a typical HR diagram (temperature - luminosity)"
   ]
  },
  {
   "cell_type": "code",
   "execution_count": 37,
   "id": "2490f618",
   "metadata": {
    "ExecuteTime": {
     "end_time": "2022-03-14T19:40:17.475215Z",
     "start_time": "2022-03-14T19:40:17.461254Z"
    }
   },
   "outputs": [
    {
     "data": {
      "text/plain": [
       "Index(['star_number', 'log(t[years])', 'Metallicity[Fe/H]', 'Mass[Mo]',\n",
       "       'log(L/Lo)', 'log(Teff[K])', 'InitMassSec[Mo]', 'VarStarIdx',\n",
       "       'Pulsating_log(P[days])', 'u', 'g', 'r', 'i', 'z', 'u-g', 'g-r', 'r-i',\n",
       "       'i-z', 'log_g', 'Teff', 'Age [Gyr]', 'Age Range [Gyr]', 'ID Age Range',\n",
       "       'Metallicity Range [Fe/H]', 'ID Metallicity Range'],\n",
       "      dtype='object')"
      ]
     },
     "execution_count": 37,
     "metadata": {},
     "output_type": "execute_result"
    }
   ],
   "source": [
    "stellar_pop.columns"
   ]
  },
  {
   "cell_type": "code",
   "execution_count": 38,
   "id": "0eca1ebd",
   "metadata": {
    "ExecuteTime": {
     "end_time": "2022-03-14T19:40:17.491173Z",
     "start_time": "2022-03-14T19:40:17.476213Z"
    }
   },
   "outputs": [
    {
     "name": "stdout",
     "output_type": "stream",
     "text": [
      "['Karmn', 'Name', 'Comp', 'GJ', 'RA_J2016_deg', 'DE_J2016_deg', 'RA_J2000', 'DE_J2000', 'l_J2016_deg', 'b_J2016_deg', 'Ref01', 'SpT', 'SpTnum', 'Ref02', 'Teff_K', 'eTeff_K', 'logg', 'elogg', '[Fe/H]', 'e[Fe/H]', 'Ref03', 'L_Lsol', 'eL_Lsol', 'Ref04', 'R_Rsol', 'eR_Rsol', 'Ref05', 'M_Msol', 'eM_Msol', 'Ref06', 'muRA_masa-1', 'emuRA_masa-1', 'muDE_masa-1', 'emuDE_masa-1', 'Ref07', 'pi_mas', 'epi_mas', 'Ref08', 'd_pc', 'ed_pc', 'Ref09', 'Vr_kms-1', 'eVr_kms-1', 'Ref10', 'ruwe', 'Ref11', 'U_kms-1', 'eU_kms-1', 'V_kms-1', 'eV_kms-1', 'W_kms-1', 'eW_kms-1', 'Ref12', 'sa_m/s/a', 'esa_m/s/a', 'Ref13', 'SKG', 'Ref14', 'SKG_lit', 'Ref14_lit', 'Pop', 'Ref15', 'vsini_flag', 'vsini_kms-1', 'evsini_kms-1', 'Ref16', 'P_d', 'eP_d', 'Ref17', 'pEWHalpha_A', 'epEWHalpha_A', 'Ref18', 'log(LHalpha/Lbol)', 'elog(LHalpha/Lbol)', 'Ref19', '1RXS', 'CRT_s-1', 'eCRT_s-1', 'HR1', 'eHR1', 'HR2', 'eHR2', 'Flux_X_E-13_ergcm-2s-1', 'eFlux_X_E-13_ergcm-2s-1', 'LX/LJ', 'eLX/LJ', 'Ref20', 'Activity', 'Ref21', 'FUV_mag', 'eFUV_mag', 'NUV_mag', 'eNUV_mag', 'Ref22', 'u_mag', 'eu_mag', 'Ref23', 'BT_mag', 'eBT_mag', 'Ref24', 'B_mag', 'eB_mag', 'Ref25', 'BP_mag', 'eBP_mag', 'Ref26', 'g_mag', 'eg_mag', 'Ref27', 'VT_mag', 'eVT_mag', 'Ref28', 'V_mag', 'eV_mag', 'Ref29', 'Ra_mag', 'Ref30', 'r_mag', 'er_mag', 'Ref31', 'GG_mag', 'eGG_mag', 'Ref32', 'i_mag', 'ei_mag', 'Ref33', 'RP_mag', 'eRP_mag', 'Ref34', 'IN_mag', 'Ref35', 'J_mag', 'eJ_mag', 'H_mag', 'eH_mag', 'Ks_mag', 'eKs_mag', 'QFlag_2M', 'Ref36', 'W1_mag', 'eW1_mag', 'W2_mag', 'eW2_mag', 'W3_mag', 'eW3_mag', 'W4_mag', 'eW4_mag', 'QFlag_WISE', 'Ref37', 'Multiplicity', 'WideWDS', 'Widerho_arcsec', 'eWiderho_arcsec', 'Ref38', 'WideCompanionName', 'WideCompanionSpT', 'CloseWDS', 'Closerho_arcsec', 'eCloserho_arcsec', 'Ref39', 'CloseCompanionSpT', 'RV', 'Planet', 'Ref40', 'PlanetNum', 'LoRes_spectrum', 'HiRes_spectrum', 'LoRes_imaging', 'HiRes_imaging', 'Class', 'Survey', 'Notes', 'Gaia_id_1', '2MASS_id', 'TIC_id', 'Teff_min_K', 'Teff_max_K', 'logg_min', 'logg_max', 'is_GTO', 'rv_file', 'lc_file', 'has_rv', 'has_lc', 'InstBand_nominal', 'InstBand_ranged']\n"
     ]
    }
   ],
   "source": [
    "print(carmenes.columns.to_list())"
   ]
  },
  {
   "cell_type": "code",
   "execution_count": 39,
   "id": "b75ab0c7",
   "metadata": {
    "ExecuteTime": {
     "end_time": "2022-03-14T19:40:25.153721Z",
     "start_time": "2022-03-14T19:40:17.492170Z"
    }
   },
   "outputs": [
    {
     "data": {
      "image/png": "[encoded data removed]",
      "text/plain": [
       "<Figure size 720x720 with 1 Axes>"
      ]
     },
     "metadata": {},
     "output_type": "display_data"
    }
   ],
   "source": [
    "plt.figure(figsize=(10,10))\n",
    "#ax = sns.scatterplot(data=gto, x='Teff_K', y='logg', hue='InstBand_ranged')\n",
    "# Draw the synthetic population:\n",
    "ax = sns.scatterplot(data=stellar_pop, x='log(Teff[K])', y='log(L/Lo)', color='gray', size=1.0, alpha=0.1,\n",
    "                     legend=False)\n",
    "\n",
    "# Set plot limits as per typical logg and Teff values in HR diagram.\n",
    "x_min = 3.25\n",
    "x_max = 4.40\n",
    "y_min = -4.5\n",
    "y_max = 4.0\n",
    "ax.set_xlim((x_min, x_max))\n",
    "ax.set_ylim((y_min, y_max))\n",
    "\n",
    "# Add the synthetic population:\n",
    "#sns.scatterplot(data=stellar_pop, x='Teff', y='log_g', color='gray', size=1.0, alpha=0.1,\n",
    "#                ax=ax, legend=False)\n",
    "# Add the CARMENES objetcs:\n",
    "sns.scatterplot(data=carmenes, x=np.log10(carmenes['Teff_K']), y=np.log10(carmenes['L_Lsol']),\n",
    "                hue='is_GTO', ax=ax, legend=True)\n",
    "\n",
    "# Set titles, sizes etc.\n",
    "ax.set_title(\"CARMENES database objects $T_{eff}$ and $log(L/L_{Sun})$\\n\"\n",
    "             \"With reference synthetic stellar population in gray\", fontsize=16)\n",
    "ax.set_xlabel(\"$T_{eff}$ [K]\", fontsize=12)\n",
    "ax.set_ylabel(\"$log(L/L_{Sun})$\", fontsize=12)\n",
    "ax.tick_params(axis='both', which='major', bottom=True, left=True, labelsize=12)\n",
    "ax.invert_xaxis()\n",
    "plt.legend(title=\"Is GTO object?\", title_fontsize='large',\n",
    "           loc='lower left', fontsize=12)\n",
    "plt.savefig(IMAGE_HR_TEFF)\n",
    "plt.show();"
   ]
  },
  {
   "cell_type": "markdown",
   "id": "465f0088",
   "metadata": {},
   "source": [
    "## Save newly modified data, GTO `NaN` rows and `NaN` count"
   ]
  },
  {
   "cell_type": "code",
   "execution_count": 40,
   "id": "8267768a",
   "metadata": {
    "ExecuteTime": {
     "end_time": "2022-03-14T19:40:25.168713Z",
     "start_time": "2022-03-14T19:40:25.154717Z"
    }
   },
   "outputs": [],
   "source": [
    "gto_nan.to_csv(GTO_NAN_FILE, sep=',', decimal='.', index=True)"
   ]
  },
  {
   "cell_type": "code",
   "execution_count": 41,
   "id": "cc3307cc",
   "metadata": {
    "ExecuteTime": {
     "end_time": "2022-03-14T19:40:25.184639Z",
     "start_time": "2022-03-14T19:40:25.170675Z"
    }
   },
   "outputs": [],
   "source": [
    "gto_nan_logg_teff.to_csv(GTO_NAN_RECORD_FILE, sep=',', decimal='.', index=False)"
   ]
  },
  {
   "cell_type": "code",
   "execution_count": 42,
   "id": "476b0c36",
   "metadata": {
    "ExecuteTime": {
     "end_time": "2022-03-14T19:40:25.199645Z",
     "start_time": "2022-03-14T19:40:25.185635Z"
    }
   },
   "outputs": [],
   "source": [
    "gto_no_lc.to_csv(GTO_NO_LC_FILE, sep=',', decimal='.', index=False)"
   ]
  },
  {
   "cell_type": "code",
   "execution_count": 43,
   "id": "f7a067f2",
   "metadata": {
    "ExecuteTime": {
     "end_time": "2022-03-14T19:40:25.354561Z",
     "start_time": "2022-03-14T19:40:25.201592Z"
    }
   },
   "outputs": [],
   "source": [
    "carmenes.to_csv(OUTPUT_FILE, sep=',', decimal='.', index=False)"
   ]
  },
  {
   "cell_type": "code",
   "execution_count": 44,
   "id": "309c3467",
   "metadata": {
    "ExecuteTime": {
     "end_time": "2022-03-14T19:40:25.401895Z",
     "start_time": "2022-03-14T19:40:25.356523Z"
    }
   },
   "outputs": [],
   "source": [
    "carmenes[carmenes['is_GTO'] == True].to_csv(GTO_OUTPUT_FILE, sep=',', decimal='.', index=False)"
   ]
  },
  {
   "cell_type": "markdown",
   "id": "4fe95649",
   "metadata": {},
   "source": [
    "## Summary"
   ]
  },
  {
   "cell_type": "markdown",
   "id": "9c14f82f",
   "metadata": {},
   "source": [
    "**OBSERVATIONS AND CONCLUSIONS:**\n",
    "- Instability bands:\n",
    "  - From the GTO sample, we have 224 stars in the _\"He3-burning\"_ instability band ($\\approx62\\%$ of the sample).\n",
    "  - If we take into account the error margins in the `logg` and `Teff_K` variables, the number increases slightly to 259 stars ($\\approx71\\%$ of the sample))\n",
    "  - The percentages in the _\"He3-burning\"_ instability bands for the sample of non-GTO stars are $\\approx41\\%$ (nominal) and $\\approx49\\%$ (ranged).\n",
    "  - Hence, **a greater fraction of GTO stars are prone to belong to the _He3-burning_ instability band**.\n",
    "  - No star in the total _CARMENES_ sample is located in the _\"D-burning\"_ stability band.\n",
    "  - Notice that some stars in the database have no `Teff_K` or `logg` values, so their belonging to instability bands is unknown:\n",
    "    - 4 GTO stars have no `logg` value. All GTO stars have `Teff_K`value.\n",
    "    - 555 non-GTO stars have no `Teff_K`value; 556 non-GTO stars have no `logg` value.\n",
    "- **133 GTO objects ($\\approx37\\%$) do not have TESS light curve information**, and not all of them are located in a specific region of the sky:\n",
    "  - 87 of them are in the He-3 burning instability band."
   ]
  },
  {
   "cell_type": "code",
   "execution_count": null,
   "id": "69bd4c67",
   "metadata": {},
   "outputs": [],
   "source": []
  }
 ],
 "metadata": {
  "kernelspec": {
   "display_name": "Python 3",
   "language": "python",
   "name": "python3"
  },
  "language_info": {
   "codemirror_mode": {
    "name": "ipython",
    "version": 3
   },
   "file_extension": ".py",
   "mimetype": "text/x-python",
   "name": "python",
   "nbconvert_exporter": "python",
   "pygments_lexer": "ipython3",
   "version": "3.8.8"
  },
  "toc": {
   "base_numbering": 1,
   "nav_menu": {},
   "number_sections": true,
   "sideBar": true,
   "skip_h1_title": true,
   "title_cell": "Table of Contents",
   "title_sidebar": "Contents",
   "toc_cell": false,
   "toc_position": {},
   "toc_section_display": true,
   "toc_window_display": true
  }
 },
 "nbformat": 4,
 "nbformat_minor": 5
}
