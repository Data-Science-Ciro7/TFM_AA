{
 "cells": [
  {
   "cell_type": "markdown",
   "id": "7e41b9a9",
   "metadata": {},
   "source": [
    "# CORRECT RMS VALUES IN SUMMMARY TABLE AND PG RESULTS"
   ]
  },
  {
   "cell_type": "code",
   "execution_count": 1,
   "id": "c002a739",
   "metadata": {
    "ExecuteTime": {
     "end_time": "2022-06-17T10:37:53.073850Z",
     "start_time": "2022-06-17T10:37:53.069860Z"
    }
   },
   "outputs": [],
   "source": [
    "# NOTA IMPORTANTE - CÓMO IMPLEMENTAR LO DEL \"TIMEOUT\".\n",
    "# https://stackoverflow.com/questions/25027122/break-the-function-after-certain-time\n",
    "# NO SIRVE - SOLO SIRVE PARA ENTORNOS UNIX"
   ]
  },
  {
   "cell_type": "markdown",
   "id": "68d4ff82",
   "metadata": {},
   "source": [
    "We detected that during the calculation of the Generalized Lomb-Scargle periodograms we made a mistake, recording the square of the RMS value (the value of the `gls.\\_YY` member variable) instead of the RMS value.\n",
    "\n",
    "This notebook correct the values in all the summary tables and the result files. Result images are not affected."
   ]
  },
  {
   "cell_type": "markdown",
   "id": "9d4512e5",
   "metadata": {},
   "source": [
    "## Modules and configuration"
   ]
  },
  {
   "cell_type": "markdown",
   "id": "a24b300e",
   "metadata": {},
   "source": [
    "### Modules"
   ]
  },
  {
   "cell_type": "code",
   "execution_count": 3,
   "id": "bf7cc337",
   "metadata": {
    "ExecuteTime": {
     "end_time": "2022-06-17T10:38:16.369668Z",
     "start_time": "2022-06-17T10:38:16.362686Z"
    }
   },
   "outputs": [],
   "source": [
    "# Modules import:\n",
    "#from collections import OrderedDict\n",
    "import pandas as pd\n",
    "import numpy as np\n",
    "import os\n",
    "#import time\n",
    "\n",
    "#from scipy import stats\n",
    "\n",
    "# https://github.com/mzechmeister/GLS\n",
    "# from gls import Gls\n",
    "\n",
    "from astropy.table import Table, QTable\n",
    "#from astropy.timeseries import TimeSeries\n",
    "from astropy import units as u\n",
    "from astropy.io import fits\n",
    "#from astropy.time import Time\n",
    "\n",
    "import lightkurve as lk\n",
    "\n",
    "#%matplotlib inline\n",
    "import matplotlib.pyplot as plt\n",
    "\n",
    "from pylab import rcParams\n",
    "rcParams['figure.figsize'] = 11, 11\n",
    "\n",
    "#import seaborn as sns\n",
    "#sns.set_style(\"white\", {'figure.figsize':(15,10)})\n",
    "#sns.set_style(\"whitegrid\")\n",
    "#sns.set(rc={'figure.figsize':(15,8)})"
   ]
  },
  {
   "cell_type": "markdown",
   "id": "be1f4594",
   "metadata": {},
   "source": [
    "### Configuration"
   ]
  },
  {
   "cell_type": "code",
   "execution_count": 41,
   "id": "f3feca3c",
   "metadata": {
    "ExecuteTime": {
     "end_time": "2022-06-17T14:04:53.849064Z",
     "start_time": "2022-06-17T14:04:53.833106Z"
    }
   },
   "outputs": [],
   "source": [
    "# Configuration:\n",
    "\n",
    "# Update type (just in case some problem happens in the first run):\n",
    "ROOT_SQ_GTO = 0 # 0: do not update the RMS values in the GTO table, 1: update the RMS values.\n",
    "ROOT_SQ_CVIS = 0 # 0: do not update the RMS values in the CARM_VIS table, 1: update the RMS values.\n",
    "\n",
    "# Files and folders:\n",
    "GTO_FILE = \"../data/GTO_objects_with_PG.csv\"\n",
    "CARM_VIS_FILE = \"../data/CARM_VIS_objects_with_PG.csv\"\n",
    "OUT_GTO_FILES = \"../data/CARMENES_GTO_RVs_PGs/\"\n",
    "#OUT_CARM_VIS_FILES = \"../data/CARMENES_GTO_RVs_PGs/\"\n",
    "#OUT_TESS_FILES = \"../data/CARMENES_GTO_TESS_PGs/\"\n"
   ]
  },
  {
   "cell_type": "raw",
   "id": "cd923c6f",
   "metadata": {
    "ExecuteTime": {
     "end_time": "2022-06-17T10:38:21.925762Z",
     "start_time": "2022-06-17T10:38:21.859939Z"
    }
   },
   "source": [
    "gto = pd.read_csv(GTO_FILE, sep=',', decimal='.')\n",
    "gto.head()"
   ]
  },
  {
   "cell_type": "raw",
   "id": "942d4d90",
   "metadata": {
    "ExecuteTime": {
     "end_time": "2022-06-17T10:38:22.516990Z",
     "start_time": "2022-06-17T10:38:22.462012Z"
    }
   },
   "source": [
    "cvis = pd.read_csv(CARM_VIS_FILE, sep=',', decimal='.')\n",
    "cvis.head()"
   ]
  },
  {
   "cell_type": "raw",
   "id": "060ab2db",
   "metadata": {
    "ExecuteTime": {
     "end_time": "2022-06-17T10:38:34.076733Z",
     "start_time": "2022-06-17T10:38:34.061773Z"
    }
   },
   "source": [
    "gto['lc_file']"
   ]
  },
  {
   "cell_type": "raw",
   "id": "237627c1",
   "metadata": {
    "ExecuteTime": {
     "end_time": "2022-06-17T10:38:35.954117Z",
     "start_time": "2022-06-17T10:38:35.934157Z"
    }
   },
   "source": [
    "cvis['lc_file']"
   ]
  },
  {
   "cell_type": "raw",
   "id": "f5fbdedb",
   "metadata": {
    "ExecuteTime": {
     "end_time": "2022-06-17T10:38:38.815764Z",
     "start_time": "2022-06-17T10:38:38.797813Z"
    }
   },
   "source": [
    "gto['fig_file_TESS']"
   ]
  },
  {
   "cell_type": "raw",
   "id": "45a12478",
   "metadata": {
    "ExecuteTime": {
     "end_time": "2022-06-17T10:38:39.433482Z",
     "start_time": "2022-06-17T10:38:39.421514Z"
    }
   },
   "source": [
    "cvis['fig_file_TESS']"
   ]
  },
  {
   "cell_type": "markdown",
   "id": "471bf7f4",
   "metadata": {},
   "source": [
    "## Correct RMS for original CARMENES GTO data"
   ]
  },
  {
   "cell_type": "markdown",
   "id": "993e3a72",
   "metadata": {},
   "source": [
    "### GTO data loading"
   ]
  },
  {
   "cell_type": "code",
   "execution_count": 11,
   "id": "501a2ffe",
   "metadata": {
    "ExecuteTime": {
     "end_time": "2022-06-17T10:39:04.183336Z",
     "start_time": "2022-06-17T10:39:04.133856Z"
    }
   },
   "outputs": [
    {
     "data": {
      "text/html": [
       "<div>\n",
       "<style scoped>\n",
       "    .dataframe tbody tr th:only-of-type {\n",
       "        vertical-align: middle;\n",
       "    }\n",
       "\n",
       "    .dataframe tbody tr th {\n",
       "        vertical-align: top;\n",
       "    }\n",
       "\n",
       "    .dataframe thead th {\n",
       "        text-align: right;\n",
       "    }\n",
       "</style>\n",
       "<table border=\"1\" class=\"dataframe\">\n",
       "  <thead>\n",
       "    <tr style=\"text-align: right;\">\n",
       "      <th></th>\n",
       "      <th>Karmn</th>\n",
       "      <th>Name</th>\n",
       "      <th>Comp</th>\n",
       "      <th>GJ</th>\n",
       "      <th>RA_J2016_deg</th>\n",
       "      <th>DE_J2016_deg</th>\n",
       "      <th>RA_J2000</th>\n",
       "      <th>DE_J2000</th>\n",
       "      <th>l_J2016_deg</th>\n",
       "      <th>b_J2016_deg</th>\n",
       "      <th>...</th>\n",
       "      <th>T0_PG_TESS</th>\n",
       "      <th>e_T0_PG_TESS</th>\n",
       "      <th>offset_PG_TESS</th>\n",
       "      <th>e_offset_PG_TESS</th>\n",
       "      <th>FAP_PG_TESS</th>\n",
       "      <th>valid_PG_TESS</th>\n",
       "      <th>error_PG_TESS</th>\n",
       "      <th>elapsed_time_PG_TESS</th>\n",
       "      <th>fits_file_TESS</th>\n",
       "      <th>fig_file_TESS</th>\n",
       "    </tr>\n",
       "  </thead>\n",
       "  <tbody>\n",
       "    <tr>\n",
       "      <th>0</th>\n",
       "      <td>J23585+076</td>\n",
       "      <td>Wolf 1051</td>\n",
       "      <td>AB</td>\n",
       "      <td>4383</td>\n",
       "      <td>359.636420</td>\n",
       "      <td>7.656947</td>\n",
       "      <td>23:58:32.65</td>\n",
       "      <td>+07:39:30.1</td>\n",
       "      <td>100.839686</td>\n",
       "      <td>-52.931049</td>\n",
       "      <td>...</td>\n",
       "      <td>NaN</td>\n",
       "      <td>NaN</td>\n",
       "      <td>NaN</td>\n",
       "      <td>NaN</td>\n",
       "      <td>NaN</td>\n",
       "      <td>0.0</td>\n",
       "      <td>Not recognized as a supported data product:\\nn...</td>\n",
       "      <td>0.002199</td>\n",
       "      <td>NaN</td>\n",
       "      <td>NaN</td>\n",
       "    </tr>\n",
       "    <tr>\n",
       "      <th>1</th>\n",
       "      <td>J23556-061</td>\n",
       "      <td>GJ 912</td>\n",
       "      <td>AB</td>\n",
       "      <td>912</td>\n",
       "      <td>358.913617</td>\n",
       "      <td>-6.144283</td>\n",
       "      <td>23:55:39.78</td>\n",
       "      <td>-06:08:33.4</td>\n",
       "      <td>88.129933</td>\n",
       "      <td>-65.175491</td>\n",
       "      <td>...</td>\n",
       "      <td>NaN</td>\n",
       "      <td>NaN</td>\n",
       "      <td>NaN</td>\n",
       "      <td>NaN</td>\n",
       "      <td>NaN</td>\n",
       "      <td>0.0</td>\n",
       "      <td>Not recognized as a supported data product:\\nn...</td>\n",
       "      <td>0.000974</td>\n",
       "      <td>NaN</td>\n",
       "      <td>NaN</td>\n",
       "    </tr>\n",
       "    <tr>\n",
       "      <th>2</th>\n",
       "      <td>J23548+385</td>\n",
       "      <td>RX J2354.8+3831</td>\n",
       "      <td>-</td>\n",
       "      <td>NaN</td>\n",
       "      <td>358.713658</td>\n",
       "      <td>38.526340</td>\n",
       "      <td>23:54:51.46</td>\n",
       "      <td>+38:31:36.2</td>\n",
       "      <td>110.941908</td>\n",
       "      <td>-23.024449</td>\n",
       "      <td>...</td>\n",
       "      <td>1764.609498</td>\n",
       "      <td>0.010704</td>\n",
       "      <td>8262.219751</td>\n",
       "      <td>1.365667</td>\n",
       "      <td>1.000000</td>\n",
       "      <td>1.0</td>\n",
       "      <td>NaN</td>\n",
       "      <td>344.002685</td>\n",
       "      <td>../data/CARMENES_GTO_TESS_PGs/J23548+385_TESS_...</td>\n",
       "      <td>../data/CARMENES_GTO_TESS_PGs/figures/J23548+3...</td>\n",
       "    </tr>\n",
       "    <tr>\n",
       "      <th>3</th>\n",
       "      <td>J23505-095</td>\n",
       "      <td>LP 763-012</td>\n",
       "      <td>-</td>\n",
       "      <td>4367</td>\n",
       "      <td>357.634705</td>\n",
       "      <td>-9.560964</td>\n",
       "      <td>23:50:31.64</td>\n",
       "      <td>-09:33:32.7</td>\n",
       "      <td>80.777067</td>\n",
       "      <td>-67.303426</td>\n",
       "      <td>...</td>\n",
       "      <td>1354.108815</td>\n",
       "      <td>0.001261</td>\n",
       "      <td>7767.134654</td>\n",
       "      <td>0.094298</td>\n",
       "      <td>0.064148</td>\n",
       "      <td>1.0</td>\n",
       "      <td>NaN</td>\n",
       "      <td>473.533042</td>\n",
       "      <td>../data/CARMENES_GTO_TESS_PGs/J23505-095_TESS_...</td>\n",
       "      <td>../data/CARMENES_GTO_TESS_PGs/figures/J23505-0...</td>\n",
       "    </tr>\n",
       "    <tr>\n",
       "      <th>4</th>\n",
       "      <td>J23492+024</td>\n",
       "      <td>BR Psc</td>\n",
       "      <td>-</td>\n",
       "      <td>908</td>\n",
       "      <td>357.306604</td>\n",
       "      <td>2.396918</td>\n",
       "      <td>23:49:12.53</td>\n",
       "      <td>+02:24:04.4</td>\n",
       "      <td>93.567467</td>\n",
       "      <td>-56.885396</td>\n",
       "      <td>...</td>\n",
       "      <td>NaN</td>\n",
       "      <td>NaN</td>\n",
       "      <td>NaN</td>\n",
       "      <td>NaN</td>\n",
       "      <td>NaN</td>\n",
       "      <td>0.0</td>\n",
       "      <td>Not recognized as a supported data product:\\nn...</td>\n",
       "      <td>0.000984</td>\n",
       "      <td>NaN</td>\n",
       "      <td>NaN</td>\n",
       "    </tr>\n",
       "  </tbody>\n",
       "</table>\n",
       "<p>5 rows × 248 columns</p>\n",
       "</div>"
      ],
      "text/plain": [
       "        Karmn             Name Comp    GJ  RA_J2016_deg  DE_J2016_deg  \\\n",
       "0  J23585+076        Wolf 1051   AB  4383    359.636420      7.656947   \n",
       "1  J23556-061           GJ 912   AB   912    358.913617     -6.144283   \n",
       "2  J23548+385  RX J2354.8+3831    -   NaN    358.713658     38.526340   \n",
       "3  J23505-095       LP 763-012    -  4367    357.634705     -9.560964   \n",
       "4  J23492+024           BR Psc    -   908    357.306604      2.396918   \n",
       "\n",
       "      RA_J2000     DE_J2000  l_J2016_deg  b_J2016_deg  ...   T0_PG_TESS  \\\n",
       "0  23:58:32.65  +07:39:30.1   100.839686   -52.931049  ...          NaN   \n",
       "1  23:55:39.78  -06:08:33.4    88.129933   -65.175491  ...          NaN   \n",
       "2  23:54:51.46  +38:31:36.2   110.941908   -23.024449  ...  1764.609498   \n",
       "3  23:50:31.64  -09:33:32.7    80.777067   -67.303426  ...  1354.108815   \n",
       "4  23:49:12.53  +02:24:04.4    93.567467   -56.885396  ...          NaN   \n",
       "\n",
       "  e_T0_PG_TESS  offset_PG_TESS e_offset_PG_TESS  FAP_PG_TESS  valid_PG_TESS  \\\n",
       "0          NaN             NaN              NaN          NaN            0.0   \n",
       "1          NaN             NaN              NaN          NaN            0.0   \n",
       "2     0.010704     8262.219751         1.365667     1.000000            1.0   \n",
       "3     0.001261     7767.134654         0.094298     0.064148            1.0   \n",
       "4          NaN             NaN              NaN          NaN            0.0   \n",
       "\n",
       "                                       error_PG_TESS  elapsed_time_PG_TESS  \\\n",
       "0  Not recognized as a supported data product:\\nn...              0.002199   \n",
       "1  Not recognized as a supported data product:\\nn...              0.000974   \n",
       "2                                                NaN            344.002685   \n",
       "3                                                NaN            473.533042   \n",
       "4  Not recognized as a supported data product:\\nn...              0.000984   \n",
       "\n",
       "                                      fits_file_TESS  \\\n",
       "0                                                NaN   \n",
       "1                                                NaN   \n",
       "2  ../data/CARMENES_GTO_TESS_PGs/J23548+385_TESS_...   \n",
       "3  ../data/CARMENES_GTO_TESS_PGs/J23505-095_TESS_...   \n",
       "4                                                NaN   \n",
       "\n",
       "                                       fig_file_TESS  \n",
       "0                                                NaN  \n",
       "1                                                NaN  \n",
       "2  ../data/CARMENES_GTO_TESS_PGs/figures/J23548+3...  \n",
       "3  ../data/CARMENES_GTO_TESS_PGs/figures/J23505-0...  \n",
       "4                                                NaN  \n",
       "\n",
       "[5 rows x 248 columns]"
      ]
     },
     "execution_count": 11,
     "metadata": {},
     "output_type": "execute_result"
    }
   ],
   "source": [
    "# Load GTO data table:\n",
    "gto = pd.read_csv(GTO_FILE, sep=',', decimal='.')\n",
    "gto.head(5)"
   ]
  },
  {
   "cell_type": "code",
   "execution_count": 12,
   "id": "fb114280",
   "metadata": {
    "ExecuteTime": {
     "end_time": "2022-06-17T10:39:09.031000Z",
     "start_time": "2022-06-17T10:39:09.013692Z"
    }
   },
   "outputs": [
    {
     "name": "stdout",
     "output_type": "stream",
     "text": [
      "['Karmn', 'Name', 'Comp', 'GJ', 'RA_J2016_deg', 'DE_J2016_deg', 'RA_J2000', 'DE_J2000', 'l_J2016_deg', 'b_J2016_deg', 'Ref01', 'SpT', 'SpTnum', 'Ref02', 'Teff_K', 'eTeff_K', 'logg', 'elogg', '[Fe/H]', 'e[Fe/H]', 'Ref03', 'L_Lsol', 'eL_Lsol', 'Ref04', 'R_Rsol', 'eR_Rsol', 'Ref05', 'M_Msol', 'eM_Msol', 'Ref06', 'muRA_masa-1', 'emuRA_masa-1', 'muDE_masa-1', 'emuDE_masa-1', 'Ref07', 'pi_mas', 'epi_mas', 'Ref08', 'd_pc', 'ed_pc', 'Ref09', 'Vr_kms-1', 'eVr_kms-1', 'Ref10', 'ruwe', 'Ref11', 'U_kms-1', 'eU_kms-1', 'V_kms-1', 'eV_kms-1', 'W_kms-1', 'eW_kms-1', 'Ref12', 'sa_m/s/a', 'esa_m/s/a', 'Ref13', 'SKG', 'Ref14', 'SKG_lit', 'Ref14_lit', 'Pop', 'Ref15', 'vsini_flag', 'vsini_kms-1', 'evsini_kms-1', 'Ref16', 'P_d', 'eP_d', 'Ref17', 'pEWHalpha_A', 'epEWHalpha_A', 'Ref18', 'log(LHalpha/Lbol)', 'elog(LHalpha/Lbol)', 'Ref19', '1RXS', 'CRT_s-1', 'eCRT_s-1', 'HR1', 'eHR1', 'HR2', 'eHR2', 'Flux_X_E-13_ergcm-2s-1', 'eFlux_X_E-13_ergcm-2s-1', 'LX/LJ', 'eLX/LJ', 'Ref20', 'Activity', 'Ref21', 'FUV_mag', 'eFUV_mag', 'NUV_mag', 'eNUV_mag', 'Ref22', 'u_mag', 'eu_mag', 'Ref23', 'BT_mag', 'eBT_mag', 'Ref24', 'B_mag', 'eB_mag', 'Ref25', 'BP_mag', 'eBP_mag', 'Ref26', 'g_mag', 'eg_mag', 'Ref27', 'VT_mag', 'eVT_mag', 'Ref28', 'V_mag', 'eV_mag', 'Ref29', 'Ra_mag', 'Ref30', 'r_mag', 'er_mag', 'Ref31', 'GG_mag', 'eGG_mag', 'Ref32', 'i_mag', 'ei_mag', 'Ref33', 'RP_mag', 'eRP_mag', 'Ref34', 'IN_mag', 'Ref35', 'J_mag', 'eJ_mag', 'H_mag', 'eH_mag', 'Ks_mag', 'eKs_mag', 'QFlag_2M', 'Ref36', 'W1_mag', 'eW1_mag', 'W2_mag', 'eW2_mag', 'W3_mag', 'eW3_mag', 'W4_mag', 'eW4_mag', 'QFlag_WISE', 'Ref37', 'Multiplicity', 'WideWDS', 'Widerho_arcsec', 'eWiderho_arcsec', 'Ref38', 'WideCompanionName', 'WideCompanionSpT', 'CloseWDS', 'Closerho_arcsec', 'eCloserho_arcsec', 'Ref39', 'CloseCompanionSpT', 'RV', 'Planet', 'Ref40', 'PlanetNum', 'LoRes_spectrum', 'HiRes_spectrum', 'LoRes_imaging', 'HiRes_imaging', 'Class', 'Survey', 'Notes', 'Gaia_id_1', '2MASS_id', 'TIC_id', 'Teff_min_K', 'Teff_max_K', 'logg_min', 'logg_max', 'is_GTO', 'rv_file', 'lc_file', 'has_rv', 'has_lc', 'InstBand_nominal', 'InstBand_ranged', 'n_RV', 'Ps_RV', 'fs_RV', 'wmean_RV', 'wrms_RV', 'info_PG_RV', 'maxP_PG_RV', 'maxSNR_PG_RV', 'rms_PG_RV', 'f_PG_RV', 'e_f_PG_RV', 'Pd_PG_RV', 'e_Pd_PG_RV', 'Ph_PG_RV', 'e_Ph_PG_RV', 'Pm_PG_RV', 'e_Pm_PG_RV', 'A_PG_RV', 'e_A_PG_RV', 'ph_PG_RV', 'e_ph_PG_RV', 'T0_PG_RV', 'e_T0_PG_RV', 'offset_PG_RV', 'e_offset_PG_RV', 'FAP_PG_RV', 'valid_PG_RV', 'error_PG_RV', 'elapsed_time_PG_RV', 'fits_file_RV', 'fig_file_RV', 'n_TESS', 'Ps_TESS', 'fs_TESS', 'wmean_TESS', 'wrms_TESS', 'info_PG_TESS', 'maxP_PG_TESS', 'maxSNR_PG_TESS', 'rms_PG_TESS', 'f_PG_TESS', 'e_f_PG_TESS', 'Pd_PG_TESS', 'e_Pd_PG_TESS', 'Ph_PG_TESS', 'e_Ph_PG_TESS', 'Pm_PG_TESS', 'e_Pm_PG_TESS', 'A_PG_TESS', 'e_A_PG_TESS', 'ph_PG_TESS', 'e_ph_PG_TESS', 'T0_PG_TESS', 'e_T0_PG_TESS', 'offset_PG_TESS', 'e_offset_PG_TESS', 'FAP_PG_TESS', 'valid_PG_TESS', 'error_PG_TESS', 'elapsed_time_PG_TESS', 'fits_file_TESS', 'fig_file_TESS']\n"
     ]
    }
   ],
   "source": [
    "print(gto.columns.to_list())"
   ]
  },
  {
   "cell_type": "markdown",
   "id": "b6bafbfe",
   "metadata": {},
   "source": [
    "### Correct the RMS values in the table"
   ]
  },
  {
   "cell_type": "code",
   "execution_count": 13,
   "id": "928185d4",
   "metadata": {
    "ExecuteTime": {
     "end_time": "2022-06-17T13:09:34.937306Z",
     "start_time": "2022-06-17T13:09:34.922346Z"
    }
   },
   "outputs": [
    {
     "data": {
      "text/html": [
       "<div>\n",
       "<style scoped>\n",
       "    .dataframe tbody tr th:only-of-type {\n",
       "        vertical-align: middle;\n",
       "    }\n",
       "\n",
       "    .dataframe tbody tr th {\n",
       "        vertical-align: top;\n",
       "    }\n",
       "\n",
       "    .dataframe thead th {\n",
       "        text-align: right;\n",
       "    }\n",
       "</style>\n",
       "<table border=\"1\" class=\"dataframe\">\n",
       "  <thead>\n",
       "    <tr style=\"text-align: right;\">\n",
       "      <th></th>\n",
       "      <th>wrms_RV</th>\n",
       "      <th>wrms_TESS</th>\n",
       "    </tr>\n",
       "  </thead>\n",
       "  <tbody>\n",
       "    <tr>\n",
       "      <th>0</th>\n",
       "      <td>3.893666e+06</td>\n",
       "      <td>NaN</td>\n",
       "    </tr>\n",
       "    <tr>\n",
       "      <th>1</th>\n",
       "      <td>1.262657e+05</td>\n",
       "      <td>NaN</td>\n",
       "    </tr>\n",
       "    <tr>\n",
       "      <th>2</th>\n",
       "      <td>8.125833e+02</td>\n",
       "      <td>24030.125000</td>\n",
       "    </tr>\n",
       "    <tr>\n",
       "      <th>3</th>\n",
       "      <td>1.899900e+01</td>\n",
       "      <td>162.921387</td>\n",
       "    </tr>\n",
       "    <tr>\n",
       "      <th>4</th>\n",
       "      <td>1.096774e+01</td>\n",
       "      <td>NaN</td>\n",
       "    </tr>\n",
       "  </tbody>\n",
       "</table>\n",
       "</div>"
      ],
      "text/plain": [
       "        wrms_RV     wrms_TESS\n",
       "0  3.893666e+06           NaN\n",
       "1  1.262657e+05           NaN\n",
       "2  8.125833e+02  24030.125000\n",
       "3  1.899900e+01    162.921387\n",
       "4  1.096774e+01           NaN"
      ]
     },
     "execution_count": 13,
     "metadata": {},
     "output_type": "execute_result"
    }
   ],
   "source": [
    "gto[['wrms_RV', 'wrms_TESS']].head()"
   ]
  },
  {
   "cell_type": "code",
   "execution_count": 14,
   "id": "ac9eca2e",
   "metadata": {
    "ExecuteTime": {
     "end_time": "2022-06-17T13:11:58.922337Z",
     "start_time": "2022-06-17T13:11:58.916353Z"
    }
   },
   "outputs": [],
   "source": [
    "if ROOT_SQ_GTO == 1:\n",
    "    print(\"Not updating RMS values.\")\n",
    "    gto['wrms_RV'] = gto['wrms_RV'].map(lambda x: np.sqrt(x) if x is not None else x)\n",
    "    gto['wrms_TESS'] = gto['wrms_TESS'].map(lambda x: np.sqrt(x) if x is not None else x)\n",
    "else:\n",
    "    print(\"Not updating RMS values.\")"
   ]
  },
  {
   "cell_type": "code",
   "execution_count": 15,
   "id": "d414d833",
   "metadata": {
    "ExecuteTime": {
     "end_time": "2022-06-17T13:13:02.807362Z",
     "start_time": "2022-06-17T13:13:02.787415Z"
    }
   },
   "outputs": [
    {
     "data": {
      "text/html": [
       "<div>\n",
       "<style scoped>\n",
       "    .dataframe tbody tr th:only-of-type {\n",
       "        vertical-align: middle;\n",
       "    }\n",
       "\n",
       "    .dataframe tbody tr th {\n",
       "        vertical-align: top;\n",
       "    }\n",
       "\n",
       "    .dataframe thead th {\n",
       "        text-align: right;\n",
       "    }\n",
       "</style>\n",
       "<table border=\"1\" class=\"dataframe\">\n",
       "  <thead>\n",
       "    <tr style=\"text-align: right;\">\n",
       "      <th></th>\n",
       "      <th>wrms_RV</th>\n",
       "      <th>wrms_TESS</th>\n",
       "    </tr>\n",
       "  </thead>\n",
       "  <tbody>\n",
       "    <tr>\n",
       "      <th>0</th>\n",
       "      <td>1973.237494</td>\n",
       "      <td>NaN</td>\n",
       "    </tr>\n",
       "    <tr>\n",
       "      <th>1</th>\n",
       "      <td>355.338886</td>\n",
       "      <td>NaN</td>\n",
       "    </tr>\n",
       "    <tr>\n",
       "      <th>2</th>\n",
       "      <td>28.505846</td>\n",
       "      <td>155.016531</td>\n",
       "    </tr>\n",
       "    <tr>\n",
       "      <th>3</th>\n",
       "      <td>4.358785</td>\n",
       "      <td>12.764066</td>\n",
       "    </tr>\n",
       "    <tr>\n",
       "      <th>4</th>\n",
       "      <td>3.311758</td>\n",
       "      <td>NaN</td>\n",
       "    </tr>\n",
       "  </tbody>\n",
       "</table>\n",
       "</div>"
      ],
      "text/plain": [
       "       wrms_RV   wrms_TESS\n",
       "0  1973.237494         NaN\n",
       "1   355.338886         NaN\n",
       "2    28.505846  155.016531\n",
       "3     4.358785   12.764066\n",
       "4     3.311758         NaN"
      ]
     },
     "execution_count": 15,
     "metadata": {},
     "output_type": "execute_result"
    }
   ],
   "source": [
    "gto[['wrms_RV', 'wrms_TESS']].head()"
   ]
  },
  {
   "cell_type": "markdown",
   "id": "a22a1e87",
   "metadata": {},
   "source": [
    "### Correct the RMS value at the headers of all related files"
   ]
  },
  {
   "cell_type": "code",
   "execution_count": 33,
   "id": "7ef5b0e7",
   "metadata": {
    "ExecuteTime": {
     "end_time": "2022-06-17T13:58:52.326096Z",
     "start_time": "2022-06-17T13:58:42.385374Z"
    },
    "scrolled": false
   },
   "outputs": [
    {
     "name": "stdout",
     "output_type": "stream",
     "text": [
      "[i=0, star=J23585+076, TESS] nan is not a file, skipping...\n",
      "[i=1, star=J23556-061, TESS] nan is not a file, skipping...\n",
      "[i=4, star=J23492+024, TESS] nan is not a file, skipping...\n",
      "[i=6, star=J23419+441, TESS] nan is not a file, skipping...\n",
      "[i=8, star=J23351-023, TESS] nan is not a file, skipping...\n",
      "[i=9, star=J23340+001, TESS] nan is not a file, skipping...\n",
      "[i=11, star=J23216+172, TESS] nan is not a file, skipping...\n",
      "[i=12, star=J23113+085, TESS] nan is not a file, skipping...\n",
      "[i=13, star=J23064-050, TESS] nan is not a file, skipping...\n",
      "[i=14, star=J22565+165, TESS] nan is not a file, skipping...\n",
      "[i=15, star=J22559+178, TESS] nan is not a file, skipping...\n",
      "[i=17, star=J22518+317, TESS] nan is not a file, skipping...\n",
      "[i=18, star=J22503-070, TESS] nan is not a file, skipping...\n",
      "[i=20, star=J22330+093, TESS] nan is not a file, skipping...\n",
      "[i=25, star=J22125+085, TESS] nan is not a file, skipping...\n",
      "[i=26, star=J22115+184, TESS] nan is not a file, skipping...\n",
      "[i=29, star=J22096-046, TESS] nan is not a file, skipping...\n",
      "[i=31, star=J22021+014, TESS] nan is not a file, skipping...\n",
      "[i=35, star=J21466-001, TESS] nan is not a file, skipping...\n",
      "[i=39, star=J21221+229, TESS] nan is not a file, skipping...\n",
      "[i=40, star=J21164+025, TESS] nan is not a file, skipping...\n",
      "[i=42, star=J21019-063, TESS] nan is not a file, skipping...\n",
      "[i=43, star=J20567-104, TESS] nan is not a file, skipping...\n",
      "[i=45, star=J20525-169, TESS] nan is not a file, skipping...\n",
      "[i=47, star=J20450+444, TESS] nan is not a file, skipping...\n",
      "[i=48, star=J20405+154, TESS] nan is not a file, skipping...\n",
      "[i=54, star=J20093-012, TESS] nan is not a file, skipping...\n",
      "[i=55, star=J19573-125, TESS] nan is not a file, skipping...\n",
      "[i=57, star=J19422-207, TESS] nan is not a file, skipping...\n",
      "[i=58, star=J19346+045, TESS] nan is not a file, skipping...\n",
      "[i=59, star=J19255+096, TESS] nan is not a file, skipping...\n",
      "[i=60, star=J19251+283, TESS] nan is not a file, skipping...\n",
      "[i=61, star=J19242+755, TESS] nan is not a file, skipping...\n",
      "[i=63, star=J19098+176, TESS] nan is not a file, skipping...\n",
      "[i=65, star=J19072+208, TESS] nan is not a file, skipping...\n",
      "[i=66, star=J19070+208, TESS] nan is not a file, skipping...\n",
      "[i=68, star=J18580+059, TESS] nan is not a file, skipping...\n",
      "[i=69, star=J18498-238, TESS] nan is not a file, skipping...\n",
      "[i=70, star=J18482+076, TESS] nan is not a file, skipping...\n",
      "[i=71, star=J18480-145, TESS] nan is not a file, skipping...\n",
      "[i=72, star=J18419+318, TESS] nan is not a file, skipping...\n",
      "[i=73, star=J18409-133, TESS] nan is not a file, skipping...\n",
      "[i=80, star=J18221+063, TESS] nan is not a file, skipping...\n",
      "[i=81, star=J18198-019, TESS] nan is not a file, skipping...\n",
      "[i=84, star=J18165+048, TESS] nan is not a file, skipping...\n",
      "[i=86, star=J18075-159, TESS] nan is not a file, skipping...\n",
      "[i=87, star=J18051-030, TESS] nan is not a file, skipping...\n",
      "[i=88, star=J18027+375, TESS] nan is not a file, skipping...\n",
      "[i=91, star=J17578+046, TESS] nan is not a file, skipping...\n",
      "[i=92, star=J17572+707, RV] nan is not a file, skipping...\n",
      "[i=93, star=J17542+073, TESS] nan is not a file, skipping...\n",
      "[i=98, star=J17303+055, TESS] nan is not a file, skipping...\n",
      "[i=99, star=J17198+417, RV] nan is not a file, skipping...\n",
      "[i=100, star=J17166+080, TESS] nan is not a file, skipping...\n",
      "[i=103, star=J17052-050, TESS] nan is not a file, skipping...\n",
      "[i=107, star=J16570-043, TESS] nan is not a file, skipping...\n",
      "[i=108, star=J16555-083, TESS] nan is not a file, skipping...\n",
      "[i=111, star=J16327+126, TESS] nan is not a file, skipping...\n",
      "[i=113, star=J16303-126, TESS] nan is not a file, skipping...\n",
      "[i=115, star=J16102-193, RV] nan is not a file, skipping...\n",
      "[i=115, star=J16102-193, TESS] nan is not a file, skipping...\n",
      "[i=116, star=J16092+093, TESS] nan is not a file, skipping...\n",
      "[i=118, star=J15598-082, TESS] nan is not a file, skipping...\n",
      "[i=121, star=J15474-108, TESS] nan is not a file, skipping...\n",
      "[i=123, star=J15369-141, TESS] nan is not a file, skipping...\n",
      "[i=124, star=J15305+094, TESS] nan is not a file, skipping...\n",
      "[i=126, star=J15194-077, TESS] nan is not a file, skipping...\n",
      "[i=127, star=J15095+031, TESS] nan is not a file, skipping...\n",
      "[i=128, star=J15013+055, TESS] nan is not a file, skipping...\n",
      "[i=130, star=J14524+123, TESS] nan is not a file, skipping...\n",
      "[i=131, star=J14342-125, TESS] nan is not a file, skipping...\n",
      "[i=132, star=J14321+081, TESS] nan is not a file, skipping...\n",
      "[i=133, star=J14310-122, TESS] nan is not a file, skipping...\n",
      "[i=134, star=J14307-086, TESS] nan is not a file, skipping...\n",
      "[i=135, star=J14294+155, TESS] nan is not a file, skipping...\n",
      "[i=138, star=J14155+046, TESS] nan is not a file, skipping...\n",
      "[i=141, star=J14010-026, TESS] nan is not a file, skipping...\n",
      "[i=159, star=J12428+418, TESS] nan is not a file, skipping...\n",
      "[i=166, star=J12189+111, TESS] nan is not a file, skipping...\n",
      "[i=173, star=J11477+008, TESS] nan is not a file, skipping...\n",
      "[i=175, star=J11476+002, TESS] nan is not a file, skipping...\n",
      "[i=182, star=J11302+076, TESS] nan is not a file, skipping...\n",
      "[i=186, star=J11055+435, TESS] nan is not a file, skipping...\n",
      "[i=193, star=J10564+070, TESS] nan is not a file, skipping...\n",
      "[i=194, star=J10508+068, TESS] nan is not a file, skipping...\n",
      "[i=195, star=J10504+331, TESS] nan is not a file, skipping...\n",
      "[i=199, star=J10360+051, TESS] nan is not a file, skipping...\n",
      "[i=204, star=J10196+198, TESS] nan is not a file, skipping...\n",
      "[i=208, star=J10125+570, TESS] nan is not a file, skipping...\n",
      "[i=221, star=J09411+132, TESS] nan is not a file, skipping...\n",
      "[i=223, star=J09307+003, TESS] nan is not a file, skipping...\n",
      "[i=229, star=J09140+196, TESS] nan is not a file, skipping...\n",
      "[i=230, star=J09133+688, TESS] nan is not a file, skipping...\n",
      "[i=234, star=J09003+218, TESS] nan is not a file, skipping...\n",
      "[i=245, star=J08161+013, TESS] nan is not a file, skipping...\n",
      "[i=250, star=J07558+833, TESS] nan is not a file, skipping...\n",
      "[i=255, star=J07386-212, TESS] nan is not a file, skipping...\n",
      "[i=257, star=J07353+548, TESS] nan is not a file, skipping...\n",
      "[i=260, star=J07051-101, RV] nan is not a file, skipping...\n",
      "[i=264, star=J06594+193, TESS] nan is not a file, skipping...\n",
      "[i=269, star=J06371+175, TESS] nan is not a file, skipping...\n",
      "[i=270, star=J06318+414, RV] nan is not a file, skipping...\n",
      "[i=271, star=J06246+234, TESS] nan is not a file, skipping...\n",
      "[i=273, star=J06103+821, RV] nan is not a file, skipping...\n",
      "[i=277, star=J05532+242, TESS] nan is not a file, skipping...\n",
      "[i=288, star=J05127+196, TESS] nan is not a file, skipping...\n",
      "[i=297, star=J04472+206, TESS] nan is not a file, skipping...\n",
      "[i=298, star=J04429+214, TESS] nan is not a file, skipping...\n",
      "[i=299, star=J04429+189, TESS] nan is not a file, skipping...\n",
      "[i=305, star=J04290+219, TESS] nan is not a file, skipping...\n",
      "[i=307, star=J04219+213, TESS] nan is not a file, skipping...\n",
      "[i=309, star=J04173+088, RV] nan is not a file, skipping...\n",
      "[i=318, star=J03213+799, TESS] nan is not a file, skipping...\n",
      "[i=325, star=J02530+168, TESS] nan is not a file, skipping...\n",
      "[i=326, star=J02519+224, TESS] nan is not a file, skipping...\n",
      "[i=328, star=J02465+164, TESS] nan is not a file, skipping...\n",
      "[i=331, star=J02358+202, TESS] nan is not a file, skipping...\n",
      "[i=334, star=J02164+135, TESS] nan is not a file, skipping...\n",
      "[i=338, star=J02022+103, TESS] nan is not a file, skipping...\n",
      "[i=340, star=J02002+130, TESS] nan is not a file, skipping...\n",
      "[i=343, star=J01433+043, TESS] nan is not a file, skipping...\n",
      "[i=344, star=J01352-072, RV] nan is not a file, skipping...\n",
      "[i=348, star=J01056+284, TESS] nan is not a file, skipping...\n",
      "[i=359, star=J00184+440, TESS] nan is not a file, skipping...\n",
      "[i=361, star=J00067-075, TESS] nan is not a file, skipping...\n"
     ]
    }
   ],
   "source": [
    "#for i in range(0, 3): # TEST\n",
    "for i in range(0, len(gto)):\n",
    "    # Correct the RMS values in the RV FITS header:\n",
    "    fits_file_rv = gto.loc[i, 'fits_file_RV']\n",
    "    if os.path.isfile(str(fits_file_rv)):\n",
    "        hdul = fits.open(fits_file_rv,\n",
    "                         mode='update', memmap=False)\n",
    "        hdul['RV_CURVE'].header['RMSFLUX'] = gto.loc[i, 'wrms_RV']\n",
    "        hdul.close() # Already saves the changes to the file, no need to do 'HDUList.flush()'\n",
    "        del hdul\n",
    "    else:\n",
    "        print(\"[i=%d, star=%s, RV] %s is not a file, skipping...\" %(i, gto.loc[i, 'Karmn'], fits_file_rv))\n",
    "    # Correct the RMS values in the TESS FITS header:\n",
    "    fits_file_tess = gto.loc[i, 'fits_file_TESS']\n",
    "    if os.path.isfile(str(fits_file_tess)):\n",
    "        hdul = fits.open(fits_file_tess,\n",
    "                         mode='update', memmap=False)\n",
    "        hdul['TESS_LC'].header['RMSFLUX'] = gto.loc[i, 'wrms_TESS']\n",
    "        hdul.close() # Already saves the changes to the file, no need to do 'HDUList.flush()'\n",
    "        del hdul\n",
    "    else:\n",
    "        print(\"[i=%d, star=%s, TESS] %s is not a file, skipping...\" %(i, gto.loc[i, 'Karmn'], fits_file_tess))\n"
   ]
  },
  {
   "cell_type": "markdown",
   "id": "bc855255",
   "metadata": {},
   "source": [
    "### Store the table result"
   ]
  },
  {
   "cell_type": "code",
   "execution_count": 34,
   "id": "b0149c6b",
   "metadata": {
    "ExecuteTime": {
     "end_time": "2022-06-17T14:03:12.978946Z",
     "start_time": "2022-06-17T14:03:12.913120Z"
    }
   },
   "outputs": [],
   "source": [
    "gto.to_csv(GTO_FILE, sep=',', decimal='.', index=False)"
   ]
  },
  {
   "cell_type": "markdown",
   "id": "a5411b0c",
   "metadata": {},
   "source": [
    "## Correct RMS for CARM_VIS (NZS-corrected) data"
   ]
  },
  {
   "cell_type": "markdown",
   "id": "6ff11826",
   "metadata": {},
   "source": [
    "### CARM_VIS data loading"
   ]
  },
  {
   "cell_type": "code",
   "execution_count": 35,
   "id": "cf31f60c",
   "metadata": {
    "ExecuteTime": {
     "end_time": "2022-06-17T14:03:19.361696Z",
     "start_time": "2022-06-17T14:03:19.303849Z"
    }
   },
   "outputs": [
    {
     "data": {
      "text/html": [
       "<div>\n",
       "<style scoped>\n",
       "    .dataframe tbody tr th:only-of-type {\n",
       "        vertical-align: middle;\n",
       "    }\n",
       "\n",
       "    .dataframe tbody tr th {\n",
       "        vertical-align: top;\n",
       "    }\n",
       "\n",
       "    .dataframe thead th {\n",
       "        text-align: right;\n",
       "    }\n",
       "</style>\n",
       "<table border=\"1\" class=\"dataframe\">\n",
       "  <thead>\n",
       "    <tr style=\"text-align: right;\">\n",
       "      <th></th>\n",
       "      <th>Karmn</th>\n",
       "      <th>Name</th>\n",
       "      <th>Comp</th>\n",
       "      <th>GJ</th>\n",
       "      <th>RA_J2016_deg</th>\n",
       "      <th>DE_J2016_deg</th>\n",
       "      <th>RA_J2000</th>\n",
       "      <th>DE_J2000</th>\n",
       "      <th>l_J2016_deg</th>\n",
       "      <th>b_J2016_deg</th>\n",
       "      <th>...</th>\n",
       "      <th>T0_PG_TESS</th>\n",
       "      <th>e_T0_PG_TESS</th>\n",
       "      <th>offset_PG_TESS</th>\n",
       "      <th>e_offset_PG_TESS</th>\n",
       "      <th>FAP_PG_TESS</th>\n",
       "      <th>valid_PG_TESS</th>\n",
       "      <th>error_PG_TESS</th>\n",
       "      <th>elapsed_time_PG_TESS</th>\n",
       "      <th>fits_file_TESS</th>\n",
       "      <th>fig_file_TESS</th>\n",
       "    </tr>\n",
       "  </thead>\n",
       "  <tbody>\n",
       "    <tr>\n",
       "      <th>0</th>\n",
       "      <td>J23585+076</td>\n",
       "      <td>Wolf 1051</td>\n",
       "      <td>AB</td>\n",
       "      <td>4383</td>\n",
       "      <td>359.636420</td>\n",
       "      <td>7.656947</td>\n",
       "      <td>23:58:32.65</td>\n",
       "      <td>+07:39:30.1</td>\n",
       "      <td>100.839686</td>\n",
       "      <td>-52.931049</td>\n",
       "      <td>...</td>\n",
       "      <td>NaN</td>\n",
       "      <td>NaN</td>\n",
       "      <td>NaN</td>\n",
       "      <td>NaN</td>\n",
       "      <td>NaN</td>\n",
       "      <td>0.0</td>\n",
       "      <td>Not recognized as a supported data product:\\nn...</td>\n",
       "      <td>0.002958</td>\n",
       "      <td>NaN</td>\n",
       "      <td>NaN</td>\n",
       "    </tr>\n",
       "    <tr>\n",
       "      <th>1</th>\n",
       "      <td>J23556-061</td>\n",
       "      <td>GJ 912</td>\n",
       "      <td>AB</td>\n",
       "      <td>912</td>\n",
       "      <td>358.913617</td>\n",
       "      <td>-6.144283</td>\n",
       "      <td>23:55:39.78</td>\n",
       "      <td>-06:08:33.4</td>\n",
       "      <td>88.129933</td>\n",
       "      <td>-65.175491</td>\n",
       "      <td>...</td>\n",
       "      <td>NaN</td>\n",
       "      <td>NaN</td>\n",
       "      <td>NaN</td>\n",
       "      <td>NaN</td>\n",
       "      <td>NaN</td>\n",
       "      <td>0.0</td>\n",
       "      <td>Not recognized as a supported data product:\\nn...</td>\n",
       "      <td>0.000998</td>\n",
       "      <td>NaN</td>\n",
       "      <td>NaN</td>\n",
       "    </tr>\n",
       "    <tr>\n",
       "      <th>2</th>\n",
       "      <td>J23548+385</td>\n",
       "      <td>RX J2354.8+3831</td>\n",
       "      <td>-</td>\n",
       "      <td>NaN</td>\n",
       "      <td>358.713658</td>\n",
       "      <td>38.526340</td>\n",
       "      <td>23:54:51.46</td>\n",
       "      <td>+38:31:36.2</td>\n",
       "      <td>110.941908</td>\n",
       "      <td>-23.024449</td>\n",
       "      <td>...</td>\n",
       "      <td>1764.609498</td>\n",
       "      <td>0.010704</td>\n",
       "      <td>8262.219751</td>\n",
       "      <td>1.365667</td>\n",
       "      <td>1.000000</td>\n",
       "      <td>1.0</td>\n",
       "      <td>NaN</td>\n",
       "      <td>344.002685</td>\n",
       "      <td>../data/CARMENES_GTO_TESS_PGs/J23548+385_TESS_...</td>\n",
       "      <td>../data/CARMENES_GTO_TESS_PGs/figures/J23548+3...</td>\n",
       "    </tr>\n",
       "    <tr>\n",
       "      <th>3</th>\n",
       "      <td>J23505-095</td>\n",
       "      <td>LP 763-012</td>\n",
       "      <td>-</td>\n",
       "      <td>4367</td>\n",
       "      <td>357.634705</td>\n",
       "      <td>-9.560964</td>\n",
       "      <td>23:50:31.64</td>\n",
       "      <td>-09:33:32.7</td>\n",
       "      <td>80.777067</td>\n",
       "      <td>-67.303426</td>\n",
       "      <td>...</td>\n",
       "      <td>1354.108815</td>\n",
       "      <td>0.001261</td>\n",
       "      <td>7767.134654</td>\n",
       "      <td>0.094298</td>\n",
       "      <td>0.064148</td>\n",
       "      <td>1.0</td>\n",
       "      <td>NaN</td>\n",
       "      <td>473.533042</td>\n",
       "      <td>../data/CARMENES_GTO_TESS_PGs/J23505-095_TESS_...</td>\n",
       "      <td>../data/CARMENES_GTO_TESS_PGs/figures/J23505-0...</td>\n",
       "    </tr>\n",
       "    <tr>\n",
       "      <th>4</th>\n",
       "      <td>J23492+024</td>\n",
       "      <td>BR Psc</td>\n",
       "      <td>-</td>\n",
       "      <td>908</td>\n",
       "      <td>357.306604</td>\n",
       "      <td>2.396918</td>\n",
       "      <td>23:49:12.53</td>\n",
       "      <td>+02:24:04.4</td>\n",
       "      <td>93.567467</td>\n",
       "      <td>-56.885396</td>\n",
       "      <td>...</td>\n",
       "      <td>NaN</td>\n",
       "      <td>NaN</td>\n",
       "      <td>NaN</td>\n",
       "      <td>NaN</td>\n",
       "      <td>NaN</td>\n",
       "      <td>0.0</td>\n",
       "      <td>Not recognized as a supported data product:\\nn...</td>\n",
       "      <td>0.001986</td>\n",
       "      <td>NaN</td>\n",
       "      <td>NaN</td>\n",
       "    </tr>\n",
       "  </tbody>\n",
       "</table>\n",
       "<p>5 rows × 248 columns</p>\n",
       "</div>"
      ],
      "text/plain": [
       "        Karmn             Name Comp    GJ  RA_J2016_deg  DE_J2016_deg  \\\n",
       "0  J23585+076        Wolf 1051   AB  4383    359.636420      7.656947   \n",
       "1  J23556-061           GJ 912   AB   912    358.913617     -6.144283   \n",
       "2  J23548+385  RX J2354.8+3831    -   NaN    358.713658     38.526340   \n",
       "3  J23505-095       LP 763-012    -  4367    357.634705     -9.560964   \n",
       "4  J23492+024           BR Psc    -   908    357.306604      2.396918   \n",
       "\n",
       "      RA_J2000     DE_J2000  l_J2016_deg  b_J2016_deg  ...   T0_PG_TESS  \\\n",
       "0  23:58:32.65  +07:39:30.1   100.839686   -52.931049  ...          NaN   \n",
       "1  23:55:39.78  -06:08:33.4    88.129933   -65.175491  ...          NaN   \n",
       "2  23:54:51.46  +38:31:36.2   110.941908   -23.024449  ...  1764.609498   \n",
       "3  23:50:31.64  -09:33:32.7    80.777067   -67.303426  ...  1354.108815   \n",
       "4  23:49:12.53  +02:24:04.4    93.567467   -56.885396  ...          NaN   \n",
       "\n",
       "  e_T0_PG_TESS  offset_PG_TESS e_offset_PG_TESS  FAP_PG_TESS  valid_PG_TESS  \\\n",
       "0          NaN             NaN              NaN          NaN            0.0   \n",
       "1          NaN             NaN              NaN          NaN            0.0   \n",
       "2     0.010704     8262.219751         1.365667     1.000000            1.0   \n",
       "3     0.001261     7767.134654         0.094298     0.064148            1.0   \n",
       "4          NaN             NaN              NaN          NaN            0.0   \n",
       "\n",
       "                                       error_PG_TESS  elapsed_time_PG_TESS  \\\n",
       "0  Not recognized as a supported data product:\\nn...              0.002958   \n",
       "1  Not recognized as a supported data product:\\nn...              0.000998   \n",
       "2                                                NaN            344.002685   \n",
       "3                                                NaN            473.533042   \n",
       "4  Not recognized as a supported data product:\\nn...              0.001986   \n",
       "\n",
       "                                      fits_file_TESS  \\\n",
       "0                                                NaN   \n",
       "1                                                NaN   \n",
       "2  ../data/CARMENES_GTO_TESS_PGs/J23548+385_TESS_...   \n",
       "3  ../data/CARMENES_GTO_TESS_PGs/J23505-095_TESS_...   \n",
       "4                                                NaN   \n",
       "\n",
       "                                       fig_file_TESS  \n",
       "0                                                NaN  \n",
       "1                                                NaN  \n",
       "2  ../data/CARMENES_GTO_TESS_PGs/figures/J23548+3...  \n",
       "3  ../data/CARMENES_GTO_TESS_PGs/figures/J23505-0...  \n",
       "4                                                NaN  \n",
       "\n",
       "[5 rows x 248 columns]"
      ]
     },
     "execution_count": 35,
     "metadata": {},
     "output_type": "execute_result"
    }
   ],
   "source": [
    "# Load GTO data table:\n",
    "cvis = pd.read_csv(CARM_VIS_FILE, sep=',', decimal='.')\n",
    "cvis.head(5)"
   ]
  },
  {
   "cell_type": "code",
   "execution_count": 36,
   "id": "49b67944",
   "metadata": {
    "ExecuteTime": {
     "end_time": "2022-06-17T14:03:23.377067Z",
     "start_time": "2022-06-17T14:03:23.361111Z"
    }
   },
   "outputs": [
    {
     "name": "stdout",
     "output_type": "stream",
     "text": [
      "['Karmn', 'Name', 'Comp', 'GJ', 'RA_J2016_deg', 'DE_J2016_deg', 'RA_J2000', 'DE_J2000', 'l_J2016_deg', 'b_J2016_deg', 'Ref01', 'SpT', 'SpTnum', 'Ref02', 'Teff_K', 'eTeff_K', 'logg', 'elogg', '[Fe/H]', 'e[Fe/H]', 'Ref03', 'L_Lsol', 'eL_Lsol', 'Ref04', 'R_Rsol', 'eR_Rsol', 'Ref05', 'M_Msol', 'eM_Msol', 'Ref06', 'muRA_masa-1', 'emuRA_masa-1', 'muDE_masa-1', 'emuDE_masa-1', 'Ref07', 'pi_mas', 'epi_mas', 'Ref08', 'd_pc', 'ed_pc', 'Ref09', 'Vr_kms-1', 'eVr_kms-1', 'Ref10', 'ruwe', 'Ref11', 'U_kms-1', 'eU_kms-1', 'V_kms-1', 'eV_kms-1', 'W_kms-1', 'eW_kms-1', 'Ref12', 'sa_m/s/a', 'esa_m/s/a', 'Ref13', 'SKG', 'Ref14', 'SKG_lit', 'Ref14_lit', 'Pop', 'Ref15', 'vsini_flag', 'vsini_kms-1', 'evsini_kms-1', 'Ref16', 'P_d', 'eP_d', 'Ref17', 'pEWHalpha_A', 'epEWHalpha_A', 'Ref18', 'log(LHalpha/Lbol)', 'elog(LHalpha/Lbol)', 'Ref19', '1RXS', 'CRT_s-1', 'eCRT_s-1', 'HR1', 'eHR1', 'HR2', 'eHR2', 'Flux_X_E-13_ergcm-2s-1', 'eFlux_X_E-13_ergcm-2s-1', 'LX/LJ', 'eLX/LJ', 'Ref20', 'Activity', 'Ref21', 'FUV_mag', 'eFUV_mag', 'NUV_mag', 'eNUV_mag', 'Ref22', 'u_mag', 'eu_mag', 'Ref23', 'BT_mag', 'eBT_mag', 'Ref24', 'B_mag', 'eB_mag', 'Ref25', 'BP_mag', 'eBP_mag', 'Ref26', 'g_mag', 'eg_mag', 'Ref27', 'VT_mag', 'eVT_mag', 'Ref28', 'V_mag', 'eV_mag', 'Ref29', 'Ra_mag', 'Ref30', 'r_mag', 'er_mag', 'Ref31', 'GG_mag', 'eGG_mag', 'Ref32', 'i_mag', 'ei_mag', 'Ref33', 'RP_mag', 'eRP_mag', 'Ref34', 'IN_mag', 'Ref35', 'J_mag', 'eJ_mag', 'H_mag', 'eH_mag', 'Ks_mag', 'eKs_mag', 'QFlag_2M', 'Ref36', 'W1_mag', 'eW1_mag', 'W2_mag', 'eW2_mag', 'W3_mag', 'eW3_mag', 'W4_mag', 'eW4_mag', 'QFlag_WISE', 'Ref37', 'Multiplicity', 'WideWDS', 'Widerho_arcsec', 'eWiderho_arcsec', 'Ref38', 'WideCompanionName', 'WideCompanionSpT', 'CloseWDS', 'Closerho_arcsec', 'eCloserho_arcsec', 'Ref39', 'CloseCompanionSpT', 'RV', 'Planet', 'Ref40', 'PlanetNum', 'LoRes_spectrum', 'HiRes_spectrum', 'LoRes_imaging', 'HiRes_imaging', 'Class', 'Survey', 'Notes', 'Gaia_id_1', '2MASS_id', 'TIC_id', 'Teff_min_K', 'Teff_max_K', 'logg_min', 'logg_max', 'is_GTO', 'rv_file', 'lc_file', 'has_rv', 'has_lc', 'InstBand_nominal', 'InstBand_ranged', 'n_RV', 'Ps_RV', 'fs_RV', 'wmean_RV', 'wrms_RV', 'info_PG_RV', 'maxP_PG_RV', 'maxSNR_PG_RV', 'rms_PG_RV', 'f_PG_RV', 'e_f_PG_RV', 'Pd_PG_RV', 'e_Pd_PG_RV', 'Ph_PG_RV', 'e_Ph_PG_RV', 'Pm_PG_RV', 'e_Pm_PG_RV', 'A_PG_RV', 'e_A_PG_RV', 'ph_PG_RV', 'e_ph_PG_RV', 'T0_PG_RV', 'e_T0_PG_RV', 'offset_PG_RV', 'e_offset_PG_RV', 'FAP_PG_RV', 'valid_PG_RV', 'error_PG_RV', 'elapsed_time_PG_RV', 'fits_file_RV', 'fig_file_RV', 'n_TESS', 'Ps_TESS', 'fs_TESS', 'wmean_TESS', 'wrms_TESS', 'info_PG_TESS', 'maxP_PG_TESS', 'maxSNR_PG_TESS', 'rms_PG_TESS', 'f_PG_TESS', 'e_f_PG_TESS', 'Pd_PG_TESS', 'e_Pd_PG_TESS', 'Ph_PG_TESS', 'e_Ph_PG_TESS', 'Pm_PG_TESS', 'e_Pm_PG_TESS', 'A_PG_TESS', 'e_A_PG_TESS', 'ph_PG_TESS', 'e_ph_PG_TESS', 'T0_PG_TESS', 'e_T0_PG_TESS', 'offset_PG_TESS', 'e_offset_PG_TESS', 'FAP_PG_TESS', 'valid_PG_TESS', 'error_PG_TESS', 'elapsed_time_PG_TESS', 'fits_file_TESS', 'fig_file_TESS']\n"
     ]
    }
   ],
   "source": [
    "print(cvis.columns.to_list())"
   ]
  },
  {
   "cell_type": "markdown",
   "id": "9a67c0f7",
   "metadata": {},
   "source": [
    "### Correct the RMS values in the table"
   ]
  },
  {
   "cell_type": "code",
   "execution_count": 37,
   "id": "21b6d1dd",
   "metadata": {
    "ExecuteTime": {
     "end_time": "2022-06-17T14:03:29.067563Z",
     "start_time": "2022-06-17T14:03:29.048613Z"
    }
   },
   "outputs": [
    {
     "data": {
      "text/html": [
       "<div>\n",
       "<style scoped>\n",
       "    .dataframe tbody tr th:only-of-type {\n",
       "        vertical-align: middle;\n",
       "    }\n",
       "\n",
       "    .dataframe tbody tr th {\n",
       "        vertical-align: top;\n",
       "    }\n",
       "\n",
       "    .dataframe thead th {\n",
       "        text-align: right;\n",
       "    }\n",
       "</style>\n",
       "<table border=\"1\" class=\"dataframe\">\n",
       "  <thead>\n",
       "    <tr style=\"text-align: right;\">\n",
       "      <th></th>\n",
       "      <th>wrms_RV</th>\n",
       "      <th>wrms_TESS</th>\n",
       "    </tr>\n",
       "  </thead>\n",
       "  <tbody>\n",
       "    <tr>\n",
       "      <th>0</th>\n",
       "      <td>3.982350e+06</td>\n",
       "      <td>NaN</td>\n",
       "    </tr>\n",
       "    <tr>\n",
       "      <th>1</th>\n",
       "      <td>1.189797e+05</td>\n",
       "      <td>NaN</td>\n",
       "    </tr>\n",
       "    <tr>\n",
       "      <th>2</th>\n",
       "      <td>8.457554e+02</td>\n",
       "      <td>24030.125000</td>\n",
       "    </tr>\n",
       "    <tr>\n",
       "      <th>3</th>\n",
       "      <td>1.130713e+01</td>\n",
       "      <td>162.921387</td>\n",
       "    </tr>\n",
       "    <tr>\n",
       "      <th>4</th>\n",
       "      <td>4.769276e+00</td>\n",
       "      <td>NaN</td>\n",
       "    </tr>\n",
       "  </tbody>\n",
       "</table>\n",
       "</div>"
      ],
      "text/plain": [
       "        wrms_RV     wrms_TESS\n",
       "0  3.982350e+06           NaN\n",
       "1  1.189797e+05           NaN\n",
       "2  8.457554e+02  24030.125000\n",
       "3  1.130713e+01    162.921387\n",
       "4  4.769276e+00           NaN"
      ]
     },
     "execution_count": 37,
     "metadata": {},
     "output_type": "execute_result"
    }
   ],
   "source": [
    "cvis[['wrms_RV', 'wrms_TESS']].head()"
   ]
  },
  {
   "cell_type": "code",
   "execution_count": 44,
   "id": "16dce830",
   "metadata": {
    "ExecuteTime": {
     "end_time": "2022-06-17T14:05:33.971657Z",
     "start_time": "2022-06-17T14:05:33.965673Z"
    }
   },
   "outputs": [
    {
     "name": "stdout",
     "output_type": "stream",
     "text": [
      "Updating RMS values.\n"
     ]
    }
   ],
   "source": [
    "if ROOT_SQ_CVIS == 1:\n",
    "    print(\"Updating RMS values.\")\n",
    "    cvis['wrms_RV'] = cvis['wrms_RV'].map(lambda x: np.sqrt(x) if x is not None else x)\n",
    "    gto['wrms_TESS'] = cvis['wrms_TESS'].map(lambda x: np.sqrt(x) if x is not None else x)\n",
    "else:\n",
    "    print(\"Not updating RMS values.\")"
   ]
  },
  {
   "cell_type": "code",
   "execution_count": 45,
   "id": "9bdfe896",
   "metadata": {
    "ExecuteTime": {
     "end_time": "2022-06-17T14:05:34.794726Z",
     "start_time": "2022-06-17T14:05:34.785750Z"
    }
   },
   "outputs": [
    {
     "data": {
      "text/html": [
       "<div>\n",
       "<style scoped>\n",
       "    .dataframe tbody tr th:only-of-type {\n",
       "        vertical-align: middle;\n",
       "    }\n",
       "\n",
       "    .dataframe tbody tr th {\n",
       "        vertical-align: top;\n",
       "    }\n",
       "\n",
       "    .dataframe thead th {\n",
       "        text-align: right;\n",
       "    }\n",
       "</style>\n",
       "<table border=\"1\" class=\"dataframe\">\n",
       "  <thead>\n",
       "    <tr style=\"text-align: right;\">\n",
       "      <th></th>\n",
       "      <th>wrms_RV</th>\n",
       "      <th>wrms_TESS</th>\n",
       "    </tr>\n",
       "  </thead>\n",
       "  <tbody>\n",
       "    <tr>\n",
       "      <th>0</th>\n",
       "      <td>1995.582536</td>\n",
       "      <td>NaN</td>\n",
       "    </tr>\n",
       "    <tr>\n",
       "      <th>1</th>\n",
       "      <td>344.934347</td>\n",
       "      <td>NaN</td>\n",
       "    </tr>\n",
       "    <tr>\n",
       "      <th>2</th>\n",
       "      <td>29.081874</td>\n",
       "      <td>24030.125000</td>\n",
       "    </tr>\n",
       "    <tr>\n",
       "      <th>3</th>\n",
       "      <td>3.362607</td>\n",
       "      <td>162.921387</td>\n",
       "    </tr>\n",
       "    <tr>\n",
       "      <th>4</th>\n",
       "      <td>2.183867</td>\n",
       "      <td>NaN</td>\n",
       "    </tr>\n",
       "  </tbody>\n",
       "</table>\n",
       "</div>"
      ],
      "text/plain": [
       "       wrms_RV     wrms_TESS\n",
       "0  1995.582536           NaN\n",
       "1   344.934347           NaN\n",
       "2    29.081874  24030.125000\n",
       "3     3.362607    162.921387\n",
       "4     2.183867           NaN"
      ]
     },
     "execution_count": 45,
     "metadata": {},
     "output_type": "execute_result"
    }
   ],
   "source": [
    "cvis[['wrms_RV', 'wrms_TESS']].head()"
   ]
  },
  {
   "cell_type": "markdown",
   "id": "69c473eb",
   "metadata": {},
   "source": [
    "### Correct the RMS value at the headers of all related files"
   ]
  },
  {
   "cell_type": "code",
   "execution_count": 47,
   "id": "296eac61",
   "metadata": {
    "ExecuteTime": {
     "end_time": "2022-06-17T14:07:09.170070Z",
     "start_time": "2022-06-17T14:06:59.662520Z"
    },
    "scrolled": false
   },
   "outputs": [
    {
     "name": "stdout",
     "output_type": "stream",
     "text": [
      "[i=0, star=J23585+076, TESS] nan is not a file, skipping...\n",
      "[i=1, star=J23556-061, TESS] nan is not a file, skipping...\n",
      "[i=4, star=J23492+024, TESS] nan is not a file, skipping...\n",
      "[i=6, star=J23419+441, TESS] nan is not a file, skipping...\n",
      "[i=8, star=J23351-023, TESS] nan is not a file, skipping...\n",
      "[i=9, star=J23340+001, TESS] nan is not a file, skipping...\n",
      "[i=11, star=J23216+172, TESS] nan is not a file, skipping...\n",
      "[i=12, star=J23113+085, TESS] nan is not a file, skipping...\n",
      "[i=13, star=J23064-050, TESS] nan is not a file, skipping...\n",
      "[i=14, star=J22565+165, TESS] nan is not a file, skipping...\n",
      "[i=15, star=J22559+178, TESS] nan is not a file, skipping...\n",
      "[i=17, star=J22518+317, TESS] nan is not a file, skipping...\n",
      "[i=18, star=J22503-070, TESS] nan is not a file, skipping...\n",
      "[i=20, star=J22330+093, TESS] nan is not a file, skipping...\n",
      "[i=25, star=J22125+085, TESS] nan is not a file, skipping...\n",
      "[i=26, star=J22115+184, TESS] nan is not a file, skipping...\n",
      "[i=29, star=J22096-046, TESS] nan is not a file, skipping...\n",
      "[i=31, star=J22021+014, TESS] nan is not a file, skipping...\n",
      "[i=35, star=J21466-001, TESS] nan is not a file, skipping...\n",
      "[i=39, star=J21221+229, TESS] nan is not a file, skipping...\n",
      "[i=40, star=J21164+025, TESS] nan is not a file, skipping...\n",
      "[i=42, star=J21019-063, TESS] nan is not a file, skipping...\n",
      "[i=43, star=J20567-104, TESS] nan is not a file, skipping...\n",
      "[i=44, star=J20556-140S, TESS] nan is not a file, skipping...\n",
      "[i=45, star=J20556-140N, TESS] nan is not a file, skipping...\n",
      "[i=47, star=J20525-169, TESS] nan is not a file, skipping...\n",
      "[i=49, star=J20450+444, TESS] nan is not a file, skipping...\n",
      "[i=50, star=J20405+154, TESS] nan is not a file, skipping...\n",
      "[i=56, star=J20093-012, TESS] nan is not a file, skipping...\n",
      "[i=57, star=J19573-125, TESS] nan is not a file, skipping...\n",
      "[i=59, star=J19422-207, TESS] nan is not a file, skipping...\n",
      "[i=60, star=J19346+045, TESS] nan is not a file, skipping...\n",
      "[i=61, star=J19255+096, TESS] nan is not a file, skipping...\n",
      "[i=62, star=J19251+283, TESS] nan is not a file, skipping...\n",
      "[i=63, star=J19242+755, TESS] nan is not a file, skipping...\n",
      "[i=66, star=J19169+051S, TESS] nan is not a file, skipping...\n",
      "[i=67, star=J19169+051N, TESS] nan is not a file, skipping...\n",
      "[i=68, star=J19098+176, TESS] nan is not a file, skipping...\n",
      "[i=70, star=J19072+208, TESS] nan is not a file, skipping...\n",
      "[i=71, star=J19070+208, TESS] nan is not a file, skipping...\n",
      "[i=73, star=J18580+059, TESS] nan is not a file, skipping...\n",
      "[i=74, star=J18498-238, TESS] nan is not a file, skipping...\n",
      "[i=75, star=J18482+076, TESS] nan is not a file, skipping...\n",
      "[i=76, star=J18480-145, TESS] nan is not a file, skipping...\n",
      "[i=80, star=J18409-133, TESS] nan is not a file, skipping...\n",
      "[i=87, star=J18221+063, TESS] nan is not a file, skipping...\n",
      "[i=88, star=J18198-019, TESS] nan is not a file, skipping...\n",
      "[i=92, star=J18165+048, TESS] nan is not a file, skipping...\n",
      "[i=94, star=J18075-159, TESS] nan is not a file, skipping...\n",
      "[i=95, star=J18051-030, TESS] nan is not a file, skipping...\n",
      "[i=96, star=J18027+375, TESS] nan is not a file, skipping...\n",
      "[i=99, star=J17578+046, TESS] nan is not a file, skipping...\n",
      "[i=100, star=J17572+707, RV] nan is not a file, skipping...\n",
      "[i=101, star=J17542+073, TESS] nan is not a file, skipping...\n",
      "[i=106, star=J17303+055, TESS] nan is not a file, skipping...\n",
      "[i=108, star=J17166+080, TESS] nan is not a file, skipping...\n",
      "[i=111, star=J17052-050, TESS] nan is not a file, skipping...\n",
      "[i=115, star=J16570-043, TESS] nan is not a file, skipping...\n",
      "[i=116, star=J16555-083, TESS] nan is not a file, skipping...\n",
      "[i=117, star=J16554-083N, TESS] nan is not a file, skipping...\n",
      "[i=120, star=J16327+126, TESS] nan is not a file, skipping...\n",
      "[i=122, star=J16303-126, TESS] nan is not a file, skipping...\n",
      "[i=126, star=J16102-193, RV] nan is not a file, skipping...\n",
      "[i=126, star=J16102-193, TESS] nan is not a file, skipping...\n",
      "[i=127, star=J16092+093, TESS] nan is not a file, skipping...\n",
      "[i=129, star=J15598-082, TESS] nan is not a file, skipping...\n",
      "[i=132, star=J15474-108, TESS] nan is not a file, skipping...\n",
      "[i=134, star=J15369-141, TESS] nan is not a file, skipping...\n",
      "[i=135, star=J15305+094, TESS] nan is not a file, skipping...\n",
      "[i=137, star=J15194-077, TESS] nan is not a file, skipping...\n",
      "[i=138, star=J15100+193, TESS] nan is not a file, skipping...\n",
      "[i=139, star=J15095+031, TESS] nan is not a file, skipping...\n",
      "[i=140, star=J15013+055, TESS] nan is not a file, skipping...\n",
      "[i=142, star=J14524+123, TESS] nan is not a file, skipping...\n",
      "[i=143, star=J14342-125, TESS] nan is not a file, skipping...\n",
      "[i=144, star=J14321+081, TESS] nan is not a file, skipping...\n",
      "[i=145, star=J14310-122, TESS] nan is not a file, skipping...\n",
      "[i=146, star=J14307-086, TESS] nan is not a file, skipping...\n",
      "[i=147, star=J14294+155, TESS] nan is not a file, skipping...\n",
      "[i=152, star=J14155+046, TESS] nan is not a file, skipping...\n",
      "[i=155, star=J14010-026, TESS] nan is not a file, skipping...\n",
      "[i=174, star=J12428+418, TESS] nan is not a file, skipping...\n",
      "[i=181, star=J12189+111, TESS] nan is not a file, skipping...\n",
      "[i=189, star=J11477+008, TESS] nan is not a file, skipping...\n",
      "[i=191, star=J11476+002, TESS] nan is not a file, skipping...\n",
      "[i=198, star=J11302+076, TESS] nan is not a file, skipping...\n",
      "[i=204, star=J11055+435, TESS] nan is not a file, skipping...\n",
      "[i=211, star=J10564+070, TESS] nan is not a file, skipping...\n",
      "[i=212, star=J10508+068, TESS] nan is not a file, skipping...\n",
      "[i=213, star=J10504+331, TESS] nan is not a file, skipping...\n",
      "[i=217, star=J10360+051, TESS] nan is not a file, skipping...\n",
      "[i=223, star=J10196+198, TESS] nan is not a file, skipping...\n",
      "[i=227, star=J10125+570, TESS] nan is not a file, skipping...\n",
      "[i=241, star=J09411+132, TESS] nan is not a file, skipping...\n",
      "[i=243, star=J09307+003, TESS] nan is not a file, skipping...\n",
      "[i=249, star=J09140+196, TESS] nan is not a file, skipping...\n",
      "[i=250, star=J09133+688, TESS] nan is not a file, skipping...\n",
      "[i=254, star=J09003+218, TESS] nan is not a file, skipping...\n",
      "[i=265, star=J08161+013, TESS] nan is not a file, skipping...\n",
      "[i=269, star=J07590+153, TESS] nan is not a file, skipping...\n",
      "[i=276, star=J07386-212, TESS] nan is not a file, skipping...\n",
      "[i=278, star=J07353+548, TESS] nan is not a file, skipping...\n",
      "[i=286, star=J06594+193, TESS] nan is not a file, skipping...\n",
      "[i=291, star=J06371+175, TESS] nan is not a file, skipping...\n",
      "[i=293, star=J06246+234, TESS] nan is not a file, skipping...\n",
      "[i=299, star=J05532+242, TESS] nan is not a file, skipping...\n",
      "[i=310, star=J05127+196, TESS] nan is not a file, skipping...\n",
      "[i=319, star=J04472+206, TESS] nan is not a file, skipping...\n",
      "[i=320, star=J04429+214, TESS] nan is not a file, skipping...\n",
      "[i=321, star=J04429+189, TESS] nan is not a file, skipping...\n",
      "[i=327, star=J04290+219, TESS] nan is not a file, skipping...\n",
      "[i=329, star=J04219+213, TESS] nan is not a file, skipping...\n",
      "[i=331, star=J04173+088, RV] nan is not a file, skipping...\n",
      "[i=340, star=J03213+799, TESS] nan is not a file, skipping...\n",
      "[i=348, star=J02530+168, TESS] nan is not a file, skipping...\n",
      "[i=349, star=J02519+224, TESS] nan is not a file, skipping...\n",
      "[i=353, star=J02465+164, TESS] nan is not a file, skipping...\n",
      "[i=356, star=J02358+202, TESS] nan is not a file, skipping...\n",
      "[i=359, star=J02164+135, TESS] nan is not a file, skipping...\n",
      "[i=363, star=J02022+103, TESS] nan is not a file, skipping...\n",
      "[i=365, star=J02002+130, TESS] nan is not a file, skipping...\n",
      "[i=368, star=J01433+043, TESS] nan is not a file, skipping...\n",
      "[i=373, star=J01056+284, TESS] nan is not a file, skipping...\n",
      "[i=384, star=J00184+440, TESS] nan is not a file, skipping...\n",
      "[i=386, star=J00162+198W, TESS] nan is not a file, skipping...\n",
      "[i=387, star=J00162+198E, TESS] nan is not a file, skipping...\n",
      "[i=388, star=J00067-075, TESS] nan is not a file, skipping...\n",
      "[i=389, star=J00051+457, TESS] nan is not a file, skipping...\n"
     ]
    }
   ],
   "source": [
    "#for i in range(0, 3): # TEST\n",
    "for i in range(0, len(cvis)):\n",
    "    # Correct the RMS values in the RV FITS header:\n",
    "    fits_file_rv = cvis.loc[i, 'fits_file_RV']\n",
    "    if os.path.isfile(str(fits_file_rv)):\n",
    "        hdul = fits.open(fits_file_rv,\n",
    "                         mode='update', memmap=False)\n",
    "        hdul['RV_CURVE'].header['RMSFLUX'] = cvis.loc[i, 'wrms_RV']\n",
    "        hdul.close() # Already saves the changes to the file, no need to do 'HDUList.flush()'\n",
    "        del hdul\n",
    "    else:\n",
    "        print(\"[i=%d, star=%s, RV] %s is not a file, skipping...\" %(i, cvis.loc[i, 'Karmn'], fits_file_rv))\n",
    "    # Correct the RMS values in the TESS FITS header:\n",
    "    fits_file_tess = cvis.loc[i, 'fits_file_TESS']\n",
    "    if os.path.isfile(str(fits_file_tess)):\n",
    "        hdul = fits.open(fits_file_tess,\n",
    "                         mode='update', memmap=False)\n",
    "        hdul['TESS_LC'].header['RMSFLUX'] = cvis.loc[i, 'wrms_TESS']\n",
    "        hdul.close() # Already saves the changes to the file, no need to do 'HDUList.flush()'\n",
    "        del hdul\n",
    "    else:\n",
    "        print(\"[i=%d, star=%s, TESS] %s is not a file, skipping...\" %(i, cvis.loc[i, 'Karmn'], fits_file_tess))\n"
   ]
  },
  {
   "cell_type": "markdown",
   "id": "8c3c2cec",
   "metadata": {},
   "source": [
    "### Store the table result"
   ]
  },
  {
   "cell_type": "code",
   "execution_count": 48,
   "id": "d53b948d",
   "metadata": {
    "ExecuteTime": {
     "end_time": "2022-06-17T14:08:38.572442Z",
     "start_time": "2022-06-17T14:08:38.497385Z"
    }
   },
   "outputs": [],
   "source": [
    "cvis.to_csv(CARM_VIS_FILE, sep=',', decimal='.', index=False)"
   ]
  },
  {
   "cell_type": "markdown",
   "id": "4fe95649",
   "metadata": {},
   "source": [
    "# Summary"
   ]
  },
  {
   "cell_type": "markdown",
   "id": "9c14f82f",
   "metadata": {},
   "source": [
    "**OBSERVATIONS AND CONCLUSIONS:**\n",
    "- We have fixed the errors in the RMS values, both in the tables and in the _FITS_ files."
   ]
  },
  {
   "cell_type": "code",
   "execution_count": null,
   "id": "b6a548c3",
   "metadata": {},
   "outputs": [],
   "source": []
  }
 ],
 "metadata": {
  "kernelspec": {
   "display_name": "Python 3",
   "language": "python",
   "name": "python3"
  },
  "language_info": {
   "codemirror_mode": {
    "name": "ipython",
    "version": 3
   },
   "file_extension": ".py",
   "mimetype": "text/x-python",
   "name": "python",
   "nbconvert_exporter": "python",
   "pygments_lexer": "ipython3",
   "version": "3.8.8"
  },
  "toc": {
   "base_numbering": 1,
   "nav_menu": {},
   "number_sections": true,
   "sideBar": true,
   "skip_h1_title": true,
   "title_cell": "Table of Contents",
   "title_sidebar": "Contents",
   "toc_cell": false,
   "toc_position": {
    "height": "calc(100% - 180px)",
    "left": "10px",
    "top": "150px",
    "width": "303.828px"
   },
   "toc_section_display": true,
   "toc_window_display": true
  }
 },
 "nbformat": 4,
 "nbformat_minor": 5
}
