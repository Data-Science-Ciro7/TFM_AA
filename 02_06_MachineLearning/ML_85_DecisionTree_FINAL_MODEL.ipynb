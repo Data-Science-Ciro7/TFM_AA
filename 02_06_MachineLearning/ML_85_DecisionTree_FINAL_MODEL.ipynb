{
 "cells": [
  {
   "cell_type": "markdown",
   "id": "dbd6af04",
   "metadata": {},
   "source": [
    "# FINAL MODEL CONFIRMATION - `DecisionTreeClassifier`"
   ]
  },
  {
   "cell_type": "markdown",
   "id": "6a41216e",
   "metadata": {},
   "source": [
    "In this notebook we train the final model and confirm it, and get its predictions (training/test, validation, and CARMENES).\n",
    "\n",
    "- `max_depth`: 8\n",
    "- `min_samples_leaf`: 10\n",
    "- `ccp_alpha`: 0.005\n",
    "- `criterion`: 'entropy'\n",
    "- `max_features`: None\n"
   ]
  },
  {
   "cell_type": "markdown",
   "id": "66a88aaa",
   "metadata": {},
   "source": [
    "## Modules and configuration"
   ]
  },
  {
   "cell_type": "markdown",
   "id": "59c67f7c",
   "metadata": {},
   "source": [
    "### Modules"
   ]
  },
  {
   "cell_type": "code",
   "execution_count": 56,
   "id": "f317709c",
   "metadata": {
    "ExecuteTime": {
     "end_time": "2023-03-02T12:38:45.842226Z",
     "start_time": "2023-03-02T12:38:45.834248Z"
    }
   },
   "outputs": [],
   "source": [
    "import pickle\n",
    "\n",
    "import pandas as pd\n",
    "import numpy as np\n",
    "\n",
    "from sklearn.tree import DecisionTreeClassifier, plot_tree\n",
    "\n",
    "from sklearn.model_selection import GridSearchCV, cross_val_score, train_test_split\n",
    "\n",
    "from sklearn.metrics import precision_score, make_scorer, classification_report, confusion_matrix\n",
    "\n",
    "import optuna\n",
    "\n",
    "from matplotlib import pyplot as plt\n"
   ]
  },
  {
   "cell_type": "markdown",
   "id": "04b6232f",
   "metadata": {},
   "source": [
    "### Configuration"
   ]
  },
  {
   "cell_type": "code",
   "execution_count": 57,
   "id": "1d1956b9",
   "metadata": {
    "ExecuteTime": {
     "end_time": "2023-03-02T12:38:46.198028Z",
     "start_time": "2023-03-02T12:38:46.187058Z"
    }
   },
   "outputs": [],
   "source": [
    "RANDOM_STATE = 11 # For reproducibility\n",
    "\n",
    "#S4_TRAIN_SET_IN = \"../data/DATASETS_ML/S4_02_DS_AfterImputing_TrainTest_OVERSAMPLED_n3.csv\"\n",
    "S4_TRAIN_SET_IN = \"../data/DATASETS_ML/S4_02_DS_AfterImputing_TrainTest.csv\"\n",
    "# Train/test set for S4 sample, all 112 features\n",
    "S4_VALIDATION_SET_IN = \"../data/DATASETS_ML/S4_02_DS_AfterImputing_Validation.csv\"\n",
    "# Validation set for S4 sample, all 112 features\n",
    "CARMENES_SET_IN = \"../data/DATASETS_ML/ML_02_DS_AfterImputing.csv\"\n",
    "\n",
    "REL_FEATURES_IN = \"../data/ML_MODELS/ML_pipeline_steps/Reliable_features.pickle\"\n",
    "\n",
    "OPT_DT_CLF_OUT = \"../data/ML_MODELS/ML_pipeline_steps/FINAL_Opt_DT_Classifier.pickle\"\n",
    "OPT_DT_CLF_OUT_COPY = \"../data/ML_MODELS/Results_DecisionTree/FINAL_Opt_DT_Classifier.pickle\"\n",
    "\n",
    "TR_PREDICTIONS_OUT = \"../data/ML_MODELS/Results_DecisionTree/FINAL_DT_Scaled_Train_Predictions.csv\"\n",
    "VAL_PREDICTIONS_OUT = \"../data/ML_MODELS/Results_DecisionTree/FINAL_DT_Scaled_Val_Predictions.csv\"\n",
    "CARMENES_PREDICTIONS_OUT = \"../data/ML_MODELS/Results_DecisionTree/FINAL_DT_Scaled_CARMENES_Predictions.csv\"\n",
    "\n",
    "#OPTIMIZATION_TRIALS = \"../data/ML_MODELS/Results_DecisionTree/FINAL_DT_Scaled_Optuna_Trials.csv\"\n",
    "DECISION_TREE_FIG_OUT = \"../data/ML_MODELS/Results_DecisionTree/FINAL_DT_Scaled_DecisionTree_Image.jpg\"\n"
   ]
  },
  {
   "cell_type": "markdown",
   "id": "d67b2182",
   "metadata": {},
   "source": [
    "### Functions"
   ]
  },
  {
   "cell_type": "code",
   "execution_count": 58,
   "id": "a957fa07",
   "metadata": {
    "ExecuteTime": {
     "end_time": "2023-03-02T12:38:46.787148Z",
     "start_time": "2023-03-02T12:38:46.770193Z"
    }
   },
   "outputs": [],
   "source": [
    "def re_evaluate_model(model, X_train, y_train, X_val, y_val, refit=True):\n",
    "    '''Reevaluates a model in the training and validation set'''\n",
    "    if refit == True:\n",
    "        model.fit(X_train, y_train)\n",
    "    # Training score:\n",
    "    y_train_pred = model.predict(X_train)\n",
    "    tr_score = precision_score(y_train, y_train_pred, zero_division=0.0)\n",
    "    # Validation score:\n",
    "    y_val_pred = model.predict(X_val)\n",
    "    val_score = precision_score(y_val, y_val_pred, zero_division=0.0)\n",
    "    # Final depth of the tree:\n",
    "    tree_depth = model.get_depth()\n",
    "    \n",
    "    return {'train_score': tr_score, 'validation_score': val_score, 'tree_depth': tree_depth}"
   ]
  },
  {
   "cell_type": "markdown",
   "id": "b02e4d26",
   "metadata": {},
   "source": [
    "## Load data"
   ]
  },
  {
   "cell_type": "markdown",
   "id": "f6700545",
   "metadata": {},
   "source": [
    "### Load reliable features"
   ]
  },
  {
   "cell_type": "code",
   "execution_count": 59,
   "id": "589703f3",
   "metadata": {
    "ExecuteTime": {
     "end_time": "2023-03-02T12:38:47.474509Z",
     "start_time": "2023-03-02T12:38:47.458553Z"
    }
   },
   "outputs": [
    {
     "data": {
      "text/plain": [
       "'../data/ML_MODELS/ML_pipeline_steps/Reliable_features.pickle'"
      ]
     },
     "execution_count": 59,
     "metadata": {},
     "output_type": "execute_result"
    }
   ],
   "source": [
    "REL_FEATURES_IN"
   ]
  },
  {
   "cell_type": "code",
   "execution_count": 60,
   "id": "fb95c73b",
   "metadata": {
    "ExecuteTime": {
     "end_time": "2023-03-02T12:38:47.709140Z",
     "start_time": "2023-03-02T12:38:47.699166Z"
    }
   },
   "outputs": [
    {
     "name": "stdout",
     "output_type": "stream",
     "text": [
      "['all_times_nhist_numpeaks', 'all_times_nhist_peak1_bin', 'all_times_nhist_peak2_bin', 'all_times_nhist_peak3_bin', 'all_times_nhist_peak4_bin', 'all_times_nhist_peak_1_to_2', 'all_times_nhist_peak_1_to_3', 'all_times_nhist_peak_1_to_4', 'all_times_nhist_peak_2_to_3', 'all_times_nhist_peak_2_to_4', 'all_times_nhist_peak_3_to_4', 'all_times_nhist_peak_val', 'avg_double_to_single_step', 'cad_probs_1', 'cad_probs_10', 'cad_probs_20', 'cad_probs_30', 'cad_probs_40', 'cad_probs_50', 'cad_probs_100', 'cad_probs_500', 'cad_probs_1000', 'cad_probs_5000', 'cad_probs_10000', 'cad_probs_50000', 'cad_probs_100000', 'cad_probs_500000', 'cad_probs_1000000', 'cad_probs_5000000', 'cad_probs_10000000', 'cads_avg', 'cads_med', 'cads_std', 'med_double_to_single_step', 'n_epochs', 'std_double_to_single_step', 'total_time', 'percent_beyond_1_std', 'freq1_rel_phase2', 'freq1_rel_phase3', 'freq1_rel_phase4', 'freq2_rel_phase2', 'freq2_rel_phase3', 'freq2_rel_phase4', 'freq3_rel_phase2', 'freq3_rel_phase3', 'freq3_rel_phase4', 'freq_model_phi1_phi2']\n"
     ]
    }
   ],
   "source": [
    "rel_features = pickle.load(open(REL_FEATURES_IN, 'rb'))\n",
    "print(rel_features)"
   ]
  },
  {
   "cell_type": "code",
   "execution_count": 61,
   "id": "ff1ab3a5",
   "metadata": {
    "ExecuteTime": {
     "end_time": "2023-03-02T12:38:47.959207Z",
     "start_time": "2023-03-02T12:38:47.947244Z"
    }
   },
   "outputs": [
    {
     "data": {
      "text/plain": [
       "48"
      ]
     },
     "execution_count": 61,
     "metadata": {},
     "output_type": "execute_result"
    }
   ],
   "source": [
    "len(rel_features)"
   ]
  },
  {
   "cell_type": "markdown",
   "id": "8a701f1a",
   "metadata": {},
   "source": [
    "### Load training data"
   ]
  },
  {
   "cell_type": "code",
   "execution_count": 62,
   "id": "8d2e9bb2",
   "metadata": {
    "ExecuteTime": {
     "end_time": "2023-03-02T12:38:48.458196Z",
     "start_time": "2023-03-02T12:38:48.451215Z"
    }
   },
   "outputs": [
    {
     "data": {
      "text/plain": [
       "'../data/DATASETS_ML/S4_02_DS_AfterImputing_TrainTest.csv'"
      ]
     },
     "execution_count": 62,
     "metadata": {},
     "output_type": "execute_result"
    }
   ],
   "source": [
    "S4_TRAIN_SET_IN"
   ]
  },
  {
   "cell_type": "code",
   "execution_count": 63,
   "id": "d6fde2fc",
   "metadata": {
    "ExecuteTime": {
     "end_time": "2023-03-02T12:38:48.707390Z",
     "start_time": "2023-03-02T12:38:48.653533Z"
    }
   },
   "outputs": [
    {
     "data": {
      "text/html": [
       "<div>\n",
       "<style scoped>\n",
       "    .dataframe tbody tr th:only-of-type {\n",
       "        vertical-align: middle;\n",
       "    }\n",
       "\n",
       "    .dataframe tbody tr th {\n",
       "        vertical-align: top;\n",
       "    }\n",
       "\n",
       "    .dataframe thead th {\n",
       "        text-align: right;\n",
       "    }\n",
       "</style>\n",
       "<table border=\"1\" class=\"dataframe\">\n",
       "  <thead>\n",
       "    <tr style=\"text-align: right;\">\n",
       "      <th></th>\n",
       "      <th>ID</th>\n",
       "      <th>Pulsating</th>\n",
       "      <th>frequency</th>\n",
       "      <th>amplitudeRV</th>\n",
       "      <th>offsetRV</th>\n",
       "      <th>refepochRV</th>\n",
       "      <th>phase</th>\n",
       "      <th>all_times_nhist_numpeaks</th>\n",
       "      <th>all_times_nhist_peak1_bin</th>\n",
       "      <th>all_times_nhist_peak2_bin</th>\n",
       "      <th>...</th>\n",
       "      <th>freq_signif_ratio_31</th>\n",
       "      <th>freq_varrat</th>\n",
       "      <th>freq_y_offset</th>\n",
       "      <th>linear_trend</th>\n",
       "      <th>medperc90_2p_p</th>\n",
       "      <th>p2p_scatter_2praw</th>\n",
       "      <th>p2p_scatter_over_mad</th>\n",
       "      <th>p2p_scatter_pfold_over_mad</th>\n",
       "      <th>p2p_ssqr_diff_over_var</th>\n",
       "      <th>scatter_res_raw</th>\n",
       "    </tr>\n",
       "  </thead>\n",
       "  <tbody>\n",
       "    <tr>\n",
       "      <th>0</th>\n",
       "      <td>Star-00163</td>\n",
       "      <td>False</td>\n",
       "      <td>0.0</td>\n",
       "      <td>0.00</td>\n",
       "      <td>0.0</td>\n",
       "      <td>2.457444e+06</td>\n",
       "      <td>0.00</td>\n",
       "      <td>-0.674126</td>\n",
       "      <td>0.519174</td>\n",
       "      <td>0.466681</td>\n",
       "      <td>...</td>\n",
       "      <td>-0.712310</td>\n",
       "      <td>-1.187392</td>\n",
       "      <td>0.425026</td>\n",
       "      <td>-0.002305</td>\n",
       "      <td>0.495906</td>\n",
       "      <td>-0.537353</td>\n",
       "      <td>-0.028926</td>\n",
       "      <td>-0.262548</td>\n",
       "      <td>-0.135686</td>\n",
       "      <td>-0.705143</td>\n",
       "    </tr>\n",
       "    <tr>\n",
       "      <th>1</th>\n",
       "      <td>Star-00123</td>\n",
       "      <td>True</td>\n",
       "      <td>30.0</td>\n",
       "      <td>0.72</td>\n",
       "      <td>0.0</td>\n",
       "      <td>2.457401e+06</td>\n",
       "      <td>0.37</td>\n",
       "      <td>-1.626729</td>\n",
       "      <td>1.911247</td>\n",
       "      <td>-0.740748</td>\n",
       "      <td>...</td>\n",
       "      <td>0.040924</td>\n",
       "      <td>-1.110488</td>\n",
       "      <td>-0.289189</td>\n",
       "      <td>0.056551</td>\n",
       "      <td>0.555375</td>\n",
       "      <td>-0.699590</td>\n",
       "      <td>-0.292135</td>\n",
       "      <td>-0.013533</td>\n",
       "      <td>0.443673</td>\n",
       "      <td>-1.207278</td>\n",
       "    </tr>\n",
       "    <tr>\n",
       "      <th>2</th>\n",
       "      <td>Star-00022</td>\n",
       "      <td>False</td>\n",
       "      <td>0.0</td>\n",
       "      <td>0.00</td>\n",
       "      <td>0.0</td>\n",
       "      <td>2.457430e+06</td>\n",
       "      <td>0.00</td>\n",
       "      <td>-0.039057</td>\n",
       "      <td>-1.012107</td>\n",
       "      <td>0.013895</td>\n",
       "      <td>...</td>\n",
       "      <td>-0.943428</td>\n",
       "      <td>0.637603</td>\n",
       "      <td>-0.679383</td>\n",
       "      <td>0.020496</td>\n",
       "      <td>-0.496592</td>\n",
       "      <td>-0.001214</td>\n",
       "      <td>-0.101526</td>\n",
       "      <td>-0.011097</td>\n",
       "      <td>-0.293389</td>\n",
       "      <td>0.242263</td>\n",
       "    </tr>\n",
       "    <tr>\n",
       "      <th>3</th>\n",
       "      <td>Star-00708</td>\n",
       "      <td>False</td>\n",
       "      <td>0.0</td>\n",
       "      <td>0.00</td>\n",
       "      <td>0.0</td>\n",
       "      <td>2.459677e+06</td>\n",
       "      <td>0.00</td>\n",
       "      <td>-0.039057</td>\n",
       "      <td>1.632833</td>\n",
       "      <td>-0.514355</td>\n",
       "      <td>...</td>\n",
       "      <td>-1.091456</td>\n",
       "      <td>0.759880</td>\n",
       "      <td>-0.161363</td>\n",
       "      <td>-0.210930</td>\n",
       "      <td>0.135863</td>\n",
       "      <td>0.662121</td>\n",
       "      <td>-0.492481</td>\n",
       "      <td>0.015621</td>\n",
       "      <td>-0.724783</td>\n",
       "      <td>0.682494</td>\n",
       "    </tr>\n",
       "    <tr>\n",
       "      <th>4</th>\n",
       "      <td>Star-00484</td>\n",
       "      <td>False</td>\n",
       "      <td>0.0</td>\n",
       "      <td>0.00</td>\n",
       "      <td>0.0</td>\n",
       "      <td>2.457400e+06</td>\n",
       "      <td>0.00</td>\n",
       "      <td>0.596012</td>\n",
       "      <td>-0.176863</td>\n",
       "      <td>-1.042605</td>\n",
       "      <td>...</td>\n",
       "      <td>-0.696260</td>\n",
       "      <td>0.153752</td>\n",
       "      <td>0.936459</td>\n",
       "      <td>0.070402</td>\n",
       "      <td>-0.067689</td>\n",
       "      <td>-0.656553</td>\n",
       "      <td>-0.237337</td>\n",
       "      <td>-0.032597</td>\n",
       "      <td>-0.139141</td>\n",
       "      <td>-0.098080</td>\n",
       "    </tr>\n",
       "  </tbody>\n",
       "</table>\n",
       "<p>5 rows × 119 columns</p>\n",
       "</div>"
      ],
      "text/plain": [
       "           ID  Pulsating  frequency  amplitudeRV  offsetRV    refepochRV  \\\n",
       "0  Star-00163      False        0.0         0.00       0.0  2.457444e+06   \n",
       "1  Star-00123       True       30.0         0.72       0.0  2.457401e+06   \n",
       "2  Star-00022      False        0.0         0.00       0.0  2.457430e+06   \n",
       "3  Star-00708      False        0.0         0.00       0.0  2.459677e+06   \n",
       "4  Star-00484      False        0.0         0.00       0.0  2.457400e+06   \n",
       "\n",
       "   phase  all_times_nhist_numpeaks  all_times_nhist_peak1_bin  \\\n",
       "0   0.00                 -0.674126                   0.519174   \n",
       "1   0.37                 -1.626729                   1.911247   \n",
       "2   0.00                 -0.039057                  -1.012107   \n",
       "3   0.00                 -0.039057                   1.632833   \n",
       "4   0.00                  0.596012                  -0.176863   \n",
       "\n",
       "   all_times_nhist_peak2_bin  ...  freq_signif_ratio_31  freq_varrat  \\\n",
       "0                   0.466681  ...             -0.712310    -1.187392   \n",
       "1                  -0.740748  ...              0.040924    -1.110488   \n",
       "2                   0.013895  ...             -0.943428     0.637603   \n",
       "3                  -0.514355  ...             -1.091456     0.759880   \n",
       "4                  -1.042605  ...             -0.696260     0.153752   \n",
       "\n",
       "   freq_y_offset  linear_trend  medperc90_2p_p  p2p_scatter_2praw  \\\n",
       "0       0.425026     -0.002305        0.495906          -0.537353   \n",
       "1      -0.289189      0.056551        0.555375          -0.699590   \n",
       "2      -0.679383      0.020496       -0.496592          -0.001214   \n",
       "3      -0.161363     -0.210930        0.135863           0.662121   \n",
       "4       0.936459      0.070402       -0.067689          -0.656553   \n",
       "\n",
       "   p2p_scatter_over_mad  p2p_scatter_pfold_over_mad  p2p_ssqr_diff_over_var  \\\n",
       "0             -0.028926                   -0.262548               -0.135686   \n",
       "1             -0.292135                   -0.013533                0.443673   \n",
       "2             -0.101526                   -0.011097               -0.293389   \n",
       "3             -0.492481                    0.015621               -0.724783   \n",
       "4             -0.237337                   -0.032597               -0.139141   \n",
       "\n",
       "   scatter_res_raw  \n",
       "0        -0.705143  \n",
       "1        -1.207278  \n",
       "2         0.242263  \n",
       "3         0.682494  \n",
       "4        -0.098080  \n",
       "\n",
       "[5 rows x 119 columns]"
      ]
     },
     "execution_count": 63,
     "metadata": {},
     "output_type": "execute_result"
    }
   ],
   "source": [
    "tr_load = pd.read_csv(S4_TRAIN_SET_IN, sep=',', decimal='.')\n",
    "tr_load.head()"
   ]
  },
  {
   "cell_type": "markdown",
   "id": "05bba92a",
   "metadata": {},
   "source": [
    "#### Transform training data"
   ]
  },
  {
   "cell_type": "markdown",
   "id": "3916dee8",
   "metadata": {},
   "source": [
    "Map the `Pulsating` column to `0` / `1`."
   ]
  },
  {
   "cell_type": "code",
   "execution_count": 64,
   "id": "e41968fd",
   "metadata": {
    "ExecuteTime": {
     "end_time": "2023-03-02T12:38:49.563282Z",
     "start_time": "2023-03-02T12:38:49.539347Z"
    }
   },
   "outputs": [
    {
     "data": {
      "text/html": [
       "<div>\n",
       "<style scoped>\n",
       "    .dataframe tbody tr th:only-of-type {\n",
       "        vertical-align: middle;\n",
       "    }\n",
       "\n",
       "    .dataframe tbody tr th {\n",
       "        vertical-align: top;\n",
       "    }\n",
       "\n",
       "    .dataframe thead th {\n",
       "        text-align: right;\n",
       "    }\n",
       "</style>\n",
       "<table border=\"1\" class=\"dataframe\">\n",
       "  <thead>\n",
       "    <tr style=\"text-align: right;\">\n",
       "      <th></th>\n",
       "      <th>ID</th>\n",
       "      <th>Pulsating</th>\n",
       "      <th>frequency</th>\n",
       "      <th>amplitudeRV</th>\n",
       "      <th>offsetRV</th>\n",
       "      <th>refepochRV</th>\n",
       "      <th>phase</th>\n",
       "      <th>all_times_nhist_numpeaks</th>\n",
       "      <th>all_times_nhist_peak1_bin</th>\n",
       "      <th>all_times_nhist_peak2_bin</th>\n",
       "      <th>...</th>\n",
       "      <th>freq_signif_ratio_31</th>\n",
       "      <th>freq_varrat</th>\n",
       "      <th>freq_y_offset</th>\n",
       "      <th>linear_trend</th>\n",
       "      <th>medperc90_2p_p</th>\n",
       "      <th>p2p_scatter_2praw</th>\n",
       "      <th>p2p_scatter_over_mad</th>\n",
       "      <th>p2p_scatter_pfold_over_mad</th>\n",
       "      <th>p2p_ssqr_diff_over_var</th>\n",
       "      <th>scatter_res_raw</th>\n",
       "    </tr>\n",
       "  </thead>\n",
       "  <tbody>\n",
       "    <tr>\n",
       "      <th>0</th>\n",
       "      <td>Star-00163</td>\n",
       "      <td>0</td>\n",
       "      <td>0.0</td>\n",
       "      <td>0.00</td>\n",
       "      <td>0.0</td>\n",
       "      <td>2.457444e+06</td>\n",
       "      <td>0.00</td>\n",
       "      <td>-0.674126</td>\n",
       "      <td>0.519174</td>\n",
       "      <td>0.466681</td>\n",
       "      <td>...</td>\n",
       "      <td>-0.712310</td>\n",
       "      <td>-1.187392</td>\n",
       "      <td>0.425026</td>\n",
       "      <td>-0.002305</td>\n",
       "      <td>0.495906</td>\n",
       "      <td>-0.537353</td>\n",
       "      <td>-0.028926</td>\n",
       "      <td>-0.262548</td>\n",
       "      <td>-0.135686</td>\n",
       "      <td>-0.705143</td>\n",
       "    </tr>\n",
       "    <tr>\n",
       "      <th>1</th>\n",
       "      <td>Star-00123</td>\n",
       "      <td>1</td>\n",
       "      <td>30.0</td>\n",
       "      <td>0.72</td>\n",
       "      <td>0.0</td>\n",
       "      <td>2.457401e+06</td>\n",
       "      <td>0.37</td>\n",
       "      <td>-1.626729</td>\n",
       "      <td>1.911247</td>\n",
       "      <td>-0.740748</td>\n",
       "      <td>...</td>\n",
       "      <td>0.040924</td>\n",
       "      <td>-1.110488</td>\n",
       "      <td>-0.289189</td>\n",
       "      <td>0.056551</td>\n",
       "      <td>0.555375</td>\n",
       "      <td>-0.699590</td>\n",
       "      <td>-0.292135</td>\n",
       "      <td>-0.013533</td>\n",
       "      <td>0.443673</td>\n",
       "      <td>-1.207278</td>\n",
       "    </tr>\n",
       "    <tr>\n",
       "      <th>2</th>\n",
       "      <td>Star-00022</td>\n",
       "      <td>0</td>\n",
       "      <td>0.0</td>\n",
       "      <td>0.00</td>\n",
       "      <td>0.0</td>\n",
       "      <td>2.457430e+06</td>\n",
       "      <td>0.00</td>\n",
       "      <td>-0.039057</td>\n",
       "      <td>-1.012107</td>\n",
       "      <td>0.013895</td>\n",
       "      <td>...</td>\n",
       "      <td>-0.943428</td>\n",
       "      <td>0.637603</td>\n",
       "      <td>-0.679383</td>\n",
       "      <td>0.020496</td>\n",
       "      <td>-0.496592</td>\n",
       "      <td>-0.001214</td>\n",
       "      <td>-0.101526</td>\n",
       "      <td>-0.011097</td>\n",
       "      <td>-0.293389</td>\n",
       "      <td>0.242263</td>\n",
       "    </tr>\n",
       "    <tr>\n",
       "      <th>3</th>\n",
       "      <td>Star-00708</td>\n",
       "      <td>0</td>\n",
       "      <td>0.0</td>\n",
       "      <td>0.00</td>\n",
       "      <td>0.0</td>\n",
       "      <td>2.459677e+06</td>\n",
       "      <td>0.00</td>\n",
       "      <td>-0.039057</td>\n",
       "      <td>1.632833</td>\n",
       "      <td>-0.514355</td>\n",
       "      <td>...</td>\n",
       "      <td>-1.091456</td>\n",
       "      <td>0.759880</td>\n",
       "      <td>-0.161363</td>\n",
       "      <td>-0.210930</td>\n",
       "      <td>0.135863</td>\n",
       "      <td>0.662121</td>\n",
       "      <td>-0.492481</td>\n",
       "      <td>0.015621</td>\n",
       "      <td>-0.724783</td>\n",
       "      <td>0.682494</td>\n",
       "    </tr>\n",
       "    <tr>\n",
       "      <th>4</th>\n",
       "      <td>Star-00484</td>\n",
       "      <td>0</td>\n",
       "      <td>0.0</td>\n",
       "      <td>0.00</td>\n",
       "      <td>0.0</td>\n",
       "      <td>2.457400e+06</td>\n",
       "      <td>0.00</td>\n",
       "      <td>0.596012</td>\n",
       "      <td>-0.176863</td>\n",
       "      <td>-1.042605</td>\n",
       "      <td>...</td>\n",
       "      <td>-0.696260</td>\n",
       "      <td>0.153752</td>\n",
       "      <td>0.936459</td>\n",
       "      <td>0.070402</td>\n",
       "      <td>-0.067689</td>\n",
       "      <td>-0.656553</td>\n",
       "      <td>-0.237337</td>\n",
       "      <td>-0.032597</td>\n",
       "      <td>-0.139141</td>\n",
       "      <td>-0.098080</td>\n",
       "    </tr>\n",
       "  </tbody>\n",
       "</table>\n",
       "<p>5 rows × 119 columns</p>\n",
       "</div>"
      ],
      "text/plain": [
       "           ID  Pulsating  frequency  amplitudeRV  offsetRV    refepochRV  \\\n",
       "0  Star-00163          0        0.0         0.00       0.0  2.457444e+06   \n",
       "1  Star-00123          1       30.0         0.72       0.0  2.457401e+06   \n",
       "2  Star-00022          0        0.0         0.00       0.0  2.457430e+06   \n",
       "3  Star-00708          0        0.0         0.00       0.0  2.459677e+06   \n",
       "4  Star-00484          0        0.0         0.00       0.0  2.457400e+06   \n",
       "\n",
       "   phase  all_times_nhist_numpeaks  all_times_nhist_peak1_bin  \\\n",
       "0   0.00                 -0.674126                   0.519174   \n",
       "1   0.37                 -1.626729                   1.911247   \n",
       "2   0.00                 -0.039057                  -1.012107   \n",
       "3   0.00                 -0.039057                   1.632833   \n",
       "4   0.00                  0.596012                  -0.176863   \n",
       "\n",
       "   all_times_nhist_peak2_bin  ...  freq_signif_ratio_31  freq_varrat  \\\n",
       "0                   0.466681  ...             -0.712310    -1.187392   \n",
       "1                  -0.740748  ...              0.040924    -1.110488   \n",
       "2                   0.013895  ...             -0.943428     0.637603   \n",
       "3                  -0.514355  ...             -1.091456     0.759880   \n",
       "4                  -1.042605  ...             -0.696260     0.153752   \n",
       "\n",
       "   freq_y_offset  linear_trend  medperc90_2p_p  p2p_scatter_2praw  \\\n",
       "0       0.425026     -0.002305        0.495906          -0.537353   \n",
       "1      -0.289189      0.056551        0.555375          -0.699590   \n",
       "2      -0.679383      0.020496       -0.496592          -0.001214   \n",
       "3      -0.161363     -0.210930        0.135863           0.662121   \n",
       "4       0.936459      0.070402       -0.067689          -0.656553   \n",
       "\n",
       "   p2p_scatter_over_mad  p2p_scatter_pfold_over_mad  p2p_ssqr_diff_over_var  \\\n",
       "0             -0.028926                   -0.262548               -0.135686   \n",
       "1             -0.292135                   -0.013533                0.443673   \n",
       "2             -0.101526                   -0.011097               -0.293389   \n",
       "3             -0.492481                    0.015621               -0.724783   \n",
       "4             -0.237337                   -0.032597               -0.139141   \n",
       "\n",
       "   scatter_res_raw  \n",
       "0        -0.705143  \n",
       "1        -1.207278  \n",
       "2         0.242263  \n",
       "3         0.682494  \n",
       "4        -0.098080  \n",
       "\n",
       "[5 rows x 119 columns]"
      ]
     },
     "execution_count": 64,
     "metadata": {},
     "output_type": "execute_result"
    }
   ],
   "source": [
    "tr_load['Pulsating'] = tr_load['Pulsating'].map(lambda x: 1 if x == True else 0)\n",
    "tr_load.head()"
   ]
  },
  {
   "cell_type": "markdown",
   "id": "97b660c8",
   "metadata": {},
   "source": [
    "Select only the reliable features and target. Note the use of global variable here."
   ]
  },
  {
   "cell_type": "code",
   "execution_count": 65,
   "id": "f5514b76",
   "metadata": {
    "ExecuteTime": {
     "end_time": "2023-03-02T12:38:50.200541Z",
     "start_time": "2023-03-02T12:38:50.179610Z"
    }
   },
   "outputs": [
    {
     "data": {
      "text/html": [
       "<div>\n",
       "<style scoped>\n",
       "    .dataframe tbody tr th:only-of-type {\n",
       "        vertical-align: middle;\n",
       "    }\n",
       "\n",
       "    .dataframe tbody tr th {\n",
       "        vertical-align: top;\n",
       "    }\n",
       "\n",
       "    .dataframe thead th {\n",
       "        text-align: right;\n",
       "    }\n",
       "</style>\n",
       "<table border=\"1\" class=\"dataframe\">\n",
       "  <thead>\n",
       "    <tr style=\"text-align: right;\">\n",
       "      <th></th>\n",
       "      <th>all_times_nhist_numpeaks</th>\n",
       "      <th>all_times_nhist_peak1_bin</th>\n",
       "      <th>all_times_nhist_peak2_bin</th>\n",
       "      <th>all_times_nhist_peak3_bin</th>\n",
       "      <th>all_times_nhist_peak4_bin</th>\n",
       "      <th>all_times_nhist_peak_1_to_2</th>\n",
       "      <th>all_times_nhist_peak_1_to_3</th>\n",
       "      <th>all_times_nhist_peak_1_to_4</th>\n",
       "      <th>all_times_nhist_peak_2_to_3</th>\n",
       "      <th>all_times_nhist_peak_2_to_4</th>\n",
       "      <th>...</th>\n",
       "      <th>freq1_rel_phase3</th>\n",
       "      <th>freq1_rel_phase4</th>\n",
       "      <th>freq2_rel_phase2</th>\n",
       "      <th>freq2_rel_phase3</th>\n",
       "      <th>freq2_rel_phase4</th>\n",
       "      <th>freq3_rel_phase2</th>\n",
       "      <th>freq3_rel_phase3</th>\n",
       "      <th>freq3_rel_phase4</th>\n",
       "      <th>freq_model_phi1_phi2</th>\n",
       "      <th>Pulsating</th>\n",
       "    </tr>\n",
       "  </thead>\n",
       "  <tbody>\n",
       "    <tr>\n",
       "      <th>0</th>\n",
       "      <td>-0.674126</td>\n",
       "      <td>0.519174</td>\n",
       "      <td>0.466681</td>\n",
       "      <td>0.766297</td>\n",
       "      <td>1.786498</td>\n",
       "      <td>-0.304944</td>\n",
       "      <td>0.843252</td>\n",
       "      <td>0.189055</td>\n",
       "      <td>1.390901</td>\n",
       "      <td>0.462908</td>\n",
       "      <td>...</td>\n",
       "      <td>0.908818</td>\n",
       "      <td>1.305379</td>\n",
       "      <td>1.413989</td>\n",
       "      <td>0.174334</td>\n",
       "      <td>-0.188773</td>\n",
       "      <td>0.985693</td>\n",
       "      <td>-0.258841</td>\n",
       "      <td>-1.099919</td>\n",
       "      <td>-0.461571</td>\n",
       "      <td>0</td>\n",
       "    </tr>\n",
       "    <tr>\n",
       "      <th>1</th>\n",
       "      <td>-1.626729</td>\n",
       "      <td>1.911247</td>\n",
       "      <td>-0.740748</td>\n",
       "      <td>0.691384</td>\n",
       "      <td>0.168331</td>\n",
       "      <td>1.522002</td>\n",
       "      <td>1.166420</td>\n",
       "      <td>0.157675</td>\n",
       "      <td>0.019744</td>\n",
       "      <td>-0.192345</td>\n",
       "      <td>...</td>\n",
       "      <td>-1.224350</td>\n",
       "      <td>0.710232</td>\n",
       "      <td>-1.272791</td>\n",
       "      <td>1.617586</td>\n",
       "      <td>1.392776</td>\n",
       "      <td>0.260283</td>\n",
       "      <td>0.708876</td>\n",
       "      <td>1.030413</td>\n",
       "      <td>0.400968</td>\n",
       "      <td>1</td>\n",
       "    </tr>\n",
       "    <tr>\n",
       "      <th>2</th>\n",
       "      <td>-0.039057</td>\n",
       "      <td>-1.012107</td>\n",
       "      <td>0.013895</td>\n",
       "      <td>-0.357397</td>\n",
       "      <td>1.168762</td>\n",
       "      <td>-0.232282</td>\n",
       "      <td>-0.443941</td>\n",
       "      <td>-0.136007</td>\n",
       "      <td>-0.412519</td>\n",
       "      <td>-0.042766</td>\n",
       "      <td>...</td>\n",
       "      <td>0.882515</td>\n",
       "      <td>1.044322</td>\n",
       "      <td>-1.204443</td>\n",
       "      <td>-0.593335</td>\n",
       "      <td>-1.011092</td>\n",
       "      <td>0.592500</td>\n",
       "      <td>0.135213</td>\n",
       "      <td>0.725303</td>\n",
       "      <td>-0.319881</td>\n",
       "      <td>0</td>\n",
       "    </tr>\n",
       "    <tr>\n",
       "      <th>3</th>\n",
       "      <td>-0.039057</td>\n",
       "      <td>1.632833</td>\n",
       "      <td>-0.514355</td>\n",
       "      <td>0.166993</td>\n",
       "      <td>1.477630</td>\n",
       "      <td>-0.544204</td>\n",
       "      <td>-0.572606</td>\n",
       "      <td>-0.586661</td>\n",
       "      <td>-0.338658</td>\n",
       "      <td>-0.449412</td>\n",
       "      <td>...</td>\n",
       "      <td>-0.921750</td>\n",
       "      <td>-1.095322</td>\n",
       "      <td>-0.031960</td>\n",
       "      <td>-0.068737</td>\n",
       "      <td>1.152465</td>\n",
       "      <td>-0.672518</td>\n",
       "      <td>0.391616</td>\n",
       "      <td>-1.301501</td>\n",
       "      <td>0.559262</td>\n",
       "      <td>0</td>\n",
       "    </tr>\n",
       "    <tr>\n",
       "      <th>4</th>\n",
       "      <td>0.596012</td>\n",
       "      <td>-0.176863</td>\n",
       "      <td>-1.042605</td>\n",
       "      <td>-0.432310</td>\n",
       "      <td>0.242158</td>\n",
       "      <td>-0.277263</td>\n",
       "      <td>-0.498198</td>\n",
       "      <td>-0.370020</td>\n",
       "      <td>-0.451106</td>\n",
       "      <td>-0.321570</td>\n",
       "      <td>...</td>\n",
       "      <td>-0.057582</td>\n",
       "      <td>0.541269</td>\n",
       "      <td>1.529879</td>\n",
       "      <td>-0.689578</td>\n",
       "      <td>1.475290</td>\n",
       "      <td>-1.268004</td>\n",
       "      <td>1.297212</td>\n",
       "      <td>1.327633</td>\n",
       "      <td>-0.059789</td>\n",
       "      <td>0</td>\n",
       "    </tr>\n",
       "  </tbody>\n",
       "</table>\n",
       "<p>5 rows × 49 columns</p>\n",
       "</div>"
      ],
      "text/plain": [
       "   all_times_nhist_numpeaks  all_times_nhist_peak1_bin  \\\n",
       "0                 -0.674126                   0.519174   \n",
       "1                 -1.626729                   1.911247   \n",
       "2                 -0.039057                  -1.012107   \n",
       "3                 -0.039057                   1.632833   \n",
       "4                  0.596012                  -0.176863   \n",
       "\n",
       "   all_times_nhist_peak2_bin  all_times_nhist_peak3_bin  \\\n",
       "0                   0.466681                   0.766297   \n",
       "1                  -0.740748                   0.691384   \n",
       "2                   0.013895                  -0.357397   \n",
       "3                  -0.514355                   0.166993   \n",
       "4                  -1.042605                  -0.432310   \n",
       "\n",
       "   all_times_nhist_peak4_bin  all_times_nhist_peak_1_to_2  \\\n",
       "0                   1.786498                    -0.304944   \n",
       "1                   0.168331                     1.522002   \n",
       "2                   1.168762                    -0.232282   \n",
       "3                   1.477630                    -0.544204   \n",
       "4                   0.242158                    -0.277263   \n",
       "\n",
       "   all_times_nhist_peak_1_to_3  all_times_nhist_peak_1_to_4  \\\n",
       "0                     0.843252                     0.189055   \n",
       "1                     1.166420                     0.157675   \n",
       "2                    -0.443941                    -0.136007   \n",
       "3                    -0.572606                    -0.586661   \n",
       "4                    -0.498198                    -0.370020   \n",
       "\n",
       "   all_times_nhist_peak_2_to_3  all_times_nhist_peak_2_to_4  ...  \\\n",
       "0                     1.390901                     0.462908  ...   \n",
       "1                     0.019744                    -0.192345  ...   \n",
       "2                    -0.412519                    -0.042766  ...   \n",
       "3                    -0.338658                    -0.449412  ...   \n",
       "4                    -0.451106                    -0.321570  ...   \n",
       "\n",
       "   freq1_rel_phase3  freq1_rel_phase4  freq2_rel_phase2  freq2_rel_phase3  \\\n",
       "0          0.908818          1.305379          1.413989          0.174334   \n",
       "1         -1.224350          0.710232         -1.272791          1.617586   \n",
       "2          0.882515          1.044322         -1.204443         -0.593335   \n",
       "3         -0.921750         -1.095322         -0.031960         -0.068737   \n",
       "4         -0.057582          0.541269          1.529879         -0.689578   \n",
       "\n",
       "   freq2_rel_phase4  freq3_rel_phase2  freq3_rel_phase3  freq3_rel_phase4  \\\n",
       "0         -0.188773          0.985693         -0.258841         -1.099919   \n",
       "1          1.392776          0.260283          0.708876          1.030413   \n",
       "2         -1.011092          0.592500          0.135213          0.725303   \n",
       "3          1.152465         -0.672518          0.391616         -1.301501   \n",
       "4          1.475290         -1.268004          1.297212          1.327633   \n",
       "\n",
       "   freq_model_phi1_phi2  Pulsating  \n",
       "0             -0.461571          0  \n",
       "1              0.400968          1  \n",
       "2             -0.319881          0  \n",
       "3              0.559262          0  \n",
       "4             -0.059789          0  \n",
       "\n",
       "[5 rows x 49 columns]"
      ]
     },
     "execution_count": 65,
     "metadata": {},
     "output_type": "execute_result"
    }
   ],
   "source": [
    "global train_set\n",
    "train_set = tr_load[rel_features + ['Pulsating']].copy()\n",
    "train_set.head()"
   ]
  },
  {
   "cell_type": "code",
   "execution_count": 66,
   "id": "72de3ff7",
   "metadata": {
    "ExecuteTime": {
     "end_time": "2023-03-02T12:38:50.639683Z",
     "start_time": "2023-03-02T12:38:50.619712Z"
    }
   },
   "outputs": [
    {
     "name": "stdout",
     "output_type": "stream",
     "text": [
      "Pulsating stars in training sample: 78\n"
     ]
    }
   ],
   "source": [
    "print(\"Pulsating stars in training sample: %d\" %len(train_set[train_set['Pulsating'] == 1]))"
   ]
  },
  {
   "cell_type": "code",
   "execution_count": 67,
   "id": "5b2d6542",
   "metadata": {
    "ExecuteTime": {
     "end_time": "2023-03-02T12:38:51.075001Z",
     "start_time": "2023-03-02T12:38:51.069017Z"
    }
   },
   "outputs": [
    {
     "name": "stdout",
     "output_type": "stream",
     "text": [
      "Non-pulsating stars in training sample: 672\n"
     ]
    }
   ],
   "source": [
    "print(\"Non-pulsating stars in training sample: %d\" %len(train_set[train_set['Pulsating'] == 0]))"
   ]
  },
  {
   "cell_type": "markdown",
   "id": "5dedafd9",
   "metadata": {},
   "source": [
    "### Load validation data"
   ]
  },
  {
   "cell_type": "code",
   "execution_count": 68,
   "id": "35bd0007",
   "metadata": {
    "ExecuteTime": {
     "end_time": "2023-03-02T12:38:52.177434Z",
     "start_time": "2023-03-02T12:38:52.171475Z"
    }
   },
   "outputs": [
    {
     "data": {
      "text/plain": [
       "'../data/DATASETS_ML/S4_02_DS_AfterImputing_Validation.csv'"
      ]
     },
     "execution_count": 68,
     "metadata": {},
     "output_type": "execute_result"
    }
   ],
   "source": [
    "S4_VALIDATION_SET_IN"
   ]
  },
  {
   "cell_type": "code",
   "execution_count": 69,
   "id": "8d319e6e",
   "metadata": {
    "ExecuteTime": {
     "end_time": "2023-03-02T12:38:52.737041Z",
     "start_time": "2023-03-02T12:38:52.699143Z"
    }
   },
   "outputs": [
    {
     "data": {
      "text/html": [
       "<div>\n",
       "<style scoped>\n",
       "    .dataframe tbody tr th:only-of-type {\n",
       "        vertical-align: middle;\n",
       "    }\n",
       "\n",
       "    .dataframe tbody tr th {\n",
       "        vertical-align: top;\n",
       "    }\n",
       "\n",
       "    .dataframe thead th {\n",
       "        text-align: right;\n",
       "    }\n",
       "</style>\n",
       "<table border=\"1\" class=\"dataframe\">\n",
       "  <thead>\n",
       "    <tr style=\"text-align: right;\">\n",
       "      <th></th>\n",
       "      <th>ID</th>\n",
       "      <th>Pulsating</th>\n",
       "      <th>frequency</th>\n",
       "      <th>amplitudeRV</th>\n",
       "      <th>offsetRV</th>\n",
       "      <th>refepochRV</th>\n",
       "      <th>phase</th>\n",
       "      <th>all_times_nhist_numpeaks</th>\n",
       "      <th>all_times_nhist_peak1_bin</th>\n",
       "      <th>all_times_nhist_peak2_bin</th>\n",
       "      <th>...</th>\n",
       "      <th>freq_signif_ratio_31</th>\n",
       "      <th>freq_varrat</th>\n",
       "      <th>freq_y_offset</th>\n",
       "      <th>linear_trend</th>\n",
       "      <th>medperc90_2p_p</th>\n",
       "      <th>p2p_scatter_2praw</th>\n",
       "      <th>p2p_scatter_over_mad</th>\n",
       "      <th>p2p_scatter_pfold_over_mad</th>\n",
       "      <th>p2p_ssqr_diff_over_var</th>\n",
       "      <th>scatter_res_raw</th>\n",
       "    </tr>\n",
       "  </thead>\n",
       "  <tbody>\n",
       "    <tr>\n",
       "      <th>0</th>\n",
       "      <td>Star-00107</td>\n",
       "      <td>False</td>\n",
       "      <td>0.0</td>\n",
       "      <td>0.0</td>\n",
       "      <td>0.0</td>\n",
       "      <td>2.457430e+06</td>\n",
       "      <td>0.0</td>\n",
       "      <td>-0.991660</td>\n",
       "      <td>0.031948</td>\n",
       "      <td>0.542146</td>\n",
       "      <td>...</td>\n",
       "      <td>0.215296</td>\n",
       "      <td>-1.171010</td>\n",
       "      <td>-1.399418</td>\n",
       "      <td>0.202986</td>\n",
       "      <td>-0.550638</td>\n",
       "      <td>0.473838</td>\n",
       "      <td>-0.300629</td>\n",
       "      <td>-0.565171</td>\n",
       "      <td>-0.717831</td>\n",
       "      <td>-0.998997</td>\n",
       "    </tr>\n",
       "    <tr>\n",
       "      <th>1</th>\n",
       "      <td>Star-00868</td>\n",
       "      <td>False</td>\n",
       "      <td>0.0</td>\n",
       "      <td>0.0</td>\n",
       "      <td>0.0</td>\n",
       "      <td>2.457432e+06</td>\n",
       "      <td>0.0</td>\n",
       "      <td>-1.309194</td>\n",
       "      <td>-1.081711</td>\n",
       "      <td>1.825039</td>\n",
       "      <td>...</td>\n",
       "      <td>0.859339</td>\n",
       "      <td>-1.201677</td>\n",
       "      <td>-0.242453</td>\n",
       "      <td>-0.032886</td>\n",
       "      <td>-0.381893</td>\n",
       "      <td>4.479455</td>\n",
       "      <td>0.554354</td>\n",
       "      <td>0.946671</td>\n",
       "      <td>-2.945576</td>\n",
       "      <td>-0.390979</td>\n",
       "    </tr>\n",
       "    <tr>\n",
       "      <th>2</th>\n",
       "      <td>Star-00106</td>\n",
       "      <td>False</td>\n",
       "      <td>0.0</td>\n",
       "      <td>0.0</td>\n",
       "      <td>0.0</td>\n",
       "      <td>2.457404e+06</td>\n",
       "      <td>0.0</td>\n",
       "      <td>-0.356591</td>\n",
       "      <td>0.379966</td>\n",
       "      <td>0.844003</td>\n",
       "      <td>...</td>\n",
       "      <td>-0.619653</td>\n",
       "      <td>1.401153</td>\n",
       "      <td>0.280531</td>\n",
       "      <td>0.057394</td>\n",
       "      <td>-0.394560</td>\n",
       "      <td>0.012444</td>\n",
       "      <td>-0.506509</td>\n",
       "      <td>-0.073337</td>\n",
       "      <td>-0.019620</td>\n",
       "      <td>0.850942</td>\n",
       "    </tr>\n",
       "    <tr>\n",
       "      <th>3</th>\n",
       "      <td>Star-00120</td>\n",
       "      <td>False</td>\n",
       "      <td>0.0</td>\n",
       "      <td>0.0</td>\n",
       "      <td>0.0</td>\n",
       "      <td>2.457395e+06</td>\n",
       "      <td>0.0</td>\n",
       "      <td>-0.039057</td>\n",
       "      <td>0.519174</td>\n",
       "      <td>0.994931</td>\n",
       "      <td>...</td>\n",
       "      <td>-0.544944</td>\n",
       "      <td>-0.806949</td>\n",
       "      <td>-0.860069</td>\n",
       "      <td>0.186396</td>\n",
       "      <td>0.224160</td>\n",
       "      <td>-0.895172</td>\n",
       "      <td>-0.068329</td>\n",
       "      <td>-0.094626</td>\n",
       "      <td>0.283729</td>\n",
       "      <td>-1.018961</td>\n",
       "    </tr>\n",
       "    <tr>\n",
       "      <th>4</th>\n",
       "      <td>Star-00559</td>\n",
       "      <td>False</td>\n",
       "      <td>0.0</td>\n",
       "      <td>0.0</td>\n",
       "      <td>0.0</td>\n",
       "      <td>2.457441e+06</td>\n",
       "      <td>0.0</td>\n",
       "      <td>0.596012</td>\n",
       "      <td>-0.664089</td>\n",
       "      <td>-0.212498</td>\n",
       "      <td>...</td>\n",
       "      <td>0.600208</td>\n",
       "      <td>0.897864</td>\n",
       "      <td>0.219432</td>\n",
       "      <td>0.051864</td>\n",
       "      <td>-0.446379</td>\n",
       "      <td>-0.502312</td>\n",
       "      <td>-0.305140</td>\n",
       "      <td>-0.144503</td>\n",
       "      <td>0.889861</td>\n",
       "      <td>0.402366</td>\n",
       "    </tr>\n",
       "  </tbody>\n",
       "</table>\n",
       "<p>5 rows × 119 columns</p>\n",
       "</div>"
      ],
      "text/plain": [
       "           ID  Pulsating  frequency  amplitudeRV  offsetRV    refepochRV  \\\n",
       "0  Star-00107      False        0.0          0.0       0.0  2.457430e+06   \n",
       "1  Star-00868      False        0.0          0.0       0.0  2.457432e+06   \n",
       "2  Star-00106      False        0.0          0.0       0.0  2.457404e+06   \n",
       "3  Star-00120      False        0.0          0.0       0.0  2.457395e+06   \n",
       "4  Star-00559      False        0.0          0.0       0.0  2.457441e+06   \n",
       "\n",
       "   phase  all_times_nhist_numpeaks  all_times_nhist_peak1_bin  \\\n",
       "0    0.0                 -0.991660                   0.031948   \n",
       "1    0.0                 -1.309194                  -1.081711   \n",
       "2    0.0                 -0.356591                   0.379966   \n",
       "3    0.0                 -0.039057                   0.519174   \n",
       "4    0.0                  0.596012                  -0.664089   \n",
       "\n",
       "   all_times_nhist_peak2_bin  ...  freq_signif_ratio_31  freq_varrat  \\\n",
       "0                   0.542146  ...              0.215296    -1.171010   \n",
       "1                   1.825039  ...              0.859339    -1.201677   \n",
       "2                   0.844003  ...             -0.619653     1.401153   \n",
       "3                   0.994931  ...             -0.544944    -0.806949   \n",
       "4                  -0.212498  ...              0.600208     0.897864   \n",
       "\n",
       "   freq_y_offset  linear_trend  medperc90_2p_p  p2p_scatter_2praw  \\\n",
       "0      -1.399418      0.202986       -0.550638           0.473838   \n",
       "1      -0.242453     -0.032886       -0.381893           4.479455   \n",
       "2       0.280531      0.057394       -0.394560           0.012444   \n",
       "3      -0.860069      0.186396        0.224160          -0.895172   \n",
       "4       0.219432      0.051864       -0.446379          -0.502312   \n",
       "\n",
       "   p2p_scatter_over_mad  p2p_scatter_pfold_over_mad  p2p_ssqr_diff_over_var  \\\n",
       "0             -0.300629                   -0.565171               -0.717831   \n",
       "1              0.554354                    0.946671               -2.945576   \n",
       "2             -0.506509                   -0.073337               -0.019620   \n",
       "3             -0.068329                   -0.094626                0.283729   \n",
       "4             -0.305140                   -0.144503                0.889861   \n",
       "\n",
       "   scatter_res_raw  \n",
       "0        -0.998997  \n",
       "1        -0.390979  \n",
       "2         0.850942  \n",
       "3        -1.018961  \n",
       "4         0.402366  \n",
       "\n",
       "[5 rows x 119 columns]"
      ]
     },
     "execution_count": 69,
     "metadata": {},
     "output_type": "execute_result"
    }
   ],
   "source": [
    "val_load = pd.read_csv(S4_VALIDATION_SET_IN, sep=',', decimal='.')\n",
    "val_load.head()"
   ]
  },
  {
   "cell_type": "markdown",
   "id": "3952d142",
   "metadata": {},
   "source": [
    "#### Transform validation data"
   ]
  },
  {
   "cell_type": "markdown",
   "id": "84abd0ff",
   "metadata": {},
   "source": [
    "Map the `Pulsating` column to `0` / `1`."
   ]
  },
  {
   "cell_type": "code",
   "execution_count": 70,
   "id": "c489bec7",
   "metadata": {
    "ExecuteTime": {
     "end_time": "2023-03-02T12:38:54.011254Z",
     "start_time": "2023-03-02T12:38:53.987291Z"
    }
   },
   "outputs": [
    {
     "data": {
      "text/html": [
       "<div>\n",
       "<style scoped>\n",
       "    .dataframe tbody tr th:only-of-type {\n",
       "        vertical-align: middle;\n",
       "    }\n",
       "\n",
       "    .dataframe tbody tr th {\n",
       "        vertical-align: top;\n",
       "    }\n",
       "\n",
       "    .dataframe thead th {\n",
       "        text-align: right;\n",
       "    }\n",
       "</style>\n",
       "<table border=\"1\" class=\"dataframe\">\n",
       "  <thead>\n",
       "    <tr style=\"text-align: right;\">\n",
       "      <th></th>\n",
       "      <th>ID</th>\n",
       "      <th>Pulsating</th>\n",
       "      <th>frequency</th>\n",
       "      <th>amplitudeRV</th>\n",
       "      <th>offsetRV</th>\n",
       "      <th>refepochRV</th>\n",
       "      <th>phase</th>\n",
       "      <th>all_times_nhist_numpeaks</th>\n",
       "      <th>all_times_nhist_peak1_bin</th>\n",
       "      <th>all_times_nhist_peak2_bin</th>\n",
       "      <th>...</th>\n",
       "      <th>freq_signif_ratio_31</th>\n",
       "      <th>freq_varrat</th>\n",
       "      <th>freq_y_offset</th>\n",
       "      <th>linear_trend</th>\n",
       "      <th>medperc90_2p_p</th>\n",
       "      <th>p2p_scatter_2praw</th>\n",
       "      <th>p2p_scatter_over_mad</th>\n",
       "      <th>p2p_scatter_pfold_over_mad</th>\n",
       "      <th>p2p_ssqr_diff_over_var</th>\n",
       "      <th>scatter_res_raw</th>\n",
       "    </tr>\n",
       "  </thead>\n",
       "  <tbody>\n",
       "    <tr>\n",
       "      <th>0</th>\n",
       "      <td>Star-00107</td>\n",
       "      <td>0</td>\n",
       "      <td>0.0</td>\n",
       "      <td>0.0</td>\n",
       "      <td>0.0</td>\n",
       "      <td>2.457430e+06</td>\n",
       "      <td>0.0</td>\n",
       "      <td>-0.991660</td>\n",
       "      <td>0.031948</td>\n",
       "      <td>0.542146</td>\n",
       "      <td>...</td>\n",
       "      <td>0.215296</td>\n",
       "      <td>-1.171010</td>\n",
       "      <td>-1.399418</td>\n",
       "      <td>0.202986</td>\n",
       "      <td>-0.550638</td>\n",
       "      <td>0.473838</td>\n",
       "      <td>-0.300629</td>\n",
       "      <td>-0.565171</td>\n",
       "      <td>-0.717831</td>\n",
       "      <td>-0.998997</td>\n",
       "    </tr>\n",
       "    <tr>\n",
       "      <th>1</th>\n",
       "      <td>Star-00868</td>\n",
       "      <td>0</td>\n",
       "      <td>0.0</td>\n",
       "      <td>0.0</td>\n",
       "      <td>0.0</td>\n",
       "      <td>2.457432e+06</td>\n",
       "      <td>0.0</td>\n",
       "      <td>-1.309194</td>\n",
       "      <td>-1.081711</td>\n",
       "      <td>1.825039</td>\n",
       "      <td>...</td>\n",
       "      <td>0.859339</td>\n",
       "      <td>-1.201677</td>\n",
       "      <td>-0.242453</td>\n",
       "      <td>-0.032886</td>\n",
       "      <td>-0.381893</td>\n",
       "      <td>4.479455</td>\n",
       "      <td>0.554354</td>\n",
       "      <td>0.946671</td>\n",
       "      <td>-2.945576</td>\n",
       "      <td>-0.390979</td>\n",
       "    </tr>\n",
       "    <tr>\n",
       "      <th>2</th>\n",
       "      <td>Star-00106</td>\n",
       "      <td>0</td>\n",
       "      <td>0.0</td>\n",
       "      <td>0.0</td>\n",
       "      <td>0.0</td>\n",
       "      <td>2.457404e+06</td>\n",
       "      <td>0.0</td>\n",
       "      <td>-0.356591</td>\n",
       "      <td>0.379966</td>\n",
       "      <td>0.844003</td>\n",
       "      <td>...</td>\n",
       "      <td>-0.619653</td>\n",
       "      <td>1.401153</td>\n",
       "      <td>0.280531</td>\n",
       "      <td>0.057394</td>\n",
       "      <td>-0.394560</td>\n",
       "      <td>0.012444</td>\n",
       "      <td>-0.506509</td>\n",
       "      <td>-0.073337</td>\n",
       "      <td>-0.019620</td>\n",
       "      <td>0.850942</td>\n",
       "    </tr>\n",
       "    <tr>\n",
       "      <th>3</th>\n",
       "      <td>Star-00120</td>\n",
       "      <td>0</td>\n",
       "      <td>0.0</td>\n",
       "      <td>0.0</td>\n",
       "      <td>0.0</td>\n",
       "      <td>2.457395e+06</td>\n",
       "      <td>0.0</td>\n",
       "      <td>-0.039057</td>\n",
       "      <td>0.519174</td>\n",
       "      <td>0.994931</td>\n",
       "      <td>...</td>\n",
       "      <td>-0.544944</td>\n",
       "      <td>-0.806949</td>\n",
       "      <td>-0.860069</td>\n",
       "      <td>0.186396</td>\n",
       "      <td>0.224160</td>\n",
       "      <td>-0.895172</td>\n",
       "      <td>-0.068329</td>\n",
       "      <td>-0.094626</td>\n",
       "      <td>0.283729</td>\n",
       "      <td>-1.018961</td>\n",
       "    </tr>\n",
       "    <tr>\n",
       "      <th>4</th>\n",
       "      <td>Star-00559</td>\n",
       "      <td>0</td>\n",
       "      <td>0.0</td>\n",
       "      <td>0.0</td>\n",
       "      <td>0.0</td>\n",
       "      <td>2.457441e+06</td>\n",
       "      <td>0.0</td>\n",
       "      <td>0.596012</td>\n",
       "      <td>-0.664089</td>\n",
       "      <td>-0.212498</td>\n",
       "      <td>...</td>\n",
       "      <td>0.600208</td>\n",
       "      <td>0.897864</td>\n",
       "      <td>0.219432</td>\n",
       "      <td>0.051864</td>\n",
       "      <td>-0.446379</td>\n",
       "      <td>-0.502312</td>\n",
       "      <td>-0.305140</td>\n",
       "      <td>-0.144503</td>\n",
       "      <td>0.889861</td>\n",
       "      <td>0.402366</td>\n",
       "    </tr>\n",
       "  </tbody>\n",
       "</table>\n",
       "<p>5 rows × 119 columns</p>\n",
       "</div>"
      ],
      "text/plain": [
       "           ID  Pulsating  frequency  amplitudeRV  offsetRV    refepochRV  \\\n",
       "0  Star-00107          0        0.0          0.0       0.0  2.457430e+06   \n",
       "1  Star-00868          0        0.0          0.0       0.0  2.457432e+06   \n",
       "2  Star-00106          0        0.0          0.0       0.0  2.457404e+06   \n",
       "3  Star-00120          0        0.0          0.0       0.0  2.457395e+06   \n",
       "4  Star-00559          0        0.0          0.0       0.0  2.457441e+06   \n",
       "\n",
       "   phase  all_times_nhist_numpeaks  all_times_nhist_peak1_bin  \\\n",
       "0    0.0                 -0.991660                   0.031948   \n",
       "1    0.0                 -1.309194                  -1.081711   \n",
       "2    0.0                 -0.356591                   0.379966   \n",
       "3    0.0                 -0.039057                   0.519174   \n",
       "4    0.0                  0.596012                  -0.664089   \n",
       "\n",
       "   all_times_nhist_peak2_bin  ...  freq_signif_ratio_31  freq_varrat  \\\n",
       "0                   0.542146  ...              0.215296    -1.171010   \n",
       "1                   1.825039  ...              0.859339    -1.201677   \n",
       "2                   0.844003  ...             -0.619653     1.401153   \n",
       "3                   0.994931  ...             -0.544944    -0.806949   \n",
       "4                  -0.212498  ...              0.600208     0.897864   \n",
       "\n",
       "   freq_y_offset  linear_trend  medperc90_2p_p  p2p_scatter_2praw  \\\n",
       "0      -1.399418      0.202986       -0.550638           0.473838   \n",
       "1      -0.242453     -0.032886       -0.381893           4.479455   \n",
       "2       0.280531      0.057394       -0.394560           0.012444   \n",
       "3      -0.860069      0.186396        0.224160          -0.895172   \n",
       "4       0.219432      0.051864       -0.446379          -0.502312   \n",
       "\n",
       "   p2p_scatter_over_mad  p2p_scatter_pfold_over_mad  p2p_ssqr_diff_over_var  \\\n",
       "0             -0.300629                   -0.565171               -0.717831   \n",
       "1              0.554354                    0.946671               -2.945576   \n",
       "2             -0.506509                   -0.073337               -0.019620   \n",
       "3             -0.068329                   -0.094626                0.283729   \n",
       "4             -0.305140                   -0.144503                0.889861   \n",
       "\n",
       "   scatter_res_raw  \n",
       "0        -0.998997  \n",
       "1        -0.390979  \n",
       "2         0.850942  \n",
       "3        -1.018961  \n",
       "4         0.402366  \n",
       "\n",
       "[5 rows x 119 columns]"
      ]
     },
     "execution_count": 70,
     "metadata": {},
     "output_type": "execute_result"
    }
   ],
   "source": [
    "val_load['Pulsating'] = val_load['Pulsating'].map(lambda x: 1 if x == True else 0)\n",
    "val_load.head()"
   ]
  },
  {
   "cell_type": "markdown",
   "id": "22eee7f8",
   "metadata": {},
   "source": [
    "Select only the reliable features and target."
   ]
  },
  {
   "cell_type": "code",
   "execution_count": 71,
   "id": "8edefc5f",
   "metadata": {
    "ExecuteTime": {
     "end_time": "2023-03-02T12:38:55.127494Z",
     "start_time": "2023-03-02T12:38:55.099569Z"
    }
   },
   "outputs": [
    {
     "data": {
      "text/html": [
       "<div>\n",
       "<style scoped>\n",
       "    .dataframe tbody tr th:only-of-type {\n",
       "        vertical-align: middle;\n",
       "    }\n",
       "\n",
       "    .dataframe tbody tr th {\n",
       "        vertical-align: top;\n",
       "    }\n",
       "\n",
       "    .dataframe thead th {\n",
       "        text-align: right;\n",
       "    }\n",
       "</style>\n",
       "<table border=\"1\" class=\"dataframe\">\n",
       "  <thead>\n",
       "    <tr style=\"text-align: right;\">\n",
       "      <th></th>\n",
       "      <th>all_times_nhist_numpeaks</th>\n",
       "      <th>all_times_nhist_peak1_bin</th>\n",
       "      <th>all_times_nhist_peak2_bin</th>\n",
       "      <th>all_times_nhist_peak3_bin</th>\n",
       "      <th>all_times_nhist_peak4_bin</th>\n",
       "      <th>all_times_nhist_peak_1_to_2</th>\n",
       "      <th>all_times_nhist_peak_1_to_3</th>\n",
       "      <th>all_times_nhist_peak_1_to_4</th>\n",
       "      <th>all_times_nhist_peak_2_to_3</th>\n",
       "      <th>all_times_nhist_peak_2_to_4</th>\n",
       "      <th>...</th>\n",
       "      <th>freq1_rel_phase3</th>\n",
       "      <th>freq1_rel_phase4</th>\n",
       "      <th>freq2_rel_phase2</th>\n",
       "      <th>freq2_rel_phase3</th>\n",
       "      <th>freq2_rel_phase4</th>\n",
       "      <th>freq3_rel_phase2</th>\n",
       "      <th>freq3_rel_phase3</th>\n",
       "      <th>freq3_rel_phase4</th>\n",
       "      <th>freq_model_phi1_phi2</th>\n",
       "      <th>Pulsating</th>\n",
       "    </tr>\n",
       "  </thead>\n",
       "  <tbody>\n",
       "    <tr>\n",
       "      <th>0</th>\n",
       "      <td>-0.991660</td>\n",
       "      <td>0.031948</td>\n",
       "      <td>0.542146</td>\n",
       "      <td>1.740165</td>\n",
       "      <td>-0.298361</td>\n",
       "      <td>2.924506</td>\n",
       "      <td>1.112558</td>\n",
       "      <td>1.223343</td>\n",
       "      <td>-0.528719</td>\n",
       "      <td>-0.333528</td>\n",
       "      <td>...</td>\n",
       "      <td>-1.553810</td>\n",
       "      <td>-0.039531</td>\n",
       "      <td>-1.766924</td>\n",
       "      <td>0.105349</td>\n",
       "      <td>-0.914928</td>\n",
       "      <td>1.624409</td>\n",
       "      <td>1.041240</td>\n",
       "      <td>-1.287022</td>\n",
       "      <td>0.212829</td>\n",
       "      <td>0</td>\n",
       "    </tr>\n",
       "    <tr>\n",
       "      <th>1</th>\n",
       "      <td>-1.309194</td>\n",
       "      <td>-1.081711</td>\n",
       "      <td>1.825039</td>\n",
       "      <td>1.815078</td>\n",
       "      <td>-1.611050</td>\n",
       "      <td>-0.692478</td>\n",
       "      <td>0.439292</td>\n",
       "      <td>1.223343</td>\n",
       "      <td>1.528017</td>\n",
       "      <td>2.763725</td>\n",
       "      <td>...</td>\n",
       "      <td>-0.257974</td>\n",
       "      <td>-0.443062</td>\n",
       "      <td>0.117884</td>\n",
       "      <td>0.110252</td>\n",
       "      <td>-1.094708</td>\n",
       "      <td>-0.142404</td>\n",
       "      <td>0.174193</td>\n",
       "      <td>1.058664</td>\n",
       "      <td>-1.753975</td>\n",
       "      <td>0</td>\n",
       "    </tr>\n",
       "    <tr>\n",
       "      <th>2</th>\n",
       "      <td>-0.356591</td>\n",
       "      <td>0.379966</td>\n",
       "      <td>0.844003</td>\n",
       "      <td>0.166993</td>\n",
       "      <td>-1.147748</td>\n",
       "      <td>-0.480752</td>\n",
       "      <td>-0.473181</td>\n",
       "      <td>0.125210</td>\n",
       "      <td>-0.246422</td>\n",
       "      <td>0.578714</td>\n",
       "      <td>...</td>\n",
       "      <td>-0.244072</td>\n",
       "      <td>-1.117475</td>\n",
       "      <td>1.393767</td>\n",
       "      <td>-0.017646</td>\n",
       "      <td>-0.236540</td>\n",
       "      <td>0.981973</td>\n",
       "      <td>0.721607</td>\n",
       "      <td>-0.990852</td>\n",
       "      <td>-0.054942</td>\n",
       "      <td>0</td>\n",
       "    </tr>\n",
       "    <tr>\n",
       "      <th>3</th>\n",
       "      <td>-0.039057</td>\n",
       "      <td>0.519174</td>\n",
       "      <td>0.994931</td>\n",
       "      <td>1.065949</td>\n",
       "      <td>-1.379399</td>\n",
       "      <td>-0.348004</td>\n",
       "      <td>-0.310918</td>\n",
       "      <td>-0.224660</td>\n",
       "      <td>-0.136960</td>\n",
       "      <td>-0.068049</td>\n",
       "      <td>...</td>\n",
       "      <td>0.049026</td>\n",
       "      <td>1.533790</td>\n",
       "      <td>-0.885426</td>\n",
       "      <td>1.057050</td>\n",
       "      <td>0.254424</td>\n",
       "      <td>0.604281</td>\n",
       "      <td>-1.070993</td>\n",
       "      <td>-0.705840</td>\n",
       "      <td>-2.196394</td>\n",
       "      <td>0</td>\n",
       "    </tr>\n",
       "    <tr>\n",
       "      <th>4</th>\n",
       "      <td>0.596012</td>\n",
       "      <td>-0.664089</td>\n",
       "      <td>-0.212498</td>\n",
       "      <td>0.391732</td>\n",
       "      <td>0.087724</td>\n",
       "      <td>1.196750</td>\n",
       "      <td>2.120285</td>\n",
       "      <td>1.085438</td>\n",
       "      <td>0.930900</td>\n",
       "      <td>0.226927</td>\n",
       "      <td>...</td>\n",
       "      <td>-0.834589</td>\n",
       "      <td>0.906258</td>\n",
       "      <td>1.467923</td>\n",
       "      <td>0.111756</td>\n",
       "      <td>-0.662832</td>\n",
       "      <td>-0.936044</td>\n",
       "      <td>0.525532</td>\n",
       "      <td>-1.277372</td>\n",
       "      <td>-0.605419</td>\n",
       "      <td>0</td>\n",
       "    </tr>\n",
       "  </tbody>\n",
       "</table>\n",
       "<p>5 rows × 49 columns</p>\n",
       "</div>"
      ],
      "text/plain": [
       "   all_times_nhist_numpeaks  all_times_nhist_peak1_bin  \\\n",
       "0                 -0.991660                   0.031948   \n",
       "1                 -1.309194                  -1.081711   \n",
       "2                 -0.356591                   0.379966   \n",
       "3                 -0.039057                   0.519174   \n",
       "4                  0.596012                  -0.664089   \n",
       "\n",
       "   all_times_nhist_peak2_bin  all_times_nhist_peak3_bin  \\\n",
       "0                   0.542146                   1.740165   \n",
       "1                   1.825039                   1.815078   \n",
       "2                   0.844003                   0.166993   \n",
       "3                   0.994931                   1.065949   \n",
       "4                  -0.212498                   0.391732   \n",
       "\n",
       "   all_times_nhist_peak4_bin  all_times_nhist_peak_1_to_2  \\\n",
       "0                  -0.298361                     2.924506   \n",
       "1                  -1.611050                    -0.692478   \n",
       "2                  -1.147748                    -0.480752   \n",
       "3                  -1.379399                    -0.348004   \n",
       "4                   0.087724                     1.196750   \n",
       "\n",
       "   all_times_nhist_peak_1_to_3  all_times_nhist_peak_1_to_4  \\\n",
       "0                     1.112558                     1.223343   \n",
       "1                     0.439292                     1.223343   \n",
       "2                    -0.473181                     0.125210   \n",
       "3                    -0.310918                    -0.224660   \n",
       "4                     2.120285                     1.085438   \n",
       "\n",
       "   all_times_nhist_peak_2_to_3  all_times_nhist_peak_2_to_4  ...  \\\n",
       "0                    -0.528719                    -0.333528  ...   \n",
       "1                     1.528017                     2.763725  ...   \n",
       "2                    -0.246422                     0.578714  ...   \n",
       "3                    -0.136960                    -0.068049  ...   \n",
       "4                     0.930900                     0.226927  ...   \n",
       "\n",
       "   freq1_rel_phase3  freq1_rel_phase4  freq2_rel_phase2  freq2_rel_phase3  \\\n",
       "0         -1.553810         -0.039531         -1.766924          0.105349   \n",
       "1         -0.257974         -0.443062          0.117884          0.110252   \n",
       "2         -0.244072         -1.117475          1.393767         -0.017646   \n",
       "3          0.049026          1.533790         -0.885426          1.057050   \n",
       "4         -0.834589          0.906258          1.467923          0.111756   \n",
       "\n",
       "   freq2_rel_phase4  freq3_rel_phase2  freq3_rel_phase3  freq3_rel_phase4  \\\n",
       "0         -0.914928          1.624409          1.041240         -1.287022   \n",
       "1         -1.094708         -0.142404          0.174193          1.058664   \n",
       "2         -0.236540          0.981973          0.721607         -0.990852   \n",
       "3          0.254424          0.604281         -1.070993         -0.705840   \n",
       "4         -0.662832         -0.936044          0.525532         -1.277372   \n",
       "\n",
       "   freq_model_phi1_phi2  Pulsating  \n",
       "0              0.212829          0  \n",
       "1             -1.753975          0  \n",
       "2             -0.054942          0  \n",
       "3             -2.196394          0  \n",
       "4             -0.605419          0  \n",
       "\n",
       "[5 rows x 49 columns]"
      ]
     },
     "execution_count": 71,
     "metadata": {},
     "output_type": "execute_result"
    }
   ],
   "source": [
    "val = val_load[rel_features + ['Pulsating']].copy()\n",
    "val.head()"
   ]
  },
  {
   "cell_type": "code",
   "execution_count": 72,
   "id": "2bdef90c",
   "metadata": {
    "ExecuteTime": {
     "end_time": "2023-03-02T12:38:55.701973Z",
     "start_time": "2023-03-02T12:38:55.683056Z"
    }
   },
   "outputs": [
    {
     "name": "stdout",
     "output_type": "stream",
     "text": [
      "Pulsating stars in validation sample: 26\n"
     ]
    }
   ],
   "source": [
    "print(\"Pulsating stars in validation sample: %d\" %len(val[val['Pulsating'] == 1]))"
   ]
  },
  {
   "cell_type": "code",
   "execution_count": 73,
   "id": "6a4f955a",
   "metadata": {
    "ExecuteTime": {
     "end_time": "2023-03-02T12:38:56.246753Z",
     "start_time": "2023-03-02T12:38:56.242764Z"
    }
   },
   "outputs": [
    {
     "name": "stdout",
     "output_type": "stream",
     "text": [
      "Non-pulsating stars in validation sample: 224\n"
     ]
    }
   ],
   "source": [
    "print(\"Non-pulsating stars in validation sample: %d\" %len(val[val['Pulsating'] == 0]))"
   ]
  },
  {
   "cell_type": "raw",
   "id": "f2e253c1",
   "metadata": {},
   "source": [
    "### Define train and validation samples and targets"
   ]
  },
  {
   "cell_type": "raw",
   "id": "d48b4dc5",
   "metadata": {},
   "source": [
    "**Note:** notice the use of global variables here."
   ]
  },
  {
   "cell_type": "raw",
   "id": "3558c5a9",
   "metadata": {
    "ExecuteTime": {
     "end_time": "2023-02-27T10:19:04.366587Z",
     "start_time": "2023-02-27T10:19:04.360580Z"
    }
   },
   "source": [
    "global X_train, y_train, X_val, y_val"
   ]
  },
  {
   "cell_type": "raw",
   "id": "2ddf4a62",
   "metadata": {
    "ExecuteTime": {
     "end_time": "2023-02-27T10:19:04.709190Z",
     "start_time": "2023-02-27T10:19:04.696225Z"
    }
   },
   "source": [
    "X_train = tr[rel_features].copy()\n",
    "y_train = tr['Pulsating'].copy()"
   ]
  },
  {
   "cell_type": "raw",
   "id": "994cafdb",
   "metadata": {
    "ExecuteTime": {
     "end_time": "2023-02-27T10:19:05.083074Z",
     "start_time": "2023-02-27T10:19:05.065122Z"
    }
   },
   "source": [
    "X_val = val[rel_features].copy()\n",
    "y_val = val['Pulsating'].copy()"
   ]
  },
  {
   "cell_type": "markdown",
   "id": "7ccf650a",
   "metadata": {},
   "source": [
    "### Load CARMENES data"
   ]
  },
  {
   "cell_type": "code",
   "execution_count": 74,
   "id": "4a7030c8",
   "metadata": {
    "ExecuteTime": {
     "end_time": "2023-03-02T12:39:00.335238Z",
     "start_time": "2023-03-02T12:39:00.331248Z"
    }
   },
   "outputs": [
    {
     "data": {
      "text/plain": [
       "'../data/DATASETS_ML/ML_02_DS_AfterImputing.csv'"
      ]
     },
     "execution_count": 74,
     "metadata": {},
     "output_type": "execute_result"
    }
   ],
   "source": [
    "CARMENES_SET_IN"
   ]
  },
  {
   "cell_type": "code",
   "execution_count": 75,
   "id": "11f9073a",
   "metadata": {
    "ExecuteTime": {
     "end_time": "2023-03-02T12:39:00.713197Z",
     "start_time": "2023-03-02T12:39:00.675299Z"
    }
   },
   "outputs": [
    {
     "data": {
      "text/html": [
       "<div>\n",
       "<style scoped>\n",
       "    .dataframe tbody tr th:only-of-type {\n",
       "        vertical-align: middle;\n",
       "    }\n",
       "\n",
       "    .dataframe tbody tr th {\n",
       "        vertical-align: top;\n",
       "    }\n",
       "\n",
       "    .dataframe thead th {\n",
       "        text-align: right;\n",
       "    }\n",
       "</style>\n",
       "<table border=\"1\" class=\"dataframe\">\n",
       "  <thead>\n",
       "    <tr style=\"text-align: right;\">\n",
       "      <th></th>\n",
       "      <th>Karmn</th>\n",
       "      <th>all_times_nhist_numpeaks</th>\n",
       "      <th>all_times_nhist_peak1_bin</th>\n",
       "      <th>all_times_nhist_peak2_bin</th>\n",
       "      <th>all_times_nhist_peak3_bin</th>\n",
       "      <th>all_times_nhist_peak4_bin</th>\n",
       "      <th>all_times_nhist_peak_1_to_2</th>\n",
       "      <th>all_times_nhist_peak_1_to_3</th>\n",
       "      <th>all_times_nhist_peak_1_to_4</th>\n",
       "      <th>all_times_nhist_peak_2_to_3</th>\n",
       "      <th>...</th>\n",
       "      <th>freq_signif_ratio_31</th>\n",
       "      <th>freq_varrat</th>\n",
       "      <th>freq_y_offset</th>\n",
       "      <th>linear_trend</th>\n",
       "      <th>medperc90_2p_p</th>\n",
       "      <th>p2p_scatter_2praw</th>\n",
       "      <th>p2p_scatter_over_mad</th>\n",
       "      <th>p2p_scatter_pfold_over_mad</th>\n",
       "      <th>p2p_ssqr_diff_over_var</th>\n",
       "      <th>scatter_res_raw</th>\n",
       "    </tr>\n",
       "  </thead>\n",
       "  <tbody>\n",
       "    <tr>\n",
       "      <th>0</th>\n",
       "      <td>J23505-095</td>\n",
       "      <td>0.278478</td>\n",
       "      <td>-0.594485</td>\n",
       "      <td>0.013895</td>\n",
       "      <td>-0.956701</td>\n",
       "      <td>0.396592</td>\n",
       "      <td>-0.582246</td>\n",
       "      <td>-0.695467</td>\n",
       "      <td>0.903654</td>\n",
       "      <td>-0.497556</td>\n",
       "      <td>...</td>\n",
       "      <td>-1.344237</td>\n",
       "      <td>0.307975</td>\n",
       "      <td>2.250000</td>\n",
       "      <td>0.336808</td>\n",
       "      <td>-0.001346</td>\n",
       "      <td>1.812800</td>\n",
       "      <td>-0.802968</td>\n",
       "      <td>-0.248463</td>\n",
       "      <td>-2.393587</td>\n",
       "      <td>0.183519</td>\n",
       "    </tr>\n",
       "    <tr>\n",
       "      <th>1</th>\n",
       "      <td>J23492+024</td>\n",
       "      <td>-0.674126</td>\n",
       "      <td>-0.733692</td>\n",
       "      <td>-0.438891</td>\n",
       "      <td>-0.057745</td>\n",
       "      <td>0.473809</td>\n",
       "      <td>-0.347436</td>\n",
       "      <td>-0.322543</td>\n",
       "      <td>1.312483</td>\n",
       "      <td>-0.153626</td>\n",
       "      <td>...</td>\n",
       "      <td>-2.251395</td>\n",
       "      <td>1.650742</td>\n",
       "      <td>-4.235033</td>\n",
       "      <td>0.118526</td>\n",
       "      <td>-0.244276</td>\n",
       "      <td>0.604280</td>\n",
       "      <td>-0.787328</td>\n",
       "      <td>-0.394400</td>\n",
       "      <td>-1.810785</td>\n",
       "      <td>1.600874</td>\n",
       "    </tr>\n",
       "    <tr>\n",
       "      <th>2</th>\n",
       "      <td>J23431+365</td>\n",
       "      <td>0.596012</td>\n",
       "      <td>-0.107259</td>\n",
       "      <td>0.542146</td>\n",
       "      <td>1.740165</td>\n",
       "      <td>-0.993314</td>\n",
       "      <td>-0.573237</td>\n",
       "      <td>-0.710438</td>\n",
       "      <td>-0.638376</td>\n",
       "      <td>-0.528719</td>\n",
       "      <td>...</td>\n",
       "      <td>0.178298</td>\n",
       "      <td>-1.062289</td>\n",
       "      <td>0.366300</td>\n",
       "      <td>0.121669</td>\n",
       "      <td>-0.255425</td>\n",
       "      <td>-0.788734</td>\n",
       "      <td>-0.490843</td>\n",
       "      <td>-0.667690</td>\n",
       "      <td>-0.338895</td>\n",
       "      <td>-1.116797</td>\n",
       "    </tr>\n",
       "    <tr>\n",
       "      <th>3</th>\n",
       "      <td>J23419+441</td>\n",
       "      <td>0.278478</td>\n",
       "      <td>1.354418</td>\n",
       "      <td>0.240288</td>\n",
       "      <td>1.140862</td>\n",
       "      <td>-0.993314</td>\n",
       "      <td>-0.281692</td>\n",
       "      <td>-0.412485</td>\n",
       "      <td>-0.559694</td>\n",
       "      <td>-0.332839</td>\n",
       "      <td>...</td>\n",
       "      <td>-2.029837</td>\n",
       "      <td>0.290144</td>\n",
       "      <td>0.829992</td>\n",
       "      <td>-0.008235</td>\n",
       "      <td>-0.235705</td>\n",
       "      <td>0.526272</td>\n",
       "      <td>-0.801627</td>\n",
       "      <td>-0.339110</td>\n",
       "      <td>-1.928617</td>\n",
       "      <td>0.555949</td>\n",
       "    </tr>\n",
       "    <tr>\n",
       "      <th>4</th>\n",
       "      <td>J23381-162</td>\n",
       "      <td>-0.039057</td>\n",
       "      <td>-0.385674</td>\n",
       "      <td>-0.891677</td>\n",
       "      <td>-0.657049</td>\n",
       "      <td>1.477630</td>\n",
       "      <td>0.003096</td>\n",
       "      <td>0.886923</td>\n",
       "      <td>0.217009</td>\n",
       "      <td>0.990671</td>\n",
       "      <td>...</td>\n",
       "      <td>-0.842653</td>\n",
       "      <td>0.846232</td>\n",
       "      <td>-0.199704</td>\n",
       "      <td>0.150270</td>\n",
       "      <td>-0.191291</td>\n",
       "      <td>0.634827</td>\n",
       "      <td>-0.436603</td>\n",
       "      <td>-0.188157</td>\n",
       "      <td>0.037966</td>\n",
       "      <td>0.228970</td>\n",
       "    </tr>\n",
       "  </tbody>\n",
       "</table>\n",
       "<p>5 rows × 113 columns</p>\n",
       "</div>"
      ],
      "text/plain": [
       "        Karmn  all_times_nhist_numpeaks  all_times_nhist_peak1_bin  \\\n",
       "0  J23505-095                  0.278478                  -0.594485   \n",
       "1  J23492+024                 -0.674126                  -0.733692   \n",
       "2  J23431+365                  0.596012                  -0.107259   \n",
       "3  J23419+441                  0.278478                   1.354418   \n",
       "4  J23381-162                 -0.039057                  -0.385674   \n",
       "\n",
       "   all_times_nhist_peak2_bin  all_times_nhist_peak3_bin  \\\n",
       "0                   0.013895                  -0.956701   \n",
       "1                  -0.438891                  -0.057745   \n",
       "2                   0.542146                   1.740165   \n",
       "3                   0.240288                   1.140862   \n",
       "4                  -0.891677                  -0.657049   \n",
       "\n",
       "   all_times_nhist_peak4_bin  all_times_nhist_peak_1_to_2  \\\n",
       "0                   0.396592                    -0.582246   \n",
       "1                   0.473809                    -0.347436   \n",
       "2                  -0.993314                    -0.573237   \n",
       "3                  -0.993314                    -0.281692   \n",
       "4                   1.477630                     0.003096   \n",
       "\n",
       "   all_times_nhist_peak_1_to_3  all_times_nhist_peak_1_to_4  \\\n",
       "0                    -0.695467                     0.903654   \n",
       "1                    -0.322543                     1.312483   \n",
       "2                    -0.710438                    -0.638376   \n",
       "3                    -0.412485                    -0.559694   \n",
       "4                     0.886923                     0.217009   \n",
       "\n",
       "   all_times_nhist_peak_2_to_3  ...  freq_signif_ratio_31  freq_varrat  \\\n",
       "0                    -0.497556  ...             -1.344237     0.307975   \n",
       "1                    -0.153626  ...             -2.251395     1.650742   \n",
       "2                    -0.528719  ...              0.178298    -1.062289   \n",
       "3                    -0.332839  ...             -2.029837     0.290144   \n",
       "4                     0.990671  ...             -0.842653     0.846232   \n",
       "\n",
       "   freq_y_offset  linear_trend  medperc90_2p_p  p2p_scatter_2praw  \\\n",
       "0       2.250000      0.336808       -0.001346           1.812800   \n",
       "1      -4.235033      0.118526       -0.244276           0.604280   \n",
       "2       0.366300      0.121669       -0.255425          -0.788734   \n",
       "3       0.829992     -0.008235       -0.235705           0.526272   \n",
       "4      -0.199704      0.150270       -0.191291           0.634827   \n",
       "\n",
       "   p2p_scatter_over_mad  p2p_scatter_pfold_over_mad  p2p_ssqr_diff_over_var  \\\n",
       "0             -0.802968                   -0.248463               -2.393587   \n",
       "1             -0.787328                   -0.394400               -1.810785   \n",
       "2             -0.490843                   -0.667690               -0.338895   \n",
       "3             -0.801627                   -0.339110               -1.928617   \n",
       "4             -0.436603                   -0.188157                0.037966   \n",
       "\n",
       "   scatter_res_raw  \n",
       "0         0.183519  \n",
       "1         1.600874  \n",
       "2        -1.116797  \n",
       "3         0.555949  \n",
       "4         0.228970  \n",
       "\n",
       "[5 rows x 113 columns]"
      ]
     },
     "execution_count": 75,
     "metadata": {},
     "output_type": "execute_result"
    }
   ],
   "source": [
    "carm = pd.read_csv(CARMENES_SET_IN, sep=',', decimal='.')\n",
    "carm.head()"
   ]
  },
  {
   "cell_type": "markdown",
   "id": "cac0c1fa",
   "metadata": {},
   "source": [
    "## New classifier with the final parameters"
   ]
  },
  {
   "cell_type": "markdown",
   "id": "aac747a9",
   "metadata": {},
   "source": [
    "### Re-evaluate the model on the full training set and validation set"
   ]
  },
  {
   "cell_type": "code",
   "execution_count": 76,
   "id": "654b3797",
   "metadata": {
    "ExecuteTime": {
     "end_time": "2023-03-02T12:39:01.450047Z",
     "start_time": "2023-03-02T12:39:01.418133Z"
    }
   },
   "outputs": [
    {
     "data": {
      "text/plain": [
       "{'train_score': 0.5333333333333333,\n",
       " 'validation_score': 0.3333333333333333,\n",
       " 'tree_depth': 8}"
      ]
     },
     "execution_count": 76,
     "metadata": {},
     "output_type": "execute_result"
    }
   ],
   "source": [
    "new_results = re_evaluate_model(\n",
    "    DecisionTreeClassifier(\n",
    "        max_depth=8,\n",
    "        min_samples_leaf=10,\n",
    "        ccp_alpha=0.005,\n",
    "        criterion='entropy', max_features=None,\n",
    "        splitter='best'\n",
    "    ),\n",
    "    X_train=train_set[rel_features], y_train=train_set['Pulsating'],\n",
    "    X_val=val[rel_features], y_val=val['Pulsating'],\n",
    "    refit=True\n",
    ")\n",
    "new_results"
   ]
  },
  {
   "cell_type": "markdown",
   "id": "119aa6df",
   "metadata": {},
   "source": [
    "**OBSERVATION:** ok, as expected."
   ]
  },
  {
   "cell_type": "markdown",
   "id": "c62134b0",
   "metadata": {},
   "source": [
    "### Classifier definition"
   ]
  },
  {
   "cell_type": "markdown",
   "id": "284f5c96",
   "metadata": {},
   "source": [
    "With the final parameters. "
   ]
  },
  {
   "cell_type": "code",
   "execution_count": 77,
   "id": "3b58c583",
   "metadata": {
    "ExecuteTime": {
     "end_time": "2023-03-02T12:39:03.703646Z",
     "start_time": "2023-03-02T12:39:03.699685Z"
    }
   },
   "outputs": [],
   "source": [
    "new_clf = DecisionTreeClassifier(\n",
    "    max_depth=8,\n",
    "    min_samples_leaf=10,\n",
    "    ccp_alpha=0.005,\n",
    "    criterion='entropy', max_features=None,\n",
    "    splitter='best'\n",
    ")"
   ]
  },
  {
   "cell_type": "markdown",
   "id": "cb049238",
   "metadata": {},
   "source": [
    "### Classifier fit"
   ]
  },
  {
   "cell_type": "code",
   "execution_count": 78,
   "id": "e960fc36",
   "metadata": {
    "ExecuteTime": {
     "end_time": "2023-03-02T12:39:07.765520Z",
     "start_time": "2023-03-02T12:39:07.731623Z"
    }
   },
   "outputs": [
    {
     "data": {
      "text/html": [
       "<style>#sk-container-id-2 {color: black;background-color: white;}#sk-container-id-2 pre{padding: 0;}#sk-container-id-2 div.sk-toggleable {background-color: white;}#sk-container-id-2 label.sk-toggleable__label {cursor: pointer;display: block;width: 100%;margin-bottom: 0;padding: 0.3em;box-sizing: border-box;text-align: center;}#sk-container-id-2 label.sk-toggleable__label-arrow:before {content: \"▸\";float: left;margin-right: 0.25em;color: #696969;}#sk-container-id-2 label.sk-toggleable__label-arrow:hover:before {color: black;}#sk-container-id-2 div.sk-estimator:hover label.sk-toggleable__label-arrow:before {color: black;}#sk-container-id-2 div.sk-toggleable__content {max-height: 0;max-width: 0;overflow: hidden;text-align: left;background-color: #f0f8ff;}#sk-container-id-2 div.sk-toggleable__content pre {margin: 0.2em;color: black;border-radius: 0.25em;background-color: #f0f8ff;}#sk-container-id-2 input.sk-toggleable__control:checked~div.sk-toggleable__content {max-height: 200px;max-width: 100%;overflow: auto;}#sk-container-id-2 input.sk-toggleable__control:checked~label.sk-toggleable__label-arrow:before {content: \"▾\";}#sk-container-id-2 div.sk-estimator input.sk-toggleable__control:checked~label.sk-toggleable__label {background-color: #d4ebff;}#sk-container-id-2 div.sk-label input.sk-toggleable__control:checked~label.sk-toggleable__label {background-color: #d4ebff;}#sk-container-id-2 input.sk-hidden--visually {border: 0;clip: rect(1px 1px 1px 1px);clip: rect(1px, 1px, 1px, 1px);height: 1px;margin: -1px;overflow: hidden;padding: 0;position: absolute;width: 1px;}#sk-container-id-2 div.sk-estimator {font-family: monospace;background-color: #f0f8ff;border: 1px dotted black;border-radius: 0.25em;box-sizing: border-box;margin-bottom: 0.5em;}#sk-container-id-2 div.sk-estimator:hover {background-color: #d4ebff;}#sk-container-id-2 div.sk-parallel-item::after {content: \"\";width: 100%;border-bottom: 1px solid gray;flex-grow: 1;}#sk-container-id-2 div.sk-label:hover label.sk-toggleable__label {background-color: #d4ebff;}#sk-container-id-2 div.sk-serial::before {content: \"\";position: absolute;border-left: 1px solid gray;box-sizing: border-box;top: 0;bottom: 0;left: 50%;z-index: 0;}#sk-container-id-2 div.sk-serial {display: flex;flex-direction: column;align-items: center;background-color: white;padding-right: 0.2em;padding-left: 0.2em;position: relative;}#sk-container-id-2 div.sk-item {position: relative;z-index: 1;}#sk-container-id-2 div.sk-parallel {display: flex;align-items: stretch;justify-content: center;background-color: white;position: relative;}#sk-container-id-2 div.sk-item::before, #sk-container-id-2 div.sk-parallel-item::before {content: \"\";position: absolute;border-left: 1px solid gray;box-sizing: border-box;top: 0;bottom: 0;left: 50%;z-index: -1;}#sk-container-id-2 div.sk-parallel-item {display: flex;flex-direction: column;z-index: 1;position: relative;background-color: white;}#sk-container-id-2 div.sk-parallel-item:first-child::after {align-self: flex-end;width: 50%;}#sk-container-id-2 div.sk-parallel-item:last-child::after {align-self: flex-start;width: 50%;}#sk-container-id-2 div.sk-parallel-item:only-child::after {width: 0;}#sk-container-id-2 div.sk-dashed-wrapped {border: 1px dashed gray;margin: 0 0.4em 0.5em 0.4em;box-sizing: border-box;padding-bottom: 0.4em;background-color: white;}#sk-container-id-2 div.sk-label label {font-family: monospace;font-weight: bold;display: inline-block;line-height: 1.2em;}#sk-container-id-2 div.sk-label-container {text-align: center;}#sk-container-id-2 div.sk-container {/* jupyter's `normalize.less` sets `[hidden] { display: none; }` but bootstrap.min.css set `[hidden] { display: none !important; }` so we also need the `!important` here to be able to override the default hidden behavior on the sphinx rendered scikit-learn.org. See: https://github.com/scikit-learn/scikit-learn/issues/21755 */display: inline-block !important;position: relative;}#sk-container-id-2 div.sk-text-repr-fallback {display: none;}</style><div id=\"sk-container-id-2\" class=\"sk-top-container\"><div class=\"sk-text-repr-fallback\"><pre>DecisionTreeClassifier(ccp_alpha=0.005, criterion=&#x27;entropy&#x27;, max_depth=8,\n",
       "                       min_samples_leaf=10)</pre><b>In a Jupyter environment, please rerun this cell to show the HTML representation or trust the notebook. <br />On GitHub, the HTML representation is unable to render, please try loading this page with nbviewer.org.</b></div><div class=\"sk-container\" hidden><div class=\"sk-item\"><div class=\"sk-estimator sk-toggleable\"><input class=\"sk-toggleable__control sk-hidden--visually\" id=\"sk-estimator-id-2\" type=\"checkbox\" checked><label for=\"sk-estimator-id-2\" class=\"sk-toggleable__label sk-toggleable__label-arrow\">DecisionTreeClassifier</label><div class=\"sk-toggleable__content\"><pre>DecisionTreeClassifier(ccp_alpha=0.005, criterion=&#x27;entropy&#x27;, max_depth=8,\n",
       "                       min_samples_leaf=10)</pre></div></div></div></div></div>"
      ],
      "text/plain": [
       "DecisionTreeClassifier(ccp_alpha=0.005, criterion='entropy', max_depth=8,\n",
       "                       min_samples_leaf=10)"
      ]
     },
     "execution_count": 78,
     "metadata": {},
     "output_type": "execute_result"
    }
   ],
   "source": [
    "new_clf.fit(train_set[rel_features], train_set['Pulsating'])"
   ]
  },
  {
   "cell_type": "markdown",
   "id": "702ec7f5",
   "metadata": {},
   "source": [
    "### Classifier performance overview (in training/test and validation samples)"
   ]
  },
  {
   "cell_type": "markdown",
   "id": "a19ee329",
   "metadata": {},
   "source": [
    "#### Precision"
   ]
  },
  {
   "cell_type": "code",
   "execution_count": 79,
   "id": "511c76ae",
   "metadata": {
    "ExecuteTime": {
     "end_time": "2023-03-02T12:39:10.756212Z",
     "start_time": "2023-03-02T12:39:10.746239Z"
    }
   },
   "outputs": [
    {
     "name": "stdout",
     "output_type": "stream",
     "text": [
      "Precision in training sample: 0.53\n"
     ]
    }
   ],
   "source": [
    "new_precision_training = precision_score(train_set['Pulsating'], new_clf.predict(train_set[rel_features]))\n",
    "print(\"Precision in training sample: %.2f\" %new_precision_training)"
   ]
  },
  {
   "cell_type": "code",
   "execution_count": 80,
   "id": "154df174",
   "metadata": {
    "ExecuteTime": {
     "end_time": "2023-03-02T12:39:11.205512Z",
     "start_time": "2023-03-02T12:39:11.195539Z"
    }
   },
   "outputs": [
    {
     "name": "stdout",
     "output_type": "stream",
     "text": [
      "Precision in validation sample: 0.33\n"
     ]
    }
   ],
   "source": [
    "new_precision_validation = precision_score(val['Pulsating'], new_clf.predict(val[rel_features]))\n",
    "print(\"Precision in validation sample: %.2f\" %new_precision_validation)"
   ]
  },
  {
   "cell_type": "markdown",
   "id": "6018b7bb",
   "metadata": {},
   "source": [
    "#### Classification reports"
   ]
  },
  {
   "cell_type": "code",
   "execution_count": 81,
   "id": "8d50f104",
   "metadata": {
    "ExecuteTime": {
     "end_time": "2023-03-02T12:39:12.997662Z",
     "start_time": "2023-03-02T12:39:12.987715Z"
    }
   },
   "outputs": [
    {
     "name": "stdout",
     "output_type": "stream",
     "text": [
      "              precision    recall  f1-score   support\n",
      "\n",
      "           0       0.90      0.99      0.95       672\n",
      "           1       0.53      0.10      0.17        78\n",
      "\n",
      "    accuracy                           0.90       750\n",
      "   macro avg       0.72      0.55      0.56       750\n",
      "weighted avg       0.87      0.90      0.86       750\n",
      "\n"
     ]
    }
   ],
   "source": [
    "print(classification_report(train_set['Pulsating'], new_clf.predict(train_set[rel_features])))"
   ]
  },
  {
   "cell_type": "code",
   "execution_count": 82,
   "id": "dba51a63",
   "metadata": {
    "ExecuteTime": {
     "end_time": "2023-03-02T12:39:13.386816Z",
     "start_time": "2023-03-02T12:39:13.369861Z"
    }
   },
   "outputs": [
    {
     "name": "stdout",
     "output_type": "stream",
     "text": [
      "              precision    recall  f1-score   support\n",
      "\n",
      "           0       0.90      0.99      0.94       224\n",
      "           1       0.33      0.04      0.07        26\n",
      "\n",
      "    accuracy                           0.89       250\n",
      "   macro avg       0.62      0.51      0.51       250\n",
      "weighted avg       0.84      0.89      0.85       250\n",
      "\n"
     ]
    }
   ],
   "source": [
    "print(classification_report(val['Pulsating'], new_clf.predict(val[rel_features])))"
   ]
  },
  {
   "cell_type": "markdown",
   "id": "504e4fb2",
   "metadata": {},
   "source": [
    "#### Confusion matrices"
   ]
  },
  {
   "cell_type": "code",
   "execution_count": 83,
   "id": "1ebcbe09",
   "metadata": {
    "ExecuteTime": {
     "end_time": "2023-03-02T12:39:14.875492Z",
     "start_time": "2023-03-02T12:39:14.858538Z"
    }
   },
   "outputs": [
    {
     "data": {
      "text/plain": [
       "array([[665,   7],\n",
       "       [ 70,   8]], dtype=int64)"
      ]
     },
     "execution_count": 83,
     "metadata": {},
     "output_type": "execute_result"
    }
   ],
   "source": [
    "confusion_matrix(train_set['Pulsating'], new_clf.predict(train_set[rel_features]))"
   ]
  },
  {
   "cell_type": "code",
   "execution_count": 84,
   "id": "ba26734d",
   "metadata": {
    "ExecuteTime": {
     "end_time": "2023-03-02T12:39:15.993829Z",
     "start_time": "2023-03-02T12:39:15.970891Z"
    }
   },
   "outputs": [
    {
     "data": {
      "text/plain": [
       "array([[222,   2],\n",
       "       [ 25,   1]], dtype=int64)"
      ]
     },
     "execution_count": 84,
     "metadata": {},
     "output_type": "execute_result"
    }
   ],
   "source": [
    "confusion_matrix(val['Pulsating'], new_clf.predict(val[rel_features]))"
   ]
  },
  {
   "cell_type": "markdown",
   "id": "8ab82028",
   "metadata": {},
   "source": [
    "**OBSERVATION:** Ok, we have managed to raise the precision in validation sample a little bit, but **the recall is very low** (only 1 of the 26 originally pulsating stars are correctly classified)."
   ]
  },
  {
   "cell_type": "markdown",
   "id": "a73408a2",
   "metadata": {},
   "source": [
    "### Predictions for training/test set"
   ]
  },
  {
   "cell_type": "code",
   "execution_count": 85,
   "id": "477001df",
   "metadata": {
    "ExecuteTime": {
     "end_time": "2023-03-02T12:39:17.412567Z",
     "start_time": "2023-03-02T12:39:17.394592Z"
    }
   },
   "outputs": [
    {
     "name": "stdout",
     "output_type": "stream",
     "text": [
      "[0 0 0 0 0 0 0 0 0 0 0 0 0 0 0 0 0 0 1 0 0 0 0 0 0 0 0 0 0 0 1 0 0 0 0 0 0\n",
      " 0 0 0 0 0 0 0 0 0 0 0 1 0 0 0 0 0 0 0 0 0 0 0 0 0 0 0 0 0 0 0 0 0 0 0 0 0\n",
      " 0 0 0 0 0 0 0 0 0 0 0 0 0 0 0 0 0 0 0 0 0 0 0 0 0 0 0 0 0 0 0 0 0 0 0 0 0\n",
      " 0 0 0 0 0 0 0 0 0 0 0 0 0 0 0 0 0 0 0 0 0 0 0 0 0 0 0 0 0 0 0 0 0 0 0 0 0\n",
      " 0 0 0 0 0 0 0 0 0 0 0 0 0 0 0 0 0 0 0 0 0 0 0 0 0 0 0 0 0 0 0 1 0 0 0 0 0\n",
      " 0 0 0 0 0 0 0 0 0 0 0 0 0 0 0 0 0 0 0 0 0 0 0 0 0 0 0 0 0 0 0 0 0 0 0 0 0\n",
      " 0 0 0 0 0 0 0 0 0 0 0 0 0 0 0 0 1 0 0 0 0 0 0 0 0 0 0 0 0 0 0 0 0 0 0 0 0\n",
      " 0 0 0 0 0 0 0 0 0 0 0 0 0 0 0 0 0 0 0 0 0 0 0 0 0 0 0 0 0 0 0 0 0 0 0 0 0\n",
      " 0 0 0 0 0 0 0 0 0 0 0 0 0 0 0 0 0 0 0 0 0 0 0 0 0 1 0 0 0 0 0 0 0 0 0 1 0\n",
      " 1 0 0 0 0 0 0 0 0 0 0 0 0 0 0 0 0 0 0 0 0 0 0 0 0 0 0 0 0 0 0 0 0 0 0 0 0\n",
      " 0 0 0 0 0 0 0 0 0 0 0 0 0 0 0 0 0 0 0 0 0 0 0 0 0 0 0 0 0 0 0 0 0 0 0 0 0\n",
      " 0 0 0 0 0 0 0 0 0 0 0 0 0 0 0 0 0 0 0 0 0 0 0 0 0 0 0 0 0 0 0 0 0 0 0 0 0\n",
      " 1 0 0 0 0 0 0 0 0 0 0 0 0 0 0 0 0 0 0 0 0 0 0 0 0 0 0 0 0 0 1 0 0 0 0 0 0\n",
      " 0 0 0 0 0 0 0 0 0 0 0 0 0 0 0 0 0 0 0 0 0 0 0 0 1 0 0 0 0 0 0 0 0 0 0 0 0\n",
      " 0 0 1 0 0 0 0 0 0 0 0 0 0 0 0 0 0 0 0 0 0 0 0 0 0 0 0 0 0 0 0 0 0 0 1 0 0\n",
      " 0 0 0 0 0 0 0 0 0 0 0 0 0 0 0 0 0 0 0 0 0 0 0 0 0 0 0 0 0 0 0 0 0 0 0 0 0\n",
      " 0 0 0 0 0 0 0 0 0 0 0 0 0 0 0 0 0 0 0 0 0 0 0 1 0 0 0 0 0 0 0 0 0 0 0 0 0\n",
      " 0 0 0 0 0 0 0 0 0 0 0 0 0 0 0 0 0 0 0 0 0 0 0 0 0 0 0 0 0 0 0 0 0 0 0 0 0\n",
      " 0 0 0 0 0 0 0 0 0 0 0 0 0 0 0 0 0 0 0 0 1 0 0 0 0 0 0 0 0 0 0 0 0 0 0 0 0\n",
      " 0 0 0 0 0 0 0 0 0 0 0 0 0 0 0 0 0 0 0 0 0 0 0 0 0 0 0 0 0 0 0 0 0 0 0 0 0\n",
      " 0 0 0 0 0 0 0 0 0 0]\n"
     ]
    }
   ],
   "source": [
    "tr_pred = new_clf.predict(train_set[rel_features])\n",
    "print(tr_pred)"
   ]
  },
  {
   "cell_type": "code",
   "execution_count": 86,
   "id": "24751bd4",
   "metadata": {
    "ExecuteTime": {
     "end_time": "2023-03-02T12:39:17.832581Z",
     "start_time": "2023-03-02T12:39:17.819644Z"
    }
   },
   "outputs": [
    {
     "name": "stdout",
     "output_type": "stream",
     "text": [
      "[[1.         0.        ]\n",
      " [0.73333333 0.26666667]\n",
      " [1.         0.        ]\n",
      " ...\n",
      " [1.         0.        ]\n",
      " [1.         0.        ]\n",
      " [0.57142857 0.42857143]]\n"
     ]
    }
   ],
   "source": [
    "tr_pred_proba = new_clf.predict_proba(train_set[rel_features])\n",
    "print(tr_pred_proba)"
   ]
  },
  {
   "cell_type": "code",
   "execution_count": 87,
   "id": "39e737d0",
   "metadata": {
    "ExecuteTime": {
     "end_time": "2023-03-02T12:39:18.421895Z",
     "start_time": "2023-03-02T12:39:18.401949Z"
    }
   },
   "outputs": [
    {
     "data": {
      "text/html": [
       "<div>\n",
       "<style scoped>\n",
       "    .dataframe tbody tr th:only-of-type {\n",
       "        vertical-align: middle;\n",
       "    }\n",
       "\n",
       "    .dataframe tbody tr th {\n",
       "        vertical-align: top;\n",
       "    }\n",
       "\n",
       "    .dataframe thead th {\n",
       "        text-align: right;\n",
       "    }\n",
       "</style>\n",
       "<table border=\"1\" class=\"dataframe\">\n",
       "  <thead>\n",
       "    <tr style=\"text-align: right;\">\n",
       "      <th></th>\n",
       "      <th>ID</th>\n",
       "      <th>Pulsating</th>\n",
       "      <th>Pulsation predicted</th>\n",
       "      <th>Pulsation probability</th>\n",
       "    </tr>\n",
       "  </thead>\n",
       "  <tbody>\n",
       "    <tr>\n",
       "      <th>0</th>\n",
       "      <td>Star-00163</td>\n",
       "      <td>0</td>\n",
       "      <td>0</td>\n",
       "      <td>0.000000</td>\n",
       "    </tr>\n",
       "    <tr>\n",
       "      <th>1</th>\n",
       "      <td>Star-00123</td>\n",
       "      <td>1</td>\n",
       "      <td>0</td>\n",
       "      <td>0.266667</td>\n",
       "    </tr>\n",
       "    <tr>\n",
       "      <th>2</th>\n",
       "      <td>Star-00022</td>\n",
       "      <td>0</td>\n",
       "      <td>0</td>\n",
       "      <td>0.000000</td>\n",
       "    </tr>\n",
       "    <tr>\n",
       "      <th>3</th>\n",
       "      <td>Star-00708</td>\n",
       "      <td>0</td>\n",
       "      <td>0</td>\n",
       "      <td>0.000000</td>\n",
       "    </tr>\n",
       "    <tr>\n",
       "      <th>4</th>\n",
       "      <td>Star-00484</td>\n",
       "      <td>0</td>\n",
       "      <td>0</td>\n",
       "      <td>0.000000</td>\n",
       "    </tr>\n",
       "  </tbody>\n",
       "</table>\n",
       "</div>"
      ],
      "text/plain": [
       "           ID  Pulsating  Pulsation predicted  Pulsation probability\n",
       "0  Star-00163          0                    0               0.000000\n",
       "1  Star-00123          1                    0               0.266667\n",
       "2  Star-00022          0                    0               0.000000\n",
       "3  Star-00708          0                    0               0.000000\n",
       "4  Star-00484          0                    0               0.000000"
      ]
     },
     "execution_count": 87,
     "metadata": {},
     "output_type": "execute_result"
    }
   ],
   "source": [
    "tr_predictions = pd.concat([\n",
    "    tr_load[['ID', 'Pulsating']],\n",
    "    pd.DataFrame({'Pulsation predicted': tr_pred}),\n",
    "    pd.DataFrame({'Pulsation probability': tr_pred_proba[:,1]})],\n",
    "    axis=1)\n",
    "tr_predictions.head()"
   ]
  },
  {
   "cell_type": "code",
   "execution_count": 88,
   "id": "aaefa2f0",
   "metadata": {
    "ExecuteTime": {
     "end_time": "2023-03-02T12:39:19.124844Z",
     "start_time": "2023-03-02T12:39:19.114871Z"
    }
   },
   "outputs": [
    {
     "data": {
      "text/html": [
       "<div>\n",
       "<style scoped>\n",
       "    .dataframe tbody tr th:only-of-type {\n",
       "        vertical-align: middle;\n",
       "    }\n",
       "\n",
       "    .dataframe tbody tr th {\n",
       "        vertical-align: top;\n",
       "    }\n",
       "\n",
       "    .dataframe thead th {\n",
       "        text-align: right;\n",
       "    }\n",
       "</style>\n",
       "<table border=\"1\" class=\"dataframe\">\n",
       "  <thead>\n",
       "    <tr style=\"text-align: right;\">\n",
       "      <th></th>\n",
       "      <th>ID</th>\n",
       "      <th>Pulsating</th>\n",
       "      <th>Pulsation predicted</th>\n",
       "      <th>Pulsation probability</th>\n",
       "    </tr>\n",
       "  </thead>\n",
       "  <tbody>\n",
       "    <tr>\n",
       "      <th>18</th>\n",
       "      <td>Star-00573</td>\n",
       "      <td>1</td>\n",
       "      <td>1</td>\n",
       "      <td>0.533333</td>\n",
       "    </tr>\n",
       "    <tr>\n",
       "      <th>30</th>\n",
       "      <td>Star-00301</td>\n",
       "      <td>0</td>\n",
       "      <td>1</td>\n",
       "      <td>0.533333</td>\n",
       "    </tr>\n",
       "    <tr>\n",
       "      <th>48</th>\n",
       "      <td>Star-00004</td>\n",
       "      <td>1</td>\n",
       "      <td>1</td>\n",
       "      <td>0.533333</td>\n",
       "    </tr>\n",
       "    <tr>\n",
       "      <th>179</th>\n",
       "      <td>Star-00388</td>\n",
       "      <td>1</td>\n",
       "      <td>1</td>\n",
       "      <td>0.533333</td>\n",
       "    </tr>\n",
       "    <tr>\n",
       "      <th>238</th>\n",
       "      <td>Star-00438</td>\n",
       "      <td>0</td>\n",
       "      <td>1</td>\n",
       "      <td>0.533333</td>\n",
       "    </tr>\n",
       "    <tr>\n",
       "      <th>321</th>\n",
       "      <td>Star-00185</td>\n",
       "      <td>1</td>\n",
       "      <td>1</td>\n",
       "      <td>0.533333</td>\n",
       "    </tr>\n",
       "    <tr>\n",
       "      <th>331</th>\n",
       "      <td>Star-00609</td>\n",
       "      <td>0</td>\n",
       "      <td>1</td>\n",
       "      <td>0.533333</td>\n",
       "    </tr>\n",
       "    <tr>\n",
       "      <th>333</th>\n",
       "      <td>Star-00213</td>\n",
       "      <td>1</td>\n",
       "      <td>1</td>\n",
       "      <td>0.533333</td>\n",
       "    </tr>\n",
       "    <tr>\n",
       "      <th>444</th>\n",
       "      <td>Star-00077</td>\n",
       "      <td>0</td>\n",
       "      <td>1</td>\n",
       "      <td>0.533333</td>\n",
       "    </tr>\n",
       "    <tr>\n",
       "      <th>474</th>\n",
       "      <td>Star-00356</td>\n",
       "      <td>1</td>\n",
       "      <td>1</td>\n",
       "      <td>0.533333</td>\n",
       "    </tr>\n",
       "    <tr>\n",
       "      <th>505</th>\n",
       "      <td>Star-00360</td>\n",
       "      <td>0</td>\n",
       "      <td>1</td>\n",
       "      <td>0.533333</td>\n",
       "    </tr>\n",
       "    <tr>\n",
       "      <th>520</th>\n",
       "      <td>Star-00801</td>\n",
       "      <td>1</td>\n",
       "      <td>1</td>\n",
       "      <td>0.533333</td>\n",
       "    </tr>\n",
       "    <tr>\n",
       "      <th>552</th>\n",
       "      <td>Star-00921</td>\n",
       "      <td>0</td>\n",
       "      <td>1</td>\n",
       "      <td>0.533333</td>\n",
       "    </tr>\n",
       "    <tr>\n",
       "      <th>615</th>\n",
       "      <td>Star-00248</td>\n",
       "      <td>0</td>\n",
       "      <td>1</td>\n",
       "      <td>0.533333</td>\n",
       "    </tr>\n",
       "    <tr>\n",
       "      <th>686</th>\n",
       "      <td>Star-00188</td>\n",
       "      <td>1</td>\n",
       "      <td>1</td>\n",
       "      <td>0.533333</td>\n",
       "    </tr>\n",
       "  </tbody>\n",
       "</table>\n",
       "</div>"
      ],
      "text/plain": [
       "             ID  Pulsating  Pulsation predicted  Pulsation probability\n",
       "18   Star-00573          1                    1               0.533333\n",
       "30   Star-00301          0                    1               0.533333\n",
       "48   Star-00004          1                    1               0.533333\n",
       "179  Star-00388          1                    1               0.533333\n",
       "238  Star-00438          0                    1               0.533333\n",
       "321  Star-00185          1                    1               0.533333\n",
       "331  Star-00609          0                    1               0.533333\n",
       "333  Star-00213          1                    1               0.533333\n",
       "444  Star-00077          0                    1               0.533333\n",
       "474  Star-00356          1                    1               0.533333\n",
       "505  Star-00360          0                    1               0.533333\n",
       "520  Star-00801          1                    1               0.533333\n",
       "552  Star-00921          0                    1               0.533333\n",
       "615  Star-00248          0                    1               0.533333\n",
       "686  Star-00188          1                    1               0.533333"
      ]
     },
     "execution_count": 88,
     "metadata": {},
     "output_type": "execute_result"
    }
   ],
   "source": [
    "tr_predictions[tr_predictions['Pulsation predicted'] == 1]"
   ]
  },
  {
   "cell_type": "code",
   "execution_count": 89,
   "id": "2cdc366b",
   "metadata": {
    "ExecuteTime": {
     "end_time": "2023-03-02T12:39:19.761747Z",
     "start_time": "2023-03-02T12:39:19.755762Z"
    }
   },
   "outputs": [
    {
     "data": {
      "text/plain": [
       "15"
      ]
     },
     "execution_count": 89,
     "metadata": {},
     "output_type": "execute_result"
    }
   ],
   "source": [
    "len(tr_predictions[tr_predictions['Pulsation predicted'] == 1])"
   ]
  },
  {
   "cell_type": "markdown",
   "id": "5d03294c",
   "metadata": {},
   "source": [
    "### Predictions for validation set"
   ]
  },
  {
   "cell_type": "code",
   "execution_count": 90,
   "id": "60a92fbc",
   "metadata": {
    "ExecuteTime": {
     "end_time": "2023-03-02T12:39:21.143154Z",
     "start_time": "2023-03-02T12:39:21.122210Z"
    }
   },
   "outputs": [
    {
     "name": "stdout",
     "output_type": "stream",
     "text": [
      "[0 0 0 0 0 0 0 0 0 0 0 0 0 0 0 0 0 0 0 0 0 0 0 0 0 0 0 0 0 0 0 0 0 0 0 0 0\n",
      " 0 0 0 0 0 0 0 0 0 0 0 0 0 0 0 0 0 0 0 0 0 0 0 0 0 0 0 0 0 0 0 0 0 0 0 0 0\n",
      " 0 0 0 0 0 0 0 0 0 0 0 0 0 0 0 0 0 0 0 0 0 0 0 0 0 0 0 0 0 1 0 0 0 0 0 0 0\n",
      " 0 0 0 0 0 0 0 0 0 0 0 1 0 0 0 0 0 0 0 0 0 0 0 0 0 0 0 0 0 0 0 0 0 0 0 1 0\n",
      " 0 0 0 0 0 0 0 0 0 0 0 0 0 0 0 0 0 0 0 0 0 0 0 0 0 0 0 0 0 0 0 0 0 0 0 0 0\n",
      " 0 0 0 0 0 0 0 0 0 0 0 0 0 0 0 0 0 0 0 0 0 0 0 0 0 0 0 0 0 0 0 0 0 0 0 0 0\n",
      " 0 0 0 0 0 0 0 0 0 0 0 0 0 0 0 0 0 0 0 0 0 0 0 0 0 0 0 0]\n"
     ]
    }
   ],
   "source": [
    "val_pred = new_clf.predict(val_load[rel_features])\n",
    "print(val_pred)"
   ]
  },
  {
   "cell_type": "code",
   "execution_count": 91,
   "id": "ae6b1b80",
   "metadata": {
    "ExecuteTime": {
     "end_time": "2023-03-02T12:39:22.207657Z",
     "start_time": "2023-03-02T12:39:22.195689Z"
    }
   },
   "outputs": [
    {
     "name": "stdout",
     "output_type": "stream",
     "text": [
      "[[0.63636364 0.36363636]\n",
      " [1.         0.        ]\n",
      " [1.         0.        ]\n",
      " [1.         0.        ]\n",
      " [0.99099099 0.00900901]\n",
      " [0.73333333 0.26666667]\n",
      " [1.         0.        ]\n",
      " [0.92307692 0.07692308]\n",
      " [0.63636364 0.36363636]\n",
      " [0.99099099 0.00900901]]\n"
     ]
    }
   ],
   "source": [
    "val_pred_proba = new_clf.predict_proba(val_load[rel_features])\n",
    "print(val_pred_proba[:10])"
   ]
  },
  {
   "cell_type": "code",
   "execution_count": 92,
   "id": "2f77aa48",
   "metadata": {
    "ExecuteTime": {
     "end_time": "2023-03-02T12:39:22.752779Z",
     "start_time": "2023-03-02T12:39:22.739813Z"
    }
   },
   "outputs": [
    {
     "data": {
      "text/html": [
       "<div>\n",
       "<style scoped>\n",
       "    .dataframe tbody tr th:only-of-type {\n",
       "        vertical-align: middle;\n",
       "    }\n",
       "\n",
       "    .dataframe tbody tr th {\n",
       "        vertical-align: top;\n",
       "    }\n",
       "\n",
       "    .dataframe thead th {\n",
       "        text-align: right;\n",
       "    }\n",
       "</style>\n",
       "<table border=\"1\" class=\"dataframe\">\n",
       "  <thead>\n",
       "    <tr style=\"text-align: right;\">\n",
       "      <th></th>\n",
       "      <th>ID</th>\n",
       "      <th>Pulsating</th>\n",
       "      <th>Pulsation predicted</th>\n",
       "      <th>Pulsation probability</th>\n",
       "    </tr>\n",
       "  </thead>\n",
       "  <tbody>\n",
       "    <tr>\n",
       "      <th>0</th>\n",
       "      <td>Star-00107</td>\n",
       "      <td>0</td>\n",
       "      <td>0</td>\n",
       "      <td>0.363636</td>\n",
       "    </tr>\n",
       "    <tr>\n",
       "      <th>1</th>\n",
       "      <td>Star-00868</td>\n",
       "      <td>0</td>\n",
       "      <td>0</td>\n",
       "      <td>0.000000</td>\n",
       "    </tr>\n",
       "    <tr>\n",
       "      <th>2</th>\n",
       "      <td>Star-00106</td>\n",
       "      <td>0</td>\n",
       "      <td>0</td>\n",
       "      <td>0.000000</td>\n",
       "    </tr>\n",
       "    <tr>\n",
       "      <th>3</th>\n",
       "      <td>Star-00120</td>\n",
       "      <td>0</td>\n",
       "      <td>0</td>\n",
       "      <td>0.000000</td>\n",
       "    </tr>\n",
       "    <tr>\n",
       "      <th>4</th>\n",
       "      <td>Star-00559</td>\n",
       "      <td>0</td>\n",
       "      <td>0</td>\n",
       "      <td>0.009009</td>\n",
       "    </tr>\n",
       "  </tbody>\n",
       "</table>\n",
       "</div>"
      ],
      "text/plain": [
       "           ID  Pulsating  Pulsation predicted  Pulsation probability\n",
       "0  Star-00107          0                    0               0.363636\n",
       "1  Star-00868          0                    0               0.000000\n",
       "2  Star-00106          0                    0               0.000000\n",
       "3  Star-00120          0                    0               0.000000\n",
       "4  Star-00559          0                    0               0.009009"
      ]
     },
     "execution_count": 92,
     "metadata": {},
     "output_type": "execute_result"
    }
   ],
   "source": [
    "val_predictions = pd.concat([\n",
    "    val_load[['ID', 'Pulsating']],\n",
    "    pd.DataFrame({'Pulsation predicted': val_pred}),\n",
    "    pd.DataFrame({'Pulsation probability': val_pred_proba[:,1]})],\n",
    "    axis=1)\n",
    "val_predictions.head()"
   ]
  },
  {
   "cell_type": "code",
   "execution_count": 93,
   "id": "7cbda1c1",
   "metadata": {
    "ExecuteTime": {
     "end_time": "2023-03-02T12:39:23.173806Z",
     "start_time": "2023-03-02T12:39:23.163833Z"
    }
   },
   "outputs": [
    {
     "data": {
      "text/html": [
       "<div>\n",
       "<style scoped>\n",
       "    .dataframe tbody tr th:only-of-type {\n",
       "        vertical-align: middle;\n",
       "    }\n",
       "\n",
       "    .dataframe tbody tr th {\n",
       "        vertical-align: top;\n",
       "    }\n",
       "\n",
       "    .dataframe thead th {\n",
       "        text-align: right;\n",
       "    }\n",
       "</style>\n",
       "<table border=\"1\" class=\"dataframe\">\n",
       "  <thead>\n",
       "    <tr style=\"text-align: right;\">\n",
       "      <th></th>\n",
       "      <th>ID</th>\n",
       "      <th>Pulsating</th>\n",
       "      <th>Pulsation predicted</th>\n",
       "      <th>Pulsation probability</th>\n",
       "    </tr>\n",
       "  </thead>\n",
       "  <tbody>\n",
       "    <tr>\n",
       "      <th>103</th>\n",
       "      <td>Star-00636</td>\n",
       "      <td>1</td>\n",
       "      <td>1</td>\n",
       "      <td>0.533333</td>\n",
       "    </tr>\n",
       "    <tr>\n",
       "      <th>122</th>\n",
       "      <td>Star-00383</td>\n",
       "      <td>0</td>\n",
       "      <td>1</td>\n",
       "      <td>0.533333</td>\n",
       "    </tr>\n",
       "    <tr>\n",
       "      <th>146</th>\n",
       "      <td>Star-00292</td>\n",
       "      <td>0</td>\n",
       "      <td>1</td>\n",
       "      <td>0.533333</td>\n",
       "    </tr>\n",
       "  </tbody>\n",
       "</table>\n",
       "</div>"
      ],
      "text/plain": [
       "             ID  Pulsating  Pulsation predicted  Pulsation probability\n",
       "103  Star-00636          1                    1               0.533333\n",
       "122  Star-00383          0                    1               0.533333\n",
       "146  Star-00292          0                    1               0.533333"
      ]
     },
     "execution_count": 93,
     "metadata": {},
     "output_type": "execute_result"
    }
   ],
   "source": [
    "val_predictions[val_predictions['Pulsation predicted'] == 1]"
   ]
  },
  {
   "cell_type": "code",
   "execution_count": 94,
   "id": "59426ddb",
   "metadata": {
    "ExecuteTime": {
     "end_time": "2023-03-02T12:39:23.981928Z",
     "start_time": "2023-03-02T12:39:23.971980Z"
    }
   },
   "outputs": [
    {
     "data": {
      "text/plain": [
       "3"
      ]
     },
     "execution_count": 94,
     "metadata": {},
     "output_type": "execute_result"
    }
   ],
   "source": [
    "len(val_predictions[val_predictions['Pulsation predicted'] == 1])"
   ]
  },
  {
   "cell_type": "markdown",
   "id": "8f91d5cb",
   "metadata": {},
   "source": [
    "### Predictions for CARMENES"
   ]
  },
  {
   "cell_type": "code",
   "execution_count": 95,
   "id": "1943f304",
   "metadata": {
    "ExecuteTime": {
     "end_time": "2023-03-02T12:39:25.246061Z",
     "start_time": "2023-03-02T12:39:25.236087Z"
    }
   },
   "outputs": [
    {
     "name": "stdout",
     "output_type": "stream",
     "text": [
      "[0 0 0 0 0 0 0 0 0 0 0 0 0 0 0 0 0 0 0 0 0 0 0 0 0 0 0 0 0 0 0 0 0 0 0 0 0\n",
      " 0 0 0 0 0 0 0 0 0 0 0 0 0 0 0 0 0 0 0 0 0 0 0 0 0 0 0 0 0 0 0 0 1 0 0 0 0\n",
      " 0 0 0 0 0 0 0 0 0 0 0 0 0 0 0 0 0 0 0 0 0 0 0 0 0 0 0 0 0 0 0 0 0 0 0 0 0\n",
      " 0 0 0 0 0 0 0 0 0 0 0 0 0 0 0 0 0 0 0 0 0 0 0 0 0 0 0 0 0 0 0 0 0 0 0 0 0\n",
      " 0 0 0 0 0 0 0 0 0 0 0 0 0 1 0 0 0 0 0 0 0 0 0 0 0 0 0 0 0 0 0 0 0 0 0 0 0\n",
      " 0 0 0 0 0 0 0 0 0 0 0 0 0 0 0 0 0 0 0 0 0 0 0 0 0 0 0 0 0 0 0 0 0 0 0 0 0\n",
      " 0 0 0 0 0 0 0 0 0 0 0]\n"
     ]
    }
   ],
   "source": [
    "carm_pred = new_clf.predict(carm[rel_features])\n",
    "print(carm_pred)"
   ]
  },
  {
   "cell_type": "code",
   "execution_count": 96,
   "id": "54db7a75",
   "metadata": {
    "ExecuteTime": {
     "end_time": "2023-03-02T12:39:26.320630Z",
     "start_time": "2023-03-02T12:39:26.307665Z"
    }
   },
   "outputs": [
    {
     "name": "stdout",
     "output_type": "stream",
     "text": [
      "[0.00900901 0.00900901 0.         0.         0.         0.26666667\n",
      " 0.26666667 0.07692308 0.26666667 0.07692308 0.26666667 0.\n",
      " 0.00900901 0.00900901 0.26666667 0.         0.00900901 0.00900901\n",
      " 0.42857143 0.09677419 0.         0.         0.125      0.26666667\n",
      " 0.         0.26666667 0.125      0.42857143 0.28571429 0.48387097\n",
      " 0.         0.09677419 0.         0.00900901 0.09677419 0.\n",
      " 0.         0.         0.00900901 0.         0.00900901 0.\n",
      " 0.00900901 0.125      0.         0.         0.         0.125\n",
      " 0.26666667 0.48387097 0.09677419 0.         0.         0.26666667\n",
      " 0.28571429 0.42857143 0.         0.42857143 0.07692308 0.\n",
      " 0.         0.48387097 0.48387097 0.         0.         0.\n",
      " 0.         0.42857143 0.26666667 0.53333333 0.         0.\n",
      " 0.         0.         0.         0.         0.00900901 0.\n",
      " 0.         0.125      0.         0.         0.48387097 0.48387097\n",
      " 0.00900901 0.00900901 0.2        0.07692308 0.         0.42857143\n",
      " 0.         0.         0.         0.         0.         0.\n",
      " 0.         0.07692308 0.         0.         0.         0.09677419\n",
      " 0.09677419 0.         0.00900901 0.28571429 0.42857143 0.\n",
      " 0.00900901 0.00900901 0.         0.         0.         0.00900901\n",
      " 0.00900901 0.         0.00900901 0.2        0.         0.42857143\n",
      " 0.         0.00900901 0.         0.         0.         0.00900901\n",
      " 0.         0.         0.00900901 0.         0.         0.\n",
      " 0.         0.         0.28571429 0.42857143 0.         0.00900901\n",
      " 0.00900901 0.09677419 0.         0.2        0.36363636 0.\n",
      " 0.         0.48387097 0.46666667 0.         0.28571429 0.42857143\n",
      " 0.         0.         0.3        0.         0.         0.\n",
      " 0.00900901 0.         0.28571429 0.         0.         0.53333333\n",
      " 0.         0.         0.         0.26666667 0.         0.\n",
      " 0.42857143 0.42857143 0.         0.         0.         0.00900901\n",
      " 0.09677419 0.42857143 0.         0.46666667 0.125      0.46666667\n",
      " 0.         0.         0.         0.26666667 0.         0.48387097\n",
      " 0.         0.42857143 0.48387097 0.48387097 0.         0.48387097\n",
      " 0.48387097 0.26666667 0.         0.00900901 0.         0.\n",
      " 0.42857143 0.00900901 0.         0.2        0.         0.42857143\n",
      " 0.36363636 0.         0.28571429 0.         0.         0.\n",
      " 0.46666667 0.42857143 0.         0.         0.48387097 0.\n",
      " 0.36363636 0.         0.00900901 0.         0.         0.42857143\n",
      " 0.00900901 0.00900901 0.         0.         0.42857143 0.28571429\n",
      " 0.28571429 0.         0.         0.         0.        ]\n"
     ]
    }
   ],
   "source": [
    "carm_pred_proba = new_clf.predict_proba(carm[rel_features])\n",
    "print(carm_pred_proba[:,1])"
   ]
  },
  {
   "cell_type": "code",
   "execution_count": 97,
   "id": "d350744a",
   "metadata": {
    "ExecuteTime": {
     "end_time": "2023-03-02T12:39:26.757060Z",
     "start_time": "2023-03-02T12:39:26.747059Z"
    }
   },
   "outputs": [
    {
     "data": {
      "text/html": [
       "<div>\n",
       "<style scoped>\n",
       "    .dataframe tbody tr th:only-of-type {\n",
       "        vertical-align: middle;\n",
       "    }\n",
       "\n",
       "    .dataframe tbody tr th {\n",
       "        vertical-align: top;\n",
       "    }\n",
       "\n",
       "    .dataframe thead th {\n",
       "        text-align: right;\n",
       "    }\n",
       "</style>\n",
       "<table border=\"1\" class=\"dataframe\">\n",
       "  <thead>\n",
       "    <tr style=\"text-align: right;\">\n",
       "      <th></th>\n",
       "      <th>Karmn</th>\n",
       "      <th>Pulsation predicted</th>\n",
       "      <th>Pulsation probability</th>\n",
       "    </tr>\n",
       "  </thead>\n",
       "  <tbody>\n",
       "    <tr>\n",
       "      <th>0</th>\n",
       "      <td>J23505-095</td>\n",
       "      <td>0</td>\n",
       "      <td>0.009009</td>\n",
       "    </tr>\n",
       "    <tr>\n",
       "      <th>1</th>\n",
       "      <td>J23492+024</td>\n",
       "      <td>0</td>\n",
       "      <td>0.009009</td>\n",
       "    </tr>\n",
       "    <tr>\n",
       "      <th>2</th>\n",
       "      <td>J23431+365</td>\n",
       "      <td>0</td>\n",
       "      <td>0.000000</td>\n",
       "    </tr>\n",
       "    <tr>\n",
       "      <th>3</th>\n",
       "      <td>J23419+441</td>\n",
       "      <td>0</td>\n",
       "      <td>0.000000</td>\n",
       "    </tr>\n",
       "    <tr>\n",
       "      <th>4</th>\n",
       "      <td>J23381-162</td>\n",
       "      <td>0</td>\n",
       "      <td>0.000000</td>\n",
       "    </tr>\n",
       "  </tbody>\n",
       "</table>\n",
       "</div>"
      ],
      "text/plain": [
       "        Karmn  Pulsation predicted  Pulsation probability\n",
       "0  J23505-095                    0               0.009009\n",
       "1  J23492+024                    0               0.009009\n",
       "2  J23431+365                    0               0.000000\n",
       "3  J23419+441                    0               0.000000\n",
       "4  J23381-162                    0               0.000000"
      ]
     },
     "execution_count": 97,
     "metadata": {},
     "output_type": "execute_result"
    }
   ],
   "source": [
    "carm_predictions = pd.DataFrame(\n",
    "    {'Karmn': carm['Karmn'],\n",
    "     'Pulsation predicted': carm_pred,\n",
    "     'Pulsation probability': carm_pred_proba[:,1]\n",
    "    }\n",
    ")\n",
    "carm_predictions.head()"
   ]
  },
  {
   "cell_type": "code",
   "execution_count": 98,
   "id": "f5295e7d",
   "metadata": {
    "ExecuteTime": {
     "end_time": "2023-03-02T12:39:27.537454Z",
     "start_time": "2023-03-02T12:39:27.515894Z"
    }
   },
   "outputs": [
    {
     "data": {
      "text/html": [
       "<div>\n",
       "<style scoped>\n",
       "    .dataframe tbody tr th:only-of-type {\n",
       "        vertical-align: middle;\n",
       "    }\n",
       "\n",
       "    .dataframe tbody tr th {\n",
       "        vertical-align: top;\n",
       "    }\n",
       "\n",
       "    .dataframe thead th {\n",
       "        text-align: right;\n",
       "    }\n",
       "</style>\n",
       "<table border=\"1\" class=\"dataframe\">\n",
       "  <thead>\n",
       "    <tr style=\"text-align: right;\">\n",
       "      <th></th>\n",
       "      <th>Karmn</th>\n",
       "      <th>Pulsation predicted</th>\n",
       "      <th>Pulsation probability</th>\n",
       "    </tr>\n",
       "  </thead>\n",
       "  <tbody>\n",
       "    <tr>\n",
       "      <th>69</th>\n",
       "      <td>J16581+257</td>\n",
       "      <td>1</td>\n",
       "      <td>0.533333</td>\n",
       "    </tr>\n",
       "    <tr>\n",
       "      <th>161</th>\n",
       "      <td>J08126-215</td>\n",
       "      <td>1</td>\n",
       "      <td>0.533333</td>\n",
       "    </tr>\n",
       "  </tbody>\n",
       "</table>\n",
       "</div>"
      ],
      "text/plain": [
       "          Karmn  Pulsation predicted  Pulsation probability\n",
       "69   J16581+257                    1               0.533333\n",
       "161  J08126-215                    1               0.533333"
      ]
     },
     "execution_count": 98,
     "metadata": {},
     "output_type": "execute_result"
    }
   ],
   "source": [
    "carm_predictions[carm_predictions['Pulsation predicted'] == 1]"
   ]
  },
  {
   "cell_type": "markdown",
   "id": "e946fe27",
   "metadata": {},
   "source": [
    "### Classifier characteristics"
   ]
  },
  {
   "cell_type": "markdown",
   "id": "6e806de2",
   "metadata": {},
   "source": [
    "#### Feature importance"
   ]
  },
  {
   "cell_type": "code",
   "execution_count": 99,
   "id": "d6161ef6",
   "metadata": {
    "ExecuteTime": {
     "end_time": "2023-03-02T12:39:29.818632Z",
     "start_time": "2023-03-02T12:39:29.810654Z"
    }
   },
   "outputs": [
    {
     "data": {
      "text/plain": [
       "array([0.        , 0.05335173, 0.04745253, 0.        , 0.03747354,\n",
       "       0.        , 0.05515932, 0.        , 0.        , 0.        ,\n",
       "       0.        , 0.0316615 , 0.03164756, 0.        , 0.        ,\n",
       "       0.        , 0.        , 0.        , 0.        , 0.        ,\n",
       "       0.        , 0.        , 0.        , 0.        , 0.05959072,\n",
       "       0.        , 0.        , 0.        , 0.        , 0.        ,\n",
       "       0.        , 0.08915158, 0.        , 0.        , 0.03160099,\n",
       "       0.        , 0.        , 0.03114912, 0.09328862, 0.04902369,\n",
       "       0.02875651, 0.07167629, 0.08097533, 0.07631868, 0.        ,\n",
       "       0.        , 0.08848369, 0.04323861])"
      ]
     },
     "execution_count": 99,
     "metadata": {},
     "output_type": "execute_result"
    }
   ],
   "source": [
    "new_clf.feature_importances_"
   ]
  },
  {
   "cell_type": "code",
   "execution_count": 100,
   "id": "96ba1826",
   "metadata": {
    "ExecuteTime": {
     "end_time": "2023-03-02T12:39:30.455984Z",
     "start_time": "2023-03-02T12:39:30.450998Z"
    }
   },
   "outputs": [
    {
     "data": {
      "text/plain": [
       "array(['all_times_nhist_numpeaks', 'all_times_nhist_peak1_bin',\n",
       "       'all_times_nhist_peak2_bin', 'all_times_nhist_peak3_bin',\n",
       "       'all_times_nhist_peak4_bin', 'all_times_nhist_peak_1_to_2',\n",
       "       'all_times_nhist_peak_1_to_3', 'all_times_nhist_peak_1_to_4',\n",
       "       'all_times_nhist_peak_2_to_3', 'all_times_nhist_peak_2_to_4',\n",
       "       'all_times_nhist_peak_3_to_4', 'all_times_nhist_peak_val',\n",
       "       'avg_double_to_single_step', 'cad_probs_1', 'cad_probs_10',\n",
       "       'cad_probs_20', 'cad_probs_30', 'cad_probs_40', 'cad_probs_50',\n",
       "       'cad_probs_100', 'cad_probs_500', 'cad_probs_1000',\n",
       "       'cad_probs_5000', 'cad_probs_10000', 'cad_probs_50000',\n",
       "       'cad_probs_100000', 'cad_probs_500000', 'cad_probs_1000000',\n",
       "       'cad_probs_5000000', 'cad_probs_10000000', 'cads_avg', 'cads_med',\n",
       "       'cads_std', 'med_double_to_single_step', 'n_epochs',\n",
       "       'std_double_to_single_step', 'total_time', 'percent_beyond_1_std',\n",
       "       'freq1_rel_phase2', 'freq1_rel_phase3', 'freq1_rel_phase4',\n",
       "       'freq2_rel_phase2', 'freq2_rel_phase3', 'freq2_rel_phase4',\n",
       "       'freq3_rel_phase2', 'freq3_rel_phase3', 'freq3_rel_phase4',\n",
       "       'freq_model_phi1_phi2'], dtype=object)"
      ]
     },
     "execution_count": 100,
     "metadata": {},
     "output_type": "execute_result"
    }
   ],
   "source": [
    "new_clf.feature_names_in_"
   ]
  },
  {
   "cell_type": "markdown",
   "id": "6bd55c11",
   "metadata": {},
   "source": [
    "And the relevant features are:"
   ]
  },
  {
   "cell_type": "code",
   "execution_count": 101,
   "id": "3db289c7",
   "metadata": {
    "ExecuteTime": {
     "end_time": "2023-03-02T12:39:31.408221Z",
     "start_time": "2023-03-02T12:39:31.402237Z"
    }
   },
   "outputs": [
    {
     "name": "stdout",
     "output_type": "stream",
     "text": [
      "F: all_times_nhist_numpeaks, imp: 0.00\n",
      "F: all_times_nhist_peak1_bin, imp: 0.05\n",
      "F: all_times_nhist_peak2_bin, imp: 0.05\n",
      "F: all_times_nhist_peak3_bin, imp: 0.00\n",
      "F: all_times_nhist_peak4_bin, imp: 0.04\n",
      "F: all_times_nhist_peak_1_to_2, imp: 0.00\n",
      "F: all_times_nhist_peak_1_to_3, imp: 0.06\n",
      "F: all_times_nhist_peak_1_to_4, imp: 0.00\n",
      "F: all_times_nhist_peak_2_to_3, imp: 0.00\n",
      "F: all_times_nhist_peak_2_to_4, imp: 0.00\n",
      "F: all_times_nhist_peak_3_to_4, imp: 0.00\n",
      "F: all_times_nhist_peak_val, imp: 0.03\n",
      "F: avg_double_to_single_step, imp: 0.03\n",
      "F: cad_probs_1, imp: 0.00\n",
      "F: cad_probs_10, imp: 0.00\n",
      "F: cad_probs_20, imp: 0.00\n",
      "F: cad_probs_30, imp: 0.00\n",
      "F: cad_probs_40, imp: 0.00\n",
      "F: cad_probs_50, imp: 0.00\n",
      "F: cad_probs_100, imp: 0.00\n",
      "F: cad_probs_500, imp: 0.00\n",
      "F: cad_probs_1000, imp: 0.00\n",
      "F: cad_probs_5000, imp: 0.00\n",
      "F: cad_probs_10000, imp: 0.00\n",
      "F: cad_probs_50000, imp: 0.06\n",
      "F: cad_probs_100000, imp: 0.00\n",
      "F: cad_probs_500000, imp: 0.00\n",
      "F: cad_probs_1000000, imp: 0.00\n",
      "F: cad_probs_5000000, imp: 0.00\n",
      "F: cad_probs_10000000, imp: 0.00\n",
      "F: cads_avg, imp: 0.00\n",
      "F: cads_med, imp: 0.09\n",
      "F: cads_std, imp: 0.00\n",
      "F: med_double_to_single_step, imp: 0.00\n",
      "F: n_epochs, imp: 0.03\n",
      "F: std_double_to_single_step, imp: 0.00\n",
      "F: total_time, imp: 0.00\n",
      "F: percent_beyond_1_std, imp: 0.03\n",
      "F: freq1_rel_phase2, imp: 0.09\n",
      "F: freq1_rel_phase3, imp: 0.05\n",
      "F: freq1_rel_phase4, imp: 0.03\n",
      "F: freq2_rel_phase2, imp: 0.07\n",
      "F: freq2_rel_phase3, imp: 0.08\n",
      "F: freq2_rel_phase4, imp: 0.08\n",
      "F: freq3_rel_phase2, imp: 0.00\n",
      "F: freq3_rel_phase3, imp: 0.00\n",
      "F: freq3_rel_phase4, imp: 0.09\n",
      "F: freq_model_phi1_phi2, imp: 0.04\n"
     ]
    }
   ],
   "source": [
    "for (a,b) in zip(new_clf.feature_names_in_, new_clf.feature_importances_):\n",
    "    print(\"F: %s, imp: %.2f\" %(a, b))"
   ]
  },
  {
   "cell_type": "code",
   "execution_count": 102,
   "id": "9208818d",
   "metadata": {
    "ExecuteTime": {
     "end_time": "2023-03-02T12:39:31.882069Z",
     "start_time": "2023-03-02T12:39:31.867109Z"
    }
   },
   "outputs": [
    {
     "data": {
      "text/plain": [
       "[('all_times_nhist_numpeaks', 0.0),\n",
       " ('all_times_nhist_peak1_bin', 0.053351732839712354),\n",
       " ('all_times_nhist_peak2_bin', 0.04745253255262875),\n",
       " ('all_times_nhist_peak3_bin', 0.0),\n",
       " ('all_times_nhist_peak4_bin', 0.0374735424302233),\n",
       " ('all_times_nhist_peak_1_to_2', 0.0),\n",
       " ('all_times_nhist_peak_1_to_3', 0.055159316528155804),\n",
       " ('all_times_nhist_peak_1_to_4', 0.0),\n",
       " ('all_times_nhist_peak_2_to_3', 0.0),\n",
       " ('all_times_nhist_peak_2_to_4', 0.0),\n",
       " ('all_times_nhist_peak_3_to_4', 0.0),\n",
       " ('all_times_nhist_peak_val', 0.031661495131439336),\n",
       " ('avg_double_to_single_step', 0.031647560604420526),\n",
       " ('cad_probs_1', 0.0),\n",
       " ('cad_probs_10', 0.0),\n",
       " ('cad_probs_20', 0.0),\n",
       " ('cad_probs_30', 0.0),\n",
       " ('cad_probs_40', 0.0),\n",
       " ('cad_probs_50', 0.0),\n",
       " ('cad_probs_100', 0.0),\n",
       " ('cad_probs_500', 0.0),\n",
       " ('cad_probs_1000', 0.0),\n",
       " ('cad_probs_5000', 0.0),\n",
       " ('cad_probs_10000', 0.0),\n",
       " ('cad_probs_50000', 0.059590721245794245),\n",
       " ('cad_probs_100000', 0.0),\n",
       " ('cad_probs_500000', 0.0),\n",
       " ('cad_probs_1000000', 0.0),\n",
       " ('cad_probs_5000000', 0.0),\n",
       " ('cad_probs_10000000', 0.0),\n",
       " ('cads_avg', 0.0),\n",
       " ('cads_med', 0.08915158085255727),\n",
       " ('cads_std', 0.0),\n",
       " ('med_double_to_single_step', 0.0),\n",
       " ('n_epochs', 0.03160098627192034),\n",
       " ('std_double_to_single_step', 0.0),\n",
       " ('total_time', 0.0),\n",
       " ('percent_beyond_1_std', 0.03114911737675533),\n",
       " ('freq1_rel_phase2', 0.09328862005145015),\n",
       " ('freq1_rel_phase3', 0.04902369268111699),\n",
       " ('freq1_rel_phase4', 0.028756505426662093),\n",
       " ('freq2_rel_phase2', 0.07167629217565205),\n",
       " ('freq2_rel_phase3', 0.08097533036757894),\n",
       " ('freq2_rel_phase4', 0.07631867650916775),\n",
       " ('freq3_rel_phase2', 0.0),\n",
       " ('freq3_rel_phase3', 0.0),\n",
       " ('freq3_rel_phase4', 0.08848368750165665),\n",
       " ('freq_model_phi1_phi2', 0.043238609453108104)]"
      ]
     },
     "execution_count": 102,
     "metadata": {},
     "output_type": "execute_result"
    }
   ],
   "source": [
    "feature_relevances = [(a, b) for (a, b) in zip(new_clf.feature_names_in_, new_clf.feature_importances_)]\n",
    "feature_relevances"
   ]
  },
  {
   "cell_type": "code",
   "execution_count": 103,
   "id": "4b825777",
   "metadata": {
    "ExecuteTime": {
     "end_time": "2023-03-02T12:39:32.474896Z",
     "start_time": "2023-03-02T12:39:32.466917Z"
    }
   },
   "outputs": [
    {
     "data": {
      "text/plain": [
       "[('freq1_rel_phase2', 0.09328862005145015),\n",
       " ('cads_med', 0.08915158085255727),\n",
       " ('freq3_rel_phase4', 0.08848368750165665),\n",
       " ('freq2_rel_phase3', 0.08097533036757894),\n",
       " ('freq2_rel_phase4', 0.07631867650916775),\n",
       " ('freq2_rel_phase2', 0.07167629217565205),\n",
       " ('cad_probs_50000', 0.059590721245794245),\n",
       " ('all_times_nhist_peak_1_to_3', 0.055159316528155804),\n",
       " ('all_times_nhist_peak1_bin', 0.053351732839712354),\n",
       " ('freq1_rel_phase3', 0.04902369268111699),\n",
       " ('all_times_nhist_peak2_bin', 0.04745253255262875),\n",
       " ('freq_model_phi1_phi2', 0.043238609453108104),\n",
       " ('all_times_nhist_peak4_bin', 0.0374735424302233),\n",
       " ('all_times_nhist_peak_val', 0.031661495131439336),\n",
       " ('avg_double_to_single_step', 0.031647560604420526),\n",
       " ('n_epochs', 0.03160098627192034),\n",
       " ('percent_beyond_1_std', 0.03114911737675533),\n",
       " ('freq1_rel_phase4', 0.028756505426662093)]"
      ]
     },
     "execution_count": 103,
     "metadata": {},
     "output_type": "execute_result"
    }
   ],
   "source": [
    "relevant_features = sorted([(elem[0], elem[1]) for elem in feature_relevances if elem[1] > 0.0],\n",
    "                           key=lambda x: x[1], reverse=True)\n",
    "relevant_features"
   ]
  },
  {
   "cell_type": "code",
   "execution_count": 104,
   "id": "2faa2a13",
   "metadata": {
    "ExecuteTime": {
     "end_time": "2023-03-02T12:39:33.554565Z",
     "start_time": "2023-03-02T12:39:33.538609Z"
    }
   },
   "outputs": [
    {
     "data": {
      "text/plain": [
       "0.9999999999999998"
      ]
     },
     "execution_count": 104,
     "metadata": {},
     "output_type": "execute_result"
    }
   ],
   "source": [
    "sum([elem[1] for elem in relevant_features])"
   ]
  },
  {
   "cell_type": "markdown",
   "id": "18f033fe",
   "metadata": {},
   "source": [
    "#### Tree visualization"
   ]
  },
  {
   "cell_type": "code",
   "execution_count": 107,
   "id": "949e40a4",
   "metadata": {
    "ExecuteTime": {
     "end_time": "2023-03-02T12:39:51.185356Z",
     "start_time": "2023-03-02T12:39:51.171394Z"
    }
   },
   "outputs": [
    {
     "data": {
      "text/plain": [
       "8"
      ]
     },
     "execution_count": 107,
     "metadata": {},
     "output_type": "execute_result"
    }
   ],
   "source": [
    "new_clf.get_depth()"
   ]
  },
  {
   "cell_type": "code",
   "execution_count": 108,
   "id": "3b553e57",
   "metadata": {
    "ExecuteTime": {
     "end_time": "2023-03-02T12:39:53.593696Z",
     "start_time": "2023-03-02T12:39:51.386465Z"
    }
   },
   "outputs": [
    {
     "data": {
      "image/png": "[encoded data removed]",
      "text/plain": [
       "<Figure size 4000x2000 with 1 Axes>"
      ]
     },
     "metadata": {},
     "output_type": "display_data"
    }
   ],
   "source": [
    "plt.figure(figsize=(40,20))\n",
    "plot_tree(new_clf, feature_names=new_clf.feature_names_in_, fontsize=10);\n",
    "#plt.savefig(DECISION_TREE_FIG_OUT, format='jpg')"
   ]
  },
  {
   "cell_type": "code",
   "execution_count": 110,
   "id": "6bde4864",
   "metadata": {
    "ExecuteTime": {
     "end_time": "2023-03-02T12:40:15.953687Z",
     "start_time": "2023-03-02T12:40:13.252915Z"
    }
   },
   "outputs": [
    {
     "data": {
      "image/png": "[encoded data removed]",
      "text/plain": [
       "<Figure size 4000x2000 with 1 Axes>"
      ]
     },
     "metadata": {},
     "output_type": "display_data"
    }
   ],
   "source": [
    "plt.figure(figsize=(40,20))\n",
    "plot_tree(new_clf, feature_names=new_clf.feature_names_in_, fontsize=10)\n",
    "plt.savefig(DECISION_TREE_FIG_OUT, format='jpg')"
   ]
  },
  {
   "cell_type": "markdown",
   "id": "eac26088",
   "metadata": {},
   "source": [
    "#### Decision paths for pulsating detections"
   ]
  },
  {
   "cell_type": "markdown",
   "id": "8dbdd5cc",
   "metadata": {},
   "source": [
    "##### Training/test sample"
   ]
  },
  {
   "cell_type": "code",
   "execution_count": 111,
   "id": "dbfb6f37",
   "metadata": {
    "ExecuteTime": {
     "end_time": "2023-03-02T12:40:17.530576Z",
     "start_time": "2023-03-02T12:40:17.500667Z"
    },
    "scrolled": false
   },
   "outputs": [
    {
     "name": "stdout",
     "output_type": "stream",
     "text": [
      "DECISION PATHS FOR TRAINING/TEST SAMPLE STARS DETECTED AS PULSATING:\n",
      "\n",
      "Rules used to predict sample 0, Star-00573:\n",
      "\tdecision node 0 : (X_tr_pulsating[0, freq2_rel_phase4 (43)] = -1.6698766039754052) <= -1.5843476057052612)\n",
      "\tdecision node 1 : (X_tr_pulsating[0, all_times_nhist_peak_1_to_3 (6)] = 0.1969167498285861) > -0.28786836564540863)\n",
      "\n",
      "Rules used to predict sample 1, Star-00301:\n",
      "\tdecision node 0 : (X_tr_pulsating[1, freq2_rel_phase4 (43)] = -1.661799791884184) <= -1.5843476057052612)\n",
      "\tdecision node 1 : (X_tr_pulsating[1, all_times_nhist_peak_1_to_3 (6)] = 0.5200843605750554) > -0.28786836564540863)\n",
      "\n",
      "Rules used to predict sample 2, Star-00004:\n",
      "\tdecision node 0 : (X_tr_pulsating[2, freq2_rel_phase4 (43)] = -1.5880156871533215) <= -1.5843476057052612)\n",
      "\tdecision node 1 : (X_tr_pulsating[2, all_times_nhist_peak_1_to_3 (6)] = -0.2878346662911179) > -0.28786836564540863)\n",
      "\n",
      "Rules used to predict sample 3, Star-00388:\n",
      "\tdecision node 0 : (X_tr_pulsating[3, freq2_rel_phase4 (43)] = -1.5901612985629818) <= -1.5843476057052612)\n",
      "\tdecision node 1 : (X_tr_pulsating[3, all_times_nhist_peak_1_to_3 (6)] = -0.1106765182313065) > -0.28786836564540863)\n",
      "\n",
      "Rules used to predict sample 4, Star-00438:\n",
      "\tdecision node 0 : (X_tr_pulsating[4, freq2_rel_phase4 (43)] = -1.6919946133531292) <= -1.5843476057052612)\n",
      "\tdecision node 1 : (X_tr_pulsating[4, all_times_nhist_peak_1_to_3 (6)] = -0.1801121293756283) > -0.28786836564540863)\n",
      "\n",
      "Rules used to predict sample 5, Star-00185:\n",
      "\tdecision node 0 : (X_tr_pulsating[5, freq2_rel_phase4 (43)] = -1.6412039443739472) <= -1.5843476057052612)\n",
      "\tdecision node 1 : (X_tr_pulsating[5, all_times_nhist_peak_1_to_3 (6)] = -0.2676366906194636) > -0.28786836564540863)\n",
      "\n",
      "Rules used to predict sample 6, Star-00609:\n",
      "\tdecision node 0 : (X_tr_pulsating[6, freq2_rel_phase4 (43)] = -1.6509368264839654) <= -1.5843476057052612)\n",
      "\tdecision node 1 : (X_tr_pulsating[6, all_times_nhist_peak_1_to_3 (6)] = 0.3815839559694258) > -0.28786836564540863)\n",
      "\n",
      "Rules used to predict sample 7, Star-00213:\n",
      "\tdecision node 0 : (X_tr_pulsating[7, freq2_rel_phase4 (43)] = -1.5863506982003144) <= -1.5843476057052612)\n",
      "\tdecision node 1 : (X_tr_pulsating[7, all_times_nhist_peak_1_to_3 (6)] = 0.1039298429628566) > -0.28786836564540863)\n",
      "\n",
      "Rules used to predict sample 8, Star-00077:\n",
      "\tdecision node 0 : (X_tr_pulsating[8, freq2_rel_phase4 (43)] = -1.6065646195136143) <= -1.5843476057052612)\n",
      "\tdecision node 1 : (X_tr_pulsating[8, all_times_nhist_peak_1_to_3 (6)] = 0.0353329444553513) > -0.28786836564540863)\n",
      "\n",
      "Rules used to predict sample 9, Star-00356:\n",
      "\tdecision node 0 : (X_tr_pulsating[9, freq2_rel_phase4 (43)] = -1.638921547416477) <= -1.5843476057052612)\n",
      "\tdecision node 1 : (X_tr_pulsating[9, all_times_nhist_peak_1_to_3 (6)] = 0.8432519713215246) > -0.28786836564540863)\n",
      "\n",
      "Rules used to predict sample 10, Star-00360:\n",
      "\tdecision node 0 : (X_tr_pulsating[10, freq2_rel_phase4 (43)] = -1.622769525469767) <= -1.5843476057052612)\n",
      "\tdecision node 1 : (X_tr_pulsating[10, all_times_nhist_peak_1_to_3 (6)] = 0.8432519713215246) > -0.28786836564540863)\n",
      "\n",
      "Rules used to predict sample 11, Star-00801:\n",
      "\tdecision node 0 : (X_tr_pulsating[11, freq2_rel_phase4 (43)] = -1.6890028745286163) <= -1.5843476057052612)\n",
      "\tdecision node 1 : (X_tr_pulsating[11, all_times_nhist_peak_1_to_3 (6)] = 0.2512744355071399) > -0.28786836564540863)\n",
      "\n",
      "Rules used to predict sample 12, Star-00921:\n",
      "\tdecision node 0 : (X_tr_pulsating[12, freq2_rel_phase4 (43)] = -1.5878088272677149) <= -1.5843476057052612)\n",
      "\tdecision node 1 : (X_tr_pulsating[12, all_times_nhist_peak_1_to_3 (6)] = 0.8432519713215246) > -0.28786836564540863)\n",
      "\n",
      "Rules used to predict sample 13, Star-00248:\n",
      "\tdecision node 0 : (X_tr_pulsating[13, freq2_rel_phase4 (43)] = -1.6621746641388924) <= -1.5843476057052612)\n",
      "\tdecision node 1 : (X_tr_pulsating[13, all_times_nhist_peak_1_to_3 (6)] = -0.2878346662911179) > -0.28786836564540863)\n",
      "\n",
      "Rules used to predict sample 14, Star-00188:\n",
      "\tdecision node 0 : (X_tr_pulsating[14, freq2_rel_phase4 (43)] = -1.6951783171602075) <= -1.5843476057052612)\n",
      "\tdecision node 1 : (X_tr_pulsating[14, all_times_nhist_peak_1_to_3 (6)] = 0.0353329444553513) > -0.28786836564540863)\n"
     ]
    }
   ],
   "source": [
    "# Modified from: https://scikit-learn.org/stable/auto_examples/tree/plot_unveil_tree_structure.html\n",
    "print(\"DECISION PATHS FOR TRAINING/TEST SAMPLE STARS DETECTED AS PULSATING:\")\n",
    "\n",
    "n_nodes = new_clf.tree_.node_count\n",
    "children_left = new_clf.tree_.children_left\n",
    "children_right = new_clf.tree_.children_right\n",
    "feature = new_clf.tree_.feature\n",
    "threshold = new_clf.tree_.threshold\n",
    "\n",
    "feature_names = new_clf.feature_names_in_\n",
    "\n",
    "X_tr_pulsating = train_set.loc[tr_predictions['Pulsation predicted'] == 1, rel_features] \\\n",
    "    .reset_index(drop=True)\n",
    "star_names = tr_load.loc[tr_predictions['Pulsation predicted'] == 1, ['ID']] \\\n",
    "    .reset_index(drop=True)\n",
    "\n",
    "node_indicator = new_clf.decision_path(X_tr_pulsating)\n",
    "leaf_id = new_clf.apply(X_tr_pulsating)\n",
    "\n",
    "for sample_id in range(0, len(X_tr_pulsating)):\n",
    "    # obtain ids of the nodes `sample_id` goes through, i.e., row `sample_id`\n",
    "    node_index = node_indicator.indices[\n",
    "        node_indicator.indptr[sample_id] : node_indicator.indptr[sample_id + 1]\n",
    "    ]\n",
    "\n",
    "    #print(\"Rules used to predict sample {id}:\\n\".format(id=sample_id))\n",
    "    print(\"\\nRules used to predict sample {id}, {star_id}:\" \\\n",
    "          .format(id=sample_id, star_id=star_names.loc[sample_id, 'ID']))\n",
    "    for node_id in node_index:\n",
    "        # continue to the next node if it is a leaf node\n",
    "        if leaf_id[sample_id] == node_id:\n",
    "            continue\n",
    "\n",
    "        # check if value of the split feature for sample 0 is below threshold\n",
    "        if X_tr_pulsating.iloc[sample_id, feature[node_id]] <= threshold[node_id]:\n",
    "            threshold_sign = \"<=\"\n",
    "        else:\n",
    "            threshold_sign = \">\"\n",
    "\n",
    "        print(\n",
    "            \"\\tdecision node {node} : (X_tr_pulsating[{sample}, {f_name} ({feature})] = {value}) \"\n",
    "            \"{inequality} {threshold})\".format(\n",
    "                node=node_id,\n",
    "                sample=sample_id,\n",
    "                feature=feature[node_id],\n",
    "                f_name=feature_names[feature[node_id]],\n",
    "                value=X_tr_pulsating.iloc[sample_id, feature[node_id]],\n",
    "                inequality=threshold_sign,\n",
    "                threshold=threshold[node_id],\n",
    "            )\n",
    "        )"
   ]
  },
  {
   "cell_type": "markdown",
   "id": "60f96167",
   "metadata": {},
   "source": [
    "##### Validation sample"
   ]
  },
  {
   "cell_type": "code",
   "execution_count": 112,
   "id": "58db2c98",
   "metadata": {
    "ExecuteTime": {
     "end_time": "2023-03-02T12:40:22.073480Z",
     "start_time": "2023-03-02T12:40:22.050542Z"
    },
    "scrolled": false
   },
   "outputs": [
    {
     "name": "stdout",
     "output_type": "stream",
     "text": [
      "DECISION PATHS FOR VALIDATION SAMPLE STARS DETECTED AS PULSATING:\n",
      "\n",
      "Rules used to predict sample 0, Star-00636:\n",
      "\tdecision node 0 : (X_val_pulsating[0, freq2_rel_phase4 (43)] = -1.6333741848800336) <= -1.5843476057052612)\n",
      "\tdecision node 1 : (X_val_pulsating[0, all_times_nhist_peak_1_to_3 (6)] = 1.651170998187698) > -0.28786836564540863)\n",
      "\n",
      "Rules used to predict sample 1, Star-00383:\n",
      "\tdecision node 0 : (X_val_pulsating[1, freq2_rel_phase4 (43)] = -1.6889889262931743) <= -1.5843476057052612)\n",
      "\tdecision node 1 : (X_val_pulsating[1, all_times_nhist_peak_1_to_3 (6)] = 1.4274395753632192) > -0.28786836564540863)\n",
      "\n",
      "Rules used to predict sample 2, Star-00292:\n",
      "\tdecision node 0 : (X_val_pulsating[2, freq2_rel_phase4 (43)] = -1.6387512280802614) <= -1.5843476057052612)\n",
      "\tdecision node 1 : (X_val_pulsating[2, all_times_nhist_peak_1_to_3 (6)] = -0.2878346662911179) > -0.28786836564540863)\n"
     ]
    }
   ],
   "source": [
    "# Modified from: https://scikit-learn.org/stable/auto_examples/tree/plot_unveil_tree_structure.html\n",
    "print(\"DECISION PATHS FOR VALIDATION SAMPLE STARS DETECTED AS PULSATING:\")\n",
    "\n",
    "n_nodes = new_clf.tree_.node_count\n",
    "children_left = new_clf.tree_.children_left\n",
    "children_right = new_clf.tree_.children_right\n",
    "feature = new_clf.tree_.feature\n",
    "threshold = new_clf.tree_.threshold\n",
    "\n",
    "feature_names = new_clf.feature_names_in_\n",
    "\n",
    "X_val_pulsating = val.loc[val_predictions['Pulsation predicted'] == 1, rel_features] \\\n",
    "    .reset_index(drop=True)\n",
    "star_names = val_load.loc[val_predictions['Pulsation predicted'] == 1, ['ID']] \\\n",
    "    .reset_index(drop=True)\n",
    "\n",
    "node_indicator = new_clf.decision_path(X_val_pulsating)\n",
    "leaf_id = new_clf.apply(X_val_pulsating)\n",
    "\n",
    "for sample_id in range(0, len(X_val_pulsating)):\n",
    "    # obtain ids of the nodes `sample_id` goes through, i.e., row `sample_id`\n",
    "    node_index = node_indicator.indices[\n",
    "        node_indicator.indptr[sample_id] : node_indicator.indptr[sample_id + 1]\n",
    "    ]\n",
    "\n",
    "    #print(\"Rules used to predict sample {id}:\\n\".format(id=sample_id))\n",
    "    print(\"\\nRules used to predict sample {id}, {star_id}:\" \\\n",
    "          .format(id=sample_id, star_id=star_names.loc[sample_id, 'ID']))\n",
    "    for node_id in node_index:\n",
    "        # continue to the next node if it is a leaf node\n",
    "        if leaf_id[sample_id] == node_id:\n",
    "            continue\n",
    "\n",
    "        # check if value of the split feature for sample 0 is below threshold\n",
    "        if X_val_pulsating.iloc[sample_id, feature[node_id]] <= threshold[node_id]:\n",
    "            threshold_sign = \"<=\"\n",
    "        else:\n",
    "            threshold_sign = \">\"\n",
    "\n",
    "        print(\n",
    "            \"\\tdecision node {node} : (X_val_pulsating[{sample}, {f_name} ({feature})] = {value}) \"\n",
    "            \"{inequality} {threshold})\".format(\n",
    "                node=node_id,\n",
    "                sample=sample_id,\n",
    "                feature=feature[node_id],\n",
    "                f_name=feature_names[feature[node_id]],\n",
    "                value=X_val_pulsating.iloc[sample_id, feature[node_id]],\n",
    "                inequality=threshold_sign,\n",
    "                threshold=threshold[node_id],\n",
    "            )\n",
    "        )"
   ]
  },
  {
   "cell_type": "markdown",
   "id": "0abd2af6",
   "metadata": {},
   "source": [
    "##### CARMENES sample"
   ]
  },
  {
   "cell_type": "code",
   "execution_count": 113,
   "id": "5081898a",
   "metadata": {
    "ExecuteTime": {
     "end_time": "2023-03-02T12:40:24.388589Z",
     "start_time": "2023-03-02T12:40:24.370638Z"
    },
    "scrolled": false
   },
   "outputs": [
    {
     "name": "stdout",
     "output_type": "stream",
     "text": [
      "DECISION PATHS FOR CARMENES SAMPLE STARS DETECTED AS PULSATING:\n",
      "\n",
      "Rules used to predict sample 0, J16581+257:\n",
      "\tdecision node 0 : (X_carm_pulsating[0, freq2_rel_phase4 (43)] = -1.5975389699479376) <= -1.5843476057052612)\n",
      "\tdecision node 1 : (X_carm_pulsating[0, all_times_nhist_peak_1_to_3 (6)] = 0.6070910250067971) > -0.28786836564540863)\n",
      "\n",
      "Rules used to predict sample 1, J08126-215:\n",
      "\tdecision node 0 : (X_carm_pulsating[1, freq2_rel_phase4 (43)] = -1.6185769703828363) <= -1.5843476057052612)\n",
      "\tdecision node 1 : (X_carm_pulsating[1, all_times_nhist_peak_1_to_3 (6)] = -0.2676366906194636) > -0.28786836564540863)\n"
     ]
    }
   ],
   "source": [
    "# Modified from: https://scikit-learn.org/stable/auto_examples/tree/plot_unveil_tree_structure.html\n",
    "print(\"DECISION PATHS FOR CARMENES SAMPLE STARS DETECTED AS PULSATING:\")\n",
    "\n",
    "n_nodes = new_clf.tree_.node_count\n",
    "children_left = new_clf.tree_.children_left\n",
    "children_right = new_clf.tree_.children_right\n",
    "feature = new_clf.tree_.feature\n",
    "threshold = new_clf.tree_.threshold\n",
    "\n",
    "feature_names = new_clf.feature_names_in_\n",
    "\n",
    "X_carm_pulsating = carm.loc[carm_predictions['Pulsation predicted'] == 1, rel_features] \\\n",
    "    .reset_index(drop=True)\n",
    "star_names = carm.loc[carm_predictions['Pulsation predicted'] == 1, ['Karmn']] \\\n",
    "    .reset_index(drop=True)\n",
    "\n",
    "node_indicator = new_clf.decision_path(X_carm_pulsating)\n",
    "leaf_id = new_clf.apply(X_carm_pulsating)\n",
    "\n",
    "for sample_id in range(0, len(X_carm_pulsating)):\n",
    "    # obtain ids of the nodes `sample_id` goes through, i.e., row `sample_id`\n",
    "    node_index = node_indicator.indices[\n",
    "        node_indicator.indptr[sample_id] : node_indicator.indptr[sample_id + 1]\n",
    "    ]\n",
    "\n",
    "    #print(\"Rules used to predict sample {id}:\\n\".format(id=sample_id))\n",
    "    print(\"\\nRules used to predict sample {id}, {star_id}:\" \\\n",
    "          .format(id=sample_id, star_id=star_names.loc[sample_id, 'Karmn']))\n",
    "    for node_id in node_index:\n",
    "        # continue to the next node if it is a leaf node\n",
    "        if leaf_id[sample_id] == node_id:\n",
    "            continue\n",
    "\n",
    "        # check if value of the split feature for sample 0 is below threshold\n",
    "        if X_carm_pulsating.iloc[sample_id, feature[node_id]] <= threshold[node_id]:\n",
    "            threshold_sign = \"<=\"\n",
    "        else:\n",
    "            threshold_sign = \">\"\n",
    "\n",
    "        print(\n",
    "            \"\\tdecision node {node} : (X_carm_pulsating[{sample}, {f_name} ({feature})] = {value}) \"\n",
    "            \"{inequality} {threshold})\".format(\n",
    "                node=node_id,\n",
    "                sample=sample_id,\n",
    "                feature=feature[node_id],\n",
    "                f_name=feature_names[feature[node_id]],\n",
    "                value=X_carm_pulsating.iloc[sample_id, feature[node_id]],\n",
    "                inequality=threshold_sign,\n",
    "                threshold=threshold[node_id],\n",
    "            )\n",
    "        )"
   ]
  },
  {
   "cell_type": "markdown",
   "id": "141cc553",
   "metadata": {},
   "source": [
    "**OBSERVATION:** Why all the decisions for pulsating stars goes always throgh the same two nodes? Specially in the case of the training / test sample, as that seems to generate other paths for pulsating stars that are untouched."
   ]
  },
  {
   "cell_type": "markdown",
   "id": "eb7044b4",
   "metadata": {},
   "source": [
    "##### Investigate several true pulsators misclassified"
   ]
  },
  {
   "cell_type": "code",
   "execution_count": 114,
   "id": "37031d8f",
   "metadata": {
    "ExecuteTime": {
     "end_time": "2023-03-02T12:40:27.375701Z",
     "start_time": "2023-03-02T12:40:27.370716Z"
    }
   },
   "outputs": [
    {
     "name": "stdout",
     "output_type": "stream",
     "text": [
      "['ID', 'Pulsating', 'frequency', 'amplitudeRV', 'offsetRV', 'refepochRV', 'phase', 'all_times_nhist_numpeaks', 'all_times_nhist_peak1_bin', 'all_times_nhist_peak2_bin', 'all_times_nhist_peak3_bin', 'all_times_nhist_peak4_bin', 'all_times_nhist_peak_1_to_2', 'all_times_nhist_peak_1_to_3', 'all_times_nhist_peak_1_to_4', 'all_times_nhist_peak_2_to_3', 'all_times_nhist_peak_2_to_4', 'all_times_nhist_peak_3_to_4', 'all_times_nhist_peak_val', 'avg_double_to_single_step', 'avg_err', 'avgt', 'cad_probs_1', 'cad_probs_10', 'cad_probs_20', 'cad_probs_30', 'cad_probs_40', 'cad_probs_50', 'cad_probs_100', 'cad_probs_500', 'cad_probs_1000', 'cad_probs_5000', 'cad_probs_10000', 'cad_probs_50000', 'cad_probs_100000', 'cad_probs_500000', 'cad_probs_1000000', 'cad_probs_5000000', 'cad_probs_10000000', 'cads_avg', 'cads_med', 'cads_std', 'mean', 'med_double_to_single_step', 'med_err', 'n_epochs', 'std_double_to_single_step', 'std_err', 'total_time', 'amplitude', 'flux_percentile_ratio_mid20', 'flux_percentile_ratio_mid35', 'flux_percentile_ratio_mid50', 'flux_percentile_ratio_mid65', 'flux_percentile_ratio_mid80', 'max_slope', 'maximum', 'median', 'median_absolute_deviation', 'minimum', 'percent_amplitude', 'percent_beyond_1_std', 'percent_close_to_median', 'percent_difference_flux_percentile', 'period_fast', 'qso_log_chi2_qsonu', 'qso_log_chi2nuNULL_chi2nu', 'skew', 'std', 'stetson_j', 'stetson_k', 'weighted_average', 'fold2P_slope_10percentile', 'fold2P_slope_90percentile', 'freq1_amplitude1', 'freq1_amplitude2', 'freq1_amplitude3', 'freq1_amplitude4', 'freq1_freq', 'freq1_lambda', 'freq1_rel_phase2', 'freq1_rel_phase3', 'freq1_rel_phase4', 'freq1_signif', 'freq2_amplitude1', 'freq2_amplitude2', 'freq2_amplitude3', 'freq2_amplitude4', 'freq2_freq', 'freq2_rel_phase2', 'freq2_rel_phase3', 'freq2_rel_phase4', 'freq3_amplitude1', 'freq3_amplitude2', 'freq3_amplitude3', 'freq3_amplitude4', 'freq3_freq', 'freq3_rel_phase2', 'freq3_rel_phase3', 'freq3_rel_phase4', 'freq_amplitude_ratio_21', 'freq_amplitude_ratio_31', 'freq_frequency_ratio_21', 'freq_frequency_ratio_31', 'freq_model_max_delta_mags', 'freq_model_min_delta_mags', 'freq_model_phi1_phi2', 'freq_n_alias', 'freq_signif_ratio_21', 'freq_signif_ratio_31', 'freq_varrat', 'freq_y_offset', 'linear_trend', 'medperc90_2p_p', 'p2p_scatter_2praw', 'p2p_scatter_over_mad', 'p2p_scatter_pfold_over_mad', 'p2p_ssqr_diff_over_var', 'scatter_res_raw']\n"
     ]
    }
   ],
   "source": [
    "print(list(tr_load.columns))"
   ]
  },
  {
   "cell_type": "code",
   "execution_count": 115,
   "id": "04567eb9",
   "metadata": {
    "ExecuteTime": {
     "end_time": "2023-03-02T12:40:28.110984Z",
     "start_time": "2023-03-02T12:40:28.099015Z"
    }
   },
   "outputs": [],
   "source": [
    "mask = (tr_load['freq2_rel_phase4'] >= -1.584) & \\\n",
    "    (tr_load['all_times_nhist_peak4_bin'] >= -0.631) & \\\n",
    "    (tr_load['freq1_rel_phase3'] <= 0.278) & \\\n",
    "    (tr_load['all_times_nhist_peak2_bin'] >= -1.231) & \\\n",
    "    (tr_load['freq1_rel_phase2'] >= -0.604)\n",
    "\n"
   ]
  },
  {
   "cell_type": "code",
   "execution_count": 116,
   "id": "a350d1fd",
   "metadata": {
    "ExecuteTime": {
     "end_time": "2023-03-02T12:40:28.889966Z",
     "start_time": "2023-03-02T12:40:28.867038Z"
    }
   },
   "outputs": [
    {
     "data": {
      "text/html": [
       "<div>\n",
       "<style scoped>\n",
       "    .dataframe tbody tr th:only-of-type {\n",
       "        vertical-align: middle;\n",
       "    }\n",
       "\n",
       "    .dataframe tbody tr th {\n",
       "        vertical-align: top;\n",
       "    }\n",
       "\n",
       "    .dataframe thead th {\n",
       "        text-align: right;\n",
       "    }\n",
       "</style>\n",
       "<table border=\"1\" class=\"dataframe\">\n",
       "  <thead>\n",
       "    <tr style=\"text-align: right;\">\n",
       "      <th></th>\n",
       "      <th>ID</th>\n",
       "      <th>Pulsating</th>\n",
       "      <th>Pulsation predicted</th>\n",
       "      <th>Pulsation probability</th>\n",
       "    </tr>\n",
       "  </thead>\n",
       "  <tbody>\n",
       "    <tr>\n",
       "      <th>1</th>\n",
       "      <td>Star-00123</td>\n",
       "      <td>1</td>\n",
       "      <td>0</td>\n",
       "      <td>0.266667</td>\n",
       "    </tr>\n",
       "    <tr>\n",
       "      <th>3</th>\n",
       "      <td>Star-00708</td>\n",
       "      <td>0</td>\n",
       "      <td>0</td>\n",
       "      <td>0.000000</td>\n",
       "    </tr>\n",
       "    <tr>\n",
       "      <th>5</th>\n",
       "      <td>Star-00137</td>\n",
       "      <td>0</td>\n",
       "      <td>0</td>\n",
       "      <td>0.266667</td>\n",
       "    </tr>\n",
       "    <tr>\n",
       "      <th>10</th>\n",
       "      <td>Star-00057</td>\n",
       "      <td>0</td>\n",
       "      <td>0</td>\n",
       "      <td>0.266667</td>\n",
       "    </tr>\n",
       "    <tr>\n",
       "      <th>13</th>\n",
       "      <td>Star-00611</td>\n",
       "      <td>0</td>\n",
       "      <td>0</td>\n",
       "      <td>0.096774</td>\n",
       "    </tr>\n",
       "    <tr>\n",
       "      <th>...</th>\n",
       "      <td>...</td>\n",
       "      <td>...</td>\n",
       "      <td>...</td>\n",
       "      <td>...</td>\n",
       "    </tr>\n",
       "    <tr>\n",
       "      <th>733</th>\n",
       "      <td>Star-00499</td>\n",
       "      <td>1</td>\n",
       "      <td>0</td>\n",
       "      <td>0.363636</td>\n",
       "    </tr>\n",
       "    <tr>\n",
       "      <th>736</th>\n",
       "      <td>Star-00682</td>\n",
       "      <td>0</td>\n",
       "      <td>0</td>\n",
       "      <td>0.009009</td>\n",
       "    </tr>\n",
       "    <tr>\n",
       "      <th>742</th>\n",
       "      <td>Star-00942</td>\n",
       "      <td>0</td>\n",
       "      <td>0</td>\n",
       "      <td>0.009009</td>\n",
       "    </tr>\n",
       "    <tr>\n",
       "      <th>743</th>\n",
       "      <td>Star-00067</td>\n",
       "      <td>0</td>\n",
       "      <td>0</td>\n",
       "      <td>0.009009</td>\n",
       "    </tr>\n",
       "    <tr>\n",
       "      <th>745</th>\n",
       "      <td>Star-00795</td>\n",
       "      <td>0</td>\n",
       "      <td>0</td>\n",
       "      <td>0.009009</td>\n",
       "    </tr>\n",
       "  </tbody>\n",
       "</table>\n",
       "<p>179 rows × 4 columns</p>\n",
       "</div>"
      ],
      "text/plain": [
       "             ID  Pulsating  Pulsation predicted  Pulsation probability\n",
       "1    Star-00123          1                    0               0.266667\n",
       "3    Star-00708          0                    0               0.000000\n",
       "5    Star-00137          0                    0               0.266667\n",
       "10   Star-00057          0                    0               0.266667\n",
       "13   Star-00611          0                    0               0.096774\n",
       "..          ...        ...                  ...                    ...\n",
       "733  Star-00499          1                    0               0.363636\n",
       "736  Star-00682          0                    0               0.009009\n",
       "742  Star-00942          0                    0               0.009009\n",
       "743  Star-00067          0                    0               0.009009\n",
       "745  Star-00795          0                    0               0.009009\n",
       "\n",
       "[179 rows x 4 columns]"
      ]
     },
     "execution_count": 116,
     "metadata": {},
     "output_type": "execute_result"
    }
   ],
   "source": [
    "tr_predictions[mask]"
   ]
  },
  {
   "cell_type": "code",
   "execution_count": 117,
   "id": "39e75634",
   "metadata": {
    "ExecuteTime": {
     "end_time": "2023-03-02T12:40:30.833442Z",
     "start_time": "2023-03-02T12:40:30.819481Z"
    }
   },
   "outputs": [
    {
     "data": {
      "text/plain": [
       "750"
      ]
     },
     "execution_count": 117,
     "metadata": {},
     "output_type": "execute_result"
    }
   ],
   "source": [
    "len(tr_predictions)"
   ]
  },
  {
   "cell_type": "code",
   "execution_count": 118,
   "id": "339d1c0f",
   "metadata": {
    "ExecuteTime": {
     "end_time": "2023-03-02T12:40:31.566547Z",
     "start_time": "2023-03-02T12:40:31.547605Z"
    }
   },
   "outputs": [
    {
     "data": {
      "text/html": [
       "<div>\n",
       "<style scoped>\n",
       "    .dataframe tbody tr th:only-of-type {\n",
       "        vertical-align: middle;\n",
       "    }\n",
       "\n",
       "    .dataframe tbody tr th {\n",
       "        vertical-align: top;\n",
       "    }\n",
       "\n",
       "    .dataframe thead th {\n",
       "        text-align: right;\n",
       "    }\n",
       "</style>\n",
       "<table border=\"1\" class=\"dataframe\">\n",
       "  <thead>\n",
       "    <tr style=\"text-align: right;\">\n",
       "      <th></th>\n",
       "      <th>ID</th>\n",
       "      <th>Pulsating</th>\n",
       "      <th>Pulsation predicted</th>\n",
       "      <th>Pulsation probability</th>\n",
       "    </tr>\n",
       "  </thead>\n",
       "  <tbody>\n",
       "    <tr>\n",
       "      <th>1</th>\n",
       "      <td>Star-00123</td>\n",
       "      <td>1</td>\n",
       "      <td>0</td>\n",
       "      <td>0.266667</td>\n",
       "    </tr>\n",
       "    <tr>\n",
       "      <th>3</th>\n",
       "      <td>Star-00708</td>\n",
       "      <td>0</td>\n",
       "      <td>0</td>\n",
       "      <td>0.000000</td>\n",
       "    </tr>\n",
       "  </tbody>\n",
       "</table>\n",
       "</div>"
      ],
      "text/plain": [
       "           ID  Pulsating  Pulsation predicted  Pulsation probability\n",
       "1  Star-00123          1                    0               0.266667\n",
       "3  Star-00708          0                    0               0.000000"
      ]
     },
     "execution_count": 118,
     "metadata": {},
     "output_type": "execute_result"
    }
   ],
   "source": [
    "tr_predictions.loc[[1,3], :]"
   ]
  },
  {
   "cell_type": "code",
   "execution_count": 119,
   "id": "fb65dc76",
   "metadata": {
    "ExecuteTime": {
     "end_time": "2023-03-02T12:40:56.256423Z",
     "start_time": "2023-03-02T12:40:56.251437Z"
    }
   },
   "outputs": [
    {
     "data": {
      "text/plain": [
       "750"
      ]
     },
     "execution_count": 119,
     "metadata": {},
     "output_type": "execute_result"
    }
   ],
   "source": [
    "len(train_set)"
   ]
  },
  {
   "cell_type": "code",
   "execution_count": 120,
   "id": "5ce5c0fa",
   "metadata": {
    "ExecuteTime": {
     "end_time": "2023-03-02T12:40:57.861787Z",
     "start_time": "2023-03-02T12:40:57.835830Z"
    }
   },
   "outputs": [
    {
     "data": {
      "text/html": [
       "<div>\n",
       "<style scoped>\n",
       "    .dataframe tbody tr th:only-of-type {\n",
       "        vertical-align: middle;\n",
       "    }\n",
       "\n",
       "    .dataframe tbody tr th {\n",
       "        vertical-align: top;\n",
       "    }\n",
       "\n",
       "    .dataframe thead th {\n",
       "        text-align: right;\n",
       "    }\n",
       "</style>\n",
       "<table border=\"1\" class=\"dataframe\">\n",
       "  <thead>\n",
       "    <tr style=\"text-align: right;\">\n",
       "      <th></th>\n",
       "      <th>all_times_nhist_numpeaks</th>\n",
       "      <th>all_times_nhist_peak1_bin</th>\n",
       "      <th>all_times_nhist_peak2_bin</th>\n",
       "      <th>all_times_nhist_peak3_bin</th>\n",
       "      <th>all_times_nhist_peak4_bin</th>\n",
       "      <th>all_times_nhist_peak_1_to_2</th>\n",
       "      <th>all_times_nhist_peak_1_to_3</th>\n",
       "      <th>all_times_nhist_peak_1_to_4</th>\n",
       "      <th>all_times_nhist_peak_2_to_3</th>\n",
       "      <th>all_times_nhist_peak_2_to_4</th>\n",
       "      <th>...</th>\n",
       "      <th>freq1_rel_phase2</th>\n",
       "      <th>freq1_rel_phase3</th>\n",
       "      <th>freq1_rel_phase4</th>\n",
       "      <th>freq2_rel_phase2</th>\n",
       "      <th>freq2_rel_phase3</th>\n",
       "      <th>freq2_rel_phase4</th>\n",
       "      <th>freq3_rel_phase2</th>\n",
       "      <th>freq3_rel_phase3</th>\n",
       "      <th>freq3_rel_phase4</th>\n",
       "      <th>freq_model_phi1_phi2</th>\n",
       "    </tr>\n",
       "  </thead>\n",
       "  <tbody>\n",
       "    <tr>\n",
       "      <th>1</th>\n",
       "      <td>-1.626729</td>\n",
       "      <td>1.911247</td>\n",
       "      <td>-0.740748</td>\n",
       "      <td>0.691384</td>\n",
       "      <td>0.168331</td>\n",
       "      <td>1.522002</td>\n",
       "      <td>1.166420</td>\n",
       "      <td>0.157675</td>\n",
       "      <td>0.019744</td>\n",
       "      <td>-0.192345</td>\n",
       "      <td>...</td>\n",
       "      <td>1.532902</td>\n",
       "      <td>-1.22435</td>\n",
       "      <td>0.710232</td>\n",
       "      <td>-1.272791</td>\n",
       "      <td>1.617586</td>\n",
       "      <td>1.392776</td>\n",
       "      <td>0.260283</td>\n",
       "      <td>0.708876</td>\n",
       "      <td>1.030413</td>\n",
       "      <td>0.400968</td>\n",
       "    </tr>\n",
       "    <tr>\n",
       "      <th>3</th>\n",
       "      <td>-0.039057</td>\n",
       "      <td>1.632833</td>\n",
       "      <td>-0.514355</td>\n",
       "      <td>0.166993</td>\n",
       "      <td>1.477630</td>\n",
       "      <td>-0.544204</td>\n",
       "      <td>-0.572606</td>\n",
       "      <td>-0.586661</td>\n",
       "      <td>-0.338658</td>\n",
       "      <td>-0.449412</td>\n",
       "      <td>...</td>\n",
       "      <td>1.457441</td>\n",
       "      <td>-0.92175</td>\n",
       "      <td>-1.095322</td>\n",
       "      <td>-0.031960</td>\n",
       "      <td>-0.068737</td>\n",
       "      <td>1.152465</td>\n",
       "      <td>-0.672518</td>\n",
       "      <td>0.391616</td>\n",
       "      <td>-1.301501</td>\n",
       "      <td>0.559262</td>\n",
       "    </tr>\n",
       "  </tbody>\n",
       "</table>\n",
       "<p>2 rows × 48 columns</p>\n",
       "</div>"
      ],
      "text/plain": [
       "   all_times_nhist_numpeaks  all_times_nhist_peak1_bin  \\\n",
       "1                 -1.626729                   1.911247   \n",
       "3                 -0.039057                   1.632833   \n",
       "\n",
       "   all_times_nhist_peak2_bin  all_times_nhist_peak3_bin  \\\n",
       "1                  -0.740748                   0.691384   \n",
       "3                  -0.514355                   0.166993   \n",
       "\n",
       "   all_times_nhist_peak4_bin  all_times_nhist_peak_1_to_2  \\\n",
       "1                   0.168331                     1.522002   \n",
       "3                   1.477630                    -0.544204   \n",
       "\n",
       "   all_times_nhist_peak_1_to_3  all_times_nhist_peak_1_to_4  \\\n",
       "1                     1.166420                     0.157675   \n",
       "3                    -0.572606                    -0.586661   \n",
       "\n",
       "   all_times_nhist_peak_2_to_3  all_times_nhist_peak_2_to_4  ...  \\\n",
       "1                     0.019744                    -0.192345  ...   \n",
       "3                    -0.338658                    -0.449412  ...   \n",
       "\n",
       "   freq1_rel_phase2  freq1_rel_phase3  freq1_rel_phase4  freq2_rel_phase2  \\\n",
       "1          1.532902          -1.22435          0.710232         -1.272791   \n",
       "3          1.457441          -0.92175         -1.095322         -0.031960   \n",
       "\n",
       "   freq2_rel_phase3  freq2_rel_phase4  freq3_rel_phase2  freq3_rel_phase3  \\\n",
       "1          1.617586          1.392776          0.260283          0.708876   \n",
       "3         -0.068737          1.152465         -0.672518          0.391616   \n",
       "\n",
       "   freq3_rel_phase4  freq_model_phi1_phi2  \n",
       "1          1.030413              0.400968  \n",
       "3         -1.301501              0.559262  \n",
       "\n",
       "[2 rows x 48 columns]"
      ]
     },
     "execution_count": 120,
     "metadata": {},
     "output_type": "execute_result"
    }
   ],
   "source": [
    "train_set.loc[[1,3], rel_features]"
   ]
  },
  {
   "cell_type": "code",
   "execution_count": 121,
   "id": "339c653b",
   "metadata": {
    "ExecuteTime": {
     "end_time": "2023-03-02T12:41:00.445270Z",
     "start_time": "2023-03-02T12:41:00.419804Z"
    }
   },
   "outputs": [
    {
     "data": {
      "text/html": [
       "<div>\n",
       "<style scoped>\n",
       "    .dataframe tbody tr th:only-of-type {\n",
       "        vertical-align: middle;\n",
       "    }\n",
       "\n",
       "    .dataframe tbody tr th {\n",
       "        vertical-align: top;\n",
       "    }\n",
       "\n",
       "    .dataframe thead th {\n",
       "        text-align: right;\n",
       "    }\n",
       "</style>\n",
       "<table border=\"1\" class=\"dataframe\">\n",
       "  <thead>\n",
       "    <tr style=\"text-align: right;\">\n",
       "      <th></th>\n",
       "      <th>ID</th>\n",
       "      <th>Pulsating</th>\n",
       "      <th>frequency</th>\n",
       "      <th>amplitudeRV</th>\n",
       "      <th>offsetRV</th>\n",
       "      <th>refepochRV</th>\n",
       "      <th>phase</th>\n",
       "      <th>all_times_nhist_numpeaks</th>\n",
       "      <th>all_times_nhist_peak1_bin</th>\n",
       "      <th>all_times_nhist_peak2_bin</th>\n",
       "      <th>...</th>\n",
       "      <th>freq_signif_ratio_31</th>\n",
       "      <th>freq_varrat</th>\n",
       "      <th>freq_y_offset</th>\n",
       "      <th>linear_trend</th>\n",
       "      <th>medperc90_2p_p</th>\n",
       "      <th>p2p_scatter_2praw</th>\n",
       "      <th>p2p_scatter_over_mad</th>\n",
       "      <th>p2p_scatter_pfold_over_mad</th>\n",
       "      <th>p2p_ssqr_diff_over_var</th>\n",
       "      <th>scatter_res_raw</th>\n",
       "    </tr>\n",
       "  </thead>\n",
       "  <tbody>\n",
       "    <tr>\n",
       "      <th>1</th>\n",
       "      <td>Star-00123</td>\n",
       "      <td>1</td>\n",
       "      <td>30.0</td>\n",
       "      <td>0.72</td>\n",
       "      <td>0.0</td>\n",
       "      <td>2.457401e+06</td>\n",
       "      <td>0.37</td>\n",
       "      <td>-1.626729</td>\n",
       "      <td>1.911247</td>\n",
       "      <td>-0.740748</td>\n",
       "      <td>...</td>\n",
       "      <td>0.040924</td>\n",
       "      <td>-1.110488</td>\n",
       "      <td>-0.289189</td>\n",
       "      <td>0.056551</td>\n",
       "      <td>0.555375</td>\n",
       "      <td>-0.699590</td>\n",
       "      <td>-0.292135</td>\n",
       "      <td>-0.013533</td>\n",
       "      <td>0.443673</td>\n",
       "      <td>-1.207278</td>\n",
       "    </tr>\n",
       "    <tr>\n",
       "      <th>3</th>\n",
       "      <td>Star-00708</td>\n",
       "      <td>0</td>\n",
       "      <td>0.0</td>\n",
       "      <td>0.00</td>\n",
       "      <td>0.0</td>\n",
       "      <td>2.459677e+06</td>\n",
       "      <td>0.00</td>\n",
       "      <td>-0.039057</td>\n",
       "      <td>1.632833</td>\n",
       "      <td>-0.514355</td>\n",
       "      <td>...</td>\n",
       "      <td>-1.091456</td>\n",
       "      <td>0.759880</td>\n",
       "      <td>-0.161363</td>\n",
       "      <td>-0.210930</td>\n",
       "      <td>0.135863</td>\n",
       "      <td>0.662121</td>\n",
       "      <td>-0.492481</td>\n",
       "      <td>0.015621</td>\n",
       "      <td>-0.724783</td>\n",
       "      <td>0.682494</td>\n",
       "    </tr>\n",
       "  </tbody>\n",
       "</table>\n",
       "<p>2 rows × 119 columns</p>\n",
       "</div>"
      ],
      "text/plain": [
       "           ID  Pulsating  frequency  amplitudeRV  offsetRV    refepochRV  \\\n",
       "1  Star-00123          1       30.0         0.72       0.0  2.457401e+06   \n",
       "3  Star-00708          0        0.0         0.00       0.0  2.459677e+06   \n",
       "\n",
       "   phase  all_times_nhist_numpeaks  all_times_nhist_peak1_bin  \\\n",
       "1   0.37                 -1.626729                   1.911247   \n",
       "3   0.00                 -0.039057                   1.632833   \n",
       "\n",
       "   all_times_nhist_peak2_bin  ...  freq_signif_ratio_31  freq_varrat  \\\n",
       "1                  -0.740748  ...              0.040924    -1.110488   \n",
       "3                  -0.514355  ...             -1.091456     0.759880   \n",
       "\n",
       "   freq_y_offset  linear_trend  medperc90_2p_p  p2p_scatter_2praw  \\\n",
       "1      -0.289189      0.056551        0.555375          -0.699590   \n",
       "3      -0.161363     -0.210930        0.135863           0.662121   \n",
       "\n",
       "   p2p_scatter_over_mad  p2p_scatter_pfold_over_mad  p2p_ssqr_diff_over_var  \\\n",
       "1             -0.292135                   -0.013533                0.443673   \n",
       "3             -0.492481                    0.015621               -0.724783   \n",
       "\n",
       "   scatter_res_raw  \n",
       "1        -1.207278  \n",
       "3         0.682494  \n",
       "\n",
       "[2 rows x 119 columns]"
      ]
     },
     "execution_count": 121,
     "metadata": {},
     "output_type": "execute_result"
    }
   ],
   "source": [
    "tr_load.loc[[1,3]]"
   ]
  },
  {
   "cell_type": "code",
   "execution_count": 122,
   "id": "603dbfda",
   "metadata": {
    "ExecuteTime": {
     "end_time": "2023-03-02T12:41:01.285621Z",
     "start_time": "2023-03-02T12:41:01.267679Z"
    }
   },
   "outputs": [
    {
     "name": "stdout",
     "output_type": "stream",
     "text": [
      "DECISION PATHS FOR SOME TRAINING/TEST STARS CLASSIFIED AS NON PULSATORS:\n",
      "\n",
      "Rules used to predict sample 0, Star-00123:\n",
      "\tdecision node 0 : (X_tr_Npulsating[0, freq2_rel_phase4 (43)] = 1.3927755743599026) > -1.5843476057052612)\n",
      "\tdecision node 4 : (X_tr_Npulsating[0, all_times_nhist_peak4_bin (4)] = 0.1683306238664244) > -0.6312122941017151)\n",
      "\tdecision node 20 : (X_tr_Npulsating[0, freq1_rel_phase3 (39)] = -1.224350360637832) <= 0.2783312350511551)\n",
      "\tdecision node 21 : (X_tr_Npulsating[0, all_times_nhist_peak2_bin (2)] = -0.7407479653629796) > -1.2312660813331604)\n",
      "\tdecision node 25 : (X_tr_Npulsating[0, all_times_nhist_peak1_bin (1)] = 1.911247412852896) > -0.5596832036972046)\n",
      "\tdecision node 27 : (X_tr_Npulsating[0, percent_beyond_1_std (37)] = -1.2612346642770833) <= 1.602112352848053)\n",
      "\tdecision node 28 : (X_tr_Npulsating[0, freq2_rel_phase3 (42)] = 1.6175859056746362) > 0.7315807342529297)\n",
      "\tdecision node 32 : (X_tr_Npulsating[0, avg_double_to_single_step (12)] = 0.0422398069637844) <= 0.04694605804979801)\n",
      "\n",
      "Rules used to predict sample 1, Star-00708:\n",
      "\tdecision node 0 : (X_tr_Npulsating[1, freq2_rel_phase4 (43)] = 1.1524645917301817) > -1.5843476057052612)\n",
      "\tdecision node 4 : (X_tr_Npulsating[1, all_times_nhist_peak4_bin (4)] = 1.4776300260732766) > -0.6312122941017151)\n",
      "\tdecision node 20 : (X_tr_Npulsating[1, freq1_rel_phase3 (39)] = -0.9217504590625388) <= 0.2783312350511551)\n",
      "\tdecision node 21 : (X_tr_Npulsating[1, all_times_nhist_peak2_bin (2)] = -0.5143549971947314) > -1.2312660813331604)\n",
      "\tdecision node 25 : (X_tr_Npulsating[1, all_times_nhist_peak1_bin (1)] = 1.6328326981359875) > -0.5596832036972046)\n",
      "\tdecision node 27 : (X_tr_Npulsating[1, percent_beyond_1_std (37)] = 0.5704652723848838) <= 1.602112352848053)\n",
      "\tdecision node 28 : (X_tr_Npulsating[1, freq2_rel_phase3 (42)] = -0.0687372112270387) <= 0.7315807342529297)\n",
      "\tdecision node 29 : (X_tr_Npulsating[1, freq2_rel_phase3 (42)] = -0.0687372112270387) > -0.9123251140117645)\n"
     ]
    }
   ],
   "source": [
    "# Modified from: https://scikit-learn.org/stable/auto_examples/tree/plot_unveil_tree_structure.html\n",
    "print(\"DECISION PATHS FOR SOME TRAINING/TEST STARS CLASSIFIED AS NON PULSATORS:\")\n",
    "\n",
    "n_nodes = new_clf.tree_.node_count\n",
    "children_left = new_clf.tree_.children_left\n",
    "children_right = new_clf.tree_.children_right\n",
    "feature = new_clf.tree_.feature\n",
    "threshold = new_clf.tree_.threshold\n",
    "\n",
    "feature_names = new_clf.feature_names_in_\n",
    "\n",
    "X_tr_Npulsating = train_set.loc[[1,3], rel_features] \\\n",
    "    .reset_index(drop=True)\n",
    "star_names = tr_load.loc[[1,3], ['ID']] \\\n",
    "    .reset_index(drop=True)\n",
    "\n",
    "node_indicator = new_clf.decision_path(X_tr_Npulsating)\n",
    "leaf_id = new_clf.apply(X_tr_Npulsating)\n",
    "\n",
    "for sample_id in range(0, len(X_tr_Npulsating)):\n",
    "    # obtain ids of the nodes `sample_id` goes through, i.e., row `sample_id`\n",
    "    node_index = node_indicator.indices[\n",
    "        node_indicator.indptr[sample_id] : node_indicator.indptr[sample_id + 1]\n",
    "    ]\n",
    "\n",
    "    #print(\"Rules used to predict sample {id}:\\n\".format(id=sample_id))\n",
    "    print(\"\\nRules used to predict sample {id}, {star_id}:\" \\\n",
    "          .format(id=sample_id, star_id=star_names.loc[sample_id, 'ID']))\n",
    "    for node_id in node_index:\n",
    "        # continue to the next node if it is a leaf node\n",
    "        if leaf_id[sample_id] == node_id:\n",
    "            continue\n",
    "\n",
    "        # check if value of the split feature for sample 0 is below threshold\n",
    "        if X_tr_Npulsating.iloc[sample_id, feature[node_id]] <= threshold[node_id]:\n",
    "            threshold_sign = \"<=\"\n",
    "        else:\n",
    "            threshold_sign = \">\"\n",
    "\n",
    "        print(\n",
    "            \"\\tdecision node {node} : (X_tr_Npulsating[{sample}, {f_name} ({feature})] = {value}) \"\n",
    "            \"{inequality} {threshold})\".format(\n",
    "                node=node_id,\n",
    "                sample=sample_id,\n",
    "                feature=feature[node_id],\n",
    "                f_name=feature_names[feature[node_id]],\n",
    "                value=X_tr_Npulsating.iloc[sample_id, feature[node_id]],\n",
    "                inequality=threshold_sign,\n",
    "                threshold=threshold[node_id],\n",
    "            )\n",
    "        )"
   ]
  },
  {
   "cell_type": "markdown",
   "id": "86a3c1c5",
   "metadata": {},
   "source": [
    "## Save results"
   ]
  },
  {
   "cell_type": "markdown",
   "id": "2f55bf74",
   "metadata": {},
   "source": [
    "### Save the optimized decision tree classifier"
   ]
  },
  {
   "cell_type": "code",
   "execution_count": 123,
   "id": "6b81c3af",
   "metadata": {
    "ExecuteTime": {
     "end_time": "2023-03-02T12:41:22.781676Z",
     "start_time": "2023-03-02T12:41:22.763739Z"
    }
   },
   "outputs": [],
   "source": [
    "pickle.dump(new_clf, open(OPT_DT_CLF_OUT_COPY, 'wb'))"
   ]
  },
  {
   "cell_type": "markdown",
   "id": "1adda3de",
   "metadata": {},
   "source": [
    "**Note:** the next cell was set to \"raw\" to prevent accidental overwriting of the optimized classifier."
   ]
  },
  {
   "cell_type": "code",
   "execution_count": 124,
   "id": "a802c79f",
   "metadata": {
    "ExecuteTime": {
     "end_time": "2023-03-02T12:41:24.204526Z",
     "start_time": "2023-03-02T12:41:24.194552Z"
    }
   },
   "outputs": [],
   "source": [
    "pickle.dump(new_clf, open(OPT_DT_CLF_OUT, 'wb'))"
   ]
  },
  {
   "cell_type": "markdown",
   "id": "b868d07b",
   "metadata": {},
   "source": [
    "### Save training sample predictions"
   ]
  },
  {
   "cell_type": "code",
   "execution_count": 125,
   "id": "e0ee13e2",
   "metadata": {
    "ExecuteTime": {
     "end_time": "2023-03-02T12:41:25.508830Z",
     "start_time": "2023-03-02T12:41:25.499852Z"
    }
   },
   "outputs": [],
   "source": [
    "tr_predictions.to_csv(TR_PREDICTIONS_OUT, sep=',', decimal='.', index=False)"
   ]
  },
  {
   "cell_type": "markdown",
   "id": "45a40684",
   "metadata": {},
   "source": [
    "### Save validation sample predictions"
   ]
  },
  {
   "cell_type": "code",
   "execution_count": 126,
   "id": "52d00883",
   "metadata": {
    "ExecuteTime": {
     "end_time": "2023-03-02T12:41:26.458360Z",
     "start_time": "2023-03-02T12:41:26.451378Z"
    }
   },
   "outputs": [],
   "source": [
    "val_predictions.to_csv(VAL_PREDICTIONS_OUT, sep=',', decimal='.', index=False)"
   ]
  },
  {
   "cell_type": "markdown",
   "id": "223fe42d",
   "metadata": {},
   "source": [
    "### Save CARMENES  sample predictions"
   ]
  },
  {
   "cell_type": "code",
   "execution_count": 127,
   "id": "8d5d6d56",
   "metadata": {
    "ExecuteTime": {
     "end_time": "2023-03-02T12:41:27.766090Z",
     "start_time": "2023-03-02T12:41:27.755120Z"
    }
   },
   "outputs": [],
   "source": [
    "carm_predictions.to_csv(CARMENES_PREDICTIONS_OUT, sep=',', decimal='.', index=False)"
   ]
  },
  {
   "cell_type": "markdown",
   "id": "a91c04e2",
   "metadata": {},
   "source": [
    "## Summary"
   ]
  },
  {
   "cell_type": "markdown",
   "id": "03c662fd",
   "metadata": {},
   "source": [
    "**RESULTS:**\n",
    "\n",
    "- We have completed the final `DecisionTreeClassifier` model.\n"
   ]
  },
  {
   "cell_type": "code",
   "execution_count": null,
   "id": "0e5aff01",
   "metadata": {},
   "outputs": [],
   "source": []
  }
 ],
 "metadata": {
  "kernelspec": {
   "display_name": "Python 3 (ipykernel)",
   "language": "python",
   "name": "python3"
  },
  "language_info": {
   "codemirror_mode": {
    "name": "ipython",
    "version": 3
   },
   "file_extension": ".py",
   "mimetype": "text/x-python",
   "name": "python",
   "nbconvert_exporter": "python",
   "pygments_lexer": "ipython3",
   "version": "3.8.8"
  },
  "toc": {
   "base_numbering": 1,
   "nav_menu": {},
   "number_sections": true,
   "sideBar": true,
   "skip_h1_title": true,
   "title_cell": "Table of Contents",
   "title_sidebar": "Contents",
   "toc_cell": false,
   "toc_position": {
    "height": "calc(100% - 180px)",
    "left": "10px",
    "top": "150px",
    "width": "308.797px"
   },
   "toc_section_display": true,
   "toc_window_display": true
  }
 },
 "nbformat": 4,
 "nbformat_minor": 5
}
