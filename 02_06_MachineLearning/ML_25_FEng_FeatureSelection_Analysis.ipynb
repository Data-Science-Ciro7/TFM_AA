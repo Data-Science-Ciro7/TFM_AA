{
 "cells": [
  {
   "cell_type": "markdown",
   "id": "6c20f18a",
   "metadata": {},
   "source": [
    "#  FEATURE ENGINEERING - FEATURE SELECTION"
   ]
  },
  {
   "cell_type": "markdown",
   "id": "d5ead959",
   "metadata": {},
   "source": [
    "In this Notebook we investigate a Feature Selection step. Given the fact that we already did some investigations on the features which best match S4 sample and ML subsample, which lead us to discard $64$ of the $112$ features, it is probably not advisable to discard more featues. Anyway, we will apply a `SelectKBest` feature selector to see the importance of features. We use the `mutual_info_classif` as scoring function, based on k-nn, because it is able to identify non-linear relationships between a feature and the target variable.\n",
    "\n",
    "Obviously, we can only apply it to S4 sample, as for ML subsample we do not have the true labels of the objetcs."
   ]
  },
  {
   "cell_type": "markdown",
   "id": "9ca2080d",
   "metadata": {},
   "source": [
    "## Modules and configuration"
   ]
  },
  {
   "cell_type": "markdown",
   "id": "771fbb2e",
   "metadata": {},
   "source": [
    "### Modules"
   ]
  },
  {
   "cell_type": "code",
   "execution_count": 1,
   "id": "7aefb8fd",
   "metadata": {
    "ExecuteTime": {
     "end_time": "2023-02-11T14:15:29.032635Z",
     "start_time": "2023-02-11T14:15:27.453256Z"
    }
   },
   "outputs": [],
   "source": [
    "import pandas as pd\n",
    "import numpy as np\n",
    "\n",
    "import warnings\n",
    "\n",
    "from sklearn.feature_selection import SelectKBest, mutual_info_classif, f_classif\n",
    "\n",
    "import pickle\n",
    "\n",
    "import matplotlib.pyplot as plt\n",
    "import seaborn as sns\n",
    "sns.set_style(\"white\", {'figure.figsize':(15,10)})\n",
    "\n",
    "from IPython.display import display"
   ]
  },
  {
   "cell_type": "markdown",
   "id": "a4079199",
   "metadata": {},
   "source": [
    "### Configuration"
   ]
  },
  {
   "cell_type": "code",
   "execution_count": 2,
   "id": "c35bacce",
   "metadata": {
    "ExecuteTime": {
     "end_time": "2023-02-11T14:15:29.047556Z",
     "start_time": "2023-02-11T14:15:29.035589Z"
    }
   },
   "outputs": [],
   "source": [
    "RANDOM_STATE = 11 # For reproducibility\n",
    "\n",
    "ML_INPUT_SCALED = \"../data/DATASETS_ML/ML_02_DS_AfterImputing.csv\"\n",
    "S4_INPUT_SCALED = \"../data/DATASETS_ML/S4_02_DS_AfterImputing.csv\"\n",
    "\n",
    "REL_FEATURES_IN = \"../data/ML_MODELS/ML_pipeline_steps/Reliable_features.pickle\"\n",
    "UNREL_FEATURES_IN = \"../data/ML_MODELS/ML_pipeline_steps/Unreliable_features.pickle\"\n",
    "\n",
    "SEL_FEATURE_A_LIST_OUT = \"../data/ML_MODELS/ML_pipeline_steps/SelectedFeatures_mic.pickle\"\n",
    "SEL_FEATURE_B_LIST_OUT = \"../data/ML_MODELS/ML_pipeline_steps/SelectedFeatures_fc.pickle\"\n",
    "\n",
    "ML_ADD_COLUMNS = ['Karmn'] # Only cesium features and this column will be kept.\n",
    "S4_ADD_COLUMNS = ['ID', 'Pulsating', 'frequency', 'amplitudeRV',\n",
    "                  'offsetRV', 'refepochRV', 'phase'] # Only cesium features and these columns will be kept.\n",
    "\n",
    "IMAGE_FOLDER = './img/'"
   ]
  },
  {
   "cell_type": "markdown",
   "id": "8489e0c5",
   "metadata": {},
   "source": [
    "### Functions"
   ]
  },
  {
   "cell_type": "raw",
   "id": "998a6c56",
   "metadata": {
    "ExecuteTime": {
     "end_time": "2023-02-08T14:47:17.799237Z",
     "start_time": "2023-02-08T14:47:17.786272Z"
    }
   },
   "source": [
    "def multi_compare_dist(d_list, d_labels, varname=None, fig_title=None, fig_filename=None,\n",
    "                       kde=False, hist=False, hist_fill=True):\n",
    "    '''Plots and saves multiple overlapped histograms.'''\n",
    "    # Plots and saves the figure\n",
    "    if kde == True:\n",
    "        if hist == True:\n",
    "            kind = 'hist'\n",
    "            kde = True\n",
    "        elif hist == False:\n",
    "            kind = 'kde'\n",
    "    else:\n",
    "        if hist == True:\n",
    "            kind = 'hist'\n",
    "            kde = False\n",
    "        else:\n",
    "            # None, defaulting to both.\n",
    "            print(\"*WARNING: neither 'kde' nor 'hist' are set to 'True'. Defaulting to plotting both...\")\n",
    "            kind = 'hist'\n",
    "            kde = True\n",
    "        \n",
    "    kwargs = dict(hist_kws={'alpha': .30, 'histtype': 'step', 'linewidth': 2, 'fill': hist_fill},\n",
    "                  kde_kws={'linewidth': 2})\n",
    "    #kwargs = dict(hist_kws={'alpha': .30, 'histtype': 'step', 'linewidth': 2, 'fill': hist_fill})\n",
    "    plt.figure(figsize=(10,7))\n",
    "    axes = []\n",
    "    for i in range(0, len(d_list)):\n",
    "        new_axis = sns.distplot(d_list[i], label=d_labels[i], kde=kde, **kwargs)\n",
    "        #new_axis = sns.displot(d_list[i], label=d_labels[i], kind=kind, kde=kde)\n",
    "        axes.append(new_axis)\n",
    "        #if kde == False:\n",
    "        #    axes[i].get_lines()[0].remove()\n",
    "    if varname is None:\n",
    "        axes[0].set_xlabel(\"%s / %s\" %(d1_label, d2_label), fontsize=12)\n",
    "    else:\n",
    "        axes[0].set_xlabel(varname, fontsize=12)\n",
    "    #plt.xlim(0,100)\n",
    "    if fig_title is None:\n",
    "        plt.title(\"Comparison of distributions\", fontsize=16)\n",
    "    else:\n",
    "        plt.title(fig_title, fontsize=16)\n",
    "    #plt.grid(axis='x', alpha=0.75)\n",
    "    plt.ylabel('Frequency of occurrence', fontsize=12)\n",
    "    #plt.legend(loc='upper right');\n",
    "    plt.legend(loc='best');\n",
    "    # Save the image:\n",
    "    if fig_filename is None:\n",
    "        pass\n",
    "    else:\n",
    "        plt.savefig(fig_filename, format='jpg')"
   ]
  },
  {
   "cell_type": "raw",
   "id": "b5e94ffc",
   "metadata": {
    "ExecuteTime": {
     "end_time": "2023-02-08T14:47:17.815233Z",
     "start_time": "2023-02-08T14:47:17.802230Z"
    }
   },
   "source": [
    "def draw_lineplot(x, y, xlabel=None, ylabel=None, fig_title=None, fig_filename=None):\n",
    "    '''Plots and saves a lineplot.'''\n",
    "    # Plots and saves the figure\n",
    "    plt.figure(figsize=(10,7))\n",
    "    ax = sns.lineplot(x=x, y=y)\n",
    "    if xlabel is None:\n",
    "        ax.set_xlabel(\"x\", fontsize=12)\n",
    "    else:\n",
    "        ax.set_xlabel(xlabel, fontsize=12)\n",
    "    if ylabel is None:\n",
    "        ax.set_ylabel(\"y\", fontsize=12)\n",
    "    else:\n",
    "        ax.set_ylabel(ylabel, fontsize=12)\n",
    "    if fig_title is None:\n",
    "        plt.title(\"<Generic line plot>\", fontsize=16)\n",
    "    else:\n",
    "        plt.title(fig_title, fontsize=16)\n",
    "    # Save the image:\n",
    "    if fig_filename is None:\n",
    "        pass\n",
    "    else:\n",
    "        plt.savefig(fig_filename, format='jpg')"
   ]
  },
  {
   "cell_type": "markdown",
   "id": "9a286562",
   "metadata": {},
   "source": [
    "## Load data"
   ]
  },
  {
   "cell_type": "markdown",
   "id": "98c021bb",
   "metadata": {},
   "source": [
    "We load the data, which are the time series as previously featurized by _cesium_, scaled, and with `NaN` values imputed by a `KNNImputer`."
   ]
  },
  {
   "cell_type": "markdown",
   "id": "3909f734",
   "metadata": {},
   "source": [
    "### Load reliable features list"
   ]
  },
  {
   "cell_type": "code",
   "execution_count": 3,
   "id": "4d478cce",
   "metadata": {
    "ExecuteTime": {
     "end_time": "2023-02-11T14:15:30.213328Z",
     "start_time": "2023-02-11T14:15:30.194380Z"
    }
   },
   "outputs": [
    {
     "name": "stdout",
     "output_type": "stream",
     "text": [
      "['all_times_nhist_numpeaks', 'all_times_nhist_peak1_bin', 'all_times_nhist_peak2_bin', 'all_times_nhist_peak3_bin', 'all_times_nhist_peak4_bin', 'all_times_nhist_peak_1_to_2', 'all_times_nhist_peak_1_to_3', 'all_times_nhist_peak_1_to_4', 'all_times_nhist_peak_2_to_3', 'all_times_nhist_peak_2_to_4', 'all_times_nhist_peak_3_to_4', 'all_times_nhist_peak_val', 'avg_double_to_single_step', 'cad_probs_1', 'cad_probs_10', 'cad_probs_20', 'cad_probs_30', 'cad_probs_40', 'cad_probs_50', 'cad_probs_100', 'cad_probs_500', 'cad_probs_1000', 'cad_probs_5000', 'cad_probs_10000', 'cad_probs_50000', 'cad_probs_100000', 'cad_probs_500000', 'cad_probs_1000000', 'cad_probs_5000000', 'cad_probs_10000000', 'cads_avg', 'cads_med', 'cads_std', 'med_double_to_single_step', 'n_epochs', 'std_double_to_single_step', 'total_time', 'percent_beyond_1_std', 'freq1_rel_phase2', 'freq1_rel_phase3', 'freq1_rel_phase4', 'freq2_rel_phase2', 'freq2_rel_phase3', 'freq2_rel_phase4', 'freq3_rel_phase2', 'freq3_rel_phase3', 'freq3_rel_phase4', 'freq_model_phi1_phi2']\n"
     ]
    }
   ],
   "source": [
    "rel_features = pickle.load(open(REL_FEATURES_IN, 'rb'))\n",
    "print(rel_features)"
   ]
  },
  {
   "cell_type": "markdown",
   "id": "4e83ea74",
   "metadata": {},
   "source": [
    "### Load unreliable features list"
   ]
  },
  {
   "cell_type": "code",
   "execution_count": 4,
   "id": "b6f12ce0",
   "metadata": {
    "ExecuteTime": {
     "end_time": "2023-02-11T14:15:30.847249Z",
     "start_time": "2023-02-11T14:15:30.833286Z"
    }
   },
   "outputs": [
    {
     "name": "stdout",
     "output_type": "stream",
     "text": [
      "['avg_err', 'avgt', 'mean', 'med_err', 'std_err', 'amplitude', 'flux_percentile_ratio_mid20', 'flux_percentile_ratio_mid35', 'flux_percentile_ratio_mid50', 'flux_percentile_ratio_mid65', 'flux_percentile_ratio_mid80', 'max_slope', 'maximum', 'median', 'median_absolute_deviation', 'minimum', 'percent_amplitude', 'percent_close_to_median', 'percent_difference_flux_percentile', 'period_fast', 'qso_log_chi2_qsonu', 'qso_log_chi2nuNULL_chi2nu', 'skew', 'std', 'stetson_j', 'stetson_k', 'weighted_average', 'fold2P_slope_10percentile', 'fold2P_slope_90percentile', 'freq1_amplitude1', 'freq1_amplitude2', 'freq1_amplitude3', 'freq1_amplitude4', 'freq1_freq', 'freq1_lambda', 'freq1_signif', 'freq2_amplitude1', 'freq2_amplitude2', 'freq2_amplitude3', 'freq2_amplitude4', 'freq2_freq', 'freq3_amplitude1', 'freq3_amplitude2', 'freq3_amplitude3', 'freq3_amplitude4', 'freq3_freq', 'freq_amplitude_ratio_21', 'freq_amplitude_ratio_31', 'freq_frequency_ratio_21', 'freq_frequency_ratio_31', 'freq_model_max_delta_mags', 'freq_model_min_delta_mags', 'freq_n_alias', 'freq_signif_ratio_21', 'freq_signif_ratio_31', 'freq_varrat', 'freq_y_offset', 'linear_trend', 'medperc90_2p_p', 'p2p_scatter_2praw', 'p2p_scatter_over_mad', 'p2p_scatter_pfold_over_mad', 'p2p_ssqr_diff_over_var', 'scatter_res_raw']\n"
     ]
    }
   ],
   "source": [
    "unrel_features = pickle.load(open(UNREL_FEATURES_IN, 'rb'))\n",
    "print(unrel_features)"
   ]
  },
  {
   "cell_type": "markdown",
   "id": "7216c1d0",
   "metadata": {},
   "source": [
    "###  Read the S4 sample data (scaled and imputed features)"
   ]
  },
  {
   "cell_type": "code",
   "execution_count": 5,
   "id": "a442d80f",
   "metadata": {
    "ExecuteTime": {
     "end_time": "2023-02-11T14:15:31.312439Z",
     "start_time": "2023-02-11T14:15:31.243175Z"
    }
   },
   "outputs": [
    {
     "data": {
      "text/html": [
       "<div>\n",
       "<style scoped>\n",
       "    .dataframe tbody tr th:only-of-type {\n",
       "        vertical-align: middle;\n",
       "    }\n",
       "\n",
       "    .dataframe tbody tr th {\n",
       "        vertical-align: top;\n",
       "    }\n",
       "\n",
       "    .dataframe thead th {\n",
       "        text-align: right;\n",
       "    }\n",
       "</style>\n",
       "<table border=\"1\" class=\"dataframe\">\n",
       "  <thead>\n",
       "    <tr style=\"text-align: right;\">\n",
       "      <th></th>\n",
       "      <th>ID</th>\n",
       "      <th>Pulsating</th>\n",
       "      <th>frequency</th>\n",
       "      <th>amplitudeRV</th>\n",
       "      <th>offsetRV</th>\n",
       "      <th>refepochRV</th>\n",
       "      <th>phase</th>\n",
       "      <th>all_times_nhist_numpeaks</th>\n",
       "      <th>all_times_nhist_peak1_bin</th>\n",
       "      <th>all_times_nhist_peak2_bin</th>\n",
       "      <th>...</th>\n",
       "      <th>freq_signif_ratio_31</th>\n",
       "      <th>freq_varrat</th>\n",
       "      <th>freq_y_offset</th>\n",
       "      <th>linear_trend</th>\n",
       "      <th>medperc90_2p_p</th>\n",
       "      <th>p2p_scatter_2praw</th>\n",
       "      <th>p2p_scatter_over_mad</th>\n",
       "      <th>p2p_scatter_pfold_over_mad</th>\n",
       "      <th>p2p_ssqr_diff_over_var</th>\n",
       "      <th>scatter_res_raw</th>\n",
       "    </tr>\n",
       "  </thead>\n",
       "  <tbody>\n",
       "    <tr>\n",
       "      <th>0</th>\n",
       "      <td>Star-00000</td>\n",
       "      <td>True</td>\n",
       "      <td>10.33</td>\n",
       "      <td>1.14</td>\n",
       "      <td>0.0</td>\n",
       "      <td>2.457582e+06</td>\n",
       "      <td>0.90</td>\n",
       "      <td>-1.944263</td>\n",
       "      <td>2.120058</td>\n",
       "      <td>1.900503</td>\n",
       "      <td>...</td>\n",
       "      <td>0.175639</td>\n",
       "      <td>-1.179443</td>\n",
       "      <td>0.567705</td>\n",
       "      <td>0.100876</td>\n",
       "      <td>-0.114591</td>\n",
       "      <td>-0.216210</td>\n",
       "      <td>0.045386</td>\n",
       "      <td>-0.543694</td>\n",
       "      <td>1.459163</td>\n",
       "      <td>-1.311671</td>\n",
       "    </tr>\n",
       "    <tr>\n",
       "      <th>1</th>\n",
       "      <td>Star-00001</td>\n",
       "      <td>True</td>\n",
       "      <td>14.92</td>\n",
       "      <td>1.30</td>\n",
       "      <td>0.0</td>\n",
       "      <td>2.457522e+06</td>\n",
       "      <td>0.02</td>\n",
       "      <td>1.231081</td>\n",
       "      <td>0.171155</td>\n",
       "      <td>0.089360</td>\n",
       "      <td>...</td>\n",
       "      <td>0.281290</td>\n",
       "      <td>0.536314</td>\n",
       "      <td>0.053099</td>\n",
       "      <td>0.191840</td>\n",
       "      <td>-0.184775</td>\n",
       "      <td>1.237821</td>\n",
       "      <td>-0.589916</td>\n",
       "      <td>-0.372454</td>\n",
       "      <td>-1.663617</td>\n",
       "      <td>-0.333991</td>\n",
       "    </tr>\n",
       "    <tr>\n",
       "      <th>2</th>\n",
       "      <td>Star-00002</td>\n",
       "      <td>False</td>\n",
       "      <td>0.00</td>\n",
       "      <td>0.00</td>\n",
       "      <td>0.0</td>\n",
       "      <td>2.457549e+06</td>\n",
       "      <td>0.00</td>\n",
       "      <td>0.596012</td>\n",
       "      <td>-0.664089</td>\n",
       "      <td>-0.212498</td>\n",
       "      <td>...</td>\n",
       "      <td>-0.307759</td>\n",
       "      <td>0.629682</td>\n",
       "      <td>-0.137934</td>\n",
       "      <td>0.052383</td>\n",
       "      <td>-0.134684</td>\n",
       "      <td>-0.332168</td>\n",
       "      <td>0.316178</td>\n",
       "      <td>-0.194267</td>\n",
       "      <td>-0.020196</td>\n",
       "      <td>0.651418</td>\n",
       "    </tr>\n",
       "    <tr>\n",
       "      <th>3</th>\n",
       "      <td>Star-00003</td>\n",
       "      <td>False</td>\n",
       "      <td>0.00</td>\n",
       "      <td>0.00</td>\n",
       "      <td>0.0</td>\n",
       "      <td>2.457460e+06</td>\n",
       "      <td>0.00</td>\n",
       "      <td>2.501218</td>\n",
       "      <td>-0.664089</td>\n",
       "      <td>-1.495391</td>\n",
       "      <td>...</td>\n",
       "      <td>-0.076569</td>\n",
       "      <td>0.420813</td>\n",
       "      <td>-0.544527</td>\n",
       "      <td>0.065099</td>\n",
       "      <td>-0.073476</td>\n",
       "      <td>0.021419</td>\n",
       "      <td>-0.521209</td>\n",
       "      <td>-0.244714</td>\n",
       "      <td>0.081570</td>\n",
       "      <td>-0.272277</td>\n",
       "    </tr>\n",
       "    <tr>\n",
       "      <th>4</th>\n",
       "      <td>Star-00004</td>\n",
       "      <td>True</td>\n",
       "      <td>28.74</td>\n",
       "      <td>0.90</td>\n",
       "      <td>0.0</td>\n",
       "      <td>2.457451e+06</td>\n",
       "      <td>0.29</td>\n",
       "      <td>-0.039057</td>\n",
       "      <td>1.076003</td>\n",
       "      <td>0.391217</td>\n",
       "      <td>...</td>\n",
       "      <td>-0.390230</td>\n",
       "      <td>-1.060328</td>\n",
       "      <td>2.146213</td>\n",
       "      <td>0.010452</td>\n",
       "      <td>-0.401182</td>\n",
       "      <td>-0.849181</td>\n",
       "      <td>0.067740</td>\n",
       "      <td>-0.433568</td>\n",
       "      <td>0.438785</td>\n",
       "      <td>-0.757588</td>\n",
       "    </tr>\n",
       "    <tr>\n",
       "      <th>...</th>\n",
       "      <td>...</td>\n",
       "      <td>...</td>\n",
       "      <td>...</td>\n",
       "      <td>...</td>\n",
       "      <td>...</td>\n",
       "      <td>...</td>\n",
       "      <td>...</td>\n",
       "      <td>...</td>\n",
       "      <td>...</td>\n",
       "      <td>...</td>\n",
       "      <td>...</td>\n",
       "      <td>...</td>\n",
       "      <td>...</td>\n",
       "      <td>...</td>\n",
       "      <td>...</td>\n",
       "      <td>...</td>\n",
       "      <td>...</td>\n",
       "      <td>...</td>\n",
       "      <td>...</td>\n",
       "      <td>...</td>\n",
       "      <td>...</td>\n",
       "    </tr>\n",
       "    <tr>\n",
       "      <th>995</th>\n",
       "      <td>Star-00995</td>\n",
       "      <td>False</td>\n",
       "      <td>0.00</td>\n",
       "      <td>0.00</td>\n",
       "      <td>0.0</td>\n",
       "      <td>2.457504e+06</td>\n",
       "      <td>0.00</td>\n",
       "      <td>0.913546</td>\n",
       "      <td>-0.037656</td>\n",
       "      <td>0.089360</td>\n",
       "      <td>...</td>\n",
       "      <td>0.842777</td>\n",
       "      <td>-0.334041</td>\n",
       "      <td>-1.827351</td>\n",
       "      <td>-0.257412</td>\n",
       "      <td>-0.616404</td>\n",
       "      <td>-1.315109</td>\n",
       "      <td>0.886334</td>\n",
       "      <td>0.702323</td>\n",
       "      <td>-0.270151</td>\n",
       "      <td>0.406118</td>\n",
       "    </tr>\n",
       "    <tr>\n",
       "      <th>996</th>\n",
       "      <td>Star-00996</td>\n",
       "      <td>False</td>\n",
       "      <td>0.00</td>\n",
       "      <td>0.00</td>\n",
       "      <td>0.0</td>\n",
       "      <td>2.457673e+06</td>\n",
       "      <td>0.00</td>\n",
       "      <td>-1.626729</td>\n",
       "      <td>1.632833</td>\n",
       "      <td>2.051432</td>\n",
       "      <td>...</td>\n",
       "      <td>1.724900</td>\n",
       "      <td>-0.463711</td>\n",
       "      <td>-1.194149</td>\n",
       "      <td>0.021936</td>\n",
       "      <td>0.815043</td>\n",
       "      <td>0.401297</td>\n",
       "      <td>-0.372013</td>\n",
       "      <td>-0.028165</td>\n",
       "      <td>1.854842</td>\n",
       "      <td>-1.064909</td>\n",
       "    </tr>\n",
       "    <tr>\n",
       "      <th>997</th>\n",
       "      <td>Star-00997</td>\n",
       "      <td>False</td>\n",
       "      <td>0.00</td>\n",
       "      <td>0.00</td>\n",
       "      <td>0.0</td>\n",
       "      <td>2.458634e+06</td>\n",
       "      <td>0.00</td>\n",
       "      <td>-0.356591</td>\n",
       "      <td>-0.803296</td>\n",
       "      <td>-0.514355</td>\n",
       "      <td>...</td>\n",
       "      <td>-0.486141</td>\n",
       "      <td>1.825751</td>\n",
       "      <td>-0.108959</td>\n",
       "      <td>0.070002</td>\n",
       "      <td>-0.285029</td>\n",
       "      <td>0.368291</td>\n",
       "      <td>-0.238927</td>\n",
       "      <td>0.264164</td>\n",
       "      <td>-0.103797</td>\n",
       "      <td>2.159378</td>\n",
       "    </tr>\n",
       "    <tr>\n",
       "      <th>998</th>\n",
       "      <td>Star-00998</td>\n",
       "      <td>False</td>\n",
       "      <td>0.00</td>\n",
       "      <td>0.00</td>\n",
       "      <td>0.0</td>\n",
       "      <td>2.457397e+06</td>\n",
       "      <td>0.00</td>\n",
       "      <td>-0.356591</td>\n",
       "      <td>-0.037656</td>\n",
       "      <td>-0.891677</td>\n",
       "      <td>...</td>\n",
       "      <td>-0.288419</td>\n",
       "      <td>1.285370</td>\n",
       "      <td>0.083736</td>\n",
       "      <td>0.024976</td>\n",
       "      <td>-0.290043</td>\n",
       "      <td>0.132179</td>\n",
       "      <td>-0.323890</td>\n",
       "      <td>-0.160471</td>\n",
       "      <td>0.052323</td>\n",
       "      <td>1.120890</td>\n",
       "    </tr>\n",
       "    <tr>\n",
       "      <th>999</th>\n",
       "      <td>Star-00999</td>\n",
       "      <td>False</td>\n",
       "      <td>0.00</td>\n",
       "      <td>0.00</td>\n",
       "      <td>0.0</td>\n",
       "      <td>2.457406e+06</td>\n",
       "      <td>0.00</td>\n",
       "      <td>-0.356591</td>\n",
       "      <td>0.936796</td>\n",
       "      <td>-0.665284</td>\n",
       "      <td>...</td>\n",
       "      <td>0.503438</td>\n",
       "      <td>-1.374553</td>\n",
       "      <td>-0.091967</td>\n",
       "      <td>0.079211</td>\n",
       "      <td>0.831331</td>\n",
       "      <td>0.149720</td>\n",
       "      <td>-0.578676</td>\n",
       "      <td>-0.718864</td>\n",
       "      <td>-0.274976</td>\n",
       "      <td>-1.122924</td>\n",
       "    </tr>\n",
       "  </tbody>\n",
       "</table>\n",
       "<p>1000 rows × 119 columns</p>\n",
       "</div>"
      ],
      "text/plain": [
       "             ID  Pulsating  frequency  amplitudeRV  offsetRV    refepochRV  \\\n",
       "0    Star-00000       True      10.33         1.14       0.0  2.457582e+06   \n",
       "1    Star-00001       True      14.92         1.30       0.0  2.457522e+06   \n",
       "2    Star-00002      False       0.00         0.00       0.0  2.457549e+06   \n",
       "3    Star-00003      False       0.00         0.00       0.0  2.457460e+06   \n",
       "4    Star-00004       True      28.74         0.90       0.0  2.457451e+06   \n",
       "..          ...        ...        ...          ...       ...           ...   \n",
       "995  Star-00995      False       0.00         0.00       0.0  2.457504e+06   \n",
       "996  Star-00996      False       0.00         0.00       0.0  2.457673e+06   \n",
       "997  Star-00997      False       0.00         0.00       0.0  2.458634e+06   \n",
       "998  Star-00998      False       0.00         0.00       0.0  2.457397e+06   \n",
       "999  Star-00999      False       0.00         0.00       0.0  2.457406e+06   \n",
       "\n",
       "     phase  all_times_nhist_numpeaks  all_times_nhist_peak1_bin  \\\n",
       "0     0.90                 -1.944263                   2.120058   \n",
       "1     0.02                  1.231081                   0.171155   \n",
       "2     0.00                  0.596012                  -0.664089   \n",
       "3     0.00                  2.501218                  -0.664089   \n",
       "4     0.29                 -0.039057                   1.076003   \n",
       "..     ...                       ...                        ...   \n",
       "995   0.00                  0.913546                  -0.037656   \n",
       "996   0.00                 -1.626729                   1.632833   \n",
       "997   0.00                 -0.356591                  -0.803296   \n",
       "998   0.00                 -0.356591                  -0.037656   \n",
       "999   0.00                 -0.356591                   0.936796   \n",
       "\n",
       "     all_times_nhist_peak2_bin  ...  freq_signif_ratio_31  freq_varrat  \\\n",
       "0                     1.900503  ...              0.175639    -1.179443   \n",
       "1                     0.089360  ...              0.281290     0.536314   \n",
       "2                    -0.212498  ...             -0.307759     0.629682   \n",
       "3                    -1.495391  ...             -0.076569     0.420813   \n",
       "4                     0.391217  ...             -0.390230    -1.060328   \n",
       "..                         ...  ...                   ...          ...   \n",
       "995                   0.089360  ...              0.842777    -0.334041   \n",
       "996                   2.051432  ...              1.724900    -0.463711   \n",
       "997                  -0.514355  ...             -0.486141     1.825751   \n",
       "998                  -0.891677  ...             -0.288419     1.285370   \n",
       "999                  -0.665284  ...              0.503438    -1.374553   \n",
       "\n",
       "     freq_y_offset  linear_trend  medperc90_2p_p  p2p_scatter_2praw  \\\n",
       "0         0.567705      0.100876       -0.114591          -0.216210   \n",
       "1         0.053099      0.191840       -0.184775           1.237821   \n",
       "2        -0.137934      0.052383       -0.134684          -0.332168   \n",
       "3        -0.544527      0.065099       -0.073476           0.021419   \n",
       "4         2.146213      0.010452       -0.401182          -0.849181   \n",
       "..             ...           ...             ...                ...   \n",
       "995      -1.827351     -0.257412       -0.616404          -1.315109   \n",
       "996      -1.194149      0.021936        0.815043           0.401297   \n",
       "997      -0.108959      0.070002       -0.285029           0.368291   \n",
       "998       0.083736      0.024976       -0.290043           0.132179   \n",
       "999      -0.091967      0.079211        0.831331           0.149720   \n",
       "\n",
       "     p2p_scatter_over_mad  p2p_scatter_pfold_over_mad  p2p_ssqr_diff_over_var  \\\n",
       "0                0.045386                   -0.543694                1.459163   \n",
       "1               -0.589916                   -0.372454               -1.663617   \n",
       "2                0.316178                   -0.194267               -0.020196   \n",
       "3               -0.521209                   -0.244714                0.081570   \n",
       "4                0.067740                   -0.433568                0.438785   \n",
       "..                    ...                         ...                     ...   \n",
       "995              0.886334                    0.702323               -0.270151   \n",
       "996             -0.372013                   -0.028165                1.854842   \n",
       "997             -0.238927                    0.264164               -0.103797   \n",
       "998             -0.323890                   -0.160471                0.052323   \n",
       "999             -0.578676                   -0.718864               -0.274976   \n",
       "\n",
       "     scatter_res_raw  \n",
       "0          -1.311671  \n",
       "1          -0.333991  \n",
       "2           0.651418  \n",
       "3          -0.272277  \n",
       "4          -0.757588  \n",
       "..               ...  \n",
       "995         0.406118  \n",
       "996        -1.064909  \n",
       "997         2.159378  \n",
       "998         1.120890  \n",
       "999        -1.122924  \n",
       "\n",
       "[1000 rows x 119 columns]"
      ]
     },
     "execution_count": 5,
     "metadata": {},
     "output_type": "execute_result"
    }
   ],
   "source": [
    "s4 = pd.read_csv(S4_INPUT_SCALED, sep=',', decimal='.')\n",
    "s4"
   ]
  },
  {
   "cell_type": "markdown",
   "id": "23eb7cd3",
   "metadata": {},
   "source": [
    "#### Filter the relevant columns only"
   ]
  },
  {
   "cell_type": "markdown",
   "id": "24fbd428",
   "metadata": {},
   "source": [
    "We now filter only by the reliable relevant columns plus the `Pulsating` column."
   ]
  },
  {
   "cell_type": "code",
   "execution_count": 6,
   "id": "14e828d6",
   "metadata": {
    "ExecuteTime": {
     "end_time": "2023-02-11T14:15:31.810331Z",
     "start_time": "2023-02-11T14:15:31.786394Z"
    }
   },
   "outputs": [
    {
     "data": {
      "text/html": [
       "<div>\n",
       "<style scoped>\n",
       "    .dataframe tbody tr th:only-of-type {\n",
       "        vertical-align: middle;\n",
       "    }\n",
       "\n",
       "    .dataframe tbody tr th {\n",
       "        vertical-align: top;\n",
       "    }\n",
       "\n",
       "    .dataframe thead th {\n",
       "        text-align: right;\n",
       "    }\n",
       "</style>\n",
       "<table border=\"1\" class=\"dataframe\">\n",
       "  <thead>\n",
       "    <tr style=\"text-align: right;\">\n",
       "      <th></th>\n",
       "      <th>Pulsating</th>\n",
       "      <th>all_times_nhist_numpeaks</th>\n",
       "      <th>all_times_nhist_peak1_bin</th>\n",
       "      <th>all_times_nhist_peak2_bin</th>\n",
       "      <th>all_times_nhist_peak3_bin</th>\n",
       "      <th>all_times_nhist_peak4_bin</th>\n",
       "      <th>all_times_nhist_peak_1_to_2</th>\n",
       "      <th>all_times_nhist_peak_1_to_3</th>\n",
       "      <th>all_times_nhist_peak_1_to_4</th>\n",
       "      <th>all_times_nhist_peak_2_to_3</th>\n",
       "      <th>...</th>\n",
       "      <th>freq1_rel_phase2</th>\n",
       "      <th>freq1_rel_phase3</th>\n",
       "      <th>freq1_rel_phase4</th>\n",
       "      <th>freq2_rel_phase2</th>\n",
       "      <th>freq2_rel_phase3</th>\n",
       "      <th>freq2_rel_phase4</th>\n",
       "      <th>freq3_rel_phase2</th>\n",
       "      <th>freq3_rel_phase3</th>\n",
       "      <th>freq3_rel_phase4</th>\n",
       "      <th>freq_model_phi1_phi2</th>\n",
       "    </tr>\n",
       "  </thead>\n",
       "  <tbody>\n",
       "    <tr>\n",
       "      <th>0</th>\n",
       "      <td>True</td>\n",
       "      <td>-1.944263</td>\n",
       "      <td>2.120058</td>\n",
       "      <td>1.900503</td>\n",
       "      <td>0.032450</td>\n",
       "      <td>0.058428</td>\n",
       "      <td>-0.175766</td>\n",
       "      <td>0.142098</td>\n",
       "      <td>0.142904</td>\n",
       "      <td>0.146788</td>\n",
       "      <td>...</td>\n",
       "      <td>0.585852</td>\n",
       "      <td>0.760826</td>\n",
       "      <td>0.461844</td>\n",
       "      <td>1.375471</td>\n",
       "      <td>-1.544456</td>\n",
       "      <td>-0.315672</td>\n",
       "      <td>1.078066</td>\n",
       "      <td>1.258823</td>\n",
       "      <td>-1.522632</td>\n",
       "      <td>-0.302747</td>\n",
       "    </tr>\n",
       "    <tr>\n",
       "      <th>1</th>\n",
       "      <td>True</td>\n",
       "      <td>1.231081</td>\n",
       "      <td>0.171155</td>\n",
       "      <td>0.089360</td>\n",
       "      <td>-1.630917</td>\n",
       "      <td>-0.684446</td>\n",
       "      <td>-0.341852</td>\n",
       "      <td>-0.577907</td>\n",
       "      <td>-0.567365</td>\n",
       "      <td>-0.512199</td>\n",
       "      <td>...</td>\n",
       "      <td>0.378288</td>\n",
       "      <td>-1.366258</td>\n",
       "      <td>-1.617260</td>\n",
       "      <td>1.566127</td>\n",
       "      <td>0.098099</td>\n",
       "      <td>0.141892</td>\n",
       "      <td>-1.445867</td>\n",
       "      <td>0.086891</td>\n",
       "      <td>-0.557137</td>\n",
       "      <td>-0.738010</td>\n",
       "    </tr>\n",
       "    <tr>\n",
       "      <th>2</th>\n",
       "      <td>False</td>\n",
       "      <td>0.596012</td>\n",
       "      <td>-0.664089</td>\n",
       "      <td>-0.212498</td>\n",
       "      <td>0.391732</td>\n",
       "      <td>0.087724</td>\n",
       "      <td>1.196750</td>\n",
       "      <td>2.120285</td>\n",
       "      <td>1.085438</td>\n",
       "      <td>0.930900</td>\n",
       "      <td>...</td>\n",
       "      <td>0.297032</td>\n",
       "      <td>-1.118182</td>\n",
       "      <td>1.496541</td>\n",
       "      <td>1.537578</td>\n",
       "      <td>-1.054755</td>\n",
       "      <td>-1.021736</td>\n",
       "      <td>-0.545619</td>\n",
       "      <td>-1.173806</td>\n",
       "      <td>0.715002</td>\n",
       "      <td>-1.630625</td>\n",
       "    </tr>\n",
       "    <tr>\n",
       "      <th>3</th>\n",
       "      <td>False</td>\n",
       "      <td>2.501218</td>\n",
       "      <td>-0.664089</td>\n",
       "      <td>-1.495391</td>\n",
       "      <td>0.166993</td>\n",
       "      <td>-1.533833</td>\n",
       "      <td>-0.462828</td>\n",
       "      <td>-0.578686</td>\n",
       "      <td>-0.708032</td>\n",
       "      <td>-0.419026</td>\n",
       "      <td>...</td>\n",
       "      <td>-1.437135</td>\n",
       "      <td>0.551779</td>\n",
       "      <td>0.448023</td>\n",
       "      <td>-1.655605</td>\n",
       "      <td>-0.854472</td>\n",
       "      <td>0.534856</td>\n",
       "      <td>1.277610</td>\n",
       "      <td>1.484307</td>\n",
       "      <td>-0.080514</td>\n",
       "      <td>1.992878</td>\n",
       "    </tr>\n",
       "    <tr>\n",
       "      <th>4</th>\n",
       "      <td>True</td>\n",
       "      <td>-0.039057</td>\n",
       "      <td>1.076003</td>\n",
       "      <td>0.391217</td>\n",
       "      <td>-1.256352</td>\n",
       "      <td>-0.993314</td>\n",
       "      <td>0.012129</td>\n",
       "      <td>-0.287835</td>\n",
       "      <td>-0.534947</td>\n",
       "      <td>-0.391603</td>\n",
       "      <td>...</td>\n",
       "      <td>-0.182144</td>\n",
       "      <td>0.544265</td>\n",
       "      <td>-1.012917</td>\n",
       "      <td>0.668693</td>\n",
       "      <td>-1.428288</td>\n",
       "      <td>-1.588016</td>\n",
       "      <td>0.644710</td>\n",
       "      <td>1.079623</td>\n",
       "      <td>-1.606967</td>\n",
       "      <td>-1.430279</td>\n",
       "    </tr>\n",
       "    <tr>\n",
       "      <th>...</th>\n",
       "      <td>...</td>\n",
       "      <td>...</td>\n",
       "      <td>...</td>\n",
       "      <td>...</td>\n",
       "      <td>...</td>\n",
       "      <td>...</td>\n",
       "      <td>...</td>\n",
       "      <td>...</td>\n",
       "      <td>...</td>\n",
       "      <td>...</td>\n",
       "      <td>...</td>\n",
       "      <td>...</td>\n",
       "      <td>...</td>\n",
       "      <td>...</td>\n",
       "      <td>...</td>\n",
       "      <td>...</td>\n",
       "      <td>...</td>\n",
       "      <td>...</td>\n",
       "      <td>...</td>\n",
       "      <td>...</td>\n",
       "      <td>...</td>\n",
       "    </tr>\n",
       "    <tr>\n",
       "      <th>995</th>\n",
       "      <td>False</td>\n",
       "      <td>0.913546</td>\n",
       "      <td>-0.037656</td>\n",
       "      <td>0.089360</td>\n",
       "      <td>-1.331265</td>\n",
       "      <td>-0.993314</td>\n",
       "      <td>-0.692478</td>\n",
       "      <td>-0.368627</td>\n",
       "      <td>-0.586661</td>\n",
       "      <td>0.156860</td>\n",
       "      <td>...</td>\n",
       "      <td>-1.699344</td>\n",
       "      <td>-1.574378</td>\n",
       "      <td>0.220713</td>\n",
       "      <td>0.238513</td>\n",
       "      <td>0.122477</td>\n",
       "      <td>-0.827172</td>\n",
       "      <td>1.420243</td>\n",
       "      <td>-0.877574</td>\n",
       "      <td>-1.223558</td>\n",
       "      <td>1.185163</td>\n",
       "    </tr>\n",
       "    <tr>\n",
       "      <th>996</th>\n",
       "      <td>False</td>\n",
       "      <td>-1.626729</td>\n",
       "      <td>1.632833</td>\n",
       "      <td>2.051432</td>\n",
       "      <td>-1.406178</td>\n",
       "      <td>-0.151283</td>\n",
       "      <td>0.082590</td>\n",
       "      <td>0.843252</td>\n",
       "      <td>-0.068494</td>\n",
       "      <td>0.842438</td>\n",
       "      <td>...</td>\n",
       "      <td>-1.000715</td>\n",
       "      <td>0.015125</td>\n",
       "      <td>-0.882959</td>\n",
       "      <td>0.522536</td>\n",
       "      <td>0.093065</td>\n",
       "      <td>-1.035738</td>\n",
       "      <td>-0.495161</td>\n",
       "      <td>-0.582121</td>\n",
       "      <td>1.205916</td>\n",
       "      <td>0.425432</td>\n",
       "    </tr>\n",
       "    <tr>\n",
       "      <th>997</th>\n",
       "      <td>False</td>\n",
       "      <td>-0.356591</td>\n",
       "      <td>-0.803296</td>\n",
       "      <td>-0.514355</td>\n",
       "      <td>-0.132658</td>\n",
       "      <td>0.242158</td>\n",
       "      <td>-0.328457</td>\n",
       "      <td>-0.425885</td>\n",
       "      <td>0.292986</td>\n",
       "      <td>-0.312971</td>\n",
       "      <td>...</td>\n",
       "      <td>1.377438</td>\n",
       "      <td>-0.094915</td>\n",
       "      <td>-1.389352</td>\n",
       "      <td>1.686697</td>\n",
       "      <td>-0.906353</td>\n",
       "      <td>0.705300</td>\n",
       "      <td>-1.653687</td>\n",
       "      <td>-0.368324</td>\n",
       "      <td>0.225336</td>\n",
       "      <td>2.247789</td>\n",
       "    </tr>\n",
       "    <tr>\n",
       "      <th>998</th>\n",
       "      <td>False</td>\n",
       "      <td>-0.356591</td>\n",
       "      <td>-0.037656</td>\n",
       "      <td>-0.891677</td>\n",
       "      <td>0.316819</td>\n",
       "      <td>0.087724</td>\n",
       "      <td>-0.677428</td>\n",
       "      <td>-0.686637</td>\n",
       "      <td>-0.777780</td>\n",
       "      <td>-0.397438</td>\n",
       "      <td>...</td>\n",
       "      <td>0.139384</td>\n",
       "      <td>0.388687</td>\n",
       "      <td>-0.000302</td>\n",
       "      <td>1.710044</td>\n",
       "      <td>0.342520</td>\n",
       "      <td>0.410963</td>\n",
       "      <td>-0.811926</td>\n",
       "      <td>-0.752704</td>\n",
       "      <td>-1.525543</td>\n",
       "      <td>-0.335513</td>\n",
       "    </tr>\n",
       "    <tr>\n",
       "      <th>999</th>\n",
       "      <td>False</td>\n",
       "      <td>-0.356591</td>\n",
       "      <td>0.936796</td>\n",
       "      <td>-0.665284</td>\n",
       "      <td>1.665252</td>\n",
       "      <td>-1.224965</td>\n",
       "      <td>0.857658</td>\n",
       "      <td>0.035333</td>\n",
       "      <td>0.706199</td>\n",
       "      <td>-0.528719</td>\n",
       "      <td>...</td>\n",
       "      <td>0.572696</td>\n",
       "      <td>-0.152872</td>\n",
       "      <td>-1.605908</td>\n",
       "      <td>0.480307</td>\n",
       "      <td>-0.034379</td>\n",
       "      <td>0.764606</td>\n",
       "      <td>0.127245</td>\n",
       "      <td>0.507256</td>\n",
       "      <td>0.668851</td>\n",
       "      <td>-0.141004</td>\n",
       "    </tr>\n",
       "  </tbody>\n",
       "</table>\n",
       "<p>1000 rows × 49 columns</p>\n",
       "</div>"
      ],
      "text/plain": [
       "     Pulsating  all_times_nhist_numpeaks  all_times_nhist_peak1_bin  \\\n",
       "0         True                 -1.944263                   2.120058   \n",
       "1         True                  1.231081                   0.171155   \n",
       "2        False                  0.596012                  -0.664089   \n",
       "3        False                  2.501218                  -0.664089   \n",
       "4         True                 -0.039057                   1.076003   \n",
       "..         ...                       ...                        ...   \n",
       "995      False                  0.913546                  -0.037656   \n",
       "996      False                 -1.626729                   1.632833   \n",
       "997      False                 -0.356591                  -0.803296   \n",
       "998      False                 -0.356591                  -0.037656   \n",
       "999      False                 -0.356591                   0.936796   \n",
       "\n",
       "     all_times_nhist_peak2_bin  all_times_nhist_peak3_bin  \\\n",
       "0                     1.900503                   0.032450   \n",
       "1                     0.089360                  -1.630917   \n",
       "2                    -0.212498                   0.391732   \n",
       "3                    -1.495391                   0.166993   \n",
       "4                     0.391217                  -1.256352   \n",
       "..                         ...                        ...   \n",
       "995                   0.089360                  -1.331265   \n",
       "996                   2.051432                  -1.406178   \n",
       "997                  -0.514355                  -0.132658   \n",
       "998                  -0.891677                   0.316819   \n",
       "999                  -0.665284                   1.665252   \n",
       "\n",
       "     all_times_nhist_peak4_bin  all_times_nhist_peak_1_to_2  \\\n",
       "0                     0.058428                    -0.175766   \n",
       "1                    -0.684446                    -0.341852   \n",
       "2                     0.087724                     1.196750   \n",
       "3                    -1.533833                    -0.462828   \n",
       "4                    -0.993314                     0.012129   \n",
       "..                         ...                          ...   \n",
       "995                  -0.993314                    -0.692478   \n",
       "996                  -0.151283                     0.082590   \n",
       "997                   0.242158                    -0.328457   \n",
       "998                   0.087724                    -0.677428   \n",
       "999                  -1.224965                     0.857658   \n",
       "\n",
       "     all_times_nhist_peak_1_to_3  all_times_nhist_peak_1_to_4  \\\n",
       "0                       0.142098                     0.142904   \n",
       "1                      -0.577907                    -0.567365   \n",
       "2                       2.120285                     1.085438   \n",
       "3                      -0.578686                    -0.708032   \n",
       "4                      -0.287835                    -0.534947   \n",
       "..                           ...                          ...   \n",
       "995                    -0.368627                    -0.586661   \n",
       "996                     0.843252                    -0.068494   \n",
       "997                    -0.425885                     0.292986   \n",
       "998                    -0.686637                    -0.777780   \n",
       "999                     0.035333                     0.706199   \n",
       "\n",
       "     all_times_nhist_peak_2_to_3  ...  freq1_rel_phase2  freq1_rel_phase3  \\\n",
       "0                       0.146788  ...          0.585852          0.760826   \n",
       "1                      -0.512199  ...          0.378288         -1.366258   \n",
       "2                       0.930900  ...          0.297032         -1.118182   \n",
       "3                      -0.419026  ...         -1.437135          0.551779   \n",
       "4                      -0.391603  ...         -0.182144          0.544265   \n",
       "..                           ...  ...               ...               ...   \n",
       "995                     0.156860  ...         -1.699344         -1.574378   \n",
       "996                     0.842438  ...         -1.000715          0.015125   \n",
       "997                    -0.312971  ...          1.377438         -0.094915   \n",
       "998                    -0.397438  ...          0.139384          0.388687   \n",
       "999                    -0.528719  ...          0.572696         -0.152872   \n",
       "\n",
       "     freq1_rel_phase4  freq2_rel_phase2  freq2_rel_phase3  freq2_rel_phase4  \\\n",
       "0            0.461844          1.375471         -1.544456         -0.315672   \n",
       "1           -1.617260          1.566127          0.098099          0.141892   \n",
       "2            1.496541          1.537578         -1.054755         -1.021736   \n",
       "3            0.448023         -1.655605         -0.854472          0.534856   \n",
       "4           -1.012917          0.668693         -1.428288         -1.588016   \n",
       "..                ...               ...               ...               ...   \n",
       "995          0.220713          0.238513          0.122477         -0.827172   \n",
       "996         -0.882959          0.522536          0.093065         -1.035738   \n",
       "997         -1.389352          1.686697         -0.906353          0.705300   \n",
       "998         -0.000302          1.710044          0.342520          0.410963   \n",
       "999         -1.605908          0.480307         -0.034379          0.764606   \n",
       "\n",
       "     freq3_rel_phase2  freq3_rel_phase3  freq3_rel_phase4  \\\n",
       "0            1.078066          1.258823         -1.522632   \n",
       "1           -1.445867          0.086891         -0.557137   \n",
       "2           -0.545619         -1.173806          0.715002   \n",
       "3            1.277610          1.484307         -0.080514   \n",
       "4            0.644710          1.079623         -1.606967   \n",
       "..                ...               ...               ...   \n",
       "995          1.420243         -0.877574         -1.223558   \n",
       "996         -0.495161         -0.582121          1.205916   \n",
       "997         -1.653687         -0.368324          0.225336   \n",
       "998         -0.811926         -0.752704         -1.525543   \n",
       "999          0.127245          0.507256          0.668851   \n",
       "\n",
       "     freq_model_phi1_phi2  \n",
       "0               -0.302747  \n",
       "1               -0.738010  \n",
       "2               -1.630625  \n",
       "3                1.992878  \n",
       "4               -1.430279  \n",
       "..                    ...  \n",
       "995              1.185163  \n",
       "996              0.425432  \n",
       "997              2.247789  \n",
       "998             -0.335513  \n",
       "999             -0.141004  \n",
       "\n",
       "[1000 rows x 49 columns]"
      ]
     },
     "execution_count": 6,
     "metadata": {},
     "output_type": "execute_result"
    }
   ],
   "source": [
    "s4_rel = s4[['Pulsating'] + rel_features].copy()\n",
    "s4_rel"
   ]
  },
  {
   "cell_type": "code",
   "execution_count": 7,
   "id": "df09eba2",
   "metadata": {
    "ExecuteTime": {
     "end_time": "2023-02-11T14:15:31.980232Z",
     "start_time": "2023-02-11T14:15:31.969262Z"
    }
   },
   "outputs": [
    {
     "name": "stdout",
     "output_type": "stream",
     "text": [
      "['Pulsating', 'all_times_nhist_numpeaks', 'all_times_nhist_peak1_bin', 'all_times_nhist_peak2_bin', 'all_times_nhist_peak3_bin', 'all_times_nhist_peak4_bin', 'all_times_nhist_peak_1_to_2', 'all_times_nhist_peak_1_to_3', 'all_times_nhist_peak_1_to_4', 'all_times_nhist_peak_2_to_3', 'all_times_nhist_peak_2_to_4', 'all_times_nhist_peak_3_to_4', 'all_times_nhist_peak_val', 'avg_double_to_single_step', 'cad_probs_1', 'cad_probs_10', 'cad_probs_20', 'cad_probs_30', 'cad_probs_40', 'cad_probs_50', 'cad_probs_100', 'cad_probs_500', 'cad_probs_1000', 'cad_probs_5000', 'cad_probs_10000', 'cad_probs_50000', 'cad_probs_100000', 'cad_probs_500000', 'cad_probs_1000000', 'cad_probs_5000000', 'cad_probs_10000000', 'cads_avg', 'cads_med', 'cads_std', 'med_double_to_single_step', 'n_epochs', 'std_double_to_single_step', 'total_time', 'percent_beyond_1_std', 'freq1_rel_phase2', 'freq1_rel_phase3', 'freq1_rel_phase4', 'freq2_rel_phase2', 'freq2_rel_phase3', 'freq2_rel_phase4', 'freq3_rel_phase2', 'freq3_rel_phase3', 'freq3_rel_phase4', 'freq_model_phi1_phi2']\n"
     ]
    }
   ],
   "source": [
    "print(list(s4_rel.columns))"
   ]
  },
  {
   "cell_type": "markdown",
   "id": "9861959b",
   "metadata": {},
   "source": [
    "## Feature selection (with `mutual_info_classif` score)"
   ]
  },
  {
   "cell_type": "markdown",
   "id": "5803a3cd",
   "metadata": {},
   "source": [
    "We define and run the feature selection. Due to the randomness in the calculations, we decide to run $50$ iterations to see which most relevant $24$ features remain (half of $48$)."
   ]
  },
  {
   "cell_type": "code",
   "execution_count": 8,
   "id": "bc6d1181",
   "metadata": {
    "ExecuteTime": {
     "end_time": "2023-02-11T14:15:42.592205Z",
     "start_time": "2023-02-11T14:15:32.610148Z"
    }
   },
   "outputs": [
    {
     "data": {
      "text/plain": [
       "{'freq1_rel_phase2', 'freq2_rel_phase2'}"
      ]
     },
     "execution_count": 8,
     "metadata": {},
     "output_type": "execute_result"
    }
   ],
   "source": [
    "np.random.seed(RANDOM_STATE) # For reproducibility\n",
    "common_features_mic = set(rel_features)\n",
    "for i in range(0, 50):\n",
    "    fsel = SelectKBest(score_func=mutual_info_classif, k=24)\n",
    "    fsel.fit(X=s4[rel_features], y=s4['Pulsating'])\n",
    "    sel_idx = fsel.get_support(indices=True).tolist()\n",
    "    sel_features = set([rel_features[i] for i in range(0, len(rel_features)) if i in sel_idx])\n",
    "    common_features_mic = set.intersection(common_features_mic, sel_features)\n",
    "\n",
    "common_features_mic"
   ]
  },
  {
   "cell_type": "code",
   "execution_count": 9,
   "id": "769ba890",
   "metadata": {
    "ExecuteTime": {
     "end_time": "2023-02-11T14:15:42.608139Z",
     "start_time": "2023-02-11T14:15:42.595182Z"
    }
   },
   "outputs": [
    {
     "data": {
      "text/plain": [
       "2"
      ]
     },
     "execution_count": 9,
     "metadata": {},
     "output_type": "execute_result"
    }
   ],
   "source": [
    "len(common_features_mic)"
   ]
  },
  {
   "cell_type": "markdown",
   "id": "40d352b9",
   "metadata": {},
   "source": [
    "**OBSERVATION:** as we see, out of the $24$ features we established as the threshold, after $50$ runs only $2$ features appear as more important."
   ]
  },
  {
   "cell_type": "markdown",
   "id": "0531f5eb",
   "metadata": {},
   "source": [
    "Let's try it another way: counting the occurrences of each time a feature enters in the top-$24$ list.Ç"
   ]
  },
  {
   "cell_type": "code",
   "execution_count": 10,
   "id": "87cb7ada",
   "metadata": {
    "ExecuteTime": {
     "end_time": "2023-02-11T14:15:52.737060Z",
     "start_time": "2023-02-11T14:15:42.610133Z"
    }
   },
   "outputs": [],
   "source": [
    "np.random.seed(RANDOM_STATE) # For reproducibility\n",
    "count_features_mic = {}\n",
    "for i in range(0, 50):\n",
    "    fsel = SelectKBest(score_func=mutual_info_classif, k=24)\n",
    "    fsel.fit(X=s4[rel_features], y=s4['Pulsating'])\n",
    "    sel_idx = fsel.get_support(indices=True).tolist()\n",
    "    sel_features = [rel_features[i] for i in range(0, len(rel_features)) if i in sel_idx]\n",
    "    for f in sel_features:\n",
    "        count_features_mic[f] = count_features_mic.get(f, 0) + 1\n"
   ]
  },
  {
   "cell_type": "code",
   "execution_count": 11,
   "id": "9abdb19a",
   "metadata": {
    "ExecuteTime": {
     "end_time": "2023-02-11T14:15:52.753022Z",
     "start_time": "2023-02-11T14:15:52.739055Z"
    }
   },
   "outputs": [
    {
     "name": "stdout",
     "output_type": "stream",
     "text": [
      "{'all_times_nhist_peak1_bin': 13, 'all_times_nhist_peak4_bin': 12, 'all_times_nhist_peak_1_to_2': 48, 'all_times_nhist_peak_1_to_4': 31, 'all_times_nhist_peak_2_to_4': 20, 'all_times_nhist_peak_val': 42, 'avg_double_to_single_step': 31, 'cad_probs_1': 27, 'cad_probs_10': 24, 'cad_probs_30': 23, 'cad_probs_100': 32, 'cad_probs_1000': 36, 'cad_probs_5000': 35, 'cad_probs_100000': 45, 'cad_probs_1000000': 27, 'cad_probs_10000000': 22, 'cads_std': 16, 'med_double_to_single_step': 42, 'n_epochs': 47, 'total_time': 48, 'percent_beyond_1_std': 45, 'freq1_rel_phase2': 50, 'freq2_rel_phase2': 50, 'freq3_rel_phase2': 49, 'all_times_nhist_numpeaks': 31, 'all_times_nhist_peak_2_to_3': 16, 'cad_probs_40': 32, 'cad_probs_50': 32, 'cad_probs_10000': 6, 'cads_avg': 35, 'freq3_rel_phase4': 15, 'freq_model_phi1_phi2': 25, 'all_times_nhist_peak2_bin': 10, 'all_times_nhist_peak_3_to_4': 38, 'cad_probs_20': 22, 'cad_probs_5000000': 19, 'all_times_nhist_peak3_bin': 14, 'cad_probs_500': 26, 'cads_med': 22, 'cad_probs_500000': 10, 'freq3_rel_phase3': 8, 'all_times_nhist_peak_1_to_3': 1, 'cad_probs_50000': 6, 'std_double_to_single_step': 11, 'freq2_rel_phase3': 2, 'freq2_rel_phase4': 4}\n"
     ]
    }
   ],
   "source": [
    "print(count_features_mic)"
   ]
  },
  {
   "cell_type": "markdown",
   "id": "4109b91e",
   "metadata": {},
   "source": [
    "Sort descending:"
   ]
  },
  {
   "cell_type": "code",
   "execution_count": 12,
   "id": "45d9f090",
   "metadata": {
    "ExecuteTime": {
     "end_time": "2023-02-11T14:15:52.767977Z",
     "start_time": "2023-02-11T14:15:52.754015Z"
    }
   },
   "outputs": [
    {
     "data": {
      "text/plain": [
       "[('freq1_rel_phase2', 50),\n",
       " ('freq2_rel_phase2', 50),\n",
       " ('freq3_rel_phase2', 49),\n",
       " ('all_times_nhist_peak_1_to_2', 48),\n",
       " ('total_time', 48),\n",
       " ('n_epochs', 47),\n",
       " ('cad_probs_100000', 45),\n",
       " ('percent_beyond_1_std', 45),\n",
       " ('all_times_nhist_peak_val', 42),\n",
       " ('med_double_to_single_step', 42),\n",
       " ('all_times_nhist_peak_3_to_4', 38),\n",
       " ('cad_probs_1000', 36),\n",
       " ('cad_probs_5000', 35),\n",
       " ('cads_avg', 35),\n",
       " ('cad_probs_100', 32),\n",
       " ('cad_probs_40', 32),\n",
       " ('cad_probs_50', 32),\n",
       " ('all_times_nhist_peak_1_to_4', 31),\n",
       " ('avg_double_to_single_step', 31),\n",
       " ('all_times_nhist_numpeaks', 31),\n",
       " ('cad_probs_1', 27),\n",
       " ('cad_probs_1000000', 27),\n",
       " ('cad_probs_500', 26),\n",
       " ('freq_model_phi1_phi2', 25),\n",
       " ('cad_probs_10', 24),\n",
       " ('cad_probs_30', 23),\n",
       " ('cad_probs_10000000', 22),\n",
       " ('cad_probs_20', 22),\n",
       " ('cads_med', 22),\n",
       " ('all_times_nhist_peak_2_to_4', 20),\n",
       " ('cad_probs_5000000', 19),\n",
       " ('cads_std', 16),\n",
       " ('all_times_nhist_peak_2_to_3', 16),\n",
       " ('freq3_rel_phase4', 15),\n",
       " ('all_times_nhist_peak3_bin', 14),\n",
       " ('all_times_nhist_peak1_bin', 13),\n",
       " ('all_times_nhist_peak4_bin', 12),\n",
       " ('std_double_to_single_step', 11),\n",
       " ('all_times_nhist_peak2_bin', 10),\n",
       " ('cad_probs_500000', 10),\n",
       " ('freq3_rel_phase3', 8),\n",
       " ('cad_probs_10000', 6),\n",
       " ('cad_probs_50000', 6),\n",
       " ('freq2_rel_phase4', 4),\n",
       " ('freq2_rel_phase3', 2),\n",
       " ('all_times_nhist_peak_1_to_3', 1)]"
      ]
     },
     "execution_count": 12,
     "metadata": {},
     "output_type": "execute_result"
    }
   ],
   "source": [
    "sorted_count_features_mic = [(key, value) for key, value in count_features_mic.items()]\n",
    "sorted_count_features_mic.sort(key=lambda x: x[1], reverse=True)\n",
    "sorted_count_features_mic"
   ]
  },
  {
   "cell_type": "code",
   "execution_count": 13,
   "id": "d3aa3de9",
   "metadata": {
    "ExecuteTime": {
     "end_time": "2023-02-11T14:15:52.783776Z",
     "start_time": "2023-02-11T14:15:52.769812Z"
    }
   },
   "outputs": [
    {
     "data": {
      "text/plain": [
       "46"
      ]
     },
     "execution_count": 13,
     "metadata": {},
     "output_type": "execute_result"
    }
   ],
   "source": [
    "len(sorted_count_features_mic)"
   ]
  },
  {
   "cell_type": "markdown",
   "id": "b5995ca1",
   "metadata": {},
   "source": [
    "**OBSERVATION:** oiut of the $48$ initial features, up to $46$ of them have appeared in the top-$24$ list in some of the $50$ trials, and only about $10$ to $15$ features appear consistently in the top-$24$ list. Only $2$ features appear always in the top-$24$ list.\n",
    "\n",
    "This seems to suggest that feature selection is not reliable, and we should not use it, leaving that feature selection task to the ML model itself during optimization and training with crossvalidation.\n",
    "\n",
    "Anyway, we store this information for later use, if needed."
   ]
  },
  {
   "cell_type": "markdown",
   "id": "bea2cb4b",
   "metadata": {},
   "source": [
    "### Save selected features info"
   ]
  },
  {
   "cell_type": "code",
   "execution_count": 14,
   "id": "81e8307c",
   "metadata": {
    "ExecuteTime": {
     "end_time": "2023-02-11T14:15:52.798745Z",
     "start_time": "2023-02-11T14:15:52.785770Z"
    }
   },
   "outputs": [],
   "source": [
    "pickle.dump(sorted_count_features_mic, open(SEL_FEATURE_A_LIST_OUT, 'wb'))"
   ]
  },
  {
   "cell_type": "markdown",
   "id": "2da71c6b",
   "metadata": {},
   "source": [
    "## Feature selection (with `f_classif` score)"
   ]
  },
  {
   "cell_type": "markdown",
   "id": "fcc76ce3",
   "metadata": {},
   "source": [
    "Let's try with another score function, `f_classif`, which focuses more on linear relationships of features with the target variable, we will again limit it to just $24$ features, to see if the same features appear, and again with a $50$ iteration run."
   ]
  },
  {
   "cell_type": "code",
   "execution_count": 15,
   "id": "f34a41bf",
   "metadata": {
    "ExecuteTime": {
     "end_time": "2023-02-11T14:15:52.923182Z",
     "start_time": "2023-02-11T14:15:52.799738Z"
    },
    "scrolled": false
   },
   "outputs": [],
   "source": [
    "warnings.filterwarnings(action='ignore')\n",
    "np.random.seed(RANDOM_STATE) # For reproducibility\n",
    "count_features_fc = {}\n",
    "for i in range(0, 50):\n",
    "    fsel = SelectKBest(score_func=f_classif, k=24)\n",
    "    fsel.fit(X=s4[rel_features], y=s4['Pulsating'])\n",
    "    sel_idx = fsel.get_support(indices=True).tolist()\n",
    "    sel_features = [rel_features[i] for i in range(0, len(rel_features)) if i in sel_idx]\n",
    "    for f in sel_features:\n",
    "        count_features_fc[f] = count_features_fc.get(f, 0) + 1\n"
   ]
  },
  {
   "cell_type": "code",
   "execution_count": 16,
   "id": "161611fe",
   "metadata": {
    "ExecuteTime": {
     "end_time": "2023-02-11T14:15:52.939255Z",
     "start_time": "2023-02-11T14:15:52.925179Z"
    }
   },
   "outputs": [
    {
     "name": "stdout",
     "output_type": "stream",
     "text": [
      "{'all_times_nhist_numpeaks': 50, 'all_times_nhist_peak1_bin': 50, 'all_times_nhist_peak3_bin': 50, 'all_times_nhist_peak4_bin': 50, 'all_times_nhist_peak_1_to_4': 50, 'all_times_nhist_peak_2_to_4': 50, 'all_times_nhist_peak_3_to_4': 50, 'cad_probs_10': 50, 'cad_probs_20': 50, 'cad_probs_30': 50, 'cad_probs_40': 50, 'cad_probs_50': 50, 'cad_probs_100000': 50, 'cad_probs_1000000': 50, 'cads_avg': 50, 'n_epochs': 50, 'total_time': 50, 'freq1_rel_phase2': 50, 'freq1_rel_phase3': 50, 'freq2_rel_phase2': 50, 'freq2_rel_phase3': 50, 'freq2_rel_phase4': 50, 'freq3_rel_phase2': 50, 'freq_model_phi1_phi2': 50}\n"
     ]
    }
   ],
   "source": [
    "print(count_features_fc)"
   ]
  },
  {
   "cell_type": "markdown",
   "id": "b024f9f6",
   "metadata": {},
   "source": [
    "Sort descending:"
   ]
  },
  {
   "cell_type": "code",
   "execution_count": 17,
   "id": "cdd2865a",
   "metadata": {
    "ExecuteTime": {
     "end_time": "2023-02-11T14:15:52.954187Z",
     "start_time": "2023-02-11T14:15:52.942223Z"
    }
   },
   "outputs": [
    {
     "data": {
      "text/plain": [
       "[('all_times_nhist_numpeaks', 50),\n",
       " ('all_times_nhist_peak1_bin', 50),\n",
       " ('all_times_nhist_peak3_bin', 50),\n",
       " ('all_times_nhist_peak4_bin', 50),\n",
       " ('all_times_nhist_peak_1_to_4', 50),\n",
       " ('all_times_nhist_peak_2_to_4', 50),\n",
       " ('all_times_nhist_peak_3_to_4', 50),\n",
       " ('cad_probs_10', 50),\n",
       " ('cad_probs_20', 50),\n",
       " ('cad_probs_30', 50),\n",
       " ('cad_probs_40', 50),\n",
       " ('cad_probs_50', 50),\n",
       " ('cad_probs_100000', 50),\n",
       " ('cad_probs_1000000', 50),\n",
       " ('cads_avg', 50),\n",
       " ('n_epochs', 50),\n",
       " ('total_time', 50),\n",
       " ('freq1_rel_phase2', 50),\n",
       " ('freq1_rel_phase3', 50),\n",
       " ('freq2_rel_phase2', 50),\n",
       " ('freq2_rel_phase3', 50),\n",
       " ('freq2_rel_phase4', 50),\n",
       " ('freq3_rel_phase2', 50),\n",
       " ('freq_model_phi1_phi2', 50)]"
      ]
     },
     "execution_count": 17,
     "metadata": {},
     "output_type": "execute_result"
    }
   ],
   "source": [
    "sorted_count_features_fc = [(key, value) for key, value in count_features_fc.items()]\n",
    "sorted_count_features_fc.sort(key=lambda x: x[1], reverse=True)\n",
    "sorted_count_features_fc"
   ]
  },
  {
   "cell_type": "code",
   "execution_count": 18,
   "id": "24ad9715",
   "metadata": {
    "ExecuteTime": {
     "end_time": "2023-02-11T14:15:52.970134Z",
     "start_time": "2023-02-11T14:15:52.956172Z"
    }
   },
   "outputs": [
    {
     "data": {
      "text/plain": [
       "24"
      ]
     },
     "execution_count": 18,
     "metadata": {},
     "output_type": "execute_result"
    }
   ],
   "source": [
    "len(sorted_count_features_fc)"
   ]
  },
  {
   "cell_type": "markdown",
   "id": "29b7e6eb",
   "metadata": {},
   "source": [
    "**OBSERVATION:** this is interesting, results are stable with this `f_classif` score function: the same $24$ features appear consistently.\n",
    "\n",
    "Let's run it one more time with all the features and check the p-values."
   ]
  },
  {
   "cell_type": "code",
   "execution_count": 19,
   "id": "6ce6c512",
   "metadata": {
    "ExecuteTime": {
     "end_time": "2023-02-11T14:15:52.986092Z",
     "start_time": "2023-02-11T14:15:52.972128Z"
    }
   },
   "outputs": [
    {
     "name": "stdout",
     "output_type": "stream",
     "text": [
      "['all_times_nhist_numpeaks', 'all_times_nhist_peak1_bin', 'all_times_nhist_peak3_bin', 'all_times_nhist_peak4_bin', 'all_times_nhist_peak_1_to_4', 'all_times_nhist_peak_2_to_4', 'all_times_nhist_peak_3_to_4', 'cad_probs_10', 'cad_probs_20', 'cad_probs_30', 'cad_probs_40', 'cad_probs_50', 'cad_probs_100000', 'cad_probs_1000000', 'cads_avg', 'n_epochs', 'total_time', 'freq1_rel_phase2', 'freq1_rel_phase3', 'freq2_rel_phase2', 'freq2_rel_phase3', 'freq2_rel_phase4', 'freq3_rel_phase2', 'freq_model_phi1_phi2']\n"
     ]
    }
   ],
   "source": [
    "fsel = SelectKBest(score_func=f_classif, k=24)\n",
    "fsel.fit(X=s4[rel_features], y=s4['Pulsating'])\n",
    "sel_idx = fsel.get_support(indices=True).tolist()\n",
    "sel_features = [rel_features[i] for i in range(0, len(rel_features)) if i in sel_idx]\n",
    "print(sel_features)"
   ]
  },
  {
   "cell_type": "code",
   "execution_count": 20,
   "id": "7e8b6812",
   "metadata": {
    "ExecuteTime": {
     "end_time": "2023-02-11T14:15:53.001341Z",
     "start_time": "2023-02-11T14:15:52.987089Z"
    }
   },
   "outputs": [
    {
     "data": {
      "text/plain": [
       "24"
      ]
     },
     "execution_count": 20,
     "metadata": {},
     "output_type": "execute_result"
    }
   ],
   "source": [
    "len(sel_features)"
   ]
  },
  {
   "cell_type": "code",
   "execution_count": 21,
   "id": "59708c21",
   "metadata": {
    "ExecuteTime": {
     "end_time": "2023-02-11T14:15:53.017301Z",
     "start_time": "2023-02-11T14:15:53.003339Z"
    }
   },
   "outputs": [
    {
     "name": "stdout",
     "output_type": "stream",
     "text": [
      "[2.3699766197518413, 4.496974881126946, 0.1986572123634698, 0.3813400031556547, 2.9777779690358943, 0.003806909728075224, 0.2652077401070679, 0.5809279626642733, 0.13956413446540564, 1.854567966581379, 1.3124597203167931, 0.2585632616698999, 0.2081726841161018, nan, 0.4575666030869316, 0.9415903673421611, 1.2877160517888129, 0.31966513729425833, 0.3630054873475876, 0.13038712519792328, 0.026694518833785194, 0.027755316370961684, 0.17043184860791924, 0.09090892035803584, 0.22508677606681918, 1.118691675200149, 0.010652963397768169, 0.3106154581057065, nan, nan, 0.385254703338002, 0.18571279636497912, 0.001321981306001428, 0.30802292840684653, 2.2244265803520373, 0.23069256401428595, 0.7020683202586707, 0.06734418002145164, 2.5424674528027587, 0.5223392771119948, 0.009219515919619756, 0.8919170768091889, 1.1215080882939141, 2.221924809721255, 0.4441610272126721, 0.1783551037913882, 0.2598396455280381, 0.4339040347861714]\n"
     ]
    }
   ],
   "source": [
    "scores = fsel.scores_.tolist()\n",
    "print(scores)"
   ]
  },
  {
   "cell_type": "code",
   "execution_count": 22,
   "id": "289bb589",
   "metadata": {
    "ExecuteTime": {
     "end_time": "2023-02-11T14:15:53.032872Z",
     "start_time": "2023-02-11T14:15:53.018568Z"
    }
   },
   "outputs": [
    {
     "name": "stdout",
     "output_type": "stream",
     "text": [
      "[0.12400589 0.03420101 0.65590357 0.53702783 0.08472463 0.95081397\n",
      " 0.60667877 0.44612891 0.70879405 0.17356036 0.25222443 0.61122132\n",
      " 0.64830269        nan 0.49892016 0.33210428 0.25674175 0.57193603\n",
      " 0.54697865 0.71810741 0.87024873 0.86771912 0.67981697 0.76308763\n",
      " 0.63529488 0.29045629 0.9178145  0.57742773        nan        nan\n",
      " 0.53494605 0.66660209 0.97100333 0.5790203  0.13615909 0.63111604\n",
      " 0.4022902  0.79529716 0.1111381  0.47001484 0.92352531 0.3451869\n",
      " 0.2898502  0.13637931 0.50527494 0.67288163 0.61034304 0.51023143]\n"
     ]
    }
   ],
   "source": [
    "print(fsel.pvalues_)"
   ]
  },
  {
   "cell_type": "code",
   "execution_count": 23,
   "id": "a0667ea0",
   "metadata": {
    "ExecuteTime": {
     "end_time": "2023-02-11T14:15:53.048128Z",
     "start_time": "2023-02-11T14:15:53.033842Z"
    }
   },
   "outputs": [
    {
     "data": {
      "text/plain": [
       "48"
      ]
     },
     "execution_count": 23,
     "metadata": {},
     "output_type": "execute_result"
    }
   ],
   "source": [
    "len(scores)"
   ]
  },
  {
   "cell_type": "markdown",
   "id": "15a1c6fe",
   "metadata": {},
   "source": [
    "How large are the p-values of each feature? How many are above 0.95?"
   ]
  },
  {
   "cell_type": "code",
   "execution_count": 24,
   "id": "befefdfa",
   "metadata": {
    "ExecuteTime": {
     "end_time": "2023-02-11T14:15:53.064104Z",
     "start_time": "2023-02-11T14:15:53.049125Z"
    }
   },
   "outputs": [
    {
     "data": {
      "text/plain": [
       "2"
      ]
     },
     "execution_count": 24,
     "metadata": {},
     "output_type": "execute_result"
    }
   ],
   "source": [
    "(fsel.pvalues_ > 0.95).sum()"
   ]
  },
  {
   "cell_type": "code",
   "execution_count": 25,
   "id": "3750397d",
   "metadata": {
    "ExecuteTime": {
     "end_time": "2023-02-11T14:15:53.079064Z",
     "start_time": "2023-02-11T14:15:53.065101Z"
    }
   },
   "outputs": [
    {
     "data": {
      "text/plain": [
       "[(5, 'all_times_nhist_peak_1_to_2'), (32, 'cads_std')]"
      ]
     },
     "execution_count": 25,
     "metadata": {},
     "output_type": "execute_result"
    }
   ],
   "source": [
    "features_to_drop = [(i,rel_features[i]) for i in range(0, len(rel_features)) if fsel.pvalues_[i] > 0.95]\n",
    "features_to_drop"
   ]
  },
  {
   "cell_type": "markdown",
   "id": "d060ad99",
   "metadata": {},
   "source": [
    "That is to say, only $2$ features can be said to be statistically independent of the target value. That is to say, we could only drop these $2$ features."
   ]
  },
  {
   "cell_type": "markdown",
   "id": "4e07fb15",
   "metadata": {},
   "source": [
    "## Summary"
   ]
  },
  {
   "cell_type": "markdown",
   "id": "0cf10821",
   "metadata": {},
   "source": [
    "**RESULTS:**\n",
    "\n",
    "- We got inconsistent results of the top-$24$ list of selected features when using the `mutual_info_classif` score.\n",
    "- Using the `f_classif`, the results are consistent, but according to the p-values results, only two features have p-values above $0.95\\%$, which means that we could only discard $2$ features.\n",
    "\n",
    "**CONCLUSIONS:**\n",
    "\n",
    "- In line with the results shown by the PCA, it is not advisable to use feature extraction in our case."
   ]
  },
  {
   "cell_type": "code",
   "execution_count": null,
   "id": "1fb395c5",
   "metadata": {},
   "outputs": [],
   "source": []
  }
 ],
 "metadata": {
  "kernelspec": {
   "display_name": "Python 3 (ipykernel)",
   "language": "python",
   "name": "python3"
  },
  "language_info": {
   "codemirror_mode": {
    "name": "ipython",
    "version": 3
   },
   "file_extension": ".py",
   "mimetype": "text/x-python",
   "name": "python",
   "nbconvert_exporter": "python",
   "pygments_lexer": "ipython3",
   "version": "3.8.8"
  },
  "toc": {
   "base_numbering": 1,
   "nav_menu": {},
   "number_sections": true,
   "sideBar": true,
   "skip_h1_title": true,
   "title_cell": "Table of Contents",
   "title_sidebar": "Contents",
   "toc_cell": false,
   "toc_position": {
    "height": "calc(100% - 180px)",
    "left": "10px",
    "top": "150px",
    "width": "370.797px"
   },
   "toc_section_display": true,
   "toc_window_display": true
  }
 },
 "nbformat": 4,
 "nbformat_minor": 5
}
