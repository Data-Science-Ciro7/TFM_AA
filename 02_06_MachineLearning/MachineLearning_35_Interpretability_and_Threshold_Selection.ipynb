{
 "cells": [
  {
   "cell_type": "markdown",
   "id": "5657ed60",
   "metadata": {},
   "source": [
    "# MACHINE LEARNING - INTERPRETABILITY AND THRESHOLD ADJUSTMENT"
   ]
  },
  {
   "cell_type": "markdown",
   "id": "0d8e7ec8",
   "metadata": {},
   "source": [
    "In this notebook we use the fitted model (optimized and trained) to focus not on the predictions labels, but on the prediction probabilities.\n",
    "\n",
    "The idea is to see how the four main metrics (precisipon, accuracy, recall and F1 score) vary when we vary the detection threshold and apply it to a validation set."
   ]
  },
  {
   "cell_type": "markdown",
   "id": "a45b1a5a",
   "metadata": {},
   "source": [
    "## Modules and configuration"
   ]
  },
  {
   "cell_type": "markdown",
   "id": "6569d8c2",
   "metadata": {},
   "source": [
    "### Modules"
   ]
  },
  {
   "cell_type": "code",
   "execution_count": 39,
   "id": "db817188",
   "metadata": {
    "ExecuteTime": {
     "end_time": "2022-05-05T10:19:02.454965Z",
     "start_time": "2022-05-05T10:19:02.340613Z"
    }
   },
   "outputs": [],
   "source": [
    "import warnings\n",
    "\n",
    "import pandas as pd\n",
    "import numpy as np\n",
    "\n",
    "from sklearn.model_selection import train_test_split\n",
    "from sklearn.model_selection import RandomizedSearchCV\n",
    "\n",
    "from sklearn.metrics import precision_score, accuracy_score, recall_score, f1_score\n",
    "\n",
    "#from sklearn.experimental import enable_hist_gradient_boosting\n",
    "# Not sure why this 'experimental' import is needed, as the sklearn version is 0.24.x > 0.21.x\n",
    "from sklearn.ensemble import HistGradientBoostingClassifier\n",
    "\n",
    "from joblib import dump, load\n",
    "\n",
    "import matplotlib.pyplot as plt\n",
    "\n",
    "import seaborn as sns\n",
    "sns.set_style(\"white\", {'figure.figsize':(15,10)})"
   ]
  },
  {
   "cell_type": "markdown",
   "id": "44ad459b",
   "metadata": {},
   "source": [
    "### Configuration"
   ]
  },
  {
   "cell_type": "code",
   "execution_count": 2,
   "id": "044384a7",
   "metadata": {
    "ExecuteTime": {
     "end_time": "2022-05-05T09:24:06.838814Z",
     "start_time": "2022-05-05T09:24:06.830845Z"
    }
   },
   "outputs": [],
   "source": [
    "# CONFIGURATION:\n",
    "RANDOM_STATE = 11 # For reproducibility\n",
    "\n",
    "# FILES AND FOLDERS\n",
    "SYNTH_DATASET = \"../data/DATASETS_ML/DS4_Dataset.csv\" # The already preprocessed one.\n",
    "OUT_MODELS_FOLDER = \"../data/MODELS_ML/\"\n",
    "\n",
    "# FEATURES TO KEEP - To remove the Lomb-Scargle (Periodic) 'cesium' features\n",
    "TARGET_DS4 = ['Pulsating']\n",
    "KEEP_CS_FEATURES = ['all_times_nhist_numpeaks',\n",
    "                   'all_times_nhist_peak1_bin', 'all_times_nhist_peak2_bin', 'all_times_nhist_peak3_bin', 'all_times_nhist_peak4_bin',\n",
    "                   'all_times_nhist_peak_1_to_2', 'all_times_nhist_peak_1_to_3', 'all_times_nhist_peak_1_to_4',\n",
    "                   'all_times_nhist_peak_2_to_3', 'all_times_nhist_peak_2_to_4',\n",
    "                   'all_times_nhist_peak_3_to_4',\n",
    "                   'all_times_nhist_peak_val',\n",
    "                   'avg_double_to_single_step', 'avg_err', 'avgt',\n",
    "                   'cad_probs_1', 'cad_probs_10', 'cad_probs_20', 'cad_probs_30', 'cad_probs_40', 'cad_probs_50',\n",
    "                   'cad_probs_100', 'cad_probs_500', 'cad_probs_1000', 'cad_probs_5000',\n",
    "                   'cad_probs_10000', 'cad_probs_50000', 'cad_probs_100000', 'cad_probs_500000',\n",
    "                   'cad_probs_1000000', 'cad_probs_5000000', 'cad_probs_10000000',\n",
    "                   'cads_avg', 'cads_med', 'cads_std', 'mean',\n",
    "                   'med_double_to_single_step', 'med_err',\n",
    "                   'n_epochs', 'std_double_to_single_step', 'std_err',\n",
    "                   'total_time', 'amplitude',\n",
    "                   'flux_percentile_ratio_mid20', 'flux_percentile_ratio_mid35', 'flux_percentile_ratio_mid50',\n",
    "                   'flux_percentile_ratio_mid65', 'flux_percentile_ratio_mid80',\n",
    "                   'max_slope', 'maximum', 'median', 'median_absolute_deviation', 'minimum',\n",
    "                   'percent_amplitude', 'percent_beyond_1_std', 'percent_close_to_median', 'percent_difference_flux_percentile',\n",
    "                   'period_fast', 'qso_log_chi2_qsonu', 'qso_log_chi2nuNULL_chi2nu', 'skew', 'std',\n",
    "                   'stetson_j', 'stetson_k', 'weighted_average', 'fold2P_slope_10percentile', 'fold2P_slope_90percentile']\n",
    "\n",
    "# TRAIN/TEST SPLITS:\n",
    "VALIDATION_SIZE = 0.25 # Fraction of DS4 reserved for model validation.\n"
   ]
  },
  {
   "cell_type": "markdown",
   "id": "fd9226a8",
   "metadata": {},
   "source": [
    "### Functions"
   ]
  },
  {
   "cell_type": "code",
   "execution_count": null,
   "id": "5eb58654",
   "metadata": {
    "ExecuteTime": {
     "end_time": "2022-04-26T12:07:15.360801Z",
     "start_time": "2022-04-26T12:07:15.345802Z"
    }
   },
   "outputs": [],
   "source": []
  },
  {
   "cell_type": "markdown",
   "id": "cf382cdb",
   "metadata": {},
   "source": [
    "## Load the train/test and validation dataset"
   ]
  },
  {
   "cell_type": "code",
   "execution_count": 3,
   "id": "75d86e61",
   "metadata": {
    "ExecuteTime": {
     "end_time": "2022-05-05T09:24:08.961964Z",
     "start_time": "2022-05-05T09:24:08.908892Z"
    }
   },
   "outputs": [
    {
     "data": {
      "text/html": [
       "<div>\n",
       "<style scoped>\n",
       "    .dataframe tbody tr th:only-of-type {\n",
       "        vertical-align: middle;\n",
       "    }\n",
       "\n",
       "    .dataframe tbody tr th {\n",
       "        vertical-align: top;\n",
       "    }\n",
       "\n",
       "    .dataframe thead th {\n",
       "        text-align: right;\n",
       "    }\n",
       "</style>\n",
       "<table border=\"1\" class=\"dataframe\">\n",
       "  <thead>\n",
       "    <tr style=\"text-align: right;\">\n",
       "      <th></th>\n",
       "      <th>all_times_nhist_numpeaks</th>\n",
       "      <th>all_times_nhist_peak1_bin</th>\n",
       "      <th>all_times_nhist_peak2_bin</th>\n",
       "      <th>all_times_nhist_peak3_bin</th>\n",
       "      <th>all_times_nhist_peak4_bin</th>\n",
       "      <th>all_times_nhist_peak_1_to_2</th>\n",
       "      <th>all_times_nhist_peak_1_to_3</th>\n",
       "      <th>all_times_nhist_peak_1_to_4</th>\n",
       "      <th>all_times_nhist_peak_2_to_3</th>\n",
       "      <th>all_times_nhist_peak_2_to_4</th>\n",
       "      <th>...</th>\n",
       "      <th>qso_log_chi2_qsonu</th>\n",
       "      <th>qso_log_chi2nuNULL_chi2nu</th>\n",
       "      <th>skew</th>\n",
       "      <th>std</th>\n",
       "      <th>stetson_j</th>\n",
       "      <th>stetson_k</th>\n",
       "      <th>weighted_average</th>\n",
       "      <th>fold2P_slope_10percentile</th>\n",
       "      <th>fold2P_slope_90percentile</th>\n",
       "      <th>Pulsating</th>\n",
       "    </tr>\n",
       "  </thead>\n",
       "  <tbody>\n",
       "    <tr>\n",
       "      <th>0</th>\n",
       "      <td>8.0</td>\n",
       "      <td>22.0</td>\n",
       "      <td>32.0</td>\n",
       "      <td>34.0</td>\n",
       "      <td>47.0</td>\n",
       "      <td>1.037736</td>\n",
       "      <td>1.122449</td>\n",
       "      <td>1.527778</td>\n",
       "      <td>1.081633</td>\n",
       "      <td>1.472222</td>\n",
       "      <td>...</td>\n",
       "      <td>11.309243</td>\n",
       "      <td>-0.256635</td>\n",
       "      <td>-0.781648</td>\n",
       "      <td>3.165073</td>\n",
       "      <td>24.980336</td>\n",
       "      <td>0.958442</td>\n",
       "      <td>640.080094</td>\n",
       "      <td>-804.937332</td>\n",
       "      <td>734.364181</td>\n",
       "      <td>1</td>\n",
       "    </tr>\n",
       "    <tr>\n",
       "      <th>1</th>\n",
       "      <td>4.0</td>\n",
       "      <td>25.0</td>\n",
       "      <td>23.0</td>\n",
       "      <td>49.0</td>\n",
       "      <td>NaN</td>\n",
       "      <td>1.500000</td>\n",
       "      <td>2.000000</td>\n",
       "      <td>NaN</td>\n",
       "      <td>1.333333</td>\n",
       "      <td>NaN</td>\n",
       "      <td>...</td>\n",
       "      <td>10.193226</td>\n",
       "      <td>-0.719675</td>\n",
       "      <td>-0.066318</td>\n",
       "      <td>2.172986</td>\n",
       "      <td>18.856633</td>\n",
       "      <td>1.041665</td>\n",
       "      <td>1393.651760</td>\n",
       "      <td>-0.000084</td>\n",
       "      <td>0.000069</td>\n",
       "      <td>1</td>\n",
       "    </tr>\n",
       "    <tr>\n",
       "      <th>2</th>\n",
       "      <td>7.0</td>\n",
       "      <td>9.0</td>\n",
       "      <td>16.0</td>\n",
       "      <td>26.0</td>\n",
       "      <td>43.0</td>\n",
       "      <td>1.500000</td>\n",
       "      <td>1.500000</td>\n",
       "      <td>1.615385</td>\n",
       "      <td>1.000000</td>\n",
       "      <td>1.076923</td>\n",
       "      <td>...</td>\n",
       "      <td>9.388395</td>\n",
       "      <td>0.509991</td>\n",
       "      <td>0.234427</td>\n",
       "      <td>2.803447</td>\n",
       "      <td>22.406281</td>\n",
       "      <td>0.974131</td>\n",
       "      <td>1798.934279</td>\n",
       "      <td>-0.000131</td>\n",
       "      <td>0.000092</td>\n",
       "      <td>0</td>\n",
       "    </tr>\n",
       "    <tr>\n",
       "      <th>3</th>\n",
       "      <td>9.0</td>\n",
       "      <td>10.0</td>\n",
       "      <td>46.0</td>\n",
       "      <td>49.0</td>\n",
       "      <td>0.0</td>\n",
       "      <td>1.000000</td>\n",
       "      <td>1.000000</td>\n",
       "      <td>2.000000</td>\n",
       "      <td>1.000000</td>\n",
       "      <td>2.000000</td>\n",
       "      <td>...</td>\n",
       "      <td>12.881028</td>\n",
       "      <td>-0.441638</td>\n",
       "      <td>-0.583404</td>\n",
       "      <td>3.021310</td>\n",
       "      <td>27.726903</td>\n",
       "      <td>0.968993</td>\n",
       "      <td>918.862056</td>\n",
       "      <td>-0.000110</td>\n",
       "      <td>0.000187</td>\n",
       "      <td>0</td>\n",
       "    </tr>\n",
       "    <tr>\n",
       "      <th>4</th>\n",
       "      <td>7.0</td>\n",
       "      <td>23.0</td>\n",
       "      <td>26.0</td>\n",
       "      <td>19.0</td>\n",
       "      <td>3.0</td>\n",
       "      <td>1.000000</td>\n",
       "      <td>1.500000</td>\n",
       "      <td>3.000000</td>\n",
       "      <td>1.500000</td>\n",
       "      <td>3.000000</td>\n",
       "      <td>...</td>\n",
       "      <td>9.928810</td>\n",
       "      <td>-0.441719</td>\n",
       "      <td>0.653280</td>\n",
       "      <td>2.835690</td>\n",
       "      <td>24.866941</td>\n",
       "      <td>1.020485</td>\n",
       "      <td>-1374.121335</td>\n",
       "      <td>-0.000017</td>\n",
       "      <td>0.000029</td>\n",
       "      <td>1</td>\n",
       "    </tr>\n",
       "  </tbody>\n",
       "</table>\n",
       "<p>5 rows × 68 columns</p>\n",
       "</div>"
      ],
      "text/plain": [
       "   all_times_nhist_numpeaks  all_times_nhist_peak1_bin  \\\n",
       "0                       8.0                       22.0   \n",
       "1                       4.0                       25.0   \n",
       "2                       7.0                        9.0   \n",
       "3                       9.0                       10.0   \n",
       "4                       7.0                       23.0   \n",
       "\n",
       "   all_times_nhist_peak2_bin  all_times_nhist_peak3_bin  \\\n",
       "0                       32.0                       34.0   \n",
       "1                       23.0                       49.0   \n",
       "2                       16.0                       26.0   \n",
       "3                       46.0                       49.0   \n",
       "4                       26.0                       19.0   \n",
       "\n",
       "   all_times_nhist_peak4_bin  all_times_nhist_peak_1_to_2  \\\n",
       "0                       47.0                     1.037736   \n",
       "1                        NaN                     1.500000   \n",
       "2                       43.0                     1.500000   \n",
       "3                        0.0                     1.000000   \n",
       "4                        3.0                     1.000000   \n",
       "\n",
       "   all_times_nhist_peak_1_to_3  all_times_nhist_peak_1_to_4  \\\n",
       "0                     1.122449                     1.527778   \n",
       "1                     2.000000                          NaN   \n",
       "2                     1.500000                     1.615385   \n",
       "3                     1.000000                     2.000000   \n",
       "4                     1.500000                     3.000000   \n",
       "\n",
       "   all_times_nhist_peak_2_to_3  all_times_nhist_peak_2_to_4  ...  \\\n",
       "0                     1.081633                     1.472222  ...   \n",
       "1                     1.333333                          NaN  ...   \n",
       "2                     1.000000                     1.076923  ...   \n",
       "3                     1.000000                     2.000000  ...   \n",
       "4                     1.500000                     3.000000  ...   \n",
       "\n",
       "   qso_log_chi2_qsonu  qso_log_chi2nuNULL_chi2nu      skew       std  \\\n",
       "0           11.309243                  -0.256635 -0.781648  3.165073   \n",
       "1           10.193226                  -0.719675 -0.066318  2.172986   \n",
       "2            9.388395                   0.509991  0.234427  2.803447   \n",
       "3           12.881028                  -0.441638 -0.583404  3.021310   \n",
       "4            9.928810                  -0.441719  0.653280  2.835690   \n",
       "\n",
       "   stetson_j  stetson_k  weighted_average  fold2P_slope_10percentile  \\\n",
       "0  24.980336   0.958442        640.080094                -804.937332   \n",
       "1  18.856633   1.041665       1393.651760                  -0.000084   \n",
       "2  22.406281   0.974131       1798.934279                  -0.000131   \n",
       "3  27.726903   0.968993        918.862056                  -0.000110   \n",
       "4  24.866941   1.020485      -1374.121335                  -0.000017   \n",
       "\n",
       "   fold2P_slope_90percentile  Pulsating  \n",
       "0                 734.364181          1  \n",
       "1                   0.000069          1  \n",
       "2                   0.000092          0  \n",
       "3                   0.000187          0  \n",
       "4                   0.000029          1  \n",
       "\n",
       "[5 rows x 68 columns]"
      ]
     },
     "execution_count": 3,
     "metadata": {},
     "output_type": "execute_result"
    }
   ],
   "source": [
    "ds4 = pd.read_csv(SYNTH_DATASET, sep=',', decimal='.')\n",
    "ds4.head()"
   ]
  },
  {
   "cell_type": "markdown",
   "id": "db2231d6",
   "metadata": {},
   "source": [
    "## Train/test set and validation set split"
   ]
  },
  {
   "cell_type": "markdown",
   "id": "71dff867",
   "metadata": {},
   "source": [
    "We do a train/test set and validation set split, in order to extract a vaidation set where to test the model. It is assumed, as we make use of the variable `RANDOM_STATE` with a fixed value of 11.\n",
    "\n",
    "**NOTE:** it is important to stratify the split with the target variable (`Pulsating` column)."
   ]
  },
  {
   "cell_type": "markdown",
   "id": "e2776e17",
   "metadata": {},
   "source": [
    "We first separate the features from the target variable:"
   ]
  },
  {
   "cell_type": "code",
   "execution_count": 4,
   "id": "14ac9e70",
   "metadata": {
    "ExecuteTime": {
     "end_time": "2022-05-05T09:24:10.282881Z",
     "start_time": "2022-05-05T09:24:10.270913Z"
    }
   },
   "outputs": [],
   "source": [
    "X = ds4.drop(columns=TARGET_DS4).copy()\n",
    "y = ds4[TARGET_DS4].copy()"
   ]
  },
  {
   "cell_type": "code",
   "execution_count": 5,
   "id": "125ba3c6",
   "metadata": {
    "ExecuteTime": {
     "end_time": "2022-05-05T09:24:10.590019Z",
     "start_time": "2022-05-05T09:24:10.575059Z"
    }
   },
   "outputs": [],
   "source": [
    "X_train, X_val, y_train, y_val = train_test_split(X, y, test_size=VALIDATION_SIZE,\n",
    "                                                    stratify=y, random_state=RANDOM_STATE)"
   ]
  },
  {
   "cell_type": "code",
   "execution_count": 6,
   "id": "da886524",
   "metadata": {
    "ExecuteTime": {
     "end_time": "2022-05-05T09:24:10.916073Z",
     "start_time": "2022-05-05T09:24:10.905103Z"
    }
   },
   "outputs": [
    {
     "data": {
      "text/plain": [
       "(750, 67)"
      ]
     },
     "execution_count": 6,
     "metadata": {},
     "output_type": "execute_result"
    }
   ],
   "source": [
    "X_train.shape"
   ]
  },
  {
   "cell_type": "code",
   "execution_count": 7,
   "id": "c67daf22",
   "metadata": {
    "ExecuteTime": {
     "end_time": "2022-05-05T09:24:11.289507Z",
     "start_time": "2022-05-05T09:24:11.279258Z"
    }
   },
   "outputs": [
    {
     "data": {
      "text/plain": [
       "(750, 1)"
      ]
     },
     "execution_count": 7,
     "metadata": {},
     "output_type": "execute_result"
    }
   ],
   "source": [
    "y_train.shape"
   ]
  },
  {
   "cell_type": "code",
   "execution_count": 8,
   "id": "53d77da4",
   "metadata": {
    "ExecuteTime": {
     "end_time": "2022-05-05T09:24:12.131612Z",
     "start_time": "2022-05-05T09:24:12.111833Z"
    }
   },
   "outputs": [
    {
     "data": {
      "text/html": [
       "<div>\n",
       "<style scoped>\n",
       "    .dataframe tbody tr th:only-of-type {\n",
       "        vertical-align: middle;\n",
       "    }\n",
       "\n",
       "    .dataframe tbody tr th {\n",
       "        vertical-align: top;\n",
       "    }\n",
       "\n",
       "    .dataframe thead th {\n",
       "        text-align: right;\n",
       "    }\n",
       "</style>\n",
       "<table border=\"1\" class=\"dataframe\">\n",
       "  <thead>\n",
       "    <tr style=\"text-align: right;\">\n",
       "      <th></th>\n",
       "      <th>Pulsating</th>\n",
       "    </tr>\n",
       "  </thead>\n",
       "  <tbody>\n",
       "    <tr>\n",
       "      <th>303</th>\n",
       "      <td>0</td>\n",
       "    </tr>\n",
       "    <tr>\n",
       "      <th>425</th>\n",
       "      <td>1</td>\n",
       "    </tr>\n",
       "    <tr>\n",
       "      <th>6</th>\n",
       "      <td>1</td>\n",
       "    </tr>\n",
       "    <tr>\n",
       "      <th>457</th>\n",
       "      <td>1</td>\n",
       "    </tr>\n",
       "    <tr>\n",
       "      <th>619</th>\n",
       "      <td>0</td>\n",
       "    </tr>\n",
       "    <tr>\n",
       "      <th>34</th>\n",
       "      <td>1</td>\n",
       "    </tr>\n",
       "    <tr>\n",
       "      <th>935</th>\n",
       "      <td>0</td>\n",
       "    </tr>\n",
       "    <tr>\n",
       "      <th>52</th>\n",
       "      <td>1</td>\n",
       "    </tr>\n",
       "    <tr>\n",
       "      <th>674</th>\n",
       "      <td>1</td>\n",
       "    </tr>\n",
       "    <tr>\n",
       "      <th>33</th>\n",
       "      <td>1</td>\n",
       "    </tr>\n",
       "  </tbody>\n",
       "</table>\n",
       "</div>"
      ],
      "text/plain": [
       "     Pulsating\n",
       "303          0\n",
       "425          1\n",
       "6            1\n",
       "457          1\n",
       "619          0\n",
       "34           1\n",
       "935          0\n",
       "52           1\n",
       "674          1\n",
       "33           1"
      ]
     },
     "execution_count": 8,
     "metadata": {},
     "output_type": "execute_result"
    }
   ],
   "source": [
    "y_train[:10]"
   ]
  },
  {
   "cell_type": "code",
   "execution_count": 9,
   "id": "58b3a191",
   "metadata": {
    "ExecuteTime": {
     "end_time": "2022-05-05T09:24:12.659791Z",
     "start_time": "2022-05-05T09:24:12.654804Z"
    }
   },
   "outputs": [
    {
     "data": {
      "text/plain": [
       "array([0, 1, 1, 1, 0, 1, 0, 1, 1, 1], dtype=int64)"
      ]
     },
     "execution_count": 9,
     "metadata": {},
     "output_type": "execute_result"
    }
   ],
   "source": [
    "np.ravel(y_train)[:10]"
   ]
  },
  {
   "cell_type": "code",
   "execution_count": 10,
   "id": "b478cd8a",
   "metadata": {
    "ExecuteTime": {
     "end_time": "2022-05-05T09:24:13.573137Z",
     "start_time": "2022-05-05T09:24:13.560170Z"
    }
   },
   "outputs": [
    {
     "data": {
      "text/plain": [
       "(250, 67)"
      ]
     },
     "execution_count": 10,
     "metadata": {},
     "output_type": "execute_result"
    }
   ],
   "source": [
    "X_val.shape"
   ]
  },
  {
   "cell_type": "code",
   "execution_count": 11,
   "id": "67ffbe8a",
   "metadata": {
    "ExecuteTime": {
     "end_time": "2022-05-05T09:24:14.457697Z",
     "start_time": "2022-05-05T09:24:14.447726Z"
    }
   },
   "outputs": [
    {
     "data": {
      "text/plain": [
       "(250, 1)"
      ]
     },
     "execution_count": 11,
     "metadata": {},
     "output_type": "execute_result"
    }
   ],
   "source": [
    "y_val.shape"
   ]
  },
  {
   "cell_type": "markdown",
   "id": "2bbc530f",
   "metadata": {},
   "source": [
    "## Load the fitted model"
   ]
  },
  {
   "cell_type": "code",
   "execution_count": 12,
   "id": "1899ffde",
   "metadata": {
    "ExecuteTime": {
     "end_time": "2022-05-05T09:24:48.809845Z",
     "start_time": "2022-05-05T09:24:48.782745Z"
    }
   },
   "outputs": [],
   "source": [
    "clf = load(OUT_MODELS_FOLDER + \"Best_Model_After_RandSearchCV.joblib\")"
   ]
  },
  {
   "cell_type": "code",
   "execution_count": 13,
   "id": "e087bdda",
   "metadata": {
    "ExecuteTime": {
     "end_time": "2022-05-05T09:24:49.586703Z",
     "start_time": "2022-05-05T09:24:49.566756Z"
    }
   },
   "outputs": [
    {
     "data": {
      "text/plain": [
       "HistGradientBoostingClassifier(learning_rate=0.08887773751235287, max_iter=53,\n",
       "                               max_leaf_nodes=None, min_samples_leaf=58,\n",
       "                               random_state=11)"
      ]
     },
     "execution_count": 13,
     "metadata": {},
     "output_type": "execute_result"
    }
   ],
   "source": [
    "clf.best_estimator_"
   ]
  },
  {
   "cell_type": "code",
   "execution_count": 14,
   "id": "034bb43a",
   "metadata": {
    "ExecuteTime": {
     "end_time": "2022-05-05T09:26:01.288071Z",
     "start_time": "2022-05-05T09:26:01.271605Z"
    }
   },
   "outputs": [
    {
     "data": {
      "text/plain": [
       "array([1.46739794])"
      ]
     },
     "execution_count": 14,
     "metadata": {},
     "output_type": "execute_result"
    }
   ],
   "source": [
    "clf.decision_function(X_val[:1])"
   ]
  },
  {
   "cell_type": "code",
   "execution_count": 15,
   "id": "b394bb50",
   "metadata": {
    "ExecuteTime": {
     "end_time": "2022-05-05T09:27:33.407782Z",
     "start_time": "2022-05-05T09:27:33.399833Z"
    }
   },
   "outputs": [
    {
     "data": {
      "text/plain": [
       "HistGradientBoostingClassifier(learning_rate=0.08887773751235287, max_iter=53,\n",
       "                               max_leaf_nodes=None, min_samples_leaf=58,\n",
       "                               random_state=11)"
      ]
     },
     "execution_count": 15,
     "metadata": {},
     "output_type": "execute_result"
    }
   ],
   "source": [
    "clf.best_estimator_"
   ]
  },
  {
   "cell_type": "code",
   "execution_count": 33,
   "id": "ddf72438",
   "metadata": {
    "ExecuteTime": {
     "end_time": "2022-05-04T22:38:37.179158Z",
     "start_time": "2022-05-04T22:38:37.167190Z"
    }
   },
   "outputs": [
    {
     "data": {
      "text/plain": [
       "array([1, 0, 1, 1, 1, 1, 1, 1, 1, 1, 1, 1, 1, 1, 1, 1, 1, 1, 1, 1, 1, 1,\n",
       "       1, 1, 1, 1, 1, 1, 1, 1, 1, 1, 1, 1, 1, 1, 1, 1, 1, 1, 1, 1, 1, 1,\n",
       "       1, 1, 1, 1, 1, 1, 1, 1, 1, 1, 1, 1, 1, 1, 1, 1, 1, 1, 1, 1, 1, 1,\n",
       "       1, 1, 1, 1, 1, 1, 1, 0, 1, 1, 1, 1, 1, 1, 1, 1, 1, 1, 1, 1, 1, 0,\n",
       "       1, 1, 0, 1, 1, 1, 1, 1, 1, 1, 1, 1, 1, 1, 1, 1, 1, 1, 1, 1, 1, 1,\n",
       "       1, 1, 1, 1, 1, 1, 0, 1, 1, 1, 1, 1, 1, 0, 0, 1, 1, 1, 1, 1, 1, 1,\n",
       "       1, 0, 1, 1, 1, 0, 1, 1, 1, 1, 1, 1, 1, 1, 1, 0, 1, 1, 1, 1, 1, 1,\n",
       "       1, 1, 1, 0, 1, 1, 1, 1, 1, 1, 1, 1, 1, 1, 1, 1, 1, 1, 1, 1, 1, 1,\n",
       "       1, 1, 1, 0, 1, 1, 1, 1, 1, 1, 1, 1, 1, 0, 1, 1, 1, 1, 1, 1, 1, 1,\n",
       "       1, 1, 1, 1, 1, 1, 1, 1, 1, 1, 1, 0, 1, 1, 1, 1, 1, 0, 1, 1, 1, 0,\n",
       "       1, 0, 1, 1, 1, 1, 1, 1, 1, 1, 1, 1, 1, 1, 1, 1, 1, 1, 1, 1, 1, 1,\n",
       "       1, 1, 1, 1, 1, 0, 1, 0], dtype=int64)"
      ]
     },
     "execution_count": 33,
     "metadata": {},
     "output_type": "execute_result"
    }
   ],
   "source": [
    "loaded_clf.best_estimator_.predict(X_val)"
   ]
  },
  {
   "cell_type": "markdown",
   "id": "331ed661",
   "metadata": {},
   "source": [
    "**NOTE:** Unfortunately, this model does not seem to give access to the component decision trees nor a feature importance functionality, which hinders interpretability."
   ]
  },
  {
   "cell_type": "markdown",
   "id": "767cfcba",
   "metadata": {},
   "source": [
    "## Adjusting the detection threshold"
   ]
  },
  {
   "cell_type": "code",
   "execution_count": 16,
   "id": "ce969b74",
   "metadata": {
    "ExecuteTime": {
     "end_time": "2022-05-05T09:43:28.753488Z",
     "start_time": "2022-05-05T09:43:28.726565Z"
    }
   },
   "outputs": [
    {
     "data": {
      "text/plain": [
       "array([[0.35696228, 0.64303772],\n",
       "       [0.17425375, 0.82574625],\n",
       "       [0.55507902, 0.44492098],\n",
       "       ...,\n",
       "       [0.26058244, 0.73941756],\n",
       "       [0.500487  , 0.499513  ],\n",
       "       [0.70845148, 0.29154852]])"
      ]
     },
     "execution_count": 16,
     "metadata": {},
     "output_type": "execute_result"
    }
   ],
   "source": [
    "clf.best_estimator_.predict_proba(X)"
   ]
  },
  {
   "cell_type": "code",
   "execution_count": 17,
   "id": "bf04943a",
   "metadata": {
    "ExecuteTime": {
     "end_time": "2022-05-05T09:44:17.234707Z",
     "start_time": "2022-05-05T09:44:17.222739Z"
    }
   },
   "outputs": [
    {
     "data": {
      "text/plain": [
       "array([1, 1, 0, 1, 1, 0, 1, 1, 1, 1, 1, 0, 1, 1, 1, 1, 1, 1, 1, 1, 1, 1,\n",
       "       1, 1, 0, 1, 1, 0, 1, 1, 1, 0, 1, 1, 1, 1, 1, 1, 1, 1, 0, 1, 0, 1,\n",
       "       1, 1, 1, 1, 1, 1, 1, 1, 1, 1, 1, 1, 1, 1, 0, 1, 1, 0, 1, 1, 1, 1,\n",
       "       1, 1, 0, 1, 0, 1, 1, 1, 1, 1, 1, 0, 1, 1, 1, 1, 1, 1, 1, 1, 1, 1,\n",
       "       1, 0, 1, 1, 1, 1, 1, 1, 1, 1, 1, 1, 0, 1, 0, 1, 1, 1, 0, 0, 1, 1,\n",
       "       1, 1, 1, 1, 1, 1, 1, 1, 1, 1, 1, 1, 0, 1, 1, 0, 1, 1, 1, 1, 1, 1,\n",
       "       1, 0, 1, 0, 0, 1, 1, 1, 1, 1, 1, 1, 0, 1, 1, 1, 1, 1, 1, 1, 1, 1,\n",
       "       1, 1, 0, 1, 1, 1, 1, 1, 0, 1, 1, 1, 1, 1, 1, 1, 1, 1, 1, 1, 1, 0,\n",
       "       1, 0, 1, 0, 0, 1, 1, 1, 0, 1, 1, 1, 0, 1, 0, 1, 0, 1, 1, 1, 1, 1,\n",
       "       1, 1, 1, 1, 1, 1, 1, 1, 0, 1, 1, 1, 0, 1, 0, 1, 1, 1, 1, 1, 1, 1,\n",
       "       1, 1, 0, 1, 1, 1, 1, 1, 1, 1, 1, 1, 0, 1, 1, 1, 0, 1, 1, 1, 1, 1,\n",
       "       1, 1, 1, 0, 1, 1, 1, 1, 1, 1, 1, 1, 0, 1, 1, 1, 1, 1, 1, 1, 1, 1,\n",
       "       1, 1, 1, 1, 1, 1, 1, 1, 0, 1, 1, 1, 1, 1, 1, 1, 1, 1, 1, 1, 1, 1,\n",
       "       1, 1, 1, 1, 0, 0, 0, 1, 1, 1, 1, 0, 1, 1, 1, 1, 1, 1, 1, 1, 1, 1,\n",
       "       1, 1, 1, 1, 1, 1, 1, 0, 1, 1, 1, 1, 1, 1, 0, 1, 1, 1, 1, 1, 0, 1,\n",
       "       1, 1, 1, 1, 1, 1, 1, 1, 1, 1, 1, 1, 1, 1, 1, 1, 0, 1, 1, 1, 1, 1,\n",
       "       1, 0, 1, 1, 1, 1, 1, 0, 1, 1, 1, 1, 0, 0, 1, 1, 1, 1, 1, 1, 1, 1,\n",
       "       1, 1, 1, 1, 1, 1, 0, 0, 0, 0, 1, 1, 0, 1, 1, 1, 1, 0, 1, 1, 1, 1,\n",
       "       1, 1, 1, 1, 1, 1, 1, 1, 1, 1, 1, 1, 1, 1, 1, 1, 1, 1, 1, 0, 1, 1,\n",
       "       1, 1, 1, 1, 1, 1, 1, 1, 1, 1, 1, 1, 1, 1, 1, 1, 1, 1, 1, 1, 0, 1,\n",
       "       1, 1, 1, 1, 0, 1, 1, 1, 1, 1, 1, 1, 1, 0, 1, 1, 1, 1, 1, 1, 1, 1,\n",
       "       1, 1, 1, 1, 1, 1, 1, 1, 1, 1, 1, 1, 0, 1, 1, 1, 1, 1, 1, 1, 1, 1,\n",
       "       1, 1, 1, 1, 1, 1, 1, 1, 1, 0, 1, 0, 1, 0, 1, 1, 0, 1, 1, 1, 1, 1,\n",
       "       1, 1, 1, 0, 1, 1, 1, 1, 0, 1, 1, 0, 1, 1, 1, 1, 1, 1, 1, 0, 1, 1,\n",
       "       1, 1, 1, 1, 1, 1, 0, 1, 1, 1, 1, 1, 1, 1, 1, 0, 0, 1, 1, 1, 1, 1,\n",
       "       1, 1, 1, 1, 1, 1, 1, 1, 1, 0, 1, 1, 1, 1, 1, 1, 0, 1, 0, 0, 1, 1,\n",
       "       1, 1, 1, 1, 1, 0, 1, 1, 1, 1, 1, 1, 0, 0, 1, 1, 0, 1, 1, 1, 1, 1,\n",
       "       1, 1, 0, 1, 1, 0, 0, 0, 1, 1, 1, 1, 0, 1, 0, 0, 1, 1, 1, 1, 1, 1,\n",
       "       1, 1, 1, 1, 1, 1, 1, 1, 1, 1, 1, 1, 1, 1, 1, 1, 0, 1, 1, 1, 1, 1,\n",
       "       1, 1, 0, 0, 1, 1, 1, 1, 0, 1, 1, 1, 0, 0, 1, 1, 1, 1, 1, 1, 1, 1,\n",
       "       1, 1, 1, 1, 1, 1, 0, 0, 0, 0, 1, 1, 1, 1, 1, 1, 1, 1, 1, 0, 1, 1,\n",
       "       1, 1, 1, 1, 1, 1, 1, 1, 0, 1, 1, 1, 0, 1, 1, 1, 1, 1, 1, 1, 1, 1,\n",
       "       1, 1, 1, 1, 1, 1, 1, 1, 1, 1, 1, 0, 1, 1, 0, 1, 0, 1, 1, 0, 1, 1,\n",
       "       0, 1, 1, 1, 1, 1, 1, 1, 1, 1, 1, 1, 0, 1, 1, 1, 1, 1, 1, 1, 1, 1,\n",
       "       1, 0, 1, 1, 1, 1, 1, 0, 1, 1, 1, 1, 1, 1, 1, 1, 1, 0, 1, 1, 1, 0,\n",
       "       1, 1, 1, 1, 0, 1, 0, 0, 1, 1, 1, 1, 1, 0, 1, 1, 1, 1, 1, 1, 0, 1,\n",
       "       1, 1, 1, 1, 1, 1, 1, 0, 0, 1, 1, 1, 1, 1, 1, 1, 1, 1, 1, 1, 1, 1,\n",
       "       0, 1, 1, 1, 1, 1, 1, 1, 0, 1, 1, 1, 0, 1, 1, 1, 1, 1, 0, 0, 1, 1,\n",
       "       1, 1, 0, 1, 0, 1, 1, 1, 1, 1, 1, 1, 1, 1, 1, 1, 0, 1, 1, 1, 1, 1,\n",
       "       1, 1, 0, 0, 1, 1, 1, 1, 1, 1, 1, 1, 1, 1, 1, 1, 1, 1, 1, 1, 1, 1,\n",
       "       0, 1, 1, 1, 1, 1, 1, 1, 1, 1, 1, 1, 0, 1, 0, 1, 1, 1, 1, 0, 1, 1,\n",
       "       1, 1, 1, 1, 1, 0, 1, 1, 1, 0, 1, 1, 1, 1, 1, 0, 1, 1, 1, 1, 1, 1,\n",
       "       1, 0, 1, 1, 1, 1, 1, 1, 1, 1, 1, 0, 1, 1, 1, 0, 0, 1, 0, 0, 0, 1,\n",
       "       1, 1, 0, 1, 1, 1, 1, 0, 1, 1, 1, 0, 1, 1, 1, 0, 1, 1, 1, 1, 1, 1,\n",
       "       0, 1, 1, 1, 1, 1, 1, 0, 1, 1, 1, 1, 1, 0, 0, 1, 0, 1, 1, 1, 1, 1,\n",
       "       1, 1, 1, 1, 1, 1, 1, 1, 0, 0], dtype=int64)"
      ]
     },
     "execution_count": 17,
     "metadata": {},
     "output_type": "execute_result"
    }
   ],
   "source": [
    "clf.best_estimator_.predict(X)"
   ]
  },
  {
   "cell_type": "markdown",
   "id": "f0d228f0",
   "metadata": {},
   "source": [
    "### Variation of metrics with the detection threshold"
   ]
  },
  {
   "cell_type": "markdown",
   "id": "8f53dfee",
   "metadata": {},
   "source": [
    "We now try to see how the four metrics change with the customized detection threshold.\n",
    "\n",
    "Additionally, we also calculate how many stars will fall above the selected detection threshold (i.e. to be included in a future survey) and, from those stars, how many are really pulsating ones, in order to predict a _success ratio_ of the survey."
   ]
  },
  {
   "cell_type": "code",
   "execution_count": 18,
   "id": "4b53585f",
   "metadata": {
    "ExecuteTime": {
     "end_time": "2022-05-05T09:48:28.368237Z",
     "start_time": "2022-05-05T09:48:28.359261Z"
    }
   },
   "outputs": [
    {
     "data": {
      "text/plain": [
       "array([0.  , 0.01, 0.02, 0.03, 0.04, 0.05, 0.06, 0.07, 0.08, 0.09, 0.1 ,\n",
       "       0.11, 0.12, 0.13, 0.14, 0.15, 0.16, 0.17, 0.18, 0.19, 0.2 , 0.21,\n",
       "       0.22, 0.23, 0.24, 0.25, 0.26, 0.27, 0.28, 0.29, 0.3 , 0.31, 0.32,\n",
       "       0.33, 0.34, 0.35, 0.36, 0.37, 0.38, 0.39, 0.4 , 0.41, 0.42, 0.43,\n",
       "       0.44, 0.45, 0.46, 0.47, 0.48, 0.49, 0.5 , 0.51, 0.52, 0.53, 0.54,\n",
       "       0.55, 0.56, 0.57, 0.58, 0.59, 0.6 , 0.61, 0.62, 0.63, 0.64, 0.65,\n",
       "       0.66, 0.67, 0.68, 0.69, 0.7 , 0.71, 0.72, 0.73, 0.74, 0.75, 0.76,\n",
       "       0.77, 0.78, 0.79, 0.8 , 0.81, 0.82, 0.83, 0.84, 0.85, 0.86, 0.87,\n",
       "       0.88, 0.89, 0.9 , 0.91, 0.92, 0.93, 0.94, 0.95, 0.96, 0.97, 0.98,\n",
       "       0.99, 1.  ])"
      ]
     },
     "execution_count": 18,
     "metadata": {},
     "output_type": "execute_result"
    }
   ],
   "source": [
    "# Create the thresholds values to be tested.\n",
    "thr = np.linspace(start=0.0, stop=1.0, num=101, endpoint=True)\n",
    "thr"
   ]
  },
  {
   "cell_type": "code",
   "execution_count": 136,
   "id": "539856e0",
   "metadata": {
    "ExecuteTime": {
     "end_time": "2022-05-05T11:49:08.426058Z",
     "start_time": "2022-05-05T11:49:07.506517Z"
    }
   },
   "outputs": [
    {
     "name": "stderr",
     "output_type": "stream",
     "text": [
      "C:\\Users\\ciroe\\anaconda3\\lib\\site-packages\\sklearn\\metrics\\_classification.py:1318: UndefinedMetricWarning: Precision is ill-defined and being set to 0.0 due to no predicted samples. Use `zero_division` parameter to control this behavior.\n",
      "  _warn_prf(average, modifier, msg_start, len(result))\n",
      "C:\\Users\\ciroe\\anaconda3\\lib\\site-packages\\sklearn\\metrics\\_classification.py:1318: UndefinedMetricWarning: Precision is ill-defined and being set to 0.0 due to no predicted samples. Use `zero_division` parameter to control this behavior.\n",
      "  _warn_prf(average, modifier, msg_start, len(result))\n",
      "C:\\Users\\ciroe\\anaconda3\\lib\\site-packages\\sklearn\\metrics\\_classification.py:1318: UndefinedMetricWarning: Precision is ill-defined and being set to 0.0 due to no predicted samples. Use `zero_division` parameter to control this behavior.\n",
      "  _warn_prf(average, modifier, msg_start, len(result))\n",
      "C:\\Users\\ciroe\\anaconda3\\lib\\site-packages\\sklearn\\metrics\\_classification.py:1318: UndefinedMetricWarning: Precision is ill-defined and being set to 0.0 due to no predicted samples. Use `zero_division` parameter to control this behavior.\n",
      "  _warn_prf(average, modifier, msg_start, len(result))\n",
      "C:\\Users\\ciroe\\anaconda3\\lib\\site-packages\\sklearn\\metrics\\_classification.py:1318: UndefinedMetricWarning: Precision is ill-defined and being set to 0.0 due to no predicted samples. Use `zero_division` parameter to control this behavior.\n",
      "  _warn_prf(average, modifier, msg_start, len(result))\n"
     ]
    }
   ],
   "source": [
    "# Create a dataframe with all the metrics for all the possible thresholds\n",
    "res_df = pd.DataFrame(columns=['Detection threshold', 'precision', 'accuracy', 'recall', 'F1_score',\n",
    "                               'Nr. stars to survey', 'Expected pulsators', 'Survey ratio', 'Detection ratio'])\n",
    "res_df.head()\n",
    "# Populate the results DataFrame:\n",
    "#for threshold in thr[:2]: # TEST\n",
    "#for threshold in thr[48:50]: # TEST\n",
    "for threshold in thr:\n",
    "    # Calculate predictions for this threshold:\n",
    "    y_proba = clf.best_estimator_.predict_proba(X_val)\n",
    "    y_pred = [1 if elem[1] > threshold else 0 for elem in y_proba]\n",
    "    # Calculate performance:\n",
    "    precision = precision_score(y_val, y_pred)\n",
    "    accuracy = accuracy_score(y_val, y_pred)\n",
    "    recall = recall_score(y_val, y_pred)\n",
    "    f1 = f1_score(y_val, y_pred)\n",
    "    # We also calculate the fraction of stars labelled as pulsating (i.e. that will be surveyed),\n",
    "    # and the fraction of stars (from those \"surveyed\") that are really pulsating.\n",
    "    surveyed_stars = y_pred.count(1)\n",
    "    survey_ratio = surveyed_stars / len(y_val)\n",
    "    pulsators_detected = sum([1 if (a == 1 and b == 1) else 0\n",
    "                              for a, b in zip(y_pred, y_val.values)])\n",
    "    detection_ratio = pulsators_detected / sum(np.ravel(y_val.values == 1))\n",
    "    # Update the table:\n",
    "    new_data = pd.DataFrame(data={\n",
    "        'Detection threshold': threshold,\n",
    "        'precision': precision,\n",
    "        'accuracy': accuracy,\n",
    "        'recall': recall,\n",
    "        'F1_score': f1,\n",
    "        'Nr. stars to survey': surveyed_stars,\n",
    "        'Expected pulsators': pulsators_detected,\n",
    "        'Survey ratio': survey_ratio, # The ratio of stars that must be surveyed\n",
    "        'Detection ratio': detection_ratio # The ratio of the pulsating stars detected. \n",
    "    }, index=[0])\n",
    "    res_df = pd.concat([res_df, new_data], ignore_index=True)"
   ]
  },
  {
   "cell_type": "code",
   "execution_count": 144,
   "id": "dbc397f6",
   "metadata": {
    "ExecuteTime": {
     "end_time": "2022-05-05T11:55:31.882906Z",
     "start_time": "2022-05-05T11:55:31.865951Z"
    }
   },
   "outputs": [
    {
     "data": {
      "text/html": [
       "<div>\n",
       "<style scoped>\n",
       "    .dataframe tbody tr th:only-of-type {\n",
       "        vertical-align: middle;\n",
       "    }\n",
       "\n",
       "    .dataframe tbody tr th {\n",
       "        vertical-align: top;\n",
       "    }\n",
       "\n",
       "    .dataframe thead th {\n",
       "        text-align: right;\n",
       "    }\n",
       "</style>\n",
       "<table border=\"1\" class=\"dataframe\">\n",
       "  <thead>\n",
       "    <tr style=\"text-align: right;\">\n",
       "      <th></th>\n",
       "      <th>Detection threshold</th>\n",
       "      <th>precision</th>\n",
       "      <th>accuracy</th>\n",
       "      <th>recall</th>\n",
       "      <th>F1_score</th>\n",
       "      <th>Nr. stars to survey</th>\n",
       "      <th>Expected pulsators</th>\n",
       "      <th>Survey ratio</th>\n",
       "      <th>Detection ratio</th>\n",
       "    </tr>\n",
       "  </thead>\n",
       "  <tbody>\n",
       "    <tr>\n",
       "      <th>0</th>\n",
       "      <td>0.00</td>\n",
       "      <td>0.704</td>\n",
       "      <td>0.704</td>\n",
       "      <td>1.0</td>\n",
       "      <td>0.826291</td>\n",
       "      <td>250</td>\n",
       "      <td>176</td>\n",
       "      <td>1.0</td>\n",
       "      <td>1.0</td>\n",
       "    </tr>\n",
       "    <tr>\n",
       "      <th>1</th>\n",
       "      <td>0.01</td>\n",
       "      <td>0.704</td>\n",
       "      <td>0.704</td>\n",
       "      <td>1.0</td>\n",
       "      <td>0.826291</td>\n",
       "      <td>250</td>\n",
       "      <td>176</td>\n",
       "      <td>1.0</td>\n",
       "      <td>1.0</td>\n",
       "    </tr>\n",
       "    <tr>\n",
       "      <th>2</th>\n",
       "      <td>0.02</td>\n",
       "      <td>0.704</td>\n",
       "      <td>0.704</td>\n",
       "      <td>1.0</td>\n",
       "      <td>0.826291</td>\n",
       "      <td>250</td>\n",
       "      <td>176</td>\n",
       "      <td>1.0</td>\n",
       "      <td>1.0</td>\n",
       "    </tr>\n",
       "    <tr>\n",
       "      <th>3</th>\n",
       "      <td>0.03</td>\n",
       "      <td>0.704</td>\n",
       "      <td>0.704</td>\n",
       "      <td>1.0</td>\n",
       "      <td>0.826291</td>\n",
       "      <td>250</td>\n",
       "      <td>176</td>\n",
       "      <td>1.0</td>\n",
       "      <td>1.0</td>\n",
       "    </tr>\n",
       "    <tr>\n",
       "      <th>4</th>\n",
       "      <td>0.04</td>\n",
       "      <td>0.704</td>\n",
       "      <td>0.704</td>\n",
       "      <td>1.0</td>\n",
       "      <td>0.826291</td>\n",
       "      <td>250</td>\n",
       "      <td>176</td>\n",
       "      <td>1.0</td>\n",
       "      <td>1.0</td>\n",
       "    </tr>\n",
       "    <tr>\n",
       "      <th>...</th>\n",
       "      <td>...</td>\n",
       "      <td>...</td>\n",
       "      <td>...</td>\n",
       "      <td>...</td>\n",
       "      <td>...</td>\n",
       "      <td>...</td>\n",
       "      <td>...</td>\n",
       "      <td>...</td>\n",
       "      <td>...</td>\n",
       "    </tr>\n",
       "    <tr>\n",
       "      <th>96</th>\n",
       "      <td>0.96</td>\n",
       "      <td>0.000</td>\n",
       "      <td>0.296</td>\n",
       "      <td>0.0</td>\n",
       "      <td>0.000000</td>\n",
       "      <td>0</td>\n",
       "      <td>0</td>\n",
       "      <td>0.0</td>\n",
       "      <td>0.0</td>\n",
       "    </tr>\n",
       "    <tr>\n",
       "      <th>97</th>\n",
       "      <td>0.97</td>\n",
       "      <td>0.000</td>\n",
       "      <td>0.296</td>\n",
       "      <td>0.0</td>\n",
       "      <td>0.000000</td>\n",
       "      <td>0</td>\n",
       "      <td>0</td>\n",
       "      <td>0.0</td>\n",
       "      <td>0.0</td>\n",
       "    </tr>\n",
       "    <tr>\n",
       "      <th>98</th>\n",
       "      <td>0.98</td>\n",
       "      <td>0.000</td>\n",
       "      <td>0.296</td>\n",
       "      <td>0.0</td>\n",
       "      <td>0.000000</td>\n",
       "      <td>0</td>\n",
       "      <td>0</td>\n",
       "      <td>0.0</td>\n",
       "      <td>0.0</td>\n",
       "    </tr>\n",
       "    <tr>\n",
       "      <th>99</th>\n",
       "      <td>0.99</td>\n",
       "      <td>0.000</td>\n",
       "      <td>0.296</td>\n",
       "      <td>0.0</td>\n",
       "      <td>0.000000</td>\n",
       "      <td>0</td>\n",
       "      <td>0</td>\n",
       "      <td>0.0</td>\n",
       "      <td>0.0</td>\n",
       "    </tr>\n",
       "    <tr>\n",
       "      <th>100</th>\n",
       "      <td>1.00</td>\n",
       "      <td>0.000</td>\n",
       "      <td>0.296</td>\n",
       "      <td>0.0</td>\n",
       "      <td>0.000000</td>\n",
       "      <td>0</td>\n",
       "      <td>0</td>\n",
       "      <td>0.0</td>\n",
       "      <td>0.0</td>\n",
       "    </tr>\n",
       "  </tbody>\n",
       "</table>\n",
       "<p>101 rows × 9 columns</p>\n",
       "</div>"
      ],
      "text/plain": [
       "     Detection threshold  precision  accuracy  recall  F1_score  \\\n",
       "0                   0.00      0.704     0.704     1.0  0.826291   \n",
       "1                   0.01      0.704     0.704     1.0  0.826291   \n",
       "2                   0.02      0.704     0.704     1.0  0.826291   \n",
       "3                   0.03      0.704     0.704     1.0  0.826291   \n",
       "4                   0.04      0.704     0.704     1.0  0.826291   \n",
       "..                   ...        ...       ...     ...       ...   \n",
       "96                  0.96      0.000     0.296     0.0  0.000000   \n",
       "97                  0.97      0.000     0.296     0.0  0.000000   \n",
       "98                  0.98      0.000     0.296     0.0  0.000000   \n",
       "99                  0.99      0.000     0.296     0.0  0.000000   \n",
       "100                 1.00      0.000     0.296     0.0  0.000000   \n",
       "\n",
       "    Nr. stars to survey Expected pulsators  Survey ratio  Detection ratio  \n",
       "0                   250                176           1.0              1.0  \n",
       "1                   250                176           1.0              1.0  \n",
       "2                   250                176           1.0              1.0  \n",
       "3                   250                176           1.0              1.0  \n",
       "4                   250                176           1.0              1.0  \n",
       "..                  ...                ...           ...              ...  \n",
       "96                    0                  0           0.0              0.0  \n",
       "97                    0                  0           0.0              0.0  \n",
       "98                    0                  0           0.0              0.0  \n",
       "99                    0                  0           0.0              0.0  \n",
       "100                   0                  0           0.0              0.0  \n",
       "\n",
       "[101 rows x 9 columns]"
      ]
     },
     "execution_count": 144,
     "metadata": {},
     "output_type": "execute_result"
    }
   ],
   "source": [
    "res_df"
   ]
  },
  {
   "cell_type": "code",
   "execution_count": 138,
   "id": "aa295edd",
   "metadata": {
    "ExecuteTime": {
     "end_time": "2022-05-05T11:50:06.481173Z",
     "start_time": "2022-05-05T11:50:06.472198Z"
    }
   },
   "outputs": [],
   "source": [
    "# SAVE THE RESULT:\n",
    "res_df.to_csv(\"./Detection_threshold_effect.csv\", sep=',', decimal='.', index=False)"
   ]
  },
  {
   "cell_type": "code",
   "execution_count": 142,
   "id": "18c381d3",
   "metadata": {
    "ExecuteTime": {
     "end_time": "2022-05-05T11:54:02.661311Z",
     "start_time": "2022-05-05T11:54:02.354102Z"
    }
   },
   "outputs": [
    {
     "data": {
      "image/png": "[encoded data removed]",
      "text/plain": [
       "<Figure size 720x504 with 1 Axes>"
      ]
     },
     "metadata": {},
     "output_type": "display_data"
    }
   ],
   "source": [
    "# We now plot the variation of the metrics:\n",
    "plt.figure(figsize=(10,7))\n",
    "plt.title(\"Classification metrics variation with detection threshold\", fontsize=16)\n",
    "plt.grid(axis='both', alpha=0.75)\n",
    "plt.xlabel(\"Detection threshold\", fontsize=12)\n",
    "plt.ylabel(\"Metrics value\", fontsize=12)\n",
    "sns.lineplot(data=res_df, x='Detection threshold', y='precision', label='precision')\n",
    "sns.lineplot(data=res_df, x='Detection threshold', y='accuracy', label='accuracy')\n",
    "sns.lineplot(data=res_df, x='Detection threshold', y='recall', label='recall')\n",
    "sns.lineplot(data=res_df, x='Detection threshold', y='F1_score', label='F1_score')\n",
    "plt.legend();\n",
    "plt.savefig(\"./img/MachineLearnig_35_01_Detection_threshold_adjustment.png\", format='png')\n",
    "plt.plot();"
   ]
  },
  {
   "cell_type": "markdown",
   "id": "6a1dfc4b",
   "metadata": {},
   "source": [
    "As can be seen, with detection thresholds between 0.4 and 0.8 threshold there is a high variability on the metrics, so that we have many choices about that value in order to focus on the metric we are more interested in.\n",
    "\n",
    "It is interesting to note that precision remains almost constant at about a value of $\\approx0.7$, which is very similar to the prior probability of pulsating stars."
   ]
  },
  {
   "cell_type": "code",
   "execution_count": 149,
   "id": "78896217",
   "metadata": {
    "ExecuteTime": {
     "end_time": "2022-05-05T11:59:36.594088Z",
     "start_time": "2022-05-05T11:59:36.337782Z"
    }
   },
   "outputs": [
    {
     "data": {
      "image/png": "[encoded data removed]",
      "text/plain": [
       "<Figure size 720x504 with 1 Axes>"
      ]
     },
     "metadata": {},
     "output_type": "display_data"
    }
   ],
   "source": [
    "# We now plot the survey size and the expected number of pulsators found:\n",
    "plt.figure(figsize=(10,7))\n",
    "plt.title(\"Stars to survey and predicted pulsators found\", fontsize=16)\n",
    "plt.grid(axis='both', alpha=0.75)\n",
    "plt.xlabel(\"Detection threshold\", fontsize=12)\n",
    "plt.ylabel(\"Nr. of stars\", fontsize=12)\n",
    "sns.lineplot(data=res_df, x=res_df['Detection threshold'], y=res_df['Nr. stars to survey'].astype(float),\n",
    "             label='Number of stars to survey')\n",
    "sns.lineplot(data=res_df, x=res_df['Detection threshold'], y=res_df['Expected pulsators'].astype(float),\n",
    "             label='Predicted pulsating stars that will be found')\n",
    "plt.legend();\n",
    "plt.savefig(\"./img/MachineLearnig_35_02_Survey_size_and_expected_success.png\", format='png')\n",
    "plt.plot();"
   ]
  },
  {
   "cell_type": "markdown",
   "id": "71186390",
   "metadata": {},
   "source": [
    "In the above graphic, we could use two different values as an entry:\n",
    "\n",
    "- The number of stars we are able to survey, which could be limited by observation time or budgetary reasons.\n",
    "- The number of pulsating stars we want to find, in case there is no budget or time constraints.\n",
    "\n",
    "In any case, the graph will give both the detection threshold to use and the value of the other parameter, in essence answering these two questions:\n",
    "\n",
    "- If we survey X stars, ¿how many pulsators do we expect to discover?\n",
    "- ¿How many stars do we need to survey if we want to find Y pullsators?\n"
   ]
  },
  {
   "cell_type": "code",
   "execution_count": null,
   "id": "a92bc777",
   "metadata": {},
   "outputs": [],
   "source": []
  }
 ],
 "metadata": {
  "kernelspec": {
   "display_name": "Python 3",
   "language": "python",
   "name": "python3"
  },
  "language_info": {
   "codemirror_mode": {
    "name": "ipython",
    "version": 3
   },
   "file_extension": ".py",
   "mimetype": "text/x-python",
   "name": "python",
   "nbconvert_exporter": "python",
   "pygments_lexer": "ipython3",
   "version": "3.8.8"
  },
  "toc": {
   "base_numbering": 1,
   "nav_menu": {},
   "number_sections": true,
   "sideBar": true,
   "skip_h1_title": true,
   "title_cell": "Table of Contents",
   "title_sidebar": "Contents",
   "toc_cell": false,
   "toc_position": {
    "height": "calc(100% - 180px)",
    "left": "10px",
    "top": "150px",
    "width": "384px"
   },
   "toc_section_display": true,
   "toc_window_display": true
  }
 },
 "nbformat": 4,
 "nbformat_minor": 5
}
