{
 "cells": [
  {
   "cell_type": "markdown",
   "id": "dbd6af04",
   "metadata": {},
   "source": [
    "# OPTIMIZATION BY 5x2 CV- `DecisionTreeClassifier` - ANALYSIS OF THE RESULT OF THE MULTIPLE `optuna` RUNS"
   ]
  },
  {
   "cell_type": "markdown",
   "id": "6a41216e",
   "metadata": {},
   "source": [
    "In this notebook we analyse the results of the multiple runs with `optuna` and different, random 5x2 fold CV splits.\n",
    "\n",
    "The aim is to confirm that the initially chosen model is a reasonable one."
   ]
  },
  {
   "cell_type": "markdown",
   "id": "66a88aaa",
   "metadata": {},
   "source": [
    "## Modules and configuration"
   ]
  },
  {
   "cell_type": "markdown",
   "id": "59c67f7c",
   "metadata": {},
   "source": [
    "### Modules"
   ]
  },
  {
   "cell_type": "code",
   "execution_count": 113,
   "id": "f317709c",
   "metadata": {
    "ExecuteTime": {
     "end_time": "2023-03-02T12:37:21.627561Z",
     "start_time": "2023-03-02T12:37:21.610606Z"
    }
   },
   "outputs": [],
   "source": [
    "import pickle\n",
    "\n",
    "import sys\n",
    "\n",
    "import pandas as pd\n",
    "import numpy as np\n",
    "\n",
    "from IPython.display import clear_output\n",
    "\n",
    "from sklearn.tree import DecisionTreeClassifier, plot_tree\n",
    "\n",
    "from sklearn.model_selection import GridSearchCV, cross_val_score, train_test_split\n",
    "\n",
    "from sklearn.metrics import precision_score, make_scorer, classification_report, confusion_matrix\n",
    "\n",
    "import optuna\n",
    "\n",
    "import matplotlib.pyplot as plt\n",
    "\n",
    "from matplotlib.lines import Line2D\n",
    "\n",
    "import seaborn as sns\n",
    "sns.set_style(\"white\", {'figure.figsize':(15,10)})\n"
   ]
  },
  {
   "cell_type": "markdown",
   "id": "04b6232f",
   "metadata": {},
   "source": [
    "### Configuration"
   ]
  },
  {
   "cell_type": "code",
   "execution_count": 121,
   "id": "1d1956b9",
   "metadata": {
    "ExecuteTime": {
     "end_time": "2023-03-02T16:27:44.135705Z",
     "start_time": "2023-03-02T16:27:44.119749Z"
    }
   },
   "outputs": [],
   "source": [
    "#RANDOM_STATE = 11 # For reproducibility\n",
    "\n",
    "#N = 250 # Number of experiments\n",
    "\n",
    "OPT_RUNS_RESULTS_IN = \"../data/ML_MODELS/Results_DecisionTree/Opt_DT_Scaled_OptRunsResults.csv\"\n",
    "\n",
    "IMG_FOLDER = './img/'\n",
    "\n",
    "#S4_TRAIN_SET_IN = \"../data/DATASETS_ML/S4_02_DS_AfterImputing_TrainTest_OVERSAMPLED_n3.csv\"\n",
    "S4_TRAIN_SET_IN = \"../data/DATASETS_ML/S4_02_DS_AfterImputing_TrainTest.csv\"\n",
    "# Train/test set for S4 sample, all 112 features\n",
    "S4_VALIDATION_SET_IN = \"../data/DATASETS_ML/S4_02_DS_AfterImputing_Validation.csv\"\n",
    "# Validation set for S4 sample, all 112 features\n",
    "CARMENES_SET_IN = \"../data/DATASETS_ML/ML_02_DS_AfterImputing.csv\"\n",
    "# CARMENES ML sample, all 112 features\n",
    "\n",
    "REL_FEATURES_IN = \"../data/ML_MODELS/ML_pipeline_steps/Reliable_features.pickle\"\n",
    "\n",
    "FINAL_BEST_POSSIBLE_MODEL_OUT = \"../data/ML_MODELS/Results_DecisionTree/DT_FinalBestModel.pickle\"\n",
    "\n",
    "LATEX_SIMILAR_MODELS_COUNT_OUT = \"../data/ML_MODELS/Results_DecisionTree/DT_LaTeX_SimilarModels.tex\"\n",
    "LATEX_SIMILAR_MODELS_COUNT_OUT_DF = \"../data/ML_MODELS/Results_DecisionTree/DT_LaTeX_SimilarModels_dfFormat.tex\"\n",
    "\n"
   ]
  },
  {
   "cell_type": "markdown",
   "id": "d67b2182",
   "metadata": {},
   "source": [
    "### Functions"
   ]
  },
  {
   "cell_type": "code",
   "execution_count": 42,
   "id": "4d4a8e25",
   "metadata": {
    "ExecuteTime": {
     "end_time": "2023-03-02T12:03:26.392868Z",
     "start_time": "2023-03-02T12:03:26.385887Z"
    }
   },
   "outputs": [],
   "source": [
    "def compare_dist(data, x_col, hue_col=None, varname=None,\n",
    "                 xlim=None, ylim=None,\n",
    "                 fig_title=None, fig_filename=None,\n",
    "                 stat='count', kde=False, hist_fill=True, bins='auto'):\n",
    "    '''Plots and saves overlapped histograms.\n",
    "    Changed to use the new functions, instead of the deprecated \"distplot\"\n",
    "    **NOTE: this would be better with a **kwargs argument'''\n",
    "    # Plots and saves the figure\n",
    "    #kwargs = dict(kde_kws={'linewidth': 2})\n",
    "    #kwargs = dict(hist_kws={'alpha': .30, 'histtype': 'step', 'linewidth': 2, 'fill': hist_fill},\n",
    "    #              kde_kws={'linewidth': 2})\n",
    "    #kwargs = dict(hist_kws={'alpha': .30, 'histtype': 'step', 'linewidth': 2, 'fill': hist_fill})\n",
    "    plt.figure(figsize=(10,7))\n",
    "    ax = sns.histplot(data, x=x_col, hue=hue_col, stat=stat, common_norm=False,\n",
    "                      kde=kde, fill=hist_fill, bins=bins, alpha=0.25)\n",
    "    if varname is None:\n",
    "        ax.set_xlabel(x_col, fontsize=12)\n",
    "    else:\n",
    "        ax.set_xlabel(varname, fontsize=12)\n",
    "    if xlim is None:\n",
    "        pass\n",
    "    else:\n",
    "        ax.set_xlim(xlim)\n",
    "    if ylim is None:\n",
    "        pass\n",
    "    else:\n",
    "        ax.set_ylim(ylim)\n",
    "    \n",
    "    if fig_title is None:\n",
    "        ax.set_title(\"Comparison of distributions\", fontsize=16)\n",
    "    else:\n",
    "        ax.set_title(fig_title, fontsize=16)\n",
    "    #ax.set_ylabel('Frequency of occurrence', fontsize=12)\n",
    "    #ax.legend(loc='best');\n",
    "    # Save the image:\n",
    "    if fig_filename is None:\n",
    "        pass\n",
    "    else:\n",
    "        ax.get_figure().savefig(fig_filename, format='jpg');"
   ]
  },
  {
   "cell_type": "code",
   "execution_count": 43,
   "id": "d83b29fc",
   "metadata": {
    "ExecuteTime": {
     "end_time": "2023-03-02T12:03:26.658012Z",
     "start_time": "2023-03-02T12:03:26.649002Z"
    }
   },
   "outputs": [],
   "source": [
    "def draw_scatter_plot(data, x, y,\n",
    "                      xlim=None, ylim=None,\n",
    "                      fig_title=None, fig_filename=None, **kwargs):\n",
    "    '''Draws and saves a scatter plot'''\n",
    "    ax = sns.scatterplot(data, x=x, y=y, **kwargs)\n",
    "    ax.figure.set_size_inches(15, 10)\n",
    "    if xlim is None:\n",
    "        curr_xlim = ax.get_xlim()\n",
    "    else:\n",
    "        curr_xlim = xlim\n",
    "    new_xlim = (curr_xlim[0] - 0.05 * (curr_xlim[1] - curr_xlim[0]),\n",
    "                curr_xlim[1] + 0.05 * (curr_xlim[1] - curr_xlim[0]))\n",
    "    if ylim is None:\n",
    "        curr_ylim = ax.get_ylim()\n",
    "    else:\n",
    "        curr_ylim = ylim\n",
    "    new_ylim = (curr_ylim[0] - 0.05 * (curr_ylim[1] - curr_ylim[0]),\n",
    "                curr_ylim[1] + 0.05 * (curr_ylim[1] - curr_ylim[0]))\n",
    "    ax.set_xlim(new_xlim)\n",
    "    ax.set_ylim(new_ylim)\n",
    "    if fig_title is None:\n",
    "        fig_title = \"Scatter plot: '\" + x + \"' vs '\" + y + \"'\"\n",
    "    else:\n",
    "        pass\n",
    "    ax.set_title(fig_title, fontsize=16)\n",
    "    ax.set_xlabel(x, fontsize=12)\n",
    "    ax.set_ylabel(y, fontsize=12)\n",
    "    ax.legend(title='Precision avg')\n",
    "    if fig_filename is None:\n",
    "        pass\n",
    "    else:\n",
    "        plt.savefig(fig_filename, format='jpg');"
   ]
  },
  {
   "cell_type": "code",
   "execution_count": 44,
   "id": "a957fa07",
   "metadata": {
    "ExecuteTime": {
     "end_time": "2023-03-02T12:03:27.046626Z",
     "start_time": "2023-03-02T12:03:27.033660Z"
    }
   },
   "outputs": [],
   "source": [
    "def re_evaluate_model(model, X_train, y_train, X_val, y_val, refit=True):\n",
    "    '''Reevaluates a model in the training and validation set'''\n",
    "    if refit == True:\n",
    "        model.fit(X_train, y_train)\n",
    "    # Training score:\n",
    "    y_train_pred = model.predict(X_train)\n",
    "    tr_score = precision_score(y_train, y_train_pred, zero_division=0.0)\n",
    "    # Validation score:\n",
    "    y_val_pred = model.predict(X_val)\n",
    "    val_score = precision_score(y_val, y_val_pred, zero_division=0.0)\n",
    "    # Final depth of the tree:\n",
    "    tree_depth = model.get_depth()\n",
    "    \n",
    "    return {'train_score': tr_score, 'validation_score': val_score, 'tree_depth': tree_depth}"
   ]
  },
  {
   "cell_type": "markdown",
   "id": "b02e4d26",
   "metadata": {},
   "source": [
    "## Load data"
   ]
  },
  {
   "cell_type": "markdown",
   "id": "f6700545",
   "metadata": {},
   "source": [
    "### Load results for multiple `optuna` runs"
   ]
  },
  {
   "cell_type": "code",
   "execution_count": 45,
   "id": "589703f3",
   "metadata": {
    "ExecuteTime": {
     "end_time": "2023-03-02T12:03:27.836704Z",
     "start_time": "2023-03-02T12:03:27.817756Z"
    }
   },
   "outputs": [
    {
     "data": {
      "text/plain": [
       "'../data/ML_MODELS/Results_DecisionTree/Opt_DT_Scaled_OptRunsResults.csv'"
      ]
     },
     "execution_count": 45,
     "metadata": {},
     "output_type": "execute_result"
    }
   ],
   "source": [
    "OPT_RUNS_RESULTS_IN"
   ]
  },
  {
   "cell_type": "code",
   "execution_count": 46,
   "id": "1833077e",
   "metadata": {
    "ExecuteTime": {
     "end_time": "2023-03-02T12:03:28.413502Z",
     "start_time": "2023-03-02T12:03:28.385577Z"
    }
   },
   "outputs": [
    {
     "data": {
      "text/html": [
       "<div>\n",
       "<style scoped>\n",
       "    .dataframe tbody tr th:only-of-type {\n",
       "        vertical-align: middle;\n",
       "    }\n",
       "\n",
       "    .dataframe tbody tr th {\n",
       "        vertical-align: top;\n",
       "    }\n",
       "\n",
       "    .dataframe thead th {\n",
       "        text-align: right;\n",
       "    }\n",
       "</style>\n",
       "<table border=\"1\" class=\"dataframe\">\n",
       "  <thead>\n",
       "    <tr style=\"text-align: right;\">\n",
       "      <th></th>\n",
       "      <th>Experiment_ID</th>\n",
       "      <th>Best_max_depth</th>\n",
       "      <th>Best_min_samples_leaf</th>\n",
       "      <th>Best_ccp_alpha</th>\n",
       "      <th>Best_average_precision_5x2CV</th>\n",
       "      <th>S4_traintest_precision</th>\n",
       "      <th>S4_validation_precision</th>\n",
       "      <th>Final_tree_depth</th>\n",
       "    </tr>\n",
       "  </thead>\n",
       "  <tbody>\n",
       "    <tr>\n",
       "      <th>0</th>\n",
       "      <td>0</td>\n",
       "      <td>7</td>\n",
       "      <td>5</td>\n",
       "      <td>0.005</td>\n",
       "      <td>0.093205</td>\n",
       "      <td>0.875000</td>\n",
       "      <td>0.000000</td>\n",
       "      <td>7</td>\n",
       "    </tr>\n",
       "    <tr>\n",
       "      <th>1</th>\n",
       "      <td>1</td>\n",
       "      <td>8</td>\n",
       "      <td>5</td>\n",
       "      <td>0.015</td>\n",
       "      <td>0.114634</td>\n",
       "      <td>0.000000</td>\n",
       "      <td>0.000000</td>\n",
       "      <td>0</td>\n",
       "    </tr>\n",
       "    <tr>\n",
       "      <th>2</th>\n",
       "      <td>2</td>\n",
       "      <td>5</td>\n",
       "      <td>6</td>\n",
       "      <td>0.005</td>\n",
       "      <td>0.101115</td>\n",
       "      <td>0.857143</td>\n",
       "      <td>0.000000</td>\n",
       "      <td>5</td>\n",
       "    </tr>\n",
       "    <tr>\n",
       "      <th>3</th>\n",
       "      <td>3</td>\n",
       "      <td>7</td>\n",
       "      <td>5</td>\n",
       "      <td>0.015</td>\n",
       "      <td>0.119038</td>\n",
       "      <td>0.000000</td>\n",
       "      <td>0.000000</td>\n",
       "      <td>0</td>\n",
       "    </tr>\n",
       "    <tr>\n",
       "      <th>4</th>\n",
       "      <td>4</td>\n",
       "      <td>6</td>\n",
       "      <td>5</td>\n",
       "      <td>0.005</td>\n",
       "      <td>0.099076</td>\n",
       "      <td>0.842105</td>\n",
       "      <td>0.000000</td>\n",
       "      <td>6</td>\n",
       "    </tr>\n",
       "    <tr>\n",
       "      <th>...</th>\n",
       "      <td>...</td>\n",
       "      <td>...</td>\n",
       "      <td>...</td>\n",
       "      <td>...</td>\n",
       "      <td>...</td>\n",
       "      <td>...</td>\n",
       "      <td>...</td>\n",
       "      <td>...</td>\n",
       "    </tr>\n",
       "    <tr>\n",
       "      <th>245</th>\n",
       "      <td>245</td>\n",
       "      <td>6</td>\n",
       "      <td>7</td>\n",
       "      <td>0.005</td>\n",
       "      <td>0.105166</td>\n",
       "      <td>0.772727</td>\n",
       "      <td>0.000000</td>\n",
       "      <td>6</td>\n",
       "    </tr>\n",
       "    <tr>\n",
       "      <th>246</th>\n",
       "      <td>246</td>\n",
       "      <td>4</td>\n",
       "      <td>7</td>\n",
       "      <td>0.005</td>\n",
       "      <td>0.101323</td>\n",
       "      <td>0.857143</td>\n",
       "      <td>0.000000</td>\n",
       "      <td>4</td>\n",
       "    </tr>\n",
       "    <tr>\n",
       "      <th>247</th>\n",
       "      <td>247</td>\n",
       "      <td>8</td>\n",
       "      <td>7</td>\n",
       "      <td>0.005</td>\n",
       "      <td>0.112393</td>\n",
       "      <td>0.789474</td>\n",
       "      <td>0.076923</td>\n",
       "      <td>8</td>\n",
       "    </tr>\n",
       "    <tr>\n",
       "      <th>248</th>\n",
       "      <td>248</td>\n",
       "      <td>8</td>\n",
       "      <td>7</td>\n",
       "      <td>0.010</td>\n",
       "      <td>0.115760</td>\n",
       "      <td>0.533333</td>\n",
       "      <td>0.333333</td>\n",
       "      <td>4</td>\n",
       "    </tr>\n",
       "    <tr>\n",
       "      <th>249</th>\n",
       "      <td>249</td>\n",
       "      <td>6</td>\n",
       "      <td>6</td>\n",
       "      <td>0.005</td>\n",
       "      <td>0.123468</td>\n",
       "      <td>0.772727</td>\n",
       "      <td>0.000000</td>\n",
       "      <td>6</td>\n",
       "    </tr>\n",
       "  </tbody>\n",
       "</table>\n",
       "<p>250 rows × 8 columns</p>\n",
       "</div>"
      ],
      "text/plain": [
       "     Experiment_ID  Best_max_depth  Best_min_samples_leaf  Best_ccp_alpha  \\\n",
       "0                0               7                      5           0.005   \n",
       "1                1               8                      5           0.015   \n",
       "2                2               5                      6           0.005   \n",
       "3                3               7                      5           0.015   \n",
       "4                4               6                      5           0.005   \n",
       "..             ...             ...                    ...             ...   \n",
       "245            245               6                      7           0.005   \n",
       "246            246               4                      7           0.005   \n",
       "247            247               8                      7           0.005   \n",
       "248            248               8                      7           0.010   \n",
       "249            249               6                      6           0.005   \n",
       "\n",
       "     Best_average_precision_5x2CV  S4_traintest_precision  \\\n",
       "0                        0.093205                0.875000   \n",
       "1                        0.114634                0.000000   \n",
       "2                        0.101115                0.857143   \n",
       "3                        0.119038                0.000000   \n",
       "4                        0.099076                0.842105   \n",
       "..                            ...                     ...   \n",
       "245                      0.105166                0.772727   \n",
       "246                      0.101323                0.857143   \n",
       "247                      0.112393                0.789474   \n",
       "248                      0.115760                0.533333   \n",
       "249                      0.123468                0.772727   \n",
       "\n",
       "     S4_validation_precision  Final_tree_depth  \n",
       "0                   0.000000                 7  \n",
       "1                   0.000000                 0  \n",
       "2                   0.000000                 5  \n",
       "3                   0.000000                 0  \n",
       "4                   0.000000                 6  \n",
       "..                       ...               ...  \n",
       "245                 0.000000                 6  \n",
       "246                 0.000000                 4  \n",
       "247                 0.076923                 8  \n",
       "248                 0.333333                 4  \n",
       "249                 0.000000                 6  \n",
       "\n",
       "[250 rows x 8 columns]"
      ]
     },
     "execution_count": 46,
     "metadata": {},
     "output_type": "execute_result"
    }
   ],
   "source": [
    "opt_val_results = pd.read_csv(OPT_RUNS_RESULTS_IN, sep=',', decimal='.')\n",
    "opt_val_results"
   ]
  },
  {
   "cell_type": "markdown",
   "id": "e00af44b",
   "metadata": {},
   "source": [
    "## Analyze the results"
   ]
  },
  {
   "cell_type": "markdown",
   "id": "25641822",
   "metadata": {},
   "source": [
    "### Maximum achievable validation precision"
   ]
  },
  {
   "cell_type": "code",
   "execution_count": 75,
   "id": "b7e6d8e6",
   "metadata": {
    "ExecuteTime": {
     "end_time": "2023-03-02T12:05:09.618954Z",
     "start_time": "2023-03-02T12:05:09.602002Z"
    }
   },
   "outputs": [
    {
     "data": {
      "text/plain": [
       "0.4285714285714285"
      ]
     },
     "execution_count": 75,
     "metadata": {},
     "output_type": "execute_result"
    }
   ],
   "source": [
    "max_val_precision = opt_val_results['S4_validation_precision'].max()\n",
    "max_val_precision"
   ]
  },
  {
   "cell_type": "markdown",
   "id": "4d1e8589",
   "metadata": {},
   "source": [
    "Let's see how many of the combinations achieve this value:"
   ]
  },
  {
   "cell_type": "code",
   "execution_count": 76,
   "id": "f57c1d7a",
   "metadata": {
    "ExecuteTime": {
     "end_time": "2023-03-02T12:05:10.241276Z",
     "start_time": "2023-03-02T12:05:10.232300Z"
    }
   },
   "outputs": [
    {
     "data": {
      "text/html": [
       "<div>\n",
       "<style scoped>\n",
       "    .dataframe tbody tr th:only-of-type {\n",
       "        vertical-align: middle;\n",
       "    }\n",
       "\n",
       "    .dataframe tbody tr th {\n",
       "        vertical-align: top;\n",
       "    }\n",
       "\n",
       "    .dataframe thead th {\n",
       "        text-align: right;\n",
       "    }\n",
       "</style>\n",
       "<table border=\"1\" class=\"dataframe\">\n",
       "  <thead>\n",
       "    <tr style=\"text-align: right;\">\n",
       "      <th></th>\n",
       "      <th>Experiment_ID</th>\n",
       "      <th>Best_max_depth</th>\n",
       "      <th>Best_min_samples_leaf</th>\n",
       "      <th>Best_ccp_alpha</th>\n",
       "      <th>Best_average_precision_5x2CV</th>\n",
       "      <th>S4_traintest_precision</th>\n",
       "      <th>S4_validation_precision</th>\n",
       "      <th>Final_tree_depth</th>\n",
       "    </tr>\n",
       "  </thead>\n",
       "  <tbody>\n",
       "    <tr>\n",
       "      <th>29</th>\n",
       "      <td>29</td>\n",
       "      <td>8</td>\n",
       "      <td>5</td>\n",
       "      <td>0.005</td>\n",
       "      <td>0.118234</td>\n",
       "      <td>0.794872</td>\n",
       "      <td>0.428571</td>\n",
       "      <td>8</td>\n",
       "    </tr>\n",
       "    <tr>\n",
       "      <th>88</th>\n",
       "      <td>88</td>\n",
       "      <td>8</td>\n",
       "      <td>5</td>\n",
       "      <td>0.005</td>\n",
       "      <td>0.107404</td>\n",
       "      <td>0.794872</td>\n",
       "      <td>0.428571</td>\n",
       "      <td>8</td>\n",
       "    </tr>\n",
       "    <tr>\n",
       "      <th>113</th>\n",
       "      <td>113</td>\n",
       "      <td>8</td>\n",
       "      <td>5</td>\n",
       "      <td>0.005</td>\n",
       "      <td>0.106245</td>\n",
       "      <td>0.794872</td>\n",
       "      <td>0.428571</td>\n",
       "      <td>8</td>\n",
       "    </tr>\n",
       "    <tr>\n",
       "      <th>216</th>\n",
       "      <td>216</td>\n",
       "      <td>8</td>\n",
       "      <td>5</td>\n",
       "      <td>0.005</td>\n",
       "      <td>0.130773</td>\n",
       "      <td>0.794872</td>\n",
       "      <td>0.428571</td>\n",
       "      <td>8</td>\n",
       "    </tr>\n",
       "  </tbody>\n",
       "</table>\n",
       "</div>"
      ],
      "text/plain": [
       "     Experiment_ID  Best_max_depth  Best_min_samples_leaf  Best_ccp_alpha  \\\n",
       "29              29               8                      5           0.005   \n",
       "88              88               8                      5           0.005   \n",
       "113            113               8                      5           0.005   \n",
       "216            216               8                      5           0.005   \n",
       "\n",
       "     Best_average_precision_5x2CV  S4_traintest_precision  \\\n",
       "29                       0.118234                0.794872   \n",
       "88                       0.107404                0.794872   \n",
       "113                      0.106245                0.794872   \n",
       "216                      0.130773                0.794872   \n",
       "\n",
       "     S4_validation_precision  Final_tree_depth  \n",
       "29                  0.428571                 8  \n",
       "88                  0.428571                 8  \n",
       "113                 0.428571                 8  \n",
       "216                 0.428571                 8  "
      ]
     },
     "execution_count": 76,
     "metadata": {},
     "output_type": "execute_result"
    }
   ],
   "source": [
    "opt_val_results[opt_val_results['S4_validation_precision'] == max_val_precision]"
   ]
  },
  {
   "cell_type": "markdown",
   "id": "4f1afb19",
   "metadata": {},
   "source": [
    "**OBSERVATION:** we get this pretty good result in only 4 instances.\n",
    "\n",
    "We will better have a look at the distribution of best results for validation precision, to have an idea of what we really can achieve."
   ]
  },
  {
   "cell_type": "markdown",
   "id": "617e7325",
   "metadata": {},
   "source": [
    "### Distribution of validation precisions"
   ]
  },
  {
   "cell_type": "code",
   "execution_count": 77,
   "id": "81ee652e",
   "metadata": {
    "ExecuteTime": {
     "end_time": "2023-03-02T12:05:10.975570Z",
     "start_time": "2023-03-02T12:05:10.776962Z"
    }
   },
   "outputs": [
    {
     "data": {
      "image/png": "[encoded data removed]",
      "text/plain": [
       "<Figure size 1000x700 with 1 Axes>"
      ]
     },
     "metadata": {},
     "output_type": "display_data"
    }
   ],
   "source": [
    "data = opt_val_results\n",
    "x_col = 'S4_validation_precision'\n",
    "hue_col = None\n",
    "varname = None\n",
    "xlim = (0.0, 1.0)\n",
    "ylim = None\n",
    "fig_title = None\n",
    "fig_filename = None\n",
    "stat='count'\n",
    "kde=False\n",
    "hist_fill=True\n",
    "bins='auto'\n",
    "\n",
    "compare_dist(\n",
    "    data=data, x_col=x_col, hue_col=hue_col,\n",
    "    varname=varname,\n",
    "    xlim=xlim, ylim=ylim,\n",
    "    fig_title=fig_title, fig_filename=fig_filename,\n",
    "    stat=stat, kde=kde, hist_fill=hist_fill,\n",
    "    bins=bins\n",
    ")"
   ]
  },
  {
   "cell_type": "markdown",
   "id": "abc6ce90",
   "metadata": {},
   "source": [
    "**OBSERVATION:** As we can see, we have a lot of instances with $0$ validation precision."
   ]
  },
  {
   "cell_type": "code",
   "execution_count": 78,
   "id": "45760d38",
   "metadata": {
    "ExecuteTime": {
     "end_time": "2023-03-02T12:05:11.350131Z",
     "start_time": "2023-03-02T12:05:11.338165Z"
    }
   },
   "outputs": [
    {
     "data": {
      "text/html": [
       "<div>\n",
       "<style scoped>\n",
       "    .dataframe tbody tr th:only-of-type {\n",
       "        vertical-align: middle;\n",
       "    }\n",
       "\n",
       "    .dataframe tbody tr th {\n",
       "        vertical-align: top;\n",
       "    }\n",
       "\n",
       "    .dataframe thead th {\n",
       "        text-align: right;\n",
       "    }\n",
       "</style>\n",
       "<table border=\"1\" class=\"dataframe\">\n",
       "  <thead>\n",
       "    <tr style=\"text-align: right;\">\n",
       "      <th></th>\n",
       "      <th>Experiment_ID</th>\n",
       "    </tr>\n",
       "    <tr>\n",
       "      <th>S4_validation_precision</th>\n",
       "      <th></th>\n",
       "    </tr>\n",
       "  </thead>\n",
       "  <tbody>\n",
       "    <tr>\n",
       "      <th>0.000000</th>\n",
       "      <td>118</td>\n",
       "    </tr>\n",
       "    <tr>\n",
       "      <th>0.333333</th>\n",
       "      <td>29</td>\n",
       "    </tr>\n",
       "    <tr>\n",
       "      <th>0.200000</th>\n",
       "      <td>18</td>\n",
       "    </tr>\n",
       "    <tr>\n",
       "      <th>0.076923</th>\n",
       "      <td>15</td>\n",
       "    </tr>\n",
       "    <tr>\n",
       "      <th>0.100000</th>\n",
       "      <td>13</td>\n",
       "    </tr>\n",
       "    <tr>\n",
       "      <th>0.230769</th>\n",
       "      <td>10</td>\n",
       "    </tr>\n",
       "    <tr>\n",
       "      <th>0.214286</th>\n",
       "      <td>8</td>\n",
       "    </tr>\n",
       "    <tr>\n",
       "      <th>0.250000</th>\n",
       "      <td>8</td>\n",
       "    </tr>\n",
       "    <tr>\n",
       "      <th>0.111111</th>\n",
       "      <td>7</td>\n",
       "    </tr>\n",
       "    <tr>\n",
       "      <th>0.125000</th>\n",
       "      <td>7</td>\n",
       "    </tr>\n",
       "    <tr>\n",
       "      <th>0.375000</th>\n",
       "      <td>6</td>\n",
       "    </tr>\n",
       "    <tr>\n",
       "      <th>0.181818</th>\n",
       "      <td>4</td>\n",
       "    </tr>\n",
       "    <tr>\n",
       "      <th>0.428571</th>\n",
       "      <td>4</td>\n",
       "    </tr>\n",
       "    <tr>\n",
       "      <th>0.133333</th>\n",
       "      <td>3</td>\n",
       "    </tr>\n",
       "  </tbody>\n",
       "</table>\n",
       "</div>"
      ],
      "text/plain": [
       "                         Experiment_ID\n",
       "S4_validation_precision               \n",
       "0.000000                           118\n",
       "0.333333                            29\n",
       "0.200000                            18\n",
       "0.076923                            15\n",
       "0.100000                            13\n",
       "0.230769                            10\n",
       "0.214286                             8\n",
       "0.250000                             8\n",
       "0.111111                             7\n",
       "0.125000                             7\n",
       "0.375000                             6\n",
       "0.181818                             4\n",
       "0.428571                             4\n",
       "0.133333                             3"
      ]
     },
     "execution_count": 78,
     "metadata": {},
     "output_type": "execute_result"
    }
   ],
   "source": [
    "val_precisions_count = opt_val_results[['S4_validation_precision', 'Experiment_ID']] \\\n",
    "    .groupby(by='S4_validation_precision').count() \\\n",
    "    .sort_values(by='Experiment_ID', ascending=False)\n",
    "val_precisions_count"
   ]
  },
  {
   "cell_type": "markdown",
   "id": "a51c30cc",
   "metadata": {},
   "source": [
    "**OBSERVATION:** this is very interesting. The most frequent case is that in which validation precision is $0.00$ ($\\sim50\\%$ of the $250$ runs). The second more frequent one is the one with validation precision $0.33$ ($\\sim12\\%$ of the $250$ runs), and this is the value we got with the very first optimization.\n",
    "\n",
    "Let's plot the distribution with the correct number of bins:"
   ]
  },
  {
   "cell_type": "code",
   "execution_count": 79,
   "id": "36899351",
   "metadata": {
    "ExecuteTime": {
     "end_time": "2023-03-02T12:05:11.769510Z",
     "start_time": "2023-03-02T12:05:11.760534Z"
    }
   },
   "outputs": [
    {
     "data": {
      "text/plain": [
       "14"
      ]
     },
     "execution_count": 79,
     "metadata": {},
     "output_type": "execute_result"
    }
   ],
   "source": [
    "len(val_precisions_count)"
   ]
  },
  {
   "cell_type": "code",
   "execution_count": 80,
   "id": "80fe1b23",
   "metadata": {
    "ExecuteTime": {
     "end_time": "2023-03-02T12:05:12.240428Z",
     "start_time": "2023-03-02T12:05:11.961168Z"
    }
   },
   "outputs": [
    {
     "data": {
      "image/png": "[encoded data removed]",
      "text/plain": [
       "<Figure size 1000x700 with 1 Axes>"
      ]
     },
     "metadata": {},
     "output_type": "display_data"
    }
   ],
   "source": [
    "data = opt_val_results\n",
    "x_col = 'S4_validation_precision'\n",
    "hue_col = None\n",
    "varname = None\n",
    "xlim = (0.0, 1.0)\n",
    "ylim = None\n",
    "fig_title = \"Distribution of precision values obtained on S4 validation sample\\n\" \\\n",
    "    \"(Data from 250 runs of 500 'optuna' trials, with a random 5x2 fold CV split for each run)\"\n",
    "fig_filename = IMG_FOLDER + \"ML_80_01_5x2_ValPrecisions_Distribution.jpg\"\n",
    "stat='count'\n",
    "kde=True\n",
    "hist_fill=True\n",
    "bins = len(val_precisions_count)\n",
    "\n",
    "compare_dist(\n",
    "    data=data, x_col=x_col, hue_col=hue_col,\n",
    "    varname=varname,\n",
    "    xlim=xlim, ylim=ylim,\n",
    "    fig_title=fig_title, fig_filename=fig_filename,\n",
    "    stat=stat, kde=kde, hist_fill=hist_fill,\n",
    "    bins=bins\n",
    ")"
   ]
  },
  {
   "cell_type": "markdown",
   "id": "cfcf5965",
   "metadata": {},
   "source": [
    "Let's see with less bins:"
   ]
  },
  {
   "cell_type": "code",
   "execution_count": 81,
   "id": "b422916d",
   "metadata": {
    "ExecuteTime": {
     "end_time": "2023-03-02T12:05:12.680863Z",
     "start_time": "2023-03-02T12:05:12.409587Z"
    }
   },
   "outputs": [
    {
     "data": {
      "image/png": "[encoded data removed]",
      "text/plain": [
       "<Figure size 1000x700 with 1 Axes>"
      ]
     },
     "metadata": {},
     "output_type": "display_data"
    }
   ],
   "source": [
    "data = opt_val_results\n",
    "x_col = 'S4_validation_precision'\n",
    "hue_col = None\n",
    "varname = None\n",
    "xlim = (0.0, 1.0)\n",
    "ylim = None\n",
    "fig_title = \"Distribution of precision values obtained on S4 validation sample (only 4 bins)\\n\" \\\n",
    "    \"(Data from 250 runs of 500 'optuna' trials, with a random 5x2 fold CV split for each run)\"\n",
    "fig_filename = IMG_FOLDER + \"ML_80_02_5x2_ValPrecisions_Distribution_4bins.jpg\"\n",
    "stat='count'\n",
    "kde=True\n",
    "hist_fill=True\n",
    "bins = 4\n",
    "\n",
    "compare_dist(\n",
    "    data=data, x_col=x_col, hue_col=hue_col,\n",
    "    varname=varname,\n",
    "    xlim=xlim, ylim=ylim,\n",
    "    fig_title=fig_title, fig_filename=fig_filename,\n",
    "    stat=stat, kde=kde, hist_fill=hist_fill,\n",
    "    bins=bins\n",
    ")"
   ]
  },
  {
   "cell_type": "markdown",
   "id": "9b5ca3f0",
   "metadata": {},
   "source": [
    "**OBSERVATION:** the $0.00$ values could be just cases of overfitting during the , so we should discard them. Let's check the values they yielded for training/test set after final validation, and also the average precision obtained during 5x2 fold CV runs."
   ]
  },
  {
   "cell_type": "code",
   "execution_count": 82,
   "id": "e070efd5",
   "metadata": {
    "ExecuteTime": {
     "end_time": "2023-03-02T12:05:13.209911Z",
     "start_time": "2023-03-02T12:05:13.193940Z"
    }
   },
   "outputs": [
    {
     "data": {
      "text/html": [
       "<div>\n",
       "<style scoped>\n",
       "    .dataframe tbody tr th:only-of-type {\n",
       "        vertical-align: middle;\n",
       "    }\n",
       "\n",
       "    .dataframe tbody tr th {\n",
       "        vertical-align: top;\n",
       "    }\n",
       "\n",
       "    .dataframe thead th {\n",
       "        text-align: right;\n",
       "    }\n",
       "</style>\n",
       "<table border=\"1\" class=\"dataframe\">\n",
       "  <thead>\n",
       "    <tr style=\"text-align: right;\">\n",
       "      <th></th>\n",
       "      <th>Experiment_ID</th>\n",
       "      <th>Best_max_depth</th>\n",
       "      <th>Best_min_samples_leaf</th>\n",
       "      <th>Best_ccp_alpha</th>\n",
       "      <th>Best_average_precision_5x2CV</th>\n",
       "      <th>S4_traintest_precision</th>\n",
       "      <th>S4_validation_precision</th>\n",
       "      <th>Final_tree_depth</th>\n",
       "    </tr>\n",
       "  </thead>\n",
       "  <tbody>\n",
       "    <tr>\n",
       "      <th>0</th>\n",
       "      <td>0</td>\n",
       "      <td>7</td>\n",
       "      <td>5</td>\n",
       "      <td>0.005</td>\n",
       "      <td>0.093205</td>\n",
       "      <td>0.875000</td>\n",
       "      <td>0.0</td>\n",
       "      <td>7</td>\n",
       "    </tr>\n",
       "    <tr>\n",
       "      <th>1</th>\n",
       "      <td>1</td>\n",
       "      <td>8</td>\n",
       "      <td>5</td>\n",
       "      <td>0.015</td>\n",
       "      <td>0.114634</td>\n",
       "      <td>0.000000</td>\n",
       "      <td>0.0</td>\n",
       "      <td>0</td>\n",
       "    </tr>\n",
       "    <tr>\n",
       "      <th>2</th>\n",
       "      <td>2</td>\n",
       "      <td>5</td>\n",
       "      <td>6</td>\n",
       "      <td>0.005</td>\n",
       "      <td>0.101115</td>\n",
       "      <td>0.857143</td>\n",
       "      <td>0.0</td>\n",
       "      <td>5</td>\n",
       "    </tr>\n",
       "    <tr>\n",
       "      <th>3</th>\n",
       "      <td>3</td>\n",
       "      <td>7</td>\n",
       "      <td>5</td>\n",
       "      <td>0.015</td>\n",
       "      <td>0.119038</td>\n",
       "      <td>0.000000</td>\n",
       "      <td>0.0</td>\n",
       "      <td>0</td>\n",
       "    </tr>\n",
       "    <tr>\n",
       "      <th>4</th>\n",
       "      <td>4</td>\n",
       "      <td>6</td>\n",
       "      <td>5</td>\n",
       "      <td>0.005</td>\n",
       "      <td>0.099076</td>\n",
       "      <td>0.842105</td>\n",
       "      <td>0.0</td>\n",
       "      <td>6</td>\n",
       "    </tr>\n",
       "    <tr>\n",
       "      <th>...</th>\n",
       "      <td>...</td>\n",
       "      <td>...</td>\n",
       "      <td>...</td>\n",
       "      <td>...</td>\n",
       "      <td>...</td>\n",
       "      <td>...</td>\n",
       "      <td>...</td>\n",
       "      <td>...</td>\n",
       "    </tr>\n",
       "    <tr>\n",
       "      <th>243</th>\n",
       "      <td>243</td>\n",
       "      <td>7</td>\n",
       "      <td>7</td>\n",
       "      <td>0.015</td>\n",
       "      <td>0.119167</td>\n",
       "      <td>0.000000</td>\n",
       "      <td>0.0</td>\n",
       "      <td>0</td>\n",
       "    </tr>\n",
       "    <tr>\n",
       "      <th>244</th>\n",
       "      <td>244</td>\n",
       "      <td>7</td>\n",
       "      <td>8</td>\n",
       "      <td>0.015</td>\n",
       "      <td>0.151786</td>\n",
       "      <td>0.000000</td>\n",
       "      <td>0.0</td>\n",
       "      <td>0</td>\n",
       "    </tr>\n",
       "    <tr>\n",
       "      <th>245</th>\n",
       "      <td>245</td>\n",
       "      <td>6</td>\n",
       "      <td>7</td>\n",
       "      <td>0.005</td>\n",
       "      <td>0.105166</td>\n",
       "      <td>0.772727</td>\n",
       "      <td>0.0</td>\n",
       "      <td>6</td>\n",
       "    </tr>\n",
       "    <tr>\n",
       "      <th>246</th>\n",
       "      <td>246</td>\n",
       "      <td>4</td>\n",
       "      <td>7</td>\n",
       "      <td>0.005</td>\n",
       "      <td>0.101323</td>\n",
       "      <td>0.857143</td>\n",
       "      <td>0.0</td>\n",
       "      <td>4</td>\n",
       "    </tr>\n",
       "    <tr>\n",
       "      <th>249</th>\n",
       "      <td>249</td>\n",
       "      <td>6</td>\n",
       "      <td>6</td>\n",
       "      <td>0.005</td>\n",
       "      <td>0.123468</td>\n",
       "      <td>0.772727</td>\n",
       "      <td>0.0</td>\n",
       "      <td>6</td>\n",
       "    </tr>\n",
       "  </tbody>\n",
       "</table>\n",
       "<p>118 rows × 8 columns</p>\n",
       "</div>"
      ],
      "text/plain": [
       "     Experiment_ID  Best_max_depth  Best_min_samples_leaf  Best_ccp_alpha  \\\n",
       "0                0               7                      5           0.005   \n",
       "1                1               8                      5           0.015   \n",
       "2                2               5                      6           0.005   \n",
       "3                3               7                      5           0.015   \n",
       "4                4               6                      5           0.005   \n",
       "..             ...             ...                    ...             ...   \n",
       "243            243               7                      7           0.015   \n",
       "244            244               7                      8           0.015   \n",
       "245            245               6                      7           0.005   \n",
       "246            246               4                      7           0.005   \n",
       "249            249               6                      6           0.005   \n",
       "\n",
       "     Best_average_precision_5x2CV  S4_traintest_precision  \\\n",
       "0                        0.093205                0.875000   \n",
       "1                        0.114634                0.000000   \n",
       "2                        0.101115                0.857143   \n",
       "3                        0.119038                0.000000   \n",
       "4                        0.099076                0.842105   \n",
       "..                            ...                     ...   \n",
       "243                      0.119167                0.000000   \n",
       "244                      0.151786                0.000000   \n",
       "245                      0.105166                0.772727   \n",
       "246                      0.101323                0.857143   \n",
       "249                      0.123468                0.772727   \n",
       "\n",
       "     S4_validation_precision  Final_tree_depth  \n",
       "0                        0.0                 7  \n",
       "1                        0.0                 0  \n",
       "2                        0.0                 5  \n",
       "3                        0.0                 0  \n",
       "4                        0.0                 6  \n",
       "..                       ...               ...  \n",
       "243                      0.0                 0  \n",
       "244                      0.0                 0  \n",
       "245                      0.0                 6  \n",
       "246                      0.0                 4  \n",
       "249                      0.0                 6  \n",
       "\n",
       "[118 rows x 8 columns]"
      ]
     },
     "execution_count": 82,
     "metadata": {},
     "output_type": "execute_result"
    }
   ],
   "source": [
    "zero_val_precision = opt_val_results[opt_val_results['S4_validation_precision'] == 0.0].copy()\n",
    "zero_val_precision"
   ]
  },
  {
   "cell_type": "markdown",
   "id": "9a27879b",
   "metadata": {},
   "source": [
    "First, let's see the average precision achieved during 5x2 fold CV."
   ]
  },
  {
   "cell_type": "code",
   "execution_count": 83,
   "id": "0ebcb11b",
   "metadata": {
    "ExecuteTime": {
     "end_time": "2023-03-02T12:05:13.974968Z",
     "start_time": "2023-03-02T12:05:13.953998Z"
    }
   },
   "outputs": [
    {
     "data": {
      "text/html": [
       "<div>\n",
       "<style scoped>\n",
       "    .dataframe tbody tr th:only-of-type {\n",
       "        vertical-align: middle;\n",
       "    }\n",
       "\n",
       "    .dataframe tbody tr th {\n",
       "        vertical-align: top;\n",
       "    }\n",
       "\n",
       "    .dataframe thead th {\n",
       "        text-align: right;\n",
       "    }\n",
       "</style>\n",
       "<table border=\"1\" class=\"dataframe\">\n",
       "  <thead>\n",
       "    <tr style=\"text-align: right;\">\n",
       "      <th></th>\n",
       "      <th>Experiment_ID</th>\n",
       "    </tr>\n",
       "    <tr>\n",
       "      <th>Best_average_precision_5x2CV</th>\n",
       "      <th></th>\n",
       "    </tr>\n",
       "  </thead>\n",
       "  <tbody>\n",
       "    <tr>\n",
       "      <th>0.083091</th>\n",
       "      <td>1</td>\n",
       "    </tr>\n",
       "    <tr>\n",
       "      <th>0.088487</th>\n",
       "      <td>1</td>\n",
       "    </tr>\n",
       "    <tr>\n",
       "      <th>0.088517</th>\n",
       "      <td>1</td>\n",
       "    </tr>\n",
       "    <tr>\n",
       "      <th>0.090530</th>\n",
       "      <td>1</td>\n",
       "    </tr>\n",
       "    <tr>\n",
       "      <th>0.090602</th>\n",
       "      <td>1</td>\n",
       "    </tr>\n",
       "    <tr>\n",
       "      <th>...</th>\n",
       "      <td>...</td>\n",
       "    </tr>\n",
       "    <tr>\n",
       "      <th>0.164030</th>\n",
       "      <td>1</td>\n",
       "    </tr>\n",
       "    <tr>\n",
       "      <th>0.166860</th>\n",
       "      <td>1</td>\n",
       "    </tr>\n",
       "    <tr>\n",
       "      <th>0.174255</th>\n",
       "      <td>1</td>\n",
       "    </tr>\n",
       "    <tr>\n",
       "      <th>0.175585</th>\n",
       "      <td>1</td>\n",
       "    </tr>\n",
       "    <tr>\n",
       "      <th>0.195406</th>\n",
       "      <td>1</td>\n",
       "    </tr>\n",
       "  </tbody>\n",
       "</table>\n",
       "<p>118 rows × 1 columns</p>\n",
       "</div>"
      ],
      "text/plain": [
       "                              Experiment_ID\n",
       "Best_average_precision_5x2CV               \n",
       "0.083091                                  1\n",
       "0.088487                                  1\n",
       "0.088517                                  1\n",
       "0.090530                                  1\n",
       "0.090602                                  1\n",
       "...                                     ...\n",
       "0.164030                                  1\n",
       "0.166860                                  1\n",
       "0.174255                                  1\n",
       "0.175585                                  1\n",
       "0.195406                                  1\n",
       "\n",
       "[118 rows x 1 columns]"
      ]
     },
     "execution_count": 83,
     "metadata": {},
     "output_type": "execute_result"
    }
   ],
   "source": [
    "zero_val_precision[['Best_average_precision_5x2CV', 'Experiment_ID']] \\\n",
    "    .groupby(by='Best_average_precision_5x2CV').count()"
   ]
  },
  {
   "cell_type": "markdown",
   "id": "404f341a",
   "metadata": {},
   "source": [
    "Too many values, we need a graph:"
   ]
  },
  {
   "cell_type": "code",
   "execution_count": 84,
   "id": "cb7942f8",
   "metadata": {
    "ExecuteTime": {
     "end_time": "2023-03-02T12:05:15.144269Z",
     "start_time": "2023-03-02T12:05:14.881871Z"
    }
   },
   "outputs": [
    {
     "data": {
      "image/png": "[encoded data removed]",
      "text/plain": [
       "<Figure size 1000x700 with 1 Axes>"
      ]
     },
     "metadata": {},
     "output_type": "display_data"
    }
   ],
   "source": [
    "data = zero_val_precision\n",
    "x_col = 'Best_average_precision_5x2CV'\n",
    "hue_col = None\n",
    "varname = None\n",
    "xlim = (0.0, 1.0)\n",
    "ylim = None\n",
    "fig_title = \"Distribution of 5x2 CV average precision\\n\" \\\n",
    "    \"(Only for runs that yielded 0.00 precision for S4 validation sample)\"\n",
    "fig_filename = IMG_FOLDER + \"ML_80_03_5x2_ValPrecisions_Distribution_OnlyZeroValPrec.jpg\"\n",
    "stat='count'\n",
    "kde=True\n",
    "hist_fill=True\n",
    "bins = 'auto'\n",
    "\n",
    "compare_dist(\n",
    "    data=data, x_col=x_col, hue_col=hue_col,\n",
    "    varname=varname,\n",
    "    xlim=xlim, ylim=ylim,\n",
    "    fig_title=fig_title, fig_filename=fig_filename,\n",
    "    stat=stat, kde=kde, hist_fill=hist_fill,\n",
    "    bins=bins\n",
    ")"
   ]
  },
  {
   "cell_type": "markdown",
   "id": "5a71f11e",
   "metadata": {},
   "source": [
    "**OBSERVATION:** ok, it looks like precision is, in general, pretty bad for these cases. That is, these are bad models, for whatever reason.\n",
    "\n",
    "Let's see the precisions for the train/test set."
   ]
  },
  {
   "cell_type": "code",
   "execution_count": 85,
   "id": "a6c615da",
   "metadata": {
    "ExecuteTime": {
     "end_time": "2023-03-02T12:05:15.627717Z",
     "start_time": "2023-03-02T12:05:15.610764Z"
    }
   },
   "outputs": [
    {
     "data": {
      "text/html": [
       "<div>\n",
       "<style scoped>\n",
       "    .dataframe tbody tr th:only-of-type {\n",
       "        vertical-align: middle;\n",
       "    }\n",
       "\n",
       "    .dataframe tbody tr th {\n",
       "        vertical-align: top;\n",
       "    }\n",
       "\n",
       "    .dataframe thead th {\n",
       "        text-align: right;\n",
       "    }\n",
       "</style>\n",
       "<table border=\"1\" class=\"dataframe\">\n",
       "  <thead>\n",
       "    <tr style=\"text-align: right;\">\n",
       "      <th></th>\n",
       "      <th>Experiment_ID</th>\n",
       "    </tr>\n",
       "    <tr>\n",
       "      <th>S4_traintest_precision</th>\n",
       "      <th></th>\n",
       "    </tr>\n",
       "  </thead>\n",
       "  <tbody>\n",
       "    <tr>\n",
       "      <th>0.000000</th>\n",
       "      <td>31</td>\n",
       "    </tr>\n",
       "    <tr>\n",
       "      <th>0.704545</th>\n",
       "      <td>20</td>\n",
       "    </tr>\n",
       "    <tr>\n",
       "      <th>0.772727</th>\n",
       "      <td>22</td>\n",
       "    </tr>\n",
       "    <tr>\n",
       "      <th>0.842105</th>\n",
       "      <td>10</td>\n",
       "    </tr>\n",
       "    <tr>\n",
       "      <th>0.857143</th>\n",
       "      <td>23</td>\n",
       "    </tr>\n",
       "    <tr>\n",
       "      <th>0.875000</th>\n",
       "      <td>12</td>\n",
       "    </tr>\n",
       "  </tbody>\n",
       "</table>\n",
       "</div>"
      ],
      "text/plain": [
       "                        Experiment_ID\n",
       "S4_traintest_precision               \n",
       "0.000000                           31\n",
       "0.704545                           20\n",
       "0.772727                           22\n",
       "0.842105                           10\n",
       "0.857143                           23\n",
       "0.875000                           12"
      ]
     },
     "execution_count": 85,
     "metadata": {},
     "output_type": "execute_result"
    }
   ],
   "source": [
    "zero_val_precision[['S4_traintest_precision', 'Experiment_ID']] \\\n",
    "    .groupby(by='S4_traintest_precision').count()"
   ]
  },
  {
   "cell_type": "markdown",
   "id": "9dccea6f",
   "metadata": {},
   "source": [
    "**OBSERVATION:** Ok, we have either $0.00$ values or very high values.\n",
    "\n",
    "In short, we always have bad models: either they perform badly for all samples (5x2 CV splits, train/test and validation), or they severely overfit after the last retrain."
   ]
  },
  {
   "cell_type": "markdown",
   "id": "36368bb8",
   "metadata": {},
   "source": [
    "### Relationship between the three precisions values: 5x2 average, train/test and validation"
   ]
  },
  {
   "cell_type": "markdown",
   "id": "2e7efe83",
   "metadata": {},
   "source": [
    "Let's try to see the relationship between the three precision values with a scatter plot."
   ]
  },
  {
   "cell_type": "code",
   "execution_count": 86,
   "id": "4af237c4",
   "metadata": {
    "ExecuteTime": {
     "end_time": "2023-03-02T12:05:17.174522Z",
     "start_time": "2023-03-02T12:05:17.161557Z"
    }
   },
   "outputs": [
    {
     "name": "stdout",
     "output_type": "stream",
     "text": [
      "['Experiment_ID', 'Best_max_depth', 'Best_min_samples_leaf', 'Best_ccp_alpha', 'Best_average_precision_5x2CV', 'S4_traintest_precision', 'S4_validation_precision', 'Final_tree_depth']\n"
     ]
    }
   ],
   "source": [
    "print(list(opt_val_results.columns))"
   ]
  },
  {
   "cell_type": "code",
   "execution_count": 87,
   "id": "41faa220",
   "metadata": {
    "ExecuteTime": {
     "end_time": "2023-03-02T12:05:17.576290Z",
     "start_time": "2023-03-02T12:05:17.561331Z"
    }
   },
   "outputs": [
    {
     "data": {
      "text/plain": [
       "array([0.875     , 0.        , 0.85714286, 0.84210526, 0.70454545,\n",
       "       0.6       , 0.79487179, 0.53333333, 0.78947368, 0.77272727,\n",
       "       0.61111111, 0.60869565, 0.59459459, 0.56521739])"
      ]
     },
     "execution_count": 87,
     "metadata": {},
     "output_type": "execute_result"
    }
   ],
   "source": [
    "opt_val_results['S4_traintest_precision'].unique()"
   ]
  },
  {
   "cell_type": "code",
   "execution_count": 88,
   "id": "16af509c",
   "metadata": {
    "ExecuteTime": {
     "end_time": "2023-03-02T12:05:17.887564Z",
     "start_time": "2023-03-02T12:05:17.881580Z"
    }
   },
   "outputs": [
    {
     "data": {
      "text/plain": [
       "array([0.        , 0.1       , 0.2       , 0.33333333, 0.07692308,\n",
       "       0.18181818, 0.21428571, 0.42857143, 0.125     , 0.25      ,\n",
       "       0.23076923, 0.375     , 0.11111111, 0.13333333])"
      ]
     },
     "execution_count": 88,
     "metadata": {},
     "output_type": "execute_result"
    }
   ],
   "source": [
    "opt_val_results['S4_validation_precision'].unique()"
   ]
  },
  {
   "cell_type": "code",
   "execution_count": 89,
   "id": "73daba77",
   "metadata": {
    "ExecuteTime": {
     "end_time": "2023-03-02T12:05:18.308435Z",
     "start_time": "2023-03-02T12:05:18.290484Z"
    }
   },
   "outputs": [
    {
     "data": {
      "text/plain": [
       "array([0.875     , 0.        , 0.85714286, 0.84210526, 0.70454545,\n",
       "       0.7       , 0.99487179, 0.86666667, 0.86639676, 0.77272727,\n",
       "       0.98947368, 0.97129187, 0.82539683, 1.22344322, 0.73611111,\n",
       "       0.85869565, 0.83946488, 0.84188034, 1.16987179, 0.70570571,\n",
       "       0.81521739, 0.74202899])"
      ]
     },
     "execution_count": 89,
     "metadata": {},
     "output_type": "execute_result"
    }
   ],
   "source": [
    "(opt_val_results['S4_traintest_precision'] + opt_val_results['S4_validation_precision']).unique()"
   ]
  },
  {
   "cell_type": "code",
   "execution_count": 90,
   "id": "5c70ff7c",
   "metadata": {
    "ExecuteTime": {
     "end_time": "2023-03-02T12:05:19.113475Z",
     "start_time": "2023-03-02T12:05:18.633963Z"
    }
   },
   "outputs": [
    {
     "data": {
      "image/png": "[encoded data removed]",
      "text/plain": [
       "<Figure size 1500x1000 with 1 Axes>"
      ]
     },
     "metadata": {},
     "output_type": "display_data"
    }
   ],
   "source": [
    "data = opt_val_results\n",
    "x = 'S4_traintest_precision'\n",
    "y = 'S4_validation_precision'\n",
    "xlim = (0.0, 1.0)\n",
    "ylim = (0.0, 1.0)\n",
    "fig_title = \"Precision values for training/test and validation samples from S4\\n\" \\\n",
    "    \"(Data from 250 runs of 500 'optuna' trials, with a random 5x2 fold CV split for each run)\"\n",
    "fig_filename = IMG_FOLDER + \"ML_80_04_AvgTrVal_Precisions_Relationship.jpg\"\n",
    "kwargs = {\n",
    "    'hue': 'Best_average_precision_5x2CV',\n",
    "    'size': 'Best_average_precision_5x2CV',\n",
    "    'sizes': (20, 700),\n",
    "    'alpha': 0.75,\n",
    "    'palette': sns.color_palette(\"flare\", as_cmap=True)\n",
    "}\n",
    "\n",
    "draw_scatter_plot(\n",
    "    data=data, x=x, y=y,\n",
    "    xlim=xlim, ylim=ylim,\n",
    "    fig_title=fig_title, fig_filename=fig_filename,\n",
    "    **kwargs\n",
    ")"
   ]
  },
  {
   "cell_type": "markdown",
   "id": "067af902",
   "metadata": {},
   "source": [
    "**OBSERVATIONS:** the most balanced point seems to be that around coordinates ($\\sim0.53$, $\\sim0.33$), that is, exactly the model that we first designed.\n",
    "\n",
    "The two points around the top-right would be better. However, the number of runs that got those values are \n",
    "\n",
    "Hence, we can assume that our model is representetive of the results obtained in the run, and we can move forward with that model."
   ]
  },
  {
   "cell_type": "code",
   "execution_count": 91,
   "id": "01531851",
   "metadata": {
    "ExecuteTime": {
     "end_time": "2023-03-02T12:05:25.399167Z",
     "start_time": "2023-03-02T12:05:25.377199Z"
    }
   },
   "outputs": [
    {
     "data": {
      "text/html": [
       "<div>\n",
       "<style scoped>\n",
       "    .dataframe tbody tr th:only-of-type {\n",
       "        vertical-align: middle;\n",
       "    }\n",
       "\n",
       "    .dataframe tbody tr th {\n",
       "        vertical-align: top;\n",
       "    }\n",
       "\n",
       "    .dataframe thead th {\n",
       "        text-align: right;\n",
       "    }\n",
       "</style>\n",
       "<table border=\"1\" class=\"dataframe\">\n",
       "  <thead>\n",
       "    <tr style=\"text-align: right;\">\n",
       "      <th></th>\n",
       "      <th>Experiment_ID</th>\n",
       "      <th>Best_max_depth</th>\n",
       "      <th>Best_min_samples_leaf</th>\n",
       "      <th>Best_ccp_alpha</th>\n",
       "      <th>Best_average_precision_5x2CV</th>\n",
       "      <th>S4_traintest_precision</th>\n",
       "      <th>S4_validation_precision</th>\n",
       "      <th>Final_tree_depth</th>\n",
       "    </tr>\n",
       "  </thead>\n",
       "  <tbody>\n",
       "    <tr>\n",
       "      <th>29</th>\n",
       "      <td>29</td>\n",
       "      <td>8</td>\n",
       "      <td>5</td>\n",
       "      <td>0.005</td>\n",
       "      <td>0.118234</td>\n",
       "      <td>0.794872</td>\n",
       "      <td>0.428571</td>\n",
       "      <td>8</td>\n",
       "    </tr>\n",
       "    <tr>\n",
       "      <th>58</th>\n",
       "      <td>58</td>\n",
       "      <td>8</td>\n",
       "      <td>5</td>\n",
       "      <td>0.005</td>\n",
       "      <td>0.111461</td>\n",
       "      <td>0.794872</td>\n",
       "      <td>0.375000</td>\n",
       "      <td>8</td>\n",
       "    </tr>\n",
       "    <tr>\n",
       "      <th>70</th>\n",
       "      <td>70</td>\n",
       "      <td>8</td>\n",
       "      <td>5</td>\n",
       "      <td>0.005</td>\n",
       "      <td>0.109065</td>\n",
       "      <td>0.794872</td>\n",
       "      <td>0.375000</td>\n",
       "      <td>8</td>\n",
       "    </tr>\n",
       "    <tr>\n",
       "      <th>88</th>\n",
       "      <td>88</td>\n",
       "      <td>8</td>\n",
       "      <td>5</td>\n",
       "      <td>0.005</td>\n",
       "      <td>0.107404</td>\n",
       "      <td>0.794872</td>\n",
       "      <td>0.428571</td>\n",
       "      <td>8</td>\n",
       "    </tr>\n",
       "    <tr>\n",
       "      <th>113</th>\n",
       "      <td>113</td>\n",
       "      <td>8</td>\n",
       "      <td>5</td>\n",
       "      <td>0.005</td>\n",
       "      <td>0.106245</td>\n",
       "      <td>0.794872</td>\n",
       "      <td>0.428571</td>\n",
       "      <td>8</td>\n",
       "    </tr>\n",
       "    <tr>\n",
       "      <th>120</th>\n",
       "      <td>120</td>\n",
       "      <td>8</td>\n",
       "      <td>5</td>\n",
       "      <td>0.005</td>\n",
       "      <td>0.086126</td>\n",
       "      <td>0.794872</td>\n",
       "      <td>0.375000</td>\n",
       "      <td>8</td>\n",
       "    </tr>\n",
       "    <tr>\n",
       "      <th>135</th>\n",
       "      <td>135</td>\n",
       "      <td>8</td>\n",
       "      <td>5</td>\n",
       "      <td>0.005</td>\n",
       "      <td>0.133466</td>\n",
       "      <td>0.794872</td>\n",
       "      <td>0.375000</td>\n",
       "      <td>8</td>\n",
       "    </tr>\n",
       "    <tr>\n",
       "      <th>216</th>\n",
       "      <td>216</td>\n",
       "      <td>8</td>\n",
       "      <td>5</td>\n",
       "      <td>0.005</td>\n",
       "      <td>0.130773</td>\n",
       "      <td>0.794872</td>\n",
       "      <td>0.428571</td>\n",
       "      <td>8</td>\n",
       "    </tr>\n",
       "    <tr>\n",
       "      <th>223</th>\n",
       "      <td>223</td>\n",
       "      <td>8</td>\n",
       "      <td>5</td>\n",
       "      <td>0.005</td>\n",
       "      <td>0.097748</td>\n",
       "      <td>0.794872</td>\n",
       "      <td>0.375000</td>\n",
       "      <td>8</td>\n",
       "    </tr>\n",
       "    <tr>\n",
       "      <th>227</th>\n",
       "      <td>227</td>\n",
       "      <td>8</td>\n",
       "      <td>5</td>\n",
       "      <td>0.005</td>\n",
       "      <td>0.109556</td>\n",
       "      <td>0.794872</td>\n",
       "      <td>0.375000</td>\n",
       "      <td>8</td>\n",
       "    </tr>\n",
       "  </tbody>\n",
       "</table>\n",
       "</div>"
      ],
      "text/plain": [
       "     Experiment_ID  Best_max_depth  Best_min_samples_leaf  Best_ccp_alpha  \\\n",
       "29              29               8                      5           0.005   \n",
       "58              58               8                      5           0.005   \n",
       "70              70               8                      5           0.005   \n",
       "88              88               8                      5           0.005   \n",
       "113            113               8                      5           0.005   \n",
       "120            120               8                      5           0.005   \n",
       "135            135               8                      5           0.005   \n",
       "216            216               8                      5           0.005   \n",
       "223            223               8                      5           0.005   \n",
       "227            227               8                      5           0.005   \n",
       "\n",
       "     Best_average_precision_5x2CV  S4_traintest_precision  \\\n",
       "29                       0.118234                0.794872   \n",
       "58                       0.111461                0.794872   \n",
       "70                       0.109065                0.794872   \n",
       "88                       0.107404                0.794872   \n",
       "113                      0.106245                0.794872   \n",
       "120                      0.086126                0.794872   \n",
       "135                      0.133466                0.794872   \n",
       "216                      0.130773                0.794872   \n",
       "223                      0.097748                0.794872   \n",
       "227                      0.109556                0.794872   \n",
       "\n",
       "     S4_validation_precision  Final_tree_depth  \n",
       "29                  0.428571                 8  \n",
       "58                  0.375000                 8  \n",
       "70                  0.375000                 8  \n",
       "88                  0.428571                 8  \n",
       "113                 0.428571                 8  \n",
       "120                 0.375000                 8  \n",
       "135                 0.375000                 8  \n",
       "216                 0.428571                 8  \n",
       "223                 0.375000                 8  \n",
       "227                 0.375000                 8  "
      ]
     },
     "execution_count": 91,
     "metadata": {},
     "output_type": "execute_result"
    }
   ],
   "source": [
    "opt_val_results[opt_val_results['S4_validation_precision'] > 0.35]"
   ]
  },
  {
   "cell_type": "markdown",
   "id": "2aca7bb3",
   "metadata": {},
   "source": [
    "### Similar models to the first one reached by `optuna`."
   ]
  },
  {
   "cell_type": "code",
   "execution_count": 92,
   "id": "ac8463df",
   "metadata": {
    "ExecuteTime": {
     "end_time": "2023-03-02T12:05:29.896865Z",
     "start_time": "2023-03-02T12:05:29.873911Z"
    }
   },
   "outputs": [
    {
     "data": {
      "text/html": [
       "<div>\n",
       "<style scoped>\n",
       "    .dataframe tbody tr th:only-of-type {\n",
       "        vertical-align: middle;\n",
       "    }\n",
       "\n",
       "    .dataframe tbody tr th {\n",
       "        vertical-align: top;\n",
       "    }\n",
       "\n",
       "    .dataframe thead th {\n",
       "        text-align: right;\n",
       "    }\n",
       "</style>\n",
       "<table border=\"1\" class=\"dataframe\">\n",
       "  <thead>\n",
       "    <tr style=\"text-align: right;\">\n",
       "      <th></th>\n",
       "      <th>Experiment_ID</th>\n",
       "      <th>Best_max_depth</th>\n",
       "      <th>Best_min_samples_leaf</th>\n",
       "      <th>Best_ccp_alpha</th>\n",
       "      <th>Best_average_precision_5x2CV</th>\n",
       "      <th>S4_traintest_precision</th>\n",
       "      <th>S4_validation_precision</th>\n",
       "      <th>Final_tree_depth</th>\n",
       "    </tr>\n",
       "  </thead>\n",
       "  <tbody>\n",
       "    <tr>\n",
       "      <th>13</th>\n",
       "      <td>13</td>\n",
       "      <td>8</td>\n",
       "      <td>10</td>\n",
       "      <td>0.005</td>\n",
       "      <td>0.124172</td>\n",
       "      <td>0.533333</td>\n",
       "      <td>0.333333</td>\n",
       "      <td>8</td>\n",
       "    </tr>\n",
       "    <tr>\n",
       "      <th>26</th>\n",
       "      <td>26</td>\n",
       "      <td>6</td>\n",
       "      <td>7</td>\n",
       "      <td>0.010</td>\n",
       "      <td>0.113002</td>\n",
       "      <td>0.533333</td>\n",
       "      <td>0.333333</td>\n",
       "      <td>4</td>\n",
       "    </tr>\n",
       "    <tr>\n",
       "      <th>30</th>\n",
       "      <td>30</td>\n",
       "      <td>7</td>\n",
       "      <td>10</td>\n",
       "      <td>0.005</td>\n",
       "      <td>0.094202</td>\n",
       "      <td>0.533333</td>\n",
       "      <td>0.333333</td>\n",
       "      <td>7</td>\n",
       "    </tr>\n",
       "    <tr>\n",
       "      <th>50</th>\n",
       "      <td>50</td>\n",
       "      <td>6</td>\n",
       "      <td>9</td>\n",
       "      <td>0.005</td>\n",
       "      <td>0.118617</td>\n",
       "      <td>0.533333</td>\n",
       "      <td>0.333333</td>\n",
       "      <td>6</td>\n",
       "    </tr>\n",
       "    <tr>\n",
       "      <th>53</th>\n",
       "      <td>53</td>\n",
       "      <td>8</td>\n",
       "      <td>5</td>\n",
       "      <td>0.010</td>\n",
       "      <td>0.101489</td>\n",
       "      <td>0.533333</td>\n",
       "      <td>0.333333</td>\n",
       "      <td>4</td>\n",
       "    </tr>\n",
       "    <tr>\n",
       "      <th>56</th>\n",
       "      <td>56</td>\n",
       "      <td>4</td>\n",
       "      <td>5</td>\n",
       "      <td>0.010</td>\n",
       "      <td>0.175099</td>\n",
       "      <td>0.533333</td>\n",
       "      <td>0.333333</td>\n",
       "      <td>4</td>\n",
       "    </tr>\n",
       "    <tr>\n",
       "      <th>68</th>\n",
       "      <td>68</td>\n",
       "      <td>8</td>\n",
       "      <td>10</td>\n",
       "      <td>0.005</td>\n",
       "      <td>0.117752</td>\n",
       "      <td>0.533333</td>\n",
       "      <td>0.333333</td>\n",
       "      <td>8</td>\n",
       "    </tr>\n",
       "    <tr>\n",
       "      <th>73</th>\n",
       "      <td>73</td>\n",
       "      <td>8</td>\n",
       "      <td>9</td>\n",
       "      <td>0.010</td>\n",
       "      <td>0.127375</td>\n",
       "      <td>0.533333</td>\n",
       "      <td>0.333333</td>\n",
       "      <td>4</td>\n",
       "    </tr>\n",
       "    <tr>\n",
       "      <th>75</th>\n",
       "      <td>75</td>\n",
       "      <td>8</td>\n",
       "      <td>10</td>\n",
       "      <td>0.005</td>\n",
       "      <td>0.123898</td>\n",
       "      <td>0.533333</td>\n",
       "      <td>0.333333</td>\n",
       "      <td>8</td>\n",
       "    </tr>\n",
       "    <tr>\n",
       "      <th>77</th>\n",
       "      <td>77</td>\n",
       "      <td>8</td>\n",
       "      <td>10</td>\n",
       "      <td>0.005</td>\n",
       "      <td>0.125435</td>\n",
       "      <td>0.533333</td>\n",
       "      <td>0.333333</td>\n",
       "      <td>8</td>\n",
       "    </tr>\n",
       "    <tr>\n",
       "      <th>91</th>\n",
       "      <td>91</td>\n",
       "      <td>8</td>\n",
       "      <td>10</td>\n",
       "      <td>0.005</td>\n",
       "      <td>0.094382</td>\n",
       "      <td>0.533333</td>\n",
       "      <td>0.333333</td>\n",
       "      <td>8</td>\n",
       "    </tr>\n",
       "    <tr>\n",
       "      <th>105</th>\n",
       "      <td>105</td>\n",
       "      <td>8</td>\n",
       "      <td>10</td>\n",
       "      <td>0.005</td>\n",
       "      <td>0.105785</td>\n",
       "      <td>0.533333</td>\n",
       "      <td>0.333333</td>\n",
       "      <td>8</td>\n",
       "    </tr>\n",
       "    <tr>\n",
       "      <th>106</th>\n",
       "      <td>106</td>\n",
       "      <td>4</td>\n",
       "      <td>8</td>\n",
       "      <td>0.005</td>\n",
       "      <td>0.116099</td>\n",
       "      <td>0.533333</td>\n",
       "      <td>0.333333</td>\n",
       "      <td>4</td>\n",
       "    </tr>\n",
       "    <tr>\n",
       "      <th>115</th>\n",
       "      <td>115</td>\n",
       "      <td>6</td>\n",
       "      <td>10</td>\n",
       "      <td>0.005</td>\n",
       "      <td>0.073695</td>\n",
       "      <td>0.533333</td>\n",
       "      <td>0.333333</td>\n",
       "      <td>6</td>\n",
       "    </tr>\n",
       "    <tr>\n",
       "      <th>123</th>\n",
       "      <td>123</td>\n",
       "      <td>8</td>\n",
       "      <td>10</td>\n",
       "      <td>0.005</td>\n",
       "      <td>0.100934</td>\n",
       "      <td>0.533333</td>\n",
       "      <td>0.333333</td>\n",
       "      <td>8</td>\n",
       "    </tr>\n",
       "    <tr>\n",
       "      <th>125</th>\n",
       "      <td>125</td>\n",
       "      <td>7</td>\n",
       "      <td>7</td>\n",
       "      <td>0.010</td>\n",
       "      <td>0.128889</td>\n",
       "      <td>0.533333</td>\n",
       "      <td>0.333333</td>\n",
       "      <td>4</td>\n",
       "    </tr>\n",
       "    <tr>\n",
       "      <th>144</th>\n",
       "      <td>144</td>\n",
       "      <td>8</td>\n",
       "      <td>10</td>\n",
       "      <td>0.005</td>\n",
       "      <td>0.151745</td>\n",
       "      <td>0.533333</td>\n",
       "      <td>0.333333</td>\n",
       "      <td>8</td>\n",
       "    </tr>\n",
       "    <tr>\n",
       "      <th>151</th>\n",
       "      <td>151</td>\n",
       "      <td>8</td>\n",
       "      <td>10</td>\n",
       "      <td>0.005</td>\n",
       "      <td>0.103423</td>\n",
       "      <td>0.533333</td>\n",
       "      <td>0.333333</td>\n",
       "      <td>8</td>\n",
       "    </tr>\n",
       "    <tr>\n",
       "      <th>157</th>\n",
       "      <td>157</td>\n",
       "      <td>8</td>\n",
       "      <td>10</td>\n",
       "      <td>0.005</td>\n",
       "      <td>0.114382</td>\n",
       "      <td>0.533333</td>\n",
       "      <td>0.333333</td>\n",
       "      <td>8</td>\n",
       "    </tr>\n",
       "    <tr>\n",
       "      <th>185</th>\n",
       "      <td>185</td>\n",
       "      <td>6</td>\n",
       "      <td>10</td>\n",
       "      <td>0.005</td>\n",
       "      <td>0.098801</td>\n",
       "      <td>0.533333</td>\n",
       "      <td>0.333333</td>\n",
       "      <td>6</td>\n",
       "    </tr>\n",
       "    <tr>\n",
       "      <th>186</th>\n",
       "      <td>186</td>\n",
       "      <td>7</td>\n",
       "      <td>6</td>\n",
       "      <td>0.010</td>\n",
       "      <td>0.114628</td>\n",
       "      <td>0.533333</td>\n",
       "      <td>0.333333</td>\n",
       "      <td>4</td>\n",
       "    </tr>\n",
       "    <tr>\n",
       "      <th>201</th>\n",
       "      <td>201</td>\n",
       "      <td>8</td>\n",
       "      <td>5</td>\n",
       "      <td>0.010</td>\n",
       "      <td>0.085043</td>\n",
       "      <td>0.533333</td>\n",
       "      <td>0.333333</td>\n",
       "      <td>4</td>\n",
       "    </tr>\n",
       "    <tr>\n",
       "      <th>214</th>\n",
       "      <td>214</td>\n",
       "      <td>8</td>\n",
       "      <td>9</td>\n",
       "      <td>0.010</td>\n",
       "      <td>0.139596</td>\n",
       "      <td>0.533333</td>\n",
       "      <td>0.333333</td>\n",
       "      <td>4</td>\n",
       "    </tr>\n",
       "    <tr>\n",
       "      <th>215</th>\n",
       "      <td>215</td>\n",
       "      <td>6</td>\n",
       "      <td>9</td>\n",
       "      <td>0.005</td>\n",
       "      <td>0.094457</td>\n",
       "      <td>0.533333</td>\n",
       "      <td>0.333333</td>\n",
       "      <td>6</td>\n",
       "    </tr>\n",
       "    <tr>\n",
       "      <th>231</th>\n",
       "      <td>231</td>\n",
       "      <td>8</td>\n",
       "      <td>10</td>\n",
       "      <td>0.005</td>\n",
       "      <td>0.071461</td>\n",
       "      <td>0.533333</td>\n",
       "      <td>0.333333</td>\n",
       "      <td>8</td>\n",
       "    </tr>\n",
       "    <tr>\n",
       "      <th>234</th>\n",
       "      <td>234</td>\n",
       "      <td>5</td>\n",
       "      <td>6</td>\n",
       "      <td>0.010</td>\n",
       "      <td>0.116757</td>\n",
       "      <td>0.533333</td>\n",
       "      <td>0.333333</td>\n",
       "      <td>4</td>\n",
       "    </tr>\n",
       "    <tr>\n",
       "      <th>237</th>\n",
       "      <td>237</td>\n",
       "      <td>6</td>\n",
       "      <td>7</td>\n",
       "      <td>0.010</td>\n",
       "      <td>0.113623</td>\n",
       "      <td>0.533333</td>\n",
       "      <td>0.333333</td>\n",
       "      <td>4</td>\n",
       "    </tr>\n",
       "    <tr>\n",
       "      <th>242</th>\n",
       "      <td>242</td>\n",
       "      <td>4</td>\n",
       "      <td>8</td>\n",
       "      <td>0.005</td>\n",
       "      <td>0.022496</td>\n",
       "      <td>0.533333</td>\n",
       "      <td>0.333333</td>\n",
       "      <td>4</td>\n",
       "    </tr>\n",
       "    <tr>\n",
       "      <th>248</th>\n",
       "      <td>248</td>\n",
       "      <td>8</td>\n",
       "      <td>7</td>\n",
       "      <td>0.010</td>\n",
       "      <td>0.115760</td>\n",
       "      <td>0.533333</td>\n",
       "      <td>0.333333</td>\n",
       "      <td>4</td>\n",
       "    </tr>\n",
       "  </tbody>\n",
       "</table>\n",
       "</div>"
      ],
      "text/plain": [
       "     Experiment_ID  Best_max_depth  Best_min_samples_leaf  Best_ccp_alpha  \\\n",
       "13              13               8                     10           0.005   \n",
       "26              26               6                      7           0.010   \n",
       "30              30               7                     10           0.005   \n",
       "50              50               6                      9           0.005   \n",
       "53              53               8                      5           0.010   \n",
       "56              56               4                      5           0.010   \n",
       "68              68               8                     10           0.005   \n",
       "73              73               8                      9           0.010   \n",
       "75              75               8                     10           0.005   \n",
       "77              77               8                     10           0.005   \n",
       "91              91               8                     10           0.005   \n",
       "105            105               8                     10           0.005   \n",
       "106            106               4                      8           0.005   \n",
       "115            115               6                     10           0.005   \n",
       "123            123               8                     10           0.005   \n",
       "125            125               7                      7           0.010   \n",
       "144            144               8                     10           0.005   \n",
       "151            151               8                     10           0.005   \n",
       "157            157               8                     10           0.005   \n",
       "185            185               6                     10           0.005   \n",
       "186            186               7                      6           0.010   \n",
       "201            201               8                      5           0.010   \n",
       "214            214               8                      9           0.010   \n",
       "215            215               6                      9           0.005   \n",
       "231            231               8                     10           0.005   \n",
       "234            234               5                      6           0.010   \n",
       "237            237               6                      7           0.010   \n",
       "242            242               4                      8           0.005   \n",
       "248            248               8                      7           0.010   \n",
       "\n",
       "     Best_average_precision_5x2CV  S4_traintest_precision  \\\n",
       "13                       0.124172                0.533333   \n",
       "26                       0.113002                0.533333   \n",
       "30                       0.094202                0.533333   \n",
       "50                       0.118617                0.533333   \n",
       "53                       0.101489                0.533333   \n",
       "56                       0.175099                0.533333   \n",
       "68                       0.117752                0.533333   \n",
       "73                       0.127375                0.533333   \n",
       "75                       0.123898                0.533333   \n",
       "77                       0.125435                0.533333   \n",
       "91                       0.094382                0.533333   \n",
       "105                      0.105785                0.533333   \n",
       "106                      0.116099                0.533333   \n",
       "115                      0.073695                0.533333   \n",
       "123                      0.100934                0.533333   \n",
       "125                      0.128889                0.533333   \n",
       "144                      0.151745                0.533333   \n",
       "151                      0.103423                0.533333   \n",
       "157                      0.114382                0.533333   \n",
       "185                      0.098801                0.533333   \n",
       "186                      0.114628                0.533333   \n",
       "201                      0.085043                0.533333   \n",
       "214                      0.139596                0.533333   \n",
       "215                      0.094457                0.533333   \n",
       "231                      0.071461                0.533333   \n",
       "234                      0.116757                0.533333   \n",
       "237                      0.113623                0.533333   \n",
       "242                      0.022496                0.533333   \n",
       "248                      0.115760                0.533333   \n",
       "\n",
       "     S4_validation_precision  Final_tree_depth  \n",
       "13                  0.333333                 8  \n",
       "26                  0.333333                 4  \n",
       "30                  0.333333                 7  \n",
       "50                  0.333333                 6  \n",
       "53                  0.333333                 4  \n",
       "56                  0.333333                 4  \n",
       "68                  0.333333                 8  \n",
       "73                  0.333333                 4  \n",
       "75                  0.333333                 8  \n",
       "77                  0.333333                 8  \n",
       "91                  0.333333                 8  \n",
       "105                 0.333333                 8  \n",
       "106                 0.333333                 4  \n",
       "115                 0.333333                 6  \n",
       "123                 0.333333                 8  \n",
       "125                 0.333333                 4  \n",
       "144                 0.333333                 8  \n",
       "151                 0.333333                 8  \n",
       "157                 0.333333                 8  \n",
       "185                 0.333333                 6  \n",
       "186                 0.333333                 4  \n",
       "201                 0.333333                 4  \n",
       "214                 0.333333                 4  \n",
       "215                 0.333333                 6  \n",
       "231                 0.333333                 8  \n",
       "234                 0.333333                 4  \n",
       "237                 0.333333                 4  \n",
       "242                 0.333333                 4  \n",
       "248                 0.333333                 4  "
      ]
     },
     "execution_count": 92,
     "metadata": {},
     "output_type": "execute_result"
    }
   ],
   "source": [
    "mask = (np.isclose(opt_val_results['S4_validation_precision'], 0.33, atol=0.01)) & \\\n",
    "    (np.isclose(opt_val_results['S4_traintest_precision'], 0.53, atol=0.01))\n",
    "similar_models = opt_val_results[mask].copy()\n",
    "similar_models"
   ]
  },
  {
   "cell_type": "code",
   "execution_count": 93,
   "id": "031d1ac8",
   "metadata": {
    "ExecuteTime": {
     "end_time": "2023-03-02T12:05:32.732886Z",
     "start_time": "2023-03-02T12:05:32.713937Z"
    }
   },
   "outputs": [
    {
     "data": {
      "text/plain": [
       "29"
      ]
     },
     "execution_count": 93,
     "metadata": {},
     "output_type": "execute_result"
    }
   ],
   "source": [
    "len(similar_models)"
   ]
  },
  {
   "cell_type": "code",
   "execution_count": 94,
   "id": "1c8003ae",
   "metadata": {
    "ExecuteTime": {
     "end_time": "2023-03-02T12:05:33.650938Z",
     "start_time": "2023-03-02T12:05:33.617481Z"
    }
   },
   "outputs": [
    {
     "data": {
      "text/html": [
       "<div>\n",
       "<style scoped>\n",
       "    .dataframe tbody tr th:only-of-type {\n",
       "        vertical-align: middle;\n",
       "    }\n",
       "\n",
       "    .dataframe tbody tr th {\n",
       "        vertical-align: top;\n",
       "    }\n",
       "\n",
       "    .dataframe thead th {\n",
       "        text-align: right;\n",
       "    }\n",
       "</style>\n",
       "<table border=\"1\" class=\"dataframe\">\n",
       "  <thead>\n",
       "    <tr style=\"text-align: right;\">\n",
       "      <th></th>\n",
       "      <th>Best_max_depth</th>\n",
       "      <th>Best_min_samples_leaf</th>\n",
       "      <th>Best_ccp_alpha</th>\n",
       "      <th>Best_average_precision_5x2CV</th>\n",
       "      <th>S4_traintest_precision</th>\n",
       "      <th>S4_validation_precision</th>\n",
       "      <th>Final_tree_depth</th>\n",
       "    </tr>\n",
       "  </thead>\n",
       "  <tbody>\n",
       "    <tr>\n",
       "      <th>count</th>\n",
       "      <td>29.000000</td>\n",
       "      <td>29.000000</td>\n",
       "      <td>29.000000</td>\n",
       "      <td>29.000000</td>\n",
       "      <td>29.000000</td>\n",
       "      <td>29.000000</td>\n",
       "      <td>29.000000</td>\n",
       "    </tr>\n",
       "    <tr>\n",
       "      <th>mean</th>\n",
       "      <td>6.965517</td>\n",
       "      <td>8.517241</td>\n",
       "      <td>0.006897</td>\n",
       "      <td>0.109759</td>\n",
       "      <td>0.533333</td>\n",
       "      <td>0.333333</td>\n",
       "      <td>5.896552</td>\n",
       "    </tr>\n",
       "    <tr>\n",
       "      <th>std</th>\n",
       "      <td>1.375364</td>\n",
       "      <td>1.805165</td>\n",
       "      <td>0.002469</td>\n",
       "      <td>0.027136</td>\n",
       "      <td>0.000000</td>\n",
       "      <td>0.000000</td>\n",
       "      <td>1.858279</td>\n",
       "    </tr>\n",
       "    <tr>\n",
       "      <th>min</th>\n",
       "      <td>4.000000</td>\n",
       "      <td>5.000000</td>\n",
       "      <td>0.005000</td>\n",
       "      <td>0.022496</td>\n",
       "      <td>0.533333</td>\n",
       "      <td>0.333333</td>\n",
       "      <td>4.000000</td>\n",
       "    </tr>\n",
       "    <tr>\n",
       "      <th>25%</th>\n",
       "      <td>6.000000</td>\n",
       "      <td>7.000000</td>\n",
       "      <td>0.005000</td>\n",
       "      <td>0.098801</td>\n",
       "      <td>0.533333</td>\n",
       "      <td>0.333333</td>\n",
       "      <td>4.000000</td>\n",
       "    </tr>\n",
       "    <tr>\n",
       "      <th>50%</th>\n",
       "      <td>8.000000</td>\n",
       "      <td>9.000000</td>\n",
       "      <td>0.005000</td>\n",
       "      <td>0.114382</td>\n",
       "      <td>0.533333</td>\n",
       "      <td>0.333333</td>\n",
       "      <td>6.000000</td>\n",
       "    </tr>\n",
       "    <tr>\n",
       "      <th>75%</th>\n",
       "      <td>8.000000</td>\n",
       "      <td>10.000000</td>\n",
       "      <td>0.010000</td>\n",
       "      <td>0.123898</td>\n",
       "      <td>0.533333</td>\n",
       "      <td>0.333333</td>\n",
       "      <td>8.000000</td>\n",
       "    </tr>\n",
       "    <tr>\n",
       "      <th>max</th>\n",
       "      <td>8.000000</td>\n",
       "      <td>10.000000</td>\n",
       "      <td>0.010000</td>\n",
       "      <td>0.175099</td>\n",
       "      <td>0.533333</td>\n",
       "      <td>0.333333</td>\n",
       "      <td>8.000000</td>\n",
       "    </tr>\n",
       "  </tbody>\n",
       "</table>\n",
       "</div>"
      ],
      "text/plain": [
       "       Best_max_depth  Best_min_samples_leaf  Best_ccp_alpha  \\\n",
       "count       29.000000              29.000000       29.000000   \n",
       "mean         6.965517               8.517241        0.006897   \n",
       "std          1.375364               1.805165        0.002469   \n",
       "min          4.000000               5.000000        0.005000   \n",
       "25%          6.000000               7.000000        0.005000   \n",
       "50%          8.000000               9.000000        0.005000   \n",
       "75%          8.000000              10.000000        0.010000   \n",
       "max          8.000000              10.000000        0.010000   \n",
       "\n",
       "       Best_average_precision_5x2CV  S4_traintest_precision  \\\n",
       "count                     29.000000               29.000000   \n",
       "mean                       0.109759                0.533333   \n",
       "std                        0.027136                0.000000   \n",
       "min                        0.022496                0.533333   \n",
       "25%                        0.098801                0.533333   \n",
       "50%                        0.114382                0.533333   \n",
       "75%                        0.123898                0.533333   \n",
       "max                        0.175099                0.533333   \n",
       "\n",
       "       S4_validation_precision  Final_tree_depth  \n",
       "count                29.000000         29.000000  \n",
       "mean                  0.333333          5.896552  \n",
       "std                   0.000000          1.858279  \n",
       "min                   0.333333          4.000000  \n",
       "25%                   0.333333          4.000000  \n",
       "50%                   0.333333          6.000000  \n",
       "75%                   0.333333          8.000000  \n",
       "max                   0.333333          8.000000  "
      ]
     },
     "execution_count": 94,
     "metadata": {},
     "output_type": "execute_result"
    }
   ],
   "source": [
    "similar_models.drop(columns=['Experiment_ID']).describe()"
   ]
  },
  {
   "cell_type": "code",
   "execution_count": 95,
   "id": "1101ea80",
   "metadata": {
    "ExecuteTime": {
     "end_time": "2023-03-02T12:05:35.793851Z",
     "start_time": "2023-03-02T12:05:35.778891Z"
    }
   },
   "outputs": [
    {
     "name": "stdout",
     "output_type": "stream",
     "text": [
      "['Experiment_ID', 'Best_max_depth', 'Best_min_samples_leaf', 'Best_ccp_alpha', 'Best_average_precision_5x2CV', 'S4_traintest_precision', 'S4_validation_precision', 'Final_tree_depth']\n"
     ]
    }
   ],
   "source": [
    "print(list(similar_models.columns))"
   ]
  },
  {
   "cell_type": "code",
   "execution_count": 105,
   "id": "444b9fb4",
   "metadata": {
    "ExecuteTime": {
     "end_time": "2023-03-02T12:28:22.620383Z",
     "start_time": "2023-03-02T12:28:22.602431Z"
    }
   },
   "outputs": [
    {
     "data": {
      "text/html": [
       "<div>\n",
       "<style scoped>\n",
       "    .dataframe tbody tr th:only-of-type {\n",
       "        vertical-align: middle;\n",
       "    }\n",
       "\n",
       "    .dataframe tbody tr th {\n",
       "        vertical-align: top;\n",
       "    }\n",
       "\n",
       "    .dataframe thead th {\n",
       "        text-align: right;\n",
       "    }\n",
       "</style>\n",
       "<table border=\"1\" class=\"dataframe\">\n",
       "  <thead>\n",
       "    <tr style=\"text-align: right;\">\n",
       "      <th></th>\n",
       "      <th></th>\n",
       "      <th></th>\n",
       "      <th></th>\n",
       "      <th>Count</th>\n",
       "    </tr>\n",
       "    <tr>\n",
       "      <th>Best_max_depth</th>\n",
       "      <th>Best_min_samples_leaf</th>\n",
       "      <th>Best_ccp_alpha</th>\n",
       "      <th>Final_tree_depth</th>\n",
       "      <th></th>\n",
       "    </tr>\n",
       "  </thead>\n",
       "  <tbody>\n",
       "    <tr>\n",
       "      <th>8</th>\n",
       "      <th>10</th>\n",
       "      <th>0.005</th>\n",
       "      <th>8</th>\n",
       "      <td>11</td>\n",
       "    </tr>\n",
       "    <tr>\n",
       "      <th>4</th>\n",
       "      <th>8</th>\n",
       "      <th>0.005</th>\n",
       "      <th>4</th>\n",
       "      <td>2</td>\n",
       "    </tr>\n",
       "    <tr>\n",
       "      <th rowspan=\"3\" valign=\"top\">6</th>\n",
       "      <th>7</th>\n",
       "      <th>0.010</th>\n",
       "      <th>4</th>\n",
       "      <td>2</td>\n",
       "    </tr>\n",
       "    <tr>\n",
       "      <th>9</th>\n",
       "      <th>0.005</th>\n",
       "      <th>6</th>\n",
       "      <td>2</td>\n",
       "    </tr>\n",
       "    <tr>\n",
       "      <th>10</th>\n",
       "      <th>0.005</th>\n",
       "      <th>6</th>\n",
       "      <td>2</td>\n",
       "    </tr>\n",
       "    <tr>\n",
       "      <th rowspan=\"2\" valign=\"top\">8</th>\n",
       "      <th>5</th>\n",
       "      <th>0.010</th>\n",
       "      <th>4</th>\n",
       "      <td>2</td>\n",
       "    </tr>\n",
       "    <tr>\n",
       "      <th>9</th>\n",
       "      <th>0.010</th>\n",
       "      <th>4</th>\n",
       "      <td>2</td>\n",
       "    </tr>\n",
       "    <tr>\n",
       "      <th>4</th>\n",
       "      <th>5</th>\n",
       "      <th>0.010</th>\n",
       "      <th>4</th>\n",
       "      <td>1</td>\n",
       "    </tr>\n",
       "    <tr>\n",
       "      <th>5</th>\n",
       "      <th>6</th>\n",
       "      <th>0.010</th>\n",
       "      <th>4</th>\n",
       "      <td>1</td>\n",
       "    </tr>\n",
       "    <tr>\n",
       "      <th rowspan=\"3\" valign=\"top\">7</th>\n",
       "      <th>6</th>\n",
       "      <th>0.010</th>\n",
       "      <th>4</th>\n",
       "      <td>1</td>\n",
       "    </tr>\n",
       "    <tr>\n",
       "      <th>7</th>\n",
       "      <th>0.010</th>\n",
       "      <th>4</th>\n",
       "      <td>1</td>\n",
       "    </tr>\n",
       "    <tr>\n",
       "      <th>10</th>\n",
       "      <th>0.005</th>\n",
       "      <th>7</th>\n",
       "      <td>1</td>\n",
       "    </tr>\n",
       "    <tr>\n",
       "      <th>8</th>\n",
       "      <th>7</th>\n",
       "      <th>0.010</th>\n",
       "      <th>4</th>\n",
       "      <td>1</td>\n",
       "    </tr>\n",
       "  </tbody>\n",
       "</table>\n",
       "</div>"
      ],
      "text/plain": [
       "                                                                      Count\n",
       "Best_max_depth Best_min_samples_leaf Best_ccp_alpha Final_tree_depth       \n",
       "8              10                    0.005          8                    11\n",
       "4              8                     0.005          4                     2\n",
       "6              7                     0.010          4                     2\n",
       "               9                     0.005          6                     2\n",
       "               10                    0.005          6                     2\n",
       "8              5                     0.010          4                     2\n",
       "               9                     0.010          4                     2\n",
       "4              5                     0.010          4                     1\n",
       "5              6                     0.010          4                     1\n",
       "7              6                     0.010          4                     1\n",
       "               7                     0.010          4                     1\n",
       "               10                    0.005          7                     1\n",
       "8              7                     0.010          4                     1"
      ]
     },
     "execution_count": 105,
     "metadata": {},
     "output_type": "execute_result"
    }
   ],
   "source": [
    "similar_models_summary = similar_models[['Experiment_ID', 'Best_max_depth', 'Best_min_samples_leaf', 'Best_ccp_alpha', 'Final_tree_depth']] \\\n",
    "    .groupby(by=['Best_max_depth', 'Best_min_samples_leaf', 'Best_ccp_alpha', 'Final_tree_depth']).count() \\\n",
    "    .sort_values(by='Experiment_ID', ascending=False).rename(columns={'Experiment_ID': 'Count'})\n",
    "similar_models_summary\n"
   ]
  },
  {
   "cell_type": "markdown",
   "id": "724e2223",
   "metadata": {},
   "source": [
    "#### Print and save `LaTeX` tables"
   ]
  },
  {
   "cell_type": "code",
   "execution_count": 122,
   "id": "8637d133",
   "metadata": {
    "ExecuteTime": {
     "end_time": "2023-03-02T16:27:51.349100Z",
     "start_time": "2023-03-02T16:27:51.326181Z"
    }
   },
   "outputs": [
    {
     "name": "stdout",
     "output_type": "stream",
     "text": [
      "\\begin{table}\n",
      "\\centering\n",
      "\\caption[Models with 0.53/0.33 precisions]{Models with 0.53/0.33 precisions}\n",
      "\\begin{tabular}{llllr}\n",
      "\\toprule\n",
      "  &    &       &   &  Count \\\\\n",
      "Best\\_max\\_depth & Best\\_min\\_samples\\_leaf & Best\\_ccp\\_alpha & Final\\_tree\\_depth &        \\\\\n",
      "\\midrule\n",
      "8 & 10 & 0.005 & 8 &     11 \\\\\n",
      "4 & 8  & 0.005 & 4 &      2 \\\\\n",
      "6 & 7  & 0.010 & 4 &      2 \\\\\n",
      "  & 9  & 0.005 & 6 &      2 \\\\\n",
      "  & 10 & 0.005 & 6 &      2 \\\\\n",
      "8 & 5  & 0.010 & 4 &      2 \\\\\n",
      "  & 9  & 0.010 & 4 &      2 \\\\\n",
      "4 & 5  & 0.010 & 4 &      1 \\\\\n",
      "5 & 6  & 0.010 & 4 &      1 \\\\\n",
      "7 & 6  & 0.010 & 4 &      1 \\\\\n",
      "  & 7  & 0.010 & 4 &      1 \\\\\n",
      "  & 10 & 0.005 & 7 &      1 \\\\\n",
      "8 & 7  & 0.010 & 4 &      1 \\\\\n",
      "\\bottomrule\n",
      "\\end{tabular}\n",
      "\\end{table}\n",
      "\n"
     ]
    },
    {
     "name": "stderr",
     "output_type": "stream",
     "text": [
      "C:\\Users\\ciroe\\AppData\\Local\\Temp\\ipykernel_23604\\2122417155.py:2: FutureWarning: In future versions `DataFrame.to_latex` is expected to utilise the base implementation of `Styler.to_latex` for formatting and rendering. The arguments signature may therefore change. It is recommended instead to use `DataFrame.style.to_latex` which also contains additional functionality.\n",
      "  print(similar_models_summary.to_latex(\n"
     ]
    }
   ],
   "source": [
    "# Print to screen:\n",
    "print(similar_models_summary.to_latex(\n",
    "    index=True, longtable=False,\n",
    "    caption=(\n",
    "        \"Models with 0.53/0.33 precisions\",\"Models with 0.53/0.33 precisions\"\n",
    "    )\n",
    "))\n"
   ]
  },
  {
   "cell_type": "code",
   "execution_count": 123,
   "id": "aea90500",
   "metadata": {
    "ExecuteTime": {
     "end_time": "2023-03-02T16:27:52.201394Z",
     "start_time": "2023-03-02T16:27:52.174466Z"
    }
   },
   "outputs": [
    {
     "name": "stderr",
     "output_type": "stream",
     "text": [
      "C:\\Users\\ciroe\\AppData\\Local\\Temp\\ipykernel_23604\\2007531157.py:7: FutureWarning: In future versions `DataFrame.to_latex` is expected to utilise the base implementation of `Styler.to_latex` for formatting and rendering. The arguments signature may therefore change. It is recommended instead to use `DataFrame.style.to_latex` which also contains additional functionality.\n",
      "  print(similar_models_summary.to_latex(\n"
     ]
    }
   ],
   "source": [
    "# Save to file:\n",
    "# Write to file:\n",
    "# Backup the standard output:\n",
    "original_stdout = sys.stdout\n",
    "with open(LATEX_SIMILAR_MODELS_COUNT_OUT, 'w') as f:\n",
    "    sys.stdout = f # Change the standard output to the file we created.\n",
    "    print(similar_models_summary.to_latex(\n",
    "        index=True, longtable=False,\n",
    "        caption=(\n",
    "            \"Models with 0.53/0.33 precisions\",\"Models with 0.53/0.33 precisions\"\n",
    "        )\n",
    "    ))\n",
    "# Restore the standard output to its original value\n",
    "sys.stdout = original_stdout"
   ]
  },
  {
   "cell_type": "code",
   "execution_count": 124,
   "id": "5ef9b1c2",
   "metadata": {
    "ExecuteTime": {
     "end_time": "2023-03-02T16:27:53.080700Z",
     "start_time": "2023-03-02T16:27:53.062721Z"
    }
   },
   "outputs": [
    {
     "data": {
      "text/html": [
       "<div>\n",
       "<style scoped>\n",
       "    .dataframe tbody tr th:only-of-type {\n",
       "        vertical-align: middle;\n",
       "    }\n",
       "\n",
       "    .dataframe tbody tr th {\n",
       "        vertical-align: top;\n",
       "    }\n",
       "\n",
       "    .dataframe thead th {\n",
       "        text-align: right;\n",
       "    }\n",
       "</style>\n",
       "<table border=\"1\" class=\"dataframe\">\n",
       "  <thead>\n",
       "    <tr style=\"text-align: right;\">\n",
       "      <th></th>\n",
       "      <th>Best_max_depth</th>\n",
       "      <th>Best_min_samples_leaf</th>\n",
       "      <th>Best_ccp_alpha</th>\n",
       "      <th>Final_tree_depth</th>\n",
       "      <th>Count</th>\n",
       "    </tr>\n",
       "  </thead>\n",
       "  <tbody>\n",
       "    <tr>\n",
       "      <th>0</th>\n",
       "      <td>8</td>\n",
       "      <td>10</td>\n",
       "      <td>0.005</td>\n",
       "      <td>8</td>\n",
       "      <td>11</td>\n",
       "    </tr>\n",
       "    <tr>\n",
       "      <th>1</th>\n",
       "      <td>4</td>\n",
       "      <td>8</td>\n",
       "      <td>0.005</td>\n",
       "      <td>4</td>\n",
       "      <td>2</td>\n",
       "    </tr>\n",
       "    <tr>\n",
       "      <th>2</th>\n",
       "      <td>6</td>\n",
       "      <td>7</td>\n",
       "      <td>0.010</td>\n",
       "      <td>4</td>\n",
       "      <td>2</td>\n",
       "    </tr>\n",
       "    <tr>\n",
       "      <th>3</th>\n",
       "      <td>6</td>\n",
       "      <td>9</td>\n",
       "      <td>0.005</td>\n",
       "      <td>6</td>\n",
       "      <td>2</td>\n",
       "    </tr>\n",
       "    <tr>\n",
       "      <th>4</th>\n",
       "      <td>6</td>\n",
       "      <td>10</td>\n",
       "      <td>0.005</td>\n",
       "      <td>6</td>\n",
       "      <td>2</td>\n",
       "    </tr>\n",
       "    <tr>\n",
       "      <th>5</th>\n",
       "      <td>8</td>\n",
       "      <td>5</td>\n",
       "      <td>0.010</td>\n",
       "      <td>4</td>\n",
       "      <td>2</td>\n",
       "    </tr>\n",
       "    <tr>\n",
       "      <th>6</th>\n",
       "      <td>8</td>\n",
       "      <td>9</td>\n",
       "      <td>0.010</td>\n",
       "      <td>4</td>\n",
       "      <td>2</td>\n",
       "    </tr>\n",
       "    <tr>\n",
       "      <th>7</th>\n",
       "      <td>4</td>\n",
       "      <td>5</td>\n",
       "      <td>0.010</td>\n",
       "      <td>4</td>\n",
       "      <td>1</td>\n",
       "    </tr>\n",
       "    <tr>\n",
       "      <th>8</th>\n",
       "      <td>5</td>\n",
       "      <td>6</td>\n",
       "      <td>0.010</td>\n",
       "      <td>4</td>\n",
       "      <td>1</td>\n",
       "    </tr>\n",
       "    <tr>\n",
       "      <th>9</th>\n",
       "      <td>7</td>\n",
       "      <td>6</td>\n",
       "      <td>0.010</td>\n",
       "      <td>4</td>\n",
       "      <td>1</td>\n",
       "    </tr>\n",
       "    <tr>\n",
       "      <th>10</th>\n",
       "      <td>7</td>\n",
       "      <td>7</td>\n",
       "      <td>0.010</td>\n",
       "      <td>4</td>\n",
       "      <td>1</td>\n",
       "    </tr>\n",
       "    <tr>\n",
       "      <th>11</th>\n",
       "      <td>7</td>\n",
       "      <td>10</td>\n",
       "      <td>0.005</td>\n",
       "      <td>7</td>\n",
       "      <td>1</td>\n",
       "    </tr>\n",
       "    <tr>\n",
       "      <th>12</th>\n",
       "      <td>8</td>\n",
       "      <td>7</td>\n",
       "      <td>0.010</td>\n",
       "      <td>4</td>\n",
       "      <td>1</td>\n",
       "    </tr>\n",
       "  </tbody>\n",
       "</table>\n",
       "</div>"
      ],
      "text/plain": [
       "    Best_max_depth  Best_min_samples_leaf  Best_ccp_alpha  Final_tree_depth  \\\n",
       "0                8                     10           0.005                 8   \n",
       "1                4                      8           0.005                 4   \n",
       "2                6                      7           0.010                 4   \n",
       "3                6                      9           0.005                 6   \n",
       "4                6                     10           0.005                 6   \n",
       "5                8                      5           0.010                 4   \n",
       "6                8                      9           0.010                 4   \n",
       "7                4                      5           0.010                 4   \n",
       "8                5                      6           0.010                 4   \n",
       "9                7                      6           0.010                 4   \n",
       "10               7                      7           0.010                 4   \n",
       "11               7                     10           0.005                 7   \n",
       "12               8                      7           0.010                 4   \n",
       "\n",
       "    Count  \n",
       "0      11  \n",
       "1       2  \n",
       "2       2  \n",
       "3       2  \n",
       "4       2  \n",
       "5       2  \n",
       "6       2  \n",
       "7       1  \n",
       "8       1  \n",
       "9       1  \n",
       "10      1  \n",
       "11      1  \n",
       "12      1  "
      ]
     },
     "execution_count": 124,
     "metadata": {},
     "output_type": "execute_result"
    }
   ],
   "source": [
    "df_similar_models_summary = similar_models_summary.reset_index()\n",
    "df_similar_models_summary"
   ]
  },
  {
   "cell_type": "code",
   "execution_count": 125,
   "id": "ec1cd851",
   "metadata": {
    "ExecuteTime": {
     "end_time": "2023-03-02T16:27:54.088094Z",
     "start_time": "2023-03-02T16:27:54.070143Z"
    }
   },
   "outputs": [
    {
     "name": "stdout",
     "output_type": "stream",
     "text": [
      "\\begin{table}\n",
      "\\centering\n",
      "\\caption[Models with 0.53/0.33 precisions]{Models with 0.53/0.33 precisions}\n",
      "\\begin{tabular}{rrrrr}\n",
      "\\toprule\n",
      " Best\\_max\\_depth &  Best\\_min\\_samples\\_leaf &  Best\\_ccp\\_alpha &  Final\\_tree\\_depth &  Count \\\\\n",
      "\\midrule\n",
      "              8 &                     10 &           0.005 &                 8 &     11 \\\\\n",
      "              4 &                      8 &           0.005 &                 4 &      2 \\\\\n",
      "              6 &                      7 &           0.010 &                 4 &      2 \\\\\n",
      "              6 &                      9 &           0.005 &                 6 &      2 \\\\\n",
      "              6 &                     10 &           0.005 &                 6 &      2 \\\\\n",
      "              8 &                      5 &           0.010 &                 4 &      2 \\\\\n",
      "              8 &                      9 &           0.010 &                 4 &      2 \\\\\n",
      "              4 &                      5 &           0.010 &                 4 &      1 \\\\\n",
      "              5 &                      6 &           0.010 &                 4 &      1 \\\\\n",
      "              7 &                      6 &           0.010 &                 4 &      1 \\\\\n",
      "              7 &                      7 &           0.010 &                 4 &      1 \\\\\n",
      "              7 &                     10 &           0.005 &                 7 &      1 \\\\\n",
      "              8 &                      7 &           0.010 &                 4 &      1 \\\\\n",
      "\\bottomrule\n",
      "\\end{tabular}\n",
      "\\end{table}\n",
      "\n"
     ]
    },
    {
     "name": "stderr",
     "output_type": "stream",
     "text": [
      "C:\\Users\\ciroe\\AppData\\Local\\Temp\\ipykernel_23604\\2403374867.py:2: FutureWarning: In future versions `DataFrame.to_latex` is expected to utilise the base implementation of `Styler.to_latex` for formatting and rendering. The arguments signature may therefore change. It is recommended instead to use `DataFrame.style.to_latex` which also contains additional functionality.\n",
      "  print(df_similar_models_summary.to_latex(\n"
     ]
    }
   ],
   "source": [
    "# Print to screen:\n",
    "print(df_similar_models_summary.to_latex(\n",
    "    index=False, longtable=False,\n",
    "    caption=(\n",
    "        \"Models with 0.53/0.33 precisions\",\"Models with 0.53/0.33 precisions\"\n",
    "    )\n",
    "))\n"
   ]
  },
  {
   "cell_type": "code",
   "execution_count": 126,
   "id": "31391f37",
   "metadata": {
    "ExecuteTime": {
     "end_time": "2023-03-02T16:27:57.711760Z",
     "start_time": "2023-03-02T16:27:57.694805Z"
    }
   },
   "outputs": [
    {
     "name": "stderr",
     "output_type": "stream",
     "text": [
      "C:\\Users\\ciroe\\AppData\\Local\\Temp\\ipykernel_23604\\368146869.py:7: FutureWarning: In future versions `DataFrame.to_latex` is expected to utilise the base implementation of `Styler.to_latex` for formatting and rendering. The arguments signature may therefore change. It is recommended instead to use `DataFrame.style.to_latex` which also contains additional functionality.\n",
      "  print(df_similar_models_summary.to_latex(\n"
     ]
    }
   ],
   "source": [
    "# Save to file:\n",
    "# Write to file:\n",
    "# Backup the standard output:\n",
    "original_stdout = sys.stdout\n",
    "with open(LATEX_SIMILAR_MODELS_COUNT_OUT_DF, 'w') as f:\n",
    "    sys.stdout = f # Change the standard output to the file we created.\n",
    "    print(df_similar_models_summary.to_latex(\n",
    "        index=False, longtable=False,\n",
    "        caption=(\n",
    "            \"Models with 0.53/0.33 precisions\",\"Models with 0.53/0.33 precisions\"\n",
    "        )\n",
    "    ))\n",
    "# Restore the standard output to its original value\n",
    "sys.stdout = original_stdout"
   ]
  },
  {
   "cell_type": "markdown",
   "id": "33872568",
   "metadata": {},
   "source": [
    "## Final evaluation of the supposedly better model"
   ]
  },
  {
   "cell_type": "code",
   "execution_count": 97,
   "id": "ba7599dc",
   "metadata": {
    "ExecuteTime": {
     "end_time": "2023-03-02T12:06:54.477186Z",
     "start_time": "2023-03-02T12:06:54.466215Z"
    }
   },
   "outputs": [],
   "source": [
    "final_model = DecisionTreeClassifier(\n",
    "    max_depth=8,\n",
    "    min_samples_leaf=10,\n",
    "    ccp_alpha=0.005,\n",
    "    criterion='entropy', max_features=None,\n",
    "    splitter='best'\n",
    ")"
   ]
  },
  {
   "cell_type": "markdown",
   "id": "8d021287",
   "metadata": {},
   "source": [
    "### Performance"
   ]
  },
  {
   "cell_type": "code",
   "execution_count": 98,
   "id": "f513d625",
   "metadata": {
    "ExecuteTime": {
     "end_time": "2023-03-02T12:08:23.160315Z",
     "start_time": "2023-03-02T12:08:23.114374Z"
    }
   },
   "outputs": [
    {
     "data": {
      "text/plain": [
       "{'train_score': 0.5333333333333333,\n",
       " 'validation_score': 0.3333333333333333,\n",
       " 'tree_depth': 8}"
      ]
     },
     "execution_count": 98,
     "metadata": {},
     "output_type": "execute_result"
    }
   ],
   "source": [
    "re_evaluate_model(\n",
    "    model=final_model,\n",
    "    X_train=train_set[rel_features], y_train=train_set['Pulsating'],\n",
    "    X_val=val[rel_features], y_val=val['Pulsating'],\n",
    "    refit=True\n",
    ")"
   ]
  },
  {
   "cell_type": "markdown",
   "id": "ff6c49da",
   "metadata": {},
   "source": [
    "**OBSERVATION:** Ok, it seems we get the expected results."
   ]
  },
  {
   "cell_type": "markdown",
   "id": "a91c04e2",
   "metadata": {},
   "source": [
    "## Summary"
   ]
  },
  {
   "cell_type": "markdown",
   "id": "03c662fd",
   "metadata": {},
   "source": [
    "**RESULTS:**\n",
    "\n",
    "- We have analysed the results of the multiple runs of $500$ `optuna` trials, each run using a different 5x2 fold CV split.\n",
    "\n",
    "**CONCLUSSION:**\n",
    "\n",
    "- The model we have decided to use is a valid one.\n",
    "- There seems to be several ways to reach those kind of models, although the majority of them uses these configuration:\n",
    "    - 'max_depth': 8\n",
    "    - 'min_samples_leaf': 10\n",
    "    - 'ccp_alpha': 0.005\n",
    "- And the final retraining yields a tree depth of 8 (i.e. it is not post-pruned)\n"
   ]
  },
  {
   "cell_type": "code",
   "execution_count": null,
   "id": "0e5aff01",
   "metadata": {},
   "outputs": [],
   "source": []
  }
 ],
 "metadata": {
  "kernelspec": {
   "display_name": "Python 3 (ipykernel)",
   "language": "python",
   "name": "python3"
  },
  "language_info": {
   "codemirror_mode": {
    "name": "ipython",
    "version": 3
   },
   "file_extension": ".py",
   "mimetype": "text/x-python",
   "name": "python",
   "nbconvert_exporter": "python",
   "pygments_lexer": "ipython3",
   "version": "3.8.8"
  },
  "toc": {
   "base_numbering": 1,
   "nav_menu": {},
   "number_sections": true,
   "sideBar": true,
   "skip_h1_title": true,
   "title_cell": "Table of Contents",
   "title_sidebar": "Contents",
   "toc_cell": false,
   "toc_position": {
    "height": "calc(100% - 180px)",
    "left": "10px",
    "top": "150px",
    "width": "308.797px"
   },
   "toc_section_display": true,
   "toc_window_display": true
  }
 },
 "nbformat": 4,
 "nbformat_minor": 5
}
