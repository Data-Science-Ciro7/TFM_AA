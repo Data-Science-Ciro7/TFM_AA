{
 "cells": [
  {
   "cell_type": "markdown",
   "id": "5657ed60",
   "metadata": {},
   "source": [
    "# MACHINE LEARNING TELESCOPIC SEARCH"
   ]
  },
  {
   "cell_type": "markdown",
   "id": "0d8e7ec8",
   "metadata": {},
   "source": [
    "In this notebook we do a new Search (a Telescopic Search), starting from the points that the previous Grid Search found (notebook _MachineLearning_05_GridSearch.ipynb_).\n",
    "- First, we do a new Grid Search. Notice that the parameters for which the first Grid Search took extreme values on the grid are re-tested, looking for values outside the original range for the first Grid Search.\n",
    "- Then, we do a Random Search around the best values found by this sew Grid Search."
   ]
  },
  {
   "cell_type": "markdown",
   "id": "a45b1a5a",
   "metadata": {},
   "source": [
    "## Modules and configuration"
   ]
  },
  {
   "cell_type": "markdown",
   "id": "6569d8c2",
   "metadata": {},
   "source": [
    "### Modules"
   ]
  },
  {
   "cell_type": "code",
   "execution_count": 1,
   "id": "db817188",
   "metadata": {
    "ExecuteTime": {
     "end_time": "2022-05-04T22:22:46.486258Z",
     "start_time": "2022-05-04T22:22:45.590646Z"
    }
   },
   "outputs": [],
   "source": [
    "import warnings\n",
    "\n",
    "import pandas as pd\n",
    "import numpy as np\n",
    "\n",
    "from sklearn.model_selection import train_test_split\n",
    "from sklearn.model_selection import GridSearchCV, RandomizedSearchCV\n",
    "\n",
    "from scipy.stats import uniform, randint\n",
    "\n",
    "from sklearn.metrics import roc_auc_score, precision_score, accuracy_score, recall_score, f1_score, \\\n",
    "    RocCurveDisplay\n",
    "\n",
    "#from sklearn.experimental import enable_hist_gradient_boosting\n",
    "# Not sure why this 'experimental' import is needed, as the sklearn version is 0.24.x > 0.21.x\n",
    "from sklearn.ensemble import HistGradientBoostingClassifier\n",
    "\n",
    "from joblib import dump, load\n"
   ]
  },
  {
   "cell_type": "markdown",
   "id": "44ad459b",
   "metadata": {},
   "source": [
    "### Configuration"
   ]
  },
  {
   "cell_type": "code",
   "execution_count": 2,
   "id": "044384a7",
   "metadata": {
    "ExecuteTime": {
     "end_time": "2022-05-04T22:22:46.501911Z",
     "start_time": "2022-05-04T22:22:46.488209Z"
    }
   },
   "outputs": [],
   "source": [
    "# CONFIGURATION:\n",
    "RANDOM_STATE = 11 # For reproducibility\n",
    "\n",
    "# FILES AND FOLDERS\n",
    "SYNTH_DATASET = \"../data/DATASETS_ML/DS4_Dataset.csv\" # The already preprocessed one.\n",
    "OUT_MODELS_FOLDER = \"../data/MODELS_ML/\"\n",
    "\n",
    "# TARGET FEATURE - To remove the Lomb-Scargle (Periodic) 'cesium' features\n",
    "# Notice that the input dataset has the proper 'cesium' features already preselected.\n",
    "TARGET_DS4 = ['Pulsating']\n",
    "\n",
    "# TRAIN/TEST SPLITS:\n",
    "VALIDATION_SIZE = 0.25 # Fraction of DS4 reserved for model validation.\n",
    "\n",
    "# MODEL OPTIMIZATION / TRAINING:\n",
    "N_FOLD = 5 # n value for n-fold cross_validation (not-used, but could be added to the cross validations)\n",
    "PARAM_GRID = { # Parameter grid, only valid for a 'HistGradientBoostingClassifier' outside a `Pipeline`.\n",
    "    'learning_rate': [0.025, 0.05, 0.1],\n",
    "    'max_iter': [25, 50 ,100], \n",
    "    'max_leaf_nodes': [None],\n",
    "    'max_depth': [None],\n",
    "    'min_samples_leaf': [20, 40, 80],\n",
    "    'max_bins': [255]\n",
    "} # This is the starting parameter grid, based on the results of the first grid search.\n",
    "\n"
   ]
  },
  {
   "cell_type": "markdown",
   "id": "fd9226a8",
   "metadata": {},
   "source": [
    "### Functions"
   ]
  },
  {
   "cell_type": "code",
   "execution_count": null,
   "id": "5eb58654",
   "metadata": {
    "ExecuteTime": {
     "end_time": "2022-04-26T12:07:15.360801Z",
     "start_time": "2022-04-26T12:07:15.345802Z"
    }
   },
   "outputs": [],
   "source": []
  },
  {
   "cell_type": "markdown",
   "id": "cf382cdb",
   "metadata": {},
   "source": [
    "## Load the train/test and validation dataset"
   ]
  },
  {
   "cell_type": "code",
   "execution_count": 3,
   "id": "75d86e61",
   "metadata": {
    "ExecuteTime": {
     "end_time": "2022-05-04T22:22:48.553625Z",
     "start_time": "2022-05-04T22:22:48.487802Z"
    }
   },
   "outputs": [
    {
     "data": {
      "text/html": [
       "<div>\n",
       "<style scoped>\n",
       "    .dataframe tbody tr th:only-of-type {\n",
       "        vertical-align: middle;\n",
       "    }\n",
       "\n",
       "    .dataframe tbody tr th {\n",
       "        vertical-align: top;\n",
       "    }\n",
       "\n",
       "    .dataframe thead th {\n",
       "        text-align: right;\n",
       "    }\n",
       "</style>\n",
       "<table border=\"1\" class=\"dataframe\">\n",
       "  <thead>\n",
       "    <tr style=\"text-align: right;\">\n",
       "      <th></th>\n",
       "      <th>all_times_nhist_numpeaks</th>\n",
       "      <th>all_times_nhist_peak1_bin</th>\n",
       "      <th>all_times_nhist_peak2_bin</th>\n",
       "      <th>all_times_nhist_peak3_bin</th>\n",
       "      <th>all_times_nhist_peak4_bin</th>\n",
       "      <th>all_times_nhist_peak_1_to_2</th>\n",
       "      <th>all_times_nhist_peak_1_to_3</th>\n",
       "      <th>all_times_nhist_peak_1_to_4</th>\n",
       "      <th>all_times_nhist_peak_2_to_3</th>\n",
       "      <th>all_times_nhist_peak_2_to_4</th>\n",
       "      <th>...</th>\n",
       "      <th>qso_log_chi2_qsonu</th>\n",
       "      <th>qso_log_chi2nuNULL_chi2nu</th>\n",
       "      <th>skew</th>\n",
       "      <th>std</th>\n",
       "      <th>stetson_j</th>\n",
       "      <th>stetson_k</th>\n",
       "      <th>weighted_average</th>\n",
       "      <th>fold2P_slope_10percentile</th>\n",
       "      <th>fold2P_slope_90percentile</th>\n",
       "      <th>Pulsating</th>\n",
       "    </tr>\n",
       "  </thead>\n",
       "  <tbody>\n",
       "    <tr>\n",
       "      <th>0</th>\n",
       "      <td>8.0</td>\n",
       "      <td>22.0</td>\n",
       "      <td>32.0</td>\n",
       "      <td>34.0</td>\n",
       "      <td>47.0</td>\n",
       "      <td>1.037736</td>\n",
       "      <td>1.122449</td>\n",
       "      <td>1.527778</td>\n",
       "      <td>1.081633</td>\n",
       "      <td>1.472222</td>\n",
       "      <td>...</td>\n",
       "      <td>11.309243</td>\n",
       "      <td>-0.256635</td>\n",
       "      <td>-0.781648</td>\n",
       "      <td>3.165073</td>\n",
       "      <td>24.980336</td>\n",
       "      <td>0.958442</td>\n",
       "      <td>640.080094</td>\n",
       "      <td>-804.937332</td>\n",
       "      <td>734.364181</td>\n",
       "      <td>1</td>\n",
       "    </tr>\n",
       "    <tr>\n",
       "      <th>1</th>\n",
       "      <td>4.0</td>\n",
       "      <td>25.0</td>\n",
       "      <td>23.0</td>\n",
       "      <td>49.0</td>\n",
       "      <td>NaN</td>\n",
       "      <td>1.500000</td>\n",
       "      <td>2.000000</td>\n",
       "      <td>NaN</td>\n",
       "      <td>1.333333</td>\n",
       "      <td>NaN</td>\n",
       "      <td>...</td>\n",
       "      <td>10.193226</td>\n",
       "      <td>-0.719675</td>\n",
       "      <td>-0.066318</td>\n",
       "      <td>2.172986</td>\n",
       "      <td>18.856633</td>\n",
       "      <td>1.041665</td>\n",
       "      <td>1393.651760</td>\n",
       "      <td>-0.000084</td>\n",
       "      <td>0.000069</td>\n",
       "      <td>1</td>\n",
       "    </tr>\n",
       "    <tr>\n",
       "      <th>2</th>\n",
       "      <td>7.0</td>\n",
       "      <td>9.0</td>\n",
       "      <td>16.0</td>\n",
       "      <td>26.0</td>\n",
       "      <td>43.0</td>\n",
       "      <td>1.500000</td>\n",
       "      <td>1.500000</td>\n",
       "      <td>1.615385</td>\n",
       "      <td>1.000000</td>\n",
       "      <td>1.076923</td>\n",
       "      <td>...</td>\n",
       "      <td>9.388395</td>\n",
       "      <td>0.509991</td>\n",
       "      <td>0.234427</td>\n",
       "      <td>2.803447</td>\n",
       "      <td>22.406281</td>\n",
       "      <td>0.974131</td>\n",
       "      <td>1798.934279</td>\n",
       "      <td>-0.000131</td>\n",
       "      <td>0.000092</td>\n",
       "      <td>0</td>\n",
       "    </tr>\n",
       "    <tr>\n",
       "      <th>3</th>\n",
       "      <td>9.0</td>\n",
       "      <td>10.0</td>\n",
       "      <td>46.0</td>\n",
       "      <td>49.0</td>\n",
       "      <td>0.0</td>\n",
       "      <td>1.000000</td>\n",
       "      <td>1.000000</td>\n",
       "      <td>2.000000</td>\n",
       "      <td>1.000000</td>\n",
       "      <td>2.000000</td>\n",
       "      <td>...</td>\n",
       "      <td>12.881028</td>\n",
       "      <td>-0.441638</td>\n",
       "      <td>-0.583404</td>\n",
       "      <td>3.021310</td>\n",
       "      <td>27.726903</td>\n",
       "      <td>0.968993</td>\n",
       "      <td>918.862056</td>\n",
       "      <td>-0.000110</td>\n",
       "      <td>0.000187</td>\n",
       "      <td>0</td>\n",
       "    </tr>\n",
       "    <tr>\n",
       "      <th>4</th>\n",
       "      <td>7.0</td>\n",
       "      <td>23.0</td>\n",
       "      <td>26.0</td>\n",
       "      <td>19.0</td>\n",
       "      <td>3.0</td>\n",
       "      <td>1.000000</td>\n",
       "      <td>1.500000</td>\n",
       "      <td>3.000000</td>\n",
       "      <td>1.500000</td>\n",
       "      <td>3.000000</td>\n",
       "      <td>...</td>\n",
       "      <td>9.928810</td>\n",
       "      <td>-0.441719</td>\n",
       "      <td>0.653280</td>\n",
       "      <td>2.835690</td>\n",
       "      <td>24.866941</td>\n",
       "      <td>1.020485</td>\n",
       "      <td>-1374.121335</td>\n",
       "      <td>-0.000017</td>\n",
       "      <td>0.000029</td>\n",
       "      <td>1</td>\n",
       "    </tr>\n",
       "  </tbody>\n",
       "</table>\n",
       "<p>5 rows × 68 columns</p>\n",
       "</div>"
      ],
      "text/plain": [
       "   all_times_nhist_numpeaks  all_times_nhist_peak1_bin  \\\n",
       "0                       8.0                       22.0   \n",
       "1                       4.0                       25.0   \n",
       "2                       7.0                        9.0   \n",
       "3                       9.0                       10.0   \n",
       "4                       7.0                       23.0   \n",
       "\n",
       "   all_times_nhist_peak2_bin  all_times_nhist_peak3_bin  \\\n",
       "0                       32.0                       34.0   \n",
       "1                       23.0                       49.0   \n",
       "2                       16.0                       26.0   \n",
       "3                       46.0                       49.0   \n",
       "4                       26.0                       19.0   \n",
       "\n",
       "   all_times_nhist_peak4_bin  all_times_nhist_peak_1_to_2  \\\n",
       "0                       47.0                     1.037736   \n",
       "1                        NaN                     1.500000   \n",
       "2                       43.0                     1.500000   \n",
       "3                        0.0                     1.000000   \n",
       "4                        3.0                     1.000000   \n",
       "\n",
       "   all_times_nhist_peak_1_to_3  all_times_nhist_peak_1_to_4  \\\n",
       "0                     1.122449                     1.527778   \n",
       "1                     2.000000                          NaN   \n",
       "2                     1.500000                     1.615385   \n",
       "3                     1.000000                     2.000000   \n",
       "4                     1.500000                     3.000000   \n",
       "\n",
       "   all_times_nhist_peak_2_to_3  all_times_nhist_peak_2_to_4  ...  \\\n",
       "0                     1.081633                     1.472222  ...   \n",
       "1                     1.333333                          NaN  ...   \n",
       "2                     1.000000                     1.076923  ...   \n",
       "3                     1.000000                     2.000000  ...   \n",
       "4                     1.500000                     3.000000  ...   \n",
       "\n",
       "   qso_log_chi2_qsonu  qso_log_chi2nuNULL_chi2nu      skew       std  \\\n",
       "0           11.309243                  -0.256635 -0.781648  3.165073   \n",
       "1           10.193226                  -0.719675 -0.066318  2.172986   \n",
       "2            9.388395                   0.509991  0.234427  2.803447   \n",
       "3           12.881028                  -0.441638 -0.583404  3.021310   \n",
       "4            9.928810                  -0.441719  0.653280  2.835690   \n",
       "\n",
       "   stetson_j  stetson_k  weighted_average  fold2P_slope_10percentile  \\\n",
       "0  24.980336   0.958442        640.080094                -804.937332   \n",
       "1  18.856633   1.041665       1393.651760                  -0.000084   \n",
       "2  22.406281   0.974131       1798.934279                  -0.000131   \n",
       "3  27.726903   0.968993        918.862056                  -0.000110   \n",
       "4  24.866941   1.020485      -1374.121335                  -0.000017   \n",
       "\n",
       "   fold2P_slope_90percentile  Pulsating  \n",
       "0                 734.364181          1  \n",
       "1                   0.000069          1  \n",
       "2                   0.000092          0  \n",
       "3                   0.000187          0  \n",
       "4                   0.000029          1  \n",
       "\n",
       "[5 rows x 68 columns]"
      ]
     },
     "execution_count": 3,
     "metadata": {},
     "output_type": "execute_result"
    }
   ],
   "source": [
    "ds4 = pd.read_csv(SYNTH_DATASET, sep=',', decimal='.')\n",
    "ds4.head()"
   ]
  },
  {
   "cell_type": "markdown",
   "id": "db2231d6",
   "metadata": {},
   "source": [
    "## Train/test set and validation set split"
   ]
  },
  {
   "cell_type": "markdown",
   "id": "71dff867",
   "metadata": {},
   "source": [
    "We do a train/test set and validation set split.\n",
    "\n",
    "**NOTE:** it is important to stratify the split with the target variable (`Pulsating` column)."
   ]
  },
  {
   "cell_type": "markdown",
   "id": "e2776e17",
   "metadata": {},
   "source": [
    "We first separate the features from the target variable:"
   ]
  },
  {
   "cell_type": "code",
   "execution_count": 4,
   "id": "14ac9e70",
   "metadata": {
    "ExecuteTime": {
     "end_time": "2022-05-04T22:22:50.485574Z",
     "start_time": "2022-05-04T22:22:50.478593Z"
    }
   },
   "outputs": [],
   "source": [
    "X = ds4.drop(columns=TARGET_DS4).copy()\n",
    "y = ds4[TARGET_DS4].copy()"
   ]
  },
  {
   "cell_type": "code",
   "execution_count": 5,
   "id": "125ba3c6",
   "metadata": {
    "ExecuteTime": {
     "end_time": "2022-05-04T22:22:50.900776Z",
     "start_time": "2022-05-04T22:22:50.879386Z"
    }
   },
   "outputs": [],
   "source": [
    "X_train, X_val, y_train, y_val = train_test_split(X, y, test_size=VALIDATION_SIZE,\n",
    "                                                    stratify=y, random_state=RANDOM_STATE)"
   ]
  },
  {
   "cell_type": "code",
   "execution_count": 6,
   "id": "da886524",
   "metadata": {
    "ExecuteTime": {
     "end_time": "2022-05-04T22:22:51.256450Z",
     "start_time": "2022-05-04T22:22:51.247475Z"
    }
   },
   "outputs": [
    {
     "data": {
      "text/plain": [
       "(750, 67)"
      ]
     },
     "execution_count": 6,
     "metadata": {},
     "output_type": "execute_result"
    }
   ],
   "source": [
    "X_train.shape"
   ]
  },
  {
   "cell_type": "code",
   "execution_count": 7,
   "id": "c67daf22",
   "metadata": {
    "ExecuteTime": {
     "end_time": "2022-05-04T22:22:51.629410Z",
     "start_time": "2022-05-04T22:22:51.622455Z"
    }
   },
   "outputs": [
    {
     "data": {
      "text/plain": [
       "(750, 1)"
      ]
     },
     "execution_count": 7,
     "metadata": {},
     "output_type": "execute_result"
    }
   ],
   "source": [
    "y_train.shape"
   ]
  },
  {
   "cell_type": "code",
   "execution_count": 8,
   "id": "53d77da4",
   "metadata": {
    "ExecuteTime": {
     "end_time": "2022-05-04T22:22:52.404089Z",
     "start_time": "2022-05-04T22:22:52.391151Z"
    }
   },
   "outputs": [
    {
     "data": {
      "text/html": [
       "<div>\n",
       "<style scoped>\n",
       "    .dataframe tbody tr th:only-of-type {\n",
       "        vertical-align: middle;\n",
       "    }\n",
       "\n",
       "    .dataframe tbody tr th {\n",
       "        vertical-align: top;\n",
       "    }\n",
       "\n",
       "    .dataframe thead th {\n",
       "        text-align: right;\n",
       "    }\n",
       "</style>\n",
       "<table border=\"1\" class=\"dataframe\">\n",
       "  <thead>\n",
       "    <tr style=\"text-align: right;\">\n",
       "      <th></th>\n",
       "      <th>Pulsating</th>\n",
       "    </tr>\n",
       "  </thead>\n",
       "  <tbody>\n",
       "    <tr>\n",
       "      <th>303</th>\n",
       "      <td>0</td>\n",
       "    </tr>\n",
       "    <tr>\n",
       "      <th>425</th>\n",
       "      <td>1</td>\n",
       "    </tr>\n",
       "    <tr>\n",
       "      <th>6</th>\n",
       "      <td>1</td>\n",
       "    </tr>\n",
       "    <tr>\n",
       "      <th>457</th>\n",
       "      <td>1</td>\n",
       "    </tr>\n",
       "    <tr>\n",
       "      <th>619</th>\n",
       "      <td>0</td>\n",
       "    </tr>\n",
       "    <tr>\n",
       "      <th>34</th>\n",
       "      <td>1</td>\n",
       "    </tr>\n",
       "    <tr>\n",
       "      <th>935</th>\n",
       "      <td>0</td>\n",
       "    </tr>\n",
       "    <tr>\n",
       "      <th>52</th>\n",
       "      <td>1</td>\n",
       "    </tr>\n",
       "    <tr>\n",
       "      <th>674</th>\n",
       "      <td>1</td>\n",
       "    </tr>\n",
       "    <tr>\n",
       "      <th>33</th>\n",
       "      <td>1</td>\n",
       "    </tr>\n",
       "  </tbody>\n",
       "</table>\n",
       "</div>"
      ],
      "text/plain": [
       "     Pulsating\n",
       "303          0\n",
       "425          1\n",
       "6            1\n",
       "457          1\n",
       "619          0\n",
       "34           1\n",
       "935          0\n",
       "52           1\n",
       "674          1\n",
       "33           1"
      ]
     },
     "execution_count": 8,
     "metadata": {},
     "output_type": "execute_result"
    }
   ],
   "source": [
    "y_train[:10]"
   ]
  },
  {
   "cell_type": "code",
   "execution_count": 9,
   "id": "58b3a191",
   "metadata": {
    "ExecuteTime": {
     "end_time": "2022-05-04T22:22:53.086117Z",
     "start_time": "2022-05-04T22:22:53.079108Z"
    }
   },
   "outputs": [
    {
     "data": {
      "text/plain": [
       "array([0, 1, 1, 1, 0, 1, 0, 1, 1, 1], dtype=int64)"
      ]
     },
     "execution_count": 9,
     "metadata": {},
     "output_type": "execute_result"
    }
   ],
   "source": [
    "np.ravel(y_train)[:10]"
   ]
  },
  {
   "cell_type": "code",
   "execution_count": 10,
   "id": "b478cd8a",
   "metadata": {
    "ExecuteTime": {
     "end_time": "2022-05-04T22:22:54.215673Z",
     "start_time": "2022-05-04T22:22:54.207695Z"
    }
   },
   "outputs": [
    {
     "data": {
      "text/plain": [
       "(250, 67)"
      ]
     },
     "execution_count": 10,
     "metadata": {},
     "output_type": "execute_result"
    }
   ],
   "source": [
    "X_val.shape"
   ]
  },
  {
   "cell_type": "code",
   "execution_count": 11,
   "id": "67ffbe8a",
   "metadata": {
    "ExecuteTime": {
     "end_time": "2022-05-04T22:22:54.539375Z",
     "start_time": "2022-05-04T22:22:54.527418Z"
    }
   },
   "outputs": [
    {
     "data": {
      "text/plain": [
       "(250, 1)"
      ]
     },
     "execution_count": 11,
     "metadata": {},
     "output_type": "execute_result"
    }
   ],
   "source": [
    "y_val.shape"
   ]
  },
  {
   "cell_type": "markdown",
   "id": "833eb525",
   "metadata": {},
   "source": [
    "## Design the model for optimization"
   ]
  },
  {
   "cell_type": "markdown",
   "id": "fbb191cf",
   "metadata": {},
   "source": [
    "At the moment, we don't use the `Pipeline` for simplification. It would be better to do this inside a `Pipeline` in case more steps are needed to be introduced later (for example, introduce the transformation to drop certain columns, a `RobustScaler`, etc.).\n",
    "\n",
    "For optimization and training of the model we use telescopic search (Grid search followed by Random search) and 5-fold cross-validation, with the `auc`metric."
   ]
  },
  {
   "cell_type": "markdown",
   "id": "5096cb26",
   "metadata": {},
   "source": [
    "## Optimize and train the model"
   ]
  },
  {
   "cell_type": "markdown",
   "id": "7480fcb3",
   "metadata": {},
   "source": [
    "### Telescopic search step 1: Grid Search CV"
   ]
  },
  {
   "cell_type": "code",
   "execution_count": 12,
   "id": "1717ba28",
   "metadata": {
    "ExecuteTime": {
     "end_time": "2022-05-04T22:22:58.446653Z",
     "start_time": "2022-05-04T22:22:58.439672Z"
    }
   },
   "outputs": [],
   "source": [
    "# Define the Grid Search model:\n",
    "clf = GridSearchCV(estimator=HistGradientBoostingClassifier(random_state=RANDOM_STATE),\n",
    "                   param_grid=PARAM_GRID, cv=5, scoring='roc_auc',\n",
    "                   verbose=1)"
   ]
  },
  {
   "cell_type": "markdown",
   "id": "e60f9f89",
   "metadata": {},
   "source": [
    "#### Optimize / train"
   ]
  },
  {
   "cell_type": "code",
   "execution_count": 13,
   "id": "186deb12",
   "metadata": {
    "ExecuteTime": {
     "end_time": "2022-05-04T22:23:33.295261Z",
     "start_time": "2022-05-04T22:23:01.904327Z"
    },
    "scrolled": true
   },
   "outputs": [
    {
     "name": "stdout",
     "output_type": "stream",
     "text": [
      "Fitting 5 folds for each of 27 candidates, totalling 135 fits\n"
     ]
    },
    {
     "data": {
      "text/plain": [
       "GridSearchCV(cv=5, estimator=HistGradientBoostingClassifier(random_state=11),\n",
       "             param_grid={'learning_rate': [0.025, 0.05, 0.1], 'max_bins': [255],\n",
       "                         'max_depth': [None], 'max_iter': [25, 50, 100],\n",
       "                         'max_leaf_nodes': [None],\n",
       "                         'min_samples_leaf': [20, 40, 80]},\n",
       "             scoring='roc_auc', verbose=1)"
      ]
     },
     "execution_count": 13,
     "metadata": {},
     "output_type": "execute_result"
    }
   ],
   "source": [
    "# DISABLE WARNINGS:\n",
    "warnings.filterwarnings('ignore')\n",
    "\n",
    "# Optimize / train:\n",
    "clf.fit(X_train, np.ravel(y_train))"
   ]
  },
  {
   "cell_type": "markdown",
   "id": "701003c3",
   "metadata": {},
   "source": [
    "We now show the parameters of the estimator:"
   ]
  },
  {
   "cell_type": "code",
   "execution_count": 14,
   "id": "0b94ca2b",
   "metadata": {
    "ExecuteTime": {
     "end_time": "2022-05-04T22:24:59.527532Z",
     "start_time": "2022-05-04T22:24:59.519553Z"
    }
   },
   "outputs": [
    {
     "data": {
      "text/plain": [
       "{'cv': 5,\n",
       " 'error_score': nan,\n",
       " 'estimator__categorical_features': None,\n",
       " 'estimator__early_stopping': 'auto',\n",
       " 'estimator__l2_regularization': 0.0,\n",
       " 'estimator__learning_rate': 0.1,\n",
       " 'estimator__loss': 'auto',\n",
       " 'estimator__max_bins': 255,\n",
       " 'estimator__max_depth': None,\n",
       " 'estimator__max_iter': 100,\n",
       " 'estimator__max_leaf_nodes': 31,\n",
       " 'estimator__min_samples_leaf': 20,\n",
       " 'estimator__monotonic_cst': None,\n",
       " 'estimator__n_iter_no_change': 10,\n",
       " 'estimator__random_state': 11,\n",
       " 'estimator__scoring': 'loss',\n",
       " 'estimator__tol': 1e-07,\n",
       " 'estimator__validation_fraction': 0.1,\n",
       " 'estimator__verbose': 0,\n",
       " 'estimator__warm_start': False,\n",
       " 'estimator': HistGradientBoostingClassifier(random_state=11),\n",
       " 'n_jobs': None,\n",
       " 'param_grid': {'learning_rate': [0.025, 0.05, 0.1],\n",
       "  'max_iter': [25, 50, 100],\n",
       "  'max_leaf_nodes': [None],\n",
       "  'max_depth': [None],\n",
       "  'min_samples_leaf': [20, 40, 80],\n",
       "  'max_bins': [255]},\n",
       " 'pre_dispatch': '2*n_jobs',\n",
       " 'refit': True,\n",
       " 'return_train_score': False,\n",
       " 'scoring': 'roc_auc',\n",
       " 'verbose': 1}"
      ]
     },
     "execution_count": 14,
     "metadata": {},
     "output_type": "execute_result"
    }
   ],
   "source": [
    "# Show the grid search parameters:\n",
    "clf.get_params()"
   ]
  },
  {
   "cell_type": "markdown",
   "id": "4a76a88e",
   "metadata": {},
   "source": [
    "#### Best params found"
   ]
  },
  {
   "cell_type": "code",
   "execution_count": 15,
   "id": "2770f03d",
   "metadata": {
    "ExecuteTime": {
     "end_time": "2022-05-04T22:25:02.649353Z",
     "start_time": "2022-05-04T22:25:02.639379Z"
    }
   },
   "outputs": [
    {
     "data": {
      "text/plain": [
       "{'learning_rate': 0.05,\n",
       " 'max_bins': 255,\n",
       " 'max_depth': None,\n",
       " 'max_iter': 50,\n",
       " 'max_leaf_nodes': None,\n",
       " 'min_samples_leaf': 40}"
      ]
     },
     "execution_count": 15,
     "metadata": {},
     "output_type": "execute_result"
    }
   ],
   "source": [
    "# Show the best parameters found:\n",
    "clf.best_params_"
   ]
  },
  {
   "cell_type": "markdown",
   "id": "af090003",
   "metadata": {},
   "source": [
    "#### Best estimator"
   ]
  },
  {
   "cell_type": "code",
   "execution_count": 16,
   "id": "87dfb731",
   "metadata": {
    "ExecuteTime": {
     "end_time": "2022-05-04T22:25:05.495674Z",
     "start_time": "2022-05-04T22:25:05.479717Z"
    }
   },
   "outputs": [
    {
     "data": {
      "text/plain": [
       "HistGradientBoostingClassifier(learning_rate=0.05, max_iter=50,\n",
       "                               max_leaf_nodes=None, min_samples_leaf=40,\n",
       "                               random_state=11)"
      ]
     },
     "execution_count": 16,
     "metadata": {},
     "output_type": "execute_result"
    }
   ],
   "source": [
    "clf.best_estimator_"
   ]
  },
  {
   "cell_type": "markdown",
   "id": "3f19a580",
   "metadata": {
    "ExecuteTime": {
     "end_time": "2022-05-03T17:32:11.273309Z",
     "start_time": "2022-05-03T17:32:11.262339Z"
    }
   },
   "source": [
    "#### Best estimator performance on validation set (just as a reference)"
   ]
  },
  {
   "cell_type": "code",
   "execution_count": 17,
   "id": "9e2c10db",
   "metadata": {
    "ExecuteTime": {
     "end_time": "2022-05-04T22:25:06.561527Z",
     "start_time": "2022-05-04T22:25:06.527619Z"
    }
   },
   "outputs": [
    {
     "name": "stdout",
     "output_type": "stream",
     "text": [
      "GridSearchCV - precision on validation set: 0.693277\n",
      "GridSearchCV - accuracy on validation set: 0.664000\n",
      "GridSearchCV - recall on validation set: 0.937500\n",
      "GridSearchCV - F1 score on validation set: 0.797101\n",
      "GridSearchCV - ROC - AUC on validation set: 0.475507\n"
     ]
    }
   ],
   "source": [
    "# PRINT METRICS:\n",
    "print(\"GridSearchCV - precision on validation set: %f\"\n",
    "      %precision_score(y_val, clf.best_estimator_.predict(X_val)))\n",
    "print(\"GridSearchCV - accuracy on validation set: %f\"\n",
    "      %accuracy_score(y_val, clf.best_estimator_.predict(X_val)))\n",
    "print(\"GridSearchCV - recall on validation set: %f\"\n",
    "      %recall_score(y_val, clf.best_estimator_.predict(X_val)))\n",
    "print(\"GridSearchCV - F1 score on validation set: %f\"\n",
    "      %f1_score(y_val, clf.best_estimator_.predict(X_val)))\n",
    "print(\"GridSearchCV - ROC - AUC on validation set: %f\"\n",
    "      %roc_auc_score(y_val, clf.best_estimator_.predict(X_val)))\n"
   ]
  },
  {
   "cell_type": "markdown",
   "id": "cd5fee32",
   "metadata": {},
   "source": [
    "**OBSERVATION:** Results are exaclty the same than before (with the first Grid Search), and not very good indeed, so we now try the additional step of a random search."
   ]
  },
  {
   "cell_type": "markdown",
   "id": "7eb66543",
   "metadata": {},
   "source": [
    "### Telescopic search step 2: Random Search CV"
   ]
  },
  {
   "cell_type": "code",
   "execution_count": 18,
   "id": "6a685596",
   "metadata": {
    "ExecuteTime": {
     "end_time": "2022-05-04T22:25:12.238225Z",
     "start_time": "2022-05-04T22:25:12.230246Z"
    }
   },
   "outputs": [],
   "source": [
    "random_params ={\n",
    "    'learning_rate': uniform(loc=0.025, scale=0.075),\n",
    "    'max_iter': randint(low=25, high=101), \n",
    "    'max_leaf_nodes': [None],\n",
    "    'max_depth': [None],\n",
    "    'min_samples_leaf': randint(low=20, high=81),\n",
    "    'max_bins': [255]\n",
    "}"
   ]
  },
  {
   "cell_type": "code",
   "execution_count": 19,
   "id": "80c5e3e3",
   "metadata": {
    "ExecuteTime": {
     "end_time": "2022-05-04T22:25:15.462028Z",
     "start_time": "2022-05-04T22:25:15.455047Z"
    }
   },
   "outputs": [],
   "source": [
    "# Define the Grid Search model:\n",
    "clf_rand = RandomizedSearchCV(estimator=HistGradientBoostingClassifier(random_state=RANDOM_STATE),\n",
    "                              param_distributions=random_params, cv=5, scoring='roc_auc', n_iter=200,\n",
    "                              verbose=1)"
   ]
  },
  {
   "cell_type": "markdown",
   "id": "ad9da819",
   "metadata": {},
   "source": [
    "#### Optimize / train"
   ]
  },
  {
   "cell_type": "code",
   "execution_count": 20,
   "id": "9198e711",
   "metadata": {
    "ExecuteTime": {
     "end_time": "2022-05-04T22:29:06.935033Z",
     "start_time": "2022-05-04T22:25:17.142667Z"
    },
    "scrolled": true
   },
   "outputs": [
    {
     "name": "stdout",
     "output_type": "stream",
     "text": [
      "Fitting 5 folds for each of 200 candidates, totalling 1000 fits\n"
     ]
    },
    {
     "data": {
      "text/plain": [
       "RandomizedSearchCV(cv=5,\n",
       "                   estimator=HistGradientBoostingClassifier(random_state=11),\n",
       "                   n_iter=200,\n",
       "                   param_distributions={'learning_rate': <scipy.stats._distn_infrastructure.rv_frozen object at 0x000001CA96050820>,\n",
       "                                        'max_bins': [255], 'max_depth': [None],\n",
       "                                        'max_iter': <scipy.stats._distn_infrastructure.rv_frozen object at 0x000001CA96067520>,\n",
       "                                        'max_leaf_nodes': [None],\n",
       "                                        'min_samples_leaf': <scipy.stats._distn_infrastructure.rv_frozen object at 0x000001CA96028820>},\n",
       "                   scoring='roc_auc', verbose=1)"
      ]
     },
     "execution_count": 20,
     "metadata": {},
     "output_type": "execute_result"
    }
   ],
   "source": [
    "# DISABLE WARNINGS:\n",
    "warnings.filterwarnings('ignore')\n",
    "\n",
    "# Optimize / train:\n",
    "clf_rand.fit(X_train, np.ravel(y_train))"
   ]
  },
  {
   "cell_type": "markdown",
   "id": "905fcd15",
   "metadata": {},
   "source": [
    "We now show the parameters of the estimator:"
   ]
  },
  {
   "cell_type": "code",
   "execution_count": 21,
   "id": "3a073022",
   "metadata": {
    "ExecuteTime": {
     "end_time": "2022-05-04T22:32:03.131600Z",
     "start_time": "2022-05-04T22:32:03.119632Z"
    }
   },
   "outputs": [
    {
     "data": {
      "text/plain": [
       "{'cv': 5,\n",
       " 'error_score': nan,\n",
       " 'estimator__categorical_features': None,\n",
       " 'estimator__early_stopping': 'auto',\n",
       " 'estimator__l2_regularization': 0.0,\n",
       " 'estimator__learning_rate': 0.1,\n",
       " 'estimator__loss': 'auto',\n",
       " 'estimator__max_bins': 255,\n",
       " 'estimator__max_depth': None,\n",
       " 'estimator__max_iter': 100,\n",
       " 'estimator__max_leaf_nodes': 31,\n",
       " 'estimator__min_samples_leaf': 20,\n",
       " 'estimator__monotonic_cst': None,\n",
       " 'estimator__n_iter_no_change': 10,\n",
       " 'estimator__random_state': 11,\n",
       " 'estimator__scoring': 'loss',\n",
       " 'estimator__tol': 1e-07,\n",
       " 'estimator__validation_fraction': 0.1,\n",
       " 'estimator__verbose': 0,\n",
       " 'estimator__warm_start': False,\n",
       " 'estimator': HistGradientBoostingClassifier(random_state=11),\n",
       " 'n_iter': 200,\n",
       " 'n_jobs': None,\n",
       " 'param_distributions': {'learning_rate': <scipy.stats._distn_infrastructure.rv_frozen at 0x1ca96050820>,\n",
       "  'max_iter': <scipy.stats._distn_infrastructure.rv_frozen at 0x1ca96067520>,\n",
       "  'max_leaf_nodes': [None],\n",
       "  'max_depth': [None],\n",
       "  'min_samples_leaf': <scipy.stats._distn_infrastructure.rv_frozen at 0x1ca96028820>,\n",
       "  'max_bins': [255]},\n",
       " 'pre_dispatch': '2*n_jobs',\n",
       " 'random_state': None,\n",
       " 'refit': True,\n",
       " 'return_train_score': False,\n",
       " 'scoring': 'roc_auc',\n",
       " 'verbose': 1}"
      ]
     },
     "execution_count": 21,
     "metadata": {},
     "output_type": "execute_result"
    }
   ],
   "source": [
    "# Show the grid search parameters:\n",
    "clf_rand.get_params()"
   ]
  },
  {
   "cell_type": "markdown",
   "id": "4f1e3ee8",
   "metadata": {},
   "source": [
    "#### Best params found"
   ]
  },
  {
   "cell_type": "code",
   "execution_count": 22,
   "id": "ccbb41a3",
   "metadata": {
    "ExecuteTime": {
     "end_time": "2022-05-04T22:32:06.795370Z",
     "start_time": "2022-05-04T22:32:06.790383Z"
    }
   },
   "outputs": [
    {
     "data": {
      "text/plain": [
       "{'learning_rate': 0.08887773751235287,\n",
       " 'max_bins': 255,\n",
       " 'max_depth': None,\n",
       " 'max_iter': 53,\n",
       " 'max_leaf_nodes': None,\n",
       " 'min_samples_leaf': 58}"
      ]
     },
     "execution_count": 22,
     "metadata": {},
     "output_type": "execute_result"
    }
   ],
   "source": [
    "# Show the best parameters found:\n",
    "clf_rand.best_params_"
   ]
  },
  {
   "cell_type": "markdown",
   "id": "ff7652bd",
   "metadata": {},
   "source": [
    "There have been some changes in the best parameters found."
   ]
  },
  {
   "cell_type": "markdown",
   "id": "660fa1a9",
   "metadata": {},
   "source": [
    "#### Best estimator"
   ]
  },
  {
   "cell_type": "code",
   "execution_count": 23,
   "id": "51b6d189",
   "metadata": {
    "ExecuteTime": {
     "end_time": "2022-05-04T22:32:28.884935Z",
     "start_time": "2022-05-04T22:32:28.871970Z"
    }
   },
   "outputs": [
    {
     "data": {
      "text/plain": [
       "HistGradientBoostingClassifier(learning_rate=0.08887773751235287, max_iter=53,\n",
       "                               max_leaf_nodes=None, min_samples_leaf=58,\n",
       "                               random_state=11)"
      ]
     },
     "execution_count": 23,
     "metadata": {},
     "output_type": "execute_result"
    }
   ],
   "source": [
    "clf_rand.best_estimator_"
   ]
  },
  {
   "cell_type": "markdown",
   "id": "4d7f4b4c",
   "metadata": {
    "ExecuteTime": {
     "end_time": "2022-05-03T17:32:11.273309Z",
     "start_time": "2022-05-03T17:32:11.262339Z"
    }
   },
   "source": [
    "#### Best estimator performance on validation set"
   ]
  },
  {
   "cell_type": "code",
   "execution_count": 29,
   "id": "ca34dfed",
   "metadata": {
    "ExecuteTime": {
     "end_time": "2022-05-04T22:38:28.402623Z",
     "start_time": "2022-05-04T22:38:28.364725Z"
    }
   },
   "outputs": [
    {
     "name": "stdout",
     "output_type": "stream",
     "text": [
      "GridSearchCV - precision on validation set: 0.701299\n",
      "GridSearchCV - accuracy on validation set: 0.668000\n",
      "GridSearchCV - recall on validation set: 0.920455\n",
      "GridSearchCV - F1 score on validation set: 0.796069\n",
      "GridSearchCV - ROC - AUC on validation set: 0.494011\n"
     ]
    }
   ],
   "source": [
    "# PRINT METRICS:\n",
    "print(\"GridSearchCV - precision on validation set: %f\"\n",
    "      %precision_score(y_val, clf_rand.best_estimator_.predict(X_val)))\n",
    "print(\"GridSearchCV - accuracy on validation set: %f\"\n",
    "      %accuracy_score(y_val, clf_rand.best_estimator_.predict(X_val)))\n",
    "print(\"GridSearchCV - recall on validation set: %f\"\n",
    "      %recall_score(y_val, clf_rand.best_estimator_.predict(X_val)))\n",
    "print(\"GridSearchCV - F1 score on validation set: %f\"\n",
    "      %f1_score(y_val, clf_rand.best_estimator_.predict(X_val)))\n",
    "print(\"GridSearchCV - ROC - AUC on validation set: %f\"\n",
    "      %roc_auc_score(y_val, clf_rand.best_estimator_.predict(X_val)))\n"
   ]
  },
  {
   "cell_type": "markdown",
   "id": "a0d4f3c5",
   "metadata": {},
   "source": [
    "**OBSERVATION:** It seems we have got an improvement, but maybe not enough. However, at the momeent we store this classifier as the best classifier so far."
   ]
  },
  {
   "cell_type": "markdown",
   "id": "a639edb6",
   "metadata": {},
   "source": [
    "### Store the best classifier so far"
   ]
  },
  {
   "cell_type": "code",
   "execution_count": 30,
   "id": "02663388",
   "metadata": {
    "ExecuteTime": {
     "end_time": "2022-05-04T22:38:32.648298Z",
     "start_time": "2022-05-04T22:38:32.615360Z"
    }
   },
   "outputs": [
    {
     "data": {
      "text/plain": [
       "['../data/MODELS_ML/Best_Model_After_RandSearchCV.joblib']"
      ]
     },
     "execution_count": 30,
     "metadata": {},
     "output_type": "execute_result"
    }
   ],
   "source": [
    "dump(clf_rand, OUT_MODELS_FOLDER + \"Best_Model_After_RandSearchCV.joblib\") "
   ]
  },
  {
   "cell_type": "markdown",
   "id": "2bbc530f",
   "metadata": {},
   "source": [
    "#### Try loading the model"
   ]
  },
  {
   "cell_type": "code",
   "execution_count": 31,
   "id": "1899ffde",
   "metadata": {
    "ExecuteTime": {
     "end_time": "2022-05-04T22:38:33.594208Z",
     "start_time": "2022-05-04T22:38:33.559234Z"
    }
   },
   "outputs": [],
   "source": [
    "loaded_clf = load(OUT_MODELS_FOLDER + \"Best_Model_After_RandSearchCV.joblib\")"
   ]
  },
  {
   "cell_type": "code",
   "execution_count": 32,
   "id": "e087bdda",
   "metadata": {
    "ExecuteTime": {
     "end_time": "2022-05-04T22:38:34.543017Z",
     "start_time": "2022-05-04T22:38:34.527061Z"
    }
   },
   "outputs": [
    {
     "data": {
      "text/plain": [
       "HistGradientBoostingClassifier(learning_rate=0.08887773751235287, max_iter=53,\n",
       "                               max_leaf_nodes=None, min_samples_leaf=58,\n",
       "                               random_state=11)"
      ]
     },
     "execution_count": 32,
     "metadata": {},
     "output_type": "execute_result"
    }
   ],
   "source": [
    "loaded_clf.best_estimator_"
   ]
  },
  {
   "cell_type": "code",
   "execution_count": 33,
   "id": "ddf72438",
   "metadata": {
    "ExecuteTime": {
     "end_time": "2022-05-04T22:38:37.179158Z",
     "start_time": "2022-05-04T22:38:37.167190Z"
    }
   },
   "outputs": [
    {
     "data": {
      "text/plain": [
       "array([1, 0, 1, 1, 1, 1, 1, 1, 1, 1, 1, 1, 1, 1, 1, 1, 1, 1, 1, 1, 1, 1,\n",
       "       1, 1, 1, 1, 1, 1, 1, 1, 1, 1, 1, 1, 1, 1, 1, 1, 1, 1, 1, 1, 1, 1,\n",
       "       1, 1, 1, 1, 1, 1, 1, 1, 1, 1, 1, 1, 1, 1, 1, 1, 1, 1, 1, 1, 1, 1,\n",
       "       1, 1, 1, 1, 1, 1, 1, 0, 1, 1, 1, 1, 1, 1, 1, 1, 1, 1, 1, 1, 1, 0,\n",
       "       1, 1, 0, 1, 1, 1, 1, 1, 1, 1, 1, 1, 1, 1, 1, 1, 1, 1, 1, 1, 1, 1,\n",
       "       1, 1, 1, 1, 1, 1, 0, 1, 1, 1, 1, 1, 1, 0, 0, 1, 1, 1, 1, 1, 1, 1,\n",
       "       1, 0, 1, 1, 1, 0, 1, 1, 1, 1, 1, 1, 1, 1, 1, 0, 1, 1, 1, 1, 1, 1,\n",
       "       1, 1, 1, 0, 1, 1, 1, 1, 1, 1, 1, 1, 1, 1, 1, 1, 1, 1, 1, 1, 1, 1,\n",
       "       1, 1, 1, 0, 1, 1, 1, 1, 1, 1, 1, 1, 1, 0, 1, 1, 1, 1, 1, 1, 1, 1,\n",
       "       1, 1, 1, 1, 1, 1, 1, 1, 1, 1, 1, 0, 1, 1, 1, 1, 1, 0, 1, 1, 1, 0,\n",
       "       1, 0, 1, 1, 1, 1, 1, 1, 1, 1, 1, 1, 1, 1, 1, 1, 1, 1, 1, 1, 1, 1,\n",
       "       1, 1, 1, 1, 1, 0, 1, 0], dtype=int64)"
      ]
     },
     "execution_count": 33,
     "metadata": {},
     "output_type": "execute_result"
    }
   ],
   "source": [
    "loaded_clf.best_estimator_.predict(X_val)"
   ]
  },
  {
   "cell_type": "code",
   "execution_count": null,
   "id": "c0d5cd99",
   "metadata": {},
   "outputs": [],
   "source": []
  }
 ],
 "metadata": {
  "kernelspec": {
   "display_name": "Python 3",
   "language": "python",
   "name": "python3"
  },
  "language_info": {
   "codemirror_mode": {
    "name": "ipython",
    "version": 3
   },
   "file_extension": ".py",
   "mimetype": "text/x-python",
   "name": "python",
   "nbconvert_exporter": "python",
   "pygments_lexer": "ipython3",
   "version": "3.8.8"
  },
  "toc": {
   "base_numbering": 1,
   "nav_menu": {},
   "number_sections": true,
   "sideBar": true,
   "skip_h1_title": true,
   "title_cell": "Table of Contents",
   "title_sidebar": "Contents",
   "toc_cell": false,
   "toc_position": {
    "height": "calc(100% - 180px)",
    "left": "10px",
    "top": "150px",
    "width": "384px"
   },
   "toc_section_display": true,
   "toc_window_display": true
  }
 },
 "nbformat": 4,
 "nbformat_minor": 5
}
