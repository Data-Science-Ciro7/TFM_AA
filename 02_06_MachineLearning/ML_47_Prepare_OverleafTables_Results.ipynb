{
 "cells": [
  {
   "cell_type": "markdown",
   "id": "032c354d",
   "metadata": {},
   "source": [
    "# MODEL SELECTION - OVERLEAF TABLES"
   ]
  },
  {
   "cell_type": "markdown",
   "id": "e5bbad96",
   "metadata": {},
   "source": [
    "In this notebook we just prepare the tables to be written in Overleaf document.\n",
    "\n",
    "Probably, the LaTeX tables need some manual adjustment afterwards."
   ]
  },
  {
   "cell_type": "markdown",
   "id": "b85641bd",
   "metadata": {},
   "source": [
    "## Modules and configuration"
   ]
  },
  {
   "cell_type": "markdown",
   "id": "911e0260",
   "metadata": {},
   "source": [
    "### Modules"
   ]
  },
  {
   "cell_type": "code",
   "execution_count": 1,
   "id": "f4752b52",
   "metadata": {
    "ExecuteTime": {
     "end_time": "2023-02-25T10:38:48.703708Z",
     "start_time": "2023-02-25T10:38:47.536612Z"
    }
   },
   "outputs": [],
   "source": [
    "import pandas as pd\n",
    "\n",
    "import sys\n",
    "\n",
    "from collections import OrderedDict\n",
    "\n",
    "from sklearn.linear_model import Perceptron, LogisticRegression, PassiveAggressiveClassifier\n",
    "from sklearn.svm import SVC, NuSVC\n",
    "from sklearn.neighbors import KNeighborsClassifier\n",
    "from sklearn.gaussian_process import GaussianProcessClassifier\n",
    "from sklearn.tree import DecisionTreeClassifier\n",
    "from sklearn.ensemble import RandomForestClassifier, AdaBoostClassifier, \\\n",
    "    GradientBoostingClassifier, HistGradientBoostingClassifier\n",
    "\n",
    "from sklearn.gaussian_process.kernels import RBF, RationalQuadratic, DotProduct\n",
    "\n",
    "import pickle\n"
   ]
  },
  {
   "cell_type": "markdown",
   "id": "b7fa0037",
   "metadata": {},
   "source": [
    "### Configuration"
   ]
  },
  {
   "cell_type": "code",
   "execution_count": 40,
   "id": "ad7f2843",
   "metadata": {
    "ExecuteTime": {
     "end_time": "2023-02-25T11:21:10.631361Z",
     "start_time": "2023-02-25T11:21:10.519532Z"
    }
   },
   "outputs": [],
   "source": [
    "RANDOM_STATE = 11\n",
    "\n",
    "RESULTS_SUMMARY_FILE = \"ModelPreselection_PrecisionResults_OversampledSMOTE_n3.csv\"\n",
    "DEFAULT_MODELS_IN = \"Default_models.csv\"\n",
    "MODELS_FOLDER = \"../data/ML_MODELS/ML_model_preselection/\"\n",
    "\n",
    "\n",
    "OTS_CLF_GRIDS_OUT = \"ots_clf_param_grids_n3.pickle\"\n",
    "\n",
    "LATEX_INI_RESULTS_OUT = \"Default_results_n3_ML_preselect.tex\"\n",
    "LATEX_OPT_RESULTS_OUT = \"Opt_results_n3_ML_preselect.tex\"\n",
    "LATEX_PARAMGRID_OUT = \"Initial_param_grid_n3_ML_preselect.tex\"\n",
    "LATEX_DEFAULT_PARAMS_OUT = \"Default_params_n3_ML_preselect.tex\"\n",
    "LATEX_DEFAULT_MODELS_OUT = \"Default_models_n3_ML_preselect.tex\"\n",
    "\n",
    "OFF_THE_SHELF_CLASSIFIERS = OrderedDict({\n",
    "    'Perceptron': {\n",
    "        'clf': Perceptron(),\n",
    "        'param_grid': {'penalty': ['l1', 'l2', 'elasticnet'],\n",
    "                       'alpha': [0.001, 0.0001, 0.00001],\n",
    "                       'l1_ratio': [None, 0.075, 0.15, 0.30],\n",
    "                       'max_iter': [500, 1000, 2000],\n",
    "                       'random_state': [RANDOM_STATE]\n",
    "                      }\n",
    "    },\n",
    "    'LogisticRegression': {\n",
    "        'clf': LogisticRegression(),\n",
    "        'param_grid': {'penalty': ['l1', 'l2', 'elasticnet'],\n",
    "                       'C': [0.5, 1.0, 2.0],\n",
    "                       'l1_ratio': [None, 0.075, 0.15, 0.30],\n",
    "                       'solver': ['saga'],\n",
    "                       'max_iter': [50, 100, 200],\n",
    "                       'random_state': [RANDOM_STATE]\n",
    "                      }\n",
    "    },\n",
    "    'PassiveAggressiveClassifier': {\n",
    "        'clf': PassiveAggressiveClassifier(),\n",
    "        'param_grid': {'C': [0.5, 1.0, 2.0],\n",
    "                       'max_iter': [500, 1000, 2000],\n",
    "                       'loss': ['hinge', 'squared_hinge'],\n",
    "                       'random_state': [RANDOM_STATE]\n",
    "                      }\n",
    "    },\n",
    "    'SVC': {\n",
    "        'clf': SVC(),\n",
    "        'param_grid': {'C': [0.5, 1.0, 2.0],\n",
    "                       'kernel': ['linear', 'poly', 'rbf', 'sigmoid', 'recomputed'],\n",
    "                       'degree': [2, 3, 6],\n",
    "                       'random_state': [RANDOM_STATE]\n",
    "                      }\n",
    "    },\n",
    "    'KNeighborsClassifier': {\n",
    "        'clf': KNeighborsClassifier(),\n",
    "        'param_grid': {'n_neighbors': [1, 3, 5, 10],\n",
    "                       'weights': ['uniform', 'distance'],\n",
    "                       'algorithm': ['ball_tree', 'kd_tree', 'brute'],\n",
    "                       'p': [1, 2]\n",
    "                      }\n",
    "    },\n",
    "    'GaussianProcessClassifier': {\n",
    "        'clf': GaussianProcessClassifier(),\n",
    "        'param_grid': {'kernel': [RBF(), RationalQuadratic(), DotProduct()],\n",
    "                       'max_iter_predict': [50, 100, 200],\n",
    "                       'random_state': [RANDOM_STATE]\n",
    "                      }\n",
    "    },\n",
    "    'DecisionTreeClassifier': {\n",
    "        'clf': DecisionTreeClassifier(),\n",
    "        'param_grid': {'criterion': ['gini', 'entropy', 'log_loss'],\n",
    "                       'max_depth': [25, 50, 100],\n",
    "                       'min_samples_leaf': [5, 10, 20],\n",
    "                       'max_features': [None, 'sqrt', 'log2'],\n",
    "                       'ccp_alpha': [0.005, 0.015, 0.030],\n",
    "                       'random_state': [RANDOM_STATE]\n",
    "                      }\n",
    "    },\n",
    "    'RandomForestClassifier': {\n",
    "        'clf': RandomForestClassifier(),\n",
    "        'param_grid': {'n_estimators': [50, 100, 200],\n",
    "                       'criterion': ['gini', 'entropy', 'log_loss'],\n",
    "                       'max_depth': [25, 50, 100],\n",
    "                       'min_samples_leaf': [5, 10, 20],\n",
    "                       'max_features': [None, 'sqrt', 'log2'],\n",
    "                       'ccp_alpha': [0.005, 0.015, 0.030],\n",
    "                       'random_state': [RANDOM_STATE]\n",
    "                      }\n",
    "    },\n",
    "    'AdaBoostClassifier': {\n",
    "        'clf': AdaBoostClassifier(),\n",
    "        'param_grid': {'n_estimators': [25, 50, 100],\n",
    "                       'learning_rate': [0.5, 1.0, 2.0],\n",
    "                       'algorithm': ['SAMME', 'SAMME.R'],\n",
    "                       'random_state': [RANDOM_STATE]\n",
    "                      }\n",
    "    },\n",
    "    'GradientBoostingClassifier': {\n",
    "        'clf': GradientBoostingClassifier(),\n",
    "        'param_grid': {'loss': ['log_loss', 'deviance'],\n",
    "                       'learning_rate': [0.05, 0.1, 0.2],\n",
    "                       'n_estimators': [25, 50, 100],\n",
    "                       'criterion': ['friedman_mse', 'squared_error'],\n",
    "                       'max_depth': [25, 50, 100],\n",
    "                       'min_samples_leaf': [5, 10, 20],\n",
    "                       'ccp_alpha': [0.005, 0.015, 0.030],\n",
    "                       'random_state': [RANDOM_STATE]\n",
    "                      }\n",
    "    }\n",
    "})\n",
    "\n",
    "\n",
    "#S4_METADATA_FILE = \"../data/DATASETS_CESIUM/cesium_ML_FINAL_S4.csv\"\n",
    "#S4_RV_CURVES_INFO_FILE = \"../data/SYNTH_RV_SAMPLES/RV_FINAL_ML_SyntheticDatasets.csv\"\n",
    "\n",
    "#REL_FEATURES_IN = \"../data/ML_MODELS/ML_pipeline_steps/Reliable_features.pickle\"\n",
    "#UNREL_FEATURES_IN = \"../data/ML_MODELS/ML_pipeline_steps/Unreliable_features.pickle\"\n",
    "\n",
    "#MODELS_FOLDER = \"../data/ML_MODELS/ML_model_preselection/\"\n",
    "\n",
    "#ADD_META_COLUMNS = [\n",
    "#    'S3_sampling_idx', 'S3_Tobs', 'S3_Ps_mean', 'S3_Ps_median', 'S3_Ps_stdev', 'S3_NumPoints',\n",
    "#    'S2_errorRV_dist_idx', 'S2_errorRV_dist_name', 'S2_errorRV_dist_loc', 'S2_errorRV_dist_scale',\n",
    "#    'S4_errorRV_mean', 'S4_errorRV_median', 'S4_errorRV_stdev'\n",
    "#]\n",
    "\n",
    "#IMG_FOLDER = \"./img/\""
   ]
  },
  {
   "cell_type": "markdown",
   "id": "0a75aa17",
   "metadata": {},
   "source": [
    "### Functions"
   ]
  },
  {
   "cell_type": "markdown",
   "id": "1c358e4c",
   "metadata": {},
   "source": [
    "## Load data"
   ]
  },
  {
   "cell_type": "markdown",
   "id": "a9037b31",
   "metadata": {},
   "source": [
    "### Load default models"
   ]
  },
  {
   "cell_type": "code",
   "execution_count": 41,
   "id": "b150b4fb",
   "metadata": {
    "ExecuteTime": {
     "end_time": "2023-02-25T11:21:25.557212Z",
     "start_time": "2023-02-25T11:21:25.544246Z"
    }
   },
   "outputs": [
    {
     "data": {
      "text/html": [
       "<div>\n",
       "<style scoped>\n",
       "    .dataframe tbody tr th:only-of-type {\n",
       "        vertical-align: middle;\n",
       "    }\n",
       "\n",
       "    .dataframe tbody tr th {\n",
       "        vertical-align: top;\n",
       "    }\n",
       "\n",
       "    .dataframe thead th {\n",
       "        text-align: right;\n",
       "    }\n",
       "</style>\n",
       "<table border=\"1\" class=\"dataframe\">\n",
       "  <thead>\n",
       "    <tr style=\"text-align: right;\">\n",
       "      <th></th>\n",
       "      <th>Family</th>\n",
       "      <th>Classifier</th>\n",
       "    </tr>\n",
       "  </thead>\n",
       "  <tbody>\n",
       "    <tr>\n",
       "      <th>0</th>\n",
       "      <td>Linear models</td>\n",
       "      <td>Perceptron</td>\n",
       "    </tr>\n",
       "    <tr>\n",
       "      <th>1</th>\n",
       "      <td>Linear models</td>\n",
       "      <td>LogisticRegression</td>\n",
       "    </tr>\n",
       "    <tr>\n",
       "      <th>2</th>\n",
       "      <td>Linear models</td>\n",
       "      <td>PassiveAggressiveClassifier</td>\n",
       "    </tr>\n",
       "    <tr>\n",
       "      <th>3</th>\n",
       "      <td>Support Vector Machines</td>\n",
       "      <td>SVC</td>\n",
       "    </tr>\n",
       "    <tr>\n",
       "      <th>4</th>\n",
       "      <td>Nearest-Neighbors</td>\n",
       "      <td>KNeighborsClassifier</td>\n",
       "    </tr>\n",
       "    <tr>\n",
       "      <th>5</th>\n",
       "      <td>Gaussian Processes</td>\n",
       "      <td>GaussianProcessClassifier</td>\n",
       "    </tr>\n",
       "    <tr>\n",
       "      <th>6</th>\n",
       "      <td>Tree models</td>\n",
       "      <td>DecisionTreeClassifier</td>\n",
       "    </tr>\n",
       "    <tr>\n",
       "      <th>7</th>\n",
       "      <td>Ensemble models</td>\n",
       "      <td>RandomForestClassifier</td>\n",
       "    </tr>\n",
       "    <tr>\n",
       "      <th>8</th>\n",
       "      <td>Ensemble models</td>\n",
       "      <td>AdaBoostClassifier</td>\n",
       "    </tr>\n",
       "    <tr>\n",
       "      <th>9</th>\n",
       "      <td>Ensemble models</td>\n",
       "      <td>GradientBoostingClassifier</td>\n",
       "    </tr>\n",
       "  </tbody>\n",
       "</table>\n",
       "</div>"
      ],
      "text/plain": [
       "                    Family                   Classifier\n",
       "0            Linear models                   Perceptron\n",
       "1            Linear models           LogisticRegression\n",
       "2            Linear models  PassiveAggressiveClassifier\n",
       "3  Support Vector Machines                          SVC\n",
       "4        Nearest-Neighbors         KNeighborsClassifier\n",
       "5       Gaussian Processes    GaussianProcessClassifier\n",
       "6              Tree models       DecisionTreeClassifier\n",
       "7          Ensemble models       RandomForestClassifier\n",
       "8          Ensemble models           AdaBoostClassifier\n",
       "9          Ensemble models   GradientBoostingClassifier"
      ]
     },
     "execution_count": 41,
     "metadata": {},
     "output_type": "execute_result"
    }
   ],
   "source": [
    "models = pd.read_csv(MODELS_FOLDER + DEFAULT_MODELS_IN, sep=',', decimal='.')\n",
    "models"
   ]
  },
  {
   "cell_type": "markdown",
   "id": "a8c42c57",
   "metadata": {},
   "source": [
    "### Load results"
   ]
  },
  {
   "cell_type": "code",
   "execution_count": 42,
   "id": "1b83e1db",
   "metadata": {
    "ExecuteTime": {
     "end_time": "2023-02-25T11:21:25.838242Z",
     "start_time": "2023-02-25T11:21:25.831260Z"
    }
   },
   "outputs": [
    {
     "data": {
      "text/plain": [
       "'ModelPreselection_PrecisionResults_OversampledSMOTE_n3.csv'"
      ]
     },
     "execution_count": 42,
     "metadata": {},
     "output_type": "execute_result"
    }
   ],
   "source": [
    "RESULTS_SUMMARY_FILE"
   ]
  },
  {
   "cell_type": "code",
   "execution_count": 43,
   "id": "077fa94a",
   "metadata": {
    "ExecuteTime": {
     "end_time": "2023-02-25T11:21:25.991601Z",
     "start_time": "2023-02-25T11:21:25.968663Z"
    }
   },
   "outputs": [
    {
     "data": {
      "text/html": [
       "<div>\n",
       "<style scoped>\n",
       "    .dataframe tbody tr th:only-of-type {\n",
       "        vertical-align: middle;\n",
       "    }\n",
       "\n",
       "    .dataframe tbody tr th {\n",
       "        vertical-align: top;\n",
       "    }\n",
       "\n",
       "    .dataframe thead th {\n",
       "        text-align: right;\n",
       "    }\n",
       "</style>\n",
       "<table border=\"1\" class=\"dataframe\">\n",
       "  <thead>\n",
       "    <tr style=\"text-align: right;\">\n",
       "      <th></th>\n",
       "      <th>Classifier</th>\n",
       "      <th>BM_tr_precision</th>\n",
       "      <th>BM_val_precision</th>\n",
       "      <th>BMOPT_tr_precision</th>\n",
       "      <th>BMOPT_val_precision</th>\n",
       "    </tr>\n",
       "  </thead>\n",
       "  <tbody>\n",
       "    <tr>\n",
       "      <th>0</th>\n",
       "      <td>Perceptron</td>\n",
       "      <td>0.63</td>\n",
       "      <td>0.10</td>\n",
       "      <td>0.62</td>\n",
       "      <td>0.09</td>\n",
       "    </tr>\n",
       "    <tr>\n",
       "      <th>1</th>\n",
       "      <td>LogisticRegression</td>\n",
       "      <td>0.66</td>\n",
       "      <td>0.09</td>\n",
       "      <td>0.67</td>\n",
       "      <td>0.08</td>\n",
       "    </tr>\n",
       "    <tr>\n",
       "      <th>2</th>\n",
       "      <td>PassiveAggressiveClassifier</td>\n",
       "      <td>0.65</td>\n",
       "      <td>0.10</td>\n",
       "      <td>0.62</td>\n",
       "      <td>0.10</td>\n",
       "    </tr>\n",
       "    <tr>\n",
       "      <th>3</th>\n",
       "      <td>SVC</td>\n",
       "      <td>0.93</td>\n",
       "      <td>0.14</td>\n",
       "      <td>0.97</td>\n",
       "      <td>0.19</td>\n",
       "    </tr>\n",
       "    <tr>\n",
       "      <th>4</th>\n",
       "      <td>KNeighborsClassifier</td>\n",
       "      <td>0.77</td>\n",
       "      <td>0.11</td>\n",
       "      <td>1.00</td>\n",
       "      <td>0.12</td>\n",
       "    </tr>\n",
       "    <tr>\n",
       "      <th>5</th>\n",
       "      <td>GaussianProcessClassifier</td>\n",
       "      <td>1.00</td>\n",
       "      <td>0.11</td>\n",
       "      <td>0.98</td>\n",
       "      <td>0.13</td>\n",
       "    </tr>\n",
       "    <tr>\n",
       "      <th>6</th>\n",
       "      <td>DecisionTreeClassifier</td>\n",
       "      <td>1.00</td>\n",
       "      <td>0.08</td>\n",
       "      <td>0.95</td>\n",
       "      <td>0.12</td>\n",
       "    </tr>\n",
       "    <tr>\n",
       "      <th>7</th>\n",
       "      <td>RandomForestClassifier</td>\n",
       "      <td>1.00</td>\n",
       "      <td>0.20</td>\n",
       "      <td>0.99</td>\n",
       "      <td>0.06</td>\n",
       "    </tr>\n",
       "    <tr>\n",
       "      <th>8</th>\n",
       "      <td>AdaBoostClassifier</td>\n",
       "      <td>0.87</td>\n",
       "      <td>0.13</td>\n",
       "      <td>0.92</td>\n",
       "      <td>0.14</td>\n",
       "    </tr>\n",
       "    <tr>\n",
       "      <th>9</th>\n",
       "      <td>GradientBoostingClassifier</td>\n",
       "      <td>0.97</td>\n",
       "      <td>0.10</td>\n",
       "      <td>0.84</td>\n",
       "      <td>0.09</td>\n",
       "    </tr>\n",
       "  </tbody>\n",
       "</table>\n",
       "</div>"
      ],
      "text/plain": [
       "                    Classifier  BM_tr_precision  BM_val_precision  \\\n",
       "0                   Perceptron             0.63              0.10   \n",
       "1           LogisticRegression             0.66              0.09   \n",
       "2  PassiveAggressiveClassifier             0.65              0.10   \n",
       "3                          SVC             0.93              0.14   \n",
       "4         KNeighborsClassifier             0.77              0.11   \n",
       "5    GaussianProcessClassifier             1.00              0.11   \n",
       "6       DecisionTreeClassifier             1.00              0.08   \n",
       "7       RandomForestClassifier             1.00              0.20   \n",
       "8           AdaBoostClassifier             0.87              0.13   \n",
       "9   GradientBoostingClassifier             0.97              0.10   \n",
       "\n",
       "   BMOPT_tr_precision  BMOPT_val_precision  \n",
       "0                0.62                 0.09  \n",
       "1                0.67                 0.08  \n",
       "2                0.62                 0.10  \n",
       "3                0.97                 0.19  \n",
       "4                1.00                 0.12  \n",
       "5                0.98                 0.13  \n",
       "6                0.95                 0.12  \n",
       "7                0.99                 0.06  \n",
       "8                0.92                 0.14  \n",
       "9                0.84                 0.09  "
      ]
     },
     "execution_count": 43,
     "metadata": {},
     "output_type": "execute_result"
    }
   ],
   "source": [
    "results = pd.read_csv(MODELS_FOLDER + RESULTS_SUMMARY_FILE, sep=',', decimal='.')\n",
    "results"
   ]
  },
  {
   "cell_type": "markdown",
   "id": "a6583019",
   "metadata": {},
   "source": [
    "#### Separate initial results"
   ]
  },
  {
   "cell_type": "code",
   "execution_count": 44,
   "id": "0788c416",
   "metadata": {
    "ExecuteTime": {
     "end_time": "2023-02-25T11:21:26.269403Z",
     "start_time": "2023-02-25T11:21:26.248467Z"
    }
   },
   "outputs": [
    {
     "data": {
      "text/html": [
       "<div>\n",
       "<style scoped>\n",
       "    .dataframe tbody tr th:only-of-type {\n",
       "        vertical-align: middle;\n",
       "    }\n",
       "\n",
       "    .dataframe tbody tr th {\n",
       "        vertical-align: top;\n",
       "    }\n",
       "\n",
       "    .dataframe thead th {\n",
       "        text-align: right;\n",
       "    }\n",
       "</style>\n",
       "<table border=\"1\" class=\"dataframe\">\n",
       "  <thead>\n",
       "    <tr style=\"text-align: right;\">\n",
       "      <th></th>\n",
       "      <th>Classifier</th>\n",
       "      <th>BM_tr_precision</th>\n",
       "      <th>BM_val_precision</th>\n",
       "    </tr>\n",
       "  </thead>\n",
       "  <tbody>\n",
       "    <tr>\n",
       "      <th>0</th>\n",
       "      <td>Perceptron</td>\n",
       "      <td>0.63</td>\n",
       "      <td>0.10</td>\n",
       "    </tr>\n",
       "    <tr>\n",
       "      <th>1</th>\n",
       "      <td>LogisticRegression</td>\n",
       "      <td>0.66</td>\n",
       "      <td>0.09</td>\n",
       "    </tr>\n",
       "    <tr>\n",
       "      <th>2</th>\n",
       "      <td>PassiveAggressiveClassifier</td>\n",
       "      <td>0.65</td>\n",
       "      <td>0.10</td>\n",
       "    </tr>\n",
       "    <tr>\n",
       "      <th>3</th>\n",
       "      <td>SVC</td>\n",
       "      <td>0.93</td>\n",
       "      <td>0.14</td>\n",
       "    </tr>\n",
       "    <tr>\n",
       "      <th>4</th>\n",
       "      <td>KNeighborsClassifier</td>\n",
       "      <td>0.77</td>\n",
       "      <td>0.11</td>\n",
       "    </tr>\n",
       "    <tr>\n",
       "      <th>5</th>\n",
       "      <td>GaussianProcessClassifier</td>\n",
       "      <td>1.00</td>\n",
       "      <td>0.11</td>\n",
       "    </tr>\n",
       "    <tr>\n",
       "      <th>6</th>\n",
       "      <td>DecisionTreeClassifier</td>\n",
       "      <td>1.00</td>\n",
       "      <td>0.08</td>\n",
       "    </tr>\n",
       "    <tr>\n",
       "      <th>7</th>\n",
       "      <td>RandomForestClassifier</td>\n",
       "      <td>1.00</td>\n",
       "      <td>0.20</td>\n",
       "    </tr>\n",
       "    <tr>\n",
       "      <th>8</th>\n",
       "      <td>AdaBoostClassifier</td>\n",
       "      <td>0.87</td>\n",
       "      <td>0.13</td>\n",
       "    </tr>\n",
       "    <tr>\n",
       "      <th>9</th>\n",
       "      <td>GradientBoostingClassifier</td>\n",
       "      <td>0.97</td>\n",
       "      <td>0.10</td>\n",
       "    </tr>\n",
       "  </tbody>\n",
       "</table>\n",
       "</div>"
      ],
      "text/plain": [
       "                    Classifier  BM_tr_precision  BM_val_precision\n",
       "0                   Perceptron             0.63              0.10\n",
       "1           LogisticRegression             0.66              0.09\n",
       "2  PassiveAggressiveClassifier             0.65              0.10\n",
       "3                          SVC             0.93              0.14\n",
       "4         KNeighborsClassifier             0.77              0.11\n",
       "5    GaussianProcessClassifier             1.00              0.11\n",
       "6       DecisionTreeClassifier             1.00              0.08\n",
       "7       RandomForestClassifier             1.00              0.20\n",
       "8           AdaBoostClassifier             0.87              0.13\n",
       "9   GradientBoostingClassifier             0.97              0.10"
      ]
     },
     "execution_count": 44,
     "metadata": {},
     "output_type": "execute_result"
    }
   ],
   "source": [
    "initial_results = results[['Classifier', 'BM_tr_precision', 'BM_val_precision']].copy()\n",
    "initial_results"
   ]
  },
  {
   "cell_type": "code",
   "execution_count": 45,
   "id": "f2cf794a",
   "metadata": {
    "ExecuteTime": {
     "end_time": "2023-02-25T11:21:26.407426Z",
     "start_time": "2023-02-25T11:21:26.392440Z"
    }
   },
   "outputs": [
    {
     "data": {
      "text/html": [
       "<div>\n",
       "<style scoped>\n",
       "    .dataframe tbody tr th:only-of-type {\n",
       "        vertical-align: middle;\n",
       "    }\n",
       "\n",
       "    .dataframe tbody tr th {\n",
       "        vertical-align: top;\n",
       "    }\n",
       "\n",
       "    .dataframe thead th {\n",
       "        text-align: right;\n",
       "    }\n",
       "</style>\n",
       "<table border=\"1\" class=\"dataframe\">\n",
       "  <thead>\n",
       "    <tr style=\"text-align: right;\">\n",
       "      <th></th>\n",
       "      <th>Classifier</th>\n",
       "      <th>Training sample</th>\n",
       "      <th>Validation sample</th>\n",
       "    </tr>\n",
       "  </thead>\n",
       "  <tbody>\n",
       "    <tr>\n",
       "      <th>0</th>\n",
       "      <td>Perceptron</td>\n",
       "      <td>0.63</td>\n",
       "      <td>0.10</td>\n",
       "    </tr>\n",
       "    <tr>\n",
       "      <th>1</th>\n",
       "      <td>LogisticRegression</td>\n",
       "      <td>0.66</td>\n",
       "      <td>0.09</td>\n",
       "    </tr>\n",
       "    <tr>\n",
       "      <th>2</th>\n",
       "      <td>PassiveAggressiveClassifier</td>\n",
       "      <td>0.65</td>\n",
       "      <td>0.10</td>\n",
       "    </tr>\n",
       "    <tr>\n",
       "      <th>3</th>\n",
       "      <td>SVC</td>\n",
       "      <td>0.93</td>\n",
       "      <td>0.14</td>\n",
       "    </tr>\n",
       "    <tr>\n",
       "      <th>4</th>\n",
       "      <td>KNeighborsClassifier</td>\n",
       "      <td>0.77</td>\n",
       "      <td>0.11</td>\n",
       "    </tr>\n",
       "    <tr>\n",
       "      <th>5</th>\n",
       "      <td>GaussianProcessClassifier</td>\n",
       "      <td>1.00</td>\n",
       "      <td>0.11</td>\n",
       "    </tr>\n",
       "    <tr>\n",
       "      <th>6</th>\n",
       "      <td>DecisionTreeClassifier</td>\n",
       "      <td>1.00</td>\n",
       "      <td>0.08</td>\n",
       "    </tr>\n",
       "    <tr>\n",
       "      <th>7</th>\n",
       "      <td>RandomForestClassifier</td>\n",
       "      <td>1.00</td>\n",
       "      <td>0.20</td>\n",
       "    </tr>\n",
       "    <tr>\n",
       "      <th>8</th>\n",
       "      <td>AdaBoostClassifier</td>\n",
       "      <td>0.87</td>\n",
       "      <td>0.13</td>\n",
       "    </tr>\n",
       "    <tr>\n",
       "      <th>9</th>\n",
       "      <td>GradientBoostingClassifier</td>\n",
       "      <td>0.97</td>\n",
       "      <td>0.10</td>\n",
       "    </tr>\n",
       "  </tbody>\n",
       "</table>\n",
       "</div>"
      ],
      "text/plain": [
       "                    Classifier  Training sample  Validation sample\n",
       "0                   Perceptron             0.63               0.10\n",
       "1           LogisticRegression             0.66               0.09\n",
       "2  PassiveAggressiveClassifier             0.65               0.10\n",
       "3                          SVC             0.93               0.14\n",
       "4         KNeighborsClassifier             0.77               0.11\n",
       "5    GaussianProcessClassifier             1.00               0.11\n",
       "6       DecisionTreeClassifier             1.00               0.08\n",
       "7       RandomForestClassifier             1.00               0.20\n",
       "8           AdaBoostClassifier             0.87               0.13\n",
       "9   GradientBoostingClassifier             0.97               0.10"
      ]
     },
     "execution_count": 45,
     "metadata": {},
     "output_type": "execute_result"
    }
   ],
   "source": [
    "initial_results.rename(columns={'BM_tr_precision': 'Training sample', 'BM_val_precision': 'Validation sample'},\n",
    "                       inplace=True)\n",
    "initial_results"
   ]
  },
  {
   "cell_type": "code",
   "execution_count": 46,
   "id": "460e22b2",
   "metadata": {
    "ExecuteTime": {
     "end_time": "2023-02-25T11:21:26.547413Z",
     "start_time": "2023-02-25T11:21:26.536442Z"
    }
   },
   "outputs": [
    {
     "data": {
      "text/html": [
       "<div>\n",
       "<style scoped>\n",
       "    .dataframe tbody tr th:only-of-type {\n",
       "        vertical-align: middle;\n",
       "    }\n",
       "\n",
       "    .dataframe tbody tr th {\n",
       "        vertical-align: top;\n",
       "    }\n",
       "\n",
       "    .dataframe thead th {\n",
       "        text-align: right;\n",
       "    }\n",
       "</style>\n",
       "<table border=\"1\" class=\"dataframe\">\n",
       "  <thead>\n",
       "    <tr style=\"text-align: right;\">\n",
       "      <th></th>\n",
       "      <th>Classifier</th>\n",
       "      <th>Training sample</th>\n",
       "      <th>Validation sample</th>\n",
       "    </tr>\n",
       "  </thead>\n",
       "  <tbody>\n",
       "    <tr>\n",
       "      <th>0</th>\n",
       "      <td>Perceptron</td>\n",
       "      <td>0.63</td>\n",
       "      <td>0.10</td>\n",
       "    </tr>\n",
       "    <tr>\n",
       "      <th>1</th>\n",
       "      <td>LogisticRegression</td>\n",
       "      <td>0.66</td>\n",
       "      <td>0.09</td>\n",
       "    </tr>\n",
       "    <tr>\n",
       "      <th>2</th>\n",
       "      <td>PassiveAggressiveClassifier</td>\n",
       "      <td>0.65</td>\n",
       "      <td>0.10</td>\n",
       "    </tr>\n",
       "    <tr>\n",
       "      <th>3</th>\n",
       "      <td>SVC</td>\n",
       "      <td>0.93</td>\n",
       "      <td>0.14</td>\n",
       "    </tr>\n",
       "    <tr>\n",
       "      <th>4</th>\n",
       "      <td>KNeighborsClassifier</td>\n",
       "      <td>0.77</td>\n",
       "      <td>0.11</td>\n",
       "    </tr>\n",
       "    <tr>\n",
       "      <th>5</th>\n",
       "      <td>GaussianProcessClassifier</td>\n",
       "      <td>1.00</td>\n",
       "      <td>0.11</td>\n",
       "    </tr>\n",
       "    <tr>\n",
       "      <th>6</th>\n",
       "      <td>DecisionTreeClassifier</td>\n",
       "      <td>1.00</td>\n",
       "      <td>0.08</td>\n",
       "    </tr>\n",
       "    <tr>\n",
       "      <th>7</th>\n",
       "      <td>RandomForestClassifier</td>\n",
       "      <td>1.00</td>\n",
       "      <td>0.20</td>\n",
       "    </tr>\n",
       "    <tr>\n",
       "      <th>8</th>\n",
       "      <td>AdaBoostClassifier</td>\n",
       "      <td>0.87</td>\n",
       "      <td>0.13</td>\n",
       "    </tr>\n",
       "    <tr>\n",
       "      <th>9</th>\n",
       "      <td>GradientBoostingClassifier</td>\n",
       "      <td>0.97</td>\n",
       "      <td>0.10</td>\n",
       "    </tr>\n",
       "  </tbody>\n",
       "</table>\n",
       "</div>"
      ],
      "text/plain": [
       "                    Classifier  Training sample  Validation sample\n",
       "0                   Perceptron             0.63               0.10\n",
       "1           LogisticRegression             0.66               0.09\n",
       "2  PassiveAggressiveClassifier             0.65               0.10\n",
       "3                          SVC             0.93               0.14\n",
       "4         KNeighborsClassifier             0.77               0.11\n",
       "5    GaussianProcessClassifier             1.00               0.11\n",
       "6       DecisionTreeClassifier             1.00               0.08\n",
       "7       RandomForestClassifier             1.00               0.20\n",
       "8           AdaBoostClassifier             0.87               0.13\n",
       "9   GradientBoostingClassifier             0.97               0.10"
      ]
     },
     "execution_count": 46,
     "metadata": {},
     "output_type": "execute_result"
    }
   ],
   "source": [
    "initial_results"
   ]
  },
  {
   "cell_type": "raw",
   "id": "054714e9",
   "metadata": {
    "ExecuteTime": {
     "end_time": "2023-02-25T09:58:56.233739Z",
     "start_time": "2023-02-25T09:58:56.214800Z"
    }
   },
   "source": [
    "initial_results.set_index(['Classifier'], inplace=True)\n",
    "initial_results"
   ]
  },
  {
   "cell_type": "code",
   "execution_count": 47,
   "id": "17018ee0",
   "metadata": {
    "ExecuteTime": {
     "end_time": "2023-02-25T11:21:26.845054Z",
     "start_time": "2023-02-25T11:21:26.836060Z"
    }
   },
   "outputs": [
    {
     "data": {
      "text/html": [
       "<div>\n",
       "<style scoped>\n",
       "    .dataframe tbody tr th:only-of-type {\n",
       "        vertical-align: middle;\n",
       "    }\n",
       "\n",
       "    .dataframe tbody tr th {\n",
       "        vertical-align: top;\n",
       "    }\n",
       "\n",
       "    .dataframe thead tr th {\n",
       "        text-align: left;\n",
       "    }\n",
       "</style>\n",
       "<table border=\"1\" class=\"dataframe\">\n",
       "  <thead>\n",
       "    <tr>\n",
       "      <th></th>\n",
       "      <th colspan=\"3\" halign=\"left\">Default models</th>\n",
       "    </tr>\n",
       "    <tr>\n",
       "      <th></th>\n",
       "      <th>Classifier</th>\n",
       "      <th>Training sample</th>\n",
       "      <th>Validation sample</th>\n",
       "    </tr>\n",
       "  </thead>\n",
       "  <tbody>\n",
       "    <tr>\n",
       "      <th>0</th>\n",
       "      <td>Perceptron</td>\n",
       "      <td>0.63</td>\n",
       "      <td>0.10</td>\n",
       "    </tr>\n",
       "    <tr>\n",
       "      <th>1</th>\n",
       "      <td>LogisticRegression</td>\n",
       "      <td>0.66</td>\n",
       "      <td>0.09</td>\n",
       "    </tr>\n",
       "    <tr>\n",
       "      <th>2</th>\n",
       "      <td>PassiveAggressiveClassifier</td>\n",
       "      <td>0.65</td>\n",
       "      <td>0.10</td>\n",
       "    </tr>\n",
       "    <tr>\n",
       "      <th>3</th>\n",
       "      <td>SVC</td>\n",
       "      <td>0.93</td>\n",
       "      <td>0.14</td>\n",
       "    </tr>\n",
       "    <tr>\n",
       "      <th>4</th>\n",
       "      <td>KNeighborsClassifier</td>\n",
       "      <td>0.77</td>\n",
       "      <td>0.11</td>\n",
       "    </tr>\n",
       "    <tr>\n",
       "      <th>5</th>\n",
       "      <td>GaussianProcessClassifier</td>\n",
       "      <td>1.00</td>\n",
       "      <td>0.11</td>\n",
       "    </tr>\n",
       "    <tr>\n",
       "      <th>6</th>\n",
       "      <td>DecisionTreeClassifier</td>\n",
       "      <td>1.00</td>\n",
       "      <td>0.08</td>\n",
       "    </tr>\n",
       "    <tr>\n",
       "      <th>7</th>\n",
       "      <td>RandomForestClassifier</td>\n",
       "      <td>1.00</td>\n",
       "      <td>0.20</td>\n",
       "    </tr>\n",
       "    <tr>\n",
       "      <th>8</th>\n",
       "      <td>AdaBoostClassifier</td>\n",
       "      <td>0.87</td>\n",
       "      <td>0.13</td>\n",
       "    </tr>\n",
       "    <tr>\n",
       "      <th>9</th>\n",
       "      <td>GradientBoostingClassifier</td>\n",
       "      <td>0.97</td>\n",
       "      <td>0.10</td>\n",
       "    </tr>\n",
       "  </tbody>\n",
       "</table>\n",
       "</div>"
      ],
      "text/plain": [
       "                Default models                                  \n",
       "                    Classifier Training sample Validation sample\n",
       "0                   Perceptron            0.63              0.10\n",
       "1           LogisticRegression            0.66              0.09\n",
       "2  PassiveAggressiveClassifier            0.65              0.10\n",
       "3                          SVC            0.93              0.14\n",
       "4         KNeighborsClassifier            0.77              0.11\n",
       "5    GaussianProcessClassifier            1.00              0.11\n",
       "6       DecisionTreeClassifier            1.00              0.08\n",
       "7       RandomForestClassifier            1.00              0.20\n",
       "8           AdaBoostClassifier            0.87              0.13\n",
       "9   GradientBoostingClassifier            0.97              0.10"
      ]
     },
     "execution_count": 47,
     "metadata": {},
     "output_type": "execute_result"
    }
   ],
   "source": [
    "initial_results.columns = pd.MultiIndex.from_product([['Default models'],\n",
    "                                                     initial_results.columns])\n",
    "initial_results"
   ]
  },
  {
   "cell_type": "markdown",
   "id": "e9cf4c8f",
   "metadata": {},
   "source": [
    "#### Separate optimized results"
   ]
  },
  {
   "cell_type": "code",
   "execution_count": 48,
   "id": "4c24152a",
   "metadata": {
    "ExecuteTime": {
     "end_time": "2023-02-25T11:21:27.154645Z",
     "start_time": "2023-02-25T11:21:27.135696Z"
    }
   },
   "outputs": [
    {
     "data": {
      "text/html": [
       "<div>\n",
       "<style scoped>\n",
       "    .dataframe tbody tr th:only-of-type {\n",
       "        vertical-align: middle;\n",
       "    }\n",
       "\n",
       "    .dataframe tbody tr th {\n",
       "        vertical-align: top;\n",
       "    }\n",
       "\n",
       "    .dataframe thead th {\n",
       "        text-align: right;\n",
       "    }\n",
       "</style>\n",
       "<table border=\"1\" class=\"dataframe\">\n",
       "  <thead>\n",
       "    <tr style=\"text-align: right;\">\n",
       "      <th></th>\n",
       "      <th>Classifier</th>\n",
       "      <th>BMOPT_tr_precision</th>\n",
       "      <th>BMOPT_val_precision</th>\n",
       "    </tr>\n",
       "  </thead>\n",
       "  <tbody>\n",
       "    <tr>\n",
       "      <th>0</th>\n",
       "      <td>Perceptron</td>\n",
       "      <td>0.62</td>\n",
       "      <td>0.09</td>\n",
       "    </tr>\n",
       "    <tr>\n",
       "      <th>1</th>\n",
       "      <td>LogisticRegression</td>\n",
       "      <td>0.67</td>\n",
       "      <td>0.08</td>\n",
       "    </tr>\n",
       "    <tr>\n",
       "      <th>2</th>\n",
       "      <td>PassiveAggressiveClassifier</td>\n",
       "      <td>0.62</td>\n",
       "      <td>0.10</td>\n",
       "    </tr>\n",
       "    <tr>\n",
       "      <th>3</th>\n",
       "      <td>SVC</td>\n",
       "      <td>0.97</td>\n",
       "      <td>0.19</td>\n",
       "    </tr>\n",
       "    <tr>\n",
       "      <th>4</th>\n",
       "      <td>KNeighborsClassifier</td>\n",
       "      <td>1.00</td>\n",
       "      <td>0.12</td>\n",
       "    </tr>\n",
       "    <tr>\n",
       "      <th>5</th>\n",
       "      <td>GaussianProcessClassifier</td>\n",
       "      <td>0.98</td>\n",
       "      <td>0.13</td>\n",
       "    </tr>\n",
       "    <tr>\n",
       "      <th>6</th>\n",
       "      <td>DecisionTreeClassifier</td>\n",
       "      <td>0.95</td>\n",
       "      <td>0.12</td>\n",
       "    </tr>\n",
       "    <tr>\n",
       "      <th>7</th>\n",
       "      <td>RandomForestClassifier</td>\n",
       "      <td>0.99</td>\n",
       "      <td>0.06</td>\n",
       "    </tr>\n",
       "    <tr>\n",
       "      <th>8</th>\n",
       "      <td>AdaBoostClassifier</td>\n",
       "      <td>0.92</td>\n",
       "      <td>0.14</td>\n",
       "    </tr>\n",
       "    <tr>\n",
       "      <th>9</th>\n",
       "      <td>GradientBoostingClassifier</td>\n",
       "      <td>0.84</td>\n",
       "      <td>0.09</td>\n",
       "    </tr>\n",
       "  </tbody>\n",
       "</table>\n",
       "</div>"
      ],
      "text/plain": [
       "                    Classifier  BMOPT_tr_precision  BMOPT_val_precision\n",
       "0                   Perceptron                0.62                 0.09\n",
       "1           LogisticRegression                0.67                 0.08\n",
       "2  PassiveAggressiveClassifier                0.62                 0.10\n",
       "3                          SVC                0.97                 0.19\n",
       "4         KNeighborsClassifier                1.00                 0.12\n",
       "5    GaussianProcessClassifier                0.98                 0.13\n",
       "6       DecisionTreeClassifier                0.95                 0.12\n",
       "7       RandomForestClassifier                0.99                 0.06\n",
       "8           AdaBoostClassifier                0.92                 0.14\n",
       "9   GradientBoostingClassifier                0.84                 0.09"
      ]
     },
     "execution_count": 48,
     "metadata": {},
     "output_type": "execute_result"
    }
   ],
   "source": [
    "opt_results = results[['Classifier', 'BMOPT_tr_precision', 'BMOPT_val_precision']].copy()\n",
    "opt_results"
   ]
  },
  {
   "cell_type": "code",
   "execution_count": 49,
   "id": "618b1d53",
   "metadata": {
    "ExecuteTime": {
     "end_time": "2023-02-25T11:21:27.542063Z",
     "start_time": "2023-02-25T11:21:27.520121Z"
    }
   },
   "outputs": [
    {
     "data": {
      "text/html": [
       "<div>\n",
       "<style scoped>\n",
       "    .dataframe tbody tr th:only-of-type {\n",
       "        vertical-align: middle;\n",
       "    }\n",
       "\n",
       "    .dataframe tbody tr th {\n",
       "        vertical-align: top;\n",
       "    }\n",
       "\n",
       "    .dataframe thead th {\n",
       "        text-align: right;\n",
       "    }\n",
       "</style>\n",
       "<table border=\"1\" class=\"dataframe\">\n",
       "  <thead>\n",
       "    <tr style=\"text-align: right;\">\n",
       "      <th></th>\n",
       "      <th>Classifier</th>\n",
       "      <th>Training sample</th>\n",
       "      <th>Validation sample</th>\n",
       "    </tr>\n",
       "  </thead>\n",
       "  <tbody>\n",
       "    <tr>\n",
       "      <th>0</th>\n",
       "      <td>Perceptron</td>\n",
       "      <td>0.62</td>\n",
       "      <td>0.09</td>\n",
       "    </tr>\n",
       "    <tr>\n",
       "      <th>1</th>\n",
       "      <td>LogisticRegression</td>\n",
       "      <td>0.67</td>\n",
       "      <td>0.08</td>\n",
       "    </tr>\n",
       "    <tr>\n",
       "      <th>2</th>\n",
       "      <td>PassiveAggressiveClassifier</td>\n",
       "      <td>0.62</td>\n",
       "      <td>0.10</td>\n",
       "    </tr>\n",
       "    <tr>\n",
       "      <th>3</th>\n",
       "      <td>SVC</td>\n",
       "      <td>0.97</td>\n",
       "      <td>0.19</td>\n",
       "    </tr>\n",
       "    <tr>\n",
       "      <th>4</th>\n",
       "      <td>KNeighborsClassifier</td>\n",
       "      <td>1.00</td>\n",
       "      <td>0.12</td>\n",
       "    </tr>\n",
       "    <tr>\n",
       "      <th>5</th>\n",
       "      <td>GaussianProcessClassifier</td>\n",
       "      <td>0.98</td>\n",
       "      <td>0.13</td>\n",
       "    </tr>\n",
       "    <tr>\n",
       "      <th>6</th>\n",
       "      <td>DecisionTreeClassifier</td>\n",
       "      <td>0.95</td>\n",
       "      <td>0.12</td>\n",
       "    </tr>\n",
       "    <tr>\n",
       "      <th>7</th>\n",
       "      <td>RandomForestClassifier</td>\n",
       "      <td>0.99</td>\n",
       "      <td>0.06</td>\n",
       "    </tr>\n",
       "    <tr>\n",
       "      <th>8</th>\n",
       "      <td>AdaBoostClassifier</td>\n",
       "      <td>0.92</td>\n",
       "      <td>0.14</td>\n",
       "    </tr>\n",
       "    <tr>\n",
       "      <th>9</th>\n",
       "      <td>GradientBoostingClassifier</td>\n",
       "      <td>0.84</td>\n",
       "      <td>0.09</td>\n",
       "    </tr>\n",
       "  </tbody>\n",
       "</table>\n",
       "</div>"
      ],
      "text/plain": [
       "                    Classifier  Training sample  Validation sample\n",
       "0                   Perceptron             0.62               0.09\n",
       "1           LogisticRegression             0.67               0.08\n",
       "2  PassiveAggressiveClassifier             0.62               0.10\n",
       "3                          SVC             0.97               0.19\n",
       "4         KNeighborsClassifier             1.00               0.12\n",
       "5    GaussianProcessClassifier             0.98               0.13\n",
       "6       DecisionTreeClassifier             0.95               0.12\n",
       "7       RandomForestClassifier             0.99               0.06\n",
       "8           AdaBoostClassifier             0.92               0.14\n",
       "9   GradientBoostingClassifier             0.84               0.09"
      ]
     },
     "execution_count": 49,
     "metadata": {},
     "output_type": "execute_result"
    }
   ],
   "source": [
    "opt_results.rename(columns={'BMOPT_tr_precision': 'Training sample', 'BMOPT_val_precision': 'Validation sample'},\n",
    "                       inplace=True)\n",
    "opt_results"
   ]
  },
  {
   "cell_type": "code",
   "execution_count": 50,
   "id": "908b8710",
   "metadata": {
    "ExecuteTime": {
     "end_time": "2023-02-25T11:21:27.959038Z",
     "start_time": "2023-02-25T11:21:27.943079Z"
    }
   },
   "outputs": [
    {
     "data": {
      "text/html": [
       "<div>\n",
       "<style scoped>\n",
       "    .dataframe tbody tr th:only-of-type {\n",
       "        vertical-align: middle;\n",
       "    }\n",
       "\n",
       "    .dataframe tbody tr th {\n",
       "        vertical-align: top;\n",
       "    }\n",
       "\n",
       "    .dataframe thead th {\n",
       "        text-align: right;\n",
       "    }\n",
       "</style>\n",
       "<table border=\"1\" class=\"dataframe\">\n",
       "  <thead>\n",
       "    <tr style=\"text-align: right;\">\n",
       "      <th></th>\n",
       "      <th>Classifier</th>\n",
       "      <th>Training sample</th>\n",
       "      <th>Validation sample</th>\n",
       "    </tr>\n",
       "  </thead>\n",
       "  <tbody>\n",
       "    <tr>\n",
       "      <th>0</th>\n",
       "      <td>Perceptron</td>\n",
       "      <td>0.62</td>\n",
       "      <td>0.09</td>\n",
       "    </tr>\n",
       "    <tr>\n",
       "      <th>1</th>\n",
       "      <td>LogisticRegression</td>\n",
       "      <td>0.67</td>\n",
       "      <td>0.08</td>\n",
       "    </tr>\n",
       "    <tr>\n",
       "      <th>2</th>\n",
       "      <td>PassiveAggressiveClassifier</td>\n",
       "      <td>0.62</td>\n",
       "      <td>0.10</td>\n",
       "    </tr>\n",
       "    <tr>\n",
       "      <th>3</th>\n",
       "      <td>SVC</td>\n",
       "      <td>0.97</td>\n",
       "      <td>0.19</td>\n",
       "    </tr>\n",
       "    <tr>\n",
       "      <th>4</th>\n",
       "      <td>KNeighborsClassifier</td>\n",
       "      <td>1.00</td>\n",
       "      <td>0.12</td>\n",
       "    </tr>\n",
       "    <tr>\n",
       "      <th>5</th>\n",
       "      <td>GaussianProcessClassifier</td>\n",
       "      <td>0.98</td>\n",
       "      <td>0.13</td>\n",
       "    </tr>\n",
       "    <tr>\n",
       "      <th>6</th>\n",
       "      <td>DecisionTreeClassifier</td>\n",
       "      <td>0.95</td>\n",
       "      <td>0.12</td>\n",
       "    </tr>\n",
       "    <tr>\n",
       "      <th>7</th>\n",
       "      <td>RandomForestClassifier</td>\n",
       "      <td>0.99</td>\n",
       "      <td>0.06</td>\n",
       "    </tr>\n",
       "    <tr>\n",
       "      <th>8</th>\n",
       "      <td>AdaBoostClassifier</td>\n",
       "      <td>0.92</td>\n",
       "      <td>0.14</td>\n",
       "    </tr>\n",
       "    <tr>\n",
       "      <th>9</th>\n",
       "      <td>GradientBoostingClassifier</td>\n",
       "      <td>0.84</td>\n",
       "      <td>0.09</td>\n",
       "    </tr>\n",
       "  </tbody>\n",
       "</table>\n",
       "</div>"
      ],
      "text/plain": [
       "                    Classifier  Training sample  Validation sample\n",
       "0                   Perceptron             0.62               0.09\n",
       "1           LogisticRegression             0.67               0.08\n",
       "2  PassiveAggressiveClassifier             0.62               0.10\n",
       "3                          SVC             0.97               0.19\n",
       "4         KNeighborsClassifier             1.00               0.12\n",
       "5    GaussianProcessClassifier             0.98               0.13\n",
       "6       DecisionTreeClassifier             0.95               0.12\n",
       "7       RandomForestClassifier             0.99               0.06\n",
       "8           AdaBoostClassifier             0.92               0.14\n",
       "9   GradientBoostingClassifier             0.84               0.09"
      ]
     },
     "execution_count": 50,
     "metadata": {},
     "output_type": "execute_result"
    }
   ],
   "source": [
    "opt_results"
   ]
  },
  {
   "cell_type": "raw",
   "id": "e48d2b6e",
   "metadata": {
    "ExecuteTime": {
     "end_time": "2023-02-25T09:58:56.233739Z",
     "start_time": "2023-02-25T09:58:56.214800Z"
    }
   },
   "source": [
    "opt_results.set_index(['Classifier'], inplace=True)\n",
    "opt_results"
   ]
  },
  {
   "cell_type": "code",
   "execution_count": 51,
   "id": "14ba980d",
   "metadata": {
    "ExecuteTime": {
     "end_time": "2023-02-25T11:21:28.859339Z",
     "start_time": "2023-02-25T11:21:28.848371Z"
    }
   },
   "outputs": [
    {
     "data": {
      "text/html": [
       "<div>\n",
       "<style scoped>\n",
       "    .dataframe tbody tr th:only-of-type {\n",
       "        vertical-align: middle;\n",
       "    }\n",
       "\n",
       "    .dataframe tbody tr th {\n",
       "        vertical-align: top;\n",
       "    }\n",
       "\n",
       "    .dataframe thead tr th {\n",
       "        text-align: left;\n",
       "    }\n",
       "</style>\n",
       "<table border=\"1\" class=\"dataframe\">\n",
       "  <thead>\n",
       "    <tr>\n",
       "      <th></th>\n",
       "      <th colspan=\"3\" halign=\"left\">Optimized models</th>\n",
       "    </tr>\n",
       "    <tr>\n",
       "      <th></th>\n",
       "      <th>Classifier</th>\n",
       "      <th>Training sample</th>\n",
       "      <th>Validation sample</th>\n",
       "    </tr>\n",
       "  </thead>\n",
       "  <tbody>\n",
       "    <tr>\n",
       "      <th>0</th>\n",
       "      <td>Perceptron</td>\n",
       "      <td>0.62</td>\n",
       "      <td>0.09</td>\n",
       "    </tr>\n",
       "    <tr>\n",
       "      <th>1</th>\n",
       "      <td>LogisticRegression</td>\n",
       "      <td>0.67</td>\n",
       "      <td>0.08</td>\n",
       "    </tr>\n",
       "    <tr>\n",
       "      <th>2</th>\n",
       "      <td>PassiveAggressiveClassifier</td>\n",
       "      <td>0.62</td>\n",
       "      <td>0.10</td>\n",
       "    </tr>\n",
       "    <tr>\n",
       "      <th>3</th>\n",
       "      <td>SVC</td>\n",
       "      <td>0.97</td>\n",
       "      <td>0.19</td>\n",
       "    </tr>\n",
       "    <tr>\n",
       "      <th>4</th>\n",
       "      <td>KNeighborsClassifier</td>\n",
       "      <td>1.00</td>\n",
       "      <td>0.12</td>\n",
       "    </tr>\n",
       "    <tr>\n",
       "      <th>5</th>\n",
       "      <td>GaussianProcessClassifier</td>\n",
       "      <td>0.98</td>\n",
       "      <td>0.13</td>\n",
       "    </tr>\n",
       "    <tr>\n",
       "      <th>6</th>\n",
       "      <td>DecisionTreeClassifier</td>\n",
       "      <td>0.95</td>\n",
       "      <td>0.12</td>\n",
       "    </tr>\n",
       "    <tr>\n",
       "      <th>7</th>\n",
       "      <td>RandomForestClassifier</td>\n",
       "      <td>0.99</td>\n",
       "      <td>0.06</td>\n",
       "    </tr>\n",
       "    <tr>\n",
       "      <th>8</th>\n",
       "      <td>AdaBoostClassifier</td>\n",
       "      <td>0.92</td>\n",
       "      <td>0.14</td>\n",
       "    </tr>\n",
       "    <tr>\n",
       "      <th>9</th>\n",
       "      <td>GradientBoostingClassifier</td>\n",
       "      <td>0.84</td>\n",
       "      <td>0.09</td>\n",
       "    </tr>\n",
       "  </tbody>\n",
       "</table>\n",
       "</div>"
      ],
      "text/plain": [
       "              Optimized models                                  \n",
       "                    Classifier Training sample Validation sample\n",
       "0                   Perceptron            0.62              0.09\n",
       "1           LogisticRegression            0.67              0.08\n",
       "2  PassiveAggressiveClassifier            0.62              0.10\n",
       "3                          SVC            0.97              0.19\n",
       "4         KNeighborsClassifier            1.00              0.12\n",
       "5    GaussianProcessClassifier            0.98              0.13\n",
       "6       DecisionTreeClassifier            0.95              0.12\n",
       "7       RandomForestClassifier            0.99              0.06\n",
       "8           AdaBoostClassifier            0.92              0.14\n",
       "9   GradientBoostingClassifier            0.84              0.09"
      ]
     },
     "execution_count": 51,
     "metadata": {},
     "output_type": "execute_result"
    }
   ],
   "source": [
    "opt_results.columns = pd.MultiIndex.from_product([['Optimized models'], opt_results.columns])\n",
    "opt_results"
   ]
  },
  {
   "cell_type": "markdown",
   "id": "ef1dde33",
   "metadata": {},
   "source": [
    "### Prepare initial classifier results"
   ]
  },
  {
   "cell_type": "code",
   "execution_count": 52,
   "id": "e5178360",
   "metadata": {
    "ExecuteTime": {
     "end_time": "2023-02-25T11:21:29.900981Z",
     "start_time": "2023-02-25T11:21:29.880036Z"
    }
   },
   "outputs": [
    {
     "data": {
      "text/plain": [
       "OrderedDict([('Perceptron',\n",
       "              {'clf': Perceptron(),\n",
       "               'param_grid': {'penalty': ['l1', 'l2', 'elasticnet'],\n",
       "                'alpha': [0.001, 0.0001, 1e-05],\n",
       "                'l1_ratio': [None, 0.075, 0.15, 0.3],\n",
       "                'max_iter': [500, 1000, 2000],\n",
       "                'random_state': [11]}}),\n",
       "             ('LogisticRegression',\n",
       "              {'clf': LogisticRegression(),\n",
       "               'param_grid': {'penalty': ['l1', 'l2', 'elasticnet'],\n",
       "                'C': [0.5, 1.0, 2.0],\n",
       "                'l1_ratio': [None, 0.075, 0.15, 0.3],\n",
       "                'solver': ['saga'],\n",
       "                'max_iter': [50, 100, 200],\n",
       "                'random_state': [11]}}),\n",
       "             ('PassiveAggressiveClassifier',\n",
       "              {'clf': PassiveAggressiveClassifier(),\n",
       "               'param_grid': {'C': [0.5, 1.0, 2.0],\n",
       "                'max_iter': [500, 1000, 2000],\n",
       "                'loss': ['hinge', 'squared_hinge'],\n",
       "                'random_state': [11]}}),\n",
       "             ('SVC',\n",
       "              {'clf': SVC(),\n",
       "               'param_grid': {'C': [0.5, 1.0, 2.0],\n",
       "                'kernel': ['linear', 'poly', 'rbf', 'sigmoid', 'recomputed'],\n",
       "                'degree': [2, 3, 6],\n",
       "                'random_state': [11]}}),\n",
       "             ('KNeighborsClassifier',\n",
       "              {'clf': KNeighborsClassifier(),\n",
       "               'param_grid': {'n_neighbors': [1, 3, 5, 10],\n",
       "                'weights': ['uniform', 'distance'],\n",
       "                'algorithm': ['ball_tree', 'kd_tree', 'brute'],\n",
       "                'p': [1, 2]}}),\n",
       "             ('GaussianProcessClassifier',\n",
       "              {'clf': GaussianProcessClassifier(),\n",
       "               'param_grid': {'kernel': [RBF(length_scale=1),\n",
       "                 RationalQuadratic(alpha=1, length_scale=1),\n",
       "                 DotProduct(sigma_0=1)],\n",
       "                'max_iter_predict': [50, 100, 200],\n",
       "                'random_state': [11]}}),\n",
       "             ('DecisionTreeClassifier',\n",
       "              {'clf': DecisionTreeClassifier(),\n",
       "               'param_grid': {'criterion': ['gini', 'entropy', 'log_loss'],\n",
       "                'max_depth': [25, 50, 100],\n",
       "                'min_samples_leaf': [5, 10, 20],\n",
       "                'max_features': [None, 'sqrt', 'log2'],\n",
       "                'ccp_alpha': [0.005, 0.015, 0.03],\n",
       "                'random_state': [11]}}),\n",
       "             ('RandomForestClassifier',\n",
       "              {'clf': RandomForestClassifier(),\n",
       "               'param_grid': {'n_estimators': [50, 100, 200],\n",
       "                'criterion': ['gini', 'entropy', 'log_loss'],\n",
       "                'max_depth': [25, 50, 100],\n",
       "                'min_samples_leaf': [5, 10, 20],\n",
       "                'max_features': [None, 'sqrt', 'log2'],\n",
       "                'ccp_alpha': [0.005, 0.015, 0.03],\n",
       "                'random_state': [11]}}),\n",
       "             ('AdaBoostClassifier',\n",
       "              {'clf': AdaBoostClassifier(),\n",
       "               'param_grid': {'n_estimators': [25, 50, 100],\n",
       "                'learning_rate': [0.5, 1.0, 2.0],\n",
       "                'algorithm': ['SAMME', 'SAMME.R'],\n",
       "                'random_state': [11]}}),\n",
       "             ('GradientBoostingClassifier',\n",
       "              {'clf': GradientBoostingClassifier(),\n",
       "               'param_grid': {'loss': ['log_loss', 'deviance'],\n",
       "                'learning_rate': [0.05, 0.1, 0.2],\n",
       "                'n_estimators': [25, 50, 100],\n",
       "                'criterion': ['friedman_mse', 'squared_error'],\n",
       "                'max_depth': [25, 50, 100],\n",
       "                'min_samples_leaf': [5, 10, 20],\n",
       "                'ccp_alpha': [0.005, 0.015, 0.03],\n",
       "                'random_state': [11]}})])"
      ]
     },
     "execution_count": 52,
     "metadata": {},
     "output_type": "execute_result"
    }
   ],
   "source": [
    "OFF_THE_SHELF_CLASSIFIERS"
   ]
  },
  {
   "cell_type": "markdown",
   "id": "ff93fa4e",
   "metadata": {},
   "source": [
    "#### Save the classifier dictionary object to file"
   ]
  },
  {
   "cell_type": "code",
   "execution_count": 53,
   "id": "24a8d27d",
   "metadata": {
    "ExecuteTime": {
     "end_time": "2023-02-25T11:21:30.963104Z",
     "start_time": "2023-02-25T11:21:30.944155Z"
    }
   },
   "outputs": [],
   "source": [
    "pickle.dump(OFF_THE_SHELF_CLASSIFIERS, open(MODELS_FOLDER + OTS_CLF_GRIDS_OUT, 'wb'))"
   ]
  },
  {
   "cell_type": "markdown",
   "id": "cbd17944",
   "metadata": {},
   "source": [
    "#### Prepare the default parameter info"
   ]
  },
  {
   "cell_type": "code",
   "execution_count": 54,
   "id": "9179b759",
   "metadata": {
    "ExecuteTime": {
     "end_time": "2023-02-25T11:21:32.528724Z",
     "start_time": "2023-02-25T11:21:32.519748Z"
    }
   },
   "outputs": [
    {
     "data": {
      "text/plain": [
       "{'C': 1.0,\n",
       " 'break_ties': False,\n",
       " 'cache_size': 200,\n",
       " 'class_weight': None,\n",
       " 'coef0': 0.0,\n",
       " 'decision_function_shape': 'ovr',\n",
       " 'degree': 3,\n",
       " 'gamma': 'scale',\n",
       " 'kernel': 'rbf',\n",
       " 'max_iter': -1,\n",
       " 'probability': False,\n",
       " 'random_state': None,\n",
       " 'shrinking': True,\n",
       " 'tol': 0.001,\n",
       " 'verbose': False}"
      ]
     },
     "execution_count": 54,
     "metadata": {},
     "output_type": "execute_result"
    }
   ],
   "source": [
    "SVC().get_params()"
   ]
  },
  {
   "cell_type": "code",
   "execution_count": 91,
   "id": "734339c1",
   "metadata": {
    "ExecuteTime": {
     "end_time": "2023-02-25T12:08:16.077975Z",
     "start_time": "2023-02-25T12:08:16.065010Z"
    }
   },
   "outputs": [
    {
     "data": {
      "text/html": [
       "<div>\n",
       "<style scoped>\n",
       "    .dataframe tbody tr th:only-of-type {\n",
       "        vertical-align: middle;\n",
       "    }\n",
       "\n",
       "    .dataframe tbody tr th {\n",
       "        vertical-align: top;\n",
       "    }\n",
       "\n",
       "    .dataframe thead th {\n",
       "        text-align: right;\n",
       "    }\n",
       "</style>\n",
       "<table border=\"1\" class=\"dataframe\">\n",
       "  <thead>\n",
       "    <tr style=\"text-align: right;\">\n",
       "      <th></th>\n",
       "      <th>Model</th>\n",
       "      <th>Main parameters default values</th>\n",
       "    </tr>\n",
       "  </thead>\n",
       "  <tbody>\n",
       "    <tr>\n",
       "      <th>0</th>\n",
       "      <td>Perceptron</td>\n",
       "      <td>penalty: None | alpha: 0.0001 | l1_ratio: 0.15 | max_iter: 1000 | random_state: 0</td>\n",
       "    </tr>\n",
       "    <tr>\n",
       "      <th>1</th>\n",
       "      <td>LogisticRegression</td>\n",
       "      <td>penalty: l2 | C: 1.0 | l1_ratio: None | solver: lbfgs | max_iter: 100 | random_state: None</td>\n",
       "    </tr>\n",
       "    <tr>\n",
       "      <th>2</th>\n",
       "      <td>PassiveAggressiveClassifier</td>\n",
       "      <td>C: 1.0 | max_iter: 1000 | loss: hinge | random_state: None</td>\n",
       "    </tr>\n",
       "    <tr>\n",
       "      <th>3</th>\n",
       "      <td>SVC</td>\n",
       "      <td>C: 1.0 | kernel: rbf | degree: 3 | random_state: None</td>\n",
       "    </tr>\n",
       "    <tr>\n",
       "      <th>4</th>\n",
       "      <td>KNeighborsClassifier</td>\n",
       "      <td>n_neighbors: 5 | weights: uniform | algorithm: auto | p: 2</td>\n",
       "    </tr>\n",
       "    <tr>\n",
       "      <th>5</th>\n",
       "      <td>GaussianProcessClassifier</td>\n",
       "      <td>kernel: None | max_iter_predict: 100 | random_state: None</td>\n",
       "    </tr>\n",
       "    <tr>\n",
       "      <th>6</th>\n",
       "      <td>DecisionTreeClassifier</td>\n",
       "      <td>criterion: gini | max_depth: None | min_samples_leaf: 1 | max_features: None | ccp_alpha: 0.0 | random_state: None</td>\n",
       "    </tr>\n",
       "    <tr>\n",
       "      <th>7</th>\n",
       "      <td>RandomForestClassifier</td>\n",
       "      <td>n_estimators: 100 | criterion: gini | max_depth: None | min_samples_leaf: 1 | max_features: sqrt | ccp_alpha: 0.0 | random_state: None</td>\n",
       "    </tr>\n",
       "    <tr>\n",
       "      <th>8</th>\n",
       "      <td>AdaBoostClassifier</td>\n",
       "      <td>n_estimators: 50 | learning_rate: 1.0 | algorithm: SAMME.R | random_state: None</td>\n",
       "    </tr>\n",
       "    <tr>\n",
       "      <th>9</th>\n",
       "      <td>GradientBoostingClassifier</td>\n",
       "      <td>loss: log_loss | learning_rate: 0.1 | n_estimators: 100 | criterion: friedman_mse | max_depth: 3 | min_samples_leaf: 1 | ccp_alpha: 0.0 | random_state: None</td>\n",
       "    </tr>\n",
       "  </tbody>\n",
       "</table>\n",
       "</div>"
      ],
      "text/plain": [
       "                         Model  \\\n",
       "0                   Perceptron   \n",
       "1           LogisticRegression   \n",
       "2  PassiveAggressiveClassifier   \n",
       "3                          SVC   \n",
       "4         KNeighborsClassifier   \n",
       "5    GaussianProcessClassifier   \n",
       "6       DecisionTreeClassifier   \n",
       "7       RandomForestClassifier   \n",
       "8           AdaBoostClassifier   \n",
       "9   GradientBoostingClassifier   \n",
       "\n",
       "                                                                                                                                 Main parameters default values  \n",
       "0                                                                             penalty: None | alpha: 0.0001 | l1_ratio: 0.15 | max_iter: 1000 | random_state: 0  \n",
       "1                                                                    penalty: l2 | C: 1.0 | l1_ratio: None | solver: lbfgs | max_iter: 100 | random_state: None  \n",
       "2                                                                                                    C: 1.0 | max_iter: 1000 | loss: hinge | random_state: None  \n",
       "3                                                                                                         C: 1.0 | kernel: rbf | degree: 3 | random_state: None  \n",
       "4                                                                                                    n_neighbors: 5 | weights: uniform | algorithm: auto | p: 2  \n",
       "5                                                                                                     kernel: None | max_iter_predict: 100 | random_state: None  \n",
       "6                                            criterion: gini | max_depth: None | min_samples_leaf: 1 | max_features: None | ccp_alpha: 0.0 | random_state: None  \n",
       "7                        n_estimators: 100 | criterion: gini | max_depth: None | min_samples_leaf: 1 | max_features: sqrt | ccp_alpha: 0.0 | random_state: None  \n",
       "8                                                                               n_estimators: 50 | learning_rate: 1.0 | algorithm: SAMME.R | random_state: None  \n",
       "9  loss: log_loss | learning_rate: 0.1 | n_estimators: 100 | criterion: friedman_mse | max_depth: 3 | min_samples_leaf: 1 | ccp_alpha: 0.0 | random_state: None  "
      ]
     },
     "execution_count": 91,
     "metadata": {},
     "output_type": "execute_result"
    }
   ],
   "source": [
    "clf_list = []\n",
    "def_param_list = []\n",
    "for clf in OFF_THE_SHELF_CLASSIFIERS.keys():\n",
    "    clf_list.append(clf)\n",
    "    clf_params = OFF_THE_SHELF_CLASSIFIERS[clf]['clf'].get_params()\n",
    "    param_values = \"\"\n",
    "    for param in OFF_THE_SHELF_CLASSIFIERS[clf]['param_grid'].keys():\n",
    "        param_values += param + \": \" + str(clf_params[param]) + \" | \"\n",
    "    param_values = param_values[:-3]\n",
    "    def_param_list.append(param_values)\n",
    "\n",
    "clf_def_params = pd.DataFrame(data={'Model': clf_list, 'Main parameters default values': def_param_list})\n",
    "clf_def_params"
   ]
  },
  {
   "cell_type": "markdown",
   "id": "089251c9",
   "metadata": {},
   "source": [
    "#### Prepare the parameter grid info"
   ]
  },
  {
   "cell_type": "code",
   "execution_count": 95,
   "id": "efd2dad7",
   "metadata": {
    "ExecuteTime": {
     "end_time": "2023-02-25T12:09:46.671216Z",
     "start_time": "2023-02-25T12:09:46.659247Z"
    }
   },
   "outputs": [
    {
     "data": {
      "text/html": [
       "<div>\n",
       "<style scoped>\n",
       "    .dataframe tbody tr th:only-of-type {\n",
       "        vertical-align: middle;\n",
       "    }\n",
       "\n",
       "    .dataframe tbody tr th {\n",
       "        vertical-align: top;\n",
       "    }\n",
       "\n",
       "    .dataframe thead th {\n",
       "        text-align: right;\n",
       "    }\n",
       "</style>\n",
       "<table border=\"1\" class=\"dataframe\">\n",
       "  <thead>\n",
       "    <tr style=\"text-align: right;\">\n",
       "      <th></th>\n",
       "      <th>Model</th>\n",
       "      <th>Initial parameter grid</th>\n",
       "    </tr>\n",
       "  </thead>\n",
       "  <tbody>\n",
       "    <tr>\n",
       "      <th>0</th>\n",
       "      <td>Perceptron</td>\n",
       "      <td>penalty: ['l1', 'l2', 'elasticnet'] | alpha: [0.001, 0.0001, 1e-05] | l1_ratio: [None, 0.075, 0.15, 0.3] | max_iter: [500, 1000, 2000] | random_state: [11]</td>\n",
       "    </tr>\n",
       "    <tr>\n",
       "      <th>1</th>\n",
       "      <td>LogisticRegression</td>\n",
       "      <td>penalty: ['l1', 'l2', 'elasticnet'] | C: [0.5, 1.0, 2.0] | l1_ratio: [None, 0.075, 0.15, 0.3] | solver: ['saga'] | max_iter: [50, 100, 200] | random_state: [11]</td>\n",
       "    </tr>\n",
       "    <tr>\n",
       "      <th>2</th>\n",
       "      <td>PassiveAggressiveClassifier</td>\n",
       "      <td>C: [0.5, 1.0, 2.0] | max_iter: [500, 1000, 2000] | loss: ['hinge', 'squared_hinge'] | random_state: [11]</td>\n",
       "    </tr>\n",
       "    <tr>\n",
       "      <th>3</th>\n",
       "      <td>SVC</td>\n",
       "      <td>C: [0.5, 1.0, 2.0] | kernel: ['linear', 'poly', 'rbf', 'sigmoid', 'recomputed'] | degree: [2, 3, 6] | random_state: [11]</td>\n",
       "    </tr>\n",
       "    <tr>\n",
       "      <th>4</th>\n",
       "      <td>KNeighborsClassifier</td>\n",
       "      <td>n_neighbors: [1, 3, 5, 10] | weights: ['uniform', 'distance'] | algorithm: ['ball_tree', 'kd_tree', 'brute'] | p: [1, 2]</td>\n",
       "    </tr>\n",
       "    <tr>\n",
       "      <th>5</th>\n",
       "      <td>GaussianProcessClassifier</td>\n",
       "      <td>kernel: [RBF(length_scale=1), RationalQuadratic(alpha=1, length_scale=1), DotProduct(sigma_0=1)] | max_iter_predict: [50, 100, 200] | random_state: [11]</td>\n",
       "    </tr>\n",
       "    <tr>\n",
       "      <th>6</th>\n",
       "      <td>DecisionTreeClassifier</td>\n",
       "      <td>criterion: ['gini', 'entropy', 'log_loss'] | max_depth: [25, 50, 100] | min_samples_leaf: [5, 10, 20] | max_features: [None, 'sqrt', 'log2'] | ccp_alpha: [0.005, 0.015, 0.03] | random_state: [11]</td>\n",
       "    </tr>\n",
       "    <tr>\n",
       "      <th>7</th>\n",
       "      <td>RandomForestClassifier</td>\n",
       "      <td>n_estimators: [50, 100, 200] | criterion: ['gini', 'entropy', 'log_loss'] | max_depth: [25, 50, 100] | min_samples_leaf: [5, 10, 20] | max_features: [None, 'sqrt', 'log2'] | ccp_alpha: [0.005, 0.015, 0.03] | random_state: [11]</td>\n",
       "    </tr>\n",
       "    <tr>\n",
       "      <th>8</th>\n",
       "      <td>AdaBoostClassifier</td>\n",
       "      <td>n_estimators: [25, 50, 100] | learning_rate: [0.5, 1.0, 2.0] | algorithm: ['SAMME', 'SAMME.R'] | random_state: [11]</td>\n",
       "    </tr>\n",
       "    <tr>\n",
       "      <th>9</th>\n",
       "      <td>GradientBoostingClassifier</td>\n",
       "      <td>loss: ['log_loss', 'deviance'] | learning_rate: [0.05, 0.1, 0.2] | n_estimators: [25, 50, 100] | criterion: ['friedman_mse', 'squared_error'] | max_depth: [25, 50, 100] | min_samples_leaf: [5, 10, 20] | ccp_alpha: [0.005, 0.015, 0.03] | random_state: [11]</td>\n",
       "    </tr>\n",
       "  </tbody>\n",
       "</table>\n",
       "</div>"
      ],
      "text/plain": [
       "                         Model  \\\n",
       "0                   Perceptron   \n",
       "1           LogisticRegression   \n",
       "2  PassiveAggressiveClassifier   \n",
       "3                          SVC   \n",
       "4         KNeighborsClassifier   \n",
       "5    GaussianProcessClassifier   \n",
       "6       DecisionTreeClassifier   \n",
       "7       RandomForestClassifier   \n",
       "8           AdaBoostClassifier   \n",
       "9   GradientBoostingClassifier   \n",
       "\n",
       "                                                                                                                                                                                                                                            Initial parameter grid  \n",
       "0                                                                                                      penalty: ['l1', 'l2', 'elasticnet'] | alpha: [0.001, 0.0001, 1e-05] | l1_ratio: [None, 0.075, 0.15, 0.3] | max_iter: [500, 1000, 2000] | random_state: [11]  \n",
       "1                                                                                                 penalty: ['l1', 'l2', 'elasticnet'] | C: [0.5, 1.0, 2.0] | l1_ratio: [None, 0.075, 0.15, 0.3] | solver: ['saga'] | max_iter: [50, 100, 200] | random_state: [11]  \n",
       "2                                                                                                                                                         C: [0.5, 1.0, 2.0] | max_iter: [500, 1000, 2000] | loss: ['hinge', 'squared_hinge'] | random_state: [11]  \n",
       "3                                                                                                                                         C: [0.5, 1.0, 2.0] | kernel: ['linear', 'poly', 'rbf', 'sigmoid', 'recomputed'] | degree: [2, 3, 6] | random_state: [11]  \n",
       "4                                                                                                                                         n_neighbors: [1, 3, 5, 10] | weights: ['uniform', 'distance'] | algorithm: ['ball_tree', 'kd_tree', 'brute'] | p: [1, 2]  \n",
       "5                                                                                                         kernel: [RBF(length_scale=1), RationalQuadratic(alpha=1, length_scale=1), DotProduct(sigma_0=1)] | max_iter_predict: [50, 100, 200] | random_state: [11]  \n",
       "6                                                              criterion: ['gini', 'entropy', 'log_loss'] | max_depth: [25, 50, 100] | min_samples_leaf: [5, 10, 20] | max_features: [None, 'sqrt', 'log2'] | ccp_alpha: [0.005, 0.015, 0.03] | random_state: [11]  \n",
       "7                               n_estimators: [50, 100, 200] | criterion: ['gini', 'entropy', 'log_loss'] | max_depth: [25, 50, 100] | min_samples_leaf: [5, 10, 20] | max_features: [None, 'sqrt', 'log2'] | ccp_alpha: [0.005, 0.015, 0.03] | random_state: [11]  \n",
       "8                                                                                                                                              n_estimators: [25, 50, 100] | learning_rate: [0.5, 1.0, 2.0] | algorithm: ['SAMME', 'SAMME.R'] | random_state: [11]  \n",
       "9  loss: ['log_loss', 'deviance'] | learning_rate: [0.05, 0.1, 0.2] | n_estimators: [25, 50, 100] | criterion: ['friedman_mse', 'squared_error'] | max_depth: [25, 50, 100] | min_samples_leaf: [5, 10, 20] | ccp_alpha: [0.005, 0.015, 0.03] | random_state: [11]  "
      ]
     },
     "execution_count": 95,
     "metadata": {},
     "output_type": "execute_result"
    }
   ],
   "source": [
    "clf_list = []\n",
    "param_list = []\n",
    "for clf in OFF_THE_SHELF_CLASSIFIERS.keys():\n",
    "    clf_list.append(clf)\n",
    "    param_grid = \"\"\n",
    "    for param in OFF_THE_SHELF_CLASSIFIERS[clf]['param_grid'].keys():\n",
    "        param_grid += param + \": \" + str(OFF_THE_SHELF_CLASSIFIERS[clf]['param_grid'][param]) + \" | \"\n",
    "    param_grid = param_grid[:-3]\n",
    "    param_list.append(param_grid)\n",
    "\n",
    "clf_param_grid = pd.DataFrame(data={'Model': clf_list, 'Initial parameter grid': param_list})\n",
    "clf_param_grid"
   ]
  },
  {
   "cell_type": "markdown",
   "id": "888ede9f",
   "metadata": {},
   "source": [
    "## Convert to LaTeX"
   ]
  },
  {
   "cell_type": "code",
   "execution_count": 57,
   "id": "e3482e36",
   "metadata": {
    "ExecuteTime": {
     "end_time": "2023-02-25T11:21:34.455359Z",
     "start_time": "2023-02-25T11:21:34.448404Z"
    }
   },
   "outputs": [],
   "source": [
    "pd.options.display.float_format = '{:,.2f}'.format"
   ]
  },
  {
   "cell_type": "code",
   "execution_count": 73,
   "id": "3ae16f0c",
   "metadata": {
    "ExecuteTime": {
     "end_time": "2023-02-25T11:32:46.622107Z",
     "start_time": "2023-02-25T11:32:46.617119Z"
    }
   },
   "outputs": [],
   "source": [
    "pd.options.display.max_colwidth = None"
   ]
  },
  {
   "cell_type": "markdown",
   "id": "1bc7e7b4",
   "metadata": {},
   "source": [
    "### Default models and families"
   ]
  },
  {
   "cell_type": "code",
   "execution_count": 74,
   "id": "12da29d9",
   "metadata": {
    "ExecuteTime": {
     "end_time": "2023-02-25T11:32:47.653919Z",
     "start_time": "2023-02-25T11:32:47.640955Z"
    }
   },
   "outputs": [
    {
     "data": {
      "text/html": [
       "<div>\n",
       "<style scoped>\n",
       "    .dataframe tbody tr th:only-of-type {\n",
       "        vertical-align: middle;\n",
       "    }\n",
       "\n",
       "    .dataframe tbody tr th {\n",
       "        vertical-align: top;\n",
       "    }\n",
       "\n",
       "    .dataframe thead th {\n",
       "        text-align: right;\n",
       "    }\n",
       "</style>\n",
       "<table border=\"1\" class=\"dataframe\">\n",
       "  <thead>\n",
       "    <tr style=\"text-align: right;\">\n",
       "      <th></th>\n",
       "      <th>Family</th>\n",
       "      <th>Classifier</th>\n",
       "    </tr>\n",
       "  </thead>\n",
       "  <tbody>\n",
       "    <tr>\n",
       "      <th>0</th>\n",
       "      <td>Linear models</td>\n",
       "      <td>Perceptron</td>\n",
       "    </tr>\n",
       "    <tr>\n",
       "      <th>1</th>\n",
       "      <td>Linear models</td>\n",
       "      <td>LogisticRegression</td>\n",
       "    </tr>\n",
       "    <tr>\n",
       "      <th>2</th>\n",
       "      <td>Linear models</td>\n",
       "      <td>PassiveAggressiveClassifier</td>\n",
       "    </tr>\n",
       "    <tr>\n",
       "      <th>3</th>\n",
       "      <td>Support Vector Machines</td>\n",
       "      <td>SVC</td>\n",
       "    </tr>\n",
       "    <tr>\n",
       "      <th>4</th>\n",
       "      <td>Nearest-Neighbors</td>\n",
       "      <td>KNeighborsClassifier</td>\n",
       "    </tr>\n",
       "    <tr>\n",
       "      <th>5</th>\n",
       "      <td>Gaussian Processes</td>\n",
       "      <td>GaussianProcessClassifier</td>\n",
       "    </tr>\n",
       "    <tr>\n",
       "      <th>6</th>\n",
       "      <td>Tree models</td>\n",
       "      <td>DecisionTreeClassifier</td>\n",
       "    </tr>\n",
       "    <tr>\n",
       "      <th>7</th>\n",
       "      <td>Ensemble models</td>\n",
       "      <td>RandomForestClassifier</td>\n",
       "    </tr>\n",
       "    <tr>\n",
       "      <th>8</th>\n",
       "      <td>Ensemble models</td>\n",
       "      <td>AdaBoostClassifier</td>\n",
       "    </tr>\n",
       "    <tr>\n",
       "      <th>9</th>\n",
       "      <td>Ensemble models</td>\n",
       "      <td>GradientBoostingClassifier</td>\n",
       "    </tr>\n",
       "  </tbody>\n",
       "</table>\n",
       "</div>"
      ],
      "text/plain": [
       "                    Family                   Classifier\n",
       "0            Linear models                   Perceptron\n",
       "1            Linear models           LogisticRegression\n",
       "2            Linear models  PassiveAggressiveClassifier\n",
       "3  Support Vector Machines                          SVC\n",
       "4        Nearest-Neighbors         KNeighborsClassifier\n",
       "5       Gaussian Processes    GaussianProcessClassifier\n",
       "6              Tree models       DecisionTreeClassifier\n",
       "7          Ensemble models       RandomForestClassifier\n",
       "8          Ensemble models           AdaBoostClassifier\n",
       "9          Ensemble models   GradientBoostingClassifier"
      ]
     },
     "execution_count": 74,
     "metadata": {},
     "output_type": "execute_result"
    }
   ],
   "source": [
    "models"
   ]
  },
  {
   "cell_type": "code",
   "execution_count": 75,
   "id": "77fd5cdc",
   "metadata": {
    "ExecuteTime": {
     "end_time": "2023-02-25T11:32:48.177523Z",
     "start_time": "2023-02-25T11:32:48.167550Z"
    }
   },
   "outputs": [
    {
     "name": "stdout",
     "output_type": "stream",
     "text": [
      "\\begin{table}\n",
      "\\centering\n",
      "\\caption[Default models chosen, by family.]{Default models chosen, by family.}\n",
      "\\begin{tabular}{ll}\n",
      "\\toprule\n",
      "                 Family &                  Classifier \\\\\n",
      "\\midrule\n",
      "          Linear models &                  Perceptron \\\\\n",
      "          Linear models &          LogisticRegression \\\\\n",
      "          Linear models & PassiveAggressiveClassifier \\\\\n",
      "Support Vector Machines &                         SVC \\\\\n",
      "      Nearest-Neighbors &        KNeighborsClassifier \\\\\n",
      "     Gaussian Processes &   GaussianProcessClassifier \\\\\n",
      "            Tree models &      DecisionTreeClassifier \\\\\n",
      "        Ensemble models &      RandomForestClassifier \\\\\n",
      "        Ensemble models &          AdaBoostClassifier \\\\\n",
      "        Ensemble models &  GradientBoostingClassifier \\\\\n",
      "\\bottomrule\n",
      "\\end{tabular}\n",
      "\\end{table}\n",
      "\n"
     ]
    },
    {
     "name": "stderr",
     "output_type": "stream",
     "text": [
      "C:\\Users\\ciroe\\AppData\\Local\\Temp\\ipykernel_19112\\612666451.py:2: FutureWarning: In future versions `DataFrame.to_latex` is expected to utilise the base implementation of `Styler.to_latex` for formatting and rendering. The arguments signature may therefore change. It is recommended instead to use `DataFrame.style.to_latex` which also contains additional functionality.\n",
      "  print(models.to_latex(index=False, longtable=False,\n"
     ]
    }
   ],
   "source": [
    "# Print to screen:\n",
    "print(models.to_latex(index=False, longtable=False,\n",
    "                      caption=(\"Default models chosen, by family.\",\n",
    "                               \"Default models chosen, by family.\")))\n",
    "\n"
   ]
  },
  {
   "cell_type": "code",
   "execution_count": 76,
   "id": "519169a6",
   "metadata": {
    "ExecuteTime": {
     "end_time": "2023-02-25T11:32:48.935699Z",
     "start_time": "2023-02-25T11:32:48.912757Z"
    }
   },
   "outputs": [
    {
     "name": "stderr",
     "output_type": "stream",
     "text": [
      "C:\\Users\\ciroe\\AppData\\Local\\Temp\\ipykernel_19112\\504967619.py:7: FutureWarning: In future versions `DataFrame.to_latex` is expected to utilise the base implementation of `Styler.to_latex` for formatting and rendering. The arguments signature may therefore change. It is recommended instead to use `DataFrame.style.to_latex` which also contains additional functionality.\n",
      "  print(models.to_latex(index=False, longtable=False,\n"
     ]
    }
   ],
   "source": [
    "# Save to file:\n",
    "# Write to file:\n",
    "# Backup the standard output:\n",
    "original_stdout = sys.stdout\n",
    "with open(LATEX_DEFAULT_MODELS_OUT, 'w') as f:\n",
    "    sys.stdout = f # Change the standard output to the file we created.\n",
    "    print(models.to_latex(index=False, longtable=False,\n",
    "                          caption=(\"Default models chosen, by family.\",\n",
    "                                   \"Default models chosen, by family.\")))\n",
    "# Restore the standard output to its original value\n",
    "sys.stdout = original_stdout"
   ]
  },
  {
   "cell_type": "markdown",
   "id": "84a60039",
   "metadata": {},
   "source": [
    "### Default params for models"
   ]
  },
  {
   "cell_type": "code",
   "execution_count": 92,
   "id": "cd03f54c",
   "metadata": {
    "ExecuteTime": {
     "end_time": "2023-02-25T12:08:22.992152Z",
     "start_time": "2023-02-25T12:08:22.977192Z"
    }
   },
   "outputs": [
    {
     "data": {
      "text/html": [
       "<div>\n",
       "<style scoped>\n",
       "    .dataframe tbody tr th:only-of-type {\n",
       "        vertical-align: middle;\n",
       "    }\n",
       "\n",
       "    .dataframe tbody tr th {\n",
       "        vertical-align: top;\n",
       "    }\n",
       "\n",
       "    .dataframe thead th {\n",
       "        text-align: right;\n",
       "    }\n",
       "</style>\n",
       "<table border=\"1\" class=\"dataframe\">\n",
       "  <thead>\n",
       "    <tr style=\"text-align: right;\">\n",
       "      <th></th>\n",
       "      <th>Model</th>\n",
       "      <th>Main parameters default values</th>\n",
       "    </tr>\n",
       "  </thead>\n",
       "  <tbody>\n",
       "    <tr>\n",
       "      <th>0</th>\n",
       "      <td>Perceptron</td>\n",
       "      <td>penalty: None | alpha: 0.0001 | l1_ratio: 0.15 | max_iter: 1000 | random_state: 0</td>\n",
       "    </tr>\n",
       "    <tr>\n",
       "      <th>1</th>\n",
       "      <td>LogisticRegression</td>\n",
       "      <td>penalty: l2 | C: 1.0 | l1_ratio: None | solver: lbfgs | max_iter: 100 | random_state: None</td>\n",
       "    </tr>\n",
       "    <tr>\n",
       "      <th>2</th>\n",
       "      <td>PassiveAggressiveClassifier</td>\n",
       "      <td>C: 1.0 | max_iter: 1000 | loss: hinge | random_state: None</td>\n",
       "    </tr>\n",
       "    <tr>\n",
       "      <th>3</th>\n",
       "      <td>SVC</td>\n",
       "      <td>C: 1.0 | kernel: rbf | degree: 3 | random_state: None</td>\n",
       "    </tr>\n",
       "    <tr>\n",
       "      <th>4</th>\n",
       "      <td>KNeighborsClassifier</td>\n",
       "      <td>n_neighbors: 5 | weights: uniform | algorithm: auto | p: 2</td>\n",
       "    </tr>\n",
       "    <tr>\n",
       "      <th>5</th>\n",
       "      <td>GaussianProcessClassifier</td>\n",
       "      <td>kernel: None | max_iter_predict: 100 | random_state: None</td>\n",
       "    </tr>\n",
       "    <tr>\n",
       "      <th>6</th>\n",
       "      <td>DecisionTreeClassifier</td>\n",
       "      <td>criterion: gini | max_depth: None | min_samples_leaf: 1 | max_features: None | ccp_alpha: 0.0 | random_state: None</td>\n",
       "    </tr>\n",
       "    <tr>\n",
       "      <th>7</th>\n",
       "      <td>RandomForestClassifier</td>\n",
       "      <td>n_estimators: 100 | criterion: gini | max_depth: None | min_samples_leaf: 1 | max_features: sqrt | ccp_alpha: 0.0 | random_state: None</td>\n",
       "    </tr>\n",
       "    <tr>\n",
       "      <th>8</th>\n",
       "      <td>AdaBoostClassifier</td>\n",
       "      <td>n_estimators: 50 | learning_rate: 1.0 | algorithm: SAMME.R | random_state: None</td>\n",
       "    </tr>\n",
       "    <tr>\n",
       "      <th>9</th>\n",
       "      <td>GradientBoostingClassifier</td>\n",
       "      <td>loss: log_loss | learning_rate: 0.1 | n_estimators: 100 | criterion: friedman_mse | max_depth: 3 | min_samples_leaf: 1 | ccp_alpha: 0.0 | random_state: None</td>\n",
       "    </tr>\n",
       "  </tbody>\n",
       "</table>\n",
       "</div>"
      ],
      "text/plain": [
       "                         Model  \\\n",
       "0                   Perceptron   \n",
       "1           LogisticRegression   \n",
       "2  PassiveAggressiveClassifier   \n",
       "3                          SVC   \n",
       "4         KNeighborsClassifier   \n",
       "5    GaussianProcessClassifier   \n",
       "6       DecisionTreeClassifier   \n",
       "7       RandomForestClassifier   \n",
       "8           AdaBoostClassifier   \n",
       "9   GradientBoostingClassifier   \n",
       "\n",
       "                                                                                                                                 Main parameters default values  \n",
       "0                                                                             penalty: None | alpha: 0.0001 | l1_ratio: 0.15 | max_iter: 1000 | random_state: 0  \n",
       "1                                                                    penalty: l2 | C: 1.0 | l1_ratio: None | solver: lbfgs | max_iter: 100 | random_state: None  \n",
       "2                                                                                                    C: 1.0 | max_iter: 1000 | loss: hinge | random_state: None  \n",
       "3                                                                                                         C: 1.0 | kernel: rbf | degree: 3 | random_state: None  \n",
       "4                                                                                                    n_neighbors: 5 | weights: uniform | algorithm: auto | p: 2  \n",
       "5                                                                                                     kernel: None | max_iter_predict: 100 | random_state: None  \n",
       "6                                            criterion: gini | max_depth: None | min_samples_leaf: 1 | max_features: None | ccp_alpha: 0.0 | random_state: None  \n",
       "7                        n_estimators: 100 | criterion: gini | max_depth: None | min_samples_leaf: 1 | max_features: sqrt | ccp_alpha: 0.0 | random_state: None  \n",
       "8                                                                               n_estimators: 50 | learning_rate: 1.0 | algorithm: SAMME.R | random_state: None  \n",
       "9  loss: log_loss | learning_rate: 0.1 | n_estimators: 100 | criterion: friedman_mse | max_depth: 3 | min_samples_leaf: 1 | ccp_alpha: 0.0 | random_state: None  "
      ]
     },
     "execution_count": 92,
     "metadata": {},
     "output_type": "execute_result"
    }
   ],
   "source": [
    "clf_def_params"
   ]
  },
  {
   "cell_type": "code",
   "execution_count": 93,
   "id": "e9f68a20",
   "metadata": {
    "ExecuteTime": {
     "end_time": "2023-02-25T12:08:27.601375Z",
     "start_time": "2023-02-25T12:08:27.592399Z"
    }
   },
   "outputs": [
    {
     "name": "stdout",
     "output_type": "stream",
     "text": [
      "\\begin{longtable}{ll}\n",
      "\\caption[Default params for models chosen.]{Default params for models chosen.}\\\\\n",
      "\\toprule\n",
      "                      Model &                                                                                                                               Main parameters default values \\\\\n",
      "\\midrule\n",
      "\\endfirsthead\n",
      "\\caption[]{Default params for models chosen.} \\\\\n",
      "\\toprule\n",
      "                      Model &                                                                                                                               Main parameters default values \\\\\n",
      "\\midrule\n",
      "\\endhead\n",
      "\\midrule\n",
      "\\multicolumn{2}{r}{{Continued on next page}} \\\\\n",
      "\\midrule\n",
      "\\endfoot\n",
      "\n",
      "\\bottomrule\n",
      "\\endlastfoot\n",
      "                 Perceptron &                                                                            penalty: None | alpha: 0.0001 | l1\\_ratio: 0.15 | max\\_iter: 1000 | random\\_state: 0 \\\\\n",
      "         LogisticRegression &                                                                   penalty: l2 | C: 1.0 | l1\\_ratio: None | solver: lbfgs | max\\_iter: 100 | random\\_state: None \\\\\n",
      "PassiveAggressiveClassifier &                                                                                                   C: 1.0 | max\\_iter: 1000 | loss: hinge | random\\_state: None \\\\\n",
      "                        SVC &                                                                                                        C: 1.0 | kernel: rbf | degree: 3 | random\\_state: None \\\\\n",
      "       KNeighborsClassifier &                                                                                                   n\\_neighbors: 5 | weights: uniform | algorithm: auto | p: 2 \\\\\n",
      "  GaussianProcessClassifier &                                                                                                    kernel: None | max\\_iter\\_predict: 100 | random\\_state: None \\\\\n",
      "     DecisionTreeClassifier &                                           criterion: gini | max\\_depth: None | min\\_samples\\_leaf: 1 | max\\_features: None | ccp\\_alpha: 0.0 | random\\_state: None \\\\\n",
      "     RandomForestClassifier &                       n\\_estimators: 100 | criterion: gini | max\\_depth: None | min\\_samples\\_leaf: 1 | max\\_features: sqrt | ccp\\_alpha: 0.0 | random\\_state: None \\\\\n",
      "         AdaBoostClassifier &                                                                              n\\_estimators: 50 | learning\\_rate: 1.0 | algorithm: SAMME.R | random\\_state: None \\\\\n",
      " GradientBoostingClassifier & loss: log\\_loss | learning\\_rate: 0.1 | n\\_estimators: 100 | criterion: friedman\\_mse | max\\_depth: 3 | min\\_samples\\_leaf: 1 | ccp\\_alpha: 0.0 | random\\_state: None \\\\\n",
      "\\end{longtable}\n",
      "\n"
     ]
    },
    {
     "name": "stderr",
     "output_type": "stream",
     "text": [
      "C:\\Users\\ciroe\\AppData\\Local\\Temp\\ipykernel_19112\\388626518.py:2: FutureWarning: In future versions `DataFrame.to_latex` is expected to utilise the base implementation of `Styler.to_latex` for formatting and rendering. The arguments signature may therefore change. It is recommended instead to use `DataFrame.style.to_latex` which also contains additional functionality.\n",
      "  print(clf_def_params.to_latex(index=False, longtable=True,\n"
     ]
    }
   ],
   "source": [
    "# Print to screen:\n",
    "print(clf_def_params.to_latex(index=False, longtable=True,\n",
    "                              caption=(\"Default params for models chosen.\",\n",
    "                                       \"Default params for models chosen.\")))\n",
    "\n"
   ]
  },
  {
   "cell_type": "code",
   "execution_count": 94,
   "id": "74ec7265",
   "metadata": {
    "ExecuteTime": {
     "end_time": "2023-02-25T12:08:28.126556Z",
     "start_time": "2023-02-25T12:08:28.113590Z"
    }
   },
   "outputs": [
    {
     "name": "stderr",
     "output_type": "stream",
     "text": [
      "C:\\Users\\ciroe\\AppData\\Local\\Temp\\ipykernel_19112\\804390693.py:7: FutureWarning: In future versions `DataFrame.to_latex` is expected to utilise the base implementation of `Styler.to_latex` for formatting and rendering. The arguments signature may therefore change. It is recommended instead to use `DataFrame.style.to_latex` which also contains additional functionality.\n",
      "  print(clf_def_params.to_latex(index=False, longtable=True,\n"
     ]
    }
   ],
   "source": [
    "# Save to file:\n",
    "# Write to file:\n",
    "# Backup the standard output:\n",
    "original_stdout = sys.stdout\n",
    "with open(LATEX_DEFAULT_PARAMS_OUT, 'w') as f:\n",
    "    sys.stdout = f # Change the standard output to the file we created.\n",
    "    print(clf_def_params.to_latex(index=False, longtable=True,\n",
    "                                  caption=(\"Default params for models chosen.\",\n",
    "                                           \"Default params for models chosen.\")))\n",
    "# Restore the standard output to its original value\n",
    "sys.stdout = original_stdout"
   ]
  },
  {
   "cell_type": "markdown",
   "id": "164f08fb",
   "metadata": {},
   "source": [
    "### Default models results"
   ]
  },
  {
   "cell_type": "code",
   "execution_count": 80,
   "id": "36faf7da",
   "metadata": {
    "ExecuteTime": {
     "end_time": "2023-02-25T11:32:57.403259Z",
     "start_time": "2023-02-25T11:32:57.392288Z"
    }
   },
   "outputs": [
    {
     "data": {
      "text/html": [
       "<div>\n",
       "<style scoped>\n",
       "    .dataframe tbody tr th:only-of-type {\n",
       "        vertical-align: middle;\n",
       "    }\n",
       "\n",
       "    .dataframe tbody tr th {\n",
       "        vertical-align: top;\n",
       "    }\n",
       "\n",
       "    .dataframe thead tr th {\n",
       "        text-align: left;\n",
       "    }\n",
       "</style>\n",
       "<table border=\"1\" class=\"dataframe\">\n",
       "  <thead>\n",
       "    <tr>\n",
       "      <th></th>\n",
       "      <th colspan=\"3\" halign=\"left\">Default models</th>\n",
       "    </tr>\n",
       "    <tr>\n",
       "      <th></th>\n",
       "      <th>Classifier</th>\n",
       "      <th>Training sample</th>\n",
       "      <th>Validation sample</th>\n",
       "    </tr>\n",
       "  </thead>\n",
       "  <tbody>\n",
       "    <tr>\n",
       "      <th>0</th>\n",
       "      <td>Perceptron</td>\n",
       "      <td>0.63</td>\n",
       "      <td>0.10</td>\n",
       "    </tr>\n",
       "    <tr>\n",
       "      <th>1</th>\n",
       "      <td>LogisticRegression</td>\n",
       "      <td>0.66</td>\n",
       "      <td>0.09</td>\n",
       "    </tr>\n",
       "    <tr>\n",
       "      <th>2</th>\n",
       "      <td>PassiveAggressiveClassifier</td>\n",
       "      <td>0.65</td>\n",
       "      <td>0.10</td>\n",
       "    </tr>\n",
       "    <tr>\n",
       "      <th>3</th>\n",
       "      <td>SVC</td>\n",
       "      <td>0.93</td>\n",
       "      <td>0.14</td>\n",
       "    </tr>\n",
       "    <tr>\n",
       "      <th>4</th>\n",
       "      <td>KNeighborsClassifier</td>\n",
       "      <td>0.77</td>\n",
       "      <td>0.11</td>\n",
       "    </tr>\n",
       "    <tr>\n",
       "      <th>5</th>\n",
       "      <td>GaussianProcessClassifier</td>\n",
       "      <td>1.00</td>\n",
       "      <td>0.11</td>\n",
       "    </tr>\n",
       "    <tr>\n",
       "      <th>6</th>\n",
       "      <td>DecisionTreeClassifier</td>\n",
       "      <td>1.00</td>\n",
       "      <td>0.08</td>\n",
       "    </tr>\n",
       "    <tr>\n",
       "      <th>7</th>\n",
       "      <td>RandomForestClassifier</td>\n",
       "      <td>1.00</td>\n",
       "      <td>0.20</td>\n",
       "    </tr>\n",
       "    <tr>\n",
       "      <th>8</th>\n",
       "      <td>AdaBoostClassifier</td>\n",
       "      <td>0.87</td>\n",
       "      <td>0.13</td>\n",
       "    </tr>\n",
       "    <tr>\n",
       "      <th>9</th>\n",
       "      <td>GradientBoostingClassifier</td>\n",
       "      <td>0.97</td>\n",
       "      <td>0.10</td>\n",
       "    </tr>\n",
       "  </tbody>\n",
       "</table>\n",
       "</div>"
      ],
      "text/plain": [
       "                Default models                                  \n",
       "                    Classifier Training sample Validation sample\n",
       "0                   Perceptron            0.63              0.10\n",
       "1           LogisticRegression            0.66              0.09\n",
       "2  PassiveAggressiveClassifier            0.65              0.10\n",
       "3                          SVC            0.93              0.14\n",
       "4         KNeighborsClassifier            0.77              0.11\n",
       "5    GaussianProcessClassifier            1.00              0.11\n",
       "6       DecisionTreeClassifier            1.00              0.08\n",
       "7       RandomForestClassifier            1.00              0.20\n",
       "8           AdaBoostClassifier            0.87              0.13\n",
       "9   GradientBoostingClassifier            0.97              0.10"
      ]
     },
     "execution_count": 80,
     "metadata": {},
     "output_type": "execute_result"
    }
   ],
   "source": [
    "initial_results"
   ]
  },
  {
   "cell_type": "code",
   "execution_count": 81,
   "id": "8d5a6e87",
   "metadata": {
    "ExecuteTime": {
     "end_time": "2023-02-25T11:32:58.063849Z",
     "start_time": "2023-02-25T11:32:58.040919Z"
    }
   },
   "outputs": [
    {
     "name": "stdout",
     "output_type": "stream",
     "text": [
      "\\begin{table}\n",
      "\\centering\n",
      "\\caption[Precision results for default ML models.]{Precision results for default ML models.}\n",
      "\\begin{tabular}{lrr}\n",
      "\\toprule\n",
      "             Default models \\\\\n",
      "                 Classifier & Training sample & Validation sample \\\\\n",
      "\\midrule\n",
      "                 Perceptron &            0.63 &              0.10 \\\\\n",
      "         LogisticRegression &            0.66 &              0.09 \\\\\n",
      "PassiveAggressiveClassifier &            0.65 &              0.10 \\\\\n",
      "                        SVC &            0.93 &              0.14 \\\\\n",
      "       KNeighborsClassifier &            0.77 &              0.11 \\\\\n",
      "  GaussianProcessClassifier &            1.00 &              0.11 \\\\\n",
      "     DecisionTreeClassifier &            1.00 &              0.08 \\\\\n",
      "     RandomForestClassifier &            1.00 &              0.20 \\\\\n",
      "         AdaBoostClassifier &            0.87 &              0.13 \\\\\n",
      " GradientBoostingClassifier &            0.97 &              0.10 \\\\\n",
      "\\bottomrule\n",
      "\\end{tabular}\n",
      "\\end{table}\n",
      "\n"
     ]
    },
    {
     "name": "stderr",
     "output_type": "stream",
     "text": [
      "C:\\Users\\ciroe\\AppData\\Local\\Temp\\ipykernel_19112\\1233364460.py:2: FutureWarning: In future versions `DataFrame.to_latex` is expected to utilise the base implementation of `Styler.to_latex` for formatting and rendering. The arguments signature may therefore change. It is recommended instead to use `DataFrame.style.to_latex` which also contains additional functionality.\n",
      "  print(initial_results.to_latex(index=False, longtable=False,\n"
     ]
    }
   ],
   "source": [
    "# Print to screen:\n",
    "print(initial_results.to_latex(index=False, longtable=False,\n",
    "                               caption=(\"Precision results for default ML models.\",\n",
    "                                        \"Precision results for default ML models.\")))\n",
    "\n"
   ]
  },
  {
   "cell_type": "code",
   "execution_count": 82,
   "id": "e42cb058",
   "metadata": {
    "ExecuteTime": {
     "end_time": "2023-02-25T11:32:58.656214Z",
     "start_time": "2023-02-25T11:32:58.640257Z"
    }
   },
   "outputs": [
    {
     "name": "stderr",
     "output_type": "stream",
     "text": [
      "C:\\Users\\ciroe\\AppData\\Local\\Temp\\ipykernel_19112\\905636910.py:7: FutureWarning: In future versions `DataFrame.to_latex` is expected to utilise the base implementation of `Styler.to_latex` for formatting and rendering. The arguments signature may therefore change. It is recommended instead to use `DataFrame.style.to_latex` which also contains additional functionality.\n",
      "  print(initial_results.to_latex(index=False, longtable=False,\n"
     ]
    }
   ],
   "source": [
    "# Save to file:\n",
    "# Write to file:\n",
    "# Backup the standard output:\n",
    "original_stdout = sys.stdout\n",
    "with open(LATEX_INI_RESULTS_OUT, 'w') as f:\n",
    "    sys.stdout = f # Change the standard output to the file we created.\n",
    "    print(initial_results.to_latex(index=False, longtable=False,\n",
    "                                   caption=(\"Precision results for default ML models.\",\n",
    "                                            \"Precision results for default ML models.\")))\n",
    "# Restore the standard output to its original value\n",
    "sys.stdout = original_stdout"
   ]
  },
  {
   "cell_type": "markdown",
   "id": "86db9129",
   "metadata": {},
   "source": [
    "### Optimized models results"
   ]
  },
  {
   "cell_type": "code",
   "execution_count": 83,
   "id": "21394d5f",
   "metadata": {
    "ExecuteTime": {
     "end_time": "2023-02-25T11:32:59.684527Z",
     "start_time": "2023-02-25T11:32:59.663582Z"
    }
   },
   "outputs": [
    {
     "data": {
      "text/html": [
       "<div>\n",
       "<style scoped>\n",
       "    .dataframe tbody tr th:only-of-type {\n",
       "        vertical-align: middle;\n",
       "    }\n",
       "\n",
       "    .dataframe tbody tr th {\n",
       "        vertical-align: top;\n",
       "    }\n",
       "\n",
       "    .dataframe thead tr th {\n",
       "        text-align: left;\n",
       "    }\n",
       "</style>\n",
       "<table border=\"1\" class=\"dataframe\">\n",
       "  <thead>\n",
       "    <tr>\n",
       "      <th></th>\n",
       "      <th colspan=\"3\" halign=\"left\">Optimized models</th>\n",
       "    </tr>\n",
       "    <tr>\n",
       "      <th></th>\n",
       "      <th>Classifier</th>\n",
       "      <th>Training sample</th>\n",
       "      <th>Validation sample</th>\n",
       "    </tr>\n",
       "  </thead>\n",
       "  <tbody>\n",
       "    <tr>\n",
       "      <th>0</th>\n",
       "      <td>Perceptron</td>\n",
       "      <td>0.62</td>\n",
       "      <td>0.09</td>\n",
       "    </tr>\n",
       "    <tr>\n",
       "      <th>1</th>\n",
       "      <td>LogisticRegression</td>\n",
       "      <td>0.67</td>\n",
       "      <td>0.08</td>\n",
       "    </tr>\n",
       "    <tr>\n",
       "      <th>2</th>\n",
       "      <td>PassiveAggressiveClassifier</td>\n",
       "      <td>0.62</td>\n",
       "      <td>0.10</td>\n",
       "    </tr>\n",
       "    <tr>\n",
       "      <th>3</th>\n",
       "      <td>SVC</td>\n",
       "      <td>0.97</td>\n",
       "      <td>0.19</td>\n",
       "    </tr>\n",
       "    <tr>\n",
       "      <th>4</th>\n",
       "      <td>KNeighborsClassifier</td>\n",
       "      <td>1.00</td>\n",
       "      <td>0.12</td>\n",
       "    </tr>\n",
       "    <tr>\n",
       "      <th>5</th>\n",
       "      <td>GaussianProcessClassifier</td>\n",
       "      <td>0.98</td>\n",
       "      <td>0.13</td>\n",
       "    </tr>\n",
       "    <tr>\n",
       "      <th>6</th>\n",
       "      <td>DecisionTreeClassifier</td>\n",
       "      <td>0.95</td>\n",
       "      <td>0.12</td>\n",
       "    </tr>\n",
       "    <tr>\n",
       "      <th>7</th>\n",
       "      <td>RandomForestClassifier</td>\n",
       "      <td>0.99</td>\n",
       "      <td>0.06</td>\n",
       "    </tr>\n",
       "    <tr>\n",
       "      <th>8</th>\n",
       "      <td>AdaBoostClassifier</td>\n",
       "      <td>0.92</td>\n",
       "      <td>0.14</td>\n",
       "    </tr>\n",
       "    <tr>\n",
       "      <th>9</th>\n",
       "      <td>GradientBoostingClassifier</td>\n",
       "      <td>0.84</td>\n",
       "      <td>0.09</td>\n",
       "    </tr>\n",
       "  </tbody>\n",
       "</table>\n",
       "</div>"
      ],
      "text/plain": [
       "              Optimized models                                  \n",
       "                    Classifier Training sample Validation sample\n",
       "0                   Perceptron            0.62              0.09\n",
       "1           LogisticRegression            0.67              0.08\n",
       "2  PassiveAggressiveClassifier            0.62              0.10\n",
       "3                          SVC            0.97              0.19\n",
       "4         KNeighborsClassifier            1.00              0.12\n",
       "5    GaussianProcessClassifier            0.98              0.13\n",
       "6       DecisionTreeClassifier            0.95              0.12\n",
       "7       RandomForestClassifier            0.99              0.06\n",
       "8           AdaBoostClassifier            0.92              0.14\n",
       "9   GradientBoostingClassifier            0.84              0.09"
      ]
     },
     "execution_count": 83,
     "metadata": {},
     "output_type": "execute_result"
    }
   ],
   "source": [
    "opt_results"
   ]
  },
  {
   "cell_type": "code",
   "execution_count": 84,
   "id": "09df3434",
   "metadata": {
    "ExecuteTime": {
     "end_time": "2023-02-25T11:33:00.353302Z",
     "start_time": "2023-02-25T11:33:00.336354Z"
    }
   },
   "outputs": [
    {
     "name": "stdout",
     "output_type": "stream",
     "text": [
      "\\begin{table}\n",
      "\\centering\n",
      "\\caption[Precision results for optimized ML models.]{Precision results for optimized ML models.}\n",
      "\\begin{tabular}{lrr}\n",
      "\\toprule\n",
      "           Optimized models \\\\\n",
      "                 Classifier & Training sample & Validation sample \\\\\n",
      "\\midrule\n",
      "                 Perceptron &            0.62 &              0.09 \\\\\n",
      "         LogisticRegression &            0.67 &              0.08 \\\\\n",
      "PassiveAggressiveClassifier &            0.62 &              0.10 \\\\\n",
      "                        SVC &            0.97 &              0.19 \\\\\n",
      "       KNeighborsClassifier &            1.00 &              0.12 \\\\\n",
      "  GaussianProcessClassifier &            0.98 &              0.13 \\\\\n",
      "     DecisionTreeClassifier &            0.95 &              0.12 \\\\\n",
      "     RandomForestClassifier &            0.99 &              0.06 \\\\\n",
      "         AdaBoostClassifier &            0.92 &              0.14 \\\\\n",
      " GradientBoostingClassifier &            0.84 &              0.09 \\\\\n",
      "\\bottomrule\n",
      "\\end{tabular}\n",
      "\\end{table}\n",
      "\n"
     ]
    },
    {
     "name": "stderr",
     "output_type": "stream",
     "text": [
      "C:\\Users\\ciroe\\AppData\\Local\\Temp\\ipykernel_19112\\2189748809.py:2: FutureWarning: In future versions `DataFrame.to_latex` is expected to utilise the base implementation of `Styler.to_latex` for formatting and rendering. The arguments signature may therefore change. It is recommended instead to use `DataFrame.style.to_latex` which also contains additional functionality.\n",
      "  print(opt_results.to_latex(index=False, longtable=False,\n"
     ]
    }
   ],
   "source": [
    "# Print to screen:\n",
    "print(opt_results.to_latex(index=False, longtable=False,\n",
    "                           caption=(\"Precision results for optimized ML models.\",\n",
    "                                    \"Precision results for optimized ML models.\")))\n",
    "\n"
   ]
  },
  {
   "cell_type": "code",
   "execution_count": 85,
   "id": "bb20d115",
   "metadata": {
    "ExecuteTime": {
     "end_time": "2023-02-25T11:33:00.999607Z",
     "start_time": "2023-02-25T11:33:00.976669Z"
    }
   },
   "outputs": [
    {
     "name": "stderr",
     "output_type": "stream",
     "text": [
      "C:\\Users\\ciroe\\AppData\\Local\\Temp\\ipykernel_19112\\2518406677.py:7: FutureWarning: In future versions `DataFrame.to_latex` is expected to utilise the base implementation of `Styler.to_latex` for formatting and rendering. The arguments signature may therefore change. It is recommended instead to use `DataFrame.style.to_latex` which also contains additional functionality.\n",
      "  print(opt_results.to_latex(index=False, longtable=False,\n"
     ]
    }
   ],
   "source": [
    "# Save to file:\n",
    "# Write to file:\n",
    "# Backup the standard output:\n",
    "original_stdout = sys.stdout\n",
    "with open(LATEX_OPT_RESULTS_OUT, 'w') as f:\n",
    "    sys.stdout = f # Change the standard output to the file we created.\n",
    "    print(opt_results.to_latex(index=False, longtable=False,\n",
    "                               caption=(\"Precision results for optimized ML models.\",\n",
    "                                        \"Precision results for optimized ML models.\")))\n",
    "# Restore the standard output to its original value\n",
    "sys.stdout = original_stdout"
   ]
  },
  {
   "cell_type": "markdown",
   "id": "f1371503",
   "metadata": {},
   "source": [
    "### Classifier parameter grids"
   ]
  },
  {
   "cell_type": "code",
   "execution_count": 96,
   "id": "52696896",
   "metadata": {
    "ExecuteTime": {
     "end_time": "2023-02-25T12:10:03.430635Z",
     "start_time": "2023-02-25T12:10:03.419664Z"
    }
   },
   "outputs": [
    {
     "data": {
      "text/html": [
       "<div>\n",
       "<style scoped>\n",
       "    .dataframe tbody tr th:only-of-type {\n",
       "        vertical-align: middle;\n",
       "    }\n",
       "\n",
       "    .dataframe tbody tr th {\n",
       "        vertical-align: top;\n",
       "    }\n",
       "\n",
       "    .dataframe thead th {\n",
       "        text-align: right;\n",
       "    }\n",
       "</style>\n",
       "<table border=\"1\" class=\"dataframe\">\n",
       "  <thead>\n",
       "    <tr style=\"text-align: right;\">\n",
       "      <th></th>\n",
       "      <th>Model</th>\n",
       "      <th>Initial parameter grid</th>\n",
       "    </tr>\n",
       "  </thead>\n",
       "  <tbody>\n",
       "    <tr>\n",
       "      <th>0</th>\n",
       "      <td>Perceptron</td>\n",
       "      <td>penalty: ['l1', 'l2', 'elasticnet'] | alpha: [0.001, 0.0001, 1e-05] | l1_ratio: [None, 0.075, 0.15, 0.3] | max_iter: [500, 1000, 2000] | random_state: [11]</td>\n",
       "    </tr>\n",
       "    <tr>\n",
       "      <th>1</th>\n",
       "      <td>LogisticRegression</td>\n",
       "      <td>penalty: ['l1', 'l2', 'elasticnet'] | C: [0.5, 1.0, 2.0] | l1_ratio: [None, 0.075, 0.15, 0.3] | solver: ['saga'] | max_iter: [50, 100, 200] | random_state: [11]</td>\n",
       "    </tr>\n",
       "    <tr>\n",
       "      <th>2</th>\n",
       "      <td>PassiveAggressiveClassifier</td>\n",
       "      <td>C: [0.5, 1.0, 2.0] | max_iter: [500, 1000, 2000] | loss: ['hinge', 'squared_hinge'] | random_state: [11]</td>\n",
       "    </tr>\n",
       "    <tr>\n",
       "      <th>3</th>\n",
       "      <td>SVC</td>\n",
       "      <td>C: [0.5, 1.0, 2.0] | kernel: ['linear', 'poly', 'rbf', 'sigmoid', 'recomputed'] | degree: [2, 3, 6] | random_state: [11]</td>\n",
       "    </tr>\n",
       "    <tr>\n",
       "      <th>4</th>\n",
       "      <td>KNeighborsClassifier</td>\n",
       "      <td>n_neighbors: [1, 3, 5, 10] | weights: ['uniform', 'distance'] | algorithm: ['ball_tree', 'kd_tree', 'brute'] | p: [1, 2]</td>\n",
       "    </tr>\n",
       "    <tr>\n",
       "      <th>5</th>\n",
       "      <td>GaussianProcessClassifier</td>\n",
       "      <td>kernel: [RBF(length_scale=1), RationalQuadratic(alpha=1, length_scale=1), DotProduct(sigma_0=1)] | max_iter_predict: [50, 100, 200] | random_state: [11]</td>\n",
       "    </tr>\n",
       "    <tr>\n",
       "      <th>6</th>\n",
       "      <td>DecisionTreeClassifier</td>\n",
       "      <td>criterion: ['gini', 'entropy', 'log_loss'] | max_depth: [25, 50, 100] | min_samples_leaf: [5, 10, 20] | max_features: [None, 'sqrt', 'log2'] | ccp_alpha: [0.005, 0.015, 0.03] | random_state: [11]</td>\n",
       "    </tr>\n",
       "    <tr>\n",
       "      <th>7</th>\n",
       "      <td>RandomForestClassifier</td>\n",
       "      <td>n_estimators: [50, 100, 200] | criterion: ['gini', 'entropy', 'log_loss'] | max_depth: [25, 50, 100] | min_samples_leaf: [5, 10, 20] | max_features: [None, 'sqrt', 'log2'] | ccp_alpha: [0.005, 0.015, 0.03] | random_state: [11]</td>\n",
       "    </tr>\n",
       "    <tr>\n",
       "      <th>8</th>\n",
       "      <td>AdaBoostClassifier</td>\n",
       "      <td>n_estimators: [25, 50, 100] | learning_rate: [0.5, 1.0, 2.0] | algorithm: ['SAMME', 'SAMME.R'] | random_state: [11]</td>\n",
       "    </tr>\n",
       "    <tr>\n",
       "      <th>9</th>\n",
       "      <td>GradientBoostingClassifier</td>\n",
       "      <td>loss: ['log_loss', 'deviance'] | learning_rate: [0.05, 0.1, 0.2] | n_estimators: [25, 50, 100] | criterion: ['friedman_mse', 'squared_error'] | max_depth: [25, 50, 100] | min_samples_leaf: [5, 10, 20] | ccp_alpha: [0.005, 0.015, 0.03] | random_state: [11]</td>\n",
       "    </tr>\n",
       "  </tbody>\n",
       "</table>\n",
       "</div>"
      ],
      "text/plain": [
       "                         Model  \\\n",
       "0                   Perceptron   \n",
       "1           LogisticRegression   \n",
       "2  PassiveAggressiveClassifier   \n",
       "3                          SVC   \n",
       "4         KNeighborsClassifier   \n",
       "5    GaussianProcessClassifier   \n",
       "6       DecisionTreeClassifier   \n",
       "7       RandomForestClassifier   \n",
       "8           AdaBoostClassifier   \n",
       "9   GradientBoostingClassifier   \n",
       "\n",
       "                                                                                                                                                                                                                                            Initial parameter grid  \n",
       "0                                                                                                      penalty: ['l1', 'l2', 'elasticnet'] | alpha: [0.001, 0.0001, 1e-05] | l1_ratio: [None, 0.075, 0.15, 0.3] | max_iter: [500, 1000, 2000] | random_state: [11]  \n",
       "1                                                                                                 penalty: ['l1', 'l2', 'elasticnet'] | C: [0.5, 1.0, 2.0] | l1_ratio: [None, 0.075, 0.15, 0.3] | solver: ['saga'] | max_iter: [50, 100, 200] | random_state: [11]  \n",
       "2                                                                                                                                                         C: [0.5, 1.0, 2.0] | max_iter: [500, 1000, 2000] | loss: ['hinge', 'squared_hinge'] | random_state: [11]  \n",
       "3                                                                                                                                         C: [0.5, 1.0, 2.0] | kernel: ['linear', 'poly', 'rbf', 'sigmoid', 'recomputed'] | degree: [2, 3, 6] | random_state: [11]  \n",
       "4                                                                                                                                         n_neighbors: [1, 3, 5, 10] | weights: ['uniform', 'distance'] | algorithm: ['ball_tree', 'kd_tree', 'brute'] | p: [1, 2]  \n",
       "5                                                                                                         kernel: [RBF(length_scale=1), RationalQuadratic(alpha=1, length_scale=1), DotProduct(sigma_0=1)] | max_iter_predict: [50, 100, 200] | random_state: [11]  \n",
       "6                                                              criterion: ['gini', 'entropy', 'log_loss'] | max_depth: [25, 50, 100] | min_samples_leaf: [5, 10, 20] | max_features: [None, 'sqrt', 'log2'] | ccp_alpha: [0.005, 0.015, 0.03] | random_state: [11]  \n",
       "7                               n_estimators: [50, 100, 200] | criterion: ['gini', 'entropy', 'log_loss'] | max_depth: [25, 50, 100] | min_samples_leaf: [5, 10, 20] | max_features: [None, 'sqrt', 'log2'] | ccp_alpha: [0.005, 0.015, 0.03] | random_state: [11]  \n",
       "8                                                                                                                                              n_estimators: [25, 50, 100] | learning_rate: [0.5, 1.0, 2.0] | algorithm: ['SAMME', 'SAMME.R'] | random_state: [11]  \n",
       "9  loss: ['log_loss', 'deviance'] | learning_rate: [0.05, 0.1, 0.2] | n_estimators: [25, 50, 100] | criterion: ['friedman_mse', 'squared_error'] | max_depth: [25, 50, 100] | min_samples_leaf: [5, 10, 20] | ccp_alpha: [0.005, 0.015, 0.03] | random_state: [11]  "
      ]
     },
     "execution_count": 96,
     "metadata": {},
     "output_type": "execute_result"
    }
   ],
   "source": [
    "clf_param_grid"
   ]
  },
  {
   "cell_type": "markdown",
   "id": "0d96194c",
   "metadata": {},
   "source": [
    "**NOTE:** this table will probably need major manual rework afterwards."
   ]
  },
  {
   "cell_type": "code",
   "execution_count": 97,
   "id": "576cede3",
   "metadata": {
    "ExecuteTime": {
     "end_time": "2023-02-25T12:10:04.937193Z",
     "start_time": "2023-02-25T12:10:04.913257Z"
    }
   },
   "outputs": [
    {
     "name": "stdout",
     "output_type": "stream",
     "text": [
      "\\begin{longtable}{ll}\n",
      "\\caption[Model preselection. Initial parameter grids.]{Model preselection. Initial parameter grids.}\\\\\n",
      "\\toprule\n",
      "                      Model &                                                                                                                                                                                                                                          Initial parameter grid \\\\\n",
      "\\midrule\n",
      "\\endfirsthead\n",
      "\\caption[]{Model preselection. Initial parameter grids.} \\\\\n",
      "\\toprule\n",
      "                      Model &                                                                                                                                                                                                                                          Initial parameter grid \\\\\n",
      "\\midrule\n",
      "\\endhead\n",
      "\\midrule\n",
      "\\multicolumn{2}{r}{{Continued on next page}} \\\\\n",
      "\\midrule\n",
      "\\endfoot\n",
      "\n",
      "\\bottomrule\n",
      "\\endlastfoot\n",
      "                 Perceptron &                                                                                                     penalty: ['l1', 'l2', 'elasticnet'] | alpha: [0.001, 0.0001, 1e-05] | l1\\_ratio: [None, 0.075, 0.15, 0.3] | max\\_iter: [500, 1000, 2000] | random\\_state: [11] \\\\\n",
      "         LogisticRegression &                                                                                                penalty: ['l1', 'l2', 'elasticnet'] | C: [0.5, 1.0, 2.0] | l1\\_ratio: [None, 0.075, 0.15, 0.3] | solver: ['saga'] | max\\_iter: [50, 100, 200] | random\\_state: [11] \\\\\n",
      "PassiveAggressiveClassifier &                                                                                                                                                        C: [0.5, 1.0, 2.0] | max\\_iter: [500, 1000, 2000] | loss: ['hinge', 'squared\\_hinge'] | random\\_state: [11] \\\\\n",
      "                        SVC &                                                                                                                                        C: [0.5, 1.0, 2.0] | kernel: ['linear', 'poly', 'rbf', 'sigmoid', 'recomputed'] | degree: [2, 3, 6] | random\\_state: [11] \\\\\n",
      "       KNeighborsClassifier &                                                                                                                                        n\\_neighbors: [1, 3, 5, 10] | weights: ['uniform', 'distance'] | algorithm: ['ball\\_tree', 'kd\\_tree', 'brute'] | p: [1, 2] \\\\\n",
      "  GaussianProcessClassifier &                                                                                                        kernel: [RBF(length\\_scale=1), RationalQuadratic(alpha=1, length\\_scale=1), DotProduct(sigma\\_0=1)] | max\\_iter\\_predict: [50, 100, 200] | random\\_state: [11] \\\\\n",
      "     DecisionTreeClassifier &                                                             criterion: ['gini', 'entropy', 'log\\_loss'] | max\\_depth: [25, 50, 100] | min\\_samples\\_leaf: [5, 10, 20] | max\\_features: [None, 'sqrt', 'log2'] | ccp\\_alpha: [0.005, 0.015, 0.03] | random\\_state: [11] \\\\\n",
      "     RandomForestClassifier &                              n\\_estimators: [50, 100, 200] | criterion: ['gini', 'entropy', 'log\\_loss'] | max\\_depth: [25, 50, 100] | min\\_samples\\_leaf: [5, 10, 20] | max\\_features: [None, 'sqrt', 'log2'] | ccp\\_alpha: [0.005, 0.015, 0.03] | random\\_state: [11] \\\\\n",
      "         AdaBoostClassifier &                                                                                                                                             n\\_estimators: [25, 50, 100] | learning\\_rate: [0.5, 1.0, 2.0] | algorithm: ['SAMME', 'SAMME.R'] | random\\_state: [11] \\\\\n",
      " GradientBoostingClassifier & loss: ['log\\_loss', 'deviance'] | learning\\_rate: [0.05, 0.1, 0.2] | n\\_estimators: [25, 50, 100] | criterion: ['friedman\\_mse', 'squared\\_error'] | max\\_depth: [25, 50, 100] | min\\_samples\\_leaf: [5, 10, 20] | ccp\\_alpha: [0.005, 0.015, 0.03] | random\\_state: [11] \\\\\n",
      "\\end{longtable}\n",
      "\n"
     ]
    },
    {
     "name": "stderr",
     "output_type": "stream",
     "text": [
      "C:\\Users\\ciroe\\AppData\\Local\\Temp\\ipykernel_19112\\24834195.py:2: FutureWarning: In future versions `DataFrame.to_latex` is expected to utilise the base implementation of `Styler.to_latex` for formatting and rendering. The arguments signature may therefore change. It is recommended instead to use `DataFrame.style.to_latex` which also contains additional functionality.\n",
      "  print(clf_param_grid.to_latex(index=False, longtable=True,\n"
     ]
    }
   ],
   "source": [
    "# Print to screen:\n",
    "print(clf_param_grid.to_latex(index=False, longtable=True,\n",
    "                              caption=(\"Model preselection. Initial parameter grids.\",\n",
    "                                       \"Model preselection. Initial parameter grids.\")))\n",
    "\n"
   ]
  },
  {
   "cell_type": "code",
   "execution_count": 98,
   "id": "32753f86",
   "metadata": {
    "ExecuteTime": {
     "end_time": "2023-02-25T12:10:07.467238Z",
     "start_time": "2023-02-25T12:10:07.457265Z"
    }
   },
   "outputs": [
    {
     "name": "stderr",
     "output_type": "stream",
     "text": [
      "C:\\Users\\ciroe\\AppData\\Local\\Temp\\ipykernel_19112\\3532843245.py:7: FutureWarning: In future versions `DataFrame.to_latex` is expected to utilise the base implementation of `Styler.to_latex` for formatting and rendering. The arguments signature may therefore change. It is recommended instead to use `DataFrame.style.to_latex` which also contains additional functionality.\n",
      "  print(clf_param_grid.to_latex(index=False, longtable=True,\n"
     ]
    }
   ],
   "source": [
    "# Save to file:\n",
    "# Write to file:\n",
    "# Backup the standard output:\n",
    "original_stdout = sys.stdout\n",
    "with open(LATEX_PARAMGRID_OUT, 'w') as f:\n",
    "    sys.stdout = f # Change the standard output to the file we created.\n",
    "    print(clf_param_grid.to_latex(index=False, longtable=True,\n",
    "                                  caption=(\"Model preselection. Initial parameter grids.\",\n",
    "                                           \"Model preselection. Initial parameter grids.\")))\n",
    "# Restore the standard output to its original value\n",
    "sys.stdout = original_stdout"
   ]
  },
  {
   "cell_type": "markdown",
   "id": "30ff4dd6",
   "metadata": {},
   "source": [
    "## Summary"
   ]
  },
  {
   "cell_type": "markdown",
   "id": "7505703c",
   "metadata": {},
   "source": [
    "**RESULTS:**\n",
    "\n",
    "- Generated and saved the LaTeX tables for the Masters' thesis documentation.\n",
    "\n"
   ]
  },
  {
   "cell_type": "code",
   "execution_count": null,
   "id": "7e2f3549",
   "metadata": {},
   "outputs": [],
   "source": []
  }
 ],
 "metadata": {
  "kernelspec": {
   "display_name": "Python 3 (ipykernel)",
   "language": "python",
   "name": "python3"
  },
  "language_info": {
   "codemirror_mode": {
    "name": "ipython",
    "version": 3
   },
   "file_extension": ".py",
   "mimetype": "text/x-python",
   "name": "python",
   "nbconvert_exporter": "python",
   "pygments_lexer": "ipython3",
   "version": "3.8.8"
  },
  "toc": {
   "base_numbering": 1,
   "nav_menu": {},
   "number_sections": true,
   "sideBar": true,
   "skip_h1_title": true,
   "title_cell": "Table of Contents",
   "title_sidebar": "Contents",
   "toc_cell": false,
   "toc_position": {
    "height": "calc(100% - 180px)",
    "left": "10px",
    "top": "150px",
    "width": "370.797px"
   },
   "toc_section_display": true,
   "toc_window_display": true
  }
 },
 "nbformat": 4,
 "nbformat_minor": 5
}
