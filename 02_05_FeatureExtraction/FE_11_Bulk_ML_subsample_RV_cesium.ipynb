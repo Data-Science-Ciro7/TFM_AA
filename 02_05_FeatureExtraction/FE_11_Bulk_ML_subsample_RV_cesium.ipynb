{
 "cells": [
  {
   "cell_type": "markdown",
   "metadata": {},
   "source": [
    "# BULK FEATURE EXTRACTION OF THE ML SUBSAMPLE REAL RV CURVES WITH `cesium`"
   ]
  },
  {
   "cell_type": "markdown",
   "metadata": {},
   "source": [
    "In this notebook we do the bulk feature extraction with `cesium` for all the 233 objects in ML subsample.\n",
    "\n",
    "**IMPORTANT NOTE:** this code is probably not very efficient (for example, too many dataframe `append` operations, which is costly), but there is no special need at the moment to be more efficient. Maybe the solution is to create a 2D numpy array and then, at the end, create the DataFrame."
   ]
  },
  {
   "cell_type": "markdown",
   "metadata": {},
   "source": [
    "## Modules and configuration"
   ]
  },
  {
   "cell_type": "markdown",
   "metadata": {},
   "source": [
    "### Modules"
   ]
  },
  {
   "cell_type": "raw",
   "metadata": {
    "ExecuteTime": {
     "end_time": "2023-02-05T21:06:46.473833Z",
     "start_time": "2023-02-05T21:06:46.455881Z"
    }
   },
   "source": [
    "import cesium"
   ]
  },
  {
   "cell_type": "raw",
   "metadata": {
    "ExecuteTime": {
     "end_time": "2023-02-05T21:29:51.514802Z",
     "start_time": "2023-02-05T21:29:51.494857Z"
    }
   },
   "source": [
    "cesium.__file__"
   ]
  },
  {
   "cell_type": "code",
   "execution_count": 1,
   "metadata": {
    "ExecuteTime": {
     "end_time": "2023-01-23T12:37:52.989590Z",
     "start_time": "2023-01-23T12:37:52.144430Z"
    }
   },
   "outputs": [],
   "source": [
    "# Module import:\n",
    "from IPython.display import clear_output\n",
    "import warnings\n",
    "import time\n",
    "\n",
    "import pandas as pd\n",
    "import numpy as np\n",
    "\n",
    "from cesium.data_management import TimeSeries\n",
    "from cesium.featurize import featurize_single_ts"
   ]
  },
  {
   "cell_type": "markdown",
   "metadata": {},
   "source": [
    "### Configuration"
   ]
  },
  {
   "cell_type": "code",
   "execution_count": 2,
   "metadata": {
    "ExecuteTime": {
     "end_time": "2023-01-23T12:37:55.059340Z",
     "start_time": "2023-01-23T12:37:55.039183Z"
    }
   },
   "outputs": [],
   "source": [
    "GTO_FILE = \"../data/SELECTION_for_ML_CARM_VIS_objects_with_PG.csv\"\n",
    "#RV_FOLDER = \"../data/ML_RVs/\"\n",
    "\n",
    "CS_FEATURES_FOLDER = \"../data/DATASETS_CESIUM/\"\n",
    "OUT_DATASET_FILE = \"cesium_ML_Subsample_Dataset.csv\"\n",
    "\n",
    "# LIST OF STAR METADATA TO ADD (FROM CARMENCITA DATABASE):\n",
    "METADATA = ['Karmn', 'SpT', 'SpTnum', 'Teff_K', 'eTeff_K', 'logg', 'elogg', '[Fe/H]', 'e[Fe/H]', 'L_Lsol', 'eL_Lsol',\n",
    "            'R_Rsol', 'eR_Rsol', 'M_Msol', 'eM_Msol', 'muRA_masa-1', 'emuRA_masa-1', 'muDE_masa-1', 'emuDE_masa-1', 'pi_mas',\n",
    "            'epi_mas', 'd_pc', 'ed_pc', 'Vr_kms-1', 'eVr_kms-1', 'ruwe', 'U_kms-1', 'eU_kms-1', 'V_kms-1', 'eV_kms-1',\n",
    "            'W_kms-1', 'eW_kms-1', 'sa_m/s/a', 'esa_m/s/a', 'Pop', 'vsini_flag', 'vsini_kms-1', 'P_d',\n",
    "            'pEWHalpha_A', 'epEWHalpha_A', 'Activity', 'FUV_mag', 'eFUV_mag', 'NUV_mag', 'eNUV_mag', 'u_mag', 'eu_mag',\n",
    "            'BT_mag', 'eBT_mag', 'B_mag', 'eB_mag', 'BP_mag', 'eBP_mag', 'g_mag', 'eg_mag', 'VT_mag', 'eVT_mag',\n",
    "            'V_mag', 'eV_mag', 'Ra_mag', 'r_mag', 'er_mag', 'GG_mag', 'eGG_mag', 'i_mag', 'ei_mag', 'RP_mag', 'eRP_mag',\n",
    "            'IN_mag', 'J_mag', 'eJ_mag', 'H_mag', 'eH_mag', 'Ks_mag', 'eKs_mag', 'QFlag_2M', 'W1_mag', 'eW1_mag',\n",
    "            'W2_mag', 'eW2_mag', 'W3_mag', 'eW3_mag', 'W4_mag', 'eW4_mag', 'QFlag_WISE', 'Multiplicity',\n",
    "            'Planet', 'PlanetNum', 'Teff_min_K', 'Teff_max_K', 'logg_min', 'logg_max', 'is_GTO',\n",
    "            'InstBand_nominal', 'InstBand_ranged']\n",
    "\n",
    "# A LIST OF ALL THE FEATURES CESIUM CAN EXTRACT (FOR REFERENCE PURPOSES)\n",
    "ALL_CS_FEATURES = ['all_times_nhist_numpeaks',\n",
    "                   'all_times_nhist_peak1_bin', 'all_times_nhist_peak2_bin', 'all_times_nhist_peak3_bin', 'all_times_nhist_peak4_bin',\n",
    "                   'all_times_nhist_peak_1_to_2', 'all_times_nhist_peak_1_to_3', 'all_times_nhist_peak_1_to_4',\n",
    "                   'all_times_nhist_peak_2_to_3', 'all_times_nhist_peak_2_to_4',\n",
    "                   'all_times_nhist_peak_3_to_4',\n",
    "                   'all_times_nhist_peak_val',\n",
    "                   'avg_double_to_single_step', 'avg_err', 'avgt',\n",
    "                   'cad_probs_1', 'cad_probs_10', 'cad_probs_20', 'cad_probs_30', 'cad_probs_40', 'cad_probs_50',\n",
    "                   'cad_probs_100', 'cad_probs_500', 'cad_probs_1000', 'cad_probs_5000',\n",
    "                   'cad_probs_10000', 'cad_probs_50000', 'cad_probs_100000', 'cad_probs_500000',\n",
    "                   'cad_probs_1000000', 'cad_probs_5000000', 'cad_probs_10000000',\n",
    "                   'cads_avg', 'cads_med', 'cads_std', 'mean',\n",
    "                   'med_double_to_single_step', 'med_err',\n",
    "                   'n_epochs', 'std_double_to_single_step', 'std_err',\n",
    "                   'total_time', 'amplitude',\n",
    "                   'flux_percentile_ratio_mid20', 'flux_percentile_ratio_mid35', 'flux_percentile_ratio_mid50',\n",
    "                   'flux_percentile_ratio_mid65', 'flux_percentile_ratio_mid80',\n",
    "                   'max_slope', 'maximum', 'median', 'median_absolute_deviation', 'minimum',\n",
    "                   'percent_amplitude', 'percent_beyond_1_std', 'percent_close_to_median', 'percent_difference_flux_percentile',\n",
    "                   'period_fast', 'qso_log_chi2_qsonu', 'qso_log_chi2nuNULL_chi2nu', 'skew', 'std',\n",
    "                   'stetson_j', 'stetson_k', 'weighted_average', 'fold2P_slope_10percentile', 'fold2P_slope_90percentile',\n",
    "                   'freq1_amplitude1', 'freq1_amplitude2', 'freq1_amplitude3', 'freq1_amplitude4',\n",
    "                   'freq1_freq', 'freq1_lambda', 'freq1_rel_phase2', 'freq1_rel_phase3', 'freq1_rel_phase4', 'freq1_signif',\n",
    "                   'freq2_amplitude1', 'freq2_amplitude2', 'freq2_amplitude3', 'freq2_amplitude4',\n",
    "                   'freq2_freq', 'freq2_rel_phase2', 'freq2_rel_phase3', 'freq2_rel_phase4',\n",
    "                   'freq3_amplitude1', 'freq3_amplitude2', 'freq3_amplitude3', 'freq3_amplitude4',\n",
    "                   'freq3_freq', 'freq3_rel_phase2', 'freq3_rel_phase3', 'freq3_rel_phase4',\n",
    "                   'freq_amplitude_ratio_21', 'freq_amplitude_ratio_31',\n",
    "                   'freq_frequency_ratio_21', 'freq_frequency_ratio_31',\n",
    "                   'freq_model_max_delta_mags', 'freq_model_min_delta_mags', 'freq_model_phi1_phi2',\n",
    "                   'freq_n_alias', 'freq_signif_ratio_21', 'freq_signif_ratio_31',\n",
    "                   'freq_varrat', 'freq_y_offset', 'linear_trend', 'medperc90_2p_p',\n",
    "                   'p2p_scatter_2praw', 'p2p_scatter_over_mad', 'p2p_scatter_pfold_over_mad', 'p2p_ssqr_diff_over_var',\n",
    "                   'scatter_res_raw']\n"
   ]
  },
  {
   "cell_type": "markdown",
   "metadata": {},
   "source": [
    "## Load ML subsample information table"
   ]
  },
  {
   "cell_type": "code",
   "execution_count": 3,
   "metadata": {
    "ExecuteTime": {
     "end_time": "2023-01-23T12:37:56.259166Z",
     "start_time": "2023-01-23T12:37:56.191106Z"
    }
   },
   "outputs": [
    {
     "data": {
      "text/html": [
       "<div>\n",
       "<style scoped>\n",
       "    .dataframe tbody tr th:only-of-type {\n",
       "        vertical-align: middle;\n",
       "    }\n",
       "\n",
       "    .dataframe tbody tr th {\n",
       "        vertical-align: top;\n",
       "    }\n",
       "\n",
       "    .dataframe thead th {\n",
       "        text-align: right;\n",
       "    }\n",
       "</style>\n",
       "<table border=\"1\" class=\"dataframe\">\n",
       "  <thead>\n",
       "    <tr style=\"text-align: right;\">\n",
       "      <th></th>\n",
       "      <th>Karmn</th>\n",
       "      <th>Name</th>\n",
       "      <th>Comp</th>\n",
       "      <th>GJ</th>\n",
       "      <th>RA_J2016_deg</th>\n",
       "      <th>DE_J2016_deg</th>\n",
       "      <th>RA_J2000</th>\n",
       "      <th>DE_J2000</th>\n",
       "      <th>l_J2016_deg</th>\n",
       "      <th>b_J2016_deg</th>\n",
       "      <th>...</th>\n",
       "      <th>WF_offset_PG_TESS</th>\n",
       "      <th>WF_e_offset_PG_TESS</th>\n",
       "      <th>WF_FAP_PG_TESS</th>\n",
       "      <th>WF_valid_PG_TESS</th>\n",
       "      <th>WF_error_PG_TESS</th>\n",
       "      <th>WF_elapsed_time_PG_TESS</th>\n",
       "      <th>WF_plain_file_TESS</th>\n",
       "      <th>WF_fig_file_TESS</th>\n",
       "      <th>PG_file_RV</th>\n",
       "      <th>PG_file_TESS</th>\n",
       "    </tr>\n",
       "  </thead>\n",
       "  <tbody>\n",
       "    <tr>\n",
       "      <th>0</th>\n",
       "      <td>J23505-095</td>\n",
       "      <td>LP 763-012</td>\n",
       "      <td>-</td>\n",
       "      <td>4367</td>\n",
       "      <td>357.634705</td>\n",
       "      <td>-9.560964</td>\n",
       "      <td>23:50:31.64</td>\n",
       "      <td>-09:33:32.7</td>\n",
       "      <td>80.777067</td>\n",
       "      <td>-67.303426</td>\n",
       "      <td>...</td>\n",
       "      <td>1000.000122</td>\n",
       "      <td>9.022946e-07</td>\n",
       "      <td>1.0</td>\n",
       "      <td>1.0</td>\n",
       "      <td>NaN</td>\n",
       "      <td>132.607176</td>\n",
       "      <td>../data/CARM_VIS_TESS_WinFunc_PGs/WF_J23505-09...</td>\n",
       "      <td>../data/CARM_VIS_TESS_WinFunc_PGs/figures/WF_J...</td>\n",
       "      <td>../data/CARM_VIS_RVs_PGs/J23505-095_RV_PG.dat</td>\n",
       "      <td>../data/CARM_VIS_TESS_PGs/J23505-095_RV_PG.dat</td>\n",
       "    </tr>\n",
       "    <tr>\n",
       "      <th>1</th>\n",
       "      <td>J23492+024</td>\n",
       "      <td>BR Psc</td>\n",
       "      <td>-</td>\n",
       "      <td>908</td>\n",
       "      <td>357.306604</td>\n",
       "      <td>2.396918</td>\n",
       "      <td>23:49:12.53</td>\n",
       "      <td>+02:24:04.4</td>\n",
       "      <td>93.567467</td>\n",
       "      <td>-56.885396</td>\n",
       "      <td>...</td>\n",
       "      <td>NaN</td>\n",
       "      <td>NaN</td>\n",
       "      <td>NaN</td>\n",
       "      <td>0.0</td>\n",
       "      <td>Not recognized as a supported data product:\\nn...</td>\n",
       "      <td>0.001995</td>\n",
       "      <td>NaN</td>\n",
       "      <td>NaN</td>\n",
       "      <td>../data/CARM_VIS_RVs_PGs/J23492+024_RV_PG.dat</td>\n",
       "      <td>NaN</td>\n",
       "    </tr>\n",
       "    <tr>\n",
       "      <th>2</th>\n",
       "      <td>J23431+365</td>\n",
       "      <td>GJ 1289</td>\n",
       "      <td>-</td>\n",
       "      <td>1289</td>\n",
       "      <td>355.781509</td>\n",
       "      <td>36.536310</td>\n",
       "      <td>23:43:06.31</td>\n",
       "      <td>+36:32:13.1</td>\n",
       "      <td>107.922839</td>\n",
       "      <td>-24.336479</td>\n",
       "      <td>...</td>\n",
       "      <td>999.999512</td>\n",
       "      <td>4.306074e-06</td>\n",
       "      <td>1.0</td>\n",
       "      <td>1.0</td>\n",
       "      <td>NaN</td>\n",
       "      <td>97.939914</td>\n",
       "      <td>../data/CARM_VIS_TESS_WinFunc_PGs/WF_J23431+36...</td>\n",
       "      <td>../data/CARM_VIS_TESS_WinFunc_PGs/figures/WF_J...</td>\n",
       "      <td>../data/CARM_VIS_RVs_PGs/J23431+365_RV_PG.dat</td>\n",
       "      <td>../data/CARM_VIS_TESS_PGs/J23431+365_RV_PG.dat</td>\n",
       "    </tr>\n",
       "    <tr>\n",
       "      <th>3</th>\n",
       "      <td>J23419+441</td>\n",
       "      <td>HH And</td>\n",
       "      <td>-</td>\n",
       "      <td>905</td>\n",
       "      <td>355.480015</td>\n",
       "      <td>44.170376</td>\n",
       "      <td>23:41:55.04</td>\n",
       "      <td>+44:10:38.8</td>\n",
       "      <td>109.989338</td>\n",
       "      <td>-16.947350</td>\n",
       "      <td>...</td>\n",
       "      <td>NaN</td>\n",
       "      <td>NaN</td>\n",
       "      <td>NaN</td>\n",
       "      <td>0.0</td>\n",
       "      <td>Not recognized as a supported data product:\\nn...</td>\n",
       "      <td>0.000998</td>\n",
       "      <td>NaN</td>\n",
       "      <td>NaN</td>\n",
       "      <td>../data/CARM_VIS_RVs_PGs/J23419+441_RV_PG.dat</td>\n",
       "      <td>NaN</td>\n",
       "    </tr>\n",
       "    <tr>\n",
       "      <th>4</th>\n",
       "      <td>J23381-162</td>\n",
       "      <td>G 273-093</td>\n",
       "      <td>-</td>\n",
       "      <td>4352</td>\n",
       "      <td>354.532687</td>\n",
       "      <td>-16.236514</td>\n",
       "      <td>23:38:08.16</td>\n",
       "      <td>-16:14:10.2</td>\n",
       "      <td>61.845437</td>\n",
       "      <td>-69.825220</td>\n",
       "      <td>...</td>\n",
       "      <td>1000.000122</td>\n",
       "      <td>9.022946e-07</td>\n",
       "      <td>1.0</td>\n",
       "      <td>1.0</td>\n",
       "      <td>NaN</td>\n",
       "      <td>136.603404</td>\n",
       "      <td>../data/CARM_VIS_TESS_WinFunc_PGs/WF_J23381-16...</td>\n",
       "      <td>../data/CARM_VIS_TESS_WinFunc_PGs/figures/WF_J...</td>\n",
       "      <td>../data/CARM_VIS_RVs_PGs/J23381-162_RV_PG.dat</td>\n",
       "      <td>../data/CARM_VIS_TESS_PGs/J23381-162_RV_PG.dat</td>\n",
       "    </tr>\n",
       "  </tbody>\n",
       "</table>\n",
       "<p>5 rows × 300 columns</p>\n",
       "</div>"
      ],
      "text/plain": [
       "        Karmn        Name Comp    GJ  RA_J2016_deg  DE_J2016_deg     RA_J2000  \\\n",
       "0  J23505-095  LP 763-012    -  4367    357.634705     -9.560964  23:50:31.64   \n",
       "1  J23492+024      BR Psc    -   908    357.306604      2.396918  23:49:12.53   \n",
       "2  J23431+365     GJ 1289    -  1289    355.781509     36.536310  23:43:06.31   \n",
       "3  J23419+441      HH And    -   905    355.480015     44.170376  23:41:55.04   \n",
       "4  J23381-162   G 273-093    -  4352    354.532687    -16.236514  23:38:08.16   \n",
       "\n",
       "      DE_J2000  l_J2016_deg  b_J2016_deg  ... WF_offset_PG_TESS  \\\n",
       "0  -09:33:32.7    80.777067   -67.303426  ...       1000.000122   \n",
       "1  +02:24:04.4    93.567467   -56.885396  ...               NaN   \n",
       "2  +36:32:13.1   107.922839   -24.336479  ...        999.999512   \n",
       "3  +44:10:38.8   109.989338   -16.947350  ...               NaN   \n",
       "4  -16:14:10.2    61.845437   -69.825220  ...       1000.000122   \n",
       "\n",
       "  WF_e_offset_PG_TESS  WF_FAP_PG_TESS WF_valid_PG_TESS  \\\n",
       "0        9.022946e-07             1.0              1.0   \n",
       "1                 NaN             NaN              0.0   \n",
       "2        4.306074e-06             1.0              1.0   \n",
       "3                 NaN             NaN              0.0   \n",
       "4        9.022946e-07             1.0              1.0   \n",
       "\n",
       "                                    WF_error_PG_TESS  WF_elapsed_time_PG_TESS  \\\n",
       "0                                                NaN               132.607176   \n",
       "1  Not recognized as a supported data product:\\nn...                 0.001995   \n",
       "2                                                NaN                97.939914   \n",
       "3  Not recognized as a supported data product:\\nn...                 0.000998   \n",
       "4                                                NaN               136.603404   \n",
       "\n",
       "                                  WF_plain_file_TESS  \\\n",
       "0  ../data/CARM_VIS_TESS_WinFunc_PGs/WF_J23505-09...   \n",
       "1                                                NaN   \n",
       "2  ../data/CARM_VIS_TESS_WinFunc_PGs/WF_J23431+36...   \n",
       "3                                                NaN   \n",
       "4  ../data/CARM_VIS_TESS_WinFunc_PGs/WF_J23381-16...   \n",
       "\n",
       "                                    WF_fig_file_TESS  \\\n",
       "0  ../data/CARM_VIS_TESS_WinFunc_PGs/figures/WF_J...   \n",
       "1                                                NaN   \n",
       "2  ../data/CARM_VIS_TESS_WinFunc_PGs/figures/WF_J...   \n",
       "3                                                NaN   \n",
       "4  ../data/CARM_VIS_TESS_WinFunc_PGs/figures/WF_J...   \n",
       "\n",
       "                                      PG_file_RV  \\\n",
       "0  ../data/CARM_VIS_RVs_PGs/J23505-095_RV_PG.dat   \n",
       "1  ../data/CARM_VIS_RVs_PGs/J23492+024_RV_PG.dat   \n",
       "2  ../data/CARM_VIS_RVs_PGs/J23431+365_RV_PG.dat   \n",
       "3  ../data/CARM_VIS_RVs_PGs/J23419+441_RV_PG.dat   \n",
       "4  ../data/CARM_VIS_RVs_PGs/J23381-162_RV_PG.dat   \n",
       "\n",
       "                                     PG_file_TESS  \n",
       "0  ../data/CARM_VIS_TESS_PGs/J23505-095_RV_PG.dat  \n",
       "1                                             NaN  \n",
       "2  ../data/CARM_VIS_TESS_PGs/J23431+365_RV_PG.dat  \n",
       "3                                             NaN  \n",
       "4  ../data/CARM_VIS_TESS_PGs/J23381-162_RV_PG.dat  \n",
       "\n",
       "[5 rows x 300 columns]"
      ]
     },
     "execution_count": 3,
     "metadata": {},
     "output_type": "execute_result"
    }
   ],
   "source": [
    "gto = pd.read_csv(GTO_FILE, sep=',', decimal='.')\n",
    "gto.head()"
   ]
  },
  {
   "cell_type": "code",
   "execution_count": 4,
   "metadata": {
    "ExecuteTime": {
     "end_time": "2023-01-23T12:37:58.376097Z",
     "start_time": "2023-01-23T12:37:58.367121Z"
    }
   },
   "outputs": [
    {
     "name": "stdout",
     "output_type": "stream",
     "text": [
      "['Karmn', 'Name', 'Comp', 'GJ', 'RA_J2016_deg', 'DE_J2016_deg', 'RA_J2000', 'DE_J2000', 'l_J2016_deg', 'b_J2016_deg', 'Ref01', 'SpT', 'SpTnum', 'Ref02', 'Teff_K', 'eTeff_K', 'logg', 'elogg', '[Fe/H]', 'e[Fe/H]', 'Ref03', 'L_Lsol', 'eL_Lsol', 'Ref04', 'R_Rsol', 'eR_Rsol', 'Ref05', 'M_Msol', 'eM_Msol', 'Ref06', 'muRA_masa-1', 'emuRA_masa-1', 'muDE_masa-1', 'emuDE_masa-1', 'Ref07', 'pi_mas', 'epi_mas', 'Ref08', 'd_pc', 'ed_pc', 'Ref09', 'Vr_kms-1', 'eVr_kms-1', 'Ref10', 'ruwe', 'Ref11', 'U_kms-1', 'eU_kms-1', 'V_kms-1', 'eV_kms-1', 'W_kms-1', 'eW_kms-1', 'Ref12', 'sa_m/s/a', 'esa_m/s/a', 'Ref13', 'SKG', 'Ref14', 'SKG_lit', 'Ref14_lit', 'Pop', 'Ref15', 'vsini_flag', 'vsini_kms-1', 'evsini_kms-1', 'Ref16', 'P_d', 'eP_d', 'Ref17', 'pEWHalpha_A', 'epEWHalpha_A', 'Ref18', 'log(LHalpha/Lbol)', 'elog(LHalpha/Lbol)', 'Ref19', '1RXS', 'CRT_s-1', 'eCRT_s-1', 'HR1', 'eHR1', 'HR2', 'eHR2', 'Flux_X_E-13_ergcm-2s-1', 'eFlux_X_E-13_ergcm-2s-1', 'LX/LJ', 'eLX/LJ', 'Ref20', 'Activity', 'Ref21', 'FUV_mag', 'eFUV_mag', 'NUV_mag', 'eNUV_mag', 'Ref22', 'u_mag', 'eu_mag', 'Ref23', 'BT_mag', 'eBT_mag', 'Ref24', 'B_mag', 'eB_mag', 'Ref25', 'BP_mag', 'eBP_mag', 'Ref26', 'g_mag', 'eg_mag', 'Ref27', 'VT_mag', 'eVT_mag', 'Ref28', 'V_mag', 'eV_mag', 'Ref29', 'Ra_mag', 'Ref30', 'r_mag', 'er_mag', 'Ref31', 'GG_mag', 'eGG_mag', 'Ref32', 'i_mag', 'ei_mag', 'Ref33', 'RP_mag', 'eRP_mag', 'Ref34', 'IN_mag', 'Ref35', 'J_mag', 'eJ_mag', 'H_mag', 'eH_mag', 'Ks_mag', 'eKs_mag', 'QFlag_2M', 'Ref36', 'W1_mag', 'eW1_mag', 'W2_mag', 'eW2_mag', 'W3_mag', 'eW3_mag', 'W4_mag', 'eW4_mag', 'QFlag_WISE', 'Ref37', 'Multiplicity', 'WideWDS', 'Widerho_arcsec', 'eWiderho_arcsec', 'Ref38', 'WideCompanionName', 'WideCompanionSpT', 'CloseWDS', 'Closerho_arcsec', 'eCloserho_arcsec', 'Ref39', 'CloseCompanionSpT', 'RV', 'Planet', 'Ref40', 'PlanetNum', 'LoRes_spectrum', 'HiRes_spectrum', 'LoRes_imaging', 'HiRes_imaging', 'Class', 'Survey', 'Notes', 'Gaia_id_1', '2MASS_id', 'TIC_id', 'Teff_min_K', 'Teff_max_K', 'logg_min', 'logg_max', 'is_GTO', 'rv_file', 'lc_file', 'has_rv', 'has_lc', 'InstBand_nominal', 'InstBand_ranged', 'n_RV', 'Ps_RV', 'fs_RV', 'wmean_RV', 'wrms_RV', 'info_PG_RV', 'maxP_PG_RV', 'maxSNR_PG_RV', 'rms_PG_RV', 'f_PG_RV', 'e_f_PG_RV', 'Pd_PG_RV', 'e_Pd_PG_RV', 'Ph_PG_RV', 'e_Ph_PG_RV', 'Pm_PG_RV', 'e_Pm_PG_RV', 'A_PG_RV', 'e_A_PG_RV', 'ph_PG_RV', 'e_ph_PG_RV', 'T0_PG_RV', 'e_T0_PG_RV', 'offset_PG_RV', 'e_offset_PG_RV', 'FAP_PG_RV', 'valid_PG_RV', 'error_PG_RV', 'elapsed_time_PG_RV', 'fits_file_RV', 'fig_file_RV', 'n_TESS', 'Ps_TESS', 'fs_TESS', 'wmean_TESS', 'wrms_TESS', 'info_PG_TESS', 'maxP_PG_TESS', 'maxSNR_PG_TESS', 'rms_PG_TESS', 'f_PG_TESS', 'e_f_PG_TESS', 'Pd_PG_TESS', 'e_Pd_PG_TESS', 'Ph_PG_TESS', 'e_Ph_PG_TESS', 'Pm_PG_TESS', 'e_Pm_PG_TESS', 'A_PG_TESS', 'e_A_PG_TESS', 'ph_PG_TESS', 'e_ph_PG_TESS', 'T0_PG_TESS', 'e_T0_PG_TESS', 'offset_PG_TESS', 'e_offset_PG_TESS', 'FAP_PG_TESS', 'valid_PG_TESS', 'error_PG_TESS', 'elapsed_time_PG_TESS', 'fits_file_TESS', 'fig_file_TESS', 'WF_maxP_PG_RV', 'WF_maxSNR_PG_RV', 'WF_rms_PG_RV', 'WF_f_PG_RV', 'WF_e_f_PG_RV', 'WF_Pd_PG_RV', 'WF_e_Pd_PG_RV', 'WF_Ph_PG_RV', 'WF_e_Ph_PG_RV', 'WF_Pm_PG_RV', 'WF_e_Pm_PG_RV', 'WF_A_PG_RV', 'WF_e_A_PG_RV', 'WF_ph_PG_RV', 'WF_e_ph_PG_RV', 'WF_T0_PG_RV', 'WF_e_T0_PG_RV', 'WF_offset_PG_RV', 'WF_e_offset_PG_RV', 'WF_FAP_PG_RV', 'WF_valid_PG_RV', 'WF_error_PG_RV', 'WF_elapsed_time_PG_RV', 'WF_plain_file_RV', 'WF_fig_file_RV', 'WF_maxP_PG_TESS', 'WF_maxSNR_PG_TESS', 'WF_rms_PG_TESS', 'WF_f_PG_TESS', 'WF_e_f_PG_TESS', 'WF_Pd_PG_TESS', 'WF_e_Pd_PG_TESS', 'WF_Ph_PG_TESS', 'WF_e_Ph_PG_TESS', 'WF_Pm_PG_TESS', 'WF_e_Pm_PG_TESS', 'WF_A_PG_TESS', 'WF_e_A_PG_TESS', 'WF_ph_PG_TESS', 'WF_e_ph_PG_TESS', 'WF_T0_PG_TESS', 'WF_e_T0_PG_TESS', 'WF_offset_PG_TESS', 'WF_e_offset_PG_TESS', 'WF_FAP_PG_TESS', 'WF_valid_PG_TESS', 'WF_error_PG_TESS', 'WF_elapsed_time_PG_TESS', 'WF_plain_file_TESS', 'WF_fig_file_TESS', 'PG_file_RV', 'PG_file_TESS']\n"
     ]
    }
   ],
   "source": [
    "print(list(gto.columns))"
   ]
  },
  {
   "cell_type": "code",
   "execution_count": 5,
   "metadata": {
    "ExecuteTime": {
     "end_time": "2023-01-23T12:37:59.202089Z",
     "start_time": "2023-01-23T12:37:59.191145Z"
    }
   },
   "outputs": [
    {
     "data": {
      "text/html": [
       "<div>\n",
       "<style scoped>\n",
       "    .dataframe tbody tr th:only-of-type {\n",
       "        vertical-align: middle;\n",
       "    }\n",
       "\n",
       "    .dataframe tbody tr th {\n",
       "        vertical-align: top;\n",
       "    }\n",
       "\n",
       "    .dataframe thead th {\n",
       "        text-align: right;\n",
       "    }\n",
       "</style>\n",
       "<table border=\"1\" class=\"dataframe\">\n",
       "  <thead>\n",
       "    <tr style=\"text-align: right;\">\n",
       "      <th></th>\n",
       "      <th>rv_file</th>\n",
       "    </tr>\n",
       "  </thead>\n",
       "  <tbody>\n",
       "    <tr>\n",
       "      <th>0</th>\n",
       "      <td>../data/CARM_VIS_RVs/J23505-095.avc.dat</td>\n",
       "    </tr>\n",
       "    <tr>\n",
       "      <th>1</th>\n",
       "      <td>../data/CARM_VIS_RVs/J23492+024.avc.dat</td>\n",
       "    </tr>\n",
       "    <tr>\n",
       "      <th>2</th>\n",
       "      <td>../data/CARM_VIS_RVs/J23431+365.avc.dat</td>\n",
       "    </tr>\n",
       "    <tr>\n",
       "      <th>3</th>\n",
       "      <td>../data/CARM_VIS_RVs/J23419+441.avc.dat</td>\n",
       "    </tr>\n",
       "    <tr>\n",
       "      <th>4</th>\n",
       "      <td>../data/CARM_VIS_RVs/J23381-162.avc.dat</td>\n",
       "    </tr>\n",
       "    <tr>\n",
       "      <th>...</th>\n",
       "      <td>...</td>\n",
       "    </tr>\n",
       "    <tr>\n",
       "      <th>228</th>\n",
       "      <td>../data/CARM_VIS_RVs/J00184+440.avc.dat</td>\n",
       "    </tr>\n",
       "    <tr>\n",
       "      <th>229</th>\n",
       "      <td>../data/CARM_VIS_RVs/J00183+440.avc.dat</td>\n",
       "    </tr>\n",
       "    <tr>\n",
       "      <th>230</th>\n",
       "      <td>../data/CARM_VIS_RVs/J00162+198E.avc.dat</td>\n",
       "    </tr>\n",
       "    <tr>\n",
       "      <th>231</th>\n",
       "      <td>../data/CARM_VIS_RVs/J00067-075.avc.dat</td>\n",
       "    </tr>\n",
       "    <tr>\n",
       "      <th>232</th>\n",
       "      <td>../data/CARM_VIS_RVs/J00051+457.avc.dat</td>\n",
       "    </tr>\n",
       "  </tbody>\n",
       "</table>\n",
       "<p>233 rows × 1 columns</p>\n",
       "</div>"
      ],
      "text/plain": [
       "                                      rv_file\n",
       "0     ../data/CARM_VIS_RVs/J23505-095.avc.dat\n",
       "1     ../data/CARM_VIS_RVs/J23492+024.avc.dat\n",
       "2     ../data/CARM_VIS_RVs/J23431+365.avc.dat\n",
       "3     ../data/CARM_VIS_RVs/J23419+441.avc.dat\n",
       "4     ../data/CARM_VIS_RVs/J23381-162.avc.dat\n",
       "..                                        ...\n",
       "228   ../data/CARM_VIS_RVs/J00184+440.avc.dat\n",
       "229   ../data/CARM_VIS_RVs/J00183+440.avc.dat\n",
       "230  ../data/CARM_VIS_RVs/J00162+198E.avc.dat\n",
       "231   ../data/CARM_VIS_RVs/J00067-075.avc.dat\n",
       "232   ../data/CARM_VIS_RVs/J00051+457.avc.dat\n",
       "\n",
       "[233 rows x 1 columns]"
      ]
     },
     "execution_count": 5,
     "metadata": {},
     "output_type": "execute_result"
    }
   ],
   "source": [
    "gto[['rv_file']]"
   ]
  },
  {
   "cell_type": "markdown",
   "metadata": {},
   "source": [
    "## Feature extraction with `cesium` for the real RV curves"
   ]
  },
  {
   "cell_type": "code",
   "execution_count": 6,
   "metadata": {
    "ExecuteTime": {
     "end_time": "2023-01-23T12:39:50.218417Z",
     "start_time": "2023-01-23T12:38:01.286638Z"
    },
    "scrolled": false
   },
   "outputs": [
    {
     "name": "stdout",
     "output_type": "stream",
     "text": [
      "Record: 232, started at 23/01/2023, 13:39:49...\n",
      "Previous median lapse time: 0.19 seconds\n"
     ]
    }
   ],
   "source": [
    "# DISABLE WARNINGS:\n",
    "warnings.filterwarnings('ignore')\n",
    "# Batch processing:\n",
    "lapse_list = []\n",
    "median_lapse = None\n",
    "# Initialize features dataframe and metafeatures (from disk, or new):\n",
    "try:\n",
    "    df = pd.read_csv(CS_FEATURES_FOLDER + OUT_DATASET_FILE, sep=',', decimal='.')\n",
    "    i0 = len(df)\n",
    "    print(\"Previous result found, will continue at record %d...\" %len(df))\n",
    "except:\n",
    "    # No previous data stored in disk, initialize the DataFrame:\n",
    "    print(\"No previous results found, initializing dataframe...\")\n",
    "    df = None\n",
    "    i0 = 0\n",
    "metadata_idx = METADATA\n",
    "#for i in range(i0, 3): # TEST\n",
    "for i in range(i0, len(gto)):\n",
    "    clear_output(wait=True)\n",
    "    start_time = time.time()\n",
    "    print(\"Record: %d, started at %s...\"\n",
    "          %(i, time.strftime('%d/%m/%Y, %H:%M:%S', time.localtime(start_time))))\n",
    "    if median_lapse is None:\n",
    "        print(\"Previous median lapse time: %s\" %median_lapse)\n",
    "    else:\n",
    "        print(\"Previous median lapse time: %.2f seconds\" %median_lapse)\n",
    "    # Get metafeatures values:\n",
    "    metadata_values = list(gto.loc[i, metadata_idx])\n",
    "    try:\n",
    "        # load RV file:\n",
    "        rv = pd.read_csv(gto.loc[i, 'rv_file'], sep=' ', decimal='.',\n",
    "                         names=['time', 'rv', 'error_rv'])\n",
    "        # Create TimeSeries object:\n",
    "        ts = TimeSeries(t=rv['time'], m=rv['rv'], e=rv['error_rv'])\n",
    "        # Featurize the time series:\n",
    "        cs = featurize_single_ts(ts, features_to_use=ALL_CS_FEATURES)\n",
    "        # Join metadata and features for the dataframe:\n",
    "        indices = metadata_idx + ['VALID_RECORD'] + list(cs.index.get_level_values('feature'))\n",
    "        values = metadata_values + [True] + list(cs.values)\n",
    "    except Exception as e:\n",
    "        # An exception was found, mark the record as invalid and set the features to 'nan':\n",
    "        print(\"***ERROR: some error happened in record %d, marking the record as invalid. Error: %s\" %(i, str(e)))\n",
    "        indices = metadata_idx + ['VALID_RECORD'] + ALL_CS_FEATURES\n",
    "        values = metadata_values + [False] + [np.nan] * 112\n",
    "    if df is None:\n",
    "        # Initialize DataFrame (with the first item):\n",
    "        df = pd.DataFrame(data=[values], columns=indices)\n",
    "    else:\n",
    "        # Create a new DataFrame (with the new item):\n",
    "        new_df = pd.DataFrame(data=[values], columns=indices)\n",
    "        # Append the new dataframe to the existing one:\n",
    "        df = df.append(new_df, ignore_index=True)\n",
    "    # UPDATE THE AVERAGE RECORD PROCESSING TIME:\n",
    "    lapse = time.time() - start_time\n",
    "    lapse_list.append(lapse)\n",
    "    median_lapse = np.nanmedian(lapse_list)\n",
    "    # Save the results:\n",
    "    df.to_csv(CS_FEATURES_FOLDER + OUT_DATASET_FILE, sep=',', decimal='.', index=False)\n"
   ]
  },
  {
   "cell_type": "markdown",
   "metadata": {},
   "source": [
    "### Next steps are to be executed only if the cell execution is user-interrupted\n",
    "\n",
    "For example, if the user decided to interrupt the cell execution because it got stuck in some record, the next cells update the info for that record with an \"invalid record\" mark.\n",
    "\n",
    "Afterwards, the loop (previous cell) can be executed again and it will start from the record following the problematic one."
   ]
  },
  {
   "cell_type": "raw",
   "metadata": {
    "ExecuteTime": {
     "end_time": "2022-12-08T00:35:15.739301Z",
     "start_time": "2022-12-08T00:35:07.361Z"
    },
    "scrolled": true
   },
   "source": [
    "i"
   ]
  },
  {
   "cell_type": "raw",
   "metadata": {
    "ExecuteTime": {
     "end_time": "2022-12-08T00:35:15.740304Z",
     "start_time": "2022-12-08T00:35:07.362Z"
    }
   },
   "source": [
    "df.tail()"
   ]
  },
  {
   "cell_type": "raw",
   "metadata": {
    "ExecuteTime": {
     "end_time": "2022-12-08T00:35:15.741283Z",
     "start_time": "2022-12-08T00:35:07.363Z"
    }
   },
   "source": [
    "gto.loc[i]"
   ]
  },
  {
   "cell_type": "raw",
   "metadata": {
    "ExecuteTime": {
     "end_time": "2022-12-08T00:35:15.743277Z",
     "start_time": "2022-12-08T00:35:07.364Z"
    }
   },
   "source": [
    "# Update the wrong record:\n",
    "indices = metadata_idx + ['VALID_RECORD'] + ALL_CS_FEATURES\n",
    "values = metadata_values + [False] + [np.nan] * 112\n",
    "new_df = pd.DataFrame(data=[values], columns=indices)\n",
    "df = df.append(new_df, ignore_index=True)\n"
   ]
  },
  {
   "cell_type": "raw",
   "metadata": {
    "ExecuteTime": {
     "end_time": "2022-12-08T00:35:15.743277Z",
     "start_time": "2022-12-08T00:35:07.366Z"
    }
   },
   "source": [
    "df.tail()"
   ]
  },
  {
   "cell_type": "raw",
   "metadata": {
    "ExecuteTime": {
     "end_time": "2022-12-08T00:35:15.744274Z",
     "start_time": "2022-12-08T00:35:07.367Z"
    }
   },
   "source": [
    "# Save the results:\n",
    "df.to_csv(CS_FEATURES_FOLDER + OUT_DATASET_FILE, sep=',', decimal='.', index=False)\n"
   ]
  },
  {
   "cell_type": "raw",
   "metadata": {
    "ExecuteTime": {
     "end_time": "2022-12-08T00:35:15.745272Z",
     "start_time": "2022-12-08T00:35:07.368Z"
    }
   },
   "source": [
    "df.head()"
   ]
  },
  {
   "cell_type": "markdown",
   "metadata": {},
   "source": [
    "## Review the records with errors"
   ]
  },
  {
   "cell_type": "code",
   "execution_count": 7,
   "metadata": {
    "ExecuteTime": {
     "end_time": "2023-01-23T12:41:09.911801Z",
     "start_time": "2023-01-23T12:41:09.854426Z"
    }
   },
   "outputs": [
    {
     "data": {
      "text/html": [
       "<div>\n",
       "<style scoped>\n",
       "    .dataframe tbody tr th:only-of-type {\n",
       "        vertical-align: middle;\n",
       "    }\n",
       "\n",
       "    .dataframe tbody tr th {\n",
       "        vertical-align: top;\n",
       "    }\n",
       "\n",
       "    .dataframe thead th {\n",
       "        text-align: right;\n",
       "    }\n",
       "</style>\n",
       "<table border=\"1\" class=\"dataframe\">\n",
       "  <thead>\n",
       "    <tr style=\"text-align: right;\">\n",
       "      <th></th>\n",
       "      <th>Karmn</th>\n",
       "      <th>SpT</th>\n",
       "      <th>SpTnum</th>\n",
       "      <th>Teff_K</th>\n",
       "      <th>eTeff_K</th>\n",
       "      <th>logg</th>\n",
       "      <th>elogg</th>\n",
       "      <th>[Fe/H]</th>\n",
       "      <th>e[Fe/H]</th>\n",
       "      <th>L_Lsol</th>\n",
       "      <th>...</th>\n",
       "      <th>freq_signif_ratio_31</th>\n",
       "      <th>freq_varrat</th>\n",
       "      <th>freq_y_offset</th>\n",
       "      <th>linear_trend</th>\n",
       "      <th>medperc90_2p_p</th>\n",
       "      <th>p2p_scatter_2praw</th>\n",
       "      <th>p2p_scatter_over_mad</th>\n",
       "      <th>p2p_scatter_pfold_over_mad</th>\n",
       "      <th>p2p_ssqr_diff_over_var</th>\n",
       "      <th>scatter_res_raw</th>\n",
       "    </tr>\n",
       "  </thead>\n",
       "  <tbody>\n",
       "  </tbody>\n",
       "</table>\n",
       "<p>0 rows × 208 columns</p>\n",
       "</div>"
      ],
      "text/plain": [
       "Empty DataFrame\n",
       "Columns: [Karmn, SpT, SpTnum, Teff_K, eTeff_K, logg, elogg, [Fe/H], e[Fe/H], L_Lsol, eL_Lsol, R_Rsol, eR_Rsol, M_Msol, eM_Msol, muRA_masa-1, emuRA_masa-1, muDE_masa-1, emuDE_masa-1, pi_mas, epi_mas, d_pc, ed_pc, Vr_kms-1, eVr_kms-1, ruwe, U_kms-1, eU_kms-1, V_kms-1, eV_kms-1, W_kms-1, eW_kms-1, sa_m/s/a, esa_m/s/a, Pop, vsini_flag, vsini_kms-1, P_d, pEWHalpha_A, epEWHalpha_A, Activity, FUV_mag, eFUV_mag, NUV_mag, eNUV_mag, u_mag, eu_mag, BT_mag, eBT_mag, B_mag, eB_mag, BP_mag, eBP_mag, g_mag, eg_mag, VT_mag, eVT_mag, V_mag, eV_mag, Ra_mag, r_mag, er_mag, GG_mag, eGG_mag, i_mag, ei_mag, RP_mag, eRP_mag, IN_mag, J_mag, eJ_mag, H_mag, eH_mag, Ks_mag, eKs_mag, QFlag_2M, W1_mag, eW1_mag, W2_mag, eW2_mag, W3_mag, eW3_mag, W4_mag, eW4_mag, QFlag_WISE, Multiplicity, Planet, PlanetNum, Teff_min_K, Teff_max_K, logg_min, logg_max, is_GTO, InstBand_nominal, InstBand_ranged, VALID_RECORD, all_times_nhist_numpeaks, all_times_nhist_peak1_bin, all_times_nhist_peak2_bin, all_times_nhist_peak3_bin, ...]\n",
       "Index: []\n",
       "\n",
       "[0 rows x 208 columns]"
      ]
     },
     "execution_count": 7,
     "metadata": {},
     "output_type": "execute_result"
    }
   ],
   "source": [
    "df[df['VALID_RECORD'] == False]"
   ]
  },
  {
   "cell_type": "code",
   "execution_count": 8,
   "metadata": {
    "ExecuteTime": {
     "end_time": "2023-01-23T12:41:10.427756Z",
     "start_time": "2023-01-23T12:41:10.413761Z"
    }
   },
   "outputs": [
    {
     "name": "stdout",
     "output_type": "stream",
     "text": [
      "[]\n"
     ]
    }
   ],
   "source": [
    "print(list(df.loc[df['VALID_RECORD'] == False, 'Karmn']))"
   ]
  },
  {
   "cell_type": "markdown",
   "metadata": {},
   "source": [
    "## Summary"
   ]
  },
  {
   "cell_type": "markdown",
   "metadata": {},
   "source": [
    "**CONCLUSIONS:**\n",
    "- Completed the `cesium` feature extraction for all the stars in the ML subsample.\n",
    "- No one of this objects yielded any error during calculation."
   ]
  },
  {
   "cell_type": "code",
   "execution_count": null,
   "metadata": {},
   "outputs": [],
   "source": []
  }
 ],
 "metadata": {
  "kernelspec": {
   "display_name": "Python 3 (ipykernel)",
   "language": "python",
   "name": "python3"
  },
  "language_info": {
   "codemirror_mode": {
    "name": "ipython",
    "version": 3
   },
   "file_extension": ".py",
   "mimetype": "text/x-python",
   "name": "python",
   "nbconvert_exporter": "python",
   "pygments_lexer": "ipython3",
   "version": "3.8.8"
  },
  "latex_envs": {
   "LaTeX_envs_menu_present": true,
   "autoclose": false,
   "autocomplete": true,
   "bibliofile": "biblio.bib",
   "cite_by": "apalike",
   "current_citInitial": 1,
   "eqLabelWithNumbers": true,
   "eqNumInitial": 1,
   "hotkeys": {
    "equation": "Ctrl-E",
    "itemize": "Ctrl-I"
   },
   "labels_anchors": false,
   "latex_user_defs": false,
   "report_style_numbering": false,
   "user_envs_cfg": false
  },
  "toc": {
   "base_numbering": 1,
   "nav_menu": {},
   "number_sections": true,
   "sideBar": true,
   "skip_h1_title": true,
   "title_cell": "Tabla de contenidos",
   "title_sidebar": "Contenidos",
   "toc_cell": false,
   "toc_position": {
    "height": "calc(100% - 180px)",
    "left": "10px",
    "top": "150px",
    "width": "231.2px"
   },
   "toc_section_display": true,
   "toc_window_display": true
  }
 },
 "nbformat": 4,
 "nbformat_minor": 2
}
