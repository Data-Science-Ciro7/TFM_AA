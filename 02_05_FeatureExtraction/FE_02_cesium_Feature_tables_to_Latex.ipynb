{
 "cells": [
  {
   "cell_type": "markdown",
   "id": "8dc546e3",
   "metadata": {},
   "source": [
    "# TRANSFORMATION OF CESIUM FEATURE INFORMATION TABLES TO LATEX"
   ]
  },
  {
   "cell_type": "markdown",
   "id": "5e69dc55",
   "metadata": {},
   "source": [
    "In this notebook we translate the tables containing the information on _cesium_ features to _LaTeX_ format."
   ]
  },
  {
   "cell_type": "markdown",
   "id": "0ebee2f9",
   "metadata": {},
   "source": [
    "## Modules and configuration"
   ]
  },
  {
   "cell_type": "markdown",
   "id": "0c526f57",
   "metadata": {},
   "source": [
    "### Modules"
   ]
  },
  {
   "cell_type": "code",
   "execution_count": 16,
   "id": "a75bf679",
   "metadata": {
    "ExecuteTime": {
     "end_time": "2022-05-02T08:22:17.380166Z",
     "start_time": "2022-05-02T08:22:17.376177Z"
    }
   },
   "outputs": [],
   "source": [
    "import pandas as pd\n",
    "import sys"
   ]
  },
  {
   "cell_type": "markdown",
   "id": "ca78ce1b",
   "metadata": {},
   "source": [
    "### Configuration"
   ]
  },
  {
   "cell_type": "code",
   "execution_count": 17,
   "id": "8a16023c",
   "metadata": {
    "ExecuteTime": {
     "end_time": "2022-05-02T08:22:17.843253Z",
     "start_time": "2022-05-02T08:22:17.839264Z"
    }
   },
   "outputs": [],
   "source": [
    "CADENCE_FILE = \"./cesium_CadenceError_features.csv\"\n",
    "GENERAL_FILE = \"./cesium_General_features.csv\"\n",
    "PERIODIC_FILE = \"./cesium_LSPeriodic_features.csv\"\n",
    "\n",
    "CADENCE_OUT = \"./cesium_CadenceError_features.tex\"\n",
    "GENERAL_OUT = \"./cesium_General_features.tex\"\n",
    "PERIODIC_OUT = \"./cesium_LSPeriodic_features.tex\"\n"
   ]
  },
  {
   "cell_type": "markdown",
   "id": "7c7f7205",
   "metadata": {},
   "source": [
    "## Load features tables and print in LaTeX format"
   ]
  },
  {
   "cell_type": "markdown",
   "id": "674fa0c7",
   "metadata": {},
   "source": [
    "_LaTeX_ format output file can be directly uploaded into a LaTeX editor (for example, Overleaf)."
   ]
  },
  {
   "cell_type": "code",
   "execution_count": 19,
   "id": "9e7287b8",
   "metadata": {
    "ExecuteTime": {
     "end_time": "2022-05-02T08:24:12.842372Z",
     "start_time": "2022-05-02T08:24:12.836388Z"
    }
   },
   "outputs": [],
   "source": [
    "# BACKUP THE STANDARD OUTPUT:\n",
    "original_stdout = sys.stdout"
   ]
  },
  {
   "cell_type": "markdown",
   "id": "875c80c4",
   "metadata": {},
   "source": [
    "We set option to display the full length of the columns:"
   ]
  },
  {
   "cell_type": "code",
   "execution_count": 28,
   "id": "d11400ce",
   "metadata": {
    "ExecuteTime": {
     "end_time": "2022-05-02T09:00:31.388895Z",
     "start_time": "2022-05-02T09:00:31.382912Z"
    }
   },
   "outputs": [],
   "source": [
    "pd.set_option('display.max_colwidth', None)"
   ]
  },
  {
   "cell_type": "markdown",
   "id": "231b3a1b",
   "metadata": {},
   "source": [
    "### Cadence/Error features table"
   ]
  },
  {
   "cell_type": "code",
   "execution_count": 29,
   "id": "d20133d4",
   "metadata": {
    "ExecuteTime": {
     "end_time": "2022-05-02T09:00:32.831185Z",
     "start_time": "2022-05-02T09:00:32.814830Z"
    }
   },
   "outputs": [
    {
     "data": {
      "text/html": [
       "<div>\n",
       "<style scoped>\n",
       "    .dataframe tbody tr th:only-of-type {\n",
       "        vertical-align: middle;\n",
       "    }\n",
       "\n",
       "    .dataframe tbody tr th {\n",
       "        vertical-align: top;\n",
       "    }\n",
       "\n",
       "    .dataframe thead th {\n",
       "        text-align: right;\n",
       "    }\n",
       "</style>\n",
       "<table border=\"1\" class=\"dataframe\">\n",
       "  <thead>\n",
       "    <tr style=\"text-align: right;\">\n",
       "      <th></th>\n",
       "      <th>Cadence/Error</th>\n",
       "      <th>Description</th>\n",
       "    </tr>\n",
       "  </thead>\n",
       "  <tbody>\n",
       "    <tr>\n",
       "      <th>0</th>\n",
       "      <td>all_times_nhist_numpeaks</td>\n",
       "      <td>Number of peaks (local maxima) in histogram of all possible delta_t’s.</td>\n",
       "    </tr>\n",
       "    <tr>\n",
       "      <th>1</th>\n",
       "      <td>all_times_nhist_peak1_bin</td>\n",
       "      <td>Return the (bin) index of the ith largest peak. Peaks is a list of tuples (i, x[i]) of peak indices i and values x[i], sorted in decreasing order by peak value.</td>\n",
       "    </tr>\n",
       "    <tr>\n",
       "      <th>2</th>\n",
       "      <td>all_times_nhist_peak2_bin</td>\n",
       "      <td>Return the (bin) index of the ith largest peak. Peaks is a list of tuples (i, x[i]) of peak indices i and values x[i], sorted in decreasing order by peak value.</td>\n",
       "    </tr>\n",
       "    <tr>\n",
       "      <th>3</th>\n",
       "      <td>all_times_nhist_peak3_bin</td>\n",
       "      <td>Return the (bin) index of the ith largest peak. Peaks is a list of tuples (i, x[i]) of peak indices i and values x[i], sorted in decreasing order by peak value.</td>\n",
       "    </tr>\n",
       "    <tr>\n",
       "      <th>4</th>\n",
       "      <td>all_times_nhist_peak4_bin</td>\n",
       "      <td>Return the (bin) index of the ith largest peak. Peaks is a list of tuples (i, x[i]) of peak indices i and values x[i], sorted in decreasing order by peak value.</td>\n",
       "    </tr>\n",
       "  </tbody>\n",
       "</table>\n",
       "</div>"
      ],
      "text/plain": [
       "               Cadence/Error  \\\n",
       "0   all_times_nhist_numpeaks   \n",
       "1  all_times_nhist_peak1_bin   \n",
       "2  all_times_nhist_peak2_bin   \n",
       "3  all_times_nhist_peak3_bin   \n",
       "4  all_times_nhist_peak4_bin   \n",
       "\n",
       "                                                                                                                                                        Description  \n",
       "0                                                                                            Number of peaks (local maxima) in histogram of all possible delta_t’s.  \n",
       "1  Return the (bin) index of the ith largest peak. Peaks is a list of tuples (i, x[i]) of peak indices i and values x[i], sorted in decreasing order by peak value.  \n",
       "2  Return the (bin) index of the ith largest peak. Peaks is a list of tuples (i, x[i]) of peak indices i and values x[i], sorted in decreasing order by peak value.  \n",
       "3  Return the (bin) index of the ith largest peak. Peaks is a list of tuples (i, x[i]) of peak indices i and values x[i], sorted in decreasing order by peak value.  \n",
       "4  Return the (bin) index of the ith largest peak. Peaks is a list of tuples (i, x[i]) of peak indices i and values x[i], sorted in decreasing order by peak value.  "
      ]
     },
     "execution_count": 29,
     "metadata": {},
     "output_type": "execute_result"
    }
   ],
   "source": [
    "table = pd.read_csv(CADENCE_FILE, sep='\\t')\n",
    "table.head()"
   ]
  },
  {
   "cell_type": "code",
   "execution_count": 31,
   "id": "066c4b57",
   "metadata": {
    "ExecuteTime": {
     "end_time": "2022-05-02T09:00:47.737126Z",
     "start_time": "2022-05-02T09:00:47.726157Z"
    },
    "scrolled": false
   },
   "outputs": [
    {
     "name": "stdout",
     "output_type": "stream",
     "text": [
      "\\begin{longtable}{ll}\n",
      "\\caption[Cadence/Error category features extracted by cesium.]{Cadence/Error category features extracted by cesium.}\\\\\n",
      "\\toprule\n",
      "              Cadence/Error &                                                                                                                                                                        Description \\\\\n",
      "\\midrule\n",
      "\\endfirsthead\n",
      "\\caption[]{Cadence/Error category features extracted by cesium.} \\\\\n",
      "\\toprule\n",
      "              Cadence/Error &                                                                                                                                                                        Description \\\\\n",
      "\\midrule\n",
      "\\endhead\n",
      "\\midrule\n",
      "\\multicolumn{2}{r}{{Continued on next page}} \\\\\n",
      "\\midrule\n",
      "\\endfoot\n",
      "\n",
      "\\bottomrule\n",
      "\\endlastfoot\n",
      "   all\\_times\\_nhist\\_numpeaks &                                                                                                             Number of peaks (local maxima) in histogram of all possible delta\\_t’s. \\\\\n",
      "  all\\_times\\_nhist\\_peak1\\_bin &                   Return the (bin) index of the ith largest peak. Peaks is a list of tuples (i, x[i]) of peak indices i and values x[i], sorted in decreasing order by peak value. \\\\\n",
      "  all\\_times\\_nhist\\_peak2\\_bin &                   Return the (bin) index of the ith largest peak. Peaks is a list of tuples (i, x[i]) of peak indices i and values x[i], sorted in decreasing order by peak value. \\\\\n",
      "  all\\_times\\_nhist\\_peak3\\_bin &                   Return the (bin) index of the ith largest peak. Peaks is a list of tuples (i, x[i]) of peak indices i and values x[i], sorted in decreasing order by peak value. \\\\\n",
      "  all\\_times\\_nhist\\_peak4\\_bin &                   Return the (bin) index of the ith largest peak. Peaks is a list of tuples (i, x[i]) of peak indices i and values x[i], sorted in decreasing order by peak value. \\\\\n",
      "all\\_times\\_nhist\\_peak\\_1\\_to\\_2 & Compute the ratio of the values of the ith and jth largest peaks. Peaks is a list of tuples (i, x[i]) of peak indices i and values x[i], sorted in decreasing order by peak value. \\\\\n",
      "all\\_times\\_nhist\\_peak\\_1\\_to\\_3 & Compute the ratio of the values of the ith and jth largest peaks. Peaks is a list of tuples (i, x[i]) of peak indices i and values x[i], sorted in decreasing order by peak value. \\\\\n",
      "all\\_times\\_nhist\\_peak\\_1\\_to\\_4 & Compute the ratio of the values of the ith and jth largest peaks. Peaks is a list of tuples (i, x[i]) of peak indices i and values x[i], sorted in decreasing order by peak value. \\\\\n",
      "all\\_times\\_nhist\\_peak\\_2\\_to\\_3 & Compute the ratio of the values of the ith and jth largest peaks. Peaks is a list of tuples (i, x[i]) of peak indices i and values x[i], sorted in decreasing order by peak value. \\\\\n",
      "all\\_times\\_nhist\\_peak\\_2\\_to\\_4 & Compute the ratio of the values of the ith and jth largest peaks. Peaks is a list of tuples (i, x[i]) of peak indices i and values x[i], sorted in decreasing order by peak value. \\\\\n",
      "all\\_times\\_nhist\\_peak\\_3\\_to\\_4 & Compute the ratio of the values of the ith and jth largest peaks. Peaks is a list of tuples (i, x[i]) of peak indices i and values x[i], sorted in decreasing order by peak value. \\\\\n",
      "   all\\_times\\_nhist\\_peak\\_val &                                                                                                                                 Peak value in histogram of all possible delta\\_t’s. \\\\\n",
      "  avg\\_double\\_to\\_single\\_step &                                                                                                                          Mean value of ratios (t[i+2] - t[i]) / (t[i+2] - t[i+1]). \\\\\n",
      "                    avg\\_err &                                                                                                                                                       Mean of the error estimates. \\\\\n",
      "                       avgt &                                                                                                                                                           Mean of the time values. \\\\\n",
      "                cad\\_probs\\_1 &                             Given the observed distribution of time lags cads, compute the probability that the next observation occurs within time minutes of an arbitrary epoch. \\\\\n",
      "               cad\\_probs\\_10 &                             Given the observed distribution of time lags cads, compute the probability that the next observation occurs within time minutes of an arbitrary epoch. \\\\\n",
      "               cad\\_probs\\_20 &                             Given the observed distribution of time lags cads, compute the probability that the next observation occurs within time minutes of an arbitrary epoch. \\\\\n",
      "               cad\\_probs\\_30 &                             Given the observed distribution of time lags cads, compute the probability that the next observation occurs within time minutes of an arbitrary epoch. \\\\\n",
      "               cad\\_probs\\_40 &                             Given the observed distribution of time lags cads, compute the probability that the next observation occurs within time minutes of an arbitrary epoch. \\\\\n",
      "               cad\\_probs\\_50 &                             Given the observed distribution of time lags cads, compute the probability that the next observation occurs within time minutes of an arbitrary epoch. \\\\\n",
      "              cad\\_probs\\_100 &                             Given the observed distribution of time lags cads, compute the probability that the next observation occurs within time minutes of an arbitrary epoch. \\\\\n",
      "              cad\\_probs\\_500 &                             Given the observed distribution of time lags cads, compute the probability that the next observation occurs within time minutes of an arbitrary epoch. \\\\\n",
      "             cad\\_probs\\_1000 &                             Given the observed distribution of time lags cads, compute the probability that the next observation occurs within time minutes of an arbitrary epoch. \\\\\n",
      "             cad\\_probs\\_5000 &                             Given the observed distribution of time lags cads, compute the probability that the next observation occurs within time minutes of an arbitrary epoch. \\\\\n",
      "            cad\\_probs\\_10000 &                             Given the observed distribution of time lags cads, compute the probability that the next observation occurs within time minutes of an arbitrary epoch. \\\\\n",
      "            cad\\_probs\\_50000 &                             Given the observed distribution of time lags cads, compute the probability that the next observation occurs within time minutes of an arbitrary epoch. \\\\\n",
      "           cad\\_probs\\_100000 &                             Given the observed distribution of time lags cads, compute the probability that the next observation occurs within time minutes of an arbitrary epoch. \\\\\n",
      "           cad\\_probs\\_500000 &                             Given the observed distribution of time lags cads, compute the probability that the next observation occurs within time minutes of an arbitrary epoch. \\\\\n",
      "          cad\\_probs\\_1000000 &                             Given the observed distribution of time lags cads, compute the probability that the next observation occurs within time minutes of an arbitrary epoch. \\\\\n",
      "          cad\\_probs\\_5000000 &                             Given the observed distribution of time lags cads, compute the probability that the next observation occurs within time minutes of an arbitrary epoch. \\\\\n",
      "         cad\\_probs\\_10000000 &                             Given the observed distribution of time lags cads, compute the probability that the next observation occurs within time minutes of an arbitrary epoch. \\\\\n",
      "                   cads\\_avg &                                                                                                                            Mean value of cads (discrete difference between times). \\\\\n",
      "                   cads\\_med &                                                                                                                          Median value of cads (discrete difference between times). \\\\\n",
      "                   cads\\_std &                                                                                                                    Standard deviation of cads (discrete difference between times). \\\\\n",
      "                       mean &                                                                                                                                                           Mean of observed values. \\\\\n",
      "  med\\_double\\_to\\_single\\_step &                                                                                                                        Median value of ratios (t[i+2] - t[i]) / (t[i+2] - t[i+1]). \\\\\n",
      "                    med\\_err &                                                                                                                                                         Median of error estimates. \\\\\n",
      "                   n\\_epochs &                                                                                                                                                   Total number of observed values. \\\\\n",
      "  std\\_double\\_to\\_single\\_step &                                                                                                                  Standard deviation of ratios (t[i+2] - t[i]) / (t[i+2] - t[i+1]). \\\\\n",
      "                    std\\_err &                                                                                                                                         Standard deviation of the error estimates. \\\\\n",
      "                 total\\_time &                                                                                                                            Absolute difference between max and min of time values. \\\\\n",
      "\\end{longtable}\n",
      "\n"
     ]
    }
   ],
   "source": [
    "# Print to screen:\n",
    "print(table.to_latex(index=False, longtable=True,\n",
    "                     caption=(\"Cadence/Error category features extracted by cesium.\",\n",
    "                              \"Cadence/Error category features extracted by cesium.\")))"
   ]
  },
  {
   "cell_type": "code",
   "execution_count": 32,
   "id": "6334130a",
   "metadata": {
    "ExecuteTime": {
     "end_time": "2022-05-02T09:00:48.757367Z",
     "start_time": "2022-05-02T09:00:48.733598Z"
    }
   },
   "outputs": [],
   "source": [
    "# Write to file:\n",
    "with open(CADENCE_OUT, 'w') as f:\n",
    "    sys.stdout = f # Change the standard output to the file we created.\n",
    "    print(table.to_latex(index=False, longtable=True,\n",
    "                         caption=(\"Cadence/Error category features extracted by cesium.\",\n",
    "                                  \"Cadence/Error category features extracted by cesium.\")))\n",
    "    sys.stdout = original_stdout # Reset the standard output to its original value\n"
   ]
  },
  {
   "cell_type": "markdown",
   "id": "279f1b54",
   "metadata": {},
   "source": [
    "### General features table"
   ]
  },
  {
   "cell_type": "code",
   "execution_count": 33,
   "id": "1afeec22",
   "metadata": {
    "ExecuteTime": {
     "end_time": "2022-05-02T09:16:40.530252Z",
     "start_time": "2022-05-02T09:16:40.509304Z"
    }
   },
   "outputs": [
    {
     "data": {
      "text/html": [
       "<div>\n",
       "<style scoped>\n",
       "    .dataframe tbody tr th:only-of-type {\n",
       "        vertical-align: middle;\n",
       "    }\n",
       "\n",
       "    .dataframe tbody tr th {\n",
       "        vertical-align: top;\n",
       "    }\n",
       "\n",
       "    .dataframe thead th {\n",
       "        text-align: right;\n",
       "    }\n",
       "</style>\n",
       "<table border=\"1\" class=\"dataframe\">\n",
       "  <thead>\n",
       "    <tr style=\"text-align: right;\">\n",
       "      <th></th>\n",
       "      <th>General</th>\n",
       "      <th>Description</th>\n",
       "    </tr>\n",
       "  </thead>\n",
       "  <tbody>\n",
       "    <tr>\n",
       "      <th>0</th>\n",
       "      <td>amplitude</td>\n",
       "      <td>Half the difference between the maximum and minimum magnitude.</td>\n",
       "    </tr>\n",
       "    <tr>\n",
       "      <th>1</th>\n",
       "      <td>flux_percentile_ratio_mid20</td>\n",
       "      <td>A ratio of ((50+x) flux percentile - (50-x) flux percentile) / (95 flux percentile - 5 flux percentile), where x = percentile_range/2.</td>\n",
       "    </tr>\n",
       "    <tr>\n",
       "      <th>2</th>\n",
       "      <td>flux_percentile_ratio_mid35</td>\n",
       "      <td>A ratio of ((50+x) flux percentile - (50-x) flux percentile) / (95 flux percentile - 5 flux percentile), where x = percentile_range/2.</td>\n",
       "    </tr>\n",
       "    <tr>\n",
       "      <th>3</th>\n",
       "      <td>flux_percentile_ratio_mid50</td>\n",
       "      <td>A ratio of ((50+x) flux percentile - (50-x) flux percentile) / (95 flux percentile - 5 flux percentile), where x = percentile_range/2.</td>\n",
       "    </tr>\n",
       "    <tr>\n",
       "      <th>4</th>\n",
       "      <td>flux_percentile_ratio_mid65</td>\n",
       "      <td>A ratio of ((50+x) flux percentile - (50-x) flux percentile) / (95 flux percentile - 5 flux percentile), where x = percentile_range/2.</td>\n",
       "    </tr>\n",
       "  </tbody>\n",
       "</table>\n",
       "</div>"
      ],
      "text/plain": [
       "                       General  \\\n",
       "0                    amplitude   \n",
       "1  flux_percentile_ratio_mid20   \n",
       "2  flux_percentile_ratio_mid35   \n",
       "3  flux_percentile_ratio_mid50   \n",
       "4  flux_percentile_ratio_mid65   \n",
       "\n",
       "                                                                                                                              Description  \n",
       "0                                                                          Half the difference between the maximum and minimum magnitude.  \n",
       "1  A ratio of ((50+x) flux percentile - (50-x) flux percentile) / (95 flux percentile - 5 flux percentile), where x = percentile_range/2.  \n",
       "2  A ratio of ((50+x) flux percentile - (50-x) flux percentile) / (95 flux percentile - 5 flux percentile), where x = percentile_range/2.  \n",
       "3  A ratio of ((50+x) flux percentile - (50-x) flux percentile) / (95 flux percentile - 5 flux percentile), where x = percentile_range/2.  \n",
       "4  A ratio of ((50+x) flux percentile - (50-x) flux percentile) / (95 flux percentile - 5 flux percentile), where x = percentile_range/2.  "
      ]
     },
     "execution_count": 33,
     "metadata": {},
     "output_type": "execute_result"
    }
   ],
   "source": [
    "table = pd.read_csv(GENERAL_FILE, sep='\\t')\n",
    "table.head()"
   ]
  },
  {
   "cell_type": "code",
   "execution_count": 34,
   "id": "148f5bdf",
   "metadata": {
    "ExecuteTime": {
     "end_time": "2022-05-02T09:16:42.920053Z",
     "start_time": "2022-05-02T09:16:42.909083Z"
    },
    "scrolled": false
   },
   "outputs": [
    {
     "name": "stdout",
     "output_type": "stream",
     "text": [
      "\\begin{longtable}{ll}\n",
      "\\caption[General category features extracted by cesium.]{General category features extracted by cesium.}\\\\\n",
      "\\toprule\n",
      "                           General &                                                                                                                                                                                                                   Description \\\\\n",
      "\\midrule\n",
      "\\endfirsthead\n",
      "\\caption[]{General category features extracted by cesium.} \\\\\n",
      "\\toprule\n",
      "                           General &                                                                                                                                                                                                                   Description \\\\\n",
      "\\midrule\n",
      "\\endhead\n",
      "\\midrule\n",
      "\\multicolumn{2}{r}{{Continued on next page}} \\\\\n",
      "\\midrule\n",
      "\\endfoot\n",
      "\n",
      "\\bottomrule\n",
      "\\endlastfoot\n",
      "                         amplitude &                                                                                                                                                                Half the difference between the maximum and minimum magnitude. \\\\\n",
      "       flux\\_percentile\\_ratio\\_mid20 &                                                                                        A ratio of ((50+x) flux percentile - (50-x) flux percentile) / (95 flux percentile - 5 flux percentile), where x = percentile\\_range/2. \\\\\n",
      "       flux\\_percentile\\_ratio\\_mid35 &                                                                                        A ratio of ((50+x) flux percentile - (50-x) flux percentile) / (95 flux percentile - 5 flux percentile), where x = percentile\\_range/2. \\\\\n",
      "       flux\\_percentile\\_ratio\\_mid50 &                                                                                        A ratio of ((50+x) flux percentile - (50-x) flux percentile) / (95 flux percentile - 5 flux percentile), where x = percentile\\_range/2. \\\\\n",
      "       flux\\_percentile\\_ratio\\_mid65 &                                                                                        A ratio of ((50+x) flux percentile - (50-x) flux percentile) / (95 flux percentile - 5 flux percentile), where x = percentile\\_range/2. \\\\\n",
      "       flux\\_percentile\\_ratio\\_mid80 &                                                                                        A ratio of ((50+x) flux percentile - (50-x) flux percentile) / (95 flux percentile - 5 flux percentile), where x = percentile\\_range/2. \\\\\n",
      "                         max\\_slope &                                                                                                                                                                      Compute the largest rate of change in the observed data. \\\\\n",
      "                           maximum &                                                                                                                                                                                                       Maximum observed value. \\\\\n",
      "                            median &                                                                                                                                                                                                    Median of observed values. \\\\\n",
      "         median\\_absolute\\_deviation &                                                                                                                                                           Median absolute deviation (from the median) of the observed values. \\\\\n",
      "                           minimum &                                                                                                                                                                                                       Minimum observed value. \\\\\n",
      "                 percent\\_amplitude &                                                                                                                                   Returns the largest distance from the median value, measured as a percentage of the median. \\\\\n",
      "              percent\\_beyond\\_1\\_std &                                                                                                                                                         Percentage of values more than 1 std. dev. from the weighted average. \\\\\n",
      "           percent\\_close\\_to\\_median &                                                                                                                                                            Percentage of values within window\\_frac*(max(x)-min(x)) of median. \\\\\n",
      "percent\\_difference\\_flux\\_percentile & Difference between the 95th and 5th percentiles of the data, expressed as a percentage of the median value. See Eyer (2005) arXiv:astro-ph/0511458v1, Evans \\& Belokurov (2005) (there the 98th and 2nd percentiles are used). \\\\\n",
      "                       period\\_fast &                                                                                                                                                                                                Fits a simple sinuosidal model \\\\\n",
      "                qso\\_log\\_chi2\\_qsonu &                                                                                                                                                           Natural log of goodness of fit of qso-model given fixed parameters. \\\\\n",
      "         qso\\_log\\_chi2nuNULL\\_chi2nu &                                                                                                                                                                         Natural log of expected chi2/nu for non-qso variable. \\\\\n",
      "                              skew &                                                                                                                                                                     Skewness of a dataset. Approximately 0 for Gaussian data. \\\\\n",
      "                               std &                                                                                                                                                                                        Standard deviation of observed values. \\\\\n",
      "                         stetson\\_j &                                                                           Robust covariance statistic between pairs of observations x,y whose uncertainties are dx,dy. If y is not given, calculates a robust variance for x. \\\\\n",
      "                         stetson\\_k &                                                                                                                                                                                                  A robust kurtosis statistic. \\\\\n",
      "                  weighted\\_average &                                                                                                                                                           Arithmetic mean of observed values, weighted by measurement errors. \\\\\n",
      "\\end{longtable}\n",
      "\n"
     ]
    }
   ],
   "source": [
    "# Print to screen:\n",
    "print(table.to_latex(index=False, longtable=True,\n",
    "                     caption=(\"General category features extracted by cesium.\",\n",
    "                              \"General category features extracted by cesium.\")))"
   ]
  },
  {
   "cell_type": "code",
   "execution_count": 35,
   "id": "c62758d9",
   "metadata": {
    "ExecuteTime": {
     "end_time": "2022-05-02T09:16:44.224653Z",
     "start_time": "2022-05-02T09:16:44.198471Z"
    }
   },
   "outputs": [],
   "source": [
    "# Write to file:\n",
    "with open(GENERAL_OUT, 'w') as f:\n",
    "    sys.stdout = f # Change the standard output to the file we created.\n",
    "    print(table.to_latex(index=False, longtable=True,\n",
    "                         caption=(\"General category features extracted by cesium.\",\n",
    "                                  \"General category features extracted by cesium.\")))\n",
    "    sys.stdout = original_stdout # Reset the standard output to its original value\n"
   ]
  },
  {
   "cell_type": "markdown",
   "id": "87ed6438",
   "metadata": {},
   "source": [
    "### Lomb-Scargle (Periodic) features table"
   ]
  },
  {
   "cell_type": "code",
   "execution_count": 36,
   "id": "768314ed",
   "metadata": {
    "ExecuteTime": {
     "end_time": "2022-05-02T09:16:40.530252Z",
     "start_time": "2022-05-02T09:16:40.509304Z"
    }
   },
   "outputs": [
    {
     "data": {
      "text/html": [
       "<div>\n",
       "<style scoped>\n",
       "    .dataframe tbody tr th:only-of-type {\n",
       "        vertical-align: middle;\n",
       "    }\n",
       "\n",
       "    .dataframe tbody tr th {\n",
       "        vertical-align: top;\n",
       "    }\n",
       "\n",
       "    .dataframe thead th {\n",
       "        text-align: right;\n",
       "    }\n",
       "</style>\n",
       "<table border=\"1\" class=\"dataframe\">\n",
       "  <thead>\n",
       "    <tr style=\"text-align: right;\">\n",
       "      <th></th>\n",
       "      <th>Lomb-Scargle (Periodic)</th>\n",
       "      <th>Description</th>\n",
       "    </tr>\n",
       "  </thead>\n",
       "  <tbody>\n",
       "    <tr>\n",
       "      <th>0</th>\n",
       "      <td>fold2P_slope_10percentile</td>\n",
       "      <td>Get alphath percentile of slopes of period-folded model.</td>\n",
       "    </tr>\n",
       "    <tr>\n",
       "      <th>1</th>\n",
       "      <td>fold2P_slope_90percentile</td>\n",
       "      <td>Get alphath percentile of slopes of period-folded model.</td>\n",
       "    </tr>\n",
       "    <tr>\n",
       "      <th>2</th>\n",
       "      <td>freq1_amplitude1</td>\n",
       "      <td>Get the amplitude of the jth harmonic of the ith frequency from a fitted Lomb-Scargle model.</td>\n",
       "    </tr>\n",
       "    <tr>\n",
       "      <th>3</th>\n",
       "      <td>freq1_amplitude2</td>\n",
       "      <td>Get the amplitude of the jth harmonic of the ith frequency from a fitted Lomb-Scargle model.</td>\n",
       "    </tr>\n",
       "    <tr>\n",
       "      <th>4</th>\n",
       "      <td>freq1_amplitude3</td>\n",
       "      <td>Get the amplitude of the jth harmonic of the ith frequency from a fitted Lomb-Scargle model.</td>\n",
       "    </tr>\n",
       "  </tbody>\n",
       "</table>\n",
       "</div>"
      ],
      "text/plain": [
       "     Lomb-Scargle (Periodic)  \\\n",
       "0  fold2P_slope_10percentile   \n",
       "1  fold2P_slope_90percentile   \n",
       "2           freq1_amplitude1   \n",
       "3           freq1_amplitude2   \n",
       "4           freq1_amplitude3   \n",
       "\n",
       "                                                                                    Description  \n",
       "0                                      Get alphath percentile of slopes of period-folded model.  \n",
       "1                                      Get alphath percentile of slopes of period-folded model.  \n",
       "2  Get the amplitude of the jth harmonic of the ith frequency from a fitted Lomb-Scargle model.  \n",
       "3  Get the amplitude of the jth harmonic of the ith frequency from a fitted Lomb-Scargle model.  \n",
       "4  Get the amplitude of the jth harmonic of the ith frequency from a fitted Lomb-Scargle model.  "
      ]
     },
     "execution_count": 36,
     "metadata": {},
     "output_type": "execute_result"
    }
   ],
   "source": [
    "table = pd.read_csv(PERIODIC_FILE, sep='\\t')\n",
    "table.head()"
   ]
  },
  {
   "cell_type": "code",
   "execution_count": 37,
   "id": "d220f245",
   "metadata": {
    "ExecuteTime": {
     "end_time": "2022-05-02T09:16:42.920053Z",
     "start_time": "2022-05-02T09:16:42.909083Z"
    },
    "scrolled": false
   },
   "outputs": [
    {
     "name": "stdout",
     "output_type": "stream",
     "text": [
      "\\begin{longtable}{ll}\n",
      "\\caption[Lomb-Scargle (Periodic) category features extracted by cesium.]{Lomb-Scargle (Periodic) category features extracted by cesium.}\\\\\n",
      "\\toprule\n",
      "   Lomb-Scargle (Periodic) &                                                                                                                                   Description \\\\\n",
      "\\midrule\n",
      "\\endfirsthead\n",
      "\\caption[]{Lomb-Scargle (Periodic) category features extracted by cesium.} \\\\\n",
      "\\toprule\n",
      "   Lomb-Scargle (Periodic) &                                                                                                                                   Description \\\\\n",
      "\\midrule\n",
      "\\endhead\n",
      "\\midrule\n",
      "\\multicolumn{2}{r}{{Continued on next page}} \\\\\n",
      "\\midrule\n",
      "\\endfoot\n",
      "\n",
      "\\bottomrule\n",
      "\\endlastfoot\n",
      " fold2P\\_slope\\_10percentile &                                                                                      Get alphath percentile of slopes of period-folded model. \\\\\n",
      " fold2P\\_slope\\_90percentile &                                                                                      Get alphath percentile of slopes of period-folded model. \\\\\n",
      "          freq1\\_amplitude1 &                                                  Get the amplitude of the jth harmonic of the ith frequency from a fitted Lomb-Scargle model. \\\\\n",
      "          freq1\\_amplitude2 &                                                  Get the amplitude of the jth harmonic of the ith frequency from a fitted Lomb-Scargle model. \\\\\n",
      "          freq1\\_amplitude3 &                                                  Get the amplitude of the jth harmonic of the ith frequency from a fitted Lomb-Scargle model. \\\\\n",
      "          freq1\\_amplitude4 &                                                  Get the amplitude of the jth harmonic of the ith frequency from a fitted Lomb-Scargle model. \\\\\n",
      "                freq1\\_freq &                                                                                       Get the ith frequency from a fitted Lomb-Scargle model. \\\\\n",
      "              freq1\\_lambda &                                                                              Get the regularization parameter of a fitted Lomb-Scargle model. \\\\\n",
      "          freq1\\_rel\\_phase2 &                                             Get the relative phase of the jth harmonic of the ith frequency from a fitted Lomb-Scargle model. \\\\\n",
      "          freq1\\_rel\\_phase3 &                                             Get the relative phase of the jth harmonic of the ith frequency from a fitted Lomb-Scargle model. \\\\\n",
      "          freq1\\_rel\\_phase4 &                                             Get the relative phase of the jth harmonic of the ith frequency from a fitted Lomb-Scargle model. \\\\\n",
      "              freq1\\_signif &                                                     Get the significance (in sigmas) of the first frequency from a fitted Lomb-Scargle model. \\\\\n",
      "          freq2\\_amplitude1 &                                                  Get the amplitude of the jth harmonic of the ith frequency from a fitted Lomb-Scargle model. \\\\\n",
      "          freq2\\_amplitude2 &                                                  Get the amplitude of the jth harmonic of the ith frequency from a fitted Lomb-Scargle model. \\\\\n",
      "          freq2\\_amplitude3 &                                                  Get the amplitude of the jth harmonic of the ith frequency from a fitted Lomb-Scargle model. \\\\\n",
      "          freq2\\_amplitude4 &                                                  Get the amplitude of the jth harmonic of the ith frequency from a fitted Lomb-Scargle model. \\\\\n",
      "                freq2\\_freq &                                                                                       Get the ith frequency from a fitted Lomb-Scargle model. \\\\\n",
      "          freq2\\_rel\\_phase2 &                                             Get the relative phase of the jth harmonic of the ith frequency from a fitted Lomb-Scargle model. \\\\\n",
      "          freq2\\_rel\\_phase3 &                                             Get the relative phase of the jth harmonic of the ith frequency from a fitted Lomb-Scargle model. \\\\\n",
      "          freq2\\_rel\\_phase4 &                                             Get the relative phase of the jth harmonic of the ith frequency from a fitted Lomb-Scargle model. \\\\\n",
      "          freq3\\_amplitude1 &                                                  Get the amplitude of the jth harmonic of the ith frequency from a fitted Lomb-Scargle model. \\\\\n",
      "          freq3\\_amplitude2 &                                                  Get the amplitude of the jth harmonic of the ith frequency from a fitted Lomb-Scargle model. \\\\\n",
      "          freq3\\_amplitude3 &                                                  Get the amplitude of the jth harmonic of the ith frequency from a fitted Lomb-Scargle model. \\\\\n",
      "          freq3\\_amplitude4 &                                                  Get the amplitude of the jth harmonic of the ith frequency from a fitted Lomb-Scargle model. \\\\\n",
      "                freq3\\_freq &                                                                                       Get the ith frequency from a fitted Lomb-Scargle model. \\\\\n",
      "          freq3\\_rel\\_phase2 &                                             Get the relative phase of the jth harmonic of the ith frequency from a fitted Lomb-Scargle model. \\\\\n",
      "          freq3\\_rel\\_phase3 &                                             Get the relative phase of the jth harmonic of the ith frequency from a fitted Lomb-Scargle model. \\\\\n",
      "          freq3\\_rel\\_phase4 &                                             Get the relative phase of the jth harmonic of the ith frequency from a fitted Lomb-Scargle model. \\\\\n",
      "   freq\\_amplitude\\_ratio\\_21 &                     Get the ratio of the amplitudes of the first harmonic for the ith and first frequencies from a fitted Lomb-Scargle model. \\\\\n",
      "   freq\\_amplitude\\_ratio\\_31 &                     Get the ratio of the amplitudes of the first harmonic for the ith and first frequencies from a fitted Lomb-Scargle model. \\\\\n",
      "   freq\\_frequency\\_ratio\\_21 &                                                              Get the ratio of the ith and first frequencies from a fitted Lomb-Scargle model. \\\\\n",
      "   freq\\_frequency\\_ratio\\_31 &                                                              Get the ratio of the ith and first frequencies from a fitted Lomb-Scargle model. \\\\\n",
      " freq\\_model\\_max\\_delta\\_mags &                                                                        Largest value minus second largest value of fitted Lomb Scargle model. \\\\\n",
      " freq\\_model\\_min\\_delta\\_mags &                                                                      Second smallest value minus smallest value of fitted Lomb Scargle model. \\\\\n",
      "      freq\\_model\\_phi1\\_phi2 & Ratio of distances between the second minimum and first maximum, and the second minimum and second maximum, of the fitted Lomb-Scargle model. \\\\\n",
      "              freq\\_n\\_alias &                                                                                   Here we check for “1-day” aliases in ASAS / Deboss sources. \\\\\n",
      "      freq\\_signif\\_ratio\\_21 &                             Get the ratio of the significances (in sigmas) of the ith and first frequencies from a fitted Lomb-Scargle model. \\\\\n",
      "      freq\\_signif\\_ratio\\_31 &                             Get the ratio of the significances (in sigmas) of the ith and first frequencies from a fitted Lomb-Scargle model. \\\\\n",
      "               freq\\_varrat &                                             Get the fraction of the variance explained by the first frequency of a fitted Lomb-Scargle model. \\\\\n",
      "             freq\\_y\\_offset &                                                                                           Get the y-intercept of a fitted Lomb-Scargle model. \\\\\n",
      "              linear\\_trend &                                                                                          Get the linear trend of a fitted Lomb-Scargle model. \\\\\n",
      "            medperc90\\_2p\\_p &              Get ratio of 90th percentiles of residuals for data folded by twice the estimated period and the estimated period, respectively. \\\\\n",
      "         p2p\\_scatter\\_2praw &                                    Get ratio of variability (sum of squared differences of consecutive values) of folded and unfolded models. \\\\\n",
      "      p2p\\_scatter\\_over\\_mad &                                                                                       Get ratio of variability of folded and unfolded models. \\\\\n",
      "p2p\\_scatter\\_pfold\\_over\\_mad &                                                  Get ratio of median of period-folded data over median absolute deviation of observed values. \\\\\n",
      "    p2p\\_ssqr\\_diff\\_over\\_var &                                               Get sum of squared differences of consecutive values as a fraction of the variance of the data. \\\\\n",
      "           scatter\\_res\\_raw &                                                                                                 From arXiv 1101\\_2406v1 Dubath 20110112 paper. \\\\\n",
      "\\end{longtable}\n",
      "\n"
     ]
    }
   ],
   "source": [
    "# Print to screen:\n",
    "print(table.to_latex(index=False, longtable=True,\n",
    "                     caption=(\"Lomb-Scargle (Periodic) category features extracted by cesium.\",\n",
    "                              \"Lomb-Scargle (Periodic) category features extracted by cesium.\")))"
   ]
  },
  {
   "cell_type": "code",
   "execution_count": 38,
   "id": "33514531",
   "metadata": {
    "ExecuteTime": {
     "end_time": "2022-05-02T09:16:44.224653Z",
     "start_time": "2022-05-02T09:16:44.198471Z"
    }
   },
   "outputs": [],
   "source": [
    "# Write to file:\n",
    "with open(PERIODIC_OUT, 'w') as f:\n",
    "    sys.stdout = f # Change the standard output to the file we created.\n",
    "    print(table.to_latex(index=False, longtable=True,\n",
    "                         caption=(\"Lomb-Scargle (Periodic) category features extracted by cesium.\",\n",
    "                                  \"Lomb-Scargle (Periodic) category features extracted by cesium.\")))\n",
    "    sys.stdout = original_stdout # Reset the standard output to its original value\n"
   ]
  },
  {
   "cell_type": "markdown",
   "id": "4c6b2031",
   "metadata": {},
   "source": [
    "**IMPORTANT NOTE:** Remember to review the generated _\".tex\"_ files before using:\n",
    "- Readjust the column widths of the _longtable_ to _{p{0.45\\linewidth}p{0.55\\linewidth}}_\n",
    "- Search and replace Unicode characters that could give trouble."
   ]
  },
  {
   "cell_type": "code",
   "execution_count": null,
   "id": "21a67daf",
   "metadata": {},
   "outputs": [],
   "source": []
  }
 ],
 "metadata": {
  "kernelspec": {
   "display_name": "Python 3 (ipykernel)",
   "language": "python",
   "name": "python3"
  },
  "language_info": {
   "codemirror_mode": {
    "name": "ipython",
    "version": 3
   },
   "file_extension": ".py",
   "mimetype": "text/x-python",
   "name": "python",
   "nbconvert_exporter": "python",
   "pygments_lexer": "ipython3",
   "version": "3.8.8"
  },
  "toc": {
   "base_numbering": 1,
   "nav_menu": {},
   "number_sections": true,
   "sideBar": true,
   "skip_h1_title": true,
   "title_cell": "Table of Contents",
   "title_sidebar": "Contents",
   "toc_cell": false,
   "toc_position": {},
   "toc_section_display": true,
   "toc_window_display": true
  }
 },
 "nbformat": 4,
 "nbformat_minor": 5
}
