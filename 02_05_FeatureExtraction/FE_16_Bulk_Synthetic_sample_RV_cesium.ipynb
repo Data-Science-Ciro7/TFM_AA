{
 "cells": [
  {
   "cell_type": "markdown",
   "metadata": {},
   "source": [
    "# BULK FEATURE EXTRACTION OF THE ML SYNTHETIC RV CURVES WITH `cesium`"
   ]
  },
  {
   "cell_type": "markdown",
   "metadata": {},
   "source": [
    "In this notebook we do the bulk feature extraction with `cesium` for all the 1000 in ML synthetic samples (S1, S2, S3 or S4, configurable in the second cell of the notebook).\n",
    "\n",
    "**NOTE:** for S1 and S2 samples, it was neccesary to reduce the number of RV data points to just the first $26,251$ points, as using the full time series with $62,521$ points crashed the notebook. This should not be a major problem, we have still at least 336 full cycles of the underlying signals included in that time span, and the width of the frequency is still small enough ($\\sim0.024\\;d^{-1}$).\n",
    "\n",
    "**IMPORTANT NOTE:** this code is probably not very efficient (for example, too many dataframe `append` operations, which is costly), but there is no special need at the moment to be more efficient. Maybe the solution is to create a 2D numpy array and then, at the end, create the DataFrame."
   ]
  },
  {
   "cell_type": "markdown",
   "metadata": {},
   "source": [
    "## Modules and configuration"
   ]
  },
  {
   "cell_type": "markdown",
   "metadata": {},
   "source": [
    "### Modules"
   ]
  },
  {
   "cell_type": "code",
   "execution_count": 1,
   "metadata": {
    "ExecuteTime": {
     "end_time": "2023-02-19T12:10:30.002223Z",
     "start_time": "2023-02-19T12:10:28.895903Z"
    }
   },
   "outputs": [],
   "source": [
    "# Module import:\n",
    "from IPython.display import clear_output\n",
    "import warnings\n",
    "import time\n",
    "\n",
    "import pandas as pd\n",
    "import numpy as np\n",
    "\n",
    "from cesium.data_management import TimeSeries\n",
    "from cesium.featurize import featurize_single_ts"
   ]
  },
  {
   "cell_type": "markdown",
   "metadata": {},
   "source": [
    "### Configuration"
   ]
  },
  {
   "cell_type": "code",
   "execution_count": 17,
   "metadata": {
    "ExecuteTime": {
     "end_time": "2023-02-19T12:15:27.805693Z",
     "start_time": "2023-02-19T12:15:27.791731Z"
    }
   },
   "outputs": [],
   "source": [
    "FILE_ID = \"S4\" # For file name\n",
    "CASE_ID = \"S4\" # For column name, metadata, etc.\n",
    "\n",
    "#POINTS_LIMIT = 26251 # INTENDED FOR S1 AND S2, SO AS THE CESIUM CALCULATION DOES NOT CRASH THE KERNEL.\n",
    "    # 26251  POINTS SHOULD BE ENOUGH, AS IT SPANS 42 d (TIME SAMPLING IS 0.0016 d), WHICH IN TURN\n",
    "    # INCLUDES 336 COMPLETE CYCLES OF THE LOWEST FREQUENCY (8.0 d^{-A}), i.e. HIGHEST PERIOD (0.125 d).\n",
    "POINTS_LIMIT = None # USE THIS 'None' VALUE FOR S3 AND S4 - THE CARMENES SAMPLING ALREADY REDUCES THE\n",
    "    # NUMBER OF POINTS TO A REASONABLE VALUE.\n",
    "\n",
    "GTO_FILE = \"../data/RV_FINAL_ML_SyntheticDatasets_without_PG.csv\"\n",
    "#RV_FOLDER = \"../data/ML_RVs/\"\n",
    "\n",
    "CS_FEATURES_FOLDER = \"../data/DATASETS_CESIUM/\"\n",
    "OUT_DATASET_FILE = \"cesium_ML_FINAL_\" + FILE_ID + \".csv\"\n",
    "\n",
    "\n",
    "\n",
    "# LIST OF STAR METADATA TO ADD (FROM CARMENCITA DATABASE):\n",
    "METADATA = {\n",
    "    'S1': ['ID', 'Pulsating', 'frequency', 'amplitudeRV', 'offsetRV', 'refepochRV', 'phase',\n",
    "           'S1_Ps', 'S1_Tobs'],\n",
    "    'S2': ['ID', 'Pulsating', 'frequency', 'amplitudeRV', 'offsetRV', 'refepochRV', 'phase',\n",
    "           'S1_Ps', 'S1_Tobs',\n",
    "           'S2_errorRV_dist_idx', 'S2_errorRV_dist_name', 'S2_errorRV_dist_loc', 'S2_errorRV_dist_scale',\n",
    "           'S2_errorRV_mean', 'S2_errorRV_median', 'S2_errorRV_stdev'],\n",
    "    'S3': ['ID', 'Pulsating', 'frequency', 'amplitudeRV', 'offsetRV', 'refepochRV', 'phase',\n",
    "           'S3_sampling_idx', 'S3_Tobs', 'S3_Ps_mean', 'S3_Ps_median', 'S3_Ps_stdev', 'S3_NumPoints'],\n",
    "#    'S4': ['ID', 'Pulsating', 'frequency', 'amplitudeRV', 'offsetRV', 'refepochRV', 'phase',\n",
    "#           'S3_sampling_idx', 'S3_Tobs', 'S3_Ps_mean', 'S3_Ps_median', 'S3_Ps_stdev', 'S3_NumPoints',\n",
    "#           'S2_errorRV_dist_idx', 'S2_errorRV_dist_name', 'S2_errorRV_dist_loc', 'S2_errorRV_dist_scale',\n",
    "#           'S4_errorRV_mean', 'S4_errorRV_median', 'S4_errorRV_stdev'],\n",
    "    'S4': ['ID', 'Pulsating',\n",
    "           'frequency', 'amplitudeRV', 'offsetRV', 'refepochRV', 'phase', \n",
    "           'CARMENES_source_idx', 'CARMENES_Ref_star',\n",
    "           'errorRV_dist_loc', 'errorRV_dist_scale', 'errorRV_mean', 'errorRV_median', 'errorRV_stdev',\n",
    "           'Tobs', 'Ps_mean', 'Ps_median', 'Ps_stdev', 'NumPoints',\n",
    "           'S4_file', 'S3_file']\n",
    "}\n",
    "\n",
    "# A LIST OF ALL THE FEATURES CESIUM CAN EXTRACT (FOR REFERENCE PURPOSES)\n",
    "ALL_CS_FEATURES = ['all_times_nhist_numpeaks',\n",
    "                   'all_times_nhist_peak1_bin', 'all_times_nhist_peak2_bin', 'all_times_nhist_peak3_bin', 'all_times_nhist_peak4_bin',\n",
    "                   'all_times_nhist_peak_1_to_2', 'all_times_nhist_peak_1_to_3', 'all_times_nhist_peak_1_to_4',\n",
    "                   'all_times_nhist_peak_2_to_3', 'all_times_nhist_peak_2_to_4',\n",
    "                   'all_times_nhist_peak_3_to_4',\n",
    "                   'all_times_nhist_peak_val',\n",
    "                   'avg_double_to_single_step', 'avg_err', 'avgt',\n",
    "                   'cad_probs_1', 'cad_probs_10', 'cad_probs_20', 'cad_probs_30', 'cad_probs_40', 'cad_probs_50',\n",
    "                   'cad_probs_100', 'cad_probs_500', 'cad_probs_1000', 'cad_probs_5000',\n",
    "                   'cad_probs_10000', 'cad_probs_50000', 'cad_probs_100000', 'cad_probs_500000',\n",
    "                   'cad_probs_1000000', 'cad_probs_5000000', 'cad_probs_10000000',\n",
    "                   'cads_avg', 'cads_med', 'cads_std', 'mean',\n",
    "                   'med_double_to_single_step', 'med_err',\n",
    "                   'n_epochs', 'std_double_to_single_step', 'std_err',\n",
    "                   'total_time', 'amplitude',\n",
    "                   'flux_percentile_ratio_mid20', 'flux_percentile_ratio_mid35', 'flux_percentile_ratio_mid50',\n",
    "                   'flux_percentile_ratio_mid65', 'flux_percentile_ratio_mid80',\n",
    "                   'max_slope', 'maximum', 'median', 'median_absolute_deviation', 'minimum',\n",
    "                   'percent_amplitude', 'percent_beyond_1_std', 'percent_close_to_median', 'percent_difference_flux_percentile',\n",
    "                   'period_fast', 'qso_log_chi2_qsonu', 'qso_log_chi2nuNULL_chi2nu', 'skew', 'std',\n",
    "                   'stetson_j', 'stetson_k', 'weighted_average', 'fold2P_slope_10percentile', 'fold2P_slope_90percentile',\n",
    "                   'freq1_amplitude1', 'freq1_amplitude2', 'freq1_amplitude3', 'freq1_amplitude4',\n",
    "                   'freq1_freq', 'freq1_lambda', 'freq1_rel_phase2', 'freq1_rel_phase3', 'freq1_rel_phase4', 'freq1_signif',\n",
    "                   'freq2_amplitude1', 'freq2_amplitude2', 'freq2_amplitude3', 'freq2_amplitude4',\n",
    "                   'freq2_freq', 'freq2_rel_phase2', 'freq2_rel_phase3', 'freq2_rel_phase4',\n",
    "                   'freq3_amplitude1', 'freq3_amplitude2', 'freq3_amplitude3', 'freq3_amplitude4',\n",
    "                   'freq3_freq', 'freq3_rel_phase2', 'freq3_rel_phase3', 'freq3_rel_phase4',\n",
    "                   'freq_amplitude_ratio_21', 'freq_amplitude_ratio_31',\n",
    "                   'freq_frequency_ratio_21', 'freq_frequency_ratio_31',\n",
    "                   'freq_model_max_delta_mags', 'freq_model_min_delta_mags', 'freq_model_phi1_phi2',\n",
    "                   'freq_n_alias', 'freq_signif_ratio_21', 'freq_signif_ratio_31',\n",
    "                   'freq_varrat', 'freq_y_offset', 'linear_trend', 'medperc90_2p_p',\n",
    "                   'p2p_scatter_2praw', 'p2p_scatter_over_mad', 'p2p_scatter_pfold_over_mad', 'p2p_ssqr_diff_over_var',\n",
    "                   'scatter_res_raw']\n"
   ]
  },
  {
   "cell_type": "markdown",
   "metadata": {},
   "source": [
    "## Load ML subsample information table"
   ]
  },
  {
   "cell_type": "code",
   "execution_count": 18,
   "metadata": {
    "ExecuteTime": {
     "end_time": "2023-02-19T12:15:28.677416Z",
     "start_time": "2023-02-19T12:15:28.637523Z"
    }
   },
   "outputs": [
    {
     "data": {
      "text/html": [
       "<div>\n",
       "<style scoped>\n",
       "    .dataframe tbody tr th:only-of-type {\n",
       "        vertical-align: middle;\n",
       "    }\n",
       "\n",
       "    .dataframe tbody tr th {\n",
       "        vertical-align: top;\n",
       "    }\n",
       "\n",
       "    .dataframe thead th {\n",
       "        text-align: right;\n",
       "    }\n",
       "</style>\n",
       "<table border=\"1\" class=\"dataframe\">\n",
       "  <thead>\n",
       "    <tr style=\"text-align: right;\">\n",
       "      <th></th>\n",
       "      <th>ID</th>\n",
       "      <th>Pulsating</th>\n",
       "      <th>frequency</th>\n",
       "      <th>amplitudeRV</th>\n",
       "      <th>offsetRV</th>\n",
       "      <th>refepochRV</th>\n",
       "      <th>phase</th>\n",
       "      <th>CARMENES_source_idx</th>\n",
       "      <th>CARMENES_Ref_star</th>\n",
       "      <th>errorRV_dist_loc</th>\n",
       "      <th>...</th>\n",
       "      <th>errorRV_mean</th>\n",
       "      <th>errorRV_median</th>\n",
       "      <th>errorRV_stdev</th>\n",
       "      <th>Tobs</th>\n",
       "      <th>Ps_mean</th>\n",
       "      <th>Ps_median</th>\n",
       "      <th>Ps_stdev</th>\n",
       "      <th>NumPoints</th>\n",
       "      <th>S4_file</th>\n",
       "      <th>S3_file</th>\n",
       "    </tr>\n",
       "  </thead>\n",
       "  <tbody>\n",
       "    <tr>\n",
       "      <th>0</th>\n",
       "      <td>B_Star-00000</td>\n",
       "      <td>False</td>\n",
       "      <td>0.0</td>\n",
       "      <td>0.0</td>\n",
       "      <td>0.0</td>\n",
       "      <td>2.457432e+06</td>\n",
       "      <td>0.0</td>\n",
       "      <td>116</td>\n",
       "      <td>J11511+352</td>\n",
       "      <td>1.469807</td>\n",
       "      <td>...</td>\n",
       "      <td>1.561607</td>\n",
       "      <td>1.505</td>\n",
       "      <td>0.495668</td>\n",
       "      <td>1265.696252</td>\n",
       "      <td>11.402669</td>\n",
       "      <td>3.072043</td>\n",
       "      <td>30.706143</td>\n",
       "      <td>112</td>\n",
       "      <td>../data/SYNTH_RV_SAMPLES/S4B_ts_files/S4-RV_B_...</td>\n",
       "      <td>../data/SYNTH_RV_SAMPLES/S3B_ts_files/S3-RV_B_...</td>\n",
       "    </tr>\n",
       "    <tr>\n",
       "      <th>1</th>\n",
       "      <td>B_Star-00001</td>\n",
       "      <td>False</td>\n",
       "      <td>0.0</td>\n",
       "      <td>0.0</td>\n",
       "      <td>0.0</td>\n",
       "      <td>2.457487e+06</td>\n",
       "      <td>0.0</td>\n",
       "      <td>29</td>\n",
       "      <td>J20336+617</td>\n",
       "      <td>0.882503</td>\n",
       "      <td>...</td>\n",
       "      <td>1.588462</td>\n",
       "      <td>1.530</td>\n",
       "      <td>0.439122</td>\n",
       "      <td>1564.855816</td>\n",
       "      <td>30.683447</td>\n",
       "      <td>9.072850</td>\n",
       "      <td>83.352561</td>\n",
       "      <td>52</td>\n",
       "      <td>../data/SYNTH_RV_SAMPLES/S4B_ts_files/S4-RV_B_...</td>\n",
       "      <td>../data/SYNTH_RV_SAMPLES/S3B_ts_files/S3-RV_B_...</td>\n",
       "    </tr>\n",
       "    <tr>\n",
       "      <th>2</th>\n",
       "      <td>B_Star-00002</td>\n",
       "      <td>False</td>\n",
       "      <td>0.0</td>\n",
       "      <td>0.0</td>\n",
       "      <td>0.0</td>\n",
       "      <td>2.457417e+06</td>\n",
       "      <td>0.0</td>\n",
       "      <td>156</td>\n",
       "      <td>J08402+314</td>\n",
       "      <td>1.093215</td>\n",
       "      <td>...</td>\n",
       "      <td>1.265714</td>\n",
       "      <td>1.280</td>\n",
       "      <td>0.079796</td>\n",
       "      <td>665.040019</td>\n",
       "      <td>110.840003</td>\n",
       "      <td>40.398042</td>\n",
       "      <td>121.050265</td>\n",
       "      <td>7</td>\n",
       "      <td>../data/SYNTH_RV_SAMPLES/S4B_ts_files/S4-RV_B_...</td>\n",
       "      <td>../data/SYNTH_RV_SAMPLES/S3B_ts_files/S3-RV_B_...</td>\n",
       "    </tr>\n",
       "    <tr>\n",
       "      <th>3</th>\n",
       "      <td>B_Star-00003</td>\n",
       "      <td>False</td>\n",
       "      <td>0.0</td>\n",
       "      <td>0.0</td>\n",
       "      <td>0.0</td>\n",
       "      <td>2.457431e+06</td>\n",
       "      <td>0.0</td>\n",
       "      <td>180</td>\n",
       "      <td>J05421+124</td>\n",
       "      <td>1.213872</td>\n",
       "      <td>...</td>\n",
       "      <td>1.232200</td>\n",
       "      <td>1.220</td>\n",
       "      <td>0.257987</td>\n",
       "      <td>1678.220745</td>\n",
       "      <td>34.249403</td>\n",
       "      <td>10.960469</td>\n",
       "      <td>56.986056</td>\n",
       "      <td>50</td>\n",
       "      <td>../data/SYNTH_RV_SAMPLES/S4B_ts_files/S4-RV_B_...</td>\n",
       "      <td>../data/SYNTH_RV_SAMPLES/S3B_ts_files/S3-RV_B_...</td>\n",
       "    </tr>\n",
       "    <tr>\n",
       "      <th>4</th>\n",
       "      <td>B_Star-00004</td>\n",
       "      <td>False</td>\n",
       "      <td>0.0</td>\n",
       "      <td>0.0</td>\n",
       "      <td>0.0</td>\n",
       "      <td>2.461026e+06</td>\n",
       "      <td>0.0</td>\n",
       "      <td>67</td>\n",
       "      <td>J17052-050</td>\n",
       "      <td>1.381081</td>\n",
       "      <td>...</td>\n",
       "      <td>1.575200</td>\n",
       "      <td>1.470</td>\n",
       "      <td>0.301631</td>\n",
       "      <td>1644.613590</td>\n",
       "      <td>33.563543</td>\n",
       "      <td>17.070651</td>\n",
       "      <td>63.454219</td>\n",
       "      <td>50</td>\n",
       "      <td>../data/SYNTH_RV_SAMPLES/S4B_ts_files/S4-RV_B_...</td>\n",
       "      <td>../data/SYNTH_RV_SAMPLES/S3B_ts_files/S3-RV_B_...</td>\n",
       "    </tr>\n",
       "  </tbody>\n",
       "</table>\n",
       "<p>5 rows × 21 columns</p>\n",
       "</div>"
      ],
      "text/plain": [
       "             ID  Pulsating  frequency  amplitudeRV  offsetRV    refepochRV  \\\n",
       "0  B_Star-00000      False        0.0          0.0       0.0  2.457432e+06   \n",
       "1  B_Star-00001      False        0.0          0.0       0.0  2.457487e+06   \n",
       "2  B_Star-00002      False        0.0          0.0       0.0  2.457417e+06   \n",
       "3  B_Star-00003      False        0.0          0.0       0.0  2.457431e+06   \n",
       "4  B_Star-00004      False        0.0          0.0       0.0  2.461026e+06   \n",
       "\n",
       "   phase  CARMENES_source_idx CARMENES_Ref_star  errorRV_dist_loc  ...  \\\n",
       "0    0.0                  116        J11511+352          1.469807  ...   \n",
       "1    0.0                   29        J20336+617          0.882503  ...   \n",
       "2    0.0                  156        J08402+314          1.093215  ...   \n",
       "3    0.0                  180        J05421+124          1.213872  ...   \n",
       "4    0.0                   67        J17052-050          1.381081  ...   \n",
       "\n",
       "   errorRV_mean  errorRV_median  errorRV_stdev         Tobs     Ps_mean  \\\n",
       "0      1.561607           1.505       0.495668  1265.696252   11.402669   \n",
       "1      1.588462           1.530       0.439122  1564.855816   30.683447   \n",
       "2      1.265714           1.280       0.079796   665.040019  110.840003   \n",
       "3      1.232200           1.220       0.257987  1678.220745   34.249403   \n",
       "4      1.575200           1.470       0.301631  1644.613590   33.563543   \n",
       "\n",
       "   Ps_median    Ps_stdev  NumPoints  \\\n",
       "0   3.072043   30.706143        112   \n",
       "1   9.072850   83.352561         52   \n",
       "2  40.398042  121.050265          7   \n",
       "3  10.960469   56.986056         50   \n",
       "4  17.070651   63.454219         50   \n",
       "\n",
       "                                             S4_file  \\\n",
       "0  ../data/SYNTH_RV_SAMPLES/S4B_ts_files/S4-RV_B_...   \n",
       "1  ../data/SYNTH_RV_SAMPLES/S4B_ts_files/S4-RV_B_...   \n",
       "2  ../data/SYNTH_RV_SAMPLES/S4B_ts_files/S4-RV_B_...   \n",
       "3  ../data/SYNTH_RV_SAMPLES/S4B_ts_files/S4-RV_B_...   \n",
       "4  ../data/SYNTH_RV_SAMPLES/S4B_ts_files/S4-RV_B_...   \n",
       "\n",
       "                                             S3_file  \n",
       "0  ../data/SYNTH_RV_SAMPLES/S3B_ts_files/S3-RV_B_...  \n",
       "1  ../data/SYNTH_RV_SAMPLES/S3B_ts_files/S3-RV_B_...  \n",
       "2  ../data/SYNTH_RV_SAMPLES/S3B_ts_files/S3-RV_B_...  \n",
       "3  ../data/SYNTH_RV_SAMPLES/S3B_ts_files/S3-RV_B_...  \n",
       "4  ../data/SYNTH_RV_SAMPLES/S3B_ts_files/S3-RV_B_...  \n",
       "\n",
       "[5 rows x 21 columns]"
      ]
     },
     "execution_count": 18,
     "metadata": {},
     "output_type": "execute_result"
    }
   ],
   "source": [
    "gto = pd.read_csv(GTO_FILE, sep=',', decimal='.')\n",
    "gto.head()"
   ]
  },
  {
   "cell_type": "code",
   "execution_count": 19,
   "metadata": {
    "ExecuteTime": {
     "end_time": "2023-02-19T12:15:29.020127Z",
     "start_time": "2023-02-19T12:15:29.013145Z"
    }
   },
   "outputs": [
    {
     "name": "stdout",
     "output_type": "stream",
     "text": [
      "['ID', 'Pulsating', 'frequency', 'amplitudeRV', 'offsetRV', 'refepochRV', 'phase', 'CARMENES_source_idx', 'CARMENES_Ref_star', 'errorRV_dist_loc', 'errorRV_dist_scale', 'errorRV_mean', 'errorRV_median', 'errorRV_stdev', 'Tobs', 'Ps_mean', 'Ps_median', 'Ps_stdev', 'NumPoints', 'S4_file', 'S3_file']\n"
     ]
    }
   ],
   "source": [
    "print(list(gto.columns))"
   ]
  },
  {
   "cell_type": "code",
   "execution_count": 20,
   "metadata": {
    "ExecuteTime": {
     "end_time": "2023-02-19T12:15:29.613150Z",
     "start_time": "2023-02-19T12:15:29.598188Z"
    }
   },
   "outputs": [
    {
     "data": {
      "text/html": [
       "<div>\n",
       "<style scoped>\n",
       "    .dataframe tbody tr th:only-of-type {\n",
       "        vertical-align: middle;\n",
       "    }\n",
       "\n",
       "    .dataframe tbody tr th {\n",
       "        vertical-align: top;\n",
       "    }\n",
       "\n",
       "    .dataframe thead th {\n",
       "        text-align: right;\n",
       "    }\n",
       "</style>\n",
       "<table border=\"1\" class=\"dataframe\">\n",
       "  <thead>\n",
       "    <tr style=\"text-align: right;\">\n",
       "      <th></th>\n",
       "      <th>S4_file</th>\n",
       "    </tr>\n",
       "  </thead>\n",
       "  <tbody>\n",
       "    <tr>\n",
       "      <th>0</th>\n",
       "      <td>../data/SYNTH_RV_SAMPLES/S4B_ts_files/S4-RV_B_...</td>\n",
       "    </tr>\n",
       "    <tr>\n",
       "      <th>1</th>\n",
       "      <td>../data/SYNTH_RV_SAMPLES/S4B_ts_files/S4-RV_B_...</td>\n",
       "    </tr>\n",
       "    <tr>\n",
       "      <th>2</th>\n",
       "      <td>../data/SYNTH_RV_SAMPLES/S4B_ts_files/S4-RV_B_...</td>\n",
       "    </tr>\n",
       "    <tr>\n",
       "      <th>3</th>\n",
       "      <td>../data/SYNTH_RV_SAMPLES/S4B_ts_files/S4-RV_B_...</td>\n",
       "    </tr>\n",
       "    <tr>\n",
       "      <th>4</th>\n",
       "      <td>../data/SYNTH_RV_SAMPLES/S4B_ts_files/S4-RV_B_...</td>\n",
       "    </tr>\n",
       "    <tr>\n",
       "      <th>...</th>\n",
       "      <td>...</td>\n",
       "    </tr>\n",
       "    <tr>\n",
       "      <th>3995</th>\n",
       "      <td>../data/SYNTH_RV_SAMPLES/S4B_ts_files/S4-RV_B_...</td>\n",
       "    </tr>\n",
       "    <tr>\n",
       "      <th>3996</th>\n",
       "      <td>../data/SYNTH_RV_SAMPLES/S4B_ts_files/S4-RV_B_...</td>\n",
       "    </tr>\n",
       "    <tr>\n",
       "      <th>3997</th>\n",
       "      <td>../data/SYNTH_RV_SAMPLES/S4B_ts_files/S4-RV_B_...</td>\n",
       "    </tr>\n",
       "    <tr>\n",
       "      <th>3998</th>\n",
       "      <td>../data/SYNTH_RV_SAMPLES/S4B_ts_files/S4-RV_B_...</td>\n",
       "    </tr>\n",
       "    <tr>\n",
       "      <th>3999</th>\n",
       "      <td>../data/SYNTH_RV_SAMPLES/S4B_ts_files/S4-RV_B_...</td>\n",
       "    </tr>\n",
       "  </tbody>\n",
       "</table>\n",
       "<p>4000 rows × 1 columns</p>\n",
       "</div>"
      ],
      "text/plain": [
       "                                                S4_file\n",
       "0     ../data/SYNTH_RV_SAMPLES/S4B_ts_files/S4-RV_B_...\n",
       "1     ../data/SYNTH_RV_SAMPLES/S4B_ts_files/S4-RV_B_...\n",
       "2     ../data/SYNTH_RV_SAMPLES/S4B_ts_files/S4-RV_B_...\n",
       "3     ../data/SYNTH_RV_SAMPLES/S4B_ts_files/S4-RV_B_...\n",
       "4     ../data/SYNTH_RV_SAMPLES/S4B_ts_files/S4-RV_B_...\n",
       "...                                                 ...\n",
       "3995  ../data/SYNTH_RV_SAMPLES/S4B_ts_files/S4-RV_B_...\n",
       "3996  ../data/SYNTH_RV_SAMPLES/S4B_ts_files/S4-RV_B_...\n",
       "3997  ../data/SYNTH_RV_SAMPLES/S4B_ts_files/S4-RV_B_...\n",
       "3998  ../data/SYNTH_RV_SAMPLES/S4B_ts_files/S4-RV_B_...\n",
       "3999  ../data/SYNTH_RV_SAMPLES/S4B_ts_files/S4-RV_B_...\n",
       "\n",
       "[4000 rows x 1 columns]"
      ]
     },
     "execution_count": 20,
     "metadata": {},
     "output_type": "execute_result"
    }
   ],
   "source": [
    "#gto[['rv_file']]\n",
    "gto[[CASE_ID + '_file']]"
   ]
  },
  {
   "cell_type": "code",
   "execution_count": 21,
   "metadata": {
    "ExecuteTime": {
     "end_time": "2023-02-19T12:15:30.065679Z",
     "start_time": "2023-02-19T12:15:30.061691Z"
    }
   },
   "outputs": [
    {
     "data": {
      "text/plain": [
       "'../data/SYNTH_RV_SAMPLES/S4B_ts_files/S4-RV_B_Star-00000.dat'"
      ]
     },
     "execution_count": 21,
     "metadata": {},
     "output_type": "execute_result"
    }
   ],
   "source": [
    "gto.loc[0, CASE_ID + '_file']"
   ]
  },
  {
   "cell_type": "markdown",
   "metadata": {},
   "source": [
    "## Feature extraction with `cesium` for the real RV curves"
   ]
  },
  {
   "cell_type": "code",
   "execution_count": 23,
   "metadata": {
    "ExecuteTime": {
     "end_time": "2023-02-19T12:57:06.597319Z",
     "start_time": "2023-02-19T12:16:19.942253Z"
    },
    "scrolled": false
   },
   "outputs": [
    {
     "name": "stdout",
     "output_type": "stream",
     "text": [
      "Record: 3999, started at 19/02/2023, 13:57:05...\n",
      "Previous median lapse time: 0.17 seconds\n",
      "PROCESSING STAR B_Star-03999...\n",
      "Loading RV file...\n",
      "\tNote: No limit - took all the 79 points in the series.\n",
      "Creating time series...\n",
      "Calculating cesium features...\n",
      "--- FINISHED ---\n"
     ]
    }
   ],
   "source": [
    "# DISABLE WARNINGS:\n",
    "warnings.filterwarnings('ignore')\n",
    "# Batch processing:\n",
    "lapse_list = []\n",
    "median_lapse = None\n",
    "# Initialize features dataframe and metafeatures (from disk, or new):\n",
    "try:\n",
    "    df = pd.read_csv(CS_FEATURES_FOLDER + OUT_DATASET_FILE, sep=',', decimal='.')\n",
    "    i0 = len(df)\n",
    "    print(\"Previous result found, will continue at record %d...\" %len(df))\n",
    "except:\n",
    "    # No previous data stored in disk, initialize the DataFrame:\n",
    "    print(\"No previous results found, initializing dataframe...\")\n",
    "    df = None\n",
    "    i0 = 0\n",
    "#metadata_idx = METADATA\n",
    "metadata_idx = METADATA[CASE_ID]\n",
    "\n",
    "#for i in range(i0, 3): # TEST\n",
    "for i in range(i0, len(gto)):\n",
    "    clear_output(wait=True)\n",
    "    start_time = time.time()\n",
    "    print(\"Record: %d, started at %s...\"\n",
    "          %(i, time.strftime('%d/%m/%Y, %H:%M:%S', time.localtime(start_time))))\n",
    "    if median_lapse is None:\n",
    "        print(\"Previous median lapse time: %s\" %median_lapse)\n",
    "    else:\n",
    "        print(\"Previous median lapse time: %.2f seconds\" %median_lapse)\n",
    "    # Get metafeatures values:\n",
    "    metadata_values = list(gto.loc[i, metadata_idx])\n",
    "    if True: # TEST\n",
    "    #try:\n",
    "        print(\"PROCESSING STAR %s...\" %gto.loc[i, 'ID'])\n",
    "        # load RV file:\n",
    "        #rv = pd.read_csv(gto.loc[i, 'rv_file'], sep=' ', decimal='.',\n",
    "        #                 names=['time', 'rv', 'error_rv'])\n",
    "        print(\"Loading RV file...\")\n",
    "        rv = pd.read_csv(gto.loc[i, CASE_ID + '_file'], sep=' ', decimal='.',\n",
    "                         names=['time', 'rv', 'error_rv'])\n",
    "        # Limiting the number of points (if applicable):\n",
    "        if POINTS_LIMIT is None:\n",
    "            print(\"\\tNote: No limit - took all the %d points in the series.\" %len(rv))\n",
    "            pass\n",
    "        else:\n",
    "            print(\"\\tNote: Limitation - took only the first %d points in the series\" %POINTS_LIMIT)\n",
    "            rv = rv.head(n=POINTS_LIMIT)\n",
    "        # Create TimeSeries object:\n",
    "        print(\"Creating time series...\")\n",
    "        ts = TimeSeries(t=rv['time'], m=rv['rv'], e=rv['error_rv'])\n",
    "        # Featurize the time series:\n",
    "        print(\"Calculating cesium features...\")\n",
    "        cs = featurize_single_ts(ts, features_to_use=ALL_CS_FEATURES)\n",
    "        # Join metadata and features for the dataframe:\n",
    "        indices = metadata_idx + ['VALID_RECORD'] + list(cs.index.get_level_values('feature'))\n",
    "        values = metadata_values + [True] + list(cs.values)\n",
    "    #except Exception as e:\n",
    "    else: # TEST\n",
    "        # An exception was found, mark the record as invalid and set the features to 'nan':\n",
    "        print(\"***ERROR: some error happened in record %d, marking the record as invalid. Error: %s\" %(i, str(e)))\n",
    "        indices = metadata_idx + ['VALID_RECORD'] + ALL_CS_FEATURES\n",
    "        values = metadata_values + [False] + [np.nan] * 112\n",
    "    if df is None:\n",
    "        # Initialize DataFrame (with the first item):\n",
    "        df = pd.DataFrame(data=[values], columns=indices)\n",
    "    else:\n",
    "        # Create a new DataFrame (with the new item):\n",
    "        new_df = pd.DataFrame(data=[values], columns=indices)\n",
    "        # Append the new dataframe to the existing one:\n",
    "        df = df.append(new_df, ignore_index=True)\n",
    "    # UPDATE THE AVERAGE RECORD PROCESSING TIME:\n",
    "    lapse = time.time() - start_time\n",
    "    lapse_list.append(lapse)\n",
    "    median_lapse = np.nanmedian(lapse_list)\n",
    "    # Save the results:\n",
    "    df.to_csv(CS_FEATURES_FOLDER + OUT_DATASET_FILE, sep=',', decimal='.', index=False)\n",
    "\n",
    "print(\"--- FINISHED ---\")"
   ]
  },
  {
   "cell_type": "markdown",
   "metadata": {},
   "source": [
    "### Next steps are to be executed only if the cell execution is user-interrupted\n",
    "\n",
    "For example, if the user decided to interrupt the cell execution because it got stuck in some record, the next cells update the info for that record with an \"invalid record\" mark.\n",
    "\n",
    "Afterwards, the loop (previous cell) can be executed again and it will start from the record following the problematic one."
   ]
  },
  {
   "cell_type": "raw",
   "metadata": {
    "ExecuteTime": {
     "end_time": "2022-12-08T00:35:15.739301Z",
     "start_time": "2022-12-08T00:35:07.361Z"
    },
    "scrolled": true
   },
   "source": [
    "i"
   ]
  },
  {
   "cell_type": "raw",
   "metadata": {
    "ExecuteTime": {
     "end_time": "2022-12-08T00:35:15.740304Z",
     "start_time": "2022-12-08T00:35:07.362Z"
    }
   },
   "source": [
    "df.tail()"
   ]
  },
  {
   "cell_type": "raw",
   "metadata": {
    "ExecuteTime": {
     "end_time": "2022-12-08T00:35:15.741283Z",
     "start_time": "2022-12-08T00:35:07.363Z"
    }
   },
   "source": [
    "gto.loc[i]"
   ]
  },
  {
   "cell_type": "raw",
   "metadata": {
    "ExecuteTime": {
     "end_time": "2022-12-08T00:35:15.743277Z",
     "start_time": "2022-12-08T00:35:07.364Z"
    }
   },
   "source": [
    "# Update the wrong record:\n",
    "indices = metadata_idx + ['VALID_RECORD'] + ALL_CS_FEATURES\n",
    "values = metadata_values + [False] + [np.nan] * 112\n",
    "new_df = pd.DataFrame(data=[values], columns=indices)\n",
    "df = df.append(new_df, ignore_index=True)\n"
   ]
  },
  {
   "cell_type": "raw",
   "metadata": {
    "ExecuteTime": {
     "end_time": "2022-12-08T00:35:15.743277Z",
     "start_time": "2022-12-08T00:35:07.366Z"
    }
   },
   "source": [
    "df.tail()"
   ]
  },
  {
   "cell_type": "raw",
   "metadata": {
    "ExecuteTime": {
     "end_time": "2022-12-08T00:35:15.744274Z",
     "start_time": "2022-12-08T00:35:07.367Z"
    }
   },
   "source": [
    "# Save the results:\n",
    "df.to_csv(CS_FEATURES_FOLDER + OUT_DATASET_FILE, sep=',', decimal='.', index=False)\n"
   ]
  },
  {
   "cell_type": "raw",
   "metadata": {
    "ExecuteTime": {
     "end_time": "2022-12-08T00:35:15.745272Z",
     "start_time": "2022-12-08T00:35:07.368Z"
    }
   },
   "source": [
    "df.head()"
   ]
  },
  {
   "cell_type": "markdown",
   "metadata": {},
   "source": [
    "## Review the records with errors"
   ]
  },
  {
   "cell_type": "code",
   "execution_count": 24,
   "metadata": {
    "ExecuteTime": {
     "end_time": "2023-02-19T12:58:06.873581Z",
     "start_time": "2023-02-19T12:58:06.845545Z"
    }
   },
   "outputs": [
    {
     "data": {
      "text/html": [
       "<div>\n",
       "<style scoped>\n",
       "    .dataframe tbody tr th:only-of-type {\n",
       "        vertical-align: middle;\n",
       "    }\n",
       "\n",
       "    .dataframe tbody tr th {\n",
       "        vertical-align: top;\n",
       "    }\n",
       "\n",
       "    .dataframe thead th {\n",
       "        text-align: right;\n",
       "    }\n",
       "</style>\n",
       "<table border=\"1\" class=\"dataframe\">\n",
       "  <thead>\n",
       "    <tr style=\"text-align: right;\">\n",
       "      <th></th>\n",
       "      <th>ID</th>\n",
       "      <th>Pulsating</th>\n",
       "      <th>frequency</th>\n",
       "      <th>amplitudeRV</th>\n",
       "      <th>offsetRV</th>\n",
       "      <th>refepochRV</th>\n",
       "      <th>phase</th>\n",
       "      <th>CARMENES_source_idx</th>\n",
       "      <th>CARMENES_Ref_star</th>\n",
       "      <th>errorRV_dist_loc</th>\n",
       "      <th>...</th>\n",
       "      <th>freq_signif_ratio_31</th>\n",
       "      <th>freq_varrat</th>\n",
       "      <th>freq_y_offset</th>\n",
       "      <th>linear_trend</th>\n",
       "      <th>medperc90_2p_p</th>\n",
       "      <th>p2p_scatter_2praw</th>\n",
       "      <th>p2p_scatter_over_mad</th>\n",
       "      <th>p2p_scatter_pfold_over_mad</th>\n",
       "      <th>p2p_ssqr_diff_over_var</th>\n",
       "      <th>scatter_res_raw</th>\n",
       "    </tr>\n",
       "  </thead>\n",
       "  <tbody>\n",
       "  </tbody>\n",
       "</table>\n",
       "<p>0 rows × 134 columns</p>\n",
       "</div>"
      ],
      "text/plain": [
       "Empty DataFrame\n",
       "Columns: [ID, Pulsating, frequency, amplitudeRV, offsetRV, refepochRV, phase, CARMENES_source_idx, CARMENES_Ref_star, errorRV_dist_loc, errorRV_dist_scale, errorRV_mean, errorRV_median, errorRV_stdev, Tobs, Ps_mean, Ps_median, Ps_stdev, NumPoints, S4_file, S3_file, VALID_RECORD, all_times_nhist_numpeaks, all_times_nhist_peak1_bin, all_times_nhist_peak2_bin, all_times_nhist_peak3_bin, all_times_nhist_peak4_bin, all_times_nhist_peak_1_to_2, all_times_nhist_peak_1_to_3, all_times_nhist_peak_1_to_4, all_times_nhist_peak_2_to_3, all_times_nhist_peak_2_to_4, all_times_nhist_peak_3_to_4, all_times_nhist_peak_val, avg_double_to_single_step, avg_err, avgt, cad_probs_1, cad_probs_10, cad_probs_20, cad_probs_30, cad_probs_40, cad_probs_50, cad_probs_100, cad_probs_500, cad_probs_1000, cad_probs_5000, cad_probs_10000, cad_probs_50000, cad_probs_100000, cad_probs_500000, cad_probs_1000000, cad_probs_5000000, cad_probs_10000000, cads_avg, cads_med, cads_std, mean, med_double_to_single_step, med_err, n_epochs, std_double_to_single_step, std_err, total_time, amplitude, flux_percentile_ratio_mid20, flux_percentile_ratio_mid35, flux_percentile_ratio_mid50, flux_percentile_ratio_mid65, flux_percentile_ratio_mid80, max_slope, maximum, median, median_absolute_deviation, minimum, percent_amplitude, percent_beyond_1_std, percent_close_to_median, percent_difference_flux_percentile, period_fast, qso_log_chi2_qsonu, qso_log_chi2nuNULL_chi2nu, skew, std, stetson_j, stetson_k, weighted_average, fold2P_slope_10percentile, fold2P_slope_90percentile, freq1_amplitude1, freq1_amplitude2, freq1_amplitude3, freq1_amplitude4, freq1_freq, freq1_lambda, freq1_rel_phase2, freq1_rel_phase3, freq1_rel_phase4, freq1_signif, freq2_amplitude1, ...]\n",
       "Index: []\n",
       "\n",
       "[0 rows x 134 columns]"
      ]
     },
     "execution_count": 24,
     "metadata": {},
     "output_type": "execute_result"
    }
   ],
   "source": [
    "df[df['VALID_RECORD'] == False]"
   ]
  },
  {
   "cell_type": "code",
   "execution_count": 25,
   "metadata": {
    "ExecuteTime": {
     "end_time": "2023-02-19T12:58:07.343787Z",
     "start_time": "2023-02-19T12:58:07.331821Z"
    }
   },
   "outputs": [
    {
     "name": "stdout",
     "output_type": "stream",
     "text": [
      "[]\n"
     ]
    }
   ],
   "source": [
    "print(list(df.loc[df['VALID_RECORD'] == False, 'ID']))"
   ]
  },
  {
   "cell_type": "markdown",
   "metadata": {},
   "source": [
    "## Summary"
   ]
  },
  {
   "cell_type": "markdown",
   "metadata": {},
   "source": [
    "**CONCLUSIONS:**\n",
    "- Completed the `cesium` feature extraction for all the stars in the ML subsample (four runs of the notebook).\n",
    "- No one of this objects yielded any error during calculation."
   ]
  },
  {
   "cell_type": "code",
   "execution_count": null,
   "metadata": {},
   "outputs": [],
   "source": []
  }
 ],
 "metadata": {
  "kernelspec": {
   "display_name": "Python 3 (ipykernel)",
   "language": "python",
   "name": "python3"
  },
  "language_info": {
   "codemirror_mode": {
    "name": "ipython",
    "version": 3
   },
   "file_extension": ".py",
   "mimetype": "text/x-python",
   "name": "python",
   "nbconvert_exporter": "python",
   "pygments_lexer": "ipython3",
   "version": "3.8.8"
  },
  "latex_envs": {
   "LaTeX_envs_menu_present": true,
   "autoclose": false,
   "autocomplete": true,
   "bibliofile": "biblio.bib",
   "cite_by": "apalike",
   "current_citInitial": 1,
   "eqLabelWithNumbers": true,
   "eqNumInitial": 1,
   "hotkeys": {
    "equation": "Ctrl-E",
    "itemize": "Ctrl-I"
   },
   "labels_anchors": false,
   "latex_user_defs": false,
   "report_style_numbering": false,
   "user_envs_cfg": false
  },
  "toc": {
   "base_numbering": 1,
   "nav_menu": {},
   "number_sections": true,
   "sideBar": true,
   "skip_h1_title": true,
   "title_cell": "Tabla de contenidos",
   "title_sidebar": "Contenidos",
   "toc_cell": false,
   "toc_position": {
    "height": "calc(100% - 180px)",
    "left": "10px",
    "top": "150px",
    "width": "231.2px"
   },
   "toc_section_display": true,
   "toc_window_display": true
  }
 },
 "nbformat": 4,
 "nbformat_minor": 2
}
