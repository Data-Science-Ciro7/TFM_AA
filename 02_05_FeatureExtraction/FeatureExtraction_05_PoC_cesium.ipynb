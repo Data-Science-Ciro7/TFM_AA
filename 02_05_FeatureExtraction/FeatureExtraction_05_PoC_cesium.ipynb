{
 "cells": [
  {
   "cell_type": "markdown",
   "metadata": {},
   "source": [
    "# PoC - FEATURE EXTRACTION WITH `cesium`"
   ]
  },
  {
   "cell_type": "markdown",
   "metadata": {},
   "source": [
    "In this notebook we test the feature extraction with `cesium`, just to show how the process is done.\n",
    "\n",
    "We will use a few of the individual RV curves of _GTO_ objects from _Carmencita_ database.\n",
    "\n",
    "**IMPORTANT NOTE:** this code is probably not very efficient (for example, too many dataframe `append` operations, which is costly), but there is no special need at the moment to be more efficient. Maybe the solution is to create a 2D numpy array and then, at the end, create the DataFrame."
   ]
  },
  {
   "cell_type": "markdown",
   "metadata": {},
   "source": [
    "## Modules and configuration"
   ]
  },
  {
   "cell_type": "markdown",
   "metadata": {},
   "source": [
    "### Modules"
   ]
  },
  {
   "cell_type": "code",
   "execution_count": 1,
   "metadata": {
    "ExecuteTime": {
     "end_time": "2022-04-27T20:08:46.295198Z",
     "start_time": "2022-04-27T20:08:45.055528Z"
    }
   },
   "outputs": [],
   "source": [
    "# Module import:\n",
    "#import warnings\n",
    "\n",
    "import pandas as pd\n",
    "\n",
    "from cesium.data_management import TimeSeries\n",
    "from cesium.featurize import featurize_single_ts"
   ]
  },
  {
   "cell_type": "markdown",
   "metadata": {},
   "source": [
    "### Configuration"
   ]
  },
  {
   "cell_type": "code",
   "execution_count": 2,
   "metadata": {
    "ExecuteTime": {
     "end_time": "2022-04-27T20:08:46.311155Z",
     "start_time": "2022-04-27T20:08:46.296196Z"
    }
   },
   "outputs": [],
   "source": [
    "GTO_FILE = \"../data/SELECTION_GTO_objects_with_PG.csv\"\n",
    "RV_FOLDER = \"../data/CARMENES_GTO_RVs/\"\n",
    "\n",
    "SINTHETIC_FOLDER = \"../data/RV_DATASETS/\"\n",
    "SYNTHETIC_DB_FILE = \"RV_All_GTO_SyntheticDatasets.csv\"\n",
    "\n",
    "\n",
    "CS_FEATURES_FOLDER = \"../data/DATASETS_CESIUM/\"\n",
    "CS_FEATURES_FILE = \"TEST_RV_cesium_DS.csv\"\n",
    "\n",
    "IMAGE_FOLDER = \"./img/\"\n",
    "\n",
    "# A LIST OF ALL THE FEATURES CESIUM CAN EXTRACT (FOR REFERENCE PURPOSES)\n",
    "ALL_CS_FEATURES = ['all_times_nhist_numpeaks',\n",
    "                   'all_times_nhist_peak1_bin', 'all_times_nhist_peak2_bin', 'all_times_nhist_peak3_bin', 'all_times_nhist_peak4_bin',\n",
    "                   'all_times_nhist_peak_1_to_2', 'all_times_nhist_peak_1_to_3', 'all_times_nhist_peak_1_to_4',\n",
    "                   'all_times_nhist_peak_2_to_3', 'all_times_nhist_peak_2_to_4',\n",
    "                   'all_times_nhist_peak_3_to_4',\n",
    "                   'all_times_nhist_peak_val',\n",
    "                   'avg_double_to_single_step', 'avg_err', 'avgt',\n",
    "                   'cad_probs_1', 'cad_probs_10', 'cad_probs_20', 'cad_probs_30', 'cad_probs_40', 'cad_probs_50',\n",
    "                   'cad_probs_100', 'cad_probs_500', 'cad_probs_1000', 'cad_probs_5000',\n",
    "                   'cad_probs_10000', 'cad_probs_50000', 'cad_probs_100000', 'cad_probs_500000',\n",
    "                   'cad_probs_1000000', 'cad_probs_5000000', 'cad_probs_10000000',\n",
    "                   'cads_avg', 'cads_med', 'cads_std', 'mean',\n",
    "                   'med_double_to_single_step', 'med_err',\n",
    "                   'n_epochs', 'std_double_to_single_step', 'std_err',\n",
    "                   'total_time', 'amplitude',\n",
    "                   'flux_percentile_ratio_mid20', 'flux_percentile_ratio_mid35', 'flux_percentile_ratio_mid50',\n",
    "                   'flux_percentile_ratio_mid65', 'flux_percentile_ratio_mid80',\n",
    "                   'max_slope', 'maximum', 'median', 'median_absolute_deviation', 'minimum',\n",
    "                   'percent_amplitude', 'percent_beyond_1_std', 'percent_close_to_median', 'percent_difference_flux_percentile',\n",
    "                   'period_fast', 'qso_log_chi2_qsonu', 'qso_log_chi2nuNULL_chi2nu', 'skew', 'std',\n",
    "                   'stetson_j', 'stetson_k', 'weighted_average', 'fold2P_slope_10percentile', 'fold2P_slope_90percentile',\n",
    "                   'freq1_amplitude1', 'freq1_amplitude2', 'freq1_amplitude3', 'freq1_amplitude4',\n",
    "                   'freq1_freq', 'freq1_lambda', 'freq1_rel_phase2', 'freq1_rel_phase3', 'freq1_rel_phase4', 'freq1_signif',\n",
    "                   'freq2_amplitude1', 'freq2_amplitude2', 'freq2_amplitude3', 'freq2_amplitude4',\n",
    "                   'freq2_freq', 'freq2_rel_phase2', 'freq2_rel_phase3', 'freq2_rel_phase4',\n",
    "                   'freq3_amplitude1', 'freq3_amplitude2', 'freq3_amplitude3', 'freq3_amplitude4',\n",
    "                   'freq3_freq', 'freq3_rel_phase2', 'freq3_rel_phase3', 'freq3_rel_phase4',\n",
    "                   'freq_amplitude_ratio_21', 'freq_amplitude_ratio_31',\n",
    "                   'freq_frequency_ratio_21', 'freq_frequency_ratio_31',\n",
    "                   'freq_model_max_delta_mags', 'freq_model_min_delta_mags', 'freq_model_phi1_phi2',\n",
    "                   'freq_n_alias', 'freq_signif_ratio_21', 'freq_signif_ratio_31',\n",
    "                   'freq_varrat', 'freq_y_offset', 'linear_trend', 'medperc90_2p_p',\n",
    "                   'p2p_scatter_2praw', 'p2p_scatter_over_mad', 'p2p_scatter_pfold_over_mad', 'p2p_ssqr_diff_over_var',\n",
    "                   'scatter_res_raw']\n"
   ]
  },
  {
   "cell_type": "markdown",
   "metadata": {},
   "source": [
    "## Load GTO information table"
   ]
  },
  {
   "cell_type": "code",
   "execution_count": 3,
   "metadata": {
    "ExecuteTime": {
     "end_time": "2022-04-27T20:08:46.375020Z",
     "start_time": "2022-04-27T20:08:46.313151Z"
    }
   },
   "outputs": [
    {
     "data": {
      "text/html": [
       "<div>\n",
       "<style scoped>\n",
       "    .dataframe tbody tr th:only-of-type {\n",
       "        vertical-align: middle;\n",
       "    }\n",
       "\n",
       "    .dataframe tbody tr th {\n",
       "        vertical-align: top;\n",
       "    }\n",
       "\n",
       "    .dataframe thead th {\n",
       "        text-align: right;\n",
       "    }\n",
       "</style>\n",
       "<table border=\"1\" class=\"dataframe\">\n",
       "  <thead>\n",
       "    <tr style=\"text-align: right;\">\n",
       "      <th></th>\n",
       "      <th>Karmn</th>\n",
       "      <th>Name</th>\n",
       "      <th>Comp</th>\n",
       "      <th>GJ</th>\n",
       "      <th>RA_J2016_deg</th>\n",
       "      <th>DE_J2016_deg</th>\n",
       "      <th>RA_J2000</th>\n",
       "      <th>DE_J2000</th>\n",
       "      <th>l_J2016_deg</th>\n",
       "      <th>b_J2016_deg</th>\n",
       "      <th>...</th>\n",
       "      <th>T0_PG_TESS</th>\n",
       "      <th>e_T0_PG_TESS</th>\n",
       "      <th>offset_PG_TESS</th>\n",
       "      <th>e_offset_PG_TESS</th>\n",
       "      <th>FAP_PG_TESS</th>\n",
       "      <th>valid_PG_TESS</th>\n",
       "      <th>error_PG_TESS</th>\n",
       "      <th>elapsed_time_PG_TESS</th>\n",
       "      <th>fits_file_TESS</th>\n",
       "      <th>fig_file_TESS</th>\n",
       "    </tr>\n",
       "  </thead>\n",
       "  <tbody>\n",
       "    <tr>\n",
       "      <th>0</th>\n",
       "      <td>J23548+385</td>\n",
       "      <td>RX J2354.8+3831</td>\n",
       "      <td>-</td>\n",
       "      <td>NaN</td>\n",
       "      <td>358.713658</td>\n",
       "      <td>38.526340</td>\n",
       "      <td>23:54:51.46</td>\n",
       "      <td>+38:31:36.2</td>\n",
       "      <td>110.941908</td>\n",
       "      <td>-23.024449</td>\n",
       "      <td>...</td>\n",
       "      <td>1764.609498</td>\n",
       "      <td>0.010704</td>\n",
       "      <td>8262.219751</td>\n",
       "      <td>1.365667</td>\n",
       "      <td>1.000000</td>\n",
       "      <td>1.0</td>\n",
       "      <td>NaN</td>\n",
       "      <td>344.002685</td>\n",
       "      <td>../data/CARMENES_GTO_TESS_PGs/J23548+385_TESS_...</td>\n",
       "      <td>../data/CARMENES_GTO_TESS_PGs/figures/J23548+3...</td>\n",
       "    </tr>\n",
       "    <tr>\n",
       "      <th>1</th>\n",
       "      <td>J23505-095</td>\n",
       "      <td>LP 763-012</td>\n",
       "      <td>-</td>\n",
       "      <td>4367</td>\n",
       "      <td>357.634705</td>\n",
       "      <td>-9.560964</td>\n",
       "      <td>23:50:31.64</td>\n",
       "      <td>-09:33:32.7</td>\n",
       "      <td>80.777067</td>\n",
       "      <td>-67.303426</td>\n",
       "      <td>...</td>\n",
       "      <td>1354.108815</td>\n",
       "      <td>0.001261</td>\n",
       "      <td>7767.134654</td>\n",
       "      <td>0.094298</td>\n",
       "      <td>0.064148</td>\n",
       "      <td>1.0</td>\n",
       "      <td>NaN</td>\n",
       "      <td>473.533042</td>\n",
       "      <td>../data/CARMENES_GTO_TESS_PGs/J23505-095_TESS_...</td>\n",
       "      <td>../data/CARMENES_GTO_TESS_PGs/figures/J23505-0...</td>\n",
       "    </tr>\n",
       "    <tr>\n",
       "      <th>2</th>\n",
       "      <td>J23431+365</td>\n",
       "      <td>GJ 1289</td>\n",
       "      <td>-</td>\n",
       "      <td>1289</td>\n",
       "      <td>355.781509</td>\n",
       "      <td>36.536310</td>\n",
       "      <td>23:43:06.31</td>\n",
       "      <td>+36:32:13.1</td>\n",
       "      <td>107.922839</td>\n",
       "      <td>-24.336479</td>\n",
       "      <td>...</td>\n",
       "      <td>1764.717539</td>\n",
       "      <td>0.003720</td>\n",
       "      <td>16158.288258</td>\n",
       "      <td>0.164698</td>\n",
       "      <td>0.002785</td>\n",
       "      <td>1.0</td>\n",
       "      <td>NaN</td>\n",
       "      <td>352.262793</td>\n",
       "      <td>../data/CARMENES_GTO_TESS_PGs/J23431+365_TESS_...</td>\n",
       "      <td>../data/CARMENES_GTO_TESS_PGs/figures/J23431+3...</td>\n",
       "    </tr>\n",
       "    <tr>\n",
       "      <th>3</th>\n",
       "      <td>J23381-162</td>\n",
       "      <td>G 273-093</td>\n",
       "      <td>-</td>\n",
       "      <td>4352</td>\n",
       "      <td>354.532687</td>\n",
       "      <td>-16.236514</td>\n",
       "      <td>23:38:08.16</td>\n",
       "      <td>-16:14:10.2</td>\n",
       "      <td>61.845437</td>\n",
       "      <td>-69.825220</td>\n",
       "      <td>...</td>\n",
       "      <td>1354.111098</td>\n",
       "      <td>0.000422</td>\n",
       "      <td>30353.147900</td>\n",
       "      <td>0.175123</td>\n",
       "      <td>0.031223</td>\n",
       "      <td>1.0</td>\n",
       "      <td>NaN</td>\n",
       "      <td>485.008036</td>\n",
       "      <td>../data/CARMENES_GTO_TESS_PGs/J23381-162_TESS_...</td>\n",
       "      <td>../data/CARMENES_GTO_TESS_PGs/figures/J23381-1...</td>\n",
       "    </tr>\n",
       "    <tr>\n",
       "      <th>4</th>\n",
       "      <td>J23245+578</td>\n",
       "      <td>BD+57 2735</td>\n",
       "      <td>-</td>\n",
       "      <td>895</td>\n",
       "      <td>351.126628</td>\n",
       "      <td>57.853057</td>\n",
       "      <td>23:24:30.51</td>\n",
       "      <td>+57:51:15.5</td>\n",
       "      <td>111.552287</td>\n",
       "      <td>-3.085183</td>\n",
       "      <td>...</td>\n",
       "      <td>1955.800582</td>\n",
       "      <td>0.001420</td>\n",
       "      <td>84823.865767</td>\n",
       "      <td>0.391298</td>\n",
       "      <td>0.799167</td>\n",
       "      <td>1.0</td>\n",
       "      <td>NaN</td>\n",
       "      <td>476.798646</td>\n",
       "      <td>../data/CARMENES_GTO_TESS_PGs/J23245+578_TESS_...</td>\n",
       "      <td>../data/CARMENES_GTO_TESS_PGs/figures/J23245+5...</td>\n",
       "    </tr>\n",
       "  </tbody>\n",
       "</table>\n",
       "<p>5 rows × 248 columns</p>\n",
       "</div>"
      ],
      "text/plain": [
       "        Karmn             Name Comp    GJ  RA_J2016_deg  DE_J2016_deg  \\\n",
       "0  J23548+385  RX J2354.8+3831    -   NaN    358.713658     38.526340   \n",
       "1  J23505-095       LP 763-012    -  4367    357.634705     -9.560964   \n",
       "2  J23431+365          GJ 1289    -  1289    355.781509     36.536310   \n",
       "3  J23381-162        G 273-093    -  4352    354.532687    -16.236514   \n",
       "4  J23245+578       BD+57 2735    -   895    351.126628     57.853057   \n",
       "\n",
       "      RA_J2000     DE_J2000  l_J2016_deg  b_J2016_deg  ...   T0_PG_TESS  \\\n",
       "0  23:54:51.46  +38:31:36.2   110.941908   -23.024449  ...  1764.609498   \n",
       "1  23:50:31.64  -09:33:32.7    80.777067   -67.303426  ...  1354.108815   \n",
       "2  23:43:06.31  +36:32:13.1   107.922839   -24.336479  ...  1764.717539   \n",
       "3  23:38:08.16  -16:14:10.2    61.845437   -69.825220  ...  1354.111098   \n",
       "4  23:24:30.51  +57:51:15.5   111.552287    -3.085183  ...  1955.800582   \n",
       "\n",
       "  e_T0_PG_TESS  offset_PG_TESS e_offset_PG_TESS  FAP_PG_TESS  valid_PG_TESS  \\\n",
       "0     0.010704     8262.219751         1.365667     1.000000            1.0   \n",
       "1     0.001261     7767.134654         0.094298     0.064148            1.0   \n",
       "2     0.003720    16158.288258         0.164698     0.002785            1.0   \n",
       "3     0.000422    30353.147900         0.175123     0.031223            1.0   \n",
       "4     0.001420    84823.865767         0.391298     0.799167            1.0   \n",
       "\n",
       "   error_PG_TESS  elapsed_time_PG_TESS  \\\n",
       "0            NaN            344.002685   \n",
       "1            NaN            473.533042   \n",
       "2            NaN            352.262793   \n",
       "3            NaN            485.008036   \n",
       "4            NaN            476.798646   \n",
       "\n",
       "                                      fits_file_TESS  \\\n",
       "0  ../data/CARMENES_GTO_TESS_PGs/J23548+385_TESS_...   \n",
       "1  ../data/CARMENES_GTO_TESS_PGs/J23505-095_TESS_...   \n",
       "2  ../data/CARMENES_GTO_TESS_PGs/J23431+365_TESS_...   \n",
       "3  ../data/CARMENES_GTO_TESS_PGs/J23381-162_TESS_...   \n",
       "4  ../data/CARMENES_GTO_TESS_PGs/J23245+578_TESS_...   \n",
       "\n",
       "                                       fig_file_TESS  \n",
       "0  ../data/CARMENES_GTO_TESS_PGs/figures/J23548+3...  \n",
       "1  ../data/CARMENES_GTO_TESS_PGs/figures/J23505-0...  \n",
       "2  ../data/CARMENES_GTO_TESS_PGs/figures/J23431+3...  \n",
       "3  ../data/CARMENES_GTO_TESS_PGs/figures/J23381-1...  \n",
       "4  ../data/CARMENES_GTO_TESS_PGs/figures/J23245+5...  \n",
       "\n",
       "[5 rows x 248 columns]"
      ]
     },
     "execution_count": 3,
     "metadata": {},
     "output_type": "execute_result"
    }
   ],
   "source": [
    "gto = pd.read_csv(GTO_FILE, sep=',', decimal='.')\n",
    "gto.head()"
   ]
  },
  {
   "cell_type": "code",
   "execution_count": 4,
   "metadata": {
    "ExecuteTime": {
     "end_time": "2022-04-27T20:08:46.390974Z",
     "start_time": "2022-04-27T20:08:46.376980Z"
    }
   },
   "outputs": [
    {
     "name": "stdout",
     "output_type": "stream",
     "text": [
      "['Karmn', 'Name', 'Comp', 'GJ', 'RA_J2016_deg', 'DE_J2016_deg', 'RA_J2000', 'DE_J2000', 'l_J2016_deg', 'b_J2016_deg', 'Ref01', 'SpT', 'SpTnum', 'Ref02', 'Teff_K', 'eTeff_K', 'logg', 'elogg', '[Fe/H]', 'e[Fe/H]', 'Ref03', 'L_Lsol', 'eL_Lsol', 'Ref04', 'R_Rsol', 'eR_Rsol', 'Ref05', 'M_Msol', 'eM_Msol', 'Ref06', 'muRA_masa-1', 'emuRA_masa-1', 'muDE_masa-1', 'emuDE_masa-1', 'Ref07', 'pi_mas', 'epi_mas', 'Ref08', 'd_pc', 'ed_pc', 'Ref09', 'Vr_kms-1', 'eVr_kms-1', 'Ref10', 'ruwe', 'Ref11', 'U_kms-1', 'eU_kms-1', 'V_kms-1', 'eV_kms-1', 'W_kms-1', 'eW_kms-1', 'Ref12', 'sa_m/s/a', 'esa_m/s/a', 'Ref13', 'SKG', 'Ref14', 'SKG_lit', 'Ref14_lit', 'Pop', 'Ref15', 'vsini_flag', 'vsini_kms-1', 'evsini_kms-1', 'Ref16', 'P_d', 'eP_d', 'Ref17', 'pEWHalpha_A', 'epEWHalpha_A', 'Ref18', 'log(LHalpha/Lbol)', 'elog(LHalpha/Lbol)', 'Ref19', '1RXS', 'CRT_s-1', 'eCRT_s-1', 'HR1', 'eHR1', 'HR2', 'eHR2', 'Flux_X_E-13_ergcm-2s-1', 'eFlux_X_E-13_ergcm-2s-1', 'LX/LJ', 'eLX/LJ', 'Ref20', 'Activity', 'Ref21', 'FUV_mag', 'eFUV_mag', 'NUV_mag', 'eNUV_mag', 'Ref22', 'u_mag', 'eu_mag', 'Ref23', 'BT_mag', 'eBT_mag', 'Ref24', 'B_mag', 'eB_mag', 'Ref25', 'BP_mag', 'eBP_mag', 'Ref26', 'g_mag', 'eg_mag', 'Ref27', 'VT_mag', 'eVT_mag', 'Ref28', 'V_mag', 'eV_mag', 'Ref29', 'Ra_mag', 'Ref30', 'r_mag', 'er_mag', 'Ref31', 'GG_mag', 'eGG_mag', 'Ref32', 'i_mag', 'ei_mag', 'Ref33', 'RP_mag', 'eRP_mag', 'Ref34', 'IN_mag', 'Ref35', 'J_mag', 'eJ_mag', 'H_mag', 'eH_mag', 'Ks_mag', 'eKs_mag', 'QFlag_2M', 'Ref36', 'W1_mag', 'eW1_mag', 'W2_mag', 'eW2_mag', 'W3_mag', 'eW3_mag', 'W4_mag', 'eW4_mag', 'QFlag_WISE', 'Ref37', 'Multiplicity', 'WideWDS', 'Widerho_arcsec', 'eWiderho_arcsec', 'Ref38', 'WideCompanionName', 'WideCompanionSpT', 'CloseWDS', 'Closerho_arcsec', 'eCloserho_arcsec', 'Ref39', 'CloseCompanionSpT', 'RV', 'Planet', 'Ref40', 'PlanetNum', 'LoRes_spectrum', 'HiRes_spectrum', 'LoRes_imaging', 'HiRes_imaging', 'Class', 'Survey', 'Notes', 'Gaia_id_1', '2MASS_id', 'TIC_id', 'Teff_min_K', 'Teff_max_K', 'logg_min', 'logg_max', 'is_GTO', 'rv_file', 'lc_file', 'has_rv', 'has_lc', 'InstBand_nominal', 'InstBand_ranged', 'n_RV', 'Ps_RV', 'fs_RV', 'wmean_RV', 'wrms_RV', 'info_PG_RV', 'maxP_PG_RV', 'maxSNR_PG_RV', 'rms_PG_RV', 'f_PG_RV', 'e_f_PG_RV', 'Pd_PG_RV', 'e_Pd_PG_RV', 'Ph_PG_RV', 'e_Ph_PG_RV', 'Pm_PG_RV', 'e_Pm_PG_RV', 'A_PG_RV', 'e_A_PG_RV', 'ph_PG_RV', 'e_ph_PG_RV', 'T0_PG_RV', 'e_T0_PG_RV', 'offset_PG_RV', 'e_offset_PG_RV', 'FAP_PG_RV', 'valid_PG_RV', 'error_PG_RV', 'elapsed_time_PG_RV', 'fits_file_RV', 'fig_file_RV', 'n_TESS', 'Ps_TESS', 'fs_TESS', 'wmean_TESS', 'wrms_TESS', 'info_PG_TESS', 'maxP_PG_TESS', 'maxSNR_PG_TESS', 'rms_PG_TESS', 'f_PG_TESS', 'e_f_PG_TESS', 'Pd_PG_TESS', 'e_Pd_PG_TESS', 'Ph_PG_TESS', 'e_Ph_PG_TESS', 'Pm_PG_TESS', 'e_Pm_PG_TESS', 'A_PG_TESS', 'e_A_PG_TESS', 'ph_PG_TESS', 'e_ph_PG_TESS', 'T0_PG_TESS', 'e_T0_PG_TESS', 'offset_PG_TESS', 'e_offset_PG_TESS', 'FAP_PG_TESS', 'valid_PG_TESS', 'error_PG_TESS', 'elapsed_time_PG_TESS', 'fits_file_TESS', 'fig_file_TESS']\n"
     ]
    }
   ],
   "source": [
    "print(list(gto.columns))"
   ]
  },
  {
   "cell_type": "markdown",
   "metadata": {},
   "source": [
    "## Feature extraction with `cesium` for a real RV curve"
   ]
  },
  {
   "cell_type": "markdown",
   "metadata": {},
   "source": [
    "Let's test now the feature extraction with `cesium` library.\n",
    "\n",
    "We will work with a single time series for each sample, so `cesium`multichannel feature will not be needed.\n",
    "\n",
    "At the moment, metafeatures will only include the star ID: it will be `Karmn` ID in the real data and the synthetic dataset star ID (\"RV-<i>\"), and one of the other parameters (any one will do)."
   ]
  },
  {
   "cell_type": "markdown",
   "metadata": {},
   "source": [
    "### First element"
   ]
  },
  {
   "cell_type": "code",
   "execution_count": 5,
   "metadata": {
    "ExecuteTime": {
     "end_time": "2022-04-27T20:08:47.416737Z",
     "start_time": "2022-04-27T20:08:47.412776Z"
    }
   },
   "outputs": [],
   "source": [
    "rv_idx = 0"
   ]
  },
  {
   "cell_type": "code",
   "execution_count": 6,
   "metadata": {
    "ExecuteTime": {
     "end_time": "2022-04-27T20:08:47.748849Z",
     "start_time": "2022-04-27T20:08:47.731909Z"
    }
   },
   "outputs": [
    {
     "data": {
      "text/html": [
       "<div>\n",
       "<style scoped>\n",
       "    .dataframe tbody tr th:only-of-type {\n",
       "        vertical-align: middle;\n",
       "    }\n",
       "\n",
       "    .dataframe tbody tr th {\n",
       "        vertical-align: top;\n",
       "    }\n",
       "\n",
       "    .dataframe thead th {\n",
       "        text-align: right;\n",
       "    }\n",
       "</style>\n",
       "<table border=\"1\" class=\"dataframe\">\n",
       "  <thead>\n",
       "    <tr style=\"text-align: right;\">\n",
       "      <th></th>\n",
       "      <th>time</th>\n",
       "      <th>rv</th>\n",
       "      <th>error_rv</th>\n",
       "    </tr>\n",
       "  </thead>\n",
       "  <tbody>\n",
       "    <tr>\n",
       "      <th>0</th>\n",
       "      <td>2.457593e+06</td>\n",
       "      <td>-32.995890</td>\n",
       "      <td>2.712948</td>\n",
       "    </tr>\n",
       "    <tr>\n",
       "      <th>1</th>\n",
       "      <td>2.457604e+06</td>\n",
       "      <td>6.867186</td>\n",
       "      <td>4.044076</td>\n",
       "    </tr>\n",
       "    <tr>\n",
       "      <th>2</th>\n",
       "      <td>2.457623e+06</td>\n",
       "      <td>65.265606</td>\n",
       "      <td>5.040799</td>\n",
       "    </tr>\n",
       "    <tr>\n",
       "      <th>3</th>\n",
       "      <td>2.457644e+06</td>\n",
       "      <td>1.339671</td>\n",
       "      <td>3.315438</td>\n",
       "    </tr>\n",
       "    <tr>\n",
       "      <th>4</th>\n",
       "      <td>2.457650e+06</td>\n",
       "      <td>-41.292629</td>\n",
       "      <td>2.576929</td>\n",
       "    </tr>\n",
       "  </tbody>\n",
       "</table>\n",
       "</div>"
      ],
      "text/plain": [
       "           time         rv  error_rv\n",
       "0  2.457593e+06 -32.995890  2.712948\n",
       "1  2.457604e+06   6.867186  4.044076\n",
       "2  2.457623e+06  65.265606  5.040799\n",
       "3  2.457644e+06   1.339671  3.315438\n",
       "4  2.457650e+06 -41.292629  2.576929"
      ]
     },
     "execution_count": 6,
     "metadata": {},
     "output_type": "execute_result"
    }
   ],
   "source": [
    "rv = pd.read_csv(gto.loc[rv_idx, 'rv_file'], sep=' ', decimal='.', names=['time', 'rv', 'error_rv'])\n",
    "rv.head()"
   ]
  },
  {
   "cell_type": "markdown",
   "metadata": {},
   "source": [
    "We first need to create the `TimeSeries` object as per `cesium` format, with two example metafeatures (not sure how this metadata are managed in this case, we have had to add them \"manually\" to the final features record):"
   ]
  },
  {
   "cell_type": "code",
   "execution_count": 7,
   "metadata": {
    "ExecuteTime": {
     "end_time": "2022-04-27T20:08:49.017457Z",
     "start_time": "2022-04-27T20:08:49.005500Z"
    }
   },
   "outputs": [
    {
     "data": {
      "text/plain": [
       "<cesium.time_series.TimeSeries at 0x1e47226d190>"
      ]
     },
     "execution_count": 7,
     "metadata": {},
     "output_type": "execute_result"
    }
   ],
   "source": [
    "ts_object = TimeSeries(t=rv['time'], m=rv['rv'], e=rv['error_rv'], label=gto.loc[rv_idx, 'Name'],\n",
    "                       meta_features={'Karmn': gto.loc[rv_idx, 'Karmn'], 'Teff_K': gto.loc[rv_idx, 'Teff_K']})\n",
    "ts_object"
   ]
  },
  {
   "cell_type": "code",
   "execution_count": 8,
   "metadata": {
    "ExecuteTime": {
     "end_time": "2022-04-27T20:08:49.265814Z",
     "start_time": "2022-04-27T20:08:49.203959Z"
    }
   },
   "outputs": [
    {
     "data": {
      "text/plain": [
       "feature                     channel\n",
       "all_times_nhist_numpeaks    0          15.000000\n",
       "all_times_nhist_peak1_bin   0          13.000000\n",
       "all_times_nhist_peak2_bin   0          16.000000\n",
       "all_times_nhist_peak3_bin   0          23.000000\n",
       "all_times_nhist_peak4_bin   0          30.000000\n",
       "                                         ...    \n",
       "p2p_scatter_2praw           0           1.077280\n",
       "p2p_scatter_over_mad        0           1.567387\n",
       "p2p_scatter_pfold_over_mad  0           1.073014\n",
       "p2p_ssqr_diff_over_var      0           1.917366\n",
       "scatter_res_raw             0           0.169913\n",
       "Length: 112, dtype: float64"
      ]
     },
     "execution_count": 8,
     "metadata": {},
     "output_type": "execute_result"
    }
   ],
   "source": [
    "cs_rv_real = featurize_single_ts(ts_object,\n",
    "                                 features_to_use=ALL_CS_FEATURES)\n",
    "cs_rv_real"
   ]
  },
  {
   "cell_type": "raw",
   "metadata": {
    "ExecuteTime": {
     "end_time": "2022-04-27T15:40:12.513086Z",
     "start_time": "2022-04-27T15:40:12.496096Z"
    }
   },
   "source": [
    "ts_object.meta_features # NOT USABLE IN 'featurize_single_ts'?"
   ]
  },
  {
   "cell_type": "code",
   "execution_count": 9,
   "metadata": {
    "ExecuteTime": {
     "end_time": "2022-04-27T20:08:49.542086Z",
     "start_time": "2022-04-27T20:08:49.524102Z"
    }
   },
   "outputs": [
    {
     "data": {
      "text/plain": [
       "['Karmn', 'Teff_K']"
      ]
     },
     "execution_count": 9,
     "metadata": {},
     "output_type": "execute_result"
    }
   ],
   "source": [
    "metadata_real_idx = ['Karmn', 'Teff_K']\n",
    "metadata_real_idx"
   ]
  },
  {
   "cell_type": "code",
   "execution_count": 10,
   "metadata": {
    "ExecuteTime": {
     "end_time": "2022-04-27T20:08:50.631181Z",
     "start_time": "2022-04-27T20:08:50.612232Z"
    }
   },
   "outputs": [
    {
     "data": {
      "text/plain": [
       "['J23548+385', 3263.0]"
      ]
     },
     "execution_count": 10,
     "metadata": {},
     "output_type": "execute_result"
    }
   ],
   "source": [
    "metadata_real_values = list(gto.loc[rv_idx, metadata_real_idx])\n",
    "metadata_real_values"
   ]
  },
  {
   "cell_type": "code",
   "execution_count": 11,
   "metadata": {
    "ExecuteTime": {
     "end_time": "2022-04-27T20:08:50.883507Z",
     "start_time": "2022-04-27T20:08:50.875529Z"
    }
   },
   "outputs": [
    {
     "data": {
      "text/plain": [
       "pandas.core.series.Series"
      ]
     },
     "execution_count": 11,
     "metadata": {},
     "output_type": "execute_result"
    }
   ],
   "source": [
    "type(cs_rv_real)"
   ]
  },
  {
   "cell_type": "code",
   "execution_count": 12,
   "metadata": {
    "ExecuteTime": {
     "end_time": "2022-04-27T20:08:51.167747Z",
     "start_time": "2022-04-27T20:08:51.155781Z"
    }
   },
   "outputs": [
    {
     "data": {
      "text/plain": [
       "array([ 1.50000000e+01,  1.30000000e+01,  1.60000000e+01,  2.30000000e+01,\n",
       "        3.00000000e+01,  1.00000000e+00,  1.00000000e+00,  1.00000000e+00,\n",
       "        1.00000000e+00,  1.00000000e+00,  1.00000000e+00,  1.88875396e-02,\n",
       "        1.44548128e+00,  3.04445125e+00,  2.45768080e+06,  0.00000000e+00,\n",
       "        0.00000000e+00,  0.00000000e+00,  0.00000000e+00,  0.00000000e+00,\n",
       "        0.00000000e+00,  0.00000000e+00,  0.00000000e+00,  0.00000000e+00,\n",
       "        8.33333333e-02,  1.66666667e-01,  1.00000000e+00,  1.00000000e+00,\n",
       "        1.00000000e+00,  1.00000000e+00,  1.00000000e+00,  1.00000000e+00,\n",
       "        1.41412817e+01,  1.39400150e+01,  7.53370321e+00, -1.09917488e+01,\n",
       "        2.88841069e+00,  2.71294826e+00,  1.30000000e+01,  7.23753469e+00,\n",
       "        8.87987383e-01,  1.69695380e+02,  6.92130139e+01,  3.27419058e-17,\n",
       "        1.68022081e-16,  2.14845982e-16,  4.02799125e-13,  1.56674462e-09,\n",
       "        1.99072146e+01,  6.52656057e+01, -6.22750513e+00,  2.64673326e+01,\n",
       "       -7.31604222e+01,  5.93153143e+26,  3.07692308e-01,  3.07692308e-01,\n",
       "        2.37261258e+26,  1.48594904e+02,  4.76160567e+00,  4.61005243e-01,\n",
       "        3.90684303e-01,  3.59833977e+01,  3.00546520e+02,  9.97149340e-01,\n",
       "       -1.83638638e+01,             nan,             nan,  1.61474886e+01,\n",
       "        9.00840404e-01,  5.74409275e-02,  4.47747385e-02,  1.10657108e+01,\n",
       "        7.69230769e-02, -8.50339095e-01, -1.73637794e-01,  1.62151308e+00,\n",
       "        2.07363020e+00,  9.48266786e+00,  7.63456402e-01,  6.86110678e-02,\n",
       "        1.25489670e-02,  2.65181056e-01,  1.09406575e+00,  2.80041695e+00,\n",
       "        3.09484460e+00,  7.67221405e+00,  3.16950278e-01,  8.36546617e-02,\n",
       "        2.75532875e-02,  1.32107309e+01, -8.16761031e-01, -2.50681706e+00,\n",
       "       -2.12075142e+00,  5.87253418e-01,  4.75133580e-01,  2.39642134e-02,\n",
       "        1.19384386e+00,  1.97101192e-07,  9.99146650e-08,  3.34100104e-01,\n",
       "        0.00000000e+00,  9.87816238e-01,  9.48788630e-01,  3.43260295e-01,\n",
       "       -2.14918807e+00, -5.40852800e-02,             nan,  1.07728029e+00,\n",
       "        1.56738679e+00,  1.07301425e+00,  1.91736637e+00,  1.69913134e-01])"
      ]
     },
     "execution_count": 12,
     "metadata": {},
     "output_type": "execute_result"
    }
   ],
   "source": [
    "cs_rv_real.values"
   ]
  },
  {
   "cell_type": "code",
   "execution_count": 13,
   "metadata": {
    "ExecuteTime": {
     "end_time": "2022-04-27T20:08:51.684366Z",
     "start_time": "2022-04-27T20:08:51.676388Z"
    }
   },
   "outputs": [
    {
     "name": "stdout",
     "output_type": "stream",
     "text": [
      "['all_times_nhist_numpeaks', 'all_times_nhist_peak1_bin', 'all_times_nhist_peak2_bin', 'all_times_nhist_peak3_bin', 'all_times_nhist_peak4_bin', 'all_times_nhist_peak_1_to_2', 'all_times_nhist_peak_1_to_3', 'all_times_nhist_peak_1_to_4', 'all_times_nhist_peak_2_to_3', 'all_times_nhist_peak_2_to_4', 'all_times_nhist_peak_3_to_4', 'all_times_nhist_peak_val', 'avg_double_to_single_step', 'avg_err', 'avgt', 'cad_probs_1', 'cad_probs_10', 'cad_probs_20', 'cad_probs_30', 'cad_probs_40', 'cad_probs_50', 'cad_probs_100', 'cad_probs_500', 'cad_probs_1000', 'cad_probs_5000', 'cad_probs_10000', 'cad_probs_50000', 'cad_probs_100000', 'cad_probs_500000', 'cad_probs_1000000', 'cad_probs_5000000', 'cad_probs_10000000', 'cads_avg', 'cads_med', 'cads_std', 'mean', 'med_double_to_single_step', 'med_err', 'n_epochs', 'std_double_to_single_step', 'std_err', 'total_time', 'amplitude', 'flux_percentile_ratio_mid20', 'flux_percentile_ratio_mid35', 'flux_percentile_ratio_mid50', 'flux_percentile_ratio_mid65', 'flux_percentile_ratio_mid80', 'max_slope', 'maximum', 'median', 'median_absolute_deviation', 'minimum', 'percent_amplitude', 'percent_beyond_1_std', 'percent_close_to_median', 'percent_difference_flux_percentile', 'period_fast', 'qso_log_chi2_qsonu', 'qso_log_chi2nuNULL_chi2nu', 'skew', 'std', 'stetson_j', 'stetson_k', 'weighted_average', 'fold2P_slope_10percentile', 'fold2P_slope_90percentile', 'freq1_amplitude1', 'freq1_amplitude2', 'freq1_amplitude3', 'freq1_amplitude4', 'freq1_freq', 'freq1_lambda', 'freq1_rel_phase2', 'freq1_rel_phase3', 'freq1_rel_phase4', 'freq1_signif', 'freq2_amplitude1', 'freq2_amplitude2', 'freq2_amplitude3', 'freq2_amplitude4', 'freq2_freq', 'freq2_rel_phase2', 'freq2_rel_phase3', 'freq2_rel_phase4', 'freq3_amplitude1', 'freq3_amplitude2', 'freq3_amplitude3', 'freq3_amplitude4', 'freq3_freq', 'freq3_rel_phase2', 'freq3_rel_phase3', 'freq3_rel_phase4', 'freq_amplitude_ratio_21', 'freq_amplitude_ratio_31', 'freq_frequency_ratio_21', 'freq_frequency_ratio_31', 'freq_model_max_delta_mags', 'freq_model_min_delta_mags', 'freq_model_phi1_phi2', 'freq_n_alias', 'freq_signif_ratio_21', 'freq_signif_ratio_31', 'freq_varrat', 'freq_y_offset', 'linear_trend', 'medperc90_2p_p', 'p2p_scatter_2praw', 'p2p_scatter_over_mad', 'p2p_scatter_pfold_over_mad', 'p2p_ssqr_diff_over_var', 'scatter_res_raw']\n"
     ]
    }
   ],
   "source": [
    "print(list(cs_rv_real.index.get_level_values('feature')))"
   ]
  },
  {
   "cell_type": "markdown",
   "metadata": {},
   "source": [
    "We then combine metadata with `cesium` features to create a DataFrame record."
   ]
  },
  {
   "cell_type": "code",
   "execution_count": 14,
   "metadata": {
    "ExecuteTime": {
     "end_time": "2022-04-27T20:08:52.945233Z",
     "start_time": "2022-04-27T20:08:52.932268Z"
    },
    "scrolled": true
   },
   "outputs": [
    {
     "name": "stdout",
     "output_type": "stream",
     "text": [
      "['Karmn', 'Teff_K', 'all_times_nhist_numpeaks', 'all_times_nhist_peak1_bin', 'all_times_nhist_peak2_bin', 'all_times_nhist_peak3_bin', 'all_times_nhist_peak4_bin', 'all_times_nhist_peak_1_to_2', 'all_times_nhist_peak_1_to_3', 'all_times_nhist_peak_1_to_4', 'all_times_nhist_peak_2_to_3', 'all_times_nhist_peak_2_to_4', 'all_times_nhist_peak_3_to_4', 'all_times_nhist_peak_val', 'avg_double_to_single_step', 'avg_err', 'avgt', 'cad_probs_1', 'cad_probs_10', 'cad_probs_20', 'cad_probs_30', 'cad_probs_40', 'cad_probs_50', 'cad_probs_100', 'cad_probs_500', 'cad_probs_1000', 'cad_probs_5000', 'cad_probs_10000', 'cad_probs_50000', 'cad_probs_100000', 'cad_probs_500000', 'cad_probs_1000000', 'cad_probs_5000000', 'cad_probs_10000000', 'cads_avg', 'cads_med', 'cads_std', 'mean', 'med_double_to_single_step', 'med_err', 'n_epochs', 'std_double_to_single_step', 'std_err', 'total_time', 'amplitude', 'flux_percentile_ratio_mid20', 'flux_percentile_ratio_mid35', 'flux_percentile_ratio_mid50', 'flux_percentile_ratio_mid65', 'flux_percentile_ratio_mid80', 'max_slope', 'maximum', 'median', 'median_absolute_deviation', 'minimum', 'percent_amplitude', 'percent_beyond_1_std', 'percent_close_to_median', 'percent_difference_flux_percentile', 'period_fast', 'qso_log_chi2_qsonu', 'qso_log_chi2nuNULL_chi2nu', 'skew', 'std', 'stetson_j', 'stetson_k', 'weighted_average', 'fold2P_slope_10percentile', 'fold2P_slope_90percentile', 'freq1_amplitude1', 'freq1_amplitude2', 'freq1_amplitude3', 'freq1_amplitude4', 'freq1_freq', 'freq1_lambda', 'freq1_rel_phase2', 'freq1_rel_phase3', 'freq1_rel_phase4', 'freq1_signif', 'freq2_amplitude1', 'freq2_amplitude2', 'freq2_amplitude3', 'freq2_amplitude4', 'freq2_freq', 'freq2_rel_phase2', 'freq2_rel_phase3', 'freq2_rel_phase4', 'freq3_amplitude1', 'freq3_amplitude2', 'freq3_amplitude3', 'freq3_amplitude4', 'freq3_freq', 'freq3_rel_phase2', 'freq3_rel_phase3', 'freq3_rel_phase4', 'freq_amplitude_ratio_21', 'freq_amplitude_ratio_31', 'freq_frequency_ratio_21', 'freq_frequency_ratio_31', 'freq_model_max_delta_mags', 'freq_model_min_delta_mags', 'freq_model_phi1_phi2', 'freq_n_alias', 'freq_signif_ratio_21', 'freq_signif_ratio_31', 'freq_varrat', 'freq_y_offset', 'linear_trend', 'medperc90_2p_p', 'p2p_scatter_2praw', 'p2p_scatter_over_mad', 'p2p_scatter_pfold_over_mad', 'p2p_ssqr_diff_over_var', 'scatter_res_raw']\n"
     ]
    }
   ],
   "source": [
    "indices = metadata_real_idx + list(cs_rv_real.index.get_level_values('feature'))\n",
    "print(indices)"
   ]
  },
  {
   "cell_type": "code",
   "execution_count": 15,
   "metadata": {
    "ExecuteTime": {
     "end_time": "2022-04-27T20:08:53.335189Z",
     "start_time": "2022-04-27T20:08:53.332198Z"
    }
   },
   "outputs": [
    {
     "name": "stdout",
     "output_type": "stream",
     "text": [
      "['J23548+385', 3263.0, 15.0, 13.0, 16.0, 23.0, 30.0, 1.0, 1.0, 1.0, 1.0, 1.0, 1.0, 0.01888753957314272, 1.4454812791997642, 3.0444512508953845, 2457680.798544615, 0.0, 0.0, 0.0, 0.0, 0.0, 0.0, 0.0, 0.0, 0.0, 0.08333333333333334, 0.16666666666666669, 1.0, 1.0, 1.0, 1.0, 1.0, 1.0, 14.141281666660992, 13.940015000058338, 7.533703209309434, -10.991748818471537, 2.888410687201187, 2.71294825508, 13.0, 7.237534688840733, 0.8879873829277999, 169.6953799999319, 69.2130139475, 3.274190577580113e-17, 1.6802208092468987e-16, 2.148459815751033e-16, 4.027991250916157e-13, 1.5667446248154175e-09, 19.907214565170477, 65.2656056761, -6.22750512816, 26.46733261404, -73.1604222189, 5.93153143426635e+26, 0.3076923076923077, 0.3076923076923077, 2.372612576494331e+26, 148.59490367769868, 4.7616056683497465, 0.46100524301749446, 0.3906843032252637, 35.98339767635544, 300.546519694236, 0.9971493403891576, -18.363863772657183, nan, nan, 16.147488576551304, 0.9008404039827114, 0.05744092748669481, 0.044774738480867944, 11.065710804859586, 0.07692307692307693, -0.8503390947129565, -0.17363779448657748, 1.6215130755694949, 2.0736301980636194, 9.482667857260294, 0.7634564015442739, 0.06861106777489362, 0.012548967021144311, 0.2651810556069238, 1.0940657505659734, 2.8004169473330074, 3.094844603561798, 7.672214049302291, 0.31695027755359306, 0.08365466167021687, 0.027553287536388096, 13.21073089910226, -0.816761031151019, -2.5068170637014666, -2.1207514211943717, 0.5872534179111061, 0.47513357962324576, 0.023964213441261057, 1.1938438598359784, 1.971011922563548e-07, 9.991466498604495e-08, 0.3341001043424151, 0.0, 0.987816237776698, 0.9487886297328058, 0.3432602947942666, -2.1491880675122808, -0.05408528003849169, nan, 1.077280290699925, 1.5673867850213168, 1.0730142521662678, 1.9173663723055538, 0.16991313368933106]\n"
     ]
    }
   ],
   "source": [
    "values = metadata_real_values + list(cs_rv_real.values)\n",
    "print(values)"
   ]
  },
  {
   "cell_type": "code",
   "execution_count": 16,
   "metadata": {
    "ExecuteTime": {
     "end_time": "2022-04-27T20:08:54.310590Z",
     "start_time": "2022-04-27T20:08:54.276672Z"
    }
   },
   "outputs": [
    {
     "data": {
      "text/html": [
       "<div>\n",
       "<style scoped>\n",
       "    .dataframe tbody tr th:only-of-type {\n",
       "        vertical-align: middle;\n",
       "    }\n",
       "\n",
       "    .dataframe tbody tr th {\n",
       "        vertical-align: top;\n",
       "    }\n",
       "\n",
       "    .dataframe thead th {\n",
       "        text-align: right;\n",
       "    }\n",
       "</style>\n",
       "<table border=\"1\" class=\"dataframe\">\n",
       "  <thead>\n",
       "    <tr style=\"text-align: right;\">\n",
       "      <th></th>\n",
       "      <th>Karmn</th>\n",
       "      <th>Teff_K</th>\n",
       "      <th>all_times_nhist_numpeaks</th>\n",
       "      <th>all_times_nhist_peak1_bin</th>\n",
       "      <th>all_times_nhist_peak2_bin</th>\n",
       "      <th>all_times_nhist_peak3_bin</th>\n",
       "      <th>all_times_nhist_peak4_bin</th>\n",
       "      <th>all_times_nhist_peak_1_to_2</th>\n",
       "      <th>all_times_nhist_peak_1_to_3</th>\n",
       "      <th>all_times_nhist_peak_1_to_4</th>\n",
       "      <th>...</th>\n",
       "      <th>freq_signif_ratio_31</th>\n",
       "      <th>freq_varrat</th>\n",
       "      <th>freq_y_offset</th>\n",
       "      <th>linear_trend</th>\n",
       "      <th>medperc90_2p_p</th>\n",
       "      <th>p2p_scatter_2praw</th>\n",
       "      <th>p2p_scatter_over_mad</th>\n",
       "      <th>p2p_scatter_pfold_over_mad</th>\n",
       "      <th>p2p_ssqr_diff_over_var</th>\n",
       "      <th>scatter_res_raw</th>\n",
       "    </tr>\n",
       "  </thead>\n",
       "  <tbody>\n",
       "    <tr>\n",
       "      <th>0</th>\n",
       "      <td>J23548+385</td>\n",
       "      <td>3263.0</td>\n",
       "      <td>15.0</td>\n",
       "      <td>13.0</td>\n",
       "      <td>16.0</td>\n",
       "      <td>23.0</td>\n",
       "      <td>30.0</td>\n",
       "      <td>1.0</td>\n",
       "      <td>1.0</td>\n",
       "      <td>1.0</td>\n",
       "      <td>...</td>\n",
       "      <td>0.948789</td>\n",
       "      <td>0.34326</td>\n",
       "      <td>-2.149188</td>\n",
       "      <td>-0.054085</td>\n",
       "      <td>NaN</td>\n",
       "      <td>1.07728</td>\n",
       "      <td>1.567387</td>\n",
       "      <td>1.073014</td>\n",
       "      <td>1.917366</td>\n",
       "      <td>0.169913</td>\n",
       "    </tr>\n",
       "  </tbody>\n",
       "</table>\n",
       "<p>1 rows × 114 columns</p>\n",
       "</div>"
      ],
      "text/plain": [
       "        Karmn  Teff_K  all_times_nhist_numpeaks  all_times_nhist_peak1_bin  \\\n",
       "0  J23548+385  3263.0                      15.0                       13.0   \n",
       "\n",
       "   all_times_nhist_peak2_bin  all_times_nhist_peak3_bin  \\\n",
       "0                       16.0                       23.0   \n",
       "\n",
       "   all_times_nhist_peak4_bin  all_times_nhist_peak_1_to_2  \\\n",
       "0                       30.0                          1.0   \n",
       "\n",
       "   all_times_nhist_peak_1_to_3  all_times_nhist_peak_1_to_4  ...  \\\n",
       "0                          1.0                          1.0  ...   \n",
       "\n",
       "   freq_signif_ratio_31  freq_varrat  freq_y_offset  linear_trend  \\\n",
       "0              0.948789      0.34326      -2.149188     -0.054085   \n",
       "\n",
       "   medperc90_2p_p  p2p_scatter_2praw  p2p_scatter_over_mad  \\\n",
       "0             NaN            1.07728              1.567387   \n",
       "\n",
       "   p2p_scatter_pfold_over_mad  p2p_ssqr_diff_over_var  scatter_res_raw  \n",
       "0                    1.073014                1.917366         0.169913  \n",
       "\n",
       "[1 rows x 114 columns]"
      ]
     },
     "execution_count": 16,
     "metadata": {},
     "output_type": "execute_result"
    }
   ],
   "source": [
    "df_real = pd.DataFrame(data=[values], columns=indices)\n",
    "df_real.head()"
   ]
  },
  {
   "cell_type": "markdown",
   "metadata": {},
   "source": [
    "### Add another element"
   ]
  },
  {
   "cell_type": "code",
   "execution_count": 17,
   "metadata": {
    "ExecuteTime": {
     "end_time": "2022-04-27T20:08:57.245838Z",
     "start_time": "2022-04-27T20:08:57.235891Z"
    },
    "scrolled": true
   },
   "outputs": [],
   "source": [
    "rv_idx = 1\n",
    "# Get metafeatures values:\n",
    "metadata_real_idx = ['Karmn', 'Teff_K'] # TO BE DEFINED AT THE START OF THE LOOP\n",
    "metadata_real_values = list(gto.loc[rv_idx, metadata_real_idx])\n"
   ]
  },
  {
   "cell_type": "code",
   "execution_count": 18,
   "metadata": {
    "ExecuteTime": {
     "end_time": "2022-04-27T20:08:57.654744Z",
     "start_time": "2022-04-27T20:08:57.643794Z"
    }
   },
   "outputs": [
    {
     "data": {
      "text/plain": [
       "'../data/CARMENES_GTO_RVs/J23505-095.dat'"
      ]
     },
     "execution_count": 18,
     "metadata": {},
     "output_type": "execute_result"
    }
   ],
   "source": [
    "gto.loc[rv_idx, 'rv_file']"
   ]
  },
  {
   "cell_type": "code",
   "execution_count": 19,
   "metadata": {
    "ExecuteTime": {
     "end_time": "2022-04-27T20:08:58.016780Z",
     "start_time": "2022-04-27T20:08:58.003816Z"
    },
    "scrolled": true
   },
   "outputs": [],
   "source": [
    "# load RV file:\n",
    "rv = pd.read_csv(gto.loc[rv_idx, 'rv_file'], sep=' ', decimal='.',\n",
    "                 names=['time', 'rv', 'error_rv'])\n"
   ]
  },
  {
   "cell_type": "code",
   "execution_count": 20,
   "metadata": {
    "ExecuteTime": {
     "end_time": "2022-04-27T20:08:58.408269Z",
     "start_time": "2022-04-27T20:08:58.403282Z"
    },
    "scrolled": true
   },
   "outputs": [],
   "source": [
    "# Create TimeSeries object:\n",
    "ts = TimeSeries(t=rv['time'], m=rv['rv'], e=rv['error_rv'])\n"
   ]
  },
  {
   "cell_type": "code",
   "execution_count": 21,
   "metadata": {
    "ExecuteTime": {
     "end_time": "2022-04-27T20:08:59.410333Z",
     "start_time": "2022-04-27T20:08:58.827877Z"
    },
    "scrolled": true
   },
   "outputs": [],
   "source": [
    "# Featurize the time series:\n",
    "cs = featurize_single_ts(ts, features_to_use=ALL_CS_FEATURES)\n"
   ]
  },
  {
   "cell_type": "code",
   "execution_count": 22,
   "metadata": {
    "ExecuteTime": {
     "end_time": "2022-04-27T20:08:59.426291Z",
     "start_time": "2022-04-27T20:08:59.411331Z"
    },
    "scrolled": true
   },
   "outputs": [],
   "source": [
    "# Join metadata and features for the dataframe:\n",
    "indices = metadata_real_idx + list(cs.index.get_level_values('feature'))\n",
    "values = metadata_real_values + list(cs.values)\n",
    "\n"
   ]
  },
  {
   "cell_type": "code",
   "execution_count": 23,
   "metadata": {
    "ExecuteTime": {
     "end_time": "2022-04-27T20:09:00.185410Z",
     "start_time": "2022-04-27T20:09:00.156501Z"
    }
   },
   "outputs": [
    {
     "data": {
      "text/html": [
       "<div>\n",
       "<style scoped>\n",
       "    .dataframe tbody tr th:only-of-type {\n",
       "        vertical-align: middle;\n",
       "    }\n",
       "\n",
       "    .dataframe tbody tr th {\n",
       "        vertical-align: top;\n",
       "    }\n",
       "\n",
       "    .dataframe thead th {\n",
       "        text-align: right;\n",
       "    }\n",
       "</style>\n",
       "<table border=\"1\" class=\"dataframe\">\n",
       "  <thead>\n",
       "    <tr style=\"text-align: right;\">\n",
       "      <th></th>\n",
       "      <th>Karmn</th>\n",
       "      <th>Teff_K</th>\n",
       "      <th>all_times_nhist_numpeaks</th>\n",
       "      <th>all_times_nhist_peak1_bin</th>\n",
       "      <th>all_times_nhist_peak2_bin</th>\n",
       "      <th>all_times_nhist_peak3_bin</th>\n",
       "      <th>all_times_nhist_peak4_bin</th>\n",
       "      <th>all_times_nhist_peak_1_to_2</th>\n",
       "      <th>all_times_nhist_peak_1_to_3</th>\n",
       "      <th>all_times_nhist_peak_1_to_4</th>\n",
       "      <th>...</th>\n",
       "      <th>freq_signif_ratio_31</th>\n",
       "      <th>freq_varrat</th>\n",
       "      <th>freq_y_offset</th>\n",
       "      <th>linear_trend</th>\n",
       "      <th>medperc90_2p_p</th>\n",
       "      <th>p2p_scatter_2praw</th>\n",
       "      <th>p2p_scatter_over_mad</th>\n",
       "      <th>p2p_scatter_pfold_over_mad</th>\n",
       "      <th>p2p_ssqr_diff_over_var</th>\n",
       "      <th>scatter_res_raw</th>\n",
       "    </tr>\n",
       "  </thead>\n",
       "  <tbody>\n",
       "    <tr>\n",
       "      <th>0</th>\n",
       "      <td>J23505-095</td>\n",
       "      <td>3377.0</td>\n",
       "      <td>10.0</td>\n",
       "      <td>10.0</td>\n",
       "      <td>22.0</td>\n",
       "      <td>12.0</td>\n",
       "      <td>31.0</td>\n",
       "      <td>1.071111</td>\n",
       "      <td>1.095455</td>\n",
       "      <td>4.381818</td>\n",
       "      <td>...</td>\n",
       "      <td>0.809719</td>\n",
       "      <td>0.498257</td>\n",
       "      <td>-2.800944</td>\n",
       "      <td>0.000096</td>\n",
       "      <td>0.793332</td>\n",
       "      <td>1.495594</td>\n",
       "      <td>1.052292</td>\n",
       "      <td>1.496514</td>\n",
       "      <td>0.894181</td>\n",
       "      <td>0.684958</td>\n",
       "    </tr>\n",
       "  </tbody>\n",
       "</table>\n",
       "<p>1 rows × 114 columns</p>\n",
       "</div>"
      ],
      "text/plain": [
       "        Karmn  Teff_K  all_times_nhist_numpeaks  all_times_nhist_peak1_bin  \\\n",
       "0  J23505-095  3377.0                      10.0                       10.0   \n",
       "\n",
       "   all_times_nhist_peak2_bin  all_times_nhist_peak3_bin  \\\n",
       "0                       22.0                       12.0   \n",
       "\n",
       "   all_times_nhist_peak4_bin  all_times_nhist_peak_1_to_2  \\\n",
       "0                       31.0                     1.071111   \n",
       "\n",
       "   all_times_nhist_peak_1_to_3  all_times_nhist_peak_1_to_4  ...  \\\n",
       "0                     1.095455                     4.381818  ...   \n",
       "\n",
       "   freq_signif_ratio_31  freq_varrat  freq_y_offset  linear_trend  \\\n",
       "0              0.809719     0.498257      -2.800944      0.000096   \n",
       "\n",
       "   medperc90_2p_p  p2p_scatter_2praw  p2p_scatter_over_mad  \\\n",
       "0        0.793332           1.495594              1.052292   \n",
       "\n",
       "   p2p_scatter_pfold_over_mad  p2p_ssqr_diff_over_var  scatter_res_raw  \n",
       "0                    1.496514                0.894181         0.684958  \n",
       "\n",
       "[1 rows x 114 columns]"
      ]
     },
     "execution_count": 23,
     "metadata": {},
     "output_type": "execute_result"
    }
   ],
   "source": [
    "# Create a new DataFrame:\n",
    "new_df = pd.DataFrame(data=[values], columns=indices)\n",
    "new_df.head()"
   ]
  },
  {
   "cell_type": "code",
   "execution_count": 24,
   "metadata": {
    "ExecuteTime": {
     "end_time": "2022-04-27T20:09:01.412130Z",
     "start_time": "2022-04-27T20:09:01.388194Z"
    }
   },
   "outputs": [
    {
     "data": {
      "text/html": [
       "<div>\n",
       "<style scoped>\n",
       "    .dataframe tbody tr th:only-of-type {\n",
       "        vertical-align: middle;\n",
       "    }\n",
       "\n",
       "    .dataframe tbody tr th {\n",
       "        vertical-align: top;\n",
       "    }\n",
       "\n",
       "    .dataframe thead th {\n",
       "        text-align: right;\n",
       "    }\n",
       "</style>\n",
       "<table border=\"1\" class=\"dataframe\">\n",
       "  <thead>\n",
       "    <tr style=\"text-align: right;\">\n",
       "      <th></th>\n",
       "      <th>Karmn</th>\n",
       "      <th>Teff_K</th>\n",
       "      <th>all_times_nhist_numpeaks</th>\n",
       "      <th>all_times_nhist_peak1_bin</th>\n",
       "      <th>all_times_nhist_peak2_bin</th>\n",
       "      <th>all_times_nhist_peak3_bin</th>\n",
       "      <th>all_times_nhist_peak4_bin</th>\n",
       "      <th>all_times_nhist_peak_1_to_2</th>\n",
       "      <th>all_times_nhist_peak_1_to_3</th>\n",
       "      <th>all_times_nhist_peak_1_to_4</th>\n",
       "      <th>...</th>\n",
       "      <th>freq_signif_ratio_31</th>\n",
       "      <th>freq_varrat</th>\n",
       "      <th>freq_y_offset</th>\n",
       "      <th>linear_trend</th>\n",
       "      <th>medperc90_2p_p</th>\n",
       "      <th>p2p_scatter_2praw</th>\n",
       "      <th>p2p_scatter_over_mad</th>\n",
       "      <th>p2p_scatter_pfold_over_mad</th>\n",
       "      <th>p2p_ssqr_diff_over_var</th>\n",
       "      <th>scatter_res_raw</th>\n",
       "    </tr>\n",
       "  </thead>\n",
       "  <tbody>\n",
       "    <tr>\n",
       "      <th>0</th>\n",
       "      <td>J23548+385</td>\n",
       "      <td>3263.0</td>\n",
       "      <td>15.0</td>\n",
       "      <td>13.0</td>\n",
       "      <td>16.0</td>\n",
       "      <td>23.0</td>\n",
       "      <td>30.0</td>\n",
       "      <td>1.000000</td>\n",
       "      <td>1.000000</td>\n",
       "      <td>1.000000</td>\n",
       "      <td>...</td>\n",
       "      <td>0.948789</td>\n",
       "      <td>0.343260</td>\n",
       "      <td>-2.149188</td>\n",
       "      <td>-0.054085</td>\n",
       "      <td>NaN</td>\n",
       "      <td>1.077280</td>\n",
       "      <td>1.567387</td>\n",
       "      <td>1.073014</td>\n",
       "      <td>1.917366</td>\n",
       "      <td>0.169913</td>\n",
       "    </tr>\n",
       "    <tr>\n",
       "      <th>1</th>\n",
       "      <td>J23505-095</td>\n",
       "      <td>3377.0</td>\n",
       "      <td>10.0</td>\n",
       "      <td>10.0</td>\n",
       "      <td>22.0</td>\n",
       "      <td>12.0</td>\n",
       "      <td>31.0</td>\n",
       "      <td>1.071111</td>\n",
       "      <td>1.095455</td>\n",
       "      <td>4.381818</td>\n",
       "      <td>...</td>\n",
       "      <td>0.809719</td>\n",
       "      <td>0.498257</td>\n",
       "      <td>-2.800944</td>\n",
       "      <td>0.000096</td>\n",
       "      <td>0.793332</td>\n",
       "      <td>1.495594</td>\n",
       "      <td>1.052292</td>\n",
       "      <td>1.496514</td>\n",
       "      <td>0.894181</td>\n",
       "      <td>0.684958</td>\n",
       "    </tr>\n",
       "  </tbody>\n",
       "</table>\n",
       "<p>2 rows × 114 columns</p>\n",
       "</div>"
      ],
      "text/plain": [
       "        Karmn  Teff_K  all_times_nhist_numpeaks  all_times_nhist_peak1_bin  \\\n",
       "0  J23548+385  3263.0                      15.0                       13.0   \n",
       "1  J23505-095  3377.0                      10.0                       10.0   \n",
       "\n",
       "   all_times_nhist_peak2_bin  all_times_nhist_peak3_bin  \\\n",
       "0                       16.0                       23.0   \n",
       "1                       22.0                       12.0   \n",
       "\n",
       "   all_times_nhist_peak4_bin  all_times_nhist_peak_1_to_2  \\\n",
       "0                       30.0                     1.000000   \n",
       "1                       31.0                     1.071111   \n",
       "\n",
       "   all_times_nhist_peak_1_to_3  all_times_nhist_peak_1_to_4  ...  \\\n",
       "0                     1.000000                     1.000000  ...   \n",
       "1                     1.095455                     4.381818  ...   \n",
       "\n",
       "   freq_signif_ratio_31  freq_varrat  freq_y_offset  linear_trend  \\\n",
       "0              0.948789     0.343260      -2.149188     -0.054085   \n",
       "1              0.809719     0.498257      -2.800944      0.000096   \n",
       "\n",
       "   medperc90_2p_p  p2p_scatter_2praw  p2p_scatter_over_mad  \\\n",
       "0             NaN           1.077280              1.567387   \n",
       "1        0.793332           1.495594              1.052292   \n",
       "\n",
       "   p2p_scatter_pfold_over_mad  p2p_ssqr_diff_over_var  scatter_res_raw  \n",
       "0                    1.073014                1.917366         0.169913  \n",
       "1                    1.496514                0.894181         0.684958  \n",
       "\n",
       "[2 rows x 114 columns]"
      ]
     },
     "execution_count": 24,
     "metadata": {},
     "output_type": "execute_result"
    }
   ],
   "source": [
    "# Append the new dataframe to the existing one:\n",
    "df_real = df_real.append(new_df, ignore_index=True)\n",
    "df_real"
   ]
  },
  {
   "cell_type": "markdown",
   "metadata": {},
   "source": [
    "### Add another element yet (this would go in the loop)"
   ]
  },
  {
   "cell_type": "code",
   "execution_count": 25,
   "metadata": {
    "ExecuteTime": {
     "end_time": "2022-04-27T20:09:02.359628Z",
     "start_time": "2022-04-27T20:09:02.172099Z"
    }
   },
   "outputs": [],
   "source": [
    "rv_idx = 2\n",
    "# Get metafeatures values:\n",
    "metadata_real_idx = ['Karmn', 'Teff_K'] # TO BE DEFINED AT THE START OF THE LOOP\n",
    "metadata_real_values = list(gto.loc[rv_idx, metadata_real_idx])\n",
    "# load RV file:\n",
    "rv = pd.read_csv(gto.loc[rv_idx, 'rv_file'], sep=' ', decimal='.',\n",
    "                 names=['time', 'rv', 'error_rv'])\n",
    "# Create TimeSeries object:\n",
    "ts = TimeSeries(t=rv['time'], m=rv['rv'], e=rv['error_rv'])\n",
    "# Featurize the time series:\n",
    "cs = featurize_single_ts(ts, features_to_use=ALL_CS_FEATURES)\n",
    "# Join metadata and features for the dataframe:\n",
    "indices = metadata_real_idx + list(cs.index.get_level_values('feature'))\n",
    "values = metadata_real_values + list(cs.values)\n",
    "# Create a new DataFrame:\n",
    "new_df = pd.DataFrame(data=[values], columns=indices)\n",
    "# Append the new dataframe to the existing one:\n",
    "df_real = df_real.append(new_df, ignore_index=True)\n"
   ]
  },
  {
   "cell_type": "code",
   "execution_count": 26,
   "metadata": {
    "ExecuteTime": {
     "end_time": "2022-04-27T20:09:02.500235Z",
     "start_time": "2022-04-27T20:09:02.476299Z"
    }
   },
   "outputs": [
    {
     "data": {
      "text/html": [
       "<div>\n",
       "<style scoped>\n",
       "    .dataframe tbody tr th:only-of-type {\n",
       "        vertical-align: middle;\n",
       "    }\n",
       "\n",
       "    .dataframe tbody tr th {\n",
       "        vertical-align: top;\n",
       "    }\n",
       "\n",
       "    .dataframe thead th {\n",
       "        text-align: right;\n",
       "    }\n",
       "</style>\n",
       "<table border=\"1\" class=\"dataframe\">\n",
       "  <thead>\n",
       "    <tr style=\"text-align: right;\">\n",
       "      <th></th>\n",
       "      <th>Karmn</th>\n",
       "      <th>Teff_K</th>\n",
       "      <th>all_times_nhist_numpeaks</th>\n",
       "      <th>all_times_nhist_peak1_bin</th>\n",
       "      <th>all_times_nhist_peak2_bin</th>\n",
       "      <th>all_times_nhist_peak3_bin</th>\n",
       "      <th>all_times_nhist_peak4_bin</th>\n",
       "      <th>all_times_nhist_peak_1_to_2</th>\n",
       "      <th>all_times_nhist_peak_1_to_3</th>\n",
       "      <th>all_times_nhist_peak_1_to_4</th>\n",
       "      <th>...</th>\n",
       "      <th>freq_signif_ratio_31</th>\n",
       "      <th>freq_varrat</th>\n",
       "      <th>freq_y_offset</th>\n",
       "      <th>linear_trend</th>\n",
       "      <th>medperc90_2p_p</th>\n",
       "      <th>p2p_scatter_2praw</th>\n",
       "      <th>p2p_scatter_over_mad</th>\n",
       "      <th>p2p_scatter_pfold_over_mad</th>\n",
       "      <th>p2p_ssqr_diff_over_var</th>\n",
       "      <th>scatter_res_raw</th>\n",
       "    </tr>\n",
       "  </thead>\n",
       "  <tbody>\n",
       "    <tr>\n",
       "      <th>0</th>\n",
       "      <td>J23548+385</td>\n",
       "      <td>3263.0</td>\n",
       "      <td>15.0</td>\n",
       "      <td>13.0</td>\n",
       "      <td>16.0</td>\n",
       "      <td>23.0</td>\n",
       "      <td>30.0</td>\n",
       "      <td>1.000000</td>\n",
       "      <td>1.000000</td>\n",
       "      <td>1.000000</td>\n",
       "      <td>...</td>\n",
       "      <td>0.948789</td>\n",
       "      <td>0.343260</td>\n",
       "      <td>-2.149188</td>\n",
       "      <td>-0.054085</td>\n",
       "      <td>NaN</td>\n",
       "      <td>1.077280</td>\n",
       "      <td>1.567387</td>\n",
       "      <td>1.073014</td>\n",
       "      <td>1.917366</td>\n",
       "      <td>0.169913</td>\n",
       "    </tr>\n",
       "    <tr>\n",
       "      <th>1</th>\n",
       "      <td>J23505-095</td>\n",
       "      <td>3377.0</td>\n",
       "      <td>10.0</td>\n",
       "      <td>10.0</td>\n",
       "      <td>22.0</td>\n",
       "      <td>12.0</td>\n",
       "      <td>31.0</td>\n",
       "      <td>1.071111</td>\n",
       "      <td>1.095455</td>\n",
       "      <td>4.381818</td>\n",
       "      <td>...</td>\n",
       "      <td>0.809719</td>\n",
       "      <td>0.498257</td>\n",
       "      <td>-2.800944</td>\n",
       "      <td>0.000096</td>\n",
       "      <td>0.793332</td>\n",
       "      <td>1.495594</td>\n",
       "      <td>1.052292</td>\n",
       "      <td>1.496514</td>\n",
       "      <td>0.894181</td>\n",
       "      <td>0.684958</td>\n",
       "    </tr>\n",
       "    <tr>\n",
       "      <th>2</th>\n",
       "      <td>J23431+365</td>\n",
       "      <td>3301.0</td>\n",
       "      <td>11.0</td>\n",
       "      <td>17.0</td>\n",
       "      <td>29.0</td>\n",
       "      <td>48.0</td>\n",
       "      <td>13.0</td>\n",
       "      <td>1.076923</td>\n",
       "      <td>1.076923</td>\n",
       "      <td>1.400000</td>\n",
       "      <td>...</td>\n",
       "      <td>0.925715</td>\n",
       "      <td>0.129382</td>\n",
       "      <td>0.438334</td>\n",
       "      <td>0.001309</td>\n",
       "      <td>0.618542</td>\n",
       "      <td>1.042247</td>\n",
       "      <td>0.917263</td>\n",
       "      <td>1.269583</td>\n",
       "      <td>1.426457</td>\n",
       "      <td>0.235807</td>\n",
       "    </tr>\n",
       "  </tbody>\n",
       "</table>\n",
       "<p>3 rows × 114 columns</p>\n",
       "</div>"
      ],
      "text/plain": [
       "        Karmn  Teff_K  all_times_nhist_numpeaks  all_times_nhist_peak1_bin  \\\n",
       "0  J23548+385  3263.0                      15.0                       13.0   \n",
       "1  J23505-095  3377.0                      10.0                       10.0   \n",
       "2  J23431+365  3301.0                      11.0                       17.0   \n",
       "\n",
       "   all_times_nhist_peak2_bin  all_times_nhist_peak3_bin  \\\n",
       "0                       16.0                       23.0   \n",
       "1                       22.0                       12.0   \n",
       "2                       29.0                       48.0   \n",
       "\n",
       "   all_times_nhist_peak4_bin  all_times_nhist_peak_1_to_2  \\\n",
       "0                       30.0                     1.000000   \n",
       "1                       31.0                     1.071111   \n",
       "2                       13.0                     1.076923   \n",
       "\n",
       "   all_times_nhist_peak_1_to_3  all_times_nhist_peak_1_to_4  ...  \\\n",
       "0                     1.000000                     1.000000  ...   \n",
       "1                     1.095455                     4.381818  ...   \n",
       "2                     1.076923                     1.400000  ...   \n",
       "\n",
       "   freq_signif_ratio_31  freq_varrat  freq_y_offset  linear_trend  \\\n",
       "0              0.948789     0.343260      -2.149188     -0.054085   \n",
       "1              0.809719     0.498257      -2.800944      0.000096   \n",
       "2              0.925715     0.129382       0.438334      0.001309   \n",
       "\n",
       "   medperc90_2p_p  p2p_scatter_2praw  p2p_scatter_over_mad  \\\n",
       "0             NaN           1.077280              1.567387   \n",
       "1        0.793332           1.495594              1.052292   \n",
       "2        0.618542           1.042247              0.917263   \n",
       "\n",
       "   p2p_scatter_pfold_over_mad  p2p_ssqr_diff_over_var  scatter_res_raw  \n",
       "0                    1.073014                1.917366         0.169913  \n",
       "1                    1.496514                0.894181         0.684958  \n",
       "2                    1.269583                1.426457         0.235807  \n",
       "\n",
       "[3 rows x 114 columns]"
      ]
     },
     "execution_count": 26,
     "metadata": {},
     "output_type": "execute_result"
    }
   ],
   "source": [
    "# See the result:\n",
    "df_real"
   ]
  },
  {
   "cell_type": "markdown",
   "metadata": {},
   "source": [
    "### Save the result"
   ]
  },
  {
   "cell_type": "code",
   "execution_count": 27,
   "metadata": {
    "ExecuteTime": {
     "end_time": "2022-04-27T20:09:03.463659Z",
     "start_time": "2022-04-27T20:09:03.444712Z"
    }
   },
   "outputs": [],
   "source": [
    "df_real.to_csv(\"TEST_REAL_featurized.csv\", sep=',', decimal='.', index=None)"
   ]
  },
  {
   "cell_type": "markdown",
   "metadata": {},
   "source": [
    "## Load the synthetic RV curves database"
   ]
  },
  {
   "cell_type": "code",
   "execution_count": 28,
   "metadata": {
    "ExecuteTime": {
     "end_time": "2022-04-27T20:09:04.155809Z",
     "start_time": "2022-04-27T20:09:04.107965Z"
    }
   },
   "outputs": [
    {
     "data": {
      "text/html": [
       "<div>\n",
       "<style scoped>\n",
       "    .dataframe tbody tr th:only-of-type {\n",
       "        vertical-align: middle;\n",
       "    }\n",
       "\n",
       "    .dataframe tbody tr th {\n",
       "        vertical-align: top;\n",
       "    }\n",
       "\n",
       "    .dataframe thead th {\n",
       "        text-align: right;\n",
       "    }\n",
       "</style>\n",
       "<table border=\"1\" class=\"dataframe\">\n",
       "  <thead>\n",
       "    <tr style=\"text-align: right;\">\n",
       "      <th></th>\n",
       "      <th>ID</th>\n",
       "      <th>Pulsating</th>\n",
       "      <th>frequency</th>\n",
       "      <th>amplitudeRV</th>\n",
       "      <th>offsetRV</th>\n",
       "      <th>refepochRV</th>\n",
       "      <th>phase</th>\n",
       "      <th>D1_Ps</th>\n",
       "      <th>D1_Tobs</th>\n",
       "      <th>D2_noiseRV_mean</th>\n",
       "      <th>...</th>\n",
       "      <th>D3_PsRV_median</th>\n",
       "      <th>D3_PsRV_stdev</th>\n",
       "      <th>D3_NumRV</th>\n",
       "      <th>D4_noiseRV_mean</th>\n",
       "      <th>D4_noiseRV_median</th>\n",
       "      <th>D4_noiseRV_stdev</th>\n",
       "      <th>ds1_file</th>\n",
       "      <th>ds2_file</th>\n",
       "      <th>ds3_file</th>\n",
       "      <th>ds4_file</th>\n",
       "    </tr>\n",
       "  </thead>\n",
       "  <tbody>\n",
       "    <tr>\n",
       "      <th>0</th>\n",
       "      <td>RV-0</td>\n",
       "      <td>True</td>\n",
       "      <td>54.703173</td>\n",
       "      <td>1.133098</td>\n",
       "      <td>640.476258</td>\n",
       "      <td>2.457653e+06</td>\n",
       "      <td>0.737927</td>\n",
       "      <td>0.0025</td>\n",
       "      <td>0.25</td>\n",
       "      <td>0.244060</td>\n",
       "      <td>...</td>\n",
       "      <td>9.072850</td>\n",
       "      <td>83.352561</td>\n",
       "      <td>52</td>\n",
       "      <td>-0.416842</td>\n",
       "      <td>-0.659304</td>\n",
       "      <td>2.989282</td>\n",
       "      <td>./RV_DATASETS/DS1_ts_files/DS1-RV-RV-0.dat</td>\n",
       "      <td>./RV_DATASETS/DS2_ts_files/DS2-RV-RV-0.dat</td>\n",
       "      <td>./RV_DATASETS/DS3_ts_files/DS3-RV-RV-0.dat</td>\n",
       "      <td>./RV_DATASETS/DS4_ts_files/DS4-RV-RV-0.dat</td>\n",
       "    </tr>\n",
       "    <tr>\n",
       "      <th>1</th>\n",
       "      <td>RV-1</td>\n",
       "      <td>True</td>\n",
       "      <td>45.870515</td>\n",
       "      <td>0.945738</td>\n",
       "      <td>1392.825171</td>\n",
       "      <td>2.458556e+06</td>\n",
       "      <td>0.604099</td>\n",
       "      <td>0.0025</td>\n",
       "      <td>0.25</td>\n",
       "      <td>-0.064906</td>\n",
       "      <td>...</td>\n",
       "      <td>11.596005</td>\n",
       "      <td>161.691684</td>\n",
       "      <td>9</td>\n",
       "      <td>0.779823</td>\n",
       "      <td>1.449257</td>\n",
       "      <td>2.049067</td>\n",
       "      <td>./RV_DATASETS/DS1_ts_files/DS1-RV-RV-1.dat</td>\n",
       "      <td>./RV_DATASETS/DS2_ts_files/DS2-RV-RV-1.dat</td>\n",
       "      <td>./RV_DATASETS/DS3_ts_files/DS3-RV-RV-1.dat</td>\n",
       "      <td>./RV_DATASETS/DS4_ts_files/DS4-RV-RV-1.dat</td>\n",
       "    </tr>\n",
       "    <tr>\n",
       "      <th>2</th>\n",
       "      <td>RV-2</td>\n",
       "      <td>False</td>\n",
       "      <td>0.000000</td>\n",
       "      <td>0.000000</td>\n",
       "      <td>1799.268703</td>\n",
       "      <td>2.457479e+06</td>\n",
       "      <td>0.000000</td>\n",
       "      <td>0.0025</td>\n",
       "      <td>0.25</td>\n",
       "      <td>0.299835</td>\n",
       "      <td>...</td>\n",
       "      <td>17.867630</td>\n",
       "      <td>200.840308</td>\n",
       "      <td>26</td>\n",
       "      <td>-0.334425</td>\n",
       "      <td>-0.653148</td>\n",
       "      <td>2.803447</td>\n",
       "      <td>./RV_DATASETS/DS1_ts_files/DS1-RV-RV-2.dat</td>\n",
       "      <td>./RV_DATASETS/DS2_ts_files/DS2-RV-RV-2.dat</td>\n",
       "      <td>./RV_DATASETS/DS3_ts_files/DS3-RV-RV-2.dat</td>\n",
       "      <td>./RV_DATASETS/DS4_ts_files/DS4-RV-RV-2.dat</td>\n",
       "    </tr>\n",
       "    <tr>\n",
       "      <th>3</th>\n",
       "      <td>RV-3</td>\n",
       "      <td>False</td>\n",
       "      <td>0.000000</td>\n",
       "      <td>0.000000</td>\n",
       "      <td>918.007885</td>\n",
       "      <td>2.457612e+06</td>\n",
       "      <td>0.000000</td>\n",
       "      <td>0.0025</td>\n",
       "      <td>0.25</td>\n",
       "      <td>0.032798</td>\n",
       "      <td>...</td>\n",
       "      <td>24.896430</td>\n",
       "      <td>66.240066</td>\n",
       "      <td>6</td>\n",
       "      <td>0.854171</td>\n",
       "      <td>1.319561</td>\n",
       "      <td>3.021310</td>\n",
       "      <td>./RV_DATASETS/DS1_ts_files/DS1-RV-RV-3.dat</td>\n",
       "      <td>./RV_DATASETS/DS2_ts_files/DS2-RV-RV-3.dat</td>\n",
       "      <td>./RV_DATASETS/DS3_ts_files/DS3-RV-RV-3.dat</td>\n",
       "      <td>./RV_DATASETS/DS4_ts_files/DS4-RV-RV-3.dat</td>\n",
       "    </tr>\n",
       "    <tr>\n",
       "      <th>4</th>\n",
       "      <td>RV-4</td>\n",
       "      <td>True</td>\n",
       "      <td>69.503227</td>\n",
       "      <td>1.447038</td>\n",
       "      <td>-1375.321599</td>\n",
       "      <td>2.460177e+06</td>\n",
       "      <td>0.962170</td>\n",
       "      <td>0.0025</td>\n",
       "      <td>0.25</td>\n",
       "      <td>-0.403387</td>\n",
       "      <td>...</td>\n",
       "      <td>63.321765</td>\n",
       "      <td>303.823082</td>\n",
       "      <td>7</td>\n",
       "      <td>0.591993</td>\n",
       "      <td>-0.473597</td>\n",
       "      <td>3.343537</td>\n",
       "      <td>./RV_DATASETS/DS1_ts_files/DS1-RV-RV-4.dat</td>\n",
       "      <td>./RV_DATASETS/DS2_ts_files/DS2-RV-RV-4.dat</td>\n",
       "      <td>./RV_DATASETS/DS3_ts_files/DS3-RV-RV-4.dat</td>\n",
       "      <td>./RV_DATASETS/DS4_ts_files/DS4-RV-RV-4.dat</td>\n",
       "    </tr>\n",
       "  </tbody>\n",
       "</table>\n",
       "<p>5 rows × 24 columns</p>\n",
       "</div>"
      ],
      "text/plain": [
       "     ID  Pulsating  frequency  amplitudeRV     offsetRV    refepochRV  \\\n",
       "0  RV-0       True  54.703173     1.133098   640.476258  2.457653e+06   \n",
       "1  RV-1       True  45.870515     0.945738  1392.825171  2.458556e+06   \n",
       "2  RV-2      False   0.000000     0.000000  1799.268703  2.457479e+06   \n",
       "3  RV-3      False   0.000000     0.000000   918.007885  2.457612e+06   \n",
       "4  RV-4       True  69.503227     1.447038 -1375.321599  2.460177e+06   \n",
       "\n",
       "      phase   D1_Ps  D1_Tobs  D2_noiseRV_mean  ...  D3_PsRV_median  \\\n",
       "0  0.737927  0.0025     0.25         0.244060  ...        9.072850   \n",
       "1  0.604099  0.0025     0.25        -0.064906  ...       11.596005   \n",
       "2  0.000000  0.0025     0.25         0.299835  ...       17.867630   \n",
       "3  0.000000  0.0025     0.25         0.032798  ...       24.896430   \n",
       "4  0.962170  0.0025     0.25        -0.403387  ...       63.321765   \n",
       "\n",
       "   D3_PsRV_stdev  D3_NumRV  D4_noiseRV_mean  D4_noiseRV_median  \\\n",
       "0      83.352561        52        -0.416842          -0.659304   \n",
       "1     161.691684         9         0.779823           1.449257   \n",
       "2     200.840308        26        -0.334425          -0.653148   \n",
       "3      66.240066         6         0.854171           1.319561   \n",
       "4     303.823082         7         0.591993          -0.473597   \n",
       "\n",
       "   D4_noiseRV_stdev                                    ds1_file  \\\n",
       "0          2.989282  ./RV_DATASETS/DS1_ts_files/DS1-RV-RV-0.dat   \n",
       "1          2.049067  ./RV_DATASETS/DS1_ts_files/DS1-RV-RV-1.dat   \n",
       "2          2.803447  ./RV_DATASETS/DS1_ts_files/DS1-RV-RV-2.dat   \n",
       "3          3.021310  ./RV_DATASETS/DS1_ts_files/DS1-RV-RV-3.dat   \n",
       "4          3.343537  ./RV_DATASETS/DS1_ts_files/DS1-RV-RV-4.dat   \n",
       "\n",
       "                                     ds2_file  \\\n",
       "0  ./RV_DATASETS/DS2_ts_files/DS2-RV-RV-0.dat   \n",
       "1  ./RV_DATASETS/DS2_ts_files/DS2-RV-RV-1.dat   \n",
       "2  ./RV_DATASETS/DS2_ts_files/DS2-RV-RV-2.dat   \n",
       "3  ./RV_DATASETS/DS2_ts_files/DS2-RV-RV-3.dat   \n",
       "4  ./RV_DATASETS/DS2_ts_files/DS2-RV-RV-4.dat   \n",
       "\n",
       "                                     ds3_file  \\\n",
       "0  ./RV_DATASETS/DS3_ts_files/DS3-RV-RV-0.dat   \n",
       "1  ./RV_DATASETS/DS3_ts_files/DS3-RV-RV-1.dat   \n",
       "2  ./RV_DATASETS/DS3_ts_files/DS3-RV-RV-2.dat   \n",
       "3  ./RV_DATASETS/DS3_ts_files/DS3-RV-RV-3.dat   \n",
       "4  ./RV_DATASETS/DS3_ts_files/DS3-RV-RV-4.dat   \n",
       "\n",
       "                                     ds4_file  \n",
       "0  ./RV_DATASETS/DS4_ts_files/DS4-RV-RV-0.dat  \n",
       "1  ./RV_DATASETS/DS4_ts_files/DS4-RV-RV-1.dat  \n",
       "2  ./RV_DATASETS/DS4_ts_files/DS4-RV-RV-2.dat  \n",
       "3  ./RV_DATASETS/DS4_ts_files/DS4-RV-RV-3.dat  \n",
       "4  ./RV_DATASETS/DS4_ts_files/DS4-RV-RV-4.dat  \n",
       "\n",
       "[5 rows x 24 columns]"
      ]
     },
     "execution_count": 28,
     "metadata": {},
     "output_type": "execute_result"
    }
   ],
   "source": [
    "synth = pd.read_csv(SINTHETIC_FOLDER + SYNTHETIC_DB_FILE, sep=',', decimal='.')\n",
    "synth.head()"
   ]
  },
  {
   "cell_type": "code",
   "execution_count": 30,
   "metadata": {
    "ExecuteTime": {
     "end_time": "2022-04-27T20:09:23.797623Z",
     "start_time": "2022-04-27T20:09:23.788619Z"
    }
   },
   "outputs": [
    {
     "name": "stdout",
     "output_type": "stream",
     "text": [
      "Index(['ID', 'Pulsating', 'frequency', 'amplitudeRV', 'offsetRV', 'refepochRV',\n",
      "       'phase', 'D1_Ps', 'D1_Tobs', 'D2_noiseRV_mean', 'D2_noiseRV_median',\n",
      "       'D2_noiseRV_stdev', 'D3_samplingRV_idx', 'D3_PsRV_mean',\n",
      "       'D3_PsRV_median', 'D3_PsRV_stdev', 'D3_NumRV', 'D4_noiseRV_mean',\n",
      "       'D4_noiseRV_median', 'D4_noiseRV_stdev', 'ds1_file', 'ds2_file',\n",
      "       'ds3_file', 'ds4_file'],\n",
      "      dtype='object')\n"
     ]
    }
   ],
   "source": [
    "print(synth.columns)"
   ]
  },
  {
   "cell_type": "markdown",
   "metadata": {},
   "source": [
    "## Feature extraction with `cesium` for a synthetic RV curve"
   ]
  },
  {
   "cell_type": "markdown",
   "metadata": {},
   "source": [
    "### First feature extraction for synthetic RV curves, pulsating star"
   ]
  },
  {
   "cell_type": "code",
   "execution_count": 88,
   "metadata": {
    "ExecuteTime": {
     "end_time": "2022-04-27T17:47:09.684254Z",
     "start_time": "2022-04-27T17:47:09.622411Z"
    }
   },
   "outputs": [
    {
     "name": "stderr",
     "output_type": "stream",
     "text": [
      "C:\\Users\\ciroe\\anaconda3\\lib\\site-packages\\cesium\\features\\cadence_features.py:12: RuntimeWarning: divide by zero encountered in true_divide\n",
      "  return (cads[2:] + cads[:-2]) / (cads[1:-1] - cads[:-2])\n",
      "C:\\Users\\ciroe\\anaconda3\\lib\\site-packages\\numpy\\core\\_methods.py:229: RuntimeWarning: invalid value encountered in subtract\n",
      "  x = asanyarray(arr - arrmean)\n"
     ]
    }
   ],
   "source": [
    "rv_idx = 0\n",
    "# Get metafeatures values:\n",
    "metadata_synth_idx = ['ID', 'Pulsating', 'frequency', 'amplitudeRV'] # TO BE DEFINED AT THE START OF THE LOOP\n",
    "metadata_synth_values = list(synth.loc[rv_idx, metadata_synth_idx])\n",
    "# load RV file:\n",
    "rv_filename = SINTHETIC_FOLDER + synth.loc[rv_idx, 'ds1_file'].replace(\"./RV_DATASETS/\", \"\") # TRICKY...\n",
    "rv = pd.read_csv(rv_filename, sep=' ', decimal='.',\n",
    "                 names=['time', 'rv'])\n",
    "# Create TimeSeries object:\n",
    "ts = TimeSeries(t=rv['time'], m=rv['rv'])\n",
    "# Featurize the time series:\n",
    "cs = featurize_single_ts(ts, features_to_use=ALL_CS_FEATURES)\n",
    "# Join metadata and features for the dataframe:\n",
    "indices = metadata_synth_idx + list(cs.index.get_level_values('feature'))\n",
    "values = metadata_synth_values + list(cs.values)\n",
    "# Create a new DataFrame (with the first item):\n",
    "synth_df = pd.DataFrame(data=[values], columns=indices)\n"
   ]
  },
  {
   "cell_type": "code",
   "execution_count": 89,
   "metadata": {
    "ExecuteTime": {
     "end_time": "2022-04-27T17:47:10.415085Z",
     "start_time": "2022-04-27T17:47:10.391150Z"
    }
   },
   "outputs": [
    {
     "data": {
      "text/html": [
       "<div>\n",
       "<style scoped>\n",
       "    .dataframe tbody tr th:only-of-type {\n",
       "        vertical-align: middle;\n",
       "    }\n",
       "\n",
       "    .dataframe tbody tr th {\n",
       "        vertical-align: top;\n",
       "    }\n",
       "\n",
       "    .dataframe thead th {\n",
       "        text-align: right;\n",
       "    }\n",
       "</style>\n",
       "<table border=\"1\" class=\"dataframe\">\n",
       "  <thead>\n",
       "    <tr style=\"text-align: right;\">\n",
       "      <th></th>\n",
       "      <th>ID</th>\n",
       "      <th>Pulsating</th>\n",
       "      <th>frequency</th>\n",
       "      <th>amplitudeRV</th>\n",
       "      <th>all_times_nhist_numpeaks</th>\n",
       "      <th>all_times_nhist_peak1_bin</th>\n",
       "      <th>all_times_nhist_peak2_bin</th>\n",
       "      <th>all_times_nhist_peak3_bin</th>\n",
       "      <th>all_times_nhist_peak4_bin</th>\n",
       "      <th>all_times_nhist_peak_1_to_2</th>\n",
       "      <th>...</th>\n",
       "      <th>freq_signif_ratio_31</th>\n",
       "      <th>freq_varrat</th>\n",
       "      <th>freq_y_offset</th>\n",
       "      <th>linear_trend</th>\n",
       "      <th>medperc90_2p_p</th>\n",
       "      <th>p2p_scatter_2praw</th>\n",
       "      <th>p2p_scatter_over_mad</th>\n",
       "      <th>p2p_scatter_pfold_over_mad</th>\n",
       "      <th>p2p_ssqr_diff_over_var</th>\n",
       "      <th>scatter_res_raw</th>\n",
       "    </tr>\n",
       "  </thead>\n",
       "  <tbody>\n",
       "    <tr>\n",
       "      <th>0</th>\n",
       "      <td>RV-0</td>\n",
       "      <td>True</td>\n",
       "      <td>54.703173</td>\n",
       "      <td>1.133098</td>\n",
       "      <td>6.0</td>\n",
       "      <td>4.0</td>\n",
       "      <td>8.0</td>\n",
       "      <td>21.0</td>\n",
       "      <td>25.0</td>\n",
       "      <td>1.115607</td>\n",
       "      <td>...</td>\n",
       "      <td>1.008862</td>\n",
       "      <td>0.000002</td>\n",
       "      <td>-2.656407e-09</td>\n",
       "      <td>-0.247608</td>\n",
       "      <td>1.079738</td>\n",
       "      <td>3.690841</td>\n",
       "      <td>0.843676</td>\n",
       "      <td>1.563795</td>\n",
       "      <td>0.703888</td>\n",
       "      <td>0.99711</td>\n",
       "    </tr>\n",
       "  </tbody>\n",
       "</table>\n",
       "<p>1 rows × 116 columns</p>\n",
       "</div>"
      ],
      "text/plain": [
       "     ID  Pulsating  frequency  amplitudeRV  all_times_nhist_numpeaks  \\\n",
       "0  RV-0       True  54.703173     1.133098                       6.0   \n",
       "\n",
       "   all_times_nhist_peak1_bin  all_times_nhist_peak2_bin  \\\n",
       "0                        4.0                        8.0   \n",
       "\n",
       "   all_times_nhist_peak3_bin  all_times_nhist_peak4_bin  \\\n",
       "0                       21.0                       25.0   \n",
       "\n",
       "   all_times_nhist_peak_1_to_2  ...  freq_signif_ratio_31  freq_varrat  \\\n",
       "0                     1.115607  ...              1.008862     0.000002   \n",
       "\n",
       "   freq_y_offset  linear_trend  medperc90_2p_p  p2p_scatter_2praw  \\\n",
       "0  -2.656407e-09     -0.247608        1.079738           3.690841   \n",
       "\n",
       "   p2p_scatter_over_mad  p2p_scatter_pfold_over_mad  p2p_ssqr_diff_over_var  \\\n",
       "0              0.843676                    1.563795                0.703888   \n",
       "\n",
       "   scatter_res_raw  \n",
       "0          0.99711  \n",
       "\n",
       "[1 rows x 116 columns]"
      ]
     },
     "execution_count": 89,
     "metadata": {},
     "output_type": "execute_result"
    }
   ],
   "source": [
    "synth_df"
   ]
  },
  {
   "cell_type": "markdown",
   "metadata": {},
   "source": [
    "### Add feature extraction for a second synthetic RV curve, non-pulsating star"
   ]
  },
  {
   "cell_type": "code",
   "execution_count": 90,
   "metadata": {
    "ExecuteTime": {
     "end_time": "2022-04-27T17:47:11.916544Z",
     "start_time": "2022-04-27T17:47:11.854711Z"
    }
   },
   "outputs": [
    {
     "name": "stderr",
     "output_type": "stream",
     "text": [
      "C:\\Users\\ciroe\\anaconda3\\lib\\site-packages\\cesium\\features\\amplitude.py:51: RuntimeWarning: invalid value encountered in double_scalars\n",
      "  return (y_high - y_low) / (y_95 - y_5)\n",
      "C:\\Users\\ciroe\\anaconda3\\lib\\site-packages\\cesium\\features\\amplitude.py:22: RuntimeWarning: invalid value encountered in double_scalars\n",
      "  return max(abs((y_max - y_med) / y_med), abs((y_med - y_min) / y_med))\n",
      "C:\\Users\\ciroe\\anaconda3\\lib\\site-packages\\cesium\\features\\amplitude.py:37: RuntimeWarning: invalid value encountered in double_scalars\n",
      "  return (y_95 - y_5) / y_50\n",
      "C:\\Users\\ciroe\\anaconda3\\lib\\site-packages\\cesium\\features\\lomb_scargle.py:235: RuntimeWarning: invalid value encountered in double_scalars\n",
      "  out_dict['psd'] = psd[j] * 0.5 / varcn\n",
      "C:\\Users\\ciroe\\anaconda3\\lib\\site-packages\\cesium\\features\\lomb_scargle.py:278: RuntimeWarning: invalid value encountered in double_scalars\n",
      "  prob = stats.f.sf(0.5 * (ntime - 1. - detrend_order) * (1. -out_dict['chi2'] / out_dict['chi0']), 2, ntime - 1 - detrend_order)\n",
      "C:\\Users\\ciroe\\anaconda3\\lib\\site-packages\\cesium\\features\\qso_model.py:255: RuntimeWarning: divide by zero encountered in double_scalars\n",
      "  out_dict['chi2qso_nu_nuNULL_ratio'] = out_dict['chi2_qso/nu'] / out_dict['chi2_qso/nu_NULL']\n",
      "C:\\Users\\ciroe\\anaconda3\\lib\\site-packages\\cesium\\features\\qso_model.py:261: RuntimeWarning: divide by zero encountered in log\n",
      "  out_dict['log_chi2nuNULL_chi2nu'] = np.log(out_dict['chi2_qso/nu_NULL'] / out_dict['chi2_qso/nu'])\n",
      "C:\\Users\\ciroe\\anaconda3\\lib\\site-packages\\cesium\\features\\num_alias.py:32: RuntimeWarning: divide by zero encountered in double_scalars\n",
      "  cutoff = (a['alpha_1'] / np.power(np.abs(period - a['per']), 0.25)\n",
      "C:\\Users\\ciroe\\anaconda3\\lib\\site-packages\\cesium\\features\\cadence_features.py:12: RuntimeWarning: divide by zero encountered in true_divide\n",
      "  return (cads[2:] + cads[:-2]) / (cads[1:-1] - cads[:-2])\n",
      "C:\\Users\\ciroe\\anaconda3\\lib\\site-packages\\cesium\\features\\period_folding.py:87: RuntimeWarning: invalid value encountered in double_scalars\n",
      "  out_dict['scatter_2praw'] = sumsqr_diff_2per_fold / sumsqr_diff_unfold\n",
      "C:\\Users\\ciroe\\anaconda3\\lib\\site-packages\\cesium\\features\\period_folding.py:88: RuntimeWarning: invalid value encountered in double_scalars\n",
      "  out_dict['scatter_over_mad'] = median_diff / mad\n",
      "C:\\Users\\ciroe\\anaconda3\\lib\\site-packages\\cesium\\features\\period_folding.py:91: RuntimeWarning: invalid value encountered in double_scalars\n",
      "  out_dict['scatter_pfold_over_mad'] = median_1per_fold_diff / mad\n",
      "C:\\Users\\ciroe\\anaconda3\\lib\\site-packages\\numpy\\core\\_methods.py:229: RuntimeWarning: invalid value encountered in subtract\n",
      "  x = asanyarray(arr - arrmean)\n"
     ]
    }
   ],
   "source": [
    "rv_idx = 2\n",
    "# Get metafeatures values:\n",
    "metadata_synth_idx = ['ID', 'Pulsating', 'frequency', 'amplitudeRV'] # TO BE DEFINED AT THE START OF THE LOOP\n",
    "metadata_synth_values = list(synth.loc[rv_idx, metadata_synth_idx])\n",
    "# load RV file:\n",
    "rv_filename = SINTHETIC_FOLDER + synth.loc[rv_idx, 'ds1_file'].replace(\"./RV_DATASETS/\", \"\") # TRICKY...\n",
    "rv = pd.read_csv(rv_filename, sep=' ', decimal='.',\n",
    "                 names=['time', 'rv'])\n",
    "# Create TimeSeries object:\n",
    "ts = TimeSeries(t=rv['time'], m=rv['rv'])\n",
    "# Featurize the time series:\n",
    "cs = featurize_single_ts(ts, features_to_use=ALL_CS_FEATURES)\n",
    "# Join metadata and features for the dataframe:\n",
    "indices = metadata_synth_idx + list(cs.index.get_level_values('feature'))\n",
    "values = metadata_synth_values + list(cs.values)\n",
    "# Create a new DataFrame (with the first item):\n",
    "new_df = pd.DataFrame(data=[values], columns=indices)\n",
    "# Append the new dataframe to the existing one:\n",
    "synth_df = synth_df.append(new_df, ignore_index=True)\n"
   ]
  },
  {
   "cell_type": "code",
   "execution_count": 91,
   "metadata": {
    "ExecuteTime": {
     "end_time": "2022-04-27T17:47:12.612851Z",
     "start_time": "2022-04-27T17:47:12.582907Z"
    }
   },
   "outputs": [
    {
     "data": {
      "text/html": [
       "<div>\n",
       "<style scoped>\n",
       "    .dataframe tbody tr th:only-of-type {\n",
       "        vertical-align: middle;\n",
       "    }\n",
       "\n",
       "    .dataframe tbody tr th {\n",
       "        vertical-align: top;\n",
       "    }\n",
       "\n",
       "    .dataframe thead th {\n",
       "        text-align: right;\n",
       "    }\n",
       "</style>\n",
       "<table border=\"1\" class=\"dataframe\">\n",
       "  <thead>\n",
       "    <tr style=\"text-align: right;\">\n",
       "      <th></th>\n",
       "      <th>ID</th>\n",
       "      <th>Pulsating</th>\n",
       "      <th>frequency</th>\n",
       "      <th>amplitudeRV</th>\n",
       "      <th>all_times_nhist_numpeaks</th>\n",
       "      <th>all_times_nhist_peak1_bin</th>\n",
       "      <th>all_times_nhist_peak2_bin</th>\n",
       "      <th>all_times_nhist_peak3_bin</th>\n",
       "      <th>all_times_nhist_peak4_bin</th>\n",
       "      <th>all_times_nhist_peak_1_to_2</th>\n",
       "      <th>...</th>\n",
       "      <th>freq_signif_ratio_31</th>\n",
       "      <th>freq_varrat</th>\n",
       "      <th>freq_y_offset</th>\n",
       "      <th>linear_trend</th>\n",
       "      <th>medperc90_2p_p</th>\n",
       "      <th>p2p_scatter_2praw</th>\n",
       "      <th>p2p_scatter_over_mad</th>\n",
       "      <th>p2p_scatter_pfold_over_mad</th>\n",
       "      <th>p2p_ssqr_diff_over_var</th>\n",
       "      <th>scatter_res_raw</th>\n",
       "    </tr>\n",
       "  </thead>\n",
       "  <tbody>\n",
       "    <tr>\n",
       "      <th>0</th>\n",
       "      <td>RV-0</td>\n",
       "      <td>True</td>\n",
       "      <td>54.703173</td>\n",
       "      <td>1.133098</td>\n",
       "      <td>6.0</td>\n",
       "      <td>4.0</td>\n",
       "      <td>8.0</td>\n",
       "      <td>21.0</td>\n",
       "      <td>25.0</td>\n",
       "      <td>1.115607</td>\n",
       "      <td>...</td>\n",
       "      <td>1.008862</td>\n",
       "      <td>1.552702e-06</td>\n",
       "      <td>-2.656407e-09</td>\n",
       "      <td>-2.476085e-01</td>\n",
       "      <td>1.079738</td>\n",
       "      <td>3.690841</td>\n",
       "      <td>0.843676</td>\n",
       "      <td>1.563795</td>\n",
       "      <td>0.703888</td>\n",
       "      <td>0.99711</td>\n",
       "    </tr>\n",
       "    <tr>\n",
       "      <th>1</th>\n",
       "      <td>RV-2</td>\n",
       "      <td>False</td>\n",
       "      <td>0.000000</td>\n",
       "      <td>0.000000</td>\n",
       "      <td>1.0</td>\n",
       "      <td>NaN</td>\n",
       "      <td>NaN</td>\n",
       "      <td>NaN</td>\n",
       "      <td>NaN</td>\n",
       "      <td>NaN</td>\n",
       "      <td>...</td>\n",
       "      <td>NaN</td>\n",
       "      <td>1.596939e-32</td>\n",
       "      <td>0.000000e+00</td>\n",
       "      <td>7.677770e-23</td>\n",
       "      <td>NaN</td>\n",
       "      <td>NaN</td>\n",
       "      <td>NaN</td>\n",
       "      <td>NaN</td>\n",
       "      <td>0.000000</td>\n",
       "      <td>NaN</td>\n",
       "    </tr>\n",
       "  </tbody>\n",
       "</table>\n",
       "<p>2 rows × 116 columns</p>\n",
       "</div>"
      ],
      "text/plain": [
       "     ID  Pulsating  frequency  amplitudeRV  all_times_nhist_numpeaks  \\\n",
       "0  RV-0       True  54.703173     1.133098                       6.0   \n",
       "1  RV-2      False   0.000000     0.000000                       1.0   \n",
       "\n",
       "   all_times_nhist_peak1_bin  all_times_nhist_peak2_bin  \\\n",
       "0                        4.0                        8.0   \n",
       "1                        NaN                        NaN   \n",
       "\n",
       "   all_times_nhist_peak3_bin  all_times_nhist_peak4_bin  \\\n",
       "0                       21.0                       25.0   \n",
       "1                        NaN                        NaN   \n",
       "\n",
       "   all_times_nhist_peak_1_to_2  ...  freq_signif_ratio_31   freq_varrat  \\\n",
       "0                     1.115607  ...              1.008862  1.552702e-06   \n",
       "1                          NaN  ...                   NaN  1.596939e-32   \n",
       "\n",
       "   freq_y_offset  linear_trend  medperc90_2p_p  p2p_scatter_2praw  \\\n",
       "0  -2.656407e-09 -2.476085e-01        1.079738           3.690841   \n",
       "1   0.000000e+00  7.677770e-23             NaN                NaN   \n",
       "\n",
       "   p2p_scatter_over_mad  p2p_scatter_pfold_over_mad  p2p_ssqr_diff_over_var  \\\n",
       "0              0.843676                    1.563795                0.703888   \n",
       "1                   NaN                         NaN                0.000000   \n",
       "\n",
       "   scatter_res_raw  \n",
       "0          0.99711  \n",
       "1              NaN  \n",
       "\n",
       "[2 rows x 116 columns]"
      ]
     },
     "execution_count": 91,
     "metadata": {},
     "output_type": "execute_result"
    }
   ],
   "source": [
    "synth_df"
   ]
  },
  {
   "cell_type": "markdown",
   "metadata": {},
   "source": [
    "### Add feature extraction for a third synthetic RV curve, non-pulsating star, but the noisy version"
   ]
  },
  {
   "cell_type": "code",
   "execution_count": 92,
   "metadata": {
    "ExecuteTime": {
     "end_time": "2022-04-27T17:47:14.337898Z",
     "start_time": "2022-04-27T17:47:14.278057Z"
    }
   },
   "outputs": [
    {
     "name": "stderr",
     "output_type": "stream",
     "text": [
      "C:\\Users\\ciroe\\anaconda3\\lib\\site-packages\\cesium\\features\\amplitude.py:51: RuntimeWarning: invalid value encountered in double_scalars\n",
      "  return (y_high - y_low) / (y_95 - y_5)\n",
      "C:\\Users\\ciroe\\anaconda3\\lib\\site-packages\\cesium\\features\\amplitude.py:22: RuntimeWarning: invalid value encountered in double_scalars\n",
      "  return max(abs((y_max - y_med) / y_med), abs((y_med - y_min) / y_med))\n",
      "C:\\Users\\ciroe\\anaconda3\\lib\\site-packages\\cesium\\features\\amplitude.py:37: RuntimeWarning: invalid value encountered in double_scalars\n",
      "  return (y_95 - y_5) / y_50\n",
      "C:\\Users\\ciroe\\anaconda3\\lib\\site-packages\\cesium\\features\\num_alias.py:32: RuntimeWarning: divide by zero encountered in double_scalars\n",
      "  cutoff = (a['alpha_1'] / np.power(np.abs(period - a['per']), 0.25)\n",
      "C:\\Users\\ciroe\\anaconda3\\lib\\site-packages\\cesium\\features\\cadence_features.py:12: RuntimeWarning: divide by zero encountered in true_divide\n",
      "  return (cads[2:] + cads[:-2]) / (cads[1:-1] - cads[:-2])\n",
      "C:\\Users\\ciroe\\anaconda3\\lib\\site-packages\\numpy\\core\\_methods.py:229: RuntimeWarning: invalid value encountered in subtract\n",
      "  x = asanyarray(arr - arrmean)\n"
     ]
    }
   ],
   "source": [
    "rv_idx = 2\n",
    "# Get metafeatures values:\n",
    "metadata_synth_idx = ['ID', 'Pulsating', 'frequency', 'amplitudeRV'] # TO BE DEFINED AT THE START OF THE LOOP\n",
    "metadata_synth_values = list(synth.loc[rv_idx, metadata_synth_idx])\n",
    "# load RV file:\n",
    "rv_filename = SINTHETIC_FOLDER + synth.loc[rv_idx, 'ds2_file'].replace(\"./RV_DATASETS/\", \"\") # TRICKY...\n",
    "rv = pd.read_csv(rv_filename, sep=' ', decimal='.',\n",
    "                 names=['time', 'rv'])\n",
    "# Create TimeSeries object:\n",
    "ts = TimeSeries(t=rv['time'], m=rv['rv'])\n",
    "# Featurize the time series:\n",
    "cs = featurize_single_ts(ts, features_to_use=ALL_CS_FEATURES)\n",
    "# Join metadata and features for the dataframe:\n",
    "indices = metadata_synth_idx + list(cs.index.get_level_values('feature'))\n",
    "values = metadata_synth_values + list(cs.values)\n",
    "# Create a new DataFrame (with the first item):\n",
    "new_df = pd.DataFrame(data=[values], columns=indices)\n",
    "# Append the new dataframe to the existing one:\n",
    "synth_df = synth_df.append(new_df, ignore_index=True)\n"
   ]
  },
  {
   "cell_type": "code",
   "execution_count": 93,
   "metadata": {
    "ExecuteTime": {
     "end_time": "2022-04-27T17:47:15.004521Z",
     "start_time": "2022-04-27T17:47:14.982579Z"
    }
   },
   "outputs": [
    {
     "data": {
      "text/html": [
       "<div>\n",
       "<style scoped>\n",
       "    .dataframe tbody tr th:only-of-type {\n",
       "        vertical-align: middle;\n",
       "    }\n",
       "\n",
       "    .dataframe tbody tr th {\n",
       "        vertical-align: top;\n",
       "    }\n",
       "\n",
       "    .dataframe thead th {\n",
       "        text-align: right;\n",
       "    }\n",
       "</style>\n",
       "<table border=\"1\" class=\"dataframe\">\n",
       "  <thead>\n",
       "    <tr style=\"text-align: right;\">\n",
       "      <th></th>\n",
       "      <th>ID</th>\n",
       "      <th>Pulsating</th>\n",
       "      <th>frequency</th>\n",
       "      <th>amplitudeRV</th>\n",
       "      <th>all_times_nhist_numpeaks</th>\n",
       "      <th>all_times_nhist_peak1_bin</th>\n",
       "      <th>all_times_nhist_peak2_bin</th>\n",
       "      <th>all_times_nhist_peak3_bin</th>\n",
       "      <th>all_times_nhist_peak4_bin</th>\n",
       "      <th>all_times_nhist_peak_1_to_2</th>\n",
       "      <th>...</th>\n",
       "      <th>freq_signif_ratio_31</th>\n",
       "      <th>freq_varrat</th>\n",
       "      <th>freq_y_offset</th>\n",
       "      <th>linear_trend</th>\n",
       "      <th>medperc90_2p_p</th>\n",
       "      <th>p2p_scatter_2praw</th>\n",
       "      <th>p2p_scatter_over_mad</th>\n",
       "      <th>p2p_scatter_pfold_over_mad</th>\n",
       "      <th>p2p_ssqr_diff_over_var</th>\n",
       "      <th>scatter_res_raw</th>\n",
       "    </tr>\n",
       "  </thead>\n",
       "  <tbody>\n",
       "    <tr>\n",
       "      <th>0</th>\n",
       "      <td>RV-0</td>\n",
       "      <td>True</td>\n",
       "      <td>54.703173</td>\n",
       "      <td>1.133098</td>\n",
       "      <td>6.0</td>\n",
       "      <td>4.0</td>\n",
       "      <td>8.0</td>\n",
       "      <td>21.0</td>\n",
       "      <td>25.0</td>\n",
       "      <td>1.115607</td>\n",
       "      <td>...</td>\n",
       "      <td>1.008862</td>\n",
       "      <td>1.552702e-06</td>\n",
       "      <td>-2.656407e-09</td>\n",
       "      <td>-2.476085e-01</td>\n",
       "      <td>1.079738</td>\n",
       "      <td>3.690841</td>\n",
       "      <td>0.843676</td>\n",
       "      <td>1.563795</td>\n",
       "      <td>0.703888</td>\n",
       "      <td>0.997110</td>\n",
       "    </tr>\n",
       "    <tr>\n",
       "      <th>1</th>\n",
       "      <td>RV-2</td>\n",
       "      <td>False</td>\n",
       "      <td>0.000000</td>\n",
       "      <td>0.000000</td>\n",
       "      <td>1.0</td>\n",
       "      <td>NaN</td>\n",
       "      <td>NaN</td>\n",
       "      <td>NaN</td>\n",
       "      <td>NaN</td>\n",
       "      <td>NaN</td>\n",
       "      <td>...</td>\n",
       "      <td>NaN</td>\n",
       "      <td>1.596939e-32</td>\n",
       "      <td>0.000000e+00</td>\n",
       "      <td>7.677770e-23</td>\n",
       "      <td>NaN</td>\n",
       "      <td>NaN</td>\n",
       "      <td>NaN</td>\n",
       "      <td>NaN</td>\n",
       "      <td>0.000000</td>\n",
       "      <td>NaN</td>\n",
       "    </tr>\n",
       "    <tr>\n",
       "      <th>2</th>\n",
       "      <td>RV-2</td>\n",
       "      <td>False</td>\n",
       "      <td>0.000000</td>\n",
       "      <td>0.000000</td>\n",
       "      <td>1.0</td>\n",
       "      <td>NaN</td>\n",
       "      <td>NaN</td>\n",
       "      <td>NaN</td>\n",
       "      <td>NaN</td>\n",
       "      <td>NaN</td>\n",
       "      <td>...</td>\n",
       "      <td>0.919410</td>\n",
       "      <td>3.334243e-06</td>\n",
       "      <td>4.095163e-03</td>\n",
       "      <td>-8.241427e-01</td>\n",
       "      <td>1.004691</td>\n",
       "      <td>1.000000</td>\n",
       "      <td>1.850241</td>\n",
       "      <td>1.865297</td>\n",
       "      <td>1.983014</td>\n",
       "      <td>1.018985</td>\n",
       "    </tr>\n",
       "  </tbody>\n",
       "</table>\n",
       "<p>3 rows × 116 columns</p>\n",
       "</div>"
      ],
      "text/plain": [
       "     ID  Pulsating  frequency  amplitudeRV  all_times_nhist_numpeaks  \\\n",
       "0  RV-0       True  54.703173     1.133098                       6.0   \n",
       "1  RV-2      False   0.000000     0.000000                       1.0   \n",
       "2  RV-2      False   0.000000     0.000000                       1.0   \n",
       "\n",
       "   all_times_nhist_peak1_bin  all_times_nhist_peak2_bin  \\\n",
       "0                        4.0                        8.0   \n",
       "1                        NaN                        NaN   \n",
       "2                        NaN                        NaN   \n",
       "\n",
       "   all_times_nhist_peak3_bin  all_times_nhist_peak4_bin  \\\n",
       "0                       21.0                       25.0   \n",
       "1                        NaN                        NaN   \n",
       "2                        NaN                        NaN   \n",
       "\n",
       "   all_times_nhist_peak_1_to_2  ...  freq_signif_ratio_31   freq_varrat  \\\n",
       "0                     1.115607  ...              1.008862  1.552702e-06   \n",
       "1                          NaN  ...                   NaN  1.596939e-32   \n",
       "2                          NaN  ...              0.919410  3.334243e-06   \n",
       "\n",
       "   freq_y_offset  linear_trend  medperc90_2p_p  p2p_scatter_2praw  \\\n",
       "0  -2.656407e-09 -2.476085e-01        1.079738           3.690841   \n",
       "1   0.000000e+00  7.677770e-23             NaN                NaN   \n",
       "2   4.095163e-03 -8.241427e-01        1.004691           1.000000   \n",
       "\n",
       "   p2p_scatter_over_mad  p2p_scatter_pfold_over_mad  p2p_ssqr_diff_over_var  \\\n",
       "0              0.843676                    1.563795                0.703888   \n",
       "1                   NaN                         NaN                0.000000   \n",
       "2              1.850241                    1.865297                1.983014   \n",
       "\n",
       "   scatter_res_raw  \n",
       "0         0.997110  \n",
       "1              NaN  \n",
       "2         1.018985  \n",
       "\n",
       "[3 rows x 116 columns]"
      ]
     },
     "execution_count": 93,
     "metadata": {},
     "output_type": "execute_result"
    }
   ],
   "source": [
    "synth_df"
   ]
  },
  {
   "cell_type": "markdown",
   "metadata": {},
   "source": [
    "### Add the other two versions (DS3 and DS4) of the non-pulsating star"
   ]
  },
  {
   "cell_type": "code",
   "execution_count": 94,
   "metadata": {
    "ExecuteTime": {
     "end_time": "2022-04-27T17:47:17.616922Z",
     "start_time": "2022-04-27T17:47:17.318659Z"
    }
   },
   "outputs": [
    {
     "name": "stderr",
     "output_type": "stream",
     "text": [
      "C:\\Users\\ciroe\\anaconda3\\lib\\site-packages\\cesium\\features\\amplitude.py:51: RuntimeWarning: invalid value encountered in double_scalars\n",
      "  return (y_high - y_low) / (y_95 - y_5)\n",
      "C:\\Users\\ciroe\\anaconda3\\lib\\site-packages\\cesium\\features\\amplitude.py:22: RuntimeWarning: invalid value encountered in double_scalars\n",
      "  return max(abs((y_max - y_med) / y_med), abs((y_med - y_min) / y_med))\n",
      "C:\\Users\\ciroe\\anaconda3\\lib\\site-packages\\cesium\\features\\amplitude.py:37: RuntimeWarning: invalid value encountered in double_scalars\n",
      "  return (y_95 - y_5) / y_50\n",
      "C:\\Users\\ciroe\\anaconda3\\lib\\site-packages\\gatspy\\periodic\\lomb_scargle_fast.py:324: RuntimeWarning: invalid value encountered in true_divide\n",
      "  power = (YC * YC / CC + YS * YS / SS) / YY\n",
      "C:\\Users\\ciroe\\anaconda3\\lib\\site-packages\\gatspy\\periodic\\lomb_scargle_fast.py:324: RuntimeWarning: invalid value encountered in true_divide\n",
      "  power = (YC * YC / CC + YS * YS / SS) / YY\n",
      "C:\\Users\\ciroe\\anaconda3\\lib\\site-packages\\gatspy\\periodic\\lomb_scargle_fast.py:324: RuntimeWarning: invalid value encountered in true_divide\n",
      "  power = (YC * YC / CC + YS * YS / SS) / YY\n",
      "C:\\Users\\ciroe\\anaconda3\\lib\\site-packages\\gatspy\\periodic\\lomb_scargle_fast.py:324: RuntimeWarning: invalid value encountered in true_divide\n",
      "  power = (YC * YC / CC + YS * YS / SS) / YY\n",
      "C:\\Users\\ciroe\\anaconda3\\lib\\site-packages\\gatspy\\periodic\\lomb_scargle_fast.py:324: RuntimeWarning: invalid value encountered in true_divide\n",
      "  power = (YC * YC / CC + YS * YS / SS) / YY\n",
      "C:\\Users\\ciroe\\anaconda3\\lib\\site-packages\\gatspy\\periodic\\lomb_scargle_fast.py:324: RuntimeWarning: invalid value encountered in true_divide\n",
      "  power = (YC * YC / CC + YS * YS / SS) / YY\n",
      "C:\\Users\\ciroe\\anaconda3\\lib\\site-packages\\cesium\\features\\qso_model.py:255: RuntimeWarning: divide by zero encountered in double_scalars\n",
      "  out_dict['chi2qso_nu_nuNULL_ratio'] = out_dict['chi2_qso/nu'] / out_dict['chi2_qso/nu_NULL']\n",
      "C:\\Users\\ciroe\\anaconda3\\lib\\site-packages\\cesium\\features\\qso_model.py:261: RuntimeWarning: divide by zero encountered in log\n",
      "  out_dict['log_chi2nuNULL_chi2nu'] = np.log(out_dict['chi2_qso/nu_NULL'] / out_dict['chi2_qso/nu'])\n",
      "C:\\Users\\ciroe\\anaconda3\\lib\\site-packages\\cesium\\features\\scatter_res_raw.py:13: RuntimeWarning: divide by zero encountered in double_scalars\n",
      "  return (cf.median_absolute_deviation(lomb_resid) /\n",
      "C:\\Users\\ciroe\\anaconda3\\lib\\site-packages\\cesium\\features\\period_folding.py:87: RuntimeWarning: invalid value encountered in double_scalars\n",
      "  out_dict['scatter_2praw'] = sumsqr_diff_2per_fold / sumsqr_diff_unfold\n",
      "C:\\Users\\ciroe\\anaconda3\\lib\\site-packages\\cesium\\features\\period_folding.py:88: RuntimeWarning: invalid value encountered in double_scalars\n",
      "  out_dict['scatter_over_mad'] = median_diff / mad\n",
      "C:\\Users\\ciroe\\anaconda3\\lib\\site-packages\\cesium\\features\\period_folding.py:91: RuntimeWarning: invalid value encountered in double_scalars\n",
      "  out_dict['scatter_pfold_over_mad'] = median_1per_fold_diff / mad\n"
     ]
    }
   ],
   "source": [
    "rv_idx = 2\n",
    "# Get metafeatures values:\n",
    "metadata_synth_idx = ['ID', 'Pulsating', 'frequency', 'amplitudeRV'] # TO BE DEFINED AT THE START OF THE LOOP\n",
    "metadata_synth_values = list(synth.loc[rv_idx, metadata_synth_idx])\n",
    "# load RV file:\n",
    "rv_filename = SINTHETIC_FOLDER + synth.loc[rv_idx, 'ds3_file'].replace(\"./RV_DATASETS/\", \"\") # TRICKY...\n",
    "rv = pd.read_csv(rv_filename, sep=' ', decimal='.',\n",
    "                 names=['time', 'rv'])\n",
    "# Create TimeSeries object:\n",
    "ts = TimeSeries(t=rv['time'], m=rv['rv'])\n",
    "# Featurize the time series:\n",
    "cs = featurize_single_ts(ts, features_to_use=ALL_CS_FEATURES)\n",
    "# Join metadata and features for the dataframe:\n",
    "indices = metadata_synth_idx + list(cs.index.get_level_values('feature'))\n",
    "values = metadata_synth_values + list(cs.values)\n",
    "# Create a new DataFrame (with the first item):\n",
    "new_df = pd.DataFrame(data=[values], columns=indices)\n",
    "# Append the new dataframe to the existing one:\n",
    "synth_df = synth_df.append(new_df, ignore_index=True)\n"
   ]
  },
  {
   "cell_type": "code",
   "execution_count": 95,
   "metadata": {
    "ExecuteTime": {
     "end_time": "2022-04-27T17:47:18.557745Z",
     "start_time": "2022-04-27T17:47:18.326766Z"
    }
   },
   "outputs": [
    {
     "name": "stderr",
     "output_type": "stream",
     "text": [
      "C:\\Users\\ciroe\\anaconda3\\lib\\site-packages\\cesium\\features\\amplitude.py:51: RuntimeWarning: invalid value encountered in double_scalars\n",
      "  return (y_high - y_low) / (y_95 - y_5)\n",
      "C:\\Users\\ciroe\\anaconda3\\lib\\site-packages\\cesium\\features\\amplitude.py:22: RuntimeWarning: invalid value encountered in double_scalars\n",
      "  return max(abs((y_max - y_med) / y_med), abs((y_med - y_min) / y_med))\n",
      "C:\\Users\\ciroe\\anaconda3\\lib\\site-packages\\cesium\\features\\amplitude.py:37: RuntimeWarning: invalid value encountered in double_scalars\n",
      "  return (y_95 - y_5) / y_50\n"
     ]
    }
   ],
   "source": [
    "rv_idx = 2\n",
    "# Get metafeatures values:\n",
    "metadata_synth_idx = ['ID', 'Pulsating', 'frequency', 'amplitudeRV'] # TO BE DEFINED AT THE START OF THE LOOP\n",
    "metadata_synth_values = list(synth.loc[rv_idx, metadata_synth_idx])\n",
    "# load RV file:\n",
    "rv_filename = SINTHETIC_FOLDER + synth.loc[rv_idx, 'ds4_file'].replace(\"./RV_DATASETS/\", \"\") # TRICKY...\n",
    "rv = pd.read_csv(rv_filename, sep=' ', decimal='.',\n",
    "                 names=['time', 'rv'])\n",
    "# Create TimeSeries object:\n",
    "ts = TimeSeries(t=rv['time'], m=rv['rv'])\n",
    "# Featurize the time series:\n",
    "cs = featurize_single_ts(ts, features_to_use=ALL_CS_FEATURES)\n",
    "# Join metadata and features for the dataframe:\n",
    "indices = metadata_synth_idx + list(cs.index.get_level_values('feature'))\n",
    "values = metadata_synth_values + list(cs.values)\n",
    "# Create a new DataFrame (with the first item):\n",
    "new_df = pd.DataFrame(data=[values], columns=indices)\n",
    "# Append the new dataframe to the existing one:\n",
    "synth_df = synth_df.append(new_df, ignore_index=True)\n"
   ]
  },
  {
   "cell_type": "code",
   "execution_count": 96,
   "metadata": {
    "ExecuteTime": {
     "end_time": "2022-04-27T17:47:19.236475Z",
     "start_time": "2022-04-27T17:47:19.215531Z"
    }
   },
   "outputs": [
    {
     "data": {
      "text/html": [
       "<div>\n",
       "<style scoped>\n",
       "    .dataframe tbody tr th:only-of-type {\n",
       "        vertical-align: middle;\n",
       "    }\n",
       "\n",
       "    .dataframe tbody tr th {\n",
       "        vertical-align: top;\n",
       "    }\n",
       "\n",
       "    .dataframe thead th {\n",
       "        text-align: right;\n",
       "    }\n",
       "</style>\n",
       "<table border=\"1\" class=\"dataframe\">\n",
       "  <thead>\n",
       "    <tr style=\"text-align: right;\">\n",
       "      <th></th>\n",
       "      <th>ID</th>\n",
       "      <th>Pulsating</th>\n",
       "      <th>frequency</th>\n",
       "      <th>amplitudeRV</th>\n",
       "      <th>all_times_nhist_numpeaks</th>\n",
       "      <th>all_times_nhist_peak1_bin</th>\n",
       "      <th>all_times_nhist_peak2_bin</th>\n",
       "      <th>all_times_nhist_peak3_bin</th>\n",
       "      <th>all_times_nhist_peak4_bin</th>\n",
       "      <th>all_times_nhist_peak_1_to_2</th>\n",
       "      <th>...</th>\n",
       "      <th>freq_signif_ratio_31</th>\n",
       "      <th>freq_varrat</th>\n",
       "      <th>freq_y_offset</th>\n",
       "      <th>linear_trend</th>\n",
       "      <th>medperc90_2p_p</th>\n",
       "      <th>p2p_scatter_2praw</th>\n",
       "      <th>p2p_scatter_over_mad</th>\n",
       "      <th>p2p_scatter_pfold_over_mad</th>\n",
       "      <th>p2p_ssqr_diff_over_var</th>\n",
       "      <th>scatter_res_raw</th>\n",
       "    </tr>\n",
       "  </thead>\n",
       "  <tbody>\n",
       "    <tr>\n",
       "      <th>0</th>\n",
       "      <td>RV-0</td>\n",
       "      <td>True</td>\n",
       "      <td>54.703173</td>\n",
       "      <td>1.133098</td>\n",
       "      <td>6.0</td>\n",
       "      <td>4.0</td>\n",
       "      <td>8.0</td>\n",
       "      <td>21.0</td>\n",
       "      <td>25.0</td>\n",
       "      <td>1.115607</td>\n",
       "      <td>...</td>\n",
       "      <td>1.008862</td>\n",
       "      <td>1.552702e-06</td>\n",
       "      <td>-2.656407e-09</td>\n",
       "      <td>-2.476085e-01</td>\n",
       "      <td>1.079738</td>\n",
       "      <td>3.690841</td>\n",
       "      <td>0.843676</td>\n",
       "      <td>1.563795</td>\n",
       "      <td>0.703888</td>\n",
       "      <td>0.997110</td>\n",
       "    </tr>\n",
       "    <tr>\n",
       "      <th>1</th>\n",
       "      <td>RV-2</td>\n",
       "      <td>False</td>\n",
       "      <td>0.000000</td>\n",
       "      <td>0.000000</td>\n",
       "      <td>1.0</td>\n",
       "      <td>NaN</td>\n",
       "      <td>NaN</td>\n",
       "      <td>NaN</td>\n",
       "      <td>NaN</td>\n",
       "      <td>NaN</td>\n",
       "      <td>...</td>\n",
       "      <td>NaN</td>\n",
       "      <td>1.596939e-32</td>\n",
       "      <td>0.000000e+00</td>\n",
       "      <td>7.677770e-23</td>\n",
       "      <td>NaN</td>\n",
       "      <td>NaN</td>\n",
       "      <td>NaN</td>\n",
       "      <td>NaN</td>\n",
       "      <td>0.000000</td>\n",
       "      <td>NaN</td>\n",
       "    </tr>\n",
       "    <tr>\n",
       "      <th>2</th>\n",
       "      <td>RV-2</td>\n",
       "      <td>False</td>\n",
       "      <td>0.000000</td>\n",
       "      <td>0.000000</td>\n",
       "      <td>1.0</td>\n",
       "      <td>NaN</td>\n",
       "      <td>NaN</td>\n",
       "      <td>NaN</td>\n",
       "      <td>NaN</td>\n",
       "      <td>NaN</td>\n",
       "      <td>...</td>\n",
       "      <td>0.919410</td>\n",
       "      <td>3.334243e-06</td>\n",
       "      <td>4.095163e-03</td>\n",
       "      <td>-8.241427e-01</td>\n",
       "      <td>1.004691</td>\n",
       "      <td>1.000000</td>\n",
       "      <td>1.850241</td>\n",
       "      <td>1.865297</td>\n",
       "      <td>1.983014</td>\n",
       "      <td>1.018985</td>\n",
       "    </tr>\n",
       "    <tr>\n",
       "      <th>3</th>\n",
       "      <td>RV-2</td>\n",
       "      <td>False</td>\n",
       "      <td>0.000000</td>\n",
       "      <td>0.000000</td>\n",
       "      <td>7.0</td>\n",
       "      <td>9.0</td>\n",
       "      <td>16.0</td>\n",
       "      <td>26.0</td>\n",
       "      <td>43.0</td>\n",
       "      <td>1.500000</td>\n",
       "      <td>...</td>\n",
       "      <td>0.234772</td>\n",
       "      <td>2.705583e-29</td>\n",
       "      <td>2.533625e-09</td>\n",
       "      <td>-4.249476e-15</td>\n",
       "      <td>0.231209</td>\n",
       "      <td>NaN</td>\n",
       "      <td>NaN</td>\n",
       "      <td>NaN</td>\n",
       "      <td>0.000000</td>\n",
       "      <td>inf</td>\n",
       "    </tr>\n",
       "    <tr>\n",
       "      <th>4</th>\n",
       "      <td>RV-2</td>\n",
       "      <td>False</td>\n",
       "      <td>0.000000</td>\n",
       "      <td>0.000000</td>\n",
       "      <td>7.0</td>\n",
       "      <td>9.0</td>\n",
       "      <td>16.0</td>\n",
       "      <td>26.0</td>\n",
       "      <td>43.0</td>\n",
       "      <td>1.500000</td>\n",
       "      <td>...</td>\n",
       "      <td>1.054615</td>\n",
       "      <td>7.665963e-07</td>\n",
       "      <td>-2.784362e-01</td>\n",
       "      <td>-2.093587e-05</td>\n",
       "      <td>2.378014</td>\n",
       "      <td>0.525475</td>\n",
       "      <td>1.635725</td>\n",
       "      <td>1.185163</td>\n",
       "      <td>1.966647</td>\n",
       "      <td>0.141466</td>\n",
       "    </tr>\n",
       "  </tbody>\n",
       "</table>\n",
       "<p>5 rows × 116 columns</p>\n",
       "</div>"
      ],
      "text/plain": [
       "     ID  Pulsating  frequency  amplitudeRV  all_times_nhist_numpeaks  \\\n",
       "0  RV-0       True  54.703173     1.133098                       6.0   \n",
       "1  RV-2      False   0.000000     0.000000                       1.0   \n",
       "2  RV-2      False   0.000000     0.000000                       1.0   \n",
       "3  RV-2      False   0.000000     0.000000                       7.0   \n",
       "4  RV-2      False   0.000000     0.000000                       7.0   \n",
       "\n",
       "   all_times_nhist_peak1_bin  all_times_nhist_peak2_bin  \\\n",
       "0                        4.0                        8.0   \n",
       "1                        NaN                        NaN   \n",
       "2                        NaN                        NaN   \n",
       "3                        9.0                       16.0   \n",
       "4                        9.0                       16.0   \n",
       "\n",
       "   all_times_nhist_peak3_bin  all_times_nhist_peak4_bin  \\\n",
       "0                       21.0                       25.0   \n",
       "1                        NaN                        NaN   \n",
       "2                        NaN                        NaN   \n",
       "3                       26.0                       43.0   \n",
       "4                       26.0                       43.0   \n",
       "\n",
       "   all_times_nhist_peak_1_to_2  ...  freq_signif_ratio_31   freq_varrat  \\\n",
       "0                     1.115607  ...              1.008862  1.552702e-06   \n",
       "1                          NaN  ...                   NaN  1.596939e-32   \n",
       "2                          NaN  ...              0.919410  3.334243e-06   \n",
       "3                     1.500000  ...              0.234772  2.705583e-29   \n",
       "4                     1.500000  ...              1.054615  7.665963e-07   \n",
       "\n",
       "   freq_y_offset  linear_trend  medperc90_2p_p  p2p_scatter_2praw  \\\n",
       "0  -2.656407e-09 -2.476085e-01        1.079738           3.690841   \n",
       "1   0.000000e+00  7.677770e-23             NaN                NaN   \n",
       "2   4.095163e-03 -8.241427e-01        1.004691           1.000000   \n",
       "3   2.533625e-09 -4.249476e-15        0.231209                NaN   \n",
       "4  -2.784362e-01 -2.093587e-05        2.378014           0.525475   \n",
       "\n",
       "   p2p_scatter_over_mad  p2p_scatter_pfold_over_mad  p2p_ssqr_diff_over_var  \\\n",
       "0              0.843676                    1.563795                0.703888   \n",
       "1                   NaN                         NaN                0.000000   \n",
       "2              1.850241                    1.865297                1.983014   \n",
       "3                   NaN                         NaN                0.000000   \n",
       "4              1.635725                    1.185163                1.966647   \n",
       "\n",
       "   scatter_res_raw  \n",
       "0         0.997110  \n",
       "1              NaN  \n",
       "2         1.018985  \n",
       "3              inf  \n",
       "4         0.141466  \n",
       "\n",
       "[5 rows x 116 columns]"
      ]
     },
     "execution_count": 96,
     "metadata": {},
     "output_type": "execute_result"
    }
   ],
   "source": [
    "synth_df"
   ]
  },
  {
   "cell_type": "markdown",
   "metadata": {
    "ExecuteTime": {
     "end_time": "2022-04-27T17:37:13.822163Z",
     "start_time": "2022-04-27T17:37:13.804210Z"
    }
   },
   "source": [
    "**OBSERVATION:** be careful, there seems to be some infinite values returned for some curves."
   ]
  },
  {
   "cell_type": "markdown",
   "metadata": {},
   "source": [
    "### Save the result"
   ]
  },
  {
   "cell_type": "code",
   "execution_count": 97,
   "metadata": {
    "ExecuteTime": {
     "end_time": "2022-04-27T17:47:22.401786Z",
     "start_time": "2022-04-27T17:47:22.390843Z"
    }
   },
   "outputs": [],
   "source": [
    "synth_df.to_csv(\"TEST_SYNTH_featurized.csv\", sep=',', decimal='.', index=None)"
   ]
  },
  {
   "cell_type": "markdown",
   "metadata": {},
   "source": [
    "## Summary"
   ]
  },
  {
   "cell_type": "markdown",
   "metadata": {},
   "source": [
    "**CONCLUSIONS:**\n",
    "- Extracting the features from the RV curves seem pretty straightforward.\n",
    "- Some aspects must be remembered, though:\n",
    "  - Warnings must be silenced. If not, a lot of output will be generated.\n",
    "  - Be aware that some features report infinite values in some cases: this must be taken into account for the future ML models.\n",
    "  - We should also include a \"valid/not_valid\" flag, in case something wrong happens, and add the record anyway. For DS1-DS4 this will be important to keep exactly the same number of objects and in the same order throughout the four synthetic datasets.\n",
    "  - Use the same approach as we did with the GLS: save the file very often, so that we can resume later by just changing the loop range, in case something wrong happens.\n"
   ]
  },
  {
   "cell_type": "code",
   "execution_count": null,
   "metadata": {},
   "outputs": [],
   "source": []
  }
 ],
 "metadata": {
  "kernelspec": {
   "display_name": "Python 3",
   "language": "python",
   "name": "python3"
  },
  "language_info": {
   "codemirror_mode": {
    "name": "ipython",
    "version": 3
   },
   "file_extension": ".py",
   "mimetype": "text/x-python",
   "name": "python",
   "nbconvert_exporter": "python",
   "pygments_lexer": "ipython3",
   "version": "3.8.8"
  },
  "toc": {
   "base_numbering": 1,
   "nav_menu": {},
   "number_sections": true,
   "sideBar": true,
   "skip_h1_title": true,
   "title_cell": "Tabla de contenidos",
   "title_sidebar": "Contenidos",
   "toc_cell": false,
   "toc_position": {
    "height": "calc(100% - 180px)",
    "left": "10px",
    "top": "150px",
    "width": "231.2px"
   },
   "toc_section_display": true,
   "toc_window_display": true
  }
 },
 "nbformat": 4,
 "nbformat_minor": 2
}
