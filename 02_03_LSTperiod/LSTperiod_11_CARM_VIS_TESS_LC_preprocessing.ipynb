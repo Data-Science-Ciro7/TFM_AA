{
 "cells": [
  {
   "cell_type": "markdown",
   "id": "6eadc670",
   "metadata": {},
   "source": [
    "# CARM_VIS TESS LC PREPROCESSING FOR `LSTperiod`"
   ]
  },
  {
   "cell_type": "markdown",
   "id": "6d99f738",
   "metadata": {},
   "source": [
    "This notebook preprocesses the TESS LC present in the CARM_VIS dataset to generate the proper datafiles for `LSTperiod`.\n",
    "\n",
    "**IMPORTANT NOTE:** `LSTperiod` is based on Lomb-Scargle periodograms (as opposed to Generalized Lomb-Scargle periodograms), which means that it does not work well with curves with an offset value (i.e. not centered around the 0 value). Hence, for each light curve we must substract the median value before saving it with the proper format. The use of the median value instead of the mean value is to prevent outliers (be it stellar flares or just measurement errors) to greatly affect that mean, and hence the centering of the resulting curve."
   ]
  },
  {
   "cell_type": "markdown",
   "id": "9f6d4490",
   "metadata": {},
   "source": [
    "## Modules and configuration"
   ]
  },
  {
   "cell_type": "markdown",
   "id": "ba00ae4b",
   "metadata": {},
   "source": [
    "### Modules"
   ]
  },
  {
   "cell_type": "code",
   "execution_count": 10,
   "id": "f0a61d8e",
   "metadata": {
    "ExecuteTime": {
     "end_time": "2022-10-23T16:01:29.748877Z",
     "start_time": "2022-10-23T16:01:29.733884Z"
    }
   },
   "outputs": [],
   "source": [
    "import pandas as pd\n",
    "import numpy as np\n",
    "\n",
    "import lightkurve as lk"
   ]
  },
  {
   "cell_type": "markdown",
   "id": "7946fb45",
   "metadata": {},
   "source": [
    "### Configuration"
   ]
  },
  {
   "cell_type": "code",
   "execution_count": 11,
   "id": "d233a74f",
   "metadata": {
    "ExecuteTime": {
     "end_time": "2022-10-23T16:01:30.577178Z",
     "start_time": "2022-10-23T16:01:30.573178Z"
    }
   },
   "outputs": [],
   "source": [
    "# FILES AND FOLDERS:\n",
    "GTO_FILE = \"../data/SELECTION_for_PG_CARM_VIS_objects_with_PG.csv\"\n",
    "TARGET_FOLDER = \"./CARM_VIS_TESS_LC_LSTperiod/\"\n"
   ]
  },
  {
   "cell_type": "markdown",
   "id": "dbeb2ffc",
   "metadata": {},
   "source": [
    "### Functions"
   ]
  },
  {
   "cell_type": "code",
   "execution_count": 12,
   "id": "a8c45eff",
   "metadata": {
    "ExecuteTime": {
     "end_time": "2022-10-23T16:01:31.305403Z",
     "start_time": "2022-10-23T16:01:31.301415Z"
    }
   },
   "outputs": [],
   "source": [
    "def tess_lc_load(filename: str):\n",
    "    '''Load the TESS LC file and returns a lightcurve object with just the three relevant columns\n",
    "    Note: it seems to be necessary to drop 'nan' values for GLS to work properly.'''\n",
    "    lc_lk = lk.read(filename).remove_nans()\n",
    "    return lc_lk"
   ]
  },
  {
   "cell_type": "markdown",
   "id": "2acb43b9",
   "metadata": {},
   "source": [
    "## CARM_VIS objects file load"
   ]
  },
  {
   "cell_type": "code",
   "execution_count": 13,
   "id": "692ef599",
   "metadata": {
    "ExecuteTime": {
     "end_time": "2022-10-23T16:01:32.124379Z",
     "start_time": "2022-10-23T16:01:32.069330Z"
    }
   },
   "outputs": [
    {
     "data": {
      "text/html": [
       "<div>\n",
       "<style scoped>\n",
       "    .dataframe tbody tr th:only-of-type {\n",
       "        vertical-align: middle;\n",
       "    }\n",
       "\n",
       "    .dataframe tbody tr th {\n",
       "        vertical-align: top;\n",
       "    }\n",
       "\n",
       "    .dataframe thead th {\n",
       "        text-align: right;\n",
       "    }\n",
       "</style>\n",
       "<table border=\"1\" class=\"dataframe\">\n",
       "  <thead>\n",
       "    <tr style=\"text-align: right;\">\n",
       "      <th></th>\n",
       "      <th>Karmn</th>\n",
       "      <th>Name</th>\n",
       "      <th>Comp</th>\n",
       "      <th>GJ</th>\n",
       "      <th>RA_J2016_deg</th>\n",
       "      <th>DE_J2016_deg</th>\n",
       "      <th>RA_J2000</th>\n",
       "      <th>DE_J2000</th>\n",
       "      <th>l_J2016_deg</th>\n",
       "      <th>b_J2016_deg</th>\n",
       "      <th>...</th>\n",
       "      <th>WF_offset_PG_TESS</th>\n",
       "      <th>WF_e_offset_PG_TESS</th>\n",
       "      <th>WF_FAP_PG_TESS</th>\n",
       "      <th>WF_valid_PG_TESS</th>\n",
       "      <th>WF_error_PG_TESS</th>\n",
       "      <th>WF_elapsed_time_PG_TESS</th>\n",
       "      <th>WF_plain_file_TESS</th>\n",
       "      <th>WF_fig_file_TESS</th>\n",
       "      <th>PG_file_RV</th>\n",
       "      <th>PG_file_TESS</th>\n",
       "    </tr>\n",
       "  </thead>\n",
       "  <tbody>\n",
       "    <tr>\n",
       "      <th>0</th>\n",
       "      <td>J23548+385</td>\n",
       "      <td>RX J2354.8+3831</td>\n",
       "      <td>-</td>\n",
       "      <td>NaN</td>\n",
       "      <td>358.713658</td>\n",
       "      <td>38.526340</td>\n",
       "      <td>23:54:51.46</td>\n",
       "      <td>+38:31:36.2</td>\n",
       "      <td>110.941908</td>\n",
       "      <td>-23.024449</td>\n",
       "      <td>...</td>\n",
       "      <td>999.999756</td>\n",
       "      <td>2.151008e-06</td>\n",
       "      <td>1.0</td>\n",
       "      <td>1.0</td>\n",
       "      <td>NaN</td>\n",
       "      <td>94.758838</td>\n",
       "      <td>../data/CARM_VIS_TESS_WinFunc_PGs/WF_J23548+38...</td>\n",
       "      <td>../data/CARM_VIS_TESS_WinFunc_PGs/figures/WF_J...</td>\n",
       "      <td>../data/CARM_VIS_RVs_PGs/J23548+385_RV_PG.dat</td>\n",
       "      <td>../data/CARM_VIS_TESS_PGs/J23548+385_RV_PG.dat</td>\n",
       "    </tr>\n",
       "    <tr>\n",
       "      <th>1</th>\n",
       "      <td>J23505-095</td>\n",
       "      <td>LP 763-012</td>\n",
       "      <td>-</td>\n",
       "      <td>4367</td>\n",
       "      <td>357.634705</td>\n",
       "      <td>-9.560964</td>\n",
       "      <td>23:50:31.64</td>\n",
       "      <td>-09:33:32.7</td>\n",
       "      <td>80.777067</td>\n",
       "      <td>-67.303426</td>\n",
       "      <td>...</td>\n",
       "      <td>1000.000122</td>\n",
       "      <td>9.022946e-07</td>\n",
       "      <td>1.0</td>\n",
       "      <td>1.0</td>\n",
       "      <td>NaN</td>\n",
       "      <td>132.607176</td>\n",
       "      <td>../data/CARM_VIS_TESS_WinFunc_PGs/WF_J23505-09...</td>\n",
       "      <td>../data/CARM_VIS_TESS_WinFunc_PGs/figures/WF_J...</td>\n",
       "      <td>../data/CARM_VIS_RVs_PGs/J23505-095_RV_PG.dat</td>\n",
       "      <td>../data/CARM_VIS_TESS_PGs/J23505-095_RV_PG.dat</td>\n",
       "    </tr>\n",
       "    <tr>\n",
       "      <th>2</th>\n",
       "      <td>J23431+365</td>\n",
       "      <td>GJ 1289</td>\n",
       "      <td>-</td>\n",
       "      <td>1289</td>\n",
       "      <td>355.781509</td>\n",
       "      <td>36.536310</td>\n",
       "      <td>23:43:06.31</td>\n",
       "      <td>+36:32:13.1</td>\n",
       "      <td>107.922839</td>\n",
       "      <td>-24.336479</td>\n",
       "      <td>...</td>\n",
       "      <td>999.999512</td>\n",
       "      <td>4.306074e-06</td>\n",
       "      <td>1.0</td>\n",
       "      <td>1.0</td>\n",
       "      <td>NaN</td>\n",
       "      <td>97.939914</td>\n",
       "      <td>../data/CARM_VIS_TESS_WinFunc_PGs/WF_J23431+36...</td>\n",
       "      <td>../data/CARM_VIS_TESS_WinFunc_PGs/figures/WF_J...</td>\n",
       "      <td>../data/CARM_VIS_RVs_PGs/J23431+365_RV_PG.dat</td>\n",
       "      <td>../data/CARM_VIS_TESS_PGs/J23431+365_RV_PG.dat</td>\n",
       "    </tr>\n",
       "    <tr>\n",
       "      <th>3</th>\n",
       "      <td>J23381-162</td>\n",
       "      <td>G 273-093</td>\n",
       "      <td>-</td>\n",
       "      <td>4352</td>\n",
       "      <td>354.532687</td>\n",
       "      <td>-16.236514</td>\n",
       "      <td>23:38:08.16</td>\n",
       "      <td>-16:14:10.2</td>\n",
       "      <td>61.845437</td>\n",
       "      <td>-69.825220</td>\n",
       "      <td>...</td>\n",
       "      <td>1000.000122</td>\n",
       "      <td>9.022946e-07</td>\n",
       "      <td>1.0</td>\n",
       "      <td>1.0</td>\n",
       "      <td>NaN</td>\n",
       "      <td>136.603404</td>\n",
       "      <td>../data/CARM_VIS_TESS_WinFunc_PGs/WF_J23381-16...</td>\n",
       "      <td>../data/CARM_VIS_TESS_WinFunc_PGs/figures/WF_J...</td>\n",
       "      <td>../data/CARM_VIS_RVs_PGs/J23381-162_RV_PG.dat</td>\n",
       "      <td>../data/CARM_VIS_TESS_PGs/J23381-162_RV_PG.dat</td>\n",
       "    </tr>\n",
       "    <tr>\n",
       "      <th>4</th>\n",
       "      <td>J23245+578</td>\n",
       "      <td>BD+57 2735</td>\n",
       "      <td>-</td>\n",
       "      <td>895</td>\n",
       "      <td>351.126628</td>\n",
       "      <td>57.853057</td>\n",
       "      <td>23:24:30.51</td>\n",
       "      <td>+57:51:15.5</td>\n",
       "      <td>111.552287</td>\n",
       "      <td>-3.085183</td>\n",
       "      <td>...</td>\n",
       "      <td>999.999512</td>\n",
       "      <td>3.720858e-06</td>\n",
       "      <td>1.0</td>\n",
       "      <td>1.0</td>\n",
       "      <td>NaN</td>\n",
       "      <td>131.327304</td>\n",
       "      <td>../data/CARM_VIS_TESS_WinFunc_PGs/WF_J23245+57...</td>\n",
       "      <td>../data/CARM_VIS_TESS_WinFunc_PGs/figures/WF_J...</td>\n",
       "      <td>../data/CARM_VIS_RVs_PGs/J23245+578_RV_PG.dat</td>\n",
       "      <td>../data/CARM_VIS_TESS_PGs/J23245+578_RV_PG.dat</td>\n",
       "    </tr>\n",
       "  </tbody>\n",
       "</table>\n",
       "<p>5 rows × 300 columns</p>\n",
       "</div>"
      ],
      "text/plain": [
       "        Karmn             Name Comp    GJ  RA_J2016_deg  DE_J2016_deg  \\\n",
       "0  J23548+385  RX J2354.8+3831    -   NaN    358.713658     38.526340   \n",
       "1  J23505-095       LP 763-012    -  4367    357.634705     -9.560964   \n",
       "2  J23431+365          GJ 1289    -  1289    355.781509     36.536310   \n",
       "3  J23381-162        G 273-093    -  4352    354.532687    -16.236514   \n",
       "4  J23245+578       BD+57 2735    -   895    351.126628     57.853057   \n",
       "\n",
       "      RA_J2000     DE_J2000  l_J2016_deg  b_J2016_deg  ... WF_offset_PG_TESS  \\\n",
       "0  23:54:51.46  +38:31:36.2   110.941908   -23.024449  ...        999.999756   \n",
       "1  23:50:31.64  -09:33:32.7    80.777067   -67.303426  ...       1000.000122   \n",
       "2  23:43:06.31  +36:32:13.1   107.922839   -24.336479  ...        999.999512   \n",
       "3  23:38:08.16  -16:14:10.2    61.845437   -69.825220  ...       1000.000122   \n",
       "4  23:24:30.51  +57:51:15.5   111.552287    -3.085183  ...        999.999512   \n",
       "\n",
       "  WF_e_offset_PG_TESS  WF_FAP_PG_TESS WF_valid_PG_TESS  WF_error_PG_TESS  \\\n",
       "0        2.151008e-06             1.0              1.0               NaN   \n",
       "1        9.022946e-07             1.0              1.0               NaN   \n",
       "2        4.306074e-06             1.0              1.0               NaN   \n",
       "3        9.022946e-07             1.0              1.0               NaN   \n",
       "4        3.720858e-06             1.0              1.0               NaN   \n",
       "\n",
       "   WF_elapsed_time_PG_TESS                                 WF_plain_file_TESS  \\\n",
       "0                94.758838  ../data/CARM_VIS_TESS_WinFunc_PGs/WF_J23548+38...   \n",
       "1               132.607176  ../data/CARM_VIS_TESS_WinFunc_PGs/WF_J23505-09...   \n",
       "2                97.939914  ../data/CARM_VIS_TESS_WinFunc_PGs/WF_J23431+36...   \n",
       "3               136.603404  ../data/CARM_VIS_TESS_WinFunc_PGs/WF_J23381-16...   \n",
       "4               131.327304  ../data/CARM_VIS_TESS_WinFunc_PGs/WF_J23245+57...   \n",
       "\n",
       "                                    WF_fig_file_TESS  \\\n",
       "0  ../data/CARM_VIS_TESS_WinFunc_PGs/figures/WF_J...   \n",
       "1  ../data/CARM_VIS_TESS_WinFunc_PGs/figures/WF_J...   \n",
       "2  ../data/CARM_VIS_TESS_WinFunc_PGs/figures/WF_J...   \n",
       "3  ../data/CARM_VIS_TESS_WinFunc_PGs/figures/WF_J...   \n",
       "4  ../data/CARM_VIS_TESS_WinFunc_PGs/figures/WF_J...   \n",
       "\n",
       "                                      PG_file_RV  \\\n",
       "0  ../data/CARM_VIS_RVs_PGs/J23548+385_RV_PG.dat   \n",
       "1  ../data/CARM_VIS_RVs_PGs/J23505-095_RV_PG.dat   \n",
       "2  ../data/CARM_VIS_RVs_PGs/J23431+365_RV_PG.dat   \n",
       "3  ../data/CARM_VIS_RVs_PGs/J23381-162_RV_PG.dat   \n",
       "4  ../data/CARM_VIS_RVs_PGs/J23245+578_RV_PG.dat   \n",
       "\n",
       "                                     PG_file_TESS  \n",
       "0  ../data/CARM_VIS_TESS_PGs/J23548+385_RV_PG.dat  \n",
       "1  ../data/CARM_VIS_TESS_PGs/J23505-095_RV_PG.dat  \n",
       "2  ../data/CARM_VIS_TESS_PGs/J23431+365_RV_PG.dat  \n",
       "3  ../data/CARM_VIS_TESS_PGs/J23381-162_RV_PG.dat  \n",
       "4  ../data/CARM_VIS_TESS_PGs/J23245+578_RV_PG.dat  \n",
       "\n",
       "[5 rows x 300 columns]"
      ]
     },
     "execution_count": 13,
     "metadata": {},
     "output_type": "execute_result"
    }
   ],
   "source": [
    "gto_df = pd.read_csv(GTO_FILE, sep=',', decimal='.')\n",
    "gto_df.head()"
   ]
  },
  {
   "cell_type": "code",
   "execution_count": 14,
   "id": "6485b57b",
   "metadata": {
    "ExecuteTime": {
     "end_time": "2022-10-23T16:01:32.591373Z",
     "start_time": "2022-10-23T16:01:32.573322Z"
    }
   },
   "outputs": [
    {
     "data": {
      "text/plain": [
       "269"
      ]
     },
     "execution_count": 14,
     "metadata": {},
     "output_type": "execute_result"
    }
   ],
   "source": [
    "len(gto_df)"
   ]
  },
  {
   "cell_type": "code",
   "execution_count": 15,
   "id": "e4f95d5e",
   "metadata": {
    "ExecuteTime": {
     "end_time": "2022-10-23T16:01:33.139974Z",
     "start_time": "2022-10-23T16:01:33.132994Z"
    }
   },
   "outputs": [
    {
     "name": "stdout",
     "output_type": "stream",
     "text": [
      "['Karmn', 'Name', 'Comp', 'GJ', 'RA_J2016_deg', 'DE_J2016_deg', 'RA_J2000', 'DE_J2000', 'l_J2016_deg', 'b_J2016_deg', 'Ref01', 'SpT', 'SpTnum', 'Ref02', 'Teff_K', 'eTeff_K', 'logg', 'elogg', '[Fe/H]', 'e[Fe/H]', 'Ref03', 'L_Lsol', 'eL_Lsol', 'Ref04', 'R_Rsol', 'eR_Rsol', 'Ref05', 'M_Msol', 'eM_Msol', 'Ref06', 'muRA_masa-1', 'emuRA_masa-1', 'muDE_masa-1', 'emuDE_masa-1', 'Ref07', 'pi_mas', 'epi_mas', 'Ref08', 'd_pc', 'ed_pc', 'Ref09', 'Vr_kms-1', 'eVr_kms-1', 'Ref10', 'ruwe', 'Ref11', 'U_kms-1', 'eU_kms-1', 'V_kms-1', 'eV_kms-1', 'W_kms-1', 'eW_kms-1', 'Ref12', 'sa_m/s/a', 'esa_m/s/a', 'Ref13', 'SKG', 'Ref14', 'SKG_lit', 'Ref14_lit', 'Pop', 'Ref15', 'vsini_flag', 'vsini_kms-1', 'evsini_kms-1', 'Ref16', 'P_d', 'eP_d', 'Ref17', 'pEWHalpha_A', 'epEWHalpha_A', 'Ref18', 'log(LHalpha/Lbol)', 'elog(LHalpha/Lbol)', 'Ref19', '1RXS', 'CRT_s-1', 'eCRT_s-1', 'HR1', 'eHR1', 'HR2', 'eHR2', 'Flux_X_E-13_ergcm-2s-1', 'eFlux_X_E-13_ergcm-2s-1', 'LX/LJ', 'eLX/LJ', 'Ref20', 'Activity', 'Ref21', 'FUV_mag', 'eFUV_mag', 'NUV_mag', 'eNUV_mag', 'Ref22', 'u_mag', 'eu_mag', 'Ref23', 'BT_mag', 'eBT_mag', 'Ref24', 'B_mag', 'eB_mag', 'Ref25', 'BP_mag', 'eBP_mag', 'Ref26', 'g_mag', 'eg_mag', 'Ref27', 'VT_mag', 'eVT_mag', 'Ref28', 'V_mag', 'eV_mag', 'Ref29', 'Ra_mag', 'Ref30', 'r_mag', 'er_mag', 'Ref31', 'GG_mag', 'eGG_mag', 'Ref32', 'i_mag', 'ei_mag', 'Ref33', 'RP_mag', 'eRP_mag', 'Ref34', 'IN_mag', 'Ref35', 'J_mag', 'eJ_mag', 'H_mag', 'eH_mag', 'Ks_mag', 'eKs_mag', 'QFlag_2M', 'Ref36', 'W1_mag', 'eW1_mag', 'W2_mag', 'eW2_mag', 'W3_mag', 'eW3_mag', 'W4_mag', 'eW4_mag', 'QFlag_WISE', 'Ref37', 'Multiplicity', 'WideWDS', 'Widerho_arcsec', 'eWiderho_arcsec', 'Ref38', 'WideCompanionName', 'WideCompanionSpT', 'CloseWDS', 'Closerho_arcsec', 'eCloserho_arcsec', 'Ref39', 'CloseCompanionSpT', 'RV', 'Planet', 'Ref40', 'PlanetNum', 'LoRes_spectrum', 'HiRes_spectrum', 'LoRes_imaging', 'HiRes_imaging', 'Class', 'Survey', 'Notes', 'Gaia_id_1', '2MASS_id', 'TIC_id', 'Teff_min_K', 'Teff_max_K', 'logg_min', 'logg_max', 'is_GTO', 'rv_file', 'lc_file', 'has_rv', 'has_lc', 'InstBand_nominal', 'InstBand_ranged', 'n_RV', 'Ps_RV', 'fs_RV', 'wmean_RV', 'wrms_RV', 'info_PG_RV', 'maxP_PG_RV', 'maxSNR_PG_RV', 'rms_PG_RV', 'f_PG_RV', 'e_f_PG_RV', 'Pd_PG_RV', 'e_Pd_PG_RV', 'Ph_PG_RV', 'e_Ph_PG_RV', 'Pm_PG_RV', 'e_Pm_PG_RV', 'A_PG_RV', 'e_A_PG_RV', 'ph_PG_RV', 'e_ph_PG_RV', 'T0_PG_RV', 'e_T0_PG_RV', 'offset_PG_RV', 'e_offset_PG_RV', 'FAP_PG_RV', 'valid_PG_RV', 'error_PG_RV', 'elapsed_time_PG_RV', 'fits_file_RV', 'fig_file_RV', 'n_TESS', 'Ps_TESS', 'fs_TESS', 'wmean_TESS', 'wrms_TESS', 'info_PG_TESS', 'maxP_PG_TESS', 'maxSNR_PG_TESS', 'rms_PG_TESS', 'f_PG_TESS', 'e_f_PG_TESS', 'Pd_PG_TESS', 'e_Pd_PG_TESS', 'Ph_PG_TESS', 'e_Ph_PG_TESS', 'Pm_PG_TESS', 'e_Pm_PG_TESS', 'A_PG_TESS', 'e_A_PG_TESS', 'ph_PG_TESS', 'e_ph_PG_TESS', 'T0_PG_TESS', 'e_T0_PG_TESS', 'offset_PG_TESS', 'e_offset_PG_TESS', 'FAP_PG_TESS', 'valid_PG_TESS', 'error_PG_TESS', 'elapsed_time_PG_TESS', 'fits_file_TESS', 'fig_file_TESS', 'WF_maxP_PG_RV', 'WF_maxSNR_PG_RV', 'WF_rms_PG_RV', 'WF_f_PG_RV', 'WF_e_f_PG_RV', 'WF_Pd_PG_RV', 'WF_e_Pd_PG_RV', 'WF_Ph_PG_RV', 'WF_e_Ph_PG_RV', 'WF_Pm_PG_RV', 'WF_e_Pm_PG_RV', 'WF_A_PG_RV', 'WF_e_A_PG_RV', 'WF_ph_PG_RV', 'WF_e_ph_PG_RV', 'WF_T0_PG_RV', 'WF_e_T0_PG_RV', 'WF_offset_PG_RV', 'WF_e_offset_PG_RV', 'WF_FAP_PG_RV', 'WF_valid_PG_RV', 'WF_error_PG_RV', 'WF_elapsed_time_PG_RV', 'WF_plain_file_RV', 'WF_fig_file_RV', 'WF_maxP_PG_TESS', 'WF_maxSNR_PG_TESS', 'WF_rms_PG_TESS', 'WF_f_PG_TESS', 'WF_e_f_PG_TESS', 'WF_Pd_PG_TESS', 'WF_e_Pd_PG_TESS', 'WF_Ph_PG_TESS', 'WF_e_Ph_PG_TESS', 'WF_Pm_PG_TESS', 'WF_e_Pm_PG_TESS', 'WF_A_PG_TESS', 'WF_e_A_PG_TESS', 'WF_ph_PG_TESS', 'WF_e_ph_PG_TESS', 'WF_T0_PG_TESS', 'WF_e_T0_PG_TESS', 'WF_offset_PG_TESS', 'WF_e_offset_PG_TESS', 'WF_FAP_PG_TESS', 'WF_valid_PG_TESS', 'WF_error_PG_TESS', 'WF_elapsed_time_PG_TESS', 'WF_plain_file_TESS', 'WF_fig_file_TESS', 'PG_file_RV', 'PG_file_TESS']\n"
     ]
    }
   ],
   "source": [
    "print(list(gto_df.columns))"
   ]
  },
  {
   "cell_type": "markdown",
   "id": "a3afbccc",
   "metadata": {},
   "source": [
    "## Create and store the relevant files for `LSTperiod`"
   ]
  },
  {
   "cell_type": "markdown",
   "id": "8b252f18",
   "metadata": {},
   "source": [
    "Notice that we use the original TESS light curves to generate the files for LSTperiod, not the data stored in the periodogram calculation result file."
   ]
  },
  {
   "cell_type": "code",
   "execution_count": 16,
   "id": "272d1256",
   "metadata": {
    "ExecuteTime": {
     "end_time": "2022-10-23T16:02:23.306853Z",
     "start_time": "2022-10-23T16:01:42.661570Z"
    }
   },
   "outputs": [
    {
     "name": "stderr",
     "output_type": "stream",
     "text": [
      "Warning: 30% (5871/19412) of the cadences will be ignored due to the quality mask (quality_bitmask=175).\n",
      "Warning: 30% (5871/19412) of the cadences will be ignored due to the quality mask (quality_bitmask=175).\n",
      "Warning: 30% (5871/19412) of the cadences will be ignored due to the quality mask (quality_bitmask=175).\n",
      "Warning: 30% (5871/19412) of the cadences will be ignored due to the quality mask (quality_bitmask=175).\n",
      "Warning: 30% (5871/19412) of the cadences will be ignored due to the quality mask (quality_bitmask=175).\n"
     ]
    }
   ],
   "source": [
    "for i in range(0, len(gto_df)):\n",
    "    lc_filename = \"TESS-\" + gto_df.loc[i, 'Karmn'] + \".dat\" # Target filename for LSTperiod\n",
    "    # Read the LC file:\n",
    "    lc_lk = tess_lc_load(gto_df.loc[i, 'lc_file'])\n",
    "    # Generate the data:\n",
    "    lc_df = pd.DataFrame({'time': lc_lk['time'].value, 'value': lc_lk['flux'].value})\n",
    "    # Remove the offset from the flux:\n",
    "    median_flux = np.nanmedian(lc_df['value'])\n",
    "    lc_df['value'] = lc_df['value'].map(lambda x: x - median_flux)\n",
    "    # Save the file:\n",
    "    lc_df.to_csv(TARGET_FOLDER + lc_filename, sep=' ', decimal='.', header=False, index=False)\n",
    "    "
   ]
  },
  {
   "cell_type": "markdown",
   "id": "b94b7fbe",
   "metadata": {},
   "source": [
    "# Summary"
   ]
  },
  {
   "cell_type": "markdown",
   "id": "6bb41d08",
   "metadata": {
    "ExecuteTime": {
     "end_time": "2022-04-14T10:53:30.704234Z",
     "start_time": "2022-04-14T10:53:30.693289Z"
    }
   },
   "source": [
    "**OBSERVATIONS AND CONCLUSIONS:**\n",
    "- We generated the 269 files of the TESS light curves in the proper format for `LSTperiod`."
   ]
  },
  {
   "cell_type": "code",
   "execution_count": null,
   "id": "0127bb48",
   "metadata": {},
   "outputs": [],
   "source": []
  }
 ],
 "metadata": {
  "kernelspec": {
   "display_name": "Python 3",
   "language": "python",
   "name": "python3"
  },
  "language_info": {
   "codemirror_mode": {
    "name": "ipython",
    "version": 3
   },
   "file_extension": ".py",
   "mimetype": "text/x-python",
   "name": "python",
   "nbconvert_exporter": "python",
   "pygments_lexer": "ipython3",
   "version": "3.8.8"
  },
  "latex_envs": {
   "LaTeX_envs_menu_present": true,
   "autoclose": false,
   "autocomplete": true,
   "bibliofile": "biblio.bib",
   "cite_by": "apalike",
   "current_citInitial": 1,
   "eqLabelWithNumbers": true,
   "eqNumInitial": 1,
   "hotkeys": {
    "equation": "Ctrl-E",
    "itemize": "Ctrl-I"
   },
   "labels_anchors": false,
   "latex_user_defs": false,
   "report_style_numbering": false,
   "user_envs_cfg": false
  },
  "toc": {
   "base_numbering": 1,
   "nav_menu": {},
   "number_sections": true,
   "sideBar": true,
   "skip_h1_title": true,
   "title_cell": "Table of Contents",
   "title_sidebar": "Contents",
   "toc_cell": false,
   "toc_position": {},
   "toc_section_display": true,
   "toc_window_display": true
  }
 },
 "nbformat": 4,
 "nbformat_minor": 5
}
