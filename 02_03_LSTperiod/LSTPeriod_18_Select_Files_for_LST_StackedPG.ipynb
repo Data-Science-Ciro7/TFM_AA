{
 "cells": [
  {
   "cell_type": "markdown",
   "id": "51732ad2",
   "metadata": {},
   "source": [
    "# CARM_VIS AND TESS PG FILES PRESELECTION FOR STACKED PERIODOGRAMS"
   ]
  },
  {
   "cell_type": "markdown",
   "id": "e1e70ae7",
   "metadata": {},
   "source": [
    "This notebook just selects the relevant files for stacked periodogram calculation for both CARMENES and TESS samples, moving the proper files to a new folder.\n",
    "\n",
    "It acts upon the time series files (for _LST Period_) and the PG files (for _Python_ module _stackedPg_).\n",
    "\n",
    "A reference file must be provided to identify the objects to be transferred, as well as the source folder for RV time series and PG files, and their name structure.\n",
    "\n",
    "The destination folders are also provided (they must exist)."
   ]
  },
  {
   "cell_type": "markdown",
   "id": "35b215fa",
   "metadata": {},
   "source": [
    "## Modules and configuration"
   ]
  },
  {
   "cell_type": "markdown",
   "id": "1bfced38",
   "metadata": {},
   "source": [
    "### Modules"
   ]
  },
  {
   "cell_type": "code",
   "execution_count": 1,
   "id": "b698b129",
   "metadata": {
    "ExecuteTime": {
     "end_time": "2023-01-18T18:47:22.053035Z",
     "start_time": "2023-01-18T18:47:21.497389Z"
    }
   },
   "outputs": [],
   "source": [
    "import pandas as pd\n",
    "\n",
    "import shutil\n",
    "\n",
    "from IPython.display import clear_output"
   ]
  },
  {
   "cell_type": "markdown",
   "id": "524b3d8c",
   "metadata": {},
   "source": [
    "### Configuration"
   ]
  },
  {
   "cell_type": "code",
   "execution_count": 14,
   "id": "62c17fa5",
   "metadata": {
    "ExecuteTime": {
     "end_time": "2023-01-18T19:16:01.356303Z",
     "start_time": "2023-01-18T19:16:01.350320Z"
    }
   },
   "outputs": [],
   "source": [
    "#PG_SAMPLE_REF_FILE = \"../data/RV_ForPG_SyntheticDatasets_with_PG.csv\"\n",
    "PG_SAMPLE_REF_FILE = \"../data/SELECTION_for_PG_CARM_VIS_objects_with_PG.csv\"\n",
    "#ID_COL = 'ID' # Column name in the reference file to identify the items to retrieve.\n",
    "ID_COL = 'Karmn' # Column name in the reference file to identify the items to retrieve.\n",
    "\n",
    "RV_INPUT_FOLDER = \"../data/CARM_VIS_RVs/\"\n",
    "RV_FILE_PREFIX = \"\"\n",
    "RV_FILE_SUFFIX = \"\"\n",
    "RV_FILE_EXTENSION = \".avc.dat\"\n",
    "\n",
    "PG_INPUT_FOLDER = \"../data/CARM_VIS_TESS_PGs/\"\n",
    "PG_FILE_PREFIX = \"\"\n",
    "PG_FILE_SUFFIX = \"_TESS_PG\"\n",
    "PG_FILE_EXTENSION = \".dat\"\n",
    "\n",
    "OUTPUT_FOLDER_FOR_LST = \"./PG_subsample_RV_LSTperiod___IGNORE/\"\n",
    "OUTPUT_FOLDER_FOR_STACKED = \"./PG_subsample_TESS_StackedPg/\"\n",
    "\n"
   ]
  },
  {
   "cell_type": "markdown",
   "id": "47fe7daa",
   "metadata": {},
   "source": [
    "## Processing"
   ]
  },
  {
   "cell_type": "markdown",
   "id": "85d73e0b",
   "metadata": {},
   "source": [
    "### Read the reference file and get the list of stars or objects"
   ]
  },
  {
   "cell_type": "code",
   "execution_count": 15,
   "id": "53fad80c",
   "metadata": {
    "ExecuteTime": {
     "end_time": "2023-01-18T19:16:04.526324Z",
     "start_time": "2023-01-18T19:16:04.470443Z"
    }
   },
   "outputs": [
    {
     "data": {
      "text/html": [
       "<div>\n",
       "<style scoped>\n",
       "    .dataframe tbody tr th:only-of-type {\n",
       "        vertical-align: middle;\n",
       "    }\n",
       "\n",
       "    .dataframe tbody tr th {\n",
       "        vertical-align: top;\n",
       "    }\n",
       "\n",
       "    .dataframe thead th {\n",
       "        text-align: right;\n",
       "    }\n",
       "</style>\n",
       "<table border=\"1\" class=\"dataframe\">\n",
       "  <thead>\n",
       "    <tr style=\"text-align: right;\">\n",
       "      <th></th>\n",
       "      <th>Karmn</th>\n",
       "      <th>Name</th>\n",
       "      <th>Comp</th>\n",
       "      <th>GJ</th>\n",
       "      <th>RA_J2016_deg</th>\n",
       "      <th>DE_J2016_deg</th>\n",
       "      <th>RA_J2000</th>\n",
       "      <th>DE_J2000</th>\n",
       "      <th>l_J2016_deg</th>\n",
       "      <th>b_J2016_deg</th>\n",
       "      <th>...</th>\n",
       "      <th>WF_offset_PG_TESS</th>\n",
       "      <th>WF_e_offset_PG_TESS</th>\n",
       "      <th>WF_FAP_PG_TESS</th>\n",
       "      <th>WF_valid_PG_TESS</th>\n",
       "      <th>WF_error_PG_TESS</th>\n",
       "      <th>WF_elapsed_time_PG_TESS</th>\n",
       "      <th>WF_plain_file_TESS</th>\n",
       "      <th>WF_fig_file_TESS</th>\n",
       "      <th>PG_file_RV</th>\n",
       "      <th>PG_file_TESS</th>\n",
       "    </tr>\n",
       "  </thead>\n",
       "  <tbody>\n",
       "    <tr>\n",
       "      <th>0</th>\n",
       "      <td>J23548+385</td>\n",
       "      <td>RX J2354.8+3831</td>\n",
       "      <td>-</td>\n",
       "      <td>NaN</td>\n",
       "      <td>358.713658</td>\n",
       "      <td>38.526340</td>\n",
       "      <td>23:54:51.46</td>\n",
       "      <td>+38:31:36.2</td>\n",
       "      <td>110.941908</td>\n",
       "      <td>-23.024449</td>\n",
       "      <td>...</td>\n",
       "      <td>999.999756</td>\n",
       "      <td>2.151008e-06</td>\n",
       "      <td>1.0</td>\n",
       "      <td>1.0</td>\n",
       "      <td>NaN</td>\n",
       "      <td>94.758838</td>\n",
       "      <td>../data/CARM_VIS_TESS_WinFunc_PGs/WF_J23548+38...</td>\n",
       "      <td>../data/CARM_VIS_TESS_WinFunc_PGs/figures/WF_J...</td>\n",
       "      <td>../data/CARM_VIS_RVs_PGs/J23548+385_RV_PG.dat</td>\n",
       "      <td>../data/CARM_VIS_TESS_PGs/J23548+385_RV_PG.dat</td>\n",
       "    </tr>\n",
       "    <tr>\n",
       "      <th>1</th>\n",
       "      <td>J23505-095</td>\n",
       "      <td>LP 763-012</td>\n",
       "      <td>-</td>\n",
       "      <td>4367</td>\n",
       "      <td>357.634705</td>\n",
       "      <td>-9.560964</td>\n",
       "      <td>23:50:31.64</td>\n",
       "      <td>-09:33:32.7</td>\n",
       "      <td>80.777067</td>\n",
       "      <td>-67.303426</td>\n",
       "      <td>...</td>\n",
       "      <td>1000.000122</td>\n",
       "      <td>9.022946e-07</td>\n",
       "      <td>1.0</td>\n",
       "      <td>1.0</td>\n",
       "      <td>NaN</td>\n",
       "      <td>132.607176</td>\n",
       "      <td>../data/CARM_VIS_TESS_WinFunc_PGs/WF_J23505-09...</td>\n",
       "      <td>../data/CARM_VIS_TESS_WinFunc_PGs/figures/WF_J...</td>\n",
       "      <td>../data/CARM_VIS_RVs_PGs/J23505-095_RV_PG.dat</td>\n",
       "      <td>../data/CARM_VIS_TESS_PGs/J23505-095_RV_PG.dat</td>\n",
       "    </tr>\n",
       "    <tr>\n",
       "      <th>2</th>\n",
       "      <td>J23431+365</td>\n",
       "      <td>GJ 1289</td>\n",
       "      <td>-</td>\n",
       "      <td>1289</td>\n",
       "      <td>355.781509</td>\n",
       "      <td>36.536310</td>\n",
       "      <td>23:43:06.31</td>\n",
       "      <td>+36:32:13.1</td>\n",
       "      <td>107.922839</td>\n",
       "      <td>-24.336479</td>\n",
       "      <td>...</td>\n",
       "      <td>999.999512</td>\n",
       "      <td>4.306074e-06</td>\n",
       "      <td>1.0</td>\n",
       "      <td>1.0</td>\n",
       "      <td>NaN</td>\n",
       "      <td>97.939914</td>\n",
       "      <td>../data/CARM_VIS_TESS_WinFunc_PGs/WF_J23431+36...</td>\n",
       "      <td>../data/CARM_VIS_TESS_WinFunc_PGs/figures/WF_J...</td>\n",
       "      <td>../data/CARM_VIS_RVs_PGs/J23431+365_RV_PG.dat</td>\n",
       "      <td>../data/CARM_VIS_TESS_PGs/J23431+365_RV_PG.dat</td>\n",
       "    </tr>\n",
       "    <tr>\n",
       "      <th>3</th>\n",
       "      <td>J23381-162</td>\n",
       "      <td>G 273-093</td>\n",
       "      <td>-</td>\n",
       "      <td>4352</td>\n",
       "      <td>354.532687</td>\n",
       "      <td>-16.236514</td>\n",
       "      <td>23:38:08.16</td>\n",
       "      <td>-16:14:10.2</td>\n",
       "      <td>61.845437</td>\n",
       "      <td>-69.825220</td>\n",
       "      <td>...</td>\n",
       "      <td>1000.000122</td>\n",
       "      <td>9.022946e-07</td>\n",
       "      <td>1.0</td>\n",
       "      <td>1.0</td>\n",
       "      <td>NaN</td>\n",
       "      <td>136.603404</td>\n",
       "      <td>../data/CARM_VIS_TESS_WinFunc_PGs/WF_J23381-16...</td>\n",
       "      <td>../data/CARM_VIS_TESS_WinFunc_PGs/figures/WF_J...</td>\n",
       "      <td>../data/CARM_VIS_RVs_PGs/J23381-162_RV_PG.dat</td>\n",
       "      <td>../data/CARM_VIS_TESS_PGs/J23381-162_RV_PG.dat</td>\n",
       "    </tr>\n",
       "    <tr>\n",
       "      <th>4</th>\n",
       "      <td>J23245+578</td>\n",
       "      <td>BD+57 2735</td>\n",
       "      <td>-</td>\n",
       "      <td>895</td>\n",
       "      <td>351.126628</td>\n",
       "      <td>57.853057</td>\n",
       "      <td>23:24:30.51</td>\n",
       "      <td>+57:51:15.5</td>\n",
       "      <td>111.552287</td>\n",
       "      <td>-3.085183</td>\n",
       "      <td>...</td>\n",
       "      <td>999.999512</td>\n",
       "      <td>3.720858e-06</td>\n",
       "      <td>1.0</td>\n",
       "      <td>1.0</td>\n",
       "      <td>NaN</td>\n",
       "      <td>131.327304</td>\n",
       "      <td>../data/CARM_VIS_TESS_WinFunc_PGs/WF_J23245+57...</td>\n",
       "      <td>../data/CARM_VIS_TESS_WinFunc_PGs/figures/WF_J...</td>\n",
       "      <td>../data/CARM_VIS_RVs_PGs/J23245+578_RV_PG.dat</td>\n",
       "      <td>../data/CARM_VIS_TESS_PGs/J23245+578_RV_PG.dat</td>\n",
       "    </tr>\n",
       "  </tbody>\n",
       "</table>\n",
       "<p>5 rows × 300 columns</p>\n",
       "</div>"
      ],
      "text/plain": [
       "        Karmn             Name Comp    GJ  RA_J2016_deg  DE_J2016_deg  \\\n",
       "0  J23548+385  RX J2354.8+3831    -   NaN    358.713658     38.526340   \n",
       "1  J23505-095       LP 763-012    -  4367    357.634705     -9.560964   \n",
       "2  J23431+365          GJ 1289    -  1289    355.781509     36.536310   \n",
       "3  J23381-162        G 273-093    -  4352    354.532687    -16.236514   \n",
       "4  J23245+578       BD+57 2735    -   895    351.126628     57.853057   \n",
       "\n",
       "      RA_J2000     DE_J2000  l_J2016_deg  b_J2016_deg  ... WF_offset_PG_TESS  \\\n",
       "0  23:54:51.46  +38:31:36.2   110.941908   -23.024449  ...        999.999756   \n",
       "1  23:50:31.64  -09:33:32.7    80.777067   -67.303426  ...       1000.000122   \n",
       "2  23:43:06.31  +36:32:13.1   107.922839   -24.336479  ...        999.999512   \n",
       "3  23:38:08.16  -16:14:10.2    61.845437   -69.825220  ...       1000.000122   \n",
       "4  23:24:30.51  +57:51:15.5   111.552287    -3.085183  ...        999.999512   \n",
       "\n",
       "  WF_e_offset_PG_TESS  WF_FAP_PG_TESS WF_valid_PG_TESS  WF_error_PG_TESS  \\\n",
       "0        2.151008e-06             1.0              1.0               NaN   \n",
       "1        9.022946e-07             1.0              1.0               NaN   \n",
       "2        4.306074e-06             1.0              1.0               NaN   \n",
       "3        9.022946e-07             1.0              1.0               NaN   \n",
       "4        3.720858e-06             1.0              1.0               NaN   \n",
       "\n",
       "   WF_elapsed_time_PG_TESS                                 WF_plain_file_TESS  \\\n",
       "0                94.758838  ../data/CARM_VIS_TESS_WinFunc_PGs/WF_J23548+38...   \n",
       "1               132.607176  ../data/CARM_VIS_TESS_WinFunc_PGs/WF_J23505-09...   \n",
       "2                97.939914  ../data/CARM_VIS_TESS_WinFunc_PGs/WF_J23431+36...   \n",
       "3               136.603404  ../data/CARM_VIS_TESS_WinFunc_PGs/WF_J23381-16...   \n",
       "4               131.327304  ../data/CARM_VIS_TESS_WinFunc_PGs/WF_J23245+57...   \n",
       "\n",
       "                                    WF_fig_file_TESS  \\\n",
       "0  ../data/CARM_VIS_TESS_WinFunc_PGs/figures/WF_J...   \n",
       "1  ../data/CARM_VIS_TESS_WinFunc_PGs/figures/WF_J...   \n",
       "2  ../data/CARM_VIS_TESS_WinFunc_PGs/figures/WF_J...   \n",
       "3  ../data/CARM_VIS_TESS_WinFunc_PGs/figures/WF_J...   \n",
       "4  ../data/CARM_VIS_TESS_WinFunc_PGs/figures/WF_J...   \n",
       "\n",
       "                                      PG_file_RV  \\\n",
       "0  ../data/CARM_VIS_RVs_PGs/J23548+385_RV_PG.dat   \n",
       "1  ../data/CARM_VIS_RVs_PGs/J23505-095_RV_PG.dat   \n",
       "2  ../data/CARM_VIS_RVs_PGs/J23431+365_RV_PG.dat   \n",
       "3  ../data/CARM_VIS_RVs_PGs/J23381-162_RV_PG.dat   \n",
       "4  ../data/CARM_VIS_RVs_PGs/J23245+578_RV_PG.dat   \n",
       "\n",
       "                                     PG_file_TESS  \n",
       "0  ../data/CARM_VIS_TESS_PGs/J23548+385_RV_PG.dat  \n",
       "1  ../data/CARM_VIS_TESS_PGs/J23505-095_RV_PG.dat  \n",
       "2  ../data/CARM_VIS_TESS_PGs/J23431+365_RV_PG.dat  \n",
       "3  ../data/CARM_VIS_TESS_PGs/J23381-162_RV_PG.dat  \n",
       "4  ../data/CARM_VIS_TESS_PGs/J23245+578_RV_PG.dat  \n",
       "\n",
       "[5 rows x 300 columns]"
      ]
     },
     "execution_count": 15,
     "metadata": {},
     "output_type": "execute_result"
    }
   ],
   "source": [
    "ref = pd.read_csv(PG_SAMPLE_REF_FILE, sep=',', decimal='.')\n",
    "ref.head()"
   ]
  },
  {
   "cell_type": "code",
   "execution_count": 16,
   "id": "6b35193b",
   "metadata": {
    "ExecuteTime": {
     "end_time": "2023-01-18T19:16:05.023857Z",
     "start_time": "2023-01-18T19:16:05.013299Z"
    }
   },
   "outputs": [
    {
     "name": "stdout",
     "output_type": "stream",
     "text": [
      "269 stars\n",
      "['J23548+385', 'J23505-095', 'J23431+365', 'J23381-162', 'J23245+578', 'J22532-142', 'J22468+443', 'J22298+414', 'J22252+594', 'J22231-176', 'J22137-176', 'J22114+409', 'J22102+587', 'J22057+656', 'J22020-194', 'J22012+283', 'J21474+627', 'J21466+668', 'J21463+382', 'J21348+515', 'J21152+257', 'J20533+621', 'J20451-313', 'J20450+444', 'J20336+617', 'J20305+654', 'J20260+585', 'J20198+229', 'J20109+708', 'J19511+464', 'J19251+283', 'J19242+755', 'J19216+208', 'J19206+731S', 'J19084+322', 'J19025+754', 'J18427+596S', 'J18427+596N', 'J18419+318', 'J18363+136', 'J18356+329', 'J18353+457', 'J18346+401', 'J18319+406', 'J18224+620', 'J18189+661', 'J18180+387E', 'J18174+483', 'J18131+260', 'J18022+642', 'J17578+465', 'J17378+185', 'J17364+683', 'J17355+616', 'J17338+169', 'J17198+417', 'J17115+384', 'J17071+215', 'J17033+514', 'J16581+257', 'J16578+473', 'J16462+164', 'J16343+571', 'J16313+408', 'J16254+543', 'J16167+672S', 'J16167+672N', 'J16028+205', 'J15583+354', 'J15499+796', 'J15412+759', 'J15218+209', 'J14544+355', 'J14257+236W', 'J14257+236E', 'J14251+518', 'J14173+454', 'J14152+450', 'J14082+805', 'J13591-198', 'J13582+125', 'J13536+776', 'J13458-179', 'J13457+148', 'J13450+176', 'J13427+332', 'J13299+102', 'J13293+114', 'J13283-023W', 'J13255+688', 'J13229+244', 'J13209+342', 'J13196+333', 'J13119+658', 'J13102+477', 'J13005+056', 'J12479+097', 'J12388+116', 'J12373-208', 'J12350+098', 'J12312+086', 'J12248-182', 'J12230+640', 'J12156+526', 'J12123+544S', 'J12111-199', 'J12100-150', 'J12054+695', 'J11511+352', 'J11509+483', 'J11476+786', 'J11474+667', 'J11467-140', 'J11423+230', 'J11421+267', 'J11417+427', 'J11306-080', 'J11289+101', 'J11201-104', 'J11126+189', 'J11110+304W', 'J11110+304E', 'J11054+435', 'J11044+304', 'J11033+359', 'J11026+219', 'J11000+228', 'J10584-107', 'J10482-113', 'J10416+376', 'J10396-069', 'J10354+694', 'J10350-094', 'J10289+008', 'J10251-102', 'J10238+438', 'J10185-117', 'J10182-204', 'J10167-119', 'J10125+570', 'J10122-037', 'J10088+692', 'J10023+480', 'J09597+472', 'J09561+627', 'J09511-123', 'J09468+760', 'J09449-123', 'J09447-182', 'J09439+269', 'J09428+700', 'J09425+700', 'J09423+559', 'J09360-216', 'J09307+003', 'J09286-121', 'J09163-186', 'J09161+018', 'J09144+526', 'J09143+526', 'J09033+056', 'J09028+680', 'J09005+465', 'J08599+729', 'J08536-034', 'J08526+283', 'J08413+594', 'J08409-234', 'J08402+314', 'J08358+680', 'J08315+730', 'J08298+267', 'J08293+039', 'J08126-215', 'J08119+087', 'J08023+033', 'J07582+413', 'J07558+833', 'J07472+503', 'J07446+035', 'J07403-174', 'J07393+021', 'J07361-031', 'J07319+362N', 'J07287-032', 'J07274+052', 'J07051-101', 'J07044+682', 'J07033+346', 'J07001-190', 'J06574+740', 'J06548+332', 'J06421+035', 'J06396-210', 'J06318+414', 'J06105-218', 'J06103+821', 'J06024+498', 'J06011+595', 'J06000+027', 'J05421+124', 'J05415+534', 'J05394+406', 'J05366+112', 'J05365+113', 'J05360-076', 'J05348+138', 'J05337+019', 'J05314-036', 'J05280+096', 'J05084-210', 'J05062+046', 'J05033-173', 'J05019-069', 'J05019+011', 'J04588+498', 'J04538-177', 'J04520+064', 'J04406-128', 'J04376-110', 'J04376+528', 'J04343+430', 'J04311+589', 'J04225+105', 'J04198+425', 'J04167-120', 'J04153-076', 'J03531+625', 'J03473-019', 'J03473+086', 'J03463+262', 'J03230+420', 'J03217-066', 'J03181+382', 'J03142+286', 'J03133+047', 'J03090+100', 'J02573+765', 'J02565+554W', 'J02560-006', 'J02489-145W', 'J02489-145E', 'J02486+621', 'J02442+255', 'J02362+068', 'J02336+249', 'J02222+478', 'J02123+035', 'J02088+494', 'J02070+496', 'J02015+637', 'J01550+379', 'J01518+644', 'J01352-072', 'J01339-176', 'J01125-169', 'J01066+192', 'J01048-181', 'J01033+623', 'J01026+623', 'J01025+716', 'J01019+541', 'J01013+613', 'J00570+450', 'J00403+612', 'J00389+306', 'J00286-066', 'J00183+440', 'J00051+457']\n"
     ]
    }
   ],
   "source": [
    "star_list = list(ref[ID_COL].unique())\n",
    "print(\"%d stars\" %len(star_list))\n",
    "print(star_list)"
   ]
  },
  {
   "cell_type": "markdown",
   "id": "2da21f9b",
   "metadata": {},
   "source": [
    "### Transfer the files to the proper folder"
   ]
  },
  {
   "cell_type": "markdown",
   "id": "4c661963",
   "metadata": {},
   "source": [
    "#### Transfer RV files for LST period"
   ]
  },
  {
   "cell_type": "code",
   "execution_count": 17,
   "id": "c659b13b",
   "metadata": {
    "ExecuteTime": {
     "end_time": "2023-01-18T19:16:08.906691Z",
     "start_time": "2023-01-18T19:16:08.621453Z"
    },
    "scrolled": true
   },
   "outputs": [
    {
     "name": "stdout",
     "output_type": "stream",
     "text": [
      "Processing record 269 of 269...\n",
      "Copying file ../data/CARM_VIS_RVs/IGNORE___J00051+457___IGNORE.avc.dat...\n",
      "Something went wrong!\n",
      "COMPLETED.\n",
      "*WARNING: the following 269 errors happened:\n",
      "[('J23548+385', FileNotFoundError(2, 'No such file or directory')), ('J23505-095', FileNotFoundError(2, 'No such file or directory')), ('J23431+365', FileNotFoundError(2, 'No such file or directory')), ('J23381-162', FileNotFoundError(2, 'No such file or directory')), ('J23245+578', FileNotFoundError(2, 'No such file or directory')), ('J22532-142', FileNotFoundError(2, 'No such file or directory')), ('J22468+443', FileNotFoundError(2, 'No such file or directory')), ('J22298+414', FileNotFoundError(2, 'No such file or directory')), ('J22252+594', FileNotFoundError(2, 'No such file or directory')), ('J22231-176', FileNotFoundError(2, 'No such file or directory')), ('J22137-176', FileNotFoundError(2, 'No such file or directory')), ('J22114+409', FileNotFoundError(2, 'No such file or directory')), ('J22102+587', FileNotFoundError(2, 'No such file or directory')), ('J22057+656', FileNotFoundError(2, 'No such file or directory')), ('J22020-194', FileNotFoundError(2, 'No such file or directory')), ('J22012+283', FileNotFoundError(2, 'No such file or directory')), ('J21474+627', FileNotFoundError(2, 'No such file or directory')), ('J21466+668', FileNotFoundError(2, 'No such file or directory')), ('J21463+382', FileNotFoundError(2, 'No such file or directory')), ('J21348+515', FileNotFoundError(2, 'No such file or directory')), ('J21152+257', FileNotFoundError(2, 'No such file or directory')), ('J20533+621', FileNotFoundError(2, 'No such file or directory')), ('J20451-313', FileNotFoundError(2, 'No such file or directory')), ('J20450+444', FileNotFoundError(2, 'No such file or directory')), ('J20336+617', FileNotFoundError(2, 'No such file or directory')), ('J20305+654', FileNotFoundError(2, 'No such file or directory')), ('J20260+585', FileNotFoundError(2, 'No such file or directory')), ('J20198+229', FileNotFoundError(2, 'No such file or directory')), ('J20109+708', FileNotFoundError(2, 'No such file or directory')), ('J19511+464', FileNotFoundError(2, 'No such file or directory')), ('J19251+283', FileNotFoundError(2, 'No such file or directory')), ('J19242+755', FileNotFoundError(2, 'No such file or directory')), ('J19216+208', FileNotFoundError(2, 'No such file or directory')), ('J19206+731S', FileNotFoundError(2, 'No such file or directory')), ('J19084+322', FileNotFoundError(2, 'No such file or directory')), ('J19025+754', FileNotFoundError(2, 'No such file or directory')), ('J18427+596S', FileNotFoundError(2, 'No such file or directory')), ('J18427+596N', FileNotFoundError(2, 'No such file or directory')), ('J18419+318', FileNotFoundError(2, 'No such file or directory')), ('J18363+136', FileNotFoundError(2, 'No such file or directory')), ('J18356+329', FileNotFoundError(2, 'No such file or directory')), ('J18353+457', FileNotFoundError(2, 'No such file or directory')), ('J18346+401', FileNotFoundError(2, 'No such file or directory')), ('J18319+406', FileNotFoundError(2, 'No such file or directory')), ('J18224+620', FileNotFoundError(2, 'No such file or directory')), ('J18189+661', FileNotFoundError(2, 'No such file or directory')), ('J18180+387E', FileNotFoundError(2, 'No such file or directory')), ('J18174+483', FileNotFoundError(2, 'No such file or directory')), ('J18131+260', FileNotFoundError(2, 'No such file or directory')), ('J18022+642', FileNotFoundError(2, 'No such file or directory')), ('J17578+465', FileNotFoundError(2, 'No such file or directory')), ('J17378+185', FileNotFoundError(2, 'No such file or directory')), ('J17364+683', FileNotFoundError(2, 'No such file or directory')), ('J17355+616', FileNotFoundError(2, 'No such file or directory')), ('J17338+169', FileNotFoundError(2, 'No such file or directory')), ('J17198+417', FileNotFoundError(2, 'No such file or directory')), ('J17115+384', FileNotFoundError(2, 'No such file or directory')), ('J17071+215', FileNotFoundError(2, 'No such file or directory')), ('J17033+514', FileNotFoundError(2, 'No such file or directory')), ('J16581+257', FileNotFoundError(2, 'No such file or directory')), ('J16578+473', FileNotFoundError(2, 'No such file or directory')), ('J16462+164', FileNotFoundError(2, 'No such file or directory')), ('J16343+571', FileNotFoundError(2, 'No such file or directory')), ('J16313+408', FileNotFoundError(2, 'No such file or directory')), ('J16254+543', FileNotFoundError(2, 'No such file or directory')), ('J16167+672S', FileNotFoundError(2, 'No such file or directory')), ('J16167+672N', FileNotFoundError(2, 'No such file or directory')), ('J16028+205', FileNotFoundError(2, 'No such file or directory')), ('J15583+354', FileNotFoundError(2, 'No such file or directory')), ('J15499+796', FileNotFoundError(2, 'No such file or directory')), ('J15412+759', FileNotFoundError(2, 'No such file or directory')), ('J15218+209', FileNotFoundError(2, 'No such file or directory')), ('J14544+355', FileNotFoundError(2, 'No such file or directory')), ('J14257+236W', FileNotFoundError(2, 'No such file or directory')), ('J14257+236E', FileNotFoundError(2, 'No such file or directory')), ('J14251+518', FileNotFoundError(2, 'No such file or directory')), ('J14173+454', FileNotFoundError(2, 'No such file or directory')), ('J14152+450', FileNotFoundError(2, 'No such file or directory')), ('J14082+805', FileNotFoundError(2, 'No such file or directory')), ('J13591-198', FileNotFoundError(2, 'No such file or directory')), ('J13582+125', FileNotFoundError(2, 'No such file or directory')), ('J13536+776', FileNotFoundError(2, 'No such file or directory')), ('J13458-179', FileNotFoundError(2, 'No such file or directory')), ('J13457+148', FileNotFoundError(2, 'No such file or directory')), ('J13450+176', FileNotFoundError(2, 'No such file or directory')), ('J13427+332', FileNotFoundError(2, 'No such file or directory')), ('J13299+102', FileNotFoundError(2, 'No such file or directory')), ('J13293+114', FileNotFoundError(2, 'No such file or directory')), ('J13283-023W', FileNotFoundError(2, 'No such file or directory')), ('J13255+688', FileNotFoundError(2, 'No such file or directory')), ('J13229+244', FileNotFoundError(2, 'No such file or directory')), ('J13209+342', FileNotFoundError(2, 'No such file or directory')), ('J13196+333', FileNotFoundError(2, 'No such file or directory')), ('J13119+658', FileNotFoundError(2, 'No such file or directory')), ('J13102+477', FileNotFoundError(2, 'No such file or directory')), ('J13005+056', FileNotFoundError(2, 'No such file or directory')), ('J12479+097', FileNotFoundError(2, 'No such file or directory')), ('J12388+116', FileNotFoundError(2, 'No such file or directory')), ('J12373-208', FileNotFoundError(2, 'No such file or directory')), ('J12350+098', FileNotFoundError(2, 'No such file or directory')), ('J12312+086', FileNotFoundError(2, 'No such file or directory')), ('J12248-182', FileNotFoundError(2, 'No such file or directory')), ('J12230+640', FileNotFoundError(2, 'No such file or directory')), ('J12156+526', FileNotFoundError(2, 'No such file or directory')), ('J12123+544S', FileNotFoundError(2, 'No such file or directory')), ('J12111-199', FileNotFoundError(2, 'No such file or directory')), ('J12100-150', FileNotFoundError(2, 'No such file or directory')), ('J12054+695', FileNotFoundError(2, 'No such file or directory')), ('J11511+352', FileNotFoundError(2, 'No such file or directory')), ('J11509+483', FileNotFoundError(2, 'No such file or directory')), ('J11476+786', FileNotFoundError(2, 'No such file or directory')), ('J11474+667', FileNotFoundError(2, 'No such file or directory')), ('J11467-140', FileNotFoundError(2, 'No such file or directory')), ('J11423+230', FileNotFoundError(2, 'No such file or directory')), ('J11421+267', FileNotFoundError(2, 'No such file or directory')), ('J11417+427', FileNotFoundError(2, 'No such file or directory')), ('J11306-080', FileNotFoundError(2, 'No such file or directory')), ('J11289+101', FileNotFoundError(2, 'No such file or directory')), ('J11201-104', FileNotFoundError(2, 'No such file or directory')), ('J11126+189', FileNotFoundError(2, 'No such file or directory')), ('J11110+304W', FileNotFoundError(2, 'No such file or directory')), ('J11110+304E', FileNotFoundError(2, 'No such file or directory')), ('J11054+435', FileNotFoundError(2, 'No such file or directory')), ('J11044+304', FileNotFoundError(2, 'No such file or directory')), ('J11033+359', FileNotFoundError(2, 'No such file or directory')), ('J11026+219', FileNotFoundError(2, 'No such file or directory')), ('J11000+228', FileNotFoundError(2, 'No such file or directory')), ('J10584-107', FileNotFoundError(2, 'No such file or directory')), ('J10482-113', FileNotFoundError(2, 'No such file or directory')), ('J10416+376', FileNotFoundError(2, 'No such file or directory')), ('J10396-069', FileNotFoundError(2, 'No such file or directory')), ('J10354+694', FileNotFoundError(2, 'No such file or directory')), ('J10350-094', FileNotFoundError(2, 'No such file or directory')), ('J10289+008', FileNotFoundError(2, 'No such file or directory')), ('J10251-102', FileNotFoundError(2, 'No such file or directory')), ('J10238+438', FileNotFoundError(2, 'No such file or directory')), ('J10185-117', FileNotFoundError(2, 'No such file or directory')), ('J10182-204', FileNotFoundError(2, 'No such file or directory')), ('J10167-119', FileNotFoundError(2, 'No such file or directory')), ('J10125+570', FileNotFoundError(2, 'No such file or directory')), ('J10122-037', FileNotFoundError(2, 'No such file or directory')), ('J10088+692', FileNotFoundError(2, 'No such file or directory')), ('J10023+480', FileNotFoundError(2, 'No such file or directory')), ('J09597+472', FileNotFoundError(2, 'No such file or directory')), ('J09561+627', FileNotFoundError(2, 'No such file or directory')), ('J09511-123', FileNotFoundError(2, 'No such file or directory')), ('J09468+760', FileNotFoundError(2, 'No such file or directory')), ('J09449-123', FileNotFoundError(2, 'No such file or directory')), ('J09447-182', FileNotFoundError(2, 'No such file or directory')), ('J09439+269', FileNotFoundError(2, 'No such file or directory')), ('J09428+700', FileNotFoundError(2, 'No such file or directory')), ('J09425+700', FileNotFoundError(2, 'No such file or directory')), ('J09423+559', FileNotFoundError(2, 'No such file or directory')), ('J09360-216', FileNotFoundError(2, 'No such file or directory')), ('J09307+003', FileNotFoundError(2, 'No such file or directory')), ('J09286-121', FileNotFoundError(2, 'No such file or directory')), ('J09163-186', FileNotFoundError(2, 'No such file or directory')), ('J09161+018', FileNotFoundError(2, 'No such file or directory')), ('J09144+526', FileNotFoundError(2, 'No such file or directory')), ('J09143+526', FileNotFoundError(2, 'No such file or directory')), ('J09033+056', FileNotFoundError(2, 'No such file or directory')), ('J09028+680', FileNotFoundError(2, 'No such file or directory')), ('J09005+465', FileNotFoundError(2, 'No such file or directory')), ('J08599+729', FileNotFoundError(2, 'No such file or directory')), ('J08536-034', FileNotFoundError(2, 'No such file or directory')), ('J08526+283', FileNotFoundError(2, 'No such file or directory')), ('J08413+594', FileNotFoundError(2, 'No such file or directory')), ('J08409-234', FileNotFoundError(2, 'No such file or directory')), ('J08402+314', FileNotFoundError(2, 'No such file or directory')), ('J08358+680', FileNotFoundError(2, 'No such file or directory')), ('J08315+730', FileNotFoundError(2, 'No such file or directory')), ('J08298+267', FileNotFoundError(2, 'No such file or directory')), ('J08293+039', FileNotFoundError(2, 'No such file or directory')), ('J08126-215', FileNotFoundError(2, 'No such file or directory')), ('J08119+087', FileNotFoundError(2, 'No such file or directory')), ('J08023+033', FileNotFoundError(2, 'No such file or directory')), ('J07582+413', FileNotFoundError(2, 'No such file or directory')), ('J07558+833', FileNotFoundError(2, 'No such file or directory')), ('J07472+503', FileNotFoundError(2, 'No such file or directory')), ('J07446+035', FileNotFoundError(2, 'No such file or directory')), ('J07403-174', FileNotFoundError(2, 'No such file or directory')), ('J07393+021', FileNotFoundError(2, 'No such file or directory')), ('J07361-031', FileNotFoundError(2, 'No such file or directory')), ('J07319+362N', FileNotFoundError(2, 'No such file or directory')), ('J07287-032', FileNotFoundError(2, 'No such file or directory')), ('J07274+052', FileNotFoundError(2, 'No such file or directory')), ('J07051-101', FileNotFoundError(2, 'No such file or directory')), ('J07044+682', FileNotFoundError(2, 'No such file or directory')), ('J07033+346', FileNotFoundError(2, 'No such file or directory')), ('J07001-190', FileNotFoundError(2, 'No such file or directory')), ('J06574+740', FileNotFoundError(2, 'No such file or directory')), ('J06548+332', FileNotFoundError(2, 'No such file or directory')), ('J06421+035', FileNotFoundError(2, 'No such file or directory')), ('J06396-210', FileNotFoundError(2, 'No such file or directory')), ('J06318+414', FileNotFoundError(2, 'No such file or directory')), ('J06105-218', FileNotFoundError(2, 'No such file or directory')), ('J06103+821', FileNotFoundError(2, 'No such file or directory')), ('J06024+498', FileNotFoundError(2, 'No such file or directory')), ('J06011+595', FileNotFoundError(2, 'No such file or directory')), ('J06000+027', FileNotFoundError(2, 'No such file or directory')), ('J05421+124', FileNotFoundError(2, 'No such file or directory')), ('J05415+534', FileNotFoundError(2, 'No such file or directory')), ('J05394+406', FileNotFoundError(2, 'No such file or directory')), ('J05366+112', FileNotFoundError(2, 'No such file or directory')), ('J05365+113', FileNotFoundError(2, 'No such file or directory')), ('J05360-076', FileNotFoundError(2, 'No such file or directory')), ('J05348+138', FileNotFoundError(2, 'No such file or directory')), ('J05337+019', FileNotFoundError(2, 'No such file or directory')), ('J05314-036', FileNotFoundError(2, 'No such file or directory')), ('J05280+096', FileNotFoundError(2, 'No such file or directory')), ('J05084-210', FileNotFoundError(2, 'No such file or directory')), ('J05062+046', FileNotFoundError(2, 'No such file or directory')), ('J05033-173', FileNotFoundError(2, 'No such file or directory')), ('J05019-069', FileNotFoundError(2, 'No such file or directory')), ('J05019+011', FileNotFoundError(2, 'No such file or directory')), ('J04588+498', FileNotFoundError(2, 'No such file or directory')), ('J04538-177', FileNotFoundError(2, 'No such file or directory')), ('J04520+064', FileNotFoundError(2, 'No such file or directory')), ('J04406-128', FileNotFoundError(2, 'No such file or directory')), ('J04376-110', FileNotFoundError(2, 'No such file or directory')), ('J04376+528', FileNotFoundError(2, 'No such file or directory')), ('J04343+430', FileNotFoundError(2, 'No such file or directory')), ('J04311+589', FileNotFoundError(2, 'No such file or directory')), ('J04225+105', FileNotFoundError(2, 'No such file or directory')), ('J04198+425', FileNotFoundError(2, 'No such file or directory')), ('J04167-120', FileNotFoundError(2, 'No such file or directory')), ('J04153-076', FileNotFoundError(2, 'No such file or directory')), ('J03531+625', FileNotFoundError(2, 'No such file or directory')), ('J03473-019', FileNotFoundError(2, 'No such file or directory')), ('J03473+086', FileNotFoundError(2, 'No such file or directory')), ('J03463+262', FileNotFoundError(2, 'No such file or directory')), ('J03230+420', FileNotFoundError(2, 'No such file or directory')), ('J03217-066', FileNotFoundError(2, 'No such file or directory')), ('J03181+382', FileNotFoundError(2, 'No such file or directory')), ('J03142+286', FileNotFoundError(2, 'No such file or directory')), ('J03133+047', FileNotFoundError(2, 'No such file or directory')), ('J03090+100', FileNotFoundError(2, 'No such file or directory')), ('J02573+765', FileNotFoundError(2, 'No such file or directory')), ('J02565+554W', FileNotFoundError(2, 'No such file or directory')), ('J02560-006', FileNotFoundError(2, 'No such file or directory')), ('J02489-145W', FileNotFoundError(2, 'No such file or directory')), ('J02489-145E', FileNotFoundError(2, 'No such file or directory')), ('J02486+621', FileNotFoundError(2, 'No such file or directory')), ('J02442+255', FileNotFoundError(2, 'No such file or directory')), ('J02362+068', FileNotFoundError(2, 'No such file or directory')), ('J02336+249', FileNotFoundError(2, 'No such file or directory')), ('J02222+478', FileNotFoundError(2, 'No such file or directory')), ('J02123+035', FileNotFoundError(2, 'No such file or directory')), ('J02088+494', FileNotFoundError(2, 'No such file or directory')), ('J02070+496', FileNotFoundError(2, 'No such file or directory')), ('J02015+637', FileNotFoundError(2, 'No such file or directory')), ('J01550+379', FileNotFoundError(2, 'No such file or directory')), ('J01518+644', FileNotFoundError(2, 'No such file or directory')), ('J01352-072', FileNotFoundError(2, 'No such file or directory')), ('J01339-176', FileNotFoundError(2, 'No such file or directory')), ('J01125-169', FileNotFoundError(2, 'No such file or directory')), ('J01066+192', FileNotFoundError(2, 'No such file or directory')), ('J01048-181', FileNotFoundError(2, 'No such file or directory')), ('J01033+623', FileNotFoundError(2, 'No such file or directory')), ('J01026+623', FileNotFoundError(2, 'No such file or directory')), ('J01025+716', FileNotFoundError(2, 'No such file or directory')), ('J01019+541', FileNotFoundError(2, 'No such file or directory')), ('J01013+613', FileNotFoundError(2, 'No such file or directory')), ('J00570+450', FileNotFoundError(2, 'No such file or directory')), ('J00403+612', FileNotFoundError(2, 'No such file or directory')), ('J00389+306', FileNotFoundError(2, 'No such file or directory')), ('J00286-066', FileNotFoundError(2, 'No such file or directory')), ('J00183+440', FileNotFoundError(2, 'No such file or directory')), ('J00051+457', FileNotFoundError(2, 'No such file or directory'))]\n"
     ]
    }
   ],
   "source": [
    "num_stars = len(star_list)\n",
    "i = 0\n",
    "errors_rv = []\n",
    "for star_id in star_list:\n",
    "    i = i + 1\n",
    "    clear_output(wait=True)\n",
    "    print(\"Processing record %d of %d...\" %(i, num_stars))\n",
    "    try:\n",
    "        # Copying RV files for LSTPeriod:\n",
    "        src_rv_file = RV_INPUT_FOLDER + RV_FILE_PREFIX + star_id + RV_FILE_SUFFIX + RV_FILE_EXTENSION\n",
    "        print(\"Copying file %s...\" %src_rv_file)\n",
    "        shutil.copy2(src_rv_file, OUTPUT_FOLDER_FOR_LST)\n",
    "    except Exception as e:\n",
    "        print(\"Something went wrong!\")\n",
    "        errors_rv.append((star_id, e))\n",
    "print(\"COMPLETED.\")\n",
    "\n",
    "if len(errors_rv) == 0:\n",
    "    print(\"No errors detected\")\n",
    "else:\n",
    "    print(\"*WARNING: the following %d errors happened:\" %len(errors_rv))\n",
    "    print(errors_rv)\n",
    "    "
   ]
  },
  {
   "cell_type": "markdown",
   "id": "e1db2d43",
   "metadata": {},
   "source": [
    "#### Transfer PG files for StackedPg"
   ]
  },
  {
   "cell_type": "code",
   "execution_count": 18,
   "id": "4b02130a",
   "metadata": {
    "ExecuteTime": {
     "end_time": "2023-01-18T19:16:20.190673Z",
     "start_time": "2023-01-18T19:16:17.829193Z"
    }
   },
   "outputs": [
    {
     "name": "stdout",
     "output_type": "stream",
     "text": [
      "Processing record 269 of 269...\n",
      "Copying file ../data/CARM_VIS_TESS_PGs/J00051+457_TESS_PG.dat...\n",
      "COMPLETED.\n",
      "No errors detected\n"
     ]
    }
   ],
   "source": [
    "num_stars = len(star_list)\n",
    "i = 0\n",
    "errors_pg =[]\n",
    "for star_id in star_list:\n",
    "    i = i + 1\n",
    "    clear_output(wait=True)\n",
    "    print(\"Processing record %d of %d...\" %(i, num_stars))\n",
    "    try:\n",
    "        # Copying PG files for StackedPg:\n",
    "        src_pg_file = PG_INPUT_FOLDER + PG_FILE_PREFIX + star_id + PG_FILE_SUFFIX + PG_FILE_EXTENSION\n",
    "        print(\"Copying file %s...\" %src_pg_file)\n",
    "        shutil.copy2(src_pg_file, OUTPUT_FOLDER_FOR_STACKED)\n",
    "    except Exception as e:\n",
    "        print(\"Something went wrong!\")\n",
    "        errors_pg.append((star_id, e))\n",
    "print(\"COMPLETED.\")\n",
    "\n",
    "if len(errors_pg) == 0:\n",
    "    print(\"No errors detected\")\n",
    "else:\n",
    "    print(\"*WARNING: the following %d errors happened:\" %len(errors_pg))\n",
    "    print(errors_pg)\n",
    "    "
   ]
  },
  {
   "cell_type": "code",
   "execution_count": null,
   "id": "9def3401",
   "metadata": {},
   "outputs": [],
   "source": []
  }
 ],
 "metadata": {
  "kernelspec": {
   "display_name": "Python 3 (ipykernel)",
   "language": "python",
   "name": "python3"
  },
  "language_info": {
   "codemirror_mode": {
    "name": "ipython",
    "version": 3
   },
   "file_extension": ".py",
   "mimetype": "text/x-python",
   "name": "python",
   "nbconvert_exporter": "python",
   "pygments_lexer": "ipython3",
   "version": "3.8.8"
  },
  "latex_envs": {
   "LaTeX_envs_menu_present": true,
   "autoclose": false,
   "autocomplete": true,
   "bibliofile": "biblio.bib",
   "cite_by": "apalike",
   "current_citInitial": 1,
   "eqLabelWithNumbers": true,
   "eqNumInitial": 1,
   "hotkeys": {
    "equation": "Ctrl-E",
    "itemize": "Ctrl-I"
   },
   "labels_anchors": false,
   "latex_user_defs": false,
   "report_style_numbering": false,
   "user_envs_cfg": false
  },
  "toc": {
   "base_numbering": 1,
   "nav_menu": {},
   "number_sections": true,
   "sideBar": true,
   "skip_h1_title": true,
   "title_cell": "Table of Contents",
   "title_sidebar": "Contents",
   "toc_cell": false,
   "toc_position": {
    "height": "calc(100% - 180px)",
    "left": "10px",
    "top": "150px",
    "width": "303.837px"
   },
   "toc_section_display": true,
   "toc_window_display": true
  }
 },
 "nbformat": 4,
 "nbformat_minor": 5
}
