{
 "cells": [
  {
   "cell_type": "markdown",
   "id": "6eadc670",
   "metadata": {},
   "source": [
    "# GTO TESS LC PREPROCESSING FOR `LSTperiod`"
   ]
  },
  {
   "cell_type": "markdown",
   "id": "6d99f738",
   "metadata": {},
   "source": [
    "This notebook preprocesses the TESS LC to generate the proper datafiles for `LSTperiodogram`."
   ]
  },
  {
   "cell_type": "markdown",
   "id": "9f6d4490",
   "metadata": {},
   "source": [
    "## Modules and configuration"
   ]
  },
  {
   "cell_type": "markdown",
   "id": "ba00ae4b",
   "metadata": {},
   "source": [
    "### Modules"
   ]
  },
  {
   "cell_type": "code",
   "execution_count": 1,
   "id": "f0a61d8e",
   "metadata": {
    "ExecuteTime": {
     "end_time": "2022-04-14T15:47:44.909781Z",
     "start_time": "2022-04-14T15:47:41.594976Z"
    }
   },
   "outputs": [],
   "source": [
    "import pandas as pd\n",
    "\n",
    "import lightkurve as lk"
   ]
  },
  {
   "cell_type": "markdown",
   "id": "7946fb45",
   "metadata": {},
   "source": [
    "### Configuration"
   ]
  },
  {
   "cell_type": "code",
   "execution_count": 2,
   "id": "d233a74f",
   "metadata": {
    "ExecuteTime": {
     "end_time": "2022-04-14T15:47:44.925727Z",
     "start_time": "2022-04-14T15:47:44.910792Z"
    }
   },
   "outputs": [],
   "source": [
    "# FILES AND FOLDERS:\n",
    "GTO_FILE = \"../data/SELECTION_GTO_objects_with_PG.csv\"\n",
    "TARGET_FOLDER = \"./GTO_TESS_LC_LSTperiod/\"\n"
   ]
  },
  {
   "cell_type": "markdown",
   "id": "dbeb2ffc",
   "metadata": {},
   "source": [
    "### Functions"
   ]
  },
  {
   "cell_type": "code",
   "execution_count": 3,
   "id": "a8c45eff",
   "metadata": {
    "ExecuteTime": {
     "end_time": "2022-04-14T15:47:44.941030Z",
     "start_time": "2022-04-14T15:47:44.926746Z"
    }
   },
   "outputs": [],
   "source": [
    "def tess_lc_load(filename: str):\n",
    "    '''Load the TESS LC file and returns a lightcurve object with just the three relevant columns\n",
    "    Note: it seems to be necessary to drop 'nan' values for GLS to work properly.'''\n",
    "    lc_lk = lk.read(filename).remove_nans()\n",
    "    return lc_lk"
   ]
  },
  {
   "cell_type": "markdown",
   "id": "2acb43b9",
   "metadata": {},
   "source": [
    "## GTO objects file load"
   ]
  },
  {
   "cell_type": "code",
   "execution_count": 4,
   "id": "692ef599",
   "metadata": {
    "ExecuteTime": {
     "end_time": "2022-04-14T15:47:44.988197Z",
     "start_time": "2022-04-14T15:47:44.941988Z"
    }
   },
   "outputs": [
    {
     "data": {
      "text/html": [
       "<div>\n",
       "<style scoped>\n",
       "    .dataframe tbody tr th:only-of-type {\n",
       "        vertical-align: middle;\n",
       "    }\n",
       "\n",
       "    .dataframe tbody tr th {\n",
       "        vertical-align: top;\n",
       "    }\n",
       "\n",
       "    .dataframe thead th {\n",
       "        text-align: right;\n",
       "    }\n",
       "</style>\n",
       "<table border=\"1\" class=\"dataframe\">\n",
       "  <thead>\n",
       "    <tr style=\"text-align: right;\">\n",
       "      <th></th>\n",
       "      <th>Karmn</th>\n",
       "      <th>Name</th>\n",
       "      <th>Comp</th>\n",
       "      <th>GJ</th>\n",
       "      <th>RA_J2016_deg</th>\n",
       "      <th>DE_J2016_deg</th>\n",
       "      <th>RA_J2000</th>\n",
       "      <th>DE_J2000</th>\n",
       "      <th>l_J2016_deg</th>\n",
       "      <th>b_J2016_deg</th>\n",
       "      <th>...</th>\n",
       "      <th>T0_PG_TESS</th>\n",
       "      <th>e_T0_PG_TESS</th>\n",
       "      <th>offset_PG_TESS</th>\n",
       "      <th>e_offset_PG_TESS</th>\n",
       "      <th>FAP_PG_TESS</th>\n",
       "      <th>valid_PG_TESS</th>\n",
       "      <th>error_PG_TESS</th>\n",
       "      <th>elapsed_time_PG_TESS</th>\n",
       "      <th>fits_file_TESS</th>\n",
       "      <th>fig_file_TESS</th>\n",
       "    </tr>\n",
       "  </thead>\n",
       "  <tbody>\n",
       "    <tr>\n",
       "      <th>0</th>\n",
       "      <td>J23548+385</td>\n",
       "      <td>RX J2354.8+3831</td>\n",
       "      <td>-</td>\n",
       "      <td>NaN</td>\n",
       "      <td>358.713658</td>\n",
       "      <td>38.526340</td>\n",
       "      <td>23:54:51.46</td>\n",
       "      <td>+38:31:36.2</td>\n",
       "      <td>110.941908</td>\n",
       "      <td>-23.024449</td>\n",
       "      <td>...</td>\n",
       "      <td>1764.609498</td>\n",
       "      <td>0.010704</td>\n",
       "      <td>8262.219751</td>\n",
       "      <td>1.365667</td>\n",
       "      <td>1.000000</td>\n",
       "      <td>1.0</td>\n",
       "      <td>NaN</td>\n",
       "      <td>344.002685</td>\n",
       "      <td>../data/CARMENES_GTO_TESS_PGs/J23548+385_TESS_...</td>\n",
       "      <td>../data/CARMENES_GTO_TESS_PGs/figures/J23548+3...</td>\n",
       "    </tr>\n",
       "    <tr>\n",
       "      <th>1</th>\n",
       "      <td>J23505-095</td>\n",
       "      <td>LP 763-012</td>\n",
       "      <td>-</td>\n",
       "      <td>4367</td>\n",
       "      <td>357.634705</td>\n",
       "      <td>-9.560964</td>\n",
       "      <td>23:50:31.64</td>\n",
       "      <td>-09:33:32.7</td>\n",
       "      <td>80.777067</td>\n",
       "      <td>-67.303426</td>\n",
       "      <td>...</td>\n",
       "      <td>1354.108815</td>\n",
       "      <td>0.001261</td>\n",
       "      <td>7767.134654</td>\n",
       "      <td>0.094298</td>\n",
       "      <td>0.064148</td>\n",
       "      <td>1.0</td>\n",
       "      <td>NaN</td>\n",
       "      <td>473.533042</td>\n",
       "      <td>../data/CARMENES_GTO_TESS_PGs/J23505-095_TESS_...</td>\n",
       "      <td>../data/CARMENES_GTO_TESS_PGs/figures/J23505-0...</td>\n",
       "    </tr>\n",
       "    <tr>\n",
       "      <th>2</th>\n",
       "      <td>J23431+365</td>\n",
       "      <td>GJ 1289</td>\n",
       "      <td>-</td>\n",
       "      <td>1289</td>\n",
       "      <td>355.781509</td>\n",
       "      <td>36.536310</td>\n",
       "      <td>23:43:06.31</td>\n",
       "      <td>+36:32:13.1</td>\n",
       "      <td>107.922839</td>\n",
       "      <td>-24.336479</td>\n",
       "      <td>...</td>\n",
       "      <td>1764.717539</td>\n",
       "      <td>0.003720</td>\n",
       "      <td>16158.288258</td>\n",
       "      <td>0.164698</td>\n",
       "      <td>0.002785</td>\n",
       "      <td>1.0</td>\n",
       "      <td>NaN</td>\n",
       "      <td>352.262793</td>\n",
       "      <td>../data/CARMENES_GTO_TESS_PGs/J23431+365_TESS_...</td>\n",
       "      <td>../data/CARMENES_GTO_TESS_PGs/figures/J23431+3...</td>\n",
       "    </tr>\n",
       "    <tr>\n",
       "      <th>3</th>\n",
       "      <td>J23381-162</td>\n",
       "      <td>G 273-093</td>\n",
       "      <td>-</td>\n",
       "      <td>4352</td>\n",
       "      <td>354.532687</td>\n",
       "      <td>-16.236514</td>\n",
       "      <td>23:38:08.16</td>\n",
       "      <td>-16:14:10.2</td>\n",
       "      <td>61.845437</td>\n",
       "      <td>-69.825220</td>\n",
       "      <td>...</td>\n",
       "      <td>1354.111098</td>\n",
       "      <td>0.000422</td>\n",
       "      <td>30353.147900</td>\n",
       "      <td>0.175123</td>\n",
       "      <td>0.031223</td>\n",
       "      <td>1.0</td>\n",
       "      <td>NaN</td>\n",
       "      <td>485.008036</td>\n",
       "      <td>../data/CARMENES_GTO_TESS_PGs/J23381-162_TESS_...</td>\n",
       "      <td>../data/CARMENES_GTO_TESS_PGs/figures/J23381-1...</td>\n",
       "    </tr>\n",
       "    <tr>\n",
       "      <th>4</th>\n",
       "      <td>J23245+578</td>\n",
       "      <td>BD+57 2735</td>\n",
       "      <td>-</td>\n",
       "      <td>895</td>\n",
       "      <td>351.126628</td>\n",
       "      <td>57.853057</td>\n",
       "      <td>23:24:30.51</td>\n",
       "      <td>+57:51:15.5</td>\n",
       "      <td>111.552287</td>\n",
       "      <td>-3.085183</td>\n",
       "      <td>...</td>\n",
       "      <td>1955.800582</td>\n",
       "      <td>0.001420</td>\n",
       "      <td>84823.865767</td>\n",
       "      <td>0.391298</td>\n",
       "      <td>0.799167</td>\n",
       "      <td>1.0</td>\n",
       "      <td>NaN</td>\n",
       "      <td>476.798646</td>\n",
       "      <td>../data/CARMENES_GTO_TESS_PGs/J23245+578_TESS_...</td>\n",
       "      <td>../data/CARMENES_GTO_TESS_PGs/figures/J23245+5...</td>\n",
       "    </tr>\n",
       "  </tbody>\n",
       "</table>\n",
       "<p>5 rows × 248 columns</p>\n",
       "</div>"
      ],
      "text/plain": [
       "        Karmn             Name Comp    GJ  RA_J2016_deg  DE_J2016_deg  \\\n",
       "0  J23548+385  RX J2354.8+3831    -   NaN    358.713658     38.526340   \n",
       "1  J23505-095       LP 763-012    -  4367    357.634705     -9.560964   \n",
       "2  J23431+365          GJ 1289    -  1289    355.781509     36.536310   \n",
       "3  J23381-162        G 273-093    -  4352    354.532687    -16.236514   \n",
       "4  J23245+578       BD+57 2735    -   895    351.126628     57.853057   \n",
       "\n",
       "      RA_J2000     DE_J2000  l_J2016_deg  b_J2016_deg  ...   T0_PG_TESS  \\\n",
       "0  23:54:51.46  +38:31:36.2   110.941908   -23.024449  ...  1764.609498   \n",
       "1  23:50:31.64  -09:33:32.7    80.777067   -67.303426  ...  1354.108815   \n",
       "2  23:43:06.31  +36:32:13.1   107.922839   -24.336479  ...  1764.717539   \n",
       "3  23:38:08.16  -16:14:10.2    61.845437   -69.825220  ...  1354.111098   \n",
       "4  23:24:30.51  +57:51:15.5   111.552287    -3.085183  ...  1955.800582   \n",
       "\n",
       "  e_T0_PG_TESS  offset_PG_TESS e_offset_PG_TESS  FAP_PG_TESS  valid_PG_TESS  \\\n",
       "0     0.010704     8262.219751         1.365667     1.000000            1.0   \n",
       "1     0.001261     7767.134654         0.094298     0.064148            1.0   \n",
       "2     0.003720    16158.288258         0.164698     0.002785            1.0   \n",
       "3     0.000422    30353.147900         0.175123     0.031223            1.0   \n",
       "4     0.001420    84823.865767         0.391298     0.799167            1.0   \n",
       "\n",
       "   error_PG_TESS  elapsed_time_PG_TESS  \\\n",
       "0            NaN            344.002685   \n",
       "1            NaN            473.533042   \n",
       "2            NaN            352.262793   \n",
       "3            NaN            485.008036   \n",
       "4            NaN            476.798646   \n",
       "\n",
       "                                      fits_file_TESS  \\\n",
       "0  ../data/CARMENES_GTO_TESS_PGs/J23548+385_TESS_...   \n",
       "1  ../data/CARMENES_GTO_TESS_PGs/J23505-095_TESS_...   \n",
       "2  ../data/CARMENES_GTO_TESS_PGs/J23431+365_TESS_...   \n",
       "3  ../data/CARMENES_GTO_TESS_PGs/J23381-162_TESS_...   \n",
       "4  ../data/CARMENES_GTO_TESS_PGs/J23245+578_TESS_...   \n",
       "\n",
       "                                       fig_file_TESS  \n",
       "0  ../data/CARMENES_GTO_TESS_PGs/figures/J23548+3...  \n",
       "1  ../data/CARMENES_GTO_TESS_PGs/figures/J23505-0...  \n",
       "2  ../data/CARMENES_GTO_TESS_PGs/figures/J23431+3...  \n",
       "3  ../data/CARMENES_GTO_TESS_PGs/figures/J23381-1...  \n",
       "4  ../data/CARMENES_GTO_TESS_PGs/figures/J23245+5...  \n",
       "\n",
       "[5 rows x 248 columns]"
      ]
     },
     "execution_count": 4,
     "metadata": {},
     "output_type": "execute_result"
    }
   ],
   "source": [
    "gto_df = pd.read_csv(GTO_FILE, sep=',', decimal='.')\n",
    "gto_df.head()"
   ]
  },
  {
   "cell_type": "code",
   "execution_count": 5,
   "id": "6485b57b",
   "metadata": {
    "ExecuteTime": {
     "end_time": "2022-04-14T15:47:45.004126Z",
     "start_time": "2022-04-14T15:47:44.989166Z"
    }
   },
   "outputs": [
    {
     "data": {
      "text/plain": [
       "239"
      ]
     },
     "execution_count": 5,
     "metadata": {},
     "output_type": "execute_result"
    }
   ],
   "source": [
    "len(gto_df)"
   ]
  },
  {
   "cell_type": "code",
   "execution_count": 6,
   "id": "e4f95d5e",
   "metadata": {
    "ExecuteTime": {
     "end_time": "2022-04-14T15:47:45.020084Z",
     "start_time": "2022-04-14T15:47:45.005123Z"
    }
   },
   "outputs": [
    {
     "name": "stdout",
     "output_type": "stream",
     "text": [
      "['Karmn', 'Name', 'Comp', 'GJ', 'RA_J2016_deg', 'DE_J2016_deg', 'RA_J2000', 'DE_J2000', 'l_J2016_deg', 'b_J2016_deg', 'Ref01', 'SpT', 'SpTnum', 'Ref02', 'Teff_K', 'eTeff_K', 'logg', 'elogg', '[Fe/H]', 'e[Fe/H]', 'Ref03', 'L_Lsol', 'eL_Lsol', 'Ref04', 'R_Rsol', 'eR_Rsol', 'Ref05', 'M_Msol', 'eM_Msol', 'Ref06', 'muRA_masa-1', 'emuRA_masa-1', 'muDE_masa-1', 'emuDE_masa-1', 'Ref07', 'pi_mas', 'epi_mas', 'Ref08', 'd_pc', 'ed_pc', 'Ref09', 'Vr_kms-1', 'eVr_kms-1', 'Ref10', 'ruwe', 'Ref11', 'U_kms-1', 'eU_kms-1', 'V_kms-1', 'eV_kms-1', 'W_kms-1', 'eW_kms-1', 'Ref12', 'sa_m/s/a', 'esa_m/s/a', 'Ref13', 'SKG', 'Ref14', 'SKG_lit', 'Ref14_lit', 'Pop', 'Ref15', 'vsini_flag', 'vsini_kms-1', 'evsini_kms-1', 'Ref16', 'P_d', 'eP_d', 'Ref17', 'pEWHalpha_A', 'epEWHalpha_A', 'Ref18', 'log(LHalpha/Lbol)', 'elog(LHalpha/Lbol)', 'Ref19', '1RXS', 'CRT_s-1', 'eCRT_s-1', 'HR1', 'eHR1', 'HR2', 'eHR2', 'Flux_X_E-13_ergcm-2s-1', 'eFlux_X_E-13_ergcm-2s-1', 'LX/LJ', 'eLX/LJ', 'Ref20', 'Activity', 'Ref21', 'FUV_mag', 'eFUV_mag', 'NUV_mag', 'eNUV_mag', 'Ref22', 'u_mag', 'eu_mag', 'Ref23', 'BT_mag', 'eBT_mag', 'Ref24', 'B_mag', 'eB_mag', 'Ref25', 'BP_mag', 'eBP_mag', 'Ref26', 'g_mag', 'eg_mag', 'Ref27', 'VT_mag', 'eVT_mag', 'Ref28', 'V_mag', 'eV_mag', 'Ref29', 'Ra_mag', 'Ref30', 'r_mag', 'er_mag', 'Ref31', 'GG_mag', 'eGG_mag', 'Ref32', 'i_mag', 'ei_mag', 'Ref33', 'RP_mag', 'eRP_mag', 'Ref34', 'IN_mag', 'Ref35', 'J_mag', 'eJ_mag', 'H_mag', 'eH_mag', 'Ks_mag', 'eKs_mag', 'QFlag_2M', 'Ref36', 'W1_mag', 'eW1_mag', 'W2_mag', 'eW2_mag', 'W3_mag', 'eW3_mag', 'W4_mag', 'eW4_mag', 'QFlag_WISE', 'Ref37', 'Multiplicity', 'WideWDS', 'Widerho_arcsec', 'eWiderho_arcsec', 'Ref38', 'WideCompanionName', 'WideCompanionSpT', 'CloseWDS', 'Closerho_arcsec', 'eCloserho_arcsec', 'Ref39', 'CloseCompanionSpT', 'RV', 'Planet', 'Ref40', 'PlanetNum', 'LoRes_spectrum', 'HiRes_spectrum', 'LoRes_imaging', 'HiRes_imaging', 'Class', 'Survey', 'Notes', 'Gaia_id_1', '2MASS_id', 'TIC_id', 'Teff_min_K', 'Teff_max_K', 'logg_min', 'logg_max', 'is_GTO', 'rv_file', 'lc_file', 'has_rv', 'has_lc', 'InstBand_nominal', 'InstBand_ranged', 'n_RV', 'Ps_RV', 'fs_RV', 'wmean_RV', 'wrms_RV', 'info_PG_RV', 'maxP_PG_RV', 'maxSNR_PG_RV', 'rms_PG_RV', 'f_PG_RV', 'e_f_PG_RV', 'Pd_PG_RV', 'e_Pd_PG_RV', 'Ph_PG_RV', 'e_Ph_PG_RV', 'Pm_PG_RV', 'e_Pm_PG_RV', 'A_PG_RV', 'e_A_PG_RV', 'ph_PG_RV', 'e_ph_PG_RV', 'T0_PG_RV', 'e_T0_PG_RV', 'offset_PG_RV', 'e_offset_PG_RV', 'FAP_PG_RV', 'valid_PG_RV', 'error_PG_RV', 'elapsed_time_PG_RV', 'fits_file_RV', 'fig_file_RV', 'n_TESS', 'Ps_TESS', 'fs_TESS', 'wmean_TESS', 'wrms_TESS', 'info_PG_TESS', 'maxP_PG_TESS', 'maxSNR_PG_TESS', 'rms_PG_TESS', 'f_PG_TESS', 'e_f_PG_TESS', 'Pd_PG_TESS', 'e_Pd_PG_TESS', 'Ph_PG_TESS', 'e_Ph_PG_TESS', 'Pm_PG_TESS', 'e_Pm_PG_TESS', 'A_PG_TESS', 'e_A_PG_TESS', 'ph_PG_TESS', 'e_ph_PG_TESS', 'T0_PG_TESS', 'e_T0_PG_TESS', 'offset_PG_TESS', 'e_offset_PG_TESS', 'FAP_PG_TESS', 'valid_PG_TESS', 'error_PG_TESS', 'elapsed_time_PG_TESS', 'fits_file_TESS', 'fig_file_TESS']\n"
     ]
    }
   ],
   "source": [
    "print(list(gto_df.columns))"
   ]
  },
  {
   "cell_type": "markdown",
   "id": "a3afbccc",
   "metadata": {},
   "source": [
    "## Create and store the relevant files for `LSTperiod`"
   ]
  },
  {
   "cell_type": "markdown",
   "id": "8b252f18",
   "metadata": {},
   "source": [
    "Notice that we use the original TESS light curves to generate the files for LSTperiod, not the data stored in the periodogram calculation result file."
   ]
  },
  {
   "cell_type": "code",
   "execution_count": 7,
   "id": "272d1256",
   "metadata": {
    "ExecuteTime": {
     "end_time": "2022-04-14T15:48:18.061553Z",
     "start_time": "2022-04-14T15:47:45.021081Z"
    }
   },
   "outputs": [
    {
     "name": "stderr",
     "output_type": "stream",
     "text": [
      "Warning: 30% (5871/19412) of the cadences will be ignored due to the quality mask (quality_bitmask=175).\n",
      "Warning: 30% (5871/19412) of the cadences will be ignored due to the quality mask (quality_bitmask=175).\n",
      "Warning: 30% (5871/19412) of the cadences will be ignored due to the quality mask (quality_bitmask=175).\n",
      "Warning: 30% (5871/19412) of the cadences will be ignored due to the quality mask (quality_bitmask=175).\n"
     ]
    }
   ],
   "source": [
    "for i in range(0, len(gto_df)):\n",
    "    lc_filename = \"TESS-\" + gto_df.loc[i, 'Karmn'] + \".dat\" # Target filename for LSTperiod\n",
    "    # Read the LC file:\n",
    "    lc_lk = tess_lc_load(gto_df.loc[i, 'lc_file'])\n",
    "    # Generate the data:\n",
    "    lc_df = pd.DataFrame({'time': lc_lk['time'].value, 'value': lc_lk['flux'].value})\n",
    "    # Save the file:\n",
    "    lc_df.to_csv(TARGET_FOLDER + lc_filename, sep=' ', decimal='.', header=False, index=False)\n",
    "    "
   ]
  },
  {
   "cell_type": "markdown",
   "id": "b94b7fbe",
   "metadata": {},
   "source": [
    "# Summary"
   ]
  },
  {
   "cell_type": "markdown",
   "id": "6bb41d08",
   "metadata": {
    "ExecuteTime": {
     "end_time": "2022-04-14T10:53:30.704234Z",
     "start_time": "2022-04-14T10:53:30.693289Z"
    }
   },
   "source": [
    "**OBSERVATIONS AND CONCLUSIONS:**\n",
    "- We generated the 239 files of the TESS light curves in the proper format for `LSTperiod`."
   ]
  },
  {
   "cell_type": "code",
   "execution_count": null,
   "id": "0127bb48",
   "metadata": {},
   "outputs": [],
   "source": []
  }
 ],
 "metadata": {
  "kernelspec": {
   "display_name": "Python 3",
   "language": "python",
   "name": "python3"
  },
  "language_info": {
   "codemirror_mode": {
    "name": "ipython",
    "version": 3
   },
   "file_extension": ".py",
   "mimetype": "text/x-python",
   "name": "python",
   "nbconvert_exporter": "python",
   "pygments_lexer": "ipython3",
   "version": "3.8.8"
  },
  "toc": {
   "base_numbering": 1,
   "nav_menu": {},
   "number_sections": true,
   "sideBar": true,
   "skip_h1_title": true,
   "title_cell": "Table of Contents",
   "title_sidebar": "Contents",
   "toc_cell": false,
   "toc_position": {},
   "toc_section_display": true,
   "toc_window_display": true
  }
 },
 "nbformat": 4,
 "nbformat_minor": 5
}
