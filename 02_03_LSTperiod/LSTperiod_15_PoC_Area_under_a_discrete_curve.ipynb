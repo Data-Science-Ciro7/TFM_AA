{
 "cells": [
  {
   "cell_type": "markdown",
   "id": "6eadc670",
   "metadata": {},
   "source": [
    "# PoC - CALCULATION OF THE AREA UNDER A CURVE"
   ]
  },
  {
   "cell_type": "markdown",
   "id": "6d99f738",
   "metadata": {},
   "source": [
    "This notebook calculates the area under a curve, given the values of x and y.\n",
    "\n",
    "It then normalizes the curve based on that area."
   ]
  },
  {
   "cell_type": "markdown",
   "id": "9f6d4490",
   "metadata": {},
   "source": [
    "## Modules and configuration"
   ]
  },
  {
   "cell_type": "markdown",
   "id": "ba00ae4b",
   "metadata": {},
   "source": [
    "### Modules"
   ]
  },
  {
   "cell_type": "code",
   "execution_count": 25,
   "id": "f0a61d8e",
   "metadata": {
    "ExecuteTime": {
     "end_time": "2022-07-03T10:13:12.992833Z",
     "start_time": "2022-07-03T10:13:12.980645Z"
    }
   },
   "outputs": [],
   "source": [
    "import numpy as np\n",
    "import pandas as pd\n",
    "\n",
    "from matplotlib import pyplot as plt"
   ]
  },
  {
   "cell_type": "markdown",
   "id": "7946fb45",
   "metadata": {},
   "source": [
    "### Configuration"
   ]
  },
  {
   "cell_type": "code",
   "execution_count": 26,
   "id": "d233a74f",
   "metadata": {
    "ExecuteTime": {
     "end_time": "2022-07-03T10:13:13.585129Z",
     "start_time": "2022-07-03T10:13:13.580173Z"
    }
   },
   "outputs": [],
   "source": [
    "# EXAMPLE FILE:\n",
    "TEST_FILE = \"./TEST_DATA.txt\" # Just two columns: x, y"
   ]
  },
  {
   "cell_type": "markdown",
   "id": "dbeb2ffc",
   "metadata": {},
   "source": [
    "### Functions"
   ]
  },
  {
   "cell_type": "code",
   "execution_count": 27,
   "id": "a8c45eff",
   "metadata": {
    "ExecuteTime": {
     "end_time": "2022-07-03T10:13:14.358695Z",
     "start_time": "2022-07-03T10:13:14.347725Z"
    }
   },
   "outputs": [],
   "source": [
    "def area_curve(x, y):\n",
    "    '''Calculates and returns the area under a discrete curve'''\n",
    "    return np.trapz(y=y, x=x)"
   ]
  },
  {
   "cell_type": "code",
   "execution_count": 28,
   "id": "d03cf89e",
   "metadata": {
    "ExecuteTime": {
     "end_time": "2022-07-03T10:13:14.779217Z",
     "start_time": "2022-07-03T10:13:14.772235Z"
    }
   },
   "outputs": [],
   "source": [
    "def normalize_curve(x, y):\n",
    "    '''Returns the y values of a curve normalized to area=1.0'''\n",
    "    area = area_curve(x, y)\n",
    "    norm_y = y / area\n",
    "    return norm_y"
   ]
  },
  {
   "cell_type": "code",
   "execution_count": 44,
   "id": "51146c00",
   "metadata": {
    "ExecuteTime": {
     "end_time": "2022-07-03T10:15:24.546014Z",
     "start_time": "2022-07-03T10:15:24.532846Z"
    }
   },
   "outputs": [],
   "source": [
    "def norm_y(x, y):\n",
    "    '''Returns the y values of a curve normalized to area=1.0'''\n",
    "    return y / np.trapz(y=y, x=x)"
   ]
  },
  {
   "cell_type": "markdown",
   "id": "2acb43b9",
   "metadata": {},
   "source": [
    "## Load the example file:"
   ]
  },
  {
   "cell_type": "code",
   "execution_count": 31,
   "id": "5a44a255",
   "metadata": {
    "ExecuteTime": {
     "end_time": "2022-07-03T10:13:36.220197Z",
     "start_time": "2022-07-03T10:13:36.204239Z"
    }
   },
   "outputs": [
    {
     "data": {
      "text/html": [
       "<div>\n",
       "<style scoped>\n",
       "    .dataframe tbody tr th:only-of-type {\n",
       "        vertical-align: middle;\n",
       "    }\n",
       "\n",
       "    .dataframe tbody tr th {\n",
       "        vertical-align: top;\n",
       "    }\n",
       "\n",
       "    .dataframe thead th {\n",
       "        text-align: right;\n",
       "    }\n",
       "</style>\n",
       "<table border=\"1\" class=\"dataframe\">\n",
       "  <thead>\n",
       "    <tr style=\"text-align: right;\">\n",
       "      <th></th>\n",
       "      <th>x</th>\n",
       "      <th>y</th>\n",
       "    </tr>\n",
       "  </thead>\n",
       "  <tbody>\n",
       "    <tr>\n",
       "      <th>0</th>\n",
       "      <td>3.000000</td>\n",
       "      <td>0.123667</td>\n",
       "    </tr>\n",
       "    <tr>\n",
       "      <th>1</th>\n",
       "      <td>3.424682</td>\n",
       "      <td>0.112957</td>\n",
       "    </tr>\n",
       "    <tr>\n",
       "      <th>2</th>\n",
       "      <td>3.742417</td>\n",
       "      <td>0.115653</td>\n",
       "    </tr>\n",
       "    <tr>\n",
       "      <th>3</th>\n",
       "      <td>3.914988</td>\n",
       "      <td>0.123915</td>\n",
       "    </tr>\n",
       "    <tr>\n",
       "      <th>4</th>\n",
       "      <td>4.545641</td>\n",
       "      <td>0.108632</td>\n",
       "    </tr>\n",
       "  </tbody>\n",
       "</table>\n",
       "</div>"
      ],
      "text/plain": [
       "          x         y\n",
       "0  3.000000  0.123667\n",
       "1  3.424682  0.112957\n",
       "2  3.742417  0.115653\n",
       "3  3.914988  0.123915\n",
       "4  4.545641  0.108632"
      ]
     },
     "execution_count": 31,
     "metadata": {},
     "output_type": "execute_result"
    }
   ],
   "source": [
    "data = pd.read_csv(TEST_FILE, sep=',', decimal='.', names=['x', 'y'])\n",
    "data.head()"
   ]
  },
  {
   "cell_type": "markdown",
   "id": "ea3b6f24",
   "metadata": {},
   "source": [
    "## Calculations"
   ]
  },
  {
   "cell_type": "markdown",
   "id": "9a786dc0",
   "metadata": {
    "ExecuteTime": {
     "end_time": "2022-07-03T10:02:44.424532Z",
     "start_time": "2022-07-03T10:02:44.420544Z"
    }
   },
   "source": [
    "### Area under the curve"
   ]
  },
  {
   "cell_type": "code",
   "execution_count": 37,
   "id": "00ac336b",
   "metadata": {
    "ExecuteTime": {
     "end_time": "2022-07-03T10:14:28.046114Z",
     "start_time": "2022-07-03T10:14:28.028358Z"
    }
   },
   "outputs": [
    {
     "data": {
      "text/plain": [
       "2.17230936404009"
      ]
     },
     "execution_count": 37,
     "metadata": {},
     "output_type": "execute_result"
    }
   ],
   "source": [
    "area = area_curve(x=data.x, y=data.y)\n",
    "area"
   ]
  },
  {
   "cell_type": "markdown",
   "id": "bb1f5938",
   "metadata": {},
   "source": [
    "### Normalized curve"
   ]
  },
  {
   "cell_type": "code",
   "execution_count": 38,
   "id": "817a20fe",
   "metadata": {
    "ExecuteTime": {
     "end_time": "2022-07-03T10:14:34.834550Z",
     "start_time": "2022-07-03T10:14:34.819588Z"
    }
   },
   "outputs": [
    {
     "name": "stdout",
     "output_type": "stream",
     "text": [
      "[0.05692865714577739, 0.05199850669055781, 0.05323953526808332, 0.057043091583208375, 0.05000745694801286, 0.05256478238791622, 0.05608640832510424, 0.05621007809537138, 0.05242064960223523, 0.04827304882807877, 0.050579162350824484, 0.04907363185220456, 0.05469175936296678, 0.05231919213782045, 0.05337130149104322, 0.04782277180207505, 0.05218731865573628, 0.04786829708573726, 0.05032495638497946, 0.05644684409588406, 0.05186361199975051, 0.051396260518048166, 0.050252569365615174, 0.05264609861428993, 0.055484034638528426, 0.04881560092471386, 0.05162024334851164, 0.0515462142978331, 0.05665853217660234, 0.051823489261505755, 0.05247571450320197, 0.0569703878502068, 0.05136275838377359, 0.05650924450820281, 0.05500256039857266, 0.055775843904047155, 0.047649899555508114, 0.05511296824561795, 0.04703966464976955, 0.04685847268580915]\n"
     ]
    }
   ],
   "source": [
    "norm_y = normalize_curve(data.x, data.y)\n",
    "print(list(norm_y))"
   ]
  },
  {
   "cell_type": "code",
   "execution_count": 39,
   "id": "16fe8d0c",
   "metadata": {
    "ExecuteTime": {
     "end_time": "2022-07-03T10:14:35.267721Z",
     "start_time": "2022-07-03T10:14:35.260738Z"
    }
   },
   "outputs": [],
   "source": [
    "norm_data = data.copy()"
   ]
  },
  {
   "cell_type": "code",
   "execution_count": 40,
   "id": "832b431d",
   "metadata": {
    "ExecuteTime": {
     "end_time": "2022-07-03T10:14:38.744287Z",
     "start_time": "2022-07-03T10:14:38.730323Z"
    }
   },
   "outputs": [
    {
     "data": {
      "text/html": [
       "<div>\n",
       "<style scoped>\n",
       "    .dataframe tbody tr th:only-of-type {\n",
       "        vertical-align: middle;\n",
       "    }\n",
       "\n",
       "    .dataframe tbody tr th {\n",
       "        vertical-align: top;\n",
       "    }\n",
       "\n",
       "    .dataframe thead th {\n",
       "        text-align: right;\n",
       "    }\n",
       "</style>\n",
       "<table border=\"1\" class=\"dataframe\">\n",
       "  <thead>\n",
       "    <tr style=\"text-align: right;\">\n",
       "      <th></th>\n",
       "      <th>x</th>\n",
       "      <th>y</th>\n",
       "    </tr>\n",
       "  </thead>\n",
       "  <tbody>\n",
       "    <tr>\n",
       "      <th>0</th>\n",
       "      <td>3.000000</td>\n",
       "      <td>0.056929</td>\n",
       "    </tr>\n",
       "    <tr>\n",
       "      <th>1</th>\n",
       "      <td>3.424682</td>\n",
       "      <td>0.051999</td>\n",
       "    </tr>\n",
       "    <tr>\n",
       "      <th>2</th>\n",
       "      <td>3.742417</td>\n",
       "      <td>0.053240</td>\n",
       "    </tr>\n",
       "    <tr>\n",
       "      <th>3</th>\n",
       "      <td>3.914988</td>\n",
       "      <td>0.057043</td>\n",
       "    </tr>\n",
       "    <tr>\n",
       "      <th>4</th>\n",
       "      <td>4.545641</td>\n",
       "      <td>0.050007</td>\n",
       "    </tr>\n",
       "  </tbody>\n",
       "</table>\n",
       "</div>"
      ],
      "text/plain": [
       "          x         y\n",
       "0  3.000000  0.056929\n",
       "1  3.424682  0.051999\n",
       "2  3.742417  0.053240\n",
       "3  3.914988  0.057043\n",
       "4  4.545641  0.050007"
      ]
     },
     "execution_count": 40,
     "metadata": {},
     "output_type": "execute_result"
    }
   ],
   "source": [
    "norm_data.y = normalize_curve(data.x, data.y)\n",
    "norm_data.head()"
   ]
  },
  {
   "cell_type": "code",
   "execution_count": 41,
   "id": "50918237",
   "metadata": {
    "ExecuteTime": {
     "end_time": "2022-07-03T10:14:47.858935Z",
     "start_time": "2022-07-03T10:14:47.851955Z"
    }
   },
   "outputs": [
    {
     "data": {
      "text/plain": [
       "1.0000000000000002"
      ]
     },
     "execution_count": 41,
     "metadata": {},
     "output_type": "execute_result"
    }
   ],
   "source": [
    "area_curve(x=norm_data.x, y=norm_data.y)"
   ]
  },
  {
   "cell_type": "code",
   "execution_count": 46,
   "id": "96298dc4",
   "metadata": {
    "ExecuteTime": {
     "end_time": "2022-07-03T10:15:49.370474Z",
     "start_time": "2022-07-03T10:15:49.349531Z"
    }
   },
   "outputs": [
    {
     "data": {
      "text/html": [
       "<div>\n",
       "<style scoped>\n",
       "    .dataframe tbody tr th:only-of-type {\n",
       "        vertical-align: middle;\n",
       "    }\n",
       "\n",
       "    .dataframe tbody tr th {\n",
       "        vertical-align: top;\n",
       "    }\n",
       "\n",
       "    .dataframe thead th {\n",
       "        text-align: right;\n",
       "    }\n",
       "</style>\n",
       "<table border=\"1\" class=\"dataframe\">\n",
       "  <thead>\n",
       "    <tr style=\"text-align: right;\">\n",
       "      <th></th>\n",
       "      <th>x</th>\n",
       "      <th>y</th>\n",
       "    </tr>\n",
       "  </thead>\n",
       "  <tbody>\n",
       "    <tr>\n",
       "      <th>0</th>\n",
       "      <td>3.000000</td>\n",
       "      <td>0.056929</td>\n",
       "    </tr>\n",
       "    <tr>\n",
       "      <th>1</th>\n",
       "      <td>3.424682</td>\n",
       "      <td>0.051999</td>\n",
       "    </tr>\n",
       "    <tr>\n",
       "      <th>2</th>\n",
       "      <td>3.742417</td>\n",
       "      <td>0.053240</td>\n",
       "    </tr>\n",
       "    <tr>\n",
       "      <th>3</th>\n",
       "      <td>3.914988</td>\n",
       "      <td>0.057043</td>\n",
       "    </tr>\n",
       "    <tr>\n",
       "      <th>4</th>\n",
       "      <td>4.545641</td>\n",
       "      <td>0.050007</td>\n",
       "    </tr>\n",
       "  </tbody>\n",
       "</table>\n",
       "</div>"
      ],
      "text/plain": [
       "          x         y\n",
       "0  3.000000  0.056929\n",
       "1  3.424682  0.051999\n",
       "2  3.742417  0.053240\n",
       "3  3.914988  0.057043\n",
       "4  4.545641  0.050007"
      ]
     },
     "execution_count": 46,
     "metadata": {},
     "output_type": "execute_result"
    }
   ],
   "source": [
    "norm_data.y = norm_y(x=data.x, y=data.y)\n",
    "norm_data.head()"
   ]
  },
  {
   "cell_type": "code",
   "execution_count": 47,
   "id": "d51a0a1d",
   "metadata": {
    "ExecuteTime": {
     "end_time": "2022-07-03T10:15:56.888744Z",
     "start_time": "2022-07-03T10:15:56.877774Z"
    }
   },
   "outputs": [
    {
     "data": {
      "text/plain": [
       "1.0000000000000002"
      ]
     },
     "execution_count": 47,
     "metadata": {},
     "output_type": "execute_result"
    }
   ],
   "source": [
    "area_curve(x=norm_data.x, y=norm_data.y)"
   ]
  },
  {
   "cell_type": "markdown",
   "id": "a6336b7e",
   "metadata": {},
   "source": [
    "## Plot both curves"
   ]
  },
  {
   "cell_type": "code",
   "execution_count": 51,
   "id": "4d8372a6",
   "metadata": {
    "ExecuteTime": {
     "end_time": "2022-07-03T10:18:00.997676Z",
     "start_time": "2022-07-03T10:18:00.860871Z"
    }
   },
   "outputs": [
    {
     "data": {
      "image/png": "[encoded data removed]",
      "text/plain": [
       "<Figure size 432x288 with 1 Axes>"
      ]
     },
     "metadata": {
      "needs_background": "light"
     },
     "output_type": "display_data"
    }
   ],
   "source": [
    "plt.plot(data.x, data.y, label=\"Original\", marker=\".\", linestyle=None)\n",
    "plt.plot(norm_data.x, norm_data.y, label=\"Normalized\", marker='*', linestyle=None)\n",
    "plt.legend()\n",
    "plt.show();"
   ]
  },
  {
   "cell_type": "markdown",
   "id": "b94b7fbe",
   "metadata": {},
   "source": [
    "# Summary"
   ]
  },
  {
   "cell_type": "markdown",
   "id": "6bb41d08",
   "metadata": {
    "ExecuteTime": {
     "end_time": "2022-04-14T10:53:30.704234Z",
     "start_time": "2022-04-14T10:53:30.693289Z"
    }
   },
   "source": [
    "**OBSERVATIONS AND CONCLUSIONS:**\n",
    "- We tested and validated the simple normalization of a curve to area=1.0."
   ]
  },
  {
   "cell_type": "code",
   "execution_count": null,
   "id": "0127bb48",
   "metadata": {},
   "outputs": [],
   "source": []
  }
 ],
 "metadata": {
  "kernelspec": {
   "display_name": "Python 3",
   "language": "python",
   "name": "python3"
  },
  "language_info": {
   "codemirror_mode": {
    "name": "ipython",
    "version": 3
   },
   "file_extension": ".py",
   "mimetype": "text/x-python",
   "name": "python",
   "nbconvert_exporter": "python",
   "pygments_lexer": "ipython3",
   "version": "3.8.8"
  },
  "toc": {
   "base_numbering": 1,
   "nav_menu": {},
   "number_sections": true,
   "sideBar": true,
   "skip_h1_title": true,
   "title_cell": "Table of Contents",
   "title_sidebar": "Contents",
   "toc_cell": false,
   "toc_position": {
    "height": "calc(100% - 180px)",
    "left": "10px",
    "top": "150px",
    "width": "384px"
   },
   "toc_section_display": true,
   "toc_window_display": true
  }
 },
 "nbformat": 4,
 "nbformat_minor": 5
}
