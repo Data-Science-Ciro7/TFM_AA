{
 "cells": [
  {
   "cell_type": "markdown",
   "id": "1528757a",
   "metadata": {},
   "source": [
    "# BASIC GLS PERIODOGRAMS RESULTS ANALYSIS FOR CARMENES TESS CURVES"
   ]
  },
  {
   "cell_type": "markdown",
   "id": "d321b3f1",
   "metadata": {},
   "source": [
    "We review the basic results of the GLS periodograms applied over the TESS curves of CARMENES objects, specially looking at the wrong records.\n",
    "\n",
    "**Note:** In this notebook only the 269 objects in common with RV are analyzed."
   ]
  },
  {
   "cell_type": "markdown",
   "id": "1152f6a9",
   "metadata": {
    "ExecuteTime": {
     "end_time": "2022-03-14T19:04:10.420175Z",
     "start_time": "2022-03-14T19:04:10.402223Z"
    }
   },
   "source": [
    "## Modules and configuration"
   ]
  },
  {
   "cell_type": "markdown",
   "id": "95da2500",
   "metadata": {
    "ExecuteTime": {
     "end_time": "2022-03-14T19:04:18.347430Z",
     "start_time": "2022-03-14T19:04:18.330475Z"
    }
   },
   "source": [
    "### Modules"
   ]
  },
  {
   "cell_type": "code",
   "execution_count": 1,
   "id": "0d3da0ce",
   "metadata": {
    "ExecuteTime": {
     "end_time": "2022-11-14T08:35:52.767029Z",
     "start_time": "2022-11-14T08:35:51.880509Z"
    }
   },
   "outputs": [
    {
     "data": {
      "text/plain": [
       "<Figure size 1200x800 with 0 Axes>"
      ]
     },
     "metadata": {},
     "output_type": "display_data"
    }
   ],
   "source": [
    "import pandas as pd\n",
    "\n",
    "from scipy.stats import normaltest\n",
    "\n",
    "import matplotlib.pyplot as plt\n",
    "import matplotlib.patches as mpatches\n",
    "plt.figure(figsize = (15, 10), dpi = 80)\n",
    "\n",
    "import seaborn as sns\n",
    "sns.set_style(\"white\", {'figure.figsize':(15,10)})"
   ]
  },
  {
   "cell_type": "markdown",
   "id": "95db9e59",
   "metadata": {
    "ExecuteTime": {
     "end_time": "2022-03-14T19:05:20.063720Z",
     "start_time": "2022-03-14T19:05:20.050761Z"
    }
   },
   "source": [
    "### Configuration"
   ]
  },
  {
   "cell_type": "code",
   "execution_count": 2,
   "id": "8ec87e97",
   "metadata": {
    "ExecuteTime": {
     "end_time": "2022-11-14T08:36:54.430057Z",
     "start_time": "2022-11-14T08:36:54.423076Z"
    }
   },
   "outputs": [],
   "source": [
    "GTO_FILE = \"../data/CARM_VIS_objects_with_PG.csv\"\n",
    "#GTO_FILE = \"../data/GTO_objects_with_PG.csv\"\n",
    "#GTO_FILE = \"../data/SELECTION_GTO_objects_with_PG.csv\"\n",
    "RV_FOLDER = \"../data/CARMENES_GTO_RVs/\"\n",
    "\n",
    "IMAGE_FOLDER = \"./img/\"\n",
    "\n",
    "ALPHA = 1e-3 # Significance threshold for statistical tests"
   ]
  },
  {
   "cell_type": "markdown",
   "id": "26c0df9f",
   "metadata": {},
   "source": [
    "### Functions"
   ]
  },
  {
   "cell_type": "code",
   "execution_count": 3,
   "id": "f6a11dec",
   "metadata": {
    "ExecuteTime": {
     "end_time": "2022-11-14T08:36:58.320442Z",
     "start_time": "2022-11-14T08:36:58.301494Z"
    }
   },
   "outputs": [],
   "source": [
    "def draw_hist(d1, d1_label, fig_filename=None):\n",
    "    '''Draws an histogram of the values passed. It also calulates the statistics\n",
    "    and tests the goodness of fit by a Gaussian distribution'''\n",
    "    # Plots and saves the figure\n",
    "    kwargs = dict(hist_kws={'alpha':.4}, kde_kws={'linewidth':2})\n",
    "    plt.figure(figsize=(10,7))\n",
    "    plt.title(d1_label + \" values distribution\", fontsize=16)\n",
    "    plt.grid(axis='both', alpha=0.75)\n",
    "    plt.xlabel(d1_label, fontsize=12)\n",
    "    plt.ylabel('Frequency', fontsize=12)\n",
    "    sns.distplot(d1, label=d1_label, **kwargs)\n",
    "    #sns.histplot(d1, label=d1_label)\n",
    "    #plt.xlim(0,100)\n",
    "    #plt.legend(loc='upper right');\n",
    "    # Save the image:\n",
    "    if fig_filename is None:\n",
    "        pass\n",
    "    else:\n",
    "        plt.savefig(fig_filename, format='png')\n",
    "    # Display basic statistics:\n",
    "    print(pd.Series(d1).describe())\n",
    "    # Perform the normaltest (D'Agostino and Pearson) for Gaussian distribution fit:\n",
    "    k2, p = normaltest(d1)\n",
    "    alpha = ALPHA\n",
    "    print(\"p = {:g}\".format(p))\n",
    "    if p < alpha:  # null hypothesis: x comes from a normal distribution\n",
    "        print(\"***This distribution does NOT come from a Gaussian distribution\" \\\n",
    "              \"(with significance level = %.6f)\" %(1.0 - alpha))\n",
    "    else:\n",
    "        print(\"This distribution MIGHT COME come from Gaussian distribution\" \\\n",
    "              \"(with significance level = %.6f)\" %(1.0 - alpha))"
   ]
  },
  {
   "cell_type": "markdown",
   "id": "488232a8",
   "metadata": {},
   "source": [
    "## Load CARM\\_VIS table with GLS results"
   ]
  },
  {
   "cell_type": "code",
   "execution_count": 4,
   "id": "d6b00136",
   "metadata": {
    "ExecuteTime": {
     "end_time": "2022-11-14T08:37:01.212314Z",
     "start_time": "2022-11-14T08:37:01.154503Z"
    }
   },
   "outputs": [
    {
     "data": {
      "text/html": [
       "<div>\n",
       "<style scoped>\n",
       "    .dataframe tbody tr th:only-of-type {\n",
       "        vertical-align: middle;\n",
       "    }\n",
       "\n",
       "    .dataframe tbody tr th {\n",
       "        vertical-align: top;\n",
       "    }\n",
       "\n",
       "    .dataframe thead th {\n",
       "        text-align: right;\n",
       "    }\n",
       "</style>\n",
       "<table border=\"1\" class=\"dataframe\">\n",
       "  <thead>\n",
       "    <tr style=\"text-align: right;\">\n",
       "      <th></th>\n",
       "      <th>Karmn</th>\n",
       "      <th>Name</th>\n",
       "      <th>Comp</th>\n",
       "      <th>GJ</th>\n",
       "      <th>RA_J2016_deg</th>\n",
       "      <th>DE_J2016_deg</th>\n",
       "      <th>RA_J2000</th>\n",
       "      <th>DE_J2000</th>\n",
       "      <th>l_J2016_deg</th>\n",
       "      <th>b_J2016_deg</th>\n",
       "      <th>...</th>\n",
       "      <th>WF_offset_PG_TESS</th>\n",
       "      <th>WF_e_offset_PG_TESS</th>\n",
       "      <th>WF_FAP_PG_TESS</th>\n",
       "      <th>WF_valid_PG_TESS</th>\n",
       "      <th>WF_error_PG_TESS</th>\n",
       "      <th>WF_elapsed_time_PG_TESS</th>\n",
       "      <th>WF_plain_file_TESS</th>\n",
       "      <th>WF_fig_file_TESS</th>\n",
       "      <th>PG_file_RV</th>\n",
       "      <th>PG_file_TESS</th>\n",
       "    </tr>\n",
       "  </thead>\n",
       "  <tbody>\n",
       "    <tr>\n",
       "      <th>0</th>\n",
       "      <td>J23585+076</td>\n",
       "      <td>Wolf 1051</td>\n",
       "      <td>AB</td>\n",
       "      <td>4383</td>\n",
       "      <td>359.636420</td>\n",
       "      <td>7.656947</td>\n",
       "      <td>23:58:32.65</td>\n",
       "      <td>+07:39:30.1</td>\n",
       "      <td>100.839686</td>\n",
       "      <td>-52.931049</td>\n",
       "      <td>...</td>\n",
       "      <td>NaN</td>\n",
       "      <td>NaN</td>\n",
       "      <td>NaN</td>\n",
       "      <td>0.0</td>\n",
       "      <td>Not recognized as a supported data product:\\nn...</td>\n",
       "      <td>0.000997</td>\n",
       "      <td>NaN</td>\n",
       "      <td>NaN</td>\n",
       "      <td>../data/CARM_VIS_RVs_PGs/J23585+076_RV_PG.dat</td>\n",
       "      <td>NaN</td>\n",
       "    </tr>\n",
       "    <tr>\n",
       "      <th>1</th>\n",
       "      <td>J23556-061</td>\n",
       "      <td>GJ 912</td>\n",
       "      <td>AB</td>\n",
       "      <td>912</td>\n",
       "      <td>358.913617</td>\n",
       "      <td>-6.144283</td>\n",
       "      <td>23:55:39.78</td>\n",
       "      <td>-06:08:33.4</td>\n",
       "      <td>88.129933</td>\n",
       "      <td>-65.175491</td>\n",
       "      <td>...</td>\n",
       "      <td>NaN</td>\n",
       "      <td>NaN</td>\n",
       "      <td>NaN</td>\n",
       "      <td>0.0</td>\n",
       "      <td>Not recognized as a supported data product:\\nn...</td>\n",
       "      <td>0.000998</td>\n",
       "      <td>NaN</td>\n",
       "      <td>NaN</td>\n",
       "      <td>../data/CARM_VIS_RVs_PGs/J23556-061_RV_PG.dat</td>\n",
       "      <td>NaN</td>\n",
       "    </tr>\n",
       "    <tr>\n",
       "      <th>2</th>\n",
       "      <td>J23548+385</td>\n",
       "      <td>RX J2354.8+3831</td>\n",
       "      <td>-</td>\n",
       "      <td>NaN</td>\n",
       "      <td>358.713658</td>\n",
       "      <td>38.526340</td>\n",
       "      <td>23:54:51.46</td>\n",
       "      <td>+38:31:36.2</td>\n",
       "      <td>110.941908</td>\n",
       "      <td>-23.024449</td>\n",
       "      <td>...</td>\n",
       "      <td>999.999756</td>\n",
       "      <td>2.151008e-06</td>\n",
       "      <td>1.0</td>\n",
       "      <td>1.0</td>\n",
       "      <td>NaN</td>\n",
       "      <td>94.758838</td>\n",
       "      <td>../data/CARM_VIS_TESS_WinFunc_PGs/WF_J23548+38...</td>\n",
       "      <td>../data/CARM_VIS_TESS_WinFunc_PGs/figures/WF_J...</td>\n",
       "      <td>../data/CARM_VIS_RVs_PGs/J23548+385_RV_PG.dat</td>\n",
       "      <td>../data/CARM_VIS_TESS_PGs/J23548+385_RV_PG.dat</td>\n",
       "    </tr>\n",
       "    <tr>\n",
       "      <th>3</th>\n",
       "      <td>J23505-095</td>\n",
       "      <td>LP 763-012</td>\n",
       "      <td>-</td>\n",
       "      <td>4367</td>\n",
       "      <td>357.634705</td>\n",
       "      <td>-9.560964</td>\n",
       "      <td>23:50:31.64</td>\n",
       "      <td>-09:33:32.7</td>\n",
       "      <td>80.777067</td>\n",
       "      <td>-67.303426</td>\n",
       "      <td>...</td>\n",
       "      <td>1000.000122</td>\n",
       "      <td>9.022946e-07</td>\n",
       "      <td>1.0</td>\n",
       "      <td>1.0</td>\n",
       "      <td>NaN</td>\n",
       "      <td>132.607176</td>\n",
       "      <td>../data/CARM_VIS_TESS_WinFunc_PGs/WF_J23505-09...</td>\n",
       "      <td>../data/CARM_VIS_TESS_WinFunc_PGs/figures/WF_J...</td>\n",
       "      <td>../data/CARM_VIS_RVs_PGs/J23505-095_RV_PG.dat</td>\n",
       "      <td>../data/CARM_VIS_TESS_PGs/J23505-095_RV_PG.dat</td>\n",
       "    </tr>\n",
       "    <tr>\n",
       "      <th>4</th>\n",
       "      <td>J23492+024</td>\n",
       "      <td>BR Psc</td>\n",
       "      <td>-</td>\n",
       "      <td>908</td>\n",
       "      <td>357.306604</td>\n",
       "      <td>2.396918</td>\n",
       "      <td>23:49:12.53</td>\n",
       "      <td>+02:24:04.4</td>\n",
       "      <td>93.567467</td>\n",
       "      <td>-56.885396</td>\n",
       "      <td>...</td>\n",
       "      <td>NaN</td>\n",
       "      <td>NaN</td>\n",
       "      <td>NaN</td>\n",
       "      <td>0.0</td>\n",
       "      <td>Not recognized as a supported data product:\\nn...</td>\n",
       "      <td>0.001995</td>\n",
       "      <td>NaN</td>\n",
       "      <td>NaN</td>\n",
       "      <td>../data/CARM_VIS_RVs_PGs/J23492+024_RV_PG.dat</td>\n",
       "      <td>NaN</td>\n",
       "    </tr>\n",
       "  </tbody>\n",
       "</table>\n",
       "<p>5 rows × 300 columns</p>\n",
       "</div>"
      ],
      "text/plain": [
       "        Karmn             Name Comp    GJ  RA_J2016_deg  DE_J2016_deg  \\\n",
       "0  J23585+076        Wolf 1051   AB  4383    359.636420      7.656947   \n",
       "1  J23556-061           GJ 912   AB   912    358.913617     -6.144283   \n",
       "2  J23548+385  RX J2354.8+3831    -   NaN    358.713658     38.526340   \n",
       "3  J23505-095       LP 763-012    -  4367    357.634705     -9.560964   \n",
       "4  J23492+024           BR Psc    -   908    357.306604      2.396918   \n",
       "\n",
       "      RA_J2000     DE_J2000  l_J2016_deg  b_J2016_deg  ... WF_offset_PG_TESS  \\\n",
       "0  23:58:32.65  +07:39:30.1   100.839686   -52.931049  ...               NaN   \n",
       "1  23:55:39.78  -06:08:33.4    88.129933   -65.175491  ...               NaN   \n",
       "2  23:54:51.46  +38:31:36.2   110.941908   -23.024449  ...        999.999756   \n",
       "3  23:50:31.64  -09:33:32.7    80.777067   -67.303426  ...       1000.000122   \n",
       "4  23:49:12.53  +02:24:04.4    93.567467   -56.885396  ...               NaN   \n",
       "\n",
       "  WF_e_offset_PG_TESS  WF_FAP_PG_TESS WF_valid_PG_TESS  \\\n",
       "0                 NaN             NaN              0.0   \n",
       "1                 NaN             NaN              0.0   \n",
       "2        2.151008e-06             1.0              1.0   \n",
       "3        9.022946e-07             1.0              1.0   \n",
       "4                 NaN             NaN              0.0   \n",
       "\n",
       "                                    WF_error_PG_TESS  WF_elapsed_time_PG_TESS  \\\n",
       "0  Not recognized as a supported data product:\\nn...                 0.000997   \n",
       "1  Not recognized as a supported data product:\\nn...                 0.000998   \n",
       "2                                                NaN                94.758838   \n",
       "3                                                NaN               132.607176   \n",
       "4  Not recognized as a supported data product:\\nn...                 0.001995   \n",
       "\n",
       "                                  WF_plain_file_TESS  \\\n",
       "0                                                NaN   \n",
       "1                                                NaN   \n",
       "2  ../data/CARM_VIS_TESS_WinFunc_PGs/WF_J23548+38...   \n",
       "3  ../data/CARM_VIS_TESS_WinFunc_PGs/WF_J23505-09...   \n",
       "4                                                NaN   \n",
       "\n",
       "                                    WF_fig_file_TESS  \\\n",
       "0                                                NaN   \n",
       "1                                                NaN   \n",
       "2  ../data/CARM_VIS_TESS_WinFunc_PGs/figures/WF_J...   \n",
       "3  ../data/CARM_VIS_TESS_WinFunc_PGs/figures/WF_J...   \n",
       "4                                                NaN   \n",
       "\n",
       "                                      PG_file_RV  \\\n",
       "0  ../data/CARM_VIS_RVs_PGs/J23585+076_RV_PG.dat   \n",
       "1  ../data/CARM_VIS_RVs_PGs/J23556-061_RV_PG.dat   \n",
       "2  ../data/CARM_VIS_RVs_PGs/J23548+385_RV_PG.dat   \n",
       "3  ../data/CARM_VIS_RVs_PGs/J23505-095_RV_PG.dat   \n",
       "4  ../data/CARM_VIS_RVs_PGs/J23492+024_RV_PG.dat   \n",
       "\n",
       "                                     PG_file_TESS  \n",
       "0                                             NaN  \n",
       "1                                             NaN  \n",
       "2  ../data/CARM_VIS_TESS_PGs/J23548+385_RV_PG.dat  \n",
       "3  ../data/CARM_VIS_TESS_PGs/J23505-095_RV_PG.dat  \n",
       "4                                             NaN  \n",
       "\n",
       "[5 rows x 300 columns]"
      ]
     },
     "execution_count": 4,
     "metadata": {},
     "output_type": "execute_result"
    }
   ],
   "source": [
    "gto = pd.read_csv(GTO_FILE, sep=',', decimal='.')\n",
    "gto.head()"
   ]
  },
  {
   "cell_type": "code",
   "execution_count": 5,
   "id": "0b65f1f0",
   "metadata": {
    "ExecuteTime": {
     "end_time": "2022-11-14T08:37:12.534918Z",
     "start_time": "2022-11-14T08:37:12.520956Z"
    }
   },
   "outputs": [
    {
     "name": "stdout",
     "output_type": "stream",
     "text": [
      "['Karmn', 'Name', 'Comp', 'GJ', 'RA_J2016_deg', 'DE_J2016_deg', 'RA_J2000', 'DE_J2000', 'l_J2016_deg', 'b_J2016_deg', 'Ref01', 'SpT', 'SpTnum', 'Ref02', 'Teff_K', 'eTeff_K', 'logg', 'elogg', '[Fe/H]', 'e[Fe/H]', 'Ref03', 'L_Lsol', 'eL_Lsol', 'Ref04', 'R_Rsol', 'eR_Rsol', 'Ref05', 'M_Msol', 'eM_Msol', 'Ref06', 'muRA_masa-1', 'emuRA_masa-1', 'muDE_masa-1', 'emuDE_masa-1', 'Ref07', 'pi_mas', 'epi_mas', 'Ref08', 'd_pc', 'ed_pc', 'Ref09', 'Vr_kms-1', 'eVr_kms-1', 'Ref10', 'ruwe', 'Ref11', 'U_kms-1', 'eU_kms-1', 'V_kms-1', 'eV_kms-1', 'W_kms-1', 'eW_kms-1', 'Ref12', 'sa_m/s/a', 'esa_m/s/a', 'Ref13', 'SKG', 'Ref14', 'SKG_lit', 'Ref14_lit', 'Pop', 'Ref15', 'vsini_flag', 'vsini_kms-1', 'evsini_kms-1', 'Ref16', 'P_d', 'eP_d', 'Ref17', 'pEWHalpha_A', 'epEWHalpha_A', 'Ref18', 'log(LHalpha/Lbol)', 'elog(LHalpha/Lbol)', 'Ref19', '1RXS', 'CRT_s-1', 'eCRT_s-1', 'HR1', 'eHR1', 'HR2', 'eHR2', 'Flux_X_E-13_ergcm-2s-1', 'eFlux_X_E-13_ergcm-2s-1', 'LX/LJ', 'eLX/LJ', 'Ref20', 'Activity', 'Ref21', 'FUV_mag', 'eFUV_mag', 'NUV_mag', 'eNUV_mag', 'Ref22', 'u_mag', 'eu_mag', 'Ref23', 'BT_mag', 'eBT_mag', 'Ref24', 'B_mag', 'eB_mag', 'Ref25', 'BP_mag', 'eBP_mag', 'Ref26', 'g_mag', 'eg_mag', 'Ref27', 'VT_mag', 'eVT_mag', 'Ref28', 'V_mag', 'eV_mag', 'Ref29', 'Ra_mag', 'Ref30', 'r_mag', 'er_mag', 'Ref31', 'GG_mag', 'eGG_mag', 'Ref32', 'i_mag', 'ei_mag', 'Ref33', 'RP_mag', 'eRP_mag', 'Ref34', 'IN_mag', 'Ref35', 'J_mag', 'eJ_mag', 'H_mag', 'eH_mag', 'Ks_mag', 'eKs_mag', 'QFlag_2M', 'Ref36', 'W1_mag', 'eW1_mag', 'W2_mag', 'eW2_mag', 'W3_mag', 'eW3_mag', 'W4_mag', 'eW4_mag', 'QFlag_WISE', 'Ref37', 'Multiplicity', 'WideWDS', 'Widerho_arcsec', 'eWiderho_arcsec', 'Ref38', 'WideCompanionName', 'WideCompanionSpT', 'CloseWDS', 'Closerho_arcsec', 'eCloserho_arcsec', 'Ref39', 'CloseCompanionSpT', 'RV', 'Planet', 'Ref40', 'PlanetNum', 'LoRes_spectrum', 'HiRes_spectrum', 'LoRes_imaging', 'HiRes_imaging', 'Class', 'Survey', 'Notes', 'Gaia_id_1', '2MASS_id', 'TIC_id', 'Teff_min_K', 'Teff_max_K', 'logg_min', 'logg_max', 'is_GTO', 'rv_file', 'lc_file', 'has_rv', 'has_lc', 'InstBand_nominal', 'InstBand_ranged', 'n_RV', 'Ps_RV', 'fs_RV', 'wmean_RV', 'wrms_RV', 'info_PG_RV', 'maxP_PG_RV', 'maxSNR_PG_RV', 'rms_PG_RV', 'f_PG_RV', 'e_f_PG_RV', 'Pd_PG_RV', 'e_Pd_PG_RV', 'Ph_PG_RV', 'e_Ph_PG_RV', 'Pm_PG_RV', 'e_Pm_PG_RV', 'A_PG_RV', 'e_A_PG_RV', 'ph_PG_RV', 'e_ph_PG_RV', 'T0_PG_RV', 'e_T0_PG_RV', 'offset_PG_RV', 'e_offset_PG_RV', 'FAP_PG_RV', 'valid_PG_RV', 'error_PG_RV', 'elapsed_time_PG_RV', 'fits_file_RV', 'fig_file_RV', 'n_TESS', 'Ps_TESS', 'fs_TESS', 'wmean_TESS', 'wrms_TESS', 'info_PG_TESS', 'maxP_PG_TESS', 'maxSNR_PG_TESS', 'rms_PG_TESS', 'f_PG_TESS', 'e_f_PG_TESS', 'Pd_PG_TESS', 'e_Pd_PG_TESS', 'Ph_PG_TESS', 'e_Ph_PG_TESS', 'Pm_PG_TESS', 'e_Pm_PG_TESS', 'A_PG_TESS', 'e_A_PG_TESS', 'ph_PG_TESS', 'e_ph_PG_TESS', 'T0_PG_TESS', 'e_T0_PG_TESS', 'offset_PG_TESS', 'e_offset_PG_TESS', 'FAP_PG_TESS', 'valid_PG_TESS', 'error_PG_TESS', 'elapsed_time_PG_TESS', 'fits_file_TESS', 'fig_file_TESS', 'WF_maxP_PG_RV', 'WF_maxSNR_PG_RV', 'WF_rms_PG_RV', 'WF_f_PG_RV', 'WF_e_f_PG_RV', 'WF_Pd_PG_RV', 'WF_e_Pd_PG_RV', 'WF_Ph_PG_RV', 'WF_e_Ph_PG_RV', 'WF_Pm_PG_RV', 'WF_e_Pm_PG_RV', 'WF_A_PG_RV', 'WF_e_A_PG_RV', 'WF_ph_PG_RV', 'WF_e_ph_PG_RV', 'WF_T0_PG_RV', 'WF_e_T0_PG_RV', 'WF_offset_PG_RV', 'WF_e_offset_PG_RV', 'WF_FAP_PG_RV', 'WF_valid_PG_RV', 'WF_error_PG_RV', 'WF_elapsed_time_PG_RV', 'WF_plain_file_RV', 'WF_fig_file_RV', 'WF_maxP_PG_TESS', 'WF_maxSNR_PG_TESS', 'WF_rms_PG_TESS', 'WF_f_PG_TESS', 'WF_e_f_PG_TESS', 'WF_Pd_PG_TESS', 'WF_e_Pd_PG_TESS', 'WF_Ph_PG_TESS', 'WF_e_Ph_PG_TESS', 'WF_Pm_PG_TESS', 'WF_e_Pm_PG_TESS', 'WF_A_PG_TESS', 'WF_e_A_PG_TESS', 'WF_ph_PG_TESS', 'WF_e_ph_PG_TESS', 'WF_T0_PG_TESS', 'WF_e_T0_PG_TESS', 'WF_offset_PG_TESS', 'WF_e_offset_PG_TESS', 'WF_FAP_PG_TESS', 'WF_valid_PG_TESS', 'WF_error_PG_TESS', 'WF_elapsed_time_PG_TESS', 'WF_plain_file_TESS', 'WF_fig_file_TESS', 'PG_file_RV', 'PG_file_TESS']\n"
     ]
    }
   ],
   "source": [
    "print(list(gto.columns))"
   ]
  },
  {
   "cell_type": "markdown",
   "id": "a3c305b3",
   "metadata": {},
   "source": [
    "### Addendum: correct some RV column names"
   ]
  },
  {
   "cell_type": "code",
   "execution_count": 6,
   "id": "22921e32",
   "metadata": {
    "ExecuteTime": {
     "end_time": "2022-11-14T08:37:14.924940Z",
     "start_time": "2022-11-14T08:37:14.895020Z"
    }
   },
   "outputs": [
    {
     "name": "stdout",
     "output_type": "stream",
     "text": [
      "No correction needed.\n"
     ]
    },
    {
     "data": {
      "text/html": [
       "<div>\n",
       "<style scoped>\n",
       "    .dataframe tbody tr th:only-of-type {\n",
       "        vertical-align: middle;\n",
       "    }\n",
       "\n",
       "    .dataframe tbody tr th {\n",
       "        vertical-align: top;\n",
       "    }\n",
       "\n",
       "    .dataframe thead th {\n",
       "        text-align: right;\n",
       "    }\n",
       "</style>\n",
       "<table border=\"1\" class=\"dataframe\">\n",
       "  <thead>\n",
       "    <tr style=\"text-align: right;\">\n",
       "      <th></th>\n",
       "      <th>Karmn</th>\n",
       "      <th>Name</th>\n",
       "      <th>Comp</th>\n",
       "      <th>GJ</th>\n",
       "      <th>RA_J2016_deg</th>\n",
       "      <th>DE_J2016_deg</th>\n",
       "      <th>RA_J2000</th>\n",
       "      <th>DE_J2000</th>\n",
       "      <th>l_J2016_deg</th>\n",
       "      <th>b_J2016_deg</th>\n",
       "      <th>...</th>\n",
       "      <th>WF_offset_PG_TESS</th>\n",
       "      <th>WF_e_offset_PG_TESS</th>\n",
       "      <th>WF_FAP_PG_TESS</th>\n",
       "      <th>WF_valid_PG_TESS</th>\n",
       "      <th>WF_error_PG_TESS</th>\n",
       "      <th>WF_elapsed_time_PG_TESS</th>\n",
       "      <th>WF_plain_file_TESS</th>\n",
       "      <th>WF_fig_file_TESS</th>\n",
       "      <th>PG_file_RV</th>\n",
       "      <th>PG_file_TESS</th>\n",
       "    </tr>\n",
       "  </thead>\n",
       "  <tbody>\n",
       "    <tr>\n",
       "      <th>0</th>\n",
       "      <td>J23585+076</td>\n",
       "      <td>Wolf 1051</td>\n",
       "      <td>AB</td>\n",
       "      <td>4383</td>\n",
       "      <td>359.636420</td>\n",
       "      <td>7.656947</td>\n",
       "      <td>23:58:32.65</td>\n",
       "      <td>+07:39:30.1</td>\n",
       "      <td>100.839686</td>\n",
       "      <td>-52.931049</td>\n",
       "      <td>...</td>\n",
       "      <td>NaN</td>\n",
       "      <td>NaN</td>\n",
       "      <td>NaN</td>\n",
       "      <td>0.0</td>\n",
       "      <td>Not recognized as a supported data product:\\nn...</td>\n",
       "      <td>0.000997</td>\n",
       "      <td>NaN</td>\n",
       "      <td>NaN</td>\n",
       "      <td>../data/CARM_VIS_RVs_PGs/J23585+076_RV_PG.dat</td>\n",
       "      <td>NaN</td>\n",
       "    </tr>\n",
       "    <tr>\n",
       "      <th>1</th>\n",
       "      <td>J23556-061</td>\n",
       "      <td>GJ 912</td>\n",
       "      <td>AB</td>\n",
       "      <td>912</td>\n",
       "      <td>358.913617</td>\n",
       "      <td>-6.144283</td>\n",
       "      <td>23:55:39.78</td>\n",
       "      <td>-06:08:33.4</td>\n",
       "      <td>88.129933</td>\n",
       "      <td>-65.175491</td>\n",
       "      <td>...</td>\n",
       "      <td>NaN</td>\n",
       "      <td>NaN</td>\n",
       "      <td>NaN</td>\n",
       "      <td>0.0</td>\n",
       "      <td>Not recognized as a supported data product:\\nn...</td>\n",
       "      <td>0.000998</td>\n",
       "      <td>NaN</td>\n",
       "      <td>NaN</td>\n",
       "      <td>../data/CARM_VIS_RVs_PGs/J23556-061_RV_PG.dat</td>\n",
       "      <td>NaN</td>\n",
       "    </tr>\n",
       "    <tr>\n",
       "      <th>2</th>\n",
       "      <td>J23548+385</td>\n",
       "      <td>RX J2354.8+3831</td>\n",
       "      <td>-</td>\n",
       "      <td>NaN</td>\n",
       "      <td>358.713658</td>\n",
       "      <td>38.526340</td>\n",
       "      <td>23:54:51.46</td>\n",
       "      <td>+38:31:36.2</td>\n",
       "      <td>110.941908</td>\n",
       "      <td>-23.024449</td>\n",
       "      <td>...</td>\n",
       "      <td>999.999756</td>\n",
       "      <td>2.151008e-06</td>\n",
       "      <td>1.0</td>\n",
       "      <td>1.0</td>\n",
       "      <td>NaN</td>\n",
       "      <td>94.758838</td>\n",
       "      <td>../data/CARM_VIS_TESS_WinFunc_PGs/WF_J23548+38...</td>\n",
       "      <td>../data/CARM_VIS_TESS_WinFunc_PGs/figures/WF_J...</td>\n",
       "      <td>../data/CARM_VIS_RVs_PGs/J23548+385_RV_PG.dat</td>\n",
       "      <td>../data/CARM_VIS_TESS_PGs/J23548+385_RV_PG.dat</td>\n",
       "    </tr>\n",
       "    <tr>\n",
       "      <th>3</th>\n",
       "      <td>J23505-095</td>\n",
       "      <td>LP 763-012</td>\n",
       "      <td>-</td>\n",
       "      <td>4367</td>\n",
       "      <td>357.634705</td>\n",
       "      <td>-9.560964</td>\n",
       "      <td>23:50:31.64</td>\n",
       "      <td>-09:33:32.7</td>\n",
       "      <td>80.777067</td>\n",
       "      <td>-67.303426</td>\n",
       "      <td>...</td>\n",
       "      <td>1000.000122</td>\n",
       "      <td>9.022946e-07</td>\n",
       "      <td>1.0</td>\n",
       "      <td>1.0</td>\n",
       "      <td>NaN</td>\n",
       "      <td>132.607176</td>\n",
       "      <td>../data/CARM_VIS_TESS_WinFunc_PGs/WF_J23505-09...</td>\n",
       "      <td>../data/CARM_VIS_TESS_WinFunc_PGs/figures/WF_J...</td>\n",
       "      <td>../data/CARM_VIS_RVs_PGs/J23505-095_RV_PG.dat</td>\n",
       "      <td>../data/CARM_VIS_TESS_PGs/J23505-095_RV_PG.dat</td>\n",
       "    </tr>\n",
       "    <tr>\n",
       "      <th>4</th>\n",
       "      <td>J23492+024</td>\n",
       "      <td>BR Psc</td>\n",
       "      <td>-</td>\n",
       "      <td>908</td>\n",
       "      <td>357.306604</td>\n",
       "      <td>2.396918</td>\n",
       "      <td>23:49:12.53</td>\n",
       "      <td>+02:24:04.4</td>\n",
       "      <td>93.567467</td>\n",
       "      <td>-56.885396</td>\n",
       "      <td>...</td>\n",
       "      <td>NaN</td>\n",
       "      <td>NaN</td>\n",
       "      <td>NaN</td>\n",
       "      <td>0.0</td>\n",
       "      <td>Not recognized as a supported data product:\\nn...</td>\n",
       "      <td>0.001995</td>\n",
       "      <td>NaN</td>\n",
       "      <td>NaN</td>\n",
       "      <td>../data/CARM_VIS_RVs_PGs/J23492+024_RV_PG.dat</td>\n",
       "      <td>NaN</td>\n",
       "    </tr>\n",
       "  </tbody>\n",
       "</table>\n",
       "<p>5 rows × 300 columns</p>\n",
       "</div>"
      ],
      "text/plain": [
       "        Karmn             Name Comp    GJ  RA_J2016_deg  DE_J2016_deg  \\\n",
       "0  J23585+076        Wolf 1051   AB  4383    359.636420      7.656947   \n",
       "1  J23556-061           GJ 912   AB   912    358.913617     -6.144283   \n",
       "2  J23548+385  RX J2354.8+3831    -   NaN    358.713658     38.526340   \n",
       "3  J23505-095       LP 763-012    -  4367    357.634705     -9.560964   \n",
       "4  J23492+024           BR Psc    -   908    357.306604      2.396918   \n",
       "\n",
       "      RA_J2000     DE_J2000  l_J2016_deg  b_J2016_deg  ... WF_offset_PG_TESS  \\\n",
       "0  23:58:32.65  +07:39:30.1   100.839686   -52.931049  ...               NaN   \n",
       "1  23:55:39.78  -06:08:33.4    88.129933   -65.175491  ...               NaN   \n",
       "2  23:54:51.46  +38:31:36.2   110.941908   -23.024449  ...        999.999756   \n",
       "3  23:50:31.64  -09:33:32.7    80.777067   -67.303426  ...       1000.000122   \n",
       "4  23:49:12.53  +02:24:04.4    93.567467   -56.885396  ...               NaN   \n",
       "\n",
       "  WF_e_offset_PG_TESS  WF_FAP_PG_TESS WF_valid_PG_TESS  \\\n",
       "0                 NaN             NaN              0.0   \n",
       "1                 NaN             NaN              0.0   \n",
       "2        2.151008e-06             1.0              1.0   \n",
       "3        9.022946e-07             1.0              1.0   \n",
       "4                 NaN             NaN              0.0   \n",
       "\n",
       "                                    WF_error_PG_TESS  WF_elapsed_time_PG_TESS  \\\n",
       "0  Not recognized as a supported data product:\\nn...                 0.000997   \n",
       "1  Not recognized as a supported data product:\\nn...                 0.000998   \n",
       "2                                                NaN                94.758838   \n",
       "3                                                NaN               132.607176   \n",
       "4  Not recognized as a supported data product:\\nn...                 0.001995   \n",
       "\n",
       "                                  WF_plain_file_TESS  \\\n",
       "0                                                NaN   \n",
       "1                                                NaN   \n",
       "2  ../data/CARM_VIS_TESS_WinFunc_PGs/WF_J23548+38...   \n",
       "3  ../data/CARM_VIS_TESS_WinFunc_PGs/WF_J23505-09...   \n",
       "4                                                NaN   \n",
       "\n",
       "                                    WF_fig_file_TESS  \\\n",
       "0                                                NaN   \n",
       "1                                                NaN   \n",
       "2  ../data/CARM_VIS_TESS_WinFunc_PGs/figures/WF_J...   \n",
       "3  ../data/CARM_VIS_TESS_WinFunc_PGs/figures/WF_J...   \n",
       "4                                                NaN   \n",
       "\n",
       "                                      PG_file_RV  \\\n",
       "0  ../data/CARM_VIS_RVs_PGs/J23585+076_RV_PG.dat   \n",
       "1  ../data/CARM_VIS_RVs_PGs/J23556-061_RV_PG.dat   \n",
       "2  ../data/CARM_VIS_RVs_PGs/J23548+385_RV_PG.dat   \n",
       "3  ../data/CARM_VIS_RVs_PGs/J23505-095_RV_PG.dat   \n",
       "4  ../data/CARM_VIS_RVs_PGs/J23492+024_RV_PG.dat   \n",
       "\n",
       "                                     PG_file_TESS  \n",
       "0                                             NaN  \n",
       "1                                             NaN  \n",
       "2  ../data/CARM_VIS_TESS_PGs/J23548+385_RV_PG.dat  \n",
       "3  ../data/CARM_VIS_TESS_PGs/J23505-095_RV_PG.dat  \n",
       "4                                             NaN  \n",
       "\n",
       "[5 rows x 300 columns]"
      ]
     },
     "execution_count": 6,
     "metadata": {},
     "output_type": "execute_result"
    }
   ],
   "source": [
    "if 'f_RV' in list(gto.columns):\n",
    "    print(\"Correcting column names...\")\n",
    "    gto.rename(columns={'f_RV': 'f_PG_RV', 'e_f_RV': 'e_f_PG_RV',\n",
    "                        'Pd_RV': 'Pd_PG_RV', 'e_Pd_RV': 'e_Pd_PG_RV',\n",
    "                        'Ph_RV': 'Ph_PG_RV', 'e_Ph_RV': 'e_Ph_PG_RV',\n",
    "                        'Pm_RV': 'Pm_PG_RV', 'e_Pm_RV': 'e_Pm_PG_RV',\n",
    "                        'A_RV': 'A_PG_RV', 'e_A_RV': 'e_A_PG_RV',\n",
    "                        'ph_RV': 'ph_PG_RV', 'e_ph_RV': 'e_ph_PG_RV',\n",
    "                        'T0_RV': 'T0_PG_RV', 'e_T0_RV': 'e_T0_PG_RV',\n",
    "                        'offset_RV': 'offset_PG_RV', 'e_offset_RV': 'e_offset_PG_RV',\n",
    "                        'FAP_RV': 'FAP_PG_RV', 'elapsed_time_RV': 'elapsed_time_PG_RV'},\n",
    "               inplace=True)\n",
    "    gto.to_csv(GTO_FILE, sep=',', decimal='.', index=False)\n",
    "else:\n",
    "    print(\"No correction needed.\")\n",
    "gto.head()"
   ]
  },
  {
   "cell_type": "markdown",
   "id": "918b5908",
   "metadata": {},
   "source": [
    "## Analysis of results"
   ]
  },
  {
   "cell_type": "markdown",
   "id": "9067ab67",
   "metadata": {},
   "source": [
    "### Exceptions"
   ]
  },
  {
   "cell_type": "markdown",
   "id": "a0dfc01e",
   "metadata": {},
   "source": [
    "#### Objects which calculation failed"
   ]
  },
  {
   "cell_type": "markdown",
   "id": "de188b01",
   "metadata": {},
   "source": [
    "We first check how many objects had problems and could not complete the calculation."
   ]
  },
  {
   "cell_type": "code",
   "execution_count": 7,
   "id": "4d39d4d6",
   "metadata": {
    "ExecuteTime": {
     "end_time": "2022-11-14T08:37:19.266064Z",
     "start_time": "2022-11-14T08:37:19.243125Z"
    }
   },
   "outputs": [
    {
     "data": {
      "text/plain": [
       "(119, 2)"
      ]
     },
     "execution_count": 7,
     "metadata": {},
     "output_type": "execute_result"
    }
   ],
   "source": [
    "gto.loc[gto['valid_PG_TESS'] == 0, ['Karmn', 'error_PG_TESS']].shape"
   ]
  },
  {
   "cell_type": "markdown",
   "id": "73d320a9",
   "metadata": {},
   "source": [
    "Hence, periodogram calculation for _TESS_ was unsuccessful for 119 objects."
   ]
  },
  {
   "cell_type": "code",
   "execution_count": 8,
   "id": "b9d9ac65",
   "metadata": {
    "ExecuteTime": {
     "end_time": "2022-11-14T08:37:33.298238Z",
     "start_time": "2022-11-14T08:37:33.271310Z"
    }
   },
   "outputs": [
    {
     "data": {
      "text/html": [
       "<div>\n",
       "<style scoped>\n",
       "    .dataframe tbody tr th:only-of-type {\n",
       "        vertical-align: middle;\n",
       "    }\n",
       "\n",
       "    .dataframe tbody tr th {\n",
       "        vertical-align: top;\n",
       "    }\n",
       "\n",
       "    .dataframe thead th {\n",
       "        text-align: right;\n",
       "    }\n",
       "</style>\n",
       "<table border=\"1\" class=\"dataframe\">\n",
       "  <thead>\n",
       "    <tr style=\"text-align: right;\">\n",
       "      <th></th>\n",
       "      <th>Karmn</th>\n",
       "      <th>error_PG_TESS</th>\n",
       "    </tr>\n",
       "  </thead>\n",
       "  <tbody>\n",
       "    <tr>\n",
       "      <th>0</th>\n",
       "      <td>J23585+076</td>\n",
       "      <td>Not recognized as a supported data product:\\nn...</td>\n",
       "    </tr>\n",
       "    <tr>\n",
       "      <th>1</th>\n",
       "      <td>J23556-061</td>\n",
       "      <td>Not recognized as a supported data product:\\nn...</td>\n",
       "    </tr>\n",
       "    <tr>\n",
       "      <th>4</th>\n",
       "      <td>J23492+024</td>\n",
       "      <td>Not recognized as a supported data product:\\nn...</td>\n",
       "    </tr>\n",
       "    <tr>\n",
       "      <th>6</th>\n",
       "      <td>J23419+441</td>\n",
       "      <td>Not recognized as a supported data product:\\nn...</td>\n",
       "    </tr>\n",
       "    <tr>\n",
       "      <th>8</th>\n",
       "      <td>J23351-023</td>\n",
       "      <td>Not recognized as a supported data product:\\nn...</td>\n",
       "    </tr>\n",
       "    <tr>\n",
       "      <th>...</th>\n",
       "      <td>...</td>\n",
       "      <td>...</td>\n",
       "    </tr>\n",
       "    <tr>\n",
       "      <th>373</th>\n",
       "      <td>J01056+284</td>\n",
       "      <td>Not recognized as a supported data product:\\nn...</td>\n",
       "    </tr>\n",
       "    <tr>\n",
       "      <th>384</th>\n",
       "      <td>J00184+440</td>\n",
       "      <td>Not recognized as a supported data product:\\nn...</td>\n",
       "    </tr>\n",
       "    <tr>\n",
       "      <th>386</th>\n",
       "      <td>J00162+198W</td>\n",
       "      <td>Not recognized as a supported data product:\\nn...</td>\n",
       "    </tr>\n",
       "    <tr>\n",
       "      <th>387</th>\n",
       "      <td>J00162+198E</td>\n",
       "      <td>Not recognized as a supported data product:\\nn...</td>\n",
       "    </tr>\n",
       "    <tr>\n",
       "      <th>388</th>\n",
       "      <td>J00067-075</td>\n",
       "      <td>Not recognized as a supported data product:\\nn...</td>\n",
       "    </tr>\n",
       "  </tbody>\n",
       "</table>\n",
       "<p>119 rows × 2 columns</p>\n",
       "</div>"
      ],
      "text/plain": [
       "           Karmn                                      error_PG_TESS\n",
       "0     J23585+076  Not recognized as a supported data product:\\nn...\n",
       "1     J23556-061  Not recognized as a supported data product:\\nn...\n",
       "4     J23492+024  Not recognized as a supported data product:\\nn...\n",
       "6     J23419+441  Not recognized as a supported data product:\\nn...\n",
       "8     J23351-023  Not recognized as a supported data product:\\nn...\n",
       "..           ...                                                ...\n",
       "373   J01056+284  Not recognized as a supported data product:\\nn...\n",
       "384   J00184+440  Not recognized as a supported data product:\\nn...\n",
       "386  J00162+198W  Not recognized as a supported data product:\\nn...\n",
       "387  J00162+198E  Not recognized as a supported data product:\\nn...\n",
       "388   J00067-075  Not recognized as a supported data product:\\nn...\n",
       "\n",
       "[119 rows x 2 columns]"
      ]
     },
     "execution_count": 8,
     "metadata": {},
     "output_type": "execute_result"
    }
   ],
   "source": [
    "gto.loc[gto['valid_PG_TESS'] == 0, ['Karmn', 'error_PG_TESS']]"
   ]
  },
  {
   "cell_type": "markdown",
   "id": "31f6de6c",
   "metadata": {},
   "source": [
    "In general, these errors happened because the _TESS_ light curve for the object was not available."
   ]
  },
  {
   "cell_type": "markdown",
   "id": "75969012",
   "metadata": {},
   "source": [
    "#### Objects that take too long to complete"
   ]
  },
  {
   "cell_type": "markdown",
   "id": "0aade1b0",
   "metadata": {},
   "source": [
    "During calculation, it was also observed that some objects took too long time to complete. It would be advisable to also check those ones."
   ]
  },
  {
   "cell_type": "code",
   "execution_count": 9,
   "id": "f5d87d10",
   "metadata": {
    "ExecuteTime": {
     "end_time": "2022-11-14T08:37:42.570421Z",
     "start_time": "2022-11-14T08:37:42.550474Z"
    }
   },
   "outputs": [
    {
     "data": {
      "text/html": [
       "<div>\n",
       "<style scoped>\n",
       "    .dataframe tbody tr th:only-of-type {\n",
       "        vertical-align: middle;\n",
       "    }\n",
       "\n",
       "    .dataframe tbody tr th {\n",
       "        vertical-align: top;\n",
       "    }\n",
       "\n",
       "    .dataframe thead th {\n",
       "        text-align: right;\n",
       "    }\n",
       "</style>\n",
       "<table border=\"1\" class=\"dataframe\">\n",
       "  <thead>\n",
       "    <tr style=\"text-align: right;\">\n",
       "      <th></th>\n",
       "      <th>Karmn</th>\n",
       "      <th>elapsed_time_PG_TESS</th>\n",
       "      <th>valid_PG_TESS</th>\n",
       "      <th>error_PG_TESS</th>\n",
       "    </tr>\n",
       "  </thead>\n",
       "  <tbody>\n",
       "    <tr>\n",
       "      <th>297</th>\n",
       "      <td>J06011+595</td>\n",
       "      <td>114.964168</td>\n",
       "      <td>1.0</td>\n",
       "      <td>NaN</td>\n",
       "    </tr>\n",
       "    <tr>\n",
       "      <th>295</th>\n",
       "      <td>J06103+821</td>\n",
       "      <td>114.598526</td>\n",
       "      <td>1.0</td>\n",
       "      <td>NaN</td>\n",
       "    </tr>\n",
       "    <tr>\n",
       "      <th>298</th>\n",
       "      <td>J06000+027</td>\n",
       "      <td>111.330960</td>\n",
       "      <td>1.0</td>\n",
       "      <td>NaN</td>\n",
       "    </tr>\n",
       "    <tr>\n",
       "      <th>292</th>\n",
       "      <td>J06318+414</td>\n",
       "      <td>110.901375</td>\n",
       "      <td>1.0</td>\n",
       "      <td>NaN</td>\n",
       "    </tr>\n",
       "    <tr>\n",
       "      <th>296</th>\n",
       "      <td>J06024+498</td>\n",
       "      <td>108.847631</td>\n",
       "      <td>1.0</td>\n",
       "      <td>NaN</td>\n",
       "    </tr>\n",
       "    <tr>\n",
       "      <th>...</th>\n",
       "      <td>...</td>\n",
       "      <td>...</td>\n",
       "      <td>...</td>\n",
       "      <td>...</td>\n",
       "    </tr>\n",
       "    <tr>\n",
       "      <th>254</th>\n",
       "      <td>J09003+218</td>\n",
       "      <td>0.000963</td>\n",
       "      <td>0.0</td>\n",
       "      <td>Not recognized as a supported data product:\\nn...</td>\n",
       "    </tr>\n",
       "    <tr>\n",
       "      <th>8</th>\n",
       "      <td>J23351-023</td>\n",
       "      <td>0.000963</td>\n",
       "      <td>0.0</td>\n",
       "      <td>Not recognized as a supported data product:\\nn...</td>\n",
       "    </tr>\n",
       "    <tr>\n",
       "      <th>388</th>\n",
       "      <td>J00067-075</td>\n",
       "      <td>0.000961</td>\n",
       "      <td>0.0</td>\n",
       "      <td>Not recognized as a supported data product:\\nn...</td>\n",
       "    </tr>\n",
       "    <tr>\n",
       "      <th>212</th>\n",
       "      <td>J10508+068</td>\n",
       "      <td>0.000957</td>\n",
       "      <td>0.0</td>\n",
       "      <td>Not recognized as a supported data product:\\nn...</td>\n",
       "    </tr>\n",
       "    <tr>\n",
       "      <th>340</th>\n",
       "      <td>J03213+799</td>\n",
       "      <td>0.000954</td>\n",
       "      <td>0.0</td>\n",
       "      <td>Not recognized as a supported data product:\\nn...</td>\n",
       "    </tr>\n",
       "  </tbody>\n",
       "</table>\n",
       "<p>390 rows × 4 columns</p>\n",
       "</div>"
      ],
      "text/plain": [
       "          Karmn  elapsed_time_PG_TESS  valid_PG_TESS  \\\n",
       "297  J06011+595            114.964168            1.0   \n",
       "295  J06103+821            114.598526            1.0   \n",
       "298  J06000+027            111.330960            1.0   \n",
       "292  J06318+414            110.901375            1.0   \n",
       "296  J06024+498            108.847631            1.0   \n",
       "..          ...                   ...            ...   \n",
       "254  J09003+218              0.000963            0.0   \n",
       "8    J23351-023              0.000963            0.0   \n",
       "388  J00067-075              0.000961            0.0   \n",
       "212  J10508+068              0.000957            0.0   \n",
       "340  J03213+799              0.000954            0.0   \n",
       "\n",
       "                                         error_PG_TESS  \n",
       "297                                                NaN  \n",
       "295                                                NaN  \n",
       "298                                                NaN  \n",
       "292                                                NaN  \n",
       "296                                                NaN  \n",
       "..                                                 ...  \n",
       "254  Not recognized as a supported data product:\\nn...  \n",
       "8    Not recognized as a supported data product:\\nn...  \n",
       "388  Not recognized as a supported data product:\\nn...  \n",
       "212  Not recognized as a supported data product:\\nn...  \n",
       "340  Not recognized as a supported data product:\\nn...  \n",
       "\n",
       "[390 rows x 4 columns]"
      ]
     },
     "execution_count": 9,
     "metadata": {},
     "output_type": "execute_result"
    }
   ],
   "source": [
    "gto[['Karmn', 'elapsed_time_PG_TESS', 'valid_PG_TESS', 'error_PG_TESS']] \\\n",
    "    .sort_values(by='elapsed_time_PG_TESS', ascending=False)"
   ]
  },
  {
   "cell_type": "markdown",
   "id": "733e19f0",
   "metadata": {},
   "source": [
    "We can see that in this case the large amount of time spent in calculations does not seem to be a problem."
   ]
  },
  {
   "cell_type": "markdown",
   "id": "79d95eb7",
   "metadata": {},
   "source": [
    "#### Objects which peak frequency is in the lower limit"
   ]
  },
  {
   "cell_type": "code",
   "execution_count": 10,
   "id": "0808450b",
   "metadata": {
    "ExecuteTime": {
     "end_time": "2022-11-14T08:38:07.622148Z",
     "start_time": "2022-11-14T08:38:07.601226Z"
    }
   },
   "outputs": [
    {
     "data": {
      "text/html": [
       "<div>\n",
       "<style scoped>\n",
       "    .dataframe tbody tr th:only-of-type {\n",
       "        vertical-align: middle;\n",
       "    }\n",
       "\n",
       "    .dataframe tbody tr th {\n",
       "        vertical-align: top;\n",
       "    }\n",
       "\n",
       "    .dataframe thead th {\n",
       "        text-align: right;\n",
       "    }\n",
       "</style>\n",
       "<table border=\"1\" class=\"dataframe\">\n",
       "  <thead>\n",
       "    <tr style=\"text-align: right;\">\n",
       "      <th></th>\n",
       "      <th>Karmn</th>\n",
       "      <th>f_PG_TESS</th>\n",
       "      <th>e_f_PG_TESS</th>\n",
       "    </tr>\n",
       "  </thead>\n",
       "  <tbody>\n",
       "    <tr>\n",
       "      <th>342</th>\n",
       "      <td>J03142+286</td>\n",
       "      <td>287.916</td>\n",
       "      <td>0.004409</td>\n",
       "    </tr>\n",
       "    <tr>\n",
       "      <th>202</th>\n",
       "      <td>J11110+304W</td>\n",
       "      <td>287.862</td>\n",
       "      <td>0.000882</td>\n",
       "    </tr>\n",
       "    <tr>\n",
       "      <th>303</th>\n",
       "      <td>J05366+112</td>\n",
       "      <td>287.820</td>\n",
       "      <td>0.001984</td>\n",
       "    </tr>\n",
       "    <tr>\n",
       "      <th>150</th>\n",
       "      <td>J14251+518</td>\n",
       "      <td>287.790</td>\n",
       "      <td>0.001782</td>\n",
       "    </tr>\n",
       "    <tr>\n",
       "      <th>344</th>\n",
       "      <td>J03090+100</td>\n",
       "      <td>287.760</td>\n",
       "      <td>0.005395</td>\n",
       "    </tr>\n",
       "    <tr>\n",
       "      <th>...</th>\n",
       "      <td>...</td>\n",
       "      <td>...</td>\n",
       "      <td>...</td>\n",
       "    </tr>\n",
       "    <tr>\n",
       "      <th>357</th>\n",
       "      <td>J02336+249</td>\n",
       "      <td>2.448</td>\n",
       "      <td>0.004717</td>\n",
       "    </tr>\n",
       "    <tr>\n",
       "      <th>207</th>\n",
       "      <td>J11033+359</td>\n",
       "      <td>2.445</td>\n",
       "      <td>0.004657</td>\n",
       "    </tr>\n",
       "    <tr>\n",
       "      <th>354</th>\n",
       "      <td>J02442+255</td>\n",
       "      <td>2.436</td>\n",
       "      <td>0.005168</td>\n",
       "    </tr>\n",
       "    <tr>\n",
       "      <th>346</th>\n",
       "      <td>J02565+554W</td>\n",
       "      <td>2.427</td>\n",
       "      <td>0.003011</td>\n",
       "    </tr>\n",
       "    <tr>\n",
       "      <th>19</th>\n",
       "      <td>J22468+443</td>\n",
       "      <td>2.421</td>\n",
       "      <td>0.004997</td>\n",
       "    </tr>\n",
       "  </tbody>\n",
       "</table>\n",
       "<p>268 rows × 3 columns</p>\n",
       "</div>"
      ],
      "text/plain": [
       "           Karmn  f_PG_TESS  e_f_PG_TESS\n",
       "342   J03142+286    287.916     0.004409\n",
       "202  J11110+304W    287.862     0.000882\n",
       "303   J05366+112    287.820     0.001984\n",
       "150   J14251+518    287.790     0.001782\n",
       "344   J03090+100    287.760     0.005395\n",
       "..           ...        ...          ...\n",
       "357   J02336+249      2.448     0.004717\n",
       "207   J11033+359      2.445     0.004657\n",
       "354   J02442+255      2.436     0.005168\n",
       "346  J02565+554W      2.427     0.003011\n",
       "19    J22468+443      2.421     0.004997\n",
       "\n",
       "[268 rows x 3 columns]"
      ]
     },
     "execution_count": 10,
     "metadata": {},
     "output_type": "execute_result"
    }
   ],
   "source": [
    "gto[['Karmn', 'f_PG_TESS', 'e_f_PG_TESS']].dropna().sort_values(by='f_PG_TESS', ascending=False)"
   ]
  },
  {
   "cell_type": "code",
   "execution_count": 11,
   "id": "144e824f",
   "metadata": {
    "ExecuteTime": {
     "end_time": "2022-11-14T08:38:13.730857Z",
     "start_time": "2022-11-14T08:38:13.715897Z"
    }
   },
   "outputs": [
    {
     "data": {
      "text/html": [
       "<div>\n",
       "<style scoped>\n",
       "    .dataframe tbody tr th:only-of-type {\n",
       "        vertical-align: middle;\n",
       "    }\n",
       "\n",
       "    .dataframe tbody tr th {\n",
       "        vertical-align: top;\n",
       "    }\n",
       "\n",
       "    .dataframe thead th {\n",
       "        text-align: right;\n",
       "    }\n",
       "</style>\n",
       "<table border=\"1\" class=\"dataframe\">\n",
       "  <thead>\n",
       "    <tr style=\"text-align: right;\">\n",
       "      <th></th>\n",
       "      <th>Karmn</th>\n",
       "      <th>f_PG_TESS</th>\n",
       "      <th>e_f_PG_TESS</th>\n",
       "    </tr>\n",
       "  </thead>\n",
       "  <tbody>\n",
       "    <tr>\n",
       "      <th>19</th>\n",
       "      <td>J22468+443</td>\n",
       "      <td>2.421</td>\n",
       "      <td>0.004997</td>\n",
       "    </tr>\n",
       "    <tr>\n",
       "      <th>346</th>\n",
       "      <td>J02565+554W</td>\n",
       "      <td>2.427</td>\n",
       "      <td>0.003011</td>\n",
       "    </tr>\n",
       "    <tr>\n",
       "      <th>354</th>\n",
       "      <td>J02442+255</td>\n",
       "      <td>2.436</td>\n",
       "      <td>0.005168</td>\n",
       "    </tr>\n",
       "    <tr>\n",
       "      <th>207</th>\n",
       "      <td>J11033+359</td>\n",
       "      <td>2.445</td>\n",
       "      <td>0.004657</td>\n",
       "    </tr>\n",
       "    <tr>\n",
       "      <th>357</th>\n",
       "      <td>J02336+249</td>\n",
       "      <td>2.448</td>\n",
       "      <td>0.004717</td>\n",
       "    </tr>\n",
       "    <tr>\n",
       "      <th>...</th>\n",
       "      <td>...</td>\n",
       "      <td>...</td>\n",
       "      <td>...</td>\n",
       "    </tr>\n",
       "    <tr>\n",
       "      <th>344</th>\n",
       "      <td>J03090+100</td>\n",
       "      <td>287.760</td>\n",
       "      <td>0.005395</td>\n",
       "    </tr>\n",
       "    <tr>\n",
       "      <th>150</th>\n",
       "      <td>J14251+518</td>\n",
       "      <td>287.790</td>\n",
       "      <td>0.001782</td>\n",
       "    </tr>\n",
       "    <tr>\n",
       "      <th>303</th>\n",
       "      <td>J05366+112</td>\n",
       "      <td>287.820</td>\n",
       "      <td>0.001984</td>\n",
       "    </tr>\n",
       "    <tr>\n",
       "      <th>202</th>\n",
       "      <td>J11110+304W</td>\n",
       "      <td>287.862</td>\n",
       "      <td>0.000882</td>\n",
       "    </tr>\n",
       "    <tr>\n",
       "      <th>342</th>\n",
       "      <td>J03142+286</td>\n",
       "      <td>287.916</td>\n",
       "      <td>0.004409</td>\n",
       "    </tr>\n",
       "  </tbody>\n",
       "</table>\n",
       "<p>268 rows × 3 columns</p>\n",
       "</div>"
      ],
      "text/plain": [
       "           Karmn  f_PG_TESS  e_f_PG_TESS\n",
       "19    J22468+443      2.421     0.004997\n",
       "346  J02565+554W      2.427     0.003011\n",
       "354   J02442+255      2.436     0.005168\n",
       "207   J11033+359      2.445     0.004657\n",
       "357   J02336+249      2.448     0.004717\n",
       "..           ...        ...          ...\n",
       "344   J03090+100    287.760     0.005395\n",
       "150   J14251+518    287.790     0.001782\n",
       "303   J05366+112    287.820     0.001984\n",
       "202  J11110+304W    287.862     0.000882\n",
       "342   J03142+286    287.916     0.004409\n",
       "\n",
       "[268 rows x 3 columns]"
      ]
     },
     "execution_count": 11,
     "metadata": {},
     "output_type": "execute_result"
    }
   ],
   "source": [
    "gto[['Karmn', 'f_PG_TESS', 'e_f_PG_TESS']].dropna().sort_values(by='f_PG_TESS', ascending=True)"
   ]
  },
  {
   "cell_type": "markdown",
   "id": "53c3371f",
   "metadata": {},
   "source": [
    "**OBSERVATION:** As we can see, there seem to be at least ten stars (probable many more) for which the calculated pulsation frequencies lie very near the limits of the periodogram range of $P\\in[2.4, 288.0]\\;d^{-1}$."
   ]
  },
  {
   "cell_type": "code",
   "execution_count": 12,
   "id": "38f81241",
   "metadata": {
    "ExecuteTime": {
     "end_time": "2022-11-14T08:39:55.320110Z",
     "start_time": "2022-11-14T08:39:55.297170Z"
    }
   },
   "outputs": [
    {
     "data": {
      "text/html": [
       "<div>\n",
       "<style scoped>\n",
       "    .dataframe tbody tr th:only-of-type {\n",
       "        vertical-align: middle;\n",
       "    }\n",
       "\n",
       "    .dataframe tbody tr th {\n",
       "        vertical-align: top;\n",
       "    }\n",
       "\n",
       "    .dataframe thead th {\n",
       "        text-align: right;\n",
       "    }\n",
       "</style>\n",
       "<table border=\"1\" class=\"dataframe\">\n",
       "  <thead>\n",
       "    <tr style=\"text-align: right;\">\n",
       "      <th></th>\n",
       "      <th>Karmn</th>\n",
       "      <th>f_PG_TESS</th>\n",
       "      <th>e_f_PG_TESS</th>\n",
       "    </tr>\n",
       "  </thead>\n",
       "  <tbody>\n",
       "    <tr>\n",
       "      <th>2</th>\n",
       "      <td>J23548+385</td>\n",
       "      <td>3.798</td>\n",
       "      <td>0.006598</td>\n",
       "    </tr>\n",
       "    <tr>\n",
       "      <th>3</th>\n",
       "      <td>J23505-095</td>\n",
       "      <td>2.793</td>\n",
       "      <td>0.005566</td>\n",
       "    </tr>\n",
       "    <tr>\n",
       "      <th>5</th>\n",
       "      <td>J23431+365</td>\n",
       "      <td>4.290</td>\n",
       "      <td>0.004984</td>\n",
       "    </tr>\n",
       "    <tr>\n",
       "      <th>7</th>\n",
       "      <td>J23381-162</td>\n",
       "      <td>78.036</td>\n",
       "      <td>0.005545</td>\n",
       "    </tr>\n",
       "    <tr>\n",
       "      <th>10</th>\n",
       "      <td>J23245+578</td>\n",
       "      <td>3.183</td>\n",
       "      <td>0.005678</td>\n",
       "    </tr>\n",
       "    <tr>\n",
       "      <th>...</th>\n",
       "      <td>...</td>\n",
       "      <td>...</td>\n",
       "      <td>...</td>\n",
       "    </tr>\n",
       "    <tr>\n",
       "      <th>380</th>\n",
       "      <td>J00570+450</td>\n",
       "      <td>2.994</td>\n",
       "      <td>0.003871</td>\n",
       "    </tr>\n",
       "    <tr>\n",
       "      <th>381</th>\n",
       "      <td>J00403+612</td>\n",
       "      <td>145.164</td>\n",
       "      <td>0.006423</td>\n",
       "    </tr>\n",
       "    <tr>\n",
       "      <th>382</th>\n",
       "      <td>J00389+306</td>\n",
       "      <td>3.171</td>\n",
       "      <td>0.005620</td>\n",
       "    </tr>\n",
       "    <tr>\n",
       "      <th>383</th>\n",
       "      <td>J00286-066</td>\n",
       "      <td>5.997</td>\n",
       "      <td>0.006868</td>\n",
       "    </tr>\n",
       "    <tr>\n",
       "      <th>385</th>\n",
       "      <td>J00183+440</td>\n",
       "      <td>262.377</td>\n",
       "      <td>0.006433</td>\n",
       "    </tr>\n",
       "  </tbody>\n",
       "</table>\n",
       "<p>236 rows × 3 columns</p>\n",
       "</div>"
      ],
      "text/plain": [
       "          Karmn  f_PG_TESS  e_f_PG_TESS\n",
       "2    J23548+385      3.798     0.006598\n",
       "3    J23505-095      2.793     0.005566\n",
       "5    J23431+365      4.290     0.004984\n",
       "7    J23381-162     78.036     0.005545\n",
       "10   J23245+578      3.183     0.005678\n",
       "..          ...        ...          ...\n",
       "380  J00570+450      2.994     0.003871\n",
       "381  J00403+612    145.164     0.006423\n",
       "382  J00389+306      3.171     0.005620\n",
       "383  J00286-066      5.997     0.006868\n",
       "385  J00183+440    262.377     0.006433\n",
       "\n",
       "[236 rows x 3 columns]"
      ]
     },
     "execution_count": 12,
     "metadata": {},
     "output_type": "execute_result"
    }
   ],
   "source": [
    "gto.loc[(gto['f_PG_TESS'] < 8.0) | (gto['f_PG_TESS'] > 72.0), ['Karmn', 'f_PG_TESS', 'e_f_PG_TESS']]"
   ]
  },
  {
   "cell_type": "markdown",
   "id": "48fe7372",
   "metadata": {},
   "source": [
    "**OBSERVATION:** there seems to be a lot of stars (236 out of 268; $\\approx88\\%$) for which the calculated pulsation frequency  lies outside the theoretical predicted pulsation range ($P_{pulsation}\\in[8.0, 72.0]\\;d^{-1}$)."
   ]
  },
  {
   "cell_type": "markdown",
   "id": "1dd5a340",
   "metadata": {},
   "source": [
    "### Main statistics"
   ]
  },
  {
   "cell_type": "code",
   "execution_count": 13,
   "id": "dac8d1bd",
   "metadata": {
    "ExecuteTime": {
     "end_time": "2022-11-14T08:41:28.270896Z",
     "start_time": "2022-11-14T08:41:28.234974Z"
    }
   },
   "outputs": [
    {
     "data": {
      "text/html": [
       "<div>\n",
       "<style scoped>\n",
       "    .dataframe tbody tr th:only-of-type {\n",
       "        vertical-align: middle;\n",
       "    }\n",
       "\n",
       "    .dataframe tbody tr th {\n",
       "        vertical-align: top;\n",
       "    }\n",
       "\n",
       "    .dataframe thead th {\n",
       "        text-align: right;\n",
       "    }\n",
       "</style>\n",
       "<table border=\"1\" class=\"dataframe\">\n",
       "  <thead>\n",
       "    <tr style=\"text-align: right;\">\n",
       "      <th></th>\n",
       "      <th>n_TESS</th>\n",
       "      <th>Ps_TESS</th>\n",
       "      <th>wmean_TESS</th>\n",
       "      <th>wrms_TESS</th>\n",
       "      <th>maxSNR_PG_TESS</th>\n",
       "      <th>Pm_PG_TESS</th>\n",
       "      <th>FAP_PG_TESS</th>\n",
       "    </tr>\n",
       "  </thead>\n",
       "  <tbody>\n",
       "    <tr>\n",
       "      <th>count</th>\n",
       "      <td>271.000000</td>\n",
       "      <td>271.000000</td>\n",
       "      <td>271.000000</td>\n",
       "      <td>271.000000</td>\n",
       "      <td>270.000000</td>\n",
       "      <td>271.000000</td>\n",
       "      <td>2.700000e+02</td>\n",
       "    </tr>\n",
       "    <tr>\n",
       "      <th>mean</th>\n",
       "      <td>14242.291513</td>\n",
       "      <td>0.003121</td>\n",
       "      <td>53071.216947</td>\n",
       "      <td>129.125485</td>\n",
       "      <td>44.441794</td>\n",
       "      <td>263.327033</td>\n",
       "      <td>1.888368e-01</td>\n",
       "    </tr>\n",
       "    <tr>\n",
       "      <th>std</th>\n",
       "      <td>4637.616295</td>\n",
       "      <td>0.005445</td>\n",
       "      <td>98538.640302</td>\n",
       "      <td>574.939825</td>\n",
       "      <td>317.527464</td>\n",
       "      <td>220.784475</td>\n",
       "      <td>2.901528e-01</td>\n",
       "    </tr>\n",
       "    <tr>\n",
       "      <th>min</th>\n",
       "      <td>694.000000</td>\n",
       "      <td>0.001389</td>\n",
       "      <td>-315455.875000</td>\n",
       "      <td>2.188334</td>\n",
       "      <td>0.014799</td>\n",
       "      <td>5.000000</td>\n",
       "      <td>0.000000e+00</td>\n",
       "    </tr>\n",
       "    <tr>\n",
       "      <th>25%</th>\n",
       "      <td>13420.000000</td>\n",
       "      <td>0.001389</td>\n",
       "      <td>8366.517090</td>\n",
       "      <td>16.475475</td>\n",
       "      <td>0.050413</td>\n",
       "      <td>13.899229</td>\n",
       "      <td>7.175419e-10</td>\n",
       "    </tr>\n",
       "    <tr>\n",
       "      <th>50%</th>\n",
       "      <td>15602.000000</td>\n",
       "      <td>0.001389</td>\n",
       "      <td>20685.371094</td>\n",
       "      <td>29.356222</td>\n",
       "      <td>0.057367</td>\n",
       "      <td>290.381125</td>\n",
       "      <td>3.225141e-02</td>\n",
       "    </tr>\n",
       "    <tr>\n",
       "      <th>75%</th>\n",
       "      <td>16941.500000</td>\n",
       "      <td>0.001389</td>\n",
       "      <td>56393.232422</td>\n",
       "      <td>68.246506</td>\n",
       "      <td>0.099981</td>\n",
       "      <td>471.513225</td>\n",
       "      <td>2.574146e-01</td>\n",
       "    </tr>\n",
       "    <tr>\n",
       "      <th>max</th>\n",
       "      <td>18711.000000</td>\n",
       "      <td>0.020834</td>\n",
       "      <td>661204.500000</td>\n",
       "      <td>8249.875000</td>\n",
       "      <td>3969.927358</td>\n",
       "      <td>600.000000</td>\n",
       "      <td>1.000000e+00</td>\n",
       "    </tr>\n",
       "  </tbody>\n",
       "</table>\n",
       "</div>"
      ],
      "text/plain": [
       "             n_TESS     Ps_TESS     wmean_TESS    wrms_TESS  maxSNR_PG_TESS  \\\n",
       "count    271.000000  271.000000     271.000000   271.000000      270.000000   \n",
       "mean   14242.291513    0.003121   53071.216947   129.125485       44.441794   \n",
       "std     4637.616295    0.005445   98538.640302   574.939825      317.527464   \n",
       "min      694.000000    0.001389 -315455.875000     2.188334        0.014799   \n",
       "25%    13420.000000    0.001389    8366.517090    16.475475        0.050413   \n",
       "50%    15602.000000    0.001389   20685.371094    29.356222        0.057367   \n",
       "75%    16941.500000    0.001389   56393.232422    68.246506        0.099981   \n",
       "max    18711.000000    0.020834  661204.500000  8249.875000     3969.927358   \n",
       "\n",
       "       Pm_PG_TESS   FAP_PG_TESS  \n",
       "count  271.000000  2.700000e+02  \n",
       "mean   263.327033  1.888368e-01  \n",
       "std    220.784475  2.901528e-01  \n",
       "min      5.000000  0.000000e+00  \n",
       "25%     13.899229  7.175419e-10  \n",
       "50%    290.381125  3.225141e-02  \n",
       "75%    471.513225  2.574146e-01  \n",
       "max    600.000000  1.000000e+00  "
      ]
     },
     "execution_count": 13,
     "metadata": {},
     "output_type": "execute_result"
    }
   ],
   "source": [
    "gto[['n_TESS', 'Ps_TESS', 'wmean_TESS', 'wrms_TESS', 'maxSNR_PG_TESS', 'Pm_PG_TESS', 'FAP_PG_TESS']].describe()"
   ]
  },
  {
   "cell_type": "code",
   "execution_count": 14,
   "id": "2d264a0e",
   "metadata": {
    "ExecuteTime": {
     "end_time": "2022-11-14T08:41:30.621428Z",
     "start_time": "2022-11-14T08:41:30.597469Z"
    }
   },
   "outputs": [
    {
     "data": {
      "text/html": [
       "<div>\n",
       "<style scoped>\n",
       "    .dataframe tbody tr th:only-of-type {\n",
       "        vertical-align: middle;\n",
       "    }\n",
       "\n",
       "    .dataframe tbody tr th {\n",
       "        vertical-align: top;\n",
       "    }\n",
       "\n",
       "    .dataframe thead th {\n",
       "        text-align: right;\n",
       "    }\n",
       "</style>\n",
       "<table border=\"1\" class=\"dataframe\">\n",
       "  <thead>\n",
       "    <tr style=\"text-align: right;\">\n",
       "      <th></th>\n",
       "      <th>n_TESS</th>\n",
       "      <th>Ps_TESS</th>\n",
       "    </tr>\n",
       "  </thead>\n",
       "  <tbody>\n",
       "    <tr>\n",
       "      <th>count</th>\n",
       "      <td>271.000000</td>\n",
       "      <td>271.000000</td>\n",
       "    </tr>\n",
       "    <tr>\n",
       "      <th>mean</th>\n",
       "      <td>14242.291513</td>\n",
       "      <td>0.003121</td>\n",
       "    </tr>\n",
       "    <tr>\n",
       "      <th>std</th>\n",
       "      <td>4637.616295</td>\n",
       "      <td>0.005445</td>\n",
       "    </tr>\n",
       "    <tr>\n",
       "      <th>min</th>\n",
       "      <td>694.000000</td>\n",
       "      <td>0.001389</td>\n",
       "    </tr>\n",
       "    <tr>\n",
       "      <th>25%</th>\n",
       "      <td>13420.000000</td>\n",
       "      <td>0.001389</td>\n",
       "    </tr>\n",
       "    <tr>\n",
       "      <th>50%</th>\n",
       "      <td>15602.000000</td>\n",
       "      <td>0.001389</td>\n",
       "    </tr>\n",
       "    <tr>\n",
       "      <th>75%</th>\n",
       "      <td>16941.500000</td>\n",
       "      <td>0.001389</td>\n",
       "    </tr>\n",
       "    <tr>\n",
       "      <th>max</th>\n",
       "      <td>18711.000000</td>\n",
       "      <td>0.020834</td>\n",
       "    </tr>\n",
       "  </tbody>\n",
       "</table>\n",
       "</div>"
      ],
      "text/plain": [
       "             n_TESS     Ps_TESS\n",
       "count    271.000000  271.000000\n",
       "mean   14242.291513    0.003121\n",
       "std     4637.616295    0.005445\n",
       "min      694.000000    0.001389\n",
       "25%    13420.000000    0.001389\n",
       "50%    15602.000000    0.001389\n",
       "75%    16941.500000    0.001389\n",
       "max    18711.000000    0.020834"
      ]
     },
     "execution_count": 14,
     "metadata": {},
     "output_type": "execute_result"
    }
   ],
   "source": [
    "gto[['n_TESS', 'Ps_TESS']].describe()"
   ]
  },
  {
   "cell_type": "code",
   "execution_count": 15,
   "id": "06c9ca1c",
   "metadata": {
    "ExecuteTime": {
     "end_time": "2022-11-14T08:41:32.877132Z",
     "start_time": "2022-11-14T08:41:32.854193Z"
    }
   },
   "outputs": [
    {
     "name": "stdout",
     "output_type": "stream",
     "text": [
      "\\begin{tabular}{lrr}\n",
      "\\toprule\n",
      "{} &       n\\_TESS &    Ps\\_TESS \\\\\n",
      "\\midrule\n",
      "count &   271.000000 & 271.000000 \\\\\n",
      "mean  & 14242.291513 &   0.003121 \\\\\n",
      "std   &  4637.616295 &   0.005445 \\\\\n",
      "min   &   694.000000 &   0.001389 \\\\\n",
      "25\\%   & 13420.000000 &   0.001389 \\\\\n",
      "50\\%   & 15602.000000 &   0.001389 \\\\\n",
      "75\\%   & 16941.500000 &   0.001389 \\\\\n",
      "max   & 18711.000000 &   0.020834 \\\\\n",
      "\\bottomrule\n",
      "\\end{tabular}\n",
      "\n"
     ]
    }
   ],
   "source": [
    "print(gto[['n_TESS', 'Ps_TESS']].describe().to_latex(float_format='%.6f'))"
   ]
  },
  {
   "cell_type": "markdown",
   "id": "335e228c",
   "metadata": {},
   "source": [
    "**IMPORTANT NOTE:** the remaining sections were not important for the study, as its main focus lies in the CARM\\_VIS RV curves, not in TESS light curves, so the rest of the notebook sections were not coded. The code would be similar to that used for the CARM\\_VIS data."
   ]
  },
  {
   "cell_type": "raw",
   "id": "539d2fd8",
   "metadata": {},
   "source": [
    "### Histograms of values"
   ]
  },
  {
   "cell_type": "raw",
   "id": "6e5548e2",
   "metadata": {
    "ExecuteTime": {
     "end_time": "2022-05-01T11:00:39.513525Z",
     "start_time": "2022-05-01T11:00:39.496570Z"
    }
   },
   "source": [
    "print([i for i in list(gto.columns) if '_TESS' in i])"
   ]
  },
  {
   "cell_type": "raw",
   "id": "2ea0dcbd",
   "metadata": {},
   "source": [
    "#### Time span"
   ]
  },
  {
   "cell_type": "raw",
   "id": "964ec7e6",
   "metadata": {},
   "source": [
    "We do have a look into the time span of each light curve, that is the time passed between the first and the last point. This could be of interest when it comes to periodogram analysis and the effect of the sampling windows.\n",
    "\n",
    "To calculate this, we need to reload the light curves:"
   ]
  },
  {
   "cell_type": "raw",
   "id": "d7d19a57",
   "metadata": {
    "ExecuteTime": {
     "end_time": "2022-04-26T21:58:58.865034Z",
     "start_time": "2022-04-26T21:58:58.843093Z"
    }
   },
   "source": [
    "rv = pd.read_csv(gto.loc[0, 'rv_file'], sep=' ' ,decimal='.', names=['time', 'rv', 'error_rv'])\n",
    "rv.head()"
   ]
  },
  {
   "cell_type": "raw",
   "id": "beccdd86",
   "metadata": {
    "ExecuteTime": {
     "end_time": "2022-04-26T22:08:46.563729Z",
     "start_time": "2022-04-26T22:08:46.219650Z"
    }
   },
   "source": [
    "gto['Tobs_RV'] = 0.0\n",
    "#for i in range(0,5): # TEST\n",
    "for i in range(0,len(gto)): # TEST\n",
    "    rv = pd.read_csv(gto.loc[i, 'rv_file'], sep=' ', decimal='.', names=['time', 'rv', 'error_rv'])\n",
    "    t_obs = rv['time'].max() - rv['time'].min()\n",
    "    gto.loc[i, 'Tobs_RV'] = t_obs\n",
    "\n",
    "gto.head()"
   ]
  },
  {
   "cell_type": "raw",
   "id": "e193692e",
   "metadata": {},
   "source": [
    "We now draw the time span histogram:"
   ]
  },
  {
   "cell_type": "raw",
   "id": "e41c93d4",
   "metadata": {
    "ExecuteTime": {
     "end_time": "2022-04-26T22:10:21.299270Z",
     "start_time": "2022-04-26T22:10:20.859343Z"
    }
   },
   "source": [
    "draw_hist(d1=gto['Tobs_RV'], d1_label=\"Tobs_RV [$d$]\",\n",
    "          fig_filename=IMAGE_FOLDER + \"Analysis_07_01_RV_Tobs_Histogram.png\")"
   ]
  },
  {
   "cell_type": "raw",
   "id": "ae941f9a",
   "metadata": {},
   "source": [
    "#### Number of points (RV)"
   ]
  },
  {
   "cell_type": "raw",
   "id": "b1502f30",
   "metadata": {
    "ExecuteTime": {
     "end_time": "2022-04-26T22:10:25.144320Z",
     "start_time": "2022-04-26T22:10:24.890997Z"
    }
   },
   "source": [
    "draw_hist(d1=gto['n_RV'], d1_label=\"NumPoints_RV\",\n",
    "          fig_filename=IMAGE_FOLDER + \"Analysis_07_02_RV_NumPoints_Histogram.png\")"
   ]
  },
  {
   "cell_type": "raw",
   "id": "83086d24",
   "metadata": {},
   "source": [
    "#### Estimated missing time points in time span"
   ]
  },
  {
   "cell_type": "raw",
   "id": "8c785ce2",
   "metadata": {
    "ExecuteTime": {
     "end_time": "2022-04-26T22:10:27.537624Z",
     "start_time": "2022-04-26T22:10:27.530644Z"
    }
   },
   "source": [
    "##### PENDING --- "
   ]
  },
  {
   "cell_type": "raw",
   "id": "76441290",
   "metadata": {},
   "source": []
  },
  {
   "cell_type": "raw",
   "id": "5b11e51d",
   "metadata": {},
   "source": [
    "#### Estimated gaps duration in time span"
   ]
  },
  {
   "cell_type": "raw",
   "id": "40924d9e",
   "metadata": {
    "ExecuteTime": {
     "end_time": "2022-04-26T22:10:28.415780Z",
     "start_time": "2022-04-26T22:10:28.410793Z"
    }
   },
   "source": [
    "##### PENDING --- "
   ]
  },
  {
   "cell_type": "raw",
   "id": "0543365e",
   "metadata": {},
   "source": []
  },
  {
   "cell_type": "raw",
   "id": "074c83a3",
   "metadata": {},
   "source": [
    "#### Sampling frequency in $d^{-1}$ (RV)"
   ]
  },
  {
   "cell_type": "raw",
   "id": "4680887b",
   "metadata": {
    "ExecuteTime": {
     "end_time": "2022-04-26T22:10:44.787703Z",
     "start_time": "2022-04-26T22:10:44.427907Z"
    },
    "scrolled": false
   },
   "source": [
    "draw_hist(d1=gto['fs_RV'], d1_label=\"SamplingFreq_RV [$d^{-1}$]\",\n",
    "          fig_filename=IMAGE_FOLDER + \"Analysis_07_05_RV_SamplingFreq_Histogram.png\")"
   ]
  },
  {
   "cell_type": "raw",
   "id": "c223689b",
   "metadata": {},
   "source": [
    "#### Sampling period in $d$ (RV)"
   ]
  },
  {
   "cell_type": "raw",
   "id": "e7383970",
   "metadata": {
    "ExecuteTime": {
     "end_time": "2022-04-26T22:23:27.120849Z",
     "start_time": "2022-04-26T22:23:26.812600Z"
    }
   },
   "source": [
    "draw_hist(d1=gto['Ps_RV'], d1_label=\"Sampling period [$d$]\",\n",
    "          fig_filename=IMAGE_FOLDER + \"Analysis_07_05B_RV_SamplingPeriod_Histogram.png\")"
   ]
  },
  {
   "cell_type": "raw",
   "id": "21c63d46",
   "metadata": {},
   "source": [
    "#### SNR (PG)"
   ]
  },
  {
   "cell_type": "raw",
   "id": "83ec6f82",
   "metadata": {
    "ExecuteTime": {
     "end_time": "2022-04-26T22:12:06.045230Z",
     "start_time": "2022-04-26T22:12:05.754619Z"
    }
   },
   "source": [
    "draw_hist(d1=gto['maxSNR_PG_RV'], d1_label=\"maxPeakSNR_RV\",\n",
    "          fig_filename=IMAGE_FOLDER + \"Analysis_07_06_RV_maxPeakSNR_Histogram.png\")"
   ]
  },
  {
   "cell_type": "raw",
   "id": "cc876f27",
   "metadata": {},
   "source": [
    "#### Detected period in minutes (PG)"
   ]
  },
  {
   "cell_type": "raw",
   "id": "1e9cc5b9",
   "metadata": {
    "ExecuteTime": {
     "end_time": "2022-04-26T22:13:32.081578Z",
     "start_time": "2022-04-26T22:13:31.860288Z"
    }
   },
   "source": [
    "draw_hist(d1=gto['Pm_PG_RV'], d1_label=\"Detected period [min]\",\n",
    "          fig_filename=IMAGE_FOLDER + \"Analysis_07_07_RV_DetectedPeriod_min_Histogram.png\")"
   ]
  },
  {
   "cell_type": "raw",
   "id": "b94e09c6",
   "metadata": {},
   "source": [
    "#### Detected amplitudes (PG)"
   ]
  },
  {
   "cell_type": "raw",
   "id": "ebb4bd95",
   "metadata": {
    "ExecuteTime": {
     "end_time": "2022-04-26T22:14:18.040352Z",
     "start_time": "2022-04-26T22:14:17.772652Z"
    }
   },
   "source": [
    "draw_hist(d1=gto['A_PG_RV'], d1_label=\"Detected amplitudes [$ms^{-1}$]\",\n",
    "          fig_filename=IMAGE_FOLDER + \"Analysis_07_08_RV_DetectedAmplitudes_Histogram.png\")"
   ]
  },
  {
   "cell_type": "raw",
   "id": "871c40fe",
   "metadata": {},
   "source": []
  }
 ],
 "metadata": {
  "kernelspec": {
   "display_name": "Python 3 (ipykernel)",
   "language": "python",
   "name": "python3"
  },
  "language_info": {
   "codemirror_mode": {
    "name": "ipython",
    "version": 3
   },
   "file_extension": ".py",
   "mimetype": "text/x-python",
   "name": "python",
   "nbconvert_exporter": "python",
   "pygments_lexer": "ipython3",
   "version": "3.8.8"
  },
  "latex_envs": {
   "LaTeX_envs_menu_present": true,
   "autoclose": false,
   "autocomplete": true,
   "bibliofile": "biblio.bib",
   "cite_by": "apalike",
   "current_citInitial": 1,
   "eqLabelWithNumbers": true,
   "eqNumInitial": 1,
   "hotkeys": {
    "equation": "Ctrl-E",
    "itemize": "Ctrl-I"
   },
   "labels_anchors": false,
   "latex_user_defs": false,
   "report_style_numbering": false,
   "user_envs_cfg": false
  },
  "toc": {
   "base_numbering": 1,
   "nav_menu": {},
   "number_sections": true,
   "sideBar": true,
   "skip_h1_title": true,
   "title_cell": "Table of Contents",
   "title_sidebar": "Contents",
   "toc_cell": false,
   "toc_position": {
    "height": "calc(100% - 180px)",
    "left": "10px",
    "top": "150px",
    "width": "384px"
   },
   "toc_section_display": true,
   "toc_window_display": true
  }
 },
 "nbformat": 4,
 "nbformat_minor": 5
}
