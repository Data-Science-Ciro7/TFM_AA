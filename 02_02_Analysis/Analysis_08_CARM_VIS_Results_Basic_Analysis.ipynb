{
 "cells": [
  {
   "cell_type": "markdown",
   "id": "1528757a",
   "metadata": {},
   "source": [
    "# BASIC GLS PERIODOGRAMS RESULTS ANALYSIS FOR NZP-CORRECTED CARMENES RV CURVES"
   ]
  },
  {
   "cell_type": "markdown",
   "id": "d321b3f1",
   "metadata": {},
   "source": [
    "We review the basic results of the GLS periodograms applied over the RV curves of NZP-corrected CARMENES GTO objects (CARM_VIS), specially looking at the wrong records.\n"
   ]
  },
  {
   "cell_type": "markdown",
   "id": "1152f6a9",
   "metadata": {
    "ExecuteTime": {
     "end_time": "2022-03-14T19:04:10.420175Z",
     "start_time": "2022-03-14T19:04:10.402223Z"
    }
   },
   "source": [
    "## Modules and configuration"
   ]
  },
  {
   "cell_type": "markdown",
   "id": "95da2500",
   "metadata": {
    "ExecuteTime": {
     "end_time": "2022-03-14T19:04:18.347430Z",
     "start_time": "2022-03-14T19:04:18.330475Z"
    }
   },
   "source": [
    "### Modules"
   ]
  },
  {
   "cell_type": "code",
   "execution_count": 1,
   "id": "0d3da0ce",
   "metadata": {
    "ExecuteTime": {
     "end_time": "2022-11-14T08:00:32.870482Z",
     "start_time": "2022-11-14T08:00:31.086416Z"
    }
   },
   "outputs": [
    {
     "data": {
      "text/plain": [
       "<Figure size 1200x800 with 0 Axes>"
      ]
     },
     "metadata": {},
     "output_type": "display_data"
    }
   ],
   "source": [
    "import pandas as pd\n",
    "\n",
    "from scipy.stats import normaltest\n",
    "\n",
    "import matplotlib.pyplot as plt\n",
    "import matplotlib.patches as mpatches\n",
    "plt.figure(figsize = (15, 10), dpi = 80)\n",
    "\n",
    "import seaborn as sns\n",
    "sns.set_style(\"white\", {'figure.figsize':(15,10)})"
   ]
  },
  {
   "cell_type": "markdown",
   "id": "95db9e59",
   "metadata": {
    "ExecuteTime": {
     "end_time": "2022-03-14T19:05:20.063720Z",
     "start_time": "2022-03-14T19:05:20.050761Z"
    }
   },
   "source": [
    "### Configuration"
   ]
  },
  {
   "cell_type": "code",
   "execution_count": 2,
   "id": "8ec87e97",
   "metadata": {
    "ExecuteTime": {
     "end_time": "2022-11-14T08:00:37.011537Z",
     "start_time": "2022-11-14T08:00:36.998574Z"
    }
   },
   "outputs": [],
   "source": [
    "GTO_FILE = \"../data/CARM_VIS_objects_with_PG.csv\"\n",
    "#GTO_FILE = \"../data/SELECTION_GTO_objects_with_PG.csv\"\n",
    "RV_FOLDER = \"../data/CARM_VIS_RVs/\"\n",
    "\n",
    "IMAGE_FOLDER = \"./img/\"\n",
    "\n",
    "ALPHA = 1e-3 # Significance threshold for statistical tests"
   ]
  },
  {
   "cell_type": "markdown",
   "id": "26c0df9f",
   "metadata": {},
   "source": [
    "### Functions"
   ]
  },
  {
   "cell_type": "code",
   "execution_count": 3,
   "id": "f6a11dec",
   "metadata": {
    "ExecuteTime": {
     "end_time": "2022-11-14T08:00:41.759489Z",
     "start_time": "2022-11-14T08:00:41.749515Z"
    }
   },
   "outputs": [],
   "source": [
    "def draw_hist(d1, d1_label, fig_filename=None):\n",
    "    '''Draws an histogram of the values passed. It also calulates the statistics\n",
    "    and tests the goodness of fit by a Gaussian distribution'''\n",
    "    # Plots and saves the figure\n",
    "    kwargs = dict(hist_kws={'alpha':.4}, kde_kws={'linewidth':2})\n",
    "    plt.figure(figsize=(10,7))\n",
    "    plt.title(d1_label + \" values distribution\", fontsize=16)\n",
    "    plt.grid(axis='both', alpha=0.75)\n",
    "    plt.xlabel(d1_label, fontsize=12)\n",
    "    plt.ylabel('Frequency', fontsize=12)\n",
    "    sns.distplot(d1, label=d1_label, **kwargs)\n",
    "    #sns.histplot(d1, label=d1_label)\n",
    "    #plt.xlim(0,100)\n",
    "    #plt.legend(loc='upper right');\n",
    "    # Save the image:\n",
    "    if fig_filename is None:\n",
    "        pass\n",
    "    else:\n",
    "        plt.savefig(fig_filename, format='png')\n",
    "    # Display basic statistics:\n",
    "    print(pd.Series(d1).describe())\n",
    "    # Perform the normaltest (D'Agostino and Pearson) for Gaussian distribution fit:\n",
    "    k2, p = normaltest(d1)\n",
    "    alpha = ALPHA\n",
    "    print(\"p = {:g}\".format(p))\n",
    "    if p < alpha:  # null hypothesis: x comes from a normal distribution\n",
    "        print(\"***This distribution does NOT come from a Gaussian distribution\" \\\n",
    "              \"(with significance level = %.6f)\" %(1.0 - alpha))\n",
    "    else:\n",
    "        print(\"This distribution MIGHT come from Gaussian distribution\" \\\n",
    "              \"(with significance level = %.6f)\" %(1.0 - alpha))"
   ]
  },
  {
   "cell_type": "markdown",
   "id": "488232a8",
   "metadata": {},
   "source": [
    "## Load CARM_VIS table with GLS results"
   ]
  },
  {
   "cell_type": "code",
   "execution_count": 4,
   "id": "d6b00136",
   "metadata": {
    "ExecuteTime": {
     "end_time": "2022-11-14T08:00:45.165932Z",
     "start_time": "2022-11-14T08:00:45.078699Z"
    }
   },
   "outputs": [
    {
     "data": {
      "text/html": [
       "<div>\n",
       "<style scoped>\n",
       "    .dataframe tbody tr th:only-of-type {\n",
       "        vertical-align: middle;\n",
       "    }\n",
       "\n",
       "    .dataframe tbody tr th {\n",
       "        vertical-align: top;\n",
       "    }\n",
       "\n",
       "    .dataframe thead th {\n",
       "        text-align: right;\n",
       "    }\n",
       "</style>\n",
       "<table border=\"1\" class=\"dataframe\">\n",
       "  <thead>\n",
       "    <tr style=\"text-align: right;\">\n",
       "      <th></th>\n",
       "      <th>Karmn</th>\n",
       "      <th>Name</th>\n",
       "      <th>Comp</th>\n",
       "      <th>GJ</th>\n",
       "      <th>RA_J2016_deg</th>\n",
       "      <th>DE_J2016_deg</th>\n",
       "      <th>RA_J2000</th>\n",
       "      <th>DE_J2000</th>\n",
       "      <th>l_J2016_deg</th>\n",
       "      <th>b_J2016_deg</th>\n",
       "      <th>...</th>\n",
       "      <th>WF_offset_PG_TESS</th>\n",
       "      <th>WF_e_offset_PG_TESS</th>\n",
       "      <th>WF_FAP_PG_TESS</th>\n",
       "      <th>WF_valid_PG_TESS</th>\n",
       "      <th>WF_error_PG_TESS</th>\n",
       "      <th>WF_elapsed_time_PG_TESS</th>\n",
       "      <th>WF_plain_file_TESS</th>\n",
       "      <th>WF_fig_file_TESS</th>\n",
       "      <th>PG_file_RV</th>\n",
       "      <th>PG_file_TESS</th>\n",
       "    </tr>\n",
       "  </thead>\n",
       "  <tbody>\n",
       "    <tr>\n",
       "      <th>0</th>\n",
       "      <td>J23585+076</td>\n",
       "      <td>Wolf 1051</td>\n",
       "      <td>AB</td>\n",
       "      <td>4383</td>\n",
       "      <td>359.636420</td>\n",
       "      <td>7.656947</td>\n",
       "      <td>23:58:32.65</td>\n",
       "      <td>+07:39:30.1</td>\n",
       "      <td>100.839686</td>\n",
       "      <td>-52.931049</td>\n",
       "      <td>...</td>\n",
       "      <td>NaN</td>\n",
       "      <td>NaN</td>\n",
       "      <td>NaN</td>\n",
       "      <td>0.0</td>\n",
       "      <td>Not recognized as a supported data product:\\nn...</td>\n",
       "      <td>0.000997</td>\n",
       "      <td>NaN</td>\n",
       "      <td>NaN</td>\n",
       "      <td>../data/CARM_VIS_RVs_PGs/J23585+076_RV_PG.dat</td>\n",
       "      <td>NaN</td>\n",
       "    </tr>\n",
       "    <tr>\n",
       "      <th>1</th>\n",
       "      <td>J23556-061</td>\n",
       "      <td>GJ 912</td>\n",
       "      <td>AB</td>\n",
       "      <td>912</td>\n",
       "      <td>358.913617</td>\n",
       "      <td>-6.144283</td>\n",
       "      <td>23:55:39.78</td>\n",
       "      <td>-06:08:33.4</td>\n",
       "      <td>88.129933</td>\n",
       "      <td>-65.175491</td>\n",
       "      <td>...</td>\n",
       "      <td>NaN</td>\n",
       "      <td>NaN</td>\n",
       "      <td>NaN</td>\n",
       "      <td>0.0</td>\n",
       "      <td>Not recognized as a supported data product:\\nn...</td>\n",
       "      <td>0.000998</td>\n",
       "      <td>NaN</td>\n",
       "      <td>NaN</td>\n",
       "      <td>../data/CARM_VIS_RVs_PGs/J23556-061_RV_PG.dat</td>\n",
       "      <td>NaN</td>\n",
       "    </tr>\n",
       "    <tr>\n",
       "      <th>2</th>\n",
       "      <td>J23548+385</td>\n",
       "      <td>RX J2354.8+3831</td>\n",
       "      <td>-</td>\n",
       "      <td>NaN</td>\n",
       "      <td>358.713658</td>\n",
       "      <td>38.526340</td>\n",
       "      <td>23:54:51.46</td>\n",
       "      <td>+38:31:36.2</td>\n",
       "      <td>110.941908</td>\n",
       "      <td>-23.024449</td>\n",
       "      <td>...</td>\n",
       "      <td>999.999756</td>\n",
       "      <td>2.151008e-06</td>\n",
       "      <td>1.0</td>\n",
       "      <td>1.0</td>\n",
       "      <td>NaN</td>\n",
       "      <td>94.758838</td>\n",
       "      <td>../data/CARM_VIS_TESS_WinFunc_PGs/WF_J23548+38...</td>\n",
       "      <td>../data/CARM_VIS_TESS_WinFunc_PGs/figures/WF_J...</td>\n",
       "      <td>../data/CARM_VIS_RVs_PGs/J23548+385_RV_PG.dat</td>\n",
       "      <td>../data/CARM_VIS_TESS_PGs/J23548+385_RV_PG.dat</td>\n",
       "    </tr>\n",
       "    <tr>\n",
       "      <th>3</th>\n",
       "      <td>J23505-095</td>\n",
       "      <td>LP 763-012</td>\n",
       "      <td>-</td>\n",
       "      <td>4367</td>\n",
       "      <td>357.634705</td>\n",
       "      <td>-9.560964</td>\n",
       "      <td>23:50:31.64</td>\n",
       "      <td>-09:33:32.7</td>\n",
       "      <td>80.777067</td>\n",
       "      <td>-67.303426</td>\n",
       "      <td>...</td>\n",
       "      <td>1000.000122</td>\n",
       "      <td>9.022946e-07</td>\n",
       "      <td>1.0</td>\n",
       "      <td>1.0</td>\n",
       "      <td>NaN</td>\n",
       "      <td>132.607176</td>\n",
       "      <td>../data/CARM_VIS_TESS_WinFunc_PGs/WF_J23505-09...</td>\n",
       "      <td>../data/CARM_VIS_TESS_WinFunc_PGs/figures/WF_J...</td>\n",
       "      <td>../data/CARM_VIS_RVs_PGs/J23505-095_RV_PG.dat</td>\n",
       "      <td>../data/CARM_VIS_TESS_PGs/J23505-095_RV_PG.dat</td>\n",
       "    </tr>\n",
       "    <tr>\n",
       "      <th>4</th>\n",
       "      <td>J23492+024</td>\n",
       "      <td>BR Psc</td>\n",
       "      <td>-</td>\n",
       "      <td>908</td>\n",
       "      <td>357.306604</td>\n",
       "      <td>2.396918</td>\n",
       "      <td>23:49:12.53</td>\n",
       "      <td>+02:24:04.4</td>\n",
       "      <td>93.567467</td>\n",
       "      <td>-56.885396</td>\n",
       "      <td>...</td>\n",
       "      <td>NaN</td>\n",
       "      <td>NaN</td>\n",
       "      <td>NaN</td>\n",
       "      <td>0.0</td>\n",
       "      <td>Not recognized as a supported data product:\\nn...</td>\n",
       "      <td>0.001995</td>\n",
       "      <td>NaN</td>\n",
       "      <td>NaN</td>\n",
       "      <td>../data/CARM_VIS_RVs_PGs/J23492+024_RV_PG.dat</td>\n",
       "      <td>NaN</td>\n",
       "    </tr>\n",
       "  </tbody>\n",
       "</table>\n",
       "<p>5 rows × 300 columns</p>\n",
       "</div>"
      ],
      "text/plain": [
       "        Karmn             Name Comp    GJ  RA_J2016_deg  DE_J2016_deg  \\\n",
       "0  J23585+076        Wolf 1051   AB  4383    359.636420      7.656947   \n",
       "1  J23556-061           GJ 912   AB   912    358.913617     -6.144283   \n",
       "2  J23548+385  RX J2354.8+3831    -   NaN    358.713658     38.526340   \n",
       "3  J23505-095       LP 763-012    -  4367    357.634705     -9.560964   \n",
       "4  J23492+024           BR Psc    -   908    357.306604      2.396918   \n",
       "\n",
       "      RA_J2000     DE_J2000  l_J2016_deg  b_J2016_deg  ... WF_offset_PG_TESS  \\\n",
       "0  23:58:32.65  +07:39:30.1   100.839686   -52.931049  ...               NaN   \n",
       "1  23:55:39.78  -06:08:33.4    88.129933   -65.175491  ...               NaN   \n",
       "2  23:54:51.46  +38:31:36.2   110.941908   -23.024449  ...        999.999756   \n",
       "3  23:50:31.64  -09:33:32.7    80.777067   -67.303426  ...       1000.000122   \n",
       "4  23:49:12.53  +02:24:04.4    93.567467   -56.885396  ...               NaN   \n",
       "\n",
       "  WF_e_offset_PG_TESS  WF_FAP_PG_TESS WF_valid_PG_TESS  \\\n",
       "0                 NaN             NaN              0.0   \n",
       "1                 NaN             NaN              0.0   \n",
       "2        2.151008e-06             1.0              1.0   \n",
       "3        9.022946e-07             1.0              1.0   \n",
       "4                 NaN             NaN              0.0   \n",
       "\n",
       "                                    WF_error_PG_TESS  WF_elapsed_time_PG_TESS  \\\n",
       "0  Not recognized as a supported data product:\\nn...                 0.000997   \n",
       "1  Not recognized as a supported data product:\\nn...                 0.000998   \n",
       "2                                                NaN                94.758838   \n",
       "3                                                NaN               132.607176   \n",
       "4  Not recognized as a supported data product:\\nn...                 0.001995   \n",
       "\n",
       "                                  WF_plain_file_TESS  \\\n",
       "0                                                NaN   \n",
       "1                                                NaN   \n",
       "2  ../data/CARM_VIS_TESS_WinFunc_PGs/WF_J23548+38...   \n",
       "3  ../data/CARM_VIS_TESS_WinFunc_PGs/WF_J23505-09...   \n",
       "4                                                NaN   \n",
       "\n",
       "                                    WF_fig_file_TESS  \\\n",
       "0                                                NaN   \n",
       "1                                                NaN   \n",
       "2  ../data/CARM_VIS_TESS_WinFunc_PGs/figures/WF_J...   \n",
       "3  ../data/CARM_VIS_TESS_WinFunc_PGs/figures/WF_J...   \n",
       "4                                                NaN   \n",
       "\n",
       "                                      PG_file_RV  \\\n",
       "0  ../data/CARM_VIS_RVs_PGs/J23585+076_RV_PG.dat   \n",
       "1  ../data/CARM_VIS_RVs_PGs/J23556-061_RV_PG.dat   \n",
       "2  ../data/CARM_VIS_RVs_PGs/J23548+385_RV_PG.dat   \n",
       "3  ../data/CARM_VIS_RVs_PGs/J23505-095_RV_PG.dat   \n",
       "4  ../data/CARM_VIS_RVs_PGs/J23492+024_RV_PG.dat   \n",
       "\n",
       "                                     PG_file_TESS  \n",
       "0                                             NaN  \n",
       "1                                             NaN  \n",
       "2  ../data/CARM_VIS_TESS_PGs/J23548+385_RV_PG.dat  \n",
       "3  ../data/CARM_VIS_TESS_PGs/J23505-095_RV_PG.dat  \n",
       "4                                             NaN  \n",
       "\n",
       "[5 rows x 300 columns]"
      ]
     },
     "execution_count": 4,
     "metadata": {},
     "output_type": "execute_result"
    }
   ],
   "source": [
    "gto = pd.read_csv(GTO_FILE, sep=',', decimal='.')\n",
    "gto.head()"
   ]
  },
  {
   "cell_type": "code",
   "execution_count": 5,
   "id": "0b65f1f0",
   "metadata": {
    "ExecuteTime": {
     "end_time": "2022-11-14T08:00:47.932318Z",
     "start_time": "2022-11-14T08:00:47.926334Z"
    }
   },
   "outputs": [
    {
     "name": "stdout",
     "output_type": "stream",
     "text": [
      "['Karmn', 'Name', 'Comp', 'GJ', 'RA_J2016_deg', 'DE_J2016_deg', 'RA_J2000', 'DE_J2000', 'l_J2016_deg', 'b_J2016_deg', 'Ref01', 'SpT', 'SpTnum', 'Ref02', 'Teff_K', 'eTeff_K', 'logg', 'elogg', '[Fe/H]', 'e[Fe/H]', 'Ref03', 'L_Lsol', 'eL_Lsol', 'Ref04', 'R_Rsol', 'eR_Rsol', 'Ref05', 'M_Msol', 'eM_Msol', 'Ref06', 'muRA_masa-1', 'emuRA_masa-1', 'muDE_masa-1', 'emuDE_masa-1', 'Ref07', 'pi_mas', 'epi_mas', 'Ref08', 'd_pc', 'ed_pc', 'Ref09', 'Vr_kms-1', 'eVr_kms-1', 'Ref10', 'ruwe', 'Ref11', 'U_kms-1', 'eU_kms-1', 'V_kms-1', 'eV_kms-1', 'W_kms-1', 'eW_kms-1', 'Ref12', 'sa_m/s/a', 'esa_m/s/a', 'Ref13', 'SKG', 'Ref14', 'SKG_lit', 'Ref14_lit', 'Pop', 'Ref15', 'vsini_flag', 'vsini_kms-1', 'evsini_kms-1', 'Ref16', 'P_d', 'eP_d', 'Ref17', 'pEWHalpha_A', 'epEWHalpha_A', 'Ref18', 'log(LHalpha/Lbol)', 'elog(LHalpha/Lbol)', 'Ref19', '1RXS', 'CRT_s-1', 'eCRT_s-1', 'HR1', 'eHR1', 'HR2', 'eHR2', 'Flux_X_E-13_ergcm-2s-1', 'eFlux_X_E-13_ergcm-2s-1', 'LX/LJ', 'eLX/LJ', 'Ref20', 'Activity', 'Ref21', 'FUV_mag', 'eFUV_mag', 'NUV_mag', 'eNUV_mag', 'Ref22', 'u_mag', 'eu_mag', 'Ref23', 'BT_mag', 'eBT_mag', 'Ref24', 'B_mag', 'eB_mag', 'Ref25', 'BP_mag', 'eBP_mag', 'Ref26', 'g_mag', 'eg_mag', 'Ref27', 'VT_mag', 'eVT_mag', 'Ref28', 'V_mag', 'eV_mag', 'Ref29', 'Ra_mag', 'Ref30', 'r_mag', 'er_mag', 'Ref31', 'GG_mag', 'eGG_mag', 'Ref32', 'i_mag', 'ei_mag', 'Ref33', 'RP_mag', 'eRP_mag', 'Ref34', 'IN_mag', 'Ref35', 'J_mag', 'eJ_mag', 'H_mag', 'eH_mag', 'Ks_mag', 'eKs_mag', 'QFlag_2M', 'Ref36', 'W1_mag', 'eW1_mag', 'W2_mag', 'eW2_mag', 'W3_mag', 'eW3_mag', 'W4_mag', 'eW4_mag', 'QFlag_WISE', 'Ref37', 'Multiplicity', 'WideWDS', 'Widerho_arcsec', 'eWiderho_arcsec', 'Ref38', 'WideCompanionName', 'WideCompanionSpT', 'CloseWDS', 'Closerho_arcsec', 'eCloserho_arcsec', 'Ref39', 'CloseCompanionSpT', 'RV', 'Planet', 'Ref40', 'PlanetNum', 'LoRes_spectrum', 'HiRes_spectrum', 'LoRes_imaging', 'HiRes_imaging', 'Class', 'Survey', 'Notes', 'Gaia_id_1', '2MASS_id', 'TIC_id', 'Teff_min_K', 'Teff_max_K', 'logg_min', 'logg_max', 'is_GTO', 'rv_file', 'lc_file', 'has_rv', 'has_lc', 'InstBand_nominal', 'InstBand_ranged', 'n_RV', 'Ps_RV', 'fs_RV', 'wmean_RV', 'wrms_RV', 'info_PG_RV', 'maxP_PG_RV', 'maxSNR_PG_RV', 'rms_PG_RV', 'f_PG_RV', 'e_f_PG_RV', 'Pd_PG_RV', 'e_Pd_PG_RV', 'Ph_PG_RV', 'e_Ph_PG_RV', 'Pm_PG_RV', 'e_Pm_PG_RV', 'A_PG_RV', 'e_A_PG_RV', 'ph_PG_RV', 'e_ph_PG_RV', 'T0_PG_RV', 'e_T0_PG_RV', 'offset_PG_RV', 'e_offset_PG_RV', 'FAP_PG_RV', 'valid_PG_RV', 'error_PG_RV', 'elapsed_time_PG_RV', 'fits_file_RV', 'fig_file_RV', 'n_TESS', 'Ps_TESS', 'fs_TESS', 'wmean_TESS', 'wrms_TESS', 'info_PG_TESS', 'maxP_PG_TESS', 'maxSNR_PG_TESS', 'rms_PG_TESS', 'f_PG_TESS', 'e_f_PG_TESS', 'Pd_PG_TESS', 'e_Pd_PG_TESS', 'Ph_PG_TESS', 'e_Ph_PG_TESS', 'Pm_PG_TESS', 'e_Pm_PG_TESS', 'A_PG_TESS', 'e_A_PG_TESS', 'ph_PG_TESS', 'e_ph_PG_TESS', 'T0_PG_TESS', 'e_T0_PG_TESS', 'offset_PG_TESS', 'e_offset_PG_TESS', 'FAP_PG_TESS', 'valid_PG_TESS', 'error_PG_TESS', 'elapsed_time_PG_TESS', 'fits_file_TESS', 'fig_file_TESS', 'WF_maxP_PG_RV', 'WF_maxSNR_PG_RV', 'WF_rms_PG_RV', 'WF_f_PG_RV', 'WF_e_f_PG_RV', 'WF_Pd_PG_RV', 'WF_e_Pd_PG_RV', 'WF_Ph_PG_RV', 'WF_e_Ph_PG_RV', 'WF_Pm_PG_RV', 'WF_e_Pm_PG_RV', 'WF_A_PG_RV', 'WF_e_A_PG_RV', 'WF_ph_PG_RV', 'WF_e_ph_PG_RV', 'WF_T0_PG_RV', 'WF_e_T0_PG_RV', 'WF_offset_PG_RV', 'WF_e_offset_PG_RV', 'WF_FAP_PG_RV', 'WF_valid_PG_RV', 'WF_error_PG_RV', 'WF_elapsed_time_PG_RV', 'WF_plain_file_RV', 'WF_fig_file_RV', 'WF_maxP_PG_TESS', 'WF_maxSNR_PG_TESS', 'WF_rms_PG_TESS', 'WF_f_PG_TESS', 'WF_e_f_PG_TESS', 'WF_Pd_PG_TESS', 'WF_e_Pd_PG_TESS', 'WF_Ph_PG_TESS', 'WF_e_Ph_PG_TESS', 'WF_Pm_PG_TESS', 'WF_e_Pm_PG_TESS', 'WF_A_PG_TESS', 'WF_e_A_PG_TESS', 'WF_ph_PG_TESS', 'WF_e_ph_PG_TESS', 'WF_T0_PG_TESS', 'WF_e_T0_PG_TESS', 'WF_offset_PG_TESS', 'WF_e_offset_PG_TESS', 'WF_FAP_PG_TESS', 'WF_valid_PG_TESS', 'WF_error_PG_TESS', 'WF_elapsed_time_PG_TESS', 'WF_plain_file_TESS', 'WF_fig_file_TESS', 'PG_file_RV', 'PG_file_TESS']\n"
     ]
    }
   ],
   "source": [
    "print(list(gto.columns))"
   ]
  },
  {
   "cell_type": "markdown",
   "id": "a3c305b3",
   "metadata": {},
   "source": [
    "### Addendum: correct some RV column names"
   ]
  },
  {
   "cell_type": "code",
   "execution_count": 6,
   "id": "22921e32",
   "metadata": {
    "ExecuteTime": {
     "end_time": "2022-11-14T08:00:55.428155Z",
     "start_time": "2022-11-14T08:00:55.399233Z"
    }
   },
   "outputs": [
    {
     "name": "stdout",
     "output_type": "stream",
     "text": [
      "No correction needed.\n"
     ]
    },
    {
     "data": {
      "text/html": [
       "<div>\n",
       "<style scoped>\n",
       "    .dataframe tbody tr th:only-of-type {\n",
       "        vertical-align: middle;\n",
       "    }\n",
       "\n",
       "    .dataframe tbody tr th {\n",
       "        vertical-align: top;\n",
       "    }\n",
       "\n",
       "    .dataframe thead th {\n",
       "        text-align: right;\n",
       "    }\n",
       "</style>\n",
       "<table border=\"1\" class=\"dataframe\">\n",
       "  <thead>\n",
       "    <tr style=\"text-align: right;\">\n",
       "      <th></th>\n",
       "      <th>Karmn</th>\n",
       "      <th>Name</th>\n",
       "      <th>Comp</th>\n",
       "      <th>GJ</th>\n",
       "      <th>RA_J2016_deg</th>\n",
       "      <th>DE_J2016_deg</th>\n",
       "      <th>RA_J2000</th>\n",
       "      <th>DE_J2000</th>\n",
       "      <th>l_J2016_deg</th>\n",
       "      <th>b_J2016_deg</th>\n",
       "      <th>...</th>\n",
       "      <th>WF_offset_PG_TESS</th>\n",
       "      <th>WF_e_offset_PG_TESS</th>\n",
       "      <th>WF_FAP_PG_TESS</th>\n",
       "      <th>WF_valid_PG_TESS</th>\n",
       "      <th>WF_error_PG_TESS</th>\n",
       "      <th>WF_elapsed_time_PG_TESS</th>\n",
       "      <th>WF_plain_file_TESS</th>\n",
       "      <th>WF_fig_file_TESS</th>\n",
       "      <th>PG_file_RV</th>\n",
       "      <th>PG_file_TESS</th>\n",
       "    </tr>\n",
       "  </thead>\n",
       "  <tbody>\n",
       "    <tr>\n",
       "      <th>0</th>\n",
       "      <td>J23585+076</td>\n",
       "      <td>Wolf 1051</td>\n",
       "      <td>AB</td>\n",
       "      <td>4383</td>\n",
       "      <td>359.636420</td>\n",
       "      <td>7.656947</td>\n",
       "      <td>23:58:32.65</td>\n",
       "      <td>+07:39:30.1</td>\n",
       "      <td>100.839686</td>\n",
       "      <td>-52.931049</td>\n",
       "      <td>...</td>\n",
       "      <td>NaN</td>\n",
       "      <td>NaN</td>\n",
       "      <td>NaN</td>\n",
       "      <td>0.0</td>\n",
       "      <td>Not recognized as a supported data product:\\nn...</td>\n",
       "      <td>0.000997</td>\n",
       "      <td>NaN</td>\n",
       "      <td>NaN</td>\n",
       "      <td>../data/CARM_VIS_RVs_PGs/J23585+076_RV_PG.dat</td>\n",
       "      <td>NaN</td>\n",
       "    </tr>\n",
       "    <tr>\n",
       "      <th>1</th>\n",
       "      <td>J23556-061</td>\n",
       "      <td>GJ 912</td>\n",
       "      <td>AB</td>\n",
       "      <td>912</td>\n",
       "      <td>358.913617</td>\n",
       "      <td>-6.144283</td>\n",
       "      <td>23:55:39.78</td>\n",
       "      <td>-06:08:33.4</td>\n",
       "      <td>88.129933</td>\n",
       "      <td>-65.175491</td>\n",
       "      <td>...</td>\n",
       "      <td>NaN</td>\n",
       "      <td>NaN</td>\n",
       "      <td>NaN</td>\n",
       "      <td>0.0</td>\n",
       "      <td>Not recognized as a supported data product:\\nn...</td>\n",
       "      <td>0.000998</td>\n",
       "      <td>NaN</td>\n",
       "      <td>NaN</td>\n",
       "      <td>../data/CARM_VIS_RVs_PGs/J23556-061_RV_PG.dat</td>\n",
       "      <td>NaN</td>\n",
       "    </tr>\n",
       "    <tr>\n",
       "      <th>2</th>\n",
       "      <td>J23548+385</td>\n",
       "      <td>RX J2354.8+3831</td>\n",
       "      <td>-</td>\n",
       "      <td>NaN</td>\n",
       "      <td>358.713658</td>\n",
       "      <td>38.526340</td>\n",
       "      <td>23:54:51.46</td>\n",
       "      <td>+38:31:36.2</td>\n",
       "      <td>110.941908</td>\n",
       "      <td>-23.024449</td>\n",
       "      <td>...</td>\n",
       "      <td>999.999756</td>\n",
       "      <td>2.151008e-06</td>\n",
       "      <td>1.0</td>\n",
       "      <td>1.0</td>\n",
       "      <td>NaN</td>\n",
       "      <td>94.758838</td>\n",
       "      <td>../data/CARM_VIS_TESS_WinFunc_PGs/WF_J23548+38...</td>\n",
       "      <td>../data/CARM_VIS_TESS_WinFunc_PGs/figures/WF_J...</td>\n",
       "      <td>../data/CARM_VIS_RVs_PGs/J23548+385_RV_PG.dat</td>\n",
       "      <td>../data/CARM_VIS_TESS_PGs/J23548+385_RV_PG.dat</td>\n",
       "    </tr>\n",
       "    <tr>\n",
       "      <th>3</th>\n",
       "      <td>J23505-095</td>\n",
       "      <td>LP 763-012</td>\n",
       "      <td>-</td>\n",
       "      <td>4367</td>\n",
       "      <td>357.634705</td>\n",
       "      <td>-9.560964</td>\n",
       "      <td>23:50:31.64</td>\n",
       "      <td>-09:33:32.7</td>\n",
       "      <td>80.777067</td>\n",
       "      <td>-67.303426</td>\n",
       "      <td>...</td>\n",
       "      <td>1000.000122</td>\n",
       "      <td>9.022946e-07</td>\n",
       "      <td>1.0</td>\n",
       "      <td>1.0</td>\n",
       "      <td>NaN</td>\n",
       "      <td>132.607176</td>\n",
       "      <td>../data/CARM_VIS_TESS_WinFunc_PGs/WF_J23505-09...</td>\n",
       "      <td>../data/CARM_VIS_TESS_WinFunc_PGs/figures/WF_J...</td>\n",
       "      <td>../data/CARM_VIS_RVs_PGs/J23505-095_RV_PG.dat</td>\n",
       "      <td>../data/CARM_VIS_TESS_PGs/J23505-095_RV_PG.dat</td>\n",
       "    </tr>\n",
       "    <tr>\n",
       "      <th>4</th>\n",
       "      <td>J23492+024</td>\n",
       "      <td>BR Psc</td>\n",
       "      <td>-</td>\n",
       "      <td>908</td>\n",
       "      <td>357.306604</td>\n",
       "      <td>2.396918</td>\n",
       "      <td>23:49:12.53</td>\n",
       "      <td>+02:24:04.4</td>\n",
       "      <td>93.567467</td>\n",
       "      <td>-56.885396</td>\n",
       "      <td>...</td>\n",
       "      <td>NaN</td>\n",
       "      <td>NaN</td>\n",
       "      <td>NaN</td>\n",
       "      <td>0.0</td>\n",
       "      <td>Not recognized as a supported data product:\\nn...</td>\n",
       "      <td>0.001995</td>\n",
       "      <td>NaN</td>\n",
       "      <td>NaN</td>\n",
       "      <td>../data/CARM_VIS_RVs_PGs/J23492+024_RV_PG.dat</td>\n",
       "      <td>NaN</td>\n",
       "    </tr>\n",
       "  </tbody>\n",
       "</table>\n",
       "<p>5 rows × 300 columns</p>\n",
       "</div>"
      ],
      "text/plain": [
       "        Karmn             Name Comp    GJ  RA_J2016_deg  DE_J2016_deg  \\\n",
       "0  J23585+076        Wolf 1051   AB  4383    359.636420      7.656947   \n",
       "1  J23556-061           GJ 912   AB   912    358.913617     -6.144283   \n",
       "2  J23548+385  RX J2354.8+3831    -   NaN    358.713658     38.526340   \n",
       "3  J23505-095       LP 763-012    -  4367    357.634705     -9.560964   \n",
       "4  J23492+024           BR Psc    -   908    357.306604      2.396918   \n",
       "\n",
       "      RA_J2000     DE_J2000  l_J2016_deg  b_J2016_deg  ... WF_offset_PG_TESS  \\\n",
       "0  23:58:32.65  +07:39:30.1   100.839686   -52.931049  ...               NaN   \n",
       "1  23:55:39.78  -06:08:33.4    88.129933   -65.175491  ...               NaN   \n",
       "2  23:54:51.46  +38:31:36.2   110.941908   -23.024449  ...        999.999756   \n",
       "3  23:50:31.64  -09:33:32.7    80.777067   -67.303426  ...       1000.000122   \n",
       "4  23:49:12.53  +02:24:04.4    93.567467   -56.885396  ...               NaN   \n",
       "\n",
       "  WF_e_offset_PG_TESS  WF_FAP_PG_TESS WF_valid_PG_TESS  \\\n",
       "0                 NaN             NaN              0.0   \n",
       "1                 NaN             NaN              0.0   \n",
       "2        2.151008e-06             1.0              1.0   \n",
       "3        9.022946e-07             1.0              1.0   \n",
       "4                 NaN             NaN              0.0   \n",
       "\n",
       "                                    WF_error_PG_TESS  WF_elapsed_time_PG_TESS  \\\n",
       "0  Not recognized as a supported data product:\\nn...                 0.000997   \n",
       "1  Not recognized as a supported data product:\\nn...                 0.000998   \n",
       "2                                                NaN                94.758838   \n",
       "3                                                NaN               132.607176   \n",
       "4  Not recognized as a supported data product:\\nn...                 0.001995   \n",
       "\n",
       "                                  WF_plain_file_TESS  \\\n",
       "0                                                NaN   \n",
       "1                                                NaN   \n",
       "2  ../data/CARM_VIS_TESS_WinFunc_PGs/WF_J23548+38...   \n",
       "3  ../data/CARM_VIS_TESS_WinFunc_PGs/WF_J23505-09...   \n",
       "4                                                NaN   \n",
       "\n",
       "                                    WF_fig_file_TESS  \\\n",
       "0                                                NaN   \n",
       "1                                                NaN   \n",
       "2  ../data/CARM_VIS_TESS_WinFunc_PGs/figures/WF_J...   \n",
       "3  ../data/CARM_VIS_TESS_WinFunc_PGs/figures/WF_J...   \n",
       "4                                                NaN   \n",
       "\n",
       "                                      PG_file_RV  \\\n",
       "0  ../data/CARM_VIS_RVs_PGs/J23585+076_RV_PG.dat   \n",
       "1  ../data/CARM_VIS_RVs_PGs/J23556-061_RV_PG.dat   \n",
       "2  ../data/CARM_VIS_RVs_PGs/J23548+385_RV_PG.dat   \n",
       "3  ../data/CARM_VIS_RVs_PGs/J23505-095_RV_PG.dat   \n",
       "4  ../data/CARM_VIS_RVs_PGs/J23492+024_RV_PG.dat   \n",
       "\n",
       "                                     PG_file_TESS  \n",
       "0                                             NaN  \n",
       "1                                             NaN  \n",
       "2  ../data/CARM_VIS_TESS_PGs/J23548+385_RV_PG.dat  \n",
       "3  ../data/CARM_VIS_TESS_PGs/J23505-095_RV_PG.dat  \n",
       "4                                             NaN  \n",
       "\n",
       "[5 rows x 300 columns]"
      ]
     },
     "execution_count": 6,
     "metadata": {},
     "output_type": "execute_result"
    }
   ],
   "source": [
    "if 'f_RV' in list(gto.columns):\n",
    "    print(\"Correcting column names...\")\n",
    "    gto.rename(columns={'f_RV': 'f_PG_RV', 'e_f_RV': 'e_f_PG_RV',\n",
    "                        'Pd_RV': 'Pd_PG_RV', 'e_Pd_RV': 'e_Pd_PG_RV',\n",
    "                        'Ph_RV': 'Ph_PG_RV', 'e_Ph_RV': 'e_Ph_PG_RV',\n",
    "                        'Pm_RV': 'Pm_PG_RV', 'e_Pm_RV': 'e_Pm_PG_RV',\n",
    "                        'A_RV': 'A_PG_RV', 'e_A_RV': 'e_A_PG_RV',\n",
    "                        'ph_RV': 'ph_PG_RV', 'e_ph_RV': 'e_ph_PG_RV',\n",
    "                        'T0_RV': 'T0_PG_RV', 'e_T0_RV': 'e_T0_PG_RV',\n",
    "                        'offset_RV': 'offset_PG_RV', 'e_offset_RV': 'e_offset_PG_RV',\n",
    "                        'FAP_RV': 'FAP_PG_RV', 'elapsed_time_RV': 'elapsed_time_PG_RV'},\n",
    "               inplace=True)\n",
    "    gto.to_csv(GTO_FILE, sep=',', decimal='.', index=False)\n",
    "else:\n",
    "    print(\"No correction needed.\")\n",
    "gto.head()"
   ]
  },
  {
   "cell_type": "code",
   "execution_count": 8,
   "id": "5aa74d78",
   "metadata": {
    "ExecuteTime": {
     "end_time": "2022-11-14T08:02:01.839964Z",
     "start_time": "2022-11-14T08:02:01.831700Z"
    }
   },
   "outputs": [
    {
     "data": {
      "text/plain": [
       "(390, 300)"
      ]
     },
     "execution_count": 8,
     "metadata": {},
     "output_type": "execute_result"
    }
   ],
   "source": [
    "gto.shape"
   ]
  },
  {
   "cell_type": "markdown",
   "id": "918b5908",
   "metadata": {},
   "source": [
    "## Analysis of results"
   ]
  },
  {
   "cell_type": "markdown",
   "id": "9067ab67",
   "metadata": {},
   "source": [
    "### Exceptions"
   ]
  },
  {
   "cell_type": "markdown",
   "id": "a0dfc01e",
   "metadata": {},
   "source": [
    "#### Objects which calculation failed"
   ]
  },
  {
   "cell_type": "markdown",
   "id": "de188b01",
   "metadata": {},
   "source": [
    "We first check how many objects had problems and could not complete the calculation."
   ]
  },
  {
   "cell_type": "code",
   "execution_count": 9,
   "id": "4d39d4d6",
   "metadata": {
    "ExecuteTime": {
     "end_time": "2022-11-14T08:02:11.245407Z",
     "start_time": "2022-11-14T08:02:11.235435Z"
    }
   },
   "outputs": [
    {
     "data": {
      "text/plain": [
       "(3, 2)"
      ]
     },
     "execution_count": 9,
     "metadata": {},
     "output_type": "execute_result"
    }
   ],
   "source": [
    "gto.loc[gto['valid_PG_RV'] == 0, ['Karmn', 'error_PG_RV']].shape"
   ]
  },
  {
   "cell_type": "markdown",
   "id": "73d320a9",
   "metadata": {},
   "source": [
    "Hence, periodogram calculation was unsuccessful for three (3) objects."
   ]
  },
  {
   "cell_type": "code",
   "execution_count": 10,
   "id": "b9d9ac65",
   "metadata": {
    "ExecuteTime": {
     "end_time": "2022-11-14T08:03:06.363456Z",
     "start_time": "2022-11-14T08:03:06.343511Z"
    },
    "scrolled": true
   },
   "outputs": [
    {
     "data": {
      "text/html": [
       "<div>\n",
       "<style scoped>\n",
       "    .dataframe tbody tr th:only-of-type {\n",
       "        vertical-align: middle;\n",
       "    }\n",
       "\n",
       "    .dataframe tbody tr th {\n",
       "        vertical-align: top;\n",
       "    }\n",
       "\n",
       "    .dataframe thead th {\n",
       "        text-align: right;\n",
       "    }\n",
       "</style>\n",
       "<table border=\"1\" class=\"dataframe\">\n",
       "  <thead>\n",
       "    <tr style=\"text-align: right;\">\n",
       "      <th></th>\n",
       "      <th>Karmn</th>\n",
       "      <th>error_PG_RV</th>\n",
       "    </tr>\n",
       "  </thead>\n",
       "  <tbody>\n",
       "    <tr>\n",
       "      <th>100</th>\n",
       "      <td>J17572+707</td>\n",
       "      <td>zero-size array to reduction operation minimum...</td>\n",
       "    </tr>\n",
       "    <tr>\n",
       "      <th>126</th>\n",
       "      <td>J16102-193</td>\n",
       "      <td>zero-size array to reduction operation minimum...</td>\n",
       "    </tr>\n",
       "    <tr>\n",
       "      <th>331</th>\n",
       "      <td>J04173+088</td>\n",
       "      <td>zero-size array to reduction operation minimum...</td>\n",
       "    </tr>\n",
       "  </tbody>\n",
       "</table>\n",
       "</div>"
      ],
      "text/plain": [
       "          Karmn                                        error_PG_RV\n",
       "100  J17572+707  zero-size array to reduction operation minimum...\n",
       "126  J16102-193  zero-size array to reduction operation minimum...\n",
       "331  J04173+088  zero-size array to reduction operation minimum..."
      ]
     },
     "execution_count": 10,
     "metadata": {},
     "output_type": "execute_result"
    }
   ],
   "source": [
    "gto.loc[gto['valid_PG_RV'] == 0, ['Karmn', 'error_PG_RV']]"
   ]
  },
  {
   "cell_type": "markdown",
   "id": "4825a3b1",
   "metadata": {},
   "source": [
    "We can check the RV curve of one of each instance:"
   ]
  },
  {
   "cell_type": "code",
   "execution_count": 11,
   "id": "a14f1a78",
   "metadata": {
    "ExecuteTime": {
     "end_time": "2022-11-14T08:03:11.813537Z",
     "start_time": "2022-11-14T08:03:11.789601Z"
    }
   },
   "outputs": [
    {
     "data": {
      "text/html": [
       "<div>\n",
       "<style scoped>\n",
       "    .dataframe tbody tr th:only-of-type {\n",
       "        vertical-align: middle;\n",
       "    }\n",
       "\n",
       "    .dataframe tbody tr th {\n",
       "        vertical-align: top;\n",
       "    }\n",
       "\n",
       "    .dataframe thead th {\n",
       "        text-align: right;\n",
       "    }\n",
       "</style>\n",
       "<table border=\"1\" class=\"dataframe\">\n",
       "  <thead>\n",
       "    <tr style=\"text-align: right;\">\n",
       "      <th></th>\n",
       "      <th>Date</th>\n",
       "      <th>rv</th>\n",
       "      <th>e_rv</th>\n",
       "    </tr>\n",
       "  </thead>\n",
       "  <tbody>\n",
       "  </tbody>\n",
       "</table>\n",
       "</div>"
      ],
      "text/plain": [
       "Empty DataFrame\n",
       "Columns: [Date, rv, e_rv]\n",
       "Index: []"
      ]
     },
     "execution_count": 11,
     "metadata": {},
     "output_type": "execute_result"
    }
   ],
   "source": [
    "objeto = \"J17572+707\"\n",
    "rv = pd.read_csv(RV_FOLDER + objeto + \".avc.dat\",\n",
    "                 sep=' ', decimal='.',\n",
    "                 names=['Date', 'rv', 'e_rv'])\n",
    "rv.head()"
   ]
  },
  {
   "cell_type": "markdown",
   "id": "4e946874",
   "metadata": {
    "ExecuteTime": {
     "end_time": "2022-03-17T19:56:05.829078Z",
     "start_time": "2022-03-17T19:56:05.819105Z"
    }
   },
   "source": [
    "**OBSERVATION:** RV file is empty!"
   ]
  },
  {
   "cell_type": "code",
   "execution_count": 13,
   "id": "466f9ead",
   "metadata": {
    "ExecuteTime": {
     "end_time": "2022-11-14T08:04:39.039995Z",
     "start_time": "2022-11-14T08:04:39.017946Z"
    }
   },
   "outputs": [
    {
     "data": {
      "text/html": [
       "<div>\n",
       "<style scoped>\n",
       "    .dataframe tbody tr th:only-of-type {\n",
       "        vertical-align: middle;\n",
       "    }\n",
       "\n",
       "    .dataframe tbody tr th {\n",
       "        vertical-align: top;\n",
       "    }\n",
       "\n",
       "    .dataframe thead th {\n",
       "        text-align: right;\n",
       "    }\n",
       "</style>\n",
       "<table border=\"1\" class=\"dataframe\">\n",
       "  <thead>\n",
       "    <tr style=\"text-align: right;\">\n",
       "      <th></th>\n",
       "      <th>Date</th>\n",
       "      <th>rv</th>\n",
       "      <th>e_rv</th>\n",
       "    </tr>\n",
       "  </thead>\n",
       "  <tbody>\n",
       "  </tbody>\n",
       "</table>\n",
       "</div>"
      ],
      "text/plain": [
       "Empty DataFrame\n",
       "Columns: [Date, rv, e_rv]\n",
       "Index: []"
      ]
     },
     "execution_count": 13,
     "metadata": {},
     "output_type": "execute_result"
    }
   ],
   "source": [
    "objeto = \"J16102-193\"\n",
    "rv = pd.read_csv(RV_FOLDER + objeto + \".avc.dat\",\n",
    "                 sep=' ', decimal='.',\n",
    "                 names=['Date', 'rv', 'e_rv'])\n",
    "rv.head()"
   ]
  },
  {
   "cell_type": "markdown",
   "id": "3500e427",
   "metadata": {
    "ExecuteTime": {
     "end_time": "2022-03-17T19:56:05.829078Z",
     "start_time": "2022-03-17T19:56:05.819105Z"
    }
   },
   "source": [
    "**OBSERVATION:** RV file is empty!"
   ]
  },
  {
   "cell_type": "code",
   "execution_count": 14,
   "id": "0556f876",
   "metadata": {
    "ExecuteTime": {
     "end_time": "2022-11-14T08:04:41.530882Z",
     "start_time": "2022-11-14T08:04:41.507907Z"
    }
   },
   "outputs": [
    {
     "data": {
      "text/html": [
       "<div>\n",
       "<style scoped>\n",
       "    .dataframe tbody tr th:only-of-type {\n",
       "        vertical-align: middle;\n",
       "    }\n",
       "\n",
       "    .dataframe tbody tr th {\n",
       "        vertical-align: top;\n",
       "    }\n",
       "\n",
       "    .dataframe thead th {\n",
       "        text-align: right;\n",
       "    }\n",
       "</style>\n",
       "<table border=\"1\" class=\"dataframe\">\n",
       "  <thead>\n",
       "    <tr style=\"text-align: right;\">\n",
       "      <th></th>\n",
       "      <th>Date</th>\n",
       "      <th>rv</th>\n",
       "      <th>e_rv</th>\n",
       "    </tr>\n",
       "  </thead>\n",
       "  <tbody>\n",
       "  </tbody>\n",
       "</table>\n",
       "</div>"
      ],
      "text/plain": [
       "Empty DataFrame\n",
       "Columns: [Date, rv, e_rv]\n",
       "Index: []"
      ]
     },
     "execution_count": 14,
     "metadata": {},
     "output_type": "execute_result"
    }
   ],
   "source": [
    "objeto = \"J04173+088\"\n",
    "rv = pd.read_csv(RV_FOLDER + objeto + \".avc.dat\",\n",
    "                 sep=' ', decimal='.',\n",
    "                 names=['Date', 'rv', 'e_rv'])\n",
    "rv.head()"
   ]
  },
  {
   "cell_type": "markdown",
   "id": "d7e74055",
   "metadata": {
    "ExecuteTime": {
     "end_time": "2022-03-17T19:56:05.829078Z",
     "start_time": "2022-03-17T19:56:05.819105Z"
    }
   },
   "source": [
    "**OBSERVATION:** RV file is empty!"
   ]
  },
  {
   "cell_type": "markdown",
   "id": "75969012",
   "metadata": {},
   "source": [
    "#### Objects that take too long to complete"
   ]
  },
  {
   "cell_type": "markdown",
   "id": "0aade1b0",
   "metadata": {},
   "source": [
    "This time, no object took too long to complete."
   ]
  },
  {
   "cell_type": "code",
   "execution_count": 15,
   "id": "f5d87d10",
   "metadata": {
    "ExecuteTime": {
     "end_time": "2022-11-14T08:04:50.056218Z",
     "start_time": "2022-11-14T08:04:50.041258Z"
    }
   },
   "outputs": [
    {
     "data": {
      "text/html": [
       "<div>\n",
       "<style scoped>\n",
       "    .dataframe tbody tr th:only-of-type {\n",
       "        vertical-align: middle;\n",
       "    }\n",
       "\n",
       "    .dataframe tbody tr th {\n",
       "        vertical-align: top;\n",
       "    }\n",
       "\n",
       "    .dataframe thead th {\n",
       "        text-align: right;\n",
       "    }\n",
       "</style>\n",
       "<table border=\"1\" class=\"dataframe\">\n",
       "  <thead>\n",
       "    <tr style=\"text-align: right;\">\n",
       "      <th></th>\n",
       "      <th>Karmn</th>\n",
       "      <th>elapsed_time_PG_RV</th>\n",
       "    </tr>\n",
       "  </thead>\n",
       "  <tbody>\n",
       "    <tr>\n",
       "      <th>99</th>\n",
       "      <td>J17578+046</td>\n",
       "      <td>91.976841</td>\n",
       "    </tr>\n",
       "    <tr>\n",
       "      <th>281</th>\n",
       "      <td>J07274+052</td>\n",
       "      <td>88.575336</td>\n",
       "    </tr>\n",
       "    <tr>\n",
       "      <th>14</th>\n",
       "      <td>J22565+165</td>\n",
       "      <td>87.877729</td>\n",
       "    </tr>\n",
       "    <tr>\n",
       "      <th>207</th>\n",
       "      <td>J11033+359</td>\n",
       "      <td>75.816757</td>\n",
       "    </tr>\n",
       "    <tr>\n",
       "      <th>288</th>\n",
       "      <td>J06548+332</td>\n",
       "      <td>71.686206</td>\n",
       "    </tr>\n",
       "    <tr>\n",
       "      <th>...</th>\n",
       "      <td>...</td>\n",
       "      <td>...</td>\n",
       "    </tr>\n",
       "    <tr>\n",
       "      <th>329</th>\n",
       "      <td>J04219+213</td>\n",
       "      <td>38.232725</td>\n",
       "    </tr>\n",
       "    <tr>\n",
       "      <th>244</th>\n",
       "      <td>J09286-121</td>\n",
       "      <td>38.198872</td>\n",
       "    </tr>\n",
       "    <tr>\n",
       "      <th>126</th>\n",
       "      <td>J16102-193</td>\n",
       "      <td>0.008643</td>\n",
       "    </tr>\n",
       "    <tr>\n",
       "      <th>100</th>\n",
       "      <td>J17572+707</td>\n",
       "      <td>0.005986</td>\n",
       "    </tr>\n",
       "    <tr>\n",
       "      <th>331</th>\n",
       "      <td>J04173+088</td>\n",
       "      <td>0.004003</td>\n",
       "    </tr>\n",
       "  </tbody>\n",
       "</table>\n",
       "<p>390 rows × 2 columns</p>\n",
       "</div>"
      ],
      "text/plain": [
       "          Karmn  elapsed_time_PG_RV\n",
       "99   J17578+046           91.976841\n",
       "281  J07274+052           88.575336\n",
       "14   J22565+165           87.877729\n",
       "207  J11033+359           75.816757\n",
       "288  J06548+332           71.686206\n",
       "..          ...                 ...\n",
       "329  J04219+213           38.232725\n",
       "244  J09286-121           38.198872\n",
       "126  J16102-193            0.008643\n",
       "100  J17572+707            0.005986\n",
       "331  J04173+088            0.004003\n",
       "\n",
       "[390 rows x 2 columns]"
      ]
     },
     "execution_count": 15,
     "metadata": {},
     "output_type": "execute_result"
    }
   ],
   "source": [
    "gto[['Karmn', 'elapsed_time_PG_RV']].sort_values(by='elapsed_time_PG_RV', ascending=False)"
   ]
  },
  {
   "cell_type": "markdown",
   "id": "79d95eb7",
   "metadata": {},
   "source": [
    "#### Objects which peak frequency is in the lower limit"
   ]
  },
  {
   "cell_type": "code",
   "execution_count": 16,
   "id": "0808450b",
   "metadata": {
    "ExecuteTime": {
     "end_time": "2022-11-14T08:05:07.233948Z",
     "start_time": "2022-11-14T08:05:07.213004Z"
    }
   },
   "outputs": [
    {
     "data": {
      "text/html": [
       "<div>\n",
       "<style scoped>\n",
       "    .dataframe tbody tr th:only-of-type {\n",
       "        vertical-align: middle;\n",
       "    }\n",
       "\n",
       "    .dataframe tbody tr th {\n",
       "        vertical-align: top;\n",
       "    }\n",
       "\n",
       "    .dataframe thead th {\n",
       "        text-align: right;\n",
       "    }\n",
       "</style>\n",
       "<table border=\"1\" class=\"dataframe\">\n",
       "  <thead>\n",
       "    <tr style=\"text-align: right;\">\n",
       "      <th></th>\n",
       "      <th>Karmn</th>\n",
       "      <th>f_PG_RV</th>\n",
       "      <th>e_f_PG_RV</th>\n",
       "    </tr>\n",
       "  </thead>\n",
       "  <tbody>\n",
       "    <tr>\n",
       "      <th>338</th>\n",
       "      <td>J03230+420</td>\n",
       "      <td>287.81608</td>\n",
       "      <td>0.000002</td>\n",
       "    </tr>\n",
       "    <tr>\n",
       "      <th>179</th>\n",
       "      <td>J12248-182</td>\n",
       "      <td>286.43056</td>\n",
       "      <td>0.000029</td>\n",
       "    </tr>\n",
       "    <tr>\n",
       "      <th>17</th>\n",
       "      <td>J22518+317</td>\n",
       "      <td>285.96488</td>\n",
       "      <td>0.000210</td>\n",
       "    </tr>\n",
       "    <tr>\n",
       "      <th>183</th>\n",
       "      <td>J12123+544S</td>\n",
       "      <td>282.41176</td>\n",
       "      <td>0.000128</td>\n",
       "    </tr>\n",
       "    <tr>\n",
       "      <th>266</th>\n",
       "      <td>J08126-215</td>\n",
       "      <td>281.84128</td>\n",
       "      <td>0.000074</td>\n",
       "    </tr>\n",
       "    <tr>\n",
       "      <th>...</th>\n",
       "      <td>...</td>\n",
       "      <td>...</td>\n",
       "      <td>...</td>\n",
       "    </tr>\n",
       "    <tr>\n",
       "      <th>273</th>\n",
       "      <td>J07446+035</td>\n",
       "      <td>2.64536</td>\n",
       "      <td>0.000211</td>\n",
       "    </tr>\n",
       "    <tr>\n",
       "      <th>205</th>\n",
       "      <td>J11054+435</td>\n",
       "      <td>2.64448</td>\n",
       "      <td>0.000110</td>\n",
       "    </tr>\n",
       "    <tr>\n",
       "      <th>195</th>\n",
       "      <td>J11421+267</td>\n",
       "      <td>2.62800</td>\n",
       "      <td>0.000310</td>\n",
       "    </tr>\n",
       "    <tr>\n",
       "      <th>333</th>\n",
       "      <td>J04153-076</td>\n",
       "      <td>2.55840</td>\n",
       "      <td>0.000168</td>\n",
       "    </tr>\n",
       "    <tr>\n",
       "      <th>307</th>\n",
       "      <td>J05337+019</td>\n",
       "      <td>2.52304</td>\n",
       "      <td>0.000051</td>\n",
       "    </tr>\n",
       "  </tbody>\n",
       "</table>\n",
       "<p>387 rows × 3 columns</p>\n",
       "</div>"
      ],
      "text/plain": [
       "           Karmn    f_PG_RV  e_f_PG_RV\n",
       "338   J03230+420  287.81608   0.000002\n",
       "179   J12248-182  286.43056   0.000029\n",
       "17    J22518+317  285.96488   0.000210\n",
       "183  J12123+544S  282.41176   0.000128\n",
       "266   J08126-215  281.84128   0.000074\n",
       "..           ...        ...        ...\n",
       "273   J07446+035    2.64536   0.000211\n",
       "205   J11054+435    2.64448   0.000110\n",
       "195   J11421+267    2.62800   0.000310\n",
       "333   J04153-076    2.55840   0.000168\n",
       "307   J05337+019    2.52304   0.000051\n",
       "\n",
       "[387 rows x 3 columns]"
      ]
     },
     "execution_count": 16,
     "metadata": {},
     "output_type": "execute_result"
    }
   ],
   "source": [
    "gto[['Karmn', 'f_PG_RV', 'e_f_PG_RV']].dropna().sort_values(by='f_PG_RV', ascending=False)"
   ]
  },
  {
   "cell_type": "code",
   "execution_count": 17,
   "id": "144e824f",
   "metadata": {
    "ExecuteTime": {
     "end_time": "2022-11-14T08:05:23.385659Z",
     "start_time": "2022-11-14T08:05:23.371698Z"
    }
   },
   "outputs": [
    {
     "data": {
      "text/html": [
       "<div>\n",
       "<style scoped>\n",
       "    .dataframe tbody tr th:only-of-type {\n",
       "        vertical-align: middle;\n",
       "    }\n",
       "\n",
       "    .dataframe tbody tr th {\n",
       "        vertical-align: top;\n",
       "    }\n",
       "\n",
       "    .dataframe thead th {\n",
       "        text-align: right;\n",
       "    }\n",
       "</style>\n",
       "<table border=\"1\" class=\"dataframe\">\n",
       "  <thead>\n",
       "    <tr style=\"text-align: right;\">\n",
       "      <th></th>\n",
       "      <th>Karmn</th>\n",
       "      <th>f_PG_RV</th>\n",
       "      <th>e_f_PG_RV</th>\n",
       "    </tr>\n",
       "  </thead>\n",
       "  <tbody>\n",
       "    <tr>\n",
       "      <th>307</th>\n",
       "      <td>J05337+019</td>\n",
       "      <td>2.52304</td>\n",
       "      <td>0.000051</td>\n",
       "    </tr>\n",
       "    <tr>\n",
       "      <th>333</th>\n",
       "      <td>J04153-076</td>\n",
       "      <td>2.55840</td>\n",
       "      <td>0.000168</td>\n",
       "    </tr>\n",
       "    <tr>\n",
       "      <th>195</th>\n",
       "      <td>J11421+267</td>\n",
       "      <td>2.62800</td>\n",
       "      <td>0.000310</td>\n",
       "    </tr>\n",
       "    <tr>\n",
       "      <th>205</th>\n",
       "      <td>J11054+435</td>\n",
       "      <td>2.64448</td>\n",
       "      <td>0.000110</td>\n",
       "    </tr>\n",
       "    <tr>\n",
       "      <th>273</th>\n",
       "      <td>J07446+035</td>\n",
       "      <td>2.64536</td>\n",
       "      <td>0.000211</td>\n",
       "    </tr>\n",
       "    <tr>\n",
       "      <th>...</th>\n",
       "      <td>...</td>\n",
       "      <td>...</td>\n",
       "      <td>...</td>\n",
       "    </tr>\n",
       "    <tr>\n",
       "      <th>266</th>\n",
       "      <td>J08126-215</td>\n",
       "      <td>281.84128</td>\n",
       "      <td>0.000074</td>\n",
       "    </tr>\n",
       "    <tr>\n",
       "      <th>183</th>\n",
       "      <td>J12123+544S</td>\n",
       "      <td>282.41176</td>\n",
       "      <td>0.000128</td>\n",
       "    </tr>\n",
       "    <tr>\n",
       "      <th>17</th>\n",
       "      <td>J22518+317</td>\n",
       "      <td>285.96488</td>\n",
       "      <td>0.000210</td>\n",
       "    </tr>\n",
       "    <tr>\n",
       "      <th>179</th>\n",
       "      <td>J12248-182</td>\n",
       "      <td>286.43056</td>\n",
       "      <td>0.000029</td>\n",
       "    </tr>\n",
       "    <tr>\n",
       "      <th>338</th>\n",
       "      <td>J03230+420</td>\n",
       "      <td>287.81608</td>\n",
       "      <td>0.000002</td>\n",
       "    </tr>\n",
       "  </tbody>\n",
       "</table>\n",
       "<p>387 rows × 3 columns</p>\n",
       "</div>"
      ],
      "text/plain": [
       "           Karmn    f_PG_RV  e_f_PG_RV\n",
       "307   J05337+019    2.52304   0.000051\n",
       "333   J04153-076    2.55840   0.000168\n",
       "195   J11421+267    2.62800   0.000310\n",
       "205   J11054+435    2.64448   0.000110\n",
       "273   J07446+035    2.64536   0.000211\n",
       "..           ...        ...        ...\n",
       "266   J08126-215  281.84128   0.000074\n",
       "183  J12123+544S  282.41176   0.000128\n",
       "17    J22518+317  285.96488   0.000210\n",
       "179   J12248-182  286.43056   0.000029\n",
       "338   J03230+420  287.81608   0.000002\n",
       "\n",
       "[387 rows x 3 columns]"
      ]
     },
     "execution_count": 17,
     "metadata": {},
     "output_type": "execute_result"
    }
   ],
   "source": [
    "gto[['Karmn', 'f_PG_RV', 'e_f_PG_RV']].dropna().sort_values(by='f_PG_RV', ascending=True)"
   ]
  },
  {
   "cell_type": "markdown",
   "id": "02b87cb2",
   "metadata": {},
   "source": [
    "**OBSERVATION:** As we can see, there seem to be at least three stars for which the calculated pulsation frequencies lie very near the limits of the periodogram range of $P\\in[2.4, 288.0]\\;d^{-1}$."
   ]
  },
  {
   "cell_type": "code",
   "execution_count": 19,
   "id": "24db4ac7",
   "metadata": {
    "ExecuteTime": {
     "end_time": "2022-11-14T08:24:43.123516Z",
     "start_time": "2022-11-14T08:24:43.097574Z"
    }
   },
   "outputs": [
    {
     "data": {
      "text/html": [
       "<div>\n",
       "<style scoped>\n",
       "    .dataframe tbody tr th:only-of-type {\n",
       "        vertical-align: middle;\n",
       "    }\n",
       "\n",
       "    .dataframe tbody tr th {\n",
       "        vertical-align: top;\n",
       "    }\n",
       "\n",
       "    .dataframe thead th {\n",
       "        text-align: right;\n",
       "    }\n",
       "</style>\n",
       "<table border=\"1\" class=\"dataframe\">\n",
       "  <thead>\n",
       "    <tr style=\"text-align: right;\">\n",
       "      <th></th>\n",
       "      <th>Karmn</th>\n",
       "      <th>f_PG_RV</th>\n",
       "      <th>e_f_PG_RV</th>\n",
       "    </tr>\n",
       "  </thead>\n",
       "  <tbody>\n",
       "    <tr>\n",
       "      <th>0</th>\n",
       "      <td>J23585+076</td>\n",
       "      <td>112.30720</td>\n",
       "      <td>0.000051</td>\n",
       "    </tr>\n",
       "    <tr>\n",
       "      <th>1</th>\n",
       "      <td>J23556-061</td>\n",
       "      <td>3.00584</td>\n",
       "      <td>0.000045</td>\n",
       "    </tr>\n",
       "    <tr>\n",
       "      <th>2</th>\n",
       "      <td>J23548+385</td>\n",
       "      <td>204.35120</td>\n",
       "      <td>0.000287</td>\n",
       "    </tr>\n",
       "    <tr>\n",
       "      <th>3</th>\n",
       "      <td>J23505-095</td>\n",
       "      <td>163.85128</td>\n",
       "      <td>0.000065</td>\n",
       "    </tr>\n",
       "    <tr>\n",
       "      <th>4</th>\n",
       "      <td>J23492+024</td>\n",
       "      <td>154.04224</td>\n",
       "      <td>0.000055</td>\n",
       "    </tr>\n",
       "    <tr>\n",
       "      <th>...</th>\n",
       "      <td>...</td>\n",
       "      <td>...</td>\n",
       "      <td>...</td>\n",
       "    </tr>\n",
       "    <tr>\n",
       "      <th>384</th>\n",
       "      <td>J00184+440</td>\n",
       "      <td>73.60688</td>\n",
       "      <td>0.000078</td>\n",
       "    </tr>\n",
       "    <tr>\n",
       "      <th>385</th>\n",
       "      <td>J00183+440</td>\n",
       "      <td>73.55616</td>\n",
       "      <td>0.000121</td>\n",
       "    </tr>\n",
       "    <tr>\n",
       "      <th>386</th>\n",
       "      <td>J00162+198W</td>\n",
       "      <td>80.05056</td>\n",
       "      <td>0.000040</td>\n",
       "    </tr>\n",
       "    <tr>\n",
       "      <th>388</th>\n",
       "      <td>J00067-075</td>\n",
       "      <td>119.23288</td>\n",
       "      <td>0.000096</td>\n",
       "    </tr>\n",
       "    <tr>\n",
       "      <th>389</th>\n",
       "      <td>J00051+457</td>\n",
       "      <td>79.55400</td>\n",
       "      <td>0.000166</td>\n",
       "    </tr>\n",
       "  </tbody>\n",
       "</table>\n",
       "<p>317 rows × 3 columns</p>\n",
       "</div>"
      ],
      "text/plain": [
       "           Karmn    f_PG_RV  e_f_PG_RV\n",
       "0     J23585+076  112.30720   0.000051\n",
       "1     J23556-061    3.00584   0.000045\n",
       "2     J23548+385  204.35120   0.000287\n",
       "3     J23505-095  163.85128   0.000065\n",
       "4     J23492+024  154.04224   0.000055\n",
       "..           ...        ...        ...\n",
       "384   J00184+440   73.60688   0.000078\n",
       "385   J00183+440   73.55616   0.000121\n",
       "386  J00162+198W   80.05056   0.000040\n",
       "388   J00067-075  119.23288   0.000096\n",
       "389   J00051+457   79.55400   0.000166\n",
       "\n",
       "[317 rows x 3 columns]"
      ]
     },
     "execution_count": 19,
     "metadata": {},
     "output_type": "execute_result"
    }
   ],
   "source": [
    "gto.loc[(gto['f_PG_RV'] < 8.0) | (gto['f_PG_RV'] > 72.0), ['Karmn', 'f_PG_RV', 'e_f_PG_RV']]"
   ]
  },
  {
   "cell_type": "markdown",
   "id": "86250dd6",
   "metadata": {},
   "source": [
    "**OBSERVATION:** there seems to be a lot of stars (317 out of 387; $\\approx82\\%$) for which the calculated pulsation frequency  lies outside the theoretical predicted pulsation range ($P_{pulsation}\\in[8.0, 72.0]\\;d^{-1}$)."
   ]
  },
  {
   "cell_type": "markdown",
   "id": "1dd5a340",
   "metadata": {},
   "source": [
    "### Main statistics"
   ]
  },
  {
   "cell_type": "code",
   "execution_count": 20,
   "id": "dac8d1bd",
   "metadata": {
    "ExecuteTime": {
     "end_time": "2022-11-14T08:28:35.078956Z",
     "start_time": "2022-11-14T08:28:35.045031Z"
    }
   },
   "outputs": [
    {
     "data": {
      "text/html": [
       "<div>\n",
       "<style scoped>\n",
       "    .dataframe tbody tr th:only-of-type {\n",
       "        vertical-align: middle;\n",
       "    }\n",
       "\n",
       "    .dataframe tbody tr th {\n",
       "        vertical-align: top;\n",
       "    }\n",
       "\n",
       "    .dataframe thead th {\n",
       "        text-align: right;\n",
       "    }\n",
       "</style>\n",
       "<table border=\"1\" class=\"dataframe\">\n",
       "  <thead>\n",
       "    <tr style=\"text-align: right;\">\n",
       "      <th></th>\n",
       "      <th>n_RV</th>\n",
       "      <th>Ps_RV</th>\n",
       "      <th>wmean_RV</th>\n",
       "      <th>wrms_RV</th>\n",
       "      <th>maxSNR_PG_RV</th>\n",
       "      <th>Pm_PG_RV</th>\n",
       "      <th>FAP_PG_RV</th>\n",
       "    </tr>\n",
       "  </thead>\n",
       "  <tbody>\n",
       "    <tr>\n",
       "      <th>count</th>\n",
       "      <td>387.000000</td>\n",
       "      <td>387.000000</td>\n",
       "      <td>3.870000e+02</td>\n",
       "      <td>387.000000</td>\n",
       "      <td>3.870000e+02</td>\n",
       "      <td>387.000000</td>\n",
       "      <td>3.870000e+02</td>\n",
       "    </tr>\n",
       "    <tr>\n",
       "      <th>mean</th>\n",
       "      <td>51.979328</td>\n",
       "      <td>15.805441</td>\n",
       "      <td>-1.651589e+00</td>\n",
       "      <td>361.871528</td>\n",
       "      <td>8.249183e+05</td>\n",
       "      <td>80.568248</td>\n",
       "      <td>1.891508e-01</td>\n",
       "    </tr>\n",
       "    <tr>\n",
       "      <th>std</th>\n",
       "      <td>76.124792</td>\n",
       "      <td>28.078791</td>\n",
       "      <td>4.359460e+01</td>\n",
       "      <td>2564.902866</td>\n",
       "      <td>8.857004e+06</td>\n",
       "      <td>157.087721</td>\n",
       "      <td>2.670231e-01</td>\n",
       "    </tr>\n",
       "    <tr>\n",
       "      <th>min</th>\n",
       "      <td>4.000000</td>\n",
       "      <td>0.003176</td>\n",
       "      <td>-4.853787e+02</td>\n",
       "      <td>0.666710</td>\n",
       "      <td>3.498642e-01</td>\n",
       "      <td>5.003195</td>\n",
       "      <td>7.762397e-23</td>\n",
       "    </tr>\n",
       "    <tr>\n",
       "      <th>25%</th>\n",
       "      <td>14.000000</td>\n",
       "      <td>3.294005</td>\n",
       "      <td>-1.322098e-01</td>\n",
       "      <td>2.684700</td>\n",
       "      <td>1.240380e+00</td>\n",
       "      <td>6.972381</td>\n",
       "      <td>9.308827e-03</td>\n",
       "    </tr>\n",
       "    <tr>\n",
       "      <th>50%</th>\n",
       "      <td>30.000000</td>\n",
       "      <td>8.830573</td>\n",
       "      <td>-1.110223e-16</td>\n",
       "      <td>4.015005</td>\n",
       "      <td>2.221912e+00</td>\n",
       "      <td>10.540259</td>\n",
       "      <td>6.484606e-02</td>\n",
       "    </tr>\n",
       "    <tr>\n",
       "      <th>75%</th>\n",
       "      <td>60.000000</td>\n",
       "      <td>18.311180</td>\n",
       "      <td>2.498002e-16</td>\n",
       "      <td>11.644566</td>\n",
       "      <td>6.684697e+00</td>\n",
       "      <td>32.439782</td>\n",
       "      <td>2.476015e-01</td>\n",
       "    </tr>\n",
       "    <tr>\n",
       "      <th>max</th>\n",
       "      <td>768.000000</td>\n",
       "      <td>307.604864</td>\n",
       "      <td>5.132076e+02</td>\n",
       "      <td>31233.301918</td>\n",
       "      <td>1.441562e+08</td>\n",
       "      <td>570.740060</td>\n",
       "      <td>1.000000e+00</td>\n",
       "    </tr>\n",
       "  </tbody>\n",
       "</table>\n",
       "</div>"
      ],
      "text/plain": [
       "             n_RV       Ps_RV      wmean_RV       wrms_RV  maxSNR_PG_RV  \\\n",
       "count  387.000000  387.000000  3.870000e+02    387.000000  3.870000e+02   \n",
       "mean    51.979328   15.805441 -1.651589e+00    361.871528  8.249183e+05   \n",
       "std     76.124792   28.078791  4.359460e+01   2564.902866  8.857004e+06   \n",
       "min      4.000000    0.003176 -4.853787e+02      0.666710  3.498642e-01   \n",
       "25%     14.000000    3.294005 -1.322098e-01      2.684700  1.240380e+00   \n",
       "50%     30.000000    8.830573 -1.110223e-16      4.015005  2.221912e+00   \n",
       "75%     60.000000   18.311180  2.498002e-16     11.644566  6.684697e+00   \n",
       "max    768.000000  307.604864  5.132076e+02  31233.301918  1.441562e+08   \n",
       "\n",
       "         Pm_PG_RV     FAP_PG_RV  \n",
       "count  387.000000  3.870000e+02  \n",
       "mean    80.568248  1.891508e-01  \n",
       "std    157.087721  2.670231e-01  \n",
       "min      5.003195  7.762397e-23  \n",
       "25%      6.972381  9.308827e-03  \n",
       "50%     10.540259  6.484606e-02  \n",
       "75%     32.439782  2.476015e-01  \n",
       "max    570.740060  1.000000e+00  "
      ]
     },
     "execution_count": 20,
     "metadata": {},
     "output_type": "execute_result"
    }
   ],
   "source": [
    "gto[['n_RV', 'Ps_RV', 'wmean_RV', 'wrms_RV', 'maxSNR_PG_RV', 'Pm_PG_RV', 'FAP_PG_RV']].describe()"
   ]
  },
  {
   "cell_type": "code",
   "execution_count": 21,
   "id": "2d264a0e",
   "metadata": {
    "ExecuteTime": {
     "end_time": "2022-11-14T08:28:38.235864Z",
     "start_time": "2022-11-14T08:28:38.211927Z"
    }
   },
   "outputs": [
    {
     "data": {
      "text/html": [
       "<div>\n",
       "<style scoped>\n",
       "    .dataframe tbody tr th:only-of-type {\n",
       "        vertical-align: middle;\n",
       "    }\n",
       "\n",
       "    .dataframe tbody tr th {\n",
       "        vertical-align: top;\n",
       "    }\n",
       "\n",
       "    .dataframe thead th {\n",
       "        text-align: right;\n",
       "    }\n",
       "</style>\n",
       "<table border=\"1\" class=\"dataframe\">\n",
       "  <thead>\n",
       "    <tr style=\"text-align: right;\">\n",
       "      <th></th>\n",
       "      <th>n_RV</th>\n",
       "      <th>Ps_RV</th>\n",
       "    </tr>\n",
       "  </thead>\n",
       "  <tbody>\n",
       "    <tr>\n",
       "      <th>count</th>\n",
       "      <td>387.000000</td>\n",
       "      <td>387.000000</td>\n",
       "    </tr>\n",
       "    <tr>\n",
       "      <th>mean</th>\n",
       "      <td>51.979328</td>\n",
       "      <td>15.805441</td>\n",
       "    </tr>\n",
       "    <tr>\n",
       "      <th>std</th>\n",
       "      <td>76.124792</td>\n",
       "      <td>28.078791</td>\n",
       "    </tr>\n",
       "    <tr>\n",
       "      <th>min</th>\n",
       "      <td>4.000000</td>\n",
       "      <td>0.003176</td>\n",
       "    </tr>\n",
       "    <tr>\n",
       "      <th>25%</th>\n",
       "      <td>14.000000</td>\n",
       "      <td>3.294005</td>\n",
       "    </tr>\n",
       "    <tr>\n",
       "      <th>50%</th>\n",
       "      <td>30.000000</td>\n",
       "      <td>8.830573</td>\n",
       "    </tr>\n",
       "    <tr>\n",
       "      <th>75%</th>\n",
       "      <td>60.000000</td>\n",
       "      <td>18.311180</td>\n",
       "    </tr>\n",
       "    <tr>\n",
       "      <th>max</th>\n",
       "      <td>768.000000</td>\n",
       "      <td>307.604864</td>\n",
       "    </tr>\n",
       "  </tbody>\n",
       "</table>\n",
       "</div>"
      ],
      "text/plain": [
       "             n_RV       Ps_RV\n",
       "count  387.000000  387.000000\n",
       "mean    51.979328   15.805441\n",
       "std     76.124792   28.078791\n",
       "min      4.000000    0.003176\n",
       "25%     14.000000    3.294005\n",
       "50%     30.000000    8.830573\n",
       "75%     60.000000   18.311180\n",
       "max    768.000000  307.604864"
      ]
     },
     "execution_count": 21,
     "metadata": {},
     "output_type": "execute_result"
    }
   ],
   "source": [
    "gto[['n_RV', 'Ps_RV']].describe()"
   ]
  },
  {
   "cell_type": "code",
   "execution_count": 22,
   "id": "06c9ca1c",
   "metadata": {
    "ExecuteTime": {
     "end_time": "2022-11-14T08:28:38.623599Z",
     "start_time": "2022-11-14T08:28:38.595647Z"
    }
   },
   "outputs": [
    {
     "name": "stdout",
     "output_type": "stream",
     "text": [
      "\\begin{tabular}{lrr}\n",
      "\\toprule\n",
      "{} &  n\\_RV &  Ps\\_RV \\\\\n",
      "\\midrule\n",
      "count &   387 &    387 \\\\\n",
      "mean  &    52 &     16 \\\\\n",
      "std   &    76 &     28 \\\\\n",
      "min   &     4 &      0 \\\\\n",
      "25\\%   &    14 &      3 \\\\\n",
      "50\\%   &    30 &      9 \\\\\n",
      "75\\%   &    60 &     18 \\\\\n",
      "max   &   768 &    308 \\\\\n",
      "\\bottomrule\n",
      "\\end{tabular}\n",
      "\n"
     ]
    }
   ],
   "source": [
    "print(gto[['n_RV', 'Ps_RV']].describe().to_latex(float_format='%.0f'))"
   ]
  },
  {
   "cell_type": "markdown",
   "id": "74850119",
   "metadata": {},
   "source": [
    "### Histograms of values"
   ]
  },
  {
   "cell_type": "code",
   "execution_count": 23,
   "id": "4528714c",
   "metadata": {
    "ExecuteTime": {
     "end_time": "2022-11-14T08:28:46.495913Z",
     "start_time": "2022-11-14T08:28:46.485940Z"
    }
   },
   "outputs": [
    {
     "name": "stdout",
     "output_type": "stream",
     "text": [
      "['n_RV', 'Ps_RV', 'fs_RV', 'wmean_RV', 'wrms_RV', 'info_PG_RV', 'maxP_PG_RV', 'maxSNR_PG_RV', 'rms_PG_RV', 'f_PG_RV', 'e_f_PG_RV', 'Pd_PG_RV', 'e_Pd_PG_RV', 'Ph_PG_RV', 'e_Ph_PG_RV', 'Pm_PG_RV', 'e_Pm_PG_RV', 'A_PG_RV', 'e_A_PG_RV', 'ph_PG_RV', 'e_ph_PG_RV', 'T0_PG_RV', 'e_T0_PG_RV', 'offset_PG_RV', 'e_offset_PG_RV', 'FAP_PG_RV', 'valid_PG_RV', 'error_PG_RV', 'elapsed_time_PG_RV', 'fits_file_RV', 'fig_file_RV', 'WF_maxP_PG_RV', 'WF_maxSNR_PG_RV', 'WF_rms_PG_RV', 'WF_f_PG_RV', 'WF_e_f_PG_RV', 'WF_Pd_PG_RV', 'WF_e_Pd_PG_RV', 'WF_Ph_PG_RV', 'WF_e_Ph_PG_RV', 'WF_Pm_PG_RV', 'WF_e_Pm_PG_RV', 'WF_A_PG_RV', 'WF_e_A_PG_RV', 'WF_ph_PG_RV', 'WF_e_ph_PG_RV', 'WF_T0_PG_RV', 'WF_e_T0_PG_RV', 'WF_offset_PG_RV', 'WF_e_offset_PG_RV', 'WF_FAP_PG_RV', 'WF_valid_PG_RV', 'WF_error_PG_RV', 'WF_elapsed_time_PG_RV', 'WF_plain_file_RV', 'WF_fig_file_RV', 'PG_file_RV']\n"
     ]
    }
   ],
   "source": [
    "print([i for i in list(gto.columns) if '_RV' in i])"
   ]
  },
  {
   "cell_type": "markdown",
   "id": "c78aa5b9",
   "metadata": {},
   "source": [
    "#### Time span"
   ]
  },
  {
   "cell_type": "markdown",
   "id": "13bd4b96",
   "metadata": {},
   "source": [
    "We do have a look into the time span of each light curve, that is the time passed between the first and the last point. This could be of interest when it comes to periodogram analysis and the effect of the sampling windows.\n",
    "\n",
    "To calculate this, we need to reload the light curves:"
   ]
  },
  {
   "cell_type": "code",
   "execution_count": 24,
   "id": "d0bbcdac",
   "metadata": {
    "ExecuteTime": {
     "end_time": "2022-11-14T08:29:31.319108Z",
     "start_time": "2022-11-14T08:29:31.291183Z"
    }
   },
   "outputs": [
    {
     "data": {
      "text/html": [
       "<div>\n",
       "<style scoped>\n",
       "    .dataframe tbody tr th:only-of-type {\n",
       "        vertical-align: middle;\n",
       "    }\n",
       "\n",
       "    .dataframe tbody tr th {\n",
       "        vertical-align: top;\n",
       "    }\n",
       "\n",
       "    .dataframe thead th {\n",
       "        text-align: right;\n",
       "    }\n",
       "</style>\n",
       "<table border=\"1\" class=\"dataframe\">\n",
       "  <thead>\n",
       "    <tr style=\"text-align: right;\">\n",
       "      <th></th>\n",
       "      <th>time</th>\n",
       "      <th>rv</th>\n",
       "      <th>error_rv</th>\n",
       "    </tr>\n",
       "  </thead>\n",
       "  <tbody>\n",
       "    <tr>\n",
       "      <th>0</th>\n",
       "      <td>2.457588e+06</td>\n",
       "      <td>2982.942491</td>\n",
       "      <td>9.867199</td>\n",
       "    </tr>\n",
       "    <tr>\n",
       "      <th>1</th>\n",
       "      <td>2.457605e+06</td>\n",
       "      <td>2980.422523</td>\n",
       "      <td>3.162224</td>\n",
       "    </tr>\n",
       "    <tr>\n",
       "      <th>2</th>\n",
       "      <td>2.457623e+06</td>\n",
       "      <td>2936.334885</td>\n",
       "      <td>3.370392</td>\n",
       "    </tr>\n",
       "    <tr>\n",
       "      <th>3</th>\n",
       "      <td>2.457624e+06</td>\n",
       "      <td>2922.943507</td>\n",
       "      <td>3.006155</td>\n",
       "    </tr>\n",
       "    <tr>\n",
       "      <th>4</th>\n",
       "      <td>2.457655e+06</td>\n",
       "      <td>2724.275893</td>\n",
       "      <td>1.850782</td>\n",
       "    </tr>\n",
       "  </tbody>\n",
       "</table>\n",
       "</div>"
      ],
      "text/plain": [
       "           time           rv  error_rv\n",
       "0  2.457588e+06  2982.942491  9.867199\n",
       "1  2.457605e+06  2980.422523  3.162224\n",
       "2  2.457623e+06  2936.334885  3.370392\n",
       "3  2.457624e+06  2922.943507  3.006155\n",
       "4  2.457655e+06  2724.275893  1.850782"
      ]
     },
     "execution_count": 24,
     "metadata": {},
     "output_type": "execute_result"
    }
   ],
   "source": [
    "rv = pd.read_csv(gto.loc[0, 'rv_file'], sep=' ' ,decimal='.', names=['time', 'rv', 'error_rv'])\n",
    "rv.head()"
   ]
  },
  {
   "cell_type": "code",
   "execution_count": 25,
   "id": "15d78db2",
   "metadata": {
    "ExecuteTime": {
     "end_time": "2022-11-14T08:30:06.464896Z",
     "start_time": "2022-11-14T08:30:04.332053Z"
    }
   },
   "outputs": [
    {
     "data": {
      "text/html": [
       "<div>\n",
       "<style scoped>\n",
       "    .dataframe tbody tr th:only-of-type {\n",
       "        vertical-align: middle;\n",
       "    }\n",
       "\n",
       "    .dataframe tbody tr th {\n",
       "        vertical-align: top;\n",
       "    }\n",
       "\n",
       "    .dataframe thead th {\n",
       "        text-align: right;\n",
       "    }\n",
       "</style>\n",
       "<table border=\"1\" class=\"dataframe\">\n",
       "  <thead>\n",
       "    <tr style=\"text-align: right;\">\n",
       "      <th></th>\n",
       "      <th>Karmn</th>\n",
       "      <th>Name</th>\n",
       "      <th>Comp</th>\n",
       "      <th>GJ</th>\n",
       "      <th>RA_J2016_deg</th>\n",
       "      <th>DE_J2016_deg</th>\n",
       "      <th>RA_J2000</th>\n",
       "      <th>DE_J2000</th>\n",
       "      <th>l_J2016_deg</th>\n",
       "      <th>b_J2016_deg</th>\n",
       "      <th>...</th>\n",
       "      <th>WF_e_offset_PG_TESS</th>\n",
       "      <th>WF_FAP_PG_TESS</th>\n",
       "      <th>WF_valid_PG_TESS</th>\n",
       "      <th>WF_error_PG_TESS</th>\n",
       "      <th>WF_elapsed_time_PG_TESS</th>\n",
       "      <th>WF_plain_file_TESS</th>\n",
       "      <th>WF_fig_file_TESS</th>\n",
       "      <th>PG_file_RV</th>\n",
       "      <th>PG_file_TESS</th>\n",
       "      <th>Tobs_RV</th>\n",
       "    </tr>\n",
       "  </thead>\n",
       "  <tbody>\n",
       "    <tr>\n",
       "      <th>0</th>\n",
       "      <td>J23585+076</td>\n",
       "      <td>Wolf 1051</td>\n",
       "      <td>AB</td>\n",
       "      <td>4383</td>\n",
       "      <td>359.636420</td>\n",
       "      <td>7.656947</td>\n",
       "      <td>23:58:32.65</td>\n",
       "      <td>+07:39:30.1</td>\n",
       "      <td>100.839686</td>\n",
       "      <td>-52.931049</td>\n",
       "      <td>...</td>\n",
       "      <td>NaN</td>\n",
       "      <td>NaN</td>\n",
       "      <td>0.0</td>\n",
       "      <td>Not recognized as a supported data product:\\nn...</td>\n",
       "      <td>0.000997</td>\n",
       "      <td>NaN</td>\n",
       "      <td>NaN</td>\n",
       "      <td>../data/CARM_VIS_RVs_PGs/J23585+076_RV_PG.dat</td>\n",
       "      <td>NaN</td>\n",
       "      <td>1942.716622</td>\n",
       "    </tr>\n",
       "    <tr>\n",
       "      <th>1</th>\n",
       "      <td>J23556-061</td>\n",
       "      <td>GJ 912</td>\n",
       "      <td>AB</td>\n",
       "      <td>912</td>\n",
       "      <td>358.913617</td>\n",
       "      <td>-6.144283</td>\n",
       "      <td>23:55:39.78</td>\n",
       "      <td>-06:08:33.4</td>\n",
       "      <td>88.129933</td>\n",
       "      <td>-65.175491</td>\n",
       "      <td>...</td>\n",
       "      <td>NaN</td>\n",
       "      <td>NaN</td>\n",
       "      <td>0.0</td>\n",
       "      <td>Not recognized as a supported data product:\\nn...</td>\n",
       "      <td>0.000998</td>\n",
       "      <td>NaN</td>\n",
       "      <td>NaN</td>\n",
       "      <td>../data/CARM_VIS_RVs_PGs/J23556-061_RV_PG.dat</td>\n",
       "      <td>NaN</td>\n",
       "      <td>1970.616388</td>\n",
       "    </tr>\n",
       "    <tr>\n",
       "      <th>2</th>\n",
       "      <td>J23548+385</td>\n",
       "      <td>RX J2354.8+3831</td>\n",
       "      <td>-</td>\n",
       "      <td>NaN</td>\n",
       "      <td>358.713658</td>\n",
       "      <td>38.526340</td>\n",
       "      <td>23:54:51.46</td>\n",
       "      <td>+38:31:36.2</td>\n",
       "      <td>110.941908</td>\n",
       "      <td>-23.024449</td>\n",
       "      <td>...</td>\n",
       "      <td>2.151008e-06</td>\n",
       "      <td>1.0</td>\n",
       "      <td>1.0</td>\n",
       "      <td>NaN</td>\n",
       "      <td>94.758838</td>\n",
       "      <td>../data/CARM_VIS_TESS_WinFunc_PGs/WF_J23548+38...</td>\n",
       "      <td>../data/CARM_VIS_TESS_WinFunc_PGs/figures/WF_J...</td>\n",
       "      <td>../data/CARM_VIS_RVs_PGs/J23548+385_RV_PG.dat</td>\n",
       "      <td>../data/CARM_VIS_TESS_PGs/J23548+385_RV_PG.dat</td>\n",
       "      <td>169.695378</td>\n",
       "    </tr>\n",
       "    <tr>\n",
       "      <th>3</th>\n",
       "      <td>J23505-095</td>\n",
       "      <td>LP 763-012</td>\n",
       "      <td>-</td>\n",
       "      <td>4367</td>\n",
       "      <td>357.634705</td>\n",
       "      <td>-9.560964</td>\n",
       "      <td>23:50:31.64</td>\n",
       "      <td>-09:33:32.7</td>\n",
       "      <td>80.777067</td>\n",
       "      <td>-67.303426</td>\n",
       "      <td>...</td>\n",
       "      <td>9.022946e-07</td>\n",
       "      <td>1.0</td>\n",
       "      <td>1.0</td>\n",
       "      <td>NaN</td>\n",
       "      <td>132.607176</td>\n",
       "      <td>../data/CARM_VIS_TESS_WinFunc_PGs/WF_J23505-09...</td>\n",
       "      <td>../data/CARM_VIS_TESS_WinFunc_PGs/figures/WF_J...</td>\n",
       "      <td>../data/CARM_VIS_RVs_PGs/J23505-095_RV_PG.dat</td>\n",
       "      <td>../data/CARM_VIS_TESS_PGs/J23505-095_RV_PG.dat</td>\n",
       "      <td>1581.691279</td>\n",
       "    </tr>\n",
       "    <tr>\n",
       "      <th>4</th>\n",
       "      <td>J23492+024</td>\n",
       "      <td>BR Psc</td>\n",
       "      <td>-</td>\n",
       "      <td>908</td>\n",
       "      <td>357.306604</td>\n",
       "      <td>2.396918</td>\n",
       "      <td>23:49:12.53</td>\n",
       "      <td>+02:24:04.4</td>\n",
       "      <td>93.567467</td>\n",
       "      <td>-56.885396</td>\n",
       "      <td>...</td>\n",
       "      <td>NaN</td>\n",
       "      <td>NaN</td>\n",
       "      <td>0.0</td>\n",
       "      <td>Not recognized as a supported data product:\\nn...</td>\n",
       "      <td>0.001995</td>\n",
       "      <td>NaN</td>\n",
       "      <td>NaN</td>\n",
       "      <td>../data/CARM_VIS_RVs_PGs/J23492+024_RV_PG.dat</td>\n",
       "      <td>NaN</td>\n",
       "      <td>2227.995675</td>\n",
       "    </tr>\n",
       "  </tbody>\n",
       "</table>\n",
       "<p>5 rows × 301 columns</p>\n",
       "</div>"
      ],
      "text/plain": [
       "        Karmn             Name Comp    GJ  RA_J2016_deg  DE_J2016_deg  \\\n",
       "0  J23585+076        Wolf 1051   AB  4383    359.636420      7.656947   \n",
       "1  J23556-061           GJ 912   AB   912    358.913617     -6.144283   \n",
       "2  J23548+385  RX J2354.8+3831    -   NaN    358.713658     38.526340   \n",
       "3  J23505-095       LP 763-012    -  4367    357.634705     -9.560964   \n",
       "4  J23492+024           BR Psc    -   908    357.306604      2.396918   \n",
       "\n",
       "      RA_J2000     DE_J2000  l_J2016_deg  b_J2016_deg  ...  \\\n",
       "0  23:58:32.65  +07:39:30.1   100.839686   -52.931049  ...   \n",
       "1  23:55:39.78  -06:08:33.4    88.129933   -65.175491  ...   \n",
       "2  23:54:51.46  +38:31:36.2   110.941908   -23.024449  ...   \n",
       "3  23:50:31.64  -09:33:32.7    80.777067   -67.303426  ...   \n",
       "4  23:49:12.53  +02:24:04.4    93.567467   -56.885396  ...   \n",
       "\n",
       "  WF_e_offset_PG_TESS WF_FAP_PG_TESS  WF_valid_PG_TESS  \\\n",
       "0                 NaN            NaN               0.0   \n",
       "1                 NaN            NaN               0.0   \n",
       "2        2.151008e-06            1.0               1.0   \n",
       "3        9.022946e-07            1.0               1.0   \n",
       "4                 NaN            NaN               0.0   \n",
       "\n",
       "                                    WF_error_PG_TESS  WF_elapsed_time_PG_TESS  \\\n",
       "0  Not recognized as a supported data product:\\nn...                 0.000997   \n",
       "1  Not recognized as a supported data product:\\nn...                 0.000998   \n",
       "2                                                NaN                94.758838   \n",
       "3                                                NaN               132.607176   \n",
       "4  Not recognized as a supported data product:\\nn...                 0.001995   \n",
       "\n",
       "                                  WF_plain_file_TESS  \\\n",
       "0                                                NaN   \n",
       "1                                                NaN   \n",
       "2  ../data/CARM_VIS_TESS_WinFunc_PGs/WF_J23548+38...   \n",
       "3  ../data/CARM_VIS_TESS_WinFunc_PGs/WF_J23505-09...   \n",
       "4                                                NaN   \n",
       "\n",
       "                                    WF_fig_file_TESS  \\\n",
       "0                                                NaN   \n",
       "1                                                NaN   \n",
       "2  ../data/CARM_VIS_TESS_WinFunc_PGs/figures/WF_J...   \n",
       "3  ../data/CARM_VIS_TESS_WinFunc_PGs/figures/WF_J...   \n",
       "4                                                NaN   \n",
       "\n",
       "                                      PG_file_RV  \\\n",
       "0  ../data/CARM_VIS_RVs_PGs/J23585+076_RV_PG.dat   \n",
       "1  ../data/CARM_VIS_RVs_PGs/J23556-061_RV_PG.dat   \n",
       "2  ../data/CARM_VIS_RVs_PGs/J23548+385_RV_PG.dat   \n",
       "3  ../data/CARM_VIS_RVs_PGs/J23505-095_RV_PG.dat   \n",
       "4  ../data/CARM_VIS_RVs_PGs/J23492+024_RV_PG.dat   \n",
       "\n",
       "                                     PG_file_TESS      Tobs_RV  \n",
       "0                                             NaN  1942.716622  \n",
       "1                                             NaN  1970.616388  \n",
       "2  ../data/CARM_VIS_TESS_PGs/J23548+385_RV_PG.dat   169.695378  \n",
       "3  ../data/CARM_VIS_TESS_PGs/J23505-095_RV_PG.dat  1581.691279  \n",
       "4                                             NaN  2227.995675  \n",
       "\n",
       "[5 rows x 301 columns]"
      ]
     },
     "execution_count": 25,
     "metadata": {},
     "output_type": "execute_result"
    }
   ],
   "source": [
    "gto['Tobs_RV'] = 0.0\n",
    "#for i in range(0,5): # TEST\n",
    "for i in range(0,len(gto)): # TEST\n",
    "    rv = pd.read_csv(gto.loc[i, 'rv_file'], sep=' ', decimal='.', names=['time', 'rv', 'error_rv'])\n",
    "    t_obs = rv['time'].max() - rv['time'].min()\n",
    "    gto.loc[i, 'Tobs_RV'] = t_obs\n",
    "\n",
    "gto.head()"
   ]
  },
  {
   "cell_type": "markdown",
   "id": "76d17fff",
   "metadata": {},
   "source": [
    "We now draw the time span histogram:"
   ]
  },
  {
   "cell_type": "code",
   "execution_count": 26,
   "id": "8df4a154",
   "metadata": {
    "ExecuteTime": {
     "end_time": "2022-11-14T08:30:32.439720Z",
     "start_time": "2022-11-14T08:30:31.889092Z"
    }
   },
   "outputs": [
    {
     "name": "stderr",
     "output_type": "stream",
     "text": [
      "C:\\Users\\ciroe\\anaconda3\\lib\\site-packages\\seaborn\\distributions.py:2557: FutureWarning: `distplot` is a deprecated function and will be removed in a future version. Please adapt your code to use either `displot` (a figure-level function with similar flexibility) or `histplot` (an axes-level function for histograms).\n",
      "  warnings.warn(msg, FutureWarning)\n"
     ]
    },
    {
     "name": "stdout",
     "output_type": "stream",
     "text": [
      "count     387.000000\n",
      "mean     1190.687355\n",
      "std       637.707392\n",
      "min         7.013681\n",
      "25%       642.622524\n",
      "50%      1289.601015\n",
      "75%      1644.131213\n",
      "max      2290.828116\n",
      "Name: Tobs_RV, dtype: float64\n",
      "p = nan\n",
      "This distribution MIGHT come from Gaussian distribution(with significance level = 0.999000)\n"
     ]
    },
    {
     "data": {
      "image/png": "[encoded data removed]",
      "text/plain": [
       "<Figure size 720x504 with 1 Axes>"
      ]
     },
     "metadata": {},
     "output_type": "display_data"
    }
   ],
   "source": [
    "draw_hist(d1=gto['Tobs_RV'], d1_label=\"Tobs_RV [$d$]\",\n",
    "          fig_filename=IMAGE_FOLDER + \"Analysis_08_01_CARM_VIS_RV_Tobs_Histogram.png\")"
   ]
  },
  {
   "cell_type": "markdown",
   "id": "329dfb3a",
   "metadata": {},
   "source": [
    "#### Number of points (RV)"
   ]
  },
  {
   "cell_type": "code",
   "execution_count": 27,
   "id": "85f3f20f",
   "metadata": {
    "ExecuteTime": {
     "end_time": "2022-11-14T08:31:18.703364Z",
     "start_time": "2022-11-14T08:31:18.442195Z"
    }
   },
   "outputs": [
    {
     "name": "stderr",
     "output_type": "stream",
     "text": [
      "C:\\Users\\ciroe\\anaconda3\\lib\\site-packages\\seaborn\\distributions.py:2557: FutureWarning: `distplot` is a deprecated function and will be removed in a future version. Please adapt your code to use either `displot` (a figure-level function with similar flexibility) or `histplot` (an axes-level function for histograms).\n",
      "  warnings.warn(msg, FutureWarning)\n"
     ]
    },
    {
     "name": "stdout",
     "output_type": "stream",
     "text": [
      "count    387.000000\n",
      "mean      51.979328\n",
      "std       76.124792\n",
      "min        4.000000\n",
      "25%       14.000000\n",
      "50%       30.000000\n",
      "75%       60.000000\n",
      "max      768.000000\n",
      "Name: n_RV, dtype: float64\n",
      "p = nan\n",
      "This distribution MIGHT come from Gaussian distribution(with significance level = 0.999000)\n"
     ]
    },
    {
     "data": {
      "image/png": "[encoded data removed]",
      "text/plain": [
       "<Figure size 720x504 with 1 Axes>"
      ]
     },
     "metadata": {},
     "output_type": "display_data"
    }
   ],
   "source": [
    "draw_hist(d1=gto['n_RV'], d1_label=\"NumPoints_RV\",\n",
    "          fig_filename=IMAGE_FOLDER + \"Analysis_08_02_CARM_VIS_RV_NumPoints_Histogram.png\")"
   ]
  },
  {
   "cell_type": "markdown",
   "id": "22c93170",
   "metadata": {},
   "source": [
    "#### Estimated missing time points in time span"
   ]
  },
  {
   "cell_type": "code",
   "execution_count": 28,
   "id": "ed30b306",
   "metadata": {
    "ExecuteTime": {
     "end_time": "2022-11-14T08:31:41.500536Z",
     "start_time": "2022-11-14T08:31:41.483582Z"
    }
   },
   "outputs": [],
   "source": [
    "##### PENDING --- "
   ]
  },
  {
   "cell_type": "code",
   "execution_count": null,
   "id": "dd71edec",
   "metadata": {},
   "outputs": [],
   "source": []
  },
  {
   "cell_type": "markdown",
   "id": "7eaaab95",
   "metadata": {},
   "source": [
    "#### Estimated gaps duration in time span"
   ]
  },
  {
   "cell_type": "code",
   "execution_count": 29,
   "id": "e4b785c3",
   "metadata": {
    "ExecuteTime": {
     "end_time": "2022-11-14T08:31:42.276565Z",
     "start_time": "2022-11-14T08:31:42.267588Z"
    }
   },
   "outputs": [],
   "source": [
    "##### PENDING --- "
   ]
  },
  {
   "cell_type": "code",
   "execution_count": null,
   "id": "df5a7a11",
   "metadata": {},
   "outputs": [],
   "source": []
  },
  {
   "cell_type": "markdown",
   "id": "1fbc8aad",
   "metadata": {},
   "source": [
    "#### Sampling frequency in $d^{-1}$ (RV)"
   ]
  },
  {
   "cell_type": "code",
   "execution_count": 30,
   "id": "671daf0a",
   "metadata": {
    "ExecuteTime": {
     "end_time": "2022-11-14T08:31:43.774045Z",
     "start_time": "2022-11-14T08:31:43.443491Z"
    },
    "scrolled": false
   },
   "outputs": [
    {
     "name": "stderr",
     "output_type": "stream",
     "text": [
      "C:\\Users\\ciroe\\anaconda3\\lib\\site-packages\\seaborn\\distributions.py:2557: FutureWarning: `distplot` is a deprecated function and will be removed in a future version. Please adapt your code to use either `displot` (a figure-level function with similar flexibility) or `histplot` (an axes-level function for histograms).\n",
      "  warnings.warn(msg, FutureWarning)\n"
     ]
    },
    {
     "name": "stdout",
     "output_type": "stream",
     "text": [
      "count    387.000000\n",
      "mean       1.431340\n",
      "std       17.256361\n",
      "min        0.003251\n",
      "25%        0.054617\n",
      "50%        0.113243\n",
      "75%        0.304807\n",
      "max      314.907497\n",
      "Name: fs_RV, dtype: float64\n",
      "p = nan\n",
      "This distribution MIGHT come from Gaussian distribution(with significance level = 0.999000)\n"
     ]
    },
    {
     "data": {
      "image/png": "[encoded data removed]",
      "text/plain": [
       "<Figure size 720x504 with 1 Axes>"
      ]
     },
     "metadata": {},
     "output_type": "display_data"
    }
   ],
   "source": [
    "draw_hist(d1=gto['fs_RV'], d1_label=\"SamplingFreq_RV [$d^{-1}$]\",\n",
    "          fig_filename=IMAGE_FOLDER + \"Analysis_08_05_CARM_VIS_RV_SamplingFreq_Histogram.png\")"
   ]
  },
  {
   "cell_type": "markdown",
   "id": "bff5871e",
   "metadata": {},
   "source": [
    "#### Sampling period in $d$ (RV)"
   ]
  },
  {
   "cell_type": "code",
   "execution_count": 69,
   "id": "558632e5",
   "metadata": {
    "ExecuteTime": {
     "end_time": "2022-06-19T16:19:40.854499Z",
     "start_time": "2022-06-19T16:19:40.522266Z"
    }
   },
   "outputs": [
    {
     "name": "stderr",
     "output_type": "stream",
     "text": [
      "C:\\Users\\ciroe\\anaconda3\\lib\\site-packages\\seaborn\\distributions.py:2557: FutureWarning: `distplot` is a deprecated function and will be removed in a future version. Please adapt your code to use either `displot` (a figure-level function with similar flexibility) or `histplot` (an axes-level function for histograms).\n",
      "  warnings.warn(msg, FutureWarning)\n"
     ]
    },
    {
     "name": "stdout",
     "output_type": "stream",
     "text": [
      "count    387.000000\n",
      "mean      15.805441\n",
      "std       28.078791\n",
      "min        0.003176\n",
      "25%        3.294005\n",
      "50%        8.830573\n",
      "75%       18.311180\n",
      "max      307.604864\n",
      "Name: Ps_RV, dtype: float64\n",
      "p = nan\n",
      "This distribution MIGHT come from Gaussian distribution(with significance level = 0.999000)\n"
     ]
    },
    {
     "data": {
      "image/png": "[encoded data removed]",
      "text/plain": [
       "<Figure size 720x504 with 1 Axes>"
      ]
     },
     "metadata": {},
     "output_type": "display_data"
    }
   ],
   "source": [
    "draw_hist(d1=gto['Ps_RV'], d1_label=\"Sampling period [$d$]\",\n",
    "          fig_filename=IMAGE_FOLDER + \"Analysis_08_05B_CARM_VIS_RV_SamplingPeriod_Histogram.png\")"
   ]
  },
  {
   "cell_type": "markdown",
   "id": "4ad210a7",
   "metadata": {},
   "source": [
    "#### SNR (PG)"
   ]
  },
  {
   "cell_type": "code",
   "execution_count": 31,
   "id": "0f054cc7",
   "metadata": {
    "ExecuteTime": {
     "end_time": "2022-11-14T08:33:03.842002Z",
     "start_time": "2022-11-14T08:33:03.528841Z"
    }
   },
   "outputs": [
    {
     "name": "stderr",
     "output_type": "stream",
     "text": [
      "C:\\Users\\ciroe\\anaconda3\\lib\\site-packages\\seaborn\\distributions.py:2557: FutureWarning: `distplot` is a deprecated function and will be removed in a future version. Please adapt your code to use either `displot` (a figure-level function with similar flexibility) or `histplot` (an axes-level function for histograms).\n",
      "  warnings.warn(msg, FutureWarning)\n"
     ]
    },
    {
     "name": "stdout",
     "output_type": "stream",
     "text": [
      "count    3.870000e+02\n",
      "mean     8.249183e+05\n",
      "std      8.857004e+06\n",
      "min      3.498642e-01\n",
      "25%      1.240380e+00\n",
      "50%      2.221912e+00\n",
      "75%      6.684697e+00\n",
      "max      1.441562e+08\n",
      "Name: maxSNR_PG_RV, dtype: float64\n",
      "p = nan\n",
      "This distribution MIGHT come from Gaussian distribution(with significance level = 0.999000)\n"
     ]
    },
    {
     "data": {
      "image/png": "[encoded data removed]",
      "text/plain": [
       "<Figure size 720x504 with 1 Axes>"
      ]
     },
     "metadata": {},
     "output_type": "display_data"
    }
   ],
   "source": [
    "draw_hist(d1=gto['maxSNR_PG_RV'], d1_label=\"maxPeakSNR_RV\",\n",
    "          fig_filename=IMAGE_FOLDER + \"Analysis_08_06_CARM_VIS_RV_maxPeakSNR_Histogram.png\")"
   ]
  },
  {
   "cell_type": "markdown",
   "id": "d0d499fc",
   "metadata": {},
   "source": [
    "#### Detected period in minutes (PG)"
   ]
  },
  {
   "cell_type": "code",
   "execution_count": 32,
   "id": "9bcb5b16",
   "metadata": {
    "ExecuteTime": {
     "end_time": "2022-11-14T08:33:06.819737Z",
     "start_time": "2022-11-14T08:33:06.574413Z"
    }
   },
   "outputs": [
    {
     "name": "stderr",
     "output_type": "stream",
     "text": [
      "C:\\Users\\ciroe\\anaconda3\\lib\\site-packages\\seaborn\\distributions.py:2557: FutureWarning: `distplot` is a deprecated function and will be removed in a future version. Please adapt your code to use either `displot` (a figure-level function with similar flexibility) or `histplot` (an axes-level function for histograms).\n",
      "  warnings.warn(msg, FutureWarning)\n"
     ]
    },
    {
     "name": "stdout",
     "output_type": "stream",
     "text": [
      "count    387.000000\n",
      "mean      80.568248\n",
      "std      157.087721\n",
      "min        5.003195\n",
      "25%        6.972381\n",
      "50%       10.540259\n",
      "75%       32.439782\n",
      "max      570.740060\n",
      "Name: Pm_PG_RV, dtype: float64\n",
      "p = nan\n",
      "This distribution MIGHT come from Gaussian distribution(with significance level = 0.999000)\n"
     ]
    },
    {
     "data": {
      "image/png": "[encoded data removed]",
      "text/plain": [
       "<Figure size 720x504 with 1 Axes>"
      ]
     },
     "metadata": {},
     "output_type": "display_data"
    }
   ],
   "source": [
    "draw_hist(d1=gto['Pm_PG_RV'], d1_label=\"Detected period [min]\",\n",
    "          fig_filename=IMAGE_FOLDER + \"Analysis_08_07_CARM_VIS_RV_DetectedPeriod_min_Histogram.png\")"
   ]
  },
  {
   "cell_type": "markdown",
   "id": "5c39d65b",
   "metadata": {},
   "source": [
    "#### Detected amplitudes (PG)"
   ]
  },
  {
   "cell_type": "code",
   "execution_count": 33,
   "id": "e6088675",
   "metadata": {
    "ExecuteTime": {
     "end_time": "2022-11-14T08:33:15.827150Z",
     "start_time": "2022-11-14T08:33:15.498502Z"
    },
    "scrolled": false
   },
   "outputs": [
    {
     "name": "stderr",
     "output_type": "stream",
     "text": [
      "C:\\Users\\ciroe\\anaconda3\\lib\\site-packages\\seaborn\\distributions.py:2557: FutureWarning: `distplot` is a deprecated function and will be removed in a future version. Please adapt your code to use either `displot` (a figure-level function with similar flexibility) or `histplot` (an axes-level function for histograms).\n",
      "  warnings.warn(msg, FutureWarning)\n"
     ]
    },
    {
     "name": "stdout",
     "output_type": "stream",
     "text": [
      "count      387.000000\n",
      "mean       516.940086\n",
      "std       3492.533282\n",
      "min          0.788573\n",
      "25%          3.110067\n",
      "50%          5.068001\n",
      "75%         16.444242\n",
      "max      36713.719151\n",
      "Name: A_PG_RV, dtype: float64\n",
      "p = nan\n",
      "This distribution MIGHT come from Gaussian distribution(with significance level = 0.999000)\n"
     ]
    },
    {
     "data": {
      "image/png": "[encoded data removed]",
      "text/plain": [
       "<Figure size 720x504 with 1 Axes>"
      ]
     },
     "metadata": {},
     "output_type": "display_data"
    }
   ],
   "source": [
    "draw_hist(d1=gto['A_PG_RV'], d1_label=\"Detected amplitudes [$ms^{-1}$]\",\n",
    "          fig_filename=IMAGE_FOLDER + \"Analysis_08_08_CARM_VIS_RV_DetectedAmplitudes_Histogram.png\")"
   ]
  },
  {
   "cell_type": "markdown",
   "id": "247f2763",
   "metadata": {},
   "source": [
    "#### RMS of the RV time series"
   ]
  },
  {
   "cell_type": "code",
   "execution_count": 34,
   "id": "4de1e341",
   "metadata": {
    "ExecuteTime": {
     "end_time": "2022-11-14T08:33:20.936215Z",
     "start_time": "2022-11-14T08:33:20.593134Z"
    }
   },
   "outputs": [
    {
     "name": "stderr",
     "output_type": "stream",
     "text": [
      "C:\\Users\\ciroe\\anaconda3\\lib\\site-packages\\seaborn\\distributions.py:2557: FutureWarning: `distplot` is a deprecated function and will be removed in a future version. Please adapt your code to use either `displot` (a figure-level function with similar flexibility) or `histplot` (an axes-level function for histograms).\n",
      "  warnings.warn(msg, FutureWarning)\n"
     ]
    },
    {
     "name": "stdout",
     "output_type": "stream",
     "text": [
      "count      387.000000\n",
      "mean       361.871528\n",
      "std       2564.902866\n",
      "min          0.666710\n",
      "25%          2.684700\n",
      "50%          4.015005\n",
      "75%         11.644566\n",
      "max      31233.301918\n",
      "Name: wrms_RV, dtype: float64\n",
      "p = nan\n",
      "This distribution MIGHT come from Gaussian distribution(with significance level = 0.999000)\n"
     ]
    },
    {
     "data": {
      "image/png": "[encoded data removed]",
      "text/plain": [
       "<Figure size 720x504 with 1 Axes>"
      ]
     },
     "metadata": {},
     "output_type": "display_data"
    }
   ],
   "source": [
    "draw_hist(d1=gto['wrms_RV'], d1_label=\"RMS [$ms^{-1}$]\",\n",
    "          fig_filename=IMAGE_FOLDER + \"Analysis_08_09_CARM_VIS_RV_RMS_Histogram.png\")"
   ]
  },
  {
   "cell_type": "markdown",
   "id": "87e3304f",
   "metadata": {},
   "source": [
    "Some RMS values seem unreasonably high. If we remove those below 500 $ms^{-1}$, we get: "
   ]
  },
  {
   "cell_type": "code",
   "execution_count": 35,
   "id": "fea55247",
   "metadata": {
    "ExecuteTime": {
     "end_time": "2022-11-14T08:33:33.275089Z",
     "start_time": "2022-11-14T08:33:32.984276Z"
    }
   },
   "outputs": [
    {
     "name": "stderr",
     "output_type": "stream",
     "text": [
      "C:\\Users\\ciroe\\anaconda3\\lib\\site-packages\\seaborn\\distributions.py:2557: FutureWarning: `distplot` is a deprecated function and will be removed in a future version. Please adapt your code to use either `displot` (a figure-level function with similar flexibility) or `histplot` (an axes-level function for histograms).\n",
      "  warnings.warn(msg, FutureWarning)\n"
     ]
    },
    {
     "name": "stdout",
     "output_type": "stream",
     "text": [
      "count    371.000000\n",
      "mean      26.148352\n",
      "std       65.012430\n",
      "min        0.666710\n",
      "25%        2.651969\n",
      "50%        3.885563\n",
      "75%        9.223283\n",
      "max      431.297701\n",
      "Name: wrms_RV, dtype: float64\n",
      "p = 6.97489e-71\n",
      "***This distribution does NOT come from a Gaussian distribution(with significance level = 0.999000)\n"
     ]
    },
    {
     "data": {
      "image/png": "[encoded data removed]",
      "text/plain": [
       "<Figure size 720x504 with 1 Axes>"
      ]
     },
     "metadata": {},
     "output_type": "display_data"
    }
   ],
   "source": [
    "draw_hist(d1=gto[gto['wrms_RV'] < 500.0]['wrms_RV'], d1_label=\"RMS [$ms^{-1}$] (<500)\",\n",
    "          fig_filename=IMAGE_FOLDER + \"Analysis_08_09B_CARM_VIS_RV_RMS_lt500_Histogram.png\")"
   ]
  },
  {
   "cell_type": "markdown",
   "id": "b4f1fc0e",
   "metadata": {},
   "source": [
    "And further reducing to 100 $ms^{-1}$:"
   ]
  },
  {
   "cell_type": "code",
   "execution_count": 36,
   "id": "99a81e52",
   "metadata": {
    "ExecuteTime": {
     "end_time": "2022-11-14T08:33:38.582733Z",
     "start_time": "2022-11-14T08:33:38.261587Z"
    }
   },
   "outputs": [
    {
     "name": "stderr",
     "output_type": "stream",
     "text": [
      "C:\\Users\\ciroe\\anaconda3\\lib\\site-packages\\seaborn\\distributions.py:2557: FutureWarning: `distplot` is a deprecated function and will be removed in a future version. Please adapt your code to use either `displot` (a figure-level function with similar flexibility) or `histplot` (an axes-level function for histograms).\n",
      "  warnings.warn(msg, FutureWarning)\n"
     ]
    },
    {
     "name": "stdout",
     "output_type": "stream",
     "text": [
      "count    343.000000\n",
      "mean      10.039506\n",
      "std       18.173896\n",
      "min        0.666710\n",
      "25%        2.578898\n",
      "50%        3.566341\n",
      "75%        6.366688\n",
      "max       99.907122\n",
      "Name: wrms_RV, dtype: float64\n",
      "p = 8.61082e-55\n",
      "***This distribution does NOT come from a Gaussian distribution(with significance level = 0.999000)\n"
     ]
    },
    {
     "data": {
      "image/png": "[encoded data removed]",
      "text/plain": [
       "<Figure size 720x504 with 1 Axes>"
      ]
     },
     "metadata": {},
     "output_type": "display_data"
    }
   ],
   "source": [
    "draw_hist(d1=gto[gto['wrms_RV'] < 100.0]['wrms_RV'], d1_label=\"RMS [$ms^{-1}$] (<100)\",\n",
    "          fig_filename=IMAGE_FOLDER + \"Analysis_08_09C_CARM_VIS_RV_RMS_lt100_Histogram.png\")"
   ]
  },
  {
   "cell_type": "markdown",
   "id": "21a34369",
   "metadata": {},
   "source": [
    "And reducing to 25 $ms^{-1}$:"
   ]
  },
  {
   "cell_type": "code",
   "execution_count": 37,
   "id": "6ce09ecc",
   "metadata": {
    "ExecuteTime": {
     "end_time": "2022-11-14T08:33:42.501806Z",
     "start_time": "2022-11-14T08:33:42.201425Z"
    },
    "scrolled": false
   },
   "outputs": [
    {
     "name": "stderr",
     "output_type": "stream",
     "text": [
      "C:\\Users\\ciroe\\anaconda3\\lib\\site-packages\\seaborn\\distributions.py:2557: FutureWarning: `distplot` is a deprecated function and will be removed in a future version. Please adapt your code to use either `displot` (a figure-level function with similar flexibility) or `histplot` (an axes-level function for histograms).\n",
      "  warnings.warn(msg, FutureWarning)\n"
     ]
    },
    {
     "name": "stdout",
     "output_type": "stream",
     "text": [
      "count    309.000000\n",
      "mean       4.604794\n",
      "std        3.638561\n",
      "min        0.666710\n",
      "25%        2.503480\n",
      "50%        3.294237\n",
      "75%        4.974812\n",
      "max       24.709496\n",
      "Name: wrms_RV, dtype: float64\n",
      "p = 3.20136e-41\n",
      "***This distribution does NOT come from a Gaussian distribution(with significance level = 0.999000)\n"
     ]
    },
    {
     "data": {
      "image/png": "[encoded data removed]",
      "text/plain": [
       "<Figure size 720x504 with 1 Axes>"
      ]
     },
     "metadata": {},
     "output_type": "display_data"
    }
   ],
   "source": [
    "draw_hist(d1=gto[gto['wrms_RV'] < 25.0]['wrms_RV'], d1_label=\"RMS [$ms^{-1}$] (<25)\",\n",
    "          fig_filename=IMAGE_FOLDER + \"Analysis_08_09D_CARM_VIS_RV_RMS_lt25_Histogram.png\")"
   ]
  },
  {
   "cell_type": "markdown",
   "id": "35698d20",
   "metadata": {},
   "source": [
    "And reducing to 5 $ms^{-1}$:"
   ]
  },
  {
   "cell_type": "code",
   "execution_count": 38,
   "id": "dc9aab46",
   "metadata": {
    "ExecuteTime": {
     "end_time": "2022-11-14T08:33:50.484761Z",
     "start_time": "2022-11-14T08:33:50.220289Z"
    }
   },
   "outputs": [
    {
     "name": "stderr",
     "output_type": "stream",
     "text": [
      "C:\\Users\\ciroe\\anaconda3\\lib\\site-packages\\seaborn\\distributions.py:2557: FutureWarning: `distplot` is a deprecated function and will be removed in a future version. Please adapt your code to use either `displot` (a figure-level function with similar flexibility) or `histplot` (an axes-level function for histograms).\n",
      "  warnings.warn(msg, FutureWarning)\n"
     ]
    },
    {
     "name": "stdout",
     "output_type": "stream",
     "text": [
      "count    233.000000\n",
      "mean       3.021702\n",
      "std        0.879263\n",
      "min        0.666710\n",
      "25%        2.365640\n",
      "50%        2.812982\n",
      "75%        3.593585\n",
      "max        4.977859\n",
      "Name: wrms_RV, dtype: float64\n",
      "p = 0.00397062\n",
      "This distribution MIGHT come from Gaussian distribution(with significance level = 0.999000)\n"
     ]
    },
    {
     "data": {
      "image/png": "[encoded data removed]",
      "text/plain": [
       "<Figure size 720x504 with 1 Axes>"
      ]
     },
     "metadata": {},
     "output_type": "display_data"
    }
   ],
   "source": [
    "draw_hist(d1=gto[gto['wrms_RV'] < 5.0]['wrms_RV'], d1_label=\"RMS [$ms^{-1}$] (<5)\",\n",
    "          fig_filename=IMAGE_FOLDER + \"Analysis_08_09E_CARM_VIS_RV_RMS_lt5_Histogram.png\")"
   ]
  },
  {
   "cell_type": "markdown",
   "id": "af303ad0",
   "metadata": {},
   "source": [
    "**OBSERVATION:** This could be the group of stars (low RMS values that we could try to be more interested in, let's see the available information we have for these subsample, related to the periodograms:"
   ]
  },
  {
   "cell_type": "code",
   "execution_count": 39,
   "id": "63d70fb2",
   "metadata": {
    "ExecuteTime": {
     "end_time": "2022-11-14T08:33:58.904046Z",
     "start_time": "2022-11-14T08:33:58.887085Z"
    }
   },
   "outputs": [],
   "source": [
    "subset = gto[gto['wrms_RV'] < 5.0].copy()"
   ]
  },
  {
   "cell_type": "code",
   "execution_count": 40,
   "id": "07f5d847",
   "metadata": {
    "ExecuteTime": {
     "end_time": "2022-11-14T08:33:59.627234Z",
     "start_time": "2022-11-14T08:33:59.618246Z"
    }
   },
   "outputs": [
    {
     "data": {
      "text/plain": [
       "233"
      ]
     },
     "execution_count": 40,
     "metadata": {},
     "output_type": "execute_result"
    }
   ],
   "source": [
    "len(subset)"
   ]
  },
  {
   "cell_type": "code",
   "execution_count": 41,
   "id": "7a076d56",
   "metadata": {
    "ExecuteTime": {
     "end_time": "2022-11-14T08:34:13.476370Z",
     "start_time": "2022-11-14T08:34:13.461410Z"
    }
   },
   "outputs": [
    {
     "data": {
      "text/plain": [
       "0"
      ]
     },
     "execution_count": 41,
     "metadata": {},
     "output_type": "execute_result"
    }
   ],
   "source": [
    "len(subset[subset['valid_PG_RV'] == 0])"
   ]
  },
  {
   "cell_type": "code",
   "execution_count": 42,
   "id": "68587682",
   "metadata": {
    "ExecuteTime": {
     "end_time": "2022-11-14T08:34:16.308351Z",
     "start_time": "2022-11-14T08:34:16.290397Z"
    }
   },
   "outputs": [
    {
     "data": {
      "text/plain": [
       "70"
      ]
     },
     "execution_count": 42,
     "metadata": {},
     "output_type": "execute_result"
    }
   ],
   "source": [
    "len(subset[subset['valid_PG_TESS'] == 0])"
   ]
  },
  {
   "cell_type": "code",
   "execution_count": 43,
   "id": "58d2960d",
   "metadata": {
    "ExecuteTime": {
     "end_time": "2022-11-14T08:34:26.577235Z",
     "start_time": "2022-11-14T08:34:26.568259Z"
    }
   },
   "outputs": [
    {
     "data": {
      "text/plain": [
       "163"
      ]
     },
     "execution_count": 43,
     "metadata": {},
     "output_type": "execute_result"
    }
   ],
   "source": [
    "len(subset[(subset['valid_PG_RV'] == 1) & (subset['valid_PG_TESS'] == 1)])"
   ]
  },
  {
   "cell_type": "markdown",
   "id": "f7e97408",
   "metadata": {},
   "source": [
    "Of these 233 objects with RMS < $5 ms^{-1}$, all of them have periodograms available for the RV time series, and 158 of them also have a corresponding _TESS_ light curve, with a correctly calculated periodogram."
   ]
  },
  {
   "cell_type": "code",
   "execution_count": null,
   "id": "2cf3c6f5",
   "metadata": {},
   "outputs": [],
   "source": []
  }
 ],
 "metadata": {
  "kernelspec": {
   "display_name": "Python 3 (ipykernel)",
   "language": "python",
   "name": "python3"
  },
  "language_info": {
   "codemirror_mode": {
    "name": "ipython",
    "version": 3
   },
   "file_extension": ".py",
   "mimetype": "text/x-python",
   "name": "python",
   "nbconvert_exporter": "python",
   "pygments_lexer": "ipython3",
   "version": "3.8.8"
  },
  "latex_envs": {
   "LaTeX_envs_menu_present": true,
   "autoclose": false,
   "autocomplete": true,
   "bibliofile": "biblio.bib",
   "cite_by": "apalike",
   "current_citInitial": 1,
   "eqLabelWithNumbers": true,
   "eqNumInitial": 1,
   "hotkeys": {
    "equation": "Ctrl-E",
    "itemize": "Ctrl-I"
   },
   "labels_anchors": false,
   "latex_user_defs": false,
   "report_style_numbering": false,
   "user_envs_cfg": false
  },
  "toc": {
   "base_numbering": 1,
   "nav_menu": {},
   "number_sections": true,
   "sideBar": true,
   "skip_h1_title": true,
   "title_cell": "Table of Contents",
   "title_sidebar": "Contents",
   "toc_cell": false,
   "toc_position": {
    "height": "calc(100% - 180px)",
    "left": "10px",
    "top": "150px",
    "width": "384px"
   },
   "toc_section_display": true,
   "toc_window_display": true
  }
 },
 "nbformat": 4,
 "nbformat_minor": 5
}
