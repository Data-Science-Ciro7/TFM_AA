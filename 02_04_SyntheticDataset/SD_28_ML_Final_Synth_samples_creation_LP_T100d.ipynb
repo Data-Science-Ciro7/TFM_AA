{
 "cells": [
  {
   "cell_type": "markdown",
   "id": "5657ed60",
   "metadata": {},
   "source": [
    "# FINAL ML SUBSAMPLE RV CURVES SYNTHETIC DATASETS CREATION, WITH LIMITED PRECISION AND LONGER TIME BASELINE"
   ]
  },
  {
   "cell_type": "markdown",
   "id": "0d8e7ec8",
   "metadata": {},
   "source": [
    "In this notebook we create several synthetic samples of radial velocity (RV) curves, according to the statistical distribution of the relevant parameters, as inferred from the theory or from the real CARMENES RV curves in the ML subsample (233 stars). These synthetic samples will be used both for Machine Learning (ML) modelling purposes.\n",
    "\n",
    "**NOTE:** there are only two differences in this notebook, compared to the previous _\"SD_21_ML_Synth_samples_creation.ipynb\"_ notebook. The first one is that the precision of the star paremeters is limited to a specific number of decimal positions, namely:\n",
    "\n",
    "- $\\Delta A=0.01\\;\\rm{ms}^{-1}$\n",
    "- $\\Delta \\nu=0.01\\;\\rm{d}^{-1}$\n",
    "- $\\Delta \\tau=0.0001\\;\\rm{d}$\n",
    "- $\\Delta \\delta=0.01$\n",
    "- $\\Delta c=0.01\\;\\rm{ms}^{-1}$ (no effect for NZP-corrected RV curves, which always have offset equal to $0.00$).\n",
    "\n",
    "The second diference is the longer time baseline generated for the first two synthetic signals (see below).\n",
    "\n",
    "The basic equation to generate the signals is:\n",
    "\n",
    "$$x(t)=A\\cos\\{2\\pi(\\nu(t-\\tau)+\\delta)\\}+c$$\n",
    "\n",
    "Notice that only single pulsations are modelled for each signal, i.e. only a single, fundamental tone is assumed for each signal.\n",
    "\n",
    "The samples to be created are the following ones:\n",
    "\n",
    "- Sample S1: the benchmark synthetic sample. This will be a noiseless, perfectly sampled dataset. This means having a good period frequency of $0.0016\\;d$, above two times the Nyquist frequency for the minimum period to be detected, as well as a long enough time baseline so that the resolution of periodograms are coherent with the frequency precision used when creating the signal. The time baseline will be the same for all curves, so that the pulsations with shorter periods will include more complete periods in that time. The chosen time baseline of $100\\;d$ is more than enough to cover many cycles ($\\sim240$) of even the larger period searched for ($10\\;h$).\n",
    "- Sample S2: based on sample S1, we just apply to each data point a random noise, calculated from a pool of error margin distributions extracted from the real ML subsample of CARMENES RV curves.\n",
    "- Sample S3: based on sample S1, we just apply to each curve a given sampling pattern, chosen randomly among the sampling patterns extracted from the real ML subsample of CARMENES RV curves.\n",
    "- Sample S4: a combination of the distortions applied to generate S2 and S3. This sample will somehow mimic the real CARMENES RV curves in ML subsample, because it incorporates both the CARMENES error distributions and the typical sampling patterns of CARMENES RV curves. \n",
    "\n",
    "**IMPORTANT NOTE:** a fraction of $90\\%$ of the stars will be randomly classified as non-pulsating stars, assigning them a constant valued time series. This value is based on the proper references (see the TFM document).\n",
    "\n",
    "All the records for all the samples will be created in parallel, so that, for example, the sampling time values of a given record in sample S4 will be exactly the same values for the same record in sample S3, and both records (as well as that in sample S2) will share the same basic, clean oscillation parameters of the record in sample S1. The rationale behind this approach is that the corresponding records throughout all the samples conceivably represent the same physical object. Notice that noise values cannot be exactly shared between samples S2 and S4, as their time span and sampling patterns will be something completely different. However the statistical parameters to generate such noise values will be the same for corresponding records in samples S2 and S4.\n",
    "\n",
    "A table with the description of each synthetic star and its corresponding record characteristics will be generated. The table will contain, for each star, all the basic parameters of the benchmark curve in sample S1 (amplitude, frequency, etc., basically modelling the pulsation in the physical object). Each record will have a sequential identifier for it, with the format \"Star-\\<j\\>\", being \"j\" a sequential value. For each record, files containing the generated RV curves will also be stored, with names like \"S\\<i\\>-RV-Star-\\<j\\>.dat\", being \"i\" the sample identifier (S1, S2, S3 and S4) and \"j\" the sequential star identifier. The names and relative paths to these files are also stored in the dataset table for later reference.\n",
    "\n",
    "The time series files stored with _\".dat\"_ extension will have three columns separated by a space (corresponding to _time_, _value_ and _error_, without headers), so that we can load them straightaway into both _LSTperiod_ or use with `gls` Python module. Notice that for the noiseless samples (S1 and S3), the error value will be exactly $0\\;ms^{-1}$, and that in calculations with `gls` we will have to select the option for classical LS periodogram, in order not to consider the _error_ column, which will produce a runtime error in the code execution. Later on we will adapt the format as required for feature extraction with the proper time series analysis package (_cesium_)."
   ]
  },
  {
   "cell_type": "markdown",
   "id": "a45b1a5a",
   "metadata": {},
   "source": [
    "## Modules and configuration"
   ]
  },
  {
   "cell_type": "markdown",
   "id": "6569d8c2",
   "metadata": {},
   "source": [
    "### Modules"
   ]
  },
  {
   "cell_type": "code",
   "execution_count": 1,
   "id": "db817188",
   "metadata": {
    "ExecuteTime": {
     "end_time": "2023-02-02T22:56:54.254701Z",
     "start_time": "2023-02-02T22:56:53.089809Z"
    }
   },
   "outputs": [],
   "source": [
    "import math\n",
    "import pandas as pd\n",
    "import numpy as np\n",
    "\n",
    "from IPython.display import clear_output\n",
    "\n",
    "import json\n",
    "\n",
    "from distfit import distfit\n",
    "\n",
    "from scipy.stats import norm\n",
    "\n",
    "import matplotlib.pyplot as plt\n",
    "import seaborn as sns\n",
    "sns.set_style(\"white\", {'figure.figsize':(15,10)})"
   ]
  },
  {
   "cell_type": "markdown",
   "id": "44ad459b",
   "metadata": {},
   "source": [
    "### Configuration"
   ]
  },
  {
   "cell_type": "code",
   "execution_count": 2,
   "id": "044384a7",
   "metadata": {
    "ExecuteTime": {
     "end_time": "2023-02-02T22:56:54.270519Z",
     "start_time": "2023-02-02T22:56:54.256700Z"
    }
   },
   "outputs": [],
   "source": [
    "# CONFIGURATION:\n",
    "MODE = \"NEW\" # 'NEW' to overwrite the existing datasets / 'APPEND' to add records to the datasets\n",
    "N = 1000 # Number of records (i.e. RV curves) to create / add.\n",
    "RANDOM_STATE = 11 # For reproducibility\n",
    "np.random.seed(RANDOM_STATE) # For reproducibility\n",
    "\n",
    "NON_PULSATION_FRACTION = 0.90 # Fraction of non-pulsating stars, a prior calculated from the proper references.\n",
    "\n",
    "OVERRIDE_TOBS = 100.0 # Overriding value for time baseline.\n",
    "\n",
    "IMAGE_FOLDER = \"./img/\"\n",
    "\n",
    "DIST_SUMMARY_FILE = \"../data/DIST_FILES/Parameter_distributions_ML_subsample_FINAL.csv\"\n",
    "#DIST_SUMMARY_FILE = \"../data/DIST_FILES/Parameter_distributions_ML_subsample.csv\"\n",
    "DIST_FILES_FOLDER = \"../data/DIST_FILES/\"\n",
    "RV_PATTERNS_FILE = \"../data/DIST_FILES/RV_ML_subsample_sampling_patterns_and_noise_B_REPEAT.csv\"\n",
    "\n",
    "DATASETS_FOLDER = \"../data/SYNTH_RV_SAMPLES/\"\n",
    "DATASETS_SUMMARY_FILE = \"../data/SYNTH_RV_SAMPLES/RV_FINAL_ML_SyntheticDatasets.csv\"\n",
    "DS1_FOLDER = \"../data/SYNTH_RV_SAMPLES/S1_FINAL_ts_files/\"\n",
    "DS2_FOLDER = \"../data/SYNTH_RV_SAMPLES/S2_FINAL_ts_files/\"\n",
    "DS3_FOLDER = \"../data/SYNTH_RV_SAMPLES/S3_FINAL_ts_files/\"\n",
    "DS4_FOLDER = \"../data/SYNTH_RV_SAMPLES/S4_FINAL_ts_files/\"\n",
    "\n",
    "STAR_PREFIX=\"Star-\" # RECOMMENDED - DO NOT CHANGE\n",
    "\n",
    "NEGLIGIBLE_NOISE = 1e-6 # Used to set some noise column value for the \"perfect\" RV curve (S1 and S3 samples)\n",
    "\n",
    "# ROUNDING DECIMALS:\n",
    "AMPLITUDE_DECIMALS = 2\n",
    "FREQUENCY_DECIMALS = 2\n",
    "TAU_DECIMALS = 4\n",
    "DELTA_DECIMALS = 2\n",
    "OFFSET_DECIMALS = 2 # (NO EFFECT FOR NZP-CORRECTED RV CURVES WITH OFFSET = 0.00)"
   ]
  },
  {
   "cell_type": "markdown",
   "id": "fd9226a8",
   "metadata": {},
   "source": [
    "### Functions"
   ]
  },
  {
   "cell_type": "raw",
   "id": "6c426a9b",
   "metadata": {
    "ExecuteTime": {
     "end_time": "2022-12-01T07:20:21.305068Z",
     "start_time": "2022-12-01T07:20:21.287111Z"
    }
   },
   "source": [
    "def sample_value(t, f, A, c, tau, delta, noise):\n",
    "    '''Returns the value of a benchmark sample at a time 't', depending on the values of the parameters passed:\n",
    "    f: frequency; A: amplitude; c: offset; tau:reference epoch; delta:phase'''\n",
    "    value = A * np.cos(2 * np.pi * (f * (t - tau) + delta)) + c + noise\n",
    "    return value"
   ]
  },
  {
   "cell_type": "code",
   "execution_count": 3,
   "id": "975266dd",
   "metadata": {
    "ExecuteTime": {
     "end_time": "2023-02-02T22:56:55.838500Z",
     "start_time": "2023-02-02T22:56:55.832516Z"
    }
   },
   "outputs": [],
   "source": [
    "def limit_value(x, low, high):\n",
    "    x_limited = np.round(x, AMPLITUDE_DECIMALS)\n",
    "    if x < low:\n",
    "        x_limited = np.round(low, AMPLITUDE_DECIMALS)\n",
    "    if x > high:\n",
    "        x_limited = high\n",
    "    return x_limited"
   ]
  },
  {
   "cell_type": "code",
   "execution_count": 4,
   "id": "d76b259a",
   "metadata": {
    "ExecuteTime": {
     "end_time": "2023-02-02T22:56:56.181055Z",
     "start_time": "2023-02-02T22:56:56.167105Z"
    }
   },
   "outputs": [],
   "source": [
    "def generate_errors(dist, min_value, max_value, size):\n",
    "    '''Generate random values from a fitted distribution passed as parameter, but limiting\n",
    "    them to the range between \"min_value\" and \"max_value\".'''\n",
    "    error_values = np.round(error_dist.generate(n=size, verbose=0), AMPLITUDE_DECIMALS)\n",
    "    limited_error_values = []\n",
    "    limited_error_values = [limit_value(x=value,\n",
    "                                        low=np.round(min_value, AMPLITUDE_DECIMALS),\n",
    "                                        high=np.round(max_value, AMPLITUDE_DECIMALS)) for value in error_values]\n",
    "    return limited_error_values"
   ]
  },
  {
   "cell_type": "code",
   "execution_count": 5,
   "id": "46073f34",
   "metadata": {
    "ExecuteTime": {
     "end_time": "2023-02-02T22:56:56.509436Z",
     "start_time": "2023-02-02T22:56:56.494477Z"
    }
   },
   "outputs": [],
   "source": [
    "def real_value(t, f, A, c, tau, delta):\n",
    "    '''Returns the value of a benchmark sample at a time 't', depending on the values of the parameters passed:\n",
    "    f: frequency; A: amplitude; c: offset; tau: reference epoch; delta: phase; error: error margin'''\n",
    "    # First generate the real value:\n",
    "    real_value = np.round(A * np.cos(2 * np.pi * (f * (t - tau) + delta)) + c, AMPLITUDE_DECIMALS)\n",
    "    return real_value"
   ]
  },
  {
   "cell_type": "code",
   "execution_count": 6,
   "id": "3dca97a8",
   "metadata": {
    "ExecuteTime": {
     "end_time": "2023-02-02T22:56:56.912302Z",
     "start_time": "2023-02-02T22:56:56.894350Z"
    }
   },
   "outputs": [],
   "source": [
    "def observed_value(real_value, error):\n",
    "    '''Generates a random observed value, given the real value and the error passed as parameters'''\n",
    "    if error == 0:\n",
    "        obs_value = np.round(real_value, AMPLITUDE_DECIMALS)\n",
    "    else:\n",
    "        norm_dist = norm(loc=real_value, scale=error) # The error indicated in RV curves corresponds 1-sigma\n",
    "        obs_value = np.round(norm_dist.rvs(size=1), AMPLITUDE_DECIMALS)\n",
    "    return obs_value  "
   ]
  },
  {
   "cell_type": "code",
   "execution_count": 7,
   "id": "be8f5817",
   "metadata": {
    "ExecuteTime": {
     "end_time": "2023-02-02T22:56:57.208562Z",
     "start_time": "2023-02-02T22:56:57.197619Z"
    }
   },
   "outputs": [
    {
     "data": {
      "text/plain": [
       "3.141592653589793"
      ]
     },
     "execution_count": 7,
     "metadata": {},
     "output_type": "execute_result"
    }
   ],
   "source": [
    "np.pi"
   ]
  },
  {
   "cell_type": "code",
   "execution_count": 8,
   "id": "dee5eba2",
   "metadata": {
    "ExecuteTime": {
     "end_time": "2023-02-02T22:56:57.474532Z",
     "start_time": "2023-02-02T22:56:57.462564Z"
    }
   },
   "outputs": [],
   "source": [
    "# We vectorize the previous functions to be able to pass arrays as parameters,\n",
    "# in order to calculate the time series in one call\n",
    "v_real_value = np.vectorize(real_value)\n",
    "v_observed_value = np.vectorize(observed_value)"
   ]
  },
  {
   "cell_type": "markdown",
   "id": "ae12b5c6",
   "metadata": {},
   "source": [
    "## Prepare distributions of parameters"
   ]
  },
  {
   "cell_type": "markdown",
   "id": "36e6620d",
   "metadata": {},
   "source": [
    "### Read configuration file"
   ]
  },
  {
   "cell_type": "markdown",
   "id": "c09ed581",
   "metadata": {},
   "source": [
    "Read the file containing the distributions and values used for dataset generation."
   ]
  },
  {
   "cell_type": "code",
   "execution_count": 9,
   "id": "cc77e09e",
   "metadata": {
    "ExecuteTime": {
     "end_time": "2023-02-02T22:56:58.953950Z",
     "start_time": "2023-02-02T22:56:58.935998Z"
    }
   },
   "outputs": [
    {
     "data": {
      "text/html": [
       "<div>\n",
       "<style scoped>\n",
       "    .dataframe tbody tr th:only-of-type {\n",
       "        vertical-align: middle;\n",
       "    }\n",
       "\n",
       "    .dataframe tbody tr th {\n",
       "        vertical-align: top;\n",
       "    }\n",
       "\n",
       "    .dataframe thead th {\n",
       "        text-align: right;\n",
       "    }\n",
       "</style>\n",
       "<table border=\"1\" class=\"dataframe\">\n",
       "  <thead>\n",
       "    <tr style=\"text-align: right;\">\n",
       "      <th></th>\n",
       "      <th>Group</th>\n",
       "      <th>Variable</th>\n",
       "      <th>Distribution</th>\n",
       "      <th>Dist_file</th>\n",
       "    </tr>\n",
       "  </thead>\n",
       "  <tbody>\n",
       "    <tr>\n",
       "      <th>0</th>\n",
       "      <td>BENCHMARK</td>\n",
       "      <td>Ps</td>\n",
       "      <td>{'fixed_value': 0.0016}</td>\n",
       "      <td>NaN</td>\n",
       "    </tr>\n",
       "    <tr>\n",
       "      <th>1</th>\n",
       "      <td>BENCHMARK</td>\n",
       "      <td>Tobs</td>\n",
       "      <td>{'fixed_value': 4.2}</td>\n",
       "      <td>NaN</td>\n",
       "    </tr>\n",
       "    <tr>\n",
       "      <th>2</th>\n",
       "      <td>BENCHMARK</td>\n",
       "      <td>frequency</td>\n",
       "      <td>{'distr': &lt;scipy.stats._continuous_distns.unif...</td>\n",
       "      <td>BENCHMARK_frequency_ML_subsample_dist.pickle</td>\n",
       "    </tr>\n",
       "    <tr>\n",
       "      <th>3</th>\n",
       "      <td>BENCHMARK</td>\n",
       "      <td>phase</td>\n",
       "      <td>{'distr': &lt;scipy.stats._continuous_distns.unif...</td>\n",
       "      <td>BENCHMARK_phase_ML_subsample_dist.pickle</td>\n",
       "    </tr>\n",
       "    <tr>\n",
       "      <th>4</th>\n",
       "      <td>BENCHMARK</td>\n",
       "      <td>amplitudeRV</td>\n",
       "      <td>{'distr': &lt;scipy.stats._continuous_distns.unif...</td>\n",
       "      <td>BENCHMARK_amplitudeRV_ML_subsample_dist.pickle</td>\n",
       "    </tr>\n",
       "    <tr>\n",
       "      <th>5</th>\n",
       "      <td>BENCHMARK</td>\n",
       "      <td>offsetRV</td>\n",
       "      <td>{'fixed_value': 0.0}</td>\n",
       "      <td>NaN</td>\n",
       "    </tr>\n",
       "    <tr>\n",
       "      <th>6</th>\n",
       "      <td>BENCHMARK</td>\n",
       "      <td>refepochRV</td>\n",
       "      <td>{'distr': &lt;scipy.stats._continuous_distns.logn...</td>\n",
       "      <td>BENCHMARK_refepochRV_ML_subsample_dist.pickle</td>\n",
       "    </tr>\n",
       "    <tr>\n",
       "      <th>7</th>\n",
       "      <td>RV</td>\n",
       "      <td>noiseRV</td>\n",
       "      <td>{'distr': &lt;scipy.stats._continuous_distns.beta...</td>\n",
       "      <td>RV_noiseRV_ML_subsample_dist.pickle</td>\n",
       "    </tr>\n",
       "    <tr>\n",
       "      <th>8</th>\n",
       "      <td>RV</td>\n",
       "      <td>samplingperiodRV</td>\n",
       "      <td>{'distr': &lt;scipy.stats._continuous_distns.pare...</td>\n",
       "      <td>RV_samplingperiodRV_ML_subsample_dist.pickle</td>\n",
       "    </tr>\n",
       "    <tr>\n",
       "      <th>9</th>\n",
       "      <td>RV</td>\n",
       "      <td>numpointsRV</td>\n",
       "      <td>{'distr': &lt;scipy.stats._continuous_distns.pare...</td>\n",
       "      <td>RV_numpointsRV_ML_subsample_dist.pickle</td>\n",
       "    </tr>\n",
       "  </tbody>\n",
       "</table>\n",
       "</div>"
      ],
      "text/plain": [
       "       Group          Variable  \\\n",
       "0  BENCHMARK                Ps   \n",
       "1  BENCHMARK              Tobs   \n",
       "2  BENCHMARK         frequency   \n",
       "3  BENCHMARK             phase   \n",
       "4  BENCHMARK       amplitudeRV   \n",
       "5  BENCHMARK          offsetRV   \n",
       "6  BENCHMARK        refepochRV   \n",
       "7         RV           noiseRV   \n",
       "8         RV  samplingperiodRV   \n",
       "9         RV       numpointsRV   \n",
       "\n",
       "                                        Distribution  \\\n",
       "0                            {'fixed_value': 0.0016}   \n",
       "1                               {'fixed_value': 4.2}   \n",
       "2  {'distr': <scipy.stats._continuous_distns.unif...   \n",
       "3  {'distr': <scipy.stats._continuous_distns.unif...   \n",
       "4  {'distr': <scipy.stats._continuous_distns.unif...   \n",
       "5                               {'fixed_value': 0.0}   \n",
       "6  {'distr': <scipy.stats._continuous_distns.logn...   \n",
       "7  {'distr': <scipy.stats._continuous_distns.beta...   \n",
       "8  {'distr': <scipy.stats._continuous_distns.pare...   \n",
       "9  {'distr': <scipy.stats._continuous_distns.pare...   \n",
       "\n",
       "                                        Dist_file  \n",
       "0                                             NaN  \n",
       "1                                             NaN  \n",
       "2    BENCHMARK_frequency_ML_subsample_dist.pickle  \n",
       "3        BENCHMARK_phase_ML_subsample_dist.pickle  \n",
       "4  BENCHMARK_amplitudeRV_ML_subsample_dist.pickle  \n",
       "5                                             NaN  \n",
       "6   BENCHMARK_refepochRV_ML_subsample_dist.pickle  \n",
       "7             RV_noiseRV_ML_subsample_dist.pickle  \n",
       "8    RV_samplingperiodRV_ML_subsample_dist.pickle  \n",
       "9         RV_numpointsRV_ML_subsample_dist.pickle  "
      ]
     },
     "execution_count": 9,
     "metadata": {},
     "output_type": "execute_result"
    }
   ],
   "source": [
    "dist_params = pd.read_csv(DIST_SUMMARY_FILE, sep=',', decimal='.')\n",
    "dist_params"
   ]
  },
  {
   "cell_type": "code",
   "execution_count": 10,
   "id": "a7957e82",
   "metadata": {
    "ExecuteTime": {
     "end_time": "2023-02-02T22:56:59.312023Z",
     "start_time": "2023-02-02T22:56:59.294071Z"
    }
   },
   "outputs": [
    {
     "data": {
      "text/plain": [
       "Group           object\n",
       "Variable        object\n",
       "Distribution    object\n",
       "Dist_file       object\n",
       "dtype: object"
      ]
     },
     "execution_count": 10,
     "metadata": {},
     "output_type": "execute_result"
    }
   ],
   "source": [
    "dist_params.dtypes"
   ]
  },
  {
   "cell_type": "markdown",
   "id": "c9c99e86",
   "metadata": {},
   "source": [
    "### Register the distributions to use for each variable"
   ]
  },
  {
   "cell_type": "markdown",
   "id": "b1519239",
   "metadata": {},
   "source": [
    "**Note:** take into account that we will not be using the distributions for `noiseRV`, `samplingperiodRV` and `numpointsRV`, as we will calculate these values in a diifferent way, i.e. not just drawing a value from a statistical distribution."
   ]
  },
  {
   "cell_type": "code",
   "execution_count": 11,
   "id": "c3d15a97",
   "metadata": {
    "ExecuteTime": {
     "end_time": "2023-02-02T22:57:01.057533Z",
     "start_time": "2023-02-02T22:57:00.990713Z"
    }
   },
   "outputs": [
    {
     "name": "stdout",
     "output_type": "stream",
     "text": [
      "[pypickle] Pickle file loaded: [../data/DIST_FILES/BENCHMARK_frequency_ML_subsample_dist.pickle]\n",
      "[pypickle] Pickle file loaded: [../data/DIST_FILES/BENCHMARK_phase_ML_subsample_dist.pickle]\n",
      "[pypickle] Pickle file loaded: [../data/DIST_FILES/BENCHMARK_amplitudeRV_ML_subsample_dist.pickle]\n",
      "[pypickle] Pickle file loaded: [../data/DIST_FILES/BENCHMARK_refepochRV_ML_subsample_dist.pickle]\n",
      "[pypickle] Pickle file loaded: [../data/DIST_FILES/RV_noiseRV_ML_subsample_dist.pickle]\n",
      "[pypickle] Pickle file loaded: [../data/DIST_FILES/RV_samplingperiodRV_ML_subsample_dist.pickle]\n",
      "[pypickle] Pickle file loaded: [../data/DIST_FILES/RV_numpointsRV_ML_subsample_dist.pickle]\n"
     ]
    }
   ],
   "source": [
    "# Initialise variable:\n",
    "param_ranges = {}\n",
    "for i in range(0,len(dist_params)):\n",
    "    try:\n",
    "        # If successful, it is a fixed value:\n",
    "        d = json.loads(dist_params.loc[i, 'Distribution'].replace('\\'', '\\\"'))\n",
    "        param_ranges[dist_params.loc[i, 'Variable']] = d\n",
    "    except:\n",
    "        # Must be a distribution, so we load it from file:\n",
    "        try:\n",
    "            d = distfit()\n",
    "            d.load(DIST_FILES_FOLDER + dist_params.loc[i, 'Dist_file'])\n",
    "            param_ranges[dist_params.loc[i, 'Variable']] = d\n",
    "        except Exception as e:\n",
    "            # Some error happened:\n",
    "            print(\"***ERROR! Could not set parameter %s. Error: %s\" \\\n",
    "                  %(dist_params.loc[i, 'Variable'], str(e)))\n"
   ]
  },
  {
   "cell_type": "code",
   "execution_count": 12,
   "id": "2e651bb5",
   "metadata": {
    "ExecuteTime": {
     "end_time": "2023-02-02T22:57:01.589570Z",
     "start_time": "2023-02-02T22:57:01.574629Z"
    }
   },
   "outputs": [
    {
     "data": {
      "text/plain": [
       "{'Ps': {'fixed_value': 0.0016},\n",
       " 'Tobs': {'fixed_value': 4.2},\n",
       " 'frequency': <distfit.distfit.distfit at 0x157cfa02940>,\n",
       " 'phase': <distfit.distfit.distfit at 0x157ca3f2bb0>,\n",
       " 'amplitudeRV': <distfit.distfit.distfit at 0x157cfa02d30>,\n",
       " 'offsetRV': {'fixed_value': 0.0},\n",
       " 'refepochRV': <distfit.distfit.distfit at 0x157cfa108b0>,\n",
       " 'noiseRV': <distfit.distfit.distfit at 0x157cfa10790>,\n",
       " 'samplingperiodRV': <distfit.distfit.distfit at 0x157cfa24f70>,\n",
       " 'numpointsRV': <distfit.distfit.distfit at 0x157cfa33be0>}"
      ]
     },
     "execution_count": 12,
     "metadata": {},
     "output_type": "execute_result"
    }
   ],
   "source": [
    "# Show result:\n",
    "param_ranges"
   ]
  },
  {
   "cell_type": "markdown",
   "id": "7937be50",
   "metadata": {},
   "source": [
    "## Create the random samples and the RV curve files"
   ]
  },
  {
   "cell_type": "code",
   "execution_count": 13,
   "id": "61b53897",
   "metadata": {
    "ExecuteTime": {
     "end_time": "2023-02-02T22:57:02.601472Z",
     "start_time": "2023-02-02T22:57:02.583533Z"
    }
   },
   "outputs": [
    {
     "data": {
      "text/plain": [
       "array([22.27, 21.55, 15.54, 24.76, 17.73, 18.45, 24.46, 15.24, 22.27,\n",
       "       21.55, 15.54, 24.76, 17.73, 18.45, 24.46, 15.24, 22.27, 21.55,\n",
       "       15.54, 24.76, 17.73, 18.45, 24.46, 15.24])"
      ]
     },
     "execution_count": 13,
     "metadata": {},
     "output_type": "execute_result"
    }
   ],
   "source": [
    "# TEST 1 - Vectorized function: clean time series.\n",
    "test_real = v_real_value(t=[0.00, 0.50, 1.00, 1.50, 2.00, 2.50, 3.00, 3.50, 4.00, 4.50, 5.00, 5.50, 6.00, \\\n",
    "                            6.50, 7.00, 7.50, 8.00, 8.50, 9.00, 9.50, 10.00, 10.50, 11.00, 11.50],\n",
    "                         f=0.75, A=5.0, c=20.0, tau=0.5, delta=0.2)\n",
    "test_real"
   ]
  },
  {
   "cell_type": "code",
   "execution_count": 14,
   "id": "ea8e9589",
   "metadata": {
    "ExecuteTime": {
     "end_time": "2023-02-02T22:57:03.005986Z",
     "start_time": "2023-02-02T22:57:02.983047Z"
    }
   },
   "outputs": [
    {
     "data": {
      "text/plain": [
       "array([21.84, 20.88, 14.01, 24.75, 17.24, 17.81, 24.51, 15.28, 21.07,\n",
       "       20.72, 15.33, 25.36, 18.83, 18.36, 22.96, 15.32, 24.8 , 21.55,\n",
       "       14.18, 24.97, 17.71, 19.78, 26.32, 15.38])"
      ]
     },
     "execution_count": 14,
     "metadata": {},
     "output_type": "execute_result"
    }
   ],
   "source": [
    "# TEST 2 - Vectorized function: noisy time series.\n",
    "test_obs = v_observed_value(real_value=test_real,\n",
    "                            error=[1.500668159, 1.379844309, 0.578035218, 0.798004417, 1.543720686, \\\n",
    "                                   1.188904223, 0.161336742, 0.102133465, 1.1281597, 0.933947801, \\\n",
    "                                   0.431082827, 0.865645144, 1.968325011, 0.070059952, 1.342700752, \\\n",
    "                                   0.102406912, 1.605073208, 0.089842491, 1.993361815, 0.190272377, \\\n",
    "                                   0.061971617, 1.836111736, 1.201716785, 0.221183952])\n",
    "test_obs"
   ]
  },
  {
   "cell_type": "markdown",
   "id": "0f8ab31c",
   "metadata": {},
   "source": [
    "### Initialize samples table"
   ]
  },
  {
   "cell_type": "code",
   "execution_count": 15,
   "id": "59ac8dbd",
   "metadata": {
    "ExecuteTime": {
     "end_time": "2023-02-02T22:57:04.160153Z",
     "start_time": "2023-02-02T22:57:04.151178Z"
    }
   },
   "outputs": [],
   "source": [
    "if MODE == \"NEW\":\n",
    "    # Initialise DataFrame:\n",
    "    datasets = pd.DataFrame(columns=['ID', 'Pulsating', \\\n",
    "                                     'frequency', 'amplitudeRV', 'offsetRV', 'refepochRV', 'phase', \\\n",
    "                                     'S1_Ps', 'S1_Tobs', \\\n",
    "                                     'S2_errorRV_dist_idx', 'S2_errorRV_dist_name', \\\n",
    "                                     'S2_errorRV_dist_loc', 'S2_errorRV_dist_scale', \\\n",
    "                                     'S2_errorRV_mean', 'S2_errorRV_median', 'S2_errorRV_stdev', \\\n",
    "                                     'S3_sampling_idx', 'S3_Tobs', \\\n",
    "                                     'S3_Ps_mean', 'S3_Ps_median', 'S3_Ps_stdev', 'S3_NumPoints', \\\n",
    "                                     'S4_errorRV_mean', 'S4_errorRV_median', 'S4_errorRV_stdev',\n",
    "                                     'S1_file', 'S2_file', 'S3_file', 'S4_file'])\n",
    "else:\n",
    "    # 'APPEND' mode is assumed by default\n",
    "    try:\n",
    "        # Load existing DataFrame:\n",
    "        datasets = pd.read_csv(DATASETS_SUMMARY_FILE, sep=',', decimal='.')\n",
    "    except:\n",
    "        print(\"**WARNING: no previous dataset table was found.\\n\" \\\n",
    "              \"Switching to 'NEW' mode...\")\n",
    "        datasets = pd.DataFrame(columns=['ID', 'Pulsating', \\\n",
    "                                         'frequency', 'amplitudeRV', 'offsetRV', 'refepochRV', 'phase', \\\n",
    "                                         'S1_Ps', 'S1_Tobs', \\\n",
    "                                         'S2_errorRV_dist_idx', 'S2_errorRV_dist_name', \\\n",
    "                                         'S2_errorRV_dist_loc', 'S2_errorRV_dist_scale', \\\n",
    "                                         'S2_errorRV_mean', 'S2_errorRV_median', 'S2_errorRV_stdev', \\\n",
    "                                         'S3_sampling_idx', 'S3_Tobs', \\\n",
    "                                         'S3_Ps_mean', 'S3_Ps_median', 'S3_Ps_stdev', 'S3_NumPoints', \\\n",
    "                                         'S4_errorRV_mean', 'S4_errorRV_median', 'S4_errorRV_stdev',\n",
    "                                         'S1_file', 'S2_file', 'S3_file', 'S4_file'])\n",
    "        "
   ]
  },
  {
   "cell_type": "code",
   "execution_count": 16,
   "id": "ef270c50",
   "metadata": {
    "ExecuteTime": {
     "end_time": "2023-02-02T22:57:04.735263Z",
     "start_time": "2023-02-02T22:57:04.719306Z"
    }
   },
   "outputs": [
    {
     "data": {
      "text/html": [
       "<div>\n",
       "<style scoped>\n",
       "    .dataframe tbody tr th:only-of-type {\n",
       "        vertical-align: middle;\n",
       "    }\n",
       "\n",
       "    .dataframe tbody tr th {\n",
       "        vertical-align: top;\n",
       "    }\n",
       "\n",
       "    .dataframe thead th {\n",
       "        text-align: right;\n",
       "    }\n",
       "</style>\n",
       "<table border=\"1\" class=\"dataframe\">\n",
       "  <thead>\n",
       "    <tr style=\"text-align: right;\">\n",
       "      <th></th>\n",
       "      <th>ID</th>\n",
       "      <th>Pulsating</th>\n",
       "      <th>frequency</th>\n",
       "      <th>amplitudeRV</th>\n",
       "      <th>offsetRV</th>\n",
       "      <th>refepochRV</th>\n",
       "      <th>phase</th>\n",
       "      <th>S1_Ps</th>\n",
       "      <th>S1_Tobs</th>\n",
       "      <th>S2_errorRV_dist_idx</th>\n",
       "      <th>...</th>\n",
       "      <th>S3_Ps_median</th>\n",
       "      <th>S3_Ps_stdev</th>\n",
       "      <th>S3_NumPoints</th>\n",
       "      <th>S4_errorRV_mean</th>\n",
       "      <th>S4_errorRV_median</th>\n",
       "      <th>S4_errorRV_stdev</th>\n",
       "      <th>S1_file</th>\n",
       "      <th>S2_file</th>\n",
       "      <th>S3_file</th>\n",
       "      <th>S4_file</th>\n",
       "    </tr>\n",
       "  </thead>\n",
       "  <tbody>\n",
       "  </tbody>\n",
       "</table>\n",
       "<p>0 rows × 29 columns</p>\n",
       "</div>"
      ],
      "text/plain": [
       "Empty DataFrame\n",
       "Columns: [ID, Pulsating, frequency, amplitudeRV, offsetRV, refepochRV, phase, S1_Ps, S1_Tobs, S2_errorRV_dist_idx, S2_errorRV_dist_name, S2_errorRV_dist_loc, S2_errorRV_dist_scale, S2_errorRV_mean, S2_errorRV_median, S2_errorRV_stdev, S3_sampling_idx, S3_Tobs, S3_Ps_mean, S3_Ps_median, S3_Ps_stdev, S3_NumPoints, S4_errorRV_mean, S4_errorRV_median, S4_errorRV_stdev, S1_file, S2_file, S3_file, S4_file]\n",
       "Index: []\n",
       "\n",
       "[0 rows x 29 columns]"
      ]
     },
     "execution_count": 16,
     "metadata": {},
     "output_type": "execute_result"
    }
   ],
   "source": [
    "datasets"
   ]
  },
  {
   "cell_type": "markdown",
   "id": "6c9a41eb",
   "metadata": {},
   "source": [
    "### Create the samples of time series in each dataset"
   ]
  },
  {
   "cell_type": "code",
   "execution_count": 17,
   "id": "0a9ead97",
   "metadata": {
    "ExecuteTime": {
     "end_time": "2023-02-02T22:57:05.730571Z",
     "start_time": "2023-02-02T22:57:05.686657Z"
    }
   },
   "outputs": [
    {
     "data": {
      "text/html": [
       "<div>\n",
       "<style scoped>\n",
       "    .dataframe tbody tr th:only-of-type {\n",
       "        vertical-align: middle;\n",
       "    }\n",
       "\n",
       "    .dataframe tbody tr th {\n",
       "        vertical-align: top;\n",
       "    }\n",
       "\n",
       "    .dataframe thead th {\n",
       "        text-align: right;\n",
       "    }\n",
       "</style>\n",
       "<table border=\"1\" class=\"dataframe\">\n",
       "  <thead>\n",
       "    <tr style=\"text-align: right;\">\n",
       "      <th></th>\n",
       "      <th>Karmn</th>\n",
       "      <th>Vr_kms-1</th>\n",
       "      <th>n_RV</th>\n",
       "      <th>Ps_RV</th>\n",
       "      <th>wrms_RV</th>\n",
       "      <th>RV_sampling_deltas</th>\n",
       "      <th>RV_noise_min</th>\n",
       "      <th>RV_noise_max</th>\n",
       "      <th>RV_noise_median</th>\n",
       "      <th>RV_noise_mean</th>\n",
       "      <th>RV_noise_stdev</th>\n",
       "      <th>RV_noise_dist</th>\n",
       "      <th>RV_noise_name</th>\n",
       "      <th>RV_noise_loc</th>\n",
       "      <th>RV_noise_scale</th>\n",
       "      <th>RV_noise_dist_file</th>\n",
       "      <th>RV_noise_fit_p-value</th>\n",
       "      <th>Fraction_Out</th>\n",
       "      <th>Occurrences</th>\n",
       "    </tr>\n",
       "  </thead>\n",
       "  <tbody>\n",
       "    <tr>\n",
       "      <th>0</th>\n",
       "      <td>J23505-095</td>\n",
       "      <td>-21.870867</td>\n",
       "      <td>71.0</td>\n",
       "      <td>2.908164</td>\n",
       "      <td>3.362607</td>\n",
       "      <td>[0.0, 11.957513123750687, 47.87879143701866, 5...</td>\n",
       "      <td>1.199479</td>\n",
       "      <td>4.170413</td>\n",
       "      <td>1.722917</td>\n",
       "      <td>1.881812</td>\n",
       "      <td>0.628702</td>\n",
       "      <td>{'distr': &lt;scipy.stats._continuous_distns.t_ge...</td>\n",
       "      <td>t</td>\n",
       "      <td>1.691561</td>\n",
       "      <td>0.290193</td>\n",
       "      <td>../data/DIST_FILES/RV_ML_subsample_Stars_noise...</td>\n",
       "      <td>0.103726</td>\n",
       "      <td>0.112676</td>\n",
       "      <td>25</td>\n",
       "    </tr>\n",
       "    <tr>\n",
       "      <th>1</th>\n",
       "      <td>J23492+024</td>\n",
       "      <td>-71.131000</td>\n",
       "      <td>373.0</td>\n",
       "      <td>1.143762</td>\n",
       "      <td>2.183867</td>\n",
       "      <td>[0.0, 17.0164248123765, 190.38824744801968, 21...</td>\n",
       "      <td>0.951985</td>\n",
       "      <td>7.585994</td>\n",
       "      <td>1.517377</td>\n",
       "      <td>1.656111</td>\n",
       "      <td>0.599510</td>\n",
       "      <td>{'distr': &lt;scipy.stats._continuous_distns.logn...</td>\n",
       "      <td>lognorm</td>\n",
       "      <td>0.862271</td>\n",
       "      <td>0.660178</td>\n",
       "      <td>../data/DIST_FILES/RV_ML_subsample_Stars_noise...</td>\n",
       "      <td>0.490384</td>\n",
       "      <td>0.000000</td>\n",
       "      <td>32</td>\n",
       "    </tr>\n",
       "    <tr>\n",
       "      <th>2</th>\n",
       "      <td>J23431+365</td>\n",
       "      <td>-2.597000</td>\n",
       "      <td>23.0</td>\n",
       "      <td>17.057200</td>\n",
       "      <td>2.795865</td>\n",
       "      <td>[0.0, 8.942367421463132, 9.875712749548256, 25...</td>\n",
       "      <td>0.916620</td>\n",
       "      <td>2.010952</td>\n",
       "      <td>1.377055</td>\n",
       "      <td>1.408319</td>\n",
       "      <td>0.262370</td>\n",
       "      <td>{'distr': &lt;scipy.stats._continuous_distns.dwei...</td>\n",
       "      <td>dweibull</td>\n",
       "      <td>1.403768</td>\n",
       "      <td>0.233191</td>\n",
       "      <td>../data/DIST_FILES/RV_ML_subsample_Stars_noise...</td>\n",
       "      <td>0.687567</td>\n",
       "      <td>0.043478</td>\n",
       "      <td>43</td>\n",
       "    </tr>\n",
       "    <tr>\n",
       "      <th>3</th>\n",
       "      <td>J23419+441</td>\n",
       "      <td>-77.764000</td>\n",
       "      <td>99.0</td>\n",
       "      <td>3.031857</td>\n",
       "      <td>2.532704</td>\n",
       "      <td>[0.0, 136.37014811998233, 154.37618444254622, ...</td>\n",
       "      <td>0.829277</td>\n",
       "      <td>2.496016</td>\n",
       "      <td>1.297172</td>\n",
       "      <td>1.363447</td>\n",
       "      <td>0.307447</td>\n",
       "      <td>{'distr': &lt;scipy.stats._continuous_distns.gene...</td>\n",
       "      <td>genextreme</td>\n",
       "      <td>1.223698</td>\n",
       "      <td>0.212595</td>\n",
       "      <td>../data/DIST_FILES/RV_ML_subsample_Stars_noise...</td>\n",
       "      <td>0.733246</td>\n",
       "      <td>0.000000</td>\n",
       "      <td>74</td>\n",
       "    </tr>\n",
       "    <tr>\n",
       "      <th>4</th>\n",
       "      <td>J23381-162</td>\n",
       "      <td>20.470749</td>\n",
       "      <td>56.0</td>\n",
       "      <td>3.019729</td>\n",
       "      <td>2.405056</td>\n",
       "      <td>[0.0, 10.978803387377411, 30.955036497674882, ...</td>\n",
       "      <td>1.016080</td>\n",
       "      <td>3.446221</td>\n",
       "      <td>1.423674</td>\n",
       "      <td>1.611703</td>\n",
       "      <td>0.542434</td>\n",
       "      <td>{'distr': &lt;scipy.stats._continuous_distns.gene...</td>\n",
       "      <td>genextreme</td>\n",
       "      <td>1.343269</td>\n",
       "      <td>0.248643</td>\n",
       "      <td>../data/DIST_FILES/RV_ML_subsample_Stars_noise...</td>\n",
       "      <td>0.482127</td>\n",
       "      <td>0.017857</td>\n",
       "      <td>74</td>\n",
       "    </tr>\n",
       "  </tbody>\n",
       "</table>\n",
       "</div>"
      ],
      "text/plain": [
       "        Karmn   Vr_kms-1   n_RV      Ps_RV   wrms_RV  \\\n",
       "0  J23505-095 -21.870867   71.0   2.908164  3.362607   \n",
       "1  J23492+024 -71.131000  373.0   1.143762  2.183867   \n",
       "2  J23431+365  -2.597000   23.0  17.057200  2.795865   \n",
       "3  J23419+441 -77.764000   99.0   3.031857  2.532704   \n",
       "4  J23381-162  20.470749   56.0   3.019729  2.405056   \n",
       "\n",
       "                                  RV_sampling_deltas  RV_noise_min  \\\n",
       "0  [0.0, 11.957513123750687, 47.87879143701866, 5...      1.199479   \n",
       "1  [0.0, 17.0164248123765, 190.38824744801968, 21...      0.951985   \n",
       "2  [0.0, 8.942367421463132, 9.875712749548256, 25...      0.916620   \n",
       "3  [0.0, 136.37014811998233, 154.37618444254622, ...      0.829277   \n",
       "4  [0.0, 10.978803387377411, 30.955036497674882, ...      1.016080   \n",
       "\n",
       "   RV_noise_max  RV_noise_median  RV_noise_mean  RV_noise_stdev  \\\n",
       "0      4.170413         1.722917       1.881812        0.628702   \n",
       "1      7.585994         1.517377       1.656111        0.599510   \n",
       "2      2.010952         1.377055       1.408319        0.262370   \n",
       "3      2.496016         1.297172       1.363447        0.307447   \n",
       "4      3.446221         1.423674       1.611703        0.542434   \n",
       "\n",
       "                                       RV_noise_dist RV_noise_name  \\\n",
       "0  {'distr': <scipy.stats._continuous_distns.t_ge...             t   \n",
       "1  {'distr': <scipy.stats._continuous_distns.logn...       lognorm   \n",
       "2  {'distr': <scipy.stats._continuous_distns.dwei...      dweibull   \n",
       "3  {'distr': <scipy.stats._continuous_distns.gene...    genextreme   \n",
       "4  {'distr': <scipy.stats._continuous_distns.gene...    genextreme   \n",
       "\n",
       "   RV_noise_loc  RV_noise_scale  \\\n",
       "0      1.691561        0.290193   \n",
       "1      0.862271        0.660178   \n",
       "2      1.403768        0.233191   \n",
       "3      1.223698        0.212595   \n",
       "4      1.343269        0.248643   \n",
       "\n",
       "                                  RV_noise_dist_file  RV_noise_fit_p-value  \\\n",
       "0  ../data/DIST_FILES/RV_ML_subsample_Stars_noise...              0.103726   \n",
       "1  ../data/DIST_FILES/RV_ML_subsample_Stars_noise...              0.490384   \n",
       "2  ../data/DIST_FILES/RV_ML_subsample_Stars_noise...              0.687567   \n",
       "3  ../data/DIST_FILES/RV_ML_subsample_Stars_noise...              0.733246   \n",
       "4  ../data/DIST_FILES/RV_ML_subsample_Stars_noise...              0.482127   \n",
       "\n",
       "   Fraction_Out  Occurrences  \n",
       "0      0.112676           25  \n",
       "1      0.000000           32  \n",
       "2      0.043478           43  \n",
       "3      0.000000           74  \n",
       "4      0.017857           74  "
      ]
     },
     "execution_count": 17,
     "metadata": {},
     "output_type": "execute_result"
    }
   ],
   "source": [
    "# Read the sampling patterns from the RV patterns file:\n",
    "rv_patterns = pd.read_csv(RV_PATTERNS_FILE)\n",
    "rv_patterns['RV_sampling_deltas'] = rv_patterns['RV_sampling_deltas'] \\\n",
    "    .map(lambda x: json.loads(x))\n",
    "rv_patterns.head()"
   ]
  },
  {
   "cell_type": "raw",
   "id": "9a25d1c9",
   "metadata": {
    "ExecuteTime": {
     "end_time": "2022-12-02T07:24:14.387132Z",
     "start_time": "2022-12-02T07:24:14.371176Z"
    }
   },
   "source": [
    "list(rv_patterns.columns).index(\"RV_sampling_deltas\")"
   ]
  },
  {
   "cell_type": "code",
   "execution_count": 18,
   "id": "d7f326ef",
   "metadata": {
    "ExecuteTime": {
     "end_time": "2023-02-02T22:57:06.966834Z",
     "start_time": "2023-02-02T22:57:06.951873Z"
    }
   },
   "outputs": [
    {
     "data": {
      "text/plain": [
       "{'Ps': {'fixed_value': 0.0016},\n",
       " 'Tobs': {'fixed_value': 4.2},\n",
       " 'frequency': <distfit.distfit.distfit at 0x157cfa02940>,\n",
       " 'phase': <distfit.distfit.distfit at 0x157ca3f2bb0>,\n",
       " 'amplitudeRV': <distfit.distfit.distfit at 0x157cfa02d30>,\n",
       " 'offsetRV': {'fixed_value': 0.0},\n",
       " 'refepochRV': <distfit.distfit.distfit at 0x157cfa108b0>,\n",
       " 'noiseRV': <distfit.distfit.distfit at 0x157cfa10790>,\n",
       " 'samplingperiodRV': <distfit.distfit.distfit at 0x157cfa24f70>,\n",
       " 'numpointsRV': <distfit.distfit.distfit at 0x157cfa33be0>}"
      ]
     },
     "execution_count": 18,
     "metadata": {},
     "output_type": "execute_result"
    }
   ],
   "source": [
    "param_ranges"
   ]
  },
  {
   "cell_type": "markdown",
   "id": "a1d6b86c",
   "metadata": {},
   "source": [
    "**IMPORTANT: SOME DISTRIBUTIONS OF ERROR VALUES SEEM TO YIELD NEGATIVE VALUES WHICH, WHEN PASSED ON TO A NORMAL DISTRIBUTION AS `SCALE`YIELDS ERROR, WE NEED TO DO TWO THINGS:**\n",
    "- **ASSESS THE IMPACT OF THIS**: HOW MANY NEGATIVE VALUES HAPPEN? OR BETTER, ¿HOW MANY VALUES FALL OUTSIDE THE INITIAL RANGE OF VALUES?\n",
    "- CORRECT THE ISSUE: WE HAVE TWO OPTIONS (NOT FULLY INCOMPATIBLE):\n",
    "  - PREVENT NEGATIVE VALUES IN THE GENERATED ERROR MARGINS. NOT EASY... WHAT DO YOU DO WITH NEGATIVE VALUES?\n",
    "  - ENTER ABSOLUTE MINIMUM AND MAXIMUM LIMITS FOR THE ERRORS. THESE ONES SHOULD BE CALCULATED AND RECORDED BEFOREHAND IN THE PREVIOUS NOTEBOOK \"13\", AND THEN USED IN THIS NOTEBOOK."
   ]
  },
  {
   "cell_type": "code",
   "execution_count": 19,
   "id": "3e7cb5e9",
   "metadata": {
    "ExecuteTime": {
     "end_time": "2023-02-03T08:11:13.208245Z",
     "start_time": "2023-02-02T22:57:16.951575Z"
    }
   },
   "outputs": [
    {
     "name": "stdout",
     "output_type": "stream",
     "text": [
      "Processing record 999 of 999...\n",
      "[pypickle] Pickle file loaded: [../data/DIST_FILES/RV_ML_subsample_Stars_noise_dist/J03531+625_RV_noise.pickle]\n",
      "--- FINISHED ---\n"
     ]
    }
   ],
   "source": [
    "# Check t-deltas column name in the patterns file:\n",
    "tdeltas_col = list(rv_patterns.columns).index(\"RV_sampling_deltas\")\n",
    "#for i in range(0, 1): # TEST\n",
    "#for i in range(0, 5): # TEST\n",
    "for i in range(len(datasets), len(datasets) + N):\n",
    "    clear_output(wait=True)\n",
    "    if True: # TEST\n",
    "    #try:\n",
    "        print(\"Processing record %d of %d...\" %(i, N - 1))\n",
    "        step = \"Main parameters\"\n",
    "        # Set the record sequential ID and the pulsation characteristic:\n",
    "        record_id = STAR_PREFIX + str(i).zfill(5)\n",
    "        datasets.loc[i, 'ID'] = record_id\n",
    "        #if np.asscalar(np.random.rand(1)) <= NON_PULSATION_FRACTION: # np.asscalar DEPRECATED\n",
    "        if np.random.rand(1).item() <= NON_PULSATION_FRACTION:\n",
    "            # Non-pulsating star:\n",
    "            datasets.loc[i, 'Pulsating'] = False\n",
    "            # Choose the main parameter values:\n",
    "            # (one value per record, shared by all 4 distributions)\n",
    "            # In this case, only the distributions for the offsetRV (which is 0.0 anyway) and refepochRV are used:\n",
    "            frequency = np.round(0.0, FREQUENCY_DECIMALS)\n",
    "            amplitudeRV = np.round(0.0, AMPLITUDE_DECIMALS)\n",
    "            #offsetRV = np.round(param_ranges['offsetRV'].generate(n=1, verbose=0), OFFSET_DECIMALS)\n",
    "            offsetRV = np.round(0.0, OFFSET_DECIMALS) # NZP-corrected RV time series\n",
    "            refepochRV = np.round(param_ranges['refepochRV'].generate(n=1, verbose=0), TAU_DECIMALS)\n",
    "            phase = np.round(0.0, DELTA_DECIMALS)\n",
    "            # Populate the dataset table with the basic parameters:\n",
    "            datasets.loc[i, 'frequency'] = frequency\n",
    "            datasets.loc[i, 'amplitudeRV'] = amplitudeRV\n",
    "            #datasets.loc[i, 'offsetRV'] = np.asscalar(offsetRV) # np.asscalar DEPRECATED\n",
    "            #datasets.loc[i, 'offsetRV'] = offsetRV.item()\n",
    "            datasets.loc[i, 'offsetRV'] = offsetRV\n",
    "            #datasets.loc[i, 'refepochRV'] = np.asscalar(refepochRV) # np.asscalar DEPRECATED\n",
    "            datasets.loc[i, 'refepochRV'] = refepochRV.item()\n",
    "            datasets.loc[i, 'phase'] = phase\n",
    "        else:\n",
    "            # Pulsating star:\n",
    "            datasets.loc[i, 'Pulsating'] = True\n",
    "            # Choose the main parameter values:\n",
    "            # (one value per record, shared by all 4 distributions)\n",
    "            # All the distributions are used to calculate random parameters:\n",
    "            frequency = np.round(param_ranges['frequency'].generate(n=1, verbose=0), FREQUENCY_DECIMALS)\n",
    "            amplitudeRV = np.round(param_ranges['amplitudeRV'].generate(n=1, verbose=0), AMPLITUDE_DECIMALS)\n",
    "            #offsetRV = np.round(param_ranges['offsetRV'].generate(n=1, verbose=0), OFFSET_DECIMALS)\n",
    "            offsetRV = np.round(0.0, OFFSET_DECIMALS) # NZP-corrected RV time series\n",
    "            refepochRV = np.round(param_ranges['refepochRV'].generate(n=1, verbose=0), TAU_DECIMALS)\n",
    "            phase = np.round(param_ranges['phase'].generate(n=1, verbose=0), DELTA_DECIMALS)\n",
    "            # Populate the dataset table with the basic parameters:\n",
    "            #datasets.loc[i, 'frequency'] = np.asscalar(frequency) # np.asscalar DEPRECATED\n",
    "            datasets.loc[i, 'frequency'] = frequency.item()\n",
    "            \n",
    "            #datasets.loc[i, 'amplitudeRV'] = np.asscalar(amplitudeRV) # np.asscalar DEPRECATED\n",
    "            datasets.loc[i, 'amplitudeRV'] = amplitudeRV.item()\n",
    "\n",
    "            #datasets.loc[i, 'offsetRV'] = np.asscalar(offsetRV) # np.asscalar DEPRECATED\n",
    "            #datasets.loc[i, 'offsetRV'] = offsetRV.item()\n",
    "            datasets.loc[i, 'offsetRV'] = offsetRV\n",
    "            \n",
    "            #datasets.loc[i, 'refepochRV'] = np.asscalar(refepochRV) # np.asscalar DEPRECATED\n",
    "            datasets.loc[i, 'refepochRV'] = refepochRV.item()\n",
    "            \n",
    "            #datasets.loc[i, 'phase'] = np.asscalar(phase) # np.asscalar DEPRECATED\n",
    "            datasets.loc[i, 'phase'] = phase.item()\n",
    "        \n",
    "        # S1: Generate the benchmark (noiseless, perfectly sampled) time series:\n",
    "        step = \"S1 calculation\"        \n",
    "        # Get the timestamps parameters (sampling period and observation time):\n",
    "        Ps = param_ranges['Ps']['fixed_value']\n",
    "        #Tobs = param_ranges['Tobs']['fixed_value']\n",
    "        \n",
    "        Tobs = OVERRIDE_TOBS # OVERRIDE VALUE FOR Tobs\n",
    "\n",
    "        # Generate the timestamps (absolute values) and noise:\n",
    "        ds1_time = np.linspace(refepochRV, refepochRV + Tobs, int(Tobs/Ps) + 1, endpoint=True)\n",
    "        ds1_error = np.repeat(NEGLIGIBLE_NOISE, len(ds1_time)).reshape(-1,1)\n",
    "        # Generate the values:\n",
    "        ds1_value = v_real_value(t=ds1_time,\n",
    "                                 f=frequency, A=amplitudeRV, c=offsetRV, tau=refepochRV, delta=phase)\n",
    "        ds1_ts = np.stack([ds1_time, ds1_value, ds1_error], axis=1).reshape(-1,3)\n",
    "        # Create the S1 filename:\n",
    "        ds1_file = DS1_FOLDER + \"S1-RV_LP_T100d_\" + record_id + \".dat\"\n",
    "        # Store the S1 file:\n",
    "        np.savetxt(ds1_file, ds1_ts, delimiter=' ')\n",
    "        # Populate the dataset table with the relevant data for S1:\n",
    "        datasets.loc[i, 'S1_Ps'] = Ps\n",
    "        datasets.loc[i, 'S1_Tobs'] = Tobs\n",
    "        datasets.loc[i, 'S1_file'] = ds1_file\n",
    "        \n",
    "        # S2: Generate the noise and create the noisy time series:\n",
    "        step = \"S2 calculation\"        \n",
    "        # Choose a random error distribution from the pool:\n",
    "        # Notice that this chosen error distribution will be reused to create S4.\n",
    "        \n",
    "        #errordist_idx = np.asscalar(np.random.randint(low=0, high=len(rv_patterns), size=1)) # np.asscalar DEPRECATED\n",
    "        errordist_idx = np.random.randint(low=0, high=len(rv_patterns), size=1).item()\n",
    "        \n",
    "        error_dist = distfit()\n",
    "        error_dist.load(rv_patterns.loc[errordist_idx, 'RV_noise_dist_file'])\n",
    "        error_min = rv_patterns.loc[errordist_idx, 'RV_noise_min']\n",
    "        error_max = rv_patterns.loc[errordist_idx, 'RV_noise_max']\n",
    "        # Generate an error array equal in length to  S1:\n",
    "        #ds2_error = error_dist.generate(n=len(ds1_time), verbose=0)\n",
    "        ds2_error = generate_errors(dist=error_dist,\n",
    "                                    min_value=error_min, max_value=error_max,\n",
    "                                    size=len(ds1_time))\n",
    "        ds2_error = np.array(ds2_error).reshape(-1,1)\n",
    "        # Generate S2 time series (it is the S1 time series affected by random noise):\n",
    "        ds2_value = v_observed_value(ds1_value, ds2_error)\n",
    "        # Notice that the time axis is exactly the same as S1 sample.\n",
    "        ds2_ts = np.stack([ds1_time, ds2_value, ds2_error], axis=1).reshape(-1,3)\n",
    "        # Calculate error stats:\n",
    "        \n",
    "        # ds2_error_mean = np.asscalar(np.nanmean(ds2_error.flatten())) # np.asscalar DEPRECATED\n",
    "        ds2_error_mean = np.nanmean(ds2_error.flatten())\n",
    "\n",
    "        # ds2_error_median = np.asscalar(np.nanmedian(ds2_error.flatten())) # np.asscalar DEPRECATED\n",
    "        ds2_error_median = np.nanmedian(ds2_error.flatten())\n",
    "\n",
    "        # ds2_error_std = np.asscalar(np.nanstd(ds2_error.flatten())) # np.asscalar DEPRECATED\n",
    "        ds2_error_std = np.nanstd(ds2_error.flatten())\n",
    "\n",
    "        # Create the S2 filename:\n",
    "        ds2_file = DS2_FOLDER + \"S2-RV_LP_T100d_\" + record_id + \".dat\"\n",
    "        # Store the S2 file:\n",
    "        np.savetxt(ds2_file, ds2_ts, delimiter=' ')\n",
    "        # Populate the dataset table with the relevant data for DS2:\n",
    "        datasets.loc[i, 'S2_errorRV_dist_idx'] = errordist_idx\n",
    "        datasets.loc[i, 'S2_errorRV_dist_name'] = error_dist.model['name']\n",
    "        try:\n",
    "            datasets.loc[i, 'S2_errorRV_dist_loc'] = error_dist.model['loc']\n",
    "        except:\n",
    "            datasets.loc[i, 'S2_errorRV_dist_loc'] = np.nan\n",
    "        try:\n",
    "            datasets.loc[i, 'S2_errorRV_dist_scale'] = error_dist.model['scale']\n",
    "        except:\n",
    "            datasets.loc[i, 'S2_errorRV_dist_scale'] = np.nan\n",
    "        datasets.loc[i, 'S2_errorRV_mean'] = ds2_error_mean\n",
    "        datasets.loc[i, 'S2_errorRV_median'] = ds2_error_median\n",
    "        datasets.loc[i, 'S2_errorRV_stdev'] = ds2_error_std\n",
    "        datasets.loc[i, 'S2_file'] = ds2_file\n",
    "        \n",
    "        # S3: Generate the imperfectly sampled time series:\n",
    "        step = \"S3 calculation\"        \n",
    "        # Choose a random sampling pattern from the pool and generate the timestamps:\n",
    "        # Notice that the chosen sampling pattern is independent from the chosen error distribution (i.e. not\n",
    "        # the same index).\n",
    "        #pattern_idx = np.asscalar(np.random.randint(low=0, high=len(rv_patterns), size=1))\n",
    "        pattern_idx = np.random.randint(low=0, high=len(rv_patterns), size=1).item()\n",
    "\n",
    "        rv_t_deltas = rv_patterns.iloc[pattern_idx, tdeltas_col]\n",
    "        # Generate DS3 time series:\n",
    "        ds3_time = refepochRV + rv_t_deltas\n",
    "        ds3_error = np.repeat(NEGLIGIBLE_NOISE, len(ds3_time)).reshape(-1,)\n",
    "        ds3_value = v_real_value(t=ds3_time,\n",
    "                                 f=frequency, A=amplitudeRV, c=offsetRV, tau=refepochRV, delta=phase)\n",
    "        ds3_ts = np.stack([ds3_time, ds3_value, ds3_error], axis=1).reshape(-1,3)\n",
    "        # Calculate sampling stats:\n",
    "        ds3_Tobs = ds3_time.max() - ds3_time.min()\n",
    "        ds3_deltas = ds3_time[1:] - ds3_time[:-1]\n",
    "\n",
    "        # ds3_PsRV_mean = np.asscalar(np.nanmean(ds3_deltas)) # np.asscalar DEPRECATED\n",
    "        ds3_PsRV_mean = np.nanmean(ds3_deltas)\n",
    "\n",
    "        # ds3_PsRV_median = np.asscalar(np.nanmedian(ds3_deltas)) # np.asscalar DEPRECATED\n",
    "        ds3_PsRV_median = np.nanmedian(ds3_deltas)\n",
    "\n",
    "        # ds3_PsRV_stdev = np.asscalar(np.std(ds3_deltas)) # np.asscalar DEPRECATED\n",
    "        ds3_PsRV_stdev = np.nanstd(ds3_deltas)\n",
    "\n",
    "        ds3_NumRV = len(ds3_time)\n",
    "        # Create the S3 filename:\n",
    "        ds3_file = DS3_FOLDER + \"S3-RV_LP_\" + record_id + \".dat\"\n",
    "        # Store the S3 file:\n",
    "        np.savetxt(ds3_file, ds3_ts, delimiter=' ')\n",
    "        # Populate the dataset table with the relevant data for DS3:\n",
    "        datasets.loc[i, 'S3_sampling_idx'] = pattern_idx\n",
    "        datasets.loc[i, 'S3_Tobs'] = ds3_Tobs\n",
    "        datasets.loc[i, 'S3_Ps_mean'] = ds3_PsRV_mean\n",
    "        datasets.loc[i, 'S3_Ps_median'] = ds3_PsRV_median\n",
    "        datasets.loc[i, 'S3_Ps_stdev'] = ds3_PsRV_stdev\n",
    "        datasets.loc[i, 'S3_NumPoints'] = ds3_NumRV\n",
    "        datasets.loc[i, 'S3_file'] = ds3_file\n",
    "\n",
    "        # S4: Generate the noisy and imperfectly sampled time series:\n",
    "        step = \"S4 calculation\"        \n",
    "        # Generate an error array equal in length to  S1:\n",
    "        # Notice that we reuse the erro distribution chosen for sample S2.\n",
    "        #ds4_error = error_dist.generate(n=len(ds3_time), verbose=0)\n",
    "        ds4_error = generate_errors(dist=error_dist,\n",
    "                                    min_value=error_min, max_value=error_max,\n",
    "                                    size=len(ds3_time))\n",
    "        ds4_error = np.array(ds4_error).reshape(-1,)\n",
    "        # Generate S4 time series (it is the S3 time series affected by random noise):\n",
    "        ds4_value = v_observed_value(ds3_value, ds4_error)\n",
    "        # Notice that the time axis is exactly the same as S1 sample.\n",
    "        ds4_ts = np.stack([ds3_time, ds4_value, ds4_error], axis=1).reshape(-1,3)\n",
    "        # Calculate noise stats:\n",
    "        # ds4_error_mean = np.asscalar(np.nanmean(ds4_error.flatten())) # np.asscalar DEPRECATED\n",
    "        ds4_error_mean = np.nanmean(ds4_error.flatten())\n",
    "\n",
    "        # ds4_error_median = np.asscalar(np.nanmedian(ds4_error.flatten())) # np.asscalar DEPRECATED\n",
    "        ds4_error_median = np.nanmedian(ds4_error.flatten())\n",
    "\n",
    "        # ds4_error_std = np.asscalar(np.nanstd(ds4_error.flatten())) # np.asscalar DEPRECATED\n",
    "        ds4_error_std = np.nanstd(ds4_error.flatten())\n",
    "\n",
    "        # Create the S4 filename:\n",
    "        ds4_file = DS4_FOLDER + \"S4-RV_LP_\" + record_id + \".dat\"\n",
    "        # Store the S4 file:\n",
    "        np.savetxt(ds4_file, ds4_ts, delimiter=' ')\n",
    "        # Populate the dataset table with the relevant data for DS4:\n",
    "        datasets.loc[i, 'S4_errorRV_mean'] = ds4_error_mean\n",
    "        datasets.loc[i, 'S4_errorRV_median'] = ds4_error_median\n",
    "        datasets.loc[i, 'S4_errorRV_stdev'] = ds4_error_std\n",
    "        datasets.loc[i, 'S4_file'] = ds4_file\n",
    "    \n",
    "        # Store the dataset table so far:\n",
    "        datasets.to_csv(DATASETS_SUMMARY_FILE, sep=',', decimal='.', index=False)\n",
    "    \n",
    "    else: # TEST\n",
    "    #except Exception as e:\n",
    "        # Report any possible trouble:\n",
    "        print(\"***ERROR: some error happened when generating record %d, at step '%s' Error: %s\" \\\n",
    "              %(i, step, str(e)))\n",
    "\n",
    "print(\"--- FINISHED ---\")"
   ]
  },
  {
   "cell_type": "code",
   "execution_count": 20,
   "id": "7e05a341",
   "metadata": {
    "ExecuteTime": {
     "end_time": "2023-02-03T08:50:33.854751Z",
     "start_time": "2023-02-03T08:50:33.834804Z"
    }
   },
   "outputs": [
    {
     "data": {
      "text/html": [
       "<div>\n",
       "<style scoped>\n",
       "    .dataframe tbody tr th:only-of-type {\n",
       "        vertical-align: middle;\n",
       "    }\n",
       "\n",
       "    .dataframe tbody tr th {\n",
       "        vertical-align: top;\n",
       "    }\n",
       "\n",
       "    .dataframe thead th {\n",
       "        text-align: right;\n",
       "    }\n",
       "</style>\n",
       "<table border=\"1\" class=\"dataframe\">\n",
       "  <thead>\n",
       "    <tr style=\"text-align: right;\">\n",
       "      <th></th>\n",
       "      <th>ID</th>\n",
       "      <th>Pulsating</th>\n",
       "      <th>frequency</th>\n",
       "      <th>amplitudeRV</th>\n",
       "      <th>offsetRV</th>\n",
       "      <th>refepochRV</th>\n",
       "      <th>phase</th>\n",
       "      <th>S1_Ps</th>\n",
       "      <th>S1_Tobs</th>\n",
       "      <th>S2_errorRV_dist_idx</th>\n",
       "      <th>...</th>\n",
       "      <th>S3_Ps_median</th>\n",
       "      <th>S3_Ps_stdev</th>\n",
       "      <th>S3_NumPoints</th>\n",
       "      <th>S4_errorRV_mean</th>\n",
       "      <th>S4_errorRV_median</th>\n",
       "      <th>S4_errorRV_stdev</th>\n",
       "      <th>S1_file</th>\n",
       "      <th>S2_file</th>\n",
       "      <th>S3_file</th>\n",
       "      <th>S4_file</th>\n",
       "    </tr>\n",
       "  </thead>\n",
       "  <tbody>\n",
       "    <tr>\n",
       "      <th>0</th>\n",
       "      <td>Star-00000</td>\n",
       "      <td>True</td>\n",
       "      <td>51.08</td>\n",
       "      <td>1.67</td>\n",
       "      <td>0.0</td>\n",
       "      <td>2457481.7903</td>\n",
       "      <td>0.93</td>\n",
       "      <td>0.0016</td>\n",
       "      <td>100.0</td>\n",
       "      <td>209</td>\n",
       "      <td>...</td>\n",
       "      <td>12.48699</td>\n",
       "      <td>423.473643</td>\n",
       "      <td>11</td>\n",
       "      <td>1.494545</td>\n",
       "      <td>1.43</td>\n",
       "      <td>0.300768</td>\n",
       "      <td>../data/SYNTH_RV_SAMPLES/S1_C01D_50P_ts_files/...</td>\n",
       "      <td>../data/SYNTH_RV_SAMPLES/S2_C01D_50P_ts_files/...</td>\n",
       "      <td>../data/SYNTH_RV_SAMPLES/S3_C01D_50P_ts_files/...</td>\n",
       "      <td>../data/SYNTH_RV_SAMPLES/S4_C01D_50P_ts_files/...</td>\n",
       "    </tr>\n",
       "    <tr>\n",
       "      <th>1</th>\n",
       "      <td>Star-00001</td>\n",
       "      <td>True</td>\n",
       "      <td>57.69</td>\n",
       "      <td>12.93</td>\n",
       "      <td>0.0</td>\n",
       "      <td>2457409.5058</td>\n",
       "      <td>0.13</td>\n",
       "      <td>0.0016</td>\n",
       "      <td>100.0</td>\n",
       "      <td>78</td>\n",
       "      <td>...</td>\n",
       "      <td>3.807657</td>\n",
       "      <td>30.022301</td>\n",
       "      <td>62</td>\n",
       "      <td>1.514677</td>\n",
       "      <td>1.415</td>\n",
       "      <td>0.347826</td>\n",
       "      <td>../data/SYNTH_RV_SAMPLES/S1_C01D_50P_ts_files/...</td>\n",
       "      <td>../data/SYNTH_RV_SAMPLES/S2_C01D_50P_ts_files/...</td>\n",
       "      <td>../data/SYNTH_RV_SAMPLES/S3_C01D_50P_ts_files/...</td>\n",
       "      <td>../data/SYNTH_RV_SAMPLES/S4_C01D_50P_ts_files/...</td>\n",
       "    </tr>\n",
       "    <tr>\n",
       "      <th>2</th>\n",
       "      <td>Star-00002</td>\n",
       "      <td>True</td>\n",
       "      <td>56.6</td>\n",
       "      <td>8.21</td>\n",
       "      <td>0.0</td>\n",
       "      <td>2457394.8499</td>\n",
       "      <td>0.33</td>\n",
       "      <td>0.0016</td>\n",
       "      <td>100.0</td>\n",
       "      <td>218</td>\n",
       "      <td>...</td>\n",
       "      <td>10.074961</td>\n",
       "      <td>40.909038</td>\n",
       "      <td>66</td>\n",
       "      <td>1.377424</td>\n",
       "      <td>1.265</td>\n",
       "      <td>0.35709</td>\n",
       "      <td>../data/SYNTH_RV_SAMPLES/S1_C01D_50P_ts_files/...</td>\n",
       "      <td>../data/SYNTH_RV_SAMPLES/S2_C01D_50P_ts_files/...</td>\n",
       "      <td>../data/SYNTH_RV_SAMPLES/S3_C01D_50P_ts_files/...</td>\n",
       "      <td>../data/SYNTH_RV_SAMPLES/S4_C01D_50P_ts_files/...</td>\n",
       "    </tr>\n",
       "    <tr>\n",
       "      <th>3</th>\n",
       "      <td>Star-00003</td>\n",
       "      <td>False</td>\n",
       "      <td>0.0</td>\n",
       "      <td>0.0</td>\n",
       "      <td>0.0</td>\n",
       "      <td>2457395.311</td>\n",
       "      <td>0.0</td>\n",
       "      <td>0.0016</td>\n",
       "      <td>100.0</td>\n",
       "      <td>28</td>\n",
       "      <td>...</td>\n",
       "      <td>15.987473</td>\n",
       "      <td>56.735394</td>\n",
       "      <td>52</td>\n",
       "      <td>1.907308</td>\n",
       "      <td>1.655</td>\n",
       "      <td>0.680636</td>\n",
       "      <td>../data/SYNTH_RV_SAMPLES/S1_C01D_50P_ts_files/...</td>\n",
       "      <td>../data/SYNTH_RV_SAMPLES/S2_C01D_50P_ts_files/...</td>\n",
       "      <td>../data/SYNTH_RV_SAMPLES/S3_C01D_50P_ts_files/...</td>\n",
       "      <td>../data/SYNTH_RV_SAMPLES/S4_C01D_50P_ts_files/...</td>\n",
       "    </tr>\n",
       "    <tr>\n",
       "      <th>4</th>\n",
       "      <td>Star-00004</td>\n",
       "      <td>True</td>\n",
       "      <td>22.21</td>\n",
       "      <td>8.11</td>\n",
       "      <td>0.0</td>\n",
       "      <td>2457500.1353</td>\n",
       "      <td>0.1</td>\n",
       "      <td>0.0016</td>\n",
       "      <td>100.0</td>\n",
       "      <td>6</td>\n",
       "      <td>...</td>\n",
       "      <td>26.947282</td>\n",
       "      <td>162.151502</td>\n",
       "      <td>24</td>\n",
       "      <td>1.23875</td>\n",
       "      <td>1.095</td>\n",
       "      <td>0.328967</td>\n",
       "      <td>../data/SYNTH_RV_SAMPLES/S1_C01D_50P_ts_files/...</td>\n",
       "      <td>../data/SYNTH_RV_SAMPLES/S2_C01D_50P_ts_files/...</td>\n",
       "      <td>../data/SYNTH_RV_SAMPLES/S3_C01D_50P_ts_files/...</td>\n",
       "      <td>../data/SYNTH_RV_SAMPLES/S4_C01D_50P_ts_files/...</td>\n",
       "    </tr>\n",
       "    <tr>\n",
       "      <th>...</th>\n",
       "      <td>...</td>\n",
       "      <td>...</td>\n",
       "      <td>...</td>\n",
       "      <td>...</td>\n",
       "      <td>...</td>\n",
       "      <td>...</td>\n",
       "      <td>...</td>\n",
       "      <td>...</td>\n",
       "      <td>...</td>\n",
       "      <td>...</td>\n",
       "      <td>...</td>\n",
       "      <td>...</td>\n",
       "      <td>...</td>\n",
       "      <td>...</td>\n",
       "      <td>...</td>\n",
       "      <td>...</td>\n",
       "      <td>...</td>\n",
       "      <td>...</td>\n",
       "      <td>...</td>\n",
       "      <td>...</td>\n",
       "      <td>...</td>\n",
       "    </tr>\n",
       "    <tr>\n",
       "      <th>995</th>\n",
       "      <td>Star-00995</td>\n",
       "      <td>False</td>\n",
       "      <td>0.0</td>\n",
       "      <td>0.0</td>\n",
       "      <td>0.0</td>\n",
       "      <td>2457441.0411</td>\n",
       "      <td>0.0</td>\n",
       "      <td>0.0016</td>\n",
       "      <td>100.0</td>\n",
       "      <td>25</td>\n",
       "      <td>...</td>\n",
       "      <td>25.953213</td>\n",
       "      <td>90.32701</td>\n",
       "      <td>10</td>\n",
       "      <td>2.41</td>\n",
       "      <td>2.0</td>\n",
       "      <td>1.184922</td>\n",
       "      <td>../data/SYNTH_RV_SAMPLES/S1_C01D_50P_ts_files/...</td>\n",
       "      <td>../data/SYNTH_RV_SAMPLES/S2_C01D_50P_ts_files/...</td>\n",
       "      <td>../data/SYNTH_RV_SAMPLES/S3_C01D_50P_ts_files/...</td>\n",
       "      <td>../data/SYNTH_RV_SAMPLES/S4_C01D_50P_ts_files/...</td>\n",
       "    </tr>\n",
       "    <tr>\n",
       "      <th>996</th>\n",
       "      <td>Star-00996</td>\n",
       "      <td>False</td>\n",
       "      <td>0.0</td>\n",
       "      <td>0.0</td>\n",
       "      <td>0.0</td>\n",
       "      <td>2457405.9976</td>\n",
       "      <td>0.0</td>\n",
       "      <td>0.0016</td>\n",
       "      <td>100.0</td>\n",
       "      <td>203</td>\n",
       "      <td>...</td>\n",
       "      <td>7.031455</td>\n",
       "      <td>139.291882</td>\n",
       "      <td>6</td>\n",
       "      <td>1.555</td>\n",
       "      <td>1.285</td>\n",
       "      <td>0.689124</td>\n",
       "      <td>../data/SYNTH_RV_SAMPLES/S1_C01D_50P_ts_files/...</td>\n",
       "      <td>../data/SYNTH_RV_SAMPLES/S2_C01D_50P_ts_files/...</td>\n",
       "      <td>../data/SYNTH_RV_SAMPLES/S3_C01D_50P_ts_files/...</td>\n",
       "      <td>../data/SYNTH_RV_SAMPLES/S4_C01D_50P_ts_files/...</td>\n",
       "    </tr>\n",
       "    <tr>\n",
       "      <th>997</th>\n",
       "      <td>Star-00997</td>\n",
       "      <td>False</td>\n",
       "      <td>0.0</td>\n",
       "      <td>0.0</td>\n",
       "      <td>0.0</td>\n",
       "      <td>2457706.8805</td>\n",
       "      <td>0.0</td>\n",
       "      <td>0.0016</td>\n",
       "      <td>100.0</td>\n",
       "      <td>50</td>\n",
       "      <td>...</td>\n",
       "      <td>2.002482</td>\n",
       "      <td>16.384223</td>\n",
       "      <td>364</td>\n",
       "      <td>1.719863</td>\n",
       "      <td>1.59</td>\n",
       "      <td>0.52057</td>\n",
       "      <td>../data/SYNTH_RV_SAMPLES/S1_C01D_50P_ts_files/...</td>\n",
       "      <td>../data/SYNTH_RV_SAMPLES/S2_C01D_50P_ts_files/...</td>\n",
       "      <td>../data/SYNTH_RV_SAMPLES/S3_C01D_50P_ts_files/...</td>\n",
       "      <td>../data/SYNTH_RV_SAMPLES/S4_C01D_50P_ts_files/...</td>\n",
       "    </tr>\n",
       "    <tr>\n",
       "      <th>998</th>\n",
       "      <td>Star-00998</td>\n",
       "      <td>True</td>\n",
       "      <td>33.16</td>\n",
       "      <td>16.26</td>\n",
       "      <td>0.0</td>\n",
       "      <td>2457397.9786</td>\n",
       "      <td>0.28</td>\n",
       "      <td>0.0016</td>\n",
       "      <td>100.0</td>\n",
       "      <td>197</td>\n",
       "      <td>...</td>\n",
       "      <td>9.023501</td>\n",
       "      <td>50.228453</td>\n",
       "      <td>78</td>\n",
       "      <td>7.452564</td>\n",
       "      <td>6.315</td>\n",
       "      <td>2.241105</td>\n",
       "      <td>../data/SYNTH_RV_SAMPLES/S1_C01D_50P_ts_files/...</td>\n",
       "      <td>../data/SYNTH_RV_SAMPLES/S2_C01D_50P_ts_files/...</td>\n",
       "      <td>../data/SYNTH_RV_SAMPLES/S3_C01D_50P_ts_files/...</td>\n",
       "      <td>../data/SYNTH_RV_SAMPLES/S4_C01D_50P_ts_files/...</td>\n",
       "    </tr>\n",
       "    <tr>\n",
       "      <th>999</th>\n",
       "      <td>Star-00999</td>\n",
       "      <td>True</td>\n",
       "      <td>41.1</td>\n",
       "      <td>14.92</td>\n",
       "      <td>0.0</td>\n",
       "      <td>2457782.3897</td>\n",
       "      <td>0.12</td>\n",
       "      <td>0.0016</td>\n",
       "      <td>100.0</td>\n",
       "      <td>198</td>\n",
       "      <td>...</td>\n",
       "      <td>34.903594</td>\n",
       "      <td>216.41283</td>\n",
       "      <td>10</td>\n",
       "      <td>1.417</td>\n",
       "      <td>1.325</td>\n",
       "      <td>0.319219</td>\n",
       "      <td>../data/SYNTH_RV_SAMPLES/S1_C01D_50P_ts_files/...</td>\n",
       "      <td>../data/SYNTH_RV_SAMPLES/S2_C01D_50P_ts_files/...</td>\n",
       "      <td>../data/SYNTH_RV_SAMPLES/S3_C01D_50P_ts_files/...</td>\n",
       "      <td>../data/SYNTH_RV_SAMPLES/S4_C01D_50P_ts_files/...</td>\n",
       "    </tr>\n",
       "  </tbody>\n",
       "</table>\n",
       "<p>1000 rows × 29 columns</p>\n",
       "</div>"
      ],
      "text/plain": [
       "             ID Pulsating frequency amplitudeRV offsetRV    refepochRV phase  \\\n",
       "0    Star-00000      True     51.08        1.67      0.0  2457481.7903  0.93   \n",
       "1    Star-00001      True     57.69       12.93      0.0  2457409.5058  0.13   \n",
       "2    Star-00002      True      56.6        8.21      0.0  2457394.8499  0.33   \n",
       "3    Star-00003     False       0.0         0.0      0.0   2457395.311   0.0   \n",
       "4    Star-00004      True     22.21        8.11      0.0  2457500.1353   0.1   \n",
       "..          ...       ...       ...         ...      ...           ...   ...   \n",
       "995  Star-00995     False       0.0         0.0      0.0  2457441.0411   0.0   \n",
       "996  Star-00996     False       0.0         0.0      0.0  2457405.9976   0.0   \n",
       "997  Star-00997     False       0.0         0.0      0.0  2457706.8805   0.0   \n",
       "998  Star-00998      True     33.16       16.26      0.0  2457397.9786  0.28   \n",
       "999  Star-00999      True      41.1       14.92      0.0  2457782.3897  0.12   \n",
       "\n",
       "      S1_Ps S1_Tobs S2_errorRV_dist_idx  ... S3_Ps_median S3_Ps_stdev  \\\n",
       "0    0.0016   100.0                 209  ...     12.48699  423.473643   \n",
       "1    0.0016   100.0                  78  ...     3.807657   30.022301   \n",
       "2    0.0016   100.0                 218  ...    10.074961   40.909038   \n",
       "3    0.0016   100.0                  28  ...    15.987473   56.735394   \n",
       "4    0.0016   100.0                   6  ...    26.947282  162.151502   \n",
       "..      ...     ...                 ...  ...          ...         ...   \n",
       "995  0.0016   100.0                  25  ...    25.953213    90.32701   \n",
       "996  0.0016   100.0                 203  ...     7.031455  139.291882   \n",
       "997  0.0016   100.0                  50  ...     2.002482   16.384223   \n",
       "998  0.0016   100.0                 197  ...     9.023501   50.228453   \n",
       "999  0.0016   100.0                 198  ...    34.903594   216.41283   \n",
       "\n",
       "    S3_NumPoints S4_errorRV_mean S4_errorRV_median S4_errorRV_stdev  \\\n",
       "0             11        1.494545              1.43         0.300768   \n",
       "1             62        1.514677             1.415         0.347826   \n",
       "2             66        1.377424             1.265          0.35709   \n",
       "3             52        1.907308             1.655         0.680636   \n",
       "4             24         1.23875             1.095         0.328967   \n",
       "..           ...             ...               ...              ...   \n",
       "995           10            2.41               2.0         1.184922   \n",
       "996            6           1.555             1.285         0.689124   \n",
       "997          364        1.719863              1.59          0.52057   \n",
       "998           78        7.452564             6.315         2.241105   \n",
       "999           10           1.417             1.325         0.319219   \n",
       "\n",
       "                                               S1_file  \\\n",
       "0    ../data/SYNTH_RV_SAMPLES/S1_C01D_50P_ts_files/...   \n",
       "1    ../data/SYNTH_RV_SAMPLES/S1_C01D_50P_ts_files/...   \n",
       "2    ../data/SYNTH_RV_SAMPLES/S1_C01D_50P_ts_files/...   \n",
       "3    ../data/SYNTH_RV_SAMPLES/S1_C01D_50P_ts_files/...   \n",
       "4    ../data/SYNTH_RV_SAMPLES/S1_C01D_50P_ts_files/...   \n",
       "..                                                 ...   \n",
       "995  ../data/SYNTH_RV_SAMPLES/S1_C01D_50P_ts_files/...   \n",
       "996  ../data/SYNTH_RV_SAMPLES/S1_C01D_50P_ts_files/...   \n",
       "997  ../data/SYNTH_RV_SAMPLES/S1_C01D_50P_ts_files/...   \n",
       "998  ../data/SYNTH_RV_SAMPLES/S1_C01D_50P_ts_files/...   \n",
       "999  ../data/SYNTH_RV_SAMPLES/S1_C01D_50P_ts_files/...   \n",
       "\n",
       "                                               S2_file  \\\n",
       "0    ../data/SYNTH_RV_SAMPLES/S2_C01D_50P_ts_files/...   \n",
       "1    ../data/SYNTH_RV_SAMPLES/S2_C01D_50P_ts_files/...   \n",
       "2    ../data/SYNTH_RV_SAMPLES/S2_C01D_50P_ts_files/...   \n",
       "3    ../data/SYNTH_RV_SAMPLES/S2_C01D_50P_ts_files/...   \n",
       "4    ../data/SYNTH_RV_SAMPLES/S2_C01D_50P_ts_files/...   \n",
       "..                                                 ...   \n",
       "995  ../data/SYNTH_RV_SAMPLES/S2_C01D_50P_ts_files/...   \n",
       "996  ../data/SYNTH_RV_SAMPLES/S2_C01D_50P_ts_files/...   \n",
       "997  ../data/SYNTH_RV_SAMPLES/S2_C01D_50P_ts_files/...   \n",
       "998  ../data/SYNTH_RV_SAMPLES/S2_C01D_50P_ts_files/...   \n",
       "999  ../data/SYNTH_RV_SAMPLES/S2_C01D_50P_ts_files/...   \n",
       "\n",
       "                                               S3_file  \\\n",
       "0    ../data/SYNTH_RV_SAMPLES/S3_C01D_50P_ts_files/...   \n",
       "1    ../data/SYNTH_RV_SAMPLES/S3_C01D_50P_ts_files/...   \n",
       "2    ../data/SYNTH_RV_SAMPLES/S3_C01D_50P_ts_files/...   \n",
       "3    ../data/SYNTH_RV_SAMPLES/S3_C01D_50P_ts_files/...   \n",
       "4    ../data/SYNTH_RV_SAMPLES/S3_C01D_50P_ts_files/...   \n",
       "..                                                 ...   \n",
       "995  ../data/SYNTH_RV_SAMPLES/S3_C01D_50P_ts_files/...   \n",
       "996  ../data/SYNTH_RV_SAMPLES/S3_C01D_50P_ts_files/...   \n",
       "997  ../data/SYNTH_RV_SAMPLES/S3_C01D_50P_ts_files/...   \n",
       "998  ../data/SYNTH_RV_SAMPLES/S3_C01D_50P_ts_files/...   \n",
       "999  ../data/SYNTH_RV_SAMPLES/S3_C01D_50P_ts_files/...   \n",
       "\n",
       "                                               S4_file  \n",
       "0    ../data/SYNTH_RV_SAMPLES/S4_C01D_50P_ts_files/...  \n",
       "1    ../data/SYNTH_RV_SAMPLES/S4_C01D_50P_ts_files/...  \n",
       "2    ../data/SYNTH_RV_SAMPLES/S4_C01D_50P_ts_files/...  \n",
       "3    ../data/SYNTH_RV_SAMPLES/S4_C01D_50P_ts_files/...  \n",
       "4    ../data/SYNTH_RV_SAMPLES/S4_C01D_50P_ts_files/...  \n",
       "..                                                 ...  \n",
       "995  ../data/SYNTH_RV_SAMPLES/S4_C01D_50P_ts_files/...  \n",
       "996  ../data/SYNTH_RV_SAMPLES/S4_C01D_50P_ts_files/...  \n",
       "997  ../data/SYNTH_RV_SAMPLES/S4_C01D_50P_ts_files/...  \n",
       "998  ../data/SYNTH_RV_SAMPLES/S4_C01D_50P_ts_files/...  \n",
       "999  ../data/SYNTH_RV_SAMPLES/S4_C01D_50P_ts_files/...  \n",
       "\n",
       "[1000 rows x 29 columns]"
      ]
     },
     "execution_count": 20,
     "metadata": {},
     "output_type": "execute_result"
    }
   ],
   "source": [
    "datasets"
   ]
  },
  {
   "cell_type": "markdown",
   "id": "988d3740",
   "metadata": {},
   "source": [
    "### Show the last curves generated"
   ]
  },
  {
   "cell_type": "markdown",
   "id": "dd128ef3",
   "metadata": {
    "ExecuteTime": {
     "end_time": "2022-04-23T12:00:02.854745Z",
     "start_time": "2022-04-23T12:00:02.843744Z"
    }
   },
   "source": [
    "#### Basic parameters of the curve"
   ]
  },
  {
   "cell_type": "code",
   "execution_count": 21,
   "id": "1d3c2677",
   "metadata": {
    "ExecuteTime": {
     "end_time": "2023-02-03T08:50:35.301954Z",
     "start_time": "2023-02-03T08:50:35.284002Z"
    }
   },
   "outputs": [
    {
     "name": "stdout",
     "output_type": "stream",
     "text": [
      "PARAMETERS OF THE CURVE:\n",
      "Star type: Pulsating star\n",
      "Amplitude: 14.920000\n",
      "Frequency: 41.100000\n",
      "Reference epoch: 2457782.389700\n",
      "Phase: 0.120000\n",
      "Offset: 0.000000\n",
      "Benchmark (perfect) sampling period: 0.001600\n",
      "Benchmark (perfect) observation time: 100.000000\n"
     ]
    }
   ],
   "source": [
    "# Basic parameters:\n",
    "print(\"PARAMETERS OF THE CURVE:\")\n",
    "if datasets.loc[i, 'Pulsating'] == True:\n",
    "    print(\"Star type: Pulsating star\")\n",
    "    print(\"Amplitude: %f\" %amplitudeRV[0])\n",
    "    print(\"Frequency: %f\" %frequency[0])\n",
    "    print(\"Reference epoch: %f\" %refepochRV[0])\n",
    "    print(\"Phase: %f\" %phase[0])\n",
    "    print(\"Offset: %f\" %offsetRV)\n",
    "    print(\"Benchmark (perfect) sampling period: %f\" %Ps)\n",
    "    print(\"Benchmark (perfect) observation time: %f\" %Tobs)\n",
    "else:\n",
    "    print(\"Star type: Non-pulsating star\")\n",
    "    print(\"Amplitude: %f\" %amplitudeRV)\n",
    "    print(\"Frequency: %f\" %frequency)\n",
    "    print(\"Reference epoch: %f\" %refepochRV[0])\n",
    "    print(\"Phase: %f\" %phase)\n",
    "    print(\"Offset: %f\" %offsetRV)\n",
    "    print(\"Benchmark (perfect) sampling period: %f\" %Ps)\n",
    "    print(\"Benchmark (perfect) observation time: %f\" %Tobs)    "
   ]
  },
  {
   "cell_type": "markdown",
   "id": "9a1efd00",
   "metadata": {},
   "source": [
    "#### Simplified, quick plots"
   ]
  },
  {
   "cell_type": "code",
   "execution_count": 22,
   "id": "b4a71a8d",
   "metadata": {
    "ExecuteTime": {
     "end_time": "2023-02-03T08:50:41.112370Z",
     "start_time": "2023-02-03T08:50:40.093103Z"
    }
   },
   "outputs": [
    {
     "data": {
      "text/plain": [
       "[<matplotlib.lines.Line2D at 0x157d001e6a0>]"
      ]
     },
     "execution_count": 22,
     "metadata": {},
     "output_type": "execute_result"
    },
    {
     "data": {
      "image/png": "[encoded data removed]",
      "text/plain": [
       "<Figure size 640x480 with 1 Axes>"
      ]
     },
     "metadata": {},
     "output_type": "display_data"
    }
   ],
   "source": [
    "# S1 benchmark curve:\n",
    "plt.plot(ds1_time, ds1_value)"
   ]
  },
  {
   "cell_type": "code",
   "execution_count": 23,
   "id": "f659e59e",
   "metadata": {
    "ExecuteTime": {
     "end_time": "2023-02-03T08:50:41.670449Z",
     "start_time": "2023-02-03T08:50:41.499823Z"
    }
   },
   "outputs": [
    {
     "data": {
      "image/png": "[encoded data removed]",
      "text/plain": [
       "<Figure size 640x480 with 1 Axes>"
      ]
     },
     "metadata": {},
     "output_type": "display_data"
    }
   ],
   "source": [
    "# S1 benchmark curve - Only 1 period:\n",
    "try:\n",
    "    # Pulsating star:\n",
    "    plt.plot(ds1_time, ds1_value)\n",
    "    plt.xlim(ds1_time.min(), ds1_time.min()+1/frequency[0])\n",
    "except:\n",
    "    # Non pulsating star:\n",
    "    plt.plot(ds1_time, ds1_value)\n",
    "    #plt.xlim(ds1_time.min(), ds1_time.min()+1/frequency)    "
   ]
  },
  {
   "cell_type": "code",
   "execution_count": 24,
   "id": "3499cf90",
   "metadata": {
    "ExecuteTime": {
     "end_time": "2023-02-03T08:50:42.246686Z",
     "start_time": "2023-02-03T08:50:42.069038Z"
    }
   },
   "outputs": [
    {
     "data": {
      "image/png": "[encoded data removed]",
      "text/plain": [
       "<Figure size 640x480 with 1 Axes>"
      ]
     },
     "metadata": {},
     "output_type": "display_data"
    }
   ],
   "source": [
    "# S1 benchmark curve - Only 3 periods:\n",
    "try:\n",
    "    # Pulsating star:\n",
    "    plt.plot(ds1_time, ds1_value)\n",
    "    plt.xlim(ds1_time.min(), ds1_time.min()+3.0/frequency[0])\n",
    "except:\n",
    "    # Non pulsating star:\n",
    "    plt.plot(ds1_time, ds1_value)\n",
    "    #plt.xlim(ds1_time.min(), ds1_time.min()+1/frequency)    "
   ]
  },
  {
   "cell_type": "code",
   "execution_count": 25,
   "id": "a26b32a8",
   "metadata": {
    "ExecuteTime": {
     "end_time": "2023-02-03T08:50:43.660676Z",
     "start_time": "2023-02-03T08:50:42.732723Z"
    }
   },
   "outputs": [
    {
     "data": {
      "image/png": "[encoded data removed]",
      "text/plain": [
       "<Figure size 640x480 with 1 Axes>"
      ]
     },
     "metadata": {},
     "output_type": "display_data"
    }
   ],
   "source": [
    "# S1 and S2 curves:\n",
    "plt.plot(ds1_time, ds2_value, label='S2')\n",
    "plt.plot(ds1_time, ds1_value, label='S1')\n",
    "plt.legend()\n",
    "plt.show();"
   ]
  },
  {
   "cell_type": "code",
   "execution_count": 26,
   "id": "267979e3",
   "metadata": {
    "ExecuteTime": {
     "end_time": "2023-02-03T08:50:43.832281Z",
     "start_time": "2023-02-03T08:50:43.662648Z"
    }
   },
   "outputs": [
    {
     "data": {
      "image/png": "[encoded data removed]",
      "text/plain": [
       "<Figure size 640x480 with 1 Axes>"
      ]
     },
     "metadata": {},
     "output_type": "display_data"
    }
   ],
   "source": [
    "# DS3 and DS4 curves:\n",
    "plt.plot(ds3_time, ds4_value, label='S4')\n",
    "plt.plot(ds3_time, ds3_value, label='S3')\n",
    "plt.legend()\n",
    "plt.show();"
   ]
  },
  {
   "cell_type": "markdown",
   "id": "703bcc34",
   "metadata": {},
   "source": [
    "#### More elaborated plots"
   ]
  },
  {
   "cell_type": "code",
   "execution_count": 27,
   "id": "a3b34f17",
   "metadata": {
    "ExecuteTime": {
     "end_time": "2023-02-03T08:50:48.602926Z",
     "start_time": "2023-02-03T08:50:44.548879Z"
    }
   },
   "outputs": [
    {
     "data": {
      "image/png": "[encoded data removed]",
      "text/plain": [
       "<Figure size 1000x700 with 1 Axes>"
      ]
     },
     "metadata": {},
     "output_type": "display_data"
    }
   ],
   "source": [
    "# S1 and S2 curves:\n",
    "plt.figure(figsize=(10,7))\n",
    "plt.title(\"Example - Synthetic curves generated with ML subsample parameters\\n\" \\\n",
    "          \"Pulsating star. Noiseless curve and noisy curve\", fontsize=16)\n",
    "plt.grid(axis='both', alpha=0.75)\n",
    "plt.xlabel(\"Time [JD]\", fontsize=12)\n",
    "plt.ylabel('RV [$ms^{-1}$]', fontsize=12)\n",
    "sns.lineplot(x=ds1_time.flatten(), y=ds2_value.flatten(), label='S2 - Noisy curve')\n",
    "sns.lineplot(x=ds1_time.flatten(), y=ds1_value.flatten(), label='S1 - Noiseless curve')\n",
    "plt.savefig(IMAGE_FOLDER + \"SyntheticDataset_28_01_Example_Synthetic_curves_MS_subsample_S1_S2.jpg\", format='jpg')\n",
    "plt.show();"
   ]
  },
  {
   "cell_type": "code",
   "execution_count": 28,
   "id": "3fdf5507",
   "metadata": {
    "ExecuteTime": {
     "end_time": "2023-02-03T08:50:49.453100Z",
     "start_time": "2023-02-03T08:50:49.116969Z"
    }
   },
   "outputs": [
    {
     "data": {
      "image/png": "[encoded data removed]",
      "text/plain": [
       "<Figure size 1000x700 with 1 Axes>"
      ]
     },
     "metadata": {},
     "output_type": "display_data"
    }
   ],
   "source": [
    "# S3 and S4 curves:\n",
    "plt.figure(figsize=(10,7))\n",
    "plt.title(\"Example - Synthetic curves generated with ML subsample parameters\\n\" \\\n",
    "          \"Pulsating star. Irregularly sampled curves: noiseless and noisy\", fontsize=16)\n",
    "plt.grid(axis='both', alpha=0.75)\n",
    "plt.xlabel(\"Time [JD]\", fontsize=12)\n",
    "plt.ylabel('RV [$ms^{-1}$]', fontsize=12)\n",
    "sns.lineplot(x=ds3_time.flatten(), y=ds4_value.flatten(), label='S4 - Irregularly sampled, noisy curve')\n",
    "sns.lineplot(x=ds3_time.flatten(), y=ds3_value.flatten(), label='S3 - Irregularly sampled, noiseless curve')\n",
    "plt.savefig(IMAGE_FOLDER + \"SyntheticDataset_28_02_Example_Synthetic_curves_ML_subsample_S3_S4.jpg\", format='jpg')\n",
    "plt.show();"
   ]
  },
  {
   "cell_type": "code",
   "execution_count": null,
   "id": "d05ca6fd",
   "metadata": {},
   "outputs": [],
   "source": []
  }
 ],
 "metadata": {
  "kernelspec": {
   "display_name": "Python 3 (ipykernel)",
   "language": "python",
   "name": "python3"
  },
  "language_info": {
   "codemirror_mode": {
    "name": "ipython",
    "version": 3
   },
   "file_extension": ".py",
   "mimetype": "text/x-python",
   "name": "python",
   "nbconvert_exporter": "python",
   "pygments_lexer": "ipython3",
   "version": "3.8.8"
  },
  "latex_envs": {
   "LaTeX_envs_menu_present": true,
   "autoclose": false,
   "autocomplete": true,
   "bibliofile": "biblio.bib",
   "cite_by": "apalike",
   "current_citInitial": 1,
   "eqLabelWithNumbers": true,
   "eqNumInitial": 1,
   "hotkeys": {
    "equation": "Ctrl-E",
    "itemize": "Ctrl-I"
   },
   "labels_anchors": false,
   "latex_user_defs": false,
   "report_style_numbering": false,
   "user_envs_cfg": false
  },
  "toc": {
   "base_numbering": 1,
   "nav_menu": {},
   "number_sections": true,
   "sideBar": true,
   "skip_h1_title": true,
   "title_cell": "Table of Contents",
   "title_sidebar": "Contents",
   "toc_cell": false,
   "toc_position": {
    "height": "calc(100% - 180px)",
    "left": "10px",
    "top": "150px",
    "width": "384px"
   },
   "toc_section_display": true,
   "toc_window_display": true
  }
 },
 "nbformat": 4,
 "nbformat_minor": 5
}
