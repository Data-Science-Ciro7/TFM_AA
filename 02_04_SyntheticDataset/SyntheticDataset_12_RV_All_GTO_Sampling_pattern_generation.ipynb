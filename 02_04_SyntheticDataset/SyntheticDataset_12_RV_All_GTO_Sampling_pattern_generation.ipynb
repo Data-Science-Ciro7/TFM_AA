{
 "cells": [
  {
   "cell_type": "markdown",
   "id": "0cbdabe3",
   "metadata": {},
   "source": [
    "# CARMENES RV CURVES SAMPLING PATTERN POOL"
   ]
  },
  {
   "cell_type": "markdown",
   "id": "65f4a717",
   "metadata": {},
   "source": [
    "In this notebook we generate the pool of sampling patterns from the **all GTO** available CARMENES RV curves that we will use to modify the basic synthetic dataset to get a modeled dataset as similar as possible to the real CARMENES dataset."
   ]
  },
  {
   "cell_type": "markdown",
   "id": "b2a75ce0",
   "metadata": {},
   "source": [
    "## Modules and configuration"
   ]
  },
  {
   "cell_type": "markdown",
   "id": "14cf3d60",
   "metadata": {},
   "source": [
    "### Modules"
   ]
  },
  {
   "cell_type": "code",
   "execution_count": 2,
   "id": "126c894f",
   "metadata": {
    "ExecuteTime": {
     "end_time": "2022-04-23T11:24:17.435494Z",
     "start_time": "2022-04-23T11:24:17.418698Z"
    }
   },
   "outputs": [],
   "source": [
    "import pandas as pd\n",
    "import numpy as np\n",
    "import json\n"
   ]
  },
  {
   "cell_type": "markdown",
   "id": "f4425908",
   "metadata": {},
   "source": [
    "### Configuration"
   ]
  },
  {
   "cell_type": "code",
   "execution_count": 3,
   "id": "d4da36a6",
   "metadata": {
    "ExecuteTime": {
     "end_time": "2022-04-23T11:24:19.562505Z",
     "start_time": "2022-04-23T11:24:19.549501Z"
    }
   },
   "outputs": [],
   "source": [
    "GTO_FILE = \"../data/GTO_objects_with_PG.csv\"\n",
    "DIST_FILES_FOLDER = \"./DIST_FILES/\"\n",
    "\n",
    "RV_PATTERN_POOL_FILE = \"RV_All_GTO_sampling_patterns.csv\""
   ]
  },
  {
   "cell_type": "markdown",
   "id": "1fb50e88",
   "metadata": {},
   "source": [
    "### Functions"
   ]
  },
  {
   "cell_type": "code",
   "execution_count": 4,
   "id": "43d28013",
   "metadata": {
    "ExecuteTime": {
     "end_time": "2022-04-23T11:24:23.687776Z",
     "start_time": "2022-04-23T11:24:23.677131Z"
    }
   },
   "outputs": [],
   "source": [
    "def rv_extract_sampling(rv_filename):\n",
    "    '''Reads a CARMENES RV curve file and returns the sampling pattern as a list of time differences,\n",
    "    referred to the time of the initial sample point'''\n",
    "    try:\n",
    "        rv_ts = pd.read_csv(rv_filename, sep=' ', decimal='.', names=['time', 'rv', 'rv_error'])\n",
    "        ref_time = rv_ts['time'].min()\n",
    "        sampling_pattern = (rv_ts['time'] - ref_time).tolist()\n",
    "    except Exception as e:\n",
    "        print(\"***ERROR: an error happened with file %s. Error: %s\" %(rv_filename, str(e)))\n",
    "        sampling_pattern = None\n",
    "    return sampling_pattern"
   ]
  },
  {
   "cell_type": "markdown",
   "id": "0367648a",
   "metadata": {},
   "source": [
    "## Load the GTO file"
   ]
  },
  {
   "cell_type": "code",
   "execution_count": 5,
   "id": "3ce881a7",
   "metadata": {
    "ExecuteTime": {
     "end_time": "2022-04-23T11:24:25.937457Z",
     "start_time": "2022-04-23T11:24:25.874626Z"
    }
   },
   "outputs": [
    {
     "data": {
      "text/html": [
       "<div>\n",
       "<style scoped>\n",
       "    .dataframe tbody tr th:only-of-type {\n",
       "        vertical-align: middle;\n",
       "    }\n",
       "\n",
       "    .dataframe tbody tr th {\n",
       "        vertical-align: top;\n",
       "    }\n",
       "\n",
       "    .dataframe thead th {\n",
       "        text-align: right;\n",
       "    }\n",
       "</style>\n",
       "<table border=\"1\" class=\"dataframe\">\n",
       "  <thead>\n",
       "    <tr style=\"text-align: right;\">\n",
       "      <th></th>\n",
       "      <th>Karmn</th>\n",
       "      <th>Name</th>\n",
       "      <th>Comp</th>\n",
       "      <th>GJ</th>\n",
       "      <th>RA_J2016_deg</th>\n",
       "      <th>DE_J2016_deg</th>\n",
       "      <th>RA_J2000</th>\n",
       "      <th>DE_J2000</th>\n",
       "      <th>l_J2016_deg</th>\n",
       "      <th>b_J2016_deg</th>\n",
       "      <th>...</th>\n",
       "      <th>T0_PG_TESS</th>\n",
       "      <th>e_T0_PG_TESS</th>\n",
       "      <th>offset_PG_TESS</th>\n",
       "      <th>e_offset_PG_TESS</th>\n",
       "      <th>FAP_PG_TESS</th>\n",
       "      <th>valid_PG_TESS</th>\n",
       "      <th>error_PG_TESS</th>\n",
       "      <th>elapsed_time_PG_TESS</th>\n",
       "      <th>fits_file_TESS</th>\n",
       "      <th>fig_file_TESS</th>\n",
       "    </tr>\n",
       "  </thead>\n",
       "  <tbody>\n",
       "    <tr>\n",
       "      <th>0</th>\n",
       "      <td>J23585+076</td>\n",
       "      <td>Wolf 1051</td>\n",
       "      <td>AB</td>\n",
       "      <td>4383</td>\n",
       "      <td>359.636420</td>\n",
       "      <td>7.656947</td>\n",
       "      <td>23:58:32.65</td>\n",
       "      <td>+07:39:30.1</td>\n",
       "      <td>100.839686</td>\n",
       "      <td>-52.931049</td>\n",
       "      <td>...</td>\n",
       "      <td>NaN</td>\n",
       "      <td>NaN</td>\n",
       "      <td>NaN</td>\n",
       "      <td>NaN</td>\n",
       "      <td>NaN</td>\n",
       "      <td>0.0</td>\n",
       "      <td>Not recognized as a supported data product:\\nn...</td>\n",
       "      <td>0.002199</td>\n",
       "      <td>NaN</td>\n",
       "      <td>NaN</td>\n",
       "    </tr>\n",
       "    <tr>\n",
       "      <th>1</th>\n",
       "      <td>J23556-061</td>\n",
       "      <td>GJ 912</td>\n",
       "      <td>AB</td>\n",
       "      <td>912</td>\n",
       "      <td>358.913617</td>\n",
       "      <td>-6.144283</td>\n",
       "      <td>23:55:39.78</td>\n",
       "      <td>-06:08:33.4</td>\n",
       "      <td>88.129933</td>\n",
       "      <td>-65.175491</td>\n",
       "      <td>...</td>\n",
       "      <td>NaN</td>\n",
       "      <td>NaN</td>\n",
       "      <td>NaN</td>\n",
       "      <td>NaN</td>\n",
       "      <td>NaN</td>\n",
       "      <td>0.0</td>\n",
       "      <td>Not recognized as a supported data product:\\nn...</td>\n",
       "      <td>0.000974</td>\n",
       "      <td>NaN</td>\n",
       "      <td>NaN</td>\n",
       "    </tr>\n",
       "    <tr>\n",
       "      <th>2</th>\n",
       "      <td>J23548+385</td>\n",
       "      <td>RX J2354.8+3831</td>\n",
       "      <td>-</td>\n",
       "      <td>NaN</td>\n",
       "      <td>358.713658</td>\n",
       "      <td>38.526340</td>\n",
       "      <td>23:54:51.46</td>\n",
       "      <td>+38:31:36.2</td>\n",
       "      <td>110.941908</td>\n",
       "      <td>-23.024449</td>\n",
       "      <td>...</td>\n",
       "      <td>1764.609498</td>\n",
       "      <td>0.010704</td>\n",
       "      <td>8262.219751</td>\n",
       "      <td>1.365667</td>\n",
       "      <td>1.000000</td>\n",
       "      <td>1.0</td>\n",
       "      <td>NaN</td>\n",
       "      <td>344.002685</td>\n",
       "      <td>../data/CARMENES_GTO_TESS_PGs/J23548+385_TESS_...</td>\n",
       "      <td>../data/CARMENES_GTO_TESS_PGs/figures/J23548+3...</td>\n",
       "    </tr>\n",
       "    <tr>\n",
       "      <th>3</th>\n",
       "      <td>J23505-095</td>\n",
       "      <td>LP 763-012</td>\n",
       "      <td>-</td>\n",
       "      <td>4367</td>\n",
       "      <td>357.634705</td>\n",
       "      <td>-9.560964</td>\n",
       "      <td>23:50:31.64</td>\n",
       "      <td>-09:33:32.7</td>\n",
       "      <td>80.777067</td>\n",
       "      <td>-67.303426</td>\n",
       "      <td>...</td>\n",
       "      <td>1354.108815</td>\n",
       "      <td>0.001261</td>\n",
       "      <td>7767.134654</td>\n",
       "      <td>0.094298</td>\n",
       "      <td>0.064148</td>\n",
       "      <td>1.0</td>\n",
       "      <td>NaN</td>\n",
       "      <td>473.533042</td>\n",
       "      <td>../data/CARMENES_GTO_TESS_PGs/J23505-095_TESS_...</td>\n",
       "      <td>../data/CARMENES_GTO_TESS_PGs/figures/J23505-0...</td>\n",
       "    </tr>\n",
       "    <tr>\n",
       "      <th>4</th>\n",
       "      <td>J23492+024</td>\n",
       "      <td>BR Psc</td>\n",
       "      <td>-</td>\n",
       "      <td>908</td>\n",
       "      <td>357.306604</td>\n",
       "      <td>2.396918</td>\n",
       "      <td>23:49:12.53</td>\n",
       "      <td>+02:24:04.4</td>\n",
       "      <td>93.567467</td>\n",
       "      <td>-56.885396</td>\n",
       "      <td>...</td>\n",
       "      <td>NaN</td>\n",
       "      <td>NaN</td>\n",
       "      <td>NaN</td>\n",
       "      <td>NaN</td>\n",
       "      <td>NaN</td>\n",
       "      <td>0.0</td>\n",
       "      <td>Not recognized as a supported data product:\\nn...</td>\n",
       "      <td>0.000984</td>\n",
       "      <td>NaN</td>\n",
       "      <td>NaN</td>\n",
       "    </tr>\n",
       "  </tbody>\n",
       "</table>\n",
       "<p>5 rows × 248 columns</p>\n",
       "</div>"
      ],
      "text/plain": [
       "        Karmn             Name Comp    GJ  RA_J2016_deg  DE_J2016_deg  \\\n",
       "0  J23585+076        Wolf 1051   AB  4383    359.636420      7.656947   \n",
       "1  J23556-061           GJ 912   AB   912    358.913617     -6.144283   \n",
       "2  J23548+385  RX J2354.8+3831    -   NaN    358.713658     38.526340   \n",
       "3  J23505-095       LP 763-012    -  4367    357.634705     -9.560964   \n",
       "4  J23492+024           BR Psc    -   908    357.306604      2.396918   \n",
       "\n",
       "      RA_J2000     DE_J2000  l_J2016_deg  b_J2016_deg  ...   T0_PG_TESS  \\\n",
       "0  23:58:32.65  +07:39:30.1   100.839686   -52.931049  ...          NaN   \n",
       "1  23:55:39.78  -06:08:33.4    88.129933   -65.175491  ...          NaN   \n",
       "2  23:54:51.46  +38:31:36.2   110.941908   -23.024449  ...  1764.609498   \n",
       "3  23:50:31.64  -09:33:32.7    80.777067   -67.303426  ...  1354.108815   \n",
       "4  23:49:12.53  +02:24:04.4    93.567467   -56.885396  ...          NaN   \n",
       "\n",
       "  e_T0_PG_TESS  offset_PG_TESS e_offset_PG_TESS  FAP_PG_TESS  valid_PG_TESS  \\\n",
       "0          NaN             NaN              NaN          NaN            0.0   \n",
       "1          NaN             NaN              NaN          NaN            0.0   \n",
       "2     0.010704     8262.219751         1.365667     1.000000            1.0   \n",
       "3     0.001261     7767.134654         0.094298     0.064148            1.0   \n",
       "4          NaN             NaN              NaN          NaN            0.0   \n",
       "\n",
       "                                       error_PG_TESS  elapsed_time_PG_TESS  \\\n",
       "0  Not recognized as a supported data product:\\nn...              0.002199   \n",
       "1  Not recognized as a supported data product:\\nn...              0.000974   \n",
       "2                                                NaN            344.002685   \n",
       "3                                                NaN            473.533042   \n",
       "4  Not recognized as a supported data product:\\nn...              0.000984   \n",
       "\n",
       "                                      fits_file_TESS  \\\n",
       "0                                                NaN   \n",
       "1                                                NaN   \n",
       "2  ../data/CARMENES_GTO_TESS_PGs/J23548+385_TESS_...   \n",
       "3  ../data/CARMENES_GTO_TESS_PGs/J23505-095_TESS_...   \n",
       "4                                                NaN   \n",
       "\n",
       "                                       fig_file_TESS  \n",
       "0                                                NaN  \n",
       "1                                                NaN  \n",
       "2  ../data/CARMENES_GTO_TESS_PGs/figures/J23548+3...  \n",
       "3  ../data/CARMENES_GTO_TESS_PGs/figures/J23505-0...  \n",
       "4                                                NaN  \n",
       "\n",
       "[5 rows x 248 columns]"
      ]
     },
     "execution_count": 5,
     "metadata": {},
     "output_type": "execute_result"
    }
   ],
   "source": [
    "gto = pd.read_csv(GTO_FILE, sep=',', decimal='.')\n",
    "gto.head()"
   ]
  },
  {
   "cell_type": "markdown",
   "id": "3d34a3e0",
   "metadata": {},
   "source": [
    "### Clean the object list"
   ]
  },
  {
   "cell_type": "markdown",
   "id": "47440784",
   "metadata": {},
   "source": [
    "To be on the safe side, we remove the objects that gave trouble during the RV periodogram calculations:"
   ]
  },
  {
   "cell_type": "code",
   "execution_count": 6,
   "id": "9ab198a5",
   "metadata": {
    "ExecuteTime": {
     "end_time": "2022-04-23T11:26:02.902001Z",
     "start_time": "2022-04-23T11:26:02.885046Z"
    }
   },
   "outputs": [
    {
     "data": {
      "text/plain": [
       "92     J17572+707\n",
       "99     J17198+417\n",
       "115    J16102-193\n",
       "260    J07051-101\n",
       "270    J06318+414\n",
       "273    J06103+821\n",
       "309    J04173+088\n",
       "344    J01352-072\n",
       "Name: Karmn, dtype: object"
      ]
     },
     "execution_count": 6,
     "metadata": {},
     "output_type": "execute_result"
    }
   ],
   "source": [
    "gto.loc[gto['valid_PG_RV'] == 0, 'Karmn']"
   ]
  },
  {
   "cell_type": "code",
   "execution_count": 7,
   "id": "6db6b0ba",
   "metadata": {
    "ExecuteTime": {
     "end_time": "2022-04-23T11:26:07.063969Z",
     "start_time": "2022-04-23T11:26:07.030062Z"
    }
   },
   "outputs": [
    {
     "data": {
      "text/html": [
       "<div>\n",
       "<style scoped>\n",
       "    .dataframe tbody tr th:only-of-type {\n",
       "        vertical-align: middle;\n",
       "    }\n",
       "\n",
       "    .dataframe tbody tr th {\n",
       "        vertical-align: top;\n",
       "    }\n",
       "\n",
       "    .dataframe thead th {\n",
       "        text-align: right;\n",
       "    }\n",
       "</style>\n",
       "<table border=\"1\" class=\"dataframe\">\n",
       "  <thead>\n",
       "    <tr style=\"text-align: right;\">\n",
       "      <th></th>\n",
       "      <th>index</th>\n",
       "      <th>Karmn</th>\n",
       "      <th>Name</th>\n",
       "      <th>Comp</th>\n",
       "      <th>GJ</th>\n",
       "      <th>RA_J2016_deg</th>\n",
       "      <th>DE_J2016_deg</th>\n",
       "      <th>RA_J2000</th>\n",
       "      <th>DE_J2000</th>\n",
       "      <th>l_J2016_deg</th>\n",
       "      <th>...</th>\n",
       "      <th>T0_PG_TESS</th>\n",
       "      <th>e_T0_PG_TESS</th>\n",
       "      <th>offset_PG_TESS</th>\n",
       "      <th>e_offset_PG_TESS</th>\n",
       "      <th>FAP_PG_TESS</th>\n",
       "      <th>valid_PG_TESS</th>\n",
       "      <th>error_PG_TESS</th>\n",
       "      <th>elapsed_time_PG_TESS</th>\n",
       "      <th>fits_file_TESS</th>\n",
       "      <th>fig_file_TESS</th>\n",
       "    </tr>\n",
       "  </thead>\n",
       "  <tbody>\n",
       "    <tr>\n",
       "      <th>0</th>\n",
       "      <td>0</td>\n",
       "      <td>J23585+076</td>\n",
       "      <td>Wolf 1051</td>\n",
       "      <td>AB</td>\n",
       "      <td>4383</td>\n",
       "      <td>359.636420</td>\n",
       "      <td>7.656947</td>\n",
       "      <td>23:58:32.65</td>\n",
       "      <td>+07:39:30.1</td>\n",
       "      <td>100.839686</td>\n",
       "      <td>...</td>\n",
       "      <td>NaN</td>\n",
       "      <td>NaN</td>\n",
       "      <td>NaN</td>\n",
       "      <td>NaN</td>\n",
       "      <td>NaN</td>\n",
       "      <td>0.0</td>\n",
       "      <td>Not recognized as a supported data product:\\nn...</td>\n",
       "      <td>0.002199</td>\n",
       "      <td>NaN</td>\n",
       "      <td>NaN</td>\n",
       "    </tr>\n",
       "    <tr>\n",
       "      <th>1</th>\n",
       "      <td>1</td>\n",
       "      <td>J23556-061</td>\n",
       "      <td>GJ 912</td>\n",
       "      <td>AB</td>\n",
       "      <td>912</td>\n",
       "      <td>358.913617</td>\n",
       "      <td>-6.144283</td>\n",
       "      <td>23:55:39.78</td>\n",
       "      <td>-06:08:33.4</td>\n",
       "      <td>88.129933</td>\n",
       "      <td>...</td>\n",
       "      <td>NaN</td>\n",
       "      <td>NaN</td>\n",
       "      <td>NaN</td>\n",
       "      <td>NaN</td>\n",
       "      <td>NaN</td>\n",
       "      <td>0.0</td>\n",
       "      <td>Not recognized as a supported data product:\\nn...</td>\n",
       "      <td>0.000974</td>\n",
       "      <td>NaN</td>\n",
       "      <td>NaN</td>\n",
       "    </tr>\n",
       "    <tr>\n",
       "      <th>2</th>\n",
       "      <td>2</td>\n",
       "      <td>J23548+385</td>\n",
       "      <td>RX J2354.8+3831</td>\n",
       "      <td>-</td>\n",
       "      <td>NaN</td>\n",
       "      <td>358.713658</td>\n",
       "      <td>38.526340</td>\n",
       "      <td>23:54:51.46</td>\n",
       "      <td>+38:31:36.2</td>\n",
       "      <td>110.941908</td>\n",
       "      <td>...</td>\n",
       "      <td>1764.609498</td>\n",
       "      <td>0.010704</td>\n",
       "      <td>8262.219751</td>\n",
       "      <td>1.365667</td>\n",
       "      <td>1.000000</td>\n",
       "      <td>1.0</td>\n",
       "      <td>NaN</td>\n",
       "      <td>344.002685</td>\n",
       "      <td>../data/CARMENES_GTO_TESS_PGs/J23548+385_TESS_...</td>\n",
       "      <td>../data/CARMENES_GTO_TESS_PGs/figures/J23548+3...</td>\n",
       "    </tr>\n",
       "    <tr>\n",
       "      <th>3</th>\n",
       "      <td>3</td>\n",
       "      <td>J23505-095</td>\n",
       "      <td>LP 763-012</td>\n",
       "      <td>-</td>\n",
       "      <td>4367</td>\n",
       "      <td>357.634705</td>\n",
       "      <td>-9.560964</td>\n",
       "      <td>23:50:31.64</td>\n",
       "      <td>-09:33:32.7</td>\n",
       "      <td>80.777067</td>\n",
       "      <td>...</td>\n",
       "      <td>1354.108815</td>\n",
       "      <td>0.001261</td>\n",
       "      <td>7767.134654</td>\n",
       "      <td>0.094298</td>\n",
       "      <td>0.064148</td>\n",
       "      <td>1.0</td>\n",
       "      <td>NaN</td>\n",
       "      <td>473.533042</td>\n",
       "      <td>../data/CARMENES_GTO_TESS_PGs/J23505-095_TESS_...</td>\n",
       "      <td>../data/CARMENES_GTO_TESS_PGs/figures/J23505-0...</td>\n",
       "    </tr>\n",
       "    <tr>\n",
       "      <th>4</th>\n",
       "      <td>4</td>\n",
       "      <td>J23492+024</td>\n",
       "      <td>BR Psc</td>\n",
       "      <td>-</td>\n",
       "      <td>908</td>\n",
       "      <td>357.306604</td>\n",
       "      <td>2.396918</td>\n",
       "      <td>23:49:12.53</td>\n",
       "      <td>+02:24:04.4</td>\n",
       "      <td>93.567467</td>\n",
       "      <td>...</td>\n",
       "      <td>NaN</td>\n",
       "      <td>NaN</td>\n",
       "      <td>NaN</td>\n",
       "      <td>NaN</td>\n",
       "      <td>NaN</td>\n",
       "      <td>0.0</td>\n",
       "      <td>Not recognized as a supported data product:\\nn...</td>\n",
       "      <td>0.000984</td>\n",
       "      <td>NaN</td>\n",
       "      <td>NaN</td>\n",
       "    </tr>\n",
       "  </tbody>\n",
       "</table>\n",
       "<p>5 rows × 249 columns</p>\n",
       "</div>"
      ],
      "text/plain": [
       "   index       Karmn             Name Comp    GJ  RA_J2016_deg  DE_J2016_deg  \\\n",
       "0      0  J23585+076        Wolf 1051   AB  4383    359.636420      7.656947   \n",
       "1      1  J23556-061           GJ 912   AB   912    358.913617     -6.144283   \n",
       "2      2  J23548+385  RX J2354.8+3831    -   NaN    358.713658     38.526340   \n",
       "3      3  J23505-095       LP 763-012    -  4367    357.634705     -9.560964   \n",
       "4      4  J23492+024           BR Psc    -   908    357.306604      2.396918   \n",
       "\n",
       "      RA_J2000     DE_J2000  l_J2016_deg  ...   T0_PG_TESS e_T0_PG_TESS  \\\n",
       "0  23:58:32.65  +07:39:30.1   100.839686  ...          NaN          NaN   \n",
       "1  23:55:39.78  -06:08:33.4    88.129933  ...          NaN          NaN   \n",
       "2  23:54:51.46  +38:31:36.2   110.941908  ...  1764.609498     0.010704   \n",
       "3  23:50:31.64  -09:33:32.7    80.777067  ...  1354.108815     0.001261   \n",
       "4  23:49:12.53  +02:24:04.4    93.567467  ...          NaN          NaN   \n",
       "\n",
       "  offset_PG_TESS  e_offset_PG_TESS FAP_PG_TESS  valid_PG_TESS  \\\n",
       "0            NaN               NaN         NaN            0.0   \n",
       "1            NaN               NaN         NaN            0.0   \n",
       "2    8262.219751          1.365667    1.000000            1.0   \n",
       "3    7767.134654          0.094298    0.064148            1.0   \n",
       "4            NaN               NaN         NaN            0.0   \n",
       "\n",
       "                                       error_PG_TESS  elapsed_time_PG_TESS  \\\n",
       "0  Not recognized as a supported data product:\\nn...              0.002199   \n",
       "1  Not recognized as a supported data product:\\nn...              0.000974   \n",
       "2                                                NaN            344.002685   \n",
       "3                                                NaN            473.533042   \n",
       "4  Not recognized as a supported data product:\\nn...              0.000984   \n",
       "\n",
       "                                      fits_file_TESS  \\\n",
       "0                                                NaN   \n",
       "1                                                NaN   \n",
       "2  ../data/CARMENES_GTO_TESS_PGs/J23548+385_TESS_...   \n",
       "3  ../data/CARMENES_GTO_TESS_PGs/J23505-095_TESS_...   \n",
       "4                                                NaN   \n",
       "\n",
       "                                       fig_file_TESS  \n",
       "0                                                NaN  \n",
       "1                                                NaN  \n",
       "2  ../data/CARMENES_GTO_TESS_PGs/figures/J23548+3...  \n",
       "3  ../data/CARMENES_GTO_TESS_PGs/figures/J23505-0...  \n",
       "4                                                NaN  \n",
       "\n",
       "[5 rows x 249 columns]"
      ]
     },
     "execution_count": 7,
     "metadata": {},
     "output_type": "execute_result"
    }
   ],
   "source": [
    "gto = gto[gto['valid_PG_RV'] == 1].reset_index().copy()\n",
    "gto.head()"
   ]
  },
  {
   "cell_type": "code",
   "execution_count": 8,
   "id": "de9335d2",
   "metadata": {
    "ExecuteTime": {
     "end_time": "2022-04-23T11:26:13.362099Z",
     "start_time": "2022-04-23T11:26:13.356116Z"
    }
   },
   "outputs": [
    {
     "data": {
      "text/plain": [
       "(355, 249)"
      ]
     },
     "execution_count": 8,
     "metadata": {},
     "output_type": "execute_result"
    }
   ],
   "source": [
    "gto.shape"
   ]
  },
  {
   "cell_type": "markdown",
   "id": "3e756931",
   "metadata": {},
   "source": [
    "## CARMENES RV sampling patterns pool"
   ]
  },
  {
   "cell_type": "markdown",
   "id": "d1a004c8",
   "metadata": {},
   "source": [
    "### Populate the pool"
   ]
  },
  {
   "cell_type": "code",
   "execution_count": 9,
   "id": "043273de",
   "metadata": {
    "ExecuteTime": {
     "end_time": "2022-04-23T11:26:24.311513Z",
     "start_time": "2022-04-23T11:26:24.298548Z"
    }
   },
   "outputs": [
    {
     "data": {
      "text/html": [
       "<div>\n",
       "<style scoped>\n",
       "    .dataframe tbody tr th:only-of-type {\n",
       "        vertical-align: middle;\n",
       "    }\n",
       "\n",
       "    .dataframe tbody tr th {\n",
       "        vertical-align: top;\n",
       "    }\n",
       "\n",
       "    .dataframe thead th {\n",
       "        text-align: right;\n",
       "    }\n",
       "</style>\n",
       "<table border=\"1\" class=\"dataframe\">\n",
       "  <thead>\n",
       "    <tr style=\"text-align: right;\">\n",
       "      <th></th>\n",
       "      <th>sampling_delta_RV</th>\n",
       "    </tr>\n",
       "  </thead>\n",
       "  <tbody>\n",
       "  </tbody>\n",
       "</table>\n",
       "</div>"
      ],
      "text/plain": [
       "Empty DataFrame\n",
       "Columns: [sampling_delta_RV]\n",
       "Index: []"
      ]
     },
     "execution_count": 9,
     "metadata": {},
     "output_type": "execute_result"
    }
   ],
   "source": [
    "# Initialize the results array\n",
    "rv_patterns = pd.DataFrame(columns=['sampling_delta_RV'])\n",
    "rv_patterns"
   ]
  },
  {
   "cell_type": "code",
   "execution_count": 10,
   "id": "c9b17372",
   "metadata": {
    "ExecuteTime": {
     "end_time": "2022-04-23T11:26:27.761934Z",
     "start_time": "2022-04-23T11:26:26.869992Z"
    }
   },
   "outputs": [
    {
     "data": {
      "text/html": [
       "<div>\n",
       "<style scoped>\n",
       "    .dataframe tbody tr th:only-of-type {\n",
       "        vertical-align: middle;\n",
       "    }\n",
       "\n",
       "    .dataframe tbody tr th {\n",
       "        vertical-align: top;\n",
       "    }\n",
       "\n",
       "    .dataframe thead th {\n",
       "        text-align: right;\n",
       "    }\n",
       "</style>\n",
       "<table border=\"1\" class=\"dataframe\">\n",
       "  <thead>\n",
       "    <tr style=\"text-align: right;\">\n",
       "      <th></th>\n",
       "      <th>sampling_delta_RV</th>\n",
       "    </tr>\n",
       "  </thead>\n",
       "  <tbody>\n",
       "    <tr>\n",
       "      <th>350</th>\n",
       "      <td>[0.0, 10.991649999748915, 17.91978000011295, 2...</td>\n",
       "    </tr>\n",
       "    <tr>\n",
       "      <th>351</th>\n",
       "      <td>[0.0, 13.99055999983102, 18.00107999984175, 19...</td>\n",
       "    </tr>\n",
       "    <tr>\n",
       "      <th>352</th>\n",
       "      <td>[0.0, 1.0492699998430908, 2.0221199998632073, ...</td>\n",
       "    </tr>\n",
       "    <tr>\n",
       "      <th>353</th>\n",
       "      <td>[0.0, 0.999199999962002, 11.033569999970496, 1...</td>\n",
       "    </tr>\n",
       "    <tr>\n",
       "      <th>354</th>\n",
       "      <td>[0.0, 20.975219999905676, 188.3961300002411, 2...</td>\n",
       "    </tr>\n",
       "  </tbody>\n",
       "</table>\n",
       "</div>"
      ],
      "text/plain": [
       "                                     sampling_delta_RV\n",
       "350  [0.0, 10.991649999748915, 17.91978000011295, 2...\n",
       "351  [0.0, 13.99055999983102, 18.00107999984175, 19...\n",
       "352  [0.0, 1.0492699998430908, 2.0221199998632073, ...\n",
       "353  [0.0, 0.999199999962002, 11.033569999970496, 1...\n",
       "354  [0.0, 20.975219999905676, 188.3961300002411, 2..."
      ]
     },
     "execution_count": 10,
     "metadata": {},
     "output_type": "execute_result"
    }
   ],
   "source": [
    "# Populate the patterns:\n",
    "#for i in range(0,5): # TEST\n",
    "for i in range(0,len(gto)):\n",
    "    new_pattern = rv_extract_sampling(gto.loc[i, 'rv_file'])\n",
    "    rv_patterns = rv_patterns.append({'sampling_delta_RV': json.dumps(new_pattern)}, ignore_index=True)\n",
    "rv_patterns.tail()"
   ]
  },
  {
   "cell_type": "code",
   "execution_count": 11,
   "id": "992a5b9c",
   "metadata": {
    "ExecuteTime": {
     "end_time": "2022-04-23T11:26:34.741064Z",
     "start_time": "2022-04-23T11:26:34.725106Z"
    }
   },
   "outputs": [
    {
     "name": "stdout",
     "output_type": "stream",
     "text": [
      "[0.0, 20.975219999905676, 188.3961300002411, 205.38048000028357, 209.3837600001134, 210.3894600002095, 211.33719999995083, 220.15363000007346, 233.30207000020891, 236.28709000023082, 245.3053999999538, 247.20803000032902, 248.36134999990463, 249.32451000018045, 253.23772000009194, 257.2442999999039, 278.12988999998197, 285.1992100002244, 288.181510000024, 295.1172899999656, 305.06492999987677, 311.0662299999967, 510.30483999988064, 536.335820000153, 537.331430000253, 539.2210099999793, 546.3397200000472, 551.2010599998757, 554.1786000002176, 556.2090199999511, 560.3323099999689, 561.3038400001824, 562.3307000002824, 564.3055000002496, 565.3272500000894, 568.3514499999583, 570.3849400002509, 571.3390899999067, 577.1731400000863, 587.300980000291, 597.2429400002584, 600.2649199999869, 601.2674799999222, 602.3093000003137, 605.2399100000039, 607.2822199999355, 609.2366400002502, 630.1764000002295, 658.1371500003152, 659.1520799999125, 660.1032300000079, 693.2164799999446]\n"
     ]
    }
   ],
   "source": [
    "# See the last pattern added:\n",
    "print(new_pattern)"
   ]
  },
  {
   "cell_type": "markdown",
   "id": "c1024046",
   "metadata": {},
   "source": [
    "### Save the pool to a file"
   ]
  },
  {
   "cell_type": "code",
   "execution_count": 12,
   "id": "e8a3adc9",
   "metadata": {
    "ExecuteTime": {
     "end_time": "2022-04-23T11:26:42.141866Z",
     "start_time": "2022-04-23T11:26:42.117005Z"
    }
   },
   "outputs": [],
   "source": [
    "# Save the file:\n",
    "rv_patterns.to_csv(DIST_FILES_FOLDER + RV_PATTERN_POOL_FILE, sep=',', decimal='.', index=False)"
   ]
  },
  {
   "cell_type": "markdown",
   "id": "e830e0ec",
   "metadata": {},
   "source": [
    "### Test the access to the saved file and patterns"
   ]
  },
  {
   "cell_type": "code",
   "execution_count": 13,
   "id": "42f5e84e",
   "metadata": {
    "ExecuteTime": {
     "end_time": "2022-04-23T11:26:47.464917Z",
     "start_time": "2022-04-23T11:26:47.437941Z"
    }
   },
   "outputs": [
    {
     "data": {
      "text/html": [
       "<div>\n",
       "<style scoped>\n",
       "    .dataframe tbody tr th:only-of-type {\n",
       "        vertical-align: middle;\n",
       "    }\n",
       "\n",
       "    .dataframe tbody tr th {\n",
       "        vertical-align: top;\n",
       "    }\n",
       "\n",
       "    .dataframe thead th {\n",
       "        text-align: right;\n",
       "    }\n",
       "</style>\n",
       "<table border=\"1\" class=\"dataframe\">\n",
       "  <thead>\n",
       "    <tr style=\"text-align: right;\">\n",
       "      <th></th>\n",
       "      <th>sampling_delta_RV</th>\n",
       "    </tr>\n",
       "  </thead>\n",
       "  <tbody>\n",
       "    <tr>\n",
       "      <th>350</th>\n",
       "      <td>[0.0, 10.991649999748915, 17.91978000011295, 2...</td>\n",
       "    </tr>\n",
       "    <tr>\n",
       "      <th>351</th>\n",
       "      <td>[0.0, 13.99055999983102, 18.00107999984175, 19...</td>\n",
       "    </tr>\n",
       "    <tr>\n",
       "      <th>352</th>\n",
       "      <td>[0.0, 1.0492699998430908, 2.0221199998632073, ...</td>\n",
       "    </tr>\n",
       "    <tr>\n",
       "      <th>353</th>\n",
       "      <td>[0.0, 0.999199999962002, 11.033569999970496, 1...</td>\n",
       "    </tr>\n",
       "    <tr>\n",
       "      <th>354</th>\n",
       "      <td>[0.0, 20.975219999905676, 188.3961300002411, 2...</td>\n",
       "    </tr>\n",
       "  </tbody>\n",
       "</table>\n",
       "</div>"
      ],
      "text/plain": [
       "                                     sampling_delta_RV\n",
       "350  [0.0, 10.991649999748915, 17.91978000011295, 2...\n",
       "351  [0.0, 13.99055999983102, 18.00107999984175, 19...\n",
       "352  [0.0, 1.0492699998430908, 2.0221199998632073, ...\n",
       "353  [0.0, 0.999199999962002, 11.033569999970496, 1...\n",
       "354  [0.0, 20.975219999905676, 188.3961300002411, 2..."
      ]
     },
     "execution_count": 13,
     "metadata": {},
     "output_type": "execute_result"
    }
   ],
   "source": [
    "# Check file re-reading:\n",
    "reloaded_patterns = pd.read_csv(DIST_FILES_FOLDER + RV_PATTERN_POOL_FILE, sep=',', decimal='.')\n",
    "reloaded_patterns.tail()"
   ]
  },
  {
   "cell_type": "code",
   "execution_count": 14,
   "id": "8f7f36df",
   "metadata": {
    "ExecuteTime": {
     "end_time": "2022-04-23T11:26:48.926612Z",
     "start_time": "2022-04-23T11:26:48.909657Z"
    }
   },
   "outputs": [
    {
     "data": {
      "text/plain": [
       "'[0.0, 353.87464999966323, 353.95542999962345, 401.82480999967083, 467.70063999993727, 482.88781999982893, 495.69307000003755, 501.62616999959573, 541.754229999613, 560.7125699999742, 1180.5783999999985]'"
      ]
     },
     "execution_count": 14,
     "metadata": {},
     "output_type": "execute_result"
    }
   ],
   "source": [
    "# Check pattern access:\n",
    "recovered_pattern = reloaded_patterns.iloc[238,0]\n",
    "recovered_pattern"
   ]
  },
  {
   "cell_type": "code",
   "execution_count": 15,
   "id": "533c9e28",
   "metadata": {
    "ExecuteTime": {
     "end_time": "2022-04-23T11:26:51.019381Z",
     "start_time": "2022-04-23T11:26:51.005445Z"
    }
   },
   "outputs": [
    {
     "name": "stdout",
     "output_type": "stream",
     "text": [
      "[0.0, 353.87464999966323, 353.95542999962345, 401.82480999967083, 467.70063999993727, 482.88781999982893, 495.69307000003755, 501.62616999959573, 541.754229999613, 560.7125699999742, 1180.5783999999985]\n"
     ]
    }
   ],
   "source": [
    "# Notice that we need to convert this string to an array:\n",
    "rec_pattern_array = json.loads(recovered_pattern)\n",
    "print(rec_pattern_array)"
   ]
  },
  {
   "cell_type": "code",
   "execution_count": 16,
   "id": "52612813",
   "metadata": {
    "ExecuteTime": {
     "end_time": "2022-04-23T11:26:51.700802Z",
     "start_time": "2022-04-23T11:26:51.692823Z"
    }
   },
   "outputs": [
    {
     "data": {
      "text/plain": [
       "list"
      ]
     },
     "execution_count": 16,
     "metadata": {},
     "output_type": "execute_result"
    }
   ],
   "source": [
    "type(rec_pattern_array)"
   ]
  },
  {
   "cell_type": "code",
   "execution_count": 17,
   "id": "aac88d49",
   "metadata": {
    "ExecuteTime": {
     "end_time": "2022-04-23T11:26:52.781815Z",
     "start_time": "2022-04-23T11:26:52.772839Z"
    }
   },
   "outputs": [
    {
     "data": {
      "text/plain": [
       "467.70063999993727"
      ]
     },
     "execution_count": 17,
     "metadata": {},
     "output_type": "execute_result"
    }
   ],
   "source": [
    "# Check access to a given pattern position:\n",
    "rec_pattern_array[4]"
   ]
  },
  {
   "cell_type": "markdown",
   "id": "f18ff5e6",
   "metadata": {},
   "source": [
    "## Summary"
   ]
  },
  {
   "cell_type": "markdown",
   "id": "41bffda6",
   "metadata": {
    "ExecuteTime": {
     "end_time": "2022-04-21T09:25:17.615626Z",
     "start_time": "2022-04-21T09:25:17.593718Z"
    }
   },
   "source": [
    "**CONCLUSIONS:**\n",
    "- We have generated a pool of sampling patterns for all GTO CARMENES RV curves (but for the 8 problematic records) that will be later used to affect the benchmark synthetic database with irregular sampling in a random way."
   ]
  },
  {
   "cell_type": "code",
   "execution_count": null,
   "id": "fd2cbd02",
   "metadata": {},
   "outputs": [],
   "source": []
  }
 ],
 "metadata": {
  "kernelspec": {
   "display_name": "Python 3",
   "language": "python",
   "name": "python3"
  },
  "language_info": {
   "codemirror_mode": {
    "name": "ipython",
    "version": 3
   },
   "file_extension": ".py",
   "mimetype": "text/x-python",
   "name": "python",
   "nbconvert_exporter": "python",
   "pygments_lexer": "ipython3",
   "version": "3.8.8"
  },
  "toc": {
   "base_numbering": 1,
   "nav_menu": {},
   "number_sections": true,
   "sideBar": true,
   "skip_h1_title": true,
   "title_cell": "Table of Contents",
   "title_sidebar": "Contents",
   "toc_cell": false,
   "toc_position": {},
   "toc_section_display": true,
   "toc_window_display": true
  }
 },
 "nbformat": 4,
 "nbformat_minor": 5
}
