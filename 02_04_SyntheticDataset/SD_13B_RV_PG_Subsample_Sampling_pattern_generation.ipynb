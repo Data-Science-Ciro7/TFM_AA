{
 "cells": [
  {
   "cell_type": "markdown",
   "id": "0cbdabe3",
   "metadata": {},
   "source": [
    "# GENERATION OF SAMPLING PATTERN AND NOISE DISTRIBUTIONS POOLS FROM THE PG SUBSAMPLE"
   ]
  },
  {
   "cell_type": "markdown",
   "id": "65f4a717",
   "metadata": {},
   "source": [
    "In this notebook we generate the pools of sampling patterns and noise distributions from the PG subsample of CARMENES RV curves that we will use to modify the basic synthetic dataset to get a modeled dataset as similar as possible to the real PG subsample dataset."
   ]
  },
  {
   "cell_type": "markdown",
   "id": "b2a75ce0",
   "metadata": {},
   "source": [
    "## Modules and configuration"
   ]
  },
  {
   "cell_type": "markdown",
   "id": "14cf3d60",
   "metadata": {},
   "source": [
    "### Modules"
   ]
  },
  {
   "cell_type": "code",
   "execution_count": 1,
   "id": "126c894f",
   "metadata": {
    "ExecuteTime": {
     "end_time": "2023-01-12T11:56:54.347231Z",
     "start_time": "2023-01-12T11:56:53.465880Z"
    }
   },
   "outputs": [],
   "source": [
    "import sys\n",
    "import os\n",
    "import pandas as pd\n",
    "import numpy as np\n",
    "import json\n",
    "\n",
    "from IPython.display import clear_output\n",
    "\n",
    "from scipy.stats import pearsonr, ttest_ind, normaltest\n",
    "\n",
    "from distfit import distfit\n",
    "\n",
    "import matplotlib.pyplot as plt\n",
    "import seaborn as sns\n",
    "sns.set_style(\"white\", {'figure.figsize':(15,10)})"
   ]
  },
  {
   "cell_type": "markdown",
   "id": "f4425908",
   "metadata": {},
   "source": [
    "### Configuration"
   ]
  },
  {
   "cell_type": "code",
   "execution_count": 2,
   "id": "d4da36a6",
   "metadata": {
    "ExecuteTime": {
     "end_time": "2023-01-12T11:58:49.573667Z",
     "start_time": "2023-01-12T11:58:49.565686Z"
    }
   },
   "outputs": [],
   "source": [
    "GTO_FILE = \"../data/SELECTION_for_PG_CARM_VIS_objects_with_PG.csv\"\n",
    "DIST_FILES_FOLDER = \"../data/DIST_FILES/\"\n",
    "NOISE_DIST_FOLDER = \"../data/DIST_FILES/RV_PG_subsample_Stars_noise_dist/\"\n",
    "\n",
    "RV_PATTERN_POOL_FILE = \"RV_PG_subsample_sampling_patterns_and_noise.csv\"\n",
    "\n",
    "IMAGE_FOLDER = \"./img/\"\n",
    "\n",
    "RANDOM_STATE = 11 # For reproducibility\n",
    "\n",
    "N_TRIALS = 10 # Number of random noise samples to generate to test the goodness of fit.\n",
    "ALPHA = 1e-3 # Significance threshold for statistical tests"
   ]
  },
  {
   "cell_type": "markdown",
   "id": "1fb50e88",
   "metadata": {},
   "source": [
    "### Functions"
   ]
  },
  {
   "cell_type": "raw",
   "id": "6ca90548",
   "metadata": {
    "ExecuteTime": {
     "end_time": "2022-04-23T11:24:23.687776Z",
     "start_time": "2022-04-23T11:24:23.677131Z"
    }
   },
   "source": [
    "def rv_extract_sampling(rv_filename):\n",
    "    '''Reads a CARMENES RV curve file and returns the sampling pattern as a list of time differences,\n",
    "    referred to the time of the initial sample point'''\n",
    "    try:\n",
    "        rv_ts = pd.read_csv(rv_filename, sep=' ', decimal='.', names=['time', 'rv', 'rv_error'])\n",
    "        ref_time = rv_ts['time'].min()\n",
    "        sampling_pattern = (rv_ts['time'] - ref_time).tolist()\n",
    "    except Exception as e:\n",
    "        print(\"***ERROR: an error happened with file %s. Error: %s\" %(rv_filename, str(e)))\n",
    "        sampling_pattern = None\n",
    "    return sampling_pattern"
   ]
  },
  {
   "cell_type": "code",
   "execution_count": 3,
   "id": "26b5ac26",
   "metadata": {
    "ExecuteTime": {
     "end_time": "2023-01-12T11:58:52.414716Z",
     "start_time": "2023-01-12T11:58:52.398759Z"
    }
   },
   "outputs": [],
   "source": [
    "def noise_fit_goodness(source_data, fitted_dist, num_trials, src_min=None, src_max=None):\n",
    "    '''Returns a median of the p-value for a given number of T-test independence values,\n",
    "    calculated between a source data and asample from a distribution fitted to that\n",
    "    source data. Also return a median of the generated values that fall outside the range\n",
    "    of the source data.'''\n",
    "    \n",
    "    # Code to silence output is from Alex Martelli and Nick T at:\n",
    "    # https://stackoverflow.com/questions/2828953/silence-the-stdout-of-a-function-in-python-without-trashing-sys-stdout-and-resto\n",
    "    # Redirect output to a file\n",
    "    save_stdout = sys.stdout\n",
    "    sys.stdout = open('trash', 'w')\n",
    "\n",
    "    p_values = []\n",
    "    oor_values = []\n",
    "    if src_min is None:\n",
    "        src_min = source_data.min()\n",
    "    if src_max is None:\n",
    "        src_max = source_data.max()\n",
    "    for trial in range(0, num_trials):\n",
    "        rnd_values = fitted_dist.generate(n=len(source_data), random_state=RANDOM_STATE)\n",
    "        #_, p = ttest_ind(source_data, rnd_values)\n",
    "        #oor_fraction = (sum(rnd_values < src_min) + sum(rnd_values > src_max)) / len(rnd_values)\n",
    "        #p_values.append(p)\n",
    "        #oor_values.append(oor_fraction)\n",
    "        oor_fraction = (sum(rnd_values < src_min) + sum(rnd_values > src_max)) / len(rnd_values)\n",
    "        oor_values.append(oor_fraction)\n",
    "        #_, p = ttest_ind(source_data, rnd_values)\n",
    "        _, ks_p = kstest(source_data, rnd_values)\n",
    "        p_values.append(ks_p)\n",
    "    \n",
    "    # Redirect output to screen again, and delete the file.\n",
    "    sys.stdout = save_stdout\n",
    "    os.remove('trash')\n",
    "    \n",
    "    return np.nanmedian(p_values), np.nanmedian(oor_values)\n",
    "    "
   ]
  },
  {
   "cell_type": "code",
   "execution_count": 4,
   "id": "a37aedc1",
   "metadata": {
    "ExecuteTime": {
     "end_time": "2023-01-12T11:58:53.021556Z",
     "start_time": "2023-01-12T11:58:53.006596Z"
    }
   },
   "outputs": [],
   "source": [
    "def rv_extract_sampling_and_noise(rv_filename):\n",
    "    '''Reads a CARMENES RV curve file and returns the sampling pattern as a list of time differences,\n",
    "    referred to the time of the initial sample point, and the best fit for the noise distribution,\n",
    "    as well as noise statistics and estimated goodness of fit for the noise'''\n",
    "    #if True: # TEST\n",
    "    try:\n",
    "        rv_ts = pd.read_csv(rv_filename, sep=' ', decimal='.', names=['time', 'rv', 'rv_error'])\n",
    "        # Extract sampling pattern:\n",
    "        ref_time = rv_ts['time'].min()\n",
    "        sampling_pattern = (rv_ts['time'] - ref_time).tolist()\n",
    "        # Calculate noise statistics:\n",
    "        rv_error_median = np.nanmedian(rv_ts['rv_error'])\n",
    "        rv_error_mean = np.nanmean(rv_ts['rv_error'])\n",
    "        rv_error_stdev = np.nanstd(rv_ts['rv_error'])\n",
    "        rv_error_min = np.nanmin(rv_ts['rv_error'])\n",
    "        rv_error_max = np.nanmax(rv_ts['rv_error'])\n",
    "        # Fit best noise distribution:\n",
    "        dist = distfit()\n",
    "        dist.fit_transform(pd.Series(rv_ts['rv_error']), verbose=0)\n",
    "        #if True: # TEST\n",
    "        try:\n",
    "            fit_p_value, fit_outliers_fraction = \\\n",
    "                noise_fit_goodness(source_data=rv_ts['rv_error'], fitted_dist=dist, num_trials=N_TRIALS,\n",
    "                                   src_min=rv_error_min, src_max=rv_error_max)\n",
    "        #else: # TEST\n",
    "        except:\n",
    "            fit_p_value, fit_outliers_fraction = 0.0, np.nan\n",
    "    #else: # TEST\n",
    "    except Exception as e:\n",
    "        print(\"***ERROR: an error happened with file %s. Error: %s\" %(rv_filename, str(e)))\n",
    "        sampling_pattern = None\n",
    "        fit_p_value = 0.0\n",
    "    return sampling_pattern, rv_error_min, rv_error_max, rv_error_median, rv_error_mean, rv_error_stdev, \\\n",
    "        dist, fit_p_value, fit_outliers_fraction"
   ]
  },
  {
   "cell_type": "code",
   "execution_count": 5,
   "id": "aa93b187",
   "metadata": {
    "ExecuteTime": {
     "end_time": "2023-01-12T11:58:53.567903Z",
     "start_time": "2023-01-12T11:58:53.549986Z"
    }
   },
   "outputs": [],
   "source": [
    "def draw_boxplot(data, x, y, fig_title, x_label, y_label, showfliers=None, fig_filename=None):\n",
    "    '''Draws a boxplot according to the arguments passed.'''\n",
    "    # Plots and saves the figure\n",
    "    #kwargs = dict(hist_kws={'alpha':.4}, kde_kws={'linewidth':2})\n",
    "    plt.figure(figsize=(10,7))\n",
    "    sns.boxplot(data=data, x=x, y=y, showfliers=showfliers)\n",
    "    plt.title(fig_title, fontsize=16)\n",
    "    plt.xlabel(x_label, fontsize=12)\n",
    "    plt.ylabel(y_label, fontsize=12)\n",
    "    #plt.grid(axis='both', alpha=0.75)\n",
    "    if fig_filename is None:\n",
    "        pass\n",
    "    else:\n",
    "        plt.savefig(fig_filename, format='png')\n"
   ]
  },
  {
   "cell_type": "code",
   "execution_count": 6,
   "id": "276200af",
   "metadata": {
    "ExecuteTime": {
     "end_time": "2023-01-12T11:58:54.129255Z",
     "start_time": "2023-01-12T11:58:54.110306Z"
    }
   },
   "outputs": [],
   "source": [
    "def scatter_graph(data, var_x, var_y, fig_title, x_label, y_label, fig_filename=None):\n",
    "    '''Plots a scatter plot of two columns of a dataframe.\n",
    "    It also calculates and shows Pearson's correlation coefficient.'''\n",
    "    #rv_x_var = var_x\n",
    "    #tess_y_var = var_y\n",
    "    #kwargs = dict(hist_kws={'alpha':.4}, kde_kws={'linewidth':2})\n",
    "    plt.figure(figsize=(10,7))\n",
    "    plt.title(fig_title, fontsize=16)\n",
    "    plt.grid(axis='both', alpha=0.75)\n",
    "    plt.xlabel(x_label, fontsize=12)\n",
    "    plt.ylabel(y_label, fontsize=12)\n",
    "    sns.scatterplot(data=data, x=var_x, y=var_y)\n",
    "#    plt.xlim(0.0, 1.0)\n",
    "#    plt.ylim(0.0, 1.0)    \n",
    "    plt.legend(loc='upper right');\n",
    "    # Save the image:\n",
    "    if fig_filename is None:\n",
    "        pass\n",
    "    else:\n",
    "        plt.savefig(fig_filename, format='png')\n",
    "    # Calculate the Pearson correlation coefficient between the two results:\n",
    "    corr, _ = pearsonr(data[var_x], data[var_y])\n",
    "    print('Pearson\\'s correlation value: %.3f' % corr)"
   ]
  },
  {
   "cell_type": "raw",
   "id": "142edd36",
   "metadata": {
    "ExecuteTime": {
     "end_time": "2022-11-29T06:52:41.280946Z",
     "start_time": "2022-11-29T06:52:41.266992Z"
    }
   },
   "source": [
    "def draw_violinplot(data, x, y, fig_title, x_label, y_label, showfliers=None, fig_filename=None):\n",
    "    '''Draws a boxplot according to the arguments passed.'''\n",
    "    # Plots and saves the figure\n",
    "    #kwargs = dict(hist_kws={'alpha':.4}, kde_kws={'linewidth':2})\n",
    "    plt.figure(figsize=(10,7))\n",
    "    sns.violinplot(data=data, x=x, y=y, showfliers=showfliers)\n",
    "    plt.title(fig_title, fontsize=16)\n",
    "    plt.xlabel(x_label, fontsize=12)\n",
    "    plt.ylabel(y_label, fontsize=12)\n",
    "    #plt.grid(axis='both', alpha=0.75)\n",
    "    if fig_filename is None:\n",
    "        pass\n",
    "    else:\n",
    "        plt.savefig(fig_filename, format='png')\n"
   ]
  },
  {
   "cell_type": "code",
   "execution_count": 7,
   "id": "fb2f1ef1",
   "metadata": {
    "ExecuteTime": {
     "end_time": "2023-01-12T11:58:55.659448Z",
     "start_time": "2023-01-12T11:58:55.646482Z"
    }
   },
   "outputs": [],
   "source": [
    "def draw_hist(d1, d1_label, fig_filename=None):\n",
    "    '''Draws an histogram of the values passed. It also calulates the statistics\n",
    "    and tests the goodness of fit by a Gaussian distribution'''\n",
    "    # Plots and saves the figure\n",
    "    kwargs = dict(hist_kws={'alpha':.4}, kde_kws={'linewidth':2})\n",
    "    plt.figure(figsize=(10,7))\n",
    "    plt.title(d1_label + \" values distribution\", fontsize=16)\n",
    "    plt.grid(axis='both', alpha=0.75)\n",
    "    plt.xlabel(d1_label, fontsize=12)\n",
    "    plt.ylabel('Frequency', fontsize=12)\n",
    "    sns.distplot(d1, label=d1_label, **kwargs)\n",
    "    #sns.histplot(d1, label=d1_label)\n",
    "    #plt.xlim(0,100)\n",
    "    #plt.legend(loc='upper right');\n",
    "    # Save the image:\n",
    "    if fig_filename is None:\n",
    "        pass\n",
    "    else:\n",
    "        plt.savefig(fig_filename, format='png')\n",
    "    # Display basic statistics:\n",
    "    print(pd.Series(d1).describe())\n",
    "    # Perform the normaltest (D'Agostino and Pearson) for Gaussian distribution fit:\n",
    "    k2, p = normaltest(d1)\n",
    "    alpha = ALPHA\n",
    "    print(\"p = {:g}\".format(p))\n",
    "    if p < alpha:  # null hypothesis: x comes from a normal distribution\n",
    "        print(\"***This distribution does NOT come from a Gaussian distribution\" \\\n",
    "              \"(with significance level = %.6f)\" %(1.0 - alpha))\n",
    "    else:\n",
    "        print(\"This distribution MIGHT COME come from Gaussian distribution\" \\\n",
    "              \"(with significance level = %.6f)\" %(1.0 - alpha))"
   ]
  },
  {
   "cell_type": "markdown",
   "id": "0367648a",
   "metadata": {},
   "source": [
    "## Load the PG subsample file"
   ]
  },
  {
   "cell_type": "code",
   "execution_count": 8,
   "id": "3ce881a7",
   "metadata": {
    "ExecuteTime": {
     "end_time": "2023-01-12T11:58:58.933261Z",
     "start_time": "2023-01-12T11:58:58.876418Z"
    }
   },
   "outputs": [
    {
     "data": {
      "text/html": [
       "<div>\n",
       "<style scoped>\n",
       "    .dataframe tbody tr th:only-of-type {\n",
       "        vertical-align: middle;\n",
       "    }\n",
       "\n",
       "    .dataframe tbody tr th {\n",
       "        vertical-align: top;\n",
       "    }\n",
       "\n",
       "    .dataframe thead th {\n",
       "        text-align: right;\n",
       "    }\n",
       "</style>\n",
       "<table border=\"1\" class=\"dataframe\">\n",
       "  <thead>\n",
       "    <tr style=\"text-align: right;\">\n",
       "      <th></th>\n",
       "      <th>Karmn</th>\n",
       "      <th>Name</th>\n",
       "      <th>Comp</th>\n",
       "      <th>GJ</th>\n",
       "      <th>RA_J2016_deg</th>\n",
       "      <th>DE_J2016_deg</th>\n",
       "      <th>RA_J2000</th>\n",
       "      <th>DE_J2000</th>\n",
       "      <th>l_J2016_deg</th>\n",
       "      <th>b_J2016_deg</th>\n",
       "      <th>...</th>\n",
       "      <th>WF_offset_PG_TESS</th>\n",
       "      <th>WF_e_offset_PG_TESS</th>\n",
       "      <th>WF_FAP_PG_TESS</th>\n",
       "      <th>WF_valid_PG_TESS</th>\n",
       "      <th>WF_error_PG_TESS</th>\n",
       "      <th>WF_elapsed_time_PG_TESS</th>\n",
       "      <th>WF_plain_file_TESS</th>\n",
       "      <th>WF_fig_file_TESS</th>\n",
       "      <th>PG_file_RV</th>\n",
       "      <th>PG_file_TESS</th>\n",
       "    </tr>\n",
       "  </thead>\n",
       "  <tbody>\n",
       "    <tr>\n",
       "      <th>0</th>\n",
       "      <td>J23548+385</td>\n",
       "      <td>RX J2354.8+3831</td>\n",
       "      <td>-</td>\n",
       "      <td>NaN</td>\n",
       "      <td>358.713658</td>\n",
       "      <td>38.526340</td>\n",
       "      <td>23:54:51.46</td>\n",
       "      <td>+38:31:36.2</td>\n",
       "      <td>110.941908</td>\n",
       "      <td>-23.024449</td>\n",
       "      <td>...</td>\n",
       "      <td>999.999756</td>\n",
       "      <td>2.151008e-06</td>\n",
       "      <td>1.0</td>\n",
       "      <td>1.0</td>\n",
       "      <td>NaN</td>\n",
       "      <td>94.758838</td>\n",
       "      <td>../data/CARM_VIS_TESS_WinFunc_PGs/WF_J23548+38...</td>\n",
       "      <td>../data/CARM_VIS_TESS_WinFunc_PGs/figures/WF_J...</td>\n",
       "      <td>../data/CARM_VIS_RVs_PGs/J23548+385_RV_PG.dat</td>\n",
       "      <td>../data/CARM_VIS_TESS_PGs/J23548+385_RV_PG.dat</td>\n",
       "    </tr>\n",
       "    <tr>\n",
       "      <th>1</th>\n",
       "      <td>J23505-095</td>\n",
       "      <td>LP 763-012</td>\n",
       "      <td>-</td>\n",
       "      <td>4367</td>\n",
       "      <td>357.634705</td>\n",
       "      <td>-9.560964</td>\n",
       "      <td>23:50:31.64</td>\n",
       "      <td>-09:33:32.7</td>\n",
       "      <td>80.777067</td>\n",
       "      <td>-67.303426</td>\n",
       "      <td>...</td>\n",
       "      <td>1000.000122</td>\n",
       "      <td>9.022946e-07</td>\n",
       "      <td>1.0</td>\n",
       "      <td>1.0</td>\n",
       "      <td>NaN</td>\n",
       "      <td>132.607176</td>\n",
       "      <td>../data/CARM_VIS_TESS_WinFunc_PGs/WF_J23505-09...</td>\n",
       "      <td>../data/CARM_VIS_TESS_WinFunc_PGs/figures/WF_J...</td>\n",
       "      <td>../data/CARM_VIS_RVs_PGs/J23505-095_RV_PG.dat</td>\n",
       "      <td>../data/CARM_VIS_TESS_PGs/J23505-095_RV_PG.dat</td>\n",
       "    </tr>\n",
       "    <tr>\n",
       "      <th>2</th>\n",
       "      <td>J23431+365</td>\n",
       "      <td>GJ 1289</td>\n",
       "      <td>-</td>\n",
       "      <td>1289</td>\n",
       "      <td>355.781509</td>\n",
       "      <td>36.536310</td>\n",
       "      <td>23:43:06.31</td>\n",
       "      <td>+36:32:13.1</td>\n",
       "      <td>107.922839</td>\n",
       "      <td>-24.336479</td>\n",
       "      <td>...</td>\n",
       "      <td>999.999512</td>\n",
       "      <td>4.306074e-06</td>\n",
       "      <td>1.0</td>\n",
       "      <td>1.0</td>\n",
       "      <td>NaN</td>\n",
       "      <td>97.939914</td>\n",
       "      <td>../data/CARM_VIS_TESS_WinFunc_PGs/WF_J23431+36...</td>\n",
       "      <td>../data/CARM_VIS_TESS_WinFunc_PGs/figures/WF_J...</td>\n",
       "      <td>../data/CARM_VIS_RVs_PGs/J23431+365_RV_PG.dat</td>\n",
       "      <td>../data/CARM_VIS_TESS_PGs/J23431+365_RV_PG.dat</td>\n",
       "    </tr>\n",
       "    <tr>\n",
       "      <th>3</th>\n",
       "      <td>J23381-162</td>\n",
       "      <td>G 273-093</td>\n",
       "      <td>-</td>\n",
       "      <td>4352</td>\n",
       "      <td>354.532687</td>\n",
       "      <td>-16.236514</td>\n",
       "      <td>23:38:08.16</td>\n",
       "      <td>-16:14:10.2</td>\n",
       "      <td>61.845437</td>\n",
       "      <td>-69.825220</td>\n",
       "      <td>...</td>\n",
       "      <td>1000.000122</td>\n",
       "      <td>9.022946e-07</td>\n",
       "      <td>1.0</td>\n",
       "      <td>1.0</td>\n",
       "      <td>NaN</td>\n",
       "      <td>136.603404</td>\n",
       "      <td>../data/CARM_VIS_TESS_WinFunc_PGs/WF_J23381-16...</td>\n",
       "      <td>../data/CARM_VIS_TESS_WinFunc_PGs/figures/WF_J...</td>\n",
       "      <td>../data/CARM_VIS_RVs_PGs/J23381-162_RV_PG.dat</td>\n",
       "      <td>../data/CARM_VIS_TESS_PGs/J23381-162_RV_PG.dat</td>\n",
       "    </tr>\n",
       "    <tr>\n",
       "      <th>4</th>\n",
       "      <td>J23245+578</td>\n",
       "      <td>BD+57 2735</td>\n",
       "      <td>-</td>\n",
       "      <td>895</td>\n",
       "      <td>351.126628</td>\n",
       "      <td>57.853057</td>\n",
       "      <td>23:24:30.51</td>\n",
       "      <td>+57:51:15.5</td>\n",
       "      <td>111.552287</td>\n",
       "      <td>-3.085183</td>\n",
       "      <td>...</td>\n",
       "      <td>999.999512</td>\n",
       "      <td>3.720858e-06</td>\n",
       "      <td>1.0</td>\n",
       "      <td>1.0</td>\n",
       "      <td>NaN</td>\n",
       "      <td>131.327304</td>\n",
       "      <td>../data/CARM_VIS_TESS_WinFunc_PGs/WF_J23245+57...</td>\n",
       "      <td>../data/CARM_VIS_TESS_WinFunc_PGs/figures/WF_J...</td>\n",
       "      <td>../data/CARM_VIS_RVs_PGs/J23245+578_RV_PG.dat</td>\n",
       "      <td>../data/CARM_VIS_TESS_PGs/J23245+578_RV_PG.dat</td>\n",
       "    </tr>\n",
       "  </tbody>\n",
       "</table>\n",
       "<p>5 rows × 300 columns</p>\n",
       "</div>"
      ],
      "text/plain": [
       "        Karmn             Name Comp    GJ  RA_J2016_deg  DE_J2016_deg  \\\n",
       "0  J23548+385  RX J2354.8+3831    -   NaN    358.713658     38.526340   \n",
       "1  J23505-095       LP 763-012    -  4367    357.634705     -9.560964   \n",
       "2  J23431+365          GJ 1289    -  1289    355.781509     36.536310   \n",
       "3  J23381-162        G 273-093    -  4352    354.532687    -16.236514   \n",
       "4  J23245+578       BD+57 2735    -   895    351.126628     57.853057   \n",
       "\n",
       "      RA_J2000     DE_J2000  l_J2016_deg  b_J2016_deg  ... WF_offset_PG_TESS  \\\n",
       "0  23:54:51.46  +38:31:36.2   110.941908   -23.024449  ...        999.999756   \n",
       "1  23:50:31.64  -09:33:32.7    80.777067   -67.303426  ...       1000.000122   \n",
       "2  23:43:06.31  +36:32:13.1   107.922839   -24.336479  ...        999.999512   \n",
       "3  23:38:08.16  -16:14:10.2    61.845437   -69.825220  ...       1000.000122   \n",
       "4  23:24:30.51  +57:51:15.5   111.552287    -3.085183  ...        999.999512   \n",
       "\n",
       "  WF_e_offset_PG_TESS  WF_FAP_PG_TESS WF_valid_PG_TESS  WF_error_PG_TESS  \\\n",
       "0        2.151008e-06             1.0              1.0               NaN   \n",
       "1        9.022946e-07             1.0              1.0               NaN   \n",
       "2        4.306074e-06             1.0              1.0               NaN   \n",
       "3        9.022946e-07             1.0              1.0               NaN   \n",
       "4        3.720858e-06             1.0              1.0               NaN   \n",
       "\n",
       "   WF_elapsed_time_PG_TESS                                 WF_plain_file_TESS  \\\n",
       "0                94.758838  ../data/CARM_VIS_TESS_WinFunc_PGs/WF_J23548+38...   \n",
       "1               132.607176  ../data/CARM_VIS_TESS_WinFunc_PGs/WF_J23505-09...   \n",
       "2                97.939914  ../data/CARM_VIS_TESS_WinFunc_PGs/WF_J23431+36...   \n",
       "3               136.603404  ../data/CARM_VIS_TESS_WinFunc_PGs/WF_J23381-16...   \n",
       "4               131.327304  ../data/CARM_VIS_TESS_WinFunc_PGs/WF_J23245+57...   \n",
       "\n",
       "                                    WF_fig_file_TESS  \\\n",
       "0  ../data/CARM_VIS_TESS_WinFunc_PGs/figures/WF_J...   \n",
       "1  ../data/CARM_VIS_TESS_WinFunc_PGs/figures/WF_J...   \n",
       "2  ../data/CARM_VIS_TESS_WinFunc_PGs/figures/WF_J...   \n",
       "3  ../data/CARM_VIS_TESS_WinFunc_PGs/figures/WF_J...   \n",
       "4  ../data/CARM_VIS_TESS_WinFunc_PGs/figures/WF_J...   \n",
       "\n",
       "                                      PG_file_RV  \\\n",
       "0  ../data/CARM_VIS_RVs_PGs/J23548+385_RV_PG.dat   \n",
       "1  ../data/CARM_VIS_RVs_PGs/J23505-095_RV_PG.dat   \n",
       "2  ../data/CARM_VIS_RVs_PGs/J23431+365_RV_PG.dat   \n",
       "3  ../data/CARM_VIS_RVs_PGs/J23381-162_RV_PG.dat   \n",
       "4  ../data/CARM_VIS_RVs_PGs/J23245+578_RV_PG.dat   \n",
       "\n",
       "                                     PG_file_TESS  \n",
       "0  ../data/CARM_VIS_TESS_PGs/J23548+385_RV_PG.dat  \n",
       "1  ../data/CARM_VIS_TESS_PGs/J23505-095_RV_PG.dat  \n",
       "2  ../data/CARM_VIS_TESS_PGs/J23431+365_RV_PG.dat  \n",
       "3  ../data/CARM_VIS_TESS_PGs/J23381-162_RV_PG.dat  \n",
       "4  ../data/CARM_VIS_TESS_PGs/J23245+578_RV_PG.dat  \n",
       "\n",
       "[5 rows x 300 columns]"
      ]
     },
     "execution_count": 8,
     "metadata": {},
     "output_type": "execute_result"
    }
   ],
   "source": [
    "gto = pd.read_csv(GTO_FILE, sep=',', decimal='.')\n",
    "gto.head()"
   ]
  },
  {
   "cell_type": "markdown",
   "id": "3d34a3e0",
   "metadata": {},
   "source": [
    "### Clean the object list"
   ]
  },
  {
   "cell_type": "markdown",
   "id": "47440784",
   "metadata": {},
   "source": [
    "To be on the safe side, we remove the objects that gave trouble during the RV periodogram calculations:"
   ]
  },
  {
   "cell_type": "code",
   "execution_count": 9,
   "id": "9ab198a5",
   "metadata": {
    "ExecuteTime": {
     "end_time": "2023-01-12T11:59:09.919388Z",
     "start_time": "2023-01-12T11:59:09.892460Z"
    }
   },
   "outputs": [
    {
     "data": {
      "text/plain": [
       "Series([], Name: Karmn, dtype: object)"
      ]
     },
     "execution_count": 9,
     "metadata": {},
     "output_type": "execute_result"
    }
   ],
   "source": [
    "gto.loc[gto['valid_PG_RV'] == 0, 'Karmn']"
   ]
  },
  {
   "cell_type": "code",
   "execution_count": 10,
   "id": "6db6b0ba",
   "metadata": {
    "ExecuteTime": {
     "end_time": "2023-01-12T11:59:13.541207Z",
     "start_time": "2023-01-12T11:59:13.518269Z"
    }
   },
   "outputs": [
    {
     "data": {
      "text/html": [
       "<div>\n",
       "<style scoped>\n",
       "    .dataframe tbody tr th:only-of-type {\n",
       "        vertical-align: middle;\n",
       "    }\n",
       "\n",
       "    .dataframe tbody tr th {\n",
       "        vertical-align: top;\n",
       "    }\n",
       "\n",
       "    .dataframe thead th {\n",
       "        text-align: right;\n",
       "    }\n",
       "</style>\n",
       "<table border=\"1\" class=\"dataframe\">\n",
       "  <thead>\n",
       "    <tr style=\"text-align: right;\">\n",
       "      <th></th>\n",
       "      <th>index</th>\n",
       "      <th>Karmn</th>\n",
       "      <th>Name</th>\n",
       "      <th>Comp</th>\n",
       "      <th>GJ</th>\n",
       "      <th>RA_J2016_deg</th>\n",
       "      <th>DE_J2016_deg</th>\n",
       "      <th>RA_J2000</th>\n",
       "      <th>DE_J2000</th>\n",
       "      <th>l_J2016_deg</th>\n",
       "      <th>...</th>\n",
       "      <th>WF_offset_PG_TESS</th>\n",
       "      <th>WF_e_offset_PG_TESS</th>\n",
       "      <th>WF_FAP_PG_TESS</th>\n",
       "      <th>WF_valid_PG_TESS</th>\n",
       "      <th>WF_error_PG_TESS</th>\n",
       "      <th>WF_elapsed_time_PG_TESS</th>\n",
       "      <th>WF_plain_file_TESS</th>\n",
       "      <th>WF_fig_file_TESS</th>\n",
       "      <th>PG_file_RV</th>\n",
       "      <th>PG_file_TESS</th>\n",
       "    </tr>\n",
       "  </thead>\n",
       "  <tbody>\n",
       "    <tr>\n",
       "      <th>0</th>\n",
       "      <td>0</td>\n",
       "      <td>J23548+385</td>\n",
       "      <td>RX J2354.8+3831</td>\n",
       "      <td>-</td>\n",
       "      <td>NaN</td>\n",
       "      <td>358.713658</td>\n",
       "      <td>38.526340</td>\n",
       "      <td>23:54:51.46</td>\n",
       "      <td>+38:31:36.2</td>\n",
       "      <td>110.941908</td>\n",
       "      <td>...</td>\n",
       "      <td>999.999756</td>\n",
       "      <td>2.151008e-06</td>\n",
       "      <td>1.0</td>\n",
       "      <td>1.0</td>\n",
       "      <td>NaN</td>\n",
       "      <td>94.758838</td>\n",
       "      <td>../data/CARM_VIS_TESS_WinFunc_PGs/WF_J23548+38...</td>\n",
       "      <td>../data/CARM_VIS_TESS_WinFunc_PGs/figures/WF_J...</td>\n",
       "      <td>../data/CARM_VIS_RVs_PGs/J23548+385_RV_PG.dat</td>\n",
       "      <td>../data/CARM_VIS_TESS_PGs/J23548+385_RV_PG.dat</td>\n",
       "    </tr>\n",
       "    <tr>\n",
       "      <th>1</th>\n",
       "      <td>1</td>\n",
       "      <td>J23505-095</td>\n",
       "      <td>LP 763-012</td>\n",
       "      <td>-</td>\n",
       "      <td>4367</td>\n",
       "      <td>357.634705</td>\n",
       "      <td>-9.560964</td>\n",
       "      <td>23:50:31.64</td>\n",
       "      <td>-09:33:32.7</td>\n",
       "      <td>80.777067</td>\n",
       "      <td>...</td>\n",
       "      <td>1000.000122</td>\n",
       "      <td>9.022946e-07</td>\n",
       "      <td>1.0</td>\n",
       "      <td>1.0</td>\n",
       "      <td>NaN</td>\n",
       "      <td>132.607176</td>\n",
       "      <td>../data/CARM_VIS_TESS_WinFunc_PGs/WF_J23505-09...</td>\n",
       "      <td>../data/CARM_VIS_TESS_WinFunc_PGs/figures/WF_J...</td>\n",
       "      <td>../data/CARM_VIS_RVs_PGs/J23505-095_RV_PG.dat</td>\n",
       "      <td>../data/CARM_VIS_TESS_PGs/J23505-095_RV_PG.dat</td>\n",
       "    </tr>\n",
       "    <tr>\n",
       "      <th>2</th>\n",
       "      <td>2</td>\n",
       "      <td>J23431+365</td>\n",
       "      <td>GJ 1289</td>\n",
       "      <td>-</td>\n",
       "      <td>1289</td>\n",
       "      <td>355.781509</td>\n",
       "      <td>36.536310</td>\n",
       "      <td>23:43:06.31</td>\n",
       "      <td>+36:32:13.1</td>\n",
       "      <td>107.922839</td>\n",
       "      <td>...</td>\n",
       "      <td>999.999512</td>\n",
       "      <td>4.306074e-06</td>\n",
       "      <td>1.0</td>\n",
       "      <td>1.0</td>\n",
       "      <td>NaN</td>\n",
       "      <td>97.939914</td>\n",
       "      <td>../data/CARM_VIS_TESS_WinFunc_PGs/WF_J23431+36...</td>\n",
       "      <td>../data/CARM_VIS_TESS_WinFunc_PGs/figures/WF_J...</td>\n",
       "      <td>../data/CARM_VIS_RVs_PGs/J23431+365_RV_PG.dat</td>\n",
       "      <td>../data/CARM_VIS_TESS_PGs/J23431+365_RV_PG.dat</td>\n",
       "    </tr>\n",
       "    <tr>\n",
       "      <th>3</th>\n",
       "      <td>3</td>\n",
       "      <td>J23381-162</td>\n",
       "      <td>G 273-093</td>\n",
       "      <td>-</td>\n",
       "      <td>4352</td>\n",
       "      <td>354.532687</td>\n",
       "      <td>-16.236514</td>\n",
       "      <td>23:38:08.16</td>\n",
       "      <td>-16:14:10.2</td>\n",
       "      <td>61.845437</td>\n",
       "      <td>...</td>\n",
       "      <td>1000.000122</td>\n",
       "      <td>9.022946e-07</td>\n",
       "      <td>1.0</td>\n",
       "      <td>1.0</td>\n",
       "      <td>NaN</td>\n",
       "      <td>136.603404</td>\n",
       "      <td>../data/CARM_VIS_TESS_WinFunc_PGs/WF_J23381-16...</td>\n",
       "      <td>../data/CARM_VIS_TESS_WinFunc_PGs/figures/WF_J...</td>\n",
       "      <td>../data/CARM_VIS_RVs_PGs/J23381-162_RV_PG.dat</td>\n",
       "      <td>../data/CARM_VIS_TESS_PGs/J23381-162_RV_PG.dat</td>\n",
       "    </tr>\n",
       "    <tr>\n",
       "      <th>4</th>\n",
       "      <td>4</td>\n",
       "      <td>J23245+578</td>\n",
       "      <td>BD+57 2735</td>\n",
       "      <td>-</td>\n",
       "      <td>895</td>\n",
       "      <td>351.126628</td>\n",
       "      <td>57.853057</td>\n",
       "      <td>23:24:30.51</td>\n",
       "      <td>+57:51:15.5</td>\n",
       "      <td>111.552287</td>\n",
       "      <td>...</td>\n",
       "      <td>999.999512</td>\n",
       "      <td>3.720858e-06</td>\n",
       "      <td>1.0</td>\n",
       "      <td>1.0</td>\n",
       "      <td>NaN</td>\n",
       "      <td>131.327304</td>\n",
       "      <td>../data/CARM_VIS_TESS_WinFunc_PGs/WF_J23245+57...</td>\n",
       "      <td>../data/CARM_VIS_TESS_WinFunc_PGs/figures/WF_J...</td>\n",
       "      <td>../data/CARM_VIS_RVs_PGs/J23245+578_RV_PG.dat</td>\n",
       "      <td>../data/CARM_VIS_TESS_PGs/J23245+578_RV_PG.dat</td>\n",
       "    </tr>\n",
       "  </tbody>\n",
       "</table>\n",
       "<p>5 rows × 301 columns</p>\n",
       "</div>"
      ],
      "text/plain": [
       "   index       Karmn             Name Comp    GJ  RA_J2016_deg  DE_J2016_deg  \\\n",
       "0      0  J23548+385  RX J2354.8+3831    -   NaN    358.713658     38.526340   \n",
       "1      1  J23505-095       LP 763-012    -  4367    357.634705     -9.560964   \n",
       "2      2  J23431+365          GJ 1289    -  1289    355.781509     36.536310   \n",
       "3      3  J23381-162        G 273-093    -  4352    354.532687    -16.236514   \n",
       "4      4  J23245+578       BD+57 2735    -   895    351.126628     57.853057   \n",
       "\n",
       "      RA_J2000     DE_J2000  l_J2016_deg  ...  WF_offset_PG_TESS  \\\n",
       "0  23:54:51.46  +38:31:36.2   110.941908  ...         999.999756   \n",
       "1  23:50:31.64  -09:33:32.7    80.777067  ...        1000.000122   \n",
       "2  23:43:06.31  +36:32:13.1   107.922839  ...         999.999512   \n",
       "3  23:38:08.16  -16:14:10.2    61.845437  ...        1000.000122   \n",
       "4  23:24:30.51  +57:51:15.5   111.552287  ...         999.999512   \n",
       "\n",
       "  WF_e_offset_PG_TESS WF_FAP_PG_TESS  WF_valid_PG_TESS WF_error_PG_TESS  \\\n",
       "0        2.151008e-06            1.0               1.0              NaN   \n",
       "1        9.022946e-07            1.0               1.0              NaN   \n",
       "2        4.306074e-06            1.0               1.0              NaN   \n",
       "3        9.022946e-07            1.0               1.0              NaN   \n",
       "4        3.720858e-06            1.0               1.0              NaN   \n",
       "\n",
       "   WF_elapsed_time_PG_TESS                                 WF_plain_file_TESS  \\\n",
       "0                94.758838  ../data/CARM_VIS_TESS_WinFunc_PGs/WF_J23548+38...   \n",
       "1               132.607176  ../data/CARM_VIS_TESS_WinFunc_PGs/WF_J23505-09...   \n",
       "2                97.939914  ../data/CARM_VIS_TESS_WinFunc_PGs/WF_J23431+36...   \n",
       "3               136.603404  ../data/CARM_VIS_TESS_WinFunc_PGs/WF_J23381-16...   \n",
       "4               131.327304  ../data/CARM_VIS_TESS_WinFunc_PGs/WF_J23245+57...   \n",
       "\n",
       "                                    WF_fig_file_TESS  \\\n",
       "0  ../data/CARM_VIS_TESS_WinFunc_PGs/figures/WF_J...   \n",
       "1  ../data/CARM_VIS_TESS_WinFunc_PGs/figures/WF_J...   \n",
       "2  ../data/CARM_VIS_TESS_WinFunc_PGs/figures/WF_J...   \n",
       "3  ../data/CARM_VIS_TESS_WinFunc_PGs/figures/WF_J...   \n",
       "4  ../data/CARM_VIS_TESS_WinFunc_PGs/figures/WF_J...   \n",
       "\n",
       "                                      PG_file_RV  \\\n",
       "0  ../data/CARM_VIS_RVs_PGs/J23548+385_RV_PG.dat   \n",
       "1  ../data/CARM_VIS_RVs_PGs/J23505-095_RV_PG.dat   \n",
       "2  ../data/CARM_VIS_RVs_PGs/J23431+365_RV_PG.dat   \n",
       "3  ../data/CARM_VIS_RVs_PGs/J23381-162_RV_PG.dat   \n",
       "4  ../data/CARM_VIS_RVs_PGs/J23245+578_RV_PG.dat   \n",
       "\n",
       "                                     PG_file_TESS  \n",
       "0  ../data/CARM_VIS_TESS_PGs/J23548+385_RV_PG.dat  \n",
       "1  ../data/CARM_VIS_TESS_PGs/J23505-095_RV_PG.dat  \n",
       "2  ../data/CARM_VIS_TESS_PGs/J23431+365_RV_PG.dat  \n",
       "3  ../data/CARM_VIS_TESS_PGs/J23381-162_RV_PG.dat  \n",
       "4  ../data/CARM_VIS_TESS_PGs/J23245+578_RV_PG.dat  \n",
       "\n",
       "[5 rows x 301 columns]"
      ]
     },
     "execution_count": 10,
     "metadata": {},
     "output_type": "execute_result"
    }
   ],
   "source": [
    "gto = gto[gto['valid_PG_RV'] == 1].reset_index().copy()\n",
    "gto.head()"
   ]
  },
  {
   "cell_type": "code",
   "execution_count": 11,
   "id": "de9335d2",
   "metadata": {
    "ExecuteTime": {
     "end_time": "2023-01-12T11:59:14.808242Z",
     "start_time": "2023-01-12T11:59:14.790259Z"
    }
   },
   "outputs": [
    {
     "data": {
      "text/plain": [
       "(269, 301)"
      ]
     },
     "execution_count": 11,
     "metadata": {},
     "output_type": "execute_result"
    }
   ],
   "source": [
    "gto.shape"
   ]
  },
  {
   "cell_type": "markdown",
   "id": "3e756931",
   "metadata": {},
   "source": [
    "## CARMENES PG subsample RV sampling patterns and noise distributions pool"
   ]
  },
  {
   "cell_type": "markdown",
   "id": "d1a004c8",
   "metadata": {},
   "source": [
    "### Populate the pools"
   ]
  },
  {
   "cell_type": "markdown",
   "id": "4c326582",
   "metadata": {},
   "source": [
    "Notice that we also trasfer some of the original data from the star, so that calculating some possible correlations later on will be easier."
   ]
  },
  {
   "cell_type": "code",
   "execution_count": 12,
   "id": "a9490803",
   "metadata": {
    "ExecuteTime": {
     "end_time": "2023-01-12T11:59:21.028596Z",
     "start_time": "2023-01-12T11:59:21.014634Z"
    }
   },
   "outputs": [
    {
     "name": "stdout",
     "output_type": "stream",
     "text": [
      "['index', 'Karmn', 'Name', 'Comp', 'GJ', 'RA_J2016_deg', 'DE_J2016_deg', 'RA_J2000', 'DE_J2000', 'l_J2016_deg', 'b_J2016_deg', 'Ref01', 'SpT', 'SpTnum', 'Ref02', 'Teff_K', 'eTeff_K', 'logg', 'elogg', '[Fe/H]', 'e[Fe/H]', 'Ref03', 'L_Lsol', 'eL_Lsol', 'Ref04', 'R_Rsol', 'eR_Rsol', 'Ref05', 'M_Msol', 'eM_Msol', 'Ref06', 'muRA_masa-1', 'emuRA_masa-1', 'muDE_masa-1', 'emuDE_masa-1', 'Ref07', 'pi_mas', 'epi_mas', 'Ref08', 'd_pc', 'ed_pc', 'Ref09', 'Vr_kms-1', 'eVr_kms-1', 'Ref10', 'ruwe', 'Ref11', 'U_kms-1', 'eU_kms-1', 'V_kms-1', 'eV_kms-1', 'W_kms-1', 'eW_kms-1', 'Ref12', 'sa_m/s/a', 'esa_m/s/a', 'Ref13', 'SKG', 'Ref14', 'SKG_lit', 'Ref14_lit', 'Pop', 'Ref15', 'vsini_flag', 'vsini_kms-1', 'evsini_kms-1', 'Ref16', 'P_d', 'eP_d', 'Ref17', 'pEWHalpha_A', 'epEWHalpha_A', 'Ref18', 'log(LHalpha/Lbol)', 'elog(LHalpha/Lbol)', 'Ref19', '1RXS', 'CRT_s-1', 'eCRT_s-1', 'HR1', 'eHR1', 'HR2', 'eHR2', 'Flux_X_E-13_ergcm-2s-1', 'eFlux_X_E-13_ergcm-2s-1', 'LX/LJ', 'eLX/LJ', 'Ref20', 'Activity', 'Ref21', 'FUV_mag', 'eFUV_mag', 'NUV_mag', 'eNUV_mag', 'Ref22', 'u_mag', 'eu_mag', 'Ref23', 'BT_mag', 'eBT_mag', 'Ref24', 'B_mag', 'eB_mag', 'Ref25', 'BP_mag', 'eBP_mag', 'Ref26', 'g_mag', 'eg_mag', 'Ref27', 'VT_mag', 'eVT_mag', 'Ref28', 'V_mag', 'eV_mag', 'Ref29', 'Ra_mag', 'Ref30', 'r_mag', 'er_mag', 'Ref31', 'GG_mag', 'eGG_mag', 'Ref32', 'i_mag', 'ei_mag', 'Ref33', 'RP_mag', 'eRP_mag', 'Ref34', 'IN_mag', 'Ref35', 'J_mag', 'eJ_mag', 'H_mag', 'eH_mag', 'Ks_mag', 'eKs_mag', 'QFlag_2M', 'Ref36', 'W1_mag', 'eW1_mag', 'W2_mag', 'eW2_mag', 'W3_mag', 'eW3_mag', 'W4_mag', 'eW4_mag', 'QFlag_WISE', 'Ref37', 'Multiplicity', 'WideWDS', 'Widerho_arcsec', 'eWiderho_arcsec', 'Ref38', 'WideCompanionName', 'WideCompanionSpT', 'CloseWDS', 'Closerho_arcsec', 'eCloserho_arcsec', 'Ref39', 'CloseCompanionSpT', 'RV', 'Planet', 'Ref40', 'PlanetNum', 'LoRes_spectrum', 'HiRes_spectrum', 'LoRes_imaging', 'HiRes_imaging', 'Class', 'Survey', 'Notes', 'Gaia_id_1', '2MASS_id', 'TIC_id', 'Teff_min_K', 'Teff_max_K', 'logg_min', 'logg_max', 'is_GTO', 'rv_file', 'lc_file', 'has_rv', 'has_lc', 'InstBand_nominal', 'InstBand_ranged', 'n_RV', 'Ps_RV', 'fs_RV', 'wmean_RV', 'wrms_RV', 'info_PG_RV', 'maxP_PG_RV', 'maxSNR_PG_RV', 'rms_PG_RV', 'f_PG_RV', 'e_f_PG_RV', 'Pd_PG_RV', 'e_Pd_PG_RV', 'Ph_PG_RV', 'e_Ph_PG_RV', 'Pm_PG_RV', 'e_Pm_PG_RV', 'A_PG_RV', 'e_A_PG_RV', 'ph_PG_RV', 'e_ph_PG_RV', 'T0_PG_RV', 'e_T0_PG_RV', 'offset_PG_RV', 'e_offset_PG_RV', 'FAP_PG_RV', 'valid_PG_RV', 'error_PG_RV', 'elapsed_time_PG_RV', 'fits_file_RV', 'fig_file_RV', 'n_TESS', 'Ps_TESS', 'fs_TESS', 'wmean_TESS', 'wrms_TESS', 'info_PG_TESS', 'maxP_PG_TESS', 'maxSNR_PG_TESS', 'rms_PG_TESS', 'f_PG_TESS', 'e_f_PG_TESS', 'Pd_PG_TESS', 'e_Pd_PG_TESS', 'Ph_PG_TESS', 'e_Ph_PG_TESS', 'Pm_PG_TESS', 'e_Pm_PG_TESS', 'A_PG_TESS', 'e_A_PG_TESS', 'ph_PG_TESS', 'e_ph_PG_TESS', 'T0_PG_TESS', 'e_T0_PG_TESS', 'offset_PG_TESS', 'e_offset_PG_TESS', 'FAP_PG_TESS', 'valid_PG_TESS', 'error_PG_TESS', 'elapsed_time_PG_TESS', 'fits_file_TESS', 'fig_file_TESS', 'WF_maxP_PG_RV', 'WF_maxSNR_PG_RV', 'WF_rms_PG_RV', 'WF_f_PG_RV', 'WF_e_f_PG_RV', 'WF_Pd_PG_RV', 'WF_e_Pd_PG_RV', 'WF_Ph_PG_RV', 'WF_e_Ph_PG_RV', 'WF_Pm_PG_RV', 'WF_e_Pm_PG_RV', 'WF_A_PG_RV', 'WF_e_A_PG_RV', 'WF_ph_PG_RV', 'WF_e_ph_PG_RV', 'WF_T0_PG_RV', 'WF_e_T0_PG_RV', 'WF_offset_PG_RV', 'WF_e_offset_PG_RV', 'WF_FAP_PG_RV', 'WF_valid_PG_RV', 'WF_error_PG_RV', 'WF_elapsed_time_PG_RV', 'WF_plain_file_RV', 'WF_fig_file_RV', 'WF_maxP_PG_TESS', 'WF_maxSNR_PG_TESS', 'WF_rms_PG_TESS', 'WF_f_PG_TESS', 'WF_e_f_PG_TESS', 'WF_Pd_PG_TESS', 'WF_e_Pd_PG_TESS', 'WF_Ph_PG_TESS', 'WF_e_Ph_PG_TESS', 'WF_Pm_PG_TESS', 'WF_e_Pm_PG_TESS', 'WF_A_PG_TESS', 'WF_e_A_PG_TESS', 'WF_ph_PG_TESS', 'WF_e_ph_PG_TESS', 'WF_T0_PG_TESS', 'WF_e_T0_PG_TESS', 'WF_offset_PG_TESS', 'WF_e_offset_PG_TESS', 'WF_FAP_PG_TESS', 'WF_valid_PG_TESS', 'WF_error_PG_TESS', 'WF_elapsed_time_PG_TESS', 'WF_plain_file_TESS', 'WF_fig_file_TESS', 'PG_file_RV', 'PG_file_TESS']\n"
     ]
    }
   ],
   "source": [
    "print(gto.columns.to_list())"
   ]
  },
  {
   "cell_type": "code",
   "execution_count": 13,
   "id": "6e6ebebd",
   "metadata": {
    "ExecuteTime": {
     "end_time": "2023-01-12T11:59:42.508412Z",
     "start_time": "2023-01-12T11:59:42.494449Z"
    }
   },
   "outputs": [
    {
     "name": "stdout",
     "output_type": "stream",
     "text": [
      "['RV-loud', nan, 'Flare?', 'Flare - RV-loud', 'Flare? - RV-loud', 'Flare']\n"
     ]
    }
   ],
   "source": [
    "print(gto['Activity'].unique().tolist())"
   ]
  },
  {
   "cell_type": "code",
   "execution_count": 14,
   "id": "c561db3b",
   "metadata": {
    "ExecuteTime": {
     "end_time": "2023-01-12T11:59:43.239662Z",
     "start_time": "2023-01-12T11:59:43.222706Z"
    }
   },
   "outputs": [
    {
     "data": {
      "text/plain": [
       "199"
      ]
     },
     "execution_count": 14,
     "metadata": {},
     "output_type": "execute_result"
    }
   ],
   "source": [
    "sum(gto['Activity'].isna())"
   ]
  },
  {
   "cell_type": "code",
   "execution_count": 15,
   "id": "043273de",
   "metadata": {
    "ExecuteTime": {
     "end_time": "2023-01-12T12:00:00.154919Z",
     "start_time": "2023-01-12T12:00:00.141954Z"
    }
   },
   "outputs": [
    {
     "data": {
      "text/html": [
       "<div>\n",
       "<style scoped>\n",
       "    .dataframe tbody tr th:only-of-type {\n",
       "        vertical-align: middle;\n",
       "    }\n",
       "\n",
       "    .dataframe tbody tr th {\n",
       "        vertical-align: top;\n",
       "    }\n",
       "\n",
       "    .dataframe thead th {\n",
       "        text-align: right;\n",
       "    }\n",
       "</style>\n",
       "<table border=\"1\" class=\"dataframe\">\n",
       "  <thead>\n",
       "    <tr style=\"text-align: right;\">\n",
       "      <th></th>\n",
       "      <th>Karmn</th>\n",
       "      <th>Vr_kms-1</th>\n",
       "      <th>n_RV</th>\n",
       "      <th>Ps_RV</th>\n",
       "      <th>wrms_RV</th>\n",
       "      <th>RV_sampling_deltas</th>\n",
       "      <th>RV_noise_min</th>\n",
       "      <th>RV_noise_max</th>\n",
       "      <th>RV_noise_median</th>\n",
       "      <th>RV_noise_mean</th>\n",
       "      <th>RV_noise_stdev</th>\n",
       "      <th>RV_noise_dist</th>\n",
       "      <th>RV_noise_name</th>\n",
       "      <th>RV_noise_loc</th>\n",
       "      <th>RV_noise_scale</th>\n",
       "      <th>RV_noise_dist_file</th>\n",
       "      <th>RV_noise_fit_p-value</th>\n",
       "      <th>Fraction_Out</th>\n",
       "    </tr>\n",
       "  </thead>\n",
       "  <tbody>\n",
       "  </tbody>\n",
       "</table>\n",
       "</div>"
      ],
      "text/plain": [
       "Empty DataFrame\n",
       "Columns: [Karmn, Vr_kms-1, n_RV, Ps_RV, wrms_RV, RV_sampling_deltas, RV_noise_min, RV_noise_max, RV_noise_median, RV_noise_mean, RV_noise_stdev, RV_noise_dist, RV_noise_name, RV_noise_loc, RV_noise_scale, RV_noise_dist_file, RV_noise_fit_p-value, Fraction_Out]\n",
       "Index: []"
      ]
     },
     "execution_count": 15,
     "metadata": {},
     "output_type": "execute_result"
    }
   ],
   "source": [
    "# Initialize the results array\n",
    "rv_patterns = pd.DataFrame(columns=['Karmn', 'Vr_kms-1', 'n_RV', 'Ps_RV', 'wrms_RV',\n",
    "                                    'RV_sampling_deltas',\n",
    "                                    'RV_noise_min', 'RV_noise_max',\n",
    "                                    'RV_noise_median', 'RV_noise_mean', 'RV_noise_stdev',\n",
    "                                    'RV_noise_dist', 'RV_noise_name', 'RV_noise_loc', 'RV_noise_scale',\n",
    "                                    'RV_noise_dist_file', 'RV_noise_fit_p-value', 'Fraction_Out'])\n",
    "rv_patterns"
   ]
  },
  {
   "cell_type": "code",
   "execution_count": 16,
   "id": "c9b17372",
   "metadata": {
    "ExecuteTime": {
     "end_time": "2023-01-12T12:01:17.466583Z",
     "start_time": "2023-01-12T12:00:03.270752Z"
    }
   },
   "outputs": [
    {
     "name": "stdout",
     "output_type": "stream",
     "text": [
      "[pypickle] Pickle file saved: [../data/DIST_FILES/RV_PG_subsample_Stars_noise_dist/J00051+457_RV_noise.pickle]\n",
      "[distfit] >Saving.. True\n"
     ]
    },
    {
     "data": {
      "text/html": [
       "<div>\n",
       "<style scoped>\n",
       "    .dataframe tbody tr th:only-of-type {\n",
       "        vertical-align: middle;\n",
       "    }\n",
       "\n",
       "    .dataframe tbody tr th {\n",
       "        vertical-align: top;\n",
       "    }\n",
       "\n",
       "    .dataframe thead th {\n",
       "        text-align: right;\n",
       "    }\n",
       "</style>\n",
       "<table border=\"1\" class=\"dataframe\">\n",
       "  <thead>\n",
       "    <tr style=\"text-align: right;\">\n",
       "      <th></th>\n",
       "      <th>Karmn</th>\n",
       "      <th>Vr_kms-1</th>\n",
       "      <th>n_RV</th>\n",
       "      <th>Ps_RV</th>\n",
       "      <th>wrms_RV</th>\n",
       "      <th>RV_sampling_deltas</th>\n",
       "      <th>RV_noise_min</th>\n",
       "      <th>RV_noise_max</th>\n",
       "      <th>RV_noise_median</th>\n",
       "      <th>RV_noise_mean</th>\n",
       "      <th>RV_noise_stdev</th>\n",
       "      <th>RV_noise_dist</th>\n",
       "      <th>RV_noise_name</th>\n",
       "      <th>RV_noise_loc</th>\n",
       "      <th>RV_noise_scale</th>\n",
       "      <th>RV_noise_dist_file</th>\n",
       "      <th>RV_noise_fit_p-value</th>\n",
       "      <th>Fraction_Out</th>\n",
       "    </tr>\n",
       "  </thead>\n",
       "  <tbody>\n",
       "    <tr>\n",
       "      <th>264</th>\n",
       "      <td>J00403+612</td>\n",
       "      <td>2.876543</td>\n",
       "      <td>44.0</td>\n",
       "      <td>1.946459</td>\n",
       "      <td>7.233259</td>\n",
       "      <td>[0.0, 7.001964730676264, 7.997985835652798, 9....</td>\n",
       "      <td>2.262920</td>\n",
       "      <td>10.339515</td>\n",
       "      <td>2.925878</td>\n",
       "      <td>3.543329</td>\n",
       "      <td>1.503834</td>\n",
       "      <td>{'distr': &lt;scipy.stats._continuous_distns.pare...</td>\n",
       "      <td>pareto</td>\n",
       "      <td>-0.001595</td>\n",
       "      <td>2.264515</td>\n",
       "      <td>../data/DIST_FILES/RV_PG_subsample_Stars_noise...</td>\n",
       "      <td>0.751918</td>\n",
       "      <td>0.022727</td>\n",
       "    </tr>\n",
       "    <tr>\n",
       "      <th>265</th>\n",
       "      <td>J00389+306</td>\n",
       "      <td>-0.626068</td>\n",
       "      <td>60.0</td>\n",
       "      <td>5.092794</td>\n",
       "      <td>2.356139</td>\n",
       "      <td>[0.0, 2.9924363917671144, 14.006995059549809, ...</td>\n",
       "      <td>0.914389</td>\n",
       "      <td>2.286232</td>\n",
       "      <td>1.308279</td>\n",
       "      <td>1.411491</td>\n",
       "      <td>0.333250</td>\n",
       "      <td>{'distr': &lt;scipy.stats._continuous_distns.logn...</td>\n",
       "      <td>lognorm</td>\n",
       "      <td>0.774437</td>\n",
       "      <td>0.555610</td>\n",
       "      <td>../data/DIST_FILES/RV_PG_subsample_Stars_noise...</td>\n",
       "      <td>0.684154</td>\n",
       "      <td>0.016667</td>\n",
       "    </tr>\n",
       "    <tr>\n",
       "      <th>266</th>\n",
       "      <td>J00286-066</td>\n",
       "      <td>-12.405000</td>\n",
       "      <td>50.0</td>\n",
       "      <td>4.001709</td>\n",
       "      <td>2.397639</td>\n",
       "      <td>[0.0, 10.991652541328222, 17.91978120803833, 2...</td>\n",
       "      <td>0.981611</td>\n",
       "      <td>2.886192</td>\n",
       "      <td>1.354834</td>\n",
       "      <td>1.404884</td>\n",
       "      <td>0.307503</td>\n",
       "      <td>{'distr': &lt;scipy.stats._continuous_distns.logn...</td>\n",
       "      <td>lognorm</td>\n",
       "      <td>0.841154</td>\n",
       "      <td>0.499865</td>\n",
       "      <td>../data/DIST_FILES/RV_PG_subsample_Stars_noise...</td>\n",
       "      <td>0.494928</td>\n",
       "      <td>0.020000</td>\n",
       "    </tr>\n",
       "    <tr>\n",
       "      <th>267</th>\n",
       "      <td>J00183+440</td>\n",
       "      <td>11.820000</td>\n",
       "      <td>216.0</td>\n",
       "      <td>0.826708</td>\n",
       "      <td>2.617721</td>\n",
       "      <td>[0.0, 1.0492656417191029, 2.022110936231911, 3...</td>\n",
       "      <td>0.766382</td>\n",
       "      <td>4.264498</td>\n",
       "      <td>1.476962</td>\n",
       "      <td>1.556480</td>\n",
       "      <td>0.527647</td>\n",
       "      <td>{'distr': &lt;scipy.stats._continuous_distns.beta...</td>\n",
       "      <td>beta</td>\n",
       "      <td>0.744054</td>\n",
       "      <td>7.930984</td>\n",
       "      <td>../data/DIST_FILES/RV_PG_subsample_Stars_noise...</td>\n",
       "      <td>0.184423</td>\n",
       "      <td>0.000000</td>\n",
       "    </tr>\n",
       "    <tr>\n",
       "      <th>268</th>\n",
       "      <td>J00051+457</td>\n",
       "      <td>-0.229000</td>\n",
       "      <td>52.0</td>\n",
       "      <td>3.024201</td>\n",
       "      <td>2.835825</td>\n",
       "      <td>[0.0, 20.975221153348684, 188.3961285338737, 2...</td>\n",
       "      <td>1.053913</td>\n",
       "      <td>5.406914</td>\n",
       "      <td>1.706992</td>\n",
       "      <td>1.804720</td>\n",
       "      <td>0.676688</td>\n",
       "      <td>{'distr': &lt;scipy.stats._continuous_distns.logn...</td>\n",
       "      <td>lognorm</td>\n",
       "      <td>0.907302</td>\n",
       "      <td>0.727212</td>\n",
       "      <td>../data/DIST_FILES/RV_PG_subsample_Stars_noise...</td>\n",
       "      <td>0.509757</td>\n",
       "      <td>0.019231</td>\n",
       "    </tr>\n",
       "  </tbody>\n",
       "</table>\n",
       "</div>"
      ],
      "text/plain": [
       "          Karmn   Vr_kms-1   n_RV     Ps_RV   wrms_RV  \\\n",
       "264  J00403+612   2.876543   44.0  1.946459  7.233259   \n",
       "265  J00389+306  -0.626068   60.0  5.092794  2.356139   \n",
       "266  J00286-066 -12.405000   50.0  4.001709  2.397639   \n",
       "267  J00183+440  11.820000  216.0  0.826708  2.617721   \n",
       "268  J00051+457  -0.229000   52.0  3.024201  2.835825   \n",
       "\n",
       "                                    RV_sampling_deltas  RV_noise_min  \\\n",
       "264  [0.0, 7.001964730676264, 7.997985835652798, 9....      2.262920   \n",
       "265  [0.0, 2.9924363917671144, 14.006995059549809, ...      0.914389   \n",
       "266  [0.0, 10.991652541328222, 17.91978120803833, 2...      0.981611   \n",
       "267  [0.0, 1.0492656417191029, 2.022110936231911, 3...      0.766382   \n",
       "268  [0.0, 20.975221153348684, 188.3961285338737, 2...      1.053913   \n",
       "\n",
       "     RV_noise_max  RV_noise_median  RV_noise_mean  RV_noise_stdev  \\\n",
       "264     10.339515         2.925878       3.543329        1.503834   \n",
       "265      2.286232         1.308279       1.411491        0.333250   \n",
       "266      2.886192         1.354834       1.404884        0.307503   \n",
       "267      4.264498         1.476962       1.556480        0.527647   \n",
       "268      5.406914         1.706992       1.804720        0.676688   \n",
       "\n",
       "                                         RV_noise_dist RV_noise_name  \\\n",
       "264  {'distr': <scipy.stats._continuous_distns.pare...        pareto   \n",
       "265  {'distr': <scipy.stats._continuous_distns.logn...       lognorm   \n",
       "266  {'distr': <scipy.stats._continuous_distns.logn...       lognorm   \n",
       "267  {'distr': <scipy.stats._continuous_distns.beta...          beta   \n",
       "268  {'distr': <scipy.stats._continuous_distns.logn...       lognorm   \n",
       "\n",
       "     RV_noise_loc  RV_noise_scale  \\\n",
       "264     -0.001595        2.264515   \n",
       "265      0.774437        0.555610   \n",
       "266      0.841154        0.499865   \n",
       "267      0.744054        7.930984   \n",
       "268      0.907302        0.727212   \n",
       "\n",
       "                                    RV_noise_dist_file  RV_noise_fit_p-value  \\\n",
       "264  ../data/DIST_FILES/RV_PG_subsample_Stars_noise...              0.751918   \n",
       "265  ../data/DIST_FILES/RV_PG_subsample_Stars_noise...              0.684154   \n",
       "266  ../data/DIST_FILES/RV_PG_subsample_Stars_noise...              0.494928   \n",
       "267  ../data/DIST_FILES/RV_PG_subsample_Stars_noise...              0.184423   \n",
       "268  ../data/DIST_FILES/RV_PG_subsample_Stars_noise...              0.509757   \n",
       "\n",
       "     Fraction_Out  \n",
       "264      0.022727  \n",
       "265      0.016667  \n",
       "266      0.020000  \n",
       "267      0.000000  \n",
       "268      0.019231  "
      ]
     },
     "execution_count": 16,
     "metadata": {},
     "output_type": "execute_result"
    }
   ],
   "source": [
    "# Populate the patterns:\n",
    "#for i in range(0,5): # TEST\n",
    "for i in range(0,len(gto)):\n",
    "    clear_output(wait=True)\n",
    "    new_pattern, \\\n",
    "        lower_limit, higher_limit, noise_median, noise_mean, noise_stdev, \\\n",
    "        new_noise_dist, new_noise_fit_p, limit_outliers_frac = \\\n",
    "            rv_extract_sampling_and_noise(gto.loc[i, 'rv_file'])\n",
    "    dist_filename = NOISE_DIST_FOLDER + gto.loc[i, 'Karmn'] + \"_RV_noise.pickle\"\n",
    "    new_noise_dist.save(dist_filename)\n",
    "    try:\n",
    "        new_noise_name = new_noise_dist.model['name']\n",
    "    except:\n",
    "        new_noise_name = np.nan\n",
    "    try:\n",
    "        new_noise_loc = new_noise_dist.model['loc']\n",
    "    except:\n",
    "        new_noise_loc = np.nan\n",
    "    try:\n",
    "        new_noise_scale = new_noise_dist.model['scale']\n",
    "    except:\n",
    "        new_noise_scale = np.nan\n",
    "    rv_patterns = rv_patterns \\\n",
    "        .append({'Karmn': gto.loc[i, 'Karmn'],\n",
    "                 'Vr_kms-1': gto.loc[i, 'Vr_kms-1'],\n",
    "                 'n_RV': gto.loc[i, 'n_RV'],\n",
    "                 'Ps_RV': gto.loc[i, 'Ps_RV'],\n",
    "                 'wrms_RV': gto.loc[i, 'wrms_RV'],\n",
    "                 'RV_sampling_deltas': json.dumps(new_pattern),\n",
    "                 'RV_noise_min': lower_limit,\n",
    "                 'RV_noise_max': higher_limit,\n",
    "                 'RV_noise_median': noise_median,\n",
    "                 'RV_noise_mean': noise_mean,\n",
    "                 'RV_noise_stdev': noise_stdev,\n",
    "                 'RV_noise_dist': new_noise_dist.model,\n",
    "                 'RV_noise_name': new_noise_name,                 \n",
    "                 'RV_noise_loc': new_noise_loc,\n",
    "                 'RV_noise_scale':  new_noise_scale,\n",
    "                 'RV_noise_dist_file': dist_filename,\n",
    "                 'RV_noise_fit_p-value': new_noise_fit_p,\n",
    "                 'Fraction_Out': limit_outliers_frac\n",
    "                },\n",
    "                ignore_index=True)\n",
    "rv_patterns.tail()"
   ]
  },
  {
   "cell_type": "code",
   "execution_count": 17,
   "id": "24047a97",
   "metadata": {
    "ExecuteTime": {
     "end_time": "2023-01-12T12:01:17.497474Z",
     "start_time": "2023-01-12T12:01:17.468547Z"
    }
   },
   "outputs": [
    {
     "data": {
      "text/html": [
       "<div>\n",
       "<style scoped>\n",
       "    .dataframe tbody tr th:only-of-type {\n",
       "        vertical-align: middle;\n",
       "    }\n",
       "\n",
       "    .dataframe tbody tr th {\n",
       "        vertical-align: top;\n",
       "    }\n",
       "\n",
       "    .dataframe thead th {\n",
       "        text-align: right;\n",
       "    }\n",
       "</style>\n",
       "<table border=\"1\" class=\"dataframe\">\n",
       "  <thead>\n",
       "    <tr style=\"text-align: right;\">\n",
       "      <th></th>\n",
       "      <th>Karmn</th>\n",
       "      <th>Vr_kms-1</th>\n",
       "      <th>n_RV</th>\n",
       "      <th>Ps_RV</th>\n",
       "      <th>wrms_RV</th>\n",
       "      <th>RV_sampling_deltas</th>\n",
       "      <th>RV_noise_min</th>\n",
       "      <th>RV_noise_max</th>\n",
       "      <th>RV_noise_median</th>\n",
       "      <th>RV_noise_mean</th>\n",
       "      <th>RV_noise_stdev</th>\n",
       "      <th>RV_noise_dist</th>\n",
       "      <th>RV_noise_name</th>\n",
       "      <th>RV_noise_loc</th>\n",
       "      <th>RV_noise_scale</th>\n",
       "      <th>RV_noise_dist_file</th>\n",
       "      <th>RV_noise_fit_p-value</th>\n",
       "      <th>Fraction_Out</th>\n",
       "    </tr>\n",
       "  </thead>\n",
       "  <tbody>\n",
       "    <tr>\n",
       "      <th>0</th>\n",
       "      <td>J23548+385</td>\n",
       "      <td>5.371895</td>\n",
       "      <td>13.0</td>\n",
       "      <td>13.940021</td>\n",
       "      <td>29.081874</td>\n",
       "      <td>[0.0, 11.003340645693243, 29.863817581906915, ...</td>\n",
       "      <td>2.051089</td>\n",
       "      <td>5.171477</td>\n",
       "      <td>3.113559</td>\n",
       "      <td>3.224349</td>\n",
       "      <td>0.972852</td>\n",
       "      <td>{'distr': &lt;scipy.stats._continuous_distns.beta...</td>\n",
       "      <td>beta</td>\n",
       "      <td>2.051089</td>\n",
       "      <td>3.210288</td>\n",
       "      <td>../data/DIST_FILES/RV_PG_subsample_Stars_noise...</td>\n",
       "      <td>0.461777</td>\n",
       "      <td>0.000000</td>\n",
       "    </tr>\n",
       "    <tr>\n",
       "      <th>1</th>\n",
       "      <td>J23505-095</td>\n",
       "      <td>-21.870867</td>\n",
       "      <td>71.0</td>\n",
       "      <td>2.908164</td>\n",
       "      <td>3.362607</td>\n",
       "      <td>[0.0, 11.957513123750687, 47.87879143701866, 5...</td>\n",
       "      <td>1.199479</td>\n",
       "      <td>4.170413</td>\n",
       "      <td>1.722917</td>\n",
       "      <td>1.881812</td>\n",
       "      <td>0.628702</td>\n",
       "      <td>{'distr': &lt;scipy.stats._continuous_distns.t_ge...</td>\n",
       "      <td>t</td>\n",
       "      <td>1.691561</td>\n",
       "      <td>0.290193</td>\n",
       "      <td>../data/DIST_FILES/RV_PG_subsample_Stars_noise...</td>\n",
       "      <td>0.103726</td>\n",
       "      <td>0.112676</td>\n",
       "    </tr>\n",
       "    <tr>\n",
       "      <th>2</th>\n",
       "      <td>J23431+365</td>\n",
       "      <td>-2.597000</td>\n",
       "      <td>23.0</td>\n",
       "      <td>17.057200</td>\n",
       "      <td>2.795865</td>\n",
       "      <td>[0.0, 8.942367421463132, 9.875712749548256, 25...</td>\n",
       "      <td>0.916620</td>\n",
       "      <td>2.010952</td>\n",
       "      <td>1.377055</td>\n",
       "      <td>1.408319</td>\n",
       "      <td>0.262370</td>\n",
       "      <td>{'distr': &lt;scipy.stats._continuous_distns.dwei...</td>\n",
       "      <td>dweibull</td>\n",
       "      <td>1.403768</td>\n",
       "      <td>0.233191</td>\n",
       "      <td>../data/DIST_FILES/RV_PG_subsample_Stars_noise...</td>\n",
       "      <td>0.687567</td>\n",
       "      <td>0.043478</td>\n",
       "    </tr>\n",
       "    <tr>\n",
       "      <th>3</th>\n",
       "      <td>J23381-162</td>\n",
       "      <td>20.470749</td>\n",
       "      <td>56.0</td>\n",
       "      <td>3.019729</td>\n",
       "      <td>2.405056</td>\n",
       "      <td>[0.0, 10.978803387377411, 30.955036497674882, ...</td>\n",
       "      <td>1.016080</td>\n",
       "      <td>3.446221</td>\n",
       "      <td>1.423674</td>\n",
       "      <td>1.611703</td>\n",
       "      <td>0.542434</td>\n",
       "      <td>{'distr': &lt;scipy.stats._continuous_distns.gene...</td>\n",
       "      <td>genextreme</td>\n",
       "      <td>1.343269</td>\n",
       "      <td>0.248643</td>\n",
       "      <td>../data/DIST_FILES/RV_PG_subsample_Stars_noise...</td>\n",
       "      <td>0.482127</td>\n",
       "      <td>0.017857</td>\n",
       "    </tr>\n",
       "    <tr>\n",
       "      <th>4</th>\n",
       "      <td>J23245+578</td>\n",
       "      <td>-33.185000</td>\n",
       "      <td>60.0</td>\n",
       "      <td>5.992043</td>\n",
       "      <td>4.930567</td>\n",
       "      <td>[0.0, 138.36809208989143, 166.319802749902, 19...</td>\n",
       "      <td>1.141035</td>\n",
       "      <td>3.048668</td>\n",
       "      <td>1.580168</td>\n",
       "      <td>1.710840</td>\n",
       "      <td>0.429185</td>\n",
       "      <td>{'distr': &lt;scipy.stats._continuous_distns.logn...</td>\n",
       "      <td>lognorm</td>\n",
       "      <td>1.039512</td>\n",
       "      <td>0.554111</td>\n",
       "      <td>../data/DIST_FILES/RV_PG_subsample_Stars_noise...</td>\n",
       "      <td>0.629680</td>\n",
       "      <td>0.000000</td>\n",
       "    </tr>\n",
       "  </tbody>\n",
       "</table>\n",
       "</div>"
      ],
      "text/plain": [
       "        Karmn   Vr_kms-1  n_RV      Ps_RV    wrms_RV  \\\n",
       "0  J23548+385   5.371895  13.0  13.940021  29.081874   \n",
       "1  J23505-095 -21.870867  71.0   2.908164   3.362607   \n",
       "2  J23431+365  -2.597000  23.0  17.057200   2.795865   \n",
       "3  J23381-162  20.470749  56.0   3.019729   2.405056   \n",
       "4  J23245+578 -33.185000  60.0   5.992043   4.930567   \n",
       "\n",
       "                                  RV_sampling_deltas  RV_noise_min  \\\n",
       "0  [0.0, 11.003340645693243, 29.863817581906915, ...      2.051089   \n",
       "1  [0.0, 11.957513123750687, 47.87879143701866, 5...      1.199479   \n",
       "2  [0.0, 8.942367421463132, 9.875712749548256, 25...      0.916620   \n",
       "3  [0.0, 10.978803387377411, 30.955036497674882, ...      1.016080   \n",
       "4  [0.0, 138.36809208989143, 166.319802749902, 19...      1.141035   \n",
       "\n",
       "   RV_noise_max  RV_noise_median  RV_noise_mean  RV_noise_stdev  \\\n",
       "0      5.171477         3.113559       3.224349        0.972852   \n",
       "1      4.170413         1.722917       1.881812        0.628702   \n",
       "2      2.010952         1.377055       1.408319        0.262370   \n",
       "3      3.446221         1.423674       1.611703        0.542434   \n",
       "4      3.048668         1.580168       1.710840        0.429185   \n",
       "\n",
       "                                       RV_noise_dist RV_noise_name  \\\n",
       "0  {'distr': <scipy.stats._continuous_distns.beta...          beta   \n",
       "1  {'distr': <scipy.stats._continuous_distns.t_ge...             t   \n",
       "2  {'distr': <scipy.stats._continuous_distns.dwei...      dweibull   \n",
       "3  {'distr': <scipy.stats._continuous_distns.gene...    genextreme   \n",
       "4  {'distr': <scipy.stats._continuous_distns.logn...       lognorm   \n",
       "\n",
       "   RV_noise_loc  RV_noise_scale  \\\n",
       "0      2.051089        3.210288   \n",
       "1      1.691561        0.290193   \n",
       "2      1.403768        0.233191   \n",
       "3      1.343269        0.248643   \n",
       "4      1.039512        0.554111   \n",
       "\n",
       "                                  RV_noise_dist_file  RV_noise_fit_p-value  \\\n",
       "0  ../data/DIST_FILES/RV_PG_subsample_Stars_noise...              0.461777   \n",
       "1  ../data/DIST_FILES/RV_PG_subsample_Stars_noise...              0.103726   \n",
       "2  ../data/DIST_FILES/RV_PG_subsample_Stars_noise...              0.687567   \n",
       "3  ../data/DIST_FILES/RV_PG_subsample_Stars_noise...              0.482127   \n",
       "4  ../data/DIST_FILES/RV_PG_subsample_Stars_noise...              0.629680   \n",
       "\n",
       "   Fraction_Out  \n",
       "0      0.000000  \n",
       "1      0.112676  \n",
       "2      0.043478  \n",
       "3      0.017857  \n",
       "4      0.000000  "
      ]
     },
     "execution_count": 17,
     "metadata": {},
     "output_type": "execute_result"
    }
   ],
   "source": [
    "rv_patterns.head()"
   ]
  },
  {
   "cell_type": "code",
   "execution_count": 18,
   "id": "992a5b9c",
   "metadata": {
    "ExecuteTime": {
     "end_time": "2023-01-12T12:01:55.768117Z",
     "start_time": "2023-01-12T12:01:55.758642Z"
    }
   },
   "outputs": [
    {
     "name": "stdout",
     "output_type": "stream",
     "text": [
      "[0.0, 20.975221153348684, 188.3961285338737, 205.38048223266378, 209.38376312609762, 210.38946344563738, 211.3372044339776, 220.15363332116976, 233.3020677617751, 236.28708868660033, 245.30540515342727, 247.20802798401564, 248.3613522797823, 249.32451374921948, 253.2377212671563, 257.244304608088, 278.1298939133994, 285.19921019487083, 288.1815115036443, 295.1172859589569, 305.06492951279506, 311.06623519863933, 510.30484426533803, 536.3358177728951, 537.3314265487716, 539.2210110668093, 546.3397195651196, 551.2010640129447, 554.1786011150107, 556.2090220963582, 560.3323087557219, 561.3038359247148, 562.3306985800155, 564.3055038368329, 565.3272510636598, 568.3514519101009, 570.3849403518252, 571.3390916050412, 577.1731422855519, 587.3009799011052, 597.2429402219132, 600.2649239646271, 601.2674847017042, 602.3093053563498, 605.2399070998654, 607.2822220451199, 609.2366422573105, 630.1764049907215, 658.1371545102447, 659.1520783104934, 660.1032314212061, 693.2164790052921]\n"
     ]
    }
   ],
   "source": [
    "# See the last pattern added:\n",
    "print(new_pattern)"
   ]
  },
  {
   "cell_type": "markdown",
   "id": "c1024046",
   "metadata": {},
   "source": [
    "### Save the pools to a file"
   ]
  },
  {
   "cell_type": "code",
   "execution_count": 19,
   "id": "e8a3adc9",
   "metadata": {
    "ExecuteTime": {
     "end_time": "2023-01-12T12:02:00.088013Z",
     "start_time": "2023-01-12T12:02:00.054267Z"
    }
   },
   "outputs": [],
   "source": [
    "# Save the file:\n",
    "rv_patterns.to_csv(DIST_FILES_FOLDER + RV_PATTERN_POOL_FILE, sep=',', decimal='.', index=False)"
   ]
  },
  {
   "cell_type": "markdown",
   "id": "e830e0ec",
   "metadata": {},
   "source": [
    "### Test the access to the saved file and patterns"
   ]
  },
  {
   "cell_type": "code",
   "execution_count": 20,
   "id": "42f5e84e",
   "metadata": {
    "ExecuteTime": {
     "end_time": "2023-01-12T12:02:07.207834Z",
     "start_time": "2023-01-12T12:02:07.175061Z"
    }
   },
   "outputs": [
    {
     "data": {
      "text/html": [
       "<div>\n",
       "<style scoped>\n",
       "    .dataframe tbody tr th:only-of-type {\n",
       "        vertical-align: middle;\n",
       "    }\n",
       "\n",
       "    .dataframe tbody tr th {\n",
       "        vertical-align: top;\n",
       "    }\n",
       "\n",
       "    .dataframe thead th {\n",
       "        text-align: right;\n",
       "    }\n",
       "</style>\n",
       "<table border=\"1\" class=\"dataframe\">\n",
       "  <thead>\n",
       "    <tr style=\"text-align: right;\">\n",
       "      <th></th>\n",
       "      <th>Karmn</th>\n",
       "      <th>Vr_kms-1</th>\n",
       "      <th>n_RV</th>\n",
       "      <th>Ps_RV</th>\n",
       "      <th>wrms_RV</th>\n",
       "      <th>RV_sampling_deltas</th>\n",
       "      <th>RV_noise_min</th>\n",
       "      <th>RV_noise_max</th>\n",
       "      <th>RV_noise_median</th>\n",
       "      <th>RV_noise_mean</th>\n",
       "      <th>RV_noise_stdev</th>\n",
       "      <th>RV_noise_dist</th>\n",
       "      <th>RV_noise_name</th>\n",
       "      <th>RV_noise_loc</th>\n",
       "      <th>RV_noise_scale</th>\n",
       "      <th>RV_noise_dist_file</th>\n",
       "      <th>RV_noise_fit_p-value</th>\n",
       "      <th>Fraction_Out</th>\n",
       "    </tr>\n",
       "  </thead>\n",
       "  <tbody>\n",
       "    <tr>\n",
       "      <th>264</th>\n",
       "      <td>J00403+612</td>\n",
       "      <td>2.876543</td>\n",
       "      <td>44.0</td>\n",
       "      <td>1.946459</td>\n",
       "      <td>7.233259</td>\n",
       "      <td>[0.0, 7.001964730676264, 7.997985835652798, 9....</td>\n",
       "      <td>2.262920</td>\n",
       "      <td>10.339515</td>\n",
       "      <td>2.925878</td>\n",
       "      <td>3.543329</td>\n",
       "      <td>1.503834</td>\n",
       "      <td>{'distr': &lt;scipy.stats._continuous_distns.pare...</td>\n",
       "      <td>pareto</td>\n",
       "      <td>-0.001595</td>\n",
       "      <td>2.264515</td>\n",
       "      <td>../data/DIST_FILES/RV_PG_subsample_Stars_noise...</td>\n",
       "      <td>0.751918</td>\n",
       "      <td>0.022727</td>\n",
       "    </tr>\n",
       "    <tr>\n",
       "      <th>265</th>\n",
       "      <td>J00389+306</td>\n",
       "      <td>-0.626068</td>\n",
       "      <td>60.0</td>\n",
       "      <td>5.092794</td>\n",
       "      <td>2.356139</td>\n",
       "      <td>[0.0, 2.9924363917671144, 14.006995059549809, ...</td>\n",
       "      <td>0.914389</td>\n",
       "      <td>2.286232</td>\n",
       "      <td>1.308279</td>\n",
       "      <td>1.411491</td>\n",
       "      <td>0.333250</td>\n",
       "      <td>{'distr': &lt;scipy.stats._continuous_distns.logn...</td>\n",
       "      <td>lognorm</td>\n",
       "      <td>0.774437</td>\n",
       "      <td>0.555610</td>\n",
       "      <td>../data/DIST_FILES/RV_PG_subsample_Stars_noise...</td>\n",
       "      <td>0.684154</td>\n",
       "      <td>0.016667</td>\n",
       "    </tr>\n",
       "    <tr>\n",
       "      <th>266</th>\n",
       "      <td>J00286-066</td>\n",
       "      <td>-12.405000</td>\n",
       "      <td>50.0</td>\n",
       "      <td>4.001709</td>\n",
       "      <td>2.397639</td>\n",
       "      <td>[0.0, 10.991652541328222, 17.91978120803833, 2...</td>\n",
       "      <td>0.981611</td>\n",
       "      <td>2.886192</td>\n",
       "      <td>1.354834</td>\n",
       "      <td>1.404884</td>\n",
       "      <td>0.307503</td>\n",
       "      <td>{'distr': &lt;scipy.stats._continuous_distns.logn...</td>\n",
       "      <td>lognorm</td>\n",
       "      <td>0.841154</td>\n",
       "      <td>0.499865</td>\n",
       "      <td>../data/DIST_FILES/RV_PG_subsample_Stars_noise...</td>\n",
       "      <td>0.494928</td>\n",
       "      <td>0.020000</td>\n",
       "    </tr>\n",
       "    <tr>\n",
       "      <th>267</th>\n",
       "      <td>J00183+440</td>\n",
       "      <td>11.820000</td>\n",
       "      <td>216.0</td>\n",
       "      <td>0.826708</td>\n",
       "      <td>2.617721</td>\n",
       "      <td>[0.0, 1.0492656417191029, 2.022110936231911, 3...</td>\n",
       "      <td>0.766382</td>\n",
       "      <td>4.264498</td>\n",
       "      <td>1.476962</td>\n",
       "      <td>1.556480</td>\n",
       "      <td>0.527647</td>\n",
       "      <td>{'distr': &lt;scipy.stats._continuous_distns.beta...</td>\n",
       "      <td>beta</td>\n",
       "      <td>0.744054</td>\n",
       "      <td>7.930984</td>\n",
       "      <td>../data/DIST_FILES/RV_PG_subsample_Stars_noise...</td>\n",
       "      <td>0.184423</td>\n",
       "      <td>0.000000</td>\n",
       "    </tr>\n",
       "    <tr>\n",
       "      <th>268</th>\n",
       "      <td>J00051+457</td>\n",
       "      <td>-0.229000</td>\n",
       "      <td>52.0</td>\n",
       "      <td>3.024201</td>\n",
       "      <td>2.835825</td>\n",
       "      <td>[0.0, 20.975221153348684, 188.3961285338737, 2...</td>\n",
       "      <td>1.053913</td>\n",
       "      <td>5.406914</td>\n",
       "      <td>1.706992</td>\n",
       "      <td>1.804720</td>\n",
       "      <td>0.676688</td>\n",
       "      <td>{'distr': &lt;scipy.stats._continuous_distns.logn...</td>\n",
       "      <td>lognorm</td>\n",
       "      <td>0.907302</td>\n",
       "      <td>0.727212</td>\n",
       "      <td>../data/DIST_FILES/RV_PG_subsample_Stars_noise...</td>\n",
       "      <td>0.509757</td>\n",
       "      <td>0.019231</td>\n",
       "    </tr>\n",
       "  </tbody>\n",
       "</table>\n",
       "</div>"
      ],
      "text/plain": [
       "          Karmn   Vr_kms-1   n_RV     Ps_RV   wrms_RV  \\\n",
       "264  J00403+612   2.876543   44.0  1.946459  7.233259   \n",
       "265  J00389+306  -0.626068   60.0  5.092794  2.356139   \n",
       "266  J00286-066 -12.405000   50.0  4.001709  2.397639   \n",
       "267  J00183+440  11.820000  216.0  0.826708  2.617721   \n",
       "268  J00051+457  -0.229000   52.0  3.024201  2.835825   \n",
       "\n",
       "                                    RV_sampling_deltas  RV_noise_min  \\\n",
       "264  [0.0, 7.001964730676264, 7.997985835652798, 9....      2.262920   \n",
       "265  [0.0, 2.9924363917671144, 14.006995059549809, ...      0.914389   \n",
       "266  [0.0, 10.991652541328222, 17.91978120803833, 2...      0.981611   \n",
       "267  [0.0, 1.0492656417191029, 2.022110936231911, 3...      0.766382   \n",
       "268  [0.0, 20.975221153348684, 188.3961285338737, 2...      1.053913   \n",
       "\n",
       "     RV_noise_max  RV_noise_median  RV_noise_mean  RV_noise_stdev  \\\n",
       "264     10.339515         2.925878       3.543329        1.503834   \n",
       "265      2.286232         1.308279       1.411491        0.333250   \n",
       "266      2.886192         1.354834       1.404884        0.307503   \n",
       "267      4.264498         1.476962       1.556480        0.527647   \n",
       "268      5.406914         1.706992       1.804720        0.676688   \n",
       "\n",
       "                                         RV_noise_dist RV_noise_name  \\\n",
       "264  {'distr': <scipy.stats._continuous_distns.pare...        pareto   \n",
       "265  {'distr': <scipy.stats._continuous_distns.logn...       lognorm   \n",
       "266  {'distr': <scipy.stats._continuous_distns.logn...       lognorm   \n",
       "267  {'distr': <scipy.stats._continuous_distns.beta...          beta   \n",
       "268  {'distr': <scipy.stats._continuous_distns.logn...       lognorm   \n",
       "\n",
       "     RV_noise_loc  RV_noise_scale  \\\n",
       "264     -0.001595        2.264515   \n",
       "265      0.774437        0.555610   \n",
       "266      0.841154        0.499865   \n",
       "267      0.744054        7.930984   \n",
       "268      0.907302        0.727212   \n",
       "\n",
       "                                    RV_noise_dist_file  RV_noise_fit_p-value  \\\n",
       "264  ../data/DIST_FILES/RV_PG_subsample_Stars_noise...              0.751918   \n",
       "265  ../data/DIST_FILES/RV_PG_subsample_Stars_noise...              0.684154   \n",
       "266  ../data/DIST_FILES/RV_PG_subsample_Stars_noise...              0.494928   \n",
       "267  ../data/DIST_FILES/RV_PG_subsample_Stars_noise...              0.184423   \n",
       "268  ../data/DIST_FILES/RV_PG_subsample_Stars_noise...              0.509757   \n",
       "\n",
       "     Fraction_Out  \n",
       "264      0.022727  \n",
       "265      0.016667  \n",
       "266      0.020000  \n",
       "267      0.000000  \n",
       "268      0.019231  "
      ]
     },
     "execution_count": 20,
     "metadata": {},
     "output_type": "execute_result"
    }
   ],
   "source": [
    "# Check file re-reading:\n",
    "reloaded_patterns = pd.read_csv(DIST_FILES_FOLDER + RV_PATTERN_POOL_FILE, sep=',', decimal='.')\n",
    "reloaded_patterns.tail()"
   ]
  },
  {
   "cell_type": "code",
   "execution_count": 21,
   "id": "8f7f36df",
   "metadata": {
    "ExecuteTime": {
     "end_time": "2023-01-12T12:02:11.126192Z",
     "start_time": "2023-01-12T12:02:11.109237Z"
    }
   },
   "outputs": [
    {
     "data": {
      "text/plain": [
       "'[0.0, 3.998832286335528, 28.976991701871157, 44.80734464991838, 44.86575340619311, 51.833188388030976, 69.80620671482757, 96.80198004841805, 311.99729119380936, 368.88961282977834, 408.8633766374551, 432.8361208848655, 999.0888964077458, 1055.0422208704986, 1079.043398166541, 1100.091650831513, 1131.0463412054814, 1160.0143557921983, 1219.856517886743, 1372.0597644774243, 1420.0762271629646, 1448.8389606196433, 1466.973072854802, 1495.8728722897358, 1612.8050209023058, 1777.1086061522365, 1778.0848897150718, 1779.9373235898092, 1822.0452504041605, 1846.8054111041129, 1849.858969540801, 1865.7452220148407, 1903.021297102794, 1941.7209391989745, 1942.8883735244162, 1943.7159586064517, 1956.7314257128164, 1957.7328157578595, 1958.7311653834768, 1961.8168160789646, 1962.7360141994432, 1965.7440983704291, 1966.7438189359382, 1970.7510599107482, 1988.7650840734132, 1990.7602105909027, 1992.75523577258, 1993.757428406272, 2080.081780966837, 2089.0856745732017]'"
      ]
     },
     "execution_count": 21,
     "metadata": {},
     "output_type": "execute_result"
    }
   ],
   "source": [
    "# Check pattern access:\n",
    "recovered_pattern = reloaded_patterns.loc[150, 'RV_sampling_deltas']\n",
    "recovered_pattern"
   ]
  },
  {
   "cell_type": "code",
   "execution_count": 22,
   "id": "533c9e28",
   "metadata": {
    "ExecuteTime": {
     "end_time": "2023-01-12T12:02:13.849216Z",
     "start_time": "2023-01-12T12:02:13.846211Z"
    }
   },
   "outputs": [
    {
     "name": "stdout",
     "output_type": "stream",
     "text": [
      "[0.0, 3.998832286335528, 28.976991701871157, 44.80734464991838, 44.86575340619311, 51.833188388030976, 69.80620671482757, 96.80198004841805, 311.99729119380936, 368.88961282977834, 408.8633766374551, 432.8361208848655, 999.0888964077458, 1055.0422208704986, 1079.043398166541, 1100.091650831513, 1131.0463412054814, 1160.0143557921983, 1219.856517886743, 1372.0597644774243, 1420.0762271629646, 1448.8389606196433, 1466.973072854802, 1495.8728722897358, 1612.8050209023058, 1777.1086061522365, 1778.0848897150718, 1779.9373235898092, 1822.0452504041605, 1846.8054111041129, 1849.858969540801, 1865.7452220148407, 1903.021297102794, 1941.7209391989745, 1942.8883735244162, 1943.7159586064517, 1956.7314257128164, 1957.7328157578595, 1958.7311653834768, 1961.8168160789646, 1962.7360141994432, 1965.7440983704291, 1966.7438189359382, 1970.7510599107482, 1988.7650840734132, 1990.7602105909027, 1992.75523577258, 1993.757428406272, 2080.081780966837, 2089.0856745732017]\n"
     ]
    }
   ],
   "source": [
    "# Notice that we need to convert this string to an array:\n",
    "rec_pattern_array = json.loads(recovered_pattern)\n",
    "print(rec_pattern_array)"
   ]
  },
  {
   "cell_type": "code",
   "execution_count": 23,
   "id": "52612813",
   "metadata": {
    "ExecuteTime": {
     "end_time": "2023-01-12T12:02:15.394424Z",
     "start_time": "2023-01-12T12:02:15.382455Z"
    }
   },
   "outputs": [
    {
     "data": {
      "text/plain": [
       "list"
      ]
     },
     "execution_count": 23,
     "metadata": {},
     "output_type": "execute_result"
    }
   ],
   "source": [
    "type(rec_pattern_array)"
   ]
  },
  {
   "cell_type": "code",
   "execution_count": 24,
   "id": "aac88d49",
   "metadata": {
    "ExecuteTime": {
     "end_time": "2023-01-12T12:02:16.482386Z",
     "start_time": "2023-01-12T12:02:16.470418Z"
    }
   },
   "outputs": [
    {
     "data": {
      "text/plain": [
       "44.86575340619311"
      ]
     },
     "execution_count": 24,
     "metadata": {},
     "output_type": "execute_result"
    }
   ],
   "source": [
    "# Check access to a given pattern position:\n",
    "rec_pattern_array[4]"
   ]
  },
  {
   "cell_type": "markdown",
   "id": "f18ff5e6",
   "metadata": {},
   "source": [
    "## Summary"
   ]
  },
  {
   "cell_type": "markdown",
   "id": "41bffda6",
   "metadata": {
    "ExecuteTime": {
     "end_time": "2022-04-21T09:25:17.615626Z",
     "start_time": "2022-04-21T09:25:17.593718Z"
    }
   },
   "source": [
    "**CONCLUSIONS:**\n",
    "- We have generated a pool of sampling patterns for all PG subsample CARMENES RV curves that will be later used to affect the benchmark synthetic database with irregular sampling in a random way."
   ]
  },
  {
   "cell_type": "code",
   "execution_count": null,
   "id": "fd2cbd02",
   "metadata": {},
   "outputs": [],
   "source": []
  }
 ],
 "metadata": {
  "kernelspec": {
   "display_name": "Python 3 (ipykernel)",
   "language": "python",
   "name": "python3"
  },
  "language_info": {
   "codemirror_mode": {
    "name": "ipython",
    "version": 3
   },
   "file_extension": ".py",
   "mimetype": "text/x-python",
   "name": "python",
   "nbconvert_exporter": "python",
   "pygments_lexer": "ipython3",
   "version": "3.8.8"
  },
  "latex_envs": {
   "LaTeX_envs_menu_present": true,
   "autoclose": false,
   "autocomplete": true,
   "bibliofile": "biblio.bib",
   "cite_by": "apalike",
   "current_citInitial": 1,
   "eqLabelWithNumbers": true,
   "eqNumInitial": 1,
   "hotkeys": {
    "equation": "Ctrl-E",
    "itemize": "Ctrl-I"
   },
   "labels_anchors": false,
   "latex_user_defs": false,
   "report_style_numbering": false,
   "user_envs_cfg": false
  },
  "toc": {
   "base_numbering": 1,
   "nav_menu": {},
   "number_sections": true,
   "sideBar": true,
   "skip_h1_title": true,
   "title_cell": "Table of Contents",
   "title_sidebar": "Contents",
   "toc_cell": false,
   "toc_position": {
    "height": "calc(100% - 180px)",
    "left": "10px",
    "top": "150px",
    "width": "303.837px"
   },
   "toc_section_display": true,
   "toc_window_display": true
  }
 },
 "nbformat": 4,
 "nbformat_minor": 5
}
