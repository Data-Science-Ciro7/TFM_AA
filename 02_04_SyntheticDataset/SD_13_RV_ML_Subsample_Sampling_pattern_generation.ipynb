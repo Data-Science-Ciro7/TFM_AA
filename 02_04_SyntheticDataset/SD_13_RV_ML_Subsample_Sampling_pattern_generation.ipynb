{
 "cells": [
  {
   "cell_type": "markdown",
   "id": "0cbdabe3",
   "metadata": {},
   "source": [
    "# GENERATION OF SAMPLING PATTERN AND NOISE DISTRIBUTIONS POOLS FROM THE ML SUBSAMPLE"
   ]
  },
  {
   "cell_type": "markdown",
   "id": "65f4a717",
   "metadata": {},
   "source": [
    "In this notebook we generate the pools of sampling patterns and noise distributions from the ML subsample of CARMENES RV curves that we will use to modify the basic synthetic dataset to get a modeled dataset as similar as possible to the real ML subsample dataset."
   ]
  },
  {
   "cell_type": "markdown",
   "id": "b2a75ce0",
   "metadata": {},
   "source": [
    "## Modules and configuration"
   ]
  },
  {
   "cell_type": "markdown",
   "id": "14cf3d60",
   "metadata": {},
   "source": [
    "### Modules"
   ]
  },
  {
   "cell_type": "code",
   "execution_count": 1,
   "id": "126c894f",
   "metadata": {
    "ExecuteTime": {
     "end_time": "2023-02-22T10:23:46.003529Z",
     "start_time": "2023-02-22T10:23:44.846593Z"
    }
   },
   "outputs": [],
   "source": [
    "import sys\n",
    "import os\n",
    "import pandas as pd\n",
    "import numpy as np\n",
    "import json\n",
    "\n",
    "from IPython.display import clear_output\n",
    "\n",
    "from scipy.stats import pearsonr, ttest_ind, normaltest, kstest\n",
    "\n",
    "from distfit import distfit\n",
    "\n",
    "import matplotlib.pyplot as plt\n",
    "import seaborn as sns\n",
    "sns.set_style(\"white\", {'figure.figsize':(15,10)})"
   ]
  },
  {
   "cell_type": "markdown",
   "id": "f4425908",
   "metadata": {},
   "source": [
    "### Configuration"
   ]
  },
  {
   "cell_type": "code",
   "execution_count": 2,
   "id": "d4da36a6",
   "metadata": {
    "ExecuteTime": {
     "end_time": "2023-02-22T10:23:50.514436Z",
     "start_time": "2023-02-22T10:23:50.500472Z"
    }
   },
   "outputs": [],
   "source": [
    "GTO_FILE = \"../data/SELECTION_for_ML_CARM_VIS_objects_with_PG.csv\"\n",
    "DIST_FILES_FOLDER = \"../data/DIST_FILES/\"\n",
    "NOISE_DIST_FOLDER = \"../data/DIST_FILES/RV_ML_subsample_Stars_noise_dist/\"\n",
    "\n",
    "RV_PATTERN_POOL_FILE = \"RV_ML_subsample_sampling_patterns_and_noise_B_REPEAT.csv\"\n",
    "\n",
    "IMAGE_FOLDER = \"./img/\"\n",
    "\n",
    "RANDOM_STATE = 11 # For reproducibility\n",
    "\n",
    "N_TRIALS = 10 # Number of random noise samples to generate to test the goodness of fit.\n",
    "ALPHA = 1e-3 # Significance threshold for statistical tests"
   ]
  },
  {
   "cell_type": "markdown",
   "id": "1fb50e88",
   "metadata": {},
   "source": [
    "### Functions"
   ]
  },
  {
   "cell_type": "raw",
   "id": "6ca90548",
   "metadata": {
    "ExecuteTime": {
     "end_time": "2022-04-23T11:24:23.687776Z",
     "start_time": "2022-04-23T11:24:23.677131Z"
    }
   },
   "source": [
    "def rv_extract_sampling(rv_filename):\n",
    "    '''Reads a CARMENES RV curve file and returns the sampling pattern as a list of time differences,\n",
    "    referred to the time of the initial sample point'''\n",
    "    try:\n",
    "        rv_ts = pd.read_csv(rv_filename, sep=' ', decimal='.', names=['time', 'rv', 'rv_error'])\n",
    "        ref_time = rv_ts['time'].min()\n",
    "        sampling_pattern = (rv_ts['time'] - ref_time).tolist()\n",
    "    except Exception as e:\n",
    "        print(\"***ERROR: an error happened with file %s. Error: %s\" %(rv_filename, str(e)))\n",
    "        sampling_pattern = None\n",
    "    return sampling_pattern"
   ]
  },
  {
   "cell_type": "code",
   "execution_count": 3,
   "id": "26b5ac26",
   "metadata": {
    "ExecuteTime": {
     "end_time": "2023-02-22T10:23:51.722262Z",
     "start_time": "2023-02-22T10:23:51.709297Z"
    }
   },
   "outputs": [],
   "source": [
    "def noise_fit_goodness(source_data, fitted_dist, num_trials, src_min=None, src_max=None):\n",
    "    '''Returns a median of the p-value for a given number of T-test independence values,\n",
    "    calculated between a source data and asample from a distribution fitted to that\n",
    "    source data. Also return a median of the generated values that fall outside the range\n",
    "    of the source data.'''\n",
    "    \n",
    "    # Code to silence output is from Alex Martelli and Nick T at:\n",
    "    # https://stackoverflow.com/questions/2828953/silence-the-stdout-of-a-function-in-python-without-trashing-sys-stdout-and-resto\n",
    "    # Redirect output to a file\n",
    "    #save_stdout = sys.stdout\n",
    "    #sys.stdout = open('trash', 'w')\n",
    "\n",
    "    p_values = []\n",
    "    oor_values = []\n",
    "    if src_min is None:\n",
    "        src_min = source_data.min()\n",
    "    if src_max is None:\n",
    "        src_max = source_data.max()\n",
    "    for trial in range(0, num_trials):\n",
    "        clear_output(wait=True)\n",
    "        rnd_values = fitted_dist.generate(n=len(source_data), random_state=RANDOM_STATE)\n",
    "        #_, p = ttest_ind(source_data, rnd_values)\n",
    "        #oor_fraction = (sum(rnd_values < src_min) + sum(rnd_values > src_max)) / len(rnd_values)\n",
    "        #p_values.append(p)\n",
    "        #oor_values.append(oor_fraction)\n",
    "        oor_fraction = (sum(rnd_values < src_min) + sum(rnd_values > src_max)) / len(rnd_values)\n",
    "        oor_values.append(oor_fraction)\n",
    "        #_, p = ttest_ind(source_data, rnd_values)\n",
    "        _, ks_p = kstest(source_data, rnd_values)\n",
    "        p_values.append(ks_p)\n",
    "        print(\"ks_p %f\" %ks_p)\n",
    "    \n",
    "    # Redirect output to screen again, and delete the file.\n",
    "    #sys.stdout = save_stdout\n",
    "    #os.remove('trash')\n",
    "    \n",
    "    return np.nanmedian(p_values), np.nanmedian(oor_values)\n",
    "    "
   ]
  },
  {
   "cell_type": "code",
   "execution_count": 4,
   "id": "a37aedc1",
   "metadata": {
    "ExecuteTime": {
     "end_time": "2023-02-22T10:23:52.127191Z",
     "start_time": "2023-02-22T10:23:52.116246Z"
    }
   },
   "outputs": [],
   "source": [
    "def rv_extract_sampling_and_noise(rv_filename):\n",
    "    '''Reads a CARMENES RV curve file and returns the sampling pattern as a list of time differences,\n",
    "    referred to the time of the initial sample point, and the best fit for the noise distribution,\n",
    "    as well as noise statistics and estimated goodness of fit for the noise'''\n",
    "    if True: # TEST\n",
    "    #try:\n",
    "        rv_ts = pd.read_csv(rv_filename, sep=' ', decimal='.', names=['time', 'rv', 'rv_error'])\n",
    "        # Extract sampling pattern:\n",
    "        ref_time = rv_ts['time'].min()\n",
    "        sampling_pattern = (rv_ts['time'] - ref_time).tolist()\n",
    "        # Calculate noise statistics:\n",
    "        rv_error_median = np.nanmedian(rv_ts['rv_error'])\n",
    "        rv_error_mean = np.nanmean(rv_ts['rv_error'])\n",
    "        rv_error_stdev = np.nanstd(rv_ts['rv_error'])\n",
    "        rv_error_min = np.nanmin(rv_ts['rv_error'])\n",
    "        rv_error_max = np.nanmax(rv_ts['rv_error'])\n",
    "        # Fit best noise distribution:\n",
    "        dist = distfit()\n",
    "        dist.fit_transform(pd.Series(rv_ts['rv_error']), verbose=0)\n",
    "        if True: # TEST\n",
    "        #try:\n",
    "            fit_p_value, fit_outliers_fraction = \\\n",
    "                noise_fit_goodness(source_data=rv_ts['rv_error'], fitted_dist=dist, num_trials=N_TRIALS,\n",
    "                                   src_min=rv_error_min, src_max=rv_error_max)\n",
    "        else: # TEST\n",
    "        #except:\n",
    "            fit_p_value, fit_outliers_fraction = 0.0, np.nan\n",
    "    else: # TEST\n",
    "    #except Exception as e:\n",
    "        print(\"***ERROR: an error happened with file %s. Error: %s\" %(rv_filename, str(e)))\n",
    "        sampling_pattern = None\n",
    "        fit_p_value = 0.0\n",
    "    return sampling_pattern, rv_error_min, rv_error_max, rv_error_median, rv_error_mean, rv_error_stdev, \\\n",
    "        dist, fit_p_value, fit_outliers_fraction"
   ]
  },
  {
   "cell_type": "code",
   "execution_count": 5,
   "id": "aa93b187",
   "metadata": {
    "ExecuteTime": {
     "end_time": "2023-02-22T10:23:52.424425Z",
     "start_time": "2023-02-22T10:23:52.414452Z"
    }
   },
   "outputs": [],
   "source": [
    "def draw_boxplot(data, x, y, fig_title, x_label, y_label, showfliers=None, fig_filename=None):\n",
    "    '''Draws a boxplot according to the arguments passed.'''\n",
    "    # Plots and saves the figure\n",
    "    #kwargs = dict(hist_kws={'alpha':.4}, kde_kws={'linewidth':2})\n",
    "    plt.figure(figsize=(10,7))\n",
    "    sns.boxplot(data=data, x=x, y=y, showfliers=showfliers)\n",
    "    plt.title(fig_title, fontsize=16)\n",
    "    plt.xlabel(x_label, fontsize=12)\n",
    "    plt.ylabel(y_label, fontsize=12)\n",
    "    #plt.grid(axis='both', alpha=0.75)\n",
    "    if fig_filename is None:\n",
    "        pass\n",
    "    else:\n",
    "        plt.savefig(fig_filename, format='png')\n"
   ]
  },
  {
   "cell_type": "code",
   "execution_count": 6,
   "id": "276200af",
   "metadata": {
    "ExecuteTime": {
     "end_time": "2023-02-22T10:23:52.849288Z",
     "start_time": "2023-02-22T10:23:52.836323Z"
    }
   },
   "outputs": [],
   "source": [
    "def scatter_graph(data, var_x, var_y, fig_title, x_label, y_label, fig_filename=None):\n",
    "    '''Plots a scatter plot of two columns of a dataframe.\n",
    "    It also calculates and shows Pearson's correlation coefficient.'''\n",
    "    #rv_x_var = var_x\n",
    "    #tess_y_var = var_y\n",
    "    #kwargs = dict(hist_kws={'alpha':.4}, kde_kws={'linewidth':2})\n",
    "    plt.figure(figsize=(10,7))\n",
    "    plt.title(fig_title, fontsize=16)\n",
    "    plt.grid(axis='both', alpha=0.75)\n",
    "    plt.xlabel(x_label, fontsize=12)\n",
    "    plt.ylabel(y_label, fontsize=12)\n",
    "    sns.scatterplot(data=data, x=var_x, y=var_y)\n",
    "#    plt.xlim(0.0, 1.0)\n",
    "#    plt.ylim(0.0, 1.0)    \n",
    "    plt.legend(loc='upper right');\n",
    "    # Save the image:\n",
    "    if fig_filename is None:\n",
    "        pass\n",
    "    else:\n",
    "        plt.savefig(fig_filename, format='png')\n",
    "    # Calculate the Pearson correlation coefficient between the two results:\n",
    "    corr, _ = pearsonr(data[var_x], data[var_y])\n",
    "    print('Pearson\\'s correlation value: %.3f' % corr)"
   ]
  },
  {
   "cell_type": "raw",
   "id": "142edd36",
   "metadata": {
    "ExecuteTime": {
     "end_time": "2022-11-29T06:52:41.280946Z",
     "start_time": "2022-11-29T06:52:41.266992Z"
    }
   },
   "source": [
    "def draw_violinplot(data, x, y, fig_title, x_label, y_label, showfliers=None, fig_filename=None):\n",
    "    '''Draws a boxplot according to the arguments passed.'''\n",
    "    # Plots and saves the figure\n",
    "    #kwargs = dict(hist_kws={'alpha':.4}, kde_kws={'linewidth':2})\n",
    "    plt.figure(figsize=(10,7))\n",
    "    sns.violinplot(data=data, x=x, y=y, showfliers=showfliers)\n",
    "    plt.title(fig_title, fontsize=16)\n",
    "    plt.xlabel(x_label, fontsize=12)\n",
    "    plt.ylabel(y_label, fontsize=12)\n",
    "    #plt.grid(axis='both', alpha=0.75)\n",
    "    if fig_filename is None:\n",
    "        pass\n",
    "    else:\n",
    "        plt.savefig(fig_filename, format='png')\n"
   ]
  },
  {
   "cell_type": "code",
   "execution_count": 7,
   "id": "fb2f1ef1",
   "metadata": {
    "ExecuteTime": {
     "end_time": "2023-02-22T10:23:53.671093Z",
     "start_time": "2023-02-22T10:23:53.661119Z"
    }
   },
   "outputs": [],
   "source": [
    "def draw_hist(d1, d1_label, fig_filename=None):\n",
    "    '''Draws an histogram of the values passed. It also calulates the statistics\n",
    "    and tests the goodness of fit by a Gaussian distribution'''\n",
    "    # Plots and saves the figure\n",
    "    kwargs = dict(hist_kws={'alpha':.4}, kde_kws={'linewidth':2})\n",
    "    plt.figure(figsize=(10,7))\n",
    "    plt.title(d1_label + \" values distribution\", fontsize=16)\n",
    "    plt.grid(axis='both', alpha=0.75)\n",
    "    plt.xlabel(d1_label, fontsize=12)\n",
    "    plt.ylabel('Frequency', fontsize=12)\n",
    "    sns.distplot(d1, label=d1_label, **kwargs)\n",
    "    #sns.histplot(d1, label=d1_label)\n",
    "    #plt.xlim(0,100)\n",
    "    #plt.legend(loc='upper right');\n",
    "    # Save the image:\n",
    "    if fig_filename is None:\n",
    "        pass\n",
    "    else:\n",
    "        plt.savefig(fig_filename, format='png')\n",
    "    # Display basic statistics:\n",
    "    print(pd.Series(d1).describe())\n",
    "    # Perform the normaltest (D'Agostino and Pearson) for Gaussian distribution fit:\n",
    "    k2, p = normaltest(d1)\n",
    "    alpha = ALPHA\n",
    "    print(\"p = {:g}\".format(p))\n",
    "    if p < alpha:  # null hypothesis: x comes from a normal distribution\n",
    "        print(\"***This distribution does NOT come from a Gaussian distribution\" \\\n",
    "              \"(with significance level = %.6f)\" %(1.0 - alpha))\n",
    "    else:\n",
    "        print(\"This distribution MIGHT COME come from Gaussian distribution\" \\\n",
    "              \"(with significance level = %.6f)\" %(1.0 - alpha))"
   ]
  },
  {
   "cell_type": "markdown",
   "id": "0367648a",
   "metadata": {},
   "source": [
    "## Load the ML subsample file"
   ]
  },
  {
   "cell_type": "code",
   "execution_count": 8,
   "id": "3ce881a7",
   "metadata": {
    "ExecuteTime": {
     "end_time": "2023-02-22T10:23:54.568726Z",
     "start_time": "2023-02-22T10:23:54.508911Z"
    }
   },
   "outputs": [
    {
     "data": {
      "text/html": [
       "<div>\n",
       "<style scoped>\n",
       "    .dataframe tbody tr th:only-of-type {\n",
       "        vertical-align: middle;\n",
       "    }\n",
       "\n",
       "    .dataframe tbody tr th {\n",
       "        vertical-align: top;\n",
       "    }\n",
       "\n",
       "    .dataframe thead th {\n",
       "        text-align: right;\n",
       "    }\n",
       "</style>\n",
       "<table border=\"1\" class=\"dataframe\">\n",
       "  <thead>\n",
       "    <tr style=\"text-align: right;\">\n",
       "      <th></th>\n",
       "      <th>Karmn</th>\n",
       "      <th>Name</th>\n",
       "      <th>Comp</th>\n",
       "      <th>GJ</th>\n",
       "      <th>RA_J2016_deg</th>\n",
       "      <th>DE_J2016_deg</th>\n",
       "      <th>RA_J2000</th>\n",
       "      <th>DE_J2000</th>\n",
       "      <th>l_J2016_deg</th>\n",
       "      <th>b_J2016_deg</th>\n",
       "      <th>...</th>\n",
       "      <th>WF_offset_PG_TESS</th>\n",
       "      <th>WF_e_offset_PG_TESS</th>\n",
       "      <th>WF_FAP_PG_TESS</th>\n",
       "      <th>WF_valid_PG_TESS</th>\n",
       "      <th>WF_error_PG_TESS</th>\n",
       "      <th>WF_elapsed_time_PG_TESS</th>\n",
       "      <th>WF_plain_file_TESS</th>\n",
       "      <th>WF_fig_file_TESS</th>\n",
       "      <th>PG_file_RV</th>\n",
       "      <th>PG_file_TESS</th>\n",
       "    </tr>\n",
       "  </thead>\n",
       "  <tbody>\n",
       "    <tr>\n",
       "      <th>0</th>\n",
       "      <td>J23505-095</td>\n",
       "      <td>LP 763-012</td>\n",
       "      <td>-</td>\n",
       "      <td>4367</td>\n",
       "      <td>357.634705</td>\n",
       "      <td>-9.560964</td>\n",
       "      <td>23:50:31.64</td>\n",
       "      <td>-09:33:32.7</td>\n",
       "      <td>80.777067</td>\n",
       "      <td>-67.303426</td>\n",
       "      <td>...</td>\n",
       "      <td>1000.000122</td>\n",
       "      <td>9.022946e-07</td>\n",
       "      <td>1.0</td>\n",
       "      <td>1.0</td>\n",
       "      <td>NaN</td>\n",
       "      <td>132.607176</td>\n",
       "      <td>../data/CARM_VIS_TESS_WinFunc_PGs/WF_J23505-09...</td>\n",
       "      <td>../data/CARM_VIS_TESS_WinFunc_PGs/figures/WF_J...</td>\n",
       "      <td>../data/CARM_VIS_RVs_PGs/J23505-095_RV_PG.dat</td>\n",
       "      <td>../data/CARM_VIS_TESS_PGs/J23505-095_RV_PG.dat</td>\n",
       "    </tr>\n",
       "    <tr>\n",
       "      <th>1</th>\n",
       "      <td>J23492+024</td>\n",
       "      <td>BR Psc</td>\n",
       "      <td>-</td>\n",
       "      <td>908</td>\n",
       "      <td>357.306604</td>\n",
       "      <td>2.396918</td>\n",
       "      <td>23:49:12.53</td>\n",
       "      <td>+02:24:04.4</td>\n",
       "      <td>93.567467</td>\n",
       "      <td>-56.885396</td>\n",
       "      <td>...</td>\n",
       "      <td>NaN</td>\n",
       "      <td>NaN</td>\n",
       "      <td>NaN</td>\n",
       "      <td>0.0</td>\n",
       "      <td>Not recognized as a supported data product:\\nn...</td>\n",
       "      <td>0.001995</td>\n",
       "      <td>NaN</td>\n",
       "      <td>NaN</td>\n",
       "      <td>../data/CARM_VIS_RVs_PGs/J23492+024_RV_PG.dat</td>\n",
       "      <td>NaN</td>\n",
       "    </tr>\n",
       "    <tr>\n",
       "      <th>2</th>\n",
       "      <td>J23431+365</td>\n",
       "      <td>GJ 1289</td>\n",
       "      <td>-</td>\n",
       "      <td>1289</td>\n",
       "      <td>355.781509</td>\n",
       "      <td>36.536310</td>\n",
       "      <td>23:43:06.31</td>\n",
       "      <td>+36:32:13.1</td>\n",
       "      <td>107.922839</td>\n",
       "      <td>-24.336479</td>\n",
       "      <td>...</td>\n",
       "      <td>999.999512</td>\n",
       "      <td>4.306074e-06</td>\n",
       "      <td>1.0</td>\n",
       "      <td>1.0</td>\n",
       "      <td>NaN</td>\n",
       "      <td>97.939914</td>\n",
       "      <td>../data/CARM_VIS_TESS_WinFunc_PGs/WF_J23431+36...</td>\n",
       "      <td>../data/CARM_VIS_TESS_WinFunc_PGs/figures/WF_J...</td>\n",
       "      <td>../data/CARM_VIS_RVs_PGs/J23431+365_RV_PG.dat</td>\n",
       "      <td>../data/CARM_VIS_TESS_PGs/J23431+365_RV_PG.dat</td>\n",
       "    </tr>\n",
       "    <tr>\n",
       "      <th>3</th>\n",
       "      <td>J23419+441</td>\n",
       "      <td>HH And</td>\n",
       "      <td>-</td>\n",
       "      <td>905</td>\n",
       "      <td>355.480015</td>\n",
       "      <td>44.170376</td>\n",
       "      <td>23:41:55.04</td>\n",
       "      <td>+44:10:38.8</td>\n",
       "      <td>109.989338</td>\n",
       "      <td>-16.947350</td>\n",
       "      <td>...</td>\n",
       "      <td>NaN</td>\n",
       "      <td>NaN</td>\n",
       "      <td>NaN</td>\n",
       "      <td>0.0</td>\n",
       "      <td>Not recognized as a supported data product:\\nn...</td>\n",
       "      <td>0.000998</td>\n",
       "      <td>NaN</td>\n",
       "      <td>NaN</td>\n",
       "      <td>../data/CARM_VIS_RVs_PGs/J23419+441_RV_PG.dat</td>\n",
       "      <td>NaN</td>\n",
       "    </tr>\n",
       "    <tr>\n",
       "      <th>4</th>\n",
       "      <td>J23381-162</td>\n",
       "      <td>G 273-093</td>\n",
       "      <td>-</td>\n",
       "      <td>4352</td>\n",
       "      <td>354.532687</td>\n",
       "      <td>-16.236514</td>\n",
       "      <td>23:38:08.16</td>\n",
       "      <td>-16:14:10.2</td>\n",
       "      <td>61.845437</td>\n",
       "      <td>-69.825220</td>\n",
       "      <td>...</td>\n",
       "      <td>1000.000122</td>\n",
       "      <td>9.022946e-07</td>\n",
       "      <td>1.0</td>\n",
       "      <td>1.0</td>\n",
       "      <td>NaN</td>\n",
       "      <td>136.603404</td>\n",
       "      <td>../data/CARM_VIS_TESS_WinFunc_PGs/WF_J23381-16...</td>\n",
       "      <td>../data/CARM_VIS_TESS_WinFunc_PGs/figures/WF_J...</td>\n",
       "      <td>../data/CARM_VIS_RVs_PGs/J23381-162_RV_PG.dat</td>\n",
       "      <td>../data/CARM_VIS_TESS_PGs/J23381-162_RV_PG.dat</td>\n",
       "    </tr>\n",
       "  </tbody>\n",
       "</table>\n",
       "<p>5 rows × 300 columns</p>\n",
       "</div>"
      ],
      "text/plain": [
       "        Karmn        Name Comp    GJ  RA_J2016_deg  DE_J2016_deg     RA_J2000  \\\n",
       "0  J23505-095  LP 763-012    -  4367    357.634705     -9.560964  23:50:31.64   \n",
       "1  J23492+024      BR Psc    -   908    357.306604      2.396918  23:49:12.53   \n",
       "2  J23431+365     GJ 1289    -  1289    355.781509     36.536310  23:43:06.31   \n",
       "3  J23419+441      HH And    -   905    355.480015     44.170376  23:41:55.04   \n",
       "4  J23381-162   G 273-093    -  4352    354.532687    -16.236514  23:38:08.16   \n",
       "\n",
       "      DE_J2000  l_J2016_deg  b_J2016_deg  ... WF_offset_PG_TESS  \\\n",
       "0  -09:33:32.7    80.777067   -67.303426  ...       1000.000122   \n",
       "1  +02:24:04.4    93.567467   -56.885396  ...               NaN   \n",
       "2  +36:32:13.1   107.922839   -24.336479  ...        999.999512   \n",
       "3  +44:10:38.8   109.989338   -16.947350  ...               NaN   \n",
       "4  -16:14:10.2    61.845437   -69.825220  ...       1000.000122   \n",
       "\n",
       "  WF_e_offset_PG_TESS  WF_FAP_PG_TESS WF_valid_PG_TESS  \\\n",
       "0        9.022946e-07             1.0              1.0   \n",
       "1                 NaN             NaN              0.0   \n",
       "2        4.306074e-06             1.0              1.0   \n",
       "3                 NaN             NaN              0.0   \n",
       "4        9.022946e-07             1.0              1.0   \n",
       "\n",
       "                                    WF_error_PG_TESS  WF_elapsed_time_PG_TESS  \\\n",
       "0                                                NaN               132.607176   \n",
       "1  Not recognized as a supported data product:\\nn...                 0.001995   \n",
       "2                                                NaN                97.939914   \n",
       "3  Not recognized as a supported data product:\\nn...                 0.000998   \n",
       "4                                                NaN               136.603404   \n",
       "\n",
       "                                  WF_plain_file_TESS  \\\n",
       "0  ../data/CARM_VIS_TESS_WinFunc_PGs/WF_J23505-09...   \n",
       "1                                                NaN   \n",
       "2  ../data/CARM_VIS_TESS_WinFunc_PGs/WF_J23431+36...   \n",
       "3                                                NaN   \n",
       "4  ../data/CARM_VIS_TESS_WinFunc_PGs/WF_J23381-16...   \n",
       "\n",
       "                                    WF_fig_file_TESS  \\\n",
       "0  ../data/CARM_VIS_TESS_WinFunc_PGs/figures/WF_J...   \n",
       "1                                                NaN   \n",
       "2  ../data/CARM_VIS_TESS_WinFunc_PGs/figures/WF_J...   \n",
       "3                                                NaN   \n",
       "4  ../data/CARM_VIS_TESS_WinFunc_PGs/figures/WF_J...   \n",
       "\n",
       "                                      PG_file_RV  \\\n",
       "0  ../data/CARM_VIS_RVs_PGs/J23505-095_RV_PG.dat   \n",
       "1  ../data/CARM_VIS_RVs_PGs/J23492+024_RV_PG.dat   \n",
       "2  ../data/CARM_VIS_RVs_PGs/J23431+365_RV_PG.dat   \n",
       "3  ../data/CARM_VIS_RVs_PGs/J23419+441_RV_PG.dat   \n",
       "4  ../data/CARM_VIS_RVs_PGs/J23381-162_RV_PG.dat   \n",
       "\n",
       "                                     PG_file_TESS  \n",
       "0  ../data/CARM_VIS_TESS_PGs/J23505-095_RV_PG.dat  \n",
       "1                                             NaN  \n",
       "2  ../data/CARM_VIS_TESS_PGs/J23431+365_RV_PG.dat  \n",
       "3                                             NaN  \n",
       "4  ../data/CARM_VIS_TESS_PGs/J23381-162_RV_PG.dat  \n",
       "\n",
       "[5 rows x 300 columns]"
      ]
     },
     "execution_count": 8,
     "metadata": {},
     "output_type": "execute_result"
    }
   ],
   "source": [
    "gto = pd.read_csv(GTO_FILE, sep=',', decimal='.')\n",
    "gto.head()"
   ]
  },
  {
   "cell_type": "markdown",
   "id": "3d34a3e0",
   "metadata": {},
   "source": [
    "### Clean the object list"
   ]
  },
  {
   "cell_type": "markdown",
   "id": "47440784",
   "metadata": {},
   "source": [
    "To be on the safe side, we remove the objects that gave trouble during the RV periodogram calculations:"
   ]
  },
  {
   "cell_type": "code",
   "execution_count": 9,
   "id": "9ab198a5",
   "metadata": {
    "ExecuteTime": {
     "end_time": "2023-02-22T10:23:55.609540Z",
     "start_time": "2023-02-22T10:23:55.596575Z"
    }
   },
   "outputs": [
    {
     "data": {
      "text/plain": [
       "Series([], Name: Karmn, dtype: object)"
      ]
     },
     "execution_count": 9,
     "metadata": {},
     "output_type": "execute_result"
    }
   ],
   "source": [
    "gto.loc[gto['valid_PG_RV'] == 0, 'Karmn']"
   ]
  },
  {
   "cell_type": "code",
   "execution_count": 10,
   "id": "6db6b0ba",
   "metadata": {
    "ExecuteTime": {
     "end_time": "2023-02-22T10:23:55.843808Z",
     "start_time": "2023-02-22T10:23:55.819872Z"
    }
   },
   "outputs": [
    {
     "data": {
      "text/html": [
       "<div>\n",
       "<style scoped>\n",
       "    .dataframe tbody tr th:only-of-type {\n",
       "        vertical-align: middle;\n",
       "    }\n",
       "\n",
       "    .dataframe tbody tr th {\n",
       "        vertical-align: top;\n",
       "    }\n",
       "\n",
       "    .dataframe thead th {\n",
       "        text-align: right;\n",
       "    }\n",
       "</style>\n",
       "<table border=\"1\" class=\"dataframe\">\n",
       "  <thead>\n",
       "    <tr style=\"text-align: right;\">\n",
       "      <th></th>\n",
       "      <th>index</th>\n",
       "      <th>Karmn</th>\n",
       "      <th>Name</th>\n",
       "      <th>Comp</th>\n",
       "      <th>GJ</th>\n",
       "      <th>RA_J2016_deg</th>\n",
       "      <th>DE_J2016_deg</th>\n",
       "      <th>RA_J2000</th>\n",
       "      <th>DE_J2000</th>\n",
       "      <th>l_J2016_deg</th>\n",
       "      <th>...</th>\n",
       "      <th>WF_offset_PG_TESS</th>\n",
       "      <th>WF_e_offset_PG_TESS</th>\n",
       "      <th>WF_FAP_PG_TESS</th>\n",
       "      <th>WF_valid_PG_TESS</th>\n",
       "      <th>WF_error_PG_TESS</th>\n",
       "      <th>WF_elapsed_time_PG_TESS</th>\n",
       "      <th>WF_plain_file_TESS</th>\n",
       "      <th>WF_fig_file_TESS</th>\n",
       "      <th>PG_file_RV</th>\n",
       "      <th>PG_file_TESS</th>\n",
       "    </tr>\n",
       "  </thead>\n",
       "  <tbody>\n",
       "    <tr>\n",
       "      <th>0</th>\n",
       "      <td>0</td>\n",
       "      <td>J23505-095</td>\n",
       "      <td>LP 763-012</td>\n",
       "      <td>-</td>\n",
       "      <td>4367</td>\n",
       "      <td>357.634705</td>\n",
       "      <td>-9.560964</td>\n",
       "      <td>23:50:31.64</td>\n",
       "      <td>-09:33:32.7</td>\n",
       "      <td>80.777067</td>\n",
       "      <td>...</td>\n",
       "      <td>1000.000122</td>\n",
       "      <td>9.022946e-07</td>\n",
       "      <td>1.0</td>\n",
       "      <td>1.0</td>\n",
       "      <td>NaN</td>\n",
       "      <td>132.607176</td>\n",
       "      <td>../data/CARM_VIS_TESS_WinFunc_PGs/WF_J23505-09...</td>\n",
       "      <td>../data/CARM_VIS_TESS_WinFunc_PGs/figures/WF_J...</td>\n",
       "      <td>../data/CARM_VIS_RVs_PGs/J23505-095_RV_PG.dat</td>\n",
       "      <td>../data/CARM_VIS_TESS_PGs/J23505-095_RV_PG.dat</td>\n",
       "    </tr>\n",
       "    <tr>\n",
       "      <th>1</th>\n",
       "      <td>1</td>\n",
       "      <td>J23492+024</td>\n",
       "      <td>BR Psc</td>\n",
       "      <td>-</td>\n",
       "      <td>908</td>\n",
       "      <td>357.306604</td>\n",
       "      <td>2.396918</td>\n",
       "      <td>23:49:12.53</td>\n",
       "      <td>+02:24:04.4</td>\n",
       "      <td>93.567467</td>\n",
       "      <td>...</td>\n",
       "      <td>NaN</td>\n",
       "      <td>NaN</td>\n",
       "      <td>NaN</td>\n",
       "      <td>0.0</td>\n",
       "      <td>Not recognized as a supported data product:\\nn...</td>\n",
       "      <td>0.001995</td>\n",
       "      <td>NaN</td>\n",
       "      <td>NaN</td>\n",
       "      <td>../data/CARM_VIS_RVs_PGs/J23492+024_RV_PG.dat</td>\n",
       "      <td>NaN</td>\n",
       "    </tr>\n",
       "    <tr>\n",
       "      <th>2</th>\n",
       "      <td>2</td>\n",
       "      <td>J23431+365</td>\n",
       "      <td>GJ 1289</td>\n",
       "      <td>-</td>\n",
       "      <td>1289</td>\n",
       "      <td>355.781509</td>\n",
       "      <td>36.536310</td>\n",
       "      <td>23:43:06.31</td>\n",
       "      <td>+36:32:13.1</td>\n",
       "      <td>107.922839</td>\n",
       "      <td>...</td>\n",
       "      <td>999.999512</td>\n",
       "      <td>4.306074e-06</td>\n",
       "      <td>1.0</td>\n",
       "      <td>1.0</td>\n",
       "      <td>NaN</td>\n",
       "      <td>97.939914</td>\n",
       "      <td>../data/CARM_VIS_TESS_WinFunc_PGs/WF_J23431+36...</td>\n",
       "      <td>../data/CARM_VIS_TESS_WinFunc_PGs/figures/WF_J...</td>\n",
       "      <td>../data/CARM_VIS_RVs_PGs/J23431+365_RV_PG.dat</td>\n",
       "      <td>../data/CARM_VIS_TESS_PGs/J23431+365_RV_PG.dat</td>\n",
       "    </tr>\n",
       "    <tr>\n",
       "      <th>3</th>\n",
       "      <td>3</td>\n",
       "      <td>J23419+441</td>\n",
       "      <td>HH And</td>\n",
       "      <td>-</td>\n",
       "      <td>905</td>\n",
       "      <td>355.480015</td>\n",
       "      <td>44.170376</td>\n",
       "      <td>23:41:55.04</td>\n",
       "      <td>+44:10:38.8</td>\n",
       "      <td>109.989338</td>\n",
       "      <td>...</td>\n",
       "      <td>NaN</td>\n",
       "      <td>NaN</td>\n",
       "      <td>NaN</td>\n",
       "      <td>0.0</td>\n",
       "      <td>Not recognized as a supported data product:\\nn...</td>\n",
       "      <td>0.000998</td>\n",
       "      <td>NaN</td>\n",
       "      <td>NaN</td>\n",
       "      <td>../data/CARM_VIS_RVs_PGs/J23419+441_RV_PG.dat</td>\n",
       "      <td>NaN</td>\n",
       "    </tr>\n",
       "    <tr>\n",
       "      <th>4</th>\n",
       "      <td>4</td>\n",
       "      <td>J23381-162</td>\n",
       "      <td>G 273-093</td>\n",
       "      <td>-</td>\n",
       "      <td>4352</td>\n",
       "      <td>354.532687</td>\n",
       "      <td>-16.236514</td>\n",
       "      <td>23:38:08.16</td>\n",
       "      <td>-16:14:10.2</td>\n",
       "      <td>61.845437</td>\n",
       "      <td>...</td>\n",
       "      <td>1000.000122</td>\n",
       "      <td>9.022946e-07</td>\n",
       "      <td>1.0</td>\n",
       "      <td>1.0</td>\n",
       "      <td>NaN</td>\n",
       "      <td>136.603404</td>\n",
       "      <td>../data/CARM_VIS_TESS_WinFunc_PGs/WF_J23381-16...</td>\n",
       "      <td>../data/CARM_VIS_TESS_WinFunc_PGs/figures/WF_J...</td>\n",
       "      <td>../data/CARM_VIS_RVs_PGs/J23381-162_RV_PG.dat</td>\n",
       "      <td>../data/CARM_VIS_TESS_PGs/J23381-162_RV_PG.dat</td>\n",
       "    </tr>\n",
       "  </tbody>\n",
       "</table>\n",
       "<p>5 rows × 301 columns</p>\n",
       "</div>"
      ],
      "text/plain": [
       "   index       Karmn        Name Comp    GJ  RA_J2016_deg  DE_J2016_deg  \\\n",
       "0      0  J23505-095  LP 763-012    -  4367    357.634705     -9.560964   \n",
       "1      1  J23492+024      BR Psc    -   908    357.306604      2.396918   \n",
       "2      2  J23431+365     GJ 1289    -  1289    355.781509     36.536310   \n",
       "3      3  J23419+441      HH And    -   905    355.480015     44.170376   \n",
       "4      4  J23381-162   G 273-093    -  4352    354.532687    -16.236514   \n",
       "\n",
       "      RA_J2000     DE_J2000  l_J2016_deg  ...  WF_offset_PG_TESS  \\\n",
       "0  23:50:31.64  -09:33:32.7    80.777067  ...        1000.000122   \n",
       "1  23:49:12.53  +02:24:04.4    93.567467  ...                NaN   \n",
       "2  23:43:06.31  +36:32:13.1   107.922839  ...         999.999512   \n",
       "3  23:41:55.04  +44:10:38.8   109.989338  ...                NaN   \n",
       "4  23:38:08.16  -16:14:10.2    61.845437  ...        1000.000122   \n",
       "\n",
       "  WF_e_offset_PG_TESS WF_FAP_PG_TESS  WF_valid_PG_TESS  \\\n",
       "0        9.022946e-07            1.0               1.0   \n",
       "1                 NaN            NaN               0.0   \n",
       "2        4.306074e-06            1.0               1.0   \n",
       "3                 NaN            NaN               0.0   \n",
       "4        9.022946e-07            1.0               1.0   \n",
       "\n",
       "                                    WF_error_PG_TESS  WF_elapsed_time_PG_TESS  \\\n",
       "0                                                NaN               132.607176   \n",
       "1  Not recognized as a supported data product:\\nn...                 0.001995   \n",
       "2                                                NaN                97.939914   \n",
       "3  Not recognized as a supported data product:\\nn...                 0.000998   \n",
       "4                                                NaN               136.603404   \n",
       "\n",
       "                                  WF_plain_file_TESS  \\\n",
       "0  ../data/CARM_VIS_TESS_WinFunc_PGs/WF_J23505-09...   \n",
       "1                                                NaN   \n",
       "2  ../data/CARM_VIS_TESS_WinFunc_PGs/WF_J23431+36...   \n",
       "3                                                NaN   \n",
       "4  ../data/CARM_VIS_TESS_WinFunc_PGs/WF_J23381-16...   \n",
       "\n",
       "                                    WF_fig_file_TESS  \\\n",
       "0  ../data/CARM_VIS_TESS_WinFunc_PGs/figures/WF_J...   \n",
       "1                                                NaN   \n",
       "2  ../data/CARM_VIS_TESS_WinFunc_PGs/figures/WF_J...   \n",
       "3                                                NaN   \n",
       "4  ../data/CARM_VIS_TESS_WinFunc_PGs/figures/WF_J...   \n",
       "\n",
       "                                      PG_file_RV  \\\n",
       "0  ../data/CARM_VIS_RVs_PGs/J23505-095_RV_PG.dat   \n",
       "1  ../data/CARM_VIS_RVs_PGs/J23492+024_RV_PG.dat   \n",
       "2  ../data/CARM_VIS_RVs_PGs/J23431+365_RV_PG.dat   \n",
       "3  ../data/CARM_VIS_RVs_PGs/J23419+441_RV_PG.dat   \n",
       "4  ../data/CARM_VIS_RVs_PGs/J23381-162_RV_PG.dat   \n",
       "\n",
       "                                     PG_file_TESS  \n",
       "0  ../data/CARM_VIS_TESS_PGs/J23505-095_RV_PG.dat  \n",
       "1                                             NaN  \n",
       "2  ../data/CARM_VIS_TESS_PGs/J23431+365_RV_PG.dat  \n",
       "3                                             NaN  \n",
       "4  ../data/CARM_VIS_TESS_PGs/J23381-162_RV_PG.dat  \n",
       "\n",
       "[5 rows x 301 columns]"
      ]
     },
     "execution_count": 10,
     "metadata": {},
     "output_type": "execute_result"
    }
   ],
   "source": [
    "gto = gto[gto['valid_PG_RV'] == 1].reset_index().copy()\n",
    "gto.head()"
   ]
  },
  {
   "cell_type": "code",
   "execution_count": 11,
   "id": "de9335d2",
   "metadata": {
    "ExecuteTime": {
     "end_time": "2023-02-22T10:23:56.253740Z",
     "start_time": "2023-02-22T10:23:56.244764Z"
    }
   },
   "outputs": [
    {
     "data": {
      "text/plain": [
       "(233, 301)"
      ]
     },
     "execution_count": 11,
     "metadata": {},
     "output_type": "execute_result"
    }
   ],
   "source": [
    "gto.shape"
   ]
  },
  {
   "cell_type": "markdown",
   "id": "3e756931",
   "metadata": {},
   "source": [
    "## CARMENES ML subsample RV sampling patterns and noise distributions pool"
   ]
  },
  {
   "cell_type": "markdown",
   "id": "d1a004c8",
   "metadata": {},
   "source": [
    "### Populate the pools"
   ]
  },
  {
   "cell_type": "markdown",
   "id": "4c326582",
   "metadata": {},
   "source": [
    "Notice that we also trasfer some of the original data from the star, so that calculating some possible correlations later on will be easier."
   ]
  },
  {
   "cell_type": "code",
   "execution_count": 12,
   "id": "a9490803",
   "metadata": {
    "ExecuteTime": {
     "end_time": "2023-02-22T10:23:57.297009Z",
     "start_time": "2023-02-22T10:23:57.292022Z"
    }
   },
   "outputs": [
    {
     "name": "stdout",
     "output_type": "stream",
     "text": [
      "['index', 'Karmn', 'Name', 'Comp', 'GJ', 'RA_J2016_deg', 'DE_J2016_deg', 'RA_J2000', 'DE_J2000', 'l_J2016_deg', 'b_J2016_deg', 'Ref01', 'SpT', 'SpTnum', 'Ref02', 'Teff_K', 'eTeff_K', 'logg', 'elogg', '[Fe/H]', 'e[Fe/H]', 'Ref03', 'L_Lsol', 'eL_Lsol', 'Ref04', 'R_Rsol', 'eR_Rsol', 'Ref05', 'M_Msol', 'eM_Msol', 'Ref06', 'muRA_masa-1', 'emuRA_masa-1', 'muDE_masa-1', 'emuDE_masa-1', 'Ref07', 'pi_mas', 'epi_mas', 'Ref08', 'd_pc', 'ed_pc', 'Ref09', 'Vr_kms-1', 'eVr_kms-1', 'Ref10', 'ruwe', 'Ref11', 'U_kms-1', 'eU_kms-1', 'V_kms-1', 'eV_kms-1', 'W_kms-1', 'eW_kms-1', 'Ref12', 'sa_m/s/a', 'esa_m/s/a', 'Ref13', 'SKG', 'Ref14', 'SKG_lit', 'Ref14_lit', 'Pop', 'Ref15', 'vsini_flag', 'vsini_kms-1', 'evsini_kms-1', 'Ref16', 'P_d', 'eP_d', 'Ref17', 'pEWHalpha_A', 'epEWHalpha_A', 'Ref18', 'log(LHalpha/Lbol)', 'elog(LHalpha/Lbol)', 'Ref19', '1RXS', 'CRT_s-1', 'eCRT_s-1', 'HR1', 'eHR1', 'HR2', 'eHR2', 'Flux_X_E-13_ergcm-2s-1', 'eFlux_X_E-13_ergcm-2s-1', 'LX/LJ', 'eLX/LJ', 'Ref20', 'Activity', 'Ref21', 'FUV_mag', 'eFUV_mag', 'NUV_mag', 'eNUV_mag', 'Ref22', 'u_mag', 'eu_mag', 'Ref23', 'BT_mag', 'eBT_mag', 'Ref24', 'B_mag', 'eB_mag', 'Ref25', 'BP_mag', 'eBP_mag', 'Ref26', 'g_mag', 'eg_mag', 'Ref27', 'VT_mag', 'eVT_mag', 'Ref28', 'V_mag', 'eV_mag', 'Ref29', 'Ra_mag', 'Ref30', 'r_mag', 'er_mag', 'Ref31', 'GG_mag', 'eGG_mag', 'Ref32', 'i_mag', 'ei_mag', 'Ref33', 'RP_mag', 'eRP_mag', 'Ref34', 'IN_mag', 'Ref35', 'J_mag', 'eJ_mag', 'H_mag', 'eH_mag', 'Ks_mag', 'eKs_mag', 'QFlag_2M', 'Ref36', 'W1_mag', 'eW1_mag', 'W2_mag', 'eW2_mag', 'W3_mag', 'eW3_mag', 'W4_mag', 'eW4_mag', 'QFlag_WISE', 'Ref37', 'Multiplicity', 'WideWDS', 'Widerho_arcsec', 'eWiderho_arcsec', 'Ref38', 'WideCompanionName', 'WideCompanionSpT', 'CloseWDS', 'Closerho_arcsec', 'eCloserho_arcsec', 'Ref39', 'CloseCompanionSpT', 'RV', 'Planet', 'Ref40', 'PlanetNum', 'LoRes_spectrum', 'HiRes_spectrum', 'LoRes_imaging', 'HiRes_imaging', 'Class', 'Survey', 'Notes', 'Gaia_id_1', '2MASS_id', 'TIC_id', 'Teff_min_K', 'Teff_max_K', 'logg_min', 'logg_max', 'is_GTO', 'rv_file', 'lc_file', 'has_rv', 'has_lc', 'InstBand_nominal', 'InstBand_ranged', 'n_RV', 'Ps_RV', 'fs_RV', 'wmean_RV', 'wrms_RV', 'info_PG_RV', 'maxP_PG_RV', 'maxSNR_PG_RV', 'rms_PG_RV', 'f_PG_RV', 'e_f_PG_RV', 'Pd_PG_RV', 'e_Pd_PG_RV', 'Ph_PG_RV', 'e_Ph_PG_RV', 'Pm_PG_RV', 'e_Pm_PG_RV', 'A_PG_RV', 'e_A_PG_RV', 'ph_PG_RV', 'e_ph_PG_RV', 'T0_PG_RV', 'e_T0_PG_RV', 'offset_PG_RV', 'e_offset_PG_RV', 'FAP_PG_RV', 'valid_PG_RV', 'error_PG_RV', 'elapsed_time_PG_RV', 'fits_file_RV', 'fig_file_RV', 'n_TESS', 'Ps_TESS', 'fs_TESS', 'wmean_TESS', 'wrms_TESS', 'info_PG_TESS', 'maxP_PG_TESS', 'maxSNR_PG_TESS', 'rms_PG_TESS', 'f_PG_TESS', 'e_f_PG_TESS', 'Pd_PG_TESS', 'e_Pd_PG_TESS', 'Ph_PG_TESS', 'e_Ph_PG_TESS', 'Pm_PG_TESS', 'e_Pm_PG_TESS', 'A_PG_TESS', 'e_A_PG_TESS', 'ph_PG_TESS', 'e_ph_PG_TESS', 'T0_PG_TESS', 'e_T0_PG_TESS', 'offset_PG_TESS', 'e_offset_PG_TESS', 'FAP_PG_TESS', 'valid_PG_TESS', 'error_PG_TESS', 'elapsed_time_PG_TESS', 'fits_file_TESS', 'fig_file_TESS', 'WF_maxP_PG_RV', 'WF_maxSNR_PG_RV', 'WF_rms_PG_RV', 'WF_f_PG_RV', 'WF_e_f_PG_RV', 'WF_Pd_PG_RV', 'WF_e_Pd_PG_RV', 'WF_Ph_PG_RV', 'WF_e_Ph_PG_RV', 'WF_Pm_PG_RV', 'WF_e_Pm_PG_RV', 'WF_A_PG_RV', 'WF_e_A_PG_RV', 'WF_ph_PG_RV', 'WF_e_ph_PG_RV', 'WF_T0_PG_RV', 'WF_e_T0_PG_RV', 'WF_offset_PG_RV', 'WF_e_offset_PG_RV', 'WF_FAP_PG_RV', 'WF_valid_PG_RV', 'WF_error_PG_RV', 'WF_elapsed_time_PG_RV', 'WF_plain_file_RV', 'WF_fig_file_RV', 'WF_maxP_PG_TESS', 'WF_maxSNR_PG_TESS', 'WF_rms_PG_TESS', 'WF_f_PG_TESS', 'WF_e_f_PG_TESS', 'WF_Pd_PG_TESS', 'WF_e_Pd_PG_TESS', 'WF_Ph_PG_TESS', 'WF_e_Ph_PG_TESS', 'WF_Pm_PG_TESS', 'WF_e_Pm_PG_TESS', 'WF_A_PG_TESS', 'WF_e_A_PG_TESS', 'WF_ph_PG_TESS', 'WF_e_ph_PG_TESS', 'WF_T0_PG_TESS', 'WF_e_T0_PG_TESS', 'WF_offset_PG_TESS', 'WF_e_offset_PG_TESS', 'WF_FAP_PG_TESS', 'WF_valid_PG_TESS', 'WF_error_PG_TESS', 'WF_elapsed_time_PG_TESS', 'WF_plain_file_TESS', 'WF_fig_file_TESS', 'PG_file_RV', 'PG_file_TESS']\n"
     ]
    }
   ],
   "source": [
    "print(gto.columns.to_list())"
   ]
  },
  {
   "cell_type": "code",
   "execution_count": 13,
   "id": "6e6ebebd",
   "metadata": {
    "ExecuteTime": {
     "end_time": "2023-02-22T10:23:57.738828Z",
     "start_time": "2023-02-22T10:23:57.731847Z"
    }
   },
   "outputs": [
    {
     "name": "stdout",
     "output_type": "stream",
     "text": [
      "[nan, 'Flare?', 'Flare']\n"
     ]
    }
   ],
   "source": [
    "print(gto['Activity'].unique().tolist())"
   ]
  },
  {
   "cell_type": "code",
   "execution_count": 14,
   "id": "c561db3b",
   "metadata": {
    "ExecuteTime": {
     "end_time": "2023-02-22T10:23:58.110833Z",
     "start_time": "2023-02-22T10:23:58.091883Z"
    }
   },
   "outputs": [
    {
     "data": {
      "text/plain": [
       "205"
      ]
     },
     "execution_count": 14,
     "metadata": {},
     "output_type": "execute_result"
    }
   ],
   "source": [
    "sum(gto['Activity'].isna())"
   ]
  },
  {
   "cell_type": "code",
   "execution_count": 15,
   "id": "043273de",
   "metadata": {
    "ExecuteTime": {
     "end_time": "2023-02-22T10:23:58.518744Z",
     "start_time": "2023-02-22T10:23:58.499795Z"
    }
   },
   "outputs": [
    {
     "data": {
      "text/html": [
       "<div>\n",
       "<style scoped>\n",
       "    .dataframe tbody tr th:only-of-type {\n",
       "        vertical-align: middle;\n",
       "    }\n",
       "\n",
       "    .dataframe tbody tr th {\n",
       "        vertical-align: top;\n",
       "    }\n",
       "\n",
       "    .dataframe thead th {\n",
       "        text-align: right;\n",
       "    }\n",
       "</style>\n",
       "<table border=\"1\" class=\"dataframe\">\n",
       "  <thead>\n",
       "    <tr style=\"text-align: right;\">\n",
       "      <th></th>\n",
       "      <th>Karmn</th>\n",
       "      <th>Vr_kms-1</th>\n",
       "      <th>n_RV</th>\n",
       "      <th>Ps_RV</th>\n",
       "      <th>wrms_RV</th>\n",
       "      <th>RV_sampling_deltas</th>\n",
       "      <th>RV_noise_min</th>\n",
       "      <th>RV_noise_max</th>\n",
       "      <th>RV_noise_median</th>\n",
       "      <th>RV_noise_mean</th>\n",
       "      <th>RV_noise_stdev</th>\n",
       "      <th>RV_noise_dist</th>\n",
       "      <th>RV_noise_name</th>\n",
       "      <th>RV_noise_loc</th>\n",
       "      <th>RV_noise_scale</th>\n",
       "      <th>RV_noise_dist_file</th>\n",
       "      <th>RV_noise_fit_p-value</th>\n",
       "      <th>Fraction_Out</th>\n",
       "    </tr>\n",
       "  </thead>\n",
       "  <tbody>\n",
       "  </tbody>\n",
       "</table>\n",
       "</div>"
      ],
      "text/plain": [
       "Empty DataFrame\n",
       "Columns: [Karmn, Vr_kms-1, n_RV, Ps_RV, wrms_RV, RV_sampling_deltas, RV_noise_min, RV_noise_max, RV_noise_median, RV_noise_mean, RV_noise_stdev, RV_noise_dist, RV_noise_name, RV_noise_loc, RV_noise_scale, RV_noise_dist_file, RV_noise_fit_p-value, Fraction_Out]\n",
       "Index: []"
      ]
     },
     "execution_count": 15,
     "metadata": {},
     "output_type": "execute_result"
    }
   ],
   "source": [
    "# Initialize the results array\n",
    "rv_patterns = pd.DataFrame(columns=['Karmn', 'Vr_kms-1', 'n_RV', 'Ps_RV', 'wrms_RV',\n",
    "                                    'RV_sampling_deltas',\n",
    "                                    'RV_noise_min', 'RV_noise_max',\n",
    "                                    'RV_noise_median', 'RV_noise_mean', 'RV_noise_stdev',\n",
    "                                    'RV_noise_dist', 'RV_noise_name', 'RV_noise_loc', 'RV_noise_scale',\n",
    "                                    'RV_noise_dist_file', 'RV_noise_fit_p-value', 'Fraction_Out'])\n",
    "rv_patterns"
   ]
  },
  {
   "cell_type": "code",
   "execution_count": 16,
   "id": "c9b17372",
   "metadata": {
    "ExecuteTime": {
     "end_time": "2023-02-22T10:25:19.461361Z",
     "start_time": "2023-02-22T10:24:00.813054Z"
    }
   },
   "outputs": [
    {
     "name": "stdout",
     "output_type": "stream",
     "text": [
      "[distfit] >Generate 52 lognorm distributed samples with fitted params (0.6439650964457941, 0.9073017392164592, 0.7272116932075658).\n",
      "ks_p 0.420624\n",
      "[pypickle] Pickle file saved: [../data/DIST_FILES/RV_ML_subsample_Stars_noise_dist/J00051+457_RV_noise.pickle]\n",
      "[distfit] >Saving.. True\n"
     ]
    }
   ],
   "source": [
    "# Populate the patterns:\n",
    "#for i in range(0,5): # TEST\n",
    "for i in range(0,len(gto)):\n",
    "    #clear_output(wait=True)\n",
    "    new_pattern, \\\n",
    "        lower_limit, higher_limit, noise_median, noise_mean, noise_stdev, \\\n",
    "        new_noise_dist, new_noise_fit_p, limit_outliers_frac = \\\n",
    "            rv_extract_sampling_and_noise(gto.loc[i, 'rv_file'])\n",
    "    dist_filename = NOISE_DIST_FOLDER + gto.loc[i, 'Karmn'] + \"_RV_noise.pickle\"\n",
    "    new_noise_dist.save(dist_filename)\n",
    "    try:\n",
    "        new_noise_name = new_noise_dist.model['name']\n",
    "    except:\n",
    "        new_noise_name = np.nan\n",
    "    try:\n",
    "        new_noise_loc = new_noise_dist.model['loc']\n",
    "    except:\n",
    "        new_noise_loc = np.nan\n",
    "    try:\n",
    "        new_noise_scale = new_noise_dist.model['scale']\n",
    "    except:\n",
    "        new_noise_scale = np.nan\n",
    "    rv_patterns = rv_patterns \\\n",
    "        .append({'Karmn': gto.loc[i, 'Karmn'],\n",
    "                 'Vr_kms-1': gto.loc[i, 'Vr_kms-1'],\n",
    "                 'n_RV': gto.loc[i, 'n_RV'],\n",
    "                 'Ps_RV': gto.loc[i, 'Ps_RV'],\n",
    "                 'wrms_RV': gto.loc[i, 'wrms_RV'],\n",
    "                 'RV_sampling_deltas': json.dumps(new_pattern),\n",
    "                 'RV_noise_min': lower_limit,\n",
    "                 'RV_noise_max': higher_limit,\n",
    "                 'RV_noise_median': noise_median,\n",
    "                 'RV_noise_mean': noise_mean,\n",
    "                 'RV_noise_stdev': noise_stdev,\n",
    "                 'RV_noise_dist': new_noise_dist.model,\n",
    "                 'RV_noise_name': new_noise_name,                 \n",
    "                 'RV_noise_loc': new_noise_loc,\n",
    "                 'RV_noise_scale':  new_noise_scale,\n",
    "                 'RV_noise_dist_file': dist_filename,\n",
    "                 'RV_noise_fit_p-value': new_noise_fit_p,\n",
    "                 'Fraction_Out': limit_outliers_frac\n",
    "                },\n",
    "                ignore_index=True)\n",
    "    #print(\"noise p-value %f\" %new_noise_fit_p)\n",
    "    \n",
    "#rv_patterns.tail()"
   ]
  },
  {
   "cell_type": "code",
   "execution_count": 17,
   "id": "875c4da6",
   "metadata": {
    "ExecuteTime": {
     "end_time": "2023-02-22T10:25:19.492278Z",
     "start_time": "2023-02-22T10:25:19.463355Z"
    }
   },
   "outputs": [
    {
     "data": {
      "text/html": [
       "<div>\n",
       "<style scoped>\n",
       "    .dataframe tbody tr th:only-of-type {\n",
       "        vertical-align: middle;\n",
       "    }\n",
       "\n",
       "    .dataframe tbody tr th {\n",
       "        vertical-align: top;\n",
       "    }\n",
       "\n",
       "    .dataframe thead th {\n",
       "        text-align: right;\n",
       "    }\n",
       "</style>\n",
       "<table border=\"1\" class=\"dataframe\">\n",
       "  <thead>\n",
       "    <tr style=\"text-align: right;\">\n",
       "      <th></th>\n",
       "      <th>Karmn</th>\n",
       "      <th>Vr_kms-1</th>\n",
       "      <th>n_RV</th>\n",
       "      <th>Ps_RV</th>\n",
       "      <th>wrms_RV</th>\n",
       "      <th>RV_sampling_deltas</th>\n",
       "      <th>RV_noise_min</th>\n",
       "      <th>RV_noise_max</th>\n",
       "      <th>RV_noise_median</th>\n",
       "      <th>RV_noise_mean</th>\n",
       "      <th>RV_noise_stdev</th>\n",
       "      <th>RV_noise_dist</th>\n",
       "      <th>RV_noise_name</th>\n",
       "      <th>RV_noise_loc</th>\n",
       "      <th>RV_noise_scale</th>\n",
       "      <th>RV_noise_dist_file</th>\n",
       "      <th>RV_noise_fit_p-value</th>\n",
       "      <th>Fraction_Out</th>\n",
       "    </tr>\n",
       "  </thead>\n",
       "  <tbody>\n",
       "    <tr>\n",
       "      <th>228</th>\n",
       "      <td>J00184+440</td>\n",
       "      <td>10.997000</td>\n",
       "      <td>193.0</td>\n",
       "      <td>0.985929</td>\n",
       "      <td>2.311629</td>\n",
       "      <td>[0.0, 13.990557200275362, 18.001077729277313, ...</td>\n",
       "      <td>0.832274</td>\n",
       "      <td>3.104075</td>\n",
       "      <td>1.331101</td>\n",
       "      <td>1.535932</td>\n",
       "      <td>0.554882</td>\n",
       "      <td>{'distr': &lt;scipy.stats._continuous_distns.dwei...</td>\n",
       "      <td>dweibull</td>\n",
       "      <td>1.240303</td>\n",
       "      <td>3.236921e-01</td>\n",
       "      <td>../data/DIST_FILES/RV_ML_subsample_Stars_noise...</td>\n",
       "      <td>0.003439</td>\n",
       "      <td>0.124352</td>\n",
       "    </tr>\n",
       "    <tr>\n",
       "      <th>229</th>\n",
       "      <td>J00183+440</td>\n",
       "      <td>11.820000</td>\n",
       "      <td>216.0</td>\n",
       "      <td>0.826708</td>\n",
       "      <td>2.617721</td>\n",
       "      <td>[0.0, 1.0492656417191029, 2.022110936231911, 3...</td>\n",
       "      <td>0.766382</td>\n",
       "      <td>4.264498</td>\n",
       "      <td>1.476962</td>\n",
       "      <td>1.556480</td>\n",
       "      <td>0.527647</td>\n",
       "      <td>{'distr': &lt;scipy.stats._continuous_distns.beta...</td>\n",
       "      <td>beta</td>\n",
       "      <td>0.744054</td>\n",
       "      <td>7.930984e+00</td>\n",
       "      <td>../data/DIST_FILES/RV_ML_subsample_Stars_noise...</td>\n",
       "      <td>0.313226</td>\n",
       "      <td>0.000000</td>\n",
       "    </tr>\n",
       "    <tr>\n",
       "      <th>230</th>\n",
       "      <td>J00162+198E</td>\n",
       "      <td>-1.625194</td>\n",
       "      <td>18.0</td>\n",
       "      <td>42.940403</td>\n",
       "      <td>2.861697</td>\n",
       "      <td>[0.0, 15.97568494733423, 18.95287090772763, 18...</td>\n",
       "      <td>1.102225</td>\n",
       "      <td>2.145801</td>\n",
       "      <td>1.483359</td>\n",
       "      <td>1.577230</td>\n",
       "      <td>0.338830</td>\n",
       "      <td>{'distr': &lt;scipy.stats._continuous_distns.beta...</td>\n",
       "      <td>beta</td>\n",
       "      <td>1.102225</td>\n",
       "      <td>1.076078e+00</td>\n",
       "      <td>../data/DIST_FILES/RV_ML_subsample_Stars_noise...</td>\n",
       "      <td>0.132394</td>\n",
       "      <td>0.000000</td>\n",
       "    </tr>\n",
       "    <tr>\n",
       "      <th>231</th>\n",
       "      <td>J00067-075</td>\n",
       "      <td>-40.123002</td>\n",
       "      <td>89.0</td>\n",
       "      <td>2.510671</td>\n",
       "      <td>2.440083</td>\n",
       "      <td>[0.0, 0.9991974416188896, 11.033571805804968, ...</td>\n",
       "      <td>1.113746</td>\n",
       "      <td>5.291221</td>\n",
       "      <td>1.482946</td>\n",
       "      <td>1.572339</td>\n",
       "      <td>0.508195</td>\n",
       "      <td>{'distr': &lt;scipy.stats._continuous_distns.beta...</td>\n",
       "      <td>beta</td>\n",
       "      <td>1.090486</td>\n",
       "      <td>1.083765e+13</td>\n",
       "      <td>../data/DIST_FILES/RV_ML_subsample_Stars_noise...</td>\n",
       "      <td>0.395307</td>\n",
       "      <td>0.000000</td>\n",
       "    </tr>\n",
       "    <tr>\n",
       "      <th>232</th>\n",
       "      <td>J00051+457</td>\n",
       "      <td>-0.229000</td>\n",
       "      <td>52.0</td>\n",
       "      <td>3.024201</td>\n",
       "      <td>2.835825</td>\n",
       "      <td>[0.0, 20.975221153348684, 188.3961285338737, 2...</td>\n",
       "      <td>1.053913</td>\n",
       "      <td>5.406914</td>\n",
       "      <td>1.706992</td>\n",
       "      <td>1.804720</td>\n",
       "      <td>0.676688</td>\n",
       "      <td>{'distr': &lt;scipy.stats._continuous_distns.logn...</td>\n",
       "      <td>lognorm</td>\n",
       "      <td>0.907302</td>\n",
       "      <td>7.272117e-01</td>\n",
       "      <td>../data/DIST_FILES/RV_ML_subsample_Stars_noise...</td>\n",
       "      <td>0.420624</td>\n",
       "      <td>0.019231</td>\n",
       "    </tr>\n",
       "  </tbody>\n",
       "</table>\n",
       "</div>"
      ],
      "text/plain": [
       "           Karmn   Vr_kms-1   n_RV      Ps_RV   wrms_RV  \\\n",
       "228   J00184+440  10.997000  193.0   0.985929  2.311629   \n",
       "229   J00183+440  11.820000  216.0   0.826708  2.617721   \n",
       "230  J00162+198E  -1.625194   18.0  42.940403  2.861697   \n",
       "231   J00067-075 -40.123002   89.0   2.510671  2.440083   \n",
       "232   J00051+457  -0.229000   52.0   3.024201  2.835825   \n",
       "\n",
       "                                    RV_sampling_deltas  RV_noise_min  \\\n",
       "228  [0.0, 13.990557200275362, 18.001077729277313, ...      0.832274   \n",
       "229  [0.0, 1.0492656417191029, 2.022110936231911, 3...      0.766382   \n",
       "230  [0.0, 15.97568494733423, 18.95287090772763, 18...      1.102225   \n",
       "231  [0.0, 0.9991974416188896, 11.033571805804968, ...      1.113746   \n",
       "232  [0.0, 20.975221153348684, 188.3961285338737, 2...      1.053913   \n",
       "\n",
       "     RV_noise_max  RV_noise_median  RV_noise_mean  RV_noise_stdev  \\\n",
       "228      3.104075         1.331101       1.535932        0.554882   \n",
       "229      4.264498         1.476962       1.556480        0.527647   \n",
       "230      2.145801         1.483359       1.577230        0.338830   \n",
       "231      5.291221         1.482946       1.572339        0.508195   \n",
       "232      5.406914         1.706992       1.804720        0.676688   \n",
       "\n",
       "                                         RV_noise_dist RV_noise_name  \\\n",
       "228  {'distr': <scipy.stats._continuous_distns.dwei...      dweibull   \n",
       "229  {'distr': <scipy.stats._continuous_distns.beta...          beta   \n",
       "230  {'distr': <scipy.stats._continuous_distns.beta...          beta   \n",
       "231  {'distr': <scipy.stats._continuous_distns.beta...          beta   \n",
       "232  {'distr': <scipy.stats._continuous_distns.logn...       lognorm   \n",
       "\n",
       "     RV_noise_loc  RV_noise_scale  \\\n",
       "228      1.240303    3.236921e-01   \n",
       "229      0.744054    7.930984e+00   \n",
       "230      1.102225    1.076078e+00   \n",
       "231      1.090486    1.083765e+13   \n",
       "232      0.907302    7.272117e-01   \n",
       "\n",
       "                                    RV_noise_dist_file  RV_noise_fit_p-value  \\\n",
       "228  ../data/DIST_FILES/RV_ML_subsample_Stars_noise...              0.003439   \n",
       "229  ../data/DIST_FILES/RV_ML_subsample_Stars_noise...              0.313226   \n",
       "230  ../data/DIST_FILES/RV_ML_subsample_Stars_noise...              0.132394   \n",
       "231  ../data/DIST_FILES/RV_ML_subsample_Stars_noise...              0.395307   \n",
       "232  ../data/DIST_FILES/RV_ML_subsample_Stars_noise...              0.420624   \n",
       "\n",
       "     Fraction_Out  \n",
       "228      0.124352  \n",
       "229      0.000000  \n",
       "230      0.000000  \n",
       "231      0.000000  \n",
       "232      0.019231  "
      ]
     },
     "execution_count": 17,
     "metadata": {},
     "output_type": "execute_result"
    }
   ],
   "source": [
    "rv_patterns.tail()"
   ]
  },
  {
   "cell_type": "markdown",
   "id": "18b279cc",
   "metadata": {},
   "source": [
    "#### Check the p-values obtained"
   ]
  },
  {
   "cell_type": "code",
   "execution_count": 18,
   "id": "5be30d78",
   "metadata": {
    "ExecuteTime": {
     "end_time": "2023-02-22T10:25:19.507238Z",
     "start_time": "2023-02-22T10:25:19.493275Z"
    }
   },
   "outputs": [
    {
     "data": {
      "text/html": [
       "<div>\n",
       "<style scoped>\n",
       "    .dataframe tbody tr th:only-of-type {\n",
       "        vertical-align: middle;\n",
       "    }\n",
       "\n",
       "    .dataframe tbody tr th {\n",
       "        vertical-align: top;\n",
       "    }\n",
       "\n",
       "    .dataframe thead th {\n",
       "        text-align: right;\n",
       "    }\n",
       "</style>\n",
       "<table border=\"1\" class=\"dataframe\">\n",
       "  <thead>\n",
       "    <tr style=\"text-align: right;\">\n",
       "      <th></th>\n",
       "      <th>RV_noise_fit_p-value</th>\n",
       "      <th>Fraction_Out</th>\n",
       "    </tr>\n",
       "  </thead>\n",
       "  <tbody>\n",
       "    <tr>\n",
       "      <th>count</th>\n",
       "      <td>2.330000e+02</td>\n",
       "      <td>233.000000</td>\n",
       "    </tr>\n",
       "    <tr>\n",
       "      <th>mean</th>\n",
       "      <td>6.896301e-01</td>\n",
       "      <td>0.064660</td>\n",
       "    </tr>\n",
       "    <tr>\n",
       "      <th>std</th>\n",
       "      <td>2.748911e-01</td>\n",
       "      <td>0.101262</td>\n",
       "    </tr>\n",
       "    <tr>\n",
       "      <th>min</th>\n",
       "      <td>2.543246e-10</td>\n",
       "      <td>0.000000</td>\n",
       "    </tr>\n",
       "    <tr>\n",
       "      <th>25%</th>\n",
       "      <td>5.025901e-01</td>\n",
       "      <td>0.000000</td>\n",
       "    </tr>\n",
       "    <tr>\n",
       "      <th>50%</th>\n",
       "      <td>7.695470e-01</td>\n",
       "      <td>0.016667</td>\n",
       "    </tr>\n",
       "    <tr>\n",
       "      <th>75%</th>\n",
       "      <td>9.184050e-01</td>\n",
       "      <td>0.102767</td>\n",
       "    </tr>\n",
       "    <tr>\n",
       "      <th>max</th>\n",
       "      <td>1.000000e+00</td>\n",
       "      <td>0.714286</td>\n",
       "    </tr>\n",
       "  </tbody>\n",
       "</table>\n",
       "</div>"
      ],
      "text/plain": [
       "       RV_noise_fit_p-value  Fraction_Out\n",
       "count          2.330000e+02    233.000000\n",
       "mean           6.896301e-01      0.064660\n",
       "std            2.748911e-01      0.101262\n",
       "min            2.543246e-10      0.000000\n",
       "25%            5.025901e-01      0.000000\n",
       "50%            7.695470e-01      0.016667\n",
       "75%            9.184050e-01      0.102767\n",
       "max            1.000000e+00      0.714286"
      ]
     },
     "execution_count": 18,
     "metadata": {},
     "output_type": "execute_result"
    }
   ],
   "source": [
    "rv_patterns[['RV_noise_fit_p-value', 'Fraction_Out']].describe()"
   ]
  },
  {
   "cell_type": "code",
   "execution_count": 19,
   "id": "24047a97",
   "metadata": {
    "ExecuteTime": {
     "end_time": "2023-02-22T10:25:27.978757Z",
     "start_time": "2023-02-22T10:25:27.947839Z"
    }
   },
   "outputs": [
    {
     "data": {
      "text/html": [
       "<div>\n",
       "<style scoped>\n",
       "    .dataframe tbody tr th:only-of-type {\n",
       "        vertical-align: middle;\n",
       "    }\n",
       "\n",
       "    .dataframe tbody tr th {\n",
       "        vertical-align: top;\n",
       "    }\n",
       "\n",
       "    .dataframe thead th {\n",
       "        text-align: right;\n",
       "    }\n",
       "</style>\n",
       "<table border=\"1\" class=\"dataframe\">\n",
       "  <thead>\n",
       "    <tr style=\"text-align: right;\">\n",
       "      <th></th>\n",
       "      <th>Karmn</th>\n",
       "      <th>Vr_kms-1</th>\n",
       "      <th>n_RV</th>\n",
       "      <th>Ps_RV</th>\n",
       "      <th>wrms_RV</th>\n",
       "      <th>RV_sampling_deltas</th>\n",
       "      <th>RV_noise_min</th>\n",
       "      <th>RV_noise_max</th>\n",
       "      <th>RV_noise_median</th>\n",
       "      <th>RV_noise_mean</th>\n",
       "      <th>RV_noise_stdev</th>\n",
       "      <th>RV_noise_dist</th>\n",
       "      <th>RV_noise_name</th>\n",
       "      <th>RV_noise_loc</th>\n",
       "      <th>RV_noise_scale</th>\n",
       "      <th>RV_noise_dist_file</th>\n",
       "      <th>RV_noise_fit_p-value</th>\n",
       "      <th>Fraction_Out</th>\n",
       "    </tr>\n",
       "  </thead>\n",
       "  <tbody>\n",
       "    <tr>\n",
       "      <th>0</th>\n",
       "      <td>J23505-095</td>\n",
       "      <td>-21.870867</td>\n",
       "      <td>71.0</td>\n",
       "      <td>2.908164</td>\n",
       "      <td>3.362607</td>\n",
       "      <td>[0.0, 11.957513123750687, 47.87879143701866, 5...</td>\n",
       "      <td>1.199479</td>\n",
       "      <td>4.170413</td>\n",
       "      <td>1.722917</td>\n",
       "      <td>1.881812</td>\n",
       "      <td>0.628702</td>\n",
       "      <td>{'distr': &lt;scipy.stats._continuous_distns.t_ge...</td>\n",
       "      <td>t</td>\n",
       "      <td>1.691561</td>\n",
       "      <td>0.290193</td>\n",
       "      <td>../data/DIST_FILES/RV_ML_subsample_Stars_noise...</td>\n",
       "      <td>0.762093</td>\n",
       "      <td>0.112676</td>\n",
       "    </tr>\n",
       "    <tr>\n",
       "      <th>1</th>\n",
       "      <td>J23492+024</td>\n",
       "      <td>-71.131000</td>\n",
       "      <td>373.0</td>\n",
       "      <td>1.143762</td>\n",
       "      <td>2.183867</td>\n",
       "      <td>[0.0, 17.0164248123765, 190.38824744801968, 21...</td>\n",
       "      <td>0.951985</td>\n",
       "      <td>7.585994</td>\n",
       "      <td>1.517377</td>\n",
       "      <td>1.656111</td>\n",
       "      <td>0.599510</td>\n",
       "      <td>{'distr': &lt;scipy.stats._continuous_distns.logn...</td>\n",
       "      <td>lognorm</td>\n",
       "      <td>0.862271</td>\n",
       "      <td>0.660178</td>\n",
       "      <td>../data/DIST_FILES/RV_ML_subsample_Stars_noise...</td>\n",
       "      <td>0.883145</td>\n",
       "      <td>0.000000</td>\n",
       "    </tr>\n",
       "    <tr>\n",
       "      <th>2</th>\n",
       "      <td>J23431+365</td>\n",
       "      <td>-2.597000</td>\n",
       "      <td>23.0</td>\n",
       "      <td>17.057200</td>\n",
       "      <td>2.795865</td>\n",
       "      <td>[0.0, 8.942367421463132, 9.875712749548256, 25...</td>\n",
       "      <td>0.916620</td>\n",
       "      <td>2.010952</td>\n",
       "      <td>1.377055</td>\n",
       "      <td>1.408319</td>\n",
       "      <td>0.262370</td>\n",
       "      <td>{'distr': &lt;scipy.stats._continuous_distns.dwei...</td>\n",
       "      <td>dweibull</td>\n",
       "      <td>1.403768</td>\n",
       "      <td>0.233191</td>\n",
       "      <td>../data/DIST_FILES/RV_ML_subsample_Stars_noise...</td>\n",
       "      <td>0.888037</td>\n",
       "      <td>0.043478</td>\n",
       "    </tr>\n",
       "    <tr>\n",
       "      <th>3</th>\n",
       "      <td>J23419+441</td>\n",
       "      <td>-77.764000</td>\n",
       "      <td>99.0</td>\n",
       "      <td>3.031857</td>\n",
       "      <td>2.532704</td>\n",
       "      <td>[0.0, 136.37014811998233, 154.37618444254622, ...</td>\n",
       "      <td>0.829277</td>\n",
       "      <td>2.496016</td>\n",
       "      <td>1.297172</td>\n",
       "      <td>1.363447</td>\n",
       "      <td>0.307447</td>\n",
       "      <td>{'distr': &lt;scipy.stats._continuous_distns.gene...</td>\n",
       "      <td>genextreme</td>\n",
       "      <td>1.223698</td>\n",
       "      <td>0.212595</td>\n",
       "      <td>../data/DIST_FILES/RV_ML_subsample_Stars_noise...</td>\n",
       "      <td>0.696110</td>\n",
       "      <td>0.000000</td>\n",
       "    </tr>\n",
       "    <tr>\n",
       "      <th>4</th>\n",
       "      <td>J23381-162</td>\n",
       "      <td>20.470749</td>\n",
       "      <td>56.0</td>\n",
       "      <td>3.019729</td>\n",
       "      <td>2.405056</td>\n",
       "      <td>[0.0, 10.978803387377411, 30.955036497674882, ...</td>\n",
       "      <td>1.016080</td>\n",
       "      <td>3.446221</td>\n",
       "      <td>1.423674</td>\n",
       "      <td>1.611703</td>\n",
       "      <td>0.542434</td>\n",
       "      <td>{'distr': &lt;scipy.stats._continuous_distns.gene...</td>\n",
       "      <td>genextreme</td>\n",
       "      <td>1.343269</td>\n",
       "      <td>0.248643</td>\n",
       "      <td>../data/DIST_FILES/RV_ML_subsample_Stars_noise...</td>\n",
       "      <td>0.778950</td>\n",
       "      <td>0.017857</td>\n",
       "    </tr>\n",
       "  </tbody>\n",
       "</table>\n",
       "</div>"
      ],
      "text/plain": [
       "        Karmn   Vr_kms-1   n_RV      Ps_RV   wrms_RV  \\\n",
       "0  J23505-095 -21.870867   71.0   2.908164  3.362607   \n",
       "1  J23492+024 -71.131000  373.0   1.143762  2.183867   \n",
       "2  J23431+365  -2.597000   23.0  17.057200  2.795865   \n",
       "3  J23419+441 -77.764000   99.0   3.031857  2.532704   \n",
       "4  J23381-162  20.470749   56.0   3.019729  2.405056   \n",
       "\n",
       "                                  RV_sampling_deltas  RV_noise_min  \\\n",
       "0  [0.0, 11.957513123750687, 47.87879143701866, 5...      1.199479   \n",
       "1  [0.0, 17.0164248123765, 190.38824744801968, 21...      0.951985   \n",
       "2  [0.0, 8.942367421463132, 9.875712749548256, 25...      0.916620   \n",
       "3  [0.0, 136.37014811998233, 154.37618444254622, ...      0.829277   \n",
       "4  [0.0, 10.978803387377411, 30.955036497674882, ...      1.016080   \n",
       "\n",
       "   RV_noise_max  RV_noise_median  RV_noise_mean  RV_noise_stdev  \\\n",
       "0      4.170413         1.722917       1.881812        0.628702   \n",
       "1      7.585994         1.517377       1.656111        0.599510   \n",
       "2      2.010952         1.377055       1.408319        0.262370   \n",
       "3      2.496016         1.297172       1.363447        0.307447   \n",
       "4      3.446221         1.423674       1.611703        0.542434   \n",
       "\n",
       "                                       RV_noise_dist RV_noise_name  \\\n",
       "0  {'distr': <scipy.stats._continuous_distns.t_ge...             t   \n",
       "1  {'distr': <scipy.stats._continuous_distns.logn...       lognorm   \n",
       "2  {'distr': <scipy.stats._continuous_distns.dwei...      dweibull   \n",
       "3  {'distr': <scipy.stats._continuous_distns.gene...    genextreme   \n",
       "4  {'distr': <scipy.stats._continuous_distns.gene...    genextreme   \n",
       "\n",
       "   RV_noise_loc  RV_noise_scale  \\\n",
       "0      1.691561        0.290193   \n",
       "1      0.862271        0.660178   \n",
       "2      1.403768        0.233191   \n",
       "3      1.223698        0.212595   \n",
       "4      1.343269        0.248643   \n",
       "\n",
       "                                  RV_noise_dist_file  RV_noise_fit_p-value  \\\n",
       "0  ../data/DIST_FILES/RV_ML_subsample_Stars_noise...              0.762093   \n",
       "1  ../data/DIST_FILES/RV_ML_subsample_Stars_noise...              0.883145   \n",
       "2  ../data/DIST_FILES/RV_ML_subsample_Stars_noise...              0.888037   \n",
       "3  ../data/DIST_FILES/RV_ML_subsample_Stars_noise...              0.696110   \n",
       "4  ../data/DIST_FILES/RV_ML_subsample_Stars_noise...              0.778950   \n",
       "\n",
       "   Fraction_Out  \n",
       "0      0.112676  \n",
       "1      0.000000  \n",
       "2      0.043478  \n",
       "3      0.000000  \n",
       "4      0.017857  "
      ]
     },
     "execution_count": 19,
     "metadata": {},
     "output_type": "execute_result"
    }
   ],
   "source": [
    "rv_patterns.head()"
   ]
  },
  {
   "cell_type": "code",
   "execution_count": 20,
   "id": "992a5b9c",
   "metadata": {
    "ExecuteTime": {
     "end_time": "2023-02-22T10:25:37.668846Z",
     "start_time": "2023-02-22T10:25:37.660868Z"
    }
   },
   "outputs": [
    {
     "name": "stdout",
     "output_type": "stream",
     "text": [
      "[0.0, 20.975221153348684, 188.3961285338737, 205.38048223266378, 209.38376312609762, 210.38946344563738, 211.3372044339776, 220.15363332116976, 233.3020677617751, 236.28708868660033, 245.30540515342727, 247.20802798401564, 248.3613522797823, 249.32451374921948, 253.2377212671563, 257.244304608088, 278.1298939133994, 285.19921019487083, 288.1815115036443, 295.1172859589569, 305.06492951279506, 311.06623519863933, 510.30484426533803, 536.3358177728951, 537.3314265487716, 539.2210110668093, 546.3397195651196, 551.2010640129447, 554.1786011150107, 556.2090220963582, 560.3323087557219, 561.3038359247148, 562.3306985800155, 564.3055038368329, 565.3272510636598, 568.3514519101009, 570.3849403518252, 571.3390916050412, 577.1731422855519, 587.3009799011052, 597.2429402219132, 600.2649239646271, 601.2674847017042, 602.3093053563498, 605.2399070998654, 607.2822220451199, 609.2366422573105, 630.1764049907215, 658.1371545102447, 659.1520783104934, 660.1032314212061, 693.2164790052921]\n"
     ]
    }
   ],
   "source": [
    "# See the last pattern added:\n",
    "print(new_pattern)"
   ]
  },
  {
   "cell_type": "markdown",
   "id": "c1024046",
   "metadata": {},
   "source": [
    "### Save the pools to a file"
   ]
  },
  {
   "cell_type": "code",
   "execution_count": 21,
   "id": "e8a3adc9",
   "metadata": {
    "ExecuteTime": {
     "end_time": "2023-02-22T10:25:49.991184Z",
     "start_time": "2023-02-22T10:25:49.964226Z"
    }
   },
   "outputs": [],
   "source": [
    "# Save the file:\n",
    "rv_patterns.to_csv(DIST_FILES_FOLDER + RV_PATTERN_POOL_FILE, sep=',', decimal='.', index=False)"
   ]
  },
  {
   "cell_type": "markdown",
   "id": "e830e0ec",
   "metadata": {},
   "source": [
    "### Test the access to the saved file and patterns"
   ]
  },
  {
   "cell_type": "code",
   "execution_count": 23,
   "id": "42f5e84e",
   "metadata": {
    "ExecuteTime": {
     "end_time": "2023-02-22T10:26:32.727279Z",
     "start_time": "2023-02-22T10:26:32.691375Z"
    }
   },
   "outputs": [
    {
     "data": {
      "text/html": [
       "<div>\n",
       "<style scoped>\n",
       "    .dataframe tbody tr th:only-of-type {\n",
       "        vertical-align: middle;\n",
       "    }\n",
       "\n",
       "    .dataframe tbody tr th {\n",
       "        vertical-align: top;\n",
       "    }\n",
       "\n",
       "    .dataframe thead th {\n",
       "        text-align: right;\n",
       "    }\n",
       "</style>\n",
       "<table border=\"1\" class=\"dataframe\">\n",
       "  <thead>\n",
       "    <tr style=\"text-align: right;\">\n",
       "      <th></th>\n",
       "      <th>Karmn</th>\n",
       "      <th>Vr_kms-1</th>\n",
       "      <th>n_RV</th>\n",
       "      <th>Ps_RV</th>\n",
       "      <th>wrms_RV</th>\n",
       "      <th>RV_sampling_deltas</th>\n",
       "      <th>RV_noise_min</th>\n",
       "      <th>RV_noise_max</th>\n",
       "      <th>RV_noise_median</th>\n",
       "      <th>RV_noise_mean</th>\n",
       "      <th>RV_noise_stdev</th>\n",
       "      <th>RV_noise_dist</th>\n",
       "      <th>RV_noise_name</th>\n",
       "      <th>RV_noise_loc</th>\n",
       "      <th>RV_noise_scale</th>\n",
       "      <th>RV_noise_dist_file</th>\n",
       "      <th>RV_noise_fit_p-value</th>\n",
       "      <th>Fraction_Out</th>\n",
       "    </tr>\n",
       "  </thead>\n",
       "  <tbody>\n",
       "    <tr>\n",
       "      <th>228</th>\n",
       "      <td>J00184+440</td>\n",
       "      <td>10.997000</td>\n",
       "      <td>193.0</td>\n",
       "      <td>0.985929</td>\n",
       "      <td>2.311629</td>\n",
       "      <td>[0.0, 13.990557200275362, 18.001077729277313, ...</td>\n",
       "      <td>0.832274</td>\n",
       "      <td>3.104075</td>\n",
       "      <td>1.331101</td>\n",
       "      <td>1.535932</td>\n",
       "      <td>0.554882</td>\n",
       "      <td>{'distr': &lt;scipy.stats._continuous_distns.dwei...</td>\n",
       "      <td>dweibull</td>\n",
       "      <td>1.240303</td>\n",
       "      <td>3.236921e-01</td>\n",
       "      <td>../data/DIST_FILES/RV_ML_subsample_Stars_noise...</td>\n",
       "      <td>0.003439</td>\n",
       "      <td>0.124352</td>\n",
       "    </tr>\n",
       "    <tr>\n",
       "      <th>229</th>\n",
       "      <td>J00183+440</td>\n",
       "      <td>11.820000</td>\n",
       "      <td>216.0</td>\n",
       "      <td>0.826708</td>\n",
       "      <td>2.617721</td>\n",
       "      <td>[0.0, 1.0492656417191029, 2.022110936231911, 3...</td>\n",
       "      <td>0.766382</td>\n",
       "      <td>4.264498</td>\n",
       "      <td>1.476962</td>\n",
       "      <td>1.556480</td>\n",
       "      <td>0.527647</td>\n",
       "      <td>{'distr': &lt;scipy.stats._continuous_distns.beta...</td>\n",
       "      <td>beta</td>\n",
       "      <td>0.744054</td>\n",
       "      <td>7.930984e+00</td>\n",
       "      <td>../data/DIST_FILES/RV_ML_subsample_Stars_noise...</td>\n",
       "      <td>0.313226</td>\n",
       "      <td>0.000000</td>\n",
       "    </tr>\n",
       "    <tr>\n",
       "      <th>230</th>\n",
       "      <td>J00162+198E</td>\n",
       "      <td>-1.625194</td>\n",
       "      <td>18.0</td>\n",
       "      <td>42.940403</td>\n",
       "      <td>2.861697</td>\n",
       "      <td>[0.0, 15.97568494733423, 18.95287090772763, 18...</td>\n",
       "      <td>1.102225</td>\n",
       "      <td>2.145801</td>\n",
       "      <td>1.483359</td>\n",
       "      <td>1.577230</td>\n",
       "      <td>0.338830</td>\n",
       "      <td>{'distr': &lt;scipy.stats._continuous_distns.beta...</td>\n",
       "      <td>beta</td>\n",
       "      <td>1.102225</td>\n",
       "      <td>1.076078e+00</td>\n",
       "      <td>../data/DIST_FILES/RV_ML_subsample_Stars_noise...</td>\n",
       "      <td>0.132394</td>\n",
       "      <td>0.000000</td>\n",
       "    </tr>\n",
       "    <tr>\n",
       "      <th>231</th>\n",
       "      <td>J00067-075</td>\n",
       "      <td>-40.123002</td>\n",
       "      <td>89.0</td>\n",
       "      <td>2.510671</td>\n",
       "      <td>2.440083</td>\n",
       "      <td>[0.0, 0.9991974416188896, 11.033571805804968, ...</td>\n",
       "      <td>1.113746</td>\n",
       "      <td>5.291221</td>\n",
       "      <td>1.482946</td>\n",
       "      <td>1.572339</td>\n",
       "      <td>0.508195</td>\n",
       "      <td>{'distr': &lt;scipy.stats._continuous_distns.beta...</td>\n",
       "      <td>beta</td>\n",
       "      <td>1.090486</td>\n",
       "      <td>1.083765e+13</td>\n",
       "      <td>../data/DIST_FILES/RV_ML_subsample_Stars_noise...</td>\n",
       "      <td>0.395307</td>\n",
       "      <td>0.000000</td>\n",
       "    </tr>\n",
       "    <tr>\n",
       "      <th>232</th>\n",
       "      <td>J00051+457</td>\n",
       "      <td>-0.229000</td>\n",
       "      <td>52.0</td>\n",
       "      <td>3.024201</td>\n",
       "      <td>2.835825</td>\n",
       "      <td>[0.0, 20.975221153348684, 188.3961285338737, 2...</td>\n",
       "      <td>1.053913</td>\n",
       "      <td>5.406914</td>\n",
       "      <td>1.706992</td>\n",
       "      <td>1.804720</td>\n",
       "      <td>0.676688</td>\n",
       "      <td>{'distr': &lt;scipy.stats._continuous_distns.logn...</td>\n",
       "      <td>lognorm</td>\n",
       "      <td>0.907302</td>\n",
       "      <td>7.272117e-01</td>\n",
       "      <td>../data/DIST_FILES/RV_ML_subsample_Stars_noise...</td>\n",
       "      <td>0.420624</td>\n",
       "      <td>0.019231</td>\n",
       "    </tr>\n",
       "  </tbody>\n",
       "</table>\n",
       "</div>"
      ],
      "text/plain": [
       "           Karmn   Vr_kms-1   n_RV      Ps_RV   wrms_RV  \\\n",
       "228   J00184+440  10.997000  193.0   0.985929  2.311629   \n",
       "229   J00183+440  11.820000  216.0   0.826708  2.617721   \n",
       "230  J00162+198E  -1.625194   18.0  42.940403  2.861697   \n",
       "231   J00067-075 -40.123002   89.0   2.510671  2.440083   \n",
       "232   J00051+457  -0.229000   52.0   3.024201  2.835825   \n",
       "\n",
       "                                    RV_sampling_deltas  RV_noise_min  \\\n",
       "228  [0.0, 13.990557200275362, 18.001077729277313, ...      0.832274   \n",
       "229  [0.0, 1.0492656417191029, 2.022110936231911, 3...      0.766382   \n",
       "230  [0.0, 15.97568494733423, 18.95287090772763, 18...      1.102225   \n",
       "231  [0.0, 0.9991974416188896, 11.033571805804968, ...      1.113746   \n",
       "232  [0.0, 20.975221153348684, 188.3961285338737, 2...      1.053913   \n",
       "\n",
       "     RV_noise_max  RV_noise_median  RV_noise_mean  RV_noise_stdev  \\\n",
       "228      3.104075         1.331101       1.535932        0.554882   \n",
       "229      4.264498         1.476962       1.556480        0.527647   \n",
       "230      2.145801         1.483359       1.577230        0.338830   \n",
       "231      5.291221         1.482946       1.572339        0.508195   \n",
       "232      5.406914         1.706992       1.804720        0.676688   \n",
       "\n",
       "                                         RV_noise_dist RV_noise_name  \\\n",
       "228  {'distr': <scipy.stats._continuous_distns.dwei...      dweibull   \n",
       "229  {'distr': <scipy.stats._continuous_distns.beta...          beta   \n",
       "230  {'distr': <scipy.stats._continuous_distns.beta...          beta   \n",
       "231  {'distr': <scipy.stats._continuous_distns.beta...          beta   \n",
       "232  {'distr': <scipy.stats._continuous_distns.logn...       lognorm   \n",
       "\n",
       "     RV_noise_loc  RV_noise_scale  \\\n",
       "228      1.240303    3.236921e-01   \n",
       "229      0.744054    7.930984e+00   \n",
       "230      1.102225    1.076078e+00   \n",
       "231      1.090486    1.083765e+13   \n",
       "232      0.907302    7.272117e-01   \n",
       "\n",
       "                                    RV_noise_dist_file  RV_noise_fit_p-value  \\\n",
       "228  ../data/DIST_FILES/RV_ML_subsample_Stars_noise...              0.003439   \n",
       "229  ../data/DIST_FILES/RV_ML_subsample_Stars_noise...              0.313226   \n",
       "230  ../data/DIST_FILES/RV_ML_subsample_Stars_noise...              0.132394   \n",
       "231  ../data/DIST_FILES/RV_ML_subsample_Stars_noise...              0.395307   \n",
       "232  ../data/DIST_FILES/RV_ML_subsample_Stars_noise...              0.420624   \n",
       "\n",
       "     Fraction_Out  \n",
       "228      0.124352  \n",
       "229      0.000000  \n",
       "230      0.000000  \n",
       "231      0.000000  \n",
       "232      0.019231  "
      ]
     },
     "execution_count": 23,
     "metadata": {},
     "output_type": "execute_result"
    }
   ],
   "source": [
    "# Check file re-reading:\n",
    "reloaded_patterns = pd.read_csv(DIST_FILES_FOLDER + RV_PATTERN_POOL_FILE, sep=',', decimal='.')\n",
    "reloaded_patterns.tail()"
   ]
  },
  {
   "cell_type": "code",
   "execution_count": 24,
   "id": "8f7f36df",
   "metadata": {
    "ExecuteTime": {
     "end_time": "2023-02-22T10:26:34.615234Z",
     "start_time": "2023-02-22T10:26:34.604264Z"
    }
   },
   "outputs": [
    {
     "data": {
      "text/plain": [
       "'[0.0, 22.929542809259146, 48.787756943143904, 49.868371705990285, 50.849283705465496, 51.89953195117414]'"
      ]
     },
     "execution_count": 24,
     "metadata": {},
     "output_type": "execute_result"
    }
   ],
   "source": [
    "# Check pattern access:\n",
    "recovered_pattern = reloaded_patterns.loc[150, 'RV_sampling_deltas']\n",
    "recovered_pattern"
   ]
  },
  {
   "cell_type": "code",
   "execution_count": 25,
   "id": "533c9e28",
   "metadata": {
    "ExecuteTime": {
     "end_time": "2023-02-22T10:26:37.026203Z",
     "start_time": "2023-02-22T10:26:37.020219Z"
    }
   },
   "outputs": [
    {
     "name": "stdout",
     "output_type": "stream",
     "text": [
      "[0.0, 22.929542809259146, 48.787756943143904, 49.868371705990285, 50.849283705465496, 51.89953195117414]\n"
     ]
    }
   ],
   "source": [
    "# Notice that we need to convert this string to an array:\n",
    "rec_pattern_array = json.loads(recovered_pattern)\n",
    "print(rec_pattern_array)"
   ]
  },
  {
   "cell_type": "code",
   "execution_count": 26,
   "id": "52612813",
   "metadata": {
    "ExecuteTime": {
     "end_time": "2023-02-22T10:26:37.514897Z",
     "start_time": "2023-02-22T10:26:37.498939Z"
    }
   },
   "outputs": [
    {
     "data": {
      "text/plain": [
       "list"
      ]
     },
     "execution_count": 26,
     "metadata": {},
     "output_type": "execute_result"
    }
   ],
   "source": [
    "type(rec_pattern_array)"
   ]
  },
  {
   "cell_type": "code",
   "execution_count": 27,
   "id": "aac88d49",
   "metadata": {
    "ExecuteTime": {
     "end_time": "2023-02-22T10:26:38.557110Z",
     "start_time": "2023-02-22T10:26:38.547137Z"
    }
   },
   "outputs": [
    {
     "data": {
      "text/plain": [
       "50.849283705465496"
      ]
     },
     "execution_count": 27,
     "metadata": {},
     "output_type": "execute_result"
    }
   ],
   "source": [
    "# Check access to a given pattern position:\n",
    "rec_pattern_array[4]"
   ]
  },
  {
   "cell_type": "markdown",
   "id": "f18ff5e6",
   "metadata": {},
   "source": [
    "## Summary"
   ]
  },
  {
   "cell_type": "markdown",
   "id": "41bffda6",
   "metadata": {
    "ExecuteTime": {
     "end_time": "2022-04-21T09:25:17.615626Z",
     "start_time": "2022-04-21T09:25:17.593718Z"
    }
   },
   "source": [
    "**CONCLUSIONS:**\n",
    "- We have generated a pool of sampling patterns for all ML subsample CARMENES RV curves that will be later used to affect the benchmark synthetic database with irregular sampling in a random way."
   ]
  },
  {
   "cell_type": "code",
   "execution_count": null,
   "id": "fd2cbd02",
   "metadata": {},
   "outputs": [],
   "source": []
  }
 ],
 "metadata": {
  "kernelspec": {
   "display_name": "Python 3 (ipykernel)",
   "language": "python",
   "name": "python3"
  },
  "language_info": {
   "codemirror_mode": {
    "name": "ipython",
    "version": 3
   },
   "file_extension": ".py",
   "mimetype": "text/x-python",
   "name": "python",
   "nbconvert_exporter": "python",
   "pygments_lexer": "ipython3",
   "version": "3.8.8"
  },
  "latex_envs": {
   "LaTeX_envs_menu_present": true,
   "autoclose": false,
   "autocomplete": true,
   "bibliofile": "biblio.bib",
   "cite_by": "apalike",
   "current_citInitial": 1,
   "eqLabelWithNumbers": true,
   "eqNumInitial": 1,
   "hotkeys": {
    "equation": "Ctrl-E",
    "itemize": "Ctrl-I"
   },
   "labels_anchors": false,
   "latex_user_defs": false,
   "report_style_numbering": false,
   "user_envs_cfg": false
  },
  "toc": {
   "base_numbering": 1,
   "nav_menu": {},
   "number_sections": true,
   "sideBar": true,
   "skip_h1_title": true,
   "title_cell": "Table of Contents",
   "title_sidebar": "Contents",
   "toc_cell": false,
   "toc_position": {
    "height": "calc(100% - 180px)",
    "left": "10px",
    "top": "150px",
    "width": "303.828px"
   },
   "toc_section_display": true,
   "toc_window_display": true
  }
 },
 "nbformat": 4,
 "nbformat_minor": 5
}
