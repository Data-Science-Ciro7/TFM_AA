{
 "cells": [
  {
   "cell_type": "markdown",
   "id": "5657ed60",
   "metadata": {},
   "source": [
    "# CARMENES RV CURVES SYNTHETIC DATASETS CREATION"
   ]
  },
  {
   "cell_type": "markdown",
   "id": "0d8e7ec8",
   "metadata": {},
   "source": [
    "In this notebook we create several synthetic datasets of radial velocity (RV) curves, according to the statistical distribution of the relevant parameters, as inferred from the theory or from the real CARMENES RV dataset.\n",
    "\n",
    "The basic equation to generate the samples is:\n",
    "\n",
    "$$x(t)=A\\cos\\{2\\pi(\\nu(t-\\tau)+\\delta)\\}+c$$\n",
    "\n",
    "Notice that only single pulsations are modeled for each record, i.e. only a single, fundamental tone is assumed for each record.\n",
    "\n",
    "The datasets to be created are the following ones:\n",
    "- Dataset 1: the benchmark synthetic dataset. This will be a noiseless, perfectly sampled dataset. This means having a good sampling frequency, above two times the Nyquist frequency for the minimum period to be detected.\n",
    "- Dataset 2: based on dataset 1, we just apply to each sample a random noise, taken from the distribution of noise inferred from the real CARMENES RV curves dataset.\n",
    "- Dataset 3: based on dataset 1, we just apply to each curve a given sampling pattern, chosen randomly among the sampling patterns extracted from the real CARMENES RV dataset.\n",
    "- Dataset 4: a combination of datasets 2 and 3. This dataset will somehow mimic the real CARMENES RV curves dataset, because it incorporates both the CARMENES noise distributions and typical sampling patterns. \n",
    "\n",
    "**IMPORTANT NOTE:** a fraction of $29\\%$ of the stars will be randomly classified as non-pulsating stars, assigning them a constant valued time series. This is based on the fact that $\\approx71\\%$ of the 363 _GTO_ objects are inside the $He^{3}-burning$ instability band, and hence more probably to oscillate. We then establish the prior probability of $29\\%$ for a star to not oscillate.\n",
    "\n",
    "All the records for all the datasets will be created in parallel, so that, for example, the sampling time values of a given record in dataset 3 will be exactly the same values for the same record in dataset 4, and both records (as well as that in dataset 3) will share the same basic, clean oscillation parameters of the record in dataset 1. Notice that noise values cannot be shared between datasets 2 and 4, as their time span will be something completely different.\n",
    "\n",
    "A table with the datasets will be generated. The table will contain, for each record, all the basic parameters of the benchmark curve (amplitude, frequency, etc., which will be common among the four datasets for a given  record). Each record will have common sequence identifier for it (for identification purposes, with the format \"DS\\<i\\>-RV-\\<j\\>\"). On each dataset, the name of the files containing the generated RV curves will also be stored. The names and relative paths to these files are also stored in the dataset table for later reference. \"RV-\" will also be the prefix to the dateset filename.\n",
    "\n",
    "The time series files will be stored with _\".dat\"_ extension, with just two columns separated by a space (correspondiong to _time_ and _value_, without headers), so that we can load them straightaway into _LSTperiod_. Later we will adapt the format as required for feature extraction with the proper time series analysis package (_cesium_, _tsflex_, etc.)"
   ]
  },
  {
   "cell_type": "markdown",
   "id": "a45b1a5a",
   "metadata": {},
   "source": [
    "## Modules and configuration"
   ]
  },
  {
   "cell_type": "markdown",
   "id": "6569d8c2",
   "metadata": {},
   "source": [
    "### Modules"
   ]
  },
  {
   "cell_type": "code",
   "execution_count": 1,
   "id": "db817188",
   "metadata": {
    "ExecuteTime": {
     "end_time": "2022-04-26T12:07:15.328785Z",
     "start_time": "2022-04-26T12:07:13.631148Z"
    }
   },
   "outputs": [],
   "source": [
    "import math\n",
    "import pandas as pd\n",
    "import numpy as np\n",
    "\n",
    "import json\n",
    "\n",
    "from distfit import distfit\n",
    "\n",
    "import matplotlib.pyplot as plt\n",
    "import seaborn as sns\n",
    "sns.set_style(\"white\", {'figure.figsize':(15,10)})"
   ]
  },
  {
   "cell_type": "markdown",
   "id": "44ad459b",
   "metadata": {},
   "source": [
    "### Configuration"
   ]
  },
  {
   "cell_type": "code",
   "execution_count": 2,
   "id": "044384a7",
   "metadata": {
    "ExecuteTime": {
     "end_time": "2022-04-26T12:07:15.344804Z",
     "start_time": "2022-04-26T12:07:15.329281Z"
    }
   },
   "outputs": [],
   "source": [
    "# CONFIGURATION:\n",
    "MODE = \"NEW\" # 'NEW' to overwrite the existing datasets / 'APPEND' to add records to the datasets\n",
    "N = 1000 # Number of records (i.e. RV curves) to create / add.\n",
    "RANDOM_STATE = 11 # For reproducibility\n",
    "\n",
    "NON_PULSATION_FRACTION = 0.29 # Fraction of non-pulsating stars\n",
    "\n",
    "IMAGE_FOLDER = \"./img/\"\n",
    "\n",
    "DIST_SUMMARY_FILE = \"./DIST_FILES/Parameter_distributions_All_GTO.csv\"\n",
    "DIST_FILES_FOLDER = \"./DIST_FILES/\"\n",
    "RV_PATTERNS_FILE = \"./DIST_FILES/RV_All_GTO_sampling_patterns.csv\"\n",
    "\n",
    "DATASETS_FOLDER = \"./RV_DATASETS/\"\n",
    "DATASETS_SUMMARY_FILE = \"./RV_DATASETS/RV_All_GTO_SyntheticDatasets.csv\"\n",
    "DS1_FOLDER = \"./RV_DATASETS/DS1_ts_files/\"\n",
    "DS2_FOLDER = \"./RV_DATASETS/DS2_ts_files/\"\n",
    "DS3_FOLDER = \"./RV_DATASETS/DS3_ts_files/\"\n",
    "DS4_FOLDER = \"./RV_DATASETS/DS4_ts_files/\"\n",
    "\n",
    "DSET_PREFIX=\"RV-\" # RECOMMENDED - DO NOT CHANGE\n"
   ]
  },
  {
   "cell_type": "markdown",
   "id": "fd9226a8",
   "metadata": {},
   "source": [
    "### Functions"
   ]
  },
  {
   "cell_type": "code",
   "execution_count": 3,
   "id": "5eb58654",
   "metadata": {
    "ExecuteTime": {
     "end_time": "2022-04-26T12:07:15.360801Z",
     "start_time": "2022-04-26T12:07:15.345802Z"
    }
   },
   "outputs": [],
   "source": [
    "def sample_value(t, f, A, c, tau, delta, noise):\n",
    "    '''Returns the value of a benchmark sample at a time 't', depending on the values of the paremeters passed:\n",
    "    f: frequency; A: amplitude; c: offset; tau:reference epoch; delta:phase'''\n",
    "    value = A * np.cos(2 * np.pi * (f * (t - tau) + delta)) + c + noise\n",
    "    return value"
   ]
  },
  {
   "cell_type": "code",
   "execution_count": 4,
   "id": "be8f5817",
   "metadata": {
    "ExecuteTime": {
     "end_time": "2022-04-26T12:07:15.376796Z",
     "start_time": "2022-04-26T12:07:15.361798Z"
    }
   },
   "outputs": [
    {
     "data": {
      "text/plain": [
       "3.141592653589793"
      ]
     },
     "execution_count": 4,
     "metadata": {},
     "output_type": "execute_result"
    }
   ],
   "source": [
    "np.pi"
   ]
  },
  {
   "cell_type": "code",
   "execution_count": 5,
   "id": "dee5eba2",
   "metadata": {
    "ExecuteTime": {
     "end_time": "2022-04-26T12:07:15.391772Z",
     "start_time": "2022-04-26T12:07:15.377793Z"
    }
   },
   "outputs": [],
   "source": [
    "# We vectorize the previous function to be able to pass arrays as parameters,\n",
    "# in order to calculate the time series in one call\n",
    "v_sample_value = np.vectorize(sample_value)"
   ]
  },
  {
   "cell_type": "markdown",
   "id": "ae12b5c6",
   "metadata": {},
   "source": [
    "## Prepare distributions of parameters"
   ]
  },
  {
   "cell_type": "markdown",
   "id": "36e6620d",
   "metadata": {},
   "source": [
    "### Read configuration file"
   ]
  },
  {
   "cell_type": "markdown",
   "id": "c09ed581",
   "metadata": {},
   "source": [
    "Read the file containing the distributions and values used for dataset generation."
   ]
  },
  {
   "cell_type": "code",
   "execution_count": 6,
   "id": "cc77e09e",
   "metadata": {
    "ExecuteTime": {
     "end_time": "2022-04-26T12:07:15.423775Z",
     "start_time": "2022-04-26T12:07:15.392763Z"
    }
   },
   "outputs": [
    {
     "data": {
      "text/html": [
       "<div>\n",
       "<style scoped>\n",
       "    .dataframe tbody tr th:only-of-type {\n",
       "        vertical-align: middle;\n",
       "    }\n",
       "\n",
       "    .dataframe tbody tr th {\n",
       "        vertical-align: top;\n",
       "    }\n",
       "\n",
       "    .dataframe thead th {\n",
       "        text-align: right;\n",
       "    }\n",
       "</style>\n",
       "<table border=\"1\" class=\"dataframe\">\n",
       "  <thead>\n",
       "    <tr style=\"text-align: right;\">\n",
       "      <th></th>\n",
       "      <th>Group</th>\n",
       "      <th>Variable</th>\n",
       "      <th>Distribution</th>\n",
       "      <th>Dist_file</th>\n",
       "    </tr>\n",
       "  </thead>\n",
       "  <tbody>\n",
       "    <tr>\n",
       "      <th>0</th>\n",
       "      <td>BENCHMARK</td>\n",
       "      <td>Ps</td>\n",
       "      <td>{'fixed_value': 0.0025}</td>\n",
       "      <td>NaN</td>\n",
       "    </tr>\n",
       "    <tr>\n",
       "      <th>1</th>\n",
       "      <td>BENCHMARK</td>\n",
       "      <td>Tobs</td>\n",
       "      <td>{'fixed_value': 0.25}</td>\n",
       "      <td>NaN</td>\n",
       "    </tr>\n",
       "    <tr>\n",
       "      <th>2</th>\n",
       "      <td>BENCHMARK</td>\n",
       "      <td>frequency</td>\n",
       "      <td>{'distr': &lt;scipy.stats._continuous_distns.unif...</td>\n",
       "      <td>BENCHMARK_frequency_All_GTO_dist.pickle</td>\n",
       "    </tr>\n",
       "    <tr>\n",
       "      <th>3</th>\n",
       "      <td>BENCHMARK</td>\n",
       "      <td>phase</td>\n",
       "      <td>{'distr': &lt;scipy.stats._continuous_distns.unif...</td>\n",
       "      <td>BENCHMARK_phase_All_GTO_dist.pickle</td>\n",
       "    </tr>\n",
       "    <tr>\n",
       "      <th>4</th>\n",
       "      <td>BENCHMARK</td>\n",
       "      <td>amplitudeRV</td>\n",
       "      <td>{'distr': &lt;scipy.stats._continuous_distns.unif...</td>\n",
       "      <td>BENCHMARK_amplitudeRV_All_GTO_dist.pickle</td>\n",
       "    </tr>\n",
       "  </tbody>\n",
       "</table>\n",
       "</div>"
      ],
      "text/plain": [
       "       Group     Variable                                       Distribution  \\\n",
       "0  BENCHMARK           Ps                            {'fixed_value': 0.0025}   \n",
       "1  BENCHMARK         Tobs                              {'fixed_value': 0.25}   \n",
       "2  BENCHMARK    frequency  {'distr': <scipy.stats._continuous_distns.unif...   \n",
       "3  BENCHMARK        phase  {'distr': <scipy.stats._continuous_distns.unif...   \n",
       "4  BENCHMARK  amplitudeRV  {'distr': <scipy.stats._continuous_distns.unif...   \n",
       "\n",
       "                                   Dist_file  \n",
       "0                                        NaN  \n",
       "1                                        NaN  \n",
       "2    BENCHMARK_frequency_All_GTO_dist.pickle  \n",
       "3        BENCHMARK_phase_All_GTO_dist.pickle  \n",
       "4  BENCHMARK_amplitudeRV_All_GTO_dist.pickle  "
      ]
     },
     "execution_count": 6,
     "metadata": {},
     "output_type": "execute_result"
    }
   ],
   "source": [
    "dist_params = pd.read_csv(DIST_SUMMARY_FILE, sep=',', decimal='.')\n",
    "dist_params.head()"
   ]
  },
  {
   "cell_type": "code",
   "execution_count": 7,
   "id": "a7957e82",
   "metadata": {
    "ExecuteTime": {
     "end_time": "2022-04-26T12:07:15.439728Z",
     "start_time": "2022-04-26T12:07:15.424769Z"
    }
   },
   "outputs": [
    {
     "data": {
      "text/plain": [
       "Group           object\n",
       "Variable        object\n",
       "Distribution    object\n",
       "Dist_file       object\n",
       "dtype: object"
      ]
     },
     "execution_count": 7,
     "metadata": {},
     "output_type": "execute_result"
    }
   ],
   "source": [
    "dist_params.dtypes"
   ]
  },
  {
   "cell_type": "markdown",
   "id": "c9c99e86",
   "metadata": {},
   "source": [
    "### Register the distributions to use for each variable"
   ]
  },
  {
   "cell_type": "code",
   "execution_count": 8,
   "id": "c3d15a97",
   "metadata": {
    "ExecuteTime": {
     "end_time": "2022-04-26T12:07:15.517179Z",
     "start_time": "2022-04-26T12:07:15.441723Z"
    }
   },
   "outputs": [
    {
     "name": "stdout",
     "output_type": "stream",
     "text": [
      "[pypickle] Pickle file loaded: [./DIST_FILES/BENCHMARK_frequency_All_GTO_dist.pickle]\n",
      "[pypickle] Pickle file loaded: [./DIST_FILES/BENCHMARK_phase_All_GTO_dist.pickle]\n",
      "[pypickle] Pickle file loaded: [./DIST_FILES/BENCHMARK_amplitudeRV_All_GTO_dist.pickle]\n",
      "[pypickle] Pickle file loaded: [./DIST_FILES/BENCHMARK_offsetRV_All_GTO_dist.pickle]\n",
      "[pypickle] Pickle file loaded: [./DIST_FILES/BENCHMARK_refepochRV_All_GTO_dist.pickle]\n",
      "[pypickle] Pickle file loaded: [./DIST_FILES/RV_noiseRV_All_GTO_dist.pickle]\n",
      "[pypickle] Pickle file loaded: [./DIST_FILES/RV_samplingperiodRV_All_GTO_dist.pickle]\n",
      "[pypickle] Pickle file loaded: [./DIST_FILES/RV_numsamplesRV_All_GTO_dist.pickle]\n"
     ]
    }
   ],
   "source": [
    "# Initialise variable:\n",
    "param_ranges = {}\n",
    "for i in range(0,len(dist_params)):\n",
    "    try:\n",
    "        # If successful, it is a fixed value:\n",
    "        d = json.loads(dist_params.loc[i, 'Distribution'].replace('\\'', '\\\"'))\n",
    "        param_ranges[dist_params.loc[i, 'Variable']] = d\n",
    "    except:\n",
    "        # Must be a distribution, so we load it from file:\n",
    "        try:\n",
    "            d = distfit()\n",
    "            d.load(DIST_FILES_FOLDER + dist_params.loc[i, 'Dist_file'])\n",
    "            param_ranges[dist_params.loc[i, 'Variable']] = d\n",
    "        except Exception as e:\n",
    "            # Some error happened:\n",
    "            print(\"***ERROR! Could not set parameter %s. Error: %s\" \\\n",
    "                  %(dist_params.loc[i, 'Variable'], str(e)))\n"
   ]
  },
  {
   "cell_type": "code",
   "execution_count": 9,
   "id": "2e651bb5",
   "metadata": {
    "ExecuteTime": {
     "end_time": "2022-04-26T12:07:15.533137Z",
     "start_time": "2022-04-26T12:07:15.518177Z"
    }
   },
   "outputs": [
    {
     "data": {
      "text/plain": [
       "{'Ps': {'fixed_value': 0.0025},\n",
       " 'Tobs': {'fixed_value': 0.25},\n",
       " 'frequency': <distfit.distfit.distfit at 0x1a4ce592f10>,\n",
       " 'phase': <distfit.distfit.distfit at 0x1a4cab46310>,\n",
       " 'amplitudeRV': <distfit.distfit.distfit at 0x1a4ce5accd0>,\n",
       " 'offsetRV': <distfit.distfit.distfit at 0x1a4ce5b03d0>,\n",
       " 'refepochRV': <distfit.distfit.distfit at 0x1a4ce5b0be0>,\n",
       " 'noiseRV': <distfit.distfit.distfit at 0x1a4ce5bd100>,\n",
       " 'samplingperiodRV': <distfit.distfit.distfit at 0x1a4ce5c8130>,\n",
       " 'numsamplesRV': <distfit.distfit.distfit at 0x1a4ce5d3f40>}"
      ]
     },
     "execution_count": 9,
     "metadata": {},
     "output_type": "execute_result"
    }
   ],
   "source": [
    "# Show result:\n",
    "param_ranges"
   ]
  },
  {
   "cell_type": "markdown",
   "id": "7937be50",
   "metadata": {},
   "source": [
    "## Create the random datasets and the RV curve files"
   ]
  },
  {
   "cell_type": "code",
   "execution_count": 10,
   "id": "61b53897",
   "metadata": {
    "ExecuteTime": {
     "end_time": "2022-04-26T12:07:15.548097Z",
     "start_time": "2022-04-26T12:07:15.534135Z"
    }
   },
   "outputs": [
    {
     "data": {
      "text/plain": [
       "array([22.2699525 , 21.54508497, 15.54496738, 24.75528258, 17.7300475 ,\n",
       "       18.45491503, 24.45503262, 15.24471742, 22.2699525 , 21.54508497,\n",
       "       15.54496738, 24.75528258, 17.7300475 , 18.45491503, 24.45503262,\n",
       "       15.24471742, 22.2699525 , 21.54508497, 15.54496738, 24.75528258,\n",
       "       17.7300475 , 18.45491503, 24.45503262, 15.24471742])"
      ]
     },
     "execution_count": 10,
     "metadata": {},
     "output_type": "execute_result"
    }
   ],
   "source": [
    "# TEST 1 - Vectorized function: clean time series.\n",
    "v_sample_value(t=[0.00, 0.50, 1.00, 1.50, 2.00, 2.50, 3.00, 3.50, 4.00, 4.50, 5.00, 5.50, 6.00, \\\n",
    "                  6.50, 7.00, 7.50, 8.00, 8.50, 9.00, 9.50, 10.00, 10.50, 11.00, 11.50],\n",
    "               f=0.75, A=5.0, c=20.0, tau=0.5, delta=0.2,\n",
    "               noise=0)"
   ]
  },
  {
   "cell_type": "code",
   "execution_count": 11,
   "id": "ea8e9589",
   "metadata": {
    "ExecuteTime": {
     "end_time": "2022-04-26T12:07:15.563056Z",
     "start_time": "2022-04-26T12:07:15.549094Z"
    }
   },
   "outputs": [
    {
     "data": {
      "text/plain": [
       "array([20.76928434, 20.16524066, 14.96693216, 23.95727816, 19.27376819,\n",
       "       19.64381925, 24.29369588, 15.14258395, 21.1417928 , 22.47903277,\n",
       "       15.11388455, 23.88963744, 19.69837251, 18.52497498, 25.79773337,\n",
       "       15.14231051, 23.87502571, 21.63492746, 13.55160556, 24.5650102 ,\n",
       "       17.79201912, 20.29102676, 23.25331584, 15.02353347])"
      ]
     },
     "execution_count": 11,
     "metadata": {},
     "output_type": "execute_result"
    }
   ],
   "source": [
    "# TEST 2 - Vectorized function: noisy time series.\n",
    "v_sample_value(t=[0.00, 0.50, 1.00, 1.50, 2.00, 2.50, 3.00, 3.50, 4.00, 4.50, 5.00, 5.50, 6.00, \\\n",
    "                  6.50, 7.00, 7.50, 8.00, 8.50, 9.00, 9.50, 10.00, 10.50, 11.00, 11.50],\n",
    "               f=0.75, A=5.0, c=20.0, tau=0.5, delta=0.2,\n",
    "               noise=[-1.500668159, -1.379844309, -0.578035218, -0.798004417, 1.543720686, 1.188904223, \\\n",
    "                      -0.161336742, -0.102133465, -1.1281597, 0.933947801, -0.431082827, -0.865645144, \\\n",
    "                      1.968325011, 0.070059952, 1.342700752, -0.102406912, 1.605073208, 0.089842491, \\\n",
    "                      -1.993361815, -0.190272377, 0.061971617, 1.836111736, -1.201716785, -0.221183952])"
   ]
  },
  {
   "cell_type": "markdown",
   "id": "0f8ab31c",
   "metadata": {},
   "source": [
    "### Initialize datasets table"
   ]
  },
  {
   "cell_type": "code",
   "execution_count": 12,
   "id": "59ac8dbd",
   "metadata": {
    "ExecuteTime": {
     "end_time": "2022-04-26T12:07:15.579014Z",
     "start_time": "2022-04-26T12:07:15.564054Z"
    }
   },
   "outputs": [],
   "source": [
    "if MODE == \"NEW\":\n",
    "    # Initialise DataFrame:\n",
    "    datasets = pd.DataFrame(columns=['ID', 'Pulsating', \\\n",
    "                                     'frequency', 'amplitudeRV', 'offsetRV', 'refepochRV', 'phase', \\\n",
    "                                     'D1_Ps', 'D1_Tobs', \\\n",
    "                                     'D2_noiseRV_mean', 'D2_noiseRV_median', 'D2_noiseRV_stdev', \\\n",
    "                                     'D3_samplingRV_idx', 'D3_PsRV_mean', 'D3_PsRV_median', \\\n",
    "                                     'D3_PsRV_stdev', 'D3_NumRV', \\\n",
    "                                     'D4_noiseRV_mean', 'D4_noiseRV_median', 'D4_noiseRV_stdev',\n",
    "                                     'ds1_file', 'ds2_file', 'ds3_file', 'ds4_file'])\n",
    "else:\n",
    "    # 'APPEND' mode is assumed by default\n",
    "    try:\n",
    "        # Load existing DataFrame:\n",
    "        datasets = pd.read_csv(DATASETS_SUMMARY_FILE, sep=',', decimal='.')\n",
    "    except:\n",
    "        print(\"**WARNING: no previous dataset table was found.\\n\" \\\n",
    "              \"Switching to 'NEW' mode...\")\n",
    "        datasets = pd.DataFrame(columns=['ID', 'Pulsating', \\\n",
    "                                         'frequency', 'amplitudeRV', 'offsetRV', 'refepochRV', 'phase', \\\n",
    "                                         'D1_Ps', 'D1_Tobs', \\\n",
    "                                         'D2_noiseRV_mean', 'D2_noiseRV_median', 'D2_noiseRV_stdev', \\\n",
    "                                         'D3_samplingRV_idx', 'D3_PsRV_mean', 'D3_PsRV_median', \\\n",
    "                                         'D3_PsRV_stdev', 'D3_NumRV', \\\n",
    "                                         'D4_noiseRV_mean', 'D4_noiseRV_median', 'D4_noiseRV_stdev',\n",
    "                                         'ds1_file', 'ds2_file', 'ds3_file', 'ds4_file'])\n",
    "        "
   ]
  },
  {
   "cell_type": "code",
   "execution_count": 13,
   "id": "ef270c50",
   "metadata": {
    "ExecuteTime": {
     "end_time": "2022-04-26T12:07:15.594971Z",
     "start_time": "2022-04-26T12:07:15.580011Z"
    }
   },
   "outputs": [
    {
     "data": {
      "text/html": [
       "<div>\n",
       "<style scoped>\n",
       "    .dataframe tbody tr th:only-of-type {\n",
       "        vertical-align: middle;\n",
       "    }\n",
       "\n",
       "    .dataframe tbody tr th {\n",
       "        vertical-align: top;\n",
       "    }\n",
       "\n",
       "    .dataframe thead th {\n",
       "        text-align: right;\n",
       "    }\n",
       "</style>\n",
       "<table border=\"1\" class=\"dataframe\">\n",
       "  <thead>\n",
       "    <tr style=\"text-align: right;\">\n",
       "      <th></th>\n",
       "      <th>ID</th>\n",
       "      <th>Pulsating</th>\n",
       "      <th>frequency</th>\n",
       "      <th>amplitudeRV</th>\n",
       "      <th>offsetRV</th>\n",
       "      <th>refepochRV</th>\n",
       "      <th>phase</th>\n",
       "      <th>D1_Ps</th>\n",
       "      <th>D1_Tobs</th>\n",
       "      <th>D2_noiseRV_mean</th>\n",
       "      <th>...</th>\n",
       "      <th>D3_PsRV_median</th>\n",
       "      <th>D3_PsRV_stdev</th>\n",
       "      <th>D3_NumRV</th>\n",
       "      <th>D4_noiseRV_mean</th>\n",
       "      <th>D4_noiseRV_median</th>\n",
       "      <th>D4_noiseRV_stdev</th>\n",
       "      <th>ds1_file</th>\n",
       "      <th>ds2_file</th>\n",
       "      <th>ds3_file</th>\n",
       "      <th>ds4_file</th>\n",
       "    </tr>\n",
       "  </thead>\n",
       "  <tbody>\n",
       "  </tbody>\n",
       "</table>\n",
       "<p>0 rows × 24 columns</p>\n",
       "</div>"
      ],
      "text/plain": [
       "Empty DataFrame\n",
       "Columns: [ID, Pulsating, frequency, amplitudeRV, offsetRV, refepochRV, phase, D1_Ps, D1_Tobs, D2_noiseRV_mean, D2_noiseRV_median, D2_noiseRV_stdev, D3_samplingRV_idx, D3_PsRV_mean, D3_PsRV_median, D3_PsRV_stdev, D3_NumRV, D4_noiseRV_mean, D4_noiseRV_median, D4_noiseRV_stdev, ds1_file, ds2_file, ds3_file, ds4_file]\n",
       "Index: []\n",
       "\n",
       "[0 rows x 24 columns]"
      ]
     },
     "execution_count": 13,
     "metadata": {},
     "output_type": "execute_result"
    }
   ],
   "source": [
    "datasets"
   ]
  },
  {
   "cell_type": "markdown",
   "id": "6c9a41eb",
   "metadata": {},
   "source": [
    "### Create the samples of time series in each dataset"
   ]
  },
  {
   "cell_type": "code",
   "execution_count": 14,
   "id": "0a9ead97",
   "metadata": {
    "ExecuteTime": {
     "end_time": "2022-04-26T12:07:15.626888Z",
     "start_time": "2022-04-26T12:07:15.595969Z"
    }
   },
   "outputs": [
    {
     "data": {
      "text/html": [
       "<div>\n",
       "<style scoped>\n",
       "    .dataframe tbody tr th:only-of-type {\n",
       "        vertical-align: middle;\n",
       "    }\n",
       "\n",
       "    .dataframe tbody tr th {\n",
       "        vertical-align: top;\n",
       "    }\n",
       "\n",
       "    .dataframe thead th {\n",
       "        text-align: right;\n",
       "    }\n",
       "</style>\n",
       "<table border=\"1\" class=\"dataframe\">\n",
       "  <thead>\n",
       "    <tr style=\"text-align: right;\">\n",
       "      <th></th>\n",
       "      <th>sampling_delta_RV</th>\n",
       "    </tr>\n",
       "  </thead>\n",
       "  <tbody>\n",
       "    <tr>\n",
       "      <th>0</th>\n",
       "      <td>[0.0, 16.990309999790043, 34.978099999949336, ...</td>\n",
       "    </tr>\n",
       "    <tr>\n",
       "      <th>1</th>\n",
       "      <td>[0.0, 2.009560000151396, 10.982160000130534, 1...</td>\n",
       "    </tr>\n",
       "    <tr>\n",
       "      <th>2</th>\n",
       "      <td>[0.0, 11.003340000286698, 29.86382000008598, 5...</td>\n",
       "    </tr>\n",
       "    <tr>\n",
       "      <th>3</th>\n",
       "      <td>[0.0, 11.957520000170916, 47.87878999998793, 5...</td>\n",
       "    </tr>\n",
       "    <tr>\n",
       "      <th>4</th>\n",
       "      <td>[0.0, 17.016419999767095, 190.38824999984354, ...</td>\n",
       "    </tr>\n",
       "  </tbody>\n",
       "</table>\n",
       "</div>"
      ],
      "text/plain": [
       "                                   sampling_delta_RV\n",
       "0  [0.0, 16.990309999790043, 34.978099999949336, ...\n",
       "1  [0.0, 2.009560000151396, 10.982160000130534, 1...\n",
       "2  [0.0, 11.003340000286698, 29.86382000008598, 5...\n",
       "3  [0.0, 11.957520000170916, 47.87878999998793, 5...\n",
       "4  [0.0, 17.016419999767095, 190.38824999984354, ..."
      ]
     },
     "execution_count": 14,
     "metadata": {},
     "output_type": "execute_result"
    }
   ],
   "source": [
    "# Read the sampling patterns from the RV patterns file:\n",
    "rv_patterns = pd.read_csv(RV_PATTERNS_FILE)\n",
    "rv_patterns['sampling_delta_RV'] = rv_patterns['sampling_delta_RV'] \\\n",
    "    .map(lambda x: json.loads(x))\n",
    "rv_patterns.head()"
   ]
  },
  {
   "cell_type": "code",
   "execution_count": 15,
   "id": "3e7cb5e9",
   "metadata": {
    "ExecuteTime": {
     "end_time": "2022-04-26T12:07:33.058633Z",
     "start_time": "2022-04-26T12:07:15.627883Z"
    }
   },
   "outputs": [],
   "source": [
    "#for i in range(0, 1): # TEST\n",
    "#for i in range(0, 5): # TEST\n",
    "for i in range(len(datasets), len(datasets) + N):\n",
    "    #if True: # TEST\n",
    "    try:\n",
    "        step = \"Main parameters\"\n",
    "        # Set the record sequential ID and the pulsation characteristic:\n",
    "        record_id = \"RV-\" + str(i)\n",
    "        datasets.loc[i, 'ID'] = record_id\n",
    "        if np.asscalar(np.random.rand(1)) <= NON_PULSATION_FRACTION:\n",
    "            # Non-pulsating star:\n",
    "            datasets.loc[i, 'Pulsating'] = False\n",
    "            # Choose the main parameter values:\n",
    "            # (one value per record, shared by all 4 distributions)\n",
    "            # In this case, only the distributions for the offsetRV and refepochRV are used:\n",
    "            frequency = 0.0\n",
    "            amplitudeRV = 0.0\n",
    "            offsetRV = param_ranges['offsetRV'].generate(n=1, verbose=0)\n",
    "            refepochRV = param_ranges['refepochRV'].generate(n=1, verbose=0)\n",
    "            phase = 0.0\n",
    "            # Populate the dataset table with the basic parameters:\n",
    "            datasets.loc[i, 'frequency'] = frequency\n",
    "            datasets.loc[i, 'amplitudeRV'] = amplitudeRV\n",
    "            datasets.loc[i, 'offsetRV'] = np.asscalar(offsetRV)\n",
    "            datasets.loc[i, 'refepochRV'] = np.asscalar(refepochRV)\n",
    "            datasets.loc[i, 'phase'] = phase\n",
    "        else:\n",
    "            # Pulsating star:\n",
    "            datasets.loc[i, 'Pulsating'] = True\n",
    "            # Choose the main parameter values:\n",
    "            # (one value per record, shared by all 4 distributions)\n",
    "            # All the dsistributions are used to calculate random parameters:\n",
    "            frequency = param_ranges['frequency'].generate(n=1, verbose=0)\n",
    "            amplitudeRV = param_ranges['amplitudeRV'].generate(n=1, verbose=0)\n",
    "            offsetRV = param_ranges['offsetRV'].generate(n=1, verbose=0)\n",
    "            refepochRV = param_ranges['refepochRV'].generate(n=1, verbose=0)\n",
    "            phase = param_ranges['phase'].generate(n=1, verbose=0)\n",
    "            # Populate the dataset table with the basic parameters:\n",
    "            datasets.loc[i, 'frequency'] = np.asscalar(frequency)\n",
    "            datasets.loc[i, 'amplitudeRV'] = np.asscalar(amplitudeRV)\n",
    "            datasets.loc[i, 'offsetRV'] = np.asscalar(offsetRV)\n",
    "            datasets.loc[i, 'refepochRV'] = np.asscalar(refepochRV)\n",
    "            datasets.loc[i, 'phase'] = np.asscalar(phase)\n",
    "        \n",
    "        # DS1: Generate the benchmark (noiseless, perfectly sampled) time series:\n",
    "        step = \"DS1 calculation\"        \n",
    "        # Get the timestamps parameters (sampling period and observation time):\n",
    "        Ps = param_ranges['Ps']['fixed_value']\n",
    "        Tobs = param_ranges['Tobs']['fixed_value']\n",
    "        # Generate the timestamps (absolute values):\n",
    "        ds1_time = np.linspace(refepochRV, refepochRV+Tobs, int(Tobs/Ps) + 1, endpoint=True)\n",
    "        # Generate the values:\n",
    "        ds1_value = v_sample_value(t=ds1_time,\n",
    "                                   f=frequency, A=amplitudeRV, c=offsetRV, tau=refepochRV, delta=phase,\n",
    "                                   noise=0.0)\n",
    "        ds1_ts = np.stack([ds1_time, ds1_value], axis=1).reshape(-1,2)\n",
    "        # Create the DS1 filename:\n",
    "        ds1_file = DS1_FOLDER + \"DS1-RV-\" + record_id + \".dat\"\n",
    "        # Store the DS1 file:\n",
    "        np.savetxt(ds1_file, ds1_ts, delimiter=' ')\n",
    "        # Populate the dataset table with the relevant data for DS1:\n",
    "        datasets.loc[i, 'D1_Ps'] = Ps\n",
    "        datasets.loc[i, 'D1_Tobs'] = Tobs\n",
    "        datasets.loc[i, 'ds1_file'] = ds1_file\n",
    "        \n",
    "        # DS2: Generate the noise and create the noisy time series:\n",
    "        step = \"DS2 calculation\"        \n",
    "        # Generate a noise array equal in length to  DS1:\n",
    "        # (Note that the noise can be randomly positive or negative)\n",
    "        ds2_noise_value = np.random.choice([-1, 1], size=len(ds1_time)) * \\\n",
    "            param_ranges['noiseRV'].generate(n=len(ds1_time), verbose=0)\n",
    "        ds2_noise_value = ds2_noise_value.reshape(-1,1)\n",
    "        # Generate DS2 time series (just the sum of two series):\n",
    "        ds2_value = ds1_value + ds2_noise_value\n",
    "        ds2_ts = np.stack([ds1_time, ds2_value], axis=1).reshape(-1,2)\n",
    "        # Calculate noise stats:\n",
    "        ds2_noise_mean = np.asscalar(np.nanmean(ds2_noise_value.flatten()))\n",
    "        ds2_noise_median = np.asscalar(np.nanmedian(ds2_noise_value.flatten()))\n",
    "        ds2_noise_std = np.asscalar(np.nanstd(ds2_noise_value.flatten()))\n",
    "        # Create the DS2 filename:\n",
    "        ds2_file = DS2_FOLDER + \"DS2-RV-\" + record_id + \".dat\"\n",
    "        # Store the DS2 file:\n",
    "        np.savetxt(ds2_file, ds2_ts, delimiter=' ')\n",
    "        # Populate the dataset table with the relevant data for DS2:\n",
    "        datasets.loc[i, 'D2_noiseRV_mean'] = ds2_noise_mean\n",
    "        datasets.loc[i, 'D2_noiseRV_median'] = ds2_noise_median\n",
    "        datasets.loc[i, 'D2_noiseRV_stdev'] = ds2_noise_std\n",
    "        datasets.loc[i, 'ds2_file'] = ds2_file\n",
    "        \n",
    "        # DS3: Generate the imperfectly sampled time series:\n",
    "        step = \"DS3 calculation\"        \n",
    "        # Choose a random sampling pattern from the pool and generate the timestamps:\n",
    "        pattern_idx = np.asscalar(np.random.randint(low=0, high=len(rv_patterns), size=1))\n",
    "        rv_t_deltas = rv_patterns.iloc[pattern_idx, 0]\n",
    "        # Generate DS3 time series:\n",
    "        ds3_time = refepochRV + rv_t_deltas\n",
    "        ds3_value = v_sample_value(t=ds3_time,\n",
    "                                   f=frequency, A=amplitudeRV, c=offsetRV, tau=refepochRV, delta=phase,\n",
    "                                   noise=0.0)\n",
    "        ds3_ts = np.stack([ds3_time, ds3_value], axis=1).reshape(-1,2)\n",
    "\n",
    "        # Calculate sampling stats:\n",
    "        ds3_deltas = ds3_time[1:] - ds3_time[:-1]\n",
    "        ds3_PsRV_mean = np.asscalar(np.nanmean(ds3_deltas))\n",
    "        ds3_PsRV_median = np.asscalar(np.nanmedian(ds3_deltas))\n",
    "        ds3_PsRV_stdev = np.asscalar(np.std(ds3_deltas))\n",
    "        ds3_NumRV = len(ds3_time)\n",
    "        # Create the DS3 filename:\n",
    "        ds3_file = DS3_FOLDER + \"DS3-RV-\" + record_id + \".dat\"\n",
    "        # Store the DS3 file:\n",
    "        np.savetxt(ds3_file, ds3_ts, delimiter=' ')\n",
    "        # Populate the dataset table with the relevant data for DS3:\n",
    "        datasets.loc[i, 'D3_samplingRV_idx'] = pattern_idx\n",
    "        datasets.loc[i, 'D3_PsRV_mean'] = ds3_PsRV_mean\n",
    "        datasets.loc[i, 'D3_PsRV_median'] = ds3_PsRV_median\n",
    "        datasets.loc[i, 'D3_PsRV_stdev'] = ds3_PsRV_stdev\n",
    "        datasets.loc[i, 'D3_NumRV'] = ds3_NumRV\n",
    "        datasets.loc[i, 'ds3_file'] = ds3_file\n",
    "        \n",
    "        # DS4: Generate the noisy and imperfectly sampled time series:\n",
    "        step = \"DS4 calculation\"        \n",
    "        # Generate a noise array equal in length to DS3:\n",
    "        ds4_noise_value = np.random.choice([-1, 1], size=len(ds3_time)) * \\\n",
    "            param_ranges['noiseRV'].generate(n=len(ds3_time), verbose=0)\n",
    "        ds4_noise_value = ds4_noise_value.reshape(-1,1)\n",
    "        # Generate DS4 time series (just the sum of two series):\n",
    "        ds4_value = ds3_value + ds4_noise_value.reshape(-1,)\n",
    "        ds4_ts = np.stack([ds3_time, ds4_value], axis=1).reshape(-1,2)\n",
    "        # Calculate noise stats:\n",
    "        ds4_noise_mean = np.asscalar(np.nanmean(ds4_noise_value.flatten()))\n",
    "        ds4_noise_median = np.asscalar(np.nanmedian(ds4_noise_value.flatten()))\n",
    "        ds4_noise_std = np.asscalar(np.nanstd(ds4_noise_value.flatten()))\n",
    "        # Create the DS4 filename:\n",
    "        ds4_file = DS4_FOLDER + \"DS4-RV-\" + record_id + \".dat\"\n",
    "        # Store the DS2 file:\n",
    "        np.savetxt(ds4_file, ds4_ts, delimiter=' ')\n",
    "        # Populate the dataset table with the relevant data for DS4:\n",
    "        datasets.loc[i, 'D4_noiseRV_mean'] = ds4_noise_mean\n",
    "        datasets.loc[i, 'D4_noiseRV_median'] = ds4_noise_median\n",
    "        datasets.loc[i, 'D4_noiseRV_stdev'] = ds4_noise_std\n",
    "        datasets.loc[i, 'ds4_file'] = ds4_file\n",
    "    \n",
    "        # Store the dataset table so far:\n",
    "        datasets.to_csv(DATASETS_SUMMARY_FILE, sep=',', decimal='.', index=False)\n",
    "    \n",
    "    #else: # TEST\n",
    "    except Exception as e:\n",
    "        # Report any possible trouble:\n",
    "        print(\"***ERROR: some error happened when generating record %d, at step '%s' Error: %s\" \\\n",
    "              %(i, step, str(e)))\n",
    "\n",
    " "
   ]
  },
  {
   "cell_type": "code",
   "execution_count": 16,
   "id": "7e05a341",
   "metadata": {
    "ExecuteTime": {
     "end_time": "2022-04-26T12:07:33.090587Z",
     "start_time": "2022-04-26T12:07:33.060631Z"
    }
   },
   "outputs": [
    {
     "data": {
      "text/html": [
       "<div>\n",
       "<style scoped>\n",
       "    .dataframe tbody tr th:only-of-type {\n",
       "        vertical-align: middle;\n",
       "    }\n",
       "\n",
       "    .dataframe tbody tr th {\n",
       "        vertical-align: top;\n",
       "    }\n",
       "\n",
       "    .dataframe thead th {\n",
       "        text-align: right;\n",
       "    }\n",
       "</style>\n",
       "<table border=\"1\" class=\"dataframe\">\n",
       "  <thead>\n",
       "    <tr style=\"text-align: right;\">\n",
       "      <th></th>\n",
       "      <th>ID</th>\n",
       "      <th>Pulsating</th>\n",
       "      <th>frequency</th>\n",
       "      <th>amplitudeRV</th>\n",
       "      <th>offsetRV</th>\n",
       "      <th>refepochRV</th>\n",
       "      <th>phase</th>\n",
       "      <th>D1_Ps</th>\n",
       "      <th>D1_Tobs</th>\n",
       "      <th>D2_noiseRV_mean</th>\n",
       "      <th>...</th>\n",
       "      <th>D3_PsRV_median</th>\n",
       "      <th>D3_PsRV_stdev</th>\n",
       "      <th>D3_NumRV</th>\n",
       "      <th>D4_noiseRV_mean</th>\n",
       "      <th>D4_noiseRV_median</th>\n",
       "      <th>D4_noiseRV_stdev</th>\n",
       "      <th>ds1_file</th>\n",
       "      <th>ds2_file</th>\n",
       "      <th>ds3_file</th>\n",
       "      <th>ds4_file</th>\n",
       "    </tr>\n",
       "  </thead>\n",
       "  <tbody>\n",
       "    <tr>\n",
       "      <th>0</th>\n",
       "      <td>RV-0</td>\n",
       "      <td>True</td>\n",
       "      <td>54.703173</td>\n",
       "      <td>1.133098</td>\n",
       "      <td>640.476258</td>\n",
       "      <td>2457652.757682</td>\n",
       "      <td>0.737927</td>\n",
       "      <td>0.0025</td>\n",
       "      <td>0.25</td>\n",
       "      <td>0.24406</td>\n",
       "      <td>...</td>\n",
       "      <td>9.07285</td>\n",
       "      <td>83.352561</td>\n",
       "      <td>52</td>\n",
       "      <td>-0.416842</td>\n",
       "      <td>-0.659304</td>\n",
       "      <td>2.989282</td>\n",
       "      <td>./RV_DATASETS/DS1_ts_files/DS1-RV-RV-0.dat</td>\n",
       "      <td>./RV_DATASETS/DS2_ts_files/DS2-RV-RV-0.dat</td>\n",
       "      <td>./RV_DATASETS/DS3_ts_files/DS3-RV-RV-0.dat</td>\n",
       "      <td>./RV_DATASETS/DS4_ts_files/DS4-RV-RV-0.dat</td>\n",
       "    </tr>\n",
       "    <tr>\n",
       "      <th>1</th>\n",
       "      <td>RV-1</td>\n",
       "      <td>True</td>\n",
       "      <td>45.870515</td>\n",
       "      <td>0.945738</td>\n",
       "      <td>1392.825171</td>\n",
       "      <td>2458555.919112</td>\n",
       "      <td>0.604099</td>\n",
       "      <td>0.0025</td>\n",
       "      <td>0.25</td>\n",
       "      <td>-0.064906</td>\n",
       "      <td>...</td>\n",
       "      <td>11.596005</td>\n",
       "      <td>161.691684</td>\n",
       "      <td>9</td>\n",
       "      <td>0.779823</td>\n",
       "      <td>1.449257</td>\n",
       "      <td>2.049067</td>\n",
       "      <td>./RV_DATASETS/DS1_ts_files/DS1-RV-RV-1.dat</td>\n",
       "      <td>./RV_DATASETS/DS2_ts_files/DS2-RV-RV-1.dat</td>\n",
       "      <td>./RV_DATASETS/DS3_ts_files/DS3-RV-RV-1.dat</td>\n",
       "      <td>./RV_DATASETS/DS4_ts_files/DS4-RV-RV-1.dat</td>\n",
       "    </tr>\n",
       "    <tr>\n",
       "      <th>2</th>\n",
       "      <td>RV-2</td>\n",
       "      <td>False</td>\n",
       "      <td>0.0</td>\n",
       "      <td>0.0</td>\n",
       "      <td>1799.268703</td>\n",
       "      <td>2457478.540949</td>\n",
       "      <td>0.0</td>\n",
       "      <td>0.0025</td>\n",
       "      <td>0.25</td>\n",
       "      <td>0.299835</td>\n",
       "      <td>...</td>\n",
       "      <td>17.86763</td>\n",
       "      <td>200.840308</td>\n",
       "      <td>26</td>\n",
       "      <td>-0.334425</td>\n",
       "      <td>-0.653148</td>\n",
       "      <td>2.803447</td>\n",
       "      <td>./RV_DATASETS/DS1_ts_files/DS1-RV-RV-2.dat</td>\n",
       "      <td>./RV_DATASETS/DS2_ts_files/DS2-RV-RV-2.dat</td>\n",
       "      <td>./RV_DATASETS/DS3_ts_files/DS3-RV-RV-2.dat</td>\n",
       "      <td>./RV_DATASETS/DS4_ts_files/DS4-RV-RV-2.dat</td>\n",
       "    </tr>\n",
       "    <tr>\n",
       "      <th>3</th>\n",
       "      <td>RV-3</td>\n",
       "      <td>False</td>\n",
       "      <td>0.0</td>\n",
       "      <td>0.0</td>\n",
       "      <td>918.007885</td>\n",
       "      <td>2457611.735508</td>\n",
       "      <td>0.0</td>\n",
       "      <td>0.0025</td>\n",
       "      <td>0.25</td>\n",
       "      <td>0.032798</td>\n",
       "      <td>...</td>\n",
       "      <td>24.89643</td>\n",
       "      <td>66.240066</td>\n",
       "      <td>6</td>\n",
       "      <td>0.854171</td>\n",
       "      <td>1.319561</td>\n",
       "      <td>3.02131</td>\n",
       "      <td>./RV_DATASETS/DS1_ts_files/DS1-RV-RV-3.dat</td>\n",
       "      <td>./RV_DATASETS/DS2_ts_files/DS2-RV-RV-3.dat</td>\n",
       "      <td>./RV_DATASETS/DS3_ts_files/DS3-RV-RV-3.dat</td>\n",
       "      <td>./RV_DATASETS/DS4_ts_files/DS4-RV-RV-3.dat</td>\n",
       "    </tr>\n",
       "    <tr>\n",
       "      <th>4</th>\n",
       "      <td>RV-4</td>\n",
       "      <td>True</td>\n",
       "      <td>69.503227</td>\n",
       "      <td>1.447038</td>\n",
       "      <td>-1375.321599</td>\n",
       "      <td>2460177.095839</td>\n",
       "      <td>0.96217</td>\n",
       "      <td>0.0025</td>\n",
       "      <td>0.25</td>\n",
       "      <td>-0.403387</td>\n",
       "      <td>...</td>\n",
       "      <td>63.321765</td>\n",
       "      <td>303.823082</td>\n",
       "      <td>7</td>\n",
       "      <td>0.591993</td>\n",
       "      <td>-0.473597</td>\n",
       "      <td>3.343537</td>\n",
       "      <td>./RV_DATASETS/DS1_ts_files/DS1-RV-RV-4.dat</td>\n",
       "      <td>./RV_DATASETS/DS2_ts_files/DS2-RV-RV-4.dat</td>\n",
       "      <td>./RV_DATASETS/DS3_ts_files/DS3-RV-RV-4.dat</td>\n",
       "      <td>./RV_DATASETS/DS4_ts_files/DS4-RV-RV-4.dat</td>\n",
       "    </tr>\n",
       "    <tr>\n",
       "      <th>...</th>\n",
       "      <td>...</td>\n",
       "      <td>...</td>\n",
       "      <td>...</td>\n",
       "      <td>...</td>\n",
       "      <td>...</td>\n",
       "      <td>...</td>\n",
       "      <td>...</td>\n",
       "      <td>...</td>\n",
       "      <td>...</td>\n",
       "      <td>...</td>\n",
       "      <td>...</td>\n",
       "      <td>...</td>\n",
       "      <td>...</td>\n",
       "      <td>...</td>\n",
       "      <td>...</td>\n",
       "      <td>...</td>\n",
       "      <td>...</td>\n",
       "      <td>...</td>\n",
       "      <td>...</td>\n",
       "      <td>...</td>\n",
       "      <td>...</td>\n",
       "    </tr>\n",
       "    <tr>\n",
       "      <th>995</th>\n",
       "      <td>RV-995</td>\n",
       "      <td>True</td>\n",
       "      <td>50.578215</td>\n",
       "      <td>1.045599</td>\n",
       "      <td>-2951.769278</td>\n",
       "      <td>2458243.806888</td>\n",
       "      <td>0.675428</td>\n",
       "      <td>0.0025</td>\n",
       "      <td>0.25</td>\n",
       "      <td>0.097608</td>\n",
       "      <td>...</td>\n",
       "      <td>2.510675</td>\n",
       "      <td>47.51546</td>\n",
       "      <td>89</td>\n",
       "      <td>-0.133028</td>\n",
       "      <td>-0.439065</td>\n",
       "      <td>2.883577</td>\n",
       "      <td>./RV_DATASETS/DS1_ts_files/DS1-RV-RV-995.dat</td>\n",
       "      <td>./RV_DATASETS/DS2_ts_files/DS2-RV-RV-995.dat</td>\n",
       "      <td>./RV_DATASETS/DS3_ts_files/DS3-RV-RV-995.dat</td>\n",
       "      <td>./RV_DATASETS/DS4_ts_files/DS4-RV-RV-995.dat</td>\n",
       "    </tr>\n",
       "    <tr>\n",
       "      <th>996</th>\n",
       "      <td>RV-996</td>\n",
       "      <td>True</td>\n",
       "      <td>24.184941</td>\n",
       "      <td>0.485741</td>\n",
       "      <td>-557.31467</td>\n",
       "      <td>2457401.764973</td>\n",
       "      <td>0.275529</td>\n",
       "      <td>0.0025</td>\n",
       "      <td>0.25</td>\n",
       "      <td>-0.419609</td>\n",
       "      <td>...</td>\n",
       "      <td>30.1207</td>\n",
       "      <td>99.89972</td>\n",
       "      <td>20</td>\n",
       "      <td>-0.162378</td>\n",
       "      <td>-0.092082</td>\n",
       "      <td>2.66593</td>\n",
       "      <td>./RV_DATASETS/DS1_ts_files/DS1-RV-RV-996.dat</td>\n",
       "      <td>./RV_DATASETS/DS2_ts_files/DS2-RV-RV-996.dat</td>\n",
       "      <td>./RV_DATASETS/DS3_ts_files/DS3-RV-RV-996.dat</td>\n",
       "      <td>./RV_DATASETS/DS4_ts_files/DS4-RV-RV-996.dat</td>\n",
       "    </tr>\n",
       "    <tr>\n",
       "      <th>997</th>\n",
       "      <td>RV-997</td>\n",
       "      <td>True</td>\n",
       "      <td>49.281515</td>\n",
       "      <td>1.018093</td>\n",
       "      <td>-1082.541108</td>\n",
       "      <td>2457866.003759</td>\n",
       "      <td>0.655781</td>\n",
       "      <td>0.0025</td>\n",
       "      <td>0.25</td>\n",
       "      <td>-0.010446</td>\n",
       "      <td>...</td>\n",
       "      <td>3.02449</td>\n",
       "      <td>5.291362</td>\n",
       "      <td>44</td>\n",
       "      <td>-0.739068</td>\n",
       "      <td>-0.668975</td>\n",
       "      <td>3.434218</td>\n",
       "      <td>./RV_DATASETS/DS1_ts_files/DS1-RV-RV-997.dat</td>\n",
       "      <td>./RV_DATASETS/DS2_ts_files/DS2-RV-RV-997.dat</td>\n",
       "      <td>./RV_DATASETS/DS3_ts_files/DS3-RV-RV-997.dat</td>\n",
       "      <td>./RV_DATASETS/DS4_ts_files/DS4-RV-RV-997.dat</td>\n",
       "    </tr>\n",
       "    <tr>\n",
       "      <th>998</th>\n",
       "      <td>RV-998</td>\n",
       "      <td>False</td>\n",
       "      <td>0.0</td>\n",
       "      <td>0.0</td>\n",
       "      <td>642.214988</td>\n",
       "      <td>2457432.127324</td>\n",
       "      <td>0.0</td>\n",
       "      <td>0.0025</td>\n",
       "      <td>0.25</td>\n",
       "      <td>0.053715</td>\n",
       "      <td>...</td>\n",
       "      <td>5.97634</td>\n",
       "      <td>51.542677</td>\n",
       "      <td>51</td>\n",
       "      <td>-0.332379</td>\n",
       "      <td>-0.61885</td>\n",
       "      <td>1.976459</td>\n",
       "      <td>./RV_DATASETS/DS1_ts_files/DS1-RV-RV-998.dat</td>\n",
       "      <td>./RV_DATASETS/DS2_ts_files/DS2-RV-RV-998.dat</td>\n",
       "      <td>./RV_DATASETS/DS3_ts_files/DS3-RV-RV-998.dat</td>\n",
       "      <td>./RV_DATASETS/DS4_ts_files/DS4-RV-RV-998.dat</td>\n",
       "    </tr>\n",
       "    <tr>\n",
       "      <th>999</th>\n",
       "      <td>RV-999</td>\n",
       "      <td>False</td>\n",
       "      <td>0.0</td>\n",
       "      <td>0.0</td>\n",
       "      <td>-1463.648123</td>\n",
       "      <td>2457629.049781</td>\n",
       "      <td>0.0</td>\n",
       "      <td>0.0025</td>\n",
       "      <td>0.25</td>\n",
       "      <td>-0.410417</td>\n",
       "      <td>...</td>\n",
       "      <td>8.423345</td>\n",
       "      <td>38.585174</td>\n",
       "      <td>69</td>\n",
       "      <td>-0.02029</td>\n",
       "      <td>0.485215</td>\n",
       "      <td>2.984462</td>\n",
       "      <td>./RV_DATASETS/DS1_ts_files/DS1-RV-RV-999.dat</td>\n",
       "      <td>./RV_DATASETS/DS2_ts_files/DS2-RV-RV-999.dat</td>\n",
       "      <td>./RV_DATASETS/DS3_ts_files/DS3-RV-RV-999.dat</td>\n",
       "      <td>./RV_DATASETS/DS4_ts_files/DS4-RV-RV-999.dat</td>\n",
       "    </tr>\n",
       "  </tbody>\n",
       "</table>\n",
       "<p>1000 rows × 24 columns</p>\n",
       "</div>"
      ],
      "text/plain": [
       "         ID Pulsating  frequency amplitudeRV     offsetRV      refepochRV  \\\n",
       "0      RV-0      True  54.703173    1.133098   640.476258  2457652.757682   \n",
       "1      RV-1      True  45.870515    0.945738  1392.825171  2458555.919112   \n",
       "2      RV-2     False        0.0         0.0  1799.268703  2457478.540949   \n",
       "3      RV-3     False        0.0         0.0   918.007885  2457611.735508   \n",
       "4      RV-4      True  69.503227    1.447038 -1375.321599  2460177.095839   \n",
       "..      ...       ...        ...         ...          ...             ...   \n",
       "995  RV-995      True  50.578215    1.045599 -2951.769278  2458243.806888   \n",
       "996  RV-996      True  24.184941    0.485741   -557.31467  2457401.764973   \n",
       "997  RV-997      True  49.281515    1.018093 -1082.541108  2457866.003759   \n",
       "998  RV-998     False        0.0         0.0   642.214988  2457432.127324   \n",
       "999  RV-999     False        0.0         0.0 -1463.648123  2457629.049781   \n",
       "\n",
       "        phase   D1_Ps D1_Tobs D2_noiseRV_mean  ... D3_PsRV_median  \\\n",
       "0    0.737927  0.0025    0.25         0.24406  ...        9.07285   \n",
       "1    0.604099  0.0025    0.25       -0.064906  ...      11.596005   \n",
       "2         0.0  0.0025    0.25        0.299835  ...       17.86763   \n",
       "3         0.0  0.0025    0.25        0.032798  ...       24.89643   \n",
       "4     0.96217  0.0025    0.25       -0.403387  ...      63.321765   \n",
       "..        ...     ...     ...             ...  ...            ...   \n",
       "995  0.675428  0.0025    0.25        0.097608  ...       2.510675   \n",
       "996  0.275529  0.0025    0.25       -0.419609  ...        30.1207   \n",
       "997  0.655781  0.0025    0.25       -0.010446  ...        3.02449   \n",
       "998       0.0  0.0025    0.25        0.053715  ...        5.97634   \n",
       "999       0.0  0.0025    0.25       -0.410417  ...       8.423345   \n",
       "\n",
       "    D3_PsRV_stdev D3_NumRV D4_noiseRV_mean D4_noiseRV_median D4_noiseRV_stdev  \\\n",
       "0       83.352561       52       -0.416842         -0.659304         2.989282   \n",
       "1      161.691684        9        0.779823          1.449257         2.049067   \n",
       "2      200.840308       26       -0.334425         -0.653148         2.803447   \n",
       "3       66.240066        6        0.854171          1.319561          3.02131   \n",
       "4      303.823082        7        0.591993         -0.473597         3.343537   \n",
       "..            ...      ...             ...               ...              ...   \n",
       "995      47.51546       89       -0.133028         -0.439065         2.883577   \n",
       "996      99.89972       20       -0.162378         -0.092082          2.66593   \n",
       "997      5.291362       44       -0.739068         -0.668975         3.434218   \n",
       "998     51.542677       51       -0.332379          -0.61885         1.976459   \n",
       "999     38.585174       69        -0.02029          0.485215         2.984462   \n",
       "\n",
       "                                         ds1_file  \\\n",
       "0      ./RV_DATASETS/DS1_ts_files/DS1-RV-RV-0.dat   \n",
       "1      ./RV_DATASETS/DS1_ts_files/DS1-RV-RV-1.dat   \n",
       "2      ./RV_DATASETS/DS1_ts_files/DS1-RV-RV-2.dat   \n",
       "3      ./RV_DATASETS/DS1_ts_files/DS1-RV-RV-3.dat   \n",
       "4      ./RV_DATASETS/DS1_ts_files/DS1-RV-RV-4.dat   \n",
       "..                                            ...   \n",
       "995  ./RV_DATASETS/DS1_ts_files/DS1-RV-RV-995.dat   \n",
       "996  ./RV_DATASETS/DS1_ts_files/DS1-RV-RV-996.dat   \n",
       "997  ./RV_DATASETS/DS1_ts_files/DS1-RV-RV-997.dat   \n",
       "998  ./RV_DATASETS/DS1_ts_files/DS1-RV-RV-998.dat   \n",
       "999  ./RV_DATASETS/DS1_ts_files/DS1-RV-RV-999.dat   \n",
       "\n",
       "                                         ds2_file  \\\n",
       "0      ./RV_DATASETS/DS2_ts_files/DS2-RV-RV-0.dat   \n",
       "1      ./RV_DATASETS/DS2_ts_files/DS2-RV-RV-1.dat   \n",
       "2      ./RV_DATASETS/DS2_ts_files/DS2-RV-RV-2.dat   \n",
       "3      ./RV_DATASETS/DS2_ts_files/DS2-RV-RV-3.dat   \n",
       "4      ./RV_DATASETS/DS2_ts_files/DS2-RV-RV-4.dat   \n",
       "..                                            ...   \n",
       "995  ./RV_DATASETS/DS2_ts_files/DS2-RV-RV-995.dat   \n",
       "996  ./RV_DATASETS/DS2_ts_files/DS2-RV-RV-996.dat   \n",
       "997  ./RV_DATASETS/DS2_ts_files/DS2-RV-RV-997.dat   \n",
       "998  ./RV_DATASETS/DS2_ts_files/DS2-RV-RV-998.dat   \n",
       "999  ./RV_DATASETS/DS2_ts_files/DS2-RV-RV-999.dat   \n",
       "\n",
       "                                         ds3_file  \\\n",
       "0      ./RV_DATASETS/DS3_ts_files/DS3-RV-RV-0.dat   \n",
       "1      ./RV_DATASETS/DS3_ts_files/DS3-RV-RV-1.dat   \n",
       "2      ./RV_DATASETS/DS3_ts_files/DS3-RV-RV-2.dat   \n",
       "3      ./RV_DATASETS/DS3_ts_files/DS3-RV-RV-3.dat   \n",
       "4      ./RV_DATASETS/DS3_ts_files/DS3-RV-RV-4.dat   \n",
       "..                                            ...   \n",
       "995  ./RV_DATASETS/DS3_ts_files/DS3-RV-RV-995.dat   \n",
       "996  ./RV_DATASETS/DS3_ts_files/DS3-RV-RV-996.dat   \n",
       "997  ./RV_DATASETS/DS3_ts_files/DS3-RV-RV-997.dat   \n",
       "998  ./RV_DATASETS/DS3_ts_files/DS3-RV-RV-998.dat   \n",
       "999  ./RV_DATASETS/DS3_ts_files/DS3-RV-RV-999.dat   \n",
       "\n",
       "                                         ds4_file  \n",
       "0      ./RV_DATASETS/DS4_ts_files/DS4-RV-RV-0.dat  \n",
       "1      ./RV_DATASETS/DS4_ts_files/DS4-RV-RV-1.dat  \n",
       "2      ./RV_DATASETS/DS4_ts_files/DS4-RV-RV-2.dat  \n",
       "3      ./RV_DATASETS/DS4_ts_files/DS4-RV-RV-3.dat  \n",
       "4      ./RV_DATASETS/DS4_ts_files/DS4-RV-RV-4.dat  \n",
       "..                                            ...  \n",
       "995  ./RV_DATASETS/DS4_ts_files/DS4-RV-RV-995.dat  \n",
       "996  ./RV_DATASETS/DS4_ts_files/DS4-RV-RV-996.dat  \n",
       "997  ./RV_DATASETS/DS4_ts_files/DS4-RV-RV-997.dat  \n",
       "998  ./RV_DATASETS/DS4_ts_files/DS4-RV-RV-998.dat  \n",
       "999  ./RV_DATASETS/DS4_ts_files/DS4-RV-RV-999.dat  \n",
       "\n",
       "[1000 rows x 24 columns]"
      ]
     },
     "execution_count": 16,
     "metadata": {},
     "output_type": "execute_result"
    }
   ],
   "source": [
    "datasets"
   ]
  },
  {
   "cell_type": "markdown",
   "id": "988d3740",
   "metadata": {},
   "source": [
    "### Show the last curves generated"
   ]
  },
  {
   "cell_type": "markdown",
   "id": "dd128ef3",
   "metadata": {
    "ExecuteTime": {
     "end_time": "2022-04-23T12:00:02.854745Z",
     "start_time": "2022-04-23T12:00:02.843744Z"
    }
   },
   "source": [
    "#### Basic parameters of the curve"
   ]
  },
  {
   "cell_type": "code",
   "execution_count": 17,
   "id": "1d3c2677",
   "metadata": {
    "ExecuteTime": {
     "end_time": "2022-04-26T12:07:33.106150Z",
     "start_time": "2022-04-26T12:07:33.091585Z"
    }
   },
   "outputs": [
    {
     "name": "stdout",
     "output_type": "stream",
     "text": [
      "PARAMETERS OF THE CURVE:\n",
      "Star type: Non-pulsating star\n",
      "Amplitude: 0.000000\n",
      "Frequency: 0.000000\n",
      "Reference epoch: 2457629.049781\n",
      "Phase: 0.000000\n",
      "Offset: -1463.648123\n",
      "Benchmark (perfect) sampling period: 0.002500\n",
      "Benchmark (perfect) observation time: 0.250000\n"
     ]
    }
   ],
   "source": [
    "# Basic parameters:\n",
    "print(\"PARAMETERS OF THE CURVE:\")\n",
    "if datasets.loc[i, 'Pulsating'] == True:\n",
    "    print(\"Star type: Pulsating star\")\n",
    "    print(\"Amplitude: %f\" %amplitudeRV[0])\n",
    "    print(\"Frequency: %f\" %frequency[0])\n",
    "    print(\"Reference epoch: %f\" %refepochRV[0])\n",
    "    print(\"Phase: %f\" %phase[0])\n",
    "    print(\"Offset: %f\" %offsetRV[0])\n",
    "    print(\"Benchmark (perfect) sampling period: %f\" %Ps)\n",
    "    print(\"Benchmark (perfect) observation time: %f\" %Tobs)\n",
    "else:\n",
    "    print(\"Star type: Non-pulsating star\")\n",
    "    print(\"Amplitude: %f\" %amplitudeRV)\n",
    "    print(\"Frequency: %f\" %frequency)\n",
    "    print(\"Reference epoch: %f\" %refepochRV[0])\n",
    "    print(\"Phase: %f\" %phase)\n",
    "    print(\"Offset: %f\" %offsetRV[0])\n",
    "    print(\"Benchmark (perfect) sampling period: %f\" %Ps)\n",
    "    print(\"Benchmark (perfect) observation time: %f\" %Tobs)    "
   ]
  },
  {
   "cell_type": "markdown",
   "id": "9a1efd00",
   "metadata": {},
   "source": [
    "#### Simplified, quick plots"
   ]
  },
  {
   "cell_type": "code",
   "execution_count": 18,
   "id": "b4a71a8d",
   "metadata": {
    "ExecuteTime": {
     "end_time": "2022-04-26T12:07:33.308489Z",
     "start_time": "2022-04-26T12:07:33.107148Z"
    }
   },
   "outputs": [
    {
     "data": {
      "text/plain": [
       "[<matplotlib.lines.Line2D at 0x1a4cf87d850>]"
      ]
     },
     "execution_count": 18,
     "metadata": {},
     "output_type": "execute_result"
    },
    {
     "data": {
      "image/png": "[encoded data removed]",
      "text/plain": [
       "<Figure size 432x288 with 1 Axes>"
      ]
     },
     "metadata": {},
     "output_type": "display_data"
    }
   ],
   "source": [
    "# DS1 benchmark curve:\n",
    "plt.plot(ds1_time, ds1_value)"
   ]
  },
  {
   "cell_type": "code",
   "execution_count": 20,
   "id": "f659e59e",
   "metadata": {
    "ExecuteTime": {
     "end_time": "2022-04-26T14:58:12.983222Z",
     "start_time": "2022-04-26T14:58:12.849824Z"
    }
   },
   "outputs": [
    {
     "data": {
      "image/png": "[encoded data removed]",
      "text/plain": [
       "<Figure size 432x288 with 1 Axes>"
      ]
     },
     "metadata": {},
     "output_type": "display_data"
    }
   ],
   "source": [
    "# DS1 benchmark curve - Only 1 period:\n",
    "try:\n",
    "    # Pulsating star:\n",
    "    plt.plot(ds1_time, ds1_value)\n",
    "    plt.xlim(ds1_time.min(), ds1_time.min()+1/frequency[0])\n",
    "except:\n",
    "    # Non pulsating star:\n",
    "    plt.plot(ds1_time, ds1_value)\n",
    "    #plt.xlim(ds1_time.min(), ds1_time.min()+1/frequency)    "
   ]
  },
  {
   "cell_type": "code",
   "execution_count": 21,
   "id": "a26b32a8",
   "metadata": {
    "ExecuteTime": {
     "end_time": "2022-04-26T14:58:17.106214Z",
     "start_time": "2022-04-26T14:58:16.961568Z"
    }
   },
   "outputs": [
    {
     "data": {
      "image/png": "[encoded data removed]",
      "text/plain": [
       "<Figure size 432x288 with 1 Axes>"
      ]
     },
     "metadata": {},
     "output_type": "display_data"
    }
   ],
   "source": [
    "# DS1 and DS2 curves:\n",
    "plt.plot(ds1_time, ds1_value, label='DS1')\n",
    "plt.plot(ds1_time, ds2_value, label='DS2')\n",
    "plt.legend()\n",
    "plt.show();"
   ]
  },
  {
   "cell_type": "code",
   "execution_count": 22,
   "id": "267979e3",
   "metadata": {
    "ExecuteTime": {
     "end_time": "2022-04-26T14:58:19.339488Z",
     "start_time": "2022-04-26T14:58:19.177359Z"
    }
   },
   "outputs": [
    {
     "data": {
      "image/png": "[encoded data removed]",
      "text/plain": [
       "<Figure size 432x288 with 1 Axes>"
      ]
     },
     "metadata": {},
     "output_type": "display_data"
    }
   ],
   "source": [
    "# DS3 and DS4 curves:\n",
    "plt.plot(ds3_time, ds3_value, label='DS3')\n",
    "plt.plot(ds3_time, ds4_value, label='DS4')\n",
    "plt.legend()\n",
    "plt.show();"
   ]
  },
  {
   "cell_type": "markdown",
   "id": "703bcc34",
   "metadata": {},
   "source": [
    "#### More elaborated plots"
   ]
  },
  {
   "cell_type": "code",
   "execution_count": 23,
   "id": "a3b34f17",
   "metadata": {
    "ExecuteTime": {
     "end_time": "2022-04-26T14:59:32.653747Z",
     "start_time": "2022-04-26T14:59:32.049483Z"
    }
   },
   "outputs": [
    {
     "data": {
      "image/png": "[encoded data removed]",
      "text/plain": [
       "<Figure size 720x504 with 1 Axes>"
      ]
     },
     "metadata": {},
     "output_type": "display_data"
    }
   ],
   "source": [
    "# DS1 and DS2 curves:\n",
    "plt.figure(figsize=(10,7))\n",
    "plt.title(\"Example - Synthetic curves generated with CARMENES parameters\\n(Non-pulsating star. Noiseless curve and noisy curve)\", fontsize=16)\n",
    "plt.grid(axis='both', alpha=0.75)\n",
    "plt.xlabel(\"Time [JD]\", fontsize=12)\n",
    "plt.ylabel('RV [$ms^{-1}$]', fontsize=12)\n",
    "sns.lineplot(x=ds1_time.flatten(), y=ds1_value.flatten(), label='DS1 - Noiseless curve')\n",
    "sns.lineplot(x=ds1_time.flatten(), y=ds2_value.flatten(), label='DS2 - Noisy curve')\n",
    "plt.savefig(IMAGE_FOLDER + \"SyntheticDataset_20_01B_Example_Synthetic_curves_CARMENES_DS1_DS2.png\", format='png')\n",
    "plt.show();"
   ]
  },
  {
   "cell_type": "code",
   "execution_count": 24,
   "id": "3fdf5507",
   "metadata": {
    "ExecuteTime": {
     "end_time": "2022-04-26T14:59:35.655773Z",
     "start_time": "2022-04-26T14:59:35.329600Z"
    }
   },
   "outputs": [
    {
     "data": {
      "image/png": "[encoded data removed]",
      "text/plain": [
       "<Figure size 720x504 with 1 Axes>"
      ]
     },
     "metadata": {},
     "output_type": "display_data"
    }
   ],
   "source": [
    "# DS3 and DS4 curves:\n",
    "plt.figure(figsize=(10,7))\n",
    "plt.title(\"Example - Synthetic curves generated with CARMENES parameters\\n\" \\\n",
    "          \"(Non-pulsating star. Irregularly sampled curves: noiseless and noisy)\", fontsize=16)\n",
    "plt.grid(axis='both', alpha=0.75)\n",
    "plt.xlabel(\"Time [JD]\", fontsize=12)\n",
    "plt.ylabel('RV [$ms^{-1}$]', fontsize=12)\n",
    "sns.lineplot(x=ds3_time.flatten(), y=ds3_value.flatten(), label='DS3 - Irregularly sampled, noiseless curve')\n",
    "sns.lineplot(x=ds3_time.flatten(), y=ds4_value.flatten(), label='DS4 - Irregularly sampled, noisy curve')\n",
    "plt.savefig(IMAGE_FOLDER + \"SyntheticDataset_20_02B_Example_Synthetic_curves_CARMENES_DS3_DS4.png\", format='png')\n",
    "plt.show();"
   ]
  },
  {
   "cell_type": "code",
   "execution_count": null,
   "id": "8fdb5610",
   "metadata": {},
   "outputs": [],
   "source": []
  }
 ],
 "metadata": {
  "kernelspec": {
   "display_name": "Python 3",
   "language": "python",
   "name": "python3"
  },
  "language_info": {
   "codemirror_mode": {
    "name": "ipython",
    "version": 3
   },
   "file_extension": ".py",
   "mimetype": "text/x-python",
   "name": "python",
   "nbconvert_exporter": "python",
   "pygments_lexer": "ipython3",
   "version": "3.8.8"
  },
  "toc": {
   "base_numbering": 1,
   "nav_menu": {},
   "number_sections": true,
   "sideBar": true,
   "skip_h1_title": true,
   "title_cell": "Table of Contents",
   "title_sidebar": "Contents",
   "toc_cell": false,
   "toc_position": {
    "height": "calc(100% - 180px)",
    "left": "10px",
    "top": "150px",
    "width": "384px"
   },
   "toc_section_display": true,
   "toc_window_display": true
  }
 },
 "nbformat": 4,
 "nbformat_minor": 5
}
